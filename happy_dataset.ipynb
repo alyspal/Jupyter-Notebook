{
 "cells": [
  {
   "cell_type": "code",
   "execution_count": 57,
   "id": "de0c7c8a",
   "metadata": {},
   "outputs": [],
   "source": [
    "library(readxl)"
   ]
  },
  {
   "cell_type": "code",
   "execution_count": 58,
   "id": "fa42d21f",
   "metadata": {},
   "outputs": [],
   "source": [
    "library(dplyr)"
   ]
  },
  {
   "cell_type": "code",
   "execution_count": 59,
   "id": "03e44f01",
   "metadata": {},
   "outputs": [],
   "source": [
    "library(caTools)"
   ]
  },
  {
   "cell_type": "code",
   "execution_count": 72,
   "id": "59354cdf",
   "metadata": {},
   "outputs": [
    {
     "name": "stderr",
     "output_type": "stream",
     "text": [
      "also installing the dependency 'gdata'\n",
      "\n"
     ]
    },
    {
     "name": "stdout",
     "output_type": "stream",
     "text": [
      "package 'gdata' successfully unpacked and MD5 sums checked\n",
      "package 'gmodels' successfully unpacked and MD5 sums checked\n",
      "\n",
      "The downloaded binary packages are in\n",
      "\tC:\\Users\\user\\AppData\\Local\\Temp\\Rtmp42C6P9\\downloaded_packages\n"
     ]
    },
    {
     "name": "stderr",
     "output_type": "stream",
     "text": [
      "Warning message:\n",
      "\"package 'gmodels' was built under R version 3.6.3\""
     ]
    }
   ],
   "source": [
    "#install required packages\n",
    "install.packages('gmodels')\n",
    "#import required library \n",
    "library(gmodels)"
   ]
  },
  {
   "cell_type": "code",
   "execution_count": 6,
   "id": "f77682e2",
   "metadata": {},
   "outputs": [
    {
     "data": {
      "text/html": [
       "<table>\n",
       "<thead><tr><th scope=col>D</th><th scope=col>X1</th><th scope=col>X2</th><th scope=col>X3</th><th scope=col>X4</th><th scope=col>X5</th><th scope=col>X6</th></tr></thead>\n",
       "<tbody>\n",
       "\t<tr><td>0</td><td>3</td><td>3</td><td>3</td><td>4</td><td>2</td><td>4</td></tr>\n",
       "\t<tr><td>0</td><td>3</td><td>2</td><td>3</td><td>5</td><td>4</td><td>3</td></tr>\n",
       "\t<tr><td>1</td><td>5</td><td>3</td><td>3</td><td>3</td><td>3</td><td>5</td></tr>\n",
       "\t<tr><td>0</td><td>5</td><td>4</td><td>3</td><td>3</td><td>3</td><td>5</td></tr>\n",
       "\t<tr><td>0</td><td>5</td><td>4</td><td>3</td><td>3</td><td>3</td><td>5</td></tr>\n",
       "\t<tr><td>1</td><td>5</td><td>5</td><td>3</td><td>5</td><td>5</td><td>5</td></tr>\n",
       "</tbody>\n",
       "</table>\n"
      ],
      "text/latex": [
       "\\begin{tabular}{r|lllllll}\n",
       " D & X1 & X2 & X3 & X4 & X5 & X6\\\\\n",
       "\\hline\n",
       "\t 0 & 3 & 3 & 3 & 4 & 2 & 4\\\\\n",
       "\t 0 & 3 & 2 & 3 & 5 & 4 & 3\\\\\n",
       "\t 1 & 5 & 3 & 3 & 3 & 3 & 5\\\\\n",
       "\t 0 & 5 & 4 & 3 & 3 & 3 & 5\\\\\n",
       "\t 0 & 5 & 4 & 3 & 3 & 3 & 5\\\\\n",
       "\t 1 & 5 & 5 & 3 & 5 & 5 & 5\\\\\n",
       "\\end{tabular}\n"
      ],
      "text/markdown": [
       "\n",
       "| D | X1 | X2 | X3 | X4 | X5 | X6 |\n",
       "|---|---|---|---|---|---|---|\n",
       "| 0 | 3 | 3 | 3 | 4 | 2 | 4 |\n",
       "| 0 | 3 | 2 | 3 | 5 | 4 | 3 |\n",
       "| 1 | 5 | 3 | 3 | 3 | 3 | 5 |\n",
       "| 0 | 5 | 4 | 3 | 3 | 3 | 5 |\n",
       "| 0 | 5 | 4 | 3 | 3 | 3 | 5 |\n",
       "| 1 | 5 | 5 | 3 | 5 | 5 | 5 |\n",
       "\n"
      ],
      "text/plain": [
       "  D X1 X2 X3 X4 X5 X6\n",
       "1 0 3  3  3  4  2  4 \n",
       "2 0 3  2  3  5  4  3 \n",
       "3 1 5  3  3  3  3  5 \n",
       "4 0 5  4  3  3  3  5 \n",
       "5 0 5  4  3  3  3  5 \n",
       "6 1 5  5  3  5  5  5 "
      ]
     },
     "metadata": {},
     "output_type": "display_data"
    }
   ],
   "source": [
    "dataset_happy_dmkm<-read_excel(\"dataset_happy_dmkm.xlsx\")\n",
    "data_happy<-dataset_happy_dmkm\n",
    "head(data_happy)"
   ]
  },
  {
   "cell_type": "code",
   "execution_count": 4,
   "id": "fd8e6627",
   "metadata": {},
   "outputs": [
    {
     "data": {
      "text/html": [
       "FALSE"
      ],
      "text/latex": [
       "FALSE"
      ],
      "text/markdown": [
       "FALSE"
      ],
      "text/plain": [
       "[1] FALSE"
      ]
     },
     "metadata": {},
     "output_type": "display_data"
    }
   ],
   "source": [
    "#Pengecekan Missing Value\n",
    "#Jika false, data tidak terdapat missing value.\n",
    "#Jika true, data perlu dilakukan cleaning\n",
    "\n",
    "any(is.na(data_happy))"
   ]
  },
  {
   "cell_type": "code",
   "execution_count": 21,
   "id": "dca4be48",
   "metadata": {},
   "outputs": [
    {
     "data": {
      "text/html": [
       "<table>\n",
       "<thead><tr><th scope=col>D</th><th scope=col>n</th></tr></thead>\n",
       "<tbody>\n",
       "\t<tr><td>0 </td><td>66</td></tr>\n",
       "\t<tr><td>1 </td><td>77</td></tr>\n",
       "</tbody>\n",
       "</table>\n"
      ],
      "text/latex": [
       "\\begin{tabular}{r|ll}\n",
       " D & n\\\\\n",
       "\\hline\n",
       "\t 0  & 66\\\\\n",
       "\t 1  & 77\\\\\n",
       "\\end{tabular}\n"
      ],
      "text/markdown": [
       "\n",
       "| D | n |\n",
       "|---|---|\n",
       "| 0  | 66 |\n",
       "| 1  | 77 |\n",
       "\n"
      ],
      "text/plain": [
       "  D n \n",
       "1 0 66\n",
       "2 1 77"
      ]
     },
     "metadata": {},
     "output_type": "display_data"
    }
   ],
   "source": [
    "count(data_happy,D)"
   ]
  },
  {
   "cell_type": "code",
   "execution_count": 26,
   "id": "8dd5a6c2",
   "metadata": {},
   "outputs": [
    {
     "data": {
      "image/png": "[encoded data removed]",
      "text/plain": [
       "Plot with title \"Happy\""
      ]
     },
     "metadata": {},
     "output_type": "display_data"
    }
   ],
   "source": [
    "#Mengecek apakah data imbalance atau tidak\n",
    "\n",
    "counts <- table(data_happy$D)\n",
    "barplot(counts, main=\"Happy\",\n",
    "   ylab=\"People\",\n",
    "   ylim=c(0,100))"
   ]
  },
  {
   "cell_type": "code",
   "execution_count": null,
   "id": "63346803",
   "metadata": {},
   "outputs": [],
   "source": [
    "#Mengubah jenis atribut menjadi faktor\n",
    "\n",
    "data_happy$D=factor(data_happy$D)\n",
    "data_happy$X1=factor(data_happy$X1)\n",
    "data_happy$X2=factor(data_happy$X2)\n",
    "data_happy$X3=factor(data_happy$X3)\n",
    "data_happy$X4=factor(data_happy$X4)\n",
    "data_happy$X5=factor(data_happy$X5)\n",
    "data_happy$X6=factor(data_happy$X6)"
   ]
  },
  {
   "cell_type": "code",
   "execution_count": 50,
   "id": "7789f027",
   "metadata": {},
   "outputs": [
    {
     "name": "stdout",
     "output_type": "stream",
     "text": [
      "[1] \"Jumlah Training Set 115 | Jumlah Testing Set:  28\"\n"
     ]
    }
   ],
   "source": [
    "#Membagi dataset menjadi data training dan data testing\n",
    "\n",
    "set.seed(101)\n",
    "split=sample.split(data_happy$D, SplitRatio=0.8)\n",
    "train_set=subset(data_happy, split==TRUE)\n",
    "test_set=subset(data_happy, split==FALSE)\n",
    "print(paste(\"Jumlah Training Set\", nrow(train_set), \"| Jumlah Testing Set: \",\n",
    "           nrow(test_set)))"
   ]
  },
  {
   "cell_type": "code",
   "execution_count": 51,
   "id": "bfd363f6",
   "metadata": {},
   "outputs": [
    {
     "data": {
      "text/plain": [
       "\n",
       "Call:\n",
       "glm(formula = D ~ ., family = binomial(link = \"logit\"), data = train_set)\n",
       "\n",
       "Deviance Residuals: \n",
       "    Min       1Q   Median       3Q      Max  \n",
       "-1.6202  -1.1580   0.7889   1.0025   1.6311  \n",
       "\n",
       "Coefficients:\n",
       "             Estimate Std. Error z value Pr(>|z|)   \n",
       "(Intercept) -3.844279   1.466728  -2.621  0.00877 **\n",
       "X1           0.511332   0.288106   1.775  0.07593 . \n",
       "X2          -0.011952   0.177807  -0.067  0.94641   \n",
       "X3           0.089092   0.219743   0.405  0.68516   \n",
       "X4           0.002948   0.235420   0.013  0.99001   \n",
       "X5           0.086556   0.191113   0.453  0.65062   \n",
       "X6           0.292438   0.269886   1.084  0.27856   \n",
       "---\n",
       "Signif. codes:  0 '***' 0.001 '**' 0.01 '*' 0.05 '.' 0.1 ' ' 1\n",
       "\n",
       "(Dispersion parameter for binomial family taken to be 1)\n",
       "\n",
       "    Null deviance: 158.72  on 114  degrees of freedom\n",
       "Residual deviance: 147.83  on 108  degrees of freedom\n",
       "AIC: 161.83\n",
       "\n",
       "Number of Fisher Scoring iterations: 4\n"
      ]
     },
     "metadata": {},
     "output_type": "display_data"
    },
    {
     "data": {
      "text/html": [
       "<dl class=dl-horizontal>\n",
       "\t<dt>(Intercept)</dt>\n",
       "\t\t<dd>-3.84427864255028</dd>\n",
       "\t<dt>X1</dt>\n",
       "\t\t<dd>0.51133209298242</dd>\n",
       "\t<dt>X2</dt>\n",
       "\t\t<dd>-0.0119523811800932</dd>\n",
       "\t<dt>X3</dt>\n",
       "\t\t<dd>0.0890920972037321</dd>\n",
       "\t<dt>X4</dt>\n",
       "\t\t<dd>0.00294770043951942</dd>\n",
       "\t<dt>X5</dt>\n",
       "\t\t<dd>0.0865561617751237</dd>\n",
       "\t<dt>X6</dt>\n",
       "\t\t<dd>0.292437799293925</dd>\n",
       "</dl>\n"
      ],
      "text/latex": [
       "\\begin{description*}\n",
       "\\item[(Intercept)] -3.84427864255028\n",
       "\\item[X1] 0.51133209298242\n",
       "\\item[X2] -0.0119523811800932\n",
       "\\item[X3] 0.0890920972037321\n",
       "\\item[X4] 0.00294770043951942\n",
       "\\item[X5] 0.0865561617751237\n",
       "\\item[X6] 0.292437799293925\n",
       "\\end{description*}\n"
      ],
      "text/markdown": [
       "(Intercept)\n",
       ":   -3.84427864255028X1\n",
       ":   0.51133209298242X2\n",
       ":   -0.0119523811800932X3\n",
       ":   0.0890920972037321X4\n",
       ":   0.00294770043951942X5\n",
       ":   0.0865561617751237X6\n",
       ":   0.292437799293925\n",
       "\n"
      ],
      "text/plain": [
       "(Intercept)          X1          X2          X3          X4          X5 \n",
       "-3.84427864  0.51133209 -0.01195238  0.08909210  0.00294770  0.08655616 \n",
       "         X6 \n",
       " 0.29243780 "
      ]
     },
     "metadata": {},
     "output_type": "display_data"
    }
   ],
   "source": [
    "#Membuat model regresi\n",
    "\n",
    "model_happy=glm(formula=D~., family=binomial(link=\"logit\"), data=train_set)\n",
    "summary(model_happy)\n",
    "coef(model_happy)"
   ]
  },
  {
   "cell_type": "code",
   "execution_count": 52,
   "id": "eccb904b",
   "metadata": {},
   "outputs": [
    {
     "name": "stdout",
     "output_type": "stream",
     "text": [
      "        1         2         3         4         5         6         7         8 \n",
      "0.6987063 0.7220301 0.4228108 0.7055887 0.5153152 0.2627843 0.5653093 0.7005986 \n",
      "        9        10        11        12        13        14        15        16 \n",
      "0.6456329 0.4235304 0.4469809 0.6127224 0.4684618 0.5231269 0.4243560 0.7325872 \n",
      "       17        18        19        20        21        22        23        24 \n",
      "0.4678304 0.3451108 0.5153152 0.5944700 0.3452039 0.6652693 0.7366727 0.7418485 \n",
      "       25        26        27        28 \n",
      "0.5476257 0.6611910 0.6822227 0.5628344 \n"
     ]
    }
   ],
   "source": [
    "#Evaluasi Model\n",
    "\n",
    "evaluasi=predict(model_happy, newdata=test_set, type='response')\n",
    "hasil=ifelse(evaluasi>0.05,1.0)\n",
    "print(evaluasi)"
   ]
  },
  {
   "cell_type": "code",
   "execution_count": 74,
   "id": "8c44bc4b",
   "metadata": {},
   "outputs": [
    {
     "data": {
      "text/plain": [
       "   \n",
       "    FALSE TRUE\n",
       "  0     7    6\n",
       "  1     2   13"
      ]
     },
     "metadata": {},
     "output_type": "display_data"
    },
    {
     "name": "stdout",
     "output_type": "stream",
     "text": [
      "\n",
      " \n",
      "   Cell Contents\n",
      "|-------------------------|\n",
      "|                       N |\n",
      "| Chi-square contribution |\n",
      "|           N / Row Total |\n",
      "|           N / Col Total |\n",
      "|         N / Table Total |\n",
      "|-------------------------|\n",
      "\n",
      " \n",
      "Total Observations in Table:  28 \n",
      "\n",
      " \n",
      "             | evaluasi > 0.5 \n",
      "  test_set$D |     FALSE |      TRUE | Row Total | \n",
      "-------------|-----------|-----------|-----------|\n",
      "           0 |         7 |         6 |        13 | \n",
      "             |     1.905 |     0.902 |           | \n",
      "             |     0.538 |     0.462 |     0.464 | \n",
      "             |     0.778 |     0.316 |           | \n",
      "             |     0.250 |     0.214 |           | \n",
      "-------------|-----------|-----------|-----------|\n",
      "           1 |         2 |        13 |        15 | \n",
      "             |     1.651 |     0.782 |           | \n",
      "             |     0.133 |     0.867 |     0.536 | \n",
      "             |     0.222 |     0.684 |           | \n",
      "             |     0.071 |     0.464 |           | \n",
      "-------------|-----------|-----------|-----------|\n",
      "Column Total |         9 |        19 |        28 | \n",
      "             |     0.321 |     0.679 |           | \n",
      "-------------|-----------|-----------|-----------|\n",
      "\n",
      " \n"
     ]
    }
   ],
   "source": [
    "#Confusion Matrix\n",
    "table(test_set$D, evaluasi>0.5)\n",
    "CrossTable(test_set$D, evaluasi>0.5)"
   ]
  },
  {
   "cell_type": "code",
   "execution_count": null,
   "id": "b46a0293",
   "metadata": {},
   "outputs": [],
   "source": []
  },
  {
   "cell_type": "code",
   "execution_count": null,
   "id": "30b8932c",
   "metadata": {},
   "outputs": [],
   "source": []
  }
 ],
 "metadata": {
  "kernelspec": {
   "display_name": "R",
   "language": "R",
   "name": "ir"
  },
  "language_info": {
   "codemirror_mode": "r",
   "file_extension": ".r",
   "mimetype": "text/x-r-source",
   "name": "R",
   "pygments_lexer": "r",
   "version": "3.6.1"
  }
 },
 "nbformat": 4,
 "nbformat_minor": 5
}
