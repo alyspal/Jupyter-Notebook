{
 "cells": [
  {
   "cell_type": "code",
   "execution_count": 1,
   "metadata": {},
   "outputs": [],
   "source": [
    "import pandas as pd\n",
    "import numpy as np\n",
    "import matplotlib.pyplot as plt\n",
    "import seaborn as sns\n",
    "\n",
    "from sklearn.model_selection import train_test_split\n",
    "from sklearn.ensemble import GradientBoostingRegressor\n",
    "from sklearn.ensemble import GradientBoostingClassifier\n",
    "from sklearn.metrics import classification_report\n",
    "from sklearn.model_selection import cross_val_score\n",
    "from sklearn.model_selection import RepeatedStratifiedKFold\n",
    "\n",
    "from pandas_profiling import ProfileReport"
   ]
  },
  {
   "cell_type": "markdown",
   "metadata": {},
   "source": [
    "# Importing File "
   ]
  },
  {
   "cell_type": "code",
   "execution_count": 31,
   "metadata": {},
   "outputs": [],
   "source": [
    "train = pd.read_csv(\"public-train.csv\",delimiter=\"|\")"
   ]
  },
  {
   "cell_type": "code",
   "execution_count": 3,
   "metadata": {},
   "outputs": [
    {
     "data": {
      "text/html": [
       "<div>\n",
       "<style scoped>\n",
       "    .dataframe tbody tr th:only-of-type {\n",
       "        vertical-align: middle;\n",
       "    }\n",
       "\n",
       "    .dataframe tbody tr th {\n",
       "        vertical-align: top;\n",
       "    }\n",
       "\n",
       "    .dataframe thead th {\n",
       "        text-align: right;\n",
       "    }\n",
       "</style>\n",
       "<table border=\"1\" class=\"dataframe\">\n",
       "  <thead>\n",
       "    <tr style=\"text-align: right;\">\n",
       "      <th></th>\n",
       "      <th>author_id</th>\n",
       "      <th>description</th>\n",
       "      <th>bookformat</th>\n",
       "      <th>bookedition</th>\n",
       "      <th>pages</th>\n",
       "      <th>published_date</th>\n",
       "      <th>publisher_id</th>\n",
       "      <th>reading_age</th>\n",
       "      <th>lexile_measure</th>\n",
       "      <th>grade_level</th>\n",
       "      <th>...</th>\n",
       "      <th>genre_1_weight</th>\n",
       "      <th>genre_2_weight</th>\n",
       "      <th>genre_3_weight</th>\n",
       "      <th>genre_4_weight</th>\n",
       "      <th>genre_5_weight</th>\n",
       "      <th>genre_6_weight</th>\n",
       "      <th>genre_7_weight</th>\n",
       "      <th>genre_8_weight</th>\n",
       "      <th>genre_9_weight</th>\n",
       "      <th>price</th>\n",
       "    </tr>\n",
       "  </thead>\n",
       "  <tbody>\n",
       "    <tr>\n",
       "      <th>0</th>\n",
       "      <td>author2106</td>\n",
       "      <td>Just after the Second World War, in the small ...</td>\n",
       "      <td>Hardcover</td>\n",
       "      <td>NaN</td>\n",
       "      <td>309.0</td>\n",
       "      <td>NaN</td>\n",
       "      <td>NaN</td>\n",
       "      <td>NaN</td>\n",
       "      <td>NaN</td>\n",
       "      <td>NaN</td>\n",
       "      <td>...</td>\n",
       "      <td>0.22</td>\n",
       "      <td>0.08</td>\n",
       "      <td>0.06</td>\n",
       "      <td>0.05</td>\n",
       "      <td>0.04</td>\n",
       "      <td>0.03</td>\n",
       "      <td>0.02</td>\n",
       "      <td>0.02</td>\n",
       "      <td>0.02</td>\n",
       "      <td>NaN</td>\n",
       "    </tr>\n",
       "    <tr>\n",
       "      <th>1</th>\n",
       "      <td>author1018</td>\n",
       "      <td>Blame it on Hawaii’s rainbows, sparkling beach...</td>\n",
       "      <td>Paperback</td>\n",
       "      <td>NaN</td>\n",
       "      <td>NaN</td>\n",
       "      <td>NaN</td>\n",
       "      <td>NaN</td>\n",
       "      <td>NaN</td>\n",
       "      <td>NaN</td>\n",
       "      <td>NaN</td>\n",
       "      <td>...</td>\n",
       "      <td>NaN</td>\n",
       "      <td>NaN</td>\n",
       "      <td>NaN</td>\n",
       "      <td>NaN</td>\n",
       "      <td>NaN</td>\n",
       "      <td>NaN</td>\n",
       "      <td>NaN</td>\n",
       "      <td>NaN</td>\n",
       "      <td>NaN</td>\n",
       "      <td>NaN</td>\n",
       "    </tr>\n",
       "    <tr>\n",
       "      <th>2</th>\n",
       "      <td>author1087</td>\n",
       "      <td>The Pulitzer Prize–winning, bestselling author...</td>\n",
       "      <td>Hardcover</td>\n",
       "      <td>NaN</td>\n",
       "      <td>496.0</td>\n",
       "      <td>NaN</td>\n",
       "      <td>NaN</td>\n",
       "      <td>NaN</td>\n",
       "      <td>NaN</td>\n",
       "      <td>NaN</td>\n",
       "      <td>...</td>\n",
       "      <td>0.22</td>\n",
       "      <td>0.08</td>\n",
       "      <td>0.08</td>\n",
       "      <td>0.05</td>\n",
       "      <td>0.05</td>\n",
       "      <td>0.04</td>\n",
       "      <td>0.02</td>\n",
       "      <td>0.02</td>\n",
       "      <td>0.02</td>\n",
       "      <td>NaN</td>\n",
       "    </tr>\n",
       "    <tr>\n",
       "      <th>3</th>\n",
       "      <td>author1295</td>\n",
       "      <td>THINGS ARE ABOUT TO GET SERIOUS FOR HARRY DRES...</td>\n",
       "      <td>Hardcover</td>\n",
       "      <td>First Edition</td>\n",
       "      <td>418.0</td>\n",
       "      <td>NaN</td>\n",
       "      <td>NaN</td>\n",
       "      <td>NaN</td>\n",
       "      <td>NaN</td>\n",
       "      <td>NaN</td>\n",
       "      <td>...</td>\n",
       "      <td>0.30</td>\n",
       "      <td>0.08</td>\n",
       "      <td>0.05</td>\n",
       "      <td>0.04</td>\n",
       "      <td>0.04</td>\n",
       "      <td>0.03</td>\n",
       "      <td>0.02</td>\n",
       "      <td>0.02</td>\n",
       "      <td>0.02</td>\n",
       "      <td>NaN</td>\n",
       "    </tr>\n",
       "    <tr>\n",
       "      <th>4</th>\n",
       "      <td>author2622</td>\n",
       "      <td>The Romanovs were the most successful dynasty ...</td>\n",
       "      <td>Hardcover</td>\n",
       "      <td>NaN</td>\n",
       "      <td>784.0</td>\n",
       "      <td>NaN</td>\n",
       "      <td>NaN</td>\n",
       "      <td>NaN</td>\n",
       "      <td>NaN</td>\n",
       "      <td>NaN</td>\n",
       "      <td>...</td>\n",
       "      <td>0.30</td>\n",
       "      <td>0.09</td>\n",
       "      <td>0.08</td>\n",
       "      <td>0.04</td>\n",
       "      <td>0.02</td>\n",
       "      <td>0.01</td>\n",
       "      <td>0.01</td>\n",
       "      <td>0.01</td>\n",
       "      <td>0.01</td>\n",
       "      <td>NaN</td>\n",
       "    </tr>\n",
       "  </tbody>\n",
       "</table>\n",
       "<p>5 rows × 39 columns</p>\n",
       "</div>"
      ],
      "text/plain": [
       "    author_id                                        description bookformat  \\\n",
       "0  author2106  Just after the Second World War, in the small ...  Hardcover   \n",
       "1  author1018  Blame it on Hawaii’s rainbows, sparkling beach...  Paperback   \n",
       "2  author1087  The Pulitzer Prize–winning, bestselling author...  Hardcover   \n",
       "3  author1295  THINGS ARE ABOUT TO GET SERIOUS FOR HARRY DRES...  Hardcover   \n",
       "4  author2622  The Romanovs were the most successful dynasty ...  Hardcover   \n",
       "\n",
       "     bookedition  pages published_date publisher_id reading_age  \\\n",
       "0            NaN  309.0            NaN          NaN         NaN   \n",
       "1            NaN    NaN            NaN          NaN         NaN   \n",
       "2            NaN  496.0            NaN          NaN         NaN   \n",
       "3  First Edition  418.0            NaN          NaN         NaN   \n",
       "4            NaN  784.0            NaN          NaN         NaN   \n",
       "\n",
       "  lexile_measure grade_level  ...  genre_1_weight  genre_2_weight  \\\n",
       "0            NaN         NaN  ...            0.22            0.08   \n",
       "1            NaN         NaN  ...             NaN             NaN   \n",
       "2            NaN         NaN  ...            0.22            0.08   \n",
       "3            NaN         NaN  ...            0.30            0.08   \n",
       "4            NaN         NaN  ...            0.30            0.09   \n",
       "\n",
       "   genre_3_weight  genre_4_weight  genre_5_weight  genre_6_weight  \\\n",
       "0            0.06            0.05            0.04            0.03   \n",
       "1             NaN             NaN             NaN             NaN   \n",
       "2            0.08            0.05            0.05            0.04   \n",
       "3            0.05            0.04            0.04            0.03   \n",
       "4            0.08            0.04            0.02            0.01   \n",
       "\n",
       "   genre_7_weight  genre_8_weight genre_9_weight price  \n",
       "0            0.02            0.02           0.02   NaN  \n",
       "1             NaN             NaN            NaN   NaN  \n",
       "2            0.02            0.02           0.02   NaN  \n",
       "3            0.02            0.02           0.02   NaN  \n",
       "4            0.01            0.01           0.01   NaN  \n",
       "\n",
       "[5 rows x 39 columns]"
      ]
     },
     "execution_count": 3,
     "metadata": {},
     "output_type": "execute_result"
    }
   ],
   "source": [
    "train.head()"
   ]
  },
  {
   "cell_type": "markdown",
   "metadata": {},
   "source": [
    "# Profiling Report and analysis "
   ]
  },
  {
   "cell_type": "markdown",
   "metadata": {},
   "source": [
    "profile = ProfileReport(train, title=\"Find IT UGM Profiling Report\")"
   ]
  },
  {
   "cell_type": "markdown",
   "metadata": {},
   "source": [
    "profile.to_file(\"Find IT UGM Profiling Report.html\")"
   ]
  },
  {
   "cell_type": "markdown",
   "metadata": {},
   "source": [
    "<b> Setelah melihat profiling report </b>\n",
    "\n",
    "Hal yang patut diperhatikan (7 Mei 2021)\n",
    "- terdapat deskripsi karya buku yang sama, ada apa ? kok bisa? apakah bukunya sama ? apakah buku  sama dengan edisi berbeda ?\n",
    "- edisi buku memiliki banyak nilai NULL (93.5 persen), terlalu banyak miss\n",
    "- edisi buku memiliki makna yang sama dengan frasa yang berbeda contoh (first edition, 1st edition, 1st dsb) <b> mesti di sama ratakan semua </b>\n",
    "- published_date dan publisher_id memiliki jumlah NULL yang sama, apakah divariable yang sama ? tingkat NULL 84.0 persen (2982 NULL)\n",
    "- reading_age memiliki NULL 96.5 persen dan memiliki makna yang aneh, mesti ditinjau lebih lanjut (rentangya)\n",
    "- lexile_measure memiliki NULL 97.5 persen\n",
    "- grade level memiliki NULL 97.2 persen\n",
    "- weight memiliki NULL 85.4 persen\n",
    "- kredibilitas sumber 1 tentang rating diragukan karena memiliki 84.4 persen NULL\n",
    "- dimension memiliki NULL > 85.6 persen\n",
    "- genre weight dan genre mesti disatukan, mungkin bisa dibuat seluruh genre dulu, trs defaultnya 0. kalau dia ada genre apa baru di isi sesuai weightnya  gitu\n",
    "\n",
    "<b> VARIABEL PRICE NULL SEBANYAK 84.7 PERSEN PADAHAL INI BAGIAN YANG PENGEN DIPREDIKSI, TRUS GIMNA ???? </b>\n"
   ]
  },
  {
   "cell_type": "markdown",
   "metadata": {},
   "source": [
    "# Mencoba analisis data "
   ]
  },
  {
   "cell_type": "code",
   "execution_count": 4,
   "metadata": {},
   "outputs": [],
   "source": [
    "trainPrice = train[train['price'].isna()==False]"
   ]
  },
  {
   "cell_type": "markdown",
   "metadata": {},
   "source": [
    "ProfileReport(trainPrice,title=\"Find IT UGM Profiling Report without price NULL\").to_file(\"Find IT UGM Profiling Report without price NULL.html\")"
   ]
  },
  {
   "cell_type": "code",
   "execution_count": 5,
   "metadata": {},
   "outputs": [
    {
     "data": {
      "text/html": [
       "<div>\n",
       "<style scoped>\n",
       "    .dataframe tbody tr th:only-of-type {\n",
       "        vertical-align: middle;\n",
       "    }\n",
       "\n",
       "    .dataframe tbody tr th {\n",
       "        vertical-align: top;\n",
       "    }\n",
       "\n",
       "    .dataframe thead th {\n",
       "        text-align: right;\n",
       "    }\n",
       "</style>\n",
       "<table border=\"1\" class=\"dataframe\">\n",
       "  <thead>\n",
       "    <tr style=\"text-align: right;\">\n",
       "      <th></th>\n",
       "      <th>author_id</th>\n",
       "      <th>description</th>\n",
       "      <th>bookformat</th>\n",
       "      <th>bookedition</th>\n",
       "      <th>pages</th>\n",
       "      <th>published_date</th>\n",
       "      <th>publisher_id</th>\n",
       "      <th>reading_age</th>\n",
       "      <th>lexile_measure</th>\n",
       "      <th>grade_level</th>\n",
       "      <th>...</th>\n",
       "      <th>genre_1_weight</th>\n",
       "      <th>genre_2_weight</th>\n",
       "      <th>genre_3_weight</th>\n",
       "      <th>genre_4_weight</th>\n",
       "      <th>genre_5_weight</th>\n",
       "      <th>genre_6_weight</th>\n",
       "      <th>genre_7_weight</th>\n",
       "      <th>genre_8_weight</th>\n",
       "      <th>genre_9_weight</th>\n",
       "      <th>price</th>\n",
       "    </tr>\n",
       "  </thead>\n",
       "  <tbody>\n",
       "    <tr>\n",
       "      <th>9</th>\n",
       "      <td>author0932</td>\n",
       "      <td>At long last, New York Times bestselling autho...</td>\n",
       "      <td>Mass Market Paperback</td>\n",
       "      <td>NaN</td>\n",
       "      <td>504.0</td>\n",
       "      <td>February 28, 2012</td>\n",
       "      <td>publisher149</td>\n",
       "      <td>NaN</td>\n",
       "      <td>NaN</td>\n",
       "      <td>NaN</td>\n",
       "      <td>...</td>\n",
       "      <td>0.21</td>\n",
       "      <td>0.17</td>\n",
       "      <td>0.10</td>\n",
       "      <td>0.08</td>\n",
       "      <td>0.05</td>\n",
       "      <td>0.04</td>\n",
       "      <td>0.04</td>\n",
       "      <td>0.03</td>\n",
       "      <td>0.02</td>\n",
       "      <td>98172.0</td>\n",
       "    </tr>\n",
       "    <tr>\n",
       "      <th>17</th>\n",
       "      <td>author2279</td>\n",
       "      <td>I sold my future to the man who ruined my past...</td>\n",
       "      <td>Kindle Edition</td>\n",
       "      <td>NaN</td>\n",
       "      <td>NaN</td>\n",
       "      <td>NaN</td>\n",
       "      <td>NaN</td>\n",
       "      <td>NaN</td>\n",
       "      <td>NaN</td>\n",
       "      <td>NaN</td>\n",
       "      <td>...</td>\n",
       "      <td>NaN</td>\n",
       "      <td>NaN</td>\n",
       "      <td>NaN</td>\n",
       "      <td>NaN</td>\n",
       "      <td>NaN</td>\n",
       "      <td>NaN</td>\n",
       "      <td>NaN</td>\n",
       "      <td>NaN</td>\n",
       "      <td>NaN</td>\n",
       "      <td>57604.0</td>\n",
       "    </tr>\n",
       "    <tr>\n",
       "      <th>29</th>\n",
       "      <td>author2386</td>\n",
       "      <td>From Rob Thomas, the creator of groundbreaking...</td>\n",
       "      <td>Paperback</td>\n",
       "      <td>NaN</td>\n",
       "      <td>324.0</td>\n",
       "      <td>March 25, 2014</td>\n",
       "      <td>publisher381</td>\n",
       "      <td>NaN</td>\n",
       "      <td>NaN</td>\n",
       "      <td>NaN</td>\n",
       "      <td>...</td>\n",
       "      <td>0.19</td>\n",
       "      <td>0.07</td>\n",
       "      <td>0.07</td>\n",
       "      <td>0.06</td>\n",
       "      <td>0.05</td>\n",
       "      <td>0.04</td>\n",
       "      <td>0.04</td>\n",
       "      <td>0.03</td>\n",
       "      <td>0.02</td>\n",
       "      <td>103658.0</td>\n",
       "    </tr>\n",
       "    <tr>\n",
       "      <th>33</th>\n",
       "      <td>author2769</td>\n",
       "      <td>Hannis Arc, working on the tapestry of lines l...</td>\n",
       "      <td>Hardcover</td>\n",
       "      <td>NaN</td>\n",
       "      <td>528.0</td>\n",
       "      <td>August 16, 2011</td>\n",
       "      <td>publisher099</td>\n",
       "      <td>NaN</td>\n",
       "      <td>NaN</td>\n",
       "      <td>NaN</td>\n",
       "      <td>...</td>\n",
       "      <td>0.07</td>\n",
       "      <td>0.05</td>\n",
       "      <td>0.02</td>\n",
       "      <td>0.02</td>\n",
       "      <td>0.02</td>\n",
       "      <td>0.02</td>\n",
       "      <td>0.01</td>\n",
       "      <td>0.01</td>\n",
       "      <td>0.01</td>\n",
       "      <td>649665.0</td>\n",
       "    </tr>\n",
       "    <tr>\n",
       "      <th>44</th>\n",
       "      <td>author0473</td>\n",
       "      <td>C.A. Nicholas's magnum opus symphony is about ...</td>\n",
       "      <td>Paperback</td>\n",
       "      <td>NaN</td>\n",
       "      <td>500.0</td>\n",
       "      <td>May 5, 2019</td>\n",
       "      <td>publisher184</td>\n",
       "      <td>NaN</td>\n",
       "      <td>NaN</td>\n",
       "      <td>NaN</td>\n",
       "      <td>...</td>\n",
       "      <td>NaN</td>\n",
       "      <td>NaN</td>\n",
       "      <td>NaN</td>\n",
       "      <td>NaN</td>\n",
       "      <td>NaN</td>\n",
       "      <td>NaN</td>\n",
       "      <td>NaN</td>\n",
       "      <td>NaN</td>\n",
       "      <td>NaN</td>\n",
       "      <td>247883.0</td>\n",
       "    </tr>\n",
       "  </tbody>\n",
       "</table>\n",
       "<p>5 rows × 39 columns</p>\n",
       "</div>"
      ],
      "text/plain": [
       "     author_id                                        description  \\\n",
       "9   author0932  At long last, New York Times bestselling autho...   \n",
       "17  author2279  I sold my future to the man who ruined my past...   \n",
       "29  author2386  From Rob Thomas, the creator of groundbreaking...   \n",
       "33  author2769  Hannis Arc, working on the tapestry of lines l...   \n",
       "44  author0473  C.A. Nicholas's magnum opus symphony is about ...   \n",
       "\n",
       "               bookformat bookedition  pages     published_date  publisher_id  \\\n",
       "9   Mass Market Paperback         NaN  504.0  February 28, 2012  publisher149   \n",
       "17         Kindle Edition         NaN    NaN                NaN           NaN   \n",
       "29              Paperback         NaN  324.0     March 25, 2014  publisher381   \n",
       "33              Hardcover         NaN  528.0    August 16, 2011  publisher099   \n",
       "44              Paperback         NaN  500.0        May 5, 2019  publisher184   \n",
       "\n",
       "   reading_age lexile_measure grade_level  ...  genre_1_weight  \\\n",
       "9          NaN            NaN         NaN  ...            0.21   \n",
       "17         NaN            NaN         NaN  ...             NaN   \n",
       "29         NaN            NaN         NaN  ...            0.19   \n",
       "33         NaN            NaN         NaN  ...            0.07   \n",
       "44         NaN            NaN         NaN  ...             NaN   \n",
       "\n",
       "    genre_2_weight  genre_3_weight  genre_4_weight  genre_5_weight  \\\n",
       "9             0.17            0.10            0.08            0.05   \n",
       "17             NaN             NaN             NaN             NaN   \n",
       "29            0.07            0.07            0.06            0.05   \n",
       "33            0.05            0.02            0.02            0.02   \n",
       "44             NaN             NaN             NaN             NaN   \n",
       "\n",
       "    genre_6_weight  genre_7_weight  genre_8_weight genre_9_weight     price  \n",
       "9             0.04            0.04            0.03           0.02   98172.0  \n",
       "17             NaN             NaN             NaN            NaN   57604.0  \n",
       "29            0.04            0.04            0.03           0.02  103658.0  \n",
       "33            0.02            0.01            0.01           0.01  649665.0  \n",
       "44             NaN             NaN             NaN            NaN  247883.0  \n",
       "\n",
       "[5 rows x 39 columns]"
      ]
     },
     "execution_count": 5,
     "metadata": {},
     "output_type": "execute_result"
    }
   ],
   "source": [
    "trainPrice.head(5)"
   ]
  },
  {
   "cell_type": "code",
   "execution_count": 6,
   "metadata": {},
   "outputs": [],
   "source": [
    "train = trainPrice"
   ]
  },
  {
   "cell_type": "code",
   "execution_count": 7,
   "metadata": {},
   "outputs": [
    {
     "name": "stdout",
     "output_type": "stream",
     "text": [
      "<class 'pandas.core.frame.DataFrame'>\n",
      "Int64Index: 543 entries, 9 to 3541\n",
      "Data columns (total 39 columns):\n",
      " #   Column          Non-Null Count  Dtype  \n",
      "---  ------          --------------  -----  \n",
      " 0   author_id       543 non-null    object \n",
      " 1   description     533 non-null    object \n",
      " 2   bookformat      543 non-null    object \n",
      " 3   bookedition     51 non-null     object \n",
      " 4   pages           511 non-null    float64\n",
      " 5   published_date  499 non-null    object \n",
      " 6   publisher_id    499 non-null    object \n",
      " 7   reading_age     119 non-null    object \n",
      " 8   lexile_measure  85 non-null     object \n",
      " 9   grade_level     95 non-null     object \n",
      " 10  weight          457 non-null    float64\n",
      " 11  rating_value_0  543 non-null    float64\n",
      " 12  rating_value_1  484 non-null    float64\n",
      " 13  rating_count_0  543 non-null    int64  \n",
      " 14  rating_count_1  543 non-null    int64  \n",
      " 15  dimension_0     456 non-null    float64\n",
      " 16  dimension_1     456 non-null    float64\n",
      " 17  dimension_2     443 non-null    float64\n",
      " 18  genre_0         492 non-null    object \n",
      " 19  genre_1         480 non-null    object \n",
      " 20  genre_2         475 non-null    object \n",
      " 21  genre_3         471 non-null    object \n",
      " 22  genre_4         460 non-null    object \n",
      " 23  genre_5         453 non-null    object \n",
      " 24  genre_6         445 non-null    object \n",
      " 25  genre_7         442 non-null    object \n",
      " 26  genre_8         435 non-null    object \n",
      " 27  genre_9         430 non-null    object \n",
      " 28  genre_0_weight  492 non-null    float64\n",
      " 29  genre_1_weight  480 non-null    float64\n",
      " 30  genre_2_weight  475 non-null    float64\n",
      " 31  genre_3_weight  471 non-null    float64\n",
      " 32  genre_4_weight  460 non-null    float64\n",
      " 33  genre_5_weight  453 non-null    float64\n",
      " 34  genre_6_weight  445 non-null    float64\n",
      " 35  genre_7_weight  442 non-null    float64\n",
      " 36  genre_8_weight  435 non-null    float64\n",
      " 37  genre_9_weight  430 non-null    float64\n",
      " 38  price           543 non-null    float64\n",
      "dtypes: float64(18), int64(2), object(19)\n",
      "memory usage: 169.7+ KB\n"
     ]
    }
   ],
   "source": [
    "train.info()"
   ]
  },
  {
   "cell_type": "markdown",
   "metadata": {},
   "source": [
    "# Ploting "
   ]
  },
  {
   "cell_type": "code",
   "execution_count": 8,
   "metadata": {},
   "outputs": [
    {
     "data": {
      "text/plain": [
       "<AxesSubplot:xlabel='bookformat', ylabel='price'>"
      ]
     },
     "execution_count": 8,
     "metadata": {},
     "output_type": "execute_result"
    },
    {
     "data": {
      "image/png": "[encoded data removed]",
      "text/plain": [
       "<Figure size 432x288 with 1 Axes>"
      ]
     },
     "metadata": {
      "needs_background": "light"
     },
     "output_type": "display_data"
    }
   ],
   "source": [
    "sns.violinplot(y=train[\"price\"],x=train[\"bookformat\"])"
   ]
  },
  {
   "cell_type": "code",
   "execution_count": 9,
   "metadata": {},
   "outputs": [
    {
     "data": {
      "text/plain": [
       "<seaborn.axisgrid.FacetGrid at 0x21a716853d0>"
      ]
     },
     "execution_count": 9,
     "metadata": {},
     "output_type": "execute_result"
    },
    {
     "data": {
      "image/png": "[encoded data removed]",
      "text/plain": [
       "<Figure size 360x360 with 1 Axes>"
      ]
     },
     "metadata": {
      "needs_background": "light"
     },
     "output_type": "display_data"
    }
   ],
   "source": [
    "sns.lmplot(y=\"price\",x=\"pages\",data=train)"
   ]
  },
  {
   "cell_type": "code",
   "execution_count": 10,
   "metadata": {},
   "outputs": [
    {
     "data": {
      "text/plain": [
       "array(['Mass Market Paperback', 'Kindle Edition', 'Paperback',\n",
       "       'Hardcover', 'Unknown Binding', 'Board Book', 'Spiral-bound',\n",
       "       'Comics', 'Trade Paperback'], dtype=object)"
      ]
     },
     "execution_count": 10,
     "metadata": {},
     "output_type": "execute_result"
    }
   ],
   "source": [
    "train.bookformat.unique()"
   ]
  },
  {
   "cell_type": "code",
   "execution_count": 11,
   "metadata": {},
   "outputs": [
    {
     "data": {
      "text/plain": [
       "array([nan, '9 - 12', '3 - 7', '7 - 9', '10 - 12', '10 and up',\n",
       "       'Preschool - Kindergarten', '7 - 12', '5 - 6', 'Kindergarten - 3',\n",
       "       '6 - 9', '5 - 9', '4 - 7', 'Preschool - 1', 'Preschool - 3',\n",
       "       '8 - 12', '8 - 9', '8 and up', '9 and up', '1 - 2',\n",
       "       'Preschool - 2', '4 - 6', '7 and up', '5 - 8', '5 - 7'],\n",
       "      dtype=object)"
      ]
     },
     "execution_count": 11,
     "metadata": {},
     "output_type": "execute_result"
    }
   ],
   "source": [
    "train.grade_level.unique()"
   ]
  },
  {
   "cell_type": "code",
   "execution_count": 14,
   "metadata": {},
   "outputs": [
    {
     "data": {
      "text/plain": [
       "710L      5\n",
       "HL710L    3\n",
       "850L      3\n",
       "740L      3\n",
       "770L      3\n",
       "710       2\n",
       "HL580L    2\n",
       "HL740L    2\n",
       "HL750L    2\n",
       "920L      2\n",
       "640L      2\n",
       "950L      2\n",
       "990L      2\n",
       "690       2\n",
       "AD380L    2\n",
       "690L      2\n",
       "790L      2\n",
       "HL680L    2\n",
       "760L      2\n",
       "AD300L    1\n",
       "AD550L    1\n",
       "930L      1\n",
       "GN400L    1\n",
       "HL600L    1\n",
       "860L      1\n",
       "AD510L    1\n",
       "130L      1\n",
       "AD650L    1\n",
       "630L      1\n",
       "1170L     1\n",
       "AD600L    1\n",
       "HL720L    1\n",
       "800L      1\n",
       "960L      1\n",
       "930       1\n",
       "360L      1\n",
       "HL700L    1\n",
       "1010L     1\n",
       "HL790L    1\n",
       "670       1\n",
       "880L      1\n",
       "970       1\n",
       "570L      1\n",
       "AD460L    1\n",
       "HL780L    1\n",
       "AD450L    1\n",
       "HL730L    1\n",
       "840L      1\n",
       "AD490L    1\n",
       "720L      1\n",
       "940L      1\n",
       "730L      1\n",
       "1100L     1\n",
       "980L      1\n",
       "NP        1\n",
       "GN370L    1\n",
       "AD660L    1\n",
       "230L      1\n",
       "HL590L    1\n",
       "Name: lexile_measure, dtype: int64"
      ]
     },
     "execution_count": 14,
     "metadata": {},
     "output_type": "execute_result"
    }
   ],
   "source": [
    "train.lexile_measure.value_counts()"
   ]
  },
  {
   "cell_type": "code",
   "execution_count": 38,
   "metadata": {},
   "outputs": [
    {
     "data": {
      "text/plain": [
       "<seaborn.axisgrid.FacetGrid at 0x21a7659cee0>"
      ]
     },
     "execution_count": 38,
     "metadata": {},
     "output_type": "execute_result"
    },
    {
     "data": {
      "image/png": "[encoded data removed]",
      "text/plain": [
       "<Figure size 360x360 with 1 Axes>"
      ]
     },
     "metadata": {
      "needs_background": "light"
     },
     "output_type": "display_data"
    }
   ],
   "source": [
    "sns.lmplot(y=\"price\",x=\"rating_value_0\",data=train)"
   ]
  },
  {
   "cell_type": "code",
   "execution_count": 32,
   "metadata": {},
   "outputs": [],
   "source": [
    "tempt = train[train[\"genre_0\"]==\"Nonfiction\"]"
   ]
  },
  {
   "cell_type": "code",
   "execution_count": 33,
   "metadata": {},
   "outputs": [
    {
     "data": {
      "text/plain": [
       "count    564.000000\n",
       "mean       0.377784\n",
       "std        0.116437\n",
       "min        0.200000\n",
       "25%        0.310000\n",
       "50%        0.360000\n",
       "75%        0.410000\n",
       "max        1.000000\n",
       "Name: genre_0_weight, dtype: float64"
      ]
     },
     "execution_count": 33,
     "metadata": {},
     "output_type": "execute_result"
    }
   ],
   "source": [
    "tempt.genre_0_weight.describe()"
   ]
  },
  {
   "cell_type": "code",
   "execution_count": 36,
   "metadata": {},
   "outputs": [
    {
     "data": {
      "text/plain": [
       "<seaborn.axisgrid.FacetGrid at 0x21a76437100>"
      ]
     },
     "execution_count": 36,
     "metadata": {},
     "output_type": "execute_result"
    },
    {
     "data": {
      "image/png": "[encoded data removed]",
      "text/plain": [
       "<Figure size 360x360 with 1 Axes>"
      ]
     },
     "metadata": {
      "needs_background": "light"
     },
     "output_type": "display_data"
    }
   ],
   "source": [
    "sns.lmplot(y=\"price\",x=\"rating_value_0\",data=tempt)"
   ]
  },
  {
   "cell_type": "code",
   "execution_count": 35,
   "metadata": {},
   "outputs": [
    {
     "data": {
      "text/plain": [
       "count        67.000000\n",
       "mean     268151.089552\n",
       "std      153383.361588\n",
       "min       14293.000000\n",
       "25%      152671.000000\n",
       "50%      244707.000000\n",
       "75%      335371.500000\n",
       "max      978395.000000\n",
       "Name: price, dtype: float64"
      ]
     },
     "execution_count": 35,
     "metadata": {},
     "output_type": "execute_result"
    }
   ],
   "source": [
    "tempt.price.describe()"
   ]
  },
  {
   "cell_type": "code",
   "execution_count": null,
   "metadata": {},
   "outputs": [],
   "source": []
  }
 ],
 "metadata": {
  "kernelspec": {
   "display_name": "Python 3 (ipykernel)",
   "language": "python",
   "name": "python3"
  },
  "language_info": {
   "codemirror_mode": {
    "name": "ipython",
    "version": 3
   },
   "file_extension": ".py",
   "mimetype": "text/x-python",
   "name": "python",
   "nbconvert_exporter": "python",
   "pygments_lexer": "ipython3",
   "version": "3.8.8"
  }
 },
 "nbformat": 4,
 "nbformat_minor": 4
}
