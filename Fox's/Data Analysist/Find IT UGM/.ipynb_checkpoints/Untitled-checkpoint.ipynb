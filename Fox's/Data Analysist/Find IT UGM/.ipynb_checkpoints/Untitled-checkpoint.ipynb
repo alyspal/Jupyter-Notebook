{
 "cells": [
  {
   "cell_type": "code",
   "execution_count": 1,
   "metadata": {},
   "outputs": [],
   "source": [
    "import pandas as pd\n",
    "import numpy as np\n",
    "import matplotlib.pyplot as plt\n",
    "import seaborn as sns\n",
    "\n",
    "from sklearn.model_selection import train_test_split\n",
    "from sklearn.ensemble import GradientBoostingRegressor\n",
    "from sklearn.ensemble import GradientBoostingClassifier\n",
    "from sklearn.metrics import classification_report\n",
    "from sklearn.model_selection import cross_val_score\n",
    "from sklearn.model_selection import RepeatedStratifiedKFold\n",
    "\n",
    "from pandas_profiling import ProfileReport"
   ]
  },
  {
   "cell_type": "markdown",
   "metadata": {},
   "source": [
    "# Importing File "
   ]
  },
  {
   "cell_type": "code",
   "execution_count": 2,
   "metadata": {},
   "outputs": [],
   "source": [
    "train = pd.read_csv(\"public-train.csv\",delimiter=\"|\")"
   ]
  },
  {
   "cell_type": "code",
   "execution_count": 3,
   "metadata": {},
   "outputs": [
    {
     "data": {
      "text/html": [
       "<div>\n",
       "<style scoped>\n",
       "    .dataframe tbody tr th:only-of-type {\n",
       "        vertical-align: middle;\n",
       "    }\n",
       "\n",
       "    .dataframe tbody tr th {\n",
       "        vertical-align: top;\n",
       "    }\n",
       "\n",
       "    .dataframe thead th {\n",
       "        text-align: right;\n",
       "    }\n",
       "</style>\n",
       "<table border=\"1\" class=\"dataframe\">\n",
       "  <thead>\n",
       "    <tr style=\"text-align: right;\">\n",
       "      <th></th>\n",
       "      <th>author_id</th>\n",
       "      <th>description</th>\n",
       "      <th>bookformat</th>\n",
       "      <th>bookedition</th>\n",
       "      <th>pages</th>\n",
       "      <th>published_date</th>\n",
       "      <th>publisher_id</th>\n",
       "      <th>reading_age</th>\n",
       "      <th>lexile_measure</th>\n",
       "      <th>grade_level</th>\n",
       "      <th>...</th>\n",
       "      <th>genre_1_weight</th>\n",
       "      <th>genre_2_weight</th>\n",
       "      <th>genre_3_weight</th>\n",
       "      <th>genre_4_weight</th>\n",
       "      <th>genre_5_weight</th>\n",
       "      <th>genre_6_weight</th>\n",
       "      <th>genre_7_weight</th>\n",
       "      <th>genre_8_weight</th>\n",
       "      <th>genre_9_weight</th>\n",
       "      <th>price</th>\n",
       "    </tr>\n",
       "  </thead>\n",
       "  <tbody>\n",
       "    <tr>\n",
       "      <th>0</th>\n",
       "      <td>author2106</td>\n",
       "      <td>Just after the Second World War, in the small ...</td>\n",
       "      <td>Hardcover</td>\n",
       "      <td>NaN</td>\n",
       "      <td>309.0</td>\n",
       "      <td>NaN</td>\n",
       "      <td>NaN</td>\n",
       "      <td>NaN</td>\n",
       "      <td>NaN</td>\n",
       "      <td>NaN</td>\n",
       "      <td>...</td>\n",
       "      <td>0.22</td>\n",
       "      <td>0.08</td>\n",
       "      <td>0.06</td>\n",
       "      <td>0.05</td>\n",
       "      <td>0.04</td>\n",
       "      <td>0.03</td>\n",
       "      <td>0.02</td>\n",
       "      <td>0.02</td>\n",
       "      <td>0.02</td>\n",
       "      <td>NaN</td>\n",
       "    </tr>\n",
       "    <tr>\n",
       "      <th>1</th>\n",
       "      <td>author1018</td>\n",
       "      <td>Blame it on Hawaii’s rainbows, sparkling beach...</td>\n",
       "      <td>Paperback</td>\n",
       "      <td>NaN</td>\n",
       "      <td>NaN</td>\n",
       "      <td>NaN</td>\n",
       "      <td>NaN</td>\n",
       "      <td>NaN</td>\n",
       "      <td>NaN</td>\n",
       "      <td>NaN</td>\n",
       "      <td>...</td>\n",
       "      <td>NaN</td>\n",
       "      <td>NaN</td>\n",
       "      <td>NaN</td>\n",
       "      <td>NaN</td>\n",
       "      <td>NaN</td>\n",
       "      <td>NaN</td>\n",
       "      <td>NaN</td>\n",
       "      <td>NaN</td>\n",
       "      <td>NaN</td>\n",
       "      <td>NaN</td>\n",
       "    </tr>\n",
       "    <tr>\n",
       "      <th>2</th>\n",
       "      <td>author1087</td>\n",
       "      <td>The Pulitzer Prize–winning, bestselling author...</td>\n",
       "      <td>Hardcover</td>\n",
       "      <td>NaN</td>\n",
       "      <td>496.0</td>\n",
       "      <td>NaN</td>\n",
       "      <td>NaN</td>\n",
       "      <td>NaN</td>\n",
       "      <td>NaN</td>\n",
       "      <td>NaN</td>\n",
       "      <td>...</td>\n",
       "      <td>0.22</td>\n",
       "      <td>0.08</td>\n",
       "      <td>0.08</td>\n",
       "      <td>0.05</td>\n",
       "      <td>0.05</td>\n",
       "      <td>0.04</td>\n",
       "      <td>0.02</td>\n",
       "      <td>0.02</td>\n",
       "      <td>0.02</td>\n",
       "      <td>NaN</td>\n",
       "    </tr>\n",
       "    <tr>\n",
       "      <th>3</th>\n",
       "      <td>author1295</td>\n",
       "      <td>THINGS ARE ABOUT TO GET SERIOUS FOR HARRY DRES...</td>\n",
       "      <td>Hardcover</td>\n",
       "      <td>First Edition</td>\n",
       "      <td>418.0</td>\n",
       "      <td>NaN</td>\n",
       "      <td>NaN</td>\n",
       "      <td>NaN</td>\n",
       "      <td>NaN</td>\n",
       "      <td>NaN</td>\n",
       "      <td>...</td>\n",
       "      <td>0.30</td>\n",
       "      <td>0.08</td>\n",
       "      <td>0.05</td>\n",
       "      <td>0.04</td>\n",
       "      <td>0.04</td>\n",
       "      <td>0.03</td>\n",
       "      <td>0.02</td>\n",
       "      <td>0.02</td>\n",
       "      <td>0.02</td>\n",
       "      <td>NaN</td>\n",
       "    </tr>\n",
       "    <tr>\n",
       "      <th>4</th>\n",
       "      <td>author2622</td>\n",
       "      <td>The Romanovs were the most successful dynasty ...</td>\n",
       "      <td>Hardcover</td>\n",
       "      <td>NaN</td>\n",
       "      <td>784.0</td>\n",
       "      <td>NaN</td>\n",
       "      <td>NaN</td>\n",
       "      <td>NaN</td>\n",
       "      <td>NaN</td>\n",
       "      <td>NaN</td>\n",
       "      <td>...</td>\n",
       "      <td>0.30</td>\n",
       "      <td>0.09</td>\n",
       "      <td>0.08</td>\n",
       "      <td>0.04</td>\n",
       "      <td>0.02</td>\n",
       "      <td>0.01</td>\n",
       "      <td>0.01</td>\n",
       "      <td>0.01</td>\n",
       "      <td>0.01</td>\n",
       "      <td>NaN</td>\n",
       "    </tr>\n",
       "  </tbody>\n",
       "</table>\n",
       "<p>5 rows × 39 columns</p>\n",
       "</div>"
      ],
      "text/plain": [
       "    author_id                                        description bookformat  \\\n",
       "0  author2106  Just after the Second World War, in the small ...  Hardcover   \n",
       "1  author1018  Blame it on Hawaii’s rainbows, sparkling beach...  Paperback   \n",
       "2  author1087  The Pulitzer Prize–winning, bestselling author...  Hardcover   \n",
       "3  author1295  THINGS ARE ABOUT TO GET SERIOUS FOR HARRY DRES...  Hardcover   \n",
       "4  author2622  The Romanovs were the most successful dynasty ...  Hardcover   \n",
       "\n",
       "     bookedition  pages published_date publisher_id reading_age  \\\n",
       "0            NaN  309.0            NaN          NaN         NaN   \n",
       "1            NaN    NaN            NaN          NaN         NaN   \n",
       "2            NaN  496.0            NaN          NaN         NaN   \n",
       "3  First Edition  418.0            NaN          NaN         NaN   \n",
       "4            NaN  784.0            NaN          NaN         NaN   \n",
       "\n",
       "  lexile_measure grade_level  ...  genre_1_weight  genre_2_weight  \\\n",
       "0            NaN         NaN  ...            0.22            0.08   \n",
       "1            NaN         NaN  ...             NaN             NaN   \n",
       "2            NaN         NaN  ...            0.22            0.08   \n",
       "3            NaN         NaN  ...            0.30            0.08   \n",
       "4            NaN         NaN  ...            0.30            0.09   \n",
       "\n",
       "   genre_3_weight  genre_4_weight  genre_5_weight  genre_6_weight  \\\n",
       "0            0.06            0.05            0.04            0.03   \n",
       "1             NaN             NaN             NaN             NaN   \n",
       "2            0.08            0.05            0.05            0.04   \n",
       "3            0.05            0.04            0.04            0.03   \n",
       "4            0.08            0.04            0.02            0.01   \n",
       "\n",
       "   genre_7_weight  genre_8_weight genre_9_weight price  \n",
       "0            0.02            0.02           0.02   NaN  \n",
       "1             NaN             NaN            NaN   NaN  \n",
       "2            0.02            0.02           0.02   NaN  \n",
       "3            0.02            0.02           0.02   NaN  \n",
       "4            0.01            0.01           0.01   NaN  \n",
       "\n",
       "[5 rows x 39 columns]"
      ]
     },
     "execution_count": 3,
     "metadata": {},
     "output_type": "execute_result"
    }
   ],
   "source": [
    "train.head()"
   ]
  },
  {
   "cell_type": "markdown",
   "metadata": {},
   "source": [
    "# Profiling Report and analysis "
   ]
  },
  {
   "cell_type": "markdown",
   "metadata": {},
   "source": [
    "profile = ProfileReport(train, title=\"Find IT UGM Profiling Report\")"
   ]
  },
  {
   "cell_type": "markdown",
   "metadata": {},
   "source": [
    "profile.to_file(\"Find IT UGM Profiling Report.html\")"
   ]
  },
  {
   "cell_type": "markdown",
   "metadata": {},
   "source": [
    "<b> Setelah melihat profiling report </b>\n",
    "\n",
    "Hal yang patut diperhatikan (7 Mei 2021)\n",
    "- terdapat deskripsi karya buku yang sama, ada apa ? kok bisa? apakah bukunya sama ? apakah buku  sama dengan edisi berbeda ?\n",
    "- edisi buku memiliki banyak nilai NULL (93.5 persen), terlalu banyak miss\n",
    "- edisi buku memiliki makna yang sama dengan frasa yang berbeda contoh (first edition, 1st edition, 1st dsb) <b> mesti di sama ratakan semua </b>\n",
    "- published_date dan publisher_id memiliki jumlah NULL yang sama, apakah divariable yang sama ? tingkat NULL 84.0 persen (2982 NULL)\n",
    "- reading_age memiliki NULL 96.5 persen dan memiliki makna yang aneh, mesti ditinjau lebih lanjut (rentangya)\n",
    "- lexile_measure memiliki NULL 97.5 persen\n",
    "- grade level memiliki NULL 97.2 persen\n",
    "- weight memiliki NULL 85.4 persen\n",
    "- kredibilitas sumber 1 tentang rating diragukan karena memiliki 84.4 persen NULL\n",
    "- dimension memiliki NULL > 85.6 persen\n",
    "- genre weight dan genre mesti disatukan, mungkin bisa dibuat seluruh genre dulu, trs defaultnya 0. kalau dia ada genre apa baru di isi sesuai weightnya  gitu\n",
    "\n",
    "<b> VARIABEL PRICE NULL SEBANYAK 84.7 PERSEN PADAHAL INI BAGIAN YANG PENGEN DIPREDIKSI, TRUS GIMNA ???? </b>\n"
   ]
  },
  {
   "cell_type": "markdown",
   "metadata": {},
   "source": [
    "# Mencoba analisis data "
   ]
  },
  {
   "cell_type": "markdown",
   "metadata": {},
   "source": [
    "trainPrice = train[train['price'].isna()==False]"
   ]
  },
  {
   "cell_type": "markdown",
   "metadata": {},
   "source": [
    "ProfileReport(trainPrice,title=\"Find IT UGM Profiling Report without price NULL\").to_file(\"Find IT UGM Profiling Report without price NULL.html\")"
   ]
  },
  {
   "cell_type": "code",
   "execution_count": 4,
   "metadata": {},
   "outputs": [
    {
     "ename": "NameError",
     "evalue": "name 'trainPrice' is not defined",
     "output_type": "error",
     "traceback": [
      "\u001b[1;31m---------------------------------------------------------------------------\u001b[0m",
      "\u001b[1;31mNameError\u001b[0m                                 Traceback (most recent call last)",
      "\u001b[1;32m<ipython-input-4-53228bbeeb2b>\u001b[0m in \u001b[0;36m<module>\u001b[1;34m\u001b[0m\n\u001b[1;32m----> 1\u001b[1;33m \u001b[0mtrainPrice\u001b[0m\u001b[1;33m.\u001b[0m\u001b[0mhead\u001b[0m\u001b[1;33m(\u001b[0m\u001b[1;36m5\u001b[0m\u001b[1;33m)\u001b[0m\u001b[1;33m\u001b[0m\u001b[1;33m\u001b[0m\u001b[0m\n\u001b[0m",
      "\u001b[1;31mNameError\u001b[0m: name 'trainPrice' is not defined"
     ]
    }
   ],
   "source": [
    "trainPrice.head(5)"
   ]
  },
  {
   "cell_type": "code",
   "execution_count": null,
   "metadata": {},
   "outputs": [],
   "source": [
    "train = trainPrice"
   ]
  },
  {
   "cell_type": "code",
   "execution_count": null,
   "metadata": {},
   "outputs": [],
   "source": [
    "train.bookformat.unique()"
   ]
  },
  {
   "cell_type": "code",
   "execution_count": null,
   "metadata": {},
   "outputs": [],
   "source": []
  }
 ],
 "metadata": {
  "kernelspec": {
   "display_name": "Python 3",
   "language": "python",
   "name": "python3"
  },
  "language_info": {
   "codemirror_mode": {
    "name": "ipython",
    "version": 3
   },
   "file_extension": ".py",
   "mimetype": "text/x-python",
   "name": "python",
   "nbconvert_exporter": "python",
   "pygments_lexer": "ipython3",
   "version": "3.8.5"
  }
 },
 "nbformat": 4,
 "nbformat_minor": 4
}
