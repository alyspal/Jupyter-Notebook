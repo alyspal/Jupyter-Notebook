{
 "cells": [
  {
   "cell_type": "code",
   "execution_count": 1,
   "id": "1b11ec83",
   "metadata": {
    "ExecuteTime": {
     "end_time": "2021-07-26T12:32:32.228633Z",
     "start_time": "2021-07-26T12:32:32.217623Z"
    }
   },
   "outputs": [],
   "source": [
    "def functionA(train):\n",
    "    Nama_keluarga = [] # variabel yang akan menyimpan nama keluarga\n",
    "\n",
    "    for i in range(len(train.Name)): # Proses pengambilan nama keluarga pada variabel nama\n",
    "        Nama_keluarga = Nama_keluarga + [train.Name[i][0]]\n",
    "\n",
    "    for i in range(len(train.Name)): # Proses Penghapusan nama keluarga pada variabel nama\n",
    "        train.Name[i] = train.Name[i][1]"
   ]
  },
  {
   "cell_type": "code",
   "execution_count": null,
   "id": "45f15c38",
   "metadata": {},
   "outputs": [],
   "source": [
    "hasil = functionB(functionA(train))"
   ]
  }
 ],
 "metadata": {
  "kernelspec": {
   "display_name": "Python 3",
   "language": "python",
   "name": "python3"
  },
  "language_info": {
   "codemirror_mode": {
    "name": "ipython",
    "version": 3
   },
   "file_extension": ".py",
   "mimetype": "text/x-python",
   "name": "python",
   "nbconvert_exporter": "python",
   "pygments_lexer": "ipython3",
   "version": "3.8.8"
  }
 },
 "nbformat": 4,
 "nbformat_minor": 5
}
