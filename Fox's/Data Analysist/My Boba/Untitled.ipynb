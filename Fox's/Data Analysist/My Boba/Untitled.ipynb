{
 "cells": [
  {
   "cell_type": "markdown",
   "metadata": {},
   "source": [
    "# Proses Awal"
   ]
  },
  {
   "cell_type": "code",
   "execution_count": 1,
   "metadata": {},
   "outputs": [
    {
     "ename": "ModuleNotFoundError",
     "evalue": "No module named 'pandas_profiling'",
     "output_type": "error",
     "traceback": [
      "\u001b[1;31m---------------------------------------------------------------------------\u001b[0m",
      "\u001b[1;31mModuleNotFoundError\u001b[0m                       Traceback (most recent call last)",
      "\u001b[1;32m<ipython-input-1-ea8a1e71686c>\u001b[0m in \u001b[0;36m<module>\u001b[1;34m\u001b[0m\n\u001b[0;32m      3\u001b[0m \u001b[1;32mimport\u001b[0m \u001b[0mmatplotlib\u001b[0m\u001b[1;33m.\u001b[0m\u001b[0mpyplot\u001b[0m \u001b[1;32mas\u001b[0m \u001b[0mplt\u001b[0m \u001b[1;31m# library untuk visualisasi data\u001b[0m\u001b[1;33m\u001b[0m\u001b[1;33m\u001b[0m\u001b[0m\n\u001b[0;32m      4\u001b[0m \u001b[1;32mimport\u001b[0m \u001b[0mseaborn\u001b[0m \u001b[1;32mas\u001b[0m \u001b[0msns\u001b[0m \u001b[1;31m# visualisasi data\u001b[0m\u001b[1;33m\u001b[0m\u001b[1;33m\u001b[0m\u001b[0m\n\u001b[1;32m----> 5\u001b[1;33m \u001b[1;32mfrom\u001b[0m \u001b[0mpandas_profiling\u001b[0m \u001b[1;32mimport\u001b[0m \u001b[0mProfileReport\u001b[0m\u001b[1;33m\u001b[0m\u001b[1;33m\u001b[0m\u001b[0m\n\u001b[0m",
      "\u001b[1;31mModuleNotFoundError\u001b[0m: No module named 'pandas_profiling'"
     ]
    }
   ],
   "source": [
    "import pandas as pd # library untuk melakakan data analisis dalam bentuk tabel\n",
    "import numpy as np # numerikal python untuk melakukan fungsi agregasi dan aljabar linear (+-x:, mean median)\n",
    "import matplotlib.pyplot as plt # library untuk visualisasi data\n",
    "import seaborn as sns # visualisasi data\n",
    "from pandas_profiling import ProfileReport"
   ]
  },
  {
   "cell_type": "code",
   "execution_count": 2,
   "metadata": {},
   "outputs": [],
   "source": [
    "data = pd.read_csv(\"vaksinasi.csv\")"
   ]
  },
  {
   "cell_type": "code",
   "execution_count": 22,
   "metadata": {},
   "outputs": [
    {
     "data": {
      "application/vnd.jupyter.widget-view+json": {
       "model_id": "e741fee8988a4599b3a05fca3a6f9ac1",
       "version_major": 2,
       "version_minor": 0
      },
      "text/plain": [
       "HBox(children=(HTML(value='Summarize dataset'), FloatProgress(value=0.0, max=35.0), HTML(value='')))"
      ]
     },
     "metadata": {},
     "output_type": "display_data"
    },
    {
     "name": "stdout",
     "output_type": "stream",
     "text": [
      "\n"
     ]
    },
    {
     "data": {
      "application/vnd.jupyter.widget-view+json": {
       "model_id": "bc23bf8b0cfa46ab843e3dd292c98a86",
       "version_major": 2,
       "version_minor": 0
      },
      "text/plain": [
       "HBox(children=(HTML(value='Generate report structure'), FloatProgress(value=0.0, max=1.0), HTML(value='')))"
      ]
     },
     "metadata": {},
     "output_type": "display_data"
    },
    {
     "name": "stdout",
     "output_type": "stream",
     "text": [
      "\n"
     ]
    },
    {
     "data": {
      "application/vnd.jupyter.widget-view+json": {
       "model_id": "10e9658047d84d2b98ff25304d30a49a",
       "version_major": 2,
       "version_minor": 0
      },
      "text/plain": [
       "HBox(children=(HTML(value='Render HTML'), FloatProgress(value=0.0, max=1.0), HTML(value='')))"
      ]
     },
     "metadata": {},
     "output_type": "display_data"
    },
    {
     "name": "stdout",
     "output_type": "stream",
     "text": [
      "\n"
     ]
    },
    {
     "data": {
      "application/vnd.jupyter.widget-view+json": {
       "model_id": "5175909f63ac404ba845b6423e03b3f4",
       "version_major": 2,
       "version_minor": 0
      },
      "text/plain": [
       "HBox(children=(HTML(value='Export report to file'), FloatProgress(value=0.0, max=1.0), HTML(value='')))"
      ]
     },
     "metadata": {},
     "output_type": "display_data"
    },
    {
     "name": "stdout",
     "output_type": "stream",
     "text": [
      "\n"
     ]
    }
   ],
   "source": [
    "profile = ProfileReport(data,title=\"MY BOBA LOVE\")\n",
    "profile.to_file(\"MY BOBA REQEUST.html\")"
   ]
  },
  {
   "cell_type": "markdown",
   "metadata": {},
   "source": [
    "# Melihat Sekilas Data"
   ]
  },
  {
   "cell_type": "code",
   "execution_count": 11,
   "metadata": {},
   "outputs": [
    {
     "name": "stdout",
     "output_type": "stream",
     "text": [
      "<class 'pandas.core.frame.DataFrame'>\n",
      "RangeIndex: 840 entries, 0 to 839\n",
      "Data columns (total 22 columns):\n",
      " #   Column                     Non-Null Count  Dtype \n",
      "---  ------                     --------------  ----- \n",
      " 0   Sex                        840 non-null    object\n",
      " 1   Age                        840 non-null    object\n",
      " 2   Professions                840 non-null    object\n",
      " 3   Education                  840 non-null    object\n",
      " 4   Living Area                840 non-null    object\n",
      " 5   1. Swelling                840 non-null    object\n",
      " 6   2. Redness                 840 non-null    object\n",
      " 7   3. Itching                 840 non-null    object\n",
      " 8   4. Fever                   840 non-null    object\n",
      " 9   5. Headache                840 non-null    object\n",
      " 10  6. Muscle Pain             840 non-null    object\n",
      " 11  7. Tiredness               840 non-null    object\n",
      " 12  8. Coughing                840 non-null    object\n",
      " 13  9. Diarrhea                840 non-null    object\n",
      " 14  10. Nausea and vomiting    840 non-null    object\n",
      " 15  11. Breathlessness         840 non-null    object\n",
      " 16  12. Joint Pain             840 non-null    object\n",
      " 17  13. Fainted                840 non-null    object\n",
      " 18  14. Anaphylactic Reaction  840 non-null    object\n",
      " 19  15. Tingling               840 non-null    object\n",
      " 20  16. Swollen Lymph Nodes    840 non-null    object\n",
      " 21  Symptoms time              840 non-null    object\n",
      "dtypes: object(22)\n",
      "memory usage: 144.5+ KB\n"
     ]
    }
   ],
   "source": [
    "data.info()"
   ]
  },
  {
   "cell_type": "code",
   "execution_count": 4,
   "metadata": {},
   "outputs": [
    {
     "name": "stdout",
     "output_type": "stream",
     "text": [
      "Sex\n",
      "Age\n",
      "Professions\n",
      "Education\n",
      "Living Area\n",
      "1. Swelling\n",
      "2. Redness\n",
      "3. Itching\n",
      "4. Fever\n",
      "5. Headache\n",
      "6. Muscle Pain\n",
      "7. Tiredness\n",
      "8. Coughing\n",
      "9. Diarrhea\n",
      "10. Nausea and vomiting\n",
      "11. Breathlessness\n",
      "12. Joint Pain\n",
      "13. Fainted\n",
      "14. Anaphylactic Reaction\n",
      "15. Tingling\n",
      "16. Swollen Lymph Nodes\n",
      "Symptoms time\n"
     ]
    }
   ],
   "source": [
    "for i in data:\n",
    "    print(i)"
   ]
  },
  {
   "cell_type": "code",
   "execution_count": 6,
   "metadata": {},
   "outputs": [
    {
     "data": {
      "text/html": [
       "<div>\n",
       "<style scoped>\n",
       "    .dataframe tbody tr th:only-of-type {\n",
       "        vertical-align: middle;\n",
       "    }\n",
       "\n",
       "    .dataframe tbody tr th {\n",
       "        vertical-align: top;\n",
       "    }\n",
       "\n",
       "    .dataframe thead th {\n",
       "        text-align: right;\n",
       "    }\n",
       "</style>\n",
       "<table border=\"1\" class=\"dataframe\">\n",
       "  <thead>\n",
       "    <tr style=\"text-align: right;\">\n",
       "      <th></th>\n",
       "      <th>Sex</th>\n",
       "      <th>Age</th>\n",
       "      <th>Professions</th>\n",
       "      <th>Education</th>\n",
       "      <th>Living Area</th>\n",
       "      <th>1. Swelling</th>\n",
       "      <th>2. Redness</th>\n",
       "      <th>3. Itching</th>\n",
       "      <th>4. Fever</th>\n",
       "      <th>5. Headache</th>\n",
       "      <th>...</th>\n",
       "      <th>8. Coughing</th>\n",
       "      <th>9. Diarrhea</th>\n",
       "      <th>10. Nausea and vomiting</th>\n",
       "      <th>11. Breathlessness</th>\n",
       "      <th>12. Joint Pain</th>\n",
       "      <th>13. Fainted</th>\n",
       "      <th>14. Anaphylactic Reaction</th>\n",
       "      <th>15. Tingling</th>\n",
       "      <th>16. Swollen Lymph Nodes</th>\n",
       "      <th>Symptoms time</th>\n",
       "    </tr>\n",
       "  </thead>\n",
       "  <tbody>\n",
       "    <tr>\n",
       "      <th>0</th>\n",
       "      <td>Male</td>\n",
       "      <td>51-55 years</td>\n",
       "      <td>Medical specialist</td>\n",
       "      <td>Master degree</td>\n",
       "      <td>Downtown</td>\n",
       "      <td>No</td>\n",
       "      <td>No</td>\n",
       "      <td>No</td>\n",
       "      <td>No</td>\n",
       "      <td>No</td>\n",
       "      <td>...</td>\n",
       "      <td>No</td>\n",
       "      <td>No</td>\n",
       "      <td>No</td>\n",
       "      <td>No</td>\n",
       "      <td>No</td>\n",
       "      <td>No</td>\n",
       "      <td>No</td>\n",
       "      <td>No</td>\n",
       "      <td>No</td>\n",
       "      <td>None</td>\n",
       "    </tr>\n",
       "    <tr>\n",
       "      <th>1</th>\n",
       "      <td>Female</td>\n",
       "      <td>41-45 years</td>\n",
       "      <td>Non medical staff</td>\n",
       "      <td>Master degree</td>\n",
       "      <td>Downtown</td>\n",
       "      <td>No</td>\n",
       "      <td>No</td>\n",
       "      <td>No</td>\n",
       "      <td>No</td>\n",
       "      <td>No</td>\n",
       "      <td>...</td>\n",
       "      <td>No</td>\n",
       "      <td>No</td>\n",
       "      <td>No</td>\n",
       "      <td>No</td>\n",
       "      <td>No</td>\n",
       "      <td>No</td>\n",
       "      <td>No</td>\n",
       "      <td>No</td>\n",
       "      <td>No</td>\n",
       "      <td>None</td>\n",
       "    </tr>\n",
       "    <tr>\n",
       "      <th>2</th>\n",
       "      <td>Male</td>\n",
       "      <td>56-60 years</td>\n",
       "      <td>Medical doctor</td>\n",
       "      <td>Master degree</td>\n",
       "      <td>Downtown</td>\n",
       "      <td>No</td>\n",
       "      <td>No</td>\n",
       "      <td>No</td>\n",
       "      <td>No</td>\n",
       "      <td>No</td>\n",
       "      <td>...</td>\n",
       "      <td>No</td>\n",
       "      <td>No</td>\n",
       "      <td>No</td>\n",
       "      <td>No</td>\n",
       "      <td>No</td>\n",
       "      <td>No</td>\n",
       "      <td>No</td>\n",
       "      <td>No</td>\n",
       "      <td>No</td>\n",
       "      <td>&lt; 24 hours</td>\n",
       "    </tr>\n",
       "    <tr>\n",
       "      <th>3</th>\n",
       "      <td>Male</td>\n",
       "      <td>26-30 years</td>\n",
       "      <td>Non medical staff</td>\n",
       "      <td>Bachelor degree</td>\n",
       "      <td>Downtown</td>\n",
       "      <td>No</td>\n",
       "      <td>No</td>\n",
       "      <td>No</td>\n",
       "      <td>No</td>\n",
       "      <td>No</td>\n",
       "      <td>...</td>\n",
       "      <td>No</td>\n",
       "      <td>No</td>\n",
       "      <td>No</td>\n",
       "      <td>No</td>\n",
       "      <td>No</td>\n",
       "      <td>No</td>\n",
       "      <td>No</td>\n",
       "      <td>No</td>\n",
       "      <td>No</td>\n",
       "      <td>None</td>\n",
       "    </tr>\n",
       "    <tr>\n",
       "      <th>4</th>\n",
       "      <td>Female</td>\n",
       "      <td>31-35 years</td>\n",
       "      <td>Medical doctor</td>\n",
       "      <td>Bachelor degree</td>\n",
       "      <td>Downtown</td>\n",
       "      <td>No</td>\n",
       "      <td>No</td>\n",
       "      <td>No</td>\n",
       "      <td>No</td>\n",
       "      <td>No</td>\n",
       "      <td>...</td>\n",
       "      <td>Yes</td>\n",
       "      <td>No</td>\n",
       "      <td>No</td>\n",
       "      <td>No</td>\n",
       "      <td>No</td>\n",
       "      <td>No</td>\n",
       "      <td>No</td>\n",
       "      <td>No</td>\n",
       "      <td>No</td>\n",
       "      <td>&lt; 24 hours</td>\n",
       "    </tr>\n",
       "  </tbody>\n",
       "</table>\n",
       "<p>5 rows × 22 columns</p>\n",
       "</div>"
      ],
      "text/plain": [
       "      Sex          Age         Professions        Education Living Area  \\\n",
       "0    Male  51-55 years  Medical specialist    Master degree    Downtown   \n",
       "1  Female  41-45 years   Non medical staff    Master degree    Downtown   \n",
       "2    Male  56-60 years      Medical doctor    Master degree    Downtown   \n",
       "3    Male  26-30 years   Non medical staff  Bachelor degree    Downtown   \n",
       "4  Female  31-35 years      Medical doctor  Bachelor degree    Downtown   \n",
       "\n",
       "  1. Swelling 2. Redness 3. Itching 4. Fever 5. Headache  ... 8. Coughing  \\\n",
       "0          No         No         No       No          No  ...          No   \n",
       "1          No         No         No       No          No  ...          No   \n",
       "2          No         No         No       No          No  ...          No   \n",
       "3          No         No         No       No          No  ...          No   \n",
       "4          No         No         No       No          No  ...         Yes   \n",
       "\n",
       "  9. Diarrhea 10. Nausea and vomiting 11. Breathlessness 12. Joint Pain  \\\n",
       "0          No                      No                 No             No   \n",
       "1          No                      No                 No             No   \n",
       "2          No                      No                 No             No   \n",
       "3          No                      No                 No             No   \n",
       "4          No                      No                 No             No   \n",
       "\n",
       "  13. Fainted 14. Anaphylactic Reaction 15. Tingling 16. Swollen Lymph Nodes  \\\n",
       "0          No                        No           No                      No   \n",
       "1          No                        No           No                      No   \n",
       "2          No                        No           No                      No   \n",
       "3          No                        No           No                      No   \n",
       "4          No                        No           No                      No   \n",
       "\n",
       "  Symptoms time  \n",
       "0          None  \n",
       "1          None  \n",
       "2    < 24 hours  \n",
       "3          None  \n",
       "4    < 24 hours  \n",
       "\n",
       "[5 rows x 22 columns]"
      ]
     },
     "execution_count": 6,
     "metadata": {},
     "output_type": "execute_result"
    }
   ],
   "source": [
    "data.head(5)"
   ]
  },
  {
   "cell_type": "code",
   "execution_count": 17,
   "metadata": {},
   "outputs": [
    {
     "name": "stdout",
     "output_type": "stream",
     "text": [
      "Female    570\n",
      "Male      270\n",
      "Name: Sex, dtype: int64\n",
      "AxesSubplot(0.260833,0.125;0.503333x0.755)\n"
     ]
    },
    {
     "data": {
      "image/png": "[encoded data removed]",
      "text/plain": [
       "<Figure size 432x288 with 1 Axes>"
      ]
     },
     "metadata": {},
     "output_type": "display_data"
    }
   ],
   "source": [
    "tempt = data.Sex.value_counts()\n",
    "print(tempt)\n",
    "\n",
    "print(tempt.plot.pie(title='Gender Responden',autopct='%1.2f%%'))"
   ]
  },
  {
   "cell_type": "code",
   "execution_count": 24,
   "metadata": {},
   "outputs": [
    {
     "name": "stdout",
     "output_type": "stream",
     "text": [
      "Nurse                 363\n",
      "Non medical staff     284\n",
      "Medical doctor        115\n",
      "Medical specialist     49\n",
      "Midwife                29\n",
      "Name: Professions, dtype: int64\n"
     ]
    },
    {
     "data": {
      "text/plain": [
       "<AxesSubplot:title={'center':'Gender Responden'}, ylabel='Professions'>"
      ]
     },
     "execution_count": 24,
     "metadata": {},
     "output_type": "execute_result"
    },
    {
     "data": {
      "image/png": "[encoded data removed]",
      "text/plain": [
       "<Figure size 432x288 with 1 Axes>"
      ]
     },
     "metadata": {},
     "output_type": "display_data"
    }
   ],
   "source": [
    "tempt = data.Professions.value_counts()\n",
    "print(tempt)\n",
    "\n",
    "tempt.plot.pie(title='Gender Responden',autopct='%1.2f%%')"
   ]
  },
  {
   "cell_type": "code",
   "execution_count": 20,
   "metadata": {},
   "outputs": [
    {
     "name": "stdout",
     "output_type": "stream",
     "text": [
      "26-30 years    205\n",
      "31-35 years    190\n",
      "36-40 years    120\n",
      "20-25 years     79\n",
      "51-55 years     72\n",
      "41-45 years     72\n",
      "46-50 years     70\n",
      "56-60 years     26\n",
      "> 60 years       3\n",
      "< 20 years       3\n",
      "Name: Age, dtype: int64\n"
     ]
    },
    {
     "data": {
      "text/plain": [
       "<AxesSubplot:>"
      ]
     },
     "execution_count": 20,
     "metadata": {},
     "output_type": "execute_result"
    },
    {
     "data": {
      "image/png": "[encoded data removed]",
      "text/plain": [
       "<Figure size 432x288 with 1 Axes>"
      ]
     },
     "metadata": {
      "needs_background": "light"
     },
     "output_type": "display_data"
    }
   ],
   "source": [
    "tempt = data.Age.value_counts()\n",
    "print(tempt)\n",
    "\n",
    "tempt.plot.bar()"
   ]
  },
  {
   "cell_type": "markdown",
   "metadata": {},
   "source": [
    "# Meninjau Data Male"
   ]
  },
  {
   "cell_type": "code",
   "execution_count": 12,
   "metadata": {},
   "outputs": [],
   "source": [
    "data_laki = data[data[\"Sex\"]==\"Male\"]"
   ]
  },
  {
   "cell_type": "code",
   "execution_count": 14,
   "metadata": {},
   "outputs": [
    {
     "data": {
      "text/html": [
       "<div>\n",
       "<style scoped>\n",
       "    .dataframe tbody tr th:only-of-type {\n",
       "        vertical-align: middle;\n",
       "    }\n",
       "\n",
       "    .dataframe tbody tr th {\n",
       "        vertical-align: top;\n",
       "    }\n",
       "\n",
       "    .dataframe thead th {\n",
       "        text-align: right;\n",
       "    }\n",
       "</style>\n",
       "<table border=\"1\" class=\"dataframe\">\n",
       "  <thead>\n",
       "    <tr style=\"text-align: right;\">\n",
       "      <th></th>\n",
       "      <th>Sex</th>\n",
       "      <th>Age</th>\n",
       "      <th>Professions</th>\n",
       "      <th>Education</th>\n",
       "      <th>Living Area</th>\n",
       "      <th>1. Swelling</th>\n",
       "      <th>2. Redness</th>\n",
       "      <th>3. Itching</th>\n",
       "      <th>4. Fever</th>\n",
       "      <th>5. Headache</th>\n",
       "      <th>...</th>\n",
       "      <th>8. Coughing</th>\n",
       "      <th>9. Diarrhea</th>\n",
       "      <th>10. Nausea and vomiting</th>\n",
       "      <th>11. Breathlessness</th>\n",
       "      <th>12. Joint Pain</th>\n",
       "      <th>13. Fainted</th>\n",
       "      <th>14. Anaphylactic Reaction</th>\n",
       "      <th>15. Tingling</th>\n",
       "      <th>16. Swollen Lymph Nodes</th>\n",
       "      <th>Symptoms time</th>\n",
       "    </tr>\n",
       "  </thead>\n",
       "  <tbody>\n",
       "    <tr>\n",
       "      <th>0</th>\n",
       "      <td>Male</td>\n",
       "      <td>51-55 years</td>\n",
       "      <td>Medical specialist</td>\n",
       "      <td>Master degree</td>\n",
       "      <td>Downtown</td>\n",
       "      <td>No</td>\n",
       "      <td>No</td>\n",
       "      <td>No</td>\n",
       "      <td>No</td>\n",
       "      <td>No</td>\n",
       "      <td>...</td>\n",
       "      <td>No</td>\n",
       "      <td>No</td>\n",
       "      <td>No</td>\n",
       "      <td>No</td>\n",
       "      <td>No</td>\n",
       "      <td>No</td>\n",
       "      <td>No</td>\n",
       "      <td>No</td>\n",
       "      <td>No</td>\n",
       "      <td>None</td>\n",
       "    </tr>\n",
       "    <tr>\n",
       "      <th>2</th>\n",
       "      <td>Male</td>\n",
       "      <td>56-60 years</td>\n",
       "      <td>Medical doctor</td>\n",
       "      <td>Master degree</td>\n",
       "      <td>Downtown</td>\n",
       "      <td>No</td>\n",
       "      <td>No</td>\n",
       "      <td>No</td>\n",
       "      <td>No</td>\n",
       "      <td>No</td>\n",
       "      <td>...</td>\n",
       "      <td>No</td>\n",
       "      <td>No</td>\n",
       "      <td>No</td>\n",
       "      <td>No</td>\n",
       "      <td>No</td>\n",
       "      <td>No</td>\n",
       "      <td>No</td>\n",
       "      <td>No</td>\n",
       "      <td>No</td>\n",
       "      <td>&lt; 24 hours</td>\n",
       "    </tr>\n",
       "    <tr>\n",
       "      <th>3</th>\n",
       "      <td>Male</td>\n",
       "      <td>26-30 years</td>\n",
       "      <td>Non medical staff</td>\n",
       "      <td>Bachelor degree</td>\n",
       "      <td>Downtown</td>\n",
       "      <td>No</td>\n",
       "      <td>No</td>\n",
       "      <td>No</td>\n",
       "      <td>No</td>\n",
       "      <td>No</td>\n",
       "      <td>...</td>\n",
       "      <td>No</td>\n",
       "      <td>No</td>\n",
       "      <td>No</td>\n",
       "      <td>No</td>\n",
       "      <td>No</td>\n",
       "      <td>No</td>\n",
       "      <td>No</td>\n",
       "      <td>No</td>\n",
       "      <td>No</td>\n",
       "      <td>None</td>\n",
       "    </tr>\n",
       "    <tr>\n",
       "      <th>5</th>\n",
       "      <td>Male</td>\n",
       "      <td>46-50 years</td>\n",
       "      <td>Non medical staff</td>\n",
       "      <td>Bachelor degree</td>\n",
       "      <td>Downtown</td>\n",
       "      <td>No</td>\n",
       "      <td>No</td>\n",
       "      <td>No</td>\n",
       "      <td>No</td>\n",
       "      <td>No</td>\n",
       "      <td>...</td>\n",
       "      <td>No</td>\n",
       "      <td>No</td>\n",
       "      <td>No</td>\n",
       "      <td>No</td>\n",
       "      <td>No</td>\n",
       "      <td>No</td>\n",
       "      <td>No</td>\n",
       "      <td>No</td>\n",
       "      <td>No</td>\n",
       "      <td>&lt; 24 hours</td>\n",
       "    </tr>\n",
       "    <tr>\n",
       "      <th>9</th>\n",
       "      <td>Male</td>\n",
       "      <td>51-55 years</td>\n",
       "      <td>Nurse</td>\n",
       "      <td>Master degree</td>\n",
       "      <td>Downtown</td>\n",
       "      <td>No</td>\n",
       "      <td>No</td>\n",
       "      <td>No</td>\n",
       "      <td>No</td>\n",
       "      <td>No</td>\n",
       "      <td>...</td>\n",
       "      <td>No</td>\n",
       "      <td>No</td>\n",
       "      <td>No</td>\n",
       "      <td>No</td>\n",
       "      <td>No</td>\n",
       "      <td>No</td>\n",
       "      <td>No</td>\n",
       "      <td>No</td>\n",
       "      <td>No</td>\n",
       "      <td>&lt; 24 hours</td>\n",
       "    </tr>\n",
       "  </tbody>\n",
       "</table>\n",
       "<p>5 rows × 22 columns</p>\n",
       "</div>"
      ],
      "text/plain": [
       "    Sex          Age         Professions        Education Living Area  \\\n",
       "0  Male  51-55 years  Medical specialist    Master degree    Downtown   \n",
       "2  Male  56-60 years      Medical doctor    Master degree    Downtown   \n",
       "3  Male  26-30 years   Non medical staff  Bachelor degree    Downtown   \n",
       "5  Male  46-50 years   Non medical staff  Bachelor degree    Downtown   \n",
       "9  Male  51-55 years               Nurse    Master degree    Downtown   \n",
       "\n",
       "  1. Swelling 2. Redness 3. Itching 4. Fever 5. Headache  ... 8. Coughing  \\\n",
       "0          No         No         No       No          No  ...          No   \n",
       "2          No         No         No       No          No  ...          No   \n",
       "3          No         No         No       No          No  ...          No   \n",
       "5          No         No         No       No          No  ...          No   \n",
       "9          No         No         No       No          No  ...          No   \n",
       "\n",
       "  9. Diarrhea 10. Nausea and vomiting 11. Breathlessness 12. Joint Pain  \\\n",
       "0          No                      No                 No             No   \n",
       "2          No                      No                 No             No   \n",
       "3          No                      No                 No             No   \n",
       "5          No                      No                 No             No   \n",
       "9          No                      No                 No             No   \n",
       "\n",
       "  13. Fainted 14. Anaphylactic Reaction 15. Tingling 16. Swollen Lymph Nodes  \\\n",
       "0          No                        No           No                      No   \n",
       "2          No                        No           No                      No   \n",
       "3          No                        No           No                      No   \n",
       "5          No                        No           No                      No   \n",
       "9          No                        No           No                      No   \n",
       "\n",
       "  Symptoms time  \n",
       "0          None  \n",
       "2    < 24 hours  \n",
       "3          None  \n",
       "5    < 24 hours  \n",
       "9    < 24 hours  \n",
       "\n",
       "[5 rows x 22 columns]"
      ]
     },
     "execution_count": 14,
     "metadata": {},
     "output_type": "execute_result"
    }
   ],
   "source": [
    "data_laki.head(5)"
   ]
  },
  {
   "cell_type": "code",
   "execution_count": 23,
   "metadata": {},
   "outputs": [
    {
     "data": {
      "text/plain": [
       "26-30 years    205\n",
       "31-35 years    190\n",
       "36-40 years    120\n",
       "20-25 years     79\n",
       "51-55 years     72\n",
       "41-45 years     72\n",
       "46-50 years     70\n",
       "56-60 years     26\n",
       "> 60 years       3\n",
       "< 20 years       3\n",
       "Name: Age, dtype: int64"
      ]
     },
     "execution_count": 23,
     "metadata": {},
     "output_type": "execute_result"
    }
   ],
   "source": [
    "data.Age.value_counts()"
   ]
  },
  {
   "cell_type": "code",
   "execution_count": null,
   "metadata": {},
   "outputs": [],
   "source": []
  }
 ],
 "metadata": {
  "kernelspec": {
   "display_name": "Python 3",
   "language": "python",
   "name": "python3"
  },
  "language_info": {
   "codemirror_mode": {
    "name": "ipython",
    "version": 3
   },
   "file_extension": ".py",
   "mimetype": "text/x-python",
   "name": "python",
   "nbconvert_exporter": "python",
   "pygments_lexer": "ipython3",
   "version": "3.8.8"
  }
 },
 "nbformat": 4,
 "nbformat_minor": 4
}
