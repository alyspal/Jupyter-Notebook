{
 "cells": [
  {
   "cell_type": "markdown",
   "metadata": {},
   "source": [
    "# SMS Spam Detection\n",
    "\n",
    "Berikut ini akan dilakukan salah satu implementasi dari algoritma naive Bayes, yaitu dalam pengklasifikasian suatu SMS apakah termasuk kelompok spam atau bukan.\n",
    "Untuk memabantu dalam processing data berupa text, kita akan menggunakan salah satu package yang disediakan oleh Python untuk melakukan text processing, yaitu nltk (Natural Language Tool Kit), yang biasanya digunakan untuk melakukan nlp (Natural Language Processing)."
   ]
  },
  {
   "cell_type": "markdown",
   "metadata": {},
   "source": [
    "## 1. Pemgimportan Package dan Dataset\n",
    "\n",
    "Berikut adalah proses pengimportan package yang dibutuhkan selama proses pengolahan data dan pembuatan model nantinya. Dan juga proses pengimportan data yang akan digunakan untuk pemodelan. Sumber dari data sendiri diambil dari website Kaggle."
   ]
  },
  {
   "cell_type": "code",
   "execution_count": 1,
   "metadata": {
    "ExecuteTime": {
     "end_time": "2021-10-11T03:51:40.057545Z",
     "start_time": "2021-10-11T03:51:38.886704Z"
    }
   },
   "outputs": [],
   "source": [
    "import pandas as pd\n",
    "import numpy as np\n",
    "import re\n",
    "import nltk\n",
    "from nltk.corpus import stopwords\n",
    "from sklearn.model_selection import train_test_split, cross_validate\n",
    "from sklearn.metrics import accuracy_score\n",
    "from sklearn.feature_extraction.text import CountVectorizer, TfidfVectorizer, TfidfTransformer\n",
    "from sklearn.pipeline import Pipeline"
   ]
  },
  {
   "cell_type": "code",
   "execution_count": 2,
   "metadata": {
    "ExecuteTime": {
     "end_time": "2021-10-11T03:51:40.072559Z",
     "start_time": "2021-10-11T03:51:40.058546Z"
    }
   },
   "outputs": [],
   "source": [
    "df = pd.read_csv('spam.csv', encoding='latin-1')"
   ]
  },
  {
   "cell_type": "markdown",
   "metadata": {},
   "source": [
    "## 2. Data Preprocessing\n",
    "\n",
    "Pada proses kali ini, kita akan melakukan beberapa proses untuk mengolah data yang telah diimport sehingga bisa digunakan, antara lain:\n",
    "+ checking missing value\n",
    "+ checking description of the data\n",
    "+ checking inbalance label\n",
    "+ data cleansing"
   ]
  },
  {
   "cell_type": "code",
   "execution_count": 3,
   "metadata": {
    "ExecuteTime": {
     "end_time": "2021-10-11T03:51:40.088573Z",
     "start_time": "2021-10-11T03:51:40.073560Z"
    }
   },
   "outputs": [],
   "source": [
    "df = df[['v2', 'v1']]\n",
    "df.rename(columns={'v2': 'messages', 'v1': 'category'}, inplace=True)"
   ]
  },
  {
   "cell_type": "code",
   "execution_count": 4,
   "metadata": {
    "ExecuteTime": {
     "end_time": "2021-10-11T03:51:40.104588Z",
     "start_time": "2021-10-11T03:51:40.089574Z"
    }
   },
   "outputs": [
    {
     "data": {
      "text/plain": [
       "messages    0\n",
       "category    0\n",
       "dtype: int64"
      ]
     },
     "execution_count": 4,
     "metadata": {},
     "output_type": "execute_result"
    }
   ],
   "source": [
    "df.isnull().sum()"
   ]
  },
  {
   "cell_type": "code",
   "execution_count": 5,
   "metadata": {
    "ExecuteTime": {
     "end_time": "2021-10-11T03:51:40.136617Z",
     "start_time": "2021-10-11T03:51:40.105589Z"
    }
   },
   "outputs": [
    {
     "data": {
      "text/html": [
       "<div>\n",
       "<style scoped>\n",
       "    .dataframe tbody tr th:only-of-type {\n",
       "        vertical-align: middle;\n",
       "    }\n",
       "\n",
       "    .dataframe tbody tr th {\n",
       "        vertical-align: top;\n",
       "    }\n",
       "\n",
       "    .dataframe thead th {\n",
       "        text-align: right;\n",
       "    }\n",
       "</style>\n",
       "<table border=\"1\" class=\"dataframe\">\n",
       "  <thead>\n",
       "    <tr style=\"text-align: right;\">\n",
       "      <th></th>\n",
       "      <th>messages</th>\n",
       "      <th>category</th>\n",
       "    </tr>\n",
       "  </thead>\n",
       "  <tbody>\n",
       "    <tr>\n",
       "      <th>count</th>\n",
       "      <td>5572</td>\n",
       "      <td>5572</td>\n",
       "    </tr>\n",
       "    <tr>\n",
       "      <th>unique</th>\n",
       "      <td>5169</td>\n",
       "      <td>2</td>\n",
       "    </tr>\n",
       "    <tr>\n",
       "      <th>top</th>\n",
       "      <td>Sorry, I'll call later</td>\n",
       "      <td>ham</td>\n",
       "    </tr>\n",
       "    <tr>\n",
       "      <th>freq</th>\n",
       "      <td>30</td>\n",
       "      <td>4825</td>\n",
       "    </tr>\n",
       "  </tbody>\n",
       "</table>\n",
       "</div>"
      ],
      "text/plain": [
       "                      messages category\n",
       "count                     5572     5572\n",
       "unique                    5169        2\n",
       "top     Sorry, I'll call later      ham\n",
       "freq                        30     4825"
      ]
     },
     "execution_count": 5,
     "metadata": {},
     "output_type": "execute_result"
    }
   ],
   "source": [
    "df.describe(include='all')"
   ]
  },
  {
   "cell_type": "code",
   "execution_count": 6,
   "metadata": {
    "ExecuteTime": {
     "end_time": "2021-10-11T03:51:40.152632Z",
     "start_time": "2021-10-11T03:51:40.137618Z"
    }
   },
   "outputs": [],
   "source": [
    "words = set(stopwords.words('english'))\n",
    "\n",
    "def cleaning_text(text):\n",
    "    text = text.lower()\n",
    "    text = re.sub(r'[^0-9a-zA-Z]', ' ', text)\n",
    "    text = \" \".join(word for word in text.split() if word not in words)\n",
    "    return text"
   ]
  },
  {
   "cell_type": "code",
   "execution_count": 7,
   "metadata": {
    "ExecuteTime": {
     "end_time": "2021-10-11T03:51:40.215689Z",
     "start_time": "2021-10-11T03:51:40.154633Z"
    }
   },
   "outputs": [
    {
     "data": {
      "text/html": [
       "<div>\n",
       "<style scoped>\n",
       "    .dataframe tbody tr th:only-of-type {\n",
       "        vertical-align: middle;\n",
       "    }\n",
       "\n",
       "    .dataframe tbody tr th {\n",
       "        vertical-align: top;\n",
       "    }\n",
       "\n",
       "    .dataframe thead th {\n",
       "        text-align: right;\n",
       "    }\n",
       "</style>\n",
       "<table border=\"1\" class=\"dataframe\">\n",
       "  <thead>\n",
       "    <tr style=\"text-align: right;\">\n",
       "      <th></th>\n",
       "      <th>clean_messages</th>\n",
       "      <th>category</th>\n",
       "    </tr>\n",
       "  </thead>\n",
       "  <tbody>\n",
       "    <tr>\n",
       "      <th>0</th>\n",
       "      <td>go jurong point crazy available bugis n great ...</td>\n",
       "      <td>ham</td>\n",
       "    </tr>\n",
       "    <tr>\n",
       "      <th>1</th>\n",
       "      <td>ok lar joking wif u oni</td>\n",
       "      <td>ham</td>\n",
       "    </tr>\n",
       "    <tr>\n",
       "      <th>2</th>\n",
       "      <td>free entry 2 wkly comp win fa cup final tkts 2...</td>\n",
       "      <td>spam</td>\n",
       "    </tr>\n",
       "    <tr>\n",
       "      <th>3</th>\n",
       "      <td>u dun say early hor u c already say</td>\n",
       "      <td>ham</td>\n",
       "    </tr>\n",
       "    <tr>\n",
       "      <th>4</th>\n",
       "      <td>nah think goes usf lives around though</td>\n",
       "      <td>ham</td>\n",
       "    </tr>\n",
       "  </tbody>\n",
       "</table>\n",
       "</div>"
      ],
      "text/plain": [
       "                                      clean_messages category\n",
       "0  go jurong point crazy available bugis n great ...      ham\n",
       "1                            ok lar joking wif u oni      ham\n",
       "2  free entry 2 wkly comp win fa cup final tkts 2...     spam\n",
       "3                u dun say early hor u c already say      ham\n",
       "4             nah think goes usf lives around though      ham"
      ]
     },
     "execution_count": 7,
     "metadata": {},
     "output_type": "execute_result"
    }
   ],
   "source": [
    "df['clean_messages'] = df['messages'].apply(cleaning_text)\n",
    "df_clean = df[['clean_messages', 'category']]\n",
    "df_clean.head()"
   ]
  },
  {
   "cell_type": "code",
   "execution_count": 8,
   "metadata": {
    "ExecuteTime": {
     "end_time": "2021-10-11T03:51:40.231703Z",
     "start_time": "2021-10-11T03:51:40.216690Z"
    }
   },
   "outputs": [
    {
     "data": {
      "text/html": [
       "<div>\n",
       "<style scoped>\n",
       "    .dataframe tbody tr th:only-of-type {\n",
       "        vertical-align: middle;\n",
       "    }\n",
       "\n",
       "    .dataframe tbody tr th {\n",
       "        vertical-align: top;\n",
       "    }\n",
       "\n",
       "    .dataframe thead th {\n",
       "        text-align: right;\n",
       "    }\n",
       "</style>\n",
       "<table border=\"1\" class=\"dataframe\">\n",
       "  <thead>\n",
       "    <tr style=\"text-align: right;\">\n",
       "      <th></th>\n",
       "      <th>messages</th>\n",
       "      <th>clean_messages</th>\n",
       "    </tr>\n",
       "    <tr>\n",
       "      <th>category</th>\n",
       "      <th></th>\n",
       "      <th></th>\n",
       "    </tr>\n",
       "  </thead>\n",
       "  <tbody>\n",
       "    <tr>\n",
       "      <th>ham</th>\n",
       "      <td>4825</td>\n",
       "      <td>4825</td>\n",
       "    </tr>\n",
       "    <tr>\n",
       "      <th>spam</th>\n",
       "      <td>747</td>\n",
       "      <td>747</td>\n",
       "    </tr>\n",
       "  </tbody>\n",
       "</table>\n",
       "</div>"
      ],
      "text/plain": [
       "          messages  clean_messages\n",
       "category                          \n",
       "ham           4825            4825\n",
       "spam           747             747"
      ]
     },
     "execution_count": 8,
     "metadata": {},
     "output_type": "execute_result"
    }
   ],
   "source": [
    "df.groupby('category').count()"
   ]
  },
  {
   "cell_type": "markdown",
   "metadata": {},
   "source": [
    "## 3. Proses Modeling Machine Learning\n",
    "\n",
    "Selanjutnya adalah proses modeling machine learning. Beberapa proses yang akan dilakukan diantaranya:\n",
    "+ splitting data ke dalam training dan testing dataset (feature dan label)\n",
    "+ membuat model dengan memanggil algoritma naive Bayes dan melakukan fitting training dataset ke model\n",
    "+ melakukan evaluasi model dengan cross-validation, confusion matrix, dan classification report\n",
    "+ menguji coba model dengan dataset buatan"
   ]
  },
  {
   "cell_type": "code",
   "execution_count": 9,
   "metadata": {
    "ExecuteTime": {
     "end_time": "2021-10-11T03:51:40.246717Z",
     "start_time": "2021-10-11T03:51:40.232704Z"
    }
   },
   "outputs": [],
   "source": [
    "X = df_clean['clean_messages']\n",
    "y = df['category']\n",
    "\n",
    "X_train, X_test, y_train, y_test = train_test_split(X, y, test_size=0.25, random_state=42, stratify=y)"
   ]
  },
  {
   "cell_type": "code",
   "execution_count": 10,
   "metadata": {
    "ExecuteTime": {
     "end_time": "2021-10-11T03:51:40.261731Z",
     "start_time": "2021-10-11T03:51:40.247718Z"
    }
   },
   "outputs": [
    {
     "data": {
      "text/plain": [
       "{'alpha': 1.0, 'class_prior': None, 'fit_prior': True}"
      ]
     },
     "execution_count": 10,
     "metadata": {},
     "output_type": "execute_result"
    }
   ],
   "source": [
    "from sklearn.naive_bayes import MultinomialNB\n",
    "\n",
    "multi = MultinomialNB()\n",
    "multi.get_params()"
   ]
  },
  {
   "cell_type": "code",
   "execution_count": 11,
   "metadata": {
    "ExecuteTime": {
     "end_time": "2021-10-11T03:51:40.324788Z",
     "start_time": "2021-10-11T03:51:40.262732Z"
    }
   },
   "outputs": [],
   "source": [
    "pipe_model = Pipeline([('vect', CountVectorizer()),\n",
    "                        ('tfidf', TfidfTransformer()),\n",
    "                        ('model', multi)\n",
    "                        ])\n",
    "model = pipe_model.fit(X_train, y_train)"
   ]
  },
  {
   "cell_type": "code",
   "execution_count": 12,
   "metadata": {
    "ExecuteTime": {
     "end_time": "2021-10-11T03:51:40.340803Z",
     "start_time": "2021-10-11T03:51:40.325789Z"
    }
   },
   "outputs": [],
   "source": [
    "prediction = model.predict(X_test)"
   ]
  },
  {
   "cell_type": "code",
   "execution_count": 13,
   "metadata": {
    "ExecuteTime": {
     "end_time": "2021-10-11T03:51:40.356817Z",
     "start_time": "2021-10-11T03:51:40.341804Z"
    }
   },
   "outputs": [
    {
     "name": "stdout",
     "output_type": "stream",
     "text": [
      "Score of model: 0.9669777458722182\n"
     ]
    }
   ],
   "source": [
    "acc = accuracy_score(prediction, y_test)\n",
    "print(\"Score of model: {}\".format(acc))"
   ]
  },
  {
   "cell_type": "code",
   "execution_count": 14,
   "metadata": {
    "ExecuteTime": {
     "end_time": "2021-10-11T03:51:40.724151Z",
     "start_time": "2021-10-11T03:51:40.357818Z"
    }
   },
   "outputs": [
    {
     "name": "stdout",
     "output_type": "stream",
     "text": [
      "Precision: [0.98590131 0.98153693 0.98105683 0.98201798 0.98298298]\n",
      "Recall: [0.90666667 0.87666667 0.87248322 0.87919463 0.88590604]\n",
      "F1 score: [0.94137926 0.92025261 0.91726861 0.92214206 0.92695026]\n"
     ]
    }
   ],
   "source": [
    "scoring = ['precision_macro', 'recall_macro', 'f1_macro']\n",
    "\n",
    "scores = cross_validate(model, X, y, cv=5, scoring=scoring)\n",
    "print(\"Precision:\", scores['test_precision_macro'])\n",
    "print(\"Recall:\", scores['test_recall_macro'])\n",
    "print(\"F1 score:\", scores['test_f1_macro'])"
   ]
  },
  {
   "cell_type": "code",
   "execution_count": 15,
   "metadata": {
    "ExecuteTime": {
     "end_time": "2021-10-11T03:51:41.305953Z",
     "start_time": "2021-10-11T03:51:40.725152Z"
    }
   },
   "outputs": [
    {
     "data": {
      "image/png": "[encoded data removed]",
      "text/plain": [
       "<Figure size 576x396 with 1 Axes>"
      ]
     },
     "metadata": {},
     "output_type": "display_data"
    },
    {
     "data": {
      "text/plain": [
       "<AxesSubplot:title={'center':'MultinomialNB Confusion Matrix'}, xlabel='Predicted Class', ylabel='True Class'>"
      ]
     },
     "execution_count": 15,
     "metadata": {},
     "output_type": "execute_result"
    }
   ],
   "source": [
    "from yellowbrick.classifier import ConfusionMatrix\n",
    "\n",
    "cm = ConfusionMatrix(model)\n",
    "cm.fit(X_train, y_train)\n",
    "cm.score(X_test, y_test)\n",
    "cm.show()"
   ]
  },
  {
   "cell_type": "code",
   "execution_count": 16,
   "metadata": {
    "ExecuteTime": {
     "end_time": "2021-10-11T03:51:41.522149Z",
     "start_time": "2021-10-11T03:51:41.306953Z"
    }
   },
   "outputs": [
    {
     "data": {
      "image/png": "[encoded data removed]",
      "text/plain": [
       "<Figure size 576x396 with 2 Axes>"
      ]
     },
     "metadata": {},
     "output_type": "display_data"
    },
    {
     "data": {
      "text/plain": [
       "<AxesSubplot:title={'center':'MultinomialNB Classification Report'}>"
      ]
     },
     "execution_count": 16,
     "metadata": {},
     "output_type": "execute_result"
    }
   ],
   "source": [
    "from yellowbrick.classifier import ClassificationReport\n",
    "\n",
    "cr = ClassificationReport(model, support=True)\n",
    "cr.fit(X_train, y_train)\n",
    "cr.score(X_test, y_test)\n",
    "cr.show()"
   ]
  },
  {
   "cell_type": "code",
   "execution_count": 17,
   "metadata": {
    "ExecuteTime": {
     "end_time": "2021-10-11T03:51:41.538164Z",
     "start_time": "2021-10-11T03:51:41.523150Z"
    }
   },
   "outputs": [
    {
     "data": {
      "text/plain": [
       "array(['spam', 'ham'], dtype='<U4')"
      ]
     },
     "execution_count": 17,
     "metadata": {},
     "output_type": "execute_result"
    }
   ],
   "source": [
    "new_dataset = np.array(['free weekly', 'get free ticket for fifa worldcup'])\n",
    "\n",
    "model.predict(new_dataset)"
   ]
  }
 ],
 "metadata": {
  "interpreter": {
   "hash": "f23faf4bfe871c203c8bec80520af5927fc7cb1ae3bd834ddf554ee587ad1c05"
  },
  "kernelspec": {
   "display_name": "Python 3",
   "language": "python",
   "name": "python3"
  },
  "language_info": {
   "codemirror_mode": {
    "name": "ipython",
    "version": 3
   },
   "file_extension": ".py",
   "mimetype": "text/x-python",
   "name": "python",
   "nbconvert_exporter": "python",
   "pygments_lexer": "ipython3",
   "version": "3.8.8"
  }
 },
 "nbformat": 4,
 "nbformat_minor": 2
}
