{
 "cells": [
  {
   "cell_type": "markdown",
   "id": "eb6a596e",
   "metadata": {},
   "source": [
    "# Import Library dan file yang dibutuhkan"
   ]
  },
  {
   "cell_type": "code",
   "execution_count": 1,
   "id": "a3ab8a8e",
   "metadata": {
    "ExecuteTime": {
     "end_time": "2021-10-11T07:55:53.798024Z",
     "start_time": "2021-10-11T07:55:52.647209Z"
    }
   },
   "outputs": [],
   "source": [
    "import pandas as pd\n",
    "import numpy as np\n",
    "import matplotlib.pyplot as plt\n",
    "import seaborn as sns\n",
    "from sklearn.preprocessing import OrdinalEncoder"
   ]
  },
  {
   "cell_type": "code",
   "execution_count": 2,
   "id": "34d75eb5",
   "metadata": {
    "ExecuteTime": {
     "end_time": "2021-10-11T07:55:55.195589Z",
     "start_time": "2021-10-11T07:55:53.799025Z"
    }
   },
   "outputs": [],
   "source": [
    "columns_name =['Gender','Umur','Pekerjaan','Edukasi','Tempat_Tinggal',\n",
    "               'Bengkak','Kemerahan','Gatal','Demam','Pusing','Nyeri_Otot',\n",
    "               'Kelelahan','Batuk','Diare','Mual_Muntah','Sesak','Nyeri_Sendi',\n",
    "               'Pingsan','Anaphylactic','Geli','Getah_Bening','Lama']\n",
    "\n",
    "\n",
    "data = pd.read_excel(\"3SI1_Dataset 03_Gejala Ikutan Vaksin.xlsx\")\n",
    "data.columns = columns_name"
   ]
  },
  {
   "cell_type": "markdown",
   "id": "a7afd295",
   "metadata": {},
   "source": [
    "# Proses pengecekan data dan Cleaning data\n",
    "Melihat data secara garis besar untuk menjadi panduan apa yang harus dilakukan dalam prosessing data"
   ]
  },
  {
   "cell_type": "code",
   "execution_count": 3,
   "id": "fbc242de",
   "metadata": {
    "ExecuteTime": {
     "end_time": "2021-10-11T07:55:55.226617Z",
     "start_time": "2021-10-11T07:55:55.196590Z"
    }
   },
   "outputs": [
    {
     "data": {
      "text/html": [
       "<div>\n",
       "<style scoped>\n",
       "    .dataframe tbody tr th:only-of-type {\n",
       "        vertical-align: middle;\n",
       "    }\n",
       "\n",
       "    .dataframe tbody tr th {\n",
       "        vertical-align: top;\n",
       "    }\n",
       "\n",
       "    .dataframe thead th {\n",
       "        text-align: right;\n",
       "    }\n",
       "</style>\n",
       "<table border=\"1\" class=\"dataframe\">\n",
       "  <thead>\n",
       "    <tr style=\"text-align: right;\">\n",
       "      <th></th>\n",
       "      <th>Gender</th>\n",
       "      <th>Umur</th>\n",
       "      <th>Pekerjaan</th>\n",
       "      <th>Edukasi</th>\n",
       "      <th>Tempat_Tinggal</th>\n",
       "      <th>Bengkak</th>\n",
       "      <th>Kemerahan</th>\n",
       "      <th>Gatal</th>\n",
       "      <th>Demam</th>\n",
       "      <th>Pusing</th>\n",
       "      <th>...</th>\n",
       "      <th>Batuk</th>\n",
       "      <th>Diare</th>\n",
       "      <th>Mual_Muntah</th>\n",
       "      <th>Sesak</th>\n",
       "      <th>Nyeri_Sendi</th>\n",
       "      <th>Pingsan</th>\n",
       "      <th>Anaphylactic</th>\n",
       "      <th>Geli</th>\n",
       "      <th>Getah_Bening</th>\n",
       "      <th>Lama</th>\n",
       "    </tr>\n",
       "  </thead>\n",
       "  <tbody>\n",
       "    <tr>\n",
       "      <th>0</th>\n",
       "      <td>Male</td>\n",
       "      <td>51-55 years</td>\n",
       "      <td>Medical specialist</td>\n",
       "      <td>Master degree</td>\n",
       "      <td>Downtown</td>\n",
       "      <td>No</td>\n",
       "      <td>No</td>\n",
       "      <td>No</td>\n",
       "      <td>No</td>\n",
       "      <td>No</td>\n",
       "      <td>...</td>\n",
       "      <td>No</td>\n",
       "      <td>No</td>\n",
       "      <td>No</td>\n",
       "      <td>No</td>\n",
       "      <td>No</td>\n",
       "      <td>No</td>\n",
       "      <td>No</td>\n",
       "      <td>No</td>\n",
       "      <td>No</td>\n",
       "      <td>None</td>\n",
       "    </tr>\n",
       "    <tr>\n",
       "      <th>1</th>\n",
       "      <td>Female</td>\n",
       "      <td>41-45 years</td>\n",
       "      <td>Non medical staff</td>\n",
       "      <td>Master degree</td>\n",
       "      <td>Downtown</td>\n",
       "      <td>No</td>\n",
       "      <td>No</td>\n",
       "      <td>No</td>\n",
       "      <td>No</td>\n",
       "      <td>No</td>\n",
       "      <td>...</td>\n",
       "      <td>No</td>\n",
       "      <td>No</td>\n",
       "      <td>No</td>\n",
       "      <td>No</td>\n",
       "      <td>No</td>\n",
       "      <td>No</td>\n",
       "      <td>No</td>\n",
       "      <td>No</td>\n",
       "      <td>No</td>\n",
       "      <td>None</td>\n",
       "    </tr>\n",
       "    <tr>\n",
       "      <th>2</th>\n",
       "      <td>Male</td>\n",
       "      <td>56-60 years</td>\n",
       "      <td>Medical doctor</td>\n",
       "      <td>NaN</td>\n",
       "      <td>Downtown</td>\n",
       "      <td>No</td>\n",
       "      <td>No</td>\n",
       "      <td>No</td>\n",
       "      <td>No</td>\n",
       "      <td>No</td>\n",
       "      <td>...</td>\n",
       "      <td>No</td>\n",
       "      <td>No</td>\n",
       "      <td>No</td>\n",
       "      <td>No</td>\n",
       "      <td>No</td>\n",
       "      <td>No</td>\n",
       "      <td>No</td>\n",
       "      <td>No</td>\n",
       "      <td>No</td>\n",
       "      <td>&lt; 24 hours</td>\n",
       "    </tr>\n",
       "  </tbody>\n",
       "</table>\n",
       "<p>3 rows × 22 columns</p>\n",
       "</div>"
      ],
      "text/plain": [
       "   Gender         Umur           Pekerjaan        Edukasi Tempat_Tinggal  \\\n",
       "0    Male  51-55 years  Medical specialist  Master degree       Downtown   \n",
       "1  Female  41-45 years   Non medical staff  Master degree       Downtown   \n",
       "2    Male  56-60 years      Medical doctor            NaN       Downtown   \n",
       "\n",
       "  Bengkak Kemerahan Gatal Demam Pusing  ... Batuk Diare Mual_Muntah Sesak  \\\n",
       "0      No        No    No    No     No  ...    No    No          No    No   \n",
       "1      No        No    No    No     No  ...    No    No          No    No   \n",
       "2      No        No    No    No     No  ...    No    No          No    No   \n",
       "\n",
       "  Nyeri_Sendi Pingsan Anaphylactic Geli Getah_Bening        Lama  \n",
       "0          No      No           No   No           No        None  \n",
       "1          No      No           No   No           No        None  \n",
       "2          No      No           No   No           No  < 24 hours  \n",
       "\n",
       "[3 rows x 22 columns]"
      ]
     },
     "execution_count": 3,
     "metadata": {},
     "output_type": "execute_result"
    }
   ],
   "source": [
    "data.head(3)"
   ]
  },
  {
   "cell_type": "markdown",
   "id": "f413825e",
   "metadata": {},
   "source": [
    "## Jumlah data yang null untuk tiap baris (dalam persen)"
   ]
  },
  {
   "cell_type": "code",
   "execution_count": 4,
   "id": "2e1ed7e6",
   "metadata": {
    "ExecuteTime": {
     "end_time": "2021-10-11T07:55:55.242632Z",
     "start_time": "2021-10-11T07:55:55.227619Z"
    }
   },
   "outputs": [
    {
     "data": {
      "text/plain": [
       "Gender            0.000000\n",
       "Umur              0.000000\n",
       "Pekerjaan         0.000000\n",
       "Edukasi           0.445434\n",
       "Tempat_Tinggal    0.000000\n",
       "Bengkak           0.222717\n",
       "Kemerahan         0.222717\n",
       "Gatal             0.000000\n",
       "Demam             0.000000\n",
       "Pusing            0.000000\n",
       "Nyeri_Otot        0.222717\n",
       "Kelelahan         0.222717\n",
       "Batuk             0.000000\n",
       "Diare             0.000000\n",
       "Mual_Muntah       0.000000\n",
       "Sesak             0.000000\n",
       "Nyeri_Sendi       0.000000\n",
       "Pingsan           0.000000\n",
       "Anaphylactic      0.000000\n",
       "Geli              0.445434\n",
       "Getah_Bening      0.000000\n",
       "Lama              0.000000\n",
       "dtype: float64"
      ]
     },
     "execution_count": 4,
     "metadata": {},
     "output_type": "execute_result"
    }
   ],
   "source": [
    "data.isna().sum()*100/449"
   ]
  },
  {
   "cell_type": "markdown",
   "id": "320da66b",
   "metadata": {},
   "source": [
    "Tidak ada kolom yang jumlah null nya > 1 persen, saran mending dibuang aja keknya soalnya paling jumlah data sisa 98 persen dan luamayan masih banyak"
   ]
  },
  {
   "cell_type": "code",
   "execution_count": 5,
   "id": "a8e16b81",
   "metadata": {
    "ExecuteTime": {
     "end_time": "2021-10-11T07:55:55.258646Z",
     "start_time": "2021-10-11T07:55:55.243632Z"
    }
   },
   "outputs": [
    {
     "data": {
      "text/plain": [
       "Gender            0\n",
       "Umur              0\n",
       "Pekerjaan         0\n",
       "Edukasi           0\n",
       "Tempat_Tinggal    0\n",
       "Bengkak           0\n",
       "Kemerahan         0\n",
       "Gatal             0\n",
       "Demam             0\n",
       "Pusing            0\n",
       "Nyeri_Otot        0\n",
       "Kelelahan         0\n",
       "Batuk             0\n",
       "Diare             0\n",
       "Mual_Muntah       0\n",
       "Sesak             0\n",
       "Nyeri_Sendi       0\n",
       "Pingsan           0\n",
       "Anaphylactic      0\n",
       "Geli              0\n",
       "Getah_Bening      0\n",
       "Lama              0\n",
       "dtype: int64"
      ]
     },
     "execution_count": 5,
     "metadata": {},
     "output_type": "execute_result"
    }
   ],
   "source": [
    "data = data.dropna()\n",
    "data.isna().sum()"
   ]
  },
  {
   "cell_type": "code",
   "execution_count": 6,
   "id": "9a417397",
   "metadata": {
    "ExecuteTime": {
     "end_time": "2021-10-11T07:55:55.274661Z",
     "start_time": "2021-10-11T07:55:55.259647Z"
    }
   },
   "outputs": [
    {
     "data": {
      "text/plain": [
       "444"
      ]
     },
     "execution_count": 6,
     "metadata": {},
     "output_type": "execute_result"
    }
   ],
   "source": [
    "len(data)"
   ]
  },
  {
   "cell_type": "markdown",
   "id": "b9c64364",
   "metadata": {},
   "source": [
    "## Jumlah data unik pada tiap kolom"
   ]
  },
  {
   "cell_type": "code",
   "execution_count": 7,
   "id": "f1252a01",
   "metadata": {
    "ExecuteTime": {
     "end_time": "2021-10-11T07:55:55.290676Z",
     "start_time": "2021-10-11T07:55:55.276663Z"
    }
   },
   "outputs": [
    {
     "data": {
      "text/plain": [
       "Gender             2\n",
       "Umur              10\n",
       "Pekerjaan          5\n",
       "Edukasi            4\n",
       "Tempat_Tinggal     2\n",
       "Bengkak            2\n",
       "Kemerahan          2\n",
       "Gatal              1\n",
       "Demam              2\n",
       "Pusing             2\n",
       "Nyeri_Otot         2\n",
       "Kelelahan          2\n",
       "Batuk              2\n",
       "Diare              2\n",
       "Mual_Muntah        2\n",
       "Sesak              2\n",
       "Nyeri_Sendi        2\n",
       "Pingsan            1\n",
       "Anaphylactic       2\n",
       "Geli               2\n",
       "Getah_Bening       2\n",
       "Lama               4\n",
       "dtype: int64"
      ]
     },
     "execution_count": 7,
     "metadata": {},
     "output_type": "execute_result"
    }
   ],
   "source": [
    "data.nunique()"
   ]
  },
  {
   "cell_type": "markdown",
   "id": "95d50a37",
   "metadata": {},
   "source": [
    "## Gatal dan Bengkak cuman 1 nilai"
   ]
  },
  {
   "cell_type": "code",
   "execution_count": 8,
   "id": "3abf8b75",
   "metadata": {
    "ExecuteTime": {
     "end_time": "2021-10-11T07:55:55.306690Z",
     "start_time": "2021-10-11T07:55:55.291676Z"
    }
   },
   "outputs": [
    {
     "data": {
      "text/plain": [
       "No    444\n",
       "Name: Gatal, dtype: int64"
      ]
     },
     "execution_count": 8,
     "metadata": {},
     "output_type": "execute_result"
    }
   ],
   "source": [
    "data.Gatal.value_counts()"
   ]
  },
  {
   "cell_type": "code",
   "execution_count": 9,
   "id": "5e14025d",
   "metadata": {
    "ExecuteTime": {
     "end_time": "2021-10-11T07:55:55.321703Z",
     "start_time": "2021-10-11T07:55:55.307691Z"
    }
   },
   "outputs": [
    {
     "data": {
      "text/plain": [
       "No    444\n",
       "Name: Pingsan, dtype: int64"
      ]
     },
     "execution_count": 9,
     "metadata": {},
     "output_type": "execute_result"
    }
   ],
   "source": [
    "data.Pingsan.value_counts()"
   ]
  },
  {
   "cell_type": "code",
   "execution_count": 10,
   "id": "78f670d8",
   "metadata": {
    "ExecuteTime": {
     "end_time": "2021-10-11T07:55:55.336717Z",
     "start_time": "2021-10-11T07:55:55.322705Z"
    }
   },
   "outputs": [],
   "source": [
    "data = data.drop(columns=['Pingsan','Gatal'])"
   ]
  },
  {
   "cell_type": "code",
   "execution_count": 11,
   "id": "da69cd0f",
   "metadata": {
    "ExecuteTime": {
     "end_time": "2021-10-11T07:55:55.352732Z",
     "start_time": "2021-10-11T07:55:55.337718Z"
    }
   },
   "outputs": [
    {
     "data": {
      "text/html": [
       "<div>\n",
       "<style scoped>\n",
       "    .dataframe tbody tr th:only-of-type {\n",
       "        vertical-align: middle;\n",
       "    }\n",
       "\n",
       "    .dataframe tbody tr th {\n",
       "        vertical-align: top;\n",
       "    }\n",
       "\n",
       "    .dataframe thead th {\n",
       "        text-align: right;\n",
       "    }\n",
       "</style>\n",
       "<table border=\"1\" class=\"dataframe\">\n",
       "  <thead>\n",
       "    <tr style=\"text-align: right;\">\n",
       "      <th></th>\n",
       "      <th>Gender</th>\n",
       "      <th>Umur</th>\n",
       "      <th>Pekerjaan</th>\n",
       "      <th>Edukasi</th>\n",
       "      <th>Tempat_Tinggal</th>\n",
       "      <th>Bengkak</th>\n",
       "      <th>Kemerahan</th>\n",
       "      <th>Demam</th>\n",
       "      <th>Pusing</th>\n",
       "      <th>Nyeri_Otot</th>\n",
       "      <th>Kelelahan</th>\n",
       "      <th>Batuk</th>\n",
       "      <th>Diare</th>\n",
       "      <th>Mual_Muntah</th>\n",
       "      <th>Sesak</th>\n",
       "      <th>Nyeri_Sendi</th>\n",
       "      <th>Anaphylactic</th>\n",
       "      <th>Geli</th>\n",
       "      <th>Getah_Bening</th>\n",
       "      <th>Lama</th>\n",
       "    </tr>\n",
       "  </thead>\n",
       "  <tbody>\n",
       "    <tr>\n",
       "      <th>0</th>\n",
       "      <td>Male</td>\n",
       "      <td>51-55 years</td>\n",
       "      <td>Medical specialist</td>\n",
       "      <td>Master degree</td>\n",
       "      <td>Downtown</td>\n",
       "      <td>No</td>\n",
       "      <td>No</td>\n",
       "      <td>No</td>\n",
       "      <td>No</td>\n",
       "      <td>Yes</td>\n",
       "      <td>Yes</td>\n",
       "      <td>No</td>\n",
       "      <td>No</td>\n",
       "      <td>No</td>\n",
       "      <td>No</td>\n",
       "      <td>No</td>\n",
       "      <td>No</td>\n",
       "      <td>No</td>\n",
       "      <td>No</td>\n",
       "      <td>None</td>\n",
       "    </tr>\n",
       "    <tr>\n",
       "      <th>1</th>\n",
       "      <td>Female</td>\n",
       "      <td>41-45 years</td>\n",
       "      <td>Non medical staff</td>\n",
       "      <td>Master degree</td>\n",
       "      <td>Downtown</td>\n",
       "      <td>No</td>\n",
       "      <td>No</td>\n",
       "      <td>No</td>\n",
       "      <td>No</td>\n",
       "      <td>Yes</td>\n",
       "      <td>No</td>\n",
       "      <td>No</td>\n",
       "      <td>No</td>\n",
       "      <td>No</td>\n",
       "      <td>No</td>\n",
       "      <td>No</td>\n",
       "      <td>No</td>\n",
       "      <td>No</td>\n",
       "      <td>No</td>\n",
       "      <td>None</td>\n",
       "    </tr>\n",
       "    <tr>\n",
       "      <th>4</th>\n",
       "      <td>Female</td>\n",
       "      <td>31-35 years</td>\n",
       "      <td>Medical doctor</td>\n",
       "      <td>Bachelor degree</td>\n",
       "      <td>Downtown</td>\n",
       "      <td>No</td>\n",
       "      <td>No</td>\n",
       "      <td>No</td>\n",
       "      <td>No</td>\n",
       "      <td>Yes</td>\n",
       "      <td>Yes</td>\n",
       "      <td>Yes</td>\n",
       "      <td>No</td>\n",
       "      <td>No</td>\n",
       "      <td>No</td>\n",
       "      <td>No</td>\n",
       "      <td>No</td>\n",
       "      <td>No</td>\n",
       "      <td>No</td>\n",
       "      <td>&lt; 24 hours</td>\n",
       "    </tr>\n",
       "  </tbody>\n",
       "</table>\n",
       "</div>"
      ],
      "text/plain": [
       "   Gender         Umur           Pekerjaan          Edukasi Tempat_Tinggal  \\\n",
       "0    Male  51-55 years  Medical specialist    Master degree       Downtown   \n",
       "1  Female  41-45 years   Non medical staff    Master degree       Downtown   \n",
       "4  Female  31-35 years      Medical doctor  Bachelor degree       Downtown   \n",
       "\n",
       "  Bengkak Kemerahan Demam Pusing Nyeri_Otot Kelelahan Batuk Diare Mual_Muntah  \\\n",
       "0      No        No    No     No        Yes       Yes    No    No          No   \n",
       "1      No        No    No     No        Yes        No    No    No          No   \n",
       "4      No        No    No     No        Yes       Yes   Yes    No          No   \n",
       "\n",
       "  Sesak Nyeri_Sendi Anaphylactic Geli Getah_Bening        Lama  \n",
       "0    No          No           No   No           No        None  \n",
       "1    No          No           No   No           No        None  \n",
       "4    No          No           No   No           No  < 24 hours  "
      ]
     },
     "execution_count": 11,
     "metadata": {},
     "output_type": "execute_result"
    }
   ],
   "source": [
    "data.head(3)"
   ]
  },
  {
   "cell_type": "markdown",
   "id": "6c122495",
   "metadata": {},
   "source": [
    "# EDA"
   ]
  },
  {
   "cell_type": "markdown",
   "id": "a17217d2",
   "metadata": {},
   "source": [
    "## Get_dummies"
   ]
  },
  {
   "cell_type": "code",
   "execution_count": 12,
   "id": "d4638f5c",
   "metadata": {
    "ExecuteTime": {
     "end_time": "2021-10-11T07:55:55.368746Z",
     "start_time": "2021-10-11T07:55:55.352732Z"
    }
   },
   "outputs": [],
   "source": [
    "dummies_gender = pd.get_dummies(data.Gender)"
   ]
  },
  {
   "cell_type": "code",
   "execution_count": 13,
   "id": "3201a621",
   "metadata": {
    "ExecuteTime": {
     "end_time": "2021-10-11T07:55:55.384761Z",
     "start_time": "2021-10-11T07:55:55.369747Z"
    }
   },
   "outputs": [],
   "source": [
    "data.Umur = data.Umur.replace(['> 60 years','56-60 years','51-55 years','46-50 years'],['> 45 years','> 45 years','> 45 years','> 45 years'])"
   ]
  },
  {
   "cell_type": "code",
   "execution_count": 14,
   "id": "31f66a43",
   "metadata": {
    "ExecuteTime": {
     "end_time": "2021-10-11T07:55:55.399774Z",
     "start_time": "2021-10-11T07:55:55.385762Z"
    }
   },
   "outputs": [],
   "source": [
    "data.Umur = data.Umur.replace(['< 20 years','20-25 years','26-30 years'],['< 30 years','< 30 years','< 30 years'])"
   ]
  },
  {
   "cell_type": "code",
   "execution_count": 15,
   "id": "dc5b2d0d",
   "metadata": {
    "ExecuteTime": {
     "end_time": "2021-10-11T07:55:55.414788Z",
     "start_time": "2021-10-11T07:55:55.400775Z"
    }
   },
   "outputs": [],
   "source": [
    "data.Umur = data.Umur.replace(['26-30 years','31-35 years','36-40 years','41-45 years'],['31-45 years','31-45 years','31-45 years','31-45 years'])"
   ]
  },
  {
   "cell_type": "code",
   "execution_count": 16,
   "id": "9d3b958e",
   "metadata": {
    "ExecuteTime": {
     "end_time": "2021-10-11T07:55:55.430803Z",
     "start_time": "2021-10-11T07:55:55.415789Z"
    }
   },
   "outputs": [],
   "source": [
    "dummies_Umur = pd.get_dummies(data.Umur)\n",
    "#data.Umur = data.Umur.replace(['< 30 years','31-45 years','> 45 years'],[1,2,3])"
   ]
  },
  {
   "cell_type": "code",
   "execution_count": 17,
   "id": "2fede638",
   "metadata": {
    "ExecuteTime": {
     "end_time": "2021-10-11T07:55:55.446817Z",
     "start_time": "2021-10-11T07:55:55.431804Z"
    }
   },
   "outputs": [],
   "source": [
    "# dummies_pekerjaan = pd.get_dummies(data.Pekerjaan)"
   ]
  },
  {
   "cell_type": "code",
   "execution_count": 18,
   "id": "856e41d0",
   "metadata": {
    "ExecuteTime": {
     "end_time": "2021-10-11T07:55:55.462832Z",
     "start_time": "2021-10-11T07:55:55.447818Z"
    }
   },
   "outputs": [],
   "source": [
    "dummies_Edukasi = pd.get_dummies(data.Edukasi)"
   ]
  },
  {
   "cell_type": "code",
   "execution_count": 19,
   "id": "4cc24513",
   "metadata": {
    "ExecuteTime": {
     "end_time": "2021-10-11T07:55:55.478847Z",
     "start_time": "2021-10-11T07:55:55.463833Z"
    }
   },
   "outputs": [],
   "source": [
    "dummies_tempattinggal = pd.get_dummies(data.Tempat_Tinggal)"
   ]
  },
  {
   "cell_type": "code",
   "execution_count": 20,
   "id": "62609eb6",
   "metadata": {
    "ExecuteTime": {
     "end_time": "2021-10-11T07:55:55.494861Z",
     "start_time": "2021-10-11T07:55:55.479847Z"
    }
   },
   "outputs": [],
   "source": [
    "#data = pd.concat([data,dummies_gender,dummies_Umur,dummies_pekerjaan,dummies_Edukasi,dummies_tempattinggal],axis=1)\n",
    "data = pd.concat([data],axis=1)"
   ]
  },
  {
   "cell_type": "code",
   "execution_count": 21,
   "id": "88b8f7ac",
   "metadata": {
    "ExecuteTime": {
     "end_time": "2021-10-11T07:55:55.510152Z",
     "start_time": "2021-10-11T07:55:55.494861Z"
    }
   },
   "outputs": [],
   "source": [
    "data = data.drop(columns=['Gender','Umur','Pekerjaan','Edukasi','Tempat_Tinggal'])"
   ]
  },
  {
   "cell_type": "markdown",
   "id": "498bae80",
   "metadata": {},
   "source": [
    "## Menjadikan simpton 1 dan 0"
   ]
  },
  {
   "cell_type": "code",
   "execution_count": 22,
   "id": "ff26b7a9",
   "metadata": {
    "ExecuteTime": {
     "end_time": "2021-10-11T07:55:55.525166Z",
     "start_time": "2021-10-11T07:55:55.512154Z"
    }
   },
   "outputs": [],
   "source": [
    "data.Bengkak = data.Bengkak.replace(['No','Yes'],[0,1])"
   ]
  },
  {
   "cell_type": "code",
   "execution_count": 23,
   "id": "9224059f",
   "metadata": {
    "ExecuteTime": {
     "end_time": "2021-10-11T07:55:55.541180Z",
     "start_time": "2021-10-11T07:55:55.526167Z"
    }
   },
   "outputs": [],
   "source": [
    "data.Kemerahan = data.Kemerahan.replace(['No','Yes'],[0,1])"
   ]
  },
  {
   "cell_type": "code",
   "execution_count": 24,
   "id": "48283b9a",
   "metadata": {
    "ExecuteTime": {
     "end_time": "2021-10-11T07:55:55.557195Z",
     "start_time": "2021-10-11T07:55:55.542181Z"
    }
   },
   "outputs": [],
   "source": [
    "data.Demam = data.Demam.replace(['No','Yes'],[0,1])"
   ]
  },
  {
   "cell_type": "code",
   "execution_count": 25,
   "id": "0ea473db",
   "metadata": {
    "ExecuteTime": {
     "end_time": "2021-10-11T07:55:55.573209Z",
     "start_time": "2021-10-11T07:55:55.558196Z"
    }
   },
   "outputs": [],
   "source": [
    "data.Pusing = data.Pusing.replace(['No','Yes'],[0,1])"
   ]
  },
  {
   "cell_type": "code",
   "execution_count": 26,
   "id": "eb0c5d79",
   "metadata": {
    "ExecuteTime": {
     "end_time": "2021-10-11T07:55:55.589224Z",
     "start_time": "2021-10-11T07:55:55.574210Z"
    }
   },
   "outputs": [],
   "source": [
    "data.Nyeri_Otot = data.Nyeri_Otot.replace(['No','Yes'],[0,1])"
   ]
  },
  {
   "cell_type": "code",
   "execution_count": 27,
   "id": "32b02796",
   "metadata": {
    "ExecuteTime": {
     "end_time": "2021-10-11T07:55:55.605238Z",
     "start_time": "2021-10-11T07:55:55.590225Z"
    }
   },
   "outputs": [],
   "source": [
    "data.Kelelahan = data.Kelelahan.replace(['No','Yes'],[0,1])"
   ]
  },
  {
   "cell_type": "code",
   "execution_count": 28,
   "id": "ac1f90ad",
   "metadata": {
    "ExecuteTime": {
     "end_time": "2021-10-11T07:55:55.621253Z",
     "start_time": "2021-10-11T07:55:55.606239Z"
    }
   },
   "outputs": [],
   "source": [
    "data.Batuk = data.Batuk.replace(['No','Yes'],[0,1])"
   ]
  },
  {
   "cell_type": "code",
   "execution_count": 29,
   "id": "13e5e6b5",
   "metadata": {
    "ExecuteTime": {
     "end_time": "2021-10-11T07:55:55.637267Z",
     "start_time": "2021-10-11T07:55:55.622254Z"
    }
   },
   "outputs": [],
   "source": [
    "data.Diare = data.Diare.replace(['No','Yes'],[0,1])"
   ]
  },
  {
   "cell_type": "code",
   "execution_count": 30,
   "id": "8b71c2e5",
   "metadata": {
    "ExecuteTime": {
     "end_time": "2021-10-11T07:55:55.652281Z",
     "start_time": "2021-10-11T07:55:55.638268Z"
    }
   },
   "outputs": [],
   "source": [
    "data.Mual_Muntah = data.Mual_Muntah.replace(['No','Yes'],[0,1])"
   ]
  },
  {
   "cell_type": "code",
   "execution_count": 31,
   "id": "3d232888",
   "metadata": {
    "ExecuteTime": {
     "end_time": "2021-10-11T07:55:55.668296Z",
     "start_time": "2021-10-11T07:55:55.653282Z"
    }
   },
   "outputs": [],
   "source": [
    "data.Sesak = data.Sesak.replace(['No','Yes'],[0,1])"
   ]
  },
  {
   "cell_type": "code",
   "execution_count": 32,
   "id": "03b1f3fc",
   "metadata": {
    "ExecuteTime": {
     "end_time": "2021-10-11T07:55:55.684310Z",
     "start_time": "2021-10-11T07:55:55.669297Z"
    }
   },
   "outputs": [],
   "source": [
    "#data.Nyeri_Sendi = data.Nyeri_Sendi.replace(['No','Yes'],[0,1])\n",
    "data = data.drop(columns='Nyeri_Sendi')"
   ]
  },
  {
   "cell_type": "code",
   "execution_count": 33,
   "id": "c5c66eff",
   "metadata": {
    "ExecuteTime": {
     "end_time": "2021-10-11T07:55:55.700325Z",
     "start_time": "2021-10-11T07:55:55.685311Z"
    }
   },
   "outputs": [],
   "source": [
    "data.Anaphylactic = data.Anaphylactic.replace(['No','Yes'],[0,1])\n",
    "#data = data.drop(columns='Anaphylactic')"
   ]
  },
  {
   "cell_type": "code",
   "execution_count": 34,
   "id": "449310e9",
   "metadata": {
    "ExecuteTime": {
     "end_time": "2021-10-11T07:55:55.716339Z",
     "start_time": "2021-10-11T07:55:55.701326Z"
    }
   },
   "outputs": [],
   "source": [
    "data.Geli = data.Geli.replace(['No','Yes'],[0,1])"
   ]
  },
  {
   "cell_type": "code",
   "execution_count": 35,
   "id": "d3cd88ae",
   "metadata": {
    "ExecuteTime": {
     "end_time": "2021-10-11T07:55:55.732354Z",
     "start_time": "2021-10-11T07:55:55.717340Z"
    }
   },
   "outputs": [],
   "source": [
    "#data.Getah_Bening = data.Getah_Bening.replace(['No','Yes'],[0,1])\n",
    "data = data.drop(columns='Getah_Bening')"
   ]
  },
  {
   "cell_type": "code",
   "execution_count": 36,
   "id": "cb84c8de",
   "metadata": {
    "ExecuteTime": {
     "end_time": "2021-10-11T07:55:55.747368Z",
     "start_time": "2021-10-11T07:55:55.733355Z"
    }
   },
   "outputs": [
    {
     "data": {
      "text/html": [
       "<div>\n",
       "<style scoped>\n",
       "    .dataframe tbody tr th:only-of-type {\n",
       "        vertical-align: middle;\n",
       "    }\n",
       "\n",
       "    .dataframe tbody tr th {\n",
       "        vertical-align: top;\n",
       "    }\n",
       "\n",
       "    .dataframe thead th {\n",
       "        text-align: right;\n",
       "    }\n",
       "</style>\n",
       "<table border=\"1\" class=\"dataframe\">\n",
       "  <thead>\n",
       "    <tr style=\"text-align: right;\">\n",
       "      <th></th>\n",
       "      <th>Bengkak</th>\n",
       "      <th>Kemerahan</th>\n",
       "      <th>Demam</th>\n",
       "      <th>Pusing</th>\n",
       "      <th>Nyeri_Otot</th>\n",
       "      <th>Kelelahan</th>\n",
       "      <th>Batuk</th>\n",
       "      <th>Diare</th>\n",
       "      <th>Mual_Muntah</th>\n",
       "      <th>Sesak</th>\n",
       "      <th>Anaphylactic</th>\n",
       "      <th>Geli</th>\n",
       "      <th>Lama</th>\n",
       "    </tr>\n",
       "  </thead>\n",
       "  <tbody>\n",
       "    <tr>\n",
       "      <th>0</th>\n",
       "      <td>0</td>\n",
       "      <td>0</td>\n",
       "      <td>0</td>\n",
       "      <td>0</td>\n",
       "      <td>1</td>\n",
       "      <td>1</td>\n",
       "      <td>0</td>\n",
       "      <td>0</td>\n",
       "      <td>0</td>\n",
       "      <td>0</td>\n",
       "      <td>0</td>\n",
       "      <td>0</td>\n",
       "      <td>None</td>\n",
       "    </tr>\n",
       "    <tr>\n",
       "      <th>1</th>\n",
       "      <td>0</td>\n",
       "      <td>0</td>\n",
       "      <td>0</td>\n",
       "      <td>0</td>\n",
       "      <td>1</td>\n",
       "      <td>0</td>\n",
       "      <td>0</td>\n",
       "      <td>0</td>\n",
       "      <td>0</td>\n",
       "      <td>0</td>\n",
       "      <td>0</td>\n",
       "      <td>0</td>\n",
       "      <td>None</td>\n",
       "    </tr>\n",
       "    <tr>\n",
       "      <th>4</th>\n",
       "      <td>0</td>\n",
       "      <td>0</td>\n",
       "      <td>0</td>\n",
       "      <td>0</td>\n",
       "      <td>1</td>\n",
       "      <td>1</td>\n",
       "      <td>1</td>\n",
       "      <td>0</td>\n",
       "      <td>0</td>\n",
       "      <td>0</td>\n",
       "      <td>0</td>\n",
       "      <td>0</td>\n",
       "      <td>&lt; 24 hours</td>\n",
       "    </tr>\n",
       "  </tbody>\n",
       "</table>\n",
       "</div>"
      ],
      "text/plain": [
       "   Bengkak  Kemerahan  Demam  Pusing  Nyeri_Otot  Kelelahan  Batuk  Diare  \\\n",
       "0        0          0      0       0           1          1      0      0   \n",
       "1        0          0      0       0           1          0      0      0   \n",
       "4        0          0      0       0           1          1      1      0   \n",
       "\n",
       "   Mual_Muntah  Sesak  Anaphylactic  Geli        Lama  \n",
       "0            0      0             0     0        None  \n",
       "1            0      0             0     0        None  \n",
       "4            0      0             0     0  < 24 hours  "
      ]
     },
     "execution_count": 36,
     "metadata": {},
     "output_type": "execute_result"
    }
   ],
   "source": [
    "data.head(3)"
   ]
  },
  {
   "cell_type": "markdown",
   "id": "1dcab7a3",
   "metadata": {},
   "source": [
    "## Membuat target menjadi numerikal"
   ]
  },
  {
   "cell_type": "code",
   "execution_count": 37,
   "id": "f3ad2ed5",
   "metadata": {
    "ExecuteTime": {
     "end_time": "2021-10-11T07:55:55.763382Z",
     "start_time": "2021-10-11T07:55:55.748369Z"
    }
   },
   "outputs": [
    {
     "data": {
      "text/plain": [
       "None           181\n",
       "< 24 hours     154\n",
       "24-72 hours    100\n",
       "> 72 hours       9\n",
       "Name: Lama, dtype: int64"
      ]
     },
     "execution_count": 37,
     "metadata": {},
     "output_type": "execute_result"
    }
   ],
   "source": [
    "data.Lama.value_counts()"
   ]
  },
  {
   "cell_type": "code",
   "execution_count": 38,
   "id": "fcdaccd5",
   "metadata": {
    "ExecuteTime": {
     "end_time": "2021-10-11T07:55:55.779397Z",
     "start_time": "2021-10-11T07:55:55.764383Z"
    }
   },
   "outputs": [],
   "source": [
    "data.Lama = data.Lama.replace(['None','< 24 hours','24-72 hours','> 72 hours'],[0,1,2,3])"
   ]
  },
  {
   "cell_type": "markdown",
   "id": "5155af08",
   "metadata": {},
   "source": [
    "# Model KNN"
   ]
  },
  {
   "cell_type": "code",
   "execution_count": 39,
   "id": "8f0dbbf9",
   "metadata": {
    "ExecuteTime": {
     "end_time": "2021-10-11T07:55:55.859470Z",
     "start_time": "2021-10-11T07:55:55.780398Z"
    }
   },
   "outputs": [
    {
     "name": "stdout",
     "output_type": "stream",
     "text": [
      "     Bengkak  Kemerahan  Demam  Pusing  Nyeri_Otot  Kelelahan  Batuk  Diare  \\\n",
      "123        0          0      0       0           1          0      0      0   \n",
      "77         0          0      0       0           1          0      0      0   \n",
      "260        0          0      0       1           1          1      0      0   \n",
      "1          0          0      0       0           1          0      0      0   \n",
      "434        0          0      0       1           1          1      0      0   \n",
      "..       ...        ...    ...     ...         ...        ...    ...    ...   \n",
      "444        1          0      0       0           1          0      0      0   \n",
      "95         0          0      0       0           0          0      0      0   \n",
      "112        0          0      0       0           1          0      0      0   \n",
      "208        0          0      0       1           0          0      0      0   \n",
      "59         0          0      0       1           0          1      1      0   \n",
      "\n",
      "     Mual_Muntah  Sesak  Anaphylactic  Geli  \n",
      "123            0      0             0     0  \n",
      "77             0      0             0     0  \n",
      "260            0      0             0     0  \n",
      "1              0      0             0     0  \n",
      "434            0      0             0     0  \n",
      "..           ...    ...           ...   ...  \n",
      "444            0      0             0     0  \n",
      "95             0      0             0     0  \n",
      "112            0      0             0     0  \n",
      "208            0      0             0     1  \n",
      "59             0      0             0     0  \n",
      "\n",
      "[297 rows x 12 columns]\n",
      "123    1\n",
      "77     1\n",
      "260    0\n",
      "1      0\n",
      "434    1\n",
      "      ..\n",
      "444    2\n",
      "95     1\n",
      "112    0\n",
      "208    2\n",
      "59     2\n",
      "Name: Lama, Length: 297, dtype: int64\n",
      "[0 1 0 0 0 1 0 0 0 0 0 0 0 1 1 0 0 0 1 0 2 1 1 1 0 0 0 0 0 0 0 1 0 0 0 0 2\n",
      " 2 0 0 1 2 0 0 0 1 2 0 0 1 0 0 0 0 0 1 1 0 0 0 0 1 2 0 0 1 2 0 0 0 0 1 0 0\n",
      " 0 0 2 1 0 0 1 0 1 0 0 2 1 2 1 0 2 1 1 2 2 2 0 0 0 2 0 1 0 0 1 0 0 0 2 0 1\n",
      " 0 0 0 0 0 0 1 0 0 1 0 0 2 1 0 0 0 0 0 0 1 0 2 0 1 1 0 1 1 0 2 1 1 0 1 0]\n"
     ]
    }
   ],
   "source": [
    "from sklearn import neighbors, datasets, model_selection, metrics\n",
    "\n",
    "X_train, X_test, y_train, y_test = model_selection.train_test_split(data.drop(columns=['Lama']), data['Lama'], test_size=0.33, random_state=69)\n",
    "\n",
    "model = neighbors.KNeighborsClassifier(n_neighbors=5)\n",
    "\n",
    "print(X_train)\n",
    "print(y_train)\n",
    "\n",
    "model.fit(X_train, y_train)\n",
    "\n",
    "predicted = model.predict(X_test)\n",
    "print(predicted)\n",
    "\n",
    "# print(metrics.confusion_matrix(y_test, predicted))\n",
    "# print(metrics.accuracy_score(y_test, predicted))"
   ]
  },
  {
   "cell_type": "code",
   "execution_count": 40,
   "id": "1ad3f06f",
   "metadata": {
    "ExecuteTime": {
     "end_time": "2021-10-11T07:55:56.017614Z",
     "start_time": "2021-10-11T07:55:55.860471Z"
    }
   },
   "outputs": [
    {
     "data": {
      "image/png": "[encoded data removed]",
      "text/plain": [
       "<Figure size 432x288 with 2 Axes>"
      ]
     },
     "metadata": {
      "needs_background": "light"
     },
     "output_type": "display_data"
    }
   ],
   "source": [
    "from sklearn.metrics import classification_report,accuracy_score\n",
    "from sklearn.metrics import confusion_matrix,ConfusionMatrixDisplay\n",
    "import matplotlib.pyplot as plt\n",
    "\n",
    "cm = confusion_matrix(y_test, predicted, labels=model.classes_)\n",
    "disp = ConfusionMatrixDisplay(confusion_matrix=cm, display_labels=model.classes_)\n",
    "disp.plot()\n",
    "plt.show()"
   ]
  },
  {
   "cell_type": "code",
   "execution_count": 41,
   "id": "568e87b5",
   "metadata": {
    "ExecuteTime": {
     "end_time": "2021-10-11T07:55:56.033628Z",
     "start_time": "2021-10-11T07:55:56.018615Z"
    }
   },
   "outputs": [
    {
     "name": "stdout",
     "output_type": "stream",
     "text": [
      "              precision    recall  f1-score   support\n",
      "\n",
      "           0       0.59      0.96      0.73        55\n",
      "           1       0.58      0.42      0.48        53\n",
      "           2       0.58      0.31      0.40        36\n",
      "           3       0.00      0.00      0.00         3\n",
      "\n",
      "    accuracy                           0.59       147\n",
      "   macro avg       0.44      0.42      0.40       147\n",
      "weighted avg       0.57      0.59      0.55       147\n",
      "\n"
     ]
    },
    {
     "name": "stderr",
     "output_type": "stream",
     "text": [
      "C:\\Users\\muham\\anaconda3\\lib\\site-packages\\sklearn\\metrics\\_classification.py:1245: UndefinedMetricWarning: Precision and F-score are ill-defined and being set to 0.0 in labels with no predicted samples. Use `zero_division` parameter to control this behavior.\n",
      "  _warn_prf(average, modifier, msg_start, len(result))\n",
      "C:\\Users\\muham\\anaconda3\\lib\\site-packages\\sklearn\\metrics\\_classification.py:1245: UndefinedMetricWarning: Precision and F-score are ill-defined and being set to 0.0 in labels with no predicted samples. Use `zero_division` parameter to control this behavior.\n",
      "  _warn_prf(average, modifier, msg_start, len(result))\n",
      "C:\\Users\\muham\\anaconda3\\lib\\site-packages\\sklearn\\metrics\\_classification.py:1245: UndefinedMetricWarning: Precision and F-score are ill-defined and being set to 0.0 in labels with no predicted samples. Use `zero_division` parameter to control this behavior.\n",
      "  _warn_prf(average, modifier, msg_start, len(result))\n"
     ]
    }
   ],
   "source": [
    "print(classification_report(y_test,predicted))"
   ]
  },
  {
   "cell_type": "code",
   "execution_count": 42,
   "id": "b55ec64f",
   "metadata": {
    "ExecuteTime": {
     "end_time": "2021-10-11T07:55:56.049643Z",
     "start_time": "2021-10-11T07:55:56.034629Z"
    }
   },
   "outputs": [
    {
     "data": {
      "text/plain": [
       "0.5850340136054422"
      ]
     },
     "execution_count": 42,
     "metadata": {},
     "output_type": "execute_result"
    }
   ],
   "source": [
    "model.score(X_test, y_test)"
   ]
  },
  {
   "cell_type": "code",
   "execution_count": 43,
   "id": "91758e4b",
   "metadata": {
    "ExecuteTime": {
     "end_time": "2021-10-11T07:55:56.096686Z",
     "start_time": "2021-10-11T07:55:56.050644Z"
    }
   },
   "outputs": [
    {
     "name": "stdout",
     "output_type": "stream",
     "text": [
      "[0.56666667 0.4        0.46666667 0.6        0.53333333 0.4\n",
      " 0.53333333 0.51724138 0.48275862 0.65517241]\n",
      "cv_scores mean:0.5155172413793103\n"
     ]
    },
    {
     "name": "stderr",
     "output_type": "stream",
     "text": [
      "C:\\Users\\muham\\anaconda3\\lib\\site-packages\\sklearn\\model_selection\\_split.py:666: UserWarning: The least populated class in y has only 6 members, which is less than n_splits=10.\n",
      "  warnings.warn((\"The least populated class in y has only %d\"\n"
     ]
    }
   ],
   "source": [
    "from sklearn.model_selection import cross_val_score\n",
    "import numpy as np\n",
    "\n",
    "#create a new KNN model\n",
    "knn_cv = neighbors.KNeighborsClassifier(n_neighbors=3)\n",
    "\n",
    "#train model with cv of 5 \n",
    "cv_scores = cross_val_score(knn_cv, X_train, y_train, cv=10)\n",
    "\n",
    "#print each cv score (accuracy) and average them\n",
    "print(cv_scores)\n",
    "print('cv_scores mean:{}'.format(np.mean(cv_scores)))"
   ]
  },
  {
   "cell_type": "code",
   "execution_count": 44,
   "id": "941304f0",
   "metadata": {
    "ExecuteTime": {
     "end_time": "2021-10-11T07:55:57.354594Z",
     "start_time": "2021-10-11T07:55:56.097686Z"
    }
   },
   "outputs": [
    {
     "name": "stderr",
     "output_type": "stream",
     "text": [
      "C:\\Users\\muham\\anaconda3\\lib\\site-packages\\sklearn\\model_selection\\_split.py:666: UserWarning: The least populated class in y has only 6 members, which is less than n_splits=10.\n",
      "  warnings.warn((\"The least populated class in y has only %d\"\n"
     ]
    },
    {
     "name": "stdout",
     "output_type": "stream",
     "text": [
      "Best p: 1\n",
      "Best n_neighbors: 6\n",
      "Best weights: distance\n",
      "0.6122448979591837\n"
     ]
    }
   ],
   "source": [
    "from sklearn.model_selection import GridSearchCV\n",
    "\n",
    "#List Hyperparameters to tune\n",
    "n_neighbors = list(range(1,10))\n",
    "p = [1,2]\n",
    "weights = ['uniform', 'distance']\n",
    "\n",
    "#convert to dictionary\n",
    "hyperparameters = dict(n_neighbors=n_neighbors, p=p, weights=weights)\n",
    "\n",
    "#Making model\n",
    "clf = GridSearchCV(model, hyperparameters, cv=10)\n",
    "best_model = clf.fit(X_train, y_train)\n",
    "\n",
    "#Best Hyperparameters Value\n",
    "print('Best p:', best_model.best_estimator_.get_params()['p'])\n",
    "print('Best n_neighbors:', best_model.best_estimator_.get_params()['n_neighbors'])\n",
    "print('Best weights:', best_model.best_estimator_.get_params()['weights'])\n",
    "\n",
    "#Predict testing set\n",
    "predicted2 = best_model.predict(X_test)\n",
    "\n",
    "#Check performance using accuracy\n",
    "print(accuracy_score(y_test, predicted2))"
   ]
  },
  {
   "cell_type": "code",
   "execution_count": 45,
   "id": "1b518161",
   "metadata": {
    "ExecuteTime": {
     "end_time": "2021-10-11T07:55:57.369608Z",
     "start_time": "2021-10-11T07:55:57.355595Z"
    }
   },
   "outputs": [
    {
     "data": {
      "text/plain": [
       "0.6122448979591837"
      ]
     },
     "execution_count": 45,
     "metadata": {},
     "output_type": "execute_result"
    }
   ],
   "source": [
    "best_model.score(X_test, y_test)"
   ]
  },
  {
   "cell_type": "code",
   "execution_count": 46,
   "id": "7d226e7e",
   "metadata": {
    "ExecuteTime": {
     "end_time": "2021-10-11T07:55:57.512738Z",
     "start_time": "2021-10-11T07:55:57.370609Z"
    }
   },
   "outputs": [
    {
     "data": {
      "image/png": "[encoded data removed]",
      "text/plain": [
       "<Figure size 432x288 with 2 Axes>"
      ]
     },
     "metadata": {
      "needs_background": "light"
     },
     "output_type": "display_data"
    }
   ],
   "source": [
    "predicted3 = best_model.predict(X_test)\n",
    "\n",
    "cm = confusion_matrix(y_test, predicted3, labels=best_model.classes_)\n",
    "disp = ConfusionMatrixDisplay(confusion_matrix=cm, display_labels=best_model.classes_)\n",
    "disp.plot()\n",
    "plt.show()"
   ]
  }
 ],
 "metadata": {
  "kernelspec": {
   "display_name": "Python 3",
   "language": "python",
   "name": "python3"
  },
  "language_info": {
   "codemirror_mode": {
    "name": "ipython",
    "version": 3
   },
   "file_extension": ".py",
   "mimetype": "text/x-python",
   "name": "python",
   "nbconvert_exporter": "python",
   "pygments_lexer": "ipython3",
   "version": "3.8.8"
  }
 },
 "nbformat": 4,
 "nbformat_minor": 5
}
