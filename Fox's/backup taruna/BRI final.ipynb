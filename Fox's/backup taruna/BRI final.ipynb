{
 "cells": [
  {
   "cell_type": "code",
   "execution_count": 1,
   "metadata": {},
   "outputs": [],
   "source": [
    "import pandas as pd\n",
    "import numpy as np\n",
    "import seaborn as sns\n",
    "import matplotlib.pyplot as plt\n",
    "import scipy.stats\n",
    "import collections\n",
    "import fuzzywuzzy\n",
    "from pandas_profiling import ProfileReport\n",
    "from sklearn.datasets import make_classification\n",
    "from sklearn.linear_model import LogisticRegression\n",
    "from sklearn.model_selection import train_test_split\n",
    "from sklearn.metrics import confusion_matrix\n",
    "from sklearn.metrics import classification_report\n",
    "from sklearn.metrics import  accuracy_score\n",
    "from sklearn.metrics import roc_auc_score\n",
    "from sklearn import metrics\n",
    "from collections import Counter\n",
    "from imblearn.over_sampling import SMOTE\n",
    "import warnings\n",
    "warnings.simplefilter(action='ignore', category=FutureWarning)\n"
   ]
  },
  {
   "cell_type": "code",
   "execution_count": 2,
   "metadata": {},
   "outputs": [],
   "source": [
    "train = pd.read_csv(\"final BRI/BRI Base Modelling.csv\")\n",
    "test = pd.read_csv('BRI hackthon/test.csv')"
   ]
  },
  {
   "cell_type": "code",
   "execution_count": 3,
   "metadata": {},
   "outputs": [],
   "source": [
    "### profile_train = ProfileReport(train)\n",
    "### profile_train.to_file('mantab.html')"
   ]
  },
  {
   "cell_type": "code",
   "execution_count": 4,
   "metadata": {},
   "outputs": [
    {
     "data": {
      "text/plain": [
       "0    9516\n",
       "1    1637\n",
       "Name: Best Performance, dtype: int64"
      ]
     },
     "execution_count": 4,
     "metadata": {},
     "output_type": "execute_result"
    }
   ],
   "source": [
    "train['Best Performance'].value_counts()"
   ]
  },
  {
   "cell_type": "markdown",
   "metadata": {},
   "source": [
    "data antara best performance masih belum balance antara 1 dan 0 "
   ]
  },
  {
   "cell_type": "code",
   "execution_count": 5,
   "metadata": {},
   "outputs": [
    {
     "data": {
      "text/plain": [
       "job_duration_in_current_job_level        0\n",
       "job_duration_in_current_person_level     0\n",
       "job_duration_in_current_branch           0\n",
       "gender                                   0\n",
       "age                                      0\n",
       "number_of_dependences                    0\n",
       "year_graduated                           0\n",
       "job_duration_from_training               0\n",
       "branch_rotation                          0\n",
       "job_rotation                             0\n",
       "assign_of_otherposition                  0\n",
       "annual leave                             0\n",
       "sick_leaves                              0\n",
       "Last_achievement_%                       1\n",
       "Achievement_above_100%_during3quartal    1\n",
       "Best Performance                         0\n",
       "Jenis JG Job Level                       0\n",
       "Jenis JG Person Level                    0\n",
       "Jenis JG Branch Level                    0\n",
       "joblevelcat                              0\n",
       "personcat                                0\n",
       "employeecat                              0\n",
       "educationcat                             0\n",
       "maritalcat                               0\n",
       "AB                                       0\n",
       "B                                        0\n",
       "BC                                       0\n",
       "C                                        0\n",
       "D                                        0\n",
       "T                                        0\n",
       "dtype: int64"
      ]
     },
     "execution_count": 5,
     "metadata": {},
     "output_type": "execute_result"
    }
   ],
   "source": [
    "train.isna().sum()"
   ]
  },
  {
   "cell_type": "code",
   "execution_count": 6,
   "metadata": {},
   "outputs": [
    {
     "data": {
      "text/plain": [
       "job_duration_in_current_job_level        0\n",
       "job_duration_in_current_person_level     0\n",
       "job_duration_in_current_branch           0\n",
       "gender                                   0\n",
       "age                                      0\n",
       "number_of_dependences                    0\n",
       "year_graduated                           0\n",
       "job_duration_from_training               0\n",
       "branch_rotation                          0\n",
       "job_rotation                             0\n",
       "assign_of_otherposition                  0\n",
       "annual leave                             0\n",
       "sick_leaves                              0\n",
       "Last_achievement_%                       0\n",
       "Achievement_above_100%_during3quartal    0\n",
       "Best Performance                         0\n",
       "Jenis JG Job Level                       0\n",
       "Jenis JG Person Level                    0\n",
       "Jenis JG Branch Level                    0\n",
       "joblevelcat                              0\n",
       "personcat                                0\n",
       "employeecat                              0\n",
       "educationcat                             0\n",
       "maritalcat                               0\n",
       "AB                                       0\n",
       "B                                        0\n",
       "BC                                       0\n",
       "C                                        0\n",
       "D                                        0\n",
       "T                                        0\n",
       "dtype: int64"
      ]
     },
     "execution_count": 6,
     "metadata": {},
     "output_type": "execute_result"
    }
   ],
   "source": [
    "train = train.dropna()\n",
    "train = train.reset_index().drop('index',axis=1)\n",
    "train.isna().sum()"
   ]
  },
  {
   "cell_type": "code",
   "execution_count": 58,
   "metadata": {},
   "outputs": [],
   "source": [
    "maudrop = ['Jenis JG Job Level',\n",
    "           'Jenis JG Person Level',\n",
    "           'Jenis JG Branch Level',\n",
    "           'joblevelcat',\n",
    "          'Best Performance']\n",
    "x = train.drop(maudrop,axis=1)\n",
    "y = train['Best Performance']\n",
    "\n",
    "x_train , x_test, y_train, y_test = train_test_split(x,y, test_size =0.2,random_state=1000)"
   ]
  },
  {
   "cell_type": "markdown",
   "metadata": {},
   "source": [
    "# Oversampling SMOTE Logistic Regression "
   ]
  },
  {
   "cell_type": "code",
   "execution_count": 59,
   "metadata": {},
   "outputs": [
    {
     "name": "stdout",
     "output_type": "stream",
     "text": [
      "Before oversampling:  Counter({0: 7610, 1: 1311})\n"
     ]
    }
   ],
   "source": [
    "print(\"Before oversampling: \",Counter(y_train))"
   ]
  },
  {
   "cell_type": "code",
   "execution_count": 60,
   "metadata": {},
   "outputs": [],
   "source": [
    "x_train_SMOTE, y_train_SMOTE = SMOTE().fit_resample(x_train, y_train)"
   ]
  },
  {
   "cell_type": "code",
   "execution_count": 61,
   "metadata": {},
   "outputs": [
    {
     "name": "stdout",
     "output_type": "stream",
     "text": [
      "After oversampling:  Counter({1: 7610, 0: 7610})\n"
     ]
    }
   ],
   "source": [
    "print(\"After oversampling: \",Counter(y_train_SMOTE))"
   ]
  },
  {
   "cell_type": "code",
   "execution_count": 62,
   "metadata": {},
   "outputs": [
    {
     "name": "stderr",
     "output_type": "stream",
     "text": [
      "D:\\Coolyeah\\Anaconda\\lib\\site-packages\\sklearn\\linear_model\\_logistic.py:762: ConvergenceWarning: lbfgs failed to converge (status=1):\n",
      "STOP: TOTAL NO. of ITERATIONS REACHED LIMIT.\n",
      "\n",
      "Increase the number of iterations (max_iter) or scale the data as shown in:\n",
      "    https://scikit-learn.org/stable/modules/preprocessing.html\n",
      "Please also refer to the documentation for alternative solver options:\n",
      "    https://scikit-learn.org/stable/modules/linear_model.html#logistic-regression\n",
      "  n_iter_i = _check_optimize_result(\n"
     ]
    }
   ],
   "source": [
    "logmodel = LogisticRegression()\n",
    "logmodel.fit(x_train,y_train)\n",
    "prediction = logmodel.predict(x_test) # Prediksi berdasarkan treshold probability dari model\n",
    "prob = logmodel.predict_proba(x_test) # Probabilitas prediksi"
   ]
  },
  {
   "cell_type": "code",
   "execution_count": 63,
   "metadata": {},
   "outputs": [
    {
     "name": "stdout",
     "output_type": "stream",
     "text": [
      "              precision    recall  f1-score   support\n",
      "\n",
      "           0       0.85      1.00      0.92      1905\n",
      "           1       0.00      0.00      0.00       326\n",
      "\n",
      "    accuracy                           0.85      2231\n",
      "   macro avg       0.43      0.50      0.46      2231\n",
      "weighted avg       0.73      0.85      0.79      2231\n",
      "\n"
     ]
    },
    {
     "name": "stderr",
     "output_type": "stream",
     "text": [
      "D:\\Coolyeah\\Anaconda\\lib\\site-packages\\sklearn\\metrics\\_classification.py:1221: UndefinedMetricWarning: Precision and F-score are ill-defined and being set to 0.0 in labels with no predicted samples. Use `zero_division` parameter to control this behavior.\n",
      "  _warn_prf(average, modifier, msg_start, len(result))\n"
     ]
    }
   ],
   "source": [
    "print(classification_report(y_test,prediction))"
   ]
  },
  {
   "cell_type": "code",
   "execution_count": 64,
   "metadata": {},
   "outputs": [
    {
     "name": "stdout",
     "output_type": "stream",
     "text": [
      "[[1905    0]\n",
      " [ 326    0]]\n"
     ]
    }
   ],
   "source": [
    "print(confusion_matrix(y_test,prediction))"
   ]
  },
  {
   "cell_type": "code",
   "execution_count": 65,
   "metadata": {},
   "outputs": [
    {
     "data": {
      "text/plain": [
       "0.8538771851187809"
      ]
     },
     "execution_count": 65,
     "metadata": {},
     "output_type": "execute_result"
    }
   ],
   "source": [
    "accuracy_score(y_test,prediction)"
   ]
  },
  {
   "cell_type": "code",
   "execution_count": 66,
   "metadata": {},
   "outputs": [
    {
     "data": {
      "text/plain": [
       "0.5"
      ]
     },
     "execution_count": 66,
     "metadata": {},
     "output_type": "execute_result"
    }
   ],
   "source": [
    "roc_auc_score(y_test,prediction)"
   ]
  },
  {
   "cell_type": "markdown",
   "metadata": {},
   "source": [
    "tingkat kepresisian data masih tergolong sangat rendah pada predict best performance \n",
    "hal ini mungkin saja karena penyebaran data terhadap best perfomance secara EDA yang telah dilakukan tampak seperti itu"
   ]
  },
  {
   "cell_type": "code",
   "execution_count": 67,
   "metadata": {},
   "outputs": [
    {
     "data": {
      "text/plain": [
       "array([0, 0, 0, ..., 0, 0, 0], dtype=int64)"
      ]
     },
     "execution_count": 67,
     "metadata": {},
     "output_type": "execute_result"
    }
   ],
   "source": [
    "prediction"
   ]
  },
  {
   "cell_type": "code",
   "execution_count": null,
   "metadata": {},
   "outputs": [],
   "source": []
  }
 ],
 "metadata": {
  "kernelspec": {
   "display_name": "Python 3 (ipykernel)",
   "language": "python",
   "name": "python3"
  },
  "language_info": {
   "codemirror_mode": {
    "name": "ipython",
    "version": 3
   },
   "file_extension": ".py",
   "mimetype": "text/x-python",
   "name": "python",
   "nbconvert_exporter": "python",
   "pygments_lexer": "ipython3",
   "version": "3.8.8"
  },
  "toc": {
   "base_numbering": 1,
   "nav_menu": {},
   "number_sections": true,
   "sideBar": true,
   "skip_h1_title": false,
   "title_cell": "Table of Contents",
   "title_sidebar": "Contents",
   "toc_cell": false,
   "toc_position": {},
   "toc_section_display": true,
   "toc_window_display": false
  }
 },
 "nbformat": 4,
 "nbformat_minor": 4
}
