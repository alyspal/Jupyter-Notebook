{
 "cells": [
  {
   "cell_type": "markdown",
   "metadata": {},
   "source": [
    "## <span style=\"color:darkgreen\">IBM Watson AutoAI - Generated Scikit-learn Notebook v1.14.3</span>\n",
    "\n",
    "Consider these tips for working with an auto-generated notebook:\n",
    "- Notebook code generated using AutoAI will execute successfully. If you modify the notebook, we cannot guarantee it will run successfully.\n",
    "- This pipeline is optimized for the original data set. The pipeline might fail or produce sub-optimum results if used with different data.  If you want to use a different data set, consider retraining the AutoAI experiment to generate a new pipeline. For more information, see <a href=\"https://dataplatform.cloud.ibm.com/docs/content/wsj/analyze-data/autoai-notebook.html\">Cloud Platform</a> \n",
    "- Before modifying the pipeline or trying to re-fit the pipeline, consider that the code converts dataframes to numpy arrays before fitting the pipeline (a current restriction of the preprocessor pipeline).\n"
   ]
  },
  {
   "cell_type": "markdown",
   "metadata": {},
   "source": [
    "<a id=\"content\"></a>\n",
    "## Notebook content\n",
    "\n",
    "This notebook contains a Scikit-learn representation of AutoAI pipeline. This notebook introduces commands for getting data, training the model, and testing the model. \n",
    "\n",
    "Some familiarity with Python is helpful. This notebook uses Python 3.7 and scikit-learn 0.23.1."
   ]
  },
  {
   "cell_type": "markdown",
   "metadata": {
    "pycharm": {
     "name": "#%% md\n"
    }
   },
   "source": [
    "## Notebook goals\n",
    "\n",
    "-  Scikit-learn pipeline definition\n",
    "-  Pipeline training \n",
    "-  Pipeline evaluation\n",
    "\n",
    "## Contents\n",
    "\n",
    "This notebook contains the following parts:\n",
    "\n",
    "**[Setup](#setup)**      \n",
    "&nbsp;&nbsp;[Package installation](#install)   \n",
    "&nbsp;&nbsp;[AutoAI experiment metadata](#variables_definition)   \n",
    "**[Pipeline inspection](#inspection)**      \n",
    "&nbsp;&nbsp;[Read training data](#read)    \n",
    "&nbsp;&nbsp;[Train and test data split](#split)    \n",
    "&nbsp;&nbsp;[Make pipeline](#preview_model_to_python_code)      \n",
    "&nbsp;&nbsp;[Train pipeline model](#train)  \n",
    "&nbsp;&nbsp;[Test pipeline model](#test_model)  \n",
    "**[Next steps](#next_steps)**   \n",
    "**[Copyrights](#copyrights)**"
   ]
  },
  {
   "cell_type": "markdown",
   "metadata": {},
   "source": [
    "<a id=\"setup\"></a>\n",
    "# Setup"
   ]
  },
  {
   "cell_type": "markdown",
   "metadata": {},
   "source": [
    "<a id=\"install\"></a>\n",
    "## Package installation\n",
    "Before you use the sample code in this notebook, install the following packages:\n",
    " - ibm_watson_machine_learning,\n",
    " - autoai-libs,\n",
    " - xgboost.\n"
   ]
  },
  {
   "cell_type": "code",
   "execution_count": 1,
   "metadata": {
    "execution": {
     "iopub.execute_input": "2020-10-12T14:00:45.009458Z",
     "iopub.status.busy": "2020-10-12T14:00:45.007968Z",
     "iopub.status.idle": "2020-10-12T14:00:46.037702Z",
     "shell.execute_reply": "2020-10-12T14:00:46.038270Z"
    },
    "pycharm": {
     "name": "#%%\n"
    },
    "scrolled": true
   },
   "outputs": [
    {
     "name": "stdout",
     "output_type": "stream",
     "text": [
      "Successfully installed docutils-0.15.2 ibm-cos-sdk-2.7.0 ibm-cos-sdk-core-2.7.0 ibm-cos-sdk-s3transfer-2.7.0 ibm-watson-machine-learning-1.0.45 jmespath-0.10.0 lomond-0.3.3 tabulate-0.8.7\n",
      "      Successfully uninstalled pandas-1.0.1\n"
     ]
    },
    {
     "name": "stderr",
     "output_type": "stream",
     "text": [
      "ERROR: Could not install packages due to an EnvironmentError: [WinError 5] Access is denied: 'd:\\\\anaconda\\\\lib\\\\site-packages\\\\~andas\\\\_libs\\\\algos.cp37-win_amd64.pyd'\n",
      "Consider using the `--user` option or check the permissions.\n",
      "\n"
     ]
    },
    {
     "name": "stdout",
     "output_type": "stream",
     "text": [
      "Requirement already satisfied, skipping upgrade: scipy in d:\\anaconda\\lib\\site-packages (from xgboost==0.90) (1.4.1)\n"
     ]
    }
   ],
   "source": [
    "!pip install ibm-watson-machine-learning | tail -n 1\n",
    "!pip install -U autoai-libs | tail -n 1\n",
    "!pip install -U xgboost==0.90 | tail -n 1"
   ]
  },
  {
   "cell_type": "markdown",
   "metadata": {},
   "source": [
    "<a id=\"variables_definition\"></a>\n",
    "## AutoAI experiment metadata\n",
    "The following cell contains the training data connection details.  \n",
    "**Note**: The connection might contain authorization credentials, so be careful when sharing the notebook."
   ]
  },
  {
   "cell_type": "code",
   "execution_count": 2,
   "metadata": {
    "execution": {
     "iopub.execute_input": "2020-10-12T14:00:49.797633Z",
     "iopub.status.busy": "2020-10-12T14:00:49.796778Z",
     "iopub.status.idle": "2020-10-12T14:00:57.182715Z",
     "shell.execute_reply": "2020-10-12T14:00:57.183132Z"
    },
    "pycharm": {
     "is_executing": true
    }
   },
   "outputs": [],
   "source": [
    "# @hidden_cell\n",
    "from ibm_watson_machine_learning.helpers import DataConnection, S3Connection, S3Location\n",
    "\n",
    "training_data_reference = [DataConnection(\n",
    "    connection=S3Connection(\n",
    "        api_key='bd4h_sx8hj1fn50KspLWgKd97_UlQdTWjlP6T_u02UHF',\n",
    "        auth_endpoint='https://iam.bluemix.net/oidc/token/',\n",
    "        endpoint_url='https://s3.ap-geo.objectstorage.softlayer.net'\n",
    "    ),\n",
    "        location=S3Location(\n",
    "        bucket='lombabri-donotdelete-pr-rx5uopsjekwbtp',\n",
    "        path='BRI Base Modelling.csv'\n",
    "    )),\n",
    "]\n",
    "training_result_reference = DataConnection(\n",
    "    connection=S3Connection(\n",
    "        api_key='bd4h_sx8hj1fn50KspLWgKd97_UlQdTWjlP6T_u02UHF',\n",
    "        auth_endpoint='https://iam.bluemix.net/oidc/token/',\n",
    "        endpoint_url='https://s3.ap-geo.objectstorage.softlayer.net'\n",
    "    ),\n",
    "    location=S3Location(\n",
    "        bucket='lombabri-donotdelete-pr-rx5uopsjekwbtp',\n",
    "        path='auto_ml/e4bef065-d733-438f-bda5-4e238c356ea6/wml_data/d81f8881-85ff-416d-a946-9568d8545f69/data/automl',\n",
    "        model_location='auto_ml/e4bef065-d733-438f-bda5-4e238c356ea6/wml_data/d81f8881-85ff-416d-a946-9568d8545f69/data/automl/hpo_d_output/Pipeline1/model.pickle',\n",
    "        training_status='auto_ml/e4bef065-d733-438f-bda5-4e238c356ea6/wml_data/d81f8881-85ff-416d-a946-9568d8545f69/training-status.json'\n",
    "    ))"
   ]
  },
  {
   "cell_type": "markdown",
   "metadata": {},
   "source": [
    "Following cell contains input parameters provided to run the AutoAI experiment in Watson Studio."
   ]
  },
  {
   "cell_type": "code",
   "execution_count": 3,
   "metadata": {
    "execution": {
     "iopub.execute_input": "2020-10-12T14:00:57.187305Z",
     "iopub.status.busy": "2020-10-12T14:00:57.186602Z",
     "iopub.status.idle": "2020-10-12T14:00:57.188392Z",
     "shell.execute_reply": "2020-10-12T14:00:57.188878Z"
    },
    "pycharm": {
     "name": "#%%\n"
    }
   },
   "outputs": [],
   "source": [
    "experiment_metadata = dict(\n",
    "   prediction_type='classification',\n",
    "   prediction_column='Best Performance',\n",
    "   test_size=0.1,\n",
    "   scoring='roc_auc',\n",
    "   project_id='8623d04c-7253-4079-903f-4b36213faa8e',\n",
    "   space_id='None',\n",
    "   deployment_url='https://jp-tok.ml.cloud.ibm.com',\n",
    "   csv_separator=',',\n",
    "   random_state=33,\n",
    "   max_number_of_estimators=4,\n",
    "   daub_include_only_estimators=None,\n",
    "   training_data_reference=training_data_reference,\n",
    "   training_result_reference=training_result_reference,\n",
    "   positive_label=1\n",
    ")"
   ]
  },
  {
   "cell_type": "markdown",
   "metadata": {},
   "source": [
    "<a id=\"inspection\"></a>\n",
    "# Pipeline inspection"
   ]
  },
  {
   "cell_type": "markdown",
   "metadata": {
    "pycharm": {
     "name": "#%% md\n"
    }
   },
   "source": [
    "<a id=\"read\"></a>\n",
    "## Read training data\n",
    "\n",
    "Retrieve training dataset from AutoAI experiment as pandas DataFrame."
   ]
  },
  {
   "cell_type": "code",
   "execution_count": 4,
   "metadata": {
    "execution": {
     "iopub.execute_input": "2020-10-12T14:01:16.076169Z",
     "iopub.status.busy": "2020-10-12T14:01:16.075589Z",
     "iopub.status.idle": "2020-10-12T14:01:19.190233Z",
     "shell.execute_reply": "2020-10-12T14:01:19.190807Z"
    },
    "pycharm": {
     "is_executing": true,
     "name": "#%%\n"
    }
   },
   "outputs": [],
   "source": [
    "df = training_data_reference[0].read(csv_separator=experiment_metadata['csv_separator'])\n",
    "df.dropna('rows', how='any', subset=[experiment_metadata['prediction_column']], inplace=True)"
   ]
  },
  {
   "cell_type": "markdown",
   "metadata": {},
   "source": [
    "<a id=\"split\"></a>\n",
    "##  Train and test data split"
   ]
  },
  {
   "cell_type": "code",
   "execution_count": 5,
   "metadata": {
    "pycharm": {
     "is_executing": true
    }
   },
   "outputs": [],
   "source": [
    "from sklearn.model_selection import train_test_split\n",
    "\n",
    "X = df.drop([experiment_metadata['prediction_column']], axis=1).values\n",
    "y = df[experiment_metadata['prediction_column']].values\n",
    "\n",
    "train_X, test_X, train_y, test_y = train_test_split(X, y, test_size=experiment_metadata['test_size'],\n",
    "                                                    stratify=y, random_state=experiment_metadata['random_state'])"
   ]
  },
  {
   "cell_type": "markdown",
   "metadata": {
    "pycharm": {
     "name": "#%% md\n"
    }
   },
   "source": [
    "<a id=\"preview_model_to_python_code\"></a>\n",
    "## Make pipeline\n",
    "In the next cell, you can find the Scikit-learn definition of the selected AutoAI pipeline."
   ]
  },
  {
   "cell_type": "markdown",
   "metadata": {},
   "source": [
    "Import statements."
   ]
  },
  {
   "cell_type": "code",
   "execution_count": 6,
   "metadata": {
    "pycharm": {
     "is_executing": true,
     "name": "#%%\n"
    }
   },
   "outputs": [
    {
     "ename": "ModuleNotFoundError",
     "evalue": "No module named 'autoai_libs'",
     "output_type": "error",
     "traceback": [
      "\u001b[1;31m---------------------------------------------------------------------------\u001b[0m",
      "\u001b[1;31mModuleNotFoundError\u001b[0m                       Traceback (most recent call last)",
      "\u001b[1;32m<ipython-input-6-21ead4d25573>\u001b[0m in \u001b[0;36m<module>\u001b[1;34m\u001b[0m\n\u001b[1;32m----> 1\u001b[1;33m \u001b[1;32mfrom\u001b[0m \u001b[0mautoai_libs\u001b[0m\u001b[1;33m.\u001b[0m\u001b[0mtransformers\u001b[0m\u001b[1;33m.\u001b[0m\u001b[0mexportable\u001b[0m \u001b[1;32mimport\u001b[0m \u001b[0mNumpyColumnSelector\u001b[0m\u001b[1;33m\u001b[0m\u001b[1;33m\u001b[0m\u001b[0m\n\u001b[0m\u001b[0;32m      2\u001b[0m \u001b[1;32mfrom\u001b[0m \u001b[0mautoai_libs\u001b[0m\u001b[1;33m.\u001b[0m\u001b[0mtransformers\u001b[0m\u001b[1;33m.\u001b[0m\u001b[0mexportable\u001b[0m \u001b[1;32mimport\u001b[0m \u001b[0mCompressStrings\u001b[0m\u001b[1;33m\u001b[0m\u001b[1;33m\u001b[0m\u001b[0m\n\u001b[0;32m      3\u001b[0m \u001b[1;32mfrom\u001b[0m \u001b[0mautoai_libs\u001b[0m\u001b[1;33m.\u001b[0m\u001b[0mtransformers\u001b[0m\u001b[1;33m.\u001b[0m\u001b[0mexportable\u001b[0m \u001b[1;32mimport\u001b[0m \u001b[0mNumpyReplaceMissingValues\u001b[0m\u001b[1;33m\u001b[0m\u001b[1;33m\u001b[0m\u001b[0m\n\u001b[0;32m      4\u001b[0m \u001b[1;32mfrom\u001b[0m \u001b[0mautoai_libs\u001b[0m\u001b[1;33m.\u001b[0m\u001b[0mtransformers\u001b[0m\u001b[1;33m.\u001b[0m\u001b[0mexportable\u001b[0m \u001b[1;32mimport\u001b[0m \u001b[0mNumpyReplaceUnknownValues\u001b[0m\u001b[1;33m\u001b[0m\u001b[1;33m\u001b[0m\u001b[0m\n\u001b[0;32m      5\u001b[0m \u001b[1;32mfrom\u001b[0m \u001b[0mautoai_libs\u001b[0m\u001b[1;33m.\u001b[0m\u001b[0mtransformers\u001b[0m\u001b[1;33m.\u001b[0m\u001b[0mexportable\u001b[0m \u001b[1;32mimport\u001b[0m \u001b[0mboolean2float\u001b[0m\u001b[1;33m\u001b[0m\u001b[1;33m\u001b[0m\u001b[0m\n",
      "\u001b[1;31mModuleNotFoundError\u001b[0m: No module named 'autoai_libs'"
     ]
    }
   ],
   "source": [
    "from autoai_libs.transformers.exportable import NumpyColumnSelector\n",
    "from autoai_libs.transformers.exportable import CompressStrings\n",
    "from autoai_libs.transformers.exportable import NumpyReplaceMissingValues\n",
    "from autoai_libs.transformers.exportable import NumpyReplaceUnknownValues\n",
    "from autoai_libs.transformers.exportable import boolean2float\n",
    "from autoai_libs.transformers.exportable import CatImputer\n",
    "from autoai_libs.transformers.exportable import CatEncoder\n",
    "import numpy as np\n",
    "from autoai_libs.transformers.exportable import float32_transform\n",
    "from sklearn.pipeline import make_pipeline\n",
    "from autoai_libs.transformers.exportable import FloatStr2Float\n",
    "from autoai_libs.transformers.exportable import NumImputer\n",
    "from autoai_libs.transformers.exportable import OptStandardScaler\n",
    "from sklearn.pipeline import make_union\n",
    "from autoai_libs.transformers.exportable import NumpyPermuteArray\n",
    "from xgboost import XGBClassifier"
   ]
  },
  {
   "cell_type": "markdown",
   "metadata": {},
   "source": [
    "#### Pre-processing & Estimator."
   ]
  },
  {
   "cell_type": "code",
   "execution_count": null,
   "metadata": {
    "pycharm": {
     "is_executing": true,
     "name": "#%%\n"
    }
   },
   "outputs": [],
   "source": [
    "numpy_column_selector_0 = NumpyColumnSelector(\n",
    "    columns=[\n",
    "        3,\n",
    "        4,\n",
    "        5,\n",
    "        6,\n",
    "        7,\n",
    "        8,\n",
    "        9,\n",
    "        10,\n",
    "        11,\n",
    "        12,\n",
    "        14,\n",
    "        15,\n",
    "        16,\n",
    "        17,\n",
    "        18,\n",
    "        19,\n",
    "        20,\n",
    "        21,\n",
    "        22,\n",
    "        23,\n",
    "        24,\n",
    "        25,\n",
    "        26,\n",
    "        27,\n",
    "        28,\n",
    "    ]\n",
    ")\n",
    "compress_strings = CompressStrings(\n",
    "    compress_type=\"hash\",\n",
    "    dtypes_list=[\n",
    "        \"int_num\",\n",
    "        \"int_num\",\n",
    "        \"int_num\",\n",
    "        \"int_num\",\n",
    "        \"int_num\",\n",
    "        \"int_num\",\n",
    "        \"int_num\",\n",
    "        \"int_num\",\n",
    "        \"int_num\",\n",
    "        \"int_num\",\n",
    "        \"float_int_num\",\n",
    "        \"char_str\",\n",
    "        \"char_str\",\n",
    "        \"char_str\",\n",
    "        \"int_num\",\n",
    "        \"int_num\",\n",
    "        \"int_num\",\n",
    "        \"int_num\",\n",
    "        \"int_num\",\n",
    "        \"int_num\",\n",
    "        \"int_num\",\n",
    "        \"int_num\",\n",
    "        \"int_num\",\n",
    "        \"int_num\",\n",
    "        \"int_num\",\n",
    "    ],\n",
    "    missing_values_reference_list=[\"\", \"-\", \"?\", float(\"nan\")],\n",
    "    misslist_list=[\n",
    "        [],\n",
    "        [],\n",
    "        [],\n",
    "        [],\n",
    "        [],\n",
    "        [],\n",
    "        [],\n",
    "        [],\n",
    "        [],\n",
    "        [],\n",
    "        [float(\"nan\")],\n",
    "        [],\n",
    "        [],\n",
    "        [],\n",
    "        [],\n",
    "        [],\n",
    "        [],\n",
    "        [],\n",
    "        [],\n",
    "        [],\n",
    "        [],\n",
    "        [],\n",
    "        [],\n",
    "        [],\n",
    "        [],\n",
    "    ],\n",
    ")\n",
    "numpy_replace_missing_values_0 = NumpyReplaceMissingValues(\n",
    "    missing_values=[float(\"nan\")], filling_values=float(\"nan\")\n",
    ")\n",
    "numpy_replace_unknown_values = NumpyReplaceUnknownValues(\n",
    "    filling_values=float(\"nan\"),\n",
    "    filling_values_list=[\n",
    "        float(\"nan\"),\n",
    "        float(\"nan\"),\n",
    "        float(\"nan\"),\n",
    "        float(\"nan\"),\n",
    "        float(\"nan\"),\n",
    "        float(\"nan\"),\n",
    "        float(\"nan\"),\n",
    "        float(\"nan\"),\n",
    "        float(\"nan\"),\n",
    "        float(\"nan\"),\n",
    "        100001,\n",
    "        float(\"nan\"),\n",
    "        float(\"nan\"),\n",
    "        float(\"nan\"),\n",
    "        float(\"nan\"),\n",
    "        float(\"nan\"),\n",
    "        float(\"nan\"),\n",
    "        float(\"nan\"),\n",
    "        float(\"nan\"),\n",
    "        float(\"nan\"),\n",
    "        float(\"nan\"),\n",
    "        float(\"nan\"),\n",
    "        float(\"nan\"),\n",
    "        float(\"nan\"),\n",
    "        float(\"nan\"),\n",
    "    ],\n",
    "    known_values_list=[\n",
    "        [1, 2],\n",
    "        [\n",
    "            23,\n",
    "            24,\n",
    "            25,\n",
    "            26,\n",
    "            27,\n",
    "            28,\n",
    "            29,\n",
    "            30,\n",
    "            31,\n",
    "            32,\n",
    "            33,\n",
    "            34,\n",
    "            35,\n",
    "            36,\n",
    "            37,\n",
    "            38,\n",
    "            39,\n",
    "            40,\n",
    "            41,\n",
    "            42,\n",
    "            43,\n",
    "            44,\n",
    "            45,\n",
    "            46,\n",
    "            47,\n",
    "            48,\n",
    "            49,\n",
    "            50,\n",
    "            51,\n",
    "            52,\n",
    "            53,\n",
    "            54,\n",
    "            55,\n",
    "            56,\n",
    "            57,\n",
    "        ],\n",
    "        [0, 1, 2, 3, 4, 5, 7],\n",
    "        [\n",
    "            1,\n",
    "            2,\n",
    "            3,\n",
    "            4,\n",
    "            5,\n",
    "            6,\n",
    "            7,\n",
    "            8,\n",
    "            9,\n",
    "            10,\n",
    "            11,\n",
    "            12,\n",
    "            13,\n",
    "            14,\n",
    "            15,\n",
    "            16,\n",
    "            17,\n",
    "            18,\n",
    "            19,\n",
    "            20,\n",
    "            21,\n",
    "            22,\n",
    "            23,\n",
    "            24,\n",
    "            25,\n",
    "            26,\n",
    "            27,\n",
    "            28,\n",
    "            29,\n",
    "            30,\n",
    "            31,\n",
    "            32,\n",
    "            33,\n",
    "            34,\n",
    "            35,\n",
    "            36,\n",
    "            37,\n",
    "            38,\n",
    "        ],\n",
    "        [\n",
    "            2,\n",
    "            3,\n",
    "            4,\n",
    "            5,\n",
    "            6,\n",
    "            7,\n",
    "            8,\n",
    "            12,\n",
    "            13,\n",
    "            14,\n",
    "            15,\n",
    "            16,\n",
    "            17,\n",
    "            18,\n",
    "            19,\n",
    "            20,\n",
    "            21,\n",
    "            22,\n",
    "            23,\n",
    "            24,\n",
    "            25,\n",
    "            26,\n",
    "            27,\n",
    "            28,\n",
    "            29,\n",
    "            30,\n",
    "            31,\n",
    "            32,\n",
    "            34,\n",
    "            36,\n",
    "        ],\n",
    "        [1, 2, 3, 4, 5, 6, 7, 8, 9, 10, 11, 12, 13, 14, 15, 16, 17, 19, 22],\n",
    "        [1, 2, 3, 4, 5, 6, 7, 8, 9, 10, 11, 12, 13, 14],\n",
    "        [\n",
    "            0,\n",
    "            1,\n",
    "            2,\n",
    "            3,\n",
    "            4,\n",
    "            5,\n",
    "            6,\n",
    "            7,\n",
    "            8,\n",
    "            9,\n",
    "            10,\n",
    "            11,\n",
    "            12,\n",
    "            13,\n",
    "            14,\n",
    "            15,\n",
    "            16,\n",
    "            17,\n",
    "            18,\n",
    "            19,\n",
    "            20,\n",
    "            21,\n",
    "            22,\n",
    "            24,\n",
    "            29,\n",
    "        ],\n",
    "        [\n",
    "            0,\n",
    "            1,\n",
    "            2,\n",
    "            3,\n",
    "            4,\n",
    "            5,\n",
    "            6,\n",
    "            7,\n",
    "            8,\n",
    "            9,\n",
    "            10,\n",
    "            11,\n",
    "            12,\n",
    "            13,\n",
    "            14,\n",
    "            15,\n",
    "            16,\n",
    "            18,\n",
    "            19,\n",
    "            20,\n",
    "            21,\n",
    "        ],\n",
    "        [\n",
    "            0,\n",
    "            1,\n",
    "            2,\n",
    "            3,\n",
    "            4,\n",
    "            5,\n",
    "            6,\n",
    "            7,\n",
    "            8,\n",
    "            9,\n",
    "            10,\n",
    "            11,\n",
    "            12,\n",
    "            13,\n",
    "            14,\n",
    "            15,\n",
    "            16,\n",
    "            17,\n",
    "            18,\n",
    "            19,\n",
    "            20,\n",
    "            21,\n",
    "            22,\n",
    "            23,\n",
    "            25,\n",
    "            26,\n",
    "            27,\n",
    "            28,\n",
    "            29,\n",
    "            30,\n",
    "            31,\n",
    "            32,\n",
    "            36,\n",
    "            37,\n",
    "            46,\n",
    "            47,\n",
    "            53,\n",
    "            55,\n",
    "            77,\n",
    "        ],\n",
    "        [0.0, 1.0, 2.0, 3.0],\n",
    "        [\n",
    "            72082553107304540193402385513512673325,\n",
    "            194811328979975027924852485687523614652,\n",
    "            151356139162276591468838824464002590745,\n",
    "            93909188963761481156444530367820331582,\n",
    "        ],\n",
    "        [\n",
    "            4614597899897756787075169015630369891,\n",
    "            254815139083889992795253474045554929052,\n",
    "            307919572886965387583284247852622738009,\n",
    "            12921003414519072540271192922192777706,\n",
    "            303761101115987641312487736705147941059,\n",
    "            101744536362938961803047157978223722114,\n",
    "        ],\n",
    "        [\n",
    "            141924154135333348323687367057190663874,\n",
    "            12886903246833146396304098490759517621,\n",
    "            209891165388908275850256174443524317676,\n",
    "            94031010013110841250737704495738671738,\n",
    "            334440477232399156545110652029822669890,\n",
    "            25828822866807863723334949707054195519,\n",
    "            166910494989114672422159960188212926721,\n",
    "        ],\n",
    "        [0, 1, 2],\n",
    "        [0, 1, 2, 3, 4, 5, 6, 7],\n",
    "        [0, 1, 2],\n",
    "        [1, 2, 3, 4, 5],\n",
    "        [0, 1],\n",
    "        [0, 1],\n",
    "        [0, 1],\n",
    "        [0, 1],\n",
    "        [0, 1],\n",
    "        [0, 1],\n",
    "        [0, 1],\n",
    "    ],\n",
    "    missing_values_reference_list=[\"\", \"-\", \"?\", float(\"nan\")],\n",
    ")\n",
    "cat_imputer = CatImputer(\n",
    "    strategy=\"most_frequent\",\n",
    "    missing_values=float(\"nan\"),\n",
    "    sklearn_version_family=\"23\",\n",
    ")\n",
    "cat_encoder = CatEncoder(\n",
    "    encoding=\"ordinal\",\n",
    "    categories=\"auto\",\n",
    "    dtype=np.float64,\n",
    "    handle_unknown=\"error\",\n",
    "    sklearn_version_family=\"23\",\n",
    ")\n",
    "pipeline_0 = make_pipeline(\n",
    "    numpy_column_selector_0,\n",
    "    compress_strings,\n",
    "    numpy_replace_missing_values_0,\n",
    "    numpy_replace_unknown_values,\n",
    "    boolean2float(),\n",
    "    cat_imputer,\n",
    "    cat_encoder,\n",
    "    float32_transform(),\n",
    ")\n",
    "numpy_column_selector_1 = NumpyColumnSelector(columns=[0, 1, 2, 13])\n",
    "float_str2_float = FloatStr2Float(\n",
    "    dtypes_list=[\"float_num\", \"float_num\", \"float_num\", \"float_num\"],\n",
    "    missing_values_reference_list=[float(\"nan\")],\n",
    ")\n",
    "numpy_replace_missing_values_1 = NumpyReplaceMissingValues(\n",
    "    missing_values=[float(\"nan\")], filling_values=float(\"nan\")\n",
    ")\n",
    "num_imputer = NumImputer(strategy=\"median\", missing_values=float(\"nan\"))\n",
    "opt_standard_scaler = OptStandardScaler(\n",
    "    num_scaler_copy=None,\n",
    "    num_scaler_with_mean=None,\n",
    "    num_scaler_with_std=None,\n",
    "    use_scaler_flag=False,\n",
    ")\n",
    "pipeline_1 = make_pipeline(\n",
    "    numpy_column_selector_1,\n",
    "    float_str2_float,\n",
    "    numpy_replace_missing_values_1,\n",
    "    num_imputer,\n",
    "    opt_standard_scaler,\n",
    "    float32_transform(),\n",
    ")\n",
    "union = make_union(pipeline_0, pipeline_1)\n",
    "numpy_permute_array = NumpyPermuteArray(\n",
    "    axis=0,\n",
    "    permutation_indices=[\n",
    "        3,\n",
    "        4,\n",
    "        5,\n",
    "        6,\n",
    "        7,\n",
    "        8,\n",
    "        9,\n",
    "        10,\n",
    "        11,\n",
    "        12,\n",
    "        14,\n",
    "        15,\n",
    "        16,\n",
    "        17,\n",
    "        18,\n",
    "        19,\n",
    "        20,\n",
    "        21,\n",
    "        22,\n",
    "        23,\n",
    "        24,\n",
    "        25,\n",
    "        26,\n",
    "        27,\n",
    "        28,\n",
    "        0,\n",
    "        1,\n",
    "        2,\n",
    "        13,\n",
    "    ],\n",
    ")\n",
    "xgb_classifier = XGBClassifier(\n",
    "    gamma=1.6203796765927478e-07,\n",
    "    learning_rate=0.02000035772822629,\n",
    "    max_depth=7,\n",
    "    min_child_weight=20,\n",
    "    n_estimators=444,\n",
    "    n_jobs=2,\n",
    "    random_state=33,\n",
    "    reg_alpha=0.9999997665668965,\n",
    "    reg_lambda=0.9999964658092994,\n",
    "    scale_pos_weight=2.4110314585157018,\n",
    "    silent=True,\n",
    "    subsample=0.9999999471010136,\n",
    "    verbosity=0,\n",
    "    tree_method=\"hist\",\n",
    ")\n"
   ]
  },
  {
   "cell_type": "markdown",
   "metadata": {},
   "source": [
    "Pipeline."
   ]
  },
  {
   "cell_type": "code",
   "execution_count": null,
   "metadata": {
    "pycharm": {
     "is_executing": true,
     "name": "#%%\n"
    }
   },
   "outputs": [],
   "source": [
    "pipeline = make_pipeline(union, numpy_permute_array, xgb_classifier)"
   ]
  },
  {
   "cell_type": "markdown",
   "metadata": {},
   "source": [
    "<a id=\"train\"></a>\n",
    "## Train pipeline model\n"
   ]
  },
  {
   "cell_type": "markdown",
   "metadata": {},
   "source": [
    "### Define scorer from the optimization metric\n",
    "This cell constructs the cell scorer based on the experiment metadata."
   ]
  },
  {
   "cell_type": "code",
   "execution_count": null,
   "metadata": {
    "pycharm": {
     "is_executing": true
    }
   },
   "outputs": [],
   "source": [
    "from sklearn.metrics import get_scorer\n",
    "\n",
    "scorer = get_scorer(experiment_metadata['scoring'])"
   ]
  },
  {
   "cell_type": "markdown",
   "metadata": {
    "pycharm": {
     "name": "#%% md\n"
    }
   },
   "source": [
    "<a id=\"test_model\"></a>\n",
    "### Fit pipeline model\n",
    "In this cell, the pipeline is fitted."
   ]
  },
  {
   "cell_type": "code",
   "execution_count": null,
   "metadata": {
    "execution": {
     "iopub.execute_input": "2020-10-12T14:01:19.291734Z",
     "iopub.status.busy": "2020-10-12T14:01:19.244735Z",
     "iopub.status.idle": "2020-10-12T14:01:19.338461Z",
     "shell.execute_reply": "2020-10-12T14:01:19.338958Z"
    },
    "pycharm": {
     "is_executing": true,
     "name": "#%%\n"
    },
    "scrolled": true
   },
   "outputs": [],
   "source": [
    "pipeline.fit(train_X,train_y)"
   ]
  },
  {
   "cell_type": "markdown",
   "metadata": {},
   "source": [
    "<a id=\"test_model\"></a>\n",
    "## Test pipeline model"
   ]
  },
  {
   "cell_type": "markdown",
   "metadata": {},
   "source": [
    "Score the fitted pipeline with the generated scorer using the holdout dataset."
   ]
  },
  {
   "cell_type": "code",
   "execution_count": null,
   "metadata": {
    "execution": {
     "iopub.execute_input": "2020-10-12T14:02:03.910267Z",
     "iopub.status.busy": "2020-10-12T14:02:03.909710Z",
     "iopub.status.idle": "2020-10-12T14:02:03.914154Z",
     "shell.execute_reply": "2020-10-12T14:02:03.914727Z"
    },
    "pycharm": {
     "is_executing": true,
     "name": "#%%\n"
    }
   },
   "outputs": [],
   "source": [
    "score = scorer(pipeline, test_X, test_y)\n",
    "print(score)"
   ]
  },
  {
   "cell_type": "markdown",
   "metadata": {},
   "source": [
    "<a id=\"next_steps\"></a>\n",
    "# Next steps\n",
    "\n",
    "#### [Model deployment as webservice](https://github.com/IBM/watson-machine-learning-samples/tree/master/cloud/notebooks/python_sdk/deployments/autoai)\n",
    "#### [Run AutoAI experiment with python SDK](https://github.com/IBM/watson-machine-learning-samples/tree/master/cloud/notebooks/python_sdk/experiments/autoai)  "
   ]
  },
  {
   "cell_type": "markdown",
   "metadata": {
    "pycharm": {
     "name": "#%% md\n"
    }
   },
   "source": [
    "<a id=\"copyrights\"></a>\n",
    "### Copyrights\n",
    "\n",
    "Licensed Materials - Copyright © 2020 IBM. This notebook and its source code are released under the terms of the ILAN License.\n",
    "Use, duplication disclosure restricted by GSA ADP Schedule Contract with IBM Corp.\n",
    "\n",
    "**Note:** The auto-generated notebooks are subject to the International License Agreement for Non-Warranted Programs  \n",
    "(or equivalent) and License Information document for Watson Studio Auto-generated Notebook (License Terms),  \n",
    "such agreements located in the link below. Specifically, the Source Components and Sample Materials clause  \n",
    "included in the License Information document for Watson Studio Auto-generated Notebook applies to the auto-generated notebooks.  \n",
    "\n",
    "By downloading, copying, accessing, or otherwise using the materials, you agree to the <a href=\"http://www14.software.ibm.com/cgi-bin/weblap/lap.pl?li_formnum=L-AMCU-BHU2B7&title=IBM%20Watson%20Studio%20Auto-generated%20Notebook%20V2.1\">License Terms</a>  \n",
    "\n",
    "___"
   ]
  }
 ],
 "metadata": {
  "kernelspec": {
   "display_name": "Python 3",
   "language": "python",
   "name": "python3"
  },
  "language_info": {
   "codemirror_mode": {
    "name": "ipython",
    "version": 3
   },
   "file_extension": ".py",
   "mimetype": "text/x-python",
   "name": "python",
   "nbconvert_exporter": "python",
   "pygments_lexer": "ipython3",
   "version": "3.8.5"
  },
  "toc": {
   "base_numbering": 1,
   "nav_menu": {},
   "number_sections": true,
   "sideBar": true,
   "skip_h1_title": false,
   "title_cell": "Table of Contents",
   "title_sidebar": "Contents",
   "toc_cell": false,
   "toc_position": {},
   "toc_section_display": true,
   "toc_window_display": false
  }
 },
 "nbformat": 4,
 "nbformat_minor": 2
}
