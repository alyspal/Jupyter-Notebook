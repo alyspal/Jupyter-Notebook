{
 "cells": [
  {
   "cell_type": "code",
   "execution_count": null,
   "metadata": {},
   "outputs": [],
   "source": [
    "import pandas as pd\n",
    "import numpy as np\n",
    "import matplotlib.pyplot as plt\n",
    "import seaborn as sns\n",
    "import datetime as dt\n",
    "\n",
    "train = pd.read_csv(\"train_data.csv\")\n",
    "test = pd.read_csv(\"test_data.csv\")\n",
    "submission = pd.read_csv(\"sample_submission.csv\")\n",
    "\n",
    "train.Umur.loc[train.Sourcing_Channel==train.loc[11,\"Sourcing_Channel\"]].mode()\n",
    "\n",
    "train.Umur.loc[(train.Sourcing_Channel.isna()==False) & (train.Umur.isna()==True)]= [train.Umur.loc[train.Sourcing_Channel==train.loc[i,\"Sourcing_Channel\"]].mode().mean() for i in (train.loc[(train.Umur.isna()==True) & (train.Sourcing_Channel.isna()==False)].index)]\n",
    "\n",
    "train.Sourcing_Channel.loc[(train.Sourcing_Channel.isna()==True) & (train.Umur.isna()==False)]= [train.Sourcing_Channel.loc[train.Umur==train.loc[i,\"Umur\"]].mode().mean() for i in (train.loc[(train.Umur.isna()==False) & (train.Sourcing_Channel.isna()==True)].index)]\n",
    "\n",
    "train = train.drop(['id','Tanggal_Asuransi'],axis=1)\n",
    "\n",
    "indeks = [i for i in range(train.shape[0]) if ((train.loc[i,:].isna().sum()/train.shape[1])>0.4)]\n",
    "\n",
    "train = train.drop(indeks,axis=0).reset_index().drop('index',axis=1)\n",
    "\n",
    "train.Tahun_Kendaraan.loc[(train.Tahun_Kendaraan.isna()==True) & (train.Umur.isna()==False)] = [train.Tahun_Kendaraan.loc[train.Umur==train.loc[i,'Umur']].mode() for i in (train.loc[(train.Tahun_Kendaraan.isna()==True) & (train.Umur.isna()==False)]).index]\n",
    "\n",
    "train.Umur.loc[(train.Tahun_Kendaraan.isna()==False) & (train.Umur.isna()==True)] = [train.Umur.loc[train.Tahun_Kendaraan==train.loc[i,'Tahun_Kendaraan']].mode() for i in (train.loc[(train.Tahun_Kendaraan.isna()==False) & (train.Umur.isna()==True)]).index]"
   ]
  },
  {
   "cell_type": "code",
   "execution_count": null,
   "metadata": {},
   "outputs": [],
   "source": [
    "train.head()"
   ]
  },
  {
   "cell_type": "code",
   "execution_count": null,
   "metadata": {},
   "outputs": [],
   "source": []
  },
  {
   "cell_type": "code",
   "execution_count": null,
   "metadata": {},
   "outputs": [],
   "source": [
    "train['Biaya'] = train['Biaya'].fillna(train['Biaya'].mean())"
   ]
  },
  {
   "cell_type": "code",
   "execution_count": null,
   "metadata": {},
   "outputs": [],
   "source": [
    "sns.distplot(train['Biaya'])"
   ]
  },
  {
   "cell_type": "code",
   "execution_count": null,
   "metadata": {},
   "outputs": [],
   "source": [
    "train['Biaya'].value_counts().plot(kind='bar')"
   ]
  },
  {
   "cell_type": "code",
   "execution_count": null,
   "metadata": {},
   "outputs": [],
   "source": []
  }
 ],
 "metadata": {
  "kernelspec": {
   "display_name": "Python 3",
   "language": "python",
   "name": "python3"
  },
  "language_info": {
   "codemirror_mode": {
    "name": "ipython",
    "version": 3
   },
   "file_extension": ".py",
   "mimetype": "text/x-python",
   "name": "python",
   "nbconvert_exporter": "python",
   "pygments_lexer": "ipython3",
   "version": "3.8.5"
  },
  "toc": {
   "base_numbering": 1,
   "nav_menu": {},
   "number_sections": true,
   "sideBar": true,
   "skip_h1_title": false,
   "title_cell": "Table of Contents",
   "title_sidebar": "Contents",
   "toc_cell": false,
   "toc_position": {},
   "toc_section_display": true,
   "toc_window_display": false
  }
 },
 "nbformat": 4,
 "nbformat_minor": 2
}
