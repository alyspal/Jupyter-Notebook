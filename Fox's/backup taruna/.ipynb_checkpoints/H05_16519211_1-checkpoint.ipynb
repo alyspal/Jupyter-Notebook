{
 "cells": [
  {
   "cell_type": "code",
   "execution_count": 23,
   "metadata": {},
   "outputs": [
    {
     "name": "stdout",
     "output_type": "stream",
     "text": [
      "Banyaknya data dalam tabel adalah 5938\n",
      " \n",
      "                       nama fakultas  nilai_mat  nilai_kim  nilai_fis\n",
      "0  Sinta Isfandiary Ainsyah     FITB      78.56      41.72      42.57\n",
      "1       Darmadi Jayasaputra     FTMD      65.33      37.44      67.53\n",
      "2  Annisa Ferina Ramadhiani     STEI      75.58      56.97      49.19\n",
      "3         Rani Yasmina Rosa    SITHR      77.04      45.97      48.21\n",
      "4             Ravy Muhammad    SITHS      83.72      35.12      47.17\n",
      "5         Meutia Diva Hakim    SAPPK      62.51      35.86      42.27\n",
      "6          Lucia Budiyani H     STEI      37.60      62.45      62.15\n",
      "7            Ria Ratna Sari      FTI      82.66      46.18      54.88\n",
      "8          Nailnabilla Zain    SITHS      88.35      45.79      57.48\n",
      "9           Lisa Rachmawati    FMIPA      61.38      68.00      95.03\n",
      " \n",
      "                          nama fakultas  nilai_mat  nilai_kim  nilai_fis\n",
      "49                  Rosy Diana     FTSL      59.00      68.18      70.80\n",
      "50               Widya Hastuti    SITHR      83.40      44.83      53.44\n",
      "51  Andi Aulia Sukma Pamungkas     FTMD      66.01      64.85      67.59\n",
      "52      Artin Priyantini Putri     FTMD      77.50      44.18      61.06\n",
      "53        Riska Trismayangsari     FTSL      84.25      26.03      26.40\n",
      "54  Hendryadi Daniil Kurniawan     FTMD      72.20      36.67      40.17\n",
      "55  Debi Finianto Eko Prasetyo    SAPPK      90.76      65.53      70.79\n",
      "56       Dian Setiawan Damanik    FMIPA      86.70      47.36      62.30\n",
      "57             Andika Mahendra     FITB      66.63      46.91      49.14\n",
      "58                Aminul Fikri     FTTM      57.96      46.04      55.11\n",
      "59          Hafidz Alhaq Fatih    FMIPA      86.34      34.38      44.68\n",
      " \n",
      "STEI     888\n",
      "FTI      836\n",
      "FTSL     757\n",
      "FMIPA    754\n",
      "FTTM     646\n",
      "FTMD     619\n",
      "FITB     475\n",
      "SITHR    367\n",
      "SAPPK    362\n",
      "SITHS    234\n",
      "Name: fakultas, dtype: int64\n",
      " \n",
      "0.8124688015436738\n",
      "Semakin mendekati 0, semakin dua kolom tidak berkorelasi\n",
      "Semakin mendekati 1, semakin dua kolom berbanding lurus.\n",
      "Semakin mendekati -1, semakin dua kolom berbanding terbalik\n"
     ]
    }
   ],
   "source": [
    "# NIM/Nama  : 16519211/ Muhamad Taruna\n",
    "# Tanggal   : 11 November 2019\n",
    "# Deskripsi : mencari dan menghitung data secara umum tiap fakultas\n",
    "\n",
    "#Algoritma\n",
    "#mengimport fungsi pandas\n",
    "import pandas as pd\n",
    "#membaca file data\n",
    "#data adalah file nilai-nilai\n",
    "df = pd.read_csv(\"data.csv\")\n",
    "#Menghitung banyaknya data yang terdapat dalam file data\n",
    "print(\"Banyaknya data dalam tabel adalah \"+str(len(df)))\n",
    "print(\" \")\n",
    "#Menampilkan data dari yang pertama hingga ke 10\n",
    "print(df[0:10])\n",
    "print(\" \")\n",
    "#menampilkan data dari ke50 hingga 60\n",
    "print(df[49:60])\n",
    "print(\" \")\n",
    "#menampilkan jumlah setiap fakultas \n",
    "print(df[\"fakultas\"]. value_counts ())\n",
    "print(\" \")\n",
    "#menampilkan nilai korelasi antara nilai kimia dan fisika\n",
    "print(df[\"nilai_kim\"].corr(df[\"nilai_fis\"]))\n",
    "#penjelasan nilai korelasi sesuai modul\n",
    "print(\"Semakin mendekati 0, semakin dua kolom tidak berkorelasi\")\n",
    "print(\"Semakin mendekati 1, semakin dua kolom berbanding lurus.\")\n",
    "print(\"Semakin mendekati -1, semakin dua kolom berbanding terbalik\")"
   ]
  },
  {
   "cell_type": "code",
   "execution_count": null,
   "metadata": {},
   "outputs": [],
   "source": []
  },
  {
   "cell_type": "code",
   "execution_count": null,
   "metadata": {},
   "outputs": [],
   "source": []
  }
 ],
 "metadata": {
  "kernelspec": {
   "display_name": "Python 3",
   "language": "python",
   "name": "python3"
  },
  "language_info": {
   "codemirror_mode": {
    "name": "ipython",
    "version": 3
   },
   "file_extension": ".py",
   "mimetype": "text/x-python",
   "name": "python",
   "nbconvert_exporter": "python",
   "pygments_lexer": "ipython3",
   "version": "3.6.5"
  }
 },
 "nbformat": 4,
 "nbformat_minor": 2
}
