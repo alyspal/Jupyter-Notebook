{
 "cells": [
  {
   "cell_type": "code",
   "execution_count": 14,
   "metadata": {},
   "outputs": [
    {
     "name": "stdout",
     "output_type": "stream",
     "text": [
      "          nama fakultas  nilai_mat  nilai_kim  nilai_fis\n",
      "4087  Tuan Yon     FTMD      84.05      65.86      37.54\n",
      "                        nama fakultas  nilai_mat  nilai_kim  nilai_fis\n",
      "3240  Rhinocho Fathano Ilham    SITHR      80.59      85.28      97.83\n",
      "                        nama fakultas  nilai_mat  nilai_kim  nilai_fis\n",
      "3240  Rhinocho Fathano Ilham    SITHR      80.59      85.28      97.83\n",
      "4626  Sella Tiana Pramestuti     STEI      84.14      83.85      80.71\n",
      "2455         Ana Khoiriyanah      FTI      81.96      83.77      93.09\n",
      "1713        Atika Sari Pohan    FMIPA      62.74      82.80      76.18\n",
      "1943           Haryo Pambudi      FTI      84.74      82.31      91.70\n",
      "3380            Dick Sigmund    SITHR      91.00      81.51      94.86\n",
      "2829      Farhan Hilmyawan Y    FMIPA      63.80      81.34      71.68\n",
      "1008      Ahmad Zammir Ribah     STEI      64.83      80.85      91.68\n",
      "121         Richard Budianto     FTMD      82.72      80.42      81.90\n",
      "995    Tesya Mardita Claudia     STEI      78.11      80.23      79.93\n",
      "banyaknya mahasiswa dengan nilai matematika dibawah 50 adalah 387\n"
     ]
    }
   ],
   "source": [
    "# NIM/Nama  : 16519211/ Muhamad Taruna\n",
    "# Tanggal   : 11 November 2019\n",
    "# Deskripsi : \n",
    "\n",
    "#Kamus\n",
    "\n",
    "#Algoritma\n",
    "#mengimport fungsi pandas\n",
    "import pandas as pd\n",
    "#membaca file data\n",
    "#data adalah file nilai-nilai\n",
    "df = pd.read_csv(\"data.csv\")\n",
    "#Mencari nilai-nilai tuan yon\n",
    "print(df.loc[df[\"nama\"] == \"Tuan Yon\"])\n",
    "#Mencari nilai fisika terbesar\n",
    "imax = df[\"nilai_fis\"]. idxmax ()\n",
    "print(df[imax:imax + 1])\n",
    "#mencari 10 orang dengan nilai kimia terbesar\n",
    "print((df. sort_values ([\"nilai_kim\"], ascending =[0])[0:10]))\n",
    "#mencari jumlah banyaknya mahasiswa yang nilai matematika <50\n",
    "print(\"banyaknya mahasiswa dengan nilai matematika dibawah 50 adalah \"+str(len(df.loc [(df[\"nilai_mat\"] < 50)])))"
   ]
  },
  {
   "cell_type": "code",
   "execution_count": null,
   "metadata": {},
   "outputs": [],
   "source": []
  },
  {
   "cell_type": "code",
   "execution_count": null,
   "metadata": {},
   "outputs": [],
   "source": []
  },
  {
   "cell_type": "code",
   "execution_count": null,
   "metadata": {},
   "outputs": [],
   "source": []
  }
 ],
 "metadata": {
  "kernelspec": {
   "display_name": "Python 3",
   "language": "python",
   "name": "python3"
  },
  "language_info": {
   "codemirror_mode": {
    "name": "ipython",
    "version": 3
   },
   "file_extension": ".py",
   "mimetype": "text/x-python",
   "name": "python",
   "nbconvert_exporter": "python",
   "pygments_lexer": "ipython3",
   "version": "3.6.5"
  }
 },
 "nbformat": 4,
 "nbformat_minor": 2
}
