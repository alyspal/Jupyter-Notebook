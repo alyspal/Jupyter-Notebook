{
 "cells": [
  {
   "cell_type": "code",
   "execution_count": 1,
   "metadata": {},
   "outputs": [],
   "source": [
    "import pandas as pd\n",
    "import numpy as np\n",
    "import seaborn as sns\n",
    "import matplotlib.pyplot as plt\n",
    "import scipy.stats\n",
    "import collections\n",
    "import fuzzywuzzy\n",
    "from pandas_profiling import ProfileReport\n",
    "from sklearn.datasets import make_classification\n",
    "from sklearn.linear_model import LogisticRegression\n",
    "from sklearn.model_selection import train_test_split\n",
    "from sklearn.metrics import confusion_matrix\n",
    "from sklearn.metrics import classification_report\n",
    "from sklearn.metrics import  accuracy_score\n",
    "from sklearn.metrics import roc_auc_score\n",
    "from sklearn import metrics\n",
    "from collections import Counter\n",
    "from imblearn.over_sampling import SMOTE\n",
    "import warnings\n",
    "warnings.simplefilter(action='ignore', category=FutureWarning)\n"
   ]
  },
  {
   "cell_type": "code",
   "execution_count": 2,
   "metadata": {},
   "outputs": [],
   "source": [
    "train = pd.read_csv(\"final BRI/BRI Base Modelling.csv\")\n",
    "test = pd.read_csv('BRI hackthon/test.csv')"
   ]
  },
  {
   "cell_type": "code",
   "execution_count": 3,
   "metadata": {},
   "outputs": [],
   "source": [
    "### profile_train = ProfileReport(train)\n",
    "### profile_train.to_file('mantab.html')"
   ]
  },
  {
   "cell_type": "code",
   "execution_count": 4,
   "metadata": {},
   "outputs": [
    {
     "data": {
      "text/plain": [
       "0    9516\n",
       "1    1637\n",
       "Name: Best Performance, dtype: int64"
      ]
     },
     "execution_count": 4,
     "metadata": {},
     "output_type": "execute_result"
    }
   ],
   "source": [
    "train['Best Performance'].value_counts()"
   ]
  },
  {
   "cell_type": "markdown",
   "metadata": {},
   "source": [
    "data antara best performance masih belum balance antara 1 dan 0 "
   ]
  },
  {
   "cell_type": "code",
   "execution_count": 5,
   "metadata": {},
   "outputs": [
    {
     "data": {
      "text/plain": [
       "job_duration_in_current_job_level        0\n",
       "job_duration_in_current_person_level     0\n",
       "job_duration_in_current_branch           0\n",
       "gender                                   0\n",
       "age                                      0\n",
       "number_of_dependences                    0\n",
       "year_graduated                           0\n",
       "job_duration_from_training               0\n",
       "branch_rotation                          0\n",
       "job_rotation                             0\n",
       "assign_of_otherposition                  0\n",
       "annual leave                             0\n",
       "sick_leaves                              0\n",
       "Last_achievement_%                       1\n",
       "Achievement_above_100%_during3quartal    1\n",
       "Best Performance                         0\n",
       "Jenis JG Job Level                       0\n",
       "Jenis JG Person Level                    0\n",
       "Jenis JG Branch Level                    0\n",
       "joblevelcat                              0\n",
       "personcat                                0\n",
       "employeecat                              0\n",
       "educationcat                             0\n",
       "maritalcat                               0\n",
       "AB                                       0\n",
       "B                                        0\n",
       "BC                                       0\n",
       "C                                        0\n",
       "D                                        0\n",
       "T                                        0\n",
       "dtype: int64"
      ]
     },
     "execution_count": 5,
     "metadata": {},
     "output_type": "execute_result"
    }
   ],
   "source": [
    "train.isna().sum()"
   ]
  },
  {
   "cell_type": "code",
   "execution_count": 6,
   "metadata": {},
   "outputs": [
    {
     "data": {
      "text/plain": [
       "job_duration_in_current_job_level        0\n",
       "job_duration_in_current_person_level     0\n",
       "job_duration_in_current_branch           0\n",
       "gender                                   0\n",
       "age                                      0\n",
       "number_of_dependences                    0\n",
       "year_graduated                           0\n",
       "job_duration_from_training               0\n",
       "branch_rotation                          0\n",
       "job_rotation                             0\n",
       "assign_of_otherposition                  0\n",
       "annual leave                             0\n",
       "sick_leaves                              0\n",
       "Last_achievement_%                       0\n",
       "Achievement_above_100%_during3quartal    0\n",
       "Best Performance                         0\n",
       "Jenis JG Job Level                       0\n",
       "Jenis JG Person Level                    0\n",
       "Jenis JG Branch Level                    0\n",
       "joblevelcat                              0\n",
       "personcat                                0\n",
       "employeecat                              0\n",
       "educationcat                             0\n",
       "maritalcat                               0\n",
       "AB                                       0\n",
       "B                                        0\n",
       "BC                                       0\n",
       "C                                        0\n",
       "D                                        0\n",
       "T                                        0\n",
       "dtype: int64"
      ]
     },
     "execution_count": 6,
     "metadata": {},
     "output_type": "execute_result"
    }
   ],
   "source": [
    "train = train.dropna()\n",
    "train = train.reset_index().drop('index',axis=1)\n",
    "train.isna().sum()"
   ]
  },
  {
   "cell_type": "code",
   "execution_count": 18,
   "metadata": {},
   "outputs": [],
   "source": [
    "maudrop = ['Jenis JG Job Level',\n",
    "           'Jenis JG Person Level',\n",
    "           'Jenis JG Branch Level',\n",
    "           'joblevelcat',\n",
    "          'Best Performance']\n",
    "x = train.drop(maudrop,axis=1)\n",
    "y = train['Best Performance']\n",
    "\n",
    "x_train , x_test, y_train, y_test = train_test_split(x,y, test_size =0.1,random_state=1)"
   ]
  },
  {
   "cell_type": "markdown",
   "metadata": {},
   "source": [
    "# Oversampling SMOTE Logistic Regression "
   ]
  },
  {
   "cell_type": "code",
   "execution_count": 19,
   "metadata": {},
   "outputs": [
    {
     "name": "stdout",
     "output_type": "stream",
     "text": [
      "Before oversampling:  Counter({0: 8554, 1: 1482})\n"
     ]
    }
   ],
   "source": [
    "print(\"Before oversampling: \",Counter(y_train))"
   ]
  },
  {
   "cell_type": "code",
   "execution_count": 20,
   "metadata": {},
   "outputs": [],
   "source": [
    "x_train_SMOTE, y_train_SMOTE = SMOTE().fit_resample(x_train, y_train)"
   ]
  },
  {
   "cell_type": "code",
   "execution_count": 21,
   "metadata": {},
   "outputs": [
    {
     "name": "stdout",
     "output_type": "stream",
     "text": [
      "After oversampling:  Counter({0: 8554, 1: 8554})\n"
     ]
    }
   ],
   "source": [
    "print(\"After oversampling: \",Counter(y_train_SMOTE))"
   ]
  },
  {
   "cell_type": "code",
   "execution_count": 30,
   "metadata": {},
   "outputs": [
    {
     "name": "stderr",
     "output_type": "stream",
     "text": [
      "D:\\Coolyeah\\Anaconda\\lib\\site-packages\\sklearn\\linear_model\\_logistic.py:762: ConvergenceWarning: lbfgs failed to converge (status=1):\n",
      "STOP: TOTAL NO. of ITERATIONS REACHED LIMIT.\n",
      "\n",
      "Increase the number of iterations (max_iter) or scale the data as shown in:\n",
      "    https://scikit-learn.org/stable/modules/preprocessing.html\n",
      "Please also refer to the documentation for alternative solver options:\n",
      "    https://scikit-learn.org/stable/modules/linear_model.html#logistic-regression\n",
      "  n_iter_i = _check_optimize_result(\n"
     ]
    }
   ],
   "source": [
    "logmodel = LogisticRegression()\n",
    "logmodel.fit(x_train_SMOTE,y_train_SMOTE)\n",
    "prediction = logmodel.predict(x_test) # Prediksi berdasarkan treshold probability dari model\n",
    "prob = logmodel.predict_proba(x_test) # Probabilitas prediksi"
   ]
  },
  {
   "cell_type": "code",
   "execution_count": 23,
   "metadata": {},
   "outputs": [
    {
     "name": "stdout",
     "output_type": "stream",
     "text": [
      "              precision    recall  f1-score   support\n",
      "\n",
      "           0       0.87      0.83      0.85       961\n",
      "           1       0.17      0.22      0.19       155\n",
      "\n",
      "    accuracy                           0.75      1116\n",
      "   macro avg       0.52      0.53      0.52      1116\n",
      "weighted avg       0.77      0.75      0.76      1116\n",
      "\n"
     ]
    }
   ],
   "source": [
    "print(classification_report(y_test,prediction))"
   ]
  },
  {
   "cell_type": "code",
   "execution_count": 24,
   "metadata": {},
   "outputs": [
    {
     "name": "stdout",
     "output_type": "stream",
     "text": [
      "[[800 161]\n",
      " [121  34]]\n"
     ]
    }
   ],
   "source": [
    "print(confusion_matrix(y_test,prediction))"
   ]
  },
  {
   "cell_type": "code",
   "execution_count": 25,
   "metadata": {},
   "outputs": [
    {
     "data": {
      "text/plain": [
       "0.7473118279569892"
      ]
     },
     "execution_count": 25,
     "metadata": {},
     "output_type": "execute_result"
    }
   ],
   "source": [
    "accuracy_score(y_test,prediction)"
   ]
  },
  {
   "cell_type": "code",
   "execution_count": 26,
   "metadata": {},
   "outputs": [
    {
     "data": {
      "text/plain": [
       "0.5259105098855358"
      ]
     },
     "execution_count": 26,
     "metadata": {},
     "output_type": "execute_result"
    }
   ],
   "source": [
    "roc_auc_score(y_test,prediction)"
   ]
  },
  {
   "cell_type": "markdown",
   "metadata": {},
   "source": [
    "tingkat kepresisian data masih tergolong sangat rendah pada predict best performance \n",
    "hal ini mungkin saja karena penyebaran data terhadap best perfomance secara EDA yang telah dilakukan tampak seperti itu"
   ]
  },
  {
   "cell_type": "code",
   "execution_count": 27,
   "metadata": {},
   "outputs": [
    {
     "data": {
      "text/plain": [
       "array([0, 1, 0, ..., 0, 1, 0], dtype=int64)"
      ]
     },
     "execution_count": 27,
     "metadata": {},
     "output_type": "execute_result"
    }
   ],
   "source": [
    "prediction"
   ]
  },
  {
   "cell_type": "code",
   "execution_count": 29,
   "metadata": {},
   "outputs": [
    {
     "data": {
      "text/html": [
       "<div>\n",
       "<style scoped>\n",
       "    .dataframe tbody tr th:only-of-type {\n",
       "        vertical-align: middle;\n",
       "    }\n",
       "\n",
       "    .dataframe tbody tr th {\n",
       "        vertical-align: top;\n",
       "    }\n",
       "\n",
       "    .dataframe thead th {\n",
       "        text-align: right;\n",
       "    }\n",
       "</style>\n",
       "<table border=\"1\" class=\"dataframe\">\n",
       "  <thead>\n",
       "    <tr style=\"text-align: right;\">\n",
       "      <th></th>\n",
       "      <th>job_duration_in_current_job_level</th>\n",
       "      <th>job_duration_in_current_person_level</th>\n",
       "      <th>job_duration_in_current_branch</th>\n",
       "      <th>gender</th>\n",
       "      <th>age</th>\n",
       "      <th>number_of_dependences</th>\n",
       "      <th>year_graduated</th>\n",
       "      <th>job_duration_from_training</th>\n",
       "      <th>branch_rotation</th>\n",
       "      <th>job_rotation</th>\n",
       "      <th>...</th>\n",
       "      <th>personcat</th>\n",
       "      <th>employeecat</th>\n",
       "      <th>educationcat</th>\n",
       "      <th>maritalcat</th>\n",
       "      <th>AB</th>\n",
       "      <th>B</th>\n",
       "      <th>BC</th>\n",
       "      <th>C</th>\n",
       "      <th>D</th>\n",
       "      <th>T</th>\n",
       "    </tr>\n",
       "  </thead>\n",
       "  <tbody>\n",
       "    <tr>\n",
       "      <th>6796</th>\n",
       "      <td>1.322876</td>\n",
       "      <td>1.322876</td>\n",
       "      <td>0.707107</td>\n",
       "      <td>2</td>\n",
       "      <td>28</td>\n",
       "      <td>1</td>\n",
       "      <td>7</td>\n",
       "      <td>2</td>\n",
       "      <td>2</td>\n",
       "      <td>2</td>\n",
       "      <td>...</td>\n",
       "      <td>2</td>\n",
       "      <td>0</td>\n",
       "      <td>4</td>\n",
       "      <td>1</td>\n",
       "      <td>1</td>\n",
       "      <td>0</td>\n",
       "      <td>0</td>\n",
       "      <td>0</td>\n",
       "      <td>0</td>\n",
       "      <td>0</td>\n",
       "    </tr>\n",
       "    <tr>\n",
       "      <th>10508</th>\n",
       "      <td>2.828427</td>\n",
       "      <td>1.870829</td>\n",
       "      <td>0.707107</td>\n",
       "      <td>2</td>\n",
       "      <td>55</td>\n",
       "      <td>3</td>\n",
       "      <td>16</td>\n",
       "      <td>27</td>\n",
       "      <td>10</td>\n",
       "      <td>5</td>\n",
       "      <td>...</td>\n",
       "      <td>5</td>\n",
       "      <td>0</td>\n",
       "      <td>4</td>\n",
       "      <td>1</td>\n",
       "      <td>1</td>\n",
       "      <td>0</td>\n",
       "      <td>0</td>\n",
       "      <td>0</td>\n",
       "      <td>0</td>\n",
       "      <td>0</td>\n",
       "    </tr>\n",
       "    <tr>\n",
       "      <th>4566</th>\n",
       "      <td>1.581139</td>\n",
       "      <td>1.581139</td>\n",
       "      <td>1.526434</td>\n",
       "      <td>1</td>\n",
       "      <td>36</td>\n",
       "      <td>0</td>\n",
       "      <td>11</td>\n",
       "      <td>6</td>\n",
       "      <td>3</td>\n",
       "      <td>3</td>\n",
       "      <td>...</td>\n",
       "      <td>2</td>\n",
       "      <td>2</td>\n",
       "      <td>4</td>\n",
       "      <td>0</td>\n",
       "      <td>1</td>\n",
       "      <td>0</td>\n",
       "      <td>0</td>\n",
       "      <td>0</td>\n",
       "      <td>0</td>\n",
       "      <td>0</td>\n",
       "    </tr>\n",
       "    <tr>\n",
       "      <th>7810</th>\n",
       "      <td>1.526434</td>\n",
       "      <td>1.526434</td>\n",
       "      <td>1.224745</td>\n",
       "      <td>1</td>\n",
       "      <td>33</td>\n",
       "      <td>0</td>\n",
       "      <td>11</td>\n",
       "      <td>6</td>\n",
       "      <td>4</td>\n",
       "      <td>4</td>\n",
       "      <td>...</td>\n",
       "      <td>2</td>\n",
       "      <td>0</td>\n",
       "      <td>4</td>\n",
       "      <td>0</td>\n",
       "      <td>0</td>\n",
       "      <td>0</td>\n",
       "      <td>0</td>\n",
       "      <td>0</td>\n",
       "      <td>0</td>\n",
       "      <td>1</td>\n",
       "    </tr>\n",
       "    <tr>\n",
       "      <th>4387</th>\n",
       "      <td>1.256981</td>\n",
       "      <td>1.256981</td>\n",
       "      <td>1.581139</td>\n",
       "      <td>2</td>\n",
       "      <td>32</td>\n",
       "      <td>1</td>\n",
       "      <td>9</td>\n",
       "      <td>5</td>\n",
       "      <td>2</td>\n",
       "      <td>2</td>\n",
       "      <td>...</td>\n",
       "      <td>2</td>\n",
       "      <td>0</td>\n",
       "      <td>4</td>\n",
       "      <td>1</td>\n",
       "      <td>0</td>\n",
       "      <td>1</td>\n",
       "      <td>0</td>\n",
       "      <td>0</td>\n",
       "      <td>0</td>\n",
       "      <td>0</td>\n",
       "    </tr>\n",
       "    <tr>\n",
       "      <th>...</th>\n",
       "      <td>...</td>\n",
       "      <td>...</td>\n",
       "      <td>...</td>\n",
       "      <td>...</td>\n",
       "      <td>...</td>\n",
       "      <td>...</td>\n",
       "      <td>...</td>\n",
       "      <td>...</td>\n",
       "      <td>...</td>\n",
       "      <td>...</td>\n",
       "      <td>...</td>\n",
       "      <td>...</td>\n",
       "      <td>...</td>\n",
       "      <td>...</td>\n",
       "      <td>...</td>\n",
       "      <td>...</td>\n",
       "      <td>...</td>\n",
       "      <td>...</td>\n",
       "      <td>...</td>\n",
       "      <td>...</td>\n",
       "      <td>...</td>\n",
       "    </tr>\n",
       "    <tr>\n",
       "      <th>8340</th>\n",
       "      <td>1.191638</td>\n",
       "      <td>1.191638</td>\n",
       "      <td>1.915724</td>\n",
       "      <td>2</td>\n",
       "      <td>30</td>\n",
       "      <td>0</td>\n",
       "      <td>6</td>\n",
       "      <td>4</td>\n",
       "      <td>1</td>\n",
       "      <td>2</td>\n",
       "      <td>...</td>\n",
       "      <td>2</td>\n",
       "      <td>1</td>\n",
       "      <td>4</td>\n",
       "      <td>1</td>\n",
       "      <td>0</td>\n",
       "      <td>1</td>\n",
       "      <td>0</td>\n",
       "      <td>0</td>\n",
       "      <td>0</td>\n",
       "      <td>0</td>\n",
       "    </tr>\n",
       "    <tr>\n",
       "      <th>4019</th>\n",
       "      <td>1.385641</td>\n",
       "      <td>1.385641</td>\n",
       "      <td>0.648074</td>\n",
       "      <td>2</td>\n",
       "      <td>32</td>\n",
       "      <td>2</td>\n",
       "      <td>10</td>\n",
       "      <td>5</td>\n",
       "      <td>5</td>\n",
       "      <td>4</td>\n",
       "      <td>...</td>\n",
       "      <td>2</td>\n",
       "      <td>1</td>\n",
       "      <td>4</td>\n",
       "      <td>1</td>\n",
       "      <td>0</td>\n",
       "      <td>0</td>\n",
       "      <td>0</td>\n",
       "      <td>0</td>\n",
       "      <td>0</td>\n",
       "      <td>1</td>\n",
       "    </tr>\n",
       "    <tr>\n",
       "      <th>986</th>\n",
       "      <td>1.191638</td>\n",
       "      <td>1.191638</td>\n",
       "      <td>1.224745</td>\n",
       "      <td>2</td>\n",
       "      <td>36</td>\n",
       "      <td>1</td>\n",
       "      <td>15</td>\n",
       "      <td>6</td>\n",
       "      <td>3</td>\n",
       "      <td>3</td>\n",
       "      <td>...</td>\n",
       "      <td>2</td>\n",
       "      <td>0</td>\n",
       "      <td>3</td>\n",
       "      <td>1</td>\n",
       "      <td>0</td>\n",
       "      <td>1</td>\n",
       "      <td>0</td>\n",
       "      <td>0</td>\n",
       "      <td>0</td>\n",
       "      <td>0</td>\n",
       "    </tr>\n",
       "    <tr>\n",
       "      <th>3071</th>\n",
       "      <td>1.414214</td>\n",
       "      <td>1.414214</td>\n",
       "      <td>1.081665</td>\n",
       "      <td>2</td>\n",
       "      <td>31</td>\n",
       "      <td>0</td>\n",
       "      <td>9</td>\n",
       "      <td>5</td>\n",
       "      <td>4</td>\n",
       "      <td>2</td>\n",
       "      <td>...</td>\n",
       "      <td>2</td>\n",
       "      <td>0</td>\n",
       "      <td>4</td>\n",
       "      <td>1</td>\n",
       "      <td>0</td>\n",
       "      <td>0</td>\n",
       "      <td>0</td>\n",
       "      <td>0</td>\n",
       "      <td>0</td>\n",
       "      <td>0</td>\n",
       "    </tr>\n",
       "    <tr>\n",
       "      <th>5198</th>\n",
       "      <td>1.153256</td>\n",
       "      <td>1.153256</td>\n",
       "      <td>1.352775</td>\n",
       "      <td>1</td>\n",
       "      <td>32</td>\n",
       "      <td>0</td>\n",
       "      <td>9</td>\n",
       "      <td>4</td>\n",
       "      <td>3</td>\n",
       "      <td>3</td>\n",
       "      <td>...</td>\n",
       "      <td>2</td>\n",
       "      <td>2</td>\n",
       "      <td>4</td>\n",
       "      <td>1</td>\n",
       "      <td>0</td>\n",
       "      <td>1</td>\n",
       "      <td>0</td>\n",
       "      <td>0</td>\n",
       "      <td>0</td>\n",
       "      <td>0</td>\n",
       "    </tr>\n",
       "  </tbody>\n",
       "</table>\n",
       "<p>1116 rows × 25 columns</p>\n",
       "</div>"
      ],
      "text/plain": [
       "       job_duration_in_current_job_level  \\\n",
       "6796                            1.322876   \n",
       "10508                           2.828427   \n",
       "4566                            1.581139   \n",
       "7810                            1.526434   \n",
       "4387                            1.256981   \n",
       "...                                  ...   \n",
       "8340                            1.191638   \n",
       "4019                            1.385641   \n",
       "986                             1.191638   \n",
       "3071                            1.414214   \n",
       "5198                            1.153256   \n",
       "\n",
       "       job_duration_in_current_person_level  job_duration_in_current_branch  \\\n",
       "6796                               1.322876                        0.707107   \n",
       "10508                              1.870829                        0.707107   \n",
       "4566                               1.581139                        1.526434   \n",
       "7810                               1.526434                        1.224745   \n",
       "4387                               1.256981                        1.581139   \n",
       "...                                     ...                             ...   \n",
       "8340                               1.191638                        1.915724   \n",
       "4019                               1.385641                        0.648074   \n",
       "986                                1.191638                        1.224745   \n",
       "3071                               1.414214                        1.081665   \n",
       "5198                               1.153256                        1.352775   \n",
       "\n",
       "       gender  age  number_of_dependences  year_graduated  \\\n",
       "6796        2   28                      1               7   \n",
       "10508       2   55                      3              16   \n",
       "4566        1   36                      0              11   \n",
       "7810        1   33                      0              11   \n",
       "4387        2   32                      1               9   \n",
       "...       ...  ...                    ...             ...   \n",
       "8340        2   30                      0               6   \n",
       "4019        2   32                      2              10   \n",
       "986         2   36                      1              15   \n",
       "3071        2   31                      0               9   \n",
       "5198        1   32                      0               9   \n",
       "\n",
       "       job_duration_from_training  branch_rotation  job_rotation  ...  \\\n",
       "6796                            2                2             2  ...   \n",
       "10508                          27               10             5  ...   \n",
       "4566                            6                3             3  ...   \n",
       "7810                            6                4             4  ...   \n",
       "4387                            5                2             2  ...   \n",
       "...                           ...              ...           ...  ...   \n",
       "8340                            4                1             2  ...   \n",
       "4019                            5                5             4  ...   \n",
       "986                             6                3             3  ...   \n",
       "3071                            5                4             2  ...   \n",
       "5198                            4                3             3  ...   \n",
       "\n",
       "       personcat  employeecat  educationcat  maritalcat  AB  B  BC  C  D  T  \n",
       "6796           2            0             4           1   1  0   0  0  0  0  \n",
       "10508          5            0             4           1   1  0   0  0  0  0  \n",
       "4566           2            2             4           0   1  0   0  0  0  0  \n",
       "7810           2            0             4           0   0  0   0  0  0  1  \n",
       "4387           2            0             4           1   0  1   0  0  0  0  \n",
       "...          ...          ...           ...         ...  .. ..  .. .. .. ..  \n",
       "8340           2            1             4           1   0  1   0  0  0  0  \n",
       "4019           2            1             4           1   0  0   0  0  0  1  \n",
       "986            2            0             3           1   0  1   0  0  0  0  \n",
       "3071           2            0             4           1   0  0   0  0  0  0  \n",
       "5198           2            2             4           1   0  1   0  0  0  0  \n",
       "\n",
       "[1116 rows x 25 columns]"
      ]
     },
     "execution_count": 29,
     "metadata": {},
     "output_type": "execute_result"
    }
   ],
   "source": [
    "x_test"
   ]
  },
  {
   "cell_type": "code",
   "execution_count": null,
   "metadata": {},
   "outputs": [],
   "source": []
  }
 ],
 "metadata": {
  "kernelspec": {
   "display_name": "Python 3",
   "language": "python",
   "name": "python3"
  },
  "language_info": {
   "codemirror_mode": {
    "name": "ipython",
    "version": 3
   },
   "file_extension": ".py",
   "mimetype": "text/x-python",
   "name": "python",
   "nbconvert_exporter": "python",
   "pygments_lexer": "ipython3",
   "version": "3.8.5"
  },
  "toc": {
   "base_numbering": 1,
   "nav_menu": {},
   "number_sections": true,
   "sideBar": true,
   "skip_h1_title": false,
   "title_cell": "Table of Contents",
   "title_sidebar": "Contents",
   "toc_cell": false,
   "toc_position": {},
   "toc_section_display": true,
   "toc_window_display": false
  }
 },
 "nbformat": 4,
 "nbformat_minor": 4
}
