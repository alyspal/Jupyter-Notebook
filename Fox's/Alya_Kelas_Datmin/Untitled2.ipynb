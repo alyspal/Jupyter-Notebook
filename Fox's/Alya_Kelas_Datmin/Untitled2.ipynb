{
 "cells": [
  {
   "cell_type": "code",
   "execution_count": 1,
   "id": "b5a30742",
   "metadata": {
    "ExecuteTime": {
     "end_time": "2021-11-17T05:00:19.614773Z",
     "start_time": "2021-11-17T05:00:18.524776Z"
    }
   },
   "outputs": [],
   "source": [
    "import pandas as pd\n",
    "import numpy as np\n",
    "from sklearn.model_selection import train_test_split\n",
    "from sklearn.ensemble import AdaBoostClassifier,GradientBoostingClassifier\n",
    "from sklearn.metrics import accuracy_score\n",
    "import seaborn as sns\n",
    "datatrain = pd.read_csv('Train.csv')\n",
    "datatest = pd.read_csv('Test.csv')\n",
    "datatrain = datatrain.drop(columns=[\"ID\",\"Provinsi\",\"KodeKabKot\"])"
   ]
  },
  {
   "cell_type": "code",
   "execution_count": 2,
   "id": "40ab2247",
   "metadata": {
    "ExecuteTime": {
     "end_time": "2021-11-17T05:00:21.516636Z",
     "start_time": "2021-11-17T05:00:21.490637Z"
    }
   },
   "outputs": [
    {
     "data": {
      "text/html": [
       "<div>\n",
       "<style scoped>\n",
       "    .dataframe tbody tr th:only-of-type {\n",
       "        vertical-align: middle;\n",
       "    }\n",
       "\n",
       "    .dataframe tbody tr th {\n",
       "        vertical-align: top;\n",
       "    }\n",
       "\n",
       "    .dataframe thead th {\n",
       "        text-align: right;\n",
       "    }\n",
       "</style>\n",
       "<table border=\"1\" class=\"dataframe\">\n",
       "  <thead>\n",
       "    <tr style=\"text-align: right;\">\n",
       "      <th></th>\n",
       "      <th>Y</th>\n",
       "      <th>X1</th>\n",
       "      <th>X2</th>\n",
       "      <th>X3</th>\n",
       "      <th>X4</th>\n",
       "      <th>X5</th>\n",
       "      <th>X6</th>\n",
       "      <th>Z1</th>\n",
       "      <th>Z2</th>\n",
       "      <th>Z3</th>\n",
       "      <th>Z4</th>\n",
       "    </tr>\n",
       "  </thead>\n",
       "  <tbody>\n",
       "    <tr>\n",
       "      <th>0</th>\n",
       "      <td>0</td>\n",
       "      <td>1</td>\n",
       "      <td>27</td>\n",
       "      <td>0</td>\n",
       "      <td>0</td>\n",
       "      <td>1</td>\n",
       "      <td>1</td>\n",
       "      <td>1.077</td>\n",
       "      <td>15.075</td>\n",
       "      <td>26.919</td>\n",
       "      <td>390.869</td>\n",
       "    </tr>\n",
       "    <tr>\n",
       "      <th>1</th>\n",
       "      <td>0</td>\n",
       "      <td>1</td>\n",
       "      <td>38</td>\n",
       "      <td>0</td>\n",
       "      <td>0</td>\n",
       "      <td>1</td>\n",
       "      <td>0</td>\n",
       "      <td>1.077</td>\n",
       "      <td>15.075</td>\n",
       "      <td>26.919</td>\n",
       "      <td>390.869</td>\n",
       "    </tr>\n",
       "    <tr>\n",
       "      <th>2</th>\n",
       "      <td>0</td>\n",
       "      <td>0</td>\n",
       "      <td>36</td>\n",
       "      <td>0</td>\n",
       "      <td>0</td>\n",
       "      <td>0</td>\n",
       "      <td>1</td>\n",
       "      <td>1.077</td>\n",
       "      <td>15.075</td>\n",
       "      <td>26.919</td>\n",
       "      <td>390.869</td>\n",
       "    </tr>\n",
       "    <tr>\n",
       "      <th>3</th>\n",
       "      <td>0</td>\n",
       "      <td>0</td>\n",
       "      <td>27</td>\n",
       "      <td>0</td>\n",
       "      <td>0</td>\n",
       "      <td>1</td>\n",
       "      <td>1</td>\n",
       "      <td>1.077</td>\n",
       "      <td>15.075</td>\n",
       "      <td>26.919</td>\n",
       "      <td>390.869</td>\n",
       "    </tr>\n",
       "    <tr>\n",
       "      <th>4</th>\n",
       "      <td>0</td>\n",
       "      <td>1</td>\n",
       "      <td>36</td>\n",
       "      <td>1</td>\n",
       "      <td>0</td>\n",
       "      <td>0</td>\n",
       "      <td>0</td>\n",
       "      <td>1.077</td>\n",
       "      <td>15.075</td>\n",
       "      <td>26.919</td>\n",
       "      <td>390.869</td>\n",
       "    </tr>\n",
       "    <tr>\n",
       "      <th>...</th>\n",
       "      <td>...</td>\n",
       "      <td>...</td>\n",
       "      <td>...</td>\n",
       "      <td>...</td>\n",
       "      <td>...</td>\n",
       "      <td>...</td>\n",
       "      <td>...</td>\n",
       "      <td>...</td>\n",
       "      <td>...</td>\n",
       "      <td>...</td>\n",
       "      <td>...</td>\n",
       "    </tr>\n",
       "    <tr>\n",
       "      <th>13621</th>\n",
       "      <td>1</td>\n",
       "      <td>0</td>\n",
       "      <td>28</td>\n",
       "      <td>1</td>\n",
       "      <td>0</td>\n",
       "      <td>1</td>\n",
       "      <td>1</td>\n",
       "      <td>1.757</td>\n",
       "      <td>3.262</td>\n",
       "      <td>48.936</td>\n",
       "      <td>209.045</td>\n",
       "    </tr>\n",
       "    <tr>\n",
       "      <th>13622</th>\n",
       "      <td>0</td>\n",
       "      <td>1</td>\n",
       "      <td>22</td>\n",
       "      <td>1</td>\n",
       "      <td>1</td>\n",
       "      <td>1</td>\n",
       "      <td>1</td>\n",
       "      <td>1.757</td>\n",
       "      <td>3.262</td>\n",
       "      <td>48.936</td>\n",
       "      <td>209.045</td>\n",
       "    </tr>\n",
       "    <tr>\n",
       "      <th>13623</th>\n",
       "      <td>0</td>\n",
       "      <td>0</td>\n",
       "      <td>35</td>\n",
       "      <td>1</td>\n",
       "      <td>0</td>\n",
       "      <td>1</td>\n",
       "      <td>1</td>\n",
       "      <td>1.757</td>\n",
       "      <td>3.262</td>\n",
       "      <td>48.936</td>\n",
       "      <td>209.045</td>\n",
       "    </tr>\n",
       "    <tr>\n",
       "      <th>13624</th>\n",
       "      <td>0</td>\n",
       "      <td>0</td>\n",
       "      <td>27</td>\n",
       "      <td>1</td>\n",
       "      <td>0</td>\n",
       "      <td>1</td>\n",
       "      <td>1</td>\n",
       "      <td>1.757</td>\n",
       "      <td>3.262</td>\n",
       "      <td>48.936</td>\n",
       "      <td>209.045</td>\n",
       "    </tr>\n",
       "    <tr>\n",
       "      <th>13625</th>\n",
       "      <td>1</td>\n",
       "      <td>0</td>\n",
       "      <td>39</td>\n",
       "      <td>1</td>\n",
       "      <td>1</td>\n",
       "      <td>1</td>\n",
       "      <td>1</td>\n",
       "      <td>1.757</td>\n",
       "      <td>3.262</td>\n",
       "      <td>48.936</td>\n",
       "      <td>209.045</td>\n",
       "    </tr>\n",
       "  </tbody>\n",
       "</table>\n",
       "<p>13626 rows × 11 columns</p>\n",
       "</div>"
      ],
      "text/plain": [
       "       Y  X1  X2  X3  X4  X5  X6     Z1      Z2      Z3       Z4\n",
       "0      0   1  27   0   0   1   1  1.077  15.075  26.919  390.869\n",
       "1      0   1  38   0   0   1   0  1.077  15.075  26.919  390.869\n",
       "2      0   0  36   0   0   0   1  1.077  15.075  26.919  390.869\n",
       "3      0   0  27   0   0   1   1  1.077  15.075  26.919  390.869\n",
       "4      0   1  36   1   0   0   0  1.077  15.075  26.919  390.869\n",
       "...   ..  ..  ..  ..  ..  ..  ..    ...     ...     ...      ...\n",
       "13621  1   0  28   1   0   1   1  1.757   3.262  48.936  209.045\n",
       "13622  0   1  22   1   1   1   1  1.757   3.262  48.936  209.045\n",
       "13623  0   0  35   1   0   1   1  1.757   3.262  48.936  209.045\n",
       "13624  0   0  27   1   0   1   1  1.757   3.262  48.936  209.045\n",
       "13625  1   0  39   1   1   1   1  1.757   3.262  48.936  209.045\n",
       "\n",
       "[13626 rows x 11 columns]"
      ]
     },
     "execution_count": 2,
     "metadata": {},
     "output_type": "execute_result"
    }
   ],
   "source": [
    "datatrain"
   ]
  },
  {
   "cell_type": "code",
   "execution_count": 6,
   "id": "e8ac48dd",
   "metadata": {
    "ExecuteTime": {
     "end_time": "2021-11-17T05:01:27.588685Z",
     "start_time": "2021-11-17T05:01:27.578690Z"
    }
   },
   "outputs": [],
   "source": [
    "datatrain = datatrain.fillna(datatrain['Z4'].mean())"
   ]
  },
  {
   "cell_type": "code",
   "execution_count": 11,
   "id": "1a5449e5",
   "metadata": {
    "ExecuteTime": {
     "end_time": "2021-11-17T05:03:22.438906Z",
     "start_time": "2021-11-17T05:03:22.426907Z"
    }
   },
   "outputs": [],
   "source": [
    "from sklearn.model_selection import train_test_split\n",
    "X_train, X_test, y_train, y_test = train_test_split(datatrain.drop(columns=\"Y\"), datatrain[\"Y\"], test_size=0.30, random_state=1)"
   ]
  },
  {
   "cell_type": "code",
   "execution_count": 12,
   "id": "646813bc",
   "metadata": {
    "ExecuteTime": {
     "end_time": "2021-11-17T05:03:30.191397Z",
     "start_time": "2021-11-17T05:03:23.570400Z"
    }
   },
   "outputs": [
    {
     "name": "stdout",
     "output_type": "stream",
     "text": [
      "              precision    recall  f1-score   support\n",
      "\n",
      "           0       0.59      0.99      0.74      2414\n",
      "           1       0.59      0.02      0.03      1674\n",
      "\n",
      "    accuracy                           0.59      4088\n",
      "   macro avg       0.59      0.50      0.39      4088\n",
      "weighted avg       0.59      0.59      0.45      4088\n",
      "\n"
     ]
    }
   ],
   "source": [
    "from sklearn import svm\n",
    "model = svm.SVC(kernel='rbf')\n",
    "model.fit(X_train, y_train)\n",
    "y_pred = model.predict(X_test)\n",
    "accuracy_score(y_test, y_pred)\n",
    "from sklearn.metrics import classification_report,accuracy_score\n",
    "from sklearn.metrics import confusion_matrix,ConfusionMatrixDisplay\n",
    "print(classification_report(y_test, y_pred))"
   ]
  },
  {
   "cell_type": "code",
   "execution_count": 57,
   "id": "6224239e",
   "metadata": {
    "ExecuteTime": {
     "end_time": "2021-11-17T05:07:11.217769Z",
     "start_time": "2021-11-17T05:07:10.897770Z"
    }
   },
   "outputs": [
    {
     "data": {
      "text/plain": [
       "0.6320939334637965"
      ]
     },
     "execution_count": 57,
     "metadata": {},
     "output_type": "execute_result"
    }
   ],
   "source": [
    "from sklearn.ensemble import GradientBoostingRegressor\n",
    "gbc = GradientBoostingRegressor(learning_rate=0.1, n_estimators=50)\n",
    "gbc.fit(X_train, y_train)\n",
    "y_pred = gbc.predict(X_test)\n",
    "y_pred[y_pred>=0.5] = 1\n",
    "y_pred[y_pred<0.5] = 0\n",
    "accuracy_score(y_test, y_pred)"
   ]
  },
  {
   "cell_type": "code",
   "execution_count": 58,
   "id": "83d387d3",
   "metadata": {
    "ExecuteTime": {
     "end_time": "2021-11-17T05:07:12.717326Z",
     "start_time": "2021-11-17T05:07:12.697617Z"
    }
   },
   "outputs": [
    {
     "name": "stdout",
     "output_type": "stream",
     "text": [
      "              precision    recall  f1-score   support\n",
      "\n",
      "           0       0.64      0.88      0.74      2414\n",
      "           1       0.61      0.28      0.38      1674\n",
      "\n",
      "    accuracy                           0.63      4088\n",
      "   macro avg       0.62      0.58      0.56      4088\n",
      "weighted avg       0.63      0.63      0.59      4088\n",
      "\n"
     ]
    }
   ],
   "source": [
    "print(classification_report(y_test, y_pred))"
   ]
  },
  {
   "cell_type": "code",
   "execution_count": null,
   "id": "60f31537",
   "metadata": {},
   "outputs": [],
   "source": []
  }
 ],
 "metadata": {
  "kernelspec": {
   "display_name": "Python 3 (ipykernel)",
   "language": "python",
   "name": "python3"
  },
  "language_info": {
   "codemirror_mode": {
    "name": "ipython",
    "version": 3
   },
   "file_extension": ".py",
   "mimetype": "text/x-python",
   "name": "python",
   "nbconvert_exporter": "python",
   "pygments_lexer": "ipython3",
   "version": "3.8.8"
  }
 },
 "nbformat": 4,
 "nbformat_minor": 5
}
