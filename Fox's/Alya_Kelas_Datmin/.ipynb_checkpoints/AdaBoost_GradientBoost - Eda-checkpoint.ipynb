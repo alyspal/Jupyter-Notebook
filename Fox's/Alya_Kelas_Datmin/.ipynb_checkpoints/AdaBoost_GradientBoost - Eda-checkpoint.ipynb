{
 "cells": [
  {
   "cell_type": "markdown",
   "metadata": {
    "heading_collapsed": true,
    "id": "go_MZCwD1z78"
   },
   "source": [
    "# AdaBoost and GradientBoost Classifier\n"
   ]
  },
  {
   "cell_type": "markdown",
   "metadata": {
    "heading_collapsed": true,
    "id": "6Vcacb7y14nd"
   },
   "source": [
    "# Input packages and datasets"
   ]
  },
  {
   "cell_type": "code",
   "execution_count": 2,
   "metadata": {
    "ExecuteTime": {
     "end_time": "2021-11-16T17:20:15.792868Z",
     "start_time": "2021-11-16T17:20:15.613863Z"
    },
    "hidden": true,
    "id": "YRsOznqNXSFE"
   },
   "outputs": [
    {
     "ename": "AttributeError",
     "evalue": "module 'matplotlib' has no attribute 'get_data_path'",
     "output_type": "error",
     "traceback": [
      "\u001b[1;31m---------------------------------------------------------------------------\u001b[0m",
      "\u001b[1;31mAttributeError\u001b[0m                            Traceback (most recent call last)",
      "\u001b[1;32m~\\AppData\\Local\\Temp/ipykernel_10548/2983670126.py\u001b[0m in \u001b[0;36m<module>\u001b[1;34m\u001b[0m\n\u001b[0;32m      1\u001b[0m \u001b[1;32mimport\u001b[0m \u001b[0mpandas\u001b[0m \u001b[1;32mas\u001b[0m \u001b[0mpd\u001b[0m\u001b[1;33m\u001b[0m\u001b[1;33m\u001b[0m\u001b[0m\n\u001b[0;32m      2\u001b[0m \u001b[1;32mimport\u001b[0m \u001b[0mnumpy\u001b[0m \u001b[1;32mas\u001b[0m \u001b[0mnp\u001b[0m\u001b[1;33m\u001b[0m\u001b[1;33m\u001b[0m\u001b[0m\n\u001b[1;32m----> 3\u001b[1;33m \u001b[1;32mimport\u001b[0m \u001b[0mmatplotlib\u001b[0m\u001b[1;33m.\u001b[0m\u001b[0mpyplot\u001b[0m \u001b[1;32mas\u001b[0m \u001b[0mplt\u001b[0m\u001b[1;33m\u001b[0m\u001b[1;33m\u001b[0m\u001b[0m\n\u001b[0m\u001b[0;32m      4\u001b[0m \u001b[1;32mimport\u001b[0m \u001b[0mseaborn\u001b[0m \u001b[1;32mas\u001b[0m \u001b[0msns\u001b[0m\u001b[1;33m\u001b[0m\u001b[1;33m\u001b[0m\u001b[0m\n\u001b[0;32m      5\u001b[0m \u001b[1;32mfrom\u001b[0m \u001b[0msklearn\u001b[0m\u001b[1;33m.\u001b[0m\u001b[0mmodel_selection\u001b[0m \u001b[1;32mimport\u001b[0m \u001b[0mtrain_test_split\u001b[0m\u001b[1;33m\u001b[0m\u001b[1;33m\u001b[0m\u001b[0m\n",
      "\u001b[1;32m~\\anaconda3\\lib\\site-packages\\matplotlib\\__init__.py\u001b[0m in \u001b[0;36m<module>\u001b[1;34m\u001b[0m\n\u001b[0;32m    821\u001b[0m \u001b[1;31m# triggering resolution of _auto_backend_sentinel.\u001b[0m\u001b[1;33m\u001b[0m\u001b[1;33m\u001b[0m\u001b[1;33m\u001b[0m\u001b[0m\n\u001b[0;32m    822\u001b[0m rcParamsDefault = _rc_params_in_file(\n\u001b[1;32m--> 823\u001b[1;33m     \u001b[0mcbook\u001b[0m\u001b[1;33m.\u001b[0m\u001b[0m_get_data_path\u001b[0m\u001b[1;33m(\u001b[0m\u001b[1;34m\"matplotlibrc\"\u001b[0m\u001b[1;33m)\u001b[0m\u001b[1;33m,\u001b[0m\u001b[1;33m\u001b[0m\u001b[1;33m\u001b[0m\u001b[0m\n\u001b[0m\u001b[0;32m    824\u001b[0m     \u001b[1;31m# Strip leading comment.\u001b[0m\u001b[1;33m\u001b[0m\u001b[1;33m\u001b[0m\u001b[1;33m\u001b[0m\u001b[0m\n\u001b[0;32m    825\u001b[0m     \u001b[0mtransform\u001b[0m\u001b[1;33m=\u001b[0m\u001b[1;32mlambda\u001b[0m \u001b[0mline\u001b[0m\u001b[1;33m:\u001b[0m \u001b[0mline\u001b[0m\u001b[1;33m[\u001b[0m\u001b[1;36m1\u001b[0m\u001b[1;33m:\u001b[0m\u001b[1;33m]\u001b[0m \u001b[1;32mif\u001b[0m \u001b[0mline\u001b[0m\u001b[1;33m.\u001b[0m\u001b[0mstartswith\u001b[0m\u001b[1;33m(\u001b[0m\u001b[1;34m\"#\"\u001b[0m\u001b[1;33m)\u001b[0m \u001b[1;32melse\u001b[0m \u001b[0mline\u001b[0m\u001b[1;33m,\u001b[0m\u001b[1;33m\u001b[0m\u001b[1;33m\u001b[0m\u001b[0m\n",
      "\u001b[1;32m~\\anaconda3\\lib\\site-packages\\matplotlib\\cbook\\__init__.py\u001b[0m in \u001b[0;36m_get_data_path\u001b[1;34m(*args)\u001b[0m\n\u001b[0;32m    532\u001b[0m     \u001b[0;31m`\u001b[0m\u001b[0;31m`\u001b[0m\u001b[1;33m*\u001b[0m\u001b[0margs\u001b[0m\u001b[0;31m`\u001b[0m\u001b[0;31m`\u001b[0m \u001b[0mspecify\u001b[0m \u001b[0ma\u001b[0m \u001b[0mpath\u001b[0m \u001b[0mrelative\u001b[0m \u001b[0mto\u001b[0m \u001b[0mthe\u001b[0m \u001b[0mbase\u001b[0m \u001b[0mdata\u001b[0m \u001b[0mpath\u001b[0m\u001b[1;33m.\u001b[0m\u001b[1;33m\u001b[0m\u001b[1;33m\u001b[0m\u001b[0m\n\u001b[0;32m    533\u001b[0m     \"\"\"\n\u001b[1;32m--> 534\u001b[1;33m     \u001b[1;32mreturn\u001b[0m \u001b[0mPath\u001b[0m\u001b[1;33m(\u001b[0m\u001b[0mmatplotlib\u001b[0m\u001b[1;33m.\u001b[0m\u001b[0mget_data_path\u001b[0m\u001b[1;33m(\u001b[0m\u001b[1;33m)\u001b[0m\u001b[1;33m,\u001b[0m \u001b[1;33m*\u001b[0m\u001b[0margs\u001b[0m\u001b[1;33m)\u001b[0m\u001b[1;33m\u001b[0m\u001b[1;33m\u001b[0m\u001b[0m\n\u001b[0m\u001b[0;32m    535\u001b[0m \u001b[1;33m\u001b[0m\u001b[0m\n\u001b[0;32m    536\u001b[0m \u001b[1;33m\u001b[0m\u001b[0m\n",
      "\u001b[1;31mAttributeError\u001b[0m: module 'matplotlib' has no attribute 'get_data_path'"
     ]
    }
   ],
   "source": [
    "import pandas as pd\n",
    "import numpy as np\n",
    "import matplotlib.pyplot as plt\n",
    "import seaborn as sns\n",
    "from sklearn.model_selection import train_test_split\n",
    "from sklearn.ensemble import AdaBoostClassifier,GradientBoostingClassifier\n",
    "from sklearn.metrics import accuracy_score"
   ]
  },
  {
   "cell_type": "code",
   "execution_count": 3,
   "metadata": {
    "ExecuteTime": {
     "end_time": "2021-11-16T17:20:16.771117Z",
     "start_time": "2021-11-16T17:20:16.720081Z"
    },
    "hidden": true,
    "id": "AZGdYfeaXURD"
   },
   "outputs": [],
   "source": [
    "datatrain = pd.read_csv('Train.csv')\n",
    "datatest = pd.read_csv('Test.csv')"
   ]
  },
  {
   "cell_type": "markdown",
   "metadata": {
    "id": "2tH-u1eP4ad1"
   },
   "source": [
    "# Preprocessing\n"
   ]
  },
  {
   "cell_type": "markdown",
   "metadata": {},
   "source": [
    "## Train Data"
   ]
  },
  {
   "cell_type": "code",
   "execution_count": 4,
   "metadata": {
    "ExecuteTime": {
     "end_time": "2021-11-16T17:20:23.063198Z",
     "start_time": "2021-11-16T17:20:23.022197Z"
    },
    "colab": {
     "base_uri": "https://localhost:8080/",
     "height": 423
    },
    "id": "47OmGmdUXz20",
    "outputId": "e430f212-29de-44e6-ae53-cdb215198a2a"
   },
   "outputs": [
    {
     "data": {
      "text/html": [
       "<div>\n",
       "<style scoped>\n",
       "    .dataframe tbody tr th:only-of-type {\n",
       "        vertical-align: middle;\n",
       "    }\n",
       "\n",
       "    .dataframe tbody tr th {\n",
       "        vertical-align: top;\n",
       "    }\n",
       "\n",
       "    .dataframe thead th {\n",
       "        text-align: right;\n",
       "    }\n",
       "</style>\n",
       "<table border=\"1\" class=\"dataframe\">\n",
       "  <thead>\n",
       "    <tr style=\"text-align: right;\">\n",
       "      <th></th>\n",
       "      <th>ID</th>\n",
       "      <th>Provinsi</th>\n",
       "      <th>KodeKabKot</th>\n",
       "      <th>Y</th>\n",
       "      <th>X1</th>\n",
       "      <th>X2</th>\n",
       "      <th>X3</th>\n",
       "      <th>X4</th>\n",
       "      <th>X5</th>\n",
       "      <th>X6</th>\n",
       "      <th>Z1</th>\n",
       "      <th>Z2</th>\n",
       "      <th>Z3</th>\n",
       "      <th>Z4</th>\n",
       "    </tr>\n",
       "  </thead>\n",
       "  <tbody>\n",
       "    <tr>\n",
       "      <th>0</th>\n",
       "      <td>1</td>\n",
       "      <td>11</td>\n",
       "      <td>1101</td>\n",
       "      <td>0</td>\n",
       "      <td>1</td>\n",
       "      <td>27</td>\n",
       "      <td>0</td>\n",
       "      <td>0</td>\n",
       "      <td>1</td>\n",
       "      <td>1</td>\n",
       "      <td>1.077</td>\n",
       "      <td>15.075</td>\n",
       "      <td>26.919</td>\n",
       "      <td>390.869</td>\n",
       "    </tr>\n",
       "    <tr>\n",
       "      <th>1</th>\n",
       "      <td>2</td>\n",
       "      <td>11</td>\n",
       "      <td>1101</td>\n",
       "      <td>0</td>\n",
       "      <td>1</td>\n",
       "      <td>38</td>\n",
       "      <td>0</td>\n",
       "      <td>0</td>\n",
       "      <td>1</td>\n",
       "      <td>0</td>\n",
       "      <td>1.077</td>\n",
       "      <td>15.075</td>\n",
       "      <td>26.919</td>\n",
       "      <td>390.869</td>\n",
       "    </tr>\n",
       "    <tr>\n",
       "      <th>2</th>\n",
       "      <td>4</td>\n",
       "      <td>11</td>\n",
       "      <td>1101</td>\n",
       "      <td>0</td>\n",
       "      <td>0</td>\n",
       "      <td>36</td>\n",
       "      <td>0</td>\n",
       "      <td>0</td>\n",
       "      <td>0</td>\n",
       "      <td>1</td>\n",
       "      <td>1.077</td>\n",
       "      <td>15.075</td>\n",
       "      <td>26.919</td>\n",
       "      <td>390.869</td>\n",
       "    </tr>\n",
       "    <tr>\n",
       "      <th>3</th>\n",
       "      <td>7</td>\n",
       "      <td>11</td>\n",
       "      <td>1101</td>\n",
       "      <td>0</td>\n",
       "      <td>0</td>\n",
       "      <td>27</td>\n",
       "      <td>0</td>\n",
       "      <td>0</td>\n",
       "      <td>1</td>\n",
       "      <td>1</td>\n",
       "      <td>1.077</td>\n",
       "      <td>15.075</td>\n",
       "      <td>26.919</td>\n",
       "      <td>390.869</td>\n",
       "    </tr>\n",
       "    <tr>\n",
       "      <th>4</th>\n",
       "      <td>8</td>\n",
       "      <td>11</td>\n",
       "      <td>1101</td>\n",
       "      <td>0</td>\n",
       "      <td>1</td>\n",
       "      <td>36</td>\n",
       "      <td>1</td>\n",
       "      <td>0</td>\n",
       "      <td>0</td>\n",
       "      <td>0</td>\n",
       "      <td>1.077</td>\n",
       "      <td>15.075</td>\n",
       "      <td>26.919</td>\n",
       "      <td>390.869</td>\n",
       "    </tr>\n",
       "    <tr>\n",
       "      <th>...</th>\n",
       "      <td>...</td>\n",
       "      <td>...</td>\n",
       "      <td>...</td>\n",
       "      <td>...</td>\n",
       "      <td>...</td>\n",
       "      <td>...</td>\n",
       "      <td>...</td>\n",
       "      <td>...</td>\n",
       "      <td>...</td>\n",
       "      <td>...</td>\n",
       "      <td>...</td>\n",
       "      <td>...</td>\n",
       "      <td>...</td>\n",
       "      <td>...</td>\n",
       "    </tr>\n",
       "    <tr>\n",
       "      <th>13621</th>\n",
       "      <td>19524</td>\n",
       "      <td>94</td>\n",
       "      <td>9471</td>\n",
       "      <td>1</td>\n",
       "      <td>0</td>\n",
       "      <td>28</td>\n",
       "      <td>1</td>\n",
       "      <td>0</td>\n",
       "      <td>1</td>\n",
       "      <td>1</td>\n",
       "      <td>1.757</td>\n",
       "      <td>3.262</td>\n",
       "      <td>48.936</td>\n",
       "      <td>209.045</td>\n",
       "    </tr>\n",
       "    <tr>\n",
       "      <th>13622</th>\n",
       "      <td>19526</td>\n",
       "      <td>94</td>\n",
       "      <td>9471</td>\n",
       "      <td>0</td>\n",
       "      <td>1</td>\n",
       "      <td>22</td>\n",
       "      <td>1</td>\n",
       "      <td>1</td>\n",
       "      <td>1</td>\n",
       "      <td>1</td>\n",
       "      <td>1.757</td>\n",
       "      <td>3.262</td>\n",
       "      <td>48.936</td>\n",
       "      <td>209.045</td>\n",
       "    </tr>\n",
       "    <tr>\n",
       "      <th>13623</th>\n",
       "      <td>19527</td>\n",
       "      <td>94</td>\n",
       "      <td>9471</td>\n",
       "      <td>0</td>\n",
       "      <td>0</td>\n",
       "      <td>35</td>\n",
       "      <td>1</td>\n",
       "      <td>0</td>\n",
       "      <td>1</td>\n",
       "      <td>1</td>\n",
       "      <td>1.757</td>\n",
       "      <td>3.262</td>\n",
       "      <td>48.936</td>\n",
       "      <td>209.045</td>\n",
       "    </tr>\n",
       "    <tr>\n",
       "      <th>13624</th>\n",
       "      <td>19529</td>\n",
       "      <td>94</td>\n",
       "      <td>9471</td>\n",
       "      <td>0</td>\n",
       "      <td>0</td>\n",
       "      <td>27</td>\n",
       "      <td>1</td>\n",
       "      <td>0</td>\n",
       "      <td>1</td>\n",
       "      <td>1</td>\n",
       "      <td>1.757</td>\n",
       "      <td>3.262</td>\n",
       "      <td>48.936</td>\n",
       "      <td>209.045</td>\n",
       "    </tr>\n",
       "    <tr>\n",
       "      <th>13625</th>\n",
       "      <td>19530</td>\n",
       "      <td>94</td>\n",
       "      <td>9471</td>\n",
       "      <td>1</td>\n",
       "      <td>0</td>\n",
       "      <td>39</td>\n",
       "      <td>1</td>\n",
       "      <td>1</td>\n",
       "      <td>1</td>\n",
       "      <td>1</td>\n",
       "      <td>1.757</td>\n",
       "      <td>3.262</td>\n",
       "      <td>48.936</td>\n",
       "      <td>209.045</td>\n",
       "    </tr>\n",
       "  </tbody>\n",
       "</table>\n",
       "<p>13626 rows × 14 columns</p>\n",
       "</div>"
      ],
      "text/plain": [
       "          ID  Provinsi  KodeKabKot  Y  X1  X2  X3  X4  X5  X6     Z1      Z2  \\\n",
       "0          1        11        1101  0   1  27   0   0   1   1  1.077  15.075   \n",
       "1          2        11        1101  0   1  38   0   0   1   0  1.077  15.075   \n",
       "2          4        11        1101  0   0  36   0   0   0   1  1.077  15.075   \n",
       "3          7        11        1101  0   0  27   0   0   1   1  1.077  15.075   \n",
       "4          8        11        1101  0   1  36   1   0   0   0  1.077  15.075   \n",
       "...      ...       ...         ... ..  ..  ..  ..  ..  ..  ..    ...     ...   \n",
       "13621  19524        94        9471  1   0  28   1   0   1   1  1.757   3.262   \n",
       "13622  19526        94        9471  0   1  22   1   1   1   1  1.757   3.262   \n",
       "13623  19527        94        9471  0   0  35   1   0   1   1  1.757   3.262   \n",
       "13624  19529        94        9471  0   0  27   1   0   1   1  1.757   3.262   \n",
       "13625  19530        94        9471  1   0  39   1   1   1   1  1.757   3.262   \n",
       "\n",
       "           Z3       Z4  \n",
       "0      26.919  390.869  \n",
       "1      26.919  390.869  \n",
       "2      26.919  390.869  \n",
       "3      26.919  390.869  \n",
       "4      26.919  390.869  \n",
       "...       ...      ...  \n",
       "13621  48.936  209.045  \n",
       "13622  48.936  209.045  \n",
       "13623  48.936  209.045  \n",
       "13624  48.936  209.045  \n",
       "13625  48.936  209.045  \n",
       "\n",
       "[13626 rows x 14 columns]"
      ]
     },
     "execution_count": 4,
     "metadata": {},
     "output_type": "execute_result"
    }
   ],
   "source": [
    "datatrain"
   ]
  },
  {
   "cell_type": "code",
   "execution_count": 5,
   "metadata": {
    "ExecuteTime": {
     "end_time": "2021-11-16T17:20:23.831753Z",
     "start_time": "2021-11-16T17:20:23.761757Z"
    },
    "colab": {
     "base_uri": "https://localhost:8080/",
     "height": 174
    },
    "id": "blSExi9Km0Y5",
    "outputId": "f28fcbd5-b7d7-4cde-9dcd-f462bff85dc5"
   },
   "outputs": [
    {
     "data": {
      "text/html": [
       "<div>\n",
       "<style scoped>\n",
       "    .dataframe tbody tr th:only-of-type {\n",
       "        vertical-align: middle;\n",
       "    }\n",
       "\n",
       "    .dataframe tbody tr th {\n",
       "        vertical-align: top;\n",
       "    }\n",
       "\n",
       "    .dataframe thead th {\n",
       "        text-align: right;\n",
       "    }\n",
       "</style>\n",
       "<table border=\"1\" class=\"dataframe\">\n",
       "  <thead>\n",
       "    <tr style=\"text-align: right;\">\n",
       "      <th></th>\n",
       "      <th>ID</th>\n",
       "      <th>Provinsi</th>\n",
       "      <th>KodeKabKot</th>\n",
       "      <th>Y</th>\n",
       "      <th>X1</th>\n",
       "      <th>X2</th>\n",
       "      <th>X3</th>\n",
       "      <th>X4</th>\n",
       "      <th>X5</th>\n",
       "      <th>X6</th>\n",
       "      <th>Z1</th>\n",
       "      <th>Z2</th>\n",
       "      <th>Z3</th>\n",
       "      <th>Z4</th>\n",
       "    </tr>\n",
       "  </thead>\n",
       "  <tbody>\n",
       "    <tr>\n",
       "      <th>count</th>\n",
       "      <td>13626.000000</td>\n",
       "      <td>13626.000000</td>\n",
       "      <td>13626.000000</td>\n",
       "      <td>13626.000000</td>\n",
       "      <td>13626.000000</td>\n",
       "      <td>13626.000000</td>\n",
       "      <td>13626.000000</td>\n",
       "      <td>13626.000000</td>\n",
       "      <td>13626.000000</td>\n",
       "      <td>13626.000000</td>\n",
       "      <td>13626.000000</td>\n",
       "      <td>13626.000000</td>\n",
       "      <td>13626.000000</td>\n",
       "      <td>13621.000000</td>\n",
       "    </tr>\n",
       "    <tr>\n",
       "      <th>mean</th>\n",
       "      <td>9763.218406</td>\n",
       "      <td>44.562601</td>\n",
       "      <td>4477.179363</td>\n",
       "      <td>0.409511</td>\n",
       "      <td>0.610744</td>\n",
       "      <td>30.380229</td>\n",
       "      <td>0.487817</td>\n",
       "      <td>0.401805</td>\n",
       "      <td>0.813518</td>\n",
       "      <td>0.875899</td>\n",
       "      <td>1.227538</td>\n",
       "      <td>6.876482</td>\n",
       "      <td>35.597681</td>\n",
       "      <td>197.945368</td>\n",
       "    </tr>\n",
       "    <tr>\n",
       "      <th>std</th>\n",
       "      <td>5654.343886</td>\n",
       "      <td>26.377273</td>\n",
       "      <td>2633.993903</td>\n",
       "      <td>0.491762</td>\n",
       "      <td>0.487599</td>\n",
       "      <td>6.357110</td>\n",
       "      <td>0.499870</td>\n",
       "      <td>0.490281</td>\n",
       "      <td>0.389509</td>\n",
       "      <td>0.329709</td>\n",
       "      <td>1.059310</td>\n",
       "      <td>5.638141</td>\n",
       "      <td>33.103822</td>\n",
       "      <td>137.404420</td>\n",
       "    </tr>\n",
       "    <tr>\n",
       "      <th>min</th>\n",
       "      <td>1.000000</td>\n",
       "      <td>11.000000</td>\n",
       "      <td>1101.000000</td>\n",
       "      <td>0.000000</td>\n",
       "      <td>0.000000</td>\n",
       "      <td>14.000000</td>\n",
       "      <td>0.000000</td>\n",
       "      <td>0.000000</td>\n",
       "      <td>0.000000</td>\n",
       "      <td>0.000000</td>\n",
       "      <td>0.000000</td>\n",
       "      <td>0.369000</td>\n",
       "      <td>0.861000</td>\n",
       "      <td>20.183000</td>\n",
       "    </tr>\n",
       "    <tr>\n",
       "      <th>25%</th>\n",
       "      <td>4866.500000</td>\n",
       "      <td>18.000000</td>\n",
       "      <td>1804.000000</td>\n",
       "      <td>0.000000</td>\n",
       "      <td>0.000000</td>\n",
       "      <td>26.000000</td>\n",
       "      <td>0.000000</td>\n",
       "      <td>0.000000</td>\n",
       "      <td>1.000000</td>\n",
       "      <td>1.000000</td>\n",
       "      <td>0.564000</td>\n",
       "      <td>3.183000</td>\n",
       "      <td>16.744000</td>\n",
       "      <td>102.438000</td>\n",
       "    </tr>\n",
       "    <tr>\n",
       "      <th>50%</th>\n",
       "      <td>9773.500000</td>\n",
       "      <td>35.000000</td>\n",
       "      <td>3523.000000</td>\n",
       "      <td>0.000000</td>\n",
       "      <td>1.000000</td>\n",
       "      <td>30.000000</td>\n",
       "      <td>0.000000</td>\n",
       "      <td>0.000000</td>\n",
       "      <td>1.000000</td>\n",
       "      <td>1.000000</td>\n",
       "      <td>0.908000</td>\n",
       "      <td>4.965000</td>\n",
       "      <td>25.896000</td>\n",
       "      <td>163.192000</td>\n",
       "    </tr>\n",
       "    <tr>\n",
       "      <th>75%</th>\n",
       "      <td>14651.750000</td>\n",
       "      <td>71.000000</td>\n",
       "      <td>7171.000000</td>\n",
       "      <td>1.000000</td>\n",
       "      <td>1.000000</td>\n",
       "      <td>35.000000</td>\n",
       "      <td>1.000000</td>\n",
       "      <td>1.000000</td>\n",
       "      <td>1.000000</td>\n",
       "      <td>1.000000</td>\n",
       "      <td>1.473000</td>\n",
       "      <td>8.334000</td>\n",
       "      <td>39.854000</td>\n",
       "      <td>257.738000</td>\n",
       "    </tr>\n",
       "    <tr>\n",
       "      <th>max</th>\n",
       "      <td>19530.000000</td>\n",
       "      <td>94.000000</td>\n",
       "      <td>9471.000000</td>\n",
       "      <td>1.000000</td>\n",
       "      <td>1.000000</td>\n",
       "      <td>54.000000</td>\n",
       "      <td>1.000000</td>\n",
       "      <td>1.000000</td>\n",
       "      <td>1.000000</td>\n",
       "      <td>1.000000</td>\n",
       "      <td>6.960000</td>\n",
       "      <td>35.237000</td>\n",
       "      <td>291.322000</td>\n",
       "      <td>1400.875000</td>\n",
       "    </tr>\n",
       "  </tbody>\n",
       "</table>\n",
       "</div>"
      ],
      "text/plain": [
       "                 ID      Provinsi    KodeKabKot             Y            X1  \\\n",
       "count  13626.000000  13626.000000  13626.000000  13626.000000  13626.000000   \n",
       "mean    9763.218406     44.562601   4477.179363      0.409511      0.610744   \n",
       "std     5654.343886     26.377273   2633.993903      0.491762      0.487599   \n",
       "min        1.000000     11.000000   1101.000000      0.000000      0.000000   \n",
       "25%     4866.500000     18.000000   1804.000000      0.000000      0.000000   \n",
       "50%     9773.500000     35.000000   3523.000000      0.000000      1.000000   \n",
       "75%    14651.750000     71.000000   7171.000000      1.000000      1.000000   \n",
       "max    19530.000000     94.000000   9471.000000      1.000000      1.000000   \n",
       "\n",
       "                 X2            X3            X4            X5            X6  \\\n",
       "count  13626.000000  13626.000000  13626.000000  13626.000000  13626.000000   \n",
       "mean      30.380229      0.487817      0.401805      0.813518      0.875899   \n",
       "std        6.357110      0.499870      0.490281      0.389509      0.329709   \n",
       "min       14.000000      0.000000      0.000000      0.000000      0.000000   \n",
       "25%       26.000000      0.000000      0.000000      1.000000      1.000000   \n",
       "50%       30.000000      0.000000      0.000000      1.000000      1.000000   \n",
       "75%       35.000000      1.000000      1.000000      1.000000      1.000000   \n",
       "max       54.000000      1.000000      1.000000      1.000000      1.000000   \n",
       "\n",
       "                 Z1            Z2            Z3            Z4  \n",
       "count  13626.000000  13626.000000  13626.000000  13621.000000  \n",
       "mean       1.227538      6.876482     35.597681    197.945368  \n",
       "std        1.059310      5.638141     33.103822    137.404420  \n",
       "min        0.000000      0.369000      0.861000     20.183000  \n",
       "25%        0.564000      3.183000     16.744000    102.438000  \n",
       "50%        0.908000      4.965000     25.896000    163.192000  \n",
       "75%        1.473000      8.334000     39.854000    257.738000  \n",
       "max        6.960000     35.237000    291.322000   1400.875000  "
      ]
     },
     "execution_count": 5,
     "metadata": {},
     "output_type": "execute_result"
    }
   ],
   "source": [
    "datatrain.describe()"
   ]
  },
  {
   "cell_type": "markdown",
   "metadata": {
    "id": "_tCzu2oV24en"
   },
   "source": [
    "Checking datatype and null"
   ]
  },
  {
   "cell_type": "code",
   "execution_count": 6,
   "metadata": {
    "ExecuteTime": {
     "end_time": "2021-11-16T17:20:25.003622Z",
     "start_time": "2021-11-16T17:20:24.987620Z"
    },
    "colab": {
     "base_uri": "https://localhost:8080/"
    },
    "id": "e8Vfv5SkN78V",
    "outputId": "40de37ff-5768-43fb-a0d2-41929d2291eb"
   },
   "outputs": [
    {
     "name": "stdout",
     "output_type": "stream",
     "text": [
      "<class 'pandas.core.frame.DataFrame'>\n",
      "RangeIndex: 13626 entries, 0 to 13625\n",
      "Data columns (total 14 columns):\n",
      " #   Column      Non-Null Count  Dtype  \n",
      "---  ------      --------------  -----  \n",
      " 0   ID          13626 non-null  int64  \n",
      " 1   Provinsi    13626 non-null  int64  \n",
      " 2   KodeKabKot  13626 non-null  int64  \n",
      " 3   Y           13626 non-null  int64  \n",
      " 4   X1          13626 non-null  int64  \n",
      " 5   X2          13626 non-null  int64  \n",
      " 6   X3          13626 non-null  int64  \n",
      " 7   X4          13626 non-null  int64  \n",
      " 8   X5          13626 non-null  int64  \n",
      " 9   X6          13626 non-null  int64  \n",
      " 10  Z1          13626 non-null  float64\n",
      " 11  Z2          13626 non-null  float64\n",
      " 12  Z3          13626 non-null  float64\n",
      " 13  Z4          13621 non-null  float64\n",
      "dtypes: float64(4), int64(10)\n",
      "memory usage: 1.5 MB\n"
     ]
    }
   ],
   "source": [
    "datatrain.info()"
   ]
  },
  {
   "cell_type": "code",
   "execution_count": 7,
   "metadata": {
    "ExecuteTime": {
     "end_time": "2021-11-16T17:20:25.542061Z",
     "start_time": "2021-11-16T17:20:25.519017Z"
    }
   },
   "outputs": [
    {
     "name": "stdout",
     "output_type": "stream",
     "text": [
      "          ID  Provinsi  KodeKabKot  Y  X1  X2  X3  X4  X5  X6     Z1     Z2  \\\n",
      "13571  19456        94        9434  0   1  26   0   1   0   0  0.861  7.745   \n",
      "13572  19457        94        9434  0   1  20   0   1   1   0  0.861  7.745   \n",
      "13573  19458        94        9434  0   1  22   0   1   0   0  0.861  7.745   \n",
      "13574  19463        94        9434  0   1  23   0   1   0   0  0.861  7.745   \n",
      "13575  19464        94        9434  0   1  24   1   1   0   0  0.861  7.745   \n",
      "\n",
      "          Z3  Z4  \n",
      "13571  0.861 NaN  \n",
      "13572  0.861 NaN  \n",
      "13573  0.861 NaN  \n",
      "13574  0.861 NaN  \n",
      "13575  0.861 NaN  \n"
     ]
    }
   ],
   "source": [
    "datatrainnull = datatrain[datatrain.isna().any(axis=1)]\n",
    "print (datatrainnull)"
   ]
  },
  {
   "cell_type": "code",
   "execution_count": 8,
   "metadata": {
    "ExecuteTime": {
     "end_time": "2021-11-16T17:20:26.378934Z",
     "start_time": "2021-11-16T17:20:26.349966Z"
    }
   },
   "outputs": [
    {
     "data": {
      "text/html": [
       "<div>\n",
       "<style scoped>\n",
       "    .dataframe tbody tr th:only-of-type {\n",
       "        vertical-align: middle;\n",
       "    }\n",
       "\n",
       "    .dataframe tbody tr th {\n",
       "        vertical-align: top;\n",
       "    }\n",
       "\n",
       "    .dataframe thead th {\n",
       "        text-align: right;\n",
       "    }\n",
       "</style>\n",
       "<table border=\"1\" class=\"dataframe\">\n",
       "  <thead>\n",
       "    <tr style=\"text-align: right;\">\n",
       "      <th></th>\n",
       "      <th>ID</th>\n",
       "      <th>Provinsi</th>\n",
       "      <th>KodeKabKot</th>\n",
       "      <th>Y</th>\n",
       "      <th>X1</th>\n",
       "      <th>X2</th>\n",
       "      <th>X3</th>\n",
       "      <th>X4</th>\n",
       "      <th>X5</th>\n",
       "      <th>X6</th>\n",
       "      <th>Z1</th>\n",
       "      <th>Z2</th>\n",
       "      <th>Z3</th>\n",
       "      <th>Z4</th>\n",
       "    </tr>\n",
       "  </thead>\n",
       "  <tbody>\n",
       "    <tr>\n",
       "      <th>13571</th>\n",
       "      <td>19456</td>\n",
       "      <td>94</td>\n",
       "      <td>9434</td>\n",
       "      <td>0</td>\n",
       "      <td>1</td>\n",
       "      <td>26</td>\n",
       "      <td>0</td>\n",
       "      <td>1</td>\n",
       "      <td>0</td>\n",
       "      <td>0</td>\n",
       "      <td>0.861</td>\n",
       "      <td>7.745</td>\n",
       "      <td>0.861</td>\n",
       "      <td>NaN</td>\n",
       "    </tr>\n",
       "    <tr>\n",
       "      <th>13572</th>\n",
       "      <td>19457</td>\n",
       "      <td>94</td>\n",
       "      <td>9434</td>\n",
       "      <td>0</td>\n",
       "      <td>1</td>\n",
       "      <td>20</td>\n",
       "      <td>0</td>\n",
       "      <td>1</td>\n",
       "      <td>1</td>\n",
       "      <td>0</td>\n",
       "      <td>0.861</td>\n",
       "      <td>7.745</td>\n",
       "      <td>0.861</td>\n",
       "      <td>NaN</td>\n",
       "    </tr>\n",
       "    <tr>\n",
       "      <th>13573</th>\n",
       "      <td>19458</td>\n",
       "      <td>94</td>\n",
       "      <td>9434</td>\n",
       "      <td>0</td>\n",
       "      <td>1</td>\n",
       "      <td>22</td>\n",
       "      <td>0</td>\n",
       "      <td>1</td>\n",
       "      <td>0</td>\n",
       "      <td>0</td>\n",
       "      <td>0.861</td>\n",
       "      <td>7.745</td>\n",
       "      <td>0.861</td>\n",
       "      <td>NaN</td>\n",
       "    </tr>\n",
       "    <tr>\n",
       "      <th>13574</th>\n",
       "      <td>19463</td>\n",
       "      <td>94</td>\n",
       "      <td>9434</td>\n",
       "      <td>0</td>\n",
       "      <td>1</td>\n",
       "      <td>23</td>\n",
       "      <td>0</td>\n",
       "      <td>1</td>\n",
       "      <td>0</td>\n",
       "      <td>0</td>\n",
       "      <td>0.861</td>\n",
       "      <td>7.745</td>\n",
       "      <td>0.861</td>\n",
       "      <td>NaN</td>\n",
       "    </tr>\n",
       "    <tr>\n",
       "      <th>13575</th>\n",
       "      <td>19464</td>\n",
       "      <td>94</td>\n",
       "      <td>9434</td>\n",
       "      <td>0</td>\n",
       "      <td>1</td>\n",
       "      <td>24</td>\n",
       "      <td>1</td>\n",
       "      <td>1</td>\n",
       "      <td>0</td>\n",
       "      <td>0</td>\n",
       "      <td>0.861</td>\n",
       "      <td>7.745</td>\n",
       "      <td>0.861</td>\n",
       "      <td>NaN</td>\n",
       "    </tr>\n",
       "  </tbody>\n",
       "</table>\n",
       "</div>"
      ],
      "text/plain": [
       "          ID  Provinsi  KodeKabKot  Y  X1  X2  X3  X4  X5  X6     Z1     Z2  \\\n",
       "13571  19456        94        9434  0   1  26   0   1   0   0  0.861  7.745   \n",
       "13572  19457        94        9434  0   1  20   0   1   1   0  0.861  7.745   \n",
       "13573  19458        94        9434  0   1  22   0   1   0   0  0.861  7.745   \n",
       "13574  19463        94        9434  0   1  23   0   1   0   0  0.861  7.745   \n",
       "13575  19464        94        9434  0   1  24   1   1   0   0  0.861  7.745   \n",
       "\n",
       "          Z3  Z4  \n",
       "13571  0.861 NaN  \n",
       "13572  0.861 NaN  \n",
       "13573  0.861 NaN  \n",
       "13574  0.861 NaN  \n",
       "13575  0.861 NaN  "
      ]
     },
     "execution_count": 8,
     "metadata": {},
     "output_type": "execute_result"
    }
   ],
   "source": [
    "datatrain[datatrain[\"KodeKabKot\"] == 9434]"
   ]
  },
  {
   "cell_type": "code",
   "execution_count": 9,
   "metadata": {
    "ExecuteTime": {
     "end_time": "2021-11-16T17:20:28.380102Z",
     "start_time": "2021-11-16T17:20:28.366108Z"
    }
   },
   "outputs": [],
   "source": [
    "datatrain = datatrain.fillna(224.555)"
   ]
  },
  {
   "cell_type": "code",
   "execution_count": 10,
   "metadata": {
    "ExecuteTime": {
     "end_time": "2021-11-16T17:20:29.003963Z",
     "start_time": "2021-11-16T17:20:28.977983Z"
    },
    "scrolled": true
   },
   "outputs": [
    {
     "data": {
      "text/html": [
       "<div>\n",
       "<style scoped>\n",
       "    .dataframe tbody tr th:only-of-type {\n",
       "        vertical-align: middle;\n",
       "    }\n",
       "\n",
       "    .dataframe tbody tr th {\n",
       "        vertical-align: top;\n",
       "    }\n",
       "\n",
       "    .dataframe thead th {\n",
       "        text-align: right;\n",
       "    }\n",
       "</style>\n",
       "<table border=\"1\" class=\"dataframe\">\n",
       "  <thead>\n",
       "    <tr style=\"text-align: right;\">\n",
       "      <th></th>\n",
       "      <th>ID</th>\n",
       "      <th>Provinsi</th>\n",
       "      <th>KodeKabKot</th>\n",
       "      <th>Y</th>\n",
       "      <th>X1</th>\n",
       "      <th>X2</th>\n",
       "      <th>X3</th>\n",
       "      <th>X4</th>\n",
       "      <th>X5</th>\n",
       "      <th>X6</th>\n",
       "      <th>Z1</th>\n",
       "      <th>Z2</th>\n",
       "      <th>Z3</th>\n",
       "      <th>Z4</th>\n",
       "    </tr>\n",
       "  </thead>\n",
       "  <tbody>\n",
       "    <tr>\n",
       "      <th>13571</th>\n",
       "      <td>19456</td>\n",
       "      <td>94</td>\n",
       "      <td>9434</td>\n",
       "      <td>0</td>\n",
       "      <td>1</td>\n",
       "      <td>26</td>\n",
       "      <td>0</td>\n",
       "      <td>1</td>\n",
       "      <td>0</td>\n",
       "      <td>0</td>\n",
       "      <td>0.861</td>\n",
       "      <td>7.745</td>\n",
       "      <td>0.861</td>\n",
       "      <td>224.555</td>\n",
       "    </tr>\n",
       "    <tr>\n",
       "      <th>13572</th>\n",
       "      <td>19457</td>\n",
       "      <td>94</td>\n",
       "      <td>9434</td>\n",
       "      <td>0</td>\n",
       "      <td>1</td>\n",
       "      <td>20</td>\n",
       "      <td>0</td>\n",
       "      <td>1</td>\n",
       "      <td>1</td>\n",
       "      <td>0</td>\n",
       "      <td>0.861</td>\n",
       "      <td>7.745</td>\n",
       "      <td>0.861</td>\n",
       "      <td>224.555</td>\n",
       "    </tr>\n",
       "    <tr>\n",
       "      <th>13573</th>\n",
       "      <td>19458</td>\n",
       "      <td>94</td>\n",
       "      <td>9434</td>\n",
       "      <td>0</td>\n",
       "      <td>1</td>\n",
       "      <td>22</td>\n",
       "      <td>0</td>\n",
       "      <td>1</td>\n",
       "      <td>0</td>\n",
       "      <td>0</td>\n",
       "      <td>0.861</td>\n",
       "      <td>7.745</td>\n",
       "      <td>0.861</td>\n",
       "      <td>224.555</td>\n",
       "    </tr>\n",
       "    <tr>\n",
       "      <th>13574</th>\n",
       "      <td>19463</td>\n",
       "      <td>94</td>\n",
       "      <td>9434</td>\n",
       "      <td>0</td>\n",
       "      <td>1</td>\n",
       "      <td>23</td>\n",
       "      <td>0</td>\n",
       "      <td>1</td>\n",
       "      <td>0</td>\n",
       "      <td>0</td>\n",
       "      <td>0.861</td>\n",
       "      <td>7.745</td>\n",
       "      <td>0.861</td>\n",
       "      <td>224.555</td>\n",
       "    </tr>\n",
       "    <tr>\n",
       "      <th>13575</th>\n",
       "      <td>19464</td>\n",
       "      <td>94</td>\n",
       "      <td>9434</td>\n",
       "      <td>0</td>\n",
       "      <td>1</td>\n",
       "      <td>24</td>\n",
       "      <td>1</td>\n",
       "      <td>1</td>\n",
       "      <td>0</td>\n",
       "      <td>0</td>\n",
       "      <td>0.861</td>\n",
       "      <td>7.745</td>\n",
       "      <td>0.861</td>\n",
       "      <td>224.555</td>\n",
       "    </tr>\n",
       "  </tbody>\n",
       "</table>\n",
       "</div>"
      ],
      "text/plain": [
       "          ID  Provinsi  KodeKabKot  Y  X1  X2  X3  X4  X5  X6     Z1     Z2  \\\n",
       "13571  19456        94        9434  0   1  26   0   1   0   0  0.861  7.745   \n",
       "13572  19457        94        9434  0   1  20   0   1   1   0  0.861  7.745   \n",
       "13573  19458        94        9434  0   1  22   0   1   0   0  0.861  7.745   \n",
       "13574  19463        94        9434  0   1  23   0   1   0   0  0.861  7.745   \n",
       "13575  19464        94        9434  0   1  24   1   1   0   0  0.861  7.745   \n",
       "\n",
       "          Z3       Z4  \n",
       "13571  0.861  224.555  \n",
       "13572  0.861  224.555  \n",
       "13573  0.861  224.555  \n",
       "13574  0.861  224.555  \n",
       "13575  0.861  224.555  "
      ]
     },
     "execution_count": 10,
     "metadata": {},
     "output_type": "execute_result"
    }
   ],
   "source": [
    "datatrain[datatrain[\"KodeKabKot\"] == 9434]"
   ]
  },
  {
   "cell_type": "markdown",
   "metadata": {},
   "source": [
    "**Re-check null**"
   ]
  },
  {
   "cell_type": "code",
   "execution_count": 11,
   "metadata": {
    "ExecuteTime": {
     "end_time": "2021-11-16T17:20:30.527535Z",
     "start_time": "2021-11-16T17:20:30.497493Z"
    },
    "colab": {
     "base_uri": "https://localhost:8080/"
    },
    "id": "LRuI6ukCMLcb",
    "outputId": "f9d95ae7-4d41-4e32-ef3e-b95f0d488fb8",
    "scrolled": true
   },
   "outputs": [
    {
     "name": "stdout",
     "output_type": "stream",
     "text": [
      "<class 'pandas.core.frame.DataFrame'>\n",
      "RangeIndex: 13626 entries, 0 to 13625\n",
      "Data columns (total 14 columns):\n",
      " #   Column      Non-Null Count  Dtype  \n",
      "---  ------      --------------  -----  \n",
      " 0   ID          13626 non-null  int64  \n",
      " 1   Provinsi    13626 non-null  int64  \n",
      " 2   KodeKabKot  13626 non-null  int64  \n",
      " 3   Y           13626 non-null  int64  \n",
      " 4   X1          13626 non-null  int64  \n",
      " 5   X2          13626 non-null  int64  \n",
      " 6   X3          13626 non-null  int64  \n",
      " 7   X4          13626 non-null  int64  \n",
      " 8   X5          13626 non-null  int64  \n",
      " 9   X6          13626 non-null  int64  \n",
      " 10  Z1          13626 non-null  float64\n",
      " 11  Z2          13626 non-null  float64\n",
      " 12  Z3          13626 non-null  float64\n",
      " 13  Z4          13626 non-null  float64\n",
      "dtypes: float64(4), int64(10)\n",
      "memory usage: 1.5 MB\n"
     ]
    }
   ],
   "source": [
    "datatrain.info()"
   ]
  },
  {
   "cell_type": "markdown",
   "metadata": {},
   "source": [
    "## Data Test"
   ]
  },
  {
   "cell_type": "code",
   "execution_count": 12,
   "metadata": {
    "ExecuteTime": {
     "end_time": "2021-11-16T17:20:32.769981Z",
     "start_time": "2021-11-16T17:20:32.748942Z"
    }
   },
   "outputs": [
    {
     "data": {
      "text/html": [
       "<div>\n",
       "<style scoped>\n",
       "    .dataframe tbody tr th:only-of-type {\n",
       "        vertical-align: middle;\n",
       "    }\n",
       "\n",
       "    .dataframe tbody tr th {\n",
       "        vertical-align: top;\n",
       "    }\n",
       "\n",
       "    .dataframe thead th {\n",
       "        text-align: right;\n",
       "    }\n",
       "</style>\n",
       "<table border=\"1\" class=\"dataframe\">\n",
       "  <thead>\n",
       "    <tr style=\"text-align: right;\">\n",
       "      <th></th>\n",
       "      <th>ID</th>\n",
       "      <th>Provinsi</th>\n",
       "      <th>KodeKabKot</th>\n",
       "      <th>X1</th>\n",
       "      <th>X2</th>\n",
       "      <th>X3</th>\n",
       "      <th>X4</th>\n",
       "      <th>X5</th>\n",
       "      <th>X6</th>\n",
       "      <th>Z1</th>\n",
       "      <th>Z2</th>\n",
       "      <th>Z3</th>\n",
       "      <th>Z4</th>\n",
       "    </tr>\n",
       "  </thead>\n",
       "  <tbody>\n",
       "    <tr>\n",
       "      <th>0</th>\n",
       "      <td>3</td>\n",
       "      <td>11</td>\n",
       "      <td>1101</td>\n",
       "      <td>1</td>\n",
       "      <td>39</td>\n",
       "      <td>0</td>\n",
       "      <td>0</td>\n",
       "      <td>1</td>\n",
       "      <td>1</td>\n",
       "      <td>1.077</td>\n",
       "      <td>15.075</td>\n",
       "      <td>26.919</td>\n",
       "      <td>390.869</td>\n",
       "    </tr>\n",
       "    <tr>\n",
       "      <th>1</th>\n",
       "      <td>5</td>\n",
       "      <td>11</td>\n",
       "      <td>1101</td>\n",
       "      <td>0</td>\n",
       "      <td>32</td>\n",
       "      <td>1</td>\n",
       "      <td>0</td>\n",
       "      <td>1</td>\n",
       "      <td>1</td>\n",
       "      <td>1.077</td>\n",
       "      <td>15.075</td>\n",
       "      <td>26.919</td>\n",
       "      <td>390.869</td>\n",
       "    </tr>\n",
       "    <tr>\n",
       "      <th>2</th>\n",
       "      <td>6</td>\n",
       "      <td>11</td>\n",
       "      <td>1101</td>\n",
       "      <td>1</td>\n",
       "      <td>32</td>\n",
       "      <td>1</td>\n",
       "      <td>0</td>\n",
       "      <td>1</td>\n",
       "      <td>1</td>\n",
       "      <td>1.077</td>\n",
       "      <td>15.075</td>\n",
       "      <td>26.919</td>\n",
       "      <td>390.869</td>\n",
       "    </tr>\n",
       "    <tr>\n",
       "      <th>3</th>\n",
       "      <td>10</td>\n",
       "      <td>11</td>\n",
       "      <td>1101</td>\n",
       "      <td>1</td>\n",
       "      <td>28</td>\n",
       "      <td>1</td>\n",
       "      <td>0</td>\n",
       "      <td>1</td>\n",
       "      <td>0</td>\n",
       "      <td>1.077</td>\n",
       "      <td>15.075</td>\n",
       "      <td>26.919</td>\n",
       "      <td>390.869</td>\n",
       "    </tr>\n",
       "    <tr>\n",
       "      <th>4</th>\n",
       "      <td>17</td>\n",
       "      <td>11</td>\n",
       "      <td>1101</td>\n",
       "      <td>0</td>\n",
       "      <td>31</td>\n",
       "      <td>1</td>\n",
       "      <td>0</td>\n",
       "      <td>1</td>\n",
       "      <td>1</td>\n",
       "      <td>1.077</td>\n",
       "      <td>15.075</td>\n",
       "      <td>26.919</td>\n",
       "      <td>390.869</td>\n",
       "    </tr>\n",
       "    <tr>\n",
       "      <th>...</th>\n",
       "      <td>...</td>\n",
       "      <td>...</td>\n",
       "      <td>...</td>\n",
       "      <td>...</td>\n",
       "      <td>...</td>\n",
       "      <td>...</td>\n",
       "      <td>...</td>\n",
       "      <td>...</td>\n",
       "      <td>...</td>\n",
       "      <td>...</td>\n",
       "      <td>...</td>\n",
       "      <td>...</td>\n",
       "      <td>...</td>\n",
       "    </tr>\n",
       "    <tr>\n",
       "      <th>5901</th>\n",
       "      <td>19515</td>\n",
       "      <td>94</td>\n",
       "      <td>9471</td>\n",
       "      <td>1</td>\n",
       "      <td>39</td>\n",
       "      <td>0</td>\n",
       "      <td>1</td>\n",
       "      <td>1</td>\n",
       "      <td>1</td>\n",
       "      <td>1.757</td>\n",
       "      <td>3.262</td>\n",
       "      <td>48.936</td>\n",
       "      <td>209.045</td>\n",
       "    </tr>\n",
       "    <tr>\n",
       "      <th>5902</th>\n",
       "      <td>19525</td>\n",
       "      <td>94</td>\n",
       "      <td>9471</td>\n",
       "      <td>0</td>\n",
       "      <td>30</td>\n",
       "      <td>1</td>\n",
       "      <td>1</td>\n",
       "      <td>1</td>\n",
       "      <td>1</td>\n",
       "      <td>1.757</td>\n",
       "      <td>3.262</td>\n",
       "      <td>48.936</td>\n",
       "      <td>209.045</td>\n",
       "    </tr>\n",
       "    <tr>\n",
       "      <th>5903</th>\n",
       "      <td>19528</td>\n",
       "      <td>94</td>\n",
       "      <td>9471</td>\n",
       "      <td>0</td>\n",
       "      <td>22</td>\n",
       "      <td>1</td>\n",
       "      <td>1</td>\n",
       "      <td>1</td>\n",
       "      <td>1</td>\n",
       "      <td>1.757</td>\n",
       "      <td>3.262</td>\n",
       "      <td>48.936</td>\n",
       "      <td>209.045</td>\n",
       "    </tr>\n",
       "    <tr>\n",
       "      <th>5904</th>\n",
       "      <td>19531</td>\n",
       "      <td>94</td>\n",
       "      <td>9471</td>\n",
       "      <td>0</td>\n",
       "      <td>40</td>\n",
       "      <td>1</td>\n",
       "      <td>1</td>\n",
       "      <td>1</td>\n",
       "      <td>1</td>\n",
       "      <td>1.757</td>\n",
       "      <td>3.262</td>\n",
       "      <td>48.936</td>\n",
       "      <td>209.045</td>\n",
       "    </tr>\n",
       "    <tr>\n",
       "      <th>5905</th>\n",
       "      <td>19532</td>\n",
       "      <td>94</td>\n",
       "      <td>9471</td>\n",
       "      <td>0</td>\n",
       "      <td>38</td>\n",
       "      <td>1</td>\n",
       "      <td>0</td>\n",
       "      <td>1</td>\n",
       "      <td>1</td>\n",
       "      <td>1.757</td>\n",
       "      <td>3.262</td>\n",
       "      <td>48.936</td>\n",
       "      <td>209.045</td>\n",
       "    </tr>\n",
       "  </tbody>\n",
       "</table>\n",
       "<p>5906 rows × 13 columns</p>\n",
       "</div>"
      ],
      "text/plain": [
       "         ID  Provinsi  KodeKabKot  X1  X2  X3  X4  X5  X6     Z1      Z2  \\\n",
       "0         3        11        1101   1  39   0   0   1   1  1.077  15.075   \n",
       "1         5        11        1101   0  32   1   0   1   1  1.077  15.075   \n",
       "2         6        11        1101   1  32   1   0   1   1  1.077  15.075   \n",
       "3        10        11        1101   1  28   1   0   1   0  1.077  15.075   \n",
       "4        17        11        1101   0  31   1   0   1   1  1.077  15.075   \n",
       "...     ...       ...         ...  ..  ..  ..  ..  ..  ..    ...     ...   \n",
       "5901  19515        94        9471   1  39   0   1   1   1  1.757   3.262   \n",
       "5902  19525        94        9471   0  30   1   1   1   1  1.757   3.262   \n",
       "5903  19528        94        9471   0  22   1   1   1   1  1.757   3.262   \n",
       "5904  19531        94        9471   0  40   1   1   1   1  1.757   3.262   \n",
       "5905  19532        94        9471   0  38   1   0   1   1  1.757   3.262   \n",
       "\n",
       "          Z3       Z4  \n",
       "0     26.919  390.869  \n",
       "1     26.919  390.869  \n",
       "2     26.919  390.869  \n",
       "3     26.919  390.869  \n",
       "4     26.919  390.869  \n",
       "...      ...      ...  \n",
       "5901  48.936  209.045  \n",
       "5902  48.936  209.045  \n",
       "5903  48.936  209.045  \n",
       "5904  48.936  209.045  \n",
       "5905  48.936  209.045  \n",
       "\n",
       "[5906 rows x 13 columns]"
      ]
     },
     "execution_count": 12,
     "metadata": {},
     "output_type": "execute_result"
    }
   ],
   "source": [
    "datatest"
   ]
  },
  {
   "cell_type": "code",
   "execution_count": 13,
   "metadata": {
    "ExecuteTime": {
     "end_time": "2021-11-16T17:20:33.336547Z",
     "start_time": "2021-11-16T17:20:33.317515Z"
    },
    "scrolled": true
   },
   "outputs": [
    {
     "name": "stdout",
     "output_type": "stream",
     "text": [
      "<class 'pandas.core.frame.DataFrame'>\n",
      "RangeIndex: 5906 entries, 0 to 5905\n",
      "Data columns (total 13 columns):\n",
      " #   Column      Non-Null Count  Dtype  \n",
      "---  ------      --------------  -----  \n",
      " 0   ID          5906 non-null   int64  \n",
      " 1   Provinsi    5906 non-null   int64  \n",
      " 2   KodeKabKot  5906 non-null   int64  \n",
      " 3   X1          5906 non-null   int64  \n",
      " 4   X2          5906 non-null   int64  \n",
      " 5   X3          5906 non-null   int64  \n",
      " 6   X4          5906 non-null   int64  \n",
      " 7   X5          5906 non-null   int64  \n",
      " 8   X6          5906 non-null   int64  \n",
      " 9   Z1          5906 non-null   float64\n",
      " 10  Z2          5906 non-null   float64\n",
      " 11  Z3          5906 non-null   float64\n",
      " 12  Z4          5901 non-null   float64\n",
      "dtypes: float64(4), int64(9)\n",
      "memory usage: 600.0 KB\n"
     ]
    }
   ],
   "source": [
    "datatest.info()"
   ]
  },
  {
   "cell_type": "code",
   "execution_count": 14,
   "metadata": {
    "ExecuteTime": {
     "end_time": "2021-11-16T17:20:34.198937Z",
     "start_time": "2021-11-16T17:20:34.181938Z"
    },
    "scrolled": true
   },
   "outputs": [
    {
     "name": "stdout",
     "output_type": "stream",
     "text": [
      "         ID  Provinsi  KodeKabKot  X1  X2  X3  X4  X5  X6     Z1     Z2  \\\n",
      "5883  19455        94        9434   1  21   0   1   0   0  0.861  7.745   \n",
      "5884  19459        94        9434   1  27   0   1   0   0  0.861  7.745   \n",
      "5885  19460        94        9434   1  35   1   1   0   0  0.861  7.745   \n",
      "5886  19461        94        9434   1  21   0   1   0   0  0.861  7.745   \n",
      "5887  19462        94        9434   1  42   0   1   0   0  0.861  7.745   \n",
      "\n",
      "         Z3  Z4  \n",
      "5883  0.861 NaN  \n",
      "5884  0.861 NaN  \n",
      "5885  0.861 NaN  \n",
      "5886  0.861 NaN  \n",
      "5887  0.861 NaN  \n"
     ]
    }
   ],
   "source": [
    "datatestnull = datatest[datatest.isna().any(axis=1)]\n",
    "print (datatestnull)"
   ]
  },
  {
   "cell_type": "markdown",
   "metadata": {
    "id": "_tCzu2oV24en"
   },
   "source": [
    "fill null"
   ]
  },
  {
   "cell_type": "code",
   "execution_count": 15,
   "metadata": {
    "ExecuteTime": {
     "end_time": "2021-11-16T17:20:35.889008Z",
     "start_time": "2021-11-16T17:20:35.876031Z"
    }
   },
   "outputs": [],
   "source": [
    "datatest = datatest.fillna(224.555)"
   ]
  },
  {
   "cell_type": "code",
   "execution_count": 16,
   "metadata": {
    "ExecuteTime": {
     "end_time": "2021-11-16T17:20:37.677005Z",
     "start_time": "2021-11-16T17:20:37.655978Z"
    }
   },
   "outputs": [
    {
     "name": "stdout",
     "output_type": "stream",
     "text": [
      "<class 'pandas.core.frame.DataFrame'>\n",
      "RangeIndex: 5906 entries, 0 to 5905\n",
      "Data columns (total 13 columns):\n",
      " #   Column      Non-Null Count  Dtype  \n",
      "---  ------      --------------  -----  \n",
      " 0   ID          5906 non-null   int64  \n",
      " 1   Provinsi    5906 non-null   int64  \n",
      " 2   KodeKabKot  5906 non-null   int64  \n",
      " 3   X1          5906 non-null   int64  \n",
      " 4   X2          5906 non-null   int64  \n",
      " 5   X3          5906 non-null   int64  \n",
      " 6   X4          5906 non-null   int64  \n",
      " 7   X5          5906 non-null   int64  \n",
      " 8   X6          5906 non-null   int64  \n",
      " 9   Z1          5906 non-null   float64\n",
      " 10  Z2          5906 non-null   float64\n",
      " 11  Z3          5906 non-null   float64\n",
      " 12  Z4          5906 non-null   float64\n",
      "dtypes: float64(4), int64(9)\n",
      "memory usage: 600.0 KB\n"
     ]
    }
   ],
   "source": [
    "datatest.info()"
   ]
  },
  {
   "cell_type": "markdown",
   "metadata": {},
   "source": [
    "## Cleaning"
   ]
  },
  {
   "cell_type": "code",
   "execution_count": 17,
   "metadata": {
    "ExecuteTime": {
     "end_time": "2021-11-16T17:20:44.161656Z",
     "start_time": "2021-11-16T17:20:44.151656Z"
    }
   },
   "outputs": [],
   "source": [
    "datatrain=datatrain.drop(columns=\"KodeKabKot\")"
   ]
  },
  {
   "cell_type": "code",
   "execution_count": 18,
   "metadata": {
    "ExecuteTime": {
     "end_time": "2021-11-16T17:20:53.095412Z",
     "start_time": "2021-11-16T17:20:53.079386Z"
    },
    "colab": {
     "base_uri": "https://localhost:8080/",
     "height": 696
    },
    "id": "rAmQwRGPMPIg",
    "outputId": "f360d45a-5c05-45d3-9a04-56d720ca4338"
   },
   "outputs": [
    {
     "data": {
      "text/html": [
       "<div>\n",
       "<style scoped>\n",
       "    .dataframe tbody tr th:only-of-type {\n",
       "        vertical-align: middle;\n",
       "    }\n",
       "\n",
       "    .dataframe tbody tr th {\n",
       "        vertical-align: top;\n",
       "    }\n",
       "\n",
       "    .dataframe thead th {\n",
       "        text-align: right;\n",
       "    }\n",
       "</style>\n",
       "<table border=\"1\" class=\"dataframe\">\n",
       "  <thead>\n",
       "    <tr style=\"text-align: right;\">\n",
       "      <th></th>\n",
       "      <th>ID</th>\n",
       "      <th>Provinsi</th>\n",
       "      <th>Y</th>\n",
       "      <th>X1</th>\n",
       "      <th>X2</th>\n",
       "      <th>X3</th>\n",
       "      <th>X4</th>\n",
       "      <th>X5</th>\n",
       "      <th>X6</th>\n",
       "      <th>Z1</th>\n",
       "      <th>Z2</th>\n",
       "      <th>Z3</th>\n",
       "      <th>Z4</th>\n",
       "    </tr>\n",
       "  </thead>\n",
       "  <tbody>\n",
       "    <tr>\n",
       "      <th>0</th>\n",
       "      <td>1</td>\n",
       "      <td>11</td>\n",
       "      <td>0</td>\n",
       "      <td>1</td>\n",
       "      <td>27</td>\n",
       "      <td>0</td>\n",
       "      <td>0</td>\n",
       "      <td>1</td>\n",
       "      <td>1</td>\n",
       "      <td>1.077</td>\n",
       "      <td>15.075</td>\n",
       "      <td>26.919</td>\n",
       "      <td>390.869</td>\n",
       "    </tr>\n",
       "    <tr>\n",
       "      <th>1</th>\n",
       "      <td>2</td>\n",
       "      <td>11</td>\n",
       "      <td>0</td>\n",
       "      <td>1</td>\n",
       "      <td>38</td>\n",
       "      <td>0</td>\n",
       "      <td>0</td>\n",
       "      <td>1</td>\n",
       "      <td>0</td>\n",
       "      <td>1.077</td>\n",
       "      <td>15.075</td>\n",
       "      <td>26.919</td>\n",
       "      <td>390.869</td>\n",
       "    </tr>\n",
       "    <tr>\n",
       "      <th>2</th>\n",
       "      <td>4</td>\n",
       "      <td>11</td>\n",
       "      <td>0</td>\n",
       "      <td>0</td>\n",
       "      <td>36</td>\n",
       "      <td>0</td>\n",
       "      <td>0</td>\n",
       "      <td>0</td>\n",
       "      <td>1</td>\n",
       "      <td>1.077</td>\n",
       "      <td>15.075</td>\n",
       "      <td>26.919</td>\n",
       "      <td>390.869</td>\n",
       "    </tr>\n",
       "    <tr>\n",
       "      <th>3</th>\n",
       "      <td>7</td>\n",
       "      <td>11</td>\n",
       "      <td>0</td>\n",
       "      <td>0</td>\n",
       "      <td>27</td>\n",
       "      <td>0</td>\n",
       "      <td>0</td>\n",
       "      <td>1</td>\n",
       "      <td>1</td>\n",
       "      <td>1.077</td>\n",
       "      <td>15.075</td>\n",
       "      <td>26.919</td>\n",
       "      <td>390.869</td>\n",
       "    </tr>\n",
       "    <tr>\n",
       "      <th>4</th>\n",
       "      <td>8</td>\n",
       "      <td>11</td>\n",
       "      <td>0</td>\n",
       "      <td>1</td>\n",
       "      <td>36</td>\n",
       "      <td>1</td>\n",
       "      <td>0</td>\n",
       "      <td>0</td>\n",
       "      <td>0</td>\n",
       "      <td>1.077</td>\n",
       "      <td>15.075</td>\n",
       "      <td>26.919</td>\n",
       "      <td>390.869</td>\n",
       "    </tr>\n",
       "    <tr>\n",
       "      <th>5</th>\n",
       "      <td>9</td>\n",
       "      <td>11</td>\n",
       "      <td>1</td>\n",
       "      <td>1</td>\n",
       "      <td>20</td>\n",
       "      <td>0</td>\n",
       "      <td>1</td>\n",
       "      <td>1</td>\n",
       "      <td>0</td>\n",
       "      <td>1.077</td>\n",
       "      <td>15.075</td>\n",
       "      <td>26.919</td>\n",
       "      <td>390.869</td>\n",
       "    </tr>\n",
       "    <tr>\n",
       "      <th>6</th>\n",
       "      <td>11</td>\n",
       "      <td>11</td>\n",
       "      <td>0</td>\n",
       "      <td>1</td>\n",
       "      <td>27</td>\n",
       "      <td>0</td>\n",
       "      <td>1</td>\n",
       "      <td>1</td>\n",
       "      <td>1</td>\n",
       "      <td>1.077</td>\n",
       "      <td>15.075</td>\n",
       "      <td>26.919</td>\n",
       "      <td>390.869</td>\n",
       "    </tr>\n",
       "    <tr>\n",
       "      <th>7</th>\n",
       "      <td>12</td>\n",
       "      <td>11</td>\n",
       "      <td>0</td>\n",
       "      <td>0</td>\n",
       "      <td>36</td>\n",
       "      <td>1</td>\n",
       "      <td>0</td>\n",
       "      <td>1</td>\n",
       "      <td>1</td>\n",
       "      <td>1.077</td>\n",
       "      <td>15.075</td>\n",
       "      <td>26.919</td>\n",
       "      <td>390.869</td>\n",
       "    </tr>\n",
       "    <tr>\n",
       "      <th>8</th>\n",
       "      <td>13</td>\n",
       "      <td>11</td>\n",
       "      <td>0</td>\n",
       "      <td>0</td>\n",
       "      <td>33</td>\n",
       "      <td>1</td>\n",
       "      <td>0</td>\n",
       "      <td>1</td>\n",
       "      <td>1</td>\n",
       "      <td>1.077</td>\n",
       "      <td>15.075</td>\n",
       "      <td>26.919</td>\n",
       "      <td>390.869</td>\n",
       "    </tr>\n",
       "    <tr>\n",
       "      <th>9</th>\n",
       "      <td>14</td>\n",
       "      <td>11</td>\n",
       "      <td>0</td>\n",
       "      <td>1</td>\n",
       "      <td>23</td>\n",
       "      <td>1</td>\n",
       "      <td>0</td>\n",
       "      <td>1</td>\n",
       "      <td>1</td>\n",
       "      <td>1.077</td>\n",
       "      <td>15.075</td>\n",
       "      <td>26.919</td>\n",
       "      <td>390.869</td>\n",
       "    </tr>\n",
       "  </tbody>\n",
       "</table>\n",
       "</div>"
      ],
      "text/plain": [
       "   ID  Provinsi  Y  X1  X2  X3  X4  X5  X6     Z1      Z2      Z3       Z4\n",
       "0   1        11  0   1  27   0   0   1   1  1.077  15.075  26.919  390.869\n",
       "1   2        11  0   1  38   0   0   1   0  1.077  15.075  26.919  390.869\n",
       "2   4        11  0   0  36   0   0   0   1  1.077  15.075  26.919  390.869\n",
       "3   7        11  0   0  27   0   0   1   1  1.077  15.075  26.919  390.869\n",
       "4   8        11  0   1  36   1   0   0   0  1.077  15.075  26.919  390.869\n",
       "5   9        11  1   1  20   0   1   1   0  1.077  15.075  26.919  390.869\n",
       "6  11        11  0   1  27   0   1   1   1  1.077  15.075  26.919  390.869\n",
       "7  12        11  0   0  36   1   0   1   1  1.077  15.075  26.919  390.869\n",
       "8  13        11  0   0  33   1   0   1   1  1.077  15.075  26.919  390.869\n",
       "9  14        11  0   1  23   1   0   1   1  1.077  15.075  26.919  390.869"
      ]
     },
     "execution_count": 18,
     "metadata": {},
     "output_type": "execute_result"
    }
   ],
   "source": [
    "datatrain.head(10)"
   ]
  },
  {
   "cell_type": "code",
   "execution_count": 19,
   "metadata": {
    "ExecuteTime": {
     "end_time": "2021-11-16T17:20:55.732218Z",
     "start_time": "2021-11-16T17:20:54.823182Z"
    }
   },
   "outputs": [],
   "source": [
    "from sklearn.preprocessing import StandardScaler"
   ]
  },
  {
   "cell_type": "code",
   "execution_count": 20,
   "metadata": {
    "ExecuteTime": {
     "end_time": "2021-11-16T17:20:56.904956Z",
     "start_time": "2021-11-16T17:20:56.898950Z"
    }
   },
   "outputs": [],
   "source": [
    "#stdz = datatrain[['X2','Z1','Z2','Z3','Z4']]\n",
    "#stdz"
   ]
  },
  {
   "cell_type": "code",
   "execution_count": 21,
   "metadata": {
    "ExecuteTime": {
     "end_time": "2021-11-16T17:20:57.455096Z",
     "start_time": "2021-11-16T17:20:57.439096Z"
    }
   },
   "outputs": [],
   "source": [
    "#scaler = StandardScaler()\n",
    "#std_dataz = pd.DataFrame(scaler.fit_transform(stdz))\n",
    "\n",
    "#std_dataz.columns = stdz.columns\n",
    "#std_dataz"
   ]
  },
  {
   "cell_type": "code",
   "execution_count": 22,
   "metadata": {
    "ExecuteTime": {
     "end_time": "2021-11-16T17:20:57.978096Z",
     "start_time": "2021-11-16T17:20:57.969094Z"
    }
   },
   "outputs": [],
   "source": [
    "#datatrainstd = pd.concat([datatrain[[\"ID\",\"Provinsi\",\"Y\",\"X1\"]],std_dataz[\"X2\"],datatrain[[\"X3\",\"X4\",\"X5\",\"X6\"]], std_dataz[[\"Z1\",\"Z2\",\"Z3\",'Z4']]], axis=1)\n",
    "#datatrainstd"
   ]
  },
  {
   "cell_type": "markdown",
   "metadata": {},
   "source": [
    "### Dummies Prov"
   ]
  },
  {
   "cell_type": "code",
   "execution_count": 26,
   "metadata": {
    "ExecuteTime": {
     "end_time": "2021-11-16T17:21:33.734265Z",
     "start_time": "2021-11-16T17:21:33.717260Z"
    }
   },
   "outputs": [
    {
     "name": "stdout",
     "output_type": "stream",
     "text": [
      "Provinsi  Jumlah\n"
     ]
    },
    {
     "data": {
      "text/plain": [
       "11    631\n",
       "12    959\n",
       "13    503\n",
       "14    353\n",
       "15    236\n",
       "16    411\n",
       "17    214\n",
       "18    460\n",
       "19    167\n",
       "21    154\n",
       "31    193\n",
       "32    892\n",
       "33    966\n",
       "34     95\n",
       "35    953\n",
       "36    282\n",
       "51    210\n",
       "52    320\n",
       "53    648\n",
       "61    355\n",
       "62    326\n",
       "63    302\n",
       "64    236\n",
       "65    132\n",
       "71    289\n",
       "72    307\n",
       "73    666\n",
       "74    479\n",
       "75    132\n",
       "76    193\n",
       "81    344\n",
       "82    254\n",
       "91    379\n",
       "94    585\n",
       "Name: Provinsi, dtype: int64"
      ]
     },
     "execution_count": 26,
     "metadata": {},
     "output_type": "execute_result"
    }
   ],
   "source": [
    "print(\"Provinsi  Jumlah\")\n",
    "datatrain[\"Provinsi\"].value_counts(sort=False)"
   ]
  },
  {
   "cell_type": "code",
   "execution_count": 27,
   "metadata": {
    "ExecuteTime": {
     "end_time": "2021-11-16T17:21:35.550922Z",
     "start_time": "2021-11-16T17:21:35.545925Z"
    }
   },
   "outputs": [],
   "source": [
    "#prov = pd.get_dummies(datatrain[\"Provinsi\"])"
   ]
  },
  {
   "cell_type": "code",
   "execution_count": 28,
   "metadata": {
    "ExecuteTime": {
     "end_time": "2021-11-16T17:21:36.486695Z",
     "start_time": "2021-11-16T17:21:36.470697Z"
    }
   },
   "outputs": [],
   "source": [
    "#datatrain = pd.concat([prov,datatrain.drop(columns=\"Provinsi\")], axis=1)"
   ]
  },
  {
   "cell_type": "code",
   "execution_count": 29,
   "metadata": {
    "ExecuteTime": {
     "end_time": "2021-11-16T17:21:37.008693Z",
     "start_time": "2021-11-16T17:21:36.991702Z"
    }
   },
   "outputs": [],
   "source": [
    "#datatrain"
   ]
  },
  {
   "cell_type": "markdown",
   "metadata": {
    "id": "W7Sq_WFj4jca"
   },
   "source": [
    "# Define X and Y"
   ]
  },
  {
   "cell_type": "markdown",
   "metadata": {
    "heading_collapsed": true
   },
   "source": [
    "### Kategorisasi Umur Ibu"
   ]
  },
  {
   "cell_type": "code",
   "execution_count": 80,
   "metadata": {
    "ExecuteTime": {
     "end_time": "2021-11-16T18:10:00.834840Z",
     "start_time": "2021-11-16T18:10:00.806795Z"
    },
    "hidden": true,
    "scrolled": false
   },
   "outputs": [
    {
     "data": {
      "text/html": [
       "<div>\n",
       "<style scoped>\n",
       "    .dataframe tbody tr th:only-of-type {\n",
       "        vertical-align: middle;\n",
       "    }\n",
       "\n",
       "    .dataframe tbody tr th {\n",
       "        vertical-align: top;\n",
       "    }\n",
       "\n",
       "    .dataframe thead th {\n",
       "        text-align: right;\n",
       "    }\n",
       "</style>\n",
       "<table border=\"1\" class=\"dataframe\">\n",
       "  <thead>\n",
       "    <tr style=\"text-align: right;\">\n",
       "      <th></th>\n",
       "      <th>ID</th>\n",
       "      <th>Provinsi</th>\n",
       "      <th>Y</th>\n",
       "      <th>X1</th>\n",
       "      <th>X2</th>\n",
       "      <th>X3</th>\n",
       "      <th>X4</th>\n",
       "      <th>X5</th>\n",
       "      <th>X6</th>\n",
       "      <th>Z1</th>\n",
       "      <th>Z2</th>\n",
       "      <th>Z3</th>\n",
       "      <th>Z4</th>\n",
       "    </tr>\n",
       "  </thead>\n",
       "  <tbody>\n",
       "    <tr>\n",
       "      <th>0</th>\n",
       "      <td>1</td>\n",
       "      <td>11</td>\n",
       "      <td>0</td>\n",
       "      <td>1</td>\n",
       "      <td>27</td>\n",
       "      <td>0</td>\n",
       "      <td>0</td>\n",
       "      <td>1</td>\n",
       "      <td>1</td>\n",
       "      <td>1.077</td>\n",
       "      <td>15.075</td>\n",
       "      <td>26.919</td>\n",
       "      <td>390.869</td>\n",
       "    </tr>\n",
       "    <tr>\n",
       "      <th>3</th>\n",
       "      <td>7</td>\n",
       "      <td>11</td>\n",
       "      <td>0</td>\n",
       "      <td>0</td>\n",
       "      <td>27</td>\n",
       "      <td>0</td>\n",
       "      <td>0</td>\n",
       "      <td>1</td>\n",
       "      <td>1</td>\n",
       "      <td>1.077</td>\n",
       "      <td>15.075</td>\n",
       "      <td>26.919</td>\n",
       "      <td>390.869</td>\n",
       "    </tr>\n",
       "    <tr>\n",
       "      <th>5</th>\n",
       "      <td>9</td>\n",
       "      <td>11</td>\n",
       "      <td>1</td>\n",
       "      <td>1</td>\n",
       "      <td>20</td>\n",
       "      <td>0</td>\n",
       "      <td>1</td>\n",
       "      <td>1</td>\n",
       "      <td>0</td>\n",
       "      <td>1.077</td>\n",
       "      <td>15.075</td>\n",
       "      <td>26.919</td>\n",
       "      <td>390.869</td>\n",
       "    </tr>\n",
       "    <tr>\n",
       "      <th>6</th>\n",
       "      <td>11</td>\n",
       "      <td>11</td>\n",
       "      <td>0</td>\n",
       "      <td>1</td>\n",
       "      <td>27</td>\n",
       "      <td>0</td>\n",
       "      <td>1</td>\n",
       "      <td>1</td>\n",
       "      <td>1</td>\n",
       "      <td>1.077</td>\n",
       "      <td>15.075</td>\n",
       "      <td>26.919</td>\n",
       "      <td>390.869</td>\n",
       "    </tr>\n",
       "    <tr>\n",
       "      <th>9</th>\n",
       "      <td>14</td>\n",
       "      <td>11</td>\n",
       "      <td>0</td>\n",
       "      <td>1</td>\n",
       "      <td>23</td>\n",
       "      <td>1</td>\n",
       "      <td>0</td>\n",
       "      <td>1</td>\n",
       "      <td>1</td>\n",
       "      <td>1.077</td>\n",
       "      <td>15.075</td>\n",
       "      <td>26.919</td>\n",
       "      <td>390.869</td>\n",
       "    </tr>\n",
       "    <tr>\n",
       "      <th>...</th>\n",
       "      <td>...</td>\n",
       "      <td>...</td>\n",
       "      <td>...</td>\n",
       "      <td>...</td>\n",
       "      <td>...</td>\n",
       "      <td>...</td>\n",
       "      <td>...</td>\n",
       "      <td>...</td>\n",
       "      <td>...</td>\n",
       "      <td>...</td>\n",
       "      <td>...</td>\n",
       "      <td>...</td>\n",
       "      <td>...</td>\n",
       "    </tr>\n",
       "    <tr>\n",
       "      <th>13611</th>\n",
       "      <td>19512</td>\n",
       "      <td>94</td>\n",
       "      <td>0</td>\n",
       "      <td>0</td>\n",
       "      <td>27</td>\n",
       "      <td>1</td>\n",
       "      <td>0</td>\n",
       "      <td>1</td>\n",
       "      <td>1</td>\n",
       "      <td>1.757</td>\n",
       "      <td>3.262</td>\n",
       "      <td>48.936</td>\n",
       "      <td>209.045</td>\n",
       "    </tr>\n",
       "    <tr>\n",
       "      <th>13613</th>\n",
       "      <td>19516</td>\n",
       "      <td>94</td>\n",
       "      <td>1</td>\n",
       "      <td>0</td>\n",
       "      <td>27</td>\n",
       "      <td>1</td>\n",
       "      <td>0</td>\n",
       "      <td>1</td>\n",
       "      <td>1</td>\n",
       "      <td>1.757</td>\n",
       "      <td>3.262</td>\n",
       "      <td>48.936</td>\n",
       "      <td>209.045</td>\n",
       "    </tr>\n",
       "    <tr>\n",
       "      <th>13621</th>\n",
       "      <td>19524</td>\n",
       "      <td>94</td>\n",
       "      <td>1</td>\n",
       "      <td>0</td>\n",
       "      <td>28</td>\n",
       "      <td>1</td>\n",
       "      <td>0</td>\n",
       "      <td>1</td>\n",
       "      <td>1</td>\n",
       "      <td>1.757</td>\n",
       "      <td>3.262</td>\n",
       "      <td>48.936</td>\n",
       "      <td>209.045</td>\n",
       "    </tr>\n",
       "    <tr>\n",
       "      <th>13622</th>\n",
       "      <td>19526</td>\n",
       "      <td>94</td>\n",
       "      <td>0</td>\n",
       "      <td>1</td>\n",
       "      <td>22</td>\n",
       "      <td>1</td>\n",
       "      <td>1</td>\n",
       "      <td>1</td>\n",
       "      <td>1</td>\n",
       "      <td>1.757</td>\n",
       "      <td>3.262</td>\n",
       "      <td>48.936</td>\n",
       "      <td>209.045</td>\n",
       "    </tr>\n",
       "    <tr>\n",
       "      <th>13624</th>\n",
       "      <td>19529</td>\n",
       "      <td>94</td>\n",
       "      <td>0</td>\n",
       "      <td>0</td>\n",
       "      <td>27</td>\n",
       "      <td>1</td>\n",
       "      <td>0</td>\n",
       "      <td>1</td>\n",
       "      <td>1</td>\n",
       "      <td>1.757</td>\n",
       "      <td>3.262</td>\n",
       "      <td>48.936</td>\n",
       "      <td>209.045</td>\n",
       "    </tr>\n",
       "  </tbody>\n",
       "</table>\n",
       "<p>6344 rows × 13 columns</p>\n",
       "</div>"
      ],
      "text/plain": [
       "          ID  Provinsi  Y  X1  X2  X3  X4  X5  X6     Z1      Z2      Z3  \\\n",
       "0          1        11  0   1  27   0   0   1   1  1.077  15.075  26.919   \n",
       "3          7        11  0   0  27   0   0   1   1  1.077  15.075  26.919   \n",
       "5          9        11  1   1  20   0   1   1   0  1.077  15.075  26.919   \n",
       "6         11        11  0   1  27   0   1   1   1  1.077  15.075  26.919   \n",
       "9         14        11  0   1  23   1   0   1   1  1.077  15.075  26.919   \n",
       "...      ...       ... ..  ..  ..  ..  ..  ..  ..    ...     ...     ...   \n",
       "13611  19512        94  0   0  27   1   0   1   1  1.757   3.262  48.936   \n",
       "13613  19516        94  1   0  27   1   0   1   1  1.757   3.262  48.936   \n",
       "13621  19524        94  1   0  28   1   0   1   1  1.757   3.262  48.936   \n",
       "13622  19526        94  0   1  22   1   1   1   1  1.757   3.262  48.936   \n",
       "13624  19529        94  0   0  27   1   0   1   1  1.757   3.262  48.936   \n",
       "\n",
       "            Z4  \n",
       "0      390.869  \n",
       "3      390.869  \n",
       "5      390.869  \n",
       "6      390.869  \n",
       "9      390.869  \n",
       "...        ...  \n",
       "13611  209.045  \n",
       "13613  209.045  \n",
       "13621  209.045  \n",
       "13622  209.045  \n",
       "13624  209.045  \n",
       "\n",
       "[6344 rows x 13 columns]"
      ]
     },
     "execution_count": 80,
     "metadata": {},
     "output_type": "execute_result"
    }
   ],
   "source": [
    "datatrainyoung = datatrain[datatrain[\"X2\"] < 30]\n",
    "datatrainyoung"
   ]
  },
  {
   "cell_type": "code",
   "execution_count": 72,
   "metadata": {
    "ExecuteTime": {
     "end_time": "2021-11-16T18:05:57.520395Z",
     "start_time": "2021-11-16T18:05:57.492399Z"
    },
    "hidden": true
   },
   "outputs": [
    {
     "data": {
      "text/html": [
       "<div>\n",
       "<style scoped>\n",
       "    .dataframe tbody tr th:only-of-type {\n",
       "        vertical-align: middle;\n",
       "    }\n",
       "\n",
       "    .dataframe tbody tr th {\n",
       "        vertical-align: top;\n",
       "    }\n",
       "\n",
       "    .dataframe thead th {\n",
       "        text-align: right;\n",
       "    }\n",
       "</style>\n",
       "<table border=\"1\" class=\"dataframe\">\n",
       "  <thead>\n",
       "    <tr style=\"text-align: right;\">\n",
       "      <th></th>\n",
       "      <th>ID</th>\n",
       "      <th>Provinsi</th>\n",
       "      <th>X1</th>\n",
       "      <th>Z3</th>\n",
       "      <th>X4</th>\n",
       "      <th>X5</th>\n",
       "      <th>X6</th>\n",
       "    </tr>\n",
       "  </thead>\n",
       "  <tbody>\n",
       "    <tr>\n",
       "      <th>0</th>\n",
       "      <td>1</td>\n",
       "      <td>11</td>\n",
       "      <td>1</td>\n",
       "      <td>26.919</td>\n",
       "      <td>0</td>\n",
       "      <td>1</td>\n",
       "      <td>1</td>\n",
       "    </tr>\n",
       "    <tr>\n",
       "      <th>3</th>\n",
       "      <td>7</td>\n",
       "      <td>11</td>\n",
       "      <td>0</td>\n",
       "      <td>26.919</td>\n",
       "      <td>0</td>\n",
       "      <td>1</td>\n",
       "      <td>1</td>\n",
       "    </tr>\n",
       "    <tr>\n",
       "      <th>5</th>\n",
       "      <td>9</td>\n",
       "      <td>11</td>\n",
       "      <td>1</td>\n",
       "      <td>26.919</td>\n",
       "      <td>1</td>\n",
       "      <td>1</td>\n",
       "      <td>0</td>\n",
       "    </tr>\n",
       "    <tr>\n",
       "      <th>6</th>\n",
       "      <td>11</td>\n",
       "      <td>11</td>\n",
       "      <td>1</td>\n",
       "      <td>26.919</td>\n",
       "      <td>1</td>\n",
       "      <td>1</td>\n",
       "      <td>1</td>\n",
       "    </tr>\n",
       "    <tr>\n",
       "      <th>9</th>\n",
       "      <td>14</td>\n",
       "      <td>11</td>\n",
       "      <td>1</td>\n",
       "      <td>26.919</td>\n",
       "      <td>0</td>\n",
       "      <td>1</td>\n",
       "      <td>1</td>\n",
       "    </tr>\n",
       "    <tr>\n",
       "      <th>...</th>\n",
       "      <td>...</td>\n",
       "      <td>...</td>\n",
       "      <td>...</td>\n",
       "      <td>...</td>\n",
       "      <td>...</td>\n",
       "      <td>...</td>\n",
       "      <td>...</td>\n",
       "    </tr>\n",
       "    <tr>\n",
       "      <th>13611</th>\n",
       "      <td>19512</td>\n",
       "      <td>94</td>\n",
       "      <td>0</td>\n",
       "      <td>48.936</td>\n",
       "      <td>0</td>\n",
       "      <td>1</td>\n",
       "      <td>1</td>\n",
       "    </tr>\n",
       "    <tr>\n",
       "      <th>13613</th>\n",
       "      <td>19516</td>\n",
       "      <td>94</td>\n",
       "      <td>0</td>\n",
       "      <td>48.936</td>\n",
       "      <td>0</td>\n",
       "      <td>1</td>\n",
       "      <td>1</td>\n",
       "    </tr>\n",
       "    <tr>\n",
       "      <th>13621</th>\n",
       "      <td>19524</td>\n",
       "      <td>94</td>\n",
       "      <td>0</td>\n",
       "      <td>48.936</td>\n",
       "      <td>0</td>\n",
       "      <td>1</td>\n",
       "      <td>1</td>\n",
       "    </tr>\n",
       "    <tr>\n",
       "      <th>13622</th>\n",
       "      <td>19526</td>\n",
       "      <td>94</td>\n",
       "      <td>1</td>\n",
       "      <td>48.936</td>\n",
       "      <td>1</td>\n",
       "      <td>1</td>\n",
       "      <td>1</td>\n",
       "    </tr>\n",
       "    <tr>\n",
       "      <th>13624</th>\n",
       "      <td>19529</td>\n",
       "      <td>94</td>\n",
       "      <td>0</td>\n",
       "      <td>48.936</td>\n",
       "      <td>0</td>\n",
       "      <td>1</td>\n",
       "      <td>1</td>\n",
       "    </tr>\n",
       "  </tbody>\n",
       "</table>\n",
       "<p>6344 rows × 7 columns</p>\n",
       "</div>"
      ],
      "text/plain": [
       "          ID  Provinsi  X1      Z3  X4  X5  X6\n",
       "0          1        11   1  26.919   0   1   1\n",
       "3          7        11   0  26.919   0   1   1\n",
       "5          9        11   1  26.919   1   1   0\n",
       "6         11        11   1  26.919   1   1   1\n",
       "9         14        11   1  26.919   0   1   1\n",
       "...      ...       ...  ..     ...  ..  ..  ..\n",
       "13611  19512        94   0  48.936   0   1   1\n",
       "13613  19516        94   0  48.936   0   1   1\n",
       "13621  19524        94   0  48.936   0   1   1\n",
       "13622  19526        94   1  48.936   1   1   1\n",
       "13624  19529        94   0  48.936   0   1   1\n",
       "\n",
       "[6344 rows x 7 columns]"
      ]
     },
     "execution_count": 72,
     "metadata": {},
     "output_type": "execute_result"
    }
   ],
   "source": [
    "otherdatatrainyoung = datatrainyoung[['ID','Provinsi','X1','Z3','X4','X5','X6']]\n",
    "otherdatatrainyoung"
   ]
  },
  {
   "cell_type": "code",
   "execution_count": 73,
   "metadata": {
    "ExecuteTime": {
     "end_time": "2021-11-16T18:05:59.635048Z",
     "start_time": "2021-11-16T18:05:59.605045Z"
    },
    "hidden": true
   },
   "outputs": [
    {
     "data": {
      "text/html": [
       "<div>\n",
       "<style scoped>\n",
       "    .dataframe tbody tr th:only-of-type {\n",
       "        vertical-align: middle;\n",
       "    }\n",
       "\n",
       "    .dataframe tbody tr th {\n",
       "        vertical-align: top;\n",
       "    }\n",
       "\n",
       "    .dataframe thead th {\n",
       "        text-align: right;\n",
       "    }\n",
       "</style>\n",
       "<table border=\"1\" class=\"dataframe\">\n",
       "  <thead>\n",
       "    <tr style=\"text-align: right;\">\n",
       "      <th></th>\n",
       "      <th>X2</th>\n",
       "      <th>Z1</th>\n",
       "      <th>Z2</th>\n",
       "      <th>Z3</th>\n",
       "      <th>Z4</th>\n",
       "    </tr>\n",
       "  </thead>\n",
       "  <tbody>\n",
       "    <tr>\n",
       "      <th>0</th>\n",
       "      <td>27</td>\n",
       "      <td>1.077</td>\n",
       "      <td>15.075</td>\n",
       "      <td>26.919</td>\n",
       "      <td>390.869</td>\n",
       "    </tr>\n",
       "    <tr>\n",
       "      <th>3</th>\n",
       "      <td>27</td>\n",
       "      <td>1.077</td>\n",
       "      <td>15.075</td>\n",
       "      <td>26.919</td>\n",
       "      <td>390.869</td>\n",
       "    </tr>\n",
       "    <tr>\n",
       "      <th>5</th>\n",
       "      <td>20</td>\n",
       "      <td>1.077</td>\n",
       "      <td>15.075</td>\n",
       "      <td>26.919</td>\n",
       "      <td>390.869</td>\n",
       "    </tr>\n",
       "    <tr>\n",
       "      <th>6</th>\n",
       "      <td>27</td>\n",
       "      <td>1.077</td>\n",
       "      <td>15.075</td>\n",
       "      <td>26.919</td>\n",
       "      <td>390.869</td>\n",
       "    </tr>\n",
       "    <tr>\n",
       "      <th>9</th>\n",
       "      <td>23</td>\n",
       "      <td>1.077</td>\n",
       "      <td>15.075</td>\n",
       "      <td>26.919</td>\n",
       "      <td>390.869</td>\n",
       "    </tr>\n",
       "    <tr>\n",
       "      <th>...</th>\n",
       "      <td>...</td>\n",
       "      <td>...</td>\n",
       "      <td>...</td>\n",
       "      <td>...</td>\n",
       "      <td>...</td>\n",
       "    </tr>\n",
       "    <tr>\n",
       "      <th>13611</th>\n",
       "      <td>27</td>\n",
       "      <td>1.757</td>\n",
       "      <td>3.262</td>\n",
       "      <td>48.936</td>\n",
       "      <td>209.045</td>\n",
       "    </tr>\n",
       "    <tr>\n",
       "      <th>13613</th>\n",
       "      <td>27</td>\n",
       "      <td>1.757</td>\n",
       "      <td>3.262</td>\n",
       "      <td>48.936</td>\n",
       "      <td>209.045</td>\n",
       "    </tr>\n",
       "    <tr>\n",
       "      <th>13621</th>\n",
       "      <td>28</td>\n",
       "      <td>1.757</td>\n",
       "      <td>3.262</td>\n",
       "      <td>48.936</td>\n",
       "      <td>209.045</td>\n",
       "    </tr>\n",
       "    <tr>\n",
       "      <th>13622</th>\n",
       "      <td>22</td>\n",
       "      <td>1.757</td>\n",
       "      <td>3.262</td>\n",
       "      <td>48.936</td>\n",
       "      <td>209.045</td>\n",
       "    </tr>\n",
       "    <tr>\n",
       "      <th>13624</th>\n",
       "      <td>27</td>\n",
       "      <td>1.757</td>\n",
       "      <td>3.262</td>\n",
       "      <td>48.936</td>\n",
       "      <td>209.045</td>\n",
       "    </tr>\n",
       "  </tbody>\n",
       "</table>\n",
       "<p>6344 rows × 5 columns</p>\n",
       "</div>"
      ],
      "text/plain": [
       "       X2     Z1      Z2      Z3       Z4\n",
       "0      27  1.077  15.075  26.919  390.869\n",
       "3      27  1.077  15.075  26.919  390.869\n",
       "5      20  1.077  15.075  26.919  390.869\n",
       "6      27  1.077  15.075  26.919  390.869\n",
       "9      23  1.077  15.075  26.919  390.869\n",
       "...    ..    ...     ...     ...      ...\n",
       "13611  27  1.757   3.262  48.936  209.045\n",
       "13613  27  1.757   3.262  48.936  209.045\n",
       "13621  28  1.757   3.262  48.936  209.045\n",
       "13622  22  1.757   3.262  48.936  209.045\n",
       "13624  27  1.757   3.262  48.936  209.045\n",
       "\n",
       "[6344 rows x 5 columns]"
      ]
     },
     "execution_count": 73,
     "metadata": {},
     "output_type": "execute_result"
    }
   ],
   "source": [
    "stdzdatatrainyoung = datatrainyoung[['X2','Z1','Z2','Z3','Z4']]\n",
    "stdzdatatrainyoung"
   ]
  },
  {
   "cell_type": "code",
   "execution_count": 74,
   "metadata": {
    "ExecuteTime": {
     "end_time": "2021-11-16T18:06:01.216737Z",
     "start_time": "2021-11-16T18:06:01.195673Z"
    },
    "hidden": true,
    "scrolled": false
   },
   "outputs": [
    {
     "data": {
      "text/html": [
       "<div>\n",
       "<style scoped>\n",
       "    .dataframe tbody tr th:only-of-type {\n",
       "        vertical-align: middle;\n",
       "    }\n",
       "\n",
       "    .dataframe tbody tr th {\n",
       "        vertical-align: top;\n",
       "    }\n",
       "\n",
       "    .dataframe thead th {\n",
       "        text-align: right;\n",
       "    }\n",
       "</style>\n",
       "<table border=\"1\" class=\"dataframe\">\n",
       "  <thead>\n",
       "    <tr style=\"text-align: right;\">\n",
       "      <th></th>\n",
       "      <th>X2</th>\n",
       "      <th>Z1</th>\n",
       "      <th>Z2</th>\n",
       "      <th>Z3</th>\n",
       "      <th>Z4</th>\n",
       "    </tr>\n",
       "  </thead>\n",
       "  <tbody>\n",
       "    <tr>\n",
       "      <th>0</th>\n",
       "      <td>0.706340</td>\n",
       "      <td>-0.128906</td>\n",
       "      <td>1.441767</td>\n",
       "      <td>-0.250564</td>\n",
       "      <td>1.390522</td>\n",
       "    </tr>\n",
       "    <tr>\n",
       "      <th>1</th>\n",
       "      <td>0.706340</td>\n",
       "      <td>-0.128906</td>\n",
       "      <td>1.441767</td>\n",
       "      <td>-0.250564</td>\n",
       "      <td>1.390522</td>\n",
       "    </tr>\n",
       "    <tr>\n",
       "      <th>2</th>\n",
       "      <td>-1.544136</td>\n",
       "      <td>-0.128906</td>\n",
       "      <td>1.441767</td>\n",
       "      <td>-0.250564</td>\n",
       "      <td>1.390522</td>\n",
       "    </tr>\n",
       "    <tr>\n",
       "      <th>3</th>\n",
       "      <td>0.706340</td>\n",
       "      <td>-0.128906</td>\n",
       "      <td>1.441767</td>\n",
       "      <td>-0.250564</td>\n",
       "      <td>1.390522</td>\n",
       "    </tr>\n",
       "    <tr>\n",
       "      <th>4</th>\n",
       "      <td>-0.579646</td>\n",
       "      <td>-0.128906</td>\n",
       "      <td>1.441767</td>\n",
       "      <td>-0.250564</td>\n",
       "      <td>1.390522</td>\n",
       "    </tr>\n",
       "    <tr>\n",
       "      <th>...</th>\n",
       "      <td>...</td>\n",
       "      <td>...</td>\n",
       "      <td>...</td>\n",
       "      <td>...</td>\n",
       "      <td>...</td>\n",
       "    </tr>\n",
       "    <tr>\n",
       "      <th>6339</th>\n",
       "      <td>0.706340</td>\n",
       "      <td>0.516685</td>\n",
       "      <td>-0.647640</td>\n",
       "      <td>0.411891</td>\n",
       "      <td>0.081560</td>\n",
       "    </tr>\n",
       "    <tr>\n",
       "      <th>6340</th>\n",
       "      <td>0.706340</td>\n",
       "      <td>0.516685</td>\n",
       "      <td>-0.647640</td>\n",
       "      <td>0.411891</td>\n",
       "      <td>0.081560</td>\n",
       "    </tr>\n",
       "    <tr>\n",
       "      <th>6341</th>\n",
       "      <td>1.027836</td>\n",
       "      <td>0.516685</td>\n",
       "      <td>-0.647640</td>\n",
       "      <td>0.411891</td>\n",
       "      <td>0.081560</td>\n",
       "    </tr>\n",
       "    <tr>\n",
       "      <th>6342</th>\n",
       "      <td>-0.901143</td>\n",
       "      <td>0.516685</td>\n",
       "      <td>-0.647640</td>\n",
       "      <td>0.411891</td>\n",
       "      <td>0.081560</td>\n",
       "    </tr>\n",
       "    <tr>\n",
       "      <th>6343</th>\n",
       "      <td>0.706340</td>\n",
       "      <td>0.516685</td>\n",
       "      <td>-0.647640</td>\n",
       "      <td>0.411891</td>\n",
       "      <td>0.081560</td>\n",
       "    </tr>\n",
       "  </tbody>\n",
       "</table>\n",
       "<p>6344 rows × 5 columns</p>\n",
       "</div>"
      ],
      "text/plain": [
       "            X2        Z1        Z2        Z3        Z4\n",
       "0     0.706340 -0.128906  1.441767 -0.250564  1.390522\n",
       "1     0.706340 -0.128906  1.441767 -0.250564  1.390522\n",
       "2    -1.544136 -0.128906  1.441767 -0.250564  1.390522\n",
       "3     0.706340 -0.128906  1.441767 -0.250564  1.390522\n",
       "4    -0.579646 -0.128906  1.441767 -0.250564  1.390522\n",
       "...        ...       ...       ...       ...       ...\n",
       "6339  0.706340  0.516685 -0.647640  0.411891  0.081560\n",
       "6340  0.706340  0.516685 -0.647640  0.411891  0.081560\n",
       "6341  1.027836  0.516685 -0.647640  0.411891  0.081560\n",
       "6342 -0.901143  0.516685 -0.647640  0.411891  0.081560\n",
       "6343  0.706340  0.516685 -0.647640  0.411891  0.081560\n",
       "\n",
       "[6344 rows x 5 columns]"
      ]
     },
     "execution_count": 74,
     "metadata": {},
     "output_type": "execute_result"
    }
   ],
   "source": [
    "scaler = StandardScaler()\n",
    "std_datazyoung = pd.DataFrame(scaler.fit_transform(stdzdatatrainyoung))\n",
    "\n",
    "std_datazyoung.columns = stdzdatatrainyoung.columns\n",
    "std_datazyoung"
   ]
  },
  {
   "cell_type": "code",
   "execution_count": 78,
   "metadata": {
    "ExecuteTime": {
     "end_time": "2021-11-16T18:08:07.645376Z",
     "start_time": "2021-11-16T18:08:07.609377Z"
    },
    "hidden": true,
    "scrolled": false
   },
   "outputs": [
    {
     "ename": "ValueError",
     "evalue": "Index data must be 1-dimensional",
     "output_type": "error",
     "traceback": [
      "\u001b[1;31m---------------------------------------------------------------------------\u001b[0m",
      "\u001b[1;31mValueError\u001b[0m                                Traceback (most recent call last)",
      "\u001b[1;32m~\\AppData\\Local\\Temp/ipykernel_10548/2396436892.py\u001b[0m in \u001b[0;36m<module>\u001b[1;34m\u001b[0m\n\u001b[0;32m      1\u001b[0m \u001b[1;31m#datatrainyoungstd = pd.concat([datatrainyoung[[\"ID\",\"Provinsi\",\"Y\",\"X1\"]],std_datazyoung[\"X2\"].reindex(datatrainyoung.index),datatrainyoung[[\"X3\",\"X4\",\"X5\",\"X6\"]], std_datazyoung[[\"Z1\",\"Z2\",\"Z3\",'Z4']].reindex(datatrainyoung.index)], axis=1)\u001b[0m\u001b[1;33m\u001b[0m\u001b[1;33m\u001b[0m\u001b[1;33m\u001b[0m\u001b[0m\n\u001b[1;32m----> 2\u001b[1;33m \u001b[0mdatatrainyoungstd\u001b[0m \u001b[1;33m=\u001b[0m \u001b[0mpd\u001b[0m\u001b[1;33m.\u001b[0m\u001b[0mconcat\u001b[0m\u001b[1;33m(\u001b[0m\u001b[1;33m[\u001b[0m\u001b[0motherdatatrainyoung\u001b[0m\u001b[1;33m.\u001b[0m\u001b[0mreindex\u001b[0m\u001b[1;33m(\u001b[0m\u001b[0mstd_datazyoung\u001b[0m\u001b[1;33m)\u001b[0m\u001b[1;33m,\u001b[0m\u001b[0mstd_datazyoung\u001b[0m\u001b[1;33m]\u001b[0m\u001b[1;33m,\u001b[0m\u001b[0maxis\u001b[0m\u001b[1;33m=\u001b[0m\u001b[1;36m1\u001b[0m\u001b[1;33m)\u001b[0m\u001b[1;33m\u001b[0m\u001b[1;33m\u001b[0m\u001b[0m\n\u001b[0m\u001b[0;32m      3\u001b[0m \u001b[0mdatatrainyoungstd\u001b[0m\u001b[1;33m\u001b[0m\u001b[1;33m\u001b[0m\u001b[0m\n",
      "\u001b[1;32m~\\anaconda3\\lib\\site-packages\\pandas\\util\\_decorators.py\u001b[0m in \u001b[0;36mwrapper\u001b[1;34m(*args, **kwargs)\u001b[0m\n\u001b[0;32m    322\u001b[0m         \u001b[1;33m@\u001b[0m\u001b[0mwraps\u001b[0m\u001b[1;33m(\u001b[0m\u001b[0mfunc\u001b[0m\u001b[1;33m)\u001b[0m\u001b[1;33m\u001b[0m\u001b[1;33m\u001b[0m\u001b[0m\n\u001b[0;32m    323\u001b[0m         \u001b[1;32mdef\u001b[0m \u001b[0mwrapper\u001b[0m\u001b[1;33m(\u001b[0m\u001b[1;33m*\u001b[0m\u001b[0margs\u001b[0m\u001b[1;33m,\u001b[0m \u001b[1;33m**\u001b[0m\u001b[0mkwargs\u001b[0m\u001b[1;33m)\u001b[0m \u001b[1;33m->\u001b[0m \u001b[0mCallable\u001b[0m\u001b[1;33m[\u001b[0m\u001b[1;33m...\u001b[0m\u001b[1;33m,\u001b[0m \u001b[0mAny\u001b[0m\u001b[1;33m]\u001b[0m\u001b[1;33m:\u001b[0m\u001b[1;33m\u001b[0m\u001b[1;33m\u001b[0m\u001b[0m\n\u001b[1;32m--> 324\u001b[1;33m             \u001b[1;32mreturn\u001b[0m \u001b[0mfunc\u001b[0m\u001b[1;33m(\u001b[0m\u001b[1;33m*\u001b[0m\u001b[0margs\u001b[0m\u001b[1;33m,\u001b[0m \u001b[1;33m**\u001b[0m\u001b[0mkwargs\u001b[0m\u001b[1;33m)\u001b[0m\u001b[1;33m\u001b[0m\u001b[1;33m\u001b[0m\u001b[0m\n\u001b[0m\u001b[0;32m    325\u001b[0m \u001b[1;33m\u001b[0m\u001b[0m\n\u001b[0;32m    326\u001b[0m         \u001b[0mkind\u001b[0m \u001b[1;33m=\u001b[0m \u001b[0minspect\u001b[0m\u001b[1;33m.\u001b[0m\u001b[0mParameter\u001b[0m\u001b[1;33m.\u001b[0m\u001b[0mPOSITIONAL_OR_KEYWORD\u001b[0m\u001b[1;33m\u001b[0m\u001b[1;33m\u001b[0m\u001b[0m\n",
      "\u001b[1;32m~\\anaconda3\\lib\\site-packages\\pandas\\core\\frame.py\u001b[0m in \u001b[0;36mreindex\u001b[1;34m(self, *args, **kwargs)\u001b[0m\n\u001b[0;32m   4770\u001b[0m         \u001b[0mkwargs\u001b[0m\u001b[1;33m.\u001b[0m\u001b[0mpop\u001b[0m\u001b[1;33m(\u001b[0m\u001b[1;34m\"axis\"\u001b[0m\u001b[1;33m,\u001b[0m \u001b[1;32mNone\u001b[0m\u001b[1;33m)\u001b[0m\u001b[1;33m\u001b[0m\u001b[1;33m\u001b[0m\u001b[0m\n\u001b[0;32m   4771\u001b[0m         \u001b[0mkwargs\u001b[0m\u001b[1;33m.\u001b[0m\u001b[0mpop\u001b[0m\u001b[1;33m(\u001b[0m\u001b[1;34m\"labels\"\u001b[0m\u001b[1;33m,\u001b[0m \u001b[1;32mNone\u001b[0m\u001b[1;33m)\u001b[0m\u001b[1;33m\u001b[0m\u001b[1;33m\u001b[0m\u001b[0m\n\u001b[1;32m-> 4772\u001b[1;33m         \u001b[1;32mreturn\u001b[0m \u001b[0msuper\u001b[0m\u001b[1;33m(\u001b[0m\u001b[1;33m)\u001b[0m\u001b[1;33m.\u001b[0m\u001b[0mreindex\u001b[0m\u001b[1;33m(\u001b[0m\u001b[1;33m**\u001b[0m\u001b[0mkwargs\u001b[0m\u001b[1;33m)\u001b[0m\u001b[1;33m\u001b[0m\u001b[1;33m\u001b[0m\u001b[0m\n\u001b[0m\u001b[0;32m   4773\u001b[0m \u001b[1;33m\u001b[0m\u001b[0m\n\u001b[0;32m   4774\u001b[0m     \u001b[1;33m@\u001b[0m\u001b[0mdeprecate_nonkeyword_arguments\u001b[0m\u001b[1;33m(\u001b[0m\u001b[0mversion\u001b[0m\u001b[1;33m=\u001b[0m\u001b[1;32mNone\u001b[0m\u001b[1;33m,\u001b[0m \u001b[0mallowed_args\u001b[0m\u001b[1;33m=\u001b[0m\u001b[1;33m[\u001b[0m\u001b[1;34m\"self\"\u001b[0m\u001b[1;33m,\u001b[0m \u001b[1;34m\"labels\"\u001b[0m\u001b[1;33m]\u001b[0m\u001b[1;33m)\u001b[0m\u001b[1;33m\u001b[0m\u001b[1;33m\u001b[0m\u001b[0m\n",
      "\u001b[1;32m~\\anaconda3\\lib\\site-packages\\pandas\\core\\generic.py\u001b[0m in \u001b[0;36mreindex\u001b[1;34m(self, *args, **kwargs)\u001b[0m\n\u001b[0;32m   4816\u001b[0m \u001b[1;33m\u001b[0m\u001b[0m\n\u001b[0;32m   4817\u001b[0m         \u001b[1;31m# perform the reindex on the axes\u001b[0m\u001b[1;33m\u001b[0m\u001b[1;33m\u001b[0m\u001b[1;33m\u001b[0m\u001b[0m\n\u001b[1;32m-> 4818\u001b[1;33m         return self._reindex_axes(\n\u001b[0m\u001b[0;32m   4819\u001b[0m             \u001b[0maxes\u001b[0m\u001b[1;33m,\u001b[0m \u001b[0mlevel\u001b[0m\u001b[1;33m,\u001b[0m \u001b[0mlimit\u001b[0m\u001b[1;33m,\u001b[0m \u001b[0mtolerance\u001b[0m\u001b[1;33m,\u001b[0m \u001b[0mmethod\u001b[0m\u001b[1;33m,\u001b[0m \u001b[0mfill_value\u001b[0m\u001b[1;33m,\u001b[0m \u001b[0mcopy\u001b[0m\u001b[1;33m\u001b[0m\u001b[1;33m\u001b[0m\u001b[0m\n\u001b[0;32m   4820\u001b[0m         ).__finalize__(self, method=\"reindex\")\n",
      "\u001b[1;32m~\\anaconda3\\lib\\site-packages\\pandas\\core\\frame.py\u001b[0m in \u001b[0;36m_reindex_axes\u001b[1;34m(self, axes, level, limit, tolerance, method, fill_value, copy)\u001b[0m\n\u001b[0;32m   4595\u001b[0m         \u001b[0mindex\u001b[0m \u001b[1;33m=\u001b[0m \u001b[0maxes\u001b[0m\u001b[1;33m[\u001b[0m\u001b[1;34m\"index\"\u001b[0m\u001b[1;33m]\u001b[0m\u001b[1;33m\u001b[0m\u001b[1;33m\u001b[0m\u001b[0m\n\u001b[0;32m   4596\u001b[0m         \u001b[1;32mif\u001b[0m \u001b[0mindex\u001b[0m \u001b[1;32mis\u001b[0m \u001b[1;32mnot\u001b[0m \u001b[1;32mNone\u001b[0m\u001b[1;33m:\u001b[0m\u001b[1;33m\u001b[0m\u001b[1;33m\u001b[0m\u001b[0m\n\u001b[1;32m-> 4597\u001b[1;33m             frame = frame._reindex_index(\n\u001b[0m\u001b[0;32m   4598\u001b[0m                 \u001b[0mindex\u001b[0m\u001b[1;33m,\u001b[0m \u001b[0mmethod\u001b[0m\u001b[1;33m,\u001b[0m \u001b[0mcopy\u001b[0m\u001b[1;33m,\u001b[0m \u001b[0mlevel\u001b[0m\u001b[1;33m,\u001b[0m \u001b[0mfill_value\u001b[0m\u001b[1;33m,\u001b[0m \u001b[0mlimit\u001b[0m\u001b[1;33m,\u001b[0m \u001b[0mtolerance\u001b[0m\u001b[1;33m\u001b[0m\u001b[1;33m\u001b[0m\u001b[0m\n\u001b[0;32m   4599\u001b[0m             )\n",
      "\u001b[1;32m~\\anaconda3\\lib\\site-packages\\pandas\\core\\frame.py\u001b[0m in \u001b[0;36m_reindex_index\u001b[1;34m(self, new_index, method, copy, level, fill_value, limit, tolerance)\u001b[0m\n\u001b[0;32m   4611\u001b[0m         \u001b[0mtolerance\u001b[0m\u001b[1;33m=\u001b[0m\u001b[1;32mNone\u001b[0m\u001b[1;33m,\u001b[0m\u001b[1;33m\u001b[0m\u001b[1;33m\u001b[0m\u001b[0m\n\u001b[0;32m   4612\u001b[0m     ):\n\u001b[1;32m-> 4613\u001b[1;33m         new_index, indexer = self.index.reindex(\n\u001b[0m\u001b[0;32m   4614\u001b[0m             \u001b[0mnew_index\u001b[0m\u001b[1;33m,\u001b[0m \u001b[0mmethod\u001b[0m\u001b[1;33m=\u001b[0m\u001b[0mmethod\u001b[0m\u001b[1;33m,\u001b[0m \u001b[0mlevel\u001b[0m\u001b[1;33m=\u001b[0m\u001b[0mlevel\u001b[0m\u001b[1;33m,\u001b[0m \u001b[0mlimit\u001b[0m\u001b[1;33m=\u001b[0m\u001b[0mlimit\u001b[0m\u001b[1;33m,\u001b[0m \u001b[0mtolerance\u001b[0m\u001b[1;33m=\u001b[0m\u001b[0mtolerance\u001b[0m\u001b[1;33m\u001b[0m\u001b[1;33m\u001b[0m\u001b[0m\n\u001b[0;32m   4615\u001b[0m         )\n",
      "\u001b[1;32m~\\anaconda3\\lib\\site-packages\\pandas\\core\\indexes\\base.py\u001b[0m in \u001b[0;36mreindex\u001b[1;34m(self, target, method, level, limit, tolerance)\u001b[0m\n\u001b[0;32m   3812\u001b[0m             \u001b[0mtarget\u001b[0m \u001b[1;33m=\u001b[0m \u001b[0mself\u001b[0m\u001b[1;33m[\u001b[0m\u001b[1;33m:\u001b[0m\u001b[1;36m0\u001b[0m\u001b[1;33m]\u001b[0m\u001b[1;33m\u001b[0m\u001b[1;33m\u001b[0m\u001b[0m\n\u001b[0;32m   3813\u001b[0m         \u001b[1;32melse\u001b[0m\u001b[1;33m:\u001b[0m\u001b[1;33m\u001b[0m\u001b[1;33m\u001b[0m\u001b[0m\n\u001b[1;32m-> 3814\u001b[1;33m             \u001b[0mtarget\u001b[0m \u001b[1;33m=\u001b[0m \u001b[0mensure_index\u001b[0m\u001b[1;33m(\u001b[0m\u001b[0mtarget\u001b[0m\u001b[1;33m)\u001b[0m\u001b[1;33m\u001b[0m\u001b[1;33m\u001b[0m\u001b[0m\n\u001b[0m\u001b[0;32m   3815\u001b[0m \u001b[1;33m\u001b[0m\u001b[0m\n\u001b[0;32m   3816\u001b[0m         \u001b[1;32mif\u001b[0m \u001b[0mlevel\u001b[0m \u001b[1;32mis\u001b[0m \u001b[1;32mnot\u001b[0m \u001b[1;32mNone\u001b[0m\u001b[1;33m:\u001b[0m\u001b[1;33m\u001b[0m\u001b[1;33m\u001b[0m\u001b[0m\n",
      "\u001b[1;32m~\\anaconda3\\lib\\site-packages\\pandas\\core\\indexes\\base.py\u001b[0m in \u001b[0;36mensure_index\u001b[1;34m(index_like, copy)\u001b[0m\n\u001b[0;32m   6334\u001b[0m     \u001b[1;32melse\u001b[0m\u001b[1;33m:\u001b[0m\u001b[1;33m\u001b[0m\u001b[1;33m\u001b[0m\u001b[0m\n\u001b[0;32m   6335\u001b[0m \u001b[1;33m\u001b[0m\u001b[0m\n\u001b[1;32m-> 6336\u001b[1;33m         \u001b[1;32mreturn\u001b[0m \u001b[0mIndex\u001b[0m\u001b[1;33m(\u001b[0m\u001b[0mindex_like\u001b[0m\u001b[1;33m,\u001b[0m \u001b[0mcopy\u001b[0m\u001b[1;33m=\u001b[0m\u001b[0mcopy\u001b[0m\u001b[1;33m)\u001b[0m\u001b[1;33m\u001b[0m\u001b[1;33m\u001b[0m\u001b[0m\n\u001b[0m\u001b[0;32m   6337\u001b[0m \u001b[1;33m\u001b[0m\u001b[0m\n\u001b[0;32m   6338\u001b[0m \u001b[1;33m\u001b[0m\u001b[0m\n",
      "\u001b[1;32m~\\anaconda3\\lib\\site-packages\\pandas\\core\\indexes\\base.py\u001b[0m in \u001b[0;36m__new__\u001b[1;34m(cls, data, dtype, copy, name, tupleize_cols, **kwargs)\u001b[0m\n\u001b[0;32m    474\u001b[0m             \u001b[1;32mraise\u001b[0m \u001b[0mcls\u001b[0m\u001b[1;33m.\u001b[0m\u001b[0m_scalar_data_error\u001b[0m\u001b[1;33m(\u001b[0m\u001b[0mdata\u001b[0m\u001b[1;33m)\u001b[0m\u001b[1;33m\u001b[0m\u001b[1;33m\u001b[0m\u001b[0m\n\u001b[0;32m    475\u001b[0m         \u001b[1;32melif\u001b[0m \u001b[0mhasattr\u001b[0m\u001b[1;33m(\u001b[0m\u001b[0mdata\u001b[0m\u001b[1;33m,\u001b[0m \u001b[1;34m\"__array__\"\u001b[0m\u001b[1;33m)\u001b[0m\u001b[1;33m:\u001b[0m\u001b[1;33m\u001b[0m\u001b[1;33m\u001b[0m\u001b[0m\n\u001b[1;32m--> 476\u001b[1;33m             \u001b[1;32mreturn\u001b[0m \u001b[0mIndex\u001b[0m\u001b[1;33m(\u001b[0m\u001b[0mnp\u001b[0m\u001b[1;33m.\u001b[0m\u001b[0masarray\u001b[0m\u001b[1;33m(\u001b[0m\u001b[0mdata\u001b[0m\u001b[1;33m)\u001b[0m\u001b[1;33m,\u001b[0m \u001b[0mdtype\u001b[0m\u001b[1;33m=\u001b[0m\u001b[0mdtype\u001b[0m\u001b[1;33m,\u001b[0m \u001b[0mcopy\u001b[0m\u001b[1;33m=\u001b[0m\u001b[0mcopy\u001b[0m\u001b[1;33m,\u001b[0m \u001b[0mname\u001b[0m\u001b[1;33m=\u001b[0m\u001b[0mname\u001b[0m\u001b[1;33m,\u001b[0m \u001b[1;33m**\u001b[0m\u001b[0mkwargs\u001b[0m\u001b[1;33m)\u001b[0m\u001b[1;33m\u001b[0m\u001b[1;33m\u001b[0m\u001b[0m\n\u001b[0m\u001b[0;32m    477\u001b[0m         \u001b[1;32melse\u001b[0m\u001b[1;33m:\u001b[0m\u001b[1;33m\u001b[0m\u001b[1;33m\u001b[0m\u001b[0m\n\u001b[0;32m    478\u001b[0m \u001b[1;33m\u001b[0m\u001b[0m\n",
      "\u001b[1;32m~\\anaconda3\\lib\\site-packages\\pandas\\core\\indexes\\base.py\u001b[0m in \u001b[0;36m__new__\u001b[1;34m(cls, data, dtype, copy, name, tupleize_cols, **kwargs)\u001b[0m\n\u001b[0;32m    467\u001b[0m \u001b[1;33m\u001b[0m\u001b[0m\n\u001b[0;32m    468\u001b[0m             \u001b[0mklass\u001b[0m \u001b[1;33m=\u001b[0m \u001b[0mcls\u001b[0m\u001b[1;33m.\u001b[0m\u001b[0m_dtype_to_subclass\u001b[0m\u001b[1;33m(\u001b[0m\u001b[0marr\u001b[0m\u001b[1;33m.\u001b[0m\u001b[0mdtype\u001b[0m\u001b[1;33m)\u001b[0m\u001b[1;33m\u001b[0m\u001b[1;33m\u001b[0m\u001b[0m\n\u001b[1;32m--> 469\u001b[1;33m             \u001b[0marr\u001b[0m \u001b[1;33m=\u001b[0m \u001b[0mklass\u001b[0m\u001b[1;33m.\u001b[0m\u001b[0m_ensure_array\u001b[0m\u001b[1;33m(\u001b[0m\u001b[0marr\u001b[0m\u001b[1;33m,\u001b[0m \u001b[0mdtype\u001b[0m\u001b[1;33m,\u001b[0m \u001b[0mcopy\u001b[0m\u001b[1;33m)\u001b[0m\u001b[1;33m\u001b[0m\u001b[1;33m\u001b[0m\u001b[0m\n\u001b[0m\u001b[0;32m    470\u001b[0m             \u001b[0mdisallow_kwargs\u001b[0m\u001b[1;33m(\u001b[0m\u001b[0mkwargs\u001b[0m\u001b[1;33m)\u001b[0m\u001b[1;33m\u001b[0m\u001b[1;33m\u001b[0m\u001b[0m\n\u001b[0;32m    471\u001b[0m             \u001b[1;32mreturn\u001b[0m \u001b[0mklass\u001b[0m\u001b[1;33m.\u001b[0m\u001b[0m_simple_new\u001b[0m\u001b[1;33m(\u001b[0m\u001b[0marr\u001b[0m\u001b[1;33m,\u001b[0m \u001b[0mname\u001b[0m\u001b[1;33m)\u001b[0m\u001b[1;33m\u001b[0m\u001b[1;33m\u001b[0m\u001b[0m\n",
      "\u001b[1;32m~\\anaconda3\\lib\\site-packages\\pandas\\core\\indexes\\numeric.py\u001b[0m in \u001b[0;36m_ensure_array\u001b[1;34m(cls, data, dtype, copy)\u001b[0m\n\u001b[0;32m    169\u001b[0m         \u001b[1;32mif\u001b[0m \u001b[0msubarr\u001b[0m\u001b[1;33m.\u001b[0m\u001b[0mndim\u001b[0m \u001b[1;33m>\u001b[0m \u001b[1;36m1\u001b[0m\u001b[1;33m:\u001b[0m\u001b[1;33m\u001b[0m\u001b[1;33m\u001b[0m\u001b[0m\n\u001b[0;32m    170\u001b[0m             \u001b[1;31m# GH#13601, GH#20285, GH#27125\u001b[0m\u001b[1;33m\u001b[0m\u001b[1;33m\u001b[0m\u001b[1;33m\u001b[0m\u001b[0m\n\u001b[1;32m--> 171\u001b[1;33m             \u001b[1;32mraise\u001b[0m \u001b[0mValueError\u001b[0m\u001b[1;33m(\u001b[0m\u001b[1;34m\"Index data must be 1-dimensional\"\u001b[0m\u001b[1;33m)\u001b[0m\u001b[1;33m\u001b[0m\u001b[1;33m\u001b[0m\u001b[0m\n\u001b[0m\u001b[0;32m    172\u001b[0m \u001b[1;33m\u001b[0m\u001b[0m\n\u001b[0;32m    173\u001b[0m         \u001b[0msubarr\u001b[0m \u001b[1;33m=\u001b[0m \u001b[0mnp\u001b[0m\u001b[1;33m.\u001b[0m\u001b[0masarray\u001b[0m\u001b[1;33m(\u001b[0m\u001b[0msubarr\u001b[0m\u001b[1;33m)\u001b[0m\u001b[1;33m\u001b[0m\u001b[1;33m\u001b[0m\u001b[0m\n",
      "\u001b[1;31mValueError\u001b[0m: Index data must be 1-dimensional"
     ]
    }
   ],
   "source": [
    "#datatrainyoungstd = pd.concat([datatrainyoung[[\"ID\",\"Provinsi\",\"Y\",\"X1\"]],std_datazyoung[\"X2\"].reindex(datatrainyoung.index),datatrainyoung[[\"X3\",\"X4\",\"X5\",\"X6\"]], std_datazyoung[[\"Z1\",\"Z2\",\"Z3\",'Z4']].reindex(datatrainyoung.index)], axis=1)\n",
    "datatrainyoungstd = pd.concat([otherdatatrainyoung,std_datazyoung],axis=1)\n",
    "datatrainyoungstd"
   ]
  },
  {
   "cell_type": "code",
   "execution_count": 53,
   "metadata": {
    "ExecuteTime": {
     "end_time": "2021-11-16T17:38:07.206018Z",
     "start_time": "2021-11-16T17:38:07.175596Z"
    },
    "hidden": true
   },
   "outputs": [
    {
     "data": {
      "text/html": [
       "<div>\n",
       "<style scoped>\n",
       "    .dataframe tbody tr th:only-of-type {\n",
       "        vertical-align: middle;\n",
       "    }\n",
       "\n",
       "    .dataframe tbody tr th {\n",
       "        vertical-align: top;\n",
       "    }\n",
       "\n",
       "    .dataframe thead th {\n",
       "        text-align: right;\n",
       "    }\n",
       "</style>\n",
       "<table border=\"1\" class=\"dataframe\">\n",
       "  <thead>\n",
       "    <tr style=\"text-align: right;\">\n",
       "      <th></th>\n",
       "      <th>ID</th>\n",
       "      <th>Provinsi</th>\n",
       "      <th>Y</th>\n",
       "      <th>X1</th>\n",
       "      <th>X2</th>\n",
       "      <th>X3</th>\n",
       "      <th>X4</th>\n",
       "      <th>X5</th>\n",
       "      <th>X6</th>\n",
       "      <th>Z1</th>\n",
       "      <th>Z2</th>\n",
       "      <th>Z3</th>\n",
       "      <th>Z4</th>\n",
       "    </tr>\n",
       "  </thead>\n",
       "  <tbody>\n",
       "    <tr>\n",
       "      <th>1</th>\n",
       "      <td>2</td>\n",
       "      <td>11</td>\n",
       "      <td>0</td>\n",
       "      <td>1</td>\n",
       "      <td>38</td>\n",
       "      <td>0</td>\n",
       "      <td>0</td>\n",
       "      <td>1</td>\n",
       "      <td>0</td>\n",
       "      <td>1.077</td>\n",
       "      <td>15.075</td>\n",
       "      <td>26.919</td>\n",
       "      <td>390.869</td>\n",
       "    </tr>\n",
       "    <tr>\n",
       "      <th>2</th>\n",
       "      <td>4</td>\n",
       "      <td>11</td>\n",
       "      <td>0</td>\n",
       "      <td>0</td>\n",
       "      <td>36</td>\n",
       "      <td>0</td>\n",
       "      <td>0</td>\n",
       "      <td>0</td>\n",
       "      <td>1</td>\n",
       "      <td>1.077</td>\n",
       "      <td>15.075</td>\n",
       "      <td>26.919</td>\n",
       "      <td>390.869</td>\n",
       "    </tr>\n",
       "    <tr>\n",
       "      <th>4</th>\n",
       "      <td>8</td>\n",
       "      <td>11</td>\n",
       "      <td>0</td>\n",
       "      <td>1</td>\n",
       "      <td>36</td>\n",
       "      <td>1</td>\n",
       "      <td>0</td>\n",
       "      <td>0</td>\n",
       "      <td>0</td>\n",
       "      <td>1.077</td>\n",
       "      <td>15.075</td>\n",
       "      <td>26.919</td>\n",
       "      <td>390.869</td>\n",
       "    </tr>\n",
       "    <tr>\n",
       "      <th>7</th>\n",
       "      <td>12</td>\n",
       "      <td>11</td>\n",
       "      <td>0</td>\n",
       "      <td>0</td>\n",
       "      <td>36</td>\n",
       "      <td>1</td>\n",
       "      <td>0</td>\n",
       "      <td>1</td>\n",
       "      <td>1</td>\n",
       "      <td>1.077</td>\n",
       "      <td>15.075</td>\n",
       "      <td>26.919</td>\n",
       "      <td>390.869</td>\n",
       "    </tr>\n",
       "    <tr>\n",
       "      <th>8</th>\n",
       "      <td>13</td>\n",
       "      <td>11</td>\n",
       "      <td>0</td>\n",
       "      <td>0</td>\n",
       "      <td>33</td>\n",
       "      <td>1</td>\n",
       "      <td>0</td>\n",
       "      <td>1</td>\n",
       "      <td>1</td>\n",
       "      <td>1.077</td>\n",
       "      <td>15.075</td>\n",
       "      <td>26.919</td>\n",
       "      <td>390.869</td>\n",
       "    </tr>\n",
       "    <tr>\n",
       "      <th>...</th>\n",
       "      <td>...</td>\n",
       "      <td>...</td>\n",
       "      <td>...</td>\n",
       "      <td>...</td>\n",
       "      <td>...</td>\n",
       "      <td>...</td>\n",
       "      <td>...</td>\n",
       "      <td>...</td>\n",
       "      <td>...</td>\n",
       "      <td>...</td>\n",
       "      <td>...</td>\n",
       "      <td>...</td>\n",
       "      <td>...</td>\n",
       "    </tr>\n",
       "    <tr>\n",
       "      <th>13618</th>\n",
       "      <td>19521</td>\n",
       "      <td>94</td>\n",
       "      <td>1</td>\n",
       "      <td>0</td>\n",
       "      <td>39</td>\n",
       "      <td>1</td>\n",
       "      <td>1</td>\n",
       "      <td>1</td>\n",
       "      <td>0</td>\n",
       "      <td>1.757</td>\n",
       "      <td>3.262</td>\n",
       "      <td>48.936</td>\n",
       "      <td>209.045</td>\n",
       "    </tr>\n",
       "    <tr>\n",
       "      <th>13619</th>\n",
       "      <td>19522</td>\n",
       "      <td>94</td>\n",
       "      <td>0</td>\n",
       "      <td>0</td>\n",
       "      <td>39</td>\n",
       "      <td>1</td>\n",
       "      <td>0</td>\n",
       "      <td>0</td>\n",
       "      <td>1</td>\n",
       "      <td>1.757</td>\n",
       "      <td>3.262</td>\n",
       "      <td>48.936</td>\n",
       "      <td>209.045</td>\n",
       "    </tr>\n",
       "    <tr>\n",
       "      <th>13620</th>\n",
       "      <td>19523</td>\n",
       "      <td>94</td>\n",
       "      <td>0</td>\n",
       "      <td>0</td>\n",
       "      <td>31</td>\n",
       "      <td>0</td>\n",
       "      <td>0</td>\n",
       "      <td>1</td>\n",
       "      <td>1</td>\n",
       "      <td>1.757</td>\n",
       "      <td>3.262</td>\n",
       "      <td>48.936</td>\n",
       "      <td>209.045</td>\n",
       "    </tr>\n",
       "    <tr>\n",
       "      <th>13623</th>\n",
       "      <td>19527</td>\n",
       "      <td>94</td>\n",
       "      <td>0</td>\n",
       "      <td>0</td>\n",
       "      <td>35</td>\n",
       "      <td>1</td>\n",
       "      <td>0</td>\n",
       "      <td>1</td>\n",
       "      <td>1</td>\n",
       "      <td>1.757</td>\n",
       "      <td>3.262</td>\n",
       "      <td>48.936</td>\n",
       "      <td>209.045</td>\n",
       "    </tr>\n",
       "    <tr>\n",
       "      <th>13625</th>\n",
       "      <td>19530</td>\n",
       "      <td>94</td>\n",
       "      <td>1</td>\n",
       "      <td>0</td>\n",
       "      <td>39</td>\n",
       "      <td>1</td>\n",
       "      <td>1</td>\n",
       "      <td>1</td>\n",
       "      <td>1</td>\n",
       "      <td>1.757</td>\n",
       "      <td>3.262</td>\n",
       "      <td>48.936</td>\n",
       "      <td>209.045</td>\n",
       "    </tr>\n",
       "  </tbody>\n",
       "</table>\n",
       "<p>7282 rows × 13 columns</p>\n",
       "</div>"
      ],
      "text/plain": [
       "          ID  Provinsi  Y  X1  X2  X3  X4  X5  X6     Z1      Z2      Z3  \\\n",
       "1          2        11  0   1  38   0   0   1   0  1.077  15.075  26.919   \n",
       "2          4        11  0   0  36   0   0   0   1  1.077  15.075  26.919   \n",
       "4          8        11  0   1  36   1   0   0   0  1.077  15.075  26.919   \n",
       "7         12        11  0   0  36   1   0   1   1  1.077  15.075  26.919   \n",
       "8         13        11  0   0  33   1   0   1   1  1.077  15.075  26.919   \n",
       "...      ...       ... ..  ..  ..  ..  ..  ..  ..    ...     ...     ...   \n",
       "13618  19521        94  1   0  39   1   1   1   0  1.757   3.262  48.936   \n",
       "13619  19522        94  0   0  39   1   0   0   1  1.757   3.262  48.936   \n",
       "13620  19523        94  0   0  31   0   0   1   1  1.757   3.262  48.936   \n",
       "13623  19527        94  0   0  35   1   0   1   1  1.757   3.262  48.936   \n",
       "13625  19530        94  1   0  39   1   1   1   1  1.757   3.262  48.936   \n",
       "\n",
       "            Z4  \n",
       "1      390.869  \n",
       "2      390.869  \n",
       "4      390.869  \n",
       "7      390.869  \n",
       "8      390.869  \n",
       "...        ...  \n",
       "13618  209.045  \n",
       "13619  209.045  \n",
       "13620  209.045  \n",
       "13623  209.045  \n",
       "13625  209.045  \n",
       "\n",
       "[7282 rows x 13 columns]"
      ]
     },
     "execution_count": 53,
     "metadata": {},
     "output_type": "execute_result"
    }
   ],
   "source": [
    "datatrainold = datatrain[datatrain[\"X2\"] > 29]\n",
    "datatrainold"
   ]
  },
  {
   "cell_type": "code",
   "execution_count": 54,
   "metadata": {
    "ExecuteTime": {
     "end_time": "2021-11-16T17:38:18.495330Z",
     "start_time": "2021-11-16T17:38:18.459333Z"
    },
    "hidden": true
   },
   "outputs": [
    {
     "data": {
      "text/html": [
       "<div>\n",
       "<style scoped>\n",
       "    .dataframe tbody tr th:only-of-type {\n",
       "        vertical-align: middle;\n",
       "    }\n",
       "\n",
       "    .dataframe tbody tr th {\n",
       "        vertical-align: top;\n",
       "    }\n",
       "\n",
       "    .dataframe thead th {\n",
       "        text-align: right;\n",
       "    }\n",
       "</style>\n",
       "<table border=\"1\" class=\"dataframe\">\n",
       "  <thead>\n",
       "    <tr style=\"text-align: right;\">\n",
       "      <th></th>\n",
       "      <th>X2</th>\n",
       "      <th>Z1</th>\n",
       "      <th>Z2</th>\n",
       "      <th>Z3</th>\n",
       "      <th>Z4</th>\n",
       "    </tr>\n",
       "  </thead>\n",
       "  <tbody>\n",
       "    <tr>\n",
       "      <th>1</th>\n",
       "      <td>38</td>\n",
       "      <td>1.077</td>\n",
       "      <td>15.075</td>\n",
       "      <td>26.919</td>\n",
       "      <td>390.869</td>\n",
       "    </tr>\n",
       "    <tr>\n",
       "      <th>2</th>\n",
       "      <td>36</td>\n",
       "      <td>1.077</td>\n",
       "      <td>15.075</td>\n",
       "      <td>26.919</td>\n",
       "      <td>390.869</td>\n",
       "    </tr>\n",
       "    <tr>\n",
       "      <th>4</th>\n",
       "      <td>36</td>\n",
       "      <td>1.077</td>\n",
       "      <td>15.075</td>\n",
       "      <td>26.919</td>\n",
       "      <td>390.869</td>\n",
       "    </tr>\n",
       "    <tr>\n",
       "      <th>7</th>\n",
       "      <td>36</td>\n",
       "      <td>1.077</td>\n",
       "      <td>15.075</td>\n",
       "      <td>26.919</td>\n",
       "      <td>390.869</td>\n",
       "    </tr>\n",
       "    <tr>\n",
       "      <th>8</th>\n",
       "      <td>33</td>\n",
       "      <td>1.077</td>\n",
       "      <td>15.075</td>\n",
       "      <td>26.919</td>\n",
       "      <td>390.869</td>\n",
       "    </tr>\n",
       "    <tr>\n",
       "      <th>...</th>\n",
       "      <td>...</td>\n",
       "      <td>...</td>\n",
       "      <td>...</td>\n",
       "      <td>...</td>\n",
       "      <td>...</td>\n",
       "    </tr>\n",
       "    <tr>\n",
       "      <th>13618</th>\n",
       "      <td>39</td>\n",
       "      <td>1.757</td>\n",
       "      <td>3.262</td>\n",
       "      <td>48.936</td>\n",
       "      <td>209.045</td>\n",
       "    </tr>\n",
       "    <tr>\n",
       "      <th>13619</th>\n",
       "      <td>39</td>\n",
       "      <td>1.757</td>\n",
       "      <td>3.262</td>\n",
       "      <td>48.936</td>\n",
       "      <td>209.045</td>\n",
       "    </tr>\n",
       "    <tr>\n",
       "      <th>13620</th>\n",
       "      <td>31</td>\n",
       "      <td>1.757</td>\n",
       "      <td>3.262</td>\n",
       "      <td>48.936</td>\n",
       "      <td>209.045</td>\n",
       "    </tr>\n",
       "    <tr>\n",
       "      <th>13623</th>\n",
       "      <td>35</td>\n",
       "      <td>1.757</td>\n",
       "      <td>3.262</td>\n",
       "      <td>48.936</td>\n",
       "      <td>209.045</td>\n",
       "    </tr>\n",
       "    <tr>\n",
       "      <th>13625</th>\n",
       "      <td>39</td>\n",
       "      <td>1.757</td>\n",
       "      <td>3.262</td>\n",
       "      <td>48.936</td>\n",
       "      <td>209.045</td>\n",
       "    </tr>\n",
       "  </tbody>\n",
       "</table>\n",
       "<p>7282 rows × 5 columns</p>\n",
       "</div>"
      ],
      "text/plain": [
       "       X2     Z1      Z2      Z3       Z4\n",
       "1      38  1.077  15.075  26.919  390.869\n",
       "2      36  1.077  15.075  26.919  390.869\n",
       "4      36  1.077  15.075  26.919  390.869\n",
       "7      36  1.077  15.075  26.919  390.869\n",
       "8      33  1.077  15.075  26.919  390.869\n",
       "...    ..    ...     ...     ...      ...\n",
       "13618  39  1.757   3.262  48.936  209.045\n",
       "13619  39  1.757   3.262  48.936  209.045\n",
       "13620  31  1.757   3.262  48.936  209.045\n",
       "13623  35  1.757   3.262  48.936  209.045\n",
       "13625  39  1.757   3.262  48.936  209.045\n",
       "\n",
       "[7282 rows x 5 columns]"
      ]
     },
     "execution_count": 54,
     "metadata": {},
     "output_type": "execute_result"
    }
   ],
   "source": [
    "stdzdatatrainold = datatrainold[['X2','Z1','Z2','Z3','Z4']]\n",
    "stdzdatatrainold"
   ]
  },
  {
   "cell_type": "code",
   "execution_count": 55,
   "metadata": {
    "ExecuteTime": {
     "end_time": "2021-11-16T17:38:20.592526Z",
     "start_time": "2021-11-16T17:38:20.563497Z"
    },
    "hidden": true,
    "scrolled": false
   },
   "outputs": [
    {
     "data": {
      "text/html": [
       "<div>\n",
       "<style scoped>\n",
       "    .dataframe tbody tr th:only-of-type {\n",
       "        vertical-align: middle;\n",
       "    }\n",
       "\n",
       "    .dataframe tbody tr th {\n",
       "        vertical-align: top;\n",
       "    }\n",
       "\n",
       "    .dataframe thead th {\n",
       "        text-align: right;\n",
       "    }\n",
       "</style>\n",
       "<table border=\"1\" class=\"dataframe\">\n",
       "  <thead>\n",
       "    <tr style=\"text-align: right;\">\n",
       "      <th></th>\n",
       "      <th>X2</th>\n",
       "      <th>Z1</th>\n",
       "      <th>Z2</th>\n",
       "      <th>Z3</th>\n",
       "      <th>Z4</th>\n",
       "    </tr>\n",
       "  </thead>\n",
       "  <tbody>\n",
       "    <tr>\n",
       "      <th>0</th>\n",
       "      <td>0.680139</td>\n",
       "      <td>-0.153529</td>\n",
       "      <td>1.465127</td>\n",
       "      <td>-0.272395</td>\n",
       "      <td>1.416678</td>\n",
       "    </tr>\n",
       "    <tr>\n",
       "      <th>1</th>\n",
       "      <td>0.187448</td>\n",
       "      <td>-0.153529</td>\n",
       "      <td>1.465127</td>\n",
       "      <td>-0.272395</td>\n",
       "      <td>1.416678</td>\n",
       "    </tr>\n",
       "    <tr>\n",
       "      <th>2</th>\n",
       "      <td>0.187448</td>\n",
       "      <td>-0.153529</td>\n",
       "      <td>1.465127</td>\n",
       "      <td>-0.272395</td>\n",
       "      <td>1.416678</td>\n",
       "    </tr>\n",
       "    <tr>\n",
       "      <th>3</th>\n",
       "      <td>0.187448</td>\n",
       "      <td>-0.153529</td>\n",
       "      <td>1.465127</td>\n",
       "      <td>-0.272395</td>\n",
       "      <td>1.416678</td>\n",
       "    </tr>\n",
       "    <tr>\n",
       "      <th>4</th>\n",
       "      <td>-0.551587</td>\n",
       "      <td>-0.153529</td>\n",
       "      <td>1.465127</td>\n",
       "      <td>-0.272395</td>\n",
       "      <td>1.416678</td>\n",
       "    </tr>\n",
       "    <tr>\n",
       "      <th>...</th>\n",
       "      <td>...</td>\n",
       "      <td>...</td>\n",
       "      <td>...</td>\n",
       "      <td>...</td>\n",
       "      <td>...</td>\n",
       "    </tr>\n",
       "    <tr>\n",
       "      <th>7277</th>\n",
       "      <td>0.926484</td>\n",
       "      <td>0.485401</td>\n",
       "      <td>-0.635413</td>\n",
       "      <td>0.395122</td>\n",
       "      <td>0.079994</td>\n",
       "    </tr>\n",
       "    <tr>\n",
       "      <th>7278</th>\n",
       "      <td>0.926484</td>\n",
       "      <td>0.485401</td>\n",
       "      <td>-0.635413</td>\n",
       "      <td>0.395122</td>\n",
       "      <td>0.079994</td>\n",
       "    </tr>\n",
       "    <tr>\n",
       "      <th>7279</th>\n",
       "      <td>-1.044278</td>\n",
       "      <td>0.485401</td>\n",
       "      <td>-0.635413</td>\n",
       "      <td>0.395122</td>\n",
       "      <td>0.079994</td>\n",
       "    </tr>\n",
       "    <tr>\n",
       "      <th>7280</th>\n",
       "      <td>-0.058897</td>\n",
       "      <td>0.485401</td>\n",
       "      <td>-0.635413</td>\n",
       "      <td>0.395122</td>\n",
       "      <td>0.079994</td>\n",
       "    </tr>\n",
       "    <tr>\n",
       "      <th>7281</th>\n",
       "      <td>0.926484</td>\n",
       "      <td>0.485401</td>\n",
       "      <td>-0.635413</td>\n",
       "      <td>0.395122</td>\n",
       "      <td>0.079994</td>\n",
       "    </tr>\n",
       "  </tbody>\n",
       "</table>\n",
       "<p>7282 rows × 5 columns</p>\n",
       "</div>"
      ],
      "text/plain": [
       "            X2        Z1        Z2        Z3        Z4\n",
       "0     0.680139 -0.153529  1.465127 -0.272395  1.416678\n",
       "1     0.187448 -0.153529  1.465127 -0.272395  1.416678\n",
       "2     0.187448 -0.153529  1.465127 -0.272395  1.416678\n",
       "3     0.187448 -0.153529  1.465127 -0.272395  1.416678\n",
       "4    -0.551587 -0.153529  1.465127 -0.272395  1.416678\n",
       "...        ...       ...       ...       ...       ...\n",
       "7277  0.926484  0.485401 -0.635413  0.395122  0.079994\n",
       "7278  0.926484  0.485401 -0.635413  0.395122  0.079994\n",
       "7279 -1.044278  0.485401 -0.635413  0.395122  0.079994\n",
       "7280 -0.058897  0.485401 -0.635413  0.395122  0.079994\n",
       "7281  0.926484  0.485401 -0.635413  0.395122  0.079994\n",
       "\n",
       "[7282 rows x 5 columns]"
      ]
     },
     "execution_count": 55,
     "metadata": {},
     "output_type": "execute_result"
    }
   ],
   "source": [
    "scaler = StandardScaler()\n",
    "std_datazold = pd.DataFrame(scaler.fit_transform(stdzdatatrainold))\n",
    "\n",
    "std_datazold.columns = stdzdatatrainold.columns\n",
    "std_datazold"
   ]
  },
  {
   "cell_type": "code",
   "execution_count": 56,
   "metadata": {
    "ExecuteTime": {
     "end_time": "2021-11-16T17:39:02.833214Z",
     "start_time": "2021-11-16T17:39:02.804199Z"
    },
    "hidden": true,
    "scrolled": false
   },
   "outputs": [
    {
     "data": {
      "text/html": [
       "<div>\n",
       "<style scoped>\n",
       "    .dataframe tbody tr th:only-of-type {\n",
       "        vertical-align: middle;\n",
       "    }\n",
       "\n",
       "    .dataframe tbody tr th {\n",
       "        vertical-align: top;\n",
       "    }\n",
       "\n",
       "    .dataframe thead th {\n",
       "        text-align: right;\n",
       "    }\n",
       "</style>\n",
       "<table border=\"1\" class=\"dataframe\">\n",
       "  <thead>\n",
       "    <tr style=\"text-align: right;\">\n",
       "      <th></th>\n",
       "      <th>ID</th>\n",
       "      <th>Provinsi</th>\n",
       "      <th>Y</th>\n",
       "      <th>X1</th>\n",
       "      <th>X2</th>\n",
       "      <th>X3</th>\n",
       "      <th>X4</th>\n",
       "      <th>X5</th>\n",
       "      <th>X6</th>\n",
       "      <th>Z1</th>\n",
       "      <th>Z2</th>\n",
       "      <th>Z3</th>\n",
       "      <th>Z4</th>\n",
       "    </tr>\n",
       "  </thead>\n",
       "  <tbody>\n",
       "    <tr>\n",
       "      <th>1</th>\n",
       "      <td>2</td>\n",
       "      <td>11</td>\n",
       "      <td>0</td>\n",
       "      <td>1</td>\n",
       "      <td>0.187448</td>\n",
       "      <td>0</td>\n",
       "      <td>0</td>\n",
       "      <td>1</td>\n",
       "      <td>0</td>\n",
       "      <td>-0.153529</td>\n",
       "      <td>1.465127</td>\n",
       "      <td>-0.272395</td>\n",
       "      <td>1.416678</td>\n",
       "    </tr>\n",
       "    <tr>\n",
       "      <th>2</th>\n",
       "      <td>4</td>\n",
       "      <td>11</td>\n",
       "      <td>0</td>\n",
       "      <td>0</td>\n",
       "      <td>0.187448</td>\n",
       "      <td>0</td>\n",
       "      <td>0</td>\n",
       "      <td>0</td>\n",
       "      <td>1</td>\n",
       "      <td>-0.153529</td>\n",
       "      <td>1.465127</td>\n",
       "      <td>-0.272395</td>\n",
       "      <td>1.416678</td>\n",
       "    </tr>\n",
       "    <tr>\n",
       "      <th>4</th>\n",
       "      <td>8</td>\n",
       "      <td>11</td>\n",
       "      <td>0</td>\n",
       "      <td>1</td>\n",
       "      <td>-0.551587</td>\n",
       "      <td>1</td>\n",
       "      <td>0</td>\n",
       "      <td>0</td>\n",
       "      <td>0</td>\n",
       "      <td>-0.153529</td>\n",
       "      <td>1.465127</td>\n",
       "      <td>-0.272395</td>\n",
       "      <td>1.416678</td>\n",
       "    </tr>\n",
       "    <tr>\n",
       "      <th>7</th>\n",
       "      <td>12</td>\n",
       "      <td>11</td>\n",
       "      <td>0</td>\n",
       "      <td>0</td>\n",
       "      <td>0.187448</td>\n",
       "      <td>1</td>\n",
       "      <td>0</td>\n",
       "      <td>1</td>\n",
       "      <td>1</td>\n",
       "      <td>-0.153529</td>\n",
       "      <td>1.465127</td>\n",
       "      <td>-0.272395</td>\n",
       "      <td>1.416678</td>\n",
       "    </tr>\n",
       "    <tr>\n",
       "      <th>8</th>\n",
       "      <td>13</td>\n",
       "      <td>11</td>\n",
       "      <td>0</td>\n",
       "      <td>0</td>\n",
       "      <td>0.187448</td>\n",
       "      <td>1</td>\n",
       "      <td>0</td>\n",
       "      <td>1</td>\n",
       "      <td>1</td>\n",
       "      <td>-0.153529</td>\n",
       "      <td>1.465127</td>\n",
       "      <td>-0.272395</td>\n",
       "      <td>1.416678</td>\n",
       "    </tr>\n",
       "    <tr>\n",
       "      <th>...</th>\n",
       "      <td>...</td>\n",
       "      <td>...</td>\n",
       "      <td>...</td>\n",
       "      <td>...</td>\n",
       "      <td>...</td>\n",
       "      <td>...</td>\n",
       "      <td>...</td>\n",
       "      <td>...</td>\n",
       "      <td>...</td>\n",
       "      <td>...</td>\n",
       "      <td>...</td>\n",
       "      <td>...</td>\n",
       "      <td>...</td>\n",
       "    </tr>\n",
       "    <tr>\n",
       "      <th>13618</th>\n",
       "      <td>19521</td>\n",
       "      <td>94</td>\n",
       "      <td>1</td>\n",
       "      <td>0</td>\n",
       "      <td>NaN</td>\n",
       "      <td>1</td>\n",
       "      <td>1</td>\n",
       "      <td>1</td>\n",
       "      <td>0</td>\n",
       "      <td>NaN</td>\n",
       "      <td>NaN</td>\n",
       "      <td>NaN</td>\n",
       "      <td>NaN</td>\n",
       "    </tr>\n",
       "    <tr>\n",
       "      <th>13619</th>\n",
       "      <td>19522</td>\n",
       "      <td>94</td>\n",
       "      <td>0</td>\n",
       "      <td>0</td>\n",
       "      <td>NaN</td>\n",
       "      <td>1</td>\n",
       "      <td>0</td>\n",
       "      <td>0</td>\n",
       "      <td>1</td>\n",
       "      <td>NaN</td>\n",
       "      <td>NaN</td>\n",
       "      <td>NaN</td>\n",
       "      <td>NaN</td>\n",
       "    </tr>\n",
       "    <tr>\n",
       "      <th>13620</th>\n",
       "      <td>19523</td>\n",
       "      <td>94</td>\n",
       "      <td>0</td>\n",
       "      <td>0</td>\n",
       "      <td>NaN</td>\n",
       "      <td>0</td>\n",
       "      <td>0</td>\n",
       "      <td>1</td>\n",
       "      <td>1</td>\n",
       "      <td>NaN</td>\n",
       "      <td>NaN</td>\n",
       "      <td>NaN</td>\n",
       "      <td>NaN</td>\n",
       "    </tr>\n",
       "    <tr>\n",
       "      <th>13623</th>\n",
       "      <td>19527</td>\n",
       "      <td>94</td>\n",
       "      <td>0</td>\n",
       "      <td>0</td>\n",
       "      <td>NaN</td>\n",
       "      <td>1</td>\n",
       "      <td>0</td>\n",
       "      <td>1</td>\n",
       "      <td>1</td>\n",
       "      <td>NaN</td>\n",
       "      <td>NaN</td>\n",
       "      <td>NaN</td>\n",
       "      <td>NaN</td>\n",
       "    </tr>\n",
       "    <tr>\n",
       "      <th>13625</th>\n",
       "      <td>19530</td>\n",
       "      <td>94</td>\n",
       "      <td>1</td>\n",
       "      <td>0</td>\n",
       "      <td>NaN</td>\n",
       "      <td>1</td>\n",
       "      <td>1</td>\n",
       "      <td>1</td>\n",
       "      <td>1</td>\n",
       "      <td>NaN</td>\n",
       "      <td>NaN</td>\n",
       "      <td>NaN</td>\n",
       "      <td>NaN</td>\n",
       "    </tr>\n",
       "  </tbody>\n",
       "</table>\n",
       "<p>7282 rows × 13 columns</p>\n",
       "</div>"
      ],
      "text/plain": [
       "          ID  Provinsi  Y  X1        X2  X3  X4  X5  X6        Z1        Z2  \\\n",
       "1          2        11  0   1  0.187448   0   0   1   0 -0.153529  1.465127   \n",
       "2          4        11  0   0  0.187448   0   0   0   1 -0.153529  1.465127   \n",
       "4          8        11  0   1 -0.551587   1   0   0   0 -0.153529  1.465127   \n",
       "7         12        11  0   0  0.187448   1   0   1   1 -0.153529  1.465127   \n",
       "8         13        11  0   0  0.187448   1   0   1   1 -0.153529  1.465127   \n",
       "...      ...       ... ..  ..       ...  ..  ..  ..  ..       ...       ...   \n",
       "13618  19521        94  1   0       NaN   1   1   1   0       NaN       NaN   \n",
       "13619  19522        94  0   0       NaN   1   0   0   1       NaN       NaN   \n",
       "13620  19523        94  0   0       NaN   0   0   1   1       NaN       NaN   \n",
       "13623  19527        94  0   0       NaN   1   0   1   1       NaN       NaN   \n",
       "13625  19530        94  1   0       NaN   1   1   1   1       NaN       NaN   \n",
       "\n",
       "             Z3        Z4  \n",
       "1     -0.272395  1.416678  \n",
       "2     -0.272395  1.416678  \n",
       "4     -0.272395  1.416678  \n",
       "7     -0.272395  1.416678  \n",
       "8     -0.272395  1.416678  \n",
       "...         ...       ...  \n",
       "13618       NaN       NaN  \n",
       "13619       NaN       NaN  \n",
       "13620       NaN       NaN  \n",
       "13623       NaN       NaN  \n",
       "13625       NaN       NaN  \n",
       "\n",
       "[7282 rows x 13 columns]"
      ]
     },
     "execution_count": 56,
     "metadata": {},
     "output_type": "execute_result"
    }
   ],
   "source": [
    "datatrainoldstd = pd.concat([datatrainold[[\"ID\",\"Provinsi\",\"Y\",\"X1\"]],std_datazold[\"X2\"].reindex(datatrainold.index),datatrainold[[\"X3\",\"X4\",\"X5\",\"X6\"]], std_datazold[[\"Z1\",\"Z2\",\"Z3\",'Z4']].reindex(datatrainold.index)], axis=1)\n",
    "datatrainoldstd"
   ]
  },
  {
   "cell_type": "code",
   "execution_count": null,
   "metadata": {
    "ExecuteTime": {
     "end_time": "2021-11-16T17:20:06.258529Z",
     "start_time": "2021-11-16T17:20:06.257511Z"
    },
    "hidden": true,
    "id": "LpRlmLlKsnpn"
   },
   "outputs": [],
   "source": [
    "#datatrainx = datatrain.drop(columns='Y')\n",
    "#datatrainy = datatrain['Y']"
   ]
  },
  {
   "cell_type": "code",
   "execution_count": null,
   "metadata": {
    "ExecuteTime": {
     "end_time": "2021-11-16T17:20:06.259526Z",
     "start_time": "2021-11-16T17:20:06.259526Z"
    },
    "hidden": true
   },
   "outputs": [],
   "source": [
    "#datatrainyoungx = datatrainyoung.drop(columns='Y')\n",
    "#datatrainyoungy = datatrainyoung['Y']\n",
    "#datatrainyoungy"
   ]
  },
  {
   "cell_type": "code",
   "execution_count": null,
   "metadata": {
    "ExecuteTime": {
     "end_time": "2021-11-16T17:20:06.262515Z",
     "start_time": "2021-11-16T17:20:06.262515Z"
    },
    "hidden": true
   },
   "outputs": [],
   "source": [
    "#datatrainoldx = datatrainold.drop(columns='Y')\n",
    "#datatrainoldy = datatrainold['Y']"
   ]
  },
  {
   "cell_type": "markdown",
   "metadata": {},
   "source": [
    "### Kategorisasi pendidikan ibu"
   ]
  },
  {
   "cell_type": "markdown",
   "metadata": {
    "heading_collapsed": true
   },
   "source": [
    "#### Std"
   ]
  },
  {
   "cell_type": "code",
   "execution_count": 82,
   "metadata": {
    "ExecuteTime": {
     "end_time": "2021-11-16T18:10:37.224384Z",
     "start_time": "2021-11-16T18:10:37.186419Z"
    },
    "hidden": true
   },
   "outputs": [
    {
     "data": {
      "text/html": [
       "<div>\n",
       "<style scoped>\n",
       "    .dataframe tbody tr th:only-of-type {\n",
       "        vertical-align: middle;\n",
       "    }\n",
       "\n",
       "    .dataframe tbody tr th {\n",
       "        vertical-align: top;\n",
       "    }\n",
       "\n",
       "    .dataframe thead th {\n",
       "        text-align: right;\n",
       "    }\n",
       "</style>\n",
       "<table border=\"1\" class=\"dataframe\">\n",
       "  <thead>\n",
       "    <tr style=\"text-align: right;\">\n",
       "      <th></th>\n",
       "      <th>ID</th>\n",
       "      <th>Provinsi</th>\n",
       "      <th>Y</th>\n",
       "      <th>X1</th>\n",
       "      <th>X2</th>\n",
       "      <th>X4</th>\n",
       "      <th>X5</th>\n",
       "      <th>X6</th>\n",
       "      <th>Z1</th>\n",
       "      <th>Z2</th>\n",
       "      <th>Z3</th>\n",
       "      <th>Z4</th>\n",
       "    </tr>\n",
       "  </thead>\n",
       "  <tbody>\n",
       "    <tr>\n",
       "      <th>9</th>\n",
       "      <td>14</td>\n",
       "      <td>11</td>\n",
       "      <td>0</td>\n",
       "      <td>1</td>\n",
       "      <td>23</td>\n",
       "      <td>0</td>\n",
       "      <td>1</td>\n",
       "      <td>1</td>\n",
       "      <td>1.077</td>\n",
       "      <td>15.075</td>\n",
       "      <td>26.919</td>\n",
       "      <td>390.869</td>\n",
       "    </tr>\n",
       "    <tr>\n",
       "      <th>11</th>\n",
       "      <td>16</td>\n",
       "      <td>11</td>\n",
       "      <td>0</td>\n",
       "      <td>1</td>\n",
       "      <td>21</td>\n",
       "      <td>0</td>\n",
       "      <td>1</td>\n",
       "      <td>1</td>\n",
       "      <td>1.077</td>\n",
       "      <td>15.075</td>\n",
       "      <td>26.919</td>\n",
       "      <td>390.869</td>\n",
       "    </tr>\n",
       "    <tr>\n",
       "      <th>12</th>\n",
       "      <td>18</td>\n",
       "      <td>11</td>\n",
       "      <td>0</td>\n",
       "      <td>0</td>\n",
       "      <td>26</td>\n",
       "      <td>0</td>\n",
       "      <td>1</td>\n",
       "      <td>1</td>\n",
       "      <td>1.077</td>\n",
       "      <td>15.075</td>\n",
       "      <td>26.919</td>\n",
       "      <td>390.869</td>\n",
       "    </tr>\n",
       "    <tr>\n",
       "      <th>17</th>\n",
       "      <td>25</td>\n",
       "      <td>11</td>\n",
       "      <td>0</td>\n",
       "      <td>1</td>\n",
       "      <td>25</td>\n",
       "      <td>0</td>\n",
       "      <td>1</td>\n",
       "      <td>1</td>\n",
       "      <td>1.077</td>\n",
       "      <td>15.075</td>\n",
       "      <td>26.919</td>\n",
       "      <td>390.869</td>\n",
       "    </tr>\n",
       "    <tr>\n",
       "      <th>23</th>\n",
       "      <td>31</td>\n",
       "      <td>11</td>\n",
       "      <td>1</td>\n",
       "      <td>1</td>\n",
       "      <td>29</td>\n",
       "      <td>1</td>\n",
       "      <td>1</td>\n",
       "      <td>1</td>\n",
       "      <td>1.077</td>\n",
       "      <td>15.075</td>\n",
       "      <td>26.919</td>\n",
       "      <td>390.869</td>\n",
       "    </tr>\n",
       "    <tr>\n",
       "      <th>...</th>\n",
       "      <td>...</td>\n",
       "      <td>...</td>\n",
       "      <td>...</td>\n",
       "      <td>...</td>\n",
       "      <td>...</td>\n",
       "      <td>...</td>\n",
       "      <td>...</td>\n",
       "      <td>...</td>\n",
       "      <td>...</td>\n",
       "      <td>...</td>\n",
       "      <td>...</td>\n",
       "      <td>...</td>\n",
       "    </tr>\n",
       "    <tr>\n",
       "      <th>13611</th>\n",
       "      <td>19512</td>\n",
       "      <td>94</td>\n",
       "      <td>0</td>\n",
       "      <td>0</td>\n",
       "      <td>27</td>\n",
       "      <td>0</td>\n",
       "      <td>1</td>\n",
       "      <td>1</td>\n",
       "      <td>1.757</td>\n",
       "      <td>3.262</td>\n",
       "      <td>48.936</td>\n",
       "      <td>209.045</td>\n",
       "    </tr>\n",
       "    <tr>\n",
       "      <th>13613</th>\n",
       "      <td>19516</td>\n",
       "      <td>94</td>\n",
       "      <td>1</td>\n",
       "      <td>0</td>\n",
       "      <td>27</td>\n",
       "      <td>0</td>\n",
       "      <td>1</td>\n",
       "      <td>1</td>\n",
       "      <td>1.757</td>\n",
       "      <td>3.262</td>\n",
       "      <td>48.936</td>\n",
       "      <td>209.045</td>\n",
       "    </tr>\n",
       "    <tr>\n",
       "      <th>13621</th>\n",
       "      <td>19524</td>\n",
       "      <td>94</td>\n",
       "      <td>1</td>\n",
       "      <td>0</td>\n",
       "      <td>28</td>\n",
       "      <td>0</td>\n",
       "      <td>1</td>\n",
       "      <td>1</td>\n",
       "      <td>1.757</td>\n",
       "      <td>3.262</td>\n",
       "      <td>48.936</td>\n",
       "      <td>209.045</td>\n",
       "    </tr>\n",
       "    <tr>\n",
       "      <th>13622</th>\n",
       "      <td>19526</td>\n",
       "      <td>94</td>\n",
       "      <td>0</td>\n",
       "      <td>1</td>\n",
       "      <td>22</td>\n",
       "      <td>1</td>\n",
       "      <td>1</td>\n",
       "      <td>1</td>\n",
       "      <td>1.757</td>\n",
       "      <td>3.262</td>\n",
       "      <td>48.936</td>\n",
       "      <td>209.045</td>\n",
       "    </tr>\n",
       "    <tr>\n",
       "      <th>13624</th>\n",
       "      <td>19529</td>\n",
       "      <td>94</td>\n",
       "      <td>0</td>\n",
       "      <td>0</td>\n",
       "      <td>27</td>\n",
       "      <td>0</td>\n",
       "      <td>1</td>\n",
       "      <td>1</td>\n",
       "      <td>1.757</td>\n",
       "      <td>3.262</td>\n",
       "      <td>48.936</td>\n",
       "      <td>209.045</td>\n",
       "    </tr>\n",
       "  </tbody>\n",
       "</table>\n",
       "<p>3147 rows × 12 columns</p>\n",
       "</div>"
      ],
      "text/plain": [
       "          ID  Provinsi  Y  X1  X2  X4  X5  X6     Z1      Z2      Z3       Z4\n",
       "9         14        11  0   1  23   0   1   1  1.077  15.075  26.919  390.869\n",
       "11        16        11  0   1  21   0   1   1  1.077  15.075  26.919  390.869\n",
       "12        18        11  0   0  26   0   1   1  1.077  15.075  26.919  390.869\n",
       "17        25        11  0   1  25   0   1   1  1.077  15.075  26.919  390.869\n",
       "23        31        11  1   1  29   1   1   1  1.077  15.075  26.919  390.869\n",
       "...      ...       ... ..  ..  ..  ..  ..  ..    ...     ...     ...      ...\n",
       "13611  19512        94  0   0  27   0   1   1  1.757   3.262  48.936  209.045\n",
       "13613  19516        94  1   0  27   0   1   1  1.757   3.262  48.936  209.045\n",
       "13621  19524        94  1   0  28   0   1   1  1.757   3.262  48.936  209.045\n",
       "13622  19526        94  0   1  22   1   1   1  1.757   3.262  48.936  209.045\n",
       "13624  19529        94  0   0  27   0   1   1  1.757   3.262  48.936  209.045\n",
       "\n",
       "[3147 rows x 12 columns]"
      ]
     },
     "execution_count": 82,
     "metadata": {},
     "output_type": "execute_result"
    }
   ],
   "source": [
    "# < 30 tahun & di atas SMP\n",
    "datatrainyoungstdas = datatrainyoungstd[datatrainyoungstd[\"X3\"] == 1]\n",
    "datatrainyoungstdas = datatrainyoungstdas.drop(columns=\"X3\")\n",
    "datatrainyoungstdas"
   ]
  },
  {
   "cell_type": "code",
   "execution_count": 59,
   "metadata": {
    "ExecuteTime": {
     "end_time": "2021-11-16T17:48:41.897841Z",
     "start_time": "2021-11-16T17:48:41.864847Z"
    },
    "hidden": true
   },
   "outputs": [
    {
     "data": {
      "text/html": [
       "<div>\n",
       "<style scoped>\n",
       "    .dataframe tbody tr th:only-of-type {\n",
       "        vertical-align: middle;\n",
       "    }\n",
       "\n",
       "    .dataframe tbody tr th {\n",
       "        vertical-align: top;\n",
       "    }\n",
       "\n",
       "    .dataframe thead th {\n",
       "        text-align: right;\n",
       "    }\n",
       "</style>\n",
       "<table border=\"1\" class=\"dataframe\">\n",
       "  <thead>\n",
       "    <tr style=\"text-align: right;\">\n",
       "      <th></th>\n",
       "      <th>ID</th>\n",
       "      <th>Provinsi</th>\n",
       "      <th>Y</th>\n",
       "      <th>X1</th>\n",
       "      <th>X2</th>\n",
       "      <th>X4</th>\n",
       "      <th>X5</th>\n",
       "      <th>X6</th>\n",
       "      <th>Z1</th>\n",
       "      <th>Z2</th>\n",
       "      <th>Z3</th>\n",
       "      <th>Z4</th>\n",
       "    </tr>\n",
       "  </thead>\n",
       "  <tbody>\n",
       "    <tr>\n",
       "      <th>1</th>\n",
       "      <td>2</td>\n",
       "      <td>11</td>\n",
       "      <td>0</td>\n",
       "      <td>1</td>\n",
       "      <td>0.187448</td>\n",
       "      <td>0</td>\n",
       "      <td>1</td>\n",
       "      <td>0</td>\n",
       "      <td>-0.153529</td>\n",
       "      <td>1.465127</td>\n",
       "      <td>-0.272395</td>\n",
       "      <td>1.416678</td>\n",
       "    </tr>\n",
       "    <tr>\n",
       "      <th>2</th>\n",
       "      <td>4</td>\n",
       "      <td>11</td>\n",
       "      <td>0</td>\n",
       "      <td>0</td>\n",
       "      <td>0.187448</td>\n",
       "      <td>0</td>\n",
       "      <td>0</td>\n",
       "      <td>1</td>\n",
       "      <td>-0.153529</td>\n",
       "      <td>1.465127</td>\n",
       "      <td>-0.272395</td>\n",
       "      <td>1.416678</td>\n",
       "    </tr>\n",
       "    <tr>\n",
       "      <th>4</th>\n",
       "      <td>8</td>\n",
       "      <td>11</td>\n",
       "      <td>0</td>\n",
       "      <td>1</td>\n",
       "      <td>-0.551587</td>\n",
       "      <td>0</td>\n",
       "      <td>0</td>\n",
       "      <td>0</td>\n",
       "      <td>-0.153529</td>\n",
       "      <td>1.465127</td>\n",
       "      <td>-0.272395</td>\n",
       "      <td>1.416678</td>\n",
       "    </tr>\n",
       "    <tr>\n",
       "      <th>7</th>\n",
       "      <td>12</td>\n",
       "      <td>11</td>\n",
       "      <td>0</td>\n",
       "      <td>0</td>\n",
       "      <td>0.187448</td>\n",
       "      <td>0</td>\n",
       "      <td>1</td>\n",
       "      <td>1</td>\n",
       "      <td>-0.153529</td>\n",
       "      <td>1.465127</td>\n",
       "      <td>-0.272395</td>\n",
       "      <td>1.416678</td>\n",
       "    </tr>\n",
       "    <tr>\n",
       "      <th>8</th>\n",
       "      <td>13</td>\n",
       "      <td>11</td>\n",
       "      <td>0</td>\n",
       "      <td>0</td>\n",
       "      <td>0.187448</td>\n",
       "      <td>0</td>\n",
       "      <td>1</td>\n",
       "      <td>1</td>\n",
       "      <td>-0.153529</td>\n",
       "      <td>1.465127</td>\n",
       "      <td>-0.272395</td>\n",
       "      <td>1.416678</td>\n",
       "    </tr>\n",
       "    <tr>\n",
       "      <th>...</th>\n",
       "      <td>...</td>\n",
       "      <td>...</td>\n",
       "      <td>...</td>\n",
       "      <td>...</td>\n",
       "      <td>...</td>\n",
       "      <td>...</td>\n",
       "      <td>...</td>\n",
       "      <td>...</td>\n",
       "      <td>...</td>\n",
       "      <td>...</td>\n",
       "      <td>...</td>\n",
       "      <td>...</td>\n",
       "    </tr>\n",
       "    <tr>\n",
       "      <th>13618</th>\n",
       "      <td>19521</td>\n",
       "      <td>94</td>\n",
       "      <td>1</td>\n",
       "      <td>0</td>\n",
       "      <td>NaN</td>\n",
       "      <td>1</td>\n",
       "      <td>1</td>\n",
       "      <td>0</td>\n",
       "      <td>NaN</td>\n",
       "      <td>NaN</td>\n",
       "      <td>NaN</td>\n",
       "      <td>NaN</td>\n",
       "    </tr>\n",
       "    <tr>\n",
       "      <th>13619</th>\n",
       "      <td>19522</td>\n",
       "      <td>94</td>\n",
       "      <td>0</td>\n",
       "      <td>0</td>\n",
       "      <td>NaN</td>\n",
       "      <td>0</td>\n",
       "      <td>0</td>\n",
       "      <td>1</td>\n",
       "      <td>NaN</td>\n",
       "      <td>NaN</td>\n",
       "      <td>NaN</td>\n",
       "      <td>NaN</td>\n",
       "    </tr>\n",
       "    <tr>\n",
       "      <th>13620</th>\n",
       "      <td>19523</td>\n",
       "      <td>94</td>\n",
       "      <td>0</td>\n",
       "      <td>0</td>\n",
       "      <td>NaN</td>\n",
       "      <td>0</td>\n",
       "      <td>1</td>\n",
       "      <td>1</td>\n",
       "      <td>NaN</td>\n",
       "      <td>NaN</td>\n",
       "      <td>NaN</td>\n",
       "      <td>NaN</td>\n",
       "    </tr>\n",
       "    <tr>\n",
       "      <th>13623</th>\n",
       "      <td>19527</td>\n",
       "      <td>94</td>\n",
       "      <td>0</td>\n",
       "      <td>0</td>\n",
       "      <td>NaN</td>\n",
       "      <td>0</td>\n",
       "      <td>1</td>\n",
       "      <td>1</td>\n",
       "      <td>NaN</td>\n",
       "      <td>NaN</td>\n",
       "      <td>NaN</td>\n",
       "      <td>NaN</td>\n",
       "    </tr>\n",
       "    <tr>\n",
       "      <th>13625</th>\n",
       "      <td>19530</td>\n",
       "      <td>94</td>\n",
       "      <td>1</td>\n",
       "      <td>0</td>\n",
       "      <td>NaN</td>\n",
       "      <td>1</td>\n",
       "      <td>1</td>\n",
       "      <td>1</td>\n",
       "      <td>NaN</td>\n",
       "      <td>NaN</td>\n",
       "      <td>NaN</td>\n",
       "      <td>NaN</td>\n",
       "    </tr>\n",
       "  </tbody>\n",
       "</table>\n",
       "<p>7282 rows × 12 columns</p>\n",
       "</div>"
      ],
      "text/plain": [
       "          ID  Provinsi  Y  X1        X2  X4  X5  X6        Z1        Z2  \\\n",
       "1          2        11  0   1  0.187448   0   1   0 -0.153529  1.465127   \n",
       "2          4        11  0   0  0.187448   0   0   1 -0.153529  1.465127   \n",
       "4          8        11  0   1 -0.551587   0   0   0 -0.153529  1.465127   \n",
       "7         12        11  0   0  0.187448   0   1   1 -0.153529  1.465127   \n",
       "8         13        11  0   0  0.187448   0   1   1 -0.153529  1.465127   \n",
       "...      ...       ... ..  ..       ...  ..  ..  ..       ...       ...   \n",
       "13618  19521        94  1   0       NaN   1   1   0       NaN       NaN   \n",
       "13619  19522        94  0   0       NaN   0   0   1       NaN       NaN   \n",
       "13620  19523        94  0   0       NaN   0   1   1       NaN       NaN   \n",
       "13623  19527        94  0   0       NaN   0   1   1       NaN       NaN   \n",
       "13625  19530        94  1   0       NaN   1   1   1       NaN       NaN   \n",
       "\n",
       "             Z3        Z4  \n",
       "1     -0.272395  1.416678  \n",
       "2     -0.272395  1.416678  \n",
       "4     -0.272395  1.416678  \n",
       "7     -0.272395  1.416678  \n",
       "8     -0.272395  1.416678  \n",
       "...         ...       ...  \n",
       "13618       NaN       NaN  \n",
       "13619       NaN       NaN  \n",
       "13620       NaN       NaN  \n",
       "13623       NaN       NaN  \n",
       "13625       NaN       NaN  \n",
       "\n",
       "[7282 rows x 12 columns]"
      ]
     },
     "execution_count": 59,
     "metadata": {},
     "output_type": "execute_result"
    }
   ],
   "source": [
    "# > 29 tahun & di atas SMP\n",
    "datatrainoldstdas = datatrainoldstd[datatrainoldstd[\"X3\"] == 1]\n",
    "datatrainoldstdas = datatrainoldstd.drop(columns=\"X3\")\n",
    "datatrainoldstdas"
   ]
  },
  {
   "cell_type": "code",
   "execution_count": null,
   "metadata": {
    "ExecuteTime": {
     "end_time": "2021-11-16T17:20:06.267513Z",
     "start_time": "2021-11-16T17:20:06.267513Z"
    },
    "hidden": true
   },
   "outputs": [],
   "source": [
    "# < 30 tahun & di bawah SMP\n",
    "datatrainoldstdbs = datatrain[datatrain[\"X3\"] == 0]\n",
    "datatrainoldstdbs = datatrainbawahsmp.drop(columns=\"X3\")\n",
    "datatrainoldstdbs"
   ]
  },
  {
   "cell_type": "code",
   "execution_count": null,
   "metadata": {
    "ExecuteTime": {
     "end_time": "2021-11-16T17:20:06.267513Z",
     "start_time": "2021-11-16T17:20:06.267513Z"
    },
    "hidden": true
   },
   "outputs": [],
   "source": [
    "# > 29 tahun & di bawah SMP\n",
    "datatrainbawahsmp = datatrain[datatrain[\"X3\"] == 0]\n",
    "datatrainbawahsmp = datatrainbawahsmp.drop(columns=\"X3\")\n",
    "datatrainbawahsmp"
   ]
  },
  {
   "cell_type": "code",
   "execution_count": null,
   "metadata": {
    "ExecuteTime": {
     "end_time": "2021-11-16T17:20:06.268511Z",
     "start_time": "2021-11-16T17:20:06.268511Z"
    },
    "hidden": true
   },
   "outputs": [],
   "source": [
    "datatrainatassmpx = datatrainatassmp.drop(columns='Y')\n",
    "datatrainatassmpy = datatrainatassmp['Y']"
   ]
  },
  {
   "cell_type": "code",
   "execution_count": null,
   "metadata": {
    "ExecuteTime": {
     "end_time": "2021-11-16T17:20:06.268511Z",
     "start_time": "2021-11-16T17:20:06.268511Z"
    },
    "hidden": true
   },
   "outputs": [],
   "source": [
    "datatrainatassmpx = datatrainatassmp.drop(columns='Y')\n",
    "datatrainatassmpy = datatrainatassmp['Y']"
   ]
  },
  {
   "cell_type": "code",
   "execution_count": null,
   "metadata": {
    "ExecuteTime": {
     "end_time": "2021-11-16T17:20:06.269510Z",
     "start_time": "2021-11-16T17:20:06.269510Z"
    },
    "hidden": true
   },
   "outputs": [],
   "source": [
    "datatrainbawahsmpx = datatrainbawahsmp.drop(columns='Y')\n",
    "datatrainbawahsmpy = datatrainbawahsmp['Y']"
   ]
  },
  {
   "cell_type": "code",
   "execution_count": null,
   "metadata": {
    "ExecuteTime": {
     "end_time": "2021-11-16T17:20:06.269510Z",
     "start_time": "2021-11-16T17:20:06.269510Z"
    },
    "hidden": true
   },
   "outputs": [],
   "source": [
    "datatrainbawahsmpx = datatrainbawahsmp.drop(columns='Y')\n",
    "datatrainbawahsmpy = datatrainbawahsmp['Y']"
   ]
  },
  {
   "cell_type": "code",
   "execution_count": null,
   "metadata": {
    "ExecuteTime": {
     "end_time": "2021-11-16T17:20:06.270510Z",
     "start_time": "2021-11-16T17:20:06.270510Z"
    },
    "hidden": true
   },
   "outputs": [],
   "source": [
    "from sklearn.model_selection import train_test_split"
   ]
  },
  {
   "cell_type": "code",
   "execution_count": null,
   "metadata": {
    "ExecuteTime": {
     "end_time": "2021-11-16T17:20:06.270510Z",
     "start_time": "2021-11-16T17:20:06.270510Z"
    },
    "hidden": true
   },
   "outputs": [],
   "source": [
    "from sklearn.model_selection import train_test_split"
   ]
  },
  {
   "cell_type": "code",
   "execution_count": null,
   "metadata": {
    "ExecuteTime": {
     "end_time": "2021-11-16T17:20:06.272510Z",
     "start_time": "2021-11-16T17:20:06.272510Z"
    },
    "hidden": true
   },
   "outputs": [],
   "source": [
    "X_trainas, X_testas, y_trainas, y_testas = train_test_split(datatrainatassmpx, datatrainatassmpy, test_size=0.30, random_state=0)"
   ]
  },
  {
   "cell_type": "code",
   "execution_count": null,
   "metadata": {
    "ExecuteTime": {
     "end_time": "2021-11-16T17:20:06.272510Z",
     "start_time": "2021-11-16T17:20:06.272510Z"
    },
    "hidden": true
   },
   "outputs": [],
   "source": [
    "X_trainas, X_testas, y_trainas, y_testas = train_test_split(datatrainatassmpx, datatrainatassmpy, test_size=0.30, random_state=0)"
   ]
  },
  {
   "cell_type": "code",
   "execution_count": null,
   "metadata": {
    "ExecuteTime": {
     "end_time": "2021-11-16T17:20:06.274510Z",
     "start_time": "2021-11-16T17:20:06.274510Z"
    },
    "hidden": true
   },
   "outputs": [],
   "source": [
    "abcatassmp = AdaBoostClassifier()\n",
    "abcatassmp.fit(X_trainas, y_trainas)\n",
    "y_predas = abcatassmp.predict(X_testas)\n",
    "accuracy_score(y_testas, y_predas)"
   ]
  },
  {
   "cell_type": "code",
   "execution_count": null,
   "metadata": {
    "ExecuteTime": {
     "end_time": "2021-11-16T17:20:06.274510Z",
     "start_time": "2021-11-16T17:20:06.274510Z"
    },
    "hidden": true
   },
   "outputs": [],
   "source": [
    "abcatassmp = AdaBoostClassifier()\n",
    "abcatassmp.fit(X_trainas, y_trainas)\n",
    "y_predas = abcatassmp.predict(X_testas)\n",
    "accuracy_score(y_testas, y_predas)"
   ]
  },
  {
   "cell_type": "code",
   "execution_count": null,
   "metadata": {
    "ExecuteTime": {
     "end_time": "2021-11-16T17:20:06.275511Z",
     "start_time": "2021-11-16T17:20:06.275511Z"
    },
    "hidden": true
   },
   "outputs": [],
   "source": [
    "from sklearn.metrics import classification_report,accuracy_score\n",
    "from sklearn.metrics import confusion_matrix,ConfusionMatrixDisplay\n",
    "print(classification_report(y_testas, y_predas))"
   ]
  },
  {
   "cell_type": "code",
   "execution_count": null,
   "metadata": {
    "ExecuteTime": {
     "end_time": "2021-11-16T17:20:06.275511Z",
     "start_time": "2021-11-16T17:20:06.275511Z"
    },
    "hidden": true
   },
   "outputs": [],
   "source": [
    "from sklearn.metrics import classification_report,accuracy_score\n",
    "from sklearn.metrics import confusion_matrix,ConfusionMatrixDisplay\n",
    "print(classification_report(y_testas, y_predas))"
   ]
  },
  {
   "cell_type": "code",
   "execution_count": null,
   "metadata": {
    "ExecuteTime": {
     "end_time": "2021-11-16T17:20:06.276508Z",
     "start_time": "2021-11-16T17:20:06.276508Z"
    },
    "hidden": true
   },
   "outputs": [],
   "source": [
    "import warnings\n",
    "warnings.filterwarnings('ignore')\n",
    "from sklearn.model_selection import GridSearchCV\n",
    "\n",
    "model = AdaBoostClassifier(random_state=100)\n",
    "params = {\n",
    "    'n_estimators':(50,100),\n",
    "    'learning_rate':[0.5, 1]\n",
    "}\n",
    "gs = GridSearchCV(model, params)\n",
    "gs.fit(X_trainas, y_trainas)\n",
    "y_predas = gs.predict(X_testas)\n",
    "print('Best parameter: ', gs.best_params_)"
   ]
  },
  {
   "cell_type": "code",
   "execution_count": null,
   "metadata": {
    "ExecuteTime": {
     "end_time": "2021-11-16T17:20:06.276508Z",
     "start_time": "2021-11-16T17:20:06.276508Z"
    },
    "hidden": true
   },
   "outputs": [],
   "source": [
    "import warnings\n",
    "warnings.filterwarnings('ignore')\n",
    "from sklearn.model_selection import GridSearchCV\n",
    "\n",
    "model = AdaBoostClassifier(random_state=100)\n",
    "params = {\n",
    "    'n_estimators':(50,100),\n",
    "    'learning_rate':[0.5, 1]\n",
    "}\n",
    "gs = GridSearchCV(model, params)\n",
    "gs.fit(X_trainas, y_trainas)\n",
    "y_predas = gs.predict(X_testas)\n",
    "print('Best parameter: ', gs.best_params_)"
   ]
  },
  {
   "cell_type": "code",
   "execution_count": null,
   "metadata": {
    "ExecuteTime": {
     "end_time": "2021-11-16T17:20:06.278523Z",
     "start_time": "2021-11-16T17:20:06.278523Z"
    },
    "hidden": true
   },
   "outputs": [],
   "source": [
    "abcas = AdaBoostClassifier(learning_rate=1, n_estimators=100)\n",
    "abcas.fit(X_trainas, y_trainas)\n",
    "y_predas = abcas.predict(X_testas)\n",
    "accuracy_score(y_testas, y_predas)"
   ]
  },
  {
   "cell_type": "code",
   "execution_count": null,
   "metadata": {
    "ExecuteTime": {
     "end_time": "2021-11-16T17:20:06.278523Z",
     "start_time": "2021-11-16T17:20:06.278523Z"
    },
    "hidden": true
   },
   "outputs": [],
   "source": [
    "abcas = AdaBoostClassifier(learning_rate=1, n_estimators=100)\n",
    "abcas.fit(X_trainas, y_trainas)\n",
    "y_predas = abcas.predict(X_testas)\n",
    "accuracy_score(y_testas, y_predas)"
   ]
  },
  {
   "cell_type": "code",
   "execution_count": null,
   "metadata": {
    "ExecuteTime": {
     "end_time": "2021-11-16T17:20:06.281523Z",
     "start_time": "2021-11-16T17:20:06.281523Z"
    },
    "hidden": true
   },
   "outputs": [],
   "source": [
    "print(classification_report(y_testas, y_predas))"
   ]
  },
  {
   "cell_type": "code",
   "execution_count": null,
   "metadata": {
    "ExecuteTime": {
     "end_time": "2021-11-16T17:20:06.281523Z",
     "start_time": "2021-11-16T17:20:06.281523Z"
    },
    "hidden": true
   },
   "outputs": [],
   "source": [
    "print(classification_report(y_testas, y_predas))"
   ]
  },
  {
   "cell_type": "code",
   "execution_count": null,
   "metadata": {
    "ExecuteTime": {
     "end_time": "2021-11-16T17:20:06.282512Z",
     "start_time": "2021-11-16T17:20:06.282512Z"
    },
    "hidden": true
   },
   "outputs": [],
   "source": [
    "gbcas = GradientBoostingClassifier()\n",
    "gbcas.fit(X_trainas, y_trainas)\n",
    "y_predas = gbcas.predict(X_testas)\n",
    "accuracy_score(y_testas, y_predas)"
   ]
  },
  {
   "cell_type": "code",
   "execution_count": null,
   "metadata": {
    "ExecuteTime": {
     "end_time": "2021-11-16T17:20:06.282512Z",
     "start_time": "2021-11-16T17:20:06.282512Z"
    },
    "hidden": true
   },
   "outputs": [],
   "source": [
    "gbcas = GradientBoostingClassifier()\n",
    "gbcas.fit(X_trainas, y_trainas)\n",
    "y_predas = gbcas.predict(X_testas)\n",
    "accuracy_score(y_testas, y_predas)"
   ]
  },
  {
   "cell_type": "code",
   "execution_count": null,
   "metadata": {
    "ExecuteTime": {
     "end_time": "2021-11-16T17:20:06.284512Z",
     "start_time": "2021-11-16T17:20:06.284512Z"
    },
    "hidden": true
   },
   "outputs": [],
   "source": [
    "print(classification_report(y_testas, y_predas))"
   ]
  },
  {
   "cell_type": "code",
   "execution_count": null,
   "metadata": {
    "ExecuteTime": {
     "end_time": "2021-11-16T17:20:06.284512Z",
     "start_time": "2021-11-16T17:20:06.284512Z"
    },
    "hidden": true
   },
   "outputs": [],
   "source": [
    "print(classification_report(y_testas, y_predas))"
   ]
  },
  {
   "cell_type": "code",
   "execution_count": null,
   "metadata": {
    "ExecuteTime": {
     "end_time": "2021-11-16T17:20:06.285511Z",
     "start_time": "2021-11-16T17:20:06.285511Z"
    },
    "hidden": true
   },
   "outputs": [],
   "source": [
    "model = GradientBoostingClassifier(random_state=100)\n",
    "params = {\n",
    "        'n_estimators':range(1,50),\n",
    "        'learning_rate':[0.001, 0.01, 0.1, 0.2, 0.5, 1]\n",
    "}\n",
    "gsas = GridSearchCV(model, params)\n",
    "gsas.fit(X_trainas, y_trainas)\n",
    "print('Best parameter: ', gs.best_params_)"
   ]
  },
  {
   "cell_type": "code",
   "execution_count": null,
   "metadata": {
    "ExecuteTime": {
     "end_time": "2021-11-16T17:20:06.285511Z",
     "start_time": "2021-11-16T17:20:06.285511Z"
    },
    "hidden": true
   },
   "outputs": [],
   "source": [
    "model = GradientBoostingClassifier(random_state=100)\n",
    "params = {\n",
    "        'n_estimators':range(1,50),\n",
    "        'learning_rate':[0.001, 0.01, 0.1, 0.2, 0.5, 1]\n",
    "}\n",
    "gsas = GridSearchCV(model, params)\n",
    "gsas.fit(X_trainas, y_trainas)\n",
    "print('Best parameter: ', gs.best_params_)"
   ]
  },
  {
   "cell_type": "code",
   "execution_count": null,
   "metadata": {
    "ExecuteTime": {
     "end_time": "2021-11-16T17:20:06.287522Z",
     "start_time": "2021-11-16T17:20:06.287522Z"
    },
    "hidden": true
   },
   "outputs": [],
   "source": [
    "gbcas = GradientBoostingClassifier(learning_rate=0.55, n_estimators=50)\n",
    "gbcas.fit(X_trainas, y_trainas)\n",
    "y_predas = gbcas.predict(X_testas)\n",
    "accuracy_score(y_testas, y_predas)"
   ]
  },
  {
   "cell_type": "code",
   "execution_count": null,
   "metadata": {
    "ExecuteTime": {
     "end_time": "2021-11-16T17:20:06.287522Z",
     "start_time": "2021-11-16T17:20:06.287522Z"
    },
    "hidden": true
   },
   "outputs": [],
   "source": [
    "gbcas = GradientBoostingClassifier(learning_rate=0.55, n_estimators=50)\n",
    "gbcas.fit(X_trainas, y_trainas)\n",
    "y_predas = gbcas.predict(X_testas)\n",
    "accuracy_score(y_testas, y_predas)"
   ]
  },
  {
   "cell_type": "code",
   "execution_count": null,
   "metadata": {
    "ExecuteTime": {
     "end_time": "2021-11-16T17:20:06.288510Z",
     "start_time": "2021-11-16T17:20:06.288510Z"
    },
    "hidden": true,
    "scrolled": false
   },
   "outputs": [],
   "source": [
    "print(classification_report(y_testas, y_predas))"
   ]
  },
  {
   "cell_type": "code",
   "execution_count": null,
   "metadata": {
    "ExecuteTime": {
     "end_time": "2021-11-16T17:20:06.288510Z",
     "start_time": "2021-11-16T17:20:06.288510Z"
    },
    "hidden": true,
    "scrolled": false
   },
   "outputs": [],
   "source": [
    "print(classification_report(y_testas, y_predas))"
   ]
  },
  {
   "cell_type": "code",
   "execution_count": null,
   "metadata": {
    "ExecuteTime": {
     "end_time": "2021-11-16T17:20:06.290512Z",
     "start_time": "2021-11-16T17:20:06.290512Z"
    },
    "hidden": true
   },
   "outputs": [],
   "source": [
    "X_trainbs, X_testbs, y_trainbs, y_testbs = train_test_split(datatrainbawahsmpx, datatrainbawahsmpy, test_size=0.30, random_state=0)"
   ]
  },
  {
   "cell_type": "code",
   "execution_count": null,
   "metadata": {
    "ExecuteTime": {
     "end_time": "2021-11-16T17:20:06.290512Z",
     "start_time": "2021-11-16T17:20:06.290512Z"
    },
    "hidden": true
   },
   "outputs": [],
   "source": [
    "X_trainbs, X_testbs, y_trainbs, y_testbs = train_test_split(datatrainbawahsmpx, datatrainbawahsmpy, test_size=0.30, random_state=0)"
   ]
  },
  {
   "cell_type": "code",
   "execution_count": null,
   "metadata": {
    "ExecuteTime": {
     "end_time": "2021-11-16T17:20:06.292522Z",
     "start_time": "2021-11-16T17:20:06.292522Z"
    },
    "hidden": true
   },
   "outputs": [],
   "source": [
    "abcbssmp = AdaBoostClassifier()\n",
    "abcbssmp.fit(X_trainbs, y_trainbs)\n",
    "y_predbs = abcbssmp.predict(X_testbs)\n",
    "accuracy_score(y_testbs, y_predbs)"
   ]
  },
  {
   "cell_type": "code",
   "execution_count": null,
   "metadata": {
    "ExecuteTime": {
     "end_time": "2021-11-16T17:20:06.292522Z",
     "start_time": "2021-11-16T17:20:06.292522Z"
    },
    "hidden": true
   },
   "outputs": [],
   "source": [
    "abcbssmp = AdaBoostClassifier()\n",
    "abcbssmp.fit(X_trainbs, y_trainbs)\n",
    "y_predbs = abcbssmp.predict(X_testbs)\n",
    "accuracy_score(y_testbs, y_predbs)"
   ]
  },
  {
   "cell_type": "code",
   "execution_count": null,
   "metadata": {
    "ExecuteTime": {
     "end_time": "2021-11-16T17:20:06.294511Z",
     "start_time": "2021-11-16T17:20:06.294511Z"
    },
    "hidden": true
   },
   "outputs": [],
   "source": [
    "print(classification_report(y_testbs, y_predbs))"
   ]
  },
  {
   "cell_type": "code",
   "execution_count": null,
   "metadata": {
    "ExecuteTime": {
     "end_time": "2021-11-16T17:20:06.294511Z",
     "start_time": "2021-11-16T17:20:06.294511Z"
    },
    "hidden": true
   },
   "outputs": [],
   "source": [
    "print(classification_report(y_testbs, y_predbs))"
   ]
  },
  {
   "cell_type": "code",
   "execution_count": null,
   "metadata": {
    "ExecuteTime": {
     "end_time": "2021-11-16T17:20:06.295510Z",
     "start_time": "2021-11-16T17:20:06.295510Z"
    },
    "hidden": true
   },
   "outputs": [],
   "source": [
    "import warnings\n",
    "warnings.filterwarnings('ignore')\n",
    "from sklearn.model_selection import GridSearchCV\n",
    "\n",
    "model = AdaBoostClassifier(random_state=100)\n",
    "params = {\n",
    "    'n_estimators':(50,100),\n",
    "    'learning_rate':[0.5, 1]\n",
    "}\n",
    "gsbs = GridSearchCV(model, params)\n",
    "gsbs.fit(X_trainbs, y_trainbs)\n",
    "y_predbs = gsbs.predict(X_testbs)\n",
    "print('Best parameter: ', gsbs.best_params_)"
   ]
  },
  {
   "cell_type": "code",
   "execution_count": null,
   "metadata": {
    "ExecuteTime": {
     "end_time": "2021-11-16T17:20:06.295510Z",
     "start_time": "2021-11-16T17:20:06.295510Z"
    },
    "hidden": true
   },
   "outputs": [],
   "source": [
    "import warnings\n",
    "warnings.filterwarnings('ignore')\n",
    "from sklearn.model_selection import GridSearchCV\n",
    "\n",
    "model = AdaBoostClassifier(random_state=100)\n",
    "params = {\n",
    "    'n_estimators':(50,100),\n",
    "    'learning_rate':[0.5, 1]\n",
    "}\n",
    "gsbs = GridSearchCV(model, params)\n",
    "gsbs.fit(X_trainbs, y_trainbs)\n",
    "y_predbs = gsbs.predict(X_testbs)\n",
    "print('Best parameter: ', gsbs.best_params_)"
   ]
  },
  {
   "cell_type": "code",
   "execution_count": null,
   "metadata": {
    "ExecuteTime": {
     "end_time": "2021-11-16T17:20:06.297510Z",
     "start_time": "2021-11-16T17:20:06.297510Z"
    },
    "hidden": true
   },
   "outputs": [],
   "source": [
    "abcbs = AdaBoostClassifier(learning_rate=0.5, n_estimators=100)\n",
    "abcbs.fit(X_trainbs, y_trainbs)\n",
    "y_predbs = abcbs.predict(X_testbs)\n",
    "accuracy_score(y_testbs, y_predbs)"
   ]
  },
  {
   "cell_type": "code",
   "execution_count": null,
   "metadata": {
    "ExecuteTime": {
     "end_time": "2021-11-16T17:20:06.297510Z",
     "start_time": "2021-11-16T17:20:06.297510Z"
    },
    "hidden": true
   },
   "outputs": [],
   "source": [
    "abcbs = AdaBoostClassifier(learning_rate=0.5, n_estimators=100)\n",
    "abcbs.fit(X_trainbs, y_trainbs)\n",
    "y_predbs = abcbs.predict(X_testbs)\n",
    "accuracy_score(y_testbs, y_predbs)"
   ]
  },
  {
   "cell_type": "code",
   "execution_count": null,
   "metadata": {
    "ExecuteTime": {
     "end_time": "2021-11-16T17:20:06.299512Z",
     "start_time": "2021-11-16T17:20:06.299512Z"
    },
    "hidden": true
   },
   "outputs": [],
   "source": [
    "print(classification_report(y_testbs, y_predbs))"
   ]
  },
  {
   "cell_type": "code",
   "execution_count": null,
   "metadata": {
    "ExecuteTime": {
     "end_time": "2021-11-16T17:20:06.299512Z",
     "start_time": "2021-11-16T17:20:06.299512Z"
    },
    "hidden": true
   },
   "outputs": [],
   "source": [
    "print(classification_report(y_testbs, y_predbs))"
   ]
  },
  {
   "cell_type": "code",
   "execution_count": null,
   "metadata": {
    "ExecuteTime": {
     "end_time": "2021-11-16T17:20:06.301513Z",
     "start_time": "2021-11-16T17:20:06.301513Z"
    },
    "hidden": true
   },
   "outputs": [],
   "source": [
    "gbcbs = GradientBoostingClassifier()\n",
    "gbcbs.fit(X_trainbs, y_trainbs)\n",
    "y_predbs = gbcbs.predict(X_testbs)\n",
    "accuracy_score(y_testbs, y_predbs)"
   ]
  },
  {
   "cell_type": "code",
   "execution_count": null,
   "metadata": {
    "ExecuteTime": {
     "end_time": "2021-11-16T17:20:06.301513Z",
     "start_time": "2021-11-16T17:20:06.301513Z"
    },
    "hidden": true
   },
   "outputs": [],
   "source": [
    "gbcbs = GradientBoostingClassifier()\n",
    "gbcbs.fit(X_trainbs, y_trainbs)\n",
    "y_predbs = gbcbs.predict(X_testbs)\n",
    "accuracy_score(y_testbs, y_predbs)"
   ]
  },
  {
   "cell_type": "code",
   "execution_count": null,
   "metadata": {
    "ExecuteTime": {
     "end_time": "2021-11-16T17:20:06.302523Z",
     "start_time": "2021-11-16T17:20:06.302523Z"
    },
    "hidden": true
   },
   "outputs": [],
   "source": [
    "print(classification_report(y_testbs, y_predbs))"
   ]
  },
  {
   "cell_type": "code",
   "execution_count": null,
   "metadata": {
    "ExecuteTime": {
     "end_time": "2021-11-16T17:20:06.302523Z",
     "start_time": "2021-11-16T17:20:06.302523Z"
    },
    "hidden": true
   },
   "outputs": [],
   "source": [
    "print(classification_report(y_testbs, y_predbs))"
   ]
  },
  {
   "cell_type": "code",
   "execution_count": null,
   "metadata": {
    "ExecuteTime": {
     "end_time": "2021-11-16T17:20:06.304510Z",
     "start_time": "2021-11-16T17:20:06.304510Z"
    },
    "hidden": true
   },
   "outputs": [],
   "source": [
    "model = GradientBoostingClassifier(random_state=100)\n",
    "params = {\n",
    "        'n_estimators':range(1,50),\n",
    "        'learning_rate':[0.001, 0.01, 0.1, 0.2, 0.5, 1]\n",
    "}\n",
    "gsbs = GridSearchCV(model, params)\n",
    "gsbs.fit(X_trainbs, y_trainbs)"
   ]
  },
  {
   "cell_type": "code",
   "execution_count": null,
   "metadata": {
    "ExecuteTime": {
     "end_time": "2021-11-16T17:20:06.304510Z",
     "start_time": "2021-11-16T17:20:06.304510Z"
    },
    "hidden": true
   },
   "outputs": [],
   "source": [
    "model = GradientBoostingClassifier(random_state=100)\n",
    "params = {\n",
    "        'n_estimators':range(1,50),\n",
    "        'learning_rate':[0.001, 0.01, 0.1, 0.2, 0.5, 1]\n",
    "}\n",
    "gsbs = GridSearchCV(model, params)\n",
    "gsbs.fit(X_trainbs, y_trainbs)"
   ]
  },
  {
   "cell_type": "code",
   "execution_count": null,
   "metadata": {
    "ExecuteTime": {
     "end_time": "2021-11-16T17:20:06.306510Z",
     "start_time": "2021-11-16T17:20:06.306510Z"
    },
    "hidden": true
   },
   "outputs": [],
   "source": [
    "print('Best parameter: ', gsbs.best_params_)"
   ]
  },
  {
   "cell_type": "code",
   "execution_count": null,
   "metadata": {
    "ExecuteTime": {
     "end_time": "2021-11-16T17:20:06.306510Z",
     "start_time": "2021-11-16T17:20:06.306510Z"
    },
    "hidden": true
   },
   "outputs": [],
   "source": [
    "print('Best parameter: ', gsbs.best_params_)"
   ]
  },
  {
   "cell_type": "code",
   "execution_count": null,
   "metadata": {
    "ExecuteTime": {
     "end_time": "2021-11-16T17:20:06.307512Z",
     "start_time": "2021-11-16T17:20:06.307512Z"
    },
    "hidden": true
   },
   "outputs": [],
   "source": [
    "gbcbs = GradientBoostingClassifier(learning_rate=0.5, n_estimators=15)\n",
    "gbcbs.fit(X_trainbs, y_trainbs)\n",
    "y_predas = gbcbs.predict(X_testbs)\n",
    "accuracy_score(y_testbs, y_predbs)"
   ]
  },
  {
   "cell_type": "code",
   "execution_count": null,
   "metadata": {
    "ExecuteTime": {
     "end_time": "2021-11-16T17:20:06.307512Z",
     "start_time": "2021-11-16T17:20:06.307512Z"
    },
    "hidden": true
   },
   "outputs": [],
   "source": [
    "gbcbs = GradientBoostingClassifier(learning_rate=0.5, n_estimators=15)\n",
    "gbcbs.fit(X_trainbs, y_trainbs)\n",
    "y_predas = gbcbs.predict(X_testbs)\n",
    "accuracy_score(y_testbs, y_predbs)"
   ]
  },
  {
   "cell_type": "code",
   "execution_count": null,
   "metadata": {
    "ExecuteTime": {
     "end_time": "2021-11-16T17:20:06.309514Z",
     "start_time": "2021-11-16T17:20:06.309514Z"
    },
    "hidden": true,
    "scrolled": true
   },
   "outputs": [],
   "source": [
    "print(classification_report(y_testbs, y_predbs))"
   ]
  },
  {
   "cell_type": "code",
   "execution_count": null,
   "metadata": {
    "ExecuteTime": {
     "end_time": "2021-11-16T17:20:06.309514Z",
     "start_time": "2021-11-16T17:20:06.309514Z"
    },
    "hidden": true,
    "scrolled": true
   },
   "outputs": [],
   "source": [
    "print(classification_report(y_testbs, y_predbs))"
   ]
  },
  {
   "cell_type": "markdown",
   "metadata": {},
   "source": [
    "#### All Data"
   ]
  },
  {
   "cell_type": "code",
   "execution_count": 83,
   "metadata": {
    "ExecuteTime": {
     "end_time": "2021-11-16T18:11:26.938154Z",
     "start_time": "2021-11-16T18:11:26.904116Z"
    },
    "scrolled": false
   },
   "outputs": [
    {
     "data": {
      "text/html": [
       "<div>\n",
       "<style scoped>\n",
       "    .dataframe tbody tr th:only-of-type {\n",
       "        vertical-align: middle;\n",
       "    }\n",
       "\n",
       "    .dataframe tbody tr th {\n",
       "        vertical-align: top;\n",
       "    }\n",
       "\n",
       "    .dataframe thead th {\n",
       "        text-align: right;\n",
       "    }\n",
       "</style>\n",
       "<table border=\"1\" class=\"dataframe\">\n",
       "  <thead>\n",
       "    <tr style=\"text-align: right;\">\n",
       "      <th></th>\n",
       "      <th>ID</th>\n",
       "      <th>Provinsi</th>\n",
       "      <th>Y</th>\n",
       "      <th>X1</th>\n",
       "      <th>X2</th>\n",
       "      <th>X4</th>\n",
       "      <th>X5</th>\n",
       "      <th>X6</th>\n",
       "      <th>Z1</th>\n",
       "      <th>Z2</th>\n",
       "      <th>Z3</th>\n",
       "      <th>Z4</th>\n",
       "    </tr>\n",
       "  </thead>\n",
       "  <tbody>\n",
       "    <tr>\n",
       "      <th>9</th>\n",
       "      <td>14</td>\n",
       "      <td>11</td>\n",
       "      <td>0</td>\n",
       "      <td>1</td>\n",
       "      <td>23</td>\n",
       "      <td>0</td>\n",
       "      <td>1</td>\n",
       "      <td>1</td>\n",
       "      <td>1.077</td>\n",
       "      <td>15.075</td>\n",
       "      <td>26.919</td>\n",
       "      <td>390.869</td>\n",
       "    </tr>\n",
       "    <tr>\n",
       "      <th>11</th>\n",
       "      <td>16</td>\n",
       "      <td>11</td>\n",
       "      <td>0</td>\n",
       "      <td>1</td>\n",
       "      <td>21</td>\n",
       "      <td>0</td>\n",
       "      <td>1</td>\n",
       "      <td>1</td>\n",
       "      <td>1.077</td>\n",
       "      <td>15.075</td>\n",
       "      <td>26.919</td>\n",
       "      <td>390.869</td>\n",
       "    </tr>\n",
       "    <tr>\n",
       "      <th>12</th>\n",
       "      <td>18</td>\n",
       "      <td>11</td>\n",
       "      <td>0</td>\n",
       "      <td>0</td>\n",
       "      <td>26</td>\n",
       "      <td>0</td>\n",
       "      <td>1</td>\n",
       "      <td>1</td>\n",
       "      <td>1.077</td>\n",
       "      <td>15.075</td>\n",
       "      <td>26.919</td>\n",
       "      <td>390.869</td>\n",
       "    </tr>\n",
       "    <tr>\n",
       "      <th>17</th>\n",
       "      <td>25</td>\n",
       "      <td>11</td>\n",
       "      <td>0</td>\n",
       "      <td>1</td>\n",
       "      <td>25</td>\n",
       "      <td>0</td>\n",
       "      <td>1</td>\n",
       "      <td>1</td>\n",
       "      <td>1.077</td>\n",
       "      <td>15.075</td>\n",
       "      <td>26.919</td>\n",
       "      <td>390.869</td>\n",
       "    </tr>\n",
       "    <tr>\n",
       "      <th>23</th>\n",
       "      <td>31</td>\n",
       "      <td>11</td>\n",
       "      <td>1</td>\n",
       "      <td>1</td>\n",
       "      <td>29</td>\n",
       "      <td>1</td>\n",
       "      <td>1</td>\n",
       "      <td>1</td>\n",
       "      <td>1.077</td>\n",
       "      <td>15.075</td>\n",
       "      <td>26.919</td>\n",
       "      <td>390.869</td>\n",
       "    </tr>\n",
       "    <tr>\n",
       "      <th>...</th>\n",
       "      <td>...</td>\n",
       "      <td>...</td>\n",
       "      <td>...</td>\n",
       "      <td>...</td>\n",
       "      <td>...</td>\n",
       "      <td>...</td>\n",
       "      <td>...</td>\n",
       "      <td>...</td>\n",
       "      <td>...</td>\n",
       "      <td>...</td>\n",
       "      <td>...</td>\n",
       "      <td>...</td>\n",
       "    </tr>\n",
       "    <tr>\n",
       "      <th>13611</th>\n",
       "      <td>19512</td>\n",
       "      <td>94</td>\n",
       "      <td>0</td>\n",
       "      <td>0</td>\n",
       "      <td>27</td>\n",
       "      <td>0</td>\n",
       "      <td>1</td>\n",
       "      <td>1</td>\n",
       "      <td>1.757</td>\n",
       "      <td>3.262</td>\n",
       "      <td>48.936</td>\n",
       "      <td>209.045</td>\n",
       "    </tr>\n",
       "    <tr>\n",
       "      <th>13613</th>\n",
       "      <td>19516</td>\n",
       "      <td>94</td>\n",
       "      <td>1</td>\n",
       "      <td>0</td>\n",
       "      <td>27</td>\n",
       "      <td>0</td>\n",
       "      <td>1</td>\n",
       "      <td>1</td>\n",
       "      <td>1.757</td>\n",
       "      <td>3.262</td>\n",
       "      <td>48.936</td>\n",
       "      <td>209.045</td>\n",
       "    </tr>\n",
       "    <tr>\n",
       "      <th>13621</th>\n",
       "      <td>19524</td>\n",
       "      <td>94</td>\n",
       "      <td>1</td>\n",
       "      <td>0</td>\n",
       "      <td>28</td>\n",
       "      <td>0</td>\n",
       "      <td>1</td>\n",
       "      <td>1</td>\n",
       "      <td>1.757</td>\n",
       "      <td>3.262</td>\n",
       "      <td>48.936</td>\n",
       "      <td>209.045</td>\n",
       "    </tr>\n",
       "    <tr>\n",
       "      <th>13622</th>\n",
       "      <td>19526</td>\n",
       "      <td>94</td>\n",
       "      <td>0</td>\n",
       "      <td>1</td>\n",
       "      <td>22</td>\n",
       "      <td>1</td>\n",
       "      <td>1</td>\n",
       "      <td>1</td>\n",
       "      <td>1.757</td>\n",
       "      <td>3.262</td>\n",
       "      <td>48.936</td>\n",
       "      <td>209.045</td>\n",
       "    </tr>\n",
       "    <tr>\n",
       "      <th>13624</th>\n",
       "      <td>19529</td>\n",
       "      <td>94</td>\n",
       "      <td>0</td>\n",
       "      <td>0</td>\n",
       "      <td>27</td>\n",
       "      <td>0</td>\n",
       "      <td>1</td>\n",
       "      <td>1</td>\n",
       "      <td>1.757</td>\n",
       "      <td>3.262</td>\n",
       "      <td>48.936</td>\n",
       "      <td>209.045</td>\n",
       "    </tr>\n",
       "  </tbody>\n",
       "</table>\n",
       "<p>3147 rows × 12 columns</p>\n",
       "</div>"
      ],
      "text/plain": [
       "          ID  Provinsi  Y  X1  X2  X4  X5  X6     Z1      Z2      Z3       Z4\n",
       "9         14        11  0   1  23   0   1   1  1.077  15.075  26.919  390.869\n",
       "11        16        11  0   1  21   0   1   1  1.077  15.075  26.919  390.869\n",
       "12        18        11  0   0  26   0   1   1  1.077  15.075  26.919  390.869\n",
       "17        25        11  0   1  25   0   1   1  1.077  15.075  26.919  390.869\n",
       "23        31        11  1   1  29   1   1   1  1.077  15.075  26.919  390.869\n",
       "...      ...       ... ..  ..  ..  ..  ..  ..    ...     ...     ...      ...\n",
       "13611  19512        94  0   0  27   0   1   1  1.757   3.262  48.936  209.045\n",
       "13613  19516        94  1   0  27   0   1   1  1.757   3.262  48.936  209.045\n",
       "13621  19524        94  1   0  28   0   1   1  1.757   3.262  48.936  209.045\n",
       "13622  19526        94  0   1  22   1   1   1  1.757   3.262  48.936  209.045\n",
       "13624  19529        94  0   0  27   0   1   1  1.757   3.262  48.936  209.045\n",
       "\n",
       "[3147 rows x 12 columns]"
      ]
     },
     "execution_count": 83,
     "metadata": {},
     "output_type": "execute_result"
    }
   ],
   "source": [
    "datatrainyoungas = datatrainyoung[datatrainyoung[\"X3\"] == 1]\n",
    "datatrainyoungas = datatrainyoungas.drop(columns=\"X3\")\n",
    "datatrainyoungas"
   ]
  },
  {
   "cell_type": "code",
   "execution_count": 84,
   "metadata": {
    "ExecuteTime": {
     "end_time": "2021-11-16T18:12:02.319827Z",
     "start_time": "2021-11-16T18:12:02.279791Z"
    },
    "scrolled": false
   },
   "outputs": [
    {
     "data": {
      "text/html": [
       "<div>\n",
       "<style scoped>\n",
       "    .dataframe tbody tr th:only-of-type {\n",
       "        vertical-align: middle;\n",
       "    }\n",
       "\n",
       "    .dataframe tbody tr th {\n",
       "        vertical-align: top;\n",
       "    }\n",
       "\n",
       "    .dataframe thead th {\n",
       "        text-align: right;\n",
       "    }\n",
       "</style>\n",
       "<table border=\"1\" class=\"dataframe\">\n",
       "  <thead>\n",
       "    <tr style=\"text-align: right;\">\n",
       "      <th></th>\n",
       "      <th>ID</th>\n",
       "      <th>Provinsi</th>\n",
       "      <th>Y</th>\n",
       "      <th>X1</th>\n",
       "      <th>X2</th>\n",
       "      <th>X4</th>\n",
       "      <th>X5</th>\n",
       "      <th>X6</th>\n",
       "      <th>Z1</th>\n",
       "      <th>Z2</th>\n",
       "      <th>Z3</th>\n",
       "      <th>Z4</th>\n",
       "    </tr>\n",
       "  </thead>\n",
       "  <tbody>\n",
       "    <tr>\n",
       "      <th>0</th>\n",
       "      <td>1</td>\n",
       "      <td>11</td>\n",
       "      <td>0</td>\n",
       "      <td>1</td>\n",
       "      <td>27</td>\n",
       "      <td>0</td>\n",
       "      <td>1</td>\n",
       "      <td>1</td>\n",
       "      <td>1.077</td>\n",
       "      <td>15.075</td>\n",
       "      <td>26.919</td>\n",
       "      <td>390.869</td>\n",
       "    </tr>\n",
       "    <tr>\n",
       "      <th>3</th>\n",
       "      <td>7</td>\n",
       "      <td>11</td>\n",
       "      <td>0</td>\n",
       "      <td>0</td>\n",
       "      <td>27</td>\n",
       "      <td>0</td>\n",
       "      <td>1</td>\n",
       "      <td>1</td>\n",
       "      <td>1.077</td>\n",
       "      <td>15.075</td>\n",
       "      <td>26.919</td>\n",
       "      <td>390.869</td>\n",
       "    </tr>\n",
       "    <tr>\n",
       "      <th>5</th>\n",
       "      <td>9</td>\n",
       "      <td>11</td>\n",
       "      <td>1</td>\n",
       "      <td>1</td>\n",
       "      <td>20</td>\n",
       "      <td>1</td>\n",
       "      <td>1</td>\n",
       "      <td>0</td>\n",
       "      <td>1.077</td>\n",
       "      <td>15.075</td>\n",
       "      <td>26.919</td>\n",
       "      <td>390.869</td>\n",
       "    </tr>\n",
       "    <tr>\n",
       "      <th>6</th>\n",
       "      <td>11</td>\n",
       "      <td>11</td>\n",
       "      <td>0</td>\n",
       "      <td>1</td>\n",
       "      <td>27</td>\n",
       "      <td>1</td>\n",
       "      <td>1</td>\n",
       "      <td>1</td>\n",
       "      <td>1.077</td>\n",
       "      <td>15.075</td>\n",
       "      <td>26.919</td>\n",
       "      <td>390.869</td>\n",
       "    </tr>\n",
       "    <tr>\n",
       "      <th>13</th>\n",
       "      <td>21</td>\n",
       "      <td>11</td>\n",
       "      <td>0</td>\n",
       "      <td>1</td>\n",
       "      <td>19</td>\n",
       "      <td>0</td>\n",
       "      <td>1</td>\n",
       "      <td>1</td>\n",
       "      <td>1.077</td>\n",
       "      <td>15.075</td>\n",
       "      <td>26.919</td>\n",
       "      <td>390.869</td>\n",
       "    </tr>\n",
       "    <tr>\n",
       "      <th>...</th>\n",
       "      <td>...</td>\n",
       "      <td>...</td>\n",
       "      <td>...</td>\n",
       "      <td>...</td>\n",
       "      <td>...</td>\n",
       "      <td>...</td>\n",
       "      <td>...</td>\n",
       "      <td>...</td>\n",
       "      <td>...</td>\n",
       "      <td>...</td>\n",
       "      <td>...</td>\n",
       "      <td>...</td>\n",
       "    </tr>\n",
       "    <tr>\n",
       "      <th>13587</th>\n",
       "      <td>19485</td>\n",
       "      <td>94</td>\n",
       "      <td>0</td>\n",
       "      <td>1</td>\n",
       "      <td>29</td>\n",
       "      <td>1</td>\n",
       "      <td>0</td>\n",
       "      <td>0</td>\n",
       "      <td>0.000</td>\n",
       "      <td>8.073</td>\n",
       "      <td>2.018</td>\n",
       "      <td>20.183</td>\n",
       "    </tr>\n",
       "    <tr>\n",
       "      <th>13594</th>\n",
       "      <td>19493</td>\n",
       "      <td>94</td>\n",
       "      <td>0</td>\n",
       "      <td>1</td>\n",
       "      <td>25</td>\n",
       "      <td>1</td>\n",
       "      <td>0</td>\n",
       "      <td>0</td>\n",
       "      <td>0.000</td>\n",
       "      <td>8.073</td>\n",
       "      <td>2.018</td>\n",
       "      <td>20.183</td>\n",
       "    </tr>\n",
       "    <tr>\n",
       "      <th>13595</th>\n",
       "      <td>19494</td>\n",
       "      <td>94</td>\n",
       "      <td>0</td>\n",
       "      <td>1</td>\n",
       "      <td>20</td>\n",
       "      <td>1</td>\n",
       "      <td>1</td>\n",
       "      <td>0</td>\n",
       "      <td>0.000</td>\n",
       "      <td>8.073</td>\n",
       "      <td>2.018</td>\n",
       "      <td>20.183</td>\n",
       "    </tr>\n",
       "    <tr>\n",
       "      <th>13601</th>\n",
       "      <td>19500</td>\n",
       "      <td>94</td>\n",
       "      <td>0</td>\n",
       "      <td>1</td>\n",
       "      <td>29</td>\n",
       "      <td>1</td>\n",
       "      <td>1</td>\n",
       "      <td>1</td>\n",
       "      <td>0.000</td>\n",
       "      <td>8.073</td>\n",
       "      <td>2.018</td>\n",
       "      <td>20.183</td>\n",
       "    </tr>\n",
       "    <tr>\n",
       "      <th>13609</th>\n",
       "      <td>19509</td>\n",
       "      <td>94</td>\n",
       "      <td>0</td>\n",
       "      <td>1</td>\n",
       "      <td>29</td>\n",
       "      <td>1</td>\n",
       "      <td>1</td>\n",
       "      <td>1</td>\n",
       "      <td>0.000</td>\n",
       "      <td>8.073</td>\n",
       "      <td>2.018</td>\n",
       "      <td>20.183</td>\n",
       "    </tr>\n",
       "  </tbody>\n",
       "</table>\n",
       "<p>3197 rows × 12 columns</p>\n",
       "</div>"
      ],
      "text/plain": [
       "          ID  Provinsi  Y  X1  X2  X4  X5  X6     Z1      Z2      Z3       Z4\n",
       "0          1        11  0   1  27   0   1   1  1.077  15.075  26.919  390.869\n",
       "3          7        11  0   0  27   0   1   1  1.077  15.075  26.919  390.869\n",
       "5          9        11  1   1  20   1   1   0  1.077  15.075  26.919  390.869\n",
       "6         11        11  0   1  27   1   1   1  1.077  15.075  26.919  390.869\n",
       "13        21        11  0   1  19   0   1   1  1.077  15.075  26.919  390.869\n",
       "...      ...       ... ..  ..  ..  ..  ..  ..    ...     ...     ...      ...\n",
       "13587  19485        94  0   1  29   1   0   0  0.000   8.073   2.018   20.183\n",
       "13594  19493        94  0   1  25   1   0   0  0.000   8.073   2.018   20.183\n",
       "13595  19494        94  0   1  20   1   1   0  0.000   8.073   2.018   20.183\n",
       "13601  19500        94  0   1  29   1   1   1  0.000   8.073   2.018   20.183\n",
       "13609  19509        94  0   1  29   1   1   1  0.000   8.073   2.018   20.183\n",
       "\n",
       "[3197 rows x 12 columns]"
      ]
     },
     "execution_count": 84,
     "metadata": {},
     "output_type": "execute_result"
    }
   ],
   "source": [
    "datatrainyoungbs = datatrainyoung[datatrainyoung[\"X3\"] == 0]\n",
    "datatrainyoungbs = datatrainyoungbs.drop(columns=\"X3\")\n",
    "datatrainyoungbs"
   ]
  },
  {
   "cell_type": "code",
   "execution_count": 85,
   "metadata": {
    "ExecuteTime": {
     "end_time": "2021-11-16T18:13:33.435528Z",
     "start_time": "2021-11-16T18:13:33.397555Z"
    },
    "scrolled": false
   },
   "outputs": [
    {
     "data": {
      "text/html": [
       "<div>\n",
       "<style scoped>\n",
       "    .dataframe tbody tr th:only-of-type {\n",
       "        vertical-align: middle;\n",
       "    }\n",
       "\n",
       "    .dataframe tbody tr th {\n",
       "        vertical-align: top;\n",
       "    }\n",
       "\n",
       "    .dataframe thead th {\n",
       "        text-align: right;\n",
       "    }\n",
       "</style>\n",
       "<table border=\"1\" class=\"dataframe\">\n",
       "  <thead>\n",
       "    <tr style=\"text-align: right;\">\n",
       "      <th></th>\n",
       "      <th>ID</th>\n",
       "      <th>Provinsi</th>\n",
       "      <th>Y</th>\n",
       "      <th>X1</th>\n",
       "      <th>X2</th>\n",
       "      <th>X4</th>\n",
       "      <th>X5</th>\n",
       "      <th>X6</th>\n",
       "      <th>Z1</th>\n",
       "      <th>Z2</th>\n",
       "      <th>Z3</th>\n",
       "      <th>Z4</th>\n",
       "    </tr>\n",
       "  </thead>\n",
       "  <tbody>\n",
       "    <tr>\n",
       "      <th>4</th>\n",
       "      <td>8</td>\n",
       "      <td>11</td>\n",
       "      <td>0</td>\n",
       "      <td>1</td>\n",
       "      <td>36</td>\n",
       "      <td>0</td>\n",
       "      <td>0</td>\n",
       "      <td>0</td>\n",
       "      <td>1.077</td>\n",
       "      <td>15.075</td>\n",
       "      <td>26.919</td>\n",
       "      <td>390.869</td>\n",
       "    </tr>\n",
       "    <tr>\n",
       "      <th>7</th>\n",
       "      <td>12</td>\n",
       "      <td>11</td>\n",
       "      <td>0</td>\n",
       "      <td>0</td>\n",
       "      <td>36</td>\n",
       "      <td>0</td>\n",
       "      <td>1</td>\n",
       "      <td>1</td>\n",
       "      <td>1.077</td>\n",
       "      <td>15.075</td>\n",
       "      <td>26.919</td>\n",
       "      <td>390.869</td>\n",
       "    </tr>\n",
       "    <tr>\n",
       "      <th>8</th>\n",
       "      <td>13</td>\n",
       "      <td>11</td>\n",
       "      <td>0</td>\n",
       "      <td>0</td>\n",
       "      <td>33</td>\n",
       "      <td>0</td>\n",
       "      <td>1</td>\n",
       "      <td>1</td>\n",
       "      <td>1.077</td>\n",
       "      <td>15.075</td>\n",
       "      <td>26.919</td>\n",
       "      <td>390.869</td>\n",
       "    </tr>\n",
       "    <tr>\n",
       "      <th>10</th>\n",
       "      <td>15</td>\n",
       "      <td>11</td>\n",
       "      <td>0</td>\n",
       "      <td>1</td>\n",
       "      <td>32</td>\n",
       "      <td>0</td>\n",
       "      <td>1</td>\n",
       "      <td>0</td>\n",
       "      <td>1.077</td>\n",
       "      <td>15.075</td>\n",
       "      <td>26.919</td>\n",
       "      <td>390.869</td>\n",
       "    </tr>\n",
       "    <tr>\n",
       "      <th>14</th>\n",
       "      <td>22</td>\n",
       "      <td>11</td>\n",
       "      <td>0</td>\n",
       "      <td>1</td>\n",
       "      <td>41</td>\n",
       "      <td>0</td>\n",
       "      <td>1</td>\n",
       "      <td>1</td>\n",
       "      <td>1.077</td>\n",
       "      <td>15.075</td>\n",
       "      <td>26.919</td>\n",
       "      <td>390.869</td>\n",
       "    </tr>\n",
       "    <tr>\n",
       "      <th>...</th>\n",
       "      <td>...</td>\n",
       "      <td>...</td>\n",
       "      <td>...</td>\n",
       "      <td>...</td>\n",
       "      <td>...</td>\n",
       "      <td>...</td>\n",
       "      <td>...</td>\n",
       "      <td>...</td>\n",
       "      <td>...</td>\n",
       "      <td>...</td>\n",
       "      <td>...</td>\n",
       "      <td>...</td>\n",
       "    </tr>\n",
       "    <tr>\n",
       "      <th>13617</th>\n",
       "      <td>19520</td>\n",
       "      <td>94</td>\n",
       "      <td>1</td>\n",
       "      <td>0</td>\n",
       "      <td>34</td>\n",
       "      <td>0</td>\n",
       "      <td>1</td>\n",
       "      <td>1</td>\n",
       "      <td>1.757</td>\n",
       "      <td>3.262</td>\n",
       "      <td>48.936</td>\n",
       "      <td>209.045</td>\n",
       "    </tr>\n",
       "    <tr>\n",
       "      <th>13618</th>\n",
       "      <td>19521</td>\n",
       "      <td>94</td>\n",
       "      <td>1</td>\n",
       "      <td>0</td>\n",
       "      <td>39</td>\n",
       "      <td>1</td>\n",
       "      <td>1</td>\n",
       "      <td>0</td>\n",
       "      <td>1.757</td>\n",
       "      <td>3.262</td>\n",
       "      <td>48.936</td>\n",
       "      <td>209.045</td>\n",
       "    </tr>\n",
       "    <tr>\n",
       "      <th>13619</th>\n",
       "      <td>19522</td>\n",
       "      <td>94</td>\n",
       "      <td>0</td>\n",
       "      <td>0</td>\n",
       "      <td>39</td>\n",
       "      <td>0</td>\n",
       "      <td>0</td>\n",
       "      <td>1</td>\n",
       "      <td>1.757</td>\n",
       "      <td>3.262</td>\n",
       "      <td>48.936</td>\n",
       "      <td>209.045</td>\n",
       "    </tr>\n",
       "    <tr>\n",
       "      <th>13623</th>\n",
       "      <td>19527</td>\n",
       "      <td>94</td>\n",
       "      <td>0</td>\n",
       "      <td>0</td>\n",
       "      <td>35</td>\n",
       "      <td>0</td>\n",
       "      <td>1</td>\n",
       "      <td>1</td>\n",
       "      <td>1.757</td>\n",
       "      <td>3.262</td>\n",
       "      <td>48.936</td>\n",
       "      <td>209.045</td>\n",
       "    </tr>\n",
       "    <tr>\n",
       "      <th>13625</th>\n",
       "      <td>19530</td>\n",
       "      <td>94</td>\n",
       "      <td>1</td>\n",
       "      <td>0</td>\n",
       "      <td>39</td>\n",
       "      <td>1</td>\n",
       "      <td>1</td>\n",
       "      <td>1</td>\n",
       "      <td>1.757</td>\n",
       "      <td>3.262</td>\n",
       "      <td>48.936</td>\n",
       "      <td>209.045</td>\n",
       "    </tr>\n",
       "  </tbody>\n",
       "</table>\n",
       "<p>3500 rows × 12 columns</p>\n",
       "</div>"
      ],
      "text/plain": [
       "          ID  Provinsi  Y  X1  X2  X4  X5  X6     Z1      Z2      Z3       Z4\n",
       "4          8        11  0   1  36   0   0   0  1.077  15.075  26.919  390.869\n",
       "7         12        11  0   0  36   0   1   1  1.077  15.075  26.919  390.869\n",
       "8         13        11  0   0  33   0   1   1  1.077  15.075  26.919  390.869\n",
       "10        15        11  0   1  32   0   1   0  1.077  15.075  26.919  390.869\n",
       "14        22        11  0   1  41   0   1   1  1.077  15.075  26.919  390.869\n",
       "...      ...       ... ..  ..  ..  ..  ..  ..    ...     ...     ...      ...\n",
       "13617  19520        94  1   0  34   0   1   1  1.757   3.262  48.936  209.045\n",
       "13618  19521        94  1   0  39   1   1   0  1.757   3.262  48.936  209.045\n",
       "13619  19522        94  0   0  39   0   0   1  1.757   3.262  48.936  209.045\n",
       "13623  19527        94  0   0  35   0   1   1  1.757   3.262  48.936  209.045\n",
       "13625  19530        94  1   0  39   1   1   1  1.757   3.262  48.936  209.045\n",
       "\n",
       "[3500 rows x 12 columns]"
      ]
     },
     "execution_count": 85,
     "metadata": {},
     "output_type": "execute_result"
    }
   ],
   "source": [
    "datatrainoldas = datatrainold[datatrainold[\"X3\"] == 1]\n",
    "datatrainoldas = datatrainoldas.drop(columns=\"X3\")\n",
    "datatrainoldas"
   ]
  },
  {
   "cell_type": "code",
   "execution_count": 86,
   "metadata": {
    "ExecuteTime": {
     "end_time": "2021-11-16T18:13:40.507322Z",
     "start_time": "2021-11-16T18:13:40.485334Z"
    },
    "scrolled": false
   },
   "outputs": [
    {
     "data": {
      "text/html": [
       "<div>\n",
       "<style scoped>\n",
       "    .dataframe tbody tr th:only-of-type {\n",
       "        vertical-align: middle;\n",
       "    }\n",
       "\n",
       "    .dataframe tbody tr th {\n",
       "        vertical-align: top;\n",
       "    }\n",
       "\n",
       "    .dataframe thead th {\n",
       "        text-align: right;\n",
       "    }\n",
       "</style>\n",
       "<table border=\"1\" class=\"dataframe\">\n",
       "  <thead>\n",
       "    <tr style=\"text-align: right;\">\n",
       "      <th></th>\n",
       "      <th>ID</th>\n",
       "      <th>Provinsi</th>\n",
       "      <th>Y</th>\n",
       "      <th>X1</th>\n",
       "      <th>X2</th>\n",
       "      <th>X4</th>\n",
       "      <th>X5</th>\n",
       "      <th>X6</th>\n",
       "      <th>Z1</th>\n",
       "      <th>Z2</th>\n",
       "      <th>Z3</th>\n",
       "      <th>Z4</th>\n",
       "    </tr>\n",
       "  </thead>\n",
       "  <tbody>\n",
       "    <tr>\n",
       "      <th>1</th>\n",
       "      <td>2</td>\n",
       "      <td>11</td>\n",
       "      <td>0</td>\n",
       "      <td>1</td>\n",
       "      <td>38</td>\n",
       "      <td>0</td>\n",
       "      <td>1</td>\n",
       "      <td>0</td>\n",
       "      <td>1.077</td>\n",
       "      <td>15.075</td>\n",
       "      <td>26.919</td>\n",
       "      <td>390.869</td>\n",
       "    </tr>\n",
       "    <tr>\n",
       "      <th>2</th>\n",
       "      <td>4</td>\n",
       "      <td>11</td>\n",
       "      <td>0</td>\n",
       "      <td>0</td>\n",
       "      <td>36</td>\n",
       "      <td>0</td>\n",
       "      <td>0</td>\n",
       "      <td>1</td>\n",
       "      <td>1.077</td>\n",
       "      <td>15.075</td>\n",
       "      <td>26.919</td>\n",
       "      <td>390.869</td>\n",
       "    </tr>\n",
       "    <tr>\n",
       "      <th>15</th>\n",
       "      <td>23</td>\n",
       "      <td>11</td>\n",
       "      <td>1</td>\n",
       "      <td>1</td>\n",
       "      <td>36</td>\n",
       "      <td>0</td>\n",
       "      <td>1</td>\n",
       "      <td>0</td>\n",
       "      <td>1.077</td>\n",
       "      <td>15.075</td>\n",
       "      <td>26.919</td>\n",
       "      <td>390.869</td>\n",
       "    </tr>\n",
       "    <tr>\n",
       "      <th>16</th>\n",
       "      <td>24</td>\n",
       "      <td>11</td>\n",
       "      <td>0</td>\n",
       "      <td>1</td>\n",
       "      <td>36</td>\n",
       "      <td>0</td>\n",
       "      <td>1</td>\n",
       "      <td>1</td>\n",
       "      <td>1.077</td>\n",
       "      <td>15.075</td>\n",
       "      <td>26.919</td>\n",
       "      <td>390.869</td>\n",
       "    </tr>\n",
       "    <tr>\n",
       "      <th>19</th>\n",
       "      <td>27</td>\n",
       "      <td>11</td>\n",
       "      <td>1</td>\n",
       "      <td>1</td>\n",
       "      <td>34</td>\n",
       "      <td>0</td>\n",
       "      <td>1</td>\n",
       "      <td>0</td>\n",
       "      <td>1.077</td>\n",
       "      <td>15.075</td>\n",
       "      <td>26.919</td>\n",
       "      <td>390.869</td>\n",
       "    </tr>\n",
       "    <tr>\n",
       "      <th>...</th>\n",
       "      <td>...</td>\n",
       "      <td>...</td>\n",
       "      <td>...</td>\n",
       "      <td>...</td>\n",
       "      <td>...</td>\n",
       "      <td>...</td>\n",
       "      <td>...</td>\n",
       "      <td>...</td>\n",
       "      <td>...</td>\n",
       "      <td>...</td>\n",
       "      <td>...</td>\n",
       "      <td>...</td>\n",
       "    </tr>\n",
       "    <tr>\n",
       "      <th>13600</th>\n",
       "      <td>19499</td>\n",
       "      <td>94</td>\n",
       "      <td>0</td>\n",
       "      <td>1</td>\n",
       "      <td>30</td>\n",
       "      <td>1</td>\n",
       "      <td>1</td>\n",
       "      <td>0</td>\n",
       "      <td>0.000</td>\n",
       "      <td>8.073</td>\n",
       "      <td>2.018</td>\n",
       "      <td>20.183</td>\n",
       "    </tr>\n",
       "    <tr>\n",
       "      <th>13602</th>\n",
       "      <td>19501</td>\n",
       "      <td>94</td>\n",
       "      <td>0</td>\n",
       "      <td>1</td>\n",
       "      <td>31</td>\n",
       "      <td>1</td>\n",
       "      <td>0</td>\n",
       "      <td>1</td>\n",
       "      <td>0.000</td>\n",
       "      <td>8.073</td>\n",
       "      <td>2.018</td>\n",
       "      <td>20.183</td>\n",
       "    </tr>\n",
       "    <tr>\n",
       "      <th>13603</th>\n",
       "      <td>19502</td>\n",
       "      <td>94</td>\n",
       "      <td>0</td>\n",
       "      <td>1</td>\n",
       "      <td>39</td>\n",
       "      <td>1</td>\n",
       "      <td>1</td>\n",
       "      <td>1</td>\n",
       "      <td>0.000</td>\n",
       "      <td>8.073</td>\n",
       "      <td>2.018</td>\n",
       "      <td>20.183</td>\n",
       "    </tr>\n",
       "    <tr>\n",
       "      <th>13604</th>\n",
       "      <td>19504</td>\n",
       "      <td>94</td>\n",
       "      <td>0</td>\n",
       "      <td>1</td>\n",
       "      <td>42</td>\n",
       "      <td>1</td>\n",
       "      <td>1</td>\n",
       "      <td>1</td>\n",
       "      <td>0.000</td>\n",
       "      <td>8.073</td>\n",
       "      <td>2.018</td>\n",
       "      <td>20.183</td>\n",
       "    </tr>\n",
       "    <tr>\n",
       "      <th>13620</th>\n",
       "      <td>19523</td>\n",
       "      <td>94</td>\n",
       "      <td>0</td>\n",
       "      <td>0</td>\n",
       "      <td>31</td>\n",
       "      <td>0</td>\n",
       "      <td>1</td>\n",
       "      <td>1</td>\n",
       "      <td>1.757</td>\n",
       "      <td>3.262</td>\n",
       "      <td>48.936</td>\n",
       "      <td>209.045</td>\n",
       "    </tr>\n",
       "  </tbody>\n",
       "</table>\n",
       "<p>3782 rows × 12 columns</p>\n",
       "</div>"
      ],
      "text/plain": [
       "          ID  Provinsi  Y  X1  X2  X4  X5  X6     Z1      Z2      Z3       Z4\n",
       "1          2        11  0   1  38   0   1   0  1.077  15.075  26.919  390.869\n",
       "2          4        11  0   0  36   0   0   1  1.077  15.075  26.919  390.869\n",
       "15        23        11  1   1  36   0   1   0  1.077  15.075  26.919  390.869\n",
       "16        24        11  0   1  36   0   1   1  1.077  15.075  26.919  390.869\n",
       "19        27        11  1   1  34   0   1   0  1.077  15.075  26.919  390.869\n",
       "...      ...       ... ..  ..  ..  ..  ..  ..    ...     ...     ...      ...\n",
       "13600  19499        94  0   1  30   1   1   0  0.000   8.073   2.018   20.183\n",
       "13602  19501        94  0   1  31   1   0   1  0.000   8.073   2.018   20.183\n",
       "13603  19502        94  0   1  39   1   1   1  0.000   8.073   2.018   20.183\n",
       "13604  19504        94  0   1  42   1   1   1  0.000   8.073   2.018   20.183\n",
       "13620  19523        94  0   0  31   0   1   1  1.757   3.262  48.936  209.045\n",
       "\n",
       "[3782 rows x 12 columns]"
      ]
     },
     "execution_count": 86,
     "metadata": {},
     "output_type": "execute_result"
    }
   ],
   "source": [
    "datatrainoldbs = datatrainold[datatrainold[\"X3\"] == 0]\n",
    "datatrainoldbs = datatrainoldbs.drop(columns=\"X3\")\n",
    "datatrainoldbs"
   ]
  },
  {
   "cell_type": "code",
   "execution_count": null,
   "metadata": {
    "ExecuteTime": {
     "end_time": "2021-11-16T17:20:06.268511Z",
     "start_time": "2021-11-16T17:20:06.268511Z"
    }
   },
   "outputs": [],
   "source": [
    "datatrainatassmpx = datatrainatassmp.drop(columns='Y')\n",
    "datatrainatassmpy = datatrainatassmp['Y']"
   ]
  },
  {
   "cell_type": "code",
   "execution_count": null,
   "metadata": {
    "ExecuteTime": {
     "end_time": "2021-11-16T17:20:06.269510Z",
     "start_time": "2021-11-16T17:20:06.269510Z"
    }
   },
   "outputs": [],
   "source": [
    "datatrainbawahsmpx = datatrainbawahsmp.drop(columns='Y')\n",
    "datatrainbawahsmpy = datatrainbawahsmp['Y']"
   ]
  },
  {
   "cell_type": "code",
   "execution_count": null,
   "metadata": {
    "ExecuteTime": {
     "end_time": "2021-11-16T17:20:06.270510Z",
     "start_time": "2021-11-16T17:20:06.270510Z"
    }
   },
   "outputs": [],
   "source": [
    "from sklearn.model_selection import train_test_split"
   ]
  },
  {
   "cell_type": "code",
   "execution_count": null,
   "metadata": {
    "ExecuteTime": {
     "end_time": "2021-11-16T17:20:06.272510Z",
     "start_time": "2021-11-16T17:20:06.272510Z"
    }
   },
   "outputs": [],
   "source": [
    "X_trainas, X_testas, y_trainas, y_testas = train_test_split(datatrainatassmpx, datatrainatassmpy, test_size=0.30, random_state=0)"
   ]
  },
  {
   "cell_type": "code",
   "execution_count": null,
   "metadata": {
    "ExecuteTime": {
     "end_time": "2021-11-16T17:20:06.274510Z",
     "start_time": "2021-11-16T17:20:06.274510Z"
    }
   },
   "outputs": [],
   "source": [
    "abcatassmp = AdaBoostClassifier()\n",
    "abcatassmp.fit(X_trainas, y_trainas)\n",
    "y_predas = abcatassmp.predict(X_testas)\n",
    "accuracy_score(y_testas, y_predas)"
   ]
  },
  {
   "cell_type": "code",
   "execution_count": null,
   "metadata": {
    "ExecuteTime": {
     "end_time": "2021-11-16T17:20:06.275511Z",
     "start_time": "2021-11-16T17:20:06.275511Z"
    }
   },
   "outputs": [],
   "source": [
    "from sklearn.metrics import classification_report,accuracy_score\n",
    "from sklearn.metrics import confusion_matrix,ConfusionMatrixDisplay\n",
    "print(classification_report(y_testas, y_predas))"
   ]
  },
  {
   "cell_type": "code",
   "execution_count": null,
   "metadata": {
    "ExecuteTime": {
     "end_time": "2021-11-16T17:20:06.276508Z",
     "start_time": "2021-11-16T17:20:06.276508Z"
    }
   },
   "outputs": [],
   "source": [
    "import warnings\n",
    "warnings.filterwarnings('ignore')\n",
    "from sklearn.model_selection import GridSearchCV\n",
    "\n",
    "model = AdaBoostClassifier(random_state=100)\n",
    "params = {\n",
    "    'n_estimators':(50,100),\n",
    "    'learning_rate':[0.5, 1]\n",
    "}\n",
    "gs = GridSearchCV(model, params)\n",
    "gs.fit(X_trainas, y_trainas)\n",
    "y_predas = gs.predict(X_testas)\n",
    "print('Best parameter: ', gs.best_params_)"
   ]
  },
  {
   "cell_type": "code",
   "execution_count": null,
   "metadata": {
    "ExecuteTime": {
     "end_time": "2021-11-16T17:20:06.278523Z",
     "start_time": "2021-11-16T17:20:06.278523Z"
    }
   },
   "outputs": [],
   "source": [
    "abcas = AdaBoostClassifier(learning_rate=1, n_estimators=100)\n",
    "abcas.fit(X_trainas, y_trainas)\n",
    "y_predas = abcas.predict(X_testas)\n",
    "accuracy_score(y_testas, y_predas)"
   ]
  },
  {
   "cell_type": "code",
   "execution_count": null,
   "metadata": {
    "ExecuteTime": {
     "end_time": "2021-11-16T17:20:06.281523Z",
     "start_time": "2021-11-16T17:20:06.281523Z"
    }
   },
   "outputs": [],
   "source": [
    "print(classification_report(y_testas, y_predas))"
   ]
  },
  {
   "cell_type": "code",
   "execution_count": null,
   "metadata": {
    "ExecuteTime": {
     "end_time": "2021-11-16T17:20:06.282512Z",
     "start_time": "2021-11-16T17:20:06.282512Z"
    }
   },
   "outputs": [],
   "source": [
    "gbcas = GradientBoostingClassifier()\n",
    "gbcas.fit(X_trainas, y_trainas)\n",
    "y_predas = gbcas.predict(X_testas)\n",
    "accuracy_score(y_testas, y_predas)"
   ]
  },
  {
   "cell_type": "code",
   "execution_count": null,
   "metadata": {
    "ExecuteTime": {
     "end_time": "2021-11-16T17:20:06.284512Z",
     "start_time": "2021-11-16T17:20:06.284512Z"
    }
   },
   "outputs": [],
   "source": [
    "print(classification_report(y_testas, y_predas))"
   ]
  },
  {
   "cell_type": "code",
   "execution_count": null,
   "metadata": {
    "ExecuteTime": {
     "end_time": "2021-11-16T17:20:06.285511Z",
     "start_time": "2021-11-16T17:20:06.285511Z"
    }
   },
   "outputs": [],
   "source": [
    "model = GradientBoostingClassifier(random_state=100)\n",
    "params = {\n",
    "        'n_estimators':range(1,50),\n",
    "        'learning_rate':[0.001, 0.01, 0.1, 0.2, 0.5, 1]\n",
    "}\n",
    "gsas = GridSearchCV(model, params)\n",
    "gsas.fit(X_trainas, y_trainas)\n",
    "print('Best parameter: ', gs.best_params_)"
   ]
  },
  {
   "cell_type": "code",
   "execution_count": null,
   "metadata": {
    "ExecuteTime": {
     "end_time": "2021-11-16T17:20:06.287522Z",
     "start_time": "2021-11-16T17:20:06.287522Z"
    }
   },
   "outputs": [],
   "source": [
    "gbcas = GradientBoostingClassifier(learning_rate=0.55, n_estimators=50)\n",
    "gbcas.fit(X_trainas, y_trainas)\n",
    "y_predas = gbcas.predict(X_testas)\n",
    "accuracy_score(y_testas, y_predas)"
   ]
  },
  {
   "cell_type": "code",
   "execution_count": null,
   "metadata": {
    "ExecuteTime": {
     "end_time": "2021-11-16T17:20:06.288510Z",
     "start_time": "2021-11-16T17:20:06.288510Z"
    },
    "scrolled": false
   },
   "outputs": [],
   "source": [
    "print(classification_report(y_testas, y_predas))"
   ]
  },
  {
   "cell_type": "code",
   "execution_count": null,
   "metadata": {
    "ExecuteTime": {
     "end_time": "2021-11-16T17:20:06.290512Z",
     "start_time": "2021-11-16T17:20:06.290512Z"
    }
   },
   "outputs": [],
   "source": [
    "X_trainbs, X_testbs, y_trainbs, y_testbs = train_test_split(datatrainbawahsmpx, datatrainbawahsmpy, test_size=0.30, random_state=0)"
   ]
  },
  {
   "cell_type": "code",
   "execution_count": null,
   "metadata": {
    "ExecuteTime": {
     "end_time": "2021-11-16T17:20:06.292522Z",
     "start_time": "2021-11-16T17:20:06.292522Z"
    }
   },
   "outputs": [],
   "source": [
    "abcbssmp = AdaBoostClassifier()\n",
    "abcbssmp.fit(X_trainbs, y_trainbs)\n",
    "y_predbs = abcbssmp.predict(X_testbs)\n",
    "accuracy_score(y_testbs, y_predbs)"
   ]
  },
  {
   "cell_type": "code",
   "execution_count": null,
   "metadata": {
    "ExecuteTime": {
     "end_time": "2021-11-16T17:20:06.294511Z",
     "start_time": "2021-11-16T17:20:06.294511Z"
    }
   },
   "outputs": [],
   "source": [
    "print(classification_report(y_testbs, y_predbs))"
   ]
  },
  {
   "cell_type": "code",
   "execution_count": null,
   "metadata": {
    "ExecuteTime": {
     "end_time": "2021-11-16T17:20:06.295510Z",
     "start_time": "2021-11-16T17:20:06.295510Z"
    }
   },
   "outputs": [],
   "source": [
    "import warnings\n",
    "warnings.filterwarnings('ignore')\n",
    "from sklearn.model_selection import GridSearchCV\n",
    "\n",
    "model = AdaBoostClassifier(random_state=100)\n",
    "params = {\n",
    "    'n_estimators':(50,100),\n",
    "    'learning_rate':[0.5, 1]\n",
    "}\n",
    "gsbs = GridSearchCV(model, params)\n",
    "gsbs.fit(X_trainbs, y_trainbs)\n",
    "y_predbs = gsbs.predict(X_testbs)\n",
    "print('Best parameter: ', gsbs.best_params_)"
   ]
  },
  {
   "cell_type": "code",
   "execution_count": null,
   "metadata": {
    "ExecuteTime": {
     "end_time": "2021-11-16T17:20:06.297510Z",
     "start_time": "2021-11-16T17:20:06.297510Z"
    }
   },
   "outputs": [],
   "source": [
    "abcbs = AdaBoostClassifier(learning_rate=0.5, n_estimators=100)\n",
    "abcbs.fit(X_trainbs, y_trainbs)\n",
    "y_predbs = abcbs.predict(X_testbs)\n",
    "accuracy_score(y_testbs, y_predbs)"
   ]
  },
  {
   "cell_type": "code",
   "execution_count": null,
   "metadata": {
    "ExecuteTime": {
     "end_time": "2021-11-16T17:20:06.299512Z",
     "start_time": "2021-11-16T17:20:06.299512Z"
    }
   },
   "outputs": [],
   "source": [
    "print(classification_report(y_testbs, y_predbs))"
   ]
  },
  {
   "cell_type": "code",
   "execution_count": null,
   "metadata": {
    "ExecuteTime": {
     "end_time": "2021-11-16T17:20:06.301513Z",
     "start_time": "2021-11-16T17:20:06.301513Z"
    }
   },
   "outputs": [],
   "source": [
    "gbcbs = GradientBoostingClassifier()\n",
    "gbcbs.fit(X_trainbs, y_trainbs)\n",
    "y_predbs = gbcbs.predict(X_testbs)\n",
    "accuracy_score(y_testbs, y_predbs)"
   ]
  },
  {
   "cell_type": "code",
   "execution_count": null,
   "metadata": {
    "ExecuteTime": {
     "end_time": "2021-11-16T17:20:06.302523Z",
     "start_time": "2021-11-16T17:20:06.302523Z"
    }
   },
   "outputs": [],
   "source": [
    "print(classification_report(y_testbs, y_predbs))"
   ]
  },
  {
   "cell_type": "code",
   "execution_count": null,
   "metadata": {
    "ExecuteTime": {
     "end_time": "2021-11-16T17:20:06.304510Z",
     "start_time": "2021-11-16T17:20:06.304510Z"
    }
   },
   "outputs": [],
   "source": [
    "model = GradientBoostingClassifier(random_state=100)\n",
    "params = {\n",
    "        'n_estimators':range(1,50),\n",
    "        'learning_rate':[0.001, 0.01, 0.1, 0.2, 0.5, 1]\n",
    "}\n",
    "gsbs = GridSearchCV(model, params)\n",
    "gsbs.fit(X_trainbs, y_trainbs)"
   ]
  },
  {
   "cell_type": "code",
   "execution_count": null,
   "metadata": {
    "ExecuteTime": {
     "end_time": "2021-11-16T17:20:06.306510Z",
     "start_time": "2021-11-16T17:20:06.306510Z"
    }
   },
   "outputs": [],
   "source": [
    "print('Best parameter: ', gsbs.best_params_)"
   ]
  },
  {
   "cell_type": "code",
   "execution_count": null,
   "metadata": {
    "ExecuteTime": {
     "end_time": "2021-11-16T17:20:06.307512Z",
     "start_time": "2021-11-16T17:20:06.307512Z"
    }
   },
   "outputs": [],
   "source": [
    "gbcbs = GradientBoostingClassifier(learning_rate=0.5, n_estimators=15)\n",
    "gbcbs.fit(X_trainbs, y_trainbs)\n",
    "y_predas = gbcbs.predict(X_testbs)\n",
    "accuracy_score(y_testbs, y_predbs)"
   ]
  },
  {
   "cell_type": "code",
   "execution_count": null,
   "metadata": {
    "ExecuteTime": {
     "end_time": "2021-11-16T17:20:06.309514Z",
     "start_time": "2021-11-16T17:20:06.309514Z"
    },
    "scrolled": true
   },
   "outputs": [],
   "source": [
    "print(classification_report(y_testbs, y_predbs))"
   ]
  },
  {
   "cell_type": "markdown",
   "metadata": {
    "heading_collapsed": true,
    "id": "5WraBTut4o86"
   },
   "source": [
    "# Split Train and Test Data"
   ]
  },
  {
   "cell_type": "code",
   "execution_count": null,
   "metadata": {
    "ExecuteTime": {
     "end_time": "2021-11-16T17:20:06.311510Z",
     "start_time": "2021-11-16T17:20:06.311510Z"
    },
    "hidden": true,
    "id": "Ibl9rzbItGhl"
   },
   "outputs": [],
   "source": [
    "from sklearn.model_selection import train_test_split"
   ]
  },
  {
   "cell_type": "code",
   "execution_count": null,
   "metadata": {
    "ExecuteTime": {
     "end_time": "2021-11-16T17:20:06.312509Z",
     "start_time": "2021-11-16T17:20:06.312509Z"
    },
    "hidden": true,
    "id": "uNfv_kHOtGx5"
   },
   "outputs": [],
   "source": [
    "#X_train, X_test, y_train, y_test = train_test_split(datatrainx, datatrainy, test_size=0.30, random_state=0)"
   ]
  },
  {
   "cell_type": "code",
   "execution_count": null,
   "metadata": {
    "ExecuteTime": {
     "end_time": "2021-11-16T17:20:06.314510Z",
     "start_time": "2021-11-16T17:20:06.314510Z"
    },
    "hidden": true
   },
   "outputs": [],
   "source": [
    "X_trainyoung, X_testyoung, y_trainyoung, y_testyoung = train_test_split(datatrainyoungx, datatrainyoungy, test_size=0.30, random_state=0)"
   ]
  },
  {
   "cell_type": "code",
   "execution_count": null,
   "metadata": {
    "ExecuteTime": {
     "end_time": "2021-11-16T17:20:06.316509Z",
     "start_time": "2021-11-16T17:20:06.316509Z"
    },
    "hidden": true
   },
   "outputs": [],
   "source": [
    "X_trainold, X_testold, y_trainold, y_testold = train_test_split(datatrainoldx, datatrainoldy, test_size=0.30, random_state=0)"
   ]
  },
  {
   "cell_type": "code",
   "execution_count": null,
   "metadata": {
    "ExecuteTime": {
     "end_time": "2021-11-16T17:20:06.317512Z",
     "start_time": "2021-11-16T17:20:06.317512Z"
    },
    "hidden": true
   },
   "outputs": [],
   "source": [
    "X_trainyoung.shape"
   ]
  },
  {
   "cell_type": "code",
   "execution_count": null,
   "metadata": {
    "ExecuteTime": {
     "end_time": "2021-11-16T17:20:06.318509Z",
     "start_time": "2021-11-16T17:20:06.318509Z"
    },
    "hidden": true
   },
   "outputs": [],
   "source": [
    "X_testyoung.shape"
   ]
  },
  {
   "cell_type": "code",
   "execution_count": null,
   "metadata": {
    "ExecuteTime": {
     "end_time": "2021-11-16T17:20:06.320511Z",
     "start_time": "2021-11-16T17:20:06.320511Z"
    },
    "hidden": true
   },
   "outputs": [],
   "source": [
    "y_trainyoung.shape"
   ]
  },
  {
   "cell_type": "code",
   "execution_count": null,
   "metadata": {
    "ExecuteTime": {
     "end_time": "2021-11-16T17:20:06.321510Z",
     "start_time": "2021-11-16T17:20:06.321510Z"
    },
    "hidden": true
   },
   "outputs": [],
   "source": [
    "y_testyoung.shape"
   ]
  },
  {
   "cell_type": "markdown",
   "metadata": {
    "heading_collapsed": true,
    "id": "hXuatUBv4y96"
   },
   "source": [
    "# Modeling "
   ]
  },
  {
   "cell_type": "markdown",
   "metadata": {
    "hidden": true,
    "id": "JLLlFGov5Xl6"
   },
   "source": [
    "AdaBoost Classifier default parameters\n"
   ]
  },
  {
   "cell_type": "code",
   "execution_count": null,
   "metadata": {
    "ExecuteTime": {
     "end_time": "2021-11-16T17:20:06.323513Z",
     "start_time": "2021-11-16T17:20:06.323513Z"
    },
    "colab": {
     "base_uri": "https://localhost:8080/"
    },
    "hidden": true,
    "id": "him1R9KutMON",
    "outputId": "8fe110dd-8438-4f77-c168-2ff309bfa546"
   },
   "outputs": [],
   "source": [
    "abc = AdaBoostClassifier()\n",
    "#abc.fit(X_train, y_train)\n",
    "#y_pred = abc.predict(X_test)\n",
    "#accuracy_score(y_test, y_pred)"
   ]
  },
  {
   "cell_type": "code",
   "execution_count": null,
   "metadata": {
    "ExecuteTime": {
     "end_time": "2021-11-16T17:20:06.324509Z",
     "start_time": "2021-11-16T17:20:06.324509Z"
    },
    "hidden": true
   },
   "outputs": [],
   "source": [
    "abc.fit(X_trainyoung, y_trainyoung)\n",
    "y_predyoung = abc.predict(X_testyoung)\n",
    "accuracy_score(y_testyoung, y_predyoung)"
   ]
  },
  {
   "cell_type": "code",
   "execution_count": null,
   "metadata": {
    "ExecuteTime": {
     "end_time": "2021-11-16T17:20:06.325509Z",
     "start_time": "2021-11-16T17:20:06.325509Z"
    },
    "hidden": true
   },
   "outputs": [],
   "source": [
    "abc.fit(X_trainold, y_trainold)\n",
    "y_predold = abc.predict(X_testold)\n",
    "accuracy_score(y_testold, y_predold)"
   ]
  },
  {
   "cell_type": "code",
   "execution_count": null,
   "metadata": {
    "ExecuteTime": {
     "end_time": "2021-11-16T17:20:06.327511Z",
     "start_time": "2021-11-16T17:20:06.327511Z"
    },
    "hidden": true
   },
   "outputs": [],
   "source": [
    "from sklearn.metrics import classification_report,accuracy_score\n",
    "from sklearn.metrics import confusion_matrix,ConfusionMatrixDisplay\n",
    "#print(classification_report(y_test, y_pred))"
   ]
  },
  {
   "cell_type": "code",
   "execution_count": null,
   "metadata": {
    "ExecuteTime": {
     "end_time": "2021-11-16T17:20:06.329512Z",
     "start_time": "2021-11-16T17:20:06.329512Z"
    },
    "hidden": true
   },
   "outputs": [],
   "source": [
    "print(classification_report(y_testyoung, y_predyoung))"
   ]
  },
  {
   "cell_type": "code",
   "execution_count": null,
   "metadata": {
    "ExecuteTime": {
     "end_time": "2021-11-16T17:20:06.332513Z",
     "start_time": "2021-11-16T17:20:06.332513Z"
    },
    "hidden": true
   },
   "outputs": [],
   "source": [
    "print(classification_report(y_testold, y_predold))"
   ]
  },
  {
   "cell_type": "markdown",
   "metadata": {
    "hidden": true,
    "id": "UGBzUMOi5fnh"
   },
   "source": [
    "Parameters tuning with gridsearchcv"
   ]
  },
  {
   "cell_type": "code",
   "execution_count": null,
   "metadata": {
    "ExecuteTime": {
     "end_time": "2021-11-16T17:20:06.334514Z",
     "start_time": "2021-11-16T17:20:06.334514Z"
    },
    "colab": {
     "base_uri": "https://localhost:8080/"
    },
    "hidden": true,
    "id": "mB68qfxTtoMV",
    "outputId": "205d1cce-755a-4056-f040-59ab776a8c70"
   },
   "outputs": [],
   "source": [
    "import warnings\n",
    "warnings.filterwarnings('ignore')\n",
    "from sklearn.model_selection import GridSearchCV\n",
    "\n",
    "model = AdaBoostClassifier(random_state=100)\n",
    "params = {\n",
    "    'n_estimators':(50,100),\n",
    "    'learning_rate':[0.5, 1]\n",
    "}\n",
    "gs = GridSearchCV(model, params)\n",
    "# gs.fit(X_train, y_train)\n",
    "# y_pred = gs.predict(X_test)\n",
    "# print('Best parameter: ', gs.best_params_)"
   ]
  },
  {
   "cell_type": "code",
   "execution_count": null,
   "metadata": {
    "ExecuteTime": {
     "end_time": "2021-11-16T17:20:06.336511Z",
     "start_time": "2021-11-16T17:20:06.336511Z"
    },
    "hidden": true
   },
   "outputs": [],
   "source": [
    "gs.fit(X_trainyoung, y_trainyoung)\n",
    "y_predyoung = gs.predict(X_testyoung)\n",
    "print('Best parameter: ', gs.best_params_)"
   ]
  },
  {
   "cell_type": "code",
   "execution_count": null,
   "metadata": {
    "ExecuteTime": {
     "end_time": "2021-11-16T17:20:06.338509Z",
     "start_time": "2021-11-16T17:20:06.338509Z"
    },
    "hidden": true
   },
   "outputs": [],
   "source": [
    "gs.fit(X_trainold, y_trainold)\n",
    "y_predold = gs.predict(X_testold)\n",
    "print('Best parameter: ', gs.best_params_)"
   ]
  },
  {
   "cell_type": "markdown",
   "metadata": {
    "hidden": true,
    "id": "Rj6plQ4n5iLU"
   },
   "source": [
    "AdaBoost Classifier with best parameter"
   ]
  },
  {
   "cell_type": "code",
   "execution_count": null,
   "metadata": {
    "ExecuteTime": {
     "end_time": "2021-11-16T17:20:06.339513Z",
     "start_time": "2021-11-16T17:20:06.339513Z"
    },
    "colab": {
     "base_uri": "https://localhost:8080/"
    },
    "hidden": true,
    "id": "2L3PuwA9t6R8",
    "outputId": "86739334-bfe8-49b8-ca8b-efcccf6ab35f"
   },
   "outputs": [],
   "source": [
    "#abc = AdaBoostClassifier(learning_rate=1, n_estimators=100)\n",
    "#abc.fit(X_train, y_train)\n",
    "#y_pred = abc.predict(X_test)\n",
    "#accuracy_score(y_test, y_pred)"
   ]
  },
  {
   "cell_type": "code",
   "execution_count": null,
   "metadata": {
    "ExecuteTime": {
     "end_time": "2021-11-16T17:20:06.341514Z",
     "start_time": "2021-11-16T17:20:06.341514Z"
    },
    "hidden": true
   },
   "outputs": [],
   "source": [
    "abcyoung = AdaBoostClassifier(learning_rate=0.5, n_estimators=100)\n",
    "abcyoung.fit(X_trainyoung, y_trainyoung)\n",
    "y_predyoung = abcyoung.predict(X_testyoung)\n",
    "accuracy_score(y_testyoung, y_predyoung)"
   ]
  },
  {
   "cell_type": "code",
   "execution_count": null,
   "metadata": {
    "ExecuteTime": {
     "end_time": "2021-11-16T17:20:06.347513Z",
     "start_time": "2021-11-16T17:20:06.347513Z"
    },
    "hidden": true
   },
   "outputs": [],
   "source": [
    "abcold = AdaBoostClassifier(learning_rate=0.5, n_estimators=50)\n",
    "abcold.fit(X_trainold, y_trainold)\n",
    "y_predold = abcold.predict(X_testold)\n",
    "accuracy_score(y_testold, y_predold)"
   ]
  },
  {
   "cell_type": "code",
   "execution_count": null,
   "metadata": {
    "ExecuteTime": {
     "end_time": "2021-11-16T17:20:06.349513Z",
     "start_time": "2021-11-16T17:20:06.349513Z"
    },
    "hidden": true
   },
   "outputs": [],
   "source": [
    "#print(classification_report(y_test, y_pred))"
   ]
  },
  {
   "cell_type": "code",
   "execution_count": null,
   "metadata": {
    "ExecuteTime": {
     "end_time": "2021-11-16T17:20:06.351514Z",
     "start_time": "2021-11-16T17:20:06.351514Z"
    },
    "hidden": true
   },
   "outputs": [],
   "source": [
    "print(classification_report(y_testyoung, y_predyoung))"
   ]
  },
  {
   "cell_type": "code",
   "execution_count": null,
   "metadata": {
    "ExecuteTime": {
     "end_time": "2021-11-16T17:20:06.354513Z",
     "start_time": "2021-11-16T17:20:06.354513Z"
    },
    "hidden": true
   },
   "outputs": [],
   "source": [
    "print(classification_report(y_testold, y_predold))"
   ]
  },
  {
   "cell_type": "markdown",
   "metadata": {
    "hidden": true,
    "id": "Gs6BHj6t6DcI"
   },
   "source": [
    "GradientBoost with default parameters"
   ]
  },
  {
   "cell_type": "code",
   "execution_count": null,
   "metadata": {
    "ExecuteTime": {
     "end_time": "2021-11-16T17:20:06.357511Z",
     "start_time": "2021-11-16T17:20:06.357511Z"
    },
    "colab": {
     "base_uri": "https://localhost:8080/"
    },
    "hidden": true,
    "id": "UqgEH59gtdnK",
    "outputId": "20e7207c-7aa6-4709-882d-f832b595e639"
   },
   "outputs": [],
   "source": [
    "gbc = GradientBoostingClassifier()\n",
    "#gbc.fit(X_train, y_train)\n",
    "#y_pred = gbc.predict(X_test)\n",
    "#accuracy_score(y_test, y_pred)"
   ]
  },
  {
   "cell_type": "code",
   "execution_count": null,
   "metadata": {
    "ExecuteTime": {
     "end_time": "2021-11-16T17:20:06.361510Z",
     "start_time": "2021-11-16T17:20:06.361510Z"
    },
    "hidden": true
   },
   "outputs": [],
   "source": [
    "gbc.fit(X_trainyoung, y_trainyoung)\n",
    "y_pred = gbc.predict(X_testyoung)\n",
    "accuracy_score(y_testyoung, y_predyoung)"
   ]
  },
  {
   "cell_type": "code",
   "execution_count": null,
   "metadata": {
    "ExecuteTime": {
     "end_time": "2021-11-16T17:20:06.363512Z",
     "start_time": "2021-11-16T17:20:06.363512Z"
    },
    "hidden": true
   },
   "outputs": [],
   "source": [
    "gbc.fit(X_trainold, y_trainold)\n",
    "y_pred = gbc.predict(X_testold)\n",
    "accuracy_score(y_testold, y_predold)"
   ]
  },
  {
   "cell_type": "code",
   "execution_count": null,
   "metadata": {
    "ExecuteTime": {
     "end_time": "2021-11-16T17:20:06.366513Z",
     "start_time": "2021-11-16T17:20:06.366513Z"
    },
    "hidden": true
   },
   "outputs": [],
   "source": [
    "#print(classification_report(y_test, y_pred))"
   ]
  },
  {
   "cell_type": "code",
   "execution_count": null,
   "metadata": {
    "ExecuteTime": {
     "end_time": "2021-11-16T17:20:06.368512Z",
     "start_time": "2021-11-16T17:20:06.368512Z"
    },
    "hidden": true
   },
   "outputs": [],
   "source": [
    "print(classification_report(y_testyoung, y_predyoung))"
   ]
  },
  {
   "cell_type": "code",
   "execution_count": null,
   "metadata": {
    "ExecuteTime": {
     "end_time": "2021-11-16T17:20:06.370510Z",
     "start_time": "2021-11-16T17:20:06.370510Z"
    },
    "hidden": true
   },
   "outputs": [],
   "source": [
    "print(classification_report(y_testold, y_predold))"
   ]
  },
  {
   "cell_type": "markdown",
   "metadata": {
    "hidden": true,
    "id": "NjlUEhne6Gwt"
   },
   "source": [
    "Parameters tuning"
   ]
  },
  {
   "cell_type": "code",
   "execution_count": null,
   "metadata": {
    "ExecuteTime": {
     "end_time": "2021-11-16T17:20:06.371513Z",
     "start_time": "2021-11-16T17:20:06.371513Z"
    },
    "colab": {
     "base_uri": "https://localhost:8080/"
    },
    "hidden": true,
    "id": "M_eTc-Z1tvuh",
    "outputId": "fcc424c2-90ab-4696-adb2-41617900eb23"
   },
   "outputs": [],
   "source": [
    "model = GradientBoostingClassifier(random_state=100)\n",
    "params = {\n",
    "        'n_estimators':range(1,50),\n",
    "        'learning_rate':[0.001, 0.01, 0.1, 0.2, 0.5, 1]\n",
    "}\n",
    "gs = GridSearchCV(model, params)\n",
    "# gs.fit(X_train, y_train)\n",
    "# print('Best parameter: ', gs.best_params_)"
   ]
  },
  {
   "cell_type": "code",
   "execution_count": null,
   "metadata": {
    "ExecuteTime": {
     "end_time": "2021-11-16T17:20:06.374511Z",
     "start_time": "2021-11-16T17:20:06.374511Z"
    },
    "hidden": true
   },
   "outputs": [],
   "source": [
    "gs.fit(X_trainyoung, y_trainyoung)\n",
    "print('Best parameter: ', gs.best_params_)"
   ]
  },
  {
   "cell_type": "code",
   "execution_count": null,
   "metadata": {
    "ExecuteTime": {
     "end_time": "2021-11-16T17:20:06.377510Z",
     "start_time": "2021-11-16T17:20:06.377510Z"
    },
    "hidden": true
   },
   "outputs": [],
   "source": [
    "gs.fit(X_trainold, y_trainold)\n",
    "print('Best parameter: ', gs.best_params_)"
   ]
  },
  {
   "cell_type": "markdown",
   "metadata": {
    "hidden": true,
    "id": "G3ZoWCHV6JEC"
   },
   "source": [
    "GradientBoost with best parameters\n"
   ]
  },
  {
   "cell_type": "code",
   "execution_count": null,
   "metadata": {
    "ExecuteTime": {
     "end_time": "2021-11-16T17:20:06.378512Z",
     "start_time": "2021-11-16T17:20:06.378512Z"
    },
    "colab": {
     "base_uri": "https://localhost:8080/"
    },
    "hidden": true,
    "id": "54qmmUFKt8JC",
    "outputId": "c02c5aa9-81e6-4a23-cbd5-dd76259618f4"
   },
   "outputs": [],
   "source": [
    "#gbc = GradientBoostingClassifier(learning_rate=0.55, n_estimators=53)\n",
    "#gbc.fit(X_train, y_train)\n",
    "#y_pred = gbc.predict(X_test)\n",
    "#accuracy_score(y_test, y_pred)"
   ]
  },
  {
   "cell_type": "code",
   "execution_count": null,
   "metadata": {
    "ExecuteTime": {
     "end_time": "2021-11-16T17:20:06.380509Z",
     "start_time": "2021-11-16T17:20:06.380509Z"
    },
    "hidden": true
   },
   "outputs": [],
   "source": [
    "gbcyoung = GradientBoostingClassifier(learning_rate=0.5, n_estimators=29)\n",
    "gbcyoung.fit(X_trainyoung, y_trainyoung)\n",
    "y_predyoung = gbc.predict(X_testyoung)\n",
    "accuracy_score(y_testyoung, y_predyoung)"
   ]
  },
  {
   "cell_type": "code",
   "execution_count": null,
   "metadata": {
    "ExecuteTime": {
     "end_time": "2021-11-16T17:20:06.381508Z",
     "start_time": "2021-11-16T17:20:06.381508Z"
    },
    "hidden": true
   },
   "outputs": [],
   "source": [
    "gbcold = GradientBoostingClassifier(learning_rate=0.1, n_estimators=29)\n",
    "gbc.fit(X_trainold, y_trainold)\n",
    "y_predold = gbc.predict(X_testold)\n",
    "accuracy_score(y_testold, y_predold)"
   ]
  },
  {
   "cell_type": "code",
   "execution_count": null,
   "metadata": {
    "ExecuteTime": {
     "end_time": "2021-11-16T17:20:06.383512Z",
     "start_time": "2021-11-16T17:20:06.383512Z"
    },
    "hidden": true
   },
   "outputs": [],
   "source": [
    "#print(classification_report(y_test, y_pred))"
   ]
  },
  {
   "cell_type": "code",
   "execution_count": null,
   "metadata": {
    "ExecuteTime": {
     "end_time": "2021-11-16T17:20:06.385511Z",
     "start_time": "2021-11-16T17:20:06.385511Z"
    },
    "hidden": true
   },
   "outputs": [],
   "source": [
    "print(classification_report(y_testyoung, y_predyoung))"
   ]
  },
  {
   "cell_type": "code",
   "execution_count": null,
   "metadata": {
    "ExecuteTime": {
     "end_time": "2021-11-16T17:20:06.386512Z",
     "start_time": "2021-11-16T17:20:06.386512Z"
    },
    "hidden": true
   },
   "outputs": [],
   "source": [
    "print(classification_report(y_testold, y_predold))"
   ]
  },
  {
   "cell_type": "markdown",
   "metadata": {
    "id": "gJ6dKHscAv04"
   },
   "source": [
    "# Summary"
   ]
  },
  {
   "cell_type": "code",
   "execution_count": null,
   "metadata": {
    "ExecuteTime": {
     "end_time": "2021-11-16T17:20:06.388509Z",
     "start_time": "2021-11-16T17:20:06.388509Z"
    }
   },
   "outputs": [],
   "source": [
    "#hasil = gbc.predict(datatest)\n",
    "#hasil = pd.DataFrame(hasil,columns=[\"Y\"])\n",
    "#hasil = pd.concat([datatest[\"ID\"],hasil], axis=1)"
   ]
  },
  {
   "cell_type": "code",
   "execution_count": null,
   "metadata": {
    "ExecuteTime": {
     "end_time": "2021-11-16T17:20:06.390512Z",
     "start_time": "2021-11-16T17:20:06.390512Z"
    }
   },
   "outputs": [],
   "source": [
    "#hasil"
   ]
  },
  {
   "cell_type": "code",
   "execution_count": null,
   "metadata": {
    "ExecuteTime": {
     "end_time": "2021-11-16T17:20:06.391512Z",
     "start_time": "2021-11-16T17:20:06.391512Z"
    }
   },
   "outputs": [],
   "source": [
    "#hasil.to_csv(\"GradientBoost.csv\",index=False)"
   ]
  },
  {
   "cell_type": "markdown",
   "metadata": {
    "id": "f-H1hAB2Axop"
   },
   "source": [
    "Dengan hasil diatas maka dapat diambil kesimpulan bahwa 81.5% data dapat dijelaskan oleh model Adaboost Classifier dan 80% data dapat dijelaskan oleh model GradientBoost Classifier. Sisanya merupakan error atau pengaruh lainnya."
   ]
  }
 ],
 "metadata": {
  "colab": {
   "collapsed_sections": [],
   "name": "AdaBoost_GradientBoost.ipynb",
   "provenance": []
  },
  "kernelspec": {
   "display_name": "Python 3 (ipykernel)",
   "language": "python",
   "name": "python3"
  },
  "language_info": {
   "codemirror_mode": {
    "name": "ipython",
    "version": 3
   },
   "file_extension": ".py",
   "mimetype": "text/x-python",
   "name": "python",
   "nbconvert_exporter": "python",
   "pygments_lexer": "ipython3",
   "version": "3.8.12"
  },
  "toc": {
   "base_numbering": 1,
   "nav_menu": {},
   "number_sections": true,
   "sideBar": true,
   "skip_h1_title": false,
   "title_cell": "Table of Contents",
   "title_sidebar": "Contents",
   "toc_cell": false,
   "toc_position": {},
   "toc_section_display": true,
   "toc_window_display": false
  }
 },
 "nbformat": 4,
 "nbformat_minor": 1
}
