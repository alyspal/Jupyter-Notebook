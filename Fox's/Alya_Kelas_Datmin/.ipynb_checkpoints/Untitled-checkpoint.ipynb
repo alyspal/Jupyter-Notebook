{
 "cells": [
  {
   "cell_type": "code",
   "execution_count": 1,
   "id": "2bfd4e21",
   "metadata": {
    "ExecuteTime": {
     "end_time": "2021-11-13T15:42:01.659148Z",
     "start_time": "2021-11-13T15:41:59.603147Z"
    }
   },
   "outputs": [],
   "source": [
    "import pandas as pd\n",
    "import numpy as np\n",
    "import matplotlib.pyplot as plt\n",
    "import seaborn as sns\n",
    "\n",
    "from sklearn.model_selection import train_test_split\n",
    "from sklearn.ensemble import GradientBoostingRegressor\n",
    "from sklearn.ensemble import GradientBoostingClassifier\n",
    "from sklearn.metrics import classification_report\n",
    "from sklearn.model_selection import cross_val_score\n",
    "from sklearn.model_selection import RepeatedStratifiedKFold\n",
    "\n",
    "from pandas_profiling import ProfileReport"
   ]
  },
  {
   "cell_type": "code",
   "execution_count": 2,
   "id": "804fc722",
   "metadata": {
    "ExecuteTime": {
     "end_time": "2021-11-13T15:42:01.690148Z",
     "start_time": "2021-11-13T15:42:01.660146Z"
    }
   },
   "outputs": [],
   "source": [
    "train = pd.read_csv(\"Train.csv\")\n",
    "test = pd.read_csv(\"Test.csv\")"
   ]
  },
  {
   "cell_type": "code",
   "execution_count": 3,
   "id": "bf6d9822",
   "metadata": {
    "ExecuteTime": {
     "end_time": "2021-11-13T15:42:01.722149Z",
     "start_time": "2021-11-13T15:42:01.693150Z"
    }
   },
   "outputs": [
    {
     "data": {
      "text/html": [
       "<div>\n",
       "<style scoped>\n",
       "    .dataframe tbody tr th:only-of-type {\n",
       "        vertical-align: middle;\n",
       "    }\n",
       "\n",
       "    .dataframe tbody tr th {\n",
       "        vertical-align: top;\n",
       "    }\n",
       "\n",
       "    .dataframe thead th {\n",
       "        text-align: right;\n",
       "    }\n",
       "</style>\n",
       "<table border=\"1\" class=\"dataframe\">\n",
       "  <thead>\n",
       "    <tr style=\"text-align: right;\">\n",
       "      <th></th>\n",
       "      <th>ID</th>\n",
       "      <th>Provinsi</th>\n",
       "      <th>KodeKabKot</th>\n",
       "      <th>Y</th>\n",
       "      <th>X1</th>\n",
       "      <th>X2</th>\n",
       "      <th>X3</th>\n",
       "      <th>X4</th>\n",
       "      <th>X5</th>\n",
       "      <th>X6</th>\n",
       "      <th>Z1</th>\n",
       "      <th>Z2</th>\n",
       "      <th>Z3</th>\n",
       "      <th>Z4</th>\n",
       "    </tr>\n",
       "  </thead>\n",
       "  <tbody>\n",
       "    <tr>\n",
       "      <th>0</th>\n",
       "      <td>1</td>\n",
       "      <td>11</td>\n",
       "      <td>1101</td>\n",
       "      <td>0</td>\n",
       "      <td>1</td>\n",
       "      <td>27</td>\n",
       "      <td>0</td>\n",
       "      <td>0</td>\n",
       "      <td>1</td>\n",
       "      <td>1</td>\n",
       "      <td>1.077</td>\n",
       "      <td>15.075</td>\n",
       "      <td>26.919</td>\n",
       "      <td>390.869</td>\n",
       "    </tr>\n",
       "    <tr>\n",
       "      <th>1</th>\n",
       "      <td>2</td>\n",
       "      <td>11</td>\n",
       "      <td>1101</td>\n",
       "      <td>0</td>\n",
       "      <td>1</td>\n",
       "      <td>38</td>\n",
       "      <td>0</td>\n",
       "      <td>0</td>\n",
       "      <td>1</td>\n",
       "      <td>0</td>\n",
       "      <td>1.077</td>\n",
       "      <td>15.075</td>\n",
       "      <td>26.919</td>\n",
       "      <td>390.869</td>\n",
       "    </tr>\n",
       "    <tr>\n",
       "      <th>2</th>\n",
       "      <td>4</td>\n",
       "      <td>11</td>\n",
       "      <td>1101</td>\n",
       "      <td>0</td>\n",
       "      <td>0</td>\n",
       "      <td>36</td>\n",
       "      <td>0</td>\n",
       "      <td>0</td>\n",
       "      <td>0</td>\n",
       "      <td>1</td>\n",
       "      <td>1.077</td>\n",
       "      <td>15.075</td>\n",
       "      <td>26.919</td>\n",
       "      <td>390.869</td>\n",
       "    </tr>\n",
       "    <tr>\n",
       "      <th>3</th>\n",
       "      <td>7</td>\n",
       "      <td>11</td>\n",
       "      <td>1101</td>\n",
       "      <td>0</td>\n",
       "      <td>0</td>\n",
       "      <td>27</td>\n",
       "      <td>0</td>\n",
       "      <td>0</td>\n",
       "      <td>1</td>\n",
       "      <td>1</td>\n",
       "      <td>1.077</td>\n",
       "      <td>15.075</td>\n",
       "      <td>26.919</td>\n",
       "      <td>390.869</td>\n",
       "    </tr>\n",
       "    <tr>\n",
       "      <th>4</th>\n",
       "      <td>8</td>\n",
       "      <td>11</td>\n",
       "      <td>1101</td>\n",
       "      <td>0</td>\n",
       "      <td>1</td>\n",
       "      <td>36</td>\n",
       "      <td>1</td>\n",
       "      <td>0</td>\n",
       "      <td>0</td>\n",
       "      <td>0</td>\n",
       "      <td>1.077</td>\n",
       "      <td>15.075</td>\n",
       "      <td>26.919</td>\n",
       "      <td>390.869</td>\n",
       "    </tr>\n",
       "  </tbody>\n",
       "</table>\n",
       "</div>"
      ],
      "text/plain": [
       "   ID  Provinsi  KodeKabKot  Y  X1  X2  X3  X4  X5  X6     Z1      Z2      Z3  \\\n",
       "0   1        11        1101  0   1  27   0   0   1   1  1.077  15.075  26.919   \n",
       "1   2        11        1101  0   1  38   0   0   1   0  1.077  15.075  26.919   \n",
       "2   4        11        1101  0   0  36   0   0   0   1  1.077  15.075  26.919   \n",
       "3   7        11        1101  0   0  27   0   0   1   1  1.077  15.075  26.919   \n",
       "4   8        11        1101  0   1  36   1   0   0   0  1.077  15.075  26.919   \n",
       "\n",
       "        Z4  \n",
       "0  390.869  \n",
       "1  390.869  \n",
       "2  390.869  \n",
       "3  390.869  \n",
       "4  390.869  "
      ]
     },
     "execution_count": 3,
     "metadata": {},
     "output_type": "execute_result"
    }
   ],
   "source": [
    "train.head(5)"
   ]
  },
  {
   "cell_type": "code",
   "execution_count": 4,
   "id": "226d0334",
   "metadata": {
    "ExecuteTime": {
     "end_time": "2021-11-13T15:42:01.738150Z",
     "start_time": "2021-11-13T15:42:01.725150Z"
    }
   },
   "outputs": [
    {
     "name": "stdout",
     "output_type": "stream",
     "text": [
      "<class 'pandas.core.frame.DataFrame'>\n",
      "RangeIndex: 13626 entries, 0 to 13625\n",
      "Data columns (total 14 columns):\n",
      " #   Column      Non-Null Count  Dtype  \n",
      "---  ------      --------------  -----  \n",
      " 0   ID          13626 non-null  int64  \n",
      " 1   Provinsi    13626 non-null  int64  \n",
      " 2   KodeKabKot  13626 non-null  int64  \n",
      " 3   Y           13626 non-null  int64  \n",
      " 4   X1          13626 non-null  int64  \n",
      " 5   X2          13626 non-null  int64  \n",
      " 6   X3          13626 non-null  int64  \n",
      " 7   X4          13626 non-null  int64  \n",
      " 8   X5          13626 non-null  int64  \n",
      " 9   X6          13626 non-null  int64  \n",
      " 10  Z1          13626 non-null  float64\n",
      " 11  Z2          13626 non-null  float64\n",
      " 12  Z3          13626 non-null  float64\n",
      " 13  Z4          13621 non-null  float64\n",
      "dtypes: float64(4), int64(10)\n",
      "memory usage: 1.5 MB\n"
     ]
    }
   ],
   "source": [
    "train.info(5)"
   ]
  },
  {
   "cell_type": "code",
   "execution_count": 5,
   "id": "e2825e13",
   "metadata": {
    "ExecuteTime": {
     "end_time": "2021-11-13T15:42:01.754149Z",
     "start_time": "2021-11-13T15:42:01.739147Z"
    }
   },
   "outputs": [
    {
     "data": {
      "text/plain": [
       "ID            0.000000\n",
       "Provinsi      0.000000\n",
       "KodeKabKot    0.000000\n",
       "Y             0.000000\n",
       "X1            0.000000\n",
       "X2            0.000000\n",
       "X3            0.000000\n",
       "X4            0.000000\n",
       "X5            0.000000\n",
       "X6            0.000000\n",
       "Z1            0.000000\n",
       "Z2            0.000000\n",
       "Z3            0.000000\n",
       "Z4            0.036695\n",
       "dtype: float64"
      ]
     },
     "execution_count": 5,
     "metadata": {},
     "output_type": "execute_result"
    }
   ],
   "source": [
    "# mencari presentasi null\n",
    "(train.isnull().sum()/len(train)) *100 "
   ]
  },
  {
   "cell_type": "code",
   "execution_count": 6,
   "id": "26ed593b",
   "metadata": {
    "ExecuteTime": {
     "end_time": "2021-11-13T15:42:01.770148Z",
     "start_time": "2021-11-13T15:42:01.755150Z"
    }
   },
   "outputs": [
    {
     "data": {
      "text/plain": [
       "ID            0.0\n",
       "Provinsi      0.0\n",
       "KodeKabKot    0.0\n",
       "Y             0.0\n",
       "X1            0.0\n",
       "X2            0.0\n",
       "X3            0.0\n",
       "X4            0.0\n",
       "X5            0.0\n",
       "X6            0.0\n",
       "Z1            0.0\n",
       "Z2            0.0\n",
       "Z3            0.0\n",
       "Z4            0.0\n",
       "dtype: float64"
      ]
     },
     "execution_count": 6,
     "metadata": {},
     "output_type": "execute_result"
    }
   ],
   "source": [
    "train = train.fillna(train.mean())\n",
    "# mencari presentasi null\n",
    "(train.isnull().sum()/len(train)) *100 "
   ]
  },
  {
   "cell_type": "code",
   "execution_count": 7,
   "id": "de4ddd62",
   "metadata": {
    "ExecuteTime": {
     "end_time": "2021-11-13T15:42:01.832149Z",
     "start_time": "2021-11-13T15:42:01.771147Z"
    },
    "scrolled": true
   },
   "outputs": [
    {
     "data": {
      "text/html": [
       "<div>\n",
       "<style scoped>\n",
       "    .dataframe tbody tr th:only-of-type {\n",
       "        vertical-align: middle;\n",
       "    }\n",
       "\n",
       "    .dataframe tbody tr th {\n",
       "        vertical-align: top;\n",
       "    }\n",
       "\n",
       "    .dataframe thead th {\n",
       "        text-align: right;\n",
       "    }\n",
       "</style>\n",
       "<table border=\"1\" class=\"dataframe\">\n",
       "  <thead>\n",
       "    <tr style=\"text-align: right;\">\n",
       "      <th></th>\n",
       "      <th>ID</th>\n",
       "      <th>Provinsi</th>\n",
       "      <th>KodeKabKot</th>\n",
       "      <th>Y</th>\n",
       "      <th>X1</th>\n",
       "      <th>X2</th>\n",
       "      <th>X3</th>\n",
       "      <th>X4</th>\n",
       "      <th>X5</th>\n",
       "      <th>X6</th>\n",
       "      <th>Z1</th>\n",
       "      <th>Z2</th>\n",
       "      <th>Z3</th>\n",
       "      <th>Z4</th>\n",
       "    </tr>\n",
       "  </thead>\n",
       "  <tbody>\n",
       "    <tr>\n",
       "      <th>count</th>\n",
       "      <td>13626.000000</td>\n",
       "      <td>13626.000000</td>\n",
       "      <td>13626.000000</td>\n",
       "      <td>13626.000000</td>\n",
       "      <td>13626.000000</td>\n",
       "      <td>13626.000000</td>\n",
       "      <td>13626.000000</td>\n",
       "      <td>13626.000000</td>\n",
       "      <td>13626.000000</td>\n",
       "      <td>13626.000000</td>\n",
       "      <td>13626.000000</td>\n",
       "      <td>13626.000000</td>\n",
       "      <td>13626.000000</td>\n",
       "      <td>13626.000000</td>\n",
       "    </tr>\n",
       "    <tr>\n",
       "      <th>mean</th>\n",
       "      <td>9763.218406</td>\n",
       "      <td>44.562601</td>\n",
       "      <td>4477.179363</td>\n",
       "      <td>0.409511</td>\n",
       "      <td>0.610744</td>\n",
       "      <td>30.380229</td>\n",
       "      <td>0.487817</td>\n",
       "      <td>0.401805</td>\n",
       "      <td>0.813518</td>\n",
       "      <td>0.875899</td>\n",
       "      <td>1.227538</td>\n",
       "      <td>6.876482</td>\n",
       "      <td>35.597681</td>\n",
       "      <td>197.945368</td>\n",
       "    </tr>\n",
       "    <tr>\n",
       "      <th>std</th>\n",
       "      <td>5654.343886</td>\n",
       "      <td>26.377273</td>\n",
       "      <td>2633.993903</td>\n",
       "      <td>0.491762</td>\n",
       "      <td>0.487599</td>\n",
       "      <td>6.357110</td>\n",
       "      <td>0.499870</td>\n",
       "      <td>0.490281</td>\n",
       "      <td>0.389509</td>\n",
       "      <td>0.329709</td>\n",
       "      <td>1.059310</td>\n",
       "      <td>5.638141</td>\n",
       "      <td>33.103822</td>\n",
       "      <td>137.379205</td>\n",
       "    </tr>\n",
       "    <tr>\n",
       "      <th>min</th>\n",
       "      <td>1.000000</td>\n",
       "      <td>11.000000</td>\n",
       "      <td>1101.000000</td>\n",
       "      <td>0.000000</td>\n",
       "      <td>0.000000</td>\n",
       "      <td>14.000000</td>\n",
       "      <td>0.000000</td>\n",
       "      <td>0.000000</td>\n",
       "      <td>0.000000</td>\n",
       "      <td>0.000000</td>\n",
       "      <td>0.000000</td>\n",
       "      <td>0.369000</td>\n",
       "      <td>0.861000</td>\n",
       "      <td>20.183000</td>\n",
       "    </tr>\n",
       "    <tr>\n",
       "      <th>25%</th>\n",
       "      <td>4866.500000</td>\n",
       "      <td>18.000000</td>\n",
       "      <td>1804.000000</td>\n",
       "      <td>0.000000</td>\n",
       "      <td>0.000000</td>\n",
       "      <td>26.000000</td>\n",
       "      <td>0.000000</td>\n",
       "      <td>0.000000</td>\n",
       "      <td>1.000000</td>\n",
       "      <td>1.000000</td>\n",
       "      <td>0.564000</td>\n",
       "      <td>3.183000</td>\n",
       "      <td>16.744000</td>\n",
       "      <td>102.504250</td>\n",
       "    </tr>\n",
       "    <tr>\n",
       "      <th>50%</th>\n",
       "      <td>9773.500000</td>\n",
       "      <td>35.000000</td>\n",
       "      <td>3523.000000</td>\n",
       "      <td>0.000000</td>\n",
       "      <td>1.000000</td>\n",
       "      <td>30.000000</td>\n",
       "      <td>0.000000</td>\n",
       "      <td>0.000000</td>\n",
       "      <td>1.000000</td>\n",
       "      <td>1.000000</td>\n",
       "      <td>0.908000</td>\n",
       "      <td>4.965000</td>\n",
       "      <td>25.896000</td>\n",
       "      <td>163.192000</td>\n",
       "    </tr>\n",
       "    <tr>\n",
       "      <th>75%</th>\n",
       "      <td>14651.750000</td>\n",
       "      <td>71.000000</td>\n",
       "      <td>7171.000000</td>\n",
       "      <td>1.000000</td>\n",
       "      <td>1.000000</td>\n",
       "      <td>35.000000</td>\n",
       "      <td>1.000000</td>\n",
       "      <td>1.000000</td>\n",
       "      <td>1.000000</td>\n",
       "      <td>1.000000</td>\n",
       "      <td>1.473000</td>\n",
       "      <td>8.334000</td>\n",
       "      <td>39.854000</td>\n",
       "      <td>257.738000</td>\n",
       "    </tr>\n",
       "    <tr>\n",
       "      <th>max</th>\n",
       "      <td>19530.000000</td>\n",
       "      <td>94.000000</td>\n",
       "      <td>9471.000000</td>\n",
       "      <td>1.000000</td>\n",
       "      <td>1.000000</td>\n",
       "      <td>54.000000</td>\n",
       "      <td>1.000000</td>\n",
       "      <td>1.000000</td>\n",
       "      <td>1.000000</td>\n",
       "      <td>1.000000</td>\n",
       "      <td>6.960000</td>\n",
       "      <td>35.237000</td>\n",
       "      <td>291.322000</td>\n",
       "      <td>1400.875000</td>\n",
       "    </tr>\n",
       "  </tbody>\n",
       "</table>\n",
       "</div>"
      ],
      "text/plain": [
       "                 ID      Provinsi    KodeKabKot             Y            X1  \\\n",
       "count  13626.000000  13626.000000  13626.000000  13626.000000  13626.000000   \n",
       "mean    9763.218406     44.562601   4477.179363      0.409511      0.610744   \n",
       "std     5654.343886     26.377273   2633.993903      0.491762      0.487599   \n",
       "min        1.000000     11.000000   1101.000000      0.000000      0.000000   \n",
       "25%     4866.500000     18.000000   1804.000000      0.000000      0.000000   \n",
       "50%     9773.500000     35.000000   3523.000000      0.000000      1.000000   \n",
       "75%    14651.750000     71.000000   7171.000000      1.000000      1.000000   \n",
       "max    19530.000000     94.000000   9471.000000      1.000000      1.000000   \n",
       "\n",
       "                 X2            X3            X4            X5            X6  \\\n",
       "count  13626.000000  13626.000000  13626.000000  13626.000000  13626.000000   \n",
       "mean      30.380229      0.487817      0.401805      0.813518      0.875899   \n",
       "std        6.357110      0.499870      0.490281      0.389509      0.329709   \n",
       "min       14.000000      0.000000      0.000000      0.000000      0.000000   \n",
       "25%       26.000000      0.000000      0.000000      1.000000      1.000000   \n",
       "50%       30.000000      0.000000      0.000000      1.000000      1.000000   \n",
       "75%       35.000000      1.000000      1.000000      1.000000      1.000000   \n",
       "max       54.000000      1.000000      1.000000      1.000000      1.000000   \n",
       "\n",
       "                 Z1            Z2            Z3            Z4  \n",
       "count  13626.000000  13626.000000  13626.000000  13626.000000  \n",
       "mean       1.227538      6.876482     35.597681    197.945368  \n",
       "std        1.059310      5.638141     33.103822    137.379205  \n",
       "min        0.000000      0.369000      0.861000     20.183000  \n",
       "25%        0.564000      3.183000     16.744000    102.504250  \n",
       "50%        0.908000      4.965000     25.896000    163.192000  \n",
       "75%        1.473000      8.334000     39.854000    257.738000  \n",
       "max        6.960000     35.237000    291.322000   1400.875000  "
      ]
     },
     "execution_count": 7,
     "metadata": {},
     "output_type": "execute_result"
    }
   ],
   "source": [
    "train.describe()"
   ]
  },
  {
   "cell_type": "code",
   "execution_count": 12,
   "id": "307d945d",
   "metadata": {
    "ExecuteTime": {
     "end_time": "2021-11-13T15:45:48.252135Z",
     "start_time": "2021-11-13T15:45:37.896172Z"
    }
   },
   "outputs": [
    {
     "data": {
      "application/vnd.jupyter.widget-view+json": {
       "model_id": "da850e05090e4c17a3e11ebd213d308e",
       "version_major": 2,
       "version_minor": 0
      },
      "text/plain": [
       "Summarize dataset:   0%|          | 0/28 [00:00<?, ?it/s]"
      ]
     },
     "metadata": {},
     "output_type": "display_data"
    },
    {
     "data": {
      "application/vnd.jupyter.widget-view+json": {
       "model_id": "cf076dd3111746f9a2a49578161211f7",
       "version_major": 2,
       "version_minor": 0
      },
      "text/plain": [
       "Generate report structure:   0%|          | 0/1 [00:00<?, ?it/s]"
      ]
     },
     "metadata": {},
     "output_type": "display_data"
    },
    {
     "data": {
      "application/vnd.jupyter.widget-view+json": {
       "model_id": "a4c3acb27b5940ebb99f6c1b05462178",
       "version_major": 2,
       "version_minor": 0
      },
      "text/plain": [
       "Render HTML:   0%|          | 0/1 [00:00<?, ?it/s]"
      ]
     },
     "metadata": {},
     "output_type": "display_data"
    },
    {
     "data": {
      "application/vnd.jupyter.widget-view+json": {
       "model_id": "1f39ea055e7346babf679ec05370e870",
       "version_major": 2,
       "version_minor": 0
      },
      "text/plain": [
       "Export report to file:   0%|          | 0/1 [00:00<?, ?it/s]"
      ]
     },
     "metadata": {},
     "output_type": "display_data"
    }
   ],
   "source": [
    "train_profile = ProfileReport(train)\n",
    "train_profile.to_file(\"mantab.html\")"
   ]
  },
  {
   "cell_type": "code",
   "execution_count": null,
   "id": "52bc287e",
   "metadata": {},
   "outputs": [],
   "source": []
  }
 ],
 "metadata": {
  "kernelspec": {
   "display_name": "Python 3 (ipykernel)",
   "language": "python",
   "name": "python3"
  },
  "language_info": {
   "codemirror_mode": {
    "name": "ipython",
    "version": 3
   },
   "file_extension": ".py",
   "mimetype": "text/x-python",
   "name": "python",
   "nbconvert_exporter": "python",
   "pygments_lexer": "ipython3",
   "version": "3.8.8"
  }
 },
 "nbformat": 4,
 "nbformat_minor": 5
}
