{
 "cells": [
  {
   "cell_type": "markdown",
   "id": "a644dd33",
   "metadata": {
    "id": "a644dd33"
   },
   "source": [
    "# Classification"
   ]
  },
  {
   "cell_type": "markdown",
   "id": "3dd3d4cb",
   "metadata": {
    "id": "3dd3d4cb"
   },
   "source": [
    "## mengimport library yang diperlukan"
   ]
  },
  {
   "cell_type": "code",
   "execution_count": 2,
   "id": "3da4ad5a",
   "metadata": {
    "executionInfo": {
     "elapsed": 1288,
     "status": "ok",
     "timestamp": 1633914671811,
     "user": {
      "displayName": "SHALLY NABILA",
      "photoUrl": "https://lh3.googleusercontent.com/a/default-user=s64",
      "userId": "13932852747204423301"
     },
     "user_tz": -420
    },
    "id": "3da4ad5a"
   },
   "outputs": [],
   "source": [
    "import pandas as pd\n",
    "import numpy as np\n",
    "import matplotlib.pyplot as plt\n",
    "import seaborn as sns\n",
    "from sklearn.preprocessing import OrdinalEncoder"
   ]
  },
  {
   "cell_type": "markdown",
   "id": "345f8ccb",
   "metadata": {
    "id": "345f8ccb"
   },
   "source": [
    "## membaca data"
   ]
  },
  {
   "cell_type": "code",
   "execution_count": 3,
   "id": "46024c82",
   "metadata": {
    "colab": {
     "base_uri": "https://localhost:8080/",
     "height": 419
    },
    "executionInfo": {
     "elapsed": 18,
     "status": "ok",
     "timestamp": 1633914671819,
     "user": {
      "displayName": "SHALLY NABILA",
      "photoUrl": "https://lh3.googleusercontent.com/a/default-user=s64",
      "userId": "13932852747204423301"
     },
     "user_tz": -420
    },
    "id": "46024c82",
    "outputId": "1c1f7965-2d03-4af7-d4d1-566ddd580b6a"
   },
   "outputs": [
    {
     "data": {
      "text/html": [
       "<div>\n",
       "<style scoped>\n",
       "    .dataframe tbody tr th:only-of-type {\n",
       "        vertical-align: middle;\n",
       "    }\n",
       "\n",
       "    .dataframe tbody tr th {\n",
       "        vertical-align: top;\n",
       "    }\n",
       "\n",
       "    .dataframe thead th {\n",
       "        text-align: right;\n",
       "    }\n",
       "</style>\n",
       "<table border=\"1\" class=\"dataframe\">\n",
       "  <thead>\n",
       "    <tr style=\"text-align: right;\">\n",
       "      <th></th>\n",
       "      <th>M</th>\n",
       "      <th>0.455</th>\n",
       "      <th>0.365</th>\n",
       "      <th>0.095</th>\n",
       "      <th>0.514</th>\n",
       "      <th>0.2245</th>\n",
       "      <th>0.101</th>\n",
       "      <th>0.15</th>\n",
       "      <th>15</th>\n",
       "    </tr>\n",
       "  </thead>\n",
       "  <tbody>\n",
       "    <tr>\n",
       "      <th>0</th>\n",
       "      <td>M</td>\n",
       "      <td>0.350</td>\n",
       "      <td>0.265</td>\n",
       "      <td>0.090</td>\n",
       "      <td>0.2255</td>\n",
       "      <td>0.0995</td>\n",
       "      <td>0.0485</td>\n",
       "      <td>0.0700</td>\n",
       "      <td>7</td>\n",
       "    </tr>\n",
       "    <tr>\n",
       "      <th>1</th>\n",
       "      <td>F</td>\n",
       "      <td>0.530</td>\n",
       "      <td>0.420</td>\n",
       "      <td>0.135</td>\n",
       "      <td>0.6770</td>\n",
       "      <td>0.2565</td>\n",
       "      <td>0.1415</td>\n",
       "      <td>0.2100</td>\n",
       "      <td>9</td>\n",
       "    </tr>\n",
       "    <tr>\n",
       "      <th>2</th>\n",
       "      <td>M</td>\n",
       "      <td>0.440</td>\n",
       "      <td>0.365</td>\n",
       "      <td>0.125</td>\n",
       "      <td>0.5160</td>\n",
       "      <td>0.2155</td>\n",
       "      <td>0.1140</td>\n",
       "      <td>0.1550</td>\n",
       "      <td>10</td>\n",
       "    </tr>\n",
       "    <tr>\n",
       "      <th>3</th>\n",
       "      <td>I</td>\n",
       "      <td>0.330</td>\n",
       "      <td>0.255</td>\n",
       "      <td>0.080</td>\n",
       "      <td>0.2050</td>\n",
       "      <td>0.0895</td>\n",
       "      <td>0.0395</td>\n",
       "      <td>0.0550</td>\n",
       "      <td>7</td>\n",
       "    </tr>\n",
       "    <tr>\n",
       "      <th>4</th>\n",
       "      <td>I</td>\n",
       "      <td>0.425</td>\n",
       "      <td>0.300</td>\n",
       "      <td>0.095</td>\n",
       "      <td>0.3515</td>\n",
       "      <td>0.1410</td>\n",
       "      <td>0.0775</td>\n",
       "      <td>0.1200</td>\n",
       "      <td>8</td>\n",
       "    </tr>\n",
       "    <tr>\n",
       "      <th>...</th>\n",
       "      <td>...</td>\n",
       "      <td>...</td>\n",
       "      <td>...</td>\n",
       "      <td>...</td>\n",
       "      <td>...</td>\n",
       "      <td>...</td>\n",
       "      <td>...</td>\n",
       "      <td>...</td>\n",
       "      <td>...</td>\n",
       "    </tr>\n",
       "    <tr>\n",
       "      <th>4171</th>\n",
       "      <td>F</td>\n",
       "      <td>0.565</td>\n",
       "      <td>0.450</td>\n",
       "      <td>0.165</td>\n",
       "      <td>0.8870</td>\n",
       "      <td>0.3700</td>\n",
       "      <td>0.2390</td>\n",
       "      <td>0.2490</td>\n",
       "      <td>11</td>\n",
       "    </tr>\n",
       "    <tr>\n",
       "      <th>4172</th>\n",
       "      <td>M</td>\n",
       "      <td>0.590</td>\n",
       "      <td>0.440</td>\n",
       "      <td>0.135</td>\n",
       "      <td>0.9660</td>\n",
       "      <td>0.4390</td>\n",
       "      <td>0.2145</td>\n",
       "      <td>0.2605</td>\n",
       "      <td>10</td>\n",
       "    </tr>\n",
       "    <tr>\n",
       "      <th>4173</th>\n",
       "      <td>M</td>\n",
       "      <td>0.600</td>\n",
       "      <td>0.475</td>\n",
       "      <td>0.205</td>\n",
       "      <td>1.1760</td>\n",
       "      <td>0.5255</td>\n",
       "      <td>0.2875</td>\n",
       "      <td>0.3080</td>\n",
       "      <td>9</td>\n",
       "    </tr>\n",
       "    <tr>\n",
       "      <th>4174</th>\n",
       "      <td>F</td>\n",
       "      <td>0.625</td>\n",
       "      <td>0.485</td>\n",
       "      <td>0.150</td>\n",
       "      <td>1.0945</td>\n",
       "      <td>0.5310</td>\n",
       "      <td>0.2610</td>\n",
       "      <td>0.2960</td>\n",
       "      <td>10</td>\n",
       "    </tr>\n",
       "    <tr>\n",
       "      <th>4175</th>\n",
       "      <td>M</td>\n",
       "      <td>0.710</td>\n",
       "      <td>0.555</td>\n",
       "      <td>0.195</td>\n",
       "      <td>1.9485</td>\n",
       "      <td>0.9455</td>\n",
       "      <td>0.3765</td>\n",
       "      <td>0.4950</td>\n",
       "      <td>12</td>\n",
       "    </tr>\n",
       "  </tbody>\n",
       "</table>\n",
       "<p>4176 rows × 9 columns</p>\n",
       "</div>"
      ],
      "text/plain": [
       "      M  0.455  0.365  0.095   0.514  0.2245   0.101    0.15  15\n",
       "0     M  0.350  0.265  0.090  0.2255  0.0995  0.0485  0.0700   7\n",
       "1     F  0.530  0.420  0.135  0.6770  0.2565  0.1415  0.2100   9\n",
       "2     M  0.440  0.365  0.125  0.5160  0.2155  0.1140  0.1550  10\n",
       "3     I  0.330  0.255  0.080  0.2050  0.0895  0.0395  0.0550   7\n",
       "4     I  0.425  0.300  0.095  0.3515  0.1410  0.0775  0.1200   8\n",
       "...  ..    ...    ...    ...     ...     ...     ...     ...  ..\n",
       "4171  F  0.565  0.450  0.165  0.8870  0.3700  0.2390  0.2490  11\n",
       "4172  M  0.590  0.440  0.135  0.9660  0.4390  0.2145  0.2605  10\n",
       "4173  M  0.600  0.475  0.205  1.1760  0.5255  0.2875  0.3080   9\n",
       "4174  F  0.625  0.485  0.150  1.0945  0.5310  0.2610  0.2960  10\n",
       "4175  M  0.710  0.555  0.195  1.9485  0.9455  0.3765  0.4950  12\n",
       "\n",
       "[4176 rows x 9 columns]"
      ]
     },
     "execution_count": 3,
     "metadata": {},
     "output_type": "execute_result"
    }
   ],
   "source": [
    "data = pd.read_csv(\"abalone.csv\")\n",
    "data"
   ]
  },
  {
   "cell_type": "code",
   "execution_count": 4,
   "id": "0bb9f354",
   "metadata": {
    "executionInfo": {
     "elapsed": 319,
     "status": "ok",
     "timestamp": 1633914675629,
     "user": {
      "displayName": "SHALLY NABILA",
      "photoUrl": "https://lh3.googleusercontent.com/a/default-user=s64",
      "userId": "13932852747204423301"
     },
     "user_tz": -420
    },
    "id": "0bb9f354"
   },
   "outputs": [],
   "source": [
    "data.columns=['Sex','Length','Diameter','Height','Whole_weight','Shucked_weight','Viscera_weight','Shell_weight','Ring']\n"
   ]
  },
  {
   "cell_type": "code",
   "execution_count": 5,
   "id": "ebbe68d9",
   "metadata": {
    "colab": {
     "base_uri": "https://localhost:8080/",
     "height": 204
    },
    "executionInfo": {
     "elapsed": 457,
     "status": "ok",
     "timestamp": 1633914676469,
     "user": {
      "displayName": "SHALLY NABILA",
      "photoUrl": "https://lh3.googleusercontent.com/a/default-user=s64",
      "userId": "13932852747204423301"
     },
     "user_tz": -420
    },
    "id": "ebbe68d9",
    "outputId": "9f51033a-2c8b-454c-be0d-d72041ac91bb"
   },
   "outputs": [
    {
     "data": {
      "text/html": [
       "<div>\n",
       "<style scoped>\n",
       "    .dataframe tbody tr th:only-of-type {\n",
       "        vertical-align: middle;\n",
       "    }\n",
       "\n",
       "    .dataframe tbody tr th {\n",
       "        vertical-align: top;\n",
       "    }\n",
       "\n",
       "    .dataframe thead th {\n",
       "        text-align: right;\n",
       "    }\n",
       "</style>\n",
       "<table border=\"1\" class=\"dataframe\">\n",
       "  <thead>\n",
       "    <tr style=\"text-align: right;\">\n",
       "      <th></th>\n",
       "      <th>Sex</th>\n",
       "      <th>Length</th>\n",
       "      <th>Diameter</th>\n",
       "      <th>Height</th>\n",
       "      <th>Whole_weight</th>\n",
       "      <th>Shucked_weight</th>\n",
       "      <th>Viscera_weight</th>\n",
       "      <th>Shell_weight</th>\n",
       "      <th>Ring</th>\n",
       "    </tr>\n",
       "  </thead>\n",
       "  <tbody>\n",
       "    <tr>\n",
       "      <th>0</th>\n",
       "      <td>M</td>\n",
       "      <td>0.350</td>\n",
       "      <td>0.265</td>\n",
       "      <td>0.090</td>\n",
       "      <td>0.2255</td>\n",
       "      <td>0.0995</td>\n",
       "      <td>0.0485</td>\n",
       "      <td>0.070</td>\n",
       "      <td>7</td>\n",
       "    </tr>\n",
       "    <tr>\n",
       "      <th>1</th>\n",
       "      <td>F</td>\n",
       "      <td>0.530</td>\n",
       "      <td>0.420</td>\n",
       "      <td>0.135</td>\n",
       "      <td>0.6770</td>\n",
       "      <td>0.2565</td>\n",
       "      <td>0.1415</td>\n",
       "      <td>0.210</td>\n",
       "      <td>9</td>\n",
       "    </tr>\n",
       "    <tr>\n",
       "      <th>2</th>\n",
       "      <td>M</td>\n",
       "      <td>0.440</td>\n",
       "      <td>0.365</td>\n",
       "      <td>0.125</td>\n",
       "      <td>0.5160</td>\n",
       "      <td>0.2155</td>\n",
       "      <td>0.1140</td>\n",
       "      <td>0.155</td>\n",
       "      <td>10</td>\n",
       "    </tr>\n",
       "    <tr>\n",
       "      <th>3</th>\n",
       "      <td>I</td>\n",
       "      <td>0.330</td>\n",
       "      <td>0.255</td>\n",
       "      <td>0.080</td>\n",
       "      <td>0.2050</td>\n",
       "      <td>0.0895</td>\n",
       "      <td>0.0395</td>\n",
       "      <td>0.055</td>\n",
       "      <td>7</td>\n",
       "    </tr>\n",
       "    <tr>\n",
       "      <th>4</th>\n",
       "      <td>I</td>\n",
       "      <td>0.425</td>\n",
       "      <td>0.300</td>\n",
       "      <td>0.095</td>\n",
       "      <td>0.3515</td>\n",
       "      <td>0.1410</td>\n",
       "      <td>0.0775</td>\n",
       "      <td>0.120</td>\n",
       "      <td>8</td>\n",
       "    </tr>\n",
       "  </tbody>\n",
       "</table>\n",
       "</div>"
      ],
      "text/plain": [
       "  Sex  Length  Diameter  ...  Viscera_weight  Shell_weight  Ring\n",
       "0   M   0.350     0.265  ...          0.0485         0.070     7\n",
       "1   F   0.530     0.420  ...          0.1415         0.210     9\n",
       "2   M   0.440     0.365  ...          0.1140         0.155    10\n",
       "3   I   0.330     0.255  ...          0.0395         0.055     7\n",
       "4   I   0.425     0.300  ...          0.0775         0.120     8\n",
       "\n",
       "[5 rows x 9 columns]"
      ]
     },
     "execution_count": 5,
     "metadata": {},
     "output_type": "execute_result"
    }
   ],
   "source": [
    "data.head()"
   ]
  },
  {
   "cell_type": "code",
   "execution_count": 6,
   "id": "b491daf0",
   "metadata": {
    "colab": {
     "base_uri": "https://localhost:8080/"
    },
    "executionInfo": {
     "elapsed": 7,
     "status": "ok",
     "timestamp": 1633914678043,
     "user": {
      "displayName": "SHALLY NABILA",
      "photoUrl": "https://lh3.googleusercontent.com/a/default-user=s64",
      "userId": "13932852747204423301"
     },
     "user_tz": -420
    },
    "id": "b491daf0",
    "outputId": "09887547-37e6-4b4d-daec-285ee8d9459f"
   },
   "outputs": [
    {
     "data": {
      "text/plain": [
       "Index(['Sex', 'Length', 'Diameter', 'Height', 'Whole_weight', 'Shucked_weight',\n",
       "       'Viscera_weight', 'Shell_weight', 'Ring'],\n",
       "      dtype='object')"
      ]
     },
     "execution_count": 6,
     "metadata": {},
     "output_type": "execute_result"
    }
   ],
   "source": [
    "data.keys()"
   ]
  },
  {
   "cell_type": "code",
   "execution_count": 7,
   "id": "ed4185b6",
   "metadata": {
    "colab": {
     "base_uri": "https://localhost:8080/"
    },
    "executionInfo": {
     "elapsed": 10,
     "status": "ok",
     "timestamp": 1633914679102,
     "user": {
      "displayName": "SHALLY NABILA",
      "photoUrl": "https://lh3.googleusercontent.com/a/default-user=s64",
      "userId": "13932852747204423301"
     },
     "user_tz": -420
    },
    "id": "ed4185b6",
    "outputId": "60b5eb33-cb96-4188-d5a3-30d7bc4a02a6"
   },
   "outputs": [
    {
     "name": "stdout",
     "output_type": "stream",
     "text": [
      "<class 'pandas.core.frame.DataFrame'>\n",
      "RangeIndex: 4176 entries, 0 to 4175\n",
      "Data columns (total 9 columns):\n",
      " #   Column          Non-Null Count  Dtype  \n",
      "---  ------          --------------  -----  \n",
      " 0   Sex             4176 non-null   object \n",
      " 1   Length          4176 non-null   float64\n",
      " 2   Diameter        4176 non-null   float64\n",
      " 3   Height          4176 non-null   float64\n",
      " 4   Whole_weight    4176 non-null   float64\n",
      " 5   Shucked_weight  4176 non-null   float64\n",
      " 6   Viscera_weight  4176 non-null   float64\n",
      " 7   Shell_weight    4176 non-null   float64\n",
      " 8   Ring            4176 non-null   int64  \n",
      "dtypes: float64(7), int64(1), object(1)\n",
      "memory usage: 293.8+ KB\n"
     ]
    }
   ],
   "source": [
    "df = pd.DataFrame(data)\n",
    "df.info()"
   ]
  },
  {
   "cell_type": "markdown",
   "id": "65447b27",
   "metadata": {
    "id": "65447b27"
   },
   "source": [
    "## EDA"
   ]
  },
  {
   "cell_type": "markdown",
   "id": "87e2be2c",
   "metadata": {
    "id": "87e2be2c"
   },
   "source": [
    "### Statistika deskriptif"
   ]
  },
  {
   "cell_type": "code",
   "execution_count": 8,
   "id": "a62d4d27",
   "metadata": {
    "colab": {
     "base_uri": "https://localhost:8080/",
     "height": 297
    },
    "executionInfo": {
     "elapsed": 7,
     "status": "ok",
     "timestamp": 1633914681459,
     "user": {
      "displayName": "SHALLY NABILA",
      "photoUrl": "https://lh3.googleusercontent.com/a/default-user=s64",
      "userId": "13932852747204423301"
     },
     "user_tz": -420
    },
    "id": "a62d4d27",
    "outputId": "194a92a1-eb58-4d92-f315-cffbed64dcd5"
   },
   "outputs": [
    {
     "data": {
      "text/html": [
       "<div>\n",
       "<style scoped>\n",
       "    .dataframe tbody tr th:only-of-type {\n",
       "        vertical-align: middle;\n",
       "    }\n",
       "\n",
       "    .dataframe tbody tr th {\n",
       "        vertical-align: top;\n",
       "    }\n",
       "\n",
       "    .dataframe thead th {\n",
       "        text-align: right;\n",
       "    }\n",
       "</style>\n",
       "<table border=\"1\" class=\"dataframe\">\n",
       "  <thead>\n",
       "    <tr style=\"text-align: right;\">\n",
       "      <th></th>\n",
       "      <th>Length</th>\n",
       "      <th>Diameter</th>\n",
       "      <th>Height</th>\n",
       "      <th>Whole_weight</th>\n",
       "      <th>Shucked_weight</th>\n",
       "      <th>Viscera_weight</th>\n",
       "      <th>Shell_weight</th>\n",
       "      <th>Ring</th>\n",
       "    </tr>\n",
       "  </thead>\n",
       "  <tbody>\n",
       "    <tr>\n",
       "      <th>count</th>\n",
       "      <td>4176.000000</td>\n",
       "      <td>4176.000000</td>\n",
       "      <td>4176.000000</td>\n",
       "      <td>4176.000000</td>\n",
       "      <td>4176.00000</td>\n",
       "      <td>4176.000000</td>\n",
       "      <td>4176.000000</td>\n",
       "      <td>4176.000000</td>\n",
       "    </tr>\n",
       "    <tr>\n",
       "      <th>mean</th>\n",
       "      <td>0.524009</td>\n",
       "      <td>0.407892</td>\n",
       "      <td>0.139527</td>\n",
       "      <td>0.828818</td>\n",
       "      <td>0.35940</td>\n",
       "      <td>0.180613</td>\n",
       "      <td>0.238852</td>\n",
       "      <td>9.932471</td>\n",
       "    </tr>\n",
       "    <tr>\n",
       "      <th>std</th>\n",
       "      <td>0.120103</td>\n",
       "      <td>0.099250</td>\n",
       "      <td>0.041826</td>\n",
       "      <td>0.490424</td>\n",
       "      <td>0.22198</td>\n",
       "      <td>0.109620</td>\n",
       "      <td>0.139213</td>\n",
       "      <td>3.223601</td>\n",
       "    </tr>\n",
       "    <tr>\n",
       "      <th>min</th>\n",
       "      <td>0.075000</td>\n",
       "      <td>0.055000</td>\n",
       "      <td>0.000000</td>\n",
       "      <td>0.002000</td>\n",
       "      <td>0.00100</td>\n",
       "      <td>0.000500</td>\n",
       "      <td>0.001500</td>\n",
       "      <td>1.000000</td>\n",
       "    </tr>\n",
       "    <tr>\n",
       "      <th>25%</th>\n",
       "      <td>0.450000</td>\n",
       "      <td>0.350000</td>\n",
       "      <td>0.115000</td>\n",
       "      <td>0.441500</td>\n",
       "      <td>0.18600</td>\n",
       "      <td>0.093375</td>\n",
       "      <td>0.130000</td>\n",
       "      <td>8.000000</td>\n",
       "    </tr>\n",
       "    <tr>\n",
       "      <th>50%</th>\n",
       "      <td>0.545000</td>\n",
       "      <td>0.425000</td>\n",
       "      <td>0.140000</td>\n",
       "      <td>0.799750</td>\n",
       "      <td>0.33600</td>\n",
       "      <td>0.171000</td>\n",
       "      <td>0.234000</td>\n",
       "      <td>9.000000</td>\n",
       "    </tr>\n",
       "    <tr>\n",
       "      <th>75%</th>\n",
       "      <td>0.615000</td>\n",
       "      <td>0.480000</td>\n",
       "      <td>0.165000</td>\n",
       "      <td>1.153250</td>\n",
       "      <td>0.50200</td>\n",
       "      <td>0.253000</td>\n",
       "      <td>0.329000</td>\n",
       "      <td>11.000000</td>\n",
       "    </tr>\n",
       "    <tr>\n",
       "      <th>max</th>\n",
       "      <td>0.815000</td>\n",
       "      <td>0.650000</td>\n",
       "      <td>1.130000</td>\n",
       "      <td>2.825500</td>\n",
       "      <td>1.48800</td>\n",
       "      <td>0.760000</td>\n",
       "      <td>1.005000</td>\n",
       "      <td>29.000000</td>\n",
       "    </tr>\n",
       "  </tbody>\n",
       "</table>\n",
       "</div>"
      ],
      "text/plain": [
       "            Length     Diameter  ...  Shell_weight         Ring\n",
       "count  4176.000000  4176.000000  ...   4176.000000  4176.000000\n",
       "mean      0.524009     0.407892  ...      0.238852     9.932471\n",
       "std       0.120103     0.099250  ...      0.139213     3.223601\n",
       "min       0.075000     0.055000  ...      0.001500     1.000000\n",
       "25%       0.450000     0.350000  ...      0.130000     8.000000\n",
       "50%       0.545000     0.425000  ...      0.234000     9.000000\n",
       "75%       0.615000     0.480000  ...      0.329000    11.000000\n",
       "max       0.815000     0.650000  ...      1.005000    29.000000\n",
       "\n",
       "[8 rows x 8 columns]"
      ]
     },
     "execution_count": 8,
     "metadata": {},
     "output_type": "execute_result"
    }
   ],
   "source": [
    "df.describe()"
   ]
  },
  {
   "cell_type": "markdown",
   "id": "69ce647d",
   "metadata": {
    "id": "69ce647d"
   },
   "source": [
    "### Pengecekan missing value"
   ]
  },
  {
   "cell_type": "code",
   "execution_count": 9,
   "id": "c28c45b6",
   "metadata": {
    "colab": {
     "base_uri": "https://localhost:8080/"
    },
    "executionInfo": {
     "elapsed": 306,
     "status": "ok",
     "timestamp": 1633914683744,
     "user": {
      "displayName": "SHALLY NABILA",
      "photoUrl": "https://lh3.googleusercontent.com/a/default-user=s64",
      "userId": "13932852747204423301"
     },
     "user_tz": -420
    },
    "id": "c28c45b6",
    "outputId": "4b8b25df-3de5-47e1-ad22-9ac40ad14ac5"
   },
   "outputs": [
    {
     "data": {
      "text/plain": [
       "Sex               0\n",
       "Length            0\n",
       "Diameter          0\n",
       "Height            0\n",
       "Whole_weight      0\n",
       "Shucked_weight    0\n",
       "Viscera_weight    0\n",
       "Shell_weight      0\n",
       "Ring              0\n",
       "dtype: int64"
      ]
     },
     "execution_count": 9,
     "metadata": {},
     "output_type": "execute_result"
    }
   ],
   "source": [
    "df.isnull().sum()"
   ]
  },
  {
   "cell_type": "markdown",
   "id": "d7e8b58a",
   "metadata": {
    "id": "d7e8b58a"
   },
   "source": [
    "### Cek imbalance"
   ]
  },
  {
   "cell_type": "code",
   "execution_count": 10,
   "id": "adc8c506",
   "metadata": {
    "colab": {
     "base_uri": "https://localhost:8080/",
     "height": 296
    },
    "executionInfo": {
     "elapsed": 800,
     "status": "ok",
     "timestamp": 1633914686367,
     "user": {
      "displayName": "SHALLY NABILA",
      "photoUrl": "https://lh3.googleusercontent.com/a/default-user=s64",
      "userId": "13932852747204423301"
     },
     "user_tz": -420
    },
    "id": "adc8c506",
    "outputId": "8bfb4721-e8ca-4ce9-b4ab-14e283fc5fe7"
   },
   "outputs": [
    {
     "data": {
      "text/plain": [
       "<matplotlib.axes._subplots.AxesSubplot at 0x7f4244481f50>"
      ]
     },
     "execution_count": 10,
     "metadata": {},
     "output_type": "execute_result"
    },
    {
     "data": {
      "image/png": "[encoded data removed]",
      "text/plain": [
       "<Figure size 432x288 with 1 Axes>"
      ]
     },
     "metadata": {},
     "output_type": "display_data"
    }
   ],
   "source": [
    "sns.set_style('whitegrid')\n",
    "sns.countplot(x=df['Ring'],data=df,palette='RdBu_r')"
   ]
  },
  {
   "cell_type": "markdown",
   "id": "sdNTq0eS0elL",
   "metadata": {
    "id": "sdNTq0eS0elL"
   },
   "source": [
    "**Pemeriksaan korelasi antar variabel kuantitatif**"
   ]
  },
  {
   "cell_type": "code",
   "execution_count": 11,
   "id": "ssh4Vbp11YMl",
   "metadata": {
    "colab": {
     "base_uri": "https://localhost:8080/"
    },
    "executionInfo": {
     "elapsed": 5,
     "status": "ok",
     "timestamp": 1633914687413,
     "user": {
      "displayName": "SHALLY NABILA",
      "photoUrl": "https://lh3.googleusercontent.com/a/default-user=s64",
      "userId": "13932852747204423301"
     },
     "user_tz": -420
    },
    "id": "ssh4Vbp11YMl",
    "outputId": "856f8975-d015-4c85-a688-0f033c6f6f86"
   },
   "outputs": [
    {
     "data": {
      "text/plain": [
       "array([ 7,  9, 10,  8, 20, 16, 19, 14, 11, 12, 15, 18, 13,  5,  4,  6, 21,\n",
       "       17, 22,  1,  3, 26, 23, 29,  2, 27, 25, 24])"
      ]
     },
     "execution_count": 11,
     "metadata": {},
     "output_type": "execute_result"
    }
   ],
   "source": [
    "df['Ring'].unique()"
   ]
  },
  {
   "cell_type": "code",
   "execution_count": null,
   "id": "4c9147e9",
   "metadata": {
    "colab": {
     "base_uri": "https://localhost:8080/",
     "height": 430
    },
    "executionInfo": {
     "elapsed": 473,
     "status": "ok",
     "timestamp": 1633831690783,
     "user": {
      "displayName": "SHALLY NABILA",
      "photoUrl": "https://lh3.googleusercontent.com/a/default-user=s64",
      "userId": "13932852747204423301"
     },
     "user_tz": -420
    },
    "id": "4c9147e9",
    "outputId": "fa0b8db7-a776-44b4-e14d-03c9c80eac08"
   },
   "outputs": [
    {
     "data": {
      "image/png": "[encoded data removed]",
      "text/plain": [
       "<Figure size 720x360 with 2 Axes>"
      ]
     },
     "metadata": {},
     "output_type": "display_data"
    }
   ],
   "source": [
    "df_corr = df.drop('Sex', axis=1).corr()\n",
    "label = ['Length', 'Diameter', 'Height', 'Whole_height', 'Shucked_weight', 'Viscera_weight', 'Shell_weight', 'Ring']\n",
    "fig, ax = plt.subplots(figsize=(10,5))\n",
    "sns.heatmap(df_corr, cmap='YlGnBu', linewidths=0.3, xticklabels=label, yticklabels=label)\n",
    "plt.title('Korelasi Antar Variabel', loc='center', pad=20, fontsize=25, color='black')\n",
    "labels, locations = plt.yticks()"
   ]
  },
  {
   "cell_type": "code",
   "execution_count": 12,
   "id": "bc7b78a0",
   "metadata": {
    "colab": {
     "base_uri": "https://localhost:8080/",
     "height": 521
    },
    "executionInfo": {
     "elapsed": 38202,
     "status": "ok",
     "timestamp": 1633914728323,
     "user": {
      "displayName": "SHALLY NABILA",
      "photoUrl": "https://lh3.googleusercontent.com/a/default-user=s64",
      "userId": "13932852747204423301"
     },
     "user_tz": -420
    },
    "id": "bc7b78a0",
    "outputId": "db348c14-cfc1-478e-f4e4-838ca02717d3"
   },
   "outputs": [
    {
     "data": {
      "image/png": "[encoded data removed]",
      "text/plain": [
       "<Figure size 552.75x504 with 56 Axes>"
      ]
     },
     "metadata": {},
     "output_type": "display_data"
    }
   ],
   "source": [
    "sns.set_style('whitegrid')\n",
    "sns.pairplot(df,hue='Ring', height=1)\n",
    "plt.show()"
   ]
  },
  {
   "cell_type": "code",
   "execution_count": 13,
   "id": "f081edb1",
   "metadata": {
    "colab": {
     "base_uri": "https://localhost:8080/",
     "height": 1000
    },
    "executionInfo": {
     "elapsed": 5595,
     "status": "ok",
     "timestamp": 1633914733910,
     "user": {
      "displayName": "SHALLY NABILA",
      "photoUrl": "https://lh3.googleusercontent.com/a/default-user=s64",
      "userId": "13932852747204423301"
     },
     "user_tz": -420
    },
    "id": "f081edb1",
    "outputId": "8f643e3f-cf16-4d37-b5c6-3484fac50194"
   },
   "outputs": [
    {
     "data": {
      "image/png": "[encoded data removed]",
      "text/plain": [
       "<Figure size 432x288 with 1 Axes>"
      ]
     },
     "metadata": {},
     "output_type": "display_data"
    },
    {
     "data": {
      "image/png": "[encoded data removed]",
      "text/plain": [
       "<Figure size 432x288 with 1 Axes>"
      ]
     },
     "metadata": {},
     "output_type": "display_data"
    },
    {
     "data": {
      "image/png": "[encoded data removed]",
      "text/plain": [
       "<Figure size 432x288 with 1 Axes>"
      ]
     },
     "metadata": {},
     "output_type": "display_data"
    },
    {
     "data": {
      "image/png": "[encoded data removed]",
      "text/plain": [
       "<Figure size 432x288 with 1 Axes>"
      ]
     },
     "metadata": {},
     "output_type": "display_data"
    },
    {
     "data": {
      "image/png": "[encoded data removed]",
      "text/plain": [
       "<Figure size 432x288 with 1 Axes>"
      ]
     },
     "metadata": {},
     "output_type": "display_data"
    },
    {
     "data": {
      "image/png": "[encoded data removed]",
      "text/plain": [
       "<Figure size 432x288 with 1 Axes>"
      ]
     },
     "metadata": {},
     "output_type": "display_data"
    },
    {
     "data": {
      "image/png": "[encoded data removed]",
      "text/plain": [
       "<Figure size 432x288 with 1 Axes>"
      ]
     },
     "metadata": {},
     "output_type": "display_data"
    },
    {
     "data": {
      "image/png": "[encoded data removed]",
      "text/plain": [
       "<Figure size 432x288 with 1 Axes>"
      ]
     },
     "metadata": {},
     "output_type": "display_data"
    },
    {
     "data": {
      "text/plain": [
       "<Figure size 432x288 with 0 Axes>"
      ]
     },
     "metadata": {},
     "output_type": "display_data"
    }
   ],
   "source": [
    "l=list(df.columns[0:10])\n",
    "for i in range(len(l)-1):\n",
    "    sns.boxplot(x='Ring',y=l[i], data=df, palette='winter')\n",
    "    plt.figure()"
   ]
  },
  {
   "cell_type": "markdown",
   "id": "nTfzvW9Z1o2x",
   "metadata": {
    "id": "nTfzvW9Z1o2x"
   },
   "source": [
    "## Pembangunan Model"
   ]
  },
  {
   "cell_type": "markdown",
   "id": "ZSdUFOLg2CS9",
   "metadata": {
    "id": "ZSdUFOLg2CS9"
   },
   "source": [
    "### Splitting data"
   ]
  },
  {
   "cell_type": "code",
   "execution_count": 14,
   "id": "Q6un3tXp2G9S",
   "metadata": {
    "colab": {
     "base_uri": "https://localhost:8080/",
     "height": 204
    },
    "executionInfo": {
     "elapsed": 298,
     "status": "ok",
     "timestamp": 1633914850497,
     "user": {
      "displayName": "SHALLY NABILA",
      "photoUrl": "https://lh3.googleusercontent.com/a/default-user=s64",
      "userId": "13932852747204423301"
     },
     "user_tz": -420
    },
    "id": "Q6un3tXp2G9S",
    "outputId": "1ac9c578-a56b-4cdd-ce6d-def3a25cda73"
   },
   "outputs": [
    {
     "data": {
      "text/html": [
       "<div>\n",
       "<style scoped>\n",
       "    .dataframe tbody tr th:only-of-type {\n",
       "        vertical-align: middle;\n",
       "    }\n",
       "\n",
       "    .dataframe tbody tr th {\n",
       "        vertical-align: top;\n",
       "    }\n",
       "\n",
       "    .dataframe thead th {\n",
       "        text-align: right;\n",
       "    }\n",
       "</style>\n",
       "<table border=\"1\" class=\"dataframe\">\n",
       "  <thead>\n",
       "    <tr style=\"text-align: right;\">\n",
       "      <th></th>\n",
       "      <th>Sex</th>\n",
       "      <th>Length</th>\n",
       "      <th>Diameter</th>\n",
       "      <th>Height</th>\n",
       "      <th>Whole_weight</th>\n",
       "      <th>Shucked_weight</th>\n",
       "      <th>Viscera_weight</th>\n",
       "      <th>Shell_weight</th>\n",
       "    </tr>\n",
       "  </thead>\n",
       "  <tbody>\n",
       "    <tr>\n",
       "      <th>0</th>\n",
       "      <td>M</td>\n",
       "      <td>0.350</td>\n",
       "      <td>0.265</td>\n",
       "      <td>0.090</td>\n",
       "      <td>0.2255</td>\n",
       "      <td>0.0995</td>\n",
       "      <td>0.0485</td>\n",
       "      <td>0.070</td>\n",
       "    </tr>\n",
       "    <tr>\n",
       "      <th>1</th>\n",
       "      <td>F</td>\n",
       "      <td>0.530</td>\n",
       "      <td>0.420</td>\n",
       "      <td>0.135</td>\n",
       "      <td>0.6770</td>\n",
       "      <td>0.2565</td>\n",
       "      <td>0.1415</td>\n",
       "      <td>0.210</td>\n",
       "    </tr>\n",
       "    <tr>\n",
       "      <th>2</th>\n",
       "      <td>M</td>\n",
       "      <td>0.440</td>\n",
       "      <td>0.365</td>\n",
       "      <td>0.125</td>\n",
       "      <td>0.5160</td>\n",
       "      <td>0.2155</td>\n",
       "      <td>0.1140</td>\n",
       "      <td>0.155</td>\n",
       "    </tr>\n",
       "    <tr>\n",
       "      <th>3</th>\n",
       "      <td>I</td>\n",
       "      <td>0.330</td>\n",
       "      <td>0.255</td>\n",
       "      <td>0.080</td>\n",
       "      <td>0.2050</td>\n",
       "      <td>0.0895</td>\n",
       "      <td>0.0395</td>\n",
       "      <td>0.055</td>\n",
       "    </tr>\n",
       "    <tr>\n",
       "      <th>4</th>\n",
       "      <td>I</td>\n",
       "      <td>0.425</td>\n",
       "      <td>0.300</td>\n",
       "      <td>0.095</td>\n",
       "      <td>0.3515</td>\n",
       "      <td>0.1410</td>\n",
       "      <td>0.0775</td>\n",
       "      <td>0.120</td>\n",
       "    </tr>\n",
       "  </tbody>\n",
       "</table>\n",
       "</div>"
      ],
      "text/plain": [
       "  Sex  Length  Diameter  ...  Shucked_weight  Viscera_weight  Shell_weight\n",
       "0   M   0.350     0.265  ...          0.0995          0.0485         0.070\n",
       "1   F   0.530     0.420  ...          0.2565          0.1415         0.210\n",
       "2   M   0.440     0.365  ...          0.2155          0.1140         0.155\n",
       "3   I   0.330     0.255  ...          0.0895          0.0395         0.055\n",
       "4   I   0.425     0.300  ...          0.1410          0.0775         0.120\n",
       "\n",
       "[5 rows x 8 columns]"
      ]
     },
     "execution_count": 14,
     "metadata": {},
     "output_type": "execute_result"
    }
   ],
   "source": [
    "# Kita akan membuat 2 DataFrame:  \n",
    "# df_feat yang khusus hanya akan berisi nilai-nilai atribut/fitur/variabel saja.\n",
    "# dan \n",
    "# df_target yang khusus hanya akan berisi label/kelas/target \n",
    "df_feat = df.drop('Ring',axis=1) \n",
    "df_feat.head()"
   ]
  },
  {
   "cell_type": "code",
   "execution_count": 15,
   "id": "LuaM9BHM2G_V",
   "metadata": {
    "executionInfo": {
     "elapsed": 409,
     "status": "ok",
     "timestamp": 1633914853387,
     "user": {
      "displayName": "SHALLY NABILA",
      "photoUrl": "https://lh3.googleusercontent.com/a/default-user=s64",
      "userId": "13932852747204423301"
     },
     "user_tz": -420
    },
    "id": "LuaM9BHM2G_V"
   },
   "outputs": [],
   "source": [
    "df_feat.loc[(df_feat.Sex == 'M'), 'Sex'] = 0\n",
    "df_feat.loc[(df_feat.Sex == 'F'), 'Sex'] = 1\n",
    "df_feat.loc[(df_feat.Sex == 'I'), 'Sex'] = 2"
   ]
  },
  {
   "cell_type": "code",
   "execution_count": 16,
   "id": "8NTugdjd2HBz",
   "metadata": {
    "colab": {
     "base_uri": "https://localhost:8080/"
    },
    "executionInfo": {
     "elapsed": 461,
     "status": "ok",
     "timestamp": 1633914854217,
     "user": {
      "displayName": "SHALLY NABILA",
      "photoUrl": "https://lh3.googleusercontent.com/a/default-user=s64",
      "userId": "13932852747204423301"
     },
     "user_tz": -420
    },
    "id": "8NTugdjd2HBz",
    "outputId": "c2c1af0c-2911-47f3-bd9b-670c25f02304"
   },
   "outputs": [
    {
     "data": {
      "text/plain": [
       "0       0\n",
       "1       1\n",
       "2       0\n",
       "3       2\n",
       "4       2\n",
       "       ..\n",
       "4171    1\n",
       "4172    0\n",
       "4173    0\n",
       "4174    1\n",
       "4175    0\n",
       "Name: Sex, Length: 4176, dtype: int64"
      ]
     },
     "execution_count": 16,
     "metadata": {},
     "output_type": "execute_result"
    }
   ],
   "source": [
    "df_feat['Sex'].astype('int')"
   ]
  },
  {
   "cell_type": "code",
   "execution_count": 17,
   "id": "EAP8hgmbsNmd",
   "metadata": {
    "colab": {
     "base_uri": "https://localhost:8080/"
    },
    "executionInfo": {
     "elapsed": 276,
     "status": "ok",
     "timestamp": 1633914856200,
     "user": {
      "displayName": "SHALLY NABILA",
      "photoUrl": "https://lh3.googleusercontent.com/a/default-user=s64",
      "userId": "13932852747204423301"
     },
     "user_tz": -420
    },
    "id": "EAP8hgmbsNmd",
    "outputId": "d7cf385e-6276-495a-c08a-882badbca912"
   },
   "outputs": [
    {
     "name": "stdout",
     "output_type": "stream",
     "text": [
      "<class 'pandas.core.frame.DataFrame'>\n",
      "RangeIndex: 4176 entries, 0 to 4175\n",
      "Data columns (total 9 columns):\n",
      " #   Column          Non-Null Count  Dtype  \n",
      "---  ------          --------------  -----  \n",
      " 0   Sex             4176 non-null   object \n",
      " 1   Length          4176 non-null   float64\n",
      " 2   Diameter        4176 non-null   float64\n",
      " 3   Height          4176 non-null   float64\n",
      " 4   Whole_weight    4176 non-null   float64\n",
      " 5   Shucked_weight  4176 non-null   float64\n",
      " 6   Viscera_weight  4176 non-null   float64\n",
      " 7   Shell_weight    4176 non-null   float64\n",
      " 8   Ring            4176 non-null   int64  \n",
      "dtypes: float64(7), int64(1), object(1)\n",
      "memory usage: 293.8+ KB\n"
     ]
    }
   ],
   "source": [
    "df.info()"
   ]
  },
  {
   "cell_type": "markdown",
   "id": "Q_m8fGDp3ylv",
   "metadata": {
    "id": "Q_m8fGDp3ylv"
   },
   "source": [
    "### Transformasi min max scaler"
   ]
  },
  {
   "cell_type": "code",
   "execution_count": 18,
   "id": "e0Hxfza92HDv",
   "metadata": {
    "colab": {
     "base_uri": "https://localhost:8080/"
    },
    "executionInfo": {
     "elapsed": 284,
     "status": "ok",
     "timestamp": 1633914858526,
     "user": {
      "displayName": "SHALLY NABILA",
      "photoUrl": "https://lh3.googleusercontent.com/a/default-user=s64",
      "userId": "13932852747204423301"
     },
     "user_tz": -420
    },
    "id": "e0Hxfza92HDv",
    "outputId": "22e1ead0-43b7-40c5-dc63-36a23a43bd09"
   },
   "outputs": [
    {
     "name": "stdout",
     "output_type": "stream",
     "text": [
      "                min  max\n",
      "Length          0.0  1.0\n",
      "Diameter        0.0  1.0\n",
      "Height          0.0  1.0\n",
      "Whole_weight    0.0  1.0\n",
      "Shucked_weight  0.0  1.0\n",
      "Viscera_weight  0.0  1.0\n",
      "Shell_weight    0.0  1.0\n"
     ]
    }
   ],
   "source": [
    "from sklearn.preprocessing import MinMaxScaler  \n",
    "#Define MinMaxScaler as scaler  \n",
    "scaler = MinMaxScaler()  \n",
    "columns = ['Length', 'Diameter', 'Height', 'Whole_weight', 'Shucked_weight', 'Viscera_weight', 'Shell_weight']\n",
    "df_feat[columns] = scaler.fit_transform(df_feat[columns])\n",
    "\n",
    "df_feat[columns] = pd.DataFrame(df_feat[columns])\n",
    "print(df_feat[columns].describe().T[['min','max']])"
   ]
  },
  {
   "cell_type": "code",
   "execution_count": 19,
   "id": "EVIxDmQC4DFE",
   "metadata": {
    "colab": {
     "base_uri": "https://localhost:8080/"
    },
    "executionInfo": {
     "elapsed": 21,
     "status": "ok",
     "timestamp": 1633914861428,
     "user": {
      "displayName": "SHALLY NABILA",
      "photoUrl": "https://lh3.googleusercontent.com/a/default-user=s64",
      "userId": "13932852747204423301"
     },
     "user_tz": -420
    },
    "id": "EVIxDmQC4DFE",
    "outputId": "8846a84e-2f5f-44cd-f4a6-a7d72126ded4"
   },
   "outputs": [
    {
     "data": {
      "text/plain": [
       "0     7\n",
       "1     9\n",
       "2    10\n",
       "3     7\n",
       "4     8\n",
       "Name: Ring, dtype: int64"
      ]
     },
     "execution_count": 19,
     "metadata": {},
     "output_type": "execute_result"
    }
   ],
   "source": [
    "# df_target yang khusus hanya akan berisi label/kelas/target, yaitu apakah positif kanker ganas atau tidak\n",
    "df_target = df['Ring'] \n",
    "df_target.head()"
   ]
  },
  {
   "cell_type": "code",
   "execution_count": 20,
   "id": "w3BVz6CL4DHj",
   "metadata": {
    "executionInfo": {
     "elapsed": 718,
     "status": "ok",
     "timestamp": 1633914864425,
     "user": {
      "displayName": "SHALLY NABILA",
      "photoUrl": "https://lh3.googleusercontent.com/a/default-user=s64",
      "userId": "13932852747204423301"
     },
     "user_tz": -420
    },
    "id": "w3BVz6CL4DHj"
   },
   "outputs": [],
   "source": [
    "from sklearn.model_selection import train_test_split"
   ]
  },
  {
   "cell_type": "code",
   "execution_count": 21,
   "id": "vDXLZrh54DJb",
   "metadata": {
    "executionInfo": {
     "elapsed": 4,
     "status": "ok",
     "timestamp": 1633914865078,
     "user": {
      "displayName": "SHALLY NABILA",
      "photoUrl": "https://lh3.googleusercontent.com/a/default-user=s64",
      "userId": "13932852747204423301"
     },
     "user_tz": -420
    },
    "id": "vDXLZrh54DJb"
   },
   "outputs": [],
   "source": [
    "# Proporsi yang digunakan adalah 70% untuk training dan 30% untuk testing secara acak.\n",
    "# Karena pembagian dilakukan secara acak, maka, kita tambahkan parameter random_state agar pengacakan ini bisa direplikasi kemudian hari\n",
    "X_train, X_test, y_train, y_test = train_test_split(df_feat, df_target, test_size=0.30, random_state=123)"
   ]
  },
  {
   "cell_type": "markdown",
   "id": "oFO3yttw4MB2",
   "metadata": {
    "id": "oFO3yttw4MB2"
   },
   "source": [
    "X_train: atribut-atribut data latih\n",
    "\n",
    "X_test: atribut-atribut data uji\n",
    "\n",
    "y_train: label/kelas data latih\n",
    "\n",
    "y_test: label/kelas data uji"
   ]
  },
  {
   "cell_type": "code",
   "execution_count": 22,
   "id": "3CSeDF1w4ONu",
   "metadata": {
    "colab": {
     "base_uri": "https://localhost:8080/"
    },
    "executionInfo": {
     "elapsed": 11,
     "status": "ok",
     "timestamp": 1633914868680,
     "user": {
      "displayName": "SHALLY NABILA",
      "photoUrl": "https://lh3.googleusercontent.com/a/default-user=s64",
      "userId": "13932852747204423301"
     },
     "user_tz": -420
    },
    "id": "3CSeDF1w4ONu",
    "outputId": "d093f7f3-71d6-42e7-a0af-a06dd51f634f"
   },
   "outputs": [
    {
     "data": {
      "text/plain": [
       "3524     6\n",
       "112      9\n",
       "2979     7\n",
       "1715    12\n",
       "3548     9\n",
       "Name: Ring, dtype: int64"
      ]
     },
     "execution_count": 22,
     "metadata": {},
     "output_type": "execute_result"
    }
   ],
   "source": [
    "y_train.head()"
   ]
  },
  {
   "cell_type": "markdown",
   "id": "0qOxdjHe419h",
   "metadata": {
    "id": "0qOxdjHe419h"
   },
   "source": [
    "## Training Model"
   ]
  },
  {
   "cell_type": "markdown",
   "id": "Y0iQH9_v4_uH",
   "metadata": {
    "id": "Y0iQH9_v4_uH"
   },
   "source": [
    "### Random Forest"
   ]
  },
  {
   "cell_type": "code",
   "execution_count": 23,
   "id": "qOV0GqKv4OUg",
   "metadata": {
    "executionInfo": {
     "elapsed": 305,
     "status": "ok",
     "timestamp": 1633914870709,
     "user": {
      "displayName": "SHALLY NABILA",
      "photoUrl": "https://lh3.googleusercontent.com/a/default-user=s64",
      "userId": "13932852747204423301"
     },
     "user_tz": -420
    },
    "id": "qOV0GqKv4OUg"
   },
   "outputs": [],
   "source": [
    "from sklearn.ensemble import RandomForestClassifier"
   ]
  },
  {
   "cell_type": "code",
   "execution_count": 24,
   "id": "ygH6XotG4DLf",
   "metadata": {
    "executionInfo": {
     "elapsed": 5,
     "status": "ok",
     "timestamp": 1633914872060,
     "user": {
      "displayName": "SHALLY NABILA",
      "photoUrl": "https://lh3.googleusercontent.com/a/default-user=s64",
      "userId": "13932852747204423301"
     },
     "user_tz": -420
    },
    "id": "ygH6XotG4DLf"
   },
   "outputs": [],
   "source": [
    "model = RandomForestClassifier(random_state=123)"
   ]
  },
  {
   "cell_type": "code",
   "execution_count": 25,
   "id": "Kvr_KsHl5LLL",
   "metadata": {
    "colab": {
     "base_uri": "https://localhost:8080/"
    },
    "executionInfo": {
     "elapsed": 1154,
     "status": "ok",
     "timestamp": 1633914874389,
     "user": {
      "displayName": "SHALLY NABILA",
      "photoUrl": "https://lh3.googleusercontent.com/a/default-user=s64",
      "userId": "13932852747204423301"
     },
     "user_tz": -420
    },
    "id": "Kvr_KsHl5LLL",
    "outputId": "93ef8dd1-b099-4d0a-e840-6a557ca078f8"
   },
   "outputs": [
    {
     "data": {
      "text/plain": [
       "RandomForestClassifier(bootstrap=True, ccp_alpha=0.0, class_weight=None,\n",
       "                       criterion='gini', max_depth=None, max_features='auto',\n",
       "                       max_leaf_nodes=None, max_samples=None,\n",
       "                       min_impurity_decrease=0.0, min_impurity_split=None,\n",
       "                       min_samples_leaf=1, min_samples_split=2,\n",
       "                       min_weight_fraction_leaf=0.0, n_estimators=100,\n",
       "                       n_jobs=None, oob_score=False, random_state=123,\n",
       "                       verbose=0, warm_start=False)"
      ]
     },
     "execution_count": 25,
     "metadata": {},
     "output_type": "execute_result"
    }
   ],
   "source": [
    "model.fit(X_train,y_train)"
   ]
  },
  {
   "cell_type": "markdown",
   "id": "_pL7TREt5P1Q",
   "metadata": {
    "id": "_pL7TREt5P1Q"
   },
   "source": [
    "**Prediksi dan evaluasi model**"
   ]
  },
  {
   "cell_type": "code",
   "execution_count": 26,
   "id": "7JV6RZc85LIu",
   "metadata": {
    "executionInfo": {
     "elapsed": 284,
     "status": "ok",
     "timestamp": 1633914877939,
     "user": {
      "displayName": "SHALLY NABILA",
      "photoUrl": "https://lh3.googleusercontent.com/a/default-user=s64",
      "userId": "13932852747204423301"
     },
     "user_tz": -420
    },
    "id": "7JV6RZc85LIu"
   },
   "outputs": [],
   "source": [
    "from sklearn.datasets import make_classification\n",
    "\n",
    "predictions = model.predict(X_test)"
   ]
  },
  {
   "cell_type": "code",
   "execution_count": 27,
   "id": "A_uQjsW85LG9",
   "metadata": {
    "executionInfo": {
     "elapsed": 288,
     "status": "ok",
     "timestamp": 1633914879844,
     "user": {
      "displayName": "SHALLY NABILA",
      "photoUrl": "https://lh3.googleusercontent.com/a/default-user=s64",
      "userId": "13932852747204423301"
     },
     "user_tz": -420
    },
    "id": "A_uQjsW85LG9"
   },
   "outputs": [],
   "source": [
    "from sklearn.metrics import classification_report,accuracy_score\n",
    "from sklearn.metrics import confusion_matrix,ConfusionMatrixDisplay\n"
   ]
  },
  {
   "cell_type": "markdown",
   "id": "nhNFvmwn5aOX",
   "metadata": {
    "id": "nhNFvmwn5aOX"
   },
   "source": [
    "**Menampilkan confusion matrix**"
   ]
  },
  {
   "cell_type": "code",
   "execution_count": 28,
   "id": "RJo91TEx5LEH",
   "metadata": {
    "colab": {
     "base_uri": "https://localhost:8080/"
    },
    "executionInfo": {
     "elapsed": 507,
     "status": "ok",
     "timestamp": 1633914881264,
     "user": {
      "displayName": "SHALLY NABILA",
      "photoUrl": "https://lh3.googleusercontent.com/a/default-user=s64",
      "userId": "13932852747204423301"
     },
     "user_tz": -420
    },
    "id": "RJo91TEx5LEH",
    "outputId": "e073cc89-ac3f-4418-d20c-bc246544f248"
   },
   "outputs": [
    {
     "data": {
      "text/plain": [
       "array([[ 0,  0,  0, ...,  0,  0,  0],\n",
       "       [ 0,  0,  0, ...,  0,  0,  0],\n",
       "       [ 0,  0,  0, ...,  0,  0,  0],\n",
       "       ...,\n",
       "       [ 0,  0,  0, ..., 66, 52,  6],\n",
       "       [ 0,  0,  0, ..., 47, 56,  7],\n",
       "       [ 0,  0,  0, ..., 12, 25,  7]])"
      ]
     },
     "execution_count": 28,
     "metadata": {},
     "output_type": "execute_result"
    }
   ],
   "source": [
    "cm = confusion_matrix(y_test, predictions, labels=df_target)\n",
    "cm"
   ]
  },
  {
   "cell_type": "markdown",
   "id": "0YMoLQ5j76t0",
   "metadata": {
    "id": "0YMoLQ5j76t0"
   },
   "source": [
    "**menghitung accuracy, presisi, recall dan f1 score**"
   ]
  },
  {
   "cell_type": "code",
   "execution_count": 29,
   "id": "8IINBHSE5LBo",
   "metadata": {
    "colab": {
     "base_uri": "https://localhost:8080/"
    },
    "executionInfo": {
     "elapsed": 277,
     "status": "ok",
     "timestamp": 1633914882508,
     "user": {
      "displayName": "SHALLY NABILA",
      "photoUrl": "https://lh3.googleusercontent.com/a/default-user=s64",
      "userId": "13932852747204423301"
     },
     "user_tz": -420
    },
    "id": "8IINBHSE5LBo",
    "outputId": "3a7f64fd-3aff-434c-9278-782d887e4937"
   },
   "outputs": [
    {
     "name": "stdout",
     "output_type": "stream",
     "text": [
      "              precision    recall  f1-score   support\n",
      "\n",
      "           1       0.00      0.00      0.00         1\n",
      "           3       0.25      0.50      0.33         4\n",
      "           4       0.27      0.14      0.19        21\n",
      "           5       0.35      0.33      0.34        33\n",
      "           6       0.26      0.25      0.25        72\n",
      "           7       0.28      0.38      0.32       115\n",
      "           8       0.29      0.31      0.30       170\n",
      "           9       0.28      0.30      0.29       221\n",
      "          10       0.23      0.29      0.26       193\n",
      "          11       0.23      0.26      0.25       142\n",
      "          12       0.14      0.09      0.11        81\n",
      "          13       0.06      0.05      0.05        59\n",
      "          14       0.05      0.03      0.04        33\n",
      "          15       0.06      0.03      0.04        35\n",
      "          16       0.00      0.00      0.00        23\n",
      "          17       0.00      0.00      0.00        20\n",
      "          18       0.00      0.00      0.00         9\n",
      "          19       0.00      0.00      0.00         5\n",
      "          20       0.00      0.00      0.00         8\n",
      "          21       0.00      0.00      0.00         5\n",
      "          23       0.00      0.00      0.00         2\n",
      "          24       0.00      0.00      0.00         1\n",
      "\n",
      "    accuracy                           0.24      1253\n",
      "   macro avg       0.13      0.13      0.13      1253\n",
      "weighted avg       0.22      0.24      0.23      1253\n",
      "\n"
     ]
    },
    {
     "name": "stderr",
     "output_type": "stream",
     "text": [
      "/usr/local/lib/python3.7/dist-packages/sklearn/metrics/_classification.py:1272: UndefinedMetricWarning: Precision and F-score are ill-defined and being set to 0.0 in labels with no predicted samples. Use `zero_division` parameter to control this behavior.\n",
      "  _warn_prf(average, modifier, msg_start, len(result))\n"
     ]
    }
   ],
   "source": [
    "print(classification_report(y_test,predictions))"
   ]
  },
  {
   "cell_type": "code",
   "execution_count": 30,
   "id": "5dFhHXO36pK0",
   "metadata": {
    "colab": {
     "base_uri": "https://localhost:8080/"
    },
    "executionInfo": {
     "elapsed": 473,
     "status": "ok",
     "timestamp": 1633914893030,
     "user": {
      "displayName": "SHALLY NABILA",
      "photoUrl": "https://lh3.googleusercontent.com/a/default-user=s64",
      "userId": "13932852747204423301"
     },
     "user_tz": -420
    },
    "id": "5dFhHXO36pK0",
    "outputId": "edfb3625-d763-4561-a7d3-7b2e53aac20b"
   },
   "outputs": [
    {
     "data": {
      "text/plain": [
       "RandomForestClassifier(bootstrap=True, ccp_alpha=0.0, class_weight=None,\n",
       "                       criterion='gini', max_depth=None, max_features='auto',\n",
       "                       max_leaf_nodes=None, max_samples=None,\n",
       "                       min_impurity_decrease=0.0, min_impurity_split=None,\n",
       "                       min_samples_leaf=1, min_samples_split=2,\n",
       "                       min_weight_fraction_leaf=0.0, n_estimators=100,\n",
       "                       n_jobs=None, oob_score=False, random_state=None,\n",
       "                       verbose=0, warm_start=False)"
      ]
     },
     "execution_count": 30,
     "metadata": {},
     "output_type": "execute_result"
    }
   ],
   "source": [
    "RandomForestClassifier()"
   ]
  },
  {
   "cell_type": "markdown",
   "id": "BQXLOwQgFfgz",
   "metadata": {
    "id": "BQXLOwQgFfgz"
   },
   "source": [
    "### Adaboost "
   ]
  },
  {
   "cell_type": "code",
   "execution_count": null,
   "id": "JJF0m0k45K-7",
   "metadata": {
    "id": "JJF0m0k45K-7"
   },
   "outputs": [],
   "source": [
    "from sklearn.ensemble import AdaBoostClassifier"
   ]
  },
  {
   "cell_type": "code",
   "execution_count": null,
   "id": "lAc0p8L-HCqH",
   "metadata": {
    "colab": {
     "base_uri": "https://localhost:8080/"
    },
    "executionInfo": {
     "elapsed": 868,
     "status": "ok",
     "timestamp": 1633834378213,
     "user": {
      "displayName": "SHALLY NABILA",
      "photoUrl": "https://lh3.googleusercontent.com/a/default-user=s64",
      "userId": "13932852747204423301"
     },
     "user_tz": -420
    },
    "id": "lAc0p8L-HCqH",
    "outputId": "39a12352-461d-4750-d4ba-f8fb3dc35b57"
   },
   "outputs": [
    {
     "data": {
      "text/plain": [
       "AdaBoostClassifier(algorithm='SAMME.R', base_estimator=None, learning_rate=1,\n",
       "                   n_estimators=50, random_state=None)"
      ]
     },
     "execution_count": 47,
     "metadata": {},
     "output_type": "execute_result"
    }
   ],
   "source": [
    "model = AdaBoostClassifier(n_estimators=50,\n",
    "                         learning_rate=1)\n",
    "model.fit(X_train, y_train)\n"
   ]
  },
  {
   "cell_type": "markdown",
   "id": "P6abra0DHmnT",
   "metadata": {
    "id": "P6abra0DHmnT"
   },
   "source": [
    "**Prediksi dan evaluasi model**"
   ]
  },
  {
   "cell_type": "code",
   "execution_count": null,
   "id": "roQxgwZ6HmTF",
   "metadata": {
    "id": "roQxgwZ6HmTF"
   },
   "outputs": [],
   "source": [
    "from sklearn.datasets import make_classification\n",
    "\n",
    "predictions = model.predict(X_test)"
   ]
  },
  {
   "cell_type": "markdown",
   "id": "YdwckQj_HvJW",
   "metadata": {
    "id": "YdwckQj_HvJW"
   },
   "source": [
    "**confusion matrix**"
   ]
  },
  {
   "cell_type": "code",
   "execution_count": null,
   "id": "fjFsqEjxHKrk",
   "metadata": {
    "colab": {
     "base_uri": "https://localhost:8080/"
    },
    "executionInfo": {
     "elapsed": 324,
     "status": "ok",
     "timestamp": 1633834510381,
     "user": {
      "displayName": "SHALLY NABILA",
      "photoUrl": "https://lh3.googleusercontent.com/a/default-user=s64",
      "userId": "13932852747204423301"
     },
     "user_tz": -420
    },
    "id": "fjFsqEjxHKrk",
    "outputId": "bd7b4dac-56fb-4e9e-f5e0-f4b934546b39"
   },
   "outputs": [
    {
     "data": {
      "text/plain": [
       "array([[  0,   0,   0, ...,   0,   0,   0],\n",
       "       [  0,   0,   0, ...,   0,   0,   0],\n",
       "       [  0,   0,   0, ...,   0,   0,   0],\n",
       "       ...,\n",
       "       [  0,   0,   0, ...,   0, 188,   0],\n",
       "       [  0,   0,   0, ...,   0, 169,   0],\n",
       "       [  0,   0,   0, ...,   0,  74,   0]])"
      ]
     },
     "execution_count": 50,
     "metadata": {},
     "output_type": "execute_result"
    }
   ],
   "source": [
    "cm = confusion_matrix(y_test, predictions, labels=df_target)\n",
    "cm"
   ]
  },
  {
   "cell_type": "markdown",
   "id": "sGwppFIdIE-w",
   "metadata": {
    "id": "sGwppFIdIE-w"
   },
   "source": [
    "**akurasi, presisi, recall, f1 score**"
   ]
  },
  {
   "cell_type": "code",
   "execution_count": null,
   "id": "JQH4eIL_IDQ-",
   "metadata": {
    "colab": {
     "base_uri": "https://localhost:8080/"
    },
    "executionInfo": {
     "elapsed": 402,
     "status": "ok",
     "timestamp": 1633834547742,
     "user": {
      "displayName": "SHALLY NABILA",
      "photoUrl": "https://lh3.googleusercontent.com/a/default-user=s64",
      "userId": "13932852747204423301"
     },
     "user_tz": -420
    },
    "id": "JQH4eIL_IDQ-",
    "outputId": "56e42079-8a44-4631-849c-b71ca721f419"
   },
   "outputs": [
    {
     "name": "stdout",
     "output_type": "stream",
     "text": [
      "              precision    recall  f1-score   support\n",
      "\n",
      "           1       0.00      0.00      0.00         1\n",
      "           3       0.00      0.00      0.00         4\n",
      "           4       0.00      0.00      0.00        21\n",
      "           5       0.00      0.00      0.00        33\n",
      "           6       0.23      0.74      0.35        72\n",
      "           7       0.25      0.26      0.25       115\n",
      "           8       0.00      0.00      0.00       170\n",
      "           9       0.00      0.00      0.00       221\n",
      "          10       0.19      0.88      0.31       193\n",
      "          11       0.45      0.04      0.07       142\n",
      "          12       0.00      0.00      0.00        81\n",
      "          13       0.00      0.00      0.00        59\n",
      "          14       0.00      0.00      0.00        33\n",
      "          15       0.00      0.00      0.00        35\n",
      "          16       0.00      0.00      0.00        23\n",
      "          17       0.00      0.00      0.00        20\n",
      "          18       0.00      0.00      0.00         9\n",
      "          19       0.00      0.00      0.00         5\n",
      "          20       0.00      0.00      0.00         8\n",
      "          21       0.00      0.00      0.00         5\n",
      "          23       0.00      0.00      0.00         2\n",
      "          24       0.00      0.00      0.00         1\n",
      "\n",
      "    accuracy                           0.21      1253\n",
      "   macro avg       0.05      0.09      0.04      1253\n",
      "weighted avg       0.12      0.21      0.10      1253\n",
      "\n"
     ]
    },
    {
     "name": "stderr",
     "output_type": "stream",
     "text": [
      "/usr/local/lib/python3.7/dist-packages/sklearn/metrics/_classification.py:1272: UndefinedMetricWarning: Precision and F-score are ill-defined and being set to 0.0 in labels with no predicted samples. Use `zero_division` parameter to control this behavior.\n",
      "  _warn_prf(average, modifier, msg_start, len(result))\n"
     ]
    }
   ],
   "source": [
    "print(classification_report(y_test,predictions))"
   ]
  },
  {
   "cell_type": "markdown",
   "id": "3Ml2X-uUFx9y",
   "metadata": {
    "id": "3Ml2X-uUFx9y"
   },
   "source": [
    "### XGBoost"
   ]
  },
  {
   "cell_type": "code",
   "execution_count": null,
   "id": "UxUf43mGF56u",
   "metadata": {
    "id": "UxUf43mGF56u"
   },
   "outputs": [],
   "source": [
    "from xgboost import XGBClassifier\n",
    "model = XGBClassifier(use_label_encoder=False, eval_metric='mlogloss')"
   ]
  },
  {
   "cell_type": "code",
   "execution_count": null,
   "id": "gmJmEpUsLA5C",
   "metadata": {
    "colab": {
     "base_uri": "https://localhost:8080/"
    },
    "executionInfo": {
     "elapsed": 9,
     "status": "ok",
     "timestamp": 1633835523850,
     "user": {
      "displayName": "SHALLY NABILA",
      "photoUrl": "https://lh3.googleusercontent.com/a/default-user=s64",
      "userId": "13932852747204423301"
     },
     "user_tz": -420
    },
    "id": "gmJmEpUsLA5C",
    "outputId": "675248f4-7101-4e61-d92c-0cc52011ccad"
   },
   "outputs": [
    {
     "name": "stderr",
     "output_type": "stream",
     "text": [
      "/usr/local/lib/python3.7/dist-packages/ipykernel_launcher.py:1: SettingWithCopyWarning: \n",
      "A value is trying to be set on a copy of a slice from a DataFrame.\n",
      "Try using .loc[row_indexer,col_indexer] = value instead\n",
      "\n",
      "See the caveats in the documentation: https://pandas.pydata.org/pandas-docs/stable/user_guide/indexing.html#returning-a-view-versus-a-copy\n",
      "  \"\"\"Entry point for launching an IPython kernel.\n"
     ]
    }
   ],
   "source": [
    "X_train['Sex'] = X_train['Sex'].astype('int')"
   ]
  },
  {
   "cell_type": "code",
   "execution_count": null,
   "id": "CK5SkJbXIqxU",
   "metadata": {
    "colab": {
     "base_uri": "https://localhost:8080/"
    },
    "executionInfo": {
     "elapsed": 3841,
     "status": "ok",
     "timestamp": 1633835529546,
     "user": {
      "displayName": "SHALLY NABILA",
      "photoUrl": "https://lh3.googleusercontent.com/a/default-user=s64",
      "userId": "13932852747204423301"
     },
     "user_tz": -420
    },
    "id": "CK5SkJbXIqxU",
    "outputId": "d9fff6d6-d181-4845-8280-cb327a962939"
   },
   "outputs": [
    {
     "data": {
      "text/plain": [
       "XGBClassifier(base_score=0.5, booster='gbtree', colsample_bylevel=1,\n",
       "              colsample_bynode=1, colsample_bytree=1, eval_metric='mlogloss',\n",
       "              gamma=0, learning_rate=0.1, max_delta_step=0, max_depth=3,\n",
       "              min_child_weight=1, missing=None, n_estimators=100, n_jobs=1,\n",
       "              nthread=None, objective='multi:softprob', random_state=0,\n",
       "              reg_alpha=0, reg_lambda=1, scale_pos_weight=1, seed=None,\n",
       "              silent=None, subsample=1, use_label_encoder=False, verbosity=1)"
      ]
     },
     "execution_count": 79,
     "metadata": {},
     "output_type": "execute_result"
    }
   ],
   "source": [
    "model.fit(X_train,y_train)"
   ]
  },
  {
   "cell_type": "markdown",
   "id": "WsEAF9MHF7Dk",
   "metadata": {
    "id": "WsEAF9MHF7Dk"
   },
   "source": [
    "### KNN"
   ]
  },
  {
   "cell_type": "code",
   "execution_count": null,
   "id": "4WhXPsLFF9_9",
   "metadata": {
    "id": "4WhXPsLFF9_9"
   },
   "outputs": [],
   "source": [
    "from sklearn.neighbors import KNeighborsClassifier\n"
   ]
  },
  {
   "cell_type": "code",
   "execution_count": null,
   "id": "OxAs7jghKdsa",
   "metadata": {
    "id": "OxAs7jghKdsa"
   },
   "outputs": [],
   "source": [
    "model = KNeighborsClassifier(n_neighbors=3)\n"
   ]
  },
  {
   "cell_type": "code",
   "execution_count": null,
   "id": "QHsDzNRjKd91",
   "metadata": {
    "colab": {
     "base_uri": "https://localhost:8080/"
    },
    "executionInfo": {
     "elapsed": 11,
     "status": "ok",
     "timestamp": 1633835168691,
     "user": {
      "displayName": "SHALLY NABILA",
      "photoUrl": "https://lh3.googleusercontent.com/a/default-user=s64",
      "userId": "13932852747204423301"
     },
     "user_tz": -420
    },
    "id": "QHsDzNRjKd91",
    "outputId": "efefdea3-f1d8-4e68-8df7-3c90e708e778"
   },
   "outputs": [
    {
     "data": {
      "text/plain": [
       "KNeighborsClassifier(algorithm='auto', leaf_size=30, metric='minkowski',\n",
       "                     metric_params=None, n_jobs=None, n_neighbors=3, p=2,\n",
       "                     weights='uniform')"
      ]
     },
     "execution_count": 64,
     "metadata": {},
     "output_type": "execute_result"
    }
   ],
   "source": [
    "model.fit(X_train,y_train)"
   ]
  },
  {
   "cell_type": "code",
   "execution_count": null,
   "id": "TVak_qURKk-s",
   "metadata": {
    "id": "TVak_qURKk-s"
   },
   "outputs": [],
   "source": [
    "from sklearn.datasets import make_classification\n",
    "\n",
    "predictions = model.predict(X_test)"
   ]
  },
  {
   "cell_type": "code",
   "execution_count": null,
   "id": "gTm2L99FKlHs",
   "metadata": {
    "id": "gTm2L99FKlHs"
   },
   "outputs": [],
   "source": [
    "from sklearn.metrics import classification_report,accuracy_score\n",
    "from sklearn.metrics import confusion_matrix,ConfusionMatrixDisplay\n"
   ]
  },
  {
   "cell_type": "code",
   "execution_count": null,
   "id": "xweOFSeQKrdh",
   "metadata": {
    "colab": {
     "base_uri": "https://localhost:8080/"
    },
    "executionInfo": {
     "elapsed": 328,
     "status": "ok",
     "timestamp": 1633835212048,
     "user": {
      "displayName": "SHALLY NABILA",
      "photoUrl": "https://lh3.googleusercontent.com/a/default-user=s64",
      "userId": "13932852747204423301"
     },
     "user_tz": -420
    },
    "id": "xweOFSeQKrdh",
    "outputId": "b01e0f6c-7c0b-4a47-e402-fce44188b617"
   },
   "outputs": [
    {
     "name": "stdout",
     "output_type": "stream",
     "text": [
      "              precision    recall  f1-score   support\n",
      "\n",
      "           1       0.00      0.00      0.00         1\n",
      "           3       0.08      0.25      0.12         4\n",
      "           4       0.14      0.10      0.11        21\n",
      "           5       0.26      0.27      0.27        33\n",
      "           6       0.25      0.44      0.32        72\n",
      "           7       0.20      0.25      0.22       115\n",
      "           8       0.18      0.26      0.21       170\n",
      "           9       0.23      0.29      0.26       221\n",
      "          10       0.21      0.21      0.21       193\n",
      "          11       0.21      0.16      0.18       142\n",
      "          12       0.22      0.10      0.14        81\n",
      "          13       0.17      0.08      0.11        59\n",
      "          14       0.00      0.00      0.00        33\n",
      "          15       0.00      0.00      0.00        35\n",
      "          16       0.00      0.00      0.00        23\n",
      "          17       0.00      0.00      0.00        20\n",
      "          18       0.00      0.00      0.00         9\n",
      "          19       0.00      0.00      0.00         5\n",
      "          20       0.00      0.00      0.00         8\n",
      "          21       0.00      0.00      0.00         5\n",
      "          23       0.00      0.00      0.00         2\n",
      "          24       0.00      0.00      0.00         1\n",
      "\n",
      "    accuracy                           0.21      1253\n",
      "   macro avg       0.10      0.11      0.10      1253\n",
      "weighted avg       0.19      0.21      0.19      1253\n",
      "\n"
     ]
    },
    {
     "name": "stderr",
     "output_type": "stream",
     "text": [
      "/usr/local/lib/python3.7/dist-packages/sklearn/metrics/_classification.py:1272: UndefinedMetricWarning: Precision and F-score are ill-defined and being set to 0.0 in labels with no predicted samples. Use `zero_division` parameter to control this behavior.\n",
      "  _warn_prf(average, modifier, msg_start, len(result))\n"
     ]
    }
   ],
   "source": [
    "print(classification_report(y_test,predictions))"
   ]
  },
  {
   "cell_type": "code",
   "execution_count": null,
   "id": "WKdAU8zeKrnm",
   "metadata": {
    "id": "WKdAU8zeKrnm"
   },
   "outputs": [],
   "source": []
  },
  {
   "cell_type": "markdown",
   "id": "JX4vfxzBF_V4",
   "metadata": {
    "id": "JX4vfxzBF_V4"
   },
   "source": [
    "### SVM"
   ]
  },
  {
   "cell_type": "code",
   "execution_count": null,
   "id": "B0zr302BGED7",
   "metadata": {
    "id": "B0zr302BGED7"
   },
   "outputs": [],
   "source": [
    "from sklearn import svm"
   ]
  },
  {
   "cell_type": "code",
   "execution_count": null,
   "id": "O8uITB4ELVGo",
   "metadata": {
    "id": "O8uITB4ELVGo"
   },
   "outputs": [],
   "source": [
    "model = svm.SVC(kernel='linear') # Linear Kernel"
   ]
  },
  {
   "cell_type": "code",
   "execution_count": null,
   "id": "UMTVdF99LVJu",
   "metadata": {
    "colab": {
     "base_uri": "https://localhost:8080/"
    },
    "executionInfo": {
     "elapsed": 412,
     "status": "ok",
     "timestamp": 1633835406329,
     "user": {
      "displayName": "SHALLY NABILA",
      "photoUrl": "https://lh3.googleusercontent.com/a/default-user=s64",
      "userId": "13932852747204423301"
     },
     "user_tz": -420
    },
    "id": "UMTVdF99LVJu",
    "outputId": "9f8e2c1d-1423-46cf-9a27-ba84eb5dcb54"
   },
   "outputs": [
    {
     "data": {
      "text/plain": [
       "SVC(C=1.0, break_ties=False, cache_size=200, class_weight=None, coef0=0.0,\n",
       "    decision_function_shape='ovr', degree=3, gamma='scale', kernel='linear',\n",
       "    max_iter=-1, probability=False, random_state=None, shrinking=True,\n",
       "    tol=0.001, verbose=False)"
      ]
     },
     "execution_count": 72,
     "metadata": {},
     "output_type": "execute_result"
    }
   ],
   "source": [
    "model.fit(X_train, y_train)"
   ]
  },
  {
   "cell_type": "code",
   "execution_count": null,
   "id": "wahfzqhmLhKf",
   "metadata": {
    "id": "wahfzqhmLhKf"
   },
   "outputs": [],
   "source": [
    "predictions = model.predict(X_test)"
   ]
  },
  {
   "cell_type": "code",
   "execution_count": null,
   "id": "i5c0ro5kLhTv",
   "metadata": {
    "colab": {
     "base_uri": "https://localhost:8080/"
    },
    "executionInfo": {
     "elapsed": 365,
     "status": "ok",
     "timestamp": 1633835455885,
     "user": {
      "displayName": "SHALLY NABILA",
      "photoUrl": "https://lh3.googleusercontent.com/a/default-user=s64",
      "userId": "13932852747204423301"
     },
     "user_tz": -420
    },
    "id": "i5c0ro5kLhTv",
    "outputId": "24f4857e-ffff-4fe0-f969-2d52935303c9"
   },
   "outputs": [
    {
     "name": "stdout",
     "output_type": "stream",
     "text": [
      "              precision    recall  f1-score   support\n",
      "\n",
      "           1       0.00      0.00      0.00         1\n",
      "           3       0.00      0.00      0.00         4\n",
      "           4       0.00      0.00      0.00        21\n",
      "           5       0.15      0.12      0.13        33\n",
      "           6       0.33      0.33      0.33        72\n",
      "           7       0.28      0.43      0.34       115\n",
      "           8       0.30      0.38      0.34       170\n",
      "           9       0.26      0.33      0.29       221\n",
      "          10       0.22      0.54      0.31       193\n",
      "          11       0.00      0.00      0.00       142\n",
      "          12       0.00      0.00      0.00        81\n",
      "          13       0.00      0.00      0.00        59\n",
      "          14       0.00      0.00      0.00        33\n",
      "          15       0.00      0.00      0.00        35\n",
      "          16       0.00      0.00      0.00        23\n",
      "          17       0.00      0.00      0.00        20\n",
      "          18       0.00      0.00      0.00         9\n",
      "          19       0.00      0.00      0.00         5\n",
      "          20       0.00      0.00      0.00         8\n",
      "          21       0.00      0.00      0.00         5\n",
      "          23       0.00      0.00      0.00         2\n",
      "          24       0.00      0.00      0.00         1\n",
      "\n",
      "    accuracy                           0.26      1253\n",
      "   macro avg       0.07      0.10      0.08      1253\n",
      "weighted avg       0.17      0.26      0.20      1253\n",
      "\n"
     ]
    },
    {
     "name": "stderr",
     "output_type": "stream",
     "text": [
      "/usr/local/lib/python3.7/dist-packages/sklearn/metrics/_classification.py:1272: UndefinedMetricWarning: Precision and F-score are ill-defined and being set to 0.0 in labels with no predicted samples. Use `zero_division` parameter to control this behavior.\n",
      "  _warn_prf(average, modifier, msg_start, len(result))\n"
     ]
    }
   ],
   "source": [
    "print(classification_report(y_test,predictions))"
   ]
  },
  {
   "cell_type": "markdown",
   "id": "C72heSrfGFvz",
   "metadata": {
    "id": "C72heSrfGFvz"
   },
   "source": [
    "### Gaussian NB"
   ]
  },
  {
   "cell_type": "code",
   "execution_count": null,
   "id": "por4WaHrGJPY",
   "metadata": {
    "id": "por4WaHrGJPY"
   },
   "outputs": [],
   "source": [
    "from sklearn.naive_bayes import GaussianNB"
   ]
  },
  {
   "cell_type": "code",
   "execution_count": null,
   "id": "8FdMG7FKMH6h",
   "metadata": {
    "id": "8FdMG7FKMH6h"
   },
   "outputs": [],
   "source": [
    "model = GaussianNB()"
   ]
  },
  {
   "cell_type": "code",
   "execution_count": null,
   "id": "z84z1nwqML7p",
   "metadata": {
    "colab": {
     "base_uri": "https://localhost:8080/"
    },
    "executionInfo": {
     "elapsed": 329,
     "status": "ok",
     "timestamp": 1633835600294,
     "user": {
      "displayName": "SHALLY NABILA",
      "photoUrl": "https://lh3.googleusercontent.com/a/default-user=s64",
      "userId": "13932852747204423301"
     },
     "user_tz": -420
    },
    "id": "z84z1nwqML7p",
    "outputId": "4e407955-a9a8-43a6-9382-23f09a2643dc"
   },
   "outputs": [
    {
     "data": {
      "text/plain": [
       "GaussianNB(priors=None, var_smoothing=1e-09)"
      ]
     },
     "execution_count": 82,
     "metadata": {},
     "output_type": "execute_result"
    }
   ],
   "source": [
    "model.fit(X_train, y_train)"
   ]
  },
  {
   "cell_type": "code",
   "execution_count": null,
   "id": "mTQLlkx7MO5a",
   "metadata": {
    "id": "mTQLlkx7MO5a"
   },
   "outputs": [],
   "source": [
    "predictions = model.predict(X_test)"
   ]
  },
  {
   "cell_type": "code",
   "execution_count": null,
   "id": "nkhGBhtUMQAA",
   "metadata": {
    "colab": {
     "base_uri": "https://localhost:8080/"
    },
    "executionInfo": {
     "elapsed": 349,
     "status": "ok",
     "timestamp": 1633835621995,
     "user": {
      "displayName": "SHALLY NABILA",
      "photoUrl": "https://lh3.googleusercontent.com/a/default-user=s64",
      "userId": "13932852747204423301"
     },
     "user_tz": -420
    },
    "id": "nkhGBhtUMQAA",
    "outputId": "71525263-8688-4666-b312-03af4043cc4b"
   },
   "outputs": [
    {
     "name": "stdout",
     "output_type": "stream",
     "text": [
      "              precision    recall  f1-score   support\n",
      "\n",
      "           1       0.00      0.00      0.00         1\n",
      "           3       0.23      0.75      0.35         4\n",
      "           4       0.35      0.38      0.36        21\n",
      "           5       0.29      0.64      0.40        33\n",
      "           6       0.18      0.22      0.20        72\n",
      "           7       0.21      0.37      0.26       115\n",
      "           8       0.24      0.22      0.23       170\n",
      "           9       0.21      0.24      0.22       221\n",
      "          10       0.23      0.27      0.25       193\n",
      "          11       0.28      0.37      0.32       142\n",
      "          12       0.00      0.00      0.00        81\n",
      "          13       0.00      0.00      0.00        59\n",
      "          14       0.00      0.00      0.00        33\n",
      "          15       0.00      0.00      0.00        35\n",
      "          16       0.17      0.13      0.15        23\n",
      "          17       0.00      0.00      0.00        20\n",
      "          18       0.00      0.00      0.00         9\n",
      "          19       0.00      0.00      0.00         5\n",
      "          20       0.00      0.00      0.00         8\n",
      "          21       0.00      0.00      0.00         5\n",
      "          23       0.00      0.00      0.00         2\n",
      "          24       0.00      0.00      0.00         1\n",
      "          27       0.00      0.00      0.00         0\n",
      "\n",
      "    accuracy                           0.23      1253\n",
      "   macro avg       0.10      0.16      0.12      1253\n",
      "weighted avg       0.18      0.23      0.20      1253\n",
      "\n"
     ]
    },
    {
     "name": "stderr",
     "output_type": "stream",
     "text": [
      "/usr/local/lib/python3.7/dist-packages/sklearn/metrics/_classification.py:1272: UndefinedMetricWarning: Precision and F-score are ill-defined and being set to 0.0 in labels with no predicted samples. Use `zero_division` parameter to control this behavior.\n",
      "  _warn_prf(average, modifier, msg_start, len(result))\n",
      "/usr/local/lib/python3.7/dist-packages/sklearn/metrics/_classification.py:1272: UndefinedMetricWarning: Recall and F-score are ill-defined and being set to 0.0 in labels with no true samples. Use `zero_division` parameter to control this behavior.\n",
      "  _warn_prf(average, modifier, msg_start, len(result))\n"
     ]
    }
   ],
   "source": [
    "print(classification_report(y_test,predictions))"
   ]
  },
  {
   "cell_type": "markdown",
   "id": "8BznL60AGJ7K",
   "metadata": {
    "id": "8BznL60AGJ7K"
   },
   "source": [
    "### Gradient Boosting"
   ]
  },
  {
   "cell_type": "code",
   "execution_count": null,
   "id": "E5bmPUbGGjiq",
   "metadata": {
    "id": "E5bmPUbGGjiq"
   },
   "outputs": [],
   "source": [
    "from sklearn.ensemble import GradientBoostingClassifier"
   ]
  },
  {
   "cell_type": "code",
   "execution_count": null,
   "id": "2ObLVw0qMl3q",
   "metadata": {
    "colab": {
     "base_uri": "https://localhost:8080/"
    },
    "executionInfo": {
     "elapsed": 4065,
     "status": "ok",
     "timestamp": 1633835755843,
     "user": {
      "displayName": "SHALLY NABILA",
      "photoUrl": "https://lh3.googleusercontent.com/a/default-user=s64",
      "userId": "13932852747204423301"
     },
     "user_tz": -420
    },
    "id": "2ObLVw0qMl3q",
    "outputId": "f3bbd51b-6a67-4b26-d26a-dd9e51f72e6d"
   },
   "outputs": [
    {
     "data": {
      "text/plain": [
       "GradientBoostingClassifier(ccp_alpha=0.0, criterion='friedman_mse', init=None,\n",
       "                           learning_rate=0.1, loss='deviance', max_depth=2,\n",
       "                           max_features=2, max_leaf_nodes=None,\n",
       "                           min_impurity_decrease=0.0, min_impurity_split=None,\n",
       "                           min_samples_leaf=1, min_samples_split=2,\n",
       "                           min_weight_fraction_leaf=0.0, n_estimators=20,\n",
       "                           n_iter_no_change=None, presort='deprecated',\n",
       "                           random_state=0, subsample=1.0, tol=0.0001,\n",
       "                           validation_fraction=0.1, verbose=0,\n",
       "                           warm_start=False)"
      ]
     },
     "execution_count": 87,
     "metadata": {},
     "output_type": "execute_result"
    }
   ],
   "source": [
    "model = GradientBoostingClassifier(n_estimators=20, max_features=2, max_depth=2, random_state=0)\n",
    "model.fit(X_train, y_train)"
   ]
  },
  {
   "cell_type": "code",
   "execution_count": null,
   "id": "wsLVVqlrMzXQ",
   "metadata": {
    "id": "wsLVVqlrMzXQ"
   },
   "outputs": [],
   "source": [
    "predictions = model.predict(X_test)"
   ]
  },
  {
   "cell_type": "code",
   "execution_count": null,
   "id": "xTlbr05aMzZ-",
   "metadata": {
    "colab": {
     "base_uri": "https://localhost:8080/"
    },
    "executionInfo": {
     "elapsed": 354,
     "status": "ok",
     "timestamp": 1633835779376,
     "user": {
      "displayName": "SHALLY NABILA",
      "photoUrl": "https://lh3.googleusercontent.com/a/default-user=s64",
      "userId": "13932852747204423301"
     },
     "user_tz": -420
    },
    "id": "xTlbr05aMzZ-",
    "outputId": "2d8fb116-795d-42fb-a6e5-e0e70417085b"
   },
   "outputs": [
    {
     "name": "stdout",
     "output_type": "stream",
     "text": [
      "              precision    recall  f1-score   support\n",
      "\n",
      "           1       0.00      0.00      0.00         1\n",
      "           3       0.25      0.25      0.25         4\n",
      "           4       0.42      0.48      0.44        21\n",
      "           5       0.39      0.36      0.38        33\n",
      "           6       0.28      0.24      0.26        72\n",
      "           7       0.30      0.47      0.37       115\n",
      "           8       0.27      0.38      0.32       170\n",
      "           9       0.24      0.28      0.26       221\n",
      "          10       0.22      0.32      0.26       193\n",
      "          11       0.25      0.25      0.25       142\n",
      "          12       0.00      0.00      0.00        81\n",
      "          13       0.00      0.00      0.00        59\n",
      "          14       0.00      0.00      0.00        33\n",
      "          15       0.00      0.00      0.00        35\n",
      "          16       0.00      0.00      0.00        23\n",
      "          17       0.00      0.00      0.00        20\n",
      "          18       0.00      0.00      0.00         9\n",
      "          19       0.00      0.00      0.00         5\n",
      "          20       0.00      0.00      0.00         8\n",
      "          21       0.00      0.00      0.00         5\n",
      "          22       0.00      0.00      0.00         0\n",
      "          23       0.00      0.00      0.00         2\n",
      "          24       0.00      0.00      0.00         1\n",
      "          25       0.00      0.00      0.00         0\n",
      "          26       0.00      0.00      0.00         0\n",
      "          27       0.00      0.00      0.00         0\n",
      "\n",
      "    accuracy                           0.25      1253\n",
      "   macro avg       0.10      0.12      0.11      1253\n",
      "weighted avg       0.20      0.25      0.22      1253\n",
      "\n"
     ]
    },
    {
     "name": "stderr",
     "output_type": "stream",
     "text": [
      "/usr/local/lib/python3.7/dist-packages/sklearn/metrics/_classification.py:1272: UndefinedMetricWarning: Precision and F-score are ill-defined and being set to 0.0 in labels with no predicted samples. Use `zero_division` parameter to control this behavior.\n",
      "  _warn_prf(average, modifier, msg_start, len(result))\n",
      "/usr/local/lib/python3.7/dist-packages/sklearn/metrics/_classification.py:1272: UndefinedMetricWarning: Recall and F-score are ill-defined and being set to 0.0 in labels with no true samples. Use `zero_division` parameter to control this behavior.\n",
      "  _warn_prf(average, modifier, msg_start, len(result))\n"
     ]
    }
   ],
   "source": [
    "print(classification_report(y_test,predictions))"
   ]
  },
  {
   "cell_type": "markdown",
   "id": "cbc5d4cc",
   "metadata": {
    "id": "cbc5d4cc"
   },
   "source": [
    "## Grid Search"
   ]
  },
  {
   "cell_type": "markdown",
   "id": "dfa1026a",
   "metadata": {
    "id": "dfa1026a"
   },
   "source": [
    "### Random Forest"
   ]
  },
  {
   "cell_type": "code",
   "execution_count": null,
   "id": "1LqB-UxT-MtZ",
   "metadata": {
    "id": "1LqB-UxT-MtZ"
   },
   "outputs": [],
   "source": [
    "from sklearn.model_selection import GridSearchCV\n",
    "from sklearn.ensemble import RandomForestClassifier"
   ]
  },
  {
   "cell_type": "code",
   "execution_count": null,
   "id": "t3tH7b249_Ts",
   "metadata": {
    "id": "t3tH7b249_Ts"
   },
   "outputs": [],
   "source": [
    "params = {'n_estimators':range(1,25),\n",
    "          'max_depth' : [2,4],\n",
    "          'bootstrap' : [True, False]}"
   ]
  },
  {
   "cell_type": "code",
   "execution_count": null,
   "id": "sMFHg-rU9_Jq",
   "metadata": {
    "id": "sMFHg-rU9_Jq"
   },
   "outputs": [],
   "source": [
    "grid = GridSearchCV(RandomForestClassifier(), params)"
   ]
  },
  {
   "cell_type": "code",
   "execution_count": null,
   "id": "Dhq0tZHR9_Ha",
   "metadata": {
    "colab": {
     "base_uri": "https://localhost:8080/"
    },
    "executionInfo": {
     "elapsed": 19684,
     "status": "ok",
     "timestamp": 1633831967323,
     "user": {
      "displayName": "SHALLY NABILA",
      "photoUrl": "https://lh3.googleusercontent.com/a/default-user=s64",
      "userId": "13932852747204423301"
     },
     "user_tz": -420
    },
    "id": "Dhq0tZHR9_Ha",
    "outputId": "0dfd0052-9754-4291-a533-2d6cdd4d7d97"
   },
   "outputs": [
    {
     "name": "stderr",
     "output_type": "stream",
     "text": [
      "/usr/local/lib/python3.7/dist-packages/sklearn/model_selection/_split.py:667: UserWarning: The least populated class in y has only 1 members, which is less than n_splits=5.\n",
      "  % (min_groups, self.n_splits)), UserWarning)\n"
     ]
    },
    {
     "data": {
      "text/plain": [
       "GridSearchCV(cv=None, error_score=nan,\n",
       "             estimator=RandomForestClassifier(bootstrap=True, ccp_alpha=0.0,\n",
       "                                              class_weight=None,\n",
       "                                              criterion='gini', max_depth=None,\n",
       "                                              max_features='auto',\n",
       "                                              max_leaf_nodes=None,\n",
       "                                              max_samples=None,\n",
       "                                              min_impurity_decrease=0.0,\n",
       "                                              min_impurity_split=None,\n",
       "                                              min_samples_leaf=1,\n",
       "                                              min_samples_split=2,\n",
       "                                              min_weight_fraction_leaf=0.0,\n",
       "                                              n_estimators=100, n_jobs=None,\n",
       "                                              oob_score=False,\n",
       "                                              random_state=None, verbose=0,\n",
       "                                              warm_start=False),\n",
       "             iid='deprecated', n_jobs=None,\n",
       "             param_grid={'bootstrap': [True, False], 'max_depth': [2, 4],\n",
       "                         'n_estimators': range(1, 25)},\n",
       "             pre_dispatch='2*n_jobs', refit=True, return_train_score=False,\n",
       "             scoring=None, verbose=0)"
      ]
     },
     "execution_count": 35,
     "metadata": {},
     "output_type": "execute_result"
    }
   ],
   "source": [
    "# Proses ini bisa memakan waktu yang lama, tergantung dari ukuran data dan banyaknya kombinasi parameter model\n",
    "grid.fit(X_train,y_train)"
   ]
  },
  {
   "cell_type": "markdown",
   "id": "iX6iY7bi-r3R",
   "metadata": {
    "id": "iX6iY7bi-r3R"
   },
   "source": [
    "**Memeriksa kombinasi parameter terbaik**"
   ]
  },
  {
   "cell_type": "code",
   "execution_count": null,
   "id": "_JmghT4L-xah",
   "metadata": {
    "colab": {
     "base_uri": "https://localhost:8080/"
    },
    "executionInfo": {
     "elapsed": 348,
     "status": "ok",
     "timestamp": 1633832088144,
     "user": {
      "displayName": "SHALLY NABILA",
      "photoUrl": "https://lh3.googleusercontent.com/a/default-user=s64",
      "userId": "13932852747204423301"
     },
     "user_tz": -420
    },
    "id": "_JmghT4L-xah",
    "outputId": "45242676-7366-4cbc-d9f1-5386726d7696"
   },
   "outputs": [
    {
     "data": {
      "text/plain": [
       "{'bootstrap': False, 'max_depth': 4, 'n_estimators': 24}"
      ]
     },
     "execution_count": 36,
     "metadata": {},
     "output_type": "execute_result"
    }
   ],
   "source": [
    "grid.best_params_"
   ]
  },
  {
   "cell_type": "code",
   "execution_count": null,
   "id": "xMdgedMw-xkz",
   "metadata": {
    "colab": {
     "base_uri": "https://localhost:8080/"
    },
    "executionInfo": {
     "elapsed": 335,
     "status": "ok",
     "timestamp": 1633832094512,
     "user": {
      "displayName": "SHALLY NABILA",
      "photoUrl": "https://lh3.googleusercontent.com/a/default-user=s64",
      "userId": "13932852747204423301"
     },
     "user_tz": -420
    },
    "id": "xMdgedMw-xkz",
    "outputId": "be8ab910-745e-404c-8a58-1ffb69d605d6"
   },
   "outputs": [
    {
     "data": {
      "text/plain": [
       "RandomForestClassifier(bootstrap=False, ccp_alpha=0.0, class_weight=None,\n",
       "                       criterion='gini', max_depth=4, max_features='auto',\n",
       "                       max_leaf_nodes=None, max_samples=None,\n",
       "                       min_impurity_decrease=0.0, min_impurity_split=None,\n",
       "                       min_samples_leaf=1, min_samples_split=2,\n",
       "                       min_weight_fraction_leaf=0.0, n_estimators=24,\n",
       "                       n_jobs=None, oob_score=False, random_state=None,\n",
       "                       verbose=0, warm_start=False)"
      ]
     },
     "execution_count": 37,
     "metadata": {},
     "output_type": "execute_result"
    }
   ],
   "source": [
    "grid.best_estimator_"
   ]
  },
  {
   "cell_type": "markdown",
   "id": "pt78AU2Q-32y",
   "metadata": {
    "id": "pt78AU2Q-32y"
   },
   "source": [
    "**Melakukan prediksi pada objek seperti yang dilakukan pada model normal**"
   ]
  },
  {
   "cell_type": "code",
   "execution_count": null,
   "id": "dMRJHsTx--dL",
   "metadata": {
    "id": "dMRJHsTx--dL"
   },
   "outputs": [],
   "source": [
    "grid_predictions = grid.predict(X_test)"
   ]
  },
  {
   "cell_type": "markdown",
   "id": "ivBihz-y_AkL",
   "metadata": {
    "id": "ivBihz-y_AkL"
   },
   "source": [
    "**Menampilkan confusion matrix untuk melihat perbaikan model**"
   ]
  },
  {
   "cell_type": "code",
   "execution_count": null,
   "id": "Dow8BcqH_Fuu",
   "metadata": {
    "colab": {
     "base_uri": "https://localhost:8080/"
    },
    "executionInfo": {
     "elapsed": 382,
     "status": "ok",
     "timestamp": 1633832170574,
     "user": {
      "displayName": "SHALLY NABILA",
      "photoUrl": "https://lh3.googleusercontent.com/a/default-user=s64",
      "userId": "13932852747204423301"
     },
     "user_tz": -420
    },
    "id": "Dow8BcqH_Fuu",
    "outputId": "6213fe77-4e1d-4fd8-d6bb-4573c9c88ce6"
   },
   "outputs": [
    {
     "name": "stdout",
     "output_type": "stream",
     "text": [
      "[[ 0  1  0  0  0  0  0  0  0  0  0  0  0  0  0  0  0  0  0  0  0  0]\n",
      " [ 0  1  1  2  0  0  0  0  0  0  0  0  0  0  0  0  0  0  0  0  0  0]\n",
      " [ 0  3  8  7  3  0  0  0  0  0  0  0  0  0  0  0  0  0  0  0  0  0]\n",
      " [ 0  0  3 12 15  3  0  0  0  0  0  0  0  0  0  0  0  0  0  0  0  0]\n",
      " [ 0  0  1 10 21 28 10  2  0  0  0  0  0  0  0  0  0  0  0  0  0  0]\n",
      " [ 0  0  2  5 15 47 33  6  6  1  0  0  0  0  0  0  0  0  0  0  0  0]\n",
      " [ 0  0  0  0  8 35 61 48 18  0  0  0  0  0  0  0  0  0  0  0  0  0]\n",
      " [ 0  0  0  0  2 19 50 56 87  7  0  0  0  0  0  0  0  0  0  0  0  0]\n",
      " [ 0  0  0  0  2 17 25 42 84 23  0  0  0  0  0  0  0  0  0  0  0  0]\n",
      " [ 0  0  0  0  1  3 17 24 59 38  0  0  0  0  0  0  0  0  0  0  0  0]\n",
      " [ 0  0  0  0  0  4  8 14 38 17  0  0  0  0  0  0  0  0  0  0  0  0]\n",
      " [ 0  0  0  0  1  2 13 11 21 11  0  0  0  0  0  0  0  0  0  0  0  0]\n",
      " [ 0  0  0  0  0  0  7  6 14  6  0  0  0  0  0  0  0  0  0  0  0  0]\n",
      " [ 0  0  0  0  0  1  4  8 14  8  0  0  0  0  0  0  0  0  0  0  0  0]\n",
      " [ 0  0  0  0  0  1  5  5  8  4  0  0  0  0  0  0  0  0  0  0  0  0]\n",
      " [ 0  0  0  0  0  0  1  1 11  7  0  0  0  0  0  0  0  0  0  0  0  0]\n",
      " [ 0  0  0  0  0  0  0  2  6  1  0  0  0  0  0  0  0  0  0  0  0  0]\n",
      " [ 0  0  0  0  0  0  0  2  3  0  0  0  0  0  0  0  0  0  0  0  0  0]\n",
      " [ 0  0  0  0  0  0  0  1  6  1  0  0  0  0  0  0  0  0  0  0  0  0]\n",
      " [ 0  0  0  0  0  0  0  1  1  3  0  0  0  0  0  0  0  0  0  0  0  0]\n",
      " [ 0  0  0  0  0  0  0  1  1  0  0  0  0  0  0  0  0  0  0  0  0  0]\n",
      " [ 0  0  0  0  0  0  0  0  0  1  0  0  0  0  0  0  0  0  0  0  0  0]]\n"
     ]
    }
   ],
   "source": [
    "print(confusion_matrix(y_test,grid_predictions))"
   ]
  },
  {
   "cell_type": "markdown",
   "id": "6ksnDc50_Kxk",
   "metadata": {
    "id": "6ksnDc50_Kxk"
   },
   "source": [
    "**memeriksa akurasi, presisi, recall dan f1 score**"
   ]
  },
  {
   "cell_type": "code",
   "execution_count": null,
   "id": "e2DHlSxv_PQ4",
   "metadata": {
    "colab": {
     "base_uri": "https://localhost:8080/"
    },
    "executionInfo": {
     "elapsed": 322,
     "status": "ok",
     "timestamp": 1633832209595,
     "user": {
      "displayName": "SHALLY NABILA",
      "photoUrl": "https://lh3.googleusercontent.com/a/default-user=s64",
      "userId": "13932852747204423301"
     },
     "user_tz": -420
    },
    "id": "e2DHlSxv_PQ4",
    "outputId": "ad4d326e-80ae-4592-b62d-92be352ff0ef"
   },
   "outputs": [
    {
     "name": "stdout",
     "output_type": "stream",
     "text": [
      "              precision    recall  f1-score   support\n",
      "\n",
      "           1       0.00      0.00      0.00         1\n",
      "           3       0.20      0.25      0.22         4\n",
      "           4       0.53      0.38      0.44        21\n",
      "           5       0.33      0.36      0.35        33\n",
      "           6       0.31      0.29      0.30        72\n",
      "           7       0.29      0.41      0.34       115\n",
      "           8       0.26      0.36      0.30       170\n",
      "           9       0.24      0.25      0.25       221\n",
      "          10       0.22      0.44      0.29       193\n",
      "          11       0.30      0.27      0.28       142\n",
      "          12       0.00      0.00      0.00        81\n",
      "          13       0.00      0.00      0.00        59\n",
      "          14       0.00      0.00      0.00        33\n",
      "          15       0.00      0.00      0.00        35\n",
      "          16       0.00      0.00      0.00        23\n",
      "          17       0.00      0.00      0.00        20\n",
      "          18       0.00      0.00      0.00         9\n",
      "          19       0.00      0.00      0.00         5\n",
      "          20       0.00      0.00      0.00         8\n",
      "          21       0.00      0.00      0.00         5\n",
      "          23       0.00      0.00      0.00         2\n",
      "          24       0.00      0.00      0.00         1\n",
      "\n",
      "    accuracy                           0.26      1253\n",
      "   macro avg       0.12      0.14      0.13      1253\n",
      "weighted avg       0.21      0.26      0.23      1253\n",
      "\n"
     ]
    },
    {
     "name": "stderr",
     "output_type": "stream",
     "text": [
      "/usr/local/lib/python3.7/dist-packages/sklearn/metrics/_classification.py:1272: UndefinedMetricWarning: Precision and F-score are ill-defined and being set to 0.0 in labels with no predicted samples. Use `zero_division` parameter to control this behavior.\n",
      "  _warn_prf(average, modifier, msg_start, len(result))\n"
     ]
    }
   ],
   "source": [
    "print(classification_report(y_test,grid_predictions))"
   ]
  },
  {
   "cell_type": "markdown",
   "id": "a935769b",
   "metadata": {
    "id": "a935769b"
   },
   "source": [
    "### Adaboost"
   ]
  },
  {
   "cell_type": "code",
   "execution_count": null,
   "id": "Rnu8IjN0_ZRV",
   "metadata": {
    "id": "Rnu8IjN0_ZRV"
   },
   "outputs": [],
   "source": [
    "from sklearn.ensemble import AdaBoostClassifier\n",
    "from sklearn.model_selection import GridSearchCV\n",
    "\n",
    "params = {'n_estimators':range(1,150),\n",
    "          'learning_rate':np.arange(0.05,1.0,0.05)}\n"
   ]
  },
  {
   "cell_type": "code",
   "execution_count": null,
   "id": "ZF-RwlV0_ZTo",
   "metadata": {
    "id": "ZF-RwlV0_ZTo"
   },
   "outputs": [],
   "source": [
    "grid = GridSearchCV(AdaBoostClassifier(), params)"
   ]
  },
  {
   "cell_type": "code",
   "execution_count": null,
   "id": "C2aZmJgh_ZV5",
   "metadata": {
    "colab": {
     "base_uri": "https://localhost:8080/",
     "height": 446
    },
    "executionInfo": {
     "elapsed": 1381734,
     "status": "error",
     "timestamp": 1633833667037,
     "user": {
      "displayName": "SHALLY NABILA",
      "photoUrl": "https://lh3.googleusercontent.com/a/default-user=s64",
      "userId": "13932852747204423301"
     },
     "user_tz": -420
    },
    "id": "C2aZmJgh_ZV5",
    "outputId": "0a8bb2a6-a72b-4839-f672-fd1916b77690"
   },
   "outputs": [
    {
     "name": "stderr",
     "output_type": "stream",
     "text": [
      "/usr/local/lib/python3.7/dist-packages/sklearn/model_selection/_split.py:667: UserWarning: The least populated class in y has only 1 members, which is less than n_splits=5.\n",
      "  % (min_groups, self.n_splits)), UserWarning)\n"
     ]
    },
    {
     "ename": "KeyboardInterrupt",
     "evalue": "ignored",
     "output_type": "error",
     "traceback": [
      "\u001b[0;31m---------------------------------------------------------------------------\u001b[0m",
      "\u001b[0;31mKeyboardInterrupt\u001b[0m                         Traceback (most recent call last)",
      "\u001b[0;32m<ipython-input-44-36063720ad87>\u001b[0m in \u001b[0;36m<module>\u001b[0;34m()\u001b[0m\n\u001b[0;32m----> 1\u001b[0;31m \u001b[0mgrid\u001b[0m\u001b[0;34m.\u001b[0m\u001b[0mfit\u001b[0m\u001b[0;34m(\u001b[0m\u001b[0mX_train\u001b[0m\u001b[0;34m,\u001b[0m\u001b[0my_train\u001b[0m\u001b[0;34m)\u001b[0m\u001b[0;34m\u001b[0m\u001b[0;34m\u001b[0m\u001b[0m\n\u001b[0m",
      "\u001b[0;32m/usr/local/lib/python3.7/dist-packages/sklearn/model_selection/_search.py\u001b[0m in \u001b[0;36mfit\u001b[0;34m(self, X, y, groups, **fit_params)\u001b[0m\n\u001b[1;32m    708\u001b[0m                 \u001b[0;32mreturn\u001b[0m \u001b[0mresults\u001b[0m\u001b[0;34m\u001b[0m\u001b[0;34m\u001b[0m\u001b[0m\n\u001b[1;32m    709\u001b[0m \u001b[0;34m\u001b[0m\u001b[0m\n\u001b[0;32m--> 710\u001b[0;31m             \u001b[0mself\u001b[0m\u001b[0;34m.\u001b[0m\u001b[0m_run_search\u001b[0m\u001b[0;34m(\u001b[0m\u001b[0mevaluate_candidates\u001b[0m\u001b[0;34m)\u001b[0m\u001b[0;34m\u001b[0m\u001b[0;34m\u001b[0m\u001b[0m\n\u001b[0m\u001b[1;32m    711\u001b[0m \u001b[0;34m\u001b[0m\u001b[0m\n\u001b[1;32m    712\u001b[0m         \u001b[0;31m# For multi-metric evaluation, store the best_index_, best_params_ and\u001b[0m\u001b[0;34m\u001b[0m\u001b[0;34m\u001b[0m\u001b[0;34m\u001b[0m\u001b[0m\n",
      "\u001b[0;32m/usr/local/lib/python3.7/dist-packages/sklearn/model_selection/_search.py\u001b[0m in \u001b[0;36m_run_search\u001b[0;34m(self, evaluate_candidates)\u001b[0m\n\u001b[1;32m   1149\u001b[0m     \u001b[0;32mdef\u001b[0m \u001b[0m_run_search\u001b[0m\u001b[0;34m(\u001b[0m\u001b[0mself\u001b[0m\u001b[0;34m,\u001b[0m \u001b[0mevaluate_candidates\u001b[0m\u001b[0;34m)\u001b[0m\u001b[0;34m:\u001b[0m\u001b[0;34m\u001b[0m\u001b[0;34m\u001b[0m\u001b[0m\n\u001b[1;32m   1150\u001b[0m         \u001b[0;34m\"\"\"Search all candidates in param_grid\"\"\"\u001b[0m\u001b[0;34m\u001b[0m\u001b[0;34m\u001b[0m\u001b[0m\n\u001b[0;32m-> 1151\u001b[0;31m         \u001b[0mevaluate_candidates\u001b[0m\u001b[0;34m(\u001b[0m\u001b[0mParameterGrid\u001b[0m\u001b[0;34m(\u001b[0m\u001b[0mself\u001b[0m\u001b[0;34m.\u001b[0m\u001b[0mparam_grid\u001b[0m\u001b[0;34m)\u001b[0m\u001b[0;34m)\u001b[0m\u001b[0;34m\u001b[0m\u001b[0;34m\u001b[0m\u001b[0m\n\u001b[0m\u001b[1;32m   1152\u001b[0m \u001b[0;34m\u001b[0m\u001b[0m\n\u001b[1;32m   1153\u001b[0m \u001b[0;34m\u001b[0m\u001b[0m\n",
      "\u001b[0;32m/usr/local/lib/python3.7/dist-packages/sklearn/model_selection/_search.py\u001b[0m in \u001b[0;36mevaluate_candidates\u001b[0;34m(candidate_params)\u001b[0m\n\u001b[1;32m    687\u001b[0m                                \u001b[0;32mfor\u001b[0m \u001b[0mparameters\u001b[0m\u001b[0;34m,\u001b[0m \u001b[0;34m(\u001b[0m\u001b[0mtrain\u001b[0m\u001b[0;34m,\u001b[0m \u001b[0mtest\u001b[0m\u001b[0;34m)\u001b[0m\u001b[0;34m\u001b[0m\u001b[0;34m\u001b[0m\u001b[0m\n\u001b[1;32m    688\u001b[0m                                in product(candidate_params,\n\u001b[0;32m--> 689\u001b[0;31m                                           cv.split(X, y, groups)))\n\u001b[0m\u001b[1;32m    690\u001b[0m \u001b[0;34m\u001b[0m\u001b[0m\n\u001b[1;32m    691\u001b[0m                 \u001b[0;32mif\u001b[0m \u001b[0mlen\u001b[0m\u001b[0;34m(\u001b[0m\u001b[0mout\u001b[0m\u001b[0;34m)\u001b[0m \u001b[0;34m<\u001b[0m \u001b[0;36m1\u001b[0m\u001b[0;34m:\u001b[0m\u001b[0;34m\u001b[0m\u001b[0;34m\u001b[0m\u001b[0m\n",
      "\u001b[0;32m/usr/local/lib/python3.7/dist-packages/joblib/parallel.py\u001b[0m in \u001b[0;36m__call__\u001b[0;34m(self, iterable)\u001b[0m\n\u001b[1;32m   1042\u001b[0m                 \u001b[0mself\u001b[0m\u001b[0;34m.\u001b[0m\u001b[0m_iterating\u001b[0m \u001b[0;34m=\u001b[0m \u001b[0mself\u001b[0m\u001b[0;34m.\u001b[0m\u001b[0m_original_iterator\u001b[0m \u001b[0;32mis\u001b[0m \u001b[0;32mnot\u001b[0m \u001b[0;32mNone\u001b[0m\u001b[0;34m\u001b[0m\u001b[0;34m\u001b[0m\u001b[0m\n\u001b[1;32m   1043\u001b[0m \u001b[0;34m\u001b[0m\u001b[0m\n\u001b[0;32m-> 1044\u001b[0;31m             \u001b[0;32mwhile\u001b[0m \u001b[0mself\u001b[0m\u001b[0;34m.\u001b[0m\u001b[0mdispatch_one_batch\u001b[0m\u001b[0;34m(\u001b[0m\u001b[0miterator\u001b[0m\u001b[0;34m)\u001b[0m\u001b[0;34m:\u001b[0m\u001b[0;34m\u001b[0m\u001b[0;34m\u001b[0m\u001b[0m\n\u001b[0m\u001b[1;32m   1045\u001b[0m                 \u001b[0;32mpass\u001b[0m\u001b[0;34m\u001b[0m\u001b[0;34m\u001b[0m\u001b[0m\n\u001b[1;32m   1046\u001b[0m \u001b[0;34m\u001b[0m\u001b[0m\n",
      "\u001b[0;32m/usr/local/lib/python3.7/dist-packages/joblib/parallel.py\u001b[0m in \u001b[0;36mdispatch_one_batch\u001b[0;34m(self, iterator)\u001b[0m\n\u001b[1;32m    857\u001b[0m                 \u001b[0;32mreturn\u001b[0m \u001b[0;32mFalse\u001b[0m\u001b[0;34m\u001b[0m\u001b[0;34m\u001b[0m\u001b[0m\n\u001b[1;32m    858\u001b[0m             \u001b[0;32melse\u001b[0m\u001b[0;34m:\u001b[0m\u001b[0;34m\u001b[0m\u001b[0;34m\u001b[0m\u001b[0m\n\u001b[0;32m--> 859\u001b[0;31m                 \u001b[0mself\u001b[0m\u001b[0;34m.\u001b[0m\u001b[0m_dispatch\u001b[0m\u001b[0;34m(\u001b[0m\u001b[0mtasks\u001b[0m\u001b[0;34m)\u001b[0m\u001b[0;34m\u001b[0m\u001b[0;34m\u001b[0m\u001b[0m\n\u001b[0m\u001b[1;32m    860\u001b[0m                 \u001b[0;32mreturn\u001b[0m \u001b[0;32mTrue\u001b[0m\u001b[0;34m\u001b[0m\u001b[0;34m\u001b[0m\u001b[0m\n\u001b[1;32m    861\u001b[0m \u001b[0;34m\u001b[0m\u001b[0m\n",
      "\u001b[0;32m/usr/local/lib/python3.7/dist-packages/joblib/parallel.py\u001b[0m in \u001b[0;36m_dispatch\u001b[0;34m(self, batch)\u001b[0m\n\u001b[1;32m    775\u001b[0m         \u001b[0;32mwith\u001b[0m \u001b[0mself\u001b[0m\u001b[0;34m.\u001b[0m\u001b[0m_lock\u001b[0m\u001b[0;34m:\u001b[0m\u001b[0;34m\u001b[0m\u001b[0;34m\u001b[0m\u001b[0m\n\u001b[1;32m    776\u001b[0m             \u001b[0mjob_idx\u001b[0m \u001b[0;34m=\u001b[0m \u001b[0mlen\u001b[0m\u001b[0;34m(\u001b[0m\u001b[0mself\u001b[0m\u001b[0;34m.\u001b[0m\u001b[0m_jobs\u001b[0m\u001b[0;34m)\u001b[0m\u001b[0;34m\u001b[0m\u001b[0;34m\u001b[0m\u001b[0m\n\u001b[0;32m--> 777\u001b[0;31m             \u001b[0mjob\u001b[0m \u001b[0;34m=\u001b[0m \u001b[0mself\u001b[0m\u001b[0;34m.\u001b[0m\u001b[0m_backend\u001b[0m\u001b[0;34m.\u001b[0m\u001b[0mapply_async\u001b[0m\u001b[0;34m(\u001b[0m\u001b[0mbatch\u001b[0m\u001b[0;34m,\u001b[0m \u001b[0mcallback\u001b[0m\u001b[0;34m=\u001b[0m\u001b[0mcb\u001b[0m\u001b[0;34m)\u001b[0m\u001b[0;34m\u001b[0m\u001b[0;34m\u001b[0m\u001b[0m\n\u001b[0m\u001b[1;32m    778\u001b[0m             \u001b[0;31m# A job can complete so quickly than its callback is\u001b[0m\u001b[0;34m\u001b[0m\u001b[0;34m\u001b[0m\u001b[0;34m\u001b[0m\u001b[0m\n\u001b[1;32m    779\u001b[0m             \u001b[0;31m# called before we get here, causing self._jobs to\u001b[0m\u001b[0;34m\u001b[0m\u001b[0;34m\u001b[0m\u001b[0;34m\u001b[0m\u001b[0m\n",
      "\u001b[0;32m/usr/local/lib/python3.7/dist-packages/joblib/_parallel_backends.py\u001b[0m in \u001b[0;36mapply_async\u001b[0;34m(self, func, callback)\u001b[0m\n\u001b[1;32m    206\u001b[0m     \u001b[0;32mdef\u001b[0m \u001b[0mapply_async\u001b[0m\u001b[0;34m(\u001b[0m\u001b[0mself\u001b[0m\u001b[0;34m,\u001b[0m \u001b[0mfunc\u001b[0m\u001b[0;34m,\u001b[0m \u001b[0mcallback\u001b[0m\u001b[0;34m=\u001b[0m\u001b[0;32mNone\u001b[0m\u001b[0;34m)\u001b[0m\u001b[0;34m:\u001b[0m\u001b[0;34m\u001b[0m\u001b[0;34m\u001b[0m\u001b[0m\n\u001b[1;32m    207\u001b[0m         \u001b[0;34m\"\"\"Schedule a func to be run\"\"\"\u001b[0m\u001b[0;34m\u001b[0m\u001b[0;34m\u001b[0m\u001b[0m\n\u001b[0;32m--> 208\u001b[0;31m         \u001b[0mresult\u001b[0m \u001b[0;34m=\u001b[0m \u001b[0mImmediateResult\u001b[0m\u001b[0;34m(\u001b[0m\u001b[0mfunc\u001b[0m\u001b[0;34m)\u001b[0m\u001b[0;34m\u001b[0m\u001b[0;34m\u001b[0m\u001b[0m\n\u001b[0m\u001b[1;32m    209\u001b[0m         \u001b[0;32mif\u001b[0m \u001b[0mcallback\u001b[0m\u001b[0;34m:\u001b[0m\u001b[0;34m\u001b[0m\u001b[0;34m\u001b[0m\u001b[0m\n\u001b[1;32m    210\u001b[0m             \u001b[0mcallback\u001b[0m\u001b[0;34m(\u001b[0m\u001b[0mresult\u001b[0m\u001b[0;34m)\u001b[0m\u001b[0;34m\u001b[0m\u001b[0;34m\u001b[0m\u001b[0m\n",
      "\u001b[0;32m/usr/local/lib/python3.7/dist-packages/joblib/_parallel_backends.py\u001b[0m in \u001b[0;36m__init__\u001b[0;34m(self, batch)\u001b[0m\n\u001b[1;32m    570\u001b[0m         \u001b[0;31m# Don't delay the application, to avoid keeping the input\u001b[0m\u001b[0;34m\u001b[0m\u001b[0;34m\u001b[0m\u001b[0;34m\u001b[0m\u001b[0m\n\u001b[1;32m    571\u001b[0m         \u001b[0;31m# arguments in memory\u001b[0m\u001b[0;34m\u001b[0m\u001b[0;34m\u001b[0m\u001b[0;34m\u001b[0m\u001b[0m\n\u001b[0;32m--> 572\u001b[0;31m         \u001b[0mself\u001b[0m\u001b[0;34m.\u001b[0m\u001b[0mresults\u001b[0m \u001b[0;34m=\u001b[0m \u001b[0mbatch\u001b[0m\u001b[0;34m(\u001b[0m\u001b[0;34m)\u001b[0m\u001b[0;34m\u001b[0m\u001b[0;34m\u001b[0m\u001b[0m\n\u001b[0m\u001b[1;32m    573\u001b[0m \u001b[0;34m\u001b[0m\u001b[0m\n\u001b[1;32m    574\u001b[0m     \u001b[0;32mdef\u001b[0m \u001b[0mget\u001b[0m\u001b[0;34m(\u001b[0m\u001b[0mself\u001b[0m\u001b[0;34m)\u001b[0m\u001b[0;34m:\u001b[0m\u001b[0;34m\u001b[0m\u001b[0;34m\u001b[0m\u001b[0m\n",
      "\u001b[0;32m/usr/local/lib/python3.7/dist-packages/joblib/parallel.py\u001b[0m in \u001b[0;36m__call__\u001b[0;34m(self)\u001b[0m\n\u001b[1;32m    261\u001b[0m         \u001b[0;32mwith\u001b[0m \u001b[0mparallel_backend\u001b[0m\u001b[0;34m(\u001b[0m\u001b[0mself\u001b[0m\u001b[0;34m.\u001b[0m\u001b[0m_backend\u001b[0m\u001b[0;34m,\u001b[0m \u001b[0mn_jobs\u001b[0m\u001b[0;34m=\u001b[0m\u001b[0mself\u001b[0m\u001b[0;34m.\u001b[0m\u001b[0m_n_jobs\u001b[0m\u001b[0;34m)\u001b[0m\u001b[0;34m:\u001b[0m\u001b[0;34m\u001b[0m\u001b[0;34m\u001b[0m\u001b[0m\n\u001b[1;32m    262\u001b[0m             return [func(*args, **kwargs)\n\u001b[0;32m--> 263\u001b[0;31m                     for func, args, kwargs in self.items]\n\u001b[0m\u001b[1;32m    264\u001b[0m \u001b[0;34m\u001b[0m\u001b[0m\n\u001b[1;32m    265\u001b[0m     \u001b[0;32mdef\u001b[0m \u001b[0m__reduce__\u001b[0m\u001b[0;34m(\u001b[0m\u001b[0mself\u001b[0m\u001b[0;34m)\u001b[0m\u001b[0;34m:\u001b[0m\u001b[0;34m\u001b[0m\u001b[0;34m\u001b[0m\u001b[0m\n",
      "\u001b[0;32m/usr/local/lib/python3.7/dist-packages/joblib/parallel.py\u001b[0m in \u001b[0;36m<listcomp>\u001b[0;34m(.0)\u001b[0m\n\u001b[1;32m    261\u001b[0m         \u001b[0;32mwith\u001b[0m \u001b[0mparallel_backend\u001b[0m\u001b[0;34m(\u001b[0m\u001b[0mself\u001b[0m\u001b[0;34m.\u001b[0m\u001b[0m_backend\u001b[0m\u001b[0;34m,\u001b[0m \u001b[0mn_jobs\u001b[0m\u001b[0;34m=\u001b[0m\u001b[0mself\u001b[0m\u001b[0;34m.\u001b[0m\u001b[0m_n_jobs\u001b[0m\u001b[0;34m)\u001b[0m\u001b[0;34m:\u001b[0m\u001b[0;34m\u001b[0m\u001b[0;34m\u001b[0m\u001b[0m\n\u001b[1;32m    262\u001b[0m             return [func(*args, **kwargs)\n\u001b[0;32m--> 263\u001b[0;31m                     for func, args, kwargs in self.items]\n\u001b[0m\u001b[1;32m    264\u001b[0m \u001b[0;34m\u001b[0m\u001b[0m\n\u001b[1;32m    265\u001b[0m     \u001b[0;32mdef\u001b[0m \u001b[0m__reduce__\u001b[0m\u001b[0;34m(\u001b[0m\u001b[0mself\u001b[0m\u001b[0;34m)\u001b[0m\u001b[0;34m:\u001b[0m\u001b[0;34m\u001b[0m\u001b[0;34m\u001b[0m\u001b[0m\n",
      "\u001b[0;32m/usr/local/lib/python3.7/dist-packages/sklearn/model_selection/_validation.py\u001b[0m in \u001b[0;36m_fit_and_score\u001b[0;34m(estimator, X, y, scorer, train, test, verbose, parameters, fit_params, return_train_score, return_parameters, return_n_test_samples, return_times, return_estimator, error_score)\u001b[0m\n\u001b[1;32m    513\u001b[0m             \u001b[0mestimator\u001b[0m\u001b[0;34m.\u001b[0m\u001b[0mfit\u001b[0m\u001b[0;34m(\u001b[0m\u001b[0mX_train\u001b[0m\u001b[0;34m,\u001b[0m \u001b[0;34m**\u001b[0m\u001b[0mfit_params\u001b[0m\u001b[0;34m)\u001b[0m\u001b[0;34m\u001b[0m\u001b[0;34m\u001b[0m\u001b[0m\n\u001b[1;32m    514\u001b[0m         \u001b[0;32melse\u001b[0m\u001b[0;34m:\u001b[0m\u001b[0;34m\u001b[0m\u001b[0;34m\u001b[0m\u001b[0m\n\u001b[0;32m--> 515\u001b[0;31m             \u001b[0mestimator\u001b[0m\u001b[0;34m.\u001b[0m\u001b[0mfit\u001b[0m\u001b[0;34m(\u001b[0m\u001b[0mX_train\u001b[0m\u001b[0;34m,\u001b[0m \u001b[0my_train\u001b[0m\u001b[0;34m,\u001b[0m \u001b[0;34m**\u001b[0m\u001b[0mfit_params\u001b[0m\u001b[0;34m)\u001b[0m\u001b[0;34m\u001b[0m\u001b[0;34m\u001b[0m\u001b[0m\n\u001b[0m\u001b[1;32m    516\u001b[0m \u001b[0;34m\u001b[0m\u001b[0m\n\u001b[1;32m    517\u001b[0m     \u001b[0;32mexcept\u001b[0m \u001b[0mException\u001b[0m \u001b[0;32mas\u001b[0m \u001b[0me\u001b[0m\u001b[0;34m:\u001b[0m\u001b[0;34m\u001b[0m\u001b[0;34m\u001b[0m\u001b[0m\n",
      "\u001b[0;32m/usr/local/lib/python3.7/dist-packages/sklearn/ensemble/_weight_boosting.py\u001b[0m in \u001b[0;36mfit\u001b[0;34m(self, X, y, sample_weight)\u001b[0m\n\u001b[1;32m    436\u001b[0m \u001b[0;34m\u001b[0m\u001b[0m\n\u001b[1;32m    437\u001b[0m         \u001b[0;31m# Fit\u001b[0m\u001b[0;34m\u001b[0m\u001b[0;34m\u001b[0m\u001b[0;34m\u001b[0m\u001b[0m\n\u001b[0;32m--> 438\u001b[0;31m         \u001b[0;32mreturn\u001b[0m \u001b[0msuper\u001b[0m\u001b[0;34m(\u001b[0m\u001b[0;34m)\u001b[0m\u001b[0;34m.\u001b[0m\u001b[0mfit\u001b[0m\u001b[0;34m(\u001b[0m\u001b[0mX\u001b[0m\u001b[0;34m,\u001b[0m \u001b[0my\u001b[0m\u001b[0;34m,\u001b[0m \u001b[0msample_weight\u001b[0m\u001b[0;34m)\u001b[0m\u001b[0;34m\u001b[0m\u001b[0;34m\u001b[0m\u001b[0m\n\u001b[0m\u001b[1;32m    439\u001b[0m \u001b[0;34m\u001b[0m\u001b[0m\n\u001b[1;32m    440\u001b[0m     \u001b[0;32mdef\u001b[0m \u001b[0m_validate_estimator\u001b[0m\u001b[0;34m(\u001b[0m\u001b[0mself\u001b[0m\u001b[0;34m)\u001b[0m\u001b[0;34m:\u001b[0m\u001b[0;34m\u001b[0m\u001b[0;34m\u001b[0m\u001b[0m\n",
      "\u001b[0;32m/usr/local/lib/python3.7/dist-packages/sklearn/ensemble/_weight_boosting.py\u001b[0m in \u001b[0;36mfit\u001b[0;34m(self, X, y, sample_weight)\u001b[0m\n\u001b[1;32m    140\u001b[0m                 \u001b[0mX\u001b[0m\u001b[0;34m,\u001b[0m \u001b[0my\u001b[0m\u001b[0;34m,\u001b[0m\u001b[0;34m\u001b[0m\u001b[0;34m\u001b[0m\u001b[0m\n\u001b[1;32m    141\u001b[0m                 \u001b[0msample_weight\u001b[0m\u001b[0;34m,\u001b[0m\u001b[0;34m\u001b[0m\u001b[0;34m\u001b[0m\u001b[0m\n\u001b[0;32m--> 142\u001b[0;31m                 random_state)\n\u001b[0m\u001b[1;32m    143\u001b[0m \u001b[0;34m\u001b[0m\u001b[0m\n\u001b[1;32m    144\u001b[0m             \u001b[0;31m# Early termination\u001b[0m\u001b[0;34m\u001b[0m\u001b[0;34m\u001b[0m\u001b[0;34m\u001b[0m\u001b[0m\n",
      "\u001b[0;32m/usr/local/lib/python3.7/dist-packages/sklearn/ensemble/_weight_boosting.py\u001b[0m in \u001b[0;36m_boost\u001b[0;34m(self, iboost, X, y, sample_weight, random_state)\u001b[0m\n\u001b[1;32m    495\u001b[0m         \"\"\"\n\u001b[1;32m    496\u001b[0m         \u001b[0;32mif\u001b[0m \u001b[0mself\u001b[0m\u001b[0;34m.\u001b[0m\u001b[0malgorithm\u001b[0m \u001b[0;34m==\u001b[0m \u001b[0;34m'SAMME.R'\u001b[0m\u001b[0;34m:\u001b[0m\u001b[0;34m\u001b[0m\u001b[0;34m\u001b[0m\u001b[0m\n\u001b[0;32m--> 497\u001b[0;31m             \u001b[0;32mreturn\u001b[0m \u001b[0mself\u001b[0m\u001b[0;34m.\u001b[0m\u001b[0m_boost_real\u001b[0m\u001b[0;34m(\u001b[0m\u001b[0miboost\u001b[0m\u001b[0;34m,\u001b[0m \u001b[0mX\u001b[0m\u001b[0;34m,\u001b[0m \u001b[0my\u001b[0m\u001b[0;34m,\u001b[0m \u001b[0msample_weight\u001b[0m\u001b[0;34m,\u001b[0m \u001b[0mrandom_state\u001b[0m\u001b[0;34m)\u001b[0m\u001b[0;34m\u001b[0m\u001b[0;34m\u001b[0m\u001b[0m\n\u001b[0m\u001b[1;32m    498\u001b[0m \u001b[0;34m\u001b[0m\u001b[0m\n\u001b[1;32m    499\u001b[0m         \u001b[0;32melse\u001b[0m\u001b[0;34m:\u001b[0m  \u001b[0;31m# elif self.algorithm == \"SAMME\":\u001b[0m\u001b[0;34m\u001b[0m\u001b[0;34m\u001b[0m\u001b[0m\n",
      "\u001b[0;31mKeyboardInterrupt\u001b[0m: "
     ]
    }
   ],
   "source": [
    "grid.fit(X_train,y_train)"
   ]
  },
  {
   "cell_type": "code",
   "execution_count": null,
   "id": "YWcPWK1p_ZXx",
   "metadata": {
    "id": "YWcPWK1p_ZXx"
   },
   "outputs": [],
   "source": [
    "grid.best_params_"
   ]
  },
  {
   "cell_type": "code",
   "execution_count": null,
   "id": "PKs15X6M_ZZ7",
   "metadata": {
    "id": "PKs15X6M_ZZ7"
   },
   "outputs": [],
   "source": [
    "grid.best_estimator_"
   ]
  },
  {
   "cell_type": "code",
   "execution_count": null,
   "id": "uY_pBuAt_rvj",
   "metadata": {
    "id": "uY_pBuAt_rvj"
   },
   "outputs": [],
   "source": [
    "grid_predictions = grid.predict(X_test)"
   ]
  },
  {
   "cell_type": "code",
   "execution_count": null,
   "id": "8edyq97K_rxr",
   "metadata": {
    "id": "8edyq97K_rxr"
   },
   "outputs": [],
   "source": [
    "print(confusion_matrix(y_test,grid_predictions))"
   ]
  },
  {
   "cell_type": "code",
   "execution_count": null,
   "id": "eTSDBJ1j_rzp",
   "metadata": {
    "id": "eTSDBJ1j_rzp"
   },
   "outputs": [],
   "source": [
    "print(classification_report(y_test,grid_predictions))"
   ]
  },
  {
   "cell_type": "markdown",
   "id": "05e6927f",
   "metadata": {
    "id": "05e6927f"
   },
   "source": [
    "### XGBoost"
   ]
  },
  {
   "cell_type": "code",
   "execution_count": null,
   "id": "UYvCzmC4C5Fa",
   "metadata": {
    "id": "UYvCzmC4C5Fa"
   },
   "outputs": [],
   "source": [
    "import warnings\n",
    "warnings.filterwarnings('ignore')\n",
    "import xgboost\n",
    "\n",
    "params = {'n_estimators':range(1,150), \n",
    "          'learning_rate':np.arange(0.05, 1.0, 0.05)}\n",
    "\n",
    "# grid = GridSearchCV(xgboost.XGBClassifier(), params)"
   ]
  },
  {
   "cell_type": "code",
   "execution_count": null,
   "id": "dEjkzOPKC5U1",
   "metadata": {
    "id": "dEjkzOPKC5U1"
   },
   "outputs": [],
   "source": [
    "X_train['sex'] = X_train['sex'].astype('int')"
   ]
  },
  {
   "cell_type": "code",
   "execution_count": null,
   "id": "HQnR_aDi_r42",
   "metadata": {
    "id": "HQnR_aDi_r42"
   },
   "outputs": [],
   "source": [
    "# Proses ini bisa memakan waktu yang lama, tergantung dari ukuran data dan banyaknya kombinasi parameter model\n",
    "# grid.fit(X_train,y_train)"
   ]
  },
  {
   "cell_type": "code",
   "execution_count": null,
   "id": "mFmLo1aZC-No",
   "metadata": {
    "id": "mFmLo1aZC-No"
   },
   "outputs": [],
   "source": [
    "grid.best_params_"
   ]
  },
  {
   "cell_type": "code",
   "execution_count": null,
   "id": "Q9TvIcsdC-hX",
   "metadata": {
    "id": "Q9TvIcsdC-hX"
   },
   "outputs": [],
   "source": [
    "grid.best_estimator_"
   ]
  },
  {
   "cell_type": "code",
   "execution_count": null,
   "id": "1V7u7oLQC-j8",
   "metadata": {
    "id": "1V7u7oLQC-j8"
   },
   "outputs": [],
   "source": [
    "grid_predictions = grid.predict(X_test)"
   ]
  },
  {
   "cell_type": "code",
   "execution_count": null,
   "id": "vcpQPILAC-l-",
   "metadata": {
    "id": "vcpQPILAC-l-"
   },
   "outputs": [],
   "source": [
    "print(confusion_matrix(y_test,grid_predictions))"
   ]
  },
  {
   "cell_type": "code",
   "execution_count": null,
   "id": "OyDj13anC-ok",
   "metadata": {
    "id": "OyDj13anC-ok"
   },
   "outputs": [],
   "source": [
    "print(classification_report(y_test,grid_predictions))"
   ]
  },
  {
   "cell_type": "markdown",
   "id": "6b453b77",
   "metadata": {
    "id": "6b453b77"
   },
   "source": [
    "### KNN"
   ]
  },
  {
   "cell_type": "code",
   "execution_count": null,
   "id": "AQlYG-mcDN9N",
   "metadata": {
    "id": "AQlYG-mcDN9N"
   },
   "outputs": [],
   "source": [
    "from sklearn.model_selection import train_test_split\n",
    "from sklearn.neighbors import KNeighborsClassifier\n",
    "#Klasifikasi\n",
    "\n",
    "params = {'leaf_size':range(1,50), \n",
    "          'n_neighbors':range(1,30),\n",
    "          'p' : [1,2]}\n",
    "\n",
    "grid = GridSearchCV(KNeighborsClassifier(), params, cv = 10)\n"
   ]
  },
  {
   "cell_type": "code",
   "execution_count": null,
   "id": "FQvafrzLDOFq",
   "metadata": {
    "id": "FQvafrzLDOFq"
   },
   "outputs": [],
   "source": [
    "#Fitting data\n",
    "grid.fit(X_train, y_train)"
   ]
  },
  {
   "cell_type": "code",
   "execution_count": null,
   "id": "OpVMcmP2DOIc",
   "metadata": {
    "id": "OpVMcmP2DOIc"
   },
   "outputs": [],
   "source": [
    "grid.best_params_"
   ]
  },
  {
   "cell_type": "code",
   "execution_count": null,
   "id": "JgXZFnRdDOK-",
   "metadata": {
    "id": "JgXZFnRdDOK-"
   },
   "outputs": [],
   "source": [
    "grid.best_estimator_"
   ]
  },
  {
   "cell_type": "code",
   "execution_count": null,
   "id": "qihL_9NKDcEl",
   "metadata": {
    "id": "qihL_9NKDcEl"
   },
   "outputs": [],
   "source": [
    "grid_predictions = grid.predict(X_test)"
   ]
  },
  {
   "cell_type": "code",
   "execution_count": null,
   "id": "cpvYXb5BDcHG",
   "metadata": {
    "id": "cpvYXb5BDcHG"
   },
   "outputs": [],
   "source": [
    "print(confusion_matrix(y_test,grid_predictions))"
   ]
  },
  {
   "cell_type": "code",
   "execution_count": null,
   "id": "OdPB3UQWDcJ4",
   "metadata": {
    "id": "OdPB3UQWDcJ4"
   },
   "outputs": [],
   "source": [
    "print(classification_report(y_test,grid_predictions))"
   ]
  },
  {
   "cell_type": "markdown",
   "id": "d1e2b496",
   "metadata": {
    "id": "d1e2b496"
   },
   "source": [
    "### SVM"
   ]
  },
  {
   "cell_type": "code",
   "execution_count": null,
   "id": "3XiMGOozDpG0",
   "metadata": {
    "id": "3XiMGOozDpG0"
   },
   "outputs": [],
   "source": [
    "from sklearn.svm import SVC\n",
    "param_grid = {'C': [0.1,1, 10, 100, 1000], 'gamma': [1,0.1,0.01,0.001,0.0001], 'kernel': ['rbf','linear','polynomial','sigmoid']} \n",
    "grid = GridSearchCV(SVC(),param_grid,refit=True,verbose=1)"
   ]
  },
  {
   "cell_type": "code",
   "execution_count": null,
   "id": "6IUl059CDpJc",
   "metadata": {
    "id": "6IUl059CDpJc"
   },
   "outputs": [],
   "source": [
    "# Proses ini bisa memakan waktu yang lama, tergantung dari ukuran data dan banyaknya kombinasi parameter model\n",
    "grid.fit(X_train,y_train)"
   ]
  },
  {
   "cell_type": "code",
   "execution_count": null,
   "id": "Dcm7Rmz9DpMJ",
   "metadata": {
    "id": "Dcm7Rmz9DpMJ"
   },
   "outputs": [],
   "source": [
    "grid.best_params_"
   ]
  },
  {
   "cell_type": "code",
   "execution_count": null,
   "id": "PRNXmUqGDpO-",
   "metadata": {
    "id": "PRNXmUqGDpO-"
   },
   "outputs": [],
   "source": [
    "grid.best_estimator_"
   ]
  },
  {
   "cell_type": "code",
   "execution_count": null,
   "id": "z6ZuuoYODpR2",
   "metadata": {
    "id": "z6ZuuoYODpR2"
   },
   "outputs": [],
   "source": [
    "grid_predictions = grid.predict(X_test)"
   ]
  },
  {
   "cell_type": "code",
   "execution_count": null,
   "id": "K87iEFUYD1h3",
   "metadata": {
    "id": "K87iEFUYD1h3"
   },
   "outputs": [],
   "source": [
    "print(confusion_matrix(y_test,grid_predictions))"
   ]
  },
  {
   "cell_type": "code",
   "execution_count": null,
   "id": "oqZ3Tg5ED1k2",
   "metadata": {
    "id": "oqZ3Tg5ED1k2"
   },
   "outputs": [],
   "source": [
    "print(classification_report(y_test,grid_predictions))"
   ]
  },
  {
   "cell_type": "markdown",
   "id": "fb3f5b00",
   "metadata": {
    "id": "fb3f5b00"
   },
   "source": [
    "### Gaussian NB"
   ]
  },
  {
   "cell_type": "code",
   "execution_count": null,
   "id": "ihX6_nmFEAY6",
   "metadata": {
    "id": "ihX6_nmFEAY6"
   },
   "outputs": [],
   "source": [
    "from sklearn.naive_bayes import GaussianNB"
   ]
  },
  {
   "cell_type": "code",
   "execution_count": null,
   "id": "XWlpKhPyEAi-",
   "metadata": {
    "id": "XWlpKhPyEAi-"
   },
   "outputs": [],
   "source": [
    "param_grid = {'var_smoothing': np.logspace(0,-9, num=100)} \n",
    "grid = GridSearchCV(GaussianNB(), \n",
    "                 param_grid=param_grid, \n",
    "                 cv=10,   # use any cross validation technique \n",
    "                 verbose=1, \n",
    "                 scoring='accuracy')"
   ]
  },
  {
   "cell_type": "code",
   "execution_count": null,
   "id": "KTPi7tjIEAlw",
   "metadata": {
    "id": "KTPi7tjIEAlw"
   },
   "outputs": [],
   "source": [
    "# Proses ini bisa memakan waktu yang lama, tergantung dari ukuran data dan banyaknya kombinasi parameter model\n",
    "grid.fit(X_train,y_train)"
   ]
  },
  {
   "cell_type": "code",
   "execution_count": null,
   "id": "Y4FuZrTmEAoc",
   "metadata": {
    "id": "Y4FuZrTmEAoc"
   },
   "outputs": [],
   "source": [
    "grid.best_params_"
   ]
  },
  {
   "cell_type": "code",
   "execution_count": null,
   "id": "EmaxLlkKELvC",
   "metadata": {
    "id": "EmaxLlkKELvC"
   },
   "outputs": [],
   "source": [
    "grid.best_estimator_"
   ]
  },
  {
   "cell_type": "code",
   "execution_count": null,
   "id": "QGp1WFszELxm",
   "metadata": {
    "id": "QGp1WFszELxm"
   },
   "outputs": [],
   "source": [
    "grid_predictions = grid.predict(X_test)"
   ]
  },
  {
   "cell_type": "code",
   "execution_count": null,
   "id": "xlNgh29FEL1U",
   "metadata": {
    "id": "xlNgh29FEL1U"
   },
   "outputs": [],
   "source": [
    "print(confusion_matrix(y_test,grid_predictions))"
   ]
  },
  {
   "cell_type": "code",
   "execution_count": null,
   "id": "Xgzg5UuDEL4c",
   "metadata": {
    "id": "Xgzg5UuDEL4c"
   },
   "outputs": [],
   "source": [
    "print(classification_report(y_test,grid_predictions))"
   ]
  },
  {
   "cell_type": "markdown",
   "id": "ef26405b",
   "metadata": {
    "id": "ef26405b"
   },
   "source": [
    "### Gradient Boosting"
   ]
  },
  {
   "cell_type": "code",
   "execution_count": null,
   "id": "EthvKaVwEglo",
   "metadata": {
    "id": "EthvKaVwEglo"
   },
   "outputs": [],
   "source": [
    "from sklearn.ensemble import GradientBoostingClassifier\n",
    "param = {'learning_rate':[0.15,0.1,0.05,0.01,0.005,0.001], \n",
    "         'n_estimators':[100,250,500,750,1000,1250,1500,1750] ,\n",
    "         'max_depth':[2,3,4,5,6,7]   \n",
    "}\n",
    "grid = GridSearchCV(GradientBoostingClassifier(), \n",
    "                 param_grid=param_grid, \n",
    "                 cv=10,   # use any cross validation technique \n",
    "                 scoring='accuracy')\n"
   ]
  },
  {
   "cell_type": "code",
   "execution_count": null,
   "id": "duvCwF3YEgx3",
   "metadata": {
    "id": "duvCwF3YEgx3"
   },
   "outputs": [],
   "source": [
    "# Proses ini bisa memakan waktu yang lama, tergantung dari ukuran data dan banyaknya kombinasi parameter model\n",
    "grid.fit(X_train,y_train)"
   ]
  },
  {
   "cell_type": "code",
   "execution_count": null,
   "id": "ziZoCWVaEqHo",
   "metadata": {
    "id": "ziZoCWVaEqHo"
   },
   "outputs": [],
   "source": [
    "grid.best_params_"
   ]
  },
  {
   "cell_type": "code",
   "execution_count": null,
   "id": "9wWtuAHnEqKR",
   "metadata": {
    "id": "9wWtuAHnEqKR"
   },
   "outputs": [],
   "source": [
    "grid.best_estimator_"
   ]
  },
  {
   "cell_type": "code",
   "execution_count": null,
   "id": "XwQynGF9Eg8D",
   "metadata": {
    "id": "XwQynGF9Eg8D"
   },
   "outputs": [],
   "source": [
    "grid_predictions = grid.predict(X_test)"
   ]
  },
  {
   "cell_type": "code",
   "execution_count": null,
   "id": "F-k7hDZwExWW",
   "metadata": {
    "id": "F-k7hDZwExWW"
   },
   "outputs": [],
   "source": [
    "print(confusion_matrix(y_test,grid_predictions))"
   ]
  },
  {
   "cell_type": "code",
   "execution_count": null,
   "id": "AiCKutYeG0SD",
   "metadata": {
    "id": "AiCKutYeG0SD"
   },
   "outputs": [],
   "source": [
    "print(classification_report(y_test,grid_predictions))"
   ]
  }
 ],
 "metadata": {
  "colab": {
   "collapsed_sections": [
    "dfa1026a",
    "ae5a3bf6",
    "a935769b",
    "05e6927f",
    "6b453b77",
    "d1e2b496",
    "ef26405b",
    "e7b5d60c",
    "5dcff8c3",
    "62fb053c",
    "d796d05b",
    "95f89c1c",
    "6ffe50be",
    "b9205dae",
    "4e1e56c8",
    "354ac0f5",
    "0327d07c",
    "ecb9af48"
   ],
   "name": "Classification Abalone.ipynb",
   "provenance": []
  },
  "kernelspec": {
   "display_name": "Python 3",
   "language": "python",
   "name": "python3"
  },
  "language_info": {
   "codemirror_mode": {
    "name": "ipython",
    "version": 3
   },
   "file_extension": ".py",
   "mimetype": "text/x-python",
   "name": "python",
   "nbconvert_exporter": "python",
   "pygments_lexer": "ipython3",
   "version": "3.8.8"
  }
 },
 "nbformat": 4,
 "nbformat_minor": 5
}
