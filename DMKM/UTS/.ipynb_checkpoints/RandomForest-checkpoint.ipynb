{
 "cells": [
  {
   "cell_type": "markdown",
   "metadata": {
    "id": "KLna0RcMVbdB"
   },
   "source": [
    "## Data Preparation"
   ]
  },
  {
   "cell_type": "code",
   "execution_count": 1,
   "metadata": {
    "id": "UzPOldcntkIZ"
   },
   "outputs": [],
   "source": [
    "# Mengimpor library yang diperlukan\n",
    "import numpy as np\n",
    "import matplotlib.pyplot as plt\n",
    "import pandas as pd\n",
    "import seaborn as sns"
   ]
  },
  {
   "cell_type": "code",
   "execution_count": 2,
   "metadata": {
    "colab": {
     "base_uri": "https://localhost:8080/"
    },
    "id": "15qCeF9ovm9g",
    "outputId": "9a77c622-4f5c-46d8-986c-f08e5795029d"
   },
   "outputs": [
    {
     "name": "stdout",
     "output_type": "stream",
     "text": [
      "<class 'pandas.core.frame.DataFrame'>\n",
      "RangeIndex: 449 entries, 0 to 448\n",
      "Data columns (total 22 columns):\n",
      " #   Column                       Non-Null Count  Dtype \n",
      "---  ------                       --------------  ----- \n",
      " 0   Sex                          449 non-null    object\n",
      " 1   Age                          449 non-null    object\n",
      " 2   Professions                  449 non-null    object\n",
      " 3   Education                    447 non-null    object\n",
      " 4   Living Area                  449 non-null    object\n",
      " 5   1. Swelling                  448 non-null    object\n",
      " 6   2. Redness                   448 non-null    object\n",
      " 7   3. Itching                   449 non-null    object\n",
      " 8   4. Fever                     449 non-null    object\n",
      " 9   5. Headache                  449 non-null    object\n",
      " 10  6. Muscle Pain               448 non-null    object\n",
      " 11  7. Tiredness                 448 non-null    object\n",
      " 12  8. Coughing                  449 non-null    object\n",
      " 13  9. Diarrhea                  449 non-null    object\n",
      " 14  10. Nausea and vomiting      449 non-null    object\n",
      " 15  11. Breathlessness           449 non-null    object\n",
      " 16  12. Joint Pain               449 non-null    object\n",
      " 17  13. Fainted                  449 non-null    object\n",
      " 18  14. Anaphylactic Reaction    449 non-null    object\n",
      " 19  15. Tingling                 447 non-null    object\n",
      " 20  16. Swollen Lymph Nodes      449 non-null    object\n",
      " 21  TARGET LABEL (SYMPTOM TIME)  449 non-null    object\n",
      "dtypes: object(22)\n",
      "memory usage: 77.3+ KB\n"
     ]
    }
   ],
   "source": [
    "# Mengimpor dataset\n",
    "dataset = pd.read_excel('3SI1_Dataset 03_Gejala Ikutan Vaksin.xlsx')\n",
    "dataset.info()"
   ]
  },
  {
   "cell_type": "markdown",
   "metadata": {
    "id": "foHy4daLVsAw"
   },
   "source": [
    "### Periksa Data"
   ]
  },
  {
   "cell_type": "code",
   "execution_count": 3,
   "metadata": {
    "colab": {
     "base_uri": "https://localhost:8080/"
    },
    "id": "4LitEmnEOdLe",
    "outputId": "5f497968-ddd5-423e-c77e-c7565871ad57"
   },
   "outputs": [
    {
     "data": {
      "text/plain": [
       "Index(['Sex', 'Age', 'Professions', 'Education', 'Living Area', '1. Swelling',\n",
       "       '2. Redness', '3. Itching', '4. Fever', '5. Headache', '6. Muscle Pain',\n",
       "       '7. Tiredness', '8. Coughing', '9. Diarrhea', '10. Nausea and vomiting',\n",
       "       '11. Breathlessness', '12. Joint Pain', '13. Fainted',\n",
       "       '14. Anaphylactic Reaction', '15. Tingling', '16. Swollen Lymph Nodes',\n",
       "       'TARGET LABEL (SYMPTOM TIME)'],\n",
       "      dtype='object')"
      ]
     },
     "execution_count": 3,
     "metadata": {},
     "output_type": "execute_result"
    }
   ],
   "source": [
    "dataset.keys()"
   ]
  },
  {
   "cell_type": "code",
   "execution_count": 4,
   "metadata": {
    "colab": {
     "base_uri": "https://localhost:8080/"
    },
    "id": "7amvoSM5T1S5",
    "outputId": "372ecee8-bb75-494d-f1bb-4ed117777e06"
   },
   "outputs": [
    {
     "data": {
      "text/plain": [
       "<bound method NDFrame.describe of         Sex          Age         Professions           Education Living Area  \\\n",
       "0      Male  51-55 years  Medical specialist       Master degree    Downtown   \n",
       "1    Female  41-45 years   Non medical staff       Master degree    Downtown   \n",
       "2      Male  56-60 years      Medical doctor                 NaN    Downtown   \n",
       "3      Male  26-30 years   Non medical staff                 NaN    Downtown   \n",
       "4    Female  31-35 years      Medical doctor     Bachelor degree    Downtown   \n",
       "..      ...          ...                 ...                 ...         ...   \n",
       "444  Female  36-40 years             Midwife     Bachelor degree    Downtown   \n",
       "445  Female  46-50 years   Non medical staff     Bachelor degree    Outskirt   \n",
       "446  Female  36-40 years               Nurse     Bachelor degree    Downtown   \n",
       "447  Female  41-45 years   Non medical staff     Bachelor degree    Downtown   \n",
       "448  Female  36-40 years   Non medical staff  Senior high school    Downtown   \n",
       "\n",
       "    1. Swelling 2. Redness 3. Itching 4. Fever 5. Headache  ... 8. Coughing  \\\n",
       "0            No         No         No       No          No  ...          No   \n",
       "1            No         No         No       No          No  ...          No   \n",
       "2            No         No         No       No          No  ...          No   \n",
       "3            No         No         No       No          No  ...          No   \n",
       "4            No         No         No       No          No  ...         Yes   \n",
       "..          ...        ...        ...      ...         ...  ...         ...   \n",
       "444         Yes         No         No       No          No  ...          No   \n",
       "445          No         No         No       No         Yes  ...         Yes   \n",
       "446          No         No         No       No          No  ...          No   \n",
       "447          No         No         No       No          No  ...          No   \n",
       "448          No         No         No       No          No  ...          No   \n",
       "\n",
       "    9. Diarrhea 10. Nausea and vomiting 11. Breathlessness 12. Joint Pain  \\\n",
       "0            No                      No                 No             No   \n",
       "1            No                      No                 No             No   \n",
       "2            No                      No                 No             No   \n",
       "3            No                      No                 No             No   \n",
       "4            No                      No                 No             No   \n",
       "..          ...                     ...                ...            ...   \n",
       "444          No                      No                 No             No   \n",
       "445          No                      No                 No             No   \n",
       "446          No                      No                 No             No   \n",
       "447          No                      No                 No             No   \n",
       "448          No                      No                 No             No   \n",
       "\n",
       "    13. Fainted 14. Anaphylactic Reaction 15. Tingling  \\\n",
       "0            No                        No           No   \n",
       "1            No                        No           No   \n",
       "2            No                        No           No   \n",
       "3            No                        No           No   \n",
       "4            No                        No           No   \n",
       "..          ...                       ...          ...   \n",
       "444          No                        No           No   \n",
       "445          No                        No           No   \n",
       "446          No                        No           No   \n",
       "447          No                        No           No   \n",
       "448          No                        No           No   \n",
       "\n",
       "    16. Swollen Lymph Nodes TARGET LABEL (SYMPTOM TIME)  \n",
       "0                        No                        None  \n",
       "1                        No                        None  \n",
       "2                        No                  < 24 hours  \n",
       "3                        No                        None  \n",
       "4                        No                  < 24 hours  \n",
       "..                      ...                         ...  \n",
       "444                      No                 24-72 hours  \n",
       "445                      No                 24-72 hours  \n",
       "446                      No                        None  \n",
       "447                      No                 24-72 hours  \n",
       "448                      No                        None  \n",
       "\n",
       "[449 rows x 22 columns]>"
      ]
     },
     "execution_count": 4,
     "metadata": {},
     "output_type": "execute_result"
    }
   ],
   "source": [
    "dataset.describe"
   ]
  },
  {
   "cell_type": "code",
   "execution_count": 6,
   "metadata": {
    "colab": {
     "base_uri": "https://localhost:8080/"
    },
    "id": "aAfsOMiIUcK5",
    "outputId": "f9ea29d9-4e73-44ac-ed31-82b0b3978bd0"
   },
   "outputs": [
    {
     "data": {
      "text/plain": [
       "8"
      ]
     },
     "execution_count": 6,
     "metadata": {},
     "output_type": "execute_result"
    }
   ],
   "source": [
    "np.sum(pd.isnull(dataset).sum()) # Sum of the count of null objects in all columns of data frame"
   ]
  },
  {
   "cell_type": "code",
   "execution_count": 7,
   "metadata": {
    "colab": {
     "base_uri": "https://localhost:8080/",
     "height": 203
    },
    "id": "6_nk8cmFUvin",
    "outputId": "8984b965-af53-4e07-afa7-531eebcf6dcb"
   },
   "outputs": [
    {
     "data": {
      "text/html": [
       "<div>\n",
       "<style scoped>\n",
       "    .dataframe tbody tr th:only-of-type {\n",
       "        vertical-align: middle;\n",
       "    }\n",
       "\n",
       "    .dataframe tbody tr th {\n",
       "        vertical-align: top;\n",
       "    }\n",
       "\n",
       "    .dataframe thead th {\n",
       "        text-align: right;\n",
       "    }\n",
       "</style>\n",
       "<table border=\"1\" class=\"dataframe\">\n",
       "  <thead>\n",
       "    <tr style=\"text-align: right;\">\n",
       "      <th></th>\n",
       "      <th>Sex</th>\n",
       "      <th>Age</th>\n",
       "      <th>Professions</th>\n",
       "      <th>Education</th>\n",
       "      <th>Living Area</th>\n",
       "      <th>1. Swelling</th>\n",
       "      <th>2. Redness</th>\n",
       "      <th>3. Itching</th>\n",
       "      <th>4. Fever</th>\n",
       "      <th>5. Headache</th>\n",
       "      <th>...</th>\n",
       "      <th>8. Coughing</th>\n",
       "      <th>9. Diarrhea</th>\n",
       "      <th>10. Nausea and vomiting</th>\n",
       "      <th>11. Breathlessness</th>\n",
       "      <th>12. Joint Pain</th>\n",
       "      <th>13. Fainted</th>\n",
       "      <th>14. Anaphylactic Reaction</th>\n",
       "      <th>15. Tingling</th>\n",
       "      <th>16. Swollen Lymph Nodes</th>\n",
       "      <th>TARGET LABEL (SYMPTOM TIME)</th>\n",
       "    </tr>\n",
       "  </thead>\n",
       "  <tbody>\n",
       "    <tr>\n",
       "      <th>0</th>\n",
       "      <td>Male</td>\n",
       "      <td>51-55 years</td>\n",
       "      <td>Medical specialist</td>\n",
       "      <td>Master degree</td>\n",
       "      <td>Downtown</td>\n",
       "      <td>No</td>\n",
       "      <td>No</td>\n",
       "      <td>No</td>\n",
       "      <td>No</td>\n",
       "      <td>No</td>\n",
       "      <td>...</td>\n",
       "      <td>No</td>\n",
       "      <td>No</td>\n",
       "      <td>No</td>\n",
       "      <td>No</td>\n",
       "      <td>No</td>\n",
       "      <td>No</td>\n",
       "      <td>No</td>\n",
       "      <td>No</td>\n",
       "      <td>No</td>\n",
       "      <td>None</td>\n",
       "    </tr>\n",
       "    <tr>\n",
       "      <th>1</th>\n",
       "      <td>Female</td>\n",
       "      <td>41-45 years</td>\n",
       "      <td>Non medical staff</td>\n",
       "      <td>Master degree</td>\n",
       "      <td>Downtown</td>\n",
       "      <td>No</td>\n",
       "      <td>No</td>\n",
       "      <td>No</td>\n",
       "      <td>No</td>\n",
       "      <td>No</td>\n",
       "      <td>...</td>\n",
       "      <td>No</td>\n",
       "      <td>No</td>\n",
       "      <td>No</td>\n",
       "      <td>No</td>\n",
       "      <td>No</td>\n",
       "      <td>No</td>\n",
       "      <td>No</td>\n",
       "      <td>No</td>\n",
       "      <td>No</td>\n",
       "      <td>None</td>\n",
       "    </tr>\n",
       "    <tr>\n",
       "      <th>2</th>\n",
       "      <td>Male</td>\n",
       "      <td>56-60 years</td>\n",
       "      <td>Medical doctor</td>\n",
       "      <td>NaN</td>\n",
       "      <td>Downtown</td>\n",
       "      <td>No</td>\n",
       "      <td>No</td>\n",
       "      <td>No</td>\n",
       "      <td>No</td>\n",
       "      <td>No</td>\n",
       "      <td>...</td>\n",
       "      <td>No</td>\n",
       "      <td>No</td>\n",
       "      <td>No</td>\n",
       "      <td>No</td>\n",
       "      <td>No</td>\n",
       "      <td>No</td>\n",
       "      <td>No</td>\n",
       "      <td>No</td>\n",
       "      <td>No</td>\n",
       "      <td>&lt; 24 hours</td>\n",
       "    </tr>\n",
       "    <tr>\n",
       "      <th>3</th>\n",
       "      <td>Male</td>\n",
       "      <td>26-30 years</td>\n",
       "      <td>Non medical staff</td>\n",
       "      <td>NaN</td>\n",
       "      <td>Downtown</td>\n",
       "      <td>No</td>\n",
       "      <td>No</td>\n",
       "      <td>No</td>\n",
       "      <td>No</td>\n",
       "      <td>No</td>\n",
       "      <td>...</td>\n",
       "      <td>No</td>\n",
       "      <td>No</td>\n",
       "      <td>No</td>\n",
       "      <td>No</td>\n",
       "      <td>No</td>\n",
       "      <td>No</td>\n",
       "      <td>No</td>\n",
       "      <td>No</td>\n",
       "      <td>No</td>\n",
       "      <td>None</td>\n",
       "    </tr>\n",
       "    <tr>\n",
       "      <th>4</th>\n",
       "      <td>Female</td>\n",
       "      <td>31-35 years</td>\n",
       "      <td>Medical doctor</td>\n",
       "      <td>Bachelor degree</td>\n",
       "      <td>Downtown</td>\n",
       "      <td>No</td>\n",
       "      <td>No</td>\n",
       "      <td>No</td>\n",
       "      <td>No</td>\n",
       "      <td>No</td>\n",
       "      <td>...</td>\n",
       "      <td>Yes</td>\n",
       "      <td>No</td>\n",
       "      <td>No</td>\n",
       "      <td>No</td>\n",
       "      <td>No</td>\n",
       "      <td>No</td>\n",
       "      <td>No</td>\n",
       "      <td>No</td>\n",
       "      <td>No</td>\n",
       "      <td>&lt; 24 hours</td>\n",
       "    </tr>\n",
       "  </tbody>\n",
       "</table>\n",
       "<p>5 rows × 22 columns</p>\n",
       "</div>"
      ],
      "text/plain": [
       "      Sex          Age         Professions        Education Living Area  \\\n",
       "0    Male  51-55 years  Medical specialist    Master degree    Downtown   \n",
       "1  Female  41-45 years   Non medical staff    Master degree    Downtown   \n",
       "2    Male  56-60 years      Medical doctor              NaN    Downtown   \n",
       "3    Male  26-30 years   Non medical staff              NaN    Downtown   \n",
       "4  Female  31-35 years      Medical doctor  Bachelor degree    Downtown   \n",
       "\n",
       "  1. Swelling 2. Redness 3. Itching 4. Fever 5. Headache  ... 8. Coughing  \\\n",
       "0          No         No         No       No          No  ...          No   \n",
       "1          No         No         No       No          No  ...          No   \n",
       "2          No         No         No       No          No  ...          No   \n",
       "3          No         No         No       No          No  ...          No   \n",
       "4          No         No         No       No          No  ...         Yes   \n",
       "\n",
       "  9. Diarrhea 10. Nausea and vomiting 11. Breathlessness 12. Joint Pain  \\\n",
       "0          No                      No                 No             No   \n",
       "1          No                      No                 No             No   \n",
       "2          No                      No                 No             No   \n",
       "3          No                      No                 No             No   \n",
       "4          No                      No                 No             No   \n",
       "\n",
       "  13. Fainted 14. Anaphylactic Reaction 15. Tingling 16. Swollen Lymph Nodes  \\\n",
       "0          No                        No           No                      No   \n",
       "1          No                        No           No                      No   \n",
       "2          No                        No           No                      No   \n",
       "3          No                        No           No                      No   \n",
       "4          No                        No           No                      No   \n",
       "\n",
       "  TARGET LABEL (SYMPTOM TIME)  \n",
       "0                        None  \n",
       "1                        None  \n",
       "2                  < 24 hours  \n",
       "3                        None  \n",
       "4                  < 24 hours  \n",
       "\n",
       "[5 rows x 22 columns]"
      ]
     },
     "execution_count": 7,
     "metadata": {},
     "output_type": "execute_result"
    }
   ],
   "source": [
    "dataset.head()"
   ]
  },
  {
   "cell_type": "markdown",
   "metadata": {
    "id": "IQYTksBLVTQE"
   },
   "source": [
    "## Exploratory Data Analysis\n"
   ]
  },
  {
   "cell_type": "markdown",
   "metadata": {
    "id": "0tkuEmWpWSGA"
   },
   "source": [
    "Periksa Data apakah data Purchased tersebar secara merata atau imbalance "
   ]
  },
  {
   "cell_type": "code",
   "execution_count": null,
   "metadata": {},
   "outputs": [],
   "source": [
    "from sklearn import preprocessing\n",
    "le = preprocessing.LabelEncoder()\n",
    "\n",
    "for x in df.columns:\n",
    "  df[x] = le.fit_transform(df[x])\n",
    "\n",
    "df.head(10)"
   ]
  },
  {
   "cell_type": "code",
   "execution_count": 8,
   "metadata": {
    "colab": {
     "base_uri": "https://localhost:8080/",
     "height": 296
    },
    "id": "cr0YX1N_WIau",
    "outputId": "62de90a5-4024-4d7c-8e69-693104c56cba"
   },
   "outputs": [
    {
     "data": {
      "text/plain": [
       "<AxesSubplot:xlabel='TARGET LABEL (SYMPTOM TIME)', ylabel='count'>"
      ]
     },
     "execution_count": 8,
     "metadata": {},
     "output_type": "execute_result"
    },
    {
     "data": {
      "image/png": "[encoded data removed]",
      "text/plain": [
       "<Figure size 432x288 with 1 Axes>"
      ]
     },
     "metadata": {},
     "output_type": "display_data"
    }
   ],
   "source": [
    "sns.set_style('whitegrid')\n",
    "sns.countplot(x=dataset['TARGET LABEL (SYMPTOM TIME)'],data=dataset,palette='muted')"
   ]
  },
  {
   "cell_type": "code",
   "execution_count": 9,
   "metadata": {
    "colab": {
     "base_uri": "https://localhost:8080/",
     "height": 558
    },
    "id": "UAtuG0T3Wjpg",
    "outputId": "0b6cbe9c-a5ac-4e15-fcbe-e3dd3936de72"
   },
   "outputs": [
    {
     "ename": "TypeError",
     "evalue": "Neither the `x` nor `y` variable appears to be numeric.",
     "output_type": "error",
     "traceback": [
      "\u001b[1;31m---------------------------------------------------------------------------\u001b[0m",
      "\u001b[1;31mTypeError\u001b[0m                                 Traceback (most recent call last)",
      "\u001b[1;32m<ipython-input-9-881913112307>\u001b[0m in \u001b[0;36m<module>\u001b[1;34m\u001b[0m\n\u001b[0;32m      1\u001b[0m \u001b[0ml\u001b[0m\u001b[1;33m=\u001b[0m\u001b[0mlist\u001b[0m\u001b[1;33m(\u001b[0m\u001b[0mdataset\u001b[0m\u001b[1;33m.\u001b[0m\u001b[0mcolumns\u001b[0m\u001b[1;33m[\u001b[0m\u001b[1;36m2\u001b[0m\u001b[1;33m:\u001b[0m\u001b[1;36m5\u001b[0m\u001b[1;33m]\u001b[0m\u001b[1;33m)\u001b[0m\u001b[1;33m\u001b[0m\u001b[1;33m\u001b[0m\u001b[0m\n\u001b[0;32m      2\u001b[0m \u001b[1;32mfor\u001b[0m \u001b[0mi\u001b[0m \u001b[1;32min\u001b[0m \u001b[0mrange\u001b[0m\u001b[1;33m(\u001b[0m\u001b[0mlen\u001b[0m\u001b[1;33m(\u001b[0m\u001b[0ml\u001b[0m\u001b[1;33m)\u001b[0m\u001b[1;33m-\u001b[0m\u001b[1;36m1\u001b[0m\u001b[1;33m)\u001b[0m\u001b[1;33m:\u001b[0m\u001b[1;33m\u001b[0m\u001b[1;33m\u001b[0m\u001b[0m\n\u001b[1;32m----> 3\u001b[1;33m     \u001b[0msns\u001b[0m\u001b[1;33m.\u001b[0m\u001b[0mboxplot\u001b[0m\u001b[1;33m(\u001b[0m\u001b[0mx\u001b[0m\u001b[1;33m=\u001b[0m\u001b[1;34m'TARGET LABEL (SYMPTOM TIME)'\u001b[0m\u001b[1;33m,\u001b[0m\u001b[0my\u001b[0m\u001b[1;33m=\u001b[0m\u001b[0ml\u001b[0m\u001b[1;33m[\u001b[0m\u001b[0mi\u001b[0m\u001b[1;33m]\u001b[0m\u001b[1;33m,\u001b[0m \u001b[0mdata\u001b[0m\u001b[1;33m=\u001b[0m\u001b[0mdataset\u001b[0m\u001b[1;33m,\u001b[0m \u001b[0mpalette\u001b[0m\u001b[1;33m=\u001b[0m\u001b[1;34m'Set2'\u001b[0m\u001b[1;33m)\u001b[0m\u001b[1;33m\u001b[0m\u001b[1;33m\u001b[0m\u001b[0m\n\u001b[0m\u001b[0;32m      4\u001b[0m     \u001b[0mplt\u001b[0m\u001b[1;33m.\u001b[0m\u001b[0mfigure\u001b[0m\u001b[1;33m(\u001b[0m\u001b[1;33m)\u001b[0m\u001b[1;33m\u001b[0m\u001b[1;33m\u001b[0m\u001b[0m\n",
      "\u001b[1;32mD:\\WORK\\anaconda\\lib\\site-packages\\seaborn\\_decorators.py\u001b[0m in \u001b[0;36minner_f\u001b[1;34m(*args, **kwargs)\u001b[0m\n\u001b[0;32m     44\u001b[0m             )\n\u001b[0;32m     45\u001b[0m         \u001b[0mkwargs\u001b[0m\u001b[1;33m.\u001b[0m\u001b[0mupdate\u001b[0m\u001b[1;33m(\u001b[0m\u001b[1;33m{\u001b[0m\u001b[0mk\u001b[0m\u001b[1;33m:\u001b[0m \u001b[0marg\u001b[0m \u001b[1;32mfor\u001b[0m \u001b[0mk\u001b[0m\u001b[1;33m,\u001b[0m \u001b[0marg\u001b[0m \u001b[1;32min\u001b[0m \u001b[0mzip\u001b[0m\u001b[1;33m(\u001b[0m\u001b[0msig\u001b[0m\u001b[1;33m.\u001b[0m\u001b[0mparameters\u001b[0m\u001b[1;33m,\u001b[0m \u001b[0margs\u001b[0m\u001b[1;33m)\u001b[0m\u001b[1;33m}\u001b[0m\u001b[1;33m)\u001b[0m\u001b[1;33m\u001b[0m\u001b[1;33m\u001b[0m\u001b[0m\n\u001b[1;32m---> 46\u001b[1;33m         \u001b[1;32mreturn\u001b[0m \u001b[0mf\u001b[0m\u001b[1;33m(\u001b[0m\u001b[1;33m**\u001b[0m\u001b[0mkwargs\u001b[0m\u001b[1;33m)\u001b[0m\u001b[1;33m\u001b[0m\u001b[1;33m\u001b[0m\u001b[0m\n\u001b[0m\u001b[0;32m     47\u001b[0m     \u001b[1;32mreturn\u001b[0m \u001b[0minner_f\u001b[0m\u001b[1;33m\u001b[0m\u001b[1;33m\u001b[0m\u001b[0m\n\u001b[0;32m     48\u001b[0m \u001b[1;33m\u001b[0m\u001b[0m\n",
      "\u001b[1;32mD:\\WORK\\anaconda\\lib\\site-packages\\seaborn\\categorical.py\u001b[0m in \u001b[0;36mboxplot\u001b[1;34m(x, y, hue, data, order, hue_order, orient, color, palette, saturation, width, dodge, fliersize, linewidth, whis, ax, **kwargs)\u001b[0m\n\u001b[0;32m   2238\u001b[0m ):\n\u001b[0;32m   2239\u001b[0m \u001b[1;33m\u001b[0m\u001b[0m\n\u001b[1;32m-> 2240\u001b[1;33m     plotter = _BoxPlotter(x, y, hue, data, order, hue_order,\n\u001b[0m\u001b[0;32m   2241\u001b[0m                           \u001b[0morient\u001b[0m\u001b[1;33m,\u001b[0m \u001b[0mcolor\u001b[0m\u001b[1;33m,\u001b[0m \u001b[0mpalette\u001b[0m\u001b[1;33m,\u001b[0m \u001b[0msaturation\u001b[0m\u001b[1;33m,\u001b[0m\u001b[1;33m\u001b[0m\u001b[1;33m\u001b[0m\u001b[0m\n\u001b[0;32m   2242\u001b[0m                           width, dodge, fliersize, linewidth)\n",
      "\u001b[1;32mD:\\WORK\\anaconda\\lib\\site-packages\\seaborn\\categorical.py\u001b[0m in \u001b[0;36m__init__\u001b[1;34m(self, x, y, hue, data, order, hue_order, orient, color, palette, saturation, width, dodge, fliersize, linewidth)\u001b[0m\n\u001b[0;32m    404\u001b[0m                  width, dodge, fliersize, linewidth):\n\u001b[0;32m    405\u001b[0m \u001b[1;33m\u001b[0m\u001b[0m\n\u001b[1;32m--> 406\u001b[1;33m         \u001b[0mself\u001b[0m\u001b[1;33m.\u001b[0m\u001b[0mestablish_variables\u001b[0m\u001b[1;33m(\u001b[0m\u001b[0mx\u001b[0m\u001b[1;33m,\u001b[0m \u001b[0my\u001b[0m\u001b[1;33m,\u001b[0m \u001b[0mhue\u001b[0m\u001b[1;33m,\u001b[0m \u001b[0mdata\u001b[0m\u001b[1;33m,\u001b[0m \u001b[0morient\u001b[0m\u001b[1;33m,\u001b[0m \u001b[0morder\u001b[0m\u001b[1;33m,\u001b[0m \u001b[0mhue_order\u001b[0m\u001b[1;33m)\u001b[0m\u001b[1;33m\u001b[0m\u001b[1;33m\u001b[0m\u001b[0m\n\u001b[0m\u001b[0;32m    407\u001b[0m         \u001b[0mself\u001b[0m\u001b[1;33m.\u001b[0m\u001b[0mestablish_colors\u001b[0m\u001b[1;33m(\u001b[0m\u001b[0mcolor\u001b[0m\u001b[1;33m,\u001b[0m \u001b[0mpalette\u001b[0m\u001b[1;33m,\u001b[0m \u001b[0msaturation\u001b[0m\u001b[1;33m)\u001b[0m\u001b[1;33m\u001b[0m\u001b[1;33m\u001b[0m\u001b[0m\n\u001b[0;32m    408\u001b[0m \u001b[1;33m\u001b[0m\u001b[0m\n",
      "\u001b[1;32mD:\\WORK\\anaconda\\lib\\site-packages\\seaborn\\categorical.py\u001b[0m in \u001b[0;36mestablish_variables\u001b[1;34m(self, x, y, hue, data, orient, order, hue_order, units)\u001b[0m\n\u001b[0;32m    154\u001b[0m \u001b[1;33m\u001b[0m\u001b[0m\n\u001b[0;32m    155\u001b[0m             \u001b[1;31m# Figure out the plotting orientation\u001b[0m\u001b[1;33m\u001b[0m\u001b[1;33m\u001b[0m\u001b[1;33m\u001b[0m\u001b[0m\n\u001b[1;32m--> 156\u001b[1;33m             orient = infer_orient(\n\u001b[0m\u001b[0;32m    157\u001b[0m                 \u001b[0mx\u001b[0m\u001b[1;33m,\u001b[0m \u001b[0my\u001b[0m\u001b[1;33m,\u001b[0m \u001b[0morient\u001b[0m\u001b[1;33m,\u001b[0m \u001b[0mrequire_numeric\u001b[0m\u001b[1;33m=\u001b[0m\u001b[0mself\u001b[0m\u001b[1;33m.\u001b[0m\u001b[0mrequire_numeric\u001b[0m\u001b[1;33m\u001b[0m\u001b[1;33m\u001b[0m\u001b[0m\n\u001b[0;32m    158\u001b[0m             )\n",
      "\u001b[1;32mD:\\WORK\\anaconda\\lib\\site-packages\\seaborn\\_core.py\u001b[0m in \u001b[0;36minfer_orient\u001b[1;34m(x, y, orient, require_numeric)\u001b[0m\n\u001b[0;32m   1343\u001b[0m     \u001b[1;32melif\u001b[0m \u001b[0mrequire_numeric\u001b[0m \u001b[1;32mand\u001b[0m \u001b[1;34m\"numeric\"\u001b[0m \u001b[1;32mnot\u001b[0m \u001b[1;32min\u001b[0m \u001b[1;33m(\u001b[0m\u001b[0mx_type\u001b[0m\u001b[1;33m,\u001b[0m \u001b[0my_type\u001b[0m\u001b[1;33m)\u001b[0m\u001b[1;33m:\u001b[0m\u001b[1;33m\u001b[0m\u001b[1;33m\u001b[0m\u001b[0m\n\u001b[0;32m   1344\u001b[0m         \u001b[0merr\u001b[0m \u001b[1;33m=\u001b[0m \u001b[1;34m\"Neither the `x` nor `y` variable appears to be numeric.\"\u001b[0m\u001b[1;33m\u001b[0m\u001b[1;33m\u001b[0m\u001b[0m\n\u001b[1;32m-> 1345\u001b[1;33m         \u001b[1;32mraise\u001b[0m \u001b[0mTypeError\u001b[0m\u001b[1;33m(\u001b[0m\u001b[0merr\u001b[0m\u001b[1;33m)\u001b[0m\u001b[1;33m\u001b[0m\u001b[1;33m\u001b[0m\u001b[0m\n\u001b[0m\u001b[0;32m   1346\u001b[0m \u001b[1;33m\u001b[0m\u001b[0m\n\u001b[0;32m   1347\u001b[0m     \u001b[1;32melse\u001b[0m\u001b[1;33m:\u001b[0m\u001b[1;33m\u001b[0m\u001b[1;33m\u001b[0m\u001b[0m\n",
      "\u001b[1;31mTypeError\u001b[0m: Neither the `x` nor `y` variable appears to be numeric."
     ]
    }
   ],
   "source": [
    "l=list(dataset.columns[2:5])\n",
    "for i in range(len(l)-1):\n",
    "    sns.boxplot(x='TARGET LABEL (SYMPTOM TIME)',y=l[i], data=dataset, palette='Set2')\n",
    "    plt.figure()"
   ]
  },
  {
   "cell_type": "code",
   "execution_count": 9,
   "metadata": {
    "colab": {
     "base_uri": "https://localhost:8080/",
     "height": 409
    },
    "id": "TMQMJsPwY6ta",
    "outputId": "b4259891-45e3-401a-9982-8abd71474d23"
   },
   "outputs": [
    {
     "data": {
      "text/plain": [
       "Text(0.5, 1.0, 'Plot Purchased berdasarkan: mean EstimatedSalary')"
      ]
     },
     "execution_count": 9,
     "metadata": {},
     "output_type": "execute_result"
    },
    {
     "data": {
      "image/png": "[encoded data removed]",
      "text/plain": [
       "<Figure size 864x432 with 2 Axes>"
      ]
     },
     "metadata": {},
     "output_type": "display_data"
    }
   ],
   "source": [
    "f,(ax1, ax2) = plt.subplots(1, 2, sharey=True,figsize=(12,6))\n",
    "ax1.scatter(dataset['Age'],dataset['Purchased'])\n",
    "ax1.set_title(\"Plot Purchased berdasarkan: Age\", fontsize=15)\n",
    "ax2.scatter(dataset['EstimatedSalary'],dataset['Purchased'])\n",
    "ax2.set_title(\"Plot Purchased berdasarkan: mean EstimatedSalary\", fontsize=15)"
   ]
  },
  {
   "cell_type": "markdown",
   "metadata": {
    "id": "5Gi-d-0aWkcH"
   },
   "source": [
    "## Membangun Model Random Forest"
   ]
  },
  {
   "cell_type": "code",
   "execution_count": 10,
   "metadata": {
    "id": "f_7iypKrv9s3"
   },
   "outputs": [],
   "source": [
    "# Pemilihan Fitur\n",
    "X = dataset.iloc[:, [2,3]].values\n",
    "y = dataset.iloc[:, 4].values"
   ]
  },
  {
   "cell_type": "code",
   "execution_count": 11,
   "metadata": {
    "colab": {
     "base_uri": "https://localhost:8080/"
    },
    "id": "C-rrlzLowOOP",
    "outputId": "8ad8b581-4ca9-4ef3-afb4-c9de58ae711f"
   },
   "outputs": [
    {
     "data": {
      "text/plain": [
       "array([[    30,  87000],\n",
       "       [    38,  50000],\n",
       "       [    35,  75000],\n",
       "       [    30,  79000],\n",
       "       [    35,  50000],\n",
       "       [    27,  20000],\n",
       "       [    31,  15000],\n",
       "       [    36, 144000],\n",
       "       [    18,  68000],\n",
       "       [    47,  43000],\n",
       "       [    30,  49000],\n",
       "       [    28,  55000],\n",
       "       [    37,  55000],\n",
       "       [    39,  77000],\n",
       "       [    20,  86000],\n",
       "       [    32, 117000],\n",
       "       [    37,  77000],\n",
       "       [    19,  85000],\n",
       "       [    55, 130000],\n",
       "       [    35,  22000],\n",
       "       [    35,  47000],\n",
       "       [    47, 144000],\n",
       "       [    41,  51000],\n",
       "       [    47, 105000],\n",
       "       [    23,  28000],\n",
       "       [    49, 141000],\n",
       "       [    28,  87000],\n",
       "       [    29,  80000],\n",
       "       [    37,  62000],\n",
       "       [    32,  86000],\n",
       "       [    21,  88000],\n",
       "       [    37,  79000],\n",
       "       [    57,  60000],\n",
       "       [    37,  53000],\n",
       "       [    24,  58000],\n",
       "       [    18,  52000],\n",
       "       [    22,  81000],\n",
       "       [    34,  43000],\n",
       "       [    31,  34000],\n",
       "       [    49,  36000],\n",
       "       [    27,  88000],\n",
       "       [    41,  52000],\n",
       "       [    27,  84000],\n",
       "       [    35,  20000],\n",
       "       [    43, 112000],\n",
       "       [    27,  58000],\n",
       "       [    37,  80000],\n",
       "       [    52,  90000],\n",
       "       [    26,  30000],\n",
       "       [    49,  86000],\n",
       "       [    57, 122000],\n",
       "       [    34,  25000],\n",
       "       [    35,  57000],\n",
       "       [    34, 115000],\n",
       "       [    59,  88000],\n",
       "       [    45,  32000],\n",
       "       [    29,  83000],\n",
       "       [    26,  80000],\n",
       "       [    49,  28000],\n",
       "       [    23,  20000],\n",
       "       [    32,  18000],\n",
       "       [    60,  42000],\n",
       "       [    19,  76000],\n",
       "       [    36,  99000],\n",
       "       [    19,  26000],\n",
       "       [    60,  83000],\n",
       "       [    24,  89000],\n",
       "       [    27,  58000],\n",
       "       [    40,  47000],\n",
       "       [    42,  70000],\n",
       "       [    32, 150000],\n",
       "       [    35,  77000],\n",
       "       [    22,  63000],\n",
       "       [    45,  22000],\n",
       "       [    27,  89000],\n",
       "       [    18,  82000],\n",
       "       [    42,  79000],\n",
       "       [    40,  60000],\n",
       "       [    53,  34000],\n",
       "       [    47, 107000]], dtype=int64)"
      ]
     },
     "execution_count": 11,
     "metadata": {},
     "output_type": "execute_result"
    }
   ],
   "source": [
    "# Menjadi dataset ke dalam Training set dan Test set\n",
    "from sklearn.model_selection import train_test_split\n",
    "X_train, X_test, y_train, y_test = train_test_split(X, y, test_size = 0.2, random_state = 0)\n",
    "X_test"
   ]
  },
  {
   "cell_type": "code",
   "execution_count": 12,
   "metadata": {
    "colab": {
     "base_uri": "https://localhost:8080/"
    },
    "id": "Jcn9DaKzwz4y",
    "outputId": "2ab49c0e-6b45-4b7d-f9a1-e1aa6002deaa"
   },
   "outputs": [
    {
     "data": {
      "text/plain": [
       "array([[ 1.92295008e+00,  2.14601566e+00],\n",
       "       [ 2.02016082e+00,  3.78719297e-01],\n",
       "       [-1.38221530e+00, -4.32498705e-01],\n",
       "       [-1.18779381e+00, -1.01194013e+00],\n",
       "       [ 1.92295008e+00, -9.25023920e-01],\n",
       "       [ 3.67578135e-01,  2.91803083e-01],\n",
       "       [ 1.73156642e-01,  1.46942725e-01],\n",
       "       [ 2.02016082e+00,  1.74040666e+00],\n",
       "       [ 7.56421121e-01, -8.38107706e-01],\n",
       "       [ 2.70367388e-01, -2.87638347e-01],\n",
       "       [ 3.67578135e-01, -1.71750061e-01],\n",
       "       [-1.18475597e-01,  2.20395980e+00],\n",
       "       [-1.47942605e+00, -6.35303205e-01],\n",
       "       [-1.28500455e+00, -1.06988428e+00],\n",
       "       [-1.38221530e+00,  4.07691369e-01],\n",
       "       [-1.09058306e+00,  7.55356227e-01],\n",
       "       [-1.47942605e+00, -2.00722133e-01],\n",
       "       [ 9.50842613e-01, -1.06988428e+00],\n",
       "       [ 9.50842613e-01,  5.81523798e-01],\n",
       "       [ 3.67578135e-01,  9.87132798e-01],\n",
       "       [ 5.61999628e-01, -8.96051849e-01],\n",
       "       [-6.04529329e-01,  1.45068594e+00],\n",
       "       [-2.12648508e-02, -5.77359062e-01],\n",
       "       [-6.04529329e-01,  1.88526701e+00],\n",
       "       [ 1.33968560e+00, -1.41754914e+00],\n",
       "       [ 1.43689635e+00,  9.87132798e-01],\n",
       "       [ 7.59458956e-02, -8.09135634e-01],\n",
       "       [-2.12648508e-02, -2.58666276e-01],\n",
       "       [-2.15686344e-01, -5.77359062e-01],\n",
       "       [-2.15686344e-01, -2.00722133e-01],\n",
       "       [-3.12897090e-01, -1.30166085e+00],\n",
       "       [-3.12897090e-01, -5.77359062e-01],\n",
       "       [ 3.67578135e-01,  8.89985821e-02],\n",
       "       [ 8.53631867e-01, -6.06331134e-01],\n",
       "       [ 2.02016082e+00, -1.18577256e+00],\n",
       "       [ 1.04805336e+00, -1.42777990e-01],\n",
       "       [ 6.59210374e-01,  1.76937873e+00],\n",
       "       [-7.01740076e-01,  5.52551726e-01],\n",
       "       [ 7.56421121e-01,  3.49747226e-01],\n",
       "       [ 8.53631867e-01, -5.48386991e-01],\n",
       "       [-1.18779381e+00, -1.59138156e+00],\n",
       "       [ 2.11737157e+00,  9.29188655e-01],\n",
       "       [-2.12648508e-02,  1.21890937e+00],\n",
       "       [ 1.73156642e-01,  1.07404901e+00],\n",
       "       [ 3.67578135e-01, -4.90442848e-01],\n",
       "       [-3.12897090e-01, -3.16610419e-01],\n",
       "       [ 9.50842613e-01, -8.38107706e-01],\n",
       "       [ 9.50842613e-01,  1.85629494e+00],\n",
       "       [-2.12648508e-02,  1.24788144e+00],\n",
       "       [-8.96161568e-01,  2.26190394e+00],\n",
       "       [-1.18779381e+00, -1.59138156e+00],\n",
       "       [ 2.11737157e+00, -8.09135634e-01],\n",
       "       [-1.38221530e+00, -1.47549328e+00],\n",
       "       [ 3.67578135e-01,  2.29087602e+00],\n",
       "       [ 7.56421121e-01,  7.55356227e-01],\n",
       "       [-9.93372315e-01, -3.16610419e-01],\n",
       "       [ 7.59458956e-02,  7.55356227e-01],\n",
       "       [-9.93372315e-01,  5.52551726e-01],\n",
       "       [ 2.70367388e-01,  6.00265106e-02],\n",
       "       [ 6.59210374e-01, -1.27268878e+00],\n",
       "       [-5.07318583e-01, -2.68897039e-02],\n",
       "       [-1.77105829e+00,  3.49747226e-01],\n",
       "       [-7.01740076e-01,  1.17970654e-01],\n",
       "       [ 3.67578135e-01,  2.91803083e-01],\n",
       "       [-3.12897090e-01,  6.00265106e-02],\n",
       "       [-5.07318583e-01,  2.29087602e+00],\n",
       "       [ 1.73156642e-01,  3.10544391e-02],\n",
       "       [ 1.24247485e+00,  2.20395980e+00],\n",
       "       [ 7.56421121e-01,  2.62831011e-01],\n",
       "       [-3.12897090e-01,  1.46942725e-01],\n",
       "       [-2.12648508e-02, -5.48386991e-01],\n",
       "       [-2.15686344e-01,  1.46942725e-01],\n",
       "       [-1.18475597e-01,  2.33858940e-01],\n",
       "       [-2.12648508e-02, -2.58666276e-01],\n",
       "       [ 2.11737157e+00,  1.10302108e+00],\n",
       "       [-1.77105829e+00,  3.49747226e-01],\n",
       "       [ 1.82573933e+00,  1.17970654e-01],\n",
       "       [ 3.67578135e-01, -1.42777990e-01],\n",
       "       [-1.18779381e+00,  2.91803083e-01],\n",
       "       [ 7.56421121e-01,  1.36376973e+00],\n",
       "       [-3.12897090e-01, -2.58666276e-01],\n",
       "       [-1.67384754e+00, -5.58617754e-02],\n",
       "       [-9.93372315e-01, -7.51191491e-01],\n",
       "       [ 2.70367388e-01,  4.94607583e-01],\n",
       "       [-1.18475597e-01, -1.06988428e+00],\n",
       "       [-1.09058306e+00,  5.81523798e-01],\n",
       "       [ 7.59458956e-02, -8.09135634e-01],\n",
       "       [-9.93372315e-01,  1.53760216e+00],\n",
       "       [-7.01740076e-01,  1.39274180e+00],\n",
       "       [-1.28500455e+00,  4.94607583e-01],\n",
       "       [-3.12897090e-01,  3.10544391e-02],\n",
       "       [-1.18475597e-01,  2.08236764e-03],\n",
       "       [-3.12897090e-01, -8.96051849e-01],\n",
       "       [ 8.53631867e-01, -1.35960499e+00],\n",
       "       [-3.12897090e-01,  2.23293187e+00],\n",
       "       [ 9.50842613e-01,  1.97218323e+00],\n",
       "       [-1.18779381e+00,  4.65635512e-01],\n",
       "       [-1.28500455e+00,  2.62831011e-01],\n",
       "       [ 1.33968560e+00,  1.97218323e+00],\n",
       "       [ 1.24247485e+00, -1.35960499e+00],\n",
       "       [-3.12897090e-01, -2.87638347e-01],\n",
       "       [-5.07318583e-01,  1.24788144e+00],\n",
       "       [-7.98950822e-01,  1.07404901e+00],\n",
       "       [ 9.50842613e-01, -1.06988428e+00],\n",
       "       [ 2.70367388e-01,  2.91803083e-01],\n",
       "       [ 9.50842613e-01,  7.55356227e-01],\n",
       "       [-7.01740076e-01, -1.50446535e+00],\n",
       "       [-7.01740076e-01,  3.10544391e-02],\n",
       "       [ 4.64788881e-01,  1.71143459e+00],\n",
       "       [ 2.02016082e+00,  1.75914797e-01],\n",
       "       [-1.96547978e+00, -7.51191491e-01],\n",
       "       [-2.15686344e-01,  1.39274180e+00],\n",
       "       [ 3.67578135e-01,  5.81523798e-01],\n",
       "       [ 8.53631867e-01, -1.15680049e+00],\n",
       "       [-1.18779381e+00, -7.80163563e-01],\n",
       "       [ 1.73156642e-01,  2.33858940e-01],\n",
       "       [ 7.56421121e-01, -3.16610419e-01],\n",
       "       [ 2.02016082e+00, -8.09135634e-01],\n",
       "       [ 7.56421121e-01,  1.17970654e-01],\n",
       "       [-3.12897090e-01,  6.10495869e-01],\n",
       "       [-9.93372315e-01, -3.16610419e-01],\n",
       "       [ 1.73156642e-01, -3.74554562e-01],\n",
       "       [ 2.02016082e+00,  2.11704359e+00],\n",
       "       [ 1.82573933e+00, -1.27268878e+00],\n",
       "       [ 1.33968560e+00, -9.25023920e-01],\n",
       "       [ 8.53631867e-01,  1.24788144e+00],\n",
       "       [ 1.43689635e+00,  2.11704359e+00],\n",
       "       [-3.12897090e-01, -1.24371671e+00],\n",
       "       [ 1.92295008e+00,  9.00216584e-01],\n",
       "       [ 6.59210374e-01, -7.22219420e-01],\n",
       "       [-1.47942605e+00,  3.49747226e-01],\n",
       "       [ 7.56421121e-01, -1.35960499e+00],\n",
       "       [ 3.67578135e-01, -1.42777990e-01],\n",
       "       [-9.93372315e-01,  4.07691369e-01],\n",
       "       [-2.12648508e-02, -3.16610419e-01],\n",
       "       [-1.18779381e+00,  4.07691369e-01],\n",
       "       [-8.96161568e-01, -1.21474464e+00],\n",
       "       [-1.18475597e-01,  3.10544391e-02],\n",
       "       [-1.57663679e+00, -4.32498705e-01],\n",
       "       [ 9.50842613e-01, -1.01194013e+00],\n",
       "       [ 1.04805336e+00, -1.21474464e+00],\n",
       "       [-2.12648508e-02, -1.42777990e-01],\n",
       "       [-1.09058306e+00, -1.53343742e+00],\n",
       "       [ 7.56421121e-01, -1.21474464e+00],\n",
       "       [ 9.50842613e-01,  2.05909944e+00],\n",
       "       [-1.18779381e+00, -1.53343742e+00],\n",
       "       [-3.12897090e-01,  7.84328298e-01],\n",
       "       [ 7.59458956e-02, -3.16610419e-01],\n",
       "       [-1.38221530e+00, -1.24371671e+00],\n",
       "       [-6.04529329e-01, -1.50446535e+00],\n",
       "       [ 7.56421121e-01,  5.23579655e-01],\n",
       "       [-3.12897090e-01, -3.45582490e-01],\n",
       "       [ 1.72852858e+00, -2.87638347e-01],\n",
       "       [ 8.53631867e-01, -1.04091221e+00],\n",
       "       [ 1.73156642e-01,  6.00265106e-02],\n",
       "       [-6.04529329e-01,  8.71244512e-01],\n",
       "       [-1.86826903e+00, -1.41754914e+00],\n",
       "       [-1.28500455e+00,  5.81523798e-01],\n",
       "       [-3.12897090e-01,  5.23579655e-01],\n",
       "       [-9.93372315e-01, -1.09885635e+00],\n",
       "       [ 1.14526411e+00, -1.44652121e+00],\n",
       "       [ 1.73156642e-01, -3.16610419e-01],\n",
       "       [ 1.14526411e+00, -7.51191491e-01],\n",
       "       [-3.12897090e-01,  6.00265106e-02],\n",
       "       [ 1.73156642e-01,  2.08807152e+00],\n",
       "       [ 7.56421121e-01, -1.09885635e+00],\n",
       "       [ 7.59458956e-02,  3.10544391e-02],\n",
       "       [-1.77105829e+00,  1.17970654e-01],\n",
       "       [-8.96161568e-01,  1.46942725e-01],\n",
       "       [-7.01740076e-01,  1.75914797e-01],\n",
       "       [ 8.53631867e-01, -1.30166085e+00],\n",
       "       [ 1.73156642e-01, -2.58666276e-01],\n",
       "       [-4.10107836e-01,  1.21890937e+00],\n",
       "       [-2.12648508e-02,  2.91803083e-01],\n",
       "       [ 3.67578135e-01,  1.46942725e-01],\n",
       "       [ 8.53631867e-01, -6.64275277e-01],\n",
       "       [ 7.59458956e-02,  1.46942725e-01],\n",
       "       [-1.86826903e+00, -1.30166085e+00],\n",
       "       [-1.18475597e-01,  2.91803083e-01],\n",
       "       [-2.15686344e-01, -2.87638347e-01],\n",
       "       [ 2.70367388e-01, -5.19414919e-01],\n",
       "       [-2.15686344e-01,  1.59554630e+00],\n",
       "       [ 9.50842613e-01, -1.18577256e+00],\n",
       "       [-2.15686344e-01,  1.62451837e+00],\n",
       "       [ 1.24247485e+00,  1.85629494e+00],\n",
       "       [-1.09058306e+00, -3.74554562e-01],\n",
       "       [-2.12648508e-02,  3.10544391e-02],\n",
       "       [ 7.59458956e-02, -2.58666276e-01],\n",
       "       [-1.57663679e+00, -1.24371671e+00],\n",
       "       [-5.07318583e-01, -2.87638347e-01],\n",
       "       [ 9.50842613e-01,  1.17970654e-01],\n",
       "       [ 1.92295008e+00, -1.35960499e+00],\n",
       "       [ 1.43689635e+00,  6.00265106e-02],\n",
       "       [-6.04529329e-01,  1.36376973e+00],\n",
       "       [ 1.53410709e+00,  2.08236764e-03],\n",
       "       [-7.98950822e-01,  2.91803083e-01],\n",
       "       [ 1.92295008e+00,  7.26384155e-01],\n",
       "       [-1.18779381e+00, -5.19414919e-01],\n",
       "       [ 6.59210374e-01,  2.62831011e-01],\n",
       "       [-1.38221530e+00, -4.32498705e-01],\n",
       "       [ 1.73156642e-01,  1.46942725e-01],\n",
       "       [-5.07318583e-01, -1.21474464e+00],\n",
       "       [ 5.61999628e-01,  2.00115530e+00],\n",
       "       [-1.57663679e+00, -1.50446535e+00],\n",
       "       [-5.07318583e-01, -5.48386991e-01],\n",
       "       [ 4.64788881e-01,  1.82732287e+00],\n",
       "       [-1.38221530e+00, -1.09885635e+00],\n",
       "       [ 7.56421121e-01, -1.38857706e+00],\n",
       "       [-3.12897090e-01, -4.32498705e-01],\n",
       "       [ 1.53410709e+00,  9.87132798e-01],\n",
       "       [ 9.50842613e-01,  1.42171387e+00],\n",
       "       [-3.12897090e-01, -4.90442848e-01],\n",
       "       [-1.18475597e-01,  2.14601566e+00],\n",
       "       [-1.47942605e+00, -1.13805918e-01],\n",
       "       [-1.18475597e-01,  1.94321116e+00],\n",
       "       [-7.01740076e-01, -3.45582490e-01],\n",
       "       [-5.07318583e-01, -8.38107706e-01],\n",
       "       [ 6.59210374e-01, -1.38857706e+00],\n",
       "       [-7.98950822e-01, -1.59138156e+00],\n",
       "       [-1.86826903e+00, -1.47549328e+00],\n",
       "       [ 1.04805336e+00,  1.17970654e-01],\n",
       "       [ 7.59458956e-02,  1.50863009e+00],\n",
       "       [-3.12897090e-01,  8.89985821e-02],\n",
       "       [ 7.59458956e-02,  3.10544391e-02],\n",
       "       [-1.38221530e+00, -1.35960499e+00],\n",
       "       [ 2.70367388e-01,  6.00265106e-02],\n",
       "       [-8.96161568e-01,  3.78719297e-01],\n",
       "       [ 1.53410709e+00, -1.27268878e+00],\n",
       "       [-3.12897090e-01, -7.51191491e-01],\n",
       "       [-1.18475597e-01,  1.46942725e-01],\n",
       "       [-8.96161568e-01, -6.64275277e-01],\n",
       "       [-7.01740076e-01, -5.58617754e-02],\n",
       "       [ 3.67578135e-01, -4.61470776e-01],\n",
       "       [-7.98950822e-01,  1.88526701e+00],\n",
       "       [ 1.33968560e+00,  1.27685351e+00],\n",
       "       [ 1.14526411e+00, -9.82968063e-01],\n",
       "       [ 1.72852858e+00,  1.82732287e+00],\n",
       "       [-8.96161568e-01, -2.58666276e-01],\n",
       "       [-7.98950822e-01,  5.52551726e-01],\n",
       "       [-1.18779381e+00, -1.56240949e+00],\n",
       "       [-5.07318583e-01, -1.12782842e+00],\n",
       "       [ 2.70367388e-01,  6.00265106e-02],\n",
       "       [-2.15686344e-01, -1.06988428e+00],\n",
       "       [ 1.63131784e+00,  1.59554630e+00],\n",
       "       [ 9.50842613e-01,  1.76937873e+00],\n",
       "       [ 2.70367388e-01,  3.10544391e-02],\n",
       "       [-7.98950822e-01, -2.29694204e-01],\n",
       "       [-1.18475597e-01,  6.00265106e-02],\n",
       "       [ 2.70367388e-01, -2.00722133e-01],\n",
       "       [ 1.92295008e+00, -6.64275277e-01],\n",
       "       [-7.98950822e-01,  1.33479766e+00],\n",
       "       [-1.77105829e+00, -6.06331134e-01],\n",
       "       [-1.18475597e-01,  1.17970654e-01],\n",
       "       [ 2.70367388e-01, -3.16610419e-01],\n",
       "       [ 1.04805336e+00,  5.52551726e-01],\n",
       "       [-9.93372315e-01,  2.62831011e-01],\n",
       "       [ 1.43689635e+00,  3.49747226e-01],\n",
       "       [ 1.73156642e-01, -3.74554562e-01],\n",
       "       [ 2.11737157e+00, -1.04091221e+00],\n",
       "       [-3.12897090e-01,  1.10302108e+00],\n",
       "       [-1.67384754e+00,  6.00265106e-02],\n",
       "       [-2.12648508e-02,  3.10544391e-02],\n",
       "       [ 7.59458956e-02,  1.04507694e+00],\n",
       "       [-1.18475597e-01, -3.74554562e-01],\n",
       "       [-1.18779381e+00,  6.00265106e-02],\n",
       "       [-3.12897090e-01, -1.35960499e+00],\n",
       "       [ 1.53410709e+00,  1.10302108e+00],\n",
       "       [-7.98950822e-01, -1.53343742e+00],\n",
       "       [ 7.59458956e-02,  1.85629494e+00],\n",
       "       [-8.96161568e-01, -7.80163563e-01],\n",
       "       [-5.07318583e-01, -7.80163563e-01],\n",
       "       [-3.12897090e-01, -9.25023920e-01],\n",
       "       [ 2.70367388e-01, -7.22219420e-01],\n",
       "       [ 2.70367388e-01,  6.00265106e-02],\n",
       "       [ 7.59458956e-02,  1.85629494e+00],\n",
       "       [-1.09058306e+00,  1.94321116e+00],\n",
       "       [-1.67384754e+00, -1.56240949e+00],\n",
       "       [-1.18779381e+00, -1.09885635e+00],\n",
       "       [-7.01740076e-01, -1.13805918e-01],\n",
       "       [ 7.59458956e-02,  8.89985821e-02],\n",
       "       [ 2.70367388e-01,  2.62831011e-01],\n",
       "       [ 8.53631867e-01, -5.77359062e-01],\n",
       "       [ 2.70367388e-01, -1.15680049e+00],\n",
       "       [-1.18475597e-01,  6.68440012e-01],\n",
       "       [ 2.11737157e+00, -6.93247348e-01],\n",
       "       [-1.28500455e+00, -1.38857706e+00],\n",
       "       [-9.93372315e-01, -9.53995992e-01],\n",
       "       [-2.12648508e-02, -4.32498705e-01],\n",
       "       [-2.15686344e-01, -4.61470776e-01],\n",
       "       [-1.77105829e+00, -9.82968063e-01],\n",
       "       [ 1.72852858e+00,  9.87132798e-01],\n",
       "       [ 1.73156642e-01, -3.74554562e-01],\n",
       "       [ 3.67578135e-01,  1.10302108e+00],\n",
       "       [-1.77105829e+00, -1.35960499e+00],\n",
       "       [ 1.73156642e-01, -1.42777990e-01],\n",
       "       [ 8.53631867e-01, -1.44652121e+00],\n",
       "       [-1.96547978e+00,  4.65635512e-01],\n",
       "       [-3.12897090e-01,  2.62831011e-01],\n",
       "       [ 1.82573933e+00, -1.06988428e+00],\n",
       "       [-4.10107836e-01,  6.00265106e-02],\n",
       "       [ 1.04805336e+00, -8.96051849e-01],\n",
       "       [-1.09058306e+00, -1.12782842e+00],\n",
       "       [-1.86826903e+00,  2.08236764e-03],\n",
       "       [ 7.59458956e-02,  2.62831011e-01],\n",
       "       [-1.18779381e+00,  3.20775154e-01],\n",
       "       [-1.28500455e+00,  2.91803083e-01],\n",
       "       [-9.93372315e-01,  4.36663440e-01],\n",
       "       [ 1.63131784e+00, -8.96051849e-01],\n",
       "       [ 1.14526411e+00,  5.23579655e-01],\n",
       "       [ 1.04805336e+00,  5.23579655e-01],\n",
       "       [ 1.33968560e+00,  2.31984809e+00],\n",
       "       [-3.12897090e-01, -1.42777990e-01],\n",
       "       [ 3.67578135e-01, -4.61470776e-01],\n",
       "       [-4.10107836e-01, -7.80163563e-01],\n",
       "       [-1.18475597e-01, -5.19414919e-01],\n",
       "       [ 9.50842613e-01, -1.15680049e+00],\n",
       "       [-8.96161568e-01, -7.80163563e-01],\n",
       "       [-2.15686344e-01, -5.19414919e-01],\n",
       "       [-1.09058306e+00, -4.61470776e-01],\n",
       "       [-1.18779381e+00,  1.39274180e+00]])"
      ]
     },
     "execution_count": 12,
     "metadata": {},
     "output_type": "execute_result"
    }
   ],
   "source": [
    "# Feature Scaling\n",
    "from sklearn.preprocessing import StandardScaler\n",
    "sc = StandardScaler()\n",
    "X_train = sc.fit_transform(X_train)\n",
    "X_test = sc.transform(X_test)\n",
    "X_train"
   ]
  },
  {
   "cell_type": "code",
   "execution_count": 13,
   "metadata": {
    "colab": {
     "base_uri": "https://localhost:8080/"
    },
    "id": "fv8jt7JCxTwZ",
    "outputId": "86967109-78fb-424b-b4f4-642521828443"
   },
   "outputs": [
    {
     "data": {
      "text/plain": [
       "RandomForestClassifier(criterion='entropy', n_estimators=500, random_state=0)"
      ]
     },
     "execution_count": 13,
     "metadata": {},
     "output_type": "execute_result"
    }
   ],
   "source": [
    "# Membuat model Random Forest Classification terhadap Training set\n",
    "from sklearn.ensemble import RandomForestClassifier\n",
    "classifier = RandomForestClassifier(n_estimators = 500, criterion = 'entropy', random_state = 0)\n",
    "classifier.fit(X_train, y_train)"
   ]
  },
  {
   "cell_type": "code",
   "execution_count": 14,
   "metadata": {
    "colab": {
     "base_uri": "https://localhost:8080/"
    },
    "id": "BhT3Y7xSzQT4",
    "outputId": "1925f333-e527-418d-ba87-bb0948522e67"
   },
   "outputs": [
    {
     "data": {
      "text/plain": [
       "array([0, 0, 0, 0, 0, 0, 0, 1, 0, 0, 0, 0, 0, 0, 0, 1, 1, 0, 1, 0, 0, 1,\n",
       "       0, 1, 0, 0, 0, 0, 0, 0, 0, 0, 1, 0, 0, 0, 0, 0, 0, 1, 0, 0, 0, 0,\n",
       "       1, 0, 0, 1, 0, 1, 1, 0, 0, 0, 1, 1, 0, 0, 1, 0, 0, 1, 0, 1, 0, 1,\n",
       "       0, 0, 0, 1, 1, 0, 0, 1, 0, 0, 0, 0, 1, 1], dtype=int64)"
      ]
     },
     "execution_count": 14,
     "metadata": {},
     "output_type": "execute_result"
    }
   ],
   "source": [
    "# Memprediksi hasil test set\n",
    "y_pred = classifier.predict(X_test)\n",
    "y_pred"
   ]
  },
  {
   "cell_type": "code",
   "execution_count": 15,
   "metadata": {
    "colab": {
     "base_uri": "https://localhost:8080/"
    },
    "id": "5JtS0oxzzluP",
    "outputId": "4b09c5ce-cf4a-4e75-a2b1-e91d37c30052"
   },
   "outputs": [
    {
     "data": {
      "text/plain": [
       "array([[55,  3],\n",
       "       [ 2, 20]], dtype=int64)"
      ]
     },
     "execution_count": 15,
     "metadata": {},
     "output_type": "execute_result"
    }
   ],
   "source": [
    "# Membuat confusion matrix\n",
    "from sklearn.metrics import confusion_matrix\n",
    "cm = confusion_matrix(y_test, y_pred)\n",
    "cm"
   ]
  },
  {
   "cell_type": "code",
   "execution_count": 16,
   "metadata": {
    "colab": {
     "base_uri": "https://localhost:8080/",
     "height": 335
    },
    "id": "DQ2PzjUoz0U3",
    "outputId": "25dfe860-9a0e-427c-8325-4351ba3033e2"
   },
   "outputs": [
    {
     "data": {
      "image/png": "[encoded data removed]",
      "text/plain": [
       "<Figure size 576x360 with 2 Axes>"
      ]
     },
     "metadata": {},
     "output_type": "display_data"
    }
   ],
   "source": [
    "f, ax = plt.subplots(figsize=(8,5))\n",
    "sns.heatmap(confusion_matrix(y_test, y_pred), annot=True, fmt=\".0f\", ax=ax)\n",
    "plt.xlabel(\"y_head\")\n",
    "plt.ylabel(\"y_true\")\n",
    "plt.show()"
   ]
  },
  {
   "cell_type": "code",
   "execution_count": 17,
   "metadata": {
    "colab": {
     "base_uri": "https://localhost:8080/"
    },
    "id": "2E1E36mp9Of-",
    "outputId": "0a849b56-d71a-42c2-9869-b08ef86ce917"
   },
   "outputs": [
    {
     "name": "stdout",
     "output_type": "stream",
     "text": [
      "              precision    recall  f1-score   support\n",
      "\n",
      "           0       0.96      0.95      0.96        58\n",
      "           1       0.87      0.91      0.89        22\n",
      "\n",
      "    accuracy                           0.94        80\n",
      "   macro avg       0.92      0.93      0.92        80\n",
      "weighted avg       0.94      0.94      0.94        80\n",
      "\n"
     ]
    }
   ],
   "source": [
    "# Akurasi dari RandomForest\n",
    "\n",
    "from sklearn.metrics import classification_report\n",
    "print(classification_report(y_test, y_pred))"
   ]
  },
  {
   "cell_type": "code",
   "execution_count": 18,
   "metadata": {
    "colab": {
     "base_uri": "https://localhost:8080/",
     "height": 349
    },
    "id": "hmi4n7Z80Xbv",
    "outputId": "1997e776-68b8-4053-d4ef-1aa440fd6c6a"
   },
   "outputs": [
    {
     "name": "stderr",
     "output_type": "stream",
     "text": [
      "*c* argument looks like a single numeric RGB or RGBA sequence, which should be avoided as value-mapping will have precedence in case its length matches with *x* & *y*.  Please use the *color* keyword-argument or provide a 2-D array with a single row if you intend to specify the same RGB or RGBA value for all points.\n",
      "*c* argument looks like a single numeric RGB or RGBA sequence, which should be avoided as value-mapping will have precedence in case its length matches with *x* & *y*.  Please use the *color* keyword-argument or provide a 2-D array with a single row if you intend to specify the same RGB or RGBA value for all points.\n"
     ]
    },
    {
     "data": {
      "image/png": "[encoded data removed]",
      "text/plain": [
       "<Figure size 432x288 with 1 Axes>"
      ]
     },
     "metadata": {},
     "output_type": "display_data"
    }
   ],
   "source": [
    "# Visualisasi hasil model Decision Tree Classification dari Training set\n",
    "from matplotlib.colors import ListedColormap\n",
    "X_set, y_set = X_train, y_train\n",
    "X1, X2 = np.meshgrid(np.arange(start = X_set[:, 0].min() - 1, stop = X_set[:, 0].max() + 1, step = 0.01),\n",
    "                     np.arange(start = X_set[:, 1].min() - 1, stop = X_set[:, 1].max() + 1, step = 0.01))\n",
    "plt.contour(X1, X2, classifier.predict(np.array([X1.ravel(), X2.ravel()]).T).reshape(X1.shape),\n",
    "            alpha = 0.3, cmap = ListedColormap(('red', 'blue')))\n",
    "plt.xlim(X1.min(), X1.max())\n",
    "plt.ylim(X2.min(), X2.max())\n",
    "for i, j in enumerate(np.unique(y_set)):\n",
    "  plt.scatter(X_set[y_set == j, 0], X_set[y_set == j, 1],\n",
    "              c = ListedColormap(('red', 'blue'))(i), label = j)\n",
    "plt.title('Random Forest Classification (Training set)')\n",
    "plt.xlabel('Usia')\n",
    "plt.ylabel('Estimasi Gaji')\n",
    "plt.legend()\n",
    "plt.show()"
   ]
  },
  {
   "cell_type": "code",
   "execution_count": 19,
   "metadata": {
    "colab": {
     "base_uri": "https://localhost:8080/",
     "height": 349
    },
    "id": "sxs8GBaS3HYz",
    "outputId": "b5c83ca6-05ff-4435-bfca-589506f216f1"
   },
   "outputs": [
    {
     "name": "stderr",
     "output_type": "stream",
     "text": [
      "*c* argument looks like a single numeric RGB or RGBA sequence, which should be avoided as value-mapping will have precedence in case its length matches with *x* & *y*.  Please use the *color* keyword-argument or provide a 2-D array with a single row if you intend to specify the same RGB or RGBA value for all points.\n",
      "*c* argument looks like a single numeric RGB or RGBA sequence, which should be avoided as value-mapping will have precedence in case its length matches with *x* & *y*.  Please use the *color* keyword-argument or provide a 2-D array with a single row if you intend to specify the same RGB or RGBA value for all points.\n"
     ]
    },
    {
     "data": {
      "image/png": "[encoded data removed]",
      "text/plain": [
       "<Figure size 432x288 with 1 Axes>"
      ]
     },
     "metadata": {},
     "output_type": "display_data"
    }
   ],
   "source": [
    "# Visualisasi hasil model Decision Tree Classification dari Test set\n",
    "from matplotlib.colors import ListedColormap\n",
    "X_set, y_set = X_test, y_test\n",
    "X1, X2 = np.meshgrid(np.arange(start = X_set[:, 0].min() - 1, stop = X_set[:, 0].max() + 1, step = 0.01),\n",
    "                     np.arange(start = X_set[:, 1].min() - 1, stop = X_set[:, 1].max() + 1, step = 0.01))\n",
    "plt.contour(X1, X2, classifier.predict(np.array([X1.ravel(), X2.ravel()]).T).reshape(X1.shape),\n",
    "            alpha = 0.3, cmap = ListedColormap(('red', 'blue')))\n",
    "plt.xlim(X1.min(), X1.max())\n",
    "plt.ylim(X2.min(), X2.max())\n",
    "for i, j in enumerate(np.unique(y_set)):\n",
    "  plt.scatter(X_set[y_set == j, 0], X_set[y_set == j, 1],\n",
    "              c = ListedColormap(('red', 'blue'))(i), label = j)\n",
    "plt.title('Random Forest Classification (Test set)')\n",
    "plt.xlabel('Usia')\n",
    "plt.ylabel('Estimasi Gaji')\n",
    "plt.legend()\n",
    "plt.show()"
   ]
  },
  {
   "cell_type": "code",
   "execution_count": 20,
   "metadata": {
    "colab": {
     "base_uri": "https://localhost:8080/"
    },
    "id": "j7fV158R5aLm",
    "outputId": "34bd9d6b-16e7-4faa-cdf2-f5dd867f3354"
   },
   "outputs": [
    {
     "data": {
      "text/plain": [
       "array([1], dtype=int64)"
      ]
     },
     "execution_count": 20,
     "metadata": {},
     "output_type": "execute_result"
    }
   ],
   "source": [
    "# Uji Prediksi\n",
    "X_coba = sc.transform([[46, 41000]])\n",
    "y_pred2 = classifier.predict(X_coba)\n",
    "y_pred2"
   ]
  },
  {
   "cell_type": "code",
   "execution_count": null,
   "metadata": {},
   "outputs": [],
   "source": []
  }
 ],
 "metadata": {
  "colab": {
   "collapsed_sections": [],
   "name": "RandomForest.ipynb",
   "provenance": []
  },
  "kernelspec": {
   "display_name": "Python 3",
   "language": "python",
   "name": "python3"
  },
  "language_info": {
   "codemirror_mode": {
    "name": "ipython",
    "version": 3
   },
   "file_extension": ".py",
   "mimetype": "text/x-python",
   "name": "python",
   "nbconvert_exporter": "python",
   "pygments_lexer": "ipython3",
   "version": "3.8.8"
  }
 },
 "nbformat": 4,
 "nbformat_minor": 1
}
