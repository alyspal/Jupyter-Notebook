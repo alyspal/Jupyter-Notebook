{
 "cells": [
  {
   "cell_type": "markdown",
   "metadata": {
    "id": "KLna0RcMVbdB"
   },
   "source": [
    "## Data Preparation"
   ]
  },
  {
   "cell_type": "code",
   "execution_count": 1,
   "metadata": {
    "ExecuteTime": {
     "end_time": "2021-11-16T13:35:50.936950Z",
     "start_time": "2021-11-16T13:35:47.816107Z"
    },
    "id": "UzPOldcntkIZ"
   },
   "outputs": [],
   "source": [
    "# Mengimpor library yang diperlukan\n",
    "import numpy as np\n",
    "import matplotlib.pyplot as plt\n",
    "import pandas as pd\n",
    "import seaborn as sns"
   ]
  },
  {
   "cell_type": "code",
   "execution_count": 2,
   "metadata": {
    "ExecuteTime": {
     "end_time": "2021-11-16T13:35:53.126009Z",
     "start_time": "2021-11-16T13:35:50.938653Z"
    },
    "colab": {
     "base_uri": "https://localhost:8080/"
    },
    "id": "15qCeF9ovm9g",
    "outputId": "9a77c622-4f5c-46d8-986c-f08e5795029d"
   },
   "outputs": [
    {
     "name": "stdout",
     "output_type": "stream",
     "text": [
      "<class 'pandas.core.frame.DataFrame'>\n",
      "RangeIndex: 449 entries, 0 to 448\n",
      "Data columns (total 22 columns):\n",
      " #   Column                       Non-Null Count  Dtype \n",
      "---  ------                       --------------  ----- \n",
      " 0   Sex                          449 non-null    object\n",
      " 1   Age                          449 non-null    object\n",
      " 2   Professions                  449 non-null    object\n",
      " 3   Education                    447 non-null    object\n",
      " 4   Living Area                  449 non-null    object\n",
      " 5   1. Swelling                  448 non-null    object\n",
      " 6   2. Redness                   448 non-null    object\n",
      " 7   3. Itching                   449 non-null    object\n",
      " 8   4. Fever                     449 non-null    object\n",
      " 9   5. Headache                  449 non-null    object\n",
      " 10  6. Muscle Pain               448 non-null    object\n",
      " 11  7. Tiredness                 448 non-null    object\n",
      " 12  8. Coughing                  449 non-null    object\n",
      " 13  9. Diarrhea                  449 non-null    object\n",
      " 14  10. Nausea and vomiting      449 non-null    object\n",
      " 15  11. Breathlessness           449 non-null    object\n",
      " 16  12. Joint Pain               449 non-null    object\n",
      " 17  13. Fainted                  449 non-null    object\n",
      " 18  14. Anaphylactic Reaction    449 non-null    object\n",
      " 19  15. Tingling                 447 non-null    object\n",
      " 20  16. Swollen Lymph Nodes      449 non-null    object\n",
      " 21  TARGET LABEL (SYMPTOM TIME)  449 non-null    object\n",
      "dtypes: object(22)\n",
      "memory usage: 77.3+ KB\n"
     ]
    }
   ],
   "source": [
    "# Mengimpor dataset\n",
    "dataset = pd.read_excel('3SI1_Dataset 03_Gejala Ikutan Vaksin.xlsx')\n",
    "dataset.info()"
   ]
  },
  {
   "cell_type": "markdown",
   "metadata": {
    "id": "foHy4daLVsAw"
   },
   "source": [
    "### Periksa Data"
   ]
  },
  {
   "cell_type": "code",
   "execution_count": 3,
   "metadata": {
    "ExecuteTime": {
     "end_time": "2021-11-16T13:35:53.142002Z",
     "start_time": "2021-11-16T13:35:53.128998Z"
    },
    "colab": {
     "base_uri": "https://localhost:8080/"
    },
    "id": "4LitEmnEOdLe",
    "outputId": "5f497968-ddd5-423e-c77e-c7565871ad57"
   },
   "outputs": [
    {
     "data": {
      "text/plain": [
       "Index(['Sex', 'Age', 'Professions', 'Education', 'Living Area', '1. Swelling',\n",
       "       '2. Redness', '3. Itching', '4. Fever', '5. Headache', '6. Muscle Pain',\n",
       "       '7. Tiredness', '8. Coughing', '9. Diarrhea', '10. Nausea and vomiting',\n",
       "       '11. Breathlessness', '12. Joint Pain', '13. Fainted',\n",
       "       '14. Anaphylactic Reaction', '15. Tingling', '16. Swollen Lymph Nodes',\n",
       "       'TARGET LABEL (SYMPTOM TIME)'],\n",
       "      dtype='object')"
      ]
     },
     "execution_count": 3,
     "metadata": {},
     "output_type": "execute_result"
    }
   ],
   "source": [
    "dataset.keys()"
   ]
  },
  {
   "cell_type": "code",
   "execution_count": 4,
   "metadata": {
    "ExecuteTime": {
     "end_time": "2021-11-16T13:35:53.189994Z",
     "start_time": "2021-11-16T13:35:53.146997Z"
    },
    "colab": {
     "base_uri": "https://localhost:8080/"
    },
    "id": "7amvoSM5T1S5",
    "outputId": "372ecee8-bb75-494d-f1bb-4ed117777e06"
   },
   "outputs": [
    {
     "data": {
      "text/plain": [
       "<bound method NDFrame.describe of         Sex          Age         Professions           Education Living Area  \\\n",
       "0      Male  51-55 years  Medical specialist       Master degree    Downtown   \n",
       "1    Female  41-45 years   Non medical staff       Master degree    Downtown   \n",
       "2      Male  56-60 years      Medical doctor                 NaN    Downtown   \n",
       "3      Male  26-30 years   Non medical staff                 NaN    Downtown   \n",
       "4    Female  31-35 years      Medical doctor     Bachelor degree    Downtown   \n",
       "..      ...          ...                 ...                 ...         ...   \n",
       "444  Female  36-40 years             Midwife     Bachelor degree    Downtown   \n",
       "445  Female  46-50 years   Non medical staff     Bachelor degree    Outskirt   \n",
       "446  Female  36-40 years               Nurse     Bachelor degree    Downtown   \n",
       "447  Female  41-45 years   Non medical staff     Bachelor degree    Downtown   \n",
       "448  Female  36-40 years   Non medical staff  Senior high school    Downtown   \n",
       "\n",
       "    1. Swelling 2. Redness 3. Itching 4. Fever 5. Headache  ... 8. Coughing  \\\n",
       "0            No         No         No       No          No  ...          No   \n",
       "1            No         No         No       No          No  ...          No   \n",
       "2            No         No         No       No          No  ...          No   \n",
       "3            No         No         No       No          No  ...          No   \n",
       "4            No         No         No       No          No  ...         Yes   \n",
       "..          ...        ...        ...      ...         ...  ...         ...   \n",
       "444         Yes         No         No       No          No  ...          No   \n",
       "445          No         No         No       No         Yes  ...         Yes   \n",
       "446          No         No         No       No          No  ...          No   \n",
       "447          No         No         No       No          No  ...          No   \n",
       "448          No         No         No       No          No  ...          No   \n",
       "\n",
       "    9. Diarrhea 10. Nausea and vomiting 11. Breathlessness 12. Joint Pain  \\\n",
       "0            No                      No                 No             No   \n",
       "1            No                      No                 No             No   \n",
       "2            No                      No                 No             No   \n",
       "3            No                      No                 No             No   \n",
       "4            No                      No                 No             No   \n",
       "..          ...                     ...                ...            ...   \n",
       "444          No                      No                 No             No   \n",
       "445          No                      No                 No             No   \n",
       "446          No                      No                 No             No   \n",
       "447          No                      No                 No             No   \n",
       "448          No                      No                 No             No   \n",
       "\n",
       "    13. Fainted 14. Anaphylactic Reaction 15. Tingling  \\\n",
       "0            No                        No           No   \n",
       "1            No                        No           No   \n",
       "2            No                        No           No   \n",
       "3            No                        No           No   \n",
       "4            No                        No           No   \n",
       "..          ...                       ...          ...   \n",
       "444          No                        No           No   \n",
       "445          No                        No           No   \n",
       "446          No                        No           No   \n",
       "447          No                        No           No   \n",
       "448          No                        No           No   \n",
       "\n",
       "    16. Swollen Lymph Nodes TARGET LABEL (SYMPTOM TIME)  \n",
       "0                        No                        None  \n",
       "1                        No                        None  \n",
       "2                        No                  < 24 hours  \n",
       "3                        No                        None  \n",
       "4                        No                  < 24 hours  \n",
       "..                      ...                         ...  \n",
       "444                      No                 24-72 hours  \n",
       "445                      No                 24-72 hours  \n",
       "446                      No                        None  \n",
       "447                      No                 24-72 hours  \n",
       "448                      No                        None  \n",
       "\n",
       "[449 rows x 22 columns]>"
      ]
     },
     "execution_count": 4,
     "metadata": {},
     "output_type": "execute_result"
    }
   ],
   "source": [
    "dataset.describe"
   ]
  },
  {
   "cell_type": "code",
   "execution_count": 5,
   "metadata": {
    "ExecuteTime": {
     "end_time": "2021-11-16T13:35:53.205998Z",
     "start_time": "2021-11-16T13:35:53.193005Z"
    },
    "colab": {
     "base_uri": "https://localhost:8080/"
    },
    "id": "aAfsOMiIUcK5",
    "outputId": "f9ea29d9-4e73-44ac-ed31-82b0b3978bd0"
   },
   "outputs": [
    {
     "data": {
      "text/plain": [
       "8"
      ]
     },
     "execution_count": 5,
     "metadata": {},
     "output_type": "execute_result"
    }
   ],
   "source": [
    "np.sum(pd.isnull(dataset).sum()) # Sum of the count of null objects in all columns of data frame"
   ]
  },
  {
   "cell_type": "code",
   "execution_count": 6,
   "metadata": {
    "ExecuteTime": {
     "end_time": "2021-11-16T13:35:53.237994Z",
     "start_time": "2021-11-16T13:35:53.211005Z"
    }
   },
   "outputs": [],
   "source": [
    "dataset = dataset.dropna()\n",
    "dataset = dataset.drop(columns=['3. Itching'])\n",
    "dataset = dataset.drop(columns=['13. Fainted'])"
   ]
  },
  {
   "cell_type": "code",
   "execution_count": 7,
   "metadata": {
    "ExecuteTime": {
     "end_time": "2021-11-16T13:35:53.285994Z",
     "start_time": "2021-11-16T13:35:53.242998Z"
    },
    "colab": {
     "base_uri": "https://localhost:8080/",
     "height": 203
    },
    "id": "6_nk8cmFUvin",
    "outputId": "8984b965-af53-4e07-afa7-531eebcf6dcb"
   },
   "outputs": [
    {
     "data": {
      "text/html": [
       "<div>\n",
       "<style scoped>\n",
       "    .dataframe tbody tr th:only-of-type {\n",
       "        vertical-align: middle;\n",
       "    }\n",
       "\n",
       "    .dataframe tbody tr th {\n",
       "        vertical-align: top;\n",
       "    }\n",
       "\n",
       "    .dataframe thead th {\n",
       "        text-align: right;\n",
       "    }\n",
       "</style>\n",
       "<table border=\"1\" class=\"dataframe\">\n",
       "  <thead>\n",
       "    <tr style=\"text-align: right;\">\n",
       "      <th></th>\n",
       "      <th>Sex</th>\n",
       "      <th>Age</th>\n",
       "      <th>Professions</th>\n",
       "      <th>Education</th>\n",
       "      <th>Living Area</th>\n",
       "      <th>1. Swelling</th>\n",
       "      <th>2. Redness</th>\n",
       "      <th>4. Fever</th>\n",
       "      <th>5. Headache</th>\n",
       "      <th>6. Muscle Pain</th>\n",
       "      <th>7. Tiredness</th>\n",
       "      <th>8. Coughing</th>\n",
       "      <th>9. Diarrhea</th>\n",
       "      <th>10. Nausea and vomiting</th>\n",
       "      <th>11. Breathlessness</th>\n",
       "      <th>12. Joint Pain</th>\n",
       "      <th>14. Anaphylactic Reaction</th>\n",
       "      <th>15. Tingling</th>\n",
       "      <th>16. Swollen Lymph Nodes</th>\n",
       "      <th>TARGET LABEL (SYMPTOM TIME)</th>\n",
       "    </tr>\n",
       "  </thead>\n",
       "  <tbody>\n",
       "    <tr>\n",
       "      <th>0</th>\n",
       "      <td>Male</td>\n",
       "      <td>51-55 years</td>\n",
       "      <td>Medical specialist</td>\n",
       "      <td>Master degree</td>\n",
       "      <td>Downtown</td>\n",
       "      <td>No</td>\n",
       "      <td>No</td>\n",
       "      <td>No</td>\n",
       "      <td>No</td>\n",
       "      <td>Yes</td>\n",
       "      <td>Yes</td>\n",
       "      <td>No</td>\n",
       "      <td>No</td>\n",
       "      <td>No</td>\n",
       "      <td>No</td>\n",
       "      <td>No</td>\n",
       "      <td>No</td>\n",
       "      <td>No</td>\n",
       "      <td>No</td>\n",
       "      <td>None</td>\n",
       "    </tr>\n",
       "    <tr>\n",
       "      <th>1</th>\n",
       "      <td>Female</td>\n",
       "      <td>41-45 years</td>\n",
       "      <td>Non medical staff</td>\n",
       "      <td>Master degree</td>\n",
       "      <td>Downtown</td>\n",
       "      <td>No</td>\n",
       "      <td>No</td>\n",
       "      <td>No</td>\n",
       "      <td>No</td>\n",
       "      <td>Yes</td>\n",
       "      <td>No</td>\n",
       "      <td>No</td>\n",
       "      <td>No</td>\n",
       "      <td>No</td>\n",
       "      <td>No</td>\n",
       "      <td>No</td>\n",
       "      <td>No</td>\n",
       "      <td>No</td>\n",
       "      <td>No</td>\n",
       "      <td>None</td>\n",
       "    </tr>\n",
       "    <tr>\n",
       "      <th>4</th>\n",
       "      <td>Female</td>\n",
       "      <td>31-35 years</td>\n",
       "      <td>Medical doctor</td>\n",
       "      <td>Bachelor degree</td>\n",
       "      <td>Downtown</td>\n",
       "      <td>No</td>\n",
       "      <td>No</td>\n",
       "      <td>No</td>\n",
       "      <td>No</td>\n",
       "      <td>Yes</td>\n",
       "      <td>Yes</td>\n",
       "      <td>Yes</td>\n",
       "      <td>No</td>\n",
       "      <td>No</td>\n",
       "      <td>No</td>\n",
       "      <td>No</td>\n",
       "      <td>No</td>\n",
       "      <td>No</td>\n",
       "      <td>No</td>\n",
       "      <td>&lt; 24 hours</td>\n",
       "    </tr>\n",
       "    <tr>\n",
       "      <th>6</th>\n",
       "      <td>Female</td>\n",
       "      <td>46-50 years</td>\n",
       "      <td>Medical doctor</td>\n",
       "      <td>Bachelor degree</td>\n",
       "      <td>Downtown</td>\n",
       "      <td>No</td>\n",
       "      <td>No</td>\n",
       "      <td>No</td>\n",
       "      <td>No</td>\n",
       "      <td>No</td>\n",
       "      <td>No</td>\n",
       "      <td>No</td>\n",
       "      <td>No</td>\n",
       "      <td>No</td>\n",
       "      <td>No</td>\n",
       "      <td>No</td>\n",
       "      <td>No</td>\n",
       "      <td>No</td>\n",
       "      <td>No</td>\n",
       "      <td>None</td>\n",
       "    </tr>\n",
       "    <tr>\n",
       "      <th>7</th>\n",
       "      <td>Female</td>\n",
       "      <td>56-60 years</td>\n",
       "      <td>Medical doctor</td>\n",
       "      <td>Master degree</td>\n",
       "      <td>Downtown</td>\n",
       "      <td>No</td>\n",
       "      <td>No</td>\n",
       "      <td>No</td>\n",
       "      <td>No</td>\n",
       "      <td>No</td>\n",
       "      <td>Yes</td>\n",
       "      <td>No</td>\n",
       "      <td>No</td>\n",
       "      <td>No</td>\n",
       "      <td>No</td>\n",
       "      <td>No</td>\n",
       "      <td>No</td>\n",
       "      <td>No</td>\n",
       "      <td>No</td>\n",
       "      <td>None</td>\n",
       "    </tr>\n",
       "  </tbody>\n",
       "</table>\n",
       "</div>"
      ],
      "text/plain": [
       "      Sex          Age         Professions        Education Living Area  \\\n",
       "0    Male  51-55 years  Medical specialist    Master degree    Downtown   \n",
       "1  Female  41-45 years   Non medical staff    Master degree    Downtown   \n",
       "4  Female  31-35 years      Medical doctor  Bachelor degree    Downtown   \n",
       "6  Female  46-50 years      Medical doctor  Bachelor degree    Downtown   \n",
       "7  Female  56-60 years      Medical doctor    Master degree    Downtown   \n",
       "\n",
       "  1. Swelling 2. Redness 4. Fever 5. Headache 6. Muscle Pain 7. Tiredness  \\\n",
       "0          No         No       No          No            Yes          Yes   \n",
       "1          No         No       No          No            Yes           No   \n",
       "4          No         No       No          No            Yes          Yes   \n",
       "6          No         No       No          No             No           No   \n",
       "7          No         No       No          No             No          Yes   \n",
       "\n",
       "  8. Coughing 9. Diarrhea 10. Nausea and vomiting 11. Breathlessness  \\\n",
       "0          No          No                      No                 No   \n",
       "1          No          No                      No                 No   \n",
       "4         Yes          No                      No                 No   \n",
       "6          No          No                      No                 No   \n",
       "7          No          No                      No                 No   \n",
       "\n",
       "  12. Joint Pain 14. Anaphylactic Reaction 15. Tingling  \\\n",
       "0             No                        No           No   \n",
       "1             No                        No           No   \n",
       "4             No                        No           No   \n",
       "6             No                        No           No   \n",
       "7             No                        No           No   \n",
       "\n",
       "  16. Swollen Lymph Nodes TARGET LABEL (SYMPTOM TIME)  \n",
       "0                      No                        None  \n",
       "1                      No                        None  \n",
       "4                      No                  < 24 hours  \n",
       "6                      No                        None  \n",
       "7                      No                        None  "
      ]
     },
     "execution_count": 7,
     "metadata": {},
     "output_type": "execute_result"
    }
   ],
   "source": [
    "dataset.head()"
   ]
  },
  {
   "cell_type": "markdown",
   "metadata": {
    "id": "IQYTksBLVTQE"
   },
   "source": [
    "## Exploratory Data Analysis\n"
   ]
  },
  {
   "cell_type": "markdown",
   "metadata": {
    "id": "0tkuEmWpWSGA"
   },
   "source": [
    "Periksa Data apakah data Purchased tersebar secara merata atau imbalance "
   ]
  },
  {
   "cell_type": "code",
   "execution_count": 8,
   "metadata": {
    "ExecuteTime": {
     "end_time": "2021-11-16T13:35:53.585993Z",
     "start_time": "2021-11-16T13:35:53.290000Z"
    }
   },
   "outputs": [
    {
     "data": {
      "text/html": [
       "<div>\n",
       "<style scoped>\n",
       "    .dataframe tbody tr th:only-of-type {\n",
       "        vertical-align: middle;\n",
       "    }\n",
       "\n",
       "    .dataframe tbody tr th {\n",
       "        vertical-align: top;\n",
       "    }\n",
       "\n",
       "    .dataframe thead th {\n",
       "        text-align: right;\n",
       "    }\n",
       "</style>\n",
       "<table border=\"1\" class=\"dataframe\">\n",
       "  <thead>\n",
       "    <tr style=\"text-align: right;\">\n",
       "      <th></th>\n",
       "      <th>Sex</th>\n",
       "      <th>Age</th>\n",
       "      <th>Professions</th>\n",
       "      <th>Education</th>\n",
       "      <th>Living Area</th>\n",
       "      <th>1. Swelling</th>\n",
       "      <th>2. Redness</th>\n",
       "      <th>4. Fever</th>\n",
       "      <th>5. Headache</th>\n",
       "      <th>6. Muscle Pain</th>\n",
       "      <th>7. Tiredness</th>\n",
       "      <th>8. Coughing</th>\n",
       "      <th>9. Diarrhea</th>\n",
       "      <th>10. Nausea and vomiting</th>\n",
       "      <th>11. Breathlessness</th>\n",
       "      <th>12. Joint Pain</th>\n",
       "      <th>14. Anaphylactic Reaction</th>\n",
       "      <th>15. Tingling</th>\n",
       "      <th>16. Swollen Lymph Nodes</th>\n",
       "      <th>TARGET LABEL (SYMPTOM TIME)</th>\n",
       "    </tr>\n",
       "  </thead>\n",
       "  <tbody>\n",
       "    <tr>\n",
       "      <th>0</th>\n",
       "      <td>1</td>\n",
       "      <td>6</td>\n",
       "      <td>1</td>\n",
       "      <td>2</td>\n",
       "      <td>0</td>\n",
       "      <td>0</td>\n",
       "      <td>0</td>\n",
       "      <td>0</td>\n",
       "      <td>0</td>\n",
       "      <td>1</td>\n",
       "      <td>1</td>\n",
       "      <td>0</td>\n",
       "      <td>0</td>\n",
       "      <td>0</td>\n",
       "      <td>0</td>\n",
       "      <td>0</td>\n",
       "      <td>0</td>\n",
       "      <td>0</td>\n",
       "      <td>0</td>\n",
       "      <td>3</td>\n",
       "    </tr>\n",
       "    <tr>\n",
       "      <th>1</th>\n",
       "      <td>0</td>\n",
       "      <td>4</td>\n",
       "      <td>3</td>\n",
       "      <td>2</td>\n",
       "      <td>0</td>\n",
       "      <td>0</td>\n",
       "      <td>0</td>\n",
       "      <td>0</td>\n",
       "      <td>0</td>\n",
       "      <td>1</td>\n",
       "      <td>0</td>\n",
       "      <td>0</td>\n",
       "      <td>0</td>\n",
       "      <td>0</td>\n",
       "      <td>0</td>\n",
       "      <td>0</td>\n",
       "      <td>0</td>\n",
       "      <td>0</td>\n",
       "      <td>0</td>\n",
       "      <td>3</td>\n",
       "    </tr>\n",
       "    <tr>\n",
       "      <th>4</th>\n",
       "      <td>0</td>\n",
       "      <td>2</td>\n",
       "      <td>0</td>\n",
       "      <td>0</td>\n",
       "      <td>0</td>\n",
       "      <td>0</td>\n",
       "      <td>0</td>\n",
       "      <td>0</td>\n",
       "      <td>0</td>\n",
       "      <td>1</td>\n",
       "      <td>1</td>\n",
       "      <td>1</td>\n",
       "      <td>0</td>\n",
       "      <td>0</td>\n",
       "      <td>0</td>\n",
       "      <td>0</td>\n",
       "      <td>0</td>\n",
       "      <td>0</td>\n",
       "      <td>0</td>\n",
       "      <td>1</td>\n",
       "    </tr>\n",
       "    <tr>\n",
       "      <th>6</th>\n",
       "      <td>0</td>\n",
       "      <td>5</td>\n",
       "      <td>0</td>\n",
       "      <td>0</td>\n",
       "      <td>0</td>\n",
       "      <td>0</td>\n",
       "      <td>0</td>\n",
       "      <td>0</td>\n",
       "      <td>0</td>\n",
       "      <td>0</td>\n",
       "      <td>0</td>\n",
       "      <td>0</td>\n",
       "      <td>0</td>\n",
       "      <td>0</td>\n",
       "      <td>0</td>\n",
       "      <td>0</td>\n",
       "      <td>0</td>\n",
       "      <td>0</td>\n",
       "      <td>0</td>\n",
       "      <td>3</td>\n",
       "    </tr>\n",
       "    <tr>\n",
       "      <th>7</th>\n",
       "      <td>0</td>\n",
       "      <td>7</td>\n",
       "      <td>0</td>\n",
       "      <td>2</td>\n",
       "      <td>0</td>\n",
       "      <td>0</td>\n",
       "      <td>0</td>\n",
       "      <td>0</td>\n",
       "      <td>0</td>\n",
       "      <td>0</td>\n",
       "      <td>1</td>\n",
       "      <td>0</td>\n",
       "      <td>0</td>\n",
       "      <td>0</td>\n",
       "      <td>0</td>\n",
       "      <td>0</td>\n",
       "      <td>0</td>\n",
       "      <td>0</td>\n",
       "      <td>0</td>\n",
       "      <td>3</td>\n",
       "    </tr>\n",
       "    <tr>\n",
       "      <th>8</th>\n",
       "      <td>0</td>\n",
       "      <td>3</td>\n",
       "      <td>3</td>\n",
       "      <td>2</td>\n",
       "      <td>0</td>\n",
       "      <td>0</td>\n",
       "      <td>0</td>\n",
       "      <td>0</td>\n",
       "      <td>0</td>\n",
       "      <td>1</td>\n",
       "      <td>1</td>\n",
       "      <td>0</td>\n",
       "      <td>0</td>\n",
       "      <td>0</td>\n",
       "      <td>0</td>\n",
       "      <td>0</td>\n",
       "      <td>0</td>\n",
       "      <td>0</td>\n",
       "      <td>0</td>\n",
       "      <td>0</td>\n",
       "    </tr>\n",
       "    <tr>\n",
       "      <th>9</th>\n",
       "      <td>1</td>\n",
       "      <td>6</td>\n",
       "      <td>4</td>\n",
       "      <td>2</td>\n",
       "      <td>0</td>\n",
       "      <td>0</td>\n",
       "      <td>0</td>\n",
       "      <td>0</td>\n",
       "      <td>0</td>\n",
       "      <td>1</td>\n",
       "      <td>1</td>\n",
       "      <td>0</td>\n",
       "      <td>0</td>\n",
       "      <td>0</td>\n",
       "      <td>0</td>\n",
       "      <td>0</td>\n",
       "      <td>0</td>\n",
       "      <td>0</td>\n",
       "      <td>0</td>\n",
       "      <td>1</td>\n",
       "    </tr>\n",
       "    <tr>\n",
       "      <th>10</th>\n",
       "      <td>0</td>\n",
       "      <td>7</td>\n",
       "      <td>4</td>\n",
       "      <td>0</td>\n",
       "      <td>0</td>\n",
       "      <td>0</td>\n",
       "      <td>0</td>\n",
       "      <td>0</td>\n",
       "      <td>1</td>\n",
       "      <td>1</td>\n",
       "      <td>1</td>\n",
       "      <td>0</td>\n",
       "      <td>0</td>\n",
       "      <td>0</td>\n",
       "      <td>0</td>\n",
       "      <td>0</td>\n",
       "      <td>0</td>\n",
       "      <td>0</td>\n",
       "      <td>0</td>\n",
       "      <td>0</td>\n",
       "    </tr>\n",
       "    <tr>\n",
       "      <th>11</th>\n",
       "      <td>0</td>\n",
       "      <td>2</td>\n",
       "      <td>0</td>\n",
       "      <td>0</td>\n",
       "      <td>0</td>\n",
       "      <td>0</td>\n",
       "      <td>0</td>\n",
       "      <td>0</td>\n",
       "      <td>0</td>\n",
       "      <td>0</td>\n",
       "      <td>0</td>\n",
       "      <td>0</td>\n",
       "      <td>0</td>\n",
       "      <td>0</td>\n",
       "      <td>0</td>\n",
       "      <td>0</td>\n",
       "      <td>0</td>\n",
       "      <td>0</td>\n",
       "      <td>0</td>\n",
       "      <td>1</td>\n",
       "    </tr>\n",
       "    <tr>\n",
       "      <th>12</th>\n",
       "      <td>0</td>\n",
       "      <td>4</td>\n",
       "      <td>4</td>\n",
       "      <td>0</td>\n",
       "      <td>0</td>\n",
       "      <td>0</td>\n",
       "      <td>0</td>\n",
       "      <td>0</td>\n",
       "      <td>0</td>\n",
       "      <td>0</td>\n",
       "      <td>0</td>\n",
       "      <td>0</td>\n",
       "      <td>0</td>\n",
       "      <td>0</td>\n",
       "      <td>0</td>\n",
       "      <td>0</td>\n",
       "      <td>0</td>\n",
       "      <td>0</td>\n",
       "      <td>0</td>\n",
       "      <td>3</td>\n",
       "    </tr>\n",
       "  </tbody>\n",
       "</table>\n",
       "</div>"
      ],
      "text/plain": [
       "    Sex  Age  Professions  Education  Living Area  1. Swelling  2. Redness  \\\n",
       "0     1    6            1          2            0            0           0   \n",
       "1     0    4            3          2            0            0           0   \n",
       "4     0    2            0          0            0            0           0   \n",
       "6     0    5            0          0            0            0           0   \n",
       "7     0    7            0          2            0            0           0   \n",
       "8     0    3            3          2            0            0           0   \n",
       "9     1    6            4          2            0            0           0   \n",
       "10    0    7            4          0            0            0           0   \n",
       "11    0    2            0          0            0            0           0   \n",
       "12    0    4            4          0            0            0           0   \n",
       "\n",
       "    4. Fever  5. Headache  6. Muscle Pain  7. Tiredness  8. Coughing  \\\n",
       "0          0            0               1             1            0   \n",
       "1          0            0               1             0            0   \n",
       "4          0            0               1             1            1   \n",
       "6          0            0               0             0            0   \n",
       "7          0            0               0             1            0   \n",
       "8          0            0               1             1            0   \n",
       "9          0            0               1             1            0   \n",
       "10         0            1               1             1            0   \n",
       "11         0            0               0             0            0   \n",
       "12         0            0               0             0            0   \n",
       "\n",
       "    9. Diarrhea  10. Nausea and vomiting  11. Breathlessness  12. Joint Pain  \\\n",
       "0             0                        0                   0               0   \n",
       "1             0                        0                   0               0   \n",
       "4             0                        0                   0               0   \n",
       "6             0                        0                   0               0   \n",
       "7             0                        0                   0               0   \n",
       "8             0                        0                   0               0   \n",
       "9             0                        0                   0               0   \n",
       "10            0                        0                   0               0   \n",
       "11            0                        0                   0               0   \n",
       "12            0                        0                   0               0   \n",
       "\n",
       "    14. Anaphylactic Reaction  15. Tingling  16. Swollen Lymph Nodes  \\\n",
       "0                           0             0                        0   \n",
       "1                           0             0                        0   \n",
       "4                           0             0                        0   \n",
       "6                           0             0                        0   \n",
       "7                           0             0                        0   \n",
       "8                           0             0                        0   \n",
       "9                           0             0                        0   \n",
       "10                          0             0                        0   \n",
       "11                          0             0                        0   \n",
       "12                          0             0                        0   \n",
       "\n",
       "    TARGET LABEL (SYMPTOM TIME)  \n",
       "0                             3  \n",
       "1                             3  \n",
       "4                             1  \n",
       "6                             3  \n",
       "7                             3  \n",
       "8                             0  \n",
       "9                             1  \n",
       "10                            0  \n",
       "11                            1  \n",
       "12                            3  "
      ]
     },
     "execution_count": 8,
     "metadata": {},
     "output_type": "execute_result"
    }
   ],
   "source": [
    "from sklearn import preprocessing\n",
    "le = preprocessing.LabelEncoder()\n",
    "\n",
    "for x in dataset.columns:\n",
    "  dataset[x] = le.fit_transform(dataset[x])\n",
    "\n",
    "dataset.head(10)"
   ]
  },
  {
   "cell_type": "code",
   "execution_count": 9,
   "metadata": {
    "ExecuteTime": {
     "end_time": "2021-11-16T13:35:53.884188Z",
     "start_time": "2021-11-16T13:35:53.589000Z"
    },
    "colab": {
     "base_uri": "https://localhost:8080/",
     "height": 296
    },
    "id": "cr0YX1N_WIau",
    "outputId": "62de90a5-4024-4d7c-8e69-693104c56cba"
   },
   "outputs": [
    {
     "data": {
      "text/plain": [
       "<AxesSubplot:xlabel='TARGET LABEL (SYMPTOM TIME)', ylabel='count'>"
      ]
     },
     "execution_count": 9,
     "metadata": {},
     "output_type": "execute_result"
    },
    {
     "data": {
      "image/png": "[encoded data removed]",
      "text/plain": [
       "<Figure size 432x288 with 1 Axes>"
      ]
     },
     "metadata": {},
     "output_type": "display_data"
    }
   ],
   "source": [
    "sns.set_style('whitegrid')\n",
    "sns.countplot(x=dataset['TARGET LABEL (SYMPTOM TIME)'],data=dataset,palette='muted')"
   ]
  },
  {
   "cell_type": "code",
   "execution_count": 10,
   "metadata": {
    "ExecuteTime": {
     "end_time": "2021-11-16T13:35:58.048203Z",
     "start_time": "2021-11-16T13:35:53.888205Z"
    },
    "colab": {
     "base_uri": "https://localhost:8080/",
     "height": 558
    },
    "id": "UAtuG0T3Wjpg",
    "outputId": "0b6cbe9c-a5ac-4e15-fcbe-e3dd3936de72"
   },
   "outputs": [
    {
     "data": {
      "image/png": "[encoded data removed]",
      "text/plain": [
       "<Figure size 432x288 with 1 Axes>"
      ]
     },
     "metadata": {},
     "output_type": "display_data"
    },
    {
     "data": {
      "image/png": "[encoded data removed]",
      "text/plain": [
       "<Figure size 432x288 with 1 Axes>"
      ]
     },
     "metadata": {},
     "output_type": "display_data"
    },
    {
     "data": {
      "image/png": "[encoded data removed]",
      "text/plain": [
       "<Figure size 432x288 with 1 Axes>"
      ]
     },
     "metadata": {},
     "output_type": "display_data"
    },
    {
     "data": {
      "image/png": "[encoded data removed]",
      "text/plain": [
       "<Figure size 432x288 with 1 Axes>"
      ]
     },
     "metadata": {},
     "output_type": "display_data"
    },
    {
     "data": {
      "image/png": "[encoded data removed]",
      "text/plain": [
       "<Figure size 432x288 with 1 Axes>"
      ]
     },
     "metadata": {},
     "output_type": "display_data"
    },
    {
     "data": {
      "image/png": "[encoded data removed]",
      "text/plain": [
       "<Figure size 432x288 with 1 Axes>"
      ]
     },
     "metadata": {},
     "output_type": "display_data"
    },
    {
     "data": {
      "image/png": "[encoded data removed]",
      "text/plain": [
       "<Figure size 432x288 with 1 Axes>"
      ]
     },
     "metadata": {},
     "output_type": "display_data"
    },
    {
     "data": {
      "image/png": "[encoded data removed]",
      "text/plain": [
       "<Figure size 432x288 with 1 Axes>"
      ]
     },
     "metadata": {},
     "output_type": "display_data"
    },
    {
     "data": {
      "image/png": "[encoded data removed]",
      "text/plain": [
       "<Figure size 432x288 with 1 Axes>"
      ]
     },
     "metadata": {},
     "output_type": "display_data"
    },
    {
     "data": {
      "image/png": "[encoded data removed]",
      "text/plain": [
       "<Figure size 432x288 with 1 Axes>"
      ]
     },
     "metadata": {},
     "output_type": "display_data"
    },
    {
     "data": {
      "image/png": "[encoded data removed]",
      "text/plain": [
       "<Figure size 432x288 with 1 Axes>"
      ]
     },
     "metadata": {},
     "output_type": "display_data"
    },
    {
     "data": {
      "image/png": "[encoded data removed]",
      "text/plain": [
       "<Figure size 432x288 with 1 Axes>"
      ]
     },
     "metadata": {},
     "output_type": "display_data"
    },
    {
     "data": {
      "image/png": "[encoded data removed]",
      "text/plain": [
       "<Figure size 432x288 with 1 Axes>"
      ]
     },
     "metadata": {},
     "output_type": "display_data"
    },
    {
     "data": {
      "image/png": "[encoded data removed]",
      "text/plain": [
       "<Figure size 432x288 with 1 Axes>"
      ]
     },
     "metadata": {},
     "output_type": "display_data"
    },
    {
     "data": {
      "image/png": "[encoded data removed]",
      "text/plain": [
       "<Figure size 432x288 with 1 Axes>"
      ]
     },
     "metadata": {},
     "output_type": "display_data"
    },
    {
     "data": {
      "image/png": "[encoded data removed]",
      "text/plain": [
       "<Figure size 432x288 with 1 Axes>"
      ]
     },
     "metadata": {},
     "output_type": "display_data"
    },
    {
     "data": {
      "image/png": "[encoded data removed]",
      "text/plain": [
       "<Figure size 432x288 with 1 Axes>"
      ]
     },
     "metadata": {},
     "output_type": "display_data"
    },
    {
     "data": {
      "image/png": "[encoded data removed]",
      "text/plain": [
       "<Figure size 432x288 with 1 Axes>"
      ]
     },
     "metadata": {},
     "output_type": "display_data"
    },
    {
     "data": {
      "image/png": "[encoded data removed]",
      "text/plain": [
       "<Figure size 432x288 with 1 Axes>"
      ]
     },
     "metadata": {},
     "output_type": "display_data"
    },
    {
     "data": {
      "text/plain": [
       "<Figure size 432x288 with 0 Axes>"
      ]
     },
     "metadata": {},
     "output_type": "display_data"
    }
   ],
   "source": [
    "l=list(dataset.columns[0:20])\n",
    "for i in range(len(l)-1):\n",
    "    sns.boxplot(x='TARGET LABEL (SYMPTOM TIME)',y=l[i], data=dataset, palette='Set2')\n",
    "    plt.figure()"
   ]
  },
  {
   "cell_type": "markdown",
   "metadata": {
    "id": "5Gi-d-0aWkcH"
   },
   "source": [
    "## Membangun Model Random Forest"
   ]
  },
  {
   "cell_type": "code",
   "execution_count": 11,
   "metadata": {
    "ExecuteTime": {
     "end_time": "2021-11-16T13:35:58.064205Z",
     "start_time": "2021-11-16T13:35:58.052202Z"
    },
    "id": "f_7iypKrv9s3"
   },
   "outputs": [],
   "source": [
    "# Pemilihan Fitur\n",
    "X = dataset.drop(columns='TARGET LABEL (SYMPTOM TIME)')\n",
    "y = dataset['TARGET LABEL (SYMPTOM TIME)']"
   ]
  },
  {
   "cell_type": "code",
   "execution_count": 12,
   "metadata": {
    "ExecuteTime": {
     "end_time": "2021-11-16T13:35:58.175203Z",
     "start_time": "2021-11-16T13:35:58.067211Z"
    },
    "colab": {
     "base_uri": "https://localhost:8080/"
    },
    "id": "C-rrlzLowOOP",
    "outputId": "8ad8b581-4ca9-4ef3-afb4-c9de58ae711f"
   },
   "outputs": [
    {
     "data": {
      "text/html": [
       "<div>\n",
       "<style scoped>\n",
       "    .dataframe tbody tr th:only-of-type {\n",
       "        vertical-align: middle;\n",
       "    }\n",
       "\n",
       "    .dataframe tbody tr th {\n",
       "        vertical-align: top;\n",
       "    }\n",
       "\n",
       "    .dataframe thead th {\n",
       "        text-align: right;\n",
       "    }\n",
       "</style>\n",
       "<table border=\"1\" class=\"dataframe\">\n",
       "  <thead>\n",
       "    <tr style=\"text-align: right;\">\n",
       "      <th></th>\n",
       "      <th>Sex</th>\n",
       "      <th>Age</th>\n",
       "      <th>Professions</th>\n",
       "      <th>Education</th>\n",
       "      <th>Living Area</th>\n",
       "      <th>1. Swelling</th>\n",
       "      <th>2. Redness</th>\n",
       "      <th>4. Fever</th>\n",
       "      <th>5. Headache</th>\n",
       "      <th>6. Muscle Pain</th>\n",
       "      <th>7. Tiredness</th>\n",
       "      <th>8. Coughing</th>\n",
       "      <th>9. Diarrhea</th>\n",
       "      <th>10. Nausea and vomiting</th>\n",
       "      <th>11. Breathlessness</th>\n",
       "      <th>12. Joint Pain</th>\n",
       "      <th>14. Anaphylactic Reaction</th>\n",
       "      <th>15. Tingling</th>\n",
       "      <th>16. Swollen Lymph Nodes</th>\n",
       "    </tr>\n",
       "  </thead>\n",
       "  <tbody>\n",
       "    <tr>\n",
       "      <th>332</th>\n",
       "      <td>0</td>\n",
       "      <td>1</td>\n",
       "      <td>4</td>\n",
       "      <td>2</td>\n",
       "      <td>0</td>\n",
       "      <td>0</td>\n",
       "      <td>0</td>\n",
       "      <td>0</td>\n",
       "      <td>1</td>\n",
       "      <td>0</td>\n",
       "      <td>0</td>\n",
       "      <td>0</td>\n",
       "      <td>0</td>\n",
       "      <td>0</td>\n",
       "      <td>0</td>\n",
       "      <td>0</td>\n",
       "      <td>0</td>\n",
       "      <td>0</td>\n",
       "      <td>0</td>\n",
       "    </tr>\n",
       "    <tr>\n",
       "      <th>238</th>\n",
       "      <td>1</td>\n",
       "      <td>1</td>\n",
       "      <td>0</td>\n",
       "      <td>0</td>\n",
       "      <td>0</td>\n",
       "      <td>0</td>\n",
       "      <td>0</td>\n",
       "      <td>0</td>\n",
       "      <td>0</td>\n",
       "      <td>1</td>\n",
       "      <td>0</td>\n",
       "      <td>0</td>\n",
       "      <td>0</td>\n",
       "      <td>0</td>\n",
       "      <td>0</td>\n",
       "      <td>0</td>\n",
       "      <td>0</td>\n",
       "      <td>0</td>\n",
       "      <td>0</td>\n",
       "    </tr>\n",
       "    <tr>\n",
       "      <th>127</th>\n",
       "      <td>0</td>\n",
       "      <td>5</td>\n",
       "      <td>3</td>\n",
       "      <td>0</td>\n",
       "      <td>0</td>\n",
       "      <td>0</td>\n",
       "      <td>0</td>\n",
       "      <td>0</td>\n",
       "      <td>0</td>\n",
       "      <td>0</td>\n",
       "      <td>0</td>\n",
       "      <td>0</td>\n",
       "      <td>0</td>\n",
       "      <td>0</td>\n",
       "      <td>0</td>\n",
       "      <td>0</td>\n",
       "      <td>0</td>\n",
       "      <td>0</td>\n",
       "      <td>0</td>\n",
       "    </tr>\n",
       "    <tr>\n",
       "      <th>107</th>\n",
       "      <td>0</td>\n",
       "      <td>2</td>\n",
       "      <td>3</td>\n",
       "      <td>3</td>\n",
       "      <td>0</td>\n",
       "      <td>0</td>\n",
       "      <td>0</td>\n",
       "      <td>0</td>\n",
       "      <td>1</td>\n",
       "      <td>1</td>\n",
       "      <td>1</td>\n",
       "      <td>0</td>\n",
       "      <td>0</td>\n",
       "      <td>1</td>\n",
       "      <td>0</td>\n",
       "      <td>0</td>\n",
       "      <td>0</td>\n",
       "      <td>0</td>\n",
       "      <td>0</td>\n",
       "    </tr>\n",
       "    <tr>\n",
       "      <th>76</th>\n",
       "      <td>0</td>\n",
       "      <td>7</td>\n",
       "      <td>1</td>\n",
       "      <td>2</td>\n",
       "      <td>0</td>\n",
       "      <td>0</td>\n",
       "      <td>0</td>\n",
       "      <td>0</td>\n",
       "      <td>1</td>\n",
       "      <td>0</td>\n",
       "      <td>0</td>\n",
       "      <td>0</td>\n",
       "      <td>0</td>\n",
       "      <td>0</td>\n",
       "      <td>0</td>\n",
       "      <td>0</td>\n",
       "      <td>0</td>\n",
       "      <td>0</td>\n",
       "      <td>0</td>\n",
       "    </tr>\n",
       "    <tr>\n",
       "      <th>...</th>\n",
       "      <td>...</td>\n",
       "      <td>...</td>\n",
       "      <td>...</td>\n",
       "      <td>...</td>\n",
       "      <td>...</td>\n",
       "      <td>...</td>\n",
       "      <td>...</td>\n",
       "      <td>...</td>\n",
       "      <td>...</td>\n",
       "      <td>...</td>\n",
       "      <td>...</td>\n",
       "      <td>...</td>\n",
       "      <td>...</td>\n",
       "      <td>...</td>\n",
       "      <td>...</td>\n",
       "      <td>...</td>\n",
       "      <td>...</td>\n",
       "      <td>...</td>\n",
       "      <td>...</td>\n",
       "    </tr>\n",
       "    <tr>\n",
       "      <th>404</th>\n",
       "      <td>1</td>\n",
       "      <td>0</td>\n",
       "      <td>3</td>\n",
       "      <td>0</td>\n",
       "      <td>0</td>\n",
       "      <td>0</td>\n",
       "      <td>0</td>\n",
       "      <td>0</td>\n",
       "      <td>1</td>\n",
       "      <td>1</td>\n",
       "      <td>1</td>\n",
       "      <td>0</td>\n",
       "      <td>0</td>\n",
       "      <td>0</td>\n",
       "      <td>0</td>\n",
       "      <td>0</td>\n",
       "      <td>0</td>\n",
       "      <td>0</td>\n",
       "      <td>0</td>\n",
       "    </tr>\n",
       "    <tr>\n",
       "      <th>195</th>\n",
       "      <td>0</td>\n",
       "      <td>3</td>\n",
       "      <td>4</td>\n",
       "      <td>0</td>\n",
       "      <td>1</td>\n",
       "      <td>0</td>\n",
       "      <td>0</td>\n",
       "      <td>0</td>\n",
       "      <td>0</td>\n",
       "      <td>0</td>\n",
       "      <td>0</td>\n",
       "      <td>0</td>\n",
       "      <td>0</td>\n",
       "      <td>0</td>\n",
       "      <td>0</td>\n",
       "      <td>0</td>\n",
       "      <td>0</td>\n",
       "      <td>0</td>\n",
       "      <td>0</td>\n",
       "    </tr>\n",
       "    <tr>\n",
       "      <th>431</th>\n",
       "      <td>0</td>\n",
       "      <td>2</td>\n",
       "      <td>4</td>\n",
       "      <td>0</td>\n",
       "      <td>0</td>\n",
       "      <td>0</td>\n",
       "      <td>0</td>\n",
       "      <td>0</td>\n",
       "      <td>0</td>\n",
       "      <td>0</td>\n",
       "      <td>1</td>\n",
       "      <td>0</td>\n",
       "      <td>0</td>\n",
       "      <td>0</td>\n",
       "      <td>1</td>\n",
       "      <td>0</td>\n",
       "      <td>0</td>\n",
       "      <td>0</td>\n",
       "      <td>0</td>\n",
       "    </tr>\n",
       "    <tr>\n",
       "      <th>140</th>\n",
       "      <td>0</td>\n",
       "      <td>2</td>\n",
       "      <td>4</td>\n",
       "      <td>0</td>\n",
       "      <td>0</td>\n",
       "      <td>0</td>\n",
       "      <td>0</td>\n",
       "      <td>0</td>\n",
       "      <td>0</td>\n",
       "      <td>0</td>\n",
       "      <td>1</td>\n",
       "      <td>1</td>\n",
       "      <td>0</td>\n",
       "      <td>0</td>\n",
       "      <td>0</td>\n",
       "      <td>0</td>\n",
       "      <td>0</td>\n",
       "      <td>0</td>\n",
       "      <td>0</td>\n",
       "    </tr>\n",
       "    <tr>\n",
       "      <th>54</th>\n",
       "      <td>0</td>\n",
       "      <td>0</td>\n",
       "      <td>4</td>\n",
       "      <td>0</td>\n",
       "      <td>1</td>\n",
       "      <td>1</td>\n",
       "      <td>1</td>\n",
       "      <td>0</td>\n",
       "      <td>0</td>\n",
       "      <td>0</td>\n",
       "      <td>0</td>\n",
       "      <td>0</td>\n",
       "      <td>0</td>\n",
       "      <td>0</td>\n",
       "      <td>0</td>\n",
       "      <td>0</td>\n",
       "      <td>0</td>\n",
       "      <td>0</td>\n",
       "      <td>0</td>\n",
       "    </tr>\n",
       "  </tbody>\n",
       "</table>\n",
       "<p>89 rows × 19 columns</p>\n",
       "</div>"
      ],
      "text/plain": [
       "     Sex  Age  Professions  Education  Living Area  1. Swelling  2. Redness  \\\n",
       "332    0    1            4          2            0            0           0   \n",
       "238    1    1            0          0            0            0           0   \n",
       "127    0    5            3          0            0            0           0   \n",
       "107    0    2            3          3            0            0           0   \n",
       "76     0    7            1          2            0            0           0   \n",
       "..   ...  ...          ...        ...          ...          ...         ...   \n",
       "404    1    0            3          0            0            0           0   \n",
       "195    0    3            4          0            1            0           0   \n",
       "431    0    2            4          0            0            0           0   \n",
       "140    0    2            4          0            0            0           0   \n",
       "54     0    0            4          0            1            1           1   \n",
       "\n",
       "     4. Fever  5. Headache  6. Muscle Pain  7. Tiredness  8. Coughing  \\\n",
       "332         0            1               0             0            0   \n",
       "238         0            0               1             0            0   \n",
       "127         0            0               0             0            0   \n",
       "107         0            1               1             1            0   \n",
       "76          0            1               0             0            0   \n",
       "..        ...          ...             ...           ...          ...   \n",
       "404         0            1               1             1            0   \n",
       "195         0            0               0             0            0   \n",
       "431         0            0               0             1            0   \n",
       "140         0            0               0             1            1   \n",
       "54          0            0               0             0            0   \n",
       "\n",
       "     9. Diarrhea  10. Nausea and vomiting  11. Breathlessness  12. Joint Pain  \\\n",
       "332            0                        0                   0               0   \n",
       "238            0                        0                   0               0   \n",
       "127            0                        0                   0               0   \n",
       "107            0                        1                   0               0   \n",
       "76             0                        0                   0               0   \n",
       "..           ...                      ...                 ...             ...   \n",
       "404            0                        0                   0               0   \n",
       "195            0                        0                   0               0   \n",
       "431            0                        0                   1               0   \n",
       "140            0                        0                   0               0   \n",
       "54             0                        0                   0               0   \n",
       "\n",
       "     14. Anaphylactic Reaction  15. Tingling  16. Swollen Lymph Nodes  \n",
       "332                          0             0                        0  \n",
       "238                          0             0                        0  \n",
       "127                          0             0                        0  \n",
       "107                          0             0                        0  \n",
       "76                           0             0                        0  \n",
       "..                         ...           ...                      ...  \n",
       "404                          0             0                        0  \n",
       "195                          0             0                        0  \n",
       "431                          0             0                        0  \n",
       "140                          0             0                        0  \n",
       "54                           0             0                        0  \n",
       "\n",
       "[89 rows x 19 columns]"
      ]
     },
     "execution_count": 12,
     "metadata": {},
     "output_type": "execute_result"
    }
   ],
   "source": [
    "# Menjadi dataset ke dalam Training set dan Test set\n",
    "from sklearn.model_selection import train_test_split\n",
    "X_train, X_test, y_train, y_test = train_test_split(X, y, test_size = 0.2, random_state = 0)\n",
    "X_test"
   ]
  },
  {
   "cell_type": "code",
   "execution_count": 13,
   "metadata": {
    "ExecuteTime": {
     "end_time": "2021-11-16T13:35:58.205446Z",
     "start_time": "2021-11-16T13:35:58.177207Z"
    },
    "colab": {
     "base_uri": "https://localhost:8080/"
    },
    "id": "Jcn9DaKzwz4y",
    "outputId": "2ab49c0e-6b45-4b7d-f9a1-e1aa6002deaa"
   },
   "outputs": [
    {
     "data": {
      "text/plain": [
       "array([[-0.62186715,  3.25671226, -3.17085659, ..., -0.07527099,\n",
       "        -0.33593551, -0.07527099],\n",
       "       [ 1.6080605 , -0.86497349,  0.7006966 , ..., -0.07527099,\n",
       "        -0.33593551, -0.07527099],\n",
       "       [-0.62186715,  1.19586939,  0.7006966 , ..., -0.07527099,\n",
       "        -0.33593551, -0.07527099],\n",
       "       ...,\n",
       "       [-0.62186715,  0.68065867,  0.7006966 , ..., -0.07527099,\n",
       "        -0.33593551, -0.07527099],\n",
       "       [-0.62186715,  1.7110801 , -0.2671917 , ..., -0.07527099,\n",
       "        -0.33593551, -0.07527099],\n",
       "       [-0.62186715,  0.16544795,  0.7006966 , ..., -0.07527099,\n",
       "        -0.33593551, -0.07527099]])"
      ]
     },
     "execution_count": 13,
     "metadata": {},
     "output_type": "execute_result"
    }
   ],
   "source": [
    "# Feature Scaling\n",
    "from sklearn.preprocessing import StandardScaler\n",
    "sc = StandardScaler()\n",
    "X_train = sc.fit_transform(X_train)\n",
    "X_test = sc.transform(X_test)\n",
    "X_train"
   ]
  },
  {
   "cell_type": "code",
   "execution_count": 14,
   "metadata": {
    "ExecuteTime": {
     "end_time": "2021-11-16T13:35:59.533612Z",
     "start_time": "2021-11-16T13:35:58.209407Z"
    },
    "colab": {
     "base_uri": "https://localhost:8080/"
    },
    "id": "fv8jt7JCxTwZ",
    "outputId": "86967109-78fb-424b-b4f4-642521828443"
   },
   "outputs": [
    {
     "data": {
      "text/plain": [
       "RandomForestClassifier(criterion='entropy', n_estimators=500, random_state=0)"
      ]
     },
     "execution_count": 14,
     "metadata": {},
     "output_type": "execute_result"
    }
   ],
   "source": [
    "# Membuat model Random Forest Classification terhadap Training set\n",
    "from sklearn.ensemble import RandomForestClassifier\n",
    "classifier = RandomForestClassifier(n_estimators = 500, criterion = 'entropy', random_state = 0)\n",
    "classifier.fit(X_train, y_train)"
   ]
  },
  {
   "cell_type": "code",
   "execution_count": 15,
   "metadata": {
    "ExecuteTime": {
     "end_time": "2021-11-16T13:35:59.628404Z",
     "start_time": "2021-11-16T13:35:59.535402Z"
    },
    "colab": {
     "base_uri": "https://localhost:8080/"
    },
    "id": "BhT3Y7xSzQT4",
    "outputId": "1925f333-e527-418d-ba87-bb0948522e67"
   },
   "outputs": [
    {
     "data": {
      "text/plain": [
       "array([1, 3, 3, 1, 3, 0, 3, 3, 3, 0, 3, 3, 3, 1, 3, 3, 1, 3, 3, 1, 3, 1,\n",
       "       3, 3, 1, 1, 3, 3, 3, 3, 3, 3, 1, 1, 3, 3, 3, 0, 3, 3, 3, 0, 3, 0,\n",
       "       1, 3, 3, 1, 1, 1, 1, 1, 0, 1, 3, 1, 0, 1, 0, 3, 3, 3, 1, 1, 1, 3,\n",
       "       3, 3, 1, 1, 1, 1, 0, 3, 3, 1, 3, 1, 3, 1, 0, 3, 3, 3, 1, 3, 1, 0,\n",
       "       3])"
      ]
     },
     "execution_count": 15,
     "metadata": {},
     "output_type": "execute_result"
    }
   ],
   "source": [
    "# Memprediksi hasil test set\n",
    "y_pred = classifier.predict(X_test)\n",
    "y_pred"
   ]
  },
  {
   "cell_type": "code",
   "execution_count": 16,
   "metadata": {
    "ExecuteTime": {
     "end_time": "2021-11-16T13:35:59.644411Z",
     "start_time": "2021-11-16T13:35:59.631404Z"
    },
    "colab": {
     "base_uri": "https://localhost:8080/"
    },
    "id": "5JtS0oxzzluP",
    "outputId": "4b09c5ce-cf4a-4e75-a2b1-e91d37c30052"
   },
   "outputs": [
    {
     "data": {
      "text/plain": [
       "array([[ 6,  9,  0,  4],\n",
       "       [ 5, 13,  0, 16],\n",
       "       [ 0,  2,  0,  1],\n",
       "       [ 0,  7,  0, 26]], dtype=int64)"
      ]
     },
     "execution_count": 16,
     "metadata": {},
     "output_type": "execute_result"
    }
   ],
   "source": [
    "# Membuat confusion matrix\n",
    "from sklearn.metrics import confusion_matrix\n",
    "cm = confusion_matrix(y_test, y_pred)\n",
    "cm"
   ]
  },
  {
   "cell_type": "code",
   "execution_count": 17,
   "metadata": {
    "ExecuteTime": {
     "end_time": "2021-11-16T13:35:59.927442Z",
     "start_time": "2021-11-16T13:35:59.649409Z"
    },
    "colab": {
     "base_uri": "https://localhost:8080/",
     "height": 335
    },
    "id": "DQ2PzjUoz0U3",
    "outputId": "25dfe860-9a0e-427c-8325-4351ba3033e2"
   },
   "outputs": [
    {
     "data": {
      "image/png": "[encoded data removed]",
      "text/plain": [
       "<Figure size 576x360 with 2 Axes>"
      ]
     },
     "metadata": {},
     "output_type": "display_data"
    }
   ],
   "source": [
    "f, ax = plt.subplots(figsize=(8,5))\n",
    "sns.heatmap(confusion_matrix(y_test, y_pred), annot=True, fmt=\".0f\", ax=ax)\n",
    "plt.xlabel(\"y_head\")\n",
    "plt.ylabel(\"y_true\")\n",
    "plt.show()"
   ]
  },
  {
   "cell_type": "code",
   "execution_count": 18,
   "metadata": {
    "ExecuteTime": {
     "end_time": "2021-11-16T13:35:59.959403Z",
     "start_time": "2021-11-16T13:35:59.931407Z"
    },
    "colab": {
     "base_uri": "https://localhost:8080/"
    },
    "id": "2E1E36mp9Of-",
    "outputId": "0a849b56-d71a-42c2-9869-b08ef86ce917"
   },
   "outputs": [
    {
     "name": "stdout",
     "output_type": "stream",
     "text": [
      "              precision    recall  f1-score   support\n",
      "\n",
      "           0       0.55      0.32      0.40        19\n",
      "           1       0.42      0.38      0.40        34\n",
      "           2       0.00      0.00      0.00         3\n",
      "           3       0.55      0.79      0.65        33\n",
      "\n",
      "    accuracy                           0.51        89\n",
      "   macro avg       0.38      0.37      0.36        89\n",
      "weighted avg       0.48      0.51      0.48        89\n",
      "\n"
     ]
    },
    {
     "name": "stderr",
     "output_type": "stream",
     "text": [
      "C:\\Users\\user\\anaconda3\\lib\\site-packages\\sklearn\\metrics\\_classification.py:1308: UndefinedMetricWarning: Precision and F-score are ill-defined and being set to 0.0 in labels with no predicted samples. Use `zero_division` parameter to control this behavior.\n",
      "  _warn_prf(average, modifier, msg_start, len(result))\n",
      "C:\\Users\\user\\anaconda3\\lib\\site-packages\\sklearn\\metrics\\_classification.py:1308: UndefinedMetricWarning: Precision and F-score are ill-defined and being set to 0.0 in labels with no predicted samples. Use `zero_division` parameter to control this behavior.\n",
      "  _warn_prf(average, modifier, msg_start, len(result))\n",
      "C:\\Users\\user\\anaconda3\\lib\\site-packages\\sklearn\\metrics\\_classification.py:1308: UndefinedMetricWarning: Precision and F-score are ill-defined and being set to 0.0 in labels with no predicted samples. Use `zero_division` parameter to control this behavior.\n",
      "  _warn_prf(average, modifier, msg_start, len(result))\n"
     ]
    }
   ],
   "source": [
    "# Akurasi dari RandomForest\n",
    "\n",
    "from sklearn.metrics import classification_report\n",
    "print(classification_report(y_test, y_pred))"
   ]
  },
  {
   "cell_type": "code",
   "execution_count": null,
   "metadata": {},
   "outputs": [],
   "source": []
  }
 ],
 "metadata": {
  "colab": {
   "collapsed_sections": [],
   "name": "RandomForest.ipynb",
   "provenance": []
  },
  "kernelspec": {
   "display_name": "Python 3 (ipykernel)",
   "language": "python",
   "name": "python3"
  },
  "language_info": {
   "codemirror_mode": {
    "name": "ipython",
    "version": 3
   },
   "file_extension": ".py",
   "mimetype": "text/x-python",
   "name": "python",
   "nbconvert_exporter": "python",
   "pygments_lexer": "ipython3",
   "version": "3.8.12"
  },
  "toc": {
   "base_numbering": 1,
   "nav_menu": {},
   "number_sections": true,
   "sideBar": true,
   "skip_h1_title": false,
   "title_cell": "Table of Contents",
   "title_sidebar": "Contents",
   "toc_cell": false,
   "toc_position": {},
   "toc_section_display": true,
   "toc_window_display": false
  }
 },
 "nbformat": 4,
 "nbformat_minor": 1
}
