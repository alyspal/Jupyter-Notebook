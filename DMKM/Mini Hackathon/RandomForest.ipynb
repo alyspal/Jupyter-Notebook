{
 "cells": [
  {
   "cell_type": "markdown",
   "metadata": {
    "id": "KLna0RcMVbdB"
   },
   "source": [
    "## Data Preparation"
   ]
  },
  {
   "cell_type": "code",
   "execution_count": 1,
   "metadata": {
    "id": "UzPOldcntkIZ"
   },
   "outputs": [],
   "source": [
    "# Mengimpor library yang diperlukan\n",
    "import numpy as np\n",
    "import matplotlib.pyplot as plt\n",
    "import pandas as pd\n",
    "import seaborn as sns"
   ]
  },
  {
   "cell_type": "code",
   "execution_count": 2,
   "metadata": {
    "colab": {
     "base_uri": "https://localhost:8080/"
    },
    "id": "15qCeF9ovm9g",
    "outputId": "9a77c622-4f5c-46d8-986c-f08e5795029d"
   },
   "outputs": [
    {
     "name": "stdout",
     "output_type": "stream",
     "text": [
      "<class 'pandas.core.frame.DataFrame'>\n",
      "RangeIndex: 13626 entries, 0 to 13625\n",
      "Data columns (total 14 columns):\n",
      " #   Column      Non-Null Count  Dtype  \n",
      "---  ------      --------------  -----  \n",
      " 0   ID          13626 non-null  int64  \n",
      " 1   Provinsi    13626 non-null  int64  \n",
      " 2   KodeKabKot  13626 non-null  int64  \n",
      " 3   Y           13626 non-null  int64  \n",
      " 4   X1          13626 non-null  int64  \n",
      " 5   X2          13626 non-null  int64  \n",
      " 6   X3          13626 non-null  int64  \n",
      " 7   X4          13626 non-null  int64  \n",
      " 8   X5          13626 non-null  int64  \n",
      " 9   X6          13626 non-null  int64  \n",
      " 10  Z1          13626 non-null  float64\n",
      " 11  Z2          13626 non-null  float64\n",
      " 12  Z3          13626 non-null  float64\n",
      " 13  Z4          13621 non-null  float64\n",
      "dtypes: float64(4), int64(10)\n",
      "memory usage: 1.5 MB\n"
     ]
    }
   ],
   "source": [
    "# Mengimpor dataset\n",
    "datatrain = pd.read_csv('Train.csv')\n",
    "datatrain.info()"
   ]
  },
  {
   "cell_type": "code",
   "execution_count": 3,
   "metadata": {},
   "outputs": [
    {
     "name": "stdout",
     "output_type": "stream",
     "text": [
      "<class 'pandas.core.frame.DataFrame'>\n",
      "RangeIndex: 5906 entries, 0 to 5905\n",
      "Data columns (total 13 columns):\n",
      " #   Column      Non-Null Count  Dtype  \n",
      "---  ------      --------------  -----  \n",
      " 0   ID          5906 non-null   int64  \n",
      " 1   Provinsi    5906 non-null   int64  \n",
      " 2   KodeKabKot  5906 non-null   int64  \n",
      " 3   X1          5906 non-null   int64  \n",
      " 4   X2          5906 non-null   int64  \n",
      " 5   X3          5906 non-null   int64  \n",
      " 6   X4          5906 non-null   int64  \n",
      " 7   X5          5906 non-null   int64  \n",
      " 8   X6          5906 non-null   int64  \n",
      " 9   Z1          5906 non-null   float64\n",
      " 10  Z2          5906 non-null   float64\n",
      " 11  Z3          5906 non-null   float64\n",
      " 12  Z4          5901 non-null   float64\n",
      "dtypes: float64(4), int64(9)\n",
      "memory usage: 600.0 KB\n"
     ]
    }
   ],
   "source": [
    "datatest = pd.read_csv('Test.csv')\n",
    "datatest.info()"
   ]
  },
  {
   "cell_type": "markdown",
   "metadata": {
    "id": "foHy4daLVsAw"
   },
   "source": [
    "### Periksa Data"
   ]
  },
  {
   "cell_type": "code",
   "execution_count": 4,
   "metadata": {
    "colab": {
     "base_uri": "https://localhost:8080/"
    },
    "id": "4LitEmnEOdLe",
    "outputId": "5f497968-ddd5-423e-c77e-c7565871ad57"
   },
   "outputs": [
    {
     "data": {
      "text/plain": [
       "Index(['ID', 'Provinsi', 'KodeKabKot', 'Y', 'X1', 'X2', 'X3', 'X4', 'X5', 'X6',\n",
       "       'Z1', 'Z2', 'Z3', 'Z4'],\n",
       "      dtype='object')"
      ]
     },
     "execution_count": 4,
     "metadata": {},
     "output_type": "execute_result"
    }
   ],
   "source": [
    "datatrain.keys()"
   ]
  },
  {
   "cell_type": "code",
   "execution_count": 5,
   "metadata": {
    "colab": {
     "base_uri": "https://localhost:8080/"
    },
    "id": "7amvoSM5T1S5",
    "outputId": "372ecee8-bb75-494d-f1bb-4ed117777e06"
   },
   "outputs": [
    {
     "data": {
      "text/plain": [
       "<bound method NDFrame.describe of           ID  Provinsi  KodeKabKot  Y  X1  X2  X3  X4  X5  X6     Z1      Z2  \\\n",
       "0          1        11        1101  0   1  27   0   0   1   1  1.077  15.075   \n",
       "1          2        11        1101  0   1  38   0   0   1   0  1.077  15.075   \n",
       "2          4        11        1101  0   0  36   0   0   0   1  1.077  15.075   \n",
       "3          7        11        1101  0   0  27   0   0   1   1  1.077  15.075   \n",
       "4          8        11        1101  0   1  36   1   0   0   0  1.077  15.075   \n",
       "...      ...       ...         ... ..  ..  ..  ..  ..  ..  ..    ...     ...   \n",
       "13621  19524        94        9471  1   0  28   1   0   1   1  1.757   3.262   \n",
       "13622  19526        94        9471  0   1  22   1   1   1   1  1.757   3.262   \n",
       "13623  19527        94        9471  0   0  35   1   0   1   1  1.757   3.262   \n",
       "13624  19529        94        9471  0   0  27   1   0   1   1  1.757   3.262   \n",
       "13625  19530        94        9471  1   0  39   1   1   1   1  1.757   3.262   \n",
       "\n",
       "           Z3       Z4  \n",
       "0      26.919  390.869  \n",
       "1      26.919  390.869  \n",
       "2      26.919  390.869  \n",
       "3      26.919  390.869  \n",
       "4      26.919  390.869  \n",
       "...       ...      ...  \n",
       "13621  48.936  209.045  \n",
       "13622  48.936  209.045  \n",
       "13623  48.936  209.045  \n",
       "13624  48.936  209.045  \n",
       "13625  48.936  209.045  \n",
       "\n",
       "[13626 rows x 14 columns]>"
      ]
     },
     "execution_count": 5,
     "metadata": {},
     "output_type": "execute_result"
    }
   ],
   "source": [
    "datatrain.describe"
   ]
  },
  {
   "cell_type": "code",
   "execution_count": 6,
   "metadata": {
    "colab": {
     "base_uri": "https://localhost:8080/"
    },
    "id": "aAfsOMiIUcK5",
    "outputId": "f9ea29d9-4e73-44ac-ed31-82b0b3978bd0"
   },
   "outputs": [
    {
     "data": {
      "text/plain": [
       "5"
      ]
     },
     "execution_count": 6,
     "metadata": {},
     "output_type": "execute_result"
    }
   ],
   "source": [
    "np.sum(pd.isnull(datatrain).sum()) # Sum of the count of null objects in all columns of data frame"
   ]
  },
  {
   "cell_type": "code",
   "execution_count": 7,
   "metadata": {},
   "outputs": [
    {
     "data": {
      "text/plain": [
       "5"
      ]
     },
     "execution_count": 7,
     "metadata": {},
     "output_type": "execute_result"
    }
   ],
   "source": [
    "np.sum(pd.isnull(datatest).sum())"
   ]
  },
  {
   "cell_type": "code",
   "execution_count": 8,
   "metadata": {},
   "outputs": [],
   "source": [
    "datatrain = datatrain.fillna(datatrain.median())\n",
    "datatest = datatest.fillna(datatest.median())"
   ]
  },
  {
   "cell_type": "code",
   "execution_count": 9,
   "metadata": {
    "colab": {
     "base_uri": "https://localhost:8080/",
     "height": 203
    },
    "id": "6_nk8cmFUvin",
    "outputId": "8984b965-af53-4e07-afa7-531eebcf6dcb"
   },
   "outputs": [
    {
     "data": {
      "text/html": [
       "<div>\n",
       "<style scoped>\n",
       "    .dataframe tbody tr th:only-of-type {\n",
       "        vertical-align: middle;\n",
       "    }\n",
       "\n",
       "    .dataframe tbody tr th {\n",
       "        vertical-align: top;\n",
       "    }\n",
       "\n",
       "    .dataframe thead th {\n",
       "        text-align: right;\n",
       "    }\n",
       "</style>\n",
       "<table border=\"1\" class=\"dataframe\">\n",
       "  <thead>\n",
       "    <tr style=\"text-align: right;\">\n",
       "      <th></th>\n",
       "      <th>ID</th>\n",
       "      <th>Provinsi</th>\n",
       "      <th>KodeKabKot</th>\n",
       "      <th>Y</th>\n",
       "      <th>X1</th>\n",
       "      <th>X2</th>\n",
       "      <th>X3</th>\n",
       "      <th>X4</th>\n",
       "      <th>X5</th>\n",
       "      <th>X6</th>\n",
       "      <th>Z1</th>\n",
       "      <th>Z2</th>\n",
       "      <th>Z3</th>\n",
       "      <th>Z4</th>\n",
       "    </tr>\n",
       "  </thead>\n",
       "  <tbody>\n",
       "    <tr>\n",
       "      <th>0</th>\n",
       "      <td>1</td>\n",
       "      <td>11</td>\n",
       "      <td>1101</td>\n",
       "      <td>0</td>\n",
       "      <td>1</td>\n",
       "      <td>27</td>\n",
       "      <td>0</td>\n",
       "      <td>0</td>\n",
       "      <td>1</td>\n",
       "      <td>1</td>\n",
       "      <td>1.077</td>\n",
       "      <td>15.075</td>\n",
       "      <td>26.919</td>\n",
       "      <td>390.869</td>\n",
       "    </tr>\n",
       "    <tr>\n",
       "      <th>1</th>\n",
       "      <td>2</td>\n",
       "      <td>11</td>\n",
       "      <td>1101</td>\n",
       "      <td>0</td>\n",
       "      <td>1</td>\n",
       "      <td>38</td>\n",
       "      <td>0</td>\n",
       "      <td>0</td>\n",
       "      <td>1</td>\n",
       "      <td>0</td>\n",
       "      <td>1.077</td>\n",
       "      <td>15.075</td>\n",
       "      <td>26.919</td>\n",
       "      <td>390.869</td>\n",
       "    </tr>\n",
       "    <tr>\n",
       "      <th>2</th>\n",
       "      <td>4</td>\n",
       "      <td>11</td>\n",
       "      <td>1101</td>\n",
       "      <td>0</td>\n",
       "      <td>0</td>\n",
       "      <td>36</td>\n",
       "      <td>0</td>\n",
       "      <td>0</td>\n",
       "      <td>0</td>\n",
       "      <td>1</td>\n",
       "      <td>1.077</td>\n",
       "      <td>15.075</td>\n",
       "      <td>26.919</td>\n",
       "      <td>390.869</td>\n",
       "    </tr>\n",
       "    <tr>\n",
       "      <th>3</th>\n",
       "      <td>7</td>\n",
       "      <td>11</td>\n",
       "      <td>1101</td>\n",
       "      <td>0</td>\n",
       "      <td>0</td>\n",
       "      <td>27</td>\n",
       "      <td>0</td>\n",
       "      <td>0</td>\n",
       "      <td>1</td>\n",
       "      <td>1</td>\n",
       "      <td>1.077</td>\n",
       "      <td>15.075</td>\n",
       "      <td>26.919</td>\n",
       "      <td>390.869</td>\n",
       "    </tr>\n",
       "    <tr>\n",
       "      <th>4</th>\n",
       "      <td>8</td>\n",
       "      <td>11</td>\n",
       "      <td>1101</td>\n",
       "      <td>0</td>\n",
       "      <td>1</td>\n",
       "      <td>36</td>\n",
       "      <td>1</td>\n",
       "      <td>0</td>\n",
       "      <td>0</td>\n",
       "      <td>0</td>\n",
       "      <td>1.077</td>\n",
       "      <td>15.075</td>\n",
       "      <td>26.919</td>\n",
       "      <td>390.869</td>\n",
       "    </tr>\n",
       "  </tbody>\n",
       "</table>\n",
       "</div>"
      ],
      "text/plain": [
       "   ID  Provinsi  KodeKabKot  Y  X1  X2  X3  X4  X5  X6     Z1      Z2      Z3  \\\n",
       "0   1        11        1101  0   1  27   0   0   1   1  1.077  15.075  26.919   \n",
       "1   2        11        1101  0   1  38   0   0   1   0  1.077  15.075  26.919   \n",
       "2   4        11        1101  0   0  36   0   0   0   1  1.077  15.075  26.919   \n",
       "3   7        11        1101  0   0  27   0   0   1   1  1.077  15.075  26.919   \n",
       "4   8        11        1101  0   1  36   1   0   0   0  1.077  15.075  26.919   \n",
       "\n",
       "        Z4  \n",
       "0  390.869  \n",
       "1  390.869  \n",
       "2  390.869  \n",
       "3  390.869  \n",
       "4  390.869  "
      ]
     },
     "execution_count": 9,
     "metadata": {},
     "output_type": "execute_result"
    }
   ],
   "source": [
    "datatrain.head()"
   ]
  },
  {
   "cell_type": "markdown",
   "metadata": {
    "id": "IQYTksBLVTQE"
   },
   "source": [
    "## Exploratory Data Analysis\n"
   ]
  },
  {
   "cell_type": "markdown",
   "metadata": {
    "id": "0tkuEmWpWSGA"
   },
   "source": [
    "Periksa Data apakah data Purchased tersebar secara merata atau imbalance "
   ]
  },
  {
   "cell_type": "code",
   "execution_count": 11,
   "metadata": {},
   "outputs": [
    {
     "data": {
      "text/html": [
       "<div>\n",
       "<style scoped>\n",
       "    .dataframe tbody tr th:only-of-type {\n",
       "        vertical-align: middle;\n",
       "    }\n",
       "\n",
       "    .dataframe tbody tr th {\n",
       "        vertical-align: top;\n",
       "    }\n",
       "\n",
       "    .dataframe thead th {\n",
       "        text-align: right;\n",
       "    }\n",
       "</style>\n",
       "<table border=\"1\" class=\"dataframe\">\n",
       "  <thead>\n",
       "    <tr style=\"text-align: right;\">\n",
       "      <th></th>\n",
       "      <th>ID</th>\n",
       "      <th>Provinsi</th>\n",
       "      <th>KodeKabKot</th>\n",
       "      <th>Y</th>\n",
       "      <th>X1</th>\n",
       "      <th>X2</th>\n",
       "      <th>X3</th>\n",
       "      <th>X4</th>\n",
       "      <th>X5</th>\n",
       "      <th>X6</th>\n",
       "      <th>Z1</th>\n",
       "      <th>Z2</th>\n",
       "      <th>Z3</th>\n",
       "      <th>Z4</th>\n",
       "    </tr>\n",
       "  </thead>\n",
       "  <tbody>\n",
       "    <tr>\n",
       "      <th>0</th>\n",
       "      <td>0</td>\n",
       "      <td>0</td>\n",
       "      <td>0</td>\n",
       "      <td>0</td>\n",
       "      <td>1</td>\n",
       "      <td>13</td>\n",
       "      <td>0</td>\n",
       "      <td>0</td>\n",
       "      <td>1</td>\n",
       "      <td>1</td>\n",
       "      <td>248</td>\n",
       "      <td>458</td>\n",
       "      <td>257</td>\n",
       "      <td>471</td>\n",
       "    </tr>\n",
       "    <tr>\n",
       "      <th>1</th>\n",
       "      <td>1</td>\n",
       "      <td>0</td>\n",
       "      <td>0</td>\n",
       "      <td>0</td>\n",
       "      <td>1</td>\n",
       "      <td>24</td>\n",
       "      <td>0</td>\n",
       "      <td>0</td>\n",
       "      <td>1</td>\n",
       "      <td>0</td>\n",
       "      <td>248</td>\n",
       "      <td>458</td>\n",
       "      <td>257</td>\n",
       "      <td>471</td>\n",
       "    </tr>\n",
       "    <tr>\n",
       "      <th>2</th>\n",
       "      <td>2</td>\n",
       "      <td>0</td>\n",
       "      <td>0</td>\n",
       "      <td>0</td>\n",
       "      <td>0</td>\n",
       "      <td>22</td>\n",
       "      <td>0</td>\n",
       "      <td>0</td>\n",
       "      <td>0</td>\n",
       "      <td>1</td>\n",
       "      <td>248</td>\n",
       "      <td>458</td>\n",
       "      <td>257</td>\n",
       "      <td>471</td>\n",
       "    </tr>\n",
       "    <tr>\n",
       "      <th>3</th>\n",
       "      <td>3</td>\n",
       "      <td>0</td>\n",
       "      <td>0</td>\n",
       "      <td>0</td>\n",
       "      <td>0</td>\n",
       "      <td>13</td>\n",
       "      <td>0</td>\n",
       "      <td>0</td>\n",
       "      <td>1</td>\n",
       "      <td>1</td>\n",
       "      <td>248</td>\n",
       "      <td>458</td>\n",
       "      <td>257</td>\n",
       "      <td>471</td>\n",
       "    </tr>\n",
       "    <tr>\n",
       "      <th>4</th>\n",
       "      <td>4</td>\n",
       "      <td>0</td>\n",
       "      <td>0</td>\n",
       "      <td>0</td>\n",
       "      <td>1</td>\n",
       "      <td>22</td>\n",
       "      <td>1</td>\n",
       "      <td>0</td>\n",
       "      <td>0</td>\n",
       "      <td>0</td>\n",
       "      <td>248</td>\n",
       "      <td>458</td>\n",
       "      <td>257</td>\n",
       "      <td>471</td>\n",
       "    </tr>\n",
       "    <tr>\n",
       "      <th>5</th>\n",
       "      <td>5</td>\n",
       "      <td>0</td>\n",
       "      <td>0</td>\n",
       "      <td>1</td>\n",
       "      <td>1</td>\n",
       "      <td>6</td>\n",
       "      <td>0</td>\n",
       "      <td>1</td>\n",
       "      <td>1</td>\n",
       "      <td>0</td>\n",
       "      <td>248</td>\n",
       "      <td>458</td>\n",
       "      <td>257</td>\n",
       "      <td>471</td>\n",
       "    </tr>\n",
       "    <tr>\n",
       "      <th>6</th>\n",
       "      <td>6</td>\n",
       "      <td>0</td>\n",
       "      <td>0</td>\n",
       "      <td>0</td>\n",
       "      <td>1</td>\n",
       "      <td>13</td>\n",
       "      <td>0</td>\n",
       "      <td>1</td>\n",
       "      <td>1</td>\n",
       "      <td>1</td>\n",
       "      <td>248</td>\n",
       "      <td>458</td>\n",
       "      <td>257</td>\n",
       "      <td>471</td>\n",
       "    </tr>\n",
       "    <tr>\n",
       "      <th>7</th>\n",
       "      <td>7</td>\n",
       "      <td>0</td>\n",
       "      <td>0</td>\n",
       "      <td>0</td>\n",
       "      <td>0</td>\n",
       "      <td>22</td>\n",
       "      <td>1</td>\n",
       "      <td>0</td>\n",
       "      <td>1</td>\n",
       "      <td>1</td>\n",
       "      <td>248</td>\n",
       "      <td>458</td>\n",
       "      <td>257</td>\n",
       "      <td>471</td>\n",
       "    </tr>\n",
       "    <tr>\n",
       "      <th>8</th>\n",
       "      <td>8</td>\n",
       "      <td>0</td>\n",
       "      <td>0</td>\n",
       "      <td>0</td>\n",
       "      <td>0</td>\n",
       "      <td>19</td>\n",
       "      <td>1</td>\n",
       "      <td>0</td>\n",
       "      <td>1</td>\n",
       "      <td>1</td>\n",
       "      <td>248</td>\n",
       "      <td>458</td>\n",
       "      <td>257</td>\n",
       "      <td>471</td>\n",
       "    </tr>\n",
       "    <tr>\n",
       "      <th>9</th>\n",
       "      <td>9</td>\n",
       "      <td>0</td>\n",
       "      <td>0</td>\n",
       "      <td>0</td>\n",
       "      <td>1</td>\n",
       "      <td>9</td>\n",
       "      <td>1</td>\n",
       "      <td>0</td>\n",
       "      <td>1</td>\n",
       "      <td>1</td>\n",
       "      <td>248</td>\n",
       "      <td>458</td>\n",
       "      <td>257</td>\n",
       "      <td>471</td>\n",
       "    </tr>\n",
       "  </tbody>\n",
       "</table>\n",
       "</div>"
      ],
      "text/plain": [
       "   ID  Provinsi  KodeKabKot  Y  X1  X2  X3  X4  X5  X6   Z1   Z2   Z3   Z4\n",
       "0   0         0           0  0   1  13   0   0   1   1  248  458  257  471\n",
       "1   1         0           0  0   1  24   0   0   1   0  248  458  257  471\n",
       "2   2         0           0  0   0  22   0   0   0   1  248  458  257  471\n",
       "3   3         0           0  0   0  13   0   0   1   1  248  458  257  471\n",
       "4   4         0           0  0   1  22   1   0   0   0  248  458  257  471\n",
       "5   5         0           0  1   1   6   0   1   1   0  248  458  257  471\n",
       "6   6         0           0  0   1  13   0   1   1   1  248  458  257  471\n",
       "7   7         0           0  0   0  22   1   0   1   1  248  458  257  471\n",
       "8   8         0           0  0   0  19   1   0   1   1  248  458  257  471\n",
       "9   9         0           0  0   1   9   1   0   1   1  248  458  257  471"
      ]
     },
     "execution_count": 11,
     "metadata": {},
     "output_type": "execute_result"
    }
   ],
   "source": [
    "from sklearn import preprocessing\n",
    "le = preprocessing.LabelEncoder()\n",
    "\n",
    "for x in datatrain.columns:\n",
    "  datatrain[x] = le.fit_transform(datatrain[x])\n",
    "\n",
    "datatrain.head(10)"
   ]
  },
  {
   "cell_type": "code",
   "execution_count": null,
   "metadata": {
    "colab": {
     "base_uri": "https://localhost:8080/",
     "height": 296
    },
    "id": "cr0YX1N_WIau",
    "outputId": "62de90a5-4024-4d7c-8e69-693104c56cba"
   },
   "outputs": [
    {
     "data": {
      "text/plain": [
       "<AxesSubplot:xlabel='Y', ylabel='count'>"
      ]
     },
     "execution_count": 12,
     "metadata": {},
     "output_type": "execute_result"
    }
   ],
   "source": [
    "#sns.set_style('whitegrid')\n",
    "#sns.countplot(x=datatrain['Y'],data=datatrain,palette='muted')"
   ]
  },
  {
   "cell_type": "code",
   "execution_count": null,
   "metadata": {
    "colab": {
     "base_uri": "https://localhost:8080/",
     "height": 558
    },
    "id": "UAtuG0T3Wjpg",
    "outputId": "0b6cbe9c-a5ac-4e15-fcbe-e3dd3936de72"
   },
   "outputs": [],
   "source": [
    "#l=list(dataset.columns[0:20])\n",
    "#for i in range(len(l)-1):\n",
    "#    sns.boxplot(x='TARGET LABEL (SYMPTOM TIME)',y=l[i], data=dataset, palette='Set2')\n",
    "#    plt.figure()"
   ]
  },
  {
   "cell_type": "markdown",
   "metadata": {
    "id": "5Gi-d-0aWkcH"
   },
   "source": [
    "## Membangun Model Random Forest"
   ]
  },
  {
   "cell_type": "code",
   "execution_count": null,
   "metadata": {
    "id": "f_7iypKrv9s3"
   },
   "outputs": [],
   "source": [
    "# Pemilihan Fitur\n",
    "X = dataset.drop(columns='TARGET LABEL (SYMPTOM TIME)')\n",
    "y = dataset['TARGET LABEL (SYMPTOM TIME)']"
   ]
  },
  {
   "cell_type": "code",
   "execution_count": null,
   "metadata": {
    "colab": {
     "base_uri": "https://localhost:8080/"
    },
    "id": "C-rrlzLowOOP",
    "outputId": "8ad8b581-4ca9-4ef3-afb4-c9de58ae711f"
   },
   "outputs": [],
   "source": [
    "# Menjadi dataset ke dalam Training set dan Test set\n",
    "from sklearn.model_selection import train_test_split\n",
    "X_train, X_test, y_train, y_test = train_test_split(X, y, test_size = 0.2, random_state = 0)\n",
    "X_test"
   ]
  },
  {
   "cell_type": "code",
   "execution_count": null,
   "metadata": {
    "colab": {
     "base_uri": "https://localhost:8080/"
    },
    "id": "Jcn9DaKzwz4y",
    "outputId": "2ab49c0e-6b45-4b7d-f9a1-e1aa6002deaa"
   },
   "outputs": [],
   "source": [
    "# Feature Scaling\n",
    "from sklearn.preprocessing import StandardScaler\n",
    "sc = StandardScaler()\n",
    "X_train = sc.fit_transform(X_train)\n",
    "X_test = sc.transform(X_test)\n",
    "X_train"
   ]
  },
  {
   "cell_type": "code",
   "execution_count": null,
   "metadata": {
    "colab": {
     "base_uri": "https://localhost:8080/"
    },
    "id": "fv8jt7JCxTwZ",
    "outputId": "86967109-78fb-424b-b4f4-642521828443"
   },
   "outputs": [],
   "source": [
    "# Membuat model Random Forest Classification terhadap Training set\n",
    "from sklearn.ensemble import RandomForestClassifier\n",
    "classifier = RandomForestClassifier(n_estimators = 500, criterion = 'entropy', random_state = 0)\n",
    "classifier.fit(X_train, y_train)"
   ]
  },
  {
   "cell_type": "code",
   "execution_count": null,
   "metadata": {
    "colab": {
     "base_uri": "https://localhost:8080/"
    },
    "id": "BhT3Y7xSzQT4",
    "outputId": "1925f333-e527-418d-ba87-bb0948522e67"
   },
   "outputs": [],
   "source": [
    "# Memprediksi hasil test set\n",
    "y_pred = classifier.predict(X_test)\n",
    "y_pred"
   ]
  },
  {
   "cell_type": "code",
   "execution_count": null,
   "metadata": {
    "colab": {
     "base_uri": "https://localhost:8080/"
    },
    "id": "5JtS0oxzzluP",
    "outputId": "4b09c5ce-cf4a-4e75-a2b1-e91d37c30052"
   },
   "outputs": [],
   "source": [
    "# Membuat confusion matrix\n",
    "from sklearn.metrics import confusion_matrix\n",
    "cm = confusion_matrix(y_test, y_pred)\n",
    "cm"
   ]
  },
  {
   "cell_type": "code",
   "execution_count": null,
   "metadata": {
    "colab": {
     "base_uri": "https://localhost:8080/",
     "height": 335
    },
    "id": "DQ2PzjUoz0U3",
    "outputId": "25dfe860-9a0e-427c-8325-4351ba3033e2"
   },
   "outputs": [],
   "source": [
    "f, ax = plt.subplots(figsize=(8,5))\n",
    "sns.heatmap(confusion_matrix(y_test, y_pred), annot=True, fmt=\".0f\", ax=ax)\n",
    "plt.xlabel(\"y_head\")\n",
    "plt.ylabel(\"y_true\")\n",
    "plt.show()"
   ]
  },
  {
   "cell_type": "code",
   "execution_count": null,
   "metadata": {
    "colab": {
     "base_uri": "https://localhost:8080/"
    },
    "id": "2E1E36mp9Of-",
    "outputId": "0a849b56-d71a-42c2-9869-b08ef86ce917"
   },
   "outputs": [],
   "source": [
    "# Akurasi dari RandomForest\n",
    "\n",
    "from sklearn.metrics import classification_report\n",
    "print(classification_report(y_test, y_pred))"
   ]
  },
  {
   "cell_type": "code",
   "execution_count": null,
   "metadata": {},
   "outputs": [],
   "source": []
  }
 ],
 "metadata": {
  "colab": {
   "collapsed_sections": [],
   "name": "RandomForest.ipynb",
   "provenance": []
  },
  "kernelspec": {
   "display_name": "Python 3 (ipykernel)",
   "language": "python",
   "name": "python3"
  },
  "language_info": {
   "codemirror_mode": {
    "name": "ipython",
    "version": 3
   },
   "file_extension": ".py",
   "mimetype": "text/x-python",
   "name": "python",
   "nbconvert_exporter": "python",
   "pygments_lexer": "ipython3",
   "version": "3.8.12"
  },
  "toc": {
   "base_numbering": 1,
   "nav_menu": {},
   "number_sections": true,
   "sideBar": true,
   "skip_h1_title": false,
   "title_cell": "Table of Contents",
   "title_sidebar": "Contents",
   "toc_cell": false,
   "toc_position": {},
   "toc_section_display": true,
   "toc_window_display": false
  }
 },
 "nbformat": 4,
 "nbformat_minor": 1
}
