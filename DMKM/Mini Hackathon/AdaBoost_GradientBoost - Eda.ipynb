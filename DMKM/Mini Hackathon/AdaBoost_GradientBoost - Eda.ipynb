{
 "cells": [
  {
   "cell_type": "markdown",
   "metadata": {
    "heading_collapsed": true,
    "id": "go_MZCwD1z78"
   },
   "source": [
    "# AdaBoost and GradientBoost Classifier\n"
   ]
  },
  {
   "cell_type": "markdown",
   "metadata": {
    "heading_collapsed": true,
    "id": "6Vcacb7y14nd"
   },
   "source": [
    "# Input packages and datasets"
   ]
  },
  {
   "cell_type": "code",
   "execution_count": 1,
   "metadata": {
    "ExecuteTime": {
     "end_time": "2021-11-16T18:48:08.673424Z",
     "start_time": "2021-11-16T18:47:59.804817Z"
    },
    "hidden": true,
    "id": "YRsOznqNXSFE"
   },
   "outputs": [],
   "source": [
    "import pandas as pd\n",
    "import numpy as np\n",
    "import seaborn as sns\n",
    "from sklearn.model_selection import train_test_split\n",
    "from sklearn.ensemble import AdaBoostClassifier,GradientBoostingClassifier\n",
    "from sklearn.metrics import accuracy_score\n",
    "import matplotlib.pyplot as plt"
   ]
  },
  {
   "cell_type": "code",
   "execution_count": 2,
   "metadata": {
    "ExecuteTime": {
     "end_time": "2021-11-16T18:48:10.569369Z",
     "start_time": "2021-11-16T18:48:10.464426Z"
    },
    "hidden": true,
    "id": "AZGdYfeaXURD"
   },
   "outputs": [],
   "source": [
    "datatrain = pd.read_csv('Train.csv')\n",
    "datatest = pd.read_csv('Test.csv')"
   ]
  },
  {
   "cell_type": "markdown",
   "metadata": {
    "id": "2tH-u1eP4ad1"
   },
   "source": [
    "# Preprocessing\n"
   ]
  },
  {
   "cell_type": "markdown",
   "metadata": {
    "heading_collapsed": true
   },
   "source": [
    "## Train Data"
   ]
  },
  {
   "cell_type": "code",
   "execution_count": 3,
   "metadata": {
    "ExecuteTime": {
     "end_time": "2021-11-16T18:48:12.470719Z",
     "start_time": "2021-11-16T18:48:12.398329Z"
    },
    "colab": {
     "base_uri": "https://localhost:8080/",
     "height": 423
    },
    "hidden": true,
    "id": "47OmGmdUXz20",
    "outputId": "e430f212-29de-44e6-ae53-cdb215198a2a"
   },
   "outputs": [
    {
     "data": {
      "text/html": [
       "<div>\n",
       "<style scoped>\n",
       "    .dataframe tbody tr th:only-of-type {\n",
       "        vertical-align: middle;\n",
       "    }\n",
       "\n",
       "    .dataframe tbody tr th {\n",
       "        vertical-align: top;\n",
       "    }\n",
       "\n",
       "    .dataframe thead th {\n",
       "        text-align: right;\n",
       "    }\n",
       "</style>\n",
       "<table border=\"1\" class=\"dataframe\">\n",
       "  <thead>\n",
       "    <tr style=\"text-align: right;\">\n",
       "      <th></th>\n",
       "      <th>ID</th>\n",
       "      <th>Provinsi</th>\n",
       "      <th>KodeKabKot</th>\n",
       "      <th>Y</th>\n",
       "      <th>X1</th>\n",
       "      <th>X2</th>\n",
       "      <th>X3</th>\n",
       "      <th>X4</th>\n",
       "      <th>X5</th>\n",
       "      <th>X6</th>\n",
       "      <th>Z1</th>\n",
       "      <th>Z2</th>\n",
       "      <th>Z3</th>\n",
       "      <th>Z4</th>\n",
       "    </tr>\n",
       "  </thead>\n",
       "  <tbody>\n",
       "    <tr>\n",
       "      <th>0</th>\n",
       "      <td>1</td>\n",
       "      <td>11</td>\n",
       "      <td>1101</td>\n",
       "      <td>0</td>\n",
       "      <td>1</td>\n",
       "      <td>27</td>\n",
       "      <td>0</td>\n",
       "      <td>0</td>\n",
       "      <td>1</td>\n",
       "      <td>1</td>\n",
       "      <td>1.077</td>\n",
       "      <td>15.075</td>\n",
       "      <td>26.919</td>\n",
       "      <td>390.869</td>\n",
       "    </tr>\n",
       "    <tr>\n",
       "      <th>1</th>\n",
       "      <td>2</td>\n",
       "      <td>11</td>\n",
       "      <td>1101</td>\n",
       "      <td>0</td>\n",
       "      <td>1</td>\n",
       "      <td>38</td>\n",
       "      <td>0</td>\n",
       "      <td>0</td>\n",
       "      <td>1</td>\n",
       "      <td>0</td>\n",
       "      <td>1.077</td>\n",
       "      <td>15.075</td>\n",
       "      <td>26.919</td>\n",
       "      <td>390.869</td>\n",
       "    </tr>\n",
       "    <tr>\n",
       "      <th>2</th>\n",
       "      <td>4</td>\n",
       "      <td>11</td>\n",
       "      <td>1101</td>\n",
       "      <td>0</td>\n",
       "      <td>0</td>\n",
       "      <td>36</td>\n",
       "      <td>0</td>\n",
       "      <td>0</td>\n",
       "      <td>0</td>\n",
       "      <td>1</td>\n",
       "      <td>1.077</td>\n",
       "      <td>15.075</td>\n",
       "      <td>26.919</td>\n",
       "      <td>390.869</td>\n",
       "    </tr>\n",
       "    <tr>\n",
       "      <th>3</th>\n",
       "      <td>7</td>\n",
       "      <td>11</td>\n",
       "      <td>1101</td>\n",
       "      <td>0</td>\n",
       "      <td>0</td>\n",
       "      <td>27</td>\n",
       "      <td>0</td>\n",
       "      <td>0</td>\n",
       "      <td>1</td>\n",
       "      <td>1</td>\n",
       "      <td>1.077</td>\n",
       "      <td>15.075</td>\n",
       "      <td>26.919</td>\n",
       "      <td>390.869</td>\n",
       "    </tr>\n",
       "    <tr>\n",
       "      <th>4</th>\n",
       "      <td>8</td>\n",
       "      <td>11</td>\n",
       "      <td>1101</td>\n",
       "      <td>0</td>\n",
       "      <td>1</td>\n",
       "      <td>36</td>\n",
       "      <td>1</td>\n",
       "      <td>0</td>\n",
       "      <td>0</td>\n",
       "      <td>0</td>\n",
       "      <td>1.077</td>\n",
       "      <td>15.075</td>\n",
       "      <td>26.919</td>\n",
       "      <td>390.869</td>\n",
       "    </tr>\n",
       "    <tr>\n",
       "      <th>...</th>\n",
       "      <td>...</td>\n",
       "      <td>...</td>\n",
       "      <td>...</td>\n",
       "      <td>...</td>\n",
       "      <td>...</td>\n",
       "      <td>...</td>\n",
       "      <td>...</td>\n",
       "      <td>...</td>\n",
       "      <td>...</td>\n",
       "      <td>...</td>\n",
       "      <td>...</td>\n",
       "      <td>...</td>\n",
       "      <td>...</td>\n",
       "      <td>...</td>\n",
       "    </tr>\n",
       "    <tr>\n",
       "      <th>13621</th>\n",
       "      <td>19524</td>\n",
       "      <td>94</td>\n",
       "      <td>9471</td>\n",
       "      <td>1</td>\n",
       "      <td>0</td>\n",
       "      <td>28</td>\n",
       "      <td>1</td>\n",
       "      <td>0</td>\n",
       "      <td>1</td>\n",
       "      <td>1</td>\n",
       "      <td>1.757</td>\n",
       "      <td>3.262</td>\n",
       "      <td>48.936</td>\n",
       "      <td>209.045</td>\n",
       "    </tr>\n",
       "    <tr>\n",
       "      <th>13622</th>\n",
       "      <td>19526</td>\n",
       "      <td>94</td>\n",
       "      <td>9471</td>\n",
       "      <td>0</td>\n",
       "      <td>1</td>\n",
       "      <td>22</td>\n",
       "      <td>1</td>\n",
       "      <td>1</td>\n",
       "      <td>1</td>\n",
       "      <td>1</td>\n",
       "      <td>1.757</td>\n",
       "      <td>3.262</td>\n",
       "      <td>48.936</td>\n",
       "      <td>209.045</td>\n",
       "    </tr>\n",
       "    <tr>\n",
       "      <th>13623</th>\n",
       "      <td>19527</td>\n",
       "      <td>94</td>\n",
       "      <td>9471</td>\n",
       "      <td>0</td>\n",
       "      <td>0</td>\n",
       "      <td>35</td>\n",
       "      <td>1</td>\n",
       "      <td>0</td>\n",
       "      <td>1</td>\n",
       "      <td>1</td>\n",
       "      <td>1.757</td>\n",
       "      <td>3.262</td>\n",
       "      <td>48.936</td>\n",
       "      <td>209.045</td>\n",
       "    </tr>\n",
       "    <tr>\n",
       "      <th>13624</th>\n",
       "      <td>19529</td>\n",
       "      <td>94</td>\n",
       "      <td>9471</td>\n",
       "      <td>0</td>\n",
       "      <td>0</td>\n",
       "      <td>27</td>\n",
       "      <td>1</td>\n",
       "      <td>0</td>\n",
       "      <td>1</td>\n",
       "      <td>1</td>\n",
       "      <td>1.757</td>\n",
       "      <td>3.262</td>\n",
       "      <td>48.936</td>\n",
       "      <td>209.045</td>\n",
       "    </tr>\n",
       "    <tr>\n",
       "      <th>13625</th>\n",
       "      <td>19530</td>\n",
       "      <td>94</td>\n",
       "      <td>9471</td>\n",
       "      <td>1</td>\n",
       "      <td>0</td>\n",
       "      <td>39</td>\n",
       "      <td>1</td>\n",
       "      <td>1</td>\n",
       "      <td>1</td>\n",
       "      <td>1</td>\n",
       "      <td>1.757</td>\n",
       "      <td>3.262</td>\n",
       "      <td>48.936</td>\n",
       "      <td>209.045</td>\n",
       "    </tr>\n",
       "  </tbody>\n",
       "</table>\n",
       "<p>13626 rows × 14 columns</p>\n",
       "</div>"
      ],
      "text/plain": [
       "          ID  Provinsi  KodeKabKot  Y  X1  X2  X3  X4  X5  X6     Z1      Z2  \\\n",
       "0          1        11        1101  0   1  27   0   0   1   1  1.077  15.075   \n",
       "1          2        11        1101  0   1  38   0   0   1   0  1.077  15.075   \n",
       "2          4        11        1101  0   0  36   0   0   0   1  1.077  15.075   \n",
       "3          7        11        1101  0   0  27   0   0   1   1  1.077  15.075   \n",
       "4          8        11        1101  0   1  36   1   0   0   0  1.077  15.075   \n",
       "...      ...       ...         ... ..  ..  ..  ..  ..  ..  ..    ...     ...   \n",
       "13621  19524        94        9471  1   0  28   1   0   1   1  1.757   3.262   \n",
       "13622  19526        94        9471  0   1  22   1   1   1   1  1.757   3.262   \n",
       "13623  19527        94        9471  0   0  35   1   0   1   1  1.757   3.262   \n",
       "13624  19529        94        9471  0   0  27   1   0   1   1  1.757   3.262   \n",
       "13625  19530        94        9471  1   0  39   1   1   1   1  1.757   3.262   \n",
       "\n",
       "           Z3       Z4  \n",
       "0      26.919  390.869  \n",
       "1      26.919  390.869  \n",
       "2      26.919  390.869  \n",
       "3      26.919  390.869  \n",
       "4      26.919  390.869  \n",
       "...       ...      ...  \n",
       "13621  48.936  209.045  \n",
       "13622  48.936  209.045  \n",
       "13623  48.936  209.045  \n",
       "13624  48.936  209.045  \n",
       "13625  48.936  209.045  \n",
       "\n",
       "[13626 rows x 14 columns]"
      ]
     },
     "execution_count": 3,
     "metadata": {},
     "output_type": "execute_result"
    }
   ],
   "source": [
    "datatrain"
   ]
  },
  {
   "cell_type": "code",
   "execution_count": 4,
   "metadata": {
    "ExecuteTime": {
     "end_time": "2021-11-16T18:48:13.340337Z",
     "start_time": "2021-11-16T18:48:13.187490Z"
    },
    "colab": {
     "base_uri": "https://localhost:8080/",
     "height": 174
    },
    "hidden": true,
    "id": "blSExi9Km0Y5",
    "outputId": "f28fcbd5-b7d7-4cde-9dcd-f462bff85dc5"
   },
   "outputs": [
    {
     "data": {
      "text/html": [
       "<div>\n",
       "<style scoped>\n",
       "    .dataframe tbody tr th:only-of-type {\n",
       "        vertical-align: middle;\n",
       "    }\n",
       "\n",
       "    .dataframe tbody tr th {\n",
       "        vertical-align: top;\n",
       "    }\n",
       "\n",
       "    .dataframe thead th {\n",
       "        text-align: right;\n",
       "    }\n",
       "</style>\n",
       "<table border=\"1\" class=\"dataframe\">\n",
       "  <thead>\n",
       "    <tr style=\"text-align: right;\">\n",
       "      <th></th>\n",
       "      <th>ID</th>\n",
       "      <th>Provinsi</th>\n",
       "      <th>KodeKabKot</th>\n",
       "      <th>Y</th>\n",
       "      <th>X1</th>\n",
       "      <th>X2</th>\n",
       "      <th>X3</th>\n",
       "      <th>X4</th>\n",
       "      <th>X5</th>\n",
       "      <th>X6</th>\n",
       "      <th>Z1</th>\n",
       "      <th>Z2</th>\n",
       "      <th>Z3</th>\n",
       "      <th>Z4</th>\n",
       "    </tr>\n",
       "  </thead>\n",
       "  <tbody>\n",
       "    <tr>\n",
       "      <th>count</th>\n",
       "      <td>13626.000000</td>\n",
       "      <td>13626.000000</td>\n",
       "      <td>13626.000000</td>\n",
       "      <td>13626.000000</td>\n",
       "      <td>13626.000000</td>\n",
       "      <td>13626.000000</td>\n",
       "      <td>13626.000000</td>\n",
       "      <td>13626.000000</td>\n",
       "      <td>13626.000000</td>\n",
       "      <td>13626.000000</td>\n",
       "      <td>13626.000000</td>\n",
       "      <td>13626.000000</td>\n",
       "      <td>13626.000000</td>\n",
       "      <td>13621.000000</td>\n",
       "    </tr>\n",
       "    <tr>\n",
       "      <th>mean</th>\n",
       "      <td>9763.218406</td>\n",
       "      <td>44.562601</td>\n",
       "      <td>4477.179363</td>\n",
       "      <td>0.409511</td>\n",
       "      <td>0.610744</td>\n",
       "      <td>30.380229</td>\n",
       "      <td>0.487817</td>\n",
       "      <td>0.401805</td>\n",
       "      <td>0.813518</td>\n",
       "      <td>0.875899</td>\n",
       "      <td>1.227538</td>\n",
       "      <td>6.876482</td>\n",
       "      <td>35.597681</td>\n",
       "      <td>197.945368</td>\n",
       "    </tr>\n",
       "    <tr>\n",
       "      <th>std</th>\n",
       "      <td>5654.343886</td>\n",
       "      <td>26.377273</td>\n",
       "      <td>2633.993903</td>\n",
       "      <td>0.491762</td>\n",
       "      <td>0.487599</td>\n",
       "      <td>6.357110</td>\n",
       "      <td>0.499870</td>\n",
       "      <td>0.490281</td>\n",
       "      <td>0.389509</td>\n",
       "      <td>0.329709</td>\n",
       "      <td>1.059310</td>\n",
       "      <td>5.638141</td>\n",
       "      <td>33.103822</td>\n",
       "      <td>137.404420</td>\n",
       "    </tr>\n",
       "    <tr>\n",
       "      <th>min</th>\n",
       "      <td>1.000000</td>\n",
       "      <td>11.000000</td>\n",
       "      <td>1101.000000</td>\n",
       "      <td>0.000000</td>\n",
       "      <td>0.000000</td>\n",
       "      <td>14.000000</td>\n",
       "      <td>0.000000</td>\n",
       "      <td>0.000000</td>\n",
       "      <td>0.000000</td>\n",
       "      <td>0.000000</td>\n",
       "      <td>0.000000</td>\n",
       "      <td>0.369000</td>\n",
       "      <td>0.861000</td>\n",
       "      <td>20.183000</td>\n",
       "    </tr>\n",
       "    <tr>\n",
       "      <th>25%</th>\n",
       "      <td>4866.500000</td>\n",
       "      <td>18.000000</td>\n",
       "      <td>1804.000000</td>\n",
       "      <td>0.000000</td>\n",
       "      <td>0.000000</td>\n",
       "      <td>26.000000</td>\n",
       "      <td>0.000000</td>\n",
       "      <td>0.000000</td>\n",
       "      <td>1.000000</td>\n",
       "      <td>1.000000</td>\n",
       "      <td>0.564000</td>\n",
       "      <td>3.183000</td>\n",
       "      <td>16.744000</td>\n",
       "      <td>102.438000</td>\n",
       "    </tr>\n",
       "    <tr>\n",
       "      <th>50%</th>\n",
       "      <td>9773.500000</td>\n",
       "      <td>35.000000</td>\n",
       "      <td>3523.000000</td>\n",
       "      <td>0.000000</td>\n",
       "      <td>1.000000</td>\n",
       "      <td>30.000000</td>\n",
       "      <td>0.000000</td>\n",
       "      <td>0.000000</td>\n",
       "      <td>1.000000</td>\n",
       "      <td>1.000000</td>\n",
       "      <td>0.908000</td>\n",
       "      <td>4.965000</td>\n",
       "      <td>25.896000</td>\n",
       "      <td>163.192000</td>\n",
       "    </tr>\n",
       "    <tr>\n",
       "      <th>75%</th>\n",
       "      <td>14651.750000</td>\n",
       "      <td>71.000000</td>\n",
       "      <td>7171.000000</td>\n",
       "      <td>1.000000</td>\n",
       "      <td>1.000000</td>\n",
       "      <td>35.000000</td>\n",
       "      <td>1.000000</td>\n",
       "      <td>1.000000</td>\n",
       "      <td>1.000000</td>\n",
       "      <td>1.000000</td>\n",
       "      <td>1.473000</td>\n",
       "      <td>8.334000</td>\n",
       "      <td>39.854000</td>\n",
       "      <td>257.738000</td>\n",
       "    </tr>\n",
       "    <tr>\n",
       "      <th>max</th>\n",
       "      <td>19530.000000</td>\n",
       "      <td>94.000000</td>\n",
       "      <td>9471.000000</td>\n",
       "      <td>1.000000</td>\n",
       "      <td>1.000000</td>\n",
       "      <td>54.000000</td>\n",
       "      <td>1.000000</td>\n",
       "      <td>1.000000</td>\n",
       "      <td>1.000000</td>\n",
       "      <td>1.000000</td>\n",
       "      <td>6.960000</td>\n",
       "      <td>35.237000</td>\n",
       "      <td>291.322000</td>\n",
       "      <td>1400.875000</td>\n",
       "    </tr>\n",
       "  </tbody>\n",
       "</table>\n",
       "</div>"
      ],
      "text/plain": [
       "                 ID      Provinsi    KodeKabKot             Y            X1  \\\n",
       "count  13626.000000  13626.000000  13626.000000  13626.000000  13626.000000   \n",
       "mean    9763.218406     44.562601   4477.179363      0.409511      0.610744   \n",
       "std     5654.343886     26.377273   2633.993903      0.491762      0.487599   \n",
       "min        1.000000     11.000000   1101.000000      0.000000      0.000000   \n",
       "25%     4866.500000     18.000000   1804.000000      0.000000      0.000000   \n",
       "50%     9773.500000     35.000000   3523.000000      0.000000      1.000000   \n",
       "75%    14651.750000     71.000000   7171.000000      1.000000      1.000000   \n",
       "max    19530.000000     94.000000   9471.000000      1.000000      1.000000   \n",
       "\n",
       "                 X2            X3            X4            X5            X6  \\\n",
       "count  13626.000000  13626.000000  13626.000000  13626.000000  13626.000000   \n",
       "mean      30.380229      0.487817      0.401805      0.813518      0.875899   \n",
       "std        6.357110      0.499870      0.490281      0.389509      0.329709   \n",
       "min       14.000000      0.000000      0.000000      0.000000      0.000000   \n",
       "25%       26.000000      0.000000      0.000000      1.000000      1.000000   \n",
       "50%       30.000000      0.000000      0.000000      1.000000      1.000000   \n",
       "75%       35.000000      1.000000      1.000000      1.000000      1.000000   \n",
       "max       54.000000      1.000000      1.000000      1.000000      1.000000   \n",
       "\n",
       "                 Z1            Z2            Z3            Z4  \n",
       "count  13626.000000  13626.000000  13626.000000  13621.000000  \n",
       "mean       1.227538      6.876482     35.597681    197.945368  \n",
       "std        1.059310      5.638141     33.103822    137.404420  \n",
       "min        0.000000      0.369000      0.861000     20.183000  \n",
       "25%        0.564000      3.183000     16.744000    102.438000  \n",
       "50%        0.908000      4.965000     25.896000    163.192000  \n",
       "75%        1.473000      8.334000     39.854000    257.738000  \n",
       "max        6.960000     35.237000    291.322000   1400.875000  "
      ]
     },
     "execution_count": 4,
     "metadata": {},
     "output_type": "execute_result"
    }
   ],
   "source": [
    "datatrain.describe()"
   ]
  },
  {
   "cell_type": "markdown",
   "metadata": {
    "hidden": true,
    "id": "_tCzu2oV24en"
   },
   "source": [
    "Checking datatype and null"
   ]
  },
  {
   "cell_type": "code",
   "execution_count": 5,
   "metadata": {
    "ExecuteTime": {
     "end_time": "2021-11-16T18:48:14.378593Z",
     "start_time": "2021-11-16T18:48:14.328253Z"
    },
    "colab": {
     "base_uri": "https://localhost:8080/"
    },
    "hidden": true,
    "id": "e8Vfv5SkN78V",
    "outputId": "40de37ff-5768-43fb-a0d2-41929d2291eb"
   },
   "outputs": [
    {
     "name": "stdout",
     "output_type": "stream",
     "text": [
      "<class 'pandas.core.frame.DataFrame'>\n",
      "RangeIndex: 13626 entries, 0 to 13625\n",
      "Data columns (total 14 columns):\n",
      " #   Column      Non-Null Count  Dtype  \n",
      "---  ------      --------------  -----  \n",
      " 0   ID          13626 non-null  int64  \n",
      " 1   Provinsi    13626 non-null  int64  \n",
      " 2   KodeKabKot  13626 non-null  int64  \n",
      " 3   Y           13626 non-null  int64  \n",
      " 4   X1          13626 non-null  int64  \n",
      " 5   X2          13626 non-null  int64  \n",
      " 6   X3          13626 non-null  int64  \n",
      " 7   X4          13626 non-null  int64  \n",
      " 8   X5          13626 non-null  int64  \n",
      " 9   X6          13626 non-null  int64  \n",
      " 10  Z1          13626 non-null  float64\n",
      " 11  Z2          13626 non-null  float64\n",
      " 12  Z3          13626 non-null  float64\n",
      " 13  Z4          13621 non-null  float64\n",
      "dtypes: float64(4), int64(10)\n",
      "memory usage: 1.5 MB\n"
     ]
    }
   ],
   "source": [
    "datatrain.info()"
   ]
  },
  {
   "cell_type": "code",
   "execution_count": 6,
   "metadata": {
    "ExecuteTime": {
     "end_time": "2021-11-16T18:48:14.843251Z",
     "start_time": "2021-11-16T18:48:14.811380Z"
    },
    "hidden": true
   },
   "outputs": [
    {
     "name": "stdout",
     "output_type": "stream",
     "text": [
      "          ID  Provinsi  KodeKabKot  Y  X1  X2  X3  X4  X5  X6     Z1     Z2  \\\n",
      "13571  19456        94        9434  0   1  26   0   1   0   0  0.861  7.745   \n",
      "13572  19457        94        9434  0   1  20   0   1   1   0  0.861  7.745   \n",
      "13573  19458        94        9434  0   1  22   0   1   0   0  0.861  7.745   \n",
      "13574  19463        94        9434  0   1  23   0   1   0   0  0.861  7.745   \n",
      "13575  19464        94        9434  0   1  24   1   1   0   0  0.861  7.745   \n",
      "\n",
      "          Z3  Z4  \n",
      "13571  0.861 NaN  \n",
      "13572  0.861 NaN  \n",
      "13573  0.861 NaN  \n",
      "13574  0.861 NaN  \n",
      "13575  0.861 NaN  \n"
     ]
    }
   ],
   "source": [
    "datatrainnull = datatrain[datatrain.isna().any(axis=1)]\n",
    "print (datatrainnull)"
   ]
  },
  {
   "cell_type": "code",
   "execution_count": 7,
   "metadata": {
    "ExecuteTime": {
     "end_time": "2021-11-16T18:48:15.448076Z",
     "start_time": "2021-11-16T18:48:15.401776Z"
    },
    "hidden": true
   },
   "outputs": [
    {
     "data": {
      "text/html": [
       "<div>\n",
       "<style scoped>\n",
       "    .dataframe tbody tr th:only-of-type {\n",
       "        vertical-align: middle;\n",
       "    }\n",
       "\n",
       "    .dataframe tbody tr th {\n",
       "        vertical-align: top;\n",
       "    }\n",
       "\n",
       "    .dataframe thead th {\n",
       "        text-align: right;\n",
       "    }\n",
       "</style>\n",
       "<table border=\"1\" class=\"dataframe\">\n",
       "  <thead>\n",
       "    <tr style=\"text-align: right;\">\n",
       "      <th></th>\n",
       "      <th>ID</th>\n",
       "      <th>Provinsi</th>\n",
       "      <th>KodeKabKot</th>\n",
       "      <th>Y</th>\n",
       "      <th>X1</th>\n",
       "      <th>X2</th>\n",
       "      <th>X3</th>\n",
       "      <th>X4</th>\n",
       "      <th>X5</th>\n",
       "      <th>X6</th>\n",
       "      <th>Z1</th>\n",
       "      <th>Z2</th>\n",
       "      <th>Z3</th>\n",
       "      <th>Z4</th>\n",
       "    </tr>\n",
       "  </thead>\n",
       "  <tbody>\n",
       "    <tr>\n",
       "      <th>13571</th>\n",
       "      <td>19456</td>\n",
       "      <td>94</td>\n",
       "      <td>9434</td>\n",
       "      <td>0</td>\n",
       "      <td>1</td>\n",
       "      <td>26</td>\n",
       "      <td>0</td>\n",
       "      <td>1</td>\n",
       "      <td>0</td>\n",
       "      <td>0</td>\n",
       "      <td>0.861</td>\n",
       "      <td>7.745</td>\n",
       "      <td>0.861</td>\n",
       "      <td>NaN</td>\n",
       "    </tr>\n",
       "    <tr>\n",
       "      <th>13572</th>\n",
       "      <td>19457</td>\n",
       "      <td>94</td>\n",
       "      <td>9434</td>\n",
       "      <td>0</td>\n",
       "      <td>1</td>\n",
       "      <td>20</td>\n",
       "      <td>0</td>\n",
       "      <td>1</td>\n",
       "      <td>1</td>\n",
       "      <td>0</td>\n",
       "      <td>0.861</td>\n",
       "      <td>7.745</td>\n",
       "      <td>0.861</td>\n",
       "      <td>NaN</td>\n",
       "    </tr>\n",
       "    <tr>\n",
       "      <th>13573</th>\n",
       "      <td>19458</td>\n",
       "      <td>94</td>\n",
       "      <td>9434</td>\n",
       "      <td>0</td>\n",
       "      <td>1</td>\n",
       "      <td>22</td>\n",
       "      <td>0</td>\n",
       "      <td>1</td>\n",
       "      <td>0</td>\n",
       "      <td>0</td>\n",
       "      <td>0.861</td>\n",
       "      <td>7.745</td>\n",
       "      <td>0.861</td>\n",
       "      <td>NaN</td>\n",
       "    </tr>\n",
       "    <tr>\n",
       "      <th>13574</th>\n",
       "      <td>19463</td>\n",
       "      <td>94</td>\n",
       "      <td>9434</td>\n",
       "      <td>0</td>\n",
       "      <td>1</td>\n",
       "      <td>23</td>\n",
       "      <td>0</td>\n",
       "      <td>1</td>\n",
       "      <td>0</td>\n",
       "      <td>0</td>\n",
       "      <td>0.861</td>\n",
       "      <td>7.745</td>\n",
       "      <td>0.861</td>\n",
       "      <td>NaN</td>\n",
       "    </tr>\n",
       "    <tr>\n",
       "      <th>13575</th>\n",
       "      <td>19464</td>\n",
       "      <td>94</td>\n",
       "      <td>9434</td>\n",
       "      <td>0</td>\n",
       "      <td>1</td>\n",
       "      <td>24</td>\n",
       "      <td>1</td>\n",
       "      <td>1</td>\n",
       "      <td>0</td>\n",
       "      <td>0</td>\n",
       "      <td>0.861</td>\n",
       "      <td>7.745</td>\n",
       "      <td>0.861</td>\n",
       "      <td>NaN</td>\n",
       "    </tr>\n",
       "  </tbody>\n",
       "</table>\n",
       "</div>"
      ],
      "text/plain": [
       "          ID  Provinsi  KodeKabKot  Y  X1  X2  X3  X4  X5  X6     Z1     Z2  \\\n",
       "13571  19456        94        9434  0   1  26   0   1   0   0  0.861  7.745   \n",
       "13572  19457        94        9434  0   1  20   0   1   1   0  0.861  7.745   \n",
       "13573  19458        94        9434  0   1  22   0   1   0   0  0.861  7.745   \n",
       "13574  19463        94        9434  0   1  23   0   1   0   0  0.861  7.745   \n",
       "13575  19464        94        9434  0   1  24   1   1   0   0  0.861  7.745   \n",
       "\n",
       "          Z3  Z4  \n",
       "13571  0.861 NaN  \n",
       "13572  0.861 NaN  \n",
       "13573  0.861 NaN  \n",
       "13574  0.861 NaN  \n",
       "13575  0.861 NaN  "
      ]
     },
     "execution_count": 7,
     "metadata": {},
     "output_type": "execute_result"
    }
   ],
   "source": [
    "datatrain[datatrain[\"KodeKabKot\"] == 9434]"
   ]
  },
  {
   "cell_type": "code",
   "execution_count": 8,
   "metadata": {
    "ExecuteTime": {
     "end_time": "2021-11-16T18:48:16.074363Z",
     "start_time": "2021-11-16T18:48:16.054783Z"
    },
    "hidden": true
   },
   "outputs": [],
   "source": [
    "datatrain = datatrain.fillna(224.555)"
   ]
  },
  {
   "cell_type": "code",
   "execution_count": 9,
   "metadata": {
    "ExecuteTime": {
     "end_time": "2021-11-16T18:48:16.636474Z",
     "start_time": "2021-11-16T18:48:16.579239Z"
    },
    "hidden": true,
    "scrolled": true
   },
   "outputs": [
    {
     "data": {
      "text/html": [
       "<div>\n",
       "<style scoped>\n",
       "    .dataframe tbody tr th:only-of-type {\n",
       "        vertical-align: middle;\n",
       "    }\n",
       "\n",
       "    .dataframe tbody tr th {\n",
       "        vertical-align: top;\n",
       "    }\n",
       "\n",
       "    .dataframe thead th {\n",
       "        text-align: right;\n",
       "    }\n",
       "</style>\n",
       "<table border=\"1\" class=\"dataframe\">\n",
       "  <thead>\n",
       "    <tr style=\"text-align: right;\">\n",
       "      <th></th>\n",
       "      <th>ID</th>\n",
       "      <th>Provinsi</th>\n",
       "      <th>KodeKabKot</th>\n",
       "      <th>Y</th>\n",
       "      <th>X1</th>\n",
       "      <th>X2</th>\n",
       "      <th>X3</th>\n",
       "      <th>X4</th>\n",
       "      <th>X5</th>\n",
       "      <th>X6</th>\n",
       "      <th>Z1</th>\n",
       "      <th>Z2</th>\n",
       "      <th>Z3</th>\n",
       "      <th>Z4</th>\n",
       "    </tr>\n",
       "  </thead>\n",
       "  <tbody>\n",
       "    <tr>\n",
       "      <th>13571</th>\n",
       "      <td>19456</td>\n",
       "      <td>94</td>\n",
       "      <td>9434</td>\n",
       "      <td>0</td>\n",
       "      <td>1</td>\n",
       "      <td>26</td>\n",
       "      <td>0</td>\n",
       "      <td>1</td>\n",
       "      <td>0</td>\n",
       "      <td>0</td>\n",
       "      <td>0.861</td>\n",
       "      <td>7.745</td>\n",
       "      <td>0.861</td>\n",
       "      <td>224.555</td>\n",
       "    </tr>\n",
       "    <tr>\n",
       "      <th>13572</th>\n",
       "      <td>19457</td>\n",
       "      <td>94</td>\n",
       "      <td>9434</td>\n",
       "      <td>0</td>\n",
       "      <td>1</td>\n",
       "      <td>20</td>\n",
       "      <td>0</td>\n",
       "      <td>1</td>\n",
       "      <td>1</td>\n",
       "      <td>0</td>\n",
       "      <td>0.861</td>\n",
       "      <td>7.745</td>\n",
       "      <td>0.861</td>\n",
       "      <td>224.555</td>\n",
       "    </tr>\n",
       "    <tr>\n",
       "      <th>13573</th>\n",
       "      <td>19458</td>\n",
       "      <td>94</td>\n",
       "      <td>9434</td>\n",
       "      <td>0</td>\n",
       "      <td>1</td>\n",
       "      <td>22</td>\n",
       "      <td>0</td>\n",
       "      <td>1</td>\n",
       "      <td>0</td>\n",
       "      <td>0</td>\n",
       "      <td>0.861</td>\n",
       "      <td>7.745</td>\n",
       "      <td>0.861</td>\n",
       "      <td>224.555</td>\n",
       "    </tr>\n",
       "    <tr>\n",
       "      <th>13574</th>\n",
       "      <td>19463</td>\n",
       "      <td>94</td>\n",
       "      <td>9434</td>\n",
       "      <td>0</td>\n",
       "      <td>1</td>\n",
       "      <td>23</td>\n",
       "      <td>0</td>\n",
       "      <td>1</td>\n",
       "      <td>0</td>\n",
       "      <td>0</td>\n",
       "      <td>0.861</td>\n",
       "      <td>7.745</td>\n",
       "      <td>0.861</td>\n",
       "      <td>224.555</td>\n",
       "    </tr>\n",
       "    <tr>\n",
       "      <th>13575</th>\n",
       "      <td>19464</td>\n",
       "      <td>94</td>\n",
       "      <td>9434</td>\n",
       "      <td>0</td>\n",
       "      <td>1</td>\n",
       "      <td>24</td>\n",
       "      <td>1</td>\n",
       "      <td>1</td>\n",
       "      <td>0</td>\n",
       "      <td>0</td>\n",
       "      <td>0.861</td>\n",
       "      <td>7.745</td>\n",
       "      <td>0.861</td>\n",
       "      <td>224.555</td>\n",
       "    </tr>\n",
       "  </tbody>\n",
       "</table>\n",
       "</div>"
      ],
      "text/plain": [
       "          ID  Provinsi  KodeKabKot  Y  X1  X2  X3  X4  X5  X6     Z1     Z2  \\\n",
       "13571  19456        94        9434  0   1  26   0   1   0   0  0.861  7.745   \n",
       "13572  19457        94        9434  0   1  20   0   1   1   0  0.861  7.745   \n",
       "13573  19458        94        9434  0   1  22   0   1   0   0  0.861  7.745   \n",
       "13574  19463        94        9434  0   1  23   0   1   0   0  0.861  7.745   \n",
       "13575  19464        94        9434  0   1  24   1   1   0   0  0.861  7.745   \n",
       "\n",
       "          Z3       Z4  \n",
       "13571  0.861  224.555  \n",
       "13572  0.861  224.555  \n",
       "13573  0.861  224.555  \n",
       "13574  0.861  224.555  \n",
       "13575  0.861  224.555  "
      ]
     },
     "execution_count": 9,
     "metadata": {},
     "output_type": "execute_result"
    }
   ],
   "source": [
    "datatrain[datatrain[\"KodeKabKot\"] == 9434]"
   ]
  },
  {
   "cell_type": "markdown",
   "metadata": {
    "hidden": true
   },
   "source": [
    "**Re-check null**"
   ]
  },
  {
   "cell_type": "code",
   "execution_count": 10,
   "metadata": {
    "ExecuteTime": {
     "end_time": "2021-11-16T18:48:17.552902Z",
     "start_time": "2021-11-16T18:48:17.523543Z"
    },
    "colab": {
     "base_uri": "https://localhost:8080/"
    },
    "hidden": true,
    "id": "LRuI6ukCMLcb",
    "outputId": "f9d95ae7-4d41-4e32-ef3e-b95f0d488fb8",
    "scrolled": false
   },
   "outputs": [
    {
     "name": "stdout",
     "output_type": "stream",
     "text": [
      "<class 'pandas.core.frame.DataFrame'>\n",
      "RangeIndex: 13626 entries, 0 to 13625\n",
      "Data columns (total 14 columns):\n",
      " #   Column      Non-Null Count  Dtype  \n",
      "---  ------      --------------  -----  \n",
      " 0   ID          13626 non-null  int64  \n",
      " 1   Provinsi    13626 non-null  int64  \n",
      " 2   KodeKabKot  13626 non-null  int64  \n",
      " 3   Y           13626 non-null  int64  \n",
      " 4   X1          13626 non-null  int64  \n",
      " 5   X2          13626 non-null  int64  \n",
      " 6   X3          13626 non-null  int64  \n",
      " 7   X4          13626 non-null  int64  \n",
      " 8   X5          13626 non-null  int64  \n",
      " 9   X6          13626 non-null  int64  \n",
      " 10  Z1          13626 non-null  float64\n",
      " 11  Z2          13626 non-null  float64\n",
      " 12  Z3          13626 non-null  float64\n",
      " 13  Z4          13626 non-null  float64\n",
      "dtypes: float64(4), int64(10)\n",
      "memory usage: 1.5 MB\n"
     ]
    }
   ],
   "source": [
    "datatrain.info()"
   ]
  },
  {
   "cell_type": "markdown",
   "metadata": {
    "heading_collapsed": true
   },
   "source": [
    "## Data Test"
   ]
  },
  {
   "cell_type": "code",
   "execution_count": 11,
   "metadata": {
    "ExecuteTime": {
     "end_time": "2021-11-16T18:48:19.106337Z",
     "start_time": "2021-11-16T18:48:19.065644Z"
    },
    "hidden": true
   },
   "outputs": [
    {
     "data": {
      "text/html": [
       "<div>\n",
       "<style scoped>\n",
       "    .dataframe tbody tr th:only-of-type {\n",
       "        vertical-align: middle;\n",
       "    }\n",
       "\n",
       "    .dataframe tbody tr th {\n",
       "        vertical-align: top;\n",
       "    }\n",
       "\n",
       "    .dataframe thead th {\n",
       "        text-align: right;\n",
       "    }\n",
       "</style>\n",
       "<table border=\"1\" class=\"dataframe\">\n",
       "  <thead>\n",
       "    <tr style=\"text-align: right;\">\n",
       "      <th></th>\n",
       "      <th>ID</th>\n",
       "      <th>Provinsi</th>\n",
       "      <th>KodeKabKot</th>\n",
       "      <th>X1</th>\n",
       "      <th>X2</th>\n",
       "      <th>X3</th>\n",
       "      <th>X4</th>\n",
       "      <th>X5</th>\n",
       "      <th>X6</th>\n",
       "      <th>Z1</th>\n",
       "      <th>Z2</th>\n",
       "      <th>Z3</th>\n",
       "      <th>Z4</th>\n",
       "    </tr>\n",
       "  </thead>\n",
       "  <tbody>\n",
       "    <tr>\n",
       "      <th>0</th>\n",
       "      <td>3</td>\n",
       "      <td>11</td>\n",
       "      <td>1101</td>\n",
       "      <td>1</td>\n",
       "      <td>39</td>\n",
       "      <td>0</td>\n",
       "      <td>0</td>\n",
       "      <td>1</td>\n",
       "      <td>1</td>\n",
       "      <td>1.077</td>\n",
       "      <td>15.075</td>\n",
       "      <td>26.919</td>\n",
       "      <td>390.869</td>\n",
       "    </tr>\n",
       "    <tr>\n",
       "      <th>1</th>\n",
       "      <td>5</td>\n",
       "      <td>11</td>\n",
       "      <td>1101</td>\n",
       "      <td>0</td>\n",
       "      <td>32</td>\n",
       "      <td>1</td>\n",
       "      <td>0</td>\n",
       "      <td>1</td>\n",
       "      <td>1</td>\n",
       "      <td>1.077</td>\n",
       "      <td>15.075</td>\n",
       "      <td>26.919</td>\n",
       "      <td>390.869</td>\n",
       "    </tr>\n",
       "    <tr>\n",
       "      <th>2</th>\n",
       "      <td>6</td>\n",
       "      <td>11</td>\n",
       "      <td>1101</td>\n",
       "      <td>1</td>\n",
       "      <td>32</td>\n",
       "      <td>1</td>\n",
       "      <td>0</td>\n",
       "      <td>1</td>\n",
       "      <td>1</td>\n",
       "      <td>1.077</td>\n",
       "      <td>15.075</td>\n",
       "      <td>26.919</td>\n",
       "      <td>390.869</td>\n",
       "    </tr>\n",
       "    <tr>\n",
       "      <th>3</th>\n",
       "      <td>10</td>\n",
       "      <td>11</td>\n",
       "      <td>1101</td>\n",
       "      <td>1</td>\n",
       "      <td>28</td>\n",
       "      <td>1</td>\n",
       "      <td>0</td>\n",
       "      <td>1</td>\n",
       "      <td>0</td>\n",
       "      <td>1.077</td>\n",
       "      <td>15.075</td>\n",
       "      <td>26.919</td>\n",
       "      <td>390.869</td>\n",
       "    </tr>\n",
       "    <tr>\n",
       "      <th>4</th>\n",
       "      <td>17</td>\n",
       "      <td>11</td>\n",
       "      <td>1101</td>\n",
       "      <td>0</td>\n",
       "      <td>31</td>\n",
       "      <td>1</td>\n",
       "      <td>0</td>\n",
       "      <td>1</td>\n",
       "      <td>1</td>\n",
       "      <td>1.077</td>\n",
       "      <td>15.075</td>\n",
       "      <td>26.919</td>\n",
       "      <td>390.869</td>\n",
       "    </tr>\n",
       "    <tr>\n",
       "      <th>...</th>\n",
       "      <td>...</td>\n",
       "      <td>...</td>\n",
       "      <td>...</td>\n",
       "      <td>...</td>\n",
       "      <td>...</td>\n",
       "      <td>...</td>\n",
       "      <td>...</td>\n",
       "      <td>...</td>\n",
       "      <td>...</td>\n",
       "      <td>...</td>\n",
       "      <td>...</td>\n",
       "      <td>...</td>\n",
       "      <td>...</td>\n",
       "    </tr>\n",
       "    <tr>\n",
       "      <th>5901</th>\n",
       "      <td>19515</td>\n",
       "      <td>94</td>\n",
       "      <td>9471</td>\n",
       "      <td>1</td>\n",
       "      <td>39</td>\n",
       "      <td>0</td>\n",
       "      <td>1</td>\n",
       "      <td>1</td>\n",
       "      <td>1</td>\n",
       "      <td>1.757</td>\n",
       "      <td>3.262</td>\n",
       "      <td>48.936</td>\n",
       "      <td>209.045</td>\n",
       "    </tr>\n",
       "    <tr>\n",
       "      <th>5902</th>\n",
       "      <td>19525</td>\n",
       "      <td>94</td>\n",
       "      <td>9471</td>\n",
       "      <td>0</td>\n",
       "      <td>30</td>\n",
       "      <td>1</td>\n",
       "      <td>1</td>\n",
       "      <td>1</td>\n",
       "      <td>1</td>\n",
       "      <td>1.757</td>\n",
       "      <td>3.262</td>\n",
       "      <td>48.936</td>\n",
       "      <td>209.045</td>\n",
       "    </tr>\n",
       "    <tr>\n",
       "      <th>5903</th>\n",
       "      <td>19528</td>\n",
       "      <td>94</td>\n",
       "      <td>9471</td>\n",
       "      <td>0</td>\n",
       "      <td>22</td>\n",
       "      <td>1</td>\n",
       "      <td>1</td>\n",
       "      <td>1</td>\n",
       "      <td>1</td>\n",
       "      <td>1.757</td>\n",
       "      <td>3.262</td>\n",
       "      <td>48.936</td>\n",
       "      <td>209.045</td>\n",
       "    </tr>\n",
       "    <tr>\n",
       "      <th>5904</th>\n",
       "      <td>19531</td>\n",
       "      <td>94</td>\n",
       "      <td>9471</td>\n",
       "      <td>0</td>\n",
       "      <td>40</td>\n",
       "      <td>1</td>\n",
       "      <td>1</td>\n",
       "      <td>1</td>\n",
       "      <td>1</td>\n",
       "      <td>1.757</td>\n",
       "      <td>3.262</td>\n",
       "      <td>48.936</td>\n",
       "      <td>209.045</td>\n",
       "    </tr>\n",
       "    <tr>\n",
       "      <th>5905</th>\n",
       "      <td>19532</td>\n",
       "      <td>94</td>\n",
       "      <td>9471</td>\n",
       "      <td>0</td>\n",
       "      <td>38</td>\n",
       "      <td>1</td>\n",
       "      <td>0</td>\n",
       "      <td>1</td>\n",
       "      <td>1</td>\n",
       "      <td>1.757</td>\n",
       "      <td>3.262</td>\n",
       "      <td>48.936</td>\n",
       "      <td>209.045</td>\n",
       "    </tr>\n",
       "  </tbody>\n",
       "</table>\n",
       "<p>5906 rows × 13 columns</p>\n",
       "</div>"
      ],
      "text/plain": [
       "         ID  Provinsi  KodeKabKot  X1  X2  X3  X4  X5  X6     Z1      Z2  \\\n",
       "0         3        11        1101   1  39   0   0   1   1  1.077  15.075   \n",
       "1         5        11        1101   0  32   1   0   1   1  1.077  15.075   \n",
       "2         6        11        1101   1  32   1   0   1   1  1.077  15.075   \n",
       "3        10        11        1101   1  28   1   0   1   0  1.077  15.075   \n",
       "4        17        11        1101   0  31   1   0   1   1  1.077  15.075   \n",
       "...     ...       ...         ...  ..  ..  ..  ..  ..  ..    ...     ...   \n",
       "5901  19515        94        9471   1  39   0   1   1   1  1.757   3.262   \n",
       "5902  19525        94        9471   0  30   1   1   1   1  1.757   3.262   \n",
       "5903  19528        94        9471   0  22   1   1   1   1  1.757   3.262   \n",
       "5904  19531        94        9471   0  40   1   1   1   1  1.757   3.262   \n",
       "5905  19532        94        9471   0  38   1   0   1   1  1.757   3.262   \n",
       "\n",
       "          Z3       Z4  \n",
       "0     26.919  390.869  \n",
       "1     26.919  390.869  \n",
       "2     26.919  390.869  \n",
       "3     26.919  390.869  \n",
       "4     26.919  390.869  \n",
       "...      ...      ...  \n",
       "5901  48.936  209.045  \n",
       "5902  48.936  209.045  \n",
       "5903  48.936  209.045  \n",
       "5904  48.936  209.045  \n",
       "5905  48.936  209.045  \n",
       "\n",
       "[5906 rows x 13 columns]"
      ]
     },
     "execution_count": 11,
     "metadata": {},
     "output_type": "execute_result"
    }
   ],
   "source": [
    "datatest"
   ]
  },
  {
   "cell_type": "code",
   "execution_count": 12,
   "metadata": {
    "ExecuteTime": {
     "end_time": "2021-11-16T18:48:24.255720Z",
     "start_time": "2021-11-16T18:48:24.226379Z"
    },
    "hidden": true,
    "scrolled": true
   },
   "outputs": [
    {
     "name": "stdout",
     "output_type": "stream",
     "text": [
      "<class 'pandas.core.frame.DataFrame'>\n",
      "RangeIndex: 5906 entries, 0 to 5905\n",
      "Data columns (total 13 columns):\n",
      " #   Column      Non-Null Count  Dtype  \n",
      "---  ------      --------------  -----  \n",
      " 0   ID          5906 non-null   int64  \n",
      " 1   Provinsi    5906 non-null   int64  \n",
      " 2   KodeKabKot  5906 non-null   int64  \n",
      " 3   X1          5906 non-null   int64  \n",
      " 4   X2          5906 non-null   int64  \n",
      " 5   X3          5906 non-null   int64  \n",
      " 6   X4          5906 non-null   int64  \n",
      " 7   X5          5906 non-null   int64  \n",
      " 8   X6          5906 non-null   int64  \n",
      " 9   Z1          5906 non-null   float64\n",
      " 10  Z2          5906 non-null   float64\n",
      " 11  Z3          5906 non-null   float64\n",
      " 12  Z4          5901 non-null   float64\n",
      "dtypes: float64(4), int64(9)\n",
      "memory usage: 600.0 KB\n"
     ]
    }
   ],
   "source": [
    "datatest.info()"
   ]
  },
  {
   "cell_type": "code",
   "execution_count": 13,
   "metadata": {
    "ExecuteTime": {
     "end_time": "2021-11-16T18:48:24.892718Z",
     "start_time": "2021-11-16T18:48:24.863361Z"
    },
    "hidden": true,
    "scrolled": true
   },
   "outputs": [
    {
     "name": "stdout",
     "output_type": "stream",
     "text": [
      "         ID  Provinsi  KodeKabKot  X1  X2  X3  X4  X5  X6     Z1     Z2  \\\n",
      "5883  19455        94        9434   1  21   0   1   0   0  0.861  7.745   \n",
      "5884  19459        94        9434   1  27   0   1   0   0  0.861  7.745   \n",
      "5885  19460        94        9434   1  35   1   1   0   0  0.861  7.745   \n",
      "5886  19461        94        9434   1  21   0   1   0   0  0.861  7.745   \n",
      "5887  19462        94        9434   1  42   0   1   0   0  0.861  7.745   \n",
      "\n",
      "         Z3  Z4  \n",
      "5883  0.861 NaN  \n",
      "5884  0.861 NaN  \n",
      "5885  0.861 NaN  \n",
      "5886  0.861 NaN  \n",
      "5887  0.861 NaN  \n"
     ]
    }
   ],
   "source": [
    "datatestnull = datatest[datatest.isna().any(axis=1)]\n",
    "print (datatestnull)"
   ]
  },
  {
   "cell_type": "markdown",
   "metadata": {
    "hidden": true,
    "id": "_tCzu2oV24en"
   },
   "source": [
    "fill null"
   ]
  },
  {
   "cell_type": "code",
   "execution_count": 14,
   "metadata": {
    "ExecuteTime": {
     "end_time": "2021-11-16T18:48:26.442374Z",
     "start_time": "2021-11-16T18:48:26.433519Z"
    },
    "hidden": true
   },
   "outputs": [],
   "source": [
    "datatest = datatest.fillna(224.555)"
   ]
  },
  {
   "cell_type": "code",
   "execution_count": 15,
   "metadata": {
    "ExecuteTime": {
     "end_time": "2021-11-16T18:48:27.651687Z",
     "start_time": "2021-11-16T18:48:27.619644Z"
    },
    "hidden": true
   },
   "outputs": [
    {
     "name": "stdout",
     "output_type": "stream",
     "text": [
      "<class 'pandas.core.frame.DataFrame'>\n",
      "RangeIndex: 5906 entries, 0 to 5905\n",
      "Data columns (total 13 columns):\n",
      " #   Column      Non-Null Count  Dtype  \n",
      "---  ------      --------------  -----  \n",
      " 0   ID          5906 non-null   int64  \n",
      " 1   Provinsi    5906 non-null   int64  \n",
      " 2   KodeKabKot  5906 non-null   int64  \n",
      " 3   X1          5906 non-null   int64  \n",
      " 4   X2          5906 non-null   int64  \n",
      " 5   X3          5906 non-null   int64  \n",
      " 6   X4          5906 non-null   int64  \n",
      " 7   X5          5906 non-null   int64  \n",
      " 8   X6          5906 non-null   int64  \n",
      " 9   Z1          5906 non-null   float64\n",
      " 10  Z2          5906 non-null   float64\n",
      " 11  Z3          5906 non-null   float64\n",
      " 12  Z4          5906 non-null   float64\n",
      "dtypes: float64(4), int64(9)\n",
      "memory usage: 600.0 KB\n"
     ]
    }
   ],
   "source": [
    "datatest.info()"
   ]
  },
  {
   "cell_type": "markdown",
   "metadata": {},
   "source": [
    "## Cleaning"
   ]
  },
  {
   "cell_type": "code",
   "execution_count": 16,
   "metadata": {
    "ExecuteTime": {
     "end_time": "2021-11-16T18:48:30.825217Z",
     "start_time": "2021-11-16T18:48:30.799598Z"
    }
   },
   "outputs": [],
   "source": [
    "datatrain=datatrain.drop(columns=\"KodeKabKot\")"
   ]
  },
  {
   "cell_type": "code",
   "execution_count": 71,
   "metadata": {
    "ExecuteTime": {
     "end_time": "2021-11-16T19:09:52.420314Z",
     "start_time": "2021-11-16T19:09:52.414319Z"
    }
   },
   "outputs": [],
   "source": [
    "datatest=datatest.drop(columns=\"KodeKabKot\")"
   ]
  },
  {
   "cell_type": "code",
   "execution_count": 17,
   "metadata": {
    "ExecuteTime": {
     "end_time": "2021-11-16T18:48:31.322192Z",
     "start_time": "2021-11-16T18:48:31.278522Z"
    },
    "colab": {
     "base_uri": "https://localhost:8080/",
     "height": 696
    },
    "id": "rAmQwRGPMPIg",
    "outputId": "f360d45a-5c05-45d3-9a04-56d720ca4338"
   },
   "outputs": [
    {
     "data": {
      "text/html": [
       "<div>\n",
       "<style scoped>\n",
       "    .dataframe tbody tr th:only-of-type {\n",
       "        vertical-align: middle;\n",
       "    }\n",
       "\n",
       "    .dataframe tbody tr th {\n",
       "        vertical-align: top;\n",
       "    }\n",
       "\n",
       "    .dataframe thead th {\n",
       "        text-align: right;\n",
       "    }\n",
       "</style>\n",
       "<table border=\"1\" class=\"dataframe\">\n",
       "  <thead>\n",
       "    <tr style=\"text-align: right;\">\n",
       "      <th></th>\n",
       "      <th>ID</th>\n",
       "      <th>Provinsi</th>\n",
       "      <th>Y</th>\n",
       "      <th>X1</th>\n",
       "      <th>X2</th>\n",
       "      <th>X3</th>\n",
       "      <th>X4</th>\n",
       "      <th>X5</th>\n",
       "      <th>X6</th>\n",
       "      <th>Z1</th>\n",
       "      <th>Z2</th>\n",
       "      <th>Z3</th>\n",
       "      <th>Z4</th>\n",
       "    </tr>\n",
       "  </thead>\n",
       "  <tbody>\n",
       "    <tr>\n",
       "      <th>0</th>\n",
       "      <td>1</td>\n",
       "      <td>11</td>\n",
       "      <td>0</td>\n",
       "      <td>1</td>\n",
       "      <td>27</td>\n",
       "      <td>0</td>\n",
       "      <td>0</td>\n",
       "      <td>1</td>\n",
       "      <td>1</td>\n",
       "      <td>1.077</td>\n",
       "      <td>15.075</td>\n",
       "      <td>26.919</td>\n",
       "      <td>390.869</td>\n",
       "    </tr>\n",
       "    <tr>\n",
       "      <th>1</th>\n",
       "      <td>2</td>\n",
       "      <td>11</td>\n",
       "      <td>0</td>\n",
       "      <td>1</td>\n",
       "      <td>38</td>\n",
       "      <td>0</td>\n",
       "      <td>0</td>\n",
       "      <td>1</td>\n",
       "      <td>0</td>\n",
       "      <td>1.077</td>\n",
       "      <td>15.075</td>\n",
       "      <td>26.919</td>\n",
       "      <td>390.869</td>\n",
       "    </tr>\n",
       "    <tr>\n",
       "      <th>2</th>\n",
       "      <td>4</td>\n",
       "      <td>11</td>\n",
       "      <td>0</td>\n",
       "      <td>0</td>\n",
       "      <td>36</td>\n",
       "      <td>0</td>\n",
       "      <td>0</td>\n",
       "      <td>0</td>\n",
       "      <td>1</td>\n",
       "      <td>1.077</td>\n",
       "      <td>15.075</td>\n",
       "      <td>26.919</td>\n",
       "      <td>390.869</td>\n",
       "    </tr>\n",
       "    <tr>\n",
       "      <th>3</th>\n",
       "      <td>7</td>\n",
       "      <td>11</td>\n",
       "      <td>0</td>\n",
       "      <td>0</td>\n",
       "      <td>27</td>\n",
       "      <td>0</td>\n",
       "      <td>0</td>\n",
       "      <td>1</td>\n",
       "      <td>1</td>\n",
       "      <td>1.077</td>\n",
       "      <td>15.075</td>\n",
       "      <td>26.919</td>\n",
       "      <td>390.869</td>\n",
       "    </tr>\n",
       "    <tr>\n",
       "      <th>4</th>\n",
       "      <td>8</td>\n",
       "      <td>11</td>\n",
       "      <td>0</td>\n",
       "      <td>1</td>\n",
       "      <td>36</td>\n",
       "      <td>1</td>\n",
       "      <td>0</td>\n",
       "      <td>0</td>\n",
       "      <td>0</td>\n",
       "      <td>1.077</td>\n",
       "      <td>15.075</td>\n",
       "      <td>26.919</td>\n",
       "      <td>390.869</td>\n",
       "    </tr>\n",
       "    <tr>\n",
       "      <th>5</th>\n",
       "      <td>9</td>\n",
       "      <td>11</td>\n",
       "      <td>1</td>\n",
       "      <td>1</td>\n",
       "      <td>20</td>\n",
       "      <td>0</td>\n",
       "      <td>1</td>\n",
       "      <td>1</td>\n",
       "      <td>0</td>\n",
       "      <td>1.077</td>\n",
       "      <td>15.075</td>\n",
       "      <td>26.919</td>\n",
       "      <td>390.869</td>\n",
       "    </tr>\n",
       "    <tr>\n",
       "      <th>6</th>\n",
       "      <td>11</td>\n",
       "      <td>11</td>\n",
       "      <td>0</td>\n",
       "      <td>1</td>\n",
       "      <td>27</td>\n",
       "      <td>0</td>\n",
       "      <td>1</td>\n",
       "      <td>1</td>\n",
       "      <td>1</td>\n",
       "      <td>1.077</td>\n",
       "      <td>15.075</td>\n",
       "      <td>26.919</td>\n",
       "      <td>390.869</td>\n",
       "    </tr>\n",
       "    <tr>\n",
       "      <th>7</th>\n",
       "      <td>12</td>\n",
       "      <td>11</td>\n",
       "      <td>0</td>\n",
       "      <td>0</td>\n",
       "      <td>36</td>\n",
       "      <td>1</td>\n",
       "      <td>0</td>\n",
       "      <td>1</td>\n",
       "      <td>1</td>\n",
       "      <td>1.077</td>\n",
       "      <td>15.075</td>\n",
       "      <td>26.919</td>\n",
       "      <td>390.869</td>\n",
       "    </tr>\n",
       "    <tr>\n",
       "      <th>8</th>\n",
       "      <td>13</td>\n",
       "      <td>11</td>\n",
       "      <td>0</td>\n",
       "      <td>0</td>\n",
       "      <td>33</td>\n",
       "      <td>1</td>\n",
       "      <td>0</td>\n",
       "      <td>1</td>\n",
       "      <td>1</td>\n",
       "      <td>1.077</td>\n",
       "      <td>15.075</td>\n",
       "      <td>26.919</td>\n",
       "      <td>390.869</td>\n",
       "    </tr>\n",
       "    <tr>\n",
       "      <th>9</th>\n",
       "      <td>14</td>\n",
       "      <td>11</td>\n",
       "      <td>0</td>\n",
       "      <td>1</td>\n",
       "      <td>23</td>\n",
       "      <td>1</td>\n",
       "      <td>0</td>\n",
       "      <td>1</td>\n",
       "      <td>1</td>\n",
       "      <td>1.077</td>\n",
       "      <td>15.075</td>\n",
       "      <td>26.919</td>\n",
       "      <td>390.869</td>\n",
       "    </tr>\n",
       "  </tbody>\n",
       "</table>\n",
       "</div>"
      ],
      "text/plain": [
       "   ID  Provinsi  Y  X1  X2  X3  X4  X5  X6     Z1      Z2      Z3       Z4\n",
       "0   1        11  0   1  27   0   0   1   1  1.077  15.075  26.919  390.869\n",
       "1   2        11  0   1  38   0   0   1   0  1.077  15.075  26.919  390.869\n",
       "2   4        11  0   0  36   0   0   0   1  1.077  15.075  26.919  390.869\n",
       "3   7        11  0   0  27   0   0   1   1  1.077  15.075  26.919  390.869\n",
       "4   8        11  0   1  36   1   0   0   0  1.077  15.075  26.919  390.869\n",
       "5   9        11  1   1  20   0   1   1   0  1.077  15.075  26.919  390.869\n",
       "6  11        11  0   1  27   0   1   1   1  1.077  15.075  26.919  390.869\n",
       "7  12        11  0   0  36   1   0   1   1  1.077  15.075  26.919  390.869\n",
       "8  13        11  0   0  33   1   0   1   1  1.077  15.075  26.919  390.869\n",
       "9  14        11  0   1  23   1   0   1   1  1.077  15.075  26.919  390.869"
      ]
     },
     "execution_count": 17,
     "metadata": {},
     "output_type": "execute_result"
    }
   ],
   "source": [
    "datatrain.head(10)"
   ]
  },
  {
   "cell_type": "code",
   "execution_count": 18,
   "metadata": {
    "ExecuteTime": {
     "end_time": "2021-11-16T18:48:32.063301Z",
     "start_time": "2021-11-16T18:48:32.046276Z"
    }
   },
   "outputs": [],
   "source": [
    "from sklearn.preprocessing import StandardScaler"
   ]
  },
  {
   "cell_type": "code",
   "execution_count": 19,
   "metadata": {
    "ExecuteTime": {
     "end_time": "2021-11-16T18:48:34.129394Z",
     "start_time": "2021-11-16T18:48:34.124390Z"
    }
   },
   "outputs": [],
   "source": [
    "#stdz = datatrain[['X2','Z1','Z2','Z3','Z4']]\n",
    "#stdz"
   ]
  },
  {
   "cell_type": "code",
   "execution_count": 20,
   "metadata": {
    "ExecuteTime": {
     "end_time": "2021-11-16T18:48:34.794278Z",
     "start_time": "2021-11-16T18:48:34.776447Z"
    }
   },
   "outputs": [],
   "source": [
    "#scaler = StandardScaler()\n",
    "#std_dataz = pd.DataFrame(scaler.fit_transform(stdz))\n",
    "\n",
    "#std_dataz.columns = stdz.columns\n",
    "#std_dataz"
   ]
  },
  {
   "cell_type": "code",
   "execution_count": 21,
   "metadata": {
    "ExecuteTime": {
     "end_time": "2021-11-16T18:48:35.386900Z",
     "start_time": "2021-11-16T18:48:35.372376Z"
    }
   },
   "outputs": [],
   "source": [
    "#datatrainstd = pd.concat([datatrain[[\"ID\",\"Provinsi\",\"Y\",\"X1\"]],std_dataz[\"X2\"],datatrain[[\"X3\",\"X4\",\"X5\",\"X6\"]], std_dataz[[\"Z1\",\"Z2\",\"Z3\",'Z4']]], axis=1)\n",
    "#datatrainstd"
   ]
  },
  {
   "cell_type": "markdown",
   "metadata": {},
   "source": [
    "### Dummies Prov"
   ]
  },
  {
   "cell_type": "code",
   "execution_count": 26,
   "metadata": {
    "ExecuteTime": {
     "end_time": "2021-11-16T17:21:33.734265Z",
     "start_time": "2021-11-16T17:21:33.717260Z"
    }
   },
   "outputs": [
    {
     "name": "stdout",
     "output_type": "stream",
     "text": [
      "Provinsi  Jumlah\n"
     ]
    },
    {
     "data": {
      "text/plain": [
       "11    631\n",
       "12    959\n",
       "13    503\n",
       "14    353\n",
       "15    236\n",
       "16    411\n",
       "17    214\n",
       "18    460\n",
       "19    167\n",
       "21    154\n",
       "31    193\n",
       "32    892\n",
       "33    966\n",
       "34     95\n",
       "35    953\n",
       "36    282\n",
       "51    210\n",
       "52    320\n",
       "53    648\n",
       "61    355\n",
       "62    326\n",
       "63    302\n",
       "64    236\n",
       "65    132\n",
       "71    289\n",
       "72    307\n",
       "73    666\n",
       "74    479\n",
       "75    132\n",
       "76    193\n",
       "81    344\n",
       "82    254\n",
       "91    379\n",
       "94    585\n",
       "Name: Provinsi, dtype: int64"
      ]
     },
     "execution_count": 26,
     "metadata": {},
     "output_type": "execute_result"
    }
   ],
   "source": [
    "print(\"Provinsi  Jumlah\")\n",
    "datatrain[\"Provinsi\"].value_counts(sort=False)"
   ]
  },
  {
   "cell_type": "code",
   "execution_count": 27,
   "metadata": {
    "ExecuteTime": {
     "end_time": "2021-11-16T17:21:35.550922Z",
     "start_time": "2021-11-16T17:21:35.545925Z"
    }
   },
   "outputs": [],
   "source": [
    "#prov = pd.get_dummies(datatrain[\"Provinsi\"])\n",
    "#datatrain = pd.concat([prov,datatrain.drop(columns=\"Provinsi\")], axis=1)"
   ]
  },
  {
   "cell_type": "code",
   "execution_count": 29,
   "metadata": {
    "ExecuteTime": {
     "end_time": "2021-11-16T17:21:37.008693Z",
     "start_time": "2021-11-16T17:21:36.991702Z"
    }
   },
   "outputs": [],
   "source": [
    "#datatrain"
   ]
  },
  {
   "cell_type": "markdown",
   "metadata": {
    "id": "W7Sq_WFj4jca"
   },
   "source": [
    "# Define X and Y"
   ]
  },
  {
   "cell_type": "markdown",
   "metadata": {},
   "source": [
    "### Kategorisasi Umur Ibu"
   ]
  },
  {
   "cell_type": "code",
   "execution_count": 25,
   "metadata": {
    "ExecuteTime": {
     "end_time": "2021-11-16T18:49:52.565445Z",
     "start_time": "2021-11-16T18:49:52.505791Z"
    },
    "scrolled": false
   },
   "outputs": [
    {
     "data": {
      "text/html": [
       "<div>\n",
       "<style scoped>\n",
       "    .dataframe tbody tr th:only-of-type {\n",
       "        vertical-align: middle;\n",
       "    }\n",
       "\n",
       "    .dataframe tbody tr th {\n",
       "        vertical-align: top;\n",
       "    }\n",
       "\n",
       "    .dataframe thead th {\n",
       "        text-align: right;\n",
       "    }\n",
       "</style>\n",
       "<table border=\"1\" class=\"dataframe\">\n",
       "  <thead>\n",
       "    <tr style=\"text-align: right;\">\n",
       "      <th></th>\n",
       "      <th>ID</th>\n",
       "      <th>Provinsi</th>\n",
       "      <th>Y</th>\n",
       "      <th>X1</th>\n",
       "      <th>X2</th>\n",
       "      <th>X3</th>\n",
       "      <th>X4</th>\n",
       "      <th>X5</th>\n",
       "      <th>X6</th>\n",
       "      <th>Z1</th>\n",
       "      <th>Z2</th>\n",
       "      <th>Z3</th>\n",
       "      <th>Z4</th>\n",
       "    </tr>\n",
       "  </thead>\n",
       "  <tbody>\n",
       "    <tr>\n",
       "      <th>0</th>\n",
       "      <td>1</td>\n",
       "      <td>11</td>\n",
       "      <td>0</td>\n",
       "      <td>1</td>\n",
       "      <td>27</td>\n",
       "      <td>0</td>\n",
       "      <td>0</td>\n",
       "      <td>1</td>\n",
       "      <td>1</td>\n",
       "      <td>1.077</td>\n",
       "      <td>15.075</td>\n",
       "      <td>26.919</td>\n",
       "      <td>390.869</td>\n",
       "    </tr>\n",
       "    <tr>\n",
       "      <th>3</th>\n",
       "      <td>7</td>\n",
       "      <td>11</td>\n",
       "      <td>0</td>\n",
       "      <td>0</td>\n",
       "      <td>27</td>\n",
       "      <td>0</td>\n",
       "      <td>0</td>\n",
       "      <td>1</td>\n",
       "      <td>1</td>\n",
       "      <td>1.077</td>\n",
       "      <td>15.075</td>\n",
       "      <td>26.919</td>\n",
       "      <td>390.869</td>\n",
       "    </tr>\n",
       "    <tr>\n",
       "      <th>5</th>\n",
       "      <td>9</td>\n",
       "      <td>11</td>\n",
       "      <td>1</td>\n",
       "      <td>1</td>\n",
       "      <td>20</td>\n",
       "      <td>0</td>\n",
       "      <td>1</td>\n",
       "      <td>1</td>\n",
       "      <td>0</td>\n",
       "      <td>1.077</td>\n",
       "      <td>15.075</td>\n",
       "      <td>26.919</td>\n",
       "      <td>390.869</td>\n",
       "    </tr>\n",
       "    <tr>\n",
       "      <th>6</th>\n",
       "      <td>11</td>\n",
       "      <td>11</td>\n",
       "      <td>0</td>\n",
       "      <td>1</td>\n",
       "      <td>27</td>\n",
       "      <td>0</td>\n",
       "      <td>1</td>\n",
       "      <td>1</td>\n",
       "      <td>1</td>\n",
       "      <td>1.077</td>\n",
       "      <td>15.075</td>\n",
       "      <td>26.919</td>\n",
       "      <td>390.869</td>\n",
       "    </tr>\n",
       "    <tr>\n",
       "      <th>9</th>\n",
       "      <td>14</td>\n",
       "      <td>11</td>\n",
       "      <td>0</td>\n",
       "      <td>1</td>\n",
       "      <td>23</td>\n",
       "      <td>1</td>\n",
       "      <td>0</td>\n",
       "      <td>1</td>\n",
       "      <td>1</td>\n",
       "      <td>1.077</td>\n",
       "      <td>15.075</td>\n",
       "      <td>26.919</td>\n",
       "      <td>390.869</td>\n",
       "    </tr>\n",
       "    <tr>\n",
       "      <th>...</th>\n",
       "      <td>...</td>\n",
       "      <td>...</td>\n",
       "      <td>...</td>\n",
       "      <td>...</td>\n",
       "      <td>...</td>\n",
       "      <td>...</td>\n",
       "      <td>...</td>\n",
       "      <td>...</td>\n",
       "      <td>...</td>\n",
       "      <td>...</td>\n",
       "      <td>...</td>\n",
       "      <td>...</td>\n",
       "      <td>...</td>\n",
       "    </tr>\n",
       "    <tr>\n",
       "      <th>13611</th>\n",
       "      <td>19512</td>\n",
       "      <td>94</td>\n",
       "      <td>0</td>\n",
       "      <td>0</td>\n",
       "      <td>27</td>\n",
       "      <td>1</td>\n",
       "      <td>0</td>\n",
       "      <td>1</td>\n",
       "      <td>1</td>\n",
       "      <td>1.757</td>\n",
       "      <td>3.262</td>\n",
       "      <td>48.936</td>\n",
       "      <td>209.045</td>\n",
       "    </tr>\n",
       "    <tr>\n",
       "      <th>13613</th>\n",
       "      <td>19516</td>\n",
       "      <td>94</td>\n",
       "      <td>1</td>\n",
       "      <td>0</td>\n",
       "      <td>27</td>\n",
       "      <td>1</td>\n",
       "      <td>0</td>\n",
       "      <td>1</td>\n",
       "      <td>1</td>\n",
       "      <td>1.757</td>\n",
       "      <td>3.262</td>\n",
       "      <td>48.936</td>\n",
       "      <td>209.045</td>\n",
       "    </tr>\n",
       "    <tr>\n",
       "      <th>13621</th>\n",
       "      <td>19524</td>\n",
       "      <td>94</td>\n",
       "      <td>1</td>\n",
       "      <td>0</td>\n",
       "      <td>28</td>\n",
       "      <td>1</td>\n",
       "      <td>0</td>\n",
       "      <td>1</td>\n",
       "      <td>1</td>\n",
       "      <td>1.757</td>\n",
       "      <td>3.262</td>\n",
       "      <td>48.936</td>\n",
       "      <td>209.045</td>\n",
       "    </tr>\n",
       "    <tr>\n",
       "      <th>13622</th>\n",
       "      <td>19526</td>\n",
       "      <td>94</td>\n",
       "      <td>0</td>\n",
       "      <td>1</td>\n",
       "      <td>22</td>\n",
       "      <td>1</td>\n",
       "      <td>1</td>\n",
       "      <td>1</td>\n",
       "      <td>1</td>\n",
       "      <td>1.757</td>\n",
       "      <td>3.262</td>\n",
       "      <td>48.936</td>\n",
       "      <td>209.045</td>\n",
       "    </tr>\n",
       "    <tr>\n",
       "      <th>13624</th>\n",
       "      <td>19529</td>\n",
       "      <td>94</td>\n",
       "      <td>0</td>\n",
       "      <td>0</td>\n",
       "      <td>27</td>\n",
       "      <td>1</td>\n",
       "      <td>0</td>\n",
       "      <td>1</td>\n",
       "      <td>1</td>\n",
       "      <td>1.757</td>\n",
       "      <td>3.262</td>\n",
       "      <td>48.936</td>\n",
       "      <td>209.045</td>\n",
       "    </tr>\n",
       "  </tbody>\n",
       "</table>\n",
       "<p>6344 rows × 13 columns</p>\n",
       "</div>"
      ],
      "text/plain": [
       "          ID  Provinsi  Y  X1  X2  X3  X4  X5  X6     Z1      Z2      Z3  \\\n",
       "0          1        11  0   1  27   0   0   1   1  1.077  15.075  26.919   \n",
       "3          7        11  0   0  27   0   0   1   1  1.077  15.075  26.919   \n",
       "5          9        11  1   1  20   0   1   1   0  1.077  15.075  26.919   \n",
       "6         11        11  0   1  27   0   1   1   1  1.077  15.075  26.919   \n",
       "9         14        11  0   1  23   1   0   1   1  1.077  15.075  26.919   \n",
       "...      ...       ... ..  ..  ..  ..  ..  ..  ..    ...     ...     ...   \n",
       "13611  19512        94  0   0  27   1   0   1   1  1.757   3.262  48.936   \n",
       "13613  19516        94  1   0  27   1   0   1   1  1.757   3.262  48.936   \n",
       "13621  19524        94  1   0  28   1   0   1   1  1.757   3.262  48.936   \n",
       "13622  19526        94  0   1  22   1   1   1   1  1.757   3.262  48.936   \n",
       "13624  19529        94  0   0  27   1   0   1   1  1.757   3.262  48.936   \n",
       "\n",
       "            Z4  \n",
       "0      390.869  \n",
       "3      390.869  \n",
       "5      390.869  \n",
       "6      390.869  \n",
       "9      390.869  \n",
       "...        ...  \n",
       "13611  209.045  \n",
       "13613  209.045  \n",
       "13621  209.045  \n",
       "13622  209.045  \n",
       "13624  209.045  \n",
       "\n",
       "[6344 rows x 13 columns]"
      ]
     },
     "execution_count": 25,
     "metadata": {},
     "output_type": "execute_result"
    }
   ],
   "source": [
    "datatrainyoung = datatrain[datatrain[\"X2\"] < 30]\n",
    "datatrainyoung"
   ]
  },
  {
   "cell_type": "code",
   "execution_count": 73,
   "metadata": {
    "ExecuteTime": {
     "end_time": "2021-11-16T19:10:52.475155Z",
     "start_time": "2021-11-16T19:10:52.455155Z"
    },
    "scrolled": false
   },
   "outputs": [
    {
     "data": {
      "text/html": [
       "<div>\n",
       "<style scoped>\n",
       "    .dataframe tbody tr th:only-of-type {\n",
       "        vertical-align: middle;\n",
       "    }\n",
       "\n",
       "    .dataframe tbody tr th {\n",
       "        vertical-align: top;\n",
       "    }\n",
       "\n",
       "    .dataframe thead th {\n",
       "        text-align: right;\n",
       "    }\n",
       "</style>\n",
       "<table border=\"1\" class=\"dataframe\">\n",
       "  <thead>\n",
       "    <tr style=\"text-align: right;\">\n",
       "      <th></th>\n",
       "      <th>ID</th>\n",
       "      <th>Provinsi</th>\n",
       "      <th>X1</th>\n",
       "      <th>X2</th>\n",
       "      <th>X3</th>\n",
       "      <th>X4</th>\n",
       "      <th>X5</th>\n",
       "      <th>X6</th>\n",
       "      <th>Z1</th>\n",
       "      <th>Z2</th>\n",
       "      <th>Z3</th>\n",
       "      <th>Z4</th>\n",
       "    </tr>\n",
       "  </thead>\n",
       "  <tbody>\n",
       "    <tr>\n",
       "      <th>3</th>\n",
       "      <td>10</td>\n",
       "      <td>11</td>\n",
       "      <td>1</td>\n",
       "      <td>28</td>\n",
       "      <td>1</td>\n",
       "      <td>0</td>\n",
       "      <td>1</td>\n",
       "      <td>0</td>\n",
       "      <td>1.077</td>\n",
       "      <td>15.075</td>\n",
       "      <td>26.919</td>\n",
       "      <td>390.869</td>\n",
       "    </tr>\n",
       "    <tr>\n",
       "      <th>5</th>\n",
       "      <td>19</td>\n",
       "      <td>11</td>\n",
       "      <td>1</td>\n",
       "      <td>24</td>\n",
       "      <td>0</td>\n",
       "      <td>0</td>\n",
       "      <td>1</td>\n",
       "      <td>1</td>\n",
       "      <td>1.077</td>\n",
       "      <td>15.075</td>\n",
       "      <td>26.919</td>\n",
       "      <td>390.869</td>\n",
       "    </tr>\n",
       "    <tr>\n",
       "      <th>6</th>\n",
       "      <td>20</td>\n",
       "      <td>11</td>\n",
       "      <td>1</td>\n",
       "      <td>27</td>\n",
       "      <td>1</td>\n",
       "      <td>0</td>\n",
       "      <td>1</td>\n",
       "      <td>1</td>\n",
       "      <td>1.077</td>\n",
       "      <td>15.075</td>\n",
       "      <td>26.919</td>\n",
       "      <td>390.869</td>\n",
       "    </tr>\n",
       "    <tr>\n",
       "      <th>7</th>\n",
       "      <td>32</td>\n",
       "      <td>11</td>\n",
       "      <td>1</td>\n",
       "      <td>25</td>\n",
       "      <td>1</td>\n",
       "      <td>0</td>\n",
       "      <td>1</td>\n",
       "      <td>1</td>\n",
       "      <td>1.077</td>\n",
       "      <td>15.075</td>\n",
       "      <td>26.919</td>\n",
       "      <td>390.869</td>\n",
       "    </tr>\n",
       "    <tr>\n",
       "      <th>9</th>\n",
       "      <td>44</td>\n",
       "      <td>11</td>\n",
       "      <td>0</td>\n",
       "      <td>20</td>\n",
       "      <td>0</td>\n",
       "      <td>0</td>\n",
       "      <td>0</td>\n",
       "      <td>1</td>\n",
       "      <td>0.790</td>\n",
       "      <td>9.485</td>\n",
       "      <td>34.780</td>\n",
       "      <td>271.125</td>\n",
       "    </tr>\n",
       "    <tr>\n",
       "      <th>...</th>\n",
       "      <td>...</td>\n",
       "      <td>...</td>\n",
       "      <td>...</td>\n",
       "      <td>...</td>\n",
       "      <td>...</td>\n",
       "      <td>...</td>\n",
       "      <td>...</td>\n",
       "      <td>...</td>\n",
       "      <td>...</td>\n",
       "      <td>...</td>\n",
       "      <td>...</td>\n",
       "      <td>...</td>\n",
       "    </tr>\n",
       "    <tr>\n",
       "      <th>5893</th>\n",
       "      <td>19475</td>\n",
       "      <td>94</td>\n",
       "      <td>1</td>\n",
       "      <td>27</td>\n",
       "      <td>0</td>\n",
       "      <td>1</td>\n",
       "      <td>1</td>\n",
       "      <td>1</td>\n",
       "      <td>0.741</td>\n",
       "      <td>2.962</td>\n",
       "      <td>8.146</td>\n",
       "      <td>48.873</td>\n",
       "    </tr>\n",
       "    <tr>\n",
       "      <th>5896</th>\n",
       "      <td>19482</td>\n",
       "      <td>94</td>\n",
       "      <td>1</td>\n",
       "      <td>29</td>\n",
       "      <td>0</td>\n",
       "      <td>1</td>\n",
       "      <td>0</td>\n",
       "      <td>1</td>\n",
       "      <td>0.000</td>\n",
       "      <td>8.073</td>\n",
       "      <td>2.018</td>\n",
       "      <td>20.183</td>\n",
       "    </tr>\n",
       "    <tr>\n",
       "      <th>5898</th>\n",
       "      <td>19503</td>\n",
       "      <td>94</td>\n",
       "      <td>1</td>\n",
       "      <td>29</td>\n",
       "      <td>0</td>\n",
       "      <td>1</td>\n",
       "      <td>1</td>\n",
       "      <td>1</td>\n",
       "      <td>0.000</td>\n",
       "      <td>8.073</td>\n",
       "      <td>2.018</td>\n",
       "      <td>20.183</td>\n",
       "    </tr>\n",
       "    <tr>\n",
       "      <th>5900</th>\n",
       "      <td>19513</td>\n",
       "      <td>94</td>\n",
       "      <td>0</td>\n",
       "      <td>27</td>\n",
       "      <td>1</td>\n",
       "      <td>0</td>\n",
       "      <td>1</td>\n",
       "      <td>1</td>\n",
       "      <td>1.757</td>\n",
       "      <td>3.262</td>\n",
       "      <td>48.936</td>\n",
       "      <td>209.045</td>\n",
       "    </tr>\n",
       "    <tr>\n",
       "      <th>5903</th>\n",
       "      <td>19528</td>\n",
       "      <td>94</td>\n",
       "      <td>0</td>\n",
       "      <td>22</td>\n",
       "      <td>1</td>\n",
       "      <td>1</td>\n",
       "      <td>1</td>\n",
       "      <td>1</td>\n",
       "      <td>1.757</td>\n",
       "      <td>3.262</td>\n",
       "      <td>48.936</td>\n",
       "      <td>209.045</td>\n",
       "    </tr>\n",
       "  </tbody>\n",
       "</table>\n",
       "<p>2693 rows × 12 columns</p>\n",
       "</div>"
      ],
      "text/plain": [
       "         ID  Provinsi  X1  X2  X3  X4  X5  X6     Z1      Z2      Z3       Z4\n",
       "3        10        11   1  28   1   0   1   0  1.077  15.075  26.919  390.869\n",
       "5        19        11   1  24   0   0   1   1  1.077  15.075  26.919  390.869\n",
       "6        20        11   1  27   1   0   1   1  1.077  15.075  26.919  390.869\n",
       "7        32        11   1  25   1   0   1   1  1.077  15.075  26.919  390.869\n",
       "9        44        11   0  20   0   0   0   1  0.790   9.485  34.780  271.125\n",
       "...     ...       ...  ..  ..  ..  ..  ..  ..    ...     ...     ...      ...\n",
       "5893  19475        94   1  27   0   1   1   1  0.741   2.962   8.146   48.873\n",
       "5896  19482        94   1  29   0   1   0   1  0.000   8.073   2.018   20.183\n",
       "5898  19503        94   1  29   0   1   1   1  0.000   8.073   2.018   20.183\n",
       "5900  19513        94   0  27   1   0   1   1  1.757   3.262  48.936  209.045\n",
       "5903  19528        94   0  22   1   1   1   1  1.757   3.262  48.936  209.045\n",
       "\n",
       "[2693 rows x 12 columns]"
      ]
     },
     "execution_count": 73,
     "metadata": {},
     "output_type": "execute_result"
    }
   ],
   "source": [
    "datatestyoung = datatest[datatest[\"X2\"] < 30]\n",
    "datatestyoung"
   ]
  },
  {
   "cell_type": "code",
   "execution_count": 26,
   "metadata": {
    "ExecuteTime": {
     "end_time": "2021-11-16T18:49:54.432079Z",
     "start_time": "2021-11-16T18:49:54.388126Z"
    }
   },
   "outputs": [
    {
     "data": {
      "text/html": [
       "<div>\n",
       "<style scoped>\n",
       "    .dataframe tbody tr th:only-of-type {\n",
       "        vertical-align: middle;\n",
       "    }\n",
       "\n",
       "    .dataframe tbody tr th {\n",
       "        vertical-align: top;\n",
       "    }\n",
       "\n",
       "    .dataframe thead th {\n",
       "        text-align: right;\n",
       "    }\n",
       "</style>\n",
       "<table border=\"1\" class=\"dataframe\">\n",
       "  <thead>\n",
       "    <tr style=\"text-align: right;\">\n",
       "      <th></th>\n",
       "      <th>ID</th>\n",
       "      <th>Provinsi</th>\n",
       "      <th>X1</th>\n",
       "      <th>Z3</th>\n",
       "      <th>X4</th>\n",
       "      <th>X5</th>\n",
       "      <th>X6</th>\n",
       "    </tr>\n",
       "  </thead>\n",
       "  <tbody>\n",
       "    <tr>\n",
       "      <th>0</th>\n",
       "      <td>1</td>\n",
       "      <td>11</td>\n",
       "      <td>1</td>\n",
       "      <td>26.919</td>\n",
       "      <td>0</td>\n",
       "      <td>1</td>\n",
       "      <td>1</td>\n",
       "    </tr>\n",
       "    <tr>\n",
       "      <th>3</th>\n",
       "      <td>7</td>\n",
       "      <td>11</td>\n",
       "      <td>0</td>\n",
       "      <td>26.919</td>\n",
       "      <td>0</td>\n",
       "      <td>1</td>\n",
       "      <td>1</td>\n",
       "    </tr>\n",
       "    <tr>\n",
       "      <th>5</th>\n",
       "      <td>9</td>\n",
       "      <td>11</td>\n",
       "      <td>1</td>\n",
       "      <td>26.919</td>\n",
       "      <td>1</td>\n",
       "      <td>1</td>\n",
       "      <td>0</td>\n",
       "    </tr>\n",
       "    <tr>\n",
       "      <th>6</th>\n",
       "      <td>11</td>\n",
       "      <td>11</td>\n",
       "      <td>1</td>\n",
       "      <td>26.919</td>\n",
       "      <td>1</td>\n",
       "      <td>1</td>\n",
       "      <td>1</td>\n",
       "    </tr>\n",
       "    <tr>\n",
       "      <th>9</th>\n",
       "      <td>14</td>\n",
       "      <td>11</td>\n",
       "      <td>1</td>\n",
       "      <td>26.919</td>\n",
       "      <td>0</td>\n",
       "      <td>1</td>\n",
       "      <td>1</td>\n",
       "    </tr>\n",
       "    <tr>\n",
       "      <th>...</th>\n",
       "      <td>...</td>\n",
       "      <td>...</td>\n",
       "      <td>...</td>\n",
       "      <td>...</td>\n",
       "      <td>...</td>\n",
       "      <td>...</td>\n",
       "      <td>...</td>\n",
       "    </tr>\n",
       "    <tr>\n",
       "      <th>13611</th>\n",
       "      <td>19512</td>\n",
       "      <td>94</td>\n",
       "      <td>0</td>\n",
       "      <td>48.936</td>\n",
       "      <td>0</td>\n",
       "      <td>1</td>\n",
       "      <td>1</td>\n",
       "    </tr>\n",
       "    <tr>\n",
       "      <th>13613</th>\n",
       "      <td>19516</td>\n",
       "      <td>94</td>\n",
       "      <td>0</td>\n",
       "      <td>48.936</td>\n",
       "      <td>0</td>\n",
       "      <td>1</td>\n",
       "      <td>1</td>\n",
       "    </tr>\n",
       "    <tr>\n",
       "      <th>13621</th>\n",
       "      <td>19524</td>\n",
       "      <td>94</td>\n",
       "      <td>0</td>\n",
       "      <td>48.936</td>\n",
       "      <td>0</td>\n",
       "      <td>1</td>\n",
       "      <td>1</td>\n",
       "    </tr>\n",
       "    <tr>\n",
       "      <th>13622</th>\n",
       "      <td>19526</td>\n",
       "      <td>94</td>\n",
       "      <td>1</td>\n",
       "      <td>48.936</td>\n",
       "      <td>1</td>\n",
       "      <td>1</td>\n",
       "      <td>1</td>\n",
       "    </tr>\n",
       "    <tr>\n",
       "      <th>13624</th>\n",
       "      <td>19529</td>\n",
       "      <td>94</td>\n",
       "      <td>0</td>\n",
       "      <td>48.936</td>\n",
       "      <td>0</td>\n",
       "      <td>1</td>\n",
       "      <td>1</td>\n",
       "    </tr>\n",
       "  </tbody>\n",
       "</table>\n",
       "<p>6344 rows × 7 columns</p>\n",
       "</div>"
      ],
      "text/plain": [
       "          ID  Provinsi  X1      Z3  X4  X5  X6\n",
       "0          1        11   1  26.919   0   1   1\n",
       "3          7        11   0  26.919   0   1   1\n",
       "5          9        11   1  26.919   1   1   0\n",
       "6         11        11   1  26.919   1   1   1\n",
       "9         14        11   1  26.919   0   1   1\n",
       "...      ...       ...  ..     ...  ..  ..  ..\n",
       "13611  19512        94   0  48.936   0   1   1\n",
       "13613  19516        94   0  48.936   0   1   1\n",
       "13621  19524        94   0  48.936   0   1   1\n",
       "13622  19526        94   1  48.936   1   1   1\n",
       "13624  19529        94   0  48.936   0   1   1\n",
       "\n",
       "[6344 rows x 7 columns]"
      ]
     },
     "execution_count": 26,
     "metadata": {},
     "output_type": "execute_result"
    }
   ],
   "source": [
    "otherdatatrainyoung = datatrainyoung[['ID','Provinsi','X1','Z3','X4','X5','X6']]\n",
    "otherdatatrainyoung"
   ]
  },
  {
   "cell_type": "code",
   "execution_count": 27,
   "metadata": {
    "ExecuteTime": {
     "end_time": "2021-11-16T18:49:55.084991Z",
     "start_time": "2021-11-16T18:49:55.032127Z"
    }
   },
   "outputs": [
    {
     "data": {
      "text/html": [
       "<div>\n",
       "<style scoped>\n",
       "    .dataframe tbody tr th:only-of-type {\n",
       "        vertical-align: middle;\n",
       "    }\n",
       "\n",
       "    .dataframe tbody tr th {\n",
       "        vertical-align: top;\n",
       "    }\n",
       "\n",
       "    .dataframe thead th {\n",
       "        text-align: right;\n",
       "    }\n",
       "</style>\n",
       "<table border=\"1\" class=\"dataframe\">\n",
       "  <thead>\n",
       "    <tr style=\"text-align: right;\">\n",
       "      <th></th>\n",
       "      <th>X2</th>\n",
       "      <th>Z1</th>\n",
       "      <th>Z2</th>\n",
       "      <th>Z3</th>\n",
       "      <th>Z4</th>\n",
       "    </tr>\n",
       "  </thead>\n",
       "  <tbody>\n",
       "    <tr>\n",
       "      <th>0</th>\n",
       "      <td>27</td>\n",
       "      <td>1.077</td>\n",
       "      <td>15.075</td>\n",
       "      <td>26.919</td>\n",
       "      <td>390.869</td>\n",
       "    </tr>\n",
       "    <tr>\n",
       "      <th>3</th>\n",
       "      <td>27</td>\n",
       "      <td>1.077</td>\n",
       "      <td>15.075</td>\n",
       "      <td>26.919</td>\n",
       "      <td>390.869</td>\n",
       "    </tr>\n",
       "    <tr>\n",
       "      <th>5</th>\n",
       "      <td>20</td>\n",
       "      <td>1.077</td>\n",
       "      <td>15.075</td>\n",
       "      <td>26.919</td>\n",
       "      <td>390.869</td>\n",
       "    </tr>\n",
       "    <tr>\n",
       "      <th>6</th>\n",
       "      <td>27</td>\n",
       "      <td>1.077</td>\n",
       "      <td>15.075</td>\n",
       "      <td>26.919</td>\n",
       "      <td>390.869</td>\n",
       "    </tr>\n",
       "    <tr>\n",
       "      <th>9</th>\n",
       "      <td>23</td>\n",
       "      <td>1.077</td>\n",
       "      <td>15.075</td>\n",
       "      <td>26.919</td>\n",
       "      <td>390.869</td>\n",
       "    </tr>\n",
       "    <tr>\n",
       "      <th>...</th>\n",
       "      <td>...</td>\n",
       "      <td>...</td>\n",
       "      <td>...</td>\n",
       "      <td>...</td>\n",
       "      <td>...</td>\n",
       "    </tr>\n",
       "    <tr>\n",
       "      <th>13611</th>\n",
       "      <td>27</td>\n",
       "      <td>1.757</td>\n",
       "      <td>3.262</td>\n",
       "      <td>48.936</td>\n",
       "      <td>209.045</td>\n",
       "    </tr>\n",
       "    <tr>\n",
       "      <th>13613</th>\n",
       "      <td>27</td>\n",
       "      <td>1.757</td>\n",
       "      <td>3.262</td>\n",
       "      <td>48.936</td>\n",
       "      <td>209.045</td>\n",
       "    </tr>\n",
       "    <tr>\n",
       "      <th>13621</th>\n",
       "      <td>28</td>\n",
       "      <td>1.757</td>\n",
       "      <td>3.262</td>\n",
       "      <td>48.936</td>\n",
       "      <td>209.045</td>\n",
       "    </tr>\n",
       "    <tr>\n",
       "      <th>13622</th>\n",
       "      <td>22</td>\n",
       "      <td>1.757</td>\n",
       "      <td>3.262</td>\n",
       "      <td>48.936</td>\n",
       "      <td>209.045</td>\n",
       "    </tr>\n",
       "    <tr>\n",
       "      <th>13624</th>\n",
       "      <td>27</td>\n",
       "      <td>1.757</td>\n",
       "      <td>3.262</td>\n",
       "      <td>48.936</td>\n",
       "      <td>209.045</td>\n",
       "    </tr>\n",
       "  </tbody>\n",
       "</table>\n",
       "<p>6344 rows × 5 columns</p>\n",
       "</div>"
      ],
      "text/plain": [
       "       X2     Z1      Z2      Z3       Z4\n",
       "0      27  1.077  15.075  26.919  390.869\n",
       "3      27  1.077  15.075  26.919  390.869\n",
       "5      20  1.077  15.075  26.919  390.869\n",
       "6      27  1.077  15.075  26.919  390.869\n",
       "9      23  1.077  15.075  26.919  390.869\n",
       "...    ..    ...     ...     ...      ...\n",
       "13611  27  1.757   3.262  48.936  209.045\n",
       "13613  27  1.757   3.262  48.936  209.045\n",
       "13621  28  1.757   3.262  48.936  209.045\n",
       "13622  22  1.757   3.262  48.936  209.045\n",
       "13624  27  1.757   3.262  48.936  209.045\n",
       "\n",
       "[6344 rows x 5 columns]"
      ]
     },
     "execution_count": 27,
     "metadata": {},
     "output_type": "execute_result"
    }
   ],
   "source": [
    "stdzdatatrainyoung = datatrainyoung[['X2','Z1','Z2','Z3','Z4']]\n",
    "stdzdatatrainyoung"
   ]
  },
  {
   "cell_type": "code",
   "execution_count": 28,
   "metadata": {
    "ExecuteTime": {
     "end_time": "2021-11-16T18:49:55.875021Z",
     "start_time": "2021-11-16T18:49:55.809607Z"
    },
    "scrolled": false
   },
   "outputs": [
    {
     "data": {
      "text/html": [
       "<div>\n",
       "<style scoped>\n",
       "    .dataframe tbody tr th:only-of-type {\n",
       "        vertical-align: middle;\n",
       "    }\n",
       "\n",
       "    .dataframe tbody tr th {\n",
       "        vertical-align: top;\n",
       "    }\n",
       "\n",
       "    .dataframe thead th {\n",
       "        text-align: right;\n",
       "    }\n",
       "</style>\n",
       "<table border=\"1\" class=\"dataframe\">\n",
       "  <thead>\n",
       "    <tr style=\"text-align: right;\">\n",
       "      <th></th>\n",
       "      <th>X2</th>\n",
       "      <th>Z1</th>\n",
       "      <th>Z2</th>\n",
       "      <th>Z3</th>\n",
       "      <th>Z4</th>\n",
       "    </tr>\n",
       "  </thead>\n",
       "  <tbody>\n",
       "    <tr>\n",
       "      <th>0</th>\n",
       "      <td>0.706340</td>\n",
       "      <td>-0.128906</td>\n",
       "      <td>1.441767</td>\n",
       "      <td>-0.250564</td>\n",
       "      <td>1.390522</td>\n",
       "    </tr>\n",
       "    <tr>\n",
       "      <th>1</th>\n",
       "      <td>0.706340</td>\n",
       "      <td>-0.128906</td>\n",
       "      <td>1.441767</td>\n",
       "      <td>-0.250564</td>\n",
       "      <td>1.390522</td>\n",
       "    </tr>\n",
       "    <tr>\n",
       "      <th>2</th>\n",
       "      <td>-1.544136</td>\n",
       "      <td>-0.128906</td>\n",
       "      <td>1.441767</td>\n",
       "      <td>-0.250564</td>\n",
       "      <td>1.390522</td>\n",
       "    </tr>\n",
       "    <tr>\n",
       "      <th>3</th>\n",
       "      <td>0.706340</td>\n",
       "      <td>-0.128906</td>\n",
       "      <td>1.441767</td>\n",
       "      <td>-0.250564</td>\n",
       "      <td>1.390522</td>\n",
       "    </tr>\n",
       "    <tr>\n",
       "      <th>4</th>\n",
       "      <td>-0.579646</td>\n",
       "      <td>-0.128906</td>\n",
       "      <td>1.441767</td>\n",
       "      <td>-0.250564</td>\n",
       "      <td>1.390522</td>\n",
       "    </tr>\n",
       "    <tr>\n",
       "      <th>...</th>\n",
       "      <td>...</td>\n",
       "      <td>...</td>\n",
       "      <td>...</td>\n",
       "      <td>...</td>\n",
       "      <td>...</td>\n",
       "    </tr>\n",
       "    <tr>\n",
       "      <th>6339</th>\n",
       "      <td>0.706340</td>\n",
       "      <td>0.516685</td>\n",
       "      <td>-0.647640</td>\n",
       "      <td>0.411891</td>\n",
       "      <td>0.081560</td>\n",
       "    </tr>\n",
       "    <tr>\n",
       "      <th>6340</th>\n",
       "      <td>0.706340</td>\n",
       "      <td>0.516685</td>\n",
       "      <td>-0.647640</td>\n",
       "      <td>0.411891</td>\n",
       "      <td>0.081560</td>\n",
       "    </tr>\n",
       "    <tr>\n",
       "      <th>6341</th>\n",
       "      <td>1.027836</td>\n",
       "      <td>0.516685</td>\n",
       "      <td>-0.647640</td>\n",
       "      <td>0.411891</td>\n",
       "      <td>0.081560</td>\n",
       "    </tr>\n",
       "    <tr>\n",
       "      <th>6342</th>\n",
       "      <td>-0.901143</td>\n",
       "      <td>0.516685</td>\n",
       "      <td>-0.647640</td>\n",
       "      <td>0.411891</td>\n",
       "      <td>0.081560</td>\n",
       "    </tr>\n",
       "    <tr>\n",
       "      <th>6343</th>\n",
       "      <td>0.706340</td>\n",
       "      <td>0.516685</td>\n",
       "      <td>-0.647640</td>\n",
       "      <td>0.411891</td>\n",
       "      <td>0.081560</td>\n",
       "    </tr>\n",
       "  </tbody>\n",
       "</table>\n",
       "<p>6344 rows × 5 columns</p>\n",
       "</div>"
      ],
      "text/plain": [
       "            X2        Z1        Z2        Z3        Z4\n",
       "0     0.706340 -0.128906  1.441767 -0.250564  1.390522\n",
       "1     0.706340 -0.128906  1.441767 -0.250564  1.390522\n",
       "2    -1.544136 -0.128906  1.441767 -0.250564  1.390522\n",
       "3     0.706340 -0.128906  1.441767 -0.250564  1.390522\n",
       "4    -0.579646 -0.128906  1.441767 -0.250564  1.390522\n",
       "...        ...       ...       ...       ...       ...\n",
       "6339  0.706340  0.516685 -0.647640  0.411891  0.081560\n",
       "6340  0.706340  0.516685 -0.647640  0.411891  0.081560\n",
       "6341  1.027836  0.516685 -0.647640  0.411891  0.081560\n",
       "6342 -0.901143  0.516685 -0.647640  0.411891  0.081560\n",
       "6343  0.706340  0.516685 -0.647640  0.411891  0.081560\n",
       "\n",
       "[6344 rows x 5 columns]"
      ]
     },
     "execution_count": 28,
     "metadata": {},
     "output_type": "execute_result"
    }
   ],
   "source": [
    "scaler = StandardScaler()\n",
    "std_datazyoung = pd.DataFrame(scaler.fit_transform(stdzdatatrainyoung))\n",
    "\n",
    "std_datazyoung.columns = stdzdatatrainyoung.columns\n",
    "std_datazyoung"
   ]
  },
  {
   "cell_type": "code",
   "execution_count": 29,
   "metadata": {
    "ExecuteTime": {
     "end_time": "2021-11-16T18:49:56.527013Z",
     "start_time": "2021-11-16T18:49:56.444039Z"
    },
    "scrolled": false
   },
   "outputs": [
    {
     "data": {
      "text/html": [
       "<div>\n",
       "<style scoped>\n",
       "    .dataframe tbody tr th:only-of-type {\n",
       "        vertical-align: middle;\n",
       "    }\n",
       "\n",
       "    .dataframe tbody tr th {\n",
       "        vertical-align: top;\n",
       "    }\n",
       "\n",
       "    .dataframe thead th {\n",
       "        text-align: right;\n",
       "    }\n",
       "</style>\n",
       "<table border=\"1\" class=\"dataframe\">\n",
       "  <thead>\n",
       "    <tr style=\"text-align: right;\">\n",
       "      <th></th>\n",
       "      <th>ID</th>\n",
       "      <th>Provinsi</th>\n",
       "      <th>X1</th>\n",
       "      <th>Z3</th>\n",
       "      <th>X4</th>\n",
       "      <th>X5</th>\n",
       "      <th>X6</th>\n",
       "      <th>X2</th>\n",
       "      <th>Z1</th>\n",
       "      <th>Z2</th>\n",
       "      <th>Z3</th>\n",
       "      <th>Z4</th>\n",
       "    </tr>\n",
       "  </thead>\n",
       "  <tbody>\n",
       "    <tr>\n",
       "      <th>0</th>\n",
       "      <td>1.0</td>\n",
       "      <td>11.0</td>\n",
       "      <td>1.0</td>\n",
       "      <td>26.919</td>\n",
       "      <td>0.0</td>\n",
       "      <td>1.0</td>\n",
       "      <td>1.0</td>\n",
       "      <td>0.706340</td>\n",
       "      <td>-0.128906</td>\n",
       "      <td>1.441767</td>\n",
       "      <td>-0.250564</td>\n",
       "      <td>1.390522</td>\n",
       "    </tr>\n",
       "    <tr>\n",
       "      <th>1</th>\n",
       "      <td>NaN</td>\n",
       "      <td>NaN</td>\n",
       "      <td>NaN</td>\n",
       "      <td>NaN</td>\n",
       "      <td>NaN</td>\n",
       "      <td>NaN</td>\n",
       "      <td>NaN</td>\n",
       "      <td>0.706340</td>\n",
       "      <td>-0.128906</td>\n",
       "      <td>1.441767</td>\n",
       "      <td>-0.250564</td>\n",
       "      <td>1.390522</td>\n",
       "    </tr>\n",
       "    <tr>\n",
       "      <th>2</th>\n",
       "      <td>NaN</td>\n",
       "      <td>NaN</td>\n",
       "      <td>NaN</td>\n",
       "      <td>NaN</td>\n",
       "      <td>NaN</td>\n",
       "      <td>NaN</td>\n",
       "      <td>NaN</td>\n",
       "      <td>-1.544136</td>\n",
       "      <td>-0.128906</td>\n",
       "      <td>1.441767</td>\n",
       "      <td>-0.250564</td>\n",
       "      <td>1.390522</td>\n",
       "    </tr>\n",
       "    <tr>\n",
       "      <th>3</th>\n",
       "      <td>7.0</td>\n",
       "      <td>11.0</td>\n",
       "      <td>0.0</td>\n",
       "      <td>26.919</td>\n",
       "      <td>0.0</td>\n",
       "      <td>1.0</td>\n",
       "      <td>1.0</td>\n",
       "      <td>0.706340</td>\n",
       "      <td>-0.128906</td>\n",
       "      <td>1.441767</td>\n",
       "      <td>-0.250564</td>\n",
       "      <td>1.390522</td>\n",
       "    </tr>\n",
       "    <tr>\n",
       "      <th>4</th>\n",
       "      <td>NaN</td>\n",
       "      <td>NaN</td>\n",
       "      <td>NaN</td>\n",
       "      <td>NaN</td>\n",
       "      <td>NaN</td>\n",
       "      <td>NaN</td>\n",
       "      <td>NaN</td>\n",
       "      <td>-0.579646</td>\n",
       "      <td>-0.128906</td>\n",
       "      <td>1.441767</td>\n",
       "      <td>-0.250564</td>\n",
       "      <td>1.390522</td>\n",
       "    </tr>\n",
       "    <tr>\n",
       "      <th>...</th>\n",
       "      <td>...</td>\n",
       "      <td>...</td>\n",
       "      <td>...</td>\n",
       "      <td>...</td>\n",
       "      <td>...</td>\n",
       "      <td>...</td>\n",
       "      <td>...</td>\n",
       "      <td>...</td>\n",
       "      <td>...</td>\n",
       "      <td>...</td>\n",
       "      <td>...</td>\n",
       "      <td>...</td>\n",
       "    </tr>\n",
       "    <tr>\n",
       "      <th>13611</th>\n",
       "      <td>19512.0</td>\n",
       "      <td>94.0</td>\n",
       "      <td>0.0</td>\n",
       "      <td>48.936</td>\n",
       "      <td>0.0</td>\n",
       "      <td>1.0</td>\n",
       "      <td>1.0</td>\n",
       "      <td>NaN</td>\n",
       "      <td>NaN</td>\n",
       "      <td>NaN</td>\n",
       "      <td>NaN</td>\n",
       "      <td>NaN</td>\n",
       "    </tr>\n",
       "    <tr>\n",
       "      <th>13613</th>\n",
       "      <td>19516.0</td>\n",
       "      <td>94.0</td>\n",
       "      <td>0.0</td>\n",
       "      <td>48.936</td>\n",
       "      <td>0.0</td>\n",
       "      <td>1.0</td>\n",
       "      <td>1.0</td>\n",
       "      <td>NaN</td>\n",
       "      <td>NaN</td>\n",
       "      <td>NaN</td>\n",
       "      <td>NaN</td>\n",
       "      <td>NaN</td>\n",
       "    </tr>\n",
       "    <tr>\n",
       "      <th>13621</th>\n",
       "      <td>19524.0</td>\n",
       "      <td>94.0</td>\n",
       "      <td>0.0</td>\n",
       "      <td>48.936</td>\n",
       "      <td>0.0</td>\n",
       "      <td>1.0</td>\n",
       "      <td>1.0</td>\n",
       "      <td>NaN</td>\n",
       "      <td>NaN</td>\n",
       "      <td>NaN</td>\n",
       "      <td>NaN</td>\n",
       "      <td>NaN</td>\n",
       "    </tr>\n",
       "    <tr>\n",
       "      <th>13622</th>\n",
       "      <td>19526.0</td>\n",
       "      <td>94.0</td>\n",
       "      <td>1.0</td>\n",
       "      <td>48.936</td>\n",
       "      <td>1.0</td>\n",
       "      <td>1.0</td>\n",
       "      <td>1.0</td>\n",
       "      <td>NaN</td>\n",
       "      <td>NaN</td>\n",
       "      <td>NaN</td>\n",
       "      <td>NaN</td>\n",
       "      <td>NaN</td>\n",
       "    </tr>\n",
       "    <tr>\n",
       "      <th>13624</th>\n",
       "      <td>19529.0</td>\n",
       "      <td>94.0</td>\n",
       "      <td>0.0</td>\n",
       "      <td>48.936</td>\n",
       "      <td>0.0</td>\n",
       "      <td>1.0</td>\n",
       "      <td>1.0</td>\n",
       "      <td>NaN</td>\n",
       "      <td>NaN</td>\n",
       "      <td>NaN</td>\n",
       "      <td>NaN</td>\n",
       "      <td>NaN</td>\n",
       "    </tr>\n",
       "  </tbody>\n",
       "</table>\n",
       "<p>9777 rows × 12 columns</p>\n",
       "</div>"
      ],
      "text/plain": [
       "            ID  Provinsi   X1      Z3   X4   X5   X6        X2        Z1  \\\n",
       "0          1.0      11.0  1.0  26.919  0.0  1.0  1.0  0.706340 -0.128906   \n",
       "1          NaN       NaN  NaN     NaN  NaN  NaN  NaN  0.706340 -0.128906   \n",
       "2          NaN       NaN  NaN     NaN  NaN  NaN  NaN -1.544136 -0.128906   \n",
       "3          7.0      11.0  0.0  26.919  0.0  1.0  1.0  0.706340 -0.128906   \n",
       "4          NaN       NaN  NaN     NaN  NaN  NaN  NaN -0.579646 -0.128906   \n",
       "...        ...       ...  ...     ...  ...  ...  ...       ...       ...   \n",
       "13611  19512.0      94.0  0.0  48.936  0.0  1.0  1.0       NaN       NaN   \n",
       "13613  19516.0      94.0  0.0  48.936  0.0  1.0  1.0       NaN       NaN   \n",
       "13621  19524.0      94.0  0.0  48.936  0.0  1.0  1.0       NaN       NaN   \n",
       "13622  19526.0      94.0  1.0  48.936  1.0  1.0  1.0       NaN       NaN   \n",
       "13624  19529.0      94.0  0.0  48.936  0.0  1.0  1.0       NaN       NaN   \n",
       "\n",
       "             Z2        Z3        Z4  \n",
       "0      1.441767 -0.250564  1.390522  \n",
       "1      1.441767 -0.250564  1.390522  \n",
       "2      1.441767 -0.250564  1.390522  \n",
       "3      1.441767 -0.250564  1.390522  \n",
       "4      1.441767 -0.250564  1.390522  \n",
       "...         ...       ...       ...  \n",
       "13611       NaN       NaN       NaN  \n",
       "13613       NaN       NaN       NaN  \n",
       "13621       NaN       NaN       NaN  \n",
       "13622       NaN       NaN       NaN  \n",
       "13624       NaN       NaN       NaN  \n",
       "\n",
       "[9777 rows x 12 columns]"
      ]
     },
     "execution_count": 29,
     "metadata": {},
     "output_type": "execute_result"
    }
   ],
   "source": [
    "#datatrainyoungstd = pd.concat([datatrainyoung[[\"ID\",\"Provinsi\",\"Y\",\"X1\"]],std_datazyoung[\"X2\"].reindex(datatrainyoung.index),datatrainyoung[[\"X3\",\"X4\",\"X5\",\"X6\"]], std_datazyoung[[\"Z1\",\"Z2\",\"Z3\",'Z4']].reindex(datatrainyoung.index)], axis=1)\n",
    "datatrainyoungstd = pd.concat([otherdatatrainyoung,std_datazyoung],axis=1)\n",
    "datatrainyoungstd"
   ]
  },
  {
   "cell_type": "code",
   "execution_count": 30,
   "metadata": {
    "ExecuteTime": {
     "end_time": "2021-11-16T18:49:57.554154Z",
     "start_time": "2021-11-16T18:49:57.504995Z"
    }
   },
   "outputs": [
    {
     "data": {
      "text/html": [
       "<div>\n",
       "<style scoped>\n",
       "    .dataframe tbody tr th:only-of-type {\n",
       "        vertical-align: middle;\n",
       "    }\n",
       "\n",
       "    .dataframe tbody tr th {\n",
       "        vertical-align: top;\n",
       "    }\n",
       "\n",
       "    .dataframe thead th {\n",
       "        text-align: right;\n",
       "    }\n",
       "</style>\n",
       "<table border=\"1\" class=\"dataframe\">\n",
       "  <thead>\n",
       "    <tr style=\"text-align: right;\">\n",
       "      <th></th>\n",
       "      <th>ID</th>\n",
       "      <th>Provinsi</th>\n",
       "      <th>Y</th>\n",
       "      <th>X1</th>\n",
       "      <th>X2</th>\n",
       "      <th>X3</th>\n",
       "      <th>X4</th>\n",
       "      <th>X5</th>\n",
       "      <th>X6</th>\n",
       "      <th>Z1</th>\n",
       "      <th>Z2</th>\n",
       "      <th>Z3</th>\n",
       "      <th>Z4</th>\n",
       "    </tr>\n",
       "  </thead>\n",
       "  <tbody>\n",
       "    <tr>\n",
       "      <th>1</th>\n",
       "      <td>2</td>\n",
       "      <td>11</td>\n",
       "      <td>0</td>\n",
       "      <td>1</td>\n",
       "      <td>38</td>\n",
       "      <td>0</td>\n",
       "      <td>0</td>\n",
       "      <td>1</td>\n",
       "      <td>0</td>\n",
       "      <td>1.077</td>\n",
       "      <td>15.075</td>\n",
       "      <td>26.919</td>\n",
       "      <td>390.869</td>\n",
       "    </tr>\n",
       "    <tr>\n",
       "      <th>2</th>\n",
       "      <td>4</td>\n",
       "      <td>11</td>\n",
       "      <td>0</td>\n",
       "      <td>0</td>\n",
       "      <td>36</td>\n",
       "      <td>0</td>\n",
       "      <td>0</td>\n",
       "      <td>0</td>\n",
       "      <td>1</td>\n",
       "      <td>1.077</td>\n",
       "      <td>15.075</td>\n",
       "      <td>26.919</td>\n",
       "      <td>390.869</td>\n",
       "    </tr>\n",
       "    <tr>\n",
       "      <th>4</th>\n",
       "      <td>8</td>\n",
       "      <td>11</td>\n",
       "      <td>0</td>\n",
       "      <td>1</td>\n",
       "      <td>36</td>\n",
       "      <td>1</td>\n",
       "      <td>0</td>\n",
       "      <td>0</td>\n",
       "      <td>0</td>\n",
       "      <td>1.077</td>\n",
       "      <td>15.075</td>\n",
       "      <td>26.919</td>\n",
       "      <td>390.869</td>\n",
       "    </tr>\n",
       "    <tr>\n",
       "      <th>7</th>\n",
       "      <td>12</td>\n",
       "      <td>11</td>\n",
       "      <td>0</td>\n",
       "      <td>0</td>\n",
       "      <td>36</td>\n",
       "      <td>1</td>\n",
       "      <td>0</td>\n",
       "      <td>1</td>\n",
       "      <td>1</td>\n",
       "      <td>1.077</td>\n",
       "      <td>15.075</td>\n",
       "      <td>26.919</td>\n",
       "      <td>390.869</td>\n",
       "    </tr>\n",
       "    <tr>\n",
       "      <th>8</th>\n",
       "      <td>13</td>\n",
       "      <td>11</td>\n",
       "      <td>0</td>\n",
       "      <td>0</td>\n",
       "      <td>33</td>\n",
       "      <td>1</td>\n",
       "      <td>0</td>\n",
       "      <td>1</td>\n",
       "      <td>1</td>\n",
       "      <td>1.077</td>\n",
       "      <td>15.075</td>\n",
       "      <td>26.919</td>\n",
       "      <td>390.869</td>\n",
       "    </tr>\n",
       "    <tr>\n",
       "      <th>...</th>\n",
       "      <td>...</td>\n",
       "      <td>...</td>\n",
       "      <td>...</td>\n",
       "      <td>...</td>\n",
       "      <td>...</td>\n",
       "      <td>...</td>\n",
       "      <td>...</td>\n",
       "      <td>...</td>\n",
       "      <td>...</td>\n",
       "      <td>...</td>\n",
       "      <td>...</td>\n",
       "      <td>...</td>\n",
       "      <td>...</td>\n",
       "    </tr>\n",
       "    <tr>\n",
       "      <th>13618</th>\n",
       "      <td>19521</td>\n",
       "      <td>94</td>\n",
       "      <td>1</td>\n",
       "      <td>0</td>\n",
       "      <td>39</td>\n",
       "      <td>1</td>\n",
       "      <td>1</td>\n",
       "      <td>1</td>\n",
       "      <td>0</td>\n",
       "      <td>1.757</td>\n",
       "      <td>3.262</td>\n",
       "      <td>48.936</td>\n",
       "      <td>209.045</td>\n",
       "    </tr>\n",
       "    <tr>\n",
       "      <th>13619</th>\n",
       "      <td>19522</td>\n",
       "      <td>94</td>\n",
       "      <td>0</td>\n",
       "      <td>0</td>\n",
       "      <td>39</td>\n",
       "      <td>1</td>\n",
       "      <td>0</td>\n",
       "      <td>0</td>\n",
       "      <td>1</td>\n",
       "      <td>1.757</td>\n",
       "      <td>3.262</td>\n",
       "      <td>48.936</td>\n",
       "      <td>209.045</td>\n",
       "    </tr>\n",
       "    <tr>\n",
       "      <th>13620</th>\n",
       "      <td>19523</td>\n",
       "      <td>94</td>\n",
       "      <td>0</td>\n",
       "      <td>0</td>\n",
       "      <td>31</td>\n",
       "      <td>0</td>\n",
       "      <td>0</td>\n",
       "      <td>1</td>\n",
       "      <td>1</td>\n",
       "      <td>1.757</td>\n",
       "      <td>3.262</td>\n",
       "      <td>48.936</td>\n",
       "      <td>209.045</td>\n",
       "    </tr>\n",
       "    <tr>\n",
       "      <th>13623</th>\n",
       "      <td>19527</td>\n",
       "      <td>94</td>\n",
       "      <td>0</td>\n",
       "      <td>0</td>\n",
       "      <td>35</td>\n",
       "      <td>1</td>\n",
       "      <td>0</td>\n",
       "      <td>1</td>\n",
       "      <td>1</td>\n",
       "      <td>1.757</td>\n",
       "      <td>3.262</td>\n",
       "      <td>48.936</td>\n",
       "      <td>209.045</td>\n",
       "    </tr>\n",
       "    <tr>\n",
       "      <th>13625</th>\n",
       "      <td>19530</td>\n",
       "      <td>94</td>\n",
       "      <td>1</td>\n",
       "      <td>0</td>\n",
       "      <td>39</td>\n",
       "      <td>1</td>\n",
       "      <td>1</td>\n",
       "      <td>1</td>\n",
       "      <td>1</td>\n",
       "      <td>1.757</td>\n",
       "      <td>3.262</td>\n",
       "      <td>48.936</td>\n",
       "      <td>209.045</td>\n",
       "    </tr>\n",
       "  </tbody>\n",
       "</table>\n",
       "<p>7282 rows × 13 columns</p>\n",
       "</div>"
      ],
      "text/plain": [
       "          ID  Provinsi  Y  X1  X2  X3  X4  X5  X6     Z1      Z2      Z3  \\\n",
       "1          2        11  0   1  38   0   0   1   0  1.077  15.075  26.919   \n",
       "2          4        11  0   0  36   0   0   0   1  1.077  15.075  26.919   \n",
       "4          8        11  0   1  36   1   0   0   0  1.077  15.075  26.919   \n",
       "7         12        11  0   0  36   1   0   1   1  1.077  15.075  26.919   \n",
       "8         13        11  0   0  33   1   0   1   1  1.077  15.075  26.919   \n",
       "...      ...       ... ..  ..  ..  ..  ..  ..  ..    ...     ...     ...   \n",
       "13618  19521        94  1   0  39   1   1   1   0  1.757   3.262  48.936   \n",
       "13619  19522        94  0   0  39   1   0   0   1  1.757   3.262  48.936   \n",
       "13620  19523        94  0   0  31   0   0   1   1  1.757   3.262  48.936   \n",
       "13623  19527        94  0   0  35   1   0   1   1  1.757   3.262  48.936   \n",
       "13625  19530        94  1   0  39   1   1   1   1  1.757   3.262  48.936   \n",
       "\n",
       "            Z4  \n",
       "1      390.869  \n",
       "2      390.869  \n",
       "4      390.869  \n",
       "7      390.869  \n",
       "8      390.869  \n",
       "...        ...  \n",
       "13618  209.045  \n",
       "13619  209.045  \n",
       "13620  209.045  \n",
       "13623  209.045  \n",
       "13625  209.045  \n",
       "\n",
       "[7282 rows x 13 columns]"
      ]
     },
     "execution_count": 30,
     "metadata": {},
     "output_type": "execute_result"
    }
   ],
   "source": [
    "datatrainold = datatrain[datatrain[\"X2\"] > 29]\n",
    "datatrainold"
   ]
  },
  {
   "cell_type": "code",
   "execution_count": 74,
   "metadata": {
    "ExecuteTime": {
     "end_time": "2021-11-16T19:11:33.035570Z",
     "start_time": "2021-11-16T19:11:33.000540Z"
    }
   },
   "outputs": [
    {
     "data": {
      "text/html": [
       "<div>\n",
       "<style scoped>\n",
       "    .dataframe tbody tr th:only-of-type {\n",
       "        vertical-align: middle;\n",
       "    }\n",
       "\n",
       "    .dataframe tbody tr th {\n",
       "        vertical-align: top;\n",
       "    }\n",
       "\n",
       "    .dataframe thead th {\n",
       "        text-align: right;\n",
       "    }\n",
       "</style>\n",
       "<table border=\"1\" class=\"dataframe\">\n",
       "  <thead>\n",
       "    <tr style=\"text-align: right;\">\n",
       "      <th></th>\n",
       "      <th>ID</th>\n",
       "      <th>Provinsi</th>\n",
       "      <th>X1</th>\n",
       "      <th>X2</th>\n",
       "      <th>X3</th>\n",
       "      <th>X4</th>\n",
       "      <th>X5</th>\n",
       "      <th>X6</th>\n",
       "      <th>Z1</th>\n",
       "      <th>Z2</th>\n",
       "      <th>Z3</th>\n",
       "      <th>Z4</th>\n",
       "    </tr>\n",
       "  </thead>\n",
       "  <tbody>\n",
       "    <tr>\n",
       "      <th>0</th>\n",
       "      <td>3</td>\n",
       "      <td>11</td>\n",
       "      <td>1</td>\n",
       "      <td>39</td>\n",
       "      <td>0</td>\n",
       "      <td>0</td>\n",
       "      <td>1</td>\n",
       "      <td>1</td>\n",
       "      <td>1.077</td>\n",
       "      <td>15.075</td>\n",
       "      <td>26.919</td>\n",
       "      <td>390.869</td>\n",
       "    </tr>\n",
       "    <tr>\n",
       "      <th>1</th>\n",
       "      <td>5</td>\n",
       "      <td>11</td>\n",
       "      <td>0</td>\n",
       "      <td>32</td>\n",
       "      <td>1</td>\n",
       "      <td>0</td>\n",
       "      <td>1</td>\n",
       "      <td>1</td>\n",
       "      <td>1.077</td>\n",
       "      <td>15.075</td>\n",
       "      <td>26.919</td>\n",
       "      <td>390.869</td>\n",
       "    </tr>\n",
       "    <tr>\n",
       "      <th>2</th>\n",
       "      <td>6</td>\n",
       "      <td>11</td>\n",
       "      <td>1</td>\n",
       "      <td>32</td>\n",
       "      <td>1</td>\n",
       "      <td>0</td>\n",
       "      <td>1</td>\n",
       "      <td>1</td>\n",
       "      <td>1.077</td>\n",
       "      <td>15.075</td>\n",
       "      <td>26.919</td>\n",
       "      <td>390.869</td>\n",
       "    </tr>\n",
       "    <tr>\n",
       "      <th>4</th>\n",
       "      <td>17</td>\n",
       "      <td>11</td>\n",
       "      <td>0</td>\n",
       "      <td>31</td>\n",
       "      <td>1</td>\n",
       "      <td>0</td>\n",
       "      <td>1</td>\n",
       "      <td>1</td>\n",
       "      <td>1.077</td>\n",
       "      <td>15.075</td>\n",
       "      <td>26.919</td>\n",
       "      <td>390.869</td>\n",
       "    </tr>\n",
       "    <tr>\n",
       "      <th>8</th>\n",
       "      <td>42</td>\n",
       "      <td>11</td>\n",
       "      <td>1</td>\n",
       "      <td>34</td>\n",
       "      <td>0</td>\n",
       "      <td>1</td>\n",
       "      <td>1</td>\n",
       "      <td>1</td>\n",
       "      <td>0.790</td>\n",
       "      <td>9.485</td>\n",
       "      <td>34.780</td>\n",
       "      <td>271.125</td>\n",
       "    </tr>\n",
       "    <tr>\n",
       "      <th>...</th>\n",
       "      <td>...</td>\n",
       "      <td>...</td>\n",
       "      <td>...</td>\n",
       "      <td>...</td>\n",
       "      <td>...</td>\n",
       "      <td>...</td>\n",
       "      <td>...</td>\n",
       "      <td>...</td>\n",
       "      <td>...</td>\n",
       "      <td>...</td>\n",
       "      <td>...</td>\n",
       "      <td>...</td>\n",
       "    </tr>\n",
       "    <tr>\n",
       "      <th>5899</th>\n",
       "      <td>19510</td>\n",
       "      <td>94</td>\n",
       "      <td>0</td>\n",
       "      <td>37</td>\n",
       "      <td>1</td>\n",
       "      <td>1</td>\n",
       "      <td>1</td>\n",
       "      <td>1</td>\n",
       "      <td>1.757</td>\n",
       "      <td>3.262</td>\n",
       "      <td>48.936</td>\n",
       "      <td>209.045</td>\n",
       "    </tr>\n",
       "    <tr>\n",
       "      <th>5901</th>\n",
       "      <td>19515</td>\n",
       "      <td>94</td>\n",
       "      <td>1</td>\n",
       "      <td>39</td>\n",
       "      <td>0</td>\n",
       "      <td>1</td>\n",
       "      <td>1</td>\n",
       "      <td>1</td>\n",
       "      <td>1.757</td>\n",
       "      <td>3.262</td>\n",
       "      <td>48.936</td>\n",
       "      <td>209.045</td>\n",
       "    </tr>\n",
       "    <tr>\n",
       "      <th>5902</th>\n",
       "      <td>19525</td>\n",
       "      <td>94</td>\n",
       "      <td>0</td>\n",
       "      <td>30</td>\n",
       "      <td>1</td>\n",
       "      <td>1</td>\n",
       "      <td>1</td>\n",
       "      <td>1</td>\n",
       "      <td>1.757</td>\n",
       "      <td>3.262</td>\n",
       "      <td>48.936</td>\n",
       "      <td>209.045</td>\n",
       "    </tr>\n",
       "    <tr>\n",
       "      <th>5904</th>\n",
       "      <td>19531</td>\n",
       "      <td>94</td>\n",
       "      <td>0</td>\n",
       "      <td>40</td>\n",
       "      <td>1</td>\n",
       "      <td>1</td>\n",
       "      <td>1</td>\n",
       "      <td>1</td>\n",
       "      <td>1.757</td>\n",
       "      <td>3.262</td>\n",
       "      <td>48.936</td>\n",
       "      <td>209.045</td>\n",
       "    </tr>\n",
       "    <tr>\n",
       "      <th>5905</th>\n",
       "      <td>19532</td>\n",
       "      <td>94</td>\n",
       "      <td>0</td>\n",
       "      <td>38</td>\n",
       "      <td>1</td>\n",
       "      <td>0</td>\n",
       "      <td>1</td>\n",
       "      <td>1</td>\n",
       "      <td>1.757</td>\n",
       "      <td>3.262</td>\n",
       "      <td>48.936</td>\n",
       "      <td>209.045</td>\n",
       "    </tr>\n",
       "  </tbody>\n",
       "</table>\n",
       "<p>3213 rows × 12 columns</p>\n",
       "</div>"
      ],
      "text/plain": [
       "         ID  Provinsi  X1  X2  X3  X4  X5  X6     Z1      Z2      Z3       Z4\n",
       "0         3        11   1  39   0   0   1   1  1.077  15.075  26.919  390.869\n",
       "1         5        11   0  32   1   0   1   1  1.077  15.075  26.919  390.869\n",
       "2         6        11   1  32   1   0   1   1  1.077  15.075  26.919  390.869\n",
       "4        17        11   0  31   1   0   1   1  1.077  15.075  26.919  390.869\n",
       "8        42        11   1  34   0   1   1   1  0.790   9.485  34.780  271.125\n",
       "...     ...       ...  ..  ..  ..  ..  ..  ..    ...     ...     ...      ...\n",
       "5899  19510        94   0  37   1   1   1   1  1.757   3.262  48.936  209.045\n",
       "5901  19515        94   1  39   0   1   1   1  1.757   3.262  48.936  209.045\n",
       "5902  19525        94   0  30   1   1   1   1  1.757   3.262  48.936  209.045\n",
       "5904  19531        94   0  40   1   1   1   1  1.757   3.262  48.936  209.045\n",
       "5905  19532        94   0  38   1   0   1   1  1.757   3.262  48.936  209.045\n",
       "\n",
       "[3213 rows x 12 columns]"
      ]
     },
     "execution_count": 74,
     "metadata": {},
     "output_type": "execute_result"
    }
   ],
   "source": [
    "datatestold = datatest[datatest[\"X2\"] > 29]\n",
    "datatestold"
   ]
  },
  {
   "cell_type": "code",
   "execution_count": 31,
   "metadata": {
    "ExecuteTime": {
     "end_time": "2021-11-16T18:49:58.463913Z",
     "start_time": "2021-11-16T18:49:58.416357Z"
    }
   },
   "outputs": [
    {
     "data": {
      "text/html": [
       "<div>\n",
       "<style scoped>\n",
       "    .dataframe tbody tr th:only-of-type {\n",
       "        vertical-align: middle;\n",
       "    }\n",
       "\n",
       "    .dataframe tbody tr th {\n",
       "        vertical-align: top;\n",
       "    }\n",
       "\n",
       "    .dataframe thead th {\n",
       "        text-align: right;\n",
       "    }\n",
       "</style>\n",
       "<table border=\"1\" class=\"dataframe\">\n",
       "  <thead>\n",
       "    <tr style=\"text-align: right;\">\n",
       "      <th></th>\n",
       "      <th>X2</th>\n",
       "      <th>Z1</th>\n",
       "      <th>Z2</th>\n",
       "      <th>Z3</th>\n",
       "      <th>Z4</th>\n",
       "    </tr>\n",
       "  </thead>\n",
       "  <tbody>\n",
       "    <tr>\n",
       "      <th>1</th>\n",
       "      <td>38</td>\n",
       "      <td>1.077</td>\n",
       "      <td>15.075</td>\n",
       "      <td>26.919</td>\n",
       "      <td>390.869</td>\n",
       "    </tr>\n",
       "    <tr>\n",
       "      <th>2</th>\n",
       "      <td>36</td>\n",
       "      <td>1.077</td>\n",
       "      <td>15.075</td>\n",
       "      <td>26.919</td>\n",
       "      <td>390.869</td>\n",
       "    </tr>\n",
       "    <tr>\n",
       "      <th>4</th>\n",
       "      <td>36</td>\n",
       "      <td>1.077</td>\n",
       "      <td>15.075</td>\n",
       "      <td>26.919</td>\n",
       "      <td>390.869</td>\n",
       "    </tr>\n",
       "    <tr>\n",
       "      <th>7</th>\n",
       "      <td>36</td>\n",
       "      <td>1.077</td>\n",
       "      <td>15.075</td>\n",
       "      <td>26.919</td>\n",
       "      <td>390.869</td>\n",
       "    </tr>\n",
       "    <tr>\n",
       "      <th>8</th>\n",
       "      <td>33</td>\n",
       "      <td>1.077</td>\n",
       "      <td>15.075</td>\n",
       "      <td>26.919</td>\n",
       "      <td>390.869</td>\n",
       "    </tr>\n",
       "    <tr>\n",
       "      <th>...</th>\n",
       "      <td>...</td>\n",
       "      <td>...</td>\n",
       "      <td>...</td>\n",
       "      <td>...</td>\n",
       "      <td>...</td>\n",
       "    </tr>\n",
       "    <tr>\n",
       "      <th>13618</th>\n",
       "      <td>39</td>\n",
       "      <td>1.757</td>\n",
       "      <td>3.262</td>\n",
       "      <td>48.936</td>\n",
       "      <td>209.045</td>\n",
       "    </tr>\n",
       "    <tr>\n",
       "      <th>13619</th>\n",
       "      <td>39</td>\n",
       "      <td>1.757</td>\n",
       "      <td>3.262</td>\n",
       "      <td>48.936</td>\n",
       "      <td>209.045</td>\n",
       "    </tr>\n",
       "    <tr>\n",
       "      <th>13620</th>\n",
       "      <td>31</td>\n",
       "      <td>1.757</td>\n",
       "      <td>3.262</td>\n",
       "      <td>48.936</td>\n",
       "      <td>209.045</td>\n",
       "    </tr>\n",
       "    <tr>\n",
       "      <th>13623</th>\n",
       "      <td>35</td>\n",
       "      <td>1.757</td>\n",
       "      <td>3.262</td>\n",
       "      <td>48.936</td>\n",
       "      <td>209.045</td>\n",
       "    </tr>\n",
       "    <tr>\n",
       "      <th>13625</th>\n",
       "      <td>39</td>\n",
       "      <td>1.757</td>\n",
       "      <td>3.262</td>\n",
       "      <td>48.936</td>\n",
       "      <td>209.045</td>\n",
       "    </tr>\n",
       "  </tbody>\n",
       "</table>\n",
       "<p>7282 rows × 5 columns</p>\n",
       "</div>"
      ],
      "text/plain": [
       "       X2     Z1      Z2      Z3       Z4\n",
       "1      38  1.077  15.075  26.919  390.869\n",
       "2      36  1.077  15.075  26.919  390.869\n",
       "4      36  1.077  15.075  26.919  390.869\n",
       "7      36  1.077  15.075  26.919  390.869\n",
       "8      33  1.077  15.075  26.919  390.869\n",
       "...    ..    ...     ...     ...      ...\n",
       "13618  39  1.757   3.262  48.936  209.045\n",
       "13619  39  1.757   3.262  48.936  209.045\n",
       "13620  31  1.757   3.262  48.936  209.045\n",
       "13623  35  1.757   3.262  48.936  209.045\n",
       "13625  39  1.757   3.262  48.936  209.045\n",
       "\n",
       "[7282 rows x 5 columns]"
      ]
     },
     "execution_count": 31,
     "metadata": {},
     "output_type": "execute_result"
    }
   ],
   "source": [
    "stdzdatatrainold = datatrainold[['X2','Z1','Z2','Z3','Z4']]\n",
    "stdzdatatrainold"
   ]
  },
  {
   "cell_type": "code",
   "execution_count": 32,
   "metadata": {
    "ExecuteTime": {
     "end_time": "2021-11-16T18:49:59.529982Z",
     "start_time": "2021-11-16T18:49:59.487891Z"
    },
    "scrolled": false
   },
   "outputs": [
    {
     "data": {
      "text/html": [
       "<div>\n",
       "<style scoped>\n",
       "    .dataframe tbody tr th:only-of-type {\n",
       "        vertical-align: middle;\n",
       "    }\n",
       "\n",
       "    .dataframe tbody tr th {\n",
       "        vertical-align: top;\n",
       "    }\n",
       "\n",
       "    .dataframe thead th {\n",
       "        text-align: right;\n",
       "    }\n",
       "</style>\n",
       "<table border=\"1\" class=\"dataframe\">\n",
       "  <thead>\n",
       "    <tr style=\"text-align: right;\">\n",
       "      <th></th>\n",
       "      <th>X2</th>\n",
       "      <th>Z1</th>\n",
       "      <th>Z2</th>\n",
       "      <th>Z3</th>\n",
       "      <th>Z4</th>\n",
       "    </tr>\n",
       "  </thead>\n",
       "  <tbody>\n",
       "    <tr>\n",
       "      <th>0</th>\n",
       "      <td>0.680139</td>\n",
       "      <td>-0.153529</td>\n",
       "      <td>1.465127</td>\n",
       "      <td>-0.272395</td>\n",
       "      <td>1.416678</td>\n",
       "    </tr>\n",
       "    <tr>\n",
       "      <th>1</th>\n",
       "      <td>0.187448</td>\n",
       "      <td>-0.153529</td>\n",
       "      <td>1.465127</td>\n",
       "      <td>-0.272395</td>\n",
       "      <td>1.416678</td>\n",
       "    </tr>\n",
       "    <tr>\n",
       "      <th>2</th>\n",
       "      <td>0.187448</td>\n",
       "      <td>-0.153529</td>\n",
       "      <td>1.465127</td>\n",
       "      <td>-0.272395</td>\n",
       "      <td>1.416678</td>\n",
       "    </tr>\n",
       "    <tr>\n",
       "      <th>3</th>\n",
       "      <td>0.187448</td>\n",
       "      <td>-0.153529</td>\n",
       "      <td>1.465127</td>\n",
       "      <td>-0.272395</td>\n",
       "      <td>1.416678</td>\n",
       "    </tr>\n",
       "    <tr>\n",
       "      <th>4</th>\n",
       "      <td>-0.551587</td>\n",
       "      <td>-0.153529</td>\n",
       "      <td>1.465127</td>\n",
       "      <td>-0.272395</td>\n",
       "      <td>1.416678</td>\n",
       "    </tr>\n",
       "    <tr>\n",
       "      <th>...</th>\n",
       "      <td>...</td>\n",
       "      <td>...</td>\n",
       "      <td>...</td>\n",
       "      <td>...</td>\n",
       "      <td>...</td>\n",
       "    </tr>\n",
       "    <tr>\n",
       "      <th>7277</th>\n",
       "      <td>0.926484</td>\n",
       "      <td>0.485401</td>\n",
       "      <td>-0.635413</td>\n",
       "      <td>0.395122</td>\n",
       "      <td>0.079994</td>\n",
       "    </tr>\n",
       "    <tr>\n",
       "      <th>7278</th>\n",
       "      <td>0.926484</td>\n",
       "      <td>0.485401</td>\n",
       "      <td>-0.635413</td>\n",
       "      <td>0.395122</td>\n",
       "      <td>0.079994</td>\n",
       "    </tr>\n",
       "    <tr>\n",
       "      <th>7279</th>\n",
       "      <td>-1.044278</td>\n",
       "      <td>0.485401</td>\n",
       "      <td>-0.635413</td>\n",
       "      <td>0.395122</td>\n",
       "      <td>0.079994</td>\n",
       "    </tr>\n",
       "    <tr>\n",
       "      <th>7280</th>\n",
       "      <td>-0.058897</td>\n",
       "      <td>0.485401</td>\n",
       "      <td>-0.635413</td>\n",
       "      <td>0.395122</td>\n",
       "      <td>0.079994</td>\n",
       "    </tr>\n",
       "    <tr>\n",
       "      <th>7281</th>\n",
       "      <td>0.926484</td>\n",
       "      <td>0.485401</td>\n",
       "      <td>-0.635413</td>\n",
       "      <td>0.395122</td>\n",
       "      <td>0.079994</td>\n",
       "    </tr>\n",
       "  </tbody>\n",
       "</table>\n",
       "<p>7282 rows × 5 columns</p>\n",
       "</div>"
      ],
      "text/plain": [
       "            X2        Z1        Z2        Z3        Z4\n",
       "0     0.680139 -0.153529  1.465127 -0.272395  1.416678\n",
       "1     0.187448 -0.153529  1.465127 -0.272395  1.416678\n",
       "2     0.187448 -0.153529  1.465127 -0.272395  1.416678\n",
       "3     0.187448 -0.153529  1.465127 -0.272395  1.416678\n",
       "4    -0.551587 -0.153529  1.465127 -0.272395  1.416678\n",
       "...        ...       ...       ...       ...       ...\n",
       "7277  0.926484  0.485401 -0.635413  0.395122  0.079994\n",
       "7278  0.926484  0.485401 -0.635413  0.395122  0.079994\n",
       "7279 -1.044278  0.485401 -0.635413  0.395122  0.079994\n",
       "7280 -0.058897  0.485401 -0.635413  0.395122  0.079994\n",
       "7281  0.926484  0.485401 -0.635413  0.395122  0.079994\n",
       "\n",
       "[7282 rows x 5 columns]"
      ]
     },
     "execution_count": 32,
     "metadata": {},
     "output_type": "execute_result"
    }
   ],
   "source": [
    "scaler = StandardScaler()\n",
    "std_datazold = pd.DataFrame(scaler.fit_transform(stdzdatatrainold))\n",
    "\n",
    "std_datazold.columns = stdzdatatrainold.columns\n",
    "std_datazold"
   ]
  },
  {
   "cell_type": "code",
   "execution_count": 56,
   "metadata": {
    "ExecuteTime": {
     "end_time": "2021-11-16T17:39:02.833214Z",
     "start_time": "2021-11-16T17:39:02.804199Z"
    },
    "scrolled": false
   },
   "outputs": [
    {
     "data": {
      "text/html": [
       "<div>\n",
       "<style scoped>\n",
       "    .dataframe tbody tr th:only-of-type {\n",
       "        vertical-align: middle;\n",
       "    }\n",
       "\n",
       "    .dataframe tbody tr th {\n",
       "        vertical-align: top;\n",
       "    }\n",
       "\n",
       "    .dataframe thead th {\n",
       "        text-align: right;\n",
       "    }\n",
       "</style>\n",
       "<table border=\"1\" class=\"dataframe\">\n",
       "  <thead>\n",
       "    <tr style=\"text-align: right;\">\n",
       "      <th></th>\n",
       "      <th>ID</th>\n",
       "      <th>Provinsi</th>\n",
       "      <th>Y</th>\n",
       "      <th>X1</th>\n",
       "      <th>X2</th>\n",
       "      <th>X3</th>\n",
       "      <th>X4</th>\n",
       "      <th>X5</th>\n",
       "      <th>X6</th>\n",
       "      <th>Z1</th>\n",
       "      <th>Z2</th>\n",
       "      <th>Z3</th>\n",
       "      <th>Z4</th>\n",
       "    </tr>\n",
       "  </thead>\n",
       "  <tbody>\n",
       "    <tr>\n",
       "      <th>1</th>\n",
       "      <td>2</td>\n",
       "      <td>11</td>\n",
       "      <td>0</td>\n",
       "      <td>1</td>\n",
       "      <td>0.187448</td>\n",
       "      <td>0</td>\n",
       "      <td>0</td>\n",
       "      <td>1</td>\n",
       "      <td>0</td>\n",
       "      <td>-0.153529</td>\n",
       "      <td>1.465127</td>\n",
       "      <td>-0.272395</td>\n",
       "      <td>1.416678</td>\n",
       "    </tr>\n",
       "    <tr>\n",
       "      <th>2</th>\n",
       "      <td>4</td>\n",
       "      <td>11</td>\n",
       "      <td>0</td>\n",
       "      <td>0</td>\n",
       "      <td>0.187448</td>\n",
       "      <td>0</td>\n",
       "      <td>0</td>\n",
       "      <td>0</td>\n",
       "      <td>1</td>\n",
       "      <td>-0.153529</td>\n",
       "      <td>1.465127</td>\n",
       "      <td>-0.272395</td>\n",
       "      <td>1.416678</td>\n",
       "    </tr>\n",
       "    <tr>\n",
       "      <th>4</th>\n",
       "      <td>8</td>\n",
       "      <td>11</td>\n",
       "      <td>0</td>\n",
       "      <td>1</td>\n",
       "      <td>-0.551587</td>\n",
       "      <td>1</td>\n",
       "      <td>0</td>\n",
       "      <td>0</td>\n",
       "      <td>0</td>\n",
       "      <td>-0.153529</td>\n",
       "      <td>1.465127</td>\n",
       "      <td>-0.272395</td>\n",
       "      <td>1.416678</td>\n",
       "    </tr>\n",
       "    <tr>\n",
       "      <th>7</th>\n",
       "      <td>12</td>\n",
       "      <td>11</td>\n",
       "      <td>0</td>\n",
       "      <td>0</td>\n",
       "      <td>0.187448</td>\n",
       "      <td>1</td>\n",
       "      <td>0</td>\n",
       "      <td>1</td>\n",
       "      <td>1</td>\n",
       "      <td>-0.153529</td>\n",
       "      <td>1.465127</td>\n",
       "      <td>-0.272395</td>\n",
       "      <td>1.416678</td>\n",
       "    </tr>\n",
       "    <tr>\n",
       "      <th>8</th>\n",
       "      <td>13</td>\n",
       "      <td>11</td>\n",
       "      <td>0</td>\n",
       "      <td>0</td>\n",
       "      <td>0.187448</td>\n",
       "      <td>1</td>\n",
       "      <td>0</td>\n",
       "      <td>1</td>\n",
       "      <td>1</td>\n",
       "      <td>-0.153529</td>\n",
       "      <td>1.465127</td>\n",
       "      <td>-0.272395</td>\n",
       "      <td>1.416678</td>\n",
       "    </tr>\n",
       "    <tr>\n",
       "      <th>...</th>\n",
       "      <td>...</td>\n",
       "      <td>...</td>\n",
       "      <td>...</td>\n",
       "      <td>...</td>\n",
       "      <td>...</td>\n",
       "      <td>...</td>\n",
       "      <td>...</td>\n",
       "      <td>...</td>\n",
       "      <td>...</td>\n",
       "      <td>...</td>\n",
       "      <td>...</td>\n",
       "      <td>...</td>\n",
       "      <td>...</td>\n",
       "    </tr>\n",
       "    <tr>\n",
       "      <th>13618</th>\n",
       "      <td>19521</td>\n",
       "      <td>94</td>\n",
       "      <td>1</td>\n",
       "      <td>0</td>\n",
       "      <td>NaN</td>\n",
       "      <td>1</td>\n",
       "      <td>1</td>\n",
       "      <td>1</td>\n",
       "      <td>0</td>\n",
       "      <td>NaN</td>\n",
       "      <td>NaN</td>\n",
       "      <td>NaN</td>\n",
       "      <td>NaN</td>\n",
       "    </tr>\n",
       "    <tr>\n",
       "      <th>13619</th>\n",
       "      <td>19522</td>\n",
       "      <td>94</td>\n",
       "      <td>0</td>\n",
       "      <td>0</td>\n",
       "      <td>NaN</td>\n",
       "      <td>1</td>\n",
       "      <td>0</td>\n",
       "      <td>0</td>\n",
       "      <td>1</td>\n",
       "      <td>NaN</td>\n",
       "      <td>NaN</td>\n",
       "      <td>NaN</td>\n",
       "      <td>NaN</td>\n",
       "    </tr>\n",
       "    <tr>\n",
       "      <th>13620</th>\n",
       "      <td>19523</td>\n",
       "      <td>94</td>\n",
       "      <td>0</td>\n",
       "      <td>0</td>\n",
       "      <td>NaN</td>\n",
       "      <td>0</td>\n",
       "      <td>0</td>\n",
       "      <td>1</td>\n",
       "      <td>1</td>\n",
       "      <td>NaN</td>\n",
       "      <td>NaN</td>\n",
       "      <td>NaN</td>\n",
       "      <td>NaN</td>\n",
       "    </tr>\n",
       "    <tr>\n",
       "      <th>13623</th>\n",
       "      <td>19527</td>\n",
       "      <td>94</td>\n",
       "      <td>0</td>\n",
       "      <td>0</td>\n",
       "      <td>NaN</td>\n",
       "      <td>1</td>\n",
       "      <td>0</td>\n",
       "      <td>1</td>\n",
       "      <td>1</td>\n",
       "      <td>NaN</td>\n",
       "      <td>NaN</td>\n",
       "      <td>NaN</td>\n",
       "      <td>NaN</td>\n",
       "    </tr>\n",
       "    <tr>\n",
       "      <th>13625</th>\n",
       "      <td>19530</td>\n",
       "      <td>94</td>\n",
       "      <td>1</td>\n",
       "      <td>0</td>\n",
       "      <td>NaN</td>\n",
       "      <td>1</td>\n",
       "      <td>1</td>\n",
       "      <td>1</td>\n",
       "      <td>1</td>\n",
       "      <td>NaN</td>\n",
       "      <td>NaN</td>\n",
       "      <td>NaN</td>\n",
       "      <td>NaN</td>\n",
       "    </tr>\n",
       "  </tbody>\n",
       "</table>\n",
       "<p>7282 rows × 13 columns</p>\n",
       "</div>"
      ],
      "text/plain": [
       "          ID  Provinsi  Y  X1        X2  X3  X4  X5  X6        Z1        Z2  \\\n",
       "1          2        11  0   1  0.187448   0   0   1   0 -0.153529  1.465127   \n",
       "2          4        11  0   0  0.187448   0   0   0   1 -0.153529  1.465127   \n",
       "4          8        11  0   1 -0.551587   1   0   0   0 -0.153529  1.465127   \n",
       "7         12        11  0   0  0.187448   1   0   1   1 -0.153529  1.465127   \n",
       "8         13        11  0   0  0.187448   1   0   1   1 -0.153529  1.465127   \n",
       "...      ...       ... ..  ..       ...  ..  ..  ..  ..       ...       ...   \n",
       "13618  19521        94  1   0       NaN   1   1   1   0       NaN       NaN   \n",
       "13619  19522        94  0   0       NaN   1   0   0   1       NaN       NaN   \n",
       "13620  19523        94  0   0       NaN   0   0   1   1       NaN       NaN   \n",
       "13623  19527        94  0   0       NaN   1   0   1   1       NaN       NaN   \n",
       "13625  19530        94  1   0       NaN   1   1   1   1       NaN       NaN   \n",
       "\n",
       "             Z3        Z4  \n",
       "1     -0.272395  1.416678  \n",
       "2     -0.272395  1.416678  \n",
       "4     -0.272395  1.416678  \n",
       "7     -0.272395  1.416678  \n",
       "8     -0.272395  1.416678  \n",
       "...         ...       ...  \n",
       "13618       NaN       NaN  \n",
       "13619       NaN       NaN  \n",
       "13620       NaN       NaN  \n",
       "13623       NaN       NaN  \n",
       "13625       NaN       NaN  \n",
       "\n",
       "[7282 rows x 13 columns]"
      ]
     },
     "execution_count": 56,
     "metadata": {},
     "output_type": "execute_result"
    }
   ],
   "source": [
    "datatrainoldstd = pd.concat([datatrainold[[\"ID\",\"Provinsi\",\"Y\",\"X1\"]],std_datazold[\"X2\"].reindex(datatrainold.index),datatrainold[[\"X3\",\"X4\",\"X5\",\"X6\"]], std_datazold[[\"Z1\",\"Z2\",\"Z3\",'Z4']].reindex(datatrainold.index)], axis=1)\n",
    "datatrainoldstd"
   ]
  },
  {
   "cell_type": "code",
   "execution_count": null,
   "metadata": {
    "ExecuteTime": {
     "end_time": "2021-11-16T17:20:06.258529Z",
     "start_time": "2021-11-16T17:20:06.257511Z"
    },
    "id": "LpRlmLlKsnpn"
   },
   "outputs": [],
   "source": [
    "#datatrainx = datatrain.drop(columns='Y')\n",
    "#datatrainy = datatrain['Y']"
   ]
  },
  {
   "cell_type": "code",
   "execution_count": null,
   "metadata": {
    "ExecuteTime": {
     "end_time": "2021-11-16T17:20:06.259526Z",
     "start_time": "2021-11-16T17:20:06.259526Z"
    }
   },
   "outputs": [],
   "source": [
    "#datatrainyoungx = datatrainyoung.drop(columns='Y')\n",
    "#datatrainyoungy = datatrainyoung['Y']\n",
    "#datatrainyoungy"
   ]
  },
  {
   "cell_type": "code",
   "execution_count": null,
   "metadata": {
    "ExecuteTime": {
     "end_time": "2021-11-16T17:20:06.262515Z",
     "start_time": "2021-11-16T17:20:06.262515Z"
    }
   },
   "outputs": [],
   "source": [
    "#datatrainoldx = datatrainold.drop(columns='Y')\n",
    "#datatrainoldy = datatrainold['Y']"
   ]
  },
  {
   "cell_type": "markdown",
   "metadata": {},
   "source": [
    "### Kategorisasi pendidikan ibu"
   ]
  },
  {
   "cell_type": "markdown",
   "metadata": {
    "heading_collapsed": true
   },
   "source": [
    "#### Std"
   ]
  },
  {
   "cell_type": "code",
   "execution_count": 82,
   "metadata": {
    "ExecuteTime": {
     "end_time": "2021-11-16T18:10:37.224384Z",
     "start_time": "2021-11-16T18:10:37.186419Z"
    },
    "hidden": true
   },
   "outputs": [
    {
     "data": {
      "text/html": [
       "<div>\n",
       "<style scoped>\n",
       "    .dataframe tbody tr th:only-of-type {\n",
       "        vertical-align: middle;\n",
       "    }\n",
       "\n",
       "    .dataframe tbody tr th {\n",
       "        vertical-align: top;\n",
       "    }\n",
       "\n",
       "    .dataframe thead th {\n",
       "        text-align: right;\n",
       "    }\n",
       "</style>\n",
       "<table border=\"1\" class=\"dataframe\">\n",
       "  <thead>\n",
       "    <tr style=\"text-align: right;\">\n",
       "      <th></th>\n",
       "      <th>ID</th>\n",
       "      <th>Provinsi</th>\n",
       "      <th>Y</th>\n",
       "      <th>X1</th>\n",
       "      <th>X2</th>\n",
       "      <th>X4</th>\n",
       "      <th>X5</th>\n",
       "      <th>X6</th>\n",
       "      <th>Z1</th>\n",
       "      <th>Z2</th>\n",
       "      <th>Z3</th>\n",
       "      <th>Z4</th>\n",
       "    </tr>\n",
       "  </thead>\n",
       "  <tbody>\n",
       "    <tr>\n",
       "      <th>9</th>\n",
       "      <td>14</td>\n",
       "      <td>11</td>\n",
       "      <td>0</td>\n",
       "      <td>1</td>\n",
       "      <td>23</td>\n",
       "      <td>0</td>\n",
       "      <td>1</td>\n",
       "      <td>1</td>\n",
       "      <td>1.077</td>\n",
       "      <td>15.075</td>\n",
       "      <td>26.919</td>\n",
       "      <td>390.869</td>\n",
       "    </tr>\n",
       "    <tr>\n",
       "      <th>11</th>\n",
       "      <td>16</td>\n",
       "      <td>11</td>\n",
       "      <td>0</td>\n",
       "      <td>1</td>\n",
       "      <td>21</td>\n",
       "      <td>0</td>\n",
       "      <td>1</td>\n",
       "      <td>1</td>\n",
       "      <td>1.077</td>\n",
       "      <td>15.075</td>\n",
       "      <td>26.919</td>\n",
       "      <td>390.869</td>\n",
       "    </tr>\n",
       "    <tr>\n",
       "      <th>12</th>\n",
       "      <td>18</td>\n",
       "      <td>11</td>\n",
       "      <td>0</td>\n",
       "      <td>0</td>\n",
       "      <td>26</td>\n",
       "      <td>0</td>\n",
       "      <td>1</td>\n",
       "      <td>1</td>\n",
       "      <td>1.077</td>\n",
       "      <td>15.075</td>\n",
       "      <td>26.919</td>\n",
       "      <td>390.869</td>\n",
       "    </tr>\n",
       "    <tr>\n",
       "      <th>17</th>\n",
       "      <td>25</td>\n",
       "      <td>11</td>\n",
       "      <td>0</td>\n",
       "      <td>1</td>\n",
       "      <td>25</td>\n",
       "      <td>0</td>\n",
       "      <td>1</td>\n",
       "      <td>1</td>\n",
       "      <td>1.077</td>\n",
       "      <td>15.075</td>\n",
       "      <td>26.919</td>\n",
       "      <td>390.869</td>\n",
       "    </tr>\n",
       "    <tr>\n",
       "      <th>23</th>\n",
       "      <td>31</td>\n",
       "      <td>11</td>\n",
       "      <td>1</td>\n",
       "      <td>1</td>\n",
       "      <td>29</td>\n",
       "      <td>1</td>\n",
       "      <td>1</td>\n",
       "      <td>1</td>\n",
       "      <td>1.077</td>\n",
       "      <td>15.075</td>\n",
       "      <td>26.919</td>\n",
       "      <td>390.869</td>\n",
       "    </tr>\n",
       "    <tr>\n",
       "      <th>...</th>\n",
       "      <td>...</td>\n",
       "      <td>...</td>\n",
       "      <td>...</td>\n",
       "      <td>...</td>\n",
       "      <td>...</td>\n",
       "      <td>...</td>\n",
       "      <td>...</td>\n",
       "      <td>...</td>\n",
       "      <td>...</td>\n",
       "      <td>...</td>\n",
       "      <td>...</td>\n",
       "      <td>...</td>\n",
       "    </tr>\n",
       "    <tr>\n",
       "      <th>13611</th>\n",
       "      <td>19512</td>\n",
       "      <td>94</td>\n",
       "      <td>0</td>\n",
       "      <td>0</td>\n",
       "      <td>27</td>\n",
       "      <td>0</td>\n",
       "      <td>1</td>\n",
       "      <td>1</td>\n",
       "      <td>1.757</td>\n",
       "      <td>3.262</td>\n",
       "      <td>48.936</td>\n",
       "      <td>209.045</td>\n",
       "    </tr>\n",
       "    <tr>\n",
       "      <th>13613</th>\n",
       "      <td>19516</td>\n",
       "      <td>94</td>\n",
       "      <td>1</td>\n",
       "      <td>0</td>\n",
       "      <td>27</td>\n",
       "      <td>0</td>\n",
       "      <td>1</td>\n",
       "      <td>1</td>\n",
       "      <td>1.757</td>\n",
       "      <td>3.262</td>\n",
       "      <td>48.936</td>\n",
       "      <td>209.045</td>\n",
       "    </tr>\n",
       "    <tr>\n",
       "      <th>13621</th>\n",
       "      <td>19524</td>\n",
       "      <td>94</td>\n",
       "      <td>1</td>\n",
       "      <td>0</td>\n",
       "      <td>28</td>\n",
       "      <td>0</td>\n",
       "      <td>1</td>\n",
       "      <td>1</td>\n",
       "      <td>1.757</td>\n",
       "      <td>3.262</td>\n",
       "      <td>48.936</td>\n",
       "      <td>209.045</td>\n",
       "    </tr>\n",
       "    <tr>\n",
       "      <th>13622</th>\n",
       "      <td>19526</td>\n",
       "      <td>94</td>\n",
       "      <td>0</td>\n",
       "      <td>1</td>\n",
       "      <td>22</td>\n",
       "      <td>1</td>\n",
       "      <td>1</td>\n",
       "      <td>1</td>\n",
       "      <td>1.757</td>\n",
       "      <td>3.262</td>\n",
       "      <td>48.936</td>\n",
       "      <td>209.045</td>\n",
       "    </tr>\n",
       "    <tr>\n",
       "      <th>13624</th>\n",
       "      <td>19529</td>\n",
       "      <td>94</td>\n",
       "      <td>0</td>\n",
       "      <td>0</td>\n",
       "      <td>27</td>\n",
       "      <td>0</td>\n",
       "      <td>1</td>\n",
       "      <td>1</td>\n",
       "      <td>1.757</td>\n",
       "      <td>3.262</td>\n",
       "      <td>48.936</td>\n",
       "      <td>209.045</td>\n",
       "    </tr>\n",
       "  </tbody>\n",
       "</table>\n",
       "<p>3147 rows × 12 columns</p>\n",
       "</div>"
      ],
      "text/plain": [
       "          ID  Provinsi  Y  X1  X2  X4  X5  X6     Z1      Z2      Z3       Z4\n",
       "9         14        11  0   1  23   0   1   1  1.077  15.075  26.919  390.869\n",
       "11        16        11  0   1  21   0   1   1  1.077  15.075  26.919  390.869\n",
       "12        18        11  0   0  26   0   1   1  1.077  15.075  26.919  390.869\n",
       "17        25        11  0   1  25   0   1   1  1.077  15.075  26.919  390.869\n",
       "23        31        11  1   1  29   1   1   1  1.077  15.075  26.919  390.869\n",
       "...      ...       ... ..  ..  ..  ..  ..  ..    ...     ...     ...      ...\n",
       "13611  19512        94  0   0  27   0   1   1  1.757   3.262  48.936  209.045\n",
       "13613  19516        94  1   0  27   0   1   1  1.757   3.262  48.936  209.045\n",
       "13621  19524        94  1   0  28   0   1   1  1.757   3.262  48.936  209.045\n",
       "13622  19526        94  0   1  22   1   1   1  1.757   3.262  48.936  209.045\n",
       "13624  19529        94  0   0  27   0   1   1  1.757   3.262  48.936  209.045\n",
       "\n",
       "[3147 rows x 12 columns]"
      ]
     },
     "execution_count": 82,
     "metadata": {},
     "output_type": "execute_result"
    }
   ],
   "source": [
    "# < 30 tahun & di atas SMP\n",
    "datatrainyoungstdas = datatrainyoungstd[datatrainyoungstd[\"X3\"] == 1]\n",
    "datatrainyoungstdas = datatrainyoungstdas.drop(columns=\"X3\")\n",
    "datatrainyoungstdas"
   ]
  },
  {
   "cell_type": "code",
   "execution_count": 59,
   "metadata": {
    "ExecuteTime": {
     "end_time": "2021-11-16T17:48:41.897841Z",
     "start_time": "2021-11-16T17:48:41.864847Z"
    },
    "hidden": true
   },
   "outputs": [
    {
     "data": {
      "text/html": [
       "<div>\n",
       "<style scoped>\n",
       "    .dataframe tbody tr th:only-of-type {\n",
       "        vertical-align: middle;\n",
       "    }\n",
       "\n",
       "    .dataframe tbody tr th {\n",
       "        vertical-align: top;\n",
       "    }\n",
       "\n",
       "    .dataframe thead th {\n",
       "        text-align: right;\n",
       "    }\n",
       "</style>\n",
       "<table border=\"1\" class=\"dataframe\">\n",
       "  <thead>\n",
       "    <tr style=\"text-align: right;\">\n",
       "      <th></th>\n",
       "      <th>ID</th>\n",
       "      <th>Provinsi</th>\n",
       "      <th>Y</th>\n",
       "      <th>X1</th>\n",
       "      <th>X2</th>\n",
       "      <th>X4</th>\n",
       "      <th>X5</th>\n",
       "      <th>X6</th>\n",
       "      <th>Z1</th>\n",
       "      <th>Z2</th>\n",
       "      <th>Z3</th>\n",
       "      <th>Z4</th>\n",
       "    </tr>\n",
       "  </thead>\n",
       "  <tbody>\n",
       "    <tr>\n",
       "      <th>1</th>\n",
       "      <td>2</td>\n",
       "      <td>11</td>\n",
       "      <td>0</td>\n",
       "      <td>1</td>\n",
       "      <td>0.187448</td>\n",
       "      <td>0</td>\n",
       "      <td>1</td>\n",
       "      <td>0</td>\n",
       "      <td>-0.153529</td>\n",
       "      <td>1.465127</td>\n",
       "      <td>-0.272395</td>\n",
       "      <td>1.416678</td>\n",
       "    </tr>\n",
       "    <tr>\n",
       "      <th>2</th>\n",
       "      <td>4</td>\n",
       "      <td>11</td>\n",
       "      <td>0</td>\n",
       "      <td>0</td>\n",
       "      <td>0.187448</td>\n",
       "      <td>0</td>\n",
       "      <td>0</td>\n",
       "      <td>1</td>\n",
       "      <td>-0.153529</td>\n",
       "      <td>1.465127</td>\n",
       "      <td>-0.272395</td>\n",
       "      <td>1.416678</td>\n",
       "    </tr>\n",
       "    <tr>\n",
       "      <th>4</th>\n",
       "      <td>8</td>\n",
       "      <td>11</td>\n",
       "      <td>0</td>\n",
       "      <td>1</td>\n",
       "      <td>-0.551587</td>\n",
       "      <td>0</td>\n",
       "      <td>0</td>\n",
       "      <td>0</td>\n",
       "      <td>-0.153529</td>\n",
       "      <td>1.465127</td>\n",
       "      <td>-0.272395</td>\n",
       "      <td>1.416678</td>\n",
       "    </tr>\n",
       "    <tr>\n",
       "      <th>7</th>\n",
       "      <td>12</td>\n",
       "      <td>11</td>\n",
       "      <td>0</td>\n",
       "      <td>0</td>\n",
       "      <td>0.187448</td>\n",
       "      <td>0</td>\n",
       "      <td>1</td>\n",
       "      <td>1</td>\n",
       "      <td>-0.153529</td>\n",
       "      <td>1.465127</td>\n",
       "      <td>-0.272395</td>\n",
       "      <td>1.416678</td>\n",
       "    </tr>\n",
       "    <tr>\n",
       "      <th>8</th>\n",
       "      <td>13</td>\n",
       "      <td>11</td>\n",
       "      <td>0</td>\n",
       "      <td>0</td>\n",
       "      <td>0.187448</td>\n",
       "      <td>0</td>\n",
       "      <td>1</td>\n",
       "      <td>1</td>\n",
       "      <td>-0.153529</td>\n",
       "      <td>1.465127</td>\n",
       "      <td>-0.272395</td>\n",
       "      <td>1.416678</td>\n",
       "    </tr>\n",
       "    <tr>\n",
       "      <th>...</th>\n",
       "      <td>...</td>\n",
       "      <td>...</td>\n",
       "      <td>...</td>\n",
       "      <td>...</td>\n",
       "      <td>...</td>\n",
       "      <td>...</td>\n",
       "      <td>...</td>\n",
       "      <td>...</td>\n",
       "      <td>...</td>\n",
       "      <td>...</td>\n",
       "      <td>...</td>\n",
       "      <td>...</td>\n",
       "    </tr>\n",
       "    <tr>\n",
       "      <th>13618</th>\n",
       "      <td>19521</td>\n",
       "      <td>94</td>\n",
       "      <td>1</td>\n",
       "      <td>0</td>\n",
       "      <td>NaN</td>\n",
       "      <td>1</td>\n",
       "      <td>1</td>\n",
       "      <td>0</td>\n",
       "      <td>NaN</td>\n",
       "      <td>NaN</td>\n",
       "      <td>NaN</td>\n",
       "      <td>NaN</td>\n",
       "    </tr>\n",
       "    <tr>\n",
       "      <th>13619</th>\n",
       "      <td>19522</td>\n",
       "      <td>94</td>\n",
       "      <td>0</td>\n",
       "      <td>0</td>\n",
       "      <td>NaN</td>\n",
       "      <td>0</td>\n",
       "      <td>0</td>\n",
       "      <td>1</td>\n",
       "      <td>NaN</td>\n",
       "      <td>NaN</td>\n",
       "      <td>NaN</td>\n",
       "      <td>NaN</td>\n",
       "    </tr>\n",
       "    <tr>\n",
       "      <th>13620</th>\n",
       "      <td>19523</td>\n",
       "      <td>94</td>\n",
       "      <td>0</td>\n",
       "      <td>0</td>\n",
       "      <td>NaN</td>\n",
       "      <td>0</td>\n",
       "      <td>1</td>\n",
       "      <td>1</td>\n",
       "      <td>NaN</td>\n",
       "      <td>NaN</td>\n",
       "      <td>NaN</td>\n",
       "      <td>NaN</td>\n",
       "    </tr>\n",
       "    <tr>\n",
       "      <th>13623</th>\n",
       "      <td>19527</td>\n",
       "      <td>94</td>\n",
       "      <td>0</td>\n",
       "      <td>0</td>\n",
       "      <td>NaN</td>\n",
       "      <td>0</td>\n",
       "      <td>1</td>\n",
       "      <td>1</td>\n",
       "      <td>NaN</td>\n",
       "      <td>NaN</td>\n",
       "      <td>NaN</td>\n",
       "      <td>NaN</td>\n",
       "    </tr>\n",
       "    <tr>\n",
       "      <th>13625</th>\n",
       "      <td>19530</td>\n",
       "      <td>94</td>\n",
       "      <td>1</td>\n",
       "      <td>0</td>\n",
       "      <td>NaN</td>\n",
       "      <td>1</td>\n",
       "      <td>1</td>\n",
       "      <td>1</td>\n",
       "      <td>NaN</td>\n",
       "      <td>NaN</td>\n",
       "      <td>NaN</td>\n",
       "      <td>NaN</td>\n",
       "    </tr>\n",
       "  </tbody>\n",
       "</table>\n",
       "<p>7282 rows × 12 columns</p>\n",
       "</div>"
      ],
      "text/plain": [
       "          ID  Provinsi  Y  X1        X2  X4  X5  X6        Z1        Z2  \\\n",
       "1          2        11  0   1  0.187448   0   1   0 -0.153529  1.465127   \n",
       "2          4        11  0   0  0.187448   0   0   1 -0.153529  1.465127   \n",
       "4          8        11  0   1 -0.551587   0   0   0 -0.153529  1.465127   \n",
       "7         12        11  0   0  0.187448   0   1   1 -0.153529  1.465127   \n",
       "8         13        11  0   0  0.187448   0   1   1 -0.153529  1.465127   \n",
       "...      ...       ... ..  ..       ...  ..  ..  ..       ...       ...   \n",
       "13618  19521        94  1   0       NaN   1   1   0       NaN       NaN   \n",
       "13619  19522        94  0   0       NaN   0   0   1       NaN       NaN   \n",
       "13620  19523        94  0   0       NaN   0   1   1       NaN       NaN   \n",
       "13623  19527        94  0   0       NaN   0   1   1       NaN       NaN   \n",
       "13625  19530        94  1   0       NaN   1   1   1       NaN       NaN   \n",
       "\n",
       "             Z3        Z4  \n",
       "1     -0.272395  1.416678  \n",
       "2     -0.272395  1.416678  \n",
       "4     -0.272395  1.416678  \n",
       "7     -0.272395  1.416678  \n",
       "8     -0.272395  1.416678  \n",
       "...         ...       ...  \n",
       "13618       NaN       NaN  \n",
       "13619       NaN       NaN  \n",
       "13620       NaN       NaN  \n",
       "13623       NaN       NaN  \n",
       "13625       NaN       NaN  \n",
       "\n",
       "[7282 rows x 12 columns]"
      ]
     },
     "execution_count": 59,
     "metadata": {},
     "output_type": "execute_result"
    }
   ],
   "source": [
    "# > 29 tahun & di atas SMP\n",
    "datatrainoldstdas = datatrainoldstd[datatrainoldstd[\"X3\"] == 1]\n",
    "datatrainoldstdas = datatrainoldstd.drop(columns=\"X3\")\n",
    "datatrainoldstdas"
   ]
  },
  {
   "cell_type": "code",
   "execution_count": null,
   "metadata": {
    "ExecuteTime": {
     "end_time": "2021-11-16T17:20:06.267513Z",
     "start_time": "2021-11-16T17:20:06.267513Z"
    },
    "hidden": true
   },
   "outputs": [],
   "source": [
    "# < 30 tahun & di bawah SMP\n",
    "datatrainoldstdbs = datatrain[datatrain[\"X3\"] == 0]\n",
    "datatrainoldstdbs = datatrainbawahsmp.drop(columns=\"X3\")\n",
    "datatrainoldstdbs"
   ]
  },
  {
   "cell_type": "code",
   "execution_count": null,
   "metadata": {
    "ExecuteTime": {
     "end_time": "2021-11-16T17:20:06.267513Z",
     "start_time": "2021-11-16T17:20:06.267513Z"
    },
    "hidden": true
   },
   "outputs": [],
   "source": [
    "# > 29 tahun & di bawah SMP\n",
    "datatrainbawahsmp = datatrain[datatrain[\"X3\"] == 0]\n",
    "datatrainbawahsmp = datatrainbawahsmp.drop(columns=\"X3\")\n",
    "datatrainbawahsmp"
   ]
  },
  {
   "cell_type": "code",
   "execution_count": null,
   "metadata": {
    "ExecuteTime": {
     "end_time": "2021-11-16T17:20:06.268511Z",
     "start_time": "2021-11-16T17:20:06.268511Z"
    },
    "hidden": true
   },
   "outputs": [],
   "source": [
    "datatrainatassmpx = datatrainatassmp.drop(columns='Y')\n",
    "datatrainatassmpy = datatrainatassmp['Y']"
   ]
  },
  {
   "cell_type": "code",
   "execution_count": null,
   "metadata": {
    "ExecuteTime": {
     "end_time": "2021-11-16T17:20:06.268511Z",
     "start_time": "2021-11-16T17:20:06.268511Z"
    },
    "hidden": true
   },
   "outputs": [],
   "source": [
    "datatrainatassmpx = datatrainatassmp.drop(columns='Y')\n",
    "datatrainatassmpy = datatrainatassmp['Y']"
   ]
  },
  {
   "cell_type": "code",
   "execution_count": null,
   "metadata": {
    "ExecuteTime": {
     "end_time": "2021-11-16T17:20:06.269510Z",
     "start_time": "2021-11-16T17:20:06.269510Z"
    },
    "hidden": true
   },
   "outputs": [],
   "source": [
    "datatrainbawahsmpx = datatrainbawahsmp.drop(columns='Y')\n",
    "datatrainbawahsmpy = datatrainbawahsmp['Y']"
   ]
  },
  {
   "cell_type": "code",
   "execution_count": null,
   "metadata": {
    "ExecuteTime": {
     "end_time": "2021-11-16T17:20:06.269510Z",
     "start_time": "2021-11-16T17:20:06.269510Z"
    },
    "hidden": true
   },
   "outputs": [],
   "source": [
    "datatrainbawahsmpx = datatrainbawahsmp.drop(columns='Y')\n",
    "datatrainbawahsmpy = datatrainbawahsmp['Y']"
   ]
  },
  {
   "cell_type": "code",
   "execution_count": null,
   "metadata": {
    "ExecuteTime": {
     "end_time": "2021-11-16T17:20:06.270510Z",
     "start_time": "2021-11-16T17:20:06.270510Z"
    },
    "hidden": true
   },
   "outputs": [],
   "source": [
    "from sklearn.model_selection import train_test_split"
   ]
  },
  {
   "cell_type": "code",
   "execution_count": null,
   "metadata": {
    "ExecuteTime": {
     "end_time": "2021-11-16T17:20:06.270510Z",
     "start_time": "2021-11-16T17:20:06.270510Z"
    },
    "hidden": true
   },
   "outputs": [],
   "source": [
    "from sklearn.model_selection import train_test_split"
   ]
  },
  {
   "cell_type": "code",
   "execution_count": null,
   "metadata": {
    "ExecuteTime": {
     "end_time": "2021-11-16T17:20:06.272510Z",
     "start_time": "2021-11-16T17:20:06.272510Z"
    },
    "hidden": true
   },
   "outputs": [],
   "source": [
    "X_trainas, X_testas, y_trainas, y_testas = train_test_split(datatrainatassmpx, datatrainatassmpy, test_size=0.30, random_state=0)"
   ]
  },
  {
   "cell_type": "code",
   "execution_count": null,
   "metadata": {
    "ExecuteTime": {
     "end_time": "2021-11-16T17:20:06.272510Z",
     "start_time": "2021-11-16T17:20:06.272510Z"
    },
    "hidden": true
   },
   "outputs": [],
   "source": [
    "X_trainas, X_testas, y_trainas, y_testas = train_test_split(datatrainatassmpx, datatrainatassmpy, test_size=0.30, random_state=0)"
   ]
  },
  {
   "cell_type": "code",
   "execution_count": null,
   "metadata": {
    "ExecuteTime": {
     "end_time": "2021-11-16T17:20:06.274510Z",
     "start_time": "2021-11-16T17:20:06.274510Z"
    },
    "hidden": true
   },
   "outputs": [],
   "source": [
    "abcatassmp = AdaBoostClassifier()\n",
    "abcatassmp.fit(X_trainas, y_trainas)\n",
    "y_predas = abcatassmp.predict(X_testas)\n",
    "accuracy_score(y_testas, y_predas)"
   ]
  },
  {
   "cell_type": "code",
   "execution_count": null,
   "metadata": {
    "ExecuteTime": {
     "end_time": "2021-11-16T17:20:06.274510Z",
     "start_time": "2021-11-16T17:20:06.274510Z"
    },
    "hidden": true
   },
   "outputs": [],
   "source": [
    "abcatassmp = AdaBoostClassifier()\n",
    "abcatassmp.fit(X_trainas, y_trainas)\n",
    "y_predas = abcatassmp.predict(X_testas)\n",
    "accuracy_score(y_testas, y_predas)"
   ]
  },
  {
   "cell_type": "code",
   "execution_count": null,
   "metadata": {
    "ExecuteTime": {
     "end_time": "2021-11-16T17:20:06.275511Z",
     "start_time": "2021-11-16T17:20:06.275511Z"
    },
    "hidden": true
   },
   "outputs": [],
   "source": [
    "from sklearn.metrics import classification_report,accuracy_score\n",
    "from sklearn.metrics import confusion_matrix,ConfusionMatrixDisplay\n",
    "print(classification_report(y_testas, y_predas))"
   ]
  },
  {
   "cell_type": "code",
   "execution_count": null,
   "metadata": {
    "ExecuteTime": {
     "end_time": "2021-11-16T17:20:06.275511Z",
     "start_time": "2021-11-16T17:20:06.275511Z"
    },
    "hidden": true
   },
   "outputs": [],
   "source": [
    "from sklearn.metrics import classification_report,accuracy_score\n",
    "from sklearn.metrics import confusion_matrix,ConfusionMatrixDisplay\n",
    "print(classification_report(y_testas, y_predas))"
   ]
  },
  {
   "cell_type": "code",
   "execution_count": null,
   "metadata": {
    "ExecuteTime": {
     "end_time": "2021-11-16T17:20:06.276508Z",
     "start_time": "2021-11-16T17:20:06.276508Z"
    },
    "hidden": true
   },
   "outputs": [],
   "source": [
    "import warnings\n",
    "warnings.filterwarnings('ignore')\n",
    "from sklearn.model_selection import GridSearchCV\n",
    "\n",
    "model = AdaBoostClassifier(random_state=100)\n",
    "params = {\n",
    "    'n_estimators':(50,100),\n",
    "    'learning_rate':[0.5, 1]\n",
    "}\n",
    "gs = GridSearchCV(model, params)\n",
    "gs.fit(X_trainas, y_trainas)\n",
    "y_predas = gs.predict(X_testas)\n",
    "print('Best parameter: ', gs.best_params_)"
   ]
  },
  {
   "cell_type": "code",
   "execution_count": null,
   "metadata": {
    "ExecuteTime": {
     "end_time": "2021-11-16T17:20:06.276508Z",
     "start_time": "2021-11-16T17:20:06.276508Z"
    },
    "hidden": true
   },
   "outputs": [],
   "source": [
    "import warnings\n",
    "warnings.filterwarnings('ignore')\n",
    "from sklearn.model_selection import GridSearchCV\n",
    "\n",
    "model = AdaBoostClassifier(random_state=100)\n",
    "params = {\n",
    "    'n_estimators':(50,100),\n",
    "    'learning_rate':[0.5, 1]\n",
    "}\n",
    "gs = GridSearchCV(model, params)\n",
    "gs.fit(X_trainas, y_trainas)\n",
    "y_predas = gs.predict(X_testas)\n",
    "print('Best parameter: ', gs.best_params_)"
   ]
  },
  {
   "cell_type": "code",
   "execution_count": null,
   "metadata": {
    "ExecuteTime": {
     "end_time": "2021-11-16T17:20:06.278523Z",
     "start_time": "2021-11-16T17:20:06.278523Z"
    },
    "hidden": true
   },
   "outputs": [],
   "source": [
    "abcas = AdaBoostClassifier(learning_rate=1, n_estimators=100)\n",
    "abcas.fit(X_trainas, y_trainas)\n",
    "y_predas = abcas.predict(X_testas)\n",
    "accuracy_score(y_testas, y_predas)"
   ]
  },
  {
   "cell_type": "code",
   "execution_count": null,
   "metadata": {
    "ExecuteTime": {
     "end_time": "2021-11-16T17:20:06.278523Z",
     "start_time": "2021-11-16T17:20:06.278523Z"
    },
    "hidden": true
   },
   "outputs": [],
   "source": [
    "abcas = AdaBoostClassifier(learning_rate=1, n_estimators=100)\n",
    "abcas.fit(X_trainas, y_trainas)\n",
    "y_predas = abcas.predict(X_testas)\n",
    "accuracy_score(y_testas, y_predas)"
   ]
  },
  {
   "cell_type": "code",
   "execution_count": null,
   "metadata": {
    "ExecuteTime": {
     "end_time": "2021-11-16T17:20:06.281523Z",
     "start_time": "2021-11-16T17:20:06.281523Z"
    },
    "hidden": true
   },
   "outputs": [],
   "source": [
    "print(classification_report(y_testas, y_predas))"
   ]
  },
  {
   "cell_type": "code",
   "execution_count": null,
   "metadata": {
    "ExecuteTime": {
     "end_time": "2021-11-16T17:20:06.281523Z",
     "start_time": "2021-11-16T17:20:06.281523Z"
    },
    "hidden": true
   },
   "outputs": [],
   "source": [
    "print(classification_report(y_testas, y_predas))"
   ]
  },
  {
   "cell_type": "code",
   "execution_count": null,
   "metadata": {
    "ExecuteTime": {
     "end_time": "2021-11-16T17:20:06.282512Z",
     "start_time": "2021-11-16T17:20:06.282512Z"
    },
    "hidden": true
   },
   "outputs": [],
   "source": [
    "gbcas = GradientBoostingClassifier()\n",
    "gbcas.fit(X_trainas, y_trainas)\n",
    "y_predas = gbcas.predict(X_testas)\n",
    "accuracy_score(y_testas, y_predas)"
   ]
  },
  {
   "cell_type": "code",
   "execution_count": null,
   "metadata": {
    "ExecuteTime": {
     "end_time": "2021-11-16T17:20:06.282512Z",
     "start_time": "2021-11-16T17:20:06.282512Z"
    },
    "hidden": true
   },
   "outputs": [],
   "source": [
    "gbcas = GradientBoostingClassifier()\n",
    "gbcas.fit(X_trainas, y_trainas)\n",
    "y_predas = gbcas.predict(X_testas)\n",
    "accuracy_score(y_testas, y_predas)"
   ]
  },
  {
   "cell_type": "code",
   "execution_count": null,
   "metadata": {
    "ExecuteTime": {
     "end_time": "2021-11-16T17:20:06.284512Z",
     "start_time": "2021-11-16T17:20:06.284512Z"
    },
    "hidden": true
   },
   "outputs": [],
   "source": [
    "print(classification_report(y_testas, y_predas))"
   ]
  },
  {
   "cell_type": "code",
   "execution_count": null,
   "metadata": {
    "ExecuteTime": {
     "end_time": "2021-11-16T17:20:06.284512Z",
     "start_time": "2021-11-16T17:20:06.284512Z"
    },
    "hidden": true
   },
   "outputs": [],
   "source": [
    "print(classification_report(y_testas, y_predas))"
   ]
  },
  {
   "cell_type": "code",
   "execution_count": null,
   "metadata": {
    "ExecuteTime": {
     "end_time": "2021-11-16T17:20:06.285511Z",
     "start_time": "2021-11-16T17:20:06.285511Z"
    },
    "hidden": true
   },
   "outputs": [],
   "source": [
    "model = GradientBoostingClassifier(random_state=100)\n",
    "params = {\n",
    "        'n_estimators':range(1,50),\n",
    "        'learning_rate':[0.001, 0.01, 0.1, 0.2, 0.5, 1]\n",
    "}\n",
    "gsas = GridSearchCV(model, params)\n",
    "gsas.fit(X_trainas, y_trainas)\n",
    "print('Best parameter: ', gs.best_params_)"
   ]
  },
  {
   "cell_type": "code",
   "execution_count": null,
   "metadata": {
    "ExecuteTime": {
     "end_time": "2021-11-16T17:20:06.285511Z",
     "start_time": "2021-11-16T17:20:06.285511Z"
    },
    "hidden": true
   },
   "outputs": [],
   "source": [
    "model = GradientBoostingClassifier(random_state=100)\n",
    "params = {\n",
    "        'n_estimators':range(1,50),\n",
    "        'learning_rate':[0.001, 0.01, 0.1, 0.2, 0.5, 1]\n",
    "}\n",
    "gsas = GridSearchCV(model, params)\n",
    "gsas.fit(X_trainas, y_trainas)\n",
    "print('Best parameter: ', gs.best_params_)"
   ]
  },
  {
   "cell_type": "code",
   "execution_count": null,
   "metadata": {
    "ExecuteTime": {
     "end_time": "2021-11-16T17:20:06.287522Z",
     "start_time": "2021-11-16T17:20:06.287522Z"
    },
    "hidden": true
   },
   "outputs": [],
   "source": [
    "gbcas = GradientBoostingClassifier(learning_rate=0.55, n_estimators=50)\n",
    "gbcas.fit(X_trainas, y_trainas)\n",
    "y_predas = gbcas.predict(X_testas)\n",
    "accuracy_score(y_testas, y_predas)"
   ]
  },
  {
   "cell_type": "code",
   "execution_count": null,
   "metadata": {
    "ExecuteTime": {
     "end_time": "2021-11-16T17:20:06.287522Z",
     "start_time": "2021-11-16T17:20:06.287522Z"
    },
    "hidden": true
   },
   "outputs": [],
   "source": [
    "gbcas = GradientBoostingClassifier(learning_rate=0.55, n_estimators=50)\n",
    "gbcas.fit(X_trainas, y_trainas)\n",
    "y_predas = gbcas.predict(X_testas)\n",
    "accuracy_score(y_testas, y_predas)"
   ]
  },
  {
   "cell_type": "code",
   "execution_count": null,
   "metadata": {
    "ExecuteTime": {
     "end_time": "2021-11-16T17:20:06.288510Z",
     "start_time": "2021-11-16T17:20:06.288510Z"
    },
    "hidden": true,
    "scrolled": false
   },
   "outputs": [],
   "source": [
    "print(classification_report(y_testas, y_predas))"
   ]
  },
  {
   "cell_type": "code",
   "execution_count": null,
   "metadata": {
    "ExecuteTime": {
     "end_time": "2021-11-16T17:20:06.288510Z",
     "start_time": "2021-11-16T17:20:06.288510Z"
    },
    "hidden": true,
    "scrolled": false
   },
   "outputs": [],
   "source": [
    "print(classification_report(y_testas, y_predas))"
   ]
  },
  {
   "cell_type": "code",
   "execution_count": null,
   "metadata": {
    "ExecuteTime": {
     "end_time": "2021-11-16T17:20:06.290512Z",
     "start_time": "2021-11-16T17:20:06.290512Z"
    },
    "hidden": true
   },
   "outputs": [],
   "source": [
    "X_trainbs, X_testbs, y_trainbs, y_testbs = train_test_split(datatrainbawahsmpx, datatrainbawahsmpy, test_size=0.30, random_state=0)"
   ]
  },
  {
   "cell_type": "code",
   "execution_count": null,
   "metadata": {
    "ExecuteTime": {
     "end_time": "2021-11-16T17:20:06.290512Z",
     "start_time": "2021-11-16T17:20:06.290512Z"
    },
    "hidden": true
   },
   "outputs": [],
   "source": [
    "X_trainbs, X_testbs, y_trainbs, y_testbs = train_test_split(datatrainbawahsmpx, datatrainbawahsmpy, test_size=0.30, random_state=0)"
   ]
  },
  {
   "cell_type": "code",
   "execution_count": null,
   "metadata": {
    "ExecuteTime": {
     "end_time": "2021-11-16T17:20:06.292522Z",
     "start_time": "2021-11-16T17:20:06.292522Z"
    },
    "hidden": true
   },
   "outputs": [],
   "source": [
    "abcbssmp = AdaBoostClassifier()\n",
    "abcbssmp.fit(X_trainbs, y_trainbs)\n",
    "y_predbs = abcbssmp.predict(X_testbs)\n",
    "accuracy_score(y_testbs, y_predbs)"
   ]
  },
  {
   "cell_type": "code",
   "execution_count": null,
   "metadata": {
    "ExecuteTime": {
     "end_time": "2021-11-16T17:20:06.292522Z",
     "start_time": "2021-11-16T17:20:06.292522Z"
    },
    "hidden": true
   },
   "outputs": [],
   "source": [
    "abcbssmp = AdaBoostClassifier()\n",
    "abcbssmp.fit(X_trainbs, y_trainbs)\n",
    "y_predbs = abcbssmp.predict(X_testbs)\n",
    "accuracy_score(y_testbs, y_predbs)"
   ]
  },
  {
   "cell_type": "code",
   "execution_count": null,
   "metadata": {
    "ExecuteTime": {
     "end_time": "2021-11-16T17:20:06.294511Z",
     "start_time": "2021-11-16T17:20:06.294511Z"
    },
    "hidden": true
   },
   "outputs": [],
   "source": [
    "print(classification_report(y_testbs, y_predbs))"
   ]
  },
  {
   "cell_type": "code",
   "execution_count": null,
   "metadata": {
    "ExecuteTime": {
     "end_time": "2021-11-16T17:20:06.294511Z",
     "start_time": "2021-11-16T17:20:06.294511Z"
    },
    "hidden": true
   },
   "outputs": [],
   "source": [
    "print(classification_report(y_testbs, y_predbs))"
   ]
  },
  {
   "cell_type": "code",
   "execution_count": null,
   "metadata": {
    "ExecuteTime": {
     "end_time": "2021-11-16T17:20:06.295510Z",
     "start_time": "2021-11-16T17:20:06.295510Z"
    },
    "hidden": true
   },
   "outputs": [],
   "source": [
    "import warnings\n",
    "warnings.filterwarnings('ignore')\n",
    "from sklearn.model_selection import GridSearchCV\n",
    "\n",
    "model = AdaBoostClassifier(random_state=100)\n",
    "params = {\n",
    "    'n_estimators':(50,100),\n",
    "    'learning_rate':[0.5, 1]\n",
    "}\n",
    "gsbs = GridSearchCV(model, params)\n",
    "gsbs.fit(X_trainbs, y_trainbs)\n",
    "y_predbs = gsbs.predict(X_testbs)\n",
    "print('Best parameter: ', gsbs.best_params_)"
   ]
  },
  {
   "cell_type": "code",
   "execution_count": null,
   "metadata": {
    "ExecuteTime": {
     "end_time": "2021-11-16T17:20:06.295510Z",
     "start_time": "2021-11-16T17:20:06.295510Z"
    },
    "hidden": true
   },
   "outputs": [],
   "source": [
    "import warnings\n",
    "warnings.filterwarnings('ignore')\n",
    "from sklearn.model_selection import GridSearchCV\n",
    "\n",
    "model = AdaBoostClassifier(random_state=100)\n",
    "params = {\n",
    "    'n_estimators':(50,100),\n",
    "    'learning_rate':[0.5, 1]\n",
    "}\n",
    "gsbs = GridSearchCV(model, params)\n",
    "gsbs.fit(X_trainbs, y_trainbs)\n",
    "y_predbs = gsbs.predict(X_testbs)\n",
    "print('Best parameter: ', gsbs.best_params_)"
   ]
  },
  {
   "cell_type": "code",
   "execution_count": null,
   "metadata": {
    "ExecuteTime": {
     "end_time": "2021-11-16T17:20:06.297510Z",
     "start_time": "2021-11-16T17:20:06.297510Z"
    },
    "hidden": true
   },
   "outputs": [],
   "source": [
    "abcbs = AdaBoostClassifier(learning_rate=0.5, n_estimators=100)\n",
    "abcbs.fit(X_trainbs, y_trainbs)\n",
    "y_predbs = abcbs.predict(X_testbs)\n",
    "accuracy_score(y_testbs, y_predbs)"
   ]
  },
  {
   "cell_type": "code",
   "execution_count": null,
   "metadata": {
    "ExecuteTime": {
     "end_time": "2021-11-16T17:20:06.297510Z",
     "start_time": "2021-11-16T17:20:06.297510Z"
    },
    "hidden": true
   },
   "outputs": [],
   "source": [
    "abcbs = AdaBoostClassifier(learning_rate=0.5, n_estimators=100)\n",
    "abcbs.fit(X_trainbs, y_trainbs)\n",
    "y_predbs = abcbs.predict(X_testbs)\n",
    "accuracy_score(y_testbs, y_predbs)"
   ]
  },
  {
   "cell_type": "code",
   "execution_count": null,
   "metadata": {
    "ExecuteTime": {
     "end_time": "2021-11-16T17:20:06.299512Z",
     "start_time": "2021-11-16T17:20:06.299512Z"
    },
    "hidden": true
   },
   "outputs": [],
   "source": [
    "print(classification_report(y_testbs, y_predbs))"
   ]
  },
  {
   "cell_type": "code",
   "execution_count": null,
   "metadata": {
    "ExecuteTime": {
     "end_time": "2021-11-16T17:20:06.299512Z",
     "start_time": "2021-11-16T17:20:06.299512Z"
    },
    "hidden": true
   },
   "outputs": [],
   "source": [
    "print(classification_report(y_testbs, y_predbs))"
   ]
  },
  {
   "cell_type": "code",
   "execution_count": null,
   "metadata": {
    "ExecuteTime": {
     "end_time": "2021-11-16T17:20:06.301513Z",
     "start_time": "2021-11-16T17:20:06.301513Z"
    },
    "hidden": true
   },
   "outputs": [],
   "source": [
    "gbcbs = GradientBoostingClassifier()\n",
    "gbcbs.fit(X_trainbs, y_trainbs)\n",
    "y_predbs = gbcbs.predict(X_testbs)\n",
    "accuracy_score(y_testbs, y_predbs)"
   ]
  },
  {
   "cell_type": "code",
   "execution_count": null,
   "metadata": {
    "ExecuteTime": {
     "end_time": "2021-11-16T17:20:06.301513Z",
     "start_time": "2021-11-16T17:20:06.301513Z"
    },
    "hidden": true
   },
   "outputs": [],
   "source": [
    "gbcbs = GradientBoostingClassifier()\n",
    "gbcbs.fit(X_trainbs, y_trainbs)\n",
    "y_predbs = gbcbs.predict(X_testbs)\n",
    "accuracy_score(y_testbs, y_predbs)"
   ]
  },
  {
   "cell_type": "code",
   "execution_count": null,
   "metadata": {
    "ExecuteTime": {
     "end_time": "2021-11-16T17:20:06.302523Z",
     "start_time": "2021-11-16T17:20:06.302523Z"
    },
    "hidden": true
   },
   "outputs": [],
   "source": [
    "print(classification_report(y_testbs, y_predbs))"
   ]
  },
  {
   "cell_type": "code",
   "execution_count": null,
   "metadata": {
    "ExecuteTime": {
     "end_time": "2021-11-16T17:20:06.302523Z",
     "start_time": "2021-11-16T17:20:06.302523Z"
    },
    "hidden": true
   },
   "outputs": [],
   "source": [
    "print(classification_report(y_testbs, y_predbs))"
   ]
  },
  {
   "cell_type": "code",
   "execution_count": null,
   "metadata": {
    "ExecuteTime": {
     "end_time": "2021-11-16T17:20:06.304510Z",
     "start_time": "2021-11-16T17:20:06.304510Z"
    },
    "hidden": true
   },
   "outputs": [],
   "source": [
    "model = GradientBoostingClassifier(random_state=100)\n",
    "params = {\n",
    "        'n_estimators':range(1,50),\n",
    "        'learning_rate':[0.001, 0.01, 0.1, 0.2, 0.5, 1]\n",
    "}\n",
    "gsbs = GridSearchCV(model, params)\n",
    "gsbs.fit(X_trainbs, y_trainbs)"
   ]
  },
  {
   "cell_type": "code",
   "execution_count": null,
   "metadata": {
    "ExecuteTime": {
     "end_time": "2021-11-16T17:20:06.304510Z",
     "start_time": "2021-11-16T17:20:06.304510Z"
    },
    "hidden": true
   },
   "outputs": [],
   "source": [
    "model = GradientBoostingClassifier(random_state=100)\n",
    "params = {\n",
    "        'n_estimators':range(1,50),\n",
    "        'learning_rate':[0.001, 0.01, 0.1, 0.2, 0.5, 1]\n",
    "}\n",
    "gsbs = GridSearchCV(model, params)\n",
    "gsbs.fit(X_trainbs, y_trainbs)"
   ]
  },
  {
   "cell_type": "code",
   "execution_count": null,
   "metadata": {
    "ExecuteTime": {
     "end_time": "2021-11-16T17:20:06.306510Z",
     "start_time": "2021-11-16T17:20:06.306510Z"
    },
    "hidden": true
   },
   "outputs": [],
   "source": [
    "print('Best parameter: ', gsbs.best_params_)"
   ]
  },
  {
   "cell_type": "code",
   "execution_count": null,
   "metadata": {
    "ExecuteTime": {
     "end_time": "2021-11-16T17:20:06.306510Z",
     "start_time": "2021-11-16T17:20:06.306510Z"
    },
    "hidden": true
   },
   "outputs": [],
   "source": [
    "print('Best parameter: ', gsbs.best_params_)"
   ]
  },
  {
   "cell_type": "code",
   "execution_count": null,
   "metadata": {
    "ExecuteTime": {
     "end_time": "2021-11-16T17:20:06.307512Z",
     "start_time": "2021-11-16T17:20:06.307512Z"
    },
    "hidden": true
   },
   "outputs": [],
   "source": [
    "gbcbs = GradientBoostingClassifier(learning_rate=0.5, n_estimators=15)\n",
    "gbcbs.fit(X_trainbs, y_trainbs)\n",
    "y_predas = gbcbs.predict(X_testbs)\n",
    "accuracy_score(y_testbs, y_predbs)"
   ]
  },
  {
   "cell_type": "code",
   "execution_count": null,
   "metadata": {
    "ExecuteTime": {
     "end_time": "2021-11-16T17:20:06.307512Z",
     "start_time": "2021-11-16T17:20:06.307512Z"
    },
    "hidden": true
   },
   "outputs": [],
   "source": [
    "gbcbs = GradientBoostingClassifier(learning_rate=0.5, n_estimators=15)\n",
    "gbcbs.fit(X_trainbs, y_trainbs)\n",
    "y_predas = gbcbs.predict(X_testbs)\n",
    "accuracy_score(y_testbs, y_predbs)"
   ]
  },
  {
   "cell_type": "code",
   "execution_count": null,
   "metadata": {
    "ExecuteTime": {
     "end_time": "2021-11-16T17:20:06.309514Z",
     "start_time": "2021-11-16T17:20:06.309514Z"
    },
    "hidden": true,
    "scrolled": true
   },
   "outputs": [],
   "source": [
    "print(classification_report(y_testbs, y_predbs))"
   ]
  },
  {
   "cell_type": "code",
   "execution_count": null,
   "metadata": {
    "ExecuteTime": {
     "end_time": "2021-11-16T17:20:06.309514Z",
     "start_time": "2021-11-16T17:20:06.309514Z"
    },
    "hidden": true,
    "scrolled": true
   },
   "outputs": [],
   "source": [
    "print(classification_report(y_testbs, y_predbs))"
   ]
  },
  {
   "cell_type": "markdown",
   "metadata": {},
   "source": [
    "#### All Data"
   ]
  },
  {
   "cell_type": "code",
   "execution_count": 33,
   "metadata": {
    "ExecuteTime": {
     "end_time": "2021-11-16T18:50:45.868110Z",
     "start_time": "2021-11-16T18:50:45.812884Z"
    },
    "scrolled": false
   },
   "outputs": [
    {
     "data": {
      "text/html": [
       "<div>\n",
       "<style scoped>\n",
       "    .dataframe tbody tr th:only-of-type {\n",
       "        vertical-align: middle;\n",
       "    }\n",
       "\n",
       "    .dataframe tbody tr th {\n",
       "        vertical-align: top;\n",
       "    }\n",
       "\n",
       "    .dataframe thead th {\n",
       "        text-align: right;\n",
       "    }\n",
       "</style>\n",
       "<table border=\"1\" class=\"dataframe\">\n",
       "  <thead>\n",
       "    <tr style=\"text-align: right;\">\n",
       "      <th></th>\n",
       "      <th>ID</th>\n",
       "      <th>Provinsi</th>\n",
       "      <th>Y</th>\n",
       "      <th>X1</th>\n",
       "      <th>X2</th>\n",
       "      <th>X4</th>\n",
       "      <th>X5</th>\n",
       "      <th>X6</th>\n",
       "      <th>Z1</th>\n",
       "      <th>Z2</th>\n",
       "      <th>Z3</th>\n",
       "      <th>Z4</th>\n",
       "    </tr>\n",
       "  </thead>\n",
       "  <tbody>\n",
       "    <tr>\n",
       "      <th>9</th>\n",
       "      <td>14</td>\n",
       "      <td>11</td>\n",
       "      <td>0</td>\n",
       "      <td>1</td>\n",
       "      <td>23</td>\n",
       "      <td>0</td>\n",
       "      <td>1</td>\n",
       "      <td>1</td>\n",
       "      <td>1.077</td>\n",
       "      <td>15.075</td>\n",
       "      <td>26.919</td>\n",
       "      <td>390.869</td>\n",
       "    </tr>\n",
       "    <tr>\n",
       "      <th>11</th>\n",
       "      <td>16</td>\n",
       "      <td>11</td>\n",
       "      <td>0</td>\n",
       "      <td>1</td>\n",
       "      <td>21</td>\n",
       "      <td>0</td>\n",
       "      <td>1</td>\n",
       "      <td>1</td>\n",
       "      <td>1.077</td>\n",
       "      <td>15.075</td>\n",
       "      <td>26.919</td>\n",
       "      <td>390.869</td>\n",
       "    </tr>\n",
       "    <tr>\n",
       "      <th>12</th>\n",
       "      <td>18</td>\n",
       "      <td>11</td>\n",
       "      <td>0</td>\n",
       "      <td>0</td>\n",
       "      <td>26</td>\n",
       "      <td>0</td>\n",
       "      <td>1</td>\n",
       "      <td>1</td>\n",
       "      <td>1.077</td>\n",
       "      <td>15.075</td>\n",
       "      <td>26.919</td>\n",
       "      <td>390.869</td>\n",
       "    </tr>\n",
       "    <tr>\n",
       "      <th>17</th>\n",
       "      <td>25</td>\n",
       "      <td>11</td>\n",
       "      <td>0</td>\n",
       "      <td>1</td>\n",
       "      <td>25</td>\n",
       "      <td>0</td>\n",
       "      <td>1</td>\n",
       "      <td>1</td>\n",
       "      <td>1.077</td>\n",
       "      <td>15.075</td>\n",
       "      <td>26.919</td>\n",
       "      <td>390.869</td>\n",
       "    </tr>\n",
       "    <tr>\n",
       "      <th>23</th>\n",
       "      <td>31</td>\n",
       "      <td>11</td>\n",
       "      <td>1</td>\n",
       "      <td>1</td>\n",
       "      <td>29</td>\n",
       "      <td>1</td>\n",
       "      <td>1</td>\n",
       "      <td>1</td>\n",
       "      <td>1.077</td>\n",
       "      <td>15.075</td>\n",
       "      <td>26.919</td>\n",
       "      <td>390.869</td>\n",
       "    </tr>\n",
       "    <tr>\n",
       "      <th>...</th>\n",
       "      <td>...</td>\n",
       "      <td>...</td>\n",
       "      <td>...</td>\n",
       "      <td>...</td>\n",
       "      <td>...</td>\n",
       "      <td>...</td>\n",
       "      <td>...</td>\n",
       "      <td>...</td>\n",
       "      <td>...</td>\n",
       "      <td>...</td>\n",
       "      <td>...</td>\n",
       "      <td>...</td>\n",
       "    </tr>\n",
       "    <tr>\n",
       "      <th>13611</th>\n",
       "      <td>19512</td>\n",
       "      <td>94</td>\n",
       "      <td>0</td>\n",
       "      <td>0</td>\n",
       "      <td>27</td>\n",
       "      <td>0</td>\n",
       "      <td>1</td>\n",
       "      <td>1</td>\n",
       "      <td>1.757</td>\n",
       "      <td>3.262</td>\n",
       "      <td>48.936</td>\n",
       "      <td>209.045</td>\n",
       "    </tr>\n",
       "    <tr>\n",
       "      <th>13613</th>\n",
       "      <td>19516</td>\n",
       "      <td>94</td>\n",
       "      <td>1</td>\n",
       "      <td>0</td>\n",
       "      <td>27</td>\n",
       "      <td>0</td>\n",
       "      <td>1</td>\n",
       "      <td>1</td>\n",
       "      <td>1.757</td>\n",
       "      <td>3.262</td>\n",
       "      <td>48.936</td>\n",
       "      <td>209.045</td>\n",
       "    </tr>\n",
       "    <tr>\n",
       "      <th>13621</th>\n",
       "      <td>19524</td>\n",
       "      <td>94</td>\n",
       "      <td>1</td>\n",
       "      <td>0</td>\n",
       "      <td>28</td>\n",
       "      <td>0</td>\n",
       "      <td>1</td>\n",
       "      <td>1</td>\n",
       "      <td>1.757</td>\n",
       "      <td>3.262</td>\n",
       "      <td>48.936</td>\n",
       "      <td>209.045</td>\n",
       "    </tr>\n",
       "    <tr>\n",
       "      <th>13622</th>\n",
       "      <td>19526</td>\n",
       "      <td>94</td>\n",
       "      <td>0</td>\n",
       "      <td>1</td>\n",
       "      <td>22</td>\n",
       "      <td>1</td>\n",
       "      <td>1</td>\n",
       "      <td>1</td>\n",
       "      <td>1.757</td>\n",
       "      <td>3.262</td>\n",
       "      <td>48.936</td>\n",
       "      <td>209.045</td>\n",
       "    </tr>\n",
       "    <tr>\n",
       "      <th>13624</th>\n",
       "      <td>19529</td>\n",
       "      <td>94</td>\n",
       "      <td>0</td>\n",
       "      <td>0</td>\n",
       "      <td>27</td>\n",
       "      <td>0</td>\n",
       "      <td>1</td>\n",
       "      <td>1</td>\n",
       "      <td>1.757</td>\n",
       "      <td>3.262</td>\n",
       "      <td>48.936</td>\n",
       "      <td>209.045</td>\n",
       "    </tr>\n",
       "  </tbody>\n",
       "</table>\n",
       "<p>3147 rows × 12 columns</p>\n",
       "</div>"
      ],
      "text/plain": [
       "          ID  Provinsi  Y  X1  X2  X4  X5  X6     Z1      Z2      Z3       Z4\n",
       "9         14        11  0   1  23   0   1   1  1.077  15.075  26.919  390.869\n",
       "11        16        11  0   1  21   0   1   1  1.077  15.075  26.919  390.869\n",
       "12        18        11  0   0  26   0   1   1  1.077  15.075  26.919  390.869\n",
       "17        25        11  0   1  25   0   1   1  1.077  15.075  26.919  390.869\n",
       "23        31        11  1   1  29   1   1   1  1.077  15.075  26.919  390.869\n",
       "...      ...       ... ..  ..  ..  ..  ..  ..    ...     ...     ...      ...\n",
       "13611  19512        94  0   0  27   0   1   1  1.757   3.262  48.936  209.045\n",
       "13613  19516        94  1   0  27   0   1   1  1.757   3.262  48.936  209.045\n",
       "13621  19524        94  1   0  28   0   1   1  1.757   3.262  48.936  209.045\n",
       "13622  19526        94  0   1  22   1   1   1  1.757   3.262  48.936  209.045\n",
       "13624  19529        94  0   0  27   0   1   1  1.757   3.262  48.936  209.045\n",
       "\n",
       "[3147 rows x 12 columns]"
      ]
     },
     "execution_count": 33,
     "metadata": {},
     "output_type": "execute_result"
    }
   ],
   "source": [
    "datatrainyoungas = datatrainyoung[datatrainyoung[\"X3\"] == 1]\n",
    "datatrainyoungas = datatrainyoungas.drop(columns=\"X3\")\n",
    "datatrainyoungas"
   ]
  },
  {
   "cell_type": "code",
   "execution_count": 75,
   "metadata": {
    "ExecuteTime": {
     "end_time": "2021-11-16T19:13:10.046918Z",
     "start_time": "2021-11-16T19:13:10.018870Z"
    },
    "scrolled": false
   },
   "outputs": [
    {
     "data": {
      "text/html": [
       "<div>\n",
       "<style scoped>\n",
       "    .dataframe tbody tr th:only-of-type {\n",
       "        vertical-align: middle;\n",
       "    }\n",
       "\n",
       "    .dataframe tbody tr th {\n",
       "        vertical-align: top;\n",
       "    }\n",
       "\n",
       "    .dataframe thead th {\n",
       "        text-align: right;\n",
       "    }\n",
       "</style>\n",
       "<table border=\"1\" class=\"dataframe\">\n",
       "  <thead>\n",
       "    <tr style=\"text-align: right;\">\n",
       "      <th></th>\n",
       "      <th>ID</th>\n",
       "      <th>Provinsi</th>\n",
       "      <th>X1</th>\n",
       "      <th>X2</th>\n",
       "      <th>X4</th>\n",
       "      <th>X5</th>\n",
       "      <th>X6</th>\n",
       "      <th>Z1</th>\n",
       "      <th>Z2</th>\n",
       "      <th>Z3</th>\n",
       "      <th>Z4</th>\n",
       "    </tr>\n",
       "  </thead>\n",
       "  <tbody>\n",
       "    <tr>\n",
       "      <th>3</th>\n",
       "      <td>10</td>\n",
       "      <td>11</td>\n",
       "      <td>1</td>\n",
       "      <td>28</td>\n",
       "      <td>0</td>\n",
       "      <td>1</td>\n",
       "      <td>0</td>\n",
       "      <td>1.077</td>\n",
       "      <td>15.075</td>\n",
       "      <td>26.919</td>\n",
       "      <td>390.869</td>\n",
       "    </tr>\n",
       "    <tr>\n",
       "      <th>6</th>\n",
       "      <td>20</td>\n",
       "      <td>11</td>\n",
       "      <td>1</td>\n",
       "      <td>27</td>\n",
       "      <td>0</td>\n",
       "      <td>1</td>\n",
       "      <td>1</td>\n",
       "      <td>1.077</td>\n",
       "      <td>15.075</td>\n",
       "      <td>26.919</td>\n",
       "      <td>390.869</td>\n",
       "    </tr>\n",
       "    <tr>\n",
       "      <th>7</th>\n",
       "      <td>32</td>\n",
       "      <td>11</td>\n",
       "      <td>1</td>\n",
       "      <td>25</td>\n",
       "      <td>0</td>\n",
       "      <td>1</td>\n",
       "      <td>1</td>\n",
       "      <td>1.077</td>\n",
       "      <td>15.075</td>\n",
       "      <td>26.919</td>\n",
       "      <td>390.869</td>\n",
       "    </tr>\n",
       "    <tr>\n",
       "      <th>14</th>\n",
       "      <td>52</td>\n",
       "      <td>11</td>\n",
       "      <td>1</td>\n",
       "      <td>21</td>\n",
       "      <td>1</td>\n",
       "      <td>1</td>\n",
       "      <td>1</td>\n",
       "      <td>0.790</td>\n",
       "      <td>9.485</td>\n",
       "      <td>34.780</td>\n",
       "      <td>271.125</td>\n",
       "    </tr>\n",
       "    <tr>\n",
       "      <th>18</th>\n",
       "      <td>62</td>\n",
       "      <td>11</td>\n",
       "      <td>1</td>\n",
       "      <td>22</td>\n",
       "      <td>0</td>\n",
       "      <td>0</td>\n",
       "      <td>1</td>\n",
       "      <td>0.790</td>\n",
       "      <td>9.485</td>\n",
       "      <td>34.780</td>\n",
       "      <td>271.125</td>\n",
       "    </tr>\n",
       "    <tr>\n",
       "      <th>...</th>\n",
       "      <td>...</td>\n",
       "      <td>...</td>\n",
       "      <td>...</td>\n",
       "      <td>...</td>\n",
       "      <td>...</td>\n",
       "      <td>...</td>\n",
       "      <td>...</td>\n",
       "      <td>...</td>\n",
       "      <td>...</td>\n",
       "      <td>...</td>\n",
       "      <td>...</td>\n",
       "    </tr>\n",
       "    <tr>\n",
       "      <th>5845</th>\n",
       "      <td>19318</td>\n",
       "      <td>94</td>\n",
       "      <td>1</td>\n",
       "      <td>28</td>\n",
       "      <td>0</td>\n",
       "      <td>1</td>\n",
       "      <td>1</td>\n",
       "      <td>0.000</td>\n",
       "      <td>20.623</td>\n",
       "      <td>11.784</td>\n",
       "      <td>212.120</td>\n",
       "    </tr>\n",
       "    <tr>\n",
       "      <th>5855</th>\n",
       "      <td>19356</td>\n",
       "      <td>94</td>\n",
       "      <td>1</td>\n",
       "      <td>24</td>\n",
       "      <td>1</td>\n",
       "      <td>1</td>\n",
       "      <td>1</td>\n",
       "      <td>4.435</td>\n",
       "      <td>22.176</td>\n",
       "      <td>57.657</td>\n",
       "      <td>527.786</td>\n",
       "    </tr>\n",
       "    <tr>\n",
       "      <th>5882</th>\n",
       "      <td>19453</td>\n",
       "      <td>94</td>\n",
       "      <td>1</td>\n",
       "      <td>25</td>\n",
       "      <td>1</td>\n",
       "      <td>1</td>\n",
       "      <td>1</td>\n",
       "      <td>0.000</td>\n",
       "      <td>8.715</td>\n",
       "      <td>9.587</td>\n",
       "      <td>64.493</td>\n",
       "    </tr>\n",
       "    <tr>\n",
       "      <th>5900</th>\n",
       "      <td>19513</td>\n",
       "      <td>94</td>\n",
       "      <td>0</td>\n",
       "      <td>27</td>\n",
       "      <td>0</td>\n",
       "      <td>1</td>\n",
       "      <td>1</td>\n",
       "      <td>1.757</td>\n",
       "      <td>3.262</td>\n",
       "      <td>48.936</td>\n",
       "      <td>209.045</td>\n",
       "    </tr>\n",
       "    <tr>\n",
       "      <th>5903</th>\n",
       "      <td>19528</td>\n",
       "      <td>94</td>\n",
       "      <td>0</td>\n",
       "      <td>22</td>\n",
       "      <td>1</td>\n",
       "      <td>1</td>\n",
       "      <td>1</td>\n",
       "      <td>1.757</td>\n",
       "      <td>3.262</td>\n",
       "      <td>48.936</td>\n",
       "      <td>209.045</td>\n",
       "    </tr>\n",
       "  </tbody>\n",
       "</table>\n",
       "<p>1370 rows × 11 columns</p>\n",
       "</div>"
      ],
      "text/plain": [
       "         ID  Provinsi  X1  X2  X4  X5  X6     Z1      Z2      Z3       Z4\n",
       "3        10        11   1  28   0   1   0  1.077  15.075  26.919  390.869\n",
       "6        20        11   1  27   0   1   1  1.077  15.075  26.919  390.869\n",
       "7        32        11   1  25   0   1   1  1.077  15.075  26.919  390.869\n",
       "14       52        11   1  21   1   1   1  0.790   9.485  34.780  271.125\n",
       "18       62        11   1  22   0   0   1  0.790   9.485  34.780  271.125\n",
       "...     ...       ...  ..  ..  ..  ..  ..    ...     ...     ...      ...\n",
       "5845  19318        94   1  28   0   1   1  0.000  20.623  11.784  212.120\n",
       "5855  19356        94   1  24   1   1   1  4.435  22.176  57.657  527.786\n",
       "5882  19453        94   1  25   1   1   1  0.000   8.715   9.587   64.493\n",
       "5900  19513        94   0  27   0   1   1  1.757   3.262  48.936  209.045\n",
       "5903  19528        94   0  22   1   1   1  1.757   3.262  48.936  209.045\n",
       "\n",
       "[1370 rows x 11 columns]"
      ]
     },
     "execution_count": 75,
     "metadata": {},
     "output_type": "execute_result"
    }
   ],
   "source": [
    "datatestyoungas = datatestyoung[datatestyoung[\"X3\"] == 1]\n",
    "datatestyoungas = datatestyoungas.drop(columns=\"X3\")\n",
    "datatestyoungas"
   ]
  },
  {
   "cell_type": "code",
   "execution_count": 34,
   "metadata": {
    "ExecuteTime": {
     "end_time": "2021-11-16T18:50:50.847920Z",
     "start_time": "2021-11-16T18:50:50.782919Z"
    },
    "scrolled": false
   },
   "outputs": [
    {
     "data": {
      "text/html": [
       "<div>\n",
       "<style scoped>\n",
       "    .dataframe tbody tr th:only-of-type {\n",
       "        vertical-align: middle;\n",
       "    }\n",
       "\n",
       "    .dataframe tbody tr th {\n",
       "        vertical-align: top;\n",
       "    }\n",
       "\n",
       "    .dataframe thead th {\n",
       "        text-align: right;\n",
       "    }\n",
       "</style>\n",
       "<table border=\"1\" class=\"dataframe\">\n",
       "  <thead>\n",
       "    <tr style=\"text-align: right;\">\n",
       "      <th></th>\n",
       "      <th>ID</th>\n",
       "      <th>Provinsi</th>\n",
       "      <th>Y</th>\n",
       "      <th>X1</th>\n",
       "      <th>X2</th>\n",
       "      <th>X4</th>\n",
       "      <th>X5</th>\n",
       "      <th>X6</th>\n",
       "      <th>Z1</th>\n",
       "      <th>Z2</th>\n",
       "      <th>Z3</th>\n",
       "      <th>Z4</th>\n",
       "    </tr>\n",
       "  </thead>\n",
       "  <tbody>\n",
       "    <tr>\n",
       "      <th>0</th>\n",
       "      <td>1</td>\n",
       "      <td>11</td>\n",
       "      <td>0</td>\n",
       "      <td>1</td>\n",
       "      <td>27</td>\n",
       "      <td>0</td>\n",
       "      <td>1</td>\n",
       "      <td>1</td>\n",
       "      <td>1.077</td>\n",
       "      <td>15.075</td>\n",
       "      <td>26.919</td>\n",
       "      <td>390.869</td>\n",
       "    </tr>\n",
       "    <tr>\n",
       "      <th>3</th>\n",
       "      <td>7</td>\n",
       "      <td>11</td>\n",
       "      <td>0</td>\n",
       "      <td>0</td>\n",
       "      <td>27</td>\n",
       "      <td>0</td>\n",
       "      <td>1</td>\n",
       "      <td>1</td>\n",
       "      <td>1.077</td>\n",
       "      <td>15.075</td>\n",
       "      <td>26.919</td>\n",
       "      <td>390.869</td>\n",
       "    </tr>\n",
       "    <tr>\n",
       "      <th>5</th>\n",
       "      <td>9</td>\n",
       "      <td>11</td>\n",
       "      <td>1</td>\n",
       "      <td>1</td>\n",
       "      <td>20</td>\n",
       "      <td>1</td>\n",
       "      <td>1</td>\n",
       "      <td>0</td>\n",
       "      <td>1.077</td>\n",
       "      <td>15.075</td>\n",
       "      <td>26.919</td>\n",
       "      <td>390.869</td>\n",
       "    </tr>\n",
       "    <tr>\n",
       "      <th>6</th>\n",
       "      <td>11</td>\n",
       "      <td>11</td>\n",
       "      <td>0</td>\n",
       "      <td>1</td>\n",
       "      <td>27</td>\n",
       "      <td>1</td>\n",
       "      <td>1</td>\n",
       "      <td>1</td>\n",
       "      <td>1.077</td>\n",
       "      <td>15.075</td>\n",
       "      <td>26.919</td>\n",
       "      <td>390.869</td>\n",
       "    </tr>\n",
       "    <tr>\n",
       "      <th>13</th>\n",
       "      <td>21</td>\n",
       "      <td>11</td>\n",
       "      <td>0</td>\n",
       "      <td>1</td>\n",
       "      <td>19</td>\n",
       "      <td>0</td>\n",
       "      <td>1</td>\n",
       "      <td>1</td>\n",
       "      <td>1.077</td>\n",
       "      <td>15.075</td>\n",
       "      <td>26.919</td>\n",
       "      <td>390.869</td>\n",
       "    </tr>\n",
       "    <tr>\n",
       "      <th>...</th>\n",
       "      <td>...</td>\n",
       "      <td>...</td>\n",
       "      <td>...</td>\n",
       "      <td>...</td>\n",
       "      <td>...</td>\n",
       "      <td>...</td>\n",
       "      <td>...</td>\n",
       "      <td>...</td>\n",
       "      <td>...</td>\n",
       "      <td>...</td>\n",
       "      <td>...</td>\n",
       "      <td>...</td>\n",
       "    </tr>\n",
       "    <tr>\n",
       "      <th>13587</th>\n",
       "      <td>19485</td>\n",
       "      <td>94</td>\n",
       "      <td>0</td>\n",
       "      <td>1</td>\n",
       "      <td>29</td>\n",
       "      <td>1</td>\n",
       "      <td>0</td>\n",
       "      <td>0</td>\n",
       "      <td>0.000</td>\n",
       "      <td>8.073</td>\n",
       "      <td>2.018</td>\n",
       "      <td>20.183</td>\n",
       "    </tr>\n",
       "    <tr>\n",
       "      <th>13594</th>\n",
       "      <td>19493</td>\n",
       "      <td>94</td>\n",
       "      <td>0</td>\n",
       "      <td>1</td>\n",
       "      <td>25</td>\n",
       "      <td>1</td>\n",
       "      <td>0</td>\n",
       "      <td>0</td>\n",
       "      <td>0.000</td>\n",
       "      <td>8.073</td>\n",
       "      <td>2.018</td>\n",
       "      <td>20.183</td>\n",
       "    </tr>\n",
       "    <tr>\n",
       "      <th>13595</th>\n",
       "      <td>19494</td>\n",
       "      <td>94</td>\n",
       "      <td>0</td>\n",
       "      <td>1</td>\n",
       "      <td>20</td>\n",
       "      <td>1</td>\n",
       "      <td>1</td>\n",
       "      <td>0</td>\n",
       "      <td>0.000</td>\n",
       "      <td>8.073</td>\n",
       "      <td>2.018</td>\n",
       "      <td>20.183</td>\n",
       "    </tr>\n",
       "    <tr>\n",
       "      <th>13601</th>\n",
       "      <td>19500</td>\n",
       "      <td>94</td>\n",
       "      <td>0</td>\n",
       "      <td>1</td>\n",
       "      <td>29</td>\n",
       "      <td>1</td>\n",
       "      <td>1</td>\n",
       "      <td>1</td>\n",
       "      <td>0.000</td>\n",
       "      <td>8.073</td>\n",
       "      <td>2.018</td>\n",
       "      <td>20.183</td>\n",
       "    </tr>\n",
       "    <tr>\n",
       "      <th>13609</th>\n",
       "      <td>19509</td>\n",
       "      <td>94</td>\n",
       "      <td>0</td>\n",
       "      <td>1</td>\n",
       "      <td>29</td>\n",
       "      <td>1</td>\n",
       "      <td>1</td>\n",
       "      <td>1</td>\n",
       "      <td>0.000</td>\n",
       "      <td>8.073</td>\n",
       "      <td>2.018</td>\n",
       "      <td>20.183</td>\n",
       "    </tr>\n",
       "  </tbody>\n",
       "</table>\n",
       "<p>3197 rows × 12 columns</p>\n",
       "</div>"
      ],
      "text/plain": [
       "          ID  Provinsi  Y  X1  X2  X4  X5  X6     Z1      Z2      Z3       Z4\n",
       "0          1        11  0   1  27   0   1   1  1.077  15.075  26.919  390.869\n",
       "3          7        11  0   0  27   0   1   1  1.077  15.075  26.919  390.869\n",
       "5          9        11  1   1  20   1   1   0  1.077  15.075  26.919  390.869\n",
       "6         11        11  0   1  27   1   1   1  1.077  15.075  26.919  390.869\n",
       "13        21        11  0   1  19   0   1   1  1.077  15.075  26.919  390.869\n",
       "...      ...       ... ..  ..  ..  ..  ..  ..    ...     ...     ...      ...\n",
       "13587  19485        94  0   1  29   1   0   0  0.000   8.073   2.018   20.183\n",
       "13594  19493        94  0   1  25   1   0   0  0.000   8.073   2.018   20.183\n",
       "13595  19494        94  0   1  20   1   1   0  0.000   8.073   2.018   20.183\n",
       "13601  19500        94  0   1  29   1   1   1  0.000   8.073   2.018   20.183\n",
       "13609  19509        94  0   1  29   1   1   1  0.000   8.073   2.018   20.183\n",
       "\n",
       "[3197 rows x 12 columns]"
      ]
     },
     "execution_count": 34,
     "metadata": {},
     "output_type": "execute_result"
    }
   ],
   "source": [
    "datatrainyoungbs = datatrainyoung[datatrainyoung[\"X3\"] == 0]\n",
    "datatrainyoungbs = datatrainyoungbs.drop(columns=\"X3\")\n",
    "datatrainyoungbs"
   ]
  },
  {
   "cell_type": "code",
   "execution_count": 76,
   "metadata": {
    "ExecuteTime": {
     "end_time": "2021-11-16T19:13:39.912407Z",
     "start_time": "2021-11-16T19:13:39.889362Z"
    },
    "scrolled": false
   },
   "outputs": [
    {
     "data": {
      "text/html": [
       "<div>\n",
       "<style scoped>\n",
       "    .dataframe tbody tr th:only-of-type {\n",
       "        vertical-align: middle;\n",
       "    }\n",
       "\n",
       "    .dataframe tbody tr th {\n",
       "        vertical-align: top;\n",
       "    }\n",
       "\n",
       "    .dataframe thead th {\n",
       "        text-align: right;\n",
       "    }\n",
       "</style>\n",
       "<table border=\"1\" class=\"dataframe\">\n",
       "  <thead>\n",
       "    <tr style=\"text-align: right;\">\n",
       "      <th></th>\n",
       "      <th>ID</th>\n",
       "      <th>Provinsi</th>\n",
       "      <th>X1</th>\n",
       "      <th>X2</th>\n",
       "      <th>X4</th>\n",
       "      <th>X5</th>\n",
       "      <th>X6</th>\n",
       "      <th>Z1</th>\n",
       "      <th>Z2</th>\n",
       "      <th>Z3</th>\n",
       "      <th>Z4</th>\n",
       "    </tr>\n",
       "  </thead>\n",
       "  <tbody>\n",
       "    <tr>\n",
       "      <th>5</th>\n",
       "      <td>19</td>\n",
       "      <td>11</td>\n",
       "      <td>1</td>\n",
       "      <td>24</td>\n",
       "      <td>0</td>\n",
       "      <td>1</td>\n",
       "      <td>1</td>\n",
       "      <td>1.077</td>\n",
       "      <td>15.075</td>\n",
       "      <td>26.919</td>\n",
       "      <td>390.869</td>\n",
       "    </tr>\n",
       "    <tr>\n",
       "      <th>9</th>\n",
       "      <td>44</td>\n",
       "      <td>11</td>\n",
       "      <td>0</td>\n",
       "      <td>20</td>\n",
       "      <td>0</td>\n",
       "      <td>0</td>\n",
       "      <td>1</td>\n",
       "      <td>0.790</td>\n",
       "      <td>9.485</td>\n",
       "      <td>34.780</td>\n",
       "      <td>271.125</td>\n",
       "    </tr>\n",
       "    <tr>\n",
       "      <th>19</th>\n",
       "      <td>63</td>\n",
       "      <td>11</td>\n",
       "      <td>1</td>\n",
       "      <td>28</td>\n",
       "      <td>0</td>\n",
       "      <td>1</td>\n",
       "      <td>1</td>\n",
       "      <td>0.790</td>\n",
       "      <td>9.485</td>\n",
       "      <td>34.780</td>\n",
       "      <td>271.125</td>\n",
       "    </tr>\n",
       "    <tr>\n",
       "      <th>20</th>\n",
       "      <td>72</td>\n",
       "      <td>11</td>\n",
       "      <td>1</td>\n",
       "      <td>23</td>\n",
       "      <td>0</td>\n",
       "      <td>0</td>\n",
       "      <td>1</td>\n",
       "      <td>0.790</td>\n",
       "      <td>9.485</td>\n",
       "      <td>34.780</td>\n",
       "      <td>271.125</td>\n",
       "    </tr>\n",
       "    <tr>\n",
       "      <th>22</th>\n",
       "      <td>76</td>\n",
       "      <td>11</td>\n",
       "      <td>0</td>\n",
       "      <td>25</td>\n",
       "      <td>0</td>\n",
       "      <td>0</td>\n",
       "      <td>1</td>\n",
       "      <td>0.790</td>\n",
       "      <td>9.485</td>\n",
       "      <td>34.780</td>\n",
       "      <td>271.125</td>\n",
       "    </tr>\n",
       "    <tr>\n",
       "      <th>...</th>\n",
       "      <td>...</td>\n",
       "      <td>...</td>\n",
       "      <td>...</td>\n",
       "      <td>...</td>\n",
       "      <td>...</td>\n",
       "      <td>...</td>\n",
       "      <td>...</td>\n",
       "      <td>...</td>\n",
       "      <td>...</td>\n",
       "      <td>...</td>\n",
       "      <td>...</td>\n",
       "    </tr>\n",
       "    <tr>\n",
       "      <th>5890</th>\n",
       "      <td>19472</td>\n",
       "      <td>94</td>\n",
       "      <td>1</td>\n",
       "      <td>23</td>\n",
       "      <td>0</td>\n",
       "      <td>1</td>\n",
       "      <td>1</td>\n",
       "      <td>0.741</td>\n",
       "      <td>2.962</td>\n",
       "      <td>8.146</td>\n",
       "      <td>48.873</td>\n",
       "    </tr>\n",
       "    <tr>\n",
       "      <th>5891</th>\n",
       "      <td>19473</td>\n",
       "      <td>94</td>\n",
       "      <td>1</td>\n",
       "      <td>21</td>\n",
       "      <td>0</td>\n",
       "      <td>1</td>\n",
       "      <td>1</td>\n",
       "      <td>0.741</td>\n",
       "      <td>2.962</td>\n",
       "      <td>8.146</td>\n",
       "      <td>48.873</td>\n",
       "    </tr>\n",
       "    <tr>\n",
       "      <th>5893</th>\n",
       "      <td>19475</td>\n",
       "      <td>94</td>\n",
       "      <td>1</td>\n",
       "      <td>27</td>\n",
       "      <td>1</td>\n",
       "      <td>1</td>\n",
       "      <td>1</td>\n",
       "      <td>0.741</td>\n",
       "      <td>2.962</td>\n",
       "      <td>8.146</td>\n",
       "      <td>48.873</td>\n",
       "    </tr>\n",
       "    <tr>\n",
       "      <th>5896</th>\n",
       "      <td>19482</td>\n",
       "      <td>94</td>\n",
       "      <td>1</td>\n",
       "      <td>29</td>\n",
       "      <td>1</td>\n",
       "      <td>0</td>\n",
       "      <td>1</td>\n",
       "      <td>0.000</td>\n",
       "      <td>8.073</td>\n",
       "      <td>2.018</td>\n",
       "      <td>20.183</td>\n",
       "    </tr>\n",
       "    <tr>\n",
       "      <th>5898</th>\n",
       "      <td>19503</td>\n",
       "      <td>94</td>\n",
       "      <td>1</td>\n",
       "      <td>29</td>\n",
       "      <td>1</td>\n",
       "      <td>1</td>\n",
       "      <td>1</td>\n",
       "      <td>0.000</td>\n",
       "      <td>8.073</td>\n",
       "      <td>2.018</td>\n",
       "      <td>20.183</td>\n",
       "    </tr>\n",
       "  </tbody>\n",
       "</table>\n",
       "<p>1323 rows × 11 columns</p>\n",
       "</div>"
      ],
      "text/plain": [
       "         ID  Provinsi  X1  X2  X4  X5  X6     Z1      Z2      Z3       Z4\n",
       "5        19        11   1  24   0   1   1  1.077  15.075  26.919  390.869\n",
       "9        44        11   0  20   0   0   1  0.790   9.485  34.780  271.125\n",
       "19       63        11   1  28   0   1   1  0.790   9.485  34.780  271.125\n",
       "20       72        11   1  23   0   0   1  0.790   9.485  34.780  271.125\n",
       "22       76        11   0  25   0   0   1  0.790   9.485  34.780  271.125\n",
       "...     ...       ...  ..  ..  ..  ..  ..    ...     ...     ...      ...\n",
       "5890  19472        94   1  23   0   1   1  0.741   2.962   8.146   48.873\n",
       "5891  19473        94   1  21   0   1   1  0.741   2.962   8.146   48.873\n",
       "5893  19475        94   1  27   1   1   1  0.741   2.962   8.146   48.873\n",
       "5896  19482        94   1  29   1   0   1  0.000   8.073   2.018   20.183\n",
       "5898  19503        94   1  29   1   1   1  0.000   8.073   2.018   20.183\n",
       "\n",
       "[1323 rows x 11 columns]"
      ]
     },
     "execution_count": 76,
     "metadata": {},
     "output_type": "execute_result"
    }
   ],
   "source": [
    "datatestyoungbs = datatestyoung[datatestyoung[\"X3\"] == 0]\n",
    "datatestyoungbs = datatestyoungbs.drop(columns=\"X3\")\n",
    "datatestyoungbs"
   ]
  },
  {
   "cell_type": "code",
   "execution_count": 35,
   "metadata": {
    "ExecuteTime": {
     "end_time": "2021-11-16T18:50:51.855868Z",
     "start_time": "2021-11-16T18:50:51.792648Z"
    },
    "scrolled": false
   },
   "outputs": [
    {
     "data": {
      "text/html": [
       "<div>\n",
       "<style scoped>\n",
       "    .dataframe tbody tr th:only-of-type {\n",
       "        vertical-align: middle;\n",
       "    }\n",
       "\n",
       "    .dataframe tbody tr th {\n",
       "        vertical-align: top;\n",
       "    }\n",
       "\n",
       "    .dataframe thead th {\n",
       "        text-align: right;\n",
       "    }\n",
       "</style>\n",
       "<table border=\"1\" class=\"dataframe\">\n",
       "  <thead>\n",
       "    <tr style=\"text-align: right;\">\n",
       "      <th></th>\n",
       "      <th>ID</th>\n",
       "      <th>Provinsi</th>\n",
       "      <th>Y</th>\n",
       "      <th>X1</th>\n",
       "      <th>X2</th>\n",
       "      <th>X4</th>\n",
       "      <th>X5</th>\n",
       "      <th>X6</th>\n",
       "      <th>Z1</th>\n",
       "      <th>Z2</th>\n",
       "      <th>Z3</th>\n",
       "      <th>Z4</th>\n",
       "    </tr>\n",
       "  </thead>\n",
       "  <tbody>\n",
       "    <tr>\n",
       "      <th>4</th>\n",
       "      <td>8</td>\n",
       "      <td>11</td>\n",
       "      <td>0</td>\n",
       "      <td>1</td>\n",
       "      <td>36</td>\n",
       "      <td>0</td>\n",
       "      <td>0</td>\n",
       "      <td>0</td>\n",
       "      <td>1.077</td>\n",
       "      <td>15.075</td>\n",
       "      <td>26.919</td>\n",
       "      <td>390.869</td>\n",
       "    </tr>\n",
       "    <tr>\n",
       "      <th>7</th>\n",
       "      <td>12</td>\n",
       "      <td>11</td>\n",
       "      <td>0</td>\n",
       "      <td>0</td>\n",
       "      <td>36</td>\n",
       "      <td>0</td>\n",
       "      <td>1</td>\n",
       "      <td>1</td>\n",
       "      <td>1.077</td>\n",
       "      <td>15.075</td>\n",
       "      <td>26.919</td>\n",
       "      <td>390.869</td>\n",
       "    </tr>\n",
       "    <tr>\n",
       "      <th>8</th>\n",
       "      <td>13</td>\n",
       "      <td>11</td>\n",
       "      <td>0</td>\n",
       "      <td>0</td>\n",
       "      <td>33</td>\n",
       "      <td>0</td>\n",
       "      <td>1</td>\n",
       "      <td>1</td>\n",
       "      <td>1.077</td>\n",
       "      <td>15.075</td>\n",
       "      <td>26.919</td>\n",
       "      <td>390.869</td>\n",
       "    </tr>\n",
       "    <tr>\n",
       "      <th>10</th>\n",
       "      <td>15</td>\n",
       "      <td>11</td>\n",
       "      <td>0</td>\n",
       "      <td>1</td>\n",
       "      <td>32</td>\n",
       "      <td>0</td>\n",
       "      <td>1</td>\n",
       "      <td>0</td>\n",
       "      <td>1.077</td>\n",
       "      <td>15.075</td>\n",
       "      <td>26.919</td>\n",
       "      <td>390.869</td>\n",
       "    </tr>\n",
       "    <tr>\n",
       "      <th>14</th>\n",
       "      <td>22</td>\n",
       "      <td>11</td>\n",
       "      <td>0</td>\n",
       "      <td>1</td>\n",
       "      <td>41</td>\n",
       "      <td>0</td>\n",
       "      <td>1</td>\n",
       "      <td>1</td>\n",
       "      <td>1.077</td>\n",
       "      <td>15.075</td>\n",
       "      <td>26.919</td>\n",
       "      <td>390.869</td>\n",
       "    </tr>\n",
       "    <tr>\n",
       "      <th>...</th>\n",
       "      <td>...</td>\n",
       "      <td>...</td>\n",
       "      <td>...</td>\n",
       "      <td>...</td>\n",
       "      <td>...</td>\n",
       "      <td>...</td>\n",
       "      <td>...</td>\n",
       "      <td>...</td>\n",
       "      <td>...</td>\n",
       "      <td>...</td>\n",
       "      <td>...</td>\n",
       "      <td>...</td>\n",
       "    </tr>\n",
       "    <tr>\n",
       "      <th>13617</th>\n",
       "      <td>19520</td>\n",
       "      <td>94</td>\n",
       "      <td>1</td>\n",
       "      <td>0</td>\n",
       "      <td>34</td>\n",
       "      <td>0</td>\n",
       "      <td>1</td>\n",
       "      <td>1</td>\n",
       "      <td>1.757</td>\n",
       "      <td>3.262</td>\n",
       "      <td>48.936</td>\n",
       "      <td>209.045</td>\n",
       "    </tr>\n",
       "    <tr>\n",
       "      <th>13618</th>\n",
       "      <td>19521</td>\n",
       "      <td>94</td>\n",
       "      <td>1</td>\n",
       "      <td>0</td>\n",
       "      <td>39</td>\n",
       "      <td>1</td>\n",
       "      <td>1</td>\n",
       "      <td>0</td>\n",
       "      <td>1.757</td>\n",
       "      <td>3.262</td>\n",
       "      <td>48.936</td>\n",
       "      <td>209.045</td>\n",
       "    </tr>\n",
       "    <tr>\n",
       "      <th>13619</th>\n",
       "      <td>19522</td>\n",
       "      <td>94</td>\n",
       "      <td>0</td>\n",
       "      <td>0</td>\n",
       "      <td>39</td>\n",
       "      <td>0</td>\n",
       "      <td>0</td>\n",
       "      <td>1</td>\n",
       "      <td>1.757</td>\n",
       "      <td>3.262</td>\n",
       "      <td>48.936</td>\n",
       "      <td>209.045</td>\n",
       "    </tr>\n",
       "    <tr>\n",
       "      <th>13623</th>\n",
       "      <td>19527</td>\n",
       "      <td>94</td>\n",
       "      <td>0</td>\n",
       "      <td>0</td>\n",
       "      <td>35</td>\n",
       "      <td>0</td>\n",
       "      <td>1</td>\n",
       "      <td>1</td>\n",
       "      <td>1.757</td>\n",
       "      <td>3.262</td>\n",
       "      <td>48.936</td>\n",
       "      <td>209.045</td>\n",
       "    </tr>\n",
       "    <tr>\n",
       "      <th>13625</th>\n",
       "      <td>19530</td>\n",
       "      <td>94</td>\n",
       "      <td>1</td>\n",
       "      <td>0</td>\n",
       "      <td>39</td>\n",
       "      <td>1</td>\n",
       "      <td>1</td>\n",
       "      <td>1</td>\n",
       "      <td>1.757</td>\n",
       "      <td>3.262</td>\n",
       "      <td>48.936</td>\n",
       "      <td>209.045</td>\n",
       "    </tr>\n",
       "  </tbody>\n",
       "</table>\n",
       "<p>3500 rows × 12 columns</p>\n",
       "</div>"
      ],
      "text/plain": [
       "          ID  Provinsi  Y  X1  X2  X4  X5  X6     Z1      Z2      Z3       Z4\n",
       "4          8        11  0   1  36   0   0   0  1.077  15.075  26.919  390.869\n",
       "7         12        11  0   0  36   0   1   1  1.077  15.075  26.919  390.869\n",
       "8         13        11  0   0  33   0   1   1  1.077  15.075  26.919  390.869\n",
       "10        15        11  0   1  32   0   1   0  1.077  15.075  26.919  390.869\n",
       "14        22        11  0   1  41   0   1   1  1.077  15.075  26.919  390.869\n",
       "...      ...       ... ..  ..  ..  ..  ..  ..    ...     ...     ...      ...\n",
       "13617  19520        94  1   0  34   0   1   1  1.757   3.262  48.936  209.045\n",
       "13618  19521        94  1   0  39   1   1   0  1.757   3.262  48.936  209.045\n",
       "13619  19522        94  0   0  39   0   0   1  1.757   3.262  48.936  209.045\n",
       "13623  19527        94  0   0  35   0   1   1  1.757   3.262  48.936  209.045\n",
       "13625  19530        94  1   0  39   1   1   1  1.757   3.262  48.936  209.045\n",
       "\n",
       "[3500 rows x 12 columns]"
      ]
     },
     "execution_count": 35,
     "metadata": {},
     "output_type": "execute_result"
    }
   ],
   "source": [
    "datatrainoldas = datatrainold[datatrainold[\"X3\"] == 1]\n",
    "datatrainoldas = datatrainoldas.drop(columns=\"X3\")\n",
    "datatrainoldas"
   ]
  },
  {
   "cell_type": "code",
   "execution_count": 77,
   "metadata": {
    "ExecuteTime": {
     "end_time": "2021-11-16T19:14:12.187438Z",
     "start_time": "2021-11-16T19:14:12.144439Z"
    },
    "scrolled": false
   },
   "outputs": [
    {
     "data": {
      "text/html": [
       "<div>\n",
       "<style scoped>\n",
       "    .dataframe tbody tr th:only-of-type {\n",
       "        vertical-align: middle;\n",
       "    }\n",
       "\n",
       "    .dataframe tbody tr th {\n",
       "        vertical-align: top;\n",
       "    }\n",
       "\n",
       "    .dataframe thead th {\n",
       "        text-align: right;\n",
       "    }\n",
       "</style>\n",
       "<table border=\"1\" class=\"dataframe\">\n",
       "  <thead>\n",
       "    <tr style=\"text-align: right;\">\n",
       "      <th></th>\n",
       "      <th>ID</th>\n",
       "      <th>Provinsi</th>\n",
       "      <th>X1</th>\n",
       "      <th>X2</th>\n",
       "      <th>X4</th>\n",
       "      <th>X5</th>\n",
       "      <th>X6</th>\n",
       "      <th>Z1</th>\n",
       "      <th>Z2</th>\n",
       "      <th>Z3</th>\n",
       "      <th>Z4</th>\n",
       "    </tr>\n",
       "  </thead>\n",
       "  <tbody>\n",
       "    <tr>\n",
       "      <th>1</th>\n",
       "      <td>5</td>\n",
       "      <td>11</td>\n",
       "      <td>0</td>\n",
       "      <td>32</td>\n",
       "      <td>0</td>\n",
       "      <td>1</td>\n",
       "      <td>1</td>\n",
       "      <td>1.077</td>\n",
       "      <td>15.075</td>\n",
       "      <td>26.919</td>\n",
       "      <td>390.869</td>\n",
       "    </tr>\n",
       "    <tr>\n",
       "      <th>2</th>\n",
       "      <td>6</td>\n",
       "      <td>11</td>\n",
       "      <td>1</td>\n",
       "      <td>32</td>\n",
       "      <td>0</td>\n",
       "      <td>1</td>\n",
       "      <td>1</td>\n",
       "      <td>1.077</td>\n",
       "      <td>15.075</td>\n",
       "      <td>26.919</td>\n",
       "      <td>390.869</td>\n",
       "    </tr>\n",
       "    <tr>\n",
       "      <th>4</th>\n",
       "      <td>17</td>\n",
       "      <td>11</td>\n",
       "      <td>0</td>\n",
       "      <td>31</td>\n",
       "      <td>0</td>\n",
       "      <td>1</td>\n",
       "      <td>1</td>\n",
       "      <td>1.077</td>\n",
       "      <td>15.075</td>\n",
       "      <td>26.919</td>\n",
       "      <td>390.869</td>\n",
       "    </tr>\n",
       "    <tr>\n",
       "      <th>10</th>\n",
       "      <td>45</td>\n",
       "      <td>11</td>\n",
       "      <td>1</td>\n",
       "      <td>32</td>\n",
       "      <td>0</td>\n",
       "      <td>1</td>\n",
       "      <td>1</td>\n",
       "      <td>0.790</td>\n",
       "      <td>9.485</td>\n",
       "      <td>34.780</td>\n",
       "      <td>271.125</td>\n",
       "    </tr>\n",
       "    <tr>\n",
       "      <th>11</th>\n",
       "      <td>46</td>\n",
       "      <td>11</td>\n",
       "      <td>1</td>\n",
       "      <td>37</td>\n",
       "      <td>1</td>\n",
       "      <td>1</td>\n",
       "      <td>1</td>\n",
       "      <td>0.790</td>\n",
       "      <td>9.485</td>\n",
       "      <td>34.780</td>\n",
       "      <td>271.125</td>\n",
       "    </tr>\n",
       "    <tr>\n",
       "      <th>...</th>\n",
       "      <td>...</td>\n",
       "      <td>...</td>\n",
       "      <td>...</td>\n",
       "      <td>...</td>\n",
       "      <td>...</td>\n",
       "      <td>...</td>\n",
       "      <td>...</td>\n",
       "      <td>...</td>\n",
       "      <td>...</td>\n",
       "      <td>...</td>\n",
       "      <td>...</td>\n",
       "    </tr>\n",
       "    <tr>\n",
       "      <th>5895</th>\n",
       "      <td>19477</td>\n",
       "      <td>94</td>\n",
       "      <td>1</td>\n",
       "      <td>31</td>\n",
       "      <td>1</td>\n",
       "      <td>0</td>\n",
       "      <td>0</td>\n",
       "      <td>0.000</td>\n",
       "      <td>8.073</td>\n",
       "      <td>2.018</td>\n",
       "      <td>20.183</td>\n",
       "    </tr>\n",
       "    <tr>\n",
       "      <th>5899</th>\n",
       "      <td>19510</td>\n",
       "      <td>94</td>\n",
       "      <td>0</td>\n",
       "      <td>37</td>\n",
       "      <td>1</td>\n",
       "      <td>1</td>\n",
       "      <td>1</td>\n",
       "      <td>1.757</td>\n",
       "      <td>3.262</td>\n",
       "      <td>48.936</td>\n",
       "      <td>209.045</td>\n",
       "    </tr>\n",
       "    <tr>\n",
       "      <th>5902</th>\n",
       "      <td>19525</td>\n",
       "      <td>94</td>\n",
       "      <td>0</td>\n",
       "      <td>30</td>\n",
       "      <td>1</td>\n",
       "      <td>1</td>\n",
       "      <td>1</td>\n",
       "      <td>1.757</td>\n",
       "      <td>3.262</td>\n",
       "      <td>48.936</td>\n",
       "      <td>209.045</td>\n",
       "    </tr>\n",
       "    <tr>\n",
       "      <th>5904</th>\n",
       "      <td>19531</td>\n",
       "      <td>94</td>\n",
       "      <td>0</td>\n",
       "      <td>40</td>\n",
       "      <td>1</td>\n",
       "      <td>1</td>\n",
       "      <td>1</td>\n",
       "      <td>1.757</td>\n",
       "      <td>3.262</td>\n",
       "      <td>48.936</td>\n",
       "      <td>209.045</td>\n",
       "    </tr>\n",
       "    <tr>\n",
       "      <th>5905</th>\n",
       "      <td>19532</td>\n",
       "      <td>94</td>\n",
       "      <td>0</td>\n",
       "      <td>38</td>\n",
       "      <td>0</td>\n",
       "      <td>1</td>\n",
       "      <td>1</td>\n",
       "      <td>1.757</td>\n",
       "      <td>3.262</td>\n",
       "      <td>48.936</td>\n",
       "      <td>209.045</td>\n",
       "    </tr>\n",
       "  </tbody>\n",
       "</table>\n",
       "<p>1569 rows × 11 columns</p>\n",
       "</div>"
      ],
      "text/plain": [
       "         ID  Provinsi  X1  X2  X4  X5  X6     Z1      Z2      Z3       Z4\n",
       "1         5        11   0  32   0   1   1  1.077  15.075  26.919  390.869\n",
       "2         6        11   1  32   0   1   1  1.077  15.075  26.919  390.869\n",
       "4        17        11   0  31   0   1   1  1.077  15.075  26.919  390.869\n",
       "10       45        11   1  32   0   1   1  0.790   9.485  34.780  271.125\n",
       "11       46        11   1  37   1   1   1  0.790   9.485  34.780  271.125\n",
       "...     ...       ...  ..  ..  ..  ..  ..    ...     ...     ...      ...\n",
       "5895  19477        94   1  31   1   0   0  0.000   8.073   2.018   20.183\n",
       "5899  19510        94   0  37   1   1   1  1.757   3.262  48.936  209.045\n",
       "5902  19525        94   0  30   1   1   1  1.757   3.262  48.936  209.045\n",
       "5904  19531        94   0  40   1   1   1  1.757   3.262  48.936  209.045\n",
       "5905  19532        94   0  38   0   1   1  1.757   3.262  48.936  209.045\n",
       "\n",
       "[1569 rows x 11 columns]"
      ]
     },
     "execution_count": 77,
     "metadata": {},
     "output_type": "execute_result"
    }
   ],
   "source": [
    "datatestoldas = datatestold[datatestold[\"X3\"] == 1]\n",
    "datatestoldas = datatestoldas.drop(columns=\"X3\")\n",
    "datatestoldas"
   ]
  },
  {
   "cell_type": "code",
   "execution_count": 36,
   "metadata": {
    "ExecuteTime": {
     "end_time": "2021-11-16T18:50:52.897581Z",
     "start_time": "2021-11-16T18:50:52.828740Z"
    },
    "scrolled": false
   },
   "outputs": [
    {
     "data": {
      "text/html": [
       "<div>\n",
       "<style scoped>\n",
       "    .dataframe tbody tr th:only-of-type {\n",
       "        vertical-align: middle;\n",
       "    }\n",
       "\n",
       "    .dataframe tbody tr th {\n",
       "        vertical-align: top;\n",
       "    }\n",
       "\n",
       "    .dataframe thead th {\n",
       "        text-align: right;\n",
       "    }\n",
       "</style>\n",
       "<table border=\"1\" class=\"dataframe\">\n",
       "  <thead>\n",
       "    <tr style=\"text-align: right;\">\n",
       "      <th></th>\n",
       "      <th>ID</th>\n",
       "      <th>Provinsi</th>\n",
       "      <th>Y</th>\n",
       "      <th>X1</th>\n",
       "      <th>X2</th>\n",
       "      <th>X4</th>\n",
       "      <th>X5</th>\n",
       "      <th>X6</th>\n",
       "      <th>Z1</th>\n",
       "      <th>Z2</th>\n",
       "      <th>Z3</th>\n",
       "      <th>Z4</th>\n",
       "    </tr>\n",
       "  </thead>\n",
       "  <tbody>\n",
       "    <tr>\n",
       "      <th>1</th>\n",
       "      <td>2</td>\n",
       "      <td>11</td>\n",
       "      <td>0</td>\n",
       "      <td>1</td>\n",
       "      <td>38</td>\n",
       "      <td>0</td>\n",
       "      <td>1</td>\n",
       "      <td>0</td>\n",
       "      <td>1.077</td>\n",
       "      <td>15.075</td>\n",
       "      <td>26.919</td>\n",
       "      <td>390.869</td>\n",
       "    </tr>\n",
       "    <tr>\n",
       "      <th>2</th>\n",
       "      <td>4</td>\n",
       "      <td>11</td>\n",
       "      <td>0</td>\n",
       "      <td>0</td>\n",
       "      <td>36</td>\n",
       "      <td>0</td>\n",
       "      <td>0</td>\n",
       "      <td>1</td>\n",
       "      <td>1.077</td>\n",
       "      <td>15.075</td>\n",
       "      <td>26.919</td>\n",
       "      <td>390.869</td>\n",
       "    </tr>\n",
       "    <tr>\n",
       "      <th>15</th>\n",
       "      <td>23</td>\n",
       "      <td>11</td>\n",
       "      <td>1</td>\n",
       "      <td>1</td>\n",
       "      <td>36</td>\n",
       "      <td>0</td>\n",
       "      <td>1</td>\n",
       "      <td>0</td>\n",
       "      <td>1.077</td>\n",
       "      <td>15.075</td>\n",
       "      <td>26.919</td>\n",
       "      <td>390.869</td>\n",
       "    </tr>\n",
       "    <tr>\n",
       "      <th>16</th>\n",
       "      <td>24</td>\n",
       "      <td>11</td>\n",
       "      <td>0</td>\n",
       "      <td>1</td>\n",
       "      <td>36</td>\n",
       "      <td>0</td>\n",
       "      <td>1</td>\n",
       "      <td>1</td>\n",
       "      <td>1.077</td>\n",
       "      <td>15.075</td>\n",
       "      <td>26.919</td>\n",
       "      <td>390.869</td>\n",
       "    </tr>\n",
       "    <tr>\n",
       "      <th>19</th>\n",
       "      <td>27</td>\n",
       "      <td>11</td>\n",
       "      <td>1</td>\n",
       "      <td>1</td>\n",
       "      <td>34</td>\n",
       "      <td>0</td>\n",
       "      <td>1</td>\n",
       "      <td>0</td>\n",
       "      <td>1.077</td>\n",
       "      <td>15.075</td>\n",
       "      <td>26.919</td>\n",
       "      <td>390.869</td>\n",
       "    </tr>\n",
       "    <tr>\n",
       "      <th>...</th>\n",
       "      <td>...</td>\n",
       "      <td>...</td>\n",
       "      <td>...</td>\n",
       "      <td>...</td>\n",
       "      <td>...</td>\n",
       "      <td>...</td>\n",
       "      <td>...</td>\n",
       "      <td>...</td>\n",
       "      <td>...</td>\n",
       "      <td>...</td>\n",
       "      <td>...</td>\n",
       "      <td>...</td>\n",
       "    </tr>\n",
       "    <tr>\n",
       "      <th>13600</th>\n",
       "      <td>19499</td>\n",
       "      <td>94</td>\n",
       "      <td>0</td>\n",
       "      <td>1</td>\n",
       "      <td>30</td>\n",
       "      <td>1</td>\n",
       "      <td>1</td>\n",
       "      <td>0</td>\n",
       "      <td>0.000</td>\n",
       "      <td>8.073</td>\n",
       "      <td>2.018</td>\n",
       "      <td>20.183</td>\n",
       "    </tr>\n",
       "    <tr>\n",
       "      <th>13602</th>\n",
       "      <td>19501</td>\n",
       "      <td>94</td>\n",
       "      <td>0</td>\n",
       "      <td>1</td>\n",
       "      <td>31</td>\n",
       "      <td>1</td>\n",
       "      <td>0</td>\n",
       "      <td>1</td>\n",
       "      <td>0.000</td>\n",
       "      <td>8.073</td>\n",
       "      <td>2.018</td>\n",
       "      <td>20.183</td>\n",
       "    </tr>\n",
       "    <tr>\n",
       "      <th>13603</th>\n",
       "      <td>19502</td>\n",
       "      <td>94</td>\n",
       "      <td>0</td>\n",
       "      <td>1</td>\n",
       "      <td>39</td>\n",
       "      <td>1</td>\n",
       "      <td>1</td>\n",
       "      <td>1</td>\n",
       "      <td>0.000</td>\n",
       "      <td>8.073</td>\n",
       "      <td>2.018</td>\n",
       "      <td>20.183</td>\n",
       "    </tr>\n",
       "    <tr>\n",
       "      <th>13604</th>\n",
       "      <td>19504</td>\n",
       "      <td>94</td>\n",
       "      <td>0</td>\n",
       "      <td>1</td>\n",
       "      <td>42</td>\n",
       "      <td>1</td>\n",
       "      <td>1</td>\n",
       "      <td>1</td>\n",
       "      <td>0.000</td>\n",
       "      <td>8.073</td>\n",
       "      <td>2.018</td>\n",
       "      <td>20.183</td>\n",
       "    </tr>\n",
       "    <tr>\n",
       "      <th>13620</th>\n",
       "      <td>19523</td>\n",
       "      <td>94</td>\n",
       "      <td>0</td>\n",
       "      <td>0</td>\n",
       "      <td>31</td>\n",
       "      <td>0</td>\n",
       "      <td>1</td>\n",
       "      <td>1</td>\n",
       "      <td>1.757</td>\n",
       "      <td>3.262</td>\n",
       "      <td>48.936</td>\n",
       "      <td>209.045</td>\n",
       "    </tr>\n",
       "  </tbody>\n",
       "</table>\n",
       "<p>3782 rows × 12 columns</p>\n",
       "</div>"
      ],
      "text/plain": [
       "          ID  Provinsi  Y  X1  X2  X4  X5  X6     Z1      Z2      Z3       Z4\n",
       "1          2        11  0   1  38   0   1   0  1.077  15.075  26.919  390.869\n",
       "2          4        11  0   0  36   0   0   1  1.077  15.075  26.919  390.869\n",
       "15        23        11  1   1  36   0   1   0  1.077  15.075  26.919  390.869\n",
       "16        24        11  0   1  36   0   1   1  1.077  15.075  26.919  390.869\n",
       "19        27        11  1   1  34   0   1   0  1.077  15.075  26.919  390.869\n",
       "...      ...       ... ..  ..  ..  ..  ..  ..    ...     ...     ...      ...\n",
       "13600  19499        94  0   1  30   1   1   0  0.000   8.073   2.018   20.183\n",
       "13602  19501        94  0   1  31   1   0   1  0.000   8.073   2.018   20.183\n",
       "13603  19502        94  0   1  39   1   1   1  0.000   8.073   2.018   20.183\n",
       "13604  19504        94  0   1  42   1   1   1  0.000   8.073   2.018   20.183\n",
       "13620  19523        94  0   0  31   0   1   1  1.757   3.262  48.936  209.045\n",
       "\n",
       "[3782 rows x 12 columns]"
      ]
     },
     "execution_count": 36,
     "metadata": {},
     "output_type": "execute_result"
    }
   ],
   "source": [
    "datatrainoldbs = datatrainold[datatrainold[\"X3\"] == 0]\n",
    "datatrainoldbs = datatrainoldbs.drop(columns=\"X3\")\n",
    "datatrainoldbs"
   ]
  },
  {
   "cell_type": "code",
   "execution_count": 78,
   "metadata": {
    "ExecuteTime": {
     "end_time": "2021-11-16T19:14:32.310641Z",
     "start_time": "2021-11-16T19:14:32.278640Z"
    },
    "scrolled": false
   },
   "outputs": [
    {
     "data": {
      "text/html": [
       "<div>\n",
       "<style scoped>\n",
       "    .dataframe tbody tr th:only-of-type {\n",
       "        vertical-align: middle;\n",
       "    }\n",
       "\n",
       "    .dataframe tbody tr th {\n",
       "        vertical-align: top;\n",
       "    }\n",
       "\n",
       "    .dataframe thead th {\n",
       "        text-align: right;\n",
       "    }\n",
       "</style>\n",
       "<table border=\"1\" class=\"dataframe\">\n",
       "  <thead>\n",
       "    <tr style=\"text-align: right;\">\n",
       "      <th></th>\n",
       "      <th>ID</th>\n",
       "      <th>Provinsi</th>\n",
       "      <th>X1</th>\n",
       "      <th>X2</th>\n",
       "      <th>X4</th>\n",
       "      <th>X5</th>\n",
       "      <th>X6</th>\n",
       "      <th>Z1</th>\n",
       "      <th>Z2</th>\n",
       "      <th>Z3</th>\n",
       "      <th>Z4</th>\n",
       "    </tr>\n",
       "  </thead>\n",
       "  <tbody>\n",
       "    <tr>\n",
       "      <th>0</th>\n",
       "      <td>3</td>\n",
       "      <td>11</td>\n",
       "      <td>1</td>\n",
       "      <td>39</td>\n",
       "      <td>0</td>\n",
       "      <td>1</td>\n",
       "      <td>1</td>\n",
       "      <td>1.077</td>\n",
       "      <td>15.075</td>\n",
       "      <td>26.919</td>\n",
       "      <td>390.869</td>\n",
       "    </tr>\n",
       "    <tr>\n",
       "      <th>8</th>\n",
       "      <td>42</td>\n",
       "      <td>11</td>\n",
       "      <td>1</td>\n",
       "      <td>34</td>\n",
       "      <td>1</td>\n",
       "      <td>1</td>\n",
       "      <td>1</td>\n",
       "      <td>0.790</td>\n",
       "      <td>9.485</td>\n",
       "      <td>34.780</td>\n",
       "      <td>271.125</td>\n",
       "    </tr>\n",
       "    <tr>\n",
       "      <th>12</th>\n",
       "      <td>48</td>\n",
       "      <td>11</td>\n",
       "      <td>1</td>\n",
       "      <td>30</td>\n",
       "      <td>0</td>\n",
       "      <td>1</td>\n",
       "      <td>1</td>\n",
       "      <td>0.790</td>\n",
       "      <td>9.485</td>\n",
       "      <td>34.780</td>\n",
       "      <td>271.125</td>\n",
       "    </tr>\n",
       "    <tr>\n",
       "      <th>13</th>\n",
       "      <td>51</td>\n",
       "      <td>11</td>\n",
       "      <td>1</td>\n",
       "      <td>36</td>\n",
       "      <td>0</td>\n",
       "      <td>1</td>\n",
       "      <td>1</td>\n",
       "      <td>0.790</td>\n",
       "      <td>9.485</td>\n",
       "      <td>34.780</td>\n",
       "      <td>271.125</td>\n",
       "    </tr>\n",
       "    <tr>\n",
       "      <th>16</th>\n",
       "      <td>55</td>\n",
       "      <td>11</td>\n",
       "      <td>0</td>\n",
       "      <td>40</td>\n",
       "      <td>1</td>\n",
       "      <td>1</td>\n",
       "      <td>1</td>\n",
       "      <td>0.790</td>\n",
       "      <td>9.485</td>\n",
       "      <td>34.780</td>\n",
       "      <td>271.125</td>\n",
       "    </tr>\n",
       "    <tr>\n",
       "      <th>...</th>\n",
       "      <td>...</td>\n",
       "      <td>...</td>\n",
       "      <td>...</td>\n",
       "      <td>...</td>\n",
       "      <td>...</td>\n",
       "      <td>...</td>\n",
       "      <td>...</td>\n",
       "      <td>...</td>\n",
       "      <td>...</td>\n",
       "      <td>...</td>\n",
       "      <td>...</td>\n",
       "    </tr>\n",
       "    <tr>\n",
       "      <th>5878</th>\n",
       "      <td>19445</td>\n",
       "      <td>94</td>\n",
       "      <td>1</td>\n",
       "      <td>32</td>\n",
       "      <td>1</td>\n",
       "      <td>0</td>\n",
       "      <td>1</td>\n",
       "      <td>0.000</td>\n",
       "      <td>8.826</td>\n",
       "      <td>9.807</td>\n",
       "      <td>72.568</td>\n",
       "    </tr>\n",
       "    <tr>\n",
       "      <th>5887</th>\n",
       "      <td>19462</td>\n",
       "      <td>94</td>\n",
       "      <td>1</td>\n",
       "      <td>42</td>\n",
       "      <td>1</td>\n",
       "      <td>0</td>\n",
       "      <td>0</td>\n",
       "      <td>0.861</td>\n",
       "      <td>7.745</td>\n",
       "      <td>0.861</td>\n",
       "      <td>224.555</td>\n",
       "    </tr>\n",
       "    <tr>\n",
       "      <th>5894</th>\n",
       "      <td>19476</td>\n",
       "      <td>94</td>\n",
       "      <td>1</td>\n",
       "      <td>37</td>\n",
       "      <td>0</td>\n",
       "      <td>1</td>\n",
       "      <td>1</td>\n",
       "      <td>0.741</td>\n",
       "      <td>2.962</td>\n",
       "      <td>8.146</td>\n",
       "      <td>48.873</td>\n",
       "    </tr>\n",
       "    <tr>\n",
       "      <th>5897</th>\n",
       "      <td>19488</td>\n",
       "      <td>94</td>\n",
       "      <td>1</td>\n",
       "      <td>34</td>\n",
       "      <td>1</td>\n",
       "      <td>0</td>\n",
       "      <td>0</td>\n",
       "      <td>0.000</td>\n",
       "      <td>8.073</td>\n",
       "      <td>2.018</td>\n",
       "      <td>20.183</td>\n",
       "    </tr>\n",
       "    <tr>\n",
       "      <th>5901</th>\n",
       "      <td>19515</td>\n",
       "      <td>94</td>\n",
       "      <td>1</td>\n",
       "      <td>39</td>\n",
       "      <td>1</td>\n",
       "      <td>1</td>\n",
       "      <td>1</td>\n",
       "      <td>1.757</td>\n",
       "      <td>3.262</td>\n",
       "      <td>48.936</td>\n",
       "      <td>209.045</td>\n",
       "    </tr>\n",
       "  </tbody>\n",
       "</table>\n",
       "<p>1644 rows × 11 columns</p>\n",
       "</div>"
      ],
      "text/plain": [
       "         ID  Provinsi  X1  X2  X4  X5  X6     Z1      Z2      Z3       Z4\n",
       "0         3        11   1  39   0   1   1  1.077  15.075  26.919  390.869\n",
       "8        42        11   1  34   1   1   1  0.790   9.485  34.780  271.125\n",
       "12       48        11   1  30   0   1   1  0.790   9.485  34.780  271.125\n",
       "13       51        11   1  36   0   1   1  0.790   9.485  34.780  271.125\n",
       "16       55        11   0  40   1   1   1  0.790   9.485  34.780  271.125\n",
       "...     ...       ...  ..  ..  ..  ..  ..    ...     ...     ...      ...\n",
       "5878  19445        94   1  32   1   0   1  0.000   8.826   9.807   72.568\n",
       "5887  19462        94   1  42   1   0   0  0.861   7.745   0.861  224.555\n",
       "5894  19476        94   1  37   0   1   1  0.741   2.962   8.146   48.873\n",
       "5897  19488        94   1  34   1   0   0  0.000   8.073   2.018   20.183\n",
       "5901  19515        94   1  39   1   1   1  1.757   3.262  48.936  209.045\n",
       "\n",
       "[1644 rows x 11 columns]"
      ]
     },
     "execution_count": 78,
     "metadata": {},
     "output_type": "execute_result"
    }
   ],
   "source": [
    "datatestoldbs = datatestold[datatestold[\"X3\"] == 0]\n",
    "datatestoldbs = datatestoldbs.drop(columns=\"X3\")\n",
    "datatestoldbs"
   ]
  },
  {
   "cell_type": "code",
   "execution_count": 37,
   "metadata": {
    "ExecuteTime": {
     "end_time": "2021-11-16T18:50:53.814959Z",
     "start_time": "2021-11-16T18:50:53.789646Z"
    }
   },
   "outputs": [],
   "source": [
    "datatrainyoungasx = datatrainyoungas.drop(columns='Y')\n",
    "datatrainyoungasy = datatrainyoungas['Y']\n",
    "datatrainyoungbsx = datatrainyoungbs.drop(columns='Y')\n",
    "datatrainyoungbsy = datatrainyoungbs['Y']\n",
    "datatrainoldasx = datatrainoldas.drop(columns='Y')\n",
    "datatrainoldasy = datatrainoldas['Y']\n",
    "datatrainoldbsx = datatrainoldbs.drop(columns='Y')\n",
    "datatrainoldbsy = datatrainoldbs['Y']"
   ]
  },
  {
   "cell_type": "code",
   "execution_count": 38,
   "metadata": {
    "ExecuteTime": {
     "end_time": "2021-11-16T18:50:57.973039Z",
     "start_time": "2021-11-16T18:50:57.952838Z"
    }
   },
   "outputs": [],
   "source": [
    "from sklearn.model_selection import train_test_split"
   ]
  },
  {
   "cell_type": "code",
   "execution_count": 39,
   "metadata": {
    "ExecuteTime": {
     "end_time": "2021-11-16T18:50:59.215844Z",
     "start_time": "2021-11-16T18:50:59.195836Z"
    }
   },
   "outputs": [],
   "source": [
    "X_trainyoungas, X_testyoungas, y_trainyoungas, y_testyoungas = train_test_split(datatrainyoungasx, datatrainyoungasy, test_size=0.30, random_state=0)"
   ]
  },
  {
   "cell_type": "code",
   "execution_count": 40,
   "metadata": {
    "ExecuteTime": {
     "end_time": "2021-11-16T18:51:02.783706Z",
     "start_time": "2021-11-16T18:51:02.067875Z"
    }
   },
   "outputs": [
    {
     "data": {
      "text/plain": [
       "0.617989417989418"
      ]
     },
     "execution_count": 40,
     "metadata": {},
     "output_type": "execute_result"
    }
   ],
   "source": [
    "abcyoungas = AdaBoostClassifier()\n",
    "abcyoungas.fit(X_trainyoungas, y_trainyoungas)\n",
    "y_predyoungas = abcyoungas.predict(X_testyoungas)\n",
    "accuracy_score(y_testyoungas, y_predyoungas)"
   ]
  },
  {
   "cell_type": "code",
   "execution_count": 41,
   "metadata": {
    "ExecuteTime": {
     "end_time": "2021-11-16T18:51:29.684851Z",
     "start_time": "2021-11-16T18:51:29.659535Z"
    }
   },
   "outputs": [
    {
     "name": "stdout",
     "output_type": "stream",
     "text": [
      "              precision    recall  f1-score   support\n",
      "\n",
      "           0       0.66      0.69      0.68       546\n",
      "           1       0.55      0.52      0.54       399\n",
      "\n",
      "    accuracy                           0.62       945\n",
      "   macro avg       0.61      0.61      0.61       945\n",
      "weighted avg       0.62      0.62      0.62       945\n",
      "\n"
     ]
    }
   ],
   "source": [
    "from sklearn.metrics import classification_report,accuracy_score\n",
    "from sklearn.metrics import confusion_matrix,ConfusionMatrixDisplay\n",
    "print(classification_report(y_testyoungas, y_predyoungas))"
   ]
  },
  {
   "cell_type": "code",
   "execution_count": 44,
   "metadata": {
    "ExecuteTime": {
     "end_time": "2021-11-16T18:52:59.968185Z",
     "start_time": "2021-11-16T18:52:59.028332Z"
    }
   },
   "outputs": [
    {
     "data": {
      "text/plain": [
       "0.6232804232804233"
      ]
     },
     "execution_count": 44,
     "metadata": {},
     "output_type": "execute_result"
    }
   ],
   "source": [
    "gbcyoungas = GradientBoostingClassifier()\n",
    "gbcyoungas.fit(X_trainyoungas, y_trainyoungas)\n",
    "y_predyoungas = gbcyoungas.predict(X_testyoungas)\n",
    "accuracy_score(y_testyoungas, y_predyoungas)"
   ]
  },
  {
   "cell_type": "code",
   "execution_count": 45,
   "metadata": {
    "ExecuteTime": {
     "end_time": "2021-11-16T18:53:09.971912Z",
     "start_time": "2021-11-16T18:53:09.943926Z"
    }
   },
   "outputs": [
    {
     "name": "stdout",
     "output_type": "stream",
     "text": [
      "              precision    recall  f1-score   support\n",
      "\n",
      "           0       0.67      0.68      0.67       546\n",
      "           1       0.55      0.55      0.55       399\n",
      "\n",
      "    accuracy                           0.62       945\n",
      "   macro avg       0.61      0.61      0.61       945\n",
      "weighted avg       0.62      0.62      0.62       945\n",
      "\n"
     ]
    }
   ],
   "source": [
    "print(classification_report(y_testyoungas, y_predyoungas))"
   ]
  },
  {
   "cell_type": "code",
   "execution_count": 48,
   "metadata": {
    "ExecuteTime": {
     "end_time": "2021-11-16T18:54:11.579466Z",
     "start_time": "2021-11-16T18:54:11.563168Z"
    }
   },
   "outputs": [],
   "source": [
    "X_trainyoungbs, X_testyoungbs, y_trainyoungbs, y_testyoungbs = train_test_split(datatrainyoungbsx, datatrainyoungbsy, test_size=0.30, random_state=0)"
   ]
  },
  {
   "cell_type": "code",
   "execution_count": 50,
   "metadata": {
    "ExecuteTime": {
     "end_time": "2021-11-16T18:54:59.410083Z",
     "start_time": "2021-11-16T18:54:58.815870Z"
    }
   },
   "outputs": [
    {
     "data": {
      "text/plain": [
       "0.634375"
      ]
     },
     "execution_count": 50,
     "metadata": {},
     "output_type": "execute_result"
    }
   ],
   "source": [
    "abcyoungbs = AdaBoostClassifier()\n",
    "abcyoungbs.fit(X_trainyoungbs, y_trainyoungbs)\n",
    "y_predyoungbs = abcyoungbs.predict(X_testyoungbs)\n",
    "accuracy_score(y_testyoungbs, y_predyoungbs)"
   ]
  },
  {
   "cell_type": "code",
   "execution_count": 51,
   "metadata": {
    "ExecuteTime": {
     "end_time": "2021-11-16T18:55:04.728773Z",
     "start_time": "2021-11-16T18:55:04.704831Z"
    }
   },
   "outputs": [
    {
     "name": "stdout",
     "output_type": "stream",
     "text": [
      "              precision    recall  f1-score   support\n",
      "\n",
      "           0       0.70      0.72      0.71       599\n",
      "           1       0.51      0.49      0.50       361\n",
      "\n",
      "    accuracy                           0.63       960\n",
      "   macro avg       0.61      0.61      0.61       960\n",
      "weighted avg       0.63      0.63      0.63       960\n",
      "\n"
     ]
    }
   ],
   "source": [
    "print(classification_report(y_testyoungbs, y_predyoungbs))"
   ]
  },
  {
   "cell_type": "code",
   "execution_count": 52,
   "metadata": {
    "ExecuteTime": {
     "end_time": "2021-11-16T18:55:25.844973Z",
     "start_time": "2021-11-16T18:55:24.948675Z"
    }
   },
   "outputs": [
    {
     "data": {
      "text/plain": [
       "0.6479166666666667"
      ]
     },
     "execution_count": 52,
     "metadata": {},
     "output_type": "execute_result"
    }
   ],
   "source": [
    "gbcyoungbs = GradientBoostingClassifier()\n",
    "gbcyoungbs.fit(X_trainyoungbs, y_trainyoungbs)\n",
    "y_predyoungbs = gbcyoungbs.predict(X_testyoungbs)\n",
    "accuracy_score(y_testyoungbs, y_predyoungbs)"
   ]
  },
  {
   "cell_type": "code",
   "execution_count": 53,
   "metadata": {
    "ExecuteTime": {
     "end_time": "2021-11-16T18:55:32.546959Z",
     "start_time": "2021-11-16T18:55:32.510627Z"
    }
   },
   "outputs": [
    {
     "name": "stdout",
     "output_type": "stream",
     "text": [
      "              precision    recall  f1-score   support\n",
      "\n",
      "           0       0.70      0.75      0.73       599\n",
      "           1       0.54      0.47      0.50       361\n",
      "\n",
      "    accuracy                           0.65       960\n",
      "   macro avg       0.62      0.61      0.61       960\n",
      "weighted avg       0.64      0.65      0.64       960\n",
      "\n"
     ]
    }
   ],
   "source": [
    "print(classification_report(y_testyoungbs, y_predyoungbs))"
   ]
  },
  {
   "cell_type": "code",
   "execution_count": 55,
   "metadata": {
    "ExecuteTime": {
     "end_time": "2021-11-16T18:56:01.084647Z",
     "start_time": "2021-11-16T18:56:00.916713Z"
    }
   },
   "outputs": [
    {
     "data": {
      "text/plain": [
       "0.6333333333333333"
      ]
     },
     "execution_count": 55,
     "metadata": {},
     "output_type": "execute_result"
    }
   ],
   "source": [
    "gbcyoungbs = GradientBoostingClassifier(learning_rate=0.5, n_estimators=15)\n",
    "gbcyoungbs.fit(X_trainyoungbs, y_trainyoungbs)\n",
    "y_predyoungbs = gbcyoungbs.predict(X_testyoungbs)\n",
    "accuracy_score(y_testyoungbs, y_predyoungbs)"
   ]
  },
  {
   "cell_type": "code",
   "execution_count": 56,
   "metadata": {
    "ExecuteTime": {
     "end_time": "2021-11-16T18:56:07.267724Z",
     "start_time": "2021-11-16T18:56:07.245742Z"
    },
    "scrolled": false
   },
   "outputs": [
    {
     "name": "stdout",
     "output_type": "stream",
     "text": [
      "              precision    recall  f1-score   support\n",
      "\n",
      "           0       0.69      0.74      0.72       599\n",
      "           1       0.51      0.45      0.48       361\n",
      "\n",
      "    accuracy                           0.63       960\n",
      "   macro avg       0.60      0.60      0.60       960\n",
      "weighted avg       0.62      0.63      0.63       960\n",
      "\n"
     ]
    }
   ],
   "source": [
    "print(classification_report(y_testyoungbs, y_predyoungbs))"
   ]
  },
  {
   "cell_type": "code",
   "execution_count": 59,
   "metadata": {
    "ExecuteTime": {
     "end_time": "2021-11-16T18:59:59.969941Z",
     "start_time": "2021-11-16T18:59:59.950586Z"
    }
   },
   "outputs": [],
   "source": [
    "X_trainoldas, X_testoldas, y_trainoldas, y_testoldas = train_test_split(datatrainoldasx, datatrainoldasy, test_size=0.30, random_state=0)"
   ]
  },
  {
   "cell_type": "code",
   "execution_count": 60,
   "metadata": {
    "ExecuteTime": {
     "end_time": "2021-11-16T19:00:26.405868Z",
     "start_time": "2021-11-16T19:00:25.909492Z"
    }
   },
   "outputs": [
    {
     "data": {
      "text/plain": [
       "0.6019047619047619"
      ]
     },
     "execution_count": 60,
     "metadata": {},
     "output_type": "execute_result"
    }
   ],
   "source": [
    "abcoldas = AdaBoostClassifier()\n",
    "abcoldas.fit(X_trainoldas, y_trainoldas)\n",
    "y_predoldas = abcoldas.predict(X_testoldas)\n",
    "accuracy_score(y_testoldas, y_predoldas)"
   ]
  },
  {
   "cell_type": "code",
   "execution_count": 61,
   "metadata": {
    "ExecuteTime": {
     "end_time": "2021-11-16T19:00:41.991845Z",
     "start_time": "2021-11-16T19:00:41.963078Z"
    }
   },
   "outputs": [
    {
     "name": "stdout",
     "output_type": "stream",
     "text": [
      "              precision    recall  f1-score   support\n",
      "\n",
      "           0       0.63      0.71      0.67       594\n",
      "           1       0.55      0.46      0.50       456\n",
      "\n",
      "    accuracy                           0.60      1050\n",
      "   macro avg       0.59      0.58      0.58      1050\n",
      "weighted avg       0.60      0.60      0.60      1050\n",
      "\n"
     ]
    }
   ],
   "source": [
    "from sklearn.metrics import classification_report,accuracy_score\n",
    "from sklearn.metrics import confusion_matrix,ConfusionMatrixDisplay\n",
    "print(classification_report(y_testoldas, y_predoldas))"
   ]
  },
  {
   "cell_type": "code",
   "execution_count": 62,
   "metadata": {
    "ExecuteTime": {
     "end_time": "2021-11-16T19:01:06.692290Z",
     "start_time": "2021-11-16T19:01:05.008823Z"
    }
   },
   "outputs": [
    {
     "data": {
      "text/plain": [
       "0.6352380952380953"
      ]
     },
     "execution_count": 62,
     "metadata": {},
     "output_type": "execute_result"
    }
   ],
   "source": [
    "gbcoldas = GradientBoostingClassifier()\n",
    "gbcoldas.fit(X_trainoldas, y_trainoldas)\n",
    "y_predoldas = gbcoldas.predict(X_testoldas)\n",
    "accuracy_score(y_testoldas, y_predoldas)"
   ]
  },
  {
   "cell_type": "code",
   "execution_count": 63,
   "metadata": {
    "ExecuteTime": {
     "end_time": "2021-11-16T19:01:16.609711Z",
     "start_time": "2021-11-16T19:01:16.573967Z"
    }
   },
   "outputs": [
    {
     "name": "stdout",
     "output_type": "stream",
     "text": [
      "              precision    recall  f1-score   support\n",
      "\n",
      "           0       0.65      0.75      0.70       594\n",
      "           1       0.60      0.48      0.53       456\n",
      "\n",
      "    accuracy                           0.64      1050\n",
      "   macro avg       0.63      0.62      0.62      1050\n",
      "weighted avg       0.63      0.64      0.63      1050\n",
      "\n"
     ]
    }
   ],
   "source": [
    "print(classification_report(y_testoldas, y_predoldas))"
   ]
  },
  {
   "cell_type": "code",
   "execution_count": 64,
   "metadata": {
    "ExecuteTime": {
     "end_time": "2021-11-16T19:01:33.980324Z",
     "start_time": "2021-11-16T19:01:33.956330Z"
    }
   },
   "outputs": [],
   "source": [
    "X_trainoldbs, X_testoldbs, y_trainoldbs, y_testoldbs = train_test_split(datatrainoldbsx, datatrainoldbsy, test_size=0.30, random_state=0)"
   ]
  },
  {
   "cell_type": "code",
   "execution_count": 65,
   "metadata": {
    "ExecuteTime": {
     "end_time": "2021-11-16T19:02:41.915624Z",
     "start_time": "2021-11-16T19:02:41.675396Z"
    }
   },
   "outputs": [
    {
     "data": {
      "text/plain": [
       "0.6634361233480176"
      ]
     },
     "execution_count": 65,
     "metadata": {},
     "output_type": "execute_result"
    }
   ],
   "source": [
    "abcoldbs = AdaBoostClassifier()\n",
    "abcoldbs.fit(X_trainoldbs, y_trainoldbs)\n",
    "y_predoldbs = abcoldbs.predict(X_testoldbs)\n",
    "accuracy_score(y_testoldbs, y_predoldbs)"
   ]
  },
  {
   "cell_type": "code",
   "execution_count": 66,
   "metadata": {
    "ExecuteTime": {
     "end_time": "2021-11-16T19:02:52.708375Z",
     "start_time": "2021-11-16T19:02:52.684376Z"
    }
   },
   "outputs": [
    {
     "name": "stdout",
     "output_type": "stream",
     "text": [
      "              precision    recall  f1-score   support\n",
      "\n",
      "           0       0.73      0.74      0.73       719\n",
      "           1       0.54      0.54      0.54       416\n",
      "\n",
      "    accuracy                           0.66      1135\n",
      "   macro avg       0.64      0.64      0.64      1135\n",
      "weighted avg       0.66      0.66      0.66      1135\n",
      "\n"
     ]
    }
   ],
   "source": [
    "print(classification_report(y_testoldbs, y_predoldbs))"
   ]
  },
  {
   "cell_type": "code",
   "execution_count": 67,
   "metadata": {
    "ExecuteTime": {
     "end_time": "2021-11-16T19:03:19.446926Z",
     "start_time": "2021-11-16T19:03:19.039945Z"
    }
   },
   "outputs": [
    {
     "data": {
      "text/plain": [
       "0.6748898678414097"
      ]
     },
     "execution_count": 67,
     "metadata": {},
     "output_type": "execute_result"
    }
   ],
   "source": [
    "gbcoldbs = GradientBoostingClassifier()\n",
    "gbcoldbs.fit(X_trainoldbs, y_trainoldbs)\n",
    "y_predoldbs = gbcoldbs.predict(X_testoldbs)\n",
    "accuracy_score(y_testoldbs, y_predoldbs)"
   ]
  },
  {
   "cell_type": "code",
   "execution_count": 68,
   "metadata": {
    "ExecuteTime": {
     "end_time": "2021-11-16T19:03:28.605889Z",
     "start_time": "2021-11-16T19:03:28.578875Z"
    }
   },
   "outputs": [
    {
     "name": "stdout",
     "output_type": "stream",
     "text": [
      "              precision    recall  f1-score   support\n",
      "\n",
      "           0       0.75      0.73      0.74       719\n",
      "           1       0.55      0.57      0.56       416\n",
      "\n",
      "    accuracy                           0.67      1135\n",
      "   macro avg       0.65      0.65      0.65      1135\n",
      "weighted avg       0.68      0.67      0.68      1135\n",
      "\n"
     ]
    }
   ],
   "source": [
    "print(classification_report(y_testoldbs, y_predoldbs))"
   ]
  },
  {
   "cell_type": "code",
   "execution_count": 69,
   "metadata": {
    "ExecuteTime": {
     "end_time": "2021-11-16T19:04:10.306371Z",
     "start_time": "2021-11-16T19:04:10.223370Z"
    }
   },
   "outputs": [
    {
     "data": {
      "text/plain": [
       "0.6766519823788546"
      ]
     },
     "execution_count": 69,
     "metadata": {},
     "output_type": "execute_result"
    }
   ],
   "source": [
    "gbcoldbs = GradientBoostingClassifier(learning_rate=0.5, n_estimators=15)\n",
    "gbcoldbs.fit(X_trainoldbs, y_trainoldbs)\n",
    "y_predoldbs = gbcoldbs.predict(X_testoldbs)\n",
    "accuracy_score(y_testoldbs, y_predoldbs)"
   ]
  },
  {
   "cell_type": "code",
   "execution_count": 70,
   "metadata": {
    "ExecuteTime": {
     "end_time": "2021-11-16T19:04:22.829877Z",
     "start_time": "2021-11-16T19:04:22.817930Z"
    },
    "scrolled": true
   },
   "outputs": [
    {
     "name": "stdout",
     "output_type": "stream",
     "text": [
      "              precision    recall  f1-score   support\n",
      "\n",
      "           0       0.75      0.73      0.74       719\n",
      "           1       0.56      0.59      0.57       416\n",
      "\n",
      "    accuracy                           0.68      1135\n",
      "   macro avg       0.65      0.66      0.66      1135\n",
      "weighted avg       0.68      0.68      0.68      1135\n",
      "\n"
     ]
    }
   ],
   "source": [
    "print(classification_report(y_testoldbs, y_predoldbs))"
   ]
  },
  {
   "cell_type": "code",
   "execution_count": 95,
   "metadata": {
    "ExecuteTime": {
     "end_time": "2021-11-16T19:26:31.580210Z",
     "start_time": "2021-11-16T19:26:31.549181Z"
    }
   },
   "outputs": [],
   "source": [
    "youngas = gbcyoungas.predict(datatestyoungas)\n",
    "youngbs = gbcyoungbs.predict(datatestyoungbs)\n",
    "oldas = gbcoldas.predict(datatestoldas)\n",
    "oldbs = gbcoldbs.predict(datatestoldbs)"
   ]
  },
  {
   "cell_type": "code",
   "execution_count": 96,
   "metadata": {
    "ExecuteTime": {
     "end_time": "2021-11-16T19:26:32.161878Z",
     "start_time": "2021-11-16T19:26:32.147891Z"
    }
   },
   "outputs": [],
   "source": [
    "youngas = pd.DataFrame(youngas,columns=[\"Y\"])\n",
    "youngas = pd.concat([datatestyoungas[\"ID\"].reset_index(),youngas], axis=1)\n",
    "youngas = youngas.drop(columns=\"index\",axis=1)"
   ]
  },
  {
   "cell_type": "code",
   "execution_count": 97,
   "metadata": {
    "ExecuteTime": {
     "end_time": "2021-11-16T19:26:43.092885Z",
     "start_time": "2021-11-16T19:26:43.082847Z"
    }
   },
   "outputs": [
    {
     "data": {
      "text/html": [
       "<div>\n",
       "<style scoped>\n",
       "    .dataframe tbody tr th:only-of-type {\n",
       "        vertical-align: middle;\n",
       "    }\n",
       "\n",
       "    .dataframe tbody tr th {\n",
       "        vertical-align: top;\n",
       "    }\n",
       "\n",
       "    .dataframe thead th {\n",
       "        text-align: right;\n",
       "    }\n",
       "</style>\n",
       "<table border=\"1\" class=\"dataframe\">\n",
       "  <thead>\n",
       "    <tr style=\"text-align: right;\">\n",
       "      <th></th>\n",
       "      <th>ID</th>\n",
       "      <th>Y</th>\n",
       "    </tr>\n",
       "  </thead>\n",
       "  <tbody>\n",
       "    <tr>\n",
       "      <th>0</th>\n",
       "      <td>10</td>\n",
       "      <td>0</td>\n",
       "    </tr>\n",
       "    <tr>\n",
       "      <th>1</th>\n",
       "      <td>20</td>\n",
       "      <td>0</td>\n",
       "    </tr>\n",
       "    <tr>\n",
       "      <th>2</th>\n",
       "      <td>32</td>\n",
       "      <td>1</td>\n",
       "    </tr>\n",
       "    <tr>\n",
       "      <th>3</th>\n",
       "      <td>52</td>\n",
       "      <td>0</td>\n",
       "    </tr>\n",
       "    <tr>\n",
       "      <th>4</th>\n",
       "      <td>62</td>\n",
       "      <td>0</td>\n",
       "    </tr>\n",
       "    <tr>\n",
       "      <th>...</th>\n",
       "      <td>...</td>\n",
       "      <td>...</td>\n",
       "    </tr>\n",
       "    <tr>\n",
       "      <th>1365</th>\n",
       "      <td>19318</td>\n",
       "      <td>0</td>\n",
       "    </tr>\n",
       "    <tr>\n",
       "      <th>1366</th>\n",
       "      <td>19356</td>\n",
       "      <td>0</td>\n",
       "    </tr>\n",
       "    <tr>\n",
       "      <th>1367</th>\n",
       "      <td>19453</td>\n",
       "      <td>0</td>\n",
       "    </tr>\n",
       "    <tr>\n",
       "      <th>1368</th>\n",
       "      <td>19513</td>\n",
       "      <td>0</td>\n",
       "    </tr>\n",
       "    <tr>\n",
       "      <th>1369</th>\n",
       "      <td>19528</td>\n",
       "      <td>0</td>\n",
       "    </tr>\n",
       "  </tbody>\n",
       "</table>\n",
       "<p>1370 rows × 2 columns</p>\n",
       "</div>"
      ],
      "text/plain": [
       "         ID  Y\n",
       "0        10  0\n",
       "1        20  0\n",
       "2        32  1\n",
       "3        52  0\n",
       "4        62  0\n",
       "...     ... ..\n",
       "1365  19318  0\n",
       "1366  19356  0\n",
       "1367  19453  0\n",
       "1368  19513  0\n",
       "1369  19528  0\n",
       "\n",
       "[1370 rows x 2 columns]"
      ]
     },
     "execution_count": 97,
     "metadata": {},
     "output_type": "execute_result"
    }
   ],
   "source": [
    "youngas"
   ]
  },
  {
   "cell_type": "code",
   "execution_count": 98,
   "metadata": {
    "ExecuteTime": {
     "end_time": "2021-11-16T19:27:24.854948Z",
     "start_time": "2021-11-16T19:27:24.835913Z"
    }
   },
   "outputs": [
    {
     "data": {
      "text/html": [
       "<div>\n",
       "<style scoped>\n",
       "    .dataframe tbody tr th:only-of-type {\n",
       "        vertical-align: middle;\n",
       "    }\n",
       "\n",
       "    .dataframe tbody tr th {\n",
       "        vertical-align: top;\n",
       "    }\n",
       "\n",
       "    .dataframe thead th {\n",
       "        text-align: right;\n",
       "    }\n",
       "</style>\n",
       "<table border=\"1\" class=\"dataframe\">\n",
       "  <thead>\n",
       "    <tr style=\"text-align: right;\">\n",
       "      <th></th>\n",
       "      <th>ID</th>\n",
       "      <th>Y</th>\n",
       "    </tr>\n",
       "  </thead>\n",
       "  <tbody>\n",
       "    <tr>\n",
       "      <th>0</th>\n",
       "      <td>19</td>\n",
       "      <td>0</td>\n",
       "    </tr>\n",
       "    <tr>\n",
       "      <th>1</th>\n",
       "      <td>44</td>\n",
       "      <td>0</td>\n",
       "    </tr>\n",
       "    <tr>\n",
       "      <th>2</th>\n",
       "      <td>63</td>\n",
       "      <td>0</td>\n",
       "    </tr>\n",
       "    <tr>\n",
       "      <th>3</th>\n",
       "      <td>72</td>\n",
       "      <td>0</td>\n",
       "    </tr>\n",
       "    <tr>\n",
       "      <th>4</th>\n",
       "      <td>76</td>\n",
       "      <td>0</td>\n",
       "    </tr>\n",
       "    <tr>\n",
       "      <th>...</th>\n",
       "      <td>...</td>\n",
       "      <td>...</td>\n",
       "    </tr>\n",
       "    <tr>\n",
       "      <th>1318</th>\n",
       "      <td>19472</td>\n",
       "      <td>0</td>\n",
       "    </tr>\n",
       "    <tr>\n",
       "      <th>1319</th>\n",
       "      <td>19473</td>\n",
       "      <td>0</td>\n",
       "    </tr>\n",
       "    <tr>\n",
       "      <th>1320</th>\n",
       "      <td>19475</td>\n",
       "      <td>0</td>\n",
       "    </tr>\n",
       "    <tr>\n",
       "      <th>1321</th>\n",
       "      <td>19482</td>\n",
       "      <td>0</td>\n",
       "    </tr>\n",
       "    <tr>\n",
       "      <th>1322</th>\n",
       "      <td>19503</td>\n",
       "      <td>0</td>\n",
       "    </tr>\n",
       "  </tbody>\n",
       "</table>\n",
       "<p>1323 rows × 2 columns</p>\n",
       "</div>"
      ],
      "text/plain": [
       "         ID  Y\n",
       "0        19  0\n",
       "1        44  0\n",
       "2        63  0\n",
       "3        72  0\n",
       "4        76  0\n",
       "...     ... ..\n",
       "1318  19472  0\n",
       "1319  19473  0\n",
       "1320  19475  0\n",
       "1321  19482  0\n",
       "1322  19503  0\n",
       "\n",
       "[1323 rows x 2 columns]"
      ]
     },
     "execution_count": 98,
     "metadata": {},
     "output_type": "execute_result"
    }
   ],
   "source": [
    "youngbs = pd.DataFrame(youngbs,columns=[\"Y\"])\n",
    "youngbs = pd.concat([datatestyoungbs[\"ID\"].reset_index(),youngbs], axis=1)\n",
    "youngbs = youngbs.drop(columns=\"index\",axis=1)\n",
    "youngbs"
   ]
  },
  {
   "cell_type": "code",
   "execution_count": 99,
   "metadata": {
    "ExecuteTime": {
     "end_time": "2021-11-16T19:28:40.911759Z",
     "start_time": "2021-11-16T19:28:40.888753Z"
    }
   },
   "outputs": [
    {
     "data": {
      "text/html": [
       "<div>\n",
       "<style scoped>\n",
       "    .dataframe tbody tr th:only-of-type {\n",
       "        vertical-align: middle;\n",
       "    }\n",
       "\n",
       "    .dataframe tbody tr th {\n",
       "        vertical-align: top;\n",
       "    }\n",
       "\n",
       "    .dataframe thead th {\n",
       "        text-align: right;\n",
       "    }\n",
       "</style>\n",
       "<table border=\"1\" class=\"dataframe\">\n",
       "  <thead>\n",
       "    <tr style=\"text-align: right;\">\n",
       "      <th></th>\n",
       "      <th>ID</th>\n",
       "      <th>Y</th>\n",
       "    </tr>\n",
       "  </thead>\n",
       "  <tbody>\n",
       "    <tr>\n",
       "      <th>0</th>\n",
       "      <td>5</td>\n",
       "      <td>0</td>\n",
       "    </tr>\n",
       "    <tr>\n",
       "      <th>1</th>\n",
       "      <td>6</td>\n",
       "      <td>0</td>\n",
       "    </tr>\n",
       "    <tr>\n",
       "      <th>2</th>\n",
       "      <td>17</td>\n",
       "      <td>0</td>\n",
       "    </tr>\n",
       "    <tr>\n",
       "      <th>3</th>\n",
       "      <td>45</td>\n",
       "      <td>0</td>\n",
       "    </tr>\n",
       "    <tr>\n",
       "      <th>4</th>\n",
       "      <td>46</td>\n",
       "      <td>0</td>\n",
       "    </tr>\n",
       "    <tr>\n",
       "      <th>...</th>\n",
       "      <td>...</td>\n",
       "      <td>...</td>\n",
       "    </tr>\n",
       "    <tr>\n",
       "      <th>1564</th>\n",
       "      <td>19477</td>\n",
       "      <td>0</td>\n",
       "    </tr>\n",
       "    <tr>\n",
       "      <th>1565</th>\n",
       "      <td>19510</td>\n",
       "      <td>0</td>\n",
       "    </tr>\n",
       "    <tr>\n",
       "      <th>1566</th>\n",
       "      <td>19525</td>\n",
       "      <td>0</td>\n",
       "    </tr>\n",
       "    <tr>\n",
       "      <th>1567</th>\n",
       "      <td>19531</td>\n",
       "      <td>1</td>\n",
       "    </tr>\n",
       "    <tr>\n",
       "      <th>1568</th>\n",
       "      <td>19532</td>\n",
       "      <td>0</td>\n",
       "    </tr>\n",
       "  </tbody>\n",
       "</table>\n",
       "<p>1569 rows × 2 columns</p>\n",
       "</div>"
      ],
      "text/plain": [
       "         ID  Y\n",
       "0         5  0\n",
       "1         6  0\n",
       "2        17  0\n",
       "3        45  0\n",
       "4        46  0\n",
       "...     ... ..\n",
       "1564  19477  0\n",
       "1565  19510  0\n",
       "1566  19525  0\n",
       "1567  19531  1\n",
       "1568  19532  0\n",
       "\n",
       "[1569 rows x 2 columns]"
      ]
     },
     "execution_count": 99,
     "metadata": {},
     "output_type": "execute_result"
    }
   ],
   "source": [
    "oldas = pd.DataFrame(oldas,columns=[\"Y\"])\n",
    "oldas = pd.concat([datatestoldas[\"ID\"].reset_index(),oldas], axis=1)\n",
    "oldas = oldas.drop(columns=\"index\",axis=1)\n",
    "oldas"
   ]
  },
  {
   "cell_type": "code",
   "execution_count": 100,
   "metadata": {
    "ExecuteTime": {
     "end_time": "2021-11-16T19:28:40.911759Z",
     "start_time": "2021-11-16T19:28:40.888753Z"
    }
   },
   "outputs": [
    {
     "data": {
      "text/html": [
       "<div>\n",
       "<style scoped>\n",
       "    .dataframe tbody tr th:only-of-type {\n",
       "        vertical-align: middle;\n",
       "    }\n",
       "\n",
       "    .dataframe tbody tr th {\n",
       "        vertical-align: top;\n",
       "    }\n",
       "\n",
       "    .dataframe thead th {\n",
       "        text-align: right;\n",
       "    }\n",
       "</style>\n",
       "<table border=\"1\" class=\"dataframe\">\n",
       "  <thead>\n",
       "    <tr style=\"text-align: right;\">\n",
       "      <th></th>\n",
       "      <th>ID</th>\n",
       "      <th>Y</th>\n",
       "    </tr>\n",
       "  </thead>\n",
       "  <tbody>\n",
       "    <tr>\n",
       "      <th>0</th>\n",
       "      <td>3</td>\n",
       "      <td>0</td>\n",
       "    </tr>\n",
       "    <tr>\n",
       "      <th>1</th>\n",
       "      <td>42</td>\n",
       "      <td>0</td>\n",
       "    </tr>\n",
       "    <tr>\n",
       "      <th>2</th>\n",
       "      <td>48</td>\n",
       "      <td>0</td>\n",
       "    </tr>\n",
       "    <tr>\n",
       "      <th>3</th>\n",
       "      <td>51</td>\n",
       "      <td>0</td>\n",
       "    </tr>\n",
       "    <tr>\n",
       "      <th>4</th>\n",
       "      <td>55</td>\n",
       "      <td>0</td>\n",
       "    </tr>\n",
       "    <tr>\n",
       "      <th>...</th>\n",
       "      <td>...</td>\n",
       "      <td>...</td>\n",
       "    </tr>\n",
       "    <tr>\n",
       "      <th>1639</th>\n",
       "      <td>19445</td>\n",
       "      <td>0</td>\n",
       "    </tr>\n",
       "    <tr>\n",
       "      <th>1640</th>\n",
       "      <td>19462</td>\n",
       "      <td>0</td>\n",
       "    </tr>\n",
       "    <tr>\n",
       "      <th>1641</th>\n",
       "      <td>19476</td>\n",
       "      <td>0</td>\n",
       "    </tr>\n",
       "    <tr>\n",
       "      <th>1642</th>\n",
       "      <td>19488</td>\n",
       "      <td>0</td>\n",
       "    </tr>\n",
       "    <tr>\n",
       "      <th>1643</th>\n",
       "      <td>19515</td>\n",
       "      <td>0</td>\n",
       "    </tr>\n",
       "  </tbody>\n",
       "</table>\n",
       "<p>1644 rows × 2 columns</p>\n",
       "</div>"
      ],
      "text/plain": [
       "         ID  Y\n",
       "0         3  0\n",
       "1        42  0\n",
       "2        48  0\n",
       "3        51  0\n",
       "4        55  0\n",
       "...     ... ..\n",
       "1639  19445  0\n",
       "1640  19462  0\n",
       "1641  19476  0\n",
       "1642  19488  0\n",
       "1643  19515  0\n",
       "\n",
       "[1644 rows x 2 columns]"
      ]
     },
     "execution_count": 100,
     "metadata": {},
     "output_type": "execute_result"
    }
   ],
   "source": [
    "oldbs = pd.DataFrame(oldbs,columns=[\"Y\"])\n",
    "oldbs = pd.concat([datatestoldbs[\"ID\"].reset_index(),oldbs], axis=1)\n",
    "oldbs = oldbs.drop(columns=\"index\",axis=1)\n",
    "oldbs"
   ]
  },
  {
   "cell_type": "code",
   "execution_count": 101,
   "metadata": {
    "ExecuteTime": {
     "end_time": "2021-11-16T19:29:47.463344Z",
     "start_time": "2021-11-16T19:29:47.450299Z"
    }
   },
   "outputs": [],
   "source": [
    "hasil = pd.concat([youngas,youngbs,oldas,oldbs])"
   ]
  },
  {
   "cell_type": "code",
   "execution_count": 103,
   "metadata": {
    "ExecuteTime": {
     "end_time": "2021-11-16T19:31:12.698645Z",
     "start_time": "2021-11-16T19:31:12.682648Z"
    }
   },
   "outputs": [
    {
     "data": {
      "text/html": [
       "<div>\n",
       "<style scoped>\n",
       "    .dataframe tbody tr th:only-of-type {\n",
       "        vertical-align: middle;\n",
       "    }\n",
       "\n",
       "    .dataframe tbody tr th {\n",
       "        vertical-align: top;\n",
       "    }\n",
       "\n",
       "    .dataframe thead th {\n",
       "        text-align: right;\n",
       "    }\n",
       "</style>\n",
       "<table border=\"1\" class=\"dataframe\">\n",
       "  <thead>\n",
       "    <tr style=\"text-align: right;\">\n",
       "      <th></th>\n",
       "      <th>ID</th>\n",
       "      <th>Y</th>\n",
       "    </tr>\n",
       "  </thead>\n",
       "  <tbody>\n",
       "    <tr>\n",
       "      <th>0</th>\n",
       "      <td>3</td>\n",
       "      <td>0</td>\n",
       "    </tr>\n",
       "    <tr>\n",
       "      <th>0</th>\n",
       "      <td>5</td>\n",
       "      <td>0</td>\n",
       "    </tr>\n",
       "    <tr>\n",
       "      <th>1</th>\n",
       "      <td>6</td>\n",
       "      <td>0</td>\n",
       "    </tr>\n",
       "    <tr>\n",
       "      <th>0</th>\n",
       "      <td>10</td>\n",
       "      <td>0</td>\n",
       "    </tr>\n",
       "    <tr>\n",
       "      <th>2</th>\n",
       "      <td>17</td>\n",
       "      <td>0</td>\n",
       "    </tr>\n",
       "    <tr>\n",
       "      <th>...</th>\n",
       "      <td>...</td>\n",
       "      <td>...</td>\n",
       "    </tr>\n",
       "    <tr>\n",
       "      <th>1643</th>\n",
       "      <td>19515</td>\n",
       "      <td>0</td>\n",
       "    </tr>\n",
       "    <tr>\n",
       "      <th>1566</th>\n",
       "      <td>19525</td>\n",
       "      <td>0</td>\n",
       "    </tr>\n",
       "    <tr>\n",
       "      <th>1369</th>\n",
       "      <td>19528</td>\n",
       "      <td>0</td>\n",
       "    </tr>\n",
       "    <tr>\n",
       "      <th>1567</th>\n",
       "      <td>19531</td>\n",
       "      <td>1</td>\n",
       "    </tr>\n",
       "    <tr>\n",
       "      <th>1568</th>\n",
       "      <td>19532</td>\n",
       "      <td>0</td>\n",
       "    </tr>\n",
       "  </tbody>\n",
       "</table>\n",
       "<p>5906 rows × 2 columns</p>\n",
       "</div>"
      ],
      "text/plain": [
       "         ID  Y\n",
       "0         3  0\n",
       "0         5  0\n",
       "1         6  0\n",
       "0        10  0\n",
       "2        17  0\n",
       "...     ... ..\n",
       "1643  19515  0\n",
       "1566  19525  0\n",
       "1369  19528  0\n",
       "1567  19531  1\n",
       "1568  19532  0\n",
       "\n",
       "[5906 rows x 2 columns]"
      ]
     },
     "execution_count": 103,
     "metadata": {},
     "output_type": "execute_result"
    }
   ],
   "source": [
    "hasil = hasil.sort_values(by=[\"ID\"])\n",
    "hasil"
   ]
  },
  {
   "cell_type": "code",
   "execution_count": 104,
   "metadata": {
    "ExecuteTime": {
     "end_time": "2021-11-16T19:31:53.023759Z",
     "start_time": "2021-11-16T19:31:52.995744Z"
    }
   },
   "outputs": [],
   "source": [
    "hasil.to_csv(\"4DF.csv\",index=False)"
   ]
  },
  {
   "cell_type": "markdown",
   "metadata": {
    "heading_collapsed": true,
    "id": "5WraBTut4o86"
   },
   "source": [
    "# Split Train and Test Data"
   ]
  },
  {
   "cell_type": "code",
   "execution_count": null,
   "metadata": {
    "ExecuteTime": {
     "end_time": "2021-11-16T17:20:06.311510Z",
     "start_time": "2021-11-16T17:20:06.311510Z"
    },
    "hidden": true,
    "id": "Ibl9rzbItGhl"
   },
   "outputs": [],
   "source": [
    "from sklearn.model_selection import train_test_split"
   ]
  },
  {
   "cell_type": "code",
   "execution_count": null,
   "metadata": {
    "ExecuteTime": {
     "end_time": "2021-11-16T17:20:06.312509Z",
     "start_time": "2021-11-16T17:20:06.312509Z"
    },
    "hidden": true,
    "id": "uNfv_kHOtGx5"
   },
   "outputs": [],
   "source": [
    "#X_train, X_test, y_train, y_test = train_test_split(datatrainx, datatrainy, test_size=0.30, random_state=0)"
   ]
  },
  {
   "cell_type": "code",
   "execution_count": null,
   "metadata": {
    "ExecuteTime": {
     "end_time": "2021-11-16T17:20:06.314510Z",
     "start_time": "2021-11-16T17:20:06.314510Z"
    },
    "hidden": true
   },
   "outputs": [],
   "source": [
    "X_trainyoung, X_testyoung, y_trainyoung, y_testyoung = train_test_split(datatrainyoungx, datatrainyoungy, test_size=0.30, random_state=0)"
   ]
  },
  {
   "cell_type": "code",
   "execution_count": null,
   "metadata": {
    "ExecuteTime": {
     "end_time": "2021-11-16T17:20:06.316509Z",
     "start_time": "2021-11-16T17:20:06.316509Z"
    },
    "hidden": true
   },
   "outputs": [],
   "source": [
    "X_trainold, X_testold, y_trainold, y_testold = train_test_split(datatrainoldx, datatrainoldy, test_size=0.30, random_state=0)"
   ]
  },
  {
   "cell_type": "code",
   "execution_count": null,
   "metadata": {
    "ExecuteTime": {
     "end_time": "2021-11-16T17:20:06.317512Z",
     "start_time": "2021-11-16T17:20:06.317512Z"
    },
    "hidden": true
   },
   "outputs": [],
   "source": [
    "X_trainyoung.shape"
   ]
  },
  {
   "cell_type": "code",
   "execution_count": null,
   "metadata": {
    "ExecuteTime": {
     "end_time": "2021-11-16T17:20:06.318509Z",
     "start_time": "2021-11-16T17:20:06.318509Z"
    },
    "hidden": true
   },
   "outputs": [],
   "source": [
    "X_testyoung.shape"
   ]
  },
  {
   "cell_type": "code",
   "execution_count": null,
   "metadata": {
    "ExecuteTime": {
     "end_time": "2021-11-16T17:20:06.320511Z",
     "start_time": "2021-11-16T17:20:06.320511Z"
    },
    "hidden": true
   },
   "outputs": [],
   "source": [
    "y_trainyoung.shape"
   ]
  },
  {
   "cell_type": "code",
   "execution_count": null,
   "metadata": {
    "ExecuteTime": {
     "end_time": "2021-11-16T17:20:06.321510Z",
     "start_time": "2021-11-16T17:20:06.321510Z"
    },
    "hidden": true
   },
   "outputs": [],
   "source": [
    "y_testyoung.shape"
   ]
  },
  {
   "cell_type": "markdown",
   "metadata": {
    "heading_collapsed": true,
    "id": "hXuatUBv4y96"
   },
   "source": [
    "# Modeling "
   ]
  },
  {
   "cell_type": "markdown",
   "metadata": {
    "hidden": true,
    "id": "JLLlFGov5Xl6"
   },
   "source": [
    "AdaBoost Classifier default parameters\n"
   ]
  },
  {
   "cell_type": "code",
   "execution_count": null,
   "metadata": {
    "ExecuteTime": {
     "end_time": "2021-11-16T17:20:06.323513Z",
     "start_time": "2021-11-16T17:20:06.323513Z"
    },
    "colab": {
     "base_uri": "https://localhost:8080/"
    },
    "hidden": true,
    "id": "him1R9KutMON",
    "outputId": "8fe110dd-8438-4f77-c168-2ff309bfa546"
   },
   "outputs": [],
   "source": [
    "abc = AdaBoostClassifier()\n",
    "#abc.fit(X_train, y_train)\n",
    "#y_pred = abc.predict(X_test)\n",
    "#accuracy_score(y_test, y_pred)"
   ]
  },
  {
   "cell_type": "code",
   "execution_count": null,
   "metadata": {
    "ExecuteTime": {
     "end_time": "2021-11-16T17:20:06.324509Z",
     "start_time": "2021-11-16T17:20:06.324509Z"
    },
    "hidden": true
   },
   "outputs": [],
   "source": [
    "abc.fit(X_trainyoung, y_trainyoung)\n",
    "y_predyoung = abc.predict(X_testyoung)\n",
    "accuracy_score(y_testyoung, y_predyoung)"
   ]
  },
  {
   "cell_type": "code",
   "execution_count": null,
   "metadata": {
    "ExecuteTime": {
     "end_time": "2021-11-16T17:20:06.325509Z",
     "start_time": "2021-11-16T17:20:06.325509Z"
    },
    "hidden": true
   },
   "outputs": [],
   "source": [
    "abc.fit(X_trainold, y_trainold)\n",
    "y_predold = abc.predict(X_testold)\n",
    "accuracy_score(y_testold, y_predold)"
   ]
  },
  {
   "cell_type": "code",
   "execution_count": null,
   "metadata": {
    "ExecuteTime": {
     "end_time": "2021-11-16T17:20:06.327511Z",
     "start_time": "2021-11-16T17:20:06.327511Z"
    },
    "hidden": true
   },
   "outputs": [],
   "source": [
    "from sklearn.metrics import classification_report,accuracy_score\n",
    "from sklearn.metrics import confusion_matrix,ConfusionMatrixDisplay\n",
    "#print(classification_report(y_test, y_pred))"
   ]
  },
  {
   "cell_type": "code",
   "execution_count": null,
   "metadata": {
    "ExecuteTime": {
     "end_time": "2021-11-16T17:20:06.329512Z",
     "start_time": "2021-11-16T17:20:06.329512Z"
    },
    "hidden": true
   },
   "outputs": [],
   "source": [
    "print(classification_report(y_testyoung, y_predyoung))"
   ]
  },
  {
   "cell_type": "code",
   "execution_count": null,
   "metadata": {
    "ExecuteTime": {
     "end_time": "2021-11-16T17:20:06.332513Z",
     "start_time": "2021-11-16T17:20:06.332513Z"
    },
    "hidden": true
   },
   "outputs": [],
   "source": [
    "print(classification_report(y_testold, y_predold))"
   ]
  },
  {
   "cell_type": "markdown",
   "metadata": {
    "hidden": true,
    "id": "UGBzUMOi5fnh"
   },
   "source": [
    "Parameters tuning with gridsearchcv"
   ]
  },
  {
   "cell_type": "code",
   "execution_count": null,
   "metadata": {
    "ExecuteTime": {
     "end_time": "2021-11-16T17:20:06.334514Z",
     "start_time": "2021-11-16T17:20:06.334514Z"
    },
    "colab": {
     "base_uri": "https://localhost:8080/"
    },
    "hidden": true,
    "id": "mB68qfxTtoMV",
    "outputId": "205d1cce-755a-4056-f040-59ab776a8c70"
   },
   "outputs": [],
   "source": [
    "import warnings\n",
    "warnings.filterwarnings('ignore')\n",
    "from sklearn.model_selection import GridSearchCV\n",
    "\n",
    "model = AdaBoostClassifier(random_state=100)\n",
    "params = {\n",
    "    'n_estimators':(50,100),\n",
    "    'learning_rate':[0.5, 1]\n",
    "}\n",
    "gs = GridSearchCV(model, params)\n",
    "# gs.fit(X_train, y_train)\n",
    "# y_pred = gs.predict(X_test)\n",
    "# print('Best parameter: ', gs.best_params_)"
   ]
  },
  {
   "cell_type": "code",
   "execution_count": null,
   "metadata": {
    "ExecuteTime": {
     "end_time": "2021-11-16T17:20:06.336511Z",
     "start_time": "2021-11-16T17:20:06.336511Z"
    },
    "hidden": true
   },
   "outputs": [],
   "source": [
    "gs.fit(X_trainyoung, y_trainyoung)\n",
    "y_predyoung = gs.predict(X_testyoung)\n",
    "print('Best parameter: ', gs.best_params_)"
   ]
  },
  {
   "cell_type": "code",
   "execution_count": null,
   "metadata": {
    "ExecuteTime": {
     "end_time": "2021-11-16T17:20:06.338509Z",
     "start_time": "2021-11-16T17:20:06.338509Z"
    },
    "hidden": true
   },
   "outputs": [],
   "source": [
    "gs.fit(X_trainold, y_trainold)\n",
    "y_predold = gs.predict(X_testold)\n",
    "print('Best parameter: ', gs.best_params_)"
   ]
  },
  {
   "cell_type": "markdown",
   "metadata": {
    "hidden": true,
    "id": "Rj6plQ4n5iLU"
   },
   "source": [
    "AdaBoost Classifier with best parameter"
   ]
  },
  {
   "cell_type": "code",
   "execution_count": null,
   "metadata": {
    "ExecuteTime": {
     "end_time": "2021-11-16T17:20:06.339513Z",
     "start_time": "2021-11-16T17:20:06.339513Z"
    },
    "colab": {
     "base_uri": "https://localhost:8080/"
    },
    "hidden": true,
    "id": "2L3PuwA9t6R8",
    "outputId": "86739334-bfe8-49b8-ca8b-efcccf6ab35f"
   },
   "outputs": [],
   "source": [
    "#abc = AdaBoostClassifier(learning_rate=1, n_estimators=100)\n",
    "#abc.fit(X_train, y_train)\n",
    "#y_pred = abc.predict(X_test)\n",
    "#accuracy_score(y_test, y_pred)"
   ]
  },
  {
   "cell_type": "code",
   "execution_count": null,
   "metadata": {
    "ExecuteTime": {
     "end_time": "2021-11-16T17:20:06.341514Z",
     "start_time": "2021-11-16T17:20:06.341514Z"
    },
    "hidden": true
   },
   "outputs": [],
   "source": [
    "abcyoung = AdaBoostClassifier(learning_rate=0.5, n_estimators=100)\n",
    "abcyoung.fit(X_trainyoung, y_trainyoung)\n",
    "y_predyoung = abcyoung.predict(X_testyoung)\n",
    "accuracy_score(y_testyoung, y_predyoung)"
   ]
  },
  {
   "cell_type": "code",
   "execution_count": null,
   "metadata": {
    "ExecuteTime": {
     "end_time": "2021-11-16T17:20:06.347513Z",
     "start_time": "2021-11-16T17:20:06.347513Z"
    },
    "hidden": true
   },
   "outputs": [],
   "source": [
    "abcold = AdaBoostClassifier(learning_rate=0.5, n_estimators=50)\n",
    "abcold.fit(X_trainold, y_trainold)\n",
    "y_predold = abcold.predict(X_testold)\n",
    "accuracy_score(y_testold, y_predold)"
   ]
  },
  {
   "cell_type": "code",
   "execution_count": null,
   "metadata": {
    "ExecuteTime": {
     "end_time": "2021-11-16T17:20:06.349513Z",
     "start_time": "2021-11-16T17:20:06.349513Z"
    },
    "hidden": true
   },
   "outputs": [],
   "source": [
    "#print(classification_report(y_test, y_pred))"
   ]
  },
  {
   "cell_type": "code",
   "execution_count": null,
   "metadata": {
    "ExecuteTime": {
     "end_time": "2021-11-16T17:20:06.351514Z",
     "start_time": "2021-11-16T17:20:06.351514Z"
    },
    "hidden": true
   },
   "outputs": [],
   "source": [
    "print(classification_report(y_testyoung, y_predyoung))"
   ]
  },
  {
   "cell_type": "code",
   "execution_count": null,
   "metadata": {
    "ExecuteTime": {
     "end_time": "2021-11-16T17:20:06.354513Z",
     "start_time": "2021-11-16T17:20:06.354513Z"
    },
    "hidden": true
   },
   "outputs": [],
   "source": [
    "print(classification_report(y_testold, y_predold))"
   ]
  },
  {
   "cell_type": "markdown",
   "metadata": {
    "hidden": true,
    "id": "Gs6BHj6t6DcI"
   },
   "source": [
    "GradientBoost with default parameters"
   ]
  },
  {
   "cell_type": "code",
   "execution_count": null,
   "metadata": {
    "ExecuteTime": {
     "end_time": "2021-11-16T17:20:06.357511Z",
     "start_time": "2021-11-16T17:20:06.357511Z"
    },
    "colab": {
     "base_uri": "https://localhost:8080/"
    },
    "hidden": true,
    "id": "UqgEH59gtdnK",
    "outputId": "20e7207c-7aa6-4709-882d-f832b595e639"
   },
   "outputs": [],
   "source": [
    "gbc = GradientBoostingClassifier()\n",
    "#gbc.fit(X_train, y_train)\n",
    "#y_pred = gbc.predict(X_test)\n",
    "#accuracy_score(y_test, y_pred)"
   ]
  },
  {
   "cell_type": "code",
   "execution_count": null,
   "metadata": {
    "ExecuteTime": {
     "end_time": "2021-11-16T17:20:06.361510Z",
     "start_time": "2021-11-16T17:20:06.361510Z"
    },
    "hidden": true
   },
   "outputs": [],
   "source": [
    "gbc.fit(X_trainyoung, y_trainyoung)\n",
    "y_pred = gbc.predict(X_testyoung)\n",
    "accuracy_score(y_testyoung, y_predyoung)"
   ]
  },
  {
   "cell_type": "code",
   "execution_count": null,
   "metadata": {
    "ExecuteTime": {
     "end_time": "2021-11-16T17:20:06.363512Z",
     "start_time": "2021-11-16T17:20:06.363512Z"
    },
    "hidden": true
   },
   "outputs": [],
   "source": [
    "gbc.fit(X_trainold, y_trainold)\n",
    "y_pred = gbc.predict(X_testold)\n",
    "accuracy_score(y_testold, y_predold)"
   ]
  },
  {
   "cell_type": "code",
   "execution_count": null,
   "metadata": {
    "ExecuteTime": {
     "end_time": "2021-11-16T17:20:06.366513Z",
     "start_time": "2021-11-16T17:20:06.366513Z"
    },
    "hidden": true
   },
   "outputs": [],
   "source": [
    "#print(classification_report(y_test, y_pred))"
   ]
  },
  {
   "cell_type": "code",
   "execution_count": null,
   "metadata": {
    "ExecuteTime": {
     "end_time": "2021-11-16T17:20:06.368512Z",
     "start_time": "2021-11-16T17:20:06.368512Z"
    },
    "hidden": true
   },
   "outputs": [],
   "source": [
    "print(classification_report(y_testyoung, y_predyoung))"
   ]
  },
  {
   "cell_type": "code",
   "execution_count": null,
   "metadata": {
    "ExecuteTime": {
     "end_time": "2021-11-16T17:20:06.370510Z",
     "start_time": "2021-11-16T17:20:06.370510Z"
    },
    "hidden": true
   },
   "outputs": [],
   "source": [
    "print(classification_report(y_testold, y_predold))"
   ]
  },
  {
   "cell_type": "markdown",
   "metadata": {
    "hidden": true,
    "id": "NjlUEhne6Gwt"
   },
   "source": [
    "Parameters tuning"
   ]
  },
  {
   "cell_type": "code",
   "execution_count": null,
   "metadata": {
    "ExecuteTime": {
     "end_time": "2021-11-16T17:20:06.371513Z",
     "start_time": "2021-11-16T17:20:06.371513Z"
    },
    "colab": {
     "base_uri": "https://localhost:8080/"
    },
    "hidden": true,
    "id": "M_eTc-Z1tvuh",
    "outputId": "fcc424c2-90ab-4696-adb2-41617900eb23"
   },
   "outputs": [],
   "source": [
    "model = GradientBoostingClassifier(random_state=100)\n",
    "params = {\n",
    "        'n_estimators':range(1,50),\n",
    "        'learning_rate':[0.001, 0.01, 0.1, 0.2, 0.5, 1]\n",
    "}\n",
    "gs = GridSearchCV(model, params)\n",
    "# gs.fit(X_train, y_train)\n",
    "# print('Best parameter: ', gs.best_params_)"
   ]
  },
  {
   "cell_type": "code",
   "execution_count": null,
   "metadata": {
    "ExecuteTime": {
     "end_time": "2021-11-16T17:20:06.374511Z",
     "start_time": "2021-11-16T17:20:06.374511Z"
    },
    "hidden": true
   },
   "outputs": [],
   "source": [
    "gs.fit(X_trainyoung, y_trainyoung)\n",
    "print('Best parameter: ', gs.best_params_)"
   ]
  },
  {
   "cell_type": "code",
   "execution_count": null,
   "metadata": {
    "ExecuteTime": {
     "end_time": "2021-11-16T17:20:06.377510Z",
     "start_time": "2021-11-16T17:20:06.377510Z"
    },
    "hidden": true
   },
   "outputs": [],
   "source": [
    "gs.fit(X_trainold, y_trainold)\n",
    "print('Best parameter: ', gs.best_params_)"
   ]
  },
  {
   "cell_type": "markdown",
   "metadata": {
    "hidden": true,
    "id": "G3ZoWCHV6JEC"
   },
   "source": [
    "GradientBoost with best parameters\n"
   ]
  },
  {
   "cell_type": "code",
   "execution_count": null,
   "metadata": {
    "ExecuteTime": {
     "end_time": "2021-11-16T17:20:06.378512Z",
     "start_time": "2021-11-16T17:20:06.378512Z"
    },
    "colab": {
     "base_uri": "https://localhost:8080/"
    },
    "hidden": true,
    "id": "54qmmUFKt8JC",
    "outputId": "c02c5aa9-81e6-4a23-cbd5-dd76259618f4"
   },
   "outputs": [],
   "source": [
    "#gbc = GradientBoostingClassifier(learning_rate=0.55, n_estimators=53)\n",
    "#gbc.fit(X_train, y_train)\n",
    "#y_pred = gbc.predict(X_test)\n",
    "#accuracy_score(y_test, y_pred)"
   ]
  },
  {
   "cell_type": "code",
   "execution_count": null,
   "metadata": {
    "ExecuteTime": {
     "end_time": "2021-11-16T17:20:06.380509Z",
     "start_time": "2021-11-16T17:20:06.380509Z"
    },
    "hidden": true
   },
   "outputs": [],
   "source": [
    "gbcyoung = GradientBoostingClassifier(learning_rate=0.5, n_estimators=29)\n",
    "gbcyoung.fit(X_trainyoung, y_trainyoung)\n",
    "y_predyoung = gbc.predict(X_testyoung)\n",
    "accuracy_score(y_testyoung, y_predyoung)"
   ]
  },
  {
   "cell_type": "code",
   "execution_count": null,
   "metadata": {
    "ExecuteTime": {
     "end_time": "2021-11-16T17:20:06.381508Z",
     "start_time": "2021-11-16T17:20:06.381508Z"
    },
    "hidden": true
   },
   "outputs": [],
   "source": [
    "gbcold = GradientBoostingClassifier(learning_rate=0.1, n_estimators=29)\n",
    "gbc.fit(X_trainold, y_trainold)\n",
    "y_predold = gbc.predict(X_testold)\n",
    "accuracy_score(y_testold, y_predold)"
   ]
  },
  {
   "cell_type": "code",
   "execution_count": null,
   "metadata": {
    "ExecuteTime": {
     "end_time": "2021-11-16T17:20:06.383512Z",
     "start_time": "2021-11-16T17:20:06.383512Z"
    },
    "hidden": true
   },
   "outputs": [],
   "source": [
    "#print(classification_report(y_test, y_pred))"
   ]
  },
  {
   "cell_type": "code",
   "execution_count": null,
   "metadata": {
    "ExecuteTime": {
     "end_time": "2021-11-16T17:20:06.385511Z",
     "start_time": "2021-11-16T17:20:06.385511Z"
    },
    "hidden": true
   },
   "outputs": [],
   "source": [
    "print(classification_report(y_testyoung, y_predyoung))"
   ]
  },
  {
   "cell_type": "code",
   "execution_count": null,
   "metadata": {
    "ExecuteTime": {
     "end_time": "2021-11-16T17:20:06.386512Z",
     "start_time": "2021-11-16T17:20:06.386512Z"
    },
    "hidden": true
   },
   "outputs": [],
   "source": [
    "print(classification_report(y_testold, y_predold))"
   ]
  },
  {
   "cell_type": "markdown",
   "metadata": {
    "id": "gJ6dKHscAv04"
   },
   "source": [
    "# Summary"
   ]
  },
  {
   "cell_type": "code",
   "execution_count": null,
   "metadata": {
    "ExecuteTime": {
     "end_time": "2021-11-16T17:20:06.388509Z",
     "start_time": "2021-11-16T17:20:06.388509Z"
    }
   },
   "outputs": [],
   "source": [
    "#hasil = gbc.predict(datatest)\n",
    "#hasil = pd.DataFrame(hasil,columns=[\"Y\"])\n",
    "#hasil = pd.concat([datatest[\"ID\"],hasil], axis=1)"
   ]
  },
  {
   "cell_type": "code",
   "execution_count": null,
   "metadata": {
    "ExecuteTime": {
     "end_time": "2021-11-16T17:20:06.390512Z",
     "start_time": "2021-11-16T17:20:06.390512Z"
    }
   },
   "outputs": [],
   "source": [
    "#hasil"
   ]
  },
  {
   "cell_type": "code",
   "execution_count": null,
   "metadata": {
    "ExecuteTime": {
     "end_time": "2021-11-16T17:20:06.391512Z",
     "start_time": "2021-11-16T17:20:06.391512Z"
    }
   },
   "outputs": [],
   "source": [
    "#hasil.to_csv(\"GradientBoost.csv\",index=False)"
   ]
  },
  {
   "cell_type": "markdown",
   "metadata": {
    "id": "f-H1hAB2Axop"
   },
   "source": [
    "Dengan hasil diatas maka dapat diambil kesimpulan bahwa 81.5% data dapat dijelaskan oleh model Adaboost Classifier dan 80% data dapat dijelaskan oleh model GradientBoost Classifier. Sisanya merupakan error atau pengaruh lainnya."
   ]
  }
 ],
 "metadata": {
  "colab": {
   "collapsed_sections": [],
   "name": "AdaBoost_GradientBoost.ipynb",
   "provenance": []
  },
  "kernelspec": {
   "display_name": "Python 3 (ipykernel)",
   "language": "python",
   "name": "python3"
  },
  "language_info": {
   "codemirror_mode": {
    "name": "ipython",
    "version": 3
   },
   "file_extension": ".py",
   "mimetype": "text/x-python",
   "name": "python",
   "nbconvert_exporter": "python",
   "pygments_lexer": "ipython3",
   "version": "3.8.12"
  },
  "toc": {
   "base_numbering": 1,
   "nav_menu": {},
   "number_sections": true,
   "sideBar": true,
   "skip_h1_title": false,
   "title_cell": "Table of Contents",
   "title_sidebar": "Contents",
   "toc_cell": false,
   "toc_position": {},
   "toc_section_display": true,
   "toc_window_display": false
  }
 },
 "nbformat": 4,
 "nbformat_minor": 1
}
