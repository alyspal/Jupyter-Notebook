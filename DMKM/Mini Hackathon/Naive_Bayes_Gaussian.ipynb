{
 "cells": [
  {
   "cell_type": "markdown",
   "metadata": {
    "id": "GRVt1W8EOSHp"
   },
   "source": [
    "**IMPORT LIBRARY & LOAD DATA**"
   ]
  },
  {
   "cell_type": "code",
   "execution_count": 1,
   "metadata": {
    "colab": {
     "base_uri": "https://localhost:8080/",
     "height": 423
    },
    "id": "Ehw7n8XoMMun",
    "outputId": "67cb81c1-61e6-4787-d765-5b1d9e240b34"
   },
   "outputs": [
    {
     "data": {
      "text/html": [
       "<div>\n",
       "<style scoped>\n",
       "    .dataframe tbody tr th:only-of-type {\n",
       "        vertical-align: middle;\n",
       "    }\n",
       "\n",
       "    .dataframe tbody tr th {\n",
       "        vertical-align: top;\n",
       "    }\n",
       "\n",
       "    .dataframe thead th {\n",
       "        text-align: right;\n",
       "    }\n",
       "</style>\n",
       "<table border=\"1\" class=\"dataframe\">\n",
       "  <thead>\n",
       "    <tr style=\"text-align: right;\">\n",
       "      <th></th>\n",
       "      <th>Sex</th>\n",
       "      <th>Age</th>\n",
       "      <th>Professions</th>\n",
       "      <th>Education</th>\n",
       "      <th>Living Area</th>\n",
       "      <th>1. Swelling</th>\n",
       "      <th>2. Redness</th>\n",
       "      <th>3. Itching</th>\n",
       "      <th>4. Fever</th>\n",
       "      <th>5. Headache</th>\n",
       "      <th>...</th>\n",
       "      <th>8. Coughing</th>\n",
       "      <th>9. Diarrhea</th>\n",
       "      <th>10. Nausea and vomiting</th>\n",
       "      <th>11. Breathlessness</th>\n",
       "      <th>12. Joint Pain</th>\n",
       "      <th>13. Fainted</th>\n",
       "      <th>14. Anaphylactic Reaction</th>\n",
       "      <th>15. Tingling</th>\n",
       "      <th>16. Swollen Lymph Nodes</th>\n",
       "      <th>TARGET LABEL (SYMPTOM TIME)</th>\n",
       "    </tr>\n",
       "  </thead>\n",
       "  <tbody>\n",
       "    <tr>\n",
       "      <th>0</th>\n",
       "      <td>Male</td>\n",
       "      <td>51-55 years</td>\n",
       "      <td>Medical specialist</td>\n",
       "      <td>Master degree</td>\n",
       "      <td>Downtown</td>\n",
       "      <td>No</td>\n",
       "      <td>No</td>\n",
       "      <td>No</td>\n",
       "      <td>No</td>\n",
       "      <td>No</td>\n",
       "      <td>...</td>\n",
       "      <td>No</td>\n",
       "      <td>No</td>\n",
       "      <td>No</td>\n",
       "      <td>No</td>\n",
       "      <td>No</td>\n",
       "      <td>No</td>\n",
       "      <td>No</td>\n",
       "      <td>No</td>\n",
       "      <td>No</td>\n",
       "      <td>None</td>\n",
       "    </tr>\n",
       "    <tr>\n",
       "      <th>1</th>\n",
       "      <td>Female</td>\n",
       "      <td>41-45 years</td>\n",
       "      <td>Non medical staff</td>\n",
       "      <td>Master degree</td>\n",
       "      <td>Downtown</td>\n",
       "      <td>No</td>\n",
       "      <td>No</td>\n",
       "      <td>No</td>\n",
       "      <td>No</td>\n",
       "      <td>No</td>\n",
       "      <td>...</td>\n",
       "      <td>No</td>\n",
       "      <td>No</td>\n",
       "      <td>No</td>\n",
       "      <td>No</td>\n",
       "      <td>No</td>\n",
       "      <td>No</td>\n",
       "      <td>No</td>\n",
       "      <td>No</td>\n",
       "      <td>No</td>\n",
       "      <td>None</td>\n",
       "    </tr>\n",
       "    <tr>\n",
       "      <th>2</th>\n",
       "      <td>Male</td>\n",
       "      <td>56-60 years</td>\n",
       "      <td>Medical doctor</td>\n",
       "      <td>NaN</td>\n",
       "      <td>Downtown</td>\n",
       "      <td>No</td>\n",
       "      <td>No</td>\n",
       "      <td>No</td>\n",
       "      <td>No</td>\n",
       "      <td>No</td>\n",
       "      <td>...</td>\n",
       "      <td>No</td>\n",
       "      <td>No</td>\n",
       "      <td>No</td>\n",
       "      <td>No</td>\n",
       "      <td>No</td>\n",
       "      <td>No</td>\n",
       "      <td>No</td>\n",
       "      <td>No</td>\n",
       "      <td>No</td>\n",
       "      <td>&lt; 24 hours</td>\n",
       "    </tr>\n",
       "    <tr>\n",
       "      <th>3</th>\n",
       "      <td>Male</td>\n",
       "      <td>26-30 years</td>\n",
       "      <td>Non medical staff</td>\n",
       "      <td>NaN</td>\n",
       "      <td>Downtown</td>\n",
       "      <td>No</td>\n",
       "      <td>No</td>\n",
       "      <td>No</td>\n",
       "      <td>No</td>\n",
       "      <td>No</td>\n",
       "      <td>...</td>\n",
       "      <td>No</td>\n",
       "      <td>No</td>\n",
       "      <td>No</td>\n",
       "      <td>No</td>\n",
       "      <td>No</td>\n",
       "      <td>No</td>\n",
       "      <td>No</td>\n",
       "      <td>No</td>\n",
       "      <td>No</td>\n",
       "      <td>None</td>\n",
       "    </tr>\n",
       "    <tr>\n",
       "      <th>4</th>\n",
       "      <td>Female</td>\n",
       "      <td>31-35 years</td>\n",
       "      <td>Medical doctor</td>\n",
       "      <td>Bachelor degree</td>\n",
       "      <td>Downtown</td>\n",
       "      <td>No</td>\n",
       "      <td>No</td>\n",
       "      <td>No</td>\n",
       "      <td>No</td>\n",
       "      <td>No</td>\n",
       "      <td>...</td>\n",
       "      <td>Yes</td>\n",
       "      <td>No</td>\n",
       "      <td>No</td>\n",
       "      <td>No</td>\n",
       "      <td>No</td>\n",
       "      <td>No</td>\n",
       "      <td>No</td>\n",
       "      <td>No</td>\n",
       "      <td>No</td>\n",
       "      <td>&lt; 24 hours</td>\n",
       "    </tr>\n",
       "    <tr>\n",
       "      <th>...</th>\n",
       "      <td>...</td>\n",
       "      <td>...</td>\n",
       "      <td>...</td>\n",
       "      <td>...</td>\n",
       "      <td>...</td>\n",
       "      <td>...</td>\n",
       "      <td>...</td>\n",
       "      <td>...</td>\n",
       "      <td>...</td>\n",
       "      <td>...</td>\n",
       "      <td>...</td>\n",
       "      <td>...</td>\n",
       "      <td>...</td>\n",
       "      <td>...</td>\n",
       "      <td>...</td>\n",
       "      <td>...</td>\n",
       "      <td>...</td>\n",
       "      <td>...</td>\n",
       "      <td>...</td>\n",
       "      <td>...</td>\n",
       "      <td>...</td>\n",
       "    </tr>\n",
       "    <tr>\n",
       "      <th>444</th>\n",
       "      <td>Female</td>\n",
       "      <td>36-40 years</td>\n",
       "      <td>Midwife</td>\n",
       "      <td>Bachelor degree</td>\n",
       "      <td>Downtown</td>\n",
       "      <td>Yes</td>\n",
       "      <td>No</td>\n",
       "      <td>No</td>\n",
       "      <td>No</td>\n",
       "      <td>No</td>\n",
       "      <td>...</td>\n",
       "      <td>No</td>\n",
       "      <td>No</td>\n",
       "      <td>No</td>\n",
       "      <td>No</td>\n",
       "      <td>No</td>\n",
       "      <td>No</td>\n",
       "      <td>No</td>\n",
       "      <td>No</td>\n",
       "      <td>No</td>\n",
       "      <td>24-72 hours</td>\n",
       "    </tr>\n",
       "    <tr>\n",
       "      <th>445</th>\n",
       "      <td>Female</td>\n",
       "      <td>46-50 years</td>\n",
       "      <td>Non medical staff</td>\n",
       "      <td>Bachelor degree</td>\n",
       "      <td>Outskirt</td>\n",
       "      <td>No</td>\n",
       "      <td>No</td>\n",
       "      <td>No</td>\n",
       "      <td>No</td>\n",
       "      <td>Yes</td>\n",
       "      <td>...</td>\n",
       "      <td>Yes</td>\n",
       "      <td>No</td>\n",
       "      <td>No</td>\n",
       "      <td>No</td>\n",
       "      <td>No</td>\n",
       "      <td>No</td>\n",
       "      <td>No</td>\n",
       "      <td>No</td>\n",
       "      <td>No</td>\n",
       "      <td>24-72 hours</td>\n",
       "    </tr>\n",
       "    <tr>\n",
       "      <th>446</th>\n",
       "      <td>Female</td>\n",
       "      <td>36-40 years</td>\n",
       "      <td>Nurse</td>\n",
       "      <td>Bachelor degree</td>\n",
       "      <td>Downtown</td>\n",
       "      <td>No</td>\n",
       "      <td>No</td>\n",
       "      <td>No</td>\n",
       "      <td>No</td>\n",
       "      <td>No</td>\n",
       "      <td>...</td>\n",
       "      <td>No</td>\n",
       "      <td>No</td>\n",
       "      <td>No</td>\n",
       "      <td>No</td>\n",
       "      <td>No</td>\n",
       "      <td>No</td>\n",
       "      <td>No</td>\n",
       "      <td>No</td>\n",
       "      <td>No</td>\n",
       "      <td>None</td>\n",
       "    </tr>\n",
       "    <tr>\n",
       "      <th>447</th>\n",
       "      <td>Female</td>\n",
       "      <td>41-45 years</td>\n",
       "      <td>Non medical staff</td>\n",
       "      <td>Bachelor degree</td>\n",
       "      <td>Downtown</td>\n",
       "      <td>No</td>\n",
       "      <td>No</td>\n",
       "      <td>No</td>\n",
       "      <td>No</td>\n",
       "      <td>No</td>\n",
       "      <td>...</td>\n",
       "      <td>No</td>\n",
       "      <td>No</td>\n",
       "      <td>No</td>\n",
       "      <td>No</td>\n",
       "      <td>No</td>\n",
       "      <td>No</td>\n",
       "      <td>No</td>\n",
       "      <td>No</td>\n",
       "      <td>No</td>\n",
       "      <td>24-72 hours</td>\n",
       "    </tr>\n",
       "    <tr>\n",
       "      <th>448</th>\n",
       "      <td>Female</td>\n",
       "      <td>36-40 years</td>\n",
       "      <td>Non medical staff</td>\n",
       "      <td>Senior high school</td>\n",
       "      <td>Downtown</td>\n",
       "      <td>No</td>\n",
       "      <td>No</td>\n",
       "      <td>No</td>\n",
       "      <td>No</td>\n",
       "      <td>No</td>\n",
       "      <td>...</td>\n",
       "      <td>No</td>\n",
       "      <td>No</td>\n",
       "      <td>No</td>\n",
       "      <td>No</td>\n",
       "      <td>No</td>\n",
       "      <td>No</td>\n",
       "      <td>No</td>\n",
       "      <td>No</td>\n",
       "      <td>No</td>\n",
       "      <td>None</td>\n",
       "    </tr>\n",
       "  </tbody>\n",
       "</table>\n",
       "<p>449 rows × 22 columns</p>\n",
       "</div>"
      ],
      "text/plain": [
       "        Sex          Age         Professions           Education Living Area  \\\n",
       "0      Male  51-55 years  Medical specialist       Master degree    Downtown   \n",
       "1    Female  41-45 years   Non medical staff       Master degree    Downtown   \n",
       "2      Male  56-60 years      Medical doctor                 NaN    Downtown   \n",
       "3      Male  26-30 years   Non medical staff                 NaN    Downtown   \n",
       "4    Female  31-35 years      Medical doctor     Bachelor degree    Downtown   \n",
       "..      ...          ...                 ...                 ...         ...   \n",
       "444  Female  36-40 years             Midwife     Bachelor degree    Downtown   \n",
       "445  Female  46-50 years   Non medical staff     Bachelor degree    Outskirt   \n",
       "446  Female  36-40 years               Nurse     Bachelor degree    Downtown   \n",
       "447  Female  41-45 years   Non medical staff     Bachelor degree    Downtown   \n",
       "448  Female  36-40 years   Non medical staff  Senior high school    Downtown   \n",
       "\n",
       "    1. Swelling 2. Redness 3. Itching 4. Fever 5. Headache  ... 8. Coughing  \\\n",
       "0            No         No         No       No          No  ...          No   \n",
       "1            No         No         No       No          No  ...          No   \n",
       "2            No         No         No       No          No  ...          No   \n",
       "3            No         No         No       No          No  ...          No   \n",
       "4            No         No         No       No          No  ...         Yes   \n",
       "..          ...        ...        ...      ...         ...  ...         ...   \n",
       "444         Yes         No         No       No          No  ...          No   \n",
       "445          No         No         No       No         Yes  ...         Yes   \n",
       "446          No         No         No       No          No  ...          No   \n",
       "447          No         No         No       No          No  ...          No   \n",
       "448          No         No         No       No          No  ...          No   \n",
       "\n",
       "    9. Diarrhea 10. Nausea and vomiting 11. Breathlessness 12. Joint Pain  \\\n",
       "0            No                      No                 No             No   \n",
       "1            No                      No                 No             No   \n",
       "2            No                      No                 No             No   \n",
       "3            No                      No                 No             No   \n",
       "4            No                      No                 No             No   \n",
       "..          ...                     ...                ...            ...   \n",
       "444          No                      No                 No             No   \n",
       "445          No                      No                 No             No   \n",
       "446          No                      No                 No             No   \n",
       "447          No                      No                 No             No   \n",
       "448          No                      No                 No             No   \n",
       "\n",
       "    13. Fainted 14. Anaphylactic Reaction 15. Tingling  \\\n",
       "0            No                        No           No   \n",
       "1            No                        No           No   \n",
       "2            No                        No           No   \n",
       "3            No                        No           No   \n",
       "4            No                        No           No   \n",
       "..          ...                       ...          ...   \n",
       "444          No                        No           No   \n",
       "445          No                        No           No   \n",
       "446          No                        No           No   \n",
       "447          No                        No           No   \n",
       "448          No                        No           No   \n",
       "\n",
       "    16. Swollen Lymph Nodes TARGET LABEL (SYMPTOM TIME)  \n",
       "0                        No                        None  \n",
       "1                        No                        None  \n",
       "2                        No                  < 24 hours  \n",
       "3                        No                        None  \n",
       "4                        No                  < 24 hours  \n",
       "..                      ...                         ...  \n",
       "444                      No                 24-72 hours  \n",
       "445                      No                 24-72 hours  \n",
       "446                      No                        None  \n",
       "447                      No                 24-72 hours  \n",
       "448                      No                        None  \n",
       "\n",
       "[449 rows x 22 columns]"
      ]
     },
     "execution_count": 1,
     "metadata": {},
     "output_type": "execute_result"
    }
   ],
   "source": [
    "from sklearn.datasets import load_iris\n",
    "from sklearn.model_selection import train_test_split\n",
    "from sklearn.naive_bayes import GaussianNB\n",
    "from sklearn.metrics import confusion_matrix\n",
    "from sklearn.model_selection import cross_val_score\n",
    "import pandas as pd\n",
    "import numpy as np\n",
    "%matplotlib inline\n",
    "import matplotlib.pyplot as plt\n",
    "import seaborn as sns; sns.set_theme()\n",
    "\n",
    "\n",
    "iris_data = pd.read_excel('3SI1_Dataset 03_Gejala Ikutan Vaksin.xlsx')\n",
    "iris_data"
   ]
  },
  {
   "cell_type": "markdown",
   "metadata": {
    "id": "ZwU8gIg794cZ"
   },
   "source": [
    "**Pengecekan Informasi Data**"
   ]
  },
  {
   "cell_type": "code",
   "execution_count": 2,
   "metadata": {
    "colab": {
     "base_uri": "https://localhost:8080/"
    },
    "id": "Il0-xwGI92rg",
    "outputId": "340bed8e-859d-403c-83cc-b8659c947429"
   },
   "outputs": [
    {
     "name": "stdout",
     "output_type": "stream",
     "text": [
      "<class 'pandas.core.frame.DataFrame'>\n",
      "RangeIndex: 449 entries, 0 to 448\n",
      "Data columns (total 22 columns):\n",
      " #   Column                       Non-Null Count  Dtype \n",
      "---  ------                       --------------  ----- \n",
      " 0   Sex                          449 non-null    object\n",
      " 1   Age                          449 non-null    object\n",
      " 2   Professions                  449 non-null    object\n",
      " 3   Education                    447 non-null    object\n",
      " 4   Living Area                  449 non-null    object\n",
      " 5   1. Swelling                  448 non-null    object\n",
      " 6   2. Redness                   448 non-null    object\n",
      " 7   3. Itching                   449 non-null    object\n",
      " 8   4. Fever                     449 non-null    object\n",
      " 9   5. Headache                  449 non-null    object\n",
      " 10  6. Muscle Pain               448 non-null    object\n",
      " 11  7. Tiredness                 448 non-null    object\n",
      " 12  8. Coughing                  449 non-null    object\n",
      " 13  9. Diarrhea                  449 non-null    object\n",
      " 14  10. Nausea and vomiting      449 non-null    object\n",
      " 15  11. Breathlessness           449 non-null    object\n",
      " 16  12. Joint Pain               449 non-null    object\n",
      " 17  13. Fainted                  449 non-null    object\n",
      " 18  14. Anaphylactic Reaction    449 non-null    object\n",
      " 19  15. Tingling                 447 non-null    object\n",
      " 20  16. Swollen Lymph Nodes      449 non-null    object\n",
      " 21  TARGET LABEL (SYMPTOM TIME)  449 non-null    object\n",
      "dtypes: object(22)\n",
      "memory usage: 77.3+ KB\n"
     ]
    }
   ],
   "source": [
    "iris_data.info()"
   ]
  },
  {
   "cell_type": "code",
   "execution_count": 3,
   "metadata": {
    "colab": {
     "base_uri": "https://localhost:8080/"
    },
    "id": "bOYM5ByM-MzB",
    "outputId": "e7c8f8b8-18b4-446d-d1cb-830d9a2ea352"
   },
   "outputs": [
    {
     "ename": "NameError",
     "evalue": "name 'iris' is not defined",
     "output_type": "error",
     "traceback": [
      "\u001b[1;31m---------------------------------------------------------------------------\u001b[0m",
      "\u001b[1;31mNameError\u001b[0m                                 Traceback (most recent call last)",
      "\u001b[1;32m~\\AppData\\Local\\Temp/ipykernel_16572/2131964854.py\u001b[0m in \u001b[0;36m<module>\u001b[1;34m\u001b[0m\n\u001b[1;32m----> 1\u001b[1;33m \u001b[0miris\u001b[0m\u001b[1;33m.\u001b[0m\u001b[0mtarget\u001b[0m\u001b[1;33m\u001b[0m\u001b[1;33m\u001b[0m\u001b[0m\n\u001b[0m",
      "\u001b[1;31mNameError\u001b[0m: name 'iris' is not defined"
     ]
    }
   ],
   "source": [
    "iris.target"
   ]
  },
  {
   "cell_type": "markdown",
   "metadata": {
    "id": "WYWyU5Ah5y3Z"
   },
   "source": [
    "**Menampilkan Statistik Deskriptif dari Data**"
   ]
  },
  {
   "cell_type": "code",
   "execution_count": null,
   "metadata": {
    "id": "y39xEuBP-3LU"
   },
   "outputs": [],
   "source": [
    "iris_data['target'] = iris.target"
   ]
  },
  {
   "cell_type": "code",
   "execution_count": null,
   "metadata": {
    "colab": {
     "base_uri": "https://localhost:8080/",
     "height": 300
    },
    "id": "MZIL9iIw5xMs",
    "outputId": "5f80483a-ff2c-4b1b-b845-69115ee559db"
   },
   "outputs": [],
   "source": [
    "iris_data.describe()"
   ]
  },
  {
   "cell_type": "markdown",
   "metadata": {
    "id": "te92U2y06YDB"
   },
   "source": [
    "**Pengecekan Missing Data**"
   ]
  },
  {
   "cell_type": "code",
   "execution_count": null,
   "metadata": {
    "colab": {
     "base_uri": "https://localhost:8080/"
    },
    "id": "KLRn4w5Q6fgJ",
    "outputId": "8a0a840c-23bd-4ec4-ac94-e55aeaff386d"
   },
   "outputs": [],
   "source": [
    "np.sum(pd.isnull(iris_data).sum())"
   ]
  },
  {
   "cell_type": "markdown",
   "metadata": {
    "id": "5_zcad3LVu4t"
   },
   "source": [
    "*Tidak ada missing data.*"
   ]
  },
  {
   "cell_type": "markdown",
   "metadata": {
    "id": "sgmxiD0I_gbB"
   },
   "source": [
    "**Pengecekan apakah data imbalance**"
   ]
  },
  {
   "cell_type": "code",
   "execution_count": null,
   "metadata": {},
   "outputs": [],
   "source": [
    "from sklearn import preprocessing\n",
    "le = preprocessing.LabelEncoder()\n",
    "\n",
    "for x in iris_data.columns:\n",
    "  iris_data[x] = le.fit_transform(iris_data[x])\n",
    "\n",
    "iris_data.head(10)"
   ]
  },
  {
   "cell_type": "code",
   "execution_count": null,
   "metadata": {
    "colab": {
     "base_uri": "https://localhost:8080/",
     "height": 303
    },
    "id": "1a8GQWEk_PLT",
    "outputId": "9e57aec4-bac8-484c-b5b3-440c96df9955"
   },
   "outputs": [],
   "source": [
    "sns.set_style('whitegrid')\n",
    "sns.countplot(x=iris_data['TARGET LABEL (SYMPTOM TIME)'],data=iris_data,palette='RdBu_r')"
   ]
  },
  {
   "cell_type": "markdown",
   "metadata": {
    "id": "2nJH8K_oVkWL"
   },
   "source": [
    "*Dapat dilihat dari plot diatas bahwa data tidak imbalance.*"
   ]
  },
  {
   "cell_type": "markdown",
   "metadata": {
    "id": "raYbJU4U67NU"
   },
   "source": [
    "**Pemeriksaan sebaran nilai data pada tiap atribut/variabel untuk masing-masing kelas dengan box-plot**\n",
    "\n",
    "Dengan melihat apakah ada perbedaan sebaran nilai yang mencolok, kita bisa mendapatkan gambaran, atribut/variabel manakah yang secara umum kita duga bisa menjadi pembeda utama antara 3 kelas."
   ]
  },
  {
   "cell_type": "code",
   "execution_count": null,
   "metadata": {
    "colab": {
     "base_uri": "https://localhost:8080/",
     "height": 1000
    },
    "id": "dxSReejf7BCh",
    "outputId": "5050c846-78fe-4235-8430-d78273706447"
   },
   "outputs": [],
   "source": [
    "l=list(iris_data.columns[0:5])\n",
    "for i in range(len(l)-1):\n",
    "    sns.boxplot(x='TARGET LABEL (SYMPTOM TIME)',y=l[i], data=iris_data, palette='winter')\n",
    "    plt.figure()"
   ]
  },
  {
   "cell_type": "markdown",
   "metadata": {
    "id": "Yk37B0IIA9wa"
   },
   "source": [
    "*Dapat dilihat dari boxplot tiap kelas dengan masing-masing variabel dari data iris yang digunakan, tiap kelas memiliki ciri khas masing-masing salah satunya seperti kelas 0 yang memiliki lebar sepal paling lebar dibandingkan kelas lainnya, panjang sepal paling pendek, panjang petal paling pendek dan lebar petal paling pendek juga.*"
   ]
  },
  {
   "cell_type": "markdown",
   "metadata": {
    "id": "G3TexU8-CAlL"
   },
   "source": [
    "**Pengecekan korelasi antar variabel yang digunakan**"
   ]
  },
  {
   "cell_type": "code",
   "execution_count": null,
   "metadata": {
    "colab": {
     "base_uri": "https://localhost:8080/",
     "height": 359
    },
    "id": "QJpy70EiCQsJ",
    "outputId": "4f8c3cb9-58c6-45bd-8237-881794549301"
   },
   "outputs": [],
   "source": [
    "iris_data = iris_data.drop('TARGET LABEL (SYMPTOM TIME)',axis=1) \n",
    "#iris_data = iris_data.drop('petal length (cm)',axis=1) \n",
    "#iris_data = iris_data.drop('petal width (cm)',axis=1) \n",
    "ax = sns.heatmap(iris_data.corr(), annot=True)"
   ]
  },
  {
   "cell_type": "markdown",
   "metadata": {
    "id": "u7VUrnyeR4s8"
   },
   "source": [
    "**Split Data**"
   ]
  },
  {
   "cell_type": "code",
   "execution_count": null,
   "metadata": {
    "colab": {
     "base_uri": "https://localhost:8080/"
    },
    "id": "YTV64JcAR1Pf",
    "outputId": "57f44c85-b303-4d17-8163-2ab82b9864a7"
   },
   "outputs": [],
   "source": [
    "X, y = (iris_data, 'TARGET LABEL (SYMPTOM TIME)')\n",
    "X_train, X_test, y_train, y_test = train_test_split(X,y, random_state=0)\n",
    "print(\"Jumlah Training Data : \", len(X_train), \" | Jumlah Test Data : \", len(X_test))"
   ]
  },
  {
   "cell_type": "markdown",
   "metadata": {
    "id": "4kh4geKbSy_L"
   },
   "source": [
    "**Make Model**"
   ]
  },
  {
   "cell_type": "code",
   "execution_count": null,
   "metadata": {
    "colab": {
     "base_uri": "https://localhost:8080/"
    },
    "id": "yNriXbKiS21d",
    "outputId": "2fd1909d-b83b-4f49-9ef9-6eaed71f4f2d"
   },
   "outputs": [],
   "source": [
    "clf = GaussianNB()\n",
    "clf.fit(X_train, y_train)\n",
    "clf.get_params()"
   ]
  },
  {
   "cell_type": "markdown",
   "metadata": {
    "id": "_FM9khcmTuY1"
   },
   "source": [
    "**Predict Test Data**"
   ]
  },
  {
   "cell_type": "code",
   "execution_count": null,
   "metadata": {
    "colab": {
     "base_uri": "https://localhost:8080/"
    },
    "id": "vghhuCHbTxyS",
    "outputId": "40a2c37d-4c2c-4fc4-86cc-7aa89620cd15"
   },
   "outputs": [],
   "source": [
    "y_pred = clf.predict(X_test)\n",
    "print(pd.DataFrame({'Prediction Label' : iris.target_names[y_pred],\n",
    "              'Actual Label': iris.target_names[y_test]}))"
   ]
  },
  {
   "cell_type": "markdown",
   "metadata": {
    "id": "namYWUiRUlGz"
   },
   "source": [
    "**Menerapkan 2-10 Fold Cross Validation & check accuracy**"
   ]
  },
  {
   "cell_type": "code",
   "execution_count": null,
   "metadata": {
    "colab": {
     "base_uri": "https://localhost:8080/"
    },
    "id": "1QQGpKUdUugC",
    "outputId": "917cd527-1f1c-4313-c941-88a928c23d4d"
   },
   "outputs": [],
   "source": [
    "print('Accuracy without cross validation: ',clf.score(X_train, y_train))\n",
    "for i in range(2,11):\n",
    "  scores = cross_val_score(clf, X_train, y_train, cv=i, scoring=\"accuracy\")\n",
    "  print('Accuracy After Cross Validation {} Fold: '.format(i), scores.mean())\n"
   ]
  },
  {
   "cell_type": "markdown",
   "metadata": {
    "id": "r3u-5-AsZgra"
   },
   "source": [
    "*Dapat dilihat bahwa dengan melakukan 5 fold cross validation menghasilkan nilai accuracy yang lebih baik sebesar 95,57 % dibandingkan tanpa cross validation maupun dengan banyak fold yang lainnya.*"
   ]
  },
  {
   "cell_type": "markdown",
   "metadata": {
    "id": "55aPOr-9VGga"
   },
   "source": [
    "**Confusion Matrix**"
   ]
  },
  {
   "cell_type": "code",
   "execution_count": null,
   "metadata": {
    "colab": {
     "base_uri": "https://localhost:8080/",
     "height": 339
    },
    "id": "to8KZz88VMJJ",
    "outputId": "b561cf93-72f8-4535-ee3d-e495a22b62e6"
   },
   "outputs": [],
   "source": [
    "cm = confusion_matrix(y_test, y_pred)\n",
    "\n",
    "fig, ax = plt.subplots(figsize=(5,5)) \n",
    "sns.heatmap(cm.T, square=True, annot=True, fmt='d', cbar=False,\n",
    "           xticklabels=iris.target_names, \n",
    "           yticklabels=iris.target_names)\n",
    "\n",
    "plt.xlabel('True Label')\n",
    "plt.ylabel('Predicted Label');"
   ]
  },
  {
   "cell_type": "markdown",
   "metadata": {
    "id": "zlPwkA0IWn71"
   },
   "source": [
    "**Predict New Data**\n",
    "\n",
    "Misalnya kita memiliki bunga dengan sepal_length = 2.6, sepal_width = 1.1, petal_length = 2.8, dan petal_width = 2.2"
   ]
  },
  {
   "cell_type": "code",
   "execution_count": null,
   "metadata": {
    "colab": {
     "base_uri": "https://localhost:8080/",
     "height": 35
    },
    "id": "8Ix4P6jnWtsx",
    "outputId": "82e48ba6-9f55-4b01-fe13-35b912b85b26"
   },
   "outputs": [],
   "source": [
    "predict = clf.predict([[2.6,1.1,2.8,2.2]])\n",
    "iris.target_names[predict][0]"
   ]
  }
 ],
 "metadata": {
  "colab": {
   "collapsed_sections": [],
   "name": "Naive_Bayes_Gaussian.ipynb",
   "provenance": []
  },
  "kernelspec": {
   "display_name": "Python 3 (ipykernel)",
   "language": "python",
   "name": "python3"
  },
  "language_info": {
   "codemirror_mode": {
    "name": "ipython",
    "version": 3
   },
   "file_extension": ".py",
   "mimetype": "text/x-python",
   "name": "python",
   "nbconvert_exporter": "python",
   "pygments_lexer": "ipython3",
   "version": "3.8.12"
  },
  "toc": {
   "base_numbering": 1,
   "nav_menu": {},
   "number_sections": true,
   "sideBar": true,
   "skip_h1_title": false,
   "title_cell": "Table of Contents",
   "title_sidebar": "Contents",
   "toc_cell": false,
   "toc_position": {},
   "toc_section_display": true,
   "toc_window_display": false
  }
 },
 "nbformat": 4,
 "nbformat_minor": 1
}
