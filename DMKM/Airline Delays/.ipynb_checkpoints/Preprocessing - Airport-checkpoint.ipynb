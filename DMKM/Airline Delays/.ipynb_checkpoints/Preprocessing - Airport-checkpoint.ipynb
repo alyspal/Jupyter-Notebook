{
 "cells": [
  {
   "cell_type": "markdown",
   "id": "264aa6ed",
   "metadata": {
    "id": "6Vcacb7y14nd"
   },
   "source": [
    "# Input packages and datasets"
   ]
  },
  {
   "cell_type": "code",
   "execution_count": 1,
   "id": "8c856faa",
   "metadata": {
    "ExecuteTime": {
     "end_time": "2021-12-08T14:04:45.692052Z",
     "start_time": "2021-12-08T14:04:41.501611Z"
    },
    "id": "YRsOznqNXSFE"
   },
   "outputs": [],
   "source": [
    "import pandas as pd\n",
    "import numpy as np\n",
    "import seaborn as sns\n",
    "import matplotlib.pyplot as plt\n",
    "import imblearn\n",
    "\n",
    "from sklearn import svm\n",
    "from sklearn import neighbors, datasets, model_selection, metrics\n",
    "from sklearn.svm import SVC, NuSVC\n",
    "from sklearn.naive_bayes import GaussianNB\n",
    "from sklearn.linear_model import LinearRegression, LogisticRegression\n",
    "from sklearn.model_selection import train_test_split\n",
    "from sklearn.metrics import classification_report,accuracy_score\n",
    "from sklearn.ensemble import AdaBoostClassifier,GradientBoostingClassifier,RandomForestClassifier"
   ]
  },
  {
   "cell_type": "code",
   "execution_count": 2,
   "id": "5a92670c",
   "metadata": {
    "ExecuteTime": {
     "end_time": "2021-12-08T14:04:46.840561Z",
     "start_time": "2021-12-08T14:04:46.571208Z"
    },
    "id": "AZGdYfeaXURD"
   },
   "outputs": [],
   "source": [
    "data = pd.read_csv('airline_delays.csv')\n",
    "data = data.drop(columns=\"Unnamed: 0\")"
   ]
  },
  {
   "cell_type": "raw",
   "id": "810d110a",
   "metadata": {
    "ExecuteTime": {
     "end_time": "2021-12-05T19:06:32.779785Z",
     "start_time": "2021-12-05T19:06:32.753954Z"
    }
   },
   "source": [
    "from pandas_profiling import ProfileReport\n",
    "profile = ProfileReport(data)\n",
    "profile.to_file(\"mantab.html\")"
   ]
  },
  {
   "cell_type": "raw",
   "id": "8581a5ee",
   "metadata": {
    "ExecuteTime": {
     "end_time": "2021-12-05T19:06:32.811193Z",
     "start_time": "2021-12-05T19:06:32.786792Z"
    }
   },
   "source": [
    "Universal\n",
    "DEP_DEL15: \t\t\t\t\t\tTARGET Binary of a departure delay over 15 minutes (1 is yes)\n",
    "DEP_BLOCK:\t\t\t\t\t\tDeparture block\n",
    "AIRLINE_AIRPORT_FLIGHTS_MONTH:\tAvg Flights per month for Airline AND Airport\n",
    "PREVIOUS_AIRPORT:\t\t\t\tPrevious airport that aircraft departed from\n",
    "\n",
    "Airport\n",
    "AIRPORT_FLIGHTS_MONTH:\t\t\tAvg Airport Flights per Month\n",
    "AVG_MONTHLY_PASS_AIRPORT:\t\tAvg Passengers for the departing airport for the month\n",
    "DEPARTING_AIRPORT:\t\t\t\tDeparting Airport\n",
    "CONCURRENT_FLIGHTS:\t\t\t\tConcurrent flights leaving from the airport in the same departure block\n",
    "\n",
    "Airline\n",
    "AIRLINE_FLIGHTS_MONTH:\t\t\tAvg Airline Flights per Month\n",
    "AVG_MONTHLY_PASS_AIRLINE:\t\tAvg Passengers for airline for month\n",
    "FLT_ATTENDANTS_PER_PASS:\t\tFlight attendants per passenger for airline\n",
    "GROUND_SERV_PER_PASS:\t\t\tGround service employees (service desk) per passenger for airline\n",
    "\n",
    "Aircraft\n",
    "NUMBER_OF_SEATS:\t\t\t\tNumber of seats on the aircraft\n",
    "DISTANCE_GROUP:\t\t\t\t\tDistance group to be flown by departing aircraft\n",
    "PLANE_AGE:\t\t\t\t\t\tAge of departing aircraft\n",
    "\n",
    "Environment (Day)\n",
    "SEGMENT_NUMBER:\t\t\t\t\tThe segment that this tail number is on for the day\n",
    "PRCP:\t\t\t\t\t\t\tInches of precipitation for day\n",
    "SNOW:\t\t\t\t\t\t\tInches of snowfall for day\n",
    "SNWD:\t\t\t\t\t\t\tInches of snow on ground for day\n",
    "TMAX:\t\t\t\t\t\t\tMax temperature for day\n",
    "AWND:\t\t\t\t\t\t\tMax wind speed for day\n",
    "\n",
    "Drop\n",
    "CARRIER_NAME:\t\t\t\t\tCarrier\n",
    "LATITUDE:\t\t\t\t\t\tLatitude of departing airport\n",
    "LONGITUDE:\t\t\t\t\t\tLongitude of departing airport"
   ]
  },
  {
   "cell_type": "markdown",
   "id": "c61e51dd",
   "metadata": {
    "id": "2tH-u1eP4ad1"
   },
   "source": [
    "# Preprocessing\n"
   ]
  },
  {
   "cell_type": "code",
   "execution_count": 3,
   "id": "108db399",
   "metadata": {
    "ExecuteTime": {
     "end_time": "2021-12-08T14:04:49.050908Z",
     "start_time": "2021-12-08T14:04:49.005909Z"
    },
    "scrolled": true
   },
   "outputs": [
    {
     "name": "stdout",
     "output_type": "stream",
     "text": [
      "<class 'pandas.core.frame.DataFrame'>\n",
      "RangeIndex: 52705 entries, 0 to 52704\n",
      "Data columns (total 24 columns):\n",
      " #   Column                         Non-Null Count  Dtype  \n",
      "---  ------                         --------------  -----  \n",
      " 0   DEP_DEL15                      52705 non-null  int64  \n",
      " 1   DISTANCE_GROUP                 52705 non-null  int64  \n",
      " 2   DEP_BLOCK                      52705 non-null  object \n",
      " 3   SEGMENT_NUMBER                 52705 non-null  int64  \n",
      " 4   CONCURRENT_FLIGHTS             52705 non-null  int64  \n",
      " 5   NUMBER_OF_SEATS                52705 non-null  int64  \n",
      " 6   CARRIER_NAME                   52705 non-null  object \n",
      " 7   AIRPORT_FLIGHTS_MONTH          52705 non-null  int64  \n",
      " 8   AIRLINE_FLIGHTS_MONTH          52705 non-null  int64  \n",
      " 9   AIRLINE_AIRPORT_FLIGHTS_MONTH  52705 non-null  int64  \n",
      " 10  AVG_MONTHLY_PASS_AIRPORT       52705 non-null  int64  \n",
      " 11  AVG_MONTHLY_PASS_AIRLINE       52705 non-null  int64  \n",
      " 12  FLT_ATTENDANTS_PER_PASS        52705 non-null  float64\n",
      " 13  GROUND_SERV_PER_PASS           52705 non-null  float64\n",
      " 14  PLANE_AGE                      52705 non-null  int64  \n",
      " 15  DEPARTING_AIRPORT              52705 non-null  object \n",
      " 16  LATITUDE                       52705 non-null  float64\n",
      " 17  LONGITUDE                      52705 non-null  float64\n",
      " 18  PREVIOUS_AIRPORT               52705 non-null  object \n",
      " 19  PRCP                           52705 non-null  float64\n",
      " 20  SNOW                           52705 non-null  float64\n",
      " 21  SNWD                           52705 non-null  float64\n",
      " 22  TMAX                           52705 non-null  float64\n",
      " 23  AWND                           52705 non-null  float64\n",
      "dtypes: float64(9), int64(11), object(4)\n",
      "memory usage: 9.7+ MB\n"
     ]
    }
   ],
   "source": [
    "data.info()"
   ]
  },
  {
   "cell_type": "code",
   "execution_count": 4,
   "id": "db8b310f",
   "metadata": {
    "ExecuteTime": {
     "end_time": "2021-12-08T14:04:49.673181Z",
     "start_time": "2021-12-08T14:04:49.612591Z"
    },
    "scrolled": true
   },
   "outputs": [
    {
     "data": {
      "text/plain": [
       "DEP_DEL15                          2\n",
       "DISTANCE_GROUP                    11\n",
       "DEP_BLOCK                          6\n",
       "SEGMENT_NUMBER                    13\n",
       "CONCURRENT_FLIGHTS               164\n",
       "NUMBER_OF_SEATS                   76\n",
       "CARRIER_NAME                      17\n",
       "AIRPORT_FLIGHTS_MONTH             82\n",
       "AIRLINE_FLIGHTS_MONTH             17\n",
       "AIRLINE_AIRPORT_FLIGHTS_MONTH    509\n",
       "AVG_MONTHLY_PASS_AIRPORT          83\n",
       "AVG_MONTHLY_PASS_AIRLINE          17\n",
       "FLT_ATTENDANTS_PER_PASS           14\n",
       "GROUND_SERV_PER_PASS              17\n",
       "PLANE_AGE                         33\n",
       "DEPARTING_AIRPORT                 83\n",
       "LATITUDE                          83\n",
       "LONGITUDE                         83\n",
       "PREVIOUS_AIRPORT                 324\n",
       "PRCP                              76\n",
       "SNOW                              20\n",
       "SNWD                              12\n",
       "TMAX                              66\n",
       "AWND                              81\n",
       "dtype: int64"
      ]
     },
     "execution_count": 4,
     "metadata": {},
     "output_type": "execute_result"
    }
   ],
   "source": [
    "data.nunique()"
   ]
  },
  {
   "cell_type": "code",
   "execution_count": 5,
   "id": "0ea69624",
   "metadata": {
    "ExecuteTime": {
     "end_time": "2021-12-08T14:04:50.155920Z",
     "start_time": "2021-12-08T14:04:50.041919Z"
    },
    "scrolled": true
   },
   "outputs": [
    {
     "data": {
      "text/html": [
       "<div>\n",
       "<style scoped>\n",
       "    .dataframe tbody tr th:only-of-type {\n",
       "        vertical-align: middle;\n",
       "    }\n",
       "\n",
       "    .dataframe tbody tr th {\n",
       "        vertical-align: top;\n",
       "    }\n",
       "\n",
       "    .dataframe thead th {\n",
       "        text-align: right;\n",
       "    }\n",
       "</style>\n",
       "<table border=\"1\" class=\"dataframe\">\n",
       "  <thead>\n",
       "    <tr style=\"text-align: right;\">\n",
       "      <th></th>\n",
       "      <th>DEP_DEL15</th>\n",
       "      <th>DISTANCE_GROUP</th>\n",
       "      <th>SEGMENT_NUMBER</th>\n",
       "      <th>CONCURRENT_FLIGHTS</th>\n",
       "      <th>NUMBER_OF_SEATS</th>\n",
       "      <th>AIRPORT_FLIGHTS_MONTH</th>\n",
       "      <th>AIRLINE_FLIGHTS_MONTH</th>\n",
       "      <th>AIRLINE_AIRPORT_FLIGHTS_MONTH</th>\n",
       "      <th>AVG_MONTHLY_PASS_AIRPORT</th>\n",
       "      <th>AVG_MONTHLY_PASS_AIRLINE</th>\n",
       "      <th>FLT_ATTENDANTS_PER_PASS</th>\n",
       "      <th>GROUND_SERV_PER_PASS</th>\n",
       "      <th>PLANE_AGE</th>\n",
       "      <th>LATITUDE</th>\n",
       "      <th>LONGITUDE</th>\n",
       "      <th>PRCP</th>\n",
       "      <th>SNOW</th>\n",
       "      <th>SNWD</th>\n",
       "      <th>TMAX</th>\n",
       "      <th>AWND</th>\n",
       "    </tr>\n",
       "  </thead>\n",
       "  <tbody>\n",
       "    <tr>\n",
       "      <th>count</th>\n",
       "      <td>52705.000000</td>\n",
       "      <td>52705.000000</td>\n",
       "      <td>52705.000000</td>\n",
       "      <td>52705.000000</td>\n",
       "      <td>52705.000000</td>\n",
       "      <td>52705.000000</td>\n",
       "      <td>52705.000000</td>\n",
       "      <td>52705.000000</td>\n",
       "      <td>52705.000000</td>\n",
       "      <td>5.270500e+04</td>\n",
       "      <td>52705.000000</td>\n",
       "      <td>52705.000000</td>\n",
       "      <td>52705.000000</td>\n",
       "      <td>52705.000000</td>\n",
       "      <td>52705.000000</td>\n",
       "      <td>52705.000000</td>\n",
       "      <td>52705.000000</td>\n",
       "      <td>52705.000000</td>\n",
       "      <td>52705.000000</td>\n",
       "      <td>52705.000000</td>\n",
       "    </tr>\n",
       "    <tr>\n",
       "      <th>mean</th>\n",
       "      <td>0.195959</td>\n",
       "      <td>3.954634</td>\n",
       "      <td>2.676501</td>\n",
       "      <td>75.367517</td>\n",
       "      <td>135.919989</td>\n",
       "      <td>12437.043886</td>\n",
       "      <td>60038.852671</td>\n",
       "      <td>3300.278342</td>\n",
       "      <td>308985.619220</td>\n",
       "      <td>1.440597e+06</td>\n",
       "      <td>0.000508</td>\n",
       "      <td>0.000709</td>\n",
       "      <td>11.142112</td>\n",
       "      <td>35.910850</td>\n",
       "      <td>-95.721539</td>\n",
       "      <td>0.176994</td>\n",
       "      <td>0.105201</td>\n",
       "      <td>0.158283</td>\n",
       "      <td>59.231895</td>\n",
       "      <td>9.315581</td>\n",
       "    </tr>\n",
       "    <tr>\n",
       "      <th>std</th>\n",
       "      <td>0.396941</td>\n",
       "      <td>2.414312</td>\n",
       "      <td>1.551963</td>\n",
       "      <td>52.504799</td>\n",
       "      <td>47.549494</td>\n",
       "      <td>8406.567252</td>\n",
       "      <td>32930.468634</td>\n",
       "      <td>4015.593150</td>\n",
       "      <td>209483.342847</td>\n",
       "      <td>9.277222e+05</td>\n",
       "      <td>0.000457</td>\n",
       "      <td>0.000263</td>\n",
       "      <td>7.099074</td>\n",
       "      <td>5.792918</td>\n",
       "      <td>18.697865</td>\n",
       "      <td>0.330614</td>\n",
       "      <td>0.465679</td>\n",
       "      <td>0.796721</td>\n",
       "      <td>14.682274</td>\n",
       "      <td>4.222135</td>\n",
       "    </tr>\n",
       "    <tr>\n",
       "      <th>min</th>\n",
       "      <td>0.000000</td>\n",
       "      <td>1.000000</td>\n",
       "      <td>1.000000</td>\n",
       "      <td>1.000000</td>\n",
       "      <td>44.000000</td>\n",
       "      <td>1103.000000</td>\n",
       "      <td>7018.000000</td>\n",
       "      <td>1.000000</td>\n",
       "      <td>13584.000000</td>\n",
       "      <td>1.050860e+05</td>\n",
       "      <td>0.000000</td>\n",
       "      <td>0.000033</td>\n",
       "      <td>0.000000</td>\n",
       "      <td>19.739000</td>\n",
       "      <td>-159.346000</td>\n",
       "      <td>0.000000</td>\n",
       "      <td>0.000000</td>\n",
       "      <td>0.000000</td>\n",
       "      <td>5.000000</td>\n",
       "      <td>1.120000</td>\n",
       "    </tr>\n",
       "    <tr>\n",
       "      <th>25%</th>\n",
       "      <td>0.000000</td>\n",
       "      <td>2.000000</td>\n",
       "      <td>1.000000</td>\n",
       "      <td>31.000000</td>\n",
       "      <td>90.000000</td>\n",
       "      <td>5019.000000</td>\n",
       "      <td>24691.000000</td>\n",
       "      <td>625.000000</td>\n",
       "      <td>130317.000000</td>\n",
       "      <td>5.350680e+05</td>\n",
       "      <td>0.000170</td>\n",
       "      <td>0.000541</td>\n",
       "      <td>4.000000</td>\n",
       "      <td>32.894000</td>\n",
       "      <td>-112.009000</td>\n",
       "      <td>0.000000</td>\n",
       "      <td>0.000000</td>\n",
       "      <td>0.000000</td>\n",
       "      <td>48.000000</td>\n",
       "      <td>5.820000</td>\n",
       "    </tr>\n",
       "    <tr>\n",
       "      <th>50%</th>\n",
       "      <td>0.000000</td>\n",
       "      <td>3.000000</td>\n",
       "      <td>2.000000</td>\n",
       "      <td>66.000000</td>\n",
       "      <td>143.000000</td>\n",
       "      <td>11479.000000</td>\n",
       "      <td>69699.000000</td>\n",
       "      <td>2048.000000</td>\n",
       "      <td>320589.000000</td>\n",
       "      <td>1.539321e+06</td>\n",
       "      <td>0.000338</td>\n",
       "      <td>0.000616</td>\n",
       "      <td>12.000000</td>\n",
       "      <td>36.080000</td>\n",
       "      <td>-87.906000</td>\n",
       "      <td>0.010000</td>\n",
       "      <td>0.000000</td>\n",
       "      <td>0.000000</td>\n",
       "      <td>59.000000</td>\n",
       "      <td>8.950000</td>\n",
       "    </tr>\n",
       "    <tr>\n",
       "      <th>75%</th>\n",
       "      <td>0.000000</td>\n",
       "      <td>5.000000</td>\n",
       "      <td>4.000000</td>\n",
       "      <td>106.000000</td>\n",
       "      <td>173.000000</td>\n",
       "      <td>17680.000000</td>\n",
       "      <td>80026.000000</td>\n",
       "      <td>4681.000000</td>\n",
       "      <td>416815.000000</td>\n",
       "      <td>2.338195e+06</td>\n",
       "      <td>0.000768</td>\n",
       "      <td>0.000911</td>\n",
       "      <td>17.000000</td>\n",
       "      <td>39.991000</td>\n",
       "      <td>-80.936000</td>\n",
       "      <td>0.190000</td>\n",
       "      <td>0.000000</td>\n",
       "      <td>0.000000</td>\n",
       "      <td>70.000000</td>\n",
       "      <td>11.860000</td>\n",
       "    </tr>\n",
       "    <tr>\n",
       "      <th>max</th>\n",
       "      <td>1.000000</td>\n",
       "      <td>11.000000</td>\n",
       "      <td>13.000000</td>\n",
       "      <td>224.000000</td>\n",
       "      <td>337.000000</td>\n",
       "      <td>32102.000000</td>\n",
       "      <td>107849.000000</td>\n",
       "      <td>19461.000000</td>\n",
       "      <td>816174.000000</td>\n",
       "      <td>2.447530e+06</td>\n",
       "      <td>0.001759</td>\n",
       "      <td>0.001265</td>\n",
       "      <td>32.000000</td>\n",
       "      <td>61.169000</td>\n",
       "      <td>-71.426000</td>\n",
       "      <td>2.020000</td>\n",
       "      <td>6.300000</td>\n",
       "      <td>11.000000</td>\n",
       "      <td>88.000000</td>\n",
       "      <td>25.050000</td>\n",
       "    </tr>\n",
       "  </tbody>\n",
       "</table>\n",
       "</div>"
      ],
      "text/plain": [
       "          DEP_DEL15  DISTANCE_GROUP  SEGMENT_NUMBER  CONCURRENT_FLIGHTS  \\\n",
       "count  52705.000000    52705.000000    52705.000000        52705.000000   \n",
       "mean       0.195959        3.954634        2.676501           75.367517   \n",
       "std        0.396941        2.414312        1.551963           52.504799   \n",
       "min        0.000000        1.000000        1.000000            1.000000   \n",
       "25%        0.000000        2.000000        1.000000           31.000000   \n",
       "50%        0.000000        3.000000        2.000000           66.000000   \n",
       "75%        0.000000        5.000000        4.000000          106.000000   \n",
       "max        1.000000       11.000000       13.000000          224.000000   \n",
       "\n",
       "       NUMBER_OF_SEATS  AIRPORT_FLIGHTS_MONTH  AIRLINE_FLIGHTS_MONTH  \\\n",
       "count     52705.000000           52705.000000           52705.000000   \n",
       "mean        135.919989           12437.043886           60038.852671   \n",
       "std          47.549494            8406.567252           32930.468634   \n",
       "min          44.000000            1103.000000            7018.000000   \n",
       "25%          90.000000            5019.000000           24691.000000   \n",
       "50%         143.000000           11479.000000           69699.000000   \n",
       "75%         173.000000           17680.000000           80026.000000   \n",
       "max         337.000000           32102.000000          107849.000000   \n",
       "\n",
       "       AIRLINE_AIRPORT_FLIGHTS_MONTH  AVG_MONTHLY_PASS_AIRPORT  \\\n",
       "count                   52705.000000              52705.000000   \n",
       "mean                     3300.278342             308985.619220   \n",
       "std                      4015.593150             209483.342847   \n",
       "min                         1.000000              13584.000000   \n",
       "25%                       625.000000             130317.000000   \n",
       "50%                      2048.000000             320589.000000   \n",
       "75%                      4681.000000             416815.000000   \n",
       "max                     19461.000000             816174.000000   \n",
       "\n",
       "       AVG_MONTHLY_PASS_AIRLINE  FLT_ATTENDANTS_PER_PASS  \\\n",
       "count              5.270500e+04             52705.000000   \n",
       "mean               1.440597e+06                 0.000508   \n",
       "std                9.277222e+05                 0.000457   \n",
       "min                1.050860e+05                 0.000000   \n",
       "25%                5.350680e+05                 0.000170   \n",
       "50%                1.539321e+06                 0.000338   \n",
       "75%                2.338195e+06                 0.000768   \n",
       "max                2.447530e+06                 0.001759   \n",
       "\n",
       "       GROUND_SERV_PER_PASS     PLANE_AGE      LATITUDE     LONGITUDE  \\\n",
       "count          52705.000000  52705.000000  52705.000000  52705.000000   \n",
       "mean               0.000709     11.142112     35.910850    -95.721539   \n",
       "std                0.000263      7.099074      5.792918     18.697865   \n",
       "min                0.000033      0.000000     19.739000   -159.346000   \n",
       "25%                0.000541      4.000000     32.894000   -112.009000   \n",
       "50%                0.000616     12.000000     36.080000    -87.906000   \n",
       "75%                0.000911     17.000000     39.991000    -80.936000   \n",
       "max                0.001265     32.000000     61.169000    -71.426000   \n",
       "\n",
       "               PRCP          SNOW          SNWD          TMAX          AWND  \n",
       "count  52705.000000  52705.000000  52705.000000  52705.000000  52705.000000  \n",
       "mean       0.176994      0.105201      0.158283     59.231895      9.315581  \n",
       "std        0.330614      0.465679      0.796721     14.682274      4.222135  \n",
       "min        0.000000      0.000000      0.000000      5.000000      1.120000  \n",
       "25%        0.000000      0.000000      0.000000     48.000000      5.820000  \n",
       "50%        0.010000      0.000000      0.000000     59.000000      8.950000  \n",
       "75%        0.190000      0.000000      0.000000     70.000000     11.860000  \n",
       "max        2.020000      6.300000     11.000000     88.000000     25.050000  "
      ]
     },
     "execution_count": 5,
     "metadata": {},
     "output_type": "execute_result"
    }
   ],
   "source": [
    "data.describe()"
   ]
  },
  {
   "cell_type": "code",
   "execution_count": 6,
   "id": "96310a1f",
   "metadata": {
    "ExecuteTime": {
     "end_time": "2021-12-08T14:04:50.700666Z",
     "start_time": "2021-12-08T14:04:50.407374Z"
    }
   },
   "outputs": [
    {
     "data": {
      "text/plain": [
       "<AxesSubplot:xlabel='DEP_DEL15', ylabel='count'>"
      ]
     },
     "execution_count": 6,
     "metadata": {},
     "output_type": "execute_result"
    },
    {
     "data": {
      "image/png": "[encoded data removed]",
      "text/plain": [
       "<Figure size 432x288 with 1 Axes>"
      ]
     },
     "metadata": {},
     "output_type": "display_data"
    }
   ],
   "source": [
    "#Apakah data imbalance?\n",
    "\n",
    "sns.set_style('whitegrid')\n",
    "sns.countplot(x=data['DEP_DEL15'],data=data)"
   ]
  },
  {
   "cell_type": "markdown",
   "id": "d38a5802",
   "metadata": {},
   "source": [
    "## Cleaning"
   ]
  },
  {
   "cell_type": "code",
   "execution_count": 7,
   "id": "3823e427",
   "metadata": {
    "ExecuteTime": {
     "end_time": "2021-12-08T14:04:51.308414Z",
     "start_time": "2021-12-08T14:04:51.273453Z"
    },
    "scrolled": true
   },
   "outputs": [
    {
     "data": {
      "text/html": [
       "<div>\n",
       "<style scoped>\n",
       "    .dataframe tbody tr th:only-of-type {\n",
       "        vertical-align: middle;\n",
       "    }\n",
       "\n",
       "    .dataframe tbody tr th {\n",
       "        vertical-align: top;\n",
       "    }\n",
       "\n",
       "    .dataframe thead th {\n",
       "        text-align: right;\n",
       "    }\n",
       "</style>\n",
       "<table border=\"1\" class=\"dataframe\">\n",
       "  <thead>\n",
       "    <tr style=\"text-align: right;\">\n",
       "      <th></th>\n",
       "      <th>DEP_DEL15</th>\n",
       "      <th>DISTANCE_GROUP</th>\n",
       "      <th>DEP_BLOCK</th>\n",
       "      <th>SEGMENT_NUMBER</th>\n",
       "      <th>CONCURRENT_FLIGHTS</th>\n",
       "      <th>NUMBER_OF_SEATS</th>\n",
       "      <th>CARRIER_NAME</th>\n",
       "      <th>AIRPORT_FLIGHTS_MONTH</th>\n",
       "      <th>AIRLINE_FLIGHTS_MONTH</th>\n",
       "      <th>AIRLINE_AIRPORT_FLIGHTS_MONTH</th>\n",
       "      <th>...</th>\n",
       "      <th>PLANE_AGE</th>\n",
       "      <th>DEPARTING_AIRPORT</th>\n",
       "      <th>LATITUDE</th>\n",
       "      <th>LONGITUDE</th>\n",
       "      <th>PREVIOUS_AIRPORT</th>\n",
       "      <th>PRCP</th>\n",
       "      <th>SNOW</th>\n",
       "      <th>SNWD</th>\n",
       "      <th>TMAX</th>\n",
       "      <th>AWND</th>\n",
       "    </tr>\n",
       "  </thead>\n",
       "  <tbody>\n",
       "    <tr>\n",
       "      <th>0</th>\n",
       "      <td>0</td>\n",
       "      <td>10</td>\n",
       "      <td>EARLY_MORNING</td>\n",
       "      <td>1</td>\n",
       "      <td>7</td>\n",
       "      <td>187</td>\n",
       "      <td>American Airlines Inc.</td>\n",
       "      <td>11493</td>\n",
       "      <td>75591</td>\n",
       "      <td>479</td>\n",
       "      <td>...</td>\n",
       "      <td>7</td>\n",
       "      <td>Seattle International</td>\n",
       "      <td>47.447</td>\n",
       "      <td>-122.306</td>\n",
       "      <td>NONE</td>\n",
       "      <td>0.16</td>\n",
       "      <td>0.0</td>\n",
       "      <td>0.0</td>\n",
       "      <td>52.0</td>\n",
       "      <td>4.92</td>\n",
       "    </tr>\n",
       "    <tr>\n",
       "      <th>1</th>\n",
       "      <td>0</td>\n",
       "      <td>4</td>\n",
       "      <td>MORNING</td>\n",
       "      <td>1</td>\n",
       "      <td>95</td>\n",
       "      <td>180</td>\n",
       "      <td>Delta Air Lines Inc.</td>\n",
       "      <td>11493</td>\n",
       "      <td>80026</td>\n",
       "      <td>2509</td>\n",
       "      <td>...</td>\n",
       "      <td>0</td>\n",
       "      <td>Seattle International</td>\n",
       "      <td>47.447</td>\n",
       "      <td>-122.306</td>\n",
       "      <td>NONE</td>\n",
       "      <td>0.16</td>\n",
       "      <td>0.0</td>\n",
       "      <td>0.0</td>\n",
       "      <td>52.0</td>\n",
       "      <td>4.92</td>\n",
       "    </tr>\n",
       "    <tr>\n",
       "      <th>2</th>\n",
       "      <td>0</td>\n",
       "      <td>4</td>\n",
       "      <td>MORNING</td>\n",
       "      <td>1</td>\n",
       "      <td>95</td>\n",
       "      <td>160</td>\n",
       "      <td>Delta Air Lines Inc.</td>\n",
       "      <td>11493</td>\n",
       "      <td>80026</td>\n",
       "      <td>2509</td>\n",
       "      <td>...</td>\n",
       "      <td>18</td>\n",
       "      <td>Seattle International</td>\n",
       "      <td>47.447</td>\n",
       "      <td>-122.306</td>\n",
       "      <td>NONE</td>\n",
       "      <td>0.16</td>\n",
       "      <td>0.0</td>\n",
       "      <td>0.0</td>\n",
       "      <td>52.0</td>\n",
       "      <td>4.92</td>\n",
       "    </tr>\n",
       "    <tr>\n",
       "      <th>3</th>\n",
       "      <td>0</td>\n",
       "      <td>5</td>\n",
       "      <td>MORNING</td>\n",
       "      <td>1</td>\n",
       "      <td>95</td>\n",
       "      <td>160</td>\n",
       "      <td>Delta Air Lines Inc.</td>\n",
       "      <td>11493</td>\n",
       "      <td>80026</td>\n",
       "      <td>2509</td>\n",
       "      <td>...</td>\n",
       "      <td>18</td>\n",
       "      <td>Seattle International</td>\n",
       "      <td>47.447</td>\n",
       "      <td>-122.306</td>\n",
       "      <td>NONE</td>\n",
       "      <td>0.16</td>\n",
       "      <td>0.0</td>\n",
       "      <td>0.0</td>\n",
       "      <td>52.0</td>\n",
       "      <td>4.92</td>\n",
       "    </tr>\n",
       "    <tr>\n",
       "      <th>4</th>\n",
       "      <td>0</td>\n",
       "      <td>7</td>\n",
       "      <td>MORNING</td>\n",
       "      <td>1</td>\n",
       "      <td>95</td>\n",
       "      <td>132</td>\n",
       "      <td>Delta Air Lines Inc.</td>\n",
       "      <td>11493</td>\n",
       "      <td>80026</td>\n",
       "      <td>2509</td>\n",
       "      <td>...</td>\n",
       "      <td>18</td>\n",
       "      <td>Seattle International</td>\n",
       "      <td>47.447</td>\n",
       "      <td>-122.306</td>\n",
       "      <td>NONE</td>\n",
       "      <td>0.16</td>\n",
       "      <td>0.0</td>\n",
       "      <td>0.0</td>\n",
       "      <td>52.0</td>\n",
       "      <td>4.92</td>\n",
       "    </tr>\n",
       "  </tbody>\n",
       "</table>\n",
       "<p>5 rows × 24 columns</p>\n",
       "</div>"
      ],
      "text/plain": [
       "   DEP_DEL15  DISTANCE_GROUP      DEP_BLOCK  SEGMENT_NUMBER  \\\n",
       "0          0              10  EARLY_MORNING               1   \n",
       "1          0               4        MORNING               1   \n",
       "2          0               4        MORNING               1   \n",
       "3          0               5        MORNING               1   \n",
       "4          0               7        MORNING               1   \n",
       "\n",
       "   CONCURRENT_FLIGHTS  NUMBER_OF_SEATS            CARRIER_NAME  \\\n",
       "0                   7              187  American Airlines Inc.   \n",
       "1                  95              180    Delta Air Lines Inc.   \n",
       "2                  95              160    Delta Air Lines Inc.   \n",
       "3                  95              160    Delta Air Lines Inc.   \n",
       "4                  95              132    Delta Air Lines Inc.   \n",
       "\n",
       "   AIRPORT_FLIGHTS_MONTH  AIRLINE_FLIGHTS_MONTH  \\\n",
       "0                  11493                  75591   \n",
       "1                  11493                  80026   \n",
       "2                  11493                  80026   \n",
       "3                  11493                  80026   \n",
       "4                  11493                  80026   \n",
       "\n",
       "   AIRLINE_AIRPORT_FLIGHTS_MONTH  ...  PLANE_AGE      DEPARTING_AIRPORT  \\\n",
       "0                            479  ...          7  Seattle International   \n",
       "1                           2509  ...          0  Seattle International   \n",
       "2                           2509  ...         18  Seattle International   \n",
       "3                           2509  ...         18  Seattle International   \n",
       "4                           2509  ...         18  Seattle International   \n",
       "\n",
       "   LATITUDE  LONGITUDE  PREVIOUS_AIRPORT  PRCP  SNOW  SNWD  TMAX  AWND  \n",
       "0    47.447   -122.306              NONE  0.16   0.0   0.0  52.0  4.92  \n",
       "1    47.447   -122.306              NONE  0.16   0.0   0.0  52.0  4.92  \n",
       "2    47.447   -122.306              NONE  0.16   0.0   0.0  52.0  4.92  \n",
       "3    47.447   -122.306              NONE  0.16   0.0   0.0  52.0  4.92  \n",
       "4    47.447   -122.306              NONE  0.16   0.0   0.0  52.0  4.92  \n",
       "\n",
       "[5 rows x 24 columns]"
      ]
     },
     "execution_count": 7,
     "metadata": {},
     "output_type": "execute_result"
    }
   ],
   "source": [
    "data.head()"
   ]
  },
  {
   "cell_type": "code",
   "execution_count": 8,
   "id": "de5ae6cb",
   "metadata": {
    "ExecuteTime": {
     "end_time": "2021-12-08T14:04:51.867323Z",
     "start_time": "2021-12-08T14:04:51.753326Z"
    },
    "scrolled": false
   },
   "outputs": [
    {
     "data": {
      "text/html": [
       "<div>\n",
       "<style scoped>\n",
       "    .dataframe tbody tr th:only-of-type {\n",
       "        vertical-align: middle;\n",
       "    }\n",
       "\n",
       "    .dataframe tbody tr th {\n",
       "        vertical-align: top;\n",
       "    }\n",
       "\n",
       "    .dataframe thead th {\n",
       "        text-align: right;\n",
       "    }\n",
       "</style>\n",
       "<table border=\"1\" class=\"dataframe\">\n",
       "  <thead>\n",
       "    <tr style=\"text-align: right;\">\n",
       "      <th></th>\n",
       "      <th>DEP_DEL15</th>\n",
       "      <th>DISTANCE_GROUP</th>\n",
       "      <th>DEP_BLOCK</th>\n",
       "      <th>SEGMENT_NUMBER</th>\n",
       "      <th>CONCURRENT_FLIGHTS</th>\n",
       "      <th>NUMBER_OF_SEATS</th>\n",
       "      <th>CARRIER_NAME</th>\n",
       "      <th>AIRPORT_FLIGHTS_MONTH</th>\n",
       "      <th>AIRLINE_FLIGHTS_MONTH</th>\n",
       "      <th>AIRLINE_AIRPORT_FLIGHTS_MONTH</th>\n",
       "      <th>...</th>\n",
       "      <th>PLANE_AGE</th>\n",
       "      <th>DEPARTING_AIRPORT</th>\n",
       "      <th>LATITUDE</th>\n",
       "      <th>LONGITUDE</th>\n",
       "      <th>PREVIOUS_AIRPORT</th>\n",
       "      <th>PRCP</th>\n",
       "      <th>SNOW</th>\n",
       "      <th>SNWD</th>\n",
       "      <th>TMAX</th>\n",
       "      <th>AWND</th>\n",
       "    </tr>\n",
       "  </thead>\n",
       "  <tbody>\n",
       "    <tr>\n",
       "      <th>0</th>\n",
       "      <td>0</td>\n",
       "      <td>10</td>\n",
       "      <td>EARLY_MORNING</td>\n",
       "      <td>1</td>\n",
       "      <td>7</td>\n",
       "      <td>187</td>\n",
       "      <td>American Airlines Inc.</td>\n",
       "      <td>11493</td>\n",
       "      <td>75591</td>\n",
       "      <td>479</td>\n",
       "      <td>...</td>\n",
       "      <td>7</td>\n",
       "      <td>Seattle International</td>\n",
       "      <td>47.447</td>\n",
       "      <td>-122.306</td>\n",
       "      <td>NONE</td>\n",
       "      <td>0.16</td>\n",
       "      <td>0.0</td>\n",
       "      <td>0.0</td>\n",
       "      <td>52.0</td>\n",
       "      <td>4.92</td>\n",
       "    </tr>\n",
       "    <tr>\n",
       "      <th>1</th>\n",
       "      <td>0</td>\n",
       "      <td>4</td>\n",
       "      <td>MORNING</td>\n",
       "      <td>1</td>\n",
       "      <td>95</td>\n",
       "      <td>180</td>\n",
       "      <td>Delta Air Lines Inc.</td>\n",
       "      <td>11493</td>\n",
       "      <td>80026</td>\n",
       "      <td>2509</td>\n",
       "      <td>...</td>\n",
       "      <td>0</td>\n",
       "      <td>Seattle International</td>\n",
       "      <td>47.447</td>\n",
       "      <td>-122.306</td>\n",
       "      <td>NONE</td>\n",
       "      <td>0.16</td>\n",
       "      <td>0.0</td>\n",
       "      <td>0.0</td>\n",
       "      <td>52.0</td>\n",
       "      <td>4.92</td>\n",
       "    </tr>\n",
       "    <tr>\n",
       "      <th>2</th>\n",
       "      <td>0</td>\n",
       "      <td>4</td>\n",
       "      <td>MORNING</td>\n",
       "      <td>1</td>\n",
       "      <td>95</td>\n",
       "      <td>160</td>\n",
       "      <td>Delta Air Lines Inc.</td>\n",
       "      <td>11493</td>\n",
       "      <td>80026</td>\n",
       "      <td>2509</td>\n",
       "      <td>...</td>\n",
       "      <td>18</td>\n",
       "      <td>Seattle International</td>\n",
       "      <td>47.447</td>\n",
       "      <td>-122.306</td>\n",
       "      <td>NONE</td>\n",
       "      <td>0.16</td>\n",
       "      <td>0.0</td>\n",
       "      <td>0.0</td>\n",
       "      <td>52.0</td>\n",
       "      <td>4.92</td>\n",
       "    </tr>\n",
       "    <tr>\n",
       "      <th>3</th>\n",
       "      <td>0</td>\n",
       "      <td>5</td>\n",
       "      <td>MORNING</td>\n",
       "      <td>1</td>\n",
       "      <td>95</td>\n",
       "      <td>160</td>\n",
       "      <td>Delta Air Lines Inc.</td>\n",
       "      <td>11493</td>\n",
       "      <td>80026</td>\n",
       "      <td>2509</td>\n",
       "      <td>...</td>\n",
       "      <td>18</td>\n",
       "      <td>Seattle International</td>\n",
       "      <td>47.447</td>\n",
       "      <td>-122.306</td>\n",
       "      <td>NONE</td>\n",
       "      <td>0.16</td>\n",
       "      <td>0.0</td>\n",
       "      <td>0.0</td>\n",
       "      <td>52.0</td>\n",
       "      <td>4.92</td>\n",
       "    </tr>\n",
       "    <tr>\n",
       "      <th>4</th>\n",
       "      <td>0</td>\n",
       "      <td>7</td>\n",
       "      <td>MORNING</td>\n",
       "      <td>1</td>\n",
       "      <td>95</td>\n",
       "      <td>132</td>\n",
       "      <td>Delta Air Lines Inc.</td>\n",
       "      <td>11493</td>\n",
       "      <td>80026</td>\n",
       "      <td>2509</td>\n",
       "      <td>...</td>\n",
       "      <td>18</td>\n",
       "      <td>Seattle International</td>\n",
       "      <td>47.447</td>\n",
       "      <td>-122.306</td>\n",
       "      <td>NONE</td>\n",
       "      <td>0.16</td>\n",
       "      <td>0.0</td>\n",
       "      <td>0.0</td>\n",
       "      <td>52.0</td>\n",
       "      <td>4.92</td>\n",
       "    </tr>\n",
       "  </tbody>\n",
       "</table>\n",
       "<p>5 rows × 24 columns</p>\n",
       "</div>"
      ],
      "text/plain": [
       "   DEP_DEL15  DISTANCE_GROUP      DEP_BLOCK  SEGMENT_NUMBER  \\\n",
       "0          0              10  EARLY_MORNING               1   \n",
       "1          0               4        MORNING               1   \n",
       "2          0               4        MORNING               1   \n",
       "3          0               5        MORNING               1   \n",
       "4          0               7        MORNING               1   \n",
       "\n",
       "   CONCURRENT_FLIGHTS  NUMBER_OF_SEATS            CARRIER_NAME  \\\n",
       "0                   7              187  American Airlines Inc.   \n",
       "1                  95              180    Delta Air Lines Inc.   \n",
       "2                  95              160    Delta Air Lines Inc.   \n",
       "3                  95              160    Delta Air Lines Inc.   \n",
       "4                  95              132    Delta Air Lines Inc.   \n",
       "\n",
       "   AIRPORT_FLIGHTS_MONTH  AIRLINE_FLIGHTS_MONTH  \\\n",
       "0                  11493                  75591   \n",
       "1                  11493                  80026   \n",
       "2                  11493                  80026   \n",
       "3                  11493                  80026   \n",
       "4                  11493                  80026   \n",
       "\n",
       "   AIRLINE_AIRPORT_FLIGHTS_MONTH  ...  PLANE_AGE      DEPARTING_AIRPORT  \\\n",
       "0                            479  ...          7  Seattle International   \n",
       "1                           2509  ...          0  Seattle International   \n",
       "2                           2509  ...         18  Seattle International   \n",
       "3                           2509  ...         18  Seattle International   \n",
       "4                           2509  ...         18  Seattle International   \n",
       "\n",
       "   LATITUDE  LONGITUDE  PREVIOUS_AIRPORT  PRCP  SNOW  SNWD  TMAX  AWND  \n",
       "0    47.447   -122.306              NONE  0.16   0.0   0.0  52.0  4.92  \n",
       "1    47.447   -122.306              NONE  0.16   0.0   0.0  52.0  4.92  \n",
       "2    47.447   -122.306              NONE  0.16   0.0   0.0  52.0  4.92  \n",
       "3    47.447   -122.306              NONE  0.16   0.0   0.0  52.0  4.92  \n",
       "4    47.447   -122.306              NONE  0.16   0.0   0.0  52.0  4.92  \n",
       "\n",
       "[5 rows x 24 columns]"
      ]
     },
     "execution_count": 8,
     "metadata": {},
     "output_type": "execute_result"
    }
   ],
   "source": [
    "datagraph=data.drop_duplicates()\n",
    "datagraph.head()"
   ]
  },
  {
   "cell_type": "code",
   "execution_count": 9,
   "id": "d6c1d2a0",
   "metadata": {
    "ExecuteTime": {
     "end_time": "2021-12-08T14:04:52.474865Z",
     "start_time": "2021-12-08T14:04:52.438869Z"
    }
   },
   "outputs": [
    {
     "data": {
      "text/plain": [
       "DEP_DEL15                          2\n",
       "DEP_BLOCK                          6\n",
       "AIRLINE_AIRPORT_FLIGHTS_MONTH    509\n",
       "PREVIOUS_AIRPORT                 324\n",
       "AIRPORT_FLIGHTS_MONTH             82\n",
       "AVG_MONTHLY_PASS_AIRPORT          83\n",
       "DEPARTING_AIRPORT                 83\n",
       "CONCURRENT_FLIGHTS               164\n",
       "dtype: int64"
      ]
     },
     "execution_count": 9,
     "metadata": {},
     "output_type": "execute_result"
    }
   ],
   "source": [
    "airportcolumn = ['DEP_DEL15','DEP_BLOCK','AIRLINE_AIRPORT_FLIGHTS_MONTH','PREVIOUS_AIRPORT','AIRPORT_FLIGHTS_MONTH', 'AVG_MONTHLY_PASS_AIRPORT', 'DEPARTING_AIRPORT', 'CONCURRENT_FLIGHTS']\n",
    "airportdata = datagraph[airportcolumn]\n",
    "airportdata.nunique()"
   ]
  },
  {
   "cell_type": "code",
   "execution_count": 10,
   "id": "f263e054",
   "metadata": {
    "ExecuteTime": {
     "end_time": "2021-12-08T14:04:53.218384Z",
     "start_time": "2021-12-08T14:04:53.042384Z"
    }
   },
   "outputs": [
    {
     "data": {
      "text/html": [
       "<div>\n",
       "<style scoped>\n",
       "    .dataframe tbody tr th:only-of-type {\n",
       "        vertical-align: middle;\n",
       "    }\n",
       "\n",
       "    .dataframe tbody tr th {\n",
       "        vertical-align: top;\n",
       "    }\n",
       "\n",
       "    .dataframe thead th {\n",
       "        text-align: right;\n",
       "    }\n",
       "</style>\n",
       "<table border=\"1\" class=\"dataframe\">\n",
       "  <thead>\n",
       "    <tr style=\"text-align: right;\">\n",
       "      <th></th>\n",
       "      <th>DEP_DEL15</th>\n",
       "      <th>AIRLINE_AIRPORT_FLIGHTS_MONTH</th>\n",
       "      <th>AIRPORT_FLIGHTS_MONTH</th>\n",
       "      <th>AVG_MONTHLY_PASS_AIRPORT</th>\n",
       "      <th>CONCURRENT_FLIGHTS</th>\n",
       "      <th>DEP_BLOCK_AFTERNOON</th>\n",
       "      <th>DEP_BLOCK_EARLY_MORNING</th>\n",
       "      <th>DEP_BLOCK_EVENING</th>\n",
       "      <th>DEP_BLOCK_LATE_NIGHT</th>\n",
       "      <th>DEP_BLOCK_MIDDAY</th>\n",
       "      <th>...</th>\n",
       "      <th>DEPARTING_AIRPORT_Standiford Field</th>\n",
       "      <th>DEPARTING_AIRPORT_Stapleton International</th>\n",
       "      <th>DEPARTING_AIRPORT_Tampa International</th>\n",
       "      <th>DEPARTING_AIRPORT_Theodore Francis Green State</th>\n",
       "      <th>DEPARTING_AIRPORT_Truax Field</th>\n",
       "      <th>DEPARTING_AIRPORT_Tucson International</th>\n",
       "      <th>DEPARTING_AIRPORT_Tulsa International</th>\n",
       "      <th>DEPARTING_AIRPORT_Washington Dulles International</th>\n",
       "      <th>DEPARTING_AIRPORT_Will Rogers World</th>\n",
       "      <th>DEPARTING_AIRPORT_William P Hobby</th>\n",
       "    </tr>\n",
       "  </thead>\n",
       "  <tbody>\n",
       "    <tr>\n",
       "      <th>0</th>\n",
       "      <td>0</td>\n",
       "      <td>479</td>\n",
       "      <td>11493</td>\n",
       "      <td>344730</td>\n",
       "      <td>7</td>\n",
       "      <td>0</td>\n",
       "      <td>1</td>\n",
       "      <td>0</td>\n",
       "      <td>0</td>\n",
       "      <td>0</td>\n",
       "      <td>...</td>\n",
       "      <td>0</td>\n",
       "      <td>0</td>\n",
       "      <td>0</td>\n",
       "      <td>0</td>\n",
       "      <td>0</td>\n",
       "      <td>0</td>\n",
       "      <td>0</td>\n",
       "      <td>0</td>\n",
       "      <td>0</td>\n",
       "      <td>0</td>\n",
       "    </tr>\n",
       "    <tr>\n",
       "      <th>1</th>\n",
       "      <td>0</td>\n",
       "      <td>2509</td>\n",
       "      <td>11493</td>\n",
       "      <td>344730</td>\n",
       "      <td>95</td>\n",
       "      <td>0</td>\n",
       "      <td>0</td>\n",
       "      <td>0</td>\n",
       "      <td>0</td>\n",
       "      <td>0</td>\n",
       "      <td>...</td>\n",
       "      <td>0</td>\n",
       "      <td>0</td>\n",
       "      <td>0</td>\n",
       "      <td>0</td>\n",
       "      <td>0</td>\n",
       "      <td>0</td>\n",
       "      <td>0</td>\n",
       "      <td>0</td>\n",
       "      <td>0</td>\n",
       "      <td>0</td>\n",
       "    </tr>\n",
       "    <tr>\n",
       "      <th>2</th>\n",
       "      <td>0</td>\n",
       "      <td>2509</td>\n",
       "      <td>11493</td>\n",
       "      <td>344730</td>\n",
       "      <td>95</td>\n",
       "      <td>0</td>\n",
       "      <td>0</td>\n",
       "      <td>0</td>\n",
       "      <td>0</td>\n",
       "      <td>0</td>\n",
       "      <td>...</td>\n",
       "      <td>0</td>\n",
       "      <td>0</td>\n",
       "      <td>0</td>\n",
       "      <td>0</td>\n",
       "      <td>0</td>\n",
       "      <td>0</td>\n",
       "      <td>0</td>\n",
       "      <td>0</td>\n",
       "      <td>0</td>\n",
       "      <td>0</td>\n",
       "    </tr>\n",
       "    <tr>\n",
       "      <th>3</th>\n",
       "      <td>0</td>\n",
       "      <td>2509</td>\n",
       "      <td>11493</td>\n",
       "      <td>344730</td>\n",
       "      <td>95</td>\n",
       "      <td>0</td>\n",
       "      <td>0</td>\n",
       "      <td>0</td>\n",
       "      <td>0</td>\n",
       "      <td>0</td>\n",
       "      <td>...</td>\n",
       "      <td>0</td>\n",
       "      <td>0</td>\n",
       "      <td>0</td>\n",
       "      <td>0</td>\n",
       "      <td>0</td>\n",
       "      <td>0</td>\n",
       "      <td>0</td>\n",
       "      <td>0</td>\n",
       "      <td>0</td>\n",
       "      <td>0</td>\n",
       "    </tr>\n",
       "    <tr>\n",
       "      <th>4</th>\n",
       "      <td>0</td>\n",
       "      <td>2509</td>\n",
       "      <td>11493</td>\n",
       "      <td>344730</td>\n",
       "      <td>95</td>\n",
       "      <td>0</td>\n",
       "      <td>0</td>\n",
       "      <td>0</td>\n",
       "      <td>0</td>\n",
       "      <td>0</td>\n",
       "      <td>...</td>\n",
       "      <td>0</td>\n",
       "      <td>0</td>\n",
       "      <td>0</td>\n",
       "      <td>0</td>\n",
       "      <td>0</td>\n",
       "      <td>0</td>\n",
       "      <td>0</td>\n",
       "      <td>0</td>\n",
       "      <td>0</td>\n",
       "      <td>0</td>\n",
       "    </tr>\n",
       "    <tr>\n",
       "      <th>...</th>\n",
       "      <td>...</td>\n",
       "      <td>...</td>\n",
       "      <td>...</td>\n",
       "      <td>...</td>\n",
       "      <td>...</td>\n",
       "      <td>...</td>\n",
       "      <td>...</td>\n",
       "      <td>...</td>\n",
       "      <td>...</td>\n",
       "      <td>...</td>\n",
       "      <td>...</td>\n",
       "      <td>...</td>\n",
       "      <td>...</td>\n",
       "      <td>...</td>\n",
       "      <td>...</td>\n",
       "      <td>...</td>\n",
       "      <td>...</td>\n",
       "      <td>...</td>\n",
       "      <td>...</td>\n",
       "      <td>...</td>\n",
       "      <td>...</td>\n",
       "    </tr>\n",
       "    <tr>\n",
       "      <th>52697</th>\n",
       "      <td>0</td>\n",
       "      <td>149</td>\n",
       "      <td>1350</td>\n",
       "      <td>35367</td>\n",
       "      <td>7</td>\n",
       "      <td>0</td>\n",
       "      <td>0</td>\n",
       "      <td>1</td>\n",
       "      <td>0</td>\n",
       "      <td>0</td>\n",
       "      <td>...</td>\n",
       "      <td>0</td>\n",
       "      <td>0</td>\n",
       "      <td>0</td>\n",
       "      <td>0</td>\n",
       "      <td>0</td>\n",
       "      <td>0</td>\n",
       "      <td>0</td>\n",
       "      <td>0</td>\n",
       "      <td>0</td>\n",
       "      <td>0</td>\n",
       "    </tr>\n",
       "    <tr>\n",
       "      <th>52699</th>\n",
       "      <td>0</td>\n",
       "      <td>687</td>\n",
       "      <td>1350</td>\n",
       "      <td>35367</td>\n",
       "      <td>18</td>\n",
       "      <td>1</td>\n",
       "      <td>0</td>\n",
       "      <td>0</td>\n",
       "      <td>0</td>\n",
       "      <td>0</td>\n",
       "      <td>...</td>\n",
       "      <td>0</td>\n",
       "      <td>0</td>\n",
       "      <td>0</td>\n",
       "      <td>0</td>\n",
       "      <td>0</td>\n",
       "      <td>0</td>\n",
       "      <td>0</td>\n",
       "      <td>0</td>\n",
       "      <td>0</td>\n",
       "      <td>0</td>\n",
       "    </tr>\n",
       "    <tr>\n",
       "      <th>52701</th>\n",
       "      <td>0</td>\n",
       "      <td>687</td>\n",
       "      <td>1350</td>\n",
       "      <td>35367</td>\n",
       "      <td>18</td>\n",
       "      <td>1</td>\n",
       "      <td>0</td>\n",
       "      <td>0</td>\n",
       "      <td>0</td>\n",
       "      <td>0</td>\n",
       "      <td>...</td>\n",
       "      <td>0</td>\n",
       "      <td>0</td>\n",
       "      <td>0</td>\n",
       "      <td>0</td>\n",
       "      <td>0</td>\n",
       "      <td>0</td>\n",
       "      <td>0</td>\n",
       "      <td>0</td>\n",
       "      <td>0</td>\n",
       "      <td>0</td>\n",
       "    </tr>\n",
       "    <tr>\n",
       "      <th>52702</th>\n",
       "      <td>0</td>\n",
       "      <td>687</td>\n",
       "      <td>1350</td>\n",
       "      <td>35367</td>\n",
       "      <td>7</td>\n",
       "      <td>0</td>\n",
       "      <td>0</td>\n",
       "      <td>1</td>\n",
       "      <td>0</td>\n",
       "      <td>0</td>\n",
       "      <td>...</td>\n",
       "      <td>0</td>\n",
       "      <td>0</td>\n",
       "      <td>0</td>\n",
       "      <td>0</td>\n",
       "      <td>0</td>\n",
       "      <td>0</td>\n",
       "      <td>0</td>\n",
       "      <td>0</td>\n",
       "      <td>0</td>\n",
       "      <td>0</td>\n",
       "    </tr>\n",
       "    <tr>\n",
       "      <th>52703</th>\n",
       "      <td>0</td>\n",
       "      <td>687</td>\n",
       "      <td>1350</td>\n",
       "      <td>35367</td>\n",
       "      <td>7</td>\n",
       "      <td>0</td>\n",
       "      <td>0</td>\n",
       "      <td>1</td>\n",
       "      <td>0</td>\n",
       "      <td>0</td>\n",
       "      <td>...</td>\n",
       "      <td>0</td>\n",
       "      <td>0</td>\n",
       "      <td>0</td>\n",
       "      <td>0</td>\n",
       "      <td>0</td>\n",
       "      <td>0</td>\n",
       "      <td>0</td>\n",
       "      <td>0</td>\n",
       "      <td>0</td>\n",
       "      <td>0</td>\n",
       "    </tr>\n",
       "  </tbody>\n",
       "</table>\n",
       "<p>51995 rows × 418 columns</p>\n",
       "</div>"
      ],
      "text/plain": [
       "       DEP_DEL15  AIRLINE_AIRPORT_FLIGHTS_MONTH  AIRPORT_FLIGHTS_MONTH  \\\n",
       "0              0                            479                  11493   \n",
       "1              0                           2509                  11493   \n",
       "2              0                           2509                  11493   \n",
       "3              0                           2509                  11493   \n",
       "4              0                           2509                  11493   \n",
       "...          ...                            ...                    ...   \n",
       "52697          0                            149                   1350   \n",
       "52699          0                            687                   1350   \n",
       "52701          0                            687                   1350   \n",
       "52702          0                            687                   1350   \n",
       "52703          0                            687                   1350   \n",
       "\n",
       "       AVG_MONTHLY_PASS_AIRPORT  CONCURRENT_FLIGHTS  DEP_BLOCK_AFTERNOON  \\\n",
       "0                        344730                   7                    0   \n",
       "1                        344730                  95                    0   \n",
       "2                        344730                  95                    0   \n",
       "3                        344730                  95                    0   \n",
       "4                        344730                  95                    0   \n",
       "...                         ...                 ...                  ...   \n",
       "52697                     35367                   7                    0   \n",
       "52699                     35367                  18                    1   \n",
       "52701                     35367                  18                    1   \n",
       "52702                     35367                   7                    0   \n",
       "52703                     35367                   7                    0   \n",
       "\n",
       "       DEP_BLOCK_EARLY_MORNING  DEP_BLOCK_EVENING  DEP_BLOCK_LATE_NIGHT  \\\n",
       "0                            1                  0                     0   \n",
       "1                            0                  0                     0   \n",
       "2                            0                  0                     0   \n",
       "3                            0                  0                     0   \n",
       "4                            0                  0                     0   \n",
       "...                        ...                ...                   ...   \n",
       "52697                        0                  1                     0   \n",
       "52699                        0                  0                     0   \n",
       "52701                        0                  0                     0   \n",
       "52702                        0                  1                     0   \n",
       "52703                        0                  1                     0   \n",
       "\n",
       "       DEP_BLOCK_MIDDAY  ...  DEPARTING_AIRPORT_Standiford Field  \\\n",
       "0                     0  ...                                   0   \n",
       "1                     0  ...                                   0   \n",
       "2                     0  ...                                   0   \n",
       "3                     0  ...                                   0   \n",
       "4                     0  ...                                   0   \n",
       "...                 ...  ...                                 ...   \n",
       "52697                 0  ...                                   0   \n",
       "52699                 0  ...                                   0   \n",
       "52701                 0  ...                                   0   \n",
       "52702                 0  ...                                   0   \n",
       "52703                 0  ...                                   0   \n",
       "\n",
       "       DEPARTING_AIRPORT_Stapleton International  \\\n",
       "0                                              0   \n",
       "1                                              0   \n",
       "2                                              0   \n",
       "3                                              0   \n",
       "4                                              0   \n",
       "...                                          ...   \n",
       "52697                                          0   \n",
       "52699                                          0   \n",
       "52701                                          0   \n",
       "52702                                          0   \n",
       "52703                                          0   \n",
       "\n",
       "       DEPARTING_AIRPORT_Tampa International  \\\n",
       "0                                          0   \n",
       "1                                          0   \n",
       "2                                          0   \n",
       "3                                          0   \n",
       "4                                          0   \n",
       "...                                      ...   \n",
       "52697                                      0   \n",
       "52699                                      0   \n",
       "52701                                      0   \n",
       "52702                                      0   \n",
       "52703                                      0   \n",
       "\n",
       "       DEPARTING_AIRPORT_Theodore Francis Green State  \\\n",
       "0                                                   0   \n",
       "1                                                   0   \n",
       "2                                                   0   \n",
       "3                                                   0   \n",
       "4                                                   0   \n",
       "...                                               ...   \n",
       "52697                                               0   \n",
       "52699                                               0   \n",
       "52701                                               0   \n",
       "52702                                               0   \n",
       "52703                                               0   \n",
       "\n",
       "       DEPARTING_AIRPORT_Truax Field  DEPARTING_AIRPORT_Tucson International  \\\n",
       "0                                  0                                       0   \n",
       "1                                  0                                       0   \n",
       "2                                  0                                       0   \n",
       "3                                  0                                       0   \n",
       "4                                  0                                       0   \n",
       "...                              ...                                     ...   \n",
       "52697                              0                                       0   \n",
       "52699                              0                                       0   \n",
       "52701                              0                                       0   \n",
       "52702                              0                                       0   \n",
       "52703                              0                                       0   \n",
       "\n",
       "       DEPARTING_AIRPORT_Tulsa International  \\\n",
       "0                                          0   \n",
       "1                                          0   \n",
       "2                                          0   \n",
       "3                                          0   \n",
       "4                                          0   \n",
       "...                                      ...   \n",
       "52697                                      0   \n",
       "52699                                      0   \n",
       "52701                                      0   \n",
       "52702                                      0   \n",
       "52703                                      0   \n",
       "\n",
       "       DEPARTING_AIRPORT_Washington Dulles International  \\\n",
       "0                                                      0   \n",
       "1                                                      0   \n",
       "2                                                      0   \n",
       "3                                                      0   \n",
       "4                                                      0   \n",
       "...                                                  ...   \n",
       "52697                                                  0   \n",
       "52699                                                  0   \n",
       "52701                                                  0   \n",
       "52702                                                  0   \n",
       "52703                                                  0   \n",
       "\n",
       "       DEPARTING_AIRPORT_Will Rogers World  DEPARTING_AIRPORT_William P Hobby  \n",
       "0                                        0                                  0  \n",
       "1                                        0                                  0  \n",
       "2                                        0                                  0  \n",
       "3                                        0                                  0  \n",
       "4                                        0                                  0  \n",
       "...                                    ...                                ...  \n",
       "52697                                    0                                  0  \n",
       "52699                                    0                                  0  \n",
       "52701                                    0                                  0  \n",
       "52702                                    0                                  0  \n",
       "52703                                    0                                  0  \n",
       "\n",
       "[51995 rows x 418 columns]"
      ]
     },
     "execution_count": 10,
     "metadata": {},
     "output_type": "execute_result"
    }
   ],
   "source": [
    "categorical_column = ['DEP_BLOCK','PREVIOUS_AIRPORT','DEPARTING_AIRPORT']\n",
    "airportdatadummies = pd.get_dummies(airportdata, columns=categorical_column)\n",
    "airportdatadummies"
   ]
  },
  {
   "cell_type": "code",
   "execution_count": 11,
   "id": "42d59dc8",
   "metadata": {
    "ExecuteTime": {
     "end_time": "2021-12-08T14:04:54.306203Z",
     "start_time": "2021-12-08T14:04:54.247214Z"
    },
    "scrolled": true
   },
   "outputs": [
    {
     "data": {
      "text/html": [
       "<div>\n",
       "<style scoped>\n",
       "    .dataframe tbody tr th:only-of-type {\n",
       "        vertical-align: middle;\n",
       "    }\n",
       "\n",
       "    .dataframe tbody tr th {\n",
       "        vertical-align: top;\n",
       "    }\n",
       "\n",
       "    .dataframe thead th {\n",
       "        text-align: right;\n",
       "    }\n",
       "</style>\n",
       "<table border=\"1\" class=\"dataframe\">\n",
       "  <thead>\n",
       "    <tr style=\"text-align: right;\">\n",
       "      <th></th>\n",
       "      <th>DEP_DEL15</th>\n",
       "      <th>DEP_BLOCK</th>\n",
       "      <th>AIRLINE_AIRPORT_FLIGHTS_MONTH</th>\n",
       "      <th>PREVIOUS_AIRPORT</th>\n",
       "      <th>AIRPORT_FLIGHTS_MONTH</th>\n",
       "      <th>AVG_MONTHLY_PASS_AIRPORT</th>\n",
       "      <th>DEPARTING_AIRPORT</th>\n",
       "      <th>CONCURRENT_FLIGHTS</th>\n",
       "    </tr>\n",
       "  </thead>\n",
       "  <tbody>\n",
       "    <tr>\n",
       "      <th>0</th>\n",
       "      <td>0</td>\n",
       "      <td>1</td>\n",
       "      <td>479</td>\n",
       "      <td>NONE</td>\n",
       "      <td>11493</td>\n",
       "      <td>344730</td>\n",
       "      <td>Seattle International</td>\n",
       "      <td>7</td>\n",
       "    </tr>\n",
       "    <tr>\n",
       "      <th>1</th>\n",
       "      <td>0</td>\n",
       "      <td>2</td>\n",
       "      <td>2509</td>\n",
       "      <td>NONE</td>\n",
       "      <td>11493</td>\n",
       "      <td>344730</td>\n",
       "      <td>Seattle International</td>\n",
       "      <td>95</td>\n",
       "    </tr>\n",
       "    <tr>\n",
       "      <th>2</th>\n",
       "      <td>0</td>\n",
       "      <td>2</td>\n",
       "      <td>2509</td>\n",
       "      <td>NONE</td>\n",
       "      <td>11493</td>\n",
       "      <td>344730</td>\n",
       "      <td>Seattle International</td>\n",
       "      <td>95</td>\n",
       "    </tr>\n",
       "    <tr>\n",
       "      <th>3</th>\n",
       "      <td>0</td>\n",
       "      <td>2</td>\n",
       "      <td>2509</td>\n",
       "      <td>NONE</td>\n",
       "      <td>11493</td>\n",
       "      <td>344730</td>\n",
       "      <td>Seattle International</td>\n",
       "      <td>95</td>\n",
       "    </tr>\n",
       "    <tr>\n",
       "      <th>4</th>\n",
       "      <td>0</td>\n",
       "      <td>2</td>\n",
       "      <td>2509</td>\n",
       "      <td>NONE</td>\n",
       "      <td>11493</td>\n",
       "      <td>344730</td>\n",
       "      <td>Seattle International</td>\n",
       "      <td>95</td>\n",
       "    </tr>\n",
       "  </tbody>\n",
       "</table>\n",
       "</div>"
      ],
      "text/plain": [
       "   DEP_DEL15 DEP_BLOCK  AIRLINE_AIRPORT_FLIGHTS_MONTH PREVIOUS_AIRPORT  \\\n",
       "0          0         1                            479             NONE   \n",
       "1          0         2                           2509             NONE   \n",
       "2          0         2                           2509             NONE   \n",
       "3          0         2                           2509             NONE   \n",
       "4          0         2                           2509             NONE   \n",
       "\n",
       "   AIRPORT_FLIGHTS_MONTH  AVG_MONTHLY_PASS_AIRPORT      DEPARTING_AIRPORT  \\\n",
       "0                  11493                    344730  Seattle International   \n",
       "1                  11493                    344730  Seattle International   \n",
       "2                  11493                    344730  Seattle International   \n",
       "3                  11493                    344730  Seattle International   \n",
       "4                  11493                    344730  Seattle International   \n",
       "\n",
       "   CONCURRENT_FLIGHTS  \n",
       "0                   7  \n",
       "1                  95  \n",
       "2                  95  \n",
       "3                  95  \n",
       "4                  95  "
      ]
     },
     "execution_count": 11,
     "metadata": {},
     "output_type": "execute_result"
    }
   ],
   "source": [
    "airportdata = airportdata.replace(['EARLY_MORNING', 'MORNING', 'AFTERNOON', 'LATE_NIGHT', 'MIDDAY', 'EVENING'],\n",
    "                              ['1', '2', '3', '4', '5', '6'])\n",
    "airportdata.head(5)"
   ]
  },
  {
   "cell_type": "markdown",
   "id": "2cf636e7",
   "metadata": {},
   "source": [
    "# Graph"
   ]
  },
  {
   "cell_type": "code",
   "execution_count": 12,
   "id": "9d6b82c3",
   "metadata": {
    "ExecuteTime": {
     "end_time": "2021-12-08T14:04:55.720892Z",
     "start_time": "2021-12-08T14:04:55.696896Z"
    },
    "scrolled": true
   },
   "outputs": [
    {
     "data": {
      "text/plain": [
       "[1103,\n",
       " 1126,\n",
       " 1128,\n",
       " 1166,\n",
       " 1179,\n",
       " 1239,\n",
       " 1244,\n",
       " 1287,\n",
       " 1317,\n",
       " 1319,\n",
       " 1333,\n",
       " 1344,\n",
       " 1346,\n",
       " 1350,\n",
       " 1397,\n",
       " 1399,\n",
       " 1532,\n",
       " 1556,\n",
       " 1649,\n",
       " 1655,\n",
       " 1666,\n",
       " 1710,\n",
       " 1792,\n",
       " 1827,\n",
       " 1850,\n",
       " 1878,\n",
       " 1911,\n",
       " 1963,\n",
       " 1970,\n",
       " 2067,\n",
       " 2097,\n",
       " 2277,\n",
       " 2334,\n",
       " 2383,\n",
       " 2409,\n",
       " 2748,\n",
       " 3210,\n",
       " 3264,\n",
       " 3542,\n",
       " 3671,\n",
       " 3703,\n",
       " 3906,\n",
       " 4000,\n",
       " 4055,\n",
       " 4123,\n",
       " 4127,\n",
       " 4316,\n",
       " 4583,\n",
       " 4657,\n",
       " 4841,\n",
       " 4861,\n",
       " 5019,\n",
       " 5021,\n",
       " 5073,\n",
       " 5318,\n",
       " 5498,\n",
       " 5834,\n",
       " 6561,\n",
       " 6745,\n",
       " 7409,\n",
       " 7834,\n",
       " 8326,\n",
       " 8775,\n",
       " 9404,\n",
       " 10167,\n",
       " 10296,\n",
       " 11339,\n",
       " 11479,\n",
       " 11493,\n",
       " 12266,\n",
       " 12743,\n",
       " 13521,\n",
       " 13735,\n",
       " 14101,\n",
       " 14711,\n",
       " 15213,\n",
       " 17680,\n",
       " 19902,\n",
       " 20193,\n",
       " 23873,\n",
       " 24824,\n",
       " 32102]"
      ]
     },
     "execution_count": 12,
     "metadata": {},
     "output_type": "execute_result"
    }
   ],
   "source": [
    "sorted(airportdata[\"AIRPORT_FLIGHTS_MONTH\"].unique())"
   ]
  },
  {
   "cell_type": "code",
   "execution_count": 13,
   "id": "6e3d9f3e",
   "metadata": {
    "ExecuteTime": {
     "end_time": "2021-12-08T14:04:56.281945Z",
     "start_time": "2021-12-08T14:04:56.253911Z"
    }
   },
   "outputs": [],
   "source": [
    "AIRPORT_FLIGHTS_MONTH_1 = airportdata[airportdata[\"AIRPORT_FLIGHTS_MONTH\"] < 1344]\n",
    "AIRPORT_FLIGHTS_MONTH_2 = airportdata[(airportdata[\"AIRPORT_FLIGHTS_MONTH\"] < 1792) & (airportdata[\"AIRPORT_FLIGHTS_MONTH\"] > 1333)]\n",
    "AIRPORT_FLIGHTS_MONTH_3 = airportdata[(airportdata[\"AIRPORT_FLIGHTS_MONTH\"] < 2334) & (airportdata[\"AIRPORT_FLIGHTS_MONTH\"] > 1710)]\n",
    "AIRPORT_FLIGHTS_MONTH_4 = airportdata[(airportdata[\"AIRPORT_FLIGHTS_MONTH\"] > 2277) & (airportdata[\"AIRPORT_FLIGHTS_MONTH\"] < 3906)]"
   ]
  },
  {
   "cell_type": "markdown",
   "id": "b6fa3302",
   "metadata": {},
   "source": [
    "## Count Table"
   ]
  },
  {
   "cell_type": "code",
   "execution_count": 41,
   "id": "6cf4d886",
   "metadata": {
    "ExecuteTime": {
     "end_time": "2021-12-08T14:21:02.890919Z",
     "start_time": "2021-12-08T14:21:02.844879Z"
    }
   },
   "outputs": [
    {
     "data": {
      "text/html": [
       "<div>\n",
       "<style scoped>\n",
       "    .dataframe tbody tr th:only-of-type {\n",
       "        vertical-align: middle;\n",
       "    }\n",
       "\n",
       "    .dataframe tbody tr th {\n",
       "        vertical-align: top;\n",
       "    }\n",
       "\n",
       "    .dataframe thead th {\n",
       "        text-align: right;\n",
       "    }\n",
       "</style>\n",
       "<table border=\"1\" class=\"dataframe\">\n",
       "  <thead>\n",
       "    <tr style=\"text-align: right;\">\n",
       "      <th>DEP_DEL15</th>\n",
       "      <th>0</th>\n",
       "      <th>1</th>\n",
       "    </tr>\n",
       "    <tr>\n",
       "      <th>AIRPORT_FLIGHTS_MONTH</th>\n",
       "      <th></th>\n",
       "      <th></th>\n",
       "    </tr>\n",
       "  </thead>\n",
       "  <tbody>\n",
       "    <tr>\n",
       "      <th>1103</th>\n",
       "      <td>0.215405</td>\n",
       "      <td>0.021156</td>\n",
       "    </tr>\n",
       "    <tr>\n",
       "      <th>1126</th>\n",
       "      <td>0.300029</td>\n",
       "      <td>0.076930</td>\n",
       "    </tr>\n",
       "    <tr>\n",
       "      <th>1128</th>\n",
       "      <td>0.207712</td>\n",
       "      <td>0.061544</td>\n",
       "    </tr>\n",
       "    <tr>\n",
       "      <th>1166</th>\n",
       "      <td>0.175017</td>\n",
       "      <td>0.030772</td>\n",
       "    </tr>\n",
       "    <tr>\n",
       "      <th>1179</th>\n",
       "      <td>0.253871</td>\n",
       "      <td>0.034619</td>\n",
       "    </tr>\n",
       "    <tr>\n",
       "      <th>...</th>\n",
       "      <td>...</td>\n",
       "      <td>...</td>\n",
       "    </tr>\n",
       "    <tr>\n",
       "      <th>19902</th>\n",
       "      <td>3.415713</td>\n",
       "      <td>0.988557</td>\n",
       "    </tr>\n",
       "    <tr>\n",
       "      <th>20193</th>\n",
       "      <td>3.652274</td>\n",
       "      <td>0.634676</td>\n",
       "    </tr>\n",
       "    <tr>\n",
       "      <th>23873</th>\n",
       "      <td>3.852293</td>\n",
       "      <td>1.096259</td>\n",
       "    </tr>\n",
       "    <tr>\n",
       "      <th>24824</th>\n",
       "      <td>3.015675</td>\n",
       "      <td>1.403981</td>\n",
       "    </tr>\n",
       "    <tr>\n",
       "      <th>32102</th>\n",
       "      <td>4.817771</td>\n",
       "      <td>1.123185</td>\n",
       "    </tr>\n",
       "  </tbody>\n",
       "</table>\n",
       "<p>82 rows × 2 columns</p>\n",
       "</div>"
      ],
      "text/plain": [
       "DEP_DEL15                     0         1\n",
       "AIRPORT_FLIGHTS_MONTH                    \n",
       "1103                   0.215405  0.021156\n",
       "1126                   0.300029  0.076930\n",
       "1128                   0.207712  0.061544\n",
       "1166                   0.175017  0.030772\n",
       "1179                   0.253871  0.034619\n",
       "...                         ...       ...\n",
       "19902                  3.415713  0.988557\n",
       "20193                  3.652274  0.634676\n",
       "23873                  3.852293  1.096259\n",
       "24824                  3.015675  1.403981\n",
       "32102                  4.817771  1.123185\n",
       "\n",
       "[82 rows x 2 columns]"
      ]
     },
     "execution_count": 41,
     "metadata": {},
     "output_type": "execute_result"
    }
   ],
   "source": [
    "AFM = pd.crosstab(index=airportdata[\"AIRPORT_FLIGHTS_MONTH\"], \n",
    "                           columns=airportdata[\"DEP_DEL15\"])\n",
    "AFM"
   ]
  },
  {
   "cell_type": "code",
   "execution_count": 78,
   "id": "4add0527",
   "metadata": {
    "ExecuteTime": {
     "end_time": "2021-12-08T14:40:44.543263Z",
     "start_time": "2021-12-08T14:40:44.519960Z"
    }
   },
   "outputs": [
    {
     "name": "stdout",
     "output_type": "stream",
     "text": [
      "4000 : 69.54954954954955 30.45045045045045\n",
      "5834 : 60.2 39.8\n",
      "9404 : 68.57610474631751 31.42389525368249\n",
      "12743 : 69.14016489988221 30.859835100117785\n",
      "24824 : 68.23324630113142 31.76675369886858\n"
     ]
    }
   ],
   "source": [
    "AFM3 = AFM[(AFM[1]/(AFM[0]+AFM[1]))>0.3]\n",
    "for i in AFM3[0].keys():\n",
    "    print(str(i)+\" : \"+str(AFM3[0][i]*100/(AFM3[0][i]+AFM3[1][i]))+\" \"+str(AFM3[1][i]*100/(AFM3[0][i]+AFM3[1][i])))"
   ]
  },
  {
   "cell_type": "code",
   "execution_count": null,
   "id": "a6ced273",
   "metadata": {},
   "outputs": [],
   "source": [
    "AFM3 = AFM[(AFM[1]/(AFM[0]+AFM[1]))>0.3]\n",
    "for i in AFM3[0].keys():\n",
    "    print(si)"
   ]
  },
  {
   "cell_type": "code",
   "execution_count": 38,
   "id": "214d7959",
   "metadata": {
    "ExecuteTime": {
     "end_time": "2021-12-08T14:19:57.378004Z",
     "start_time": "2021-12-08T14:19:57.362002Z"
    }
   },
   "outputs": [
    {
     "data": {
      "text/plain": [
       "DEP_DEL15\n",
       "0    16129\n",
       "1     5587\n",
       "dtype: int64"
      ]
     },
     "execution_count": 38,
     "metadata": {},
     "output_type": "execute_result"
    }
   ],
   "source": [
    "AFM[(AFM[1]/(AFM[0]+AFM[1]))>0.2].sum()"
   ]
  },
  {
   "cell_type": "code",
   "execution_count": 18,
   "id": "8777f690",
   "metadata": {
    "ExecuteTime": {
     "end_time": "2021-12-08T14:08:49.577770Z",
     "start_time": "2021-12-08T14:08:49.550702Z"
    },
    "scrolled": true
   },
   "outputs": [
    {
     "data": {
      "text/html": [
       "<div>\n",
       "<style scoped>\n",
       "    .dataframe tbody tr th:only-of-type {\n",
       "        vertical-align: middle;\n",
       "    }\n",
       "\n",
       "    .dataframe tbody tr th {\n",
       "        vertical-align: top;\n",
       "    }\n",
       "\n",
       "    .dataframe thead th {\n",
       "        text-align: right;\n",
       "    }\n",
       "</style>\n",
       "<table border=\"1\" class=\"dataframe\">\n",
       "  <thead>\n",
       "    <tr style=\"text-align: right;\">\n",
       "      <th>DEP_DEL15</th>\n",
       "      <th>0</th>\n",
       "      <th>1</th>\n",
       "    </tr>\n",
       "    <tr>\n",
       "      <th>AIRPORT_FLIGHTS_MONTH</th>\n",
       "      <th></th>\n",
       "      <th></th>\n",
       "    </tr>\n",
       "  </thead>\n",
       "  <tbody>\n",
       "    <tr>\n",
       "      <th>1103</th>\n",
       "      <td>112</td>\n",
       "      <td>11</td>\n",
       "    </tr>\n",
       "    <tr>\n",
       "      <th>1126</th>\n",
       "      <td>156</td>\n",
       "      <td>40</td>\n",
       "    </tr>\n",
       "    <tr>\n",
       "      <th>1128</th>\n",
       "      <td>108</td>\n",
       "      <td>32</td>\n",
       "    </tr>\n",
       "    <tr>\n",
       "      <th>1166</th>\n",
       "      <td>91</td>\n",
       "      <td>16</td>\n",
       "    </tr>\n",
       "    <tr>\n",
       "      <th>1179</th>\n",
       "      <td>132</td>\n",
       "      <td>18</td>\n",
       "    </tr>\n",
       "    <tr>\n",
       "      <th>1239</th>\n",
       "      <td>110</td>\n",
       "      <td>31</td>\n",
       "    </tr>\n",
       "    <tr>\n",
       "      <th>1244</th>\n",
       "      <td>150</td>\n",
       "      <td>15</td>\n",
       "    </tr>\n",
       "    <tr>\n",
       "      <th>1287</th>\n",
       "      <td>102</td>\n",
       "      <td>18</td>\n",
       "    </tr>\n",
       "    <tr>\n",
       "      <th>1317</th>\n",
       "      <td>136</td>\n",
       "      <td>21</td>\n",
       "    </tr>\n",
       "    <tr>\n",
       "      <th>1319</th>\n",
       "      <td>100</td>\n",
       "      <td>24</td>\n",
       "    </tr>\n",
       "    <tr>\n",
       "      <th>1333</th>\n",
       "      <td>98</td>\n",
       "      <td>38</td>\n",
       "    </tr>\n",
       "  </tbody>\n",
       "</table>\n",
       "</div>"
      ],
      "text/plain": [
       "DEP_DEL15                0   1\n",
       "AIRPORT_FLIGHTS_MONTH         \n",
       "1103                   112  11\n",
       "1126                   156  40\n",
       "1128                   108  32\n",
       "1166                    91  16\n",
       "1179                   132  18\n",
       "1239                   110  31\n",
       "1244                   150  15\n",
       "1287                   102  18\n",
       "1317                   136  21\n",
       "1319                   100  24\n",
       "1333                    98  38"
      ]
     },
     "execution_count": 18,
     "metadata": {},
     "output_type": "execute_result"
    }
   ],
   "source": [
    "YX1 = pd.crosstab(index=AIRPORT_FLIGHTS_MONTH_1[\"AIRPORT_FLIGHTS_MONTH\"], \n",
    "                           columns=AIRPORT_FLIGHTS_MONTH_1[\"DEP_DEL15\"])\n",
    "YX1"
   ]
  },
  {
   "cell_type": "code",
   "execution_count": 31,
   "id": "e23462a1",
   "metadata": {
    "ExecuteTime": {
     "end_time": "2021-12-08T14:13:24.400043Z",
     "start_time": "2021-12-08T14:13:24.378050Z"
    }
   },
   "outputs": [
    {
     "data": {
      "text/html": [
       "<div>\n",
       "<style scoped>\n",
       "    .dataframe tbody tr th:only-of-type {\n",
       "        vertical-align: middle;\n",
       "    }\n",
       "\n",
       "    .dataframe tbody tr th {\n",
       "        vertical-align: top;\n",
       "    }\n",
       "\n",
       "    .dataframe thead th {\n",
       "        text-align: right;\n",
       "    }\n",
       "</style>\n",
       "<table border=\"1\" class=\"dataframe\">\n",
       "  <thead>\n",
       "    <tr style=\"text-align: right;\">\n",
       "      <th>DEP_DEL15</th>\n",
       "      <th>0</th>\n",
       "      <th>1</th>\n",
       "    </tr>\n",
       "    <tr>\n",
       "      <th>AIRPORT_FLIGHTS_MONTH</th>\n",
       "      <th></th>\n",
       "      <th></th>\n",
       "    </tr>\n",
       "  </thead>\n",
       "  <tbody>\n",
       "    <tr>\n",
       "      <th>1126</th>\n",
       "      <td>156</td>\n",
       "      <td>40</td>\n",
       "    </tr>\n",
       "    <tr>\n",
       "      <th>1128</th>\n",
       "      <td>108</td>\n",
       "      <td>32</td>\n",
       "    </tr>\n",
       "    <tr>\n",
       "      <th>1239</th>\n",
       "      <td>110</td>\n",
       "      <td>31</td>\n",
       "    </tr>\n",
       "    <tr>\n",
       "      <th>1317</th>\n",
       "      <td>136</td>\n",
       "      <td>21</td>\n",
       "    </tr>\n",
       "    <tr>\n",
       "      <th>1319</th>\n",
       "      <td>100</td>\n",
       "      <td>24</td>\n",
       "    </tr>\n",
       "    <tr>\n",
       "      <th>1333</th>\n",
       "      <td>98</td>\n",
       "      <td>38</td>\n",
       "    </tr>\n",
       "  </tbody>\n",
       "</table>\n",
       "</div>"
      ],
      "text/plain": [
       "DEP_DEL15                0   1\n",
       "AIRPORT_FLIGHTS_MONTH         \n",
       "1126                   156  40\n",
       "1128                   108  32\n",
       "1239                   110  31\n",
       "1317                   136  21\n",
       "1319                   100  24\n",
       "1333                    98  38"
      ]
     },
     "execution_count": 31,
     "metadata": {},
     "output_type": "execute_result"
    }
   ],
   "source": [
    "YX1[YX1[1]>20]"
   ]
  },
  {
   "cell_type": "code",
   "execution_count": 35,
   "id": "812408c4",
   "metadata": {
    "ExecuteTime": {
     "end_time": "2021-12-08T14:17:39.632423Z",
     "start_time": "2021-12-08T14:17:39.609420Z"
    }
   },
   "outputs": [
    {
     "data": {
      "text/plain": [
       "DEP_DEL15\n",
       "0    1033\n",
       "1     238\n",
       "dtype: int64"
      ]
     },
     "execution_count": 35,
     "metadata": {},
     "output_type": "execute_result"
    }
   ],
   "source": [
    "YX1[(YX1[1]/(YX1[0]+YX1[1]))>0.1].sum()"
   ]
  },
  {
   "cell_type": "code",
   "execution_count": 161,
   "id": "ad5d970b",
   "metadata": {
    "ExecuteTime": {
     "end_time": "2021-12-07T17:32:42.446621Z",
     "start_time": "2021-12-07T17:32:42.395626Z"
    },
    "scrolled": false
   },
   "outputs": [
    {
     "data": {
      "text/html": [
       "<div>\n",
       "<style scoped>\n",
       "    .dataframe tbody tr th:only-of-type {\n",
       "        vertical-align: middle;\n",
       "    }\n",
       "\n",
       "    .dataframe tbody tr th {\n",
       "        vertical-align: top;\n",
       "    }\n",
       "\n",
       "    .dataframe thead th {\n",
       "        text-align: right;\n",
       "    }\n",
       "</style>\n",
       "<table border=\"1\" class=\"dataframe\">\n",
       "  <thead>\n",
       "    <tr style=\"text-align: right;\">\n",
       "      <th>DEP_DEL15</th>\n",
       "      <th>0</th>\n",
       "      <th>1</th>\n",
       "    </tr>\n",
       "    <tr>\n",
       "      <th>AIRPORT_FLIGHTS_MONTH</th>\n",
       "      <th></th>\n",
       "      <th></th>\n",
       "    </tr>\n",
       "  </thead>\n",
       "  <tbody>\n",
       "    <tr>\n",
       "      <th>1344</th>\n",
       "      <td>2.269449</td>\n",
       "      <td>0.403885</td>\n",
       "    </tr>\n",
       "    <tr>\n",
       "      <th>1346</th>\n",
       "      <td>2.000192</td>\n",
       "      <td>0.365420</td>\n",
       "    </tr>\n",
       "    <tr>\n",
       "      <th>1350</th>\n",
       "      <td>2.115588</td>\n",
       "      <td>0.442350</td>\n",
       "    </tr>\n",
       "    <tr>\n",
       "      <th>1397</th>\n",
       "      <td>2.615636</td>\n",
       "      <td>0.557746</td>\n",
       "    </tr>\n",
       "    <tr>\n",
       "      <th>1399</th>\n",
       "      <td>3.000288</td>\n",
       "      <td>0.423118</td>\n",
       "    </tr>\n",
       "    <tr>\n",
       "      <th>1532</th>\n",
       "      <td>2.115588</td>\n",
       "      <td>0.519281</td>\n",
       "    </tr>\n",
       "    <tr>\n",
       "      <th>1556</th>\n",
       "      <td>2.096355</td>\n",
       "      <td>0.769305</td>\n",
       "    </tr>\n",
       "    <tr>\n",
       "      <th>1649</th>\n",
       "      <td>3.211847</td>\n",
       "      <td>0.230791</td>\n",
       "    </tr>\n",
       "    <tr>\n",
       "      <th>1655</th>\n",
       "      <td>2.884893</td>\n",
       "      <td>0.442350</td>\n",
       "    </tr>\n",
       "    <tr>\n",
       "      <th>1666</th>\n",
       "      <td>3.019521</td>\n",
       "      <td>0.615444</td>\n",
       "    </tr>\n",
       "    <tr>\n",
       "      <th>1710</th>\n",
       "      <td>3.077219</td>\n",
       "      <td>0.653909</td>\n",
       "    </tr>\n",
       "  </tbody>\n",
       "</table>\n",
       "</div>"
      ],
      "text/plain": [
       "DEP_DEL15                     0         1\n",
       "AIRPORT_FLIGHTS_MONTH                    \n",
       "1344                   2.269449  0.403885\n",
       "1346                   2.000192  0.365420\n",
       "1350                   2.115588  0.442350\n",
       "1397                   2.615636  0.557746\n",
       "1399                   3.000288  0.423118\n",
       "1532                   2.115588  0.519281\n",
       "1556                   2.096355  0.769305\n",
       "1649                   3.211847  0.230791\n",
       "1655                   2.884893  0.442350\n",
       "1666                   3.019521  0.615444\n",
       "1710                   3.077219  0.653909"
      ]
     },
     "execution_count": 161,
     "metadata": {},
     "output_type": "execute_result"
    }
   ],
   "source": [
    "YX1 = pd.crosstab(index=AIRPORT_FLIGHTS_MONTH_2[\"AIRPORT_FLIGHTS_MONTH\"], \n",
    "                           columns=AIRPORT_FLIGHTS_MONTH_2[\"DEP_DEL15\"])\n",
    "YX1/len(airportdata)*1000"
   ]
  },
  {
   "cell_type": "code",
   "execution_count": 162,
   "id": "28796875",
   "metadata": {
    "ExecuteTime": {
     "end_time": "2021-12-07T17:32:42.446621Z",
     "start_time": "2021-12-07T17:32:42.395626Z"
    }
   },
   "outputs": [
    {
     "data": {
      "text/html": [
       "<div>\n",
       "<style scoped>\n",
       "    .dataframe tbody tr th:only-of-type {\n",
       "        vertical-align: middle;\n",
       "    }\n",
       "\n",
       "    .dataframe tbody tr th {\n",
       "        vertical-align: top;\n",
       "    }\n",
       "\n",
       "    .dataframe thead th {\n",
       "        text-align: right;\n",
       "    }\n",
       "</style>\n",
       "<table border=\"1\" class=\"dataframe\">\n",
       "  <thead>\n",
       "    <tr style=\"text-align: right;\">\n",
       "      <th>DEP_DEL15</th>\n",
       "      <th>0</th>\n",
       "      <th>1</th>\n",
       "    </tr>\n",
       "    <tr>\n",
       "      <th>AIRPORT_FLIGHTS_MONTH</th>\n",
       "      <th></th>\n",
       "      <th></th>\n",
       "    </tr>\n",
       "  </thead>\n",
       "  <tbody>\n",
       "    <tr>\n",
       "      <th>1792</th>\n",
       "      <td>3.192615</td>\n",
       "      <td>0.884700</td>\n",
       "    </tr>\n",
       "    <tr>\n",
       "      <th>1827</th>\n",
       "      <td>2.923358</td>\n",
       "      <td>0.326955</td>\n",
       "    </tr>\n",
       "    <tr>\n",
       "      <th>1850</th>\n",
       "      <td>3.038754</td>\n",
       "      <td>0.769305</td>\n",
       "    </tr>\n",
       "    <tr>\n",
       "      <th>1878</th>\n",
       "      <td>3.154149</td>\n",
       "      <td>0.326955</td>\n",
       "    </tr>\n",
       "    <tr>\n",
       "      <th>1911</th>\n",
       "      <td>3.096452</td>\n",
       "      <td>0.423118</td>\n",
       "    </tr>\n",
       "    <tr>\n",
       "      <th>1963</th>\n",
       "      <td>3.057986</td>\n",
       "      <td>0.730840</td>\n",
       "    </tr>\n",
       "    <tr>\n",
       "      <th>1970</th>\n",
       "      <td>3.115684</td>\n",
       "      <td>0.307722</td>\n",
       "    </tr>\n",
       "    <tr>\n",
       "      <th>2067</th>\n",
       "      <td>2.731032</td>\n",
       "      <td>0.923166</td>\n",
       "    </tr>\n",
       "    <tr>\n",
       "      <th>2097</th>\n",
       "      <td>3.346476</td>\n",
       "      <td>0.769305</td>\n",
       "    </tr>\n",
       "    <tr>\n",
       "      <th>2277</th>\n",
       "      <td>4.154246</td>\n",
       "      <td>0.750072</td>\n",
       "    </tr>\n",
       "  </tbody>\n",
       "</table>\n",
       "</div>"
      ],
      "text/plain": [
       "DEP_DEL15                     0         1\n",
       "AIRPORT_FLIGHTS_MONTH                    \n",
       "1792                   3.192615  0.884700\n",
       "1827                   2.923358  0.326955\n",
       "1850                   3.038754  0.769305\n",
       "1878                   3.154149  0.326955\n",
       "1911                   3.096452  0.423118\n",
       "1963                   3.057986  0.730840\n",
       "1970                   3.115684  0.307722\n",
       "2067                   2.731032  0.923166\n",
       "2097                   3.346476  0.769305\n",
       "2277                   4.154246  0.750072"
      ]
     },
     "execution_count": 162,
     "metadata": {},
     "output_type": "execute_result"
    }
   ],
   "source": [
    "YX1 = pd.crosstab(index=AIRPORT_FLIGHTS_MONTH_3[\"AIRPORT_FLIGHTS_MONTH\"], \n",
    "                           columns=AIRPORT_FLIGHTS_MONTH_3[\"DEP_DEL15\"])\n",
    "YX1/len(airportdata)*1000"
   ]
  },
  {
   "cell_type": "code",
   "execution_count": 163,
   "id": "a24f3906",
   "metadata": {
    "ExecuteTime": {
     "end_time": "2021-12-07T17:32:46.805374Z",
     "start_time": "2021-12-07T17:32:46.748196Z"
    }
   },
   "outputs": [
    {
     "data": {
      "text/html": [
       "<div>\n",
       "<style scoped>\n",
       "    .dataframe tbody tr th:only-of-type {\n",
       "        vertical-align: middle;\n",
       "    }\n",
       "\n",
       "    .dataframe tbody tr th {\n",
       "        vertical-align: top;\n",
       "    }\n",
       "\n",
       "    .dataframe thead th {\n",
       "        text-align: right;\n",
       "    }\n",
       "</style>\n",
       "<table border=\"1\" class=\"dataframe\">\n",
       "  <thead>\n",
       "    <tr style=\"text-align: right;\">\n",
       "      <th>DEP_DEL15</th>\n",
       "      <th>0</th>\n",
       "      <th>1</th>\n",
       "    </tr>\n",
       "    <tr>\n",
       "      <th>AIRPORT_FLIGHTS_MONTH</th>\n",
       "      <th></th>\n",
       "      <th></th>\n",
       "    </tr>\n",
       "  </thead>\n",
       "  <tbody>\n",
       "    <tr>\n",
       "      <th>2334</th>\n",
       "      <td>3.673430</td>\n",
       "      <td>1.115492</td>\n",
       "    </tr>\n",
       "    <tr>\n",
       "      <th>2383</th>\n",
       "      <td>4.673526</td>\n",
       "      <td>1.173190</td>\n",
       "    </tr>\n",
       "    <tr>\n",
       "      <th>2409</th>\n",
       "      <td>3.654198</td>\n",
       "      <td>0.711607</td>\n",
       "    </tr>\n",
       "    <tr>\n",
       "      <th>2748</th>\n",
       "      <td>5.077411</td>\n",
       "      <td>1.269353</td>\n",
       "    </tr>\n",
       "    <tr>\n",
       "      <th>3210</th>\n",
       "      <td>5.154342</td>\n",
       "      <td>0.923166</td>\n",
       "    </tr>\n",
       "    <tr>\n",
       "      <th>3264</th>\n",
       "      <td>5.692855</td>\n",
       "      <td>0.615444</td>\n",
       "    </tr>\n",
       "    <tr>\n",
       "      <th>3542</th>\n",
       "      <td>5.789018</td>\n",
       "      <td>1.519377</td>\n",
       "    </tr>\n",
       "    <tr>\n",
       "      <th>3671</th>\n",
       "      <td>5.135109</td>\n",
       "      <td>1.269353</td>\n",
       "    </tr>\n",
       "    <tr>\n",
       "      <th>3703</th>\n",
       "      <td>5.462064</td>\n",
       "      <td>1.307818</td>\n",
       "    </tr>\n",
       "  </tbody>\n",
       "</table>\n",
       "</div>"
      ],
      "text/plain": [
       "DEP_DEL15                     0         1\n",
       "AIRPORT_FLIGHTS_MONTH                    \n",
       "2334                   3.673430  1.115492\n",
       "2383                   4.673526  1.173190\n",
       "2409                   3.654198  0.711607\n",
       "2748                   5.077411  1.269353\n",
       "3210                   5.154342  0.923166\n",
       "3264                   5.692855  0.615444\n",
       "3542                   5.789018  1.519377\n",
       "3671                   5.135109  1.269353\n",
       "3703                   5.462064  1.307818"
      ]
     },
     "execution_count": 163,
     "metadata": {},
     "output_type": "execute_result"
    }
   ],
   "source": [
    "YX1 = pd.crosstab(index=AIRPORT_FLIGHTS_MONTH_4[\"AIRPORT_FLIGHTS_MONTH\"], \n",
    "                           columns=AIRPORT_FLIGHTS_MONTH_4[\"DEP_DEL15\"])\n",
    "YX1/len(airportdata)*1000"
   ]
  },
  {
   "cell_type": "markdown",
   "id": "6af4db01",
   "metadata": {
    "heading_collapsed": true
   },
   "source": [
    "## Violin Plot"
   ]
  },
  {
   "cell_type": "code",
   "execution_count": 36,
   "id": "2c9a6c25",
   "metadata": {
    "ExecuteTime": {
     "end_time": "2021-12-07T16:28:56.892881Z",
     "start_time": "2021-12-07T16:28:56.213864Z"
    },
    "hidden": true
   },
   "outputs": [
    {
     "data": {
      "text/plain": [
       "<AxesSubplot:xlabel='DEP_DEL15', ylabel='CONCURRENT_FLIGHTS'>"
      ]
     },
     "execution_count": 36,
     "metadata": {},
     "output_type": "execute_result"
    },
    {
     "data": {
      "image/png": "[encoded data removed]",
      "text/plain": [
       "<Figure size 432x288 with 1 Axes>"
      ]
     },
     "metadata": {},
     "output_type": "display_data"
    }
   ],
   "source": [
    "sns.violinplot(x=airportdata.DEP_DEL15 , y=airportdata.CONCURRENT_FLIGHTS)"
   ]
  },
  {
   "cell_type": "code",
   "execution_count": 38,
   "id": "230f928b",
   "metadata": {
    "ExecuteTime": {
     "end_time": "2021-12-07T16:28:57.792873Z",
     "start_time": "2021-12-07T16:28:57.183070Z"
    },
    "hidden": true
   },
   "outputs": [
    {
     "data": {
      "text/plain": [
       "<AxesSubplot:xlabel='DEP_DEL15', ylabel='AIRLINE_AIRPORT_FLIGHTS_MONTH'>"
      ]
     },
     "execution_count": 38,
     "metadata": {},
     "output_type": "execute_result"
    },
    {
     "data": {
      "image/png": "[encoded data removed]",
      "text/plain": [
       "<Figure size 432x288 with 1 Axes>"
      ]
     },
     "metadata": {},
     "output_type": "display_data"
    }
   ],
   "source": [
    "sns.violinplot(x=airportdata.DEP_DEL15 , y=airportdata.AIRLINE_AIRPORT_FLIGHTS_MONTH)"
   ]
  },
  {
   "cell_type": "code",
   "execution_count": 39,
   "id": "8a437c8b",
   "metadata": {
    "ExecuteTime": {
     "end_time": "2021-12-07T16:28:58.545496Z",
     "start_time": "2021-12-07T16:28:57.901313Z"
    },
    "hidden": true,
    "scrolled": true
   },
   "outputs": [
    {
     "data": {
      "text/plain": [
       "<AxesSubplot:xlabel='DEP_DEL15', ylabel='AVG_MONTHLY_PASS_AIRPORT'>"
      ]
     },
     "execution_count": 39,
     "metadata": {},
     "output_type": "execute_result"
    },
    {
     "data": {
      "image/png": "[encoded data removed]",
      "text/plain": [
       "<Figure size 432x288 with 1 Axes>"
      ]
     },
     "metadata": {},
     "output_type": "display_data"
    }
   ],
   "source": [
    "sns.violinplot(x=airportdata.DEP_DEL15 , y=airportdata.AVG_MONTHLY_PASS_AIRPORT)"
   ]
  },
  {
   "cell_type": "markdown",
   "id": "5d2f41b1",
   "metadata": {},
   "source": [
    "# Training"
   ]
  },
  {
   "cell_type": "code",
   "execution_count": 59,
   "id": "90d13396",
   "metadata": {
    "ExecuteTime": {
     "end_time": "2021-12-07T16:37:34.289747Z",
     "start_time": "2021-12-07T16:37:34.176513Z"
    }
   },
   "outputs": [
    {
     "data": {
      "text/html": [
       "<div>\n",
       "<style scoped>\n",
       "    .dataframe tbody tr th:only-of-type {\n",
       "        vertical-align: middle;\n",
       "    }\n",
       "\n",
       "    .dataframe tbody tr th {\n",
       "        vertical-align: top;\n",
       "    }\n",
       "\n",
       "    .dataframe thead th {\n",
       "        text-align: right;\n",
       "    }\n",
       "</style>\n",
       "<table border=\"1\" class=\"dataframe\">\n",
       "  <thead>\n",
       "    <tr style=\"text-align: right;\">\n",
       "      <th></th>\n",
       "      <th>AIRLINE_AIRPORT_FLIGHTS_MONTH</th>\n",
       "      <th>AIRPORT_FLIGHTS_MONTH</th>\n",
       "      <th>AVG_MONTHLY_PASS_AIRPORT</th>\n",
       "      <th>CONCURRENT_FLIGHTS</th>\n",
       "      <th>DEP_BLOCK_1</th>\n",
       "      <th>DEP_BLOCK_2</th>\n",
       "      <th>DEP_BLOCK_3</th>\n",
       "      <th>DEP_BLOCK_4</th>\n",
       "      <th>DEP_BLOCK_5</th>\n",
       "      <th>DEP_BLOCK_6</th>\n",
       "      <th>...</th>\n",
       "      <th>DEPARTING_AIRPORT_Standiford Field</th>\n",
       "      <th>DEPARTING_AIRPORT_Stapleton International</th>\n",
       "      <th>DEPARTING_AIRPORT_Tampa International</th>\n",
       "      <th>DEPARTING_AIRPORT_Theodore Francis Green State</th>\n",
       "      <th>DEPARTING_AIRPORT_Truax Field</th>\n",
       "      <th>DEPARTING_AIRPORT_Tucson International</th>\n",
       "      <th>DEPARTING_AIRPORT_Tulsa International</th>\n",
       "      <th>DEPARTING_AIRPORT_Washington Dulles International</th>\n",
       "      <th>DEPARTING_AIRPORT_Will Rogers World</th>\n",
       "      <th>DEPARTING_AIRPORT_William P Hobby</th>\n",
       "    </tr>\n",
       "  </thead>\n",
       "  <tbody>\n",
       "    <tr>\n",
       "      <th>0</th>\n",
       "      <td>479</td>\n",
       "      <td>11493</td>\n",
       "      <td>344730</td>\n",
       "      <td>7</td>\n",
       "      <td>1</td>\n",
       "      <td>0</td>\n",
       "      <td>0</td>\n",
       "      <td>0</td>\n",
       "      <td>0</td>\n",
       "      <td>0</td>\n",
       "      <td>...</td>\n",
       "      <td>0</td>\n",
       "      <td>0</td>\n",
       "      <td>0</td>\n",
       "      <td>0</td>\n",
       "      <td>0</td>\n",
       "      <td>0</td>\n",
       "      <td>0</td>\n",
       "      <td>0</td>\n",
       "      <td>0</td>\n",
       "      <td>0</td>\n",
       "    </tr>\n",
       "    <tr>\n",
       "      <th>1</th>\n",
       "      <td>2509</td>\n",
       "      <td>11493</td>\n",
       "      <td>344730</td>\n",
       "      <td>95</td>\n",
       "      <td>0</td>\n",
       "      <td>1</td>\n",
       "      <td>0</td>\n",
       "      <td>0</td>\n",
       "      <td>0</td>\n",
       "      <td>0</td>\n",
       "      <td>...</td>\n",
       "      <td>0</td>\n",
       "      <td>0</td>\n",
       "      <td>0</td>\n",
       "      <td>0</td>\n",
       "      <td>0</td>\n",
       "      <td>0</td>\n",
       "      <td>0</td>\n",
       "      <td>0</td>\n",
       "      <td>0</td>\n",
       "      <td>0</td>\n",
       "    </tr>\n",
       "    <tr>\n",
       "      <th>2</th>\n",
       "      <td>2509</td>\n",
       "      <td>11493</td>\n",
       "      <td>344730</td>\n",
       "      <td>95</td>\n",
       "      <td>0</td>\n",
       "      <td>1</td>\n",
       "      <td>0</td>\n",
       "      <td>0</td>\n",
       "      <td>0</td>\n",
       "      <td>0</td>\n",
       "      <td>...</td>\n",
       "      <td>0</td>\n",
       "      <td>0</td>\n",
       "      <td>0</td>\n",
       "      <td>0</td>\n",
       "      <td>0</td>\n",
       "      <td>0</td>\n",
       "      <td>0</td>\n",
       "      <td>0</td>\n",
       "      <td>0</td>\n",
       "      <td>0</td>\n",
       "    </tr>\n",
       "    <tr>\n",
       "      <th>3</th>\n",
       "      <td>2509</td>\n",
       "      <td>11493</td>\n",
       "      <td>344730</td>\n",
       "      <td>95</td>\n",
       "      <td>0</td>\n",
       "      <td>1</td>\n",
       "      <td>0</td>\n",
       "      <td>0</td>\n",
       "      <td>0</td>\n",
       "      <td>0</td>\n",
       "      <td>...</td>\n",
       "      <td>0</td>\n",
       "      <td>0</td>\n",
       "      <td>0</td>\n",
       "      <td>0</td>\n",
       "      <td>0</td>\n",
       "      <td>0</td>\n",
       "      <td>0</td>\n",
       "      <td>0</td>\n",
       "      <td>0</td>\n",
       "      <td>0</td>\n",
       "    </tr>\n",
       "    <tr>\n",
       "      <th>4</th>\n",
       "      <td>2509</td>\n",
       "      <td>11493</td>\n",
       "      <td>344730</td>\n",
       "      <td>95</td>\n",
       "      <td>0</td>\n",
       "      <td>1</td>\n",
       "      <td>0</td>\n",
       "      <td>0</td>\n",
       "      <td>0</td>\n",
       "      <td>0</td>\n",
       "      <td>...</td>\n",
       "      <td>0</td>\n",
       "      <td>0</td>\n",
       "      <td>0</td>\n",
       "      <td>0</td>\n",
       "      <td>0</td>\n",
       "      <td>0</td>\n",
       "      <td>0</td>\n",
       "      <td>0</td>\n",
       "      <td>0</td>\n",
       "      <td>0</td>\n",
       "    </tr>\n",
       "  </tbody>\n",
       "</table>\n",
       "<p>5 rows × 417 columns</p>\n",
       "</div>"
      ],
      "text/plain": [
       "   AIRLINE_AIRPORT_FLIGHTS_MONTH  AIRPORT_FLIGHTS_MONTH  \\\n",
       "0                            479                  11493   \n",
       "1                           2509                  11493   \n",
       "2                           2509                  11493   \n",
       "3                           2509                  11493   \n",
       "4                           2509                  11493   \n",
       "\n",
       "   AVG_MONTHLY_PASS_AIRPORT  CONCURRENT_FLIGHTS  DEP_BLOCK_1  DEP_BLOCK_2  \\\n",
       "0                    344730                   7            1            0   \n",
       "1                    344730                  95            0            1   \n",
       "2                    344730                  95            0            1   \n",
       "3                    344730                  95            0            1   \n",
       "4                    344730                  95            0            1   \n",
       "\n",
       "   DEP_BLOCK_3  DEP_BLOCK_4  DEP_BLOCK_5  DEP_BLOCK_6  ...  \\\n",
       "0            0            0            0            0  ...   \n",
       "1            0            0            0            0  ...   \n",
       "2            0            0            0            0  ...   \n",
       "3            0            0            0            0  ...   \n",
       "4            0            0            0            0  ...   \n",
       "\n",
       "   DEPARTING_AIRPORT_Standiford Field  \\\n",
       "0                                   0   \n",
       "1                                   0   \n",
       "2                                   0   \n",
       "3                                   0   \n",
       "4                                   0   \n",
       "\n",
       "   DEPARTING_AIRPORT_Stapleton International  \\\n",
       "0                                          0   \n",
       "1                                          0   \n",
       "2                                          0   \n",
       "3                                          0   \n",
       "4                                          0   \n",
       "\n",
       "   DEPARTING_AIRPORT_Tampa International  \\\n",
       "0                                      0   \n",
       "1                                      0   \n",
       "2                                      0   \n",
       "3                                      0   \n",
       "4                                      0   \n",
       "\n",
       "   DEPARTING_AIRPORT_Theodore Francis Green State  \\\n",
       "0                                               0   \n",
       "1                                               0   \n",
       "2                                               0   \n",
       "3                                               0   \n",
       "4                                               0   \n",
       "\n",
       "   DEPARTING_AIRPORT_Truax Field  DEPARTING_AIRPORT_Tucson International  \\\n",
       "0                              0                                       0   \n",
       "1                              0                                       0   \n",
       "2                              0                                       0   \n",
       "3                              0                                       0   \n",
       "4                              0                                       0   \n",
       "\n",
       "   DEPARTING_AIRPORT_Tulsa International  \\\n",
       "0                                      0   \n",
       "1                                      0   \n",
       "2                                      0   \n",
       "3                                      0   \n",
       "4                                      0   \n",
       "\n",
       "   DEPARTING_AIRPORT_Washington Dulles International  \\\n",
       "0                                                  0   \n",
       "1                                                  0   \n",
       "2                                                  0   \n",
       "3                                                  0   \n",
       "4                                                  0   \n",
       "\n",
       "   DEPARTING_AIRPORT_Will Rogers World  DEPARTING_AIRPORT_William P Hobby  \n",
       "0                                    0                                  0  \n",
       "1                                    0                                  0  \n",
       "2                                    0                                  0  \n",
       "3                                    0                                  0  \n",
       "4                                    0                                  0  \n",
       "\n",
       "[5 rows x 417 columns]"
      ]
     },
     "execution_count": 59,
     "metadata": {},
     "output_type": "execute_result"
    }
   ],
   "source": [
    "# data_feat yang khusus hanya akan berisi nilai-nilai atribut/fitur/variabel saja.\n",
    "# data_target yang khusus hanya akan berisi label/kelas/target \n",
    "df_feat = airportdatadummies.drop('DEP_DEL15',axis=1) \n",
    "df_feat.head()"
   ]
  },
  {
   "cell_type": "code",
   "execution_count": 60,
   "id": "1d998106",
   "metadata": {
    "ExecuteTime": {
     "end_time": "2021-12-07T16:37:41.374578Z",
     "start_time": "2021-12-07T16:37:41.347229Z"
    }
   },
   "outputs": [
    {
     "data": {
      "text/plain": [
       "0    0\n",
       "1    0\n",
       "2    0\n",
       "3    0\n",
       "4    0\n",
       "Name: DEP_DEL15, dtype: int64"
      ]
     },
     "execution_count": 60,
     "metadata": {},
     "output_type": "execute_result"
    }
   ],
   "source": [
    "# df_target yang khusus hanya akan berisi label/kelas/target\n",
    "df_target = airportdatadummies['DEP_DEL15'] \n",
    "df_target.head()"
   ]
  },
  {
   "cell_type": "code",
   "execution_count": 61,
   "id": "214c506c",
   "metadata": {
    "ExecuteTime": {
     "end_time": "2021-12-07T16:37:43.938203Z",
     "start_time": "2021-12-07T16:37:43.632652Z"
    }
   },
   "outputs": [],
   "source": [
    "X_train, X_test, y_train, y_test = train_test_split(df_feat, df_target, test_size=0.30, random_state=0)"
   ]
  },
  {
   "cell_type": "code",
   "execution_count": 62,
   "id": "a62ed91d",
   "metadata": {
    "ExecuteTime": {
     "end_time": "2021-12-07T16:37:45.096010Z",
     "start_time": "2021-12-07T16:37:45.066356Z"
    }
   },
   "outputs": [
    {
     "data": {
      "text/plain": [
       "0    29162\n",
       "1     7234\n",
       "Name: DEP_DEL15, dtype: int64"
      ]
     },
     "execution_count": 62,
     "metadata": {},
     "output_type": "execute_result"
    }
   ],
   "source": [
    "y_train.value_counts()"
   ]
  },
  {
   "cell_type": "code",
   "execution_count": 63,
   "id": "ba8f08b0",
   "metadata": {
    "ExecuteTime": {
     "end_time": "2021-12-07T16:37:51.373703Z",
     "start_time": "2021-12-07T16:37:46.114262Z"
    },
    "scrolled": true
   },
   "outputs": [
    {
     "data": {
      "text/plain": [
       "1    29162\n",
       "0    29162\n",
       "Name: DEP_DEL15, dtype: int64"
      ]
     },
     "execution_count": 63,
     "metadata": {},
     "output_type": "execute_result"
    }
   ],
   "source": [
    "oversample = imblearn.over_sampling.SMOTE()\n",
    "X_train, y_train = oversample.fit_resample(X_train, y_train)\n",
    "y_train.value_counts()"
   ]
  },
  {
   "cell_type": "markdown",
   "id": "66f27f75",
   "metadata": {},
   "source": [
    "# Modeling"
   ]
  },
  {
   "cell_type": "markdown",
   "id": "34a53358",
   "metadata": {
    "ExecuteTime": {
     "end_time": "2021-12-07T14:44:27.879465Z",
     "start_time": "2021-12-07T14:44:27.866424Z"
    },
    "heading_collapsed": true
   },
   "source": [
    "## XGBoost"
   ]
  },
  {
   "cell_type": "code",
   "execution_count": 64,
   "id": "60d18390",
   "metadata": {
    "ExecuteTime": {
     "end_time": "2021-12-07T16:38:27.352631Z",
     "start_time": "2021-12-07T16:37:57.133248Z"
    },
    "hidden": true
   },
   "outputs": [
    {
     "data": {
      "text/plain": [
       "0.6395281748830053"
      ]
     },
     "execution_count": 64,
     "metadata": {},
     "output_type": "execute_result"
    }
   ],
   "source": [
    "abcmodel = AdaBoostClassifier()\n",
    "abcmodel.fit(X_train, y_train)\n",
    "y_pred = abcmodel.predict(X_test)\n",
    "accuracy_score(y_test, y_pred)"
   ]
  },
  {
   "cell_type": "code",
   "execution_count": 65,
   "id": "f05cb475",
   "metadata": {
    "ExecuteTime": {
     "end_time": "2021-12-07T16:38:27.423600Z",
     "start_time": "2021-12-07T16:38:27.357804Z"
    },
    "hidden": true
   },
   "outputs": [
    {
     "name": "stdout",
     "output_type": "stream",
     "text": [
      "              precision    recall  f1-score   support\n",
      "\n",
      "           0       0.82      0.71      0.76     12534\n",
      "           1       0.23      0.35      0.28      3065\n",
      "\n",
      "    accuracy                           0.64     15599\n",
      "   macro avg       0.52      0.53      0.52     15599\n",
      "weighted avg       0.70      0.64      0.67     15599\n",
      "\n"
     ]
    }
   ],
   "source": [
    "print(classification_report(y_test, y_pred))"
   ]
  },
  {
   "cell_type": "raw",
   "id": "b6486e4f",
   "metadata": {
    "hidden": true
   },
   "source": [
    "import warnings\n",
    "warnings.filterwarnings('ignore')\n",
    "from sklearn.model_selection import GridSearchCV\n",
    "\n",
    "abcmodel = AdaBoostClassifier(random_state=100)\n",
    "params = {\n",
    "    'n_estimators':(50,100),\n",
    "    'learning_rate':[0.5, 1]\n",
    "}\n",
    "gs = GridSearchCV(abcmodel, params)\n",
    "gsmdt.fit(X_trainmdt, y_trainmdt)\n",
    "y_predmdt = gsmdt.predict(X_testmdt)\n",
    "print('Best parameter: ', gsmdt.best_params_)"
   ]
  },
  {
   "cell_type": "raw",
   "id": "95e26426",
   "metadata": {
    "hidden": true
   },
   "source": [
    "abcmodel = AdaBoostClassifier(learning_rate=1.5, n_estimators=1000)\n",
    "abcmodel.fit(X_train, y_train)\n",
    "y_pred = abcmodel.predict(X_test)\n",
    "accuracy_score(y_test, y_pred)"
   ]
  },
  {
   "cell_type": "raw",
   "id": "254bafd9",
   "metadata": {
    "hidden": true
   },
   "source": [
    "print(classification_report(y_test, y_pred))"
   ]
  },
  {
   "cell_type": "code",
   "execution_count": null,
   "id": "c32b17e0",
   "metadata": {
    "hidden": true
   },
   "outputs": [],
   "source": [
    "gbcmodel = GradientBoostingClassifier()\n",
    "gbcmodel.fit(X_train, y_train)\n",
    "y_pred = gbcmodel.predict(X_test)\n",
    "accuracy_score(y_test, y_pred)"
   ]
  },
  {
   "cell_type": "code",
   "execution_count": null,
   "id": "eac963ca",
   "metadata": {
    "hidden": true
   },
   "outputs": [],
   "source": [
    "print(classification_report(y_test, y_pred))"
   ]
  },
  {
   "cell_type": "raw",
   "id": "50cfb47e",
   "metadata": {
    "hidden": true
   },
   "source": [
    "gbcmodel = GradientBoostingClassifier(random_state=100)\n",
    "params = {\n",
    "        'n_estimators':range(1,50),\n",
    "        'learning_rate':[0.001, 0.01, 0.1, 0.2, 0.5, 1]\n",
    "}\n",
    "gsgbcmdt = GridSearchCV(gbcmodel, params)\n",
    "gsgbcmdt.fit(X_trainmdt, y_trainmdt)\n",
    "print('Best parameter: ', gsgbcmdt.best_params_)"
   ]
  },
  {
   "cell_type": "code",
   "execution_count": null,
   "id": "a57eca48",
   "metadata": {
    "hidden": true
   },
   "outputs": [],
   "source": [
    "gbc = GradientBoostingClassifier(learning_rate=1, n_estimators=150)\n",
    "gbc.fit(X_train, y_train)\n",
    "y_pred = gbc.predict(X_test)\n",
    "accuracy_score(y_test, y_pred)"
   ]
  },
  {
   "cell_type": "code",
   "execution_count": null,
   "id": "66a2b362",
   "metadata": {
    "hidden": true
   },
   "outputs": [],
   "source": [
    "print(classification_report(y_test,y_pred))"
   ]
  },
  {
   "cell_type": "markdown",
   "id": "fdd0290c",
   "metadata": {
    "heading_collapsed": true
   },
   "source": [
    "## KNN"
   ]
  },
  {
   "cell_type": "code",
   "execution_count": null,
   "id": "0b2e091a",
   "metadata": {
    "hidden": true
   },
   "outputs": [],
   "source": [
    "knnmodel = neighbors.KNeighborsClassifier(n_neighbors=3)\n",
    "knnmodel.fit(X_train, y_train)\n",
    "y_pred = knnmodel.predict(X_test)\n",
    "accuracy_score(y_test, y_pred)"
   ]
  },
  {
   "cell_type": "code",
   "execution_count": null,
   "id": "62e9e020",
   "metadata": {
    "hidden": true
   },
   "outputs": [],
   "source": [
    "print(classification_report(y_test,y_pred))"
   ]
  },
  {
   "cell_type": "raw",
   "id": "5f97013a",
   "metadata": {
    "hidden": true
   },
   "source": [
    "knn_best = neighbors.KNeighborsClassifier(n_neighbors=3, p = 5, weights = 'distance')\n",
    "knn_best.fit(X_train, y_train)\n",
    "y_pred = knn_best.predict(X_test)\n",
    "print(metrics.accuracy_score(y_test, y_pred))"
   ]
  },
  {
   "cell_type": "raw",
   "id": "556d75e7",
   "metadata": {
    "hidden": true
   },
   "source": [
    "print(classification_report(y_test,y_pred))"
   ]
  },
  {
   "cell_type": "markdown",
   "id": "9ed207ab",
   "metadata": {
    "heading_collapsed": true
   },
   "source": [
    "## SVM"
   ]
  },
  {
   "cell_type": "code",
   "execution_count": 52,
   "id": "510be7cd",
   "metadata": {
    "ExecuteTime": {
     "end_time": "2021-12-05T19:02:27.407673Z",
     "start_time": "2021-12-05T18:50:31.485986Z"
    },
    "hidden": true
   },
   "outputs": [
    {
     "data": {
      "text/plain": [
       "0.47188922366818387"
      ]
     },
     "execution_count": 52,
     "metadata": {},
     "output_type": "execute_result"
    }
   ],
   "source": [
    "svmmodel = SVC(kernel = 'rbf', random_state = 0)\n",
    "svmmodel.fit(X_train, y_train)\n",
    "y_pred =svmmodel.predict(X_test)\n",
    "accuracy_score(y_test,y_pred)"
   ]
  },
  {
   "cell_type": "code",
   "execution_count": 53,
   "id": "e3e72a65",
   "metadata": {
    "ExecuteTime": {
     "end_time": "2021-12-05T19:02:27.486320Z",
     "start_time": "2021-12-05T19:02:27.412844Z"
    },
    "hidden": true,
    "scrolled": false
   },
   "outputs": [
    {
     "name": "stdout",
     "output_type": "stream",
     "text": [
      "              precision    recall  f1-score   support\n",
      "\n",
      "           0       0.82      0.44      0.57     12534\n",
      "           1       0.21      0.62      0.31      3065\n",
      "\n",
      "    accuracy                           0.47     15599\n",
      "   macro avg       0.52      0.53      0.44     15599\n",
      "weighted avg       0.70      0.47      0.52     15599\n",
      "\n"
     ]
    }
   ],
   "source": [
    "print(classification_report(y_test, y_pred))"
   ]
  },
  {
   "cell_type": "markdown",
   "id": "f146647e",
   "metadata": {
    "heading_collapsed": true
   },
   "source": [
    "## Random Forest"
   ]
  },
  {
   "cell_type": "code",
   "execution_count": 38,
   "id": "566bb4ee",
   "metadata": {
    "ExecuteTime": {
     "end_time": "2021-12-05T19:09:31.886846Z",
     "start_time": "2021-12-05T19:07:32.373804Z"
    },
    "hidden": true
   },
   "outputs": [
    {
     "data": {
      "text/plain": [
       "0.773959869222386"
      ]
     },
     "execution_count": 38,
     "metadata": {},
     "output_type": "execute_result"
    }
   ],
   "source": [
    "RFmodel = RandomForestClassifier(n_estimators = 500, criterion = 'entropy', random_state = 0)\n",
    "RFmodel.fit(X_train, y_train)\n",
    "y_pred = RFmodel.predict(X_test)\n",
    "accuracy_score(y_test,y_pred)"
   ]
  },
  {
   "cell_type": "code",
   "execution_count": 39,
   "id": "5ac311e6",
   "metadata": {
    "ExecuteTime": {
     "end_time": "2021-12-05T19:09:31.949333Z",
     "start_time": "2021-12-05T19:09:31.891793Z"
    },
    "hidden": true
   },
   "outputs": [
    {
     "name": "stdout",
     "output_type": "stream",
     "text": [
      "              precision    recall  f1-score   support\n",
      "\n",
      "           0       0.84      0.88      0.86     12534\n",
      "           1       0.41      0.32      0.36      3065\n",
      "\n",
      "    accuracy                           0.77     15599\n",
      "   macro avg       0.62      0.60      0.61     15599\n",
      "weighted avg       0.76      0.77      0.76     15599\n",
      "\n"
     ]
    }
   ],
   "source": [
    "print(classification_report(y_test, y_pred))"
   ]
  },
  {
   "cell_type": "markdown",
   "id": "2584e521",
   "metadata": {
    "heading_collapsed": true
   },
   "source": [
    "## Naive Bayessian"
   ]
  },
  {
   "cell_type": "code",
   "execution_count": 40,
   "id": "4bad3c57",
   "metadata": {
    "ExecuteTime": {
     "end_time": "2021-12-05T19:09:32.245472Z",
     "start_time": "2021-12-05T19:09:31.955330Z"
    },
    "hidden": true
   },
   "outputs": [
    {
     "data": {
      "text/plain": [
       "0.4825950381434707"
      ]
     },
     "execution_count": 40,
     "metadata": {},
     "output_type": "execute_result"
    }
   ],
   "source": [
    "GNBmodel = GaussianNB()\n",
    "GNBmodel.fit(X_train, y_train)\n",
    "GNBmodel.get_params()\n",
    "y_pred = GNBmodel.predict(X_test)\n",
    "accuracy_score(y_test,y_pred)"
   ]
  },
  {
   "cell_type": "code",
   "execution_count": 41,
   "id": "5ee44d0f",
   "metadata": {
    "ExecuteTime": {
     "end_time": "2021-12-05T19:09:32.323760Z",
     "start_time": "2021-12-05T19:09:32.250340Z"
    },
    "hidden": true
   },
   "outputs": [
    {
     "name": "stdout",
     "output_type": "stream",
     "text": [
      "              precision    recall  f1-score   support\n",
      "\n",
      "           0       0.82      0.46      0.59     12534\n",
      "           1       0.21      0.59      0.31      3065\n",
      "\n",
      "    accuracy                           0.48     15599\n",
      "   macro avg       0.51      0.52      0.45     15599\n",
      "weighted avg       0.70      0.48      0.53     15599\n",
      "\n"
     ]
    }
   ],
   "source": [
    "print(classification_report(y_test, y_pred))"
   ]
  },
  {
   "cell_type": "code",
   "execution_count": null,
   "id": "2c0918c7",
   "metadata": {
    "ExecuteTime": {
     "start_time": "2021-12-05T18:50:34.845Z"
    },
    "hidden": true,
    "scrolled": true
   },
   "outputs": [],
   "source": [
    "print('Accuracy without cross validation: ',GNBmodel.score(X_train, y_train))"
   ]
  },
  {
   "cell_type": "markdown",
   "id": "18a981f8",
   "metadata": {},
   "source": [
    "## Linear Regression"
   ]
  },
  {
   "cell_type": "code",
   "execution_count": 69,
   "id": "613a241c",
   "metadata": {
    "ExecuteTime": {
     "end_time": "2021-12-07T16:38:54.914235Z",
     "start_time": "2021-12-07T16:38:53.073331Z"
    }
   },
   "outputs": [
    {
     "data": {
      "text/plain": [
       "{'copy_X': True,\n",
       " 'fit_intercept': True,\n",
       " 'n_jobs': None,\n",
       " 'normalize': 'deprecated',\n",
       " 'positive': False}"
      ]
     },
     "execution_count": 69,
     "metadata": {},
     "output_type": "execute_result"
    }
   ],
   "source": [
    "LinRmodel = LinearRegression()\n",
    "LinRmodel.fit(X_train, y_train)\n",
    "LinRmodel.get_params()"
   ]
  },
  {
   "cell_type": "code",
   "execution_count": 91,
   "id": "71f42e36",
   "metadata": {
    "ExecuteTime": {
     "end_time": "2021-12-07T16:41:39.116422Z",
     "start_time": "2021-12-07T16:41:39.000649Z"
    }
   },
   "outputs": [
    {
     "data": {
      "text/plain": [
       "0.6079235848451824"
      ]
     },
     "execution_count": 91,
     "metadata": {},
     "output_type": "execute_result"
    }
   ],
   "source": [
    "y_pred = LinRmodel.predict(X_test)\n",
    "y_pred[y_pred<0.27] = 0\n",
    "y_pred[y_pred>=0.27] = 1\n",
    "accuracy_score(y_test,y_pred)"
   ]
  },
  {
   "cell_type": "code",
   "execution_count": 92,
   "id": "0a7971fe",
   "metadata": {
    "ExecuteTime": {
     "end_time": "2021-12-07T16:41:39.464157Z",
     "start_time": "2021-12-07T16:41:39.376278Z"
    }
   },
   "outputs": [
    {
     "name": "stdout",
     "output_type": "stream",
     "text": [
      "              precision    recall  f1-score   support\n",
      "\n",
      "           0       0.86      0.61      0.72     12534\n",
      "           1       0.27      0.58      0.37      3065\n",
      "\n",
      "    accuracy                           0.61     15599\n",
      "   macro avg       0.56      0.60      0.54     15599\n",
      "weighted avg       0.74      0.61      0.65     15599\n",
      "\n"
     ]
    }
   ],
   "source": [
    "print(classification_report(y_test, y_pred))"
   ]
  },
  {
   "cell_type": "markdown",
   "id": "d7f45f63",
   "metadata": {},
   "source": [
    "## Logistic Regression"
   ]
  },
  {
   "cell_type": "code",
   "execution_count": 66,
   "id": "86e61557",
   "metadata": {
    "ExecuteTime": {
     "end_time": "2021-12-07T16:38:41.884789Z",
     "start_time": "2021-12-07T16:38:40.349876Z"
    }
   },
   "outputs": [],
   "source": [
    "LogRModel = LogisticRegression()\n",
    "LogRModel.fit(X_train, y_train)\n",
    "LogRModel.get_params()\n",
    "y_pred = LogRModel.predict_proba(X_test)[:,1]\n",
    "y_pred[y_pred<0.515] = 0\n",
    "y_pred[y_pred>=0.515] = 1"
   ]
  },
  {
   "cell_type": "code",
   "execution_count": 67,
   "id": "6db82615",
   "metadata": {
    "ExecuteTime": {
     "end_time": "2021-12-07T16:38:47.420804Z",
     "start_time": "2021-12-07T16:38:47.405227Z"
    }
   },
   "outputs": [
    {
     "name": "stdout",
     "output_type": "stream",
     "text": [
      "Accuracy :  0.6719661516763895\n"
     ]
    }
   ],
   "source": [
    "accuracy = metrics.accuracy_score(y_test, y_pred)\n",
    "print(\"Accuracy : \",accuracy)"
   ]
  },
  {
   "cell_type": "code",
   "execution_count": 68,
   "id": "4c69563c",
   "metadata": {
    "ExecuteTime": {
     "end_time": "2021-12-07T16:38:48.402322Z",
     "start_time": "2021-12-07T16:38:48.326688Z"
    },
    "scrolled": true
   },
   "outputs": [
    {
     "name": "stdout",
     "output_type": "stream",
     "text": [
      "              precision    recall  f1-score   support\n",
      "\n",
      "           0       0.81      0.77      0.79     12534\n",
      "           1       0.22      0.27      0.24      3065\n",
      "\n",
      "    accuracy                           0.67     15599\n",
      "   macro avg       0.52      0.52      0.52     15599\n",
      "weighted avg       0.70      0.67      0.68     15599\n",
      "\n"
     ]
    }
   ],
   "source": [
    "print(classification_report(y_test, y_pred))"
   ]
  },
  {
   "cell_type": "code",
   "execution_count": null,
   "id": "36395df6",
   "metadata": {},
   "outputs": [],
   "source": []
  }
 ],
 "metadata": {
  "kernelspec": {
   "display_name": "Python 3 (ipykernel)",
   "language": "python",
   "name": "python3"
  },
  "language_info": {
   "codemirror_mode": {
    "name": "ipython",
    "version": 3
   },
   "file_extension": ".py",
   "mimetype": "text/x-python",
   "name": "python",
   "nbconvert_exporter": "python",
   "pygments_lexer": "ipython3",
   "version": "3.8.12"
  },
  "toc": {
   "base_numbering": 1,
   "nav_menu": {},
   "number_sections": true,
   "sideBar": true,
   "skip_h1_title": false,
   "title_cell": "Table of Contents",
   "title_sidebar": "Contents",
   "toc_cell": false,
   "toc_position": {},
   "toc_section_display": true,
   "toc_window_display": false
  }
 },
 "nbformat": 4,
 "nbformat_minor": 5
}
