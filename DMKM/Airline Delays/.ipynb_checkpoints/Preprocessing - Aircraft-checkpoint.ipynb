{
 "cells": [
  {
   "cell_type": "markdown",
   "id": "264aa6ed",
   "metadata": {
    "id": "6Vcacb7y14nd"
   },
   "source": [
    "# Input packages and datasets"
   ]
  },
  {
   "cell_type": "code",
   "execution_count": 1,
   "id": "8c856faa",
   "metadata": {
    "ExecuteTime": {
     "end_time": "2021-12-10T09:37:43.782849Z",
     "start_time": "2021-12-10T09:37:40.657760Z"
    },
    "id": "YRsOznqNXSFE"
   },
   "outputs": [],
   "source": [
    "import pandas as pd\n",
    "import numpy as np\n",
    "import seaborn as sns\n",
    "import matplotlib.pyplot as plt"
   ]
  },
  {
   "cell_type": "code",
   "execution_count": 2,
   "id": "5a92670c",
   "metadata": {
    "ExecuteTime": {
     "end_time": "2021-12-10T09:37:44.075817Z",
     "start_time": "2021-12-10T09:37:43.795822Z"
    },
    "id": "AZGdYfeaXURD"
   },
   "outputs": [],
   "source": [
    "data = pd.read_csv('airline_delays.csv')\n",
    "data = data.drop(columns=\"Unnamed: 0\")"
   ]
  },
  {
   "cell_type": "raw",
   "id": "810d110a",
   "metadata": {
    "ExecuteTime": {
     "end_time": "2021-12-05T19:06:32.779785Z",
     "start_time": "2021-12-05T19:06:32.753954Z"
    }
   },
   "source": [
    "from pandas_profiling import ProfileReport\n",
    "profile = ProfileReport(data)\n",
    "profile.to_file(\"mantab.html\")"
   ]
  },
  {
   "cell_type": "raw",
   "id": "613a3b75",
   "metadata": {
    "ExecuteTime": {
     "end_time": "2021-12-05T19:06:32.811193Z",
     "start_time": "2021-12-05T19:06:32.786792Z"
    }
   },
   "source": [
    "DEP_DEL15: \t\t\t\t\t\tTARGET Binary of a departure delay over 15 minutes (1 is yes)\n",
    "DISTANCE_GROUP:\t\t\t\t\tDistance group to be flown by departing aircraft\n",
    "DEP_BLOCK:\t\t\t\t\t\tDeparture block\n",
    "SEGMENT_NUMBER:\t\t\t\t\tThe segment that this tail number is on for the day\n",
    "CONCURRENT_FLIGHTS:\t\t\t\tConcurrent flights leaving from the airport in the same departure block\n",
    "NUMBER_OF_SEATS:\t\t\t\tNumber of seats on the aircraft\n",
    "CARRIER_NAME:\t\t\t\t\tCarrier\n",
    "AIRPORT_FLIGHTS_MONTH:\t\t\tAvg Airport Flights per Month\n",
    "AIRLINE_FLIGHTS_MONTH:\t\t\tAvg Airline Flights per Month\n",
    "AIRLINE_AIRPORT_FLIGHTS_MONTH:\tAvg Flights per month for Airline AND Airport\n",
    "AVG_MONTHLY_PASS_AIRPORT:\t\tAvg Passengers for the departing airport for the month\n",
    "AVG_MONTHLY_PASS_AIRLINE:\t\tAvg Passengers for airline for month\n",
    "FLT_ATTENDANTS_PER_PASS:\t\tFlight attendants per passenger for airline\n",
    "GROUND_SERV_PER_PASS:\t\t\tGround service employees (service desk) per passenger for airline\n",
    "PLANE_AGE:\t\t\t\t\t\tAge of departing aircraft\n",
    "DEPARTING_AIRPORT:\t\t\t\tDeparting Airport\n",
    "LATITUDE:\t\t\t\t\t\tLatitude of departing airport\n",
    "LONGITUDE:\t\t\t\t\t\tLongitude of departing airport\n",
    "PREVIOUS_AIRPORT:\t\t\t\tPrevious airport that aircraft departed from\n",
    "PRCP:\t\t\t\t\t\t\tInches of precipitation for day\n",
    "SNOW:\t\t\t\t\t\t\tInches of snowfall for day\n",
    "SNWD:\t\t\t\t\t\t\tInches of snow on ground for day\n",
    "TMAX:\t\t\t\t\t\t\tMax temperature for day\n",
    "AWND:\t\t\t\t\t\t\tMax wind speed for day"
   ]
  },
  {
   "cell_type": "raw",
   "id": "8581a5ee",
   "metadata": {
    "ExecuteTime": {
     "end_time": "2021-12-05T19:06:32.811193Z",
     "start_time": "2021-12-05T19:06:32.786792Z"
    }
   },
   "source": [
    "Universal\n",
    "DEP_DEL15: \t\t\t\t\t\tTARGET Binary of a departure delay over 15 minutes (1 is yes)\n",
    "DEP_BLOCK:\t\t\t\t\t\tDeparture block\n",
    "AIRLINE_AIRPORT_FLIGHTS_MONTH:\tAvg Flights per month for Airline AND Airport\n",
    "PREVIOUS_AIRPORT:\t\t\t\tPrevious airport that aircraft departed from\n",
    "\n",
    "Airport\n",
    "AIRPORT_FLIGHTS_MONTH:\t\t\tAvg Airport Flights per Month\n",
    "AVG_MONTHLY_PASS_AIRPORT:\t\tAvg Passengers for the departing airport for the month\n",
    "DEPARTING_AIRPORT:\t\t\t\tDeparting Airport\n",
    "CONCURRENT_FLIGHTS:\t\t\t\tConcurrent flights leaving from the airport in the same departure block\n",
    "\n",
    "Airline\n",
    "AIRLINE_FLIGHTS_MONTH:\t\t\tAvg Airline Flights per Month\n",
    "AVG_MONTHLY_PASS_AIRLINE:\t\tAvg Passengers for airline for month\n",
    "FLT_ATTENDANTS_PER_PASS:\t\tFlight attendants per passenger for airline\n",
    "GROUND_SERV_PER_PASS:\t\t\tGround service employees (service desk) per passenger for airline\n",
    "\n",
    "Aircraft\n",
    "NUMBER_OF_SEATS:\t\t\t\tNumber of seats on the aircraft\n",
    "DISTANCE_GROUP:\t\t\t\t\tDistance group to be flown by departing aircraft\n",
    "PLANE_AGE:\t\t\t\t\t\tAge of departing aircraft\n",
    "\n",
    "Environment (Day)\n",
    "SEGMENT_NUMBER:\t\t\t\t\tThe segment that this tail number is on for the day\n",
    "PRCP:\t\t\t\t\t\t\tInches of precipitation for day\n",
    "SNOW:\t\t\t\t\t\t\tInches of snowfall for day\n",
    "SNWD:\t\t\t\t\t\t\tInches of snow on ground for day\n",
    "TMAX:\t\t\t\t\t\t\tMax temperature for day\n",
    "AWND:\t\t\t\t\t\t\tMax wind speed for day\n",
    "\n",
    "Drop\n",
    "CARRIER_NAME:\t\t\t\t\tCarrier\n",
    "LATITUDE:\t\t\t\t\t\tLatitude of departing airport\n",
    "LONGITUDE:\t\t\t\t\t\tLongitude of departing airport"
   ]
  },
  {
   "cell_type": "markdown",
   "id": "c61e51dd",
   "metadata": {
    "id": "2tH-u1eP4ad1"
   },
   "source": [
    "# Preprocessing\n"
   ]
  },
  {
   "cell_type": "code",
   "execution_count": 3,
   "id": "de5ae6cb",
   "metadata": {
    "ExecuteTime": {
     "end_time": "2021-12-10T09:37:44.185818Z",
     "start_time": "2021-12-10T09:37:44.077807Z"
    },
    "scrolled": false
   },
   "outputs": [
    {
     "data": {
      "text/html": [
       "<div>\n",
       "<style scoped>\n",
       "    .dataframe tbody tr th:only-of-type {\n",
       "        vertical-align: middle;\n",
       "    }\n",
       "\n",
       "    .dataframe tbody tr th {\n",
       "        vertical-align: top;\n",
       "    }\n",
       "\n",
       "    .dataframe thead th {\n",
       "        text-align: right;\n",
       "    }\n",
       "</style>\n",
       "<table border=\"1\" class=\"dataframe\">\n",
       "  <thead>\n",
       "    <tr style=\"text-align: right;\">\n",
       "      <th></th>\n",
       "      <th>DEP_DEL15</th>\n",
       "      <th>DISTANCE_GROUP</th>\n",
       "      <th>DEP_BLOCK</th>\n",
       "      <th>SEGMENT_NUMBER</th>\n",
       "      <th>CONCURRENT_FLIGHTS</th>\n",
       "      <th>NUMBER_OF_SEATS</th>\n",
       "      <th>CARRIER_NAME</th>\n",
       "      <th>AIRPORT_FLIGHTS_MONTH</th>\n",
       "      <th>AIRLINE_FLIGHTS_MONTH</th>\n",
       "      <th>AIRLINE_AIRPORT_FLIGHTS_MONTH</th>\n",
       "      <th>...</th>\n",
       "      <th>PLANE_AGE</th>\n",
       "      <th>DEPARTING_AIRPORT</th>\n",
       "      <th>LATITUDE</th>\n",
       "      <th>LONGITUDE</th>\n",
       "      <th>PREVIOUS_AIRPORT</th>\n",
       "      <th>PRCP</th>\n",
       "      <th>SNOW</th>\n",
       "      <th>SNWD</th>\n",
       "      <th>TMAX</th>\n",
       "      <th>AWND</th>\n",
       "    </tr>\n",
       "  </thead>\n",
       "  <tbody>\n",
       "    <tr>\n",
       "      <th>0</th>\n",
       "      <td>0</td>\n",
       "      <td>10</td>\n",
       "      <td>EARLY_MORNING</td>\n",
       "      <td>1</td>\n",
       "      <td>7</td>\n",
       "      <td>187</td>\n",
       "      <td>American Airlines Inc.</td>\n",
       "      <td>11493</td>\n",
       "      <td>75591</td>\n",
       "      <td>479</td>\n",
       "      <td>...</td>\n",
       "      <td>7</td>\n",
       "      <td>Seattle International</td>\n",
       "      <td>47.447</td>\n",
       "      <td>-122.306</td>\n",
       "      <td>NONE</td>\n",
       "      <td>0.16</td>\n",
       "      <td>0.0</td>\n",
       "      <td>0.0</td>\n",
       "      <td>52.0</td>\n",
       "      <td>4.92</td>\n",
       "    </tr>\n",
       "    <tr>\n",
       "      <th>1</th>\n",
       "      <td>0</td>\n",
       "      <td>4</td>\n",
       "      <td>MORNING</td>\n",
       "      <td>1</td>\n",
       "      <td>95</td>\n",
       "      <td>180</td>\n",
       "      <td>Delta Air Lines Inc.</td>\n",
       "      <td>11493</td>\n",
       "      <td>80026</td>\n",
       "      <td>2509</td>\n",
       "      <td>...</td>\n",
       "      <td>0</td>\n",
       "      <td>Seattle International</td>\n",
       "      <td>47.447</td>\n",
       "      <td>-122.306</td>\n",
       "      <td>NONE</td>\n",
       "      <td>0.16</td>\n",
       "      <td>0.0</td>\n",
       "      <td>0.0</td>\n",
       "      <td>52.0</td>\n",
       "      <td>4.92</td>\n",
       "    </tr>\n",
       "    <tr>\n",
       "      <th>2</th>\n",
       "      <td>0</td>\n",
       "      <td>4</td>\n",
       "      <td>MORNING</td>\n",
       "      <td>1</td>\n",
       "      <td>95</td>\n",
       "      <td>160</td>\n",
       "      <td>Delta Air Lines Inc.</td>\n",
       "      <td>11493</td>\n",
       "      <td>80026</td>\n",
       "      <td>2509</td>\n",
       "      <td>...</td>\n",
       "      <td>18</td>\n",
       "      <td>Seattle International</td>\n",
       "      <td>47.447</td>\n",
       "      <td>-122.306</td>\n",
       "      <td>NONE</td>\n",
       "      <td>0.16</td>\n",
       "      <td>0.0</td>\n",
       "      <td>0.0</td>\n",
       "      <td>52.0</td>\n",
       "      <td>4.92</td>\n",
       "    </tr>\n",
       "    <tr>\n",
       "      <th>3</th>\n",
       "      <td>0</td>\n",
       "      <td>5</td>\n",
       "      <td>MORNING</td>\n",
       "      <td>1</td>\n",
       "      <td>95</td>\n",
       "      <td>160</td>\n",
       "      <td>Delta Air Lines Inc.</td>\n",
       "      <td>11493</td>\n",
       "      <td>80026</td>\n",
       "      <td>2509</td>\n",
       "      <td>...</td>\n",
       "      <td>18</td>\n",
       "      <td>Seattle International</td>\n",
       "      <td>47.447</td>\n",
       "      <td>-122.306</td>\n",
       "      <td>NONE</td>\n",
       "      <td>0.16</td>\n",
       "      <td>0.0</td>\n",
       "      <td>0.0</td>\n",
       "      <td>52.0</td>\n",
       "      <td>4.92</td>\n",
       "    </tr>\n",
       "    <tr>\n",
       "      <th>4</th>\n",
       "      <td>0</td>\n",
       "      <td>7</td>\n",
       "      <td>MORNING</td>\n",
       "      <td>1</td>\n",
       "      <td>95</td>\n",
       "      <td>132</td>\n",
       "      <td>Delta Air Lines Inc.</td>\n",
       "      <td>11493</td>\n",
       "      <td>80026</td>\n",
       "      <td>2509</td>\n",
       "      <td>...</td>\n",
       "      <td>18</td>\n",
       "      <td>Seattle International</td>\n",
       "      <td>47.447</td>\n",
       "      <td>-122.306</td>\n",
       "      <td>NONE</td>\n",
       "      <td>0.16</td>\n",
       "      <td>0.0</td>\n",
       "      <td>0.0</td>\n",
       "      <td>52.0</td>\n",
       "      <td>4.92</td>\n",
       "    </tr>\n",
       "  </tbody>\n",
       "</table>\n",
       "<p>5 rows × 24 columns</p>\n",
       "</div>"
      ],
      "text/plain": [
       "   DEP_DEL15  DISTANCE_GROUP      DEP_BLOCK  SEGMENT_NUMBER  \\\n",
       "0          0              10  EARLY_MORNING               1   \n",
       "1          0               4        MORNING               1   \n",
       "2          0               4        MORNING               1   \n",
       "3          0               5        MORNING               1   \n",
       "4          0               7        MORNING               1   \n",
       "\n",
       "   CONCURRENT_FLIGHTS  NUMBER_OF_SEATS            CARRIER_NAME  \\\n",
       "0                   7              187  American Airlines Inc.   \n",
       "1                  95              180    Delta Air Lines Inc.   \n",
       "2                  95              160    Delta Air Lines Inc.   \n",
       "3                  95              160    Delta Air Lines Inc.   \n",
       "4                  95              132    Delta Air Lines Inc.   \n",
       "\n",
       "   AIRPORT_FLIGHTS_MONTH  AIRLINE_FLIGHTS_MONTH  \\\n",
       "0                  11493                  75591   \n",
       "1                  11493                  80026   \n",
       "2                  11493                  80026   \n",
       "3                  11493                  80026   \n",
       "4                  11493                  80026   \n",
       "\n",
       "   AIRLINE_AIRPORT_FLIGHTS_MONTH  ...  PLANE_AGE      DEPARTING_AIRPORT  \\\n",
       "0                            479  ...          7  Seattle International   \n",
       "1                           2509  ...          0  Seattle International   \n",
       "2                           2509  ...         18  Seattle International   \n",
       "3                           2509  ...         18  Seattle International   \n",
       "4                           2509  ...         18  Seattle International   \n",
       "\n",
       "   LATITUDE  LONGITUDE  PREVIOUS_AIRPORT  PRCP  SNOW  SNWD  TMAX  AWND  \n",
       "0    47.447   -122.306              NONE  0.16   0.0   0.0  52.0  4.92  \n",
       "1    47.447   -122.306              NONE  0.16   0.0   0.0  52.0  4.92  \n",
       "2    47.447   -122.306              NONE  0.16   0.0   0.0  52.0  4.92  \n",
       "3    47.447   -122.306              NONE  0.16   0.0   0.0  52.0  4.92  \n",
       "4    47.447   -122.306              NONE  0.16   0.0   0.0  52.0  4.92  \n",
       "\n",
       "[5 rows x 24 columns]"
      ]
     },
     "execution_count": 3,
     "metadata": {},
     "output_type": "execute_result"
    }
   ],
   "source": [
    "data=data.drop_duplicates()\n",
    "data.head(5)"
   ]
  },
  {
   "cell_type": "code",
   "execution_count": 4,
   "id": "9eecd08a",
   "metadata": {
    "ExecuteTime": {
     "end_time": "2021-12-10T09:37:44.232807Z",
     "start_time": "2021-12-10T09:37:44.190814Z"
    },
    "scrolled": false
   },
   "outputs": [
    {
     "data": {
      "text/plain": [
       "DEP_DEL15                          2\n",
       "DEP_BLOCK                          6\n",
       "AIRLINE_AIRPORT_FLIGHTS_MONTH    509\n",
       "PREVIOUS_AIRPORT                 324\n",
       "NUMBER_OF_SEATS                   76\n",
       "DISTANCE_GROUP                    11\n",
       "PLANE_AGE                         33\n",
       "dtype: int64"
      ]
     },
     "execution_count": 4,
     "metadata": {},
     "output_type": "execute_result"
    }
   ],
   "source": [
    "aircraftcolumn = ['DEP_DEL15','DEP_BLOCK','AIRLINE_AIRPORT_FLIGHTS_MONTH','PREVIOUS_AIRPORT','NUMBER_OF_SEATS', 'DISTANCE_GROUP', 'PLANE_AGE']\n",
    "aircraftdata = data[aircraftcolumn]\n",
    "aircraftdata.nunique()"
   ]
  },
  {
   "cell_type": "code",
   "execution_count": 5,
   "id": "108db399",
   "metadata": {
    "ExecuteTime": {
     "end_time": "2021-12-10T09:37:44.263826Z",
     "start_time": "2021-12-10T09:37:44.234809Z"
    },
    "scrolled": true
   },
   "outputs": [
    {
     "name": "stdout",
     "output_type": "stream",
     "text": [
      "<class 'pandas.core.frame.DataFrame'>\n",
      "Int64Index: 51995 entries, 0 to 52703\n",
      "Data columns (total 7 columns):\n",
      " #   Column                         Non-Null Count  Dtype \n",
      "---  ------                         --------------  ----- \n",
      " 0   DEP_DEL15                      51995 non-null  int64 \n",
      " 1   DEP_BLOCK                      51995 non-null  object\n",
      " 2   AIRLINE_AIRPORT_FLIGHTS_MONTH  51995 non-null  int64 \n",
      " 3   PREVIOUS_AIRPORT               51995 non-null  object\n",
      " 4   NUMBER_OF_SEATS                51995 non-null  int64 \n",
      " 5   DISTANCE_GROUP                 51995 non-null  int64 \n",
      " 6   PLANE_AGE                      51995 non-null  int64 \n",
      "dtypes: int64(5), object(2)\n",
      "memory usage: 3.2+ MB\n"
     ]
    }
   ],
   "source": [
    "aircraftdata.info()"
   ]
  },
  {
   "cell_type": "code",
   "execution_count": 6,
   "id": "0ea69624",
   "metadata": {
    "ExecuteTime": {
     "end_time": "2021-12-10T09:37:44.311806Z",
     "start_time": "2021-12-10T09:37:44.268816Z"
    },
    "scrolled": true
   },
   "outputs": [
    {
     "data": {
      "text/html": [
       "<div>\n",
       "<style scoped>\n",
       "    .dataframe tbody tr th:only-of-type {\n",
       "        vertical-align: middle;\n",
       "    }\n",
       "\n",
       "    .dataframe tbody tr th {\n",
       "        vertical-align: top;\n",
       "    }\n",
       "\n",
       "    .dataframe thead th {\n",
       "        text-align: right;\n",
       "    }\n",
       "</style>\n",
       "<table border=\"1\" class=\"dataframe\">\n",
       "  <thead>\n",
       "    <tr style=\"text-align: right;\">\n",
       "      <th></th>\n",
       "      <th>DEP_DEL15</th>\n",
       "      <th>AIRLINE_AIRPORT_FLIGHTS_MONTH</th>\n",
       "      <th>NUMBER_OF_SEATS</th>\n",
       "      <th>DISTANCE_GROUP</th>\n",
       "      <th>PLANE_AGE</th>\n",
       "    </tr>\n",
       "  </thead>\n",
       "  <tbody>\n",
       "    <tr>\n",
       "      <th>count</th>\n",
       "      <td>51995.000000</td>\n",
       "      <td>51995.000000</td>\n",
       "      <td>51995.000000</td>\n",
       "      <td>51995.000000</td>\n",
       "      <td>51995.000000</td>\n",
       "    </tr>\n",
       "    <tr>\n",
       "      <th>mean</th>\n",
       "      <td>0.198077</td>\n",
       "      <td>3304.006154</td>\n",
       "      <td>135.845447</td>\n",
       "      <td>3.956804</td>\n",
       "      <td>11.152226</td>\n",
       "    </tr>\n",
       "    <tr>\n",
       "      <th>std</th>\n",
       "      <td>0.398554</td>\n",
       "      <td>4024.147760</td>\n",
       "      <td>47.598773</td>\n",
       "      <td>2.411933</td>\n",
       "      <td>7.099478</td>\n",
       "    </tr>\n",
       "    <tr>\n",
       "      <th>min</th>\n",
       "      <td>0.000000</td>\n",
       "      <td>1.000000</td>\n",
       "      <td>44.000000</td>\n",
       "      <td>1.000000</td>\n",
       "      <td>0.000000</td>\n",
       "    </tr>\n",
       "    <tr>\n",
       "      <th>25%</th>\n",
       "      <td>0.000000</td>\n",
       "      <td>602.000000</td>\n",
       "      <td>90.000000</td>\n",
       "      <td>2.000000</td>\n",
       "      <td>4.000000</td>\n",
       "    </tr>\n",
       "    <tr>\n",
       "      <th>50%</th>\n",
       "      <td>0.000000</td>\n",
       "      <td>2048.000000</td>\n",
       "      <td>143.000000</td>\n",
       "      <td>3.000000</td>\n",
       "      <td>12.000000</td>\n",
       "    </tr>\n",
       "    <tr>\n",
       "      <th>75%</th>\n",
       "      <td>0.000000</td>\n",
       "      <td>4681.000000</td>\n",
       "      <td>173.000000</td>\n",
       "      <td>5.000000</td>\n",
       "      <td>17.000000</td>\n",
       "    </tr>\n",
       "    <tr>\n",
       "      <th>max</th>\n",
       "      <td>1.000000</td>\n",
       "      <td>19461.000000</td>\n",
       "      <td>337.000000</td>\n",
       "      <td>11.000000</td>\n",
       "      <td>32.000000</td>\n",
       "    </tr>\n",
       "  </tbody>\n",
       "</table>\n",
       "</div>"
      ],
      "text/plain": [
       "          DEP_DEL15  AIRLINE_AIRPORT_FLIGHTS_MONTH  NUMBER_OF_SEATS  \\\n",
       "count  51995.000000                   51995.000000     51995.000000   \n",
       "mean       0.198077                    3304.006154       135.845447   \n",
       "std        0.398554                    4024.147760        47.598773   \n",
       "min        0.000000                       1.000000        44.000000   \n",
       "25%        0.000000                     602.000000        90.000000   \n",
       "50%        0.000000                    2048.000000       143.000000   \n",
       "75%        0.000000                    4681.000000       173.000000   \n",
       "max        1.000000                   19461.000000       337.000000   \n",
       "\n",
       "       DISTANCE_GROUP     PLANE_AGE  \n",
       "count    51995.000000  51995.000000  \n",
       "mean         3.956804     11.152226  \n",
       "std          2.411933      7.099478  \n",
       "min          1.000000      0.000000  \n",
       "25%          2.000000      4.000000  \n",
       "50%          3.000000     12.000000  \n",
       "75%          5.000000     17.000000  \n",
       "max         11.000000     32.000000  "
      ]
     },
     "execution_count": 6,
     "metadata": {},
     "output_type": "execute_result"
    }
   ],
   "source": [
    "aircraftdata.describe()"
   ]
  },
  {
   "cell_type": "code",
   "execution_count": 8,
   "id": "96310a1f",
   "metadata": {
    "ExecuteTime": {
     "end_time": "2021-12-10T09:37:53.285551Z",
     "start_time": "2021-12-10T09:37:53.082547Z"
    }
   },
   "outputs": [
    {
     "data": {
      "text/plain": [
       "<AxesSubplot:xlabel='DEP_DEL15', ylabel='count'>"
      ]
     },
     "execution_count": 8,
     "metadata": {},
     "output_type": "execute_result"
    },
    {
     "data": {
      "image/png": "[encoded data removed]",
      "text/plain": [
       "<Figure size 432x288 with 1 Axes>"
      ]
     },
     "metadata": {},
     "output_type": "display_data"
    }
   ],
   "source": [
    "#Apakah data imbalance?\n",
    "\n",
    "sns.set_style('whitegrid')\n",
    "sns.countplot(x=data['DEP_DEL15'],data=aircraftdata)"
   ]
  },
  {
   "cell_type": "markdown",
   "id": "2cf636e7",
   "metadata": {},
   "source": [
    "# Graph"
   ]
  },
  {
   "cell_type": "markdown",
   "id": "cf9626f2",
   "metadata": {},
   "source": [
    "## Percentage"
   ]
  },
  {
   "cell_type": "markdown",
   "id": "1ee923d3",
   "metadata": {
    "heading_collapsed": true
   },
   "source": [
    "### NUMBER_OF_SEATS"
   ]
  },
  {
   "cell_type": "code",
   "execution_count": 9,
   "id": "2d2e80b8",
   "metadata": {
    "ExecuteTime": {
     "end_time": "2021-12-08T15:39:11.599659Z",
     "start_time": "2021-12-08T15:39:11.517943Z"
    },
    "hidden": true,
    "scrolled": true
   },
   "outputs": [
    {
     "data": {
      "text/html": [
       "<div>\n",
       "<style scoped>\n",
       "    .dataframe tbody tr th:only-of-type {\n",
       "        vertical-align: middle;\n",
       "    }\n",
       "\n",
       "    .dataframe tbody tr th {\n",
       "        vertical-align: top;\n",
       "    }\n",
       "\n",
       "    .dataframe thead th {\n",
       "        text-align: right;\n",
       "    }\n",
       "</style>\n",
       "<table border=\"1\" class=\"dataframe\">\n",
       "  <thead>\n",
       "    <tr style=\"text-align: right;\">\n",
       "      <th>DEP_DEL15</th>\n",
       "      <th>0</th>\n",
       "      <th>1</th>\n",
       "    </tr>\n",
       "    <tr>\n",
       "      <th>NUMBER_OF_SEATS</th>\n",
       "      <th></th>\n",
       "      <th></th>\n",
       "    </tr>\n",
       "  </thead>\n",
       "  <tbody>\n",
       "    <tr>\n",
       "      <th>44</th>\n",
       "      <td>353</td>\n",
       "      <td>112</td>\n",
       "    </tr>\n",
       "    <tr>\n",
       "      <th>50</th>\n",
       "      <td>2122</td>\n",
       "      <td>619</td>\n",
       "    </tr>\n",
       "    <tr>\n",
       "      <th>65</th>\n",
       "      <td>8</td>\n",
       "      <td>4</td>\n",
       "    </tr>\n",
       "    <tr>\n",
       "      <th>66</th>\n",
       "      <td>767</td>\n",
       "      <td>277</td>\n",
       "    </tr>\n",
       "    <tr>\n",
       "      <th>69</th>\n",
       "      <td>194</td>\n",
       "      <td>33</td>\n",
       "    </tr>\n",
       "    <tr>\n",
       "      <th>...</th>\n",
       "      <td>...</td>\n",
       "      <td>...</td>\n",
       "    </tr>\n",
       "    <tr>\n",
       "      <th>288</th>\n",
       "      <td>8</td>\n",
       "      <td>3</td>\n",
       "    </tr>\n",
       "    <tr>\n",
       "      <th>291</th>\n",
       "      <td>128</td>\n",
       "      <td>23</td>\n",
       "    </tr>\n",
       "    <tr>\n",
       "      <th>293</th>\n",
       "      <td>32</td>\n",
       "      <td>4</td>\n",
       "    </tr>\n",
       "    <tr>\n",
       "      <th>294</th>\n",
       "      <td>75</td>\n",
       "      <td>21</td>\n",
       "    </tr>\n",
       "    <tr>\n",
       "      <th>337</th>\n",
       "      <td>21</td>\n",
       "      <td>6</td>\n",
       "    </tr>\n",
       "  </tbody>\n",
       "</table>\n",
       "<p>76 rows × 2 columns</p>\n",
       "</div>"
      ],
      "text/plain": [
       "DEP_DEL15           0    1\n",
       "NUMBER_OF_SEATS           \n",
       "44                353  112\n",
       "50               2122  619\n",
       "65                  8    4\n",
       "66                767  277\n",
       "69                194   33\n",
       "...               ...  ...\n",
       "288                 8    3\n",
       "291               128   23\n",
       "293                32    4\n",
       "294                75   21\n",
       "337                21    6\n",
       "\n",
       "[76 rows x 2 columns]"
      ]
     },
     "execution_count": 9,
     "metadata": {},
     "output_type": "execute_result"
    }
   ],
   "source": [
    "NOS = pd.crosstab(index=aircraftdata[\"NUMBER_OF_SEATS\"], \n",
    "                           columns=aircraftdata[\"DEP_DEL15\"])\n",
    "NOS"
   ]
  },
  {
   "cell_type": "code",
   "execution_count": 10,
   "id": "4c933978",
   "metadata": {
    "ExecuteTime": {
     "end_time": "2021-12-08T15:39:52.897787Z",
     "start_time": "2021-12-08T15:39:52.847482Z"
    },
    "hidden": true,
    "scrolled": true
   },
   "outputs": [
    {
     "name": "stderr",
     "output_type": "stream",
     "text": [
      "C:\\Users\\user\\AppData\\Local\\Temp/ipykernel_8976/2820989965.py:5: SettingWithCopyWarning: \n",
      "A value is trying to be set on a copy of a slice from a DataFrame\n",
      "\n",
      "See the caveats in the documentation: https://pandas.pydata.org/pandas-docs/stable/user_guide/indexing.html#returning-a-view-versus-a-copy\n",
      "  NOSPercent[0][i] =  tempt0*100/(tempt0+tempt1)\n",
      "C:\\Users\\user\\AppData\\Local\\Temp/ipykernel_8976/2820989965.py:6: SettingWithCopyWarning: \n",
      "A value is trying to be set on a copy of a slice from a DataFrame\n",
      "\n",
      "See the caveats in the documentation: https://pandas.pydata.org/pandas-docs/stable/user_guide/indexing.html#returning-a-view-versus-a-copy\n",
      "  NOSPercent[1][i] =  tempt1*100/(tempt0+tempt1)\n"
     ]
    },
    {
     "data": {
      "text/html": [
       "<div>\n",
       "<style scoped>\n",
       "    .dataframe tbody tr th:only-of-type {\n",
       "        vertical-align: middle;\n",
       "    }\n",
       "\n",
       "    .dataframe tbody tr th {\n",
       "        vertical-align: top;\n",
       "    }\n",
       "\n",
       "    .dataframe thead th {\n",
       "        text-align: right;\n",
       "    }\n",
       "</style>\n",
       "<table border=\"1\" class=\"dataframe\">\n",
       "  <thead>\n",
       "    <tr style=\"text-align: right;\">\n",
       "      <th>DEP_DEL15</th>\n",
       "      <th>0</th>\n",
       "      <th>1</th>\n",
       "    </tr>\n",
       "    <tr>\n",
       "      <th>NUMBER_OF_SEATS</th>\n",
       "      <th></th>\n",
       "      <th></th>\n",
       "    </tr>\n",
       "  </thead>\n",
       "  <tbody>\n",
       "    <tr>\n",
       "      <th>65</th>\n",
       "      <td>66</td>\n",
       "      <td>33</td>\n",
       "    </tr>\n",
       "    <tr>\n",
       "      <th>66</th>\n",
       "      <td>73</td>\n",
       "      <td>26</td>\n",
       "    </tr>\n",
       "    <tr>\n",
       "      <th>178</th>\n",
       "      <td>73</td>\n",
       "      <td>26</td>\n",
       "    </tr>\n",
       "    <tr>\n",
       "      <th>208</th>\n",
       "      <td>66</td>\n",
       "      <td>33</td>\n",
       "    </tr>\n",
       "    <tr>\n",
       "      <th>209</th>\n",
       "      <td>62</td>\n",
       "      <td>37</td>\n",
       "    </tr>\n",
       "    <tr>\n",
       "      <th>216</th>\n",
       "      <td>70</td>\n",
       "      <td>29</td>\n",
       "    </tr>\n",
       "    <tr>\n",
       "      <th>230</th>\n",
       "      <td>66</td>\n",
       "      <td>33</td>\n",
       "    </tr>\n",
       "    <tr>\n",
       "      <th>267</th>\n",
       "      <td>71</td>\n",
       "      <td>28</td>\n",
       "    </tr>\n",
       "    <tr>\n",
       "      <th>273</th>\n",
       "      <td>67</td>\n",
       "      <td>32</td>\n",
       "    </tr>\n",
       "    <tr>\n",
       "      <th>288</th>\n",
       "      <td>72</td>\n",
       "      <td>27</td>\n",
       "    </tr>\n",
       "  </tbody>\n",
       "</table>\n",
       "</div>"
      ],
      "text/plain": [
       "DEP_DEL15         0   1\n",
       "NUMBER_OF_SEATS        \n",
       "65               66  33\n",
       "66               73  26\n",
       "178              73  26\n",
       "208              66  33\n",
       "209              62  37\n",
       "216              70  29\n",
       "230              66  33\n",
       "267              71  28\n",
       "273              67  32\n",
       "288              72  27"
      ]
     },
     "execution_count": 10,
     "metadata": {},
     "output_type": "execute_result"
    }
   ],
   "source": [
    "NOSPercent = NOS[(NOS[1]/(NOS[0]+NOS[1]))>0.25]\n",
    "for i in NOSPercent[0].keys():\n",
    "    tempt0 = NOSPercent[0][i]\n",
    "    tempt1 = NOSPercent[1][i]\n",
    "    NOSPercent[0][i] =  tempt0*100/(tempt0+tempt1)\n",
    "    NOSPercent[1][i] =  tempt1*100/(tempt0+tempt1)\n",
    "NOSPercent"
   ]
  },
  {
   "cell_type": "code",
   "execution_count": 11,
   "id": "74955a08",
   "metadata": {
    "ExecuteTime": {
     "end_time": "2021-12-08T15:40:28.689747Z",
     "start_time": "2021-12-08T15:40:28.663259Z"
    },
    "hidden": true
   },
   "outputs": [
    {
     "name": "stdout",
     "output_type": "stream",
     "text": [
      "65 : 66.66666666666667 33.333333333333336\n",
      "66 : 73.46743295019157 26.532567049808428\n",
      "178 : 73.17460317460318 26.825396825396826\n",
      "208 : 66.66666666666667 33.333333333333336\n",
      "209 : 62.16216216216216 37.83783783783784\n",
      "216 : 70.74468085106383 29.25531914893617\n",
      "230 : 66.12903225806451 33.87096774193548\n",
      "267 : 71.42857142857143 28.571428571428573\n",
      "273 : 67.27272727272727 32.72727272727273\n",
      "288 : 72.72727272727273 27.272727272727273\n"
     ]
    }
   ],
   "source": [
    "NOSPercent = NOS[(NOS[1]/(NOS[0]+NOS[1]))>0.25]\n",
    "for i in NOSPercent[0].keys():\n",
    "    print(str(i)+\" : \"+str(NOSPercent[0][i]*100/(NOSPercent[0][i]+NOSPercent[1][i]))+\n",
    "          \" \"+str(NOSPercent[1][i]*100/(NOSPercent[0][i]+NOSPercent[1][i])))"
   ]
  },
  {
   "cell_type": "markdown",
   "id": "09bc2dc0",
   "metadata": {
    "heading_collapsed": true
   },
   "source": [
    "### DISTANCE_GROUP"
   ]
  },
  {
   "cell_type": "code",
   "execution_count": 14,
   "id": "268ad173",
   "metadata": {
    "ExecuteTime": {
     "end_time": "2021-12-08T15:43:04.783946Z",
     "start_time": "2021-12-08T15:43:04.726828Z"
    },
    "hidden": true,
    "scrolled": true
   },
   "outputs": [
    {
     "data": {
      "text/html": [
       "<div>\n",
       "<style scoped>\n",
       "    .dataframe tbody tr th:only-of-type {\n",
       "        vertical-align: middle;\n",
       "    }\n",
       "\n",
       "    .dataframe tbody tr th {\n",
       "        vertical-align: top;\n",
       "    }\n",
       "\n",
       "    .dataframe thead th {\n",
       "        text-align: right;\n",
       "    }\n",
       "</style>\n",
       "<table border=\"1\" class=\"dataframe\">\n",
       "  <thead>\n",
       "    <tr style=\"text-align: right;\">\n",
       "      <th>DEP_DEL15</th>\n",
       "      <th>0</th>\n",
       "      <th>1</th>\n",
       "    </tr>\n",
       "    <tr>\n",
       "      <th>DISTANCE_GROUP</th>\n",
       "      <th></th>\n",
       "      <th></th>\n",
       "    </tr>\n",
       "  </thead>\n",
       "  <tbody>\n",
       "    <tr>\n",
       "      <th>1</th>\n",
       "      <td>4499</td>\n",
       "      <td>1018</td>\n",
       "    </tr>\n",
       "    <tr>\n",
       "      <th>2</th>\n",
       "      <td>9191</td>\n",
       "      <td>1991</td>\n",
       "    </tr>\n",
       "    <tr>\n",
       "      <th>3</th>\n",
       "      <td>8003</td>\n",
       "      <td>1881</td>\n",
       "    </tr>\n",
       "    <tr>\n",
       "      <th>4</th>\n",
       "      <td>6997</td>\n",
       "      <td>1933</td>\n",
       "    </tr>\n",
       "    <tr>\n",
       "      <th>5</th>\n",
       "      <td>5041</td>\n",
       "      <td>1492</td>\n",
       "    </tr>\n",
       "    <tr>\n",
       "      <th>6</th>\n",
       "      <td>2096</td>\n",
       "      <td>480</td>\n",
       "    </tr>\n",
       "    <tr>\n",
       "      <th>7</th>\n",
       "      <td>1852</td>\n",
       "      <td>513</td>\n",
       "    </tr>\n",
       "    <tr>\n",
       "      <th>8</th>\n",
       "      <td>975</td>\n",
       "      <td>280</td>\n",
       "    </tr>\n",
       "    <tr>\n",
       "      <th>9</th>\n",
       "      <td>779</td>\n",
       "      <td>190</td>\n",
       "    </tr>\n",
       "    <tr>\n",
       "      <th>10</th>\n",
       "      <td>1281</td>\n",
       "      <td>299</td>\n",
       "    </tr>\n",
       "    <tr>\n",
       "      <th>11</th>\n",
       "      <td>982</td>\n",
       "      <td>222</td>\n",
       "    </tr>\n",
       "  </tbody>\n",
       "</table>\n",
       "</div>"
      ],
      "text/plain": [
       "DEP_DEL15          0     1\n",
       "DISTANCE_GROUP            \n",
       "1               4499  1018\n",
       "2               9191  1991\n",
       "3               8003  1881\n",
       "4               6997  1933\n",
       "5               5041  1492\n",
       "6               2096   480\n",
       "7               1852   513\n",
       "8                975   280\n",
       "9                779   190\n",
       "10              1281   299\n",
       "11               982   222"
      ]
     },
     "execution_count": 14,
     "metadata": {},
     "output_type": "execute_result"
    }
   ],
   "source": [
    "DG = pd.crosstab(index=aircraftdata[\"DISTANCE_GROUP\"], \n",
    "                           columns=aircraftdata[\"DEP_DEL15\"])\n",
    "DG"
   ]
  },
  {
   "cell_type": "code",
   "execution_count": 16,
   "id": "e55a38d5",
   "metadata": {
    "ExecuteTime": {
     "end_time": "2021-12-08T15:43:17.667665Z",
     "start_time": "2021-12-08T15:43:17.627299Z"
    },
    "hidden": true
   },
   "outputs": [
    {
     "name": "stderr",
     "output_type": "stream",
     "text": [
      "C:\\Users\\user\\AppData\\Local\\Temp/ipykernel_8976/769481722.py:5: SettingWithCopyWarning: \n",
      "A value is trying to be set on a copy of a slice from a DataFrame\n",
      "\n",
      "See the caveats in the documentation: https://pandas.pydata.org/pandas-docs/stable/user_guide/indexing.html#returning-a-view-versus-a-copy\n",
      "  DGPercent[0][i] =  tempt0*100/(tempt0+tempt1)\n",
      "C:\\Users\\user\\AppData\\Local\\Temp/ipykernel_8976/769481722.py:6: SettingWithCopyWarning: \n",
      "A value is trying to be set on a copy of a slice from a DataFrame\n",
      "\n",
      "See the caveats in the documentation: https://pandas.pydata.org/pandas-docs/stable/user_guide/indexing.html#returning-a-view-versus-a-copy\n",
      "  DGPercent[1][i] =  tempt1*100/(tempt0+tempt1)\n"
     ]
    },
    {
     "data": {
      "text/html": [
       "<div>\n",
       "<style scoped>\n",
       "    .dataframe tbody tr th:only-of-type {\n",
       "        vertical-align: middle;\n",
       "    }\n",
       "\n",
       "    .dataframe tbody tr th {\n",
       "        vertical-align: top;\n",
       "    }\n",
       "\n",
       "    .dataframe thead th {\n",
       "        text-align: right;\n",
       "    }\n",
       "</style>\n",
       "<table border=\"1\" class=\"dataframe\">\n",
       "  <thead>\n",
       "    <tr style=\"text-align: right;\">\n",
       "      <th>DEP_DEL15</th>\n",
       "      <th>0</th>\n",
       "      <th>1</th>\n",
       "    </tr>\n",
       "    <tr>\n",
       "      <th>DISTANCE_GROUP</th>\n",
       "      <th></th>\n",
       "      <th></th>\n",
       "    </tr>\n",
       "  </thead>\n",
       "  <tbody>\n",
       "    <tr>\n",
       "      <th>4</th>\n",
       "      <td>78</td>\n",
       "      <td>21</td>\n",
       "    </tr>\n",
       "    <tr>\n",
       "      <th>5</th>\n",
       "      <td>77</td>\n",
       "      <td>22</td>\n",
       "    </tr>\n",
       "    <tr>\n",
       "      <th>7</th>\n",
       "      <td>78</td>\n",
       "      <td>21</td>\n",
       "    </tr>\n",
       "    <tr>\n",
       "      <th>8</th>\n",
       "      <td>77</td>\n",
       "      <td>22</td>\n",
       "    </tr>\n",
       "  </tbody>\n",
       "</table>\n",
       "</div>"
      ],
      "text/plain": [
       "DEP_DEL15        0   1\n",
       "DISTANCE_GROUP        \n",
       "4               78  21\n",
       "5               77  22\n",
       "7               78  21\n",
       "8               77  22"
      ]
     },
     "execution_count": 16,
     "metadata": {},
     "output_type": "execute_result"
    }
   ],
   "source": [
    "DGPercent = DG[(DG[1]/(DG[0]+DG[1]))>0.2]\n",
    "for i in DGPercent[0].keys():\n",
    "    tempt0 = DGPercent[0][i]\n",
    "    tempt1 = DGPercent[1][i]\n",
    "    DGPercent[0][i] =  tempt0*100/(tempt0+tempt1)\n",
    "    DGPercent[1][i] =  tempt1*100/(tempt0+tempt1)\n",
    "DGPercent"
   ]
  },
  {
   "cell_type": "code",
   "execution_count": 18,
   "id": "ce84d321",
   "metadata": {
    "ExecuteTime": {
     "end_time": "2021-12-08T15:43:59.624384Z",
     "start_time": "2021-12-08T15:43:59.595019Z"
    },
    "hidden": true,
    "scrolled": true
   },
   "outputs": [
    {
     "name": "stdout",
     "output_type": "stream",
     "text": [
      "4 : 78.3538633818589 21.646136618141096\n",
      "5 : 77.16210010714832 22.837899892851677\n",
      "7 : 78.30866807610994 21.691331923890065\n",
      "8 : 77.68924302788845 22.310756972111555\n"
     ]
    }
   ],
   "source": [
    "DGPercent = DG[(DG[1]/(DG[0]+DG[1]))>0.2]\n",
    "for i in DGPercent[0].keys():\n",
    "    print(str(i)+\" : \"+str(DGPercent[0][i]*100/(DGPercent[0][i]+DGPercent[1][i]))+\n",
    "          \" \"+str(DGPercent[1][i]*100/(DGPercent[0][i]+DGPercent[1][i])))"
   ]
  },
  {
   "cell_type": "markdown",
   "id": "ff8e6644",
   "metadata": {
    "heading_collapsed": true
   },
   "source": [
    "### PLANE_AGE"
   ]
  },
  {
   "cell_type": "code",
   "execution_count": 19,
   "id": "96532bb7",
   "metadata": {
    "ExecuteTime": {
     "end_time": "2021-12-08T15:45:17.752619Z",
     "start_time": "2021-12-08T15:45:17.672592Z"
    },
    "hidden": true,
    "scrolled": true
   },
   "outputs": [
    {
     "data": {
      "text/html": [
       "<div>\n",
       "<style scoped>\n",
       "    .dataframe tbody tr th:only-of-type {\n",
       "        vertical-align: middle;\n",
       "    }\n",
       "\n",
       "    .dataframe tbody tr th {\n",
       "        vertical-align: top;\n",
       "    }\n",
       "\n",
       "    .dataframe thead th {\n",
       "        text-align: right;\n",
       "    }\n",
       "</style>\n",
       "<table border=\"1\" class=\"dataframe\">\n",
       "  <thead>\n",
       "    <tr style=\"text-align: right;\">\n",
       "      <th>DEP_DEL15</th>\n",
       "      <th>0</th>\n",
       "      <th>1</th>\n",
       "    </tr>\n",
       "    <tr>\n",
       "      <th>PLANE_AGE</th>\n",
       "      <th></th>\n",
       "      <th></th>\n",
       "    </tr>\n",
       "  </thead>\n",
       "  <tbody>\n",
       "    <tr>\n",
       "      <th>0</th>\n",
       "      <td>1561</td>\n",
       "      <td>363</td>\n",
       "    </tr>\n",
       "    <tr>\n",
       "      <th>1</th>\n",
       "      <td>1867</td>\n",
       "      <td>360</td>\n",
       "    </tr>\n",
       "    <tr>\n",
       "      <th>2</th>\n",
       "      <td>2272</td>\n",
       "      <td>539</td>\n",
       "    </tr>\n",
       "    <tr>\n",
       "      <th>3</th>\n",
       "      <td>2734</td>\n",
       "      <td>660</td>\n",
       "    </tr>\n",
       "    <tr>\n",
       "      <th>4</th>\n",
       "      <td>2328</td>\n",
       "      <td>583</td>\n",
       "    </tr>\n",
       "    <tr>\n",
       "      <th>5</th>\n",
       "      <td>2465</td>\n",
       "      <td>586</td>\n",
       "    </tr>\n",
       "    <tr>\n",
       "      <th>6</th>\n",
       "      <td>1523</td>\n",
       "      <td>330</td>\n",
       "    </tr>\n",
       "    <tr>\n",
       "      <th>7</th>\n",
       "      <td>1096</td>\n",
       "      <td>264</td>\n",
       "    </tr>\n",
       "    <tr>\n",
       "      <th>8</th>\n",
       "      <td>784</td>\n",
       "      <td>218</td>\n",
       "    </tr>\n",
       "    <tr>\n",
       "      <th>9</th>\n",
       "      <td>762</td>\n",
       "      <td>220</td>\n",
       "    </tr>\n",
       "    <tr>\n",
       "      <th>10</th>\n",
       "      <td>1065</td>\n",
       "      <td>231</td>\n",
       "    </tr>\n",
       "    <tr>\n",
       "      <th>11</th>\n",
       "      <td>2460</td>\n",
       "      <td>630</td>\n",
       "    </tr>\n",
       "    <tr>\n",
       "      <th>12</th>\n",
       "      <td>1643</td>\n",
       "      <td>491</td>\n",
       "    </tr>\n",
       "    <tr>\n",
       "      <th>13</th>\n",
       "      <td>1668</td>\n",
       "      <td>445</td>\n",
       "    </tr>\n",
       "    <tr>\n",
       "      <th>14</th>\n",
       "      <td>1985</td>\n",
       "      <td>539</td>\n",
       "    </tr>\n",
       "    <tr>\n",
       "      <th>15</th>\n",
       "      <td>2077</td>\n",
       "      <td>617</td>\n",
       "    </tr>\n",
       "    <tr>\n",
       "      <th>16</th>\n",
       "      <td>1746</td>\n",
       "      <td>435</td>\n",
       "    </tr>\n",
       "    <tr>\n",
       "      <th>17</th>\n",
       "      <td>1804</td>\n",
       "      <td>456</td>\n",
       "    </tr>\n",
       "    <tr>\n",
       "      <th>18</th>\n",
       "      <td>2847</td>\n",
       "      <td>681</td>\n",
       "    </tr>\n",
       "    <tr>\n",
       "      <th>19</th>\n",
       "      <td>2296</td>\n",
       "      <td>527</td>\n",
       "    </tr>\n",
       "    <tr>\n",
       "      <th>20</th>\n",
       "      <td>1607</td>\n",
       "      <td>409</td>\n",
       "    </tr>\n",
       "    <tr>\n",
       "      <th>21</th>\n",
       "      <td>1212</td>\n",
       "      <td>266</td>\n",
       "    </tr>\n",
       "    <tr>\n",
       "      <th>22</th>\n",
       "      <td>258</td>\n",
       "      <td>65</td>\n",
       "    </tr>\n",
       "    <tr>\n",
       "      <th>23</th>\n",
       "      <td>252</td>\n",
       "      <td>53</td>\n",
       "    </tr>\n",
       "    <tr>\n",
       "      <th>24</th>\n",
       "      <td>222</td>\n",
       "      <td>52</td>\n",
       "    </tr>\n",
       "    <tr>\n",
       "      <th>25</th>\n",
       "      <td>206</td>\n",
       "      <td>59</td>\n",
       "    </tr>\n",
       "    <tr>\n",
       "      <th>26</th>\n",
       "      <td>157</td>\n",
       "      <td>39</td>\n",
       "    </tr>\n",
       "    <tr>\n",
       "      <th>27</th>\n",
       "      <td>350</td>\n",
       "      <td>88</td>\n",
       "    </tr>\n",
       "    <tr>\n",
       "      <th>28</th>\n",
       "      <td>217</td>\n",
       "      <td>47</td>\n",
       "    </tr>\n",
       "    <tr>\n",
       "      <th>29</th>\n",
       "      <td>176</td>\n",
       "      <td>37</td>\n",
       "    </tr>\n",
       "    <tr>\n",
       "      <th>30</th>\n",
       "      <td>1</td>\n",
       "      <td>2</td>\n",
       "    </tr>\n",
       "    <tr>\n",
       "      <th>31</th>\n",
       "      <td>31</td>\n",
       "      <td>6</td>\n",
       "    </tr>\n",
       "    <tr>\n",
       "      <th>32</th>\n",
       "      <td>24</td>\n",
       "      <td>1</td>\n",
       "    </tr>\n",
       "  </tbody>\n",
       "</table>\n",
       "</div>"
      ],
      "text/plain": [
       "DEP_DEL15     0    1\n",
       "PLANE_AGE           \n",
       "0          1561  363\n",
       "1          1867  360\n",
       "2          2272  539\n",
       "3          2734  660\n",
       "4          2328  583\n",
       "5          2465  586\n",
       "6          1523  330\n",
       "7          1096  264\n",
       "8           784  218\n",
       "9           762  220\n",
       "10         1065  231\n",
       "11         2460  630\n",
       "12         1643  491\n",
       "13         1668  445\n",
       "14         1985  539\n",
       "15         2077  617\n",
       "16         1746  435\n",
       "17         1804  456\n",
       "18         2847  681\n",
       "19         2296  527\n",
       "20         1607  409\n",
       "21         1212  266\n",
       "22          258   65\n",
       "23          252   53\n",
       "24          222   52\n",
       "25          206   59\n",
       "26          157   39\n",
       "27          350   88\n",
       "28          217   47\n",
       "29          176   37\n",
       "30            1    2\n",
       "31           31    6\n",
       "32           24    1"
      ]
     },
     "execution_count": 19,
     "metadata": {},
     "output_type": "execute_result"
    }
   ],
   "source": [
    "PA = pd.crosstab(index=aircraftdata[\"PLANE_AGE\"], \n",
    "                           columns=aircraftdata[\"DEP_DEL15\"])\n",
    "PA"
   ]
  },
  {
   "cell_type": "code",
   "execution_count": 23,
   "id": "4bb89c1e",
   "metadata": {
    "ExecuteTime": {
     "end_time": "2021-12-08T15:46:40.425896Z",
     "start_time": "2021-12-08T15:46:40.388817Z"
    },
    "hidden": true,
    "scrolled": true
   },
   "outputs": [
    {
     "name": "stderr",
     "output_type": "stream",
     "text": [
      "C:\\Users\\user\\AppData\\Local\\Temp/ipykernel_8976/1016336925.py:5: SettingWithCopyWarning: \n",
      "A value is trying to be set on a copy of a slice from a DataFrame\n",
      "\n",
      "See the caveats in the documentation: https://pandas.pydata.org/pandas-docs/stable/user_guide/indexing.html#returning-a-view-versus-a-copy\n",
      "  PAPercent[0][i] =  tempt0*100/(tempt0+tempt1)\n",
      "C:\\Users\\user\\AppData\\Local\\Temp/ipykernel_8976/1016336925.py:6: SettingWithCopyWarning: \n",
      "A value is trying to be set on a copy of a slice from a DataFrame\n",
      "\n",
      "See the caveats in the documentation: https://pandas.pydata.org/pandas-docs/stable/user_guide/indexing.html#returning-a-view-versus-a-copy\n",
      "  PAPercent[1][i] =  tempt1*100/(tempt0+tempt1)\n"
     ]
    },
    {
     "data": {
      "text/html": [
       "<div>\n",
       "<style scoped>\n",
       "    .dataframe tbody tr th:only-of-type {\n",
       "        vertical-align: middle;\n",
       "    }\n",
       "\n",
       "    .dataframe tbody tr th {\n",
       "        vertical-align: top;\n",
       "    }\n",
       "\n",
       "    .dataframe thead th {\n",
       "        text-align: right;\n",
       "    }\n",
       "</style>\n",
       "<table border=\"1\" class=\"dataframe\">\n",
       "  <thead>\n",
       "    <tr style=\"text-align: right;\">\n",
       "      <th>DEP_DEL15</th>\n",
       "      <th>0</th>\n",
       "      <th>1</th>\n",
       "    </tr>\n",
       "    <tr>\n",
       "      <th>PLANE_AGE</th>\n",
       "      <th></th>\n",
       "      <th></th>\n",
       "    </tr>\n",
       "  </thead>\n",
       "  <tbody>\n",
       "    <tr>\n",
       "      <th>4</th>\n",
       "      <td>79</td>\n",
       "      <td>20</td>\n",
       "    </tr>\n",
       "    <tr>\n",
       "      <th>8</th>\n",
       "      <td>78</td>\n",
       "      <td>21</td>\n",
       "    </tr>\n",
       "    <tr>\n",
       "      <th>9</th>\n",
       "      <td>77</td>\n",
       "      <td>22</td>\n",
       "    </tr>\n",
       "    <tr>\n",
       "      <th>11</th>\n",
       "      <td>79</td>\n",
       "      <td>20</td>\n",
       "    </tr>\n",
       "    <tr>\n",
       "      <th>12</th>\n",
       "      <td>76</td>\n",
       "      <td>23</td>\n",
       "    </tr>\n",
       "    <tr>\n",
       "      <th>13</th>\n",
       "      <td>78</td>\n",
       "      <td>21</td>\n",
       "    </tr>\n",
       "    <tr>\n",
       "      <th>14</th>\n",
       "      <td>78</td>\n",
       "      <td>21</td>\n",
       "    </tr>\n",
       "    <tr>\n",
       "      <th>15</th>\n",
       "      <td>77</td>\n",
       "      <td>22</td>\n",
       "    </tr>\n",
       "    <tr>\n",
       "      <th>17</th>\n",
       "      <td>79</td>\n",
       "      <td>20</td>\n",
       "    </tr>\n",
       "    <tr>\n",
       "      <th>20</th>\n",
       "      <td>79</td>\n",
       "      <td>20</td>\n",
       "    </tr>\n",
       "    <tr>\n",
       "      <th>22</th>\n",
       "      <td>79</td>\n",
       "      <td>20</td>\n",
       "    </tr>\n",
       "    <tr>\n",
       "      <th>25</th>\n",
       "      <td>77</td>\n",
       "      <td>22</td>\n",
       "    </tr>\n",
       "    <tr>\n",
       "      <th>27</th>\n",
       "      <td>79</td>\n",
       "      <td>20</td>\n",
       "    </tr>\n",
       "    <tr>\n",
       "      <th>30</th>\n",
       "      <td>33</td>\n",
       "      <td>66</td>\n",
       "    </tr>\n",
       "  </tbody>\n",
       "</table>\n",
       "</div>"
      ],
      "text/plain": [
       "DEP_DEL15   0   1\n",
       "PLANE_AGE        \n",
       "4          79  20\n",
       "8          78  21\n",
       "9          77  22\n",
       "11         79  20\n",
       "12         76  23\n",
       "13         78  21\n",
       "14         78  21\n",
       "15         77  22\n",
       "17         79  20\n",
       "20         79  20\n",
       "22         79  20\n",
       "25         77  22\n",
       "27         79  20\n",
       "30         33  66"
      ]
     },
     "execution_count": 23,
     "metadata": {},
     "output_type": "execute_result"
    }
   ],
   "source": [
    "PAPercent = PAPercent[(PA[1]/(PA[0]+PA[1]))>0.2]\n",
    "for i in PAPercent[0].keys():\n",
    "    tempt0 = PAPercent[0][i]\n",
    "    tempt1 = PAPercent[1][i]\n",
    "    PAPercent[0][i] =  tempt0*100/(tempt0+tempt1)\n",
    "    PAPercent[1][i] =  tempt1*100/(tempt0+tempt1)\n",
    "PAPercent"
   ]
  },
  {
   "cell_type": "code",
   "execution_count": 27,
   "id": "ee439ca0",
   "metadata": {
    "ExecuteTime": {
     "end_time": "2021-12-08T15:47:57.285888Z",
     "start_time": "2021-12-08T15:47:57.257322Z"
    },
    "hidden": true,
    "scrolled": true
   },
   "outputs": [
    {
     "name": "stdout",
     "output_type": "stream",
     "text": [
      "4 : 79.9725180350395 20.027481964960494\n",
      "8 : 78.2435129740519 21.756487025948104\n",
      "9 : 77.59674134419552 22.403258655804482\n",
      "11 : 79.6116504854369 20.388349514563107\n",
      "12 : 76.99156513589503 23.008434864104967\n",
      "13 : 78.93989588263133 21.06010411736867\n",
      "14 : 78.64500792393027 21.35499207606973\n",
      "15 : 77.09725315515962 22.902746844840387\n",
      "17 : 79.82300884955752 20.17699115044248\n",
      "20 : 79.71230158730158 20.28769841269841\n",
      "22 : 79.87616099071208 20.123839009287927\n",
      "25 : 77.73584905660377 22.264150943396228\n",
      "27 : 79.90867579908675 20.091324200913242\n",
      "30 : 33.333333333333336 66.66666666666667\n"
     ]
    }
   ],
   "source": [
    "PAPercent = PA[(PA[1]/(PA[0]+PA[1]))>0.2]\n",
    "for i in PAPercent[0].keys():\n",
    "    print(str(i)+\" : \"+str(PAPercent[0][i]*100/(PAPercent[0][i]+PAPercent[1][i]))+\n",
    "          \" \"+str(PAPercent[1][i]*100/(PAPercent[0][i]+PAPercent[1][i])))"
   ]
  },
  {
   "cell_type": "code",
   "execution_count": null,
   "id": "6d1bf4a5",
   "metadata": {
    "hidden": true
   },
   "outputs": [],
   "source": []
  },
  {
   "cell_type": "markdown",
   "id": "1863e926",
   "metadata": {},
   "source": [
    "## Violin Plot"
   ]
  },
  {
   "cell_type": "code",
   "execution_count": null,
   "id": "db413968",
   "metadata": {
    "ExecuteTime": {
     "end_time": "2021-12-08T15:37:48.851659Z",
     "start_time": "2021-12-08T15:37:48.851659Z"
    }
   },
   "outputs": [],
   "source": [
    "sns.violinplot(x=datagraph.DEP_DEL15 , y=datagraph.DISTANCE_GROUP)"
   ]
  },
  {
   "cell_type": "code",
   "execution_count": null,
   "id": "842c26fa",
   "metadata": {
    "ExecuteTime": {
     "end_time": "2021-12-08T15:37:48.941202Z",
     "start_time": "2021-12-08T15:37:48.941202Z"
    }
   },
   "outputs": [],
   "source": [
    "sns.violinplot(x=datagraph.DEP_DEL15 , y=datagraph.SEGMENT_NUMBER)"
   ]
  },
  {
   "cell_type": "code",
   "execution_count": null,
   "id": "2c9a6c25",
   "metadata": {
    "ExecuteTime": {
     "end_time": "2021-12-08T15:37:48.944503Z",
     "start_time": "2021-12-08T15:37:48.944503Z"
    }
   },
   "outputs": [],
   "source": [
    "sns.violinplot(x=datagraph.DEP_DEL15 , y=datagraph.CONCURRENT_FLIGHTS)"
   ]
  },
  {
   "cell_type": "code",
   "execution_count": null,
   "id": "c7de052e",
   "metadata": {
    "ExecuteTime": {
     "end_time": "2021-12-08T15:37:48.944503Z",
     "start_time": "2021-12-08T15:37:48.944503Z"
    }
   },
   "outputs": [],
   "source": [
    "sns.violinplot(x=datagraph.DEP_DEL15 , y=datagraph.NUMBER_OF_SEATS)"
   ]
  },
  {
   "cell_type": "code",
   "execution_count": null,
   "id": "230f928b",
   "metadata": {
    "ExecuteTime": {
     "end_time": "2021-12-08T15:37:48.951731Z",
     "start_time": "2021-12-08T15:37:48.951731Z"
    }
   },
   "outputs": [],
   "source": [
    "sns.violinplot(x=datagraph.DEP_DEL15 , y=datagraph.AIRLINE_AIRPORT_FLIGHTS_MONTH)"
   ]
  },
  {
   "cell_type": "code",
   "execution_count": null,
   "id": "8a437c8b",
   "metadata": {
    "ExecuteTime": {
     "end_time": "2021-12-08T15:37:48.951731Z",
     "start_time": "2021-12-08T15:37:48.951731Z"
    }
   },
   "outputs": [],
   "source": [
    "sns.violinplot(x=datagraph.DEP_DEL15 , y=datagraph.AVG_MONTHLY_PASS_AIRPORT)"
   ]
  },
  {
   "cell_type": "code",
   "execution_count": null,
   "id": "570c137c",
   "metadata": {
    "ExecuteTime": {
     "end_time": "2021-12-08T15:37:48.958430Z",
     "start_time": "2021-12-08T15:37:48.958430Z"
    }
   },
   "outputs": [],
   "source": [
    "sns.violinplot(x=datagraph.DEP_DEL15 , y=datagraph.AVG_MONTHLY_PASS_AIRLINE)"
   ]
  },
  {
   "cell_type": "code",
   "execution_count": null,
   "id": "0569a912",
   "metadata": {
    "ExecuteTime": {
     "end_time": "2021-12-08T15:37:48.961989Z",
     "start_time": "2021-12-08T15:37:48.961989Z"
    }
   },
   "outputs": [],
   "source": [
    "sns.violinplot(x=datagraph.DEP_DEL15 , y=datagraph.FLT_ATTENDANTS_PER_PASS)"
   ]
  },
  {
   "cell_type": "code",
   "execution_count": null,
   "id": "62516a2f",
   "metadata": {
    "ExecuteTime": {
     "end_time": "2021-12-08T15:37:48.965217Z",
     "start_time": "2021-12-08T15:37:48.965217Z"
    }
   },
   "outputs": [],
   "source": [
    "sns.violinplot(x=datagraph.DEP_DEL15 , y=datagraph.GROUND_SERV_PER_PASS)"
   ]
  },
  {
   "cell_type": "code",
   "execution_count": null,
   "id": "d001dabd",
   "metadata": {
    "ExecuteTime": {
     "end_time": "2021-12-08T15:37:48.970066Z",
     "start_time": "2021-12-08T15:37:48.970066Z"
    }
   },
   "outputs": [],
   "source": [
    "sns.violinplot(x=datagraph.DEP_DEL15 , y=datagraph.PLANE_AGE)"
   ]
  },
  {
   "cell_type": "code",
   "execution_count": null,
   "id": "546b636e",
   "metadata": {
    "ExecuteTime": {
     "end_time": "2021-12-08T15:37:48.972752Z",
     "start_time": "2021-12-08T15:37:48.972752Z"
    }
   },
   "outputs": [],
   "source": [
    "sns.violinplot(x=datagraph.DEP_DEL15 , y=datagraph.PRCP)"
   ]
  },
  {
   "cell_type": "code",
   "execution_count": null,
   "id": "329bf5f3",
   "metadata": {
    "ExecuteTime": {
     "end_time": "2021-12-08T15:37:48.976516Z",
     "start_time": "2021-12-08T15:37:48.976516Z"
    }
   },
   "outputs": [],
   "source": [
    "sns.violinplot(x=datagraph.DEP_DEL15 , y=datagraph.SNOW)"
   ]
  },
  {
   "cell_type": "code",
   "execution_count": null,
   "id": "2d81a87a",
   "metadata": {
    "ExecuteTime": {
     "end_time": "2021-12-08T15:37:48.979800Z",
     "start_time": "2021-12-08T15:37:48.979800Z"
    }
   },
   "outputs": [],
   "source": [
    "sns.violinplot(x=datagraph.DEP_DEL15 , y=datagraph.SNWD)"
   ]
  },
  {
   "cell_type": "code",
   "execution_count": null,
   "id": "00dfcbb7",
   "metadata": {
    "ExecuteTime": {
     "end_time": "2021-12-08T15:37:48.984915Z",
     "start_time": "2021-12-08T15:37:48.984915Z"
    }
   },
   "outputs": [],
   "source": [
    "sns.violinplot(x=datagraph.DEP_DEL15 , y=datagraph.TMAX)"
   ]
  },
  {
   "cell_type": "code",
   "execution_count": null,
   "id": "90f9e92b",
   "metadata": {
    "ExecuteTime": {
     "end_time": "2021-12-08T15:37:48.988406Z",
     "start_time": "2021-12-08T15:37:48.987650Z"
    }
   },
   "outputs": [],
   "source": [
    "sns.violinplot(x=datagraph.DEP_DEL15 , y=datagraph.AWND)"
   ]
  }
 ],
 "metadata": {
  "kernelspec": {
   "display_name": "Python 3 (ipykernel)",
   "language": "python",
   "name": "python3"
  },
  "language_info": {
   "codemirror_mode": {
    "name": "ipython",
    "version": 3
   },
   "file_extension": ".py",
   "mimetype": "text/x-python",
   "name": "python",
   "nbconvert_exporter": "python",
   "pygments_lexer": "ipython3",
   "version": "3.8.12"
  },
  "toc": {
   "base_numbering": 1,
   "nav_menu": {},
   "number_sections": true,
   "sideBar": true,
   "skip_h1_title": false,
   "title_cell": "Table of Contents",
   "title_sidebar": "Contents",
   "toc_cell": false,
   "toc_position": {},
   "toc_section_display": true,
   "toc_window_display": false
  }
 },
 "nbformat": 4,
 "nbformat_minor": 5
}
