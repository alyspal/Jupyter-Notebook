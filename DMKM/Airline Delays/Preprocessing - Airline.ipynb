{
 "cells": [
  {
   "cell_type": "markdown",
   "id": "264aa6ed",
   "metadata": {
    "id": "6Vcacb7y14nd"
   },
   "source": [
    "# Input packages and datasets"
   ]
  },
  {
   "cell_type": "code",
   "execution_count": 1,
   "id": "8c856faa",
   "metadata": {
    "ExecuteTime": {
     "end_time": "2021-12-08T15:28:08.519453Z",
     "start_time": "2021-12-08T15:28:04.374922Z"
    },
    "id": "YRsOznqNXSFE"
   },
   "outputs": [],
   "source": [
    "import pandas as pd\n",
    "import numpy as np\n",
    "import seaborn as sns\n",
    "import matplotlib.pyplot as plt"
   ]
  },
  {
   "cell_type": "code",
   "execution_count": 2,
   "id": "5a92670c",
   "metadata": {
    "ExecuteTime": {
     "end_time": "2021-12-08T15:28:08.964711Z",
     "start_time": "2021-12-08T15:28:08.524892Z"
    },
    "id": "AZGdYfeaXURD"
   },
   "outputs": [],
   "source": [
    "data = pd.read_csv('airline_delays.csv')\n",
    "data = data.drop(columns=\"Unnamed: 0\")"
   ]
  },
  {
   "cell_type": "raw",
   "id": "810d110a",
   "metadata": {
    "ExecuteTime": {
     "end_time": "2021-12-05T19:06:32.779785Z",
     "start_time": "2021-12-05T19:06:32.753954Z"
    }
   },
   "source": [
    "from pandas_profiling import ProfileReport\n",
    "profile = ProfileReport(data)\n",
    "profile.to_file(\"mantab.html\")"
   ]
  },
  {
   "cell_type": "raw",
   "id": "613a3b75",
   "metadata": {
    "ExecuteTime": {
     "end_time": "2021-12-05T19:06:32.811193Z",
     "start_time": "2021-12-05T19:06:32.786792Z"
    }
   },
   "source": [
    "DEP_DEL15: \t\t\t\t\t\tTARGET Binary of a departure delay over 15 minutes (1 is yes)\n",
    "DISTANCE_GROUP:\t\t\t\t\tDistance group to be flown by departing aircraft\n",
    "DEP_BLOCK:\t\t\t\t\t\tDeparture block\n",
    "SEGMENT_NUMBER:\t\t\t\t\tThe segment that this tail number is on for the day\n",
    "CONCURRENT_FLIGHTS:\t\t\t\tConcurrent flights leaving from the airport in the same departure block\n",
    "NUMBER_OF_SEATS:\t\t\t\tNumber of seats on the aircraft\n",
    "CARRIER_NAME:\t\t\t\t\tCarrier\n",
    "AIRPORT_FLIGHTS_MONTH:\t\t\tAvg Airport Flights per Month\n",
    "AIRLINE_FLIGHTS_MONTH:\t\t\tAvg Airline Flights per Month\n",
    "AIRLINE_AIRPORT_FLIGHTS_MONTH:\tAvg Flights per month for Airline AND Airport\n",
    "AVG_MONTHLY_PASS_AIRPORT:\t\tAvg Passengers for the departing airport for the month\n",
    "AVG_MONTHLY_PASS_AIRLINE:\t\tAvg Passengers for airline for month\n",
    "FLT_ATTENDANTS_PER_PASS:\t\tFlight attendants per passenger for airline\n",
    "GROUND_SERV_PER_PASS:\t\t\tGround service employees (service desk) per passenger for airline\n",
    "PLANE_AGE:\t\t\t\t\t\tAge of departing aircraft\n",
    "DEPARTING_AIRPORT:\t\t\t\tDeparting Airport\n",
    "LATITUDE:\t\t\t\t\t\tLatitude of departing airport\n",
    "LONGITUDE:\t\t\t\t\t\tLongitude of departing airport\n",
    "PREVIOUS_AIRPORT:\t\t\t\tPrevious airport that aircraft departed from\n",
    "PRCP:\t\t\t\t\t\t\tInches of precipitation for day\n",
    "SNOW:\t\t\t\t\t\t\tInches of snowfall for day\n",
    "SNWD:\t\t\t\t\t\t\tInches of snow on ground for day\n",
    "TMAX:\t\t\t\t\t\t\tMax temperature for day\n",
    "AWND:\t\t\t\t\t\t\tMax wind speed for day"
   ]
  },
  {
   "cell_type": "raw",
   "id": "8581a5ee",
   "metadata": {
    "ExecuteTime": {
     "end_time": "2021-12-05T19:06:32.811193Z",
     "start_time": "2021-12-05T19:06:32.786792Z"
    }
   },
   "source": [
    "Universal\n",
    "DEP_DEL15: \t\t\t\t\t\tTARGET Binary of a departure delay over 15 minutes (1 is yes)\n",
    "DEP_BLOCK:\t\t\t\t\t\tDeparture block\n",
    "AIRLINE_AIRPORT_FLIGHTS_MONTH:\tAvg Flights per month for Airline AND Airport\n",
    "PREVIOUS_AIRPORT:\t\t\t\tPrevious airport that aircraft departed from\n",
    "\n",
    "Airport\n",
    "AIRPORT_FLIGHTS_MONTH:\t\t\tAvg Airport Flights per Month\n",
    "AVG_MONTHLY_PASS_AIRPORT:\t\tAvg Passengers for the departing airport for the month\n",
    "DEPARTING_AIRPORT:\t\t\t\tDeparting Airport\n",
    "CONCURRENT_FLIGHTS:\t\t\t\tConcurrent flights leaving from the airport in the same departure block\n",
    "\n",
    "Airline\n",
    "AIRLINE_FLIGHTS_MONTH:\t\t\tAvg Airline Flights per Month\n",
    "AVG_MONTHLY_PASS_AIRLINE:\t\tAvg Passengers for airline for month\n",
    "FLT_ATTENDANTS_PER_PASS:\t\tFlight attendants per passenger for airline\n",
    "GROUND_SERV_PER_PASS:\t\t\tGround service employees (service desk) per passenger for airline\n",
    "\n",
    "Aircraft\n",
    "NUMBER_OF_SEATS:\t\t\t\tNumber of seats on the aircraft\n",
    "DISTANCE_GROUP:\t\t\t\t\tDistance group to be flown by departing aircraft\n",
    "PLANE_AGE:\t\t\t\t\t\tAge of departing aircraft\n",
    "\n",
    "Environment (Day)\n",
    "SEGMENT_NUMBER:\t\t\t\t\tThe segment that this tail number is on for the day\n",
    "PRCP:\t\t\t\t\t\t\tInches of precipitation for day\n",
    "SNOW:\t\t\t\t\t\t\tInches of snowfall for day\n",
    "SNWD:\t\t\t\t\t\t\tInches of snow on ground for day\n",
    "TMAX:\t\t\t\t\t\t\tMax temperature for day\n",
    "AWND:\t\t\t\t\t\t\tMax wind speed for day\n",
    "\n",
    "Drop\n",
    "CARRIER_NAME:\t\t\t\t\tCarrier\n",
    "LATITUDE:\t\t\t\t\t\tLatitude of departing airport\n",
    "LONGITUDE:\t\t\t\t\t\tLongitude of departing airport"
   ]
  },
  {
   "cell_type": "markdown",
   "id": "c61e51dd",
   "metadata": {
    "id": "2tH-u1eP4ad1"
   },
   "source": [
    "# Preprocessing\n"
   ]
  },
  {
   "cell_type": "code",
   "execution_count": 3,
   "id": "de5ae6cb",
   "metadata": {
    "ExecuteTime": {
     "end_time": "2021-12-08T15:28:09.209827Z",
     "start_time": "2021-12-08T15:28:08.976880Z"
    },
    "scrolled": false
   },
   "outputs": [
    {
     "data": {
      "text/html": [
       "<div>\n",
       "<style scoped>\n",
       "    .dataframe tbody tr th:only-of-type {\n",
       "        vertical-align: middle;\n",
       "    }\n",
       "\n",
       "    .dataframe tbody tr th {\n",
       "        vertical-align: top;\n",
       "    }\n",
       "\n",
       "    .dataframe thead th {\n",
       "        text-align: right;\n",
       "    }\n",
       "</style>\n",
       "<table border=\"1\" class=\"dataframe\">\n",
       "  <thead>\n",
       "    <tr style=\"text-align: right;\">\n",
       "      <th></th>\n",
       "      <th>DEP_DEL15</th>\n",
       "      <th>DISTANCE_GROUP</th>\n",
       "      <th>DEP_BLOCK</th>\n",
       "      <th>SEGMENT_NUMBER</th>\n",
       "      <th>CONCURRENT_FLIGHTS</th>\n",
       "      <th>NUMBER_OF_SEATS</th>\n",
       "      <th>CARRIER_NAME</th>\n",
       "      <th>AIRPORT_FLIGHTS_MONTH</th>\n",
       "      <th>AIRLINE_FLIGHTS_MONTH</th>\n",
       "      <th>AIRLINE_AIRPORT_FLIGHTS_MONTH</th>\n",
       "      <th>...</th>\n",
       "      <th>PLANE_AGE</th>\n",
       "      <th>DEPARTING_AIRPORT</th>\n",
       "      <th>LATITUDE</th>\n",
       "      <th>LONGITUDE</th>\n",
       "      <th>PREVIOUS_AIRPORT</th>\n",
       "      <th>PRCP</th>\n",
       "      <th>SNOW</th>\n",
       "      <th>SNWD</th>\n",
       "      <th>TMAX</th>\n",
       "      <th>AWND</th>\n",
       "    </tr>\n",
       "  </thead>\n",
       "  <tbody>\n",
       "    <tr>\n",
       "      <th>0</th>\n",
       "      <td>0</td>\n",
       "      <td>10</td>\n",
       "      <td>EARLY_MORNING</td>\n",
       "      <td>1</td>\n",
       "      <td>7</td>\n",
       "      <td>187</td>\n",
       "      <td>American Airlines Inc.</td>\n",
       "      <td>11493</td>\n",
       "      <td>75591</td>\n",
       "      <td>479</td>\n",
       "      <td>...</td>\n",
       "      <td>7</td>\n",
       "      <td>Seattle International</td>\n",
       "      <td>47.447</td>\n",
       "      <td>-122.306</td>\n",
       "      <td>NONE</td>\n",
       "      <td>0.16</td>\n",
       "      <td>0.0</td>\n",
       "      <td>0.0</td>\n",
       "      <td>52.0</td>\n",
       "      <td>4.92</td>\n",
       "    </tr>\n",
       "    <tr>\n",
       "      <th>1</th>\n",
       "      <td>0</td>\n",
       "      <td>4</td>\n",
       "      <td>MORNING</td>\n",
       "      <td>1</td>\n",
       "      <td>95</td>\n",
       "      <td>180</td>\n",
       "      <td>Delta Air Lines Inc.</td>\n",
       "      <td>11493</td>\n",
       "      <td>80026</td>\n",
       "      <td>2509</td>\n",
       "      <td>...</td>\n",
       "      <td>0</td>\n",
       "      <td>Seattle International</td>\n",
       "      <td>47.447</td>\n",
       "      <td>-122.306</td>\n",
       "      <td>NONE</td>\n",
       "      <td>0.16</td>\n",
       "      <td>0.0</td>\n",
       "      <td>0.0</td>\n",
       "      <td>52.0</td>\n",
       "      <td>4.92</td>\n",
       "    </tr>\n",
       "    <tr>\n",
       "      <th>2</th>\n",
       "      <td>0</td>\n",
       "      <td>4</td>\n",
       "      <td>MORNING</td>\n",
       "      <td>1</td>\n",
       "      <td>95</td>\n",
       "      <td>160</td>\n",
       "      <td>Delta Air Lines Inc.</td>\n",
       "      <td>11493</td>\n",
       "      <td>80026</td>\n",
       "      <td>2509</td>\n",
       "      <td>...</td>\n",
       "      <td>18</td>\n",
       "      <td>Seattle International</td>\n",
       "      <td>47.447</td>\n",
       "      <td>-122.306</td>\n",
       "      <td>NONE</td>\n",
       "      <td>0.16</td>\n",
       "      <td>0.0</td>\n",
       "      <td>0.0</td>\n",
       "      <td>52.0</td>\n",
       "      <td>4.92</td>\n",
       "    </tr>\n",
       "    <tr>\n",
       "      <th>3</th>\n",
       "      <td>0</td>\n",
       "      <td>5</td>\n",
       "      <td>MORNING</td>\n",
       "      <td>1</td>\n",
       "      <td>95</td>\n",
       "      <td>160</td>\n",
       "      <td>Delta Air Lines Inc.</td>\n",
       "      <td>11493</td>\n",
       "      <td>80026</td>\n",
       "      <td>2509</td>\n",
       "      <td>...</td>\n",
       "      <td>18</td>\n",
       "      <td>Seattle International</td>\n",
       "      <td>47.447</td>\n",
       "      <td>-122.306</td>\n",
       "      <td>NONE</td>\n",
       "      <td>0.16</td>\n",
       "      <td>0.0</td>\n",
       "      <td>0.0</td>\n",
       "      <td>52.0</td>\n",
       "      <td>4.92</td>\n",
       "    </tr>\n",
       "    <tr>\n",
       "      <th>4</th>\n",
       "      <td>0</td>\n",
       "      <td>7</td>\n",
       "      <td>MORNING</td>\n",
       "      <td>1</td>\n",
       "      <td>95</td>\n",
       "      <td>132</td>\n",
       "      <td>Delta Air Lines Inc.</td>\n",
       "      <td>11493</td>\n",
       "      <td>80026</td>\n",
       "      <td>2509</td>\n",
       "      <td>...</td>\n",
       "      <td>18</td>\n",
       "      <td>Seattle International</td>\n",
       "      <td>47.447</td>\n",
       "      <td>-122.306</td>\n",
       "      <td>NONE</td>\n",
       "      <td>0.16</td>\n",
       "      <td>0.0</td>\n",
       "      <td>0.0</td>\n",
       "      <td>52.0</td>\n",
       "      <td>4.92</td>\n",
       "    </tr>\n",
       "  </tbody>\n",
       "</table>\n",
       "<p>5 rows × 24 columns</p>\n",
       "</div>"
      ],
      "text/plain": [
       "   DEP_DEL15  DISTANCE_GROUP      DEP_BLOCK  SEGMENT_NUMBER  \\\n",
       "0          0              10  EARLY_MORNING               1   \n",
       "1          0               4        MORNING               1   \n",
       "2          0               4        MORNING               1   \n",
       "3          0               5        MORNING               1   \n",
       "4          0               7        MORNING               1   \n",
       "\n",
       "   CONCURRENT_FLIGHTS  NUMBER_OF_SEATS            CARRIER_NAME  \\\n",
       "0                   7              187  American Airlines Inc.   \n",
       "1                  95              180    Delta Air Lines Inc.   \n",
       "2                  95              160    Delta Air Lines Inc.   \n",
       "3                  95              160    Delta Air Lines Inc.   \n",
       "4                  95              132    Delta Air Lines Inc.   \n",
       "\n",
       "   AIRPORT_FLIGHTS_MONTH  AIRLINE_FLIGHTS_MONTH  \\\n",
       "0                  11493                  75591   \n",
       "1                  11493                  80026   \n",
       "2                  11493                  80026   \n",
       "3                  11493                  80026   \n",
       "4                  11493                  80026   \n",
       "\n",
       "   AIRLINE_AIRPORT_FLIGHTS_MONTH  ...  PLANE_AGE      DEPARTING_AIRPORT  \\\n",
       "0                            479  ...          7  Seattle International   \n",
       "1                           2509  ...          0  Seattle International   \n",
       "2                           2509  ...         18  Seattle International   \n",
       "3                           2509  ...         18  Seattle International   \n",
       "4                           2509  ...         18  Seattle International   \n",
       "\n",
       "   LATITUDE  LONGITUDE  PREVIOUS_AIRPORT  PRCP  SNOW  SNWD  TMAX  AWND  \n",
       "0    47.447   -122.306              NONE  0.16   0.0   0.0  52.0  4.92  \n",
       "1    47.447   -122.306              NONE  0.16   0.0   0.0  52.0  4.92  \n",
       "2    47.447   -122.306              NONE  0.16   0.0   0.0  52.0  4.92  \n",
       "3    47.447   -122.306              NONE  0.16   0.0   0.0  52.0  4.92  \n",
       "4    47.447   -122.306              NONE  0.16   0.0   0.0  52.0  4.92  \n",
       "\n",
       "[5 rows x 24 columns]"
      ]
     },
     "execution_count": 3,
     "metadata": {},
     "output_type": "execute_result"
    }
   ],
   "source": [
    "data=data.drop_duplicates()\n",
    "data.head(5)"
   ]
  },
  {
   "cell_type": "code",
   "execution_count": 4,
   "id": "3c96a9eb",
   "metadata": {
    "ExecuteTime": {
     "end_time": "2021-12-08T15:28:09.275721Z",
     "start_time": "2021-12-08T15:28:09.213827Z"
    },
    "scrolled": false
   },
   "outputs": [
    {
     "data": {
      "text/plain": [
       "DEP_DEL15                          2\n",
       "DEP_BLOCK                          6\n",
       "AIRLINE_AIRPORT_FLIGHTS_MONTH    509\n",
       "PREVIOUS_AIRPORT                 324\n",
       "AIRLINE_FLIGHTS_MONTH             17\n",
       "AVG_MONTHLY_PASS_AIRLINE          17\n",
       "FLT_ATTENDANTS_PER_PASS           14\n",
       "GROUND_SERV_PER_PASS              17\n",
       "dtype: int64"
      ]
     },
     "execution_count": 4,
     "metadata": {},
     "output_type": "execute_result"
    }
   ],
   "source": [
    "airlinecolumn = ['DEP_DEL15','DEP_BLOCK','AIRLINE_AIRPORT_FLIGHTS_MONTH','PREVIOUS_AIRPORT','AIRLINE_FLIGHTS_MONTH', 'AVG_MONTHLY_PASS_AIRLINE', 'FLT_ATTENDANTS_PER_PASS', 'GROUND_SERV_PER_PASS']\n",
    "airlinedata = data[airlinecolumn]\n",
    "airlinedata.nunique()"
   ]
  },
  {
   "cell_type": "code",
   "execution_count": 17,
   "id": "108db399",
   "metadata": {
    "ExecuteTime": {
     "end_time": "2021-12-08T15:29:27.559515Z",
     "start_time": "2021-12-08T15:29:27.523825Z"
    },
    "scrolled": true
   },
   "outputs": [
    {
     "name": "stdout",
     "output_type": "stream",
     "text": [
      "<class 'pandas.core.frame.DataFrame'>\n",
      "Int64Index: 51995 entries, 0 to 52703\n",
      "Data columns (total 8 columns):\n",
      " #   Column                         Non-Null Count  Dtype  \n",
      "---  ------                         --------------  -----  \n",
      " 0   DEP_DEL15                      51995 non-null  int64  \n",
      " 1   DEP_BLOCK                      51995 non-null  object \n",
      " 2   AIRLINE_AIRPORT_FLIGHTS_MONTH  51995 non-null  int64  \n",
      " 3   PREVIOUS_AIRPORT               51995 non-null  object \n",
      " 4   AIRLINE_FLIGHTS_MONTH          51995 non-null  int64  \n",
      " 5   AVG_MONTHLY_PASS_AIRLINE       51995 non-null  int64  \n",
      " 6   FLT_ATTENDANTS_PER_PASS        51995 non-null  float64\n",
      " 7   GROUND_SERV_PER_PASS           51995 non-null  float64\n",
      "dtypes: float64(2), int64(4), object(2)\n",
      "memory usage: 5.6+ MB\n"
     ]
    }
   ],
   "source": [
    "airlinedata.info()"
   ]
  },
  {
   "cell_type": "code",
   "execution_count": 18,
   "id": "0ea69624",
   "metadata": {
    "ExecuteTime": {
     "end_time": "2021-12-08T15:29:38.908512Z",
     "start_time": "2021-12-08T15:29:38.832123Z"
    },
    "scrolled": true
   },
   "outputs": [
    {
     "data": {
      "text/html": [
       "<div>\n",
       "<style scoped>\n",
       "    .dataframe tbody tr th:only-of-type {\n",
       "        vertical-align: middle;\n",
       "    }\n",
       "\n",
       "    .dataframe tbody tr th {\n",
       "        vertical-align: top;\n",
       "    }\n",
       "\n",
       "    .dataframe thead th {\n",
       "        text-align: right;\n",
       "    }\n",
       "</style>\n",
       "<table border=\"1\" class=\"dataframe\">\n",
       "  <thead>\n",
       "    <tr style=\"text-align: right;\">\n",
       "      <th></th>\n",
       "      <th>DEP_DEL15</th>\n",
       "      <th>AIRLINE_AIRPORT_FLIGHTS_MONTH</th>\n",
       "      <th>AIRLINE_FLIGHTS_MONTH</th>\n",
       "      <th>AVG_MONTHLY_PASS_AIRLINE</th>\n",
       "      <th>FLT_ATTENDANTS_PER_PASS</th>\n",
       "      <th>GROUND_SERV_PER_PASS</th>\n",
       "    </tr>\n",
       "  </thead>\n",
       "  <tbody>\n",
       "    <tr>\n",
       "      <th>count</th>\n",
       "      <td>51995.000000</td>\n",
       "      <td>51995.000000</td>\n",
       "      <td>51995.000000</td>\n",
       "      <td>5.199500e+04</td>\n",
       "      <td>51995.000000</td>\n",
       "      <td>51995.000000</td>\n",
       "    </tr>\n",
       "    <tr>\n",
       "      <th>mean</th>\n",
       "      <td>0.198077</td>\n",
       "      <td>3304.006154</td>\n",
       "      <td>60118.951149</td>\n",
       "      <td>1.441869e+06</td>\n",
       "      <td>0.000509</td>\n",
       "      <td>0.000708</td>\n",
       "    </tr>\n",
       "    <tr>\n",
       "      <th>std</th>\n",
       "      <td>0.398554</td>\n",
       "      <td>4024.147760</td>\n",
       "      <td>32878.134649</td>\n",
       "      <td>9.267225e+05</td>\n",
       "      <td>0.000458</td>\n",
       "      <td>0.000264</td>\n",
       "    </tr>\n",
       "    <tr>\n",
       "      <th>min</th>\n",
       "      <td>0.000000</td>\n",
       "      <td>1.000000</td>\n",
       "      <td>7018.000000</td>\n",
       "      <td>1.050860e+05</td>\n",
       "      <td>0.000000</td>\n",
       "      <td>0.000033</td>\n",
       "    </tr>\n",
       "    <tr>\n",
       "      <th>25%</th>\n",
       "      <td>0.000000</td>\n",
       "      <td>602.000000</td>\n",
       "      <td>24691.000000</td>\n",
       "      <td>5.350680e+05</td>\n",
       "      <td>0.000170</td>\n",
       "      <td>0.000541</td>\n",
       "    </tr>\n",
       "    <tr>\n",
       "      <th>50%</th>\n",
       "      <td>0.000000</td>\n",
       "      <td>2048.000000</td>\n",
       "      <td>69699.000000</td>\n",
       "      <td>1.539321e+06</td>\n",
       "      <td>0.000338</td>\n",
       "      <td>0.000616</td>\n",
       "    </tr>\n",
       "    <tr>\n",
       "      <th>75%</th>\n",
       "      <td>0.000000</td>\n",
       "      <td>4681.000000</td>\n",
       "      <td>80026.000000</td>\n",
       "      <td>2.338195e+06</td>\n",
       "      <td>0.000768</td>\n",
       "      <td>0.000911</td>\n",
       "    </tr>\n",
       "    <tr>\n",
       "      <th>max</th>\n",
       "      <td>1.000000</td>\n",
       "      <td>19461.000000</td>\n",
       "      <td>107849.000000</td>\n",
       "      <td>2.447530e+06</td>\n",
       "      <td>0.001759</td>\n",
       "      <td>0.001265</td>\n",
       "    </tr>\n",
       "  </tbody>\n",
       "</table>\n",
       "</div>"
      ],
      "text/plain": [
       "          DEP_DEL15  AIRLINE_AIRPORT_FLIGHTS_MONTH  AIRLINE_FLIGHTS_MONTH  \\\n",
       "count  51995.000000                   51995.000000           51995.000000   \n",
       "mean       0.198077                    3304.006154           60118.951149   \n",
       "std        0.398554                    4024.147760           32878.134649   \n",
       "min        0.000000                       1.000000            7018.000000   \n",
       "25%        0.000000                     602.000000           24691.000000   \n",
       "50%        0.000000                    2048.000000           69699.000000   \n",
       "75%        0.000000                    4681.000000           80026.000000   \n",
       "max        1.000000                   19461.000000          107849.000000   \n",
       "\n",
       "       AVG_MONTHLY_PASS_AIRLINE  FLT_ATTENDANTS_PER_PASS  GROUND_SERV_PER_PASS  \n",
       "count              5.199500e+04             51995.000000          51995.000000  \n",
       "mean               1.441869e+06                 0.000509              0.000708  \n",
       "std                9.267225e+05                 0.000458              0.000264  \n",
       "min                1.050860e+05                 0.000000              0.000033  \n",
       "25%                5.350680e+05                 0.000170              0.000541  \n",
       "50%                1.539321e+06                 0.000338              0.000616  \n",
       "75%                2.338195e+06                 0.000768              0.000911  \n",
       "max                2.447530e+06                 0.001759              0.001265  "
      ]
     },
     "execution_count": 18,
     "metadata": {},
     "output_type": "execute_result"
    }
   ],
   "source": [
    "airlinedata.describe()"
   ]
  },
  {
   "cell_type": "code",
   "execution_count": 19,
   "id": "96310a1f",
   "metadata": {
    "ExecuteTime": {
     "end_time": "2021-12-08T15:29:40.435487Z",
     "start_time": "2021-12-08T15:29:40.076783Z"
    }
   },
   "outputs": [
    {
     "data": {
      "text/plain": [
       "<AxesSubplot:xlabel='DEP_DEL15', ylabel='count'>"
      ]
     },
     "execution_count": 19,
     "metadata": {},
     "output_type": "execute_result"
    },
    {
     "data": {
      "image/png": "[encoded data removed]",
      "text/plain": [
       "<Figure size 432x288 with 1 Axes>"
      ]
     },
     "metadata": {},
     "output_type": "display_data"
    }
   ],
   "source": [
    "#Apakah data imbalance?\n",
    "\n",
    "sns.set_style('whitegrid')\n",
    "sns.countplot(x=data['DEP_DEL15'],data=airlinedata)"
   ]
  },
  {
   "cell_type": "markdown",
   "id": "2cf636e7",
   "metadata": {},
   "source": [
    "# Graph"
   ]
  },
  {
   "cell_type": "markdown",
   "id": "dbb799d6",
   "metadata": {},
   "source": [
    "## Percentage"
   ]
  },
  {
   "cell_type": "markdown",
   "id": "c9cc4bbe",
   "metadata": {
    "heading_collapsed": true
   },
   "source": [
    "### AIRLINE_FLIGHTS_MONTH"
   ]
  },
  {
   "cell_type": "code",
   "execution_count": 10,
   "id": "541d6d67",
   "metadata": {
    "ExecuteTime": {
     "end_time": "2021-12-08T15:28:37.528127Z",
     "start_time": "2021-12-08T15:28:37.467431Z"
    },
    "hidden": true,
    "scrolled": true
   },
   "outputs": [
    {
     "data": {
      "text/html": [
       "<div>\n",
       "<style scoped>\n",
       "    .dataframe tbody tr th:only-of-type {\n",
       "        vertical-align: middle;\n",
       "    }\n",
       "\n",
       "    .dataframe tbody tr th {\n",
       "        vertical-align: top;\n",
       "    }\n",
       "\n",
       "    .dataframe thead th {\n",
       "        text-align: right;\n",
       "    }\n",
       "</style>\n",
       "<table border=\"1\" class=\"dataframe\">\n",
       "  <thead>\n",
       "    <tr style=\"text-align: right;\">\n",
       "      <th>DEP_DEL15</th>\n",
       "      <th>0</th>\n",
       "      <th>1</th>\n",
       "    </tr>\n",
       "    <tr>\n",
       "      <th>AIRLINE_FLIGHTS_MONTH</th>\n",
       "      <th></th>\n",
       "      <th></th>\n",
       "    </tr>\n",
       "  </thead>\n",
       "  <tbody>\n",
       "    <tr>\n",
       "      <th>7018</th>\n",
       "      <td>605</td>\n",
       "      <td>85</td>\n",
       "    </tr>\n",
       "    <tr>\n",
       "      <th>7688</th>\n",
       "      <td>140</td>\n",
       "      <td>40</td>\n",
       "    </tr>\n",
       "    <tr>\n",
       "      <th>10417</th>\n",
       "      <td>613</td>\n",
       "      <td>159</td>\n",
       "    </tr>\n",
       "    <tr>\n",
       "      <th>12322</th>\n",
       "      <td>1037</td>\n",
       "      <td>292</td>\n",
       "    </tr>\n",
       "    <tr>\n",
       "      <th>17358</th>\n",
       "      <td>1554</td>\n",
       "      <td>442</td>\n",
       "    </tr>\n",
       "    <tr>\n",
       "      <th>17541</th>\n",
       "      <td>1231</td>\n",
       "      <td>235</td>\n",
       "    </tr>\n",
       "    <tr>\n",
       "      <th>20838</th>\n",
       "      <td>1721</td>\n",
       "      <td>407</td>\n",
       "    </tr>\n",
       "    <tr>\n",
       "      <th>22992</th>\n",
       "      <td>1023</td>\n",
       "      <td>228</td>\n",
       "    </tr>\n",
       "    <tr>\n",
       "      <th>24047</th>\n",
       "      <td>1555</td>\n",
       "      <td>492</td>\n",
       "    </tr>\n",
       "    <tr>\n",
       "      <th>24691</th>\n",
       "      <td>1551</td>\n",
       "      <td>470</td>\n",
       "    </tr>\n",
       "    <tr>\n",
       "      <th>25366</th>\n",
       "      <td>1258</td>\n",
       "      <td>464</td>\n",
       "    </tr>\n",
       "    <tr>\n",
       "      <th>28871</th>\n",
       "      <td>2057</td>\n",
       "      <td>344</td>\n",
       "    </tr>\n",
       "    <tr>\n",
       "      <th>48104</th>\n",
       "      <td>4055</td>\n",
       "      <td>881</td>\n",
       "    </tr>\n",
       "    <tr>\n",
       "      <th>69699</th>\n",
       "      <td>3993</td>\n",
       "      <td>828</td>\n",
       "    </tr>\n",
       "    <tr>\n",
       "      <th>75591</th>\n",
       "      <td>6100</td>\n",
       "      <td>1645</td>\n",
       "    </tr>\n",
       "    <tr>\n",
       "      <th>80026</th>\n",
       "      <td>5670</td>\n",
       "      <td>1076</td>\n",
       "    </tr>\n",
       "    <tr>\n",
       "      <th>107849</th>\n",
       "      <td>7533</td>\n",
       "      <td>2211</td>\n",
       "    </tr>\n",
       "  </tbody>\n",
       "</table>\n",
       "</div>"
      ],
      "text/plain": [
       "DEP_DEL15                 0     1\n",
       "AIRLINE_FLIGHTS_MONTH            \n",
       "7018                    605    85\n",
       "7688                    140    40\n",
       "10417                   613   159\n",
       "12322                  1037   292\n",
       "17358                  1554   442\n",
       "17541                  1231   235\n",
       "20838                  1721   407\n",
       "22992                  1023   228\n",
       "24047                  1555   492\n",
       "24691                  1551   470\n",
       "25366                  1258   464\n",
       "28871                  2057   344\n",
       "48104                  4055   881\n",
       "69699                  3993   828\n",
       "75591                  6100  1645\n",
       "80026                  5670  1076\n",
       "107849                 7533  2211"
      ]
     },
     "execution_count": 10,
     "metadata": {},
     "output_type": "execute_result"
    }
   ],
   "source": [
    "ALFM = pd.crosstab(index=airlinedata[\"AIRLINE_FLIGHTS_MONTH\"], \n",
    "                           columns=airlinedata[\"DEP_DEL15\"])\n",
    "ALFM"
   ]
  },
  {
   "cell_type": "code",
   "execution_count": 11,
   "id": "31d16b84",
   "metadata": {
    "ExecuteTime": {
     "end_time": "2021-12-08T15:28:42.970263Z",
     "start_time": "2021-12-08T15:28:42.938538Z"
    },
    "hidden": true,
    "scrolled": true
   },
   "outputs": [
    {
     "name": "stderr",
     "output_type": "stream",
     "text": [
      "C:\\Users\\user\\AppData\\Local\\Temp/ipykernel_8160/1906409955.py:5: SettingWithCopyWarning: \n",
      "A value is trying to be set on a copy of a slice from a DataFrame\n",
      "\n",
      "See the caveats in the documentation: https://pandas.pydata.org/pandas-docs/stable/user_guide/indexing.html#returning-a-view-versus-a-copy\n",
      "  ALFMPercent[0][i] =  tempt0*100/(tempt0+tempt1)\n",
      "C:\\Users\\user\\AppData\\Local\\Temp/ipykernel_8160/1906409955.py:6: SettingWithCopyWarning: \n",
      "A value is trying to be set on a copy of a slice from a DataFrame\n",
      "\n",
      "See the caveats in the documentation: https://pandas.pydata.org/pandas-docs/stable/user_guide/indexing.html#returning-a-view-versus-a-copy\n",
      "  ALFMPercent[1][i] =  tempt1*100/(tempt0+tempt1)\n"
     ]
    },
    {
     "data": {
      "text/html": [
       "<div>\n",
       "<style scoped>\n",
       "    .dataframe tbody tr th:only-of-type {\n",
       "        vertical-align: middle;\n",
       "    }\n",
       "\n",
       "    .dataframe tbody tr th {\n",
       "        vertical-align: top;\n",
       "    }\n",
       "\n",
       "    .dataframe thead th {\n",
       "        text-align: right;\n",
       "    }\n",
       "</style>\n",
       "<table border=\"1\" class=\"dataframe\">\n",
       "  <thead>\n",
       "    <tr style=\"text-align: right;\">\n",
       "      <th>DEP_DEL15</th>\n",
       "      <th>0</th>\n",
       "      <th>1</th>\n",
       "    </tr>\n",
       "    <tr>\n",
       "      <th>AIRLINE_FLIGHTS_MONTH</th>\n",
       "      <th></th>\n",
       "      <th></th>\n",
       "    </tr>\n",
       "  </thead>\n",
       "  <tbody>\n",
       "    <tr>\n",
       "      <th>25366</th>\n",
       "      <td>73</td>\n",
       "      <td>26</td>\n",
       "    </tr>\n",
       "  </tbody>\n",
       "</table>\n",
       "</div>"
      ],
      "text/plain": [
       "DEP_DEL15               0   1\n",
       "AIRLINE_FLIGHTS_MONTH        \n",
       "25366                  73  26"
      ]
     },
     "execution_count": 11,
     "metadata": {},
     "output_type": "execute_result"
    }
   ],
   "source": [
    "ALFMPercent = ALFM[(ALFM[1]/(ALFM[0]+ALFM[1]))>0.25]\n",
    "for i in ALFMPercent[0].keys():\n",
    "    tempt0 = ALFMPercent[0][i]\n",
    "    tempt1 = ALFMPercent[1][i]\n",
    "    ALFMPercent[0][i] =  tempt0*100/(tempt0+tempt1)\n",
    "    ALFMPercent[1][i] =  tempt1*100/(tempt0+tempt1)\n",
    "ALFMPercent"
   ]
  },
  {
   "cell_type": "code",
   "execution_count": 12,
   "id": "c48ef8fc",
   "metadata": {
    "ExecuteTime": {
     "end_time": "2021-12-08T15:28:46.725664Z",
     "start_time": "2021-12-08T15:28:46.702321Z"
    },
    "hidden": true
   },
   "outputs": [
    {
     "name": "stdout",
     "output_type": "stream",
     "text": [
      "25366 : 73.05458768873403 26.94541231126597\n"
     ]
    }
   ],
   "source": [
    "ALFMPercent = ALFM[(ALFM[1]/(ALFM[0]+ALFM[1]))>0.25]\n",
    "for i in ALFMPercent[0].keys():\n",
    "    print(str(i)+\" : \"+str(ALFMPercent[0][i]*100/(ALFMPercent[0][i]+ALFMPercent[1][i]))+\n",
    "          \" \"+str(ALFMPercent[1][i]*100/(ALFMPercent[0][i]+ALFMPercent[1][i])))"
   ]
  },
  {
   "cell_type": "markdown",
   "id": "9db78e6f",
   "metadata": {
    "heading_collapsed": true
   },
   "source": [
    "### AVG_MONTHLY_PASS_AIRLINE"
   ]
  },
  {
   "cell_type": "code",
   "execution_count": 14,
   "id": "8720e443",
   "metadata": {
    "ExecuteTime": {
     "end_time": "2021-12-08T15:28:52.445138Z",
     "start_time": "2021-12-08T15:28:52.379366Z"
    },
    "hidden": true,
    "scrolled": true
   },
   "outputs": [
    {
     "data": {
      "text/html": [
       "<div>\n",
       "<style scoped>\n",
       "    .dataframe tbody tr th:only-of-type {\n",
       "        vertical-align: middle;\n",
       "    }\n",
       "\n",
       "    .dataframe tbody tr th {\n",
       "        vertical-align: top;\n",
       "    }\n",
       "\n",
       "    .dataframe thead th {\n",
       "        text-align: right;\n",
       "    }\n",
       "</style>\n",
       "<table border=\"1\" class=\"dataframe\">\n",
       "  <thead>\n",
       "    <tr style=\"text-align: right;\">\n",
       "      <th>DEP_DEL15</th>\n",
       "      <th>0</th>\n",
       "      <th>1</th>\n",
       "    </tr>\n",
       "    <tr>\n",
       "      <th>AVG_MONTHLY_PASS_AIRLINE</th>\n",
       "      <th></th>\n",
       "      <th></th>\n",
       "    </tr>\n",
       "  </thead>\n",
       "  <tbody>\n",
       "    <tr>\n",
       "      <th>105086</th>\n",
       "      <td>613</td>\n",
       "      <td>159</td>\n",
       "    </tr>\n",
       "    <tr>\n",
       "      <th>182290</th>\n",
       "      <td>605</td>\n",
       "      <td>85</td>\n",
       "    </tr>\n",
       "    <tr>\n",
       "      <th>229242</th>\n",
       "      <td>1231</td>\n",
       "      <td>235</td>\n",
       "    </tr>\n",
       "    <tr>\n",
       "      <th>238627</th>\n",
       "      <td>1258</td>\n",
       "      <td>464</td>\n",
       "    </tr>\n",
       "    <tr>\n",
       "      <th>247455</th>\n",
       "      <td>1023</td>\n",
       "      <td>228</td>\n",
       "    </tr>\n",
       "    <tr>\n",
       "      <th>253299</th>\n",
       "      <td>1555</td>\n",
       "      <td>492</td>\n",
       "    </tr>\n",
       "    <tr>\n",
       "      <th>265983</th>\n",
       "      <td>140</td>\n",
       "      <td>40</td>\n",
       "    </tr>\n",
       "    <tr>\n",
       "      <th>307525</th>\n",
       "      <td>2057</td>\n",
       "      <td>344</td>\n",
       "    </tr>\n",
       "    <tr>\n",
       "      <th>403856</th>\n",
       "      <td>1037</td>\n",
       "      <td>292</td>\n",
       "    </tr>\n",
       "    <tr>\n",
       "      <th>535068</th>\n",
       "      <td>1721</td>\n",
       "      <td>407</td>\n",
       "    </tr>\n",
       "    <tr>\n",
       "      <th>599288</th>\n",
       "      <td>1554</td>\n",
       "      <td>442</td>\n",
       "    </tr>\n",
       "    <tr>\n",
       "      <th>609672</th>\n",
       "      <td>1551</td>\n",
       "      <td>470</td>\n",
       "    </tr>\n",
       "    <tr>\n",
       "      <th>698248</th>\n",
       "      <td>3993</td>\n",
       "      <td>828</td>\n",
       "    </tr>\n",
       "    <tr>\n",
       "      <th>1539321</th>\n",
       "      <td>4055</td>\n",
       "      <td>881</td>\n",
       "    </tr>\n",
       "    <tr>\n",
       "      <th>2286836</th>\n",
       "      <td>6100</td>\n",
       "      <td>1645</td>\n",
       "    </tr>\n",
       "    <tr>\n",
       "      <th>2338195</th>\n",
       "      <td>5670</td>\n",
       "      <td>1076</td>\n",
       "    </tr>\n",
       "    <tr>\n",
       "      <th>2447530</th>\n",
       "      <td>7533</td>\n",
       "      <td>2211</td>\n",
       "    </tr>\n",
       "  </tbody>\n",
       "</table>\n",
       "</div>"
      ],
      "text/plain": [
       "DEP_DEL15                    0     1\n",
       "AVG_MONTHLY_PASS_AIRLINE            \n",
       "105086                     613   159\n",
       "182290                     605    85\n",
       "229242                    1231   235\n",
       "238627                    1258   464\n",
       "247455                    1023   228\n",
       "253299                    1555   492\n",
       "265983                     140    40\n",
       "307525                    2057   344\n",
       "403856                    1037   292\n",
       "535068                    1721   407\n",
       "599288                    1554   442\n",
       "609672                    1551   470\n",
       "698248                    3993   828\n",
       "1539321                   4055   881\n",
       "2286836                   6100  1645\n",
       "2338195                   5670  1076\n",
       "2447530                   7533  2211"
      ]
     },
     "execution_count": 14,
     "metadata": {},
     "output_type": "execute_result"
    }
   ],
   "source": [
    "AMPAL = pd.crosstab(index=airlinedata[\"AVG_MONTHLY_PASS_AIRLINE\"], \n",
    "                           columns=airlinedata[\"DEP_DEL15\"])\n",
    "AMPAL"
   ]
  },
  {
   "cell_type": "code",
   "execution_count": 15,
   "id": "e474d7a1",
   "metadata": {
    "ExecuteTime": {
     "end_time": "2021-12-08T15:28:53.418843Z",
     "start_time": "2021-12-08T15:28:53.389314Z"
    },
    "hidden": true
   },
   "outputs": [
    {
     "name": "stderr",
     "output_type": "stream",
     "text": [
      "C:\\Users\\user\\AppData\\Local\\Temp/ipykernel_8160/2851738096.py:5: SettingWithCopyWarning: \n",
      "A value is trying to be set on a copy of a slice from a DataFrame\n",
      "\n",
      "See the caveats in the documentation: https://pandas.pydata.org/pandas-docs/stable/user_guide/indexing.html#returning-a-view-versus-a-copy\n",
      "  AMPALPercent[0][i] =  tempt0*100/(tempt0+tempt1)\n",
      "C:\\Users\\user\\AppData\\Local\\Temp/ipykernel_8160/2851738096.py:6: SettingWithCopyWarning: \n",
      "A value is trying to be set on a copy of a slice from a DataFrame\n",
      "\n",
      "See the caveats in the documentation: https://pandas.pydata.org/pandas-docs/stable/user_guide/indexing.html#returning-a-view-versus-a-copy\n",
      "  AMPALPercent[1][i] =  tempt1*100/(tempt0+tempt1)\n"
     ]
    },
    {
     "data": {
      "text/html": [
       "<div>\n",
       "<style scoped>\n",
       "    .dataframe tbody tr th:only-of-type {\n",
       "        vertical-align: middle;\n",
       "    }\n",
       "\n",
       "    .dataframe tbody tr th {\n",
       "        vertical-align: top;\n",
       "    }\n",
       "\n",
       "    .dataframe thead th {\n",
       "        text-align: right;\n",
       "    }\n",
       "</style>\n",
       "<table border=\"1\" class=\"dataframe\">\n",
       "  <thead>\n",
       "    <tr style=\"text-align: right;\">\n",
       "      <th>DEP_DEL15</th>\n",
       "      <th>0</th>\n",
       "      <th>1</th>\n",
       "    </tr>\n",
       "    <tr>\n",
       "      <th>AVG_MONTHLY_PASS_AIRLINE</th>\n",
       "      <th></th>\n",
       "      <th></th>\n",
       "    </tr>\n",
       "  </thead>\n",
       "  <tbody>\n",
       "    <tr>\n",
       "      <th>238627</th>\n",
       "      <td>73</td>\n",
       "      <td>26</td>\n",
       "    </tr>\n",
       "  </tbody>\n",
       "</table>\n",
       "</div>"
      ],
      "text/plain": [
       "DEP_DEL15                  0   1\n",
       "AVG_MONTHLY_PASS_AIRLINE        \n",
       "238627                    73  26"
      ]
     },
     "execution_count": 15,
     "metadata": {},
     "output_type": "execute_result"
    }
   ],
   "source": [
    "AMPALPercent = AMPAL[(AMPAL[1]/(AMPAL[0]+AMPAL[1]))>0.25]\n",
    "for i in AMPALPercent[0].keys():\n",
    "    tempt0 = AMPALPercent[0][i]\n",
    "    tempt1 = AMPALPercent[1][i]\n",
    "    AMPALPercent[0][i] =  tempt0*100/(tempt0+tempt1)\n",
    "    AMPALPercent[1][i] =  tempt1*100/(tempt0+tempt1)\n",
    "AMPALPercent"
   ]
  },
  {
   "cell_type": "code",
   "execution_count": 16,
   "id": "1a63546b",
   "metadata": {
    "ExecuteTime": {
     "end_time": "2021-12-08T15:29:00.645901Z",
     "start_time": "2021-12-08T15:29:00.621509Z"
    },
    "hidden": true,
    "scrolled": true
   },
   "outputs": [
    {
     "name": "stdout",
     "output_type": "stream",
     "text": [
      "238627 : 73.05458768873403 26.94541231126597\n"
     ]
    }
   ],
   "source": [
    "AMPALPercent = AMPAL[(AMPAL[1]/(AMPAL[0]+AMPAL[1]))>0.25]\n",
    "for i in AMPALPercent[0].keys():\n",
    "    print(str(i)+\" : \"+str(AMPALPercent[0][i]*100/(AMPALPercent[0][i]+AMPALPercent[1][i]))+\n",
    "          \" \"+str(AMPALPercent[1][i]*100/(AMPALPercent[0][i]+AMPALPercent[1][i])))"
   ]
  },
  {
   "cell_type": "markdown",
   "id": "29fda18f",
   "metadata": {
    "heading_collapsed": true
   },
   "source": [
    "### FLT_ATTENDANTS_PER_PASS"
   ]
  },
  {
   "cell_type": "code",
   "execution_count": 21,
   "id": "822a2167",
   "metadata": {
    "ExecuteTime": {
     "end_time": "2021-12-08T15:32:29.451981Z",
     "start_time": "2021-12-08T15:32:29.400847Z"
    },
    "hidden": true,
    "scrolled": true
   },
   "outputs": [
    {
     "data": {
      "text/html": [
       "<div>\n",
       "<style scoped>\n",
       "    .dataframe tbody tr th:only-of-type {\n",
       "        vertical-align: middle;\n",
       "    }\n",
       "\n",
       "    .dataframe tbody tr th {\n",
       "        vertical-align: top;\n",
       "    }\n",
       "\n",
       "    .dataframe thead th {\n",
       "        text-align: right;\n",
       "    }\n",
       "</style>\n",
       "<table border=\"1\" class=\"dataframe\">\n",
       "  <thead>\n",
       "    <tr style=\"text-align: right;\">\n",
       "      <th>DEP_DEL15</th>\n",
       "      <th>0</th>\n",
       "      <th>1</th>\n",
       "    </tr>\n",
       "    <tr>\n",
       "      <th>FLT_ATTENDANTS_PER_PASS</th>\n",
       "      <th></th>\n",
       "      <th></th>\n",
       "    </tr>\n",
       "  </thead>\n",
       "  <tbody>\n",
       "    <tr>\n",
       "      <th>0.000000</th>\n",
       "      <td>4422</td>\n",
       "      <td>1114</td>\n",
       "    </tr>\n",
       "    <tr>\n",
       "      <th>0.000006</th>\n",
       "      <td>2057</td>\n",
       "      <td>344</td>\n",
       "    </tr>\n",
       "    <tr>\n",
       "      <th>0.000041</th>\n",
       "      <td>1554</td>\n",
       "      <td>442</td>\n",
       "    </tr>\n",
       "    <tr>\n",
       "      <th>0.000063</th>\n",
       "      <td>140</td>\n",
       "      <td>40</td>\n",
       "    </tr>\n",
       "    <tr>\n",
       "      <th>0.000170</th>\n",
       "      <td>3993</td>\n",
       "      <td>828</td>\n",
       "    </tr>\n",
       "    <tr>\n",
       "      <th>0.000174</th>\n",
       "      <td>1721</td>\n",
       "      <td>407</td>\n",
       "    </tr>\n",
       "    <tr>\n",
       "      <th>0.000338</th>\n",
       "      <td>7533</td>\n",
       "      <td>2211</td>\n",
       "    </tr>\n",
       "    <tr>\n",
       "      <th>0.000504</th>\n",
       "      <td>6100</td>\n",
       "      <td>1645</td>\n",
       "    </tr>\n",
       "    <tr>\n",
       "      <th>0.000532</th>\n",
       "      <td>1037</td>\n",
       "      <td>292</td>\n",
       "    </tr>\n",
       "    <tr>\n",
       "      <th>0.000599</th>\n",
       "      <td>605</td>\n",
       "      <td>85</td>\n",
       "    </tr>\n",
       "    <tr>\n",
       "      <th>0.000768</th>\n",
       "      <td>5670</td>\n",
       "      <td>1076</td>\n",
       "    </tr>\n",
       "    <tr>\n",
       "      <th>0.000837</th>\n",
       "      <td>1551</td>\n",
       "      <td>470</td>\n",
       "    </tr>\n",
       "    <tr>\n",
       "      <th>0.001402</th>\n",
       "      <td>4055</td>\n",
       "      <td>881</td>\n",
       "    </tr>\n",
       "    <tr>\n",
       "      <th>0.001759</th>\n",
       "      <td>1258</td>\n",
       "      <td>464</td>\n",
       "    </tr>\n",
       "  </tbody>\n",
       "</table>\n",
       "</div>"
      ],
      "text/plain": [
       "DEP_DEL15                   0     1\n",
       "FLT_ATTENDANTS_PER_PASS            \n",
       "0.000000                 4422  1114\n",
       "0.000006                 2057   344\n",
       "0.000041                 1554   442\n",
       "0.000063                  140    40\n",
       "0.000170                 3993   828\n",
       "0.000174                 1721   407\n",
       "0.000338                 7533  2211\n",
       "0.000504                 6100  1645\n",
       "0.000532                 1037   292\n",
       "0.000599                  605    85\n",
       "0.000768                 5670  1076\n",
       "0.000837                 1551   470\n",
       "0.001402                 4055   881\n",
       "0.001759                 1258   464"
      ]
     },
     "execution_count": 21,
     "metadata": {},
     "output_type": "execute_result"
    }
   ],
   "source": [
    "FAPP = pd.crosstab(index=airlinedata[\"FLT_ATTENDANTS_PER_PASS\"], \n",
    "                           columns=airlinedata[\"DEP_DEL15\"])\n",
    "FAPP"
   ]
  },
  {
   "cell_type": "code",
   "execution_count": 22,
   "id": "7ed7cb1e",
   "metadata": {
    "ExecuteTime": {
     "end_time": "2021-12-08T15:33:04.666752Z",
     "start_time": "2021-12-08T15:33:04.631371Z"
    },
    "hidden": true
   },
   "outputs": [
    {
     "name": "stderr",
     "output_type": "stream",
     "text": [
      "C:\\Users\\user\\AppData\\Local\\Temp/ipykernel_8160/3369345291.py:5: SettingWithCopyWarning: \n",
      "A value is trying to be set on a copy of a slice from a DataFrame\n",
      "\n",
      "See the caveats in the documentation: https://pandas.pydata.org/pandas-docs/stable/user_guide/indexing.html#returning-a-view-versus-a-copy\n",
      "  FAPPPercent[0][i] =  tempt0*100/(tempt0+tempt1)\n",
      "C:\\Users\\user\\AppData\\Local\\Temp/ipykernel_8160/3369345291.py:6: SettingWithCopyWarning: \n",
      "A value is trying to be set on a copy of a slice from a DataFrame\n",
      "\n",
      "See the caveats in the documentation: https://pandas.pydata.org/pandas-docs/stable/user_guide/indexing.html#returning-a-view-versus-a-copy\n",
      "  FAPPPercent[1][i] =  tempt1*100/(tempt0+tempt1)\n"
     ]
    },
    {
     "data": {
      "text/html": [
       "<div>\n",
       "<style scoped>\n",
       "    .dataframe tbody tr th:only-of-type {\n",
       "        vertical-align: middle;\n",
       "    }\n",
       "\n",
       "    .dataframe tbody tr th {\n",
       "        vertical-align: top;\n",
       "    }\n",
       "\n",
       "    .dataframe thead th {\n",
       "        text-align: right;\n",
       "    }\n",
       "</style>\n",
       "<table border=\"1\" class=\"dataframe\">\n",
       "  <thead>\n",
       "    <tr style=\"text-align: right;\">\n",
       "      <th>DEP_DEL15</th>\n",
       "      <th>0</th>\n",
       "      <th>1</th>\n",
       "    </tr>\n",
       "    <tr>\n",
       "      <th>FLT_ATTENDANTS_PER_PASS</th>\n",
       "      <th></th>\n",
       "      <th></th>\n",
       "    </tr>\n",
       "  </thead>\n",
       "  <tbody>\n",
       "    <tr>\n",
       "      <th>0.001759</th>\n",
       "      <td>73</td>\n",
       "      <td>26</td>\n",
       "    </tr>\n",
       "  </tbody>\n",
       "</table>\n",
       "</div>"
      ],
      "text/plain": [
       "DEP_DEL15                 0   1\n",
       "FLT_ATTENDANTS_PER_PASS        \n",
       "0.001759                 73  26"
      ]
     },
     "execution_count": 22,
     "metadata": {},
     "output_type": "execute_result"
    }
   ],
   "source": [
    "FAPPPercent = FAPP[(FAPP[1]/(FAPP[0]+FAPP[1]))>0.25]\n",
    "for i in FAPPPercent[0].keys():\n",
    "    tempt0 = FAPPPercent[0][i]\n",
    "    tempt1 = FAPPPercent[1][i]\n",
    "    FAPPPercent[0][i] =  tempt0*100/(tempt0+tempt1)\n",
    "    FAPPPercent[1][i] =  tempt1*100/(tempt0+tempt1)\n",
    "FAPPPercent"
   ]
  },
  {
   "cell_type": "code",
   "execution_count": 23,
   "id": "e64f46e6",
   "metadata": {
    "ExecuteTime": {
     "end_time": "2021-12-08T15:33:31.073533Z",
     "start_time": "2021-12-08T15:33:31.050453Z"
    },
    "hidden": true,
    "scrolled": true
   },
   "outputs": [
    {
     "name": "stdout",
     "output_type": "stream",
     "text": [
      "0.0017590171016133 : 73.05458768873403 26.94541231126597\n"
     ]
    }
   ],
   "source": [
    "FAPPPercent = FAPP[(FAPP[1]/(FAPP[0]+FAPP[1]))>0.25]\n",
    "for i in FAPPPercent[0].keys():\n",
    "    print(str(i)+\" : \"+str(FAPPPercent[0][i]*100/(FAPPPercent[0][i]+FAPPPercent[1][i]))+\n",
    "          \" \"+str(FAPPPercent[1][i]*100/(FAPPPercent[0][i]+FAPPPercent[1][i])))"
   ]
  },
  {
   "cell_type": "code",
   "execution_count": null,
   "id": "ba390ff3",
   "metadata": {
    "hidden": true
   },
   "outputs": [],
   "source": []
  },
  {
   "cell_type": "markdown",
   "id": "239aad1b",
   "metadata": {},
   "source": [
    "## Violin Plot"
   ]
  },
  {
   "cell_type": "code",
   "execution_count": null,
   "id": "db413968",
   "metadata": {
    "ExecuteTime": {
     "end_time": "2021-12-08T15:28:10.968729Z",
     "start_time": "2021-12-08T15:28:10.968729Z"
    }
   },
   "outputs": [],
   "source": [
    "sns.violinplot(x=datagraph.DEP_DEL15 , y=datagraph.DISTANCE_GROUP)"
   ]
  },
  {
   "cell_type": "code",
   "execution_count": null,
   "id": "842c26fa",
   "metadata": {
    "ExecuteTime": {
     "end_time": "2021-12-08T15:28:10.972042Z",
     "start_time": "2021-12-08T15:28:10.972042Z"
    }
   },
   "outputs": [],
   "source": [
    "sns.violinplot(x=datagraph.DEP_DEL15 , y=datagraph.SEGMENT_NUMBER)"
   ]
  },
  {
   "cell_type": "code",
   "execution_count": null,
   "id": "2c9a6c25",
   "metadata": {
    "ExecuteTime": {
     "end_time": "2021-12-08T15:28:10.976823Z",
     "start_time": "2021-12-08T15:28:10.976823Z"
    }
   },
   "outputs": [],
   "source": [
    "sns.violinplot(x=datagraph.DEP_DEL15 , y=datagraph.CONCURRENT_FLIGHTS)"
   ]
  },
  {
   "cell_type": "code",
   "execution_count": null,
   "id": "c7de052e",
   "metadata": {
    "ExecuteTime": {
     "end_time": "2021-12-08T15:28:10.980822Z",
     "start_time": "2021-12-08T15:28:10.980822Z"
    }
   },
   "outputs": [],
   "source": [
    "sns.violinplot(x=datagraph.DEP_DEL15 , y=datagraph.NUMBER_OF_SEATS)"
   ]
  },
  {
   "cell_type": "code",
   "execution_count": null,
   "id": "230f928b",
   "metadata": {
    "ExecuteTime": {
     "end_time": "2021-12-08T15:28:10.990053Z",
     "start_time": "2021-12-08T15:28:10.989048Z"
    }
   },
   "outputs": [],
   "source": [
    "sns.violinplot(x=datagraph.DEP_DEL15 , y=datagraph.AIRLINE_AIRPORT_FLIGHTS_MONTH)"
   ]
  },
  {
   "cell_type": "code",
   "execution_count": null,
   "id": "8a437c8b",
   "metadata": {
    "ExecuteTime": {
     "end_time": "2021-12-08T15:28:10.993758Z",
     "start_time": "2021-12-08T15:28:10.993758Z"
    }
   },
   "outputs": [],
   "source": [
    "sns.violinplot(x=datagraph.DEP_DEL15 , y=datagraph.AVG_MONTHLY_PASS_AIRPORT)"
   ]
  },
  {
   "cell_type": "code",
   "execution_count": null,
   "id": "570c137c",
   "metadata": {
    "ExecuteTime": {
     "end_time": "2021-12-08T15:28:11.091312Z",
     "start_time": "2021-12-08T15:28:11.091312Z"
    }
   },
   "outputs": [],
   "source": [
    "sns.violinplot(x=datagraph.DEP_DEL15 , y=datagraph.AVG_MONTHLY_PASS_AIRLINE)"
   ]
  },
  {
   "cell_type": "code",
   "execution_count": null,
   "id": "0569a912",
   "metadata": {
    "ExecuteTime": {
     "end_time": "2021-12-08T15:28:11.095314Z",
     "start_time": "2021-12-08T15:28:11.095314Z"
    }
   },
   "outputs": [],
   "source": [
    "sns.violinplot(x=datagraph.DEP_DEL15 , y=datagraph.FLT_ATTENDANTS_PER_PASS)"
   ]
  },
  {
   "cell_type": "code",
   "execution_count": null,
   "id": "62516a2f",
   "metadata": {
    "ExecuteTime": {
     "end_time": "2021-12-08T15:28:11.098326Z",
     "start_time": "2021-12-08T15:28:11.098326Z"
    }
   },
   "outputs": [],
   "source": [
    "sns.violinplot(x=datagraph.DEP_DEL15 , y=datagraph.GROUND_SERV_PER_PASS)"
   ]
  },
  {
   "cell_type": "code",
   "execution_count": null,
   "id": "d001dabd",
   "metadata": {
    "ExecuteTime": {
     "end_time": "2021-12-08T15:28:11.103271Z",
     "start_time": "2021-12-08T15:28:11.103271Z"
    }
   },
   "outputs": [],
   "source": [
    "sns.violinplot(x=datagraph.DEP_DEL15 , y=datagraph.PLANE_AGE)"
   ]
  },
  {
   "cell_type": "code",
   "execution_count": null,
   "id": "546b636e",
   "metadata": {
    "ExecuteTime": {
     "end_time": "2021-12-08T15:28:11.108508Z",
     "start_time": "2021-12-08T15:28:11.108508Z"
    }
   },
   "outputs": [],
   "source": [
    "sns.violinplot(x=datagraph.DEP_DEL15 , y=datagraph.PRCP)"
   ]
  },
  {
   "cell_type": "code",
   "execution_count": null,
   "id": "329bf5f3",
   "metadata": {
    "ExecuteTime": {
     "end_time": "2021-12-08T15:28:11.112549Z",
     "start_time": "2021-12-08T15:28:11.112549Z"
    }
   },
   "outputs": [],
   "source": [
    "sns.violinplot(x=datagraph.DEP_DEL15 , y=datagraph.SNOW)"
   ]
  },
  {
   "cell_type": "code",
   "execution_count": null,
   "id": "2d81a87a",
   "metadata": {
    "ExecuteTime": {
     "end_time": "2021-12-08T15:28:11.117102Z",
     "start_time": "2021-12-08T15:28:11.117102Z"
    }
   },
   "outputs": [],
   "source": [
    "sns.violinplot(x=datagraph.DEP_DEL15 , y=datagraph.SNWD)"
   ]
  },
  {
   "cell_type": "code",
   "execution_count": null,
   "id": "00dfcbb7",
   "metadata": {
    "ExecuteTime": {
     "end_time": "2021-12-08T15:28:11.122031Z",
     "start_time": "2021-12-08T15:28:11.122031Z"
    }
   },
   "outputs": [],
   "source": [
    "sns.violinplot(x=datagraph.DEP_DEL15 , y=datagraph.TMAX)"
   ]
  },
  {
   "cell_type": "code",
   "execution_count": null,
   "id": "90f9e92b",
   "metadata": {
    "ExecuteTime": {
     "end_time": "2021-12-08T15:28:11.125127Z",
     "start_time": "2021-12-08T15:28:11.125127Z"
    }
   },
   "outputs": [],
   "source": [
    "sns.violinplot(x=datagraph.DEP_DEL15 , y=datagraph.AWND)"
   ]
  }
 ],
 "metadata": {
  "kernelspec": {
   "display_name": "Python 3 (ipykernel)",
   "language": "python",
   "name": "python3"
  },
  "language_info": {
   "codemirror_mode": {
    "name": "ipython",
    "version": 3
   },
   "file_extension": ".py",
   "mimetype": "text/x-python",
   "name": "python",
   "nbconvert_exporter": "python",
   "pygments_lexer": "ipython3",
   "version": "3.8.12"
  },
  "toc": {
   "base_numbering": 1,
   "nav_menu": {},
   "number_sections": true,
   "sideBar": true,
   "skip_h1_title": false,
   "title_cell": "Table of Contents",
   "title_sidebar": "Contents",
   "toc_cell": false,
   "toc_position": {},
   "toc_section_display": true,
   "toc_window_display": false
  }
 },
 "nbformat": 4,
 "nbformat_minor": 5
}
