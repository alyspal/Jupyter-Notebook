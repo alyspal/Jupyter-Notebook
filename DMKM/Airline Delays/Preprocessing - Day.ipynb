{
 "cells": [
  {
   "cell_type": "markdown",
   "id": "b5b3014c",
   "metadata": {
    "id": "6Vcacb7y14nd"
   },
   "source": [
    "# Input packages and datasets"
   ]
  },
  {
   "cell_type": "code",
   "execution_count": 1,
   "id": "ea430564",
   "metadata": {
    "ExecuteTime": {
     "end_time": "2021-12-08T16:17:13.011610Z",
     "start_time": "2021-12-08T16:17:09.191425Z"
    },
    "id": "YRsOznqNXSFE"
   },
   "outputs": [],
   "source": [
    "import pandas as pd\n",
    "import numpy as np\n",
    "import seaborn as sns\n",
    "import matplotlib.pyplot as plt"
   ]
  },
  {
   "cell_type": "code",
   "execution_count": 2,
   "id": "b17eb28b",
   "metadata": {
    "ExecuteTime": {
     "end_time": "2021-12-08T16:17:13.426593Z",
     "start_time": "2021-12-08T16:17:13.011610Z"
    },
    "id": "AZGdYfeaXURD"
   },
   "outputs": [],
   "source": [
    "data = pd.read_csv('airline_delays.csv')\n",
    "data = data.drop(columns=\"Unnamed: 0\")"
   ]
  },
  {
   "cell_type": "raw",
   "id": "4535775a",
   "metadata": {
    "ExecuteTime": {
     "end_time": "2021-12-05T19:06:32.779785Z",
     "start_time": "2021-12-05T19:06:32.753954Z"
    }
   },
   "source": [
    "from pandas_profiling import ProfileReport\n",
    "profile = ProfileReport(data)\n",
    "profile.to_file(\"mantab.html\")"
   ]
  },
  {
   "cell_type": "raw",
   "id": "bc9c8617",
   "metadata": {
    "ExecuteTime": {
     "end_time": "2021-12-05T19:06:32.811193Z",
     "start_time": "2021-12-05T19:06:32.786792Z"
    }
   },
   "source": [
    "DEP_DEL15: \t\t\t\t\t\tTARGET Binary of a departure delay over 15 minutes (1 is yes)\n",
    "DISTANCE_GROUP:\t\t\t\t\tDistance group to be flown by departing aircraft\n",
    "DEP_BLOCK:\t\t\t\t\t\tDeparture block\n",
    "SEGMENT_NUMBER:\t\t\t\t\tThe segment that this tail number is on for the day\n",
    "CONCURRENT_FLIGHTS:\t\t\t\tConcurrent flights leaving from the airport in the same departure block\n",
    "NUMBER_OF_SEATS:\t\t\t\tNumber of seats on the aircraft\n",
    "CARRIER_NAME:\t\t\t\t\tCarrier\n",
    "AIRPORT_FLIGHTS_MONTH:\t\t\tAvg Airport Flights per Month\n",
    "AIRLINE_FLIGHTS_MONTH:\t\t\tAvg Airline Flights per Month\n",
    "AIRLINE_AIRPORT_FLIGHTS_MONTH:\tAvg Flights per month for Airline AND Airport\n",
    "AVG_MONTHLY_PASS_AIRPORT:\t\tAvg Passengers for the departing airport for the month\n",
    "AVG_MONTHLY_PASS_AIRLINE:\t\tAvg Passengers for airline for month\n",
    "FLT_ATTENDANTS_PER_PASS:\t\tFlight attendants per passenger for airline\n",
    "GROUND_SERV_PER_PASS:\t\t\tGround service employees (service desk) per passenger for airline\n",
    "PLANE_AGE:\t\t\t\t\t\tAge of departing aircraft\n",
    "DEPARTING_AIRPORT:\t\t\t\tDeparting Airport\n",
    "LATITUDE:\t\t\t\t\t\tLatitude of departing airport\n",
    "LONGITUDE:\t\t\t\t\t\tLongitude of departing airport\n",
    "PREVIOUS_AIRPORT:\t\t\t\tPrevious airport that aircraft departed from\n",
    "PRCP:\t\t\t\t\t\t\tInches of precipitation for day\n",
    "SNOW:\t\t\t\t\t\t\tInches of snowfall for day\n",
    "SNWD:\t\t\t\t\t\t\tInches of snow on ground for day\n",
    "TMAX:\t\t\t\t\t\t\tMax temperature for day\n",
    "AWND:\t\t\t\t\t\t\tMax wind speed for day"
   ]
  },
  {
   "cell_type": "raw",
   "id": "fadb71e5",
   "metadata": {
    "ExecuteTime": {
     "end_time": "2021-12-05T19:06:32.811193Z",
     "start_time": "2021-12-05T19:06:32.786792Z"
    }
   },
   "source": [
    "Universal\n",
    "DEP_DEL15: \t\t\t\t\t\tTARGET Binary of a departure delay over 15 minutes (1 is yes)\n",
    "DEP_BLOCK:\t\t\t\t\t\tDeparture block\n",
    "AIRLINE_AIRPORT_FLIGHTS_MONTH:\tAvg Flights per month for Airline AND Airport\n",
    "PREVIOUS_AIRPORT:\t\t\t\tPrevious airport that aircraft departed from\n",
    "\n",
    "Airport\n",
    "AIRPORT_FLIGHTS_MONTH:\t\t\tAvg Airport Flights per Month\n",
    "AVG_MONTHLY_PASS_AIRPORT:\t\tAvg Passengers for the departing airport for the month\n",
    "DEPARTING_AIRPORT:\t\t\t\tDeparting Airport\n",
    "CONCURRENT_FLIGHTS:\t\t\t\tConcurrent flights leaving from the airport in the same departure block\n",
    "\n",
    "Airline\n",
    "AIRLINE_FLIGHTS_MONTH:\t\t\tAvg Airline Flights per Month\n",
    "AVG_MONTHLY_PASS_AIRLINE:\t\tAvg Passengers for airline for month\n",
    "FLT_ATTENDANTS_PER_PASS:\t\tFlight attendants per passenger for airline\n",
    "GROUND_SERV_PER_PASS:\t\t\tGround service employees (service desk) per passenger for airline\n",
    "\n",
    "Aircraft\n",
    "NUMBER_OF_SEATS:\t\t\t\tNumber of seats on the aircraft\n",
    "DISTANCE_GROUP:\t\t\t\t\tDistance group to be flown by departing aircraft\n",
    "PLANE_AGE:\t\t\t\t\t\tAge of departing aircraft\n",
    "\n",
    "Environment (Day)\n",
    "SEGMENT_NUMBER:\t\t\t\t\tThe segment that this tail number is on for the day\n",
    "PRCP:\t\t\t\t\t\t\tInches of precipitation for day\n",
    "SNOW:\t\t\t\t\t\t\tInches of snowfall for day\n",
    "SNWD:\t\t\t\t\t\t\tInches of snow on ground for day\n",
    "TMAX:\t\t\t\t\t\t\tMax temperature for day\n",
    "AWND:\t\t\t\t\t\t\tMax wind speed for day\n",
    "\n",
    "Drop\n",
    "CARRIER_NAME:\t\t\t\t\tCarrier\n",
    "LATITUDE:\t\t\t\t\t\tLatitude of departing airport\n",
    "LONGITUDE:\t\t\t\t\t\tLongitude of departing airport"
   ]
  },
  {
   "cell_type": "markdown",
   "id": "fe50cc39",
   "metadata": {
    "id": "2tH-u1eP4ad1"
   },
   "source": [
    "# Preprocessing\n"
   ]
  },
  {
   "cell_type": "code",
   "execution_count": 3,
   "id": "4f12052e",
   "metadata": {
    "ExecuteTime": {
     "end_time": "2021-12-08T16:17:13.643898Z",
     "start_time": "2021-12-08T16:17:13.431343Z"
    },
    "scrolled": false
   },
   "outputs": [
    {
     "data": {
      "text/html": [
       "<div>\n",
       "<style scoped>\n",
       "    .dataframe tbody tr th:only-of-type {\n",
       "        vertical-align: middle;\n",
       "    }\n",
       "\n",
       "    .dataframe tbody tr th {\n",
       "        vertical-align: top;\n",
       "    }\n",
       "\n",
       "    .dataframe thead th {\n",
       "        text-align: right;\n",
       "    }\n",
       "</style>\n",
       "<table border=\"1\" class=\"dataframe\">\n",
       "  <thead>\n",
       "    <tr style=\"text-align: right;\">\n",
       "      <th></th>\n",
       "      <th>DEP_DEL15</th>\n",
       "      <th>DISTANCE_GROUP</th>\n",
       "      <th>DEP_BLOCK</th>\n",
       "      <th>SEGMENT_NUMBER</th>\n",
       "      <th>CONCURRENT_FLIGHTS</th>\n",
       "      <th>NUMBER_OF_SEATS</th>\n",
       "      <th>CARRIER_NAME</th>\n",
       "      <th>AIRPORT_FLIGHTS_MONTH</th>\n",
       "      <th>AIRLINE_FLIGHTS_MONTH</th>\n",
       "      <th>AIRLINE_AIRPORT_FLIGHTS_MONTH</th>\n",
       "      <th>...</th>\n",
       "      <th>PLANE_AGE</th>\n",
       "      <th>DEPARTING_AIRPORT</th>\n",
       "      <th>LATITUDE</th>\n",
       "      <th>LONGITUDE</th>\n",
       "      <th>PREVIOUS_AIRPORT</th>\n",
       "      <th>PRCP</th>\n",
       "      <th>SNOW</th>\n",
       "      <th>SNWD</th>\n",
       "      <th>TMAX</th>\n",
       "      <th>AWND</th>\n",
       "    </tr>\n",
       "  </thead>\n",
       "  <tbody>\n",
       "    <tr>\n",
       "      <th>0</th>\n",
       "      <td>0</td>\n",
       "      <td>10</td>\n",
       "      <td>EARLY_MORNING</td>\n",
       "      <td>1</td>\n",
       "      <td>7</td>\n",
       "      <td>187</td>\n",
       "      <td>American Airlines Inc.</td>\n",
       "      <td>11493</td>\n",
       "      <td>75591</td>\n",
       "      <td>479</td>\n",
       "      <td>...</td>\n",
       "      <td>7</td>\n",
       "      <td>Seattle International</td>\n",
       "      <td>47.447</td>\n",
       "      <td>-122.306</td>\n",
       "      <td>NONE</td>\n",
       "      <td>0.16</td>\n",
       "      <td>0.0</td>\n",
       "      <td>0.0</td>\n",
       "      <td>52.0</td>\n",
       "      <td>4.92</td>\n",
       "    </tr>\n",
       "    <tr>\n",
       "      <th>1</th>\n",
       "      <td>0</td>\n",
       "      <td>4</td>\n",
       "      <td>MORNING</td>\n",
       "      <td>1</td>\n",
       "      <td>95</td>\n",
       "      <td>180</td>\n",
       "      <td>Delta Air Lines Inc.</td>\n",
       "      <td>11493</td>\n",
       "      <td>80026</td>\n",
       "      <td>2509</td>\n",
       "      <td>...</td>\n",
       "      <td>0</td>\n",
       "      <td>Seattle International</td>\n",
       "      <td>47.447</td>\n",
       "      <td>-122.306</td>\n",
       "      <td>NONE</td>\n",
       "      <td>0.16</td>\n",
       "      <td>0.0</td>\n",
       "      <td>0.0</td>\n",
       "      <td>52.0</td>\n",
       "      <td>4.92</td>\n",
       "    </tr>\n",
       "    <tr>\n",
       "      <th>2</th>\n",
       "      <td>0</td>\n",
       "      <td>4</td>\n",
       "      <td>MORNING</td>\n",
       "      <td>1</td>\n",
       "      <td>95</td>\n",
       "      <td>160</td>\n",
       "      <td>Delta Air Lines Inc.</td>\n",
       "      <td>11493</td>\n",
       "      <td>80026</td>\n",
       "      <td>2509</td>\n",
       "      <td>...</td>\n",
       "      <td>18</td>\n",
       "      <td>Seattle International</td>\n",
       "      <td>47.447</td>\n",
       "      <td>-122.306</td>\n",
       "      <td>NONE</td>\n",
       "      <td>0.16</td>\n",
       "      <td>0.0</td>\n",
       "      <td>0.0</td>\n",
       "      <td>52.0</td>\n",
       "      <td>4.92</td>\n",
       "    </tr>\n",
       "    <tr>\n",
       "      <th>3</th>\n",
       "      <td>0</td>\n",
       "      <td>5</td>\n",
       "      <td>MORNING</td>\n",
       "      <td>1</td>\n",
       "      <td>95</td>\n",
       "      <td>160</td>\n",
       "      <td>Delta Air Lines Inc.</td>\n",
       "      <td>11493</td>\n",
       "      <td>80026</td>\n",
       "      <td>2509</td>\n",
       "      <td>...</td>\n",
       "      <td>18</td>\n",
       "      <td>Seattle International</td>\n",
       "      <td>47.447</td>\n",
       "      <td>-122.306</td>\n",
       "      <td>NONE</td>\n",
       "      <td>0.16</td>\n",
       "      <td>0.0</td>\n",
       "      <td>0.0</td>\n",
       "      <td>52.0</td>\n",
       "      <td>4.92</td>\n",
       "    </tr>\n",
       "    <tr>\n",
       "      <th>4</th>\n",
       "      <td>0</td>\n",
       "      <td>7</td>\n",
       "      <td>MORNING</td>\n",
       "      <td>1</td>\n",
       "      <td>95</td>\n",
       "      <td>132</td>\n",
       "      <td>Delta Air Lines Inc.</td>\n",
       "      <td>11493</td>\n",
       "      <td>80026</td>\n",
       "      <td>2509</td>\n",
       "      <td>...</td>\n",
       "      <td>18</td>\n",
       "      <td>Seattle International</td>\n",
       "      <td>47.447</td>\n",
       "      <td>-122.306</td>\n",
       "      <td>NONE</td>\n",
       "      <td>0.16</td>\n",
       "      <td>0.0</td>\n",
       "      <td>0.0</td>\n",
       "      <td>52.0</td>\n",
       "      <td>4.92</td>\n",
       "    </tr>\n",
       "  </tbody>\n",
       "</table>\n",
       "<p>5 rows × 24 columns</p>\n",
       "</div>"
      ],
      "text/plain": [
       "   DEP_DEL15  DISTANCE_GROUP      DEP_BLOCK  SEGMENT_NUMBER  \\\n",
       "0          0              10  EARLY_MORNING               1   \n",
       "1          0               4        MORNING               1   \n",
       "2          0               4        MORNING               1   \n",
       "3          0               5        MORNING               1   \n",
       "4          0               7        MORNING               1   \n",
       "\n",
       "   CONCURRENT_FLIGHTS  NUMBER_OF_SEATS            CARRIER_NAME  \\\n",
       "0                   7              187  American Airlines Inc.   \n",
       "1                  95              180    Delta Air Lines Inc.   \n",
       "2                  95              160    Delta Air Lines Inc.   \n",
       "3                  95              160    Delta Air Lines Inc.   \n",
       "4                  95              132    Delta Air Lines Inc.   \n",
       "\n",
       "   AIRPORT_FLIGHTS_MONTH  AIRLINE_FLIGHTS_MONTH  \\\n",
       "0                  11493                  75591   \n",
       "1                  11493                  80026   \n",
       "2                  11493                  80026   \n",
       "3                  11493                  80026   \n",
       "4                  11493                  80026   \n",
       "\n",
       "   AIRLINE_AIRPORT_FLIGHTS_MONTH  ...  PLANE_AGE      DEPARTING_AIRPORT  \\\n",
       "0                            479  ...          7  Seattle International   \n",
       "1                           2509  ...          0  Seattle International   \n",
       "2                           2509  ...         18  Seattle International   \n",
       "3                           2509  ...         18  Seattle International   \n",
       "4                           2509  ...         18  Seattle International   \n",
       "\n",
       "   LATITUDE  LONGITUDE  PREVIOUS_AIRPORT  PRCP  SNOW  SNWD  TMAX  AWND  \n",
       "0    47.447   -122.306              NONE  0.16   0.0   0.0  52.0  4.92  \n",
       "1    47.447   -122.306              NONE  0.16   0.0   0.0  52.0  4.92  \n",
       "2    47.447   -122.306              NONE  0.16   0.0   0.0  52.0  4.92  \n",
       "3    47.447   -122.306              NONE  0.16   0.0   0.0  52.0  4.92  \n",
       "4    47.447   -122.306              NONE  0.16   0.0   0.0  52.0  4.92  \n",
       "\n",
       "[5 rows x 24 columns]"
      ]
     },
     "execution_count": 3,
     "metadata": {},
     "output_type": "execute_result"
    }
   ],
   "source": [
    "data=data.drop_duplicates()\n",
    "data.head(5)"
   ]
  },
  {
   "cell_type": "code",
   "execution_count": 4,
   "id": "9b56ceb6",
   "metadata": {
    "ExecuteTime": {
     "end_time": "2021-12-08T16:17:13.730999Z",
     "start_time": "2021-12-08T16:17:13.650976Z"
    },
    "scrolled": false
   },
   "outputs": [
    {
     "data": {
      "text/plain": [
       "DEP_DEL15                          2\n",
       "DEP_BLOCK                          6\n",
       "AIRLINE_AIRPORT_FLIGHTS_MONTH    509\n",
       "PREVIOUS_AIRPORT                 324\n",
       "SEGMENT_NUMBER                    13\n",
       "PRCP                              76\n",
       "SNOW                              20\n",
       "SNWD                              12\n",
       "TMAX                              66\n",
       "AWND                              81\n",
       "dtype: int64"
      ]
     },
     "execution_count": 4,
     "metadata": {},
     "output_type": "execute_result"
    }
   ],
   "source": [
    "daycolumn = ['DEP_DEL15','DEP_BLOCK','AIRLINE_AIRPORT_FLIGHTS_MONTH','PREVIOUS_AIRPORT','SEGMENT_NUMBER', 'PRCP', 'SNOW', 'SNWD', 'TMAX', 'AWND']\n",
    "daydata = data[daycolumn]\n",
    "daydata.nunique()"
   ]
  },
  {
   "cell_type": "code",
   "execution_count": 5,
   "id": "371e43cd",
   "metadata": {
    "ExecuteTime": {
     "end_time": "2021-12-08T16:17:13.779801Z",
     "start_time": "2021-12-08T16:17:13.734369Z"
    },
    "scrolled": true
   },
   "outputs": [
    {
     "name": "stdout",
     "output_type": "stream",
     "text": [
      "<class 'pandas.core.frame.DataFrame'>\n",
      "Int64Index: 51995 entries, 0 to 52703\n",
      "Data columns (total 10 columns):\n",
      " #   Column                         Non-Null Count  Dtype  \n",
      "---  ------                         --------------  -----  \n",
      " 0   DEP_DEL15                      51995 non-null  int64  \n",
      " 1   DEP_BLOCK                      51995 non-null  object \n",
      " 2   AIRLINE_AIRPORT_FLIGHTS_MONTH  51995 non-null  int64  \n",
      " 3   PREVIOUS_AIRPORT               51995 non-null  object \n",
      " 4   SEGMENT_NUMBER                 51995 non-null  int64  \n",
      " 5   PRCP                           51995 non-null  float64\n",
      " 6   SNOW                           51995 non-null  float64\n",
      " 7   SNWD                           51995 non-null  float64\n",
      " 8   TMAX                           51995 non-null  float64\n",
      " 9   AWND                           51995 non-null  float64\n",
      "dtypes: float64(5), int64(3), object(2)\n",
      "memory usage: 4.4+ MB\n"
     ]
    }
   ],
   "source": [
    "daydata.info()"
   ]
  },
  {
   "cell_type": "code",
   "execution_count": 6,
   "id": "c3844748",
   "metadata": {
    "ExecuteTime": {
     "end_time": "2021-12-08T16:17:13.876019Z",
     "start_time": "2021-12-08T16:17:13.784731Z"
    },
    "scrolled": true
   },
   "outputs": [
    {
     "data": {
      "text/html": [
       "<div>\n",
       "<style scoped>\n",
       "    .dataframe tbody tr th:only-of-type {\n",
       "        vertical-align: middle;\n",
       "    }\n",
       "\n",
       "    .dataframe tbody tr th {\n",
       "        vertical-align: top;\n",
       "    }\n",
       "\n",
       "    .dataframe thead th {\n",
       "        text-align: right;\n",
       "    }\n",
       "</style>\n",
       "<table border=\"1\" class=\"dataframe\">\n",
       "  <thead>\n",
       "    <tr style=\"text-align: right;\">\n",
       "      <th></th>\n",
       "      <th>DEP_DEL15</th>\n",
       "      <th>AIRLINE_AIRPORT_FLIGHTS_MONTH</th>\n",
       "      <th>SEGMENT_NUMBER</th>\n",
       "      <th>PRCP</th>\n",
       "      <th>SNOW</th>\n",
       "      <th>SNWD</th>\n",
       "      <th>TMAX</th>\n",
       "      <th>AWND</th>\n",
       "    </tr>\n",
       "  </thead>\n",
       "  <tbody>\n",
       "    <tr>\n",
       "      <th>count</th>\n",
       "      <td>51995.000000</td>\n",
       "      <td>51995.000000</td>\n",
       "      <td>51995.00000</td>\n",
       "      <td>51995.000000</td>\n",
       "      <td>51995.000000</td>\n",
       "      <td>51995.000000</td>\n",
       "      <td>51995.000000</td>\n",
       "      <td>51995.000000</td>\n",
       "    </tr>\n",
       "    <tr>\n",
       "      <th>mean</th>\n",
       "      <td>0.198077</td>\n",
       "      <td>3304.006154</td>\n",
       "      <td>2.69247</td>\n",
       "      <td>0.177483</td>\n",
       "      <td>0.105908</td>\n",
       "      <td>0.158529</td>\n",
       "      <td>59.210424</td>\n",
       "      <td>9.314073</td>\n",
       "    </tr>\n",
       "    <tr>\n",
       "      <th>std</th>\n",
       "      <td>0.398554</td>\n",
       "      <td>4024.147760</td>\n",
       "      <td>1.54669</td>\n",
       "      <td>0.331000</td>\n",
       "      <td>0.467742</td>\n",
       "      <td>0.795649</td>\n",
       "      <td>14.672152</td>\n",
       "      <td>4.222185</td>\n",
       "    </tr>\n",
       "    <tr>\n",
       "      <th>min</th>\n",
       "      <td>0.000000</td>\n",
       "      <td>1.000000</td>\n",
       "      <td>1.00000</td>\n",
       "      <td>0.000000</td>\n",
       "      <td>0.000000</td>\n",
       "      <td>0.000000</td>\n",
       "      <td>5.000000</td>\n",
       "      <td>1.120000</td>\n",
       "    </tr>\n",
       "    <tr>\n",
       "      <th>25%</th>\n",
       "      <td>0.000000</td>\n",
       "      <td>602.000000</td>\n",
       "      <td>1.00000</td>\n",
       "      <td>0.000000</td>\n",
       "      <td>0.000000</td>\n",
       "      <td>0.000000</td>\n",
       "      <td>48.000000</td>\n",
       "      <td>5.820000</td>\n",
       "    </tr>\n",
       "    <tr>\n",
       "      <th>50%</th>\n",
       "      <td>0.000000</td>\n",
       "      <td>2048.000000</td>\n",
       "      <td>2.00000</td>\n",
       "      <td>0.010000</td>\n",
       "      <td>0.000000</td>\n",
       "      <td>0.000000</td>\n",
       "      <td>59.000000</td>\n",
       "      <td>8.950000</td>\n",
       "    </tr>\n",
       "    <tr>\n",
       "      <th>75%</th>\n",
       "      <td>0.000000</td>\n",
       "      <td>4681.000000</td>\n",
       "      <td>4.00000</td>\n",
       "      <td>0.195000</td>\n",
       "      <td>0.000000</td>\n",
       "      <td>0.000000</td>\n",
       "      <td>70.000000</td>\n",
       "      <td>11.860000</td>\n",
       "    </tr>\n",
       "    <tr>\n",
       "      <th>max</th>\n",
       "      <td>1.000000</td>\n",
       "      <td>19461.000000</td>\n",
       "      <td>13.00000</td>\n",
       "      <td>2.020000</td>\n",
       "      <td>6.300000</td>\n",
       "      <td>11.000000</td>\n",
       "      <td>88.000000</td>\n",
       "      <td>25.050000</td>\n",
       "    </tr>\n",
       "  </tbody>\n",
       "</table>\n",
       "</div>"
      ],
      "text/plain": [
       "          DEP_DEL15  AIRLINE_AIRPORT_FLIGHTS_MONTH  SEGMENT_NUMBER  \\\n",
       "count  51995.000000                   51995.000000     51995.00000   \n",
       "mean       0.198077                    3304.006154         2.69247   \n",
       "std        0.398554                    4024.147760         1.54669   \n",
       "min        0.000000                       1.000000         1.00000   \n",
       "25%        0.000000                     602.000000         1.00000   \n",
       "50%        0.000000                    2048.000000         2.00000   \n",
       "75%        0.000000                    4681.000000         4.00000   \n",
       "max        1.000000                   19461.000000        13.00000   \n",
       "\n",
       "               PRCP          SNOW          SNWD          TMAX          AWND  \n",
       "count  51995.000000  51995.000000  51995.000000  51995.000000  51995.000000  \n",
       "mean       0.177483      0.105908      0.158529     59.210424      9.314073  \n",
       "std        0.331000      0.467742      0.795649     14.672152      4.222185  \n",
       "min        0.000000      0.000000      0.000000      5.000000      1.120000  \n",
       "25%        0.000000      0.000000      0.000000     48.000000      5.820000  \n",
       "50%        0.010000      0.000000      0.000000     59.000000      8.950000  \n",
       "75%        0.195000      0.000000      0.000000     70.000000     11.860000  \n",
       "max        2.020000      6.300000     11.000000     88.000000     25.050000  "
      ]
     },
     "execution_count": 6,
     "metadata": {},
     "output_type": "execute_result"
    }
   ],
   "source": [
    "daydata.describe()"
   ]
  },
  {
   "cell_type": "markdown",
   "id": "ce0ad03a",
   "metadata": {},
   "source": [
    "# Graph"
   ]
  },
  {
   "cell_type": "markdown",
   "id": "669410e3",
   "metadata": {},
   "source": [
    "## Percentage"
   ]
  },
  {
   "cell_type": "markdown",
   "id": "a2e8a693",
   "metadata": {
    "heading_collapsed": true
   },
   "source": [
    "### SEGMENT_NUMBER"
   ]
  },
  {
   "cell_type": "code",
   "execution_count": 7,
   "id": "20e29a9f",
   "metadata": {
    "ExecuteTime": {
     "end_time": "2021-12-08T16:17:13.947158Z",
     "start_time": "2021-12-08T16:17:13.881283Z"
    },
    "hidden": true,
    "scrolled": true
   },
   "outputs": [
    {
     "data": {
      "text/html": [
       "<div>\n",
       "<style scoped>\n",
       "    .dataframe tbody tr th:only-of-type {\n",
       "        vertical-align: middle;\n",
       "    }\n",
       "\n",
       "    .dataframe tbody tr th {\n",
       "        vertical-align: top;\n",
       "    }\n",
       "\n",
       "    .dataframe thead th {\n",
       "        text-align: right;\n",
       "    }\n",
       "</style>\n",
       "<table border=\"1\" class=\"dataframe\">\n",
       "  <thead>\n",
       "    <tr style=\"text-align: right;\">\n",
       "      <th>DEP_DEL15</th>\n",
       "      <th>0</th>\n",
       "      <th>1</th>\n",
       "    </tr>\n",
       "    <tr>\n",
       "      <th>SEGMENT_NUMBER</th>\n",
       "      <th></th>\n",
       "      <th></th>\n",
       "    </tr>\n",
       "  </thead>\n",
       "  <tbody>\n",
       "    <tr>\n",
       "      <th>1</th>\n",
       "      <td>11834</td>\n",
       "      <td>1805</td>\n",
       "    </tr>\n",
       "    <tr>\n",
       "      <th>2</th>\n",
       "      <td>11278</td>\n",
       "      <td>2661</td>\n",
       "    </tr>\n",
       "    <tr>\n",
       "      <th>3</th>\n",
       "      <td>7629</td>\n",
       "      <td>2272</td>\n",
       "    </tr>\n",
       "    <tr>\n",
       "      <th>4</th>\n",
       "      <td>6153</td>\n",
       "      <td>1990</td>\n",
       "    </tr>\n",
       "    <tr>\n",
       "      <th>5</th>\n",
       "      <td>2554</td>\n",
       "      <td>914</td>\n",
       "    </tr>\n",
       "    <tr>\n",
       "      <th>6</th>\n",
       "      <td>1673</td>\n",
       "      <td>493</td>\n",
       "    </tr>\n",
       "    <tr>\n",
       "      <th>7</th>\n",
       "      <td>275</td>\n",
       "      <td>84</td>\n",
       "    </tr>\n",
       "    <tr>\n",
       "      <th>8</th>\n",
       "      <td>179</td>\n",
       "      <td>62</td>\n",
       "    </tr>\n",
       "    <tr>\n",
       "      <th>9</th>\n",
       "      <td>42</td>\n",
       "      <td>8</td>\n",
       "    </tr>\n",
       "    <tr>\n",
       "      <th>10</th>\n",
       "      <td>30</td>\n",
       "      <td>5</td>\n",
       "    </tr>\n",
       "    <tr>\n",
       "      <th>11</th>\n",
       "      <td>25</td>\n",
       "      <td>3</td>\n",
       "    </tr>\n",
       "    <tr>\n",
       "      <th>12</th>\n",
       "      <td>18</td>\n",
       "      <td>2</td>\n",
       "    </tr>\n",
       "    <tr>\n",
       "      <th>13</th>\n",
       "      <td>6</td>\n",
       "      <td>0</td>\n",
       "    </tr>\n",
       "  </tbody>\n",
       "</table>\n",
       "</div>"
      ],
      "text/plain": [
       "DEP_DEL15           0     1\n",
       "SEGMENT_NUMBER             \n",
       "1               11834  1805\n",
       "2               11278  2661\n",
       "3                7629  2272\n",
       "4                6153  1990\n",
       "5                2554   914\n",
       "6                1673   493\n",
       "7                 275    84\n",
       "8                 179    62\n",
       "9                  42     8\n",
       "10                 30     5\n",
       "11                 25     3\n",
       "12                 18     2\n",
       "13                  6     0"
      ]
     },
     "execution_count": 7,
     "metadata": {},
     "output_type": "execute_result"
    }
   ],
   "source": [
    "SN = pd.crosstab(index=daydata[\"SEGMENT_NUMBER\"], \n",
    "                           columns=daydata[\"DEP_DEL15\"])\n",
    "SN"
   ]
  },
  {
   "cell_type": "code",
   "execution_count": 8,
   "id": "0d1df12e",
   "metadata": {
    "ExecuteTime": {
     "end_time": "2021-12-08T16:17:13.982505Z",
     "start_time": "2021-12-08T16:17:13.949798Z"
    },
    "hidden": true,
    "scrolled": true
   },
   "outputs": [
    {
     "name": "stderr",
     "output_type": "stream",
     "text": [
      "C:\\Users\\user\\AppData\\Local\\Temp/ipykernel_5480/2027043972.py:5: SettingWithCopyWarning: \n",
      "A value is trying to be set on a copy of a slice from a DataFrame\n",
      "\n",
      "See the caveats in the documentation: https://pandas.pydata.org/pandas-docs/stable/user_guide/indexing.html#returning-a-view-versus-a-copy\n",
      "  SNPercent[0][i] =  tempt0*100/(tempt0+tempt1)\n",
      "C:\\Users\\user\\AppData\\Local\\Temp/ipykernel_5480/2027043972.py:6: SettingWithCopyWarning: \n",
      "A value is trying to be set on a copy of a slice from a DataFrame\n",
      "\n",
      "See the caveats in the documentation: https://pandas.pydata.org/pandas-docs/stable/user_guide/indexing.html#returning-a-view-versus-a-copy\n",
      "  SNPercent[1][i] =  tempt1*100/(tempt0+tempt1)\n"
     ]
    },
    {
     "data": {
      "text/html": [
       "<div>\n",
       "<style scoped>\n",
       "    .dataframe tbody tr th:only-of-type {\n",
       "        vertical-align: middle;\n",
       "    }\n",
       "\n",
       "    .dataframe tbody tr th {\n",
       "        vertical-align: top;\n",
       "    }\n",
       "\n",
       "    .dataframe thead th {\n",
       "        text-align: right;\n",
       "    }\n",
       "</style>\n",
       "<table border=\"1\" class=\"dataframe\">\n",
       "  <thead>\n",
       "    <tr style=\"text-align: right;\">\n",
       "      <th>DEP_DEL15</th>\n",
       "      <th>0</th>\n",
       "      <th>1</th>\n",
       "    </tr>\n",
       "    <tr>\n",
       "      <th>SEGMENT_NUMBER</th>\n",
       "      <th></th>\n",
       "      <th></th>\n",
       "    </tr>\n",
       "  </thead>\n",
       "  <tbody>\n",
       "    <tr>\n",
       "      <th>5</th>\n",
       "      <td>73</td>\n",
       "      <td>26</td>\n",
       "    </tr>\n",
       "    <tr>\n",
       "      <th>8</th>\n",
       "      <td>74</td>\n",
       "      <td>25</td>\n",
       "    </tr>\n",
       "  </tbody>\n",
       "</table>\n",
       "</div>"
      ],
      "text/plain": [
       "DEP_DEL15        0   1\n",
       "SEGMENT_NUMBER        \n",
       "5               73  26\n",
       "8               74  25"
      ]
     },
     "execution_count": 8,
     "metadata": {},
     "output_type": "execute_result"
    }
   ],
   "source": [
    "SNPercent = SN[(SN[1]/(SN[0]+SN[1]))>0.25]\n",
    "for i in SNPercent[0].keys():\n",
    "    tempt0 = SNPercent[0][i]\n",
    "    tempt1 = SNPercent[1][i]\n",
    "    SNPercent[0][i] =  tempt0*100/(tempt0+tempt1)\n",
    "    SNPercent[1][i] =  tempt1*100/(tempt0+tempt1)\n",
    "SNPercent"
   ]
  },
  {
   "cell_type": "code",
   "execution_count": 9,
   "id": "d02e00b8",
   "metadata": {
    "ExecuteTime": {
     "end_time": "2021-12-08T16:17:14.008289Z",
     "start_time": "2021-12-08T16:17:13.988150Z"
    },
    "hidden": true
   },
   "outputs": [
    {
     "name": "stdout",
     "output_type": "stream",
     "text": [
      "5 : 73.64475201845444 26.35524798154556\n",
      "8 : 74.27385892116183 25.726141078838175\n"
     ]
    }
   ],
   "source": [
    "SNPercent = SN[(SN[1]/(SN[0]+SN[1]))>0.25]\n",
    "for i in SNPercent[0].keys():\n",
    "    print(str(i)+\" : \"+str(SNPercent[0][i]*100/(SNPercent[0][i]+SNPercent[1][i]))+\n",
    "          \" \"+str(SNPercent[1][i]*100/(SNPercent[0][i]+SNPercent[1][i])))"
   ]
  },
  {
   "cell_type": "markdown",
   "id": "775a9bc2",
   "metadata": {
    "heading_collapsed": true
   },
   "source": [
    "### PRCP"
   ]
  },
  {
   "cell_type": "code",
   "execution_count": 10,
   "id": "b2964ccc",
   "metadata": {
    "ExecuteTime": {
     "end_time": "2021-12-08T16:17:14.087457Z",
     "start_time": "2021-12-08T16:17:14.019434Z"
    },
    "hidden": true,
    "scrolled": true
   },
   "outputs": [
    {
     "data": {
      "text/html": [
       "<div>\n",
       "<style scoped>\n",
       "    .dataframe tbody tr th:only-of-type {\n",
       "        vertical-align: middle;\n",
       "    }\n",
       "\n",
       "    .dataframe tbody tr th {\n",
       "        vertical-align: top;\n",
       "    }\n",
       "\n",
       "    .dataframe thead th {\n",
       "        text-align: right;\n",
       "    }\n",
       "</style>\n",
       "<table border=\"1\" class=\"dataframe\">\n",
       "  <thead>\n",
       "    <tr style=\"text-align: right;\">\n",
       "      <th>DEP_DEL15</th>\n",
       "      <th>0</th>\n",
       "      <th>1</th>\n",
       "    </tr>\n",
       "    <tr>\n",
       "      <th>PRCP</th>\n",
       "      <th></th>\n",
       "      <th></th>\n",
       "    </tr>\n",
       "  </thead>\n",
       "  <tbody>\n",
       "    <tr>\n",
       "      <th>0.00</th>\n",
       "      <td>22000</td>\n",
       "      <td>3859</td>\n",
       "    </tr>\n",
       "    <tr>\n",
       "      <th>0.01</th>\n",
       "      <td>1211</td>\n",
       "      <td>269</td>\n",
       "    </tr>\n",
       "    <tr>\n",
       "      <th>0.02</th>\n",
       "      <td>450</td>\n",
       "      <td>97</td>\n",
       "    </tr>\n",
       "    <tr>\n",
       "      <th>0.03</th>\n",
       "      <td>1283</td>\n",
       "      <td>474</td>\n",
       "    </tr>\n",
       "    <tr>\n",
       "      <th>0.04</th>\n",
       "      <td>739</td>\n",
       "      <td>408</td>\n",
       "    </tr>\n",
       "    <tr>\n",
       "      <th>...</th>\n",
       "      <td>...</td>\n",
       "      <td>...</td>\n",
       "    </tr>\n",
       "    <tr>\n",
       "      <th>1.49</th>\n",
       "      <td>160</td>\n",
       "      <td>39</td>\n",
       "    </tr>\n",
       "    <tr>\n",
       "      <th>1.52</th>\n",
       "      <td>75</td>\n",
       "      <td>16</td>\n",
       "    </tr>\n",
       "    <tr>\n",
       "      <th>1.60</th>\n",
       "      <td>197</td>\n",
       "      <td>36</td>\n",
       "    </tr>\n",
       "    <tr>\n",
       "      <th>1.80</th>\n",
       "      <td>17</td>\n",
       "      <td>25</td>\n",
       "    </tr>\n",
       "    <tr>\n",
       "      <th>2.02</th>\n",
       "      <td>16</td>\n",
       "      <td>1</td>\n",
       "    </tr>\n",
       "  </tbody>\n",
       "</table>\n",
       "<p>76 rows × 2 columns</p>\n",
       "</div>"
      ],
      "text/plain": [
       "DEP_DEL15      0     1\n",
       "PRCP                  \n",
       "0.00       22000  3859\n",
       "0.01        1211   269\n",
       "0.02         450    97\n",
       "0.03        1283   474\n",
       "0.04         739   408\n",
       "...          ...   ...\n",
       "1.49         160    39\n",
       "1.52          75    16\n",
       "1.60         197    36\n",
       "1.80          17    25\n",
       "2.02          16     1\n",
       "\n",
       "[76 rows x 2 columns]"
      ]
     },
     "execution_count": 10,
     "metadata": {},
     "output_type": "execute_result"
    }
   ],
   "source": [
    "PRCP = pd.crosstab(index=daydata[\"PRCP\"], \n",
    "                           columns=daydata[\"DEP_DEL15\"])\n",
    "PRCP"
   ]
  },
  {
   "cell_type": "code",
   "execution_count": 11,
   "id": "0ae3774a",
   "metadata": {
    "ExecuteTime": {
     "end_time": "2021-12-08T16:17:14.122267Z",
     "start_time": "2021-12-08T16:17:14.090775Z"
    },
    "hidden": true,
    "scrolled": true
   },
   "outputs": [
    {
     "name": "stderr",
     "output_type": "stream",
     "text": [
      "C:\\Users\\user\\AppData\\Local\\Temp/ipykernel_5480/1167599368.py:5: SettingWithCopyWarning: \n",
      "A value is trying to be set on a copy of a slice from a DataFrame\n",
      "\n",
      "See the caveats in the documentation: https://pandas.pydata.org/pandas-docs/stable/user_guide/indexing.html#returning-a-view-versus-a-copy\n",
      "  PRCPPercent[0][i] =  tempt0*100/(tempt0+tempt1)\n",
      "C:\\Users\\user\\AppData\\Local\\Temp/ipykernel_5480/1167599368.py:6: SettingWithCopyWarning: \n",
      "A value is trying to be set on a copy of a slice from a DataFrame\n",
      "\n",
      "See the caveats in the documentation: https://pandas.pydata.org/pandas-docs/stable/user_guide/indexing.html#returning-a-view-versus-a-copy\n",
      "  PRCPPercent[1][i] =  tempt1*100/(tempt0+tempt1)\n"
     ]
    },
    {
     "data": {
      "text/html": [
       "<div>\n",
       "<style scoped>\n",
       "    .dataframe tbody tr th:only-of-type {\n",
       "        vertical-align: middle;\n",
       "    }\n",
       "\n",
       "    .dataframe tbody tr th {\n",
       "        vertical-align: top;\n",
       "    }\n",
       "\n",
       "    .dataframe thead th {\n",
       "        text-align: right;\n",
       "    }\n",
       "</style>\n",
       "<table border=\"1\" class=\"dataframe\">\n",
       "  <thead>\n",
       "    <tr style=\"text-align: right;\">\n",
       "      <th>DEP_DEL15</th>\n",
       "      <th>0</th>\n",
       "      <th>1</th>\n",
       "    </tr>\n",
       "    <tr>\n",
       "      <th>PRCP</th>\n",
       "      <th></th>\n",
       "      <th></th>\n",
       "    </tr>\n",
       "  </thead>\n",
       "  <tbody>\n",
       "    <tr>\n",
       "      <th>0.77</th>\n",
       "      <td>47</td>\n",
       "      <td>52</td>\n",
       "    </tr>\n",
       "    <tr>\n",
       "      <th>1.80</th>\n",
       "      <td>40</td>\n",
       "      <td>59</td>\n",
       "    </tr>\n",
       "  </tbody>\n",
       "</table>\n",
       "</div>"
      ],
      "text/plain": [
       "DEP_DEL15   0   1\n",
       "PRCP             \n",
       "0.77       47  52\n",
       "1.80       40  59"
      ]
     },
     "execution_count": 11,
     "metadata": {},
     "output_type": "execute_result"
    }
   ],
   "source": [
    "PRCPPercent = PRCP[(PRCP[1]/(PRCP[0]+PRCP[1]))>0.5]\n",
    "for i in PRCPPercent[0].keys():\n",
    "    tempt0 = PRCPPercent[0][i]\n",
    "    tempt1 = PRCPPercent[1][i]\n",
    "    PRCPPercent[0][i] =  tempt0*100/(tempt0+tempt1)\n",
    "    PRCPPercent[1][i] =  tempt1*100/(tempt0+tempt1)\n",
    "PRCPPercent"
   ]
  },
  {
   "cell_type": "code",
   "execution_count": 12,
   "id": "f2738502",
   "metadata": {
    "ExecuteTime": {
     "end_time": "2021-12-08T16:17:14.148047Z",
     "start_time": "2021-12-08T16:17:14.124621Z"
    },
    "hidden": true,
    "scrolled": true
   },
   "outputs": [
    {
     "name": "stdout",
     "output_type": "stream",
     "text": [
      "0.77 : 47.61904761904762 52.38095238095238\n",
      "1.8 : 40.476190476190474 59.523809523809526\n"
     ]
    }
   ],
   "source": [
    "PRCPPercent = PRCP[(PRCP[1]/(PRCP[0]+PRCP[1]))>0.5]\n",
    "for i in PRCPPercent[0].keys():\n",
    "    print(str(i)+\" : \"+str(PRCPPercent[0][i]*100/(PRCPPercent[0][i]+PRCPPercent[1][i]))+\n",
    "          \" \"+str(PRCPPercent[1][i]*100/(PRCPPercent[0][i]+PRCPPercent[1][i])))"
   ]
  },
  {
   "cell_type": "markdown",
   "id": "4a7f2a6e",
   "metadata": {
    "heading_collapsed": true
   },
   "source": [
    "### SNOW"
   ]
  },
  {
   "cell_type": "code",
   "execution_count": 13,
   "id": "f88739a5",
   "metadata": {
    "ExecuteTime": {
     "end_time": "2021-12-08T16:17:14.204347Z",
     "start_time": "2021-12-08T16:17:14.152036Z"
    },
    "hidden": true,
    "scrolled": true
   },
   "outputs": [
    {
     "data": {
      "text/html": [
       "<div>\n",
       "<style scoped>\n",
       "    .dataframe tbody tr th:only-of-type {\n",
       "        vertical-align: middle;\n",
       "    }\n",
       "\n",
       "    .dataframe tbody tr th {\n",
       "        vertical-align: top;\n",
       "    }\n",
       "\n",
       "    .dataframe thead th {\n",
       "        text-align: right;\n",
       "    }\n",
       "</style>\n",
       "<table border=\"1\" class=\"dataframe\">\n",
       "  <thead>\n",
       "    <tr style=\"text-align: right;\">\n",
       "      <th>DEP_DEL15</th>\n",
       "      <th>0</th>\n",
       "      <th>1</th>\n",
       "    </tr>\n",
       "    <tr>\n",
       "      <th>SNOW</th>\n",
       "      <th></th>\n",
       "      <th></th>\n",
       "    </tr>\n",
       "  </thead>\n",
       "  <tbody>\n",
       "    <tr>\n",
       "      <th>0.0</th>\n",
       "      <td>38071</td>\n",
       "      <td>8959</td>\n",
       "    </tr>\n",
       "    <tr>\n",
       "      <th>0.2</th>\n",
       "      <td>296</td>\n",
       "      <td>68</td>\n",
       "    </tr>\n",
       "    <tr>\n",
       "      <th>0.3</th>\n",
       "      <td>464</td>\n",
       "      <td>119</td>\n",
       "    </tr>\n",
       "    <tr>\n",
       "      <th>0.4</th>\n",
       "      <td>638</td>\n",
       "      <td>156</td>\n",
       "    </tr>\n",
       "    <tr>\n",
       "      <th>0.5</th>\n",
       "      <td>727</td>\n",
       "      <td>350</td>\n",
       "    </tr>\n",
       "    <tr>\n",
       "      <th>0.6</th>\n",
       "      <td>14</td>\n",
       "      <td>10</td>\n",
       "    </tr>\n",
       "    <tr>\n",
       "      <th>0.7</th>\n",
       "      <td>313</td>\n",
       "      <td>71</td>\n",
       "    </tr>\n",
       "    <tr>\n",
       "      <th>1.1</th>\n",
       "      <td>15</td>\n",
       "      <td>9</td>\n",
       "    </tr>\n",
       "    <tr>\n",
       "      <th>1.5</th>\n",
       "      <td>39</td>\n",
       "      <td>18</td>\n",
       "    </tr>\n",
       "    <tr>\n",
       "      <th>1.8</th>\n",
       "      <td>210</td>\n",
       "      <td>70</td>\n",
       "    </tr>\n",
       "    <tr>\n",
       "      <th>1.9</th>\n",
       "      <td>373</td>\n",
       "      <td>142</td>\n",
       "    </tr>\n",
       "    <tr>\n",
       "      <th>2.1</th>\n",
       "      <td>235</td>\n",
       "      <td>135</td>\n",
       "    </tr>\n",
       "    <tr>\n",
       "      <th>2.5</th>\n",
       "      <td>79</td>\n",
       "      <td>36</td>\n",
       "    </tr>\n",
       "    <tr>\n",
       "      <th>3.1</th>\n",
       "      <td>52</td>\n",
       "      <td>10</td>\n",
       "    </tr>\n",
       "    <tr>\n",
       "      <th>3.2</th>\n",
       "      <td>55</td>\n",
       "      <td>34</td>\n",
       "    </tr>\n",
       "    <tr>\n",
       "      <th>3.5</th>\n",
       "      <td>23</td>\n",
       "      <td>5</td>\n",
       "    </tr>\n",
       "    <tr>\n",
       "      <th>3.6</th>\n",
       "      <td>29</td>\n",
       "      <td>23</td>\n",
       "    </tr>\n",
       "    <tr>\n",
       "      <th>3.7</th>\n",
       "      <td>23</td>\n",
       "      <td>47</td>\n",
       "    </tr>\n",
       "    <tr>\n",
       "      <th>5.0</th>\n",
       "      <td>20</td>\n",
       "      <td>15</td>\n",
       "    </tr>\n",
       "    <tr>\n",
       "      <th>6.3</th>\n",
       "      <td>20</td>\n",
       "      <td>22</td>\n",
       "    </tr>\n",
       "  </tbody>\n",
       "</table>\n",
       "</div>"
      ],
      "text/plain": [
       "DEP_DEL15      0     1\n",
       "SNOW                  \n",
       "0.0        38071  8959\n",
       "0.2          296    68\n",
       "0.3          464   119\n",
       "0.4          638   156\n",
       "0.5          727   350\n",
       "0.6           14    10\n",
       "0.7          313    71\n",
       "1.1           15     9\n",
       "1.5           39    18\n",
       "1.8          210    70\n",
       "1.9          373   142\n",
       "2.1          235   135\n",
       "2.5           79    36\n",
       "3.1           52    10\n",
       "3.2           55    34\n",
       "3.5           23     5\n",
       "3.6           29    23\n",
       "3.7           23    47\n",
       "5.0           20    15\n",
       "6.3           20    22"
      ]
     },
     "execution_count": 13,
     "metadata": {},
     "output_type": "execute_result"
    }
   ],
   "source": [
    "SNOW = pd.crosstab(index=daydata[\"SNOW\"], \n",
    "                           columns=daydata[\"DEP_DEL15\"])\n",
    "SNOW"
   ]
  },
  {
   "cell_type": "code",
   "execution_count": 14,
   "id": "7cdcea49",
   "metadata": {
    "ExecuteTime": {
     "end_time": "2021-12-08T16:17:14.252524Z",
     "start_time": "2021-12-08T16:17:14.208337Z"
    },
    "hidden": true,
    "scrolled": true
   },
   "outputs": [
    {
     "name": "stderr",
     "output_type": "stream",
     "text": [
      "C:\\Users\\user\\AppData\\Local\\Temp/ipykernel_5480/1998872615.py:5: SettingWithCopyWarning: \n",
      "A value is trying to be set on a copy of a slice from a DataFrame\n",
      "\n",
      "See the caveats in the documentation: https://pandas.pydata.org/pandas-docs/stable/user_guide/indexing.html#returning-a-view-versus-a-copy\n",
      "  SNOWPercent[0][i] =  tempt0*100/(tempt0+tempt1)\n",
      "C:\\Users\\user\\AppData\\Local\\Temp/ipykernel_5480/1998872615.py:6: SettingWithCopyWarning: \n",
      "A value is trying to be set on a copy of a slice from a DataFrame\n",
      "\n",
      "See the caveats in the documentation: https://pandas.pydata.org/pandas-docs/stable/user_guide/indexing.html#returning-a-view-versus-a-copy\n",
      "  SNOWPercent[1][i] =  tempt1*100/(tempt0+tempt1)\n"
     ]
    },
    {
     "data": {
      "text/html": [
       "<div>\n",
       "<style scoped>\n",
       "    .dataframe tbody tr th:only-of-type {\n",
       "        vertical-align: middle;\n",
       "    }\n",
       "\n",
       "    .dataframe tbody tr th {\n",
       "        vertical-align: top;\n",
       "    }\n",
       "\n",
       "    .dataframe thead th {\n",
       "        text-align: right;\n",
       "    }\n",
       "</style>\n",
       "<table border=\"1\" class=\"dataframe\">\n",
       "  <thead>\n",
       "    <tr style=\"text-align: right;\">\n",
       "      <th>DEP_DEL15</th>\n",
       "      <th>0</th>\n",
       "      <th>1</th>\n",
       "    </tr>\n",
       "    <tr>\n",
       "      <th>SNOW</th>\n",
       "      <th></th>\n",
       "      <th></th>\n",
       "    </tr>\n",
       "  </thead>\n",
       "  <tbody>\n",
       "    <tr>\n",
       "      <th>0.5</th>\n",
       "      <td>67</td>\n",
       "      <td>32</td>\n",
       "    </tr>\n",
       "    <tr>\n",
       "      <th>0.6</th>\n",
       "      <td>58</td>\n",
       "      <td>41</td>\n",
       "    </tr>\n",
       "    <tr>\n",
       "      <th>1.1</th>\n",
       "      <td>62</td>\n",
       "      <td>37</td>\n",
       "    </tr>\n",
       "    <tr>\n",
       "      <th>1.5</th>\n",
       "      <td>68</td>\n",
       "      <td>31</td>\n",
       "    </tr>\n",
       "    <tr>\n",
       "      <th>1.9</th>\n",
       "      <td>72</td>\n",
       "      <td>27</td>\n",
       "    </tr>\n",
       "    <tr>\n",
       "      <th>2.1</th>\n",
       "      <td>63</td>\n",
       "      <td>36</td>\n",
       "    </tr>\n",
       "    <tr>\n",
       "      <th>2.5</th>\n",
       "      <td>68</td>\n",
       "      <td>31</td>\n",
       "    </tr>\n",
       "    <tr>\n",
       "      <th>3.2</th>\n",
       "      <td>61</td>\n",
       "      <td>38</td>\n",
       "    </tr>\n",
       "    <tr>\n",
       "      <th>3.6</th>\n",
       "      <td>55</td>\n",
       "      <td>44</td>\n",
       "    </tr>\n",
       "    <tr>\n",
       "      <th>3.7</th>\n",
       "      <td>32</td>\n",
       "      <td>67</td>\n",
       "    </tr>\n",
       "    <tr>\n",
       "      <th>5.0</th>\n",
       "      <td>57</td>\n",
       "      <td>42</td>\n",
       "    </tr>\n",
       "    <tr>\n",
       "      <th>6.3</th>\n",
       "      <td>47</td>\n",
       "      <td>52</td>\n",
       "    </tr>\n",
       "  </tbody>\n",
       "</table>\n",
       "</div>"
      ],
      "text/plain": [
       "DEP_DEL15   0   1\n",
       "SNOW             \n",
       "0.5        67  32\n",
       "0.6        58  41\n",
       "1.1        62  37\n",
       "1.5        68  31\n",
       "1.9        72  27\n",
       "2.1        63  36\n",
       "2.5        68  31\n",
       "3.2        61  38\n",
       "3.6        55  44\n",
       "3.7        32  67\n",
       "5.0        57  42\n",
       "6.3        47  52"
      ]
     },
     "execution_count": 14,
     "metadata": {},
     "output_type": "execute_result"
    }
   ],
   "source": [
    "SNOWPercent = SNOW[(SNOW[1]/(SNOW[0]+SNOW[1]))>0.25]\n",
    "for i in SNOWPercent[0].keys():\n",
    "    tempt0 = SNOWPercent[0][i]\n",
    "    tempt1 = SNOWPercent[1][i]\n",
    "    SNOWPercent[0][i] =  tempt0*100/(tempt0+tempt1)\n",
    "    SNOWPercent[1][i] =  tempt1*100/(tempt0+tempt1)\n",
    "SNOWPercent"
   ]
  },
  {
   "cell_type": "code",
   "execution_count": 15,
   "id": "2ba3c792",
   "metadata": {
    "ExecuteTime": {
     "end_time": "2021-12-08T16:17:14.276736Z",
     "start_time": "2021-12-08T16:17:14.257526Z"
    },
    "hidden": true,
    "scrolled": false
   },
   "outputs": [
    {
     "name": "stdout",
     "output_type": "stream",
     "text": [
      "0.5 : 67.50232126276694 \t32.49767873723305\n",
      "0.6 : 58.333333333333336 \t41.666666666666664\n",
      "1.1 : 62.5 \t37.5\n",
      "1.5 : 68.42105263157895 \t31.57894736842105\n",
      "1.9 : 72.42718446601941 \t27.57281553398058\n",
      "2.1 : 63.513513513513516 \t36.486486486486484\n",
      "2.5 : 68.69565217391305 \t31.304347826086957\n",
      "3.2 : 61.79775280898876 \t38.20224719101124\n",
      "3.6 : 55.76923076923077 \t44.23076923076923\n",
      "3.7 : 32.857142857142854 \t67.14285714285714\n",
      "5.0 : 57.142857142857146 \t42.857142857142854\n",
      "6.3 : 47.61904761904762 \t52.38095238095238\n"
     ]
    }
   ],
   "source": [
    "SNOWPercent = SNOW[(SNOW[1]/(SNOW[0]+SNOW[1]))>0.25]\n",
    "for i in SNOWPercent[0].keys():\n",
    "    print(str(i)+\" : \"+str(SNOWPercent[0][i]*100/(SNOWPercent[0][i]+SNOWPercent[1][i]))+\n",
    "          \" \\t\"+str(SNOWPercent[1][i]*100/(SNOWPercent[0][i]+SNOWPercent[1][i])))"
   ]
  },
  {
   "cell_type": "markdown",
   "id": "1330366f",
   "metadata": {
    "heading_collapsed": true
   },
   "source": [
    "### SNWD"
   ]
  },
  {
   "cell_type": "code",
   "execution_count": 16,
   "id": "b9d03e1a",
   "metadata": {
    "ExecuteTime": {
     "end_time": "2021-12-08T16:17:14.339024Z",
     "start_time": "2021-12-08T16:17:14.281365Z"
    },
    "hidden": true,
    "scrolled": true
   },
   "outputs": [
    {
     "data": {
      "text/html": [
       "<div>\n",
       "<style scoped>\n",
       "    .dataframe tbody tr th:only-of-type {\n",
       "        vertical-align: middle;\n",
       "    }\n",
       "\n",
       "    .dataframe tbody tr th {\n",
       "        vertical-align: top;\n",
       "    }\n",
       "\n",
       "    .dataframe thead th {\n",
       "        text-align: right;\n",
       "    }\n",
       "</style>\n",
       "<table border=\"1\" class=\"dataframe\">\n",
       "  <thead>\n",
       "    <tr style=\"text-align: right;\">\n",
       "      <th>DEP_DEL15</th>\n",
       "      <th>0</th>\n",
       "      <th>1</th>\n",
       "    </tr>\n",
       "    <tr>\n",
       "      <th>SNWD</th>\n",
       "      <th></th>\n",
       "      <th></th>\n",
       "    </tr>\n",
       "  </thead>\n",
       "  <tbody>\n",
       "    <tr>\n",
       "      <th>0.0</th>\n",
       "      <td>39025</td>\n",
       "      <td>9267</td>\n",
       "    </tr>\n",
       "    <tr>\n",
       "      <th>1.2</th>\n",
       "      <td>1625</td>\n",
       "      <td>546</td>\n",
       "    </tr>\n",
       "    <tr>\n",
       "      <th>2.0</th>\n",
       "      <td>581</td>\n",
       "      <td>370</td>\n",
       "    </tr>\n",
       "    <tr>\n",
       "      <th>3.1</th>\n",
       "      <td>41</td>\n",
       "      <td>4</td>\n",
       "    </tr>\n",
       "    <tr>\n",
       "      <th>3.9</th>\n",
       "      <td>109</td>\n",
       "      <td>33</td>\n",
       "    </tr>\n",
       "    <tr>\n",
       "      <th>5.1</th>\n",
       "      <td>39</td>\n",
       "      <td>18</td>\n",
       "    </tr>\n",
       "    <tr>\n",
       "      <th>5.9</th>\n",
       "      <td>43</td>\n",
       "      <td>12</td>\n",
       "    </tr>\n",
       "    <tr>\n",
       "      <th>7.1</th>\n",
       "      <td>15</td>\n",
       "      <td>14</td>\n",
       "    </tr>\n",
       "    <tr>\n",
       "      <th>7.9</th>\n",
       "      <td>130</td>\n",
       "      <td>19</td>\n",
       "    </tr>\n",
       "    <tr>\n",
       "      <th>9.1</th>\n",
       "      <td>23</td>\n",
       "      <td>5</td>\n",
       "    </tr>\n",
       "    <tr>\n",
       "      <th>9.8</th>\n",
       "      <td>33</td>\n",
       "      <td>6</td>\n",
       "    </tr>\n",
       "    <tr>\n",
       "      <th>11.0</th>\n",
       "      <td>32</td>\n",
       "      <td>5</td>\n",
       "    </tr>\n",
       "  </tbody>\n",
       "</table>\n",
       "</div>"
      ],
      "text/plain": [
       "DEP_DEL15      0     1\n",
       "SNWD                  \n",
       "0.0        39025  9267\n",
       "1.2         1625   546\n",
       "2.0          581   370\n",
       "3.1           41     4\n",
       "3.9          109    33\n",
       "5.1           39    18\n",
       "5.9           43    12\n",
       "7.1           15    14\n",
       "7.9          130    19\n",
       "9.1           23     5\n",
       "9.8           33     6\n",
       "11.0          32     5"
      ]
     },
     "execution_count": 16,
     "metadata": {},
     "output_type": "execute_result"
    }
   ],
   "source": [
    "SNWD = pd.crosstab(index=daydata[\"SNWD\"], \n",
    "                           columns=daydata[\"DEP_DEL15\"])\n",
    "SNWD"
   ]
  },
  {
   "cell_type": "code",
   "execution_count": 17,
   "id": "92577bdc",
   "metadata": {
    "ExecuteTime": {
     "end_time": "2021-12-08T16:17:14.372506Z",
     "start_time": "2021-12-08T16:17:14.342178Z"
    },
    "hidden": true,
    "scrolled": true
   },
   "outputs": [
    {
     "name": "stderr",
     "output_type": "stream",
     "text": [
      "C:\\Users\\user\\AppData\\Local\\Temp/ipykernel_5480/1750940319.py:5: SettingWithCopyWarning: \n",
      "A value is trying to be set on a copy of a slice from a DataFrame\n",
      "\n",
      "See the caveats in the documentation: https://pandas.pydata.org/pandas-docs/stable/user_guide/indexing.html#returning-a-view-versus-a-copy\n",
      "  SNWDPercent[0][i] =  tempt0*100/(tempt0+tempt1)\n",
      "C:\\Users\\user\\AppData\\Local\\Temp/ipykernel_5480/1750940319.py:6: SettingWithCopyWarning: \n",
      "A value is trying to be set on a copy of a slice from a DataFrame\n",
      "\n",
      "See the caveats in the documentation: https://pandas.pydata.org/pandas-docs/stable/user_guide/indexing.html#returning-a-view-versus-a-copy\n",
      "  SNWDPercent[1][i] =  tempt1*100/(tempt0+tempt1)\n"
     ]
    },
    {
     "data": {
      "text/html": [
       "<div>\n",
       "<style scoped>\n",
       "    .dataframe tbody tr th:only-of-type {\n",
       "        vertical-align: middle;\n",
       "    }\n",
       "\n",
       "    .dataframe tbody tr th {\n",
       "        vertical-align: top;\n",
       "    }\n",
       "\n",
       "    .dataframe thead th {\n",
       "        text-align: right;\n",
       "    }\n",
       "</style>\n",
       "<table border=\"1\" class=\"dataframe\">\n",
       "  <thead>\n",
       "    <tr style=\"text-align: right;\">\n",
       "      <th>DEP_DEL15</th>\n",
       "      <th>0</th>\n",
       "      <th>1</th>\n",
       "    </tr>\n",
       "    <tr>\n",
       "      <th>SNWD</th>\n",
       "      <th></th>\n",
       "      <th></th>\n",
       "    </tr>\n",
       "  </thead>\n",
       "  <tbody>\n",
       "    <tr>\n",
       "      <th>1.2</th>\n",
       "      <td>74</td>\n",
       "      <td>25</td>\n",
       "    </tr>\n",
       "    <tr>\n",
       "      <th>2.0</th>\n",
       "      <td>61</td>\n",
       "      <td>38</td>\n",
       "    </tr>\n",
       "    <tr>\n",
       "      <th>5.1</th>\n",
       "      <td>68</td>\n",
       "      <td>31</td>\n",
       "    </tr>\n",
       "    <tr>\n",
       "      <th>7.1</th>\n",
       "      <td>51</td>\n",
       "      <td>48</td>\n",
       "    </tr>\n",
       "  </tbody>\n",
       "</table>\n",
       "</div>"
      ],
      "text/plain": [
       "DEP_DEL15   0   1\n",
       "SNWD             \n",
       "1.2        74  25\n",
       "2.0        61  38\n",
       "5.1        68  31\n",
       "7.1        51  48"
      ]
     },
     "execution_count": 17,
     "metadata": {},
     "output_type": "execute_result"
    }
   ],
   "source": [
    "SNWDPercent = SNWD[(SNWD[1]/(SNWD[0]+SNWD[1]))>0.25]\n",
    "for i in SNWDPercent[0].keys():\n",
    "    tempt0 = SNWDPercent[0][i]\n",
    "    tempt1 = SNWDPercent[1][i]\n",
    "    SNWDPercent[0][i] =  tempt0*100/(tempt0+tempt1)\n",
    "    SNWDPercent[1][i] =  tempt1*100/(tempt0+tempt1)\n",
    "SNWDPercent"
   ]
  },
  {
   "cell_type": "code",
   "execution_count": 18,
   "id": "b725567b",
   "metadata": {
    "ExecuteTime": {
     "end_time": "2021-12-08T16:17:14.397773Z",
     "start_time": "2021-12-08T16:17:14.376237Z"
    },
    "hidden": true,
    "scrolled": false
   },
   "outputs": [
    {
     "name": "stdout",
     "output_type": "stream",
     "text": [
      "1.2 : 74.8502994011976 \t25.149700598802394\n",
      "2.0 : 61.09358569926393 \t38.90641430073607\n",
      "5.1 : 68.42105263157895 \t31.57894736842105\n",
      "7.1 : 51.724137931034484 \t48.275862068965516\n"
     ]
    }
   ],
   "source": [
    "SNWDPercent = SNWD[(SNWD[1]/(SNWD[0]+SNWD[1]))>0.25]\n",
    "for i in SNWDPercent[0].keys():\n",
    "    print(str(i)+\" : \"+str(SNWDPercent[0][i]*100/(SNWDPercent[0][i]+SNWDPercent[1][i]))+\n",
    "          \" \\t\"+str(SNWDPercent[1][i]*100/(SNWDPercent[0][i]+SNWDPercent[1][i])))"
   ]
  },
  {
   "cell_type": "markdown",
   "id": "23922a8d",
   "metadata": {},
   "source": [
    "### TMAX"
   ]
  },
  {
   "cell_type": "code",
   "execution_count": 19,
   "id": "43043e96",
   "metadata": {
    "ExecuteTime": {
     "end_time": "2021-12-08T16:17:14.454765Z",
     "start_time": "2021-12-08T16:17:14.401774Z"
    },
    "scrolled": true
   },
   "outputs": [
    {
     "data": {
      "text/html": [
       "<div>\n",
       "<style scoped>\n",
       "    .dataframe tbody tr th:only-of-type {\n",
       "        vertical-align: middle;\n",
       "    }\n",
       "\n",
       "    .dataframe tbody tr th {\n",
       "        vertical-align: top;\n",
       "    }\n",
       "\n",
       "    .dataframe thead th {\n",
       "        text-align: right;\n",
       "    }\n",
       "</style>\n",
       "<table border=\"1\" class=\"dataframe\">\n",
       "  <thead>\n",
       "    <tr style=\"text-align: right;\">\n",
       "      <th>DEP_DEL15</th>\n",
       "      <th>0</th>\n",
       "      <th>1</th>\n",
       "    </tr>\n",
       "    <tr>\n",
       "      <th>TMAX</th>\n",
       "      <th></th>\n",
       "      <th></th>\n",
       "    </tr>\n",
       "  </thead>\n",
       "  <tbody>\n",
       "    <tr>\n",
       "      <th>5.0</th>\n",
       "      <td>68</td>\n",
       "      <td>13</td>\n",
       "    </tr>\n",
       "    <tr>\n",
       "      <th>10.0</th>\n",
       "      <td>36</td>\n",
       "      <td>3</td>\n",
       "    </tr>\n",
       "    <tr>\n",
       "      <th>11.0</th>\n",
       "      <td>32</td>\n",
       "      <td>5</td>\n",
       "    </tr>\n",
       "    <tr>\n",
       "      <th>20.0</th>\n",
       "      <td>22</td>\n",
       "      <td>10</td>\n",
       "    </tr>\n",
       "    <tr>\n",
       "      <th>22.0</th>\n",
       "      <td>23</td>\n",
       "      <td>47</td>\n",
       "    </tr>\n",
       "    <tr>\n",
       "      <th>...</th>\n",
       "      <td>...</td>\n",
       "      <td>...</td>\n",
       "    </tr>\n",
       "    <tr>\n",
       "      <th>84.0</th>\n",
       "      <td>1208</td>\n",
       "      <td>273</td>\n",
       "    </tr>\n",
       "    <tr>\n",
       "      <th>85.0</th>\n",
       "      <td>150</td>\n",
       "      <td>47</td>\n",
       "    </tr>\n",
       "    <tr>\n",
       "      <th>86.0</th>\n",
       "      <td>94</td>\n",
       "      <td>34</td>\n",
       "    </tr>\n",
       "    <tr>\n",
       "      <th>87.0</th>\n",
       "      <td>350</td>\n",
       "      <td>249</td>\n",
       "    </tr>\n",
       "    <tr>\n",
       "      <th>88.0</th>\n",
       "      <td>60</td>\n",
       "      <td>34</td>\n",
       "    </tr>\n",
       "  </tbody>\n",
       "</table>\n",
       "<p>66 rows × 2 columns</p>\n",
       "</div>"
      ],
      "text/plain": [
       "DEP_DEL15     0    1\n",
       "TMAX                \n",
       "5.0          68   13\n",
       "10.0         36    3\n",
       "11.0         32    5\n",
       "20.0         22   10\n",
       "22.0         23   47\n",
       "...         ...  ...\n",
       "84.0       1208  273\n",
       "85.0        150   47\n",
       "86.0         94   34\n",
       "87.0        350  249\n",
       "88.0         60   34\n",
       "\n",
       "[66 rows x 2 columns]"
      ]
     },
     "execution_count": 19,
     "metadata": {},
     "output_type": "execute_result"
    }
   ],
   "source": [
    "TMAX = pd.crosstab(index=daydata[\"TMAX\"], \n",
    "                           columns=daydata[\"DEP_DEL15\"])\n",
    "TMAX"
   ]
  },
  {
   "cell_type": "code",
   "execution_count": 20,
   "id": "4334438d",
   "metadata": {
    "ExecuteTime": {
     "end_time": "2021-12-08T16:17:14.504106Z",
     "start_time": "2021-12-08T16:17:14.457767Z"
    },
    "scrolled": true
   },
   "outputs": [
    {
     "name": "stderr",
     "output_type": "stream",
     "text": [
      "C:\\Users\\user\\AppData\\Local\\Temp/ipykernel_5480/271871790.py:5: SettingWithCopyWarning: \n",
      "A value is trying to be set on a copy of a slice from a DataFrame\n",
      "\n",
      "See the caveats in the documentation: https://pandas.pydata.org/pandas-docs/stable/user_guide/indexing.html#returning-a-view-versus-a-copy\n",
      "  TMAXPercent[0][i] =  tempt0*100/(tempt0+tempt1)\n",
      "C:\\Users\\user\\AppData\\Local\\Temp/ipykernel_5480/271871790.py:6: SettingWithCopyWarning: \n",
      "A value is trying to be set on a copy of a slice from a DataFrame\n",
      "\n",
      "See the caveats in the documentation: https://pandas.pydata.org/pandas-docs/stable/user_guide/indexing.html#returning-a-view-versus-a-copy\n",
      "  TMAXPercent[1][i] =  tempt1*100/(tempt0+tempt1)\n"
     ]
    },
    {
     "data": {
      "text/html": [
       "<div>\n",
       "<style scoped>\n",
       "    .dataframe tbody tr th:only-of-type {\n",
       "        vertical-align: middle;\n",
       "    }\n",
       "\n",
       "    .dataframe tbody tr th {\n",
       "        vertical-align: top;\n",
       "    }\n",
       "\n",
       "    .dataframe thead th {\n",
       "        text-align: right;\n",
       "    }\n",
       "</style>\n",
       "<table border=\"1\" class=\"dataframe\">\n",
       "  <thead>\n",
       "    <tr style=\"text-align: right;\">\n",
       "      <th>DEP_DEL15</th>\n",
       "      <th>0</th>\n",
       "      <th>1</th>\n",
       "    </tr>\n",
       "    <tr>\n",
       "      <th>TMAX</th>\n",
       "      <th></th>\n",
       "      <th></th>\n",
       "    </tr>\n",
       "  </thead>\n",
       "  <tbody>\n",
       "    <tr>\n",
       "      <th>20.0</th>\n",
       "      <td>68</td>\n",
       "      <td>31</td>\n",
       "    </tr>\n",
       "    <tr>\n",
       "      <th>22.0</th>\n",
       "      <td>32</td>\n",
       "      <td>67</td>\n",
       "    </tr>\n",
       "    <tr>\n",
       "      <th>30.0</th>\n",
       "      <td>58</td>\n",
       "      <td>41</td>\n",
       "    </tr>\n",
       "    <tr>\n",
       "      <th>33.0</th>\n",
       "      <td>68</td>\n",
       "      <td>31</td>\n",
       "    </tr>\n",
       "    <tr>\n",
       "      <th>35.0</th>\n",
       "      <td>59</td>\n",
       "      <td>40</td>\n",
       "    </tr>\n",
       "    <tr>\n",
       "      <th>43.0</th>\n",
       "      <td>68</td>\n",
       "      <td>31</td>\n",
       "    </tr>\n",
       "    <tr>\n",
       "      <th>74.0</th>\n",
       "      <td>58</td>\n",
       "      <td>41</td>\n",
       "    </tr>\n",
       "    <tr>\n",
       "      <th>82.0</th>\n",
       "      <td>59</td>\n",
       "      <td>40</td>\n",
       "    </tr>\n",
       "    <tr>\n",
       "      <th>87.0</th>\n",
       "      <td>58</td>\n",
       "      <td>41</td>\n",
       "    </tr>\n",
       "    <tr>\n",
       "      <th>88.0</th>\n",
       "      <td>63</td>\n",
       "      <td>36</td>\n",
       "    </tr>\n",
       "  </tbody>\n",
       "</table>\n",
       "</div>"
      ],
      "text/plain": [
       "DEP_DEL15   0   1\n",
       "TMAX             \n",
       "20.0       68  31\n",
       "22.0       32  67\n",
       "30.0       58  41\n",
       "33.0       68  31\n",
       "35.0       59  40\n",
       "43.0       68  31\n",
       "74.0       58  41\n",
       "82.0       59  40\n",
       "87.0       58  41\n",
       "88.0       63  36"
      ]
     },
     "execution_count": 20,
     "metadata": {},
     "output_type": "execute_result"
    }
   ],
   "source": [
    "TMAXPercent = TMAX[(TMAX[1]/(TMAX[0]+TMAX[1]))>0.3]\n",
    "for i in TMAXPercent[0].keys():\n",
    "    tempt0 = TMAXPercent[0][i]\n",
    "    tempt1 = TMAXPercent[1][i]\n",
    "    TMAXPercent[0][i] =  tempt0*100/(tempt0+tempt1)\n",
    "    TMAXPercent[1][i] =  tempt1*100/(tempt0+tempt1)\n",
    "TMAXPercent"
   ]
  },
  {
   "cell_type": "code",
   "execution_count": 21,
   "id": "a28e7e3a",
   "metadata": {
    "ExecuteTime": {
     "end_time": "2021-12-08T16:17:14.538116Z",
     "start_time": "2021-12-08T16:17:14.508016Z"
    },
    "scrolled": false
   },
   "outputs": [
    {
     "name": "stdout",
     "output_type": "stream",
     "text": [
      "20.0 : 68.75 \t31.25\n",
      "22.0 : 32.857142857142854 \t67.14285714285714\n",
      "30.0 : 58.333333333333336 \t41.666666666666664\n",
      "33.0 : 68.52886405959032 \t31.471135940409685\n",
      "35.0 : 59.66183574879227 \t40.33816425120773\n",
      "43.0 : 68.85119506553585 \t31.14880493446415\n",
      "74.0 : 58.45410628019324 \t41.54589371980676\n",
      "82.0 : 59.31558935361217 \t40.68441064638783\n",
      "87.0 : 58.43071786310517 \t41.56928213689483\n",
      "88.0 : 63.829787234042556 \t36.170212765957444\n"
     ]
    }
   ],
   "source": [
    "TMAXPercent = TMAX[(TMAX[1]/(TMAX[0]+TMAX[1]))>0.3]\n",
    "for i in TMAXPercent[0].keys():\n",
    "    print(str(i)+\" : \"+str(TMAXPercent[0][i]*100/(TMAXPercent[0][i]+TMAXPercent[1][i]))+\n",
    "          \" \\t\"+str(TMAXPercent[1][i]*100/(TMAXPercent[0][i]+TMAXPercent[1][i])))"
   ]
  },
  {
   "cell_type": "markdown",
   "id": "4feb12d0",
   "metadata": {
    "heading_collapsed": true
   },
   "source": [
    "### AWND"
   ]
  },
  {
   "cell_type": "code",
   "execution_count": 28,
   "id": "5b5413ec",
   "metadata": {
    "ExecuteTime": {
     "end_time": "2021-12-08T16:18:39.387941Z",
     "start_time": "2021-12-08T16:18:39.321099Z"
    },
    "hidden": true,
    "scrolled": true
   },
   "outputs": [
    {
     "data": {
      "text/html": [
       "<div>\n",
       "<style scoped>\n",
       "    .dataframe tbody tr th:only-of-type {\n",
       "        vertical-align: middle;\n",
       "    }\n",
       "\n",
       "    .dataframe tbody tr th {\n",
       "        vertical-align: top;\n",
       "    }\n",
       "\n",
       "    .dataframe thead th {\n",
       "        text-align: right;\n",
       "    }\n",
       "</style>\n",
       "<table border=\"1\" class=\"dataframe\">\n",
       "  <thead>\n",
       "    <tr style=\"text-align: right;\">\n",
       "      <th>DEP_DEL15</th>\n",
       "      <th>0</th>\n",
       "      <th>1</th>\n",
       "    </tr>\n",
       "    <tr>\n",
       "      <th>AWND</th>\n",
       "      <th></th>\n",
       "      <th></th>\n",
       "    </tr>\n",
       "  </thead>\n",
       "  <tbody>\n",
       "    <tr>\n",
       "      <th>1.12</th>\n",
       "      <td>40</td>\n",
       "      <td>2</td>\n",
       "    </tr>\n",
       "    <tr>\n",
       "      <th>1.34</th>\n",
       "      <td>92</td>\n",
       "      <td>9</td>\n",
       "    </tr>\n",
       "    <tr>\n",
       "      <th>1.79</th>\n",
       "      <td>73</td>\n",
       "      <td>5</td>\n",
       "    </tr>\n",
       "    <tr>\n",
       "      <th>2.01</th>\n",
       "      <td>122</td>\n",
       "      <td>15</td>\n",
       "    </tr>\n",
       "    <tr>\n",
       "      <th>2.24</th>\n",
       "      <td>37</td>\n",
       "      <td>5</td>\n",
       "    </tr>\n",
       "    <tr>\n",
       "      <th>...</th>\n",
       "      <td>...</td>\n",
       "      <td>...</td>\n",
       "    </tr>\n",
       "    <tr>\n",
       "      <th>20.36</th>\n",
       "      <td>28</td>\n",
       "      <td>3</td>\n",
       "    </tr>\n",
       "    <tr>\n",
       "      <th>21.92</th>\n",
       "      <td>27</td>\n",
       "      <td>12</td>\n",
       "    </tr>\n",
       "    <tr>\n",
       "      <th>23.04</th>\n",
       "      <td>38</td>\n",
       "      <td>2</td>\n",
       "    </tr>\n",
       "    <tr>\n",
       "      <th>23.71</th>\n",
       "      <td>15</td>\n",
       "      <td>14</td>\n",
       "    </tr>\n",
       "    <tr>\n",
       "      <th>25.05</th>\n",
       "      <td>235</td>\n",
       "      <td>135</td>\n",
       "    </tr>\n",
       "  </tbody>\n",
       "</table>\n",
       "<p>81 rows × 2 columns</p>\n",
       "</div>"
      ],
      "text/plain": [
       "DEP_DEL15    0    1\n",
       "AWND               \n",
       "1.12        40    2\n",
       "1.34        92    9\n",
       "1.79        73    5\n",
       "2.01       122   15\n",
       "2.24        37    5\n",
       "...        ...  ...\n",
       "20.36       28    3\n",
       "21.92       27   12\n",
       "23.04       38    2\n",
       "23.71       15   14\n",
       "25.05      235  135\n",
       "\n",
       "[81 rows x 2 columns]"
      ]
     },
     "execution_count": 28,
     "metadata": {},
     "output_type": "execute_result"
    }
   ],
   "source": [
    "AWND = pd.crosstab(index=daydata[\"AWND\"], \n",
    "                           columns=daydata[\"DEP_DEL15\"])\n",
    "AWND"
   ]
  },
  {
   "cell_type": "code",
   "execution_count": 30,
   "id": "c26ff6d8",
   "metadata": {
    "ExecuteTime": {
     "end_time": "2021-12-08T16:19:07.714994Z",
     "start_time": "2021-12-08T16:19:07.671317Z"
    },
    "hidden": true,
    "scrolled": true
   },
   "outputs": [
    {
     "name": "stderr",
     "output_type": "stream",
     "text": [
      "C:\\Users\\user\\AppData\\Local\\Temp/ipykernel_5480/2273280087.py:5: SettingWithCopyWarning: \n",
      "A value is trying to be set on a copy of a slice from a DataFrame\n",
      "\n",
      "See the caveats in the documentation: https://pandas.pydata.org/pandas-docs/stable/user_guide/indexing.html#returning-a-view-versus-a-copy\n",
      "  AWNDPercent[0][i] =  tempt0*100/(tempt0+tempt1)\n",
      "C:\\Users\\user\\AppData\\Local\\Temp/ipykernel_5480/2273280087.py:6: SettingWithCopyWarning: \n",
      "A value is trying to be set on a copy of a slice from a DataFrame\n",
      "\n",
      "See the caveats in the documentation: https://pandas.pydata.org/pandas-docs/stable/user_guide/indexing.html#returning-a-view-versus-a-copy\n",
      "  AWNDPercent[1][i] =  tempt1*100/(tempt0+tempt1)\n"
     ]
    },
    {
     "data": {
      "text/html": [
       "<div>\n",
       "<style scoped>\n",
       "    .dataframe tbody tr th:only-of-type {\n",
       "        vertical-align: middle;\n",
       "    }\n",
       "\n",
       "    .dataframe tbody tr th {\n",
       "        vertical-align: top;\n",
       "    }\n",
       "\n",
       "    .dataframe thead th {\n",
       "        text-align: right;\n",
       "    }\n",
       "</style>\n",
       "<table border=\"1\" class=\"dataframe\">\n",
       "  <thead>\n",
       "    <tr style=\"text-align: right;\">\n",
       "      <th>DEP_DEL15</th>\n",
       "      <th>0</th>\n",
       "      <th>1</th>\n",
       "    </tr>\n",
       "    <tr>\n",
       "      <th>AWND</th>\n",
       "      <th></th>\n",
       "      <th></th>\n",
       "    </tr>\n",
       "  </thead>\n",
       "  <tbody>\n",
       "    <tr>\n",
       "      <th>11.86</th>\n",
       "      <td>67</td>\n",
       "      <td>32</td>\n",
       "    </tr>\n",
       "    <tr>\n",
       "      <th>12.30</th>\n",
       "      <td>56</td>\n",
       "      <td>43</td>\n",
       "    </tr>\n",
       "    <tr>\n",
       "      <th>14.32</th>\n",
       "      <td>61</td>\n",
       "      <td>38</td>\n",
       "    </tr>\n",
       "    <tr>\n",
       "      <th>15.21</th>\n",
       "      <td>69</td>\n",
       "      <td>30</td>\n",
       "    </tr>\n",
       "    <tr>\n",
       "      <th>15.88</th>\n",
       "      <td>58</td>\n",
       "      <td>41</td>\n",
       "    </tr>\n",
       "    <tr>\n",
       "      <th>19.01</th>\n",
       "      <td>61</td>\n",
       "      <td>38</td>\n",
       "    </tr>\n",
       "    <tr>\n",
       "      <th>19.24</th>\n",
       "      <td>68</td>\n",
       "      <td>31</td>\n",
       "    </tr>\n",
       "    <tr>\n",
       "      <th>19.46</th>\n",
       "      <td>67</td>\n",
       "      <td>32</td>\n",
       "    </tr>\n",
       "    <tr>\n",
       "      <th>21.92</th>\n",
       "      <td>69</td>\n",
       "      <td>30</td>\n",
       "    </tr>\n",
       "    <tr>\n",
       "      <th>23.71</th>\n",
       "      <td>51</td>\n",
       "      <td>48</td>\n",
       "    </tr>\n",
       "    <tr>\n",
       "      <th>25.05</th>\n",
       "      <td>63</td>\n",
       "      <td>36</td>\n",
       "    </tr>\n",
       "  </tbody>\n",
       "</table>\n",
       "</div>"
      ],
      "text/plain": [
       "DEP_DEL15   0   1\n",
       "AWND             \n",
       "11.86      67  32\n",
       "12.30      56  43\n",
       "14.32      61  38\n",
       "15.21      69  30\n",
       "15.88      58  41\n",
       "19.01      61  38\n",
       "19.24      68  31\n",
       "19.46      67  32\n",
       "21.92      69  30\n",
       "23.71      51  48\n",
       "25.05      63  36"
      ]
     },
     "execution_count": 30,
     "metadata": {},
     "output_type": "execute_result"
    }
   ],
   "source": [
    "AWNDPercent = AWND[(AWND[1]/(AWND[0]+AWND[1]))>0.3]\n",
    "for i in AWNDPercent[0].keys():\n",
    "    tempt0 = AWNDPercent[0][i]\n",
    "    tempt1 = AWNDPercent[1][i]\n",
    "    AWNDPercent[0][i] =  tempt0*100/(tempt0+tempt1)\n",
    "    AWNDPercent[1][i] =  tempt1*100/(tempt0+tempt1)\n",
    "AWNDPercent"
   ]
  },
  {
   "cell_type": "code",
   "execution_count": 32,
   "id": "b21b209f",
   "metadata": {
    "ExecuteTime": {
     "end_time": "2021-12-08T16:20:27.358547Z",
     "start_time": "2021-12-08T16:20:27.337938Z"
    },
    "hidden": true,
    "scrolled": false
   },
   "outputs": [
    {
     "name": "stdout",
     "output_type": "stream",
     "text": [
      "11.86 : 67.33238231098431 \t32.66761768901569\n",
      "12.3 : 56.607142857142854 \t43.392857142857146\n",
      "14.32 : 61.892247043363994 \t38.107752956636006\n",
      "15.21 : 69.91150442477876 \t30.088495575221238\n",
      "15.88 : 58.18181818181818 \t41.81818181818182\n",
      "19.01 : 61.42857142857143 \t38.57142857142857\n",
      "19.24 : 68.54304635761589 \t31.456953642384107\n",
      "19.46 : 67.77777777777777 \t32.22222222222222\n",
      "21.92 : 69.23076923076923 \t30.76923076923077\n",
      "23.71 : 51.724137931034484 \t48.275862068965516\n",
      "25.05 : 63.513513513513516 \t36.486486486486484\n"
     ]
    }
   ],
   "source": [
    "AWNDPercent = AWND[(AWND[1]/(AWND[0]+AWND[1]))>0.3]\n",
    "for i in AWNDPercent[0].keys():\n",
    "    print(str(i)+\" : \"+str(AWNDPercent[0][i]*100/(AWNDPercent[0][i]+AWNDPercent[1][i]))+\n",
    "          \" \\t\"+str(AWNDPercent[1][i]*100/(AWNDPercent[0][i]+AWNDPercent[1][i])))"
   ]
  },
  {
   "cell_type": "markdown",
   "id": "802edf75",
   "metadata": {
    "heading_collapsed": true
   },
   "source": [
    "## Violin Plot"
   ]
  },
  {
   "cell_type": "code",
   "execution_count": 25,
   "id": "691cbb54",
   "metadata": {
    "ExecuteTime": {
     "end_time": "2021-12-08T16:17:15.528495Z",
     "start_time": "2021-12-08T16:17:14.689941Z"
    },
    "hidden": true
   },
   "outputs": [
    {
     "ename": "NameError",
     "evalue": "name 'datagraph' is not defined",
     "output_type": "error",
     "traceback": [
      "\u001b[1;31m---------------------------------------------------------------------------\u001b[0m",
      "\u001b[1;31mNameError\u001b[0m                                 Traceback (most recent call last)",
      "\u001b[1;32m~\\AppData\\Local\\Temp/ipykernel_5480/3112046308.py\u001b[0m in \u001b[0;36m<module>\u001b[1;34m\u001b[0m\n\u001b[1;32m----> 1\u001b[1;33m \u001b[0msns\u001b[0m\u001b[1;33m.\u001b[0m\u001b[0mviolinplot\u001b[0m\u001b[1;33m(\u001b[0m\u001b[0mx\u001b[0m\u001b[1;33m=\u001b[0m\u001b[0mdatagraph\u001b[0m\u001b[1;33m.\u001b[0m\u001b[0mDEP_DEL15\u001b[0m \u001b[1;33m,\u001b[0m \u001b[0my\u001b[0m\u001b[1;33m=\u001b[0m\u001b[0mdatagraph\u001b[0m\u001b[1;33m.\u001b[0m\u001b[0mDISTANCE_GROUP\u001b[0m\u001b[1;33m)\u001b[0m\u001b[1;33m\u001b[0m\u001b[1;33m\u001b[0m\u001b[0m\n\u001b[0m",
      "\u001b[1;31mNameError\u001b[0m: name 'datagraph' is not defined"
     ]
    }
   ],
   "source": [
    "sns.violinplot(x=datagraph.DEP_DEL15 , y=datagraph.DISTANCE_GROUP)"
   ]
  },
  {
   "cell_type": "code",
   "execution_count": null,
   "id": "f85dc155",
   "metadata": {
    "ExecuteTime": {
     "end_time": "2021-12-08T16:17:15.534517Z",
     "start_time": "2021-12-08T16:17:15.534517Z"
    },
    "hidden": true
   },
   "outputs": [],
   "source": [
    "sns.violinplot(x=datagraph.DEP_DEL15 , y=datagraph.SEGMENT_NUMBER)"
   ]
  },
  {
   "cell_type": "code",
   "execution_count": null,
   "id": "b40dfc96",
   "metadata": {
    "ExecuteTime": {
     "end_time": "2021-12-08T16:17:15.538443Z",
     "start_time": "2021-12-08T16:17:15.538443Z"
    },
    "hidden": true
   },
   "outputs": [],
   "source": [
    "sns.violinplot(x=datagraph.DEP_DEL15 , y=datagraph.CONCURRENT_FLIGHTS)"
   ]
  },
  {
   "cell_type": "code",
   "execution_count": null,
   "id": "cda6444b",
   "metadata": {
    "ExecuteTime": {
     "end_time": "2021-12-08T16:17:15.542947Z",
     "start_time": "2021-12-08T16:17:15.542947Z"
    },
    "hidden": true
   },
   "outputs": [],
   "source": [
    "sns.violinplot(x=datagraph.DEP_DEL15 , y=datagraph.NUMBER_OF_SEATS)"
   ]
  },
  {
   "cell_type": "code",
   "execution_count": null,
   "id": "6b74c063",
   "metadata": {
    "ExecuteTime": {
     "end_time": "2021-12-08T16:17:15.546528Z",
     "start_time": "2021-12-08T16:17:15.546528Z"
    },
    "hidden": true
   },
   "outputs": [],
   "source": [
    "sns.violinplot(x=datagraph.DEP_DEL15 , y=datagraph.AIRLINE_AIRPORT_FLIGHTS_MONTH)"
   ]
  },
  {
   "cell_type": "code",
   "execution_count": null,
   "id": "4701fe1c",
   "metadata": {
    "ExecuteTime": {
     "end_time": "2021-12-08T16:17:15.549530Z",
     "start_time": "2021-12-08T16:17:15.549530Z"
    },
    "hidden": true
   },
   "outputs": [],
   "source": [
    "sns.violinplot(x=datagraph.DEP_DEL15 , y=datagraph.AVG_MONTHLY_PASS_AIRPORT)"
   ]
  },
  {
   "cell_type": "code",
   "execution_count": null,
   "id": "7e234808",
   "metadata": {
    "ExecuteTime": {
     "end_time": "2021-12-08T16:17:15.552573Z",
     "start_time": "2021-12-08T16:17:15.552573Z"
    },
    "hidden": true
   },
   "outputs": [],
   "source": [
    "sns.violinplot(x=datagraph.DEP_DEL15 , y=datagraph.AVG_MONTHLY_PASS_AIRLINE)"
   ]
  },
  {
   "cell_type": "code",
   "execution_count": null,
   "id": "c1343e1f",
   "metadata": {
    "ExecuteTime": {
     "end_time": "2021-12-08T16:17:15.556102Z",
     "start_time": "2021-12-08T16:17:15.556102Z"
    },
    "hidden": true
   },
   "outputs": [],
   "source": [
    "sns.violinplot(x=datagraph.DEP_DEL15 , y=datagraph.FLT_ATTENDANTS_PER_PASS)"
   ]
  },
  {
   "cell_type": "code",
   "execution_count": null,
   "id": "043ce20b",
   "metadata": {
    "ExecuteTime": {
     "end_time": "2021-12-08T16:17:15.558849Z",
     "start_time": "2021-12-08T16:17:15.558849Z"
    },
    "hidden": true
   },
   "outputs": [],
   "source": [
    "sns.violinplot(x=datagraph.DEP_DEL15 , y=datagraph.GROUND_SERV_PER_PASS)"
   ]
  },
  {
   "cell_type": "code",
   "execution_count": null,
   "id": "b6168f41",
   "metadata": {
    "ExecuteTime": {
     "end_time": "2021-12-08T16:17:15.563154Z",
     "start_time": "2021-12-08T16:17:15.563154Z"
    },
    "hidden": true
   },
   "outputs": [],
   "source": [
    "sns.violinplot(x=datagraph.DEP_DEL15 , y=datagraph.PLANE_AGE)"
   ]
  },
  {
   "cell_type": "code",
   "execution_count": null,
   "id": "3f6dcc06",
   "metadata": {
    "ExecuteTime": {
     "end_time": "2021-12-08T16:17:15.567402Z",
     "start_time": "2021-12-08T16:17:15.567402Z"
    },
    "hidden": true
   },
   "outputs": [],
   "source": [
    "sns.violinplot(x=datagraph.DEP_DEL15 , y=datagraph.PRCP)"
   ]
  },
  {
   "cell_type": "code",
   "execution_count": null,
   "id": "4ac9ae3e",
   "metadata": {
    "ExecuteTime": {
     "end_time": "2021-12-08T16:17:15.569878Z",
     "start_time": "2021-12-08T16:17:15.569878Z"
    },
    "hidden": true
   },
   "outputs": [],
   "source": [
    "sns.violinplot(x=datagraph.DEP_DEL15 , y=datagraph.SNOW)"
   ]
  },
  {
   "cell_type": "code",
   "execution_count": null,
   "id": "123be52d",
   "metadata": {
    "ExecuteTime": {
     "end_time": "2021-12-08T16:17:15.573818Z",
     "start_time": "2021-12-08T16:17:15.573818Z"
    },
    "hidden": true
   },
   "outputs": [],
   "source": [
    "sns.violinplot(x=datagraph.DEP_DEL15 , y=datagraph.SNWD)"
   ]
  },
  {
   "cell_type": "code",
   "execution_count": null,
   "id": "f99ba559",
   "metadata": {
    "ExecuteTime": {
     "end_time": "2021-12-08T16:17:15.576473Z",
     "start_time": "2021-12-08T16:17:15.576473Z"
    },
    "hidden": true
   },
   "outputs": [],
   "source": [
    "sns.violinplot(x=datagraph.DEP_DEL15 , y=datagraph.TMAX)"
   ]
  },
  {
   "cell_type": "code",
   "execution_count": null,
   "id": "94347d62",
   "metadata": {
    "ExecuteTime": {
     "end_time": "2021-12-08T16:17:15.581476Z",
     "start_time": "2021-12-08T16:17:15.581476Z"
    },
    "hidden": true
   },
   "outputs": [],
   "source": [
    "sns.violinplot(x=datagraph.DEP_DEL15 , y=datagraph.AWND)"
   ]
  }
 ],
 "metadata": {
  "kernelspec": {
   "display_name": "Python 3 (ipykernel)",
   "language": "python",
   "name": "python3"
  },
  "language_info": {
   "codemirror_mode": {
    "name": "ipython",
    "version": 3
   },
   "file_extension": ".py",
   "mimetype": "text/x-python",
   "name": "python",
   "nbconvert_exporter": "python",
   "pygments_lexer": "ipython3",
   "version": "3.8.12"
  },
  "toc": {
   "base_numbering": 1,
   "nav_menu": {},
   "number_sections": true,
   "sideBar": true,
   "skip_h1_title": false,
   "title_cell": "Table of Contents",
   "title_sidebar": "Contents",
   "toc_cell": false,
   "toc_position": {},
   "toc_section_display": true,
   "toc_window_display": false
  }
 },
 "nbformat": 4,
 "nbformat_minor": 5
}
