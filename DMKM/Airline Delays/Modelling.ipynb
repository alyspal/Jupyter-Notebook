{
 "cells": [
  {
   "cell_type": "markdown",
   "id": "106ce977",
   "metadata": {
    "heading_collapsed": true,
    "id": "6Vcacb7y14nd"
   },
   "source": [
    "# Input packages and datasets"
   ]
  },
  {
   "cell_type": "code",
   "execution_count": 1,
   "id": "558d2fc8",
   "metadata": {
    "ExecuteTime": {
     "end_time": "2021-12-08T16:31:37.126712Z",
     "start_time": "2021-12-08T16:31:33.005208Z"
    },
    "hidden": true,
    "id": "YRsOznqNXSFE"
   },
   "outputs": [],
   "source": [
    "import pandas as pd\n",
    "import numpy as np\n",
    "import seaborn as sns\n",
    "import matplotlib.pyplot as plt\n",
    "import imblearn\n",
    "\n",
    "from sklearn import svm\n",
    "from sklearn import neighbors, datasets, model_selection, metrics\n",
    "from sklearn.svm import SVC, NuSVC\n",
    "from sklearn.naive_bayes import GaussianNB\n",
    "from sklearn.linear_model import LinearRegression, LogisticRegression\n",
    "from sklearn.model_selection import train_test_split\n",
    "from sklearn.metrics import classification_report,accuracy_score\n",
    "from sklearn.ensemble import AdaBoostClassifier,GradientBoostingClassifier,RandomForestClassifier"
   ]
  },
  {
   "cell_type": "code",
   "execution_count": 2,
   "id": "c48264f6",
   "metadata": {
    "ExecuteTime": {
     "end_time": "2021-12-08T16:31:37.526712Z",
     "start_time": "2021-12-08T16:31:37.126712Z"
    },
    "hidden": true,
    "id": "AZGdYfeaXURD"
   },
   "outputs": [],
   "source": [
    "data = pd.read_csv('airline_delays.csv')\n",
    "data = data.drop(columns=\"Unnamed: 0\")"
   ]
  },
  {
   "cell_type": "raw",
   "id": "c9659118",
   "metadata": {
    "ExecuteTime": {
     "end_time": "2021-12-05T19:06:32.779785Z",
     "start_time": "2021-12-05T19:06:32.753954Z"
    },
    "hidden": true
   },
   "source": [
    "from pandas_profiling import ProfileReport\n",
    "profile = ProfileReport(data)\n",
    "profile.to_file(\"mantab.html\")"
   ]
  },
  {
   "cell_type": "raw",
   "id": "62f08837",
   "metadata": {
    "ExecuteTime": {
     "end_time": "2021-12-05T19:06:32.811193Z",
     "start_time": "2021-12-05T19:06:32.786792Z"
    },
    "hidden": true
   },
   "source": [
    "MONTH:\t\t\t\t\t\t\tMonth\n",
    "DAY_OF_WEEK:\t\t\t\t\tDay of Week\n",
    "DEP_DEL15: \t\t\t\t\t\tTARGET Binary of a departure delay over 15 minutes (1 is yes)\n",
    "DISTANCE_GROUP:\t\t\t\t\tDistance group to be flown by departing aircraft\n",
    "DEP_BLOCK:\t\t\t\t\t\tDeparture block\n",
    "SEGMENT_NUMBER:\t\t\t\t\tThe segment that this tail number is on for the day\n",
    "CONCURRENT_FLIGHTS:\t\t\t\tConcurrent flights leaving from the airport in the same departure block\n",
    "NUMBER_OF_SEATS:\t\t\t\tNumber of seats on the aircraft\n",
    "CARRIER_NAME:\t\t\t\t\tCarrier\n",
    "AIRPORT_FLIGHTS_MONTH:\t\t\tAvg Airport Flights per Month\n",
    "AIRLINE_FLIGHTS_MONTH:\t\t\tAvg Airline Flights per Month\n",
    "AIRLINE_AIRPORT_FLIGHTS_MONTH:\tAvg Flights per month for Airline AND Airport\n",
    "AVG_MONTHLY_PASS_AIRPORT:\t\tAvg Passengers for the departing airport for the month\n",
    "AVG_MONTHLY_PASS_AIRLINE:\t\tAvg Passengers for airline for month\n",
    "FLT_ATTENDANTS_PER_PASS:\t\tFlight attendants per passenger for airline\n",
    "GROUND_SERV_PER_PASS:\t\t\tGround service employees (service desk) per passenger for airline\n",
    "PLANE_AGE:\t\t\t\t\t\tAge of departing aircraft\n",
    "DEPARTING_AIRPORT:\t\t\t\tDeparting Airport\n",
    "LATITUDE:\t\t\t\t\t\tLatitude of departing airport\n",
    "LONGITUDE:\t\t\t\t\t\tLongitude of departing airport\n",
    "PREVIOUS_AIRPORT:\t\t\t\tPrevious airport that aircraft departed from\n",
    "PRCP:\t\t\t\t\t\t\tInches of precipitation for day\n",
    "SNOW:\t\t\t\t\t\t\tInches of snowfall for day\n",
    "SNWD:\t\t\t\t\t\t\tInches of snow on ground for day\n",
    "TMAX:\t\t\t\t\t\t\tMax temperature for day\n",
    "AWND:\t\t\t\t\t\t\tMax wind speed for day"
   ]
  },
  {
   "cell_type": "markdown",
   "id": "5d6fdda4",
   "metadata": {
    "id": "2tH-u1eP4ad1"
   },
   "source": [
    "# Preprocessing\n"
   ]
  },
  {
   "cell_type": "code",
   "execution_count": 4,
   "id": "3647c2e9",
   "metadata": {
    "ExecuteTime": {
     "end_time": "2021-12-08T16:31:37.648456Z",
     "start_time": "2021-12-08T16:31:37.564707Z"
    },
    "scrolled": false
   },
   "outputs": [
    {
     "name": "stdout",
     "output_type": "stream",
     "text": [
      "<class 'pandas.core.frame.DataFrame'>\n",
      "RangeIndex: 52705 entries, 0 to 52704\n",
      "Data columns (total 24 columns):\n",
      " #   Column                         Non-Null Count  Dtype  \n",
      "---  ------                         --------------  -----  \n",
      " 0   DEP_DEL15                      52705 non-null  int64  \n",
      " 1   DISTANCE_GROUP                 52705 non-null  int64  \n",
      " 2   DEP_BLOCK                      52705 non-null  object \n",
      " 3   SEGMENT_NUMBER                 52705 non-null  int64  \n",
      " 4   CONCURRENT_FLIGHTS             52705 non-null  int64  \n",
      " 5   NUMBER_OF_SEATS                52705 non-null  int64  \n",
      " 6   CARRIER_NAME                   52705 non-null  object \n",
      " 7   AIRPORT_FLIGHTS_MONTH          52705 non-null  int64  \n",
      " 8   AIRLINE_FLIGHTS_MONTH          52705 non-null  int64  \n",
      " 9   AIRLINE_AIRPORT_FLIGHTS_MONTH  52705 non-null  int64  \n",
      " 10  AVG_MONTHLY_PASS_AIRPORT       52705 non-null  int64  \n",
      " 11  AVG_MONTHLY_PASS_AIRLINE       52705 non-null  int64  \n",
      " 12  FLT_ATTENDANTS_PER_PASS        52705 non-null  float64\n",
      " 13  GROUND_SERV_PER_PASS           52705 non-null  float64\n",
      " 14  PLANE_AGE                      52705 non-null  int64  \n",
      " 15  DEPARTING_AIRPORT              52705 non-null  object \n",
      " 16  LATITUDE                       52705 non-null  float64\n",
      " 17  LONGITUDE                      52705 non-null  float64\n",
      " 18  PREVIOUS_AIRPORT               52705 non-null  object \n",
      " 19  PRCP                           52705 non-null  float64\n",
      " 20  SNOW                           52705 non-null  float64\n",
      " 21  SNWD                           52705 non-null  float64\n",
      " 22  TMAX                           52705 non-null  float64\n",
      " 23  AWND                           52705 non-null  float64\n",
      "dtypes: float64(9), int64(11), object(4)\n",
      "memory usage: 9.7+ MB\n"
     ]
    }
   ],
   "source": [
    "data.info()"
   ]
  },
  {
   "cell_type": "code",
   "execution_count": 5,
   "id": "5d12edd7",
   "metadata": {
    "ExecuteTime": {
     "end_time": "2021-12-08T16:31:37.793975Z",
     "start_time": "2021-12-08T16:31:37.653989Z"
    }
   },
   "outputs": [
    {
     "data": {
      "text/plain": [
       "DEP_DEL15                          2\n",
       "DISTANCE_GROUP                    11\n",
       "DEP_BLOCK                          6\n",
       "SEGMENT_NUMBER                    13\n",
       "CONCURRENT_FLIGHTS               164\n",
       "NUMBER_OF_SEATS                   76\n",
       "CARRIER_NAME                      17\n",
       "AIRPORT_FLIGHTS_MONTH             82\n",
       "AIRLINE_FLIGHTS_MONTH             17\n",
       "AIRLINE_AIRPORT_FLIGHTS_MONTH    509\n",
       "AVG_MONTHLY_PASS_AIRPORT          83\n",
       "AVG_MONTHLY_PASS_AIRLINE          17\n",
       "FLT_ATTENDANTS_PER_PASS           14\n",
       "GROUND_SERV_PER_PASS              17\n",
       "PLANE_AGE                         33\n",
       "DEPARTING_AIRPORT                 83\n",
       "LATITUDE                          83\n",
       "LONGITUDE                         83\n",
       "PREVIOUS_AIRPORT                 324\n",
       "PRCP                              76\n",
       "SNOW                              20\n",
       "SNWD                              12\n",
       "TMAX                              66\n",
       "AWND                              81\n",
       "dtype: int64"
      ]
     },
     "execution_count": 5,
     "metadata": {},
     "output_type": "execute_result"
    }
   ],
   "source": [
    "data.nunique()"
   ]
  },
  {
   "cell_type": "code",
   "execution_count": 6,
   "id": "f2a27c9a",
   "metadata": {
    "ExecuteTime": {
     "end_time": "2021-12-08T16:31:37.825975Z",
     "start_time": "2021-12-08T16:31:37.800778Z"
    }
   },
   "outputs": [
    {
     "data": {
      "text/plain": [
       "array([10,  4,  5,  7,  3,  9, 11,  6,  1,  8,  2], dtype=int64)"
      ]
     },
     "execution_count": 6,
     "metadata": {},
     "output_type": "execute_result"
    }
   ],
   "source": [
    "data.DISTANCE_GROUP.unique()"
   ]
  },
  {
   "cell_type": "code",
   "execution_count": 7,
   "id": "2935413c",
   "metadata": {
    "ExecuteTime": {
     "end_time": "2021-12-08T16:31:37.856969Z",
     "start_time": "2021-12-08T16:31:37.830327Z"
    }
   },
   "outputs": [
    {
     "data": {
      "text/plain": [
       "array(['EARLY_MORNING', 'MORNING', 'AFTERNOON', 'LATE_NIGHT', 'MIDDAY',\n",
       "       'EVENING'], dtype=object)"
      ]
     },
     "execution_count": 7,
     "metadata": {},
     "output_type": "execute_result"
    }
   ],
   "source": [
    "data.DEP_BLOCK.unique()"
   ]
  },
  {
   "cell_type": "code",
   "execution_count": 8,
   "id": "0e0a026b",
   "metadata": {
    "ExecuteTime": {
     "end_time": "2021-12-08T16:31:37.891721Z",
     "start_time": "2021-12-08T16:31:37.864320Z"
    }
   },
   "outputs": [
    {
     "data": {
      "text/plain": [
       "array(['American Airlines Inc.', 'Delta Air Lines Inc.',\n",
       "       'SkyWest Airlines Inc.', 'United Air Lines Inc.',\n",
       "       'Alaska Airlines Inc.', 'Hawaiian Airlines Inc.',\n",
       "       'Spirit Air Lines', 'Southwest Airlines Co.', 'JetBlue Airways',\n",
       "       'Frontier Airlines Inc.', 'Midwest Airline, Inc.',\n",
       "       'Endeavor Air Inc.', 'Mesa Airlines Inc.', 'Comair Inc.',\n",
       "       'American Eagle Airlines Inc.', 'Atlantic Southeast Airlines',\n",
       "       'Allegiant Air'], dtype=object)"
      ]
     },
     "execution_count": 8,
     "metadata": {},
     "output_type": "execute_result"
    }
   ],
   "source": [
    "data.CARRIER_NAME.unique()"
   ]
  },
  {
   "cell_type": "code",
   "execution_count": 9,
   "id": "7fb56d04",
   "metadata": {
    "ExecuteTime": {
     "end_time": "2021-12-08T16:31:37.933160Z",
     "start_time": "2021-12-08T16:31:37.898657Z"
    }
   },
   "outputs": [
    {
     "data": {
      "text/plain": [
       "array(['Seattle International', 'Pittsburgh International',\n",
       "       'Cleveland-Hopkins International', 'Kansas City International',\n",
       "       'Miami International', 'Douglas Municipal',\n",
       "       'Phoenix Sky Harbor International', 'Philadelphia International',\n",
       "       'Los Angeles International', 'Tampa International',\n",
       "       'San Antonio International', 'Dallas Fort Worth Regional',\n",
       "       \"Chicago O'Hare International\",\n",
       "       'Ronald Reagan Washington National',\n",
       "       'Fort Lauderdale-Hollywood International', 'Orlando International',\n",
       "       'Nashville International', 'Lambert-St. Louis International',\n",
       "       'Atlanta Municipal', 'Houston Intercontinental',\n",
       "       'Bradley International', 'Jacksonville International', 'LaGuardia',\n",
       "       'Indianapolis Muni/Weir Cook',\n",
       "       'Louis Armstrong New Orleans International', 'Tulsa International',\n",
       "       'Raleigh-Durham International', 'John F. Kennedy International',\n",
       "       'Salt Lake City International', 'Newark Liberty International',\n",
       "       'El Paso International', 'San Diego International Lindbergh Fl',\n",
       "       'McCarran International', 'Port Columbus International',\n",
       "       'Portland International', 'Palm Beach International',\n",
       "       'San Francisco International', 'Friendship International',\n",
       "       'Washington Dulles International', 'Sacramento International',\n",
       "       'Stapleton International', 'Ontario International',\n",
       "       'Eppley Airfield', 'Kent County', 'Reno/Tahoe International',\n",
       "       'Spokane International', 'San Jose International',\n",
       "       'Southwest Florida International', 'Boise Air Terminal',\n",
       "       'Rochester Monroe County', 'Orange County',\n",
       "       'Albuquerque International Sunport',\n",
       "       'Greater Buffalo International',\n",
       "       'Austin - Bergstrom International', 'Honolulu International',\n",
       "       'Memphis International', 'Minneapolis-St Paul International',\n",
       "       'Kahului Airport', 'Des Moines Municipal', 'Truax Field',\n",
       "       'Cincinnati/Northern Kentucky International',\n",
       "       'General Mitchell Field', 'Charleston International',\n",
       "       'Birmingham Airport', 'Savannah/Hilton Head International',\n",
       "       'Will Rogers World', 'Norfolk International',\n",
       "       'Tucson International', 'Richmond International',\n",
       "       'Piedmont Triad International', 'Anchorage International',\n",
       "       'Chicago Midway International', 'Standiford Field',\n",
       "       'Greenville-Spartanburg', 'William P Hobby',\n",
       "       'Palm Springs International', 'McGhee Tyson',\n",
       "       'Northwest Arkansas Regional', 'Long Beach Daugherty Field',\n",
       "       'Metropolitan Oakland International',\n",
       "       'Theodore Francis Green State', 'Lihue Airport', 'Keahole'],\n",
       "      dtype=object)"
      ]
     },
     "execution_count": 9,
     "metadata": {},
     "output_type": "execute_result"
    }
   ],
   "source": [
    "data.DEPARTING_AIRPORT.unique()"
   ]
  },
  {
   "cell_type": "code",
   "execution_count": 10,
   "id": "de2b905f",
   "metadata": {
    "ExecuteTime": {
     "end_time": "2021-12-08T16:31:37.978254Z",
     "start_time": "2021-12-08T16:31:37.938049Z"
    }
   },
   "outputs": [
    {
     "data": {
      "text/plain": [
       "array(['NONE', 'San Francisco International', 'San Jose International',\n",
       "       'San Antonio International', 'Orlando International',\n",
       "       'Orange County', 'San Diego International Lindbergh Fl',\n",
       "       'Houston Intercontinental', 'Tucson International',\n",
       "       'Stapleton International', 'Los Angeles International',\n",
       "       'Sacramento International', 'Phoenix Sky Harbor International',\n",
       "       'Fairbanks International', 'Detroit Metro Wayne County',\n",
       "       'Spokane International', 'McCarran International',\n",
       "       \"Chicago O'Hare International\", 'General Mitchell Field',\n",
       "       'Boise Air Terminal', 'Gallatin Field', 'Mahlon Sweet Field',\n",
       "       'Roberts Field', 'Washington Dulles International',\n",
       "       'Portland International', 'Kansas City International',\n",
       "       'Fresno Air Terminal', 'Salt Lake City International',\n",
       "       'Reno/Tahoe International', 'Anchorage International',\n",
       "       'Atlanta Municipal', 'Raleigh-Durham International',\n",
       "       'John F. Kennedy International',\n",
       "       'Cincinnati/Northern Kentucky International',\n",
       "       'Nashville International', 'Logan International',\n",
       "       'Minneapolis-St Paul International', 'Dallas Fort Worth Regional',\n",
       "       'Ronald Reagan Washington National', 'Tampa International',\n",
       "       'Newark Liberty International', 'Ontario International',\n",
       "       'Louis Armstrong New Orleans International',\n",
       "       'Austin - Bergstrom International', 'Juneau International',\n",
       "       'Palm Springs International', 'Hollywood-Burbank Midpoint',\n",
       "       'Douglas Municipal', 'Metropolitan Oakland International',\n",
       "       'Fort Lauderdale-Hollywood International',\n",
       "       'Ketchikan International', 'Friendship International',\n",
       "       'Kahului Airport', 'Honolulu International',\n",
       "       'Philadelphia International', 'Charles M. Schulz - Sonoma County',\n",
       "       'Eppley Airfield', 'Indianapolis Muni/Weir Cook',\n",
       "       'Long Beach Daugherty Field', 'Jackson Hole', 'Tri Cities',\n",
       "       'Lambert-St. Louis International', 'Dallas Love Field', 'Keahole',\n",
       "       'Lihue Airport', 'Santa Barbara Municipal',\n",
       "       'Pittsburgh International', 'Albuquerque International Sunport',\n",
       "       'Will Rogers World', 'San Luis Obispo County Regional',\n",
       "       'Miami International', 'Southwest Florida International',\n",
       "       'LaGuardia', 'Charlotte County', 'Seattle International',\n",
       "       'Chicago Midway International', 'William P Hobby',\n",
       "       'Richmond International', 'Charleston International',\n",
       "       'Port Columbus International', 'Jacksonville International',\n",
       "       'Cleveland-Hopkins International', 'Kent County', 'McGhee Tyson',\n",
       "       'Northwest Arkansas Regional', 'Key West International',\n",
       "       'Standiford Field', 'Alexander Hamilton',\n",
       "       'Puerto Rico International', 'Birmingham Airport',\n",
       "       'Savannah/Hilton Head International', 'Norfolk International',\n",
       "       'Piedmont Triad International', 'Greenville-Spartanburg',\n",
       "       'Tallahassee Regional', 'Columbia Metropolitan', 'Harry S Truman',\n",
       "       'Eagle County Regional', 'Pensacola Regional',\n",
       "       'Memphis International', 'Gainesville Regional',\n",
       "       'Bradley International', 'Harrisburg International',\n",
       "       'Palm Beach International', 'Adams Field', 'Kanawha',\n",
       "       'Grenier Field/Manchester Municipal', 'Burlington International',\n",
       "       'Rochester Monroe County', 'Cedar Rapids Municipal',\n",
       "       'Lovell Field', 'Fayetteville Regional/Grannis Field',\n",
       "       'Allen C Thompson Field', 'Daytona Beach Regional',\n",
       "       'Wilkes Barre Scranton International',\n",
       "       'Gulfport-Biloxi International', 'Syracuse Hancock International',\n",
       "       'Greater Buffalo International', 'Theodore Francis Green State',\n",
       "       'Hilton Head Airport', 'Albany International',\n",
       "       'Myrtle Beach International', 'Springfield-Branson National',\n",
       "       'Charlottesville Albemarle', 'Asheville Regional',\n",
       "       'Northwest Florida Beaches International', 'Albert J Ellis',\n",
       "       'Tri-Cities Regional TN/VA', 'Akron-Canton Regional',\n",
       "       'Huntsville International-Carl T Jones Field',\n",
       "       'Baton Rouge Metropolitan/Ryan Field', 'Des Moines Municipal',\n",
       "       'Melbourne Regional', 'Sarasota/Bradenton Airport',\n",
       "       'Westchester County', 'James M Cox/Dayton International',\n",
       "       'Northwest Florida Regional', 'Craven County Regional',\n",
       "       'Shreveport Regional', 'Truax Field',\n",
       "       'Lehigh Valley International', 'Bush Field',\n",
       "       'University of Illinois/Willard', 'Wilmington International',\n",
       "       'Tulsa International', 'Portland International Jetport',\n",
       "       'Lynchburg Regional/Preston Glenn Field', 'Greater Peoria',\n",
       "       'Mercer County', 'Tweed New Haven',\n",
       "       'Roanoke Regional/Woodrum Field', 'Michiana Regional',\n",
       "       'Patrick Henry International', 'Blue Grass',\n",
       "       'Bishop International', 'Fort Wayne Municipal', 'Walker Field',\n",
       "       'St George Municipal', 'Flagstaff Pulliam',\n",
       "       'Yuma MCAS/Yuma International', 'Midland Regional Air Trml',\n",
       "       'Lubbock Regional', 'El Paso International', 'Meadows Field',\n",
       "       'Monterey Peninsula', 'La Plata County', 'Santa Fe Municipal',\n",
       "       'Montrose Regional', 'Peterson Field',\n",
       "       'Aspen Pitkin County Sardy Field', 'Wichita Mid-Continent',\n",
       "       'Rapid City Regional', 'Great Falls International',\n",
       "       'Stockton Metropolitan', 'Arcata', 'Redding Municipal',\n",
       "       'Medford Jackson County', 'Yampa Valley', 'Prescott Municipal',\n",
       "       'Joslin Field - Magic Valley Regional', 'Agana Field',\n",
       "       'Friedman Memorial', 'Mammoth Lakes Airport',\n",
       "       'Long Island MacArthur', 'Nafec Atlantic City', 'Joe Foss Field',\n",
       "       'Roswell International Air Center', 'Hector Field', 'Capital',\n",
       "       'Missoula International', 'Lake Charles Regional',\n",
       "       'Robert Gray AAF', 'San Angelo Regional/Mathis Field',\n",
       "       'Jefferson County', 'East Texas Regional', 'Columbia Regional',\n",
       "       'Fort Smith Regional', 'Monroe Regional', 'Manhattan Regional',\n",
       "       'Lawton-Fort Sill Regional', 'Easterwood Field', 'Key Field',\n",
       "       'McAllen Miller International', 'Garden City Municipal',\n",
       "       'Grand Island Air Park', 'England AFB',\n",
       "       'Brownsville South Padre Island International',\n",
       "       'Lafayette Regional', 'Dannelly Field', 'Del Rio International',\n",
       "       'Amarillo International', 'Bismarck Municipal',\n",
       "       'Quad City International', 'Corpus Christi International',\n",
       "       'Evansville Dress Regional', 'Central Illinois Regional',\n",
       "       'Searcy Field', 'Laredo AFB', 'Texarkana Muni/Webb Field',\n",
       "       'Valley International', 'Joplin Municipal', 'Waco Regional',\n",
       "       'Abilene Regional', 'Mobile Regional',\n",
       "       'Sheppard AFB/Wichita Falls Municipal',\n",
       "       'Cheyenne Regional/Jerry Olson Field',\n",
       "       'Billings Logan International', 'Tyler Pounds Regional',\n",
       "       'Sioux City Gateway', 'Dubuque Regional', 'Rochester Municipal',\n",
       "       'Lincoln Airport', 'Eau Claire Municipal', 'Benedum',\n",
       "       'Cape Girardeau Regional', 'Waterloo Regional', 'Cherry Capital',\n",
       "       'Duluth International', 'Barkley Regional', 'Tri City',\n",
       "       'La Crosse Municipal', 'Toledo Express', 'Capital City',\n",
       "       'Central Wisconsin', 'Outagamie County Regional',\n",
       "       'Watertown Municipal', 'Austin Straubel International',\n",
       "       'State College Air Depot', 'Kalamazoo/Battle Creek International',\n",
       "       'Marquette County', 'Muskegon County',\n",
       "       'Glacier Park International', 'Kearney Regional',\n",
       "       'Greenbrier Valley', 'Houghton County Memorial',\n",
       "       'Bangor International', 'Plattsburgh International', 'Ramey AFB',\n",
       "       'Niagara Falls International', 'Latrobe Airport',\n",
       "       'Quincy Regional-Baldwin Field', 'Erie International',\n",
       "       'Shenandoah Valley Regional', 'Salina Municipal',\n",
       "       'Ogdensburg International', 'Ponce Airport',\n",
       "       'Stewart International', 'Worcester Regional',\n",
       "       'Columbus Metropolitan', 'Southwest Georgia Regional',\n",
       "       'Glynco Jetport', 'Dothan Regional', 'Golden Triangle Regional',\n",
       "       'Valdosta Regional', 'Lea County Hobbs',\n",
       "       'Gunnison-Crested Butte Regional', 'Hattiesburg-Laurel Regional',\n",
       "       'Sanford NAS', 'Helena Regional', 'Cedar City Regional',\n",
       "       'Lewiston Nez Perce County', 'Bert Mooney', 'Fanning Field',\n",
       "       'Elko Regional', 'Casper/Natrona County International',\n",
       "       'Pocatello Regional', 'Bellingham International',\n",
       "       'Minot International', 'Snohomish County Paine Field',\n",
       "       'Rock Springs Sweetwater County', 'Gillette Campbell County',\n",
       "       'General Brees Field', 'William B. Heilig Field',\n",
       "       'Pierre Municipal', 'North Platte Regional Airport Lee Bird Field',\n",
       "       'Devils Lake Regional', 'Riverton Regional', 'Pueblo Memorial',\n",
       "       'Hays Municipal', 'Canyonlands Field',\n",
       "       'Williston Basin International', 'Williams Gateway',\n",
       "       'St. Petersburg-Clearwater International', 'General Lyman Field',\n",
       "       'Jamestown Regional', 'Vernal Regional', 'Liberal Municipal',\n",
       "       'Rhinelander/Oneida County', 'Bemidji Municipal',\n",
       "       'Aberdeen Regional', 'Falls International', 'Ford',\n",
       "       'Grand Forks International', 'Kincheloe AFB', 'Chisholm/Hibbing',\n",
       "       'Brainerd/Crow Wing County', 'North Bend Municipal',\n",
       "       'Bethel Airport', 'Ralph Wien Memorial', 'Cordova Mile 13',\n",
       "       'Nome Airport', 'Adak NS', 'Kodiak Airport',\n",
       "       'Wiley Post/Will Rogers Memorial'], dtype=object)"
      ]
     },
     "execution_count": 10,
     "metadata": {},
     "output_type": "execute_result"
    }
   ],
   "source": [
    "data.PREVIOUS_AIRPORT.unique()"
   ]
  },
  {
   "cell_type": "code",
   "execution_count": 11,
   "id": "11eb5b3e",
   "metadata": {
    "ExecuteTime": {
     "end_time": "2021-12-08T16:31:38.379030Z",
     "start_time": "2021-12-08T16:31:37.985567Z"
    },
    "scrolled": true
   },
   "outputs": [
    {
     "data": {
      "text/html": [
       "<div>\n",
       "<style scoped>\n",
       "    .dataframe tbody tr th:only-of-type {\n",
       "        vertical-align: middle;\n",
       "    }\n",
       "\n",
       "    .dataframe tbody tr th {\n",
       "        vertical-align: top;\n",
       "    }\n",
       "\n",
       "    .dataframe thead th {\n",
       "        text-align: right;\n",
       "    }\n",
       "</style>\n",
       "<table border=\"1\" class=\"dataframe\">\n",
       "  <thead>\n",
       "    <tr style=\"text-align: right;\">\n",
       "      <th></th>\n",
       "      <th>DEP_DEL15</th>\n",
       "      <th>DISTANCE_GROUP</th>\n",
       "      <th>SEGMENT_NUMBER</th>\n",
       "      <th>CONCURRENT_FLIGHTS</th>\n",
       "      <th>NUMBER_OF_SEATS</th>\n",
       "      <th>AIRPORT_FLIGHTS_MONTH</th>\n",
       "      <th>AIRLINE_FLIGHTS_MONTH</th>\n",
       "      <th>AIRLINE_AIRPORT_FLIGHTS_MONTH</th>\n",
       "      <th>AVG_MONTHLY_PASS_AIRPORT</th>\n",
       "      <th>AVG_MONTHLY_PASS_AIRLINE</th>\n",
       "      <th>FLT_ATTENDANTS_PER_PASS</th>\n",
       "      <th>GROUND_SERV_PER_PASS</th>\n",
       "      <th>PLANE_AGE</th>\n",
       "      <th>LATITUDE</th>\n",
       "      <th>LONGITUDE</th>\n",
       "      <th>PRCP</th>\n",
       "      <th>SNOW</th>\n",
       "      <th>SNWD</th>\n",
       "      <th>TMAX</th>\n",
       "      <th>AWND</th>\n",
       "    </tr>\n",
       "  </thead>\n",
       "  <tbody>\n",
       "    <tr>\n",
       "      <th>count</th>\n",
       "      <td>52705.000000</td>\n",
       "      <td>52705.000000</td>\n",
       "      <td>52705.000000</td>\n",
       "      <td>52705.000000</td>\n",
       "      <td>52705.000000</td>\n",
       "      <td>52705.000000</td>\n",
       "      <td>52705.000000</td>\n",
       "      <td>52705.000000</td>\n",
       "      <td>52705.000000</td>\n",
       "      <td>5.270500e+04</td>\n",
       "      <td>52705.000000</td>\n",
       "      <td>52705.000000</td>\n",
       "      <td>52705.000000</td>\n",
       "      <td>52705.000000</td>\n",
       "      <td>52705.000000</td>\n",
       "      <td>52705.000000</td>\n",
       "      <td>52705.000000</td>\n",
       "      <td>52705.000000</td>\n",
       "      <td>52705.000000</td>\n",
       "      <td>52705.000000</td>\n",
       "    </tr>\n",
       "    <tr>\n",
       "      <th>mean</th>\n",
       "      <td>0.195959</td>\n",
       "      <td>3.954634</td>\n",
       "      <td>2.676501</td>\n",
       "      <td>75.367517</td>\n",
       "      <td>135.919989</td>\n",
       "      <td>12437.043886</td>\n",
       "      <td>60038.852671</td>\n",
       "      <td>3300.278342</td>\n",
       "      <td>308985.619220</td>\n",
       "      <td>1.440597e+06</td>\n",
       "      <td>0.000508</td>\n",
       "      <td>0.000709</td>\n",
       "      <td>11.142112</td>\n",
       "      <td>35.910850</td>\n",
       "      <td>-95.721539</td>\n",
       "      <td>0.176994</td>\n",
       "      <td>0.105201</td>\n",
       "      <td>0.158283</td>\n",
       "      <td>59.231895</td>\n",
       "      <td>9.315581</td>\n",
       "    </tr>\n",
       "    <tr>\n",
       "      <th>std</th>\n",
       "      <td>0.396941</td>\n",
       "      <td>2.414312</td>\n",
       "      <td>1.551963</td>\n",
       "      <td>52.504799</td>\n",
       "      <td>47.549494</td>\n",
       "      <td>8406.567252</td>\n",
       "      <td>32930.468634</td>\n",
       "      <td>4015.593150</td>\n",
       "      <td>209483.342847</td>\n",
       "      <td>9.277222e+05</td>\n",
       "      <td>0.000457</td>\n",
       "      <td>0.000263</td>\n",
       "      <td>7.099074</td>\n",
       "      <td>5.792918</td>\n",
       "      <td>18.697865</td>\n",
       "      <td>0.330614</td>\n",
       "      <td>0.465679</td>\n",
       "      <td>0.796721</td>\n",
       "      <td>14.682274</td>\n",
       "      <td>4.222135</td>\n",
       "    </tr>\n",
       "    <tr>\n",
       "      <th>min</th>\n",
       "      <td>0.000000</td>\n",
       "      <td>1.000000</td>\n",
       "      <td>1.000000</td>\n",
       "      <td>1.000000</td>\n",
       "      <td>44.000000</td>\n",
       "      <td>1103.000000</td>\n",
       "      <td>7018.000000</td>\n",
       "      <td>1.000000</td>\n",
       "      <td>13584.000000</td>\n",
       "      <td>1.050860e+05</td>\n",
       "      <td>0.000000</td>\n",
       "      <td>0.000033</td>\n",
       "      <td>0.000000</td>\n",
       "      <td>19.739000</td>\n",
       "      <td>-159.346000</td>\n",
       "      <td>0.000000</td>\n",
       "      <td>0.000000</td>\n",
       "      <td>0.000000</td>\n",
       "      <td>5.000000</td>\n",
       "      <td>1.120000</td>\n",
       "    </tr>\n",
       "    <tr>\n",
       "      <th>25%</th>\n",
       "      <td>0.000000</td>\n",
       "      <td>2.000000</td>\n",
       "      <td>1.000000</td>\n",
       "      <td>31.000000</td>\n",
       "      <td>90.000000</td>\n",
       "      <td>5019.000000</td>\n",
       "      <td>24691.000000</td>\n",
       "      <td>625.000000</td>\n",
       "      <td>130317.000000</td>\n",
       "      <td>5.350680e+05</td>\n",
       "      <td>0.000170</td>\n",
       "      <td>0.000541</td>\n",
       "      <td>4.000000</td>\n",
       "      <td>32.894000</td>\n",
       "      <td>-112.009000</td>\n",
       "      <td>0.000000</td>\n",
       "      <td>0.000000</td>\n",
       "      <td>0.000000</td>\n",
       "      <td>48.000000</td>\n",
       "      <td>5.820000</td>\n",
       "    </tr>\n",
       "    <tr>\n",
       "      <th>50%</th>\n",
       "      <td>0.000000</td>\n",
       "      <td>3.000000</td>\n",
       "      <td>2.000000</td>\n",
       "      <td>66.000000</td>\n",
       "      <td>143.000000</td>\n",
       "      <td>11479.000000</td>\n",
       "      <td>69699.000000</td>\n",
       "      <td>2048.000000</td>\n",
       "      <td>320589.000000</td>\n",
       "      <td>1.539321e+06</td>\n",
       "      <td>0.000338</td>\n",
       "      <td>0.000616</td>\n",
       "      <td>12.000000</td>\n",
       "      <td>36.080000</td>\n",
       "      <td>-87.906000</td>\n",
       "      <td>0.010000</td>\n",
       "      <td>0.000000</td>\n",
       "      <td>0.000000</td>\n",
       "      <td>59.000000</td>\n",
       "      <td>8.950000</td>\n",
       "    </tr>\n",
       "    <tr>\n",
       "      <th>75%</th>\n",
       "      <td>0.000000</td>\n",
       "      <td>5.000000</td>\n",
       "      <td>4.000000</td>\n",
       "      <td>106.000000</td>\n",
       "      <td>173.000000</td>\n",
       "      <td>17680.000000</td>\n",
       "      <td>80026.000000</td>\n",
       "      <td>4681.000000</td>\n",
       "      <td>416815.000000</td>\n",
       "      <td>2.338195e+06</td>\n",
       "      <td>0.000768</td>\n",
       "      <td>0.000911</td>\n",
       "      <td>17.000000</td>\n",
       "      <td>39.991000</td>\n",
       "      <td>-80.936000</td>\n",
       "      <td>0.190000</td>\n",
       "      <td>0.000000</td>\n",
       "      <td>0.000000</td>\n",
       "      <td>70.000000</td>\n",
       "      <td>11.860000</td>\n",
       "    </tr>\n",
       "    <tr>\n",
       "      <th>max</th>\n",
       "      <td>1.000000</td>\n",
       "      <td>11.000000</td>\n",
       "      <td>13.000000</td>\n",
       "      <td>224.000000</td>\n",
       "      <td>337.000000</td>\n",
       "      <td>32102.000000</td>\n",
       "      <td>107849.000000</td>\n",
       "      <td>19461.000000</td>\n",
       "      <td>816174.000000</td>\n",
       "      <td>2.447530e+06</td>\n",
       "      <td>0.001759</td>\n",
       "      <td>0.001265</td>\n",
       "      <td>32.000000</td>\n",
       "      <td>61.169000</td>\n",
       "      <td>-71.426000</td>\n",
       "      <td>2.020000</td>\n",
       "      <td>6.300000</td>\n",
       "      <td>11.000000</td>\n",
       "      <td>88.000000</td>\n",
       "      <td>25.050000</td>\n",
       "    </tr>\n",
       "  </tbody>\n",
       "</table>\n",
       "</div>"
      ],
      "text/plain": [
       "          DEP_DEL15  DISTANCE_GROUP  SEGMENT_NUMBER  CONCURRENT_FLIGHTS  \\\n",
       "count  52705.000000    52705.000000    52705.000000        52705.000000   \n",
       "mean       0.195959        3.954634        2.676501           75.367517   \n",
       "std        0.396941        2.414312        1.551963           52.504799   \n",
       "min        0.000000        1.000000        1.000000            1.000000   \n",
       "25%        0.000000        2.000000        1.000000           31.000000   \n",
       "50%        0.000000        3.000000        2.000000           66.000000   \n",
       "75%        0.000000        5.000000        4.000000          106.000000   \n",
       "max        1.000000       11.000000       13.000000          224.000000   \n",
       "\n",
       "       NUMBER_OF_SEATS  AIRPORT_FLIGHTS_MONTH  AIRLINE_FLIGHTS_MONTH  \\\n",
       "count     52705.000000           52705.000000           52705.000000   \n",
       "mean        135.919989           12437.043886           60038.852671   \n",
       "std          47.549494            8406.567252           32930.468634   \n",
       "min          44.000000            1103.000000            7018.000000   \n",
       "25%          90.000000            5019.000000           24691.000000   \n",
       "50%         143.000000           11479.000000           69699.000000   \n",
       "75%         173.000000           17680.000000           80026.000000   \n",
       "max         337.000000           32102.000000          107849.000000   \n",
       "\n",
       "       AIRLINE_AIRPORT_FLIGHTS_MONTH  AVG_MONTHLY_PASS_AIRPORT  \\\n",
       "count                   52705.000000              52705.000000   \n",
       "mean                     3300.278342             308985.619220   \n",
       "std                      4015.593150             209483.342847   \n",
       "min                         1.000000              13584.000000   \n",
       "25%                       625.000000             130317.000000   \n",
       "50%                      2048.000000             320589.000000   \n",
       "75%                      4681.000000             416815.000000   \n",
       "max                     19461.000000             816174.000000   \n",
       "\n",
       "       AVG_MONTHLY_PASS_AIRLINE  FLT_ATTENDANTS_PER_PASS  \\\n",
       "count              5.270500e+04             52705.000000   \n",
       "mean               1.440597e+06                 0.000508   \n",
       "std                9.277222e+05                 0.000457   \n",
       "min                1.050860e+05                 0.000000   \n",
       "25%                5.350680e+05                 0.000170   \n",
       "50%                1.539321e+06                 0.000338   \n",
       "75%                2.338195e+06                 0.000768   \n",
       "max                2.447530e+06                 0.001759   \n",
       "\n",
       "       GROUND_SERV_PER_PASS     PLANE_AGE      LATITUDE     LONGITUDE  \\\n",
       "count          52705.000000  52705.000000  52705.000000  52705.000000   \n",
       "mean               0.000709     11.142112     35.910850    -95.721539   \n",
       "std                0.000263      7.099074      5.792918     18.697865   \n",
       "min                0.000033      0.000000     19.739000   -159.346000   \n",
       "25%                0.000541      4.000000     32.894000   -112.009000   \n",
       "50%                0.000616     12.000000     36.080000    -87.906000   \n",
       "75%                0.000911     17.000000     39.991000    -80.936000   \n",
       "max                0.001265     32.000000     61.169000    -71.426000   \n",
       "\n",
       "               PRCP          SNOW          SNWD          TMAX          AWND  \n",
       "count  52705.000000  52705.000000  52705.000000  52705.000000  52705.000000  \n",
       "mean       0.176994      0.105201      0.158283     59.231895      9.315581  \n",
       "std        0.330614      0.465679      0.796721     14.682274      4.222135  \n",
       "min        0.000000      0.000000      0.000000      5.000000      1.120000  \n",
       "25%        0.000000      0.000000      0.000000     48.000000      5.820000  \n",
       "50%        0.010000      0.000000      0.000000     59.000000      8.950000  \n",
       "75%        0.190000      0.000000      0.000000     70.000000     11.860000  \n",
       "max        2.020000      6.300000     11.000000     88.000000     25.050000  "
      ]
     },
     "execution_count": 11,
     "metadata": {},
     "output_type": "execute_result"
    }
   ],
   "source": [
    "data.describe()"
   ]
  },
  {
   "cell_type": "code",
   "execution_count": 12,
   "id": "04d463ee",
   "metadata": {
    "ExecuteTime": {
     "end_time": "2021-12-08T16:31:39.090967Z",
     "start_time": "2021-12-08T16:31:38.385998Z"
    }
   },
   "outputs": [
    {
     "data": {
      "text/plain": [
       "<AxesSubplot:xlabel='DEP_DEL15', ylabel='count'>"
      ]
     },
     "execution_count": 12,
     "metadata": {},
     "output_type": "execute_result"
    },
    {
     "data": {
      "image/png": "[encoded data removed]",
      "text/plain": [
       "<Figure size 432x288 with 1 Axes>"
      ]
     },
     "metadata": {},
     "output_type": "display_data"
    }
   ],
   "source": [
    "#Apakah data kita imbalance?\n",
    "\n",
    "sns.set_style('whitegrid')\n",
    "sns.countplot(x=data['DEP_DEL15'],data=data,palette='RdBu_r')"
   ]
  },
  {
   "cell_type": "markdown",
   "id": "12b2c0cc",
   "metadata": {},
   "source": [
    "## Cleaning"
   ]
  },
  {
   "cell_type": "code",
   "execution_count": 13,
   "id": "fcec7f9c",
   "metadata": {
    "ExecuteTime": {
     "end_time": "2021-12-08T16:31:39.160985Z",
     "start_time": "2021-12-08T16:31:39.096603Z"
    },
    "scrolled": true
   },
   "outputs": [
    {
     "data": {
      "text/html": [
       "<div>\n",
       "<style scoped>\n",
       "    .dataframe tbody tr th:only-of-type {\n",
       "        vertical-align: middle;\n",
       "    }\n",
       "\n",
       "    .dataframe tbody tr th {\n",
       "        vertical-align: top;\n",
       "    }\n",
       "\n",
       "    .dataframe thead th {\n",
       "        text-align: right;\n",
       "    }\n",
       "</style>\n",
       "<table border=\"1\" class=\"dataframe\">\n",
       "  <thead>\n",
       "    <tr style=\"text-align: right;\">\n",
       "      <th></th>\n",
       "      <th>DEP_DEL15</th>\n",
       "      <th>DISTANCE_GROUP</th>\n",
       "      <th>DEP_BLOCK</th>\n",
       "      <th>SEGMENT_NUMBER</th>\n",
       "      <th>CONCURRENT_FLIGHTS</th>\n",
       "      <th>NUMBER_OF_SEATS</th>\n",
       "      <th>CARRIER_NAME</th>\n",
       "      <th>AIRPORT_FLIGHTS_MONTH</th>\n",
       "      <th>AIRLINE_FLIGHTS_MONTH</th>\n",
       "      <th>AIRLINE_AIRPORT_FLIGHTS_MONTH</th>\n",
       "      <th>...</th>\n",
       "      <th>PLANE_AGE</th>\n",
       "      <th>DEPARTING_AIRPORT</th>\n",
       "      <th>LATITUDE</th>\n",
       "      <th>LONGITUDE</th>\n",
       "      <th>PREVIOUS_AIRPORT</th>\n",
       "      <th>PRCP</th>\n",
       "      <th>SNOW</th>\n",
       "      <th>SNWD</th>\n",
       "      <th>TMAX</th>\n",
       "      <th>AWND</th>\n",
       "    </tr>\n",
       "  </thead>\n",
       "  <tbody>\n",
       "    <tr>\n",
       "      <th>0</th>\n",
       "      <td>0</td>\n",
       "      <td>10</td>\n",
       "      <td>EARLY_MORNING</td>\n",
       "      <td>1</td>\n",
       "      <td>7</td>\n",
       "      <td>187</td>\n",
       "      <td>American Airlines Inc.</td>\n",
       "      <td>11493</td>\n",
       "      <td>75591</td>\n",
       "      <td>479</td>\n",
       "      <td>...</td>\n",
       "      <td>7</td>\n",
       "      <td>Seattle International</td>\n",
       "      <td>47.447</td>\n",
       "      <td>-122.306</td>\n",
       "      <td>NONE</td>\n",
       "      <td>0.16</td>\n",
       "      <td>0.0</td>\n",
       "      <td>0.0</td>\n",
       "      <td>52.0</td>\n",
       "      <td>4.92</td>\n",
       "    </tr>\n",
       "    <tr>\n",
       "      <th>1</th>\n",
       "      <td>0</td>\n",
       "      <td>4</td>\n",
       "      <td>MORNING</td>\n",
       "      <td>1</td>\n",
       "      <td>95</td>\n",
       "      <td>180</td>\n",
       "      <td>Delta Air Lines Inc.</td>\n",
       "      <td>11493</td>\n",
       "      <td>80026</td>\n",
       "      <td>2509</td>\n",
       "      <td>...</td>\n",
       "      <td>0</td>\n",
       "      <td>Seattle International</td>\n",
       "      <td>47.447</td>\n",
       "      <td>-122.306</td>\n",
       "      <td>NONE</td>\n",
       "      <td>0.16</td>\n",
       "      <td>0.0</td>\n",
       "      <td>0.0</td>\n",
       "      <td>52.0</td>\n",
       "      <td>4.92</td>\n",
       "    </tr>\n",
       "    <tr>\n",
       "      <th>2</th>\n",
       "      <td>0</td>\n",
       "      <td>4</td>\n",
       "      <td>MORNING</td>\n",
       "      <td>1</td>\n",
       "      <td>95</td>\n",
       "      <td>160</td>\n",
       "      <td>Delta Air Lines Inc.</td>\n",
       "      <td>11493</td>\n",
       "      <td>80026</td>\n",
       "      <td>2509</td>\n",
       "      <td>...</td>\n",
       "      <td>18</td>\n",
       "      <td>Seattle International</td>\n",
       "      <td>47.447</td>\n",
       "      <td>-122.306</td>\n",
       "      <td>NONE</td>\n",
       "      <td>0.16</td>\n",
       "      <td>0.0</td>\n",
       "      <td>0.0</td>\n",
       "      <td>52.0</td>\n",
       "      <td>4.92</td>\n",
       "    </tr>\n",
       "    <tr>\n",
       "      <th>3</th>\n",
       "      <td>0</td>\n",
       "      <td>5</td>\n",
       "      <td>MORNING</td>\n",
       "      <td>1</td>\n",
       "      <td>95</td>\n",
       "      <td>160</td>\n",
       "      <td>Delta Air Lines Inc.</td>\n",
       "      <td>11493</td>\n",
       "      <td>80026</td>\n",
       "      <td>2509</td>\n",
       "      <td>...</td>\n",
       "      <td>18</td>\n",
       "      <td>Seattle International</td>\n",
       "      <td>47.447</td>\n",
       "      <td>-122.306</td>\n",
       "      <td>NONE</td>\n",
       "      <td>0.16</td>\n",
       "      <td>0.0</td>\n",
       "      <td>0.0</td>\n",
       "      <td>52.0</td>\n",
       "      <td>4.92</td>\n",
       "    </tr>\n",
       "    <tr>\n",
       "      <th>4</th>\n",
       "      <td>0</td>\n",
       "      <td>7</td>\n",
       "      <td>MORNING</td>\n",
       "      <td>1</td>\n",
       "      <td>95</td>\n",
       "      <td>132</td>\n",
       "      <td>Delta Air Lines Inc.</td>\n",
       "      <td>11493</td>\n",
       "      <td>80026</td>\n",
       "      <td>2509</td>\n",
       "      <td>...</td>\n",
       "      <td>18</td>\n",
       "      <td>Seattle International</td>\n",
       "      <td>47.447</td>\n",
       "      <td>-122.306</td>\n",
       "      <td>NONE</td>\n",
       "      <td>0.16</td>\n",
       "      <td>0.0</td>\n",
       "      <td>0.0</td>\n",
       "      <td>52.0</td>\n",
       "      <td>4.92</td>\n",
       "    </tr>\n",
       "  </tbody>\n",
       "</table>\n",
       "<p>5 rows × 24 columns</p>\n",
       "</div>"
      ],
      "text/plain": [
       "   DEP_DEL15  DISTANCE_GROUP      DEP_BLOCK  SEGMENT_NUMBER  \\\n",
       "0          0              10  EARLY_MORNING               1   \n",
       "1          0               4        MORNING               1   \n",
       "2          0               4        MORNING               1   \n",
       "3          0               5        MORNING               1   \n",
       "4          0               7        MORNING               1   \n",
       "\n",
       "   CONCURRENT_FLIGHTS  NUMBER_OF_SEATS            CARRIER_NAME  \\\n",
       "0                   7              187  American Airlines Inc.   \n",
       "1                  95              180    Delta Air Lines Inc.   \n",
       "2                  95              160    Delta Air Lines Inc.   \n",
       "3                  95              160    Delta Air Lines Inc.   \n",
       "4                  95              132    Delta Air Lines Inc.   \n",
       "\n",
       "   AIRPORT_FLIGHTS_MONTH  AIRLINE_FLIGHTS_MONTH  \\\n",
       "0                  11493                  75591   \n",
       "1                  11493                  80026   \n",
       "2                  11493                  80026   \n",
       "3                  11493                  80026   \n",
       "4                  11493                  80026   \n",
       "\n",
       "   AIRLINE_AIRPORT_FLIGHTS_MONTH  ...  PLANE_AGE      DEPARTING_AIRPORT  \\\n",
       "0                            479  ...          7  Seattle International   \n",
       "1                           2509  ...          0  Seattle International   \n",
       "2                           2509  ...         18  Seattle International   \n",
       "3                           2509  ...         18  Seattle International   \n",
       "4                           2509  ...         18  Seattle International   \n",
       "\n",
       "   LATITUDE  LONGITUDE  PREVIOUS_AIRPORT  PRCP  SNOW  SNWD  TMAX  AWND  \n",
       "0    47.447   -122.306              NONE  0.16   0.0   0.0  52.0  4.92  \n",
       "1    47.447   -122.306              NONE  0.16   0.0   0.0  52.0  4.92  \n",
       "2    47.447   -122.306              NONE  0.16   0.0   0.0  52.0  4.92  \n",
       "3    47.447   -122.306              NONE  0.16   0.0   0.0  52.0  4.92  \n",
       "4    47.447   -122.306              NONE  0.16   0.0   0.0  52.0  4.92  \n",
       "\n",
       "[5 rows x 24 columns]"
      ]
     },
     "execution_count": 13,
     "metadata": {},
     "output_type": "execute_result"
    }
   ],
   "source": [
    "data.head(5)"
   ]
  },
  {
   "cell_type": "code",
   "execution_count": 14,
   "id": "fc45e57c",
   "metadata": {
    "ExecuteTime": {
     "end_time": "2021-12-08T16:31:43.741786Z",
     "start_time": "2021-12-08T16:31:43.565478Z"
    },
    "scrolled": false
   },
   "outputs": [
    {
     "data": {
      "text/html": [
       "<div>\n",
       "<style scoped>\n",
       "    .dataframe tbody tr th:only-of-type {\n",
       "        vertical-align: middle;\n",
       "    }\n",
       "\n",
       "    .dataframe tbody tr th {\n",
       "        vertical-align: top;\n",
       "    }\n",
       "\n",
       "    .dataframe thead th {\n",
       "        text-align: right;\n",
       "    }\n",
       "</style>\n",
       "<table border=\"1\" class=\"dataframe\">\n",
       "  <thead>\n",
       "    <tr style=\"text-align: right;\">\n",
       "      <th></th>\n",
       "      <th>DEP_DEL15</th>\n",
       "      <th>DISTANCE_GROUP</th>\n",
       "      <th>DEP_BLOCK</th>\n",
       "      <th>SEGMENT_NUMBER</th>\n",
       "      <th>CONCURRENT_FLIGHTS</th>\n",
       "      <th>NUMBER_OF_SEATS</th>\n",
       "      <th>CARRIER_NAME</th>\n",
       "      <th>AIRPORT_FLIGHTS_MONTH</th>\n",
       "      <th>AIRLINE_FLIGHTS_MONTH</th>\n",
       "      <th>AIRLINE_AIRPORT_FLIGHTS_MONTH</th>\n",
       "      <th>...</th>\n",
       "      <th>PLANE_AGE</th>\n",
       "      <th>DEPARTING_AIRPORT</th>\n",
       "      <th>LATITUDE</th>\n",
       "      <th>LONGITUDE</th>\n",
       "      <th>PREVIOUS_AIRPORT</th>\n",
       "      <th>PRCP</th>\n",
       "      <th>SNOW</th>\n",
       "      <th>SNWD</th>\n",
       "      <th>TMAX</th>\n",
       "      <th>AWND</th>\n",
       "    </tr>\n",
       "  </thead>\n",
       "  <tbody>\n",
       "    <tr>\n",
       "      <th>0</th>\n",
       "      <td>0</td>\n",
       "      <td>10</td>\n",
       "      <td>EARLY_MORNING</td>\n",
       "      <td>1</td>\n",
       "      <td>7</td>\n",
       "      <td>187</td>\n",
       "      <td>American Airlines Inc.</td>\n",
       "      <td>11493</td>\n",
       "      <td>75591</td>\n",
       "      <td>479</td>\n",
       "      <td>...</td>\n",
       "      <td>7</td>\n",
       "      <td>Seattle International</td>\n",
       "      <td>47.447</td>\n",
       "      <td>-122.306</td>\n",
       "      <td>NONE</td>\n",
       "      <td>0.16</td>\n",
       "      <td>0.0</td>\n",
       "      <td>0.0</td>\n",
       "      <td>52.0</td>\n",
       "      <td>4.92</td>\n",
       "    </tr>\n",
       "    <tr>\n",
       "      <th>1</th>\n",
       "      <td>0</td>\n",
       "      <td>4</td>\n",
       "      <td>MORNING</td>\n",
       "      <td>1</td>\n",
       "      <td>95</td>\n",
       "      <td>180</td>\n",
       "      <td>Delta Air Lines Inc.</td>\n",
       "      <td>11493</td>\n",
       "      <td>80026</td>\n",
       "      <td>2509</td>\n",
       "      <td>...</td>\n",
       "      <td>0</td>\n",
       "      <td>Seattle International</td>\n",
       "      <td>47.447</td>\n",
       "      <td>-122.306</td>\n",
       "      <td>NONE</td>\n",
       "      <td>0.16</td>\n",
       "      <td>0.0</td>\n",
       "      <td>0.0</td>\n",
       "      <td>52.0</td>\n",
       "      <td>4.92</td>\n",
       "    </tr>\n",
       "    <tr>\n",
       "      <th>2</th>\n",
       "      <td>0</td>\n",
       "      <td>4</td>\n",
       "      <td>MORNING</td>\n",
       "      <td>1</td>\n",
       "      <td>95</td>\n",
       "      <td>160</td>\n",
       "      <td>Delta Air Lines Inc.</td>\n",
       "      <td>11493</td>\n",
       "      <td>80026</td>\n",
       "      <td>2509</td>\n",
       "      <td>...</td>\n",
       "      <td>18</td>\n",
       "      <td>Seattle International</td>\n",
       "      <td>47.447</td>\n",
       "      <td>-122.306</td>\n",
       "      <td>NONE</td>\n",
       "      <td>0.16</td>\n",
       "      <td>0.0</td>\n",
       "      <td>0.0</td>\n",
       "      <td>52.0</td>\n",
       "      <td>4.92</td>\n",
       "    </tr>\n",
       "    <tr>\n",
       "      <th>3</th>\n",
       "      <td>0</td>\n",
       "      <td>5</td>\n",
       "      <td>MORNING</td>\n",
       "      <td>1</td>\n",
       "      <td>95</td>\n",
       "      <td>160</td>\n",
       "      <td>Delta Air Lines Inc.</td>\n",
       "      <td>11493</td>\n",
       "      <td>80026</td>\n",
       "      <td>2509</td>\n",
       "      <td>...</td>\n",
       "      <td>18</td>\n",
       "      <td>Seattle International</td>\n",
       "      <td>47.447</td>\n",
       "      <td>-122.306</td>\n",
       "      <td>NONE</td>\n",
       "      <td>0.16</td>\n",
       "      <td>0.0</td>\n",
       "      <td>0.0</td>\n",
       "      <td>52.0</td>\n",
       "      <td>4.92</td>\n",
       "    </tr>\n",
       "    <tr>\n",
       "      <th>4</th>\n",
       "      <td>0</td>\n",
       "      <td>7</td>\n",
       "      <td>MORNING</td>\n",
       "      <td>1</td>\n",
       "      <td>95</td>\n",
       "      <td>132</td>\n",
       "      <td>Delta Air Lines Inc.</td>\n",
       "      <td>11493</td>\n",
       "      <td>80026</td>\n",
       "      <td>2509</td>\n",
       "      <td>...</td>\n",
       "      <td>18</td>\n",
       "      <td>Seattle International</td>\n",
       "      <td>47.447</td>\n",
       "      <td>-122.306</td>\n",
       "      <td>NONE</td>\n",
       "      <td>0.16</td>\n",
       "      <td>0.0</td>\n",
       "      <td>0.0</td>\n",
       "      <td>52.0</td>\n",
       "      <td>4.92</td>\n",
       "    </tr>\n",
       "  </tbody>\n",
       "</table>\n",
       "<p>5 rows × 24 columns</p>\n",
       "</div>"
      ],
      "text/plain": [
       "   DEP_DEL15  DISTANCE_GROUP      DEP_BLOCK  SEGMENT_NUMBER  \\\n",
       "0          0              10  EARLY_MORNING               1   \n",
       "1          0               4        MORNING               1   \n",
       "2          0               4        MORNING               1   \n",
       "3          0               5        MORNING               1   \n",
       "4          0               7        MORNING               1   \n",
       "\n",
       "   CONCURRENT_FLIGHTS  NUMBER_OF_SEATS            CARRIER_NAME  \\\n",
       "0                   7              187  American Airlines Inc.   \n",
       "1                  95              180    Delta Air Lines Inc.   \n",
       "2                  95              160    Delta Air Lines Inc.   \n",
       "3                  95              160    Delta Air Lines Inc.   \n",
       "4                  95              132    Delta Air Lines Inc.   \n",
       "\n",
       "   AIRPORT_FLIGHTS_MONTH  AIRLINE_FLIGHTS_MONTH  \\\n",
       "0                  11493                  75591   \n",
       "1                  11493                  80026   \n",
       "2                  11493                  80026   \n",
       "3                  11493                  80026   \n",
       "4                  11493                  80026   \n",
       "\n",
       "   AIRLINE_AIRPORT_FLIGHTS_MONTH  ...  PLANE_AGE      DEPARTING_AIRPORT  \\\n",
       "0                            479  ...          7  Seattle International   \n",
       "1                           2509  ...          0  Seattle International   \n",
       "2                           2509  ...         18  Seattle International   \n",
       "3                           2509  ...         18  Seattle International   \n",
       "4                           2509  ...         18  Seattle International   \n",
       "\n",
       "   LATITUDE  LONGITUDE  PREVIOUS_AIRPORT  PRCP  SNOW  SNWD  TMAX  AWND  \n",
       "0    47.447   -122.306              NONE  0.16   0.0   0.0  52.0  4.92  \n",
       "1    47.447   -122.306              NONE  0.16   0.0   0.0  52.0  4.92  \n",
       "2    47.447   -122.306              NONE  0.16   0.0   0.0  52.0  4.92  \n",
       "3    47.447   -122.306              NONE  0.16   0.0   0.0  52.0  4.92  \n",
       "4    47.447   -122.306              NONE  0.16   0.0   0.0  52.0  4.92  \n",
       "\n",
       "[5 rows x 24 columns]"
      ]
     },
     "execution_count": 14,
     "metadata": {},
     "output_type": "execute_result"
    }
   ],
   "source": [
    "datagraph=data.drop_duplicates()\n",
    "datagraph.head(5)"
   ]
  },
  {
   "cell_type": "raw",
   "id": "9d7e5544",
   "metadata": {
    "ExecuteTime": {
     "end_time": "2021-12-05T19:07:05.634845Z",
     "start_time": "2021-12-05T19:07:05.625461Z"
    }
   },
   "source": [
    "airportcolumn = ['AIRPORT_FLIGHTS_MONTH', 'AVG_MONTHLY_PASS_AIRPORT', 'DEPARTING_AIRPORT', 'LATITUDE', 'LONGITUDE']\n",
    "airportdata = datagraph[airportcolumn]\n",
    "airportdata.nunique()"
   ]
  },
  {
   "cell_type": "code",
   "execution_count": 15,
   "id": "a64aa60e",
   "metadata": {
    "ExecuteTime": {
     "end_time": "2021-12-08T16:31:45.691138Z",
     "start_time": "2021-12-08T16:31:45.633193Z"
    },
    "scrolled": true
   },
   "outputs": [
    {
     "data": {
      "text/html": [
       "<div>\n",
       "<style scoped>\n",
       "    .dataframe tbody tr th:only-of-type {\n",
       "        vertical-align: middle;\n",
       "    }\n",
       "\n",
       "    .dataframe tbody tr th {\n",
       "        vertical-align: top;\n",
       "    }\n",
       "\n",
       "    .dataframe thead th {\n",
       "        text-align: right;\n",
       "    }\n",
       "</style>\n",
       "<table border=\"1\" class=\"dataframe\">\n",
       "  <thead>\n",
       "    <tr style=\"text-align: right;\">\n",
       "      <th></th>\n",
       "      <th>DEP_DEL15</th>\n",
       "      <th>DISTANCE_GROUP</th>\n",
       "      <th>DEP_BLOCK</th>\n",
       "      <th>SEGMENT_NUMBER</th>\n",
       "      <th>CONCURRENT_FLIGHTS</th>\n",
       "      <th>NUMBER_OF_SEATS</th>\n",
       "      <th>CARRIER_NAME</th>\n",
       "      <th>AIRPORT_FLIGHTS_MONTH</th>\n",
       "      <th>AIRLINE_AIRPORT_FLIGHTS_MONTH</th>\n",
       "      <th>AVG_MONTHLY_PASS_AIRPORT</th>\n",
       "      <th>PLANE_AGE</th>\n",
       "      <th>DEPARTING_AIRPORT</th>\n",
       "      <th>PREVIOUS_AIRPORT</th>\n",
       "      <th>PRCP</th>\n",
       "      <th>SNOW</th>\n",
       "      <th>SNWD</th>\n",
       "      <th>TMAX</th>\n",
       "      <th>AWND</th>\n",
       "    </tr>\n",
       "  </thead>\n",
       "  <tbody>\n",
       "    <tr>\n",
       "      <th>0</th>\n",
       "      <td>0</td>\n",
       "      <td>10</td>\n",
       "      <td>EARLY_MORNING</td>\n",
       "      <td>1</td>\n",
       "      <td>7</td>\n",
       "      <td>187</td>\n",
       "      <td>American Airlines Inc.</td>\n",
       "      <td>11493</td>\n",
       "      <td>479</td>\n",
       "      <td>344730</td>\n",
       "      <td>7</td>\n",
       "      <td>Seattle International</td>\n",
       "      <td>NONE</td>\n",
       "      <td>0.16</td>\n",
       "      <td>0.0</td>\n",
       "      <td>0.0</td>\n",
       "      <td>52.0</td>\n",
       "      <td>4.92</td>\n",
       "    </tr>\n",
       "    <tr>\n",
       "      <th>1</th>\n",
       "      <td>0</td>\n",
       "      <td>4</td>\n",
       "      <td>MORNING</td>\n",
       "      <td>1</td>\n",
       "      <td>95</td>\n",
       "      <td>180</td>\n",
       "      <td>Delta Air Lines Inc.</td>\n",
       "      <td>11493</td>\n",
       "      <td>2509</td>\n",
       "      <td>344730</td>\n",
       "      <td>0</td>\n",
       "      <td>Seattle International</td>\n",
       "      <td>NONE</td>\n",
       "      <td>0.16</td>\n",
       "      <td>0.0</td>\n",
       "      <td>0.0</td>\n",
       "      <td>52.0</td>\n",
       "      <td>4.92</td>\n",
       "    </tr>\n",
       "    <tr>\n",
       "      <th>2</th>\n",
       "      <td>0</td>\n",
       "      <td>4</td>\n",
       "      <td>MORNING</td>\n",
       "      <td>1</td>\n",
       "      <td>95</td>\n",
       "      <td>160</td>\n",
       "      <td>Delta Air Lines Inc.</td>\n",
       "      <td>11493</td>\n",
       "      <td>2509</td>\n",
       "      <td>344730</td>\n",
       "      <td>18</td>\n",
       "      <td>Seattle International</td>\n",
       "      <td>NONE</td>\n",
       "      <td>0.16</td>\n",
       "      <td>0.0</td>\n",
       "      <td>0.0</td>\n",
       "      <td>52.0</td>\n",
       "      <td>4.92</td>\n",
       "    </tr>\n",
       "    <tr>\n",
       "      <th>3</th>\n",
       "      <td>0</td>\n",
       "      <td>5</td>\n",
       "      <td>MORNING</td>\n",
       "      <td>1</td>\n",
       "      <td>95</td>\n",
       "      <td>160</td>\n",
       "      <td>Delta Air Lines Inc.</td>\n",
       "      <td>11493</td>\n",
       "      <td>2509</td>\n",
       "      <td>344730</td>\n",
       "      <td>18</td>\n",
       "      <td>Seattle International</td>\n",
       "      <td>NONE</td>\n",
       "      <td>0.16</td>\n",
       "      <td>0.0</td>\n",
       "      <td>0.0</td>\n",
       "      <td>52.0</td>\n",
       "      <td>4.92</td>\n",
       "    </tr>\n",
       "    <tr>\n",
       "      <th>4</th>\n",
       "      <td>0</td>\n",
       "      <td>7</td>\n",
       "      <td>MORNING</td>\n",
       "      <td>1</td>\n",
       "      <td>95</td>\n",
       "      <td>132</td>\n",
       "      <td>Delta Air Lines Inc.</td>\n",
       "      <td>11493</td>\n",
       "      <td>2509</td>\n",
       "      <td>344730</td>\n",
       "      <td>18</td>\n",
       "      <td>Seattle International</td>\n",
       "      <td>NONE</td>\n",
       "      <td>0.16</td>\n",
       "      <td>0.0</td>\n",
       "      <td>0.0</td>\n",
       "      <td>52.0</td>\n",
       "      <td>4.92</td>\n",
       "    </tr>\n",
       "  </tbody>\n",
       "</table>\n",
       "</div>"
      ],
      "text/plain": [
       "   DEP_DEL15  DISTANCE_GROUP      DEP_BLOCK  SEGMENT_NUMBER  \\\n",
       "0          0              10  EARLY_MORNING               1   \n",
       "1          0               4        MORNING               1   \n",
       "2          0               4        MORNING               1   \n",
       "3          0               5        MORNING               1   \n",
       "4          0               7        MORNING               1   \n",
       "\n",
       "   CONCURRENT_FLIGHTS  NUMBER_OF_SEATS            CARRIER_NAME  \\\n",
       "0                   7              187  American Airlines Inc.   \n",
       "1                  95              180    Delta Air Lines Inc.   \n",
       "2                  95              160    Delta Air Lines Inc.   \n",
       "3                  95              160    Delta Air Lines Inc.   \n",
       "4                  95              132    Delta Air Lines Inc.   \n",
       "\n",
       "   AIRPORT_FLIGHTS_MONTH  AIRLINE_AIRPORT_FLIGHTS_MONTH  \\\n",
       "0                  11493                            479   \n",
       "1                  11493                           2509   \n",
       "2                  11493                           2509   \n",
       "3                  11493                           2509   \n",
       "4                  11493                           2509   \n",
       "\n",
       "   AVG_MONTHLY_PASS_AIRPORT  PLANE_AGE      DEPARTING_AIRPORT  \\\n",
       "0                    344730          7  Seattle International   \n",
       "1                    344730          0  Seattle International   \n",
       "2                    344730         18  Seattle International   \n",
       "3                    344730         18  Seattle International   \n",
       "4                    344730         18  Seattle International   \n",
       "\n",
       "  PREVIOUS_AIRPORT  PRCP  SNOW  SNWD  TMAX  AWND  \n",
       "0             NONE  0.16   0.0   0.0  52.0  4.92  \n",
       "1             NONE  0.16   0.0   0.0  52.0  4.92  \n",
       "2             NONE  0.16   0.0   0.0  52.0  4.92  \n",
       "3             NONE  0.16   0.0   0.0  52.0  4.92  \n",
       "4             NONE  0.16   0.0   0.0  52.0  4.92  "
      ]
     },
     "execution_count": 15,
     "metadata": {},
     "output_type": "execute_result"
    }
   ],
   "source": [
    "datagraph = datagraph.drop(['AIRLINE_FLIGHTS_MONTH','AVG_MONTHLY_PASS_AIRLINE','FLT_ATTENDANTS_PER_PASS','GROUND_SERV_PER_PASS','LATITUDE','LONGITUDE'], axis=1)\n",
    "datagraph.head(5)"
   ]
  },
  {
   "cell_type": "code",
   "execution_count": 16,
   "id": "9fdedf92",
   "metadata": {
    "ExecuteTime": {
     "end_time": "2021-12-08T16:32:06.479669Z",
     "start_time": "2021-12-08T16:32:06.112955Z"
    }
   },
   "outputs": [
    {
     "data": {
      "text/html": [
       "<div>\n",
       "<style scoped>\n",
       "    .dataframe tbody tr th:only-of-type {\n",
       "        vertical-align: middle;\n",
       "    }\n",
       "\n",
       "    .dataframe tbody tr th {\n",
       "        vertical-align: top;\n",
       "    }\n",
       "\n",
       "    .dataframe thead th {\n",
       "        text-align: right;\n",
       "    }\n",
       "</style>\n",
       "<table border=\"1\" class=\"dataframe\">\n",
       "  <thead>\n",
       "    <tr style=\"text-align: right;\">\n",
       "      <th></th>\n",
       "      <th>DEP_DEL15</th>\n",
       "      <th>DISTANCE_GROUP</th>\n",
       "      <th>SEGMENT_NUMBER</th>\n",
       "      <th>CONCURRENT_FLIGHTS</th>\n",
       "      <th>NUMBER_OF_SEATS</th>\n",
       "      <th>AIRPORT_FLIGHTS_MONTH</th>\n",
       "      <th>AIRLINE_AIRPORT_FLIGHTS_MONTH</th>\n",
       "      <th>AVG_MONTHLY_PASS_AIRPORT</th>\n",
       "      <th>PLANE_AGE</th>\n",
       "      <th>PRCP</th>\n",
       "      <th>...</th>\n",
       "      <th>CARRIER_NAME_Endeavor Air Inc.</th>\n",
       "      <th>CARRIER_NAME_Frontier Airlines Inc.</th>\n",
       "      <th>CARRIER_NAME_Hawaiian Airlines Inc.</th>\n",
       "      <th>CARRIER_NAME_JetBlue Airways</th>\n",
       "      <th>CARRIER_NAME_Mesa Airlines Inc.</th>\n",
       "      <th>CARRIER_NAME_Midwest Airline, Inc.</th>\n",
       "      <th>CARRIER_NAME_SkyWest Airlines Inc.</th>\n",
       "      <th>CARRIER_NAME_Southwest Airlines Co.</th>\n",
       "      <th>CARRIER_NAME_Spirit Air Lines</th>\n",
       "      <th>CARRIER_NAME_United Air Lines Inc.</th>\n",
       "    </tr>\n",
       "  </thead>\n",
       "  <tbody>\n",
       "    <tr>\n",
       "      <th>0</th>\n",
       "      <td>0</td>\n",
       "      <td>10</td>\n",
       "      <td>1</td>\n",
       "      <td>7</td>\n",
       "      <td>187</td>\n",
       "      <td>11493</td>\n",
       "      <td>479</td>\n",
       "      <td>344730</td>\n",
       "      <td>7</td>\n",
       "      <td>0.16</td>\n",
       "      <td>...</td>\n",
       "      <td>0</td>\n",
       "      <td>0</td>\n",
       "      <td>0</td>\n",
       "      <td>0</td>\n",
       "      <td>0</td>\n",
       "      <td>0</td>\n",
       "      <td>0</td>\n",
       "      <td>0</td>\n",
       "      <td>0</td>\n",
       "      <td>0</td>\n",
       "    </tr>\n",
       "    <tr>\n",
       "      <th>1</th>\n",
       "      <td>0</td>\n",
       "      <td>4</td>\n",
       "      <td>1</td>\n",
       "      <td>95</td>\n",
       "      <td>180</td>\n",
       "      <td>11493</td>\n",
       "      <td>2509</td>\n",
       "      <td>344730</td>\n",
       "      <td>0</td>\n",
       "      <td>0.16</td>\n",
       "      <td>...</td>\n",
       "      <td>0</td>\n",
       "      <td>0</td>\n",
       "      <td>0</td>\n",
       "      <td>0</td>\n",
       "      <td>0</td>\n",
       "      <td>0</td>\n",
       "      <td>0</td>\n",
       "      <td>0</td>\n",
       "      <td>0</td>\n",
       "      <td>0</td>\n",
       "    </tr>\n",
       "    <tr>\n",
       "      <th>2</th>\n",
       "      <td>0</td>\n",
       "      <td>4</td>\n",
       "      <td>1</td>\n",
       "      <td>95</td>\n",
       "      <td>160</td>\n",
       "      <td>11493</td>\n",
       "      <td>2509</td>\n",
       "      <td>344730</td>\n",
       "      <td>18</td>\n",
       "      <td>0.16</td>\n",
       "      <td>...</td>\n",
       "      <td>0</td>\n",
       "      <td>0</td>\n",
       "      <td>0</td>\n",
       "      <td>0</td>\n",
       "      <td>0</td>\n",
       "      <td>0</td>\n",
       "      <td>0</td>\n",
       "      <td>0</td>\n",
       "      <td>0</td>\n",
       "      <td>0</td>\n",
       "    </tr>\n",
       "    <tr>\n",
       "      <th>3</th>\n",
       "      <td>0</td>\n",
       "      <td>5</td>\n",
       "      <td>1</td>\n",
       "      <td>95</td>\n",
       "      <td>160</td>\n",
       "      <td>11493</td>\n",
       "      <td>2509</td>\n",
       "      <td>344730</td>\n",
       "      <td>18</td>\n",
       "      <td>0.16</td>\n",
       "      <td>...</td>\n",
       "      <td>0</td>\n",
       "      <td>0</td>\n",
       "      <td>0</td>\n",
       "      <td>0</td>\n",
       "      <td>0</td>\n",
       "      <td>0</td>\n",
       "      <td>0</td>\n",
       "      <td>0</td>\n",
       "      <td>0</td>\n",
       "      <td>0</td>\n",
       "    </tr>\n",
       "    <tr>\n",
       "      <th>4</th>\n",
       "      <td>0</td>\n",
       "      <td>7</td>\n",
       "      <td>1</td>\n",
       "      <td>95</td>\n",
       "      <td>132</td>\n",
       "      <td>11493</td>\n",
       "      <td>2509</td>\n",
       "      <td>344730</td>\n",
       "      <td>18</td>\n",
       "      <td>0.16</td>\n",
       "      <td>...</td>\n",
       "      <td>0</td>\n",
       "      <td>0</td>\n",
       "      <td>0</td>\n",
       "      <td>0</td>\n",
       "      <td>0</td>\n",
       "      <td>0</td>\n",
       "      <td>0</td>\n",
       "      <td>0</td>\n",
       "      <td>0</td>\n",
       "      <td>0</td>\n",
       "    </tr>\n",
       "    <tr>\n",
       "      <th>...</th>\n",
       "      <td>...</td>\n",
       "      <td>...</td>\n",
       "      <td>...</td>\n",
       "      <td>...</td>\n",
       "      <td>...</td>\n",
       "      <td>...</td>\n",
       "      <td>...</td>\n",
       "      <td>...</td>\n",
       "      <td>...</td>\n",
       "      <td>...</td>\n",
       "      <td>...</td>\n",
       "      <td>...</td>\n",
       "      <td>...</td>\n",
       "      <td>...</td>\n",
       "      <td>...</td>\n",
       "      <td>...</td>\n",
       "      <td>...</td>\n",
       "      <td>...</td>\n",
       "      <td>...</td>\n",
       "      <td>...</td>\n",
       "      <td>...</td>\n",
       "    </tr>\n",
       "    <tr>\n",
       "      <th>52697</th>\n",
       "      <td>0</td>\n",
       "      <td>1</td>\n",
       "      <td>7</td>\n",
       "      <td>7</td>\n",
       "      <td>175</td>\n",
       "      <td>1350</td>\n",
       "      <td>149</td>\n",
       "      <td>35367</td>\n",
       "      <td>7</td>\n",
       "      <td>0.00</td>\n",
       "      <td>...</td>\n",
       "      <td>0</td>\n",
       "      <td>0</td>\n",
       "      <td>0</td>\n",
       "      <td>0</td>\n",
       "      <td>0</td>\n",
       "      <td>0</td>\n",
       "      <td>0</td>\n",
       "      <td>1</td>\n",
       "      <td>0</td>\n",
       "      <td>0</td>\n",
       "    </tr>\n",
       "    <tr>\n",
       "      <th>52699</th>\n",
       "      <td>0</td>\n",
       "      <td>1</td>\n",
       "      <td>8</td>\n",
       "      <td>18</td>\n",
       "      <td>123</td>\n",
       "      <td>1350</td>\n",
       "      <td>687</td>\n",
       "      <td>35367</td>\n",
       "      <td>18</td>\n",
       "      <td>0.00</td>\n",
       "      <td>...</td>\n",
       "      <td>0</td>\n",
       "      <td>0</td>\n",
       "      <td>1</td>\n",
       "      <td>0</td>\n",
       "      <td>0</td>\n",
       "      <td>0</td>\n",
       "      <td>0</td>\n",
       "      <td>0</td>\n",
       "      <td>0</td>\n",
       "      <td>0</td>\n",
       "    </tr>\n",
       "    <tr>\n",
       "      <th>52701</th>\n",
       "      <td>0</td>\n",
       "      <td>1</td>\n",
       "      <td>10</td>\n",
       "      <td>18</td>\n",
       "      <td>123</td>\n",
       "      <td>1350</td>\n",
       "      <td>687</td>\n",
       "      <td>35367</td>\n",
       "      <td>18</td>\n",
       "      <td>0.00</td>\n",
       "      <td>...</td>\n",
       "      <td>0</td>\n",
       "      <td>0</td>\n",
       "      <td>1</td>\n",
       "      <td>0</td>\n",
       "      <td>0</td>\n",
       "      <td>0</td>\n",
       "      <td>0</td>\n",
       "      <td>0</td>\n",
       "      <td>0</td>\n",
       "      <td>0</td>\n",
       "    </tr>\n",
       "    <tr>\n",
       "      <th>52702</th>\n",
       "      <td>0</td>\n",
       "      <td>1</td>\n",
       "      <td>10</td>\n",
       "      <td>7</td>\n",
       "      <td>123</td>\n",
       "      <td>1350</td>\n",
       "      <td>687</td>\n",
       "      <td>35367</td>\n",
       "      <td>21</td>\n",
       "      <td>0.00</td>\n",
       "      <td>...</td>\n",
       "      <td>0</td>\n",
       "      <td>0</td>\n",
       "      <td>1</td>\n",
       "      <td>0</td>\n",
       "      <td>0</td>\n",
       "      <td>0</td>\n",
       "      <td>0</td>\n",
       "      <td>0</td>\n",
       "      <td>0</td>\n",
       "      <td>0</td>\n",
       "    </tr>\n",
       "    <tr>\n",
       "      <th>52703</th>\n",
       "      <td>0</td>\n",
       "      <td>1</td>\n",
       "      <td>12</td>\n",
       "      <td>7</td>\n",
       "      <td>123</td>\n",
       "      <td>1350</td>\n",
       "      <td>687</td>\n",
       "      <td>35367</td>\n",
       "      <td>18</td>\n",
       "      <td>0.00</td>\n",
       "      <td>...</td>\n",
       "      <td>0</td>\n",
       "      <td>0</td>\n",
       "      <td>1</td>\n",
       "      <td>0</td>\n",
       "      <td>0</td>\n",
       "      <td>0</td>\n",
       "      <td>0</td>\n",
       "      <td>0</td>\n",
       "      <td>0</td>\n",
       "      <td>0</td>\n",
       "    </tr>\n",
       "  </tbody>\n",
       "</table>\n",
       "<p>51995 rows × 444 columns</p>\n",
       "</div>"
      ],
      "text/plain": [
       "       DEP_DEL15  DISTANCE_GROUP  SEGMENT_NUMBER  CONCURRENT_FLIGHTS  \\\n",
       "0              0              10               1                   7   \n",
       "1              0               4               1                  95   \n",
       "2              0               4               1                  95   \n",
       "3              0               5               1                  95   \n",
       "4              0               7               1                  95   \n",
       "...          ...             ...             ...                 ...   \n",
       "52697          0               1               7                   7   \n",
       "52699          0               1               8                  18   \n",
       "52701          0               1              10                  18   \n",
       "52702          0               1              10                   7   \n",
       "52703          0               1              12                   7   \n",
       "\n",
       "       NUMBER_OF_SEATS  AIRPORT_FLIGHTS_MONTH  AIRLINE_AIRPORT_FLIGHTS_MONTH  \\\n",
       "0                  187                  11493                            479   \n",
       "1                  180                  11493                           2509   \n",
       "2                  160                  11493                           2509   \n",
       "3                  160                  11493                           2509   \n",
       "4                  132                  11493                           2509   \n",
       "...                ...                    ...                            ...   \n",
       "52697              175                   1350                            149   \n",
       "52699              123                   1350                            687   \n",
       "52701              123                   1350                            687   \n",
       "52702              123                   1350                            687   \n",
       "52703              123                   1350                            687   \n",
       "\n",
       "       AVG_MONTHLY_PASS_AIRPORT  PLANE_AGE  PRCP  ...  \\\n",
       "0                        344730          7  0.16  ...   \n",
       "1                        344730          0  0.16  ...   \n",
       "2                        344730         18  0.16  ...   \n",
       "3                        344730         18  0.16  ...   \n",
       "4                        344730         18  0.16  ...   \n",
       "...                         ...        ...   ...  ...   \n",
       "52697                     35367          7  0.00  ...   \n",
       "52699                     35367         18  0.00  ...   \n",
       "52701                     35367         18  0.00  ...   \n",
       "52702                     35367         21  0.00  ...   \n",
       "52703                     35367         18  0.00  ...   \n",
       "\n",
       "       CARRIER_NAME_Endeavor Air Inc.  CARRIER_NAME_Frontier Airlines Inc.  \\\n",
       "0                                   0                                    0   \n",
       "1                                   0                                    0   \n",
       "2                                   0                                    0   \n",
       "3                                   0                                    0   \n",
       "4                                   0                                    0   \n",
       "...                               ...                                  ...   \n",
       "52697                               0                                    0   \n",
       "52699                               0                                    0   \n",
       "52701                               0                                    0   \n",
       "52702                               0                                    0   \n",
       "52703                               0                                    0   \n",
       "\n",
       "       CARRIER_NAME_Hawaiian Airlines Inc.  CARRIER_NAME_JetBlue Airways  \\\n",
       "0                                        0                             0   \n",
       "1                                        0                             0   \n",
       "2                                        0                             0   \n",
       "3                                        0                             0   \n",
       "4                                        0                             0   \n",
       "...                                    ...                           ...   \n",
       "52697                                    0                             0   \n",
       "52699                                    1                             0   \n",
       "52701                                    1                             0   \n",
       "52702                                    1                             0   \n",
       "52703                                    1                             0   \n",
       "\n",
       "       CARRIER_NAME_Mesa Airlines Inc.  CARRIER_NAME_Midwest Airline, Inc.  \\\n",
       "0                                    0                                   0   \n",
       "1                                    0                                   0   \n",
       "2                                    0                                   0   \n",
       "3                                    0                                   0   \n",
       "4                                    0                                   0   \n",
       "...                                ...                                 ...   \n",
       "52697                                0                                   0   \n",
       "52699                                0                                   0   \n",
       "52701                                0                                   0   \n",
       "52702                                0                                   0   \n",
       "52703                                0                                   0   \n",
       "\n",
       "       CARRIER_NAME_SkyWest Airlines Inc.  \\\n",
       "0                                       0   \n",
       "1                                       0   \n",
       "2                                       0   \n",
       "3                                       0   \n",
       "4                                       0   \n",
       "...                                   ...   \n",
       "52697                                   0   \n",
       "52699                                   0   \n",
       "52701                                   0   \n",
       "52702                                   0   \n",
       "52703                                   0   \n",
       "\n",
       "       CARRIER_NAME_Southwest Airlines Co.  CARRIER_NAME_Spirit Air Lines  \\\n",
       "0                                        0                              0   \n",
       "1                                        0                              0   \n",
       "2                                        0                              0   \n",
       "3                                        0                              0   \n",
       "4                                        0                              0   \n",
       "...                                    ...                            ...   \n",
       "52697                                    1                              0   \n",
       "52699                                    0                              0   \n",
       "52701                                    0                              0   \n",
       "52702                                    0                              0   \n",
       "52703                                    0                              0   \n",
       "\n",
       "       CARRIER_NAME_United Air Lines Inc.  \n",
       "0                                       0  \n",
       "1                                       0  \n",
       "2                                       0  \n",
       "3                                       0  \n",
       "4                                       0  \n",
       "...                                   ...  \n",
       "52697                                   0  \n",
       "52699                                   0  \n",
       "52701                                   0  \n",
       "52702                                   0  \n",
       "52703                                   0  \n",
       "\n",
       "[51995 rows x 444 columns]"
      ]
     },
     "execution_count": 16,
     "metadata": {},
     "output_type": "execute_result"
    }
   ],
   "source": [
    "categorical_column = ['DEP_BLOCK','PREVIOUS_AIRPORT','DEPARTING_AIRPORT', 'CARRIER_NAME']\n",
    "datagraph = pd.get_dummies(datagraph, columns=categorical_column)\n",
    "datagraph"
   ]
  },
  {
   "cell_type": "markdown",
   "id": "a308234e",
   "metadata": {},
   "source": [
    "# Training"
   ]
  },
  {
   "cell_type": "code",
   "execution_count": 17,
   "id": "a23623d1",
   "metadata": {
    "ExecuteTime": {
     "end_time": "2021-12-08T16:32:13.361252Z",
     "start_time": "2021-12-08T16:32:13.203252Z"
    }
   },
   "outputs": [
    {
     "data": {
      "text/html": [
       "<div>\n",
       "<style scoped>\n",
       "    .dataframe tbody tr th:only-of-type {\n",
       "        vertical-align: middle;\n",
       "    }\n",
       "\n",
       "    .dataframe tbody tr th {\n",
       "        vertical-align: top;\n",
       "    }\n",
       "\n",
       "    .dataframe thead th {\n",
       "        text-align: right;\n",
       "    }\n",
       "</style>\n",
       "<table border=\"1\" class=\"dataframe\">\n",
       "  <thead>\n",
       "    <tr style=\"text-align: right;\">\n",
       "      <th></th>\n",
       "      <th>DISTANCE_GROUP</th>\n",
       "      <th>SEGMENT_NUMBER</th>\n",
       "      <th>CONCURRENT_FLIGHTS</th>\n",
       "      <th>NUMBER_OF_SEATS</th>\n",
       "      <th>AIRPORT_FLIGHTS_MONTH</th>\n",
       "      <th>AIRLINE_AIRPORT_FLIGHTS_MONTH</th>\n",
       "      <th>AVG_MONTHLY_PASS_AIRPORT</th>\n",
       "      <th>PLANE_AGE</th>\n",
       "      <th>PRCP</th>\n",
       "      <th>SNOW</th>\n",
       "      <th>...</th>\n",
       "      <th>CARRIER_NAME_Endeavor Air Inc.</th>\n",
       "      <th>CARRIER_NAME_Frontier Airlines Inc.</th>\n",
       "      <th>CARRIER_NAME_Hawaiian Airlines Inc.</th>\n",
       "      <th>CARRIER_NAME_JetBlue Airways</th>\n",
       "      <th>CARRIER_NAME_Mesa Airlines Inc.</th>\n",
       "      <th>CARRIER_NAME_Midwest Airline, Inc.</th>\n",
       "      <th>CARRIER_NAME_SkyWest Airlines Inc.</th>\n",
       "      <th>CARRIER_NAME_Southwest Airlines Co.</th>\n",
       "      <th>CARRIER_NAME_Spirit Air Lines</th>\n",
       "      <th>CARRIER_NAME_United Air Lines Inc.</th>\n",
       "    </tr>\n",
       "  </thead>\n",
       "  <tbody>\n",
       "    <tr>\n",
       "      <th>0</th>\n",
       "      <td>10</td>\n",
       "      <td>1</td>\n",
       "      <td>7</td>\n",
       "      <td>187</td>\n",
       "      <td>11493</td>\n",
       "      <td>479</td>\n",
       "      <td>344730</td>\n",
       "      <td>7</td>\n",
       "      <td>0.16</td>\n",
       "      <td>0.0</td>\n",
       "      <td>...</td>\n",
       "      <td>0</td>\n",
       "      <td>0</td>\n",
       "      <td>0</td>\n",
       "      <td>0</td>\n",
       "      <td>0</td>\n",
       "      <td>0</td>\n",
       "      <td>0</td>\n",
       "      <td>0</td>\n",
       "      <td>0</td>\n",
       "      <td>0</td>\n",
       "    </tr>\n",
       "    <tr>\n",
       "      <th>1</th>\n",
       "      <td>4</td>\n",
       "      <td>1</td>\n",
       "      <td>95</td>\n",
       "      <td>180</td>\n",
       "      <td>11493</td>\n",
       "      <td>2509</td>\n",
       "      <td>344730</td>\n",
       "      <td>0</td>\n",
       "      <td>0.16</td>\n",
       "      <td>0.0</td>\n",
       "      <td>...</td>\n",
       "      <td>0</td>\n",
       "      <td>0</td>\n",
       "      <td>0</td>\n",
       "      <td>0</td>\n",
       "      <td>0</td>\n",
       "      <td>0</td>\n",
       "      <td>0</td>\n",
       "      <td>0</td>\n",
       "      <td>0</td>\n",
       "      <td>0</td>\n",
       "    </tr>\n",
       "    <tr>\n",
       "      <th>2</th>\n",
       "      <td>4</td>\n",
       "      <td>1</td>\n",
       "      <td>95</td>\n",
       "      <td>160</td>\n",
       "      <td>11493</td>\n",
       "      <td>2509</td>\n",
       "      <td>344730</td>\n",
       "      <td>18</td>\n",
       "      <td>0.16</td>\n",
       "      <td>0.0</td>\n",
       "      <td>...</td>\n",
       "      <td>0</td>\n",
       "      <td>0</td>\n",
       "      <td>0</td>\n",
       "      <td>0</td>\n",
       "      <td>0</td>\n",
       "      <td>0</td>\n",
       "      <td>0</td>\n",
       "      <td>0</td>\n",
       "      <td>0</td>\n",
       "      <td>0</td>\n",
       "    </tr>\n",
       "    <tr>\n",
       "      <th>3</th>\n",
       "      <td>5</td>\n",
       "      <td>1</td>\n",
       "      <td>95</td>\n",
       "      <td>160</td>\n",
       "      <td>11493</td>\n",
       "      <td>2509</td>\n",
       "      <td>344730</td>\n",
       "      <td>18</td>\n",
       "      <td>0.16</td>\n",
       "      <td>0.0</td>\n",
       "      <td>...</td>\n",
       "      <td>0</td>\n",
       "      <td>0</td>\n",
       "      <td>0</td>\n",
       "      <td>0</td>\n",
       "      <td>0</td>\n",
       "      <td>0</td>\n",
       "      <td>0</td>\n",
       "      <td>0</td>\n",
       "      <td>0</td>\n",
       "      <td>0</td>\n",
       "    </tr>\n",
       "    <tr>\n",
       "      <th>4</th>\n",
       "      <td>7</td>\n",
       "      <td>1</td>\n",
       "      <td>95</td>\n",
       "      <td>132</td>\n",
       "      <td>11493</td>\n",
       "      <td>2509</td>\n",
       "      <td>344730</td>\n",
       "      <td>18</td>\n",
       "      <td>0.16</td>\n",
       "      <td>0.0</td>\n",
       "      <td>...</td>\n",
       "      <td>0</td>\n",
       "      <td>0</td>\n",
       "      <td>0</td>\n",
       "      <td>0</td>\n",
       "      <td>0</td>\n",
       "      <td>0</td>\n",
       "      <td>0</td>\n",
       "      <td>0</td>\n",
       "      <td>0</td>\n",
       "      <td>0</td>\n",
       "    </tr>\n",
       "  </tbody>\n",
       "</table>\n",
       "<p>5 rows × 443 columns</p>\n",
       "</div>"
      ],
      "text/plain": [
       "   DISTANCE_GROUP  SEGMENT_NUMBER  CONCURRENT_FLIGHTS  NUMBER_OF_SEATS  \\\n",
       "0              10               1                   7              187   \n",
       "1               4               1                  95              180   \n",
       "2               4               1                  95              160   \n",
       "3               5               1                  95              160   \n",
       "4               7               1                  95              132   \n",
       "\n",
       "   AIRPORT_FLIGHTS_MONTH  AIRLINE_AIRPORT_FLIGHTS_MONTH  \\\n",
       "0                  11493                            479   \n",
       "1                  11493                           2509   \n",
       "2                  11493                           2509   \n",
       "3                  11493                           2509   \n",
       "4                  11493                           2509   \n",
       "\n",
       "   AVG_MONTHLY_PASS_AIRPORT  PLANE_AGE  PRCP  SNOW  ...  \\\n",
       "0                    344730          7  0.16   0.0  ...   \n",
       "1                    344730          0  0.16   0.0  ...   \n",
       "2                    344730         18  0.16   0.0  ...   \n",
       "3                    344730         18  0.16   0.0  ...   \n",
       "4                    344730         18  0.16   0.0  ...   \n",
       "\n",
       "   CARRIER_NAME_Endeavor Air Inc.  CARRIER_NAME_Frontier Airlines Inc.  \\\n",
       "0                               0                                    0   \n",
       "1                               0                                    0   \n",
       "2                               0                                    0   \n",
       "3                               0                                    0   \n",
       "4                               0                                    0   \n",
       "\n",
       "   CARRIER_NAME_Hawaiian Airlines Inc.  CARRIER_NAME_JetBlue Airways  \\\n",
       "0                                    0                             0   \n",
       "1                                    0                             0   \n",
       "2                                    0                             0   \n",
       "3                                    0                             0   \n",
       "4                                    0                             0   \n",
       "\n",
       "   CARRIER_NAME_Mesa Airlines Inc.  CARRIER_NAME_Midwest Airline, Inc.  \\\n",
       "0                                0                                   0   \n",
       "1                                0                                   0   \n",
       "2                                0                                   0   \n",
       "3                                0                                   0   \n",
       "4                                0                                   0   \n",
       "\n",
       "   CARRIER_NAME_SkyWest Airlines Inc.  CARRIER_NAME_Southwest Airlines Co.  \\\n",
       "0                                   0                                    0   \n",
       "1                                   0                                    0   \n",
       "2                                   0                                    0   \n",
       "3                                   0                                    0   \n",
       "4                                   0                                    0   \n",
       "\n",
       "   CARRIER_NAME_Spirit Air Lines  CARRIER_NAME_United Air Lines Inc.  \n",
       "0                              0                                   0  \n",
       "1                              0                                   0  \n",
       "2                              0                                   0  \n",
       "3                              0                                   0  \n",
       "4                              0                                   0  \n",
       "\n",
       "[5 rows x 443 columns]"
      ]
     },
     "execution_count": 17,
     "metadata": {},
     "output_type": "execute_result"
    }
   ],
   "source": [
    "# data_feat yang khusus hanya akan berisi nilai-nilai atribut/fitur/variabel saja.\n",
    "# data_target yang khusus hanya akan berisi label/kelas/target \n",
    "df_feat = datagraph.drop('DEP_DEL15',axis=1) \n",
    "df_feat.head()"
   ]
  },
  {
   "cell_type": "code",
   "execution_count": 18,
   "id": "87b48dd1",
   "metadata": {
    "ExecuteTime": {
     "end_time": "2021-12-08T16:32:14.301808Z",
     "start_time": "2021-12-08T16:32:14.283223Z"
    }
   },
   "outputs": [
    {
     "data": {
      "text/plain": [
       "0    0\n",
       "1    0\n",
       "2    0\n",
       "3    0\n",
       "4    0\n",
       "Name: DEP_DEL15, dtype: int64"
      ]
     },
     "execution_count": 18,
     "metadata": {},
     "output_type": "execute_result"
    }
   ],
   "source": [
    "# df_target yang khusus hanya akan berisi label/kelas/target, yaitu apakah positif kanker ganas atau tidak\n",
    "df_target = datagraph['DEP_DEL15'] \n",
    "df_target.head()"
   ]
  },
  {
   "cell_type": "code",
   "execution_count": 19,
   "id": "721fe618",
   "metadata": {
    "ExecuteTime": {
     "end_time": "2021-12-08T16:32:16.007252Z",
     "start_time": "2021-12-08T16:32:15.697814Z"
    }
   },
   "outputs": [],
   "source": [
    "X_train, X_test, y_train, y_test = train_test_split(df_feat, df_target, test_size=0.30, random_state=0)"
   ]
  },
  {
   "cell_type": "code",
   "execution_count": 20,
   "id": "f964ba21",
   "metadata": {
    "ExecuteTime": {
     "end_time": "2021-12-08T16:32:16.643718Z",
     "start_time": "2021-12-08T16:32:16.622734Z"
    }
   },
   "outputs": [
    {
     "data": {
      "text/plain": [
       "0    29162\n",
       "1     7234\n",
       "Name: DEP_DEL15, dtype: int64"
      ]
     },
     "execution_count": 20,
     "metadata": {},
     "output_type": "execute_result"
    }
   ],
   "source": [
    "y_train.value_counts()"
   ]
  },
  {
   "cell_type": "code",
   "execution_count": 21,
   "id": "bd5aadba",
   "metadata": {
    "ExecuteTime": {
     "end_time": "2021-12-08T16:32:23.675795Z",
     "start_time": "2021-12-08T16:32:17.416384Z"
    }
   },
   "outputs": [
    {
     "data": {
      "text/plain": [
       "1    29162\n",
       "0    29162\n",
       "Name: DEP_DEL15, dtype: int64"
      ]
     },
     "execution_count": 21,
     "metadata": {},
     "output_type": "execute_result"
    }
   ],
   "source": [
    "oversample = imblearn.over_sampling.SMOTE()\n",
    "X_train, y_train = oversample.fit_resample(X_train, y_train)\n",
    "y_train.value_counts()"
   ]
  },
  {
   "cell_type": "markdown",
   "id": "661c81c2",
   "metadata": {},
   "source": [
    "# Modeling"
   ]
  },
  {
   "cell_type": "markdown",
   "id": "d090b096",
   "metadata": {
    "ExecuteTime": {
     "end_time": "2021-12-07T14:44:27.879465Z",
     "start_time": "2021-12-07T14:44:27.866424Z"
    }
   },
   "source": [
    "## XGBoost"
   ]
  },
  {
   "cell_type": "code",
   "execution_count": 22,
   "id": "2297bb45",
   "metadata": {
    "ExecuteTime": {
     "end_time": "2021-12-08T16:33:00.591054Z",
     "start_time": "2021-12-08T16:32:27.414325Z"
    }
   },
   "outputs": [
    {
     "data": {
      "text/plain": [
       "0.7156227963330982"
      ]
     },
     "execution_count": 22,
     "metadata": {},
     "output_type": "execute_result"
    }
   ],
   "source": [
    "abcmodel = AdaBoostClassifier()\n",
    "abcmodel.fit(X_train, y_train)\n",
    "y_pred = abcmodel.predict(X_test)\n",
    "accuracy_score(y_test, y_pred)"
   ]
  },
  {
   "cell_type": "code",
   "execution_count": 23,
   "id": "7835e38f",
   "metadata": {
    "ExecuteTime": {
     "end_time": "2021-12-08T16:34:17.457212Z",
     "start_time": "2021-12-08T16:34:17.387114Z"
    }
   },
   "outputs": [
    {
     "name": "stdout",
     "output_type": "stream",
     "text": [
      "              precision    recall  f1-score   support\n",
      "\n",
      "           0       0.84      0.80      0.82     12534\n",
      "           1       0.31      0.38      0.34      3065\n",
      "\n",
      "    accuracy                           0.72     15599\n",
      "   macro avg       0.58      0.59      0.58     15599\n",
      "weighted avg       0.74      0.72      0.73     15599\n",
      "\n"
     ]
    }
   ],
   "source": [
    "print(classification_report(y_test, y_pred))"
   ]
  },
  {
   "cell_type": "raw",
   "id": "8659090e",
   "metadata": {},
   "source": [
    "from sklearn.model_selection import GridSearchCV\n",
    "\n",
    "abcmodel = AdaBoostClassifier(random_state=100)\n",
    "params = {\n",
    "    'n_estimators':(50,100),\n",
    "    'learning_rate':[0.5, 1]\n",
    "}\n",
    "gs = GridSearchCV(abcmodel, params)\n",
    "gsmdt.fit(X_trainmdt, y_trainmdt)\n",
    "y_predmdt = gsmdt.predict(X_testmdt)\n",
    "print('Best parameter: ', gsmdt.best_params_)"
   ]
  },
  {
   "cell_type": "raw",
   "id": "8937d4f5",
   "metadata": {},
   "source": [
    "abcmodel = AdaBoostClassifier(learning_rate=1.5, n_estimators=1000)\n",
    "abcmodel.fit(X_train, y_train)\n",
    "y_pred = abcmodel.predict(X_test)\n",
    "accuracy_score(y_test, y_pred)"
   ]
  },
  {
   "cell_type": "raw",
   "id": "4302392f",
   "metadata": {},
   "source": [
    "print(classification_report(y_test, y_pred))"
   ]
  },
  {
   "cell_type": "code",
   "execution_count": null,
   "id": "fc6ca1a8",
   "metadata": {},
   "outputs": [],
   "source": [
    "gbcmodel = GradientBoostingClassifier()\n",
    "gbcmodel.fit(X_train, y_train)\n",
    "y_pred = gbcmodel.predict(X_test)\n",
    "accuracy_score(y_test, y_pred)"
   ]
  },
  {
   "cell_type": "code",
   "execution_count": null,
   "id": "fc2affb5",
   "metadata": {},
   "outputs": [],
   "source": [
    "print(classification_report(y_test, y_pred))"
   ]
  },
  {
   "cell_type": "raw",
   "id": "539eecce",
   "metadata": {},
   "source": [
    "gbcmodel = GradientBoostingClassifier(random_state=100)\n",
    "params = {\n",
    "        'n_estimators':range(1,50),\n",
    "        'learning_rate':[0.001, 0.01, 0.1, 0.2, 0.5, 1]\n",
    "}\n",
    "gsgbcmdt = GridSearchCV(gbcmodel, params)\n",
    "gsgbcmdt.fit(X_trainmdt, y_trainmdt)\n",
    "print('Best parameter: ', gsgbcmdt.best_params_)"
   ]
  },
  {
   "cell_type": "code",
   "execution_count": null,
   "id": "843c421a",
   "metadata": {},
   "outputs": [],
   "source": [
    "gbc = GradientBoostingClassifier(learning_rate=1, n_estimators=150)\n",
    "gbc.fit(X_train, y_train)\n",
    "y_pred = gbc.predict(X_test)\n",
    "accuracy_score(y_test, y_pred)"
   ]
  },
  {
   "cell_type": "code",
   "execution_count": null,
   "id": "c8d786f4",
   "metadata": {},
   "outputs": [],
   "source": [
    "print(classification_report(y_test,y_pred))"
   ]
  },
  {
   "cell_type": "markdown",
   "id": "13a4956e",
   "metadata": {},
   "source": [
    "## KNN"
   ]
  },
  {
   "cell_type": "code",
   "execution_count": null,
   "id": "6378d576",
   "metadata": {},
   "outputs": [],
   "source": [
    "knnmodel = neighbors.KNeighborsClassifier(n_neighbors=3)\n",
    "knnmodel.fit(X_train, y_train)\n",
    "y_pred = knnmodel.predict(X_test)\n",
    "accuracy_score(y_test, y_pred)"
   ]
  },
  {
   "cell_type": "code",
   "execution_count": null,
   "id": "aaf0c473",
   "metadata": {},
   "outputs": [],
   "source": [
    "print(classification_report(y_test,y_pred))"
   ]
  },
  {
   "cell_type": "raw",
   "id": "749518e5",
   "metadata": {},
   "source": [
    "knn_best = neighbors.KNeighborsClassifier(n_neighbors=3, p = 5, weights = 'distance')\n",
    "knn_best.fit(X_train, y_train)\n",
    "y_pred = knn_best.predict(X_test)\n",
    "print(metrics.accuracy_score(y_test, y_pred))"
   ]
  },
  {
   "cell_type": "raw",
   "id": "1148d943",
   "metadata": {},
   "source": [
    "print(classification_report(y_test,y_pred))"
   ]
  },
  {
   "cell_type": "markdown",
   "id": "9ed207ab",
   "metadata": {},
   "source": [
    "## SVM"
   ]
  },
  {
   "cell_type": "code",
   "execution_count": 52,
   "id": "510be7cd",
   "metadata": {
    "ExecuteTime": {
     "end_time": "2021-12-05T19:02:27.407673Z",
     "start_time": "2021-12-05T18:50:31.485986Z"
    }
   },
   "outputs": [
    {
     "data": {
      "text/plain": [
       "0.47188922366818387"
      ]
     },
     "execution_count": 52,
     "metadata": {},
     "output_type": "execute_result"
    }
   ],
   "source": [
    "svmmodel = SVC(kernel = 'rbf', random_state = 0)\n",
    "svmmodel.fit(X_train, y_train)\n",
    "y_pred =svmmodel.predict(X_test)\n",
    "accuracy_score(y_test,y_pred)"
   ]
  },
  {
   "cell_type": "code",
   "execution_count": 53,
   "id": "e3e72a65",
   "metadata": {
    "ExecuteTime": {
     "end_time": "2021-12-05T19:02:27.486320Z",
     "start_time": "2021-12-05T19:02:27.412844Z"
    },
    "scrolled": false
   },
   "outputs": [
    {
     "name": "stdout",
     "output_type": "stream",
     "text": [
      "              precision    recall  f1-score   support\n",
      "\n",
      "           0       0.82      0.44      0.57     12534\n",
      "           1       0.21      0.62      0.31      3065\n",
      "\n",
      "    accuracy                           0.47     15599\n",
      "   macro avg       0.52      0.53      0.44     15599\n",
      "weighted avg       0.70      0.47      0.52     15599\n",
      "\n"
     ]
    }
   ],
   "source": [
    "print(classification_report(y_test, y_pred))"
   ]
  },
  {
   "cell_type": "markdown",
   "id": "f146647e",
   "metadata": {},
   "source": [
    "## Random Forest"
   ]
  },
  {
   "cell_type": "code",
   "execution_count": 24,
   "id": "566bb4ee",
   "metadata": {
    "ExecuteTime": {
     "end_time": "2021-12-08T16:39:03.878898Z",
     "start_time": "2021-12-08T16:34:39.748993Z"
    }
   },
   "outputs": [
    {
     "data": {
      "text/plain": [
       "0.7792166164497725"
      ]
     },
     "execution_count": 24,
     "metadata": {},
     "output_type": "execute_result"
    }
   ],
   "source": [
    "RFmodel = RandomForestClassifier(n_estimators = 500, criterion = 'entropy', random_state = 0)\n",
    "RFmodel.fit(X_train, y_train)\n",
    "y_pred = RFmodel.predict(X_test)\n",
    "accuracy_score(y_test,y_pred)"
   ]
  },
  {
   "cell_type": "code",
   "execution_count": 25,
   "id": "5ac311e6",
   "metadata": {
    "ExecuteTime": {
     "end_time": "2021-12-08T16:39:03.950504Z",
     "start_time": "2021-12-08T16:39:03.882788Z"
    }
   },
   "outputs": [
    {
     "name": "stdout",
     "output_type": "stream",
     "text": [
      "              precision    recall  f1-score   support\n",
      "\n",
      "           0       0.85      0.88      0.87     12534\n",
      "           1       0.43      0.35      0.38      3065\n",
      "\n",
      "    accuracy                           0.78     15599\n",
      "   macro avg       0.64      0.62      0.63     15599\n",
      "weighted avg       0.76      0.78      0.77     15599\n",
      "\n"
     ]
    }
   ],
   "source": [
    "print(classification_report(y_test, y_pred))"
   ]
  },
  {
   "cell_type": "markdown",
   "id": "2584e521",
   "metadata": {},
   "source": [
    "## Naive Bayessian"
   ]
  },
  {
   "cell_type": "code",
   "execution_count": 26,
   "id": "4bad3c57",
   "metadata": {
    "ExecuteTime": {
     "end_time": "2021-12-08T16:39:05.352470Z",
     "start_time": "2021-12-08T16:39:03.953501Z"
    }
   },
   "outputs": [
    {
     "data": {
      "text/plain": [
       "0.5505481120584653"
      ]
     },
     "execution_count": 26,
     "metadata": {},
     "output_type": "execute_result"
    }
   ],
   "source": [
    "GNBmodel = GaussianNB()\n",
    "GNBmodel.fit(X_train, y_train)\n",
    "GNBmodel.get_params()\n",
    "y_pred = GNBmodel.predict(X_test)\n",
    "accuracy_score(y_test,y_pred)"
   ]
  },
  {
   "cell_type": "code",
   "execution_count": 27,
   "id": "5ee44d0f",
   "metadata": {
    "ExecuteTime": {
     "end_time": "2021-12-08T16:39:05.441048Z",
     "start_time": "2021-12-08T16:39:05.360213Z"
    }
   },
   "outputs": [
    {
     "name": "stdout",
     "output_type": "stream",
     "text": [
      "              precision    recall  f1-score   support\n",
      "\n",
      "           0       0.84      0.55      0.66     12534\n",
      "           1       0.23      0.57      0.33      3065\n",
      "\n",
      "    accuracy                           0.55     15599\n",
      "   macro avg       0.54      0.56      0.50     15599\n",
      "weighted avg       0.72      0.55      0.60     15599\n",
      "\n"
     ]
    }
   ],
   "source": [
    "print(classification_report(y_test, y_pred))"
   ]
  },
  {
   "cell_type": "markdown",
   "id": "11cd37fc",
   "metadata": {},
   "source": [
    "## Linear Regression"
   ]
  },
  {
   "cell_type": "code",
   "execution_count": 28,
   "id": "8d5b6d15",
   "metadata": {
    "ExecuteTime": {
     "end_time": "2021-12-08T16:40:03.065853Z",
     "start_time": "2021-12-08T16:40:00.959260Z"
    }
   },
   "outputs": [
    {
     "data": {
      "text/plain": [
       "{'copy_X': True,\n",
       " 'fit_intercept': True,\n",
       " 'n_jobs': None,\n",
       " 'normalize': 'deprecated',\n",
       " 'positive': False}"
      ]
     },
     "execution_count": 28,
     "metadata": {},
     "output_type": "execute_result"
    }
   ],
   "source": [
    "LinRmodel = LinearRegression()\n",
    "LinRmodel.fit(X_train, y_train)\n",
    "LinRmodel.get_params()"
   ]
  },
  {
   "cell_type": "code",
   "execution_count": 37,
   "id": "c1568acf",
   "metadata": {
    "ExecuteTime": {
     "end_time": "2021-12-08T16:40:43.552339Z",
     "start_time": "2021-12-08T16:40:43.478105Z"
    }
   },
   "outputs": [
    {
     "data": {
      "text/plain": [
       "0.6078594781716776"
      ]
     },
     "execution_count": 37,
     "metadata": {},
     "output_type": "execute_result"
    }
   ],
   "source": [
    "y_pred = LinRmodel.predict(X_test)\n",
    "y_pred[y_pred<0.25] = 0\n",
    "y_pred[y_pred>=0.25] = 1\n",
    "accuracy_score(y_test,y_pred)"
   ]
  },
  {
   "cell_type": "code",
   "execution_count": 38,
   "id": "2b1a7e68",
   "metadata": {
    "ExecuteTime": {
     "end_time": "2021-12-08T16:40:46.206261Z",
     "start_time": "2021-12-08T16:40:46.128701Z"
    }
   },
   "outputs": [
    {
     "name": "stdout",
     "output_type": "stream",
     "text": [
      "              precision    recall  f1-score   support\n",
      "\n",
      "           0       0.87      0.60      0.71     12534\n",
      "           1       0.28      0.65      0.39      3065\n",
      "\n",
      "    accuracy                           0.61     15599\n",
      "   macro avg       0.58      0.62      0.55     15599\n",
      "weighted avg       0.76      0.61      0.65     15599\n",
      "\n"
     ]
    }
   ],
   "source": [
    "print(classification_report(y_test, y_pred))"
   ]
  },
  {
   "cell_type": "markdown",
   "id": "d009edd6",
   "metadata": {},
   "source": [
    "## Logistic Regression"
   ]
  },
  {
   "cell_type": "code",
   "execution_count": 55,
   "id": "a2336de3",
   "metadata": {
    "ExecuteTime": {
     "end_time": "2021-12-08T16:42:37.908466Z",
     "start_time": "2021-12-08T16:42:36.363249Z"
    }
   },
   "outputs": [
    {
     "name": "stdout",
     "output_type": "stream",
     "text": [
      "Accuracy :  0.6123469453170075\n"
     ]
    }
   ],
   "source": [
    "LogRModel = LogisticRegression()\n",
    "LogRModel.fit(X_train, y_train)\n",
    "LogRModel.get_params()\n",
    "y_pred = LogRModel.predict_proba(X_test)[:,1]\n",
    "y_pred[y_pred<0.511] = 0\n",
    "y_pred[y_pred>=0.511] = 1\n",
    "accuracy = metrics.accuracy_score(y_test, y_pred)\n",
    "print(\"Accuracy : \",accuracy)"
   ]
  },
  {
   "cell_type": "code",
   "execution_count": 56,
   "id": "0d146597",
   "metadata": {
    "ExecuteTime": {
     "end_time": "2021-12-08T16:42:39.640586Z",
     "start_time": "2021-12-08T16:42:39.547226Z"
    }
   },
   "outputs": [
    {
     "name": "stdout",
     "output_type": "stream",
     "text": [
      "              precision    recall  f1-score   support\n",
      "\n",
      "           0       0.81      0.68      0.74     12534\n",
      "           1       0.20      0.33      0.25      3065\n",
      "\n",
      "    accuracy                           0.61     15599\n",
      "   macro avg       0.50      0.51      0.49     15599\n",
      "weighted avg       0.69      0.61      0.64     15599\n",
      "\n"
     ]
    }
   ],
   "source": [
    "print(classification_report(y_test, y_pred))"
   ]
  },
  {
   "cell_type": "code",
   "execution_count": null,
   "id": "062879e4",
   "metadata": {},
   "outputs": [],
   "source": []
  }
 ],
 "metadata": {
  "colab": {
   "collapsed_sections": [],
   "name": "AdaBoost_GradientBoost.ipynb",
   "provenance": []
  },
  "kernelspec": {
   "display_name": "Python 3 (ipykernel)",
   "language": "python",
   "name": "python3"
  },
  "language_info": {
   "codemirror_mode": {
    "name": "ipython",
    "version": 3
   },
   "file_extension": ".py",
   "mimetype": "text/x-python",
   "name": "python",
   "nbconvert_exporter": "python",
   "pygments_lexer": "ipython3",
   "version": "3.8.12"
  },
  "toc": {
   "base_numbering": 1,
   "nav_menu": {},
   "number_sections": true,
   "sideBar": true,
   "skip_h1_title": false,
   "title_cell": "Table of Contents",
   "title_sidebar": "Contents",
   "toc_cell": false,
   "toc_position": {},
   "toc_section_display": true,
   "toc_window_display": false
  }
 },
 "nbformat": 4,
 "nbformat_minor": 5
}
