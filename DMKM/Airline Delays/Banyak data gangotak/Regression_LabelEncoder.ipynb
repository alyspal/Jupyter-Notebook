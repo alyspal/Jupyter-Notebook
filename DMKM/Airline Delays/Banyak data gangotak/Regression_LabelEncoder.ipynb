{
 "cells": [
  {
   "cell_type": "markdown",
   "id": "0c4efddf",
   "metadata": {
    "heading_collapsed": true
   },
   "source": [
    "# Input packages and datasets"
   ]
  },
  {
   "cell_type": "code",
   "execution_count": 1,
   "id": "2fef1688",
   "metadata": {
    "ExecuteTime": {
     "end_time": "2021-12-19T14:16:14.501601Z",
     "start_time": "2021-12-19T14:16:11.747425Z"
    },
    "hidden": true
   },
   "outputs": [],
   "source": [
    "import pandas as pd\n",
    "import numpy as np\n",
    "import seaborn as sns\n",
    "import matplotlib.pyplot as plt\n",
    "import imblearn\n",
    "\n",
    "from sklearn import preprocessing, model_selection, metrics\n",
    "from sklearn.linear_model import LinearRegression, LogisticRegression\n",
    "from sklearn.model_selection import train_test_split\n",
    "from sklearn.metrics import classification_report, accuracy_score"
   ]
  },
  {
   "cell_type": "code",
   "execution_count": 2,
   "id": "68ad5379",
   "metadata": {
    "ExecuteTime": {
     "end_time": "2021-12-19T14:16:14.879844Z",
     "start_time": "2021-12-19T14:16:14.501601Z"
    },
    "hidden": true
   },
   "outputs": [],
   "source": [
    "data = pd.read_csv('busiest_airport_airline_delays.csv')"
   ]
  },
  {
   "cell_type": "markdown",
   "id": "01349536",
   "metadata": {
    "heading_collapsed": true
   },
   "source": [
    "# Preprocessing"
   ]
  },
  {
   "cell_type": "code",
   "execution_count": 3,
   "id": "c2932e7b",
   "metadata": {
    "ExecuteTime": {
     "end_time": "2021-12-19T14:16:14.927513Z",
     "start_time": "2021-12-19T14:16:14.881546Z"
    },
    "hidden": true
   },
   "outputs": [
    {
     "data": {
      "text/html": [
       "<div>\n",
       "<style scoped>\n",
       "    .dataframe tbody tr th:only-of-type {\n",
       "        vertical-align: middle;\n",
       "    }\n",
       "\n",
       "    .dataframe tbody tr th {\n",
       "        vertical-align: top;\n",
       "    }\n",
       "\n",
       "    .dataframe thead th {\n",
       "        text-align: right;\n",
       "    }\n",
       "</style>\n",
       "<table border=\"1\" class=\"dataframe\">\n",
       "  <thead>\n",
       "    <tr style=\"text-align: right;\">\n",
       "      <th></th>\n",
       "      <th>DAY_OF_WEEK</th>\n",
       "      <th>DEP_DEL15</th>\n",
       "      <th>DISTANCE_GROUP</th>\n",
       "      <th>DEP_BLOCK</th>\n",
       "      <th>SEGMENT_NUMBER</th>\n",
       "      <th>CONCURRENT_FLIGHTS</th>\n",
       "      <th>NUMBER_OF_SEATS</th>\n",
       "      <th>CARRIER_NAME</th>\n",
       "      <th>AIRPORT_FLIGHTS_MONTH</th>\n",
       "      <th>AIRLINE_FLIGHTS_MONTH</th>\n",
       "      <th>...</th>\n",
       "      <th>PLANE_AGE</th>\n",
       "      <th>DEPARTING_AIRPORT</th>\n",
       "      <th>LATITUDE</th>\n",
       "      <th>LONGITUDE</th>\n",
       "      <th>PREVIOUS_AIRPORT</th>\n",
       "      <th>PRCP</th>\n",
       "      <th>SNOW</th>\n",
       "      <th>SNWD</th>\n",
       "      <th>TMAX</th>\n",
       "      <th>AWND</th>\n",
       "    </tr>\n",
       "  </thead>\n",
       "  <tbody>\n",
       "    <tr>\n",
       "      <th>0</th>\n",
       "      <td>3</td>\n",
       "      <td>0</td>\n",
       "      <td>5</td>\n",
       "      <td>MORNING</td>\n",
       "      <td>1</td>\n",
       "      <td>229</td>\n",
       "      <td>142</td>\n",
       "      <td>United Air Lines Inc.</td>\n",
       "      <td>32102</td>\n",
       "      <td>48104</td>\n",
       "      <td>...</td>\n",
       "      <td>19</td>\n",
       "      <td>Atlanta Municipal</td>\n",
       "      <td>33.641</td>\n",
       "      <td>-84.427</td>\n",
       "      <td>NONE</td>\n",
       "      <td>0.0</td>\n",
       "      <td>0.0</td>\n",
       "      <td>0.0</td>\n",
       "      <td>72.0</td>\n",
       "      <td>4.47</td>\n",
       "    </tr>\n",
       "    <tr>\n",
       "      <th>1</th>\n",
       "      <td>3</td>\n",
       "      <td>0</td>\n",
       "      <td>3</td>\n",
       "      <td>MORNING</td>\n",
       "      <td>1</td>\n",
       "      <td>229</td>\n",
       "      <td>120</td>\n",
       "      <td>United Air Lines Inc.</td>\n",
       "      <td>32102</td>\n",
       "      <td>48104</td>\n",
       "      <td>...</td>\n",
       "      <td>22</td>\n",
       "      <td>Atlanta Municipal</td>\n",
       "      <td>33.641</td>\n",
       "      <td>-84.427</td>\n",
       "      <td>NONE</td>\n",
       "      <td>0.0</td>\n",
       "      <td>0.0</td>\n",
       "      <td>0.0</td>\n",
       "      <td>72.0</td>\n",
       "      <td>4.47</td>\n",
       "    </tr>\n",
       "    <tr>\n",
       "      <th>2</th>\n",
       "      <td>3</td>\n",
       "      <td>0</td>\n",
       "      <td>9</td>\n",
       "      <td>MORNING</td>\n",
       "      <td>1</td>\n",
       "      <td>229</td>\n",
       "      <td>142</td>\n",
       "      <td>United Air Lines Inc.</td>\n",
       "      <td>32102</td>\n",
       "      <td>48104</td>\n",
       "      <td>...</td>\n",
       "      <td>24</td>\n",
       "      <td>Atlanta Municipal</td>\n",
       "      <td>33.641</td>\n",
       "      <td>-84.427</td>\n",
       "      <td>NONE</td>\n",
       "      <td>0.0</td>\n",
       "      <td>0.0</td>\n",
       "      <td>0.0</td>\n",
       "      <td>72.0</td>\n",
       "      <td>4.47</td>\n",
       "    </tr>\n",
       "    <tr>\n",
       "      <th>3</th>\n",
       "      <td>3</td>\n",
       "      <td>0</td>\n",
       "      <td>1</td>\n",
       "      <td>EARLY_MORNING</td>\n",
       "      <td>1</td>\n",
       "      <td>4</td>\n",
       "      <td>128</td>\n",
       "      <td>American Airlines Inc.</td>\n",
       "      <td>32102</td>\n",
       "      <td>75591</td>\n",
       "      <td>...</td>\n",
       "      <td>20</td>\n",
       "      <td>Atlanta Municipal</td>\n",
       "      <td>33.641</td>\n",
       "      <td>-84.427</td>\n",
       "      <td>NONE</td>\n",
       "      <td>0.0</td>\n",
       "      <td>0.0</td>\n",
       "      <td>0.0</td>\n",
       "      <td>72.0</td>\n",
       "      <td>4.47</td>\n",
       "    </tr>\n",
       "    <tr>\n",
       "      <th>4</th>\n",
       "      <td>3</td>\n",
       "      <td>0</td>\n",
       "      <td>2</td>\n",
       "      <td>MORNING</td>\n",
       "      <td>1</td>\n",
       "      <td>229</td>\n",
       "      <td>50</td>\n",
       "      <td>SkyWest Airlines Inc.</td>\n",
       "      <td>32102</td>\n",
       "      <td>69699</td>\n",
       "      <td>...</td>\n",
       "      <td>21</td>\n",
       "      <td>Atlanta Municipal</td>\n",
       "      <td>33.641</td>\n",
       "      <td>-84.427</td>\n",
       "      <td>NONE</td>\n",
       "      <td>0.0</td>\n",
       "      <td>0.0</td>\n",
       "      <td>0.0</td>\n",
       "      <td>72.0</td>\n",
       "      <td>4.47</td>\n",
       "    </tr>\n",
       "  </tbody>\n",
       "</table>\n",
       "<p>5 rows × 25 columns</p>\n",
       "</div>"
      ],
      "text/plain": [
       "   DAY_OF_WEEK  DEP_DEL15  DISTANCE_GROUP      DEP_BLOCK  SEGMENT_NUMBER  \\\n",
       "0            3          0               5        MORNING               1   \n",
       "1            3          0               3        MORNING               1   \n",
       "2            3          0               9        MORNING               1   \n",
       "3            3          0               1  EARLY_MORNING               1   \n",
       "4            3          0               2        MORNING               1   \n",
       "\n",
       "   CONCURRENT_FLIGHTS  NUMBER_OF_SEATS            CARRIER_NAME  \\\n",
       "0                 229              142   United Air Lines Inc.   \n",
       "1                 229              120   United Air Lines Inc.   \n",
       "2                 229              142   United Air Lines Inc.   \n",
       "3                   4              128  American Airlines Inc.   \n",
       "4                 229               50   SkyWest Airlines Inc.   \n",
       "\n",
       "   AIRPORT_FLIGHTS_MONTH  AIRLINE_FLIGHTS_MONTH  ...  PLANE_AGE  \\\n",
       "0                  32102                  48104  ...         19   \n",
       "1                  32102                  48104  ...         22   \n",
       "2                  32102                  48104  ...         24   \n",
       "3                  32102                  75591  ...         20   \n",
       "4                  32102                  69699  ...         21   \n",
       "\n",
       "   DEPARTING_AIRPORT  LATITUDE  LONGITUDE  PREVIOUS_AIRPORT  PRCP SNOW  SNWD  \\\n",
       "0  Atlanta Municipal    33.641    -84.427              NONE   0.0  0.0   0.0   \n",
       "1  Atlanta Municipal    33.641    -84.427              NONE   0.0  0.0   0.0   \n",
       "2  Atlanta Municipal    33.641    -84.427              NONE   0.0  0.0   0.0   \n",
       "3  Atlanta Municipal    33.641    -84.427              NONE   0.0  0.0   0.0   \n",
       "4  Atlanta Municipal    33.641    -84.427              NONE   0.0  0.0   0.0   \n",
       "\n",
       "   TMAX  AWND  \n",
       "0  72.0  4.47  \n",
       "1  72.0  4.47  \n",
       "2  72.0  4.47  \n",
       "3  72.0  4.47  \n",
       "4  72.0  4.47  \n",
       "\n",
       "[5 rows x 25 columns]"
      ]
     },
     "execution_count": 3,
     "metadata": {},
     "output_type": "execute_result"
    }
   ],
   "source": [
    "data.head()"
   ]
  },
  {
   "cell_type": "code",
   "execution_count": 4,
   "id": "86e1c55d",
   "metadata": {
    "ExecuteTime": {
     "end_time": "2021-12-19T14:16:15.182198Z",
     "start_time": "2021-12-19T14:16:14.931515Z"
    },
    "hidden": true
   },
   "outputs": [
    {
     "data": {
      "image/png": "[encoded data removed]",
      "text/plain": [
       "<Figure size 432x288 with 1 Axes>"
      ]
     },
     "metadata": {},
     "output_type": "display_data"
    }
   ],
   "source": [
    "sns.set_style('whitegrid')\n",
    "sns.countplot(x=data['DEP_DEL15'],data=data)\n",
    "plt.show()"
   ]
  },
  {
   "cell_type": "markdown",
   "id": "b7a55a80",
   "metadata": {
    "heading_collapsed": true,
    "hidden": true
   },
   "source": [
    "## Data Cleaning"
   ]
  },
  {
   "cell_type": "code",
   "execution_count": 5,
   "id": "9f18ae67",
   "metadata": {
    "ExecuteTime": {
     "end_time": "2021-12-19T14:16:15.369857Z",
     "start_time": "2021-12-19T14:16:15.188175Z"
    },
    "hidden": true
   },
   "outputs": [
    {
     "data": {
      "text/html": [
       "<div>\n",
       "<style scoped>\n",
       "    .dataframe tbody tr th:only-of-type {\n",
       "        vertical-align: middle;\n",
       "    }\n",
       "\n",
       "    .dataframe tbody tr th {\n",
       "        vertical-align: top;\n",
       "    }\n",
       "\n",
       "    .dataframe thead th {\n",
       "        text-align: right;\n",
       "    }\n",
       "</style>\n",
       "<table border=\"1\" class=\"dataframe\">\n",
       "  <thead>\n",
       "    <tr style=\"text-align: right;\">\n",
       "      <th></th>\n",
       "      <th>DAY_OF_WEEK</th>\n",
       "      <th>DEP_DEL15</th>\n",
       "      <th>DISTANCE_GROUP</th>\n",
       "      <th>DEP_BLOCK</th>\n",
       "      <th>SEGMENT_NUMBER</th>\n",
       "      <th>AIRPORT_FLIGHTS_MONTH</th>\n",
       "      <th>AIRLINE_FLIGHTS_MONTH</th>\n",
       "      <th>AIRLINE_AIRPORT_FLIGHTS_MONTH</th>\n",
       "      <th>AVG_MONTHLY_PASS_AIRPORT</th>\n",
       "      <th>AVG_MONTHLY_PASS_AIRLINE</th>\n",
       "      <th>FLT_ATTENDANTS_PER_PASS</th>\n",
       "      <th>GROUND_SERV_PER_PASS</th>\n",
       "      <th>PLANE_AGE</th>\n",
       "      <th>PREVIOUS_AIRPORT</th>\n",
       "      <th>PRCP</th>\n",
       "      <th>SNOW</th>\n",
       "      <th>SNWD</th>\n",
       "      <th>TMAX</th>\n",
       "      <th>AWND</th>\n",
       "    </tr>\n",
       "  </thead>\n",
       "  <tbody>\n",
       "    <tr>\n",
       "      <th>0</th>\n",
       "      <td>3</td>\n",
       "      <td>0</td>\n",
       "      <td>5</td>\n",
       "      <td>MORNING</td>\n",
       "      <td>1</td>\n",
       "      <td>32102</td>\n",
       "      <td>48104</td>\n",
       "      <td>361</td>\n",
       "      <td>816174</td>\n",
       "      <td>1539321</td>\n",
       "      <td>0.001402</td>\n",
       "      <td>0.001265</td>\n",
       "      <td>19</td>\n",
       "      <td>NONE</td>\n",
       "      <td>0.0</td>\n",
       "      <td>0.0</td>\n",
       "      <td>0.0</td>\n",
       "      <td>72.0</td>\n",
       "      <td>4.47</td>\n",
       "    </tr>\n",
       "    <tr>\n",
       "      <th>1</th>\n",
       "      <td>3</td>\n",
       "      <td>0</td>\n",
       "      <td>3</td>\n",
       "      <td>MORNING</td>\n",
       "      <td>1</td>\n",
       "      <td>32102</td>\n",
       "      <td>48104</td>\n",
       "      <td>361</td>\n",
       "      <td>816174</td>\n",
       "      <td>1539321</td>\n",
       "      <td>0.001402</td>\n",
       "      <td>0.001265</td>\n",
       "      <td>22</td>\n",
       "      <td>NONE</td>\n",
       "      <td>0.0</td>\n",
       "      <td>0.0</td>\n",
       "      <td>0.0</td>\n",
       "      <td>72.0</td>\n",
       "      <td>4.47</td>\n",
       "    </tr>\n",
       "    <tr>\n",
       "      <th>2</th>\n",
       "      <td>3</td>\n",
       "      <td>0</td>\n",
       "      <td>9</td>\n",
       "      <td>MORNING</td>\n",
       "      <td>1</td>\n",
       "      <td>32102</td>\n",
       "      <td>48104</td>\n",
       "      <td>361</td>\n",
       "      <td>816174</td>\n",
       "      <td>1539321</td>\n",
       "      <td>0.001402</td>\n",
       "      <td>0.001265</td>\n",
       "      <td>24</td>\n",
       "      <td>NONE</td>\n",
       "      <td>0.0</td>\n",
       "      <td>0.0</td>\n",
       "      <td>0.0</td>\n",
       "      <td>72.0</td>\n",
       "      <td>4.47</td>\n",
       "    </tr>\n",
       "    <tr>\n",
       "      <th>3</th>\n",
       "      <td>3</td>\n",
       "      <td>0</td>\n",
       "      <td>1</td>\n",
       "      <td>EARLY_MORNING</td>\n",
       "      <td>1</td>\n",
       "      <td>32102</td>\n",
       "      <td>75591</td>\n",
       "      <td>892</td>\n",
       "      <td>816174</td>\n",
       "      <td>2286836</td>\n",
       "      <td>0.000504</td>\n",
       "      <td>0.000911</td>\n",
       "      <td>20</td>\n",
       "      <td>NONE</td>\n",
       "      <td>0.0</td>\n",
       "      <td>0.0</td>\n",
       "      <td>0.0</td>\n",
       "      <td>72.0</td>\n",
       "      <td>4.47</td>\n",
       "    </tr>\n",
       "    <tr>\n",
       "      <th>4</th>\n",
       "      <td>3</td>\n",
       "      <td>0</td>\n",
       "      <td>2</td>\n",
       "      <td>MORNING</td>\n",
       "      <td>1</td>\n",
       "      <td>32102</td>\n",
       "      <td>69699</td>\n",
       "      <td>2048</td>\n",
       "      <td>816174</td>\n",
       "      <td>698248</td>\n",
       "      <td>0.000170</td>\n",
       "      <td>0.000492</td>\n",
       "      <td>21</td>\n",
       "      <td>NONE</td>\n",
       "      <td>0.0</td>\n",
       "      <td>0.0</td>\n",
       "      <td>0.0</td>\n",
       "      <td>72.0</td>\n",
       "      <td>4.47</td>\n",
       "    </tr>\n",
       "  </tbody>\n",
       "</table>\n",
       "</div>"
      ],
      "text/plain": [
       "   DAY_OF_WEEK  DEP_DEL15  DISTANCE_GROUP      DEP_BLOCK  SEGMENT_NUMBER  \\\n",
       "0            3          0               5        MORNING               1   \n",
       "1            3          0               3        MORNING               1   \n",
       "2            3          0               9        MORNING               1   \n",
       "3            3          0               1  EARLY_MORNING               1   \n",
       "4            3          0               2        MORNING               1   \n",
       "\n",
       "   AIRPORT_FLIGHTS_MONTH  AIRLINE_FLIGHTS_MONTH  \\\n",
       "0                  32102                  48104   \n",
       "1                  32102                  48104   \n",
       "2                  32102                  48104   \n",
       "3                  32102                  75591   \n",
       "4                  32102                  69699   \n",
       "\n",
       "   AIRLINE_AIRPORT_FLIGHTS_MONTH  AVG_MONTHLY_PASS_AIRPORT  \\\n",
       "0                            361                    816174   \n",
       "1                            361                    816174   \n",
       "2                            361                    816174   \n",
       "3                            892                    816174   \n",
       "4                           2048                    816174   \n",
       "\n",
       "   AVG_MONTHLY_PASS_AIRLINE  FLT_ATTENDANTS_PER_PASS  GROUND_SERV_PER_PASS  \\\n",
       "0                   1539321                 0.001402              0.001265   \n",
       "1                   1539321                 0.001402              0.001265   \n",
       "2                   1539321                 0.001402              0.001265   \n",
       "3                   2286836                 0.000504              0.000911   \n",
       "4                    698248                 0.000170              0.000492   \n",
       "\n",
       "   PLANE_AGE PREVIOUS_AIRPORT  PRCP  SNOW  SNWD  TMAX  AWND  \n",
       "0         19             NONE   0.0   0.0   0.0  72.0  4.47  \n",
       "1         22             NONE   0.0   0.0   0.0  72.0  4.47  \n",
       "2         24             NONE   0.0   0.0   0.0  72.0  4.47  \n",
       "3         20             NONE   0.0   0.0   0.0  72.0  4.47  \n",
       "4         21             NONE   0.0   0.0   0.0  72.0  4.47  "
      ]
     },
     "execution_count": 5,
     "metadata": {},
     "output_type": "execute_result"
    }
   ],
   "source": [
    "data = data.drop_duplicates()\n",
    "data = data.drop(columns=['DEPARTING_AIRPORT', 'CARRIER_NAME'])\n",
    "data = data.drop(columns=['LATITUDE','LONGITUDE'])\n",
    "data = data.drop(columns=['CONCURRENT_FLIGHTS', 'NUMBER_OF_SEATS'])\n",
    "data.head()"
   ]
  },
  {
   "cell_type": "markdown",
   "id": "c581d726",
   "metadata": {
    "heading_collapsed": true,
    "hidden": true
   },
   "source": [
    "## Handling Categorical Data"
   ]
  },
  {
   "cell_type": "code",
   "execution_count": 6,
   "id": "ae76a339",
   "metadata": {
    "ExecuteTime": {
     "end_time": "2021-12-19T14:16:15.449856Z",
     "start_time": "2021-12-19T14:16:15.374858Z"
    },
    "hidden": true
   },
   "outputs": [],
   "source": [
    "label_encoder = preprocessing.LabelEncoder()\n",
    "data['DEP_BLOCK']= label_encoder.fit_transform(data['DEP_BLOCK'])\n",
    "data['PREVIOUS_AIRPORT']= label_encoder.fit_transform(data['PREVIOUS_AIRPORT'])"
   ]
  },
  {
   "cell_type": "code",
   "execution_count": 7,
   "id": "ca9b39c9",
   "metadata": {
    "ExecuteTime": {
     "end_time": "2021-12-19T14:16:15.481873Z",
     "start_time": "2021-12-19T14:16:15.454855Z"
    },
    "hidden": true
   },
   "outputs": [
    {
     "data": {
      "text/html": [
       "<div>\n",
       "<style scoped>\n",
       "    .dataframe tbody tr th:only-of-type {\n",
       "        vertical-align: middle;\n",
       "    }\n",
       "\n",
       "    .dataframe tbody tr th {\n",
       "        vertical-align: top;\n",
       "    }\n",
       "\n",
       "    .dataframe thead th {\n",
       "        text-align: right;\n",
       "    }\n",
       "</style>\n",
       "<table border=\"1\" class=\"dataframe\">\n",
       "  <thead>\n",
       "    <tr style=\"text-align: right;\">\n",
       "      <th></th>\n",
       "      <th>DAY_OF_WEEK</th>\n",
       "      <th>DEP_DEL15</th>\n",
       "      <th>DISTANCE_GROUP</th>\n",
       "      <th>DEP_BLOCK</th>\n",
       "      <th>SEGMENT_NUMBER</th>\n",
       "      <th>AIRPORT_FLIGHTS_MONTH</th>\n",
       "      <th>AIRLINE_FLIGHTS_MONTH</th>\n",
       "      <th>AIRLINE_AIRPORT_FLIGHTS_MONTH</th>\n",
       "      <th>AVG_MONTHLY_PASS_AIRPORT</th>\n",
       "      <th>AVG_MONTHLY_PASS_AIRLINE</th>\n",
       "      <th>FLT_ATTENDANTS_PER_PASS</th>\n",
       "      <th>GROUND_SERV_PER_PASS</th>\n",
       "      <th>PLANE_AGE</th>\n",
       "      <th>PREVIOUS_AIRPORT</th>\n",
       "      <th>PRCP</th>\n",
       "      <th>SNOW</th>\n",
       "      <th>SNWD</th>\n",
       "      <th>TMAX</th>\n",
       "      <th>AWND</th>\n",
       "    </tr>\n",
       "  </thead>\n",
       "  <tbody>\n",
       "    <tr>\n",
       "      <th>0</th>\n",
       "      <td>3</td>\n",
       "      <td>0</td>\n",
       "      <td>5</td>\n",
       "      <td>5</td>\n",
       "      <td>1</td>\n",
       "      <td>32102</td>\n",
       "      <td>48104</td>\n",
       "      <td>361</td>\n",
       "      <td>816174</td>\n",
       "      <td>1539321</td>\n",
       "      <td>0.001402</td>\n",
       "      <td>0.001265</td>\n",
       "      <td>19</td>\n",
       "      <td>178</td>\n",
       "      <td>0.0</td>\n",
       "      <td>0.0</td>\n",
       "      <td>0.0</td>\n",
       "      <td>72.0</td>\n",
       "      <td>4.47</td>\n",
       "    </tr>\n",
       "    <tr>\n",
       "      <th>1</th>\n",
       "      <td>3</td>\n",
       "      <td>0</td>\n",
       "      <td>3</td>\n",
       "      <td>5</td>\n",
       "      <td>1</td>\n",
       "      <td>32102</td>\n",
       "      <td>48104</td>\n",
       "      <td>361</td>\n",
       "      <td>816174</td>\n",
       "      <td>1539321</td>\n",
       "      <td>0.001402</td>\n",
       "      <td>0.001265</td>\n",
       "      <td>22</td>\n",
       "      <td>178</td>\n",
       "      <td>0.0</td>\n",
       "      <td>0.0</td>\n",
       "      <td>0.0</td>\n",
       "      <td>72.0</td>\n",
       "      <td>4.47</td>\n",
       "    </tr>\n",
       "    <tr>\n",
       "      <th>2</th>\n",
       "      <td>3</td>\n",
       "      <td>0</td>\n",
       "      <td>9</td>\n",
       "      <td>5</td>\n",
       "      <td>1</td>\n",
       "      <td>32102</td>\n",
       "      <td>48104</td>\n",
       "      <td>361</td>\n",
       "      <td>816174</td>\n",
       "      <td>1539321</td>\n",
       "      <td>0.001402</td>\n",
       "      <td>0.001265</td>\n",
       "      <td>24</td>\n",
       "      <td>178</td>\n",
       "      <td>0.0</td>\n",
       "      <td>0.0</td>\n",
       "      <td>0.0</td>\n",
       "      <td>72.0</td>\n",
       "      <td>4.47</td>\n",
       "    </tr>\n",
       "    <tr>\n",
       "      <th>3</th>\n",
       "      <td>3</td>\n",
       "      <td>0</td>\n",
       "      <td>1</td>\n",
       "      <td>1</td>\n",
       "      <td>1</td>\n",
       "      <td>32102</td>\n",
       "      <td>75591</td>\n",
       "      <td>892</td>\n",
       "      <td>816174</td>\n",
       "      <td>2286836</td>\n",
       "      <td>0.000504</td>\n",
       "      <td>0.000911</td>\n",
       "      <td>20</td>\n",
       "      <td>178</td>\n",
       "      <td>0.0</td>\n",
       "      <td>0.0</td>\n",
       "      <td>0.0</td>\n",
       "      <td>72.0</td>\n",
       "      <td>4.47</td>\n",
       "    </tr>\n",
       "    <tr>\n",
       "      <th>4</th>\n",
       "      <td>3</td>\n",
       "      <td>0</td>\n",
       "      <td>2</td>\n",
       "      <td>5</td>\n",
       "      <td>1</td>\n",
       "      <td>32102</td>\n",
       "      <td>69699</td>\n",
       "      <td>2048</td>\n",
       "      <td>816174</td>\n",
       "      <td>698248</td>\n",
       "      <td>0.000170</td>\n",
       "      <td>0.000492</td>\n",
       "      <td>21</td>\n",
       "      <td>178</td>\n",
       "      <td>0.0</td>\n",
       "      <td>0.0</td>\n",
       "      <td>0.0</td>\n",
       "      <td>72.0</td>\n",
       "      <td>4.47</td>\n",
       "    </tr>\n",
       "  </tbody>\n",
       "</table>\n",
       "</div>"
      ],
      "text/plain": [
       "   DAY_OF_WEEK  DEP_DEL15  DISTANCE_GROUP  DEP_BLOCK  SEGMENT_NUMBER  \\\n",
       "0            3          0               5          5               1   \n",
       "1            3          0               3          5               1   \n",
       "2            3          0               9          5               1   \n",
       "3            3          0               1          1               1   \n",
       "4            3          0               2          5               1   \n",
       "\n",
       "   AIRPORT_FLIGHTS_MONTH  AIRLINE_FLIGHTS_MONTH  \\\n",
       "0                  32102                  48104   \n",
       "1                  32102                  48104   \n",
       "2                  32102                  48104   \n",
       "3                  32102                  75591   \n",
       "4                  32102                  69699   \n",
       "\n",
       "   AIRLINE_AIRPORT_FLIGHTS_MONTH  AVG_MONTHLY_PASS_AIRPORT  \\\n",
       "0                            361                    816174   \n",
       "1                            361                    816174   \n",
       "2                            361                    816174   \n",
       "3                            892                    816174   \n",
       "4                           2048                    816174   \n",
       "\n",
       "   AVG_MONTHLY_PASS_AIRLINE  FLT_ATTENDANTS_PER_PASS  GROUND_SERV_PER_PASS  \\\n",
       "0                   1539321                 0.001402              0.001265   \n",
       "1                   1539321                 0.001402              0.001265   \n",
       "2                   1539321                 0.001402              0.001265   \n",
       "3                   2286836                 0.000504              0.000911   \n",
       "4                    698248                 0.000170              0.000492   \n",
       "\n",
       "   PLANE_AGE  PREVIOUS_AIRPORT  PRCP  SNOW  SNWD  TMAX  AWND  \n",
       "0         19               178   0.0   0.0   0.0  72.0  4.47  \n",
       "1         22               178   0.0   0.0   0.0  72.0  4.47  \n",
       "2         24               178   0.0   0.0   0.0  72.0  4.47  \n",
       "3         20               178   0.0   0.0   0.0  72.0  4.47  \n",
       "4         21               178   0.0   0.0   0.0  72.0  4.47  "
      ]
     },
     "execution_count": 7,
     "metadata": {},
     "output_type": "execute_result"
    }
   ],
   "source": [
    "data.head()"
   ]
  },
  {
   "cell_type": "markdown",
   "id": "bd27130d",
   "metadata": {
    "heading_collapsed": true
   },
   "source": [
    "# Transform Data"
   ]
  },
  {
   "cell_type": "markdown",
   "id": "a5bc3294",
   "metadata": {
    "heading_collapsed": true,
    "hidden": true
   },
   "source": [
    "## Split Data"
   ]
  },
  {
   "cell_type": "code",
   "execution_count": 8,
   "id": "b325bb8f",
   "metadata": {
    "ExecuteTime": {
     "end_time": "2021-12-19T14:16:15.529905Z",
     "start_time": "2021-12-19T14:16:15.488860Z"
    },
    "hidden": true
   },
   "outputs": [
    {
     "data": {
      "text/html": [
       "<div>\n",
       "<style scoped>\n",
       "    .dataframe tbody tr th:only-of-type {\n",
       "        vertical-align: middle;\n",
       "    }\n",
       "\n",
       "    .dataframe tbody tr th {\n",
       "        vertical-align: top;\n",
       "    }\n",
       "\n",
       "    .dataframe thead th {\n",
       "        text-align: right;\n",
       "    }\n",
       "</style>\n",
       "<table border=\"1\" class=\"dataframe\">\n",
       "  <thead>\n",
       "    <tr style=\"text-align: right;\">\n",
       "      <th></th>\n",
       "      <th>DAY_OF_WEEK</th>\n",
       "      <th>DISTANCE_GROUP</th>\n",
       "      <th>DEP_BLOCK</th>\n",
       "      <th>SEGMENT_NUMBER</th>\n",
       "      <th>AIRPORT_FLIGHTS_MONTH</th>\n",
       "      <th>AIRLINE_FLIGHTS_MONTH</th>\n",
       "      <th>AIRLINE_AIRPORT_FLIGHTS_MONTH</th>\n",
       "      <th>AVG_MONTHLY_PASS_AIRPORT</th>\n",
       "      <th>AVG_MONTHLY_PASS_AIRLINE</th>\n",
       "      <th>FLT_ATTENDANTS_PER_PASS</th>\n",
       "      <th>GROUND_SERV_PER_PASS</th>\n",
       "      <th>PLANE_AGE</th>\n",
       "      <th>PREVIOUS_AIRPORT</th>\n",
       "      <th>PRCP</th>\n",
       "      <th>SNOW</th>\n",
       "      <th>SNWD</th>\n",
       "      <th>TMAX</th>\n",
       "      <th>AWND</th>\n",
       "    </tr>\n",
       "  </thead>\n",
       "  <tbody>\n",
       "    <tr>\n",
       "      <th>0</th>\n",
       "      <td>3</td>\n",
       "      <td>5</td>\n",
       "      <td>5</td>\n",
       "      <td>1</td>\n",
       "      <td>32102</td>\n",
       "      <td>48104</td>\n",
       "      <td>361</td>\n",
       "      <td>816174</td>\n",
       "      <td>1539321</td>\n",
       "      <td>0.001402</td>\n",
       "      <td>0.001265</td>\n",
       "      <td>19</td>\n",
       "      <td>178</td>\n",
       "      <td>0.0</td>\n",
       "      <td>0.0</td>\n",
       "      <td>0.0</td>\n",
       "      <td>72.0</td>\n",
       "      <td>4.47</td>\n",
       "    </tr>\n",
       "    <tr>\n",
       "      <th>1</th>\n",
       "      <td>3</td>\n",
       "      <td>3</td>\n",
       "      <td>5</td>\n",
       "      <td>1</td>\n",
       "      <td>32102</td>\n",
       "      <td>48104</td>\n",
       "      <td>361</td>\n",
       "      <td>816174</td>\n",
       "      <td>1539321</td>\n",
       "      <td>0.001402</td>\n",
       "      <td>0.001265</td>\n",
       "      <td>22</td>\n",
       "      <td>178</td>\n",
       "      <td>0.0</td>\n",
       "      <td>0.0</td>\n",
       "      <td>0.0</td>\n",
       "      <td>72.0</td>\n",
       "      <td>4.47</td>\n",
       "    </tr>\n",
       "    <tr>\n",
       "      <th>2</th>\n",
       "      <td>3</td>\n",
       "      <td>9</td>\n",
       "      <td>5</td>\n",
       "      <td>1</td>\n",
       "      <td>32102</td>\n",
       "      <td>48104</td>\n",
       "      <td>361</td>\n",
       "      <td>816174</td>\n",
       "      <td>1539321</td>\n",
       "      <td>0.001402</td>\n",
       "      <td>0.001265</td>\n",
       "      <td>24</td>\n",
       "      <td>178</td>\n",
       "      <td>0.0</td>\n",
       "      <td>0.0</td>\n",
       "      <td>0.0</td>\n",
       "      <td>72.0</td>\n",
       "      <td>4.47</td>\n",
       "    </tr>\n",
       "    <tr>\n",
       "      <th>3</th>\n",
       "      <td>3</td>\n",
       "      <td>1</td>\n",
       "      <td>1</td>\n",
       "      <td>1</td>\n",
       "      <td>32102</td>\n",
       "      <td>75591</td>\n",
       "      <td>892</td>\n",
       "      <td>816174</td>\n",
       "      <td>2286836</td>\n",
       "      <td>0.000504</td>\n",
       "      <td>0.000911</td>\n",
       "      <td>20</td>\n",
       "      <td>178</td>\n",
       "      <td>0.0</td>\n",
       "      <td>0.0</td>\n",
       "      <td>0.0</td>\n",
       "      <td>72.0</td>\n",
       "      <td>4.47</td>\n",
       "    </tr>\n",
       "    <tr>\n",
       "      <th>4</th>\n",
       "      <td>3</td>\n",
       "      <td>2</td>\n",
       "      <td>5</td>\n",
       "      <td>1</td>\n",
       "      <td>32102</td>\n",
       "      <td>69699</td>\n",
       "      <td>2048</td>\n",
       "      <td>816174</td>\n",
       "      <td>698248</td>\n",
       "      <td>0.000170</td>\n",
       "      <td>0.000492</td>\n",
       "      <td>21</td>\n",
       "      <td>178</td>\n",
       "      <td>0.0</td>\n",
       "      <td>0.0</td>\n",
       "      <td>0.0</td>\n",
       "      <td>72.0</td>\n",
       "      <td>4.47</td>\n",
       "    </tr>\n",
       "  </tbody>\n",
       "</table>\n",
       "</div>"
      ],
      "text/plain": [
       "   DAY_OF_WEEK  DISTANCE_GROUP  DEP_BLOCK  SEGMENT_NUMBER  \\\n",
       "0            3               5          5               1   \n",
       "1            3               3          5               1   \n",
       "2            3               9          5               1   \n",
       "3            3               1          1               1   \n",
       "4            3               2          5               1   \n",
       "\n",
       "   AIRPORT_FLIGHTS_MONTH  AIRLINE_FLIGHTS_MONTH  \\\n",
       "0                  32102                  48104   \n",
       "1                  32102                  48104   \n",
       "2                  32102                  48104   \n",
       "3                  32102                  75591   \n",
       "4                  32102                  69699   \n",
       "\n",
       "   AIRLINE_AIRPORT_FLIGHTS_MONTH  AVG_MONTHLY_PASS_AIRPORT  \\\n",
       "0                            361                    816174   \n",
       "1                            361                    816174   \n",
       "2                            361                    816174   \n",
       "3                            892                    816174   \n",
       "4                           2048                    816174   \n",
       "\n",
       "   AVG_MONTHLY_PASS_AIRLINE  FLT_ATTENDANTS_PER_PASS  GROUND_SERV_PER_PASS  \\\n",
       "0                   1539321                 0.001402              0.001265   \n",
       "1                   1539321                 0.001402              0.001265   \n",
       "2                   1539321                 0.001402              0.001265   \n",
       "3                   2286836                 0.000504              0.000911   \n",
       "4                    698248                 0.000170              0.000492   \n",
       "\n",
       "   PLANE_AGE  PREVIOUS_AIRPORT  PRCP  SNOW  SNWD  TMAX  AWND  \n",
       "0         19               178   0.0   0.0   0.0  72.0  4.47  \n",
       "1         22               178   0.0   0.0   0.0  72.0  4.47  \n",
       "2         24               178   0.0   0.0   0.0  72.0  4.47  \n",
       "3         20               178   0.0   0.0   0.0  72.0  4.47  \n",
       "4         21               178   0.0   0.0   0.0  72.0  4.47  "
      ]
     },
     "execution_count": 8,
     "metadata": {},
     "output_type": "execute_result"
    }
   ],
   "source": [
    "# data_feat yang khusus hanya akan berisi nilai-nilai atribut/fitur/variabel saja.\n",
    "# data_target yang khusus hanya akan berisi label/kelas/target \n",
    "df_feat = data.drop('DEP_DEL15',axis=1) \n",
    "df_feat.head()"
   ]
  },
  {
   "cell_type": "code",
   "execution_count": 9,
   "id": "d03098c1",
   "metadata": {
    "ExecuteTime": {
     "end_time": "2021-12-19T14:16:15.545854Z",
     "start_time": "2021-12-19T14:16:15.530847Z"
    },
    "hidden": true
   },
   "outputs": [
    {
     "data": {
      "text/plain": [
       "0    0\n",
       "1    0\n",
       "2    0\n",
       "3    0\n",
       "4    0\n",
       "Name: DEP_DEL15, dtype: int64"
      ]
     },
     "execution_count": 9,
     "metadata": {},
     "output_type": "execute_result"
    }
   ],
   "source": [
    "df_target = data['DEP_DEL15'] \n",
    "df_target.head()"
   ]
  },
  {
   "cell_type": "code",
   "execution_count": 10,
   "id": "33ebf9f2",
   "metadata": {
    "ExecuteTime": {
     "end_time": "2021-12-19T14:16:15.593851Z",
     "start_time": "2021-12-19T14:16:15.547846Z"
    },
    "hidden": true
   },
   "outputs": [
    {
     "name": "stdout",
     "output_type": "stream",
     "text": [
      "Jumlah Training Data :  83811  | Jumlah Test Data :  35920\n"
     ]
    }
   ],
   "source": [
    "X_train, X_test, y_train, y_test = train_test_split(df_feat, df_target, test_size=0.30, random_state=0)\n",
    "print(\"Jumlah Training Data : \", len(X_train), \" | Jumlah Test Data : \", len(X_test))"
   ]
  },
  {
   "cell_type": "markdown",
   "id": "d1503f08",
   "metadata": {
    "heading_collapsed": true,
    "hidden": true
   },
   "source": [
    "## Oversampling Data"
   ]
  },
  {
   "cell_type": "code",
   "execution_count": 11,
   "id": "01691280",
   "metadata": {
    "ExecuteTime": {
     "end_time": "2021-12-19T14:16:19.044833Z",
     "start_time": "2021-12-19T14:16:15.598855Z"
    },
    "hidden": true
   },
   "outputs": [
    {
     "data": {
      "text/plain": [
       "0    71137\n",
       "1    71137\n",
       "Name: DEP_DEL15, dtype: int64"
      ]
     },
     "execution_count": 11,
     "metadata": {},
     "output_type": "execute_result"
    }
   ],
   "source": [
    "oversample = imblearn.over_sampling.SMOTE()\n",
    "X_train, y_train = oversample.fit_resample(X_train, y_train)\n",
    "y_train.value_counts()"
   ]
  },
  {
   "cell_type": "markdown",
   "id": "d5942552",
   "metadata": {
    "heading_collapsed": true,
    "hidden": true
   },
   "source": [
    "## Standardized Data"
   ]
  },
  {
   "cell_type": "code",
   "execution_count": 12,
   "id": "4bfcfa30",
   "metadata": {
    "ExecuteTime": {
     "end_time": "2021-12-19T14:16:19.140109Z",
     "start_time": "2021-12-19T14:16:19.046848Z"
    },
    "hidden": true
   },
   "outputs": [
    {
     "data": {
      "text/plain": [
       "array([[ 0.60476689,  0.98335588, -1.37318497, ..., -0.33426595,\n",
       "         0.30470673,  1.87160876],\n",
       "       [ 0.055153  , -1.23962332, -1.37318497, ..., -0.33426595,\n",
       "        -0.03537887, -0.91296261],\n",
       "       [ 0.055153  ,  0.42761108,  0.35527089, ..., -0.33426595,\n",
       "        -0.12040028, -0.64903625],\n",
       "       ...,\n",
       "       [ 1.70399467, -1.23962332,  1.5075748 , ..., -0.33426595,\n",
       "         0.38972813,  0.3473599 ],\n",
       "       [ 0.60476689, -1.23962332, -0.22088106, ..., -0.33426595,\n",
       "         0.30470673, -0.98116829],\n",
       "       [-1.04407479, -0.68387852, -1.37318497, ..., -0.33426595,\n",
       "        -0.88559288,  0.27915421]])"
      ]
     },
     "execution_count": 12,
     "metadata": {},
     "output_type": "execute_result"
    }
   ],
   "source": [
    "from sklearn.preprocessing import StandardScaler\n",
    "\n",
    "StdScaler = StandardScaler()\n",
    "X_train_scaled = StdScaler.fit_transform(X_train)\n",
    "X_test_scaled = StdScaler.transform(X_test)\n",
    "X_test_scaled"
   ]
  },
  {
   "cell_type": "markdown",
   "id": "a2c98986",
   "metadata": {
    "heading_collapsed": true
   },
   "source": [
    "# Modelling"
   ]
  },
  {
   "cell_type": "markdown",
   "id": "c0de9e52",
   "metadata": {
    "heading_collapsed": true,
    "hidden": true
   },
   "source": [
    "## Linear Regression"
   ]
  },
  {
   "cell_type": "code",
   "execution_count": 13,
   "id": "5959874a",
   "metadata": {
    "ExecuteTime": {
     "end_time": "2021-12-19T14:16:19.266829Z",
     "start_time": "2021-12-19T14:16:19.142830Z"
    },
    "hidden": true
   },
   "outputs": [
    {
     "data": {
      "text/plain": [
       "0.6290924276169265"
      ]
     },
     "execution_count": 13,
     "metadata": {},
     "output_type": "execute_result"
    }
   ],
   "source": [
    "LinRmodel = LinearRegression()\n",
    "LinRmodel.fit(X_train, y_train)\n",
    "y_pred = LinRmodel.predict(X_test)\n",
    "y_pred[y_pred<0.5] = 0\n",
    "y_pred[y_pred>=0.5] = 1\n",
    "accuracy_score(y_test,y_pred)"
   ]
  },
  {
   "cell_type": "code",
   "execution_count": 14,
   "id": "f9a75c46",
   "metadata": {
    "ExecuteTime": {
     "end_time": "2021-12-19T14:16:19.375837Z",
     "start_time": "2021-12-19T14:16:19.270838Z"
    },
    "hidden": true
   },
   "outputs": [
    {
     "name": "stdout",
     "output_type": "stream",
     "text": [
      "              precision    recall  f1-score   support\n",
      "\n",
      "           0       0.88      0.65      0.75     30535\n",
      "           1       0.20      0.49      0.29      5385\n",
      "\n",
      "    accuracy                           0.63     35920\n",
      "   macro avg       0.54      0.57      0.52     35920\n",
      "weighted avg       0.78      0.63      0.68     35920\n",
      "\n"
     ]
    }
   ],
   "source": [
    "print(classification_report(y_test, y_pred))"
   ]
  },
  {
   "cell_type": "markdown",
   "id": "54874496",
   "metadata": {
    "heading_collapsed": true,
    "hidden": true
   },
   "source": [
    "## Logistic Regression"
   ]
  },
  {
   "cell_type": "code",
   "execution_count": 15,
   "id": "1f5bfa75",
   "metadata": {
    "ExecuteTime": {
     "end_time": "2021-12-19T14:16:20.423527Z",
     "start_time": "2021-12-19T14:16:19.377830Z"
    },
    "hidden": true
   },
   "outputs": [
    {
     "data": {
      "text/plain": [
       "0.4904788418708241"
      ]
     },
     "execution_count": 15,
     "metadata": {},
     "output_type": "execute_result"
    }
   ],
   "source": [
    "LogRModel = LogisticRegression()\n",
    "LogRModel.fit(X_train, y_train)\n",
    "y_pred = LogRModel.predict_proba(X_test)[:,1]\n",
    "y_pred[y_pred<0.5] = 0\n",
    "y_pred[y_pred>=0.5] = 1\n",
    "accuracy_score(y_test, y_pred)"
   ]
  },
  {
   "cell_type": "code",
   "execution_count": 16,
   "id": "e5c57a56",
   "metadata": {
    "ExecuteTime": {
     "end_time": "2021-12-19T14:16:20.533525Z",
     "start_time": "2021-12-19T14:16:20.424528Z"
    },
    "hidden": true
   },
   "outputs": [
    {
     "name": "stdout",
     "output_type": "stream",
     "text": [
      "              precision    recall  f1-score   support\n",
      "\n",
      "           0       0.86      0.48      0.61     30535\n",
      "           1       0.16      0.56      0.25      5385\n",
      "\n",
      "    accuracy                           0.49     35920\n",
      "   macro avg       0.51      0.52      0.43     35920\n",
      "weighted avg       0.76      0.49      0.56     35920\n",
      "\n"
     ]
    }
   ],
   "source": [
    "print(classification_report(y_test, y_pred))"
   ]
  },
  {
   "cell_type": "code",
   "execution_count": null,
   "id": "2d243896",
   "metadata": {
    "hidden": true
   },
   "outputs": [],
   "source": []
  }
 ],
 "metadata": {
  "kernelspec": {
   "display_name": "Python 3 (ipykernel)",
   "language": "python",
   "name": "python3"
  },
  "language_info": {
   "codemirror_mode": {
    "name": "ipython",
    "version": 3
   },
   "file_extension": ".py",
   "mimetype": "text/x-python",
   "name": "python",
   "nbconvert_exporter": "python",
   "pygments_lexer": "ipython3",
   "version": "3.8.12"
  },
  "toc": {
   "base_numbering": 1,
   "nav_menu": {},
   "number_sections": true,
   "sideBar": true,
   "skip_h1_title": false,
   "title_cell": "Table of Contents",
   "title_sidebar": "Contents",
   "toc_cell": false,
   "toc_position": {},
   "toc_section_display": true,
   "toc_window_display": false
  }
 },
 "nbformat": 4,
 "nbformat_minor": 5
}
