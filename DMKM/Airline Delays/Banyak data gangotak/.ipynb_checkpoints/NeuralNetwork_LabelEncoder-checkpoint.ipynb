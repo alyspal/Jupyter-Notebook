{
 "cells": [
  {
   "cell_type": "markdown",
   "id": "0c4efddf",
   "metadata": {
    "heading_collapsed": true
   },
   "source": [
    "# Input packages and datasets"
   ]
  },
  {
   "cell_type": "code",
   "execution_count": 1,
   "id": "2fef1688",
   "metadata": {
    "ExecuteTime": {
     "end_time": "2021-12-19T16:38:29.129999Z",
     "start_time": "2021-12-19T16:38:27.210001Z"
    },
    "hidden": true
   },
   "outputs": [],
   "source": [
    "import pandas as pd\n",
    "import numpy as np\n",
    "import seaborn as sns\n",
    "import matplotlib.pyplot as plt\n",
    "import imblearn\n",
    "\n",
    "from sklearn import preprocessing\n",
    "from sklearn.preprocessing import StandardScaler\n",
    "from sklearn.model_selection import train_test_split\n",
    "from sklearn.metrics import classification_report,accuracy_score\n",
    "from sklearn.neural_network import MLPClassifier"
   ]
  },
  {
   "cell_type": "code",
   "execution_count": 2,
   "id": "68ad5379",
   "metadata": {
    "ExecuteTime": {
     "end_time": "2021-12-19T16:38:29.535999Z",
     "start_time": "2021-12-19T16:38:29.134000Z"
    },
    "hidden": true
   },
   "outputs": [],
   "source": [
    "data = pd.read_csv('busiest_airport_airline_delays.csv')"
   ]
  },
  {
   "cell_type": "markdown",
   "id": "01349536",
   "metadata": {},
   "source": [
    "# Preprocessing"
   ]
  },
  {
   "cell_type": "code",
   "execution_count": 3,
   "id": "c2932e7b",
   "metadata": {
    "ExecuteTime": {
     "end_time": "2021-12-19T16:38:29.568000Z",
     "start_time": "2021-12-19T16:38:29.537999Z"
    }
   },
   "outputs": [
    {
     "data": {
      "text/html": [
       "<div>\n",
       "<style scoped>\n",
       "    .dataframe tbody tr th:only-of-type {\n",
       "        vertical-align: middle;\n",
       "    }\n",
       "\n",
       "    .dataframe tbody tr th {\n",
       "        vertical-align: top;\n",
       "    }\n",
       "\n",
       "    .dataframe thead th {\n",
       "        text-align: right;\n",
       "    }\n",
       "</style>\n",
       "<table border=\"1\" class=\"dataframe\">\n",
       "  <thead>\n",
       "    <tr style=\"text-align: right;\">\n",
       "      <th></th>\n",
       "      <th>DAY_OF_WEEK</th>\n",
       "      <th>DEP_DEL15</th>\n",
       "      <th>DISTANCE_GROUP</th>\n",
       "      <th>DEP_BLOCK</th>\n",
       "      <th>SEGMENT_NUMBER</th>\n",
       "      <th>CONCURRENT_FLIGHTS</th>\n",
       "      <th>NUMBER_OF_SEATS</th>\n",
       "      <th>CARRIER_NAME</th>\n",
       "      <th>AIRPORT_FLIGHTS_MONTH</th>\n",
       "      <th>AIRLINE_FLIGHTS_MONTH</th>\n",
       "      <th>...</th>\n",
       "      <th>PLANE_AGE</th>\n",
       "      <th>DEPARTING_AIRPORT</th>\n",
       "      <th>LATITUDE</th>\n",
       "      <th>LONGITUDE</th>\n",
       "      <th>PREVIOUS_AIRPORT</th>\n",
       "      <th>PRCP</th>\n",
       "      <th>SNOW</th>\n",
       "      <th>SNWD</th>\n",
       "      <th>TMAX</th>\n",
       "      <th>AWND</th>\n",
       "    </tr>\n",
       "  </thead>\n",
       "  <tbody>\n",
       "    <tr>\n",
       "      <th>0</th>\n",
       "      <td>3</td>\n",
       "      <td>0</td>\n",
       "      <td>5</td>\n",
       "      <td>MORNING</td>\n",
       "      <td>1</td>\n",
       "      <td>229</td>\n",
       "      <td>142</td>\n",
       "      <td>United Air Lines Inc.</td>\n",
       "      <td>32102</td>\n",
       "      <td>48104</td>\n",
       "      <td>...</td>\n",
       "      <td>19</td>\n",
       "      <td>Atlanta Municipal</td>\n",
       "      <td>33.641</td>\n",
       "      <td>-84.427</td>\n",
       "      <td>NONE</td>\n",
       "      <td>0.0</td>\n",
       "      <td>0.0</td>\n",
       "      <td>0.0</td>\n",
       "      <td>72.0</td>\n",
       "      <td>4.47</td>\n",
       "    </tr>\n",
       "    <tr>\n",
       "      <th>1</th>\n",
       "      <td>3</td>\n",
       "      <td>0</td>\n",
       "      <td>3</td>\n",
       "      <td>MORNING</td>\n",
       "      <td>1</td>\n",
       "      <td>229</td>\n",
       "      <td>120</td>\n",
       "      <td>United Air Lines Inc.</td>\n",
       "      <td>32102</td>\n",
       "      <td>48104</td>\n",
       "      <td>...</td>\n",
       "      <td>22</td>\n",
       "      <td>Atlanta Municipal</td>\n",
       "      <td>33.641</td>\n",
       "      <td>-84.427</td>\n",
       "      <td>NONE</td>\n",
       "      <td>0.0</td>\n",
       "      <td>0.0</td>\n",
       "      <td>0.0</td>\n",
       "      <td>72.0</td>\n",
       "      <td>4.47</td>\n",
       "    </tr>\n",
       "    <tr>\n",
       "      <th>2</th>\n",
       "      <td>3</td>\n",
       "      <td>0</td>\n",
       "      <td>9</td>\n",
       "      <td>MORNING</td>\n",
       "      <td>1</td>\n",
       "      <td>229</td>\n",
       "      <td>142</td>\n",
       "      <td>United Air Lines Inc.</td>\n",
       "      <td>32102</td>\n",
       "      <td>48104</td>\n",
       "      <td>...</td>\n",
       "      <td>24</td>\n",
       "      <td>Atlanta Municipal</td>\n",
       "      <td>33.641</td>\n",
       "      <td>-84.427</td>\n",
       "      <td>NONE</td>\n",
       "      <td>0.0</td>\n",
       "      <td>0.0</td>\n",
       "      <td>0.0</td>\n",
       "      <td>72.0</td>\n",
       "      <td>4.47</td>\n",
       "    </tr>\n",
       "    <tr>\n",
       "      <th>3</th>\n",
       "      <td>3</td>\n",
       "      <td>0</td>\n",
       "      <td>1</td>\n",
       "      <td>EARLY_MORNING</td>\n",
       "      <td>1</td>\n",
       "      <td>4</td>\n",
       "      <td>128</td>\n",
       "      <td>American Airlines Inc.</td>\n",
       "      <td>32102</td>\n",
       "      <td>75591</td>\n",
       "      <td>...</td>\n",
       "      <td>20</td>\n",
       "      <td>Atlanta Municipal</td>\n",
       "      <td>33.641</td>\n",
       "      <td>-84.427</td>\n",
       "      <td>NONE</td>\n",
       "      <td>0.0</td>\n",
       "      <td>0.0</td>\n",
       "      <td>0.0</td>\n",
       "      <td>72.0</td>\n",
       "      <td>4.47</td>\n",
       "    </tr>\n",
       "    <tr>\n",
       "      <th>4</th>\n",
       "      <td>3</td>\n",
       "      <td>0</td>\n",
       "      <td>2</td>\n",
       "      <td>MORNING</td>\n",
       "      <td>1</td>\n",
       "      <td>229</td>\n",
       "      <td>50</td>\n",
       "      <td>SkyWest Airlines Inc.</td>\n",
       "      <td>32102</td>\n",
       "      <td>69699</td>\n",
       "      <td>...</td>\n",
       "      <td>21</td>\n",
       "      <td>Atlanta Municipal</td>\n",
       "      <td>33.641</td>\n",
       "      <td>-84.427</td>\n",
       "      <td>NONE</td>\n",
       "      <td>0.0</td>\n",
       "      <td>0.0</td>\n",
       "      <td>0.0</td>\n",
       "      <td>72.0</td>\n",
       "      <td>4.47</td>\n",
       "    </tr>\n",
       "  </tbody>\n",
       "</table>\n",
       "<p>5 rows × 25 columns</p>\n",
       "</div>"
      ],
      "text/plain": [
       "   DAY_OF_WEEK  DEP_DEL15  DISTANCE_GROUP      DEP_BLOCK  SEGMENT_NUMBER  \\\n",
       "0            3          0               5        MORNING               1   \n",
       "1            3          0               3        MORNING               1   \n",
       "2            3          0               9        MORNING               1   \n",
       "3            3          0               1  EARLY_MORNING               1   \n",
       "4            3          0               2        MORNING               1   \n",
       "\n",
       "   CONCURRENT_FLIGHTS  NUMBER_OF_SEATS            CARRIER_NAME  \\\n",
       "0                 229              142   United Air Lines Inc.   \n",
       "1                 229              120   United Air Lines Inc.   \n",
       "2                 229              142   United Air Lines Inc.   \n",
       "3                   4              128  American Airlines Inc.   \n",
       "4                 229               50   SkyWest Airlines Inc.   \n",
       "\n",
       "   AIRPORT_FLIGHTS_MONTH  AIRLINE_FLIGHTS_MONTH  ...  PLANE_AGE  \\\n",
       "0                  32102                  48104  ...         19   \n",
       "1                  32102                  48104  ...         22   \n",
       "2                  32102                  48104  ...         24   \n",
       "3                  32102                  75591  ...         20   \n",
       "4                  32102                  69699  ...         21   \n",
       "\n",
       "   DEPARTING_AIRPORT  LATITUDE  LONGITUDE  PREVIOUS_AIRPORT  PRCP SNOW  SNWD  \\\n",
       "0  Atlanta Municipal    33.641    -84.427              NONE   0.0  0.0   0.0   \n",
       "1  Atlanta Municipal    33.641    -84.427              NONE   0.0  0.0   0.0   \n",
       "2  Atlanta Municipal    33.641    -84.427              NONE   0.0  0.0   0.0   \n",
       "3  Atlanta Municipal    33.641    -84.427              NONE   0.0  0.0   0.0   \n",
       "4  Atlanta Municipal    33.641    -84.427              NONE   0.0  0.0   0.0   \n",
       "\n",
       "   TMAX  AWND  \n",
       "0  72.0  4.47  \n",
       "1  72.0  4.47  \n",
       "2  72.0  4.47  \n",
       "3  72.0  4.47  \n",
       "4  72.0  4.47  \n",
       "\n",
       "[5 rows x 25 columns]"
      ]
     },
     "execution_count": 3,
     "metadata": {},
     "output_type": "execute_result"
    }
   ],
   "source": [
    "data.head()"
   ]
  },
  {
   "cell_type": "code",
   "execution_count": 4,
   "id": "86e1c55d",
   "metadata": {
    "ExecuteTime": {
     "end_time": "2021-12-19T16:38:29.740001Z",
     "start_time": "2021-12-19T16:38:29.570000Z"
    }
   },
   "outputs": [
    {
     "data": {
      "image/png": "[encoded data removed]",
      "text/plain": [
       "<Figure size 432x288 with 1 Axes>"
      ]
     },
     "metadata": {},
     "output_type": "display_data"
    }
   ],
   "source": [
    "sns.set_style('whitegrid')\n",
    "sns.countplot(x=data['DEP_DEL15'],data=data)\n",
    "plt.show()"
   ]
  },
  {
   "cell_type": "markdown",
   "id": "b7a55a80",
   "metadata": {
    "heading_collapsed": true
   },
   "source": [
    "## Data Cleaning"
   ]
  },
  {
   "cell_type": "code",
   "execution_count": 5,
   "id": "9f18ae67",
   "metadata": {
    "ExecuteTime": {
     "end_time": "2021-12-19T16:38:29.926002Z",
     "start_time": "2021-12-19T16:38:29.742001Z"
    },
    "hidden": true
   },
   "outputs": [
    {
     "data": {
      "text/html": [
       "<div>\n",
       "<style scoped>\n",
       "    .dataframe tbody tr th:only-of-type {\n",
       "        vertical-align: middle;\n",
       "    }\n",
       "\n",
       "    .dataframe tbody tr th {\n",
       "        vertical-align: top;\n",
       "    }\n",
       "\n",
       "    .dataframe thead th {\n",
       "        text-align: right;\n",
       "    }\n",
       "</style>\n",
       "<table border=\"1\" class=\"dataframe\">\n",
       "  <thead>\n",
       "    <tr style=\"text-align: right;\">\n",
       "      <th></th>\n",
       "      <th>DAY_OF_WEEK</th>\n",
       "      <th>DEP_DEL15</th>\n",
       "      <th>DISTANCE_GROUP</th>\n",
       "      <th>DEP_BLOCK</th>\n",
       "      <th>SEGMENT_NUMBER</th>\n",
       "      <th>CARRIER_NAME</th>\n",
       "      <th>AIRLINE_AIRPORT_FLIGHTS_MONTH</th>\n",
       "      <th>PLANE_AGE</th>\n",
       "      <th>DEPARTING_AIRPORT</th>\n",
       "      <th>PREVIOUS_AIRPORT</th>\n",
       "      <th>PRCP</th>\n",
       "      <th>SNOW</th>\n",
       "      <th>SNWD</th>\n",
       "      <th>TMAX</th>\n",
       "      <th>AWND</th>\n",
       "    </tr>\n",
       "  </thead>\n",
       "  <tbody>\n",
       "    <tr>\n",
       "      <th>0</th>\n",
       "      <td>3</td>\n",
       "      <td>0</td>\n",
       "      <td>5</td>\n",
       "      <td>MORNING</td>\n",
       "      <td>1</td>\n",
       "      <td>United Air Lines Inc.</td>\n",
       "      <td>361</td>\n",
       "      <td>19</td>\n",
       "      <td>Atlanta Municipal</td>\n",
       "      <td>NONE</td>\n",
       "      <td>0.0</td>\n",
       "      <td>0.0</td>\n",
       "      <td>0.0</td>\n",
       "      <td>72.0</td>\n",
       "      <td>4.47</td>\n",
       "    </tr>\n",
       "    <tr>\n",
       "      <th>1</th>\n",
       "      <td>3</td>\n",
       "      <td>0</td>\n",
       "      <td>3</td>\n",
       "      <td>MORNING</td>\n",
       "      <td>1</td>\n",
       "      <td>United Air Lines Inc.</td>\n",
       "      <td>361</td>\n",
       "      <td>22</td>\n",
       "      <td>Atlanta Municipal</td>\n",
       "      <td>NONE</td>\n",
       "      <td>0.0</td>\n",
       "      <td>0.0</td>\n",
       "      <td>0.0</td>\n",
       "      <td>72.0</td>\n",
       "      <td>4.47</td>\n",
       "    </tr>\n",
       "    <tr>\n",
       "      <th>2</th>\n",
       "      <td>3</td>\n",
       "      <td>0</td>\n",
       "      <td>9</td>\n",
       "      <td>MORNING</td>\n",
       "      <td>1</td>\n",
       "      <td>United Air Lines Inc.</td>\n",
       "      <td>361</td>\n",
       "      <td>24</td>\n",
       "      <td>Atlanta Municipal</td>\n",
       "      <td>NONE</td>\n",
       "      <td>0.0</td>\n",
       "      <td>0.0</td>\n",
       "      <td>0.0</td>\n",
       "      <td>72.0</td>\n",
       "      <td>4.47</td>\n",
       "    </tr>\n",
       "    <tr>\n",
       "      <th>3</th>\n",
       "      <td>3</td>\n",
       "      <td>0</td>\n",
       "      <td>1</td>\n",
       "      <td>EARLY_MORNING</td>\n",
       "      <td>1</td>\n",
       "      <td>American Airlines Inc.</td>\n",
       "      <td>892</td>\n",
       "      <td>20</td>\n",
       "      <td>Atlanta Municipal</td>\n",
       "      <td>NONE</td>\n",
       "      <td>0.0</td>\n",
       "      <td>0.0</td>\n",
       "      <td>0.0</td>\n",
       "      <td>72.0</td>\n",
       "      <td>4.47</td>\n",
       "    </tr>\n",
       "    <tr>\n",
       "      <th>4</th>\n",
       "      <td>3</td>\n",
       "      <td>0</td>\n",
       "      <td>2</td>\n",
       "      <td>MORNING</td>\n",
       "      <td>1</td>\n",
       "      <td>SkyWest Airlines Inc.</td>\n",
       "      <td>2048</td>\n",
       "      <td>21</td>\n",
       "      <td>Atlanta Municipal</td>\n",
       "      <td>NONE</td>\n",
       "      <td>0.0</td>\n",
       "      <td>0.0</td>\n",
       "      <td>0.0</td>\n",
       "      <td>72.0</td>\n",
       "      <td>4.47</td>\n",
       "    </tr>\n",
       "  </tbody>\n",
       "</table>\n",
       "</div>"
      ],
      "text/plain": [
       "   DAY_OF_WEEK  DEP_DEL15  DISTANCE_GROUP      DEP_BLOCK  SEGMENT_NUMBER  \\\n",
       "0            3          0               5        MORNING               1   \n",
       "1            3          0               3        MORNING               1   \n",
       "2            3          0               9        MORNING               1   \n",
       "3            3          0               1  EARLY_MORNING               1   \n",
       "4            3          0               2        MORNING               1   \n",
       "\n",
       "             CARRIER_NAME  AIRLINE_AIRPORT_FLIGHTS_MONTH  PLANE_AGE  \\\n",
       "0   United Air Lines Inc.                            361         19   \n",
       "1   United Air Lines Inc.                            361         22   \n",
       "2   United Air Lines Inc.                            361         24   \n",
       "3  American Airlines Inc.                            892         20   \n",
       "4   SkyWest Airlines Inc.                           2048         21   \n",
       "\n",
       "   DEPARTING_AIRPORT PREVIOUS_AIRPORT  PRCP  SNOW  SNWD  TMAX  AWND  \n",
       "0  Atlanta Municipal             NONE   0.0   0.0   0.0  72.0  4.47  \n",
       "1  Atlanta Municipal             NONE   0.0   0.0   0.0  72.0  4.47  \n",
       "2  Atlanta Municipal             NONE   0.0   0.0   0.0  72.0  4.47  \n",
       "3  Atlanta Municipal             NONE   0.0   0.0   0.0  72.0  4.47  \n",
       "4  Atlanta Municipal             NONE   0.0   0.0   0.0  72.0  4.47  "
      ]
     },
     "execution_count": 5,
     "metadata": {},
     "output_type": "execute_result"
    }
   ],
   "source": [
    "data = data.drop_duplicates()\n",
    "data = data.drop(columns=['AIRPORT_FLIGHTS_MONTH', 'AVG_MONTHLY_PASS_AIRPORT', 'AIRLINE_FLIGHTS_MONTH',\n",
    "                          'AVG_MONTHLY_PASS_AIRLINE', 'FLT_ATTENDANTS_PER_PASS', 'GROUND_SERV_PER_PASS'])\n",
    "data = data.drop(columns=['LATITUDE','LONGITUDE'])\n",
    "data = data.drop(columns=['CONCURRENT_FLIGHTS', 'NUMBER_OF_SEATS'])\n",
    "data.head()"
   ]
  },
  {
   "cell_type": "markdown",
   "id": "1697bd34",
   "metadata": {
    "heading_collapsed": true
   },
   "source": [
    "## Handling Categorical Data"
   ]
  },
  {
   "cell_type": "code",
   "execution_count": 6,
   "id": "9b962f58",
   "metadata": {
    "ExecuteTime": {
     "end_time": "2021-12-19T16:38:30.050001Z",
     "start_time": "2021-12-19T16:38:29.928002Z"
    },
    "hidden": true
   },
   "outputs": [],
   "source": [
    "label_encoder = preprocessing.LabelEncoder()\n",
    "data['DEP_BLOCK']= label_encoder.fit_transform(data['DEP_BLOCK'])\n",
    "data['CARRIER_NAME']= label_encoder.fit_transform(data['CARRIER_NAME'])\n",
    "data['DEPARTING_AIRPORT']= label_encoder.fit_transform(data['DEPARTING_AIRPORT'])\n",
    "data['PREVIOUS_AIRPORT']= label_encoder.fit_transform(data['PREVIOUS_AIRPORT'])"
   ]
  },
  {
   "cell_type": "code",
   "execution_count": 7,
   "id": "339f7580",
   "metadata": {
    "ExecuteTime": {
     "end_time": "2021-12-19T16:38:30.068000Z",
     "start_time": "2021-12-19T16:38:30.052000Z"
    },
    "hidden": true
   },
   "outputs": [
    {
     "data": {
      "text/html": [
       "<div>\n",
       "<style scoped>\n",
       "    .dataframe tbody tr th:only-of-type {\n",
       "        vertical-align: middle;\n",
       "    }\n",
       "\n",
       "    .dataframe tbody tr th {\n",
       "        vertical-align: top;\n",
       "    }\n",
       "\n",
       "    .dataframe thead th {\n",
       "        text-align: right;\n",
       "    }\n",
       "</style>\n",
       "<table border=\"1\" class=\"dataframe\">\n",
       "  <thead>\n",
       "    <tr style=\"text-align: right;\">\n",
       "      <th></th>\n",
       "      <th>DAY_OF_WEEK</th>\n",
       "      <th>DEP_DEL15</th>\n",
       "      <th>DISTANCE_GROUP</th>\n",
       "      <th>DEP_BLOCK</th>\n",
       "      <th>SEGMENT_NUMBER</th>\n",
       "      <th>CARRIER_NAME</th>\n",
       "      <th>AIRLINE_AIRPORT_FLIGHTS_MONTH</th>\n",
       "      <th>PLANE_AGE</th>\n",
       "      <th>DEPARTING_AIRPORT</th>\n",
       "      <th>PREVIOUS_AIRPORT</th>\n",
       "      <th>PRCP</th>\n",
       "      <th>SNOW</th>\n",
       "      <th>SNWD</th>\n",
       "      <th>TMAX</th>\n",
       "      <th>AWND</th>\n",
       "    </tr>\n",
       "  </thead>\n",
       "  <tbody>\n",
       "    <tr>\n",
       "      <th>0</th>\n",
       "      <td>3</td>\n",
       "      <td>0</td>\n",
       "      <td>5</td>\n",
       "      <td>5</td>\n",
       "      <td>1</td>\n",
       "      <td>15</td>\n",
       "      <td>361</td>\n",
       "      <td>19</td>\n",
       "      <td>0</td>\n",
       "      <td>178</td>\n",
       "      <td>0.0</td>\n",
       "      <td>0.0</td>\n",
       "      <td>0.0</td>\n",
       "      <td>72.0</td>\n",
       "      <td>4.47</td>\n",
       "    </tr>\n",
       "    <tr>\n",
       "      <th>1</th>\n",
       "      <td>3</td>\n",
       "      <td>0</td>\n",
       "      <td>3</td>\n",
       "      <td>5</td>\n",
       "      <td>1</td>\n",
       "      <td>15</td>\n",
       "      <td>361</td>\n",
       "      <td>22</td>\n",
       "      <td>0</td>\n",
       "      <td>178</td>\n",
       "      <td>0.0</td>\n",
       "      <td>0.0</td>\n",
       "      <td>0.0</td>\n",
       "      <td>72.0</td>\n",
       "      <td>4.47</td>\n",
       "    </tr>\n",
       "    <tr>\n",
       "      <th>2</th>\n",
       "      <td>3</td>\n",
       "      <td>0</td>\n",
       "      <td>9</td>\n",
       "      <td>5</td>\n",
       "      <td>1</td>\n",
       "      <td>15</td>\n",
       "      <td>361</td>\n",
       "      <td>24</td>\n",
       "      <td>0</td>\n",
       "      <td>178</td>\n",
       "      <td>0.0</td>\n",
       "      <td>0.0</td>\n",
       "      <td>0.0</td>\n",
       "      <td>72.0</td>\n",
       "      <td>4.47</td>\n",
       "    </tr>\n",
       "    <tr>\n",
       "      <th>3</th>\n",
       "      <td>3</td>\n",
       "      <td>0</td>\n",
       "      <td>1</td>\n",
       "      <td>1</td>\n",
       "      <td>1</td>\n",
       "      <td>2</td>\n",
       "      <td>892</td>\n",
       "      <td>20</td>\n",
       "      <td>0</td>\n",
       "      <td>178</td>\n",
       "      <td>0.0</td>\n",
       "      <td>0.0</td>\n",
       "      <td>0.0</td>\n",
       "      <td>72.0</td>\n",
       "      <td>4.47</td>\n",
       "    </tr>\n",
       "    <tr>\n",
       "      <th>4</th>\n",
       "      <td>3</td>\n",
       "      <td>0</td>\n",
       "      <td>2</td>\n",
       "      <td>5</td>\n",
       "      <td>1</td>\n",
       "      <td>12</td>\n",
       "      <td>2048</td>\n",
       "      <td>21</td>\n",
       "      <td>0</td>\n",
       "      <td>178</td>\n",
       "      <td>0.0</td>\n",
       "      <td>0.0</td>\n",
       "      <td>0.0</td>\n",
       "      <td>72.0</td>\n",
       "      <td>4.47</td>\n",
       "    </tr>\n",
       "  </tbody>\n",
       "</table>\n",
       "</div>"
      ],
      "text/plain": [
       "   DAY_OF_WEEK  DEP_DEL15  DISTANCE_GROUP  DEP_BLOCK  SEGMENT_NUMBER  \\\n",
       "0            3          0               5          5               1   \n",
       "1            3          0               3          5               1   \n",
       "2            3          0               9          5               1   \n",
       "3            3          0               1          1               1   \n",
       "4            3          0               2          5               1   \n",
       "\n",
       "   CARRIER_NAME  AIRLINE_AIRPORT_FLIGHTS_MONTH  PLANE_AGE  DEPARTING_AIRPORT  \\\n",
       "0            15                            361         19                  0   \n",
       "1            15                            361         22                  0   \n",
       "2            15                            361         24                  0   \n",
       "3             2                            892         20                  0   \n",
       "4            12                           2048         21                  0   \n",
       "\n",
       "   PREVIOUS_AIRPORT  PRCP  SNOW  SNWD  TMAX  AWND  \n",
       "0               178   0.0   0.0   0.0  72.0  4.47  \n",
       "1               178   0.0   0.0   0.0  72.0  4.47  \n",
       "2               178   0.0   0.0   0.0  72.0  4.47  \n",
       "3               178   0.0   0.0   0.0  72.0  4.47  \n",
       "4               178   0.0   0.0   0.0  72.0  4.47  "
      ]
     },
     "execution_count": 7,
     "metadata": {},
     "output_type": "execute_result"
    }
   ],
   "source": [
    "data.head()"
   ]
  },
  {
   "cell_type": "markdown",
   "id": "eb299239",
   "metadata": {},
   "source": [
    "## Transform Data"
   ]
  },
  {
   "cell_type": "markdown",
   "id": "af51418d",
   "metadata": {},
   "source": [
    "## Split Data"
   ]
  },
  {
   "cell_type": "code",
   "execution_count": 8,
   "id": "8e86e0a9",
   "metadata": {
    "ExecuteTime": {
     "end_time": "2021-12-19T16:38:30.112999Z",
     "start_time": "2021-12-19T16:38:30.071001Z"
    }
   },
   "outputs": [
    {
     "data": {
      "text/html": [
       "<div>\n",
       "<style scoped>\n",
       "    .dataframe tbody tr th:only-of-type {\n",
       "        vertical-align: middle;\n",
       "    }\n",
       "\n",
       "    .dataframe tbody tr th {\n",
       "        vertical-align: top;\n",
       "    }\n",
       "\n",
       "    .dataframe thead th {\n",
       "        text-align: right;\n",
       "    }\n",
       "</style>\n",
       "<table border=\"1\" class=\"dataframe\">\n",
       "  <thead>\n",
       "    <tr style=\"text-align: right;\">\n",
       "      <th></th>\n",
       "      <th>DAY_OF_WEEK</th>\n",
       "      <th>DISTANCE_GROUP</th>\n",
       "      <th>DEP_BLOCK</th>\n",
       "      <th>SEGMENT_NUMBER</th>\n",
       "      <th>CARRIER_NAME</th>\n",
       "      <th>AIRLINE_AIRPORT_FLIGHTS_MONTH</th>\n",
       "      <th>PLANE_AGE</th>\n",
       "      <th>DEPARTING_AIRPORT</th>\n",
       "      <th>PREVIOUS_AIRPORT</th>\n",
       "      <th>PRCP</th>\n",
       "      <th>SNOW</th>\n",
       "      <th>SNWD</th>\n",
       "      <th>TMAX</th>\n",
       "      <th>AWND</th>\n",
       "    </tr>\n",
       "  </thead>\n",
       "  <tbody>\n",
       "    <tr>\n",
       "      <th>0</th>\n",
       "      <td>3</td>\n",
       "      <td>5</td>\n",
       "      <td>5</td>\n",
       "      <td>1</td>\n",
       "      <td>15</td>\n",
       "      <td>361</td>\n",
       "      <td>19</td>\n",
       "      <td>0</td>\n",
       "      <td>178</td>\n",
       "      <td>0.0</td>\n",
       "      <td>0.0</td>\n",
       "      <td>0.0</td>\n",
       "      <td>72.0</td>\n",
       "      <td>4.47</td>\n",
       "    </tr>\n",
       "    <tr>\n",
       "      <th>1</th>\n",
       "      <td>3</td>\n",
       "      <td>3</td>\n",
       "      <td>5</td>\n",
       "      <td>1</td>\n",
       "      <td>15</td>\n",
       "      <td>361</td>\n",
       "      <td>22</td>\n",
       "      <td>0</td>\n",
       "      <td>178</td>\n",
       "      <td>0.0</td>\n",
       "      <td>0.0</td>\n",
       "      <td>0.0</td>\n",
       "      <td>72.0</td>\n",
       "      <td>4.47</td>\n",
       "    </tr>\n",
       "    <tr>\n",
       "      <th>2</th>\n",
       "      <td>3</td>\n",
       "      <td>9</td>\n",
       "      <td>5</td>\n",
       "      <td>1</td>\n",
       "      <td>15</td>\n",
       "      <td>361</td>\n",
       "      <td>24</td>\n",
       "      <td>0</td>\n",
       "      <td>178</td>\n",
       "      <td>0.0</td>\n",
       "      <td>0.0</td>\n",
       "      <td>0.0</td>\n",
       "      <td>72.0</td>\n",
       "      <td>4.47</td>\n",
       "    </tr>\n",
       "    <tr>\n",
       "      <th>3</th>\n",
       "      <td>3</td>\n",
       "      <td>1</td>\n",
       "      <td>1</td>\n",
       "      <td>1</td>\n",
       "      <td>2</td>\n",
       "      <td>892</td>\n",
       "      <td>20</td>\n",
       "      <td>0</td>\n",
       "      <td>178</td>\n",
       "      <td>0.0</td>\n",
       "      <td>0.0</td>\n",
       "      <td>0.0</td>\n",
       "      <td>72.0</td>\n",
       "      <td>4.47</td>\n",
       "    </tr>\n",
       "    <tr>\n",
       "      <th>4</th>\n",
       "      <td>3</td>\n",
       "      <td>2</td>\n",
       "      <td>5</td>\n",
       "      <td>1</td>\n",
       "      <td>12</td>\n",
       "      <td>2048</td>\n",
       "      <td>21</td>\n",
       "      <td>0</td>\n",
       "      <td>178</td>\n",
       "      <td>0.0</td>\n",
       "      <td>0.0</td>\n",
       "      <td>0.0</td>\n",
       "      <td>72.0</td>\n",
       "      <td>4.47</td>\n",
       "    </tr>\n",
       "  </tbody>\n",
       "</table>\n",
       "</div>"
      ],
      "text/plain": [
       "   DAY_OF_WEEK  DISTANCE_GROUP  DEP_BLOCK  SEGMENT_NUMBER  CARRIER_NAME  \\\n",
       "0            3               5          5               1            15   \n",
       "1            3               3          5               1            15   \n",
       "2            3               9          5               1            15   \n",
       "3            3               1          1               1             2   \n",
       "4            3               2          5               1            12   \n",
       "\n",
       "   AIRLINE_AIRPORT_FLIGHTS_MONTH  PLANE_AGE  DEPARTING_AIRPORT  \\\n",
       "0                            361         19                  0   \n",
       "1                            361         22                  0   \n",
       "2                            361         24                  0   \n",
       "3                            892         20                  0   \n",
       "4                           2048         21                  0   \n",
       "\n",
       "   PREVIOUS_AIRPORT  PRCP  SNOW  SNWD  TMAX  AWND  \n",
       "0               178   0.0   0.0   0.0  72.0  4.47  \n",
       "1               178   0.0   0.0   0.0  72.0  4.47  \n",
       "2               178   0.0   0.0   0.0  72.0  4.47  \n",
       "3               178   0.0   0.0   0.0  72.0  4.47  \n",
       "4               178   0.0   0.0   0.0  72.0  4.47  "
      ]
     },
     "execution_count": 8,
     "metadata": {},
     "output_type": "execute_result"
    }
   ],
   "source": [
    "# data_feat yang khusus hanya akan berisi nilai-nilai atribut/fitur/variabel saja.\n",
    "# data_target yang khusus hanya akan berisi label/kelas/target \n",
    "df_feat = data.drop('DEP_DEL15',axis=1) \n",
    "df_feat.head()"
   ]
  },
  {
   "cell_type": "code",
   "execution_count": 9,
   "id": "15822e95",
   "metadata": {
    "ExecuteTime": {
     "end_time": "2021-12-19T16:38:30.128000Z",
     "start_time": "2021-12-19T16:38:30.117001Z"
    }
   },
   "outputs": [
    {
     "data": {
      "text/plain": [
       "0    0\n",
       "1    0\n",
       "2    0\n",
       "3    0\n",
       "4    0\n",
       "Name: DEP_DEL15, dtype: int64"
      ]
     },
     "execution_count": 9,
     "metadata": {},
     "output_type": "execute_result"
    }
   ],
   "source": [
    "# df_target yang khusus hanya akan berisi label/kelas/target, yaitu apakah positif kanker ganas atau tidak\n",
    "df_target = data['DEP_DEL15'] \n",
    "df_target.head()"
   ]
  },
  {
   "cell_type": "code",
   "execution_count": 10,
   "id": "87f99ee8",
   "metadata": {
    "ExecuteTime": {
     "end_time": "2021-12-19T16:38:30.174000Z",
     "start_time": "2021-12-19T16:38:30.131000Z"
    }
   },
   "outputs": [
    {
     "name": "stdout",
     "output_type": "stream",
     "text": [
      "Jumlah Training Data :  83811  | Jumlah Test Data :  35920\n"
     ]
    }
   ],
   "source": [
    "X_train, X_test, y_train, y_test = train_test_split(df_feat, df_target, test_size=0.30, random_state=0)\n",
    "print(\"Jumlah Training Data : \", len(X_train), \" | Jumlah Test Data : \", len(X_test))"
   ]
  },
  {
   "cell_type": "markdown",
   "id": "e15f5fff",
   "metadata": {},
   "source": [
    "## Oversampling Data"
   ]
  },
  {
   "cell_type": "code",
   "execution_count": 11,
   "id": "fe53a82b",
   "metadata": {
    "ExecuteTime": {
     "end_time": "2021-12-19T16:38:30.500002Z",
     "start_time": "2021-12-19T16:38:30.178000Z"
    }
   },
   "outputs": [
    {
     "data": {
      "text/plain": [
       "0    71137\n",
       "1    71137\n",
       "Name: DEP_DEL15, dtype: int64"
      ]
     },
     "execution_count": 11,
     "metadata": {},
     "output_type": "execute_result"
    }
   ],
   "source": [
    "oversample = imblearn.over_sampling.SMOTE()\n",
    "X_train, y_train = oversample.fit_resample(X_train, y_train)\n",
    "y_train.value_counts()"
   ]
  },
  {
   "cell_type": "markdown",
   "id": "b331fd46",
   "metadata": {},
   "source": [
    "## Standardized data"
   ]
  },
  {
   "cell_type": "code",
   "execution_count": 12,
   "id": "db28591f",
   "metadata": {
    "ExecuteTime": {
     "end_time": "2021-12-19T16:38:30.608999Z",
     "start_time": "2021-12-19T16:38:30.503001Z"
    }
   },
   "outputs": [
    {
     "data": {
      "text/plain": [
       "array([[ 0.60100098,  0.98880768, -1.37136243, ..., -0.33473669,\n",
       "         0.30562724,  1.86261095],\n",
       "       [ 0.05142895, -1.23666559, -1.37136243, ..., -0.33473669,\n",
       "        -0.03466208, -0.91025487],\n",
       "       [ 0.05142895,  0.43243936,  0.35873311, ..., -0.33473669,\n",
       "        -0.11973441, -0.64743798],\n",
       "       ...,\n",
       "       [ 1.70014504, -1.23666559,  1.51213014, ..., -0.33473669,\n",
       "         0.39069958,  0.3447696 ],\n",
       "       [ 0.60100098, -1.23666559, -0.2179654 , ..., -0.33473669,\n",
       "         0.30562724, -0.97817384],\n",
       "       [-1.04771511, -0.68029727, -1.37136243, ..., -0.33473669,\n",
       "        -0.8853854 ,  0.27685063]])"
      ]
     },
     "execution_count": 12,
     "metadata": {},
     "output_type": "execute_result"
    }
   ],
   "source": [
    "from sklearn.preprocessing import StandardScaler\n",
    "\n",
    "StdScaler = StandardScaler()\n",
    "X_train_scaled = StdScaler.fit_transform(X_train)\n",
    "X_test_scaled = StdScaler.transform(X_test)\n",
    "X_test_scaled"
   ]
  },
  {
   "cell_type": "markdown",
   "id": "2d77e446",
   "metadata": {},
   "source": [
    "# Modelling"
   ]
  },
  {
   "cell_type": "markdown",
   "id": "4cf77dba",
   "metadata": {},
   "source": [
    "## Neural Network"
   ]
  },
  {
   "cell_type": "code",
   "execution_count": 13,
   "id": "452887d2",
   "metadata": {
    "ExecuteTime": {
     "end_time": "2021-12-19T16:42:32.309205Z",
     "start_time": "2021-12-19T16:38:30.611000Z"
    },
    "scrolled": false
   },
   "outputs": [
    {
     "name": "stderr",
     "output_type": "stream",
     "text": [
      "C:\\ProgramData\\Anaconda3\\lib\\site-packages\\sklearn\\neural_network\\_multilayer_perceptron.py:692: ConvergenceWarning: Stochastic Optimizer: Maximum iterations (200) reached and the optimization hasn't converged yet.\n",
      "  warnings.warn(\n"
     ]
    },
    {
     "name": "stdout",
     "output_type": "stream",
     "text": [
      "Accuracy of NN classifier on training set: 0.84\n",
      "Accuracy of NN classifier on test set: 0.79\n",
      "              precision    recall  f1-score   support\n",
      "\n",
      "           0       0.88      0.88      0.88     30535\n",
      "           1       0.30      0.29      0.30      5385\n",
      "\n",
      "    accuracy                           0.79     35920\n",
      "   macro avg       0.59      0.59      0.59     35920\n",
      "weighted avg       0.79      0.79      0.79     35920\n",
      "\n"
     ]
    }
   ],
   "source": [
    "clf = MLPClassifier(hidden_layer_sizes = (50,50,50),\n",
    "                    random_state = 0, activation = \"relu\",\n",
    "                    solver = \"adam\")\n",
    "clf.fit(X_train_scaled, y_train)\n",
    "clf.get_params()\n",
    "print('Accuracy of NN classifier on training set: {:.2f}'\n",
    "     .format(clf.score(X_train_scaled, y_train)))\n",
    "print('Accuracy of NN classifier on test set: {:.2f}'\n",
    "     .format(clf.score(X_test_scaled, y_test)))\n",
    "y_pred = clf.predict(X_test_scaled)\n",
    "print(classification_report(y_test, y_pred))"
   ]
  },
  {
   "cell_type": "code",
   "execution_count": 14,
   "id": "cf9c5fb5",
   "metadata": {
    "ExecuteTime": {
     "end_time": "2021-12-19T16:44:25.448238Z",
     "start_time": "2021-12-19T16:42:32.311207Z"
    }
   },
   "outputs": [
    {
     "name": "stderr",
     "output_type": "stream",
     "text": [
      "C:\\ProgramData\\Anaconda3\\lib\\site-packages\\sklearn\\neural_network\\_multilayer_perceptron.py:692: ConvergenceWarning: Stochastic Optimizer: Maximum iterations (200) reached and the optimization hasn't converged yet.\n",
      "  warnings.warn(\n"
     ]
    },
    {
     "name": "stdout",
     "output_type": "stream",
     "text": [
      "Accuracy of NN classifier on training set: 0.75\n",
      "Accuracy of NN classifier on test set: 0.70\n",
      "              precision    recall  f1-score   support\n",
      "\n",
      "           0       0.88      0.75      0.81     30535\n",
      "           1       0.24      0.45      0.31      5385\n",
      "\n",
      "    accuracy                           0.70     35920\n",
      "   macro avg       0.56      0.60      0.56     35920\n",
      "weighted avg       0.79      0.70      0.73     35920\n",
      "\n"
     ]
    }
   ],
   "source": [
    "clf = MLPClassifier(hidden_layer_sizes = [8,20], random_state = 0,\n",
    "                    activation = \"tanh\", solver = \"adam\")\n",
    "clf.fit(X_train_scaled, y_train)\n",
    "clf.get_params()\n",
    "print('Accuracy of NN classifier on training set: {:.2f}'\n",
    "     .format(clf.score(X_train_scaled, y_train)))\n",
    "print('Accuracy of NN classifier on test set: {:.2f}'\n",
    "     .format(clf.score(X_test_scaled, y_test)))\n",
    "y_pred = clf.predict(X_test_scaled)\n",
    "print(classification_report(y_test, y_pred))"
   ]
  },
  {
   "cell_type": "code",
   "execution_count": 15,
   "id": "0294f80c",
   "metadata": {
    "ExecuteTime": {
     "end_time": "2021-12-19T16:44:41.219240Z",
     "start_time": "2021-12-19T16:44:25.451240Z"
    }
   },
   "outputs": [
    {
     "name": "stdout",
     "output_type": "stream",
     "text": [
      "Accuracy of NN classifier on training set: 0.62\n",
      "Accuracy of NN classifier on test set: 0.62\n",
      "              precision    recall  f1-score   support\n",
      "\n",
      "           0       0.88      0.65      0.74     30535\n",
      "           1       0.20      0.49      0.28      5385\n",
      "\n",
      "    accuracy                           0.62     35920\n",
      "   macro avg       0.54      0.57      0.51     35920\n",
      "weighted avg       0.78      0.62      0.67     35920\n",
      "\n"
     ]
    }
   ],
   "source": [
    "clf = MLPClassifier(hidden_layer_sizes = (50,50,50), random_state = 0,\n",
    "                    activation = \"identity\", solver = \"adam\")\n",
    "clf.fit(X_train_scaled, y_train)\n",
    "clf.get_params()\n",
    "print('Accuracy of NN classifier on training set: {:.2f}'\n",
    "     .format(clf.score(X_train_scaled, y_train)))\n",
    "print('Accuracy of NN classifier on test set: {:.2f}'\n",
    "     .format(clf.score(X_test_scaled, y_test)))\n",
    "y_pred = clf.predict(X_test_scaled)\n",
    "print(classification_report(y_test, y_pred))"
   ]
  },
  {
   "cell_type": "code",
   "execution_count": 18,
   "id": "19b26c81",
   "metadata": {
    "ExecuteTime": {
     "end_time": "2021-12-19T16:56:57.990433Z",
     "start_time": "2021-12-19T16:50:48.578897Z"
    }
   },
   "outputs": [
    {
     "name": "stderr",
     "output_type": "stream",
     "text": [
      "C:\\ProgramData\\Anaconda3\\lib\\site-packages\\sklearn\\neural_network\\_multilayer_perceptron.py:692: ConvergenceWarning: Stochastic Optimizer: Maximum iterations (200) reached and the optimization hasn't converged yet.\n",
      "  warnings.warn(\n"
     ]
    },
    {
     "name": "stdout",
     "output_type": "stream",
     "text": [
      "Accuracy of NN classifier on training set: 0.83\n",
      "Accuracy of NN classifier on test set: 0.79\n",
      "              precision    recall  f1-score   support\n",
      "\n",
      "           0       0.88      0.87      0.88     30535\n",
      "           1       0.30      0.31      0.31      5385\n",
      "\n",
      "    accuracy                           0.79     35920\n",
      "   macro avg       0.59      0.59      0.59     35920\n",
      "weighted avg       0.79      0.79      0.79     35920\n",
      "\n"
     ]
    }
   ],
   "source": [
    "clf = MLPClassifier(hidden_layer_sizes = (100,100,100,100,100),\n",
    "                    random_state = 0, activation = \"logistic\",\n",
    "                    solver = \"adam\")\n",
    "clf.fit(X_train_scaled, y_train)\n",
    "clf.get_params()\n",
    "print('Accuracy of NN classifier on training set: {:.2f}'\n",
    "     .format(clf.score(X_train_scaled, y_train)))\n",
    "print('Accuracy of NN classifier on test set: {:.2f}'\n",
    "     .format(clf.score(X_test_scaled, y_test)))\n",
    "y_pred = clf.predict(X_test_scaled)\n",
    "print(classification_report(y_test, y_pred))"
   ]
  },
  {
   "cell_type": "code",
   "execution_count": 19,
   "id": "8dcf2bfb",
   "metadata": {
    "ExecuteTime": {
     "end_time": "2021-12-19T17:03:30.281432Z",
     "start_time": "2021-12-19T16:56:57.992433Z"
    }
   },
   "outputs": [
    {
     "name": "stderr",
     "output_type": "stream",
     "text": [
      "C:\\ProgramData\\Anaconda3\\lib\\site-packages\\sklearn\\neural_network\\_multilayer_perceptron.py:692: ConvergenceWarning: Stochastic Optimizer: Maximum iterations (200) reached and the optimization hasn't converged yet.\n",
      "  warnings.warn(\n"
     ]
    },
    {
     "name": "stdout",
     "output_type": "stream",
     "text": [
      "Accuracy of NN classifier on training set: 0.94\n",
      "Accuracy of NN classifier on test set: 0.74\n",
      "              precision    recall  f1-score   support\n",
      "\n",
      "           0       0.88      0.81      0.84     30535\n",
      "           1       0.24      0.34      0.29      5385\n",
      "\n",
      "    accuracy                           0.74     35920\n",
      "   macro avg       0.56      0.58      0.56     35920\n",
      "weighted avg       0.78      0.74      0.76     35920\n",
      "\n"
     ]
    }
   ],
   "source": [
    "clf = MLPClassifier(hidden_layer_sizes = (100,100,100,100,100),\n",
    "                    random_state = 0, activation = \"relu\", solver = \"adam\")\n",
    "clf.fit(X_train_scaled, y_train)\n",
    "clf.get_params()\n",
    "print('Accuracy of NN classifier on training set: {:.2f}'\n",
    "     .format(clf.score(X_train_scaled, y_train)))\n",
    "print('Accuracy of NN classifier on test set: {:.2f}'\n",
    "     .format(clf.score(X_test_scaled, y_test)))\n",
    "y_pred = clf.predict(X_test_scaled)\n",
    "print(classification_report(y_test, y_pred))"
   ]
  },
  {
   "cell_type": "code",
   "execution_count": 20,
   "id": "bf0036ba",
   "metadata": {
    "ExecuteTime": {
     "end_time": "2021-12-19T17:09:55.559084Z",
     "start_time": "2021-12-19T17:03:30.282436Z"
    }
   },
   "outputs": [
    {
     "name": "stderr",
     "output_type": "stream",
     "text": [
      "C:\\ProgramData\\Anaconda3\\lib\\site-packages\\sklearn\\neural_network\\_multilayer_perceptron.py:692: ConvergenceWarning: Stochastic Optimizer: Maximum iterations (200) reached and the optimization hasn't converged yet.\n",
      "  warnings.warn(\n"
     ]
    },
    {
     "name": "stdout",
     "output_type": "stream",
     "text": [
      "Accuracy of NN classifier on training set: 0.86\n",
      "Accuracy of NN classifier on test set: 0.80\n",
      "              precision    recall  f1-score   support\n",
      "\n",
      "           0       0.87      0.90      0.88     30535\n",
      "           1       0.30      0.25      0.27      5385\n",
      "\n",
      "    accuracy                           0.80     35920\n",
      "   macro avg       0.59      0.57      0.58     35920\n",
      "weighted avg       0.79      0.80      0.79     35920\n",
      "\n"
     ]
    }
   ],
   "source": [
    "clf = MLPClassifier(hidden_layer_sizes = (100,100,100,100,100),\n",
    "                    random_state = 0, activation = \"relu\", solver = \"sgd\")\n",
    "clf.fit(X_train_scaled, y_train)\n",
    "clf.get_params()\n",
    "print('Accuracy of NN classifier on training set: {:.2f}'\n",
    "     .format(clf.score(X_train_scaled, y_train)))\n",
    "print('Accuracy of NN classifier on test set: {:.2f}'\n",
    "     .format(clf.score(X_test_scaled, y_test)))\n",
    "y_pred = clf.predict(X_test_scaled)\n",
    "print(classification_report(y_test, y_pred))"
   ]
  },
  {
   "cell_type": "code",
   "execution_count": 21,
   "id": "422b36a3",
   "metadata": {
    "ExecuteTime": {
     "end_time": "2021-12-19T17:16:35.716267Z",
     "start_time": "2021-12-19T17:09:55.560087Z"
    }
   },
   "outputs": [
    {
     "name": "stderr",
     "output_type": "stream",
     "text": [
      "C:\\ProgramData\\Anaconda3\\lib\\site-packages\\sklearn\\neural_network\\_multilayer_perceptron.py:692: ConvergenceWarning: Stochastic Optimizer: Maximum iterations (200) reached and the optimization hasn't converged yet.\n",
      "  warnings.warn(\n"
     ]
    },
    {
     "name": "stdout",
     "output_type": "stream",
     "text": [
      "Accuracy of NN classifier on training set: 0.94\n",
      "Accuracy of NN classifier on test set: 0.74\n",
      "              precision    recall  f1-score   support\n",
      "\n",
      "           0       0.88      0.81      0.84     30535\n",
      "           1       0.24      0.34      0.29      5385\n",
      "\n",
      "    accuracy                           0.74     35920\n",
      "   macro avg       0.56      0.58      0.56     35920\n",
      "weighted avg       0.78      0.74      0.76     35920\n",
      "\n"
     ]
    }
   ],
   "source": [
    "clf = MLPClassifier(hidden_layer_sizes = (100,100,100,100,100),\n",
    "                    random_state = 0, activation = \"relu\", solver = \"adam\",\n",
    "                    learning_rate =\"adaptive\")\n",
    "clf.fit(X_train_scaled, y_train)\n",
    "clf.get_params()\n",
    "print('Accuracy of NN classifier on training set: {:.2f}'\n",
    "     .format(clf.score(X_train_scaled, y_train)))\n",
    "print('Accuracy of NN classifier on test set: {:.2f}'\n",
    "     .format(clf.score(X_test_scaled, y_test)))\n",
    "y_pred = clf.predict(X_test_scaled)\n",
    "print(classification_report(y_test, y_pred))"
   ]
  },
  {
   "cell_type": "code",
   "execution_count": null,
   "id": "37d1acf2",
   "metadata": {},
   "outputs": [],
   "source": []
  }
 ],
 "metadata": {
  "kernelspec": {
   "display_name": "Python 3 (ipykernel)",
   "language": "python",
   "name": "python3"
  },
  "language_info": {
   "codemirror_mode": {
    "name": "ipython",
    "version": 3
   },
   "file_extension": ".py",
   "mimetype": "text/x-python",
   "name": "python",
   "nbconvert_exporter": "python",
   "pygments_lexer": "ipython3",
   "version": "3.8.12"
  },
  "toc": {
   "base_numbering": 1,
   "nav_menu": {},
   "number_sections": true,
   "sideBar": true,
   "skip_h1_title": false,
   "title_cell": "Table of Contents",
   "title_sidebar": "Contents",
   "toc_cell": false,
   "toc_position": {},
   "toc_section_display": true,
   "toc_window_display": false
  }
 },
 "nbformat": 4,
 "nbformat_minor": 5
}
