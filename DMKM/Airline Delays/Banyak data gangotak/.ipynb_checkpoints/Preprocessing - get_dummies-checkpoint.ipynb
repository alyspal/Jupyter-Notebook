{
 "cells": [
  {
   "cell_type": "markdown",
   "id": "0c4efddf",
   "metadata": {},
   "source": [
    "# Input packages and datasets"
   ]
  },
  {
   "cell_type": "code",
   "execution_count": 1,
   "id": "2fef1688",
   "metadata": {
    "ExecuteTime": {
     "end_time": "2021-12-19T12:34:44.500060Z",
     "start_time": "2021-12-19T12:34:39.319388Z"
    }
   },
   "outputs": [],
   "source": [
    "import pandas as pd\n",
    "import numpy as np\n",
    "import seaborn as sns\n",
    "import matplotlib.pyplot as plt\n",
    "import imblearn\n",
    "\n",
    "from sklearn import preprocessing, svm, neighbors, datasets, model_selection, metrics\n",
    "from sklearn.svm import SVC, NuSVC\n",
    "from sklearn.naive_bayes import GaussianNB, MultinomialNB\n",
    "from sklearn.linear_model import LinearRegression, LogisticRegression\n",
    "from sklearn.model_selection import train_test_split, GridSearchCV\n",
    "from sklearn.metrics import classification_report,accuracy_score\n",
    "from sklearn.ensemble import AdaBoostClassifier,GradientBoostingClassifier,RandomForestClassifier"
   ]
  },
  {
   "cell_type": "code",
   "execution_count": 2,
   "id": "68ad5379",
   "metadata": {
    "ExecuteTime": {
     "end_time": "2021-12-19T12:34:45.702458Z",
     "start_time": "2021-12-19T12:34:44.506791Z"
    }
   },
   "outputs": [],
   "source": [
    "data = pd.read_csv('busiest_airport_airline_delays.csv')"
   ]
  },
  {
   "cell_type": "markdown",
   "id": "01349536",
   "metadata": {},
   "source": [
    "# Preprocessing"
   ]
  },
  {
   "cell_type": "code",
   "execution_count": 3,
   "id": "c2932e7b",
   "metadata": {
    "ExecuteTime": {
     "end_time": "2021-12-19T12:34:45.869080Z",
     "start_time": "2021-12-19T12:34:45.705460Z"
    }
   },
   "outputs": [
    {
     "data": {
      "text/html": [
       "<div>\n",
       "<style scoped>\n",
       "    .dataframe tbody tr th:only-of-type {\n",
       "        vertical-align: middle;\n",
       "    }\n",
       "\n",
       "    .dataframe tbody tr th {\n",
       "        vertical-align: top;\n",
       "    }\n",
       "\n",
       "    .dataframe thead th {\n",
       "        text-align: right;\n",
       "    }\n",
       "</style>\n",
       "<table border=\"1\" class=\"dataframe\">\n",
       "  <thead>\n",
       "    <tr style=\"text-align: right;\">\n",
       "      <th></th>\n",
       "      <th>DAY_OF_WEEK</th>\n",
       "      <th>DEP_DEL15</th>\n",
       "      <th>DISTANCE_GROUP</th>\n",
       "      <th>DEP_BLOCK</th>\n",
       "      <th>SEGMENT_NUMBER</th>\n",
       "      <th>CONCURRENT_FLIGHTS</th>\n",
       "      <th>NUMBER_OF_SEATS</th>\n",
       "      <th>CARRIER_NAME</th>\n",
       "      <th>AIRPORT_FLIGHTS_MONTH</th>\n",
       "      <th>AIRLINE_FLIGHTS_MONTH</th>\n",
       "      <th>...</th>\n",
       "      <th>PLANE_AGE</th>\n",
       "      <th>DEPARTING_AIRPORT</th>\n",
       "      <th>LATITUDE</th>\n",
       "      <th>LONGITUDE</th>\n",
       "      <th>PREVIOUS_AIRPORT</th>\n",
       "      <th>PRCP</th>\n",
       "      <th>SNOW</th>\n",
       "      <th>SNWD</th>\n",
       "      <th>TMAX</th>\n",
       "      <th>AWND</th>\n",
       "    </tr>\n",
       "  </thead>\n",
       "  <tbody>\n",
       "    <tr>\n",
       "      <th>0</th>\n",
       "      <td>3</td>\n",
       "      <td>0</td>\n",
       "      <td>5</td>\n",
       "      <td>MORNING</td>\n",
       "      <td>1</td>\n",
       "      <td>229</td>\n",
       "      <td>142</td>\n",
       "      <td>United Air Lines Inc.</td>\n",
       "      <td>32102</td>\n",
       "      <td>48104</td>\n",
       "      <td>...</td>\n",
       "      <td>19</td>\n",
       "      <td>Atlanta Municipal</td>\n",
       "      <td>33.641</td>\n",
       "      <td>-84.427</td>\n",
       "      <td>NONE</td>\n",
       "      <td>0.0</td>\n",
       "      <td>0.0</td>\n",
       "      <td>0.0</td>\n",
       "      <td>72.0</td>\n",
       "      <td>4.47</td>\n",
       "    </tr>\n",
       "    <tr>\n",
       "      <th>1</th>\n",
       "      <td>3</td>\n",
       "      <td>0</td>\n",
       "      <td>3</td>\n",
       "      <td>MORNING</td>\n",
       "      <td>1</td>\n",
       "      <td>229</td>\n",
       "      <td>120</td>\n",
       "      <td>United Air Lines Inc.</td>\n",
       "      <td>32102</td>\n",
       "      <td>48104</td>\n",
       "      <td>...</td>\n",
       "      <td>22</td>\n",
       "      <td>Atlanta Municipal</td>\n",
       "      <td>33.641</td>\n",
       "      <td>-84.427</td>\n",
       "      <td>NONE</td>\n",
       "      <td>0.0</td>\n",
       "      <td>0.0</td>\n",
       "      <td>0.0</td>\n",
       "      <td>72.0</td>\n",
       "      <td>4.47</td>\n",
       "    </tr>\n",
       "    <tr>\n",
       "      <th>2</th>\n",
       "      <td>3</td>\n",
       "      <td>0</td>\n",
       "      <td>9</td>\n",
       "      <td>MORNING</td>\n",
       "      <td>1</td>\n",
       "      <td>229</td>\n",
       "      <td>142</td>\n",
       "      <td>United Air Lines Inc.</td>\n",
       "      <td>32102</td>\n",
       "      <td>48104</td>\n",
       "      <td>...</td>\n",
       "      <td>24</td>\n",
       "      <td>Atlanta Municipal</td>\n",
       "      <td>33.641</td>\n",
       "      <td>-84.427</td>\n",
       "      <td>NONE</td>\n",
       "      <td>0.0</td>\n",
       "      <td>0.0</td>\n",
       "      <td>0.0</td>\n",
       "      <td>72.0</td>\n",
       "      <td>4.47</td>\n",
       "    </tr>\n",
       "    <tr>\n",
       "      <th>3</th>\n",
       "      <td>3</td>\n",
       "      <td>0</td>\n",
       "      <td>1</td>\n",
       "      <td>EARLY_MORNING</td>\n",
       "      <td>1</td>\n",
       "      <td>4</td>\n",
       "      <td>128</td>\n",
       "      <td>American Airlines Inc.</td>\n",
       "      <td>32102</td>\n",
       "      <td>75591</td>\n",
       "      <td>...</td>\n",
       "      <td>20</td>\n",
       "      <td>Atlanta Municipal</td>\n",
       "      <td>33.641</td>\n",
       "      <td>-84.427</td>\n",
       "      <td>NONE</td>\n",
       "      <td>0.0</td>\n",
       "      <td>0.0</td>\n",
       "      <td>0.0</td>\n",
       "      <td>72.0</td>\n",
       "      <td>4.47</td>\n",
       "    </tr>\n",
       "    <tr>\n",
       "      <th>4</th>\n",
       "      <td>3</td>\n",
       "      <td>0</td>\n",
       "      <td>2</td>\n",
       "      <td>MORNING</td>\n",
       "      <td>1</td>\n",
       "      <td>229</td>\n",
       "      <td>50</td>\n",
       "      <td>SkyWest Airlines Inc.</td>\n",
       "      <td>32102</td>\n",
       "      <td>69699</td>\n",
       "      <td>...</td>\n",
       "      <td>21</td>\n",
       "      <td>Atlanta Municipal</td>\n",
       "      <td>33.641</td>\n",
       "      <td>-84.427</td>\n",
       "      <td>NONE</td>\n",
       "      <td>0.0</td>\n",
       "      <td>0.0</td>\n",
       "      <td>0.0</td>\n",
       "      <td>72.0</td>\n",
       "      <td>4.47</td>\n",
       "    </tr>\n",
       "  </tbody>\n",
       "</table>\n",
       "<p>5 rows × 25 columns</p>\n",
       "</div>"
      ],
      "text/plain": [
       "   DAY_OF_WEEK  DEP_DEL15  DISTANCE_GROUP      DEP_BLOCK  SEGMENT_NUMBER  \\\n",
       "0            3          0               5        MORNING               1   \n",
       "1            3          0               3        MORNING               1   \n",
       "2            3          0               9        MORNING               1   \n",
       "3            3          0               1  EARLY_MORNING               1   \n",
       "4            3          0               2        MORNING               1   \n",
       "\n",
       "   CONCURRENT_FLIGHTS  NUMBER_OF_SEATS            CARRIER_NAME  \\\n",
       "0                 229              142   United Air Lines Inc.   \n",
       "1                 229              120   United Air Lines Inc.   \n",
       "2                 229              142   United Air Lines Inc.   \n",
       "3                   4              128  American Airlines Inc.   \n",
       "4                 229               50   SkyWest Airlines Inc.   \n",
       "\n",
       "   AIRPORT_FLIGHTS_MONTH  AIRLINE_FLIGHTS_MONTH  ...  PLANE_AGE  \\\n",
       "0                  32102                  48104  ...         19   \n",
       "1                  32102                  48104  ...         22   \n",
       "2                  32102                  48104  ...         24   \n",
       "3                  32102                  75591  ...         20   \n",
       "4                  32102                  69699  ...         21   \n",
       "\n",
       "   DEPARTING_AIRPORT  LATITUDE  LONGITUDE  PREVIOUS_AIRPORT  PRCP SNOW  SNWD  \\\n",
       "0  Atlanta Municipal    33.641    -84.427              NONE   0.0  0.0   0.0   \n",
       "1  Atlanta Municipal    33.641    -84.427              NONE   0.0  0.0   0.0   \n",
       "2  Atlanta Municipal    33.641    -84.427              NONE   0.0  0.0   0.0   \n",
       "3  Atlanta Municipal    33.641    -84.427              NONE   0.0  0.0   0.0   \n",
       "4  Atlanta Municipal    33.641    -84.427              NONE   0.0  0.0   0.0   \n",
       "\n",
       "   TMAX  AWND  \n",
       "0  72.0  4.47  \n",
       "1  72.0  4.47  \n",
       "2  72.0  4.47  \n",
       "3  72.0  4.47  \n",
       "4  72.0  4.47  \n",
       "\n",
       "[5 rows x 25 columns]"
      ]
     },
     "execution_count": 3,
     "metadata": {},
     "output_type": "execute_result"
    }
   ],
   "source": [
    "data.head()"
   ]
  },
  {
   "cell_type": "code",
   "execution_count": 4,
   "id": "86e1c55d",
   "metadata": {
    "ExecuteTime": {
     "end_time": "2021-12-19T12:34:46.578861Z",
     "start_time": "2021-12-19T12:34:45.878509Z"
    }
   },
   "outputs": [
    {
     "data": {
      "image/png": "[encoded data removed]",
      "text/plain": [
       "<Figure size 432x288 with 1 Axes>"
      ]
     },
     "metadata": {},
     "output_type": "display_data"
    }
   ],
   "source": [
    "sns.set_style('whitegrid')\n",
    "sns.countplot(x=data['DEP_DEL15'],data=data)\n",
    "plt.show()"
   ]
  },
  {
   "cell_type": "markdown",
   "id": "b7a55a80",
   "metadata": {},
   "source": [
    "## Data Cleaning"
   ]
  },
  {
   "cell_type": "code",
   "execution_count": 5,
   "id": "9f18ae67",
   "metadata": {
    "ExecuteTime": {
     "end_time": "2021-12-19T12:34:47.033009Z",
     "start_time": "2021-12-19T12:34:46.587566Z"
    }
   },
   "outputs": [
    {
     "data": {
      "text/html": [
       "<div>\n",
       "<style scoped>\n",
       "    .dataframe tbody tr th:only-of-type {\n",
       "        vertical-align: middle;\n",
       "    }\n",
       "\n",
       "    .dataframe tbody tr th {\n",
       "        vertical-align: top;\n",
       "    }\n",
       "\n",
       "    .dataframe thead th {\n",
       "        text-align: right;\n",
       "    }\n",
       "</style>\n",
       "<table border=\"1\" class=\"dataframe\">\n",
       "  <thead>\n",
       "    <tr style=\"text-align: right;\">\n",
       "      <th></th>\n",
       "      <th>DAY_OF_WEEK</th>\n",
       "      <th>DEP_DEL15</th>\n",
       "      <th>DISTANCE_GROUP</th>\n",
       "      <th>DEP_BLOCK</th>\n",
       "      <th>SEGMENT_NUMBER</th>\n",
       "      <th>CARRIER_NAME</th>\n",
       "      <th>AIRLINE_AIRPORT_FLIGHTS_MONTH</th>\n",
       "      <th>PLANE_AGE</th>\n",
       "      <th>DEPARTING_AIRPORT</th>\n",
       "      <th>PREVIOUS_AIRPORT</th>\n",
       "      <th>PRCP</th>\n",
       "      <th>SNOW</th>\n",
       "      <th>SNWD</th>\n",
       "      <th>TMAX</th>\n",
       "      <th>AWND</th>\n",
       "    </tr>\n",
       "  </thead>\n",
       "  <tbody>\n",
       "    <tr>\n",
       "      <th>0</th>\n",
       "      <td>3</td>\n",
       "      <td>0</td>\n",
       "      <td>5</td>\n",
       "      <td>MORNING</td>\n",
       "      <td>1</td>\n",
       "      <td>United Air Lines Inc.</td>\n",
       "      <td>361</td>\n",
       "      <td>19</td>\n",
       "      <td>Atlanta Municipal</td>\n",
       "      <td>NONE</td>\n",
       "      <td>0.0</td>\n",
       "      <td>0.0</td>\n",
       "      <td>0.0</td>\n",
       "      <td>72.0</td>\n",
       "      <td>4.47</td>\n",
       "    </tr>\n",
       "    <tr>\n",
       "      <th>1</th>\n",
       "      <td>3</td>\n",
       "      <td>0</td>\n",
       "      <td>3</td>\n",
       "      <td>MORNING</td>\n",
       "      <td>1</td>\n",
       "      <td>United Air Lines Inc.</td>\n",
       "      <td>361</td>\n",
       "      <td>22</td>\n",
       "      <td>Atlanta Municipal</td>\n",
       "      <td>NONE</td>\n",
       "      <td>0.0</td>\n",
       "      <td>0.0</td>\n",
       "      <td>0.0</td>\n",
       "      <td>72.0</td>\n",
       "      <td>4.47</td>\n",
       "    </tr>\n",
       "    <tr>\n",
       "      <th>2</th>\n",
       "      <td>3</td>\n",
       "      <td>0</td>\n",
       "      <td>9</td>\n",
       "      <td>MORNING</td>\n",
       "      <td>1</td>\n",
       "      <td>United Air Lines Inc.</td>\n",
       "      <td>361</td>\n",
       "      <td>24</td>\n",
       "      <td>Atlanta Municipal</td>\n",
       "      <td>NONE</td>\n",
       "      <td>0.0</td>\n",
       "      <td>0.0</td>\n",
       "      <td>0.0</td>\n",
       "      <td>72.0</td>\n",
       "      <td>4.47</td>\n",
       "    </tr>\n",
       "    <tr>\n",
       "      <th>3</th>\n",
       "      <td>3</td>\n",
       "      <td>0</td>\n",
       "      <td>1</td>\n",
       "      <td>EARLY_MORNING</td>\n",
       "      <td>1</td>\n",
       "      <td>American Airlines Inc.</td>\n",
       "      <td>892</td>\n",
       "      <td>20</td>\n",
       "      <td>Atlanta Municipal</td>\n",
       "      <td>NONE</td>\n",
       "      <td>0.0</td>\n",
       "      <td>0.0</td>\n",
       "      <td>0.0</td>\n",
       "      <td>72.0</td>\n",
       "      <td>4.47</td>\n",
       "    </tr>\n",
       "    <tr>\n",
       "      <th>4</th>\n",
       "      <td>3</td>\n",
       "      <td>0</td>\n",
       "      <td>2</td>\n",
       "      <td>MORNING</td>\n",
       "      <td>1</td>\n",
       "      <td>SkyWest Airlines Inc.</td>\n",
       "      <td>2048</td>\n",
       "      <td>21</td>\n",
       "      <td>Atlanta Municipal</td>\n",
       "      <td>NONE</td>\n",
       "      <td>0.0</td>\n",
       "      <td>0.0</td>\n",
       "      <td>0.0</td>\n",
       "      <td>72.0</td>\n",
       "      <td>4.47</td>\n",
       "    </tr>\n",
       "  </tbody>\n",
       "</table>\n",
       "</div>"
      ],
      "text/plain": [
       "   DAY_OF_WEEK  DEP_DEL15  DISTANCE_GROUP      DEP_BLOCK  SEGMENT_NUMBER  \\\n",
       "0            3          0               5        MORNING               1   \n",
       "1            3          0               3        MORNING               1   \n",
       "2            3          0               9        MORNING               1   \n",
       "3            3          0               1  EARLY_MORNING               1   \n",
       "4            3          0               2        MORNING               1   \n",
       "\n",
       "             CARRIER_NAME  AIRLINE_AIRPORT_FLIGHTS_MONTH  PLANE_AGE  \\\n",
       "0   United Air Lines Inc.                            361         19   \n",
       "1   United Air Lines Inc.                            361         22   \n",
       "2   United Air Lines Inc.                            361         24   \n",
       "3  American Airlines Inc.                            892         20   \n",
       "4   SkyWest Airlines Inc.                           2048         21   \n",
       "\n",
       "   DEPARTING_AIRPORT PREVIOUS_AIRPORT  PRCP  SNOW  SNWD  TMAX  AWND  \n",
       "0  Atlanta Municipal             NONE   0.0   0.0   0.0  72.0  4.47  \n",
       "1  Atlanta Municipal             NONE   0.0   0.0   0.0  72.0  4.47  \n",
       "2  Atlanta Municipal             NONE   0.0   0.0   0.0  72.0  4.47  \n",
       "3  Atlanta Municipal             NONE   0.0   0.0   0.0  72.0  4.47  \n",
       "4  Atlanta Municipal             NONE   0.0   0.0   0.0  72.0  4.47  "
      ]
     },
     "execution_count": 5,
     "metadata": {},
     "output_type": "execute_result"
    }
   ],
   "source": [
    "data = data.drop_duplicates()\n",
    "data = data.drop(columns=['AIRPORT_FLIGHTS_MONTH', 'AVG_MONTHLY_PASS_AIRPORT', 'AIRLINE_FLIGHTS_MONTH',\n",
    "                          'AVG_MONTHLY_PASS_AIRLINE', 'FLT_ATTENDANTS_PER_PASS', 'GROUND_SERV_PER_PASS'])\n",
    "data = data.drop(columns=['LATITUDE','LONGITUDE'])\n",
    "data = data.drop(columns=['CONCURRENT_FLIGHTS', 'NUMBER_OF_SEATS'])\n",
    "data.head()"
   ]
  },
  {
   "cell_type": "markdown",
   "id": "c581d726",
   "metadata": {},
   "source": [
    "## Categorical Data"
   ]
  },
  {
   "cell_type": "code",
   "execution_count": 6,
   "id": "ae76a339",
   "metadata": {
    "ExecuteTime": {
     "end_time": "2021-12-19T12:34:47.715087Z",
     "start_time": "2021-12-19T12:34:47.034018Z"
    }
   },
   "outputs": [],
   "source": [
    "dum_DEP_BLOCK = pd.get_dummies(data['DEP_BLOCK'])\n",
    "dum_CARRIER_NAME = pd.get_dummies(data['CARRIER_NAME'])\n",
    "dum_DEPARTING_AIRPORT = pd.get_dummies(data['DEPARTING_AIRPORT'])\n",
    "dum_PREVIOUS_AIRPORT = pd.get_dummies(data['PREVIOUS_AIRPORT'])"
   ]
  },
  {
   "cell_type": "code",
   "execution_count": 7,
   "id": "bb21222f",
   "metadata": {
    "ExecuteTime": {
     "end_time": "2021-12-19T12:34:47.776972Z",
     "start_time": "2021-12-19T12:34:47.719687Z"
    }
   },
   "outputs": [],
   "source": [
    "data = data.drop(columns=['DEP_BLOCK', 'CARRIER_NAME', 'DEPARTING_AIRPORT', 'PREVIOUS_AIRPORT'])\n",
    "data = pd.concat([data, dum_DEP_BLOCK, dum_CARRIER_NAME, dum_DEPARTING_AIRPORT, dum_PREVIOUS_AIRPORT], axis=1)"
   ]
  },
  {
   "cell_type": "code",
   "execution_count": 8,
   "id": "ca9b39c9",
   "metadata": {
    "ExecuteTime": {
     "end_time": "2021-12-19T12:34:47.840996Z",
     "start_time": "2021-12-19T12:34:47.778314Z"
    }
   },
   "outputs": [
    {
     "data": {
      "text/html": [
       "<div>\n",
       "<style scoped>\n",
       "    .dataframe tbody tr th:only-of-type {\n",
       "        vertical-align: middle;\n",
       "    }\n",
       "\n",
       "    .dataframe tbody tr th {\n",
       "        vertical-align: top;\n",
       "    }\n",
       "\n",
       "    .dataframe thead th {\n",
       "        text-align: right;\n",
       "    }\n",
       "</style>\n",
       "<table border=\"1\" class=\"dataframe\">\n",
       "  <thead>\n",
       "    <tr style=\"text-align: right;\">\n",
       "      <th></th>\n",
       "      <th>DAY_OF_WEEK</th>\n",
       "      <th>DEP_DEL15</th>\n",
       "      <th>DISTANCE_GROUP</th>\n",
       "      <th>SEGMENT_NUMBER</th>\n",
       "      <th>AIRLINE_AIRPORT_FLIGHTS_MONTH</th>\n",
       "      <th>PLANE_AGE</th>\n",
       "      <th>PRCP</th>\n",
       "      <th>SNOW</th>\n",
       "      <th>SNWD</th>\n",
       "      <th>TMAX</th>\n",
       "      <th>...</th>\n",
       "      <th>Wichita Mid-Continent</th>\n",
       "      <th>Wilkes Barre Scranton International</th>\n",
       "      <th>Will Rogers World</th>\n",
       "      <th>William B. Heilig Field</th>\n",
       "      <th>William P Hobby</th>\n",
       "      <th>Williston Basin International</th>\n",
       "      <th>Wilmington International</th>\n",
       "      <th>Yampa Valley</th>\n",
       "      <th>Yellowstone Regional</th>\n",
       "      <th>Yuma MCAS/Yuma International</th>\n",
       "    </tr>\n",
       "  </thead>\n",
       "  <tbody>\n",
       "    <tr>\n",
       "      <th>0</th>\n",
       "      <td>3</td>\n",
       "      <td>0</td>\n",
       "      <td>5</td>\n",
       "      <td>1</td>\n",
       "      <td>361</td>\n",
       "      <td>19</td>\n",
       "      <td>0.0</td>\n",
       "      <td>0.0</td>\n",
       "      <td>0.0</td>\n",
       "      <td>72.0</td>\n",
       "      <td>...</td>\n",
       "      <td>0</td>\n",
       "      <td>0</td>\n",
       "      <td>0</td>\n",
       "      <td>0</td>\n",
       "      <td>0</td>\n",
       "      <td>0</td>\n",
       "      <td>0</td>\n",
       "      <td>0</td>\n",
       "      <td>0</td>\n",
       "      <td>0</td>\n",
       "    </tr>\n",
       "    <tr>\n",
       "      <th>1</th>\n",
       "      <td>3</td>\n",
       "      <td>0</td>\n",
       "      <td>3</td>\n",
       "      <td>1</td>\n",
       "      <td>361</td>\n",
       "      <td>22</td>\n",
       "      <td>0.0</td>\n",
       "      <td>0.0</td>\n",
       "      <td>0.0</td>\n",
       "      <td>72.0</td>\n",
       "      <td>...</td>\n",
       "      <td>0</td>\n",
       "      <td>0</td>\n",
       "      <td>0</td>\n",
       "      <td>0</td>\n",
       "      <td>0</td>\n",
       "      <td>0</td>\n",
       "      <td>0</td>\n",
       "      <td>0</td>\n",
       "      <td>0</td>\n",
       "      <td>0</td>\n",
       "    </tr>\n",
       "    <tr>\n",
       "      <th>2</th>\n",
       "      <td>3</td>\n",
       "      <td>0</td>\n",
       "      <td>9</td>\n",
       "      <td>1</td>\n",
       "      <td>361</td>\n",
       "      <td>24</td>\n",
       "      <td>0.0</td>\n",
       "      <td>0.0</td>\n",
       "      <td>0.0</td>\n",
       "      <td>72.0</td>\n",
       "      <td>...</td>\n",
       "      <td>0</td>\n",
       "      <td>0</td>\n",
       "      <td>0</td>\n",
       "      <td>0</td>\n",
       "      <td>0</td>\n",
       "      <td>0</td>\n",
       "      <td>0</td>\n",
       "      <td>0</td>\n",
       "      <td>0</td>\n",
       "      <td>0</td>\n",
       "    </tr>\n",
       "    <tr>\n",
       "      <th>3</th>\n",
       "      <td>3</td>\n",
       "      <td>0</td>\n",
       "      <td>1</td>\n",
       "      <td>1</td>\n",
       "      <td>892</td>\n",
       "      <td>20</td>\n",
       "      <td>0.0</td>\n",
       "      <td>0.0</td>\n",
       "      <td>0.0</td>\n",
       "      <td>72.0</td>\n",
       "      <td>...</td>\n",
       "      <td>0</td>\n",
       "      <td>0</td>\n",
       "      <td>0</td>\n",
       "      <td>0</td>\n",
       "      <td>0</td>\n",
       "      <td>0</td>\n",
       "      <td>0</td>\n",
       "      <td>0</td>\n",
       "      <td>0</td>\n",
       "      <td>0</td>\n",
       "    </tr>\n",
       "    <tr>\n",
       "      <th>4</th>\n",
       "      <td>3</td>\n",
       "      <td>0</td>\n",
       "      <td>2</td>\n",
       "      <td>1</td>\n",
       "      <td>2048</td>\n",
       "      <td>21</td>\n",
       "      <td>0.0</td>\n",
       "      <td>0.0</td>\n",
       "      <td>0.0</td>\n",
       "      <td>72.0</td>\n",
       "      <td>...</td>\n",
       "      <td>0</td>\n",
       "      <td>0</td>\n",
       "      <td>0</td>\n",
       "      <td>0</td>\n",
       "      <td>0</td>\n",
       "      <td>0</td>\n",
       "      <td>0</td>\n",
       "      <td>0</td>\n",
       "      <td>0</td>\n",
       "      <td>0</td>\n",
       "    </tr>\n",
       "  </tbody>\n",
       "</table>\n",
       "<p>5 rows × 323 columns</p>\n",
       "</div>"
      ],
      "text/plain": [
       "   DAY_OF_WEEK  DEP_DEL15  DISTANCE_GROUP  SEGMENT_NUMBER  \\\n",
       "0            3          0               5               1   \n",
       "1            3          0               3               1   \n",
       "2            3          0               9               1   \n",
       "3            3          0               1               1   \n",
       "4            3          0               2               1   \n",
       "\n",
       "   AIRLINE_AIRPORT_FLIGHTS_MONTH  PLANE_AGE  PRCP  SNOW  SNWD  TMAX  ...  \\\n",
       "0                            361         19   0.0   0.0   0.0  72.0  ...   \n",
       "1                            361         22   0.0   0.0   0.0  72.0  ...   \n",
       "2                            361         24   0.0   0.0   0.0  72.0  ...   \n",
       "3                            892         20   0.0   0.0   0.0  72.0  ...   \n",
       "4                           2048         21   0.0   0.0   0.0  72.0  ...   \n",
       "\n",
       "   Wichita Mid-Continent  Wilkes Barre Scranton International  \\\n",
       "0                      0                                    0   \n",
       "1                      0                                    0   \n",
       "2                      0                                    0   \n",
       "3                      0                                    0   \n",
       "4                      0                                    0   \n",
       "\n",
       "   Will Rogers World  William B. Heilig Field  William P Hobby  \\\n",
       "0                  0                        0                0   \n",
       "1                  0                        0                0   \n",
       "2                  0                        0                0   \n",
       "3                  0                        0                0   \n",
       "4                  0                        0                0   \n",
       "\n",
       "   Williston Basin International  Wilmington International  Yampa Valley  \\\n",
       "0                              0                         0             0   \n",
       "1                              0                         0             0   \n",
       "2                              0                         0             0   \n",
       "3                              0                         0             0   \n",
       "4                              0                         0             0   \n",
       "\n",
       "   Yellowstone Regional  Yuma MCAS/Yuma International  \n",
       "0                     0                             0  \n",
       "1                     0                             0  \n",
       "2                     0                             0  \n",
       "3                     0                             0  \n",
       "4                     0                             0  \n",
       "\n",
       "[5 rows x 323 columns]"
      ]
     },
     "execution_count": 8,
     "metadata": {},
     "output_type": "execute_result"
    }
   ],
   "source": [
    "data.head()"
   ]
  },
  {
   "cell_type": "markdown",
   "id": "a5bc3294",
   "metadata": {},
   "source": [
    "## Split Data"
   ]
  },
  {
   "cell_type": "code",
   "execution_count": 9,
   "id": "b325bb8f",
   "metadata": {
    "ExecuteTime": {
     "end_time": "2021-12-19T12:34:48.019549Z",
     "start_time": "2021-12-19T12:34:47.843327Z"
    }
   },
   "outputs": [
    {
     "data": {
      "text/html": [
       "<div>\n",
       "<style scoped>\n",
       "    .dataframe tbody tr th:only-of-type {\n",
       "        vertical-align: middle;\n",
       "    }\n",
       "\n",
       "    .dataframe tbody tr th {\n",
       "        vertical-align: top;\n",
       "    }\n",
       "\n",
       "    .dataframe thead th {\n",
       "        text-align: right;\n",
       "    }\n",
       "</style>\n",
       "<table border=\"1\" class=\"dataframe\">\n",
       "  <thead>\n",
       "    <tr style=\"text-align: right;\">\n",
       "      <th></th>\n",
       "      <th>DAY_OF_WEEK</th>\n",
       "      <th>DISTANCE_GROUP</th>\n",
       "      <th>SEGMENT_NUMBER</th>\n",
       "      <th>AIRLINE_AIRPORT_FLIGHTS_MONTH</th>\n",
       "      <th>PLANE_AGE</th>\n",
       "      <th>PRCP</th>\n",
       "      <th>SNOW</th>\n",
       "      <th>SNWD</th>\n",
       "      <th>TMAX</th>\n",
       "      <th>AWND</th>\n",
       "      <th>...</th>\n",
       "      <th>Wichita Mid-Continent</th>\n",
       "      <th>Wilkes Barre Scranton International</th>\n",
       "      <th>Will Rogers World</th>\n",
       "      <th>William B. Heilig Field</th>\n",
       "      <th>William P Hobby</th>\n",
       "      <th>Williston Basin International</th>\n",
       "      <th>Wilmington International</th>\n",
       "      <th>Yampa Valley</th>\n",
       "      <th>Yellowstone Regional</th>\n",
       "      <th>Yuma MCAS/Yuma International</th>\n",
       "    </tr>\n",
       "  </thead>\n",
       "  <tbody>\n",
       "    <tr>\n",
       "      <th>0</th>\n",
       "      <td>3</td>\n",
       "      <td>5</td>\n",
       "      <td>1</td>\n",
       "      <td>361</td>\n",
       "      <td>19</td>\n",
       "      <td>0.0</td>\n",
       "      <td>0.0</td>\n",
       "      <td>0.0</td>\n",
       "      <td>72.0</td>\n",
       "      <td>4.47</td>\n",
       "      <td>...</td>\n",
       "      <td>0</td>\n",
       "      <td>0</td>\n",
       "      <td>0</td>\n",
       "      <td>0</td>\n",
       "      <td>0</td>\n",
       "      <td>0</td>\n",
       "      <td>0</td>\n",
       "      <td>0</td>\n",
       "      <td>0</td>\n",
       "      <td>0</td>\n",
       "    </tr>\n",
       "    <tr>\n",
       "      <th>1</th>\n",
       "      <td>3</td>\n",
       "      <td>3</td>\n",
       "      <td>1</td>\n",
       "      <td>361</td>\n",
       "      <td>22</td>\n",
       "      <td>0.0</td>\n",
       "      <td>0.0</td>\n",
       "      <td>0.0</td>\n",
       "      <td>72.0</td>\n",
       "      <td>4.47</td>\n",
       "      <td>...</td>\n",
       "      <td>0</td>\n",
       "      <td>0</td>\n",
       "      <td>0</td>\n",
       "      <td>0</td>\n",
       "      <td>0</td>\n",
       "      <td>0</td>\n",
       "      <td>0</td>\n",
       "      <td>0</td>\n",
       "      <td>0</td>\n",
       "      <td>0</td>\n",
       "    </tr>\n",
       "    <tr>\n",
       "      <th>2</th>\n",
       "      <td>3</td>\n",
       "      <td>9</td>\n",
       "      <td>1</td>\n",
       "      <td>361</td>\n",
       "      <td>24</td>\n",
       "      <td>0.0</td>\n",
       "      <td>0.0</td>\n",
       "      <td>0.0</td>\n",
       "      <td>72.0</td>\n",
       "      <td>4.47</td>\n",
       "      <td>...</td>\n",
       "      <td>0</td>\n",
       "      <td>0</td>\n",
       "      <td>0</td>\n",
       "      <td>0</td>\n",
       "      <td>0</td>\n",
       "      <td>0</td>\n",
       "      <td>0</td>\n",
       "      <td>0</td>\n",
       "      <td>0</td>\n",
       "      <td>0</td>\n",
       "    </tr>\n",
       "    <tr>\n",
       "      <th>3</th>\n",
       "      <td>3</td>\n",
       "      <td>1</td>\n",
       "      <td>1</td>\n",
       "      <td>892</td>\n",
       "      <td>20</td>\n",
       "      <td>0.0</td>\n",
       "      <td>0.0</td>\n",
       "      <td>0.0</td>\n",
       "      <td>72.0</td>\n",
       "      <td>4.47</td>\n",
       "      <td>...</td>\n",
       "      <td>0</td>\n",
       "      <td>0</td>\n",
       "      <td>0</td>\n",
       "      <td>0</td>\n",
       "      <td>0</td>\n",
       "      <td>0</td>\n",
       "      <td>0</td>\n",
       "      <td>0</td>\n",
       "      <td>0</td>\n",
       "      <td>0</td>\n",
       "    </tr>\n",
       "    <tr>\n",
       "      <th>4</th>\n",
       "      <td>3</td>\n",
       "      <td>2</td>\n",
       "      <td>1</td>\n",
       "      <td>2048</td>\n",
       "      <td>21</td>\n",
       "      <td>0.0</td>\n",
       "      <td>0.0</td>\n",
       "      <td>0.0</td>\n",
       "      <td>72.0</td>\n",
       "      <td>4.47</td>\n",
       "      <td>...</td>\n",
       "      <td>0</td>\n",
       "      <td>0</td>\n",
       "      <td>0</td>\n",
       "      <td>0</td>\n",
       "      <td>0</td>\n",
       "      <td>0</td>\n",
       "      <td>0</td>\n",
       "      <td>0</td>\n",
       "      <td>0</td>\n",
       "      <td>0</td>\n",
       "    </tr>\n",
       "  </tbody>\n",
       "</table>\n",
       "<p>5 rows × 322 columns</p>\n",
       "</div>"
      ],
      "text/plain": [
       "   DAY_OF_WEEK  DISTANCE_GROUP  SEGMENT_NUMBER  AIRLINE_AIRPORT_FLIGHTS_MONTH  \\\n",
       "0            3               5               1                            361   \n",
       "1            3               3               1                            361   \n",
       "2            3               9               1                            361   \n",
       "3            3               1               1                            892   \n",
       "4            3               2               1                           2048   \n",
       "\n",
       "   PLANE_AGE  PRCP  SNOW  SNWD  TMAX  AWND  ...  Wichita Mid-Continent  \\\n",
       "0         19   0.0   0.0   0.0  72.0  4.47  ...                      0   \n",
       "1         22   0.0   0.0   0.0  72.0  4.47  ...                      0   \n",
       "2         24   0.0   0.0   0.0  72.0  4.47  ...                      0   \n",
       "3         20   0.0   0.0   0.0  72.0  4.47  ...                      0   \n",
       "4         21   0.0   0.0   0.0  72.0  4.47  ...                      0   \n",
       "\n",
       "   Wilkes Barre Scranton International  Will Rogers World  \\\n",
       "0                                    0                  0   \n",
       "1                                    0                  0   \n",
       "2                                    0                  0   \n",
       "3                                    0                  0   \n",
       "4                                    0                  0   \n",
       "\n",
       "   William B. Heilig Field  William P Hobby  Williston Basin International  \\\n",
       "0                        0                0                              0   \n",
       "1                        0                0                              0   \n",
       "2                        0                0                              0   \n",
       "3                        0                0                              0   \n",
       "4                        0                0                              0   \n",
       "\n",
       "   Wilmington International  Yampa Valley  Yellowstone Regional  \\\n",
       "0                         0             0                     0   \n",
       "1                         0             0                     0   \n",
       "2                         0             0                     0   \n",
       "3                         0             0                     0   \n",
       "4                         0             0                     0   \n",
       "\n",
       "   Yuma MCAS/Yuma International  \n",
       "0                             0  \n",
       "1                             0  \n",
       "2                             0  \n",
       "3                             0  \n",
       "4                             0  \n",
       "\n",
       "[5 rows x 322 columns]"
      ]
     },
     "execution_count": 9,
     "metadata": {},
     "output_type": "execute_result"
    }
   ],
   "source": [
    "# data_feat yang khusus hanya akan berisi nilai-nilai atribut/fitur/variabel saja.\n",
    "# data_target yang khusus hanya akan berisi label/kelas/target \n",
    "df_feat = data.drop('DEP_DEL15',axis=1) \n",
    "df_feat.head()"
   ]
  },
  {
   "cell_type": "code",
   "execution_count": 10,
   "id": "d03098c1",
   "metadata": {
    "ExecuteTime": {
     "end_time": "2021-12-19T12:34:48.052743Z",
     "start_time": "2021-12-19T12:34:48.024779Z"
    }
   },
   "outputs": [
    {
     "data": {
      "text/plain": [
       "0    0\n",
       "1    0\n",
       "2    0\n",
       "3    0\n",
       "4    0\n",
       "Name: DEP_DEL15, dtype: int64"
      ]
     },
     "execution_count": 10,
     "metadata": {},
     "output_type": "execute_result"
    }
   ],
   "source": [
    "df_target = data['DEP_DEL15'] \n",
    "df_target.head()"
   ]
  },
  {
   "cell_type": "code",
   "execution_count": 11,
   "id": "33ebf9f2",
   "metadata": {
    "ExecuteTime": {
     "end_time": "2021-12-19T12:34:48.661733Z",
     "start_time": "2021-12-19T12:34:48.058628Z"
    }
   },
   "outputs": [
    {
     "name": "stdout",
     "output_type": "stream",
     "text": [
      "Jumlah Training Data :  83811  | Jumlah Test Data :  35920\n"
     ]
    }
   ],
   "source": [
    "X_train, X_test, y_train, y_test = train_test_split(df_feat, df_target, test_size=0.30, random_state=0)\n",
    "print(\"Jumlah Training Data : \", len(X_train), \" | Jumlah Test Data : \", len(X_test))"
   ]
  },
  {
   "cell_type": "markdown",
   "id": "d1503f08",
   "metadata": {},
   "source": [
    "### Oversampling"
   ]
  },
  {
   "cell_type": "code",
   "execution_count": 12,
   "id": "01691280",
   "metadata": {
    "ExecuteTime": {
     "end_time": "2021-12-19T12:35:00.018589Z",
     "start_time": "2021-12-19T12:34:48.662789Z"
    }
   },
   "outputs": [],
   "source": [
    "oversample = imblearn.over_sampling.SMOTE()\n",
    "X_train = np.array(X_train)\n",
    "y_train = np.array(y_train)\n",
    "X_train, y_train = oversample.fit_resample(X_train, y_train)"
   ]
  },
  {
   "cell_type": "markdown",
   "id": "d5942552",
   "metadata": {},
   "source": [
    "## Transform Data"
   ]
  },
  {
   "cell_type": "code",
   "execution_count": 13,
   "id": "4bfcfa30",
   "metadata": {
    "ExecuteTime": {
     "end_time": "2021-12-19T12:35:01.701027Z",
     "start_time": "2021-12-19T12:35:00.025477Z"
    }
   },
   "outputs": [
    {
     "name": "stderr",
     "output_type": "stream",
     "text": [
      "C:\\Users\\user\\anaconda3\\lib\\site-packages\\sklearn\\base.py:438: UserWarning: X has feature names, but StandardScaler was fitted without feature names\n",
      "  warnings.warn(\n"
     ]
    },
    {
     "data": {
      "text/plain": [
       "array([[ 0.50211459,  0.90346645,  0.41982702, ..., -0.03270213,\n",
       "         0.        , -0.01639561],\n",
       "       [-0.02561594, -1.2951024 ,  1.61301966, ..., -0.03270213,\n",
       "         0.        , -0.01639561],\n",
       "       [-0.02561594,  0.35382424, -0.77336563, ..., -0.03270213,\n",
       "         0.        , -0.01639561],\n",
       "       ...,\n",
       "       [ 1.55757566, -1.2951024 , -0.77336563, ..., -0.03270213,\n",
       "         0.        , -0.01639561],\n",
       "       [ 0.50211459, -1.2951024 ,  1.61301966, ..., -0.03270213,\n",
       "         0.        , -0.01639561],\n",
       "       [-1.08107701, -0.74546019,  1.01642334, ..., -0.03270213,\n",
       "         0.        , -0.01639561]])"
      ]
     },
     "execution_count": 13,
     "metadata": {},
     "output_type": "execute_result"
    }
   ],
   "source": [
    "from sklearn.preprocessing import MinMaxScaler, StandardScaler\n",
    "\n",
    "MMScaler = MinMaxScaler()\n",
    "StdScaler = StandardScaler()\n",
    "X_train_scaled = StdScaler.fit_transform(X_train)\n",
    "X_test_scaled = StdScaler.transform(X_test)\n",
    "X_test_scaled"
   ]
  },
  {
   "cell_type": "markdown",
   "id": "a2c98986",
   "metadata": {},
   "source": [
    "# Modelling"
   ]
  },
  {
   "cell_type": "markdown",
   "id": "30bb370f",
   "metadata": {},
   "source": [
    "## XGBoost"
   ]
  },
  {
   "cell_type": "markdown",
   "id": "edb88235",
   "metadata": {},
   "source": [
    "### AdaBoost"
   ]
  },
  {
   "cell_type": "code",
   "execution_count": 14,
   "id": "1f55cc75",
   "metadata": {
    "ExecuteTime": {
     "end_time": "2021-12-19T12:37:33.339162Z",
     "start_time": "2021-12-19T12:35:01.705544Z"
    }
   },
   "outputs": [
    {
     "name": "stderr",
     "output_type": "stream",
     "text": [
      "C:\\Users\\user\\anaconda3\\lib\\site-packages\\sklearn\\base.py:438: UserWarning: X has feature names, but AdaBoostClassifier was fitted without feature names\n",
      "  warnings.warn(\n"
     ]
    },
    {
     "data": {
      "text/plain": [
       "0.8077115812917595"
      ]
     },
     "execution_count": 14,
     "metadata": {},
     "output_type": "execute_result"
    }
   ],
   "source": [
    "abcmodel = AdaBoostClassifier()\n",
    "abcmodel.fit(X_train, y_train)\n",
    "y_pred = abcmodel.predict(X_test)\n",
    "accuracy_score(y_test, y_pred)"
   ]
  },
  {
   "cell_type": "code",
   "execution_count": 15,
   "id": "5e43ec32",
   "metadata": {
    "ExecuteTime": {
     "end_time": "2021-12-19T12:37:33.493155Z",
     "start_time": "2021-12-19T12:37:33.343582Z"
    }
   },
   "outputs": [
    {
     "name": "stdout",
     "output_type": "stream",
     "text": [
      "              precision    recall  f1-score   support\n",
      "\n",
      "           0       0.87      0.91      0.89     30535\n",
      "           1       0.30      0.21      0.25      5385\n",
      "\n",
      "    accuracy                           0.81     35920\n",
      "   macro avg       0.58      0.56      0.57     35920\n",
      "weighted avg       0.78      0.81      0.79     35920\n",
      "\n"
     ]
    }
   ],
   "source": [
    "print(classification_report(y_test, y_pred))"
   ]
  },
  {
   "cell_type": "raw",
   "id": "f4bfcb41",
   "metadata": {
    "ExecuteTime": {
     "end_time": "2021-12-19T04:59:13.290770Z",
     "start_time": "2021-12-19T04:52:30.928574Z"
    }
   },
   "source": [
    "abcmodel = AdaBoostClassifier(random_state=100)\n",
    "params = {\n",
    "    'n_estimators':(50,100,150),\n",
    "    'learning_rate':[0.5, 1, 1.5]\n",
    "}\n",
    "gs = GridSearchCV(abcmodel, params)\n",
    "gs.fit(X_train, y_train)\n",
    "y_pred = gs.predict(X_test)\n",
    "print('Best parameter: ', gs.best_params_)"
   ]
  },
  {
   "cell_type": "code",
   "execution_count": 16,
   "id": "7c88bb50",
   "metadata": {
    "ExecuteTime": {
     "end_time": "2021-12-19T12:43:44.817667Z",
     "start_time": "2021-12-19T12:37:33.497973Z"
    }
   },
   "outputs": [
    {
     "name": "stderr",
     "output_type": "stream",
     "text": [
      "C:\\Users\\user\\anaconda3\\lib\\site-packages\\sklearn\\base.py:438: UserWarning: X has feature names, but AdaBoostClassifier was fitted without feature names\n",
      "  warnings.warn(\n"
     ]
    },
    {
     "data": {
      "text/plain": [
       "0.8441815144766147"
      ]
     },
     "execution_count": 16,
     "metadata": {},
     "output_type": "execute_result"
    }
   ],
   "source": [
    "abcmodel = AdaBoostClassifier(learning_rate=1.5, n_estimators=150)\n",
    "abcmodel.fit(X_train, y_train)\n",
    "y_pred = abcmodel.predict(X_test)\n",
    "accuracy_score(y_test, y_pred)"
   ]
  },
  {
   "cell_type": "code",
   "execution_count": 17,
   "id": "c372e1ce",
   "metadata": {
    "ExecuteTime": {
     "end_time": "2021-12-19T12:43:44.895785Z",
     "start_time": "2021-12-19T12:43:44.825697Z"
    }
   },
   "outputs": [
    {
     "name": "stdout",
     "output_type": "stream",
     "text": [
      "              precision    recall  f1-score   support\n",
      "\n",
      "           0       0.86      0.97      0.91     30535\n",
      "           1       0.43      0.11      0.18      5385\n",
      "\n",
      "    accuracy                           0.84     35920\n",
      "   macro avg       0.64      0.54      0.55     35920\n",
      "weighted avg       0.80      0.84      0.80     35920\n",
      "\n"
     ]
    }
   ],
   "source": [
    "print(classification_report(y_test, y_pred))"
   ]
  },
  {
   "cell_type": "markdown",
   "id": "b1793abc",
   "metadata": {},
   "source": [
    "### Gradient Boost"
   ]
  },
  {
   "cell_type": "code",
   "execution_count": 18,
   "id": "ef784943",
   "metadata": {
    "ExecuteTime": {
     "end_time": "2021-12-19T12:50:13.166771Z",
     "start_time": "2021-12-19T12:43:44.898107Z"
    }
   },
   "outputs": [
    {
     "name": "stderr",
     "output_type": "stream",
     "text": [
      "C:\\Users\\user\\anaconda3\\lib\\site-packages\\sklearn\\base.py:438: UserWarning: X has feature names, but GradientBoostingClassifier was fitted without feature names\n",
      "  warnings.warn(\n"
     ]
    },
    {
     "data": {
      "text/plain": [
       "0.8438195991091314"
      ]
     },
     "execution_count": 18,
     "metadata": {},
     "output_type": "execute_result"
    }
   ],
   "source": [
    "gbcmodel = GradientBoostingClassifier()\n",
    "gbcmodel.fit(X_train, y_train)\n",
    "y_pred = gbcmodel.predict(X_test)\n",
    "accuracy_score(y_test, y_pred)"
   ]
  },
  {
   "cell_type": "code",
   "execution_count": 19,
   "id": "efd25438",
   "metadata": {
    "ExecuteTime": {
     "end_time": "2021-12-19T12:50:13.225870Z",
     "start_time": "2021-12-19T12:50:13.171770Z"
    }
   },
   "outputs": [
    {
     "name": "stdout",
     "output_type": "stream",
     "text": [
      "              precision    recall  f1-score   support\n",
      "\n",
      "           0       0.86      0.97      0.91     30535\n",
      "           1       0.43      0.13      0.20      5385\n",
      "\n",
      "    accuracy                           0.84     35920\n",
      "   macro avg       0.65      0.55      0.55     35920\n",
      "weighted avg       0.80      0.84      0.81     35920\n",
      "\n"
     ]
    }
   ],
   "source": [
    "print(classification_report(y_test, y_pred))"
   ]
  },
  {
   "cell_type": "code",
   "execution_count": 20,
   "id": "9dec1202",
   "metadata": {
    "ExecuteTime": {
     "end_time": "2021-12-19T13:05:55.577796Z",
     "start_time": "2021-12-19T12:50:13.228815Z"
    }
   },
   "outputs": [
    {
     "name": "stderr",
     "output_type": "stream",
     "text": [
      "C:\\Users\\user\\anaconda3\\lib\\site-packages\\sklearn\\base.py:438: UserWarning: X has feature names, but GradientBoostingClassifier was fitted without feature names\n",
      "  warnings.warn(\n"
     ]
    }
   ],
   "source": [
    "gbc = GradientBoostingClassifier(learning_rate=1.5, n_estimators=200)\n",
    "gbc.fit(X_train, y_train)\n",
    "y_pred = gbc.predict(X_test)"
   ]
  },
  {
   "cell_type": "code",
   "execution_count": 21,
   "id": "59e62286",
   "metadata": {
    "ExecuteTime": {
     "end_time": "2021-12-19T13:05:55.646917Z",
     "start_time": "2021-12-19T13:05:55.578620Z"
    }
   },
   "outputs": [
    {
     "name": "stdout",
     "output_type": "stream",
     "text": [
      "              precision    recall  f1-score   support\n",
      "\n",
      "           0       0.87      0.96      0.91     30535\n",
      "           1       0.43      0.16      0.23      5385\n",
      "\n",
      "    accuracy                           0.84     35920\n",
      "   macro avg       0.65      0.56      0.57     35920\n",
      "weighted avg       0.80      0.84      0.81     35920\n",
      "\n"
     ]
    }
   ],
   "source": [
    "print(classification_report(y_test, y_pred))"
   ]
  },
  {
   "cell_type": "markdown",
   "id": "46b71398",
   "metadata": {},
   "source": [
    "## KNN"
   ]
  },
  {
   "cell_type": "code",
   "execution_count": 22,
   "id": "af3d43c6",
   "metadata": {
    "ExecuteTime": {
     "end_time": "2021-12-19T13:08:25.810456Z",
     "start_time": "2021-12-19T13:05:55.646917Z"
    }
   },
   "outputs": [
    {
     "name": "stderr",
     "output_type": "stream",
     "text": [
      "C:\\Users\\user\\anaconda3\\lib\\site-packages\\sklearn\\base.py:438: UserWarning: X has feature names, but KNeighborsClassifier was fitted without feature names\n",
      "  warnings.warn(\n"
     ]
    },
    {
     "data": {
      "text/plain": [
       "0.6573496659242761"
      ]
     },
     "execution_count": 22,
     "metadata": {},
     "output_type": "execute_result"
    }
   ],
   "source": [
    "knnmodel = neighbors.KNeighborsClassifier(n_neighbors=3)\n",
    "knnmodel.fit(X_train, y_train)\n",
    "y_pred = knnmodel.predict(X_test)\n",
    "accuracy_score(y_test, y_pred)"
   ]
  },
  {
   "cell_type": "code",
   "execution_count": 23,
   "id": "bd2f1d3a",
   "metadata": {
    "ExecuteTime": {
     "end_time": "2021-12-19T13:08:25.915887Z",
     "start_time": "2021-12-19T13:08:25.810456Z"
    },
    "scrolled": true
   },
   "outputs": [
    {
     "name": "stdout",
     "output_type": "stream",
     "text": [
      "              precision    recall  f1-score   support\n",
      "\n",
      "           0       0.89      0.68      0.77     30535\n",
      "           1       0.22      0.50      0.31      5385\n",
      "\n",
      "    accuracy                           0.66     35920\n",
      "   macro avg       0.55      0.59      0.54     35920\n",
      "weighted avg       0.79      0.66      0.70     35920\n",
      "\n"
     ]
    }
   ],
   "source": [
    "print(classification_report(y_test,y_pred))"
   ]
  },
  {
   "cell_type": "markdown",
   "id": "91c3fa6c",
   "metadata": {},
   "source": [
    "## Random Forest"
   ]
  },
  {
   "cell_type": "code",
   "execution_count": 24,
   "id": "de4bb266",
   "metadata": {
    "ExecuteTime": {
     "end_time": "2021-12-19T13:15:31.645810Z",
     "start_time": "2021-12-19T13:08:25.915887Z"
    }
   },
   "outputs": [
    {
     "name": "stderr",
     "output_type": "stream",
     "text": [
      "C:\\Users\\user\\anaconda3\\lib\\site-packages\\sklearn\\base.py:438: UserWarning: X has feature names, but RandomForestClassifier was fitted without feature names\n",
      "  warnings.warn(\n"
     ]
    },
    {
     "data": {
      "text/plain": [
       "0.8489699331848553"
      ]
     },
     "execution_count": 24,
     "metadata": {},
     "output_type": "execute_result"
    }
   ],
   "source": [
    "RFmodel = RandomForestClassifier(n_estimators = 500, criterion = 'entropy', random_state = 0)\n",
    "RFmodel.fit(X_train, y_train)\n",
    "y_pred = RFmodel.predict(X_test)\n",
    "accuracy_score(y_test,y_pred)"
   ]
  },
  {
   "cell_type": "code",
   "execution_count": 25,
   "id": "334dd11f",
   "metadata": {
    "ExecuteTime": {
     "end_time": "2021-12-19T13:15:31.707238Z",
     "start_time": "2021-12-19T13:15:31.645810Z"
    }
   },
   "outputs": [
    {
     "name": "stdout",
     "output_type": "stream",
     "text": [
      "              precision    recall  f1-score   support\n",
      "\n",
      "           0       0.87      0.97      0.92     30535\n",
      "           1       0.49      0.15      0.23      5385\n",
      "\n",
      "    accuracy                           0.85     35920\n",
      "   macro avg       0.68      0.56      0.57     35920\n",
      "weighted avg       0.81      0.85      0.81     35920\n",
      "\n"
     ]
    }
   ],
   "source": [
    "print(classification_report(y_test, y_pred))"
   ]
  },
  {
   "cell_type": "markdown",
   "id": "c7e718f7",
   "metadata": {},
   "source": [
    "## Naive Bayessian"
   ]
  },
  {
   "cell_type": "code",
   "execution_count": 26,
   "id": "0912ded5",
   "metadata": {
    "ExecuteTime": {
     "end_time": "2021-12-19T13:15:33.248211Z",
     "start_time": "2021-12-19T13:15:31.709595Z"
    }
   },
   "outputs": [
    {
     "name": "stderr",
     "output_type": "stream",
     "text": [
      "C:\\Users\\user\\anaconda3\\lib\\site-packages\\sklearn\\base.py:438: UserWarning: X has feature names, but GaussianNB was fitted without feature names\n",
      "  warnings.warn(\n"
     ]
    },
    {
     "data": {
      "text/plain": [
       "0.3126391982182628"
      ]
     },
     "execution_count": 26,
     "metadata": {},
     "output_type": "execute_result"
    }
   ],
   "source": [
    "GNBmodel = GaussianNB()\n",
    "GNBmodel.fit(X_train, y_train)\n",
    "GNBmodel.get_params()\n",
    "y_pred = GNBmodel.predict(X_test)\n",
    "accuracy_score(y_test,y_pred)"
   ]
  },
  {
   "cell_type": "code",
   "execution_count": 27,
   "id": "433493b2",
   "metadata": {
    "ExecuteTime": {
     "end_time": "2021-12-19T13:15:33.357586Z",
     "start_time": "2021-12-19T13:15:33.248211Z"
    }
   },
   "outputs": [
    {
     "name": "stdout",
     "output_type": "stream",
     "text": [
      "              precision    recall  f1-score   support\n",
      "\n",
      "           0       0.93      0.21      0.34     30535\n",
      "           1       0.17      0.91      0.28      5385\n",
      "\n",
      "    accuracy                           0.31     35920\n",
      "   macro avg       0.55      0.56      0.31     35920\n",
      "weighted avg       0.82      0.31      0.33     35920\n",
      "\n"
     ]
    }
   ],
   "source": [
    "print(classification_report(y_test, y_pred))"
   ]
  },
  {
   "cell_type": "code",
   "execution_count": 28,
   "id": "24f9e689",
   "metadata": {
    "ExecuteTime": {
     "end_time": "2021-12-19T13:15:33.855169Z",
     "start_time": "2021-12-19T13:15:33.357586Z"
    }
   },
   "outputs": [
    {
     "name": "stderr",
     "output_type": "stream",
     "text": [
      "C:\\Users\\user\\anaconda3\\lib\\site-packages\\sklearn\\base.py:438: UserWarning: X has feature names, but MultinomialNB was fitted without feature names\n",
      "  warnings.warn(\n"
     ]
    },
    {
     "data": {
      "text/plain": [
       "0.4307349665924276"
      ]
     },
     "execution_count": 28,
     "metadata": {},
     "output_type": "execute_result"
    }
   ],
   "source": [
    "Mmodel = MultinomialNB()\n",
    "Mmodel.fit(X_train, y_train)\n",
    "Mmodel.get_params()\n",
    "y_pred = Mmodel.predict(X_test)\n",
    "accuracy_score(y_test,y_pred)"
   ]
  },
  {
   "cell_type": "code",
   "execution_count": 29,
   "id": "e098b28f",
   "metadata": {
    "ExecuteTime": {
     "end_time": "2021-12-19T13:15:33.964265Z",
     "start_time": "2021-12-19T13:15:33.858580Z"
    }
   },
   "outputs": [
    {
     "name": "stdout",
     "output_type": "stream",
     "text": [
      "              precision    recall  f1-score   support\n",
      "\n",
      "           0       0.86      0.39      0.54     30535\n",
      "           1       0.16      0.65      0.25      5385\n",
      "\n",
      "    accuracy                           0.43     35920\n",
      "   macro avg       0.51      0.52      0.40     35920\n",
      "weighted avg       0.76      0.43      0.50     35920\n",
      "\n"
     ]
    }
   ],
   "source": [
    "print(classification_report(y_test, y_pred))"
   ]
  },
  {
   "cell_type": "code",
   "execution_count": null,
   "id": "7ee2410a",
   "metadata": {},
   "outputs": [],
   "source": []
  }
 ],
 "metadata": {
  "kernelspec": {
   "display_name": "Python 3 (ipykernel)",
   "language": "python",
   "name": "python3"
  },
  "language_info": {
   "codemirror_mode": {
    "name": "ipython",
    "version": 3
   },
   "file_extension": ".py",
   "mimetype": "text/x-python",
   "name": "python",
   "nbconvert_exporter": "python",
   "pygments_lexer": "ipython3",
   "version": "3.8.12"
  },
  "toc": {
   "base_numbering": 1,
   "nav_menu": {},
   "number_sections": true,
   "sideBar": true,
   "skip_h1_title": false,
   "title_cell": "Table of Contents",
   "title_sidebar": "Contents",
   "toc_cell": false,
   "toc_position": {},
   "toc_section_display": true,
   "toc_window_display": false
  }
 },
 "nbformat": 4,
 "nbformat_minor": 5
}
