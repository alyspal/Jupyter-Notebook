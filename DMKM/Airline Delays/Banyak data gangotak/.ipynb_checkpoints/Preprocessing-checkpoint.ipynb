{
 "cells": [
  {
   "cell_type": "markdown",
   "id": "0c4efddf",
   "metadata": {},
   "source": [
    "# Input packages and datasets"
   ]
  },
  {
   "cell_type": "code",
   "execution_count": 1,
   "id": "2fef1688",
   "metadata": {
    "ExecuteTime": {
     "end_time": "2021-12-19T12:34:41.491224Z",
     "start_time": "2021-12-19T12:34:35.964912Z"
    }
   },
   "outputs": [],
   "source": [
    "import pandas as pd\n",
    "import numpy as np\n",
    "import seaborn as sns\n",
    "import matplotlib.pyplot as plt\n",
    "import imblearn\n",
    "\n",
    "from sklearn import preprocessing, svm, neighbors, datasets, model_selection, metrics\n",
    "from sklearn.svm import SVC, NuSVC\n",
    "from sklearn.naive_bayes import GaussianNB, MultinomialNB\n",
    "from sklearn.linear_model import LinearRegression, LogisticRegression\n",
    "from sklearn.model_selection import train_test_split, GridSearchCV\n",
    "from sklearn.metrics import classification_report,accuracy_score\n",
    "from sklearn.ensemble import AdaBoostClassifier,GradientBoostingClassifier,RandomForestClassifier"
   ]
  },
  {
   "cell_type": "code",
   "execution_count": 2,
   "id": "68ad5379",
   "metadata": {
    "ExecuteTime": {
     "end_time": "2021-12-19T12:34:42.452711Z",
     "start_time": "2021-12-19T12:34:41.492229Z"
    }
   },
   "outputs": [],
   "source": [
    "data = pd.read_csv('busiest_airport_airline_delays.csv')"
   ]
  },
  {
   "cell_type": "markdown",
   "id": "01349536",
   "metadata": {},
   "source": [
    "# Preprocessing"
   ]
  },
  {
   "cell_type": "code",
   "execution_count": 3,
   "id": "c2932e7b",
   "metadata": {
    "ExecuteTime": {
     "end_time": "2021-12-19T12:34:42.521300Z",
     "start_time": "2021-12-19T12:34:42.459286Z"
    }
   },
   "outputs": [
    {
     "data": {
      "text/html": [
       "<div>\n",
       "<style scoped>\n",
       "    .dataframe tbody tr th:only-of-type {\n",
       "        vertical-align: middle;\n",
       "    }\n",
       "\n",
       "    .dataframe tbody tr th {\n",
       "        vertical-align: top;\n",
       "    }\n",
       "\n",
       "    .dataframe thead th {\n",
       "        text-align: right;\n",
       "    }\n",
       "</style>\n",
       "<table border=\"1\" class=\"dataframe\">\n",
       "  <thead>\n",
       "    <tr style=\"text-align: right;\">\n",
       "      <th></th>\n",
       "      <th>DAY_OF_WEEK</th>\n",
       "      <th>DEP_DEL15</th>\n",
       "      <th>DISTANCE_GROUP</th>\n",
       "      <th>DEP_BLOCK</th>\n",
       "      <th>SEGMENT_NUMBER</th>\n",
       "      <th>CONCURRENT_FLIGHTS</th>\n",
       "      <th>NUMBER_OF_SEATS</th>\n",
       "      <th>CARRIER_NAME</th>\n",
       "      <th>AIRPORT_FLIGHTS_MONTH</th>\n",
       "      <th>AIRLINE_FLIGHTS_MONTH</th>\n",
       "      <th>...</th>\n",
       "      <th>PLANE_AGE</th>\n",
       "      <th>DEPARTING_AIRPORT</th>\n",
       "      <th>LATITUDE</th>\n",
       "      <th>LONGITUDE</th>\n",
       "      <th>PREVIOUS_AIRPORT</th>\n",
       "      <th>PRCP</th>\n",
       "      <th>SNOW</th>\n",
       "      <th>SNWD</th>\n",
       "      <th>TMAX</th>\n",
       "      <th>AWND</th>\n",
       "    </tr>\n",
       "  </thead>\n",
       "  <tbody>\n",
       "    <tr>\n",
       "      <th>0</th>\n",
       "      <td>3</td>\n",
       "      <td>0</td>\n",
       "      <td>5</td>\n",
       "      <td>MORNING</td>\n",
       "      <td>1</td>\n",
       "      <td>229</td>\n",
       "      <td>142</td>\n",
       "      <td>United Air Lines Inc.</td>\n",
       "      <td>32102</td>\n",
       "      <td>48104</td>\n",
       "      <td>...</td>\n",
       "      <td>19</td>\n",
       "      <td>Atlanta Municipal</td>\n",
       "      <td>33.641</td>\n",
       "      <td>-84.427</td>\n",
       "      <td>NONE</td>\n",
       "      <td>0.0</td>\n",
       "      <td>0.0</td>\n",
       "      <td>0.0</td>\n",
       "      <td>72.0</td>\n",
       "      <td>4.47</td>\n",
       "    </tr>\n",
       "    <tr>\n",
       "      <th>1</th>\n",
       "      <td>3</td>\n",
       "      <td>0</td>\n",
       "      <td>3</td>\n",
       "      <td>MORNING</td>\n",
       "      <td>1</td>\n",
       "      <td>229</td>\n",
       "      <td>120</td>\n",
       "      <td>United Air Lines Inc.</td>\n",
       "      <td>32102</td>\n",
       "      <td>48104</td>\n",
       "      <td>...</td>\n",
       "      <td>22</td>\n",
       "      <td>Atlanta Municipal</td>\n",
       "      <td>33.641</td>\n",
       "      <td>-84.427</td>\n",
       "      <td>NONE</td>\n",
       "      <td>0.0</td>\n",
       "      <td>0.0</td>\n",
       "      <td>0.0</td>\n",
       "      <td>72.0</td>\n",
       "      <td>4.47</td>\n",
       "    </tr>\n",
       "    <tr>\n",
       "      <th>2</th>\n",
       "      <td>3</td>\n",
       "      <td>0</td>\n",
       "      <td>9</td>\n",
       "      <td>MORNING</td>\n",
       "      <td>1</td>\n",
       "      <td>229</td>\n",
       "      <td>142</td>\n",
       "      <td>United Air Lines Inc.</td>\n",
       "      <td>32102</td>\n",
       "      <td>48104</td>\n",
       "      <td>...</td>\n",
       "      <td>24</td>\n",
       "      <td>Atlanta Municipal</td>\n",
       "      <td>33.641</td>\n",
       "      <td>-84.427</td>\n",
       "      <td>NONE</td>\n",
       "      <td>0.0</td>\n",
       "      <td>0.0</td>\n",
       "      <td>0.0</td>\n",
       "      <td>72.0</td>\n",
       "      <td>4.47</td>\n",
       "    </tr>\n",
       "    <tr>\n",
       "      <th>3</th>\n",
       "      <td>3</td>\n",
       "      <td>0</td>\n",
       "      <td>1</td>\n",
       "      <td>EARLY_MORNING</td>\n",
       "      <td>1</td>\n",
       "      <td>4</td>\n",
       "      <td>128</td>\n",
       "      <td>American Airlines Inc.</td>\n",
       "      <td>32102</td>\n",
       "      <td>75591</td>\n",
       "      <td>...</td>\n",
       "      <td>20</td>\n",
       "      <td>Atlanta Municipal</td>\n",
       "      <td>33.641</td>\n",
       "      <td>-84.427</td>\n",
       "      <td>NONE</td>\n",
       "      <td>0.0</td>\n",
       "      <td>0.0</td>\n",
       "      <td>0.0</td>\n",
       "      <td>72.0</td>\n",
       "      <td>4.47</td>\n",
       "    </tr>\n",
       "    <tr>\n",
       "      <th>4</th>\n",
       "      <td>3</td>\n",
       "      <td>0</td>\n",
       "      <td>2</td>\n",
       "      <td>MORNING</td>\n",
       "      <td>1</td>\n",
       "      <td>229</td>\n",
       "      <td>50</td>\n",
       "      <td>SkyWest Airlines Inc.</td>\n",
       "      <td>32102</td>\n",
       "      <td>69699</td>\n",
       "      <td>...</td>\n",
       "      <td>21</td>\n",
       "      <td>Atlanta Municipal</td>\n",
       "      <td>33.641</td>\n",
       "      <td>-84.427</td>\n",
       "      <td>NONE</td>\n",
       "      <td>0.0</td>\n",
       "      <td>0.0</td>\n",
       "      <td>0.0</td>\n",
       "      <td>72.0</td>\n",
       "      <td>4.47</td>\n",
       "    </tr>\n",
       "  </tbody>\n",
       "</table>\n",
       "<p>5 rows × 25 columns</p>\n",
       "</div>"
      ],
      "text/plain": [
       "   DAY_OF_WEEK  DEP_DEL15  DISTANCE_GROUP      DEP_BLOCK  SEGMENT_NUMBER  \\\n",
       "0            3          0               5        MORNING               1   \n",
       "1            3          0               3        MORNING               1   \n",
       "2            3          0               9        MORNING               1   \n",
       "3            3          0               1  EARLY_MORNING               1   \n",
       "4            3          0               2        MORNING               1   \n",
       "\n",
       "   CONCURRENT_FLIGHTS  NUMBER_OF_SEATS            CARRIER_NAME  \\\n",
       "0                 229              142   United Air Lines Inc.   \n",
       "1                 229              120   United Air Lines Inc.   \n",
       "2                 229              142   United Air Lines Inc.   \n",
       "3                   4              128  American Airlines Inc.   \n",
       "4                 229               50   SkyWest Airlines Inc.   \n",
       "\n",
       "   AIRPORT_FLIGHTS_MONTH  AIRLINE_FLIGHTS_MONTH  ...  PLANE_AGE  \\\n",
       "0                  32102                  48104  ...         19   \n",
       "1                  32102                  48104  ...         22   \n",
       "2                  32102                  48104  ...         24   \n",
       "3                  32102                  75591  ...         20   \n",
       "4                  32102                  69699  ...         21   \n",
       "\n",
       "   DEPARTING_AIRPORT  LATITUDE  LONGITUDE  PREVIOUS_AIRPORT  PRCP SNOW  SNWD  \\\n",
       "0  Atlanta Municipal    33.641    -84.427              NONE   0.0  0.0   0.0   \n",
       "1  Atlanta Municipal    33.641    -84.427              NONE   0.0  0.0   0.0   \n",
       "2  Atlanta Municipal    33.641    -84.427              NONE   0.0  0.0   0.0   \n",
       "3  Atlanta Municipal    33.641    -84.427              NONE   0.0  0.0   0.0   \n",
       "4  Atlanta Municipal    33.641    -84.427              NONE   0.0  0.0   0.0   \n",
       "\n",
       "   TMAX  AWND  \n",
       "0  72.0  4.47  \n",
       "1  72.0  4.47  \n",
       "2  72.0  4.47  \n",
       "3  72.0  4.47  \n",
       "4  72.0  4.47  \n",
       "\n",
       "[5 rows x 25 columns]"
      ]
     },
     "execution_count": 3,
     "metadata": {},
     "output_type": "execute_result"
    }
   ],
   "source": [
    "data.head()"
   ]
  },
  {
   "cell_type": "code",
   "execution_count": 4,
   "id": "86e1c55d",
   "metadata": {
    "ExecuteTime": {
     "end_time": "2021-12-19T12:34:43.332701Z",
     "start_time": "2021-12-19T12:34:42.527223Z"
    }
   },
   "outputs": [
    {
     "data": {
      "image/png": "[encoded data removed]",
      "text/plain": [
       "<Figure size 432x288 with 1 Axes>"
      ]
     },
     "metadata": {},
     "output_type": "display_data"
    }
   ],
   "source": [
    "sns.set_style('whitegrid')\n",
    "sns.countplot(x=data['DEP_DEL15'],data=data)\n",
    "plt.show()"
   ]
  },
  {
   "cell_type": "markdown",
   "id": "b7a55a80",
   "metadata": {},
   "source": [
    "## Data Cleaning"
   ]
  },
  {
   "cell_type": "code",
   "execution_count": 5,
   "id": "9f18ae67",
   "metadata": {
    "ExecuteTime": {
     "end_time": "2021-12-19T12:34:43.856672Z",
     "start_time": "2021-12-19T12:34:43.338419Z"
    }
   },
   "outputs": [
    {
     "data": {
      "text/html": [
       "<div>\n",
       "<style scoped>\n",
       "    .dataframe tbody tr th:only-of-type {\n",
       "        vertical-align: middle;\n",
       "    }\n",
       "\n",
       "    .dataframe tbody tr th {\n",
       "        vertical-align: top;\n",
       "    }\n",
       "\n",
       "    .dataframe thead th {\n",
       "        text-align: right;\n",
       "    }\n",
       "</style>\n",
       "<table border=\"1\" class=\"dataframe\">\n",
       "  <thead>\n",
       "    <tr style=\"text-align: right;\">\n",
       "      <th></th>\n",
       "      <th>DAY_OF_WEEK</th>\n",
       "      <th>DEP_DEL15</th>\n",
       "      <th>DISTANCE_GROUP</th>\n",
       "      <th>DEP_BLOCK</th>\n",
       "      <th>SEGMENT_NUMBER</th>\n",
       "      <th>CARRIER_NAME</th>\n",
       "      <th>AIRLINE_AIRPORT_FLIGHTS_MONTH</th>\n",
       "      <th>PLANE_AGE</th>\n",
       "      <th>DEPARTING_AIRPORT</th>\n",
       "      <th>PREVIOUS_AIRPORT</th>\n",
       "      <th>PRCP</th>\n",
       "      <th>SNOW</th>\n",
       "      <th>SNWD</th>\n",
       "      <th>TMAX</th>\n",
       "      <th>AWND</th>\n",
       "    </tr>\n",
       "  </thead>\n",
       "  <tbody>\n",
       "    <tr>\n",
       "      <th>0</th>\n",
       "      <td>3</td>\n",
       "      <td>0</td>\n",
       "      <td>5</td>\n",
       "      <td>MORNING</td>\n",
       "      <td>1</td>\n",
       "      <td>United Air Lines Inc.</td>\n",
       "      <td>361</td>\n",
       "      <td>19</td>\n",
       "      <td>Atlanta Municipal</td>\n",
       "      <td>NONE</td>\n",
       "      <td>0.0</td>\n",
       "      <td>0.0</td>\n",
       "      <td>0.0</td>\n",
       "      <td>72.0</td>\n",
       "      <td>4.47</td>\n",
       "    </tr>\n",
       "    <tr>\n",
       "      <th>1</th>\n",
       "      <td>3</td>\n",
       "      <td>0</td>\n",
       "      <td>3</td>\n",
       "      <td>MORNING</td>\n",
       "      <td>1</td>\n",
       "      <td>United Air Lines Inc.</td>\n",
       "      <td>361</td>\n",
       "      <td>22</td>\n",
       "      <td>Atlanta Municipal</td>\n",
       "      <td>NONE</td>\n",
       "      <td>0.0</td>\n",
       "      <td>0.0</td>\n",
       "      <td>0.0</td>\n",
       "      <td>72.0</td>\n",
       "      <td>4.47</td>\n",
       "    </tr>\n",
       "    <tr>\n",
       "      <th>2</th>\n",
       "      <td>3</td>\n",
       "      <td>0</td>\n",
       "      <td>9</td>\n",
       "      <td>MORNING</td>\n",
       "      <td>1</td>\n",
       "      <td>United Air Lines Inc.</td>\n",
       "      <td>361</td>\n",
       "      <td>24</td>\n",
       "      <td>Atlanta Municipal</td>\n",
       "      <td>NONE</td>\n",
       "      <td>0.0</td>\n",
       "      <td>0.0</td>\n",
       "      <td>0.0</td>\n",
       "      <td>72.0</td>\n",
       "      <td>4.47</td>\n",
       "    </tr>\n",
       "    <tr>\n",
       "      <th>3</th>\n",
       "      <td>3</td>\n",
       "      <td>0</td>\n",
       "      <td>1</td>\n",
       "      <td>EARLY_MORNING</td>\n",
       "      <td>1</td>\n",
       "      <td>American Airlines Inc.</td>\n",
       "      <td>892</td>\n",
       "      <td>20</td>\n",
       "      <td>Atlanta Municipal</td>\n",
       "      <td>NONE</td>\n",
       "      <td>0.0</td>\n",
       "      <td>0.0</td>\n",
       "      <td>0.0</td>\n",
       "      <td>72.0</td>\n",
       "      <td>4.47</td>\n",
       "    </tr>\n",
       "    <tr>\n",
       "      <th>4</th>\n",
       "      <td>3</td>\n",
       "      <td>0</td>\n",
       "      <td>2</td>\n",
       "      <td>MORNING</td>\n",
       "      <td>1</td>\n",
       "      <td>SkyWest Airlines Inc.</td>\n",
       "      <td>2048</td>\n",
       "      <td>21</td>\n",
       "      <td>Atlanta Municipal</td>\n",
       "      <td>NONE</td>\n",
       "      <td>0.0</td>\n",
       "      <td>0.0</td>\n",
       "      <td>0.0</td>\n",
       "      <td>72.0</td>\n",
       "      <td>4.47</td>\n",
       "    </tr>\n",
       "  </tbody>\n",
       "</table>\n",
       "</div>"
      ],
      "text/plain": [
       "   DAY_OF_WEEK  DEP_DEL15  DISTANCE_GROUP      DEP_BLOCK  SEGMENT_NUMBER  \\\n",
       "0            3          0               5        MORNING               1   \n",
       "1            3          0               3        MORNING               1   \n",
       "2            3          0               9        MORNING               1   \n",
       "3            3          0               1  EARLY_MORNING               1   \n",
       "4            3          0               2        MORNING               1   \n",
       "\n",
       "             CARRIER_NAME  AIRLINE_AIRPORT_FLIGHTS_MONTH  PLANE_AGE  \\\n",
       "0   United Air Lines Inc.                            361         19   \n",
       "1   United Air Lines Inc.                            361         22   \n",
       "2   United Air Lines Inc.                            361         24   \n",
       "3  American Airlines Inc.                            892         20   \n",
       "4   SkyWest Airlines Inc.                           2048         21   \n",
       "\n",
       "   DEPARTING_AIRPORT PREVIOUS_AIRPORT  PRCP  SNOW  SNWD  TMAX  AWND  \n",
       "0  Atlanta Municipal             NONE   0.0   0.0   0.0  72.0  4.47  \n",
       "1  Atlanta Municipal             NONE   0.0   0.0   0.0  72.0  4.47  \n",
       "2  Atlanta Municipal             NONE   0.0   0.0   0.0  72.0  4.47  \n",
       "3  Atlanta Municipal             NONE   0.0   0.0   0.0  72.0  4.47  \n",
       "4  Atlanta Municipal             NONE   0.0   0.0   0.0  72.0  4.47  "
      ]
     },
     "execution_count": 5,
     "metadata": {},
     "output_type": "execute_result"
    }
   ],
   "source": [
    "data = data.drop_duplicates()\n",
    "data = data.drop(columns=['AIRPORT_FLIGHTS_MONTH', 'AVG_MONTHLY_PASS_AIRPORT', 'AIRLINE_FLIGHTS_MONTH',\n",
    "                          'AVG_MONTHLY_PASS_AIRLINE', 'FLT_ATTENDANTS_PER_PASS', 'GROUND_SERV_PER_PASS'])\n",
    "data = data.drop(columns=['LATITUDE','LONGITUDE'])\n",
    "data = data.drop(columns=['CONCURRENT_FLIGHTS', 'NUMBER_OF_SEATS'])\n",
    "data.head()"
   ]
  },
  {
   "cell_type": "markdown",
   "id": "c581d726",
   "metadata": {},
   "source": [
    "## Categorical Data"
   ]
  },
  {
   "cell_type": "code",
   "execution_count": 6,
   "id": "ae76a339",
   "metadata": {
    "ExecuteTime": {
     "end_time": "2021-12-19T12:34:44.215326Z",
     "start_time": "2021-12-19T12:34:43.861398Z"
    }
   },
   "outputs": [],
   "source": [
    "label_encoder = preprocessing.LabelEncoder()\n",
    "data['DEP_BLOCK']= label_encoder.fit_transform(data['DEP_BLOCK'])\n",
    "data['CARRIER_NAME']= label_encoder.fit_transform(data['CARRIER_NAME'])\n",
    "data['DEPARTING_AIRPORT']= label_encoder.fit_transform(data['DEPARTING_AIRPORT'])\n",
    "data['PREVIOUS_AIRPORT']= label_encoder.fit_transform(data['PREVIOUS_AIRPORT'])"
   ]
  },
  {
   "cell_type": "code",
   "execution_count": 7,
   "id": "ca9b39c9",
   "metadata": {
    "ExecuteTime": {
     "end_time": "2021-12-19T12:34:44.266783Z",
     "start_time": "2021-12-19T12:34:44.219869Z"
    }
   },
   "outputs": [
    {
     "data": {
      "text/html": [
       "<div>\n",
       "<style scoped>\n",
       "    .dataframe tbody tr th:only-of-type {\n",
       "        vertical-align: middle;\n",
       "    }\n",
       "\n",
       "    .dataframe tbody tr th {\n",
       "        vertical-align: top;\n",
       "    }\n",
       "\n",
       "    .dataframe thead th {\n",
       "        text-align: right;\n",
       "    }\n",
       "</style>\n",
       "<table border=\"1\" class=\"dataframe\">\n",
       "  <thead>\n",
       "    <tr style=\"text-align: right;\">\n",
       "      <th></th>\n",
       "      <th>DAY_OF_WEEK</th>\n",
       "      <th>DEP_DEL15</th>\n",
       "      <th>DISTANCE_GROUP</th>\n",
       "      <th>DEP_BLOCK</th>\n",
       "      <th>SEGMENT_NUMBER</th>\n",
       "      <th>CARRIER_NAME</th>\n",
       "      <th>AIRLINE_AIRPORT_FLIGHTS_MONTH</th>\n",
       "      <th>PLANE_AGE</th>\n",
       "      <th>DEPARTING_AIRPORT</th>\n",
       "      <th>PREVIOUS_AIRPORT</th>\n",
       "      <th>PRCP</th>\n",
       "      <th>SNOW</th>\n",
       "      <th>SNWD</th>\n",
       "      <th>TMAX</th>\n",
       "      <th>AWND</th>\n",
       "    </tr>\n",
       "  </thead>\n",
       "  <tbody>\n",
       "    <tr>\n",
       "      <th>0</th>\n",
       "      <td>3</td>\n",
       "      <td>0</td>\n",
       "      <td>5</td>\n",
       "      <td>5</td>\n",
       "      <td>1</td>\n",
       "      <td>15</td>\n",
       "      <td>361</td>\n",
       "      <td>19</td>\n",
       "      <td>0</td>\n",
       "      <td>178</td>\n",
       "      <td>0.0</td>\n",
       "      <td>0.0</td>\n",
       "      <td>0.0</td>\n",
       "      <td>72.0</td>\n",
       "      <td>4.47</td>\n",
       "    </tr>\n",
       "    <tr>\n",
       "      <th>1</th>\n",
       "      <td>3</td>\n",
       "      <td>0</td>\n",
       "      <td>3</td>\n",
       "      <td>5</td>\n",
       "      <td>1</td>\n",
       "      <td>15</td>\n",
       "      <td>361</td>\n",
       "      <td>22</td>\n",
       "      <td>0</td>\n",
       "      <td>178</td>\n",
       "      <td>0.0</td>\n",
       "      <td>0.0</td>\n",
       "      <td>0.0</td>\n",
       "      <td>72.0</td>\n",
       "      <td>4.47</td>\n",
       "    </tr>\n",
       "    <tr>\n",
       "      <th>2</th>\n",
       "      <td>3</td>\n",
       "      <td>0</td>\n",
       "      <td>9</td>\n",
       "      <td>5</td>\n",
       "      <td>1</td>\n",
       "      <td>15</td>\n",
       "      <td>361</td>\n",
       "      <td>24</td>\n",
       "      <td>0</td>\n",
       "      <td>178</td>\n",
       "      <td>0.0</td>\n",
       "      <td>0.0</td>\n",
       "      <td>0.0</td>\n",
       "      <td>72.0</td>\n",
       "      <td>4.47</td>\n",
       "    </tr>\n",
       "    <tr>\n",
       "      <th>3</th>\n",
       "      <td>3</td>\n",
       "      <td>0</td>\n",
       "      <td>1</td>\n",
       "      <td>1</td>\n",
       "      <td>1</td>\n",
       "      <td>2</td>\n",
       "      <td>892</td>\n",
       "      <td>20</td>\n",
       "      <td>0</td>\n",
       "      <td>178</td>\n",
       "      <td>0.0</td>\n",
       "      <td>0.0</td>\n",
       "      <td>0.0</td>\n",
       "      <td>72.0</td>\n",
       "      <td>4.47</td>\n",
       "    </tr>\n",
       "    <tr>\n",
       "      <th>4</th>\n",
       "      <td>3</td>\n",
       "      <td>0</td>\n",
       "      <td>2</td>\n",
       "      <td>5</td>\n",
       "      <td>1</td>\n",
       "      <td>12</td>\n",
       "      <td>2048</td>\n",
       "      <td>21</td>\n",
       "      <td>0</td>\n",
       "      <td>178</td>\n",
       "      <td>0.0</td>\n",
       "      <td>0.0</td>\n",
       "      <td>0.0</td>\n",
       "      <td>72.0</td>\n",
       "      <td>4.47</td>\n",
       "    </tr>\n",
       "  </tbody>\n",
       "</table>\n",
       "</div>"
      ],
      "text/plain": [
       "   DAY_OF_WEEK  DEP_DEL15  DISTANCE_GROUP  DEP_BLOCK  SEGMENT_NUMBER  \\\n",
       "0            3          0               5          5               1   \n",
       "1            3          0               3          5               1   \n",
       "2            3          0               9          5               1   \n",
       "3            3          0               1          1               1   \n",
       "4            3          0               2          5               1   \n",
       "\n",
       "   CARRIER_NAME  AIRLINE_AIRPORT_FLIGHTS_MONTH  PLANE_AGE  DEPARTING_AIRPORT  \\\n",
       "0            15                            361         19                  0   \n",
       "1            15                            361         22                  0   \n",
       "2            15                            361         24                  0   \n",
       "3             2                            892         20                  0   \n",
       "4            12                           2048         21                  0   \n",
       "\n",
       "   PREVIOUS_AIRPORT  PRCP  SNOW  SNWD  TMAX  AWND  \n",
       "0               178   0.0   0.0   0.0  72.0  4.47  \n",
       "1               178   0.0   0.0   0.0  72.0  4.47  \n",
       "2               178   0.0   0.0   0.0  72.0  4.47  \n",
       "3               178   0.0   0.0   0.0  72.0  4.47  \n",
       "4               178   0.0   0.0   0.0  72.0  4.47  "
      ]
     },
     "execution_count": 7,
     "metadata": {},
     "output_type": "execute_result"
    }
   ],
   "source": [
    "data.head()"
   ]
  },
  {
   "cell_type": "markdown",
   "id": "a5bc3294",
   "metadata": {},
   "source": [
    "## Split Data"
   ]
  },
  {
   "cell_type": "code",
   "execution_count": 8,
   "id": "b325bb8f",
   "metadata": {
    "ExecuteTime": {
     "end_time": "2021-12-19T12:34:44.330166Z",
     "start_time": "2021-12-19T12:34:44.270569Z"
    }
   },
   "outputs": [
    {
     "data": {
      "text/html": [
       "<div>\n",
       "<style scoped>\n",
       "    .dataframe tbody tr th:only-of-type {\n",
       "        vertical-align: middle;\n",
       "    }\n",
       "\n",
       "    .dataframe tbody tr th {\n",
       "        vertical-align: top;\n",
       "    }\n",
       "\n",
       "    .dataframe thead th {\n",
       "        text-align: right;\n",
       "    }\n",
       "</style>\n",
       "<table border=\"1\" class=\"dataframe\">\n",
       "  <thead>\n",
       "    <tr style=\"text-align: right;\">\n",
       "      <th></th>\n",
       "      <th>DAY_OF_WEEK</th>\n",
       "      <th>DISTANCE_GROUP</th>\n",
       "      <th>DEP_BLOCK</th>\n",
       "      <th>SEGMENT_NUMBER</th>\n",
       "      <th>CARRIER_NAME</th>\n",
       "      <th>AIRLINE_AIRPORT_FLIGHTS_MONTH</th>\n",
       "      <th>PLANE_AGE</th>\n",
       "      <th>DEPARTING_AIRPORT</th>\n",
       "      <th>PREVIOUS_AIRPORT</th>\n",
       "      <th>PRCP</th>\n",
       "      <th>SNOW</th>\n",
       "      <th>SNWD</th>\n",
       "      <th>TMAX</th>\n",
       "      <th>AWND</th>\n",
       "    </tr>\n",
       "  </thead>\n",
       "  <tbody>\n",
       "    <tr>\n",
       "      <th>0</th>\n",
       "      <td>3</td>\n",
       "      <td>5</td>\n",
       "      <td>5</td>\n",
       "      <td>1</td>\n",
       "      <td>15</td>\n",
       "      <td>361</td>\n",
       "      <td>19</td>\n",
       "      <td>0</td>\n",
       "      <td>178</td>\n",
       "      <td>0.0</td>\n",
       "      <td>0.0</td>\n",
       "      <td>0.0</td>\n",
       "      <td>72.0</td>\n",
       "      <td>4.47</td>\n",
       "    </tr>\n",
       "    <tr>\n",
       "      <th>1</th>\n",
       "      <td>3</td>\n",
       "      <td>3</td>\n",
       "      <td>5</td>\n",
       "      <td>1</td>\n",
       "      <td>15</td>\n",
       "      <td>361</td>\n",
       "      <td>22</td>\n",
       "      <td>0</td>\n",
       "      <td>178</td>\n",
       "      <td>0.0</td>\n",
       "      <td>0.0</td>\n",
       "      <td>0.0</td>\n",
       "      <td>72.0</td>\n",
       "      <td>4.47</td>\n",
       "    </tr>\n",
       "    <tr>\n",
       "      <th>2</th>\n",
       "      <td>3</td>\n",
       "      <td>9</td>\n",
       "      <td>5</td>\n",
       "      <td>1</td>\n",
       "      <td>15</td>\n",
       "      <td>361</td>\n",
       "      <td>24</td>\n",
       "      <td>0</td>\n",
       "      <td>178</td>\n",
       "      <td>0.0</td>\n",
       "      <td>0.0</td>\n",
       "      <td>0.0</td>\n",
       "      <td>72.0</td>\n",
       "      <td>4.47</td>\n",
       "    </tr>\n",
       "    <tr>\n",
       "      <th>3</th>\n",
       "      <td>3</td>\n",
       "      <td>1</td>\n",
       "      <td>1</td>\n",
       "      <td>1</td>\n",
       "      <td>2</td>\n",
       "      <td>892</td>\n",
       "      <td>20</td>\n",
       "      <td>0</td>\n",
       "      <td>178</td>\n",
       "      <td>0.0</td>\n",
       "      <td>0.0</td>\n",
       "      <td>0.0</td>\n",
       "      <td>72.0</td>\n",
       "      <td>4.47</td>\n",
       "    </tr>\n",
       "    <tr>\n",
       "      <th>4</th>\n",
       "      <td>3</td>\n",
       "      <td>2</td>\n",
       "      <td>5</td>\n",
       "      <td>1</td>\n",
       "      <td>12</td>\n",
       "      <td>2048</td>\n",
       "      <td>21</td>\n",
       "      <td>0</td>\n",
       "      <td>178</td>\n",
       "      <td>0.0</td>\n",
       "      <td>0.0</td>\n",
       "      <td>0.0</td>\n",
       "      <td>72.0</td>\n",
       "      <td>4.47</td>\n",
       "    </tr>\n",
       "  </tbody>\n",
       "</table>\n",
       "</div>"
      ],
      "text/plain": [
       "   DAY_OF_WEEK  DISTANCE_GROUP  DEP_BLOCK  SEGMENT_NUMBER  CARRIER_NAME  \\\n",
       "0            3               5          5               1            15   \n",
       "1            3               3          5               1            15   \n",
       "2            3               9          5               1            15   \n",
       "3            3               1          1               1             2   \n",
       "4            3               2          5               1            12   \n",
       "\n",
       "   AIRLINE_AIRPORT_FLIGHTS_MONTH  PLANE_AGE  DEPARTING_AIRPORT  \\\n",
       "0                            361         19                  0   \n",
       "1                            361         22                  0   \n",
       "2                            361         24                  0   \n",
       "3                            892         20                  0   \n",
       "4                           2048         21                  0   \n",
       "\n",
       "   PREVIOUS_AIRPORT  PRCP  SNOW  SNWD  TMAX  AWND  \n",
       "0               178   0.0   0.0   0.0  72.0  4.47  \n",
       "1               178   0.0   0.0   0.0  72.0  4.47  \n",
       "2               178   0.0   0.0   0.0  72.0  4.47  \n",
       "3               178   0.0   0.0   0.0  72.0  4.47  \n",
       "4               178   0.0   0.0   0.0  72.0  4.47  "
      ]
     },
     "execution_count": 8,
     "metadata": {},
     "output_type": "execute_result"
    }
   ],
   "source": [
    "# data_feat yang khusus hanya akan berisi nilai-nilai atribut/fitur/variabel saja.\n",
    "# data_target yang khusus hanya akan berisi label/kelas/target \n",
    "df_feat = data.drop('DEP_DEL15',axis=1) \n",
    "df_feat.head()"
   ]
  },
  {
   "cell_type": "code",
   "execution_count": 9,
   "id": "d03098c1",
   "metadata": {
    "ExecuteTime": {
     "end_time": "2021-12-19T12:34:44.351713Z",
     "start_time": "2021-12-19T12:34:44.334168Z"
    }
   },
   "outputs": [
    {
     "data": {
      "text/plain": [
       "0    0\n",
       "1    0\n",
       "2    0\n",
       "3    0\n",
       "4    0\n",
       "Name: DEP_DEL15, dtype: int64"
      ]
     },
     "execution_count": 9,
     "metadata": {},
     "output_type": "execute_result"
    }
   ],
   "source": [
    "df_target = data['DEP_DEL15'] \n",
    "df_target.head()"
   ]
  },
  {
   "cell_type": "code",
   "execution_count": 10,
   "id": "33ebf9f2",
   "metadata": {
    "ExecuteTime": {
     "end_time": "2021-12-19T12:34:44.434120Z",
     "start_time": "2021-12-19T12:34:44.357468Z"
    }
   },
   "outputs": [
    {
     "name": "stdout",
     "output_type": "stream",
     "text": [
      "Jumlah Training Data :  83811  | Jumlah Test Data :  35920\n"
     ]
    }
   ],
   "source": [
    "X_train, X_test, y_train, y_test = train_test_split(df_feat, df_target, test_size=0.30, random_state=0)\n",
    "print(\"Jumlah Training Data : \", len(X_train), \" | Jumlah Test Data : \", len(X_test))"
   ]
  },
  {
   "cell_type": "markdown",
   "id": "d1503f08",
   "metadata": {},
   "source": [
    "### Oversampling"
   ]
  },
  {
   "cell_type": "code",
   "execution_count": 11,
   "id": "01691280",
   "metadata": {
    "ExecuteTime": {
     "end_time": "2021-12-19T12:34:45.297057Z",
     "start_time": "2021-12-19T12:34:44.439414Z"
    }
   },
   "outputs": [
    {
     "data": {
      "text/plain": [
       "0    71137\n",
       "1    71137\n",
       "Name: DEP_DEL15, dtype: int64"
      ]
     },
     "execution_count": 11,
     "metadata": {},
     "output_type": "execute_result"
    }
   ],
   "source": [
    "oversample = imblearn.over_sampling.SMOTE()\n",
    "X_train, y_train = oversample.fit_resample(X_train, y_train)\n",
    "y_train.value_counts()"
   ]
  },
  {
   "cell_type": "markdown",
   "id": "d5942552",
   "metadata": {},
   "source": [
    "## Transform Data"
   ]
  },
  {
   "cell_type": "code",
   "execution_count": 12,
   "id": "4bfcfa30",
   "metadata": {
    "ExecuteTime": {
     "end_time": "2021-12-19T12:34:45.441180Z",
     "start_time": "2021-12-19T12:34:45.299135Z"
    }
   },
   "outputs": [
    {
     "data": {
      "text/plain": [
       "array([[ 0.6047935 ,  0.9868418 , -1.37193532, ..., -0.33385487,\n",
       "         0.30303965,  1.8702535 ],\n",
       "       [ 0.05483574, -1.23844001, -1.37193532, ..., -0.33385487,\n",
       "        -0.03778668, -0.9136855 ],\n",
       "       [ 0.05483574,  0.43052135,  0.35700747, ..., -0.33385487,\n",
       "        -0.12299327, -0.64981908],\n",
       "       ...,\n",
       "       [ 1.70470902, -1.23844001,  1.509636  , ..., -0.33385487,\n",
       "         0.38824624,  0.34635079],\n",
       "       [ 0.6047935 , -1.23844001, -0.21930679, ..., -0.33385487,\n",
       "         0.30303965, -0.9818757 ],\n",
       "       [-1.04507977, -0.68211956, -1.37193532, ..., -0.33385487,\n",
       "        -0.88985252,  0.27816059]])"
      ]
     },
     "execution_count": 12,
     "metadata": {},
     "output_type": "execute_result"
    }
   ],
   "source": [
    "from sklearn.preprocessing import StandardScaler\n",
    "\n",
    "StdScaler = StandardScaler()\n",
    "X_train_scaled = StdScaler.fit_transform(X_train)\n",
    "X_test_scaled = StdScaler.transform(X_test)\n",
    "X_test_scaled"
   ]
  },
  {
   "cell_type": "markdown",
   "id": "a2c98986",
   "metadata": {},
   "source": [
    "# Modelling"
   ]
  },
  {
   "cell_type": "markdown",
   "id": "30bb370f",
   "metadata": {},
   "source": [
    "## XGBoost"
   ]
  },
  {
   "cell_type": "markdown",
   "id": "edb88235",
   "metadata": {},
   "source": [
    "### AdaBoost"
   ]
  },
  {
   "cell_type": "code",
   "execution_count": 13,
   "id": "1f55cc75",
   "metadata": {
    "ExecuteTime": {
     "end_time": "2021-12-19T12:35:03.520074Z",
     "start_time": "2021-12-19T12:34:45.444479Z"
    }
   },
   "outputs": [
    {
     "data": {
      "text/plain": [
       "0.6766425389755011"
      ]
     },
     "execution_count": 13,
     "metadata": {},
     "output_type": "execute_result"
    }
   ],
   "source": [
    "abcmodel = AdaBoostClassifier()\n",
    "abcmodel.fit(X_train, y_train)\n",
    "y_pred = abcmodel.predict(X_test)\n",
    "accuracy_score(y_test, y_pred)"
   ]
  },
  {
   "cell_type": "code",
   "execution_count": 14,
   "id": "5e43ec32",
   "metadata": {
    "ExecuteTime": {
     "end_time": "2021-12-19T12:35:03.668439Z",
     "start_time": "2021-12-19T12:35:03.521920Z"
    }
   },
   "outputs": [
    {
     "name": "stdout",
     "output_type": "stream",
     "text": [
      "              precision    recall  f1-score   support\n",
      "\n",
      "           0       0.88      0.72      0.79     30535\n",
      "           1       0.22      0.44      0.29      5385\n",
      "\n",
      "    accuracy                           0.68     35920\n",
      "   macro avg       0.55      0.58      0.54     35920\n",
      "weighted avg       0.78      0.68      0.72     35920\n",
      "\n"
     ]
    }
   ],
   "source": [
    "print(classification_report(y_test, y_pred))"
   ]
  },
  {
   "cell_type": "raw",
   "id": "f4bfcb41",
   "metadata": {
    "ExecuteTime": {
     "end_time": "2021-12-19T04:59:13.290770Z",
     "start_time": "2021-12-19T04:52:30.928574Z"
    }
   },
   "source": [
    "abcmodel = AdaBoostClassifier(random_state=100)\n",
    "params = {\n",
    "    'n_estimators':(50,100,150),\n",
    "    'learning_rate':[0.5, 1, 1.5]\n",
    "}\n",
    "gs = GridSearchCV(abcmodel, params)\n",
    "gs.fit(X_train, y_train)\n",
    "y_pred = gs.predict(X_test)\n",
    "print('Best parameter: ', gs.best_params_)"
   ]
  },
  {
   "cell_type": "code",
   "execution_count": 15,
   "id": "7c88bb50",
   "metadata": {
    "ExecuteTime": {
     "end_time": "2021-12-19T12:35:53.660950Z",
     "start_time": "2021-12-19T12:35:03.670450Z"
    }
   },
   "outputs": [
    {
     "data": {
      "text/plain": [
       "0.7299276169265033"
      ]
     },
     "execution_count": 15,
     "metadata": {},
     "output_type": "execute_result"
    }
   ],
   "source": [
    "abcmodel = AdaBoostClassifier(learning_rate=1.5,\n",
    "                              n_estimators=150)\n",
    "abcmodel.fit(X_train, y_train)\n",
    "y_pred = abcmodel.predict(X_test)\n",
    "accuracy_score(y_test, y_pred)"
   ]
  },
  {
   "cell_type": "code",
   "execution_count": 16,
   "id": "c372e1ce",
   "metadata": {
    "ExecuteTime": {
     "end_time": "2021-12-19T12:35:53.806034Z",
     "start_time": "2021-12-19T12:35:53.665283Z"
    }
   },
   "outputs": [
    {
     "name": "stdout",
     "output_type": "stream",
     "text": [
      "              precision    recall  f1-score   support\n",
      "\n",
      "           0       0.88      0.79      0.83     30535\n",
      "           1       0.24      0.37      0.29      5385\n",
      "\n",
      "    accuracy                           0.73     35920\n",
      "   macro avg       0.56      0.58      0.56     35920\n",
      "weighted avg       0.78      0.73      0.75     35920\n",
      "\n"
     ]
    }
   ],
   "source": [
    "print(classification_report(y_test, y_pred))"
   ]
  },
  {
   "cell_type": "markdown",
   "id": "b1793abc",
   "metadata": {},
   "source": [
    "### Gradient Boost"
   ]
  },
  {
   "cell_type": "code",
   "execution_count": 17,
   "id": "ef784943",
   "metadata": {
    "ExecuteTime": {
     "end_time": "2021-12-19T12:36:51.425872Z",
     "start_time": "2021-12-19T12:35:53.810902Z"
    }
   },
   "outputs": [
    {
     "data": {
      "text/plain": [
       "0.7372216035634744"
      ]
     },
     "execution_count": 17,
     "metadata": {},
     "output_type": "execute_result"
    }
   ],
   "source": [
    "gbcmodel = GradientBoostingClassifier()\n",
    "gbcmodel.fit(X_train, y_train)\n",
    "y_pred = gbcmodel.predict(X_test)\n",
    "accuracy_score(y_test, y_pred)"
   ]
  },
  {
   "cell_type": "code",
   "execution_count": 18,
   "id": "efd25438",
   "metadata": {
    "ExecuteTime": {
     "end_time": "2021-12-19T12:36:51.554674Z",
     "start_time": "2021-12-19T12:36:51.430891Z"
    }
   },
   "outputs": [
    {
     "name": "stdout",
     "output_type": "stream",
     "text": [
      "              precision    recall  f1-score   support\n",
      "\n",
      "           0       0.88      0.80      0.84     30535\n",
      "           1       0.26      0.39      0.31      5385\n",
      "\n",
      "    accuracy                           0.74     35920\n",
      "   macro avg       0.57      0.60      0.57     35920\n",
      "weighted avg       0.79      0.74      0.76     35920\n",
      "\n"
     ]
    }
   ],
   "source": [
    "print(classification_report(y_test, y_pred))"
   ]
  },
  {
   "cell_type": "code",
   "execution_count": 19,
   "id": "9dec1202",
   "metadata": {
    "ExecuteTime": {
     "end_time": "2021-12-19T12:38:54.886749Z",
     "start_time": "2021-12-19T12:36:51.559120Z"
    }
   },
   "outputs": [],
   "source": [
    "gbc = GradientBoostingClassifier(learning_rate=1.5,\n",
    "                                 n_estimators=200)\n",
    "gbc.fit(X_train, y_train)\n",
    "y_pred = gbc.predict(X_test)"
   ]
  },
  {
   "cell_type": "code",
   "execution_count": 20,
   "id": "59e62286",
   "metadata": {
    "ExecuteTime": {
     "end_time": "2021-12-19T12:38:55.020989Z",
     "start_time": "2021-12-19T12:38:54.887806Z"
    }
   },
   "outputs": [
    {
     "name": "stdout",
     "output_type": "stream",
     "text": [
      "              precision    recall  f1-score   support\n",
      "\n",
      "           0       0.88      0.92      0.90     30535\n",
      "           1       0.38      0.26      0.31      5385\n",
      "\n",
      "    accuracy                           0.82     35920\n",
      "   macro avg       0.63      0.59      0.60     35920\n",
      "weighted avg       0.80      0.82      0.81     35920\n",
      "\n"
     ]
    }
   ],
   "source": [
    "print(classification_report(y_test, y_pred))"
   ]
  },
  {
   "cell_type": "markdown",
   "id": "46b71398",
   "metadata": {},
   "source": [
    "## KNN"
   ]
  },
  {
   "cell_type": "code",
   "execution_count": 21,
   "id": "af3d43c6",
   "metadata": {
    "ExecuteTime": {
     "end_time": "2021-12-19T12:39:04.894884Z",
     "start_time": "2021-12-19T12:38:55.026200Z"
    }
   },
   "outputs": [
    {
     "data": {
      "text/plain": [
       "0.6655902004454343"
      ]
     },
     "execution_count": 21,
     "metadata": {},
     "output_type": "execute_result"
    }
   ],
   "source": [
    "knnmodel = neighbors.KNeighborsClassifier(n_neighbors=3)\n",
    "knnmodel.fit(X_train, y_train)\n",
    "y_pred = knnmodel.predict(X_test)\n",
    "accuracy_score(y_test, y_pred)"
   ]
  },
  {
   "cell_type": "code",
   "execution_count": 22,
   "id": "bd2f1d3a",
   "metadata": {
    "ExecuteTime": {
     "end_time": "2021-12-19T12:39:05.052471Z",
     "start_time": "2021-12-19T12:39:04.894884Z"
    },
    "scrolled": true
   },
   "outputs": [
    {
     "name": "stdout",
     "output_type": "stream",
     "text": [
      "              precision    recall  f1-score   support\n",
      "\n",
      "           0       0.87      0.71      0.78     30535\n",
      "           1       0.20      0.40      0.26      5385\n",
      "\n",
      "    accuracy                           0.67     35920\n",
      "   macro avg       0.53      0.56      0.52     35920\n",
      "weighted avg       0.77      0.67      0.71     35920\n",
      "\n"
     ]
    }
   ],
   "source": [
    "print(classification_report(y_test,y_pred))"
   ]
  },
  {
   "cell_type": "markdown",
   "id": "91c3fa6c",
   "metadata": {},
   "source": [
    "## Random Forest"
   ]
  },
  {
   "cell_type": "code",
   "execution_count": 23,
   "id": "de4bb266",
   "metadata": {
    "ExecuteTime": {
     "end_time": "2021-12-19T12:43:18.398947Z",
     "start_time": "2021-12-19T12:39:05.057720Z"
    }
   },
   "outputs": [
    {
     "data": {
      "text/plain": [
       "0.8250835189309577"
      ]
     },
     "execution_count": 23,
     "metadata": {},
     "output_type": "execute_result"
    }
   ],
   "source": [
    "RFmodel = RandomForestClassifier(n_estimators = 500,\n",
    "                                 criterion = 'entropy',\n",
    "                                 random_state = 0)\n",
    "RFmodel.fit(X_train, y_train)\n",
    "y_pred = RFmodel.predict(X_test)\n",
    "accuracy_score(y_test,y_pred)"
   ]
  },
  {
   "cell_type": "code",
   "execution_count": 24,
   "id": "334dd11f",
   "metadata": {
    "ExecuteTime": {
     "end_time": "2021-12-19T12:43:18.508932Z",
     "start_time": "2021-12-19T12:43:18.411940Z"
    }
   },
   "outputs": [
    {
     "name": "stdout",
     "output_type": "stream",
     "text": [
      "              precision    recall  f1-score   support\n",
      "\n",
      "           0       0.87      0.93      0.90     30535\n",
      "           1       0.37      0.24      0.29      5385\n",
      "\n",
      "    accuracy                           0.83     35920\n",
      "   macro avg       0.62      0.58      0.60     35920\n",
      "weighted avg       0.80      0.83      0.81     35920\n",
      "\n"
     ]
    }
   ],
   "source": [
    "print(classification_report(y_test, y_pred))"
   ]
  },
  {
   "cell_type": "markdown",
   "id": "c7e718f7",
   "metadata": {},
   "source": [
    "## Naive Bayessian"
   ]
  },
  {
   "cell_type": "code",
   "execution_count": 25,
   "id": "0912ded5",
   "metadata": {
    "ExecuteTime": {
     "end_time": "2021-12-19T12:43:18.741108Z",
     "start_time": "2021-12-19T12:43:18.511935Z"
    }
   },
   "outputs": [
    {
     "data": {
      "text/plain": [
       "0.6853563474387527"
      ]
     },
     "execution_count": 25,
     "metadata": {},
     "output_type": "execute_result"
    }
   ],
   "source": [
    "GNBmodel = GaussianNB()\n",
    "GNBmodel.fit(X_train, y_train)\n",
    "GNBmodel.get_params()\n",
    "y_pred = GNBmodel.predict(X_test)\n",
    "accuracy_score(y_test,y_pred)"
   ]
  },
  {
   "cell_type": "code",
   "execution_count": 26,
   "id": "433493b2",
   "metadata": {
    "ExecuteTime": {
     "end_time": "2021-12-19T12:43:18.852395Z",
     "start_time": "2021-12-19T12:43:18.745113Z"
    }
   },
   "outputs": [
    {
     "name": "stdout",
     "output_type": "stream",
     "text": [
      "              precision    recall  f1-score   support\n",
      "\n",
      "           0       0.88      0.73      0.80     30535\n",
      "           1       0.21      0.41      0.28      5385\n",
      "\n",
      "    accuracy                           0.69     35920\n",
      "   macro avg       0.54      0.57      0.54     35920\n",
      "weighted avg       0.78      0.69      0.72     35920\n",
      "\n"
     ]
    }
   ],
   "source": [
    "print(classification_report(y_test, y_pred))"
   ]
  },
  {
   "cell_type": "code",
   "execution_count": 27,
   "id": "24f9e689",
   "metadata": {
    "ExecuteTime": {
     "end_time": "2021-12-19T12:43:19.012387Z",
     "start_time": "2021-12-19T12:43:18.859386Z"
    }
   },
   "outputs": [
    {
     "data": {
      "text/plain": [
       "0.4517817371937639"
      ]
     },
     "execution_count": 27,
     "metadata": {},
     "output_type": "execute_result"
    }
   ],
   "source": [
    "Mmodel = MultinomialNB()\n",
    "Mmodel.fit(X_train, y_train)\n",
    "Mmodel.get_params()\n",
    "y_pred = Mmodel.predict(X_test)\n",
    "accuracy_score(y_test,y_pred)"
   ]
  },
  {
   "cell_type": "code",
   "execution_count": 28,
   "id": "e098b28f",
   "metadata": {
    "ExecuteTime": {
     "end_time": "2021-12-19T12:43:19.154387Z",
     "start_time": "2021-12-19T12:43:19.042405Z"
    }
   },
   "outputs": [
    {
     "name": "stdout",
     "output_type": "stream",
     "text": [
      "              precision    recall  f1-score   support\n",
      "\n",
      "           0       0.85      0.43      0.57     30535\n",
      "           1       0.15      0.58      0.24      5385\n",
      "\n",
      "    accuracy                           0.45     35920\n",
      "   macro avg       0.50      0.50      0.41     35920\n",
      "weighted avg       0.75      0.45      0.52     35920\n",
      "\n"
     ]
    }
   ],
   "source": [
    "print(classification_report(y_test, y_pred))"
   ]
  },
  {
   "cell_type": "code",
   "execution_count": null,
   "id": "7ee2410a",
   "metadata": {},
   "outputs": [],
   "source": []
  }
 ],
 "metadata": {
  "kernelspec": {
   "display_name": "Python 3 (ipykernel)",
   "language": "python",
   "name": "python3"
  },
  "language_info": {
   "codemirror_mode": {
    "name": "ipython",
    "version": 3
   },
   "file_extension": ".py",
   "mimetype": "text/x-python",
   "name": "python",
   "nbconvert_exporter": "python",
   "pygments_lexer": "ipython3",
   "version": "3.8.12"
  },
  "toc": {
   "base_numbering": 1,
   "nav_menu": {},
   "number_sections": true,
   "sideBar": true,
   "skip_h1_title": false,
   "title_cell": "Table of Contents",
   "title_sidebar": "Contents",
   "toc_cell": false,
   "toc_position": {},
   "toc_section_display": true,
   "toc_window_display": false
  }
 },
 "nbformat": 4,
 "nbformat_minor": 5
}
