{
 "cells": [
  {
   "cell_type": "markdown",
   "metadata": {
    "id": "GRVt1W8EOSHp"
   },
   "source": [
    "**IMPORT LIBRARY & LOAD DATA**"
   ]
  },
  {
   "cell_type": "code",
   "execution_count": 1,
   "metadata": {
    "colab": {
     "base_uri": "https://localhost:8080/",
     "height": 423
    },
    "id": "Ehw7n8XoMMun",
    "outputId": "67cb81c1-61e6-4787-d765-5b1d9e240b34"
   },
   "outputs": [
    {
     "data": {
      "text/html": [
       "<div>\n",
       "<style scoped>\n",
       "    .dataframe tbody tr th:only-of-type {\n",
       "        vertical-align: middle;\n",
       "    }\n",
       "\n",
       "    .dataframe tbody tr th {\n",
       "        vertical-align: top;\n",
       "    }\n",
       "\n",
       "    .dataframe thead th {\n",
       "        text-align: right;\n",
       "    }\n",
       "</style>\n",
       "<table border=\"1\" class=\"dataframe\">\n",
       "  <thead>\n",
       "    <tr style=\"text-align: right;\">\n",
       "      <th></th>\n",
       "      <th>sepal length (cm)</th>\n",
       "      <th>sepal width (cm)</th>\n",
       "      <th>petal length (cm)</th>\n",
       "      <th>petal width (cm)</th>\n",
       "    </tr>\n",
       "  </thead>\n",
       "  <tbody>\n",
       "    <tr>\n",
       "      <th>0</th>\n",
       "      <td>5.1</td>\n",
       "      <td>3.5</td>\n",
       "      <td>1.4</td>\n",
       "      <td>0.2</td>\n",
       "    </tr>\n",
       "    <tr>\n",
       "      <th>1</th>\n",
       "      <td>4.9</td>\n",
       "      <td>3.0</td>\n",
       "      <td>1.4</td>\n",
       "      <td>0.2</td>\n",
       "    </tr>\n",
       "    <tr>\n",
       "      <th>2</th>\n",
       "      <td>4.7</td>\n",
       "      <td>3.2</td>\n",
       "      <td>1.3</td>\n",
       "      <td>0.2</td>\n",
       "    </tr>\n",
       "    <tr>\n",
       "      <th>3</th>\n",
       "      <td>4.6</td>\n",
       "      <td>3.1</td>\n",
       "      <td>1.5</td>\n",
       "      <td>0.2</td>\n",
       "    </tr>\n",
       "    <tr>\n",
       "      <th>4</th>\n",
       "      <td>5.0</td>\n",
       "      <td>3.6</td>\n",
       "      <td>1.4</td>\n",
       "      <td>0.2</td>\n",
       "    </tr>\n",
       "    <tr>\n",
       "      <th>...</th>\n",
       "      <td>...</td>\n",
       "      <td>...</td>\n",
       "      <td>...</td>\n",
       "      <td>...</td>\n",
       "    </tr>\n",
       "    <tr>\n",
       "      <th>145</th>\n",
       "      <td>6.7</td>\n",
       "      <td>3.0</td>\n",
       "      <td>5.2</td>\n",
       "      <td>2.3</td>\n",
       "    </tr>\n",
       "    <tr>\n",
       "      <th>146</th>\n",
       "      <td>6.3</td>\n",
       "      <td>2.5</td>\n",
       "      <td>5.0</td>\n",
       "      <td>1.9</td>\n",
       "    </tr>\n",
       "    <tr>\n",
       "      <th>147</th>\n",
       "      <td>6.5</td>\n",
       "      <td>3.0</td>\n",
       "      <td>5.2</td>\n",
       "      <td>2.0</td>\n",
       "    </tr>\n",
       "    <tr>\n",
       "      <th>148</th>\n",
       "      <td>6.2</td>\n",
       "      <td>3.4</td>\n",
       "      <td>5.4</td>\n",
       "      <td>2.3</td>\n",
       "    </tr>\n",
       "    <tr>\n",
       "      <th>149</th>\n",
       "      <td>5.9</td>\n",
       "      <td>3.0</td>\n",
       "      <td>5.1</td>\n",
       "      <td>1.8</td>\n",
       "    </tr>\n",
       "  </tbody>\n",
       "</table>\n",
       "<p>150 rows × 4 columns</p>\n",
       "</div>"
      ],
      "text/plain": [
       "     sepal length (cm)  sepal width (cm)  petal length (cm)  petal width (cm)\n",
       "0                  5.1               3.5                1.4               0.2\n",
       "1                  4.9               3.0                1.4               0.2\n",
       "2                  4.7               3.2                1.3               0.2\n",
       "3                  4.6               3.1                1.5               0.2\n",
       "4                  5.0               3.6                1.4               0.2\n",
       "..                 ...               ...                ...               ...\n",
       "145                6.7               3.0                5.2               2.3\n",
       "146                6.3               2.5                5.0               1.9\n",
       "147                6.5               3.0                5.2               2.0\n",
       "148                6.2               3.4                5.4               2.3\n",
       "149                5.9               3.0                5.1               1.8\n",
       "\n",
       "[150 rows x 4 columns]"
      ]
     },
     "execution_count": 1,
     "metadata": {},
     "output_type": "execute_result"
    }
   ],
   "source": [
    "from sklearn.datasets import load_iris\n",
    "from sklearn.model_selection import train_test_split\n",
    "from sklearn.naive_bayes import GaussianNB\n",
    "from sklearn.metrics import confusion_matrix\n",
    "from sklearn.model_selection import cross_val_score\n",
    "import pandas as pd\n",
    "import numpy as np\n",
    "%matplotlib inline\n",
    "import matplotlib.pyplot as plt\n",
    "import seaborn as sns; sns.set_theme()\n",
    "\n",
    "iris = load_iris()\n",
    "iris_data = pd.DataFrame(iris.data, columns=iris.feature_names)\n",
    "iris_data"
   ]
  },
  {
   "cell_type": "markdown",
   "metadata": {
    "id": "ZwU8gIg794cZ"
   },
   "source": [
    "**Pengecekan Informasi Data**"
   ]
  },
  {
   "cell_type": "code",
   "execution_count": 2,
   "metadata": {
    "colab": {
     "base_uri": "https://localhost:8080/"
    },
    "id": "Il0-xwGI92rg",
    "outputId": "340bed8e-859d-403c-83cc-b8659c947429"
   },
   "outputs": [
    {
     "name": "stdout",
     "output_type": "stream",
     "text": [
      "<class 'pandas.core.frame.DataFrame'>\n",
      "RangeIndex: 150 entries, 0 to 149\n",
      "Data columns (total 4 columns):\n",
      " #   Column             Non-Null Count  Dtype  \n",
      "---  ------             --------------  -----  \n",
      " 0   sepal length (cm)  150 non-null    float64\n",
      " 1   sepal width (cm)   150 non-null    float64\n",
      " 2   petal length (cm)  150 non-null    float64\n",
      " 3   petal width (cm)   150 non-null    float64\n",
      "dtypes: float64(4)\n",
      "memory usage: 4.8 KB\n"
     ]
    }
   ],
   "source": [
    "iris_data.info()"
   ]
  },
  {
   "cell_type": "code",
   "execution_count": 3,
   "metadata": {
    "colab": {
     "base_uri": "https://localhost:8080/"
    },
    "id": "bOYM5ByM-MzB",
    "outputId": "e7c8f8b8-18b4-446d-d1cb-830d9a2ea352"
   },
   "outputs": [
    {
     "data": {
      "text/plain": [
       "array([0, 0, 0, 0, 0, 0, 0, 0, 0, 0, 0, 0, 0, 0, 0, 0, 0, 0, 0, 0, 0, 0,\n",
       "       0, 0, 0, 0, 0, 0, 0, 0, 0, 0, 0, 0, 0, 0, 0, 0, 0, 0, 0, 0, 0, 0,\n",
       "       0, 0, 0, 0, 0, 0, 1, 1, 1, 1, 1, 1, 1, 1, 1, 1, 1, 1, 1, 1, 1, 1,\n",
       "       1, 1, 1, 1, 1, 1, 1, 1, 1, 1, 1, 1, 1, 1, 1, 1, 1, 1, 1, 1, 1, 1,\n",
       "       1, 1, 1, 1, 1, 1, 1, 1, 1, 1, 1, 1, 2, 2, 2, 2, 2, 2, 2, 2, 2, 2,\n",
       "       2, 2, 2, 2, 2, 2, 2, 2, 2, 2, 2, 2, 2, 2, 2, 2, 2, 2, 2, 2, 2, 2,\n",
       "       2, 2, 2, 2, 2, 2, 2, 2, 2, 2, 2, 2, 2, 2, 2, 2, 2, 2])"
      ]
     },
     "execution_count": 3,
     "metadata": {},
     "output_type": "execute_result"
    }
   ],
   "source": [
    "iris.target"
   ]
  },
  {
   "cell_type": "markdown",
   "metadata": {
    "id": "WYWyU5Ah5y3Z"
   },
   "source": [
    "**Menampilkan Statistik Deskriptif dari Data**"
   ]
  },
  {
   "cell_type": "code",
   "execution_count": 4,
   "metadata": {
    "id": "y39xEuBP-3LU"
   },
   "outputs": [],
   "source": [
    "iris_data['target'] = iris.target"
   ]
  },
  {
   "cell_type": "code",
   "execution_count": 5,
   "metadata": {
    "colab": {
     "base_uri": "https://localhost:8080/",
     "height": 300
    },
    "id": "MZIL9iIw5xMs",
    "outputId": "5f80483a-ff2c-4b1b-b845-69115ee559db"
   },
   "outputs": [
    {
     "data": {
      "text/html": [
       "<div>\n",
       "<style scoped>\n",
       "    .dataframe tbody tr th:only-of-type {\n",
       "        vertical-align: middle;\n",
       "    }\n",
       "\n",
       "    .dataframe tbody tr th {\n",
       "        vertical-align: top;\n",
       "    }\n",
       "\n",
       "    .dataframe thead th {\n",
       "        text-align: right;\n",
       "    }\n",
       "</style>\n",
       "<table border=\"1\" class=\"dataframe\">\n",
       "  <thead>\n",
       "    <tr style=\"text-align: right;\">\n",
       "      <th></th>\n",
       "      <th>sepal length (cm)</th>\n",
       "      <th>sepal width (cm)</th>\n",
       "      <th>petal length (cm)</th>\n",
       "      <th>petal width (cm)</th>\n",
       "      <th>target</th>\n",
       "    </tr>\n",
       "  </thead>\n",
       "  <tbody>\n",
       "    <tr>\n",
       "      <th>count</th>\n",
       "      <td>150.000000</td>\n",
       "      <td>150.000000</td>\n",
       "      <td>150.000000</td>\n",
       "      <td>150.000000</td>\n",
       "      <td>150.000000</td>\n",
       "    </tr>\n",
       "    <tr>\n",
       "      <th>mean</th>\n",
       "      <td>5.843333</td>\n",
       "      <td>3.057333</td>\n",
       "      <td>3.758000</td>\n",
       "      <td>1.199333</td>\n",
       "      <td>1.000000</td>\n",
       "    </tr>\n",
       "    <tr>\n",
       "      <th>std</th>\n",
       "      <td>0.828066</td>\n",
       "      <td>0.435866</td>\n",
       "      <td>1.765298</td>\n",
       "      <td>0.762238</td>\n",
       "      <td>0.819232</td>\n",
       "    </tr>\n",
       "    <tr>\n",
       "      <th>min</th>\n",
       "      <td>4.300000</td>\n",
       "      <td>2.000000</td>\n",
       "      <td>1.000000</td>\n",
       "      <td>0.100000</td>\n",
       "      <td>0.000000</td>\n",
       "    </tr>\n",
       "    <tr>\n",
       "      <th>25%</th>\n",
       "      <td>5.100000</td>\n",
       "      <td>2.800000</td>\n",
       "      <td>1.600000</td>\n",
       "      <td>0.300000</td>\n",
       "      <td>0.000000</td>\n",
       "    </tr>\n",
       "    <tr>\n",
       "      <th>50%</th>\n",
       "      <td>5.800000</td>\n",
       "      <td>3.000000</td>\n",
       "      <td>4.350000</td>\n",
       "      <td>1.300000</td>\n",
       "      <td>1.000000</td>\n",
       "    </tr>\n",
       "    <tr>\n",
       "      <th>75%</th>\n",
       "      <td>6.400000</td>\n",
       "      <td>3.300000</td>\n",
       "      <td>5.100000</td>\n",
       "      <td>1.800000</td>\n",
       "      <td>2.000000</td>\n",
       "    </tr>\n",
       "    <tr>\n",
       "      <th>max</th>\n",
       "      <td>7.900000</td>\n",
       "      <td>4.400000</td>\n",
       "      <td>6.900000</td>\n",
       "      <td>2.500000</td>\n",
       "      <td>2.000000</td>\n",
       "    </tr>\n",
       "  </tbody>\n",
       "</table>\n",
       "</div>"
      ],
      "text/plain": [
       "       sepal length (cm)  sepal width (cm)  petal length (cm)  \\\n",
       "count         150.000000        150.000000         150.000000   \n",
       "mean            5.843333          3.057333           3.758000   \n",
       "std             0.828066          0.435866           1.765298   \n",
       "min             4.300000          2.000000           1.000000   \n",
       "25%             5.100000          2.800000           1.600000   \n",
       "50%             5.800000          3.000000           4.350000   \n",
       "75%             6.400000          3.300000           5.100000   \n",
       "max             7.900000          4.400000           6.900000   \n",
       "\n",
       "       petal width (cm)      target  \n",
       "count        150.000000  150.000000  \n",
       "mean           1.199333    1.000000  \n",
       "std            0.762238    0.819232  \n",
       "min            0.100000    0.000000  \n",
       "25%            0.300000    0.000000  \n",
       "50%            1.300000    1.000000  \n",
       "75%            1.800000    2.000000  \n",
       "max            2.500000    2.000000  "
      ]
     },
     "execution_count": 5,
     "metadata": {},
     "output_type": "execute_result"
    }
   ],
   "source": [
    "iris_data.describe()"
   ]
  },
  {
   "cell_type": "markdown",
   "metadata": {
    "id": "te92U2y06YDB"
   },
   "source": [
    "**Pengecekan Missing Data**"
   ]
  },
  {
   "cell_type": "code",
   "execution_count": 6,
   "metadata": {
    "colab": {
     "base_uri": "https://localhost:8080/"
    },
    "id": "KLRn4w5Q6fgJ",
    "outputId": "8a0a840c-23bd-4ec4-ac94-e55aeaff386d"
   },
   "outputs": [
    {
     "data": {
      "text/plain": [
       "0"
      ]
     },
     "execution_count": 6,
     "metadata": {},
     "output_type": "execute_result"
    }
   ],
   "source": [
    "np.sum(pd.isnull(iris_data).sum())"
   ]
  },
  {
   "cell_type": "markdown",
   "metadata": {
    "id": "5_zcad3LVu4t"
   },
   "source": [
    "*Tidak ada missing data.*"
   ]
  },
  {
   "cell_type": "markdown",
   "metadata": {
    "id": "sgmxiD0I_gbB"
   },
   "source": [
    "**Pengecekan apakah data imbalance**"
   ]
  },
  {
   "cell_type": "code",
   "execution_count": 7,
   "metadata": {
    "colab": {
     "base_uri": "https://localhost:8080/",
     "height": 303
    },
    "id": "1a8GQWEk_PLT",
    "outputId": "9e57aec4-bac8-484c-b5b3-440c96df9955"
   },
   "outputs": [
    {
     "data": {
      "text/plain": [
       "<AxesSubplot:xlabel='target', ylabel='count'>"
      ]
     },
     "execution_count": 7,
     "metadata": {},
     "output_type": "execute_result"
    },
    {
     "data": {
      "image/png": "[encoded data removed]",
      "text/plain": [
       "<Figure size 432x288 with 1 Axes>"
      ]
     },
     "metadata": {},
     "output_type": "display_data"
    }
   ],
   "source": [
    "sns.set_style('whitegrid')\n",
    "sns.countplot(x=iris_data['target'],data=iris_data,palette='RdBu_r')"
   ]
  },
  {
   "cell_type": "markdown",
   "metadata": {
    "id": "2nJH8K_oVkWL"
   },
   "source": [
    "*Dapat dilihat dari plot diatas bahwa data tidak imbalance.*"
   ]
  },
  {
   "cell_type": "markdown",
   "metadata": {
    "id": "raYbJU4U67NU"
   },
   "source": [
    "**Pemeriksaan sebaran nilai data pada tiap atribut/variabel untuk masing-masing kelas dengan box-plot**\n",
    "\n",
    "Dengan melihat apakah ada perbedaan sebaran nilai yang mencolok, kita bisa mendapatkan gambaran, atribut/variabel manakah yang secara umum kita duga bisa menjadi pembeda utama antara 3 kelas."
   ]
  },
  {
   "cell_type": "code",
   "execution_count": 8,
   "metadata": {
    "colab": {
     "base_uri": "https://localhost:8080/",
     "height": 1000
    },
    "id": "dxSReejf7BCh",
    "outputId": "5050c846-78fe-4235-8430-d78273706447"
   },
   "outputs": [
    {
     "data": {
      "image/png": "[encoded data removed]",
      "text/plain": [
       "<Figure size 432x288 with 1 Axes>"
      ]
     },
     "metadata": {},
     "output_type": "display_data"
    },
    {
     "data": {
      "image/png": "[encoded data removed]",
      "text/plain": [
       "<Figure size 432x288 with 1 Axes>"
      ]
     },
     "metadata": {},
     "output_type": "display_data"
    },
    {
     "data": {
      "image/png": "[encoded data removed]",
      "text/plain": [
       "<Figure size 432x288 with 1 Axes>"
      ]
     },
     "metadata": {},
     "output_type": "display_data"
    },
    {
     "data": {
      "image/png": "[encoded data removed]",
      "text/plain": [
       "<Figure size 432x288 with 1 Axes>"
      ]
     },
     "metadata": {},
     "output_type": "display_data"
    },
    {
     "data": {
      "text/plain": [
       "<Figure size 432x288 with 0 Axes>"
      ]
     },
     "metadata": {},
     "output_type": "display_data"
    }
   ],
   "source": [
    "l=list(iris_data.columns[0:5])\n",
    "for i in range(len(l)-1):\n",
    "    sns.boxplot(x='target',y=l[i], data=iris_data, palette='winter')\n",
    "    plt.figure()"
   ]
  },
  {
   "cell_type": "markdown",
   "metadata": {
    "id": "Yk37B0IIA9wa"
   },
   "source": [
    "*Dapat dilihat dari boxplot tiap kelas dengan masing-masing variabel dari data iris yang digunakan, tiap kelas memiliki ciri khas masing-masing salah satunya seperti kelas 0 yang memiliki lebar sepal paling lebar dibandingkan kelas lainnya, panjang sepal paling pendek, panjang petal paling pendek dan lebar petal paling pendek juga.*"
   ]
  },
  {
   "cell_type": "markdown",
   "metadata": {
    "id": "G3TexU8-CAlL"
   },
   "source": [
    "**Pengecekan korelasi antar variabel yang digunakan**"
   ]
  },
  {
   "cell_type": "code",
   "execution_count": 9,
   "metadata": {
    "colab": {
     "base_uri": "https://localhost:8080/",
     "height": 359
    },
    "id": "QJpy70EiCQsJ",
    "outputId": "4f8c3cb9-58c6-45bd-8237-881794549301"
   },
   "outputs": [
    {
     "data": {
      "image/png": "[encoded data removed]",
      "text/plain": [
       "<Figure size 432x288 with 2 Axes>"
      ]
     },
     "metadata": {},
     "output_type": "display_data"
    }
   ],
   "source": [
    "iris_data = iris_data.drop('target',axis=1) \n",
    "#iris_data = iris_data.drop('petal length (cm)',axis=1) \n",
    "#iris_data = iris_data.drop('petal width (cm)',axis=1) \n",
    "ax = sns.heatmap(iris_data.corr(), annot=True)"
   ]
  },
  {
   "cell_type": "markdown",
   "metadata": {
    "id": "u7VUrnyeR4s8"
   },
   "source": [
    "**Split Data**"
   ]
  },
  {
   "cell_type": "code",
   "execution_count": 10,
   "metadata": {
    "colab": {
     "base_uri": "https://localhost:8080/"
    },
    "id": "YTV64JcAR1Pf",
    "outputId": "57f44c85-b303-4d17-8163-2ab82b9864a7"
   },
   "outputs": [
    {
     "name": "stdout",
     "output_type": "stream",
     "text": [
      "Jumlah Training Data :  112  | Jumlah Test Data :  38\n"
     ]
    }
   ],
   "source": [
    "X, y = (iris_data, iris.target)\n",
    "X_train, X_test, y_train, y_test = train_test_split(X,y, random_state=0)\n",
    "print(\"Jumlah Training Data : \", len(X_train), \" | Jumlah Test Data : \", len(X_test))"
   ]
  },
  {
   "cell_type": "markdown",
   "metadata": {
    "id": "4kh4geKbSy_L"
   },
   "source": [
    "**Make Model**"
   ]
  },
  {
   "cell_type": "code",
   "execution_count": 11,
   "metadata": {
    "colab": {
     "base_uri": "https://localhost:8080/"
    },
    "id": "yNriXbKiS21d",
    "outputId": "2fd1909d-b83b-4f49-9ef9-6eaed71f4f2d"
   },
   "outputs": [
    {
     "data": {
      "text/plain": [
       "{'priors': None, 'var_smoothing': 1e-09}"
      ]
     },
     "execution_count": 11,
     "metadata": {},
     "output_type": "execute_result"
    }
   ],
   "source": [
    "clf = GaussianNB()\n",
    "clf.fit(X_train, y_train)\n",
    "clf.get_params()"
   ]
  },
  {
   "cell_type": "markdown",
   "metadata": {
    "id": "_FM9khcmTuY1"
   },
   "source": [
    "**Predict Test Data**"
   ]
  },
  {
   "cell_type": "code",
   "execution_count": 12,
   "metadata": {
    "colab": {
     "base_uri": "https://localhost:8080/"
    },
    "id": "vghhuCHbTxyS",
    "outputId": "40a2c37d-4c2c-4fc4-86cc-7aa89620cd15"
   },
   "outputs": [
    {
     "name": "stdout",
     "output_type": "stream",
     "text": [
      "   Prediction Label Actual Label\n",
      "0         virginica    virginica\n",
      "1        versicolor   versicolor\n",
      "2            setosa       setosa\n",
      "3         virginica    virginica\n",
      "4            setosa       setosa\n",
      "5         virginica    virginica\n",
      "6            setosa       setosa\n",
      "7        versicolor   versicolor\n",
      "8        versicolor   versicolor\n",
      "9        versicolor   versicolor\n",
      "10        virginica    virginica\n",
      "11       versicolor   versicolor\n",
      "12       versicolor   versicolor\n",
      "13       versicolor   versicolor\n",
      "14       versicolor   versicolor\n",
      "15           setosa       setosa\n",
      "16       versicolor   versicolor\n",
      "17       versicolor   versicolor\n",
      "18           setosa       setosa\n",
      "19           setosa       setosa\n",
      "20        virginica    virginica\n",
      "21       versicolor   versicolor\n",
      "22           setosa       setosa\n",
      "23           setosa       setosa\n",
      "24        virginica    virginica\n",
      "25           setosa       setosa\n",
      "26           setosa       setosa\n",
      "27       versicolor   versicolor\n",
      "28       versicolor   versicolor\n",
      "29           setosa       setosa\n",
      "30        virginica    virginica\n",
      "31       versicolor   versicolor\n",
      "32           setosa       setosa\n",
      "33        virginica    virginica\n",
      "34        virginica    virginica\n",
      "35       versicolor   versicolor\n",
      "36           setosa       setosa\n",
      "37       versicolor   versicolor\n"
     ]
    }
   ],
   "source": [
    "y_pred = clf.predict(X_test)\n",
    "print(pd.DataFrame({'Prediction Label' : iris.target_names[y_pred],\n",
    "              'Actual Label': iris.target_names[y_test]}))"
   ]
  },
  {
   "cell_type": "markdown",
   "metadata": {
    "id": "namYWUiRUlGz"
   },
   "source": [
    "**Menerapkan 2-10 Fold Cross Validation & check accuracy**"
   ]
  },
  {
   "cell_type": "code",
   "execution_count": 13,
   "metadata": {
    "colab": {
     "base_uri": "https://localhost:8080/"
    },
    "id": "1QQGpKUdUugC",
    "outputId": "917cd527-1f1c-4313-c941-88a928c23d4d"
   },
   "outputs": [
    {
     "name": "stdout",
     "output_type": "stream",
     "text": [
      "Accuracy without cross validation:  0.9464285714285714\n",
      "Accuracy After Cross Validation 2 Fold:  0.9553571428571428\n",
      "Accuracy After Cross Validation 3 Fold:  0.9466571834992887\n",
      "Accuracy After Cross Validation 4 Fold:  0.9464285714285714\n",
      "Accuracy After Cross Validation 5 Fold:  0.9557312252964426\n",
      "Accuracy After Cross Validation 6 Fold:  0.9463937621832358\n",
      "Accuracy After Cross Validation 7 Fold:  0.9464285714285714\n",
      "Accuracy After Cross Validation 8 Fold:  0.9464285714285714\n",
      "Accuracy After Cross Validation 9 Fold:  0.9472934472934473\n",
      "Accuracy After Cross Validation 10 Fold:  0.9378787878787878\n"
     ]
    }
   ],
   "source": [
    "print('Accuracy without cross validation: ',clf.score(X_train, y_train))\n",
    "for i in range(2,11):\n",
    "  scores = cross_val_score(clf, X_train, y_train, cv=i, scoring=\"accuracy\")\n",
    "  print('Accuracy After Cross Validation {} Fold: '.format(i), scores.mean())\n"
   ]
  },
  {
   "cell_type": "markdown",
   "metadata": {
    "id": "r3u-5-AsZgra"
   },
   "source": [
    "*Dapat dilihat bahwa dengan melakukan 5 fold cross validation menghasilkan nilai accuracy yang lebih baik sebesar 95,57 % dibandingkan tanpa cross validation maupun dengan banyak fold yang lainnya.*"
   ]
  },
  {
   "cell_type": "markdown",
   "metadata": {
    "id": "55aPOr-9VGga"
   },
   "source": [
    "**Confusion Matrix**"
   ]
  },
  {
   "cell_type": "code",
   "execution_count": 14,
   "metadata": {
    "colab": {
     "base_uri": "https://localhost:8080/",
     "height": 339
    },
    "id": "to8KZz88VMJJ",
    "outputId": "b561cf93-72f8-4535-ee3d-e495a22b62e6"
   },
   "outputs": [
    {
     "data": {
      "image/png": "[encoded data removed]",
      "text/plain": [
       "<Figure size 360x360 with 1 Axes>"
      ]
     },
     "metadata": {},
     "output_type": "display_data"
    }
   ],
   "source": [
    "cm = confusion_matrix(y_test, y_pred)\n",
    "\n",
    "fig, ax = plt.subplots(figsize=(5,5)) \n",
    "sns.heatmap(cm.T, square=True, annot=True, fmt='d', cbar=False,\n",
    "           xticklabels=iris.target_names, \n",
    "           yticklabels=iris.target_names)\n",
    "\n",
    "plt.xlabel('True Label')\n",
    "plt.ylabel('Predicted Label');"
   ]
  },
  {
   "cell_type": "markdown",
   "metadata": {
    "id": "zlPwkA0IWn71"
   },
   "source": [
    "**Predict New Data**\n",
    "\n",
    "Misalnya kita memiliki bunga dengan sepal_length = 2.6, sepal_width = 1.1, petal_length = 2.8, dan petal_width = 2.2"
   ]
  },
  {
   "cell_type": "code",
   "execution_count": 15,
   "metadata": {
    "colab": {
     "base_uri": "https://localhost:8080/",
     "height": 35
    },
    "id": "8Ix4P6jnWtsx",
    "outputId": "82e48ba6-9f55-4b01-fe13-35b912b85b26"
   },
   "outputs": [
    {
     "data": {
      "text/plain": [
       "'versicolor'"
      ]
     },
     "execution_count": 15,
     "metadata": {},
     "output_type": "execute_result"
    }
   ],
   "source": [
    "predict = clf.predict([[2.6,1.1,2.8,2.2]])\n",
    "iris.target_names[predict][0]"
   ]
  }
 ],
 "metadata": {
  "colab": {
   "collapsed_sections": [],
   "name": "Naive_Bayes_Gaussian.ipynb",
   "provenance": []
  },
  "kernelspec": {
   "display_name": "Python 3",
   "language": "python",
   "name": "python3"
  },
  "language_info": {
   "codemirror_mode": {
    "name": "ipython",
    "version": 3
   },
   "file_extension": ".py",
   "mimetype": "text/x-python",
   "name": "python",
   "nbconvert_exporter": "python",
   "pygments_lexer": "ipython3",
   "version": "3.8.8"
  }
 },
 "nbformat": 4,
 "nbformat_minor": 1
}
