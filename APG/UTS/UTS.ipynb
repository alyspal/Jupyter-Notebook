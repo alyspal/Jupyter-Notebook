{
 "cells": [
  {
   "cell_type": "raw",
   "id": "70c15ad2",
   "metadata": {
    "ExecuteTime": {
     "end_time": "2022-04-10T18:19:21.471296Z",
     "start_time": "2022-04-10T18:19:02.751Z"
    }
   },
   "source": [
    "install.packages('biotools')"
   ]
  },
  {
   "cell_type": "code",
   "execution_count": 138,
   "id": "e9300f5a",
   "metadata": {
    "ExecuteTime": {
     "end_time": "2022-04-10T18:19:30.097418Z",
     "start_time": "2022-04-10T18:19:30.059Z"
    }
   },
   "outputs": [],
   "source": [
    "# Library\n",
    "\n",
    "library(aplpack)\n",
    "library(biotools)\n",
    "library(car)\n",
    "library(dplyr)\n",
    "library(ggplot2)\n",
    "library(ggpubr)\n",
    "library(knitr)\n",
    "library(matlib)\n",
    "library(MVA)\n",
    "library(MVN)\n",
    "library(readxl)\n",
    "library('RVAideMemoire')"
   ]
  },
  {
   "cell_type": "markdown",
   "id": "fa03a8da",
   "metadata": {},
   "source": [
    "# Pertemuan 1"
   ]
  },
  {
   "cell_type": "markdown",
   "id": "7ac295d3",
   "metadata": {
    "heading_collapsed": true
   },
   "source": [
    "## Load Data"
   ]
  },
  {
   "cell_type": "code",
   "execution_count": 2,
   "id": "f4ef1bbc",
   "metadata": {
    "ExecuteTime": {
     "end_time": "2022-04-10T16:49:47.346539Z",
     "start_time": "2022-04-10T16:49:45.083Z"
    },
    "hidden": true
   },
   "outputs": [
    {
     "data": {
      "text/html": [
       "<table class=\"dataframe\">\n",
       "<caption>A data.frame: 5 × 3</caption>\n",
       "<thead>\n",
       "\t<tr><th scope=col>x1</th><th scope=col>x2</th><th scope=col>x3</th></tr>\n",
       "\t<tr><th scope=col>&lt;int&gt;</th><th scope=col>&lt;int&gt;</th><th scope=col>&lt;int&gt;</th></tr>\n",
       "</thead>\n",
       "<tbody>\n",
       "\t<tr><td>9</td><td>12</td><td>3</td></tr>\n",
       "\t<tr><td>2</td><td> 8</td><td>4</td></tr>\n",
       "\t<tr><td>6</td><td> 6</td><td>0</td></tr>\n",
       "\t<tr><td>5</td><td> 4</td><td>2</td></tr>\n",
       "\t<tr><td>8</td><td>10</td><td>1</td></tr>\n",
       "</tbody>\n",
       "</table>\n"
      ],
      "text/latex": [
       "A data.frame: 5 × 3\n",
       "\\begin{tabular}{lll}\n",
       " x1 & x2 & x3\\\\\n",
       " <int> & <int> & <int>\\\\\n",
       "\\hline\n",
       "\t 9 & 12 & 3\\\\\n",
       "\t 2 &  8 & 4\\\\\n",
       "\t 6 &  6 & 0\\\\\n",
       "\t 5 &  4 & 2\\\\\n",
       "\t 8 & 10 & 1\\\\\n",
       "\\end{tabular}\n"
      ],
      "text/markdown": [
       "\n",
       "A data.frame: 5 × 3\n",
       "\n",
       "| x1 &lt;int&gt; | x2 &lt;int&gt; | x3 &lt;int&gt; |\n",
       "|---|---|---|\n",
       "| 9 | 12 | 3 |\n",
       "| 2 |  8 | 4 |\n",
       "| 6 |  6 | 0 |\n",
       "| 5 |  4 | 2 |\n",
       "| 8 | 10 | 1 |\n",
       "\n"
      ],
      "text/plain": [
       "  x1 x2 x3\n",
       "1 9  12 3 \n",
       "2 2   8 4 \n",
       "3 6   6 0 \n",
       "4 5   4 2 \n",
       "5 8  10 1 "
      ]
     },
     "metadata": {},
     "output_type": "display_data"
    }
   ],
   "source": [
    "# using url github\n",
    "\n",
    "url <- \"https://raw.githubusercontent.com/rii92/tugas-APG/main/28%20februari%202022/tugas%20kedua%20APG.csv\"\n",
    "data <- read.csv(url)\n",
    "data"
   ]
  },
  {
   "cell_type": "raw",
   "id": "987b9be0",
   "metadata": {
    "hidden": true
   },
   "source": [
    "# using read_excel\n",
    "\n",
    "data <- read_excel(\"3SD1.xlsx\", sheet=1)\n",
    "data <- as.data.frame(data)"
   ]
  },
  {
   "cell_type": "raw",
   "id": "caf9ecbd",
   "metadata": {
    "hidden": true
   },
   "source": [
    "# manually\n",
    "\n",
    "A_EfisiensiTanpa<-c(12,13,12.5,10,14,13.5,12,15,11,13,11.5,13.5,10,11)\n",
    "A_EfisiensiDengan<-c(13,15,14,11,14.5,15,14.5,18,14.5,15,13.5,14,11,13)\n",
    "A_AkselerasiTanpa<-c(16,15,14,16,17,19,15,17,14,15,18,19,16,17)\n",
    "A_AkselerasiDengan<-c(17,15,16,16,16,20,14,18,15,15,17,20,16,17)\n",
    "\n",
    "data <- data.frame(A_EfisiensiTanpa, A_EfisiensiDengan, A_AkselerasiTanpa, A_AkselerasiDengan)\n",
    "data"
   ]
  },
  {
   "cell_type": "markdown",
   "id": "d4cecada",
   "metadata": {
    "ExecuteTime": {
     "end_time": "2022-04-10T15:14:16.910768Z",
     "start_time": "2022-04-10T15:14:16.883Z"
    },
    "heading_collapsed": true
   },
   "source": [
    "## Analisis Deskriptif"
   ]
  },
  {
   "cell_type": "raw",
   "id": "aa5c51ce",
   "metadata": {
    "hidden": true
   },
   "source": [
    "### Central Tendency\n",
    "\n",
    "mean <- colMeans(data[6:8])\n",
    "stddev <- apply(data[6:8], 2, function(x) sqrt(var(x)))\n",
    "min <- apply(data[6:8], 2, function(x) min(x))\n",
    "max <- apply(data[6:8], 2, function(x) max(x))\n",
    "\n",
    "descriptive <- rbind (min, mean, max, stddev)\n",
    "rownames(descriptive) <- c(\"Min\", \"Mean\", \"Max\",\"Std. Dev\")\n",
    "\n",
    "descriptive"
   ]
  },
  {
   "cell_type": "raw",
   "id": "fa76f3fe",
   "metadata": {
    "hidden": true
   },
   "source": [
    "summary(data)"
   ]
  },
  {
   "cell_type": "markdown",
   "id": "43632777",
   "metadata": {
    "heading_collapsed": true
   },
   "source": [
    "## Analisis Hubungan Antar Variabel"
   ]
  },
  {
   "cell_type": "code",
   "execution_count": 3,
   "id": "78317cda",
   "metadata": {
    "ExecuteTime": {
     "end_time": "2022-04-10T16:49:47.448427Z",
     "start_time": "2022-04-10T16:49:45.108Z"
    },
    "hidden": true
   },
   "outputs": [
    {
     "data": {
      "image/png": "[encoded data removed]",
      "text/plain": [
       "plot without title"
      ]
     },
     "metadata": {
      "image/png": {
       "height": 420,
       "width": 420
      }
     },
     "output_type": "display_data"
    }
   ],
   "source": [
    "### Bivariate scatterplot\n",
    "pairs(data)"
   ]
  },
  {
   "cell_type": "code",
   "execution_count": 4,
   "id": "c05a1bbf",
   "metadata": {
    "ExecuteTime": {
     "end_time": "2022-04-10T16:49:47.646137Z",
     "start_time": "2022-04-10T16:49:45.111Z"
    },
    "hidden": true
   },
   "outputs": [
    {
     "name": "stdout",
     "output_type": "stream",
     "text": [
      "effect of variables:\n",
      " modified item       Var \n",
      " \"height of face   \" \"x1\"\n",
      " \"width of face    \" \"x2\"\n",
      " \"structure of face\" \"x3\"\n",
      " \"height of mouth  \" \"x1\"\n",
      " \"width of mouth   \" \"x2\"\n",
      " \"smiling          \" \"x3\"\n",
      " \"height of eyes   \" \"x1\"\n",
      " \"width of eyes    \" \"x2\"\n",
      " \"height of hair   \" \"x3\"\n",
      " \"width of hair   \"  \"x1\"\n",
      " \"style of hair   \"  \"x2\"\n",
      " \"height of nose  \"  \"x3\"\n",
      " \"width of nose   \"  \"x1\"\n",
      " \"width of ear    \"  \"x2\"\n",
      " \"height of ear   \"  \"x3\"\n"
     ]
    },
    {
     "data": {
      "image/png": "[encoded data removed]",
      "text/plain": [
       "Plot with title \"5\""
      ]
     },
     "metadata": {
      "image/png": {
       "height": 420,
       "width": 420
      }
     },
     "output_type": "display_data"
    }
   ],
   "source": [
    "### chernoff face\n",
    "faces(data)"
   ]
  },
  {
   "cell_type": "markdown",
   "id": "dbdf2db3",
   "metadata": {},
   "source": [
    "# Pertemuan 2"
   ]
  },
  {
   "cell_type": "markdown",
   "id": "99bc6834",
   "metadata": {
    "ExecuteTime": {
     "end_time": "2022-04-10T14:50:02.612307Z",
     "start_time": "2022-04-10T14:50:02.594Z"
    }
   },
   "source": [
    "## Load Data"
   ]
  },
  {
   "cell_type": "code",
   "execution_count": 5,
   "id": "e177ff7a",
   "metadata": {
    "ExecuteTime": {
     "end_time": "2022-04-10T16:49:47.780122Z",
     "start_time": "2022-04-10T16:49:45.116Z"
    }
   },
   "outputs": [
    {
     "data": {
      "text/html": [
       "<table class=\"dataframe\">\n",
       "<caption>A data.frame: 5 × 3</caption>\n",
       "<thead>\n",
       "\t<tr><th scope=col>x1</th><th scope=col>x2</th><th scope=col>x3</th></tr>\n",
       "\t<tr><th scope=col>&lt;int&gt;</th><th scope=col>&lt;int&gt;</th><th scope=col>&lt;int&gt;</th></tr>\n",
       "</thead>\n",
       "<tbody>\n",
       "\t<tr><td>9</td><td>12</td><td>3</td></tr>\n",
       "\t<tr><td>2</td><td> 8</td><td>4</td></tr>\n",
       "\t<tr><td>6</td><td> 6</td><td>0</td></tr>\n",
       "\t<tr><td>5</td><td> 4</td><td>2</td></tr>\n",
       "\t<tr><td>8</td><td>10</td><td>1</td></tr>\n",
       "</tbody>\n",
       "</table>\n"
      ],
      "text/latex": [
       "A data.frame: 5 × 3\n",
       "\\begin{tabular}{lll}\n",
       " x1 & x2 & x3\\\\\n",
       " <int> & <int> & <int>\\\\\n",
       "\\hline\n",
       "\t 9 & 12 & 3\\\\\n",
       "\t 2 &  8 & 4\\\\\n",
       "\t 6 &  6 & 0\\\\\n",
       "\t 5 &  4 & 2\\\\\n",
       "\t 8 & 10 & 1\\\\\n",
       "\\end{tabular}\n"
      ],
      "text/markdown": [
       "\n",
       "A data.frame: 5 × 3\n",
       "\n",
       "| x1 &lt;int&gt; | x2 &lt;int&gt; | x3 &lt;int&gt; |\n",
       "|---|---|---|\n",
       "| 9 | 12 | 3 |\n",
       "| 2 |  8 | 4 |\n",
       "| 6 |  6 | 0 |\n",
       "| 5 |  4 | 2 |\n",
       "| 8 | 10 | 1 |\n",
       "\n"
      ],
      "text/plain": [
       "  x1 x2 x3\n",
       "1 9  12 3 \n",
       "2 2   8 4 \n",
       "3 6   6 0 \n",
       "4 5   4 2 \n",
       "5 8  10 1 "
      ]
     },
     "metadata": {},
     "output_type": "display_data"
    }
   ],
   "source": [
    "# using url github\n",
    "\n",
    "url <- \"https://raw.githubusercontent.com/rii92/tugas-APG/main/28%20februari%202022/tugas%20kedua%20APG.csv\"\n",
    "data <- read.csv(url)\n",
    "data"
   ]
  },
  {
   "cell_type": "raw",
   "id": "2fb1335a",
   "metadata": {},
   "source": [
    "# using read_excel\n",
    "\n",
    "data <- read_excel(\"3SD1.xlsx\", sheet=1)\n",
    "data <- as.data.frame(data)"
   ]
  },
  {
   "cell_type": "raw",
   "id": "90435b9d",
   "metadata": {},
   "source": [
    "# manually 1.0\n",
    "\n",
    "A_EfisiensiTanpa<-c(12,13,12.5,10,14,13.5,12,15,11,13,11.5,13.5,10,11)\n",
    "A_EfisiensiDengan<-c(13,15,14,11,14.5,15,14.5,18,14.5,15,13.5,14,11,13)\n",
    "A_AkselerasiTanpa<-c(16,15,14,16,17,19,15,17,14,15,18,19,16,17)\n",
    "A_AkselerasiDengan<-c(17,15,16,16,16,20,14,18,15,15,17,20,16,17)\n",
    "\n",
    "data <- data.frame(A_EfisiensiTanpa, A_EfisiensiDengan, A_AkselerasiTanpa, A_AkselerasiDengan)\n",
    "data"
   ]
  },
  {
   "cell_type": "code",
   "execution_count": 6,
   "id": "307c052f",
   "metadata": {
    "ExecuteTime": {
     "end_time": "2022-04-10T16:49:47.813755Z",
     "start_time": "2022-04-10T16:49:45.127Z"
    }
   },
   "outputs": [
    {
     "data": {
      "text/html": [
       "<table class=\"dataframe\">\n",
       "<caption>A matrix: 5 × 3 of type dbl</caption>\n",
       "<tbody>\n",
       "\t<tr><td>9</td><td>12</td><td>3</td></tr>\n",
       "\t<tr><td>2</td><td> 8</td><td>4</td></tr>\n",
       "\t<tr><td>6</td><td> 6</td><td>0</td></tr>\n",
       "\t<tr><td>5</td><td> 4</td><td>2</td></tr>\n",
       "\t<tr><td>8</td><td>10</td><td>1</td></tr>\n",
       "</tbody>\n",
       "</table>\n"
      ],
      "text/latex": [
       "A matrix: 5 × 3 of type dbl\n",
       "\\begin{tabular}{lll}\n",
       "\t 9 & 12 & 3\\\\\n",
       "\t 2 &  8 & 4\\\\\n",
       "\t 6 &  6 & 0\\\\\n",
       "\t 5 &  4 & 2\\\\\n",
       "\t 8 & 10 & 1\\\\\n",
       "\\end{tabular}\n"
      ],
      "text/markdown": [
       "\n",
       "A matrix: 5 × 3 of type dbl\n",
       "\n",
       "| 9 | 12 | 3 |\n",
       "| 2 |  8 | 4 |\n",
       "| 6 |  6 | 0 |\n",
       "| 5 |  4 | 2 |\n",
       "| 8 | 10 | 1 |\n",
       "\n"
      ],
      "text/plain": [
       "     [,1] [,2] [,3]\n",
       "[1,] 9    12   3   \n",
       "[2,] 2     8   4   \n",
       "[3,] 6     6   0   \n",
       "[4,] 5     4   2   \n",
       "[5,] 8    10   1   "
      ]
     },
     "metadata": {},
     "output_type": "display_data"
    }
   ],
   "source": [
    "# manually 2.0\n",
    "\n",
    "data <- matrix(c(9, 12, 3\n",
    "              , 2, 8, 4\n",
    "              , 6, 6, 0\n",
    "              , 5, 4, 2\n",
    "              , 8, 10, 1), ncol=3, byrow=T)\n",
    "\n",
    "data"
   ]
  },
  {
   "cell_type": "markdown",
   "id": "2eba487c",
   "metadata": {},
   "source": [
    "## Sample Covariance Matrix"
   ]
  },
  {
   "cell_type": "markdown",
   "id": "841f1040",
   "metadata": {
    "heading_collapsed": true
   },
   "source": [
    "### way 1 -> Using R Built-In"
   ]
  },
  {
   "cell_type": "code",
   "execution_count": 7,
   "id": "1300cb03",
   "metadata": {
    "ExecuteTime": {
     "end_time": "2022-04-10T16:49:47.834208Z",
     "start_time": "2022-04-10T16:49:45.133Z"
    },
    "hidden": true
   },
   "outputs": [
    {
     "data": {
      "text/html": [
       "<table class=\"dataframe\">\n",
       "<caption>A matrix: 3 × 3 of type dbl</caption>\n",
       "<tbody>\n",
       "\t<tr><td> 7.50</td><td> 5.0</td><td>-1.75</td></tr>\n",
       "\t<tr><td> 5.00</td><td>10.0</td><td> 1.50</td></tr>\n",
       "\t<tr><td>-1.75</td><td> 1.5</td><td> 2.50</td></tr>\n",
       "</tbody>\n",
       "</table>\n"
      ],
      "text/latex": [
       "A matrix: 3 × 3 of type dbl\n",
       "\\begin{tabular}{lll}\n",
       "\t  7.50 &  5.0 & -1.75\\\\\n",
       "\t  5.00 & 10.0 &  1.50\\\\\n",
       "\t -1.75 &  1.5 &  2.50\\\\\n",
       "\\end{tabular}\n"
      ],
      "text/markdown": [
       "\n",
       "A matrix: 3 × 3 of type dbl\n",
       "\n",
       "|  7.50 |  5.0 | -1.75 |\n",
       "|  5.00 | 10.0 |  1.50 |\n",
       "| -1.75 |  1.5 |  2.50 |\n",
       "\n"
      ],
      "text/plain": [
       "     [,1]  [,2] [,3] \n",
       "[1,]  7.50  5.0 -1.75\n",
       "[2,]  5.00 10.0  1.50\n",
       "[3,] -1.75  1.5  2.50"
      ]
     },
     "metadata": {},
     "output_type": "display_data"
    }
   ],
   "source": [
    "cov(data)"
   ]
  },
  {
   "cell_type": "markdown",
   "id": "5aed2cbf",
   "metadata": {
    "heading_collapsed": true
   },
   "source": [
    "### way 2 -> Manually using \\vec d_{i}"
   ]
  },
  {
   "cell_type": "code",
   "execution_count": 8,
   "id": "bad696ec",
   "metadata": {
    "ExecuteTime": {
     "end_time": "2022-04-10T16:49:47.887042Z",
     "start_time": "2022-04-10T16:49:45.138Z"
    },
    "hidden": true
   },
   "outputs": [
    {
     "data": {
      "text/html": [
       "<table class=\"dataframe\">\n",
       "<caption>A matrix: 3 × 3 of type dbl</caption>\n",
       "<tbody>\n",
       "\t<tr><td> 7.50</td><td> 5.0</td><td>-1.75</td></tr>\n",
       "\t<tr><td> 5.00</td><td>10.0</td><td> 1.50</td></tr>\n",
       "\t<tr><td>-1.75</td><td> 1.5</td><td> 2.50</td></tr>\n",
       "</tbody>\n",
       "</table>\n"
      ],
      "text/latex": [
       "A matrix: 3 × 3 of type dbl\n",
       "\\begin{tabular}{lll}\n",
       "\t  7.50 &  5.0 & -1.75\\\\\n",
       "\t  5.00 & 10.0 &  1.50\\\\\n",
       "\t -1.75 &  1.5 &  2.50\\\\\n",
       "\\end{tabular}\n"
      ],
      "text/markdown": [
       "\n",
       "A matrix: 3 × 3 of type dbl\n",
       "\n",
       "|  7.50 |  5.0 | -1.75 |\n",
       "|  5.00 | 10.0 |  1.50 |\n",
       "| -1.75 |  1.5 |  2.50 |\n",
       "\n"
      ],
      "text/plain": [
       "     [,1]  [,2] [,3] \n",
       "[1,]  7.50  5.0 -1.75\n",
       "[2,]  5.00 10.0  1.50\n",
       "[3,] -1.75  1.5  2.50"
      ]
     },
     "metadata": {},
     "output_type": "display_data"
    }
   ],
   "source": [
    "# utility function to get sij\n",
    "getSij <- function(X, i, j){\n",
    "  # number of obs.\n",
    "  n <- nrow(X)\n",
    "  \n",
    "  # vector of 1s\n",
    "  v1 <- rep(1, times=n)\n",
    "  \n",
    "  # deviation of ith variable from it means\n",
    "  di <- X[ , i] - mean(X[ ,i]) * v1\n",
    "  \n",
    "  # deviation of jth variable from it means\n",
    "  dj <- X[ , j] - mean(X[ ,j]) * v1\n",
    "    \n",
    "  return(\n",
    "    (di%*%dj)/(n-1)\n",
    "  )\n",
    "}\n",
    "\n",
    "manualCov1 <- function(X){\n",
    "  # initialize covariance matrix S of size pxp\n",
    "  p <- ncol(X)\n",
    "  S <- matrix(rep(0, times=p^2), ncol=p)\n",
    "  \n",
    "  # populate covariance matrix\n",
    "  for(i in 1 : p){\n",
    "    for(j in 1 : p){\n",
    "      if(i > j){\n",
    "        S[i, j] <- S[j, i]\n",
    "      } else{\n",
    "        S[i, j] <- getSij(X, i, j)\n",
    "      }\n",
    "      \n",
    "    }\n",
    "  }\n",
    "  \n",
    "  return(S)\n",
    "}\n",
    "\n",
    "manualCov1(data)"
   ]
  },
  {
   "cell_type": "markdown",
   "id": "b3f9ae6b",
   "metadata": {
    "heading_collapsed": true
   },
   "source": [
    "### way 3 -> Manually using S = \\frac{1}{n-1} \\sum (\\vec x_{i}-\\bar x)(\\vec x_{i}-\\bar x)^T"
   ]
  },
  {
   "cell_type": "code",
   "execution_count": 9,
   "id": "bdbf670e",
   "metadata": {
    "ExecuteTime": {
     "end_time": "2022-04-10T16:49:47.932017Z",
     "start_time": "2022-04-10T16:49:45.141Z"
    },
    "hidden": true
   },
   "outputs": [
    {
     "data": {
      "text/html": [
       "<table class=\"dataframe\">\n",
       "<caption>A matrix: 3 × 3 of type dbl</caption>\n",
       "<tbody>\n",
       "\t<tr><td> 7.50</td><td> 5.0</td><td>-1.75</td></tr>\n",
       "\t<tr><td> 5.00</td><td>10.0</td><td> 1.50</td></tr>\n",
       "\t<tr><td>-1.75</td><td> 1.5</td><td> 2.50</td></tr>\n",
       "</tbody>\n",
       "</table>\n"
      ],
      "text/latex": [
       "A matrix: 3 × 3 of type dbl\n",
       "\\begin{tabular}{lll}\n",
       "\t  7.50 &  5.0 & -1.75\\\\\n",
       "\t  5.00 & 10.0 &  1.50\\\\\n",
       "\t -1.75 &  1.5 &  2.50\\\\\n",
       "\\end{tabular}\n"
      ],
      "text/markdown": [
       "\n",
       "A matrix: 3 × 3 of type dbl\n",
       "\n",
       "|  7.50 |  5.0 | -1.75 |\n",
       "|  5.00 | 10.0 |  1.50 |\n",
       "| -1.75 |  1.5 |  2.50 |\n",
       "\n"
      ],
      "text/plain": [
       "     [,1]  [,2] [,3] \n",
       "[1,]  7.50  5.0 -1.75\n",
       "[2,]  5.00 10.0  1.50\n",
       "[3,] -1.75  1.5  2.50"
      ]
     },
     "metadata": {},
     "output_type": "display_data"
    }
   ],
   "source": [
    "# convert data to matrix\n",
    "data <- data.matrix(data)\n",
    "\n",
    "# utility function to calculate Ai\n",
    "getA <- function(X, i){\n",
    "  return(\n",
    "     (X[i, ]-colMeans(X)) \n",
    "       %*% \n",
    "        t(X[i, ]-colMeans(X))\n",
    "    )\n",
    "}\n",
    "\n",
    "manualCov2 <- function(X){\n",
    "  # initialize covariance matrix S of size pxp\n",
    "  p <- ncol(X)\n",
    "  S <- matrix(rep(0, times=p^2), ncol=p)\n",
    "  \n",
    "  # number of obs\n",
    "  n <- nrow(X)\n",
    "  \n",
    "  # sum Ai over i\n",
    "  for(i in 1 : nrow(X)){\n",
    "    S <- S + getA(X, i)\n",
    "  }\n",
    "  \n",
    "  return(S/(n-1))\n",
    "}\n",
    "\n",
    "manualCov2(data)"
   ]
  },
  {
   "cell_type": "markdown",
   "id": "f7cf4c95",
   "metadata": {},
   "source": [
    "## Sample Correlation Matrix"
   ]
  },
  {
   "cell_type": "markdown",
   "id": "34d914d5",
   "metadata": {
    "heading_collapsed": true
   },
   "source": [
    "### way 1 -> Using R Built-In Function"
   ]
  },
  {
   "cell_type": "code",
   "execution_count": 10,
   "id": "76c3f585",
   "metadata": {
    "ExecuteTime": {
     "end_time": "2022-04-10T16:49:47.971239Z",
     "start_time": "2022-04-10T16:49:45.145Z"
    },
    "hidden": true
   },
   "outputs": [
    {
     "data": {
      "text/html": [
       "<table class=\"dataframe\">\n",
       "<caption>A matrix: 3 × 3 of type dbl</caption>\n",
       "<tbody>\n",
       "\t<tr><td> 1.0000000</td><td>0.5773503</td><td>-0.4041452</td></tr>\n",
       "\t<tr><td> 0.5773503</td><td>1.0000000</td><td> 0.3000000</td></tr>\n",
       "\t<tr><td>-0.4041452</td><td>0.3000000</td><td> 1.0000000</td></tr>\n",
       "</tbody>\n",
       "</table>\n"
      ],
      "text/latex": [
       "A matrix: 3 × 3 of type dbl\n",
       "\\begin{tabular}{lll}\n",
       "\t  1.0000000 & 0.5773503 & -0.4041452\\\\\n",
       "\t  0.5773503 & 1.0000000 &  0.3000000\\\\\n",
       "\t -0.4041452 & 0.3000000 &  1.0000000\\\\\n",
       "\\end{tabular}\n"
      ],
      "text/markdown": [
       "\n",
       "A matrix: 3 × 3 of type dbl\n",
       "\n",
       "|  1.0000000 | 0.5773503 | -0.4041452 |\n",
       "|  0.5773503 | 1.0000000 |  0.3000000 |\n",
       "| -0.4041452 | 0.3000000 |  1.0000000 |\n",
       "\n"
      ],
      "text/plain": [
       "     [,1]       [,2]      [,3]      \n",
       "[1,]  1.0000000 0.5773503 -0.4041452\n",
       "[2,]  0.5773503 1.0000000  0.3000000\n",
       "[3,] -0.4041452 0.3000000  1.0000000"
      ]
     },
     "metadata": {},
     "output_type": "display_data"
    }
   ],
   "source": [
    "cor(data)"
   ]
  },
  {
   "cell_type": "markdown",
   "id": "83296c95",
   "metadata": {
    "heading_collapsed": true
   },
   "source": [
    "### way 2 -> manually using R = D^{-1/2} SD^{-1/2}"
   ]
  },
  {
   "cell_type": "code",
   "execution_count": 11,
   "id": "f53a2af4",
   "metadata": {
    "ExecuteTime": {
     "end_time": "2022-04-10T16:49:48.007935Z",
     "start_time": "2022-04-10T16:49:45.150Z"
    },
    "hidden": true
   },
   "outputs": [
    {
     "data": {
      "text/html": [
       "<table class=\"dataframe\">\n",
       "<caption>A matrix: 3 × 3 of type dbl</caption>\n",
       "<tbody>\n",
       "\t<tr><td> 1.0000000</td><td>0.5773503</td><td>-0.4041452</td></tr>\n",
       "\t<tr><td> 0.5773503</td><td>1.0000000</td><td> 0.3000000</td></tr>\n",
       "\t<tr><td>-0.4041452</td><td>0.3000000</td><td> 1.0000000</td></tr>\n",
       "</tbody>\n",
       "</table>\n"
      ],
      "text/latex": [
       "A matrix: 3 × 3 of type dbl\n",
       "\\begin{tabular}{lll}\n",
       "\t  1.0000000 & 0.5773503 & -0.4041452\\\\\n",
       "\t  0.5773503 & 1.0000000 &  0.3000000\\\\\n",
       "\t -0.4041452 & 0.3000000 &  1.0000000\\\\\n",
       "\\end{tabular}\n"
      ],
      "text/markdown": [
       "\n",
       "A matrix: 3 × 3 of type dbl\n",
       "\n",
       "|  1.0000000 | 0.5773503 | -0.4041452 |\n",
       "|  0.5773503 | 1.0000000 |  0.3000000 |\n",
       "| -0.4041452 | 0.3000000 |  1.0000000 |\n",
       "\n"
      ],
      "text/plain": [
       "     [,1]       [,2]      [,3]      \n",
       "[1,]  1.0000000 0.5773503 -0.4041452\n",
       "[2,]  0.5773503 1.0000000  0.3000000\n",
       "[3,] -0.4041452 0.3000000  1.0000000"
      ]
     },
     "metadata": {},
     "output_type": "display_data"
    }
   ],
   "source": [
    "# utility function to get D^-1/2\n",
    "getInvSqrtD <- function(S){\n",
    "  diag <- 1/sqrt(diag(S))\n",
    "  return(diag(diag, nrow=ncol(S)))\n",
    "}\n",
    "\n",
    "manualCor <- function(S){\n",
    "  return(\n",
    "    getInvSqrtD(S)%*%S%*%getInvSqrtD(S)\n",
    "  )\n",
    "}\n",
    "\n",
    "# compute sample covariance matrix\n",
    "S <- manualCov1(data)\n",
    "R <- manualCor(S)\n",
    "\n",
    "# compute sample correlation matrix\n",
    "R"
   ]
  },
  {
   "cell_type": "markdown",
   "id": "035411c8",
   "metadata": {
    "heading_collapsed": true
   },
   "source": [
    "## Eigenvalue & Eigenvector"
   ]
  },
  {
   "cell_type": "code",
   "execution_count": 12,
   "id": "6eebb7bb",
   "metadata": {
    "ExecuteTime": {
     "end_time": "2022-04-10T16:49:48.031049Z",
     "start_time": "2022-04-10T16:49:45.154Z"
    },
    "hidden": true
   },
   "outputs": [
    {
     "data": {
      "text/plain": [
       "eigen() decomposition\n",
       "$values\n",
       "[1] 13.9049009  5.4143634  0.6807358\n",
       "\n",
       "$vectors\n",
       "             [,1]       [,2]       [,3]\n",
       "[1,] -0.613679310  0.6232975  0.4846627\n",
       "[2,] -0.789496144 -0.4769002 -0.3863444\n",
       "[3,] -0.009671757 -0.6197309  0.7847548\n"
      ]
     },
     "metadata": {},
     "output_type": "display_data"
    }
   ],
   "source": [
    "### Eigenvalue & Eigenvector of the Covariance Matrix\n",
    "eigen(S)"
   ]
  },
  {
   "cell_type": "raw",
   "id": "74d27e25",
   "metadata": {
    "hidden": true
   },
   "source": [
    "Terlihat bahwa eigenvector dari matriks kovarians yang diperoleh melalui built-in function di R persis sama dengan perhitungan manual. Hal ini dimungkinkan karena pemilihan komponen X3 pada eigenvector matrix kovarians secara manual telah disesuaikan dengan output yang diperoleh di R. Pemilihan X3 yang berbeda tentunya akan menghasilkan eigenvector yang berbeda pula. Hal ini menunjukkan sifat ketidakunikan eigenvector untuk suatu eigenvalue tertentu."
   ]
  },
  {
   "cell_type": "code",
   "execution_count": 13,
   "id": "51b9c0f3",
   "metadata": {
    "ExecuteTime": {
     "end_time": "2022-04-10T16:49:48.054390Z",
     "start_time": "2022-04-10T16:49:45.162Z"
    },
    "hidden": true
   },
   "outputs": [
    {
     "data": {
      "text/plain": [
       "eigen() decomposition\n",
       "$values\n",
       "[1] 1.591638 1.273514 0.134848\n",
       "\n",
       "$vectors\n",
       "           [,1]       [,2]       [,3]\n",
       "[1,]  0.7490653 -0.2047782  0.6300533\n",
       "[2,]  0.6347139  0.4943479 -0.5939347\n",
       "[3,] -0.1898407  0.8447994  0.5002744\n"
      ]
     },
     "metadata": {},
     "output_type": "display_data"
    }
   ],
   "source": [
    "### Eigenvalue & Eigenvector of the Correlation Matrix\n",
    "eigen(R)"
   ]
  },
  {
   "cell_type": "markdown",
   "id": "bf5e016f",
   "metadata": {
    "hidden": true
   },
   "source": [
    "Terlihat bahwa eigenvector dari matriks Korelasi yang diperoleh melalui built-in function di R persis sama dengan perhitungan manual. Hal ini dimungkinkan karena pemilihan komponen X3 pada eigenvector matrix korelasi secara manual telah disesuaikan dengan output yang diperoleh di R. Pemilihan X3 yang berbeda tentunya akan menghasilkan eigenvector yang berbeda pula. Hal ini menunjukkan sifat ketidakunikan eigenvector untuk suatu eigenvalue tertentu.\n"
   ]
  },
  {
   "cell_type": "markdown",
   "id": "c481e609",
   "metadata": {},
   "source": [
    "# Pertemuan 3"
   ]
  },
  {
   "cell_type": "markdown",
   "id": "1ec97e3b",
   "metadata": {
    "heading_collapsed": true
   },
   "source": [
    "## Load Data"
   ]
  },
  {
   "cell_type": "raw",
   "id": "8b372ac7",
   "metadata": {
    "ExecuteTime": {
     "end_time": "2022-04-10T15:10:22.759278Z",
     "start_time": "2022-04-10T15:10:20.594Z"
    },
    "hidden": true
   },
   "source": [
    "# using url github\n",
    "\n",
    "\n",
    "url <- \"https://raw.githubusercontent.com/rii92/tugas-APG/main/6%20maret%202022/tugas%20ketiga%20APG.csv\"\n",
    "data<-read.csv(url)\n",
    "data"
   ]
  },
  {
   "cell_type": "raw",
   "id": "94e945b5",
   "metadata": {
    "hidden": true
   },
   "source": [
    "# using read_excel\n",
    "\n",
    "data <- read_excel(\"3SD1.xlsx\", sheet=1)\n",
    "data <- as.data.frame(data)"
   ]
  },
  {
   "cell_type": "code",
   "execution_count": 14,
   "id": "a7cc7ba2",
   "metadata": {
    "ExecuteTime": {
     "end_time": "2022-04-10T16:49:48.105978Z",
     "start_time": "2022-04-10T16:49:45.175Z"
    },
    "hidden": true,
    "scrolled": true
   },
   "outputs": [
    {
     "data": {
      "text/plain": [
       "\n",
       "\n",
       "|  fuel| repair| capital|\n",
       "|-----:|------:|-------:|\n",
       "| 16.44|  12.43|   11.23|\n",
       "|  7.19|   2.70|    3.92|\n",
       "|  9.92|   1.35|    9.75|\n",
       "|  4.24|   5.78|    7.78|\n",
       "| 11.20|   5.05|   10.67|\n",
       "| 14.25|   5.78|    9.88|\n",
       "| 13.50|  10.98|   10.60|\n",
       "| 13.32|  14.27|    9.45|\n",
       "| 29.11|  15.09|    3.28|\n",
       "| 12.68|   7.61|   10.23|\n",
       "|  7.51|   5.80|    8.13|\n",
       "|  9.90|   3.63|    9.13|\n",
       "| 10.25|   5.07|   10.17|\n",
       "| 11.11|   6.16|    7.61|\n",
       "| 12.17|  14.26|   14.39|\n",
       "| 10.24|   2.59|    6.09|\n",
       "| 10.18|   6.05|   12.14|\n",
       "|  8.88|   2.70|   12.23|\n",
       "| 12.34|   7.73|   11.68|\n",
       "|  8.51|  14.02|   12.01|\n",
       "| 26.16|  17.44|   16.89|\n",
       "| 12.95|   8.24|    7.18|\n",
       "| 16.93|  13.37|   17.59|\n",
       "| 14.70|  10.78|   14.58|\n",
       "| 10.32|   5.16|   17.00|"
      ]
     },
     "metadata": {},
     "output_type": "display_data"
    }
   ],
   "source": [
    "# manually 1.0\n",
    "\n",
    "fuel <- c(16.44, 7.19, 9.92, 4.24, 11.2, 14.25, 13.5, 13.32, 29.11, 12.68, 7.51\n",
    "          , 9.9, 10.25, 11.11, 12.17, 10.24, 10.18, 8.88, 12.34, 8.51, 26.16\n",
    "          , 12.95, 16.93, 14.7, 10.32)\n",
    "\n",
    "repair <- c(12.43, 2.7, 1.35, 5.78, 5.05, 5.78, 10.98, 14.27, 15.09, 7.61, 5.8\n",
    "            , 3.63, 5.07,6.16, 14.26, 2.59, 6.05, 2.7, 7.73, 14.02, 17.44, 8.24\n",
    "            , 13.37, 10.78, 5.16)\n",
    "\n",
    "capital <- c(11.23, 3.92, 9.75, 7.78, 10.67, 9.88, 10.6, 9.45, 3.28, 10.23, 8.13\n",
    "             , 9.13, 10.17, 7.61, 14.39, 6.09, 12.14, 12.23, 11.68, 12.01, 16.89\n",
    "             , 7.18, 17.59, 14.58, 17)\n",
    "\n",
    "data <- data.frame(fuel, repair, capital)\n",
    "kable(data)"
   ]
  },
  {
   "cell_type": "raw",
   "id": "4d842df8",
   "metadata": {
    "ExecuteTime": {
     "end_time": "2022-04-10T16:03:57.795818Z",
     "start_time": "2022-04-10T16:03:57.764Z"
    },
    "hidden": true
   },
   "source": [
    "# manually 2.0\n",
    "\n",
    "data <- matrix(c(9, 12, 3\n",
    "              , 2, 8, 4\n",
    "              , 6, 6, 0\n",
    "              , 5, 4, 2\n",
    "              , 8, 10, 1), ncol=3, byrow=T)\n",
    "\n",
    "data"
   ]
  },
  {
   "cell_type": "markdown",
   "id": "e5da56d5",
   "metadata": {},
   "source": [
    "## Outlier Detection"
   ]
  },
  {
   "cell_type": "markdown",
   "id": "fa2c3c56",
   "metadata": {
    "heading_collapsed": true
   },
   "source": [
    "### Bivariate Scatterplot"
   ]
  },
  {
   "cell_type": "code",
   "execution_count": 15,
   "id": "7ae74aa7",
   "metadata": {
    "ExecuteTime": {
     "end_time": "2022-04-10T16:49:48.232599Z",
     "start_time": "2022-04-10T16:49:45.185Z"
    },
    "hidden": true
   },
   "outputs": [
    {
     "data": {
      "image/png": "[encoded data removed]",
      "text/plain": [
       "Plot with title \"Bvt. Boxplot Repair vs Capital\""
      ]
     },
     "metadata": {
      "image/png": {
       "height": 420,
       "width": 420
      }
     },
     "output_type": "display_data"
    }
   ],
   "source": [
    "# set plot display parameter\n",
    "par(mfrow = c(2, 2)) # Create a 2 x 2 plotting matrix\n",
    "mat <- matrix(c(1, 2, 3, 0), nrow=2, byrow=T)\n",
    "layout(mat)\n",
    "\n",
    "# bivariate scatterplot with confidence area\n",
    "bvbox(data[c(1, 2)], xlab = \"Fuel ($) \", ylab = \"Repair ($)\", main = \"Bvt. Boxplot Fuel vs Repair\")\n",
    "  text(data$fuel[21], data$repair[21], labels=\"21\", cex = 0.9, pos = 2, col = \"red\")\n",
    "  text(data$fuel[9], data$repair[9], labels=\"9\", cex = 0.9, pos = 2, col = \"red\")\n",
    "\n",
    "bvbox(data[c(1, 3)], xlab = \"Fuel ($) \", ylab = \"Capital ($)\", main = \"Bvt. Boxplot Fuel vs Capital\")\n",
    "  text(data$fuel[21], data$capital[21], labels=\"21\", cex = 0.9, pos = 2, col = \"red\")\n",
    "  text(data$fuel[9], data$capital[9], labels=\"9\", cex = 0.9, pos = 2, col = \"red\")\n",
    "\n",
    "bvbox(data[c(2, 3)], xlab = \"Repair ($) \", ylab = \"Capital ($)\", main = \"Bvt. Boxplot Repair vs Capital\")\n",
    "  text(data$repair[21], data$capital[21], labels=\"21\", cex = 0.9, pos = 2, col = \"red\")\n",
    "  text(data$repair[9], data$capital[9], labels=\"9\", cex = 0.9, pos = 2, col = \"red\")"
   ]
  },
  {
   "cell_type": "raw",
   "id": "27cb12a6",
   "metadata": {
    "hidden": true
   },
   "source": [
    "Berdasarkan scatterplot yang telah dilengkapi dengan bivariate boxplot dari kombinasi bivariate variabel Capital, Repair, dan Fuel, diperoleh bahwa observasi ke-9 dan ke-21 berpotensi menjadi outlier. Hal ini mungkin dapat mempengaruhi analisis selanjutnya, mengingat keberadaan outlier dapat mengacaukan distribusi empiris dari sampel yang diperoleh, sehingga asumsi-asumsi random sample dari suatu distribusi tertentu (misal multivariate normal) tidak bisa dipenuhi."
   ]
  },
  {
   "cell_type": "markdown",
   "id": "f9579033",
   "metadata": {},
   "source": [
    "### Univariate QQ-Plot"
   ]
  },
  {
   "cell_type": "markdown",
   "id": "5db271f4",
   "metadata": {
    "heading_collapsed": true
   },
   "source": [
    "#### Using Available R Package"
   ]
  },
  {
   "cell_type": "code",
   "execution_count": 16,
   "id": "60d747a4",
   "metadata": {
    "ExecuteTime": {
     "end_time": "2022-04-10T16:49:48.423752Z",
     "start_time": "2022-04-10T16:49:45.193Z"
    },
    "hidden": true
   },
   "outputs": [
    {
     "data": {
      "text/html": [
       "<style>\n",
       ".list-inline {list-style: none; margin:0; padding: 0}\n",
       ".list-inline>li {display: inline-block}\n",
       ".list-inline>li:not(:last-child)::after {content: \"\\00b7\"; padding: 0 .5ex}\n",
       "</style>\n",
       "<ol class=list-inline><li>9</li><li>21</li></ol>\n"
      ],
      "text/latex": [
       "\\begin{enumerate*}\n",
       "\\item 9\n",
       "\\item 21\n",
       "\\end{enumerate*}\n"
      ],
      "text/markdown": [
       "1. 9\n",
       "2. 21\n",
       "\n",
       "\n"
      ],
      "text/plain": [
       "[1]  9 21"
      ]
     },
     "metadata": {},
     "output_type": "display_data"
    },
    {
     "data": {
      "image/png": "[encoded data removed]",
      "text/plain": [
       "plot without title"
      ]
     },
     "metadata": {
      "image/png": {
       "height": 420,
       "width": 420
      }
     },
     "output_type": "display_data"
    },
    {
     "data": {
      "text/html": [
       "<style>\n",
       ".list-inline {list-style: none; margin:0; padding: 0}\n",
       ".list-inline>li {display: inline-block}\n",
       ".list-inline>li:not(:last-child)::after {content: \"\\00b7\"; padding: 0 .5ex}\n",
       "</style>\n",
       "<ol class=list-inline><li>21</li><li>9</li></ol>\n"
      ],
      "text/latex": [
       "\\begin{enumerate*}\n",
       "\\item 21\n",
       "\\item 9\n",
       "\\end{enumerate*}\n"
      ],
      "text/markdown": [
       "1. 21\n",
       "2. 9\n",
       "\n",
       "\n"
      ],
      "text/plain": [
       "[1] 21  9"
      ]
     },
     "metadata": {},
     "output_type": "display_data"
    },
    {
     "data": {
      "image/png": "[encoded data removed]",
      "text/plain": [
       "plot without title"
      ]
     },
     "metadata": {
      "image/png": {
       "height": 420,
       "width": 420
      }
     },
     "output_type": "display_data"
    },
    {
     "data": {
      "text/html": [
       "<style>\n",
       ".list-inline {list-style: none; margin:0; padding: 0}\n",
       ".list-inline>li {display: inline-block}\n",
       ".list-inline>li:not(:last-child)::after {content: \"\\00b7\"; padding: 0 .5ex}\n",
       "</style>\n",
       "<ol class=list-inline><li>9</li><li>23</li></ol>\n"
      ],
      "text/latex": [
       "\\begin{enumerate*}\n",
       "\\item 9\n",
       "\\item 23\n",
       "\\end{enumerate*}\n"
      ],
      "text/markdown": [
       "1. 9\n",
       "2. 23\n",
       "\n",
       "\n"
      ],
      "text/plain": [
       "[1]  9 23"
      ]
     },
     "metadata": {},
     "output_type": "display_data"
    },
    {
     "data": {
      "image/png": "[encoded data removed]",
      "text/plain": [
       "plot without title"
      ]
     },
     "metadata": {
      "image/png": {
       "height": 420,
       "width": 420
      }
     },
     "output_type": "display_data"
    }
   ],
   "source": [
    "qqPlot(data$fuel)\n",
    "qqPlot(data$repair)\n",
    "qqPlot(data$capital)"
   ]
  },
  {
   "cell_type": "raw",
   "id": "439c5373",
   "metadata": {
    "hidden": true
   },
   "source": [
    "Berdasarkan QQ-Plot univariat diatas kita dapat menyelidiki normalitas dan keberadaan outlier secara univariate pada tiap variabel.\n",
    "\n",
    "Observasi ke- 9, 21, dan 23 terlihat cenderung lebih jauh dari pengamatan lainnya, yang mana berpotensi menjadi outlier.\n",
    "\n",
    "Secara grafis, data sampel dapat dikatakan berasal dari distribusi normal apabila seluruh titik pada QQ-Plot jatuh tepat pada atau disekitar garis referensi (semakin dekat, maka semakin mendekati normal) tanpa menunjukkan pola penyebaran yang sistematis. Berdasarkan qqplot diatas diperoleh :\n",
    "\n",
    "1.  Karena adanya efek outlier variabel fuel mungkin tidak berasal dari distribusi normal.\n",
    "2.  Pada variabel repair, meskipun seluruh titik jatuh di sekitar garis referensi, tetapi terdapat pola sistematis dari sebaran titik ini di sekitar garis tersebut. Hal ini dapat mengindikasikan sedikit penyelewengan dari distribusi normal.\n",
    "3.  Pada variabel capital, tidak ada tanda-tanda penyelewengan dari distribusi normal secara grafis."
   ]
  },
  {
   "cell_type": "markdown",
   "id": "089273e6",
   "metadata": {
    "ExecuteTime": {
     "end_time": "2022-04-10T16:05:15.303005Z",
     "start_time": "2022-04-10T16:05:15.286Z"
    },
    "heading_collapsed": true
   },
   "source": [
    "#### Using Manually Defined Function"
   ]
  },
  {
   "cell_type": "code",
   "execution_count": 17,
   "id": "91183890",
   "metadata": {
    "ExecuteTime": {
     "end_time": "2022-04-10T16:49:49.814193Z",
     "start_time": "2022-04-10T16:49:45.202Z"
    },
    "hidden": true
   },
   "outputs": [
    {
     "name": "stderr",
     "output_type": "stream",
     "text": [
      "`geom_smooth()` using formula 'y ~ x'\n",
      "\n",
      "`geom_smooth()` using formula 'y ~ x'\n",
      "\n"
     ]
    },
    {
     "data": {
      "image/png": "[encoded data removed]",
      "text/plain": [
       "plot without title"
      ]
     },
     "metadata": {
      "image/png": {
       "height": 420,
       "width": 420
      }
     },
     "output_type": "display_data"
    },
    {
     "name": "stderr",
     "output_type": "stream",
     "text": [
      "`geom_smooth()` using formula 'y ~ x'\n",
      "\n"
     ]
    },
    {
     "data": {
      "image/png": "[encoded data removed]",
      "text/plain": [
       "plot without title"
      ]
     },
     "metadata": {
      "image/png": {
       "height": 420,
       "width": 420
      }
     },
     "output_type": "display_data"
    },
    {
     "data": {
      "image/png": "[encoded data removed]",
      "text/plain": [
       "plot without title"
      ]
     },
     "metadata": {
      "image/png": {
       "height": 420,
       "width": 420
      }
     },
     "output_type": "display_data"
    }
   ],
   "source": [
    "manualQQplot <- function(obs){\n",
    "  \n",
    "  # number of observation\n",
    "  n <- length(obs)\n",
    "  \n",
    "  # empirical quantile\n",
    "  empQuantile <- sort(obs)\n",
    "  \n",
    "  # empirical CDF\n",
    "  empCDF <- 1:n\n",
    "  empCDF <- (empCDF - 0.5) / n\n",
    "  \n",
    "  # theoretical quantile from N(0, 1)\n",
    "  theoQuantile <- qnorm(empCDF)\n",
    "  \n",
    "  # plot empirical and theoretical quantile\n",
    "  sp <- ggscatter(data.frame(empQuantile, theoQuantile)\n",
    "                   , x = \"theoQuantile\", y = \"empQuantile\"\n",
    "                   , xlab = \"Normal Quantile\"\n",
    "                   , ylab = deparse(substitute(obs))\n",
    "                   , add = \"reg.line\"  \n",
    "                   , add.params = list(color = \"blue\") \n",
    "                )\n",
    "   \n",
    "  # Add correlation coefficient\n",
    "  sp + stat_cor(method = \"pearson\", label.sep = \"\\n\")\n",
    "  \n",
    "}\n",
    "\n",
    "manualQQplot(data$fuel)\n",
    "manualQQplot(data$repair)\n",
    "manualQQplot(data$capital)"
   ]
  },
  {
   "cell_type": "markdown",
   "id": "2058571e",
   "metadata": {},
   "source": [
    "### Chi-Square Plot"
   ]
  },
  {
   "cell_type": "markdown",
   "id": "9351b90e",
   "metadata": {
    "heading_collapsed": true
   },
   "source": [
    "#### Using MVN Package"
   ]
  },
  {
   "cell_type": "code",
   "execution_count": 18,
   "id": "ee17d202",
   "metadata": {
    "ExecuteTime": {
     "end_time": "2022-04-10T16:49:49.921833Z",
     "start_time": "2022-04-10T16:49:45.206Z"
    },
    "hidden": true
   },
   "outputs": [
    {
     "data": {
      "image/png": "[encoded data removed]",
      "text/plain": [
       "Plot with title \"Chi-Square Q-Q Plot\""
      ]
     },
     "metadata": {
      "image/png": {
       "height": 420,
       "width": 420
      }
     },
     "output_type": "display_data"
    }
   ],
   "source": [
    "chisquare_plot <- mvn(data, multivariatePlot = \"qq\")"
   ]
  },
  {
   "cell_type": "raw",
   "id": "350f5e1a",
   "metadata": {
    "hidden": true
   },
   "source": [
    "Chi-square plot merupakan ekstensi QQ-plot untuk data multivariat. Pada chi-square plot juga dapat digunakan untuk mengevaluasi apakah data sampel yang diperoleh berasal dari distribusi multivariate normal. Perbedaannya adalah, jika pada QQ-plot kita membandingkan empirical / sample quantile terhadap theoretical quantile dari distribusi standar normal atau $N(0, 1)$, pada chi-square plot kita membandingkan quantile dari suatu ukuran jarak tertentu yang diperoleh dari data sampel (squared of generalized distance) terhadap theoretical quantile dari distribusi $\\chi_{p}$ dimana p adalah jumlah variabel.. Apabila scatterplot dari kedua quantile ini berada tepat atau di sekitar garis referensi y = x atau garis yang melalui origin dan membentuk sudut 45 derajat terhadap kedua axis (berbeda dengan QQ-Plot univariate yang dapat menggunakan sebarang best fit line sebagai garis referensi), maka kita dapat mengatakan bahwa sampel yang diperoleh berasal dari suatu distribusi multivariate normal berderajat-p.\n",
    "\n",
    "Berdasarkan chi-square plot diatas, terdapat satu outlier yang berjarak sangat jauh dari pengamatan lainnya, yang dapat mengindikasikan adanya penyimpangan dari distribusi multivariat normal."
   ]
  },
  {
   "cell_type": "markdown",
   "id": "aaf6a82d",
   "metadata": {
    "heading_collapsed": true
   },
   "source": [
    "#### Using Manually Defined Function"
   ]
  },
  {
   "cell_type": "code",
   "execution_count": 19,
   "id": "fe8fc575",
   "metadata": {
    "ExecuteTime": {
     "end_time": "2022-04-10T16:49:50.061676Z",
     "start_time": "2022-04-10T16:49:45.214Z"
    },
    "hidden": true
   },
   "outputs": [
    {
     "name": "stderr",
     "output_type": "stream",
     "text": [
      "\n",
      "Attaching package: 'matlib'\n",
      "\n",
      "\n",
      "The following object is masked from 'package:rgl':\n",
      "\n",
      "    GramSchmidt\n",
      "\n",
      "\n"
     ]
    },
    {
     "data": {
      "image/png": "[encoded data removed]",
      "text/plain": [
       "plot without title"
      ]
     },
     "metadata": {
      "image/png": {
       "height": 420,
       "width": 420
      }
     },
     "output_type": "display_data"
    }
   ],
   "source": [
    "# utility function to calculate squared of generalized distance.\n",
    "\n",
    "sqrDist <- function(X, i){\n",
    "  \n",
    "  library(matlib)\n",
    "  X <- as.matrix(X)\n",
    "    \n",
    "  return(t(X[i, ]-colMeans(X)) %*% inv(cov(X)) %*% (X[i, ]-colMeans(X)))\n",
    "}\n",
    "\n",
    "# chisquare plot function\n",
    "manualChisqPlot <- function(X){\n",
    "  # number of obs\n",
    "  n <- nrow(X)\n",
    "  \n",
    "  # number of variables\n",
    "  p <- ncol(X)\n",
    "  \n",
    "  # initialize squared generalized distance vector\n",
    "  dSqrd <- c()\n",
    "  \n",
    "  # compute squared generalized distance\n",
    "  for(i in 1 : n){\n",
    "    dSqrd <- c(dSqrd, sqrDist(X, i))\n",
    "  }\n",
    "  \n",
    "  # empirical quantile\n",
    "  empQuantile <- sort(dSqrd)\n",
    "  \n",
    "  # empirical CDF\n",
    "  empCDF <- 1:n\n",
    "  empCDF <- (empCDF - 0.5) / n\n",
    "  \n",
    "  # theoretical chi-squared quantile\n",
    "  theoQuantile <- qchisq(empCDF, df = p)\n",
    "  \n",
    "  # plot\n",
    "  plot( empQuantile, theoQuantile\n",
    "       , ylab = \"Theoretical Chi-Squared Quantile\"\n",
    "       , xlab = \"Squared of Generalized Distance\")\n",
    "  \n",
    "  # add y = x line\n",
    "  abline(a = 0, b = 1)\n",
    "  \n",
    "  return(data.frame(list(Theoretical_Quantile = theoQuantile, Empirical_Quantile = empQuantile)))\n",
    "}\n",
    "\n",
    "a <- manualChisqPlot(data)"
   ]
  },
  {
   "cell_type": "markdown",
   "id": "853f5364",
   "metadata": {},
   "source": [
    "### Multivariate Normality Test"
   ]
  },
  {
   "cell_type": "markdown",
   "id": "b8417205",
   "metadata": {
    "heading_collapsed": true
   },
   "source": [
    "#### Univariate Normality"
   ]
  },
  {
   "cell_type": "code",
   "execution_count": 20,
   "id": "7576c0b7",
   "metadata": {
    "ExecuteTime": {
     "end_time": "2022-04-10T16:49:50.096671Z",
     "start_time": "2022-04-10T16:49:45.218Z"
    },
    "hidden": true
   },
   "outputs": [
    {
     "data": {
      "text/plain": [
       "\n",
       "\n",
       "|Test         |Variable |Statistic |P_Value |\n",
       "|:------------|:--------|:---------|:-------|\n",
       "|Shapiro-Wilk |fuel     |0.8275    |0.0007  |\n",
       "|Shapiro-Wilk |repair   |0.9258    |0.0697  |\n",
       "|Shapiro-Wilk |capital  |0.9690    |0.6204  |"
      ]
     },
     "metadata": {},
     "output_type": "display_data"
    }
   ],
   "source": [
    "#Shapiro Wilk Test\n",
    "unvrtTest <- function(X){\n",
    "\n",
    "  # get the shapiro wilk test result\n",
    "  unvrtTestResult <- as.data.frame(mvn(X, univariateTest = \"SW\")[2])\n",
    "  unvrtTestResult <- unvrtTestResult[ , c(-5)]\n",
    "  \n",
    "  # change the column name\n",
    "  colnames(unvrtTestResult) <- c( \"Test\", \"Variable\", \"Statistic\", \"P_Value\")#     \n",
    "\n",
    "  return(unvrtTestResult)\n",
    "}\n",
    "\n",
    "kable(unvrtTest(data))"
   ]
  },
  {
   "cell_type": "raw",
   "id": "5d9f8e6b",
   "metadata": {
    "hidden": true
   },
   "source": [
    "Tabel diatas menunjukkan hasil uji normalitas menggunakan uji shapiro-wilk. Terlihat bahwa untuk tingkat signifikansi 5%, variabel fuel tidak berasal dari suatu distribusi normal. Kemudian, pada variabel repair terlihat bahwa P-Value dari uji shapiro-wilk yang dihasilkan, meskipun lebih besar dari tingkat signifikansi yang telah ditetapkan, cenderung hampir mendekati tingkat signifikansi, yang dapat mengindikasikan adanya penyimpangan dari distribusi normal, tetapi tidak cukup parah sehingga dapat diabaikan. Terakhir, pada variabel capital, p-value yang dihasilkan sangat jauh dari tingkat signfikansi, sehingga kemungkinan besar variabel tersebut memang berasal dari suatu distribusi normal."
   ]
  },
  {
   "cell_type": "markdown",
   "id": "db8cff06",
   "metadata": {
    "heading_collapsed": true
   },
   "source": [
    "#### Using MVN Package"
   ]
  },
  {
   "cell_type": "code",
   "execution_count": 21,
   "id": "1fe4402d",
   "metadata": {
    "ExecuteTime": {
     "end_time": "2022-04-10T16:49:50.515153Z",
     "start_time": "2022-04-10T16:49:45.226Z"
    },
    "hidden": true
   },
   "outputs": [
    {
     "data": {
      "text/plain": [
       "\n",
       "\n",
       "|Test            |  Statistic|   P_Value|\n",
       "|:---------------|----------:|---------:|\n",
       "|Mardia Skewness | 31.0682232| 0.0005717|\n",
       "|Mardia Kurtosis |  2.6001566| 0.0093181|\n",
       "|MVN             |         NA|        NA|\n",
       "|Henze-Zirkler   |  0.9913875| 0.0116026|\n",
       "|Royston         | 16.2501889| 0.0010148|\n",
       "|Doornik-Hansen  |  8.3736140| 0.2119889|\n",
       "|E-statistic     |  1.3009415| 0.0060000|"
      ]
     },
     "metadata": {},
     "output_type": "display_data"
    }
   ],
   "source": [
    "# function to do multivariate normality test\n",
    "mvtNormalityTest <- function(X){\n",
    "  library(MVN)\n",
    "  \n",
    "  # list of test that will be performed\n",
    "  testList <- c(\"mardia\", \"hz\", \"royston\", \"dh\", \"energy\")\n",
    "  \n",
    "  # initialize result dataframe\n",
    "  result <- c()\n",
    "  \n",
    "  for(i in 1 : length(testList)){\n",
    "    tempMvnObj <- mvn(X, mvnTest=testList[i])\n",
    "    tempResult <- tempMvnObj[[1]] \n",
    "    \n",
    "    # drop third column\n",
    "    if(i == 4){\n",
    "      tempResult <- tempResult[ , -3]\n",
    "    }\n",
    "    \n",
    "    # drop \"result\" column\n",
    "    tempResult <- tempResult[, -4]\n",
    "    \n",
    "    # convert to numeric\n",
    "    tempResult[2] <- as.numeric(as.character(tempResult[[2]]))\n",
    "    tempResult[3] <- as.numeric(as.character(tempResult[[3]]))\n",
    "    \n",
    "    colnames(tempResult) <- c(\"Test\", \"Statistic\", \"P_Value\")\n",
    "    \n",
    "    result <- rbind(result, tempResult)\n",
    "  }\n",
    "  \n",
    "  return(result) \n",
    "} \n",
    "\n",
    "kable(mvtNormalityTest(data))"
   ]
  },
  {
   "cell_type": "raw",
   "id": "2349ed96",
   "metadata": {
    "hidden": true
   },
   "source": [
    "Tabel diatas menunjukkan hasil pengujian multivariate normality pada data Milk Transportation-Cost. Diperoleh bahwa untuk tingkat signifikansi 5% :\n",
    "\n",
    "1.  Uji multivariate normality Mardia, Henze-Zirkler, Royston, dan E-Statistic menunjukkan adanya penyimpangan dari distribusi multivariate normal pada dataset yang digunakan.\n",
    "2.  Di sisi lain, uji Doornik-Hansen tidak mendeteksi penyimpangan ini."
   ]
  },
  {
   "cell_type": "markdown",
   "id": "9e1e85e8",
   "metadata": {
    "heading_collapsed": true
   },
   "source": [
    "#### Using RVAideMemoire Package"
   ]
  },
  {
   "cell_type": "code",
   "execution_count": 22,
   "id": "bf2d99d3",
   "metadata": {
    "ExecuteTime": {
     "end_time": "2022-04-10T16:49:50.541996Z",
     "start_time": "2022-04-10T16:49:45.234Z"
    },
    "hidden": true
   },
   "outputs": [
    {
     "data": {
      "text/plain": [
       "\n",
       "\tMultivariate Shapiro-Wilk normality test\n",
       "\n",
       "data:  (fuel,repair,capital)\n",
       "W = 0.77297, p-value = 8.32e-05\n"
      ]
     },
     "metadata": {},
     "output_type": "display_data"
    }
   ],
   "source": [
    "mshapiro.test(data)"
   ]
  },
  {
   "cell_type": "raw",
   "id": "d5e0ac08",
   "metadata": {
    "hidden": true
   },
   "source": [
    "Penyimpangan dari multivariate normal juga terdeteksi berdasarkan uji Shapiro-Wilk untuk data multivariat diatas."
   ]
  },
  {
   "cell_type": "markdown",
   "id": "57b5e7b8",
   "metadata": {},
   "source": [
    "## Treatment for Multivariate Normal Assumption Violation"
   ]
  },
  {
   "cell_type": "markdown",
   "id": "354dc387",
   "metadata": {
    "heading_collapsed": true
   },
   "source": [
    "### Outlier Removal"
   ]
  },
  {
   "cell_type": "code",
   "execution_count": 23,
   "id": "dfec60c8",
   "metadata": {
    "ExecuteTime": {
     "end_time": "2022-04-10T16:49:51.264961Z",
     "start_time": "2022-04-10T16:49:45.242Z"
    },
    "hidden": true
   },
   "outputs": [
    {
     "data": {
      "text/plain": [
       "\n",
       "\n",
       "|Test            | Statistic w/ Outlier| Statistic w/o Outlier| P_Value w/ Outlier| P_Value w/o Outlier|\n",
       "|:---------------|--------------------:|---------------------:|------------------:|-------------------:|\n",
       "|Mardia Skewness |           31.0682232|             8.0414351|          0.0005717|           0.6247895|\n",
       "|Mardia Kurtosis |            2.6001566|            -0.3409381|          0.0093181|           0.7331502|\n",
       "|MVN             |                   NA|                    NA|                 NA|                  NA|\n",
       "|Henze-Zirkler   |            0.9913875|             0.6247986|          0.0116026|           0.3532378|\n",
       "|Royston         |           16.2501889|             4.3196577|          0.0010148|           0.2389119|\n",
       "|Doornik-Hansen  |            8.3736140|             4.9700577|          0.2119889|           0.5476592|\n",
       "|E-statistic     |            1.3009415|             0.8615430|          0.0030000|           0.3340000|"
      ]
     },
     "metadata": {},
     "output_type": "display_data"
    }
   ],
   "source": [
    "data_eliminated <- data[-c(9, 21), ]\n",
    "\n",
    "# function to compare multivariate test from 2 datasets\n",
    "compareMvTest <- function(X1, X2){\n",
    "  result1 <- mvtNormalityTest(X1)\n",
    "  result2 <- mvtNormalityTest(X2)\n",
    "  \n",
    "  compareResult <- c()\n",
    "  compareResult$Test <- result1$Test\n",
    "  compareResult$Statistic1 <- result1$Statistic\n",
    "  compareResult$Statistic2 <- result2$Statistic\n",
    "  compareResult$P_Value1 <- result1$P_Value\n",
    "  compareResult$P_Value2 <- result2$P_Value\n",
    "  \n",
    "  return( as.data.frame(compareResult) )\n",
    "}\n",
    "\n",
    "compareOutlier <- compareMvTest(data, data_eliminated)\n",
    "colnames(compareOutlier) <- c(\"Test\", \"Statistic w/ Outlier\", \"Statistic w/o Outlier\", \"P_Value w/ Outlier\", \"P_Value w/o Outlier\")\n",
    "\n",
    "kable(compareOutlier)"
   ]
  },
  {
   "cell_type": "raw",
   "id": "c80460f3",
   "metadata": {
    "hidden": true
   },
   "source": [
    "Tabel diatas menunjukkan hasil pengujian multivariate normality sebelum dan sesudah pembuangan outlier. Terlihat bahwa untuk tingkat signifikansi 5%, seluruh uji multivariate normality tidak mendeteksi adanya penyimpangan dari multivariate normal pada data yang digunakan."
   ]
  },
  {
   "cell_type": "markdown",
   "id": "5331386e",
   "metadata": {
    "heading_collapsed": true
   },
   "source": [
    "### Transformation"
   ]
  },
  {
   "cell_type": "code",
   "execution_count": 24,
   "id": "12079611",
   "metadata": {
    "ExecuteTime": {
     "end_time": "2022-04-10T16:49:51.308270Z",
     "start_time": "2022-04-10T16:49:45.250Z"
    },
    "hidden": true
   },
   "outputs": [
    {
     "data": {
      "text/plain": [
       "\n",
       "\n",
       "|Test         |Variable   |Statistic |P_Value |\n",
       "|:------------|:----------|:---------|:-------|\n",
       "|Shapiro-Wilk |fuel       |0.8275    |0.0007  |\n",
       "|Shapiro-Wilk |repair     |0.9258    |0.0697  |\n",
       "|Shapiro-Wilk |capital    |0.9690    |0.6204  |\n",
       "|Shapiro-Wilk |Log_Fuel   |0.9460    |0.2034  |\n",
       "|Shapiro-Wilk |Log_Repair |0.9418    |0.1628  |"
      ]
     },
     "metadata": {},
     "output_type": "display_data"
    }
   ],
   "source": [
    "# Apply logarithm transformation to fuel\n",
    "\n",
    "data_transformed <- data\n",
    "data_transformed$Log_Fuel <- log(data_transformed$fuel)\n",
    "data_transformed$Log_Repair <- log(data_transformed$repair)\n",
    "\n",
    "kable(unvrtTest(data_transformed))"
   ]
  },
  {
   "cell_type": "raw",
   "id": "bcce7973",
   "metadata": {
    "hidden": true
   },
   "source": [
    "Pada tabel diatas terlihat bahwa dengan menggunakan transformasi logaritma pada variabel Fuel dan Repair telah meningkatkan p-value uji Shapiro-Wilk masing-masing hingga menjadi jauh lebih besar daripada tingkat signifikansi 5% yang telah ditetapkan. Kemudian, karena setiap variabel telah berdistribusi normal secara marginal, maka kita dapat berharap bahwa secara bersama (jointly) mereka akan berdistribusi multivariat normal."
   ]
  },
  {
   "cell_type": "code",
   "execution_count": 25,
   "id": "1079ee48",
   "metadata": {
    "ExecuteTime": {
     "end_time": "2022-04-10T16:49:52.025386Z",
     "start_time": "2022-04-10T16:49:45.258Z"
    },
    "hidden": true
   },
   "outputs": [
    {
     "data": {
      "text/plain": [
       "\n",
       "\n",
       "|Test            | Stat. Original| Stat. Transformed| P_Value Original| P_Value Transformed|\n",
       "|:---------------|--------------:|-----------------:|----------------:|-------------------:|\n",
       "|Mardia Skewness |     31.0682232|        20.5375992|        0.0005717|           0.0245589|\n",
       "|Mardia Kurtosis |      2.6001566|         2.0269298|        0.0093181|           0.0426696|\n",
       "|MVN             |             NA|                NA|               NA|                  NA|\n",
       "|Henze-Zirkler   |      0.9913875|         0.6601969|        0.0116026|           0.2907259|\n",
       "|Royston         |     16.2501889|         5.2257245|        0.0010148|           0.1599251|\n",
       "|Doornik-Hansen  |      8.3736140|        47.2219904|        0.2119889|           0.0000000|\n",
       "|E-statistic     |      1.3009415|         0.9342234|        0.0000000|           0.1860000|"
      ]
     },
     "metadata": {},
     "output_type": "display_data"
    }
   ],
   "source": [
    "compareTransformed <- compareMvTest(data, data_transformed[ , c(3, 4, 5)])\n",
    "colnames(compareTransformed) <- c(\"Test\", \"Stat. Original\", \"Stat. Transformed\"\n",
    "                                  , \"P_Value Original\", \"P_Value Transformed\")\n",
    "kable(compareTransformed)"
   ]
  },
  {
   "cell_type": "raw",
   "id": "278e34dd",
   "metadata": {
    "hidden": true
   },
   "source": [
    "Tabel diatas menunjukkan perbandingan hasil uji multivariate normality sebelum dan sesudah transformasi. Untuk tingkat signifikansi 5% diperoleh bahwa :\n",
    "\n",
    "1.  Berdasarkan uji Henze-Zirkler, Royston, dan E-Statistic, tidak terdeteksi adanya penyimpangan dari distribusi multivariat normal pada data yang digunakan.\n",
    "2.  Berdasarkan uji Mardia dan Doornik-Hansen di sisi lain, masih terdeteksi adanya penyimpangan dari distribusi multivariat normal pada data yang digunakan."
   ]
  },
  {
   "cell_type": "markdown",
   "id": "53ca014f",
   "metadata": {},
   "source": [
    "# Pertemuan 4"
   ]
  },
  {
   "cell_type": "markdown",
   "id": "1138a86c",
   "metadata": {},
   "source": [
    "## Uji Hipotesis"
   ]
  },
  {
   "cell_type": "markdown",
   "id": "00e48c71",
   "metadata": {
    "ExecuteTime": {
     "end_time": "2022-04-10T15:01:08.266803Z",
     "start_time": "2022-04-10T15:01:08.248Z"
    },
    "heading_collapsed": true
   },
   "source": [
    "### Load Data"
   ]
  },
  {
   "cell_type": "raw",
   "id": "5f60c6d8",
   "metadata": {
    "ExecuteTime": {
     "end_time": "2022-04-10T16:16:26.435678Z",
     "start_time": "2022-04-10T16:16:13.097Z"
    },
    "hidden": true
   },
   "source": [
    "# using url github\n",
    "\n",
    "url <- \"https://raw.githubusercontent.com/rii92/tugas-APG/main/11%20maret%202022/College_Test.csv\"\n",
    "data <- read.csv(url)\n",
    "data"
   ]
  },
  {
   "cell_type": "code",
   "execution_count": 26,
   "id": "4dd7e786",
   "metadata": {
    "ExecuteTime": {
     "end_time": "2022-04-10T16:49:52.064640Z",
     "start_time": "2022-04-10T16:49:45.284Z"
    },
    "hidden": true,
    "scrolled": true
   },
   "outputs": [
    {
     "data": {
      "text/html": [
       "<table class=\"dataframe\">\n",
       "<caption>A data.frame: 11 × 5</caption>\n",
       "<thead>\n",
       "\t<tr><th scope=col>y1</th><th scope=col>y2</th><th scope=col>y3</th><th scope=col>y4</th><th scope=col>y5</th></tr>\n",
       "\t<tr><th scope=col>&lt;dbl&gt;</th><th scope=col>&lt;dbl&gt;</th><th scope=col>&lt;dbl&gt;</th><th scope=col>&lt;dbl&gt;</th><th scope=col>&lt;dbl&gt;</th></tr>\n",
       "</thead>\n",
       "<tbody>\n",
       "\t<tr><td>51</td><td>36</td><td>50</td><td>35</td><td>42</td></tr>\n",
       "\t<tr><td>27</td><td>20</td><td>26</td><td>17</td><td>27</td></tr>\n",
       "\t<tr><td>37</td><td>22</td><td>41</td><td>37</td><td>30</td></tr>\n",
       "\t<tr><td>42</td><td>36</td><td>32</td><td>34</td><td>27</td></tr>\n",
       "\t<tr><td>27</td><td>18</td><td>33</td><td>14</td><td>29</td></tr>\n",
       "\t<tr><td>43</td><td>32</td><td>43</td><td>35</td><td>40</td></tr>\n",
       "\t<tr><td>41</td><td>22</td><td>36</td><td>25</td><td>38</td></tr>\n",
       "\t<tr><td>38</td><td>21</td><td>31</td><td>20</td><td>16</td></tr>\n",
       "\t<tr><td>36</td><td>23</td><td>27</td><td>25</td><td>28</td></tr>\n",
       "\t<tr><td>26</td><td>31</td><td>31</td><td>32</td><td>36</td></tr>\n",
       "\t<tr><td>29</td><td>20</td><td>25</td><td>26</td><td>25</td></tr>\n",
       "</tbody>\n",
       "</table>\n"
      ],
      "text/latex": [
       "A data.frame: 11 × 5\n",
       "\\begin{tabular}{lllll}\n",
       " y1 & y2 & y3 & y4 & y5\\\\\n",
       " <dbl> & <dbl> & <dbl> & <dbl> & <dbl>\\\\\n",
       "\\hline\n",
       "\t 51 & 36 & 50 & 35 & 42\\\\\n",
       "\t 27 & 20 & 26 & 17 & 27\\\\\n",
       "\t 37 & 22 & 41 & 37 & 30\\\\\n",
       "\t 42 & 36 & 32 & 34 & 27\\\\\n",
       "\t 27 & 18 & 33 & 14 & 29\\\\\n",
       "\t 43 & 32 & 43 & 35 & 40\\\\\n",
       "\t 41 & 22 & 36 & 25 & 38\\\\\n",
       "\t 38 & 21 & 31 & 20 & 16\\\\\n",
       "\t 36 & 23 & 27 & 25 & 28\\\\\n",
       "\t 26 & 31 & 31 & 32 & 36\\\\\n",
       "\t 29 & 20 & 25 & 26 & 25\\\\\n",
       "\\end{tabular}\n"
      ],
      "text/markdown": [
       "\n",
       "A data.frame: 11 × 5\n",
       "\n",
       "| y1 &lt;dbl&gt; | y2 &lt;dbl&gt; | y3 &lt;dbl&gt; | y4 &lt;dbl&gt; | y5 &lt;dbl&gt; |\n",
       "|---|---|---|---|---|\n",
       "| 51 | 36 | 50 | 35 | 42 |\n",
       "| 27 | 20 | 26 | 17 | 27 |\n",
       "| 37 | 22 | 41 | 37 | 30 |\n",
       "| 42 | 36 | 32 | 34 | 27 |\n",
       "| 27 | 18 | 33 | 14 | 29 |\n",
       "| 43 | 32 | 43 | 35 | 40 |\n",
       "| 41 | 22 | 36 | 25 | 38 |\n",
       "| 38 | 21 | 31 | 20 | 16 |\n",
       "| 36 | 23 | 27 | 25 | 28 |\n",
       "| 26 | 31 | 31 | 32 | 36 |\n",
       "| 29 | 20 | 25 | 26 | 25 |\n",
       "\n"
      ],
      "text/plain": [
       "   y1 y2 y3 y4 y5\n",
       "1  51 36 50 35 42\n",
       "2  27 20 26 17 27\n",
       "3  37 22 41 37 30\n",
       "4  42 36 32 34 27\n",
       "5  27 18 33 14 29\n",
       "6  43 32 43 35 40\n",
       "7  41 22 36 25 38\n",
       "8  38 21 31 20 16\n",
       "9  36 23 27 25 28\n",
       "10 26 31 31 32 36\n",
       "11 29 20 25 26 25"
      ]
     },
     "metadata": {},
     "output_type": "display_data"
    }
   ],
   "source": [
    "# manually 1.0\n",
    "\n",
    "y1 <- c(51, 27, 37, 42, 27, 43, 41, 38, 36, 26, 29)\n",
    "y2 <- c(36, 20, 22, 36, 18, 32, 22, 21, 23, 31, 20)\n",
    "y3 <- c(50, 26, 41, 32, 33, 43, 36, 31, 27, 31, 25)\n",
    "y4 <- c(35, 17, 37, 34, 14, 35, 25, 20, 25, 32, 26)\n",
    "y5 <- c(42, 27, 30, 27, 29, 40, 38, 16, 28, 36, 25)\n",
    "\n",
    "data <- data.frame(y1, y2, y3, y4, y5)\n",
    "data"
   ]
  },
  {
   "cell_type": "raw",
   "id": "5bb65193",
   "metadata": {
    "hidden": true
   },
   "source": [
    "# using read_excel\n",
    "\n",
    "data <- read_excel(\"3SD1.xlsx\", sheet=1)\n",
    "data <- as.data.frame(data)"
   ]
  },
  {
   "cell_type": "markdown",
   "id": "c42384c4",
   "metadata": {
    "heading_collapsed": true
   },
   "source": [
    "### Hipotesis"
   ]
  },
  {
   "cell_type": "markdown",
   "id": "fa06e6db",
   "metadata": {
    "hidden": true
   },
   "source": [
    "$$\n",
    "H_{0} : \\mu' = (30, 25, 40, 25, 30) \\\\\n",
    "H_{1} : \\mu' \\neq (30, 25, 40, 25, 30) \\\\\n",
    "\\alpha = 0.05\n",
    "$$"
   ]
  },
  {
   "cell_type": "markdown",
   "id": "bfd86ef0",
   "metadata": {
    "heading_collapsed": true
   },
   "source": [
    "### Statistik Uji"
   ]
  },
  {
   "cell_type": "markdown",
   "id": "449e8305",
   "metadata": {
    "hidden": true
   },
   "source": [
    "$$\n",
    "T^2 = n(\\bar{X}-\\mu_0)'S^{-1}(\\bar{X}-\\mu_0)\n",
    "$$\n",
    "dimana\n",
    "$$\n",
    "T^2 \\sim \\frac{(n-1)p}{n-p}F(p, n-p)\n",
    "$$"
   ]
  },
  {
   "cell_type": "markdown",
   "id": "6dca60d3",
   "metadata": {
    "hidden": true
   },
   "source": [
    "Tolak $H_0$ apabila\n",
    "\n",
    "$$\n",
    "T^2 > \\frac{(n-1)p}{n-p}F(p, n-p);\\alpha = 36.56145\n",
    "$$"
   ]
  },
  {
   "cell_type": "markdown",
   "id": "1c58a2c6",
   "metadata": {
    "hidden": true
   },
   "source": [
    "atau\n",
    "\n",
    "$$\n",
    "p-value = P[T^2 >T^2_{obs}] < \\alpha \n",
    "$$"
   ]
  },
  {
   "cell_type": "markdown",
   "id": "5d8f0368",
   "metadata": {
    "heading_collapsed": true
   },
   "source": [
    "### Uji Asumsi Multivariat Normal"
   ]
  },
  {
   "cell_type": "code",
   "execution_count": 27,
   "id": "d496b218",
   "metadata": {
    "ExecuteTime": {
     "end_time": "2022-04-10T16:49:52.463614Z",
     "start_time": "2022-04-10T16:49:45.296Z"
    },
    "hidden": true
   },
   "outputs": [
    {
     "data": {
      "text/html": [
       "<table class=\"dataframe\">\n",
       "<caption>A data.frame: 8 × 3</caption>\n",
       "<thead>\n",
       "\t<tr><th scope=col>Test</th><th scope=col>Statistic</th><th scope=col>P_Value</th></tr>\n",
       "\t<tr><th scope=col>&lt;chr&gt;</th><th scope=col>&lt;chr&gt;</th><th scope=col>&lt;chr&gt;</th></tr>\n",
       "</thead>\n",
       "<tbody>\n",
       "\t<tr><td>Mardia Skewness </td><td>33.0537767741313 </td><td>0.562343505621464  </td></tr>\n",
       "\t<tr><td>Mardia Kurtosis </td><td>-1.17501697445706</td><td>0.239987924813936  </td></tr>\n",
       "\t<tr><td>MVN             </td><td>NA               </td><td>NA                 </td></tr>\n",
       "\t<tr><td>Henze-Zirkler   </td><td>0.755710518115649</td><td>0.349135306055726  </td></tr>\n",
       "\t<tr><td>Royston         </td><td>8.11951719431442 </td><td>0.17381983003797   </td></tr>\n",
       "\t<tr><td>Doornik-Hansen  </td><td>7.34759588802618 </td><td>0.692272555425496  </td></tr>\n",
       "\t<tr><td>E-statistic     </td><td>1.04843793191075 </td><td>0.642              </td></tr>\n",
       "\t<tr><td>Mvt Shapiro-Wilk</td><td>0.728025201334773</td><td>0.00107625976455569</td></tr>\n",
       "</tbody>\n",
       "</table>\n"
      ],
      "text/latex": [
       "A data.frame: 8 × 3\n",
       "\\begin{tabular}{lll}\n",
       " Test & Statistic & P\\_Value\\\\\n",
       " <chr> & <chr> & <chr>\\\\\n",
       "\\hline\n",
       "\t Mardia Skewness  & 33.0537767741313  & 0.562343505621464  \\\\\n",
       "\t Mardia Kurtosis  & -1.17501697445706 & 0.239987924813936  \\\\\n",
       "\t MVN              & NA                & NA                 \\\\\n",
       "\t Henze-Zirkler    & 0.755710518115649 & 0.349135306055726  \\\\\n",
       "\t Royston          & 8.11951719431442  & 0.17381983003797   \\\\\n",
       "\t Doornik-Hansen   & 7.34759588802618  & 0.692272555425496  \\\\\n",
       "\t E-statistic      & 1.04843793191075  & 0.642              \\\\\n",
       "\t Mvt Shapiro-Wilk & 0.728025201334773 & 0.00107625976455569\\\\\n",
       "\\end{tabular}\n"
      ],
      "text/markdown": [
       "\n",
       "A data.frame: 8 × 3\n",
       "\n",
       "| Test &lt;chr&gt; | Statistic &lt;chr&gt; | P_Value &lt;chr&gt; |\n",
       "|---|---|---|\n",
       "| Mardia Skewness  | 33.0537767741313  | 0.562343505621464   |\n",
       "| Mardia Kurtosis  | -1.17501697445706 | 0.239987924813936   |\n",
       "| MVN              | NA                | NA                  |\n",
       "| Henze-Zirkler    | 0.755710518115649 | 0.349135306055726   |\n",
       "| Royston          | 8.11951719431442  | 0.17381983003797    |\n",
       "| Doornik-Hansen   | 7.34759588802618  | 0.692272555425496   |\n",
       "| E-statistic      | 1.04843793191075  | 0.642               |\n",
       "| Mvt Shapiro-Wilk | 0.728025201334773 | 0.00107625976455569 |\n",
       "\n"
      ],
      "text/plain": [
       "  Test             Statistic         P_Value            \n",
       "1 Mardia Skewness  33.0537767741313  0.562343505621464  \n",
       "2 Mardia Kurtosis  -1.17501697445706 0.239987924813936  \n",
       "3 MVN              NA                NA                 \n",
       "4 Henze-Zirkler    0.755710518115649 0.349135306055726  \n",
       "5 Royston          8.11951719431442  0.17381983003797   \n",
       "6 Doornik-Hansen   7.34759588802618  0.692272555425496  \n",
       "7 E-statistic      1.04843793191075  0.642              \n",
       "8 Mvt Shapiro-Wilk 0.728025201334773 0.00107625976455569"
      ]
     },
     "metadata": {},
     "output_type": "display_data"
    }
   ],
   "source": [
    "# function to do multivariate normality test\n",
    "mvtNormalityTest <- function(X){\n",
    "  \n",
    "  # list of test that will be performed\n",
    "  testList <- c(\"mardia\", \"hz\", \"royston\", \"dh\", \"energy\")\n",
    "  \n",
    "  # initialize result dataframe\n",
    "  result <- c()\n",
    "  \n",
    "  for(i in 1 : length(testList)){\n",
    "    tempMvnObj <- mvn(X, mvnTest=testList[i])\n",
    "    tempResult <- tempMvnObj[[1]] \n",
    "    \n",
    "    # drop third column\n",
    "    if(i == 4){\n",
    "      tempResult <- tempResult[ , -3]\n",
    "    }\n",
    "    \n",
    "    # drop \"result\" column\n",
    "    tempResult <- tempResult[, -4]\n",
    "    \n",
    "    # convert to numeric\n",
    "    tempResult[2] <- as.numeric(as.character(tempResult[[2]]))\n",
    "    tempResult[3] <- as.numeric(as.character(tempResult[[3]]))\n",
    "    \n",
    "    colnames(tempResult) <- c(\"Test\", \"Statistic\", \"P_Value\")\n",
    "    result <- rbind(result, tempResult)\n",
    "  }\n",
    "  \n",
    "  # also do shapiro test\n",
    "  tempResult <- c(\"Mvt Shapiro-Wilk\", mshapiro.test(X)$statistic\n",
    "                  , mshapiro.test(X)$p.value)\n",
    "  \n",
    "  result <- rbind(result, tempResult)\n",
    "  return(result)\n",
    "} \n",
    "\n",
    "mvtNormalityTest(data)"
   ]
  },
  {
   "cell_type": "raw",
   "id": "eded9caf",
   "metadata": {
    "hidden": true
   },
   "source": [
    "Berdasarkan hasil pengujian diatas, terlihat bahwa untuk tingkat signifikansi 5%, uji Mardia, Henze-Zirkler, Royston, Doornik-Hansen, dan E-Statistic semuany memberikan kesimpulan yang sama, yaitu tidak terdapat adanya penyimpangan dari distribusi multivariat normal dari data yang digunakan. Dengan demikian asumsi multivariat normal telah terpenuhi dan analisis dapat dilanjutkan."
   ]
  },
  {
   "cell_type": "markdown",
   "id": "67f0ec33",
   "metadata": {
    "heading_collapsed": true
   },
   "source": [
    "### Uji Hotelling's T"
   ]
  },
  {
   "cell_type": "code",
   "execution_count": 28,
   "id": "05dbdbb9",
   "metadata": {
    "ExecuteTime": {
     "end_time": "2022-04-10T16:49:52.518656Z",
     "start_time": "2022-04-10T16:49:45.309Z"
    },
    "hidden": true
   },
   "outputs": [
    {
     "data": {
      "text/plain": [
       "\n",
       "\n",
       "| Hotelling_Stat| alpha| Critical_Value| df1| df2|   P_Value|\n",
       "|--------------:|-----:|--------------:|---:|---:|---------:|\n",
       "|        85.3327|  0.05|       36.56145|   5|   6| 0.0066995|"
      ]
     },
     "metadata": {},
     "output_type": "display_data"
    }
   ],
   "source": [
    "# function to do Hotelling's T test of mean vector\n",
    "\n",
    "T.test <- function(X, mu0, alpha){\n",
    "  \n",
    "  X <- as.matrix(X)\n",
    "  \n",
    "  # get number of obs and number of var\n",
    "  n <- nrow(X)\n",
    "  p <- ncol(X)\n",
    "  \n",
    "  # dof\n",
    "  df1 <- p\n",
    "  df2 <- n-p\n",
    "  \n",
    "  # check if df2 < 1L\n",
    "  if(df2 < 1L) stop(\"Need nrow(X) > ncol(X)\")\n",
    "  \n",
    "  # get sample mean vector\n",
    "  Xbar <- colMeans(X)\n",
    "  \n",
    "  # get covariance matrix\n",
    "  S <- cov(X)\n",
    "  \n",
    "  # get T-statistic\n",
    "  T_statistic <- n*t(Xbar-mu0)%*%solve(S)%*%(Xbar-mu0)\n",
    "  \n",
    "  # get p_value\n",
    "  p_val <- pf(T_statistic/((n-1)*p/(n-p)), df1, df2, lower.tail = FALSE)\n",
    "  \n",
    "  # get critical value\n",
    "  critValue <- (n-1)*p/(n-p)*qf(alpha, df1, df2, lower.tail=F)\n",
    "  \n",
    "  # output table\n",
    "  tabel <- data.frame(Hotelling_Stat = T_statistic, alpha = alpha, Critical_Value = critValue,\n",
    "                      df1 = df1, df2 = df2, P_Value = p_val\n",
    "  )\n",
    "  \n",
    "  return(tabel)\n",
    "}\n",
    "\n",
    "kable(T.test(data, c(30, 25, 40, 25, 30), 0.05))"
   ]
  },
  {
   "cell_type": "markdown",
   "id": "d8ede941",
   "metadata": {
    "hidden": true
   },
   "source": [
    "Berdasarkan hasil pengujian Hotelling's T diatas, terlihat bahwa $T^2_{obs} =85.3 > 36.5$ , atau $p-value = 0.00669 < \\alpha =0.05$, sehingga tolak $H_0$ . Dengan demikian untuk tingkat signifikansi 5% *true mean vector* memiliki perbedaan yang signifikan terhadap *hypothesized mean vector*."
   ]
  },
  {
   "cell_type": "markdown",
   "id": "66e2a2e7",
   "metadata": {
    "heading_collapsed": true
   },
   "source": [
    "### Uji setiap Variabel secara Parsial"
   ]
  },
  {
   "cell_type": "code",
   "execution_count": 29,
   "id": "6f85b6d4",
   "metadata": {
    "ExecuteTime": {
     "end_time": "2022-04-10T16:49:52.561621Z",
     "start_time": "2022-04-10T16:49:45.316Z"
    },
    "hidden": true
   },
   "outputs": [
    {
     "data": {
      "text/plain": [
       "\n",
       "\n",
       "|Variable |xbar             |mu0 |p-value            |\n",
       "|:--------|:----------------|:---|:------------------|\n",
       "|y1       |36.0909090909091 |30  |0.0312370094540684 |\n",
       "|y2       |25.5454545454545 |25  |0.795252321811278  |\n",
       "|y3       |34.0909090909091 |40  |0.030613223170088  |\n",
       "|y4       |27.2727272727273 |25  |0.364001465726463  |\n",
       "|y5       |30.7272727272727 |30  |0.758404311499598  |"
      ]
     },
     "metadata": {},
     "output_type": "display_data"
    }
   ],
   "source": [
    "mu0 <- c(30, 25, 40, 25, 30)\n",
    "\n",
    "partialTest <- function(X, mu0){\n",
    "  \n",
    "  result <- c()\n",
    "  \n",
    "  for(i in 1 : ncol(X)){\n",
    "    tempObj <- t.test(X[ , i], mu = mu0[i], alternative=\"two.sided\")\n",
    "    tempResult <- c(colnames(X)[i], mean(X[ , i]), mu0[i], tempObj$p.value)\n",
    "    result <- rbind(result, tempResult)\n",
    "  }\n",
    "  \n",
    "  result <- as.data.frame(result)\n",
    "  rownames(result) <- NULL\n",
    "  colnames(result) <- c(\"Variable\", \"xbar\", \"mu0\", \"p-value\")\n",
    "  return(result)\n",
    "}\n",
    "\n",
    "kable(partialTest(data, mu0))"
   ]
  },
  {
   "cell_type": "markdown",
   "id": "8a4606d5",
   "metadata": {
    "hidden": true
   },
   "source": [
    "Berdasarkan hasil pengujian diatas, terlihat bahwa untuk tingkat signifikansi 5%, terdapat perbedaan yang signifikan antara nilai rata-rata sebenarnya dari variabel y1 dan y3 terhadap nilai rata-rata yang dihipotesiskan, akan tetapi perbedaan ini tidak signifikan pada variabel-variabel lainnya."
   ]
  },
  {
   "cell_type": "markdown",
   "id": "e9bf92ef",
   "metadata": {
    "ExecuteTime": {
     "end_time": "2022-04-10T15:01:38.635710Z",
     "start_time": "2022-04-10T15:01:38.616Z"
    }
   },
   "source": [
    "## Uji Hipotesis"
   ]
  },
  {
   "cell_type": "markdown",
   "id": "c6343f13",
   "metadata": {
    "heading_collapsed": true
   },
   "source": [
    "### Load Data"
   ]
  },
  {
   "cell_type": "code",
   "execution_count": 30,
   "id": "4bd45fc5",
   "metadata": {
    "ExecuteTime": {
     "end_time": "2022-04-10T16:49:52.621584Z",
     "start_time": "2022-04-10T16:49:45.320Z"
    },
    "hidden": true,
    "scrolled": true
   },
   "outputs": [
    {
     "data": {
      "text/html": [
       "<table class=\"dataframe\">\n",
       "<caption>A data.frame: 87 × 3</caption>\n",
       "<thead>\n",
       "\t<tr><th scope=col>X1</th><th scope=col>X2</th><th scope=col>X3</th></tr>\n",
       "\t<tr><th scope=col>&lt;dbl&gt;</th><th scope=col>&lt;dbl&gt;</th><th scope=col>&lt;dbl&gt;</th></tr>\n",
       "</thead>\n",
       "<tbody>\n",
       "\t<tr><td>468</td><td>41</td><td>26</td></tr>\n",
       "\t<tr><td>428</td><td>39</td><td>26</td></tr>\n",
       "\t<tr><td>514</td><td>53</td><td>21</td></tr>\n",
       "\t<tr><td>547</td><td>67</td><td>33</td></tr>\n",
       "\t<tr><td>614</td><td>61</td><td>27</td></tr>\n",
       "\t<tr><td>501</td><td>67</td><td>29</td></tr>\n",
       "\t<tr><td>421</td><td>46</td><td>22</td></tr>\n",
       "\t<tr><td>527</td><td>50</td><td>23</td></tr>\n",
       "\t<tr><td>527</td><td>55</td><td>19</td></tr>\n",
       "\t<tr><td>620</td><td>72</td><td>32</td></tr>\n",
       "\t<tr><td>587</td><td>63</td><td>31</td></tr>\n",
       "\t<tr><td>541</td><td>59</td><td>19</td></tr>\n",
       "\t<tr><td>561</td><td>53</td><td>26</td></tr>\n",
       "\t<tr><td>468</td><td>62</td><td>20</td></tr>\n",
       "\t<tr><td>614</td><td>65</td><td>28</td></tr>\n",
       "\t<tr><td>527</td><td>48</td><td>21</td></tr>\n",
       "\t<tr><td>507</td><td>32</td><td>27</td></tr>\n",
       "\t<tr><td>580</td><td>64</td><td>21</td></tr>\n",
       "\t<tr><td>507</td><td>59</td><td>21</td></tr>\n",
       "\t<tr><td>521</td><td>54</td><td>23</td></tr>\n",
       "\t<tr><td>574</td><td>52</td><td>25</td></tr>\n",
       "\t<tr><td>587</td><td>64</td><td>31</td></tr>\n",
       "\t<tr><td>488</td><td>51</td><td>27</td></tr>\n",
       "\t<tr><td>488</td><td>62</td><td>18</td></tr>\n",
       "\t<tr><td>587</td><td>56</td><td>26</td></tr>\n",
       "\t<tr><td>421</td><td>38</td><td>16</td></tr>\n",
       "\t<tr><td>481</td><td>52</td><td>26</td></tr>\n",
       "\t<tr><td>428</td><td>40</td><td>19</td></tr>\n",
       "\t<tr><td>640</td><td>65</td><td>25</td></tr>\n",
       "\t<tr><td>574</td><td>61</td><td>28</td></tr>\n",
       "\t<tr><td>⋮</td><td>⋮</td><td>⋮</td></tr>\n",
       "\t<tr><td>408</td><td>51</td><td>19</td></tr>\n",
       "\t<tr><td>441</td><td>35</td><td>22</td></tr>\n",
       "\t<tr><td>435</td><td>60</td><td>20</td></tr>\n",
       "\t<tr><td>501</td><td>54</td><td>21</td></tr>\n",
       "\t<tr><td>507</td><td>42</td><td>24</td></tr>\n",
       "\t<tr><td>620</td><td>71</td><td>36</td></tr>\n",
       "\t<tr><td>415</td><td>52</td><td>20</td></tr>\n",
       "\t<tr><td>554</td><td>69</td><td>30</td></tr>\n",
       "\t<tr><td>348</td><td>28</td><td>18</td></tr>\n",
       "\t<tr><td>468</td><td>49</td><td>25</td></tr>\n",
       "\t<tr><td>507</td><td>54</td><td>26</td></tr>\n",
       "\t<tr><td>527</td><td>47</td><td>31</td></tr>\n",
       "\t<tr><td>527</td><td>47</td><td>26</td></tr>\n",
       "\t<tr><td>435</td><td>50</td><td>28</td></tr>\n",
       "\t<tr><td>660</td><td>70</td><td>25</td></tr>\n",
       "\t<tr><td>733</td><td>73</td><td>33</td></tr>\n",
       "\t<tr><td>507</td><td>45</td><td>28</td></tr>\n",
       "\t<tr><td>527</td><td>62</td><td>29</td></tr>\n",
       "\t<tr><td>428</td><td>37</td><td>19</td></tr>\n",
       "\t<tr><td>481</td><td>48</td><td>23</td></tr>\n",
       "\t<tr><td>507</td><td>61</td><td>19</td></tr>\n",
       "\t<tr><td>527</td><td>66</td><td>23</td></tr>\n",
       "\t<tr><td>488</td><td>41</td><td>28</td></tr>\n",
       "\t<tr><td>607</td><td>69</td><td>28</td></tr>\n",
       "\t<tr><td>561</td><td>59</td><td>34</td></tr>\n",
       "\t<tr><td>614</td><td>70</td><td>23</td></tr>\n",
       "\t<tr><td>527</td><td>49</td><td>30</td></tr>\n",
       "\t<tr><td>474</td><td>41</td><td>16</td></tr>\n",
       "\t<tr><td>441</td><td>47</td><td>26</td></tr>\n",
       "\t<tr><td>607</td><td>67</td><td>32</td></tr>\n",
       "</tbody>\n",
       "</table>\n"
      ],
      "text/latex": [
       "A data.frame: 87 × 3\n",
       "\\begin{tabular}{lll}\n",
       " X1 & X2 & X3\\\\\n",
       " <dbl> & <dbl> & <dbl>\\\\\n",
       "\\hline\n",
       "\t 468 & 41 & 26\\\\\n",
       "\t 428 & 39 & 26\\\\\n",
       "\t 514 & 53 & 21\\\\\n",
       "\t 547 & 67 & 33\\\\\n",
       "\t 614 & 61 & 27\\\\\n",
       "\t 501 & 67 & 29\\\\\n",
       "\t 421 & 46 & 22\\\\\n",
       "\t 527 & 50 & 23\\\\\n",
       "\t 527 & 55 & 19\\\\\n",
       "\t 620 & 72 & 32\\\\\n",
       "\t 587 & 63 & 31\\\\\n",
       "\t 541 & 59 & 19\\\\\n",
       "\t 561 & 53 & 26\\\\\n",
       "\t 468 & 62 & 20\\\\\n",
       "\t 614 & 65 & 28\\\\\n",
       "\t 527 & 48 & 21\\\\\n",
       "\t 507 & 32 & 27\\\\\n",
       "\t 580 & 64 & 21\\\\\n",
       "\t 507 & 59 & 21\\\\\n",
       "\t 521 & 54 & 23\\\\\n",
       "\t 574 & 52 & 25\\\\\n",
       "\t 587 & 64 & 31\\\\\n",
       "\t 488 & 51 & 27\\\\\n",
       "\t 488 & 62 & 18\\\\\n",
       "\t 587 & 56 & 26\\\\\n",
       "\t 421 & 38 & 16\\\\\n",
       "\t 481 & 52 & 26\\\\\n",
       "\t 428 & 40 & 19\\\\\n",
       "\t 640 & 65 & 25\\\\\n",
       "\t 574 & 61 & 28\\\\\n",
       "\t ⋮ & ⋮ & ⋮\\\\\n",
       "\t 408 & 51 & 19\\\\\n",
       "\t 441 & 35 & 22\\\\\n",
       "\t 435 & 60 & 20\\\\\n",
       "\t 501 & 54 & 21\\\\\n",
       "\t 507 & 42 & 24\\\\\n",
       "\t 620 & 71 & 36\\\\\n",
       "\t 415 & 52 & 20\\\\\n",
       "\t 554 & 69 & 30\\\\\n",
       "\t 348 & 28 & 18\\\\\n",
       "\t 468 & 49 & 25\\\\\n",
       "\t 507 & 54 & 26\\\\\n",
       "\t 527 & 47 & 31\\\\\n",
       "\t 527 & 47 & 26\\\\\n",
       "\t 435 & 50 & 28\\\\\n",
       "\t 660 & 70 & 25\\\\\n",
       "\t 733 & 73 & 33\\\\\n",
       "\t 507 & 45 & 28\\\\\n",
       "\t 527 & 62 & 29\\\\\n",
       "\t 428 & 37 & 19\\\\\n",
       "\t 481 & 48 & 23\\\\\n",
       "\t 507 & 61 & 19\\\\\n",
       "\t 527 & 66 & 23\\\\\n",
       "\t 488 & 41 & 28\\\\\n",
       "\t 607 & 69 & 28\\\\\n",
       "\t 561 & 59 & 34\\\\\n",
       "\t 614 & 70 & 23\\\\\n",
       "\t 527 & 49 & 30\\\\\n",
       "\t 474 & 41 & 16\\\\\n",
       "\t 441 & 47 & 26\\\\\n",
       "\t 607 & 67 & 32\\\\\n",
       "\\end{tabular}\n"
      ],
      "text/markdown": [
       "\n",
       "A data.frame: 87 × 3\n",
       "\n",
       "| X1 &lt;dbl&gt; | X2 &lt;dbl&gt; | X3 &lt;dbl&gt; |\n",
       "|---|---|---|\n",
       "| 468 | 41 | 26 |\n",
       "| 428 | 39 | 26 |\n",
       "| 514 | 53 | 21 |\n",
       "| 547 | 67 | 33 |\n",
       "| 614 | 61 | 27 |\n",
       "| 501 | 67 | 29 |\n",
       "| 421 | 46 | 22 |\n",
       "| 527 | 50 | 23 |\n",
       "| 527 | 55 | 19 |\n",
       "| 620 | 72 | 32 |\n",
       "| 587 | 63 | 31 |\n",
       "| 541 | 59 | 19 |\n",
       "| 561 | 53 | 26 |\n",
       "| 468 | 62 | 20 |\n",
       "| 614 | 65 | 28 |\n",
       "| 527 | 48 | 21 |\n",
       "| 507 | 32 | 27 |\n",
       "| 580 | 64 | 21 |\n",
       "| 507 | 59 | 21 |\n",
       "| 521 | 54 | 23 |\n",
       "| 574 | 52 | 25 |\n",
       "| 587 | 64 | 31 |\n",
       "| 488 | 51 | 27 |\n",
       "| 488 | 62 | 18 |\n",
       "| 587 | 56 | 26 |\n",
       "| 421 | 38 | 16 |\n",
       "| 481 | 52 | 26 |\n",
       "| 428 | 40 | 19 |\n",
       "| 640 | 65 | 25 |\n",
       "| 574 | 61 | 28 |\n",
       "| ⋮ | ⋮ | ⋮ |\n",
       "| 408 | 51 | 19 |\n",
       "| 441 | 35 | 22 |\n",
       "| 435 | 60 | 20 |\n",
       "| 501 | 54 | 21 |\n",
       "| 507 | 42 | 24 |\n",
       "| 620 | 71 | 36 |\n",
       "| 415 | 52 | 20 |\n",
       "| 554 | 69 | 30 |\n",
       "| 348 | 28 | 18 |\n",
       "| 468 | 49 | 25 |\n",
       "| 507 | 54 | 26 |\n",
       "| 527 | 47 | 31 |\n",
       "| 527 | 47 | 26 |\n",
       "| 435 | 50 | 28 |\n",
       "| 660 | 70 | 25 |\n",
       "| 733 | 73 | 33 |\n",
       "| 507 | 45 | 28 |\n",
       "| 527 | 62 | 29 |\n",
       "| 428 | 37 | 19 |\n",
       "| 481 | 48 | 23 |\n",
       "| 507 | 61 | 19 |\n",
       "| 527 | 66 | 23 |\n",
       "| 488 | 41 | 28 |\n",
       "| 607 | 69 | 28 |\n",
       "| 561 | 59 | 34 |\n",
       "| 614 | 70 | 23 |\n",
       "| 527 | 49 | 30 |\n",
       "| 474 | 41 | 16 |\n",
       "| 441 | 47 | 26 |\n",
       "| 607 | 67 | 32 |\n",
       "\n"
      ],
      "text/plain": [
       "   X1  X2 X3\n",
       "1  468 41 26\n",
       "2  428 39 26\n",
       "3  514 53 21\n",
       "4  547 67 33\n",
       "5  614 61 27\n",
       "6  501 67 29\n",
       "7  421 46 22\n",
       "8  527 50 23\n",
       "9  527 55 19\n",
       "10 620 72 32\n",
       "11 587 63 31\n",
       "12 541 59 19\n",
       "13 561 53 26\n",
       "14 468 62 20\n",
       "15 614 65 28\n",
       "16 527 48 21\n",
       "17 507 32 27\n",
       "18 580 64 21\n",
       "19 507 59 21\n",
       "20 521 54 23\n",
       "21 574 52 25\n",
       "22 587 64 31\n",
       "23 488 51 27\n",
       "24 488 62 18\n",
       "25 587 56 26\n",
       "26 421 38 16\n",
       "27 481 52 26\n",
       "28 428 40 19\n",
       "29 640 65 25\n",
       "30 574 61 28\n",
       "<U+22EE>  <U+22EE> <U+22EE> <U+22EE>\n",
       "58 408 51 19\n",
       "59 441 35 22\n",
       "60 435 60 20\n",
       "61 501 54 21\n",
       "62 507 42 24\n",
       "63 620 71 36\n",
       "64 415 52 20\n",
       "65 554 69 30\n",
       "66 348 28 18\n",
       "67 468 49 25\n",
       "68 507 54 26\n",
       "69 527 47 31\n",
       "70 527 47 26\n",
       "71 435 50 28\n",
       "72 660 70 25\n",
       "73 733 73 33\n",
       "74 507 45 28\n",
       "75 527 62 29\n",
       "76 428 37 19\n",
       "77 481 48 23\n",
       "78 507 61 19\n",
       "79 527 66 23\n",
       "80 488 41 28\n",
       "81 607 69 28\n",
       "82 561 59 34\n",
       "83 614 70 23\n",
       "84 527 49 30\n",
       "85 474 41 16\n",
       "86 441 47 26\n",
       "87 607 67 32"
      ]
     },
     "metadata": {},
     "output_type": "display_data"
    }
   ],
   "source": [
    "# manually 1.0\n",
    "\n",
    "X1 <- c(468,428,514,547,614,501,421,527,527,620,587,541,561,468,614,527,507,580,507,521,574,587,488,488,587,421,481,428,640,574,547,580,494,554,647,507,454,427,521,468,587,507,574,507,494,541,362,408,594,501,687,633,647,647,614,633,448,408,441,435,501,507,620,415,554,348,468,507,527,527,435,660,733,507,527,428,481,507,527,488,607,561,614,527,474,441,607)\n",
    "X2 <- c(41,39,53,67,61,67,46,50,55,72,63,59,53,62,65,48,32,64,59,54,52,64,51,62,56,38,52,40,65,61,64,64,53,51,58,65,52,57,66,57,55,61,54,53,41,47,36,28,68,25,75,52,67,65,59,65,55,51,35,60,54,42,71,52,69,28,49,54,47,47,50,70,73,45,62,37,48,61,66,41,69,59,70,49,41,47,67)\n",
    "X3 <- c(26,26,21,33,27,29,22,23,19,32,31,19,26,20,28,21,27,21,21,23,25,31,27,18,26,16,26,19,25,28,27,28,26,21,23,23,28,21,26,14,30,31,31,23,24,25,17,17,23,26,33,31,29,34,25,28,24,19,22,20,21,24,36,20,30,18,25,26,31,26,28,25,33,28,29,19,23,19,23,28,28,34,23,30,16,26,32)\n",
    "\n",
    "data <- data.frame(X1, X2, X3)\n",
    "data"
   ]
  },
  {
   "cell_type": "markdown",
   "id": "a29414cb",
   "metadata": {
    "heading_collapsed": true
   },
   "source": [
    "### Hipotesis"
   ]
  },
  {
   "cell_type": "markdown",
   "id": "43c6ec7d",
   "metadata": {
    "ExecuteTime": {
     "end_time": "2022-04-10T16:43:12.552802Z",
     "start_time": "2022-04-10T16:43:12.535Z"
    },
    "hidden": true
   },
   "source": [
    "$$\n",
    "H_{0} : \\mu' = (500, 50, 30) \\\\\n",
    "H_{1} : \\mu' \\neq (500, 50, 30) \\\\\n",
    "\\alpha = 0.05\n",
    "$$"
   ]
  },
  {
   "cell_type": "markdown",
   "id": "e44e758e",
   "metadata": {
    "heading_collapsed": true
   },
   "source": [
    "### Statistik Uji"
   ]
  },
  {
   "cell_type": "markdown",
   "id": "de1611af",
   "metadata": {
    "hidden": true
   },
   "source": [
    "$$\n",
    "T^2 = n(\\bar{X}-\\mu_0)'S^{-1}(\\bar{X}-\\mu_0)\n",
    "$$\n",
    "dimana\n",
    "$$\n",
    "T^2 \\sim \\frac{(n-1)p}{n-p}F(p, n-p)\n",
    "$$"
   ]
  },
  {
   "cell_type": "markdown",
   "id": "46c16ea6",
   "metadata": {
    "ExecuteTime": {
     "end_time": "2022-04-10T16:37:46.487948Z",
     "start_time": "2022-04-10T16:37:46.472Z"
    },
    "hidden": true
   },
   "source": [
    "Tolak $H_0$ apabila\n",
    "\n",
    "$$\n",
    "T^2 > \\frac{(n-1)p}{n-p}F(p, n-p);\\alpha \n",
    "$$"
   ]
  },
  {
   "cell_type": "markdown",
   "id": "353a3fc2",
   "metadata": {
    "ExecuteTime": {
     "end_time": "2022-04-10T16:37:59.586941Z",
     "start_time": "2022-04-10T16:37:59.572Z"
    },
    "hidden": true
   },
   "source": [
    "atau\n",
    "\n",
    "$$\n",
    "p-value = P[T^2 >T^2_{obs}] < \\alpha \n",
    "$$"
   ]
  },
  {
   "cell_type": "code",
   "execution_count": 31,
   "id": "21dd8c00",
   "metadata": {
    "ExecuteTime": {
     "end_time": "2022-04-10T16:49:52.650546Z",
     "start_time": "2022-04-10T16:49:45.327Z"
    },
    "hidden": true
   },
   "outputs": [
    {
     "data": {
      "text/plain": [
       "\n",
       "\n",
       "| Hotelling_Stat| alpha| Critical_Value| df1| df2| P_Value|\n",
       "|--------------:|-----:|--------------:|---:|---:|-------:|\n",
       "|       223.3102|  0.05|       8.333483|   3|  84|       0|"
      ]
     },
     "metadata": {},
     "output_type": "display_data"
    }
   ],
   "source": [
    "mu0 <- c(500, 50, 30)\n",
    "kable(T.test(data, mu0, 0.05))"
   ]
  },
  {
   "cell_type": "markdown",
   "id": "78009ce9",
   "metadata": {
    "hidden": true
   },
   "source": [
    "Terlihat bahwa untuk tingkat signifikansi 5% terdapat perbedaan yang signifikan antara nilai vektor rata-rata yang sebenarnya dan nilai vektor rata-rata yang dihipotesiskan."
   ]
  },
  {
   "cell_type": "markdown",
   "id": "54160231",
   "metadata": {
    "ExecuteTime": {
     "end_time": "2022-04-10T16:44:28.167396Z",
     "start_time": "2022-04-10T16:44:28.143Z"
    }
   },
   "source": [
    "### 95% Confidence Ellipsoid"
   ]
  },
  {
   "cell_type": "code",
   "execution_count": 32,
   "id": "a3503f24",
   "metadata": {
    "ExecuteTime": {
     "end_time": "2022-04-10T16:49:52.681821Z",
     "start_time": "2022-04-10T16:49:45.331Z"
    }
   },
   "outputs": [
    {
     "ename": "ERROR",
     "evalue": "Error in eval(expr, envir, enclos): object 'idk' not found\n",
     "output_type": "error",
     "traceback": [
      "Error in eval(expr, envir, enclos): object 'idk' not found\nTraceback:\n"
     ]
    }
   ],
   "source": [
    "idk"
   ]
  },
  {
   "cell_type": "markdown",
   "id": "bc5fbeab",
   "metadata": {},
   "source": [
    "Terlihat bahwa $\\mu_0$ berada pada 95% *ellipsoid*, dalam artian lain gagal tolak $H_0$."
   ]
  },
  {
   "cell_type": "markdown",
   "id": "669a4ec2",
   "metadata": {},
   "source": [
    "### Simultaneous 95% CI"
   ]
  },
  {
   "cell_type": "markdown",
   "id": "e61c605e",
   "metadata": {
    "heading_collapsed": true
   },
   "source": [
    "#### Define function"
   ]
  },
  {
   "cell_type": "code",
   "execution_count": 34,
   "id": "ff42e53e",
   "metadata": {
    "ExecuteTime": {
     "end_time": "2022-04-10T16:52:55.554094Z",
     "start_time": "2022-04-10T16:52:55.531Z"
    },
    "hidden": true
   },
   "outputs": [],
   "source": [
    "t.univ <- function(X, alpha){\n",
    "\n",
    "  n <- nrow(X)\n",
    "  p <- ncol(X)\n",
    "  xbar <- colMeans(X)\n",
    "  S <- cov(X)\n",
    "  critValue <- qt(alpha/2, df = n-1, lower.tail=F)\n",
    "  \n",
    "  CI <- c()\n",
    "  \n",
    "  for(i in 1 : p){\n",
    "    \n",
    "    standardError <- sqrt(S[i, i] / n)\n",
    "    \n",
    "    Upper <- xbar[i] +  critValue*standardError\n",
    "    Lower <- xbar[i] -  critValue*standardError\n",
    "    \n",
    "    CI <- rbind(CI, c(colnames(X)[i], Lower, Upper))\n",
    "  }\n",
    "  \n",
    "  CI <- as.data.frame(CI)\n",
    "  colnames(CI) <- c(\"Variable\", \"Lower_t\", \"Upper_t\")\n",
    "  \n",
    "  return(CI) \n",
    "}"
   ]
  },
  {
   "cell_type": "code",
   "execution_count": 35,
   "id": "32639638",
   "metadata": {
    "ExecuteTime": {
     "end_time": "2022-04-10T16:52:56.191858Z",
     "start_time": "2022-04-10T16:52:56.174Z"
    },
    "hidden": true
   },
   "outputs": [],
   "source": [
    "Hotelling <- function(X, alpha){\n",
    "  \n",
    "  n <- nrow(X)\n",
    "  p <- ncol(X)\n",
    "  xbar <- colMeans(X)\n",
    "  S <- cov(X)\n",
    "  critValue <- sqrt((n-1)*p/(n-p) * qf(alpha, df1 = p, df2 = n-p, lower.tail = F))\n",
    "  \n",
    "  CI <- c()\n",
    "  \n",
    "  for(i in 1 : p){\n",
    "    \n",
    "    standardError <- sqrt(S[i, i] / n)\n",
    "    \n",
    "    Upper <- xbar[i] +  critValue*standardError\n",
    "    Lower <- xbar[i] -  critValue*standardError\n",
    "    \n",
    "    CI <- rbind(CI, c(colnames(X)[i], Lower, Upper))\n",
    "  }\n",
    "  \n",
    "  CI <- as.data.frame(CI)\n",
    "  colnames(CI) <- c(\"Variable\", \"Lower_Hotelling\", \"Upper_Hotelling\")\n",
    "  \n",
    "  return(CI)\n",
    "} "
   ]
  },
  {
   "cell_type": "code",
   "execution_count": 36,
   "id": "b0111e07",
   "metadata": {
    "ExecuteTime": {
     "end_time": "2022-04-10T16:52:56.743870Z",
     "start_time": "2022-04-10T16:52:56.721Z"
    },
    "hidden": true
   },
   "outputs": [],
   "source": [
    "bonferroni <- function(X, alpha){\n",
    "  \n",
    "  n <- nrow(X)\n",
    "  p <- ncol(X)\n",
    "  xbar <- colMeans(X)\n",
    "  S <- cov(X)\n",
    "  critValue <- qt(alpha/ 2*p, df=n-1, lower.tail=F)\n",
    "  \n",
    "  CI <- c()\n",
    "  \n",
    "  for(i in 1 : p){\n",
    "    \n",
    "    standardError <- sqrt(S[i, i] / n)\n",
    "    \n",
    "    Upper <- xbar[i] +  critValue*standardError\n",
    "    Lower <- xbar[i] -  critValue*standardError\n",
    "    \n",
    "    CI <- rbind(CI, c(colnames(X)[i], Lower, Upper))\n",
    "  }\n",
    "  \n",
    "  CI <- as.data.frame(CI)\n",
    "  colnames(CI) <- c(\"Variable\", \"Lower_Bonferroni\", \"Upper_Bonferroni\")\n",
    "  \n",
    "  return(CI)\n",
    "}"
   ]
  },
  {
   "cell_type": "markdown",
   "id": "3e343e84",
   "metadata": {
    "heading_collapsed": true
   },
   "source": [
    "#### Result"
   ]
  },
  {
   "cell_type": "code",
   "execution_count": 38,
   "id": "96d61386",
   "metadata": {
    "ExecuteTime": {
     "end_time": "2022-04-10T16:53:03.301608Z",
     "start_time": "2022-04-10T16:53:03.237Z"
    },
    "hidden": true
   },
   "outputs": [
    {
     "data": {
      "text/plain": [
       "\n",
       "\n",
       "|Variable |Lower_t          |Upper_t          |Lower_Hotelling  |Upper_Hotelling  |Lower_Bonferroni |Upper_Bonferroni |\n",
       "|:--------|:----------------|:----------------|:----------------|:----------------|:----------------|:----------------|\n",
       "|X1       |510.343518871643 |542.828894921461 |502.999398366498 |550.173015426605 |514.718312522639 |538.454101270464 |\n",
       "|X2       |52.296778977941  |57.0825313668866 |51.2148416102374 |58.1644687345902 |52.9412744929165 |56.4380358519111 |\n",
       "|X3       |24.1018266325808 |26.1510469306376 |23.6385498403578 |26.6143237228606 |24.3777943768262 |25.8750791863922 |"
      ]
     },
     "metadata": {},
     "output_type": "display_data"
    }
   ],
   "source": [
    "simultCI <- function(X, alpha){\n",
    "  result <- t.univ(X, alpha)\n",
    "  result <- cbind(result, Hotelling(X, alpha)[-1])\n",
    "  result <- cbind(result, bonferroni(X, alpha)[-1])\n",
    "  return(result)  \n",
    "}\n",
    "\n",
    "kable(simultCI(data, 0.05))"
   ]
  },
  {
   "cell_type": "markdown",
   "id": "e8e7ee91",
   "metadata": {},
   "source": [
    "### 4"
   ]
  },
  {
   "cell_type": "markdown",
   "id": "62ceea4b",
   "metadata": {
    "heading_collapsed": true
   },
   "source": [
    "####  Marginal QQ Plot"
   ]
  },
  {
   "cell_type": "code",
   "execution_count": 39,
   "id": "3005df3c",
   "metadata": {
    "ExecuteTime": {
     "end_time": "2022-04-10T16:54:34.365806Z",
     "start_time": "2022-04-10T16:54:34.165Z"
    },
    "hidden": true
   },
   "outputs": [
    {
     "data": {
      "text/html": [
       "<style>\n",
       ".list-inline {list-style: none; margin:0; padding: 0}\n",
       ".list-inline>li {display: inline-block}\n",
       ".list-inline>li:not(:last-child)::after {content: \"\\00b7\"; padding: 0 .5ex}\n",
       "</style>\n",
       "<ol class=list-inline><li>73</li><li>66</li></ol>\n"
      ],
      "text/latex": [
       "\\begin{enumerate*}\n",
       "\\item 73\n",
       "\\item 66\n",
       "\\end{enumerate*}\n"
      ],
      "text/markdown": [
       "1. 73\n",
       "2. 66\n",
       "\n",
       "\n"
      ],
      "text/plain": [
       "[1] 73 66"
      ]
     },
     "metadata": {},
     "output_type": "display_data"
    },
    {
     "data": {
      "image/png": "[encoded data removed]",
      "text/plain": [
       "plot without title"
      ]
     },
     "metadata": {
      "image/png": {
       "height": 420,
       "width": 420
      }
     },
     "output_type": "display_data"
    },
    {
     "data": {
      "text/html": [
       "<style>\n",
       ".list-inline {list-style: none; margin:0; padding: 0}\n",
       ".list-inline>li {display: inline-block}\n",
       ".list-inline>li:not(:last-child)::after {content: \"\\00b7\"; padding: 0 .5ex}\n",
       "</style>\n",
       "<ol class=list-inline><li>50</li><li>48</li></ol>\n"
      ],
      "text/latex": [
       "\\begin{enumerate*}\n",
       "\\item 50\n",
       "\\item 48\n",
       "\\end{enumerate*}\n"
      ],
      "text/markdown": [
       "1. 50\n",
       "2. 48\n",
       "\n",
       "\n"
      ],
      "text/plain": [
       "[1] 50 48"
      ]
     },
     "metadata": {},
     "output_type": "display_data"
    },
    {
     "data": {
      "image/png": "[encoded data removed]",
      "text/plain": [
       "plot without title"
      ]
     },
     "metadata": {
      "image/png": {
       "height": 420,
       "width": 420
      }
     },
     "output_type": "display_data"
    },
    {
     "data": {
      "text/html": [
       "<style>\n",
       ".list-inline {list-style: none; margin:0; padding: 0}\n",
       ".list-inline>li {display: inline-block}\n",
       ".list-inline>li:not(:last-child)::after {content: \"\\00b7\"; padding: 0 .5ex}\n",
       "</style>\n",
       "<ol class=list-inline><li>40</li><li>63</li></ol>\n"
      ],
      "text/latex": [
       "\\begin{enumerate*}\n",
       "\\item 40\n",
       "\\item 63\n",
       "\\end{enumerate*}\n"
      ],
      "text/markdown": [
       "1. 40\n",
       "2. 63\n",
       "\n",
       "\n"
      ],
      "text/plain": [
       "[1] 40 63"
      ]
     },
     "metadata": {},
     "output_type": "display_data"
    },
    {
     "data": {
      "image/png": "[encoded data removed]",
      "text/plain": [
       "plot without title"
      ]
     },
     "metadata": {
      "image/png": {
       "height": 420,
       "width": 420
      }
     },
     "output_type": "display_data"
    }
   ],
   "source": [
    "qqPlot(data$X1)\n",
    "qqPlot(data$X2)\n",
    "qqPlot(data$X3)"
   ]
  },
  {
   "cell_type": "markdown",
   "id": "37ef4281",
   "metadata": {
    "hidden": true
   },
   "source": [
    "Berdasarkan marginal QQ Plot diatas, terlihat bahwa ketiga variabel telah berdistribusi univariate normal secara marginal, dan masih terdapat beberapa outlier univariat di ketiga variabel."
   ]
  },
  {
   "cell_type": "markdown",
   "id": "c80f7ac3",
   "metadata": {
    "heading_collapsed": true
   },
   "source": [
    "#### Bivariate Scatterplot"
   ]
  },
  {
   "cell_type": "code",
   "execution_count": 43,
   "id": "2b65e1a8",
   "metadata": {
    "ExecuteTime": {
     "end_time": "2022-04-10T16:56:36.173280Z",
     "start_time": "2022-04-10T16:56:36.043Z"
    },
    "hidden": true
   },
   "outputs": [
    {
     "data": {
      "image/png": "[encoded data removed]",
      "text/plain": [
       "Plot with title \"Bvt. Boxplot X2 vs X3\""
      ]
     },
     "metadata": {
      "image/png": {
       "height": 420,
       "width": 420
      }
     },
     "output_type": "display_data"
    }
   ],
   "source": [
    "# set plot display parameter\n",
    "par(mfrow = c(2, 2)) # Create a 2 x 2 plotting matrix\n",
    "mat <- matrix(c(1, 2, 3, 0), nrow=2, byrow=T)\n",
    "layout(mat)\n",
    "\n",
    "data_mat <- as.matrix(data)\n",
    "\n",
    "# bivariate scatterplot with confidence area\n",
    "bvbox(data_mat[,c(1, 2)], xlab = \"X1\", ylab = \"X2\", main = \"Bvt. Boxplot X1 vs X2\")\n",
    "\n",
    "bvbox(data_mat[,c(1, 3)], xlab = \"X1\", ylab = \"X3\", main = \"Bvt. Boxplot X1 vs X3\")\n",
    "\n",
    "bvbox(data_mat[,c(2, 3)], xlab = \"X2\", ylab = \"X3\", main = \"Bvt. Boxplot X2 vs X3\")"
   ]
  },
  {
   "cell_type": "markdown",
   "id": "788b6b79",
   "metadata": {
    "hidden": true
   },
   "source": [
    "Berdasarkan scatterplot + bivariate boxplot diatas, tidak terdapat outlier bivariat dari setiap kombinasi pasangan variabel dari dataset yg digunakan."
   ]
  },
  {
   "cell_type": "markdown",
   "id": "ef4ba2e0",
   "metadata": {
    "heading_collapsed": true
   },
   "source": [
    "#### Chi-Square Plot"
   ]
  },
  {
   "cell_type": "code",
   "execution_count": 45,
   "id": "660914df",
   "metadata": {
    "ExecuteTime": {
     "end_time": "2022-04-10T16:58:27.112940Z",
     "start_time": "2022-04-10T16:58:26.977Z"
    },
    "hidden": true
   },
   "outputs": [
    {
     "data": {
      "image/png": "[encoded data removed]",
      "text/plain": [
       "plot without title"
      ]
     },
     "metadata": {
      "image/png": {
       "height": 420,
       "width": 420
      }
     },
     "output_type": "display_data"
    }
   ],
   "source": [
    "# utility function to calculate squared of generalized distance.\n",
    "\n",
    "sqrDist <- function(X, i){\n",
    "   \n",
    "  X <- as.matrix(X)\n",
    "  \n",
    "  return(t(X[i, ]-colMeans(X)) %*% inv(cov(X)) %*% (X[i, ]-colMeans(X)))\n",
    "}\n",
    "\n",
    "manualChisqPlot <- function(X){\n",
    "  \n",
    "  n <- nrow(X)\n",
    "  p <- ncol(X)\n",
    "  \n",
    "  # initialize squared generalized distance vector\n",
    "  dSqrd <- c()\n",
    "  \n",
    "  # compute squared generalized distance\n",
    "  for(i in 1 : n){\n",
    "    dSqrd <- c(dSqrd, sqrDist(X, i))\n",
    "  }\n",
    "  \n",
    "  # empirical quantile\n",
    "  empQuantile <- sort(dSqrd)\n",
    "  \n",
    "  # empirical CDF\n",
    "  empCDF <- 1:n\n",
    "  empCDF <- (empCDF - 0.5) / n\n",
    "  \n",
    "  # theoretical chi-squared quantile\n",
    "  theoQuantile <- qchisq(empCDF, df = p)\n",
    "  \n",
    "  # plot\n",
    "  plot( empQuantile, theoQuantile\n",
    "       , ylab = \"Theoretical Chi-Squared Quantile\"\n",
    "       , xlab = \"Squared of Generalized Distance\")\n",
    "  \n",
    "  # add y = x line\n",
    "  abline(a = 0, b = 1)\n",
    "  \n",
    "  return(data.frame(list(Theoretical_Quantile = theoQuantile, Empirical_Quantile = empQuantile)))\n",
    "}\n",
    "\n",
    "chisqplot <- manualChisqPlot(data)\n",
    "text(chisqplot$Empirical_Quantile[87], chisqplot$Theoretical_Quantile[87], labels=\"50\", cex = 0.9, pos = 2, col = \"red\")"
   ]
  },
  {
   "cell_type": "markdown",
   "id": "c115674f",
   "metadata": {
    "hidden": true
   },
   "source": [
    "Berdasarkan Chi-Squared Plot diatas terlihat bahwa mayoritas observasi jatuh pada garis y = x (dimana x adalah *empirical quantile* dan y adalah *theoretical chisquare quantile*) yang mengindikasikan bahwa data tersebut berdistribusi multivariate normal. Kemudian juga terlihat bahwa observasi ke-50 cenderung sangat jauh dibandingkan observasi yang lainnya yang dapat menjadi pertanda *outlier*."
   ]
  },
  {
   "cell_type": "markdown",
   "id": "02d8d71c",
   "metadata": {
    "heading_collapsed": true
   },
   "source": [
    "#### Apakah Hasil Konsisten?"
   ]
  },
  {
   "cell_type": "markdown",
   "id": "8bf33769",
   "metadata": {
    "hidden": true
   },
   "source": [
    "Berdasarkan uji vektor rata-rata menggunakan statistik *Hotelling's T* diperoleh keputusan **tolak** $H_0$. Berdasarkan 95% *confidence ellipsoid* diperoleh keputusan **gagal tolak** $H_0$. Kemudian berdasarkan *simultaneous* 95% *confidence interval*, baik menggunakan t.univariate, Hotelling's, maupun Bonferroni, diperoleh keputusan **tolak H0**."
   ]
  },
  {
   "cell_type": "markdown",
   "id": "ab79deb6",
   "metadata": {
    "heading_collapsed": true
   },
   "source": [
    "### Uji Multivariate Normal Sebelum dan Setelah Outlier Dibuang"
   ]
  },
  {
   "cell_type": "code",
   "execution_count": 48,
   "id": "303c0e98",
   "metadata": {
    "ExecuteTime": {
     "end_time": "2022-04-10T17:01:52.461405Z",
     "start_time": "2022-04-10T17:01:51.570Z"
    },
    "hidden": true
   },
   "outputs": [
    {
     "data": {
      "text/plain": [
       "\n",
       "\n",
       "|Test             |Statistic w/ Outlier |Statistic w/o Outlier |P_Value w/ Outlier   |P_Value w/o Outlier  |\n",
       "|:----------------|:--------------------|:---------------------|:--------------------|:--------------------|\n",
       "|Mardia Skewness  |10.1071534211083     |7.0207812397471       |0.431143218437203    |0.723481631347079    |\n",
       "|Mardia Kurtosis  |-1.60043235277132    |-2.1269459472045      |0.109502702708812    |0.0334245745862802   |\n",
       "|MVN              |NA                   |NA                    |NA                   |NA                   |\n",
       "|Henze-Zirkler    |0.616550897136643    |0.655252900355685     |0.723549796427021    |0.613217506914146    |\n",
       "|Royston          |4.76923107733215     |3.77045783799917      |0.18597105511583     |0.279656597211519    |\n",
       "|Doornik-Hansen   |444.976327626128     |342.24355308605       |5.91705929341311e-93 |7.13531280985995e-71 |\n",
       "|E-statistic      |0.779493217846894    |0.801407930982647     |0.668                |0.579                |\n",
       "|Mvt Shapiro-Wilk |0.972533380503332    |0.984137144834327     |0.0608215326277156   |0.375184315957185    |"
      ]
     },
     "metadata": {},
     "output_type": "display_data"
    }
   ],
   "source": [
    "data_eliminated <- data[-c(50), ]\n",
    "\n",
    "# function to compare multivariate test from 2 datasets\n",
    "compareMvTest <- function(X1, X2){\n",
    "  result1 <- mvtNormalityTest(X1)\n",
    "  result2 <- mvtNormalityTest(X2)\n",
    "  \n",
    "  compareResult <- c()\n",
    "  compareResult$Test <- result1$Test\n",
    "  compareResult$Statistic1 <- result1$Statistic\n",
    "  compareResult$Statistic2 <- result2$Statistic\n",
    "  compareResult$P_Value1 <- result1$P_Value\n",
    "  compareResult$P_Value2 <- result2$P_Value\n",
    "  \n",
    "  return(as.data.frame(compareResult))\n",
    "}\n",
    "\n",
    "compareOutlier <- compareMvTest(data, data_eliminated)\n",
    "colnames(compareOutlier) <- c(\"Test\", \"Statistic w/ Outlier\", \"Statistic w/o Outlier\", \"P_Value w/ Outlier\", \"P_Value w/o Outlier\")\n",
    "\n",
    "kable(compareOutlier)"
   ]
  },
  {
   "cell_type": "markdown",
   "id": "7a651130",
   "metadata": {
    "hidden": true
   },
   "source": [
    "Penghapusan *outlier* tidak mengubah kesimpulan awal, yaitu untuk tingkat signifikansi belum terdapat cukup bukti atas penyimpangan terhadap distribusi multivariate normal dari data yang digunakan."
   ]
  },
  {
   "cell_type": "markdown",
   "id": "e57d4142",
   "metadata": {
    "ExecuteTime": {
     "end_time": "2022-04-10T15:07:37.981053Z",
     "start_time": "2022-04-10T15:07:37.963Z"
    }
   },
   "source": [
    "# Pertemuan 5"
   ]
  },
  {
   "cell_type": "markdown",
   "id": "5eb2a406",
   "metadata": {
    "ExecuteTime": {
     "end_time": "2022-04-10T15:07:51.027085Z",
     "start_time": "2022-04-10T15:07:51.006Z"
    }
   },
   "source": [
    "## Paired Comparison"
   ]
  },
  {
   "cell_type": "markdown",
   "id": "37b04da4",
   "metadata": {
    "heading_collapsed": true
   },
   "source": [
    "### Load Data"
   ]
  },
  {
   "cell_type": "raw",
   "id": "62bb1aaa",
   "metadata": {
    "ExecuteTime": {
     "end_time": "2022-04-10T16:16:26.435678Z",
     "start_time": "2022-04-10T16:16:13.097Z"
    },
    "hidden": true
   },
   "source": [
    "# using url github\n",
    "\n",
    "url <- \"https://raw.githubusercontent.com/rii92/tugas-APG/main/11%20maret%202022/College_Test.csv\"\n",
    "data <- read.csv(url)\n",
    "data"
   ]
  },
  {
   "cell_type": "code",
   "execution_count": 50,
   "id": "a36edecc",
   "metadata": {
    "ExecuteTime": {
     "end_time": "2022-04-10T17:05:19.866997Z",
     "start_time": "2022-04-10T17:05:19.834Z"
    },
    "hidden": true,
    "scrolled": true
   },
   "outputs": [
    {
     "data": {
      "text/html": [
       "<table class=\"dataframe\">\n",
       "<caption>A data.frame: 11 × 4</caption>\n",
       "<thead>\n",
       "\t<tr><th scope=col>BOD_commercial</th><th scope=col>SS_commercial</th><th scope=col>BOD_state</th><th scope=col>SS_state</th></tr>\n",
       "\t<tr><th scope=col>&lt;dbl&gt;</th><th scope=col>&lt;dbl&gt;</th><th scope=col>&lt;dbl&gt;</th><th scope=col>&lt;dbl&gt;</th></tr>\n",
       "</thead>\n",
       "<tbody>\n",
       "\t<tr><td> 6</td><td> 27</td><td>25</td><td>15</td></tr>\n",
       "\t<tr><td> 6</td><td> 23</td><td>28</td><td>13</td></tr>\n",
       "\t<tr><td>18</td><td> 64</td><td>36</td><td>22</td></tr>\n",
       "\t<tr><td> 8</td><td> 44</td><td>35</td><td>29</td></tr>\n",
       "\t<tr><td>11</td><td> 30</td><td>15</td><td>31</td></tr>\n",
       "\t<tr><td>34</td><td> 75</td><td>44</td><td>64</td></tr>\n",
       "\t<tr><td>28</td><td> 26</td><td>42</td><td>30</td></tr>\n",
       "\t<tr><td>71</td><td>124</td><td>54</td><td>64</td></tr>\n",
       "\t<tr><td>43</td><td> 54</td><td>34</td><td>56</td></tr>\n",
       "\t<tr><td>33</td><td> 30</td><td>29</td><td>20</td></tr>\n",
       "\t<tr><td>20</td><td> 14</td><td>39</td><td>21</td></tr>\n",
       "</tbody>\n",
       "</table>\n"
      ],
      "text/latex": [
       "A data.frame: 11 × 4\n",
       "\\begin{tabular}{llll}\n",
       " BOD\\_commercial & SS\\_commercial & BOD\\_state & SS\\_state\\\\\n",
       " <dbl> & <dbl> & <dbl> & <dbl>\\\\\n",
       "\\hline\n",
       "\t  6 &  27 & 25 & 15\\\\\n",
       "\t  6 &  23 & 28 & 13\\\\\n",
       "\t 18 &  64 & 36 & 22\\\\\n",
       "\t  8 &  44 & 35 & 29\\\\\n",
       "\t 11 &  30 & 15 & 31\\\\\n",
       "\t 34 &  75 & 44 & 64\\\\\n",
       "\t 28 &  26 & 42 & 30\\\\\n",
       "\t 71 & 124 & 54 & 64\\\\\n",
       "\t 43 &  54 & 34 & 56\\\\\n",
       "\t 33 &  30 & 29 & 20\\\\\n",
       "\t 20 &  14 & 39 & 21\\\\\n",
       "\\end{tabular}\n"
      ],
      "text/markdown": [
       "\n",
       "A data.frame: 11 × 4\n",
       "\n",
       "| BOD_commercial &lt;dbl&gt; | SS_commercial &lt;dbl&gt; | BOD_state &lt;dbl&gt; | SS_state &lt;dbl&gt; |\n",
       "|---|---|---|---|\n",
       "|  6 |  27 | 25 | 15 |\n",
       "|  6 |  23 | 28 | 13 |\n",
       "| 18 |  64 | 36 | 22 |\n",
       "|  8 |  44 | 35 | 29 |\n",
       "| 11 |  30 | 15 | 31 |\n",
       "| 34 |  75 | 44 | 64 |\n",
       "| 28 |  26 | 42 | 30 |\n",
       "| 71 | 124 | 54 | 64 |\n",
       "| 43 |  54 | 34 | 56 |\n",
       "| 33 |  30 | 29 | 20 |\n",
       "| 20 |  14 | 39 | 21 |\n",
       "\n"
      ],
      "text/plain": [
       "   BOD_commercial SS_commercial BOD_state SS_state\n",
       "1   6              27           25        15      \n",
       "2   6              23           28        13      \n",
       "3  18              64           36        22      \n",
       "4   8              44           35        29      \n",
       "5  11              30           15        31      \n",
       "6  34              75           44        64      \n",
       "7  28              26           42        30      \n",
       "8  71             124           54        64      \n",
       "9  43              54           34        56      \n",
       "10 33              30           29        20      \n",
       "11 20              14           39        21      "
      ]
     },
     "metadata": {},
     "output_type": "display_data"
    }
   ],
   "source": [
    "# manually 1.0\n",
    "\n",
    "data <- data.frame(\n",
    "  BOD_commercial = c(6, 6, 18, 8, 11, 34, 28, 71, 43, 33, 20)\n",
    "  , SS_commercial = c(27, 23, 64, 44, 30, 75, 26, 124, 54, 30, 14)\n",
    "  , BOD_state = c(25, 28, 36, 35, 15, 44, 42, 54, 34, 29, 39)\n",
    "  , SS_state = c(15, 13, 22, 29, 31, 64, 30, 64, 56, 20, 21)\n",
    ")\n",
    "data"
   ]
  },
  {
   "cell_type": "raw",
   "id": "f5b05251",
   "metadata": {
    "hidden": true
   },
   "source": [
    "# using read_excel\n",
    "\n",
    "data <- read_excel(\"3SD1.xlsx\", sheet=1)\n",
    "data <- as.data.frame(data)"
   ]
  },
  {
   "cell_type": "code",
   "execution_count": null,
   "id": "3d3dc0f9",
   "metadata": {
    "ExecuteTime": {
     "end_time": "2022-04-10T16:49:52.687820Z",
     "start_time": "2022-04-10T16:49:45.337Z"
    },
    "hidden": true
   },
   "outputs": [],
   "source": [
    "# using url github\n",
    "\n",
    "url<-\"https://raw.githubusercontent.com/rii92/tugas-APG/main/20%20Maret%202022/APG_dataNo_6.1.csv\"\n",
    "data <- read.csv(url)\n",
    "data"
   ]
  },
  {
   "cell_type": "code",
   "execution_count": 53,
   "id": "70f1e022",
   "metadata": {
    "ExecuteTime": {
     "end_time": "2022-04-10T17:06:25.060934Z",
     "start_time": "2022-04-10T17:06:25.029Z"
    },
    "hidden": true
   },
   "outputs": [
    {
     "data": {
      "text/plain": [
       "\n",
       "\n",
       "| dBOD| dSS|\n",
       "|----:|---:|\n",
       "|   19| -12|\n",
       "|   22| -10|\n",
       "|   18| -42|\n",
       "|   27| -15|\n",
       "|    4|   1|\n",
       "|   10| -11|\n",
       "|   14|   4|\n",
       "|  -17| -60|\n",
       "|   -9|   2|\n",
       "|   -4| -10|\n",
       "|   19|   7|"
      ]
     },
     "metadata": {},
     "output_type": "display_data"
    }
   ],
   "source": [
    "data_dif <- data.frame(\n",
    "  dBOD = data1$BOD_state - data1$BOD_commercial,\n",
    "  dSS = data1$SS_state - data1$SS_commercial\n",
    ")\n",
    "library(knitr)\n",
    "kable(data_dif)"
   ]
  },
  {
   "cell_type": "markdown",
   "id": "61c57890",
   "metadata": {},
   "source": [
    "### Real Data"
   ]
  },
  {
   "cell_type": "markdown",
   "id": "5e02a713",
   "metadata": {
    "ExecuteTime": {
     "end_time": "2022-04-10T16:49:52.689058Z",
     "start_time": "2022-04-10T16:49:45.342Z"
    },
    "heading_collapsed": true
   },
   "source": [
    "#### 95% Confidence Ellipse"
   ]
  },
  {
   "cell_type": "code",
   "execution_count": 54,
   "id": "26ca7788",
   "metadata": {
    "ExecuteTime": {
     "end_time": "2022-04-10T17:06:29.760792Z",
     "start_time": "2022-04-10T17:06:29.660Z"
    },
    "hidden": true
   },
   "outputs": [
    {
     "data": {
      "image/png": "[encoded data removed]",
      "text/plain": [
       "plot without title"
      ]
     },
     "metadata": {
      "image/png": {
       "height": 420,
       "width": 420
      }
     },
     "output_type": "display_data"
    }
   ],
   "source": [
    "ellipseCI <- function(X, alpha, mu){\n",
    "  n <- nrow(X)\n",
    "  p <- ncol(X)\n",
    "  xbar <- colMeans(X)\n",
    "  S <- cov(X)\n",
    "  \n",
    "  library(car)\n",
    "  \n",
    "  tconst <- sqrt(\n",
    "    (p/n)*((n-1)/(n-p)) * qf(1-alpha,p,n-p)\n",
    "    )\n",
    "  \n",
    "  plot(ellipse(\n",
    "    center = xbar , shape = S, radius=tconst, draw = F)\n",
    "    , type=\"n\", xlab=\"dBOD\", ylab=\"dSS\")\n",
    "  \n",
    "  lines(ellipse(center=xbar, shape=S, radius=tconst, lwd= 3), xlab = \"dBOD\", ylab=\"dSS\")\n",
    "  \n",
    "  points(mu[1], mu[2], col=\"red\", pch=16)\n",
    "  text(mu[1]+1, mu[2],expression(mu[0])) \n",
    "  text(xbar[1]+1,xbar[2],expression(bar(x)))\n",
    "  \n",
    "}\n",
    "\n",
    "ellipseCI(data_dif, 0.05, c(0, 0))"
   ]
  },
  {
   "cell_type": "markdown",
   "id": "ea71e414",
   "metadata": {
    "hidden": true
   },
   "source": [
    "Terlihat bahwa titik $\\vec \\mu_0 = [0, 0]^T$ berada diluar 95% *confidence ellipse.* Hal ini mengimplikasikan keberhasilan dalam menolak $H_0$ untuk taraf uji 5%. Hasil ini konsisten dengan uji $T^2$ pada *example* 6.1."
   ]
  },
  {
   "cell_type": "markdown",
   "id": "2648e0d8",
   "metadata": {
    "heading_collapsed": true
   },
   "source": [
    "#### 95% Bonferroni Simultaneous Interval"
   ]
  },
  {
   "cell_type": "code",
   "execution_count": 55,
   "id": "dc3df680",
   "metadata": {
    "ExecuteTime": {
     "end_time": "2022-04-10T17:07:27.853894Z",
     "start_time": "2022-04-10T17:07:27.813Z"
    },
    "hidden": true
   },
   "outputs": [
    {
     "data": {
      "text/plain": [
       "\n",
       "\n",
       "|Variable |Lower_Bonferroni  |Upper_Bonferroni  |\n",
       "|:--------|:-----------------|:-----------------|\n",
       "|dBOD     |1.64969246763455  |17.0775802596382  |\n",
       "|dSS      |-24.4537466652534 |-2.09170788020114 |"
      ]
     },
     "metadata": {},
     "output_type": "display_data"
    }
   ],
   "source": [
    "bonferroni <- function(X, alpha){\n",
    "  \n",
    "  n <- nrow(X)\n",
    "  p <- ncol(X)\n",
    "  xbar <- colMeans(X)\n",
    "  S <- cov(X)\n",
    "  critValue <- qt(alpha/ 2*p, df=n-1, lower.tail=F)\n",
    "  \n",
    "  CI <- c()\n",
    "  \n",
    "  for(i in 1 : p){\n",
    "    \n",
    "    ## get standard error\n",
    "    standardError <- sqrt(S[i, i] / n)\n",
    "    \n",
    "    Upper <- xbar[i] +  critValue*standardError\n",
    "    Lower <- xbar[i] -  critValue*standardError\n",
    "    \n",
    "    CI <- rbind(CI, c(colnames(X)[i], Lower, Upper))\n",
    "  }\n",
    "  \n",
    "  CI <- as.data.frame(CI)\n",
    "  colnames(CI) <- c(\"Variable\", \"Lower_Bonferroni\", \"Upper_Bonferroni\")\n",
    "  \n",
    "  return(CI)\n",
    "}\n",
    "\n",
    "kable(bonferroni(data_dif, 0.05))"
   ]
  },
  {
   "cell_type": "markdown",
   "id": "871e0993",
   "metadata": {
    "hidden": true
   },
   "source": [
    "Terlihat bahwa panjang 95% *confidence interval* Bonferroni untuk kedua *difference* lebih pendek dibandingkan Hotelling's pada *example 6.1*."
   ]
  },
  {
   "cell_type": "markdown",
   "id": "71819f9c",
   "metadata": {},
   "source": [
    "### Outlier Removed"
   ]
  },
  {
   "cell_type": "markdown",
   "id": "009a4831",
   "metadata": {
    "heading_collapsed": true
   },
   "source": [
    "#### Outlier Removal"
   ]
  },
  {
   "cell_type": "code",
   "execution_count": 57,
   "id": "79374974",
   "metadata": {
    "ExecuteTime": {
     "end_time": "2022-04-10T17:08:28.361737Z",
     "start_time": "2022-04-10T17:08:28.341Z"
    },
    "hidden": true
   },
   "outputs": [],
   "source": [
    "data_dif_noOut <- data_dif[-8 , ]"
   ]
  },
  {
   "cell_type": "markdown",
   "id": "f5056027",
   "metadata": {
    "heading_collapsed": true
   },
   "source": [
    "#### Uji Hotelling's T"
   ]
  },
  {
   "cell_type": "code",
   "execution_count": 58,
   "id": "4c27cebb",
   "metadata": {
    "ExecuteTime": {
     "end_time": "2022-04-10T17:08:55.215625Z",
     "start_time": "2022-04-10T17:08:55.168Z"
    },
    "hidden": true
   },
   "outputs": [
    {
     "data": {
      "text/plain": [
       "\n",
       "\n",
       "| Hotelling_Stat| alpha| Critical_Value| df1| df2|   P_Value|\n",
       "|--------------:|-----:|--------------:|---:|---:|---------:|\n",
       "|       11.44652|  0.05|       10.03268|   2|   8| 0.0375398|"
      ]
     },
     "metadata": {},
     "output_type": "display_data"
    }
   ],
   "source": [
    "T.test <- function(X, mu0, alpha){\n",
    "  \n",
    "  X <- as.matrix(X)\n",
    "  \n",
    "  # get number of obs and number of var\n",
    "  n <- nrow(X)\n",
    "  p <- ncol(X)\n",
    "  \n",
    "  # dof\n",
    "  df1 <- p\n",
    "  df2 <- n-p\n",
    "  \n",
    "  # check if df2 < 1L\n",
    "  if(df2 < 1L) stop(\"Need nrow(X) > ncol(X)\")\n",
    "  \n",
    "  # get sample mean vector\n",
    "  Xbar <- colMeans(X)\n",
    "  \n",
    "  # get covariance matrix\n",
    "  S <- cov(X)\n",
    "  \n",
    "  # get T-statistic\n",
    "  T_statistic <- n*t(Xbar-mu0)%*%solve(S)%*%(Xbar-mu0)\n",
    "  \n",
    "  # get p_value\n",
    "  p_val <- pf(\n",
    "    T_statistic/((n-1)*p/(n-p))\n",
    "    , df1, df2\n",
    "    , lower.tail = FALSE\n",
    "    )\n",
    "  \n",
    "  # get critical value\n",
    "  critValue <- (n-1)*p/(n-p)*qf(alpha, df1, df2, lower.tail=F)\n",
    "  \n",
    "  # output table\n",
    "  tabel <- data.frame(\n",
    "    Hotelling_Stat = T_statistic\n",
    "    , alpha = alpha\n",
    "    , Critical_Value = critValue\n",
    "    , df1 = df1\n",
    "    , df2 = df2\n",
    "    , P_Value = p_val\n",
    "  )\n",
    "  \n",
    "  return(tabel)\n",
    "}\n",
    "\n",
    "kable(T.test(data_dif_noOut, c(0,0), 0.05))"
   ]
  },
  {
   "cell_type": "markdown",
   "id": "eda0f339",
   "metadata": {
    "hidden": true
   },
   "source": [
    "Penghilangan *outlier* tetap menghasilkan uji Hotelling's T yang tolak $H_0$ untuk taraf uji 5%."
   ]
  },
  {
   "cell_type": "markdown",
   "id": "a1e224d1",
   "metadata": {
    "heading_collapsed": true
   },
   "source": [
    "#### 95% Confidence Region"
   ]
  },
  {
   "cell_type": "code",
   "execution_count": 59,
   "id": "7effbc89",
   "metadata": {
    "ExecuteTime": {
     "end_time": "2022-04-10T17:09:40.224315Z",
     "start_time": "2022-04-10T17:09:40.150Z"
    },
    "hidden": true
   },
   "outputs": [
    {
     "data": {
      "image/png": "[encoded data removed]",
      "text/plain": [
       "plot without title"
      ]
     },
     "metadata": {
      "image/png": {
       "height": 420,
       "width": 420
      }
     },
     "output_type": "display_data"
    }
   ],
   "source": [
    "ellipseCI(data_dif_noOut, 0.05, c(0, 0))"
   ]
  },
  {
   "cell_type": "markdown",
   "id": "8d512cce",
   "metadata": {
    "hidden": true
   },
   "source": [
    "95% *confidence region* yang diperoleh konsisten dengan hasil pengujian sebelumnya, yaitu titik $\\vec \\mu = [0, 0]^T$ yang diluar elips mengimplikasikan hasil uji yang tolak $H_0$"
   ]
  },
  {
   "cell_type": "markdown",
   "id": "699f4bde",
   "metadata": {
    "heading_collapsed": true
   },
   "source": [
    "#### 95% Bonferroni Simultaneous CI"
   ]
  },
  {
   "cell_type": "code",
   "execution_count": 60,
   "id": "a9de6e66",
   "metadata": {
    "ExecuteTime": {
     "end_time": "2022-04-10T17:10:21.477111Z",
     "start_time": "2022-04-10T17:10:21.453Z"
    },
    "hidden": true
   },
   "outputs": [
    {
     "data": {
      "text/html": [
       "<table class=\"dataframe\">\n",
       "<caption>A data.frame: 2 × 3</caption>\n",
       "<thead>\n",
       "\t<tr><th scope=col>Variable</th><th scope=col>Lower_Bonferroni</th><th scope=col>Upper_Bonferroni</th></tr>\n",
       "\t<tr><th scope=col>&lt;chr&gt;</th><th scope=col>&lt;chr&gt;</th><th scope=col>&lt;chr&gt;</th></tr>\n",
       "</thead>\n",
       "<tbody>\n",
       "\t<tr><td>dBOD</td><td>5.22877648236938</td><td>18.7712235176306  </td></tr>\n",
       "\t<tr><td>dSS </td><td>-16.762328586457</td><td>-0.437671413542992</td></tr>\n",
       "</tbody>\n",
       "</table>\n"
      ],
      "text/latex": [
       "A data.frame: 2 × 3\n",
       "\\begin{tabular}{lll}\n",
       " Variable & Lower\\_Bonferroni & Upper\\_Bonferroni\\\\\n",
       " <chr> & <chr> & <chr>\\\\\n",
       "\\hline\n",
       "\t dBOD & 5.22877648236938 & 18.7712235176306  \\\\\n",
       "\t dSS  & -16.762328586457 & -0.437671413542992\\\\\n",
       "\\end{tabular}\n"
      ],
      "text/markdown": [
       "\n",
       "A data.frame: 2 × 3\n",
       "\n",
       "| Variable &lt;chr&gt; | Lower_Bonferroni &lt;chr&gt; | Upper_Bonferroni &lt;chr&gt; |\n",
       "|---|---|---|\n",
       "| dBOD | 5.22877648236938 | 18.7712235176306   |\n",
       "| dSS  | -16.762328586457 | -0.437671413542992 |\n",
       "\n"
      ],
      "text/plain": [
       "  Variable Lower_Bonferroni Upper_Bonferroni  \n",
       "1 dBOD     5.22877648236938 18.7712235176306  \n",
       "2 dSS      -16.762328586457 -0.437671413542992"
      ]
     },
     "metadata": {},
     "output_type": "display_data"
    }
   ],
   "source": [
    "bonferroni(data_dif_noOut, 0.05)"
   ]
  },
  {
   "cell_type": "markdown",
   "id": "9cafbaf9",
   "metadata": {
    "hidden": true
   },
   "source": [
    "Selang kepercayaan 95% simultan bonferroni juga memberikan hasil yang konsisten, yaitu semua selang kepercayaan marginal tidak mencakup nilai 0, sehingga tolak $H_0$"
   ]
  },
  {
   "cell_type": "markdown",
   "id": "411da393",
   "metadata": {},
   "source": [
    "### Transformasi Log"
   ]
  },
  {
   "cell_type": "markdown",
   "id": "e31a79ea",
   "metadata": {
    "heading_collapsed": true
   },
   "source": [
    "#### Data"
   ]
  },
  {
   "cell_type": "code",
   "execution_count": 62,
   "id": "0a9b3173",
   "metadata": {
    "ExecuteTime": {
     "end_time": "2022-04-10T17:12:50.480170Z",
     "start_time": "2022-04-10T17:12:50.451Z"
    },
    "hidden": true
   },
   "outputs": [
    {
     "data": {
      "text/plain": [
       "\n",
       "\n",
       "|    dLogBOD|     dLogSS|\n",
       "|----------:|----------:|\n",
       "|  1.4271164| -0.5877867|\n",
       "|  1.5404450| -0.5705449|\n",
       "|  0.6931472| -1.0678406|\n",
       "|  1.4759065| -0.4168938|\n",
       "|  0.3101549|  0.0327898|\n",
       "|  0.2578291| -0.1586050|\n",
       "|  0.4054651|  0.1431008|\n",
       "| -0.2736958| -0.6613985|\n",
       "| -0.2348396|  0.0363676|\n",
       "| -0.1292117| -0.4054651|\n",
       "|  0.6678294|  0.4054651|"
      ]
     },
     "metadata": {},
     "output_type": "display_data"
    }
   ],
   "source": [
    "# log transforamtion\n",
    "data_log <- data.frame(\n",
    "  logBOD_commercial = log(data$BOD_commercial)\n",
    "  , logBOD_state = log(data$BOD_state)\n",
    "  , logSS_commercial = log(data$SS_commercial)\n",
    "  , logSS_state = log(data$SS_state)\n",
    ")\n",
    "\n",
    "# difference of log\n",
    "data_log_dif <- data.frame(\n",
    "  dLogBOD = data_log$logBOD_state - data_log$logBOD_commercial\n",
    "  , dLogSS = data_log$logSS_state - data_log$logSS_commercial\n",
    ")\n",
    "\n",
    "kable(data_log_dif)"
   ]
  },
  {
   "cell_type": "markdown",
   "id": "24e625a5",
   "metadata": {
    "heading_collapsed": true
   },
   "source": [
    "#### Uji Hotelling's T"
   ]
  },
  {
   "cell_type": "code",
   "execution_count": 64,
   "id": "65c0589e",
   "metadata": {
    "ExecuteTime": {
     "end_time": "2022-04-10T17:13:35.989658Z",
     "start_time": "2022-04-10T17:13:35.966Z"
    },
    "hidden": true
   },
   "outputs": [
    {
     "data": {
      "text/plain": [
       "\n",
       "\n",
       "| Hotelling_Stat| alpha| Critical_Value| df1| df2|   P_Value|\n",
       "|--------------:|-----:|--------------:|---:|---:|---------:|\n",
       "|       10.21541|  0.05|       9.458877|   2|   9| 0.0421141|"
      ]
     },
     "metadata": {},
     "output_type": "display_data"
    }
   ],
   "source": [
    "kable(T.test(data_log_dif, c(0, 0), 0.05))"
   ]
  },
  {
   "cell_type": "markdown",
   "id": "69bdf0df",
   "metadata": {
    "hidden": true
   },
   "source": [
    "Untuk taraf uji 5%, diperoleh hasil tolak $H_0$. Hal ini mengimplikasikan adanya perbedaan yang signifikan pada setidaknya salah satu selisih dari logaritma BOD ataupun SS."
   ]
  },
  {
   "cell_type": "markdown",
   "id": "8184983f",
   "metadata": {
    "heading_collapsed": true
   },
   "source": [
    "#### 95% Hotelling's Simultaneous Confidence Interval"
   ]
  },
  {
   "cell_type": "code",
   "execution_count": 65,
   "id": "2059bf9c",
   "metadata": {
    "ExecuteTime": {
     "end_time": "2022-04-10T17:14:10.948194Z",
     "start_time": "2022-04-10T17:14:10.851Z"
    },
    "hidden": true
   },
   "outputs": [
    {
     "data": {
      "text/plain": [
       "\n",
       "\n",
       "|Variable |Lower_Hotelling     |Upper_Hotelling   |\n",
       "|:--------|:-------------------|:-----------------|\n",
       "|dLogBOD  |-0.0680501029019922 |1.18444036875874  |\n",
       "|dLogSS   |-0.693155355710334  |0.102098781330273 |"
      ]
     },
     "metadata": {},
     "output_type": "display_data"
    }
   ],
   "source": [
    "Hotelling <- function(X, alpha){\n",
    "  \n",
    "  # get n \n",
    "  n <- nrow(X)\n",
    "  \n",
    "  # get p\n",
    "  p <- ncol(X)\n",
    "  \n",
    "  # sample mean vector\n",
    "  xbar <- colMeans(X)\n",
    "  \n",
    "  # get covariance matrix\n",
    "  S <- cov(X)\n",
    "  \n",
    "  # get critical value\n",
    "  critValue <- sqrt(\n",
    "    (n-1)*p/(n-p) * qf(alpha, df1 = p, df2 = n-p, lower.tail = F)\n",
    "  )\n",
    "  \n",
    "  CI <- c()\n",
    "  \n",
    "  for(i in 1 : p){\n",
    "    \n",
    "    ## get standard error\n",
    "    standardError <- sqrt(S[i, i] / n)\n",
    "    \n",
    "    Upper <- xbar[i] +  critValue*standardError\n",
    "    Lower <- xbar[i] -  critValue*standardError\n",
    "    \n",
    "    CI <- rbind(CI, c(colnames(X)[i], Lower, Upper))\n",
    "  }\n",
    "  \n",
    "  CI <- as.data.frame(CI)\n",
    "  colnames(CI) <- c(\"Variable\", \"Lower_Hotelling\", \"Upper_Hotelling\")\n",
    "  \n",
    "  return(CI)\n",
    "} \n",
    "\n",
    "kable(Hotelling(data_log_dif, 0.05))"
   ]
  },
  {
   "cell_type": "markdown",
   "id": "a0673f49",
   "metadata": {
    "hidden": true
   },
   "source": [
    "Berdasarkan selang kepercayaan 95% simultan Hotelling, diperoleh hasil yang tidak konsisten terhadap pengujian sebelumnya, yaitu kedua selang kepercayaan marginal mengandung nilai 0, yang mengimplikasikan kegagalan dalam menolak $H_0$."
   ]
  },
  {
   "cell_type": "markdown",
   "id": "1ec159fe",
   "metadata": {
    "heading_collapsed": true
   },
   "source": [
    "#### 95% Bonferroni Simultaneous Confidence Interval"
   ]
  },
  {
   "cell_type": "code",
   "execution_count": 66,
   "id": "9bc84ea7",
   "metadata": {
    "ExecuteTime": {
     "end_time": "2022-04-10T17:14:45.013727Z",
     "start_time": "2022-04-10T17:14:44.992Z"
    },
    "hidden": true
   },
   "outputs": [
    {
     "data": {
      "text/plain": [
       "\n",
       "\n",
       "|Variable |Lower_Bonferroni   |Upper_Bonferroni    |\n",
       "|:--------|:------------------|:-------------------|\n",
       "|dLogBOD  |0.189138222545918  |0.927252043310832   |\n",
       "|dLogSS   |-0.529856644511517 |-0.0611999298685445 |"
      ]
     },
     "metadata": {},
     "output_type": "display_data"
    }
   ],
   "source": [
    "kable(bonferroni(data_log_dif, 0.05))"
   ]
  },
  {
   "cell_type": "markdown",
   "id": "64b9c71f",
   "metadata": {
    "hidden": true
   },
   "source": [
    "Selang kepercayaan 95% bonferroni yang diperoleh menunjukkan indikasi keberhasilan penolakan $H_0$, karena semua selang kepercayaan marginal tidak mengandung 0."
   ]
  },
  {
   "cell_type": "markdown",
   "id": "516c9280",
   "metadata": {
    "heading_collapsed": true
   },
   "source": [
    "#### Uji Asumsi Multivariat Normal"
   ]
  },
  {
   "cell_type": "code",
   "execution_count": 67,
   "id": "68b1b67b",
   "metadata": {
    "ExecuteTime": {
     "end_time": "2022-04-10T17:15:28.481513Z",
     "start_time": "2022-04-10T17:15:28.108Z"
    },
    "hidden": true
   },
   "outputs": [
    {
     "data": {
      "text/plain": [
       "\n",
       "\n",
       "|Test             |Statistic         |P_Value           |\n",
       "|:----------------|:-----------------|:-----------------|\n",
       "|Mardia Skewness  |1.13687663334458  |0.888378049549112 |\n",
       "|Mardia Kurtosis  |-1.20311931548243 |0.228930151787021 |\n",
       "|MVN              |NA                |NA                |\n",
       "|Henze-Zirkler    |0.480516922623781 |0.170170326252165 |\n",
       "|Royston          |1.8736945406471   |0.390899123547721 |\n",
       "|Doornik-Hansen   |5.45676200287854  |0.24355635889306  |\n",
       "|E-statistic      |0.737548720965071 |0.213             |\n",
       "|Mvt Shapiro-Wilk |0.987342927704304 |0.993467290158848 |"
      ]
     },
     "metadata": {},
     "output_type": "display_data"
    }
   ],
   "source": [
    "mvtNormalityTest <- function(X){\n",
    "  \n",
    "  # list of test that will be performed\n",
    "  testList <- c(\"mardia\", \"hz\", \"royston\", \"dh\", \"energy\")\n",
    "  \n",
    "  # initialize result dataframe\n",
    "  result <- c()\n",
    "  \n",
    "  for(i in 1 : length(testList)){\n",
    "    tempMvnObj <- mvn(X, mvnTest=testList[i])\n",
    "    tempResult <- tempMvnObj[[1]] \n",
    "    \n",
    "    # drop third column\n",
    "    if(i == 4){\n",
    "      tempResult <- tempResult[ , -3]\n",
    "    }\n",
    "    \n",
    "    # drop \"result\" column\n",
    "    tempResult <- tempResult[, -4]\n",
    "    \n",
    "    # convert to numeric\n",
    "    tempResult[2] <- as.numeric(as.character(tempResult[[2]]))\n",
    "    tempResult[3] <- as.numeric(as.character(tempResult[[3]]))\n",
    "    \n",
    "    colnames(tempResult) <- c(\"Test\", \"Statistic\", \"P_Value\")\n",
    "    \n",
    "    result <- rbind(result, tempResult)\n",
    "  }\n",
    "  \n",
    "  # also do shapiro test\n",
    "  library(RVAideMemoire)\n",
    "  tempResult <- c(\"Mvt Shapiro-Wilk\", mshapiro.test(X)$statistic\n",
    "                  , mshapiro.test(X)$p.value)\n",
    "  result <- rbind(result, tempResult)\n",
    "  \n",
    "  return(result)\n",
    "  \n",
    "} \n",
    "\n",
    "kable(mvtNormalityTest(data_log_dif))"
   ]
  },
  {
   "cell_type": "markdown",
   "id": "6f4a8813",
   "metadata": {
    "hidden": true
   },
   "source": [
    "Berdasarkan hasil pengujian diatas, untuk taraf uji 5%, tidak ada indikasi pelanggaran asumsi multivariat normal pada data selisih transformasi log."
   ]
  },
  {
   "cell_type": "markdown",
   "id": "0be0a6ac",
   "metadata": {},
   "source": [
    "## Repeated Comparison"
   ]
  },
  {
   "cell_type": "markdown",
   "id": "fc75b937",
   "metadata": {
    "heading_collapsed": true
   },
   "source": [
    "### Load Data"
   ]
  },
  {
   "cell_type": "code",
   "execution_count": 70,
   "id": "0f070ccf",
   "metadata": {
    "ExecuteTime": {
     "end_time": "2022-04-10T17:22:51.295764Z",
     "start_time": "2022-04-10T17:22:51.254Z"
    },
    "hidden": true,
    "scrolled": true
   },
   "outputs": [
    {
     "data": {
      "text/html": [
       "<table class=\"dataframe\">\n",
       "<caption>A data.frame: 32 × 4</caption>\n",
       "<thead>\n",
       "\t<tr><th scope=col>WordDiff</th><th scope=col>WordSame</th><th scope=col>ArabicDiff</th><th scope=col>ArabicSame</th></tr>\n",
       "\t<tr><th scope=col>&lt;dbl&gt;</th><th scope=col>&lt;dbl&gt;</th><th scope=col>&lt;dbl&gt;</th><th scope=col>&lt;dbl&gt;</th></tr>\n",
       "</thead>\n",
       "<tbody>\n",
       "\t<tr><td> 869.0</td><td> 860.5</td><td> 691.0</td><td>601.0</td></tr>\n",
       "\t<tr><td> 995.0</td><td> 875.0</td><td> 678.0</td><td>659.0</td></tr>\n",
       "\t<tr><td>1056.0</td><td> 930.5</td><td> 833.0</td><td>826.0</td></tr>\n",
       "\t<tr><td>1126.0</td><td> 954.0</td><td> 888.0</td><td>728.0</td></tr>\n",
       "\t<tr><td>1044.0</td><td> 909.0</td><td> 865.0</td><td>839.0</td></tr>\n",
       "\t<tr><td> 925.0</td><td> 856.5</td><td>1059.5</td><td>797.0</td></tr>\n",
       "\t<tr><td>1172.5</td><td> 896.5</td><td> 926.0</td><td>766.0</td></tr>\n",
       "\t<tr><td>1408.5</td><td>1311.0</td><td> 854.0</td><td>986.0</td></tr>\n",
       "\t<tr><td>1028.0</td><td> 887.0</td><td> 915.0</td><td>735.0</td></tr>\n",
       "\t<tr><td>1011.0</td><td> 863.0</td><td> 761.0</td><td>657.0</td></tr>\n",
       "\t<tr><td> 726.0</td><td> 674.0</td><td> 663.0</td><td>583.0</td></tr>\n",
       "\t<tr><td> 982.0</td><td> 894.0</td><td> 831.0</td><td>640.0</td></tr>\n",
       "\t<tr><td>1225.0</td><td>1179.0</td><td>1037.0</td><td>905.5</td></tr>\n",
       "\t<tr><td> 731.0</td><td> 662.0</td><td> 662.5</td><td>624.0</td></tr>\n",
       "\t<tr><td> 975.5</td><td> 872.5</td><td> 814.0</td><td>735.0</td></tr>\n",
       "\t<tr><td>1130.5</td><td> 811.0</td><td> 843.0</td><td>657.0</td></tr>\n",
       "\t<tr><td> 945.0</td><td> 909.0</td><td> 867.5</td><td>754.0</td></tr>\n",
       "\t<tr><td> 747.0</td><td> 752.5</td><td> 777.0</td><td>687.5</td></tr>\n",
       "\t<tr><td> 656.5</td><td> 659.5</td><td> 572.0</td><td>539.0</td></tr>\n",
       "\t<tr><td> 919.0</td><td> 833.0</td><td> 752.0</td><td>611.0</td></tr>\n",
       "\t<tr><td> 751.0</td><td> 744.0</td><td> 683.0</td><td>553.0</td></tr>\n",
       "\t<tr><td> 774.0</td><td> 735.0</td><td> 671.0</td><td>612.0</td></tr>\n",
       "\t<tr><td> 941.0</td><td> 931.0</td><td> 901.5</td><td>700.0</td></tr>\n",
       "\t<tr><td> 751.0</td><td> 785.0</td><td> 789.0</td><td>735.0</td></tr>\n",
       "\t<tr><td> 767.0</td><td> 737.5</td><td> 724.0</td><td>639.0</td></tr>\n",
       "\t<tr><td> 813.5</td><td> 750.5</td><td> 711.0</td><td>625.0</td></tr>\n",
       "\t<tr><td>1289.5</td><td>1140.0</td><td> 904.5</td><td>784.5</td></tr>\n",
       "\t<tr><td>1096.5</td><td>1009.0</td><td>1076.0</td><td>983.0</td></tr>\n",
       "\t<tr><td>1083.0</td><td> 958.0</td><td> 918.0</td><td>746.5</td></tr>\n",
       "\t<tr><td>1114.0</td><td>1046.0</td><td>1081.0</td><td>796.0</td></tr>\n",
       "\t<tr><td> 708.0</td><td> 669.0</td><td> 657.0</td><td>572.5</td></tr>\n",
       "\t<tr><td>1201.0</td><td> 925.0</td><td>1004.5</td><td>673.5</td></tr>\n",
       "</tbody>\n",
       "</table>\n"
      ],
      "text/latex": [
       "A data.frame: 32 × 4\n",
       "\\begin{tabular}{llll}\n",
       " WordDiff & WordSame & ArabicDiff & ArabicSame\\\\\n",
       " <dbl> & <dbl> & <dbl> & <dbl>\\\\\n",
       "\\hline\n",
       "\t  869.0 &  860.5 &  691.0 & 601.0\\\\\n",
       "\t  995.0 &  875.0 &  678.0 & 659.0\\\\\n",
       "\t 1056.0 &  930.5 &  833.0 & 826.0\\\\\n",
       "\t 1126.0 &  954.0 &  888.0 & 728.0\\\\\n",
       "\t 1044.0 &  909.0 &  865.0 & 839.0\\\\\n",
       "\t  925.0 &  856.5 & 1059.5 & 797.0\\\\\n",
       "\t 1172.5 &  896.5 &  926.0 & 766.0\\\\\n",
       "\t 1408.5 & 1311.0 &  854.0 & 986.0\\\\\n",
       "\t 1028.0 &  887.0 &  915.0 & 735.0\\\\\n",
       "\t 1011.0 &  863.0 &  761.0 & 657.0\\\\\n",
       "\t  726.0 &  674.0 &  663.0 & 583.0\\\\\n",
       "\t  982.0 &  894.0 &  831.0 & 640.0\\\\\n",
       "\t 1225.0 & 1179.0 & 1037.0 & 905.5\\\\\n",
       "\t  731.0 &  662.0 &  662.5 & 624.0\\\\\n",
       "\t  975.5 &  872.5 &  814.0 & 735.0\\\\\n",
       "\t 1130.5 &  811.0 &  843.0 & 657.0\\\\\n",
       "\t  945.0 &  909.0 &  867.5 & 754.0\\\\\n",
       "\t  747.0 &  752.5 &  777.0 & 687.5\\\\\n",
       "\t  656.5 &  659.5 &  572.0 & 539.0\\\\\n",
       "\t  919.0 &  833.0 &  752.0 & 611.0\\\\\n",
       "\t  751.0 &  744.0 &  683.0 & 553.0\\\\\n",
       "\t  774.0 &  735.0 &  671.0 & 612.0\\\\\n",
       "\t  941.0 &  931.0 &  901.5 & 700.0\\\\\n",
       "\t  751.0 &  785.0 &  789.0 & 735.0\\\\\n",
       "\t  767.0 &  737.5 &  724.0 & 639.0\\\\\n",
       "\t  813.5 &  750.5 &  711.0 & 625.0\\\\\n",
       "\t 1289.5 & 1140.0 &  904.5 & 784.5\\\\\n",
       "\t 1096.5 & 1009.0 & 1076.0 & 983.0\\\\\n",
       "\t 1083.0 &  958.0 &  918.0 & 746.5\\\\\n",
       "\t 1114.0 & 1046.0 & 1081.0 & 796.0\\\\\n",
       "\t  708.0 &  669.0 &  657.0 & 572.5\\\\\n",
       "\t 1201.0 &  925.0 & 1004.5 & 673.5\\\\\n",
       "\\end{tabular}\n"
      ],
      "text/markdown": [
       "\n",
       "A data.frame: 32 × 4\n",
       "\n",
       "| WordDiff &lt;dbl&gt; | WordSame &lt;dbl&gt; | ArabicDiff &lt;dbl&gt; | ArabicSame &lt;dbl&gt; |\n",
       "|---|---|---|---|\n",
       "|  869.0 |  860.5 |  691.0 | 601.0 |\n",
       "|  995.0 |  875.0 |  678.0 | 659.0 |\n",
       "| 1056.0 |  930.5 |  833.0 | 826.0 |\n",
       "| 1126.0 |  954.0 |  888.0 | 728.0 |\n",
       "| 1044.0 |  909.0 |  865.0 | 839.0 |\n",
       "|  925.0 |  856.5 | 1059.5 | 797.0 |\n",
       "| 1172.5 |  896.5 |  926.0 | 766.0 |\n",
       "| 1408.5 | 1311.0 |  854.0 | 986.0 |\n",
       "| 1028.0 |  887.0 |  915.0 | 735.0 |\n",
       "| 1011.0 |  863.0 |  761.0 | 657.0 |\n",
       "|  726.0 |  674.0 |  663.0 | 583.0 |\n",
       "|  982.0 |  894.0 |  831.0 | 640.0 |\n",
       "| 1225.0 | 1179.0 | 1037.0 | 905.5 |\n",
       "|  731.0 |  662.0 |  662.5 | 624.0 |\n",
       "|  975.5 |  872.5 |  814.0 | 735.0 |\n",
       "| 1130.5 |  811.0 |  843.0 | 657.0 |\n",
       "|  945.0 |  909.0 |  867.5 | 754.0 |\n",
       "|  747.0 |  752.5 |  777.0 | 687.5 |\n",
       "|  656.5 |  659.5 |  572.0 | 539.0 |\n",
       "|  919.0 |  833.0 |  752.0 | 611.0 |\n",
       "|  751.0 |  744.0 |  683.0 | 553.0 |\n",
       "|  774.0 |  735.0 |  671.0 | 612.0 |\n",
       "|  941.0 |  931.0 |  901.5 | 700.0 |\n",
       "|  751.0 |  785.0 |  789.0 | 735.0 |\n",
       "|  767.0 |  737.5 |  724.0 | 639.0 |\n",
       "|  813.5 |  750.5 |  711.0 | 625.0 |\n",
       "| 1289.5 | 1140.0 |  904.5 | 784.5 |\n",
       "| 1096.5 | 1009.0 | 1076.0 | 983.0 |\n",
       "| 1083.0 |  958.0 |  918.0 | 746.5 |\n",
       "| 1114.0 | 1046.0 | 1081.0 | 796.0 |\n",
       "|  708.0 |  669.0 |  657.0 | 572.5 |\n",
       "| 1201.0 |  925.0 | 1004.5 | 673.5 |\n",
       "\n"
      ],
      "text/plain": [
       "   WordDiff WordSame ArabicDiff ArabicSame\n",
       "1   869.0    860.5    691.0     601.0     \n",
       "2   995.0    875.0    678.0     659.0     \n",
       "3  1056.0    930.5    833.0     826.0     \n",
       "4  1126.0    954.0    888.0     728.0     \n",
       "5  1044.0    909.0    865.0     839.0     \n",
       "6   925.0    856.5   1059.5     797.0     \n",
       "7  1172.5    896.5    926.0     766.0     \n",
       "8  1408.5   1311.0    854.0     986.0     \n",
       "9  1028.0    887.0    915.0     735.0     \n",
       "10 1011.0    863.0    761.0     657.0     \n",
       "11  726.0    674.0    663.0     583.0     \n",
       "12  982.0    894.0    831.0     640.0     \n",
       "13 1225.0   1179.0   1037.0     905.5     \n",
       "14  731.0    662.0    662.5     624.0     \n",
       "15  975.5    872.5    814.0     735.0     \n",
       "16 1130.5    811.0    843.0     657.0     \n",
       "17  945.0    909.0    867.5     754.0     \n",
       "18  747.0    752.5    777.0     687.5     \n",
       "19  656.5    659.5    572.0     539.0     \n",
       "20  919.0    833.0    752.0     611.0     \n",
       "21  751.0    744.0    683.0     553.0     \n",
       "22  774.0    735.0    671.0     612.0     \n",
       "23  941.0    931.0    901.5     700.0     \n",
       "24  751.0    785.0    789.0     735.0     \n",
       "25  767.0    737.5    724.0     639.0     \n",
       "26  813.5    750.5    711.0     625.0     \n",
       "27 1289.5   1140.0    904.5     784.5     \n",
       "28 1096.5   1009.0   1076.0     983.0     \n",
       "29 1083.0    958.0    918.0     746.5     \n",
       "30 1114.0   1046.0   1081.0     796.0     \n",
       "31  708.0    669.0    657.0     572.5     \n",
       "32 1201.0    925.0   1004.5     673.5     "
      ]
     },
     "metadata": {},
     "output_type": "display_data"
    }
   ],
   "source": [
    "# manually 1.0\n",
    "\n",
    "data <- data.frame(\n",
    "  WordDiff = c(869,995,1056,1126,1044,925,1172.5,1408.5,1028,1011,726,982,1225,731,975.5,1130.5,945,747,656.5,919,751,774,941,751,767,813.5,1289.5,1096.5,1083,1114,708,1201)\n",
    "  , WordSame = c(860.5,875,930.5,954,909,856.5,896.5,1311,887,863,674,894,1179,662,872.5,811,909,752.5,659.5,833,744,735,931,785,737.5,750.5,1140,1009,958,1046,669,925)\n",
    "  , ArabicDiff = c(691,678,833,888,865,1059.5,926,854,915,761,663,831,1037,662.5,814,843,867.5,777,572,752,683,671,901.5,789,724,711,904.5,1076,918,1081,657,1004.5)\n",
    "  , ArabicSame = c(601,659,826,728,839,797,766,986,735,657,583,640,905.5,624,735,657,754,687.5,539,611,553,612,700,735,639,625,784.5,983,746.5,796,572.5,673.5)\n",
    ")\n",
    "data"
   ]
  },
  {
   "cell_type": "markdown",
   "id": "7ed4bd90",
   "metadata": {
    "heading_collapsed": true
   },
   "source": [
    "### Hipotesis"
   ]
  },
  {
   "cell_type": "markdown",
   "id": "4ffc4bb1",
   "metadata": {
    "ExecuteTime": {
     "end_time": "2022-04-10T17:23:36.139496Z",
     "start_time": "2022-04-10T17:23:36.120Z"
    },
    "hidden": true
   },
   "source": [
    "$$\n",
    "H_0 : C\\vec{\\mu}  =\\vec0 \\\\\n",
    "H_1 : C\\vec{\\mu}  \\neq\\vec0 \\\\\n",
    "\\alpha = 0.05\n",
    "$$"
   ]
  },
  {
   "cell_type": "markdown",
   "id": "2a67ad82",
   "metadata": {
    "hidden": true
   },
   "source": [
    "dimana matriks kontras yang digunakan antara lain :\n",
    "\n",
    "$$\n",
    "C = \\begin{bmatrix} \n",
    "    -1 & -1 & 1 & 1 \\\\\n",
    "    -1 & 1 & -1 & 1\\\\\n",
    "    -1 & 1 & 1 & -1 \\\\\n",
    "    \\end{bmatrix}\n",
    "$$"
   ]
  },
  {
   "cell_type": "markdown",
   "id": "323e9072",
   "metadata": {
    "ExecuteTime": {
     "end_time": "2022-04-10T17:24:08.881997Z",
     "start_time": "2022-04-10T17:24:08.863Z"
    },
    "hidden": true
   },
   "source": [
    "sehingga\n",
    "\n",
    "$$\n",
    "C\\vec{\\mu} = \\begin{bmatrix} \n",
    "    \\mu_3+\\mu_4-(\\mu_1+\\mu_2)\\\\\n",
    "    \\mu_2+\\mu_4-(\\mu_1+\\mu_3)\\\\\n",
    "    \\mu_2+\\mu_3-(\\mu_1+\\mu_4) \\\\\n",
    "    \\end{bmatrix}\n",
    "$$"
   ]
  },
  {
   "cell_type": "markdown",
   "id": "3af92377",
   "metadata": {
    "heading_collapsed": true
   },
   "source": [
    "### Statistik Uji"
   ]
  },
  {
   "cell_type": "markdown",
   "id": "9b8becca",
   "metadata": {
    "hidden": true
   },
   "source": [
    "$$\n",
    "T^2 = n(C\\vec{\\bar{x}})'(CSC')^{-1}(C\\vec{\\bar{x}})\n",
    "$$\n",
    "dimana\n",
    "$$\n",
    "T^2 \\sim \\frac{(n-1)(q-1)}{n-q+1}F(q-1, n-q+1)\\\n",
    "$$"
   ]
  },
  {
   "cell_type": "markdown",
   "id": "88031fd6",
   "metadata": {
    "ExecuteTime": {
     "end_time": "2022-04-10T17:25:39.039757Z",
     "start_time": "2022-04-10T17:25:39.014Z"
    },
    "hidden": true
   },
   "source": [
    "Tolak $H_0$ apabila\n",
    "\n",
    "$$\n",
    "T^2 > \\frac{(n-1)(q-1)}{n-q+1}F(q-1, n-q+1);\\alpha = 9.409\n",
    "$$\n",
    "atau\n",
    "$$\n",
    "p-value = P[T^2 >T^2_{obs}] < \\alpha = 0.05\n",
    "$$"
   ]
  },
  {
   "cell_type": "markdown",
   "id": "3d594693",
   "metadata": {
    "heading_collapsed": true
   },
   "source": [
    "### Asumsi dan Uji Asumsi"
   ]
  },
  {
   "cell_type": "code",
   "execution_count": 74,
   "id": "10d54e22",
   "metadata": {
    "ExecuteTime": {
     "end_time": "2022-04-10T17:26:11.760366Z",
     "start_time": "2022-04-10T17:26:11.340Z"
    },
    "hidden": true
   },
   "outputs": [
    {
     "data": {
      "text/plain": [
       "\n",
       "\n",
       "|Test             |Statistic         |P_Value              |\n",
       "|:----------------|:-----------------|:--------------------|\n",
       "|Mardia Skewness  |47.5946878840532  |0.000484768020890908 |\n",
       "|Mardia Kurtosis  |1.790283277526    |0.0734083831850934   |\n",
       "|MVN              |NA                |NA                   |\n",
       "|Henze-Zirkler    |1.12535431396631  |0.00119933008148232  |\n",
       "|Royston          |6.46307751208481  |0.096088145548001    |\n",
       "|Doornik-Hansen   |22.2473586238374  |0.00447766745347918  |\n",
       "|E-statistic      |1.50110662841682  |0                    |\n",
       "|Mvt Shapiro-Wilk |0.801637325997634 |4.37557493339743e-05 |"
      ]
     },
     "metadata": {},
     "output_type": "display_data"
    }
   ],
   "source": [
    "kable(mvtNormalityTest(data))"
   ]
  },
  {
   "cell_type": "code",
   "execution_count": 75,
   "id": "b774edf0",
   "metadata": {
    "ExecuteTime": {
     "end_time": "2022-04-10T17:26:25.500152Z",
     "start_time": "2022-04-10T17:26:25.448Z"
    },
    "hidden": true
   },
   "outputs": [
    {
     "data": {
      "text/plain": [
       "\n",
       "\n",
       "| Hotelling_Stat| alpha| Critical_Value| df1| df2| P_Value|\n",
       "|--------------:|-----:|--------------:|---:|---:|-------:|\n",
       "|       153.7275|  0.05|        9.40913|   3|  29|       0|"
      ]
     },
     "metadata": {},
     "output_type": "display_data"
    }
   ],
   "source": [
    "repeatedMeasureTest <- function(X, C, alpha){\n",
    "  X <- as.matrix(X)\n",
    "  \n",
    "  # get number of obs and number of var\n",
    "  n <- nrow(X)\n",
    "  q <- ncol(X)\n",
    "  \n",
    "  # dof\n",
    "  df1 <- q-1\n",
    "  df2 <- n-df1\n",
    "  \n",
    "  # check if df2 < 1L\n",
    "  if(df2 < 1L) stop(\"Need nrow(X) > ncol(X)\")\n",
    "  \n",
    "  # get sample mean vector\n",
    "  Xbar <- colMeans(X)\n",
    "  \n",
    "  # get covariance matrix\n",
    "  S <- cov(X)\n",
    "  \n",
    "  # get T-statistic\n",
    "  T_statistic <- n * t(C%*%Xbar) %*%\n",
    "                solve(C%*%S%*%t(C)) %*%\n",
    "                C%*%Xbar\n",
    "  \n",
    "  # get p_value\n",
    "  p_val <- pf(\n",
    "    T_statistic/((n-1)*df1/df2)\n",
    "    , df1, df2\n",
    "    , lower.tail = FALSE\n",
    "    )\n",
    "  \n",
    "  # get critical value\n",
    "  critValue <- (n-1)*df1/df2*qf(alpha, df1, df2, lower.tail=F)\n",
    "  \n",
    "  # output table\n",
    "  tabel <- data.frame(\n",
    "    Hotelling_Stat = T_statistic\n",
    "    , alpha = alpha\n",
    "    , Critical_Value = critValue\n",
    "    , df1 = df1\n",
    "    , df2 = df2\n",
    "    , P_Value = p_val\n",
    "  )\n",
    "  \n",
    "  return(tabel)\n",
    "}\n",
    "\n",
    "# contrast matrix \n",
    "C <- matrix(c(\n",
    "  -1, -1, 1, 1\n",
    "  , -1, 1, -1, 1\n",
    "  , -1, 1, 1, -1\n",
    "), byrow=T, ncol=4)\n",
    "\n",
    "kable(repeatedMeasureTest(data, C, 0.05))"
   ]
  },
  {
   "cell_type": "markdown",
   "id": "736a8adb",
   "metadata": {
    "hidden": true
   },
   "source": [
    "Berdasarkan hasil pengujian diatas terlihat bahwa nilai statistik uji Hotelling's T jauh lebih besar daripada titik kritis daerah penolakan $H_0$ (atau menggunakan pendekatan p-value, $p-value \\sim 0$), sehingga kita akan menolak $H_0 : C\\vec \\mu=0$ (tidak ada efek perlakuan).\n",
    "\n",
    "Dengan demikian untuk taraf signifikansi 5% terdapat perbedaan median waktu reaksi subjek penelitian dalam mengenali apakah dua bilangan memiliki tipe paritas yang sama berdasarkan perlakuan yang diberikan. Dalam artian lain, setidaknya salah satu dari faktor **Tipe Paritas, Format Bilangan**, ataupun **Interaksi Keduanya**, memiliki efek yang signifikan untuk taraf 5% terhadap median waktu reaksi setiap subjek."
   ]
  },
  {
   "cell_type": "markdown",
   "id": "fe4ec5f8",
   "metadata": {},
   "source": [
    "### 95% Simultaneous Confidence Interval for Contrast"
   ]
  },
  {
   "cell_type": "markdown",
   "id": "28c67ac7",
   "metadata": {
    "heading_collapsed": true
   },
   "source": [
    "#### Define function"
   ]
  },
  {
   "cell_type": "code",
   "execution_count": null,
   "id": "54515063",
   "metadata": {
    "hidden": true
   },
   "outputs": [],
   "source": [
    "t.univ <- function(X, alpha, C){\n",
    "  \n",
    "    C <- as.matrix(C)\n",
    "    n <- nrow(X)\n",
    "    q <- ncol(X)\n",
    "    xbar <- colMeans(X)\n",
    "    S <- cov(X)\n",
    "    critValue <- qt(alpha/2, df = n-1, lower.tail=F)\n",
    "    \n",
    "    CI <- c()\n",
    "    \n",
    "    for(i in 1 : (q-1)){\n",
    "      \n",
    "      ## get contrast vector\n",
    "      c <- C[i, ]\n",
    "      \n",
    "      standardError <- sqrt( t(c) %*% S %*% c /n  )\n",
    "      \n",
    "      Upper <- t(c)%*%xbar +  critValue*standardError\n",
    "      Lower <- t(c)%*%xbar -  critValue*standardError\n",
    "      \n",
    "      CI <- rbind(CI, c(colnames(X)[i], Lower, Upper))\n",
    "    }\n",
    "    \n",
    "    CI <- as.data.frame(CI)\n",
    "    colnames(CI) <- c(\"Variable\", \"Lower_t\", \"Upper_t\")\n",
    "    \n",
    "    return(CI)\n",
    "  }\n",
    "\n",
    "Hotelling <- function(X, alpha, C){\n",
    "    \n",
    "    n <- nrow(X)\n",
    "    q <- ncol(X)\n",
    "    df1 <- q-1\n",
    "    df2 <- n-df1\n",
    "    xbar <- colMeans(X)\n",
    "    S <- cov(X)\n",
    "    critValue <- sqrt((n-1)*df1/df2 * qf(alpha, df1 = df1, df2 = df2, lower.tail = F))\n",
    "    \n",
    "    CI <- c()\n",
    "    \n",
    "    for(i in 1 : df1){\n",
    "      \n",
    "      ## get contrast vector\n",
    "      c <- C[i, , drop = T]\n",
    "      standardError <- sqrt(t(c)%*%S%*%c/n)\n",
    "      \n",
    "      Upper <- t(c)%*%xbar +  critValue*standardError\n",
    "      Lower <- t(c)%*%xbar -  critValue*standardError\n",
    "      \n",
    "      CI <- rbind(CI, c(colnames(X)[i], Lower, Upper))\n",
    "    }\n",
    "    \n",
    "    CI <- as.data.frame(CI)\n",
    "    colnames(CI) <- c(\"Variable\", \"Lower_Hotelling\", \"Upper_Hotelling\")\n",
    "    \n",
    "    return(CI)\n",
    "} \n",
    "\n",
    " bonferroni <- function(X, alpha, C){\n",
    "    n <- nrow(X)\n",
    "    q <- ncol(X)\n",
    "    df1 <- q-1\n",
    "    df2 <- n-df1\n",
    "    xbar <- colMeans(X)\n",
    "    S <- cov(X)\n",
    "    critValue <- qt(alpha/ 2*df1, df=n-1, lower.tail=F)\n",
    "    \n",
    "    CI <- c()\n",
    "    \n",
    "    for(i in 1 : df1){\n",
    "      # get contrast vector\n",
    "      c <- C[i, , drop = T]\n",
    "      standardError <- sqrt(t(c)%*%S%*%c/n)\n",
    "      \n",
    "      Upper <- t(c)%*%xbar +  critValue*standardError\n",
    "      Lower <- t(c)%*%xbar -  critValue*standardError\n",
    "      \n",
    "      CI <- rbind(CI, c(colnames(X)[i], Lower, Upper))\n",
    "    }\n",
    "    \n",
    "    CI <- as.data.frame(CI)\n",
    "    colnames(CI) <- c(\"Variable\", \"Lower_Bonferroni\", \"Upper_Bonferroni\")\n",
    "    return(CI)\n",
    " }"
   ]
  },
  {
   "cell_type": "markdown",
   "id": "4ad0925b",
   "metadata": {
    "heading_collapsed": true
   },
   "source": [
    "#### result"
   ]
  },
  {
   "cell_type": "code",
   "execution_count": 77,
   "id": "f418f6d8",
   "metadata": {
    "ExecuteTime": {
     "end_time": "2022-04-10T17:27:07.539848Z",
     "start_time": "2022-04-10T17:27:07.438Z"
    },
    "hidden": true
   },
   "outputs": [
    {
     "data": {
      "text/html": [
       "<table class=\"dataframe\">\n",
       "<caption>A data.frame: 3 × 7</caption>\n",
       "<thead>\n",
       "\t<tr><th scope=col>Variable</th><th scope=col>Lower_t</th><th scope=col>Upper_t</th><th scope=col>Lower_Hotelling</th><th scope=col>Upper_Hotelling</th><th scope=col>Lower_Bonferroni</th><th scope=col>Upper_Bonferroni</th></tr>\n",
       "\t<tr><th scope=col>&lt;chr&gt;</th><th scope=col>&lt;chr&gt;</th><th scope=col>&lt;chr&gt;</th><th scope=col>&lt;chr&gt;</th><th scope=col>&lt;chr&gt;</th><th scope=col>&lt;chr&gt;</th><th scope=col>&lt;chr&gt;</th></tr>\n",
       "</thead>\n",
       "<tbody>\n",
       "\t<tr><td>Efek Utama Format </td><td>-379.271882634515</td><td>-234.571867365485</td><td>-415.736369923541</td><td>-198.107380076459</td><td>-359.285735529737</td><td>-254.558014470263</td></tr>\n",
       "\t<tr><td>Efek Utama Paritas</td><td>-256.774498532909</td><td>-155.881751467091</td><td>-282.199528973275</td><td>-130.456721026725</td><td>-242.839066108016</td><td>-169.817183891984</td></tr>\n",
       "\t<tr><td>Efek Interaksi    </td><td>-13.6451998943559</td><td>58.4889498943559 </td><td>-31.8230472372518</td><td>76.6667972372518 </td><td>-3.68194089763165</td><td>48.5256908976316 </td></tr>\n",
       "</tbody>\n",
       "</table>\n"
      ],
      "text/latex": [
       "A data.frame: 3 × 7\n",
       "\\begin{tabular}{lllllll}\n",
       " Variable & Lower\\_t & Upper\\_t & Lower\\_Hotelling & Upper\\_Hotelling & Lower\\_Bonferroni & Upper\\_Bonferroni\\\\\n",
       " <chr> & <chr> & <chr> & <chr> & <chr> & <chr> & <chr>\\\\\n",
       "\\hline\n",
       "\t Efek Utama Format  & -379.271882634515 & -234.571867365485 & -415.736369923541 & -198.107380076459 & -359.285735529737 & -254.558014470263\\\\\n",
       "\t Efek Utama Paritas & -256.774498532909 & -155.881751467091 & -282.199528973275 & -130.456721026725 & -242.839066108016 & -169.817183891984\\\\\n",
       "\t Efek Interaksi     & -13.6451998943559 & 58.4889498943559  & -31.8230472372518 & 76.6667972372518  & -3.68194089763165 & 48.5256908976316 \\\\\n",
       "\\end{tabular}\n"
      ],
      "text/markdown": [
       "\n",
       "A data.frame: 3 × 7\n",
       "\n",
       "| Variable &lt;chr&gt; | Lower_t &lt;chr&gt; | Upper_t &lt;chr&gt; | Lower_Hotelling &lt;chr&gt; | Upper_Hotelling &lt;chr&gt; | Lower_Bonferroni &lt;chr&gt; | Upper_Bonferroni &lt;chr&gt; |\n",
       "|---|---|---|---|---|---|---|\n",
       "| Efek Utama Format  | -379.271882634515 | -234.571867365485 | -415.736369923541 | -198.107380076459 | -359.285735529737 | -254.558014470263 |\n",
       "| Efek Utama Paritas | -256.774498532909 | -155.881751467091 | -282.199528973275 | -130.456721026725 | -242.839066108016 | -169.817183891984 |\n",
       "| Efek Interaksi     | -13.6451998943559 | 58.4889498943559  | -31.8230472372518 | 76.6667972372518  | -3.68194089763165 | 48.5256908976316  |\n",
       "\n"
      ],
      "text/plain": [
       "  Variable           Lower_t           Upper_t           Lower_Hotelling  \n",
       "1 Efek Utama Format  -379.271882634515 -234.571867365485 -415.736369923541\n",
       "2 Efek Utama Paritas -256.774498532909 -155.881751467091 -282.199528973275\n",
       "3 Efek Interaksi     -13.6451998943559 58.4889498943559  -31.8230472372518\n",
       "  Upper_Hotelling   Lower_Bonferroni  Upper_Bonferroni \n",
       "1 -198.107380076459 -359.285735529737 -254.558014470263\n",
       "2 -130.456721026725 -242.839066108016 -169.817183891984\n",
       "3 76.6667972372518  -3.68194089763165 48.5256908976316 "
      ]
     },
     "metadata": {},
     "output_type": "display_data"
    }
   ],
   "source": [
    "repeatedMeasurementSimultCI <- function(X, alpha, C, contrastName){ \n",
    "  result <- t.univ(X, alpha, C)\n",
    "  result <- cbind(result, Hotelling(X, alpha, C)[-1])\n",
    "  result <- cbind(result, bonferroni(X, alpha, C)[-1])\n",
    "  result$Variable <- contrastName\n",
    "  return(result)\n",
    "} \n",
    "\n",
    "namaKontras <- c(\"Efek Utama Format\", \"Efek Utama Paritas\", \"Efek Interaksi\")\n",
    "\n",
    "repeatedMeasurementSimultCI(data, 0.05, C, namaKontras)"
   ]
  },
  {
   "cell_type": "markdown",
   "id": "2fbce34f",
   "metadata": {
    "hidden": true
   },
   "source": [
    "Berdasarkan selang kepercayaan 95% Hotelling's T diatas, terlihat bahwa selang kepercayaan dari efek utama faktor **Paritas** dan **Format** tidak memuat 0 yang menandakan bahwa kedua efek tersebut memiliki pengaruh yang signifikan terhadap median waktu respons dari subjek penelitian. Di sisi lain selang kepercayaan **Efek Interaksi** memuat 0, yang menindikasikan tidak adanya pengaruh signifikan interaksi kedua faktor sebelumnya terhadap median waktu respons dari subjek penelitian.\n",
    "\n",
    "Kemudian, selang kepercayaan dari efek utama dari faktor **Format** dan **Paritas** keduanya tidak memuat angka positif, yang memiliki arti bahwa :\n",
    "\n",
    "1.  Waktu respons subjek penelitian dalam mengenali apakah dua angka memiliki tipe paritas yang berbeda signifikan lebih cepat apabila bilangan tersebut **ditampilkan menggunakan bilangan arab**. Dalam artian lain **penggunaan format bilangan arab** dapat mempercepat kognisi numerik subjek penelitian dengan signifikan.\n",
    "2.  Waktu respons subjek penelitian dalam mengenali apakah dua angka memiliki tipe paritas yang berbeda signifikan lebih cepat apabila bilangan tersebut memiliki **paritas yang sama**. Dalam artian lain penggunaan **bilangan dengan paritas yang sama** dapat mempercepat kognisi subjek penelitian dengan signifikan.\n",
    "\n",
    "Lebih lanjut, terlihat bahwa $Lower_{format} < Lower_{paritas}$ dan $Upper_{format} < Upper_{paritas}$ . Hal ini mengindikasikan bahwa efek utama dari faktor **Format** dalam mempengaruhi waktu respons subjek jauh lebih besar dibandingkan faktor **Tipe Paritas**."
   ]
  },
  {
   "cell_type": "markdown",
   "id": "b5317b48",
   "metadata": {
    "heading_collapsed": true
   },
   "source": [
    "### Construct three difference scores corresponding to the number format contrast"
   ]
  },
  {
   "cell_type": "markdown",
   "id": "85469bd2",
   "metadata": {
    "hidden": true
   },
   "source": [
    "Is a multivariate normal distribution a reasonable population model for these data?"
   ]
  },
  {
   "cell_type": "code",
   "execution_count": 79,
   "id": "fcdbe460",
   "metadata": {
    "ExecuteTime": {
     "end_time": "2022-04-10T17:28:59.687031Z",
     "start_time": "2022-04-10T17:28:59.295Z"
    },
    "hidden": true
   },
   "outputs": [
    {
     "data": {
      "text/plain": [
       "\n",
       "\n",
       "|Test             |Statistic         |P_Value             |\n",
       "|:----------------|:-----------------|:-------------------|\n",
       "|Mardia Skewness  |19.8907307206908  |0.0303032967627702  |\n",
       "|Mardia Kurtosis  |1.48240196389931  |0.138233371738183   |\n",
       "|MVN              |NA                |NA                  |\n",
       "|Henze-Zirkler    |1.02263981149341  |0.0110679220972455  |\n",
       "|Royston          |6.95201621397262  |0.0747781512108786  |\n",
       "|Doornik-Hansen   |6.92927703846186  |0.327437206927686   |\n",
       "|E-statistic      |1.26567626067435  |0.003               |\n",
       "|Mvt Shapiro-Wilk |0.867926740934271 |0.00104039510279671 |"
      ]
     },
     "metadata": {},
     "output_type": "display_data"
    }
   ],
   "source": [
    "X1 <- data$'WordDiff'\n",
    "X2 <- data$'WordSame'\n",
    "X3 <- data$'ArabicDiff'\n",
    "X4 <- data$'ArabicSame'\n",
    "\n",
    "data_score <- data.frame(\n",
    "  format_contrast = X3+X4 - (X1 + X2)\n",
    "  , parity_contrast = X2+X4 - (X1+X3)\n",
    "  , interaction_contrast = X2+X3 - (X1+X4)\n",
    ")\n",
    "kable(mvtNormalityTest(data_score))"
   ]
  },
  {
   "cell_type": "markdown",
   "id": "f8408b9c",
   "metadata": {
    "hidden": true
   },
   "source": [
    "Apabila kita mengacu kepada uji Royston, maka untuk tingkat signfikansi 5%, iya."
   ]
  },
  {
   "cell_type": "markdown",
   "id": "dfe35692",
   "metadata": {},
   "source": [
    "# Pertemuan 6"
   ]
  },
  {
   "cell_type": "markdown",
   "id": "de436cfc",
   "metadata": {},
   "source": [
    "## Independent 2 Population"
   ]
  },
  {
   "cell_type": "markdown",
   "id": "590993da",
   "metadata": {
    "heading_collapsed": true
   },
   "source": [
    "### Summary Statistics"
   ]
  },
  {
   "cell_type": "code",
   "execution_count": 80,
   "id": "86715a05",
   "metadata": {
    "ExecuteTime": {
     "end_time": "2022-04-10T17:32:47.647877Z",
     "start_time": "2022-04-10T17:32:47.618Z"
    },
    "hidden": true
   },
   "outputs": [],
   "source": [
    "# Sample size of each populations\n",
    "n1 <- 45\n",
    "n2 <- 55\n",
    "\n",
    "# Sample mean vector of each populations.\n",
    "Xbar1 <- c(204.4, 556.6)\n",
    "Xbar2 <- c(130, 355)\n",
    "\n",
    "# Sample covariance matrix of each populations.\n",
    "S1 <- matrix(c(13826.3, 23823.4, 23823.4, 73107.4), ncol=2, byrow=T)\n",
    "\n",
    "S2 <- matrix(c(8632, 19616.7, 19616.7, 55964.5), ncol=2, byrow=T)\n",
    "\n",
    "# Pooled Sample Covariance Matrix\n",
    "Spooled <- ((n1-1)*S1 + (n2-1)*S2) / (n1+n2-2)"
   ]
  },
  {
   "cell_type": "markdown",
   "id": "f11050d9",
   "metadata": {},
   "source": [
    "### Uji Perbedaan *Mean Vector* 2 Populasi"
   ]
  },
  {
   "cell_type": "markdown",
   "id": "bcc7c064",
   "metadata": {
    "heading_collapsed": true
   },
   "source": [
    "#### Hipotesis"
   ]
  },
  {
   "cell_type": "markdown",
   "id": "b3755d4b",
   "metadata": {
    "ExecuteTime": {
     "end_time": "2022-04-10T17:34:07.327680Z",
     "start_time": "2022-04-10T17:34:07.312Z"
    },
    "hidden": true
   },
   "source": [
    "$$\n",
    "H_0 : \\vec \\mu_1 - \\vec \\mu_2 = \\vec 0 \\\\\n",
    "H_1 : \\vec \\mu_1 - \\vec \\mu_2 \\neq \\vec 0 \\\\\n",
    "\\alpha = 0.05\n",
    "$$"
   ]
  },
  {
   "cell_type": "markdown",
   "id": "92ef4780",
   "metadata": {
    "hidden": true
   },
   "source": [
    "Asumsi :\n",
    "$$\n",
    "\\Sigma _1 = \\Sigma_2\n",
    "$$"
   ]
  },
  {
   "cell_type": "markdown",
   "id": "88005866",
   "metadata": {
    "hidden": true
   },
   "source": [
    "Tolak $H_0$ Apabila\n",
    "\n",
    "$$\n",
    "T^2 = (\\bar x_1 - \\bar x_2)'[(\\frac{1}{n_1} + \\frac{1}{n_2})S_{pooled}]^{-1}(\\bar x_1 - \\bar x_2) > c^2\n",
    "$$\n",
    "\n",
    "Dimana\n",
    "\n",
    "$$\n",
    "c^2 = \\frac{(n_1+n_2-2)p}{n1+n2-p-1}F_(p, n_1+n_2-p-1);\\alpha\n",
    "$$"
   ]
  },
  {
   "cell_type": "code",
   "execution_count": 82,
   "id": "a671c8cf",
   "metadata": {
    "ExecuteTime": {
     "end_time": "2022-04-10T17:35:39.432967Z",
     "start_time": "2022-04-10T17:35:39.393Z"
    },
    "hidden": true
   },
   "outputs": [
    {
     "data": {
      "text/html": [
       "<table class=\"dataframe\">\n",
       "<caption>A data.frame: 1 × 6</caption>\n",
       "<thead>\n",
       "\t<tr><th scope=col>Hotelling_Stat</th><th scope=col>alpha</th><th scope=col>Critical_Value</th><th scope=col>df1</th><th scope=col>df2</th><th scope=col>P_Value</th></tr>\n",
       "\t<tr><th scope=col>&lt;dbl&gt;</th><th scope=col>&lt;dbl&gt;</th><th scope=col>&lt;dbl&gt;</th><th scope=col>&lt;dbl&gt;</th><th scope=col>&lt;dbl&gt;</th><th scope=col>&lt;dbl&gt;</th></tr>\n",
       "</thead>\n",
       "<tbody>\n",
       "\t<tr><td>16.06619</td><td>0.05</td><td>6.244089</td><td>2</td><td>97</td><td>0.0006343864</td></tr>\n",
       "</tbody>\n",
       "</table>\n"
      ],
      "text/latex": [
       "A data.frame: 1 × 6\n",
       "\\begin{tabular}{llllll}\n",
       " Hotelling\\_Stat & alpha & Critical\\_Value & df1 & df2 & P\\_Value\\\\\n",
       " <dbl> & <dbl> & <dbl> & <dbl> & <dbl> & <dbl>\\\\\n",
       "\\hline\n",
       "\t 16.06619 & 0.05 & 6.244089 & 2 & 97 & 0.0006343864\\\\\n",
       "\\end{tabular}\n"
      ],
      "text/markdown": [
       "\n",
       "A data.frame: 1 × 6\n",
       "\n",
       "| Hotelling_Stat &lt;dbl&gt; | alpha &lt;dbl&gt; | Critical_Value &lt;dbl&gt; | df1 &lt;dbl&gt; | df2 &lt;dbl&gt; | P_Value &lt;dbl&gt; |\n",
       "|---|---|---|---|---|---|\n",
       "| 16.06619 | 0.05 | 6.244089 | 2 | 97 | 0.0006343864 |\n",
       "\n"
      ],
      "text/plain": [
       "  Hotelling_Stat alpha Critical_Value df1 df2 P_Value     \n",
       "1 16.06619       0.05  6.244089       2   97  0.0006343864"
      ]
     },
     "metadata": {},
     "output_type": "display_data"
    }
   ],
   "source": [
    "n <- n1 + n2 -1\n",
    "p <- 2\n",
    "alpha <- 0.05\n",
    "\n",
    "T_statistic <- t(Xbar1-Xbar2) %*% solve(((1/n1+1/n2)*Spooled)) %*% (Xbar1-Xbar2)\n",
    "\n",
    "p_val <- pf(\n",
    "  T_statistic/((n-1)*p/(n-p))\n",
    "  , p, n-p\n",
    "  , lower.tail = FALSE\n",
    "  )\n",
    "\n",
    "critValue <- (n-1)*p/(n-p)*qf(alpha, p, n-p, lower.tail=F)\n",
    "\n",
    "# output table\n",
    "tabel <- data.frame(\n",
    "  Hotelling_Stat = T_statistic\n",
    "  , alpha = alpha\n",
    "  , Critical_Value = critValue\n",
    "  , df1 = p\n",
    "  , df2 = n-p\n",
    "  , P_Value = p_val\n",
    ")\n",
    "\n",
    "tabel"
   ]
  },
  {
   "cell_type": "markdown",
   "id": "468bc99f",
   "metadata": {
    "hidden": true
   },
   "source": [
    "Berdasarkan hasil pengujian diatas diperoleh keputusan tolak $H_0$ untuk tingkat signifikansi 5%.\n",
    "\n",
    "Dengan demikian terdapat perbedaan penggunaan listrik yang signifikan pada perumahan yang menggunakan AC dan tidak menggunakan AC setidaknya pada salah satu dari waktu pengukuran (*off-peak* atau *on-peak*)."
   ]
  },
  {
   "cell_type": "markdown",
   "id": "0afdc067",
   "metadata": {
    "heading_collapsed": true
   },
   "source": [
    "#### Kombinasi Linear dari Komponen Mean yang Paling Berpengaruh Terhadap Penolakan $H_0$"
   ]
  },
  {
   "cell_type": "code",
   "execution_count": 83,
   "id": "8879bc72",
   "metadata": {
    "ExecuteTime": {
     "end_time": "2022-04-10T17:36:22.717849Z",
     "start_time": "2022-04-10T17:36:22.692Z"
    },
    "hidden": true
   },
   "outputs": [
    {
     "data": {
      "text/html": [
       "<table class=\"dataframe\">\n",
       "<caption>A matrix: 2 × 1 of type dbl</caption>\n",
       "<tbody>\n",
       "\t<tr><td>0.001702314</td></tr>\n",
       "\t<tr><td>0.002591700</td></tr>\n",
       "</tbody>\n",
       "</table>\n"
      ],
      "text/latex": [
       "A matrix: 2 × 1 of type dbl\n",
       "\\begin{tabular}{l}\n",
       "\t 0.001702314\\\\\n",
       "\t 0.002591700\\\\\n",
       "\\end{tabular}\n"
      ],
      "text/markdown": [
       "\n",
       "A matrix: 2 × 1 of type dbl\n",
       "\n",
       "| 0.001702314 |\n",
       "| 0.002591700 |\n",
       "\n"
      ],
      "text/plain": [
       "     [,1]       \n",
       "[1,] 0.001702314\n",
       "[2,] 0.002591700"
      ]
     },
     "metadata": {},
     "output_type": "display_data"
    }
   ],
   "source": [
    "solve(Spooled)%*%(Xbar1-Xbar2)"
   ]
  },
  {
   "cell_type": "markdown",
   "id": "0a4e72b4",
   "metadata": {},
   "source": [
    "## One way Manova Table"
   ]
  },
  {
   "cell_type": "markdown",
   "id": "0845cfd0",
   "metadata": {
    "heading_collapsed": true
   },
   "source": [
    "### Data (3 Population)"
   ]
  },
  {
   "cell_type": "code",
   "execution_count": 100,
   "id": "a0575927",
   "metadata": {
    "ExecuteTime": {
     "end_time": "2022-04-10T17:51:09.554622Z",
     "start_time": "2022-04-10T17:51:09.494Z"
    },
    "hidden": true,
    "scrolled": true
   },
   "outputs": [
    {
     "data": {
      "text/html": [
       "<table class=\"dataframe\">\n",
       "<caption>A data.frame: 12 × 3</caption>\n",
       "<thead>\n",
       "\t<tr><th scope=col>X1</th><th scope=col>X2</th><th scope=col>Treatment</th></tr>\n",
       "\t<tr><th scope=col>&lt;dbl&gt;</th><th scope=col>&lt;dbl&gt;</th><th scope=col>&lt;dbl&gt;</th></tr>\n",
       "</thead>\n",
       "<tbody>\n",
       "\t<tr><td>6</td><td>7</td><td>1</td></tr>\n",
       "\t<tr><td>5</td><td>9</td><td>1</td></tr>\n",
       "\t<tr><td>8</td><td>6</td><td>1</td></tr>\n",
       "\t<tr><td>4</td><td>9</td><td>1</td></tr>\n",
       "\t<tr><td>7</td><td>9</td><td>1</td></tr>\n",
       "\t<tr><td>3</td><td>3</td><td>2</td></tr>\n",
       "\t<tr><td>1</td><td>6</td><td>2</td></tr>\n",
       "\t<tr><td>2</td><td>3</td><td>2</td></tr>\n",
       "\t<tr><td>2</td><td>3</td><td>3</td></tr>\n",
       "\t<tr><td>5</td><td>1</td><td>3</td></tr>\n",
       "\t<tr><td>3</td><td>1</td><td>3</td></tr>\n",
       "\t<tr><td>2</td><td>3</td><td>3</td></tr>\n",
       "</tbody>\n",
       "</table>\n"
      ],
      "text/latex": [
       "A data.frame: 12 × 3\n",
       "\\begin{tabular}{lll}\n",
       " X1 & X2 & Treatment\\\\\n",
       " <dbl> & <dbl> & <dbl>\\\\\n",
       "\\hline\n",
       "\t 6 & 7 & 1\\\\\n",
       "\t 5 & 9 & 1\\\\\n",
       "\t 8 & 6 & 1\\\\\n",
       "\t 4 & 9 & 1\\\\\n",
       "\t 7 & 9 & 1\\\\\n",
       "\t 3 & 3 & 2\\\\\n",
       "\t 1 & 6 & 2\\\\\n",
       "\t 2 & 3 & 2\\\\\n",
       "\t 2 & 3 & 3\\\\\n",
       "\t 5 & 1 & 3\\\\\n",
       "\t 3 & 1 & 3\\\\\n",
       "\t 2 & 3 & 3\\\\\n",
       "\\end{tabular}\n"
      ],
      "text/markdown": [
       "\n",
       "A data.frame: 12 × 3\n",
       "\n",
       "| X1 &lt;dbl&gt; | X2 &lt;dbl&gt; | Treatment &lt;dbl&gt; |\n",
       "|---|---|---|\n",
       "| 6 | 7 | 1 |\n",
       "| 5 | 9 | 1 |\n",
       "| 8 | 6 | 1 |\n",
       "| 4 | 9 | 1 |\n",
       "| 7 | 9 | 1 |\n",
       "| 3 | 3 | 2 |\n",
       "| 1 | 6 | 2 |\n",
       "| 2 | 3 | 2 |\n",
       "| 2 | 3 | 3 |\n",
       "| 5 | 1 | 3 |\n",
       "| 3 | 1 | 3 |\n",
       "| 2 | 3 | 3 |\n",
       "\n"
      ],
      "text/plain": [
       "   X1 X2 Treatment\n",
       "1  6  7  1        \n",
       "2  5  9  1        \n",
       "3  8  6  1        \n",
       "4  4  9  1        \n",
       "5  7  9  1        \n",
       "6  3  3  2        \n",
       "7  1  6  2        \n",
       "8  2  3  2        \n",
       "9  2  3  3        \n",
       "10 5  1  3        \n",
       "11 3  1  3        \n",
       "12 2  3  3        "
      ]
     },
     "metadata": {},
     "output_type": "display_data"
    }
   ],
   "source": [
    "# manually 1.0\n",
    "\n",
    "data <- data.frame(\n",
    "    X1 = c(6,5,8,4,7,3,1,2,2,5,3,2)\n",
    "    , X2 = c(7,9,6,9,9,3,6,3,3,1,1,3)\n",
    "    , Treatment = c(1,1,1,1,1,2,2,2,3,3,3,3)\n",
    ")\n",
    "data"
   ]
  },
  {
   "cell_type": "markdown",
   "id": "739f9b84",
   "metadata": {
    "heading_collapsed": true
   },
   "source": [
    "### Utility Function"
   ]
  },
  {
   "cell_type": "code",
   "execution_count": 110,
   "id": "a8a42ca7",
   "metadata": {
    "ExecuteTime": {
     "end_time": "2022-04-10T17:56:33.533385Z",
     "start_time": "2022-04-10T17:56:33.508Z"
    },
    "hidden": true
   },
   "outputs": [],
   "source": [
    "getDataTreatment <- function(X, treatmentColName, which){\n",
    "    \n",
    "  data <- filter(X, !!rlang::sym(treatmentColName) == which)\n",
    "  data <- data[-c(which(colnames(X) == treatmentColName))]\n",
    "  \n",
    "  return(data)\n",
    "}\n",
    "\n",
    "## create manova table\n",
    "createManovaTable <- function(X, treatmentColName, nTreatment){\n",
    "  # list to store dataframe of each treatment\n",
    "  data <- list()\n",
    "  \n",
    "  for(i in 1 : nTreatment){\n",
    "    data <- append(data, list(getDataTreatment(X, treatmentColName, i)))\n",
    "  }\n",
    "  \n",
    "  ## Sum square within\n",
    "  nl <- nrow(data[[1]])\n",
    "  SSW <- (nl-1) * cov(data[[1]])\n",
    "\n",
    "  for(i in 1 : nTreatment){\n",
    "    nl <- nrow(data[[i]])\n",
    "    SSW <- SSW + (nl-1)*cov(data[[i]])\n",
    "  }\n",
    "  \n",
    "  ## sum square between\n",
    "  Xbar <- colMeans(X[-c(which(colnames(X) == treatmentColName))])\n",
    "  nl <- nrow(data[[1]])\n",
    "  SSB <- (nl-1) * cov(data[[1]])\n",
    "    \n",
    "  for(i in 2 : nTreatment){\n",
    "    nl <- nrow(data[[i]])\n",
    "    SSB <- SSB + nl* (colMeans(data[[i]]) - Xbar) %*% t(colMeans(data[[i]])-Xbar)\n",
    "  }\n",
    "  \n",
    "  ## sumsquare total\n",
    "  SST <- SSW + SSB\n",
    "  \n",
    "  manovaTable <- list(\n",
    "      Source = c(\"Treatments (Between)\", \"Residual Within\", \"Total\")\n",
    "      , SS = c(list(SSB), list(SSW), list(SST))\n",
    "      , df = c(nTreatment-1, nrow(X)-nTreatment, nrow(X)-1)\n",
    "    )\n",
    "  \n",
    "  return(manovaTable)\n",
    "}"
   ]
  },
  {
   "cell_type": "markdown",
   "id": "4def7277",
   "metadata": {
    "heading_collapsed": true
   },
   "source": [
    "### One Way Manova Table"
   ]
  },
  {
   "cell_type": "code",
   "execution_count": 103,
   "id": "56a967e0",
   "metadata": {
    "ExecuteTime": {
     "end_time": "2022-04-10T17:51:20.795861Z",
     "start_time": "2022-04-10T17:51:20.737Z"
    },
    "hidden": true
   },
   "outputs": [
    {
     "data": {
      "text/html": [
       "<dl>\n",
       "\t<dt>$Source</dt>\n",
       "\t\t<dd><style>\n",
       ".list-inline {list-style: none; margin:0; padding: 0}\n",
       ".list-inline>li {display: inline-block}\n",
       ".list-inline>li:not(:last-child)::after {content: \"\\00b7\"; padding: 0 .5ex}\n",
       "</style>\n",
       "<ol class=list-inline><li>'Treatments (Between)'</li><li>'Residual Within'</li><li>'Total'</li></ol>\n",
       "</dd>\n",
       "\t<dt>$SS</dt>\n",
       "\t\t<dd><ol>\n",
       "\t<li><table class=\"dataframe\">\n",
       "<caption>A matrix: 2 × 2 of type dbl</caption>\n",
       "<thead>\n",
       "\t<tr><th></th><th scope=col>X1</th><th scope=col>X2</th></tr>\n",
       "</thead>\n",
       "<tbody>\n",
       "\t<tr><th scope=row>X1</th><td>26</td><td>12</td></tr>\n",
       "\t<tr><th scope=row>X2</th><td>12</td><td>47</td></tr>\n",
       "</tbody>\n",
       "</table>\n",
       "</li>\n",
       "\t<li><table class=\"dataframe\">\n",
       "<caption>A matrix: 2 × 2 of type dbl</caption>\n",
       "<thead>\n",
       "\t<tr><th></th><th scope=col>X1</th><th scope=col>X2</th></tr>\n",
       "</thead>\n",
       "<tbody>\n",
       "\t<tr><th scope=row>X1</th><td> 28</td><td>-19</td></tr>\n",
       "\t<tr><th scope=row>X2</th><td>-19</td><td> 26</td></tr>\n",
       "</tbody>\n",
       "</table>\n",
       "</li>\n",
       "\t<li><table class=\"dataframe\">\n",
       "<caption>A matrix: 2 × 2 of type dbl</caption>\n",
       "<thead>\n",
       "\t<tr><th></th><th scope=col>X1</th><th scope=col>X2</th></tr>\n",
       "</thead>\n",
       "<tbody>\n",
       "\t<tr><th scope=row>X1</th><td>54</td><td>-7</td></tr>\n",
       "\t<tr><th scope=row>X2</th><td>-7</td><td>73</td></tr>\n",
       "</tbody>\n",
       "</table>\n",
       "</li>\n",
       "</ol>\n",
       "</dd>\n",
       "\t<dt>$df</dt>\n",
       "\t\t<dd><style>\n",
       ".list-inline {list-style: none; margin:0; padding: 0}\n",
       ".list-inline>li {display: inline-block}\n",
       ".list-inline>li:not(:last-child)::after {content: \"\\00b7\"; padding: 0 .5ex}\n",
       "</style>\n",
       "<ol class=list-inline><li>2</li><li>9</li><li>11</li></ol>\n",
       "</dd>\n",
       "</dl>\n"
      ],
      "text/latex": [
       "\\begin{description}\n",
       "\\item[\\$Source] \\begin{enumerate*}\n",
       "\\item 'Treatments (Between)'\n",
       "\\item 'Residual Within'\n",
       "\\item 'Total'\n",
       "\\end{enumerate*}\n",
       "\n",
       "\\item[\\$SS] \\begin{enumerate}\n",
       "\\item A matrix: 2 × 2 of type dbl\n",
       "\\begin{tabular}{r|ll}\n",
       "  & X1 & X2\\\\\n",
       "\\hline\n",
       "\tX1 & 26 & 12\\\\\n",
       "\tX2 & 12 & 47\\\\\n",
       "\\end{tabular}\n",
       "\n",
       "\\item A matrix: 2 × 2 of type dbl\n",
       "\\begin{tabular}{r|ll}\n",
       "  & X1 & X2\\\\\n",
       "\\hline\n",
       "\tX1 &  28 & -19\\\\\n",
       "\tX2 & -19 &  26\\\\\n",
       "\\end{tabular}\n",
       "\n",
       "\\item A matrix: 2 × 2 of type dbl\n",
       "\\begin{tabular}{r|ll}\n",
       "  & X1 & X2\\\\\n",
       "\\hline\n",
       "\tX1 & 54 & -7\\\\\n",
       "\tX2 & -7 & 73\\\\\n",
       "\\end{tabular}\n",
       "\n",
       "\\end{enumerate}\n",
       "\n",
       "\\item[\\$df] \\begin{enumerate*}\n",
       "\\item 2\n",
       "\\item 9\n",
       "\\item 11\n",
       "\\end{enumerate*}\n",
       "\n",
       "\\end{description}\n"
      ],
      "text/markdown": [
       "$Source\n",
       ":   1. 'Treatments (Between)'\n",
       "2. 'Residual Within'\n",
       "3. 'Total'\n",
       "\n",
       "\n",
       "\n",
       "$SS\n",
       ":   1. \n",
       "A matrix: 2 × 2 of type dbl\n",
       "\n",
       "| <!--/--> | X1 | X2 |\n",
       "|---|---|---|\n",
       "| X1 | 26 | 12 |\n",
       "| X2 | 12 | 47 |\n",
       "\n",
       "\n",
       "2. \n",
       "A matrix: 2 × 2 of type dbl\n",
       "\n",
       "| <!--/--> | X1 | X2 |\n",
       "|---|---|---|\n",
       "| X1 |  28 | -19 |\n",
       "| X2 | -19 |  26 |\n",
       "\n",
       "\n",
       "3. \n",
       "A matrix: 2 × 2 of type dbl\n",
       "\n",
       "| <!--/--> | X1 | X2 |\n",
       "|---|---|---|\n",
       "| X1 | 54 | -7 |\n",
       "| X2 | -7 | 73 |\n",
       "\n",
       "\n",
       "\n",
       "\n",
       "\n",
       "$df\n",
       ":   1. 2\n",
       "2. 9\n",
       "3. 11\n",
       "\n",
       "\n",
       "\n",
       "\n",
       "\n"
      ],
      "text/plain": [
       "$Source\n",
       "[1] \"Treatments (Between)\" \"Residual Within\"      \"Total\"               \n",
       "\n",
       "$SS\n",
       "$SS[[1]]\n",
       "   X1 X2\n",
       "X1 26 12\n",
       "X2 12 47\n",
       "\n",
       "$SS[[2]]\n",
       "    X1  X2\n",
       "X1  28 -19\n",
       "X2 -19  26\n",
       "\n",
       "$SS[[3]]\n",
       "   X1 X2\n",
       "X1 54 -7\n",
       "X2 -7 73\n",
       "\n",
       "\n",
       "$df\n",
       "[1]  2  9 11\n"
      ]
     },
     "metadata": {},
     "output_type": "display_data"
    }
   ],
   "source": [
    "manovaTable <- createManovaTable(data, \"Treatment\", 3)\n",
    "manovaTable"
   ]
  },
  {
   "cell_type": "markdown",
   "id": "e1dc356b",
   "metadata": {
    "hidden": true
   },
   "source": [
    "#### Hipotesis"
   ]
  },
  {
   "cell_type": "markdown",
   "id": "f5f9b3b2",
   "metadata": {
    "ExecuteTime": {
     "end_time": "2022-04-10T17:44:59.124589Z",
     "start_time": "2022-04-10T17:44:59.109Z"
    },
    "hidden": true
   },
   "source": [
    "$$\n",
    "H_0 : \\tau_1 = \\tau_2=\\tau_3\\\\\n",
    "H_1 : \\exists ~ \\tau_i \\neq \\tau_j ~, ~i \\neq j\\\\\n",
    "\\alpha=0.01\n",
    "$$"
   ]
  },
  {
   "cell_type": "markdown",
   "id": "a6fe3160",
   "metadata": {
    "hidden": true
   },
   "source": [
    "#### Uji Wilk's Lambda"
   ]
  },
  {
   "cell_type": "markdown",
   "id": "8eda0d10",
   "metadata": {
    "ExecuteTime": {
     "end_time": "2022-04-10T17:45:25.378612Z",
     "start_time": "2022-04-10T17:45:25.364Z"
    },
    "hidden": true
   },
   "source": [
    "Tolak $H_0$ apabila\n",
    "\n",
    "$$\n",
    "(\\frac{\\Sigma n_l-p-2}{p} )\\frac{1-\\sqrt{\\Lambda^*}}{\\sqrt{\\Lambda^*}} >F_{(2p, ~2(\\Sigma n_l-p-2));~\\alpha}\n",
    "$$"
   ]
  },
  {
   "cell_type": "code",
   "execution_count": 104,
   "id": "8b8879ad",
   "metadata": {
    "ExecuteTime": {
     "end_time": "2022-04-10T17:51:26.841640Z",
     "start_time": "2022-04-10T17:51:26.796Z"
    },
    "hidden": true
   },
   "outputs": [
    {
     "data": {
      "text/html": [
       "<table class=\"dataframe\">\n",
       "<caption>A data.frame: 1 × 2</caption>\n",
       "<thead>\n",
       "\t<tr><th scope=col>Test.Statistic</th><th scope=col>Critical.Value</th></tr>\n",
       "\t<tr><th scope=col>&lt;dbl&gt;</th><th scope=col>&lt;dbl&gt;</th></tr>\n",
       "</thead>\n",
       "<tbody>\n",
       "\t<tr><td>3.601386</td><td>4.772578</td></tr>\n",
       "</tbody>\n",
       "</table>\n"
      ],
      "text/latex": [
       "A data.frame: 1 × 2\n",
       "\\begin{tabular}{ll}\n",
       " Test.Statistic & Critical.Value\\\\\n",
       " <dbl> & <dbl>\\\\\n",
       "\\hline\n",
       "\t 3.601386 & 4.772578\\\\\n",
       "\\end{tabular}\n"
      ],
      "text/markdown": [
       "\n",
       "A data.frame: 1 × 2\n",
       "\n",
       "| Test.Statistic &lt;dbl&gt; | Critical.Value &lt;dbl&gt; |\n",
       "|---|---|\n",
       "| 3.601386 | 4.772578 |\n",
       "\n"
      ],
      "text/plain": [
       "  Test.Statistic Critical.Value\n",
       "1 3.601386       4.772578      "
      ]
     },
     "metadata": {},
     "output_type": "display_data"
    }
   ],
   "source": [
    "# wilk's lambda\n",
    "SSW <- manovaTable$SS[[1]]\n",
    "SST <- manovaTable$SS[[3]]\n",
    "lambda <- det(SSW)/det(SST)\n",
    "\n",
    "# test statistics\n",
    "p <- 2\n",
    "Test.Stat <- ((nrow(data)-p-2)/p)*(1-sqrt(lambda))/sqrt(lambda)\n",
    "\n",
    "# critical value\n",
    "critValue <- qf(0.01, 2*p, 2*(nrow(data)-p-2), lower.tail=F)\n",
    "\n",
    "result <- data.frame(\n",
    "  Test.Statistic = Test.Stat,\n",
    "  Critical.Value = critValue\n",
    ")\n",
    "\n",
    "result"
   ]
  },
  {
   "cell_type": "markdown",
   "id": "847b0da1",
   "metadata": {
    "hidden": true
   },
   "source": [
    "Berdasarkan uji Wilk's Lambda diatas, untuk tingkat signifikansi 1% diperoleh keputusan gagal tolak $H_0$. Hal ini mengimplikasikan tidak adanya pengaruh efek *treatment* yang signifikan pada setiap komponen *mean vector.*"
   ]
  },
  {
   "cell_type": "markdown",
   "id": "3b1c7be4",
   "metadata": {
    "hidden": true
   },
   "source": [
    "#### Uji Aproksimasi Chi-Square dengan Koreksi Bartlett"
   ]
  },
  {
   "cell_type": "markdown",
   "id": "b1035581",
   "metadata": {
    "hidden": true
   },
   "source": [
    "Tolak $H_0$ apabila :\n",
    "\n",
    "$$\n",
    "-(n-1-\\frac{p+g}{2})ln\\Lambda^*>\\chi^2_{(p(g-1));~\\alpha}\n",
    "$$"
   ]
  },
  {
   "cell_type": "code",
   "execution_count": 105,
   "id": "aec2d872",
   "metadata": {
    "ExecuteTime": {
     "end_time": "2022-04-10T17:51:29.564483Z",
     "start_time": "2022-04-10T17:51:29.510Z"
    },
    "hidden": true
   },
   "outputs": [
    {
     "data": {
      "text/html": [
       "<table class=\"dataframe\">\n",
       "<caption>A data.frame: 1 × 2</caption>\n",
       "<thead>\n",
       "\t<tr><th scope=col>Test.Statistics</th><th scope=col>Critical.Value</th></tr>\n",
       "\t<tr><th scope=col>&lt;dbl&gt;</th><th scope=col>&lt;dbl&gt;</th></tr>\n",
       "</thead>\n",
       "<tbody>\n",
       "\t<tr><td>14.76683</td><td>13.2767</td></tr>\n",
       "</tbody>\n",
       "</table>\n"
      ],
      "text/latex": [
       "A data.frame: 1 × 2\n",
       "\\begin{tabular}{ll}\n",
       " Test.Statistics & Critical.Value\\\\\n",
       " <dbl> & <dbl>\\\\\n",
       "\\hline\n",
       "\t 14.76683 & 13.2767\\\\\n",
       "\\end{tabular}\n"
      ],
      "text/markdown": [
       "\n",
       "A data.frame: 1 × 2\n",
       "\n",
       "| Test.Statistics &lt;dbl&gt; | Critical.Value &lt;dbl&gt; |\n",
       "|---|---|\n",
       "| 14.76683 | 13.2767 |\n",
       "\n"
      ],
      "text/plain": [
       "  Test.Statistics Critical.Value\n",
       "1 14.76683        13.2767       "
      ]
     },
     "metadata": {},
     "output_type": "display_data"
    }
   ],
   "source": [
    "n <- nrow(data)\n",
    "p <- 2\n",
    "g <- 3\n",
    "\n",
    "# test statistics\n",
    "Test.Stat <- -(n-1-(p-g)/2)*log(lambda)\n",
    "\n",
    "# critical value\n",
    "critValue <- qchisq(0.01, p*(g-1), lower.tail=F)\n",
    "\n",
    "result <- data.frame(\n",
    "  Test.Statistics = Test.Stat,\n",
    "  Critical.Value = critValue\n",
    ")\n",
    "\n",
    "result"
   ]
  },
  {
   "cell_type": "markdown",
   "id": "c27b2931",
   "metadata": {
    "hidden": true
   },
   "source": [
    "Akan tetapi, uji aproksimasi chi-square dengan koreksi bartlett mengatakan hal yang sebaliknya pada tingkat signifikansi 1%. Inkonsistensi dari hasil pengujian ini dapat disebabkan oleh tidak terpenuhinya asumsi sampel besar untuk melakukan uji aproksimasi dengan koreksi bartlett."
   ]
  },
  {
   "cell_type": "markdown",
   "id": "f69423b5",
   "metadata": {},
   "source": [
    "## Uji Beda Rata-Rata 2 Populasi"
   ]
  },
  {
   "cell_type": "markdown",
   "id": "062ac06f",
   "metadata": {
    "heading_collapsed": true
   },
   "source": [
    "### Data"
   ]
  },
  {
   "cell_type": "code",
   "execution_count": 117,
   "id": "1db692d3",
   "metadata": {
    "ExecuteTime": {
     "end_time": "2022-04-10T18:04:16.020205Z",
     "start_time": "2022-04-10T18:04:15.956Z"
    },
    "hidden": true,
    "scrolled": true
   },
   "outputs": [
    {
     "data": {
      "text/html": [
       "<table class=\"dataframe\">\n",
       "<caption>A data.frame: 59 × 4</caption>\n",
       "<thead>\n",
       "\t<tr><th scope=col>fuel</th><th scope=col>repair</th><th scope=col>capital</th><th scope=col>population</th></tr>\n",
       "\t<tr><th scope=col>&lt;dbl&gt;</th><th scope=col>&lt;dbl&gt;</th><th scope=col>&lt;dbl&gt;</th><th scope=col>&lt;dbl&gt;</th></tr>\n",
       "</thead>\n",
       "<tbody>\n",
       "\t<tr><td>16.44</td><td>12.43</td><td>11.23</td><td>1</td></tr>\n",
       "\t<tr><td> 7.19</td><td> 2.70</td><td> 3.92</td><td>1</td></tr>\n",
       "\t<tr><td> 9.92</td><td> 1.35</td><td> 9.75</td><td>1</td></tr>\n",
       "\t<tr><td> 4.24</td><td> 5.78</td><td> 7.78</td><td>1</td></tr>\n",
       "\t<tr><td>11.20</td><td> 5.05</td><td>10.67</td><td>1</td></tr>\n",
       "\t<tr><td>14.25</td><td> 5.78</td><td> 9.88</td><td>1</td></tr>\n",
       "\t<tr><td>13.50</td><td>10.98</td><td>10.60</td><td>1</td></tr>\n",
       "\t<tr><td>13.32</td><td>14.27</td><td> 9.45</td><td>1</td></tr>\n",
       "\t<tr><td>29.11</td><td>15.09</td><td> 3.28</td><td>1</td></tr>\n",
       "\t<tr><td>12.68</td><td> 7.61</td><td>10.23</td><td>1</td></tr>\n",
       "\t<tr><td> 7.51</td><td> 5.80</td><td> 8.13</td><td>1</td></tr>\n",
       "\t<tr><td> 9.90</td><td> 3.63</td><td> 9.13</td><td>1</td></tr>\n",
       "\t<tr><td>10.25</td><td> 5.07</td><td>10.17</td><td>1</td></tr>\n",
       "\t<tr><td>11.11</td><td> 6.15</td><td> 7.61</td><td>1</td></tr>\n",
       "\t<tr><td>12.17</td><td>14.26</td><td>14.39</td><td>1</td></tr>\n",
       "\t<tr><td>10.24</td><td> 2.59</td><td> 6.09</td><td>1</td></tr>\n",
       "\t<tr><td>10.18</td><td> 6.05</td><td>12.14</td><td>1</td></tr>\n",
       "\t<tr><td> 8.88</td><td> 2.70</td><td>12.23</td><td>1</td></tr>\n",
       "\t<tr><td>12.34</td><td> 7.73</td><td>11.68</td><td>1</td></tr>\n",
       "\t<tr><td> 8.51</td><td>14.02</td><td>12.01</td><td>1</td></tr>\n",
       "\t<tr><td>26.16</td><td>17.44</td><td>16.89</td><td>1</td></tr>\n",
       "\t<tr><td>12.95</td><td> 8.24</td><td> 7.18</td><td>1</td></tr>\n",
       "\t<tr><td>16.93</td><td>13.37</td><td>17.59</td><td>1</td></tr>\n",
       "\t<tr><td>14.70</td><td>10.78</td><td>14.58</td><td>1</td></tr>\n",
       "\t<tr><td>10.32</td><td> 5.16</td><td>17.00</td><td>1</td></tr>\n",
       "\t<tr><td> 8.98</td><td> 4.49</td><td> 4.26</td><td>1</td></tr>\n",
       "\t<tr><td> 9.70</td><td>11.59</td><td> 6.83</td><td>1</td></tr>\n",
       "\t<tr><td>12.72</td><td> 8.63</td><td> 5.59</td><td>1</td></tr>\n",
       "\t<tr><td> 9.49</td><td> 2.16</td><td> 6.23</td><td>1</td></tr>\n",
       "\t<tr><td> 8.22</td><td> 7.95</td><td> 6.72</td><td>1</td></tr>\n",
       "\t<tr><td>13.70</td><td>11.22</td><td> 4.91</td><td>1</td></tr>\n",
       "\t<tr><td> 8.21</td><td> 9.85</td><td> 8.17</td><td>1</td></tr>\n",
       "\t<tr><td>15.86</td><td>11.42</td><td>13.06</td><td>1</td></tr>\n",
       "\t<tr><td> 9.18</td><td> 9.18</td><td> 9.49</td><td>1</td></tr>\n",
       "\t<tr><td>12.49</td><td> 4.67</td><td>11.94</td><td>1</td></tr>\n",
       "\t<tr><td>17.32</td><td> 6.86</td><td> 4.44</td><td>1</td></tr>\n",
       "\t<tr><td> 8.50</td><td>12.26</td><td> 9.11</td><td>2</td></tr>\n",
       "\t<tr><td> 7.42</td><td> 5.13</td><td>17.15</td><td>2</td></tr>\n",
       "\t<tr><td>10.28</td><td> 3.32</td><td>11.23</td><td>2</td></tr>\n",
       "\t<tr><td>10.16</td><td>14.72</td><td> 5.99</td><td>2</td></tr>\n",
       "\t<tr><td>12.79</td><td> 4.17</td><td>29.28</td><td>2</td></tr>\n",
       "\t<tr><td> 9.60</td><td>12.72</td><td>11.00</td><td>2</td></tr>\n",
       "\t<tr><td> 6.47</td><td> 8.89</td><td>19.00</td><td>2</td></tr>\n",
       "\t<tr><td>11.35</td><td> 9.95</td><td>14.53</td><td>2</td></tr>\n",
       "\t<tr><td> 9.15</td><td> 2.94</td><td>13.68</td><td>2</td></tr>\n",
       "\t<tr><td> 9.70</td><td> 5.06</td><td>20.84</td><td>2</td></tr>\n",
       "\t<tr><td> 9.77</td><td>17.86</td><td>35.18</td><td>2</td></tr>\n",
       "\t<tr><td>11.61</td><td>11.75</td><td>17.00</td><td>2</td></tr>\n",
       "\t<tr><td> 9.09</td><td>13.25</td><td>20.66</td><td>2</td></tr>\n",
       "\t<tr><td> 8.53</td><td>10.14</td><td>17.45</td><td>2</td></tr>\n",
       "\t<tr><td> 8.29</td><td> 6.22</td><td>16.38</td><td>2</td></tr>\n",
       "\t<tr><td>15.90</td><td>12.90</td><td>19.09</td><td>2</td></tr>\n",
       "\t<tr><td>11.94</td><td> 5.69</td><td>14.77</td><td>2</td></tr>\n",
       "\t<tr><td> 9.54</td><td>16.77</td><td>22.66</td><td>2</td></tr>\n",
       "\t<tr><td>10.43</td><td>17.65</td><td>10.66</td><td>2</td></tr>\n",
       "\t<tr><td>10.87</td><td>21.52</td><td>28.47</td><td>2</td></tr>\n",
       "\t<tr><td> 7.13</td><td>13.22</td><td>19.44</td><td>2</td></tr>\n",
       "\t<tr><td>11.88</td><td>12.18</td><td>21.20</td><td>2</td></tr>\n",
       "\t<tr><td>12.03</td><td> 9.22</td><td>23.09</td><td>2</td></tr>\n",
       "</tbody>\n",
       "</table>\n"
      ],
      "text/latex": [
       "A data.frame: 59 × 4\n",
       "\\begin{tabular}{llll}\n",
       " fuel & repair & capital & population\\\\\n",
       " <dbl> & <dbl> & <dbl> & <dbl>\\\\\n",
       "\\hline\n",
       "\t 16.44 & 12.43 & 11.23 & 1\\\\\n",
       "\t  7.19 &  2.70 &  3.92 & 1\\\\\n",
       "\t  9.92 &  1.35 &  9.75 & 1\\\\\n",
       "\t  4.24 &  5.78 &  7.78 & 1\\\\\n",
       "\t 11.20 &  5.05 & 10.67 & 1\\\\\n",
       "\t 14.25 &  5.78 &  9.88 & 1\\\\\n",
       "\t 13.50 & 10.98 & 10.60 & 1\\\\\n",
       "\t 13.32 & 14.27 &  9.45 & 1\\\\\n",
       "\t 29.11 & 15.09 &  3.28 & 1\\\\\n",
       "\t 12.68 &  7.61 & 10.23 & 1\\\\\n",
       "\t  7.51 &  5.80 &  8.13 & 1\\\\\n",
       "\t  9.90 &  3.63 &  9.13 & 1\\\\\n",
       "\t 10.25 &  5.07 & 10.17 & 1\\\\\n",
       "\t 11.11 &  6.15 &  7.61 & 1\\\\\n",
       "\t 12.17 & 14.26 & 14.39 & 1\\\\\n",
       "\t 10.24 &  2.59 &  6.09 & 1\\\\\n",
       "\t 10.18 &  6.05 & 12.14 & 1\\\\\n",
       "\t  8.88 &  2.70 & 12.23 & 1\\\\\n",
       "\t 12.34 &  7.73 & 11.68 & 1\\\\\n",
       "\t  8.51 & 14.02 & 12.01 & 1\\\\\n",
       "\t 26.16 & 17.44 & 16.89 & 1\\\\\n",
       "\t 12.95 &  8.24 &  7.18 & 1\\\\\n",
       "\t 16.93 & 13.37 & 17.59 & 1\\\\\n",
       "\t 14.70 & 10.78 & 14.58 & 1\\\\\n",
       "\t 10.32 &  5.16 & 17.00 & 1\\\\\n",
       "\t  8.98 &  4.49 &  4.26 & 1\\\\\n",
       "\t  9.70 & 11.59 &  6.83 & 1\\\\\n",
       "\t 12.72 &  8.63 &  5.59 & 1\\\\\n",
       "\t  9.49 &  2.16 &  6.23 & 1\\\\\n",
       "\t  8.22 &  7.95 &  6.72 & 1\\\\\n",
       "\t 13.70 & 11.22 &  4.91 & 1\\\\\n",
       "\t  8.21 &  9.85 &  8.17 & 1\\\\\n",
       "\t 15.86 & 11.42 & 13.06 & 1\\\\\n",
       "\t  9.18 &  9.18 &  9.49 & 1\\\\\n",
       "\t 12.49 &  4.67 & 11.94 & 1\\\\\n",
       "\t 17.32 &  6.86 &  4.44 & 1\\\\\n",
       "\t  8.50 & 12.26 &  9.11 & 2\\\\\n",
       "\t  7.42 &  5.13 & 17.15 & 2\\\\\n",
       "\t 10.28 &  3.32 & 11.23 & 2\\\\\n",
       "\t 10.16 & 14.72 &  5.99 & 2\\\\\n",
       "\t 12.79 &  4.17 & 29.28 & 2\\\\\n",
       "\t  9.60 & 12.72 & 11.00 & 2\\\\\n",
       "\t  6.47 &  8.89 & 19.00 & 2\\\\\n",
       "\t 11.35 &  9.95 & 14.53 & 2\\\\\n",
       "\t  9.15 &  2.94 & 13.68 & 2\\\\\n",
       "\t  9.70 &  5.06 & 20.84 & 2\\\\\n",
       "\t  9.77 & 17.86 & 35.18 & 2\\\\\n",
       "\t 11.61 & 11.75 & 17.00 & 2\\\\\n",
       "\t  9.09 & 13.25 & 20.66 & 2\\\\\n",
       "\t  8.53 & 10.14 & 17.45 & 2\\\\\n",
       "\t  8.29 &  6.22 & 16.38 & 2\\\\\n",
       "\t 15.90 & 12.90 & 19.09 & 2\\\\\n",
       "\t 11.94 &  5.69 & 14.77 & 2\\\\\n",
       "\t  9.54 & 16.77 & 22.66 & 2\\\\\n",
       "\t 10.43 & 17.65 & 10.66 & 2\\\\\n",
       "\t 10.87 & 21.52 & 28.47 & 2\\\\\n",
       "\t  7.13 & 13.22 & 19.44 & 2\\\\\n",
       "\t 11.88 & 12.18 & 21.20 & 2\\\\\n",
       "\t 12.03 &  9.22 & 23.09 & 2\\\\\n",
       "\\end{tabular}\n"
      ],
      "text/markdown": [
       "\n",
       "A data.frame: 59 × 4\n",
       "\n",
       "| fuel &lt;dbl&gt; | repair &lt;dbl&gt; | capital &lt;dbl&gt; | population &lt;dbl&gt; |\n",
       "|---|---|---|---|\n",
       "| 16.44 | 12.43 | 11.23 | 1 |\n",
       "|  7.19 |  2.70 |  3.92 | 1 |\n",
       "|  9.92 |  1.35 |  9.75 | 1 |\n",
       "|  4.24 |  5.78 |  7.78 | 1 |\n",
       "| 11.20 |  5.05 | 10.67 | 1 |\n",
       "| 14.25 |  5.78 |  9.88 | 1 |\n",
       "| 13.50 | 10.98 | 10.60 | 1 |\n",
       "| 13.32 | 14.27 |  9.45 | 1 |\n",
       "| 29.11 | 15.09 |  3.28 | 1 |\n",
       "| 12.68 |  7.61 | 10.23 | 1 |\n",
       "|  7.51 |  5.80 |  8.13 | 1 |\n",
       "|  9.90 |  3.63 |  9.13 | 1 |\n",
       "| 10.25 |  5.07 | 10.17 | 1 |\n",
       "| 11.11 |  6.15 |  7.61 | 1 |\n",
       "| 12.17 | 14.26 | 14.39 | 1 |\n",
       "| 10.24 |  2.59 |  6.09 | 1 |\n",
       "| 10.18 |  6.05 | 12.14 | 1 |\n",
       "|  8.88 |  2.70 | 12.23 | 1 |\n",
       "| 12.34 |  7.73 | 11.68 | 1 |\n",
       "|  8.51 | 14.02 | 12.01 | 1 |\n",
       "| 26.16 | 17.44 | 16.89 | 1 |\n",
       "| 12.95 |  8.24 |  7.18 | 1 |\n",
       "| 16.93 | 13.37 | 17.59 | 1 |\n",
       "| 14.70 | 10.78 | 14.58 | 1 |\n",
       "| 10.32 |  5.16 | 17.00 | 1 |\n",
       "|  8.98 |  4.49 |  4.26 | 1 |\n",
       "|  9.70 | 11.59 |  6.83 | 1 |\n",
       "| 12.72 |  8.63 |  5.59 | 1 |\n",
       "|  9.49 |  2.16 |  6.23 | 1 |\n",
       "|  8.22 |  7.95 |  6.72 | 1 |\n",
       "| 13.70 | 11.22 |  4.91 | 1 |\n",
       "|  8.21 |  9.85 |  8.17 | 1 |\n",
       "| 15.86 | 11.42 | 13.06 | 1 |\n",
       "|  9.18 |  9.18 |  9.49 | 1 |\n",
       "| 12.49 |  4.67 | 11.94 | 1 |\n",
       "| 17.32 |  6.86 |  4.44 | 1 |\n",
       "|  8.50 | 12.26 |  9.11 | 2 |\n",
       "|  7.42 |  5.13 | 17.15 | 2 |\n",
       "| 10.28 |  3.32 | 11.23 | 2 |\n",
       "| 10.16 | 14.72 |  5.99 | 2 |\n",
       "| 12.79 |  4.17 | 29.28 | 2 |\n",
       "|  9.60 | 12.72 | 11.00 | 2 |\n",
       "|  6.47 |  8.89 | 19.00 | 2 |\n",
       "| 11.35 |  9.95 | 14.53 | 2 |\n",
       "|  9.15 |  2.94 | 13.68 | 2 |\n",
       "|  9.70 |  5.06 | 20.84 | 2 |\n",
       "|  9.77 | 17.86 | 35.18 | 2 |\n",
       "| 11.61 | 11.75 | 17.00 | 2 |\n",
       "|  9.09 | 13.25 | 20.66 | 2 |\n",
       "|  8.53 | 10.14 | 17.45 | 2 |\n",
       "|  8.29 |  6.22 | 16.38 | 2 |\n",
       "| 15.90 | 12.90 | 19.09 | 2 |\n",
       "| 11.94 |  5.69 | 14.77 | 2 |\n",
       "|  9.54 | 16.77 | 22.66 | 2 |\n",
       "| 10.43 | 17.65 | 10.66 | 2 |\n",
       "| 10.87 | 21.52 | 28.47 | 2 |\n",
       "|  7.13 | 13.22 | 19.44 | 2 |\n",
       "| 11.88 | 12.18 | 21.20 | 2 |\n",
       "| 12.03 |  9.22 | 23.09 | 2 |\n",
       "\n"
      ],
      "text/plain": [
       "   fuel  repair capital population\n",
       "1  16.44 12.43  11.23   1         \n",
       "2   7.19  2.70   3.92   1         \n",
       "3   9.92  1.35   9.75   1         \n",
       "4   4.24  5.78   7.78   1         \n",
       "5  11.20  5.05  10.67   1         \n",
       "6  14.25  5.78   9.88   1         \n",
       "7  13.50 10.98  10.60   1         \n",
       "8  13.32 14.27   9.45   1         \n",
       "9  29.11 15.09   3.28   1         \n",
       "10 12.68  7.61  10.23   1         \n",
       "11  7.51  5.80   8.13   1         \n",
       "12  9.90  3.63   9.13   1         \n",
       "13 10.25  5.07  10.17   1         \n",
       "14 11.11  6.15   7.61   1         \n",
       "15 12.17 14.26  14.39   1         \n",
       "16 10.24  2.59   6.09   1         \n",
       "17 10.18  6.05  12.14   1         \n",
       "18  8.88  2.70  12.23   1         \n",
       "19 12.34  7.73  11.68   1         \n",
       "20  8.51 14.02  12.01   1         \n",
       "21 26.16 17.44  16.89   1         \n",
       "22 12.95  8.24   7.18   1         \n",
       "23 16.93 13.37  17.59   1         \n",
       "24 14.70 10.78  14.58   1         \n",
       "25 10.32  5.16  17.00   1         \n",
       "26  8.98  4.49   4.26   1         \n",
       "27  9.70 11.59   6.83   1         \n",
       "28 12.72  8.63   5.59   1         \n",
       "29  9.49  2.16   6.23   1         \n",
       "30  8.22  7.95   6.72   1         \n",
       "31 13.70 11.22   4.91   1         \n",
       "32  8.21  9.85   8.17   1         \n",
       "33 15.86 11.42  13.06   1         \n",
       "34  9.18  9.18   9.49   1         \n",
       "35 12.49  4.67  11.94   1         \n",
       "36 17.32  6.86   4.44   1         \n",
       "37  8.50 12.26   9.11   2         \n",
       "38  7.42  5.13  17.15   2         \n",
       "39 10.28  3.32  11.23   2         \n",
       "40 10.16 14.72   5.99   2         \n",
       "41 12.79  4.17  29.28   2         \n",
       "42  9.60 12.72  11.00   2         \n",
       "43  6.47  8.89  19.00   2         \n",
       "44 11.35  9.95  14.53   2         \n",
       "45  9.15  2.94  13.68   2         \n",
       "46  9.70  5.06  20.84   2         \n",
       "47  9.77 17.86  35.18   2         \n",
       "48 11.61 11.75  17.00   2         \n",
       "49  9.09 13.25  20.66   2         \n",
       "50  8.53 10.14  17.45   2         \n",
       "51  8.29  6.22  16.38   2         \n",
       "52 15.90 12.90  19.09   2         \n",
       "53 11.94  5.69  14.77   2         \n",
       "54  9.54 16.77  22.66   2         \n",
       "55 10.43 17.65  10.66   2         \n",
       "56 10.87 21.52  28.47   2         \n",
       "57  7.13 13.22  19.44   2         \n",
       "58 11.88 12.18  21.20   2         \n",
       "59 12.03  9.22  23.09   2         "
      ]
     },
     "metadata": {},
     "output_type": "display_data"
    }
   ],
   "source": [
    "# manually 1.0\n",
    "\n",
    "data <- data.frame(\n",
    "  fuel = c(16.44,7.19,9.92,4.24,11.2,14.25,13.5,13.32,29.11,12.68,7.51,9.9,10.25,11.11,12.17,10.24,10.18,8.88,12.34,8.51,26.16,12.95,16.93,14.7,10.32,8.98,9.7,12.72,9.49,8.22,13.7,8.21,15.86,9.18,12.49,17.32,8.5,7.42,10.28,10.16,12.79,9.6,6.47,11.35,9.15,9.7,9.77,11.61,9.09,8.53,8.29,15.9,11.94,9.54,10.43,10.87,7.13,11.88,12.03)\n",
    "  , repair = c(12.43,2.7,1.35,5.78,5.05,5.78,10.98,14.27,15.09,7.61,5.8,3.63,5.07,6.15,14.26,2.59,6.05,2.7,7.73,14.02,17.44,8.24,13.37,10.78,5.16,4.49,11.59,8.63,2.16,7.95,11.22,9.85,11.42,9.18,4.67,6.86,12.26,5.13,3.32,14.72,4.17,12.72,8.89,9.95,2.94,5.06,17.86,11.75,13.25,10.14,6.22,12.9,5.69,16.77,17.65,21.52,13.22,12.18,9.22)\n",
    "  , capital = c(11.23,3.92,9.75,7.78,10.67,9.88,10.6,9.45,3.28,10.23,8.13,9.13,10.17,7.61,14.39,6.09,12.14,12.23,11.68,12.01,16.89,7.18,17.59,14.58,17,4.26,6.83,5.59,6.23,6.72,4.91,8.17,13.06,9.49,11.94,4.44,9.11,17.15,11.23,5.99,29.28,11,19,14.53,13.68,20.84,35.18,17,20.66,17.45,16.38,19.09,14.77,22.66,10.66,28.47,19.44,21.2,23.09)\n",
    "  , population = c(1,1,1,1,1,1,1,1,1,1,1,1,1,1,1,1,1,1,1,1,1,1,1,1,1,1,1,1,1,1,1,1,1,1,1,1,2,2,2,2,2,2,2,2,2,2,2,2,2,2,2,2,2,2,2,2,2,2,2)\n",
    ")\n",
    "data"
   ]
  },
  {
   "cell_type": "markdown",
   "id": "d718902f",
   "metadata": {
    "heading_collapsed": true
   },
   "source": [
    "### Hipotesis"
   ]
  },
  {
   "cell_type": "markdown",
   "id": "93a91b31",
   "metadata": {
    "ExecuteTime": {
     "end_time": "2022-04-10T17:53:14.809196Z",
     "start_time": "2022-04-10T17:53:14.793Z"
    },
    "hidden": true
   },
   "source": [
    "$$\n",
    "H_0 : \\vec \\mu_1 - \\vec \\mu_2 = \\vec 0 \\\\\n",
    "H_1 : \\vec \\mu_1 - \\vec \\mu_2 \\neq \\vec 0 \\\\\n",
    "\\alpha = 0.01\n",
    "$$"
   ]
  },
  {
   "cell_type": "markdown",
   "id": "34354443",
   "metadata": {
    "ExecuteTime": {
     "end_time": "2022-04-10T17:53:51.662764Z",
     "start_time": "2022-04-10T17:53:51.647Z"
    },
    "hidden": true
   },
   "source": [
    "Asumsi\n",
    "$$\n",
    "\\Sigma _1 = \\Sigma_2\n",
    "$$"
   ]
  },
  {
   "cell_type": "markdown",
   "id": "726cb4a2",
   "metadata": {
    "hidden": true
   },
   "source": [
    "Tolak $H_0$ Apabila\n",
    "\n",
    "$$\n",
    "T^2 = (\\bar x_1 - \\bar x_2)'[(\\frac{1}{n_1} + \\frac{1}{n_2})S_{pooled}]^{-1}(\\bar x_1 - \\bar x_2) > c^2\n",
    "$$\n",
    "\n",
    "Dimana\n",
    "\n",
    "$$\n",
    "c^2 = \\frac{(n_1+n_2-2)p}{n_1+n_2-p-1}F_(p, n_1+n_2-p-1);\\alpha\n",
    "$$"
   ]
  },
  {
   "cell_type": "code",
   "execution_count": 119,
   "id": "bb8feea6",
   "metadata": {
    "ExecuteTime": {
     "end_time": "2022-04-10T18:04:32.333849Z",
     "start_time": "2022-04-10T18:04:32.280Z"
    },
    "hidden": true
   },
   "outputs": [
    {
     "data": {
      "text/html": [
       "<table class=\"dataframe\">\n",
       "<caption>A data.frame: 1 × 6</caption>\n",
       "<thead>\n",
       "\t<tr><th scope=col>Hotelling_Stat</th><th scope=col>alpha</th><th scope=col>Critical_Value</th><th scope=col>df1</th><th scope=col>df2</th><th scope=col>P_Value</th></tr>\n",
       "\t<tr><th scope=col>&lt;dbl&gt;</th><th scope=col>&lt;dbl&gt;</th><th scope=col>&lt;dbl&gt;</th><th scope=col>&lt;dbl&gt;</th><th scope=col>&lt;dbl&gt;</th><th scope=col>&lt;dbl&gt;</th></tr>\n",
       "</thead>\n",
       "<tbody>\n",
       "\t<tr><td>50.91279</td><td>0.01</td><td>12.93096</td><td>3</td><td>55</td><td>1.000461e-07</td></tr>\n",
       "</tbody>\n",
       "</table>\n"
      ],
      "text/latex": [
       "A data.frame: 1 × 6\n",
       "\\begin{tabular}{llllll}\n",
       " Hotelling\\_Stat & alpha & Critical\\_Value & df1 & df2 & P\\_Value\\\\\n",
       " <dbl> & <dbl> & <dbl> & <dbl> & <dbl> & <dbl>\\\\\n",
       "\\hline\n",
       "\t 50.91279 & 0.01 & 12.93096 & 3 & 55 & 1.000461e-07\\\\\n",
       "\\end{tabular}\n"
      ],
      "text/markdown": [
       "\n",
       "A data.frame: 1 × 6\n",
       "\n",
       "| Hotelling_Stat &lt;dbl&gt; | alpha &lt;dbl&gt; | Critical_Value &lt;dbl&gt; | df1 &lt;dbl&gt; | df2 &lt;dbl&gt; | P_Value &lt;dbl&gt; |\n",
       "|---|---|---|---|---|---|\n",
       "| 50.91279 | 0.01 | 12.93096 | 3 | 55 | 1.000461e-07 |\n",
       "\n"
      ],
      "text/plain": [
       "  Hotelling_Stat alpha Critical_Value df1 df2 P_Value     \n",
       "1 50.91279       0.01  12.93096       3   55  1.000461e-07"
      ]
     },
     "metadata": {},
     "output_type": "display_data"
    }
   ],
   "source": [
    "# n1 n2\n",
    "n1 <- nrow(getDataTreatment(data, \"population\", 1))\n",
    "n2 <- nrow(getDataTreatment(data, \"population\", 2))\n",
    "\n",
    "# the n\n",
    "n <- n1 + n2 -1\n",
    "\n",
    "# the p \n",
    "p <- 3\n",
    "\n",
    "# the alpha\n",
    "alpha <- 0.01\n",
    "\n",
    "# get some statistics\n",
    "Xbar1 <- colMeans(getDataTreatment(data, \"population\", 1))\n",
    "Xbar2 <- colMeans(getDataTreatment(data, \"population\", 2))\n",
    "\n",
    "S1 <- cov(getDataTreatment(data, \"population\", 1))\n",
    "S2 <- cov(getDataTreatment(data, \"population\", 2))\n",
    "\n",
    "Spooled <- ( (n1-1)*S1 + (n2-1)*S2 ) / (n1 + n2 - 2)\n",
    "\n",
    "# get T-statistic\n",
    "T_statistic <- t(Xbar1-Xbar2) %*% solve(((1/n1+1/n2)*Spooled)) %*% (Xbar1-Xbar2)\n",
    "\n",
    "# get p_value\n",
    "p_val <- pf(\n",
    "  T_statistic/((n-1)*p/(n-p))\n",
    "  , p, n-p\n",
    "  , lower.tail = FALSE\n",
    "  )\n",
    "\n",
    "# get critical value\n",
    "critValue <- (n-1)*p/(n-p)*qf(alpha, p, n-p, lower.tail=F)\n",
    "\n",
    "# output table\n",
    "tabel <- data.frame(\n",
    "  Hotelling_Stat = T_statistic\n",
    "  , alpha = alpha\n",
    "  , Critical_Value = critValue\n",
    "  , df1 = p\n",
    "  , df2 = n-p\n",
    "  , P_Value = p_val\n",
    ")\n",
    "\n",
    "tabel"
   ]
  },
  {
   "cell_type": "markdown",
   "id": "543687d6",
   "metadata": {
    "hidden": true
   },
   "source": [
    "Berdasarkan hasil pengujian diatas, untuk tingkat signifikansi 1% diperoleh keputusan tolak $H_0$. Hal ini mengimplikasikan terdapat perbedaan signifikan pada biaya transportasi berdasarkan jenis bahan bakar yang digunakan (gasoline vs diesel) pada setidaknya satu komponen biaya."
   ]
  },
  {
   "cell_type": "markdown",
   "id": "fe166b7a",
   "metadata": {
    "heading_collapsed": true
   },
   "source": [
    "### Kombinasi Linear yang Paling Berpengaruh Terhadap Penolakan $H_0$"
   ]
  },
  {
   "cell_type": "code",
   "execution_count": 120,
   "id": "d4ab6c7c",
   "metadata": {
    "ExecuteTime": {
     "end_time": "2022-04-10T18:05:54.594913Z",
     "start_time": "2022-04-10T18:05:54.567Z"
    },
    "hidden": true
   },
   "outputs": [
    {
     "data": {
      "text/html": [
       "<table class=\"dataframe\">\n",
       "<caption>A matrix: 3 × 1 of type dbl</caption>\n",
       "<tbody>\n",
       "\t<tr><td> 0.2547452</td></tr>\n",
       "\t<tr><td>-0.1339036</td></tr>\n",
       "\t<tr><td>-0.3188296</td></tr>\n",
       "</tbody>\n",
       "</table>\n"
      ],
      "text/latex": [
       "A matrix: 3 × 1 of type dbl\n",
       "\\begin{tabular}{l}\n",
       "\t  0.2547452\\\\\n",
       "\t -0.1339036\\\\\n",
       "\t -0.3188296\\\\\n",
       "\\end{tabular}\n"
      ],
      "text/markdown": [
       "\n",
       "A matrix: 3 × 1 of type dbl\n",
       "\n",
       "|  0.2547452 |\n",
       "| -0.1339036 |\n",
       "| -0.3188296 |\n",
       "\n"
      ],
      "text/plain": [
       "     [,1]      \n",
       "[1,]  0.2547452\n",
       "[2,] -0.1339036\n",
       "[3,] -0.3188296"
      ]
     },
     "metadata": {},
     "output_type": "display_data"
    }
   ],
   "source": [
    "a_hat <- solve(Spooled)%*%(Xbar1-Xbar2)\n",
    "rownames(a_hat) <- c()\n",
    "a_hat"
   ]
  },
  {
   "cell_type": "markdown",
   "id": "9a9b1fe6",
   "metadata": {
    "heading_collapsed": true
   },
   "source": [
    "### 99% *Simultaneous Confidence Interval*"
   ]
  },
  {
   "cell_type": "code",
   "execution_count": 122,
   "id": "b6f29ca6",
   "metadata": {
    "ExecuteTime": {
     "end_time": "2022-04-10T18:06:56.738790Z",
     "start_time": "2022-04-10T18:06:56.689Z"
    },
    "hidden": true
   },
   "outputs": [
    {
     "data": {
      "text/html": [
       "<table class=\"dataframe\">\n",
       "<caption>A data.frame: 3 × 3</caption>\n",
       "<thead>\n",
       "\t<tr><th scope=col>Difference_Variable</th><th scope=col>Lower_Hotelling</th><th scope=col>Upper_Hotelling</th></tr>\n",
       "\t<tr><th scope=col>&lt;chr&gt;</th><th scope=col>&lt;chr&gt;</th><th scope=col>&lt;chr&gt;</th></tr>\n",
       "</thead>\n",
       "<tbody>\n",
       "\t<tr><td>fuel   </td><td>-1.70434612097723</td><td>5.93026399537336 </td></tr>\n",
       "\t<tr><td>repair </td><td>-7.02226776077098</td><td>1.72291993468402 </td></tr>\n",
       "\t<tr><td>capital</td><td>-13.5264790463831</td><td>-3.62861757197436</td></tr>\n",
       "</tbody>\n",
       "</table>\n"
      ],
      "text/latex": [
       "A data.frame: 3 × 3\n",
       "\\begin{tabular}{lll}\n",
       " Difference\\_Variable & Lower\\_Hotelling & Upper\\_Hotelling\\\\\n",
       " <chr> & <chr> & <chr>\\\\\n",
       "\\hline\n",
       "\t fuel    & -1.70434612097723 & 5.93026399537336 \\\\\n",
       "\t repair  & -7.02226776077098 & 1.72291993468402 \\\\\n",
       "\t capital & -13.5264790463831 & -3.62861757197436\\\\\n",
       "\\end{tabular}\n"
      ],
      "text/markdown": [
       "\n",
       "A data.frame: 3 × 3\n",
       "\n",
       "| Difference_Variable &lt;chr&gt; | Lower_Hotelling &lt;chr&gt; | Upper_Hotelling &lt;chr&gt; |\n",
       "|---|---|---|\n",
       "| fuel    | -1.70434612097723 | 5.93026399537336  |\n",
       "| repair  | -7.02226776077098 | 1.72291993468402  |\n",
       "| capital | -13.5264790463831 | -3.62861757197436 |\n",
       "\n"
      ],
      "text/plain": [
       "  Difference_Variable Lower_Hotelling   Upper_Hotelling  \n",
       "1 fuel                -1.70434612097723 5.93026399537336 \n",
       "2 repair              -7.02226776077098 1.72291993468402 \n",
       "3 capital             -13.5264790463831 -3.62861757197436"
      ]
     },
     "metadata": {},
     "output_type": "display_data"
    }
   ],
   "source": [
    "# the alpha\n",
    "alpha <- 0.01\n",
    "\n",
    "# get critical value\n",
    "critValue <- sqrt((n-1)*p/(n-p) * qf(alpha, df1 = p, df2 = n-p, lower.tail = F))\n",
    "\n",
    "CI <- c()\n",
    "\n",
    "for(i in 1 : p){\n",
    "  \n",
    "  ## get standard error\n",
    "  standardError <- sqrt( (1/n1 + 1/n2) * Spooled[i, i])\n",
    "  \n",
    "  Upper <- Xbar1[i]-Xbar2[i] + critValue*standardError\n",
    "  Lower <- Xbar1[i]-Xbar2[i] - critValue*standardError\n",
    "  \n",
    "  CI <- rbind(CI, c(colnames(data)[i], Lower, Upper))\n",
    "}\n",
    "\n",
    "CI <- as.data.frame(CI)\n",
    "colnames(CI) <- c(\"Difference_Variable\", \"Lower_Hotelling\", \"Upper_Hotelling\")\n",
    "\n",
    "CI"
   ]
  },
  {
   "cell_type": "markdown",
   "id": "a1e9a0fc",
   "metadata": {
    "hidden": true
   },
   "source": [
    "Terlihat bahwa terdapat perbedaan yang signifikan dari biaya *capital* diantara kedua jenis truk (diesel dan gasoline). Hal ini dapat disebabkan oleh harga truk *diesel* yang secara umum lebih mahal dibandingkan truk *gasoline*."
   ]
  },
  {
   "cell_type": "markdown",
   "id": "5d9fd325",
   "metadata": {},
   "source": [
    "## Independent 2 Population"
   ]
  },
  {
   "cell_type": "markdown",
   "id": "0cbdbf42",
   "metadata": {
    "heading_collapsed": true
   },
   "source": [
    "### Data"
   ]
  },
  {
   "cell_type": "code",
   "execution_count": 123,
   "id": "d01a8b10",
   "metadata": {
    "ExecuteTime": {
     "end_time": "2022-04-10T18:08:05.604475Z",
     "start_time": "2022-04-10T18:08:05.572Z"
    },
    "hidden": true
   },
   "outputs": [],
   "source": [
    "# sample size each\n",
    "n1 <- 20\n",
    "n2 <- 20\n",
    "\n",
    "# number of variable\n",
    "p <- 4\n",
    "\n",
    "# number of population\n",
    "g <- 2\n",
    "\n",
    "Xbar1 <- c(2.287, 12.6, 0.347, 14.83)\n",
    "Xbar2 <- c(2.404, 7.155, 0.524, 12.84)\n",
    "\n",
    "S1 <- matrix(\n",
    "  c(\n",
    "    0.459, 0.254, -0.026, -0.244,\n",
    "    0.254, 27.465, -0.589, -0.267,\n",
    "    -0.026, -0.589, 0.03, 0.102,\n",
    "    -0.244, -0.267, 0.102, 6.854\n",
    "  ), ncol = 4, byrow=T\n",
    ")\n",
    "\n",
    "S2 <- matrix(\n",
    "  c(\n",
    "    0.944, -0.089, 0.002, -0.719,\n",
    "    -0.089, 16.432, -0.4, 19.044,\n",
    "    0.002, -0.4, 0.024, -0.094,\n",
    "    -0.719, 19.044, -0.094, 61.854\n",
    "  ), ncol=4, byrow=T\n",
    ")\n",
    "\n",
    "Spooled <- ((n1-1)*S1 + (n2-1)*S2)/(n1+n2-2)"
   ]
  },
  {
   "cell_type": "markdown",
   "id": "c88a0754",
   "metadata": {
    "heading_collapsed": true
   },
   "source": [
    "### Uji Homogenitas Kovarians"
   ]
  },
  {
   "cell_type": "markdown",
   "id": "bcea2940",
   "metadata": {
    "hidden": true
   },
   "source": [
    "$$\n",
    "H_0 : \\Sigma_1 = \\Sigma_2 \\\\\n",
    "H_1 : \\Sigma_1 \\neq \\Sigma_2\n",
    "$$"
   ]
  },
  {
   "cell_type": "markdown",
   "id": "b83f343a",
   "metadata": {
    "hidden": true
   },
   "source": [
    "Tolak $H_0$ apabila :\n",
    "\n",
    "$$\n",
    "-2~log~\\Pi (\\frac{|S_k|}{|S_p|})^{(n_k-1)/2}~ >~ \\frac{1}{1-u}\\chi^2_v \n",
    "$$"
   ]
  },
  {
   "cell_type": "code",
   "execution_count": 124,
   "id": "91025a9e",
   "metadata": {
    "ExecuteTime": {
     "end_time": "2022-04-10T18:09:03.394527Z",
     "start_time": "2022-04-10T18:09:03.349Z"
    },
    "hidden": true
   },
   "outputs": [
    {
     "data": {
      "text/html": [
       "<table class=\"dataframe\">\n",
       "<caption>A data.frame: 1 × 2</caption>\n",
       "<thead>\n",
       "\t<tr><th scope=col>GeorgeBox.Statistic</th><th scope=col>Critical.Value</th></tr>\n",
       "\t<tr><th scope=col>&lt;dbl&gt;</th><th scope=col>&lt;dbl&gt;</th></tr>\n",
       "</thead>\n",
       "<tbody>\n",
       "\t<tr><td>30.83605</td><td>20.7709</td></tr>\n",
       "</tbody>\n",
       "</table>\n"
      ],
      "text/latex": [
       "A data.frame: 1 × 2\n",
       "\\begin{tabular}{ll}\n",
       " GeorgeBox.Statistic & Critical.Value\\\\\n",
       " <dbl> & <dbl>\\\\\n",
       "\\hline\n",
       "\t 30.83605 & 20.7709\\\\\n",
       "\\end{tabular}\n"
      ],
      "text/markdown": [
       "\n",
       "A data.frame: 1 × 2\n",
       "\n",
       "| GeorgeBox.Statistic &lt;dbl&gt; | Critical.Value &lt;dbl&gt; |\n",
       "|---|---|\n",
       "| 30.83605 | 20.7709 |\n",
       "\n"
      ],
      "text/plain": [
       "  GeorgeBox.Statistic Critical.Value\n",
       "1 30.83605            20.7709       "
      ]
     },
     "metadata": {},
     "output_type": "display_data"
    }
   ],
   "source": [
    "lambda <- ( det(S1)/det(Spooled) )^((n1-1)/2) *\n",
    "          ( det(S2)/det(Spooled) )^((n2-1)/2)\n",
    "\n",
    "GeorgeBox.Stat <- -2*log(lambda)\n",
    "u <- (1/n1 + 1/n2 - 1/n)*((2*p*p + 3*p - 1)/(6*(p+1)))\n",
    "v <- p*(p+1)/2\n",
    "critValue <- (1/(1-u))*qchisq(0.05, v, lower.tail=F)\n",
    "\n",
    "data.frame(\n",
    "  GeorgeBox.Statistic = GeorgeBox.Stat,\n",
    "  Critical.Value = critValue\n",
    ")"
   ]
  },
  {
   "cell_type": "markdown",
   "id": "3f668e0d",
   "metadata": {
    "hidden": true
   },
   "source": [
    "Berdasarkan hasil uji homogenitas kovarians George Box diatas terlihat diperoleh hasil tolak $H_0$. Hal ini mengimplikasikan bahwa terdapat perbedaan yang signifikan dari matriks kovarians kedua populasi, yang mengindikasikan bahwa skema *covariance pooling* mungkin tidak dapat digunakan."
   ]
  },
  {
   "cell_type": "markdown",
   "id": "0127c9f4",
   "metadata": {},
   "source": [
    "### Uji Perbedaan"
   ]
  },
  {
   "cell_type": "markdown",
   "id": "68128f30",
   "metadata": {
    "heading_collapsed": true
   },
   "source": [
    "#### Hipotesis"
   ]
  },
  {
   "cell_type": "code",
   "execution_count": null,
   "id": "da60080f",
   "metadata": {
    "hidden": true
   },
   "outputs": [],
   "source": [
    "$$\n",
    "H_0 : \\vec \\mu_1 - \\vec \\mu_2 = \\vec 0 \\\\\n",
    "H_1 : \\vec \\mu_1 - \\vec \\mu_2 \\neq \\vec 0 \\\\\n",
    "\\alpha = 0.01\n",
    "$$"
   ]
  },
  {
   "cell_type": "markdown",
   "id": "6ed1669d",
   "metadata": {
    "hidden": true
   },
   "source": [
    "Asumsi\n",
    "\n",
    "$$\n",
    "\\Sigma _1 = \\Sigma_2\n",
    "$$\n",
    "\n",
    "Tolak $H_0$ Apabila\n",
    "\n",
    "$$\n",
    "T^2 = (\\bar x_1 - \\bar x_2)'[(\\frac{1}{n_1} + \\frac{1}{n_2})S_{pooled}]^{-1}(\\bar x_1 - \\bar x_2) > c^2\n",
    "$$\n",
    "\n",
    "Dimana\n",
    "\n",
    "$$\n",
    "c^2 = \\frac{(n_1+n_2-2)p}{n_1+n_2-p-1}F_(p, n_1+n_2-p-1);\\alpha\n",
    "$$"
   ]
  },
  {
   "cell_type": "code",
   "execution_count": 125,
   "id": "1640bdf3",
   "metadata": {
    "ExecuteTime": {
     "end_time": "2022-04-10T18:11:22.229345Z",
     "start_time": "2022-04-10T18:11:22.192Z"
    },
    "hidden": true
   },
   "outputs": [
    {
     "data": {
      "text/html": [
       "<table class=\"dataframe\">\n",
       "<caption>A data.frame: 1 × 6</caption>\n",
       "<thead>\n",
       "\t<tr><th scope=col>Hotelling_Stat</th><th scope=col>alpha</th><th scope=col>Critical_Value</th><th scope=col>df1</th><th scope=col>df2</th><th scope=col>P_Value</th></tr>\n",
       "\t<tr><th scope=col>&lt;dbl&gt;</th><th scope=col>&lt;dbl&gt;</th><th scope=col>&lt;dbl&gt;</th><th scope=col>&lt;dbl&gt;</th><th scope=col>&lt;dbl&gt;</th><th scope=col>&lt;dbl&gt;</th></tr>\n",
       "</thead>\n",
       "<tbody>\n",
       "\t<tr><td>15.82996</td><td>0.05</td><td>10.73676</td><td>4</td><td>54</td><td>0.009185792</td></tr>\n",
       "</tbody>\n",
       "</table>\n"
      ],
      "text/latex": [
       "A data.frame: 1 × 6\n",
       "\\begin{tabular}{llllll}\n",
       " Hotelling\\_Stat & alpha & Critical\\_Value & df1 & df2 & P\\_Value\\\\\n",
       " <dbl> & <dbl> & <dbl> & <dbl> & <dbl> & <dbl>\\\\\n",
       "\\hline\n",
       "\t 15.82996 & 0.05 & 10.73676 & 4 & 54 & 0.009185792\\\\\n",
       "\\end{tabular}\n"
      ],
      "text/markdown": [
       "\n",
       "A data.frame: 1 × 6\n",
       "\n",
       "| Hotelling_Stat &lt;dbl&gt; | alpha &lt;dbl&gt; | Critical_Value &lt;dbl&gt; | df1 &lt;dbl&gt; | df2 &lt;dbl&gt; | P_Value &lt;dbl&gt; |\n",
       "|---|---|---|---|---|---|\n",
       "| 15.82996 | 0.05 | 10.73676 | 4 | 54 | 0.009185792 |\n",
       "\n"
      ],
      "text/plain": [
       "  Hotelling_Stat alpha Critical_Value df1 df2 P_Value    \n",
       "1 15.82996       0.05  10.73676       4   54  0.009185792"
      ]
     },
     "metadata": {},
     "output_type": "display_data"
    }
   ],
   "source": [
    "# the alpha\n",
    "alpha <- 0.05\n",
    "\n",
    "# get T-statistic\n",
    "T_statistic <- t(Xbar1-Xbar2) %*% solve(((1/n1+1/n2)*Spooled)) %*% (Xbar1-Xbar2)\n",
    "\n",
    "# get p_value\n",
    "p_val <- pf(\n",
    "  T_statistic/((n-1)*p/(n-p))\n",
    "  , p, n-p\n",
    "  , lower.tail = FALSE\n",
    "  )\n",
    "\n",
    "# get critical value\n",
    "critValue <- (n-1)*p/(n-p)*qf(alpha, p, n-p, lower.tail=F)\n",
    "\n",
    "# output table\n",
    "tabel <- data.frame(\n",
    "  Hotelling_Stat = T_statistic\n",
    "  , alpha = alpha\n",
    "  , Critical_Value = critValue\n",
    "  , df1 = p\n",
    "  , df2 = n-p\n",
    "  , P_Value = p_val\n",
    ")\n",
    "\n",
    "tabel"
   ]
  },
  {
   "cell_type": "markdown",
   "id": "ffadaa83",
   "metadata": {
    "hidden": true
   },
   "source": [
    "Berdasarkan hasil pengujian diatas untuk tingkat signifikansi 5% diperoleh keputusan tolak $H_0$. Hal ini mengimplikasikan bahwa terdapat perbedaan karakteristik finansial dari kedua jenis obligasi (kualitas tinggi dan menengah), yaitu setidaknya pada salah satu indikator performa yang telah disebutkan sebelumnya."
   ]
  },
  {
   "cell_type": "markdown",
   "id": "a62417d0",
   "metadata": {
    "heading_collapsed": true
   },
   "source": [
    "#### 95% Simultaneous Confidence Interval"
   ]
  },
  {
   "cell_type": "code",
   "execution_count": 126,
   "id": "a28ea28e",
   "metadata": {
    "ExecuteTime": {
     "end_time": "2022-04-10T18:11:50.520262Z",
     "start_time": "2022-04-10T18:11:50.470Z"
    },
    "hidden": true
   },
   "outputs": [
    {
     "data": {
      "text/html": [
       "<table class=\"dataframe\">\n",
       "<caption>A data.frame: 4 × 3</caption>\n",
       "<thead>\n",
       "\t<tr><th scope=col>Difference_Variable</th><th scope=col>Lower_Hotelling</th><th scope=col>Upper_Hotelling</th></tr>\n",
       "\t<tr><th scope=col>&lt;chr&gt;</th><th scope=col>&lt;chr&gt;</th><th scope=col>&lt;chr&gt;</th></tr>\n",
       "</thead>\n",
       "<tbody>\n",
       "\t<tr><td>current.ratio           </td><td>-0.984861692078651</td><td>0.750861692078651   </td></tr>\n",
       "\t<tr><td>long-term.interest.rate </td><td>0.590560379998602 </td><td>10.2994396200014    </td></tr>\n",
       "\t<tr><td>debt-to-equity.ratio    </td><td>-0.347262326417209</td><td>-0.00673767358279079</td></tr>\n",
       "\t<tr><td>rate.of.return.on.equity</td><td>-4.08330842495852 </td><td>8.06330842495852    </td></tr>\n",
       "</tbody>\n",
       "</table>\n"
      ],
      "text/latex": [
       "A data.frame: 4 × 3\n",
       "\\begin{tabular}{lll}\n",
       " Difference\\_Variable & Lower\\_Hotelling & Upper\\_Hotelling\\\\\n",
       " <chr> & <chr> & <chr>\\\\\n",
       "\\hline\n",
       "\t current.ratio            & -0.984861692078651 & 0.750861692078651   \\\\\n",
       "\t long-term.interest.rate  & 0.590560379998602  & 10.2994396200014    \\\\\n",
       "\t debt-to-equity.ratio     & -0.347262326417209 & -0.00673767358279079\\\\\n",
       "\t rate.of.return.on.equity & -4.08330842495852  & 8.06330842495852    \\\\\n",
       "\\end{tabular}\n"
      ],
      "text/markdown": [
       "\n",
       "A data.frame: 4 × 3\n",
       "\n",
       "| Difference_Variable &lt;chr&gt; | Lower_Hotelling &lt;chr&gt; | Upper_Hotelling &lt;chr&gt; |\n",
       "|---|---|---|\n",
       "| current.ratio            | -0.984861692078651 | 0.750861692078651    |\n",
       "| long-term.interest.rate  | 0.590560379998602  | 10.2994396200014     |\n",
       "| debt-to-equity.ratio     | -0.347262326417209 | -0.00673767358279079 |\n",
       "| rate.of.return.on.equity | -4.08330842495852  | 8.06330842495852     |\n",
       "\n"
      ],
      "text/plain": [
       "  Difference_Variable      Lower_Hotelling    Upper_Hotelling     \n",
       "1 current.ratio            -0.984861692078651 0.750861692078651   \n",
       "2 long-term.interest.rate  0.590560379998602  10.2994396200014    \n",
       "3 debt-to-equity.ratio     -0.347262326417209 -0.00673767358279079\n",
       "4 rate.of.return.on.equity -4.08330842495852  8.06330842495852    "
      ]
     },
     "metadata": {},
     "output_type": "display_data"
    }
   ],
   "source": [
    "# the alpha\n",
    "alpha <- 0.05\n",
    "\n",
    "# get critical value\n",
    "critValue <- sqrt(\n",
    "  (n-1)*p/(n-p) * qf(alpha, df1 = p, df2 = n-p, lower.tail = F)\n",
    ")\n",
    "\n",
    "# nama\n",
    "nama <- c(\"current.ratio\", \"long-term.interest.rate\", \"debt-to-equity.ratio\", \"rate.of.return.on.equity\")\n",
    "\n",
    "CI <- c()\n",
    "\n",
    "for(i in 1 : p){\n",
    "  \n",
    "  ## get standard error\n",
    "  standardError <- sqrt( (1/n1 + 1/n2) * Spooled[i, i])\n",
    "  \n",
    "  Upper <- Xbar1[i]-Xbar2[i] + critValue*standardError\n",
    "  Lower <- Xbar1[i]-Xbar2[i] - critValue*standardError\n",
    "  \n",
    "  CI <- rbind(CI, c(nama[i], Lower, Upper))\n",
    "}\n",
    "\n",
    "CI <- as.data.frame(CI)\n",
    "colnames(CI) <- c(\"Difference_Variable\", \"Lower_Hotelling\", \"Upper_Hotelling\")\n",
    "\n",
    "CI"
   ]
  },
  {
   "cell_type": "markdown",
   "id": "a20a14b6",
   "metadata": {
    "hidden": true
   },
   "source": [
    "Berdasarkan 95% *simultaneous CI* di atas terlihat bahwa indikator **long term interest rate** dan **debt to equity ratio** tidak mengandung 0, yang mengimplikasikan adanya perbedaan yang signfikan di dua komponen ini pada kedua jenis obligasi (kualitas tinggi, dan rendah). Dengan demikian dua komponen ini dapat digunakan untuk mengklasifikasikan bond dengan kualitas tinggi maupun rendah dengan ciri-ciri :\n",
    "\n",
    "1.  Obligasi berkualitas tinggi cenderung memiliki nilai **long term interest rate** yang lebih tinggi dibandingkan obligasi berkualitas rendah.\n",
    "2.  Sedangkan dalam hal **debt to equity ratio** obligasi berkualtias tinggi cenderung memiliki nilai yang lebih rendah dibandingkan obligasi berkualitas rendah."
   ]
  },
  {
   "cell_type": "markdown",
   "id": "ab8245ee",
   "metadata": {},
   "source": [
    "## Manova"
   ]
  },
  {
   "cell_type": "markdown",
   "id": "3df1c71f",
   "metadata": {},
   "source": [
    "### Data"
   ]
  },
  {
   "cell_type": "code",
   "execution_count": 129,
   "id": "5d7b8d74",
   "metadata": {
    "ExecuteTime": {
     "end_time": "2022-04-10T18:13:04.879954Z",
     "start_time": "2022-04-10T18:13:04.812Z"
    },
    "scrolled": true
   },
   "outputs": [
    {
     "data": {
      "text/html": [
       "<table class=\"dataframe\">\n",
       "<caption>A data.frame: 150 × 5</caption>\n",
       "<thead>\n",
       "\t<tr><th scope=col>Sepal.Length</th><th scope=col>Sepal.Width</th><th scope=col>Petal.Length</th><th scope=col>Petal.Width</th><th scope=col>Species</th></tr>\n",
       "\t<tr><th scope=col>&lt;dbl&gt;</th><th scope=col>&lt;dbl&gt;</th><th scope=col>&lt;dbl&gt;</th><th scope=col>&lt;dbl&gt;</th><th scope=col>&lt;int&gt;</th></tr>\n",
       "</thead>\n",
       "<tbody>\n",
       "\t<tr><td>5.1</td><td>3.5</td><td>1.4</td><td>0.2</td><td>1</td></tr>\n",
       "\t<tr><td>4.9</td><td>3.0</td><td>1.4</td><td>0.2</td><td>1</td></tr>\n",
       "\t<tr><td>4.7</td><td>3.2</td><td>1.3</td><td>0.2</td><td>1</td></tr>\n",
       "\t<tr><td>4.6</td><td>3.1</td><td>1.5</td><td>0.2</td><td>1</td></tr>\n",
       "\t<tr><td>5.0</td><td>3.6</td><td>1.4</td><td>0.2</td><td>1</td></tr>\n",
       "\t<tr><td>5.4</td><td>3.9</td><td>1.7</td><td>0.4</td><td>1</td></tr>\n",
       "\t<tr><td>4.6</td><td>3.4</td><td>1.4</td><td>0.3</td><td>1</td></tr>\n",
       "\t<tr><td>5.0</td><td>3.4</td><td>1.5</td><td>0.2</td><td>1</td></tr>\n",
       "\t<tr><td>4.4</td><td>2.9</td><td>1.4</td><td>0.2</td><td>1</td></tr>\n",
       "\t<tr><td>4.9</td><td>3.1</td><td>1.5</td><td>0.1</td><td>1</td></tr>\n",
       "\t<tr><td>5.4</td><td>3.7</td><td>1.5</td><td>0.2</td><td>1</td></tr>\n",
       "\t<tr><td>4.8</td><td>3.4</td><td>1.6</td><td>0.2</td><td>1</td></tr>\n",
       "\t<tr><td>4.8</td><td>3.0</td><td>1.4</td><td>0.1</td><td>1</td></tr>\n",
       "\t<tr><td>4.3</td><td>3.0</td><td>1.1</td><td>0.1</td><td>1</td></tr>\n",
       "\t<tr><td>5.8</td><td>4.0</td><td>1.2</td><td>0.2</td><td>1</td></tr>\n",
       "\t<tr><td>5.7</td><td>4.4</td><td>1.5</td><td>0.4</td><td>1</td></tr>\n",
       "\t<tr><td>5.4</td><td>3.9</td><td>1.3</td><td>0.4</td><td>1</td></tr>\n",
       "\t<tr><td>5.1</td><td>3.5</td><td>1.4</td><td>0.3</td><td>1</td></tr>\n",
       "\t<tr><td>5.7</td><td>3.8</td><td>1.7</td><td>0.3</td><td>1</td></tr>\n",
       "\t<tr><td>5.1</td><td>3.8</td><td>1.5</td><td>0.3</td><td>1</td></tr>\n",
       "\t<tr><td>5.4</td><td>3.4</td><td>1.7</td><td>0.2</td><td>1</td></tr>\n",
       "\t<tr><td>5.1</td><td>3.7</td><td>1.5</td><td>0.4</td><td>1</td></tr>\n",
       "\t<tr><td>4.6</td><td>3.6</td><td>1.0</td><td>0.2</td><td>1</td></tr>\n",
       "\t<tr><td>5.1</td><td>3.3</td><td>1.7</td><td>0.5</td><td>1</td></tr>\n",
       "\t<tr><td>4.8</td><td>3.4</td><td>1.9</td><td>0.2</td><td>1</td></tr>\n",
       "\t<tr><td>5.0</td><td>3.0</td><td>1.6</td><td>0.2</td><td>1</td></tr>\n",
       "\t<tr><td>5.0</td><td>3.4</td><td>1.6</td><td>0.4</td><td>1</td></tr>\n",
       "\t<tr><td>5.2</td><td>3.5</td><td>1.5</td><td>0.2</td><td>1</td></tr>\n",
       "\t<tr><td>5.2</td><td>3.4</td><td>1.4</td><td>0.2</td><td>1</td></tr>\n",
       "\t<tr><td>4.7</td><td>3.2</td><td>1.6</td><td>0.2</td><td>1</td></tr>\n",
       "\t<tr><td>⋮</td><td>⋮</td><td>⋮</td><td>⋮</td><td>⋮</td></tr>\n",
       "\t<tr><td>6.9</td><td>3.2</td><td>5.7</td><td>2.3</td><td>3</td></tr>\n",
       "\t<tr><td>5.6</td><td>2.8</td><td>4.9</td><td>2.0</td><td>3</td></tr>\n",
       "\t<tr><td>7.7</td><td>2.8</td><td>6.7</td><td>2.0</td><td>3</td></tr>\n",
       "\t<tr><td>6.3</td><td>2.7</td><td>4.9</td><td>1.8</td><td>3</td></tr>\n",
       "\t<tr><td>6.7</td><td>3.3</td><td>5.7</td><td>2.1</td><td>3</td></tr>\n",
       "\t<tr><td>7.2</td><td>3.2</td><td>6.0</td><td>1.8</td><td>3</td></tr>\n",
       "\t<tr><td>6.2</td><td>2.8</td><td>4.8</td><td>1.8</td><td>3</td></tr>\n",
       "\t<tr><td>6.1</td><td>3.0</td><td>4.9</td><td>1.8</td><td>3</td></tr>\n",
       "\t<tr><td>6.4</td><td>2.8</td><td>5.6</td><td>2.1</td><td>3</td></tr>\n",
       "\t<tr><td>7.2</td><td>3.0</td><td>5.8</td><td>1.6</td><td>3</td></tr>\n",
       "\t<tr><td>7.4</td><td>2.8</td><td>6.1</td><td>1.9</td><td>3</td></tr>\n",
       "\t<tr><td>7.9</td><td>3.8</td><td>6.4</td><td>2.0</td><td>3</td></tr>\n",
       "\t<tr><td>6.4</td><td>2.8</td><td>5.6</td><td>2.2</td><td>3</td></tr>\n",
       "\t<tr><td>6.3</td><td>2.8</td><td>5.1</td><td>1.5</td><td>3</td></tr>\n",
       "\t<tr><td>6.1</td><td>2.6</td><td>5.6</td><td>1.4</td><td>3</td></tr>\n",
       "\t<tr><td>7.7</td><td>3.0</td><td>6.1</td><td>2.3</td><td>3</td></tr>\n",
       "\t<tr><td>6.3</td><td>3.4</td><td>5.6</td><td>2.4</td><td>3</td></tr>\n",
       "\t<tr><td>6.4</td><td>3.1</td><td>5.5</td><td>1.8</td><td>3</td></tr>\n",
       "\t<tr><td>6.0</td><td>3.0</td><td>4.8</td><td>1.8</td><td>3</td></tr>\n",
       "\t<tr><td>6.9</td><td>3.1</td><td>5.4</td><td>2.1</td><td>3</td></tr>\n",
       "\t<tr><td>6.7</td><td>3.1</td><td>5.6</td><td>2.4</td><td>3</td></tr>\n",
       "\t<tr><td>6.9</td><td>3.1</td><td>5.1</td><td>2.3</td><td>3</td></tr>\n",
       "\t<tr><td>5.8</td><td>2.7</td><td>5.1</td><td>1.9</td><td>3</td></tr>\n",
       "\t<tr><td>6.8</td><td>3.2</td><td>5.9</td><td>2.3</td><td>3</td></tr>\n",
       "\t<tr><td>6.7</td><td>3.3</td><td>5.7</td><td>2.5</td><td>3</td></tr>\n",
       "\t<tr><td>6.7</td><td>3.0</td><td>5.2</td><td>2.3</td><td>3</td></tr>\n",
       "\t<tr><td>6.3</td><td>2.5</td><td>5.0</td><td>1.9</td><td>3</td></tr>\n",
       "\t<tr><td>6.5</td><td>3.0</td><td>5.2</td><td>2.0</td><td>3</td></tr>\n",
       "\t<tr><td>6.2</td><td>3.4</td><td>5.4</td><td>2.3</td><td>3</td></tr>\n",
       "\t<tr><td>5.9</td><td>3.0</td><td>5.1</td><td>1.8</td><td>3</td></tr>\n",
       "</tbody>\n",
       "</table>\n"
      ],
      "text/latex": [
       "A data.frame: 150 × 5\n",
       "\\begin{tabular}{lllll}\n",
       " Sepal.Length & Sepal.Width & Petal.Length & Petal.Width & Species\\\\\n",
       " <dbl> & <dbl> & <dbl> & <dbl> & <int>\\\\\n",
       "\\hline\n",
       "\t 5.1 & 3.5 & 1.4 & 0.2 & 1\\\\\n",
       "\t 4.9 & 3.0 & 1.4 & 0.2 & 1\\\\\n",
       "\t 4.7 & 3.2 & 1.3 & 0.2 & 1\\\\\n",
       "\t 4.6 & 3.1 & 1.5 & 0.2 & 1\\\\\n",
       "\t 5.0 & 3.6 & 1.4 & 0.2 & 1\\\\\n",
       "\t 5.4 & 3.9 & 1.7 & 0.4 & 1\\\\\n",
       "\t 4.6 & 3.4 & 1.4 & 0.3 & 1\\\\\n",
       "\t 5.0 & 3.4 & 1.5 & 0.2 & 1\\\\\n",
       "\t 4.4 & 2.9 & 1.4 & 0.2 & 1\\\\\n",
       "\t 4.9 & 3.1 & 1.5 & 0.1 & 1\\\\\n",
       "\t 5.4 & 3.7 & 1.5 & 0.2 & 1\\\\\n",
       "\t 4.8 & 3.4 & 1.6 & 0.2 & 1\\\\\n",
       "\t 4.8 & 3.0 & 1.4 & 0.1 & 1\\\\\n",
       "\t 4.3 & 3.0 & 1.1 & 0.1 & 1\\\\\n",
       "\t 5.8 & 4.0 & 1.2 & 0.2 & 1\\\\\n",
       "\t 5.7 & 4.4 & 1.5 & 0.4 & 1\\\\\n",
       "\t 5.4 & 3.9 & 1.3 & 0.4 & 1\\\\\n",
       "\t 5.1 & 3.5 & 1.4 & 0.3 & 1\\\\\n",
       "\t 5.7 & 3.8 & 1.7 & 0.3 & 1\\\\\n",
       "\t 5.1 & 3.8 & 1.5 & 0.3 & 1\\\\\n",
       "\t 5.4 & 3.4 & 1.7 & 0.2 & 1\\\\\n",
       "\t 5.1 & 3.7 & 1.5 & 0.4 & 1\\\\\n",
       "\t 4.6 & 3.6 & 1.0 & 0.2 & 1\\\\\n",
       "\t 5.1 & 3.3 & 1.7 & 0.5 & 1\\\\\n",
       "\t 4.8 & 3.4 & 1.9 & 0.2 & 1\\\\\n",
       "\t 5.0 & 3.0 & 1.6 & 0.2 & 1\\\\\n",
       "\t 5.0 & 3.4 & 1.6 & 0.4 & 1\\\\\n",
       "\t 5.2 & 3.5 & 1.5 & 0.2 & 1\\\\\n",
       "\t 5.2 & 3.4 & 1.4 & 0.2 & 1\\\\\n",
       "\t 4.7 & 3.2 & 1.6 & 0.2 & 1\\\\\n",
       "\t ⋮ & ⋮ & ⋮ & ⋮ & ⋮\\\\\n",
       "\t 6.9 & 3.2 & 5.7 & 2.3 & 3\\\\\n",
       "\t 5.6 & 2.8 & 4.9 & 2.0 & 3\\\\\n",
       "\t 7.7 & 2.8 & 6.7 & 2.0 & 3\\\\\n",
       "\t 6.3 & 2.7 & 4.9 & 1.8 & 3\\\\\n",
       "\t 6.7 & 3.3 & 5.7 & 2.1 & 3\\\\\n",
       "\t 7.2 & 3.2 & 6.0 & 1.8 & 3\\\\\n",
       "\t 6.2 & 2.8 & 4.8 & 1.8 & 3\\\\\n",
       "\t 6.1 & 3.0 & 4.9 & 1.8 & 3\\\\\n",
       "\t 6.4 & 2.8 & 5.6 & 2.1 & 3\\\\\n",
       "\t 7.2 & 3.0 & 5.8 & 1.6 & 3\\\\\n",
       "\t 7.4 & 2.8 & 6.1 & 1.9 & 3\\\\\n",
       "\t 7.9 & 3.8 & 6.4 & 2.0 & 3\\\\\n",
       "\t 6.4 & 2.8 & 5.6 & 2.2 & 3\\\\\n",
       "\t 6.3 & 2.8 & 5.1 & 1.5 & 3\\\\\n",
       "\t 6.1 & 2.6 & 5.6 & 1.4 & 3\\\\\n",
       "\t 7.7 & 3.0 & 6.1 & 2.3 & 3\\\\\n",
       "\t 6.3 & 3.4 & 5.6 & 2.4 & 3\\\\\n",
       "\t 6.4 & 3.1 & 5.5 & 1.8 & 3\\\\\n",
       "\t 6.0 & 3.0 & 4.8 & 1.8 & 3\\\\\n",
       "\t 6.9 & 3.1 & 5.4 & 2.1 & 3\\\\\n",
       "\t 6.7 & 3.1 & 5.6 & 2.4 & 3\\\\\n",
       "\t 6.9 & 3.1 & 5.1 & 2.3 & 3\\\\\n",
       "\t 5.8 & 2.7 & 5.1 & 1.9 & 3\\\\\n",
       "\t 6.8 & 3.2 & 5.9 & 2.3 & 3\\\\\n",
       "\t 6.7 & 3.3 & 5.7 & 2.5 & 3\\\\\n",
       "\t 6.7 & 3.0 & 5.2 & 2.3 & 3\\\\\n",
       "\t 6.3 & 2.5 & 5.0 & 1.9 & 3\\\\\n",
       "\t 6.5 & 3.0 & 5.2 & 2.0 & 3\\\\\n",
       "\t 6.2 & 3.4 & 5.4 & 2.3 & 3\\\\\n",
       "\t 5.9 & 3.0 & 5.1 & 1.8 & 3\\\\\n",
       "\\end{tabular}\n"
      ],
      "text/markdown": [
       "\n",
       "A data.frame: 150 × 5\n",
       "\n",
       "| Sepal.Length &lt;dbl&gt; | Sepal.Width &lt;dbl&gt; | Petal.Length &lt;dbl&gt; | Petal.Width &lt;dbl&gt; | Species &lt;int&gt; |\n",
       "|---|---|---|---|---|\n",
       "| 5.1 | 3.5 | 1.4 | 0.2 | 1 |\n",
       "| 4.9 | 3.0 | 1.4 | 0.2 | 1 |\n",
       "| 4.7 | 3.2 | 1.3 | 0.2 | 1 |\n",
       "| 4.6 | 3.1 | 1.5 | 0.2 | 1 |\n",
       "| 5.0 | 3.6 | 1.4 | 0.2 | 1 |\n",
       "| 5.4 | 3.9 | 1.7 | 0.4 | 1 |\n",
       "| 4.6 | 3.4 | 1.4 | 0.3 | 1 |\n",
       "| 5.0 | 3.4 | 1.5 | 0.2 | 1 |\n",
       "| 4.4 | 2.9 | 1.4 | 0.2 | 1 |\n",
       "| 4.9 | 3.1 | 1.5 | 0.1 | 1 |\n",
       "| 5.4 | 3.7 | 1.5 | 0.2 | 1 |\n",
       "| 4.8 | 3.4 | 1.6 | 0.2 | 1 |\n",
       "| 4.8 | 3.0 | 1.4 | 0.1 | 1 |\n",
       "| 4.3 | 3.0 | 1.1 | 0.1 | 1 |\n",
       "| 5.8 | 4.0 | 1.2 | 0.2 | 1 |\n",
       "| 5.7 | 4.4 | 1.5 | 0.4 | 1 |\n",
       "| 5.4 | 3.9 | 1.3 | 0.4 | 1 |\n",
       "| 5.1 | 3.5 | 1.4 | 0.3 | 1 |\n",
       "| 5.7 | 3.8 | 1.7 | 0.3 | 1 |\n",
       "| 5.1 | 3.8 | 1.5 | 0.3 | 1 |\n",
       "| 5.4 | 3.4 | 1.7 | 0.2 | 1 |\n",
       "| 5.1 | 3.7 | 1.5 | 0.4 | 1 |\n",
       "| 4.6 | 3.6 | 1.0 | 0.2 | 1 |\n",
       "| 5.1 | 3.3 | 1.7 | 0.5 | 1 |\n",
       "| 4.8 | 3.4 | 1.9 | 0.2 | 1 |\n",
       "| 5.0 | 3.0 | 1.6 | 0.2 | 1 |\n",
       "| 5.0 | 3.4 | 1.6 | 0.4 | 1 |\n",
       "| 5.2 | 3.5 | 1.5 | 0.2 | 1 |\n",
       "| 5.2 | 3.4 | 1.4 | 0.2 | 1 |\n",
       "| 4.7 | 3.2 | 1.6 | 0.2 | 1 |\n",
       "| ⋮ | ⋮ | ⋮ | ⋮ | ⋮ |\n",
       "| 6.9 | 3.2 | 5.7 | 2.3 | 3 |\n",
       "| 5.6 | 2.8 | 4.9 | 2.0 | 3 |\n",
       "| 7.7 | 2.8 | 6.7 | 2.0 | 3 |\n",
       "| 6.3 | 2.7 | 4.9 | 1.8 | 3 |\n",
       "| 6.7 | 3.3 | 5.7 | 2.1 | 3 |\n",
       "| 7.2 | 3.2 | 6.0 | 1.8 | 3 |\n",
       "| 6.2 | 2.8 | 4.8 | 1.8 | 3 |\n",
       "| 6.1 | 3.0 | 4.9 | 1.8 | 3 |\n",
       "| 6.4 | 2.8 | 5.6 | 2.1 | 3 |\n",
       "| 7.2 | 3.0 | 5.8 | 1.6 | 3 |\n",
       "| 7.4 | 2.8 | 6.1 | 1.9 | 3 |\n",
       "| 7.9 | 3.8 | 6.4 | 2.0 | 3 |\n",
       "| 6.4 | 2.8 | 5.6 | 2.2 | 3 |\n",
       "| 6.3 | 2.8 | 5.1 | 1.5 | 3 |\n",
       "| 6.1 | 2.6 | 5.6 | 1.4 | 3 |\n",
       "| 7.7 | 3.0 | 6.1 | 2.3 | 3 |\n",
       "| 6.3 | 3.4 | 5.6 | 2.4 | 3 |\n",
       "| 6.4 | 3.1 | 5.5 | 1.8 | 3 |\n",
       "| 6.0 | 3.0 | 4.8 | 1.8 | 3 |\n",
       "| 6.9 | 3.1 | 5.4 | 2.1 | 3 |\n",
       "| 6.7 | 3.1 | 5.6 | 2.4 | 3 |\n",
       "| 6.9 | 3.1 | 5.1 | 2.3 | 3 |\n",
       "| 5.8 | 2.7 | 5.1 | 1.9 | 3 |\n",
       "| 6.8 | 3.2 | 5.9 | 2.3 | 3 |\n",
       "| 6.7 | 3.3 | 5.7 | 2.5 | 3 |\n",
       "| 6.7 | 3.0 | 5.2 | 2.3 | 3 |\n",
       "| 6.3 | 2.5 | 5.0 | 1.9 | 3 |\n",
       "| 6.5 | 3.0 | 5.2 | 2.0 | 3 |\n",
       "| 6.2 | 3.4 | 5.4 | 2.3 | 3 |\n",
       "| 5.9 | 3.0 | 5.1 | 1.8 | 3 |\n",
       "\n"
      ],
      "text/plain": [
       "    Sepal.Length Sepal.Width Petal.Length Petal.Width Species\n",
       "1   5.1          3.5         1.4          0.2         1      \n",
       "2   4.9          3.0         1.4          0.2         1      \n",
       "3   4.7          3.2         1.3          0.2         1      \n",
       "4   4.6          3.1         1.5          0.2         1      \n",
       "5   5.0          3.6         1.4          0.2         1      \n",
       "6   5.4          3.9         1.7          0.4         1      \n",
       "7   4.6          3.4         1.4          0.3         1      \n",
       "8   5.0          3.4         1.5          0.2         1      \n",
       "9   4.4          2.9         1.4          0.2         1      \n",
       "10  4.9          3.1         1.5          0.1         1      \n",
       "11  5.4          3.7         1.5          0.2         1      \n",
       "12  4.8          3.4         1.6          0.2         1      \n",
       "13  4.8          3.0         1.4          0.1         1      \n",
       "14  4.3          3.0         1.1          0.1         1      \n",
       "15  5.8          4.0         1.2          0.2         1      \n",
       "16  5.7          4.4         1.5          0.4         1      \n",
       "17  5.4          3.9         1.3          0.4         1      \n",
       "18  5.1          3.5         1.4          0.3         1      \n",
       "19  5.7          3.8         1.7          0.3         1      \n",
       "20  5.1          3.8         1.5          0.3         1      \n",
       "21  5.4          3.4         1.7          0.2         1      \n",
       "22  5.1          3.7         1.5          0.4         1      \n",
       "23  4.6          3.6         1.0          0.2         1      \n",
       "24  5.1          3.3         1.7          0.5         1      \n",
       "25  4.8          3.4         1.9          0.2         1      \n",
       "26  5.0          3.0         1.6          0.2         1      \n",
       "27  5.0          3.4         1.6          0.4         1      \n",
       "28  5.2          3.5         1.5          0.2         1      \n",
       "29  5.2          3.4         1.4          0.2         1      \n",
       "30  4.7          3.2         1.6          0.2         1      \n",
       "<U+22EE>   <U+22EE>     <U+22EE>    <U+22EE>     <U+22EE>    <U+22EE>\n",
       "121 6.9          3.2         5.7          2.3         3      \n",
       "122 5.6          2.8         4.9          2.0         3      \n",
       "123 7.7          2.8         6.7          2.0         3      \n",
       "124 6.3          2.7         4.9          1.8         3      \n",
       "125 6.7          3.3         5.7          2.1         3      \n",
       "126 7.2          3.2         6.0          1.8         3      \n",
       "127 6.2          2.8         4.8          1.8         3      \n",
       "128 6.1          3.0         4.9          1.8         3      \n",
       "129 6.4          2.8         5.6          2.1         3      \n",
       "130 7.2          3.0         5.8          1.6         3      \n",
       "131 7.4          2.8         6.1          1.9         3      \n",
       "132 7.9          3.8         6.4          2.0         3      \n",
       "133 6.4          2.8         5.6          2.2         3      \n",
       "134 6.3          2.8         5.1          1.5         3      \n",
       "135 6.1          2.6         5.6          1.4         3      \n",
       "136 7.7          3.0         6.1          2.3         3      \n",
       "137 6.3          3.4         5.6          2.4         3      \n",
       "138 6.4          3.1         5.5          1.8         3      \n",
       "139 6.0          3.0         4.8          1.8         3      \n",
       "140 6.9          3.1         5.4          2.1         3      \n",
       "141 6.7          3.1         5.6          2.4         3      \n",
       "142 6.9          3.1         5.1          2.3         3      \n",
       "143 5.8          2.7         5.1          1.9         3      \n",
       "144 6.8          3.2         5.9          2.3         3      \n",
       "145 6.7          3.3         5.7          2.5         3      \n",
       "146 6.7          3.0         5.2          2.3         3      \n",
       "147 6.3          2.5         5.0          1.9         3      \n",
       "148 6.5          3.0         5.2          2.0         3      \n",
       "149 6.2          3.4         5.4          2.3         3      \n",
       "150 5.9          3.0         5.1          1.8         3      "
      ]
     },
     "metadata": {},
     "output_type": "display_data"
    }
   ],
   "source": [
    "iris\n",
    "iris$Species <- unclass(iris$Species)"
   ]
  },
  {
   "cell_type": "markdown",
   "id": "57031e78",
   "metadata": {},
   "source": [
    "### One Way Manova Table"
   ]
  },
  {
   "cell_type": "markdown",
   "id": "c2bf4067",
   "metadata": {
    "heading_collapsed": true
   },
   "source": [
    "#### Data"
   ]
  },
  {
   "cell_type": "code",
   "execution_count": 130,
   "id": "4cc0c485",
   "metadata": {
    "ExecuteTime": {
     "end_time": "2022-04-10T18:13:34.943587Z",
     "start_time": "2022-04-10T18:13:34.861Z"
    },
    "hidden": true
   },
   "outputs": [
    {
     "data": {
      "text/html": [
       "<dl>\n",
       "\t<dt>$Source</dt>\n",
       "\t\t<dd><style>\n",
       ".list-inline {list-style: none; margin:0; padding: 0}\n",
       ".list-inline>li {display: inline-block}\n",
       ".list-inline>li:not(:last-child)::after {content: \"\\00b7\"; padding: 0 .5ex}\n",
       "</style>\n",
       "<ol class=list-inline><li>'Treatments (Between)'</li><li>'Residual Within'</li><li>'Total'</li></ol>\n",
       "</dd>\n",
       "\t<dt>$SS</dt>\n",
       "\t\t<dd><ol>\n",
       "\t<li><table class=\"dataframe\">\n",
       "<caption>A matrix: 4 × 4 of type dbl</caption>\n",
       "<thead>\n",
       "\t<tr><th></th><th scope=col>Sepal.Length</th><th scope=col>Sepal.Width</th><th scope=col>Petal.Length</th><th scope=col>Petal.Width</th></tr>\n",
       "</thead>\n",
       "<tbody>\n",
       "\t<tr><th scope=row>Sepal.Length</th><td>34.2439778</td><td>  0.4275111</td><td> 69.92393</td><td>31.872644</td></tr>\n",
       "\t<tr><th scope=row>Sepal.Width</th><td> 0.4275111</td><td> 11.5160444</td><td>-14.11387</td><td>-4.808622</td></tr>\n",
       "\t<tr><th scope=row>Petal.Length</th><td>69.9239333</td><td>-14.1138667</td><td>174.99980</td><td>77.628733</td></tr>\n",
       "\t<tr><th scope=row>Petal.Width</th><td>31.8726444</td><td> -4.8086222</td><td> 77.62873</td><td>35.515311</td></tr>\n",
       "</tbody>\n",
       "</table>\n",
       "</li>\n",
       "\t<li><table class=\"dataframe\">\n",
       "<caption>A matrix: 4 × 4 of type dbl</caption>\n",
       "<thead>\n",
       "\t<tr><th></th><th scope=col>Sepal.Length</th><th scope=col>Sepal.Width</th><th scope=col>Petal.Length</th><th scope=col>Petal.Width</th></tr>\n",
       "</thead>\n",
       "<tbody>\n",
       "\t<tr><th scope=row>Sepal.Length</th><td>45.0444</td><td>18.4916</td><td>25.4260</td><td>6.1512</td></tr>\n",
       "\t<tr><th scope=row>Sepal.Width</th><td>18.4916</td><td>24.0028</td><td> 8.6940</td><td>5.2640</td></tr>\n",
       "\t<tr><th scope=row>Petal.Length</th><td>25.4260</td><td> 8.6940</td><td>28.7004</td><td>6.5692</td></tr>\n",
       "\t<tr><th scope=row>Petal.Width</th><td> 6.1512</td><td> 5.2640</td><td> 6.5692</td><td>6.7008</td></tr>\n",
       "</tbody>\n",
       "</table>\n",
       "</li>\n",
       "\t<li><table class=\"dataframe\">\n",
       "<caption>A matrix: 4 × 4 of type dbl</caption>\n",
       "<thead>\n",
       "\t<tr><th></th><th scope=col>Sepal.Length</th><th scope=col>Sepal.Width</th><th scope=col>Petal.Length</th><th scope=col>Petal.Width</th></tr>\n",
       "</thead>\n",
       "<tbody>\n",
       "\t<tr><th scope=row>Sepal.Length</th><td>79.28838</td><td>18.9191111</td><td> 95.349933</td><td>38.0238444</td></tr>\n",
       "\t<tr><th scope=row>Sepal.Width</th><td>18.91911</td><td>35.5188444</td><td> -5.419867</td><td> 0.4553778</td></tr>\n",
       "\t<tr><th scope=row>Petal.Length</th><td>95.34993</td><td>-5.4198667</td><td>203.700200</td><td>84.1979333</td></tr>\n",
       "\t<tr><th scope=row>Petal.Width</th><td>38.02384</td><td> 0.4553778</td><td> 84.197933</td><td>42.2161111</td></tr>\n",
       "</tbody>\n",
       "</table>\n",
       "</li>\n",
       "</ol>\n",
       "</dd>\n",
       "\t<dt>$df</dt>\n",
       "\t\t<dd><style>\n",
       ".list-inline {list-style: none; margin:0; padding: 0}\n",
       ".list-inline>li {display: inline-block}\n",
       ".list-inline>li:not(:last-child)::after {content: \"\\00b7\"; padding: 0 .5ex}\n",
       "</style>\n",
       "<ol class=list-inline><li>2</li><li>147</li><li>149</li></ol>\n",
       "</dd>\n",
       "</dl>\n"
      ],
      "text/latex": [
       "\\begin{description}\n",
       "\\item[\\$Source] \\begin{enumerate*}\n",
       "\\item 'Treatments (Between)'\n",
       "\\item 'Residual Within'\n",
       "\\item 'Total'\n",
       "\\end{enumerate*}\n",
       "\n",
       "\\item[\\$SS] \\begin{enumerate}\n",
       "\\item A matrix: 4 × 4 of type dbl\n",
       "\\begin{tabular}{r|llll}\n",
       "  & Sepal.Length & Sepal.Width & Petal.Length & Petal.Width\\\\\n",
       "\\hline\n",
       "\tSepal.Length & 34.2439778 &   0.4275111 &  69.92393 & 31.872644\\\\\n",
       "\tSepal.Width &  0.4275111 &  11.5160444 & -14.11387 & -4.808622\\\\\n",
       "\tPetal.Length & 69.9239333 & -14.1138667 & 174.99980 & 77.628733\\\\\n",
       "\tPetal.Width & 31.8726444 &  -4.8086222 &  77.62873 & 35.515311\\\\\n",
       "\\end{tabular}\n",
       "\n",
       "\\item A matrix: 4 × 4 of type dbl\n",
       "\\begin{tabular}{r|llll}\n",
       "  & Sepal.Length & Sepal.Width & Petal.Length & Petal.Width\\\\\n",
       "\\hline\n",
       "\tSepal.Length & 45.0444 & 18.4916 & 25.4260 & 6.1512\\\\\n",
       "\tSepal.Width & 18.4916 & 24.0028 &  8.6940 & 5.2640\\\\\n",
       "\tPetal.Length & 25.4260 &  8.6940 & 28.7004 & 6.5692\\\\\n",
       "\tPetal.Width &  6.1512 &  5.2640 &  6.5692 & 6.7008\\\\\n",
       "\\end{tabular}\n",
       "\n",
       "\\item A matrix: 4 × 4 of type dbl\n",
       "\\begin{tabular}{r|llll}\n",
       "  & Sepal.Length & Sepal.Width & Petal.Length & Petal.Width\\\\\n",
       "\\hline\n",
       "\tSepal.Length & 79.28838 & 18.9191111 &  95.349933 & 38.0238444\\\\\n",
       "\tSepal.Width & 18.91911 & 35.5188444 &  -5.419867 &  0.4553778\\\\\n",
       "\tPetal.Length & 95.34993 & -5.4198667 & 203.700200 & 84.1979333\\\\\n",
       "\tPetal.Width & 38.02384 &  0.4553778 &  84.197933 & 42.2161111\\\\\n",
       "\\end{tabular}\n",
       "\n",
       "\\end{enumerate}\n",
       "\n",
       "\\item[\\$df] \\begin{enumerate*}\n",
       "\\item 2\n",
       "\\item 147\n",
       "\\item 149\n",
       "\\end{enumerate*}\n",
       "\n",
       "\\end{description}\n"
      ],
      "text/markdown": [
       "$Source\n",
       ":   1. 'Treatments (Between)'\n",
       "2. 'Residual Within'\n",
       "3. 'Total'\n",
       "\n",
       "\n",
       "\n",
       "$SS\n",
       ":   1. \n",
       "A matrix: 4 × 4 of type dbl\n",
       "\n",
       "| <!--/--> | Sepal.Length | Sepal.Width | Petal.Length | Petal.Width |\n",
       "|---|---|---|---|---|\n",
       "| Sepal.Length | 34.2439778 |   0.4275111 |  69.92393 | 31.872644 |\n",
       "| Sepal.Width |  0.4275111 |  11.5160444 | -14.11387 | -4.808622 |\n",
       "| Petal.Length | 69.9239333 | -14.1138667 | 174.99980 | 77.628733 |\n",
       "| Petal.Width | 31.8726444 |  -4.8086222 |  77.62873 | 35.515311 |\n",
       "\n",
       "\n",
       "2. \n",
       "A matrix: 4 × 4 of type dbl\n",
       "\n",
       "| <!--/--> | Sepal.Length | Sepal.Width | Petal.Length | Petal.Width |\n",
       "|---|---|---|---|---|\n",
       "| Sepal.Length | 45.0444 | 18.4916 | 25.4260 | 6.1512 |\n",
       "| Sepal.Width | 18.4916 | 24.0028 |  8.6940 | 5.2640 |\n",
       "| Petal.Length | 25.4260 |  8.6940 | 28.7004 | 6.5692 |\n",
       "| Petal.Width |  6.1512 |  5.2640 |  6.5692 | 6.7008 |\n",
       "\n",
       "\n",
       "3. \n",
       "A matrix: 4 × 4 of type dbl\n",
       "\n",
       "| <!--/--> | Sepal.Length | Sepal.Width | Petal.Length | Petal.Width |\n",
       "|---|---|---|---|---|\n",
       "| Sepal.Length | 79.28838 | 18.9191111 |  95.349933 | 38.0238444 |\n",
       "| Sepal.Width | 18.91911 | 35.5188444 |  -5.419867 |  0.4553778 |\n",
       "| Petal.Length | 95.34993 | -5.4198667 | 203.700200 | 84.1979333 |\n",
       "| Petal.Width | 38.02384 |  0.4553778 |  84.197933 | 42.2161111 |\n",
       "\n",
       "\n",
       "\n",
       "\n",
       "\n",
       "$df\n",
       ":   1. 2\n",
       "2. 147\n",
       "3. 149\n",
       "\n",
       "\n",
       "\n",
       "\n",
       "\n"
      ],
      "text/plain": [
       "$Source\n",
       "[1] \"Treatments (Between)\" \"Residual Within\"      \"Total\"               \n",
       "\n",
       "$SS\n",
       "$SS[[1]]\n",
       "             Sepal.Length Sepal.Width Petal.Length Petal.Width\n",
       "Sepal.Length   34.2439778   0.4275111     69.92393   31.872644\n",
       "Sepal.Width     0.4275111  11.5160444    -14.11387   -4.808622\n",
       "Petal.Length   69.9239333 -14.1138667    174.99980   77.628733\n",
       "Petal.Width    31.8726444  -4.8086222     77.62873   35.515311\n",
       "\n",
       "$SS[[2]]\n",
       "             Sepal.Length Sepal.Width Petal.Length Petal.Width\n",
       "Sepal.Length      45.0444     18.4916      25.4260      6.1512\n",
       "Sepal.Width       18.4916     24.0028       8.6940      5.2640\n",
       "Petal.Length      25.4260      8.6940      28.7004      6.5692\n",
       "Petal.Width        6.1512      5.2640       6.5692      6.7008\n",
       "\n",
       "$SS[[3]]\n",
       "             Sepal.Length Sepal.Width Petal.Length Petal.Width\n",
       "Sepal.Length     79.28838  18.9191111    95.349933  38.0238444\n",
       "Sepal.Width      18.91911  35.5188444    -5.419867   0.4553778\n",
       "Petal.Length     95.34993  -5.4198667   203.700200  84.1979333\n",
       "Petal.Width      38.02384   0.4553778    84.197933  42.2161111\n",
       "\n",
       "\n",
       "$df\n",
       "[1]   2 147 149\n"
      ]
     },
     "metadata": {},
     "output_type": "display_data"
    }
   ],
   "source": [
    "irisManova <- createManovaTable(iris, \"Species\", 3)\n",
    "irisManova"
   ]
  },
  {
   "cell_type": "markdown",
   "id": "7beb6e95",
   "metadata": {
    "heading_collapsed": true
   },
   "source": [
    "#### 95% *simultaneous Bonferroni CI Setosa - Versicolor*"
   ]
  },
  {
   "cell_type": "code",
   "execution_count": 131,
   "id": "18ed573f",
   "metadata": {
    "ExecuteTime": {
     "end_time": "2022-04-10T18:13:55.618422Z",
     "start_time": "2022-04-10T18:13:55.551Z"
    },
    "hidden": true
   },
   "outputs": [
    {
     "data": {
      "text/html": [
       "<table class=\"dataframe\">\n",
       "<caption>A data.frame: 4 × 3</caption>\n",
       "<thead>\n",
       "\t<tr><th scope=col>Difference_Mean</th><th scope=col>Lower_Bonferroni</th><th scope=col>Upper_Bonferroni</th></tr>\n",
       "\t<tr><th scope=col>&lt;chr&gt;</th><th scope=col>&lt;chr&gt;</th><th scope=col>&lt;chr&gt;</th></tr>\n",
       "</thead>\n",
       "<tbody>\n",
       "\t<tr><td>Sepal.Length</td><td>-1.25225789991936</td><td>-0.607742100080641</td></tr>\n",
       "\t<tr><td>Sepal.Width </td><td>0.42275840108971 </td><td>0.893241598910289 </td></tr>\n",
       "\t<tr><td>Petal.Length</td><td>-3.05523327328885</td><td>-2.54076672671115 </td></tr>\n",
       "\t<tr><td>Petal.Width </td><td>-1.20429295040189</td><td>-0.955707049598111</td></tr>\n",
       "</tbody>\n",
       "</table>\n"
      ],
      "text/latex": [
       "A data.frame: 4 × 3\n",
       "\\begin{tabular}{lll}\n",
       " Difference\\_Mean & Lower\\_Bonferroni & Upper\\_Bonferroni\\\\\n",
       " <chr> & <chr> & <chr>\\\\\n",
       "\\hline\n",
       "\t Sepal.Length & -1.25225789991936 & -0.607742100080641\\\\\n",
       "\t Sepal.Width  & 0.42275840108971  & 0.893241598910289 \\\\\n",
       "\t Petal.Length & -3.05523327328885 & -2.54076672671115 \\\\\n",
       "\t Petal.Width  & -1.20429295040189 & -0.955707049598111\\\\\n",
       "\\end{tabular}\n"
      ],
      "text/markdown": [
       "\n",
       "A data.frame: 4 × 3\n",
       "\n",
       "| Difference_Mean &lt;chr&gt; | Lower_Bonferroni &lt;chr&gt; | Upper_Bonferroni &lt;chr&gt; |\n",
       "|---|---|---|\n",
       "| Sepal.Length | -1.25225789991936 | -0.607742100080641 |\n",
       "| Sepal.Width  | 0.42275840108971  | 0.893241598910289  |\n",
       "| Petal.Length | -3.05523327328885 | -2.54076672671115  |\n",
       "| Petal.Width  | -1.20429295040189 | -0.955707049598111 |\n",
       "\n"
      ],
      "text/plain": [
       "  Difference_Mean Lower_Bonferroni  Upper_Bonferroni  \n",
       "1 Sepal.Length    -1.25225789991936 -0.607742100080641\n",
       "2 Sepal.Width     0.42275840108971  0.893241598910289 \n",
       "3 Petal.Length    -3.05523327328885 -2.54076672671115 \n",
       "4 Petal.Width     -1.20429295040189 -0.955707049598111"
      ]
     },
     "metadata": {},
     "output_type": "display_data"
    }
   ],
   "source": [
    "# sample mean vector\n",
    "Xbark <- colMeans(getDataTreatment(iris, \"Species\", 1))\n",
    "Xbarl <- colMeans(getDataTreatment(iris, \"Species\", 2))\n",
    "\n",
    "# get W matrix\n",
    "W <- irisManova$SS[[2]]\n",
    "\n",
    "# some size\n",
    "n <- nrow(iris)\n",
    "nk <- nrow(getDataTreatment(iris, \"Species\", 1))\n",
    "nl <- nrow(getDataTreatment(iris, \"Species\", 2))\n",
    "g <- 3\n",
    "p <- 4\n",
    "\n",
    "# the alpha\n",
    "alpha <- 0.05\n",
    "\n",
    "# get critical value\n",
    "critValue <- qt(alpha/(p*g*(g-1)), n-g, lower.tail=F)\n",
    "\n",
    "CI <- c()\n",
    "\n",
    "for(i in 1 : p){\n",
    "  \n",
    "  ## get standard error\n",
    "  standardError <- sqrt(\n",
    "    (1/nk + 1/nl)*W[i, i]/(n-g)\n",
    "  )\n",
    "  \n",
    "  Upper <- Xbark[i]-Xbarl[i] +  critValue*standardError\n",
    "  Lower <- Xbark[i]-Xbarl[i] -  critValue*standardError\n",
    "  \n",
    "  CI <- rbind(CI, c(colnames(iris)[i], Lower, Upper))\n",
    "}\n",
    "\n",
    "CI <- as.data.frame(CI)\n",
    "colnames(CI) <- c(\"Difference_Mean\", \"Lower_Bonferroni\", \"Upper_Bonferroni\")\n",
    "CI"
   ]
  },
  {
   "cell_type": "markdown",
   "id": "ed82b4c5",
   "metadata": {
    "heading_collapsed": true
   },
   "source": [
    "#### 95% *simultaneous Bonferroni CI Setosa - Virginica*"
   ]
  },
  {
   "cell_type": "code",
   "execution_count": 132,
   "id": "3ddaf4a5",
   "metadata": {
    "ExecuteTime": {
     "end_time": "2022-04-10T18:16:26.273539Z",
     "start_time": "2022-04-10T18:16:26.203Z"
    },
    "hidden": true
   },
   "outputs": [
    {
     "data": {
      "text/html": [
       "<table class=\"dataframe\">\n",
       "<caption>A data.frame: 4 × 3</caption>\n",
       "<thead>\n",
       "\t<tr><th scope=col>Difference_Mean</th><th scope=col>Lower_Bonferroni</th><th scope=col>Upper_Bonferroni</th></tr>\n",
       "\t<tr><th scope=col>&lt;chr&gt;</th><th scope=col>&lt;chr&gt;</th><th scope=col>&lt;chr&gt;</th></tr>\n",
       "</thead>\n",
       "<tbody>\n",
       "\t<tr><td>Sepal.Length</td><td>-1.90425789991936</td><td>-1.25974210008064</td></tr>\n",
       "\t<tr><td>Sepal.Width </td><td>0.21875840108971 </td><td>0.689241598910289</td></tr>\n",
       "\t<tr><td>Petal.Length</td><td>-4.34723327328885</td><td>-3.83276672671115</td></tr>\n",
       "\t<tr><td>Petal.Width </td><td>-1.90429295040189</td><td>-1.65570704959811</td></tr>\n",
       "</tbody>\n",
       "</table>\n"
      ],
      "text/latex": [
       "A data.frame: 4 × 3\n",
       "\\begin{tabular}{lll}\n",
       " Difference\\_Mean & Lower\\_Bonferroni & Upper\\_Bonferroni\\\\\n",
       " <chr> & <chr> & <chr>\\\\\n",
       "\\hline\n",
       "\t Sepal.Length & -1.90425789991936 & -1.25974210008064\\\\\n",
       "\t Sepal.Width  & 0.21875840108971  & 0.689241598910289\\\\\n",
       "\t Petal.Length & -4.34723327328885 & -3.83276672671115\\\\\n",
       "\t Petal.Width  & -1.90429295040189 & -1.65570704959811\\\\\n",
       "\\end{tabular}\n"
      ],
      "text/markdown": [
       "\n",
       "A data.frame: 4 × 3\n",
       "\n",
       "| Difference_Mean &lt;chr&gt; | Lower_Bonferroni &lt;chr&gt; | Upper_Bonferroni &lt;chr&gt; |\n",
       "|---|---|---|\n",
       "| Sepal.Length | -1.90425789991936 | -1.25974210008064 |\n",
       "| Sepal.Width  | 0.21875840108971  | 0.689241598910289 |\n",
       "| Petal.Length | -4.34723327328885 | -3.83276672671115 |\n",
       "| Petal.Width  | -1.90429295040189 | -1.65570704959811 |\n",
       "\n"
      ],
      "text/plain": [
       "  Difference_Mean Lower_Bonferroni  Upper_Bonferroni \n",
       "1 Sepal.Length    -1.90425789991936 -1.25974210008064\n",
       "2 Sepal.Width     0.21875840108971  0.689241598910289\n",
       "3 Petal.Length    -4.34723327328885 -3.83276672671115\n",
       "4 Petal.Width     -1.90429295040189 -1.65570704959811"
      ]
     },
     "metadata": {},
     "output_type": "display_data"
    }
   ],
   "source": [
    "# sample mean vector\n",
    "Xbark <- colMeans(getDataTreatment(iris, \"Species\", 1))\n",
    "Xbarl <- colMeans(getDataTreatment(iris, \"Species\", 3))\n",
    "\n",
    "# get W matrix\n",
    "W <- irisManova$SS[[2]]\n",
    "\n",
    "# some size\n",
    "n <- nrow(iris)\n",
    "nk <- nrow(getDataTreatment(iris, \"Species\", 1))\n",
    "nl <- nrow(getDataTreatment(iris, \"Species\", 3))\n",
    "g <- 3\n",
    "p <- 4\n",
    "\n",
    "# the alpha\n",
    "alpha <- 0.05\n",
    "\n",
    "# get critical value\n",
    "critValue <- qt(alpha/(p*g*(g-1)), n-g, lower.tail=F)\n",
    "\n",
    "CI <- c()\n",
    "\n",
    "for(i in 1 : p){\n",
    "  \n",
    "  ## get standard error\n",
    "  standardError <- sqrt(\n",
    "    (1/nk + 1/nl)*W[i, i]/(n-g)\n",
    "  )\n",
    "  \n",
    "  Upper <- Xbark[i]-Xbarl[i] +  critValue*standardError\n",
    "  Lower <- Xbark[i]-Xbarl[i] -  critValue*standardError\n",
    "  \n",
    "  CI <- rbind(CI, c(colnames(iris)[i], Lower, Upper))\n",
    "}\n",
    "\n",
    "CI <- as.data.frame(CI)\n",
    "colnames(CI) <- c(\"Difference_Mean\", \"Lower_Bonferroni\", \"Upper_Bonferroni\")\n",
    "CI"
   ]
  },
  {
   "cell_type": "markdown",
   "id": "c57ff65b",
   "metadata": {
    "heading_collapsed": true
   },
   "source": [
    "#### 95% *simultaneous Bonferroni CI Versicolor - Virginica*"
   ]
  },
  {
   "cell_type": "code",
   "execution_count": 133,
   "id": "46d7f41a",
   "metadata": {
    "ExecuteTime": {
     "end_time": "2022-04-10T18:16:50.837835Z",
     "start_time": "2022-04-10T18:16:50.776Z"
    },
    "hidden": true
   },
   "outputs": [
    {
     "data": {
      "text/html": [
       "<table class=\"dataframe\">\n",
       "<caption>A data.frame: 4 × 3</caption>\n",
       "<thead>\n",
       "\t<tr><th scope=col>Difference_Mean</th><th scope=col>Lower_Bonferroni</th><th scope=col>Upper_Bonferroni</th></tr>\n",
       "\t<tr><th scope=col>&lt;chr&gt;</th><th scope=col>&lt;chr&gt;</th><th scope=col>&lt;chr&gt;</th></tr>\n",
       "</thead>\n",
       "<tbody>\n",
       "\t<tr><td>Sepal.Length</td><td>-1.25225789991936</td><td>-0.607742100080641</td></tr>\n",
       "\t<tr><td>Sepal.Width </td><td>0.42275840108971 </td><td>0.893241598910289 </td></tr>\n",
       "\t<tr><td>Petal.Length</td><td>-3.05523327328885</td><td>-2.54076672671115 </td></tr>\n",
       "\t<tr><td>Petal.Width </td><td>-1.20429295040189</td><td>-0.955707049598111</td></tr>\n",
       "</tbody>\n",
       "</table>\n"
      ],
      "text/latex": [
       "A data.frame: 4 × 3\n",
       "\\begin{tabular}{lll}\n",
       " Difference\\_Mean & Lower\\_Bonferroni & Upper\\_Bonferroni\\\\\n",
       " <chr> & <chr> & <chr>\\\\\n",
       "\\hline\n",
       "\t Sepal.Length & -1.25225789991936 & -0.607742100080641\\\\\n",
       "\t Sepal.Width  & 0.42275840108971  & 0.893241598910289 \\\\\n",
       "\t Petal.Length & -3.05523327328885 & -2.54076672671115 \\\\\n",
       "\t Petal.Width  & -1.20429295040189 & -0.955707049598111\\\\\n",
       "\\end{tabular}\n"
      ],
      "text/markdown": [
       "\n",
       "A data.frame: 4 × 3\n",
       "\n",
       "| Difference_Mean &lt;chr&gt; | Lower_Bonferroni &lt;chr&gt; | Upper_Bonferroni &lt;chr&gt; |\n",
       "|---|---|---|\n",
       "| Sepal.Length | -1.25225789991936 | -0.607742100080641 |\n",
       "| Sepal.Width  | 0.42275840108971  | 0.893241598910289  |\n",
       "| Petal.Length | -3.05523327328885 | -2.54076672671115  |\n",
       "| Petal.Width  | -1.20429295040189 | -0.955707049598111 |\n",
       "\n"
      ],
      "text/plain": [
       "  Difference_Mean Lower_Bonferroni  Upper_Bonferroni  \n",
       "1 Sepal.Length    -1.25225789991936 -0.607742100080641\n",
       "2 Sepal.Width     0.42275840108971  0.893241598910289 \n",
       "3 Petal.Length    -3.05523327328885 -2.54076672671115 \n",
       "4 Petal.Width     -1.20429295040189 -0.955707049598111"
      ]
     },
     "metadata": {},
     "output_type": "display_data"
    }
   ],
   "source": [
    "# sample mean vector\n",
    "Xbark <- colMeans(getDataTreatment(iris, \"Species\", 1))\n",
    "Xbarl <- colMeans(getDataTreatment(iris, \"Species\", 2))\n",
    "\n",
    "# get W matrix\n",
    "W <- irisManova$SS[[2]]\n",
    "\n",
    "# some size\n",
    "n <- nrow(iris)\n",
    "nk <- nrow(getDataTreatment(iris, \"Species\", 2))\n",
    "nl <- nrow(getDataTreatment(iris, \"Species\", 3))\n",
    "g <- 3\n",
    "p <- 4\n",
    "\n",
    "# the alpha\n",
    "alpha <- 0.05\n",
    "\n",
    "# get critical value\n",
    "critValue <- qt(alpha/(p*g*(g-1)), n-g, lower.tail=F)\n",
    "\n",
    "CI <- c()\n",
    "\n",
    "for(i in 1 : p){\n",
    "  \n",
    "  ## get standard error\n",
    "  standardError <- sqrt(\n",
    "    (1/nk + 1/nl)*W[i, i]/(n-g)\n",
    "  )\n",
    "  \n",
    "  Upper <- Xbark[i]-Xbarl[i] +  critValue*standardError\n",
    "  Lower <- Xbark[i]-Xbarl[i] -  critValue*standardError\n",
    "  \n",
    "  CI <- rbind(CI, c(colnames(iris)[i], Lower, Upper))\n",
    "}\n",
    "\n",
    "CI <- as.data.frame(CI)\n",
    "colnames(CI) <- c(\"Difference_Mean\", \"Lower_Bonferroni\", \"Upper_Bonferroni\")\n",
    "CI"
   ]
  },
  {
   "cell_type": "markdown",
   "id": "165da539",
   "metadata": {},
   "source": [
    "### Uji Homogenitas Kovarians"
   ]
  },
  {
   "cell_type": "markdown",
   "id": "9b965015",
   "metadata": {},
   "source": [
    "#### Hipotesis"
   ]
  },
  {
   "cell_type": "markdown",
   "id": "e0f89108",
   "metadata": {},
   "source": [
    "$$\n",
    "H_0 : \\Sigma_1 = \\Sigma_2 = \\Sigma_3 \\\\\n",
    "H_1 : \\exists~,~\\Sigma_i \\neq \\Sigma_j~,~i\\neq j\n",
    "$$"
   ]
  },
  {
   "cell_type": "markdown",
   "id": "e4e7ca0b",
   "metadata": {
    "ExecuteTime": {
     "end_time": "2022-04-10T18:18:15.445810Z",
     "start_time": "2022-04-10T18:18:15.429Z"
    }
   },
   "source": [
    "Tolak $H_0$ apabila :\n",
    "\n",
    "$$\n",
    "-2~log~\\Pi (\\frac{|S_k|}{|S_p|})^{(n_k-1)/2}~ >~ \\frac{1}{1-u}\\chi^2_v \n",
    "$$"
   ]
  },
  {
   "cell_type": "code",
   "execution_count": 139,
   "id": "065dfca6",
   "metadata": {
    "ExecuteTime": {
     "end_time": "2022-04-10T18:19:38.116600Z",
     "start_time": "2022-04-10T18:19:38.078Z"
    }
   },
   "outputs": [
    {
     "data": {
      "text/plain": [
       "\n",
       "\tBox's M-test for Homogeneity of Covariance Matrices\n",
       "\n",
       "data:  iris[1:4]\n",
       "Chi-Sq (approx.) = 140.94, df = 20, p-value < 2.2e-16\n"
      ]
     },
     "metadata": {},
     "output_type": "display_data"
    }
   ],
   "source": [
    "boxM(iris[1:4], iris$Species)"
   ]
  },
  {
   "cell_type": "markdown",
   "id": "83dfbd2b",
   "metadata": {},
   "source": [
    "Berdasarkan uji Box's M diatas diperoleh keputusan tolak $H_0$ untuk tingkat signifikansi 5% yang mengindikasikan adanya pelanggaran asumsi homogenitas kovarians."
   ]
  },
  {
   "cell_type": "code",
   "execution_count": null,
   "id": "fcc88382",
   "metadata": {},
   "outputs": [],
   "source": []
  }
 ],
 "metadata": {
  "kernelspec": {
   "display_name": "R",
   "language": "R",
   "name": "ir"
  },
  "language_info": {
   "codemirror_mode": "r",
   "file_extension": ".r",
   "mimetype": "text/x-r-source",
   "name": "R",
   "pygments_lexer": "r",
   "version": "4.0.5"
  },
  "toc": {
   "base_numbering": 1,
   "nav_menu": {},
   "number_sections": true,
   "sideBar": true,
   "skip_h1_title": false,
   "title_cell": "Table of Contents",
   "title_sidebar": "Contents",
   "toc_cell": false,
   "toc_position": {},
   "toc_section_display": true,
   "toc_window_display": false
  }
 },
 "nbformat": 4,
 "nbformat_minor": 5
}
