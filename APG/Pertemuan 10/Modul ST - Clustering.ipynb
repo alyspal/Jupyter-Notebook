{
 "cells": [
  {
   "cell_type": "code",
   "execution_count": 1,
   "id": "2df1e011",
   "metadata": {
    "ExecuteTime": {
     "end_time": "2022-06-18T10:00:04.156145Z",
     "start_time": "2022-06-18T10:00:03.772Z"
    },
    "scrolled": false
   },
   "outputs": [
    {
     "name": "stderr",
     "output_type": "stream",
     "text": [
      "\n",
      "Attaching package: 'dplyr'\n",
      "\n",
      "\n",
      "The following objects are masked from 'package:stats':\n",
      "\n",
      "    filter, lag\n",
      "\n",
      "\n",
      "The following objects are masked from 'package:base':\n",
      "\n",
      "    intersect, setdiff, setequal, union\n",
      "\n",
      "\n"
     ]
    }
   ],
   "source": [
    "library(openxlsx) #Membaca data\n",
    "library(dplyr) #Data processing\n",
    "library(DT) #Menampilkan tabel agar mudah dilihat di browser"
   ]
  },
  {
   "cell_type": "code",
   "execution_count": 2,
   "id": "67ed6bd8",
   "metadata": {
    "ExecuteTime": {
     "end_time": "2022-06-18T10:00:04.257086Z",
     "start_time": "2022-06-18T10:00:03.774Z"
    },
    "scrolled": true
   },
   "outputs": [
    {
     "data": {
      "text/html": [
       "<table class=\"dataframe\">\n",
       "<caption>A data.frame: 6 × 8</caption>\n",
       "<thead>\n",
       "\t<tr><th></th><th scope=col>COUNTRY</th><th scope=col>100m</th><th scope=col>200m</th><th scope=col>400m</th><th scope=col>800m</th><th scope=col>1500m</th><th scope=col>3000m</th><th scope=col>Marathon</th></tr>\n",
       "\t<tr><th></th><th scope=col>&lt;chr&gt;</th><th scope=col>&lt;dbl&gt;</th><th scope=col>&lt;dbl&gt;</th><th scope=col>&lt;dbl&gt;</th><th scope=col>&lt;dbl&gt;</th><th scope=col>&lt;dbl&gt;</th><th scope=col>&lt;dbl&gt;</th><th scope=col>&lt;dbl&gt;</th></tr>\n",
       "</thead>\n",
       "<tbody>\n",
       "\t<tr><th scope=row>1</th><td>argentin</td><td>11.61</td><td>22.94</td><td>54.50</td><td>2.15</td><td>4.43</td><td>9.79</td><td>178.52</td></tr>\n",
       "\t<tr><th scope=row>2</th><td>australi</td><td>11.20</td><td>22.35</td><td>51.08</td><td>1.98</td><td>4.13</td><td>9.08</td><td>152.37</td></tr>\n",
       "\t<tr><th scope=row>3</th><td>austria </td><td>11.43</td><td>23.09</td><td>50.62</td><td>1.99</td><td>4.22</td><td>9.34</td><td>159.37</td></tr>\n",
       "\t<tr><th scope=row>4</th><td>belgium </td><td>11.41</td><td>23.04</td><td>52.00</td><td>2.00</td><td>4.14</td><td>8.88</td><td>157.85</td></tr>\n",
       "\t<tr><th scope=row>5</th><td>bermuda </td><td>11.46</td><td>23.05</td><td>53.30</td><td>2.16</td><td>4.58</td><td>9.81</td><td>169.98</td></tr>\n",
       "\t<tr><th scope=row>6</th><td>brazil  </td><td>11.31</td><td>23.17</td><td>52.80</td><td>2.10</td><td>4.49</td><td>9.77</td><td>168.75</td></tr>\n",
       "</tbody>\n",
       "</table>\n"
      ],
      "text/latex": [
       "A data.frame: 6 × 8\n",
       "\\begin{tabular}{r|llllllll}\n",
       "  & COUNTRY & 100m & 200m & 400m & 800m & 1500m & 3000m & Marathon\\\\\n",
       "  & <chr> & <dbl> & <dbl> & <dbl> & <dbl> & <dbl> & <dbl> & <dbl>\\\\\n",
       "\\hline\n",
       "\t1 & argentin & 11.61 & 22.94 & 54.50 & 2.15 & 4.43 & 9.79 & 178.52\\\\\n",
       "\t2 & australi & 11.20 & 22.35 & 51.08 & 1.98 & 4.13 & 9.08 & 152.37\\\\\n",
       "\t3 & austria  & 11.43 & 23.09 & 50.62 & 1.99 & 4.22 & 9.34 & 159.37\\\\\n",
       "\t4 & belgium  & 11.41 & 23.04 & 52.00 & 2.00 & 4.14 & 8.88 & 157.85\\\\\n",
       "\t5 & bermuda  & 11.46 & 23.05 & 53.30 & 2.16 & 4.58 & 9.81 & 169.98\\\\\n",
       "\t6 & brazil   & 11.31 & 23.17 & 52.80 & 2.10 & 4.49 & 9.77 & 168.75\\\\\n",
       "\\end{tabular}\n"
      ],
      "text/markdown": [
       "\n",
       "A data.frame: 6 × 8\n",
       "\n",
       "| <!--/--> | COUNTRY &lt;chr&gt; | 100m &lt;dbl&gt; | 200m &lt;dbl&gt; | 400m &lt;dbl&gt; | 800m &lt;dbl&gt; | 1500m &lt;dbl&gt; | 3000m &lt;dbl&gt; | Marathon &lt;dbl&gt; |\n",
       "|---|---|---|---|---|---|---|---|---|\n",
       "| 1 | argentin | 11.61 | 22.94 | 54.50 | 2.15 | 4.43 | 9.79 | 178.52 |\n",
       "| 2 | australi | 11.20 | 22.35 | 51.08 | 1.98 | 4.13 | 9.08 | 152.37 |\n",
       "| 3 | austria  | 11.43 | 23.09 | 50.62 | 1.99 | 4.22 | 9.34 | 159.37 |\n",
       "| 4 | belgium  | 11.41 | 23.04 | 52.00 | 2.00 | 4.14 | 8.88 | 157.85 |\n",
       "| 5 | bermuda  | 11.46 | 23.05 | 53.30 | 2.16 | 4.58 | 9.81 | 169.98 |\n",
       "| 6 | brazil   | 11.31 | 23.17 | 52.80 | 2.10 | 4.49 | 9.77 | 168.75 |\n",
       "\n"
      ],
      "text/plain": [
       "  COUNTRY  100m  200m  400m  800m 1500m 3000m Marathon\n",
       "1 argentin 11.61 22.94 54.50 2.15 4.43  9.79  178.52  \n",
       "2 australi 11.20 22.35 51.08 1.98 4.13  9.08  152.37  \n",
       "3 austria  11.43 23.09 50.62 1.99 4.22  9.34  159.37  \n",
       "4 belgium  11.41 23.04 52.00 2.00 4.14  8.88  157.85  \n",
       "5 bermuda  11.46 23.05 53.30 2.16 4.58  9.81  169.98  \n",
       "6 brazil   11.31 23.17 52.80 2.10 4.49  9.77  168.75  "
      ]
     },
     "metadata": {},
     "output_type": "display_data"
    }
   ],
   "source": [
    "rawData <- read.xlsx(\"National Track Records for Women.xlsx\")\n",
    "\n",
    "for(i in c(2:8)){\n",
    "  rawData[, i] <- as.numeric(rawData[, i])\n",
    "}\n",
    "head(rawData)"
   ]
  },
  {
   "cell_type": "code",
   "execution_count": 7,
   "id": "3e735e45",
   "metadata": {
    "ExecuteTime": {
     "end_time": "2022-06-18T10:01:32.548449Z",
     "start_time": "2022-06-18T10:01:32.513Z"
    },
    "scrolled": false
   },
   "outputs": [
    {
     "data": {
      "text/html": [
       "<table class=\"dataframe\">\n",
       "<caption>A matrix: 6 × 7 of type dbl</caption>\n",
       "<thead>\n",
       "\t<tr><th></th><th scope=col>100m</th><th scope=col>200m</th><th scope=col>400m</th><th scope=col>800m</th><th scope=col>1500m</th><th scope=col>3000m</th><th scope=col>Marathon</th></tr>\n",
       "</thead>\n",
       "<tbody>\n",
       "\t<tr><th scope=row>1</th><td>-0.0189</td><td>-0.6315</td><td> 0.4085</td><td> 0.6804</td><td> 0.3145</td><td> 0.4153</td><td> 0.1731</td></tr>\n",
       "\t<tr><th scope=row>2</th><td>-0.9256</td><td>-1.1625</td><td>-0.8684</td><td>-0.8904</td><td>-0.5880</td><td>-0.4460</td><td>-0.6863</td></tr>\n",
       "\t<tr><th scope=row>3</th><td>-0.4169</td><td>-0.4965</td><td>-1.0401</td><td>-0.7980</td><td>-0.3172</td><td>-0.1306</td><td>-0.4562</td></tr>\n",
       "\t<tr><th scope=row>4</th><td>-0.4612</td><td>-0.5415</td><td>-0.5249</td><td>-0.7056</td><td>-0.5579</td><td>-0.6886</td><td>-0.5062</td></tr>\n",
       "\t<tr><th scope=row>5</th><td>-0.3506</td><td>-0.5325</td><td>-0.0395</td><td> 0.7728</td><td> 0.7657</td><td> 0.4396</td><td>-0.1076</td></tr>\n",
       "\t<tr><th scope=row>6</th><td>-0.6823</td><td>-0.4245</td><td>-0.2262</td><td> 0.2184</td><td> 0.4950</td><td> 0.3911</td><td>-0.1480</td></tr>\n",
       "</tbody>\n",
       "</table>\n"
      ],
      "text/latex": [
       "A matrix: 6 × 7 of type dbl\n",
       "\\begin{tabular}{r|lllllll}\n",
       "  & 100m & 200m & 400m & 800m & 1500m & 3000m & Marathon\\\\\n",
       "\\hline\n",
       "\t1 & -0.0189 & -0.6315 &  0.4085 &  0.6804 &  0.3145 &  0.4153 &  0.1731\\\\\n",
       "\t2 & -0.9256 & -1.1625 & -0.8684 & -0.8904 & -0.5880 & -0.4460 & -0.6863\\\\\n",
       "\t3 & -0.4169 & -0.4965 & -1.0401 & -0.7980 & -0.3172 & -0.1306 & -0.4562\\\\\n",
       "\t4 & -0.4612 & -0.5415 & -0.5249 & -0.7056 & -0.5579 & -0.6886 & -0.5062\\\\\n",
       "\t5 & -0.3506 & -0.5325 & -0.0395 &  0.7728 &  0.7657 &  0.4396 & -0.1076\\\\\n",
       "\t6 & -0.6823 & -0.4245 & -0.2262 &  0.2184 &  0.4950 &  0.3911 & -0.1480\\\\\n",
       "\\end{tabular}\n"
      ],
      "text/markdown": [
       "\n",
       "A matrix: 6 × 7 of type dbl\n",
       "\n",
       "| <!--/--> | 100m | 200m | 400m | 800m | 1500m | 3000m | Marathon |\n",
       "|---|---|---|---|---|---|---|---|\n",
       "| 1 | -0.0189 | -0.6315 |  0.4085 |  0.6804 |  0.3145 |  0.4153 |  0.1731 |\n",
       "| 2 | -0.9256 | -1.1625 | -0.8684 | -0.8904 | -0.5880 | -0.4460 | -0.6863 |\n",
       "| 3 | -0.4169 | -0.4965 | -1.0401 | -0.7980 | -0.3172 | -0.1306 | -0.4562 |\n",
       "| 4 | -0.4612 | -0.5415 | -0.5249 | -0.7056 | -0.5579 | -0.6886 | -0.5062 |\n",
       "| 5 | -0.3506 | -0.5325 | -0.0395 |  0.7728 |  0.7657 |  0.4396 | -0.1076 |\n",
       "| 6 | -0.6823 | -0.4245 | -0.2262 |  0.2184 |  0.4950 |  0.3911 | -0.1480 |\n",
       "\n"
      ],
      "text/plain": [
       "  100m    200m    400m    800m    1500m   3000m   Marathon\n",
       "1 -0.0189 -0.6315  0.4085  0.6804  0.3145  0.4153  0.1731 \n",
       "2 -0.9256 -1.1625 -0.8684 -0.8904 -0.5880 -0.4460 -0.6863 \n",
       "3 -0.4169 -0.4965 -1.0401 -0.7980 -0.3172 -0.1306 -0.4562 \n",
       "4 -0.4612 -0.5415 -0.5249 -0.7056 -0.5579 -0.6886 -0.5062 \n",
       "5 -0.3506 -0.5325 -0.0395  0.7728  0.7657  0.4396 -0.1076 \n",
       "6 -0.6823 -0.4245 -0.2262  0.2184  0.4950  0.3911 -0.1480 "
      ]
     },
     "metadata": {},
     "output_type": "display_data"
    }
   ],
   "source": [
    "data <- round(scale(rawData[, c(2:8)]),4)\n",
    "head(data)"
   ]
  },
  {
   "cell_type": "code",
   "execution_count": 11,
   "id": "4c271bf3",
   "metadata": {
    "ExecuteTime": {
     "end_time": "2022-06-18T10:02:34.911634Z",
     "start_time": "2022-06-18T10:02:34.877Z"
    }
   },
   "outputs": [
    {
     "data": {
      "text/html": [
       "<style>\n",
       ".dl-inline {width: auto; margin:0; padding: 0}\n",
       ".dl-inline>dt, .dl-inline>dd {float: none; width: auto; display: inline-block}\n",
       ".dl-inline>dt::after {content: \":\\0020\"; padding-right: .5ex}\n",
       ".dl-inline>dt:not(:first-of-type) {padding-left: .5ex}\n",
       "</style><dl class=dl-inline><dt>100m</dt><dd>11.6185454545455</dd><dt>200m</dt><dd>23.6416363636364</dd><dt>400m</dt><dd>53.4058181818182</dd><dt>800m</dt><dd>2.07636363636364</dd><dt>1500m</dt><dd>4.32545454545455</dd><dt>3000m</dt><dd>9.44763636363636</dd><dt>Marathon</dt><dd>173.253272727273</dd></dl>\n"
      ],
      "text/latex": [
       "\\begin{description*}\n",
       "\\item[100m] 11.6185454545455\n",
       "\\item[200m] 23.6416363636364\n",
       "\\item[400m] 53.4058181818182\n",
       "\\item[800m] 2.07636363636364\n",
       "\\item[1500m] 4.32545454545455\n",
       "\\item[3000m] 9.44763636363636\n",
       "\\item[Marathon] 173.253272727273\n",
       "\\end{description*}\n"
      ],
      "text/markdown": [
       "100m\n",
       ":   11.6185454545455200m\n",
       ":   23.6416363636364400m\n",
       ":   53.4058181818182800m\n",
       ":   2.076363636363641500m\n",
       ":   4.325454545454553000m\n",
       ":   9.44763636363636Marathon\n",
       ":   173.253272727273\n",
       "\n"
      ],
      "text/plain": [
       "      100m       200m       400m       800m      1500m      3000m   Marathon \n",
       " 11.618545  23.641636  53.405818   2.076364   4.325455   9.447636 173.253273 "
      ]
     },
     "metadata": {},
     "output_type": "display_data"
    },
    {
     "data": {
      "text/html": [
       "<style>\n",
       ".dl-inline {width: auto; margin:0; padding: 0}\n",
       ".dl-inline>dt, .dl-inline>dd {float: none; width: auto; display: inline-block}\n",
       ".dl-inline>dt::after {content: \":\\0020\"; padding-right: .5ex}\n",
       ".dl-inline>dt:not(:first-of-type) {padding-left: .5ex}\n",
       "</style><dl class=dl-inline><dt>100m</dt><dd>0.452210284507265</dd><dt>200m</dt><dd>1.11106016044798</dd><dt>400m</dt><dd>2.67833674957197</dd><dt>800m</dt><dd>0.108224109663503</dd><dt>1500m</dt><dd>0.332425531520571</dd><dt>3000m</dt><dd>0.824335790166541</dd><dt>Marathon</dt><dd>30.4295449178216</dd></dl>\n"
      ],
      "text/latex": [
       "\\begin{description*}\n",
       "\\item[100m] 0.452210284507265\n",
       "\\item[200m] 1.11106016044798\n",
       "\\item[400m] 2.67833674957197\n",
       "\\item[800m] 0.108224109663503\n",
       "\\item[1500m] 0.332425531520571\n",
       "\\item[3000m] 0.824335790166541\n",
       "\\item[Marathon] 30.4295449178216\n",
       "\\end{description*}\n"
      ],
      "text/markdown": [
       "100m\n",
       ":   0.452210284507265200m\n",
       ":   1.11106016044798400m\n",
       ":   2.67833674957197800m\n",
       ":   0.1082241096635031500m\n",
       ":   0.3324255315205713000m\n",
       ":   0.824335790166541Marathon\n",
       ":   30.4295449178216\n",
       "\n"
      ],
      "text/plain": [
       "      100m       200m       400m       800m      1500m      3000m   Marathon \n",
       " 0.4522103  1.1110602  2.6783367  0.1082241  0.3324255  0.8243358 30.4295449 "
      ]
     },
     "metadata": {},
     "output_type": "display_data"
    }
   ],
   "source": [
    "# Normalisasi data\n",
    "attr(data,\"scaled:center\")\n",
    "attr(data,\"scaled:scale\")"
   ]
  },
  {
   "cell_type": "code",
   "execution_count": 17,
   "id": "7f9cde6f",
   "metadata": {
    "ExecuteTime": {
     "end_time": "2022-06-18T10:04:37.660263Z",
     "start_time": "2022-06-18T10:04:37.570Z"
    }
   },
   "outputs": [
    {
     "data": {
      "image/png": "[encoded data removed]",
      "text/plain": [
       "Plot with title \"Elbow Plot\""
      ]
     },
     "metadata": {
      "image/png": {
       "height": 420,
       "width": 420
      }
     },
     "output_type": "display_data"
    }
   ],
   "source": [
    "# Menentukan jumlah klaster\n",
    "jumlah_klaster <- c(1:10) #Vektor yang berisikan jumlah klaster yang ingin dilihat nilai dari total within-cluster sum of squares\n",
    "within_ss <- c() #Vektor kosong yang akan diisi nilai total withincluster sum of squares\n",
    "for (i in jumlah_klaster) {\n",
    "    within_ss <- c(within_ss,\n",
    "                   kmeans(x = data, centers = i, nstart = 25)$tot.withinss)}\n",
    "plot(x = jumlah_klaster, y = within_ss, type = \"b\", xlab = \"Number of Cluster\",\n",
    "ylab = \"Total Within Sum of Squares\", main = \"Elbow Plot\")\n",
    "abline(v = 7, col = 'red')"
   ]
  },
  {
   "cell_type": "markdown",
   "id": "1beb498b",
   "metadata": {},
   "source": [
    "Dari Elbow Plot di atas, dapat dilihat bahwa pada titik ke tujuh nilai total WSS mulai menunjukkan penurunan yang kurang berarti, sehingga berdasarkan plot tersebut akan ditentukan jumlah klaster yang akan dibentuk adalah tujuh klaster."
   ]
  },
  {
   "cell_type": "code",
   "execution_count": 19,
   "id": "4f0bf48c",
   "metadata": {
    "ExecuteTime": {
     "end_time": "2022-06-18T10:06:45.005254Z",
     "start_time": "2022-06-18T10:06:44.970Z"
    }
   },
   "outputs": [
    {
     "data": {
      "text/plain": [
       "K-means clustering with 7 clusters of sizes 10, 13, 13, 3, 10, 5, 1\n",
       "\n",
       "Cluster means:\n",
       "        100m       200m       400m        800m      1500m       3000m\n",
       "1 -1.3191800 -1.3497100 -1.3933300 -1.11216000 -0.9008200 -0.83296000\n",
       "2  0.5866923  0.6147077  0.2431077 -0.08723077 -0.1274846 -0.03445385\n",
       "3 -0.5155923 -0.4632692 -0.4703154 -0.67716923 -0.6759000 -0.74366154\n",
       "4  1.5143333  1.8976333  1.8970000  1.78920000  1.4977333  1.75783333\n",
       "5  0.7550600  0.6420800  0.8845800  1.12392000  0.8980800  0.74407000\n",
       "6 -0.4611600 -0.5145000  0.0725000  0.42168000  0.3024600  0.27460000\n",
       "7  2.4799000  1.9876000  1.9879000  2.34360000  4.4658000  4.35790000\n",
       "    Marathon\n",
       "1 -0.6800800\n",
       "2 -0.1375231\n",
       "3 -0.6413077\n",
       "4  2.2740000\n",
       "5  0.6091600\n",
       "6 -0.0701200\n",
       "7  4.3624000\n",
       "\n",
       "Clustering vector:\n",
       " 1  2  3  4  5  6  7  8  9 10 11 12 13 14 15 16 17 18 19 20 21 22 23 24 25 26 \n",
       " 6  1  3  3  6  6  5  1  2  2  2  4  5  1  3  5  1  3  1  1  1  2  5  3  2  5 \n",
       "27 28 29 30 31 32 33 34 35 36 37 38 39 40 41 42 43 44 45 46 47 48 49 50 51 52 \n",
       " 3  6  3  2  2  2  2  2  5  4  2  3  3  3  4  5  1  2  3  5  2  3  3  6  5  5 \n",
       "53 54 55 \n",
       " 1  1  7 \n",
       "\n",
       "Within cluster sum of squares by cluster:\n",
       "[1]  5.534886 14.288432  6.302958  7.127167 11.769915  2.751684  0.000000\n",
       " (between_SS / total_SS =  87.4 %)\n",
       "\n",
       "Available components:\n",
       "\n",
       "[1] \"cluster\"      \"centers\"      \"totss\"        \"withinss\"     \"tot.withinss\"\n",
       "[6] \"betweenss\"    \"size\"         \"iter\"         \"ifault\"      "
      ]
     },
     "metadata": {},
     "output_type": "display_data"
    }
   ],
   "source": [
    "# analisis\n",
    "\n",
    "kmeans_clustering <- kmeans(x = data, centers = 7, nstart = 25) # centers disesuaikan dengan jumlah klaster yang dibentuk\n",
    "#parameter nstart digunakan untuk memberitahu fungsi berapa kali inisiasi centroid awal (secara acak) yang akan dibentuk.\n",
    "kmeans_clustering"
   ]
  },
  {
   "cell_type": "markdown",
   "id": "17f95498",
   "metadata": {},
   "source": [
    "Dari output diatas dapat di ketahui bahwa klaster pertama beranggotakan 10 observasi, klaster kedua 13 observasi, klaster ketiga 13 observasi, klaster ke empat 3 observasi, klaster kelima 10 observasi, klaster keenam 5 observasi, dan terakhir klaster ketujuh 1 observasi."
   ]
  },
  {
   "cell_type": "code",
   "execution_count": null,
   "id": "7c549bba",
   "metadata": {},
   "outputs": [],
   "source": []
  }
 ],
 "metadata": {
  "kernelspec": {
   "display_name": "R",
   "language": "R",
   "name": "ir"
  },
  "language_info": {
   "codemirror_mode": "r",
   "file_extension": ".r",
   "mimetype": "text/x-r-source",
   "name": "R",
   "pygments_lexer": "r",
   "version": "4.0.5"
  },
  "toc": {
   "base_numbering": 1,
   "nav_menu": {},
   "number_sections": true,
   "sideBar": true,
   "skip_h1_title": false,
   "title_cell": "Table of Contents",
   "title_sidebar": "Contents",
   "toc_cell": false,
   "toc_position": {},
   "toc_section_display": true,
   "toc_window_display": false
  }
 },
 "nbformat": 4,
 "nbformat_minor": 5
}
