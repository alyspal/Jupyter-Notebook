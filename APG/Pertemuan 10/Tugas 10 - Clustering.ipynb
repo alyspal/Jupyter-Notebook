{
 "cells": [
  {
   "cell_type": "markdown",
   "id": "5c57fa74",
   "metadata": {},
   "source": [
    "Alya Safadella Putri Akca\\\n",
    "221910892\\\n",
    "3SI1\\\n",
    "Tugas 10 APG"
   ]
  },
  {
   "cell_type": "code",
   "execution_count": 1,
   "id": "ff04b40f",
   "metadata": {
    "ExecuteTime": {
     "end_time": "2022-05-15T05:28:36.769650Z",
     "start_time": "2022-05-15T05:28:36.089Z"
    }
   },
   "outputs": [
    {
     "name": "stderr",
     "output_type": "stream",
     "text": [
      "Loading required package: ggplot2\n",
      "\n",
      "Welcome! Want to learn more? See two factoextra-related books at https://goo.gl/ve3WBa\n",
      "\n",
      "\n",
      "---------------------\n",
      "Welcome to dendextend version 1.15.2\n",
      "Type citation('dendextend') for how to cite the package.\n",
      "\n",
      "Type browseVignettes(package = 'dendextend') for the package vignette.\n",
      "The github page is: https://github.com/talgalili/dendextend/\n",
      "\n",
      "Suggestions and bug-reports can be submitted at: https://github.com/talgalili/dendextend/issues\n",
      "You may ask questions at stackoverflow, use the r and dendextend tags: \n",
      "\t https://stackoverflow.com/questions/tagged/dendextend\n",
      "\n",
      "\tTo suppress this message use:  suppressPackageStartupMessages(library(dendextend))\n",
      "---------------------\n",
      "\n",
      "\n",
      "\n",
      "Attaching package: 'dendextend'\n",
      "\n",
      "\n",
      "The following object is masked from 'package:stats':\n",
      "\n",
      "    cutree\n",
      "\n",
      "\n",
      "Loading required package: ade4\n",
      "\n",
      "Loading required package: ggrepel\n",
      "\n",
      "Loading required package: xtable\n",
      "\n",
      "Loading required package: scatterplot3d\n",
      "\n"
     ]
    }
   ],
   "source": [
    "library(factoextra)\n",
    "library(dendextend)\n",
    "library(FactoClass)\n",
    "library(openxlsx)"
   ]
  },
  {
   "cell_type": "markdown",
   "id": "b81aaa4f",
   "metadata": {},
   "source": [
    "# 12.8"
   ]
  },
  {
   "cell_type": "markdown",
   "id": "11581880",
   "metadata": {
    "ExecuteTime": {
     "end_time": "2022-05-15T04:24:37.661112Z",
     "start_time": "2022-05-15T04:24:37.615Z"
    }
   },
   "source": [
    "Using the distances in Example 12.4, cluster the items using the average linkage hierarchical procedure. Draw the dendrogram. Compare the\n",
    "results with those in Examples 12.4 and 12.6."
   ]
  },
  {
   "cell_type": "code",
   "execution_count": 2,
   "id": "427266ce",
   "metadata": {
    "ExecuteTime": {
     "end_time": "2022-05-15T05:28:36.827439Z",
     "start_time": "2022-05-15T05:28:36.091Z"
    }
   },
   "outputs": [
    {
     "data": {
      "text/html": [
       "<table class=\"dataframe\">\n",
       "<caption>A matrix: 5 × 5 of type dbl</caption>\n",
       "<tbody>\n",
       "\t<tr><td> 0</td><td> 9</td><td>3</td><td>6</td><td>11</td></tr>\n",
       "\t<tr><td> 9</td><td> 0</td><td>7</td><td>5</td><td>10</td></tr>\n",
       "\t<tr><td> 3</td><td> 7</td><td>0</td><td>9</td><td> 2</td></tr>\n",
       "\t<tr><td> 6</td><td> 5</td><td>9</td><td>0</td><td> 8</td></tr>\n",
       "\t<tr><td>11</td><td>10</td><td>2</td><td>8</td><td> 0</td></tr>\n",
       "</tbody>\n",
       "</table>\n"
      ],
      "text/latex": [
       "A matrix: 5 × 5 of type dbl\n",
       "\\begin{tabular}{lllll}\n",
       "\t  0 &  9 & 3 & 6 & 11\\\\\n",
       "\t  9 &  0 & 7 & 5 & 10\\\\\n",
       "\t  3 &  7 & 0 & 9 &  2\\\\\n",
       "\t  6 &  5 & 9 & 0 &  8\\\\\n",
       "\t 11 & 10 & 2 & 8 &  0\\\\\n",
       "\\end{tabular}\n"
      ],
      "text/markdown": [
       "\n",
       "A matrix: 5 × 5 of type dbl\n",
       "\n",
       "|  0 |  9 | 3 | 6 | 11 |\n",
       "|  9 |  0 | 7 | 5 | 10 |\n",
       "|  3 |  7 | 0 | 9 |  2 |\n",
       "|  6 |  5 | 9 | 0 |  8 |\n",
       "| 11 | 10 | 2 | 8 |  0 |\n",
       "\n"
      ],
      "text/plain": [
       "     [,1] [,2] [,3] [,4] [,5]\n",
       "[1,]  0    9   3    6    11  \n",
       "[2,]  9    0   7    5    10  \n",
       "[3,]  3    7   0    9     2  \n",
       "[4,]  6    5   9    0     8  \n",
       "[5,] 11   10   2    8     0  "
      ]
     },
     "metadata": {},
     "output_type": "display_data"
    }
   ],
   "source": [
    "D <- matrix(c(0, 9, 3, 6, 11, 9, 0, 7, 5, 10, 3, 7, 0, 9, 2, 6, 5, 9, 0, 8, 11, 10, 2, 8, 0),\n",
    "            nrow = 5, ncol = 5)\n",
    "D"
   ]
  },
  {
   "cell_type": "markdown",
   "id": "44d08969",
   "metadata": {},
   "source": [
    "Klasterisasi $average \\space linkage$ menggunakan rataan dari jarak antara titik yang akan dikelompokan, sesuai dengan formula dari Johnson:\n",
    "$$d_{(UV)W} = \\displaystyle \\frac{\\sum_{i}\\sum_{j} d_{ij}}{N_{(UV)}N_{W}}$$"
   ]
  },
  {
   "cell_type": "markdown",
   "id": "d0430169",
   "metadata": {},
   "source": [
    "dengan menggunakan formula di atas, proses pengklasterisasian adalah sebagai berikut:\n"
   ]
  },
  {
   "cell_type": "code",
   "execution_count": 3,
   "id": "781e0c0c",
   "metadata": {
    "ExecuteTime": {
     "end_time": "2022-05-15T05:28:36.850794Z",
     "start_time": "2022-05-15T05:28:36.094Z"
    }
   },
   "outputs": [
    {
     "data": {
      "text/plain": [
       "   1  2  3  4\n",
       "2  9         \n",
       "3  3  7      \n",
       "4  6  5  9   \n",
       "5 11 10  2  8"
      ]
     },
     "metadata": {},
     "output_type": "display_data"
    }
   ],
   "source": [
    "as.dist(D)"
   ]
  },
  {
   "cell_type": "markdown",
   "id": "61a719af",
   "metadata": {},
   "source": [
    "Berdasarkan hasil tersebut, dapat diketahui bawha jarak terpendek setiap variabel ada di antara variabel 3 dan 5 (skor jarak = 2). Jadi, matriks baru dapat dibuat dengan menghitung jarak baru dari variabel 1, 2, dan 4 ke 3 dan 5."
   ]
  },
  {
   "cell_type": "code",
   "execution_count": 4,
   "id": "33aec7dc",
   "metadata": {
    "ExecuteTime": {
     "end_time": "2022-05-15T05:28:36.892999Z",
     "start_time": "2022-05-15T05:28:36.096Z"
    }
   },
   "outputs": [
    {
     "data": {
      "text/html": [
       "7"
      ],
      "text/latex": [
       "7"
      ],
      "text/markdown": [
       "7"
      ],
      "text/plain": [
       "[1] 7"
      ]
     },
     "metadata": {},
     "output_type": "display_data"
    },
    {
     "data": {
      "text/html": [
       "8.5"
      ],
      "text/latex": [
       "8.5"
      ],
      "text/markdown": [
       "8.5"
      ],
      "text/plain": [
       "[1] 8.5"
      ]
     },
     "metadata": {},
     "output_type": "display_data"
    },
    {
     "data": {
      "text/html": [
       "8.5"
      ],
      "text/latex": [
       "8.5"
      ],
      "text/markdown": [
       "8.5"
      ],
      "text/plain": [
       "[1] 8.5"
      ]
     },
     "metadata": {},
     "output_type": "display_data"
    }
   ],
   "source": [
    "d_35_to_1 <- (D[3, 1] + D[5, 1])/2\n",
    "d_35_to_1\n",
    "\n",
    "d_35_to_2 <- (D[3, 2] + D[5, 2])/2\n",
    "d_35_to_2\n",
    "\n",
    "d_35_to_4 <- (D[3, 4] + D[5, 4])/2\n",
    "d_35_to_4"
   ]
  },
  {
   "cell_type": "markdown",
   "id": "dfb35fea",
   "metadata": {
    "ExecuteTime": {
     "end_time": "2022-05-14T09:23:30.112956Z",
     "start_time": "2022-05-14T09:23:30.073Z"
    }
   },
   "source": [
    "Berdasarkan hasil tersebut, diperoleh $d_{(35)1} = 7$, $d_{(35)2} = 8.5$, $d_{(35)3} = 8.5$. \\\n",
    "Matriks baru :"
   ]
  },
  {
   "cell_type": "code",
   "execution_count": 5,
   "id": "58e9e5b5",
   "metadata": {
    "ExecuteTime": {
     "end_time": "2022-05-15T05:28:36.927077Z",
     "start_time": "2022-05-15T05:28:36.099Z"
    }
   },
   "outputs": [
    {
     "data": {
      "text/html": [
       "<table class=\"dataframe\">\n",
       "<caption>A matrix: 4 × 4 of type dbl</caption>\n",
       "<thead>\n",
       "\t<tr><th></th><th scope=col>1</th><th scope=col>2</th><th scope=col>4</th><th scope=col>3&amp;5</th></tr>\n",
       "</thead>\n",
       "<tbody>\n",
       "\t<tr><th scope=row>1</th><td>0</td><td>9.0</td><td>6.0</td><td>7.0</td></tr>\n",
       "\t<tr><th scope=row>2</th><td>9</td><td>0.0</td><td>5.0</td><td>8.5</td></tr>\n",
       "\t<tr><th scope=row>4</th><td>6</td><td>5.0</td><td>0.0</td><td>8.5</td></tr>\n",
       "\t<tr><th scope=row>3&amp;5</th><td>7</td><td>8.5</td><td>8.5</td><td>0.0</td></tr>\n",
       "</tbody>\n",
       "</table>\n"
      ],
      "text/latex": [
       "A matrix: 4 × 4 of type dbl\n",
       "\\begin{tabular}{r|llll}\n",
       "  & 1 & 2 & 4 & 3\\&5\\\\\n",
       "\\hline\n",
       "\t1 & 0 & 9.0 & 6.0 & 7.0\\\\\n",
       "\t2 & 9 & 0.0 & 5.0 & 8.5\\\\\n",
       "\t4 & 6 & 5.0 & 0.0 & 8.5\\\\\n",
       "\t3\\&5 & 7 & 8.5 & 8.5 & 0.0\\\\\n",
       "\\end{tabular}\n"
      ],
      "text/markdown": [
       "\n",
       "A matrix: 4 × 4 of type dbl\n",
       "\n",
       "| <!--/--> | 1 | 2 | 4 | 3&amp;5 |\n",
       "|---|---|---|---|---|\n",
       "| 1 | 0 | 9.0 | 6.0 | 7.0 |\n",
       "| 2 | 9 | 0.0 | 5.0 | 8.5 |\n",
       "| 4 | 6 | 5.0 | 0.0 | 8.5 |\n",
       "| 3&amp;5 | 7 | 8.5 | 8.5 | 0.0 |\n",
       "\n"
      ],
      "text/plain": [
       "    1 2   4   3&5\n",
       "1   0 9.0 6.0 7.0\n",
       "2   9 0.0 5.0 8.5\n",
       "4   6 5.0 0.0 8.5\n",
       "3&5 7 8.5 8.5 0.0"
      ]
     },
     "metadata": {},
     "output_type": "display_data"
    }
   ],
   "source": [
    "D_35 <- matrix(c(0, 9, 6, 7, 9, 0, 5, 8.5, 6, 5, 0, 8.5, 7, 8.5, 8.5, 0), \n",
    "               nrow = 4, ncol = 4)\n",
    "colnames(D_35) <- c(\"1\", \"2\", \"4\", \"3&5\")\n",
    "rownames(D_35) <- c(\"1\", \"2\", \"4\", \"3&5\")\n",
    "D_35"
   ]
  },
  {
   "cell_type": "markdown",
   "id": "bea104a4",
   "metadata": {},
   "source": [
    "Deteksi kembali nilai jarak yang paling dekat pada matriks D_35"
   ]
  },
  {
   "cell_type": "code",
   "execution_count": 6,
   "id": "549b49d6",
   "metadata": {
    "ExecuteTime": {
     "end_time": "2022-05-15T05:28:36.950959Z",
     "start_time": "2022-05-15T05:28:36.101Z"
    },
    "scrolled": true
   },
   "outputs": [
    {
     "data": {
      "text/plain": [
       "      1   2   4\n",
       "2   9.0        \n",
       "4   6.0 5.0    \n",
       "3&5 7.0 8.5 8.5"
      ]
     },
     "metadata": {},
     "output_type": "display_data"
    }
   ],
   "source": [
    "as.dist(D_35)"
   ]
  },
  {
   "cell_type": "markdown",
   "id": "fc8e06c3",
   "metadata": {},
   "source": [
    "Berdasarkan hasil tersebut, dapat diketahui bawha jarak terpendek setiap variabel ada di antara variabel 2 dan 4 (distance score = 5). Jadi, kita akan membuat matriks baru dengan menghitung jarak baru dari variabel 1 dan 3 & 5 ke 2 dan 4.\n",
    "\n",
    "Oleh karena itu, lakukan hal yang sama dengan proses sebelumnya, yaitu mencari jarak terhadap matriks baru tersebut"
   ]
  },
  {
   "cell_type": "code",
   "execution_count": 7,
   "id": "2d3dac88",
   "metadata": {
    "ExecuteTime": {
     "end_time": "2022-05-15T05:28:36.983592Z",
     "start_time": "2022-05-15T05:28:36.104Z"
    }
   },
   "outputs": [
    {
     "data": {
      "text/html": [
       "7.5"
      ],
      "text/latex": [
       "7.5"
      ],
      "text/markdown": [
       "7.5"
      ],
      "text/plain": [
       "[1] 7.5"
      ]
     },
     "metadata": {},
     "output_type": "display_data"
    },
    {
     "data": {
      "text/html": [
       "8.5"
      ],
      "text/latex": [
       "8.5"
      ],
      "text/markdown": [
       "8.5"
      ],
      "text/plain": [
       "[1] 8.5"
      ]
     },
     "metadata": {},
     "output_type": "display_data"
    }
   ],
   "source": [
    "d_24_to_1 <- (D_35[2, 1] + D_35[3, 1])/2\n",
    "d_24_to_1\n",
    "\n",
    "d_24_to_35 <- (D_35[4, 2] + D_35[4, 3])/2\n",
    "d_24_to_35"
   ]
  },
  {
   "cell_type": "markdown",
   "id": "7a2e78da",
   "metadata": {},
   "source": [
    "Berdasarkan hasil tersebut, diperoleh nilai $d_{(24)1} = 7.5$ dan $d_{(24)35} = 8.5$ \\\n",
    "Matriks baru :"
   ]
  },
  {
   "cell_type": "code",
   "execution_count": 8,
   "id": "12347c01",
   "metadata": {
    "ExecuteTime": {
     "end_time": "2022-05-15T05:28:37.018170Z",
     "start_time": "2022-05-15T05:28:36.106Z"
    }
   },
   "outputs": [
    {
     "data": {
      "text/html": [
       "<table class=\"dataframe\">\n",
       "<caption>A matrix: 3 × 3 of type dbl</caption>\n",
       "<thead>\n",
       "\t<tr><th></th><th scope=col>1</th><th scope=col>2&amp;4</th><th scope=col>3&amp;5</th></tr>\n",
       "</thead>\n",
       "<tbody>\n",
       "\t<tr><th scope=row>1</th><td>0.0</td><td>7.5</td><td>7.0</td></tr>\n",
       "\t<tr><th scope=row>2&amp;4</th><td>7.5</td><td>0.0</td><td>8.5</td></tr>\n",
       "\t<tr><th scope=row>3&amp;5</th><td>7.0</td><td>8.5</td><td>0.0</td></tr>\n",
       "</tbody>\n",
       "</table>\n"
      ],
      "text/latex": [
       "A matrix: 3 × 3 of type dbl\n",
       "\\begin{tabular}{r|lll}\n",
       "  & 1 & 2\\&4 & 3\\&5\\\\\n",
       "\\hline\n",
       "\t1 & 0.0 & 7.5 & 7.0\\\\\n",
       "\t2\\&4 & 7.5 & 0.0 & 8.5\\\\\n",
       "\t3\\&5 & 7.0 & 8.5 & 0.0\\\\\n",
       "\\end{tabular}\n"
      ],
      "text/markdown": [
       "\n",
       "A matrix: 3 × 3 of type dbl\n",
       "\n",
       "| <!--/--> | 1 | 2&amp;4 | 3&amp;5 |\n",
       "|---|---|---|---|\n",
       "| 1 | 0.0 | 7.5 | 7.0 |\n",
       "| 2&amp;4 | 7.5 | 0.0 | 8.5 |\n",
       "| 3&amp;5 | 7.0 | 8.5 | 0.0 |\n",
       "\n"
      ],
      "text/plain": [
       "    1   2&4 3&5\n",
       "1   0.0 7.5 7.0\n",
       "2&4 7.5 0.0 8.5\n",
       "3&5 7.0 8.5 0.0"
      ]
     },
     "metadata": {},
     "output_type": "display_data"
    }
   ],
   "source": [
    "D_24 <- matrix(c(0, 7.5, 7, 7.5, 0, 8.5, 7, 8.5, 0), \n",
    "               nrow = 3, ncol = 3)\n",
    "colnames(D_24) <- c(\"1\", \"2&4\", \"3&5\")\n",
    "rownames(D_24) <- c(\"1\", \"2&4\", \"3&5\")\n",
    "D_24"
   ]
  },
  {
   "cell_type": "markdown",
   "id": "780f8e69",
   "metadata": {},
   "source": [
    "Deteksi kembali nilai jarak yang paling dekat pada matriks D_24. "
   ]
  },
  {
   "cell_type": "code",
   "execution_count": 9,
   "id": "0414484e",
   "metadata": {
    "ExecuteTime": {
     "end_time": "2022-05-15T05:28:37.044653Z",
     "start_time": "2022-05-15T05:28:36.108Z"
    }
   },
   "outputs": [
    {
     "data": {
      "text/plain": [
       "      1 2&4\n",
       "2&4 7.5    \n",
       "3&5 7.0 8.5"
      ]
     },
     "metadata": {},
     "output_type": "display_data"
    }
   ],
   "source": [
    "as.dist(D_24)"
   ]
  },
  {
   "cell_type": "markdown",
   "id": "75778288",
   "metadata": {},
   "source": [
    "Berdasarkan hasil tersebut, dapat diketahui bawha jarak terpendek setiap variabel ada di antara variabel 1 dan 3 & 5 (distance score = 7). Jadi, kita akan membuat matriks baru dengan menghitung jarak baru dari variabel 2 & 4 ke 1 dan 3 & 5.\n",
    "\n",
    "Oleh karena itu, lakukan hal yang sama dengan proses sebelumnya, yaitu mencari jarak terhadap matriks baru tersebut"
   ]
  },
  {
   "cell_type": "code",
   "execution_count": 10,
   "id": "f3c68478",
   "metadata": {
    "ExecuteTime": {
     "end_time": "2022-05-15T05:28:37.074958Z",
     "start_time": "2022-05-15T05:28:36.111Z"
    }
   },
   "outputs": [
    {
     "data": {
      "text/html": [
       "8"
      ],
      "text/latex": [
       "8"
      ],
      "text/markdown": [
       "8"
      ],
      "text/plain": [
       "[1] 8"
      ]
     },
     "metadata": {},
     "output_type": "display_data"
    }
   ],
   "source": [
    "d_135_to_24 <- (D_24[2, 1] + D_24[3, 2])/2\n",
    "d_135_to_24"
   ]
  },
  {
   "cell_type": "markdown",
   "id": "f1353c77",
   "metadata": {},
   "source": [
    "dari hasi lperhitungan di atas, diperoleh nilai $d_{(24)1} = 8$ \\\n",
    "Matriks baru :"
   ]
  },
  {
   "cell_type": "code",
   "execution_count": 11,
   "id": "91ce703c",
   "metadata": {
    "ExecuteTime": {
     "end_time": "2022-05-15T05:28:37.107304Z",
     "start_time": "2022-05-15T05:28:36.113Z"
    }
   },
   "outputs": [
    {
     "data": {
      "text/html": [
       "<table class=\"dataframe\">\n",
       "<caption>A matrix: 2 × 2 of type dbl</caption>\n",
       "<thead>\n",
       "\t<tr><th></th><th scope=col>1&amp;3&amp;5</th><th scope=col>2&amp;4</th></tr>\n",
       "</thead>\n",
       "<tbody>\n",
       "\t<tr><th scope=row>1&amp;3&amp;5</th><td>0</td><td>8</td></tr>\n",
       "\t<tr><th scope=row>2&amp;4</th><td>8</td><td>0</td></tr>\n",
       "</tbody>\n",
       "</table>\n"
      ],
      "text/latex": [
       "A matrix: 2 × 2 of type dbl\n",
       "\\begin{tabular}{r|ll}\n",
       "  & 1\\&3\\&5 & 2\\&4\\\\\n",
       "\\hline\n",
       "\t1\\&3\\&5 & 0 & 8\\\\\n",
       "\t2\\&4 & 8 & 0\\\\\n",
       "\\end{tabular}\n"
      ],
      "text/markdown": [
       "\n",
       "A matrix: 2 × 2 of type dbl\n",
       "\n",
       "| <!--/--> | 1&amp;3&amp;5 | 2&amp;4 |\n",
       "|---|---|---|\n",
       "| 1&amp;3&amp;5 | 0 | 8 |\n",
       "| 2&amp;4 | 8 | 0 |\n",
       "\n"
      ],
      "text/plain": [
       "      1&3&5 2&4\n",
       "1&3&5 0     8  \n",
       "2&4   8     0  "
      ]
     },
     "metadata": {},
     "output_type": "display_data"
    }
   ],
   "source": [
    "D_135 <- matrix(c(0, 8, 8, 0), \n",
    "               nrow = 2, ncol = 2)\n",
    "colnames(D_135) <- c(\"1&3&5\", \"2&4\")\n",
    "rownames(D_135) <- c(\"1&3&5\", \"2&4\")\n",
    "D_135"
   ]
  },
  {
   "cell_type": "markdown",
   "id": "925c02c7",
   "metadata": {},
   "source": [
    "- Klaster berikutnya merupakan gabungan semua variabel dengan jarak sebesar 8\n",
    "\n",
    "Jika perhitungan di atas dimuat dalam dendogram, hasilnya adalah sebagai berikut:"
   ]
  },
  {
   "cell_type": "code",
   "execution_count": 12,
   "id": "b488b7ef",
   "metadata": {
    "ExecuteTime": {
     "end_time": "2022-05-15T05:28:37.695219Z",
     "start_time": "2022-05-15T05:28:36.116Z"
    }
   },
   "outputs": [
    {
     "data": {
      "image/png": "[encoded data removed]",
      "text/plain": [
       "plot without title"
      ]
     },
     "metadata": {
      "image/png": {
       "height": 420,
       "width": 420
      }
     },
     "output_type": "display_data"
    }
   ],
   "source": [
    "hc_data <- hclust(as.dist(D), method = \"average\")\n",
    "fviz_dend(hc_data)"
   ]
  },
  {
   "cell_type": "markdown",
   "id": "3138d2e3",
   "metadata": {},
   "source": [
    "# 12.10"
   ]
  },
  {
   "cell_type": "markdown",
   "id": "ca3b2125",
   "metadata": {},
   "source": [
    "Use Ward’s method to cluster the 4 items whose measurements on a single variable X are given in the following table."
   ]
  },
  {
   "cell_type": "code",
   "execution_count": 13,
   "id": "4e4a0094",
   "metadata": {
    "ExecuteTime": {
     "end_time": "2022-05-15T05:28:37.722774Z",
     "start_time": "2022-05-15T05:28:36.119Z"
    }
   },
   "outputs": [],
   "source": [
    "X <- c(2, 1, 5, 8)"
   ]
  },
  {
   "cell_type": "markdown",
   "id": "bbb8ab9e",
   "metadata": {},
   "source": [
    "## a. \tInitially, each item is a cluster and we have the clusters {1} {2} {3} {4}. Show that $$ESS = \\sum_{j=1}^n (x_{j} - \\bar{x})'(x_{j} - \\bar{x})=0$$ as it must."
   ]
  },
  {
   "cell_type": "code",
   "execution_count": 14,
   "id": "a428d261",
   "metadata": {
    "ExecuteTime": {
     "end_time": "2022-05-15T05:28:37.753679Z",
     "start_time": "2022-05-15T05:28:36.121Z"
    }
   },
   "outputs": [
    {
     "name": "stdout",
     "output_type": "stream",
     "text": [
      "[1] 0\n",
      "[1] 0\n",
      "[1] 0\n",
      "[1] 0\n"
     ]
    }
   ],
   "source": [
    "x_bar <- colMeans(t(X))\n",
    "for(i in c(1:4)){\n",
    "  print(sum(t(X[i] - x_bar[i]) %*% (X[i] - x_bar[i])))\n",
    "}"
   ]
  },
  {
   "cell_type": "markdown",
   "id": "35fbd822",
   "metadata": {},
   "source": [
    "Dari hasil di atas, terbukti bahwa ESS untuk klaster `{1}, {2}, {3}, dan {4}` bernilai 0."
   ]
  },
  {
   "cell_type": "markdown",
   "id": "518c1d56",
   "metadata": {},
   "source": [
    "## b. \tIf we join clusters {1} and {2}, the new cluster {12} has $$ESS_1 = \\sum_{j=1}^n (x_{j} - \\bar{x})^2 = (2-1.5)^2+(1-1.5) = 5$$ and the ESS associated with the grouping {12}, {3}, {4} is $$ESS = .5+0+0=0.5$$. The increase in ESS (loss of information) from the first step to the current step in $$.5-0=.5$$. Complete the following table by determining the increase in ESS for all the possibilities at step 2."
   ]
  },
  {
   "cell_type": "code",
   "execution_count": 15,
   "id": "df3a57cf",
   "metadata": {
    "ExecuteTime": {
     "end_time": "2022-05-15T05:28:37.790419Z",
     "start_time": "2022-05-15T05:28:36.124Z"
    }
   },
   "outputs": [
    {
     "data": {
      "text/html": [
       "<table class=\"dataframe\">\n",
       "<caption>A matrix: 5 × 1 of type dbl</caption>\n",
       "<tbody>\n",
       "\t<tr><th scope=row>ess_13_2_4</th><td> 4.5</td></tr>\n",
       "\t<tr><th scope=row>ess_14_2_3</th><td>18.0</td></tr>\n",
       "\t<tr><th scope=row>ess_1_23_4</th><td> 8.0</td></tr>\n",
       "\t<tr><th scope=row>ess_1_24_3</th><td>24.5</td></tr>\n",
       "\t<tr><th scope=row>ess_1_2_34</th><td> 4.5</td></tr>\n",
       "</tbody>\n",
       "</table>\n"
      ],
      "text/latex": [
       "A matrix: 5 × 1 of type dbl\n",
       "\\begin{tabular}{r|l}\n",
       "\tess\\_13\\_2\\_4 &  4.5\\\\\n",
       "\tess\\_14\\_2\\_3 & 18.0\\\\\n",
       "\tess\\_1\\_23\\_4 &  8.0\\\\\n",
       "\tess\\_1\\_24\\_3 & 24.5\\\\\n",
       "\tess\\_1\\_2\\_34 &  4.5\\\\\n",
       "\\end{tabular}\n"
      ],
      "text/markdown": [
       "\n",
       "A matrix: 5 × 1 of type dbl\n",
       "\n",
       "| ess_13_2_4 |  4.5 |\n",
       "| ess_14_2_3 | 18.0 |\n",
       "| ess_1_23_4 |  8.0 |\n",
       "| ess_1_24_3 | 24.5 |\n",
       "| ess_1_2_34 |  4.5 |\n",
       "\n"
      ],
      "text/plain": [
       "           [,1]\n",
       "ess_13_2_4  4.5\n",
       "ess_14_2_3 18.0\n",
       "ess_1_23_4  8.0\n",
       "ess_1_24_3 24.5\n",
       "ess_1_2_34  4.5"
      ]
     },
     "metadata": {},
     "output_type": "display_data"
    }
   ],
   "source": [
    "ess_13_2_4 <- ((X[1] - mean(X[c(1, 3)]))^2 + (X[3] - mean(X[c(1, 3)]))^2) + \n",
    "              (X[2] - mean(X[2]))^2 + (X[4] - mean(X[4]))^2\n",
    "\n",
    "ess_14_2_3 <- ((X[1] - mean(X[c(1, 4)]))^2 + (X[4] - mean(X[c(1, 4)]))^2) + \n",
    "              (X[2] - mean(X[2]))^2 + (X[3] - mean(X[3]))^2\n",
    "\n",
    "ess_1_23_4 <- (X[1] - mean(X[1]))^2 + ((X[2] - mean(X[c(2, 3)]))^2 + \n",
    "              (X[3] - mean(X[c(2, 3)]))^2) + (X[4] - mean(X[4]))^2\n",
    "\n",
    "ess_1_24_3 <- (X[1] - mean(X[1]))^2 + ((X[2] - mean(X[c(2, 4)]))^2 + \n",
    "              (X[4] - mean(X[c(2, 4)]))^2) + (X[3] - mean(X[3]))^2\n",
    "\n",
    "ess_1_2_34 <- (X[1] - mean(X[1]))^2 + (X[2] - mean(X[2]))^2 + \n",
    "              ((X[3] - mean(X[c(3, 4)]))^2 + (X[4] - mean(X[c(3, 4)]))^2)\n",
    "\n",
    "ess <- rbind(ess_13_2_4, ess_14_2_3, ess_1_23_4, ess_1_24_3, ess_1_2_34)\n",
    "ess\n"
   ]
  },
  {
   "cell_type": "code",
   "execution_count": 16,
   "id": "a0a6a2f9",
   "metadata": {
    "ExecuteTime": {
     "end_time": "2022-05-15T05:28:37.825845Z",
     "start_time": "2022-05-15T05:28:36.126Z"
    }
   },
   "outputs": [
    {
     "data": {
      "text/html": [
       "<table class=\"dataframe\">\n",
       "<caption>A data.frame: 5 × 1</caption>\n",
       "<thead>\n",
       "\t<tr><th scope=col>ess_inc</th></tr>\n",
       "\t<tr><th scope=col>&lt;dbl&gt;</th></tr>\n",
       "</thead>\n",
       "<tbody>\n",
       "\t<tr><td> -0.5</td></tr>\n",
       "\t<tr><td> 18.5</td></tr>\n",
       "\t<tr><td>-10.5</td></tr>\n",
       "\t<tr><td> 35.0</td></tr>\n",
       "\t<tr><td>-30.5</td></tr>\n",
       "</tbody>\n",
       "</table>\n"
      ],
      "text/latex": [
       "A data.frame: 5 × 1\n",
       "\\begin{tabular}{l}\n",
       " ess\\_inc\\\\\n",
       " <dbl>\\\\\n",
       "\\hline\n",
       "\t  -0.5\\\\\n",
       "\t  18.5\\\\\n",
       "\t -10.5\\\\\n",
       "\t  35.0\\\\\n",
       "\t -30.5\\\\\n",
       "\\end{tabular}\n"
      ],
      "text/markdown": [
       "\n",
       "A data.frame: 5 × 1\n",
       "\n",
       "| ess_inc &lt;dbl&gt; |\n",
       "|---|\n",
       "|  -0.5 |\n",
       "|  18.5 |\n",
       "| -10.5 |\n",
       "|  35.0 |\n",
       "| -30.5 |\n",
       "\n"
      ],
      "text/plain": [
       "  ess_inc\n",
       "1  -0.5  \n",
       "2  18.5  \n",
       "3 -10.5  \n",
       "4  35.0  \n",
       "5 -30.5  "
      ]
     },
     "metadata": {},
     "output_type": "display_data"
    }
   ],
   "source": [
    "## Increase ESS\n",
    "ess_inc <- c()\n",
    "ess_temp <- 5\n",
    "for(i in c(1:5)){\n",
    "  ess_temp <- ess[i] - ess_temp\n",
    "  ess_inc <- append(ess_inc, ess_temp)\n",
    "}\n",
    "as.data.frame(ess_inc)"
   ]
  },
  {
   "cell_type": "markdown",
   "id": "2f0c2b69",
   "metadata": {},
   "source": [
    "## c. Complete the last two steps, and construct the dendrogram showing the values of ESS at which the mergers take place"
   ]
  },
  {
   "cell_type": "code",
   "execution_count": 17,
   "id": "bd0bf901",
   "metadata": {
    "ExecuteTime": {
     "end_time": "2022-05-15T05:28:38.046691Z",
     "start_time": "2022-05-15T05:28:36.128Z"
    }
   },
   "outputs": [
    {
     "data": {
      "image/png": "[encoded data removed]",
      "text/plain": [
       "plot without title"
      ]
     },
     "metadata": {
      "image/png": {
       "height": 420,
       "width": 420
      }
     },
     "output_type": "display_data"
    }
   ],
   "source": [
    "hc_ward <- hclust(dist(X), method = \"ward.D\")\n",
    "fviz_dend(hc_ward)"
   ]
  },
  {
   "cell_type": "markdown",
   "id": "2476ce93",
   "metadata": {},
   "source": [
    "# 12.12"
   ]
  },
  {
   "cell_type": "markdown",
   "id": "71852584",
   "metadata": {},
   "source": [
    "Repeat Example 12.12, starting with the initial groups (AC) and (BD) . Compare your solution with the solution in the example. Are they the same? Graph the items in terms of their (x1 , x2) coordinates, and comment on the solutions."
   ]
  },
  {
   "cell_type": "code",
   "execution_count": 18,
   "id": "5a67b646",
   "metadata": {
    "ExecuteTime": {
     "end_time": "2022-05-15T05:28:38.085813Z",
     "start_time": "2022-05-15T05:28:36.131Z"
    }
   },
   "outputs": [
    {
     "data": {
      "text/html": [
       "<table class=\"dataframe\">\n",
       "<caption>A data.frame: 4 × 2</caption>\n",
       "<thead>\n",
       "\t<tr><th scope=col>V1</th><th scope=col>V2</th></tr>\n",
       "\t<tr><th scope=col>&lt;dbl&gt;</th><th scope=col>&lt;dbl&gt;</th></tr>\n",
       "</thead>\n",
       "<tbody>\n",
       "\t<tr><td> 5</td><td> 3</td></tr>\n",
       "\t<tr><td>-1</td><td> 1</td></tr>\n",
       "\t<tr><td> 1</td><td>-2</td></tr>\n",
       "\t<tr><td>-3</td><td>-2</td></tr>\n",
       "</tbody>\n",
       "</table>\n"
      ],
      "text/latex": [
       "A data.frame: 4 × 2\n",
       "\\begin{tabular}{ll}\n",
       " V1 & V2\\\\\n",
       " <dbl> & <dbl>\\\\\n",
       "\\hline\n",
       "\t  5 &  3\\\\\n",
       "\t -1 &  1\\\\\n",
       "\t  1 & -2\\\\\n",
       "\t -3 & -2\\\\\n",
       "\\end{tabular}\n"
      ],
      "text/markdown": [
       "\n",
       "A data.frame: 4 × 2\n",
       "\n",
       "| V1 &lt;dbl&gt; | V2 &lt;dbl&gt; |\n",
       "|---|---|\n",
       "|  5 |  3 |\n",
       "| -1 |  1 |\n",
       "|  1 | -2 |\n",
       "| -3 | -2 |\n",
       "\n"
      ],
      "text/plain": [
       "  V1 V2\n",
       "1  5  3\n",
       "2 -1  1\n",
       "3  1 -2\n",
       "4 -3 -2"
      ]
     },
     "metadata": {},
     "output_type": "display_data"
    },
    {
     "name": "stdout",
     "output_type": "stream",
     "text": [
      " num [1:4, 1:2] 5 -1 1 -3 3 1 -2 -2\n"
     ]
    }
   ],
   "source": [
    "#Example 12.12\n",
    "x1 <- c(5, -1, 1, -3)\n",
    "x2 <- c(3, 1, -2, -2)\n",
    "obs <- cbind(as.numeric(x1), as.numeric(x2))\n",
    "as.data.frame(obs)\n",
    "str(obs)"
   ]
  },
  {
   "cell_type": "markdown",
   "id": "4b314866",
   "metadata": {},
   "source": [
    "Selanjutnya, dilakukan penghitungan inisialisasi dari centroid cluster (mean) yang akan dibangun dengan kombinasi pengelompokan $(AC)$ dan $(BD)$"
   ]
  },
  {
   "cell_type": "code",
   "execution_count": 19,
   "id": "90ee1f2f",
   "metadata": {
    "ExecuteTime": {
     "end_time": "2022-05-15T05:28:38.119632Z",
     "start_time": "2022-05-15T05:28:36.133Z"
    }
   },
   "outputs": [
    {
     "data": {
      "text/html": [
       "<table class=\"dataframe\">\n",
       "<caption>A matrix: 2 × 2 of type dbl</caption>\n",
       "<thead>\n",
       "\t<tr><th></th><th scope=col>xbar1</th><th scope=col>xbar2</th></tr>\n",
       "</thead>\n",
       "<tbody>\n",
       "\t<tr><th scope=row>(AC)</th><td> 3</td><td> 0.5</td></tr>\n",
       "\t<tr><th scope=row>(BD)</th><td>-2</td><td>-0.5</td></tr>\n",
       "</tbody>\n",
       "</table>\n"
      ],
      "text/latex": [
       "A matrix: 2 × 2 of type dbl\n",
       "\\begin{tabular}{r|ll}\n",
       "  & xbar1 & xbar2\\\\\n",
       "\\hline\n",
       "\t(AC) &  3 &  0.5\\\\\n",
       "\t(BD) & -2 & -0.5\\\\\n",
       "\\end{tabular}\n"
      ],
      "text/markdown": [
       "\n",
       "A matrix: 2 × 2 of type dbl\n",
       "\n",
       "| <!--/--> | xbar1 | xbar2 |\n",
       "|---|---|---|\n",
       "| (AC) |  3 |  0.5 |\n",
       "| (BD) | -2 | -0.5 |\n",
       "\n"
      ],
      "text/plain": [
       "     xbar1 xbar2\n",
       "(AC)  3     0.5 \n",
       "(BD) -2    -0.5 "
      ]
     },
     "metadata": {},
     "output_type": "display_data"
    }
   ],
   "source": [
    "AC_xbar1 <- (obs[1, 1] + obs[3, 1])/2\n",
    "AC_xbar2 <- (obs[1, 2] + obs[3, 2])/2\n",
    "BD_xbar1 <- (obs[2, 1] + obs[4, 1])/2\n",
    "BD_xbar2 <- (obs[2, 2] + obs[4, 2])/2\n",
    "\n",
    "cent <- matrix(c(AC_xbar1, BD_xbar1, AC_xbar2, BD_xbar2), nrow = 2, ncol = 2)\n",
    "colnames(cent) <- c(\"xbar1\", \"xbar2\")\n",
    "rownames(cent) <- c(\"(AC)\", \"(BD)\")\n",
    "cent"
   ]
  },
  {
   "cell_type": "markdown",
   "id": "c975b6f6",
   "metadata": {},
   "source": [
    "Jarak dihitung antara titik A dan B ke centroid yang telah dihitung sebelumnya menggunakan metode Eucledian Distance"
   ]
  },
  {
   "cell_type": "code",
   "execution_count": 20,
   "id": "8bea2643",
   "metadata": {
    "ExecuteTime": {
     "end_time": "2022-05-15T05:28:38.152040Z",
     "start_time": "2022-05-15T05:28:36.137Z"
    }
   },
   "outputs": [
    {
     "data": {
      "text/html": [
       "<table class=\"dataframe\">\n",
       "<caption>A matrix: 4 × 1 of type dbl</caption>\n",
       "<tbody>\n",
       "\t<tr><th scope=row>d2_A_AC</th><td>10.25</td></tr>\n",
       "\t<tr><th scope=row>d2_A_BD</th><td>61.25</td></tr>\n",
       "\t<tr><th scope=row>d2_B_AC</th><td>16.25</td></tr>\n",
       "\t<tr><th scope=row>d2_B_BD</th><td> 3.25</td></tr>\n",
       "</tbody>\n",
       "</table>\n"
      ],
      "text/latex": [
       "A matrix: 4 × 1 of type dbl\n",
       "\\begin{tabular}{r|l}\n",
       "\td2\\_A\\_AC & 10.25\\\\\n",
       "\td2\\_A\\_BD & 61.25\\\\\n",
       "\td2\\_B\\_AC & 16.25\\\\\n",
       "\td2\\_B\\_BD &  3.25\\\\\n",
       "\\end{tabular}\n"
      ],
      "text/markdown": [
       "\n",
       "A matrix: 4 × 1 of type dbl\n",
       "\n",
       "| d2_A_AC | 10.25 |\n",
       "| d2_A_BD | 61.25 |\n",
       "| d2_B_AC | 16.25 |\n",
       "| d2_B_BD |  3.25 |\n",
       "\n"
      ],
      "text/plain": [
       "        [,1] \n",
       "d2_A_AC 10.25\n",
       "d2_A_BD 61.25\n",
       "d2_B_AC 16.25\n",
       "d2_B_BD  3.25"
      ]
     },
     "metadata": {},
     "output_type": "display_data"
    }
   ],
   "source": [
    "d2_A_AC <- (obs[1, 1] - cent[1, 1])^2  + (obs[1, 2] - cent[1, 2])^2\n",
    "d2_A_BD <- (obs[1, 1] - cent[2, 1])^2  + (obs[1, 2] - cent[2, 2])^2\n",
    "d2_B_AC <- (obs[2, 1] - cent[1, 1])^2  + (obs[2, 2] - cent[1, 2])^2\n",
    "d2_B_BD <- (obs[2, 1] - cent[2, 1])^2  + (obs[2, 2] - cent[2, 2])^2\n",
    "\n",
    "rbind(d2_A_AC, d2_A_BD, d2_B_AC, d2_B_BD)"
   ]
  },
  {
   "cell_type": "markdown",
   "id": "8ce8ecb3",
   "metadata": {},
   "source": [
    "Dari hasil tersebut, dapat dilihat bahwa jarak terkecil antara titik B dengan centroid (BD) adalah klaster $(BCD)$ sehingga klaster baru dapat terbentuk dengan koordinat centroidnya :"
   ]
  },
  {
   "cell_type": "code",
   "execution_count": 21,
   "id": "594def2e",
   "metadata": {
    "ExecuteTime": {
     "end_time": "2022-05-15T05:28:38.187238Z",
     "start_time": "2022-05-15T05:28:36.140Z"
    }
   },
   "outputs": [
    {
     "data": {
      "text/html": [
       "<table class=\"dataframe\">\n",
       "<caption>A matrix: 2 × 2 of type dbl</caption>\n",
       "<thead>\n",
       "\t<tr><th></th><th scope=col>xbar1</th><th scope=col>xbar2</th></tr>\n",
       "</thead>\n",
       "<tbody>\n",
       "\t<tr><th scope=row>(A)</th><td> 5</td><td> 3</td></tr>\n",
       "\t<tr><th scope=row>(BCD)</th><td>-1</td><td>-1</td></tr>\n",
       "</tbody>\n",
       "</table>\n"
      ],
      "text/latex": [
       "A matrix: 2 × 2 of type dbl\n",
       "\\begin{tabular}{r|ll}\n",
       "  & xbar1 & xbar2\\\\\n",
       "\\hline\n",
       "\t(A) &  5 &  3\\\\\n",
       "\t(BCD) & -1 & -1\\\\\n",
       "\\end{tabular}\n"
      ],
      "text/markdown": [
       "\n",
       "A matrix: 2 × 2 of type dbl\n",
       "\n",
       "| <!--/--> | xbar1 | xbar2 |\n",
       "|---|---|---|\n",
       "| (A) |  5 |  3 |\n",
       "| (BCD) | -1 | -1 |\n",
       "\n"
      ],
      "text/plain": [
       "      xbar1 xbar2\n",
       "(A)    5     3   \n",
       "(BCD) -1    -1   "
      ]
     },
     "metadata": {},
     "output_type": "display_data"
    }
   ],
   "source": [
    "BCD_xbar1 <- (obs[2, 1] + obs[3, 1] + obs[4, 1])/3\n",
    "BCD_xbar2 <- (obs[2, 2] + obs[3, 2] + obs[4, 2])/3\n",
    "\n",
    "cent_new <- matrix(c(obs[1, 1], BCD_xbar1, obs[1, 2],  BCD_xbar2), nrow = 2, ncol = 2)\n",
    "colnames(cent_new) <- c(\"xbar1\", \"xbar2\")\n",
    "rownames(cent_new) <- c(\"(A)\", \"(BCD)\")\n",
    "cent_new"
   ]
  },
  {
   "cell_type": "markdown",
   "id": "19751485",
   "metadata": {},
   "source": [
    "Berdasarkan hasil tersebut, dapat dilihat bahwa koordinat centroid xbar1 dan xbar2 sama dengan hasil pada contoh 12.2"
   ]
  },
  {
   "cell_type": "markdown",
   "id": "1e9070fb",
   "metadata": {},
   "source": [
    "# 12.16"
   ]
  },
  {
   "cell_type": "markdown",
   "id": "ecd12b44",
   "metadata": {},
   "source": [
    "The national track records data for women are given in Table 1 .9."
   ]
  },
  {
   "cell_type": "code",
   "execution_count": 22,
   "id": "ab0fee38",
   "metadata": {
    "ExecuteTime": {
     "end_time": "2022-05-15T05:28:38.342690Z",
     "start_time": "2022-05-15T05:28:36.144Z"
    },
    "scrolled": true
   },
   "outputs": [
    {
     "data": {
      "text/html": [
       "<table class=\"dataframe\">\n",
       "<caption>A data.frame: 55 × 8</caption>\n",
       "<thead>\n",
       "\t<tr><th></th><th scope=col>COUNTRY</th><th scope=col>100m</th><th scope=col>200m</th><th scope=col>400m</th><th scope=col>800m</th><th scope=col>1500m</th><th scope=col>3000m</th><th scope=col>Marathon</th></tr>\n",
       "\t<tr><th></th><th scope=col>&lt;chr&gt;</th><th scope=col>&lt;dbl&gt;</th><th scope=col>&lt;dbl&gt;</th><th scope=col>&lt;dbl&gt;</th><th scope=col>&lt;dbl&gt;</th><th scope=col>&lt;dbl&gt;</th><th scope=col>&lt;dbl&gt;</th><th scope=col>&lt;dbl&gt;</th></tr>\n",
       "</thead>\n",
       "<tbody>\n",
       "\t<tr><th scope=row>1</th><td>argentin</td><td>11.61</td><td>22.94</td><td>54.50</td><td>2.15</td><td>4.43</td><td> 9.79</td><td>178.52</td></tr>\n",
       "\t<tr><th scope=row>2</th><td>australi</td><td>11.20</td><td>22.35</td><td>51.08</td><td>1.98</td><td>4.13</td><td> 9.08</td><td>152.37</td></tr>\n",
       "\t<tr><th scope=row>3</th><td>austria </td><td>11.43</td><td>23.09</td><td>50.62</td><td>1.99</td><td>4.22</td><td> 9.34</td><td>159.37</td></tr>\n",
       "\t<tr><th scope=row>4</th><td>belgium </td><td>11.41</td><td>23.04</td><td>52.00</td><td>2.00</td><td>4.14</td><td> 8.88</td><td>157.85</td></tr>\n",
       "\t<tr><th scope=row>5</th><td>bermuda </td><td>11.46</td><td>23.05</td><td>53.30</td><td>2.16</td><td>4.58</td><td> 9.81</td><td>169.98</td></tr>\n",
       "\t<tr><th scope=row>6</th><td>brazil  </td><td>11.31</td><td>23.17</td><td>52.80</td><td>2.10</td><td>4.49</td><td> 9.77</td><td>168.75</td></tr>\n",
       "\t<tr><th scope=row>7</th><td>burma   </td><td>12.14</td><td>24.47</td><td>55.00</td><td>2.18</td><td>4.45</td><td> 9.51</td><td>191.02</td></tr>\n",
       "\t<tr><th scope=row>8</th><td>canada  </td><td>11.00</td><td>22.25</td><td>50.06</td><td>2.00</td><td>4.06</td><td> 8.81</td><td>149.45</td></tr>\n",
       "\t<tr><th scope=row>9</th><td>chile   </td><td>12.00</td><td>24.52</td><td>54.90</td><td>2.05</td><td>4.23</td><td> 9.37</td><td>171.38</td></tr>\n",
       "\t<tr><th scope=row>10</th><td>china   </td><td>11.95</td><td>24.41</td><td>54.97</td><td>2.08</td><td>4.33</td><td> 9.31</td><td>168.48</td></tr>\n",
       "\t<tr><th scope=row>11</th><td>columbia</td><td>11.60</td><td>24.00</td><td>53.26</td><td>2.11</td><td>4.35</td><td> 9.46</td><td>165.42</td></tr>\n",
       "\t<tr><th scope=row>12</th><td>cookis  </td><td>12.90</td><td>27.10</td><td>60.40</td><td>2.30</td><td>4.84</td><td>11.10</td><td>233.22</td></tr>\n",
       "\t<tr><th scope=row>13</th><td>costa   </td><td>11.96</td><td>24.60</td><td>58.25</td><td>2.21</td><td>4.68</td><td>10.43</td><td>171.80</td></tr>\n",
       "\t<tr><th scope=row>14</th><td>czech   </td><td>11.09</td><td>21.97</td><td>47.99</td><td>1.89</td><td>4.14</td><td> 8.92</td><td>158.85</td></tr>\n",
       "\t<tr><th scope=row>15</th><td>denmark </td><td>11.42</td><td>23.52</td><td>53.60</td><td>2.03</td><td>4.18</td><td> 8.71</td><td>151.75</td></tr>\n",
       "\t<tr><th scope=row>16</th><td>domrep  </td><td>11.79</td><td>24.05</td><td>56.05</td><td>2.24</td><td>4.74</td><td> 9.89</td><td>203.88</td></tr>\n",
       "\t<tr><th scope=row>17</th><td>finland </td><td>11.13</td><td>22.39</td><td>50.14</td><td>2.03</td><td>4.10</td><td> 8.92</td><td>154.23</td></tr>\n",
       "\t<tr><th scope=row>18</th><td>france  </td><td>11.15</td><td>22.59</td><td>51.73</td><td>2.00</td><td>4.14</td><td> 8.98</td><td>155.27</td></tr>\n",
       "\t<tr><th scope=row>19</th><td>gdr     </td><td>10.81</td><td>21.71</td><td>48.16</td><td>1.93</td><td>3.96</td><td> 8.75</td><td>157.68</td></tr>\n",
       "\t<tr><th scope=row>20</th><td>frg     </td><td>11.01</td><td>22.39</td><td>49.75</td><td>1.95</td><td>4.03</td><td> 8.59</td><td>148.53</td></tr>\n",
       "\t<tr><th scope=row>21</th><td>gbni    </td><td>11.00</td><td>22.13</td><td>50.46</td><td>1.98</td><td>4.03</td><td> 8.62</td><td>149.72</td></tr>\n",
       "\t<tr><th scope=row>22</th><td>greece  </td><td>11.79</td><td>24.08</td><td>54.93</td><td>2.07</td><td>4.35</td><td> 9.87</td><td>182.20</td></tr>\n",
       "\t<tr><th scope=row>23</th><td>guatemal</td><td>11.84</td><td>24.54</td><td>56.09</td><td>2.28</td><td>4.86</td><td>10.54</td><td>215.08</td></tr>\n",
       "\t<tr><th scope=row>24</th><td>hungary </td><td>11.45</td><td>23.06</td><td>51.50</td><td>2.01</td><td>4.14</td><td> 8.98</td><td>156.37</td></tr>\n",
       "\t<tr><th scope=row>25</th><td>india   </td><td>11.95</td><td>24.28</td><td>53.60</td><td>2.10</td><td>4.32</td><td> 9.98</td><td>188.03</td></tr>\n",
       "\t<tr><th scope=row>26</th><td>indonesi</td><td>11.85</td><td>24.24</td><td>55.34</td><td>2.22</td><td>4.61</td><td>10.02</td><td>201.28</td></tr>\n",
       "\t<tr><th scope=row>27</th><td>ireland </td><td>11.43</td><td>23.51</td><td>53.24</td><td>2.05</td><td>4.11</td><td> 8.89</td><td>149.38</td></tr>\n",
       "\t<tr><th scope=row>28</th><td>israel  </td><td>11.45</td><td>23.57</td><td>54.90</td><td>2.10</td><td>4.25</td><td> 9.37</td><td>160.48</td></tr>\n",
       "\t<tr><th scope=row>29</th><td>italy   </td><td>11.29</td><td>23.00</td><td>52.01</td><td>1.96</td><td>3.98</td><td> 8.63</td><td>151.82</td></tr>\n",
       "\t<tr><th scope=row>30</th><td>japan   </td><td>11.73</td><td>24.00</td><td>53.73</td><td>2.09</td><td>4.35</td><td> 9.20</td><td>150.50</td></tr>\n",
       "\t<tr><th scope=row>31</th><td>kenya   </td><td>11.73</td><td>23.88</td><td>52.70</td><td>2.00</td><td>4.15</td><td> 9.20</td><td>181.05</td></tr>\n",
       "\t<tr><th scope=row>32</th><td>korea   </td><td>11.96</td><td>24.49</td><td>55.70</td><td>2.15</td><td>4.42</td><td> 9.62</td><td>164.65</td></tr>\n",
       "\t<tr><th scope=row>33</th><td>dprkorea</td><td>12.25</td><td>25.78</td><td>51.20</td><td>1.97</td><td>4.25</td><td> 9.35</td><td>179.17</td></tr>\n",
       "\t<tr><th scope=row>34</th><td>luxembou</td><td>12.03</td><td>24.96</td><td>56.10</td><td>2.07</td><td>4.38</td><td> 9.64</td><td>174.68</td></tr>\n",
       "\t<tr><th scope=row>35</th><td>malaysia</td><td>12.23</td><td>24.21</td><td>55.09</td><td>2.19</td><td>4.69</td><td>10.46</td><td>182.17</td></tr>\n",
       "\t<tr><th scope=row>36</th><td>mauritiu</td><td>11.76</td><td>25.08</td><td>58.10</td><td>2.27</td><td>4.79</td><td>10.90</td><td>261.13</td></tr>\n",
       "\t<tr><th scope=row>37</th><td>mexico  </td><td>11.89</td><td>23.62</td><td>53.76</td><td>2.04</td><td>4.25</td><td> 9.59</td><td>158.53</td></tr>\n",
       "\t<tr><th scope=row>38</th><td>netherla</td><td>11.25</td><td>22.81</td><td>52.38</td><td>1.99</td><td>4.06</td><td> 9.01</td><td>152.48</td></tr>\n",
       "\t<tr><th scope=row>39</th><td>nz      </td><td>11.55</td><td>23.13</td><td>51.60</td><td>2.02</td><td>4.18</td><td> 8.76</td><td>145.48</td></tr>\n",
       "\t<tr><th scope=row>40</th><td>norway  </td><td>11.58</td><td>23.31</td><td>53.12</td><td>2.03</td><td>4.01</td><td> 8.53</td><td>145.48</td></tr>\n",
       "\t<tr><th scope=row>41</th><td>png     </td><td>12.25</td><td>25.07</td><td>56.96</td><td>2.24</td><td>4.84</td><td>10.69</td><td>233.00</td></tr>\n",
       "\t<tr><th scope=row>42</th><td>philippi</td><td>11.76</td><td>23.54</td><td>54.60</td><td>2.19</td><td>4.60</td><td>10.16</td><td>200.37</td></tr>\n",
       "\t<tr><th scope=row>43</th><td>poland  </td><td>11.13</td><td>22.21</td><td>49.29</td><td>1.95</td><td>3.99</td><td> 8.97</td><td>160.82</td></tr>\n",
       "\t<tr><th scope=row>44</th><td>portugal</td><td>11.81</td><td>24.22</td><td>54.30</td><td>2.09</td><td>4.16</td><td> 8.84</td><td>151.20</td></tr>\n",
       "\t<tr><th scope=row>45</th><td>rumania </td><td>11.44</td><td>23.46</td><td>51.20</td><td>1.92</td><td>3.96</td><td> 8.53</td><td>165.45</td></tr>\n",
       "\t<tr><th scope=row>46</th><td>singapor</td><td>12.30</td><td>25.00</td><td>55.08</td><td>2.12</td><td>4.52</td><td> 9.94</td><td>182.77</td></tr>\n",
       "\t<tr><th scope=row>47</th><td>spain   </td><td>11.80</td><td>23.98</td><td>53.59</td><td>2.05</td><td>4.14</td><td> 9.02</td><td>162.60</td></tr>\n",
       "\t<tr><th scope=row>48</th><td>sweden  </td><td>11.16</td><td>22.82</td><td>51.79</td><td>2.02</td><td>4.12</td><td> 8.84</td><td>154.48</td></tr>\n",
       "\t<tr><th scope=row>49</th><td>switzerl</td><td>11.45</td><td>23.31</td><td>53.11</td><td>2.02</td><td>4.07</td><td> 8.77</td><td>153.42</td></tr>\n",
       "\t<tr><th scope=row>50</th><td>taipei  </td><td>11.22</td><td>22.62</td><td>52.50</td><td>2.10</td><td>4.38</td><td> 9.63</td><td>177.87</td></tr>\n",
       "\t<tr><th scope=row>51</th><td>thailand</td><td>11.75</td><td>24.46</td><td>55.80</td><td>2.20</td><td>4.72</td><td>10.28</td><td>168.45</td></tr>\n",
       "\t<tr><th scope=row>52</th><td>turkey  </td><td>11.98</td><td>24.44</td><td>56.45</td><td>2.15</td><td>4.37</td><td> 9.38</td><td>201.08</td></tr>\n",
       "\t<tr><th scope=row>53</th><td>usa     </td><td>10.79</td><td>21.83</td><td>50.62</td><td>1.96</td><td>3.95</td><td> 8.50</td><td>142.72</td></tr>\n",
       "\t<tr><th scope=row>54</th><td>ussr    </td><td>11.06</td><td>22.19</td><td>49.19</td><td>1.89</td><td>3.87</td><td> 8.45</td><td>151.22</td></tr>\n",
       "\t<tr><th scope=row>55</th><td>wsamoa  </td><td>12.74</td><td>25.85</td><td>58.73</td><td>2.33</td><td>5.81</td><td>13.04</td><td>306.00</td></tr>\n",
       "</tbody>\n",
       "</table>\n"
      ],
      "text/latex": [
       "A data.frame: 55 × 8\n",
       "\\begin{tabular}{r|llllllll}\n",
       "  & COUNTRY & 100m & 200m & 400m & 800m & 1500m & 3000m & Marathon\\\\\n",
       "  & <chr> & <dbl> & <dbl> & <dbl> & <dbl> & <dbl> & <dbl> & <dbl>\\\\\n",
       "\\hline\n",
       "\t1 & argentin & 11.61 & 22.94 & 54.50 & 2.15 & 4.43 &  9.79 & 178.52\\\\\n",
       "\t2 & australi & 11.20 & 22.35 & 51.08 & 1.98 & 4.13 &  9.08 & 152.37\\\\\n",
       "\t3 & austria  & 11.43 & 23.09 & 50.62 & 1.99 & 4.22 &  9.34 & 159.37\\\\\n",
       "\t4 & belgium  & 11.41 & 23.04 & 52.00 & 2.00 & 4.14 &  8.88 & 157.85\\\\\n",
       "\t5 & bermuda  & 11.46 & 23.05 & 53.30 & 2.16 & 4.58 &  9.81 & 169.98\\\\\n",
       "\t6 & brazil   & 11.31 & 23.17 & 52.80 & 2.10 & 4.49 &  9.77 & 168.75\\\\\n",
       "\t7 & burma    & 12.14 & 24.47 & 55.00 & 2.18 & 4.45 &  9.51 & 191.02\\\\\n",
       "\t8 & canada   & 11.00 & 22.25 & 50.06 & 2.00 & 4.06 &  8.81 & 149.45\\\\\n",
       "\t9 & chile    & 12.00 & 24.52 & 54.90 & 2.05 & 4.23 &  9.37 & 171.38\\\\\n",
       "\t10 & china    & 11.95 & 24.41 & 54.97 & 2.08 & 4.33 &  9.31 & 168.48\\\\\n",
       "\t11 & columbia & 11.60 & 24.00 & 53.26 & 2.11 & 4.35 &  9.46 & 165.42\\\\\n",
       "\t12 & cookis   & 12.90 & 27.10 & 60.40 & 2.30 & 4.84 & 11.10 & 233.22\\\\\n",
       "\t13 & costa    & 11.96 & 24.60 & 58.25 & 2.21 & 4.68 & 10.43 & 171.80\\\\\n",
       "\t14 & czech    & 11.09 & 21.97 & 47.99 & 1.89 & 4.14 &  8.92 & 158.85\\\\\n",
       "\t15 & denmark  & 11.42 & 23.52 & 53.60 & 2.03 & 4.18 &  8.71 & 151.75\\\\\n",
       "\t16 & domrep   & 11.79 & 24.05 & 56.05 & 2.24 & 4.74 &  9.89 & 203.88\\\\\n",
       "\t17 & finland  & 11.13 & 22.39 & 50.14 & 2.03 & 4.10 &  8.92 & 154.23\\\\\n",
       "\t18 & france   & 11.15 & 22.59 & 51.73 & 2.00 & 4.14 &  8.98 & 155.27\\\\\n",
       "\t19 & gdr      & 10.81 & 21.71 & 48.16 & 1.93 & 3.96 &  8.75 & 157.68\\\\\n",
       "\t20 & frg      & 11.01 & 22.39 & 49.75 & 1.95 & 4.03 &  8.59 & 148.53\\\\\n",
       "\t21 & gbni     & 11.00 & 22.13 & 50.46 & 1.98 & 4.03 &  8.62 & 149.72\\\\\n",
       "\t22 & greece   & 11.79 & 24.08 & 54.93 & 2.07 & 4.35 &  9.87 & 182.20\\\\\n",
       "\t23 & guatemal & 11.84 & 24.54 & 56.09 & 2.28 & 4.86 & 10.54 & 215.08\\\\\n",
       "\t24 & hungary  & 11.45 & 23.06 & 51.50 & 2.01 & 4.14 &  8.98 & 156.37\\\\\n",
       "\t25 & india    & 11.95 & 24.28 & 53.60 & 2.10 & 4.32 &  9.98 & 188.03\\\\\n",
       "\t26 & indonesi & 11.85 & 24.24 & 55.34 & 2.22 & 4.61 & 10.02 & 201.28\\\\\n",
       "\t27 & ireland  & 11.43 & 23.51 & 53.24 & 2.05 & 4.11 &  8.89 & 149.38\\\\\n",
       "\t28 & israel   & 11.45 & 23.57 & 54.90 & 2.10 & 4.25 &  9.37 & 160.48\\\\\n",
       "\t29 & italy    & 11.29 & 23.00 & 52.01 & 1.96 & 3.98 &  8.63 & 151.82\\\\\n",
       "\t30 & japan    & 11.73 & 24.00 & 53.73 & 2.09 & 4.35 &  9.20 & 150.50\\\\\n",
       "\t31 & kenya    & 11.73 & 23.88 & 52.70 & 2.00 & 4.15 &  9.20 & 181.05\\\\\n",
       "\t32 & korea    & 11.96 & 24.49 & 55.70 & 2.15 & 4.42 &  9.62 & 164.65\\\\\n",
       "\t33 & dprkorea & 12.25 & 25.78 & 51.20 & 1.97 & 4.25 &  9.35 & 179.17\\\\\n",
       "\t34 & luxembou & 12.03 & 24.96 & 56.10 & 2.07 & 4.38 &  9.64 & 174.68\\\\\n",
       "\t35 & malaysia & 12.23 & 24.21 & 55.09 & 2.19 & 4.69 & 10.46 & 182.17\\\\\n",
       "\t36 & mauritiu & 11.76 & 25.08 & 58.10 & 2.27 & 4.79 & 10.90 & 261.13\\\\\n",
       "\t37 & mexico   & 11.89 & 23.62 & 53.76 & 2.04 & 4.25 &  9.59 & 158.53\\\\\n",
       "\t38 & netherla & 11.25 & 22.81 & 52.38 & 1.99 & 4.06 &  9.01 & 152.48\\\\\n",
       "\t39 & nz       & 11.55 & 23.13 & 51.60 & 2.02 & 4.18 &  8.76 & 145.48\\\\\n",
       "\t40 & norway   & 11.58 & 23.31 & 53.12 & 2.03 & 4.01 &  8.53 & 145.48\\\\\n",
       "\t41 & png      & 12.25 & 25.07 & 56.96 & 2.24 & 4.84 & 10.69 & 233.00\\\\\n",
       "\t42 & philippi & 11.76 & 23.54 & 54.60 & 2.19 & 4.60 & 10.16 & 200.37\\\\\n",
       "\t43 & poland   & 11.13 & 22.21 & 49.29 & 1.95 & 3.99 &  8.97 & 160.82\\\\\n",
       "\t44 & portugal & 11.81 & 24.22 & 54.30 & 2.09 & 4.16 &  8.84 & 151.20\\\\\n",
       "\t45 & rumania  & 11.44 & 23.46 & 51.20 & 1.92 & 3.96 &  8.53 & 165.45\\\\\n",
       "\t46 & singapor & 12.30 & 25.00 & 55.08 & 2.12 & 4.52 &  9.94 & 182.77\\\\\n",
       "\t47 & spain    & 11.80 & 23.98 & 53.59 & 2.05 & 4.14 &  9.02 & 162.60\\\\\n",
       "\t48 & sweden   & 11.16 & 22.82 & 51.79 & 2.02 & 4.12 &  8.84 & 154.48\\\\\n",
       "\t49 & switzerl & 11.45 & 23.31 & 53.11 & 2.02 & 4.07 &  8.77 & 153.42\\\\\n",
       "\t50 & taipei   & 11.22 & 22.62 & 52.50 & 2.10 & 4.38 &  9.63 & 177.87\\\\\n",
       "\t51 & thailand & 11.75 & 24.46 & 55.80 & 2.20 & 4.72 & 10.28 & 168.45\\\\\n",
       "\t52 & turkey   & 11.98 & 24.44 & 56.45 & 2.15 & 4.37 &  9.38 & 201.08\\\\\n",
       "\t53 & usa      & 10.79 & 21.83 & 50.62 & 1.96 & 3.95 &  8.50 & 142.72\\\\\n",
       "\t54 & ussr     & 11.06 & 22.19 & 49.19 & 1.89 & 3.87 &  8.45 & 151.22\\\\\n",
       "\t55 & wsamoa   & 12.74 & 25.85 & 58.73 & 2.33 & 5.81 & 13.04 & 306.00\\\\\n",
       "\\end{tabular}\n"
      ],
      "text/markdown": [
       "\n",
       "A data.frame: 55 × 8\n",
       "\n",
       "| <!--/--> | COUNTRY &lt;chr&gt; | 100m &lt;dbl&gt; | 200m &lt;dbl&gt; | 400m &lt;dbl&gt; | 800m &lt;dbl&gt; | 1500m &lt;dbl&gt; | 3000m &lt;dbl&gt; | Marathon &lt;dbl&gt; |\n",
       "|---|---|---|---|---|---|---|---|---|\n",
       "| 1 | argentin | 11.61 | 22.94 | 54.50 | 2.15 | 4.43 |  9.79 | 178.52 |\n",
       "| 2 | australi | 11.20 | 22.35 | 51.08 | 1.98 | 4.13 |  9.08 | 152.37 |\n",
       "| 3 | austria  | 11.43 | 23.09 | 50.62 | 1.99 | 4.22 |  9.34 | 159.37 |\n",
       "| 4 | belgium  | 11.41 | 23.04 | 52.00 | 2.00 | 4.14 |  8.88 | 157.85 |\n",
       "| 5 | bermuda  | 11.46 | 23.05 | 53.30 | 2.16 | 4.58 |  9.81 | 169.98 |\n",
       "| 6 | brazil   | 11.31 | 23.17 | 52.80 | 2.10 | 4.49 |  9.77 | 168.75 |\n",
       "| 7 | burma    | 12.14 | 24.47 | 55.00 | 2.18 | 4.45 |  9.51 | 191.02 |\n",
       "| 8 | canada   | 11.00 | 22.25 | 50.06 | 2.00 | 4.06 |  8.81 | 149.45 |\n",
       "| 9 | chile    | 12.00 | 24.52 | 54.90 | 2.05 | 4.23 |  9.37 | 171.38 |\n",
       "| 10 | china    | 11.95 | 24.41 | 54.97 | 2.08 | 4.33 |  9.31 | 168.48 |\n",
       "| 11 | columbia | 11.60 | 24.00 | 53.26 | 2.11 | 4.35 |  9.46 | 165.42 |\n",
       "| 12 | cookis   | 12.90 | 27.10 | 60.40 | 2.30 | 4.84 | 11.10 | 233.22 |\n",
       "| 13 | costa    | 11.96 | 24.60 | 58.25 | 2.21 | 4.68 | 10.43 | 171.80 |\n",
       "| 14 | czech    | 11.09 | 21.97 | 47.99 | 1.89 | 4.14 |  8.92 | 158.85 |\n",
       "| 15 | denmark  | 11.42 | 23.52 | 53.60 | 2.03 | 4.18 |  8.71 | 151.75 |\n",
       "| 16 | domrep   | 11.79 | 24.05 | 56.05 | 2.24 | 4.74 |  9.89 | 203.88 |\n",
       "| 17 | finland  | 11.13 | 22.39 | 50.14 | 2.03 | 4.10 |  8.92 | 154.23 |\n",
       "| 18 | france   | 11.15 | 22.59 | 51.73 | 2.00 | 4.14 |  8.98 | 155.27 |\n",
       "| 19 | gdr      | 10.81 | 21.71 | 48.16 | 1.93 | 3.96 |  8.75 | 157.68 |\n",
       "| 20 | frg      | 11.01 | 22.39 | 49.75 | 1.95 | 4.03 |  8.59 | 148.53 |\n",
       "| 21 | gbni     | 11.00 | 22.13 | 50.46 | 1.98 | 4.03 |  8.62 | 149.72 |\n",
       "| 22 | greece   | 11.79 | 24.08 | 54.93 | 2.07 | 4.35 |  9.87 | 182.20 |\n",
       "| 23 | guatemal | 11.84 | 24.54 | 56.09 | 2.28 | 4.86 | 10.54 | 215.08 |\n",
       "| 24 | hungary  | 11.45 | 23.06 | 51.50 | 2.01 | 4.14 |  8.98 | 156.37 |\n",
       "| 25 | india    | 11.95 | 24.28 | 53.60 | 2.10 | 4.32 |  9.98 | 188.03 |\n",
       "| 26 | indonesi | 11.85 | 24.24 | 55.34 | 2.22 | 4.61 | 10.02 | 201.28 |\n",
       "| 27 | ireland  | 11.43 | 23.51 | 53.24 | 2.05 | 4.11 |  8.89 | 149.38 |\n",
       "| 28 | israel   | 11.45 | 23.57 | 54.90 | 2.10 | 4.25 |  9.37 | 160.48 |\n",
       "| 29 | italy    | 11.29 | 23.00 | 52.01 | 1.96 | 3.98 |  8.63 | 151.82 |\n",
       "| 30 | japan    | 11.73 | 24.00 | 53.73 | 2.09 | 4.35 |  9.20 | 150.50 |\n",
       "| 31 | kenya    | 11.73 | 23.88 | 52.70 | 2.00 | 4.15 |  9.20 | 181.05 |\n",
       "| 32 | korea    | 11.96 | 24.49 | 55.70 | 2.15 | 4.42 |  9.62 | 164.65 |\n",
       "| 33 | dprkorea | 12.25 | 25.78 | 51.20 | 1.97 | 4.25 |  9.35 | 179.17 |\n",
       "| 34 | luxembou | 12.03 | 24.96 | 56.10 | 2.07 | 4.38 |  9.64 | 174.68 |\n",
       "| 35 | malaysia | 12.23 | 24.21 | 55.09 | 2.19 | 4.69 | 10.46 | 182.17 |\n",
       "| 36 | mauritiu | 11.76 | 25.08 | 58.10 | 2.27 | 4.79 | 10.90 | 261.13 |\n",
       "| 37 | mexico   | 11.89 | 23.62 | 53.76 | 2.04 | 4.25 |  9.59 | 158.53 |\n",
       "| 38 | netherla | 11.25 | 22.81 | 52.38 | 1.99 | 4.06 |  9.01 | 152.48 |\n",
       "| 39 | nz       | 11.55 | 23.13 | 51.60 | 2.02 | 4.18 |  8.76 | 145.48 |\n",
       "| 40 | norway   | 11.58 | 23.31 | 53.12 | 2.03 | 4.01 |  8.53 | 145.48 |\n",
       "| 41 | png      | 12.25 | 25.07 | 56.96 | 2.24 | 4.84 | 10.69 | 233.00 |\n",
       "| 42 | philippi | 11.76 | 23.54 | 54.60 | 2.19 | 4.60 | 10.16 | 200.37 |\n",
       "| 43 | poland   | 11.13 | 22.21 | 49.29 | 1.95 | 3.99 |  8.97 | 160.82 |\n",
       "| 44 | portugal | 11.81 | 24.22 | 54.30 | 2.09 | 4.16 |  8.84 | 151.20 |\n",
       "| 45 | rumania  | 11.44 | 23.46 | 51.20 | 1.92 | 3.96 |  8.53 | 165.45 |\n",
       "| 46 | singapor | 12.30 | 25.00 | 55.08 | 2.12 | 4.52 |  9.94 | 182.77 |\n",
       "| 47 | spain    | 11.80 | 23.98 | 53.59 | 2.05 | 4.14 |  9.02 | 162.60 |\n",
       "| 48 | sweden   | 11.16 | 22.82 | 51.79 | 2.02 | 4.12 |  8.84 | 154.48 |\n",
       "| 49 | switzerl | 11.45 | 23.31 | 53.11 | 2.02 | 4.07 |  8.77 | 153.42 |\n",
       "| 50 | taipei   | 11.22 | 22.62 | 52.50 | 2.10 | 4.38 |  9.63 | 177.87 |\n",
       "| 51 | thailand | 11.75 | 24.46 | 55.80 | 2.20 | 4.72 | 10.28 | 168.45 |\n",
       "| 52 | turkey   | 11.98 | 24.44 | 56.45 | 2.15 | 4.37 |  9.38 | 201.08 |\n",
       "| 53 | usa      | 10.79 | 21.83 | 50.62 | 1.96 | 3.95 |  8.50 | 142.72 |\n",
       "| 54 | ussr     | 11.06 | 22.19 | 49.19 | 1.89 | 3.87 |  8.45 | 151.22 |\n",
       "| 55 | wsamoa   | 12.74 | 25.85 | 58.73 | 2.33 | 5.81 | 13.04 | 306.00 |\n",
       "\n"
      ],
      "text/plain": [
       "   COUNTRY  100m  200m  400m  800m 1500m 3000m Marathon\n",
       "1  argentin 11.61 22.94 54.50 2.15 4.43   9.79 178.52  \n",
       "2  australi 11.20 22.35 51.08 1.98 4.13   9.08 152.37  \n",
       "3  austria  11.43 23.09 50.62 1.99 4.22   9.34 159.37  \n",
       "4  belgium  11.41 23.04 52.00 2.00 4.14   8.88 157.85  \n",
       "5  bermuda  11.46 23.05 53.30 2.16 4.58   9.81 169.98  \n",
       "6  brazil   11.31 23.17 52.80 2.10 4.49   9.77 168.75  \n",
       "7  burma    12.14 24.47 55.00 2.18 4.45   9.51 191.02  \n",
       "8  canada   11.00 22.25 50.06 2.00 4.06   8.81 149.45  \n",
       "9  chile    12.00 24.52 54.90 2.05 4.23   9.37 171.38  \n",
       "10 china    11.95 24.41 54.97 2.08 4.33   9.31 168.48  \n",
       "11 columbia 11.60 24.00 53.26 2.11 4.35   9.46 165.42  \n",
       "12 cookis   12.90 27.10 60.40 2.30 4.84  11.10 233.22  \n",
       "13 costa    11.96 24.60 58.25 2.21 4.68  10.43 171.80  \n",
       "14 czech    11.09 21.97 47.99 1.89 4.14   8.92 158.85  \n",
       "15 denmark  11.42 23.52 53.60 2.03 4.18   8.71 151.75  \n",
       "16 domrep   11.79 24.05 56.05 2.24 4.74   9.89 203.88  \n",
       "17 finland  11.13 22.39 50.14 2.03 4.10   8.92 154.23  \n",
       "18 france   11.15 22.59 51.73 2.00 4.14   8.98 155.27  \n",
       "19 gdr      10.81 21.71 48.16 1.93 3.96   8.75 157.68  \n",
       "20 frg      11.01 22.39 49.75 1.95 4.03   8.59 148.53  \n",
       "21 gbni     11.00 22.13 50.46 1.98 4.03   8.62 149.72  \n",
       "22 greece   11.79 24.08 54.93 2.07 4.35   9.87 182.20  \n",
       "23 guatemal 11.84 24.54 56.09 2.28 4.86  10.54 215.08  \n",
       "24 hungary  11.45 23.06 51.50 2.01 4.14   8.98 156.37  \n",
       "25 india    11.95 24.28 53.60 2.10 4.32   9.98 188.03  \n",
       "26 indonesi 11.85 24.24 55.34 2.22 4.61  10.02 201.28  \n",
       "27 ireland  11.43 23.51 53.24 2.05 4.11   8.89 149.38  \n",
       "28 israel   11.45 23.57 54.90 2.10 4.25   9.37 160.48  \n",
       "29 italy    11.29 23.00 52.01 1.96 3.98   8.63 151.82  \n",
       "30 japan    11.73 24.00 53.73 2.09 4.35   9.20 150.50  \n",
       "31 kenya    11.73 23.88 52.70 2.00 4.15   9.20 181.05  \n",
       "32 korea    11.96 24.49 55.70 2.15 4.42   9.62 164.65  \n",
       "33 dprkorea 12.25 25.78 51.20 1.97 4.25   9.35 179.17  \n",
       "34 luxembou 12.03 24.96 56.10 2.07 4.38   9.64 174.68  \n",
       "35 malaysia 12.23 24.21 55.09 2.19 4.69  10.46 182.17  \n",
       "36 mauritiu 11.76 25.08 58.10 2.27 4.79  10.90 261.13  \n",
       "37 mexico   11.89 23.62 53.76 2.04 4.25   9.59 158.53  \n",
       "38 netherla 11.25 22.81 52.38 1.99 4.06   9.01 152.48  \n",
       "39 nz       11.55 23.13 51.60 2.02 4.18   8.76 145.48  \n",
       "40 norway   11.58 23.31 53.12 2.03 4.01   8.53 145.48  \n",
       "41 png      12.25 25.07 56.96 2.24 4.84  10.69 233.00  \n",
       "42 philippi 11.76 23.54 54.60 2.19 4.60  10.16 200.37  \n",
       "43 poland   11.13 22.21 49.29 1.95 3.99   8.97 160.82  \n",
       "44 portugal 11.81 24.22 54.30 2.09 4.16   8.84 151.20  \n",
       "45 rumania  11.44 23.46 51.20 1.92 3.96   8.53 165.45  \n",
       "46 singapor 12.30 25.00 55.08 2.12 4.52   9.94 182.77  \n",
       "47 spain    11.80 23.98 53.59 2.05 4.14   9.02 162.60  \n",
       "48 sweden   11.16 22.82 51.79 2.02 4.12   8.84 154.48  \n",
       "49 switzerl 11.45 23.31 53.11 2.02 4.07   8.77 153.42  \n",
       "50 taipei   11.22 22.62 52.50 2.10 4.38   9.63 177.87  \n",
       "51 thailand 11.75 24.46 55.80 2.20 4.72  10.28 168.45  \n",
       "52 turkey   11.98 24.44 56.45 2.15 4.37   9.38 201.08  \n",
       "53 usa      10.79 21.83 50.62 1.96 3.95   8.50 142.72  \n",
       "54 ussr     11.06 22.19 49.19 1.89 3.87   8.45 151.22  \n",
       "55 wsamoa   12.74 25.85 58.73 2.33 5.81  13.04 306.00  "
      ]
     },
     "metadata": {},
     "output_type": "display_data"
    }
   ],
   "source": [
    "nat_rec <- read.xlsx(\"National Track Records for Women.xlsx\")\n",
    "\n",
    "for(i in c(2:8)){\n",
    "  nat_rec[, i] <- as.numeric(nat_rec[, i])\n",
    "}\n",
    "nat_rec"
   ]
  },
  {
   "cell_type": "markdown",
   "id": "bbef11eb",
   "metadata": {},
   "source": [
    "## a. Using the data in Table 1.9, calculate the Euclidean distances between pairs of countries."
   ]
  },
  {
   "cell_type": "code",
   "execution_count": 23,
   "id": "a5ff3c9c",
   "metadata": {
    "ExecuteTime": {
     "end_time": "2022-05-15T05:28:38.381683Z",
     "start_time": "2022-05-15T05:28:36.147Z"
    }
   },
   "outputs": [
    {
     "data": {
      "text/plain": [
       "             1           2           3           4           5           6\n",
       "2   26.3942816                                                            \n",
       "3   19.5474807   7.0631367                                                \n",
       "4   20.8442702   5.6069154   2.1061339                                    \n",
       "5    8.6272359  17.7866776  10.9606752  12.2439209                        \n",
       "6    9.9243287  16.5096154   9.6450765  10.9727617   1.3465140            \n",
       "7   12.6175077  38.9216418  31.9911441  33.3519430  21.1697355  22.4331763\n",
       "8   29.4405588   3.1136795   9.9958541   8.6675891  20.8356929  19.5462682\n",
       "9    7.3494558  19.5299872  12.8426204  13.9377222   2.7019808   3.7223111\n",
       "10  10.1756720  16.7204426  10.1955137  11.1451200   2.7290108   2.6394318\n",
       "11  13.2056124  13.3471757   6.6689429   7.7616235   4.6792307   3.4913178\n",
       "12  55.2066699  81.5703641  74.6410745  75.9961117  63.7960422  65.0695420\n",
       "13   7.9104172  20.8986076  14.7217832  15.4641295   5.5555648   6.4773606\n",
       "14  20.7703852   7.1922736   2.9580568   4.2826510  12.4271839  11.1141171\n",
       "15  26.8152699   2.8799306   8.2176578   6.3270767  18.2765505  17.0586987\n",
       "16  25.4344412  51.7910697  44.8587962  46.2359773  34.0282206  35.2956187\n",
       "17  24.7068169   2.0925343   5.2366401   4.1314646  16.1131003  14.8130449\n",
       "18  23.4378369   2.9838063   4.3019298   2.6475271  14.8345812  13.5636979\n",
       "19  21.8633255   6.1175567   3.4081960   4.1179607  13.4717705  12.1575614\n",
       "20  30.4017286   4.0991706  10.9329365   9.6232063  21.7985802  20.5055066\n",
       "21  29.1264073   2.7779309   9.7370016   8.3393525  20.5266217  19.2442901\n",
       "22   3.8831044  30.1442034  23.2636820  24.5715791  12.3781945  13.6575400\n",
       "23  36.6406728  62.9730450  56.0154381  57.4263729  45.2192912  46.4780916\n",
       "24  22.3701207   4.0931650   3.1483488   1.5660460  13.7614425  12.4796154\n",
       "25   9.6546362  35.8208584  28.8512426  30.2733216  18.1037455  19.3409695\n",
       "26  22.8158059  49.1477558  42.2006256  43.5949882  31.3921710  32.6524164\n",
       "27  29.1891572   3.8788658  10.3469367   8.5734066  20.6314202  19.4021081\n",
       "28  18.0619877   9.0569476   4.4491797   3.9839177   9.6636742   8.5557057\n",
       "29  26.8473518   1.3503333   7.7152382   6.0387664  18.2557799  16.9958112\n",
       "30  28.0572522   3.6875059   9.4505873   7.6284992  19.5207736  18.3067556\n",
       "31   3.3148001  28.7715797  21.7965020  23.2301636  11.1467170  12.3462950\n",
       "32  14.0132402  13.3305889   7.4879704   7.9362145   6.0460152   5.2359144\n",
       "33   4.4772871  27.0408802  20.0071562  21.5320575   9.8640610  10.9125158\n",
       "34   4.6469130  23.0395681  16.3830827  17.4576573   5.8292367   7.0574287\n",
       "35   4.0231828  30.1811647  23.3073079  24.6147679  12.4166904  13.7037477\n",
       "36  82.7245447 109.0395185 102.0683786 103.5027937  91.3061756  92.5602550\n",
       "37  20.0193157   6.8916689   3.3352061   2.1551334  11.4889338  10.2957516\n",
       "38  26.1437067   1.3878400   7.1284641   5.3928842  17.5538429  16.3032849\n",
       "39  33.1848098   6.9699283  13.9372666  12.3782470  24.5852924  23.3262663\n",
       "40  33.0977673   7.2814216  14.1405375  12.4303419  24.5427097  23.3122436\n",
       "41  54.5898773  80.9162283  73.9488654  75.3709115  63.1701583  64.4270921\n",
       "42  21.8628086  48.1617224  41.2068999  42.6259193  30.4252527  31.6792692\n",
       "43  18.4960374   8.6408159   2.2197297   4.1189076  10.0944539   8.7790375\n",
       "44  27.3693222   3.9594065   9.0540709   7.1466775  18.8759636  17.6799010\n",
       "45  13.5600737  13.1425074   6.1780579   7.6641112   5.2134250   3.9245254\n",
       "46   4.8114551  30.8107741  23.9232836  25.2271461  13.0875017  14.3568102\n",
       "47  16.0024748  10.6760714   4.5050194   5.1135506   7.5072498   6.3269503\n",
       "48  24.2177228   2.2886677   5.0683035   3.3932728  15.6155403  14.3459472\n",
       "49  25.1652836   2.5117325   6.4807176   4.5769968  16.6041772  15.3729308\n",
       "50   2.1697004  25.5483679  18.6056766  20.0472691   7.9505094   9.1436699\n",
       "51  10.2835597  16.9539346  10.6035749  11.4572423   3.3023022   3.3571863\n",
       "52  22.7005440  49.0576600  42.1412826  43.4884548  31.2979888  32.5696515\n",
       "53  36.0628549   9.7026697  16.7331736  15.2594856  27.4659844  26.1973930\n",
       "54  27.8662502   2.3264565   8.3868290   7.2779049  19.2913426  17.9868508\n",
       "55 127.6373284 153.9283843 146.9414727 148.4034494 136.2071158 137.4570584\n",
       "             7           8           9          10          11          12\n",
       "2                                                                         \n",
       "3                                                                         \n",
       "4                                                                         \n",
       "5                                                                         \n",
       "6                                                                         \n",
       "7                                                                         \n",
       "8   41.9448567                                                            \n",
       "9   19.6429784  22.6019557                                                \n",
       "10  22.5423291  19.8026867   2.9058562                                    \n",
       "11  25.6693884  16.4079889   6.2183358   3.5499437                        \n",
       "12  42.6636742  84.6014391  62.1717741  65.0569266  68.2794654            \n",
       "13  19.5171822  24.0019916   3.5719183   4.8177588   8.1947483  61.5195506\n",
       "14  33.0443611   9.6313031  14.5710604  12.1809195   8.7007413  75.6300767\n",
       "15  39.3223753   4.4312752  19.7180577  16.8293731  13.7056594  81.8830159\n",
       "16  12.9233548  54.8092647  32.5331231  35.4261443  38.5661536  29.8625250\n",
       "17  37.1882145   4.7860109  17.9525402  15.2102498  11.7526167  79.8459617\n",
       "18  35.9677536   6.0691597  16.5587167  13.7515635  10.3846329  78.6120118\n",
       "19  34.1849075   8.4669416  15.5852976  13.1178771   9.6163611  76.7851757\n",
       "20  42.8910434   1.0069757  23.5546259  20.7566905  17.3613738  85.5491292\n",
       "21  41.6423498   0.5335729  22.2752935  19.4667588  16.0938435  84.2987153\n",
       "22   8.8444107  33.1883263  10.8432375  13.7363969  16.8691879  51.4307272\n",
       "23  24.1123537  65.9796848  43.7372930  46.6334344  49.7587088  18.8580831\n",
       "24  34.8675006   7.1311991  15.4743659  12.6852434   9.2838947  77.5153217\n",
       "25   3.3491044  38.8254800  16.7139253  19.6098368  22.6229971  45.8126162\n",
       "26  10.2862773  52.1605684  29.9148843  32.8118561  35.9274185  32.5003846\n",
       "27  41.7004772   3.4498116  22.0985384  19.2122097  16.0604203  84.2670736\n",
       "28  30.5622921  12.1404736  10.9552681   8.0604528   5.2267389  73.0705276\n",
       "29  39.3637803   3.1790565  19.8589627  17.0100029  13.7283247  81.9921356\n",
       "30  40.5461034   4.2908158  20.9220338  18.0290626  14.9302445  83.0780380\n",
       "31  10.2676969  31.7628651   9.9432993  12.7881977  15.6448554  52.8858422\n",
       "32  26.3801744  16.4194092   6.7855729   3.9137450   2.6359628  68.8042143\n",
       "33  12.5180030  29.9821614   8.7195986  11.4226092  14.0334850  54.8792028\n",
       "34  16.3857163  26.1196420   3.5525062   6.3354005   9.7444651  58.7635448\n",
       "35   8.9087878  33.2326541  10.8640922  13.7482035  16.8959877  51.4154043\n",
       "36  70.1968261 112.0295693  89.8241426  92.7204411  95.8504799  28.1012722\n",
       "37  32.5267382   9.9725373  12.9341834  10.0588618   6.9269329  75.0900260\n",
       "38  38.6805106   3.8703359  19.1627007  16.3073327  13.0406135  81.2986298\n",
       "39  45.6974430   4.3848261  26.1574100  23.2912838  20.0410978  88.3137622\n",
       "40  45.6098860   5.1639423  26.0071779  23.1188819  19.9771519  88.1747084\n",
       "41  42.0485695  83.9161951  61.6748214  64.5717136  67.7058616   4.0739539\n",
       "42   9.4359366  51.1649284  29.0225550  31.9172289  34.9870576  33.5810810\n",
       "43  30.8436039  11.3983025  12.2190957   9.8335395   6.3828834  73.4684898\n",
       "44  39.8350963   5.0592588  20.1991559  17.3018178  14.2759728  82.3382475\n",
       "45  25.9044996  16.0950955   7.1475520   5.0326236   2.3695569  68.5588638\n",
       "46   8.2806280  33.8552537  11.4236071  14.3220599  17.4952651  50.7912916\n",
       "47  28.4674077  13.7502473   8.9031848   6.0669020   2.8884252  71.0590163\n",
       "48  36.7388350   5.3524947  17.2965777  14.4752617  11.1299551  79.3799099\n",
       "49  37.6811810   5.1372755  18.1085284  15.2343690  12.0450695  80.2729774\n",
       "50  13.5450028  28.5415504   7.2243408   9.9053168  12.5562255  56.1367776\n",
       "51  22.6022853  20.0507032   3.2483380   1.3563554   4.0846052  65.0023215\n",
       "52  10.1664546  52.0834811  29.7410323  32.6337800  35.8072353  32.5531243\n",
       "53  48.6023148   6.7776692  29.1420246  26.2929078  22.9941014  91.2457731\n",
       "54  40.3200322   2.0186134  21.1268502  18.3854236  14.9355783  82.9776434\n",
       "55 115.1126001 156.9080090 134.7426195 137.6399342 140.7564414  72.8423695\n",
       "            13          14          15          16          17          18\n",
       "2                                                                         \n",
       "3                                                                         \n",
       "4                                                                         \n",
       "5                                                                         \n",
       "6                                                                         \n",
       "7                                                                         \n",
       "8                                                                         \n",
       "9                                                                         \n",
       "10                                                                        \n",
       "11                                                                        \n",
       "12                                                                        \n",
       "13                                                                        \n",
       "14  16.8320528                                                            \n",
       "15  20.6959851   9.1901469                                                \n",
       "16  32.1651038  45.8138003  52.2083068                                    \n",
       "17  19.5626915   5.1152810   4.4196719  50.0463425                        \n",
       "18  17.9690206   5.2161001   4.1110218  48.8403665   1.9121192            \n",
       "19  17.7278397   1.2675567   8.2744607  46.9588352   4.0553915   4.4196380\n",
       "20  24.9680836  10.4836730   5.1651912  55.7580012   5.7250939   7.0409019\n",
       "21  23.6428530   9.4658175   4.0152335  54.5073279   4.5414095   5.7263950\n",
       "22  10.9509726  24.4807516  30.5089823  21.7131089  28.4521229  27.1833718\n",
       "23  43.3346443  56.9024182  63.4190791  11.2304363  61.2087910  60.0296152\n",
       "24  16.9915626   4.4504157   5.1031167  47.7518513   2.6431232   1.2545517\n",
       "25  16.8962156  29.8365598  36.3143814  16.0470433  34.0563210  32.8824117\n",
       "26  29.6285892  43.1462362  49.5871848   2.7088743  47.3939827  46.2008182\n",
       "27  23.0639892  10.9433998   2.4050780  54.5893790   5.8718225   6.1569879\n",
       "28  11.9166480   7.3043343   8.8516496  43.4253221   7.9652244   6.1981933\n",
       "29  21.0935867   8.1729309   1.6945796  52.2509454   3.1314693   3.5097436\n",
       "30  21.8213084  10.3616167   1.4759743  53.4365381   5.4678698   5.4016664\n",
       "31  10.8983577  22.7853549  29.3217939  23.0942785  26.9912560  25.8379237\n",
       "32   7.6396597  10.0412848  13.1511444  39.2367341  12.0497178  10.4173845\n",
       "33  10.3394777  20.9588072  27.6374927  25.2569931  25.2207197  24.1459500\n",
       "34   3.7128291  18.0774196  23.1384334  29.2189870  21.4880758  20.0682436\n",
       "35  10.8512165  24.5624449  30.5299345  21.7438451  28.5028735  27.2253448\n",
       "36  89.3329637 102.8494959 109.5080335  57.3048890 107.2523133 106.1021701\n",
       "37  14.0761394   6.1025650   6.8559682  45.4140022   5.8443477   4.0917967\n",
       "38  20.3439598   7.7849021   1.6310426  51.5612005   2.8778812   2.8761780\n",
       "39  27.2464475  13.9064841   6.5942778  58.5910010   8.9134842   9.8164658\n",
       "40  26.9250645  14.3978505   6.2987538  58.4992581   9.3087056   9.9347773\n",
       "41  61.2168539  74.7889323  81.3654939  29.1668390  79.1415611  77.9752390\n",
       "42  28.8237871  42.0993527  48.6551631   3.8442945  46.3931439  45.2234629\n",
       "43  14.4885576   2.3788022  10.1366316  43.6483150   6.6486089   6.0766767\n",
       "44  21.0461944  10.1963866   1.2064410  52.7231979   5.5055790   5.1274165\n",
       "45   9.7881306   7.5094674  13.9121134  38.7739397  11.3329961  10.2467361\n",
       "46  11.4428668  25.1856546  31.1292820  21.1613067  29.1262957  27.8510951\n",
       "47  10.4437015   7.0712304  10.8709107  41.3672334   9.2167456   7.7166832\n",
       "48  18.6654815   5.8555956   3.3626180  49.6180683   1.7256013   0.8373171\n",
       "49  19.2180124   7.5939976   1.7577827  50.5694582   3.2325377   2.4463646\n",
       "50   8.6670352  19.5741079  26.1764341  26.3003650  23.7711506  22.6240757\n",
       "51   4.1608773  12.7308248  16.9560579  35.4354512  15.5298487  14.0071625\n",
       "52  29.3562021  43.1528632  49.4290481   2.9314331  47.3282421  46.0996887\n",
       "53  30.2857293  16.3530058   9.6838112  61.4702652  11.5474456  12.6376382\n",
       "54  22.7358088   7.7459667   4.6702034  53.1702990   3.2095015   4.8361245\n",
       "55 134.2391325 147.6692382 154.4281273 102.2296180 152.1265039 151.0002318\n",
       "            19          20          21          22          23          24\n",
       "2                                                                         \n",
       "3                                                                         \n",
       "4                                                                         \n",
       "5                                                                         \n",
       "6                                                                         \n",
       "7                                                                         \n",
       "8                                                                         \n",
       "9                                                                         \n",
       "10                                                                        \n",
       "11                                                                        \n",
       "12                                                                        \n",
       "13                                                                        \n",
       "14                                                                        \n",
       "15                                                                        \n",
       "16                                                                        \n",
       "17                                                                        \n",
       "18                                                                        \n",
       "19                                                                        \n",
       "20   9.3157877                                                            \n",
       "21   8.2999036   1.4105673                                                \n",
       "22  25.5942708  34.1426566  32.8790344                                    \n",
       "23  58.0590329  66.9254047  65.6856567  32.9151515                        \n",
       "24   3.8981406   8.0832172   6.8201246  26.0950110  58.9347062            \n",
       "25  30.9885785  39.7689188  38.5355524   5.9864263  27.1775624  31.7733300\n",
       "26  44.2957605  53.1073714  51.8630562  19.0881193  13.8357905  45.1060162\n",
       "27   9.9185332   3.7999737   3.1650434  32.8858845  65.7964999   7.2181161\n",
       "28   7.5917192  13.0992481  11.7640384  21.7346705  54.6392030   5.3744302\n",
       "29   7.1464886   4.0480119   2.7670381  30.5707998  63.4481915   4.5980866\n",
       "30   9.4365248   4.8296894   3.9726565  31.7299433  64.6416391   6.3632303\n",
       "31  23.9283785  32.7013822  31.4727358   2.6139625  34.2397255  24.7253271\n",
       "32  10.7471066  17.3730366  16.0634585  17.5745896  50.4421530   9.4345641\n",
       "33  22.1392389  30.8960871  29.7206410   5.1464357  36.2909107  22.9808398\n",
       "34  19.1071348  27.0745212  25.7886021   7.6684483  40.4160500  18.9962970\n",
       "35  25.6822117  34.1900000  32.9263420   0.8456359  32.9298117  26.1339683\n",
       "36 104.0115018 112.9703377 111.7394196  79.0081591  46.0985379 105.0074788\n",
       "37   6.1399349  10.9281243   9.6182743  23.7054572  56.6172456   3.2658077\n",
       "38   6.8068495   4.7887681   3.4615026  29.8749979  62.7608963   4.0020870\n",
       "39  12.7786619   3.6905962   4.5412994  36.9008252  69.7860351  10.8934430\n",
       "40  13.2911775   4.6734463   5.1761955  36.7992432  69.7093000  11.0234160\n",
       "41  75.9509032  84.8589135  83.6242973  50.8615179  17.9542975  76.8772762\n",
       "42  43.2507387  52.1118077  50.8710959  18.1854695  14.8266888  44.1313143\n",
       "43   3.3968515  12.3064414  11.1681332  22.2216224  54.7690725   5.0534839\n",
       "44   9.3307985   5.6497168   4.6944222  31.0244146  63.9326044   6.0058721\n",
       "45   8.5511637  17.0214012  15.8101107  17.2323098  49.9335068   9.1071126\n",
       "46  26.3097796  34.8045141  33.5496036   1.2207375  32.3400773  26.7458520\n",
       "47   7.7423511  14.6993095  13.4138287  19.6655206  52.5699277   6.6447799\n",
       "48   4.9812950   6.3124480   4.9986298  27.9527959  60.8093414   1.9539703\n",
       "49   6.7557605   6.0233379   4.7257909  28.8721354  61.7764162   3.3773066\n",
       "50  20.6989758  29.4910444  28.2494177   5.2124562  37.4517543  21.5403041\n",
       "51  13.6308474  21.0151398  19.7129399  13.7944663  46.6320609  12.9818681\n",
       "52  44.2913005  53.0312700  51.7759433  18.9519762  14.0627807  45.0100478\n",
       "53  15.1634923   5.9067419   7.0129095  39.8165543  72.6596807  13.7591570\n",
       "54   6.5715371   2.7642359   1.9831036  31.6084198  64.3221641   5.7563704\n",
       "55 148.8401774 157.8465112 156.6254277 123.9240231  91.0115218 149.9007435\n",
       "            25          26          27          28          29          30\n",
       "2                                                                         \n",
       "3                                                                         \n",
       "4                                                                         \n",
       "5                                                                         \n",
       "6                                                                         \n",
       "7                                                                         \n",
       "8                                                                         \n",
       "9                                                                         \n",
       "10                                                                        \n",
       "11                                                                        \n",
       "12                                                                        \n",
       "13                                                                        \n",
       "14                                                                        \n",
       "15                                                                        \n",
       "16                                                                        \n",
       "17                                                                        \n",
       "18                                                                        \n",
       "19                                                                        \n",
       "20                                                                        \n",
       "21                                                                        \n",
       "22                                                                        \n",
       "23                                                                        \n",
       "24                                                                        \n",
       "25                                                                        \n",
       "26  13.3679393                                                            \n",
       "27  38.6788069  51.9642675                                                \n",
       "28  27.6011521  40.8167735  11.2348609                                    \n",
       "29  36.3004669  49.6147992   2.7997857   9.1835886                        \n",
       "30  37.5400320  50.8136734   1.4070892  10.0633792   2.5245000            \n",
       "31   7.0983167  20.4278951  31.6797664  20.6927113  29.2607655  30.5683807\n",
       "32  23.4780898  36.6355306  15.5275497   4.3851226  13.4945841  14.3031920\n",
       "33   9.3283600  22.5646693  29.9611181  19.1975910  27.5303469  28.8419053\n",
       "34  13.6037274  26.6253300  25.5219102  14.3331504  23.3428597  24.3206867\n",
       "35   6.0842748  19.1206904  32.9022416  21.7462640  30.6082097  31.7308336\n",
       "36  73.2504764  59.9263139 111.8874738 100.7258661 109.5272414 110.7356180\n",
       "37  29.5105981  42.7877529   9.2046890   2.3130499   7.0591713   8.0508633\n",
       "38  35.6224985  48.9283353   3.3003788   8.4347970   0.8728688   2.7421889\n",
       "39  42.6321405  55.9532144   4.2521877  15.3778087   6.3646445   5.5456289\n",
       "40  42.5912456  55.8759555   3.9277093  15.1334398   6.4516432   5.1613177\n",
       "41  45.1120682  31.7826037  83.7440016  72.5837041  81.3938757  82.5868083\n",
       "42  12.4087953   1.3763720  51.0275622  39.9018020  48.6528653  49.8896823\n",
       "43  27.6598807  40.9855243  12.1773109   5.8128994   9.4426638  11.4009736\n",
       "44  36.8549508  50.1069037   2.2563466   9.3444957   2.7350868   1.0175461\n",
       "45  22.7774757  36.1169988  16.2042618   6.2630025  13.6630560  15.1956902\n",
       "46   5.5263822  18.5335453  33.5041818  22.3616211  31.2150733  32.3276615\n",
       "47  25.4510118  38.7366080  13.2388255   2.5764705  10.9595210  12.1042555\n",
       "48  33.6597727  46.9787984   5.3539705   6.8280964   2.6908363   4.6377473\n",
       "49  34.6527935  47.9423769   4.0491728   7.3153332   1.9806565   3.1198558\n",
       "50  10.3850951  23.6502516  28.5251976  17.5844249  26.0800978  27.4404847\n",
       "51  19.7116412  32.8353316  19.3274442   8.1407616  17.2218437  18.1111789\n",
       "52  13.3722287   1.3420507  51.8138900  40.6425553  49.4930460  50.6559700\n",
       "53  45.5145197  58.8327910   7.3917386  18.3865630   9.2940196   8.7441352\n",
       "54  37.1775725  50.5150878   4.6844637  11.0201225   3.0117769   5.0683232\n",
       "55 118.1438251 104.8414384 156.8035303 145.6487460 154.4337712 155.6490520\n",
       "            31          32          33          34          35          36\n",
       "2                                                                         \n",
       "3                                                                         \n",
       "4                                                                         \n",
       "5                                                                         \n",
       "6                                                                         \n",
       "7                                                                         \n",
       "8                                                                         \n",
       "9                                                                         \n",
       "10                                                                        \n",
       "11                                                                        \n",
       "12                                                                        \n",
       "13                                                                        \n",
       "14                                                                        \n",
       "15                                                                        \n",
       "16                                                                        \n",
       "17                                                                        \n",
       "18                                                                        \n",
       "19                                                                        \n",
       "20                                                                        \n",
       "21                                                                        \n",
       "22                                                                        \n",
       "23                                                                        \n",
       "24                                                                        \n",
       "25                                                                        \n",
       "26                                                                        \n",
       "27                                                                        \n",
       "28                                                                        \n",
       "29                                                                        \n",
       "30                                                                        \n",
       "31                                                                        \n",
       "32  16.6930165                                                            \n",
       "33   3.1141933  15.2631189                                                \n",
       "34   7.3242542  10.0496318   6.7083455                                    \n",
       "35   3.0398520  17.5571609   5.2982544   7.6488953                        \n",
       "36  80.2918414  96.5211283  82.2712939  86.4840188  79.0248663            \n",
       "37  22.5506297   6.4824147  20.9146097  16.3747855  23.7077034 102.7122422\n",
       "38  28.5966239  12.7665618  26.9020724  22.6365854  29.9048491 108.8445557\n",
       "39  35.5980997  19.6756372  33.8089352  29.6190175  36.9207801 115.8707612\n",
       "40  35.5839585  19.4178449  33.8524135  29.4247515  36.8168766 115.7979754\n",
       "41  52.1669474  68.3744104  54.1624150  58.3383707  50.8724257  28.1581995\n",
       "42  19.4460562  35.7546710  21.6121424  25.7807797  18.2276713  60.8850499\n",
       "43  20.5939530   7.8925091  18.8303558  15.7309758  22.3033675 100.7611696\n",
       "44  29.8971955  13.5512915  28.1929193  23.5761574  31.0299339 110.0202704\n",
       "45  15.6959199   4.8655832  13.9655254  10.6410526  17.3265057  95.9761819\n",
       "46   3.3016662  18.1440844   5.3915489   8.1654822   1.1372335  78.4265580\n",
       "47  18.4728043   3.0640986  16.8477565  12.3968625  19.6943748  98.6596062\n",
       "48  26.6152663  11.0842772  24.9032809  20.8005457  27.9943084 106.8843356\n",
       "49  27.6438058  11.6333744  25.9580970  21.5601971  28.8993201 107.8642248\n",
       "50   3.4997000  13.7498036   3.8129647   5.4100647   5.4350161  83.4969502\n",
       "51  13.0475323   3.8759644  11.7987076   6.3066156  13.7502291  92.7127343\n",
       "52  20.3897719  36.4385839  22.5727003  26.4088905  18.9953547  60.0972895\n",
       "53  38.4594982  22.7307545  36.7081135  32.6236586  39.8555329 118.7221277\n",
       "54  30.1016113  15.1849926  28.2932430  24.6666191  31.6696116 110.3423382\n",
       "55 125.1853606 141.4394651 127.1179535 131.4033029 123.9273925  44.9543179\n",
       "            37          38          39          40          41          42\n",
       "2                                                                         \n",
       "3                                                                         \n",
       "4                                                                         \n",
       "5                                                                         \n",
       "6                                                                         \n",
       "7                                                                         \n",
       "8                                                                         \n",
       "9                                                                         \n",
       "10                                                                        \n",
       "11                                                                        \n",
       "12                                                                        \n",
       "13                                                                        \n",
       "14                                                                        \n",
       "15                                                                        \n",
       "16                                                                        \n",
       "17                                                                        \n",
       "18                                                                        \n",
       "19                                                                        \n",
       "20                                                                        \n",
       "21                                                                        \n",
       "22                                                                        \n",
       "23                                                                        \n",
       "24                                                                        \n",
       "25                                                                        \n",
       "26                                                                        \n",
       "27                                                                        \n",
       "28                                                                        \n",
       "29                                                                        \n",
       "30                                                                        \n",
       "31                                                                        \n",
       "32                                                                        \n",
       "33                                                                        \n",
       "34                                                                        \n",
       "35                                                                        \n",
       "36                                                                        \n",
       "37                                                                        \n",
       "38   6.3204114                                                            \n",
       "39  13.2671775   7.0624783                                                \n",
       "40  13.1181401   7.0810310   1.5574338                                    \n",
       "41  74.5644091  80.7096506  87.7322204  87.6552400                        \n",
       "42  41.8543236  47.9669428  54.9935414  54.9383145  32.7598611            \n",
       "43   5.3151482   8.9155034  15.5486205  15.8618221  72.6772337  39.9551023\n",
       "44   7.4135012   2.7704512   6.4246245   5.9257067  81.8727006  49.1954246\n",
       "45   7.4759749  13.0505632  19.9798198  20.0634992  67.8599344  35.1313905\n",
       "46  24.3227116  30.5248440  37.5264160  37.4167944  50.2720002  17.6769143\n",
       "47   4.1314162  10.2742396  17.2600579  17.1484693  70.5139880  37.8063354\n",
       "48   4.6942625   2.0951611   9.0163352   9.1265382  78.7550583  46.0072636\n",
       "49   5.2468562   1.3285707   8.0856849   7.9449292  79.7236740  46.9990798\n",
       "50  19.4189135  25.4008346  32.4205861  32.4261314  55.3861598  22.6304087\n",
       "51  10.1988137  16.4864308  23.4457715  23.2325246  64.5666655  31.9562482\n",
       "52  42.6437534  48.8054638  55.8320777  55.7203042  31.9618742   2.3340737\n",
       "53  16.2946095   9.9900100   3.3120537   4.0855232  90.6033653  57.8485860\n",
       "54   8.8612245   3.5417369   6.3315480   7.0684440  82.2443481  49.5060612\n",
       "55 147.6218730 153.7517271 160.7712449 160.7159289  73.0715601 105.7867118\n",
       "            43          44          45          46          47          48\n",
       "2                                                                         \n",
       "3                                                                         \n",
       "4                                                                         \n",
       "5                                                                         \n",
       "6                                                                         \n",
       "7                                                                         \n",
       "8                                                                         \n",
       "9                                                                         \n",
       "10                                                                        \n",
       "11                                                                        \n",
       "12                                                                        \n",
       "13                                                                        \n",
       "14                                                                        \n",
       "15                                                                        \n",
       "16                                                                        \n",
       "17                                                                        \n",
       "18                                                                        \n",
       "19                                                                        \n",
       "20                                                                        \n",
       "21                                                                        \n",
       "22                                                                        \n",
       "23                                                                        \n",
       "24                                                                        \n",
       "25                                                                        \n",
       "26                                                                        \n",
       "27                                                                        \n",
       "28                                                                        \n",
       "29                                                                        \n",
       "30                                                                        \n",
       "31                                                                        \n",
       "32                                                                        \n",
       "33                                                                        \n",
       "34                                                                        \n",
       "35                                                                        \n",
       "36                                                                        \n",
       "37                                                                        \n",
       "38                                                                        \n",
       "39                                                                        \n",
       "40                                                                        \n",
       "41                                                                        \n",
       "42                                                                        \n",
       "43                                                                        \n",
       "44  11.0549717                                                            \n",
       "45   5.1902794  14.6134185                                                \n",
       "46  22.9288094  31.6142737  17.9022261                                    \n",
       "47   5.0274447  11.4261192   3.8110366  20.2813979                        \n",
       "48   6.8452392   4.4099320  11.0140229  28.6108406   8.4239717            \n",
       "49   8.4092865   2.7055683  12.1848800  29.5036167   9.2272694   1.7881834\n",
       "50  17.3721904  26.7975671  12.5745457   6.1329683  15.3941288  23.4166159\n",
       "51  10.4093900  17.3860001   5.9139327  14.3644318   6.4254183  14.7222519\n",
       "52  40.9656087  49.9304867  36.0451786  18.3816757  38.5917932  46.8715628\n",
       "53  18.1620896   9.6115503  22.8050718  40.4802075  20.2482715  11.8714616\n",
       "54   9.6158047   5.5742354  14.4327995  32.2834911  12.3709135   4.2457037\n",
       "55 145.6097847 154.9406557 140.8628276 123.3336519 143.5736320 151.7851887\n",
       "            49          50          51          52          53          54\n",
       "2                                                                         \n",
       "3                                                                         \n",
       "4                                                                         \n",
       "5                                                                         \n",
       "6                                                                         \n",
       "7                                                                         \n",
       "8                                                                         \n",
       "9                                                                         \n",
       "10                                                                        \n",
       "11                                                                        \n",
       "12                                                                        \n",
       "13                                                                        \n",
       "14                                                                        \n",
       "15                                                                        \n",
       "16                                                                        \n",
       "17                                                                        \n",
       "18                                                                        \n",
       "19                                                                        \n",
       "20                                                                        \n",
       "21                                                                        \n",
       "22                                                                        \n",
       "23                                                                        \n",
       "24                                                                        \n",
       "25                                                                        \n",
       "26                                                                        \n",
       "27                                                                        \n",
       "28                                                                        \n",
       "29                                                                        \n",
       "30                                                                        \n",
       "31                                                                        \n",
       "32                                                                        \n",
       "33                                                                        \n",
       "34                                                                        \n",
       "35                                                                        \n",
       "36                                                                        \n",
       "37                                                                        \n",
       "38                                                                        \n",
       "39                                                                        \n",
       "40                                                                        \n",
       "41                                                                        \n",
       "42                                                                        \n",
       "43                                                                        \n",
       "44                                                                        \n",
       "45                                                                        \n",
       "46                                                                        \n",
       "47                                                                        \n",
       "48                                                                        \n",
       "49                                                                        \n",
       "50  24.4856223                                                            \n",
       "51  15.4040417  10.1902404                                                \n",
       "52  47.7982008  23.6275623  32.6516110                                    \n",
       "53  11.1088703  35.2327589  26.4673894  58.7289843                        \n",
       "54   4.6660690  26.8902529  18.7179459  50.4561057   8.6319870            \n",
       "55 152.7799499 128.3844967 137.6238431 105.0308150 163.6163241 155.2066471"
      ]
     },
     "metadata": {},
     "output_type": "display_data"
    }
   ],
   "source": [
    "D_nat_rec <- dist(nat_rec[, c(2:8)])\n",
    "D_nat_rec"
   ]
  },
  {
   "cell_type": "markdown",
   "id": "5f1c783c",
   "metadata": {},
   "source": [
    "## b.\tTreating the distances in (a) as measures of (dis)similarity, cluster the countries using the single linkage and complete linkage hierarchical procedures. Construct dendrograms and compare the results."
   ]
  },
  {
   "cell_type": "code",
   "execution_count": 24,
   "id": "c2645d8c",
   "metadata": {
    "ExecuteTime": {
     "end_time": "2022-05-15T05:28:39.074197Z",
     "start_time": "2022-05-15T05:28:36.149Z"
    }
   },
   "outputs": [
    {
     "data": {
      "image/png": "[encoded data removed]",
      "text/plain": [
       "plot without title"
      ]
     },
     "metadata": {
      "image/png": {
       "height": 420,
       "width": 420
      }
     },
     "output_type": "display_data"
    }
   ],
   "source": [
    "hc_single <- hclust(D_nat_rec, method = \"single\")\n",
    "fviz_dend(hc_single, cex = 0.5,\n",
    "          k = 4,\n",
    "          k_colors = c(\"#2E9FDF\", \"#00AFBB\", \"#E7B800\", \"#FC4E07\"),\n",
    "          color_labels_by_k = T,\n",
    "          rect = T,\n",
    "          main = \"Dendogram - Ward's Method\",\n",
    "          xlab = \"Objects\", ylab = \"Distance\", sub = \"\")"
   ]
  },
  {
   "cell_type": "code",
   "execution_count": 25,
   "id": "0da99d95",
   "metadata": {
    "ExecuteTime": {
     "end_time": "2022-05-15T05:28:39.756275Z",
     "start_time": "2022-05-15T05:28:36.151Z"
    }
   },
   "outputs": [
    {
     "data": {
      "image/png": "[encoded data removed]",
      "text/plain": [
       "plot without title"
      ]
     },
     "metadata": {
      "image/png": {
       "height": 420,
       "width": 420
      }
     },
     "output_type": "display_data"
    }
   ],
   "source": [
    "hc_complete <- hclust(D_nat_rec, method = \"complete\")\n",
    "fviz_dend(hc_complete, cex = 0.5,\n",
    "          k = 5,\n",
    "          k_colors = c(\"#2E9FDF\", \"#00AFBB\", \"#E7B800\", \"#FC4E07\", \"#00ff00\"),\n",
    "          color_labels_by_k = T,\n",
    "          rect = T,\n",
    "          main = \"Dendogram - Ward's Method\",\n",
    "          xlab = \"Objects\", ylab = \"Distance\", sub = \"\")"
   ]
  },
  {
   "cell_type": "markdown",
   "id": "d68d20ef",
   "metadata": {
    "ExecuteTime": {
     "end_time": "2022-05-15T04:46:08.025191Z",
     "start_time": "2022-05-15T04:46:02.656Z"
    }
   },
   "source": [
    "## c.\tInput the data in Table 1.9 into a K-means clustering program. Cluster the countries into groups using several values of K. Compare the results with those in Part b."
   ]
  },
  {
   "cell_type": "code",
   "execution_count": 26,
   "id": "ad2b07d8",
   "metadata": {
    "ExecuteTime": {
     "end_time": "2022-05-15T05:28:39.984241Z",
     "start_time": "2022-05-15T05:28:36.154Z"
    }
   },
   "outputs": [
    {
     "data": {
      "image/png": "[encoded data removed]",
      "text/plain": [
       "plot without title"
      ]
     },
     "metadata": {
      "image/png": {
       "height": 420,
       "width": 420
      }
     },
     "output_type": "display_data"
    }
   ],
   "source": [
    "fviz_nbclust(nat_rec[, c(2:8)], kmeans)"
   ]
  },
  {
   "cell_type": "markdown",
   "id": "bd9a7872",
   "metadata": {},
   "source": [
    "Dari diagram tersebut, dapat ditentukan kandidat jumlah klaster yang bisa kita bentuk dari data yang digunakan. Kandidat tersebut adalah 2 klaster dan 3 klaster."
   ]
  },
  {
   "cell_type": "code",
   "execution_count": 27,
   "id": "121ecc93",
   "metadata": {
    "ExecuteTime": {
     "end_time": "2022-05-15T05:28:40.010895Z",
     "start_time": "2022-05-15T05:28:36.199Z"
    }
   },
   "outputs": [],
   "source": [
    "for(i in c(2:8)){\n",
    "  nat_rec[, i] <- as.numeric(nat_rec[, i])\n",
    "}"
   ]
  },
  {
   "cell_type": "code",
   "execution_count": 28,
   "id": "0bff27e0",
   "metadata": {
    "ExecuteTime": {
     "end_time": "2022-05-15T05:28:40.323184Z",
     "start_time": "2022-05-15T05:28:36.201Z"
    }
   },
   "outputs": [
    {
     "data": {
      "image/png": "[encoded data removed]",
      "text/plain": [
       "plot without title"
      ]
     },
     "metadata": {
      "image/png": {
       "height": 420,
       "width": 420
      }
     },
     "output_type": "display_data"
    }
   ],
   "source": [
    "# 2 Kluster\n",
    "km_nat_rec <- kmeans(nat_rec[, c(2:8)], centers = 2)\n",
    "fviz_cluster(km_nat_rec, data = as.data.frame(nat_rec[, c(2:8)]))"
   ]
  },
  {
   "cell_type": "code",
   "execution_count": 29,
   "id": "0096483c",
   "metadata": {
    "ExecuteTime": {
     "end_time": "2022-05-15T05:28:40.704368Z",
     "start_time": "2022-05-15T05:28:36.203Z"
    }
   },
   "outputs": [
    {
     "data": {
      "image/png": "[encoded data removed]",
      "text/plain": [
       "plot without title"
      ]
     },
     "metadata": {
      "image/png": {
       "height": 420,
       "width": 420
      }
     },
     "output_type": "display_data"
    }
   ],
   "source": [
    "# 3 Kluster\n",
    "km_nat_rec <- kmeans(nat_rec[, c(2:8)], centers = 3)#, nstart = 25)\n",
    "fviz_cluster(km_nat_rec, data = as.data.frame(nat_rec[, c(2:8)]))"
   ]
  }
 ],
 "metadata": {
  "kernelspec": {
   "display_name": "R",
   "language": "R",
   "name": "ir"
  },
  "language_info": {
   "codemirror_mode": "r",
   "file_extension": ".r",
   "mimetype": "text/x-r-source",
   "name": "R",
   "pygments_lexer": "r",
   "version": "4.0.5"
  },
  "toc": {
   "base_numbering": 1,
   "nav_menu": {},
   "number_sections": true,
   "sideBar": true,
   "skip_h1_title": false,
   "title_cell": "Table of Contents",
   "title_sidebar": "Contents",
   "toc_cell": false,
   "toc_position": {},
   "toc_section_display": true,
   "toc_window_display": false
  }
 },
 "nbformat": 4,
 "nbformat_minor": 5
}
