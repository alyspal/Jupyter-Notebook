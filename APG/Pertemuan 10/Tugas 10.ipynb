{
 "cells": [
  {
   "cell_type": "markdown",
   "id": "5c57fa74",
   "metadata": {},
   "source": [
    "Alya Safadella Putri Akca\\\n",
    "221910892\\\n",
    "3SI1\\\n",
    "Tugas 9 APG"
   ]
  },
  {
   "cell_type": "code",
   "execution_count": 30,
   "id": "ff04b40f",
   "metadata": {
    "ExecuteTime": {
     "end_time": "2022-05-14T09:48:16.973237Z",
     "start_time": "2022-05-14T09:48:16.937Z"
    }
   },
   "outputs": [],
   "source": [
    "library(factoextra)\n",
    "library(dendextend)\n",
    "library(FactoClass)\n",
    "library(openxlsx)"
   ]
  },
  {
   "cell_type": "code",
   "execution_count": 3,
   "id": "427266ce",
   "metadata": {
    "ExecuteTime": {
     "end_time": "2022-05-14T09:35:47.303411Z",
     "start_time": "2022-05-14T09:35:36.921Z"
    }
   },
   "outputs": [
    {
     "data": {
      "text/plain": [
       "   1  2  3  4\n",
       "2  9         \n",
       "3  3  7      \n",
       "4  6  5  9   \n",
       "5 11 10  2  8"
      ]
     },
     "metadata": {},
     "output_type": "display_data"
    }
   ],
   "source": [
    "D <- matrix(c(0, 9, 3, 6, 11, 9, 0, 7, 5, 10, 3, 7, 0, 9, 2, 6, 5, 9, 0, 8, 11, 10, 2, 8, 0),\n",
    "            nrow = 5, ncol = 5)\n",
    "as.dist(D)"
   ]
  },
  {
   "cell_type": "markdown",
   "id": "44d08969",
   "metadata": {},
   "source": [
    "Klasterisasi $average \\space linkage$ menggunakan rataan dari jarak antara titik yang akan dikelompokan, sesuai dengan formula dari Johnson:\n",
    "$$d_{(UV)W} = \\displaystyle \\frac{\\sum_{i}\\sum_{j} d_{ij}}{N_{(UV)}N_{W}}$$"
   ]
  },
  {
   "cell_type": "markdown",
   "id": "d0430169",
   "metadata": {},
   "source": [
    "dengan menggunakan formula di atas, proses pengklasterisasian adalah sebagai berikut:\n",
    "\n",
    "- deteksi terlebih dahulu, dari matriks distance yang telah diberikan, mana variabel yang memiliki jarak paling kecil, dalam hal ini adalah `jarak antara variabel 3 dan 5` (distance nya sebesar 2). Dengan begitu, kita mendapatkan 1 kelompok data yang baru, yaitu kelompok variabel 3 dan 5\n",
    "\n",
    "- lakukan penghitungan ulang jarak antara titik-titik selain 3 dan 5 dengan kelompok data baru yang telah kita peroleh sebelumnya (kelompok data 3 dan 5). Berikut perhitungannya:\n"
   ]
  },
  {
   "cell_type": "code",
   "execution_count": 4,
   "id": "33aec7dc",
   "metadata": {
    "ExecuteTime": {
     "end_time": "2022-05-14T09:35:47.357310Z",
     "start_time": "2022-05-14T09:35:36.924Z"
    }
   },
   "outputs": [
    {
     "data": {
      "text/html": [
       "7"
      ],
      "text/latex": [
       "7"
      ],
      "text/markdown": [
       "7"
      ],
      "text/plain": [
       "[1] 7"
      ]
     },
     "metadata": {},
     "output_type": "display_data"
    },
    {
     "data": {
      "text/html": [
       "8.5"
      ],
      "text/latex": [
       "8.5"
      ],
      "text/markdown": [
       "8.5"
      ],
      "text/plain": [
       "[1] 8.5"
      ]
     },
     "metadata": {},
     "output_type": "display_data"
    },
    {
     "data": {
      "text/html": [
       "8.5"
      ],
      "text/latex": [
       "8.5"
      ],
      "text/markdown": [
       "8.5"
      ],
      "text/plain": [
       "[1] 8.5"
      ]
     },
     "metadata": {},
     "output_type": "display_data"
    }
   ],
   "source": [
    "d_35_to_1 <- (D[3, 1] + D[5, 1])/2\n",
    "d_35_to_2 <- (D[3, 2] + D[5, 2])/2\n",
    "d_35_to_4 <- (D[3, 4] + D[5, 4])/2\n",
    "\n",
    "d_35_to_1\n",
    "d_35_to_2\n",
    "d_35_to_4"
   ]
  },
  {
   "cell_type": "markdown",
   "id": "dfb35fea",
   "metadata": {
    "ExecuteTime": {
     "end_time": "2022-05-14T09:23:30.112956Z",
     "start_time": "2022-05-14T09:23:30.073Z"
    }
   },
   "source": [
    "dari hasi lperhitungan di atas, diperoleh nilai $d_{(35)1} = 7$, $d_{(35)2} = 8.5$, $d_{(35)3} = 8.5$, sehingga didapatkan matriks baru:"
   ]
  },
  {
   "cell_type": "code",
   "execution_count": 5,
   "id": "58e9e5b5",
   "metadata": {
    "ExecuteTime": {
     "end_time": "2022-05-14T09:35:47.420941Z",
     "start_time": "2022-05-14T09:35:36.926Z"
    }
   },
   "outputs": [
    {
     "data": {
      "text/html": [
       "<table class=\"dataframe\">\n",
       "<caption>A matrix: 4 × 4 of type dbl</caption>\n",
       "<thead>\n",
       "\t<tr><th></th><th scope=col>1</th><th scope=col>2</th><th scope=col>4</th><th scope=col>3&amp;5</th></tr>\n",
       "</thead>\n",
       "<tbody>\n",
       "\t<tr><th scope=row>1</th><td>0</td><td>9.0</td><td>6.0</td><td>7.0</td></tr>\n",
       "\t<tr><th scope=row>2</th><td>9</td><td>0.0</td><td>5.0</td><td>8.5</td></tr>\n",
       "\t<tr><th scope=row>4</th><td>6</td><td>5.0</td><td>0.0</td><td>8.5</td></tr>\n",
       "\t<tr><th scope=row>3&amp;5</th><td>7</td><td>8.5</td><td>8.5</td><td>0.0</td></tr>\n",
       "</tbody>\n",
       "</table>\n"
      ],
      "text/latex": [
       "A matrix: 4 × 4 of type dbl\n",
       "\\begin{tabular}{r|llll}\n",
       "  & 1 & 2 & 4 & 3\\&5\\\\\n",
       "\\hline\n",
       "\t1 & 0 & 9.0 & 6.0 & 7.0\\\\\n",
       "\t2 & 9 & 0.0 & 5.0 & 8.5\\\\\n",
       "\t4 & 6 & 5.0 & 0.0 & 8.5\\\\\n",
       "\t3\\&5 & 7 & 8.5 & 8.5 & 0.0\\\\\n",
       "\\end{tabular}\n"
      ],
      "text/markdown": [
       "\n",
       "A matrix: 4 × 4 of type dbl\n",
       "\n",
       "| <!--/--> | 1 | 2 | 4 | 3&amp;5 |\n",
       "|---|---|---|---|---|\n",
       "| 1 | 0 | 9.0 | 6.0 | 7.0 |\n",
       "| 2 | 9 | 0.0 | 5.0 | 8.5 |\n",
       "| 4 | 6 | 5.0 | 0.0 | 8.5 |\n",
       "| 3&amp;5 | 7 | 8.5 | 8.5 | 0.0 |\n",
       "\n"
      ],
      "text/plain": [
       "    1 2   4   3&5\n",
       "1   0 9.0 6.0 7.0\n",
       "2   9 0.0 5.0 8.5\n",
       "4   6 5.0 0.0 8.5\n",
       "3&5 7 8.5 8.5 0.0"
      ]
     },
     "metadata": {},
     "output_type": "display_data"
    }
   ],
   "source": [
    "D_35 <- matrix(c(0, 9, 6, 7, 9, 0, 5, 8.5, 6, 5, 0, 8.5, 7, 8.5, 8.5, 0), \n",
    "               nrow = 4, ncol = 4)\n",
    "colnames(D_35) <- c(\"1\", \"2\", \"4\", \"3&5\")\n",
    "rownames(D_35) <- c(\"1\", \"2\", \"4\", \"3&5\")\n",
    "D_35"
   ]
  },
  {
   "cell_type": "markdown",
   "id": "bea104a4",
   "metadata": {},
   "source": [
    "- selanjutnya, lakukan proses yang sama pada matriks baru tersebut. Terlebih dahulu, deteksi nilai jarak yang paling dekat. Jika dilhat, jarak yang paling dekat adalah antara variabel 2 dan 4, sehingga kelompok data yang baru diperoleh kembali adalah kelompok data 2 dan 4.\n",
    "\n",
    "- selanjutnya, lakukan hal yang sama dengan proses sebelumnya, yaitu mencari jarak terhadap kelompok baru tersebut"
   ]
  },
  {
   "cell_type": "code",
   "execution_count": 6,
   "id": "2d3dac88",
   "metadata": {
    "ExecuteTime": {
     "end_time": "2022-05-14T09:35:47.455940Z",
     "start_time": "2022-05-14T09:35:36.928Z"
    }
   },
   "outputs": [
    {
     "data": {
      "text/html": [
       "7.5"
      ],
      "text/latex": [
       "7.5"
      ],
      "text/markdown": [
       "7.5"
      ],
      "text/plain": [
       "[1] 7.5"
      ]
     },
     "metadata": {},
     "output_type": "display_data"
    },
    {
     "data": {
      "text/html": [
       "8.5"
      ],
      "text/latex": [
       "8.5"
      ],
      "text/markdown": [
       "8.5"
      ],
      "text/plain": [
       "[1] 8.5"
      ]
     },
     "metadata": {},
     "output_type": "display_data"
    }
   ],
   "source": [
    "d_24_to_1 <- (D_35[2, 1] + D_35[3, 1])/2\n",
    "d_24_to_35 <- (D_35[4, 2] + D_35[4, 3])/2\n",
    "\n",
    "d_24_to_1\n",
    "d_24_to_35"
   ]
  },
  {
   "cell_type": "markdown",
   "id": "7a2e78da",
   "metadata": {},
   "source": [
    "dari hasi lperhitungan di atas, diperoleh nilai $d_{(24)1} = 7.5$ dan $d_{(24)35} = 7.25$, sehingga didapatkan matriks baru:"
   ]
  },
  {
   "cell_type": "code",
   "execution_count": 7,
   "id": "12347c01",
   "metadata": {
    "ExecuteTime": {
     "end_time": "2022-05-14T09:35:47.552531Z",
     "start_time": "2022-05-14T09:35:36.930Z"
    }
   },
   "outputs": [
    {
     "data": {
      "text/html": [
       "<table class=\"dataframe\">\n",
       "<caption>A matrix: 3 × 3 of type dbl</caption>\n",
       "<thead>\n",
       "\t<tr><th></th><th scope=col>1</th><th scope=col>2&amp;4</th><th scope=col>3&amp;5</th></tr>\n",
       "</thead>\n",
       "<tbody>\n",
       "\t<tr><th scope=row>1</th><td>0.0</td><td>7.5</td><td>7.0</td></tr>\n",
       "\t<tr><th scope=row>2&amp;4</th><td>7.5</td><td>0.0</td><td>8.5</td></tr>\n",
       "\t<tr><th scope=row>3&amp;5</th><td>7.0</td><td>8.5</td><td>0.0</td></tr>\n",
       "</tbody>\n",
       "</table>\n"
      ],
      "text/latex": [
       "A matrix: 3 × 3 of type dbl\n",
       "\\begin{tabular}{r|lll}\n",
       "  & 1 & 2\\&4 & 3\\&5\\\\\n",
       "\\hline\n",
       "\t1 & 0.0 & 7.5 & 7.0\\\\\n",
       "\t2\\&4 & 7.5 & 0.0 & 8.5\\\\\n",
       "\t3\\&5 & 7.0 & 8.5 & 0.0\\\\\n",
       "\\end{tabular}\n"
      ],
      "text/markdown": [
       "\n",
       "A matrix: 3 × 3 of type dbl\n",
       "\n",
       "| <!--/--> | 1 | 2&amp;4 | 3&amp;5 |\n",
       "|---|---|---|---|\n",
       "| 1 | 0.0 | 7.5 | 7.0 |\n",
       "| 2&amp;4 | 7.5 | 0.0 | 8.5 |\n",
       "| 3&amp;5 | 7.0 | 8.5 | 0.0 |\n",
       "\n"
      ],
      "text/plain": [
       "    1   2&4 3&5\n",
       "1   0.0 7.5 7.0\n",
       "2&4 7.5 0.0 8.5\n",
       "3&5 7.0 8.5 0.0"
      ]
     },
     "metadata": {},
     "output_type": "display_data"
    }
   ],
   "source": [
    "D_24 <- matrix(c(0, 7.5, 7, 7.5, 0, 8.5, 7, 8.5, 0), \n",
    "               nrow = 3, ncol = 3)\n",
    "colnames(D_24) <- c(\"1\", \"2&4\", \"3&5\")\n",
    "rownames(D_24) <- c(\"1\", \"2&4\", \"3&5\")\n",
    "D_24"
   ]
  },
  {
   "cell_type": "markdown",
   "id": "c5202212",
   "metadata": {},
   "source": [
    "- selanjutnya, lakukan proses yang sama kembali pada matriks baru tersebut. Terlebih dahulu, deteksi nilai jarak yang paling dekat. Jika dilhat, jarak yang paling dekat adalah antara variabel 1 dan kelompok 3,5, sehingga kelompok data yang baru diperoleh kembali adalah kelompok data 1, 3, dan 5.\n",
    "\n",
    "- selanjutnya, lakukan hal yang sama dengan proses sebelumnya, yaitu mencari jarak terhadap kelompok baru tersebut:"
   ]
  },
  {
   "cell_type": "code",
   "execution_count": 8,
   "id": "f3c68478",
   "metadata": {
    "ExecuteTime": {
     "end_time": "2022-05-14T09:35:47.582871Z",
     "start_time": "2022-05-14T09:35:36.932Z"
    }
   },
   "outputs": [
    {
     "data": {
      "text/html": [
       "8"
      ],
      "text/latex": [
       "8"
      ],
      "text/markdown": [
       "8"
      ],
      "text/plain": [
       "[1] 8"
      ]
     },
     "metadata": {},
     "output_type": "display_data"
    }
   ],
   "source": [
    "d_135_to_24 <- (D_24[2, 1] + D_24[3, 2])/2\n",
    "\n",
    "d_135_to_24"
   ]
  },
  {
   "cell_type": "markdown",
   "id": "f1353c77",
   "metadata": {},
   "source": [
    "dari hasi lperhitungan di atas, diperoleh nilai $d_{(24)1} = 7.5$ dan $d_{(24)35} = 7.25$, sehingga didapatkan matriks baru:"
   ]
  },
  {
   "cell_type": "code",
   "execution_count": 9,
   "id": "91ce703c",
   "metadata": {
    "ExecuteTime": {
     "end_time": "2022-05-14T09:35:47.619870Z",
     "start_time": "2022-05-14T09:35:36.934Z"
    }
   },
   "outputs": [
    {
     "data": {
      "text/html": [
       "<table class=\"dataframe\">\n",
       "<caption>A matrix: 2 × 2 of type dbl</caption>\n",
       "<thead>\n",
       "\t<tr><th></th><th scope=col>1&amp;3&amp;5</th><th scope=col>2&amp;4</th></tr>\n",
       "</thead>\n",
       "<tbody>\n",
       "\t<tr><th scope=row>1&amp;3&amp;5</th><td>0</td><td>8</td></tr>\n",
       "\t<tr><th scope=row>2&amp;4</th><td>8</td><td>0</td></tr>\n",
       "</tbody>\n",
       "</table>\n"
      ],
      "text/latex": [
       "A matrix: 2 × 2 of type dbl\n",
       "\\begin{tabular}{r|ll}\n",
       "  & 1\\&3\\&5 & 2\\&4\\\\\n",
       "\\hline\n",
       "\t1\\&3\\&5 & 0 & 8\\\\\n",
       "\t2\\&4 & 8 & 0\\\\\n",
       "\\end{tabular}\n"
      ],
      "text/markdown": [
       "\n",
       "A matrix: 2 × 2 of type dbl\n",
       "\n",
       "| <!--/--> | 1&amp;3&amp;5 | 2&amp;4 |\n",
       "|---|---|---|\n",
       "| 1&amp;3&amp;5 | 0 | 8 |\n",
       "| 2&amp;4 | 8 | 0 |\n",
       "\n"
      ],
      "text/plain": [
       "      1&3&5 2&4\n",
       "1&3&5 0     8  \n",
       "2&4   8     0  "
      ]
     },
     "metadata": {},
     "output_type": "display_data"
    }
   ],
   "source": [
    "D_135 <- matrix(c(0, 8, 8, 0), \n",
    "               nrow = 2, ncol = 2)\n",
    "colnames(D_135) <- c(\"1&3&5\", \"2&4\")\n",
    "rownames(D_135) <- c(\"1&3&5\", \"2&4\")\n",
    "D_135"
   ]
  },
  {
   "cell_type": "markdown",
   "id": "925c02c7",
   "metadata": {},
   "source": [
    "- Untuk klaster berikutnya, adalah gabungan semua variabel, dengan jarak sebesar 8\n",
    "\n",
    "Jika perhitungan di atas dimuat dalam dendogram, hasilnya adalah sebagai berikut:"
   ]
  },
  {
   "cell_type": "code",
   "execution_count": 10,
   "id": "b488b7ef",
   "metadata": {
    "ExecuteTime": {
     "end_time": "2022-05-14T09:35:48.171607Z",
     "start_time": "2022-05-14T09:35:36.936Z"
    }
   },
   "outputs": [
    {
     "data": {
      "image/png": "[encoded data removed]",
      "text/plain": [
       "plot without title"
      ]
     },
     "metadata": {
      "image/png": {
       "height": 420,
       "width": 420
      }
     },
     "output_type": "display_data"
    }
   ],
   "source": [
    "hc_data <- hclust(as.dist(D), method = \"average\")\n",
    "fviz_dend(hc_data, cex = 0.8,\n",
    "          main = \"Dendogram - Average Linkage\",\n",
    "          k = 2,\n",
    "          k_colors = c(\"#2E9FDF\", \"#FC4E07\"),\n",
    "          color_labels_by_k = T,\n",
    "          rect = T,\n",
    "          xlab = \"Objects\", ylab = \"Distance\", sub = \"\")"
   ]
  },
  {
   "cell_type": "code",
   "execution_count": 11,
   "id": "4e4a0094",
   "metadata": {
    "ExecuteTime": {
     "end_time": "2022-05-14T09:35:48.197384Z",
     "start_time": "2022-05-14T09:35:36.938Z"
    }
   },
   "outputs": [],
   "source": [
    "X_dat <- c(2, 1, 5, 8)"
   ]
  },
  {
   "cell_type": "markdown",
   "id": "bbb8ab9e",
   "metadata": {},
   "source": [
    "## a. Menghitung ESS\n",
    "Untuk menghitung ESS, formula yang digunakan yaitu:\n",
    "$$ESS = \\sum_{j=1}^n (x_{j} - \\bar{x})'(x_{j} - \\bar{x})$$\n",
    "Dengan menggunakan rumus tersebut, kita akan membuktikan jika nilai dari ESS dari data = 0."
   ]
  },
  {
   "cell_type": "code",
   "execution_count": 12,
   "id": "a428d261",
   "metadata": {
    "ExecuteTime": {
     "end_time": "2022-05-14T09:35:48.230751Z",
     "start_time": "2022-05-14T09:35:36.940Z"
    }
   },
   "outputs": [
    {
     "name": "stdout",
     "output_type": "stream",
     "text": [
      "[1] 0\n",
      "[1] 0\n",
      "[1] 0\n",
      "[1] 0\n"
     ]
    }
   ],
   "source": [
    "x_bar <- colMeans(t(X_dat))\n",
    "for(i in c(1:4)){\n",
    "  print(sum(t(X_dat[i] - x_bar[i]) %*% (X_dat[i] - x_bar[i])))\n",
    "}"
   ]
  },
  {
   "cell_type": "markdown",
   "id": "35fbd822",
   "metadata": {},
   "source": [
    "Dari hasil di atas, terbukti bahwa ESS untuk klaster `{1}, {2}, {3}, dan {4}` semuanya bernilai 0."
   ]
  },
  {
   "cell_type": "markdown",
   "id": "518c1d56",
   "metadata": {},
   "source": [
    "## b. Menghitung ESS per klaster yang telah ditentukan pada soal"
   ]
  },
  {
   "cell_type": "code",
   "execution_count": 13,
   "id": "df3a57cf",
   "metadata": {
    "ExecuteTime": {
     "end_time": "2022-05-14T09:35:48.276673Z",
     "start_time": "2022-05-14T09:35:36.942Z"
    }
   },
   "outputs": [
    {
     "data": {
      "text/html": [
       "<table class=\"dataframe\">\n",
       "<caption>A matrix: 5 × 1 of type dbl</caption>\n",
       "<tbody>\n",
       "\t<tr><th scope=row>ess_13_2_4</th><td> 4.5</td></tr>\n",
       "\t<tr><th scope=row>ess_14_2_3</th><td>18.0</td></tr>\n",
       "\t<tr><th scope=row>ess_1_23_4</th><td> 8.0</td></tr>\n",
       "\t<tr><th scope=row>ess_1_24_3</th><td>24.5</td></tr>\n",
       "\t<tr><th scope=row>ess_1_2_34</th><td> 4.5</td></tr>\n",
       "</tbody>\n",
       "</table>\n"
      ],
      "text/latex": [
       "A matrix: 5 × 1 of type dbl\n",
       "\\begin{tabular}{r|l}\n",
       "\tess\\_13\\_2\\_4 &  4.5\\\\\n",
       "\tess\\_14\\_2\\_3 & 18.0\\\\\n",
       "\tess\\_1\\_23\\_4 &  8.0\\\\\n",
       "\tess\\_1\\_24\\_3 & 24.5\\\\\n",
       "\tess\\_1\\_2\\_34 &  4.5\\\\\n",
       "\\end{tabular}\n"
      ],
      "text/markdown": [
       "\n",
       "A matrix: 5 × 1 of type dbl\n",
       "\n",
       "| ess_13_2_4 |  4.5 |\n",
       "| ess_14_2_3 | 18.0 |\n",
       "| ess_1_23_4 |  8.0 |\n",
       "| ess_1_24_3 | 24.5 |\n",
       "| ess_1_2_34 |  4.5 |\n",
       "\n"
      ],
      "text/plain": [
       "           [,1]\n",
       "ess_13_2_4  4.5\n",
       "ess_14_2_3 18.0\n",
       "ess_1_23_4  8.0\n",
       "ess_1_24_3 24.5\n",
       "ess_1_2_34  4.5"
      ]
     },
     "metadata": {},
     "output_type": "display_data"
    }
   ],
   "source": [
    "ess_13_2_4 <- ((X_dat[1] - mean(X_dat[c(1, 3)]))^2 + (X_dat[3] - mean(X_dat[c(1, 3)]))^2) + \n",
    "              (X_dat[2] - mean(X_dat[2]))^2 + (X_dat[4] - mean(X_dat[4]))^2\n",
    "\n",
    "ess_14_2_3 <- ((X_dat[1] - mean(X_dat[c(1, 4)]))^2 + (X_dat[4] - mean(X_dat[c(1, 4)]))^2) + \n",
    "              (X_dat[2] - mean(X_dat[2]))^2 + (X_dat[3] - mean(X_dat[3]))^2\n",
    "\n",
    "ess_1_23_4 <- (X_dat[1] - mean(X_dat[1]))^2 + ((X_dat[2] - mean(X_dat[c(2, 3)]))^2 + \n",
    "              (X_dat[3] - mean(X_dat[c(2, 3)]))^2) + (X_dat[4] - mean(X_dat[4]))^2\n",
    "\n",
    "ess_1_24_3 <- (X_dat[1] - mean(X_dat[1]))^2 + ((X_dat[2] - mean(X_dat[c(2, 4)]))^2 + \n",
    "              (X_dat[4] - mean(X_dat[c(2, 4)]))^2) + (X_dat[3] - mean(X_dat[3]))^2\n",
    "\n",
    "ess_1_2_34 <- (X_dat[1] - mean(X_dat[1]))^2 + (X_dat[2] - mean(X_dat[2]))^2 + \n",
    "              ((X_dat[3] - mean(X_dat[c(3, 4)]))^2 + (X_dat[4] - mean(X_dat[c(3, 4)]))^2)\n",
    "\n",
    "ess <- rbind(ess_13_2_4, ess_14_2_3, ess_1_23_4, ess_1_24_3, ess_1_2_34)\n",
    "ess"
   ]
  },
  {
   "cell_type": "code",
   "execution_count": 14,
   "id": "a0a6a2f9",
   "metadata": {
    "ExecuteTime": {
     "end_time": "2022-05-14T09:35:48.318597Z",
     "start_time": "2022-05-14T09:35:36.944Z"
    }
   },
   "outputs": [
    {
     "data": {
      "text/html": [
       "<table class=\"dataframe\">\n",
       "<caption>A data.frame: 5 × 1</caption>\n",
       "<thead>\n",
       "\t<tr><th scope=col>ess_inc</th></tr>\n",
       "\t<tr><th scope=col>&lt;dbl&gt;</th></tr>\n",
       "</thead>\n",
       "<tbody>\n",
       "\t<tr><td> -0.5</td></tr>\n",
       "\t<tr><td> 18.5</td></tr>\n",
       "\t<tr><td>-10.5</td></tr>\n",
       "\t<tr><td> 35.0</td></tr>\n",
       "\t<tr><td>-30.5</td></tr>\n",
       "</tbody>\n",
       "</table>\n"
      ],
      "text/latex": [
       "A data.frame: 5 × 1\n",
       "\\begin{tabular}{l}\n",
       " ess\\_inc\\\\\n",
       " <dbl>\\\\\n",
       "\\hline\n",
       "\t  -0.5\\\\\n",
       "\t  18.5\\\\\n",
       "\t -10.5\\\\\n",
       "\t  35.0\\\\\n",
       "\t -30.5\\\\\n",
       "\\end{tabular}\n"
      ],
      "text/markdown": [
       "\n",
       "A data.frame: 5 × 1\n",
       "\n",
       "| ess_inc &lt;dbl&gt; |\n",
       "|---|\n",
       "|  -0.5 |\n",
       "|  18.5 |\n",
       "| -10.5 |\n",
       "|  35.0 |\n",
       "| -30.5 |\n",
       "\n"
      ],
      "text/plain": [
       "  ess_inc\n",
       "1  -0.5  \n",
       "2  18.5  \n",
       "3 -10.5  \n",
       "4  35.0  \n",
       "5 -30.5  "
      ]
     },
     "metadata": {},
     "output_type": "display_data"
    }
   ],
   "source": [
    "## Increase ESS nya adalah:\n",
    "ess_inc <- c()\n",
    "ess_temp <- 5\n",
    "for(i in c(1:5)){\n",
    "  ess_temp <- ess[i] - ess_temp\n",
    "  ess_inc <- append(ess_inc, ess_temp)\n",
    "}\n",
    "as.data.frame(ess_inc)"
   ]
  },
  {
   "cell_type": "markdown",
   "id": "2f0c2b69",
   "metadata": {},
   "source": [
    "## c. Membuat Dendogram dari Hasil Pengklasteran Pada Step Kedua"
   ]
  },
  {
   "cell_type": "code",
   "execution_count": 15,
   "id": "bd0bf901",
   "metadata": {
    "ExecuteTime": {
     "end_time": "2022-05-14T09:35:48.573692Z",
     "start_time": "2022-05-14T09:35:36.946Z"
    }
   },
   "outputs": [
    {
     "data": {
      "image/png": "[encoded data removed]",
      "text/plain": [
       "plot without title"
      ]
     },
     "metadata": {
      "image/png": {
       "height": 420,
       "width": 420
      }
     },
     "output_type": "display_data"
    }
   ],
   "source": [
    "hc_ward <- hclust(dist(X_dat), method = \"ward.D\")\n",
    "fviz_dend(hc_ward, cex = 0.8,\n",
    "          main = \"Dendogram - Ward's Method\",\n",
    "          k = 2,\n",
    "          k_colors = c(\"#2E9FDF\", \"#FC4E07\"),\n",
    "          color_labels_by_k = T,\n",
    "          rect = T,\n",
    "          xlab = \"Objects\", ylab = \"Distance\", sub = \"\")"
   ]
  },
  {
   "cell_type": "markdown",
   "id": "2476ce93",
   "metadata": {},
   "source": [
    "# 12.12"
   ]
  },
  {
   "cell_type": "code",
   "execution_count": 16,
   "id": "5a67b646",
   "metadata": {
    "ExecuteTime": {
     "end_time": "2022-05-14T09:35:48.613548Z",
     "start_time": "2022-05-14T09:35:37.016Z"
    }
   },
   "outputs": [
    {
     "data": {
      "text/html": [
       "<table class=\"dataframe\">\n",
       "<caption>A data.frame: 4 × 2</caption>\n",
       "<thead>\n",
       "\t<tr><th scope=col>V1</th><th scope=col>V2</th></tr>\n",
       "\t<tr><th scope=col>&lt;dbl&gt;</th><th scope=col>&lt;dbl&gt;</th></tr>\n",
       "</thead>\n",
       "<tbody>\n",
       "\t<tr><td> 5</td><td> 3</td></tr>\n",
       "\t<tr><td>-1</td><td> 1</td></tr>\n",
       "\t<tr><td> 1</td><td>-2</td></tr>\n",
       "\t<tr><td>-3</td><td>-2</td></tr>\n",
       "</tbody>\n",
       "</table>\n"
      ],
      "text/latex": [
       "A data.frame: 4 × 2\n",
       "\\begin{tabular}{ll}\n",
       " V1 & V2\\\\\n",
       " <dbl> & <dbl>\\\\\n",
       "\\hline\n",
       "\t  5 &  3\\\\\n",
       "\t -1 &  1\\\\\n",
       "\t  1 & -2\\\\\n",
       "\t -3 & -2\\\\\n",
       "\\end{tabular}\n"
      ],
      "text/markdown": [
       "\n",
       "A data.frame: 4 × 2\n",
       "\n",
       "| V1 &lt;dbl&gt; | V2 &lt;dbl&gt; |\n",
       "|---|---|\n",
       "|  5 |  3 |\n",
       "| -1 |  1 |\n",
       "|  1 | -2 |\n",
       "| -3 | -2 |\n",
       "\n"
      ],
      "text/plain": [
       "  V1 V2\n",
       "1  5  3\n",
       "2 -1  1\n",
       "3  1 -2\n",
       "4 -3 -2"
      ]
     },
     "metadata": {},
     "output_type": "display_data"
    },
    {
     "name": "stdout",
     "output_type": "stream",
     "text": [
      " num [1:4, 1:2] 5 -1 1 -3 3 1 -2 -2\n"
     ]
    }
   ],
   "source": [
    "#items <- c(\"A\", \"B\", \"C\", \"D\")\n",
    "x1 <- c(5, -1, 1, -3)\n",
    "x2 <- c(3, 1, -2, -2)\n",
    "obs <- cbind(as.numeric(x1), as.numeric(x2))\n",
    "as.data.frame(obs)\n",
    "str(obs)"
   ]
  },
  {
   "cell_type": "markdown",
   "id": "4b314866",
   "metadata": {},
   "source": [
    "Selanjutnya, kita akan menghitung inisialisasi dari centroid cluster yang akan dibangung dengan kombinasi pengelompokan $(AC)$ dan $(BD)$"
   ]
  },
  {
   "cell_type": "code",
   "execution_count": 17,
   "id": "90ee1f2f",
   "metadata": {
    "ExecuteTime": {
     "end_time": "2022-05-14T09:35:48.655860Z",
     "start_time": "2022-05-14T09:35:37.020Z"
    }
   },
   "outputs": [
    {
     "data": {
      "text/html": [
       "<table class=\"dataframe\">\n",
       "<caption>A matrix: 2 × 2 of type dbl</caption>\n",
       "<thead>\n",
       "\t<tr><th></th><th scope=col>xbar1</th><th scope=col>xbar2</th></tr>\n",
       "</thead>\n",
       "<tbody>\n",
       "\t<tr><th scope=row>(AC)</th><td> 3</td><td> 0.5</td></tr>\n",
       "\t<tr><th scope=row>(BD)</th><td>-2</td><td>-0.5</td></tr>\n",
       "</tbody>\n",
       "</table>\n"
      ],
      "text/latex": [
       "A matrix: 2 × 2 of type dbl\n",
       "\\begin{tabular}{r|ll}\n",
       "  & xbar1 & xbar2\\\\\n",
       "\\hline\n",
       "\t(AC) &  3 &  0.5\\\\\n",
       "\t(BD) & -2 & -0.5\\\\\n",
       "\\end{tabular}\n"
      ],
      "text/markdown": [
       "\n",
       "A matrix: 2 × 2 of type dbl\n",
       "\n",
       "| <!--/--> | xbar1 | xbar2 |\n",
       "|---|---|---|\n",
       "| (AC) |  3 |  0.5 |\n",
       "| (BD) | -2 | -0.5 |\n",
       "\n"
      ],
      "text/plain": [
       "     xbar1 xbar2\n",
       "(AC)  3     0.5 \n",
       "(BD) -2    -0.5 "
      ]
     },
     "metadata": {},
     "output_type": "display_data"
    }
   ],
   "source": [
    "AC_xbar1 <- (obs[1, 1] + obs[3, 1])/2\n",
    "AC_xbar2 <- (obs[1, 2] + obs[3, 2])/2\n",
    "BD_xbar1 <- (obs[2, 1] + obs[4, 1])/2\n",
    "BD_xbar2 <- (obs[2, 2] + obs[4, 2])/2\n",
    "\n",
    "cent <- matrix(c(AC_xbar1, BD_xbar1, AC_xbar2, BD_xbar2), nrow = 2, ncol = 2)\n",
    "colnames(cent) <- c(\"xbar1\", \"xbar2\")\n",
    "rownames(cent) <- c(\"(AC)\", \"(BD)\")\n",
    "cent"
   ]
  },
  {
   "cell_type": "markdown",
   "id": "c975b6f6",
   "metadata": {},
   "source": [
    "Selanjutnya, kita akan menghitung jarak antara titik A dan B ke centroid yang telah dihitung sebelumnya menggunakan metode Eucledian Distance:"
   ]
  },
  {
   "cell_type": "code",
   "execution_count": 18,
   "id": "8bea2643",
   "metadata": {
    "ExecuteTime": {
     "end_time": "2022-05-14T09:35:48.701548Z",
     "start_time": "2022-05-14T09:35:37.024Z"
    }
   },
   "outputs": [
    {
     "data": {
      "text/html": [
       "<table class=\"dataframe\">\n",
       "<caption>A matrix: 4 × 1 of type dbl</caption>\n",
       "<tbody>\n",
       "\t<tr><th scope=row>d2_A_AC</th><td>10.25</td></tr>\n",
       "\t<tr><th scope=row>d2_A_BD</th><td>61.25</td></tr>\n",
       "\t<tr><th scope=row>d2_B_AC</th><td>16.25</td></tr>\n",
       "\t<tr><th scope=row>d2_B_BD</th><td> 3.25</td></tr>\n",
       "</tbody>\n",
       "</table>\n"
      ],
      "text/latex": [
       "A matrix: 4 × 1 of type dbl\n",
       "\\begin{tabular}{r|l}\n",
       "\td2\\_A\\_AC & 10.25\\\\\n",
       "\td2\\_A\\_BD & 61.25\\\\\n",
       "\td2\\_B\\_AC & 16.25\\\\\n",
       "\td2\\_B\\_BD &  3.25\\\\\n",
       "\\end{tabular}\n"
      ],
      "text/markdown": [
       "\n",
       "A matrix: 4 × 1 of type dbl\n",
       "\n",
       "| d2_A_AC | 10.25 |\n",
       "| d2_A_BD | 61.25 |\n",
       "| d2_B_AC | 16.25 |\n",
       "| d2_B_BD |  3.25 |\n",
       "\n"
      ],
      "text/plain": [
       "        [,1] \n",
       "d2_A_AC 10.25\n",
       "d2_A_BD 61.25\n",
       "d2_B_AC 16.25\n",
       "d2_B_BD  3.25"
      ]
     },
     "metadata": {},
     "output_type": "display_data"
    }
   ],
   "source": [
    "d2_A_AC <- (obs[1, 1] - cent[1, 1])^2  + (obs[1, 2] - cent[1, 2])^2\n",
    "d2_A_BD <- (obs[1, 1] - cent[2, 1])^2  + (obs[1, 2] - cent[2, 2])^2\n",
    "d2_B_AC <- (obs[2, 1] - cent[1, 1])^2  + (obs[2, 2] - cent[1, 2])^2\n",
    "d2_B_BD <- (obs[2, 1] - cent[2, 1])^2  + (obs[2, 2] - cent[2, 2])^2\n",
    "\n",
    "rbind(d2_A_AC, d2_A_BD, d2_B_AC, d2_B_BD)"
   ]
  },
  {
   "cell_type": "markdown",
   "id": "8ce8ecb3",
   "metadata": {},
   "source": [
    "Dari hasil di atas, dapat kita lihat bahwa jarak terkecil diperoleh dari jarak antara titik B dengan centroid (AC), sehingga klaster baru yang terbentuk adalah klaster $(ABC)$, dengan koordinat centroidnya:"
   ]
  },
  {
   "cell_type": "code",
   "execution_count": 19,
   "id": "594def2e",
   "metadata": {
    "ExecuteTime": {
     "end_time": "2022-05-14T09:35:48.738744Z",
     "start_time": "2022-05-14T09:35:37.028Z"
    }
   },
   "outputs": [
    {
     "data": {
      "text/html": [
       "<table class=\"dataframe\">\n",
       "<caption>A matrix: 2 × 2 of type dbl</caption>\n",
       "<thead>\n",
       "\t<tr><th></th><th scope=col>xbar1</th><th scope=col>xbar2</th></tr>\n",
       "</thead>\n",
       "<tbody>\n",
       "\t<tr><th scope=row>(ABC)</th><td> 1.666667</td><td> 0.6666667</td></tr>\n",
       "\t<tr><th scope=row>D</th><td>-3.000000</td><td>-2.0000000</td></tr>\n",
       "</tbody>\n",
       "</table>\n"
      ],
      "text/latex": [
       "A matrix: 2 × 2 of type dbl\n",
       "\\begin{tabular}{r|ll}\n",
       "  & xbar1 & xbar2\\\\\n",
       "\\hline\n",
       "\t(ABC) &  1.666667 &  0.6666667\\\\\n",
       "\tD & -3.000000 & -2.0000000\\\\\n",
       "\\end{tabular}\n"
      ],
      "text/markdown": [
       "\n",
       "A matrix: 2 × 2 of type dbl\n",
       "\n",
       "| <!--/--> | xbar1 | xbar2 |\n",
       "|---|---|---|\n",
       "| (ABC) |  1.666667 |  0.6666667 |\n",
       "| D | -3.000000 | -2.0000000 |\n",
       "\n"
      ],
      "text/plain": [
       "      xbar1     xbar2     \n",
       "(ABC)  1.666667  0.6666667\n",
       "D     -3.000000 -2.0000000"
      ]
     },
     "metadata": {},
     "output_type": "display_data"
    }
   ],
   "source": [
    "ABC_xbar1 <- (obs[1, 1] + obs[2, 1] + obs[3, 1])/3\n",
    "ABC_xbar2 <- (obs[1, 2] + obs[2, 2] + obs[3, 2])/3\n",
    "\n",
    "cent_new <- matrix(c(ABC_xbar1, obs[4, 1], ABC_xbar2, obs[4, 2]), nrow = 2, ncol = 2)\n",
    "colnames(cent_new) <- c(\"xbar1\", \"xbar2\")\n",
    "rownames(cent_new) <- c(\"(ABC)\", \"D\")\n",
    "cent_new"
   ]
  },
  {
   "cell_type": "markdown",
   "id": "6553b34e",
   "metadata": {},
   "source": [
    "Lalu, kita akan menghitung jarak antara centroid baru dengan semua observasi dari data:"
   ]
  },
  {
   "cell_type": "code",
   "execution_count": 20,
   "id": "dfd7e152",
   "metadata": {
    "ExecuteTime": {
     "end_time": "2022-05-14T09:35:48.769248Z",
     "start_time": "2022-05-14T09:35:37.032Z"
    }
   },
   "outputs": [
    {
     "data": {
      "text/html": [
       "<table class=\"dataframe\">\n",
       "<caption>A matrix: 4 × 2 of type dbl</caption>\n",
       "<tbody>\n",
       "\t<tr><td> 5</td><td> 3</td></tr>\n",
       "\t<tr><td>-1</td><td> 1</td></tr>\n",
       "\t<tr><td> 1</td><td>-2</td></tr>\n",
       "\t<tr><td>-3</td><td>-2</td></tr>\n",
       "</tbody>\n",
       "</table>\n"
      ],
      "text/latex": [
       "A matrix: 4 × 2 of type dbl\n",
       "\\begin{tabular}{ll}\n",
       "\t  5 &  3\\\\\n",
       "\t -1 &  1\\\\\n",
       "\t  1 & -2\\\\\n",
       "\t -3 & -2\\\\\n",
       "\\end{tabular}\n"
      ],
      "text/markdown": [
       "\n",
       "A matrix: 4 × 2 of type dbl\n",
       "\n",
       "|  5 |  3 |\n",
       "| -1 |  1 |\n",
       "|  1 | -2 |\n",
       "| -3 | -2 |\n",
       "\n"
      ],
      "text/plain": [
       "     [,1] [,2]\n",
       "[1,]  5    3  \n",
       "[2,] -1    1  \n",
       "[3,]  1   -2  \n",
       "[4,] -3   -2  "
      ]
     },
     "metadata": {},
     "output_type": "display_data"
    }
   ],
   "source": [
    "obs"
   ]
  },
  {
   "cell_type": "code",
   "execution_count": 21,
   "id": "cc289fb7",
   "metadata": {
    "ExecuteTime": {
     "end_time": "2022-05-14T09:35:48.813074Z",
     "start_time": "2022-05-14T09:35:37.035Z"
    }
   },
   "outputs": [
    {
     "data": {
      "text/html": [
       "<table class=\"dataframe\">\n",
       "<caption>A matrix: 2 × 4 of type dbl</caption>\n",
       "<thead>\n",
       "\t<tr><th scope=col>d2_ABC_A</th><th scope=col>d2_ABC_B</th><th scope=col>d2_ABC_C</th><th scope=col>d2_ABC_D</th></tr>\n",
       "</thead>\n",
       "<tbody>\n",
       "\t<tr><td>16.55556</td><td> 7.222222</td><td> 7.555556</td><td>28.88889</td></tr>\n",
       "\t<tr><td>89.00000</td><td>13.000000</td><td>16.000000</td><td> 0.00000</td></tr>\n",
       "</tbody>\n",
       "</table>\n"
      ],
      "text/latex": [
       "A matrix: 2 × 4 of type dbl\n",
       "\\begin{tabular}{llll}\n",
       " d2\\_ABC\\_A & d2\\_ABC\\_B & d2\\_ABC\\_C & d2\\_ABC\\_D\\\\\n",
       "\\hline\n",
       "\t 16.55556 &  7.222222 &  7.555556 & 28.88889\\\\\n",
       "\t 89.00000 & 13.000000 & 16.000000 &  0.00000\\\\\n",
       "\\end{tabular}\n"
      ],
      "text/markdown": [
       "\n",
       "A matrix: 2 × 4 of type dbl\n",
       "\n",
       "| d2_ABC_A | d2_ABC_B | d2_ABC_C | d2_ABC_D |\n",
       "|---|---|---|---|\n",
       "| 16.55556 |  7.222222 |  7.555556 | 28.88889 |\n",
       "| 89.00000 | 13.000000 | 16.000000 |  0.00000 |\n",
       "\n"
      ],
      "text/plain": [
       "     d2_ABC_A d2_ABC_B  d2_ABC_C  d2_ABC_D\n",
       "[1,] 16.55556  7.222222  7.555556 28.88889\n",
       "[2,] 89.00000 13.000000 16.000000  0.00000"
      ]
     },
     "metadata": {},
     "output_type": "display_data"
    }
   ],
   "source": [
    "d2_ABC_A <- (obs[1, 1] - cent_new[1, 1])^2 + (obs[1, 2] - cent_new[1, 2])^2\n",
    "d2_ABC_B <- (obs[2, 1] - cent_new[1, 1])^2 + (obs[2, 2] - cent_new[1, 2])^2\n",
    "d2_ABC_C <- (obs[3, 1] - cent_new[1, 1])^2 + (obs[3, 2] - cent_new[1, 2])^2\n",
    "d2_ABC_D <- (obs[4, 1] - cent_new[1, 1])^2 + (obs[4, 2] - cent_new[1, 2])^2\n",
    "\n",
    "d2_D_A <- (obs[1, 1] - cent_new[2, 1])^2 + (obs[1, 2] - cent_new[2, 2])^2\n",
    "d2_D_B <- (obs[2, 1] - cent_new[2, 1])^2 + (obs[2, 2] - cent_new[2, 2])^2\n",
    "d2_D_C <- (obs[3, 1] - cent_new[2, 1])^2 + (obs[3, 2] - cent_new[2, 2])^2\n",
    "d2_D_D <- (obs[4, 1] - cent_new[2, 1])^2 + (obs[4, 2] - cent_new[2, 2])^2\n",
    "\n",
    "d2_ABC <- cbind(d2_ABC_A, d2_ABC_B, d2_ABC_C, d2_ABC_D)\n",
    "d2_D <- cbind(d2_D_A, d2_D_B, d2_D_C, d2_D_D)\n",
    "rbind(d2_ABC, d2_D)"
   ]
  },
  {
   "cell_type": "markdown",
   "id": "339102e2",
   "metadata": {},
   "source": [
    "Jika kita melihat dari hasil matriks jarak antara observasi dengan centroid dari setiap cluster yang akan dibentuk, jika dibandingkan dengan hasil dari Example 12.12, kedua hasil tersebut memiliki sisi positif dan negatif nya sendiri. Misal jarak antara observasi dengan centroid A (dari hasil Example 12.12) yang nilainya itu cenderung lebih besar dibanding jarak antara observasi dengan centroid D (dari hasil pada soal ini). Tetapi sebaliknya, jarak antara observasi dengan centroid (BCD) (dari hasil Example 12.12) nilainya cenderung lebih kecil dibanding dengan jarak antara observasi dengan centroid (ABC) (dari hasil pada soal ini). \\\n",
    "Dari hasil tersebut, untuk pemilihan pembentukan cluster nya, tergantung dari subjektifitas dan objektifitas dari peneliti sendiri, ingin memilih pembentukan cluster dengan centroid jenis apa. Hal yang perlu dipertimbangkan adalah dengan penggunaan centroid yang dipilih dalam pembentukan cluster, peneliti harus melihat dari sisi jarak dan juga sisi ketumpangtindihan cluster yang dibentuk dari centroid tersebut, agar hasil cluster lebih baik dan informasi yang didapatkan lebih optimal."
   ]
  },
  {
   "cell_type": "markdown",
   "id": "1e9070fb",
   "metadata": {},
   "source": [
    "# 12.16"
   ]
  },
  {
   "cell_type": "code",
   "execution_count": 22,
   "id": "ab0fee38",
   "metadata": {
    "ExecuteTime": {
     "end_time": "2022-05-14T09:35:48.876760Z",
     "start_time": "2022-05-14T09:35:37.053Z"
    }
   },
   "outputs": [],
   "source": [
    "nat_rec <- read.xlsx(\"National Track Records for Women.xlsx\")\n",
    "\n",
    "for(i in c(2:8)){\n",
    "  nat_rec[, i] <- as.numeric(nat_rec[, i])\n",
    "}"
   ]
  },
  {
   "cell_type": "markdown",
   "id": "bbef11eb",
   "metadata": {},
   "source": [
    "## a. Menghitung Matriks Distance dengan Euclidian"
   ]
  },
  {
   "cell_type": "code",
   "execution_count": 23,
   "id": "a5ff3c9c",
   "metadata": {
    "ExecuteTime": {
     "end_time": "2022-05-14T09:35:48.896739Z",
     "start_time": "2022-05-14T09:35:37.073Z"
    }
   },
   "outputs": [],
   "source": [
    "D_nat_rec <- dist(nat_rec[, c(2:8)])"
   ]
  },
  {
   "cell_type": "markdown",
   "id": "5f1c783c",
   "metadata": {},
   "source": [
    "## b. Membuat Hierarchical Cluster dengan Metode Single Linkage dan Complete Linkage"
   ]
  },
  {
   "cell_type": "code",
   "execution_count": 24,
   "id": "834ac2d6",
   "metadata": {
    "ExecuteTime": {
     "end_time": "2022-05-14T09:35:49.674995Z",
     "start_time": "2022-05-14T09:35:37.092Z"
    }
   },
   "outputs": [
    {
     "data": {
      "image/png": "[encoded data removed]",
      "text/plain": [
       "plot without title"
      ]
     },
     "metadata": {
      "image/png": {
       "height": 420,
       "width": 420
      }
     },
     "output_type": "display_data"
    }
   ],
   "source": [
    "hc_single <- hclust(D_nat_rec, method = \"single\")\n",
    "fviz_dend(hc_single, cex = 0.5,\n",
    "          k = 4,\n",
    "          k_colors = c(\"#2E9FDF\", \"#00AFBB\", \"#E7B800\", \"#FC4E07\"),\n",
    "          color_labels_by_k = T,\n",
    "          rect = T,\n",
    "          main = \"Dendogram - Ward's Method\",\n",
    "          xlab = \"Objects\", ylab = \"Distance\", sub = \"\")"
   ]
  },
  {
   "cell_type": "code",
   "execution_count": 25,
   "id": "0da99d95",
   "metadata": {
    "ExecuteTime": {
     "end_time": "2022-05-14T09:35:50.383117Z",
     "start_time": "2022-05-14T09:35:37.094Z"
    }
   },
   "outputs": [
    {
     "data": {
      "image/png": "[encoded data removed]",
      "text/plain": [
       "plot without title"
      ]
     },
     "metadata": {
      "image/png": {
       "height": 420,
       "width": 420
      }
     },
     "output_type": "display_data"
    }
   ],
   "source": [
    "hc_complete <- hclust(D_nat_rec, method = \"complete\")\n",
    "fviz_dend(hc_complete, cex = 0.5,\n",
    "          k = 5,\n",
    "          k_colors = c(\"#2E9FDF\", \"#00AFBB\", \"#E7B800\", \"#FC4E07\", \"#00ff00\"),\n",
    "          color_labels_by_k = T,\n",
    "          rect = T,\n",
    "          main = \"Dendogram - Ward's Method\",\n",
    "          xlab = \"Objects\", ylab = \"Distance\", sub = \"\")"
   ]
  },
  {
   "cell_type": "code",
   "execution_count": 26,
   "id": "3c817da8",
   "metadata": {
    "ExecuteTime": {
     "end_time": "2022-05-14T09:35:50.424622Z",
     "start_time": "2022-05-14T09:35:37.096Z"
    }
   },
   "outputs": [],
   "source": [
    "## c. Membuat Non-Hierarchical Cluster dengan K-Means Method"
   ]
  },
  {
   "cell_type": "code",
   "execution_count": 27,
   "id": "ad2b07d8",
   "metadata": {
    "ExecuteTime": {
     "end_time": "2022-05-14T09:35:50.659212Z",
     "start_time": "2022-05-14T09:35:37.097Z"
    }
   },
   "outputs": [
    {
     "data": {
      "image/png": "[encoded data removed]",
      "text/plain": [
       "plot without title"
      ]
     },
     "metadata": {
      "image/png": {
       "height": 420,
       "width": 420
      }
     },
     "output_type": "display_data"
    }
   ],
   "source": [
    "fviz_nbclust(nat_rec[, c(2:8)], kmeans)"
   ]
  },
  {
   "cell_type": "markdown",
   "id": "bd9a7872",
   "metadata": {},
   "source": [
    "Dari diagram di atas, kita bisa menentukan kandidat jumlah klaster yang bisa kita bentuk dari data yang digunakan, yaitu antara 4 klaster dan 6 klaster."
   ]
  },
  {
   "cell_type": "markdown",
   "id": "388745f2",
   "metadata": {},
   "source": [
    "- Untuk 4 klaster:"
   ]
  },
  {
   "cell_type": "code",
   "execution_count": 28,
   "id": "0bff27e0",
   "metadata": {
    "ExecuteTime": {
     "end_time": "2022-05-14T09:35:51.046781Z",
     "start_time": "2022-05-14T09:35:37.133Z"
    }
   },
   "outputs": [
    {
     "data": {
      "image/png": "[encoded data removed]",
      "text/plain": [
       "plot without title"
      ]
     },
     "metadata": {
      "image/png": {
       "height": 420,
       "width": 420
      }
     },
     "output_type": "display_data"
    }
   ],
   "source": [
    "km_nat_rec <- kmeans(nat_rec[, c(2:8)], centers = 4)\n",
    "fviz_cluster(km_nat_rec, data = as.data.frame(nat_rec[, c(2:8)]))"
   ]
  },
  {
   "cell_type": "markdown",
   "id": "2ae284ea",
   "metadata": {},
   "source": [
    "- Untuk 6 klaster:"
   ]
  },
  {
   "cell_type": "code",
   "execution_count": 29,
   "id": "0096483c",
   "metadata": {
    "ExecuteTime": {
     "end_time": "2022-05-14T09:35:51.359673Z",
     "start_time": "2022-05-14T09:35:37.152Z"
    }
   },
   "outputs": [
    {
     "data": {
      "image/png": "[encoded data removed]",
      "text/plain": [
       "plot without title"
      ]
     },
     "metadata": {
      "image/png": {
       "height": 420,
       "width": 420
      }
     },
     "output_type": "display_data"
    }
   ],
   "source": [
    "km_nat_rec <- kmeans(nat_rec[, c(2:8)], centers = 2)#, nstart = 25)\n",
    "fviz_cluster(km_nat_rec, data = as.data.frame(nat_rec[, c(2:8)]))"
   ]
  },
  {
   "cell_type": "code",
   "execution_count": null,
   "id": "7ab74a2c",
   "metadata": {},
   "outputs": [],
   "source": []
  }
 ],
 "metadata": {
  "kernelspec": {
   "display_name": "R",
   "language": "R",
   "name": "ir"
  },
  "language_info": {
   "codemirror_mode": "r",
   "file_extension": ".r",
   "mimetype": "text/x-r-source",
   "name": "R",
   "pygments_lexer": "r",
   "version": "4.0.5"
  },
  "toc": {
   "base_numbering": 1,
   "nav_menu": {},
   "number_sections": true,
   "sideBar": true,
   "skip_h1_title": false,
   "title_cell": "Table of Contents",
   "title_sidebar": "Contents",
   "toc_cell": false,
   "toc_position": {},
   "toc_section_display": true,
   "toc_window_display": false
  }
 },
 "nbformat": 4,
 "nbformat_minor": 5
}
