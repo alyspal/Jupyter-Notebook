{
 "cells": [
  {
   "cell_type": "code",
   "execution_count": 1,
   "id": "f0221bd9",
   "metadata": {
    "ExecuteTime": {
     "end_time": "2022-04-10T03:54:03.055510Z",
     "start_time": "2022-04-10T03:53:59.398Z"
    },
    "scrolled": true
   },
   "outputs": [
    {
     "name": "stderr",
     "output_type": "stream",
     "text": [
      "\n",
      "Attaching package: 'ellipse'\n",
      "\n",
      "\n",
      "The following object is masked from 'package:graphics':\n",
      "\n",
      "    pairs\n",
      "\n",
      "\n",
      "*** Package RVAideMemoire v 0.9-81-2 ***\n",
      "\n",
      "Loading required package: carData\n",
      "\n",
      "\n",
      "Attaching package: 'car'\n",
      "\n",
      "\n",
      "The following object is masked from 'package:ellipse':\n",
      "\n",
      "    ellipse\n",
      "\n",
      "\n",
      "\n",
      "Attaching package: 'MVTests'\n",
      "\n",
      "\n",
      "The following object is masked from 'package:datasets':\n",
      "\n",
      "    iris\n",
      "\n",
      "\n"
     ]
    }
   ],
   "source": [
    "library(\"latex2exp\")\n",
    "library(\"ellipse\")\n",
    "library(\"RVAideMemoire\")\n",
    "library(\"MVN\")\n",
    "library(\"car\")\n",
    "library(\"MVTests\")\n",
    "library(\"SciViews\")"
   ]
  },
  {
   "cell_type": "markdown",
   "id": "364dfaa6",
   "metadata": {},
   "source": [
    "# 1. Independen 2 Population"
   ]
  },
  {
   "cell_type": "code",
   "execution_count": 2,
   "id": "86fd714a",
   "metadata": {
    "ExecuteTime": {
     "end_time": "2022-04-10T04:00:42.747989Z",
     "start_time": "2022-04-10T04:00:42.660Z"
    }
   },
   "outputs": [],
   "source": [
    "#Data\n",
    "A_EfisiensiTanpa<-c(12,13,12.5,10,14,13.5,12,15,11,13,11.5,13.5,10,11)\n",
    "A_EfisiensiDengan<-c(13,15,14,11,14.5,15,14.5,18,14.5,15,13.5,14,11,13)\n",
    "A_AkselerasiTanpa<-c(16,15,14,16,17,19,15,17,14,15,18,19,16,17)\n",
    "A_AkselerasiDengan<-c(17,15,16,16,16,20,14,18,15,15,17,20,16,17)\n",
    "\n",
    "B_EfisiensiTanpa<-c(13,12,14,12.5,10,12,13.5,14,13,10,12,10,13.5,11)\n",
    "B_EfisiensiDengan<-c(15,15.5,17,16,12,15,16.5,15.5,15,13,14,12.5,15,13.5)\n",
    "B_AkselerasiTanpa<-c(15,16,17,14,16,19,17,15,13,18,15,20,17,18)\n",
    "B_AkselerasiDengan<-c(13,13,14,11,13,15,15,12,12,15,11,15,15,16)"
   ]
  },
  {
   "cell_type": "code",
   "execution_count": 3,
   "id": "5e8d4067",
   "metadata": {
    "ExecuteTime": {
     "end_time": "2022-04-10T04:02:50.680159Z",
     "start_time": "2022-04-10T04:02:50.618Z"
    },
    "scrolled": true
   },
   "outputs": [
    {
     "data": {
      "text/html": [
       "<table class=\"dataframe\">\n",
       "<caption>A data.frame: 14 × 8</caption>\n",
       "<thead>\n",
       "\t<tr><th scope=col>A_EfisiensiTanpa</th><th scope=col>A_EfisiensiDengan</th><th scope=col>A_AkselerasiTanpa</th><th scope=col>A_AkselerasiDengan</th><th scope=col>B_EfisiensiTanpa</th><th scope=col>B_EfisiensiDengan</th><th scope=col>B_AkselerasiTanpa</th><th scope=col>B_AkselerasiDengan</th></tr>\n",
       "\t<tr><th scope=col>&lt;dbl&gt;</th><th scope=col>&lt;dbl&gt;</th><th scope=col>&lt;dbl&gt;</th><th scope=col>&lt;dbl&gt;</th><th scope=col>&lt;dbl&gt;</th><th scope=col>&lt;dbl&gt;</th><th scope=col>&lt;dbl&gt;</th><th scope=col>&lt;dbl&gt;</th></tr>\n",
       "</thead>\n",
       "<tbody>\n",
       "\t<tr><td>12.0</td><td>13.0</td><td>16</td><td>17</td><td>13.0</td><td>15.0</td><td>15</td><td>13</td></tr>\n",
       "\t<tr><td>13.0</td><td>15.0</td><td>15</td><td>15</td><td>12.0</td><td>15.5</td><td>16</td><td>13</td></tr>\n",
       "\t<tr><td>12.5</td><td>14.0</td><td>14</td><td>16</td><td>14.0</td><td>17.0</td><td>17</td><td>14</td></tr>\n",
       "\t<tr><td>10.0</td><td>11.0</td><td>16</td><td>16</td><td>12.5</td><td>16.0</td><td>14</td><td>11</td></tr>\n",
       "\t<tr><td>14.0</td><td>14.5</td><td>17</td><td>16</td><td>10.0</td><td>12.0</td><td>16</td><td>13</td></tr>\n",
       "\t<tr><td>13.5</td><td>15.0</td><td>19</td><td>20</td><td>12.0</td><td>15.0</td><td>19</td><td>15</td></tr>\n",
       "\t<tr><td>12.0</td><td>14.5</td><td>15</td><td>14</td><td>13.5</td><td>16.5</td><td>17</td><td>15</td></tr>\n",
       "\t<tr><td>15.0</td><td>18.0</td><td>17</td><td>18</td><td>14.0</td><td>15.5</td><td>15</td><td>12</td></tr>\n",
       "\t<tr><td>11.0</td><td>14.5</td><td>14</td><td>15</td><td>13.0</td><td>15.0</td><td>13</td><td>12</td></tr>\n",
       "\t<tr><td>13.0</td><td>15.0</td><td>15</td><td>15</td><td>10.0</td><td>13.0</td><td>18</td><td>15</td></tr>\n",
       "\t<tr><td>11.5</td><td>13.5</td><td>18</td><td>17</td><td>12.0</td><td>14.0</td><td>15</td><td>11</td></tr>\n",
       "\t<tr><td>13.5</td><td>14.0</td><td>19</td><td>20</td><td>10.0</td><td>12.5</td><td>20</td><td>15</td></tr>\n",
       "\t<tr><td>10.0</td><td>11.0</td><td>16</td><td>16</td><td>13.5</td><td>15.0</td><td>17</td><td>15</td></tr>\n",
       "\t<tr><td>11.0</td><td>13.0</td><td>17</td><td>17</td><td>11.0</td><td>13.5</td><td>18</td><td>16</td></tr>\n",
       "</tbody>\n",
       "</table>\n"
      ],
      "text/latex": [
       "A data.frame: 14 × 8\n",
       "\\begin{tabular}{llllllll}\n",
       " A\\_EfisiensiTanpa & A\\_EfisiensiDengan & A\\_AkselerasiTanpa & A\\_AkselerasiDengan & B\\_EfisiensiTanpa & B\\_EfisiensiDengan & B\\_AkselerasiTanpa & B\\_AkselerasiDengan\\\\\n",
       " <dbl> & <dbl> & <dbl> & <dbl> & <dbl> & <dbl> & <dbl> & <dbl>\\\\\n",
       "\\hline\n",
       "\t 12.0 & 13.0 & 16 & 17 & 13.0 & 15.0 & 15 & 13\\\\\n",
       "\t 13.0 & 15.0 & 15 & 15 & 12.0 & 15.5 & 16 & 13\\\\\n",
       "\t 12.5 & 14.0 & 14 & 16 & 14.0 & 17.0 & 17 & 14\\\\\n",
       "\t 10.0 & 11.0 & 16 & 16 & 12.5 & 16.0 & 14 & 11\\\\\n",
       "\t 14.0 & 14.5 & 17 & 16 & 10.0 & 12.0 & 16 & 13\\\\\n",
       "\t 13.5 & 15.0 & 19 & 20 & 12.0 & 15.0 & 19 & 15\\\\\n",
       "\t 12.0 & 14.5 & 15 & 14 & 13.5 & 16.5 & 17 & 15\\\\\n",
       "\t 15.0 & 18.0 & 17 & 18 & 14.0 & 15.5 & 15 & 12\\\\\n",
       "\t 11.0 & 14.5 & 14 & 15 & 13.0 & 15.0 & 13 & 12\\\\\n",
       "\t 13.0 & 15.0 & 15 & 15 & 10.0 & 13.0 & 18 & 15\\\\\n",
       "\t 11.5 & 13.5 & 18 & 17 & 12.0 & 14.0 & 15 & 11\\\\\n",
       "\t 13.5 & 14.0 & 19 & 20 & 10.0 & 12.5 & 20 & 15\\\\\n",
       "\t 10.0 & 11.0 & 16 & 16 & 13.5 & 15.0 & 17 & 15\\\\\n",
       "\t 11.0 & 13.0 & 17 & 17 & 11.0 & 13.5 & 18 & 16\\\\\n",
       "\\end{tabular}\n"
      ],
      "text/markdown": [
       "\n",
       "A data.frame: 14 × 8\n",
       "\n",
       "| A_EfisiensiTanpa &lt;dbl&gt; | A_EfisiensiDengan &lt;dbl&gt; | A_AkselerasiTanpa &lt;dbl&gt; | A_AkselerasiDengan &lt;dbl&gt; | B_EfisiensiTanpa &lt;dbl&gt; | B_EfisiensiDengan &lt;dbl&gt; | B_AkselerasiTanpa &lt;dbl&gt; | B_AkselerasiDengan &lt;dbl&gt; |\n",
       "|---|---|---|---|---|---|---|---|\n",
       "| 12.0 | 13.0 | 16 | 17 | 13.0 | 15.0 | 15 | 13 |\n",
       "| 13.0 | 15.0 | 15 | 15 | 12.0 | 15.5 | 16 | 13 |\n",
       "| 12.5 | 14.0 | 14 | 16 | 14.0 | 17.0 | 17 | 14 |\n",
       "| 10.0 | 11.0 | 16 | 16 | 12.5 | 16.0 | 14 | 11 |\n",
       "| 14.0 | 14.5 | 17 | 16 | 10.0 | 12.0 | 16 | 13 |\n",
       "| 13.5 | 15.0 | 19 | 20 | 12.0 | 15.0 | 19 | 15 |\n",
       "| 12.0 | 14.5 | 15 | 14 | 13.5 | 16.5 | 17 | 15 |\n",
       "| 15.0 | 18.0 | 17 | 18 | 14.0 | 15.5 | 15 | 12 |\n",
       "| 11.0 | 14.5 | 14 | 15 | 13.0 | 15.0 | 13 | 12 |\n",
       "| 13.0 | 15.0 | 15 | 15 | 10.0 | 13.0 | 18 | 15 |\n",
       "| 11.5 | 13.5 | 18 | 17 | 12.0 | 14.0 | 15 | 11 |\n",
       "| 13.5 | 14.0 | 19 | 20 | 10.0 | 12.5 | 20 | 15 |\n",
       "| 10.0 | 11.0 | 16 | 16 | 13.5 | 15.0 | 17 | 15 |\n",
       "| 11.0 | 13.0 | 17 | 17 | 11.0 | 13.5 | 18 | 16 |\n",
       "\n"
      ],
      "text/plain": [
       "   A_EfisiensiTanpa A_EfisiensiDengan A_AkselerasiTanpa A_AkselerasiDengan\n",
       "1  12.0             13.0              16                17                \n",
       "2  13.0             15.0              15                15                \n",
       "3  12.5             14.0              14                16                \n",
       "4  10.0             11.0              16                16                \n",
       "5  14.0             14.5              17                16                \n",
       "6  13.5             15.0              19                20                \n",
       "7  12.0             14.5              15                14                \n",
       "8  15.0             18.0              17                18                \n",
       "9  11.0             14.5              14                15                \n",
       "10 13.0             15.0              15                15                \n",
       "11 11.5             13.5              18                17                \n",
       "12 13.5             14.0              19                20                \n",
       "13 10.0             11.0              16                16                \n",
       "14 11.0             13.0              17                17                \n",
       "   B_EfisiensiTanpa B_EfisiensiDengan B_AkselerasiTanpa B_AkselerasiDengan\n",
       "1  13.0             15.0              15                13                \n",
       "2  12.0             15.5              16                13                \n",
       "3  14.0             17.0              17                14                \n",
       "4  12.5             16.0              14                11                \n",
       "5  10.0             12.0              16                13                \n",
       "6  12.0             15.0              19                15                \n",
       "7  13.5             16.5              17                15                \n",
       "8  14.0             15.5              15                12                \n",
       "9  13.0             15.0              13                12                \n",
       "10 10.0             13.0              18                15                \n",
       "11 12.0             14.0              15                11                \n",
       "12 10.0             12.5              20                15                \n",
       "13 13.5             15.0              17                15                \n",
       "14 11.0             13.5              18                16                "
      ]
     },
     "metadata": {},
     "output_type": "display_data"
    }
   ],
   "source": [
    "data <- data.frame(A_EfisiensiTanpa, A_EfisiensiDengan, A_AkselerasiTanpa, A_AkselerasiDengan,\n",
    "                   B_EfisiensiTanpa, B_EfisiensiDengan, B_AkselerasiTanpa, B_AkselerasiDengan)\n",
    "data"
   ]
  },
  {
   "cell_type": "code",
   "execution_count": 14,
   "id": "69ea43cd",
   "metadata": {
    "ExecuteTime": {
     "end_time": "2022-04-10T04:12:09.467041Z",
     "start_time": "2022-04-10T04:12:09.415Z"
    },
    "scrolled": true
   },
   "outputs": [
    {
     "data": {
      "text/html": [
       "<table class=\"dataframe\">\n",
       "<caption>A data.frame: 14 × 4</caption>\n",
       "<thead>\n",
       "\t<tr><th scope=col>d_A_Efisiensi</th><th scope=col>d_A_Akselerasi</th><th scope=col>d_B_Efisiensi</th><th scope=col>d_B_Akselerasi</th></tr>\n",
       "\t<tr><th scope=col>&lt;dbl&gt;</th><th scope=col>&lt;dbl&gt;</th><th scope=col>&lt;dbl&gt;</th><th scope=col>&lt;dbl&gt;</th></tr>\n",
       "</thead>\n",
       "<tbody>\n",
       "\t<tr><td>1.0</td><td> 1</td><td>2.0</td><td>-2</td></tr>\n",
       "\t<tr><td>2.0</td><td> 0</td><td>3.5</td><td>-3</td></tr>\n",
       "\t<tr><td>1.5</td><td> 2</td><td>3.0</td><td>-3</td></tr>\n",
       "\t<tr><td>1.0</td><td> 0</td><td>3.5</td><td>-3</td></tr>\n",
       "\t<tr><td>0.5</td><td>-1</td><td>2.0</td><td>-3</td></tr>\n",
       "\t<tr><td>1.5</td><td> 1</td><td>3.0</td><td>-4</td></tr>\n",
       "\t<tr><td>2.5</td><td>-1</td><td>3.0</td><td>-2</td></tr>\n",
       "\t<tr><td>3.0</td><td> 1</td><td>1.5</td><td>-3</td></tr>\n",
       "\t<tr><td>3.5</td><td> 1</td><td>2.0</td><td>-1</td></tr>\n",
       "\t<tr><td>2.0</td><td> 0</td><td>3.0</td><td>-3</td></tr>\n",
       "\t<tr><td>2.0</td><td>-1</td><td>2.0</td><td>-4</td></tr>\n",
       "\t<tr><td>0.5</td><td> 1</td><td>2.5</td><td>-5</td></tr>\n",
       "\t<tr><td>1.0</td><td> 0</td><td>1.5</td><td>-2</td></tr>\n",
       "\t<tr><td>2.0</td><td> 0</td><td>2.5</td><td>-2</td></tr>\n",
       "</tbody>\n",
       "</table>\n"
      ],
      "text/latex": [
       "A data.frame: 14 × 4\n",
       "\\begin{tabular}{llll}\n",
       " d\\_A\\_Efisiensi & d\\_A\\_Akselerasi & d\\_B\\_Efisiensi & d\\_B\\_Akselerasi\\\\\n",
       " <dbl> & <dbl> & <dbl> & <dbl>\\\\\n",
       "\\hline\n",
       "\t 1.0 &  1 & 2.0 & -2\\\\\n",
       "\t 2.0 &  0 & 3.5 & -3\\\\\n",
       "\t 1.5 &  2 & 3.0 & -3\\\\\n",
       "\t 1.0 &  0 & 3.5 & -3\\\\\n",
       "\t 0.5 & -1 & 2.0 & -3\\\\\n",
       "\t 1.5 &  1 & 3.0 & -4\\\\\n",
       "\t 2.5 & -1 & 3.0 & -2\\\\\n",
       "\t 3.0 &  1 & 1.5 & -3\\\\\n",
       "\t 3.5 &  1 & 2.0 & -1\\\\\n",
       "\t 2.0 &  0 & 3.0 & -3\\\\\n",
       "\t 2.0 & -1 & 2.0 & -4\\\\\n",
       "\t 0.5 &  1 & 2.5 & -5\\\\\n",
       "\t 1.0 &  0 & 1.5 & -2\\\\\n",
       "\t 2.0 &  0 & 2.5 & -2\\\\\n",
       "\\end{tabular}\n"
      ],
      "text/markdown": [
       "\n",
       "A data.frame: 14 × 4\n",
       "\n",
       "| d_A_Efisiensi &lt;dbl&gt; | d_A_Akselerasi &lt;dbl&gt; | d_B_Efisiensi &lt;dbl&gt; | d_B_Akselerasi &lt;dbl&gt; |\n",
       "|---|---|---|---|\n",
       "| 1.0 |  1 | 2.0 | -2 |\n",
       "| 2.0 |  0 | 3.5 | -3 |\n",
       "| 1.5 |  2 | 3.0 | -3 |\n",
       "| 1.0 |  0 | 3.5 | -3 |\n",
       "| 0.5 | -1 | 2.0 | -3 |\n",
       "| 1.5 |  1 | 3.0 | -4 |\n",
       "| 2.5 | -1 | 3.0 | -2 |\n",
       "| 3.0 |  1 | 1.5 | -3 |\n",
       "| 3.5 |  1 | 2.0 | -1 |\n",
       "| 2.0 |  0 | 3.0 | -3 |\n",
       "| 2.0 | -1 | 2.0 | -4 |\n",
       "| 0.5 |  1 | 2.5 | -5 |\n",
       "| 1.0 |  0 | 1.5 | -2 |\n",
       "| 2.0 |  0 | 2.5 | -2 |\n",
       "\n"
      ],
      "text/plain": [
       "   d_A_Efisiensi d_A_Akselerasi d_B_Efisiensi d_B_Akselerasi\n",
       "1  1.0            1             2.0           -2            \n",
       "2  2.0            0             3.5           -3            \n",
       "3  1.5            2             3.0           -3            \n",
       "4  1.0            0             3.5           -3            \n",
       "5  0.5           -1             2.0           -3            \n",
       "6  1.5            1             3.0           -4            \n",
       "7  2.5           -1             3.0           -2            \n",
       "8  3.0            1             1.5           -3            \n",
       "9  3.5            1             2.0           -1            \n",
       "10 2.0            0             3.0           -3            \n",
       "11 2.0           -1             2.0           -4            \n",
       "12 0.5            1             2.5           -5            \n",
       "13 1.0            0             1.5           -2            \n",
       "14 2.0            0             2.5           -2            "
      ]
     },
     "metadata": {},
     "output_type": "display_data"
    }
   ],
   "source": [
    "#Diferensiasi\n",
    "d_A_Efisiensi <- A_EfisiensiDengan - A_EfisiensiTanpa\n",
    "d_A_Akselerasi <- A_AkselerasiDengan - A_AkselerasiTanpa\n",
    "\n",
    "d_B_Efisiensi <- B_EfisiensiDengan - B_EfisiensiTanpa\n",
    "d_B_Akselerasi <- B_AkselerasiDengan - B_AkselerasiTanpa\n",
    "\n",
    "diff_A <- data.frame(d_A_Efisiensi, d_A_Akselerasi)\n",
    "diff_B <- data.frame(d_B_Efisiensi, d_B_Akselerasi)\n",
    "diff_data <- data.frame(d_A_Efisiensi, d_A_Akselerasi, d_B_Efisiensi, d_B_Akselerasi)\n",
    "diff_data"
   ]
  },
  {
   "cell_type": "code",
   "execution_count": 46,
   "id": "3fcc953e",
   "metadata": {
    "ExecuteTime": {
     "end_time": "2022-04-10T04:49:52.252034Z",
     "start_time": "2022-04-10T04:49:52.208Z"
    }
   },
   "outputs": [],
   "source": [
    "d_A_Efisiensi <- A_EfisiensiDengan - A_EfisiensiTanpa\n",
    "d_A_Akselerasi <- A_AkselerasiDengan - A_AkselerasiTanpa\n",
    "\n",
    "d_B_Efisiensi <- B_EfisiensiDengan - B_EfisiensiTanpa\n",
    "d_B_Akselerasi <- B_AkselerasiDengan - B_AkselerasiTanpa"
   ]
  },
  {
   "cell_type": "raw",
   "id": "ad88b824",
   "metadata": {
    "ExecuteTime": {
     "end_time": "2022-04-10T04:29:26.183521Z",
     "start_time": "2022-04-10T04:29:26.139Z"
    }
   },
   "source": [
    "#Diferensiasi diperlukan hanya jika Paired\n",
    "\n",
    "d_Efisiensi <- d_A_Efisiensi - d_B_Efisiensi\n",
    "d_Akselerasi <- d_A_Akselerasi - d_B_Akselerasi\n",
    "\n",
    "diff_data_AB <- data.frame(d_Efisiensi, d_Akselerasi)\n",
    "diff_data_AB "
   ]
  },
  {
   "cell_type": "code",
   "execution_count": 21,
   "id": "f573578e",
   "metadata": {
    "ExecuteTime": {
     "end_time": "2022-04-10T04:17:32.069364Z",
     "start_time": "2022-04-10T04:17:32.035Z"
    }
   },
   "outputs": [
    {
     "data": {
      "text/html": [
       "<style>\n",
       ".dl-inline {width: auto; margin:0; padding: 0}\n",
       ".dl-inline>dt, .dl-inline>dd {float: none; width: auto; display: inline-block}\n",
       ".dl-inline>dt::after {content: \":\\0020\"; padding-right: .5ex}\n",
       ".dl-inline>dt:not(:first-of-type) {padding-left: .5ex}\n",
       "</style><dl class=dl-inline><dt>d_A_Efisiensi</dt><dd>1.71428571428571</dd><dt>d_A_Akselerasi</dt><dd>0.285714285714286</dd></dl>\n"
      ],
      "text/latex": [
       "\\begin{description*}\n",
       "\\item[d\\textbackslash{}\\_A\\textbackslash{}\\_Efisiensi] 1.71428571428571\n",
       "\\item[d\\textbackslash{}\\_A\\textbackslash{}\\_Akselerasi] 0.285714285714286\n",
       "\\end{description*}\n"
      ],
      "text/markdown": [
       "d_A_Efisiensi\n",
       ":   1.71428571428571d_A_Akselerasi\n",
       ":   0.285714285714286\n",
       "\n"
      ],
      "text/plain": [
       " d_A_Efisiensi d_A_Akselerasi \n",
       "     1.7142857      0.2857143 "
      ]
     },
     "metadata": {},
     "output_type": "display_data"
    }
   ],
   "source": [
    "dbar_A <- colMeans(diff_A)\n",
    "dbar_A"
   ]
  },
  {
   "cell_type": "code",
   "execution_count": 22,
   "id": "b8908d05",
   "metadata": {
    "ExecuteTime": {
     "end_time": "2022-04-10T04:17:47.707434Z",
     "start_time": "2022-04-10T04:17:47.671Z"
    }
   },
   "outputs": [
    {
     "data": {
      "text/html": [
       "<style>\n",
       ".dl-inline {width: auto; margin:0; padding: 0}\n",
       ".dl-inline>dt, .dl-inline>dd {float: none; width: auto; display: inline-block}\n",
       ".dl-inline>dt::after {content: \":\\0020\"; padding-right: .5ex}\n",
       ".dl-inline>dt:not(:first-of-type) {padding-left: .5ex}\n",
       "</style><dl class=dl-inline><dt>d_B_Efisiensi</dt><dd>2.5</dd><dt>d_B_Akselerasi</dt><dd>-2.85714285714286</dd></dl>\n"
      ],
      "text/latex": [
       "\\begin{description*}\n",
       "\\item[d\\textbackslash{}\\_B\\textbackslash{}\\_Efisiensi] 2.5\n",
       "\\item[d\\textbackslash{}\\_B\\textbackslash{}\\_Akselerasi] -2.85714285714286\n",
       "\\end{description*}\n"
      ],
      "text/markdown": [
       "d_B_Efisiensi\n",
       ":   2.5d_B_Akselerasi\n",
       ":   -2.85714285714286\n",
       "\n"
      ],
      "text/plain": [
       " d_B_Efisiensi d_B_Akselerasi \n",
       "      2.500000      -2.857143 "
      ]
     },
     "metadata": {},
     "output_type": "display_data"
    }
   ],
   "source": [
    "dbar_B <- colMeans(diff_B)\n",
    "dbar_B"
   ]
  },
  {
   "cell_type": "code",
   "execution_count": 15,
   "id": "694cea34",
   "metadata": {
    "ExecuteTime": {
     "end_time": "2022-04-10T04:12:32.365864Z",
     "start_time": "2022-04-10T04:12:32.331Z"
    }
   },
   "outputs": [
    {
     "data": {
      "text/html": [
       "<table class=\"dataframe\">\n",
       "<caption>A matrix: 2 × 2 of type dbl</caption>\n",
       "<thead>\n",
       "\t<tr><th></th><th scope=col>d_A_Efisiensi</th><th scope=col>d_A_Akselerasi</th></tr>\n",
       "</thead>\n",
       "<tbody>\n",
       "\t<tr><th scope=row>d_A_Efisiensi</th><td>0.79670330</td><td>0.04945055</td></tr>\n",
       "\t<tr><th scope=row>d_A_Akselerasi</th><td>0.04945055</td><td>0.83516484</td></tr>\n",
       "</tbody>\n",
       "</table>\n"
      ],
      "text/latex": [
       "A matrix: 2 × 2 of type dbl\n",
       "\\begin{tabular}{r|ll}\n",
       "  & d\\_A\\_Efisiensi & d\\_A\\_Akselerasi\\\\\n",
       "\\hline\n",
       "\td\\_A\\_Efisiensi & 0.79670330 & 0.04945055\\\\\n",
       "\td\\_A\\_Akselerasi & 0.04945055 & 0.83516484\\\\\n",
       "\\end{tabular}\n"
      ],
      "text/markdown": [
       "\n",
       "A matrix: 2 × 2 of type dbl\n",
       "\n",
       "| <!--/--> | d_A_Efisiensi | d_A_Akselerasi |\n",
       "|---|---|---|\n",
       "| d_A_Efisiensi | 0.79670330 | 0.04945055 |\n",
       "| d_A_Akselerasi | 0.04945055 | 0.83516484 |\n",
       "\n"
      ],
      "text/plain": [
       "               d_A_Efisiensi d_A_Akselerasi\n",
       "d_A_Efisiensi  0.79670330    0.04945055    \n",
       "d_A_Akselerasi 0.04945055    0.83516484    "
      ]
     },
     "metadata": {},
     "output_type": "display_data"
    }
   ],
   "source": [
    "S_A <- cov(diff_A)\n",
    "S_A"
   ]
  },
  {
   "cell_type": "code",
   "execution_count": 16,
   "id": "09a40c0d",
   "metadata": {
    "ExecuteTime": {
     "end_time": "2022-04-10T04:12:33.043102Z",
     "start_time": "2022-04-10T04:12:33.010Z"
    }
   },
   "outputs": [
    {
     "data": {
      "text/html": [
       "<table class=\"dataframe\">\n",
       "<caption>A matrix: 2 × 2 of type dbl</caption>\n",
       "<thead>\n",
       "\t<tr><th></th><th scope=col>d_B_Efisiensi</th><th scope=col>d_B_Akselerasi</th></tr>\n",
       "</thead>\n",
       "<tbody>\n",
       "\t<tr><th scope=row>d_B_Efisiensi</th><td> 0.4615385</td><td>-0.1538462</td></tr>\n",
       "\t<tr><th scope=row>d_B_Akselerasi</th><td>-0.1538462</td><td> 1.0549451</td></tr>\n",
       "</tbody>\n",
       "</table>\n"
      ],
      "text/latex": [
       "A matrix: 2 × 2 of type dbl\n",
       "\\begin{tabular}{r|ll}\n",
       "  & d\\_B\\_Efisiensi & d\\_B\\_Akselerasi\\\\\n",
       "\\hline\n",
       "\td\\_B\\_Efisiensi &  0.4615385 & -0.1538462\\\\\n",
       "\td\\_B\\_Akselerasi & -0.1538462 &  1.0549451\\\\\n",
       "\\end{tabular}\n"
      ],
      "text/markdown": [
       "\n",
       "A matrix: 2 × 2 of type dbl\n",
       "\n",
       "| <!--/--> | d_B_Efisiensi | d_B_Akselerasi |\n",
       "|---|---|---|\n",
       "| d_B_Efisiensi |  0.4615385 | -0.1538462 |\n",
       "| d_B_Akselerasi | -0.1538462 |  1.0549451 |\n",
       "\n"
      ],
      "text/plain": [
       "               d_B_Efisiensi d_B_Akselerasi\n",
       "d_B_Efisiensi   0.4615385    -0.1538462    \n",
       "d_B_Akselerasi -0.1538462     1.0549451    "
      ]
     },
     "metadata": {},
     "output_type": "display_data"
    }
   ],
   "source": [
    "S_B <- cov(diff_B)\n",
    "S_B"
   ]
  },
  {
   "cell_type": "code",
   "execution_count": 24,
   "id": "1956371a",
   "metadata": {
    "ExecuteTime": {
     "end_time": "2022-04-10T04:18:59.233325Z",
     "start_time": "2022-04-10T04:18:59.192Z"
    }
   },
   "outputs": [
    {
     "data": {
      "text/html": [
       "<table class=\"dataframe\">\n",
       "<caption>A matrix: 2 × 2 of type dbl</caption>\n",
       "<thead>\n",
       "\t<tr><th></th><th scope=col>d_A_Efisiensi</th><th scope=col>d_A_Akselerasi</th></tr>\n",
       "</thead>\n",
       "<tbody>\n",
       "\t<tr><th scope=row>d_A_Efisiensi</th><td> 0.6291209</td><td>-0.0521978</td></tr>\n",
       "\t<tr><th scope=row>d_A_Akselerasi</th><td>-0.0521978</td><td> 0.9450549</td></tr>\n",
       "</tbody>\n",
       "</table>\n"
      ],
      "text/latex": [
       "A matrix: 2 × 2 of type dbl\n",
       "\\begin{tabular}{r|ll}\n",
       "  & d\\_A\\_Efisiensi & d\\_A\\_Akselerasi\\\\\n",
       "\\hline\n",
       "\td\\_A\\_Efisiensi &  0.6291209 & -0.0521978\\\\\n",
       "\td\\_A\\_Akselerasi & -0.0521978 &  0.9450549\\\\\n",
       "\\end{tabular}\n"
      ],
      "text/markdown": [
       "\n",
       "A matrix: 2 × 2 of type dbl\n",
       "\n",
       "| <!--/--> | d_A_Efisiensi | d_A_Akselerasi |\n",
       "|---|---|---|\n",
       "| d_A_Efisiensi |  0.6291209 | -0.0521978 |\n",
       "| d_A_Akselerasi | -0.0521978 |  0.9450549 |\n",
       "\n"
      ],
      "text/plain": [
       "               d_A_Efisiensi d_A_Akselerasi\n",
       "d_A_Efisiensi   0.6291209    -0.0521978    \n",
       "d_A_Akselerasi -0.0521978     0.9450549    "
      ]
     },
     "metadata": {},
     "output_type": "display_data"
    }
   ],
   "source": [
    "n1 <- 14\n",
    "n2 <- 14\n",
    "S_pooled <- ((n1 - 1)/(n1 + n2 -2) * S_A) + ((n2 - 1)/(n1 + n2 -2) * S_B)\n",
    "S_pooled"
   ]
  },
  {
   "cell_type": "code",
   "execution_count": 25,
   "id": "af1481ac",
   "metadata": {
    "ExecuteTime": {
     "end_time": "2022-04-10T04:22:26.762458Z",
     "start_time": "2022-04-10T04:22:26.725Z"
    }
   },
   "outputs": [
    {
     "data": {
      "text/html": [
       "<table class=\"dataframe\">\n",
       "<caption>A matrix: 1 × 1 of type dbl</caption>\n",
       "<tbody>\n",
       "\t<tr><td>77.35112</td></tr>\n",
       "</tbody>\n",
       "</table>\n"
      ],
      "text/latex": [
       "A matrix: 1 × 1 of type dbl\n",
       "\\begin{tabular}{l}\n",
       "\t 77.35112\\\\\n",
       "\\end{tabular}\n"
      ],
      "text/markdown": [
       "\n",
       "A matrix: 1 × 1 of type dbl\n",
       "\n",
       "| 77.35112 |\n",
       "\n"
      ],
      "text/plain": [
       "     [,1]    \n",
       "[1,] 77.35112"
      ]
     },
     "metadata": {},
     "output_type": "display_data"
    }
   ],
   "source": [
    "mu <- c(0,0)\n",
    "T_square <- t((dbar_A - dbar_B) - mu) %*% solve(((1/n1) + (1/n2)) * S_pooled) %*% ((dbar_A - dbar_B) - mu)\n",
    "T_square"
   ]
  },
  {
   "cell_type": "code",
   "execution_count": 35,
   "id": "c2dbcf5f",
   "metadata": {
    "ExecuteTime": {
     "end_time": "2022-04-10T04:25:55.795500Z",
     "start_time": "2022-04-10T04:25:55.763Z"
    }
   },
   "outputs": [
    {
     "data": {
      "text/html": [
       "<table class=\"dataframe\">\n",
       "<caption>A matrix: 1 × 1 of type dbl</caption>\n",
       "<tbody>\n",
       "\t<tr><td>7.041195</td></tr>\n",
       "</tbody>\n",
       "</table>\n"
      ],
      "text/latex": [
       "A matrix: 1 × 1 of type dbl\n",
       "\\begin{tabular}{l}\n",
       "\t 7.041195\\\\\n",
       "\\end{tabular}\n"
      ],
      "text/markdown": [
       "\n",
       "A matrix: 1 × 1 of type dbl\n",
       "\n",
       "| 7.041195 |\n",
       "\n"
      ],
      "text/plain": [
       "     [,1]    \n",
       "[1,] 7.041195"
      ]
     },
     "metadata": {},
     "output_type": "display_data"
    }
   ],
   "source": [
    "p <- 2\n",
    "alpha <- 0.05 \n",
    "Ftable <- qf(1 - alpha, df1 = p, df2 = n1 + n2 - p - 1) %*% (n1 + n2 - 2) %*% p / (n1 + n2 - p - 1)\n",
    "Ftable"
   ]
  },
  {
   "cell_type": "raw",
   "id": "35217dc3",
   "metadata": {},
   "source": [
    "77.35112 > 7.041195, Tolak H0"
   ]
  },
  {
   "cell_type": "markdown",
   "id": "e53aa887",
   "metadata": {},
   "source": [
    "## Confidence Interval Simultaneous"
   ]
  },
  {
   "cell_type": "code",
   "execution_count": 51,
   "id": "a2b62ca1",
   "metadata": {
    "ExecuteTime": {
     "end_time": "2022-04-10T04:54:12.690522Z",
     "start_time": "2022-04-10T04:54:12.645Z"
    }
   },
   "outputs": [
    {
     "data": {
      "text/html": [
       "<table class=\"dataframe\">\n",
       "<caption>A matrix: 1 × 1 of type dbl</caption>\n",
       "<tbody>\n",
       "\t<tr><td>-2.896598</td></tr>\n",
       "</tbody>\n",
       "</table>\n"
      ],
      "text/latex": [
       "A matrix: 1 × 1 of type dbl\n",
       "\\begin{tabular}{l}\n",
       "\t -2.896598\\\\\n",
       "\\end{tabular}\n"
      ],
      "text/markdown": [
       "\n",
       "A matrix: 1 × 1 of type dbl\n",
       "\n",
       "| -2.896598 |\n",
       "\n"
      ],
      "text/plain": [
       "     [,1]     \n",
       "[1,] -2.896598"
      ]
     },
     "metadata": {},
     "output_type": "display_data"
    },
    {
     "data": {
      "text/html": [
       "<table class=\"dataframe\">\n",
       "<caption>A matrix: 1 × 1 of type dbl</caption>\n",
       "<tbody>\n",
       "\t<tr><td>1.32517</td></tr>\n",
       "</tbody>\n",
       "</table>\n"
      ],
      "text/latex": [
       "A matrix: 1 × 1 of type dbl\n",
       "\\begin{tabular}{l}\n",
       "\t 1.32517\\\\\n",
       "\\end{tabular}\n"
      ],
      "text/markdown": [
       "\n",
       "A matrix: 1 × 1 of type dbl\n",
       "\n",
       "| 1.32517 |\n",
       "\n"
      ],
      "text/plain": [
       "     [,1]   \n",
       "[1,] 1.32517"
      ]
     },
     "metadata": {},
     "output_type": "display_data"
    }
   ],
   "source": [
    "bottom_Efisiensi <-  dbar_A[1]-dbar_B[1] - Ftable*sqrt(((1/n1)+(1/n2))*S_pooled[1,1])\n",
    "upper_Efisiensi <- dbar_A[1]-dbar_B[1] + Ftable*sqrt(((1/n1)+(1/n2))*S_pooled[1,1])\n",
    "bottom_Efisiensi\n",
    "upper_Efisiensi"
   ]
  },
  {
   "cell_type": "code",
   "execution_count": 52,
   "id": "d6d6089e",
   "metadata": {
    "ExecuteTime": {
     "end_time": "2022-04-10T04:54:53.950331Z",
     "start_time": "2022-04-10T04:54:53.896Z"
    }
   },
   "outputs": [
    {
     "data": {
      "text/html": [
       "<table class=\"dataframe\">\n",
       "<caption>A matrix: 1 × 1 of type dbl</caption>\n",
       "<tbody>\n",
       "\t<tr><td>0.5556816</td></tr>\n",
       "</tbody>\n",
       "</table>\n"
      ],
      "text/latex": [
       "A matrix: 1 × 1 of type dbl\n",
       "\\begin{tabular}{l}\n",
       "\t 0.5556816\\\\\n",
       "\\end{tabular}\n"
      ],
      "text/markdown": [
       "\n",
       "A matrix: 1 × 1 of type dbl\n",
       "\n",
       "| 0.5556816 |\n",
       "\n"
      ],
      "text/plain": [
       "     [,1]     \n",
       "[1,] 0.5556816"
      ]
     },
     "metadata": {},
     "output_type": "display_data"
    },
    {
     "data": {
      "text/html": [
       "<table class=\"dataframe\">\n",
       "<caption>A matrix: 1 × 1 of type dbl</caption>\n",
       "<tbody>\n",
       "\t<tr><td>5.730033</td></tr>\n",
       "</tbody>\n",
       "</table>\n"
      ],
      "text/latex": [
       "A matrix: 1 × 1 of type dbl\n",
       "\\begin{tabular}{l}\n",
       "\t 5.730033\\\\\n",
       "\\end{tabular}\n"
      ],
      "text/markdown": [
       "\n",
       "A matrix: 1 × 1 of type dbl\n",
       "\n",
       "| 5.730033 |\n",
       "\n"
      ],
      "text/plain": [
       "     [,1]    \n",
       "[1,] 5.730033"
      ]
     },
     "metadata": {},
     "output_type": "display_data"
    }
   ],
   "source": [
    "bottom_Akselerasi <-  dbar_A[2]-dbar_B[2] - Ftable*sqrt(((1/n1)+(1/n2))*S_pooled[2,2])\n",
    "upper_Akselerasi <- dbar_A[2]-dbar_B[2] + Ftable*sqrt(((1/n1)+(1/n2))*S_pooled[2,2])\n",
    "bottom_Akselerasi\n",
    "upper_Akselerasi"
   ]
  },
  {
   "cell_type": "raw",
   "id": "55d08918",
   "metadata": {},
   "source": [
    "Akselerasi lebih baik model B"
   ]
  },
  {
   "cell_type": "code",
   "execution_count": 56,
   "id": "0237e27c",
   "metadata": {
    "ExecuteTime": {
     "end_time": "2022-04-10T05:06:39.828686Z",
     "start_time": "2022-04-10T05:06:39.790Z"
    },
    "scrolled": true
   },
   "outputs": [
    {
     "data": {
      "text/html": [
       "<table class=\"dataframe\">\n",
       "<caption>A data.frame: 14 × 4</caption>\n",
       "<thead>\n",
       "\t<tr><th scope=col>d_A_Efisiensi</th><th scope=col>d_A_Akselerasi</th><th scope=col>d_B_Efisiensi</th><th scope=col>d_B_Akselerasi</th></tr>\n",
       "\t<tr><th scope=col>&lt;dbl&gt;</th><th scope=col>&lt;dbl&gt;</th><th scope=col>&lt;dbl&gt;</th><th scope=col>&lt;dbl&gt;</th></tr>\n",
       "</thead>\n",
       "<tbody>\n",
       "\t<tr><td>1.0</td><td> 1</td><td>2.0</td><td>-2</td></tr>\n",
       "\t<tr><td>2.0</td><td> 0</td><td>3.5</td><td>-3</td></tr>\n",
       "\t<tr><td>1.5</td><td> 2</td><td>3.0</td><td>-3</td></tr>\n",
       "\t<tr><td>1.0</td><td> 0</td><td>3.5</td><td>-3</td></tr>\n",
       "\t<tr><td>0.5</td><td>-1</td><td>2.0</td><td>-3</td></tr>\n",
       "\t<tr><td>1.5</td><td> 1</td><td>3.0</td><td>-4</td></tr>\n",
       "\t<tr><td>2.5</td><td>-1</td><td>3.0</td><td>-2</td></tr>\n",
       "\t<tr><td>3.0</td><td> 1</td><td>1.5</td><td>-3</td></tr>\n",
       "\t<tr><td>3.5</td><td> 1</td><td>2.0</td><td>-1</td></tr>\n",
       "\t<tr><td>2.0</td><td> 0</td><td>3.0</td><td>-3</td></tr>\n",
       "\t<tr><td>2.0</td><td>-1</td><td>2.0</td><td>-4</td></tr>\n",
       "\t<tr><td>0.5</td><td> 1</td><td>2.5</td><td>-5</td></tr>\n",
       "\t<tr><td>1.0</td><td> 0</td><td>1.5</td><td>-2</td></tr>\n",
       "\t<tr><td>2.0</td><td> 0</td><td>2.5</td><td>-2</td></tr>\n",
       "</tbody>\n",
       "</table>\n"
      ],
      "text/latex": [
       "A data.frame: 14 × 4\n",
       "\\begin{tabular}{llll}\n",
       " d\\_A\\_Efisiensi & d\\_A\\_Akselerasi & d\\_B\\_Efisiensi & d\\_B\\_Akselerasi\\\\\n",
       " <dbl> & <dbl> & <dbl> & <dbl>\\\\\n",
       "\\hline\n",
       "\t 1.0 &  1 & 2.0 & -2\\\\\n",
       "\t 2.0 &  0 & 3.5 & -3\\\\\n",
       "\t 1.5 &  2 & 3.0 & -3\\\\\n",
       "\t 1.0 &  0 & 3.5 & -3\\\\\n",
       "\t 0.5 & -1 & 2.0 & -3\\\\\n",
       "\t 1.5 &  1 & 3.0 & -4\\\\\n",
       "\t 2.5 & -1 & 3.0 & -2\\\\\n",
       "\t 3.0 &  1 & 1.5 & -3\\\\\n",
       "\t 3.5 &  1 & 2.0 & -1\\\\\n",
       "\t 2.0 &  0 & 3.0 & -3\\\\\n",
       "\t 2.0 & -1 & 2.0 & -4\\\\\n",
       "\t 0.5 &  1 & 2.5 & -5\\\\\n",
       "\t 1.0 &  0 & 1.5 & -2\\\\\n",
       "\t 2.0 &  0 & 2.5 & -2\\\\\n",
       "\\end{tabular}\n"
      ],
      "text/markdown": [
       "\n",
       "A data.frame: 14 × 4\n",
       "\n",
       "| d_A_Efisiensi &lt;dbl&gt; | d_A_Akselerasi &lt;dbl&gt; | d_B_Efisiensi &lt;dbl&gt; | d_B_Akselerasi &lt;dbl&gt; |\n",
       "|---|---|---|---|\n",
       "| 1.0 |  1 | 2.0 | -2 |\n",
       "| 2.0 |  0 | 3.5 | -3 |\n",
       "| 1.5 |  2 | 3.0 | -3 |\n",
       "| 1.0 |  0 | 3.5 | -3 |\n",
       "| 0.5 | -1 | 2.0 | -3 |\n",
       "| 1.5 |  1 | 3.0 | -4 |\n",
       "| 2.5 | -1 | 3.0 | -2 |\n",
       "| 3.0 |  1 | 1.5 | -3 |\n",
       "| 3.5 |  1 | 2.0 | -1 |\n",
       "| 2.0 |  0 | 3.0 | -3 |\n",
       "| 2.0 | -1 | 2.0 | -4 |\n",
       "| 0.5 |  1 | 2.5 | -5 |\n",
       "| 1.0 |  0 | 1.5 | -2 |\n",
       "| 2.0 |  0 | 2.5 | -2 |\n",
       "\n"
      ],
      "text/plain": [
       "   d_A_Efisiensi d_A_Akselerasi d_B_Efisiensi d_B_Akselerasi\n",
       "1  1.0            1             2.0           -2            \n",
       "2  2.0            0             3.5           -3            \n",
       "3  1.5            2             3.0           -3            \n",
       "4  1.0            0             3.5           -3            \n",
       "5  0.5           -1             2.0           -3            \n",
       "6  1.5            1             3.0           -4            \n",
       "7  2.5           -1             3.0           -2            \n",
       "8  3.0            1             1.5           -3            \n",
       "9  3.5            1             2.0           -1            \n",
       "10 2.0            0             3.0           -3            \n",
       "11 2.0           -1             2.0           -4            \n",
       "12 0.5            1             2.5           -5            \n",
       "13 1.0            0             1.5           -2            \n",
       "14 2.0            0             2.5           -2            "
      ]
     },
     "metadata": {},
     "output_type": "display_data"
    }
   ],
   "source": [
    "diff_data"
   ]
  },
  {
   "cell_type": "code",
   "execution_count": 57,
   "id": "706a3033",
   "metadata": {
    "ExecuteTime": {
     "end_time": "2022-04-10T05:06:55.003864Z",
     "start_time": "2022-04-10T05:06:54.941Z"
    },
    "scrolled": false
   },
   "outputs": [
    {
     "data": {
      "text/html": [
       "<dl>\n",
       "\t<dt>$multivariateNormality</dt>\n",
       "\t\t<dd><table class=\"dataframe\">\n",
       "<caption>A data.frame: 1 × 4</caption>\n",
       "<thead>\n",
       "\t<tr><th scope=col>Test</th><th scope=col>HZ</th><th scope=col>p value</th><th scope=col>MVN</th></tr>\n",
       "\t<tr><th scope=col>&lt;chr&gt;</th><th scope=col>&lt;dbl&gt;</th><th scope=col>&lt;dbl&gt;</th><th scope=col>&lt;chr&gt;</th></tr>\n",
       "</thead>\n",
       "<tbody>\n",
       "\t<tr><td>Henze-Zirkler</td><td>0.7089232</td><td>0.2926107</td><td>YES</td></tr>\n",
       "</tbody>\n",
       "</table>\n",
       "</dd>\n",
       "\t<dt>$univariateNormality</dt>\n",
       "\t\t<dd><table class=\"dataframe\">\n",
       "<caption>A data.frame: 4 × 5</caption>\n",
       "<thead>\n",
       "\t<tr><th></th><th scope=col>Test</th><th scope=col>Variable</th><th scope=col>Statistic</th><th scope=col>p value</th><th scope=col>Normality</th></tr>\n",
       "\t<tr><th></th><th scope=col>&lt;I&lt;chr&gt;&gt;</th><th scope=col>&lt;I&lt;chr&gt;&gt;</th><th scope=col>&lt;I&lt;chr&gt;&gt;</th><th scope=col>&lt;I&lt;chr&gt;&gt;</th><th scope=col>&lt;I&lt;chr&gt;&gt;</th></tr>\n",
       "</thead>\n",
       "<tbody>\n",
       "\t<tr><th scope=row>1</th><td>Anderson-Darling</td><td>d_A_Efisiensi </td><td>   0.3384</td><td>   0.4475</td><td>   YES   </td></tr>\n",
       "\t<tr><th scope=row>2</th><td>Anderson-Darling</td><td>d_A_Akselerasi</td><td>   0.7392</td><td>   0.0412</td><td>   NO    </td></tr>\n",
       "\t<tr><th scope=row>3</th><td>Anderson-Darling</td><td>d_B_Efisiensi </td><td>   0.5324</td><td>   0.1420</td><td>   YES   </td></tr>\n",
       "\t<tr><th scope=row>4</th><td>Anderson-Darling</td><td>d_B_Akselerasi</td><td>   0.6329</td><td>   0.0784</td><td>   YES   </td></tr>\n",
       "</tbody>\n",
       "</table>\n",
       "</dd>\n",
       "\t<dt>$Descriptives</dt>\n",
       "\t\t<dd><table class=\"dataframe\">\n",
       "<caption>A data.frame: 4 × 10</caption>\n",
       "<thead>\n",
       "\t<tr><th></th><th scope=col>n</th><th scope=col>Mean</th><th scope=col>Std.Dev</th><th scope=col>Median</th><th scope=col>Min</th><th scope=col>Max</th><th scope=col>25th</th><th scope=col>75th</th><th scope=col>Skew</th><th scope=col>Kurtosis</th></tr>\n",
       "\t<tr><th></th><th scope=col>&lt;int&gt;</th><th scope=col>&lt;dbl&gt;</th><th scope=col>&lt;dbl&gt;</th><th scope=col>&lt;dbl&gt;</th><th scope=col>&lt;dbl&gt;</th><th scope=col>&lt;dbl&gt;</th><th scope=col>&lt;dbl&gt;</th><th scope=col>&lt;dbl&gt;</th><th scope=col>&lt;dbl&gt;</th><th scope=col>&lt;dbl&gt;</th></tr>\n",
       "</thead>\n",
       "<tbody>\n",
       "\t<tr><th scope=row>d_A_Efisiensi</th><td>14</td><td> 1.7142857</td><td>0.8925824</td><td> 1.75</td><td> 0.5</td><td> 3.5</td><td> 1</td><td> 2</td><td> 0.37205538</td><td>-0.9246657</td></tr>\n",
       "\t<tr><th scope=row>d_A_Akselerasi</th><td>14</td><td> 0.2857143</td><td>0.9138735</td><td> 0.00</td><td>-1.0</td><td> 2.0</td><td> 0</td><td> 1</td><td> 0.03437875</td><td>-1.1393663</td></tr>\n",
       "\t<tr><th scope=row>d_B_Efisiensi</th><td>14</td><td> 2.5000000</td><td>0.6793662</td><td> 2.50</td><td> 1.5</td><td> 3.5</td><td> 2</td><td> 3</td><td> 0.00000000</td><td>-1.4910714</td></tr>\n",
       "\t<tr><th scope=row>d_B_Akselerasi</th><td>14</td><td>-2.8571429</td><td>1.0271052</td><td>-3.00</td><td>-5.0</td><td>-1.0</td><td>-3</td><td>-2</td><td>-0.25830473</td><td>-0.5255368</td></tr>\n",
       "</tbody>\n",
       "</table>\n",
       "</dd>\n",
       "\t<dt>$multivariateOutliers</dt>\n",
       "\t\t<dd>NULL</dd>\n",
       "</dl>\n"
      ],
      "text/latex": [
       "\\begin{description}\n",
       "\\item[\\$multivariateNormality] A data.frame: 1 × 4\n",
       "\\begin{tabular}{llll}\n",
       " Test & HZ & p value & MVN\\\\\n",
       " <chr> & <dbl> & <dbl> & <chr>\\\\\n",
       "\\hline\n",
       "\t Henze-Zirkler & 0.7089232 & 0.2926107 & YES\\\\\n",
       "\\end{tabular}\n",
       "\n",
       "\\item[\\$univariateNormality] A data.frame: 4 × 5\n",
       "\\begin{tabular}{r|lllll}\n",
       "  & Test & Variable & Statistic & p value & Normality\\\\\n",
       "  & <I<chr>> & <I<chr>> & <I<chr>> & <I<chr>> & <I<chr>>\\\\\n",
       "\\hline\n",
       "\t1 & Anderson-Darling & d\\_A\\_Efisiensi  &    0.3384 &    0.4475 &    YES   \\\\\n",
       "\t2 & Anderson-Darling & d\\_A\\_Akselerasi &    0.7392 &    0.0412 &    NO    \\\\\n",
       "\t3 & Anderson-Darling & d\\_B\\_Efisiensi  &    0.5324 &    0.1420 &    YES   \\\\\n",
       "\t4 & Anderson-Darling & d\\_B\\_Akselerasi &    0.6329 &    0.0784 &    YES   \\\\\n",
       "\\end{tabular}\n",
       "\n",
       "\\item[\\$Descriptives] A data.frame: 4 × 10\n",
       "\\begin{tabular}{r|llllllllll}\n",
       "  & n & Mean & Std.Dev & Median & Min & Max & 25th & 75th & Skew & Kurtosis\\\\\n",
       "  & <int> & <dbl> & <dbl> & <dbl> & <dbl> & <dbl> & <dbl> & <dbl> & <dbl> & <dbl>\\\\\n",
       "\\hline\n",
       "\td\\_A\\_Efisiensi & 14 &  1.7142857 & 0.8925824 &  1.75 &  0.5 &  3.5 &  1 &  2 &  0.37205538 & -0.9246657\\\\\n",
       "\td\\_A\\_Akselerasi & 14 &  0.2857143 & 0.9138735 &  0.00 & -1.0 &  2.0 &  0 &  1 &  0.03437875 & -1.1393663\\\\\n",
       "\td\\_B\\_Efisiensi & 14 &  2.5000000 & 0.6793662 &  2.50 &  1.5 &  3.5 &  2 &  3 &  0.00000000 & -1.4910714\\\\\n",
       "\td\\_B\\_Akselerasi & 14 & -2.8571429 & 1.0271052 & -3.00 & -5.0 & -1.0 & -3 & -2 & -0.25830473 & -0.5255368\\\\\n",
       "\\end{tabular}\n",
       "\n",
       "\\item[\\$multivariateOutliers] NULL\n",
       "\\end{description}\n"
      ],
      "text/markdown": [
       "$multivariateNormality\n",
       ":   \n",
       "A data.frame: 1 × 4\n",
       "\n",
       "| Test &lt;chr&gt; | HZ &lt;dbl&gt; | p value &lt;dbl&gt; | MVN &lt;chr&gt; |\n",
       "|---|---|---|---|\n",
       "| Henze-Zirkler | 0.7089232 | 0.2926107 | YES |\n",
       "\n",
       "\n",
       "$univariateNormality\n",
       ":   \n",
       "A data.frame: 4 × 5\n",
       "\n",
       "| <!--/--> | Test &lt;I&lt;chr&gt;&gt; | Variable &lt;I&lt;chr&gt;&gt; | Statistic &lt;I&lt;chr&gt;&gt; | p value &lt;I&lt;chr&gt;&gt; | Normality &lt;I&lt;chr&gt;&gt; |\n",
       "|---|---|---|---|---|---|\n",
       "| 1 | Anderson-Darling | d_A_Efisiensi  |    0.3384 |    0.4475 |    YES    |\n",
       "| 2 | Anderson-Darling | d_A_Akselerasi |    0.7392 |    0.0412 |    NO     |\n",
       "| 3 | Anderson-Darling | d_B_Efisiensi  |    0.5324 |    0.1420 |    YES    |\n",
       "| 4 | Anderson-Darling | d_B_Akselerasi |    0.6329 |    0.0784 |    YES    |\n",
       "\n",
       "\n",
       "$Descriptives\n",
       ":   \n",
       "A data.frame: 4 × 10\n",
       "\n",
       "| <!--/--> | n &lt;int&gt; | Mean &lt;dbl&gt; | Std.Dev &lt;dbl&gt; | Median &lt;dbl&gt; | Min &lt;dbl&gt; | Max &lt;dbl&gt; | 25th &lt;dbl&gt; | 75th &lt;dbl&gt; | Skew &lt;dbl&gt; | Kurtosis &lt;dbl&gt; |\n",
       "|---|---|---|---|---|---|---|---|---|---|---|\n",
       "| d_A_Efisiensi | 14 |  1.7142857 | 0.8925824 |  1.75 |  0.5 |  3.5 |  1 |  2 |  0.37205538 | -0.9246657 |\n",
       "| d_A_Akselerasi | 14 |  0.2857143 | 0.9138735 |  0.00 | -1.0 |  2.0 |  0 |  1 |  0.03437875 | -1.1393663 |\n",
       "| d_B_Efisiensi | 14 |  2.5000000 | 0.6793662 |  2.50 |  1.5 |  3.5 |  2 |  3 |  0.00000000 | -1.4910714 |\n",
       "| d_B_Akselerasi | 14 | -2.8571429 | 1.0271052 | -3.00 | -5.0 | -1.0 | -3 | -2 | -0.25830473 | -0.5255368 |\n",
       "\n",
       "\n",
       "$multivariateOutliers\n",
       ":   NULL\n",
       "\n",
       "\n"
      ],
      "text/plain": [
       "$multivariateNormality\n",
       "           Test        HZ   p value MVN\n",
       "1 Henze-Zirkler 0.7089232 0.2926107 YES\n",
       "\n",
       "$univariateNormality\n",
       "              Test       Variable Statistic   p value Normality\n",
       "1 Anderson-Darling d_A_Efisiensi     0.3384    0.4475    YES   \n",
       "2 Anderson-Darling d_A_Akselerasi    0.7392    0.0412    NO    \n",
       "3 Anderson-Darling d_B_Efisiensi     0.5324    0.1420    YES   \n",
       "4 Anderson-Darling d_B_Akselerasi    0.6329    0.0784    YES   \n",
       "\n",
       "$Descriptives\n",
       "                n       Mean   Std.Dev Median  Min  Max 25th 75th        Skew\n",
       "d_A_Efisiensi  14  1.7142857 0.8925824   1.75  0.5  3.5    1    2  0.37205538\n",
       "d_A_Akselerasi 14  0.2857143 0.9138735   0.00 -1.0  2.0    0    1  0.03437875\n",
       "d_B_Efisiensi  14  2.5000000 0.6793662   2.50  1.5  3.5    2    3  0.00000000\n",
       "d_B_Akselerasi 14 -2.8571429 1.0271052  -3.00 -5.0 -1.0   -3   -2 -0.25830473\n",
       "                 Kurtosis\n",
       "d_A_Efisiensi  -0.9246657\n",
       "d_A_Akselerasi -1.1393663\n",
       "d_B_Efisiensi  -1.4910714\n",
       "d_B_Akselerasi -0.5255368\n",
       "\n",
       "$multivariateOutliers\n",
       "NULL\n"
      ]
     },
     "metadata": {},
     "output_type": "display_data"
    }
   ],
   "source": [
    "mvn(data = diff_data, multivariatePlot = 'plot', showOutliers = TRUE)"
   ]
  },
  {
   "cell_type": "code",
   "execution_count": 58,
   "id": "5f3f3456",
   "metadata": {
    "ExecuteTime": {
     "end_time": "2022-04-10T05:07:36.770395Z",
     "start_time": "2022-04-10T05:07:36.636Z"
    }
   },
   "outputs": [
    {
     "data": {
      "text/plain": [
       "$multivariateOutliers\n",
       "NULL\n"
      ]
     },
     "metadata": {},
     "output_type": "display_data"
    },
    {
     "data": {
      "image/png": "[encoded data removed]",
      "text/plain": [
       "Plot with title \"Chi-Square Q-Q Plot\""
      ]
     },
     "metadata": {
      "image/png": {
       "height": 420,
       "width": 420
      }
     },
     "output_type": "display_data"
    }
   ],
   "source": [
    "mvn(diff_data, multivariatePlot = \"qq\", showOutliers = TRUE)[4]"
   ]
  },
  {
   "cell_type": "markdown",
   "id": "08afed8d",
   "metadata": {},
   "source": [
    "# 2. Manova"
   ]
  },
  {
   "cell_type": "code",
   "execution_count": 61,
   "id": "d34164d1",
   "metadata": {
    "ExecuteTime": {
     "end_time": "2022-04-10T05:24:05.828815Z",
     "start_time": "2022-04-10T05:24:05.771Z"
    },
    "scrolled": true
   },
   "outputs": [
    {
     "data": {
      "text/html": [
       "<table class=\"dataframe\">\n",
       "<caption>A data.frame: 25 × 6</caption>\n",
       "<thead>\n",
       "\t<tr><th scope=col>Bank</th><th scope=col>NPL</th><th scope=col>LDR</th><th scope=col>ROA</th><th scope=col>CAR</th><th scope=col>Rating</th></tr>\n",
       "\t<tr><th scope=col>&lt;chr&gt;</th><th scope=col>&lt;dbl&gt;</th><th scope=col>&lt;dbl&gt;</th><th scope=col>&lt;dbl&gt;</th><th scope=col>&lt;dbl&gt;</th><th scope=col>&lt;dbl&gt;</th></tr>\n",
       "</thead>\n",
       "<tbody>\n",
       "\t<tr><td>A</td><td> 9.0</td><td>101</td><td>0.20</td><td> 8.5</td><td>1</td></tr>\n",
       "\t<tr><td>B</td><td>10.0</td><td>110</td><td>0.80</td><td> 6.2</td><td>1</td></tr>\n",
       "\t<tr><td>C</td><td>15.0</td><td>115</td><td>0.50</td><td> 4.5</td><td>1</td></tr>\n",
       "\t<tr><td>D</td><td>14.0</td><td>106</td><td>1.20</td><td> 5.2</td><td>1</td></tr>\n",
       "\t<tr><td>E</td><td>16.0</td><td>120</td><td>1.80</td><td> 7.6</td><td>1</td></tr>\n",
       "\t<tr><td>F</td><td>21.0</td><td>118</td><td>1.30</td><td> 5.8</td><td>1</td></tr>\n",
       "\t<tr><td>G</td><td> 8.0</td><td>100</td><td>0.90</td><td> 6.8</td><td>2</td></tr>\n",
       "\t<tr><td>H</td><td> 6.0</td><td> 82</td><td>0.70</td><td> 7.5</td><td>2</td></tr>\n",
       "\t<tr><td>I</td><td> 5.0</td><td> 85</td><td>1.40</td><td> 8.4</td><td>2</td></tr>\n",
       "\t<tr><td>J</td><td> 6.0</td><td> 80</td><td>1.50</td><td> 8.2</td><td>2</td></tr>\n",
       "\t<tr><td>K</td><td> 7.0</td><td> 90</td><td>0.90</td><td> 9.0</td><td>2</td></tr>\n",
       "\t<tr><td>L</td><td> 8.0</td><td> 95</td><td>1.30</td><td> 6.4</td><td>2</td></tr>\n",
       "\t<tr><td>M</td><td> 7.0</td><td> 82</td><td>2.00</td><td> 5.8</td><td>2</td></tr>\n",
       "\t<tr><td>N</td><td> 6.5</td><td> 85</td><td>2.50</td><td> 8.4</td><td>2</td></tr>\n",
       "\t<tr><td>O</td><td> 2.0</td><td> 60</td><td>0.40</td><td> 7.9</td><td>3</td></tr>\n",
       "\t<tr><td>P</td><td> 4.0</td><td> 72</td><td>0.75</td><td> 8.1</td><td>3</td></tr>\n",
       "\t<tr><td>Q</td><td> 4.0</td><td> 70</td><td>1.40</td><td> 7.0</td><td>3</td></tr>\n",
       "\t<tr><td>R</td><td> 1.0</td><td> 62</td><td>1.10</td><td> 8.5</td><td>3</td></tr>\n",
       "\t<tr><td>S</td><td> 3.0</td><td> 70</td><td>0.90</td><td> 9.0</td><td>3</td></tr>\n",
       "\t<tr><td>T</td><td> 2.4</td><td> 68</td><td>1.60</td><td>12.0</td><td>3</td></tr>\n",
       "\t<tr><td>U</td><td> 3.2</td><td> 73</td><td>0.40</td><td> 7.4</td><td>3</td></tr>\n",
       "\t<tr><td>V</td><td> 5.0</td><td> 78</td><td>1.50</td><td> 8.0</td><td>3</td></tr>\n",
       "\t<tr><td>W</td><td> 1.6</td><td> 65</td><td>2.40</td><td> 7.0</td><td>3</td></tr>\n",
       "\t<tr><td>X</td><td> 3.0</td><td> 75</td><td>1.20</td><td> 9.2</td><td>3</td></tr>\n",
       "\t<tr><td>Y</td><td> 2.0</td><td> 58</td><td>0.80</td><td> 6.4</td><td>3</td></tr>\n",
       "</tbody>\n",
       "</table>\n"
      ],
      "text/latex": [
       "A data.frame: 25 × 6\n",
       "\\begin{tabular}{llllll}\n",
       " Bank & NPL & LDR & ROA & CAR & Rating\\\\\n",
       " <chr> & <dbl> & <dbl> & <dbl> & <dbl> & <dbl>\\\\\n",
       "\\hline\n",
       "\t A &  9.0 & 101 & 0.20 &  8.5 & 1\\\\\n",
       "\t B & 10.0 & 110 & 0.80 &  6.2 & 1\\\\\n",
       "\t C & 15.0 & 115 & 0.50 &  4.5 & 1\\\\\n",
       "\t D & 14.0 & 106 & 1.20 &  5.2 & 1\\\\\n",
       "\t E & 16.0 & 120 & 1.80 &  7.6 & 1\\\\\n",
       "\t F & 21.0 & 118 & 1.30 &  5.8 & 1\\\\\n",
       "\t G &  8.0 & 100 & 0.90 &  6.8 & 2\\\\\n",
       "\t H &  6.0 &  82 & 0.70 &  7.5 & 2\\\\\n",
       "\t I &  5.0 &  85 & 1.40 &  8.4 & 2\\\\\n",
       "\t J &  6.0 &  80 & 1.50 &  8.2 & 2\\\\\n",
       "\t K &  7.0 &  90 & 0.90 &  9.0 & 2\\\\\n",
       "\t L &  8.0 &  95 & 1.30 &  6.4 & 2\\\\\n",
       "\t M &  7.0 &  82 & 2.00 &  5.8 & 2\\\\\n",
       "\t N &  6.5 &  85 & 2.50 &  8.4 & 2\\\\\n",
       "\t O &  2.0 &  60 & 0.40 &  7.9 & 3\\\\\n",
       "\t P &  4.0 &  72 & 0.75 &  8.1 & 3\\\\\n",
       "\t Q &  4.0 &  70 & 1.40 &  7.0 & 3\\\\\n",
       "\t R &  1.0 &  62 & 1.10 &  8.5 & 3\\\\\n",
       "\t S &  3.0 &  70 & 0.90 &  9.0 & 3\\\\\n",
       "\t T &  2.4 &  68 & 1.60 & 12.0 & 3\\\\\n",
       "\t U &  3.2 &  73 & 0.40 &  7.4 & 3\\\\\n",
       "\t V &  5.0 &  78 & 1.50 &  8.0 & 3\\\\\n",
       "\t W &  1.6 &  65 & 2.40 &  7.0 & 3\\\\\n",
       "\t X &  3.0 &  75 & 1.20 &  9.2 & 3\\\\\n",
       "\t Y &  2.0 &  58 & 0.80 &  6.4 & 3\\\\\n",
       "\\end{tabular}\n"
      ],
      "text/markdown": [
       "\n",
       "A data.frame: 25 × 6\n",
       "\n",
       "| Bank &lt;chr&gt; | NPL &lt;dbl&gt; | LDR &lt;dbl&gt; | ROA &lt;dbl&gt; | CAR &lt;dbl&gt; | Rating &lt;dbl&gt; |\n",
       "|---|---|---|---|---|---|\n",
       "| A |  9.0 | 101 | 0.20 |  8.5 | 1 |\n",
       "| B | 10.0 | 110 | 0.80 |  6.2 | 1 |\n",
       "| C | 15.0 | 115 | 0.50 |  4.5 | 1 |\n",
       "| D | 14.0 | 106 | 1.20 |  5.2 | 1 |\n",
       "| E | 16.0 | 120 | 1.80 |  7.6 | 1 |\n",
       "| F | 21.0 | 118 | 1.30 |  5.8 | 1 |\n",
       "| G |  8.0 | 100 | 0.90 |  6.8 | 2 |\n",
       "| H |  6.0 |  82 | 0.70 |  7.5 | 2 |\n",
       "| I |  5.0 |  85 | 1.40 |  8.4 | 2 |\n",
       "| J |  6.0 |  80 | 1.50 |  8.2 | 2 |\n",
       "| K |  7.0 |  90 | 0.90 |  9.0 | 2 |\n",
       "| L |  8.0 |  95 | 1.30 |  6.4 | 2 |\n",
       "| M |  7.0 |  82 | 2.00 |  5.8 | 2 |\n",
       "| N |  6.5 |  85 | 2.50 |  8.4 | 2 |\n",
       "| O |  2.0 |  60 | 0.40 |  7.9 | 3 |\n",
       "| P |  4.0 |  72 | 0.75 |  8.1 | 3 |\n",
       "| Q |  4.0 |  70 | 1.40 |  7.0 | 3 |\n",
       "| R |  1.0 |  62 | 1.10 |  8.5 | 3 |\n",
       "| S |  3.0 |  70 | 0.90 |  9.0 | 3 |\n",
       "| T |  2.4 |  68 | 1.60 | 12.0 | 3 |\n",
       "| U |  3.2 |  73 | 0.40 |  7.4 | 3 |\n",
       "| V |  5.0 |  78 | 1.50 |  8.0 | 3 |\n",
       "| W |  1.6 |  65 | 2.40 |  7.0 | 3 |\n",
       "| X |  3.0 |  75 | 1.20 |  9.2 | 3 |\n",
       "| Y |  2.0 |  58 | 0.80 |  6.4 | 3 |\n",
       "\n"
      ],
      "text/plain": [
       "   Bank NPL  LDR ROA  CAR  Rating\n",
       "1  A     9.0 101 0.20  8.5 1     \n",
       "2  B    10.0 110 0.80  6.2 1     \n",
       "3  C    15.0 115 0.50  4.5 1     \n",
       "4  D    14.0 106 1.20  5.2 1     \n",
       "5  E    16.0 120 1.80  7.6 1     \n",
       "6  F    21.0 118 1.30  5.8 1     \n",
       "7  G     8.0 100 0.90  6.8 2     \n",
       "8  H     6.0  82 0.70  7.5 2     \n",
       "9  I     5.0  85 1.40  8.4 2     \n",
       "10 J     6.0  80 1.50  8.2 2     \n",
       "11 K     7.0  90 0.90  9.0 2     \n",
       "12 L     8.0  95 1.30  6.4 2     \n",
       "13 M     7.0  82 2.00  5.8 2     \n",
       "14 N     6.5  85 2.50  8.4 2     \n",
       "15 O     2.0  60 0.40  7.9 3     \n",
       "16 P     4.0  72 0.75  8.1 3     \n",
       "17 Q     4.0  70 1.40  7.0 3     \n",
       "18 R     1.0  62 1.10  8.5 3     \n",
       "19 S     3.0  70 0.90  9.0 3     \n",
       "20 T     2.4  68 1.60 12.0 3     \n",
       "21 U     3.2  73 0.40  7.4 3     \n",
       "22 V     5.0  78 1.50  8.0 3     \n",
       "23 W     1.6  65 2.40  7.0 3     \n",
       "24 X     3.0  75 1.20  9.2 3     \n",
       "25 Y     2.0  58 0.80  6.4 3     "
      ]
     },
     "metadata": {},
     "output_type": "display_data"
    }
   ],
   "source": [
    "Bank<-c('A','B','C','D','E','F','G','H','I','J','K','L','M','N','O','P','Q','R','S','T','U','V','W','X','Y')\n",
    "NPL<-c(9,10,15,14,16,21,8,6,5,6,7,8,7,6.5,2,4,4,1,3,2.4,3.2,5,1.6,3,2)\n",
    "LDR<-c(101,110,115,106,120,118,100,82,85,80,90,95,82,85,60,72,70,62,70,68,73,78,65,75,58)\n",
    "ROA<-c(0.2,0.8,0.5,1.2,1.8,1.3,0.9,0.7,1.4,1.5,0.9,1.3,2,2.5,0.4,0.75,1.4,1.1,0.9,1.6,0.4,1.5,2.4,1.2,0.8)\n",
    "CAR<-c(8.5,6.2,4.5,5.2,7.6,5.8,6.8,7.5,8.4,8.2,9,6.4,5.8,8.4,7.9,8.1,7,8.5,9,12,7.4,8,7,9.2,6.4)\n",
    "Rating<-c(1,1,1,1,1,1,2,2,2,2,2,2,2,2,3,3,3,3,3,3,3,3,3,3,3)\n",
    "dataBank<- data.frame(Bank,NPL,LDR,ROA,CAR,Rating)\n",
    "dataBank"
   ]
  },
  {
   "cell_type": "code",
   "execution_count": 62,
   "id": "8514449f",
   "metadata": {
    "ExecuteTime": {
     "end_time": "2022-04-10T05:25:37.673484Z",
     "start_time": "2022-04-10T05:25:37.610Z"
    },
    "scrolled": true
   },
   "outputs": [
    {
     "data": {
      "text/plain": [
       "Call:\n",
       "   manova(model)\n",
       "\n",
       "Terms:\n",
       "                 rating Residuals\n",
       "NPL             498.519   116.368\n",
       "LDR             7388.61   1023.39\n",
       "ROA               0.686     7.695\n",
       "CAR              14.422    43.221\n",
       "Deg. of Freedom       2        22\n",
       "\n",
       "Residual standard errors: 2.299877 6.820391 0.5914042 1.401632\n",
       "Estimated effects may be unbalanced"
      ]
     },
     "metadata": {},
     "output_type": "display_data"
    }
   ],
   "source": [
    "X <- as.matrix(dataBank[,c(\"NPL\",\"LDR\",\"ROA\",\"CAR\")])\n",
    "rating <- as.factor(dataBank$Rating)\n",
    "model <- lm(X ~ rating)\n",
    "BankManova <- manova(model)\n",
    "BankManova"
   ]
  },
  {
   "cell_type": "code",
   "execution_count": 63,
   "id": "eaeb2171",
   "metadata": {
    "ExecuteTime": {
     "end_time": "2022-04-10T05:25:59.599478Z",
     "start_time": "2022-04-10T05:25:59.559Z"
    }
   },
   "outputs": [
    {
     "data": {
      "text/plain": [
       "          Df    Wilks approx F num Df den Df    Pr(>F)    \n",
       "rating     2 0.092804   10.842      8     38 8.606e-08 ***\n",
       "Residuals 22                                              \n",
       "---\n",
       "Signif. codes:  0 '***' 0.001 '**' 0.01 '*' 0.05 '.' 0.1 ' ' 1"
      ]
     },
     "metadata": {},
     "output_type": "display_data"
    }
   ],
   "source": [
    "summary(BankManova, test=\"Wilks\")"
   ]
  },
  {
   "cell_type": "raw",
   "id": "676967da",
   "metadata": {},
   "source": [
    "8.606e-08 < 0.05, p-value < alpha. Tolak H0.\n",
    "Terdapat cukup bukti bahwa terdapat perbedaan rata-rata indikator pada 3 kategori rating. "
   ]
  },
  {
   "cell_type": "code",
   "execution_count": 64,
   "id": "80a4a995",
   "metadata": {
    "ExecuteTime": {
     "end_time": "2022-04-10T05:30:27.758076Z",
     "start_time": "2022-04-10T05:30:27.705Z"
    },
    "scrolled": false
   },
   "outputs": [
    {
     "data": {
      "text/plain": [
       " Response NPL :\n",
       "            Df Sum Sq Mean Sq F value    Pr(>F)    \n",
       "rating       2 498.52 249.259  47.124 1.115e-08 ***\n",
       "Residuals   22 116.37   5.289                      \n",
       "---\n",
       "Signif. codes:  0 '***' 0.001 '**' 0.01 '*' 0.05 '.' 0.1 ' ' 1\n",
       "\n",
       " Response LDR :\n",
       "            Df Sum Sq Mean Sq F value    Pr(>F)    \n",
       "rating       2 7388.6  3694.3  79.417 8.641e-11 ***\n",
       "Residuals   22 1023.4    46.5                      \n",
       "---\n",
       "Signif. codes:  0 '***' 0.001 '**' 0.01 '*' 0.05 '.' 0.1 ' ' 1\n",
       "\n",
       " Response ROA :\n",
       "            Df Sum Sq Mean Sq F value Pr(>F)\n",
       "rating       2 0.6857 0.34285  0.9803  0.391\n",
       "Residuals   22 7.6947 0.34976               \n",
       "\n",
       " Response CAR :\n",
       "            Df Sum Sq Mean Sq F value  Pr(>F)  \n",
       "rating       2 14.422  7.2109  3.6705 0.04211 *\n",
       "Residuals   22 43.221  1.9646                  \n",
       "---\n",
       "Signif. codes:  0 '***' 0.001 '**' 0.01 '*' 0.05 '.' 0.1 ' ' 1\n"
      ]
     },
     "metadata": {},
     "output_type": "display_data"
    }
   ],
   "source": [
    "summary.aov(BankManova)"
   ]
  },
  {
   "cell_type": "raw",
   "id": "634c9121",
   "metadata": {},
   "source": [
    "Variabel yang memberikan pengaruh perbedaan adalah NPL, LDR, CAR"
   ]
  }
 ],
 "metadata": {
  "kernelspec": {
   "display_name": "R",
   "language": "R",
   "name": "ir"
  },
  "language_info": {
   "codemirror_mode": "r",
   "file_extension": ".r",
   "mimetype": "text/x-r-source",
   "name": "R",
   "pygments_lexer": "r",
   "version": "4.0.5"
  },
  "toc": {
   "base_numbering": 1,
   "nav_menu": {},
   "number_sections": true,
   "sideBar": true,
   "skip_h1_title": false,
   "title_cell": "Table of Contents",
   "title_sidebar": "Contents",
   "toc_cell": false,
   "toc_position": {},
   "toc_section_display": true,
   "toc_window_display": false
  }
 },
 "nbformat": 4,
 "nbformat_minor": 5
}
