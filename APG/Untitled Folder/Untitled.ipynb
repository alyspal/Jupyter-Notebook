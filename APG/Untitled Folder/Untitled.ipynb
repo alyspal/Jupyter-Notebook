{
 "cells": [
  {
   "cell_type": "code",
   "execution_count": 26,
   "id": "48054403",
   "metadata": {
    "ExecuteTime": {
     "end_time": "2022-04-11T07:05:34.540384Z",
     "start_time": "2022-04-11T07:05:34.507Z"
    }
   },
   "outputs": [
    {
     "data": {
      "text/html": [
       "<table class=\"dataframe\">\n",
       "<caption>A matrix: 1 × 3 of type dbl</caption>\n",
       "<tbody>\n",
       "\t<tr><td>-44.05</td><td>98.35</td><td>41.65</td></tr>\n",
       "</tbody>\n",
       "</table>\n"
      ],
      "text/latex": [
       "A matrix: 1 × 3 of type dbl\n",
       "\\begin{tabular}{lll}\n",
       "\t -44.05 & 98.35 & 41.65\\\\\n",
       "\\end{tabular}\n"
      ],
      "text/markdown": [
       "\n",
       "A matrix: 1 × 3 of type dbl\n",
       "\n",
       "| -44.05 | 98.35 | 41.65 |\n",
       "\n"
      ],
      "text/plain": [
       "     [,1]   [,2]  [,3] \n",
       "[1,] -44.05 98.35 41.65"
      ]
     },
     "metadata": {},
     "output_type": "display_data"
    }
   ],
   "source": [
    "n <- 20\n",
    "p <- 3\n",
    "d <- matrix(c(-44.05, 98.35, 41.65), ncol=3, byrow=T)\n",
    "d"
   ]
  },
  {
   "cell_type": "code",
   "execution_count": 27,
   "id": "618c75d9",
   "metadata": {
    "ExecuteTime": {
     "end_time": "2022-04-11T07:05:38.117820Z",
     "start_time": "2022-04-11T07:05:38.094Z"
    }
   },
   "outputs": [],
   "source": [
    "xbar <- t(d)"
   ]
  },
  {
   "cell_type": "code",
   "execution_count": 28,
   "id": "1d4d3883",
   "metadata": {
    "ExecuteTime": {
     "end_time": "2022-04-11T07:05:38.445458Z",
     "start_time": "2022-04-11T07:05:38.408Z"
    }
   },
   "outputs": [
    {
     "data": {
      "text/html": [
       "<table class=\"dataframe\">\n",
       "<caption>A matrix: 3 × 3 of type dbl</caption>\n",
       "<tbody>\n",
       "\t<tr><td>1748.89</td><td>218.91</td><td> 718.67</td></tr>\n",
       "\t<tr><td> 218.91</td><td>321.92</td><td> 345.23</td></tr>\n",
       "\t<tr><td> 718.67</td><td>345.23</td><td>1216.77</td></tr>\n",
       "</tbody>\n",
       "</table>\n"
      ],
      "text/latex": [
       "A matrix: 3 × 3 of type dbl\n",
       "\\begin{tabular}{lll}\n",
       "\t 1748.89 & 218.91 &  718.67\\\\\n",
       "\t  218.91 & 321.92 &  345.23\\\\\n",
       "\t  718.67 & 345.23 & 1216.77\\\\\n",
       "\\end{tabular}\n"
      ],
      "text/markdown": [
       "\n",
       "A matrix: 3 × 3 of type dbl\n",
       "\n",
       "| 1748.89 | 218.91 |  718.67 |\n",
       "|  218.91 | 321.92 |  345.23 |\n",
       "|  718.67 | 345.23 | 1216.77 |\n",
       "\n"
      ],
      "text/plain": [
       "     [,1]    [,2]   [,3]   \n",
       "[1,] 1748.89 218.91  718.67\n",
       "[2,]  218.91 321.92  345.23\n",
       "[3,]  718.67 345.23 1216.77"
      ]
     },
     "metadata": {},
     "output_type": "display_data"
    }
   ],
   "source": [
    "S <- matrix(c(1748.89, 218.91, 718.67,\n",
    "              218.91,  321.92, 345.23,\n",
    "              718.67,  345.23, 1216.77), ncol=3, byrow=T)\n",
    "S"
   ]
  },
  {
   "cell_type": "code",
   "execution_count": 29,
   "id": "d491b2bb",
   "metadata": {
    "ExecuteTime": {
     "end_time": "2022-04-11T07:05:38.741059Z",
     "start_time": "2022-04-11T07:05:38.703Z"
    }
   },
   "outputs": [
    {
     "data": {
      "text/html": [
       "<table class=\"dataframe\">\n",
       "<caption>A matrix: 3 × 3 of type dbl</caption>\n",
       "<tbody>\n",
       "\t<tr><td> 7.556229e-05</td><td>-5.062095e-06</td><td>-4.319367e-05</td></tr>\n",
       "\t<tr><td>-5.062095e-06</td><td> 4.468293e-04</td><td>-1.237875e-04</td></tr>\n",
       "\t<tr><td>-4.319367e-05</td><td>-1.237875e-04</td><td> 1.428184e-04</td></tr>\n",
       "</tbody>\n",
       "</table>\n"
      ],
      "text/latex": [
       "A matrix: 3 × 3 of type dbl\n",
       "\\begin{tabular}{lll}\n",
       "\t  7.556229e-05 & -5.062095e-06 & -4.319367e-05\\\\\n",
       "\t -5.062095e-06 &  4.468293e-04 & -1.237875e-04\\\\\n",
       "\t -4.319367e-05 & -1.237875e-04 &  1.428184e-04\\\\\n",
       "\\end{tabular}\n"
      ],
      "text/markdown": [
       "\n",
       "A matrix: 3 × 3 of type dbl\n",
       "\n",
       "|  7.556229e-05 | -5.062095e-06 | -4.319367e-05 |\n",
       "| -5.062095e-06 |  4.468293e-04 | -1.237875e-04 |\n",
       "| -4.319367e-05 | -1.237875e-04 |  1.428184e-04 |\n",
       "\n"
      ],
      "text/plain": [
       "     [,1]          [,2]          [,3]         \n",
       "[1,]  7.556229e-05 -5.062095e-06 -4.319367e-05\n",
       "[2,] -5.062095e-06  4.468293e-04 -1.237875e-04\n",
       "[3,] -4.319367e-05 -1.237875e-04  1.428184e-04"
      ]
     },
     "metadata": {},
     "output_type": "display_data"
    }
   ],
   "source": [
    "inv_S <- ((1/n)+(1/n))*solve(S)\n",
    "inv_S"
   ]
  },
  {
   "cell_type": "code",
   "execution_count": 30,
   "id": "a6713c0d",
   "metadata": {
    "ExecuteTime": {
     "end_time": "2022-04-11T07:05:39.116573Z",
     "start_time": "2022-04-11T07:05:39.080Z"
    }
   },
   "outputs": [
    {
     "data": {
      "text/html": [
       "<table class=\"dataframe\">\n",
       "<caption>A matrix: 1 × 1 of type dbl</caption>\n",
       "<tbody>\n",
       "\t<tr><td>3.904646</td></tr>\n",
       "</tbody>\n",
       "</table>\n"
      ],
      "text/latex": [
       "A matrix: 1 × 1 of type dbl\n",
       "\\begin{tabular}{l}\n",
       "\t 3.904646\\\\\n",
       "\\end{tabular}\n"
      ],
      "text/markdown": [
       "\n",
       "A matrix: 1 × 1 of type dbl\n",
       "\n",
       "| 3.904646 |\n",
       "\n"
      ],
      "text/plain": [
       "     [,1]    \n",
       "[1,] 3.904646"
      ]
     },
     "metadata": {},
     "output_type": "display_data"
    }
   ],
   "source": [
    "d%*%inv_S%*%t(d)"
   ]
  },
  {
   "cell_type": "code",
   "execution_count": 31,
   "id": "b03cfcd0",
   "metadata": {
    "ExecuteTime": {
     "end_time": "2022-04-11T07:05:39.728929Z",
     "start_time": "2022-04-11T07:05:39.692Z"
    }
   },
   "outputs": [
    {
     "data": {
      "text/html": [
       "10.7186047019865"
      ],
      "text/latex": [
       "10.7186047019865"
      ],
      "text/markdown": [
       "10.7186047019865"
      ],
      "text/plain": [
       "[1] 10.7186"
      ]
     },
     "metadata": {},
     "output_type": "display_data"
    }
   ],
   "source": [
    "df1 <- p\n",
    "df2 <- n-p\n",
    "critValue <- (n-1)*p/(n-p)*qf(0.05, df1, df2, lower.tail=F)\n",
    "critValue"
   ]
  },
  {
   "cell_type": "code",
   "execution_count": 32,
   "id": "6ccb7b06",
   "metadata": {
    "ExecuteTime": {
     "end_time": "2022-04-11T07:05:40.487255Z",
     "start_time": "2022-04-11T07:05:40.442Z"
    }
   },
   "outputs": [
    {
     "data": {
      "text/html": [
       "<table class=\"dataframe\">\n",
       "<caption>A data.frame: 3 × 2</caption>\n",
       "<thead>\n",
       "\t<tr><th scope=col>Lower_Bonferroni</th><th scope=col>Upper_Bonferroni</th></tr>\n",
       "\t<tr><th scope=col>&lt;dbl&gt;</th><th scope=col>&lt;dbl&gt;</th></tr>\n",
       "</thead>\n",
       "<tbody>\n",
       "\t<tr><td>-144.28156</td><td> 56.18156</td></tr>\n",
       "\t<tr><td>  55.34715</td><td>141.35285</td></tr>\n",
       "\t<tr><td> -41.95409</td><td>125.25409</td></tr>\n",
       "</tbody>\n",
       "</table>\n"
      ],
      "text/latex": [
       "A data.frame: 3 × 2\n",
       "\\begin{tabular}{ll}\n",
       " Lower\\_Bonferroni & Upper\\_Bonferroni\\\\\n",
       " <dbl> & <dbl>\\\\\n",
       "\\hline\n",
       "\t -144.28156 &  56.18156\\\\\n",
       "\t   55.34715 & 141.35285\\\\\n",
       "\t  -41.95409 & 125.25409\\\\\n",
       "\\end{tabular}\n"
      ],
      "text/markdown": [
       "\n",
       "A data.frame: 3 × 2\n",
       "\n",
       "| Lower_Bonferroni &lt;dbl&gt; | Upper_Bonferroni &lt;dbl&gt; |\n",
       "|---|---|\n",
       "| -144.28156 |  56.18156 |\n",
       "|   55.34715 | 141.35285 |\n",
       "|  -41.95409 | 125.25409 |\n",
       "\n"
      ],
      "text/plain": [
       "  Lower_Bonferroni Upper_Bonferroni\n",
       "1 -144.28156        56.18156       \n",
       "2   55.34715       141.35285       \n",
       "3  -41.95409       125.25409       "
      ]
     },
     "metadata": {},
     "output_type": "display_data"
    }
   ],
   "source": [
    "  CI <- c()\n",
    "  \n",
    "  for(i in 1 : p){\n",
    "    \n",
    "    ## get standard error\n",
    "    standardError <- sqrt(S[i, i] / n)\n",
    "    \n",
    "    Upper <- xbar[i] +  critValue*standardError\n",
    "    Lower <- xbar[i] -  critValue*standardError\n",
    "    \n",
    "    CI <- rbind(CI, c(Lower, Upper))\n",
    "  }\n",
    "  \n",
    "  CI <- as.data.frame(CI)\n",
    "  colnames(CI) <- c(\"Lower_Bonferroni\", \"Upper_Bonferroni\")\n",
    "  \n",
    "  return(CI)\n"
   ]
  },
  {
   "cell_type": "code",
   "execution_count": 39,
   "id": "d8f0cc0d",
   "metadata": {
    "ExecuteTime": {
     "end_time": "2022-04-11T07:31:51.889569Z",
     "start_time": "2022-04-11T07:31:51.861Z"
    }
   },
   "outputs": [],
   "source": [
    "n1 <- 12\n",
    "n2 <- 11\n",
    "n3 <- 11\n",
    "n <- 34\n",
    "p <- 3\n",
    "g <- 3"
   ]
  },
  {
   "cell_type": "code",
   "execution_count": 40,
   "id": "783fb6cd",
   "metadata": {
    "ExecuteTime": {
     "end_time": "2022-04-11T07:31:52.342291Z",
     "start_time": "2022-04-11T07:31:52.316Z"
    }
   },
   "outputs": [],
   "source": [
    "S1 <- matrix(c(44.13, 14.03, 23.68,\n",
    "              14.03, 46.09, 24.26,\n",
    "              23.68, 24.26, 31.89), ncol=3)\n",
    "S2 <- matrix(c(58.44, 22.89, 39.17,\n",
    "              22.89, 78.35, 54.81,\n",
    "              39.17, 54.81, 66.44), ncol=3)\n",
    "S3 <- matrix(c(82.55, 63.42, 41.18,\n",
    "              63.42, 109.8, 081.91,\n",
    "              41.18, 81.91, 85.53), ncol=3)"
   ]
  },
  {
   "cell_type": "code",
   "execution_count": 43,
   "id": "8de1eb30",
   "metadata": {
    "ExecuteTime": {
     "end_time": "2022-04-11T07:33:43.042028Z",
     "start_time": "2022-04-11T07:33:43.013Z"
    }
   },
   "outputs": [],
   "source": [
    "xbar1 <- matrix(c(76.04, 90.81, 85.91))\n",
    "xbar2 <- matrix(c(71.64, 91.88, 89.72))\n",
    "xbar3 <- matrix(c(73.91, 86.22, 85.28))\n",
    "xbar <- matrix(c(73.93, 89.67, 86.94))"
   ]
  },
  {
   "cell_type": "code",
   "execution_count": 42,
   "id": "c2d0163d",
   "metadata": {
    "ExecuteTime": {
     "end_time": "2022-04-11T07:31:53.197700Z",
     "start_time": "2022-04-11T07:31:53.161Z"
    }
   },
   "outputs": [
    {
     "data": {
      "text/html": [
       "<table class=\"dataframe\">\n",
       "<caption>A matrix: 3 × 3 of type dbl</caption>\n",
       "<tbody>\n",
       "\t<tr><td>1895.33</td><td>1017.43</td><td>1063.98</td></tr>\n",
       "\t<tr><td>1017.43</td><td>2388.49</td><td>1634.06</td></tr>\n",
       "\t<tr><td>1063.98</td><td>1634.06</td><td>1870.49</td></tr>\n",
       "</tbody>\n",
       "</table>\n"
      ],
      "text/latex": [
       "A matrix: 3 × 3 of type dbl\n",
       "\\begin{tabular}{lll}\n",
       "\t 1895.33 & 1017.43 & 1063.98\\\\\n",
       "\t 1017.43 & 2388.49 & 1634.06\\\\\n",
       "\t 1063.98 & 1634.06 & 1870.49\\\\\n",
       "\\end{tabular}\n"
      ],
      "text/markdown": [
       "\n",
       "A matrix: 3 × 3 of type dbl\n",
       "\n",
       "| 1895.33 | 1017.43 | 1063.98 |\n",
       "| 1017.43 | 2388.49 | 1634.06 |\n",
       "| 1063.98 | 1634.06 | 1870.49 |\n",
       "\n"
      ],
      "text/plain": [
       "     [,1]    [,2]    [,3]   \n",
       "[1,] 1895.33 1017.43 1063.98\n",
       "[2,] 1017.43 2388.49 1634.06\n",
       "[3,] 1063.98 1634.06 1870.49"
      ]
     },
     "metadata": {},
     "output_type": "display_data"
    }
   ],
   "source": [
    "W <- (n1-1)*S1 + (n2-1)*S2 + (n3-1)*S3\n",
    "W"
   ]
  },
  {
   "cell_type": "code",
   "execution_count": 45,
   "id": "4d70210e",
   "metadata": {
    "ExecuteTime": {
     "end_time": "2022-04-11T07:34:45.442591Z",
     "start_time": "2022-04-11T07:34:45.405Z"
    }
   },
   "outputs": [
    {
     "data": {
      "text/html": [
       "<table class=\"dataframe\">\n",
       "<caption>A matrix: 3 × 3 of type dbl</caption>\n",
       "<tbody>\n",
       "\t<tr><td>111.1147</td><td>-26.0461</td><td>-95.7426</td></tr>\n",
       "\t<tr><td>-26.0461</td><td>200.2478</td><td>116.4884</td></tr>\n",
       "\t<tr><td>-95.7426</td><td>116.4884</td><td>128.0548</td></tr>\n",
       "</tbody>\n",
       "</table>\n"
      ],
      "text/latex": [
       "A matrix: 3 × 3 of type dbl\n",
       "\\begin{tabular}{lll}\n",
       "\t 111.1147 & -26.0461 & -95.7426\\\\\n",
       "\t -26.0461 & 200.2478 & 116.4884\\\\\n",
       "\t -95.7426 & 116.4884 & 128.0548\\\\\n",
       "\\end{tabular}\n"
      ],
      "text/markdown": [
       "\n",
       "A matrix: 3 × 3 of type dbl\n",
       "\n",
       "| 111.1147 | -26.0461 | -95.7426 |\n",
       "| -26.0461 | 200.2478 | 116.4884 |\n",
       "| -95.7426 | 116.4884 | 128.0548 |\n",
       "\n"
      ],
      "text/plain": [
       "     [,1]     [,2]     [,3]    \n",
       "[1,] 111.1147 -26.0461 -95.7426\n",
       "[2,] -26.0461 200.2478 116.4884\n",
       "[3,] -95.7426 116.4884 128.0548"
      ]
     },
     "metadata": {},
     "output_type": "display_data"
    }
   ],
   "source": [
    "B <- n1*(xbar1-xbar)%*%t(xbar1-xbar) + n2*(xbar2-xbar)%*%t(xbar2-xbar) + n3*(xbar3-xbar)%*%t(xbar3-xbar)\n",
    "B"
   ]
  },
  {
   "cell_type": "code",
   "execution_count": 47,
   "id": "9c0d8cb8",
   "metadata": {
    "ExecuteTime": {
     "end_time": "2022-04-11T07:36:33.236731Z",
     "start_time": "2022-04-11T07:36:33.203Z"
    }
   },
   "outputs": [
    {
     "data": {
      "text/html": [
       "0.719774919648485"
      ],
      "text/latex": [
       "0.719774919648485"
      ],
      "text/markdown": [
       "0.719774919648485"
      ],
      "text/plain": [
       "[1] 0.7197749"
      ]
     },
     "metadata": {},
     "output_type": "display_data"
    }
   ],
   "source": [
    "det(W)/det(B+W)"
   ]
  },
  {
   "cell_type": "code",
   "execution_count": 50,
   "id": "fc2556cf",
   "metadata": {
    "ExecuteTime": {
     "end_time": "2022-04-11T07:45:00.668222Z",
     "start_time": "2022-04-11T07:45:00.634Z"
    }
   },
   "outputs": [
    {
     "data": {
      "text/html": [
       "2.98055649800973"
      ],
      "text/latex": [
       "2.98055649800973"
      ],
      "text/markdown": [
       "2.98055649800973"
      ],
      "text/plain": [
       "[1] 2.980556"
      ]
     },
     "metadata": {},
     "output_type": "display_data"
    }
   ],
   "source": [
    "qt(0.05/(3*3*(3-1)), 34-3, lower.tail=F)"
   ]
  },
  {
   "cell_type": "code",
   "execution_count": 52,
   "id": "7056dbea",
   "metadata": {
    "ExecuteTime": {
     "end_time": "2022-04-11T07:52:35.881259Z",
     "start_time": "2022-04-11T07:52:35.844Z"
    }
   },
   "outputs": [
    {
     "data": {
      "text/html": [
       "14.1626773112908"
      ],
      "text/latex": [
       "14.1626773112908"
      ],
      "text/markdown": [
       "14.1626773112908"
      ],
      "text/plain": [
       "[1] 14.16268"
      ]
     },
     "metadata": {},
     "output_type": "display_data"
    }
   ],
   "source": [
    "n <- 12\n",
    "p <- 3\n",
    "df1 <- p\n",
    "df2 <- n-p\n",
    "critValue <- (n-1)*p/(n-p)*qf(0.05, df1, df2, lower.tail=F)\n",
    "critValue"
   ]
  },
  {
   "cell_type": "code",
   "execution_count": null,
   "id": "eae6ace0",
   "metadata": {},
   "outputs": [],
   "source": [
    "S1 <- matrix(c(44.13, 14.03, 23.68,\n",
    "              14.03, 46.09, 24.26,\n",
    "              23.68, 24.26, 31.89), ncol=3)"
   ]
  }
 ],
 "metadata": {
  "kernelspec": {
   "display_name": "R",
   "language": "R",
   "name": "ir"
  },
  "language_info": {
   "codemirror_mode": "r",
   "file_extension": ".r",
   "mimetype": "text/x-r-source",
   "name": "R",
   "pygments_lexer": "r",
   "version": "4.0.5"
  },
  "toc": {
   "base_numbering": 1,
   "nav_menu": {},
   "number_sections": true,
   "sideBar": true,
   "skip_h1_title": false,
   "title_cell": "Table of Contents",
   "title_sidebar": "Contents",
   "toc_cell": false,
   "toc_position": {},
   "toc_section_display": true,
   "toc_window_display": false
  }
 },
 "nbformat": 4,
 "nbformat_minor": 5
}
