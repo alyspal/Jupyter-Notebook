{
 "cells": [
  {
   "cell_type": "raw",
   "id": "1d85fe30",
   "metadata": {},
   "source": [
    "Alya Safadella Putri Akca\n",
    "221910892\n",
    "3SI1\n",
    "Tugas 3 APG"
   ]
  },
  {
   "cell_type": "markdown",
   "id": "516fda62",
   "metadata": {},
   "source": [
    "# Import Data and Library "
   ]
  },
  {
   "cell_type": "code",
   "execution_count": 1,
   "id": "1b63b40f",
   "metadata": {
    "ExecuteTime": {
     "end_time": "2022-03-06T08:16:20.519474Z",
     "start_time": "2022-03-06T08:16:19.913Z"
    },
    "scrolled": true
   },
   "outputs": [
    {
     "name": "stderr",
     "output_type": "stream",
     "text": [
      "Loading required package: sgeostat\n",
      "\n",
      "*** Package RVAideMemoire v 0.9-81-2 ***\n",
      "\n"
     ]
    }
   ],
   "source": [
    "library('MVN')\n",
    "library('mvoutlier')\n",
    "library('evd')\n",
    "library('readxl')\n",
    "library('RVAideMemoire')"
   ]
  },
  {
   "cell_type": "code",
   "execution_count": 2,
   "id": "37539f1d",
   "metadata": {
    "ExecuteTime": {
     "end_time": "2022-03-06T08:16:20.604249Z",
     "start_time": "2022-03-06T08:16:19.916Z"
    },
    "scrolled": true
   },
   "outputs": [
    {
     "data": {
      "text/html": [
       "<table class=\"dataframe\">\n",
       "<caption>A tibble: 25 × 3</caption>\n",
       "<thead>\n",
       "\t<tr><th scope=col>Fuel(x1)</th><th scope=col>Repair(x2)</th><th scope=col>Capital(x3)</th></tr>\n",
       "\t<tr><th scope=col>&lt;dbl&gt;</th><th scope=col>&lt;dbl&gt;</th><th scope=col>&lt;dbl&gt;</th></tr>\n",
       "</thead>\n",
       "<tbody>\n",
       "\t<tr><td>16.44</td><td>12.43</td><td>11.23</td></tr>\n",
       "\t<tr><td> 7.19</td><td> 2.70</td><td> 3.92</td></tr>\n",
       "\t<tr><td> 9.92</td><td> 1.35</td><td> 9.75</td></tr>\n",
       "\t<tr><td> 4.24</td><td> 5.78</td><td> 7.78</td></tr>\n",
       "\t<tr><td>11.20</td><td> 5.05</td><td>10.67</td></tr>\n",
       "\t<tr><td>14.25</td><td> 5.78</td><td> 9.88</td></tr>\n",
       "\t<tr><td>13.50</td><td>10.98</td><td>10.60</td></tr>\n",
       "\t<tr><td>13.32</td><td>14.27</td><td> 9.45</td></tr>\n",
       "\t<tr><td>29.11</td><td>15.09</td><td> 3.28</td></tr>\n",
       "\t<tr><td>12.68</td><td> 7.61</td><td>10.23</td></tr>\n",
       "\t<tr><td> 7.51</td><td> 5.80</td><td> 8.13</td></tr>\n",
       "\t<tr><td> 9.90</td><td> 3.63</td><td> 9.13</td></tr>\n",
       "\t<tr><td>10.25</td><td> 5.07</td><td>10.17</td></tr>\n",
       "\t<tr><td>11.11</td><td> 6.15</td><td> 7.61</td></tr>\n",
       "\t<tr><td>12.17</td><td>14.26</td><td>14.39</td></tr>\n",
       "\t<tr><td>10.24</td><td> 2.59</td><td> 6.09</td></tr>\n",
       "\t<tr><td>10.18</td><td> 6.05</td><td>12.14</td></tr>\n",
       "\t<tr><td> 8.88</td><td> 2.70</td><td>12.23</td></tr>\n",
       "\t<tr><td>12.34</td><td> 7.73</td><td>11.68</td></tr>\n",
       "\t<tr><td> 8.51</td><td>14.02</td><td>12.01</td></tr>\n",
       "\t<tr><td>26.16</td><td>17.44</td><td>16.89</td></tr>\n",
       "\t<tr><td>12.95</td><td> 8.24</td><td> 7.18</td></tr>\n",
       "\t<tr><td>16.93</td><td>13.37</td><td>17.59</td></tr>\n",
       "\t<tr><td>14.70</td><td>10.78</td><td>14.58</td></tr>\n",
       "\t<tr><td>10.32</td><td> 5.16</td><td>17.00</td></tr>\n",
       "</tbody>\n",
       "</table>\n"
      ],
      "text/latex": [
       "A tibble: 25 × 3\n",
       "\\begin{tabular}{lll}\n",
       " Fuel(x1) & Repair(x2) & Capital(x3)\\\\\n",
       " <dbl> & <dbl> & <dbl>\\\\\n",
       "\\hline\n",
       "\t 16.44 & 12.43 & 11.23\\\\\n",
       "\t  7.19 &  2.70 &  3.92\\\\\n",
       "\t  9.92 &  1.35 &  9.75\\\\\n",
       "\t  4.24 &  5.78 &  7.78\\\\\n",
       "\t 11.20 &  5.05 & 10.67\\\\\n",
       "\t 14.25 &  5.78 &  9.88\\\\\n",
       "\t 13.50 & 10.98 & 10.60\\\\\n",
       "\t 13.32 & 14.27 &  9.45\\\\\n",
       "\t 29.11 & 15.09 &  3.28\\\\\n",
       "\t 12.68 &  7.61 & 10.23\\\\\n",
       "\t  7.51 &  5.80 &  8.13\\\\\n",
       "\t  9.90 &  3.63 &  9.13\\\\\n",
       "\t 10.25 &  5.07 & 10.17\\\\\n",
       "\t 11.11 &  6.15 &  7.61\\\\\n",
       "\t 12.17 & 14.26 & 14.39\\\\\n",
       "\t 10.24 &  2.59 &  6.09\\\\\n",
       "\t 10.18 &  6.05 & 12.14\\\\\n",
       "\t  8.88 &  2.70 & 12.23\\\\\n",
       "\t 12.34 &  7.73 & 11.68\\\\\n",
       "\t  8.51 & 14.02 & 12.01\\\\\n",
       "\t 26.16 & 17.44 & 16.89\\\\\n",
       "\t 12.95 &  8.24 &  7.18\\\\\n",
       "\t 16.93 & 13.37 & 17.59\\\\\n",
       "\t 14.70 & 10.78 & 14.58\\\\\n",
       "\t 10.32 &  5.16 & 17.00\\\\\n",
       "\\end{tabular}\n"
      ],
      "text/markdown": [
       "\n",
       "A tibble: 25 × 3\n",
       "\n",
       "| Fuel(x1) &lt;dbl&gt; | Repair(x2) &lt;dbl&gt; | Capital(x3) &lt;dbl&gt; |\n",
       "|---|---|---|\n",
       "| 16.44 | 12.43 | 11.23 |\n",
       "|  7.19 |  2.70 |  3.92 |\n",
       "|  9.92 |  1.35 |  9.75 |\n",
       "|  4.24 |  5.78 |  7.78 |\n",
       "| 11.20 |  5.05 | 10.67 |\n",
       "| 14.25 |  5.78 |  9.88 |\n",
       "| 13.50 | 10.98 | 10.60 |\n",
       "| 13.32 | 14.27 |  9.45 |\n",
       "| 29.11 | 15.09 |  3.28 |\n",
       "| 12.68 |  7.61 | 10.23 |\n",
       "|  7.51 |  5.80 |  8.13 |\n",
       "|  9.90 |  3.63 |  9.13 |\n",
       "| 10.25 |  5.07 | 10.17 |\n",
       "| 11.11 |  6.15 |  7.61 |\n",
       "| 12.17 | 14.26 | 14.39 |\n",
       "| 10.24 |  2.59 |  6.09 |\n",
       "| 10.18 |  6.05 | 12.14 |\n",
       "|  8.88 |  2.70 | 12.23 |\n",
       "| 12.34 |  7.73 | 11.68 |\n",
       "|  8.51 | 14.02 | 12.01 |\n",
       "| 26.16 | 17.44 | 16.89 |\n",
       "| 12.95 |  8.24 |  7.18 |\n",
       "| 16.93 | 13.37 | 17.59 |\n",
       "| 14.70 | 10.78 | 14.58 |\n",
       "| 10.32 |  5.16 | 17.00 |\n",
       "\n"
      ],
      "text/plain": [
       "   Fuel(x1) Repair(x2) Capital(x3)\n",
       "1  16.44    12.43      11.23      \n",
       "2   7.19     2.70       3.92      \n",
       "3   9.92     1.35       9.75      \n",
       "4   4.24     5.78       7.78      \n",
       "5  11.20     5.05      10.67      \n",
       "6  14.25     5.78       9.88      \n",
       "7  13.50    10.98      10.60      \n",
       "8  13.32    14.27       9.45      \n",
       "9  29.11    15.09       3.28      \n",
       "10 12.68     7.61      10.23      \n",
       "11  7.51     5.80       8.13      \n",
       "12  9.90     3.63       9.13      \n",
       "13 10.25     5.07      10.17      \n",
       "14 11.11     6.15       7.61      \n",
       "15 12.17    14.26      14.39      \n",
       "16 10.24     2.59       6.09      \n",
       "17 10.18     6.05      12.14      \n",
       "18  8.88     2.70      12.23      \n",
       "19 12.34     7.73      11.68      \n",
       "20  8.51    14.02      12.01      \n",
       "21 26.16    17.44      16.89      \n",
       "22 12.95     8.24       7.18      \n",
       "23 16.93    13.37      17.59      \n",
       "24 14.70    10.78      14.58      \n",
       "25 10.32     5.16      17.00      "
      ]
     },
     "metadata": {},
     "output_type": "display_data"
    }
   ],
   "source": [
    "data <- read_excel(\"Tugas3_APG.xlsx\")\n",
    "data"
   ]
  },
  {
   "cell_type": "markdown",
   "id": "97e6b212",
   "metadata": {},
   "source": [
    "# Soal"
   ]
  },
  {
   "cell_type": "raw",
   "id": "861291fe",
   "metadata": {},
   "source": [
    "Gunakan data \"Milk transportation cost data\" di buku Jhonson halaman 269.\n",
    "1. Lakukan deteksi outlier dengan metode:\n",
    "   a. scatter plot bivariate\n",
    "   b. Chisquare plot\n",
    "   c. qq plot univariate setiap variabel\n",
    "2. Lakukan uji multivariate normal (dengan menggunakan library MVN dan RVAidememoire) cobakan semua metode yang ada.\n",
    "3. Jika terdeteski outlier dan menyebabkan datanya tidak multivariate normal,\n",
    "atasilah masalah outlier dengan \n",
    "    a. membuang observasi outlier tsb lalu lakukan lagi cek multivariate normal setelah data outlier dibuang\n",
    "    b. transformasi, lalu lakukan lagi cek multivariate normal"
   ]
  },
  {
   "cell_type": "markdown",
   "id": "413d895b",
   "metadata": {
    "heading_collapsed": true
   },
   "source": [
    "# 1. Deteksi Outlier dengan Beberapa Metode"
   ]
  },
  {
   "cell_type": "markdown",
   "id": "739a96a3",
   "metadata": {
    "heading_collapsed": true,
    "hidden": true
   },
   "source": [
    "## a. Bivariate Scatter Plot"
   ]
  },
  {
   "cell_type": "code",
   "execution_count": 3,
   "id": "47531e9a",
   "metadata": {
    "ExecuteTime": {
     "end_time": "2022-03-06T08:16:20.721400Z",
     "start_time": "2022-03-06T08:16:19.933Z"
    },
    "hidden": true
   },
   "outputs": [
    {
     "data": {
      "image/png": "[encoded data removed]",
      "text/plain": [
       "plot without title"
      ]
     },
     "metadata": {
      "image/png": {
       "height": 420,
       "width": 420
      }
     },
     "output_type": "display_data"
    }
   ],
   "source": [
    "pairs(data)"
   ]
  },
  {
   "cell_type": "markdown",
   "id": "4a84ae5d",
   "metadata": {
    "heading_collapsed": true,
    "hidden": true
   },
   "source": [
    "## b. Chi-square Plot\n"
   ]
  },
  {
   "cell_type": "code",
   "execution_count": 4,
   "id": "f90064ef",
   "metadata": {
    "ExecuteTime": {
     "end_time": "2022-03-06T08:16:20.811398Z",
     "start_time": "2022-03-06T08:16:19.935Z"
    },
    "hidden": true
   },
   "outputs": [
    {
     "name": "stdout",
     "output_type": "stream",
     "text": [
      "Remove outliers with left-click, stop with right-click on plotting device\n"
     ]
    },
    {
     "data": {
      "text/plain": [
       "$outliers\n",
       "NULL\n"
      ]
     },
     "metadata": {},
     "output_type": "display_data"
    },
    {
     "data": {
      "image/png": "[encoded data removed]",
      "text/plain": [
       "Plot with title \"Chi^2-Plot\""
      ]
     },
     "metadata": {
      "image/png": {
       "height": 420,
       "width": 420
      }
     },
     "output_type": "display_data"
    }
   ],
   "source": [
    "chisq.plot(data)"
   ]
  },
  {
   "cell_type": "markdown",
   "id": "5f2ba3c8",
   "metadata": {
    "heading_collapsed": true,
    "hidden": true
   },
   "source": [
    "## c. Q-Q Plot Univariate"
   ]
  },
  {
   "cell_type": "code",
   "execution_count": 5,
   "id": "2517a772",
   "metadata": {
    "ExecuteTime": {
     "end_time": "2022-03-06T08:16:20.878397Z",
     "start_time": "2022-03-06T08:16:19.937Z"
    },
    "hidden": true
   },
   "outputs": [
    {
     "data": {
      "image/png": "[encoded data removed]",
      "text/plain": [
       "Plot with title \"Normal Q-Q Plot\""
      ]
     },
     "metadata": {
      "image/png": {
       "height": 420,
       "width": 420
      }
     },
     "output_type": "display_data"
    }
   ],
   "source": [
    "qqnorm(data$'Fuel(x1)')"
   ]
  },
  {
   "cell_type": "code",
   "execution_count": 6,
   "id": "f69cbd51",
   "metadata": {
    "ExecuteTime": {
     "end_time": "2022-03-06T08:16:20.939398Z",
     "start_time": "2022-03-06T08:16:19.939Z"
    },
    "hidden": true
   },
   "outputs": [
    {
     "data": {
      "image/png": "[encoded data removed]",
      "text/plain": [
       "Plot with title \"Normal Q-Q Plot\""
      ]
     },
     "metadata": {
      "image/png": {
       "height": 420,
       "width": 420
      }
     },
     "output_type": "display_data"
    }
   ],
   "source": [
    "qqnorm(data$'Repair(x2)')"
   ]
  },
  {
   "cell_type": "code",
   "execution_count": 7,
   "id": "40f59807",
   "metadata": {
    "ExecuteTime": {
     "end_time": "2022-03-06T08:16:21.037666Z",
     "start_time": "2022-03-06T08:16:19.941Z"
    },
    "hidden": true
   },
   "outputs": [
    {
     "data": {
      "image/png": "[encoded data removed]",
      "text/plain": [
       "Plot with title \"Normal Q-Q Plot\""
      ]
     },
     "metadata": {
      "image/png": {
       "height": 420,
       "width": 420
      }
     },
     "output_type": "display_data"
    }
   ],
   "source": [
    "qqnorm(data$'Capital(x3)')"
   ]
  },
  {
   "cell_type": "raw",
   "id": "3fda4759",
   "metadata": {
    "hidden": true
   },
   "source": [
    "Interpretasi:\n",
    "Berdasarkan plot-plot diatas, bisa dilihat bahwa ada beberapa data yang jaraknya jauh dan terpisah dari data yang lain, cuma belum bisa diketahui apakah nilai data tersebut outlier ataupun tidak, sehingga perlu dilakukan uji lebih lanjut untuk mengetahui data mana yang merupakan outlier."
   ]
  },
  {
   "cell_type": "markdown",
   "id": "82b2c321",
   "metadata": {
    "ExecuteTime": {
     "end_time": "2022-03-04T13:59:01.348625Z",
     "start_time": "2022-03-04T13:59:01.329Z"
    }
   },
   "source": [
    "# 2. Uji Multivariate Normal dengan beberapa metode"
   ]
  },
  {
   "cell_type": "markdown",
   "id": "21f61f38",
   "metadata": {
    "heading_collapsed": true
   },
   "source": [
    "## Mardia’s MVN test:"
   ]
  },
  {
   "cell_type": "code",
   "execution_count": 8,
   "id": "339af88e",
   "metadata": {
    "ExecuteTime": {
     "end_time": "2022-03-06T08:16:21.103637Z",
     "start_time": "2022-03-06T08:16:19.949Z"
    },
    "hidden": true
   },
   "outputs": [
    {
     "data": {
      "text/html": [
       "<dl>\n",
       "\t<dt>$multivariateNormality</dt>\n",
       "\t\t<dd><table class=\"dataframe\">\n",
       "<caption>A data.frame: 3 × 4</caption>\n",
       "<thead>\n",
       "\t<tr><th scope=col>Test</th><th scope=col>Statistic</th><th scope=col>p value</th><th scope=col>Result</th></tr>\n",
       "\t<tr><th scope=col>&lt;chr&gt;</th><th scope=col>&lt;fct&gt;</th><th scope=col>&lt;fct&gt;</th><th scope=col>&lt;chr&gt;</th></tr>\n",
       "</thead>\n",
       "<tbody>\n",
       "\t<tr><td>Mardia Skewness</td><td>31.0703714747092</td><td>0.000571228046555686</td><td>NO</td></tr>\n",
       "\t<tr><td>Mardia Kurtosis</td><td>2.60029957463255</td><td>0.00931424099011013 </td><td>NO</td></tr>\n",
       "\t<tr><td>MVN            </td><td>NA              </td><td>NA                  </td><td>NO</td></tr>\n",
       "</tbody>\n",
       "</table>\n",
       "</dd>\n",
       "\t<dt>$univariateNormality</dt>\n",
       "\t\t<dd><table class=\"dataframe\">\n",
       "<caption>A data.frame: 3 × 5</caption>\n",
       "<thead>\n",
       "\t<tr><th></th><th scope=col>Test</th><th scope=col>Variable</th><th scope=col>Statistic</th><th scope=col>p value</th><th scope=col>Normality</th></tr>\n",
       "\t<tr><th></th><th scope=col>&lt;I&lt;chr&gt;&gt;</th><th scope=col>&lt;I&lt;chr&gt;&gt;</th><th scope=col>&lt;I&lt;chr&gt;&gt;</th><th scope=col>&lt;I&lt;chr&gt;&gt;</th><th scope=col>&lt;I&lt;chr&gt;&gt;</th></tr>\n",
       "</thead>\n",
       "<tbody>\n",
       "\t<tr><th scope=row>1</th><td>Anderson-Darling</td><td> Fuel(x1)  </td><td>   1.4744</td><td>   0.0006</td><td>   NO    </td></tr>\n",
       "\t<tr><th scope=row>2</th><td>Anderson-Darling</td><td>Repair(x2) </td><td>   0.7740</td><td>   0.0383</td><td>   NO    </td></tr>\n",
       "\t<tr><th scope=row>3</th><td>Anderson-Darling</td><td>Capital(x3)</td><td>   0.3049</td><td>   0.5434</td><td>   YES   </td></tr>\n",
       "</tbody>\n",
       "</table>\n",
       "</dd>\n",
       "\t<dt>$Descriptives</dt>\n",
       "\t\t<dd><table class=\"dataframe\">\n",
       "<caption>A data.frame: 3 × 10</caption>\n",
       "<thead>\n",
       "\t<tr><th></th><th scope=col>n</th><th scope=col>Mean</th><th scope=col>Std.Dev</th><th scope=col>Median</th><th scope=col>Min</th><th scope=col>Max</th><th scope=col>25th</th><th scope=col>75th</th><th scope=col>Skew</th><th scope=col>Kurtosis</th></tr>\n",
       "\t<tr><th></th><th scope=col>&lt;int&gt;</th><th scope=col>&lt;dbl&gt;</th><th scope=col>&lt;dbl&gt;</th><th scope=col>&lt;dbl&gt;</th><th scope=col>&lt;dbl&gt;</th><th scope=col>&lt;dbl&gt;</th><th scope=col>&lt;dbl&gt;</th><th scope=col>&lt;dbl&gt;</th><th scope=col>&lt;dbl&gt;</th><th scope=col>&lt;dbl&gt;</th></tr>\n",
       "</thead>\n",
       "<tbody>\n",
       "\t<tr><th scope=row>Fuel(x1)</th><td>25</td><td>12.5600</td><td>5.382000</td><td>11.20</td><td>4.24</td><td>29.11</td><td>9.92</td><td>13.50</td><td>1.5749453</td><td> 2.5684509</td></tr>\n",
       "\t<tr><th scope=row>Repair(x2)</th><td>25</td><td> 8.1612</td><td>4.631722</td><td> 6.15</td><td>1.35</td><td>17.44</td><td>5.07</td><td>12.43</td><td>0.4003681</td><td>-1.2126908</td></tr>\n",
       "\t<tr><th scope=row>Capital(x3)</th><td>25</td><td>10.5444</td><td>3.687688</td><td>10.23</td><td>3.28</td><td>17.59</td><td>8.13</td><td>12.14</td><td>0.1154018</td><td>-0.4623851</td></tr>\n",
       "</tbody>\n",
       "</table>\n",
       "</dd>\n",
       "\t<dt>$multivariateOutliers</dt>\n",
       "\t\t<dd>NULL</dd>\n",
       "</dl>\n"
      ],
      "text/latex": [
       "\\begin{description}\n",
       "\\item[\\$multivariateNormality] A data.frame: 3 × 4\n",
       "\\begin{tabular}{llll}\n",
       " Test & Statistic & p value & Result\\\\\n",
       " <chr> & <fct> & <fct> & <chr>\\\\\n",
       "\\hline\n",
       "\t Mardia Skewness & 31.0703714747092 & 0.000571228046555686 & NO\\\\\n",
       "\t Mardia Kurtosis & 2.60029957463255 & 0.00931424099011013  & NO\\\\\n",
       "\t MVN             & NA               & NA                   & NO\\\\\n",
       "\\end{tabular}\n",
       "\n",
       "\\item[\\$univariateNormality] A data.frame: 3 × 5\n",
       "\\begin{tabular}{r|lllll}\n",
       "  & Test & Variable & Statistic & p value & Normality\\\\\n",
       "  & <I<chr>> & <I<chr>> & <I<chr>> & <I<chr>> & <I<chr>>\\\\\n",
       "\\hline\n",
       "\t1 & Anderson-Darling &  Fuel(x1)   &    1.4744 &    0.0006 &    NO    \\\\\n",
       "\t2 & Anderson-Darling & Repair(x2)  &    0.7740 &    0.0383 &    NO    \\\\\n",
       "\t3 & Anderson-Darling & Capital(x3) &    0.3049 &    0.5434 &    YES   \\\\\n",
       "\\end{tabular}\n",
       "\n",
       "\\item[\\$Descriptives] A data.frame: 3 × 10\n",
       "\\begin{tabular}{r|llllllllll}\n",
       "  & n & Mean & Std.Dev & Median & Min & Max & 25th & 75th & Skew & Kurtosis\\\\\n",
       "  & <int> & <dbl> & <dbl> & <dbl> & <dbl> & <dbl> & <dbl> & <dbl> & <dbl> & <dbl>\\\\\n",
       "\\hline\n",
       "\tFuel(x1) & 25 & 12.5600 & 5.382000 & 11.20 & 4.24 & 29.11 & 9.92 & 13.50 & 1.5749453 &  2.5684509\\\\\n",
       "\tRepair(x2) & 25 &  8.1612 & 4.631722 &  6.15 & 1.35 & 17.44 & 5.07 & 12.43 & 0.4003681 & -1.2126908\\\\\n",
       "\tCapital(x3) & 25 & 10.5444 & 3.687688 & 10.23 & 3.28 & 17.59 & 8.13 & 12.14 & 0.1154018 & -0.4623851\\\\\n",
       "\\end{tabular}\n",
       "\n",
       "\\item[\\$multivariateOutliers] NULL\n",
       "\\end{description}\n"
      ],
      "text/markdown": [
       "$multivariateNormality\n",
       ":   \n",
       "A data.frame: 3 × 4\n",
       "\n",
       "| Test &lt;chr&gt; | Statistic &lt;fct&gt; | p value &lt;fct&gt; | Result &lt;chr&gt; |\n",
       "|---|---|---|---|\n",
       "| Mardia Skewness | 31.0703714747092 | 0.000571228046555686 | NO |\n",
       "| Mardia Kurtosis | 2.60029957463255 | 0.00931424099011013  | NO |\n",
       "| MVN             | NA               | NA                   | NO |\n",
       "\n",
       "\n",
       "$univariateNormality\n",
       ":   \n",
       "A data.frame: 3 × 5\n",
       "\n",
       "| <!--/--> | Test &lt;I&lt;chr&gt;&gt; | Variable &lt;I&lt;chr&gt;&gt; | Statistic &lt;I&lt;chr&gt;&gt; | p value &lt;I&lt;chr&gt;&gt; | Normality &lt;I&lt;chr&gt;&gt; |\n",
       "|---|---|---|---|---|---|\n",
       "| 1 | Anderson-Darling |  Fuel(x1)   |    1.4744 |    0.0006 |    NO     |\n",
       "| 2 | Anderson-Darling | Repair(x2)  |    0.7740 |    0.0383 |    NO     |\n",
       "| 3 | Anderson-Darling | Capital(x3) |    0.3049 |    0.5434 |    YES    |\n",
       "\n",
       "\n",
       "$Descriptives\n",
       ":   \n",
       "A data.frame: 3 × 10\n",
       "\n",
       "| <!--/--> | n &lt;int&gt; | Mean &lt;dbl&gt; | Std.Dev &lt;dbl&gt; | Median &lt;dbl&gt; | Min &lt;dbl&gt; | Max &lt;dbl&gt; | 25th &lt;dbl&gt; | 75th &lt;dbl&gt; | Skew &lt;dbl&gt; | Kurtosis &lt;dbl&gt; |\n",
       "|---|---|---|---|---|---|---|---|---|---|---|\n",
       "| Fuel(x1) | 25 | 12.5600 | 5.382000 | 11.20 | 4.24 | 29.11 | 9.92 | 13.50 | 1.5749453 |  2.5684509 |\n",
       "| Repair(x2) | 25 |  8.1612 | 4.631722 |  6.15 | 1.35 | 17.44 | 5.07 | 12.43 | 0.4003681 | -1.2126908 |\n",
       "| Capital(x3) | 25 | 10.5444 | 3.687688 | 10.23 | 3.28 | 17.59 | 8.13 | 12.14 | 0.1154018 | -0.4623851 |\n",
       "\n",
       "\n",
       "$multivariateOutliers\n",
       ":   NULL\n",
       "\n",
       "\n"
      ],
      "text/plain": [
       "$multivariateNormality\n",
       "             Test        Statistic              p value Result\n",
       "1 Mardia Skewness 31.0703714747092 0.000571228046555686     NO\n",
       "2 Mardia Kurtosis 2.60029957463255  0.00931424099011013     NO\n",
       "3             MVN             <NA>                 <NA>     NO\n",
       "\n",
       "$univariateNormality\n",
       "              Test    Variable Statistic   p value Normality\n",
       "1 Anderson-Darling  Fuel(x1)      1.4744    0.0006    NO    \n",
       "2 Anderson-Darling Repair(x2)     0.7740    0.0383    NO    \n",
       "3 Anderson-Darling Capital(x3)    0.3049    0.5434    YES   \n",
       "\n",
       "$Descriptives\n",
       "             n    Mean  Std.Dev Median  Min   Max 25th  75th      Skew\n",
       "Fuel(x1)    25 12.5600 5.382000  11.20 4.24 29.11 9.92 13.50 1.5749453\n",
       "Repair(x2)  25  8.1612 4.631722   6.15 1.35 17.44 5.07 12.43 0.4003681\n",
       "Capital(x3) 25 10.5444 3.687688  10.23 3.28 17.59 8.13 12.14 0.1154018\n",
       "              Kurtosis\n",
       "Fuel(x1)     2.5684509\n",
       "Repair(x2)  -1.2126908\n",
       "Capital(x3) -0.4623851\n",
       "\n",
       "$multivariateOutliers\n",
       "NULL\n"
      ]
     },
     "metadata": {},
     "output_type": "display_data"
    }
   ],
   "source": [
    "mvn(data, mvnTest = 'mardia', showOutliers = TRUE)"
   ]
  },
  {
   "cell_type": "markdown",
   "id": "34737241",
   "metadata": {
    "ExecuteTime": {
     "end_time": "2022-03-04T14:09:06.939603Z",
     "start_time": "2022-03-04T14:09:06.916Z"
    },
    "heading_collapsed": true
   },
   "source": [
    "## Henze-Zirkler’s MVN test:"
   ]
  },
  {
   "cell_type": "code",
   "execution_count": 9,
   "id": "19492a29",
   "metadata": {
    "ExecuteTime": {
     "end_time": "2022-03-06T08:16:21.153633Z",
     "start_time": "2022-03-06T08:16:19.952Z"
    },
    "hidden": true
   },
   "outputs": [
    {
     "data": {
      "text/html": [
       "<dl>\n",
       "\t<dt>$multivariateNormality</dt>\n",
       "\t\t<dd><table class=\"dataframe\">\n",
       "<caption>A data.frame: 1 × 4</caption>\n",
       "<thead>\n",
       "\t<tr><th scope=col>Test</th><th scope=col>HZ</th><th scope=col>p value</th><th scope=col>MVN</th></tr>\n",
       "\t<tr><th scope=col>&lt;chr&gt;</th><th scope=col>&lt;dbl&gt;</th><th scope=col>&lt;dbl&gt;</th><th scope=col>&lt;chr&gt;</th></tr>\n",
       "</thead>\n",
       "<tbody>\n",
       "\t<tr><td>Henze-Zirkler</td><td>0.9917324</td><td>0.01155811</td><td>NO</td></tr>\n",
       "</tbody>\n",
       "</table>\n",
       "</dd>\n",
       "\t<dt>$univariateNormality</dt>\n",
       "\t\t<dd><table class=\"dataframe\">\n",
       "<caption>A data.frame: 3 × 5</caption>\n",
       "<thead>\n",
       "\t<tr><th></th><th scope=col>Test</th><th scope=col>Variable</th><th scope=col>Statistic</th><th scope=col>p value</th><th scope=col>Normality</th></tr>\n",
       "\t<tr><th></th><th scope=col>&lt;I&lt;chr&gt;&gt;</th><th scope=col>&lt;I&lt;chr&gt;&gt;</th><th scope=col>&lt;I&lt;chr&gt;&gt;</th><th scope=col>&lt;I&lt;chr&gt;&gt;</th><th scope=col>&lt;I&lt;chr&gt;&gt;</th></tr>\n",
       "</thead>\n",
       "<tbody>\n",
       "\t<tr><th scope=row>1</th><td>Anderson-Darling</td><td> Fuel(x1)  </td><td>   1.4744</td><td>   0.0006</td><td>   NO    </td></tr>\n",
       "\t<tr><th scope=row>2</th><td>Anderson-Darling</td><td>Repair(x2) </td><td>   0.7740</td><td>   0.0383</td><td>   NO    </td></tr>\n",
       "\t<tr><th scope=row>3</th><td>Anderson-Darling</td><td>Capital(x3)</td><td>   0.3049</td><td>   0.5434</td><td>   YES   </td></tr>\n",
       "</tbody>\n",
       "</table>\n",
       "</dd>\n",
       "\t<dt>$Descriptives</dt>\n",
       "\t\t<dd><table class=\"dataframe\">\n",
       "<caption>A data.frame: 3 × 10</caption>\n",
       "<thead>\n",
       "\t<tr><th></th><th scope=col>n</th><th scope=col>Mean</th><th scope=col>Std.Dev</th><th scope=col>Median</th><th scope=col>Min</th><th scope=col>Max</th><th scope=col>25th</th><th scope=col>75th</th><th scope=col>Skew</th><th scope=col>Kurtosis</th></tr>\n",
       "\t<tr><th></th><th scope=col>&lt;int&gt;</th><th scope=col>&lt;dbl&gt;</th><th scope=col>&lt;dbl&gt;</th><th scope=col>&lt;dbl&gt;</th><th scope=col>&lt;dbl&gt;</th><th scope=col>&lt;dbl&gt;</th><th scope=col>&lt;dbl&gt;</th><th scope=col>&lt;dbl&gt;</th><th scope=col>&lt;dbl&gt;</th><th scope=col>&lt;dbl&gt;</th></tr>\n",
       "</thead>\n",
       "<tbody>\n",
       "\t<tr><th scope=row>Fuel(x1)</th><td>25</td><td>12.5600</td><td>5.382000</td><td>11.20</td><td>4.24</td><td>29.11</td><td>9.92</td><td>13.50</td><td>1.5749453</td><td> 2.5684509</td></tr>\n",
       "\t<tr><th scope=row>Repair(x2)</th><td>25</td><td> 8.1612</td><td>4.631722</td><td> 6.15</td><td>1.35</td><td>17.44</td><td>5.07</td><td>12.43</td><td>0.4003681</td><td>-1.2126908</td></tr>\n",
       "\t<tr><th scope=row>Capital(x3)</th><td>25</td><td>10.5444</td><td>3.687688</td><td>10.23</td><td>3.28</td><td>17.59</td><td>8.13</td><td>12.14</td><td>0.1154018</td><td>-0.4623851</td></tr>\n",
       "</tbody>\n",
       "</table>\n",
       "</dd>\n",
       "\t<dt>$multivariateOutliers</dt>\n",
       "\t\t<dd>NULL</dd>\n",
       "</dl>\n"
      ],
      "text/latex": [
       "\\begin{description}\n",
       "\\item[\\$multivariateNormality] A data.frame: 1 × 4\n",
       "\\begin{tabular}{llll}\n",
       " Test & HZ & p value & MVN\\\\\n",
       " <chr> & <dbl> & <dbl> & <chr>\\\\\n",
       "\\hline\n",
       "\t Henze-Zirkler & 0.9917324 & 0.01155811 & NO\\\\\n",
       "\\end{tabular}\n",
       "\n",
       "\\item[\\$univariateNormality] A data.frame: 3 × 5\n",
       "\\begin{tabular}{r|lllll}\n",
       "  & Test & Variable & Statistic & p value & Normality\\\\\n",
       "  & <I<chr>> & <I<chr>> & <I<chr>> & <I<chr>> & <I<chr>>\\\\\n",
       "\\hline\n",
       "\t1 & Anderson-Darling &  Fuel(x1)   &    1.4744 &    0.0006 &    NO    \\\\\n",
       "\t2 & Anderson-Darling & Repair(x2)  &    0.7740 &    0.0383 &    NO    \\\\\n",
       "\t3 & Anderson-Darling & Capital(x3) &    0.3049 &    0.5434 &    YES   \\\\\n",
       "\\end{tabular}\n",
       "\n",
       "\\item[\\$Descriptives] A data.frame: 3 × 10\n",
       "\\begin{tabular}{r|llllllllll}\n",
       "  & n & Mean & Std.Dev & Median & Min & Max & 25th & 75th & Skew & Kurtosis\\\\\n",
       "  & <int> & <dbl> & <dbl> & <dbl> & <dbl> & <dbl> & <dbl> & <dbl> & <dbl> & <dbl>\\\\\n",
       "\\hline\n",
       "\tFuel(x1) & 25 & 12.5600 & 5.382000 & 11.20 & 4.24 & 29.11 & 9.92 & 13.50 & 1.5749453 &  2.5684509\\\\\n",
       "\tRepair(x2) & 25 &  8.1612 & 4.631722 &  6.15 & 1.35 & 17.44 & 5.07 & 12.43 & 0.4003681 & -1.2126908\\\\\n",
       "\tCapital(x3) & 25 & 10.5444 & 3.687688 & 10.23 & 3.28 & 17.59 & 8.13 & 12.14 & 0.1154018 & -0.4623851\\\\\n",
       "\\end{tabular}\n",
       "\n",
       "\\item[\\$multivariateOutliers] NULL\n",
       "\\end{description}\n"
      ],
      "text/markdown": [
       "$multivariateNormality\n",
       ":   \n",
       "A data.frame: 1 × 4\n",
       "\n",
       "| Test &lt;chr&gt; | HZ &lt;dbl&gt; | p value &lt;dbl&gt; | MVN &lt;chr&gt; |\n",
       "|---|---|---|---|\n",
       "| Henze-Zirkler | 0.9917324 | 0.01155811 | NO |\n",
       "\n",
       "\n",
       "$univariateNormality\n",
       ":   \n",
       "A data.frame: 3 × 5\n",
       "\n",
       "| <!--/--> | Test &lt;I&lt;chr&gt;&gt; | Variable &lt;I&lt;chr&gt;&gt; | Statistic &lt;I&lt;chr&gt;&gt; | p value &lt;I&lt;chr&gt;&gt; | Normality &lt;I&lt;chr&gt;&gt; |\n",
       "|---|---|---|---|---|---|\n",
       "| 1 | Anderson-Darling |  Fuel(x1)   |    1.4744 |    0.0006 |    NO     |\n",
       "| 2 | Anderson-Darling | Repair(x2)  |    0.7740 |    0.0383 |    NO     |\n",
       "| 3 | Anderson-Darling | Capital(x3) |    0.3049 |    0.5434 |    YES    |\n",
       "\n",
       "\n",
       "$Descriptives\n",
       ":   \n",
       "A data.frame: 3 × 10\n",
       "\n",
       "| <!--/--> | n &lt;int&gt; | Mean &lt;dbl&gt; | Std.Dev &lt;dbl&gt; | Median &lt;dbl&gt; | Min &lt;dbl&gt; | Max &lt;dbl&gt; | 25th &lt;dbl&gt; | 75th &lt;dbl&gt; | Skew &lt;dbl&gt; | Kurtosis &lt;dbl&gt; |\n",
       "|---|---|---|---|---|---|---|---|---|---|---|\n",
       "| Fuel(x1) | 25 | 12.5600 | 5.382000 | 11.20 | 4.24 | 29.11 | 9.92 | 13.50 | 1.5749453 |  2.5684509 |\n",
       "| Repair(x2) | 25 |  8.1612 | 4.631722 |  6.15 | 1.35 | 17.44 | 5.07 | 12.43 | 0.4003681 | -1.2126908 |\n",
       "| Capital(x3) | 25 | 10.5444 | 3.687688 | 10.23 | 3.28 | 17.59 | 8.13 | 12.14 | 0.1154018 | -0.4623851 |\n",
       "\n",
       "\n",
       "$multivariateOutliers\n",
       ":   NULL\n",
       "\n",
       "\n"
      ],
      "text/plain": [
       "$multivariateNormality\n",
       "           Test        HZ    p value MVN\n",
       "1 Henze-Zirkler 0.9917324 0.01155811  NO\n",
       "\n",
       "$univariateNormality\n",
       "              Test    Variable Statistic   p value Normality\n",
       "1 Anderson-Darling  Fuel(x1)      1.4744    0.0006    NO    \n",
       "2 Anderson-Darling Repair(x2)     0.7740    0.0383    NO    \n",
       "3 Anderson-Darling Capital(x3)    0.3049    0.5434    YES   \n",
       "\n",
       "$Descriptives\n",
       "             n    Mean  Std.Dev Median  Min   Max 25th  75th      Skew\n",
       "Fuel(x1)    25 12.5600 5.382000  11.20 4.24 29.11 9.92 13.50 1.5749453\n",
       "Repair(x2)  25  8.1612 4.631722   6.15 1.35 17.44 5.07 12.43 0.4003681\n",
       "Capital(x3) 25 10.5444 3.687688  10.23 3.28 17.59 8.13 12.14 0.1154018\n",
       "              Kurtosis\n",
       "Fuel(x1)     2.5684509\n",
       "Repair(x2)  -1.2126908\n",
       "Capital(x3) -0.4623851\n",
       "\n",
       "$multivariateOutliers\n",
       "NULL\n"
      ]
     },
     "metadata": {},
     "output_type": "display_data"
    }
   ],
   "source": [
    "mvn(data, showOutliers = TRUE)"
   ]
  },
  {
   "cell_type": "markdown",
   "id": "33a55129",
   "metadata": {
    "heading_collapsed": true
   },
   "source": [
    "## Royston’s MVN test:"
   ]
  },
  {
   "cell_type": "code",
   "execution_count": 10,
   "id": "4d09eb6a",
   "metadata": {
    "ExecuteTime": {
     "end_time": "2022-03-06T08:16:21.253633Z",
     "start_time": "2022-03-06T08:16:19.954Z"
    },
    "hidden": true
   },
   "outputs": [
    {
     "data": {
      "text/html": [
       "<dl>\n",
       "\t<dt>$multivariateNormality</dt>\n",
       "\t\t<dd><table class=\"dataframe\">\n",
       "<caption>A data.frame: 1 × 4</caption>\n",
       "<thead>\n",
       "\t<tr><th scope=col>Test</th><th scope=col>H</th><th scope=col>p value</th><th scope=col>MVN</th></tr>\n",
       "\t<tr><th scope=col>&lt;chr&gt;</th><th scope=col>&lt;dbl&gt;</th><th scope=col>&lt;dbl&gt;</th><th scope=col>&lt;chr&gt;</th></tr>\n",
       "</thead>\n",
       "<tbody>\n",
       "\t<tr><td>Royston</td><td>16.25651</td><td>0.001011804</td><td>NO</td></tr>\n",
       "</tbody>\n",
       "</table>\n",
       "</dd>\n",
       "\t<dt>$univariateNormality</dt>\n",
       "\t\t<dd><table class=\"dataframe\">\n",
       "<caption>A data.frame: 3 × 5</caption>\n",
       "<thead>\n",
       "\t<tr><th></th><th scope=col>Test</th><th scope=col>Variable</th><th scope=col>Statistic</th><th scope=col>p value</th><th scope=col>Normality</th></tr>\n",
       "\t<tr><th></th><th scope=col>&lt;I&lt;chr&gt;&gt;</th><th scope=col>&lt;I&lt;chr&gt;&gt;</th><th scope=col>&lt;I&lt;chr&gt;&gt;</th><th scope=col>&lt;I&lt;chr&gt;&gt;</th><th scope=col>&lt;I&lt;chr&gt;&gt;</th></tr>\n",
       "</thead>\n",
       "<tbody>\n",
       "\t<tr><th scope=row>1</th><td>Anderson-Darling</td><td> Fuel(x1)  </td><td>   1.4744</td><td>   0.0006</td><td>   NO    </td></tr>\n",
       "\t<tr><th scope=row>2</th><td>Anderson-Darling</td><td>Repair(x2) </td><td>   0.7740</td><td>   0.0383</td><td>   NO    </td></tr>\n",
       "\t<tr><th scope=row>3</th><td>Anderson-Darling</td><td>Capital(x3)</td><td>   0.3049</td><td>   0.5434</td><td>   YES   </td></tr>\n",
       "</tbody>\n",
       "</table>\n",
       "</dd>\n",
       "\t<dt>$Descriptives</dt>\n",
       "\t\t<dd><table class=\"dataframe\">\n",
       "<caption>A data.frame: 3 × 10</caption>\n",
       "<thead>\n",
       "\t<tr><th></th><th scope=col>n</th><th scope=col>Mean</th><th scope=col>Std.Dev</th><th scope=col>Median</th><th scope=col>Min</th><th scope=col>Max</th><th scope=col>25th</th><th scope=col>75th</th><th scope=col>Skew</th><th scope=col>Kurtosis</th></tr>\n",
       "\t<tr><th></th><th scope=col>&lt;int&gt;</th><th scope=col>&lt;dbl&gt;</th><th scope=col>&lt;dbl&gt;</th><th scope=col>&lt;dbl&gt;</th><th scope=col>&lt;dbl&gt;</th><th scope=col>&lt;dbl&gt;</th><th scope=col>&lt;dbl&gt;</th><th scope=col>&lt;dbl&gt;</th><th scope=col>&lt;dbl&gt;</th><th scope=col>&lt;dbl&gt;</th></tr>\n",
       "</thead>\n",
       "<tbody>\n",
       "\t<tr><th scope=row>Fuel(x1)</th><td>25</td><td>12.5600</td><td>5.382000</td><td>11.20</td><td>4.24</td><td>29.11</td><td>9.92</td><td>13.50</td><td>1.5749453</td><td> 2.5684509</td></tr>\n",
       "\t<tr><th scope=row>Repair(x2)</th><td>25</td><td> 8.1612</td><td>4.631722</td><td> 6.15</td><td>1.35</td><td>17.44</td><td>5.07</td><td>12.43</td><td>0.4003681</td><td>-1.2126908</td></tr>\n",
       "\t<tr><th scope=row>Capital(x3)</th><td>25</td><td>10.5444</td><td>3.687688</td><td>10.23</td><td>3.28</td><td>17.59</td><td>8.13</td><td>12.14</td><td>0.1154018</td><td>-0.4623851</td></tr>\n",
       "</tbody>\n",
       "</table>\n",
       "</dd>\n",
       "\t<dt>$multivariateOutliers</dt>\n",
       "\t\t<dd>NULL</dd>\n",
       "</dl>\n"
      ],
      "text/latex": [
       "\\begin{description}\n",
       "\\item[\\$multivariateNormality] A data.frame: 1 × 4\n",
       "\\begin{tabular}{llll}\n",
       " Test & H & p value & MVN\\\\\n",
       " <chr> & <dbl> & <dbl> & <chr>\\\\\n",
       "\\hline\n",
       "\t Royston & 16.25651 & 0.001011804 & NO\\\\\n",
       "\\end{tabular}\n",
       "\n",
       "\\item[\\$univariateNormality] A data.frame: 3 × 5\n",
       "\\begin{tabular}{r|lllll}\n",
       "  & Test & Variable & Statistic & p value & Normality\\\\\n",
       "  & <I<chr>> & <I<chr>> & <I<chr>> & <I<chr>> & <I<chr>>\\\\\n",
       "\\hline\n",
       "\t1 & Anderson-Darling &  Fuel(x1)   &    1.4744 &    0.0006 &    NO    \\\\\n",
       "\t2 & Anderson-Darling & Repair(x2)  &    0.7740 &    0.0383 &    NO    \\\\\n",
       "\t3 & Anderson-Darling & Capital(x3) &    0.3049 &    0.5434 &    YES   \\\\\n",
       "\\end{tabular}\n",
       "\n",
       "\\item[\\$Descriptives] A data.frame: 3 × 10\n",
       "\\begin{tabular}{r|llllllllll}\n",
       "  & n & Mean & Std.Dev & Median & Min & Max & 25th & 75th & Skew & Kurtosis\\\\\n",
       "  & <int> & <dbl> & <dbl> & <dbl> & <dbl> & <dbl> & <dbl> & <dbl> & <dbl> & <dbl>\\\\\n",
       "\\hline\n",
       "\tFuel(x1) & 25 & 12.5600 & 5.382000 & 11.20 & 4.24 & 29.11 & 9.92 & 13.50 & 1.5749453 &  2.5684509\\\\\n",
       "\tRepair(x2) & 25 &  8.1612 & 4.631722 &  6.15 & 1.35 & 17.44 & 5.07 & 12.43 & 0.4003681 & -1.2126908\\\\\n",
       "\tCapital(x3) & 25 & 10.5444 & 3.687688 & 10.23 & 3.28 & 17.59 & 8.13 & 12.14 & 0.1154018 & -0.4623851\\\\\n",
       "\\end{tabular}\n",
       "\n",
       "\\item[\\$multivariateOutliers] NULL\n",
       "\\end{description}\n"
      ],
      "text/markdown": [
       "$multivariateNormality\n",
       ":   \n",
       "A data.frame: 1 × 4\n",
       "\n",
       "| Test &lt;chr&gt; | H &lt;dbl&gt; | p value &lt;dbl&gt; | MVN &lt;chr&gt; |\n",
       "|---|---|---|---|\n",
       "| Royston | 16.25651 | 0.001011804 | NO |\n",
       "\n",
       "\n",
       "$univariateNormality\n",
       ":   \n",
       "A data.frame: 3 × 5\n",
       "\n",
       "| <!--/--> | Test &lt;I&lt;chr&gt;&gt; | Variable &lt;I&lt;chr&gt;&gt; | Statistic &lt;I&lt;chr&gt;&gt; | p value &lt;I&lt;chr&gt;&gt; | Normality &lt;I&lt;chr&gt;&gt; |\n",
       "|---|---|---|---|---|---|\n",
       "| 1 | Anderson-Darling |  Fuel(x1)   |    1.4744 |    0.0006 |    NO     |\n",
       "| 2 | Anderson-Darling | Repair(x2)  |    0.7740 |    0.0383 |    NO     |\n",
       "| 3 | Anderson-Darling | Capital(x3) |    0.3049 |    0.5434 |    YES    |\n",
       "\n",
       "\n",
       "$Descriptives\n",
       ":   \n",
       "A data.frame: 3 × 10\n",
       "\n",
       "| <!--/--> | n &lt;int&gt; | Mean &lt;dbl&gt; | Std.Dev &lt;dbl&gt; | Median &lt;dbl&gt; | Min &lt;dbl&gt; | Max &lt;dbl&gt; | 25th &lt;dbl&gt; | 75th &lt;dbl&gt; | Skew &lt;dbl&gt; | Kurtosis &lt;dbl&gt; |\n",
       "|---|---|---|---|---|---|---|---|---|---|---|\n",
       "| Fuel(x1) | 25 | 12.5600 | 5.382000 | 11.20 | 4.24 | 29.11 | 9.92 | 13.50 | 1.5749453 |  2.5684509 |\n",
       "| Repair(x2) | 25 |  8.1612 | 4.631722 |  6.15 | 1.35 | 17.44 | 5.07 | 12.43 | 0.4003681 | -1.2126908 |\n",
       "| Capital(x3) | 25 | 10.5444 | 3.687688 | 10.23 | 3.28 | 17.59 | 8.13 | 12.14 | 0.1154018 | -0.4623851 |\n",
       "\n",
       "\n",
       "$multivariateOutliers\n",
       ":   NULL\n",
       "\n",
       "\n"
      ],
      "text/plain": [
       "$multivariateNormality\n",
       "     Test        H     p value MVN\n",
       "1 Royston 16.25651 0.001011804  NO\n",
       "\n",
       "$univariateNormality\n",
       "              Test    Variable Statistic   p value Normality\n",
       "1 Anderson-Darling  Fuel(x1)      1.4744    0.0006    NO    \n",
       "2 Anderson-Darling Repair(x2)     0.7740    0.0383    NO    \n",
       "3 Anderson-Darling Capital(x3)    0.3049    0.5434    YES   \n",
       "\n",
       "$Descriptives\n",
       "             n    Mean  Std.Dev Median  Min   Max 25th  75th      Skew\n",
       "Fuel(x1)    25 12.5600 5.382000  11.20 4.24 29.11 9.92 13.50 1.5749453\n",
       "Repair(x2)  25  8.1612 4.631722   6.15 1.35 17.44 5.07 12.43 0.4003681\n",
       "Capital(x3) 25 10.5444 3.687688  10.23 3.28 17.59 8.13 12.14 0.1154018\n",
       "              Kurtosis\n",
       "Fuel(x1)     2.5684509\n",
       "Repair(x2)  -1.2126908\n",
       "Capital(x3) -0.4623851\n",
       "\n",
       "$multivariateOutliers\n",
       "NULL\n"
      ]
     },
     "metadata": {},
     "output_type": "display_data"
    }
   ],
   "source": [
    "mvn(data, mvnTest = 'royston', showOutliers = TRUE)"
   ]
  },
  {
   "cell_type": "markdown",
   "id": "fef4429b",
   "metadata": {
    "heading_collapsed": true
   },
   "source": [
    "## Doomik-Hansen’s MVN test:"
   ]
  },
  {
   "cell_type": "code",
   "execution_count": 11,
   "id": "5c37a091",
   "metadata": {
    "ExecuteTime": {
     "end_time": "2022-03-06T08:16:21.309629Z",
     "start_time": "2022-03-06T08:16:19.957Z"
    },
    "hidden": true
   },
   "outputs": [
    {
     "data": {
      "text/html": [
       "<dl>\n",
       "\t<dt>$multivariateNormality</dt>\n",
       "\t\t<dd><table class=\"dataframe\">\n",
       "<caption>A data.frame: 1 × 5</caption>\n",
       "<thead>\n",
       "\t<tr><th scope=col>Test</th><th scope=col>E</th><th scope=col>df</th><th scope=col>p value</th><th scope=col>MVN</th></tr>\n",
       "\t<tr><th scope=col>&lt;chr&gt;</th><th scope=col>&lt;dbl&gt;</th><th scope=col>&lt;dbl&gt;</th><th scope=col>&lt;dbl&gt;</th><th scope=col>&lt;chr&gt;</th></tr>\n",
       "</thead>\n",
       "<tbody>\n",
       "\t<tr><td>Doornik-Hansen</td><td>8.371901</td><td>6</td><td>0.2121031</td><td>YES</td></tr>\n",
       "</tbody>\n",
       "</table>\n",
       "</dd>\n",
       "\t<dt>$univariateNormality</dt>\n",
       "\t\t<dd><table class=\"dataframe\">\n",
       "<caption>A data.frame: 3 × 5</caption>\n",
       "<thead>\n",
       "\t<tr><th></th><th scope=col>Test</th><th scope=col>Variable</th><th scope=col>Statistic</th><th scope=col>p value</th><th scope=col>Normality</th></tr>\n",
       "\t<tr><th></th><th scope=col>&lt;I&lt;chr&gt;&gt;</th><th scope=col>&lt;I&lt;chr&gt;&gt;</th><th scope=col>&lt;I&lt;chr&gt;&gt;</th><th scope=col>&lt;I&lt;chr&gt;&gt;</th><th scope=col>&lt;I&lt;chr&gt;&gt;</th></tr>\n",
       "</thead>\n",
       "<tbody>\n",
       "\t<tr><th scope=row>1</th><td>Anderson-Darling</td><td> Fuel(x1)  </td><td>   1.4744</td><td>   0.0006</td><td>   NO    </td></tr>\n",
       "\t<tr><th scope=row>2</th><td>Anderson-Darling</td><td>Repair(x2) </td><td>   0.7740</td><td>   0.0383</td><td>   NO    </td></tr>\n",
       "\t<tr><th scope=row>3</th><td>Anderson-Darling</td><td>Capital(x3)</td><td>   0.3049</td><td>   0.5434</td><td>   YES   </td></tr>\n",
       "</tbody>\n",
       "</table>\n",
       "</dd>\n",
       "\t<dt>$Descriptives</dt>\n",
       "\t\t<dd><table class=\"dataframe\">\n",
       "<caption>A data.frame: 3 × 10</caption>\n",
       "<thead>\n",
       "\t<tr><th></th><th scope=col>n</th><th scope=col>Mean</th><th scope=col>Std.Dev</th><th scope=col>Median</th><th scope=col>Min</th><th scope=col>Max</th><th scope=col>25th</th><th scope=col>75th</th><th scope=col>Skew</th><th scope=col>Kurtosis</th></tr>\n",
       "\t<tr><th></th><th scope=col>&lt;int&gt;</th><th scope=col>&lt;dbl&gt;</th><th scope=col>&lt;dbl&gt;</th><th scope=col>&lt;dbl&gt;</th><th scope=col>&lt;dbl&gt;</th><th scope=col>&lt;dbl&gt;</th><th scope=col>&lt;dbl&gt;</th><th scope=col>&lt;dbl&gt;</th><th scope=col>&lt;dbl&gt;</th><th scope=col>&lt;dbl&gt;</th></tr>\n",
       "</thead>\n",
       "<tbody>\n",
       "\t<tr><th scope=row>Fuel(x1)</th><td>25</td><td>12.5600</td><td>5.382000</td><td>11.20</td><td>4.24</td><td>29.11</td><td>9.92</td><td>13.50</td><td>1.5749453</td><td> 2.5684509</td></tr>\n",
       "\t<tr><th scope=row>Repair(x2)</th><td>25</td><td> 8.1612</td><td>4.631722</td><td> 6.15</td><td>1.35</td><td>17.44</td><td>5.07</td><td>12.43</td><td>0.4003681</td><td>-1.2126908</td></tr>\n",
       "\t<tr><th scope=row>Capital(x3)</th><td>25</td><td>10.5444</td><td>3.687688</td><td>10.23</td><td>3.28</td><td>17.59</td><td>8.13</td><td>12.14</td><td>0.1154018</td><td>-0.4623851</td></tr>\n",
       "</tbody>\n",
       "</table>\n",
       "</dd>\n",
       "\t<dt>$multivariateOutliers</dt>\n",
       "\t\t<dd>NULL</dd>\n",
       "</dl>\n"
      ],
      "text/latex": [
       "\\begin{description}\n",
       "\\item[\\$multivariateNormality] A data.frame: 1 × 5\n",
       "\\begin{tabular}{lllll}\n",
       " Test & E & df & p value & MVN\\\\\n",
       " <chr> & <dbl> & <dbl> & <dbl> & <chr>\\\\\n",
       "\\hline\n",
       "\t Doornik-Hansen & 8.371901 & 6 & 0.2121031 & YES\\\\\n",
       "\\end{tabular}\n",
       "\n",
       "\\item[\\$univariateNormality] A data.frame: 3 × 5\n",
       "\\begin{tabular}{r|lllll}\n",
       "  & Test & Variable & Statistic & p value & Normality\\\\\n",
       "  & <I<chr>> & <I<chr>> & <I<chr>> & <I<chr>> & <I<chr>>\\\\\n",
       "\\hline\n",
       "\t1 & Anderson-Darling &  Fuel(x1)   &    1.4744 &    0.0006 &    NO    \\\\\n",
       "\t2 & Anderson-Darling & Repair(x2)  &    0.7740 &    0.0383 &    NO    \\\\\n",
       "\t3 & Anderson-Darling & Capital(x3) &    0.3049 &    0.5434 &    YES   \\\\\n",
       "\\end{tabular}\n",
       "\n",
       "\\item[\\$Descriptives] A data.frame: 3 × 10\n",
       "\\begin{tabular}{r|llllllllll}\n",
       "  & n & Mean & Std.Dev & Median & Min & Max & 25th & 75th & Skew & Kurtosis\\\\\n",
       "  & <int> & <dbl> & <dbl> & <dbl> & <dbl> & <dbl> & <dbl> & <dbl> & <dbl> & <dbl>\\\\\n",
       "\\hline\n",
       "\tFuel(x1) & 25 & 12.5600 & 5.382000 & 11.20 & 4.24 & 29.11 & 9.92 & 13.50 & 1.5749453 &  2.5684509\\\\\n",
       "\tRepair(x2) & 25 &  8.1612 & 4.631722 &  6.15 & 1.35 & 17.44 & 5.07 & 12.43 & 0.4003681 & -1.2126908\\\\\n",
       "\tCapital(x3) & 25 & 10.5444 & 3.687688 & 10.23 & 3.28 & 17.59 & 8.13 & 12.14 & 0.1154018 & -0.4623851\\\\\n",
       "\\end{tabular}\n",
       "\n",
       "\\item[\\$multivariateOutliers] NULL\n",
       "\\end{description}\n"
      ],
      "text/markdown": [
       "$multivariateNormality\n",
       ":   \n",
       "A data.frame: 1 × 5\n",
       "\n",
       "| Test &lt;chr&gt; | E &lt;dbl&gt; | df &lt;dbl&gt; | p value &lt;dbl&gt; | MVN &lt;chr&gt; |\n",
       "|---|---|---|---|---|\n",
       "| Doornik-Hansen | 8.371901 | 6 | 0.2121031 | YES |\n",
       "\n",
       "\n",
       "$univariateNormality\n",
       ":   \n",
       "A data.frame: 3 × 5\n",
       "\n",
       "| <!--/--> | Test &lt;I&lt;chr&gt;&gt; | Variable &lt;I&lt;chr&gt;&gt; | Statistic &lt;I&lt;chr&gt;&gt; | p value &lt;I&lt;chr&gt;&gt; | Normality &lt;I&lt;chr&gt;&gt; |\n",
       "|---|---|---|---|---|---|\n",
       "| 1 | Anderson-Darling |  Fuel(x1)   |    1.4744 |    0.0006 |    NO     |\n",
       "| 2 | Anderson-Darling | Repair(x2)  |    0.7740 |    0.0383 |    NO     |\n",
       "| 3 | Anderson-Darling | Capital(x3) |    0.3049 |    0.5434 |    YES    |\n",
       "\n",
       "\n",
       "$Descriptives\n",
       ":   \n",
       "A data.frame: 3 × 10\n",
       "\n",
       "| <!--/--> | n &lt;int&gt; | Mean &lt;dbl&gt; | Std.Dev &lt;dbl&gt; | Median &lt;dbl&gt; | Min &lt;dbl&gt; | Max &lt;dbl&gt; | 25th &lt;dbl&gt; | 75th &lt;dbl&gt; | Skew &lt;dbl&gt; | Kurtosis &lt;dbl&gt; |\n",
       "|---|---|---|---|---|---|---|---|---|---|---|\n",
       "| Fuel(x1) | 25 | 12.5600 | 5.382000 | 11.20 | 4.24 | 29.11 | 9.92 | 13.50 | 1.5749453 |  2.5684509 |\n",
       "| Repair(x2) | 25 |  8.1612 | 4.631722 |  6.15 | 1.35 | 17.44 | 5.07 | 12.43 | 0.4003681 | -1.2126908 |\n",
       "| Capital(x3) | 25 | 10.5444 | 3.687688 | 10.23 | 3.28 | 17.59 | 8.13 | 12.14 | 0.1154018 | -0.4623851 |\n",
       "\n",
       "\n",
       "$multivariateOutliers\n",
       ":   NULL\n",
       "\n",
       "\n"
      ],
      "text/plain": [
       "$multivariateNormality\n",
       "            Test        E df   p value MVN\n",
       "1 Doornik-Hansen 8.371901  6 0.2121031 YES\n",
       "\n",
       "$univariateNormality\n",
       "              Test    Variable Statistic   p value Normality\n",
       "1 Anderson-Darling  Fuel(x1)      1.4744    0.0006    NO    \n",
       "2 Anderson-Darling Repair(x2)     0.7740    0.0383    NO    \n",
       "3 Anderson-Darling Capital(x3)    0.3049    0.5434    YES   \n",
       "\n",
       "$Descriptives\n",
       "             n    Mean  Std.Dev Median  Min   Max 25th  75th      Skew\n",
       "Fuel(x1)    25 12.5600 5.382000  11.20 4.24 29.11 9.92 13.50 1.5749453\n",
       "Repair(x2)  25  8.1612 4.631722   6.15 1.35 17.44 5.07 12.43 0.4003681\n",
       "Capital(x3) 25 10.5444 3.687688  10.23 3.28 17.59 8.13 12.14 0.1154018\n",
       "              Kurtosis\n",
       "Fuel(x1)     2.5684509\n",
       "Repair(x2)  -1.2126908\n",
       "Capital(x3) -0.4623851\n",
       "\n",
       "$multivariateOutliers\n",
       "NULL\n"
      ]
     },
     "metadata": {},
     "output_type": "display_data"
    }
   ],
   "source": [
    "mvn(data, mvnTest = \"dh\", showOutliers = TRUE)"
   ]
  },
  {
   "cell_type": "markdown",
   "id": "38a27b2e",
   "metadata": {
    "heading_collapsed": true
   },
   "source": [
    "## E-Statistics Test:"
   ]
  },
  {
   "cell_type": "code",
   "execution_count": 12,
   "id": "5c4539fb",
   "metadata": {
    "ExecuteTime": {
     "end_time": "2022-03-06T08:16:21.703691Z",
     "start_time": "2022-03-06T08:16:19.959Z"
    },
    "hidden": true
   },
   "outputs": [
    {
     "data": {
      "text/html": [
       "<dl>\n",
       "\t<dt>$multivariateNormality</dt>\n",
       "\t\t<dd><table class=\"dataframe\">\n",
       "<caption>A data.frame: 1 × 4</caption>\n",
       "<thead>\n",
       "\t<tr><th scope=col>Test</th><th scope=col>Statistic</th><th scope=col>p value</th><th scope=col>MVN</th></tr>\n",
       "\t<tr><th scope=col>&lt;chr&gt;</th><th scope=col>&lt;dbl&gt;</th><th scope=col>&lt;dbl&gt;</th><th scope=col>&lt;chr&gt;</th></tr>\n",
       "</thead>\n",
       "<tbody>\n",
       "\t<tr><td>E-statistic</td><td>1.301165</td><td>0.004</td><td>NO</td></tr>\n",
       "</tbody>\n",
       "</table>\n",
       "</dd>\n",
       "\t<dt>$univariateNormality</dt>\n",
       "\t\t<dd><table class=\"dataframe\">\n",
       "<caption>A data.frame: 3 × 5</caption>\n",
       "<thead>\n",
       "\t<tr><th></th><th scope=col>Test</th><th scope=col>Variable</th><th scope=col>Statistic</th><th scope=col>p value</th><th scope=col>Normality</th></tr>\n",
       "\t<tr><th></th><th scope=col>&lt;I&lt;chr&gt;&gt;</th><th scope=col>&lt;I&lt;chr&gt;&gt;</th><th scope=col>&lt;I&lt;chr&gt;&gt;</th><th scope=col>&lt;I&lt;chr&gt;&gt;</th><th scope=col>&lt;I&lt;chr&gt;&gt;</th></tr>\n",
       "</thead>\n",
       "<tbody>\n",
       "\t<tr><th scope=row>1</th><td>Anderson-Darling</td><td> Fuel(x1)  </td><td>   1.4744</td><td>   0.0006</td><td>   NO    </td></tr>\n",
       "\t<tr><th scope=row>2</th><td>Anderson-Darling</td><td>Repair(x2) </td><td>   0.7740</td><td>   0.0383</td><td>   NO    </td></tr>\n",
       "\t<tr><th scope=row>3</th><td>Anderson-Darling</td><td>Capital(x3)</td><td>   0.3049</td><td>   0.5434</td><td>   YES   </td></tr>\n",
       "</tbody>\n",
       "</table>\n",
       "</dd>\n",
       "\t<dt>$Descriptives</dt>\n",
       "\t\t<dd><table class=\"dataframe\">\n",
       "<caption>A data.frame: 3 × 10</caption>\n",
       "<thead>\n",
       "\t<tr><th></th><th scope=col>n</th><th scope=col>Mean</th><th scope=col>Std.Dev</th><th scope=col>Median</th><th scope=col>Min</th><th scope=col>Max</th><th scope=col>25th</th><th scope=col>75th</th><th scope=col>Skew</th><th scope=col>Kurtosis</th></tr>\n",
       "\t<tr><th></th><th scope=col>&lt;int&gt;</th><th scope=col>&lt;dbl&gt;</th><th scope=col>&lt;dbl&gt;</th><th scope=col>&lt;dbl&gt;</th><th scope=col>&lt;dbl&gt;</th><th scope=col>&lt;dbl&gt;</th><th scope=col>&lt;dbl&gt;</th><th scope=col>&lt;dbl&gt;</th><th scope=col>&lt;dbl&gt;</th><th scope=col>&lt;dbl&gt;</th></tr>\n",
       "</thead>\n",
       "<tbody>\n",
       "\t<tr><th scope=row>Fuel(x1)</th><td>25</td><td>12.5600</td><td>5.382000</td><td>11.20</td><td>4.24</td><td>29.11</td><td>9.92</td><td>13.50</td><td>1.5749453</td><td> 2.5684509</td></tr>\n",
       "\t<tr><th scope=row>Repair(x2)</th><td>25</td><td> 8.1612</td><td>4.631722</td><td> 6.15</td><td>1.35</td><td>17.44</td><td>5.07</td><td>12.43</td><td>0.4003681</td><td>-1.2126908</td></tr>\n",
       "\t<tr><th scope=row>Capital(x3)</th><td>25</td><td>10.5444</td><td>3.687688</td><td>10.23</td><td>3.28</td><td>17.59</td><td>8.13</td><td>12.14</td><td>0.1154018</td><td>-0.4623851</td></tr>\n",
       "</tbody>\n",
       "</table>\n",
       "</dd>\n",
       "\t<dt>$multivariateOutliers</dt>\n",
       "\t\t<dd>NULL</dd>\n",
       "</dl>\n"
      ],
      "text/latex": [
       "\\begin{description}\n",
       "\\item[\\$multivariateNormality] A data.frame: 1 × 4\n",
       "\\begin{tabular}{llll}\n",
       " Test & Statistic & p value & MVN\\\\\n",
       " <chr> & <dbl> & <dbl> & <chr>\\\\\n",
       "\\hline\n",
       "\t E-statistic & 1.301165 & 0.004 & NO\\\\\n",
       "\\end{tabular}\n",
       "\n",
       "\\item[\\$univariateNormality] A data.frame: 3 × 5\n",
       "\\begin{tabular}{r|lllll}\n",
       "  & Test & Variable & Statistic & p value & Normality\\\\\n",
       "  & <I<chr>> & <I<chr>> & <I<chr>> & <I<chr>> & <I<chr>>\\\\\n",
       "\\hline\n",
       "\t1 & Anderson-Darling &  Fuel(x1)   &    1.4744 &    0.0006 &    NO    \\\\\n",
       "\t2 & Anderson-Darling & Repair(x2)  &    0.7740 &    0.0383 &    NO    \\\\\n",
       "\t3 & Anderson-Darling & Capital(x3) &    0.3049 &    0.5434 &    YES   \\\\\n",
       "\\end{tabular}\n",
       "\n",
       "\\item[\\$Descriptives] A data.frame: 3 × 10\n",
       "\\begin{tabular}{r|llllllllll}\n",
       "  & n & Mean & Std.Dev & Median & Min & Max & 25th & 75th & Skew & Kurtosis\\\\\n",
       "  & <int> & <dbl> & <dbl> & <dbl> & <dbl> & <dbl> & <dbl> & <dbl> & <dbl> & <dbl>\\\\\n",
       "\\hline\n",
       "\tFuel(x1) & 25 & 12.5600 & 5.382000 & 11.20 & 4.24 & 29.11 & 9.92 & 13.50 & 1.5749453 &  2.5684509\\\\\n",
       "\tRepair(x2) & 25 &  8.1612 & 4.631722 &  6.15 & 1.35 & 17.44 & 5.07 & 12.43 & 0.4003681 & -1.2126908\\\\\n",
       "\tCapital(x3) & 25 & 10.5444 & 3.687688 & 10.23 & 3.28 & 17.59 & 8.13 & 12.14 & 0.1154018 & -0.4623851\\\\\n",
       "\\end{tabular}\n",
       "\n",
       "\\item[\\$multivariateOutliers] NULL\n",
       "\\end{description}\n"
      ],
      "text/markdown": [
       "$multivariateNormality\n",
       ":   \n",
       "A data.frame: 1 × 4\n",
       "\n",
       "| Test &lt;chr&gt; | Statistic &lt;dbl&gt; | p value &lt;dbl&gt; | MVN &lt;chr&gt; |\n",
       "|---|---|---|---|\n",
       "| E-statistic | 1.301165 | 0.004 | NO |\n",
       "\n",
       "\n",
       "$univariateNormality\n",
       ":   \n",
       "A data.frame: 3 × 5\n",
       "\n",
       "| <!--/--> | Test &lt;I&lt;chr&gt;&gt; | Variable &lt;I&lt;chr&gt;&gt; | Statistic &lt;I&lt;chr&gt;&gt; | p value &lt;I&lt;chr&gt;&gt; | Normality &lt;I&lt;chr&gt;&gt; |\n",
       "|---|---|---|---|---|---|\n",
       "| 1 | Anderson-Darling |  Fuel(x1)   |    1.4744 |    0.0006 |    NO     |\n",
       "| 2 | Anderson-Darling | Repair(x2)  |    0.7740 |    0.0383 |    NO     |\n",
       "| 3 | Anderson-Darling | Capital(x3) |    0.3049 |    0.5434 |    YES    |\n",
       "\n",
       "\n",
       "$Descriptives\n",
       ":   \n",
       "A data.frame: 3 × 10\n",
       "\n",
       "| <!--/--> | n &lt;int&gt; | Mean &lt;dbl&gt; | Std.Dev &lt;dbl&gt; | Median &lt;dbl&gt; | Min &lt;dbl&gt; | Max &lt;dbl&gt; | 25th &lt;dbl&gt; | 75th &lt;dbl&gt; | Skew &lt;dbl&gt; | Kurtosis &lt;dbl&gt; |\n",
       "|---|---|---|---|---|---|---|---|---|---|---|\n",
       "| Fuel(x1) | 25 | 12.5600 | 5.382000 | 11.20 | 4.24 | 29.11 | 9.92 | 13.50 | 1.5749453 |  2.5684509 |\n",
       "| Repair(x2) | 25 |  8.1612 | 4.631722 |  6.15 | 1.35 | 17.44 | 5.07 | 12.43 | 0.4003681 | -1.2126908 |\n",
       "| Capital(x3) | 25 | 10.5444 | 3.687688 | 10.23 | 3.28 | 17.59 | 8.13 | 12.14 | 0.1154018 | -0.4623851 |\n",
       "\n",
       "\n",
       "$multivariateOutliers\n",
       ":   NULL\n",
       "\n",
       "\n"
      ],
      "text/plain": [
       "$multivariateNormality\n",
       "         Test Statistic p value MVN\n",
       "1 E-statistic  1.301165   0.004  NO\n",
       "\n",
       "$univariateNormality\n",
       "              Test    Variable Statistic   p value Normality\n",
       "1 Anderson-Darling  Fuel(x1)      1.4744    0.0006    NO    \n",
       "2 Anderson-Darling Repair(x2)     0.7740    0.0383    NO    \n",
       "3 Anderson-Darling Capital(x3)    0.3049    0.5434    YES   \n",
       "\n",
       "$Descriptives\n",
       "             n    Mean  Std.Dev Median  Min   Max 25th  75th      Skew\n",
       "Fuel(x1)    25 12.5600 5.382000  11.20 4.24 29.11 9.92 13.50 1.5749453\n",
       "Repair(x2)  25  8.1612 4.631722   6.15 1.35 17.44 5.07 12.43 0.4003681\n",
       "Capital(x3) 25 10.5444 3.687688  10.23 3.28 17.59 8.13 12.14 0.1154018\n",
       "              Kurtosis\n",
       "Fuel(x1)     2.5684509\n",
       "Repair(x2)  -1.2126908\n",
       "Capital(x3) -0.4623851\n",
       "\n",
       "$multivariateOutliers\n",
       "NULL\n"
      ]
     },
     "metadata": {},
     "output_type": "display_data"
    }
   ],
   "source": [
    "mvn(data, mvnTest = 'energy', showOutliers = TRUE)"
   ]
  },
  {
   "cell_type": "markdown",
   "id": "e0f7e641",
   "metadata": {},
   "source": [
    "## Saphiro-Wilk Test:"
   ]
  },
  {
   "cell_type": "code",
   "execution_count": 13,
   "id": "3fd44a23",
   "metadata": {
    "ExecuteTime": {
     "end_time": "2022-03-06T08:16:21.733635Z",
     "start_time": "2022-03-06T08:16:19.961Z"
    }
   },
   "outputs": [
    {
     "data": {
      "text/plain": [
       "\n",
       "\tMultivariate Shapiro-Wilk normality test\n",
       "\n",
       "data:  (Fuel(x1),Repair(x2),Capital(x3))\n",
       "W = 0.77297, p-value = 8.319e-05\n"
      ]
     },
     "metadata": {},
     "output_type": "display_data"
    }
   ],
   "source": [
    "mshapiro.test(data)"
   ]
  },
  {
   "cell_type": "raw",
   "id": "141e96ae",
   "metadata": {},
   "source": [
    "Interpretasi:\n",
    "Berdasarkan hasil dari uji multivariat normal dengan metode Mardia, Henze-Zirkler, Royston, Doomik-Hansten, E-Statistics, dan Saphiro-Wilk, seluruh metode uji tersebut menunjukkan bahwa data tidak berdistribusi multivariat normal. Hal ini dapat dikarenakan oleh adanya outlier atau diperlukan transformasi data."
   ]
  },
  {
   "cell_type": "markdown",
   "id": "ddae7ee4",
   "metadata": {
    "ExecuteTime": {
     "end_time": "2022-03-04T13:59:57.024019Z",
     "start_time": "2022-03-04T13:59:57.000Z"
    }
   },
   "source": [
    "# 3. Mengatasi outlier"
   ]
  },
  {
   "cell_type": "markdown",
   "id": "e2e68a56",
   "metadata": {
    "heading_collapsed": true
   },
   "source": [
    "### a. Buang outlier, kemudian cek multivariate normal"
   ]
  },
  {
   "cell_type": "code",
   "execution_count": 14,
   "id": "f3441068",
   "metadata": {
    "ExecuteTime": {
     "end_time": "2022-03-06T08:16:21.801583Z",
     "start_time": "2022-03-06T08:16:19.974Z"
    },
    "hidden": true
   },
   "outputs": [
    {
     "data": {
      "image/png": "[encoded data removed]",
      "text/plain": [
       "plot without title"
      ]
     },
     "metadata": {
      "image/png": {
       "height": 420,
       "width": 420
      }
     },
     "output_type": "display_data"
    }
   ],
   "source": [
    "# Cek variabel yang memiliki outlier lewat boxplot\n",
    "boxplot(data, xlab = \"Variable\")"
   ]
  },
  {
   "cell_type": "raw",
   "id": "0296a808",
   "metadata": {
    "hidden": true
   },
   "source": [
    "Berdasarkan box-plot tersebut didapatkan bahwa hanya variabel Fuel(X1) yang memiliki outlier sehingga diperlukan eliminasi data pada variabel Fuel(x1)"
   ]
  },
  {
   "cell_type": "code",
   "execution_count": 15,
   "id": "2a9b36e9",
   "metadata": {
    "ExecuteTime": {
     "end_time": "2022-03-06T08:16:21.832566Z",
     "start_time": "2022-03-06T08:16:19.980Z"
    },
    "hidden": true
   },
   "outputs": [],
   "source": [
    "Q1 <- quantile(data$'Fuel(x1)', .25)\n",
    "Q3 <- quantile(data$'Fuel(x1)', .75)\n",
    "IQR <- (Q3 - Q1)\n",
    "up_bound <- Q3 + (IQR * 1.5)\n",
    "low_bound <- Q1 - (IQR * 1.5)"
   ]
  },
  {
   "cell_type": "code",
   "execution_count": 16,
   "id": "991f2453",
   "metadata": {
    "ExecuteTime": {
     "end_time": "2022-03-06T08:16:21.867620Z",
     "start_time": "2022-03-06T08:16:19.982Z"
    },
    "hidden": true,
    "scrolled": true
   },
   "outputs": [
    {
     "data": {
      "text/html": [
       "<table class=\"dataframe\">\n",
       "<caption>A tibble: 22 × 3</caption>\n",
       "<thead>\n",
       "\t<tr><th scope=col>Fuel(x1)</th><th scope=col>Repair(x2)</th><th scope=col>Capital(x3)</th></tr>\n",
       "\t<tr><th scope=col>&lt;dbl&gt;</th><th scope=col>&lt;dbl&gt;</th><th scope=col>&lt;dbl&gt;</th></tr>\n",
       "</thead>\n",
       "<tbody>\n",
       "\t<tr><td>16.44</td><td>12.43</td><td>11.23</td></tr>\n",
       "\t<tr><td> 7.19</td><td> 2.70</td><td> 3.92</td></tr>\n",
       "\t<tr><td> 9.92</td><td> 1.35</td><td> 9.75</td></tr>\n",
       "\t<tr><td>11.20</td><td> 5.05</td><td>10.67</td></tr>\n",
       "\t<tr><td>14.25</td><td> 5.78</td><td> 9.88</td></tr>\n",
       "\t<tr><td>13.50</td><td>10.98</td><td>10.60</td></tr>\n",
       "\t<tr><td>13.32</td><td>14.27</td><td> 9.45</td></tr>\n",
       "\t<tr><td>12.68</td><td> 7.61</td><td>10.23</td></tr>\n",
       "\t<tr><td> 7.51</td><td> 5.80</td><td> 8.13</td></tr>\n",
       "\t<tr><td> 9.90</td><td> 3.63</td><td> 9.13</td></tr>\n",
       "\t<tr><td>10.25</td><td> 5.07</td><td>10.17</td></tr>\n",
       "\t<tr><td>11.11</td><td> 6.15</td><td> 7.61</td></tr>\n",
       "\t<tr><td>12.17</td><td>14.26</td><td>14.39</td></tr>\n",
       "\t<tr><td>10.24</td><td> 2.59</td><td> 6.09</td></tr>\n",
       "\t<tr><td>10.18</td><td> 6.05</td><td>12.14</td></tr>\n",
       "\t<tr><td> 8.88</td><td> 2.70</td><td>12.23</td></tr>\n",
       "\t<tr><td>12.34</td><td> 7.73</td><td>11.68</td></tr>\n",
       "\t<tr><td> 8.51</td><td>14.02</td><td>12.01</td></tr>\n",
       "\t<tr><td>12.95</td><td> 8.24</td><td> 7.18</td></tr>\n",
       "\t<tr><td>16.93</td><td>13.37</td><td>17.59</td></tr>\n",
       "\t<tr><td>14.70</td><td>10.78</td><td>14.58</td></tr>\n",
       "\t<tr><td>10.32</td><td> 5.16</td><td>17.00</td></tr>\n",
       "</tbody>\n",
       "</table>\n"
      ],
      "text/latex": [
       "A tibble: 22 × 3\n",
       "\\begin{tabular}{lll}\n",
       " Fuel(x1) & Repair(x2) & Capital(x3)\\\\\n",
       " <dbl> & <dbl> & <dbl>\\\\\n",
       "\\hline\n",
       "\t 16.44 & 12.43 & 11.23\\\\\n",
       "\t  7.19 &  2.70 &  3.92\\\\\n",
       "\t  9.92 &  1.35 &  9.75\\\\\n",
       "\t 11.20 &  5.05 & 10.67\\\\\n",
       "\t 14.25 &  5.78 &  9.88\\\\\n",
       "\t 13.50 & 10.98 & 10.60\\\\\n",
       "\t 13.32 & 14.27 &  9.45\\\\\n",
       "\t 12.68 &  7.61 & 10.23\\\\\n",
       "\t  7.51 &  5.80 &  8.13\\\\\n",
       "\t  9.90 &  3.63 &  9.13\\\\\n",
       "\t 10.25 &  5.07 & 10.17\\\\\n",
       "\t 11.11 &  6.15 &  7.61\\\\\n",
       "\t 12.17 & 14.26 & 14.39\\\\\n",
       "\t 10.24 &  2.59 &  6.09\\\\\n",
       "\t 10.18 &  6.05 & 12.14\\\\\n",
       "\t  8.88 &  2.70 & 12.23\\\\\n",
       "\t 12.34 &  7.73 & 11.68\\\\\n",
       "\t  8.51 & 14.02 & 12.01\\\\\n",
       "\t 12.95 &  8.24 &  7.18\\\\\n",
       "\t 16.93 & 13.37 & 17.59\\\\\n",
       "\t 14.70 & 10.78 & 14.58\\\\\n",
       "\t 10.32 &  5.16 & 17.00\\\\\n",
       "\\end{tabular}\n"
      ],
      "text/markdown": [
       "\n",
       "A tibble: 22 × 3\n",
       "\n",
       "| Fuel(x1) &lt;dbl&gt; | Repair(x2) &lt;dbl&gt; | Capital(x3) &lt;dbl&gt; |\n",
       "|---|---|---|\n",
       "| 16.44 | 12.43 | 11.23 |\n",
       "|  7.19 |  2.70 |  3.92 |\n",
       "|  9.92 |  1.35 |  9.75 |\n",
       "| 11.20 |  5.05 | 10.67 |\n",
       "| 14.25 |  5.78 |  9.88 |\n",
       "| 13.50 | 10.98 | 10.60 |\n",
       "| 13.32 | 14.27 |  9.45 |\n",
       "| 12.68 |  7.61 | 10.23 |\n",
       "|  7.51 |  5.80 |  8.13 |\n",
       "|  9.90 |  3.63 |  9.13 |\n",
       "| 10.25 |  5.07 | 10.17 |\n",
       "| 11.11 |  6.15 |  7.61 |\n",
       "| 12.17 | 14.26 | 14.39 |\n",
       "| 10.24 |  2.59 |  6.09 |\n",
       "| 10.18 |  6.05 | 12.14 |\n",
       "|  8.88 |  2.70 | 12.23 |\n",
       "| 12.34 |  7.73 | 11.68 |\n",
       "|  8.51 | 14.02 | 12.01 |\n",
       "| 12.95 |  8.24 |  7.18 |\n",
       "| 16.93 | 13.37 | 17.59 |\n",
       "| 14.70 | 10.78 | 14.58 |\n",
       "| 10.32 |  5.16 | 17.00 |\n",
       "\n"
      ],
      "text/plain": [
       "   Fuel(x1) Repair(x2) Capital(x3)\n",
       "1  16.44    12.43      11.23      \n",
       "2   7.19     2.70       3.92      \n",
       "3   9.92     1.35       9.75      \n",
       "4  11.20     5.05      10.67      \n",
       "5  14.25     5.78       9.88      \n",
       "6  13.50    10.98      10.60      \n",
       "7  13.32    14.27       9.45      \n",
       "8  12.68     7.61      10.23      \n",
       "9   7.51     5.80       8.13      \n",
       "10  9.90     3.63       9.13      \n",
       "11 10.25     5.07      10.17      \n",
       "12 11.11     6.15       7.61      \n",
       "13 12.17    14.26      14.39      \n",
       "14 10.24     2.59       6.09      \n",
       "15 10.18     6.05      12.14      \n",
       "16  8.88     2.70      12.23      \n",
       "17 12.34     7.73      11.68      \n",
       "18  8.51    14.02      12.01      \n",
       "19 12.95     8.24       7.18      \n",
       "20 16.93    13.37      17.59      \n",
       "21 14.70    10.78      14.58      \n",
       "22 10.32     5.16      17.00      "
      ]
     },
     "metadata": {},
     "output_type": "display_data"
    }
   ],
   "source": [
    "eliminated_data <- subset(data, data$'Fuel(x1)' > low_bound & data$'Fuel(x1)' < up_bound)\n",
    "eliminated_data"
   ]
  },
  {
   "cell_type": "code",
   "execution_count": 17,
   "id": "d687dfe2",
   "metadata": {
    "ExecuteTime": {
     "end_time": "2022-03-06T08:16:21.914565Z",
     "start_time": "2022-03-06T08:16:19.984Z"
    },
    "hidden": true
   },
   "outputs": [
    {
     "data": {
      "text/html": [
       "<dl>\n",
       "\t<dt>$multivariateNormality</dt>\n",
       "\t\t<dd><table class=\"dataframe\">\n",
       "<caption>A data.frame: 1 × 4</caption>\n",
       "<thead>\n",
       "\t<tr><th scope=col>Test</th><th scope=col>HZ</th><th scope=col>p value</th><th scope=col>MVN</th></tr>\n",
       "\t<tr><th scope=col>&lt;chr&gt;</th><th scope=col>&lt;dbl&gt;</th><th scope=col>&lt;dbl&gt;</th><th scope=col>&lt;chr&gt;</th></tr>\n",
       "</thead>\n",
       "<tbody>\n",
       "\t<tr><td>Henze-Zirkler</td><td>0.5777932</td><td>0.4674496</td><td>YES</td></tr>\n",
       "</tbody>\n",
       "</table>\n",
       "</dd>\n",
       "\t<dt>$univariateNormality</dt>\n",
       "\t\t<dd><table class=\"dataframe\">\n",
       "<caption>A data.frame: 3 × 5</caption>\n",
       "<thead>\n",
       "\t<tr><th></th><th scope=col>Test</th><th scope=col>Variable</th><th scope=col>Statistic</th><th scope=col>p value</th><th scope=col>Normality</th></tr>\n",
       "\t<tr><th></th><th scope=col>&lt;I&lt;chr&gt;&gt;</th><th scope=col>&lt;I&lt;chr&gt;&gt;</th><th scope=col>&lt;I&lt;chr&gt;&gt;</th><th scope=col>&lt;I&lt;chr&gt;&gt;</th><th scope=col>&lt;I&lt;chr&gt;&gt;</th></tr>\n",
       "</thead>\n",
       "<tbody>\n",
       "\t<tr><th scope=row>1</th><td>Anderson-Darling</td><td> Fuel(x1)  </td><td>   0.2420</td><td>   0.7402</td><td>   YES   </td></tr>\n",
       "\t<tr><th scope=row>2</th><td>Anderson-Darling</td><td>Repair(x2) </td><td>   0.6709</td><td>   0.0688</td><td>   YES   </td></tr>\n",
       "\t<tr><th scope=row>3</th><td>Anderson-Darling</td><td>Capital(x3)</td><td>   0.3077</td><td>   0.5335</td><td>   YES   </td></tr>\n",
       "</tbody>\n",
       "</table>\n",
       "</dd>\n",
       "\t<dt>$Descriptives</dt>\n",
       "\t\t<dd><table class=\"dataframe\">\n",
       "<caption>A data.frame: 3 × 10</caption>\n",
       "<thead>\n",
       "\t<tr><th></th><th scope=col>n</th><th scope=col>Mean</th><th scope=col>Std.Dev</th><th scope=col>Median</th><th scope=col>Min</th><th scope=col>Max</th><th scope=col>25th</th><th scope=col>75th</th><th scope=col>Skew</th><th scope=col>Kurtosis</th></tr>\n",
       "\t<tr><th></th><th scope=col>&lt;int&gt;</th><th scope=col>&lt;dbl&gt;</th><th scope=col>&lt;dbl&gt;</th><th scope=col>&lt;dbl&gt;</th><th scope=col>&lt;dbl&gt;</th><th scope=col>&lt;dbl&gt;</th><th scope=col>&lt;dbl&gt;</th><th scope=col>&lt;dbl&gt;</th><th scope=col>&lt;dbl&gt;</th><th scope=col>&lt;dbl&gt;</th></tr>\n",
       "</thead>\n",
       "<tbody>\n",
       "\t<tr><th scope=row>Fuel(x1)</th><td>22</td><td>11.567727</td><td>2.631639</td><td>11.155</td><td>7.19</td><td>16.93</td><td>9.985</td><td>13.2275</td><td>0.2991707</td><td>-0.7512962</td></tr>\n",
       "\t<tr><th scope=row>Repair(x2)</th><td>22</td><td> 7.532727</td><td>4.177060</td><td> 6.100</td><td>1.35</td><td>14.27</td><td>5.055</td><td>10.9300</td><td>0.3572659</td><td>-1.3003991</td></tr>\n",
       "\t<tr><th scope=row>Capital(x3)</th><td>22</td><td>10.711818</td><td>3.273853</td><td>10.415</td><td>3.92</td><td>17.59</td><td>9.210</td><td>12.1075</td><td>0.2338098</td><td>-0.1871699</td></tr>\n",
       "</tbody>\n",
       "</table>\n",
       "</dd>\n",
       "\t<dt>$multivariateOutliers</dt>\n",
       "\t\t<dd>NULL</dd>\n",
       "</dl>\n"
      ],
      "text/latex": [
       "\\begin{description}\n",
       "\\item[\\$multivariateNormality] A data.frame: 1 × 4\n",
       "\\begin{tabular}{llll}\n",
       " Test & HZ & p value & MVN\\\\\n",
       " <chr> & <dbl> & <dbl> & <chr>\\\\\n",
       "\\hline\n",
       "\t Henze-Zirkler & 0.5777932 & 0.4674496 & YES\\\\\n",
       "\\end{tabular}\n",
       "\n",
       "\\item[\\$univariateNormality] A data.frame: 3 × 5\n",
       "\\begin{tabular}{r|lllll}\n",
       "  & Test & Variable & Statistic & p value & Normality\\\\\n",
       "  & <I<chr>> & <I<chr>> & <I<chr>> & <I<chr>> & <I<chr>>\\\\\n",
       "\\hline\n",
       "\t1 & Anderson-Darling &  Fuel(x1)   &    0.2420 &    0.7402 &    YES   \\\\\n",
       "\t2 & Anderson-Darling & Repair(x2)  &    0.6709 &    0.0688 &    YES   \\\\\n",
       "\t3 & Anderson-Darling & Capital(x3) &    0.3077 &    0.5335 &    YES   \\\\\n",
       "\\end{tabular}\n",
       "\n",
       "\\item[\\$Descriptives] A data.frame: 3 × 10\n",
       "\\begin{tabular}{r|llllllllll}\n",
       "  & n & Mean & Std.Dev & Median & Min & Max & 25th & 75th & Skew & Kurtosis\\\\\n",
       "  & <int> & <dbl> & <dbl> & <dbl> & <dbl> & <dbl> & <dbl> & <dbl> & <dbl> & <dbl>\\\\\n",
       "\\hline\n",
       "\tFuel(x1) & 22 & 11.567727 & 2.631639 & 11.155 & 7.19 & 16.93 & 9.985 & 13.2275 & 0.2991707 & -0.7512962\\\\\n",
       "\tRepair(x2) & 22 &  7.532727 & 4.177060 &  6.100 & 1.35 & 14.27 & 5.055 & 10.9300 & 0.3572659 & -1.3003991\\\\\n",
       "\tCapital(x3) & 22 & 10.711818 & 3.273853 & 10.415 & 3.92 & 17.59 & 9.210 & 12.1075 & 0.2338098 & -0.1871699\\\\\n",
       "\\end{tabular}\n",
       "\n",
       "\\item[\\$multivariateOutliers] NULL\n",
       "\\end{description}\n"
      ],
      "text/markdown": [
       "$multivariateNormality\n",
       ":   \n",
       "A data.frame: 1 × 4\n",
       "\n",
       "| Test &lt;chr&gt; | HZ &lt;dbl&gt; | p value &lt;dbl&gt; | MVN &lt;chr&gt; |\n",
       "|---|---|---|---|\n",
       "| Henze-Zirkler | 0.5777932 | 0.4674496 | YES |\n",
       "\n",
       "\n",
       "$univariateNormality\n",
       ":   \n",
       "A data.frame: 3 × 5\n",
       "\n",
       "| <!--/--> | Test &lt;I&lt;chr&gt;&gt; | Variable &lt;I&lt;chr&gt;&gt; | Statistic &lt;I&lt;chr&gt;&gt; | p value &lt;I&lt;chr&gt;&gt; | Normality &lt;I&lt;chr&gt;&gt; |\n",
       "|---|---|---|---|---|---|\n",
       "| 1 | Anderson-Darling |  Fuel(x1)   |    0.2420 |    0.7402 |    YES    |\n",
       "| 2 | Anderson-Darling | Repair(x2)  |    0.6709 |    0.0688 |    YES    |\n",
       "| 3 | Anderson-Darling | Capital(x3) |    0.3077 |    0.5335 |    YES    |\n",
       "\n",
       "\n",
       "$Descriptives\n",
       ":   \n",
       "A data.frame: 3 × 10\n",
       "\n",
       "| <!--/--> | n &lt;int&gt; | Mean &lt;dbl&gt; | Std.Dev &lt;dbl&gt; | Median &lt;dbl&gt; | Min &lt;dbl&gt; | Max &lt;dbl&gt; | 25th &lt;dbl&gt; | 75th &lt;dbl&gt; | Skew &lt;dbl&gt; | Kurtosis &lt;dbl&gt; |\n",
       "|---|---|---|---|---|---|---|---|---|---|---|\n",
       "| Fuel(x1) | 22 | 11.567727 | 2.631639 | 11.155 | 7.19 | 16.93 | 9.985 | 13.2275 | 0.2991707 | -0.7512962 |\n",
       "| Repair(x2) | 22 |  7.532727 | 4.177060 |  6.100 | 1.35 | 14.27 | 5.055 | 10.9300 | 0.3572659 | -1.3003991 |\n",
       "| Capital(x3) | 22 | 10.711818 | 3.273853 | 10.415 | 3.92 | 17.59 | 9.210 | 12.1075 | 0.2338098 | -0.1871699 |\n",
       "\n",
       "\n",
       "$multivariateOutliers\n",
       ":   NULL\n",
       "\n",
       "\n"
      ],
      "text/plain": [
       "$multivariateNormality\n",
       "           Test        HZ   p value MVN\n",
       "1 Henze-Zirkler 0.5777932 0.4674496 YES\n",
       "\n",
       "$univariateNormality\n",
       "              Test    Variable Statistic   p value Normality\n",
       "1 Anderson-Darling  Fuel(x1)      0.2420    0.7402    YES   \n",
       "2 Anderson-Darling Repair(x2)     0.6709    0.0688    YES   \n",
       "3 Anderson-Darling Capital(x3)    0.3077    0.5335    YES   \n",
       "\n",
       "$Descriptives\n",
       "             n      Mean  Std.Dev Median  Min   Max  25th    75th      Skew\n",
       "Fuel(x1)    22 11.567727 2.631639 11.155 7.19 16.93 9.985 13.2275 0.2991707\n",
       "Repair(x2)  22  7.532727 4.177060  6.100 1.35 14.27 5.055 10.9300 0.3572659\n",
       "Capital(x3) 22 10.711818 3.273853 10.415 3.92 17.59 9.210 12.1075 0.2338098\n",
       "              Kurtosis\n",
       "Fuel(x1)    -0.7512962\n",
       "Repair(x2)  -1.3003991\n",
       "Capital(x3) -0.1871699\n",
       "\n",
       "$multivariateOutliers\n",
       "NULL\n"
      ]
     },
     "metadata": {},
     "output_type": "display_data"
    }
   ],
   "source": [
    "mvn(data = eliminated_data, showOutlier = TRUE)"
   ]
  },
  {
   "cell_type": "raw",
   "id": "16be9bcd",
   "metadata": {
    "hidden": true
   },
   "source": [
    "Setelah dilakukan eliminasi outlier dan uji multivariat normal kembali, didapatkan data multivariat dengan sebaran normal"
   ]
  },
  {
   "cell_type": "markdown",
   "id": "84732197",
   "metadata": {},
   "source": [
    "### b.Transformasi dan cek multivariate normal lagi"
   ]
  },
  {
   "cell_type": "markdown",
   "id": "7a47bac1",
   "metadata": {},
   "source": [
    "#### Square-Root"
   ]
  },
  {
   "cell_type": "code",
   "execution_count": 18,
   "id": "c7bd1365",
   "metadata": {
    "ExecuteTime": {
     "end_time": "2022-03-06T08:16:21.954566Z",
     "start_time": "2022-03-06T08:16:19.991Z"
    },
    "scrolled": true
   },
   "outputs": [
    {
     "data": {
      "text/html": [
       "<table class=\"dataframe\">\n",
       "<caption>A tibble: 25 × 3</caption>\n",
       "<thead>\n",
       "\t<tr><th scope=col>Fuel(x1)</th><th scope=col>Repair(x2)</th><th scope=col>Capital(x3)</th></tr>\n",
       "\t<tr><th scope=col>&lt;dbl&gt;</th><th scope=col>&lt;dbl&gt;</th><th scope=col>&lt;dbl&gt;</th></tr>\n",
       "</thead>\n",
       "<tbody>\n",
       "\t<tr><td>4.054627</td><td>3.525621</td><td>3.351119</td></tr>\n",
       "\t<tr><td>2.681418</td><td>1.643168</td><td>1.979899</td></tr>\n",
       "\t<tr><td>3.149603</td><td>1.161895</td><td>3.122499</td></tr>\n",
       "\t<tr><td>2.059126</td><td>2.404163</td><td>2.789265</td></tr>\n",
       "\t<tr><td>3.346640</td><td>2.247221</td><td>3.266497</td></tr>\n",
       "\t<tr><td>3.774917</td><td>2.404163</td><td>3.143247</td></tr>\n",
       "\t<tr><td>3.674235</td><td>3.313608</td><td>3.255764</td></tr>\n",
       "\t<tr><td>3.649658</td><td>3.777565</td><td>3.074085</td></tr>\n",
       "\t<tr><td>5.395368</td><td>3.884585</td><td>1.811077</td></tr>\n",
       "\t<tr><td>3.560899</td><td>2.758623</td><td>3.198437</td></tr>\n",
       "\t<tr><td>2.740438</td><td>2.408319</td><td>2.851315</td></tr>\n",
       "\t<tr><td>3.146427</td><td>1.905256</td><td>3.021589</td></tr>\n",
       "\t<tr><td>3.201562</td><td>2.251666</td><td>3.189044</td></tr>\n",
       "\t<tr><td>3.333167</td><td>2.479919</td><td>2.758623</td></tr>\n",
       "\t<tr><td>3.488553</td><td>3.776242</td><td>3.793415</td></tr>\n",
       "\t<tr><td>3.200000</td><td>1.609348</td><td>2.467793</td></tr>\n",
       "\t<tr><td>3.190611</td><td>2.459675</td><td>3.484250</td></tr>\n",
       "\t<tr><td>2.979933</td><td>1.643168</td><td>3.497142</td></tr>\n",
       "\t<tr><td>3.512834</td><td>2.780288</td><td>3.417601</td></tr>\n",
       "\t<tr><td>2.917190</td><td>3.744329</td><td>3.465545</td></tr>\n",
       "\t<tr><td>5.114685</td><td>4.176123</td><td>4.109745</td></tr>\n",
       "\t<tr><td>3.598611</td><td>2.870540</td><td>2.679552</td></tr>\n",
       "\t<tr><td>4.114608</td><td>3.656501</td><td>4.194043</td></tr>\n",
       "\t<tr><td>3.834058</td><td>3.283291</td><td>3.818377</td></tr>\n",
       "\t<tr><td>3.212476</td><td>2.271563</td><td>4.123106</td></tr>\n",
       "</tbody>\n",
       "</table>\n"
      ],
      "text/latex": [
       "A tibble: 25 × 3\n",
       "\\begin{tabular}{lll}\n",
       " Fuel(x1) & Repair(x2) & Capital(x3)\\\\\n",
       " <dbl> & <dbl> & <dbl>\\\\\n",
       "\\hline\n",
       "\t 4.054627 & 3.525621 & 3.351119\\\\\n",
       "\t 2.681418 & 1.643168 & 1.979899\\\\\n",
       "\t 3.149603 & 1.161895 & 3.122499\\\\\n",
       "\t 2.059126 & 2.404163 & 2.789265\\\\\n",
       "\t 3.346640 & 2.247221 & 3.266497\\\\\n",
       "\t 3.774917 & 2.404163 & 3.143247\\\\\n",
       "\t 3.674235 & 3.313608 & 3.255764\\\\\n",
       "\t 3.649658 & 3.777565 & 3.074085\\\\\n",
       "\t 5.395368 & 3.884585 & 1.811077\\\\\n",
       "\t 3.560899 & 2.758623 & 3.198437\\\\\n",
       "\t 2.740438 & 2.408319 & 2.851315\\\\\n",
       "\t 3.146427 & 1.905256 & 3.021589\\\\\n",
       "\t 3.201562 & 2.251666 & 3.189044\\\\\n",
       "\t 3.333167 & 2.479919 & 2.758623\\\\\n",
       "\t 3.488553 & 3.776242 & 3.793415\\\\\n",
       "\t 3.200000 & 1.609348 & 2.467793\\\\\n",
       "\t 3.190611 & 2.459675 & 3.484250\\\\\n",
       "\t 2.979933 & 1.643168 & 3.497142\\\\\n",
       "\t 3.512834 & 2.780288 & 3.417601\\\\\n",
       "\t 2.917190 & 3.744329 & 3.465545\\\\\n",
       "\t 5.114685 & 4.176123 & 4.109745\\\\\n",
       "\t 3.598611 & 2.870540 & 2.679552\\\\\n",
       "\t 4.114608 & 3.656501 & 4.194043\\\\\n",
       "\t 3.834058 & 3.283291 & 3.818377\\\\\n",
       "\t 3.212476 & 2.271563 & 4.123106\\\\\n",
       "\\end{tabular}\n"
      ],
      "text/markdown": [
       "\n",
       "A tibble: 25 × 3\n",
       "\n",
       "| Fuel(x1) &lt;dbl&gt; | Repair(x2) &lt;dbl&gt; | Capital(x3) &lt;dbl&gt; |\n",
       "|---|---|---|\n",
       "| 4.054627 | 3.525621 | 3.351119 |\n",
       "| 2.681418 | 1.643168 | 1.979899 |\n",
       "| 3.149603 | 1.161895 | 3.122499 |\n",
       "| 2.059126 | 2.404163 | 2.789265 |\n",
       "| 3.346640 | 2.247221 | 3.266497 |\n",
       "| 3.774917 | 2.404163 | 3.143247 |\n",
       "| 3.674235 | 3.313608 | 3.255764 |\n",
       "| 3.649658 | 3.777565 | 3.074085 |\n",
       "| 5.395368 | 3.884585 | 1.811077 |\n",
       "| 3.560899 | 2.758623 | 3.198437 |\n",
       "| 2.740438 | 2.408319 | 2.851315 |\n",
       "| 3.146427 | 1.905256 | 3.021589 |\n",
       "| 3.201562 | 2.251666 | 3.189044 |\n",
       "| 3.333167 | 2.479919 | 2.758623 |\n",
       "| 3.488553 | 3.776242 | 3.793415 |\n",
       "| 3.200000 | 1.609348 | 2.467793 |\n",
       "| 3.190611 | 2.459675 | 3.484250 |\n",
       "| 2.979933 | 1.643168 | 3.497142 |\n",
       "| 3.512834 | 2.780288 | 3.417601 |\n",
       "| 2.917190 | 3.744329 | 3.465545 |\n",
       "| 5.114685 | 4.176123 | 4.109745 |\n",
       "| 3.598611 | 2.870540 | 2.679552 |\n",
       "| 4.114608 | 3.656501 | 4.194043 |\n",
       "| 3.834058 | 3.283291 | 3.818377 |\n",
       "| 3.212476 | 2.271563 | 4.123106 |\n",
       "\n"
      ],
      "text/plain": [
       "   Fuel(x1) Repair(x2) Capital(x3)\n",
       "1  4.054627 3.525621   3.351119   \n",
       "2  2.681418 1.643168   1.979899   \n",
       "3  3.149603 1.161895   3.122499   \n",
       "4  2.059126 2.404163   2.789265   \n",
       "5  3.346640 2.247221   3.266497   \n",
       "6  3.774917 2.404163   3.143247   \n",
       "7  3.674235 3.313608   3.255764   \n",
       "8  3.649658 3.777565   3.074085   \n",
       "9  5.395368 3.884585   1.811077   \n",
       "10 3.560899 2.758623   3.198437   \n",
       "11 2.740438 2.408319   2.851315   \n",
       "12 3.146427 1.905256   3.021589   \n",
       "13 3.201562 2.251666   3.189044   \n",
       "14 3.333167 2.479919   2.758623   \n",
       "15 3.488553 3.776242   3.793415   \n",
       "16 3.200000 1.609348   2.467793   \n",
       "17 3.190611 2.459675   3.484250   \n",
       "18 2.979933 1.643168   3.497142   \n",
       "19 3.512834 2.780288   3.417601   \n",
       "20 2.917190 3.744329   3.465545   \n",
       "21 5.114685 4.176123   4.109745   \n",
       "22 3.598611 2.870540   2.679552   \n",
       "23 4.114608 3.656501   4.194043   \n",
       "24 3.834058 3.283291   3.818377   \n",
       "25 3.212476 2.271563   4.123106   "
      ]
     },
     "metadata": {},
     "output_type": "display_data"
    }
   ],
   "source": [
    "sqrttransformed_data <- sqrt(data)\n",
    "sqrttransformed_data"
   ]
  },
  {
   "cell_type": "code",
   "execution_count": 19,
   "id": "b54d448d",
   "metadata": {
    "ExecuteTime": {
     "end_time": "2022-03-06T08:16:22.005404Z",
     "start_time": "2022-03-06T08:16:19.993Z"
    }
   },
   "outputs": [
    {
     "data": {
      "text/html": [
       "<dl>\n",
       "\t<dt>$multivariateNormality</dt>\n",
       "\t\t<dd><table class=\"dataframe\">\n",
       "<caption>A data.frame: 3 × 4</caption>\n",
       "<thead>\n",
       "\t<tr><th scope=col>Test</th><th scope=col>Statistic</th><th scope=col>p value</th><th scope=col>Result</th></tr>\n",
       "\t<tr><th scope=col>&lt;chr&gt;</th><th scope=col>&lt;fct&gt;</th><th scope=col>&lt;fct&gt;</th><th scope=col>&lt;chr&gt;</th></tr>\n",
       "</thead>\n",
       "<tbody>\n",
       "\t<tr><td>Mardia Skewness</td><td>25.1401450878435</td><td>0.00508609897770485</td><td>NO</td></tr>\n",
       "\t<tr><td>Mardia Kurtosis</td><td>2.29190028618052</td><td>0.0219113977530527 </td><td>NO</td></tr>\n",
       "\t<tr><td>MVN            </td><td>NA              </td><td>NA                 </td><td>NO</td></tr>\n",
       "</tbody>\n",
       "</table>\n",
       "</dd>\n",
       "\t<dt>$univariateNormality</dt>\n",
       "\t\t<dd><table class=\"dataframe\">\n",
       "<caption>A data.frame: 3 × 5</caption>\n",
       "<thead>\n",
       "\t<tr><th></th><th scope=col>Test</th><th scope=col>Variable</th><th scope=col>Statistic</th><th scope=col>p value</th><th scope=col>Normality</th></tr>\n",
       "\t<tr><th></th><th scope=col>&lt;I&lt;chr&gt;&gt;</th><th scope=col>&lt;I&lt;chr&gt;&gt;</th><th scope=col>&lt;I&lt;chr&gt;&gt;</th><th scope=col>&lt;I&lt;chr&gt;&gt;</th><th scope=col>&lt;I&lt;chr&gt;&gt;</th></tr>\n",
       "</thead>\n",
       "<tbody>\n",
       "\t<tr><th scope=row>1</th><td>Anderson-Darling</td><td> Fuel(x1)  </td><td>   0.8663</td><td>   0.0223</td><td>   NO    </td></tr>\n",
       "\t<tr><th scope=row>2</th><td>Anderson-Darling</td><td>Repair(x2) </td><td>   0.4755</td><td>   0.2190</td><td>   YES   </td></tr>\n",
       "\t<tr><th scope=row>3</th><td>Anderson-Darling</td><td>Capital(x3)</td><td>   0.3372</td><td>   0.4764</td><td>   YES   </td></tr>\n",
       "</tbody>\n",
       "</table>\n",
       "</dd>\n",
       "\t<dt>$Descriptives</dt>\n",
       "\t\t<dd><table class=\"dataframe\">\n",
       "<caption>A data.frame: 3 × 10</caption>\n",
       "<thead>\n",
       "\t<tr><th></th><th scope=col>n</th><th scope=col>Mean</th><th scope=col>Std.Dev</th><th scope=col>Median</th><th scope=col>Min</th><th scope=col>Max</th><th scope=col>25th</th><th scope=col>75th</th><th scope=col>Skew</th><th scope=col>Kurtosis</th></tr>\n",
       "\t<tr><th></th><th scope=col>&lt;int&gt;</th><th scope=col>&lt;dbl&gt;</th><th scope=col>&lt;dbl&gt;</th><th scope=col>&lt;dbl&gt;</th><th scope=col>&lt;dbl&gt;</th><th scope=col>&lt;dbl&gt;</th><th scope=col>&lt;dbl&gt;</th><th scope=col>&lt;dbl&gt;</th><th scope=col>&lt;dbl&gt;</th><th scope=col>&lt;dbl&gt;</th></tr>\n",
       "</thead>\n",
       "<tbody>\n",
       "\t<tr><th scope=row>Fuel(x1)</th><td>25</td><td>3.477266</td><td>0.6986769</td><td>3.346640</td><td>2.059126</td><td>5.395368</td><td>3.149603</td><td>3.674235</td><td> 0.91122723</td><td> 1.3602261</td></tr>\n",
       "\t<tr><th scope=row>Repair(x2)</th><td>25</td><td>2.737474</td><td>0.8338157</td><td>2.479919</td><td>1.161895</td><td>4.176123</td><td>2.251666</td><td>3.525621</td><td> 0.02413058</td><td>-1.1783511</td></tr>\n",
       "\t<tr><th scope=row>Capital(x3)</th><td>25</td><td>3.194521</td><td>0.5946241</td><td>3.198437</td><td>1.811077</td><td>4.194043</td><td>2.851315</td><td>3.484250</td><td>-0.38932955</td><td>-0.1158378</td></tr>\n",
       "</tbody>\n",
       "</table>\n",
       "</dd>\n",
       "\t<dt>$multivariateOutliers</dt>\n",
       "\t\t<dd>NULL</dd>\n",
       "</dl>\n"
      ],
      "text/latex": [
       "\\begin{description}\n",
       "\\item[\\$multivariateNormality] A data.frame: 3 × 4\n",
       "\\begin{tabular}{llll}\n",
       " Test & Statistic & p value & Result\\\\\n",
       " <chr> & <fct> & <fct> & <chr>\\\\\n",
       "\\hline\n",
       "\t Mardia Skewness & 25.1401450878435 & 0.00508609897770485 & NO\\\\\n",
       "\t Mardia Kurtosis & 2.29190028618052 & 0.0219113977530527  & NO\\\\\n",
       "\t MVN             & NA               & NA                  & NO\\\\\n",
       "\\end{tabular}\n",
       "\n",
       "\\item[\\$univariateNormality] A data.frame: 3 × 5\n",
       "\\begin{tabular}{r|lllll}\n",
       "  & Test & Variable & Statistic & p value & Normality\\\\\n",
       "  & <I<chr>> & <I<chr>> & <I<chr>> & <I<chr>> & <I<chr>>\\\\\n",
       "\\hline\n",
       "\t1 & Anderson-Darling &  Fuel(x1)   &    0.8663 &    0.0223 &    NO    \\\\\n",
       "\t2 & Anderson-Darling & Repair(x2)  &    0.4755 &    0.2190 &    YES   \\\\\n",
       "\t3 & Anderson-Darling & Capital(x3) &    0.3372 &    0.4764 &    YES   \\\\\n",
       "\\end{tabular}\n",
       "\n",
       "\\item[\\$Descriptives] A data.frame: 3 × 10\n",
       "\\begin{tabular}{r|llllllllll}\n",
       "  & n & Mean & Std.Dev & Median & Min & Max & 25th & 75th & Skew & Kurtosis\\\\\n",
       "  & <int> & <dbl> & <dbl> & <dbl> & <dbl> & <dbl> & <dbl> & <dbl> & <dbl> & <dbl>\\\\\n",
       "\\hline\n",
       "\tFuel(x1) & 25 & 3.477266 & 0.6986769 & 3.346640 & 2.059126 & 5.395368 & 3.149603 & 3.674235 &  0.91122723 &  1.3602261\\\\\n",
       "\tRepair(x2) & 25 & 2.737474 & 0.8338157 & 2.479919 & 1.161895 & 4.176123 & 2.251666 & 3.525621 &  0.02413058 & -1.1783511\\\\\n",
       "\tCapital(x3) & 25 & 3.194521 & 0.5946241 & 3.198437 & 1.811077 & 4.194043 & 2.851315 & 3.484250 & -0.38932955 & -0.1158378\\\\\n",
       "\\end{tabular}\n",
       "\n",
       "\\item[\\$multivariateOutliers] NULL\n",
       "\\end{description}\n"
      ],
      "text/markdown": [
       "$multivariateNormality\n",
       ":   \n",
       "A data.frame: 3 × 4\n",
       "\n",
       "| Test &lt;chr&gt; | Statistic &lt;fct&gt; | p value &lt;fct&gt; | Result &lt;chr&gt; |\n",
       "|---|---|---|---|\n",
       "| Mardia Skewness | 25.1401450878435 | 0.00508609897770485 | NO |\n",
       "| Mardia Kurtosis | 2.29190028618052 | 0.0219113977530527  | NO |\n",
       "| MVN             | NA               | NA                  | NO |\n",
       "\n",
       "\n",
       "$univariateNormality\n",
       ":   \n",
       "A data.frame: 3 × 5\n",
       "\n",
       "| <!--/--> | Test &lt;I&lt;chr&gt;&gt; | Variable &lt;I&lt;chr&gt;&gt; | Statistic &lt;I&lt;chr&gt;&gt; | p value &lt;I&lt;chr&gt;&gt; | Normality &lt;I&lt;chr&gt;&gt; |\n",
       "|---|---|---|---|---|---|\n",
       "| 1 | Anderson-Darling |  Fuel(x1)   |    0.8663 |    0.0223 |    NO     |\n",
       "| 2 | Anderson-Darling | Repair(x2)  |    0.4755 |    0.2190 |    YES    |\n",
       "| 3 | Anderson-Darling | Capital(x3) |    0.3372 |    0.4764 |    YES    |\n",
       "\n",
       "\n",
       "$Descriptives\n",
       ":   \n",
       "A data.frame: 3 × 10\n",
       "\n",
       "| <!--/--> | n &lt;int&gt; | Mean &lt;dbl&gt; | Std.Dev &lt;dbl&gt; | Median &lt;dbl&gt; | Min &lt;dbl&gt; | Max &lt;dbl&gt; | 25th &lt;dbl&gt; | 75th &lt;dbl&gt; | Skew &lt;dbl&gt; | Kurtosis &lt;dbl&gt; |\n",
       "|---|---|---|---|---|---|---|---|---|---|---|\n",
       "| Fuel(x1) | 25 | 3.477266 | 0.6986769 | 3.346640 | 2.059126 | 5.395368 | 3.149603 | 3.674235 |  0.91122723 |  1.3602261 |\n",
       "| Repair(x2) | 25 | 2.737474 | 0.8338157 | 2.479919 | 1.161895 | 4.176123 | 2.251666 | 3.525621 |  0.02413058 | -1.1783511 |\n",
       "| Capital(x3) | 25 | 3.194521 | 0.5946241 | 3.198437 | 1.811077 | 4.194043 | 2.851315 | 3.484250 | -0.38932955 | -0.1158378 |\n",
       "\n",
       "\n",
       "$multivariateOutliers\n",
       ":   NULL\n",
       "\n",
       "\n"
      ],
      "text/plain": [
       "$multivariateNormality\n",
       "             Test        Statistic             p value Result\n",
       "1 Mardia Skewness 25.1401450878435 0.00508609897770485     NO\n",
       "2 Mardia Kurtosis 2.29190028618052  0.0219113977530527     NO\n",
       "3             MVN             <NA>                <NA>     NO\n",
       "\n",
       "$univariateNormality\n",
       "              Test    Variable Statistic   p value Normality\n",
       "1 Anderson-Darling  Fuel(x1)      0.8663    0.0223    NO    \n",
       "2 Anderson-Darling Repair(x2)     0.4755    0.2190    YES   \n",
       "3 Anderson-Darling Capital(x3)    0.3372    0.4764    YES   \n",
       "\n",
       "$Descriptives\n",
       "             n     Mean   Std.Dev   Median      Min      Max     25th     75th\n",
       "Fuel(x1)    25 3.477266 0.6986769 3.346640 2.059126 5.395368 3.149603 3.674235\n",
       "Repair(x2)  25 2.737474 0.8338157 2.479919 1.161895 4.176123 2.251666 3.525621\n",
       "Capital(x3) 25 3.194521 0.5946241 3.198437 1.811077 4.194043 2.851315 3.484250\n",
       "                   Skew   Kurtosis\n",
       "Fuel(x1)     0.91122723  1.3602261\n",
       "Repair(x2)   0.02413058 -1.1783511\n",
       "Capital(x3) -0.38932955 -0.1158378\n",
       "\n",
       "$multivariateOutliers\n",
       "NULL\n"
      ]
     },
     "metadata": {},
     "output_type": "display_data"
    }
   ],
   "source": [
    "mvn(sqrttransformed_data, mvnTest = 'mardia', showOutliers = TRUE)"
   ]
  },
  {
   "cell_type": "code",
   "execution_count": 20,
   "id": "09e64f7c",
   "metadata": {
    "ExecuteTime": {
     "end_time": "2022-03-06T08:16:22.054404Z",
     "start_time": "2022-03-06T08:16:19.995Z"
    }
   },
   "outputs": [
    {
     "data": {
      "text/html": [
       "<dl>\n",
       "\t<dt>$multivariateNormality</dt>\n",
       "\t\t<dd><table class=\"dataframe\">\n",
       "<caption>A data.frame: 1 × 4</caption>\n",
       "<thead>\n",
       "\t<tr><th scope=col>Test</th><th scope=col>HZ</th><th scope=col>p value</th><th scope=col>MVN</th></tr>\n",
       "\t<tr><th scope=col>&lt;chr&gt;</th><th scope=col>&lt;dbl&gt;</th><th scope=col>&lt;dbl&gt;</th><th scope=col>&lt;chr&gt;</th></tr>\n",
       "</thead>\n",
       "<tbody>\n",
       "\t<tr><td>Henze-Zirkler</td><td>0.7295186</td><td>0.1651848</td><td>YES</td></tr>\n",
       "</tbody>\n",
       "</table>\n",
       "</dd>\n",
       "\t<dt>$univariateNormality</dt>\n",
       "\t\t<dd><table class=\"dataframe\">\n",
       "<caption>A data.frame: 3 × 5</caption>\n",
       "<thead>\n",
       "\t<tr><th></th><th scope=col>Test</th><th scope=col>Variable</th><th scope=col>Statistic</th><th scope=col>p value</th><th scope=col>Normality</th></tr>\n",
       "\t<tr><th></th><th scope=col>&lt;I&lt;chr&gt;&gt;</th><th scope=col>&lt;I&lt;chr&gt;&gt;</th><th scope=col>&lt;I&lt;chr&gt;&gt;</th><th scope=col>&lt;I&lt;chr&gt;&gt;</th><th scope=col>&lt;I&lt;chr&gt;&gt;</th></tr>\n",
       "</thead>\n",
       "<tbody>\n",
       "\t<tr><th scope=row>1</th><td>Anderson-Darling</td><td> Fuel(x1)  </td><td>   0.8663</td><td>   0.0223</td><td>   NO    </td></tr>\n",
       "\t<tr><th scope=row>2</th><td>Anderson-Darling</td><td>Repair(x2) </td><td>   0.4755</td><td>   0.2190</td><td>   YES   </td></tr>\n",
       "\t<tr><th scope=row>3</th><td>Anderson-Darling</td><td>Capital(x3)</td><td>   0.3372</td><td>   0.4764</td><td>   YES   </td></tr>\n",
       "</tbody>\n",
       "</table>\n",
       "</dd>\n",
       "\t<dt>$Descriptives</dt>\n",
       "\t\t<dd><table class=\"dataframe\">\n",
       "<caption>A data.frame: 3 × 10</caption>\n",
       "<thead>\n",
       "\t<tr><th></th><th scope=col>n</th><th scope=col>Mean</th><th scope=col>Std.Dev</th><th scope=col>Median</th><th scope=col>Min</th><th scope=col>Max</th><th scope=col>25th</th><th scope=col>75th</th><th scope=col>Skew</th><th scope=col>Kurtosis</th></tr>\n",
       "\t<tr><th></th><th scope=col>&lt;int&gt;</th><th scope=col>&lt;dbl&gt;</th><th scope=col>&lt;dbl&gt;</th><th scope=col>&lt;dbl&gt;</th><th scope=col>&lt;dbl&gt;</th><th scope=col>&lt;dbl&gt;</th><th scope=col>&lt;dbl&gt;</th><th scope=col>&lt;dbl&gt;</th><th scope=col>&lt;dbl&gt;</th><th scope=col>&lt;dbl&gt;</th></tr>\n",
       "</thead>\n",
       "<tbody>\n",
       "\t<tr><th scope=row>Fuel(x1)</th><td>25</td><td>3.477266</td><td>0.6986769</td><td>3.346640</td><td>2.059126</td><td>5.395368</td><td>3.149603</td><td>3.674235</td><td> 0.91122723</td><td> 1.3602261</td></tr>\n",
       "\t<tr><th scope=row>Repair(x2)</th><td>25</td><td>2.737474</td><td>0.8338157</td><td>2.479919</td><td>1.161895</td><td>4.176123</td><td>2.251666</td><td>3.525621</td><td> 0.02413058</td><td>-1.1783511</td></tr>\n",
       "\t<tr><th scope=row>Capital(x3)</th><td>25</td><td>3.194521</td><td>0.5946241</td><td>3.198437</td><td>1.811077</td><td>4.194043</td><td>2.851315</td><td>3.484250</td><td>-0.38932955</td><td>-0.1158378</td></tr>\n",
       "</tbody>\n",
       "</table>\n",
       "</dd>\n",
       "\t<dt>$multivariateOutliers</dt>\n",
       "\t\t<dd>NULL</dd>\n",
       "</dl>\n"
      ],
      "text/latex": [
       "\\begin{description}\n",
       "\\item[\\$multivariateNormality] A data.frame: 1 × 4\n",
       "\\begin{tabular}{llll}\n",
       " Test & HZ & p value & MVN\\\\\n",
       " <chr> & <dbl> & <dbl> & <chr>\\\\\n",
       "\\hline\n",
       "\t Henze-Zirkler & 0.7295186 & 0.1651848 & YES\\\\\n",
       "\\end{tabular}\n",
       "\n",
       "\\item[\\$univariateNormality] A data.frame: 3 × 5\n",
       "\\begin{tabular}{r|lllll}\n",
       "  & Test & Variable & Statistic & p value & Normality\\\\\n",
       "  & <I<chr>> & <I<chr>> & <I<chr>> & <I<chr>> & <I<chr>>\\\\\n",
       "\\hline\n",
       "\t1 & Anderson-Darling &  Fuel(x1)   &    0.8663 &    0.0223 &    NO    \\\\\n",
       "\t2 & Anderson-Darling & Repair(x2)  &    0.4755 &    0.2190 &    YES   \\\\\n",
       "\t3 & Anderson-Darling & Capital(x3) &    0.3372 &    0.4764 &    YES   \\\\\n",
       "\\end{tabular}\n",
       "\n",
       "\\item[\\$Descriptives] A data.frame: 3 × 10\n",
       "\\begin{tabular}{r|llllllllll}\n",
       "  & n & Mean & Std.Dev & Median & Min & Max & 25th & 75th & Skew & Kurtosis\\\\\n",
       "  & <int> & <dbl> & <dbl> & <dbl> & <dbl> & <dbl> & <dbl> & <dbl> & <dbl> & <dbl>\\\\\n",
       "\\hline\n",
       "\tFuel(x1) & 25 & 3.477266 & 0.6986769 & 3.346640 & 2.059126 & 5.395368 & 3.149603 & 3.674235 &  0.91122723 &  1.3602261\\\\\n",
       "\tRepair(x2) & 25 & 2.737474 & 0.8338157 & 2.479919 & 1.161895 & 4.176123 & 2.251666 & 3.525621 &  0.02413058 & -1.1783511\\\\\n",
       "\tCapital(x3) & 25 & 3.194521 & 0.5946241 & 3.198437 & 1.811077 & 4.194043 & 2.851315 & 3.484250 & -0.38932955 & -0.1158378\\\\\n",
       "\\end{tabular}\n",
       "\n",
       "\\item[\\$multivariateOutliers] NULL\n",
       "\\end{description}\n"
      ],
      "text/markdown": [
       "$multivariateNormality\n",
       ":   \n",
       "A data.frame: 1 × 4\n",
       "\n",
       "| Test &lt;chr&gt; | HZ &lt;dbl&gt; | p value &lt;dbl&gt; | MVN &lt;chr&gt; |\n",
       "|---|---|---|---|\n",
       "| Henze-Zirkler | 0.7295186 | 0.1651848 | YES |\n",
       "\n",
       "\n",
       "$univariateNormality\n",
       ":   \n",
       "A data.frame: 3 × 5\n",
       "\n",
       "| <!--/--> | Test &lt;I&lt;chr&gt;&gt; | Variable &lt;I&lt;chr&gt;&gt; | Statistic &lt;I&lt;chr&gt;&gt; | p value &lt;I&lt;chr&gt;&gt; | Normality &lt;I&lt;chr&gt;&gt; |\n",
       "|---|---|---|---|---|---|\n",
       "| 1 | Anderson-Darling |  Fuel(x1)   |    0.8663 |    0.0223 |    NO     |\n",
       "| 2 | Anderson-Darling | Repair(x2)  |    0.4755 |    0.2190 |    YES    |\n",
       "| 3 | Anderson-Darling | Capital(x3) |    0.3372 |    0.4764 |    YES    |\n",
       "\n",
       "\n",
       "$Descriptives\n",
       ":   \n",
       "A data.frame: 3 × 10\n",
       "\n",
       "| <!--/--> | n &lt;int&gt; | Mean &lt;dbl&gt; | Std.Dev &lt;dbl&gt; | Median &lt;dbl&gt; | Min &lt;dbl&gt; | Max &lt;dbl&gt; | 25th &lt;dbl&gt; | 75th &lt;dbl&gt; | Skew &lt;dbl&gt; | Kurtosis &lt;dbl&gt; |\n",
       "|---|---|---|---|---|---|---|---|---|---|---|\n",
       "| Fuel(x1) | 25 | 3.477266 | 0.6986769 | 3.346640 | 2.059126 | 5.395368 | 3.149603 | 3.674235 |  0.91122723 |  1.3602261 |\n",
       "| Repair(x2) | 25 | 2.737474 | 0.8338157 | 2.479919 | 1.161895 | 4.176123 | 2.251666 | 3.525621 |  0.02413058 | -1.1783511 |\n",
       "| Capital(x3) | 25 | 3.194521 | 0.5946241 | 3.198437 | 1.811077 | 4.194043 | 2.851315 | 3.484250 | -0.38932955 | -0.1158378 |\n",
       "\n",
       "\n",
       "$multivariateOutliers\n",
       ":   NULL\n",
       "\n",
       "\n"
      ],
      "text/plain": [
       "$multivariateNormality\n",
       "           Test        HZ   p value MVN\n",
       "1 Henze-Zirkler 0.7295186 0.1651848 YES\n",
       "\n",
       "$univariateNormality\n",
       "              Test    Variable Statistic   p value Normality\n",
       "1 Anderson-Darling  Fuel(x1)      0.8663    0.0223    NO    \n",
       "2 Anderson-Darling Repair(x2)     0.4755    0.2190    YES   \n",
       "3 Anderson-Darling Capital(x3)    0.3372    0.4764    YES   \n",
       "\n",
       "$Descriptives\n",
       "             n     Mean   Std.Dev   Median      Min      Max     25th     75th\n",
       "Fuel(x1)    25 3.477266 0.6986769 3.346640 2.059126 5.395368 3.149603 3.674235\n",
       "Repair(x2)  25 2.737474 0.8338157 2.479919 1.161895 4.176123 2.251666 3.525621\n",
       "Capital(x3) 25 3.194521 0.5946241 3.198437 1.811077 4.194043 2.851315 3.484250\n",
       "                   Skew   Kurtosis\n",
       "Fuel(x1)     0.91122723  1.3602261\n",
       "Repair(x2)   0.02413058 -1.1783511\n",
       "Capital(x3) -0.38932955 -0.1158378\n",
       "\n",
       "$multivariateOutliers\n",
       "NULL\n"
      ]
     },
     "metadata": {},
     "output_type": "display_data"
    }
   ],
   "source": [
    "mvn(sqrttransformed_data, showOutliers = TRUE)"
   ]
  },
  {
   "cell_type": "code",
   "execution_count": 21,
   "id": "44e781b3",
   "metadata": {
    "ExecuteTime": {
     "end_time": "2022-03-06T08:16:22.099380Z",
     "start_time": "2022-03-06T08:16:19.997Z"
    }
   },
   "outputs": [
    {
     "data": {
      "text/html": [
       "<dl>\n",
       "\t<dt>$multivariateNormality</dt>\n",
       "\t\t<dd><table class=\"dataframe\">\n",
       "<caption>A data.frame: 1 × 4</caption>\n",
       "<thead>\n",
       "\t<tr><th scope=col>Test</th><th scope=col>H</th><th scope=col>p value</th><th scope=col>MVN</th></tr>\n",
       "\t<tr><th scope=col>&lt;chr&gt;</th><th scope=col>&lt;dbl&gt;</th><th scope=col>&lt;dbl&gt;</th><th scope=col>&lt;chr&gt;</th></tr>\n",
       "</thead>\n",
       "<tbody>\n",
       "\t<tr><td>Royston</td><td>7.756014</td><td>0.05231304</td><td>YES</td></tr>\n",
       "</tbody>\n",
       "</table>\n",
       "</dd>\n",
       "\t<dt>$univariateNormality</dt>\n",
       "\t\t<dd><table class=\"dataframe\">\n",
       "<caption>A data.frame: 3 × 5</caption>\n",
       "<thead>\n",
       "\t<tr><th></th><th scope=col>Test</th><th scope=col>Variable</th><th scope=col>Statistic</th><th scope=col>p value</th><th scope=col>Normality</th></tr>\n",
       "\t<tr><th></th><th scope=col>&lt;I&lt;chr&gt;&gt;</th><th scope=col>&lt;I&lt;chr&gt;&gt;</th><th scope=col>&lt;I&lt;chr&gt;&gt;</th><th scope=col>&lt;I&lt;chr&gt;&gt;</th><th scope=col>&lt;I&lt;chr&gt;&gt;</th></tr>\n",
       "</thead>\n",
       "<tbody>\n",
       "\t<tr><th scope=row>1</th><td>Anderson-Darling</td><td> Fuel(x1)  </td><td>   0.8663</td><td>   0.0223</td><td>   NO    </td></tr>\n",
       "\t<tr><th scope=row>2</th><td>Anderson-Darling</td><td>Repair(x2) </td><td>   0.4755</td><td>   0.2190</td><td>   YES   </td></tr>\n",
       "\t<tr><th scope=row>3</th><td>Anderson-Darling</td><td>Capital(x3)</td><td>   0.3372</td><td>   0.4764</td><td>   YES   </td></tr>\n",
       "</tbody>\n",
       "</table>\n",
       "</dd>\n",
       "\t<dt>$Descriptives</dt>\n",
       "\t\t<dd><table class=\"dataframe\">\n",
       "<caption>A data.frame: 3 × 10</caption>\n",
       "<thead>\n",
       "\t<tr><th></th><th scope=col>n</th><th scope=col>Mean</th><th scope=col>Std.Dev</th><th scope=col>Median</th><th scope=col>Min</th><th scope=col>Max</th><th scope=col>25th</th><th scope=col>75th</th><th scope=col>Skew</th><th scope=col>Kurtosis</th></tr>\n",
       "\t<tr><th></th><th scope=col>&lt;int&gt;</th><th scope=col>&lt;dbl&gt;</th><th scope=col>&lt;dbl&gt;</th><th scope=col>&lt;dbl&gt;</th><th scope=col>&lt;dbl&gt;</th><th scope=col>&lt;dbl&gt;</th><th scope=col>&lt;dbl&gt;</th><th scope=col>&lt;dbl&gt;</th><th scope=col>&lt;dbl&gt;</th><th scope=col>&lt;dbl&gt;</th></tr>\n",
       "</thead>\n",
       "<tbody>\n",
       "\t<tr><th scope=row>Fuel(x1)</th><td>25</td><td>3.477266</td><td>0.6986769</td><td>3.346640</td><td>2.059126</td><td>5.395368</td><td>3.149603</td><td>3.674235</td><td> 0.91122723</td><td> 1.3602261</td></tr>\n",
       "\t<tr><th scope=row>Repair(x2)</th><td>25</td><td>2.737474</td><td>0.8338157</td><td>2.479919</td><td>1.161895</td><td>4.176123</td><td>2.251666</td><td>3.525621</td><td> 0.02413058</td><td>-1.1783511</td></tr>\n",
       "\t<tr><th scope=row>Capital(x3)</th><td>25</td><td>3.194521</td><td>0.5946241</td><td>3.198437</td><td>1.811077</td><td>4.194043</td><td>2.851315</td><td>3.484250</td><td>-0.38932955</td><td>-0.1158378</td></tr>\n",
       "</tbody>\n",
       "</table>\n",
       "</dd>\n",
       "\t<dt>$multivariateOutliers</dt>\n",
       "\t\t<dd>NULL</dd>\n",
       "</dl>\n"
      ],
      "text/latex": [
       "\\begin{description}\n",
       "\\item[\\$multivariateNormality] A data.frame: 1 × 4\n",
       "\\begin{tabular}{llll}\n",
       " Test & H & p value & MVN\\\\\n",
       " <chr> & <dbl> & <dbl> & <chr>\\\\\n",
       "\\hline\n",
       "\t Royston & 7.756014 & 0.05231304 & YES\\\\\n",
       "\\end{tabular}\n",
       "\n",
       "\\item[\\$univariateNormality] A data.frame: 3 × 5\n",
       "\\begin{tabular}{r|lllll}\n",
       "  & Test & Variable & Statistic & p value & Normality\\\\\n",
       "  & <I<chr>> & <I<chr>> & <I<chr>> & <I<chr>> & <I<chr>>\\\\\n",
       "\\hline\n",
       "\t1 & Anderson-Darling &  Fuel(x1)   &    0.8663 &    0.0223 &    NO    \\\\\n",
       "\t2 & Anderson-Darling & Repair(x2)  &    0.4755 &    0.2190 &    YES   \\\\\n",
       "\t3 & Anderson-Darling & Capital(x3) &    0.3372 &    0.4764 &    YES   \\\\\n",
       "\\end{tabular}\n",
       "\n",
       "\\item[\\$Descriptives] A data.frame: 3 × 10\n",
       "\\begin{tabular}{r|llllllllll}\n",
       "  & n & Mean & Std.Dev & Median & Min & Max & 25th & 75th & Skew & Kurtosis\\\\\n",
       "  & <int> & <dbl> & <dbl> & <dbl> & <dbl> & <dbl> & <dbl> & <dbl> & <dbl> & <dbl>\\\\\n",
       "\\hline\n",
       "\tFuel(x1) & 25 & 3.477266 & 0.6986769 & 3.346640 & 2.059126 & 5.395368 & 3.149603 & 3.674235 &  0.91122723 &  1.3602261\\\\\n",
       "\tRepair(x2) & 25 & 2.737474 & 0.8338157 & 2.479919 & 1.161895 & 4.176123 & 2.251666 & 3.525621 &  0.02413058 & -1.1783511\\\\\n",
       "\tCapital(x3) & 25 & 3.194521 & 0.5946241 & 3.198437 & 1.811077 & 4.194043 & 2.851315 & 3.484250 & -0.38932955 & -0.1158378\\\\\n",
       "\\end{tabular}\n",
       "\n",
       "\\item[\\$multivariateOutliers] NULL\n",
       "\\end{description}\n"
      ],
      "text/markdown": [
       "$multivariateNormality\n",
       ":   \n",
       "A data.frame: 1 × 4\n",
       "\n",
       "| Test &lt;chr&gt; | H &lt;dbl&gt; | p value &lt;dbl&gt; | MVN &lt;chr&gt; |\n",
       "|---|---|---|---|\n",
       "| Royston | 7.756014 | 0.05231304 | YES |\n",
       "\n",
       "\n",
       "$univariateNormality\n",
       ":   \n",
       "A data.frame: 3 × 5\n",
       "\n",
       "| <!--/--> | Test &lt;I&lt;chr&gt;&gt; | Variable &lt;I&lt;chr&gt;&gt; | Statistic &lt;I&lt;chr&gt;&gt; | p value &lt;I&lt;chr&gt;&gt; | Normality &lt;I&lt;chr&gt;&gt; |\n",
       "|---|---|---|---|---|---|\n",
       "| 1 | Anderson-Darling |  Fuel(x1)   |    0.8663 |    0.0223 |    NO     |\n",
       "| 2 | Anderson-Darling | Repair(x2)  |    0.4755 |    0.2190 |    YES    |\n",
       "| 3 | Anderson-Darling | Capital(x3) |    0.3372 |    0.4764 |    YES    |\n",
       "\n",
       "\n",
       "$Descriptives\n",
       ":   \n",
       "A data.frame: 3 × 10\n",
       "\n",
       "| <!--/--> | n &lt;int&gt; | Mean &lt;dbl&gt; | Std.Dev &lt;dbl&gt; | Median &lt;dbl&gt; | Min &lt;dbl&gt; | Max &lt;dbl&gt; | 25th &lt;dbl&gt; | 75th &lt;dbl&gt; | Skew &lt;dbl&gt; | Kurtosis &lt;dbl&gt; |\n",
       "|---|---|---|---|---|---|---|---|---|---|---|\n",
       "| Fuel(x1) | 25 | 3.477266 | 0.6986769 | 3.346640 | 2.059126 | 5.395368 | 3.149603 | 3.674235 |  0.91122723 |  1.3602261 |\n",
       "| Repair(x2) | 25 | 2.737474 | 0.8338157 | 2.479919 | 1.161895 | 4.176123 | 2.251666 | 3.525621 |  0.02413058 | -1.1783511 |\n",
       "| Capital(x3) | 25 | 3.194521 | 0.5946241 | 3.198437 | 1.811077 | 4.194043 | 2.851315 | 3.484250 | -0.38932955 | -0.1158378 |\n",
       "\n",
       "\n",
       "$multivariateOutliers\n",
       ":   NULL\n",
       "\n",
       "\n"
      ],
      "text/plain": [
       "$multivariateNormality\n",
       "     Test        H    p value MVN\n",
       "1 Royston 7.756014 0.05231304 YES\n",
       "\n",
       "$univariateNormality\n",
       "              Test    Variable Statistic   p value Normality\n",
       "1 Anderson-Darling  Fuel(x1)      0.8663    0.0223    NO    \n",
       "2 Anderson-Darling Repair(x2)     0.4755    0.2190    YES   \n",
       "3 Anderson-Darling Capital(x3)    0.3372    0.4764    YES   \n",
       "\n",
       "$Descriptives\n",
       "             n     Mean   Std.Dev   Median      Min      Max     25th     75th\n",
       "Fuel(x1)    25 3.477266 0.6986769 3.346640 2.059126 5.395368 3.149603 3.674235\n",
       "Repair(x2)  25 2.737474 0.8338157 2.479919 1.161895 4.176123 2.251666 3.525621\n",
       "Capital(x3) 25 3.194521 0.5946241 3.198437 1.811077 4.194043 2.851315 3.484250\n",
       "                   Skew   Kurtosis\n",
       "Fuel(x1)     0.91122723  1.3602261\n",
       "Repair(x2)   0.02413058 -1.1783511\n",
       "Capital(x3) -0.38932955 -0.1158378\n",
       "\n",
       "$multivariateOutliers\n",
       "NULL\n"
      ]
     },
     "metadata": {},
     "output_type": "display_data"
    }
   ],
   "source": [
    "mvn(sqrttransformed_data, mvnTest = 'royston', showOutliers = TRUE)"
   ]
  },
  {
   "cell_type": "code",
   "execution_count": 22,
   "id": "785e14c1",
   "metadata": {
    "ExecuteTime": {
     "end_time": "2022-03-06T08:16:22.148374Z",
     "start_time": "2022-03-06T08:16:20.000Z"
    }
   },
   "outputs": [
    {
     "data": {
      "text/html": [
       "<dl>\n",
       "\t<dt>$multivariateNormality</dt>\n",
       "\t\t<dd><table class=\"dataframe\">\n",
       "<caption>A data.frame: 1 × 5</caption>\n",
       "<thead>\n",
       "\t<tr><th scope=col>Test</th><th scope=col>E</th><th scope=col>df</th><th scope=col>p value</th><th scope=col>MVN</th></tr>\n",
       "\t<tr><th scope=col>&lt;chr&gt;</th><th scope=col>&lt;dbl&gt;</th><th scope=col>&lt;dbl&gt;</th><th scope=col>&lt;dbl&gt;</th><th scope=col>&lt;chr&gt;</th></tr>\n",
       "</thead>\n",
       "<tbody>\n",
       "\t<tr><td>Doornik-Hansen</td><td>10.82465</td><td>6</td><td>0.09394949</td><td>YES</td></tr>\n",
       "</tbody>\n",
       "</table>\n",
       "</dd>\n",
       "\t<dt>$univariateNormality</dt>\n",
       "\t\t<dd><table class=\"dataframe\">\n",
       "<caption>A data.frame: 3 × 5</caption>\n",
       "<thead>\n",
       "\t<tr><th></th><th scope=col>Test</th><th scope=col>Variable</th><th scope=col>Statistic</th><th scope=col>p value</th><th scope=col>Normality</th></tr>\n",
       "\t<tr><th></th><th scope=col>&lt;I&lt;chr&gt;&gt;</th><th scope=col>&lt;I&lt;chr&gt;&gt;</th><th scope=col>&lt;I&lt;chr&gt;&gt;</th><th scope=col>&lt;I&lt;chr&gt;&gt;</th><th scope=col>&lt;I&lt;chr&gt;&gt;</th></tr>\n",
       "</thead>\n",
       "<tbody>\n",
       "\t<tr><th scope=row>1</th><td>Anderson-Darling</td><td> Fuel(x1)  </td><td>   0.8663</td><td>   0.0223</td><td>   NO    </td></tr>\n",
       "\t<tr><th scope=row>2</th><td>Anderson-Darling</td><td>Repair(x2) </td><td>   0.4755</td><td>   0.2190</td><td>   YES   </td></tr>\n",
       "\t<tr><th scope=row>3</th><td>Anderson-Darling</td><td>Capital(x3)</td><td>   0.3372</td><td>   0.4764</td><td>   YES   </td></tr>\n",
       "</tbody>\n",
       "</table>\n",
       "</dd>\n",
       "\t<dt>$Descriptives</dt>\n",
       "\t\t<dd><table class=\"dataframe\">\n",
       "<caption>A data.frame: 3 × 10</caption>\n",
       "<thead>\n",
       "\t<tr><th></th><th scope=col>n</th><th scope=col>Mean</th><th scope=col>Std.Dev</th><th scope=col>Median</th><th scope=col>Min</th><th scope=col>Max</th><th scope=col>25th</th><th scope=col>75th</th><th scope=col>Skew</th><th scope=col>Kurtosis</th></tr>\n",
       "\t<tr><th></th><th scope=col>&lt;int&gt;</th><th scope=col>&lt;dbl&gt;</th><th scope=col>&lt;dbl&gt;</th><th scope=col>&lt;dbl&gt;</th><th scope=col>&lt;dbl&gt;</th><th scope=col>&lt;dbl&gt;</th><th scope=col>&lt;dbl&gt;</th><th scope=col>&lt;dbl&gt;</th><th scope=col>&lt;dbl&gt;</th><th scope=col>&lt;dbl&gt;</th></tr>\n",
       "</thead>\n",
       "<tbody>\n",
       "\t<tr><th scope=row>Fuel(x1)</th><td>25</td><td>3.477266</td><td>0.6986769</td><td>3.346640</td><td>2.059126</td><td>5.395368</td><td>3.149603</td><td>3.674235</td><td> 0.91122723</td><td> 1.3602261</td></tr>\n",
       "\t<tr><th scope=row>Repair(x2)</th><td>25</td><td>2.737474</td><td>0.8338157</td><td>2.479919</td><td>1.161895</td><td>4.176123</td><td>2.251666</td><td>3.525621</td><td> 0.02413058</td><td>-1.1783511</td></tr>\n",
       "\t<tr><th scope=row>Capital(x3)</th><td>25</td><td>3.194521</td><td>0.5946241</td><td>3.198437</td><td>1.811077</td><td>4.194043</td><td>2.851315</td><td>3.484250</td><td>-0.38932955</td><td>-0.1158378</td></tr>\n",
       "</tbody>\n",
       "</table>\n",
       "</dd>\n",
       "\t<dt>$multivariateOutliers</dt>\n",
       "\t\t<dd>NULL</dd>\n",
       "</dl>\n"
      ],
      "text/latex": [
       "\\begin{description}\n",
       "\\item[\\$multivariateNormality] A data.frame: 1 × 5\n",
       "\\begin{tabular}{lllll}\n",
       " Test & E & df & p value & MVN\\\\\n",
       " <chr> & <dbl> & <dbl> & <dbl> & <chr>\\\\\n",
       "\\hline\n",
       "\t Doornik-Hansen & 10.82465 & 6 & 0.09394949 & YES\\\\\n",
       "\\end{tabular}\n",
       "\n",
       "\\item[\\$univariateNormality] A data.frame: 3 × 5\n",
       "\\begin{tabular}{r|lllll}\n",
       "  & Test & Variable & Statistic & p value & Normality\\\\\n",
       "  & <I<chr>> & <I<chr>> & <I<chr>> & <I<chr>> & <I<chr>>\\\\\n",
       "\\hline\n",
       "\t1 & Anderson-Darling &  Fuel(x1)   &    0.8663 &    0.0223 &    NO    \\\\\n",
       "\t2 & Anderson-Darling & Repair(x2)  &    0.4755 &    0.2190 &    YES   \\\\\n",
       "\t3 & Anderson-Darling & Capital(x3) &    0.3372 &    0.4764 &    YES   \\\\\n",
       "\\end{tabular}\n",
       "\n",
       "\\item[\\$Descriptives] A data.frame: 3 × 10\n",
       "\\begin{tabular}{r|llllllllll}\n",
       "  & n & Mean & Std.Dev & Median & Min & Max & 25th & 75th & Skew & Kurtosis\\\\\n",
       "  & <int> & <dbl> & <dbl> & <dbl> & <dbl> & <dbl> & <dbl> & <dbl> & <dbl> & <dbl>\\\\\n",
       "\\hline\n",
       "\tFuel(x1) & 25 & 3.477266 & 0.6986769 & 3.346640 & 2.059126 & 5.395368 & 3.149603 & 3.674235 &  0.91122723 &  1.3602261\\\\\n",
       "\tRepair(x2) & 25 & 2.737474 & 0.8338157 & 2.479919 & 1.161895 & 4.176123 & 2.251666 & 3.525621 &  0.02413058 & -1.1783511\\\\\n",
       "\tCapital(x3) & 25 & 3.194521 & 0.5946241 & 3.198437 & 1.811077 & 4.194043 & 2.851315 & 3.484250 & -0.38932955 & -0.1158378\\\\\n",
       "\\end{tabular}\n",
       "\n",
       "\\item[\\$multivariateOutliers] NULL\n",
       "\\end{description}\n"
      ],
      "text/markdown": [
       "$multivariateNormality\n",
       ":   \n",
       "A data.frame: 1 × 5\n",
       "\n",
       "| Test &lt;chr&gt; | E &lt;dbl&gt; | df &lt;dbl&gt; | p value &lt;dbl&gt; | MVN &lt;chr&gt; |\n",
       "|---|---|---|---|---|\n",
       "| Doornik-Hansen | 10.82465 | 6 | 0.09394949 | YES |\n",
       "\n",
       "\n",
       "$univariateNormality\n",
       ":   \n",
       "A data.frame: 3 × 5\n",
       "\n",
       "| <!--/--> | Test &lt;I&lt;chr&gt;&gt; | Variable &lt;I&lt;chr&gt;&gt; | Statistic &lt;I&lt;chr&gt;&gt; | p value &lt;I&lt;chr&gt;&gt; | Normality &lt;I&lt;chr&gt;&gt; |\n",
       "|---|---|---|---|---|---|\n",
       "| 1 | Anderson-Darling |  Fuel(x1)   |    0.8663 |    0.0223 |    NO     |\n",
       "| 2 | Anderson-Darling | Repair(x2)  |    0.4755 |    0.2190 |    YES    |\n",
       "| 3 | Anderson-Darling | Capital(x3) |    0.3372 |    0.4764 |    YES    |\n",
       "\n",
       "\n",
       "$Descriptives\n",
       ":   \n",
       "A data.frame: 3 × 10\n",
       "\n",
       "| <!--/--> | n &lt;int&gt; | Mean &lt;dbl&gt; | Std.Dev &lt;dbl&gt; | Median &lt;dbl&gt; | Min &lt;dbl&gt; | Max &lt;dbl&gt; | 25th &lt;dbl&gt; | 75th &lt;dbl&gt; | Skew &lt;dbl&gt; | Kurtosis &lt;dbl&gt; |\n",
       "|---|---|---|---|---|---|---|---|---|---|---|\n",
       "| Fuel(x1) | 25 | 3.477266 | 0.6986769 | 3.346640 | 2.059126 | 5.395368 | 3.149603 | 3.674235 |  0.91122723 |  1.3602261 |\n",
       "| Repair(x2) | 25 | 2.737474 | 0.8338157 | 2.479919 | 1.161895 | 4.176123 | 2.251666 | 3.525621 |  0.02413058 | -1.1783511 |\n",
       "| Capital(x3) | 25 | 3.194521 | 0.5946241 | 3.198437 | 1.811077 | 4.194043 | 2.851315 | 3.484250 | -0.38932955 | -0.1158378 |\n",
       "\n",
       "\n",
       "$multivariateOutliers\n",
       ":   NULL\n",
       "\n",
       "\n"
      ],
      "text/plain": [
       "$multivariateNormality\n",
       "            Test        E df    p value MVN\n",
       "1 Doornik-Hansen 10.82465  6 0.09394949 YES\n",
       "\n",
       "$univariateNormality\n",
       "              Test    Variable Statistic   p value Normality\n",
       "1 Anderson-Darling  Fuel(x1)      0.8663    0.0223    NO    \n",
       "2 Anderson-Darling Repair(x2)     0.4755    0.2190    YES   \n",
       "3 Anderson-Darling Capital(x3)    0.3372    0.4764    YES   \n",
       "\n",
       "$Descriptives\n",
       "             n     Mean   Std.Dev   Median      Min      Max     25th     75th\n",
       "Fuel(x1)    25 3.477266 0.6986769 3.346640 2.059126 5.395368 3.149603 3.674235\n",
       "Repair(x2)  25 2.737474 0.8338157 2.479919 1.161895 4.176123 2.251666 3.525621\n",
       "Capital(x3) 25 3.194521 0.5946241 3.198437 1.811077 4.194043 2.851315 3.484250\n",
       "                   Skew   Kurtosis\n",
       "Fuel(x1)     0.91122723  1.3602261\n",
       "Repair(x2)   0.02413058 -1.1783511\n",
       "Capital(x3) -0.38932955 -0.1158378\n",
       "\n",
       "$multivariateOutliers\n",
       "NULL\n"
      ]
     },
     "metadata": {},
     "output_type": "display_data"
    }
   ],
   "source": [
    "mvn(sqrttransformed_data, mvnTest = \"dh\", showOutliers = TRUE)"
   ]
  },
  {
   "cell_type": "code",
   "execution_count": 23,
   "id": "dbd1ee70",
   "metadata": {
    "ExecuteTime": {
     "end_time": "2022-03-06T08:16:22.508390Z",
     "start_time": "2022-03-06T08:16:20.002Z"
    },
    "scrolled": true
   },
   "outputs": [
    {
     "data": {
      "text/html": [
       "<dl>\n",
       "\t<dt>$multivariateNormality</dt>\n",
       "\t\t<dd><table class=\"dataframe\">\n",
       "<caption>A data.frame: 1 × 4</caption>\n",
       "<thead>\n",
       "\t<tr><th scope=col>Test</th><th scope=col>Statistic</th><th scope=col>p value</th><th scope=col>MVN</th></tr>\n",
       "\t<tr><th scope=col>&lt;chr&gt;</th><th scope=col>&lt;dbl&gt;</th><th scope=col>&lt;dbl&gt;</th><th scope=col>&lt;chr&gt;</th></tr>\n",
       "</thead>\n",
       "<tbody>\n",
       "\t<tr><td>E-statistic</td><td>1.043766</td><td>0.051</td><td>YES</td></tr>\n",
       "</tbody>\n",
       "</table>\n",
       "</dd>\n",
       "\t<dt>$univariateNormality</dt>\n",
       "\t\t<dd><table class=\"dataframe\">\n",
       "<caption>A data.frame: 3 × 5</caption>\n",
       "<thead>\n",
       "\t<tr><th></th><th scope=col>Test</th><th scope=col>Variable</th><th scope=col>Statistic</th><th scope=col>p value</th><th scope=col>Normality</th></tr>\n",
       "\t<tr><th></th><th scope=col>&lt;I&lt;chr&gt;&gt;</th><th scope=col>&lt;I&lt;chr&gt;&gt;</th><th scope=col>&lt;I&lt;chr&gt;&gt;</th><th scope=col>&lt;I&lt;chr&gt;&gt;</th><th scope=col>&lt;I&lt;chr&gt;&gt;</th></tr>\n",
       "</thead>\n",
       "<tbody>\n",
       "\t<tr><th scope=row>1</th><td>Anderson-Darling</td><td> Fuel(x1)  </td><td>   0.8663</td><td>   0.0223</td><td>   NO    </td></tr>\n",
       "\t<tr><th scope=row>2</th><td>Anderson-Darling</td><td>Repair(x2) </td><td>   0.4755</td><td>   0.2190</td><td>   YES   </td></tr>\n",
       "\t<tr><th scope=row>3</th><td>Anderson-Darling</td><td>Capital(x3)</td><td>   0.3372</td><td>   0.4764</td><td>   YES   </td></tr>\n",
       "</tbody>\n",
       "</table>\n",
       "</dd>\n",
       "\t<dt>$Descriptives</dt>\n",
       "\t\t<dd><table class=\"dataframe\">\n",
       "<caption>A data.frame: 3 × 10</caption>\n",
       "<thead>\n",
       "\t<tr><th></th><th scope=col>n</th><th scope=col>Mean</th><th scope=col>Std.Dev</th><th scope=col>Median</th><th scope=col>Min</th><th scope=col>Max</th><th scope=col>25th</th><th scope=col>75th</th><th scope=col>Skew</th><th scope=col>Kurtosis</th></tr>\n",
       "\t<tr><th></th><th scope=col>&lt;int&gt;</th><th scope=col>&lt;dbl&gt;</th><th scope=col>&lt;dbl&gt;</th><th scope=col>&lt;dbl&gt;</th><th scope=col>&lt;dbl&gt;</th><th scope=col>&lt;dbl&gt;</th><th scope=col>&lt;dbl&gt;</th><th scope=col>&lt;dbl&gt;</th><th scope=col>&lt;dbl&gt;</th><th scope=col>&lt;dbl&gt;</th></tr>\n",
       "</thead>\n",
       "<tbody>\n",
       "\t<tr><th scope=row>Fuel(x1)</th><td>25</td><td>3.477266</td><td>0.6986769</td><td>3.346640</td><td>2.059126</td><td>5.395368</td><td>3.149603</td><td>3.674235</td><td> 0.91122723</td><td> 1.3602261</td></tr>\n",
       "\t<tr><th scope=row>Repair(x2)</th><td>25</td><td>2.737474</td><td>0.8338157</td><td>2.479919</td><td>1.161895</td><td>4.176123</td><td>2.251666</td><td>3.525621</td><td> 0.02413058</td><td>-1.1783511</td></tr>\n",
       "\t<tr><th scope=row>Capital(x3)</th><td>25</td><td>3.194521</td><td>0.5946241</td><td>3.198437</td><td>1.811077</td><td>4.194043</td><td>2.851315</td><td>3.484250</td><td>-0.38932955</td><td>-0.1158378</td></tr>\n",
       "</tbody>\n",
       "</table>\n",
       "</dd>\n",
       "\t<dt>$multivariateOutliers</dt>\n",
       "\t\t<dd>NULL</dd>\n",
       "</dl>\n"
      ],
      "text/latex": [
       "\\begin{description}\n",
       "\\item[\\$multivariateNormality] A data.frame: 1 × 4\n",
       "\\begin{tabular}{llll}\n",
       " Test & Statistic & p value & MVN\\\\\n",
       " <chr> & <dbl> & <dbl> & <chr>\\\\\n",
       "\\hline\n",
       "\t E-statistic & 1.043766 & 0.051 & YES\\\\\n",
       "\\end{tabular}\n",
       "\n",
       "\\item[\\$univariateNormality] A data.frame: 3 × 5\n",
       "\\begin{tabular}{r|lllll}\n",
       "  & Test & Variable & Statistic & p value & Normality\\\\\n",
       "  & <I<chr>> & <I<chr>> & <I<chr>> & <I<chr>> & <I<chr>>\\\\\n",
       "\\hline\n",
       "\t1 & Anderson-Darling &  Fuel(x1)   &    0.8663 &    0.0223 &    NO    \\\\\n",
       "\t2 & Anderson-Darling & Repair(x2)  &    0.4755 &    0.2190 &    YES   \\\\\n",
       "\t3 & Anderson-Darling & Capital(x3) &    0.3372 &    0.4764 &    YES   \\\\\n",
       "\\end{tabular}\n",
       "\n",
       "\\item[\\$Descriptives] A data.frame: 3 × 10\n",
       "\\begin{tabular}{r|llllllllll}\n",
       "  & n & Mean & Std.Dev & Median & Min & Max & 25th & 75th & Skew & Kurtosis\\\\\n",
       "  & <int> & <dbl> & <dbl> & <dbl> & <dbl> & <dbl> & <dbl> & <dbl> & <dbl> & <dbl>\\\\\n",
       "\\hline\n",
       "\tFuel(x1) & 25 & 3.477266 & 0.6986769 & 3.346640 & 2.059126 & 5.395368 & 3.149603 & 3.674235 &  0.91122723 &  1.3602261\\\\\n",
       "\tRepair(x2) & 25 & 2.737474 & 0.8338157 & 2.479919 & 1.161895 & 4.176123 & 2.251666 & 3.525621 &  0.02413058 & -1.1783511\\\\\n",
       "\tCapital(x3) & 25 & 3.194521 & 0.5946241 & 3.198437 & 1.811077 & 4.194043 & 2.851315 & 3.484250 & -0.38932955 & -0.1158378\\\\\n",
       "\\end{tabular}\n",
       "\n",
       "\\item[\\$multivariateOutliers] NULL\n",
       "\\end{description}\n"
      ],
      "text/markdown": [
       "$multivariateNormality\n",
       ":   \n",
       "A data.frame: 1 × 4\n",
       "\n",
       "| Test &lt;chr&gt; | Statistic &lt;dbl&gt; | p value &lt;dbl&gt; | MVN &lt;chr&gt; |\n",
       "|---|---|---|---|\n",
       "| E-statistic | 1.043766 | 0.051 | YES |\n",
       "\n",
       "\n",
       "$univariateNormality\n",
       ":   \n",
       "A data.frame: 3 × 5\n",
       "\n",
       "| <!--/--> | Test &lt;I&lt;chr&gt;&gt; | Variable &lt;I&lt;chr&gt;&gt; | Statistic &lt;I&lt;chr&gt;&gt; | p value &lt;I&lt;chr&gt;&gt; | Normality &lt;I&lt;chr&gt;&gt; |\n",
       "|---|---|---|---|---|---|\n",
       "| 1 | Anderson-Darling |  Fuel(x1)   |    0.8663 |    0.0223 |    NO     |\n",
       "| 2 | Anderson-Darling | Repair(x2)  |    0.4755 |    0.2190 |    YES    |\n",
       "| 3 | Anderson-Darling | Capital(x3) |    0.3372 |    0.4764 |    YES    |\n",
       "\n",
       "\n",
       "$Descriptives\n",
       ":   \n",
       "A data.frame: 3 × 10\n",
       "\n",
       "| <!--/--> | n &lt;int&gt; | Mean &lt;dbl&gt; | Std.Dev &lt;dbl&gt; | Median &lt;dbl&gt; | Min &lt;dbl&gt; | Max &lt;dbl&gt; | 25th &lt;dbl&gt; | 75th &lt;dbl&gt; | Skew &lt;dbl&gt; | Kurtosis &lt;dbl&gt; |\n",
       "|---|---|---|---|---|---|---|---|---|---|---|\n",
       "| Fuel(x1) | 25 | 3.477266 | 0.6986769 | 3.346640 | 2.059126 | 5.395368 | 3.149603 | 3.674235 |  0.91122723 |  1.3602261 |\n",
       "| Repair(x2) | 25 | 2.737474 | 0.8338157 | 2.479919 | 1.161895 | 4.176123 | 2.251666 | 3.525621 |  0.02413058 | -1.1783511 |\n",
       "| Capital(x3) | 25 | 3.194521 | 0.5946241 | 3.198437 | 1.811077 | 4.194043 | 2.851315 | 3.484250 | -0.38932955 | -0.1158378 |\n",
       "\n",
       "\n",
       "$multivariateOutliers\n",
       ":   NULL\n",
       "\n",
       "\n"
      ],
      "text/plain": [
       "$multivariateNormality\n",
       "         Test Statistic p value MVN\n",
       "1 E-statistic  1.043766   0.051 YES\n",
       "\n",
       "$univariateNormality\n",
       "              Test    Variable Statistic   p value Normality\n",
       "1 Anderson-Darling  Fuel(x1)      0.8663    0.0223    NO    \n",
       "2 Anderson-Darling Repair(x2)     0.4755    0.2190    YES   \n",
       "3 Anderson-Darling Capital(x3)    0.3372    0.4764    YES   \n",
       "\n",
       "$Descriptives\n",
       "             n     Mean   Std.Dev   Median      Min      Max     25th     75th\n",
       "Fuel(x1)    25 3.477266 0.6986769 3.346640 2.059126 5.395368 3.149603 3.674235\n",
       "Repair(x2)  25 2.737474 0.8338157 2.479919 1.161895 4.176123 2.251666 3.525621\n",
       "Capital(x3) 25 3.194521 0.5946241 3.198437 1.811077 4.194043 2.851315 3.484250\n",
       "                   Skew   Kurtosis\n",
       "Fuel(x1)     0.91122723  1.3602261\n",
       "Repair(x2)   0.02413058 -1.1783511\n",
       "Capital(x3) -0.38932955 -0.1158378\n",
       "\n",
       "$multivariateOutliers\n",
       "NULL\n"
      ]
     },
     "metadata": {},
     "output_type": "display_data"
    }
   ],
   "source": [
    "mvn(sqrttransformed_data, mvnTest = 'energy', showOutliers = TRUE)"
   ]
  },
  {
   "cell_type": "code",
   "execution_count": 24,
   "id": "2cbc2058",
   "metadata": {
    "ExecuteTime": {
     "end_time": "2022-03-06T08:16:22.533360Z",
     "start_time": "2022-03-06T08:16:20.004Z"
    }
   },
   "outputs": [
    {
     "data": {
      "text/plain": [
       "\n",
       "\tMultivariate Shapiro-Wilk normality test\n",
       "\n",
       "data:  (Fuel(x1),Repair(x2),Capital(x3))\n",
       "W = 0.78836, p-value = 0.0001463\n"
      ]
     },
     "metadata": {},
     "output_type": "display_data"
    }
   ],
   "source": [
    "mshapiro.test(sqrttransformed_data)"
   ]
  },
  {
   "cell_type": "markdown",
   "id": "8bd5b956",
   "metadata": {},
   "source": [
    "#### Log"
   ]
  },
  {
   "cell_type": "code",
   "execution_count": 25,
   "id": "64f596c3",
   "metadata": {
    "ExecuteTime": {
     "end_time": "2022-03-06T08:16:22.571360Z",
     "start_time": "2022-03-06T08:16:20.007Z"
    },
    "scrolled": true
   },
   "outputs": [
    {
     "data": {
      "text/html": [
       "<table class=\"dataframe\">\n",
       "<caption>A tibble: 25 × 3</caption>\n",
       "<thead>\n",
       "\t<tr><th scope=col>Fuel(x1)</th><th scope=col>Repair(x2)</th><th scope=col>Capital(x3)</th></tr>\n",
       "\t<tr><th scope=col>&lt;dbl&gt;</th><th scope=col>&lt;dbl&gt;</th><th scope=col>&lt;dbl&gt;</th></tr>\n",
       "</thead>\n",
       "<tbody>\n",
       "\t<tr><td>2.799717</td><td>2.5201129</td><td>2.418589</td></tr>\n",
       "\t<tr><td>1.972691</td><td>0.9932518</td><td>1.366092</td></tr>\n",
       "\t<tr><td>2.294553</td><td>0.3001046</td><td>2.277267</td></tr>\n",
       "\t<tr><td>1.444563</td><td>1.7544037</td><td>2.051556</td></tr>\n",
       "\t<tr><td>2.415914</td><td>1.6193882</td><td>2.367436</td></tr>\n",
       "\t<tr><td>2.656757</td><td>1.7544037</td><td>2.290513</td></tr>\n",
       "\t<tr><td>2.602690</td><td>2.3960754</td><td>2.360854</td></tr>\n",
       "\t<tr><td>2.589267</td><td>2.6581594</td><td>2.246015</td></tr>\n",
       "\t<tr><td>3.371082</td><td>2.7140323</td><td>1.187843</td></tr>\n",
       "\t<tr><td>2.540026</td><td>2.0294632</td><td>2.325325</td></tr>\n",
       "\t<tr><td>2.016235</td><td>1.7578579</td><td>2.095561</td></tr>\n",
       "\t<tr><td>2.292535</td><td>1.2892326</td><td>2.211566</td></tr>\n",
       "\t<tr><td>2.327278</td><td>1.6233408</td><td>2.319442</td></tr>\n",
       "\t<tr><td>2.407846</td><td>1.8164521</td><td>2.029463</td></tr>\n",
       "\t<tr><td>2.498974</td><td>2.6574584</td><td>2.666534</td></tr>\n",
       "\t<tr><td>2.326302</td><td>0.9516579</td><td>1.806648</td></tr>\n",
       "\t<tr><td>2.320425</td><td>1.8000583</td><td>2.496506</td></tr>\n",
       "\t<tr><td>2.183802</td><td>0.9932518</td><td>2.503892</td></tr>\n",
       "\t<tr><td>2.512846</td><td>2.0451089</td><td>2.457878</td></tr>\n",
       "\t<tr><td>2.141242</td><td>2.6404849</td><td>2.485740</td></tr>\n",
       "\t<tr><td>3.264232</td><td>2.8587664</td><td>2.826722</td></tr>\n",
       "\t<tr><td>2.561096</td><td>2.1090003</td><td>1.971299</td></tr>\n",
       "\t<tr><td>2.829087</td><td>2.5930134</td><td>2.867331</td></tr>\n",
       "\t<tr><td>2.687847</td><td>2.3776926</td><td>2.679651</td></tr>\n",
       "\t<tr><td>2.334084</td><td>1.6409366</td><td>2.833213</td></tr>\n",
       "</tbody>\n",
       "</table>\n"
      ],
      "text/latex": [
       "A tibble: 25 × 3\n",
       "\\begin{tabular}{lll}\n",
       " Fuel(x1) & Repair(x2) & Capital(x3)\\\\\n",
       " <dbl> & <dbl> & <dbl>\\\\\n",
       "\\hline\n",
       "\t 2.799717 & 2.5201129 & 2.418589\\\\\n",
       "\t 1.972691 & 0.9932518 & 1.366092\\\\\n",
       "\t 2.294553 & 0.3001046 & 2.277267\\\\\n",
       "\t 1.444563 & 1.7544037 & 2.051556\\\\\n",
       "\t 2.415914 & 1.6193882 & 2.367436\\\\\n",
       "\t 2.656757 & 1.7544037 & 2.290513\\\\\n",
       "\t 2.602690 & 2.3960754 & 2.360854\\\\\n",
       "\t 2.589267 & 2.6581594 & 2.246015\\\\\n",
       "\t 3.371082 & 2.7140323 & 1.187843\\\\\n",
       "\t 2.540026 & 2.0294632 & 2.325325\\\\\n",
       "\t 2.016235 & 1.7578579 & 2.095561\\\\\n",
       "\t 2.292535 & 1.2892326 & 2.211566\\\\\n",
       "\t 2.327278 & 1.6233408 & 2.319442\\\\\n",
       "\t 2.407846 & 1.8164521 & 2.029463\\\\\n",
       "\t 2.498974 & 2.6574584 & 2.666534\\\\\n",
       "\t 2.326302 & 0.9516579 & 1.806648\\\\\n",
       "\t 2.320425 & 1.8000583 & 2.496506\\\\\n",
       "\t 2.183802 & 0.9932518 & 2.503892\\\\\n",
       "\t 2.512846 & 2.0451089 & 2.457878\\\\\n",
       "\t 2.141242 & 2.6404849 & 2.485740\\\\\n",
       "\t 3.264232 & 2.8587664 & 2.826722\\\\\n",
       "\t 2.561096 & 2.1090003 & 1.971299\\\\\n",
       "\t 2.829087 & 2.5930134 & 2.867331\\\\\n",
       "\t 2.687847 & 2.3776926 & 2.679651\\\\\n",
       "\t 2.334084 & 1.6409366 & 2.833213\\\\\n",
       "\\end{tabular}\n"
      ],
      "text/markdown": [
       "\n",
       "A tibble: 25 × 3\n",
       "\n",
       "| Fuel(x1) &lt;dbl&gt; | Repair(x2) &lt;dbl&gt; | Capital(x3) &lt;dbl&gt; |\n",
       "|---|---|---|\n",
       "| 2.799717 | 2.5201129 | 2.418589 |\n",
       "| 1.972691 | 0.9932518 | 1.366092 |\n",
       "| 2.294553 | 0.3001046 | 2.277267 |\n",
       "| 1.444563 | 1.7544037 | 2.051556 |\n",
       "| 2.415914 | 1.6193882 | 2.367436 |\n",
       "| 2.656757 | 1.7544037 | 2.290513 |\n",
       "| 2.602690 | 2.3960754 | 2.360854 |\n",
       "| 2.589267 | 2.6581594 | 2.246015 |\n",
       "| 3.371082 | 2.7140323 | 1.187843 |\n",
       "| 2.540026 | 2.0294632 | 2.325325 |\n",
       "| 2.016235 | 1.7578579 | 2.095561 |\n",
       "| 2.292535 | 1.2892326 | 2.211566 |\n",
       "| 2.327278 | 1.6233408 | 2.319442 |\n",
       "| 2.407846 | 1.8164521 | 2.029463 |\n",
       "| 2.498974 | 2.6574584 | 2.666534 |\n",
       "| 2.326302 | 0.9516579 | 1.806648 |\n",
       "| 2.320425 | 1.8000583 | 2.496506 |\n",
       "| 2.183802 | 0.9932518 | 2.503892 |\n",
       "| 2.512846 | 2.0451089 | 2.457878 |\n",
       "| 2.141242 | 2.6404849 | 2.485740 |\n",
       "| 3.264232 | 2.8587664 | 2.826722 |\n",
       "| 2.561096 | 2.1090003 | 1.971299 |\n",
       "| 2.829087 | 2.5930134 | 2.867331 |\n",
       "| 2.687847 | 2.3776926 | 2.679651 |\n",
       "| 2.334084 | 1.6409366 | 2.833213 |\n",
       "\n"
      ],
      "text/plain": [
       "   Fuel(x1) Repair(x2) Capital(x3)\n",
       "1  2.799717 2.5201129  2.418589   \n",
       "2  1.972691 0.9932518  1.366092   \n",
       "3  2.294553 0.3001046  2.277267   \n",
       "4  1.444563 1.7544037  2.051556   \n",
       "5  2.415914 1.6193882  2.367436   \n",
       "6  2.656757 1.7544037  2.290513   \n",
       "7  2.602690 2.3960754  2.360854   \n",
       "8  2.589267 2.6581594  2.246015   \n",
       "9  3.371082 2.7140323  1.187843   \n",
       "10 2.540026 2.0294632  2.325325   \n",
       "11 2.016235 1.7578579  2.095561   \n",
       "12 2.292535 1.2892326  2.211566   \n",
       "13 2.327278 1.6233408  2.319442   \n",
       "14 2.407846 1.8164521  2.029463   \n",
       "15 2.498974 2.6574584  2.666534   \n",
       "16 2.326302 0.9516579  1.806648   \n",
       "17 2.320425 1.8000583  2.496506   \n",
       "18 2.183802 0.9932518  2.503892   \n",
       "19 2.512846 2.0451089  2.457878   \n",
       "20 2.141242 2.6404849  2.485740   \n",
       "21 3.264232 2.8587664  2.826722   \n",
       "22 2.561096 2.1090003  1.971299   \n",
       "23 2.829087 2.5930134  2.867331   \n",
       "24 2.687847 2.3776926  2.679651   \n",
       "25 2.334084 1.6409366  2.833213   "
      ]
     },
     "metadata": {},
     "output_type": "display_data"
    }
   ],
   "source": [
    "logtransformed_data <- log(data)\n",
    "logtransformed_data"
   ]
  },
  {
   "cell_type": "code",
   "execution_count": 26,
   "id": "6ec6ca3a",
   "metadata": {
    "ExecuteTime": {
     "end_time": "2022-03-06T08:16:22.622381Z",
     "start_time": "2022-03-06T08:16:20.009Z"
    }
   },
   "outputs": [
    {
     "data": {
      "text/html": [
       "<dl>\n",
       "\t<dt>$multivariateNormality</dt>\n",
       "\t\t<dd><table class=\"dataframe\">\n",
       "<caption>A data.frame: 3 × 4</caption>\n",
       "<thead>\n",
       "\t<tr><th scope=col>Test</th><th scope=col>Statistic</th><th scope=col>p value</th><th scope=col>Result</th></tr>\n",
       "\t<tr><th scope=col>&lt;chr&gt;</th><th scope=col>&lt;fct&gt;</th><th scope=col>&lt;fct&gt;</th><th scope=col>&lt;chr&gt;</th></tr>\n",
       "</thead>\n",
       "<tbody>\n",
       "\t<tr><td>Mardia Skewness</td><td>30.8900393018098</td><td>0.000611765973228868</td><td>NO</td></tr>\n",
       "\t<tr><td>Mardia Kurtosis</td><td>3.19699802634818</td><td>0.00138865876689986 </td><td>NO</td></tr>\n",
       "\t<tr><td>MVN            </td><td>NA              </td><td>NA                  </td><td>NO</td></tr>\n",
       "</tbody>\n",
       "</table>\n",
       "</dd>\n",
       "\t<dt>$univariateNormality</dt>\n",
       "\t\t<dd><table class=\"dataframe\">\n",
       "<caption>A data.frame: 3 × 5</caption>\n",
       "<thead>\n",
       "\t<tr><th></th><th scope=col>Test</th><th scope=col>Variable</th><th scope=col>Statistic</th><th scope=col>p value</th><th scope=col>Normality</th></tr>\n",
       "\t<tr><th></th><th scope=col>&lt;I&lt;chr&gt;&gt;</th><th scope=col>&lt;I&lt;chr&gt;&gt;</th><th scope=col>&lt;I&lt;chr&gt;&gt;</th><th scope=col>&lt;I&lt;chr&gt;&gt;</th><th scope=col>&lt;I&lt;chr&gt;&gt;</th></tr>\n",
       "</thead>\n",
       "<tbody>\n",
       "\t<tr><th scope=row>1</th><td>Anderson-Darling</td><td> Fuel(x1)  </td><td>   0.5745</td><td>   0.1213</td><td>   YES   </td></tr>\n",
       "\t<tr><th scope=row>2</th><td>Anderson-Darling</td><td>Repair(x2) </td><td>   0.4881</td><td>   0.2035</td><td>   YES   </td></tr>\n",
       "\t<tr><th scope=row>3</th><td>Anderson-Darling</td><td>Capital(x3)</td><td>   0.6564</td><td>   0.0764</td><td>   YES   </td></tr>\n",
       "</tbody>\n",
       "</table>\n",
       "</dd>\n",
       "\t<dt>$Descriptives</dt>\n",
       "\t\t<dd><table class=\"dataframe\">\n",
       "<caption>A data.frame: 3 × 10</caption>\n",
       "<thead>\n",
       "\t<tr><th></th><th scope=col>n</th><th scope=col>Mean</th><th scope=col>Std.Dev</th><th scope=col>Median</th><th scope=col>Min</th><th scope=col>Max</th><th scope=col>25th</th><th scope=col>75th</th><th scope=col>Skew</th><th scope=col>Kurtosis</th></tr>\n",
       "\t<tr><th></th><th scope=col>&lt;int&gt;</th><th scope=col>&lt;dbl&gt;</th><th scope=col>&lt;dbl&gt;</th><th scope=col>&lt;dbl&gt;</th><th scope=col>&lt;dbl&gt;</th><th scope=col>&lt;dbl&gt;</th><th scope=col>&lt;dbl&gt;</th><th scope=col>&lt;dbl&gt;</th><th scope=col>&lt;dbl&gt;</th><th scope=col>&lt;dbl&gt;</th></tr>\n",
       "</thead>\n",
       "<tbody>\n",
       "\t<tr><th scope=row>Fuel(x1)</th><td>25</td><td>2.455644</td><td>0.3900299</td><td>2.415914</td><td>1.4445633</td><td>3.371082</td><td>2.294553</td><td>2.602690</td><td> 0.07914855</td><td> 1.0156690</td></tr>\n",
       "\t<tr><th scope=row>Repair(x2)</th><td>25</td><td>1.915748</td><td>0.6605409</td><td>1.816452</td><td>0.3001046</td><td>2.858766</td><td>1.623341</td><td>2.520113</td><td>-0.51619159</td><td>-0.5150052</td></tr>\n",
       "\t<tr><th scope=row>Capital(x3)</th><td>25</td><td>2.285717</td><td>0.4066382</td><td>2.325325</td><td>1.1878434</td><td>2.867331</td><td>2.095561</td><td>2.496506</td><td>-0.95613365</td><td> 0.7763171</td></tr>\n",
       "</tbody>\n",
       "</table>\n",
       "</dd>\n",
       "\t<dt>$multivariateOutliers</dt>\n",
       "\t\t<dd>NULL</dd>\n",
       "</dl>\n"
      ],
      "text/latex": [
       "\\begin{description}\n",
       "\\item[\\$multivariateNormality] A data.frame: 3 × 4\n",
       "\\begin{tabular}{llll}\n",
       " Test & Statistic & p value & Result\\\\\n",
       " <chr> & <fct> & <fct> & <chr>\\\\\n",
       "\\hline\n",
       "\t Mardia Skewness & 30.8900393018098 & 0.000611765973228868 & NO\\\\\n",
       "\t Mardia Kurtosis & 3.19699802634818 & 0.00138865876689986  & NO\\\\\n",
       "\t MVN             & NA               & NA                   & NO\\\\\n",
       "\\end{tabular}\n",
       "\n",
       "\\item[\\$univariateNormality] A data.frame: 3 × 5\n",
       "\\begin{tabular}{r|lllll}\n",
       "  & Test & Variable & Statistic & p value & Normality\\\\\n",
       "  & <I<chr>> & <I<chr>> & <I<chr>> & <I<chr>> & <I<chr>>\\\\\n",
       "\\hline\n",
       "\t1 & Anderson-Darling &  Fuel(x1)   &    0.5745 &    0.1213 &    YES   \\\\\n",
       "\t2 & Anderson-Darling & Repair(x2)  &    0.4881 &    0.2035 &    YES   \\\\\n",
       "\t3 & Anderson-Darling & Capital(x3) &    0.6564 &    0.0764 &    YES   \\\\\n",
       "\\end{tabular}\n",
       "\n",
       "\\item[\\$Descriptives] A data.frame: 3 × 10\n",
       "\\begin{tabular}{r|llllllllll}\n",
       "  & n & Mean & Std.Dev & Median & Min & Max & 25th & 75th & Skew & Kurtosis\\\\\n",
       "  & <int> & <dbl> & <dbl> & <dbl> & <dbl> & <dbl> & <dbl> & <dbl> & <dbl> & <dbl>\\\\\n",
       "\\hline\n",
       "\tFuel(x1) & 25 & 2.455644 & 0.3900299 & 2.415914 & 1.4445633 & 3.371082 & 2.294553 & 2.602690 &  0.07914855 &  1.0156690\\\\\n",
       "\tRepair(x2) & 25 & 1.915748 & 0.6605409 & 1.816452 & 0.3001046 & 2.858766 & 1.623341 & 2.520113 & -0.51619159 & -0.5150052\\\\\n",
       "\tCapital(x3) & 25 & 2.285717 & 0.4066382 & 2.325325 & 1.1878434 & 2.867331 & 2.095561 & 2.496506 & -0.95613365 &  0.7763171\\\\\n",
       "\\end{tabular}\n",
       "\n",
       "\\item[\\$multivariateOutliers] NULL\n",
       "\\end{description}\n"
      ],
      "text/markdown": [
       "$multivariateNormality\n",
       ":   \n",
       "A data.frame: 3 × 4\n",
       "\n",
       "| Test &lt;chr&gt; | Statistic &lt;fct&gt; | p value &lt;fct&gt; | Result &lt;chr&gt; |\n",
       "|---|---|---|---|\n",
       "| Mardia Skewness | 30.8900393018098 | 0.000611765973228868 | NO |\n",
       "| Mardia Kurtosis | 3.19699802634818 | 0.00138865876689986  | NO |\n",
       "| MVN             | NA               | NA                   | NO |\n",
       "\n",
       "\n",
       "$univariateNormality\n",
       ":   \n",
       "A data.frame: 3 × 5\n",
       "\n",
       "| <!--/--> | Test &lt;I&lt;chr&gt;&gt; | Variable &lt;I&lt;chr&gt;&gt; | Statistic &lt;I&lt;chr&gt;&gt; | p value &lt;I&lt;chr&gt;&gt; | Normality &lt;I&lt;chr&gt;&gt; |\n",
       "|---|---|---|---|---|---|\n",
       "| 1 | Anderson-Darling |  Fuel(x1)   |    0.5745 |    0.1213 |    YES    |\n",
       "| 2 | Anderson-Darling | Repair(x2)  |    0.4881 |    0.2035 |    YES    |\n",
       "| 3 | Anderson-Darling | Capital(x3) |    0.6564 |    0.0764 |    YES    |\n",
       "\n",
       "\n",
       "$Descriptives\n",
       ":   \n",
       "A data.frame: 3 × 10\n",
       "\n",
       "| <!--/--> | n &lt;int&gt; | Mean &lt;dbl&gt; | Std.Dev &lt;dbl&gt; | Median &lt;dbl&gt; | Min &lt;dbl&gt; | Max &lt;dbl&gt; | 25th &lt;dbl&gt; | 75th &lt;dbl&gt; | Skew &lt;dbl&gt; | Kurtosis &lt;dbl&gt; |\n",
       "|---|---|---|---|---|---|---|---|---|---|---|\n",
       "| Fuel(x1) | 25 | 2.455644 | 0.3900299 | 2.415914 | 1.4445633 | 3.371082 | 2.294553 | 2.602690 |  0.07914855 |  1.0156690 |\n",
       "| Repair(x2) | 25 | 1.915748 | 0.6605409 | 1.816452 | 0.3001046 | 2.858766 | 1.623341 | 2.520113 | -0.51619159 | -0.5150052 |\n",
       "| Capital(x3) | 25 | 2.285717 | 0.4066382 | 2.325325 | 1.1878434 | 2.867331 | 2.095561 | 2.496506 | -0.95613365 |  0.7763171 |\n",
       "\n",
       "\n",
       "$multivariateOutliers\n",
       ":   NULL\n",
       "\n",
       "\n"
      ],
      "text/plain": [
       "$multivariateNormality\n",
       "             Test        Statistic              p value Result\n",
       "1 Mardia Skewness 30.8900393018098 0.000611765973228868     NO\n",
       "2 Mardia Kurtosis 3.19699802634818  0.00138865876689986     NO\n",
       "3             MVN             <NA>                 <NA>     NO\n",
       "\n",
       "$univariateNormality\n",
       "              Test    Variable Statistic   p value Normality\n",
       "1 Anderson-Darling  Fuel(x1)      0.5745    0.1213    YES   \n",
       "2 Anderson-Darling Repair(x2)     0.4881    0.2035    YES   \n",
       "3 Anderson-Darling Capital(x3)    0.6564    0.0764    YES   \n",
       "\n",
       "$Descriptives\n",
       "             n     Mean   Std.Dev   Median       Min      Max     25th     75th\n",
       "Fuel(x1)    25 2.455644 0.3900299 2.415914 1.4445633 3.371082 2.294553 2.602690\n",
       "Repair(x2)  25 1.915748 0.6605409 1.816452 0.3001046 2.858766 1.623341 2.520113\n",
       "Capital(x3) 25 2.285717 0.4066382 2.325325 1.1878434 2.867331 2.095561 2.496506\n",
       "                   Skew   Kurtosis\n",
       "Fuel(x1)     0.07914855  1.0156690\n",
       "Repair(x2)  -0.51619159 -0.5150052\n",
       "Capital(x3) -0.95613365  0.7763171\n",
       "\n",
       "$multivariateOutliers\n",
       "NULL\n"
      ]
     },
     "metadata": {},
     "output_type": "display_data"
    }
   ],
   "source": [
    "mvn(logtransformed_data, mvnTest = 'mardia', showOutliers = TRUE)"
   ]
  },
  {
   "cell_type": "code",
   "execution_count": 27,
   "id": "cea4514d",
   "metadata": {
    "ExecuteTime": {
     "end_time": "2022-03-06T08:16:22.673376Z",
     "start_time": "2022-03-06T08:16:20.011Z"
    }
   },
   "outputs": [
    {
     "data": {
      "text/html": [
       "<dl>\n",
       "\t<dt>$multivariateNormality</dt>\n",
       "\t\t<dd><table class=\"dataframe\">\n",
       "<caption>A data.frame: 1 × 4</caption>\n",
       "<thead>\n",
       "\t<tr><th scope=col>Test</th><th scope=col>HZ</th><th scope=col>p value</th><th scope=col>MVN</th></tr>\n",
       "\t<tr><th scope=col>&lt;chr&gt;</th><th scope=col>&lt;dbl&gt;</th><th scope=col>&lt;dbl&gt;</th><th scope=col>&lt;chr&gt;</th></tr>\n",
       "</thead>\n",
       "<tbody>\n",
       "\t<tr><td>Henze-Zirkler</td><td>0.8986854</td><td>0.03179726</td><td>NO</td></tr>\n",
       "</tbody>\n",
       "</table>\n",
       "</dd>\n",
       "\t<dt>$univariateNormality</dt>\n",
       "\t\t<dd><table class=\"dataframe\">\n",
       "<caption>A data.frame: 3 × 5</caption>\n",
       "<thead>\n",
       "\t<tr><th></th><th scope=col>Test</th><th scope=col>Variable</th><th scope=col>Statistic</th><th scope=col>p value</th><th scope=col>Normality</th></tr>\n",
       "\t<tr><th></th><th scope=col>&lt;I&lt;chr&gt;&gt;</th><th scope=col>&lt;I&lt;chr&gt;&gt;</th><th scope=col>&lt;I&lt;chr&gt;&gt;</th><th scope=col>&lt;I&lt;chr&gt;&gt;</th><th scope=col>&lt;I&lt;chr&gt;&gt;</th></tr>\n",
       "</thead>\n",
       "<tbody>\n",
       "\t<tr><th scope=row>1</th><td>Anderson-Darling</td><td> Fuel(x1)  </td><td>   0.5745</td><td>   0.1213</td><td>   YES   </td></tr>\n",
       "\t<tr><th scope=row>2</th><td>Anderson-Darling</td><td>Repair(x2) </td><td>   0.4881</td><td>   0.2035</td><td>   YES   </td></tr>\n",
       "\t<tr><th scope=row>3</th><td>Anderson-Darling</td><td>Capital(x3)</td><td>   0.6564</td><td>   0.0764</td><td>   YES   </td></tr>\n",
       "</tbody>\n",
       "</table>\n",
       "</dd>\n",
       "\t<dt>$Descriptives</dt>\n",
       "\t\t<dd><table class=\"dataframe\">\n",
       "<caption>A data.frame: 3 × 10</caption>\n",
       "<thead>\n",
       "\t<tr><th></th><th scope=col>n</th><th scope=col>Mean</th><th scope=col>Std.Dev</th><th scope=col>Median</th><th scope=col>Min</th><th scope=col>Max</th><th scope=col>25th</th><th scope=col>75th</th><th scope=col>Skew</th><th scope=col>Kurtosis</th></tr>\n",
       "\t<tr><th></th><th scope=col>&lt;int&gt;</th><th scope=col>&lt;dbl&gt;</th><th scope=col>&lt;dbl&gt;</th><th scope=col>&lt;dbl&gt;</th><th scope=col>&lt;dbl&gt;</th><th scope=col>&lt;dbl&gt;</th><th scope=col>&lt;dbl&gt;</th><th scope=col>&lt;dbl&gt;</th><th scope=col>&lt;dbl&gt;</th><th scope=col>&lt;dbl&gt;</th></tr>\n",
       "</thead>\n",
       "<tbody>\n",
       "\t<tr><th scope=row>Fuel(x1)</th><td>25</td><td>2.455644</td><td>0.3900299</td><td>2.415914</td><td>1.4445633</td><td>3.371082</td><td>2.294553</td><td>2.602690</td><td> 0.07914855</td><td> 1.0156690</td></tr>\n",
       "\t<tr><th scope=row>Repair(x2)</th><td>25</td><td>1.915748</td><td>0.6605409</td><td>1.816452</td><td>0.3001046</td><td>2.858766</td><td>1.623341</td><td>2.520113</td><td>-0.51619159</td><td>-0.5150052</td></tr>\n",
       "\t<tr><th scope=row>Capital(x3)</th><td>25</td><td>2.285717</td><td>0.4066382</td><td>2.325325</td><td>1.1878434</td><td>2.867331</td><td>2.095561</td><td>2.496506</td><td>-0.95613365</td><td> 0.7763171</td></tr>\n",
       "</tbody>\n",
       "</table>\n",
       "</dd>\n",
       "\t<dt>$multivariateOutliers</dt>\n",
       "\t\t<dd>NULL</dd>\n",
       "</dl>\n"
      ],
      "text/latex": [
       "\\begin{description}\n",
       "\\item[\\$multivariateNormality] A data.frame: 1 × 4\n",
       "\\begin{tabular}{llll}\n",
       " Test & HZ & p value & MVN\\\\\n",
       " <chr> & <dbl> & <dbl> & <chr>\\\\\n",
       "\\hline\n",
       "\t Henze-Zirkler & 0.8986854 & 0.03179726 & NO\\\\\n",
       "\\end{tabular}\n",
       "\n",
       "\\item[\\$univariateNormality] A data.frame: 3 × 5\n",
       "\\begin{tabular}{r|lllll}\n",
       "  & Test & Variable & Statistic & p value & Normality\\\\\n",
       "  & <I<chr>> & <I<chr>> & <I<chr>> & <I<chr>> & <I<chr>>\\\\\n",
       "\\hline\n",
       "\t1 & Anderson-Darling &  Fuel(x1)   &    0.5745 &    0.1213 &    YES   \\\\\n",
       "\t2 & Anderson-Darling & Repair(x2)  &    0.4881 &    0.2035 &    YES   \\\\\n",
       "\t3 & Anderson-Darling & Capital(x3) &    0.6564 &    0.0764 &    YES   \\\\\n",
       "\\end{tabular}\n",
       "\n",
       "\\item[\\$Descriptives] A data.frame: 3 × 10\n",
       "\\begin{tabular}{r|llllllllll}\n",
       "  & n & Mean & Std.Dev & Median & Min & Max & 25th & 75th & Skew & Kurtosis\\\\\n",
       "  & <int> & <dbl> & <dbl> & <dbl> & <dbl> & <dbl> & <dbl> & <dbl> & <dbl> & <dbl>\\\\\n",
       "\\hline\n",
       "\tFuel(x1) & 25 & 2.455644 & 0.3900299 & 2.415914 & 1.4445633 & 3.371082 & 2.294553 & 2.602690 &  0.07914855 &  1.0156690\\\\\n",
       "\tRepair(x2) & 25 & 1.915748 & 0.6605409 & 1.816452 & 0.3001046 & 2.858766 & 1.623341 & 2.520113 & -0.51619159 & -0.5150052\\\\\n",
       "\tCapital(x3) & 25 & 2.285717 & 0.4066382 & 2.325325 & 1.1878434 & 2.867331 & 2.095561 & 2.496506 & -0.95613365 &  0.7763171\\\\\n",
       "\\end{tabular}\n",
       "\n",
       "\\item[\\$multivariateOutliers] NULL\n",
       "\\end{description}\n"
      ],
      "text/markdown": [
       "$multivariateNormality\n",
       ":   \n",
       "A data.frame: 1 × 4\n",
       "\n",
       "| Test &lt;chr&gt; | HZ &lt;dbl&gt; | p value &lt;dbl&gt; | MVN &lt;chr&gt; |\n",
       "|---|---|---|---|\n",
       "| Henze-Zirkler | 0.8986854 | 0.03179726 | NO |\n",
       "\n",
       "\n",
       "$univariateNormality\n",
       ":   \n",
       "A data.frame: 3 × 5\n",
       "\n",
       "| <!--/--> | Test &lt;I&lt;chr&gt;&gt; | Variable &lt;I&lt;chr&gt;&gt; | Statistic &lt;I&lt;chr&gt;&gt; | p value &lt;I&lt;chr&gt;&gt; | Normality &lt;I&lt;chr&gt;&gt; |\n",
       "|---|---|---|---|---|---|\n",
       "| 1 | Anderson-Darling |  Fuel(x1)   |    0.5745 |    0.1213 |    YES    |\n",
       "| 2 | Anderson-Darling | Repair(x2)  |    0.4881 |    0.2035 |    YES    |\n",
       "| 3 | Anderson-Darling | Capital(x3) |    0.6564 |    0.0764 |    YES    |\n",
       "\n",
       "\n",
       "$Descriptives\n",
       ":   \n",
       "A data.frame: 3 × 10\n",
       "\n",
       "| <!--/--> | n &lt;int&gt; | Mean &lt;dbl&gt; | Std.Dev &lt;dbl&gt; | Median &lt;dbl&gt; | Min &lt;dbl&gt; | Max &lt;dbl&gt; | 25th &lt;dbl&gt; | 75th &lt;dbl&gt; | Skew &lt;dbl&gt; | Kurtosis &lt;dbl&gt; |\n",
       "|---|---|---|---|---|---|---|---|---|---|---|\n",
       "| Fuel(x1) | 25 | 2.455644 | 0.3900299 | 2.415914 | 1.4445633 | 3.371082 | 2.294553 | 2.602690 |  0.07914855 |  1.0156690 |\n",
       "| Repair(x2) | 25 | 1.915748 | 0.6605409 | 1.816452 | 0.3001046 | 2.858766 | 1.623341 | 2.520113 | -0.51619159 | -0.5150052 |\n",
       "| Capital(x3) | 25 | 2.285717 | 0.4066382 | 2.325325 | 1.1878434 | 2.867331 | 2.095561 | 2.496506 | -0.95613365 |  0.7763171 |\n",
       "\n",
       "\n",
       "$multivariateOutliers\n",
       ":   NULL\n",
       "\n",
       "\n"
      ],
      "text/plain": [
       "$multivariateNormality\n",
       "           Test        HZ    p value MVN\n",
       "1 Henze-Zirkler 0.8986854 0.03179726  NO\n",
       "\n",
       "$univariateNormality\n",
       "              Test    Variable Statistic   p value Normality\n",
       "1 Anderson-Darling  Fuel(x1)      0.5745    0.1213    YES   \n",
       "2 Anderson-Darling Repair(x2)     0.4881    0.2035    YES   \n",
       "3 Anderson-Darling Capital(x3)    0.6564    0.0764    YES   \n",
       "\n",
       "$Descriptives\n",
       "             n     Mean   Std.Dev   Median       Min      Max     25th     75th\n",
       "Fuel(x1)    25 2.455644 0.3900299 2.415914 1.4445633 3.371082 2.294553 2.602690\n",
       "Repair(x2)  25 1.915748 0.6605409 1.816452 0.3001046 2.858766 1.623341 2.520113\n",
       "Capital(x3) 25 2.285717 0.4066382 2.325325 1.1878434 2.867331 2.095561 2.496506\n",
       "                   Skew   Kurtosis\n",
       "Fuel(x1)     0.07914855  1.0156690\n",
       "Repair(x2)  -0.51619159 -0.5150052\n",
       "Capital(x3) -0.95613365  0.7763171\n",
       "\n",
       "$multivariateOutliers\n",
       "NULL\n"
      ]
     },
     "metadata": {},
     "output_type": "display_data"
    }
   ],
   "source": [
    "mvn(logtransformed_data, showOutliers = TRUE)"
   ]
  },
  {
   "cell_type": "code",
   "execution_count": 28,
   "id": "4d4a30b2",
   "metadata": {
    "ExecuteTime": {
     "end_time": "2022-03-06T08:16:22.731333Z",
     "start_time": "2022-03-06T08:16:20.014Z"
    }
   },
   "outputs": [
    {
     "data": {
      "text/html": [
       "<dl>\n",
       "\t<dt>$multivariateNormality</dt>\n",
       "\t\t<dd><table class=\"dataframe\">\n",
       "<caption>A data.frame: 1 × 4</caption>\n",
       "<thead>\n",
       "\t<tr><th scope=col>Test</th><th scope=col>H</th><th scope=col>p value</th><th scope=col>MVN</th></tr>\n",
       "\t<tr><th scope=col>&lt;chr&gt;</th><th scope=col>&lt;dbl&gt;</th><th scope=col>&lt;dbl&gt;</th><th scope=col>&lt;chr&gt;</th></tr>\n",
       "</thead>\n",
       "<tbody>\n",
       "\t<tr><td>Royston</td><td>9.473765</td><td>0.0243117</td><td>NO</td></tr>\n",
       "</tbody>\n",
       "</table>\n",
       "</dd>\n",
       "\t<dt>$univariateNormality</dt>\n",
       "\t\t<dd><table class=\"dataframe\">\n",
       "<caption>A data.frame: 3 × 5</caption>\n",
       "<thead>\n",
       "\t<tr><th></th><th scope=col>Test</th><th scope=col>Variable</th><th scope=col>Statistic</th><th scope=col>p value</th><th scope=col>Normality</th></tr>\n",
       "\t<tr><th></th><th scope=col>&lt;I&lt;chr&gt;&gt;</th><th scope=col>&lt;I&lt;chr&gt;&gt;</th><th scope=col>&lt;I&lt;chr&gt;&gt;</th><th scope=col>&lt;I&lt;chr&gt;&gt;</th><th scope=col>&lt;I&lt;chr&gt;&gt;</th></tr>\n",
       "</thead>\n",
       "<tbody>\n",
       "\t<tr><th scope=row>1</th><td>Anderson-Darling</td><td> Fuel(x1)  </td><td>   0.5745</td><td>   0.1213</td><td>   YES   </td></tr>\n",
       "\t<tr><th scope=row>2</th><td>Anderson-Darling</td><td>Repair(x2) </td><td>   0.4881</td><td>   0.2035</td><td>   YES   </td></tr>\n",
       "\t<tr><th scope=row>3</th><td>Anderson-Darling</td><td>Capital(x3)</td><td>   0.6564</td><td>   0.0764</td><td>   YES   </td></tr>\n",
       "</tbody>\n",
       "</table>\n",
       "</dd>\n",
       "\t<dt>$Descriptives</dt>\n",
       "\t\t<dd><table class=\"dataframe\">\n",
       "<caption>A data.frame: 3 × 10</caption>\n",
       "<thead>\n",
       "\t<tr><th></th><th scope=col>n</th><th scope=col>Mean</th><th scope=col>Std.Dev</th><th scope=col>Median</th><th scope=col>Min</th><th scope=col>Max</th><th scope=col>25th</th><th scope=col>75th</th><th scope=col>Skew</th><th scope=col>Kurtosis</th></tr>\n",
       "\t<tr><th></th><th scope=col>&lt;int&gt;</th><th scope=col>&lt;dbl&gt;</th><th scope=col>&lt;dbl&gt;</th><th scope=col>&lt;dbl&gt;</th><th scope=col>&lt;dbl&gt;</th><th scope=col>&lt;dbl&gt;</th><th scope=col>&lt;dbl&gt;</th><th scope=col>&lt;dbl&gt;</th><th scope=col>&lt;dbl&gt;</th><th scope=col>&lt;dbl&gt;</th></tr>\n",
       "</thead>\n",
       "<tbody>\n",
       "\t<tr><th scope=row>Fuel(x1)</th><td>25</td><td>2.455644</td><td>0.3900299</td><td>2.415914</td><td>1.4445633</td><td>3.371082</td><td>2.294553</td><td>2.602690</td><td> 0.07914855</td><td> 1.0156690</td></tr>\n",
       "\t<tr><th scope=row>Repair(x2)</th><td>25</td><td>1.915748</td><td>0.6605409</td><td>1.816452</td><td>0.3001046</td><td>2.858766</td><td>1.623341</td><td>2.520113</td><td>-0.51619159</td><td>-0.5150052</td></tr>\n",
       "\t<tr><th scope=row>Capital(x3)</th><td>25</td><td>2.285717</td><td>0.4066382</td><td>2.325325</td><td>1.1878434</td><td>2.867331</td><td>2.095561</td><td>2.496506</td><td>-0.95613365</td><td> 0.7763171</td></tr>\n",
       "</tbody>\n",
       "</table>\n",
       "</dd>\n",
       "\t<dt>$multivariateOutliers</dt>\n",
       "\t\t<dd>NULL</dd>\n",
       "</dl>\n"
      ],
      "text/latex": [
       "\\begin{description}\n",
       "\\item[\\$multivariateNormality] A data.frame: 1 × 4\n",
       "\\begin{tabular}{llll}\n",
       " Test & H & p value & MVN\\\\\n",
       " <chr> & <dbl> & <dbl> & <chr>\\\\\n",
       "\\hline\n",
       "\t Royston & 9.473765 & 0.0243117 & NO\\\\\n",
       "\\end{tabular}\n",
       "\n",
       "\\item[\\$univariateNormality] A data.frame: 3 × 5\n",
       "\\begin{tabular}{r|lllll}\n",
       "  & Test & Variable & Statistic & p value & Normality\\\\\n",
       "  & <I<chr>> & <I<chr>> & <I<chr>> & <I<chr>> & <I<chr>>\\\\\n",
       "\\hline\n",
       "\t1 & Anderson-Darling &  Fuel(x1)   &    0.5745 &    0.1213 &    YES   \\\\\n",
       "\t2 & Anderson-Darling & Repair(x2)  &    0.4881 &    0.2035 &    YES   \\\\\n",
       "\t3 & Anderson-Darling & Capital(x3) &    0.6564 &    0.0764 &    YES   \\\\\n",
       "\\end{tabular}\n",
       "\n",
       "\\item[\\$Descriptives] A data.frame: 3 × 10\n",
       "\\begin{tabular}{r|llllllllll}\n",
       "  & n & Mean & Std.Dev & Median & Min & Max & 25th & 75th & Skew & Kurtosis\\\\\n",
       "  & <int> & <dbl> & <dbl> & <dbl> & <dbl> & <dbl> & <dbl> & <dbl> & <dbl> & <dbl>\\\\\n",
       "\\hline\n",
       "\tFuel(x1) & 25 & 2.455644 & 0.3900299 & 2.415914 & 1.4445633 & 3.371082 & 2.294553 & 2.602690 &  0.07914855 &  1.0156690\\\\\n",
       "\tRepair(x2) & 25 & 1.915748 & 0.6605409 & 1.816452 & 0.3001046 & 2.858766 & 1.623341 & 2.520113 & -0.51619159 & -0.5150052\\\\\n",
       "\tCapital(x3) & 25 & 2.285717 & 0.4066382 & 2.325325 & 1.1878434 & 2.867331 & 2.095561 & 2.496506 & -0.95613365 &  0.7763171\\\\\n",
       "\\end{tabular}\n",
       "\n",
       "\\item[\\$multivariateOutliers] NULL\n",
       "\\end{description}\n"
      ],
      "text/markdown": [
       "$multivariateNormality\n",
       ":   \n",
       "A data.frame: 1 × 4\n",
       "\n",
       "| Test &lt;chr&gt; | H &lt;dbl&gt; | p value &lt;dbl&gt; | MVN &lt;chr&gt; |\n",
       "|---|---|---|---|\n",
       "| Royston | 9.473765 | 0.0243117 | NO |\n",
       "\n",
       "\n",
       "$univariateNormality\n",
       ":   \n",
       "A data.frame: 3 × 5\n",
       "\n",
       "| <!--/--> | Test &lt;I&lt;chr&gt;&gt; | Variable &lt;I&lt;chr&gt;&gt; | Statistic &lt;I&lt;chr&gt;&gt; | p value &lt;I&lt;chr&gt;&gt; | Normality &lt;I&lt;chr&gt;&gt; |\n",
       "|---|---|---|---|---|---|\n",
       "| 1 | Anderson-Darling |  Fuel(x1)   |    0.5745 |    0.1213 |    YES    |\n",
       "| 2 | Anderson-Darling | Repair(x2)  |    0.4881 |    0.2035 |    YES    |\n",
       "| 3 | Anderson-Darling | Capital(x3) |    0.6564 |    0.0764 |    YES    |\n",
       "\n",
       "\n",
       "$Descriptives\n",
       ":   \n",
       "A data.frame: 3 × 10\n",
       "\n",
       "| <!--/--> | n &lt;int&gt; | Mean &lt;dbl&gt; | Std.Dev &lt;dbl&gt; | Median &lt;dbl&gt; | Min &lt;dbl&gt; | Max &lt;dbl&gt; | 25th &lt;dbl&gt; | 75th &lt;dbl&gt; | Skew &lt;dbl&gt; | Kurtosis &lt;dbl&gt; |\n",
       "|---|---|---|---|---|---|---|---|---|---|---|\n",
       "| Fuel(x1) | 25 | 2.455644 | 0.3900299 | 2.415914 | 1.4445633 | 3.371082 | 2.294553 | 2.602690 |  0.07914855 |  1.0156690 |\n",
       "| Repair(x2) | 25 | 1.915748 | 0.6605409 | 1.816452 | 0.3001046 | 2.858766 | 1.623341 | 2.520113 | -0.51619159 | -0.5150052 |\n",
       "| Capital(x3) | 25 | 2.285717 | 0.4066382 | 2.325325 | 1.1878434 | 2.867331 | 2.095561 | 2.496506 | -0.95613365 |  0.7763171 |\n",
       "\n",
       "\n",
       "$multivariateOutliers\n",
       ":   NULL\n",
       "\n",
       "\n"
      ],
      "text/plain": [
       "$multivariateNormality\n",
       "     Test        H   p value MVN\n",
       "1 Royston 9.473765 0.0243117  NO\n",
       "\n",
       "$univariateNormality\n",
       "              Test    Variable Statistic   p value Normality\n",
       "1 Anderson-Darling  Fuel(x1)      0.5745    0.1213    YES   \n",
       "2 Anderson-Darling Repair(x2)     0.4881    0.2035    YES   \n",
       "3 Anderson-Darling Capital(x3)    0.6564    0.0764    YES   \n",
       "\n",
       "$Descriptives\n",
       "             n     Mean   Std.Dev   Median       Min      Max     25th     75th\n",
       "Fuel(x1)    25 2.455644 0.3900299 2.415914 1.4445633 3.371082 2.294553 2.602690\n",
       "Repair(x2)  25 1.915748 0.6605409 1.816452 0.3001046 2.858766 1.623341 2.520113\n",
       "Capital(x3) 25 2.285717 0.4066382 2.325325 1.1878434 2.867331 2.095561 2.496506\n",
       "                   Skew   Kurtosis\n",
       "Fuel(x1)     0.07914855  1.0156690\n",
       "Repair(x2)  -0.51619159 -0.5150052\n",
       "Capital(x3) -0.95613365  0.7763171\n",
       "\n",
       "$multivariateOutliers\n",
       "NULL\n"
      ]
     },
     "metadata": {},
     "output_type": "display_data"
    }
   ],
   "source": [
    "mvn(logtransformed_data, mvnTest = 'royston', showOutliers = TRUE)"
   ]
  },
  {
   "cell_type": "code",
   "execution_count": 29,
   "id": "93ef944b",
   "metadata": {
    "ExecuteTime": {
     "end_time": "2022-03-06T08:16:22.791371Z",
     "start_time": "2022-03-06T08:16:20.016Z"
    }
   },
   "outputs": [
    {
     "data": {
      "text/html": [
       "<dl>\n",
       "\t<dt>$multivariateNormality</dt>\n",
       "\t\t<dd><table class=\"dataframe\">\n",
       "<caption>A data.frame: 1 × 5</caption>\n",
       "<thead>\n",
       "\t<tr><th scope=col>Test</th><th scope=col>E</th><th scope=col>df</th><th scope=col>p value</th><th scope=col>MVN</th></tr>\n",
       "\t<tr><th scope=col>&lt;chr&gt;</th><th scope=col>&lt;dbl&gt;</th><th scope=col>&lt;dbl&gt;</th><th scope=col>&lt;dbl&gt;</th><th scope=col>&lt;chr&gt;</th></tr>\n",
       "</thead>\n",
       "<tbody>\n",
       "\t<tr><td>Doornik-Hansen</td><td>14.4491</td><td>6</td><td>0.0250026</td><td>NO</td></tr>\n",
       "</tbody>\n",
       "</table>\n",
       "</dd>\n",
       "\t<dt>$univariateNormality</dt>\n",
       "\t\t<dd><table class=\"dataframe\">\n",
       "<caption>A data.frame: 3 × 5</caption>\n",
       "<thead>\n",
       "\t<tr><th></th><th scope=col>Test</th><th scope=col>Variable</th><th scope=col>Statistic</th><th scope=col>p value</th><th scope=col>Normality</th></tr>\n",
       "\t<tr><th></th><th scope=col>&lt;I&lt;chr&gt;&gt;</th><th scope=col>&lt;I&lt;chr&gt;&gt;</th><th scope=col>&lt;I&lt;chr&gt;&gt;</th><th scope=col>&lt;I&lt;chr&gt;&gt;</th><th scope=col>&lt;I&lt;chr&gt;&gt;</th></tr>\n",
       "</thead>\n",
       "<tbody>\n",
       "\t<tr><th scope=row>1</th><td>Anderson-Darling</td><td> Fuel(x1)  </td><td>   0.5745</td><td>   0.1213</td><td>   YES   </td></tr>\n",
       "\t<tr><th scope=row>2</th><td>Anderson-Darling</td><td>Repair(x2) </td><td>   0.4881</td><td>   0.2035</td><td>   YES   </td></tr>\n",
       "\t<tr><th scope=row>3</th><td>Anderson-Darling</td><td>Capital(x3)</td><td>   0.6564</td><td>   0.0764</td><td>   YES   </td></tr>\n",
       "</tbody>\n",
       "</table>\n",
       "</dd>\n",
       "\t<dt>$Descriptives</dt>\n",
       "\t\t<dd><table class=\"dataframe\">\n",
       "<caption>A data.frame: 3 × 10</caption>\n",
       "<thead>\n",
       "\t<tr><th></th><th scope=col>n</th><th scope=col>Mean</th><th scope=col>Std.Dev</th><th scope=col>Median</th><th scope=col>Min</th><th scope=col>Max</th><th scope=col>25th</th><th scope=col>75th</th><th scope=col>Skew</th><th scope=col>Kurtosis</th></tr>\n",
       "\t<tr><th></th><th scope=col>&lt;int&gt;</th><th scope=col>&lt;dbl&gt;</th><th scope=col>&lt;dbl&gt;</th><th scope=col>&lt;dbl&gt;</th><th scope=col>&lt;dbl&gt;</th><th scope=col>&lt;dbl&gt;</th><th scope=col>&lt;dbl&gt;</th><th scope=col>&lt;dbl&gt;</th><th scope=col>&lt;dbl&gt;</th><th scope=col>&lt;dbl&gt;</th></tr>\n",
       "</thead>\n",
       "<tbody>\n",
       "\t<tr><th scope=row>Fuel(x1)</th><td>25</td><td>2.455644</td><td>0.3900299</td><td>2.415914</td><td>1.4445633</td><td>3.371082</td><td>2.294553</td><td>2.602690</td><td> 0.07914855</td><td> 1.0156690</td></tr>\n",
       "\t<tr><th scope=row>Repair(x2)</th><td>25</td><td>1.915748</td><td>0.6605409</td><td>1.816452</td><td>0.3001046</td><td>2.858766</td><td>1.623341</td><td>2.520113</td><td>-0.51619159</td><td>-0.5150052</td></tr>\n",
       "\t<tr><th scope=row>Capital(x3)</th><td>25</td><td>2.285717</td><td>0.4066382</td><td>2.325325</td><td>1.1878434</td><td>2.867331</td><td>2.095561</td><td>2.496506</td><td>-0.95613365</td><td> 0.7763171</td></tr>\n",
       "</tbody>\n",
       "</table>\n",
       "</dd>\n",
       "\t<dt>$multivariateOutliers</dt>\n",
       "\t\t<dd>NULL</dd>\n",
       "</dl>\n"
      ],
      "text/latex": [
       "\\begin{description}\n",
       "\\item[\\$multivariateNormality] A data.frame: 1 × 5\n",
       "\\begin{tabular}{lllll}\n",
       " Test & E & df & p value & MVN\\\\\n",
       " <chr> & <dbl> & <dbl> & <dbl> & <chr>\\\\\n",
       "\\hline\n",
       "\t Doornik-Hansen & 14.4491 & 6 & 0.0250026 & NO\\\\\n",
       "\\end{tabular}\n",
       "\n",
       "\\item[\\$univariateNormality] A data.frame: 3 × 5\n",
       "\\begin{tabular}{r|lllll}\n",
       "  & Test & Variable & Statistic & p value & Normality\\\\\n",
       "  & <I<chr>> & <I<chr>> & <I<chr>> & <I<chr>> & <I<chr>>\\\\\n",
       "\\hline\n",
       "\t1 & Anderson-Darling &  Fuel(x1)   &    0.5745 &    0.1213 &    YES   \\\\\n",
       "\t2 & Anderson-Darling & Repair(x2)  &    0.4881 &    0.2035 &    YES   \\\\\n",
       "\t3 & Anderson-Darling & Capital(x3) &    0.6564 &    0.0764 &    YES   \\\\\n",
       "\\end{tabular}\n",
       "\n",
       "\\item[\\$Descriptives] A data.frame: 3 × 10\n",
       "\\begin{tabular}{r|llllllllll}\n",
       "  & n & Mean & Std.Dev & Median & Min & Max & 25th & 75th & Skew & Kurtosis\\\\\n",
       "  & <int> & <dbl> & <dbl> & <dbl> & <dbl> & <dbl> & <dbl> & <dbl> & <dbl> & <dbl>\\\\\n",
       "\\hline\n",
       "\tFuel(x1) & 25 & 2.455644 & 0.3900299 & 2.415914 & 1.4445633 & 3.371082 & 2.294553 & 2.602690 &  0.07914855 &  1.0156690\\\\\n",
       "\tRepair(x2) & 25 & 1.915748 & 0.6605409 & 1.816452 & 0.3001046 & 2.858766 & 1.623341 & 2.520113 & -0.51619159 & -0.5150052\\\\\n",
       "\tCapital(x3) & 25 & 2.285717 & 0.4066382 & 2.325325 & 1.1878434 & 2.867331 & 2.095561 & 2.496506 & -0.95613365 &  0.7763171\\\\\n",
       "\\end{tabular}\n",
       "\n",
       "\\item[\\$multivariateOutliers] NULL\n",
       "\\end{description}\n"
      ],
      "text/markdown": [
       "$multivariateNormality\n",
       ":   \n",
       "A data.frame: 1 × 5\n",
       "\n",
       "| Test &lt;chr&gt; | E &lt;dbl&gt; | df &lt;dbl&gt; | p value &lt;dbl&gt; | MVN &lt;chr&gt; |\n",
       "|---|---|---|---|---|\n",
       "| Doornik-Hansen | 14.4491 | 6 | 0.0250026 | NO |\n",
       "\n",
       "\n",
       "$univariateNormality\n",
       ":   \n",
       "A data.frame: 3 × 5\n",
       "\n",
       "| <!--/--> | Test &lt;I&lt;chr&gt;&gt; | Variable &lt;I&lt;chr&gt;&gt; | Statistic &lt;I&lt;chr&gt;&gt; | p value &lt;I&lt;chr&gt;&gt; | Normality &lt;I&lt;chr&gt;&gt; |\n",
       "|---|---|---|---|---|---|\n",
       "| 1 | Anderson-Darling |  Fuel(x1)   |    0.5745 |    0.1213 |    YES    |\n",
       "| 2 | Anderson-Darling | Repair(x2)  |    0.4881 |    0.2035 |    YES    |\n",
       "| 3 | Anderson-Darling | Capital(x3) |    0.6564 |    0.0764 |    YES    |\n",
       "\n",
       "\n",
       "$Descriptives\n",
       ":   \n",
       "A data.frame: 3 × 10\n",
       "\n",
       "| <!--/--> | n &lt;int&gt; | Mean &lt;dbl&gt; | Std.Dev &lt;dbl&gt; | Median &lt;dbl&gt; | Min &lt;dbl&gt; | Max &lt;dbl&gt; | 25th &lt;dbl&gt; | 75th &lt;dbl&gt; | Skew &lt;dbl&gt; | Kurtosis &lt;dbl&gt; |\n",
       "|---|---|---|---|---|---|---|---|---|---|---|\n",
       "| Fuel(x1) | 25 | 2.455644 | 0.3900299 | 2.415914 | 1.4445633 | 3.371082 | 2.294553 | 2.602690 |  0.07914855 |  1.0156690 |\n",
       "| Repair(x2) | 25 | 1.915748 | 0.6605409 | 1.816452 | 0.3001046 | 2.858766 | 1.623341 | 2.520113 | -0.51619159 | -0.5150052 |\n",
       "| Capital(x3) | 25 | 2.285717 | 0.4066382 | 2.325325 | 1.1878434 | 2.867331 | 2.095561 | 2.496506 | -0.95613365 |  0.7763171 |\n",
       "\n",
       "\n",
       "$multivariateOutliers\n",
       ":   NULL\n",
       "\n",
       "\n"
      ],
      "text/plain": [
       "$multivariateNormality\n",
       "            Test       E df   p value MVN\n",
       "1 Doornik-Hansen 14.4491  6 0.0250026  NO\n",
       "\n",
       "$univariateNormality\n",
       "              Test    Variable Statistic   p value Normality\n",
       "1 Anderson-Darling  Fuel(x1)      0.5745    0.1213    YES   \n",
       "2 Anderson-Darling Repair(x2)     0.4881    0.2035    YES   \n",
       "3 Anderson-Darling Capital(x3)    0.6564    0.0764    YES   \n",
       "\n",
       "$Descriptives\n",
       "             n     Mean   Std.Dev   Median       Min      Max     25th     75th\n",
       "Fuel(x1)    25 2.455644 0.3900299 2.415914 1.4445633 3.371082 2.294553 2.602690\n",
       "Repair(x2)  25 1.915748 0.6605409 1.816452 0.3001046 2.858766 1.623341 2.520113\n",
       "Capital(x3) 25 2.285717 0.4066382 2.325325 1.1878434 2.867331 2.095561 2.496506\n",
       "                   Skew   Kurtosis\n",
       "Fuel(x1)     0.07914855  1.0156690\n",
       "Repair(x2)  -0.51619159 -0.5150052\n",
       "Capital(x3) -0.95613365  0.7763171\n",
       "\n",
       "$multivariateOutliers\n",
       "NULL\n"
      ]
     },
     "metadata": {},
     "output_type": "display_data"
    }
   ],
   "source": [
    "mvn(logtransformed_data, mvnTest = \"dh\", showOutliers = TRUE)"
   ]
  },
  {
   "cell_type": "code",
   "execution_count": 30,
   "id": "34640c39",
   "metadata": {
    "ExecuteTime": {
     "end_time": "2022-03-06T08:16:23.173388Z",
     "start_time": "2022-03-06T08:16:20.018Z"
    },
    "scrolled": true
   },
   "outputs": [
    {
     "data": {
      "text/html": [
       "<dl>\n",
       "\t<dt>$multivariateNormality</dt>\n",
       "\t\t<dd><table class=\"dataframe\">\n",
       "<caption>A data.frame: 1 × 4</caption>\n",
       "<thead>\n",
       "\t<tr><th scope=col>Test</th><th scope=col>Statistic</th><th scope=col>p value</th><th scope=col>MVN</th></tr>\n",
       "\t<tr><th scope=col>&lt;chr&gt;</th><th scope=col>&lt;dbl&gt;</th><th scope=col>&lt;dbl&gt;</th><th scope=col>&lt;chr&gt;</th></tr>\n",
       "</thead>\n",
       "<tbody>\n",
       "\t<tr><td>E-statistic</td><td>1.216518</td><td>0.006</td><td>NO</td></tr>\n",
       "</tbody>\n",
       "</table>\n",
       "</dd>\n",
       "\t<dt>$univariateNormality</dt>\n",
       "\t\t<dd><table class=\"dataframe\">\n",
       "<caption>A data.frame: 3 × 5</caption>\n",
       "<thead>\n",
       "\t<tr><th></th><th scope=col>Test</th><th scope=col>Variable</th><th scope=col>Statistic</th><th scope=col>p value</th><th scope=col>Normality</th></tr>\n",
       "\t<tr><th></th><th scope=col>&lt;I&lt;chr&gt;&gt;</th><th scope=col>&lt;I&lt;chr&gt;&gt;</th><th scope=col>&lt;I&lt;chr&gt;&gt;</th><th scope=col>&lt;I&lt;chr&gt;&gt;</th><th scope=col>&lt;I&lt;chr&gt;&gt;</th></tr>\n",
       "</thead>\n",
       "<tbody>\n",
       "\t<tr><th scope=row>1</th><td>Anderson-Darling</td><td> Fuel(x1)  </td><td>   0.5745</td><td>   0.1213</td><td>   YES   </td></tr>\n",
       "\t<tr><th scope=row>2</th><td>Anderson-Darling</td><td>Repair(x2) </td><td>   0.4881</td><td>   0.2035</td><td>   YES   </td></tr>\n",
       "\t<tr><th scope=row>3</th><td>Anderson-Darling</td><td>Capital(x3)</td><td>   0.6564</td><td>   0.0764</td><td>   YES   </td></tr>\n",
       "</tbody>\n",
       "</table>\n",
       "</dd>\n",
       "\t<dt>$Descriptives</dt>\n",
       "\t\t<dd><table class=\"dataframe\">\n",
       "<caption>A data.frame: 3 × 10</caption>\n",
       "<thead>\n",
       "\t<tr><th></th><th scope=col>n</th><th scope=col>Mean</th><th scope=col>Std.Dev</th><th scope=col>Median</th><th scope=col>Min</th><th scope=col>Max</th><th scope=col>25th</th><th scope=col>75th</th><th scope=col>Skew</th><th scope=col>Kurtosis</th></tr>\n",
       "\t<tr><th></th><th scope=col>&lt;int&gt;</th><th scope=col>&lt;dbl&gt;</th><th scope=col>&lt;dbl&gt;</th><th scope=col>&lt;dbl&gt;</th><th scope=col>&lt;dbl&gt;</th><th scope=col>&lt;dbl&gt;</th><th scope=col>&lt;dbl&gt;</th><th scope=col>&lt;dbl&gt;</th><th scope=col>&lt;dbl&gt;</th><th scope=col>&lt;dbl&gt;</th></tr>\n",
       "</thead>\n",
       "<tbody>\n",
       "\t<tr><th scope=row>Fuel(x1)</th><td>25</td><td>2.455644</td><td>0.3900299</td><td>2.415914</td><td>1.4445633</td><td>3.371082</td><td>2.294553</td><td>2.602690</td><td> 0.07914855</td><td> 1.0156690</td></tr>\n",
       "\t<tr><th scope=row>Repair(x2)</th><td>25</td><td>1.915748</td><td>0.6605409</td><td>1.816452</td><td>0.3001046</td><td>2.858766</td><td>1.623341</td><td>2.520113</td><td>-0.51619159</td><td>-0.5150052</td></tr>\n",
       "\t<tr><th scope=row>Capital(x3)</th><td>25</td><td>2.285717</td><td>0.4066382</td><td>2.325325</td><td>1.1878434</td><td>2.867331</td><td>2.095561</td><td>2.496506</td><td>-0.95613365</td><td> 0.7763171</td></tr>\n",
       "</tbody>\n",
       "</table>\n",
       "</dd>\n",
       "\t<dt>$multivariateOutliers</dt>\n",
       "\t\t<dd>NULL</dd>\n",
       "</dl>\n"
      ],
      "text/latex": [
       "\\begin{description}\n",
       "\\item[\\$multivariateNormality] A data.frame: 1 × 4\n",
       "\\begin{tabular}{llll}\n",
       " Test & Statistic & p value & MVN\\\\\n",
       " <chr> & <dbl> & <dbl> & <chr>\\\\\n",
       "\\hline\n",
       "\t E-statistic & 1.216518 & 0.006 & NO\\\\\n",
       "\\end{tabular}\n",
       "\n",
       "\\item[\\$univariateNormality] A data.frame: 3 × 5\n",
       "\\begin{tabular}{r|lllll}\n",
       "  & Test & Variable & Statistic & p value & Normality\\\\\n",
       "  & <I<chr>> & <I<chr>> & <I<chr>> & <I<chr>> & <I<chr>>\\\\\n",
       "\\hline\n",
       "\t1 & Anderson-Darling &  Fuel(x1)   &    0.5745 &    0.1213 &    YES   \\\\\n",
       "\t2 & Anderson-Darling & Repair(x2)  &    0.4881 &    0.2035 &    YES   \\\\\n",
       "\t3 & Anderson-Darling & Capital(x3) &    0.6564 &    0.0764 &    YES   \\\\\n",
       "\\end{tabular}\n",
       "\n",
       "\\item[\\$Descriptives] A data.frame: 3 × 10\n",
       "\\begin{tabular}{r|llllllllll}\n",
       "  & n & Mean & Std.Dev & Median & Min & Max & 25th & 75th & Skew & Kurtosis\\\\\n",
       "  & <int> & <dbl> & <dbl> & <dbl> & <dbl> & <dbl> & <dbl> & <dbl> & <dbl> & <dbl>\\\\\n",
       "\\hline\n",
       "\tFuel(x1) & 25 & 2.455644 & 0.3900299 & 2.415914 & 1.4445633 & 3.371082 & 2.294553 & 2.602690 &  0.07914855 &  1.0156690\\\\\n",
       "\tRepair(x2) & 25 & 1.915748 & 0.6605409 & 1.816452 & 0.3001046 & 2.858766 & 1.623341 & 2.520113 & -0.51619159 & -0.5150052\\\\\n",
       "\tCapital(x3) & 25 & 2.285717 & 0.4066382 & 2.325325 & 1.1878434 & 2.867331 & 2.095561 & 2.496506 & -0.95613365 &  0.7763171\\\\\n",
       "\\end{tabular}\n",
       "\n",
       "\\item[\\$multivariateOutliers] NULL\n",
       "\\end{description}\n"
      ],
      "text/markdown": [
       "$multivariateNormality\n",
       ":   \n",
       "A data.frame: 1 × 4\n",
       "\n",
       "| Test &lt;chr&gt; | Statistic &lt;dbl&gt; | p value &lt;dbl&gt; | MVN &lt;chr&gt; |\n",
       "|---|---|---|---|\n",
       "| E-statistic | 1.216518 | 0.006 | NO |\n",
       "\n",
       "\n",
       "$univariateNormality\n",
       ":   \n",
       "A data.frame: 3 × 5\n",
       "\n",
       "| <!--/--> | Test &lt;I&lt;chr&gt;&gt; | Variable &lt;I&lt;chr&gt;&gt; | Statistic &lt;I&lt;chr&gt;&gt; | p value &lt;I&lt;chr&gt;&gt; | Normality &lt;I&lt;chr&gt;&gt; |\n",
       "|---|---|---|---|---|---|\n",
       "| 1 | Anderson-Darling |  Fuel(x1)   |    0.5745 |    0.1213 |    YES    |\n",
       "| 2 | Anderson-Darling | Repair(x2)  |    0.4881 |    0.2035 |    YES    |\n",
       "| 3 | Anderson-Darling | Capital(x3) |    0.6564 |    0.0764 |    YES    |\n",
       "\n",
       "\n",
       "$Descriptives\n",
       ":   \n",
       "A data.frame: 3 × 10\n",
       "\n",
       "| <!--/--> | n &lt;int&gt; | Mean &lt;dbl&gt; | Std.Dev &lt;dbl&gt; | Median &lt;dbl&gt; | Min &lt;dbl&gt; | Max &lt;dbl&gt; | 25th &lt;dbl&gt; | 75th &lt;dbl&gt; | Skew &lt;dbl&gt; | Kurtosis &lt;dbl&gt; |\n",
       "|---|---|---|---|---|---|---|---|---|---|---|\n",
       "| Fuel(x1) | 25 | 2.455644 | 0.3900299 | 2.415914 | 1.4445633 | 3.371082 | 2.294553 | 2.602690 |  0.07914855 |  1.0156690 |\n",
       "| Repair(x2) | 25 | 1.915748 | 0.6605409 | 1.816452 | 0.3001046 | 2.858766 | 1.623341 | 2.520113 | -0.51619159 | -0.5150052 |\n",
       "| Capital(x3) | 25 | 2.285717 | 0.4066382 | 2.325325 | 1.1878434 | 2.867331 | 2.095561 | 2.496506 | -0.95613365 |  0.7763171 |\n",
       "\n",
       "\n",
       "$multivariateOutliers\n",
       ":   NULL\n",
       "\n",
       "\n"
      ],
      "text/plain": [
       "$multivariateNormality\n",
       "         Test Statistic p value MVN\n",
       "1 E-statistic  1.216518   0.006  NO\n",
       "\n",
       "$univariateNormality\n",
       "              Test    Variable Statistic   p value Normality\n",
       "1 Anderson-Darling  Fuel(x1)      0.5745    0.1213    YES   \n",
       "2 Anderson-Darling Repair(x2)     0.4881    0.2035    YES   \n",
       "3 Anderson-Darling Capital(x3)    0.6564    0.0764    YES   \n",
       "\n",
       "$Descriptives\n",
       "             n     Mean   Std.Dev   Median       Min      Max     25th     75th\n",
       "Fuel(x1)    25 2.455644 0.3900299 2.415914 1.4445633 3.371082 2.294553 2.602690\n",
       "Repair(x2)  25 1.915748 0.6605409 1.816452 0.3001046 2.858766 1.623341 2.520113\n",
       "Capital(x3) 25 2.285717 0.4066382 2.325325 1.1878434 2.867331 2.095561 2.496506\n",
       "                   Skew   Kurtosis\n",
       "Fuel(x1)     0.07914855  1.0156690\n",
       "Repair(x2)  -0.51619159 -0.5150052\n",
       "Capital(x3) -0.95613365  0.7763171\n",
       "\n",
       "$multivariateOutliers\n",
       "NULL\n"
      ]
     },
     "metadata": {},
     "output_type": "display_data"
    }
   ],
   "source": [
    "mvn(logtransformed_data, mvnTest = 'energy', showOutliers = TRUE)"
   ]
  },
  {
   "cell_type": "code",
   "execution_count": 31,
   "id": "cbeb2860",
   "metadata": {
    "ExecuteTime": {
     "end_time": "2022-03-06T08:16:23.202389Z",
     "start_time": "2022-03-06T08:16:20.020Z"
    }
   },
   "outputs": [
    {
     "data": {
      "text/plain": [
       "\n",
       "\tMultivariate Shapiro-Wilk normality test\n",
       "\n",
       "data:  (Fuel(x1),Repair(x2),Capital(x3))\n",
       "W = 0.78978, p-value = 0.0001543\n"
      ]
     },
     "metadata": {},
     "output_type": "display_data"
    }
   ],
   "source": [
    "mshapiro.test(logtransformed_data)"
   ]
  }
 ],
 "metadata": {
  "kernelspec": {
   "display_name": "R",
   "language": "R",
   "name": "ir"
  },
  "language_info": {
   "codemirror_mode": "r",
   "file_extension": ".r",
   "mimetype": "text/x-r-source",
   "name": "R",
   "pygments_lexer": "r",
   "version": "4.0.5"
  },
  "toc": {
   "base_numbering": 1,
   "nav_menu": {},
   "number_sections": true,
   "sideBar": true,
   "skip_h1_title": false,
   "title_cell": "Table of Contents",
   "title_sidebar": "Contents",
   "toc_cell": false,
   "toc_position": {},
   "toc_section_display": true,
   "toc_window_display": false
  }
 },
 "nbformat": 4,
 "nbformat_minor": 5
}
