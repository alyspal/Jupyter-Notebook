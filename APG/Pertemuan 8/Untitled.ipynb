{
 "cells": [
  {
   "cell_type": "code",
   "execution_count": 1,
   "id": "1d54831c",
   "metadata": {
    "ExecuteTime": {
     "end_time": "2022-05-19T17:04:16.330588Z",
     "start_time": "2022-05-19T17:04:15.739Z"
    }
   },
   "outputs": [
    {
     "name": "stderr",
     "output_type": "stream",
     "text": [
      "Loading required package: ggplot2\n",
      "\n",
      "Welcome! Want to learn more? See two factoextra-related books at https://goo.gl/ve3WBa\n",
      "\n",
      "\n",
      "Attaching package: 'dplyr'\n",
      "\n",
      "\n",
      "The following objects are masked from 'package:stats':\n",
      "\n",
      "    filter, lag\n",
      "\n",
      "\n",
      "The following objects are masked from 'package:base':\n",
      "\n",
      "    intersect, setdiff, setequal, union\n",
      "\n",
      "\n",
      "corrplot 0.88 loaded\n",
      "\n"
     ]
    }
   ],
   "source": [
    "library(\"IRdisplay\")\n",
    "library(\"factoextra\")\n",
    "library(\"dplyr\")\n",
    "library(\"corrplot\")"
   ]
  },
  {
   "cell_type": "markdown",
   "id": "73e4f4ae",
   "metadata": {},
   "source": [
    "# 8.11"
   ]
  },
  {
   "cell_type": "markdown",
   "id": "15ba8e32",
   "metadata": {},
   "source": [
    "component analysis of the data using both the covariance matrix S and the correlation matrix R. What have you learned? Does it make any difference which matrix is chosen for analysis? Can the data be summarized in three or fewer dimensions? Can you interpret the principal components?"
   ]
  },
  {
   "cell_type": "code",
   "execution_count": 2,
   "id": "aa035c5d",
   "metadata": {
    "ExecuteTime": {
     "end_time": "2022-05-19T17:04:16.401438Z",
     "start_time": "2022-05-19T17:04:15.740Z"
    },
    "scrolled": true
   },
   "outputs": [
    {
     "data": {
      "text/html": [
       "<table class=\"dataframe\">\n",
       "<caption>A data.frame: 6 × 5</caption>\n",
       "<thead>\n",
       "\t<tr><th></th><th scope=col>tot_pop</th><th scope=col>med_school_year</th><th scope=col>tot_emp</th><th scope=col>health_serv</th><th scope=col>med_home_val</th></tr>\n",
       "\t<tr><th></th><th scope=col>&lt;dbl&gt;</th><th scope=col>&lt;dbl&gt;</th><th scope=col>&lt;dbl&gt;</th><th scope=col>&lt;dbl&gt;</th><th scope=col>&lt;dbl&gt;</th></tr>\n",
       "</thead>\n",
       "<tbody>\n",
       "\t<tr><th scope=row>1</th><td>5.935</td><td>14.2</td><td>2.265</td><td>2.27</td><td>2.91</td></tr>\n",
       "\t<tr><th scope=row>2</th><td>1.523</td><td>13.1</td><td>0.597</td><td>0.75</td><td>2.62</td></tr>\n",
       "\t<tr><th scope=row>3</th><td>2.599</td><td>12.7</td><td>1.237</td><td>1.11</td><td>1.72</td></tr>\n",
       "\t<tr><th scope=row>4</th><td>4.009</td><td>15.2</td><td>1.649</td><td>0.81</td><td>3.02</td></tr>\n",
       "\t<tr><th scope=row>5</th><td>4.687</td><td>14.7</td><td>2.312</td><td>2.50</td><td>2.22</td></tr>\n",
       "\t<tr><th scope=row>6</th><td>8.044</td><td>15.6</td><td>3.641</td><td>4.51</td><td>2.36</td></tr>\n",
       "</tbody>\n",
       "</table>\n"
      ],
      "text/latex": [
       "A data.frame: 6 × 5\n",
       "\\begin{tabular}{r|lllll}\n",
       "  & tot\\_pop & med\\_school\\_year & tot\\_emp & health\\_serv & med\\_home\\_val\\\\\n",
       "  & <dbl> & <dbl> & <dbl> & <dbl> & <dbl>\\\\\n",
       "\\hline\n",
       "\t1 & 5.935 & 14.2 & 2.265 & 2.27 & 2.91\\\\\n",
       "\t2 & 1.523 & 13.1 & 0.597 & 0.75 & 2.62\\\\\n",
       "\t3 & 2.599 & 12.7 & 1.237 & 1.11 & 1.72\\\\\n",
       "\t4 & 4.009 & 15.2 & 1.649 & 0.81 & 3.02\\\\\n",
       "\t5 & 4.687 & 14.7 & 2.312 & 2.50 & 2.22\\\\\n",
       "\t6 & 8.044 & 15.6 & 3.641 & 4.51 & 2.36\\\\\n",
       "\\end{tabular}\n"
      ],
      "text/markdown": [
       "\n",
       "A data.frame: 6 × 5\n",
       "\n",
       "| <!--/--> | tot_pop &lt;dbl&gt; | med_school_year &lt;dbl&gt; | tot_emp &lt;dbl&gt; | health_serv &lt;dbl&gt; | med_home_val &lt;dbl&gt; |\n",
       "|---|---|---|---|---|---|\n",
       "| 1 | 5.935 | 14.2 | 2.265 | 2.27 | 2.91 |\n",
       "| 2 | 1.523 | 13.1 | 0.597 | 0.75 | 2.62 |\n",
       "| 3 | 2.599 | 12.7 | 1.237 | 1.11 | 1.72 |\n",
       "| 4 | 4.009 | 15.2 | 1.649 | 0.81 | 3.02 |\n",
       "| 5 | 4.687 | 14.7 | 2.312 | 2.50 | 2.22 |\n",
       "| 6 | 8.044 | 15.6 | 3.641 | 4.51 | 2.36 |\n",
       "\n"
      ],
      "text/plain": [
       "  tot_pop med_school_year tot_emp health_serv med_home_val\n",
       "1 5.935   14.2            2.265   2.27        2.91        \n",
       "2 1.523   13.1            0.597   0.75        2.62        \n",
       "3 2.599   12.7            1.237   1.11        1.72        \n",
       "4 4.009   15.2            1.649   0.81        3.02        \n",
       "5 4.687   14.7            2.312   2.50        2.22        \n",
       "6 8.044   15.6            3.641   4.51        2.36        "
      ]
     },
     "metadata": {},
     "output_type": "display_data"
    }
   ],
   "source": [
    "tot_pop <- c(5.935, 1.523, 2.599, 4.009, 4.687, 8.044, 2.766, 6.538, 6.451, 3.314, 3.777, 1.530, 2.768, 6.585)\n",
    "med_school_year <- c(14.2, 13.1, 12.7, 15.2, 14.7, 15.6, 13.3, 17, 12.9, 12.2, 13, 13.8, 13.6, 14.9)\n",
    "tot_emp <- c(2.265, .597, 1.237, 1.649, 2.312, 3.641, 1.244, 2.618, 3.147, 1.606, 2.119, .798, 1.336, 2.763)\n",
    "health_serv <- c(2.27, .75, 1.11, .81, 2.5, 4.51, 1.03, 2.39, 5.52, 2.18, 2.83, .84, 1.75, 1.91)\n",
    "med_home_val <- c(2.91, 2.62, 1.72, 3.02, 2.22, 2.36, 1.97, 1.85, 2.01, 1.82, 1.8, 4.25, 2.64, 3.17)\n",
    "\n",
    "censusData <- cbind(tot_pop, med_school_year, tot_emp, health_serv, med_home_val)\n",
    "censusData <- data.frame(censusData)\n",
    "head(censusData)"
   ]
  },
  {
   "cell_type": "markdown",
   "id": "8055f5f7",
   "metadata": {
    "heading_collapsed": true
   },
   "source": [
    "## a. Covariance Matrix"
   ]
  },
  {
   "cell_type": "markdown",
   "id": "3d61c895",
   "metadata": {
    "hidden": true
   },
   "source": [
    "Sebelum Transformasi pada $X_{5}$"
   ]
  },
  {
   "cell_type": "code",
   "execution_count": 3,
   "id": "244b5682",
   "metadata": {
    "ExecuteTime": {
     "end_time": "2022-05-19T17:04:16.441334Z",
     "start_time": "2022-05-19T17:04:15.742Z"
    },
    "hidden": true
   },
   "outputs": [
    {
     "data": {
      "text/html": [
       "<table class=\"dataframe\">\n",
       "<caption>A matrix: 5 × 5 of type dbl</caption>\n",
       "<thead>\n",
       "\t<tr><th></th><th scope=col>tot_pop</th><th scope=col>med_school_year</th><th scope=col>tot_emp</th><th scope=col>health_serv</th><th scope=col>med_home_val</th></tr>\n",
       "</thead>\n",
       "<tbody>\n",
       "\t<tr><th scope=row>tot_pop</th><td> 4.3075558</td><td>1.6836802</td><td> 1.8027760</td><td> 2.1553257</td><td>-0.2534744</td></tr>\n",
       "\t<tr><th scope=row>med_school_year</th><td> 1.6836802</td><td>1.7674725</td><td> 0.5880264</td><td> 0.1779780</td><td> 0.1755495</td></tr>\n",
       "\t<tr><th scope=row>tot_emp</th><td> 1.8027760</td><td>0.5880264</td><td> 0.8006685</td><td> 1.0648280</td><td>-0.1583390</td></tr>\n",
       "\t<tr><th scope=row>health_serv</th><td> 2.1553257</td><td>0.1779780</td><td> 1.0648280</td><td> 1.9694747</td><td>-0.3568066</td></tr>\n",
       "\t<tr><th scope=row>med_home_val</th><td>-0.2534744</td><td>0.1755495</td><td>-0.1583390</td><td>-0.3568066</td><td> 0.5043802</td></tr>\n",
       "</tbody>\n",
       "</table>\n"
      ],
      "text/latex": [
       "A matrix: 5 × 5 of type dbl\n",
       "\\begin{tabular}{r|lllll}\n",
       "  & tot\\_pop & med\\_school\\_year & tot\\_emp & health\\_serv & med\\_home\\_val\\\\\n",
       "\\hline\n",
       "\ttot\\_pop &  4.3075558 & 1.6836802 &  1.8027760 &  2.1553257 & -0.2534744\\\\\n",
       "\tmed\\_school\\_year &  1.6836802 & 1.7674725 &  0.5880264 &  0.1779780 &  0.1755495\\\\\n",
       "\ttot\\_emp &  1.8027760 & 0.5880264 &  0.8006685 &  1.0648280 & -0.1583390\\\\\n",
       "\thealth\\_serv &  2.1553257 & 0.1779780 &  1.0648280 &  1.9694747 & -0.3568066\\\\\n",
       "\tmed\\_home\\_val & -0.2534744 & 0.1755495 & -0.1583390 & -0.3568066 &  0.5043802\\\\\n",
       "\\end{tabular}\n"
      ],
      "text/markdown": [
       "\n",
       "A matrix: 5 × 5 of type dbl\n",
       "\n",
       "| <!--/--> | tot_pop | med_school_year | tot_emp | health_serv | med_home_val |\n",
       "|---|---|---|---|---|---|\n",
       "| tot_pop |  4.3075558 | 1.6836802 |  1.8027760 |  2.1553257 | -0.2534744 |\n",
       "| med_school_year |  1.6836802 | 1.7674725 |  0.5880264 |  0.1779780 |  0.1755495 |\n",
       "| tot_emp |  1.8027760 | 0.5880264 |  0.8006685 |  1.0648280 | -0.1583390 |\n",
       "| health_serv |  2.1553257 | 0.1779780 |  1.0648280 |  1.9694747 | -0.3568066 |\n",
       "| med_home_val | -0.2534744 | 0.1755495 | -0.1583390 | -0.3568066 |  0.5043802 |\n",
       "\n"
      ],
      "text/plain": [
       "                tot_pop    med_school_year tot_emp    health_serv med_home_val\n",
       "tot_pop          4.3075558 1.6836802        1.8027760  2.1553257  -0.2534744  \n",
       "med_school_year  1.6836802 1.7674725        0.5880264  0.1779780   0.1755495  \n",
       "tot_emp          1.8027760 0.5880264        0.8006685  1.0648280  -0.1583390  \n",
       "health_serv      2.1553257 0.1779780        1.0648280  1.9694747  -0.3568066  \n",
       "med_home_val    -0.2534744 0.1755495       -0.1583390 -0.3568066   0.5043802  "
      ]
     },
     "metadata": {},
     "output_type": "display_data"
    }
   ],
   "source": [
    "covMat <- cov(censusData)\n",
    "covMat"
   ]
  },
  {
   "cell_type": "markdown",
   "id": "c6c6225d",
   "metadata": {
    "hidden": true
   },
   "source": [
    "Setelah Transformasi pada $X_{5} = 10 X_{5}$"
   ]
  },
  {
   "cell_type": "code",
   "execution_count": 4,
   "id": "f9828d6e",
   "metadata": {
    "ExecuteTime": {
     "end_time": "2022-05-19T17:04:16.486500Z",
     "start_time": "2022-05-19T17:04:15.745Z"
    },
    "hidden": true
   },
   "outputs": [
    {
     "data": {
      "text/html": [
       "<table class=\"dataframe\">\n",
       "<caption>A matrix: 5 × 5 of type dbl</caption>\n",
       "<thead>\n",
       "\t<tr><th></th><th scope=col>tot_pop</th><th scope=col>med_school_year</th><th scope=col>tot_emp</th><th scope=col>health_serv</th><th scope=col>med_home_val</th></tr>\n",
       "</thead>\n",
       "<tbody>\n",
       "\t<tr><th scope=row>tot_pop</th><td> 4.307556</td><td>1.6836802</td><td> 1.8027760</td><td> 2.155326</td><td>-2.534744</td></tr>\n",
       "\t<tr><th scope=row>med_school_year</th><td> 1.683680</td><td>1.7674725</td><td> 0.5880264</td><td> 0.177978</td><td> 1.755495</td></tr>\n",
       "\t<tr><th scope=row>tot_emp</th><td> 1.802776</td><td>0.5880264</td><td> 0.8006685</td><td> 1.064828</td><td>-1.583390</td></tr>\n",
       "\t<tr><th scope=row>health_serv</th><td> 2.155326</td><td>0.1779780</td><td> 1.0648280</td><td> 1.969475</td><td>-3.568066</td></tr>\n",
       "\t<tr><th scope=row>med_home_val</th><td>-2.534744</td><td>1.7554945</td><td>-1.5833901</td><td>-3.568066</td><td>50.438022</td></tr>\n",
       "</tbody>\n",
       "</table>\n"
      ],
      "text/latex": [
       "A matrix: 5 × 5 of type dbl\n",
       "\\begin{tabular}{r|lllll}\n",
       "  & tot\\_pop & med\\_school\\_year & tot\\_emp & health\\_serv & med\\_home\\_val\\\\\n",
       "\\hline\n",
       "\ttot\\_pop &  4.307556 & 1.6836802 &  1.8027760 &  2.155326 & -2.534744\\\\\n",
       "\tmed\\_school\\_year &  1.683680 & 1.7674725 &  0.5880264 &  0.177978 &  1.755495\\\\\n",
       "\ttot\\_emp &  1.802776 & 0.5880264 &  0.8006685 &  1.064828 & -1.583390\\\\\n",
       "\thealth\\_serv &  2.155326 & 0.1779780 &  1.0648280 &  1.969475 & -3.568066\\\\\n",
       "\tmed\\_home\\_val & -2.534744 & 1.7554945 & -1.5833901 & -3.568066 & 50.438022\\\\\n",
       "\\end{tabular}\n"
      ],
      "text/markdown": [
       "\n",
       "A matrix: 5 × 5 of type dbl\n",
       "\n",
       "| <!--/--> | tot_pop | med_school_year | tot_emp | health_serv | med_home_val |\n",
       "|---|---|---|---|---|---|\n",
       "| tot_pop |  4.307556 | 1.6836802 |  1.8027760 |  2.155326 | -2.534744 |\n",
       "| med_school_year |  1.683680 | 1.7674725 |  0.5880264 |  0.177978 |  1.755495 |\n",
       "| tot_emp |  1.802776 | 0.5880264 |  0.8006685 |  1.064828 | -1.583390 |\n",
       "| health_serv |  2.155326 | 0.1779780 |  1.0648280 |  1.969475 | -3.568066 |\n",
       "| med_home_val | -2.534744 | 1.7554945 | -1.5833901 | -3.568066 | 50.438022 |\n",
       "\n"
      ],
      "text/plain": [
       "                tot_pop   med_school_year tot_emp    health_serv med_home_val\n",
       "tot_pop          4.307556 1.6836802        1.8027760  2.155326   -2.534744   \n",
       "med_school_year  1.683680 1.7674725        0.5880264  0.177978    1.755495   \n",
       "tot_emp          1.802776 0.5880264        0.8006685  1.064828   -1.583390   \n",
       "health_serv      2.155326 0.1779780        1.0648280  1.969475   -3.568066   \n",
       "med_home_val    -2.534744 1.7554945       -1.5833901 -3.568066   50.438022   "
      ]
     },
     "metadata": {},
     "output_type": "display_data"
    }
   ],
   "source": [
    "newCensusData <- mutate(censusData, med_home_val = 10*med_home_val)\n",
    "covMat <- cov(newCensusData)\n",
    "covMat"
   ]
  },
  {
   "cell_type": "markdown",
   "id": "d2749129",
   "metadata": {
    "hidden": true
   },
   "source": [
    "Terlihat bahwa transformasi $X5 = 10X_{5}$ menyebabkan perubahan matriks kovarians pada elemen $\\sigma_{5i}$ dan $\\sigma_{i5}$ pada matriks kovarians awal untuk $ i =$ {$1, 2, 3, 4, 5$}. Misal $\\sigma_{ij}^*$ adalah elemen baris ke-i dan kolom ke-j\n",
    "dari matriks kovarians hasil transformasi, maka :"
   ]
  },
  {
   "cell_type": "markdown",
   "id": "1ffa9c12",
   "metadata": {
    "hidden": true
   },
   "source": [
    "untuk $i \\neq 5$ \\\n",
    "$$ \\sigma_{5i}^* = cov(X_{5}^*,X_{i}) $$\n",
    "$$ \\sigma_{5i}^* = cov(10X_{5},X_{i}) $$\n",
    "$$ \\sigma_{5i}^* = 10cov(X_{5},X_{i}) $$ \\\n",
    "diperoleh \\\n",
    "$$ \\sigma_{5i}^* = 10\\sigma_{5i}$$\n",
    "karena kesimetrisan kovarians, berlaku juga \n",
    "$$ \\sigma_{i5}^* = \\sigma_{5i}^* = 10\\sigma_{5i}$$"
   ]
  },
  {
   "cell_type": "markdown",
   "id": "11dc7f6f",
   "metadata": {
    "hidden": true
   },
   "source": [
    "untuk $i = 5$ \\\n",
    "$$ \\sigma_{5i}^* = cov(X_{5}^*,X_{5}^*) $$\n",
    "$$ \\sigma_{55}^* = cov(10X_{5},10X_{5}) $$\n",
    "diperoleh \n",
    "$$ \\sigma_{55}^* = 100 cov(X_{5},X_{5})$$"
   ]
  },
  {
   "cell_type": "markdown",
   "id": "c736691d",
   "metadata": {
    "hidden": true
   },
   "source": [
    "Dalam artian lain kita dapat memperoleh matriks korelasi setelah transformasi dengan mengalikan elemen\n",
    "off diagonal yang mengandung variabel $X_{5}$ (baris ke-5 atau kolom ke-5) dengan 10, dan mengalikan elemen\n",
    "diagonal yang mengandung variabel $X_{5}$ (baris ke-5 dan kolom ke-5) dengan 100"
   ]
  },
  {
   "cell_type": "markdown",
   "id": "abd7cf40",
   "metadata": {
    "heading_collapsed": true
   },
   "source": [
    "## Principal Component (Centered)"
   ]
  },
  {
   "cell_type": "code",
   "execution_count": 5,
   "id": "9116a7fa",
   "metadata": {
    "ExecuteTime": {
     "end_time": "2022-05-19T17:04:16.514497Z",
     "start_time": "2022-05-19T17:04:15.747Z"
    },
    "hidden": true
   },
   "outputs": [
    {
     "data": {
      "text/plain": [
       "eigen() decomposition\n",
       "$values\n",
       "[1] 50.96935726  6.64988991  1.41999710  0.22978608  0.01416317\n",
       "\n",
       "$vectors\n",
       "            [,1]       [,2]        [,3]         [,4]         [,5]\n",
       "[1,]  0.05765977 0.78220765  0.02307185  0.541282426 -0.302171422\n",
       "[2,] -0.03281610 0.35032828  0.76422159 -0.540439691 -0.009137870\n",
       "[3,]  0.03467366 0.32717525 -0.10109097  0.051177198  0.937504990\n",
       "[4,]  0.07557524 0.39085238 -0.63207658 -0.642117054 -0.172301138\n",
       "[5,] -0.99432619 0.07491367 -0.07545108  0.002204195  0.002375237\n"
      ]
     },
     "metadata": {},
     "output_type": "display_data"
    }
   ],
   "source": [
    "# Eigenvalue & Eigenvector\n",
    "eigen(covMat)"
   ]
  },
  {
   "cell_type": "code",
   "execution_count": 6,
   "id": "b6b68c5e",
   "metadata": {
    "ExecuteTime": {
     "end_time": "2022-05-19T17:04:16.549762Z",
     "start_time": "2022-05-19T17:04:15.749Z"
    },
    "hidden": true
   },
   "outputs": [
    {
     "data": {
      "text/html": [
       "<table class=\"dataframe\">\n",
       "<caption>A data.frame: 5 × 2</caption>\n",
       "<thead>\n",
       "\t<tr><th></th><th scope=col>PC1</th><th scope=col>PC2</th></tr>\n",
       "\t<tr><th></th><th scope=col>&lt;dbl&gt;</th><th scope=col>&lt;dbl&gt;</th></tr>\n",
       "</thead>\n",
       "<tbody>\n",
       "\t<tr><th scope=row>tot_pop</th><td> 0.05765977</td><td>-0.78220765</td></tr>\n",
       "\t<tr><th scope=row>med_school_year</th><td>-0.03281610</td><td>-0.35032828</td></tr>\n",
       "\t<tr><th scope=row>tot_emp</th><td> 0.03467366</td><td>-0.32717525</td></tr>\n",
       "\t<tr><th scope=row>health_serv</th><td> 0.07557524</td><td>-0.39085238</td></tr>\n",
       "\t<tr><th scope=row>med_home_val</th><td>-0.99432619</td><td>-0.07491367</td></tr>\n",
       "</tbody>\n",
       "</table>\n"
      ],
      "text/latex": [
       "A data.frame: 5 × 2\n",
       "\\begin{tabular}{r|ll}\n",
       "  & PC1 & PC2\\\\\n",
       "  & <dbl> & <dbl>\\\\\n",
       "\\hline\n",
       "\ttot\\_pop &  0.05765977 & -0.78220765\\\\\n",
       "\tmed\\_school\\_year & -0.03281610 & -0.35032828\\\\\n",
       "\ttot\\_emp &  0.03467366 & -0.32717525\\\\\n",
       "\thealth\\_serv &  0.07557524 & -0.39085238\\\\\n",
       "\tmed\\_home\\_val & -0.99432619 & -0.07491367\\\\\n",
       "\\end{tabular}\n"
      ],
      "text/markdown": [
       "\n",
       "A data.frame: 5 × 2\n",
       "\n",
       "| <!--/--> | PC1 &lt;dbl&gt; | PC2 &lt;dbl&gt; |\n",
       "|---|---|---|\n",
       "| tot_pop |  0.05765977 | -0.78220765 |\n",
       "| med_school_year | -0.03281610 | -0.35032828 |\n",
       "| tot_emp |  0.03467366 | -0.32717525 |\n",
       "| health_serv |  0.07557524 | -0.39085238 |\n",
       "| med_home_val | -0.99432619 | -0.07491367 |\n",
       "\n"
      ],
      "text/plain": [
       "                PC1         PC2        \n",
       "tot_pop          0.05765977 -0.78220765\n",
       "med_school_year -0.03281610 -0.35032828\n",
       "tot_emp          0.03467366 -0.32717525\n",
       "health_serv      0.07557524 -0.39085238\n",
       "med_home_val    -0.99432619 -0.07491367"
      ]
     },
     "metadata": {},
     "output_type": "display_data"
    }
   ],
   "source": [
    "# First 2 Principal Component\n",
    "prcompObj <- prcomp(newCensusData)\n",
    "data.frame(summary(prcompObj)$rotation[ , 1:2])"
   ]
  },
  {
   "cell_type": "markdown",
   "id": "a2835038",
   "metadata": {
    "heading_collapsed": true
   },
   "source": [
    "## PCA Interpretation"
   ]
  },
  {
   "cell_type": "code",
   "execution_count": 7,
   "id": "eb059253",
   "metadata": {
    "ExecuteTime": {
     "end_time": "2022-05-19T17:04:16.579061Z",
     "start_time": "2022-05-19T17:04:15.751Z"
    },
    "hidden": true
   },
   "outputs": [
    {
     "data": {
      "text/html": [
       "<table class=\"dataframe\">\n",
       "<caption>A data.frame: 3 × 5</caption>\n",
       "<thead>\n",
       "\t<tr><th></th><th scope=col>PC1</th><th scope=col>PC2</th><th scope=col>PC3</th><th scope=col>PC4</th><th scope=col>PC5</th></tr>\n",
       "\t<tr><th></th><th scope=col>&lt;dbl&gt;</th><th scope=col>&lt;dbl&gt;</th><th scope=col>&lt;dbl&gt;</th><th scope=col>&lt;dbl&gt;</th><th scope=col>&lt;dbl&gt;</th></tr>\n",
       "</thead>\n",
       "<tbody>\n",
       "\t<tr><th scope=row>Standard deviation</th><td>7.139283</td><td>2.578738</td><td>1.191636</td><td>0.4793601</td><td>0.1190091</td></tr>\n",
       "\t<tr><th scope=row>Proportion of Variance</th><td>0.859760</td><td>0.112170</td><td>0.023950</td><td>0.0038800</td><td>0.0002400</td></tr>\n",
       "\t<tr><th scope=row>Cumulative Proportion</th><td>0.859760</td><td>0.971930</td><td>0.995890</td><td>0.9997600</td><td>1.0000000</td></tr>\n",
       "</tbody>\n",
       "</table>\n"
      ],
      "text/latex": [
       "A data.frame: 3 × 5\n",
       "\\begin{tabular}{r|lllll}\n",
       "  & PC1 & PC2 & PC3 & PC4 & PC5\\\\\n",
       "  & <dbl> & <dbl> & <dbl> & <dbl> & <dbl>\\\\\n",
       "\\hline\n",
       "\tStandard deviation & 7.139283 & 2.578738 & 1.191636 & 0.4793601 & 0.1190091\\\\\n",
       "\tProportion of Variance & 0.859760 & 0.112170 & 0.023950 & 0.0038800 & 0.0002400\\\\\n",
       "\tCumulative Proportion & 0.859760 & 0.971930 & 0.995890 & 0.9997600 & 1.0000000\\\\\n",
       "\\end{tabular}\n"
      ],
      "text/markdown": [
       "\n",
       "A data.frame: 3 × 5\n",
       "\n",
       "| <!--/--> | PC1 &lt;dbl&gt; | PC2 &lt;dbl&gt; | PC3 &lt;dbl&gt; | PC4 &lt;dbl&gt; | PC5 &lt;dbl&gt; |\n",
       "|---|---|---|---|---|---|\n",
       "| Standard deviation | 7.139283 | 2.578738 | 1.191636 | 0.4793601 | 0.1190091 |\n",
       "| Proportion of Variance | 0.859760 | 0.112170 | 0.023950 | 0.0038800 | 0.0002400 |\n",
       "| Cumulative Proportion | 0.859760 | 0.971930 | 0.995890 | 0.9997600 | 1.0000000 |\n",
       "\n"
      ],
      "text/plain": [
       "                       PC1      PC2      PC3      PC4       PC5      \n",
       "Standard deviation     7.139283 2.578738 1.191636 0.4793601 0.1190091\n",
       "Proportion of Variance 0.859760 0.112170 0.023950 0.0038800 0.0002400\n",
       "Cumulative Proportion  0.859760 0.971930 0.995890 0.9997600 1.0000000"
      ]
     },
     "metadata": {},
     "output_type": "display_data"
    }
   ],
   "source": [
    "# Variance Explained by First 2 Principal Component\n",
    "data.frame(summary(prcompObj)$importance)"
   ]
  },
  {
   "cell_type": "markdown",
   "id": "ad77dc6e",
   "metadata": {
    "hidden": true
   },
   "source": [
    "Terlihat bahwa hanya dengan menggunakan dua principal component telah mampu untuk menjelaskan se\u0002banyak 97.193% struktur keragaman dari data awal, atau terdapat sebesar kehilangan informasi 2.807%\n",
    "apabila kita menggunakan kedua principal component tersebut untuk merepresentasikan data awal. Tingkat\n",
    "kehilangan informasi tersebut cukup kecil, mengingat kita hanya kehilangan ~ 3% untuk mereduksi ~60%\n",
    "ukuran data awal menjadi dua principal component."
   ]
  },
  {
   "cell_type": "code",
   "execution_count": 8,
   "id": "c1966cbf",
   "metadata": {
    "ExecuteTime": {
     "end_time": "2022-05-19T17:04:16.625540Z",
     "start_time": "2022-05-19T17:04:15.753Z"
    },
    "hidden": true
   },
   "outputs": [
    {
     "data": {
      "text/html": [
       "<table class=\"dataframe\">\n",
       "<caption>A data.frame: 5 × 2</caption>\n",
       "<thead>\n",
       "\t<tr><th></th><th scope=col>PC1</th><th scope=col>PC2</th></tr>\n",
       "\t<tr><th></th><th scope=col>&lt;dbl&gt;</th><th scope=col>&lt;dbl&gt;</th></tr>\n",
       "</thead>\n",
       "<tbody>\n",
       "\t<tr><th scope=row>X1</th><td> 0.1983408</td><td>0.97188266</td></tr>\n",
       "\t<tr><th scope=row>X2</th><td>-0.1762240</td><td>0.67952602</td></tr>\n",
       "\t<tr><th scope=row>X3</th><td> 0.2766482</td><td>0.94289056</td></tr>\n",
       "\t<tr><th scope=row>X4</th><td> 0.3844669</td><td>0.71819899</td></tr>\n",
       "\t<tr><th scope=row>X5</th><td>-0.9995498</td><td>0.02720128</td></tr>\n",
       "</tbody>\n",
       "</table>\n"
      ],
      "text/latex": [
       "A data.frame: 5 × 2\n",
       "\\begin{tabular}{r|ll}\n",
       "  & PC1 & PC2\\\\\n",
       "  & <dbl> & <dbl>\\\\\n",
       "\\hline\n",
       "\tX1 &  0.1983408 & 0.97188266\\\\\n",
       "\tX2 & -0.1762240 & 0.67952602\\\\\n",
       "\tX3 &  0.2766482 & 0.94289056\\\\\n",
       "\tX4 &  0.3844669 & 0.71819899\\\\\n",
       "\tX5 & -0.9995498 & 0.02720128\\\\\n",
       "\\end{tabular}\n"
      ],
      "text/markdown": [
       "\n",
       "A data.frame: 5 × 2\n",
       "\n",
       "| <!--/--> | PC1 &lt;dbl&gt; | PC2 &lt;dbl&gt; |\n",
       "|---|---|---|\n",
       "| X1 |  0.1983408 | 0.97188266 |\n",
       "| X2 | -0.1762240 | 0.67952602 |\n",
       "| X3 |  0.2766482 | 0.94289056 |\n",
       "| X4 |  0.3844669 | 0.71819899 |\n",
       "| X5 | -0.9995498 | 0.02720128 |\n",
       "\n"
      ],
      "text/plain": [
       "   PC1        PC2       \n",
       "X1  0.1983408 0.97188266\n",
       "X2 -0.1762240 0.67952602\n",
       "X3  0.2766482 0.94289056\n",
       "X4  0.3844669 0.71819899\n",
       "X5 -0.9995498 0.02720128"
      ]
     },
     "metadata": {},
     "output_type": "display_data"
    }
   ],
   "source": [
    "# Correlation of Each Determining Variable in Principal Component\n",
    "# utility function\n",
    "computeCor_ik <- function(eigenVector_i,lamda_i, SD){\n",
    "    return(eigenVector_i*sqrt(lamda_i)/SD)\n",
    "}\n",
    "computeCor <- function(S, name){\n",
    "    result <- c()\n",
    "    # number of variables\n",
    "    p <- ncol(S)\n",
    "    # eigen stuff\n",
    "    e <- eigen(S)\n",
    "    # standard deviation vector\n",
    "    SD <- sqrt(diag(S))\n",
    "    for(i in 1 : p){\n",
    "        result <- cbind(result,computeCor_ik(e$vectors[,i], e$values[i], SD))\n",
    "    }\n",
    "    result <- as.data.frame(result)\n",
    "    for(i in 1 : p){\n",
    "        rownames(result)[i] <- nama[i]\n",
    "        colnames(result)[i] <- paste(\"PC\", i, sep=\"\")\n",
    "    }\n",
    "    return(result)\n",
    "}\n",
    "nama <- c(\"X1\", \"X2\", \"X3\", \"X4\", \"X5\")\n",
    "computeCor(covMat, nama)[,1:2]"
   ]
  },
  {
   "cell_type": "markdown",
   "id": "55eae3ef",
   "metadata": {
    "hidden": true
   },
   "source": [
    "Berdasarkan tabel korelasi principal component terhadap variabel penentu nya, dengan menganggap vari\u0002abel lain konstan (ceteris paribus), maka terdapat hubungan linear yang sangat kuat diantara principal\n",
    "component 1 dengan variabel median nilai jual rumah, di sisi lain variabel yang berpengaruh secara\n",
    "linear kuat terhadap principal component 2 antara lain : total populasi, median waktu sekolah,\n",
    "total penduduk yang bekerja, total pekerja sektor kesehatan. \\\n",
    "Variabel-variabel yang memiliki hubungan linear kuat terhadap masing-masing principal component me\u0002nunjukkan dimensi, konsep, konstruk, ataupun fenomena yang mampu direpresentasikan atau diukur oleh\n",
    "setiap principal component. Dalam konteks ini, principal component 1 merupakan suatu indeks atau\n",
    "ukuran tunggal yang menggambarkan karakteristik / kondisi ekonomi masyarakat di negara tersebut, sedangkan principal component 2 mengukur aspek sosial-demografi masyarakat dalam suatu ukuran\n",
    "yang ringkas. Dimana nilai principal component 1 yang tinggi akan berasosiasi dengan nilai median\n",
    "nilai jual rumah yang rendah, dan nilai principal component 2 yang tinggi akan berasosiasi dengan\n",
    "nilai total populasi, median waktu sekolah, total penduduk yang bekerja, total pekerja sektor\n",
    "kesehatan yang tinggi. \\\n",
    "Hal ini tercermin pada variable plot dibawah dimana terdapat terdapat 4 variabel yang berdekatan dengan $PC_2$, yaitu $X_1, X_2, X_3, X_4$ dan satu variabel $X_5$ yang berdekatan dengan P C1, yang mengindikasikan\n",
    "adanya korelasi antar variabel dan principal component yang saling berdekatan. Kemudian variabel X5 yang\n",
    "memiliki proyeksi vektor terpanjang di ruang yang didefinisikan oleh $PC_1$ dan $PC_2$ menunjukkan bahwa\n",
    "sebagian besar keragaman data awal yang dijelaskan oleh model berasal dari keragaman variabel ini.\n"
   ]
  },
  {
   "cell_type": "code",
   "execution_count": 9,
   "id": "2693d5c4",
   "metadata": {
    "ExecuteTime": {
     "end_time": "2022-05-19T17:04:17.426243Z",
     "start_time": "2022-05-19T17:04:15.755Z"
    },
    "hidden": true
   },
   "outputs": [
    {
     "data": {
      "image/png": "[encoded data removed]",
      "text/plain": [
       "plot without title"
      ]
     },
     "metadata": {
      "image/png": {
       "height": 420,
       "width": 420
      }
     },
     "output_type": "display_data"
    }
   ],
   "source": [
    "# Variable Plot\n",
    "fviz_pca_var(prcompObj, col.var = \"contrib\",\n",
    "             # Color by contributions to the PC\n",
    "             gradient.cols = c(\"#00AFBB\", \"#E7B800\", \"#FC4E07\"),\n",
    "             repel = FALSE # Avoid text overlapping\n",
    "            )"
   ]
  },
  {
   "cell_type": "markdown",
   "id": "0a81789d",
   "metadata": {
    "heading_collapsed": true,
    "hidden": true
   },
   "source": [
    "### Perbedaan PCA Dengan dan Tanpa Transformasi $X_5^* = 10X_5$"
   ]
  },
  {
   "cell_type": "code",
   "execution_count": 10,
   "id": "ee9b3426",
   "metadata": {
    "ExecuteTime": {
     "end_time": "2022-05-19T17:05:45.139458Z",
     "start_time": "2022-05-19T17:05:45.109Z"
    },
    "hidden": true
   },
   "outputs": [
    {
     "data": {
      "text/html": [
       "<table class=\"dataframe\">\n",
       "<caption>A data.frame: 5 × 2</caption>\n",
       "<thead>\n",
       "\t<tr><th></th><th scope=col>PC1</th><th scope=col>PC2</th></tr>\n",
       "\t<tr><th></th><th scope=col>&lt;dbl&gt;</th><th scope=col>&lt;dbl&gt;</th></tr>\n",
       "</thead>\n",
       "<tbody>\n",
       "\t<tr><th scope=row>tot_pop</th><td>-0.78120807</td><td> 0.07087183</td></tr>\n",
       "\t<tr><th scope=row>med_school_year</th><td>-0.30564856</td><td> 0.76387277</td></tr>\n",
       "\t<tr><th scope=row>tot_emp</th><td>-0.33444840</td><td>-0.08290788</td></tr>\n",
       "\t<tr><th scope=row>health_serv</th><td>-0.42600795</td><td>-0.57945799</td></tr>\n",
       "\t<tr><th scope=row>med_home_val</th><td> 0.05435431</td><td> 0.26235528</td></tr>\n",
       "</tbody>\n",
       "</table>\n"
      ],
      "text/latex": [
       "A data.frame: 5 × 2\n",
       "\\begin{tabular}{r|ll}\n",
       "  & PC1 & PC2\\\\\n",
       "  & <dbl> & <dbl>\\\\\n",
       "\\hline\n",
       "\ttot\\_pop & -0.78120807 &  0.07087183\\\\\n",
       "\tmed\\_school\\_year & -0.30564856 &  0.76387277\\\\\n",
       "\ttot\\_emp & -0.33444840 & -0.08290788\\\\\n",
       "\thealth\\_serv & -0.42600795 & -0.57945799\\\\\n",
       "\tmed\\_home\\_val &  0.05435431 &  0.26235528\\\\\n",
       "\\end{tabular}\n"
      ],
      "text/markdown": [
       "\n",
       "A data.frame: 5 × 2\n",
       "\n",
       "| <!--/--> | PC1 &lt;dbl&gt; | PC2 &lt;dbl&gt; |\n",
       "|---|---|---|\n",
       "| tot_pop | -0.78120807 |  0.07087183 |\n",
       "| med_school_year | -0.30564856 |  0.76387277 |\n",
       "| tot_emp | -0.33444840 | -0.08290788 |\n",
       "| health_serv | -0.42600795 | -0.57945799 |\n",
       "| med_home_val |  0.05435431 |  0.26235528 |\n",
       "\n"
      ],
      "text/plain": [
       "                PC1         PC2        \n",
       "tot_pop         -0.78120807  0.07087183\n",
       "med_school_year -0.30564856  0.76387277\n",
       "tot_emp         -0.33444840 -0.08290788\n",
       "health_serv     -0.42600795 -0.57945799\n",
       "med_home_val     0.05435431  0.26235528"
      ]
     },
     "metadata": {},
     "output_type": "display_data"
    }
   ],
   "source": [
    "# Principal Component\n",
    "pcaCensusData <- prcomp(censusData)\n",
    "data.frame(pcaCensusData$rotation)[1:2]"
   ]
  },
  {
   "cell_type": "code",
   "execution_count": 11,
   "id": "404aaf44",
   "metadata": {
    "ExecuteTime": {
     "end_time": "2022-05-19T17:05:53.706141Z",
     "start_time": "2022-05-19T17:05:53.676Z"
    },
    "hidden": true
   },
   "outputs": [
    {
     "data": {
      "text/html": [
       "<table class=\"dataframe\">\n",
       "<caption>A data.frame: 5 × 2</caption>\n",
       "<thead>\n",
       "\t<tr><th></th><th scope=col>PC1</th><th scope=col>PC2</th></tr>\n",
       "\t<tr><th></th><th scope=col>&lt;dbl&gt;</th><th scope=col>&lt;dbl&gt;</th></tr>\n",
       "</thead>\n",
       "<tbody>\n",
       "\t<tr><th scope=row>X1</th><td> 0.9909495</td><td>-0.04562416</td></tr>\n",
       "\t<tr><th scope=row>X2</th><td> 0.6052660</td><td>-0.76768201</td></tr>\n",
       "\t<tr><th scope=row>X3</th><td> 0.9840179</td><td> 0.12379586</td></tr>\n",
       "\t<tr><th scope=row>X4</th><td> 0.7991766</td><td> 0.55167514</td></tr>\n",
       "\t<tr><th scope=row>X5</th><td>-0.2014908</td><td>-0.49356853</td></tr>\n",
       "</tbody>\n",
       "</table>\n"
      ],
      "text/latex": [
       "A data.frame: 5 × 2\n",
       "\\begin{tabular}{r|ll}\n",
       "  & PC1 & PC2\\\\\n",
       "  & <dbl> & <dbl>\\\\\n",
       "\\hline\n",
       "\tX1 &  0.9909495 & -0.04562416\\\\\n",
       "\tX2 &  0.6052660 & -0.76768201\\\\\n",
       "\tX3 &  0.9840179 &  0.12379586\\\\\n",
       "\tX4 &  0.7991766 &  0.55167514\\\\\n",
       "\tX5 & -0.2014908 & -0.49356853\\\\\n",
       "\\end{tabular}\n"
      ],
      "text/markdown": [
       "\n",
       "A data.frame: 5 × 2\n",
       "\n",
       "| <!--/--> | PC1 &lt;dbl&gt; | PC2 &lt;dbl&gt; |\n",
       "|---|---|---|\n",
       "| X1 |  0.9909495 | -0.04562416 |\n",
       "| X2 |  0.6052660 | -0.76768201 |\n",
       "| X3 |  0.9840179 |  0.12379586 |\n",
       "| X4 |  0.7991766 |  0.55167514 |\n",
       "| X5 | -0.2014908 | -0.49356853 |\n",
       "\n"
      ],
      "text/plain": [
       "   PC1        PC2        \n",
       "X1  0.9909495 -0.04562416\n",
       "X2  0.6052660 -0.76768201\n",
       "X3  0.9840179  0.12379586\n",
       "X4  0.7991766  0.55167514\n",
       "X5 -0.2014908 -0.49356853"
      ]
     },
     "metadata": {},
     "output_type": "display_data"
    }
   ],
   "source": [
    "# Correlation of Each Determining Variable in Principal Component\n",
    "computeCor(cov(censusData))[1:2]"
   ]
  },
  {
   "cell_type": "markdown",
   "id": "4b4b71dc",
   "metadata": {
    "hidden": true
   },
   "source": [
    "Karena penentuan _loadings_ dari setiap _principal component_ bergantung kepada eigenvalue dan eigenvector dari matriks kovarians, maka sebarang transformasi yang hanya dilakukan pada suatu variabel tertentu dapat menyebabkan perubahan yang tidak dapat diprediksi pada loadings dari setiap principal component yang dihasilkan. Sebagai contoh, tanpa melakukan transformasi $X_5^* = X_5$ , variabel $X_5$ yang semula memiliki kontribusi dan korelasi yang tinggi terhadap penentuan P C1, sekarang justru tidak memiliki kontribusi yang cukup besar, dan memiliki korelasi yang lemah.\\\n",
    "Hal ini dapat dilihat pada variable plot dibawah, terlihat bahwa tanpa adanya transformasi $X_5^* = X_5$ , sekarang total variasi yang dapat dijelaskan oleh principal component lebih banyak berasal dari variasi variabel selain $X_5$ yang menunjukkan dampak dari perubahan satuan (dari 10.000 an menjadi 1000 an). Kemudian karena tidak ada lagi dominasi variabel $X_5$ dalam total variasi yang dijelaskan oleh principal component, maka sekarang kita dapat melihat adanya suatu struktur baru, yang didefinisikan oleh pengelompokkan\n",
    "1. $X_1$ dan $X_3$\n",
    "2. $X_2$\n",
    "3. $X_4$\n",
    "4. $X_5$\n",
    "\n",
    "Dimana kelompok pertama menunjukkan suatu ukuran terkait dimensi demografi, terdiri atas variabel total penduduk dan total penduduk yang bekerja. Kelompok kedua menunjukkan ukuran pada dimensi pendidikan, terdiri atas variabel median waktu sekolah. Kelompok kedua menunjukkan ukuran pada dimensi kesehatan, terdiri atas variabel total pekerja sektor kesehatan. Terakhir, kelompok keempat menunjukkan ukuran pada dimensi ekonomi, terdiri atas variabel median nilai jual rumah."
   ]
  },
  {
   "cell_type": "code",
   "execution_count": 13,
   "id": "54ea8b7d",
   "metadata": {
    "ExecuteTime": {
     "end_time": "2022-05-19T17:10:53.956473Z",
     "start_time": "2022-05-19T17:10:53.714Z"
    },
    "hidden": true
   },
   "outputs": [
    {
     "data": {
      "image/png": "[encoded data removed]",
      "text/plain": [
       "plot without title"
      ]
     },
     "metadata": {
      "image/png": {
       "height": 420,
       "width": 420
      }
     },
     "output_type": "display_data"
    }
   ],
   "source": [
    "fviz_pca_var(pcaCensusData, col.var = \"contrib\", # Color by contributions to the PC\n",
    "             gradient.cols = c(\"#00AFBB\", \"#E7B800\", \"#FC4E07\"),\n",
    "             repel = FALSE # Avoid text overlapping\n",
    "            )"
   ]
  },
  {
   "cell_type": "markdown",
   "id": "93dd08ed",
   "metadata": {},
   "source": [
    "# 8.12"
   ]
  },
  {
   "cell_type": "code",
   "execution_count": 15,
   "id": "188b88d3",
   "metadata": {
    "ExecuteTime": {
     "end_time": "2022-05-19T17:13:11.509624Z",
     "start_time": "2022-05-19T17:13:11.467Z"
    }
   },
   "outputs": [
    {
     "data": {
      "text/html": [
       "<table class=\"dataframe\">\n",
       "<caption>A matrix: 6 × 7 of type dbl</caption>\n",
       "<thead>\n",
       "\t<tr><th scope=col>Wind</th><th scope=col>SolarRadiation</th><th scope=col>CO</th><th scope=col>NO</th><th scope=col>NO2</th><th scope=col>O3</th><th scope=col>HC</th></tr>\n",
       "</thead>\n",
       "<tbody>\n",
       "\t<tr><td> 8</td><td> 98</td><td>7</td><td>2</td><td>12</td><td> 8</td><td>2</td></tr>\n",
       "\t<tr><td> 7</td><td>107</td><td>4</td><td>3</td><td> 9</td><td> 5</td><td>3</td></tr>\n",
       "\t<tr><td> 7</td><td>103</td><td>4</td><td>3</td><td> 5</td><td> 6</td><td>3</td></tr>\n",
       "\t<tr><td>10</td><td> 88</td><td>5</td><td>2</td><td> 8</td><td>15</td><td>4</td></tr>\n",
       "\t<tr><td> 6</td><td> 91</td><td>4</td><td>2</td><td> 8</td><td>10</td><td>3</td></tr>\n",
       "\t<tr><td> 8</td><td> 90</td><td>5</td><td>2</td><td>12</td><td>12</td><td>4</td></tr>\n",
       "</tbody>\n",
       "</table>\n"
      ],
      "text/latex": [
       "A matrix: 6 × 7 of type dbl\n",
       "\\begin{tabular}{lllllll}\n",
       " Wind & SolarRadiation & CO & NO & NO2 & O3 & HC\\\\\n",
       "\\hline\n",
       "\t  8 &  98 & 7 & 2 & 12 &  8 & 2\\\\\n",
       "\t  7 & 107 & 4 & 3 &  9 &  5 & 3\\\\\n",
       "\t  7 & 103 & 4 & 3 &  5 &  6 & 3\\\\\n",
       "\t 10 &  88 & 5 & 2 &  8 & 15 & 4\\\\\n",
       "\t  6 &  91 & 4 & 2 &  8 & 10 & 3\\\\\n",
       "\t  8 &  90 & 5 & 2 & 12 & 12 & 4\\\\\n",
       "\\end{tabular}\n"
      ],
      "text/markdown": [
       "\n",
       "A matrix: 6 × 7 of type dbl\n",
       "\n",
       "| Wind | SolarRadiation | CO | NO | NO2 | O3 | HC |\n",
       "|---|---|---|---|---|---|---|\n",
       "|  8 |  98 | 7 | 2 | 12 |  8 | 2 |\n",
       "|  7 | 107 | 4 | 3 |  9 |  5 | 3 |\n",
       "|  7 | 103 | 4 | 3 |  5 |  6 | 3 |\n",
       "| 10 |  88 | 5 | 2 |  8 | 15 | 4 |\n",
       "|  6 |  91 | 4 | 2 |  8 | 10 | 3 |\n",
       "|  8 |  90 | 5 | 2 | 12 | 12 | 4 |\n",
       "\n"
      ],
      "text/plain": [
       "     Wind SolarRadiation CO NO NO2 O3 HC\n",
       "[1,]  8    98            7  2  12   8 2 \n",
       "[2,]  7   107            4  3   9   5 3 \n",
       "[3,]  7   103            4  3   5   6 3 \n",
       "[4,] 10    88            5  2   8  15 4 \n",
       "[5,]  6    91            4  2   8  10 3 \n",
       "[6,]  8    90            5  2  12  12 4 "
      ]
     },
     "metadata": {},
     "output_type": "display_data"
    }
   ],
   "source": [
    "Wind <- c(8, 7, 7, 10, 6, 8, 9, 5, 7, 8, 6, 6, 7, 10, 10, 9, 8, 8, 9, 9, 10, 9, 8, 5, 6, 8, 6, 8, 6, 10, 8, 7, 5, 6, 10, 8, 5, 5, 7, 7, 6, 8)\n",
    "SolarRadiation <- c(98, 107, 103, 88, 91, 90, 84, 72, 82, 64, 71, 91, 72, 70, 72, 77, 76, 71, 67, 69, 62, 88, 80, 30, 83, 84, 78, 79, 62, 37, 71, 52, \n",
    "             48, 75, 35, 85, 86, 86, 79, 79, 68, 40)\n",
    "CO <- c(7, 4, 4, 5, 4, 5, 7, 6, 5, 5, 5, 4, 7, 4, 4, 4, 4, 5, 4, 3, 5, 4, 4, 3, 5, 3, 4, 2, 4, 3, 4, 4, 6, 4, 4, 4, 3, 7, 7, 5, 6, 4)\n",
    "NO <- c(2, 3, 3, 2, 2, 2, 4, 4, 1, 2, 4, 2, 4, 2, 1, 1, 1, 3, 2, 3, 3, 2, 2, 3, 1, 2, 2, 1, 3, 1, 1, 1, 5, 1, 1, 1, 1, 2, 4, 2, 2, 3)\n",
    "NO2 <- c(12, 9, 5, 8, 8, 12, 12, 21, 11, 13, 10, 12, 18, 1, 8, 9, 7, 1, 13, 9, 14, 7, 13, 5, 10, 7, 1, 7, 9, 7, 10, 12, 8, 10, 6, 9, 6, 13, 9, 8, 1, 6)\n",
    "O3 <- c(8, 5, 6, 15, 10, 12, 15, 14, 11, 9, 3, 7, 10, 7, 10, 10, 7, 4, 2, 5, 4, 6, 11, 2, 23, 6, 11, 10, 8, 2, 7, 8, 4, 24, 9, 10, 12, 18, 25, 6, 14, 2)\n",
    "HC <- c(2, 3, 3, 4, 3, 4, 5, 4, 3, 4, 3, 3, 3, 3, 3, 3, 3, 4, 3, 3, 4, 3, 4, 3, 4, 3, 3, 3, 3, 3, 3, 4, 3, 3, 2, 2, 2, 2, 3, 2, 3, 2)\n",
    "\n",
    "airPollution <- cbind(Wind, SolarRadiation, CO, NO, NO2, O3, HC)\n",
    "head(airPollution)"
   ]
  },
  {
   "cell_type": "markdown",
   "id": "11efebee",
   "metadata": {},
   "source": [
    "## PCA without Standardization (Centered)"
   ]
  },
  {
   "cell_type": "code",
   "execution_count": 17,
   "id": "b028df1d",
   "metadata": {
    "ExecuteTime": {
     "end_time": "2022-05-19T17:14:30.646107Z",
     "start_time": "2022-05-19T17:14:30.440Z"
    }
   },
   "outputs": [
    {
     "data": {
      "image/png": "[encoded data removed]",
      "text/plain": [
       "plot without title"
      ]
     },
     "metadata": {
      "image/png": {
       "height": 420,
       "width": 420
      }
     },
     "output_type": "display_data"
    }
   ],
   "source": [
    "# Number of Principal Component\n",
    "pcaAirPollution <- prcomp(airPollution)\n",
    "# scree plot\n",
    "fviz_eig(pcaAirPollution)"
   ]
  },
  {
   "cell_type": "markdown",
   "id": "32cd88df",
   "metadata": {},
   "source": [
    "Berdasarkan scree plot diatas terlihat bahwa dua principal component pertama telah dapat menjelaskan\n",
    "sebagian besar keragaman total dari data awal, dan penambahan principal component berikutnya tidak\n",
    "memberikan tambahan yang cukup besar terhadap total varians data awal yang dapat dijelaskan. Dengan\n",
    "demikian dua ukuran tersebut dapat digunakan untuk menggambarkan kondisi polusi udara di suatu wilayah."
   ]
  },
  {
   "cell_type": "code",
   "execution_count": 18,
   "id": "a995be42",
   "metadata": {
    "ExecuteTime": {
     "end_time": "2022-05-19T17:14:52.910298Z",
     "start_time": "2022-05-19T17:14:52.867Z"
    }
   },
   "outputs": [
    {
     "data": {
      "text/html": [
       "<table class=\"dataframe\">\n",
       "<caption>A data.frame: 7 × 7</caption>\n",
       "<thead>\n",
       "\t<tr><th></th><th scope=col>PC1</th><th scope=col>PC2</th><th scope=col>PC3</th><th scope=col>PC4</th><th scope=col>PC5</th><th scope=col>PC6</th><th scope=col>PC7</th></tr>\n",
       "\t<tr><th></th><th scope=col>&lt;dbl&gt;</th><th scope=col>&lt;dbl&gt;</th><th scope=col>&lt;dbl&gt;</th><th scope=col>&lt;dbl&gt;</th><th scope=col>&lt;dbl&gt;</th><th scope=col>&lt;dbl&gt;</th><th scope=col>&lt;dbl&gt;</th></tr>\n",
       "</thead>\n",
       "<tbody>\n",
       "\t<tr><th scope=row>Wind</th><td>-0.010109448</td><td> 0.07485825</td><td>-0.002615667</td><td> 0.8852827137</td><td> 0.418344910</td><td>-0.003172232</td><td>-0.188518407</td></tr>\n",
       "\t<tr><th scope=row>SolarRadiation</th><td> 0.991845677</td><td> 0.12737895</td><td> 0.001775565</td><td>-0.0004430982</td><td> 0.001344093</td><td>-0.002962455</td><td>-0.001680822</td></tr>\n",
       "\t<tr><th scope=row>CO</th><td> 0.014155078</td><td>-0.10119462</td><td> 0.082493153</td><td>-0.2289481024</td><td> 0.682040031</td><td> 0.561699168</td><td> 0.386849285</td></tr>\n",
       "\t<tr><th scope=row>NO</th><td>-0.004724312</td><td> 0.01010609</td><td> 0.079348266</td><td>-0.3858913893</td><td> 0.564436313</td><td>-0.474647021</td><td>-0.548442422</td></tr>\n",
       "\t<tr><th scope=row>NO2</th><td> 0.033572128</td><td>-0.27365157</td><td> 0.951090606</td><td> 0.0719274030</td><td>-0.113300469</td><td> 0.002797444</td><td>-0.037363310</td></tr>\n",
       "\t<tr><th scope=row>O3</th><td> 0.121591486</td><td>-0.94457281</td><td>-0.284544106</td><td> 0.0676044752</td><td>-0.005671012</td><td>-0.047442068</td><td>-0.071965855</td></tr>\n",
       "\t<tr><th scope=row>HC</th><td> 0.002385354</td><td>-0.02693284</td><td> 0.036743010</td><td> 0.0721180025</td><td> 0.168373447</td><td>-0.675963635</td><td> 0.712349229</td></tr>\n",
       "</tbody>\n",
       "</table>\n"
      ],
      "text/latex": [
       "A data.frame: 7 × 7\n",
       "\\begin{tabular}{r|lllllll}\n",
       "  & PC1 & PC2 & PC3 & PC4 & PC5 & PC6 & PC7\\\\\n",
       "  & <dbl> & <dbl> & <dbl> & <dbl> & <dbl> & <dbl> & <dbl>\\\\\n",
       "\\hline\n",
       "\tWind & -0.010109448 &  0.07485825 & -0.002615667 &  0.8852827137 &  0.418344910 & -0.003172232 & -0.188518407\\\\\n",
       "\tSolarRadiation &  0.991845677 &  0.12737895 &  0.001775565 & -0.0004430982 &  0.001344093 & -0.002962455 & -0.001680822\\\\\n",
       "\tCO &  0.014155078 & -0.10119462 &  0.082493153 & -0.2289481024 &  0.682040031 &  0.561699168 &  0.386849285\\\\\n",
       "\tNO & -0.004724312 &  0.01010609 &  0.079348266 & -0.3858913893 &  0.564436313 & -0.474647021 & -0.548442422\\\\\n",
       "\tNO2 &  0.033572128 & -0.27365157 &  0.951090606 &  0.0719274030 & -0.113300469 &  0.002797444 & -0.037363310\\\\\n",
       "\tO3 &  0.121591486 & -0.94457281 & -0.284544106 &  0.0676044752 & -0.005671012 & -0.047442068 & -0.071965855\\\\\n",
       "\tHC &  0.002385354 & -0.02693284 &  0.036743010 &  0.0721180025 &  0.168373447 & -0.675963635 &  0.712349229\\\\\n",
       "\\end{tabular}\n"
      ],
      "text/markdown": [
       "\n",
       "A data.frame: 7 × 7\n",
       "\n",
       "| <!--/--> | PC1 &lt;dbl&gt; | PC2 &lt;dbl&gt; | PC3 &lt;dbl&gt; | PC4 &lt;dbl&gt; | PC5 &lt;dbl&gt; | PC6 &lt;dbl&gt; | PC7 &lt;dbl&gt; |\n",
       "|---|---|---|---|---|---|---|---|\n",
       "| Wind | -0.010109448 |  0.07485825 | -0.002615667 |  0.8852827137 |  0.418344910 | -0.003172232 | -0.188518407 |\n",
       "| SolarRadiation |  0.991845677 |  0.12737895 |  0.001775565 | -0.0004430982 |  0.001344093 | -0.002962455 | -0.001680822 |\n",
       "| CO |  0.014155078 | -0.10119462 |  0.082493153 | -0.2289481024 |  0.682040031 |  0.561699168 |  0.386849285 |\n",
       "| NO | -0.004724312 |  0.01010609 |  0.079348266 | -0.3858913893 |  0.564436313 | -0.474647021 | -0.548442422 |\n",
       "| NO2 |  0.033572128 | -0.27365157 |  0.951090606 |  0.0719274030 | -0.113300469 |  0.002797444 | -0.037363310 |\n",
       "| O3 |  0.121591486 | -0.94457281 | -0.284544106 |  0.0676044752 | -0.005671012 | -0.047442068 | -0.071965855 |\n",
       "| HC |  0.002385354 | -0.02693284 |  0.036743010 |  0.0721180025 |  0.168373447 | -0.675963635 |  0.712349229 |\n",
       "\n"
      ],
      "text/plain": [
       "               PC1          PC2         PC3          PC4           PC5         \n",
       "Wind           -0.010109448  0.07485825 -0.002615667  0.8852827137  0.418344910\n",
       "SolarRadiation  0.991845677  0.12737895  0.001775565 -0.0004430982  0.001344093\n",
       "CO              0.014155078 -0.10119462  0.082493153 -0.2289481024  0.682040031\n",
       "NO             -0.004724312  0.01010609  0.079348266 -0.3858913893  0.564436313\n",
       "NO2             0.033572128 -0.27365157  0.951090606  0.0719274030 -0.113300469\n",
       "O3              0.121591486 -0.94457281 -0.284544106  0.0676044752 -0.005671012\n",
       "HC              0.002385354 -0.02693284  0.036743010  0.0721180025  0.168373447\n",
       "               PC6          PC7         \n",
       "Wind           -0.003172232 -0.188518407\n",
       "SolarRadiation -0.002962455 -0.001680822\n",
       "CO              0.561699168  0.386849285\n",
       "NO             -0.474647021 -0.548442422\n",
       "NO2             0.002797444 -0.037363310\n",
       "O3             -0.047442068 -0.071965855\n",
       "HC             -0.675963635  0.712349229"
      ]
     },
     "metadata": {},
     "output_type": "display_data"
    }
   ],
   "source": [
    "# Principal Component\n",
    "data.frame(summary(pcaAirPollution)$rotation)"
   ]
  },
  {
   "cell_type": "code",
   "execution_count": 19,
   "id": "30f0c7ed",
   "metadata": {
    "ExecuteTime": {
     "end_time": "2022-05-19T17:15:03.504518Z",
     "start_time": "2022-05-19T17:15:03.470Z"
    }
   },
   "outputs": [
    {
     "data": {
      "text/html": [
       "<table class=\"dataframe\">\n",
       "<caption>A data.frame: 3 × 7</caption>\n",
       "<thead>\n",
       "\t<tr><th></th><th scope=col>PC1</th><th scope=col>PC2</th><th scope=col>PC3</th><th scope=col>PC4</th><th scope=col>PC5</th><th scope=col>PC6</th><th scope=col>PC7</th></tr>\n",
       "\t<tr><th></th><th scope=col>&lt;dbl&gt;</th><th scope=col>&lt;dbl&gt;</th><th scope=col>&lt;dbl&gt;</th><th scope=col>&lt;dbl&gt;</th><th scope=col>&lt;dbl&gt;</th><th scope=col>&lt;dbl&gt;</th><th scope=col>&lt;dbl&gt;</th></tr>\n",
       "</thead>\n",
       "<tbody>\n",
       "\t<tr><th scope=row>Standard deviation</th><td>17.46415</td><td>5.398167</td><td>4.029037</td><td>1.609142</td><td>1.23450</td><td>0.7296484</td><td>0.5134769</td></tr>\n",
       "\t<tr><th scope=row>Proportion of Variance</th><td> 0.85847</td><td>0.082020</td><td>0.045690</td><td>0.007290</td><td>0.00429</td><td>0.0015000</td><td>0.0007400</td></tr>\n",
       "\t<tr><th scope=row>Cumulative Proportion</th><td> 0.85847</td><td>0.940490</td><td>0.986180</td><td>0.993470</td><td>0.99776</td><td>0.9992600</td><td>1.0000000</td></tr>\n",
       "</tbody>\n",
       "</table>\n"
      ],
      "text/latex": [
       "A data.frame: 3 × 7\n",
       "\\begin{tabular}{r|lllllll}\n",
       "  & PC1 & PC2 & PC3 & PC4 & PC5 & PC6 & PC7\\\\\n",
       "  & <dbl> & <dbl> & <dbl> & <dbl> & <dbl> & <dbl> & <dbl>\\\\\n",
       "\\hline\n",
       "\tStandard deviation & 17.46415 & 5.398167 & 4.029037 & 1.609142 & 1.23450 & 0.7296484 & 0.5134769\\\\\n",
       "\tProportion of Variance &  0.85847 & 0.082020 & 0.045690 & 0.007290 & 0.00429 & 0.0015000 & 0.0007400\\\\\n",
       "\tCumulative Proportion &  0.85847 & 0.940490 & 0.986180 & 0.993470 & 0.99776 & 0.9992600 & 1.0000000\\\\\n",
       "\\end{tabular}\n"
      ],
      "text/markdown": [
       "\n",
       "A data.frame: 3 × 7\n",
       "\n",
       "| <!--/--> | PC1 &lt;dbl&gt; | PC2 &lt;dbl&gt; | PC3 &lt;dbl&gt; | PC4 &lt;dbl&gt; | PC5 &lt;dbl&gt; | PC6 &lt;dbl&gt; | PC7 &lt;dbl&gt; |\n",
       "|---|---|---|---|---|---|---|---|\n",
       "| Standard deviation | 17.46415 | 5.398167 | 4.029037 | 1.609142 | 1.23450 | 0.7296484 | 0.5134769 |\n",
       "| Proportion of Variance |  0.85847 | 0.082020 | 0.045690 | 0.007290 | 0.00429 | 0.0015000 | 0.0007400 |\n",
       "| Cumulative Proportion |  0.85847 | 0.940490 | 0.986180 | 0.993470 | 0.99776 | 0.9992600 | 1.0000000 |\n",
       "\n"
      ],
      "text/plain": [
       "                       PC1      PC2      PC3      PC4      PC5     PC6      \n",
       "Standard deviation     17.46415 5.398167 4.029037 1.609142 1.23450 0.7296484\n",
       "Proportion of Variance  0.85847 0.082020 0.045690 0.007290 0.00429 0.0015000\n",
       "Cumulative Proportion   0.85847 0.940490 0.986180 0.993470 0.99776 0.9992600\n",
       "                       PC7      \n",
       "Standard deviation     0.5134769\n",
       "Proportion of Variance 0.0007400\n",
       "Cumulative Proportion  1.0000000"
      ]
     },
     "metadata": {},
     "output_type": "display_data"
    }
   ],
   "source": [
    "# Variance Explained by Principal Component\n",
    "data.frame(summary(pcaAirPollution)$importance)"
   ]
  },
  {
   "cell_type": "markdown",
   "id": "6138d0dc",
   "metadata": {},
   "source": [
    "Berdasarkan tabel diatas terlihat bahwa dua principal component pertama telah dapat menjelaskan se\u0002banyak ~ 95.4 % total keragaman dari data awal. Dalam artian lain terdapat kehilangan informasi sebanyak\n",
    "4.6% apabila kita menggunakan principal component tersebut untuk merepresentasikan data awal. Tingkat\n",
    "kehilangan informasi ini cukup kecil, mengingat bahwa kita hanya kehilangan 4.6% dari informasi yang\n",
    "terkandung pada data awal untuk dapat mereduksi sebanyak 71.42% dari data tersebut menjadi dua ukuran\n",
    "ringkas yang terkandung pada dua principal component pertama."
   ]
  },
  {
   "cell_type": "code",
   "execution_count": 20,
   "id": "8d3ed400",
   "metadata": {
    "ExecuteTime": {
     "end_time": "2022-05-19T17:15:37.166306Z",
     "start_time": "2022-05-19T17:15:36.857Z"
    }
   },
   "outputs": [
    {
     "data": {
      "image/png": "[encoded data removed]",
      "text/plain": [
       "plot without title"
      ]
     },
     "metadata": {
      "image/png": {
       "height": 420,
       "width": 420
      }
     },
     "output_type": "display_data"
    }
   ],
   "source": [
    "# Variable Plot\n",
    "fviz_pca_var(pcaAirPollution, col.var = \"contrib\", # Color by contributions to the PC\n",
    "             gradient.cols = c(\"#00AFBB\", \"#E7B800\", \"#FC4E07\"),\n",
    "             repel = TRUE # Avoid text overlapping\n",
    "            )"
   ]
  },
  {
   "cell_type": "markdown",
   "id": "ddff403e",
   "metadata": {},
   "source": [
    "Berdasarkan variable plot diatas terlihat bahwa P C1 mengukur suatu ukuran yang berkaitan dengan radiasi\n",
    "surya, dan P C2 mengukur kondisi pencemaran udara. Dimana P C1 akan bernilai tinggi apabila terdapat\n",
    "radiasi surya yang tinggi, dan P C2 akan bernilai tinggi ketika terdapat hasil pengukuran yang rendah dari\n",
    "konsentrasi polutan CO, NO2, O3, HC di udara, disertai dengan laju angin yang tinggi."
   ]
  },
  {
   "cell_type": "code",
   "execution_count": null,
   "id": "19b51963",
   "metadata": {},
   "outputs": [],
   "source": [
    "## PCA With Standardization"
   ]
  },
  {
   "cell_type": "code",
   "execution_count": 21,
   "id": "de4a3d9f",
   "metadata": {
    "ExecuteTime": {
     "end_time": "2022-05-19T17:16:10.017718Z",
     "start_time": "2022-05-19T17:16:09.779Z"
    }
   },
   "outputs": [
    {
     "data": {
      "image/png": "[encoded data removed]",
      "text/plain": [
       "plot without title"
      ]
     },
     "metadata": {
      "image/png": {
       "height": 420,
       "width": 420
      }
     },
     "output_type": "display_data"
    }
   ],
   "source": [
    "#Number of Principal Component\n",
    "pcaAirPollutionStandardized <- prcomp(airPollution, scale=T)\n",
    "#scree plot\n",
    "fviz_eig(pcaAirPollutionStandardized)"
   ]
  },
  {
   "cell_type": "markdown",
   "id": "d49c4169",
   "metadata": {},
   "source": [
    "Berbeda dengan sebelumnya, setelah dilakukan standardisasi, ternyata dibutuhkan lebih banyak principal\n",
    "component untuk dapat merepresentasikan data awal dengan baik. Pada scree plot diatas, bahkan hingga\n",
    "principal component ke 5 pun masih akan memperoleh tambahan kemampuan dalam menjelaskan total\n",
    "variasi data awal yang cukup besar apabila dilakukan penambahan principal component"
   ]
  },
  {
   "cell_type": "code",
   "execution_count": 22,
   "id": "127d05e8",
   "metadata": {
    "ExecuteTime": {
     "end_time": "2022-05-19T17:16:26.476093Z",
     "start_time": "2022-05-19T17:16:26.440Z"
    }
   },
   "outputs": [
    {
     "data": {
      "text/html": [
       "<table class=\"dataframe\">\n",
       "<caption>A data.frame: 7 × 7</caption>\n",
       "<thead>\n",
       "\t<tr><th></th><th scope=col>PC1</th><th scope=col>PC2</th><th scope=col>PC3</th><th scope=col>PC4</th><th scope=col>PC5</th><th scope=col>PC6</th><th scope=col>PC7</th></tr>\n",
       "\t<tr><th></th><th scope=col>&lt;dbl&gt;</th><th scope=col>&lt;dbl&gt;</th><th scope=col>&lt;dbl&gt;</th><th scope=col>&lt;dbl&gt;</th><th scope=col>&lt;dbl&gt;</th><th scope=col>&lt;dbl&gt;</th><th scope=col>&lt;dbl&gt;</th></tr>\n",
       "</thead>\n",
       "<tbody>\n",
       "\t<tr><th scope=row>Wind</th><td>-0.2775459</td><td> 0.10606527</td><td>-0.68955619</td><td>-0.17994623</td><td> 0.20770069</td><td> 0.5343317</td><td> 0.274226354</td></tr>\n",
       "\t<tr><th scope=row>SolarRadiation</th><td> 0.2562669</td><td>-0.53671382</td><td>-0.09562713</td><td>-0.74032083</td><td> 0.20857998</td><td>-0.2133970</td><td>-0.001469969</td></tr>\n",
       "\t<tr><th scope=row>CO</th><td> 0.5573960</td><td> 0.09717127</td><td> 0.07815117</td><td>-0.04146104</td><td> 0.07252529</td><td> 0.6084338</td><td>-0.544600046</td></tr>\n",
       "\t<tr><th scope=row>NO</th><td> 0.3652508</td><td> 0.58442144</td><td> 0.24534992</td><td>-0.37318581</td><td>-0.12471655</td><td> 0.0277367</td><td> 0.556107576</td></tr>\n",
       "\t<tr><th scope=row>NO2</th><td> 0.4279437</td><td> 0.11091605</td><td>-0.23559799</td><td> 0.38450368</td><td> 0.69557481</td><td>-0.3144648</td><td> 0.136014471</td></tr>\n",
       "\t<tr><th scope=row>O3</th><td> 0.3898777</td><td>-0.53756664</td><td>-0.06378378</td><td> 0.36089416</td><td>-0.36193780</td><td> 0.2396786</td><td> 0.486065556</td></tr>\n",
       "\t<tr><th scope=row>HC</th><td> 0.2793863</td><td> 0.22003974</td><td>-0.62409033</td><td>-0.02168121</td><td>-0.52698898</td><td>-0.3763726</td><td>-0.253363847</td></tr>\n",
       "</tbody>\n",
       "</table>\n"
      ],
      "text/latex": [
       "A data.frame: 7 × 7\n",
       "\\begin{tabular}{r|lllllll}\n",
       "  & PC1 & PC2 & PC3 & PC4 & PC5 & PC6 & PC7\\\\\n",
       "  & <dbl> & <dbl> & <dbl> & <dbl> & <dbl> & <dbl> & <dbl>\\\\\n",
       "\\hline\n",
       "\tWind & -0.2775459 &  0.10606527 & -0.68955619 & -0.17994623 &  0.20770069 &  0.5343317 &  0.274226354\\\\\n",
       "\tSolarRadiation &  0.2562669 & -0.53671382 & -0.09562713 & -0.74032083 &  0.20857998 & -0.2133970 & -0.001469969\\\\\n",
       "\tCO &  0.5573960 &  0.09717127 &  0.07815117 & -0.04146104 &  0.07252529 &  0.6084338 & -0.544600046\\\\\n",
       "\tNO &  0.3652508 &  0.58442144 &  0.24534992 & -0.37318581 & -0.12471655 &  0.0277367 &  0.556107576\\\\\n",
       "\tNO2 &  0.4279437 &  0.11091605 & -0.23559799 &  0.38450368 &  0.69557481 & -0.3144648 &  0.136014471\\\\\n",
       "\tO3 &  0.3898777 & -0.53756664 & -0.06378378 &  0.36089416 & -0.36193780 &  0.2396786 &  0.486065556\\\\\n",
       "\tHC &  0.2793863 &  0.22003974 & -0.62409033 & -0.02168121 & -0.52698898 & -0.3763726 & -0.253363847\\\\\n",
       "\\end{tabular}\n"
      ],
      "text/markdown": [
       "\n",
       "A data.frame: 7 × 7\n",
       "\n",
       "| <!--/--> | PC1 &lt;dbl&gt; | PC2 &lt;dbl&gt; | PC3 &lt;dbl&gt; | PC4 &lt;dbl&gt; | PC5 &lt;dbl&gt; | PC6 &lt;dbl&gt; | PC7 &lt;dbl&gt; |\n",
       "|---|---|---|---|---|---|---|---|\n",
       "| Wind | -0.2775459 |  0.10606527 | -0.68955619 | -0.17994623 |  0.20770069 |  0.5343317 |  0.274226354 |\n",
       "| SolarRadiation |  0.2562669 | -0.53671382 | -0.09562713 | -0.74032083 |  0.20857998 | -0.2133970 | -0.001469969 |\n",
       "| CO |  0.5573960 |  0.09717127 |  0.07815117 | -0.04146104 |  0.07252529 |  0.6084338 | -0.544600046 |\n",
       "| NO |  0.3652508 |  0.58442144 |  0.24534992 | -0.37318581 | -0.12471655 |  0.0277367 |  0.556107576 |\n",
       "| NO2 |  0.4279437 |  0.11091605 | -0.23559799 |  0.38450368 |  0.69557481 | -0.3144648 |  0.136014471 |\n",
       "| O3 |  0.3898777 | -0.53756664 | -0.06378378 |  0.36089416 | -0.36193780 |  0.2396786 |  0.486065556 |\n",
       "| HC |  0.2793863 |  0.22003974 | -0.62409033 | -0.02168121 | -0.52698898 | -0.3763726 | -0.253363847 |\n",
       "\n"
      ],
      "text/plain": [
       "               PC1        PC2         PC3         PC4         PC5        \n",
       "Wind           -0.2775459  0.10606527 -0.68955619 -0.17994623  0.20770069\n",
       "SolarRadiation  0.2562669 -0.53671382 -0.09562713 -0.74032083  0.20857998\n",
       "CO              0.5573960  0.09717127  0.07815117 -0.04146104  0.07252529\n",
       "NO              0.3652508  0.58442144  0.24534992 -0.37318581 -0.12471655\n",
       "NO2             0.4279437  0.11091605 -0.23559799  0.38450368  0.69557481\n",
       "O3              0.3898777 -0.53756664 -0.06378378  0.36089416 -0.36193780\n",
       "HC              0.2793863  0.22003974 -0.62409033 -0.02168121 -0.52698898\n",
       "               PC6        PC7         \n",
       "Wind            0.5343317  0.274226354\n",
       "SolarRadiation -0.2133970 -0.001469969\n",
       "CO              0.6084338 -0.544600046\n",
       "NO              0.0277367  0.556107576\n",
       "NO2            -0.3144648  0.136014471\n",
       "O3              0.2396786  0.486065556\n",
       "HC             -0.3763726 -0.253363847"
      ]
     },
     "metadata": {},
     "output_type": "display_data"
    }
   ],
   "source": [
    "# Principal Component\n",
    "data.frame(summary(pcaAirPollutionStandardized)$rotation)"
   ]
  },
  {
   "cell_type": "code",
   "execution_count": 23,
   "id": "c9323577",
   "metadata": {
    "ExecuteTime": {
     "end_time": "2022-05-19T17:16:42.140718Z",
     "start_time": "2022-05-19T17:16:42.107Z"
    }
   },
   "outputs": [
    {
     "data": {
      "text/html": [
       "<table class=\"dataframe\">\n",
       "<caption>A data.frame: 3 × 7</caption>\n",
       "<thead>\n",
       "\t<tr><th></th><th scope=col>PC1</th><th scope=col>PC2</th><th scope=col>PC3</th><th scope=col>PC4</th><th scope=col>PC5</th><th scope=col>PC6</th><th scope=col>PC7</th></tr>\n",
       "\t<tr><th></th><th scope=col>&lt;dbl&gt;</th><th scope=col>&lt;dbl&gt;</th><th scope=col>&lt;dbl&gt;</th><th scope=col>&lt;dbl&gt;</th><th scope=col>&lt;dbl&gt;</th><th scope=col>&lt;dbl&gt;</th><th scope=col>&lt;dbl&gt;</th></tr>\n",
       "</thead>\n",
       "<tbody>\n",
       "\t<tr><th scope=row>Standard deviation</th><td>1.479664</td><td>1.166224</td><td>1.089921</td><td>0.8473931</td><td>0.842392</td><td>0.7998615</td><td>0.441715</td></tr>\n",
       "\t<tr><th scope=row>Proportion of Variance</th><td>0.312770</td><td>0.194300</td><td>0.169700</td><td>0.1025800</td><td>0.101370</td><td>0.0914000</td><td>0.027870</td></tr>\n",
       "\t<tr><th scope=row>Cumulative Proportion</th><td>0.312770</td><td>0.507070</td><td>0.676770</td><td>0.7793600</td><td>0.880730</td><td>0.9721300</td><td>1.000000</td></tr>\n",
       "</tbody>\n",
       "</table>\n"
      ],
      "text/latex": [
       "A data.frame: 3 × 7\n",
       "\\begin{tabular}{r|lllllll}\n",
       "  & PC1 & PC2 & PC3 & PC4 & PC5 & PC6 & PC7\\\\\n",
       "  & <dbl> & <dbl> & <dbl> & <dbl> & <dbl> & <dbl> & <dbl>\\\\\n",
       "\\hline\n",
       "\tStandard deviation & 1.479664 & 1.166224 & 1.089921 & 0.8473931 & 0.842392 & 0.7998615 & 0.441715\\\\\n",
       "\tProportion of Variance & 0.312770 & 0.194300 & 0.169700 & 0.1025800 & 0.101370 & 0.0914000 & 0.027870\\\\\n",
       "\tCumulative Proportion & 0.312770 & 0.507070 & 0.676770 & 0.7793600 & 0.880730 & 0.9721300 & 1.000000\\\\\n",
       "\\end{tabular}\n"
      ],
      "text/markdown": [
       "\n",
       "A data.frame: 3 × 7\n",
       "\n",
       "| <!--/--> | PC1 &lt;dbl&gt; | PC2 &lt;dbl&gt; | PC3 &lt;dbl&gt; | PC4 &lt;dbl&gt; | PC5 &lt;dbl&gt; | PC6 &lt;dbl&gt; | PC7 &lt;dbl&gt; |\n",
       "|---|---|---|---|---|---|---|---|\n",
       "| Standard deviation | 1.479664 | 1.166224 | 1.089921 | 0.8473931 | 0.842392 | 0.7998615 | 0.441715 |\n",
       "| Proportion of Variance | 0.312770 | 0.194300 | 0.169700 | 0.1025800 | 0.101370 | 0.0914000 | 0.027870 |\n",
       "| Cumulative Proportion | 0.312770 | 0.507070 | 0.676770 | 0.7793600 | 0.880730 | 0.9721300 | 1.000000 |\n",
       "\n"
      ],
      "text/plain": [
       "                       PC1      PC2      PC3      PC4       PC5      PC6      \n",
       "Standard deviation     1.479664 1.166224 1.089921 0.8473931 0.842392 0.7998615\n",
       "Proportion of Variance 0.312770 0.194300 0.169700 0.1025800 0.101370 0.0914000\n",
       "Cumulative Proportion  0.312770 0.507070 0.676770 0.7793600 0.880730 0.9721300\n",
       "                       PC7     \n",
       "Standard deviation     0.441715\n",
       "Proportion of Variance 0.027870\n",
       "Cumulative Proportion  1.000000"
      ]
     },
     "metadata": {},
     "output_type": "display_data"
    }
   ],
   "source": [
    "# Variance Explained by Principal Component\n",
    "data.frame(summary(pcaAirPollutionStandardized)$importance)"
   ]
  },
  {
   "cell_type": "markdown",
   "id": "a95982f3",
   "metadata": {
    "ExecuteTime": {
     "end_time": "2022-05-19T17:16:52.991106Z",
     "start_time": "2022-05-19T17:16:52.963Z"
    }
   },
   "source": [
    "Berdasarkan tabel diatas terlihat bahwa untuk dapat menjelaskan setidaknya 90% dari total keragaman\n",
    "data awal, diperlukan minimal lima principal component pertama, padahal sebelumnya, tanpa standardisasi,\n",
    "hanya dengan menggunakan dua principal component kita telah mampu menjelaskan ~95% keragaman dari\n",
    "data awal. \\\n",
    "Adanya penambahan tingkat kehilangan data ini dapat disebabkan oleh penghilangan satuan akibat proses\n",
    "standardisasi. Sebelumnya, total variasi yang dapat dijelaskan oleh principal component sebagian besar\n",
    "berasal dari variasi variabel radiasi surya yang memang memiliki satuan yang berbeda dengan variabel\n",
    "lainnya, yang mana menyebabkan nilai-nilai dari pengukuran variabel ini cenderung lebih besar, sehingga\n",
    "mampu menjadi indikator tunggal yang dapat menjelaskan keseluruhan keragaman dari sistem. Tetapi\n",
    "setelah dilakukan standardisasi, informasi yang terkandung pada variabel radiasi surya ternyata tidak\n",
    "cukup untuk menjelaskan kompleksitas dari sistem / data awal yang ada, yang mana dalam konteks ini\n",
    "adalah kondisi pencemaran udara di kota Los Angeles. Justru informasi tersebut tersebar di beberapa\n",
    "variabel lainnya yang apabila kita proyeksikan ke dalam suatu ruang R2 yang didefinisikan oleh dua principal\n",
    "component pertama akan membentuk pengelompokkan berdasarkan korelasi antar variabel sbb :\n",
    "1. Kelompok pertama adalah radiasi surya dan O3. Kelompok ini mengukur dimensi pencemaran udara\n",
    "akibat pemanasan global.\n",
    "2. Kelompok kedua adalah NO, HC, NO2, CO. Kelompok ini mengukur dimensi pencemaran udara\n",
    "akibat gas rumah kaca.\n",
    "3. Kelompok ketiga adalah Wind. Kelompok ini mengukur dimensi pencemaran udara akibat peruba\u0002han kondisi atmosfer.\n"
   ]
  },
  {
   "cell_type": "code",
   "execution_count": 25,
   "id": "33792363",
   "metadata": {
    "ExecuteTime": {
     "end_time": "2022-05-19T17:20:07.998723Z",
     "start_time": "2022-05-19T17:20:07.691Z"
    }
   },
   "outputs": [
    {
     "data": {
      "image/png": "[encoded data removed]",
      "text/plain": [
       "plot without title"
      ]
     },
     "metadata": {
      "image/png": {
       "height": 420,
       "width": 420
      }
     },
     "output_type": "display_data"
    }
   ],
   "source": [
    "# Variable Plot\n",
    "fviz_pca_var(pcaAirPollutionStandardized,\n",
    "             col.var = \"contrib\", # Color by contributions to the PC\n",
    "             gradient.cols = c(\"#00AFBB\", \"#E7B800\", \"#FC4E07\"),\n",
    "             repel = TRUE # Avoid text overlapping\n",
    ")"
   ]
  },
  {
   "cell_type": "markdown",
   "id": "fa2b314b",
   "metadata": {},
   "source": [
    "# 8.14"
   ]
  },
  {
   "cell_type": "code",
   "execution_count": 26,
   "id": "bad76d7e",
   "metadata": {
    "ExecuteTime": {
     "end_time": "2022-05-19T17:20:44.341444Z",
     "start_time": "2022-05-19T17:20:44.298Z"
    }
   },
   "outputs": [
    {
     "data": {
      "text/html": [
       "<table class=\"dataframe\">\n",
       "<caption>A matrix: 20 × 3 of type dbl</caption>\n",
       "<thead>\n",
       "\t<tr><th scope=col>sweet_rate</th><th scope=col>sodium</th><th scope=col>potassium</th></tr>\n",
       "</thead>\n",
       "<tbody>\n",
       "\t<tr><td>3.7</td><td>48.5</td><td> 9.3</td></tr>\n",
       "\t<tr><td>5.7</td><td>65.1</td><td> 8.0</td></tr>\n",
       "\t<tr><td>3.8</td><td>47.2</td><td>10.9</td></tr>\n",
       "\t<tr><td>3.2</td><td>53.2</td><td>12.0</td></tr>\n",
       "\t<tr><td>3.1</td><td>55.5</td><td> 9.7</td></tr>\n",
       "\t<tr><td>4.6</td><td>36.1</td><td> 7.9</td></tr>\n",
       "\t<tr><td>2.4</td><td>24.8</td><td>14.0</td></tr>\n",
       "\t<tr><td>7.2</td><td>33.1</td><td> 7.6</td></tr>\n",
       "\t<tr><td>6.7</td><td>47.4</td><td> 8.5</td></tr>\n",
       "\t<tr><td>5.4</td><td>54.1</td><td>11.3</td></tr>\n",
       "\t<tr><td>3.9</td><td>36.9</td><td>12.7</td></tr>\n",
       "\t<tr><td>4.5</td><td>58.8</td><td>12.3</td></tr>\n",
       "\t<tr><td>3.5</td><td>27.8</td><td> 9.8</td></tr>\n",
       "\t<tr><td>4.5</td><td>40.2</td><td> 8.4</td></tr>\n",
       "\t<tr><td>1.5</td><td>13.5</td><td>10.1</td></tr>\n",
       "\t<tr><td>8.5</td><td>56.4</td><td> 7.1</td></tr>\n",
       "\t<tr><td>4.5</td><td>71.6</td><td> 8.2</td></tr>\n",
       "\t<tr><td>6.5</td><td>52.8</td><td>10.9</td></tr>\n",
       "\t<tr><td>4.1</td><td>44.1</td><td>11.2</td></tr>\n",
       "\t<tr><td>5.5</td><td>40.9</td><td> 9.4</td></tr>\n",
       "</tbody>\n",
       "</table>\n"
      ],
      "text/latex": [
       "A matrix: 20 × 3 of type dbl\n",
       "\\begin{tabular}{lll}\n",
       " sweet\\_rate & sodium & potassium\\\\\n",
       "\\hline\n",
       "\t 3.7 & 48.5 &  9.3\\\\\n",
       "\t 5.7 & 65.1 &  8.0\\\\\n",
       "\t 3.8 & 47.2 & 10.9\\\\\n",
       "\t 3.2 & 53.2 & 12.0\\\\\n",
       "\t 3.1 & 55.5 &  9.7\\\\\n",
       "\t 4.6 & 36.1 &  7.9\\\\\n",
       "\t 2.4 & 24.8 & 14.0\\\\\n",
       "\t 7.2 & 33.1 &  7.6\\\\\n",
       "\t 6.7 & 47.4 &  8.5\\\\\n",
       "\t 5.4 & 54.1 & 11.3\\\\\n",
       "\t 3.9 & 36.9 & 12.7\\\\\n",
       "\t 4.5 & 58.8 & 12.3\\\\\n",
       "\t 3.5 & 27.8 &  9.8\\\\\n",
       "\t 4.5 & 40.2 &  8.4\\\\\n",
       "\t 1.5 & 13.5 & 10.1\\\\\n",
       "\t 8.5 & 56.4 &  7.1\\\\\n",
       "\t 4.5 & 71.6 &  8.2\\\\\n",
       "\t 6.5 & 52.8 & 10.9\\\\\n",
       "\t 4.1 & 44.1 & 11.2\\\\\n",
       "\t 5.5 & 40.9 &  9.4\\\\\n",
       "\\end{tabular}\n"
      ],
      "text/markdown": [
       "\n",
       "A matrix: 20 × 3 of type dbl\n",
       "\n",
       "| sweet_rate | sodium | potassium |\n",
       "|---|---|---|\n",
       "| 3.7 | 48.5 |  9.3 |\n",
       "| 5.7 | 65.1 |  8.0 |\n",
       "| 3.8 | 47.2 | 10.9 |\n",
       "| 3.2 | 53.2 | 12.0 |\n",
       "| 3.1 | 55.5 |  9.7 |\n",
       "| 4.6 | 36.1 |  7.9 |\n",
       "| 2.4 | 24.8 | 14.0 |\n",
       "| 7.2 | 33.1 |  7.6 |\n",
       "| 6.7 | 47.4 |  8.5 |\n",
       "| 5.4 | 54.1 | 11.3 |\n",
       "| 3.9 | 36.9 | 12.7 |\n",
       "| 4.5 | 58.8 | 12.3 |\n",
       "| 3.5 | 27.8 |  9.8 |\n",
       "| 4.5 | 40.2 |  8.4 |\n",
       "| 1.5 | 13.5 | 10.1 |\n",
       "| 8.5 | 56.4 |  7.1 |\n",
       "| 4.5 | 71.6 |  8.2 |\n",
       "| 6.5 | 52.8 | 10.9 |\n",
       "| 4.1 | 44.1 | 11.2 |\n",
       "| 5.5 | 40.9 |  9.4 |\n",
       "\n"
      ],
      "text/plain": [
       "      sweet_rate sodium potassium\n",
       " [1,] 3.7        48.5    9.3     \n",
       " [2,] 5.7        65.1    8.0     \n",
       " [3,] 3.8        47.2   10.9     \n",
       " [4,] 3.2        53.2   12.0     \n",
       " [5,] 3.1        55.5    9.7     \n",
       " [6,] 4.6        36.1    7.9     \n",
       " [7,] 2.4        24.8   14.0     \n",
       " [8,] 7.2        33.1    7.6     \n",
       " [9,] 6.7        47.4    8.5     \n",
       "[10,] 5.4        54.1   11.3     \n",
       "[11,] 3.9        36.9   12.7     \n",
       "[12,] 4.5        58.8   12.3     \n",
       "[13,] 3.5        27.8    9.8     \n",
       "[14,] 4.5        40.2    8.4     \n",
       "[15,] 1.5        13.5   10.1     \n",
       "[16,] 8.5        56.4    7.1     \n",
       "[17,] 4.5        71.6    8.2     \n",
       "[18,] 6.5        52.8   10.9     \n",
       "[19,] 4.1        44.1   11.2     \n",
       "[20,] 5.5        40.9    9.4     "
      ]
     },
     "metadata": {},
     "output_type": "display_data"
    }
   ],
   "source": [
    "sweet_rate <- c(3.7, 5.7, 3.8, 3.2, 3.1, 4.6, 2.4, 7.2, 6.7, 5.4, 3.9, 4.5, 3.5, 4.5, 1.5, 8.5, 4.5, 6.5, 4.1, 5.5)\n",
    "sodium <- c(48.5, 65.1, 47.2, 53.2, 55.5, 36.1, 24.8, 33.1, 47.4, 54.1, 36.9, 58.8, 27.8, 40.2, 13.5, 56.4, 71.6, 52.8, 44.1, 40.9)\n",
    "potassium <- c(9.3, 8, 10.9, 12, 9.7, 7.9, 14, 7.6, 8.5, 11.3, 12.7, 12.3, 9.8, 8.4, 10.1, 7.1, 8.2, 10.9, 11.2, 9.4)\n",
    "\n",
    "sweet_data <- cbind(sweet_rate, sodium, potassium)\n",
    "sweet_data"
   ]
  },
  {
   "cell_type": "markdown",
   "id": "2737750e",
   "metadata": {},
   "source": [
    "## Principal Component Analysis"
   ]
  },
  {
   "cell_type": "code",
   "execution_count": 28,
   "id": "5aaf5a4c",
   "metadata": {
    "ExecuteTime": {
     "end_time": "2022-05-19T17:21:17.018836Z",
     "start_time": "2022-05-19T17:21:16.988Z"
    }
   },
   "outputs": [
    {
     "data": {
      "text/html": [
       "<table class=\"dataframe\">\n",
       "<caption>A data.frame: 3 × 3</caption>\n",
       "<thead>\n",
       "\t<tr><th></th><th scope=col>PC1</th><th scope=col>PC2</th><th scope=col>PC3</th></tr>\n",
       "\t<tr><th></th><th scope=col>&lt;dbl&gt;</th><th scope=col>&lt;dbl&gt;</th><th scope=col>&lt;dbl&gt;</th></tr>\n",
       "</thead>\n",
       "<tbody>\n",
       "\t<tr><th scope=row>sweet_rate</th><td> 0.05084144</td><td>-0.57370364</td><td>-0.81748351</td></tr>\n",
       "\t<tr><th scope=row>sodium</th><td> 0.99828352</td><td> 0.05302042</td><td> 0.02487655</td></tr>\n",
       "\t<tr><th scope=row>potassium</th><td>-0.02907156</td><td> 0.81734508</td><td>-0.57541452</td></tr>\n",
       "</tbody>\n",
       "</table>\n"
      ],
      "text/latex": [
       "A data.frame: 3 × 3\n",
       "\\begin{tabular}{r|lll}\n",
       "  & PC1 & PC2 & PC3\\\\\n",
       "  & <dbl> & <dbl> & <dbl>\\\\\n",
       "\\hline\n",
       "\tsweet\\_rate &  0.05084144 & -0.57370364 & -0.81748351\\\\\n",
       "\tsodium &  0.99828352 &  0.05302042 &  0.02487655\\\\\n",
       "\tpotassium & -0.02907156 &  0.81734508 & -0.57541452\\\\\n",
       "\\end{tabular}\n"
      ],
      "text/markdown": [
       "\n",
       "A data.frame: 3 × 3\n",
       "\n",
       "| <!--/--> | PC1 &lt;dbl&gt; | PC2 &lt;dbl&gt; | PC3 &lt;dbl&gt; |\n",
       "|---|---|---|---|\n",
       "| sweet_rate |  0.05084144 | -0.57370364 | -0.81748351 |\n",
       "| sodium |  0.99828352 |  0.05302042 |  0.02487655 |\n",
       "| potassium | -0.02907156 |  0.81734508 | -0.57541452 |\n",
       "\n"
      ],
      "text/plain": [
       "           PC1         PC2         PC3        \n",
       "sweet_rate  0.05084144 -0.57370364 -0.81748351\n",
       "sodium      0.99828352  0.05302042  0.02487655\n",
       "potassium  -0.02907156  0.81734508 -0.57541452"
      ]
     },
     "metadata": {},
     "output_type": "display_data"
    }
   ],
   "source": [
    "# Principal Component\n",
    "pcasweet <- prcomp(sweet_data)\n",
    "data.frame(summary(pcasweet)$rotation)"
   ]
  },
  {
   "cell_type": "code",
   "execution_count": 29,
   "id": "35795114",
   "metadata": {
    "ExecuteTime": {
     "end_time": "2022-05-19T17:21:30.993536Z",
     "start_time": "2022-05-19T17:21:30.960Z"
    }
   },
   "outputs": [
    {
     "data": {
      "text/html": [
       "<table class=\"dataframe\">\n",
       "<caption>A data.frame: 3 × 3</caption>\n",
       "<thead>\n",
       "\t<tr><th></th><th scope=col>PC1</th><th scope=col>PC2</th><th scope=col>PC3</th></tr>\n",
       "\t<tr><th></th><th scope=col>&lt;dbl&gt;</th><th scope=col>&lt;dbl&gt;</th><th scope=col>&lt;dbl&gt;</th></tr>\n",
       "</thead>\n",
       "<tbody>\n",
       "\t<tr><th scope=row>Standard deviation</th><td>14.15848</td><td>2.128753</td><td>1.140786</td></tr>\n",
       "\t<tr><th scope=row>Proportion of Variance</th><td> 0.97173</td><td>0.021970</td><td>0.006310</td></tr>\n",
       "\t<tr><th scope=row>Cumulative Proportion</th><td> 0.97173</td><td>0.993690</td><td>1.000000</td></tr>\n",
       "</tbody>\n",
       "</table>\n"
      ],
      "text/latex": [
       "A data.frame: 3 × 3\n",
       "\\begin{tabular}{r|lll}\n",
       "  & PC1 & PC2 & PC3\\\\\n",
       "  & <dbl> & <dbl> & <dbl>\\\\\n",
       "\\hline\n",
       "\tStandard deviation & 14.15848 & 2.128753 & 1.140786\\\\\n",
       "\tProportion of Variance &  0.97173 & 0.021970 & 0.006310\\\\\n",
       "\tCumulative Proportion &  0.97173 & 0.993690 & 1.000000\\\\\n",
       "\\end{tabular}\n"
      ],
      "text/markdown": [
       "\n",
       "A data.frame: 3 × 3\n",
       "\n",
       "| <!--/--> | PC1 &lt;dbl&gt; | PC2 &lt;dbl&gt; | PC3 &lt;dbl&gt; |\n",
       "|---|---|---|---|\n",
       "| Standard deviation | 14.15848 | 2.128753 | 1.140786 |\n",
       "| Proportion of Variance |  0.97173 | 0.021970 | 0.006310 |\n",
       "| Cumulative Proportion |  0.97173 | 0.993690 | 1.000000 |\n",
       "\n"
      ],
      "text/plain": [
       "                       PC1      PC2      PC3     \n",
       "Standard deviation     14.15848 2.128753 1.140786\n",
       "Proportion of Variance  0.97173 0.021970 0.006310\n",
       "Cumulative Proportion   0.97173 0.993690 1.000000"
      ]
     },
     "metadata": {},
     "output_type": "display_data"
    }
   ],
   "source": [
    "# Variance Explained by Principal Component\n",
    "data.frame(summary(pcasweet)$importance)"
   ]
  },
  {
   "cell_type": "code",
   "execution_count": 31,
   "id": "a7441883",
   "metadata": {
    "ExecuteTime": {
     "end_time": "2022-05-19T17:21:50.062922Z",
     "start_time": "2022-05-19T17:21:50.020Z"
    }
   },
   "outputs": [
    {
     "data": {
      "text/html": [
       "<table class=\"dataframe\">\n",
       "<caption>A data.frame: 6 × 3</caption>\n",
       "<thead>\n",
       "\t<tr><th></th><th scope=col>PC1</th><th scope=col>PC2</th><th scope=col>PC3</th></tr>\n",
       "\t<tr><th></th><th scope=col>&lt;dbl&gt;</th><th scope=col>&lt;dbl&gt;</th><th scope=col>&lt;dbl&gt;</th></tr>\n",
       "</thead>\n",
       "<tbody>\n",
       "\t<tr><th scope=row>1</th><td> 3.066221</td><td> 0.1601103</td><td>1.2282025</td></tr>\n",
       "\t<tr><th scope=row>2</th><td>19.777203</td><td>-1.1697066</td><td>0.7542250</td></tr>\n",
       "\t<tr><th scope=row>3</th><td> 1.727022</td><td> 1.3415655</td><td>0.1934514</td></tr>\n",
       "\t<tr><th scope=row>4</th><td> 7.654239</td><td> 2.9029898</td><td>0.2002448</td></tr>\n",
       "\t<tr><th scope=row>5</th><td>10.012072</td><td> 1.2024134</td><td>1.6626626</td></tr>\n",
       "\t<tr><th scope=row>6</th><td>-9.226038</td><td>-2.1579594</td><td>0.9895784</td></tr>\n",
       "</tbody>\n",
       "</table>\n"
      ],
      "text/latex": [
       "A data.frame: 6 × 3\n",
       "\\begin{tabular}{r|lll}\n",
       "  & PC1 & PC2 & PC3\\\\\n",
       "  & <dbl> & <dbl> & <dbl>\\\\\n",
       "\\hline\n",
       "\t1 &  3.066221 &  0.1601103 & 1.2282025\\\\\n",
       "\t2 & 19.777203 & -1.1697066 & 0.7542250\\\\\n",
       "\t3 &  1.727022 &  1.3415655 & 0.1934514\\\\\n",
       "\t4 &  7.654239 &  2.9029898 & 0.2002448\\\\\n",
       "\t5 & 10.012072 &  1.2024134 & 1.6626626\\\\\n",
       "\t6 & -9.226038 & -2.1579594 & 0.9895784\\\\\n",
       "\\end{tabular}\n"
      ],
      "text/markdown": [
       "\n",
       "A data.frame: 6 × 3\n",
       "\n",
       "| <!--/--> | PC1 &lt;dbl&gt; | PC2 &lt;dbl&gt; | PC3 &lt;dbl&gt; |\n",
       "|---|---|---|---|\n",
       "| 1 |  3.066221 |  0.1601103 | 1.2282025 |\n",
       "| 2 | 19.777203 | -1.1697066 | 0.7542250 |\n",
       "| 3 |  1.727022 |  1.3415655 | 0.1934514 |\n",
       "| 4 |  7.654239 |  2.9029898 | 0.2002448 |\n",
       "| 5 | 10.012072 |  1.2024134 | 1.6626626 |\n",
       "| 6 | -9.226038 | -2.1579594 | 0.9895784 |\n",
       "\n"
      ],
      "text/plain": [
       "  PC1       PC2        PC3      \n",
       "1  3.066221  0.1601103 1.2282025\n",
       "2 19.777203 -1.1697066 0.7542250\n",
       "3  1.727022  1.3415655 0.1934514\n",
       "4  7.654239  2.9029898 0.2002448\n",
       "5 10.012072  1.2024134 1.6626626\n",
       "6 -9.226038 -2.1579594 0.9895784"
      ]
     },
     "metadata": {},
     "output_type": "display_data"
    }
   ],
   "source": [
    "# Predict Principal Component\n",
    "pca_prediction <- predict(pcasweet, sweet_data)\n",
    "pca_prediction <- as.data.frame(pca_prediction)\n",
    "head(pca_prediction)"
   ]
  },
  {
   "cell_type": "markdown",
   "id": "ea0781ec",
   "metadata": {},
   "source": [
    "# QQ Plot"
   ]
  },
  {
   "cell_type": "markdown",
   "id": "bc861046",
   "metadata": {},
   "source": [
    "$PC_1$"
   ]
  },
  {
   "cell_type": "code",
   "execution_count": 33,
   "id": "2a76e57a",
   "metadata": {
    "ExecuteTime": {
     "end_time": "2022-05-19T17:22:42.407114Z",
     "start_time": "2022-05-19T17:22:42.342Z"
    }
   },
   "outputs": [
    {
     "data": {
      "image/png": "[encoded data removed]",
      "text/plain": [
       "Plot with title \"Normal Q-Q Plot\""
      ]
     },
     "metadata": {
      "image/png": {
       "height": 420,
       "width": 420
      }
     },
     "output_type": "display_data"
    }
   ],
   "source": [
    "qqnorm(pca_prediction$PC1, pch = 1, frame = FALSE)\n",
    "qqline(pca_prediction$PC1, col = \"steelblue\", lwd = 2)"
   ]
  },
  {
   "cell_type": "markdown",
   "id": "dca63a5a",
   "metadata": {},
   "source": [
    "Berdasarkan QQ-plot diatas tidak ada indikasi pelanggaran asumsi normalitas pada $PC_1$"
   ]
  },
  {
   "cell_type": "markdown",
   "id": "2c612872",
   "metadata": {},
   "source": [
    "$PC_2$"
   ]
  },
  {
   "cell_type": "code",
   "execution_count": 34,
   "id": "81d9ddbc",
   "metadata": {
    "ExecuteTime": {
     "end_time": "2022-05-19T17:23:13.014375Z",
     "start_time": "2022-05-19T17:23:12.939Z"
    }
   },
   "outputs": [
    {
     "data": {
      "image/png": "[encoded data removed]",
      "text/plain": [
       "Plot with title \"Normal Q-Q Plot\""
      ]
     },
     "metadata": {
      "image/png": {
       "height": 420,
       "width": 420
      }
     },
     "output_type": "display_data"
    }
   ],
   "source": [
    "qqnorm(pca_prediction$PC2, pch = 1, frame = FALSE)\n",
    "qqline(pca_prediction$PC2, col = \"steelblue\", lwd = 2)"
   ]
  },
  {
   "cell_type": "markdown",
   "id": "c1f6907f",
   "metadata": {},
   "source": [
    "Berdasarkan QQ-plot diatas tidak ada indikasi pelanggaran asumsi normalitas pada $PC_2$"
   ]
  },
  {
   "cell_type": "markdown",
   "id": "4ef50364",
   "metadata": {},
   "source": [
    "$PC_3$"
   ]
  },
  {
   "cell_type": "code",
   "execution_count": 35,
   "id": "97f5d545",
   "metadata": {
    "ExecuteTime": {
     "end_time": "2022-05-19T17:23:43.604633Z",
     "start_time": "2022-05-19T17:23:43.532Z"
    },
    "scrolled": true
   },
   "outputs": [
    {
     "data": {
      "image/png": "[encoded data removed]",
      "text/plain": [
       "Plot with title \"Normal Q-Q Plot\""
      ]
     },
     "metadata": {
      "image/png": {
       "height": 420,
       "width": 420
      }
     },
     "output_type": "display_data"
    }
   ],
   "source": [
    "qqnorm(pca_prediction$PC3, pch = 1, frame = FALSE)\n",
    "qqline(pca_prediction$PC3, col = \"steelblue\", lwd = 2)"
   ]
  },
  {
   "cell_type": "markdown",
   "id": "727ca074",
   "metadata": {},
   "source": [
    "Berdasarkan QQ-plot diatas terlihat adanya indikasi pelanggaran asumsi normalitas pada $PC_3$ yang disebabkan oleh distribusi empiris dari principal component tersebut yang cenderung menceng kanan (lebih\n",
    "banyak nilai yang ekstrim kecil daripada yang seharusnya). Eksistensi observasi outlier juga ditemukan\n",
    "pada QQ plot tersebut."
   ]
  }
 ],
 "metadata": {
  "kernelspec": {
   "display_name": "R",
   "language": "R",
   "name": "ir"
  },
  "language_info": {
   "codemirror_mode": "r",
   "file_extension": ".r",
   "mimetype": "text/x-r-source",
   "name": "R",
   "pygments_lexer": "r",
   "version": "4.0.5"
  },
  "toc": {
   "base_numbering": 1,
   "nav_menu": {},
   "number_sections": true,
   "sideBar": true,
   "skip_h1_title": false,
   "title_cell": "Table of Contents",
   "title_sidebar": "Contents",
   "toc_cell": false,
   "toc_position": {},
   "toc_section_display": true,
   "toc_window_display": false
  }
 },
 "nbformat": 4,
 "nbformat_minor": 5
}
