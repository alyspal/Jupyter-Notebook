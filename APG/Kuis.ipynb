{
 "cells": [
  {
   "cell_type": "code",
   "execution_count": 5,
   "id": "3877f010",
   "metadata": {
    "ExecuteTime": {
     "end_time": "2022-03-30T02:42:57.807219Z",
     "start_time": "2022-03-30T02:42:57.733Z"
    }
   },
   "outputs": [],
   "source": [
    "library(readxl)\n",
    "library(car)\n",
    "library(MVN)"
   ]
  },
  {
   "cell_type": "markdown",
   "id": "3f75da50",
   "metadata": {},
   "source": [
    "# 1"
   ]
  },
  {
   "cell_type": "markdown",
   "id": "699eac2a",
   "metadata": {},
   "source": [
    "## a"
   ]
  },
  {
   "cell_type": "raw",
   "id": "1d07d249",
   "metadata": {},
   "source": [
    "H0: mu1 - mu2 = 0\n",
    "H1: mu1 - mu2 != 0\n",
    "\n",
    "Ket:\n",
    "H0 -> tidak ada perbedaan antara jumlah kata dan kata kerja antara jenis essay informal dan formal;\n",
    "H1 -> ada perbedaan."
   ]
  },
  {
   "cell_type": "code",
   "execution_count": 6,
   "id": "22af011d",
   "metadata": {
    "ExecuteTime": {
     "end_time": "2022-03-30T02:42:59.020526Z",
     "start_time": "2022-03-30T02:42:58.739Z"
    },
    "scrolled": true
   },
   "outputs": [
    {
     "name": "stderr",
     "output_type": "stream",
     "text": [
      "New names:\n",
      "* Words -> Words...1\n",
      "* Verbs -> Verbs...2\n",
      "* Words -> Words...3\n",
      "* Verbs -> Verbs...4\n",
      "\n"
     ]
    },
    {
     "data": {
      "text/html": [
       "<table class=\"dataframe\">\n",
       "<caption>A tibble: 15 × 4</caption>\n",
       "<thead>\n",
       "\t<tr><th scope=col>Words...1</th><th scope=col>Verbs...2</th><th scope=col>Words...3</th><th scope=col>Verbs...4</th></tr>\n",
       "\t<tr><th scope=col>&lt;dbl&gt;</th><th scope=col>&lt;dbl&gt;</th><th scope=col>&lt;dbl&gt;</th><th scope=col>&lt;dbl&gt;</th></tr>\n",
       "</thead>\n",
       "<tbody>\n",
       "\t<tr><td>148</td><td>20</td><td>137</td><td>15</td></tr>\n",
       "\t<tr><td>159</td><td>24</td><td>164</td><td>25</td></tr>\n",
       "\t<tr><td>144</td><td>19</td><td>224</td><td>27</td></tr>\n",
       "\t<tr><td>103</td><td>18</td><td>208</td><td>33</td></tr>\n",
       "\t<tr><td>121</td><td>17</td><td>178</td><td>24</td></tr>\n",
       "\t<tr><td> 89</td><td>11</td><td>128</td><td>20</td></tr>\n",
       "\t<tr><td>119</td><td>17</td><td>154</td><td>18</td></tr>\n",
       "\t<tr><td>123</td><td>13</td><td>158</td><td>16</td></tr>\n",
       "\t<tr><td> 76</td><td>16</td><td>102</td><td>21</td></tr>\n",
       "\t<tr><td>217</td><td>29</td><td>214</td><td>25</td></tr>\n",
       "\t<tr><td>148</td><td>22</td><td>209</td><td>24</td></tr>\n",
       "\t<tr><td>151</td><td>21</td><td>151</td><td>16</td></tr>\n",
       "\t<tr><td> 83</td><td> 7</td><td>123</td><td>13</td></tr>\n",
       "\t<tr><td>135</td><td>20</td><td>161</td><td>22</td></tr>\n",
       "\t<tr><td>178</td><td>15</td><td>175</td><td>23</td></tr>\n",
       "</tbody>\n",
       "</table>\n"
      ],
      "text/latex": [
       "A tibble: 15 × 4\n",
       "\\begin{tabular}{llll}\n",
       " Words...1 & Verbs...2 & Words...3 & Verbs...4\\\\\n",
       " <dbl> & <dbl> & <dbl> & <dbl>\\\\\n",
       "\\hline\n",
       "\t 148 & 20 & 137 & 15\\\\\n",
       "\t 159 & 24 & 164 & 25\\\\\n",
       "\t 144 & 19 & 224 & 27\\\\\n",
       "\t 103 & 18 & 208 & 33\\\\\n",
       "\t 121 & 17 & 178 & 24\\\\\n",
       "\t  89 & 11 & 128 & 20\\\\\n",
       "\t 119 & 17 & 154 & 18\\\\\n",
       "\t 123 & 13 & 158 & 16\\\\\n",
       "\t  76 & 16 & 102 & 21\\\\\n",
       "\t 217 & 29 & 214 & 25\\\\\n",
       "\t 148 & 22 & 209 & 24\\\\\n",
       "\t 151 & 21 & 151 & 16\\\\\n",
       "\t  83 &  7 & 123 & 13\\\\\n",
       "\t 135 & 20 & 161 & 22\\\\\n",
       "\t 178 & 15 & 175 & 23\\\\\n",
       "\\end{tabular}\n"
      ],
      "text/markdown": [
       "\n",
       "A tibble: 15 × 4\n",
       "\n",
       "| Words...1 &lt;dbl&gt; | Verbs...2 &lt;dbl&gt; | Words...3 &lt;dbl&gt; | Verbs...4 &lt;dbl&gt; |\n",
       "|---|---|---|---|\n",
       "| 148 | 20 | 137 | 15 |\n",
       "| 159 | 24 | 164 | 25 |\n",
       "| 144 | 19 | 224 | 27 |\n",
       "| 103 | 18 | 208 | 33 |\n",
       "| 121 | 17 | 178 | 24 |\n",
       "|  89 | 11 | 128 | 20 |\n",
       "| 119 | 17 | 154 | 18 |\n",
       "| 123 | 13 | 158 | 16 |\n",
       "|  76 | 16 | 102 | 21 |\n",
       "| 217 | 29 | 214 | 25 |\n",
       "| 148 | 22 | 209 | 24 |\n",
       "| 151 | 21 | 151 | 16 |\n",
       "|  83 |  7 | 123 | 13 |\n",
       "| 135 | 20 | 161 | 22 |\n",
       "| 178 | 15 | 175 | 23 |\n",
       "\n"
      ],
      "text/plain": [
       "   Words...1 Verbs...2 Words...3 Verbs...4\n",
       "1  148       20        137       15       \n",
       "2  159       24        164       25       \n",
       "3  144       19        224       27       \n",
       "4  103       18        208       33       \n",
       "5  121       17        178       24       \n",
       "6   89       11        128       20       \n",
       "7  119       17        154       18       \n",
       "8  123       13        158       16       \n",
       "9   76       16        102       21       \n",
       "10 217       29        214       25       \n",
       "11 148       22        209       24       \n",
       "12 151       21        151       16       \n",
       "13  83        7        123       13       \n",
       "14 135       20        161       22       \n",
       "15 178       15        175       23       "
      ]
     },
     "metadata": {},
     "output_type": "display_data"
    }
   ],
   "source": [
    "essay<-read_excel(\"Kuis2_data.xlsx\")\n",
    "essay"
   ]
  },
  {
   "cell_type": "code",
   "execution_count": 7,
   "id": "19dfa7fc",
   "metadata": {
    "ExecuteTime": {
     "end_time": "2022-03-30T02:43:05.308048Z",
     "start_time": "2022-03-30T02:43:05.147Z"
    },
    "scrolled": true
   },
   "outputs": [
    {
     "data": {
      "text/html": [
       "<table class=\"dataframe\">\n",
       "<caption>A data.frame: 15 × 2</caption>\n",
       "<thead>\n",
       "\t<tr><th scope=col>Words...1</th><th scope=col>Verbs...2</th></tr>\n",
       "\t<tr><th scope=col>&lt;dbl&gt;</th><th scope=col>&lt;dbl&gt;</th></tr>\n",
       "</thead>\n",
       "<tbody>\n",
       "\t<tr><td>  11</td><td>  5</td></tr>\n",
       "\t<tr><td>  -5</td><td> -1</td></tr>\n",
       "\t<tr><td> -80</td><td> -8</td></tr>\n",
       "\t<tr><td>-105</td><td>-15</td></tr>\n",
       "\t<tr><td> -57</td><td> -7</td></tr>\n",
       "\t<tr><td> -39</td><td> -9</td></tr>\n",
       "\t<tr><td> -35</td><td> -1</td></tr>\n",
       "\t<tr><td> -35</td><td> -3</td></tr>\n",
       "\t<tr><td> -26</td><td> -5</td></tr>\n",
       "\t<tr><td>   3</td><td>  4</td></tr>\n",
       "\t<tr><td> -61</td><td> -2</td></tr>\n",
       "\t<tr><td>   0</td><td>  5</td></tr>\n",
       "\t<tr><td> -40</td><td> -6</td></tr>\n",
       "\t<tr><td> -26</td><td> -2</td></tr>\n",
       "\t<tr><td>   3</td><td> -8</td></tr>\n",
       "</tbody>\n",
       "</table>\n"
      ],
      "text/latex": [
       "A data.frame: 15 × 2\n",
       "\\begin{tabular}{ll}\n",
       " Words...1 & Verbs...2\\\\\n",
       " <dbl> & <dbl>\\\\\n",
       "\\hline\n",
       "\t   11 &   5\\\\\n",
       "\t   -5 &  -1\\\\\n",
       "\t  -80 &  -8\\\\\n",
       "\t -105 & -15\\\\\n",
       "\t  -57 &  -7\\\\\n",
       "\t  -39 &  -9\\\\\n",
       "\t  -35 &  -1\\\\\n",
       "\t  -35 &  -3\\\\\n",
       "\t  -26 &  -5\\\\\n",
       "\t    3 &   4\\\\\n",
       "\t  -61 &  -2\\\\\n",
       "\t    0 &   5\\\\\n",
       "\t  -40 &  -6\\\\\n",
       "\t  -26 &  -2\\\\\n",
       "\t    3 &  -8\\\\\n",
       "\\end{tabular}\n"
      ],
      "text/markdown": [
       "\n",
       "A data.frame: 15 × 2\n",
       "\n",
       "| Words...1 &lt;dbl&gt; | Verbs...2 &lt;dbl&gt; |\n",
       "|---|---|\n",
       "|   11 |   5 |\n",
       "|   -5 |  -1 |\n",
       "|  -80 |  -8 |\n",
       "| -105 | -15 |\n",
       "|  -57 |  -7 |\n",
       "|  -39 |  -9 |\n",
       "|  -35 |  -1 |\n",
       "|  -35 |  -3 |\n",
       "|  -26 |  -5 |\n",
       "|    3 |   4 |\n",
       "|  -61 |  -2 |\n",
       "|    0 |   5 |\n",
       "|  -40 |  -6 |\n",
       "|  -26 |  -2 |\n",
       "|    3 |  -8 |\n",
       "\n"
      ],
      "text/plain": [
       "   Words...1 Verbs...2\n",
       "1    11        5      \n",
       "2    -5       -1      \n",
       "3   -80       -8      \n",
       "4  -105      -15      \n",
       "5   -57       -7      \n",
       "6   -39       -9      \n",
       "7   -35       -1      \n",
       "8   -35       -3      \n",
       "9   -26       -5      \n",
       "10    3        4      \n",
       "11  -61       -2      \n",
       "12    0        5      \n",
       "13  -40       -6      \n",
       "14  -26       -2      \n",
       "15    3       -8      "
      ]
     },
     "metadata": {},
     "output_type": "display_data"
    }
   ],
   "source": [
    "d_words <- essay[, 1] - essay[, 3]\n",
    "d_verbs <- essay[, 2] - essay[, 4]\n",
    "d_essay <- cbind(d_words, d_verbs)\n",
    "as.data.frame(d_essay)"
   ]
  },
  {
   "cell_type": "code",
   "execution_count": 8,
   "id": "d9d3e7b6",
   "metadata": {
    "ExecuteTime": {
     "end_time": "2022-03-30T02:43:15.419651Z",
     "start_time": "2022-03-30T02:43:15.341Z"
    }
   },
   "outputs": [
    {
     "data": {
      "text/html": [
       "<style>\n",
       ".dl-inline {width: auto; margin:0; padding: 0}\n",
       ".dl-inline>dt, .dl-inline>dd {float: none; width: auto; display: inline-block}\n",
       ".dl-inline>dt::after {content: \":\\0020\"; padding-right: .5ex}\n",
       ".dl-inline>dt:not(:first-of-type) {padding-left: .5ex}\n",
       "</style><dl class=dl-inline><dt>Words...1</dt><dd>-32.8</dd><dt>Verbs...2</dt><dd>-3.53333333333333</dd></dl>\n"
      ],
      "text/latex": [
       "\\begin{description*}\n",
       "\\item[Words...1] -32.8\n",
       "\\item[Verbs...2] -3.53333333333333\n",
       "\\end{description*}\n"
      ],
      "text/markdown": [
       "Words...1\n",
       ":   -32.8Verbs...2\n",
       ":   -3.53333333333333\n",
       "\n"
      ],
      "text/plain": [
       " Words...1  Verbs...2 \n",
       "-32.800000  -3.533333 "
      ]
     },
     "metadata": {},
     "output_type": "display_data"
    }
   ],
   "source": [
    "dbar_essay <- colMeans(d_essay)\n",
    "dbar_essay"
   ]
  },
  {
   "cell_type": "code",
   "execution_count": 9,
   "id": "7b296b4e",
   "metadata": {
    "ExecuteTime": {
     "end_time": "2022-03-30T02:43:23.241508Z",
     "start_time": "2022-03-30T02:43:23.182Z"
    }
   },
   "outputs": [
    {
     "data": {
      "text/html": [
       "<table class=\"dataframe\">\n",
       "<caption>A matrix: 2 × 2 of type dbl</caption>\n",
       "<thead>\n",
       "\t<tr><th></th><th scope=col>Words...1</th><th scope=col>Verbs...2</th></tr>\n",
       "</thead>\n",
       "<tbody>\n",
       "\t<tr><th scope=row>Words...1</th><td>1096.029</td><td>139.90000</td></tr>\n",
       "\t<tr><th scope=row>Verbs...2</th><td> 139.900</td><td> 31.55238</td></tr>\n",
       "</tbody>\n",
       "</table>\n"
      ],
      "text/latex": [
       "A matrix: 2 × 2 of type dbl\n",
       "\\begin{tabular}{r|ll}\n",
       "  & Words...1 & Verbs...2\\\\\n",
       "\\hline\n",
       "\tWords...1 & 1096.029 & 139.90000\\\\\n",
       "\tVerbs...2 &  139.900 &  31.55238\\\\\n",
       "\\end{tabular}\n"
      ],
      "text/markdown": [
       "\n",
       "A matrix: 2 × 2 of type dbl\n",
       "\n",
       "| <!--/--> | Words...1 | Verbs...2 |\n",
       "|---|---|---|\n",
       "| Words...1 | 1096.029 | 139.90000 |\n",
       "| Verbs...2 |  139.900 |  31.55238 |\n",
       "\n"
      ],
      "text/plain": [
       "          Words...1 Verbs...2\n",
       "Words...1 1096.029  139.90000\n",
       "Verbs...2  139.900   31.55238"
      ]
     },
     "metadata": {},
     "output_type": "display_data"
    }
   ],
   "source": [
    "S_essay <- cov(d_essay)\n",
    "S_essay"
   ]
  },
  {
   "cell_type": "code",
   "execution_count": 32,
   "id": "8f46d561",
   "metadata": {
    "ExecuteTime": {
     "end_time": "2022-03-30T03:27:28.183815Z",
     "start_time": "2022-03-30T03:27:28.140Z"
    }
   },
   "outputs": [
    {
     "data": {
      "text/html": [
       "15"
      ],
      "text/latex": [
       "15"
      ],
      "text/markdown": [
       "15"
      ],
      "text/plain": [
       "[1] 15"
      ]
     },
     "metadata": {},
     "output_type": "display_data"
    }
   ],
   "source": [
    "n_essay <- nrow(d_essay)\n",
    "n_essay"
   ]
  },
  {
   "cell_type": "code",
   "execution_count": 30,
   "id": "459db98b",
   "metadata": {
    "ExecuteTime": {
     "end_time": "2022-03-30T03:27:15.335772Z",
     "start_time": "2022-03-30T03:27:15.299Z"
    }
   },
   "outputs": [
    {
     "data": {
      "text/html": [
       "<table class=\"dataframe\">\n",
       "<caption>A matrix: 1 × 1 of type dbl</caption>\n",
       "<tbody>\n",
       "\t<tr><td>15.19123</td></tr>\n",
       "</tbody>\n",
       "</table>\n"
      ],
      "text/latex": [
       "A matrix: 1 × 1 of type dbl\n",
       "\\begin{tabular}{l}\n",
       "\t 15.19123\\\\\n",
       "\\end{tabular}\n"
      ],
      "text/markdown": [
       "\n",
       "A matrix: 1 × 1 of type dbl\n",
       "\n",
       "| 15.19123 |\n",
       "\n"
      ],
      "text/plain": [
       "     [,1]    \n",
       "[1,] 15.19123"
      ]
     },
     "metadata": {},
     "output_type": "display_data"
    }
   ],
   "source": [
    "T2 <- n_essay*t(dbar_essay) %*% solve(S_essay) %*% (dbar_essay)\n",
    "T2"
   ]
  },
  {
   "cell_type": "code",
   "execution_count": 31,
   "id": "e3dd03f1",
   "metadata": {
    "ExecuteTime": {
     "end_time": "2022-03-30T03:27:16.140757Z",
     "start_time": "2022-03-30T03:27:16.091Z"
    }
   },
   "outputs": [
    {
     "data": {
      "text/html": [
       "0.546440138889157"
      ],
      "text/latex": [
       "0.546440138889157"
      ],
      "text/markdown": [
       "0.546440138889157"
      ],
      "text/plain": [
       "[1] 0.5464401"
      ]
     },
     "metadata": {},
     "output_type": "display_data"
    }
   ],
   "source": [
    "p_essay <- 2\n",
    "\n",
    "alpha_essay = 1 - 0.05\n",
    "\n",
    "crit_val_essay <- (((n_essay - 1) * p_essay)/((n_essay - p_essay) * n_essay)) * qf(p = alpha_essay, df1 = p_essay, df2 = n_essay - p_essay)\n",
    "\n",
    "crit_val_essay"
   ]
  },
  {
   "cell_type": "raw",
   "id": "ae7bc18e",
   "metadata": {},
   "source": [
    "Tolak H0"
   ]
  },
  {
   "cell_type": "markdown",
   "id": "d8fbcb8b",
   "metadata": {},
   "source": [
    "## b."
   ]
  },
  {
   "cell_type": "code",
   "execution_count": 18,
   "id": "e5e4dd26",
   "metadata": {
    "ExecuteTime": {
     "end_time": "2022-03-30T02:49:11.925045Z",
     "start_time": "2022-03-30T02:49:11.680Z"
    }
   },
   "outputs": [
    {
     "data": {
      "image/png": "[encoded data removed]",
      "text/plain": [
       "plot without title"
      ]
     },
     "metadata": {
      "image/png": {
       "height": 420,
       "width": 420
      }
     },
     "output_type": "display_data"
    }
   ],
   "source": [
    "mu <- c(0,0)\n",
    "X <- d_essay\n",
    "n <- nrow(X)\n",
    "p <- ncol(X)\n",
    "xbar <- colMeans(X)\n",
    "S <- cov(X)\n",
    "alpha<-0.05\n",
    "tconst <- sqrt((p/n)*((n-1)/(n-p)) *\n",
    "                 qf(1-alpha,p,n-p))\n",
    "id <- c(1,2)\n",
    "\n",
    "plot(ellipse(center=xbar[id], shape=S[id,id],\n",
    "             radius=tconst, draw=F),type=\"n\", xlab = \"d1\", ylab = \"d2\", xlim = c(-56.4,0.25))\n",
    "lines(ellipse(center=xbar[id], shape=S[id,id],\n",
    "              radius=tconst, lwd=3))\n",
    "points(mu[1],mu[2],col=\"red\", pch=16)\n",
    "text(mu[1]+0.05,mu[2],expression(mu[0]))\n",
    "text(xbar[1]+0.05,xbar[2],expression(bar(x)))"
   ]
  },
  {
   "cell_type": "markdown",
   "id": "a617af6b",
   "metadata": {},
   "source": [
    "## c"
   ]
  },
  {
   "cell_type": "code",
   "execution_count": 13,
   "id": "311cbf52",
   "metadata": {
    "ExecuteTime": {
     "end_time": "2022-03-30T02:45:48.197479Z",
     "start_time": "2022-03-30T02:45:48.050Z"
    }
   },
   "outputs": [
    {
     "data": {
      "text/html": [
       "<table class=\"dataframe\">\n",
       "<caption>A matrix: 1 × 4 of type dbl</caption>\n",
       "<thead>\n",
       "\t<tr><th></th><th scope=col>Words...1</th><th scope=col>Words...1</th><th scope=col>Verbs...2</th><th scope=col>Verbs...2</th></tr>\n",
       "</thead>\n",
       "<tbody>\n",
       "\t<tr><th scope=row>bon</th><td>-54.25184</td><td>-11.34816</td><td>-7.173067</td><td>0.1064007</td></tr>\n",
       "</tbody>\n",
       "</table>\n"
      ],
      "text/latex": [
       "A matrix: 1 × 4 of type dbl\n",
       "\\begin{tabular}{r|llll}\n",
       "  & Words...1 & Words...1 & Verbs...2 & Verbs...2\\\\\n",
       "\\hline\n",
       "\tbon & -54.25184 & -11.34816 & -7.173067 & 0.1064007\\\\\n",
       "\\end{tabular}\n"
      ],
      "text/markdown": [
       "\n",
       "A matrix: 1 × 4 of type dbl\n",
       "\n",
       "| <!--/--> | Words...1 | Words...1 | Verbs...2 | Verbs...2 |\n",
       "|---|---|---|---|---|\n",
       "| bon | -54.25184 | -11.34816 | -7.173067 | 0.1064007 |\n",
       "\n"
      ],
      "text/plain": [
       "    Words...1 Words...1 Verbs...2 Verbs...2\n",
       "bon -54.25184 -11.34816 -7.173067 0.1064007"
      ]
     },
     "metadata": {},
     "output_type": "display_data"
    }
   ],
   "source": [
    "bon <- NULL \n",
    "alpha3 <- 1 - (0.05/(2*p))\n",
    "\n",
    "for(k in 1:2){\n",
    "  bon <- c(bon, dbar[k] - sqrt(Sd[k,k]/n) * qt(alpha3, df=n-1), dbar[k] + sqrt(Sd[k,k]/n) * qt(alpha3, df=n-1))\n",
    "}\n",
    "\n",
    "rtab <- rbind(bon)\n",
    "rtab"
   ]
  },
  {
   "cell_type": "raw",
   "id": "64f93df5",
   "metadata": {},
   "source": [
    "Hasil = `tidak konsisten`\n",
    "Variabel yang konsisten terhadap uji hipotesis = `Words`\n",
    "dan sebaliknya;\n",
    "Kesimpulan: dari hasil perhitungan Bonferoni CI, diperoleh bahwa dalam pengujian pada data essay, ternyata terdapat perbedaan jumlah kata antara jenis essay informal dan formal, sedangkan jumlah kata kerjanya tidak ada perbedaan."
   ]
  },
  {
   "cell_type": "markdown",
   "id": "1affdc83",
   "metadata": {},
   "source": [
    "# 2"
   ]
  },
  {
   "cell_type": "markdown",
   "id": "b06fe002",
   "metadata": {},
   "source": [
    "## a."
   ]
  },
  {
   "cell_type": "raw",
   "id": "611413f6",
   "metadata": {},
   "source": [
    "H0: mu1 - mu2 = $\\delta_{0}$\n",
    "H1: mu1 - mu2 != $\\delta_{0}$\n",
    "\n",
    "H0: tidak ada perbedaan nilai membaca, berhitung, dan IQ antara dua perlakukan yang diberikan terhadap sampel\n",
    "Ha: sebaliknya"
   ]
  },
  {
   "cell_type": "markdown",
   "id": "8cbbd0c3",
   "metadata": {},
   "source": [
    "## b"
   ]
  },
  {
   "cell_type": "code",
   "execution_count": 14,
   "id": "b7002fae",
   "metadata": {
    "ExecuteTime": {
     "end_time": "2022-03-30T02:47:43.293824Z",
     "start_time": "2022-03-30T02:47:43.184Z"
    }
   },
   "outputs": [],
   "source": [
    "baca_C <- c(90, 85, 80, 70, 85, 78, 65, 80, 72)\n",
    "baca_T <- c(15, 98, 107, 100, 105, 95, 89, 100, 90)\n",
    "hitung_C <- c(92, 95, 81, 80, 68, 82, 62, 70, 73)\n",
    "hitung_T <- c(108, 105, 98, 105, 95, 98, 78, 85, 95)\n",
    "iq_C <- c(108, 115, 95, 100, 99, 105, 101, 95, 102)\n",
    "iq_T <- c(110, 102, 100, 115, 98, 100, 99, 102, 100)\n",
    "\n",
    "grup_C <- cbind(baca_C, hitung_C, iq_C)\n",
    "grup_T <- cbind(baca_T, hitung_T, iq_T)"
   ]
  },
  {
   "cell_type": "code",
   "execution_count": 15,
   "id": "71b92d5a",
   "metadata": {
    "ExecuteTime": {
     "end_time": "2022-03-30T02:47:53.121733Z",
     "start_time": "2022-03-30T02:47:53.045Z"
    }
   },
   "outputs": [
    {
     "data": {
      "text/html": [
       "<style>\n",
       ".dl-inline {width: auto; margin:0; padding: 0}\n",
       ".dl-inline>dt, .dl-inline>dd {float: none; width: auto; display: inline-block}\n",
       ".dl-inline>dt::after {content: \":\\0020\"; padding-right: .5ex}\n",
       ".dl-inline>dt:not(:first-of-type) {padding-left: .5ex}\n",
       "</style><dl class=dl-inline><dt>baca_C</dt><dd>78.3333333333333</dd><dt>hitung_C</dt><dd>78.1111111111111</dd><dt>iq_C</dt><dd>102.222222222222</dd></dl>\n"
      ],
      "text/latex": [
       "\\begin{description*}\n",
       "\\item[baca\\textbackslash{}\\_C] 78.3333333333333\n",
       "\\item[hitung\\textbackslash{}\\_C] 78.1111111111111\n",
       "\\item[iq\\textbackslash{}\\_C] 102.222222222222\n",
       "\\end{description*}\n"
      ],
      "text/markdown": [
       "baca_C\n",
       ":   78.3333333333333hitung_C\n",
       ":   78.1111111111111iq_C\n",
       ":   102.222222222222\n",
       "\n"
      ],
      "text/plain": [
       "   baca_C  hitung_C      iq_C \n",
       " 78.33333  78.11111 102.22222 "
      ]
     },
     "metadata": {},
     "output_type": "display_data"
    },
    {
     "data": {
      "text/html": [
       "<style>\n",
       ".dl-inline {width: auto; margin:0; padding: 0}\n",
       ".dl-inline>dt, .dl-inline>dd {float: none; width: auto; display: inline-block}\n",
       ".dl-inline>dt::after {content: \":\\0020\"; padding-right: .5ex}\n",
       ".dl-inline>dt:not(:first-of-type) {padding-left: .5ex}\n",
       "</style><dl class=dl-inline><dt>baca_T</dt><dd>88.7777777777778</dd><dt>hitung_T</dt><dd>96.3333333333333</dd><dt>iq_T</dt><dd>102.888888888889</dd></dl>\n"
      ],
      "text/latex": [
       "\\begin{description*}\n",
       "\\item[baca\\textbackslash{}\\_T] 88.7777777777778\n",
       "\\item[hitung\\textbackslash{}\\_T] 96.3333333333333\n",
       "\\item[iq\\textbackslash{}\\_T] 102.888888888889\n",
       "\\end{description*}\n"
      ],
      "text/markdown": [
       "baca_T\n",
       ":   88.7777777777778hitung_T\n",
       ":   96.3333333333333iq_T\n",
       ":   102.888888888889\n",
       "\n"
      ],
      "text/plain": [
       "   baca_T  hitung_T      iq_T \n",
       " 88.77778  96.33333 102.88889 "
      ]
     },
     "metadata": {},
     "output_type": "display_data"
    }
   ],
   "source": [
    "xbar_grupC <- colMeans(grup_C)\n",
    "xbar_grupC\n",
    "xbar_grupT <- colMeans(grup_T)\n",
    "xbar_grupT"
   ]
  },
  {
   "cell_type": "code",
   "execution_count": 16,
   "id": "d4422c81",
   "metadata": {
    "ExecuteTime": {
     "end_time": "2022-03-30T02:48:01.025460Z",
     "start_time": "2022-03-30T02:48:00.986Z"
    }
   },
   "outputs": [],
   "source": [
    "S_grupC <- cov(grup_C)\n",
    "S_grupT <- cov(grup_T)"
   ]
  },
  {
   "cell_type": "code",
   "execution_count": 17,
   "id": "ae707643",
   "metadata": {
    "ExecuteTime": {
     "end_time": "2022-03-30T02:48:09.676445Z",
     "start_time": "2022-03-30T02:48:09.603Z"
    }
   },
   "outputs": [
    {
     "data": {
      "text/html": [
       "<table class=\"dataframe\">\n",
       "<caption>A matrix: 3 × 3 of type dbl</caption>\n",
       "<thead>\n",
       "\t<tr><th></th><th scope=col>baca_C</th><th scope=col>hitung_C</th><th scope=col>iq_C</th></tr>\n",
       "</thead>\n",
       "<tbody>\n",
       "\t<tr><th scope=row>baca_C</th><td>433.34722</td><td>-23.04167</td><td>-26.18056</td></tr>\n",
       "\t<tr><th scope=row>hitung_C</th><td>-23.04167</td><td>107.43056</td><td> 41.00694</td></tr>\n",
       "\t<tr><th scope=row>iq_C</th><td>-26.18056</td><td> 41.00694</td><td> 36.77778</td></tr>\n",
       "</tbody>\n",
       "</table>\n"
      ],
      "text/latex": [
       "A matrix: 3 × 3 of type dbl\n",
       "\\begin{tabular}{r|lll}\n",
       "  & baca\\_C & hitung\\_C & iq\\_C\\\\\n",
       "\\hline\n",
       "\tbaca\\_C & 433.34722 & -23.04167 & -26.18056\\\\\n",
       "\thitung\\_C & -23.04167 & 107.43056 &  41.00694\\\\\n",
       "\tiq\\_C & -26.18056 &  41.00694 &  36.77778\\\\\n",
       "\\end{tabular}\n"
      ],
      "text/markdown": [
       "\n",
       "A matrix: 3 × 3 of type dbl\n",
       "\n",
       "| <!--/--> | baca_C | hitung_C | iq_C |\n",
       "|---|---|---|---|\n",
       "| baca_C | 433.34722 | -23.04167 | -26.18056 |\n",
       "| hitung_C | -23.04167 | 107.43056 |  41.00694 |\n",
       "| iq_C | -26.18056 |  41.00694 |  36.77778 |\n",
       "\n"
      ],
      "text/plain": [
       "         baca_C    hitung_C  iq_C     \n",
       "baca_C   433.34722 -23.04167 -26.18056\n",
       "hitung_C -23.04167 107.43056  41.00694\n",
       "iq_C     -26.18056  41.00694  36.77778"
      ]
     },
     "metadata": {},
     "output_type": "display_data"
    }
   ],
   "source": [
    "n_grupC <- nrow(grup_C)\n",
    "n_grupT <- nrow(grup_T)\n",
    "\n",
    "Spooled_grup <- (1/(n_grupC + n_grupT - 2)) * (((n_grupC - 1) * S_grupC) + ((n_grupT - 1) * S_grupT))\n",
    "Spooled_grup"
   ]
  },
  {
   "cell_type": "code",
   "execution_count": 33,
   "id": "43af570a",
   "metadata": {
    "ExecuteTime": {
     "end_time": "2022-03-30T03:54:06.680542Z",
     "start_time": "2022-03-30T03:54:06.638Z"
    }
   },
   "outputs": [
    {
     "data": {
      "text/html": [
       "9"
      ],
      "text/latex": [
       "9"
      ],
      "text/markdown": [
       "9"
      ],
      "text/plain": [
       "[1] 9"
      ]
     },
     "metadata": {},
     "output_type": "display_data"
    }
   ],
   "source": [
    "n_grupT"
   ]
  },
  {
   "cell_type": "code",
   "execution_count": 19,
   "id": "88107f49",
   "metadata": {
    "ExecuteTime": {
     "end_time": "2022-03-30T02:51:19.647341Z",
     "start_time": "2022-03-30T02:51:19.558Z"
    }
   },
   "outputs": [
    {
     "data": {
      "text/html": [
       "<table class=\"dataframe\">\n",
       "<caption>A matrix: 3 × 3 of type dbl</caption>\n",
       "<thead>\n",
       "\t<tr><th></th><th scope=col>baca_C</th><th scope=col>hitung_C</th><th scope=col>iq_C</th></tr>\n",
       "</thead>\n",
       "<tbody>\n",
       "\t<tr><th scope=row>baca_C</th><td>433.34722</td><td>-23.04167</td><td>-26.18056</td></tr>\n",
       "\t<tr><th scope=row>hitung_C</th><td>-23.04167</td><td>107.43056</td><td> 41.00694</td></tr>\n",
       "\t<tr><th scope=row>iq_C</th><td>-26.18056</td><td> 41.00694</td><td> 36.77778</td></tr>\n",
       "</tbody>\n",
       "</table>\n"
      ],
      "text/latex": [
       "A matrix: 3 × 3 of type dbl\n",
       "\\begin{tabular}{r|lll}\n",
       "  & baca\\_C & hitung\\_C & iq\\_C\\\\\n",
       "\\hline\n",
       "\tbaca\\_C & 433.34722 & -23.04167 & -26.18056\\\\\n",
       "\thitung\\_C & -23.04167 & 107.43056 &  41.00694\\\\\n",
       "\tiq\\_C & -26.18056 &  41.00694 &  36.77778\\\\\n",
       "\\end{tabular}\n"
      ],
      "text/markdown": [
       "\n",
       "A matrix: 3 × 3 of type dbl\n",
       "\n",
       "| <!--/--> | baca_C | hitung_C | iq_C |\n",
       "|---|---|---|---|\n",
       "| baca_C | 433.34722 | -23.04167 | -26.18056 |\n",
       "| hitung_C | -23.04167 | 107.43056 |  41.00694 |\n",
       "| iq_C | -26.18056 |  41.00694 |  36.77778 |\n",
       "\n"
      ],
      "text/plain": [
       "         baca_C    hitung_C  iq_C     \n",
       "baca_C   433.34722 -23.04167 -26.18056\n",
       "hitung_C -23.04167 107.43056  41.00694\n",
       "iq_C     -26.18056  41.00694  36.77778"
      ]
     },
     "metadata": {},
     "output_type": "display_data"
    }
   ],
   "source": [
    "n_grupC <- nrow(grup_C)\n",
    "n_grupT <- nrow(grup_T)\n",
    "\n",
    "Spooled_grup <- (1/(n_grupC + n_grupT - 2)) * (((n_grupC - 1) * S_grupC) + ((n_grupT - 1) * S_grupT))\n",
    "Spooled_grup"
   ]
  },
  {
   "cell_type": "code",
   "execution_count": 20,
   "id": "b77b664a",
   "metadata": {
    "ExecuteTime": {
     "end_time": "2022-03-30T02:51:26.514256Z",
     "start_time": "2022-03-30T02:51:26.463Z"
    }
   },
   "outputs": [
    {
     "data": {
      "text/html": [
       "<table class=\"dataframe\">\n",
       "<caption>A matrix: 1 × 1 of type dbl</caption>\n",
       "<tbody>\n",
       "\t<tr><td>23.24873</td></tr>\n",
       "</tbody>\n",
       "</table>\n"
      ],
      "text/latex": [
       "A matrix: 1 × 1 of type dbl\n",
       "\\begin{tabular}{l}\n",
       "\t 23.24873\\\\\n",
       "\\end{tabular}\n"
      ],
      "text/markdown": [
       "\n",
       "A matrix: 1 × 1 of type dbl\n",
       "\n",
       "| 23.24873 |\n",
       "\n"
      ],
      "text/plain": [
       "     [,1]    \n",
       "[1,] 23.24873"
      ]
     },
     "metadata": {},
     "output_type": "display_data"
    }
   ],
   "source": [
    "T2_grup <- t(xbar_grupC - xbar_grupT) %*% solve(((1/n_grupC) + (1/n_grupT)) * Spooled_grup) %*% (xbar_grupC - xbar_grupT)\n",
    "T2_grup"
   ]
  },
  {
   "cell_type": "code",
   "execution_count": 21,
   "id": "430f7bd1",
   "metadata": {
    "ExecuteTime": {
     "end_time": "2022-03-30T02:51:34.156276Z",
     "start_time": "2022-03-30T02:51:34.064Z"
    }
   },
   "outputs": [
    {
     "data": {
      "text/html": [
       "11.464761182122"
      ],
      "text/latex": [
       "11.464761182122"
      ],
      "text/markdown": [
       "11.464761182122"
      ],
      "text/plain": [
       "[1] 11.46476"
      ]
     },
     "metadata": {},
     "output_type": "display_data"
    }
   ],
   "source": [
    "p_grup <- 3\n",
    "alpha_grup <- 1 - 0.05\n",
    "\n",
    "crit_val_grup <- (((n_grupC + n_grupT - 2) * p_grup)/(n_grupC + n_grupT - p_grup - 1)) * qf(p = alpha_grup, df1 = p_grup, df2 = n_grupC + n_grupT - p_grup - 1)\n",
    "\n",
    "crit_val_grup"
   ]
  },
  {
   "cell_type": "raw",
   "id": "4bf17910",
   "metadata": {},
   "source": [
    "Ternyata $T^{2}$ > $F$ -> Tolak H0"
   ]
  },
  {
   "cell_type": "markdown",
   "id": "586881ec",
   "metadata": {},
   "source": [
    "## c."
   ]
  },
  {
   "cell_type": "code",
   "execution_count": 22,
   "id": "ab31a53c",
   "metadata": {
    "ExecuteTime": {
     "end_time": "2022-03-30T02:52:02.995511Z",
     "start_time": "2022-03-30T02:52:02.646Z"
    }
   },
   "outputs": [
    {
     "data": {
      "text/html": [
       "<table class=\"dataframe\">\n",
       "<caption>A matrix: 1 × 6 of type dbl</caption>\n",
       "<thead>\n",
       "\t<tr><th></th><th scope=col>baca_C</th><th scope=col>baca_C</th><th scope=col>hitung_C</th><th scope=col>hitung_C</th><th scope=col>iq_C</th><th scope=col>iq_C</th></tr>\n",
       "</thead>\n",
       "<tbody>\n",
       "\t<tr><th scope=row>bon_grup</th><td>-36.676</td><td>15.787</td><td>-31.283</td><td>-5.162</td><td>-8.308</td><td>6.975</td></tr>\n",
       "</tbody>\n",
       "</table>\n"
      ],
      "text/latex": [
       "A matrix: 1 × 6 of type dbl\n",
       "\\begin{tabular}{r|llllll}\n",
       "  & baca\\_C & baca\\_C & hitung\\_C & hitung\\_C & iq\\_C & iq\\_C\\\\\n",
       "\\hline\n",
       "\tbon\\_grup & -36.676 & 15.787 & -31.283 & -5.162 & -8.308 & 6.975\\\\\n",
       "\\end{tabular}\n"
      ],
      "text/markdown": [
       "\n",
       "A matrix: 1 × 6 of type dbl\n",
       "\n",
       "| <!--/--> | baca_C | baca_C | hitung_C | hitung_C | iq_C | iq_C |\n",
       "|---|---|---|---|---|---|---|\n",
       "| bon_grup | -36.676 | 15.787 | -31.283 | -5.162 | -8.308 | 6.975 |\n",
       "\n"
      ],
      "text/plain": [
       "         baca_C  baca_C hitung_C hitung_C iq_C   iq_C \n",
       "bon_grup -36.676 15.787 -31.283  -5.162   -8.308 6.975"
      ]
     },
     "metadata": {},
     "output_type": "display_data"
    }
   ],
   "source": [
    "bon_grup <- NULL\n",
    "alpha_bon <- 1 - (0.05/(2 * p_grup))\n",
    "\n",
    "for (k in c(1:3)) {\n",
    "  bon_grup <- c(bon_grup, (xbar_grupC[k] - xbar_grupT[k]) - qt(p = alpha_bon, df = n_grupC + n_grupT - 2) * sqrt(((1/n_grupC) + (1/n_grupT)) * Spooled_grup[k,k]), (xbar_grupC[k] - xbar_grupT[k]) + qt(p = alpha_bon, df = n_grupC + n_grupT - 2) * sqrt(((1/n_grupC) + (1/n_grupT)) * Spooled_grup[k,k]))\n",
    "}\n",
    "\n",
    "rtab <- rbind(bon_grup)\n",
    "round(rtab, 3)"
   ]
  },
  {
   "cell_type": "raw",
   "id": "704d5538",
   "metadata": {},
   "source": [
    "Konsisten = Hitung\n",
    "Tidak konsisten = Baca, IQ"
   ]
  },
  {
   "cell_type": "markdown",
   "id": "8cfd3897",
   "metadata": {},
   "source": [
    "## d."
   ]
  },
  {
   "cell_type": "code",
   "execution_count": 23,
   "id": "2f39f859",
   "metadata": {
    "ExecuteTime": {
     "end_time": "2022-03-30T02:52:52.913201Z",
     "start_time": "2022-03-30T02:52:52.301Z"
    }
   },
   "outputs": [
    {
     "data": {
      "text/html": [
       "<dl>\n",
       "\t<dt>$multivariateNormality</dt>\n",
       "\t\t<dd><table class=\"dataframe\">\n",
       "<caption>A data.frame: 1 × 4</caption>\n",
       "<thead>\n",
       "\t<tr><th scope=col>Test</th><th scope=col>H</th><th scope=col>p value</th><th scope=col>MVN</th></tr>\n",
       "\t<tr><th scope=col>&lt;chr&gt;</th><th scope=col>&lt;dbl&gt;</th><th scope=col>&lt;dbl&gt;</th><th scope=col>&lt;chr&gt;</th></tr>\n",
       "</thead>\n",
       "<tbody>\n",
       "\t<tr><td>Royston</td><td>0.548199</td><td>0.918497</td><td>YES</td></tr>\n",
       "</tbody>\n",
       "</table>\n",
       "</dd>\n",
       "\t<dt>$univariateNormality</dt>\n",
       "\t\t<dd><table class=\"dataframe\">\n",
       "<caption>A data.frame: 3 × 5</caption>\n",
       "<thead>\n",
       "\t<tr><th></th><th scope=col>Test</th><th scope=col>Variable</th><th scope=col>Statistic</th><th scope=col>p value</th><th scope=col>Normality</th></tr>\n",
       "\t<tr><th></th><th scope=col>&lt;I&lt;chr&gt;&gt;</th><th scope=col>&lt;I&lt;chr&gt;&gt;</th><th scope=col>&lt;I&lt;chr&gt;&gt;</th><th scope=col>&lt;I&lt;chr&gt;&gt;</th><th scope=col>&lt;I&lt;chr&gt;&gt;</th></tr>\n",
       "</thead>\n",
       "<tbody>\n",
       "\t<tr><th scope=row>1</th><td>Anderson-Darling</td><td> baca_C  </td><td>   0.2199</td><td>   0.7629</td><td>   YES   </td></tr>\n",
       "\t<tr><th scope=row>2</th><td>Anderson-Darling</td><td>hitung_C </td><td>   0.2112</td><td>   0.7933</td><td>   YES   </td></tr>\n",
       "\t<tr><th scope=row>3</th><td>Anderson-Darling</td><td>  iq_C   </td><td>   0.2974</td><td>   0.5138</td><td>   YES   </td></tr>\n",
       "</tbody>\n",
       "</table>\n",
       "</dd>\n",
       "\t<dt>$Descriptives</dt>\n",
       "\t\t<dd><table class=\"dataframe\">\n",
       "<caption>A data.frame: 3 × 10</caption>\n",
       "<thead>\n",
       "\t<tr><th></th><th scope=col>n</th><th scope=col>Mean</th><th scope=col>Std.Dev</th><th scope=col>Median</th><th scope=col>Min</th><th scope=col>Max</th><th scope=col>25th</th><th scope=col>75th</th><th scope=col>Skew</th><th scope=col>Kurtosis</th></tr>\n",
       "\t<tr><th></th><th scope=col>&lt;int&gt;</th><th scope=col>&lt;dbl&gt;</th><th scope=col>&lt;dbl&gt;</th><th scope=col>&lt;dbl&gt;</th><th scope=col>&lt;dbl&gt;</th><th scope=col>&lt;dbl&gt;</th><th scope=col>&lt;dbl&gt;</th><th scope=col>&lt;dbl&gt;</th><th scope=col>&lt;dbl&gt;</th><th scope=col>&lt;dbl&gt;</th></tr>\n",
       "</thead>\n",
       "<tbody>\n",
       "\t<tr><th scope=row>baca_C</th><td>9</td><td> 78.33333</td><td> 8.046738</td><td> 80</td><td>65</td><td> 90</td><td>72</td><td> 85</td><td>-0.2160977</td><td>-1.3958719</td></tr>\n",
       "\t<tr><th scope=row>hitung_C</th><td>9</td><td> 78.11111</td><td>10.948110</td><td> 80</td><td>62</td><td> 95</td><td>70</td><td> 82</td><td> 0.1442268</td><td>-1.4399176</td></tr>\n",
       "\t<tr><th scope=row>iq_C</th><td>9</td><td>102.22222</td><td> 6.379220</td><td>101</td><td>95</td><td>115</td><td>99</td><td>105</td><td> 0.6423862</td><td>-0.7585445</td></tr>\n",
       "</tbody>\n",
       "</table>\n",
       "</dd>\n",
       "</dl>\n"
      ],
      "text/latex": [
       "\\begin{description}\n",
       "\\item[\\$multivariateNormality] A data.frame: 1 × 4\n",
       "\\begin{tabular}{llll}\n",
       " Test & H & p value & MVN\\\\\n",
       " <chr> & <dbl> & <dbl> & <chr>\\\\\n",
       "\\hline\n",
       "\t Royston & 0.548199 & 0.918497 & YES\\\\\n",
       "\\end{tabular}\n",
       "\n",
       "\\item[\\$univariateNormality] A data.frame: 3 × 5\n",
       "\\begin{tabular}{r|lllll}\n",
       "  & Test & Variable & Statistic & p value & Normality\\\\\n",
       "  & <I<chr>> & <I<chr>> & <I<chr>> & <I<chr>> & <I<chr>>\\\\\n",
       "\\hline\n",
       "\t1 & Anderson-Darling &  baca\\_C   &    0.2199 &    0.7629 &    YES   \\\\\n",
       "\t2 & Anderson-Darling & hitung\\_C  &    0.2112 &    0.7933 &    YES   \\\\\n",
       "\t3 & Anderson-Darling &   iq\\_C    &    0.2974 &    0.5138 &    YES   \\\\\n",
       "\\end{tabular}\n",
       "\n",
       "\\item[\\$Descriptives] A data.frame: 3 × 10\n",
       "\\begin{tabular}{r|llllllllll}\n",
       "  & n & Mean & Std.Dev & Median & Min & Max & 25th & 75th & Skew & Kurtosis\\\\\n",
       "  & <int> & <dbl> & <dbl> & <dbl> & <dbl> & <dbl> & <dbl> & <dbl> & <dbl> & <dbl>\\\\\n",
       "\\hline\n",
       "\tbaca\\_C & 9 &  78.33333 &  8.046738 &  80 & 65 &  90 & 72 &  85 & -0.2160977 & -1.3958719\\\\\n",
       "\thitung\\_C & 9 &  78.11111 & 10.948110 &  80 & 62 &  95 & 70 &  82 &  0.1442268 & -1.4399176\\\\\n",
       "\tiq\\_C & 9 & 102.22222 &  6.379220 & 101 & 95 & 115 & 99 & 105 &  0.6423862 & -0.7585445\\\\\n",
       "\\end{tabular}\n",
       "\n",
       "\\end{description}\n"
      ],
      "text/markdown": [
       "$multivariateNormality\n",
       ":   \n",
       "A data.frame: 1 × 4\n",
       "\n",
       "| Test &lt;chr&gt; | H &lt;dbl&gt; | p value &lt;dbl&gt; | MVN &lt;chr&gt; |\n",
       "|---|---|---|---|\n",
       "| Royston | 0.548199 | 0.918497 | YES |\n",
       "\n",
       "\n",
       "$univariateNormality\n",
       ":   \n",
       "A data.frame: 3 × 5\n",
       "\n",
       "| <!--/--> | Test &lt;I&lt;chr&gt;&gt; | Variable &lt;I&lt;chr&gt;&gt; | Statistic &lt;I&lt;chr&gt;&gt; | p value &lt;I&lt;chr&gt;&gt; | Normality &lt;I&lt;chr&gt;&gt; |\n",
       "|---|---|---|---|---|---|\n",
       "| 1 | Anderson-Darling |  baca_C   |    0.2199 |    0.7629 |    YES    |\n",
       "| 2 | Anderson-Darling | hitung_C  |    0.2112 |    0.7933 |    YES    |\n",
       "| 3 | Anderson-Darling |   iq_C    |    0.2974 |    0.5138 |    YES    |\n",
       "\n",
       "\n",
       "$Descriptives\n",
       ":   \n",
       "A data.frame: 3 × 10\n",
       "\n",
       "| <!--/--> | n &lt;int&gt; | Mean &lt;dbl&gt; | Std.Dev &lt;dbl&gt; | Median &lt;dbl&gt; | Min &lt;dbl&gt; | Max &lt;dbl&gt; | 25th &lt;dbl&gt; | 75th &lt;dbl&gt; | Skew &lt;dbl&gt; | Kurtosis &lt;dbl&gt; |\n",
       "|---|---|---|---|---|---|---|---|---|---|---|\n",
       "| baca_C | 9 |  78.33333 |  8.046738 |  80 | 65 |  90 | 72 |  85 | -0.2160977 | -1.3958719 |\n",
       "| hitung_C | 9 |  78.11111 | 10.948110 |  80 | 62 |  95 | 70 |  82 |  0.1442268 | -1.4399176 |\n",
       "| iq_C | 9 | 102.22222 |  6.379220 | 101 | 95 | 115 | 99 | 105 |  0.6423862 | -0.7585445 |\n",
       "\n",
       "\n",
       "\n",
       "\n"
      ],
      "text/plain": [
       "$multivariateNormality\n",
       "     Test        H  p value MVN\n",
       "1 Royston 0.548199 0.918497 YES\n",
       "\n",
       "$univariateNormality\n",
       "              Test  Variable Statistic   p value Normality\n",
       "1 Anderson-Darling  baca_C      0.2199    0.7629    YES   \n",
       "2 Anderson-Darling hitung_C     0.2112    0.7933    YES   \n",
       "3 Anderson-Darling   iq_C       0.2974    0.5138    YES   \n",
       "\n",
       "$Descriptives\n",
       "         n      Mean   Std.Dev Median Min Max 25th 75th       Skew   Kurtosis\n",
       "baca_C   9  78.33333  8.046738     80  65  90   72   85 -0.2160977 -1.3958719\n",
       "hitung_C 9  78.11111 10.948110     80  62  95   70   82  0.1442268 -1.4399176\n",
       "iq_C     9 102.22222  6.379220    101  95 115   99  105  0.6423862 -0.7585445\n"
      ]
     },
     "metadata": {},
     "output_type": "display_data"
    }
   ],
   "source": [
    "set.seed(1000)\n",
    "mvn(grup_C, mvnTest = \"royston\")"
   ]
  },
  {
   "cell_type": "code",
   "execution_count": 24,
   "id": "338ce4d2",
   "metadata": {
    "ExecuteTime": {
     "end_time": "2022-03-30T02:53:02.569202Z",
     "start_time": "2022-03-30T02:53:02.457Z"
    }
   },
   "outputs": [
    {
     "data": {
      "text/html": [
       "<dl>\n",
       "\t<dt>$multivariateNormality</dt>\n",
       "\t\t<dd><table class=\"dataframe\">\n",
       "<caption>A data.frame: 1 × 4</caption>\n",
       "<thead>\n",
       "\t<tr><th scope=col>Test</th><th scope=col>H</th><th scope=col>p value</th><th scope=col>MVN</th></tr>\n",
       "\t<tr><th scope=col>&lt;chr&gt;</th><th scope=col>&lt;dbl&gt;</th><th scope=col>&lt;dbl&gt;</th><th scope=col>&lt;chr&gt;</th></tr>\n",
       "</thead>\n",
       "<tbody>\n",
       "\t<tr><td>Royston</td><td>20.13103</td><td>0.0001514273</td><td>NO</td></tr>\n",
       "</tbody>\n",
       "</table>\n",
       "</dd>\n",
       "\t<dt>$univariateNormality</dt>\n",
       "\t\t<dd><table class=\"dataframe\">\n",
       "<caption>A data.frame: 3 × 5</caption>\n",
       "<thead>\n",
       "\t<tr><th></th><th scope=col>Test</th><th scope=col>Variable</th><th scope=col>Statistic</th><th scope=col>p value</th><th scope=col>Normality</th></tr>\n",
       "\t<tr><th></th><th scope=col>&lt;I&lt;chr&gt;&gt;</th><th scope=col>&lt;I&lt;chr&gt;&gt;</th><th scope=col>&lt;I&lt;chr&gt;&gt;</th><th scope=col>&lt;I&lt;chr&gt;&gt;</th><th scope=col>&lt;I&lt;chr&gt;&gt;</th></tr>\n",
       "</thead>\n",
       "<tbody>\n",
       "\t<tr><th scope=row>1</th><td>Anderson-Darling</td><td> baca_T  </td><td>   1.6099</td><td>   0.0001</td><td>   NO    </td></tr>\n",
       "\t<tr><th scope=row>2</th><td>Anderson-Darling</td><td>hitung_T </td><td>   0.3710</td><td>   0.3393</td><td>   YES   </td></tr>\n",
       "\t<tr><th scope=row>3</th><td>Anderson-Darling</td><td>  iq_T   </td><td>   1.0201</td><td>   0.0058</td><td>   NO    </td></tr>\n",
       "</tbody>\n",
       "</table>\n",
       "</dd>\n",
       "\t<dt>$Descriptives</dt>\n",
       "\t\t<dd><table class=\"dataframe\">\n",
       "<caption>A data.frame: 3 × 10</caption>\n",
       "<thead>\n",
       "\t<tr><th></th><th scope=col>n</th><th scope=col>Mean</th><th scope=col>Std.Dev</th><th scope=col>Median</th><th scope=col>Min</th><th scope=col>Max</th><th scope=col>25th</th><th scope=col>75th</th><th scope=col>Skew</th><th scope=col>Kurtosis</th></tr>\n",
       "\t<tr><th></th><th scope=col>&lt;int&gt;</th><th scope=col>&lt;dbl&gt;</th><th scope=col>&lt;dbl&gt;</th><th scope=col>&lt;dbl&gt;</th><th scope=col>&lt;dbl&gt;</th><th scope=col>&lt;dbl&gt;</th><th scope=col>&lt;dbl&gt;</th><th scope=col>&lt;dbl&gt;</th><th scope=col>&lt;dbl&gt;</th><th scope=col>&lt;dbl&gt;</th></tr>\n",
       "</thead>\n",
       "<tbody>\n",
       "\t<tr><th scope=row>baca_T</th><td>9</td><td> 88.77778</td><td>28.318624</td><td> 98</td><td>15</td><td>107</td><td> 90</td><td>100</td><td>-1.895452</td><td> 2.1568394</td></tr>\n",
       "\t<tr><th scope=row>hitung_T</th><td>9</td><td> 96.33333</td><td> 9.746794</td><td> 98</td><td>78</td><td>108</td><td> 95</td><td>105</td><td>-0.566788</td><td>-1.0387812</td></tr>\n",
       "\t<tr><th scope=row>iq_T</th><td>9</td><td>102.88889</td><td> 5.732461</td><td>100</td><td>98</td><td>115</td><td>100</td><td>102</td><td> 1.112817</td><td>-0.4191918</td></tr>\n",
       "</tbody>\n",
       "</table>\n",
       "</dd>\n",
       "</dl>\n"
      ],
      "text/latex": [
       "\\begin{description}\n",
       "\\item[\\$multivariateNormality] A data.frame: 1 × 4\n",
       "\\begin{tabular}{llll}\n",
       " Test & H & p value & MVN\\\\\n",
       " <chr> & <dbl> & <dbl> & <chr>\\\\\n",
       "\\hline\n",
       "\t Royston & 20.13103 & 0.0001514273 & NO\\\\\n",
       "\\end{tabular}\n",
       "\n",
       "\\item[\\$univariateNormality] A data.frame: 3 × 5\n",
       "\\begin{tabular}{r|lllll}\n",
       "  & Test & Variable & Statistic & p value & Normality\\\\\n",
       "  & <I<chr>> & <I<chr>> & <I<chr>> & <I<chr>> & <I<chr>>\\\\\n",
       "\\hline\n",
       "\t1 & Anderson-Darling &  baca\\_T   &    1.6099 &    0.0001 &    NO    \\\\\n",
       "\t2 & Anderson-Darling & hitung\\_T  &    0.3710 &    0.3393 &    YES   \\\\\n",
       "\t3 & Anderson-Darling &   iq\\_T    &    1.0201 &    0.0058 &    NO    \\\\\n",
       "\\end{tabular}\n",
       "\n",
       "\\item[\\$Descriptives] A data.frame: 3 × 10\n",
       "\\begin{tabular}{r|llllllllll}\n",
       "  & n & Mean & Std.Dev & Median & Min & Max & 25th & 75th & Skew & Kurtosis\\\\\n",
       "  & <int> & <dbl> & <dbl> & <dbl> & <dbl> & <dbl> & <dbl> & <dbl> & <dbl> & <dbl>\\\\\n",
       "\\hline\n",
       "\tbaca\\_T & 9 &  88.77778 & 28.318624 &  98 & 15 & 107 &  90 & 100 & -1.895452 &  2.1568394\\\\\n",
       "\thitung\\_T & 9 &  96.33333 &  9.746794 &  98 & 78 & 108 &  95 & 105 & -0.566788 & -1.0387812\\\\\n",
       "\tiq\\_T & 9 & 102.88889 &  5.732461 & 100 & 98 & 115 & 100 & 102 &  1.112817 & -0.4191918\\\\\n",
       "\\end{tabular}\n",
       "\n",
       "\\end{description}\n"
      ],
      "text/markdown": [
       "$multivariateNormality\n",
       ":   \n",
       "A data.frame: 1 × 4\n",
       "\n",
       "| Test &lt;chr&gt; | H &lt;dbl&gt; | p value &lt;dbl&gt; | MVN &lt;chr&gt; |\n",
       "|---|---|---|---|\n",
       "| Royston | 20.13103 | 0.0001514273 | NO |\n",
       "\n",
       "\n",
       "$univariateNormality\n",
       ":   \n",
       "A data.frame: 3 × 5\n",
       "\n",
       "| <!--/--> | Test &lt;I&lt;chr&gt;&gt; | Variable &lt;I&lt;chr&gt;&gt; | Statistic &lt;I&lt;chr&gt;&gt; | p value &lt;I&lt;chr&gt;&gt; | Normality &lt;I&lt;chr&gt;&gt; |\n",
       "|---|---|---|---|---|---|\n",
       "| 1 | Anderson-Darling |  baca_T   |    1.6099 |    0.0001 |    NO     |\n",
       "| 2 | Anderson-Darling | hitung_T  |    0.3710 |    0.3393 |    YES    |\n",
       "| 3 | Anderson-Darling |   iq_T    |    1.0201 |    0.0058 |    NO     |\n",
       "\n",
       "\n",
       "$Descriptives\n",
       ":   \n",
       "A data.frame: 3 × 10\n",
       "\n",
       "| <!--/--> | n &lt;int&gt; | Mean &lt;dbl&gt; | Std.Dev &lt;dbl&gt; | Median &lt;dbl&gt; | Min &lt;dbl&gt; | Max &lt;dbl&gt; | 25th &lt;dbl&gt; | 75th &lt;dbl&gt; | Skew &lt;dbl&gt; | Kurtosis &lt;dbl&gt; |\n",
       "|---|---|---|---|---|---|---|---|---|---|---|\n",
       "| baca_T | 9 |  88.77778 | 28.318624 |  98 | 15 | 107 |  90 | 100 | -1.895452 |  2.1568394 |\n",
       "| hitung_T | 9 |  96.33333 |  9.746794 |  98 | 78 | 108 |  95 | 105 | -0.566788 | -1.0387812 |\n",
       "| iq_T | 9 | 102.88889 |  5.732461 | 100 | 98 | 115 | 100 | 102 |  1.112817 | -0.4191918 |\n",
       "\n",
       "\n",
       "\n",
       "\n"
      ],
      "text/plain": [
       "$multivariateNormality\n",
       "     Test        H      p value MVN\n",
       "1 Royston 20.13103 0.0001514273  NO\n",
       "\n",
       "$univariateNormality\n",
       "              Test  Variable Statistic   p value Normality\n",
       "1 Anderson-Darling  baca_T      1.6099    0.0001    NO    \n",
       "2 Anderson-Darling hitung_T     0.3710    0.3393    YES   \n",
       "3 Anderson-Darling   iq_T       1.0201    0.0058    NO    \n",
       "\n",
       "$Descriptives\n",
       "         n      Mean   Std.Dev Median Min Max 25th 75th      Skew   Kurtosis\n",
       "baca_T   9  88.77778 28.318624     98  15 107   90  100 -1.895452  2.1568394\n",
       "hitung_T 9  96.33333  9.746794     98  78 108   95  105 -0.566788 -1.0387812\n",
       "iq_T     9 102.88889  5.732461    100  98 115  100  102  1.112817 -0.4191918\n"
      ]
     },
     "metadata": {},
     "output_type": "display_data"
    }
   ],
   "source": [
    "mvn(grup_T, mvnTest = \"royston\")"
   ]
  },
  {
   "cell_type": "raw",
   "id": "095ce573",
   "metadata": {},
   "source": [
    "Ternyata:\n",
    "\n",
    "- Populasi grup C ternyata `memenuhi asumsi normalitas`; dan\n",
    "- Populasi grup T terntata `tidak memenuhi asumsi normalitas`."
   ]
  },
  {
   "cell_type": "code",
   "execution_count": null,
   "id": "4b628791",
   "metadata": {},
   "outputs": [],
   "source": []
  }
 ],
 "metadata": {
  "kernelspec": {
   "display_name": "R",
   "language": "R",
   "name": "ir"
  },
  "language_info": {
   "codemirror_mode": "r",
   "file_extension": ".r",
   "mimetype": "text/x-r-source",
   "name": "R",
   "pygments_lexer": "r",
   "version": "4.0.5"
  },
  "toc": {
   "base_numbering": 1,
   "nav_menu": {},
   "number_sections": true,
   "sideBar": true,
   "skip_h1_title": false,
   "title_cell": "Table of Contents",
   "title_sidebar": "Contents",
   "toc_cell": false,
   "toc_position": {},
   "toc_section_display": true,
   "toc_window_display": false
  }
 },
 "nbformat": 4,
 "nbformat_minor": 5
}
