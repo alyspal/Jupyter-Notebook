{
 "cells": [
  {
   "cell_type": "code",
   "execution_count": 1,
   "id": "4a3e510e",
   "metadata": {
    "ExecuteTime": {
     "end_time": "2022-02-16T05:34:19.860346Z",
     "start_time": "2022-02-16T05:27:18.439Z"
    }
   },
   "outputs": [
    {
     "name": "stderr",
     "output_type": "stream",
     "text": [
      "Warning message:\n",
      "\"dependency 'foreign' is not available\"also installing the dependencies 'colorspace', 'farver', 'labeling', 'munsell', 'RColorBrewer', 'viridisLite', 'rprojroot', 'rstudioapi', 'diffobj', 'rematch2', 'stringi', 'fansi', 'pkgconfig', 'cpp11', 'gtable', 'isoband', 'scales', 'withr', 'cli', 'utf8', 'brio', 'callr', 'desc', 'pkgload', 'praise', 'processx', 'ps', 'waldo', 'backports', 'ellipsis', 'generics', 'glue', 'purrr', 'rlang', 'stringr', 'tibble', 'tidyr', 'ggplot2', 'lifecycle', 'R6', 'tidyselect', 'vctrs', 'pillar', 'highr', 'yaml', 'xfun', 'testthat', 'Matrix', 'broom', 'dplyr', 'magrittr', 'numDeriv', 'knitr', 'SparseM', 'MatrixModels', 'sp', 'lattice', 'boot', 'minqa', 'nloptr', 'RcppEigen', 'carData', 'abind', 'MASS', 'mgcv', 'nnet', 'pbkrtest', 'quantreg', 'maptools', 'lme4', 'nlme'\n",
      "\n"
     ]
    },
    {
     "name": "stdout",
     "output_type": "stream",
     "text": [
      "\n",
      "  There are binary versions available but the source versions are later:\n",
      "            binary  source needs_compilation\n",
      "colorspace   2.0-1   2.0-2              TRUE\n",
      "diffobj      0.3.4   0.3.5              TRUE\n",
      "stringi      1.6.1   1.7.6              TRUE\n",
      "fansi        0.4.2   1.0.2              TRUE\n",
      "cpp11        0.2.7   0.4.2             FALSE\n",
      "isoband      0.2.4   0.2.5              TRUE\n",
      "withr        2.4.2   2.4.3             FALSE\n",
      "cli          2.5.0   3.2.0              TRUE\n",
      "utf8         1.2.1   1.2.2              TRUE\n",
      "brio         1.1.2   1.1.3              TRUE\n",
      "desc         1.3.0   1.4.0             FALSE\n",
      "pkgload      1.2.1   1.2.4             FALSE\n",
      "waldo        0.2.5   0.3.1             FALSE\n",
      "backports    1.2.1   1.4.1              TRUE\n",
      "generics     0.1.0   0.1.2             FALSE\n",
      "glue         1.4.2   1.6.1              TRUE\n",
      "rlang       0.4.11   1.0.1              TRUE\n",
      "tibble       3.1.1   3.1.6              TRUE\n",
      "tidyr        1.1.3   1.2.0              TRUE\n",
      "ggplot2      3.3.3   3.3.5             FALSE\n",
      "lifecycle    1.0.0   1.0.1             FALSE\n",
      "R6           2.5.0   2.5.1             FALSE\n",
      "pillar       1.6.0   1.7.0             FALSE\n",
      "yaml         2.2.1   2.2.2              TRUE\n",
      "xfun          0.22    0.29              TRUE\n",
      "testthat     3.0.2   3.1.2              TRUE\n",
      "Matrix       1.3-3   1.4-0              TRUE\n",
      "broom        0.7.6  0.7.12             FALSE\n",
      "dplyr        1.0.6   1.0.8              TRUE\n",
      "magrittr     2.0.1   2.0.2              TRUE\n",
      "knitr         1.33    1.37             FALSE\n",
      "sp           1.4-5   1.4-6              TRUE\n",
      "lattice    0.20-44 0.20-45              TRUE\n",
      "nloptr     1.2.2.2   2.0.0              TRUE\n",
      "carData      3.0-4   3.0-5             FALSE\n",
      "MASS        7.3-54  7.3-55              TRUE\n",
      "mgcv        1.8-35  1.8-38              TRUE\n",
      "nnet        7.3-16  7.3-17              TRUE\n",
      "quantreg      5.85    5.88              TRUE\n",
      "maptools     1.1-1   1.1-2              TRUE\n",
      "lme4        1.1-26  1.1-28              TRUE\n",
      "nlme       3.1-152 3.1-155              TRUE\n",
      "car         3.0-10  3.0-12             FALSE\n",
      "\n",
      "  Binaries will be installed\n",
      "package 'colorspace' successfully unpacked and MD5 sums checked\n",
      "package 'farver' successfully unpacked and MD5 sums checked\n",
      "package 'labeling' successfully unpacked and MD5 sums checked\n",
      "package 'munsell' successfully unpacked and MD5 sums checked\n",
      "package 'RColorBrewer' successfully unpacked and MD5 sums checked\n",
      "package 'viridisLite' successfully unpacked and MD5 sums checked\n",
      "package 'rprojroot' successfully unpacked and MD5 sums checked\n",
      "package 'rstudioapi' successfully unpacked and MD5 sums checked\n",
      "package 'diffobj' successfully unpacked and MD5 sums checked\n",
      "package 'rematch2' successfully unpacked and MD5 sums checked\n",
      "package 'stringi' successfully unpacked and MD5 sums checked\n",
      "package 'fansi' successfully unpacked and MD5 sums checked\n",
      "package 'pkgconfig' successfully unpacked and MD5 sums checked\n",
      "package 'gtable' successfully unpacked and MD5 sums checked\n",
      "package 'isoband' successfully unpacked and MD5 sums checked\n",
      "package 'scales' successfully unpacked and MD5 sums checked\n",
      "package 'cli' successfully unpacked and MD5 sums checked\n",
      "package 'utf8' successfully unpacked and MD5 sums checked\n",
      "package 'brio' successfully unpacked and MD5 sums checked\n",
      "package 'callr' successfully unpacked and MD5 sums checked\n",
      "package 'praise' successfully unpacked and MD5 sums checked\n",
      "package 'processx' successfully unpacked and MD5 sums checked\n",
      "package 'ps' successfully unpacked and MD5 sums checked\n",
      "package 'backports' successfully unpacked and MD5 sums checked\n",
      "package 'ellipsis' successfully unpacked and MD5 sums checked\n",
      "package 'glue' successfully unpacked and MD5 sums checked\n",
      "package 'purrr' successfully unpacked and MD5 sums checked\n",
      "package 'rlang' successfully unpacked and MD5 sums checked\n",
      "package 'stringr' successfully unpacked and MD5 sums checked\n",
      "package 'tibble' successfully unpacked and MD5 sums checked\n",
      "package 'tidyr' successfully unpacked and MD5 sums checked\n",
      "package 'tidyselect' successfully unpacked and MD5 sums checked\n",
      "package 'vctrs' successfully unpacked and MD5 sums checked\n",
      "package 'highr' successfully unpacked and MD5 sums checked\n",
      "package 'yaml' successfully unpacked and MD5 sums checked\n",
      "package 'xfun' successfully unpacked and MD5 sums checked\n",
      "package 'testthat' successfully unpacked and MD5 sums checked\n",
      "package 'Matrix' successfully unpacked and MD5 sums checked\n",
      "package 'dplyr' successfully unpacked and MD5 sums checked\n",
      "package 'magrittr' successfully unpacked and MD5 sums checked\n",
      "package 'numDeriv' successfully unpacked and MD5 sums checked\n",
      "package 'SparseM' successfully unpacked and MD5 sums checked\n",
      "package 'MatrixModels' successfully unpacked and MD5 sums checked\n",
      "package 'sp' successfully unpacked and MD5 sums checked\n",
      "package 'lattice' successfully unpacked and MD5 sums checked\n",
      "package 'boot' successfully unpacked and MD5 sums checked\n",
      "package 'minqa' successfully unpacked and MD5 sums checked\n",
      "package 'nloptr' successfully unpacked and MD5 sums checked\n",
      "package 'RcppEigen' successfully unpacked and MD5 sums checked\n",
      "package 'abind' successfully unpacked and MD5 sums checked\n",
      "package 'MASS' successfully unpacked and MD5 sums checked\n",
      "package 'mgcv' successfully unpacked and MD5 sums checked\n",
      "package 'nnet' successfully unpacked and MD5 sums checked\n",
      "package 'pbkrtest' successfully unpacked and MD5 sums checked\n",
      "package 'quantreg' successfully unpacked and MD5 sums checked\n",
      "package 'maptools' successfully unpacked and MD5 sums checked\n",
      "package 'lme4' successfully unpacked and MD5 sums checked\n",
      "package 'nlme' successfully unpacked and MD5 sums checked\n",
      "\n",
      "The downloaded binary packages are in\n",
      "\tC:\\Users\\user\\AppData\\Local\\Temp\\RtmpaiXhf8\\downloaded_packages\n"
     ]
    },
    {
     "name": "stderr",
     "output_type": "stream",
     "text": [
      "installing the source packages 'cpp11', 'withr', 'desc', 'pkgload', 'waldo', 'generics', 'ggplot2', 'lifecycle', 'R6', 'pillar', 'broom', 'knitr', 'carData', 'car'\n",
      "\n",
      "Warning message in install.packages(\"car\"):\n",
      "\"installation of package 'knitr' had non-zero exit status\"Warning message in install.packages(\"car\"):\n",
      "\"installation of package 'ggplot2' had non-zero exit status\"Warning message in install.packages(\"car\"):\n",
      "\"installation of package 'broom' had non-zero exit status\""
     ]
    }
   ],
   "source": [
    "install.packages(\"car\")"
   ]
  },
  {
   "cell_type": "code",
   "execution_count": 2,
   "id": "13e04d86",
   "metadata": {
    "ExecuteTime": {
     "end_time": "2022-02-16T05:35:02.987811Z",
     "start_time": "2022-02-16T05:35:02.885Z"
    }
   },
   "outputs": [
    {
     "name": "stderr",
     "output_type": "stream",
     "text": [
      "Loading required package: carData\n"
     ]
    }
   ],
   "source": [
    "library(car)"
   ]
  },
  {
   "cell_type": "code",
   "execution_count": 4,
   "id": "ca2f6495",
   "metadata": {
    "ExecuteTime": {
     "end_time": "2022-02-16T05:35:19.502748Z",
     "start_time": "2022-02-16T05:35:19.412Z"
    },
    "scrolled": true
   },
   "outputs": [
    {
     "data": {
      "text/html": [
       "<table>\n",
       "<thead><tr><th></th><th scope=col>mpg</th><th scope=col>cyl</th><th scope=col>disp</th><th scope=col>hp</th><th scope=col>drat</th><th scope=col>wt</th><th scope=col>qsec</th><th scope=col>vs</th><th scope=col>am</th><th scope=col>gear</th><th scope=col>carb</th></tr></thead>\n",
       "<tbody>\n",
       "\t<tr><th scope=row>Mazda RX4</th><td>21.0 </td><td>6    </td><td>160.0</td><td>110  </td><td>3.90 </td><td>2.620</td><td>16.46</td><td>0    </td><td>1    </td><td>4    </td><td>4    </td></tr>\n",
       "\t<tr><th scope=row>Mazda RX4 Wag</th><td>21.0 </td><td>6    </td><td>160.0</td><td>110  </td><td>3.90 </td><td>2.875</td><td>17.02</td><td>0    </td><td>1    </td><td>4    </td><td>4    </td></tr>\n",
       "\t<tr><th scope=row>Datsun 710</th><td>22.8 </td><td>4    </td><td>108.0</td><td> 93  </td><td>3.85 </td><td>2.320</td><td>18.61</td><td>1    </td><td>1    </td><td>4    </td><td>1    </td></tr>\n",
       "\t<tr><th scope=row>Hornet 4 Drive</th><td>21.4 </td><td>6    </td><td>258.0</td><td>110  </td><td>3.08 </td><td>3.215</td><td>19.44</td><td>1    </td><td>0    </td><td>3    </td><td>1    </td></tr>\n",
       "\t<tr><th scope=row>Hornet Sportabout</th><td>18.7 </td><td>8    </td><td>360.0</td><td>175  </td><td>3.15 </td><td>3.440</td><td>17.02</td><td>0    </td><td>0    </td><td>3    </td><td>2    </td></tr>\n",
       "\t<tr><th scope=row>Valiant</th><td>18.1 </td><td>6    </td><td>225.0</td><td>105  </td><td>2.76 </td><td>3.460</td><td>20.22</td><td>1    </td><td>0    </td><td>3    </td><td>1    </td></tr>\n",
       "\t<tr><th scope=row>Duster 360</th><td>14.3 </td><td>8    </td><td>360.0</td><td>245  </td><td>3.21 </td><td>3.570</td><td>15.84</td><td>0    </td><td>0    </td><td>3    </td><td>4    </td></tr>\n",
       "\t<tr><th scope=row>Merc 240D</th><td>24.4 </td><td>4    </td><td>146.7</td><td> 62  </td><td>3.69 </td><td>3.190</td><td>20.00</td><td>1    </td><td>0    </td><td>4    </td><td>2    </td></tr>\n",
       "\t<tr><th scope=row>Merc 230</th><td>22.8 </td><td>4    </td><td>140.8</td><td> 95  </td><td>3.92 </td><td>3.150</td><td>22.90</td><td>1    </td><td>0    </td><td>4    </td><td>2    </td></tr>\n",
       "\t<tr><th scope=row>Merc 280</th><td>19.2 </td><td>6    </td><td>167.6</td><td>123  </td><td>3.92 </td><td>3.440</td><td>18.30</td><td>1    </td><td>0    </td><td>4    </td><td>4    </td></tr>\n",
       "\t<tr><th scope=row>Merc 280C</th><td>17.8 </td><td>6    </td><td>167.6</td><td>123  </td><td>3.92 </td><td>3.440</td><td>18.90</td><td>1    </td><td>0    </td><td>4    </td><td>4    </td></tr>\n",
       "\t<tr><th scope=row>Merc 450SE</th><td>16.4 </td><td>8    </td><td>275.8</td><td>180  </td><td>3.07 </td><td>4.070</td><td>17.40</td><td>0    </td><td>0    </td><td>3    </td><td>3    </td></tr>\n",
       "\t<tr><th scope=row>Merc 450SL</th><td>17.3 </td><td>8    </td><td>275.8</td><td>180  </td><td>3.07 </td><td>3.730</td><td>17.60</td><td>0    </td><td>0    </td><td>3    </td><td>3    </td></tr>\n",
       "\t<tr><th scope=row>Merc 450SLC</th><td>15.2 </td><td>8    </td><td>275.8</td><td>180  </td><td>3.07 </td><td>3.780</td><td>18.00</td><td>0    </td><td>0    </td><td>3    </td><td>3    </td></tr>\n",
       "\t<tr><th scope=row>Cadillac Fleetwood</th><td>10.4 </td><td>8    </td><td>472.0</td><td>205  </td><td>2.93 </td><td>5.250</td><td>17.98</td><td>0    </td><td>0    </td><td>3    </td><td>4    </td></tr>\n",
       "\t<tr><th scope=row>Lincoln Continental</th><td>10.4 </td><td>8    </td><td>460.0</td><td>215  </td><td>3.00 </td><td>5.424</td><td>17.82</td><td>0    </td><td>0    </td><td>3    </td><td>4    </td></tr>\n",
       "\t<tr><th scope=row>Chrysler Imperial</th><td>14.7 </td><td>8    </td><td>440.0</td><td>230  </td><td>3.23 </td><td>5.345</td><td>17.42</td><td>0    </td><td>0    </td><td>3    </td><td>4    </td></tr>\n",
       "\t<tr><th scope=row>Fiat 128</th><td>32.4 </td><td>4    </td><td> 78.7</td><td> 66  </td><td>4.08 </td><td>2.200</td><td>19.47</td><td>1    </td><td>1    </td><td>4    </td><td>1    </td></tr>\n",
       "\t<tr><th scope=row>Honda Civic</th><td>30.4 </td><td>4    </td><td> 75.7</td><td> 52  </td><td>4.93 </td><td>1.615</td><td>18.52</td><td>1    </td><td>1    </td><td>4    </td><td>2    </td></tr>\n",
       "\t<tr><th scope=row>Toyota Corolla</th><td>33.9 </td><td>4    </td><td> 71.1</td><td> 65  </td><td>4.22 </td><td>1.835</td><td>19.90</td><td>1    </td><td>1    </td><td>4    </td><td>1    </td></tr>\n",
       "\t<tr><th scope=row>Toyota Corona</th><td>21.5 </td><td>4    </td><td>120.1</td><td> 97  </td><td>3.70 </td><td>2.465</td><td>20.01</td><td>1    </td><td>0    </td><td>3    </td><td>1    </td></tr>\n",
       "\t<tr><th scope=row>Dodge Challenger</th><td>15.5 </td><td>8    </td><td>318.0</td><td>150  </td><td>2.76 </td><td>3.520</td><td>16.87</td><td>0    </td><td>0    </td><td>3    </td><td>2    </td></tr>\n",
       "\t<tr><th scope=row>AMC Javelin</th><td>15.2 </td><td>8    </td><td>304.0</td><td>150  </td><td>3.15 </td><td>3.435</td><td>17.30</td><td>0    </td><td>0    </td><td>3    </td><td>2    </td></tr>\n",
       "\t<tr><th scope=row>Camaro Z28</th><td>13.3 </td><td>8    </td><td>350.0</td><td>245  </td><td>3.73 </td><td>3.840</td><td>15.41</td><td>0    </td><td>0    </td><td>3    </td><td>4    </td></tr>\n",
       "\t<tr><th scope=row>Pontiac Firebird</th><td>19.2 </td><td>8    </td><td>400.0</td><td>175  </td><td>3.08 </td><td>3.845</td><td>17.05</td><td>0    </td><td>0    </td><td>3    </td><td>2    </td></tr>\n",
       "\t<tr><th scope=row>Fiat X1-9</th><td>27.3 </td><td>4    </td><td> 79.0</td><td> 66  </td><td>4.08 </td><td>1.935</td><td>18.90</td><td>1    </td><td>1    </td><td>4    </td><td>1    </td></tr>\n",
       "\t<tr><th scope=row>Porsche 914-2</th><td>26.0 </td><td>4    </td><td>120.3</td><td> 91  </td><td>4.43 </td><td>2.140</td><td>16.70</td><td>0    </td><td>1    </td><td>5    </td><td>2    </td></tr>\n",
       "\t<tr><th scope=row>Lotus Europa</th><td>30.4 </td><td>4    </td><td> 95.1</td><td>113  </td><td>3.77 </td><td>1.513</td><td>16.90</td><td>1    </td><td>1    </td><td>5    </td><td>2    </td></tr>\n",
       "\t<tr><th scope=row>Ford Pantera L</th><td>15.8 </td><td>8    </td><td>351.0</td><td>264  </td><td>4.22 </td><td>3.170</td><td>14.50</td><td>0    </td><td>1    </td><td>5    </td><td>4    </td></tr>\n",
       "\t<tr><th scope=row>Ferrari Dino</th><td>19.7 </td><td>6    </td><td>145.0</td><td>175  </td><td>3.62 </td><td>2.770</td><td>15.50</td><td>0    </td><td>1    </td><td>5    </td><td>6    </td></tr>\n",
       "\t<tr><th scope=row>Maserati Bora</th><td>15.0 </td><td>8    </td><td>301.0</td><td>335  </td><td>3.54 </td><td>3.570</td><td>14.60</td><td>0    </td><td>1    </td><td>5    </td><td>8    </td></tr>\n",
       "\t<tr><th scope=row>Volvo 142E</th><td>21.4 </td><td>4    </td><td>121.0</td><td>109  </td><td>4.11 </td><td>2.780</td><td>18.60</td><td>1    </td><td>1    </td><td>4    </td><td>2    </td></tr>\n",
       "</tbody>\n",
       "</table>\n"
      ],
      "text/latex": [
       "\\begin{tabular}{r|lllllllllll}\n",
       "  & mpg & cyl & disp & hp & drat & wt & qsec & vs & am & gear & carb\\\\\n",
       "\\hline\n",
       "\tMazda RX4 & 21.0  & 6     & 160.0 & 110   & 3.90  & 2.620 & 16.46 & 0     & 1     & 4     & 4    \\\\\n",
       "\tMazda RX4 Wag & 21.0  & 6     & 160.0 & 110   & 3.90  & 2.875 & 17.02 & 0     & 1     & 4     & 4    \\\\\n",
       "\tDatsun 710 & 22.8  & 4     & 108.0 &  93   & 3.85  & 2.320 & 18.61 & 1     & 1     & 4     & 1    \\\\\n",
       "\tHornet 4 Drive & 21.4  & 6     & 258.0 & 110   & 3.08  & 3.215 & 19.44 & 1     & 0     & 3     & 1    \\\\\n",
       "\tHornet Sportabout & 18.7  & 8     & 360.0 & 175   & 3.15  & 3.440 & 17.02 & 0     & 0     & 3     & 2    \\\\\n",
       "\tValiant & 18.1  & 6     & 225.0 & 105   & 2.76  & 3.460 & 20.22 & 1     & 0     & 3     & 1    \\\\\n",
       "\tDuster 360 & 14.3  & 8     & 360.0 & 245   & 3.21  & 3.570 & 15.84 & 0     & 0     & 3     & 4    \\\\\n",
       "\tMerc 240D & 24.4  & 4     & 146.7 &  62   & 3.69  & 3.190 & 20.00 & 1     & 0     & 4     & 2    \\\\\n",
       "\tMerc 230 & 22.8  & 4     & 140.8 &  95   & 3.92  & 3.150 & 22.90 & 1     & 0     & 4     & 2    \\\\\n",
       "\tMerc 280 & 19.2  & 6     & 167.6 & 123   & 3.92  & 3.440 & 18.30 & 1     & 0     & 4     & 4    \\\\\n",
       "\tMerc 280C & 17.8  & 6     & 167.6 & 123   & 3.92  & 3.440 & 18.90 & 1     & 0     & 4     & 4    \\\\\n",
       "\tMerc 450SE & 16.4  & 8     & 275.8 & 180   & 3.07  & 4.070 & 17.40 & 0     & 0     & 3     & 3    \\\\\n",
       "\tMerc 450SL & 17.3  & 8     & 275.8 & 180   & 3.07  & 3.730 & 17.60 & 0     & 0     & 3     & 3    \\\\\n",
       "\tMerc 450SLC & 15.2  & 8     & 275.8 & 180   & 3.07  & 3.780 & 18.00 & 0     & 0     & 3     & 3    \\\\\n",
       "\tCadillac Fleetwood & 10.4  & 8     & 472.0 & 205   & 2.93  & 5.250 & 17.98 & 0     & 0     & 3     & 4    \\\\\n",
       "\tLincoln Continental & 10.4  & 8     & 460.0 & 215   & 3.00  & 5.424 & 17.82 & 0     & 0     & 3     & 4    \\\\\n",
       "\tChrysler Imperial & 14.7  & 8     & 440.0 & 230   & 3.23  & 5.345 & 17.42 & 0     & 0     & 3     & 4    \\\\\n",
       "\tFiat 128 & 32.4  & 4     &  78.7 &  66   & 4.08  & 2.200 & 19.47 & 1     & 1     & 4     & 1    \\\\\n",
       "\tHonda Civic & 30.4  & 4     &  75.7 &  52   & 4.93  & 1.615 & 18.52 & 1     & 1     & 4     & 2    \\\\\n",
       "\tToyota Corolla & 33.9  & 4     &  71.1 &  65   & 4.22  & 1.835 & 19.90 & 1     & 1     & 4     & 1    \\\\\n",
       "\tToyota Corona & 21.5  & 4     & 120.1 &  97   & 3.70  & 2.465 & 20.01 & 1     & 0     & 3     & 1    \\\\\n",
       "\tDodge Challenger & 15.5  & 8     & 318.0 & 150   & 2.76  & 3.520 & 16.87 & 0     & 0     & 3     & 2    \\\\\n",
       "\tAMC Javelin & 15.2  & 8     & 304.0 & 150   & 3.15  & 3.435 & 17.30 & 0     & 0     & 3     & 2    \\\\\n",
       "\tCamaro Z28 & 13.3  & 8     & 350.0 & 245   & 3.73  & 3.840 & 15.41 & 0     & 0     & 3     & 4    \\\\\n",
       "\tPontiac Firebird & 19.2  & 8     & 400.0 & 175   & 3.08  & 3.845 & 17.05 & 0     & 0     & 3     & 2    \\\\\n",
       "\tFiat X1-9 & 27.3  & 4     &  79.0 &  66   & 4.08  & 1.935 & 18.90 & 1     & 1     & 4     & 1    \\\\\n",
       "\tPorsche 914-2 & 26.0  & 4     & 120.3 &  91   & 4.43  & 2.140 & 16.70 & 0     & 1     & 5     & 2    \\\\\n",
       "\tLotus Europa & 30.4  & 4     &  95.1 & 113   & 3.77  & 1.513 & 16.90 & 1     & 1     & 5     & 2    \\\\\n",
       "\tFord Pantera L & 15.8  & 8     & 351.0 & 264   & 4.22  & 3.170 & 14.50 & 0     & 1     & 5     & 4    \\\\\n",
       "\tFerrari Dino & 19.7  & 6     & 145.0 & 175   & 3.62  & 2.770 & 15.50 & 0     & 1     & 5     & 6    \\\\\n",
       "\tMaserati Bora & 15.0  & 8     & 301.0 & 335   & 3.54  & 3.570 & 14.60 & 0     & 1     & 5     & 8    \\\\\n",
       "\tVolvo 142E & 21.4  & 4     & 121.0 & 109   & 4.11  & 2.780 & 18.60 & 1     & 1     & 4     & 2    \\\\\n",
       "\\end{tabular}\n"
      ],
      "text/markdown": [
       "\n",
       "| <!--/--> | mpg | cyl | disp | hp | drat | wt | qsec | vs | am | gear | carb |\n",
       "|---|---|---|---|---|---|---|---|---|---|---|---|\n",
       "| Mazda RX4 | 21.0  | 6     | 160.0 | 110   | 3.90  | 2.620 | 16.46 | 0     | 1     | 4     | 4     |\n",
       "| Mazda RX4 Wag | 21.0  | 6     | 160.0 | 110   | 3.90  | 2.875 | 17.02 | 0     | 1     | 4     | 4     |\n",
       "| Datsun 710 | 22.8  | 4     | 108.0 |  93   | 3.85  | 2.320 | 18.61 | 1     | 1     | 4     | 1     |\n",
       "| Hornet 4 Drive | 21.4  | 6     | 258.0 | 110   | 3.08  | 3.215 | 19.44 | 1     | 0     | 3     | 1     |\n",
       "| Hornet Sportabout | 18.7  | 8     | 360.0 | 175   | 3.15  | 3.440 | 17.02 | 0     | 0     | 3     | 2     |\n",
       "| Valiant | 18.1  | 6     | 225.0 | 105   | 2.76  | 3.460 | 20.22 | 1     | 0     | 3     | 1     |\n",
       "| Duster 360 | 14.3  | 8     | 360.0 | 245   | 3.21  | 3.570 | 15.84 | 0     | 0     | 3     | 4     |\n",
       "| Merc 240D | 24.4  | 4     | 146.7 |  62   | 3.69  | 3.190 | 20.00 | 1     | 0     | 4     | 2     |\n",
       "| Merc 230 | 22.8  | 4     | 140.8 |  95   | 3.92  | 3.150 | 22.90 | 1     | 0     | 4     | 2     |\n",
       "| Merc 280 | 19.2  | 6     | 167.6 | 123   | 3.92  | 3.440 | 18.30 | 1     | 0     | 4     | 4     |\n",
       "| Merc 280C | 17.8  | 6     | 167.6 | 123   | 3.92  | 3.440 | 18.90 | 1     | 0     | 4     | 4     |\n",
       "| Merc 450SE | 16.4  | 8     | 275.8 | 180   | 3.07  | 4.070 | 17.40 | 0     | 0     | 3     | 3     |\n",
       "| Merc 450SL | 17.3  | 8     | 275.8 | 180   | 3.07  | 3.730 | 17.60 | 0     | 0     | 3     | 3     |\n",
       "| Merc 450SLC | 15.2  | 8     | 275.8 | 180   | 3.07  | 3.780 | 18.00 | 0     | 0     | 3     | 3     |\n",
       "| Cadillac Fleetwood | 10.4  | 8     | 472.0 | 205   | 2.93  | 5.250 | 17.98 | 0     | 0     | 3     | 4     |\n",
       "| Lincoln Continental | 10.4  | 8     | 460.0 | 215   | 3.00  | 5.424 | 17.82 | 0     | 0     | 3     | 4     |\n",
       "| Chrysler Imperial | 14.7  | 8     | 440.0 | 230   | 3.23  | 5.345 | 17.42 | 0     | 0     | 3     | 4     |\n",
       "| Fiat 128 | 32.4  | 4     |  78.7 |  66   | 4.08  | 2.200 | 19.47 | 1     | 1     | 4     | 1     |\n",
       "| Honda Civic | 30.4  | 4     |  75.7 |  52   | 4.93  | 1.615 | 18.52 | 1     | 1     | 4     | 2     |\n",
       "| Toyota Corolla | 33.9  | 4     |  71.1 |  65   | 4.22  | 1.835 | 19.90 | 1     | 1     | 4     | 1     |\n",
       "| Toyota Corona | 21.5  | 4     | 120.1 |  97   | 3.70  | 2.465 | 20.01 | 1     | 0     | 3     | 1     |\n",
       "| Dodge Challenger | 15.5  | 8     | 318.0 | 150   | 2.76  | 3.520 | 16.87 | 0     | 0     | 3     | 2     |\n",
       "| AMC Javelin | 15.2  | 8     | 304.0 | 150   | 3.15  | 3.435 | 17.30 | 0     | 0     | 3     | 2     |\n",
       "| Camaro Z28 | 13.3  | 8     | 350.0 | 245   | 3.73  | 3.840 | 15.41 | 0     | 0     | 3     | 4     |\n",
       "| Pontiac Firebird | 19.2  | 8     | 400.0 | 175   | 3.08  | 3.845 | 17.05 | 0     | 0     | 3     | 2     |\n",
       "| Fiat X1-9 | 27.3  | 4     |  79.0 |  66   | 4.08  | 1.935 | 18.90 | 1     | 1     | 4     | 1     |\n",
       "| Porsche 914-2 | 26.0  | 4     | 120.3 |  91   | 4.43  | 2.140 | 16.70 | 0     | 1     | 5     | 2     |\n",
       "| Lotus Europa | 30.4  | 4     |  95.1 | 113   | 3.77  | 1.513 | 16.90 | 1     | 1     | 5     | 2     |\n",
       "| Ford Pantera L | 15.8  | 8     | 351.0 | 264   | 4.22  | 3.170 | 14.50 | 0     | 1     | 5     | 4     |\n",
       "| Ferrari Dino | 19.7  | 6     | 145.0 | 175   | 3.62  | 2.770 | 15.50 | 0     | 1     | 5     | 6     |\n",
       "| Maserati Bora | 15.0  | 8     | 301.0 | 335   | 3.54  | 3.570 | 14.60 | 0     | 1     | 5     | 8     |\n",
       "| Volvo 142E | 21.4  | 4     | 121.0 | 109   | 4.11  | 2.780 | 18.60 | 1     | 1     | 4     | 2     |\n",
       "\n"
      ],
      "text/plain": [
       "                    mpg  cyl disp  hp  drat wt    qsec  vs am gear carb\n",
       "Mazda RX4           21.0 6   160.0 110 3.90 2.620 16.46 0  1  4    4   \n",
       "Mazda RX4 Wag       21.0 6   160.0 110 3.90 2.875 17.02 0  1  4    4   \n",
       "Datsun 710          22.8 4   108.0  93 3.85 2.320 18.61 1  1  4    1   \n",
       "Hornet 4 Drive      21.4 6   258.0 110 3.08 3.215 19.44 1  0  3    1   \n",
       "Hornet Sportabout   18.7 8   360.0 175 3.15 3.440 17.02 0  0  3    2   \n",
       "Valiant             18.1 6   225.0 105 2.76 3.460 20.22 1  0  3    1   \n",
       "Duster 360          14.3 8   360.0 245 3.21 3.570 15.84 0  0  3    4   \n",
       "Merc 240D           24.4 4   146.7  62 3.69 3.190 20.00 1  0  4    2   \n",
       "Merc 230            22.8 4   140.8  95 3.92 3.150 22.90 1  0  4    2   \n",
       "Merc 280            19.2 6   167.6 123 3.92 3.440 18.30 1  0  4    4   \n",
       "Merc 280C           17.8 6   167.6 123 3.92 3.440 18.90 1  0  4    4   \n",
       "Merc 450SE          16.4 8   275.8 180 3.07 4.070 17.40 0  0  3    3   \n",
       "Merc 450SL          17.3 8   275.8 180 3.07 3.730 17.60 0  0  3    3   \n",
       "Merc 450SLC         15.2 8   275.8 180 3.07 3.780 18.00 0  0  3    3   \n",
       "Cadillac Fleetwood  10.4 8   472.0 205 2.93 5.250 17.98 0  0  3    4   \n",
       "Lincoln Continental 10.4 8   460.0 215 3.00 5.424 17.82 0  0  3    4   \n",
       "Chrysler Imperial   14.7 8   440.0 230 3.23 5.345 17.42 0  0  3    4   \n",
       "Fiat 128            32.4 4    78.7  66 4.08 2.200 19.47 1  1  4    1   \n",
       "Honda Civic         30.4 4    75.7  52 4.93 1.615 18.52 1  1  4    2   \n",
       "Toyota Corolla      33.9 4    71.1  65 4.22 1.835 19.90 1  1  4    1   \n",
       "Toyota Corona       21.5 4   120.1  97 3.70 2.465 20.01 1  0  3    1   \n",
       "Dodge Challenger    15.5 8   318.0 150 2.76 3.520 16.87 0  0  3    2   \n",
       "AMC Javelin         15.2 8   304.0 150 3.15 3.435 17.30 0  0  3    2   \n",
       "Camaro Z28          13.3 8   350.0 245 3.73 3.840 15.41 0  0  3    4   \n",
       "Pontiac Firebird    19.2 8   400.0 175 3.08 3.845 17.05 0  0  3    2   \n",
       "Fiat X1-9           27.3 4    79.0  66 4.08 1.935 18.90 1  1  4    1   \n",
       "Porsche 914-2       26.0 4   120.3  91 4.43 2.140 16.70 0  1  5    2   \n",
       "Lotus Europa        30.4 4    95.1 113 3.77 1.513 16.90 1  1  5    2   \n",
       "Ford Pantera L      15.8 8   351.0 264 4.22 3.170 14.50 0  1  5    4   \n",
       "Ferrari Dino        19.7 6   145.0 175 3.62 2.770 15.50 0  1  5    6   \n",
       "Maserati Bora       15.0 8   301.0 335 3.54 3.570 14.60 0  1  5    8   \n",
       "Volvo 142E          21.4 4   121.0 109 4.11 2.780 18.60 1  1  4    2   "
      ]
     },
     "metadata": {},
     "output_type": "display_data"
    }
   ],
   "source": [
    "mtcars"
   ]
  },
  {
   "cell_type": "code",
   "execution_count": 7,
   "id": "f916c1a7",
   "metadata": {
    "ExecuteTime": {
     "end_time": "2022-02-16T05:38:33.607510Z",
     "start_time": "2022-02-16T05:38:33.539Z"
    },
    "scrolled": true
   },
   "outputs": [
    {
     "data": {
      "text/html": [
       "<table>\n",
       "<thead><tr><th></th><th scope=col>mpg</th><th scope=col>disp</th><th scope=col>hp</th><th scope=col>drat</th></tr></thead>\n",
       "<tbody>\n",
       "\t<tr><th scope=row>Mazda RX4</th><td>21.0 </td><td>160.0</td><td>110  </td><td>3.90 </td></tr>\n",
       "\t<tr><th scope=row>Mazda RX4 Wag</th><td>21.0 </td><td>160.0</td><td>110  </td><td>3.90 </td></tr>\n",
       "\t<tr><th scope=row>Datsun 710</th><td>22.8 </td><td>108.0</td><td> 93  </td><td>3.85 </td></tr>\n",
       "\t<tr><th scope=row>Hornet 4 Drive</th><td>21.4 </td><td>258.0</td><td>110  </td><td>3.08 </td></tr>\n",
       "\t<tr><th scope=row>Hornet Sportabout</th><td>18.7 </td><td>360.0</td><td>175  </td><td>3.15 </td></tr>\n",
       "\t<tr><th scope=row>Valiant</th><td>18.1 </td><td>225.0</td><td>105  </td><td>2.76 </td></tr>\n",
       "\t<tr><th scope=row>Duster 360</th><td>14.3 </td><td>360.0</td><td>245  </td><td>3.21 </td></tr>\n",
       "\t<tr><th scope=row>Merc 240D</th><td>24.4 </td><td>146.7</td><td> 62  </td><td>3.69 </td></tr>\n",
       "\t<tr><th scope=row>Merc 230</th><td>22.8 </td><td>140.8</td><td> 95  </td><td>3.92 </td></tr>\n",
       "\t<tr><th scope=row>Merc 280</th><td>19.2 </td><td>167.6</td><td>123  </td><td>3.92 </td></tr>\n",
       "\t<tr><th scope=row>Merc 280C</th><td>17.8 </td><td>167.6</td><td>123  </td><td>3.92 </td></tr>\n",
       "\t<tr><th scope=row>Merc 450SE</th><td>16.4 </td><td>275.8</td><td>180  </td><td>3.07 </td></tr>\n",
       "\t<tr><th scope=row>Merc 450SL</th><td>17.3 </td><td>275.8</td><td>180  </td><td>3.07 </td></tr>\n",
       "\t<tr><th scope=row>Merc 450SLC</th><td>15.2 </td><td>275.8</td><td>180  </td><td>3.07 </td></tr>\n",
       "\t<tr><th scope=row>Cadillac Fleetwood</th><td>10.4 </td><td>472.0</td><td>205  </td><td>2.93 </td></tr>\n",
       "\t<tr><th scope=row>Lincoln Continental</th><td>10.4 </td><td>460.0</td><td>215  </td><td>3.00 </td></tr>\n",
       "\t<tr><th scope=row>Chrysler Imperial</th><td>14.7 </td><td>440.0</td><td>230  </td><td>3.23 </td></tr>\n",
       "\t<tr><th scope=row>Fiat 128</th><td>32.4 </td><td> 78.7</td><td> 66  </td><td>4.08 </td></tr>\n",
       "\t<tr><th scope=row>Honda Civic</th><td>30.4 </td><td> 75.7</td><td> 52  </td><td>4.93 </td></tr>\n",
       "\t<tr><th scope=row>Toyota Corolla</th><td>33.9 </td><td> 71.1</td><td> 65  </td><td>4.22 </td></tr>\n",
       "\t<tr><th scope=row>Toyota Corona</th><td>21.5 </td><td>120.1</td><td> 97  </td><td>3.70 </td></tr>\n",
       "\t<tr><th scope=row>Dodge Challenger</th><td>15.5 </td><td>318.0</td><td>150  </td><td>2.76 </td></tr>\n",
       "\t<tr><th scope=row>AMC Javelin</th><td>15.2 </td><td>304.0</td><td>150  </td><td>3.15 </td></tr>\n",
       "\t<tr><th scope=row>Camaro Z28</th><td>13.3 </td><td>350.0</td><td>245  </td><td>3.73 </td></tr>\n",
       "\t<tr><th scope=row>Pontiac Firebird</th><td>19.2 </td><td>400.0</td><td>175  </td><td>3.08 </td></tr>\n",
       "\t<tr><th scope=row>Fiat X1-9</th><td>27.3 </td><td> 79.0</td><td> 66  </td><td>4.08 </td></tr>\n",
       "\t<tr><th scope=row>Porsche 914-2</th><td>26.0 </td><td>120.3</td><td> 91  </td><td>4.43 </td></tr>\n",
       "\t<tr><th scope=row>Lotus Europa</th><td>30.4 </td><td> 95.1</td><td>113  </td><td>3.77 </td></tr>\n",
       "\t<tr><th scope=row>Ford Pantera L</th><td>15.8 </td><td>351.0</td><td>264  </td><td>4.22 </td></tr>\n",
       "\t<tr><th scope=row>Ferrari Dino</th><td>19.7 </td><td>145.0</td><td>175  </td><td>3.62 </td></tr>\n",
       "\t<tr><th scope=row>Maserati Bora</th><td>15.0 </td><td>301.0</td><td>335  </td><td>3.54 </td></tr>\n",
       "\t<tr><th scope=row>Volvo 142E</th><td>21.4 </td><td>121.0</td><td>109  </td><td>4.11 </td></tr>\n",
       "</tbody>\n",
       "</table>\n"
      ],
      "text/latex": [
       "\\begin{tabular}{r|llll}\n",
       "  & mpg & disp & hp & drat\\\\\n",
       "\\hline\n",
       "\tMazda RX4 & 21.0  & 160.0 & 110   & 3.90 \\\\\n",
       "\tMazda RX4 Wag & 21.0  & 160.0 & 110   & 3.90 \\\\\n",
       "\tDatsun 710 & 22.8  & 108.0 &  93   & 3.85 \\\\\n",
       "\tHornet 4 Drive & 21.4  & 258.0 & 110   & 3.08 \\\\\n",
       "\tHornet Sportabout & 18.7  & 360.0 & 175   & 3.15 \\\\\n",
       "\tValiant & 18.1  & 225.0 & 105   & 2.76 \\\\\n",
       "\tDuster 360 & 14.3  & 360.0 & 245   & 3.21 \\\\\n",
       "\tMerc 240D & 24.4  & 146.7 &  62   & 3.69 \\\\\n",
       "\tMerc 230 & 22.8  & 140.8 &  95   & 3.92 \\\\\n",
       "\tMerc 280 & 19.2  & 167.6 & 123   & 3.92 \\\\\n",
       "\tMerc 280C & 17.8  & 167.6 & 123   & 3.92 \\\\\n",
       "\tMerc 450SE & 16.4  & 275.8 & 180   & 3.07 \\\\\n",
       "\tMerc 450SL & 17.3  & 275.8 & 180   & 3.07 \\\\\n",
       "\tMerc 450SLC & 15.2  & 275.8 & 180   & 3.07 \\\\\n",
       "\tCadillac Fleetwood & 10.4  & 472.0 & 205   & 2.93 \\\\\n",
       "\tLincoln Continental & 10.4  & 460.0 & 215   & 3.00 \\\\\n",
       "\tChrysler Imperial & 14.7  & 440.0 & 230   & 3.23 \\\\\n",
       "\tFiat 128 & 32.4  &  78.7 &  66   & 4.08 \\\\\n",
       "\tHonda Civic & 30.4  &  75.7 &  52   & 4.93 \\\\\n",
       "\tToyota Corolla & 33.9  &  71.1 &  65   & 4.22 \\\\\n",
       "\tToyota Corona & 21.5  & 120.1 &  97   & 3.70 \\\\\n",
       "\tDodge Challenger & 15.5  & 318.0 & 150   & 2.76 \\\\\n",
       "\tAMC Javelin & 15.2  & 304.0 & 150   & 3.15 \\\\\n",
       "\tCamaro Z28 & 13.3  & 350.0 & 245   & 3.73 \\\\\n",
       "\tPontiac Firebird & 19.2  & 400.0 & 175   & 3.08 \\\\\n",
       "\tFiat X1-9 & 27.3  &  79.0 &  66   & 4.08 \\\\\n",
       "\tPorsche 914-2 & 26.0  & 120.3 &  91   & 4.43 \\\\\n",
       "\tLotus Europa & 30.4  &  95.1 & 113   & 3.77 \\\\\n",
       "\tFord Pantera L & 15.8  & 351.0 & 264   & 4.22 \\\\\n",
       "\tFerrari Dino & 19.7  & 145.0 & 175   & 3.62 \\\\\n",
       "\tMaserati Bora & 15.0  & 301.0 & 335   & 3.54 \\\\\n",
       "\tVolvo 142E & 21.4  & 121.0 & 109   & 4.11 \\\\\n",
       "\\end{tabular}\n"
      ],
      "text/markdown": [
       "\n",
       "| <!--/--> | mpg | disp | hp | drat |\n",
       "|---|---|---|---|---|\n",
       "| Mazda RX4 | 21.0  | 160.0 | 110   | 3.90  |\n",
       "| Mazda RX4 Wag | 21.0  | 160.0 | 110   | 3.90  |\n",
       "| Datsun 710 | 22.8  | 108.0 |  93   | 3.85  |\n",
       "| Hornet 4 Drive | 21.4  | 258.0 | 110   | 3.08  |\n",
       "| Hornet Sportabout | 18.7  | 360.0 | 175   | 3.15  |\n",
       "| Valiant | 18.1  | 225.0 | 105   | 2.76  |\n",
       "| Duster 360 | 14.3  | 360.0 | 245   | 3.21  |\n",
       "| Merc 240D | 24.4  | 146.7 |  62   | 3.69  |\n",
       "| Merc 230 | 22.8  | 140.8 |  95   | 3.92  |\n",
       "| Merc 280 | 19.2  | 167.6 | 123   | 3.92  |\n",
       "| Merc 280C | 17.8  | 167.6 | 123   | 3.92  |\n",
       "| Merc 450SE | 16.4  | 275.8 | 180   | 3.07  |\n",
       "| Merc 450SL | 17.3  | 275.8 | 180   | 3.07  |\n",
       "| Merc 450SLC | 15.2  | 275.8 | 180   | 3.07  |\n",
       "| Cadillac Fleetwood | 10.4  | 472.0 | 205   | 2.93  |\n",
       "| Lincoln Continental | 10.4  | 460.0 | 215   | 3.00  |\n",
       "| Chrysler Imperial | 14.7  | 440.0 | 230   | 3.23  |\n",
       "| Fiat 128 | 32.4  |  78.7 |  66   | 4.08  |\n",
       "| Honda Civic | 30.4  |  75.7 |  52   | 4.93  |\n",
       "| Toyota Corolla | 33.9  |  71.1 |  65   | 4.22  |\n",
       "| Toyota Corona | 21.5  | 120.1 |  97   | 3.70  |\n",
       "| Dodge Challenger | 15.5  | 318.0 | 150   | 2.76  |\n",
       "| AMC Javelin | 15.2  | 304.0 | 150   | 3.15  |\n",
       "| Camaro Z28 | 13.3  | 350.0 | 245   | 3.73  |\n",
       "| Pontiac Firebird | 19.2  | 400.0 | 175   | 3.08  |\n",
       "| Fiat X1-9 | 27.3  |  79.0 |  66   | 4.08  |\n",
       "| Porsche 914-2 | 26.0  | 120.3 |  91   | 4.43  |\n",
       "| Lotus Europa | 30.4  |  95.1 | 113   | 3.77  |\n",
       "| Ford Pantera L | 15.8  | 351.0 | 264   | 4.22  |\n",
       "| Ferrari Dino | 19.7  | 145.0 | 175   | 3.62  |\n",
       "| Maserati Bora | 15.0  | 301.0 | 335   | 3.54  |\n",
       "| Volvo 142E | 21.4  | 121.0 | 109   | 4.11  |\n",
       "\n"
      ],
      "text/plain": [
       "                    mpg  disp  hp  drat\n",
       "Mazda RX4           21.0 160.0 110 3.90\n",
       "Mazda RX4 Wag       21.0 160.0 110 3.90\n",
       "Datsun 710          22.8 108.0  93 3.85\n",
       "Hornet 4 Drive      21.4 258.0 110 3.08\n",
       "Hornet Sportabout   18.7 360.0 175 3.15\n",
       "Valiant             18.1 225.0 105 2.76\n",
       "Duster 360          14.3 360.0 245 3.21\n",
       "Merc 240D           24.4 146.7  62 3.69\n",
       "Merc 230            22.8 140.8  95 3.92\n",
       "Merc 280            19.2 167.6 123 3.92\n",
       "Merc 280C           17.8 167.6 123 3.92\n",
       "Merc 450SE          16.4 275.8 180 3.07\n",
       "Merc 450SL          17.3 275.8 180 3.07\n",
       "Merc 450SLC         15.2 275.8 180 3.07\n",
       "Cadillac Fleetwood  10.4 472.0 205 2.93\n",
       "Lincoln Continental 10.4 460.0 215 3.00\n",
       "Chrysler Imperial   14.7 440.0 230 3.23\n",
       "Fiat 128            32.4  78.7  66 4.08\n",
       "Honda Civic         30.4  75.7  52 4.93\n",
       "Toyota Corolla      33.9  71.1  65 4.22\n",
       "Toyota Corona       21.5 120.1  97 3.70\n",
       "Dodge Challenger    15.5 318.0 150 2.76\n",
       "AMC Javelin         15.2 304.0 150 3.15\n",
       "Camaro Z28          13.3 350.0 245 3.73\n",
       "Pontiac Firebird    19.2 400.0 175 3.08\n",
       "Fiat X1-9           27.3  79.0  66 4.08\n",
       "Porsche 914-2       26.0 120.3  91 4.43\n",
       "Lotus Europa        30.4  95.1 113 3.77\n",
       "Ford Pantera L      15.8 351.0 264 4.22\n",
       "Ferrari Dino        19.7 145.0 175 3.62\n",
       "Maserati Bora       15.0 301.0 335 3.54\n",
       "Volvo 142E          21.4 121.0 109 4.11"
      ]
     },
     "metadata": {},
     "output_type": "display_data"
    }
   ],
   "source": [
    "data <- mtcars[, c(1,3,4,5)]\n",
    "data"
   ]
  },
  {
   "cell_type": "code",
   "execution_count": 8,
   "id": "eb8c474e",
   "metadata": {
    "ExecuteTime": {
     "end_time": "2022-02-16T05:38:41.079816Z",
     "start_time": "2022-02-16T05:38:41.043Z"
    }
   },
   "outputs": [
    {
     "data": {
      "text/html": [
       "<dl class=dl-horizontal>\n",
       "\t<dt>mpg</dt>\n",
       "\t\t<dd>20.090625</dd>\n",
       "\t<dt>disp</dt>\n",
       "\t\t<dd>230.721875</dd>\n",
       "\t<dt>hp</dt>\n",
       "\t\t<dd>146.6875</dd>\n",
       "\t<dt>drat</dt>\n",
       "\t\t<dd>3.5965625</dd>\n",
       "</dl>\n"
      ],
      "text/latex": [
       "\\begin{description*}\n",
       "\\item[mpg] 20.090625\n",
       "\\item[disp] 230.721875\n",
       "\\item[hp] 146.6875\n",
       "\\item[drat] 3.5965625\n",
       "\\end{description*}\n"
      ],
      "text/markdown": [
       "mpg\n",
       ":   20.090625disp\n",
       ":   230.721875hp\n",
       ":   146.6875drat\n",
       ":   3.5965625\n",
       "\n"
      ],
      "text/plain": [
       "       mpg       disp         hp       drat \n",
       " 20.090625 230.721875 146.687500   3.596563 "
      ]
     },
     "metadata": {},
     "output_type": "display_data"
    }
   ],
   "source": [
    "colMeans(data)"
   ]
  },
  {
   "cell_type": "code",
   "execution_count": 9,
   "id": "490addcc",
   "metadata": {
    "ExecuteTime": {
     "end_time": "2022-02-16T05:40:48.388894Z",
     "start_time": "2022-02-16T05:40:48.333Z"
    }
   },
   "outputs": [
    {
     "data": {
      "text/html": [
       "<table>\n",
       "<thead><tr><th></th><th scope=col>mpg</th><th scope=col>disp</th><th scope=col>hp</th><th scope=col>drat</th></tr></thead>\n",
       "<tbody>\n",
       "\t<tr><th scope=row>mpg</th><td>  36.324103</td><td> -633.09721</td><td>-320.73206 </td><td>  2.1950635</td></tr>\n",
       "\t<tr><th scope=row>disp</th><td>-633.097208</td><td>15360.79983</td><td>6721.15867 </td><td>-47.0640192</td></tr>\n",
       "\t<tr><th scope=row>hp</th><td>-320.732056</td><td> 6721.15867</td><td>4700.86694 </td><td>-16.4511089</td></tr>\n",
       "\t<tr><th scope=row>drat</th><td>   2.195064</td><td>  -47.06402</td><td> -16.45111 </td><td>  0.2858814</td></tr>\n",
       "</tbody>\n",
       "</table>\n"
      ],
      "text/latex": [
       "\\begin{tabular}{r|llll}\n",
       "  & mpg & disp & hp & drat\\\\\n",
       "\\hline\n",
       "\tmpg &   36.324103 &  -633.09721 & -320.73206  &   2.1950635\\\\\n",
       "\tdisp & -633.097208 & 15360.79983 & 6721.15867  & -47.0640192\\\\\n",
       "\thp & -320.732056 &  6721.15867 & 4700.86694  & -16.4511089\\\\\n",
       "\tdrat &    2.195064 &   -47.06402 &  -16.45111  &   0.2858814\\\\\n",
       "\\end{tabular}\n"
      ],
      "text/markdown": [
       "\n",
       "| <!--/--> | mpg | disp | hp | drat |\n",
       "|---|---|---|---|---|\n",
       "| mpg |   36.324103 |  -633.09721 | -320.73206  |   2.1950635 |\n",
       "| disp | -633.097208 | 15360.79983 | 6721.15867  | -47.0640192 |\n",
       "| hp | -320.732056 |  6721.15867 | 4700.86694  | -16.4511089 |\n",
       "| drat |    2.195064 |   -47.06402 |  -16.45111  |   0.2858814 |\n",
       "\n"
      ],
      "text/plain": [
       "     mpg         disp        hp         drat       \n",
       "mpg    36.324103  -633.09721 -320.73206   2.1950635\n",
       "disp -633.097208 15360.79983 6721.15867 -47.0640192\n",
       "hp   -320.732056  6721.15867 4700.86694 -16.4511089\n",
       "drat    2.195064   -47.06402  -16.45111   0.2858814"
      ]
     },
     "metadata": {},
     "output_type": "display_data"
    }
   ],
   "source": [
    "cov(data)"
   ]
  },
  {
   "cell_type": "code",
   "execution_count": 11,
   "id": "fdf105dc",
   "metadata": {
    "ExecuteTime": {
     "end_time": "2022-02-16T05:44:43.128753Z",
     "start_time": "2022-02-16T05:44:43.039Z"
    }
   },
   "outputs": [
    {
     "data": {
      "text/html": [
       "<table>\n",
       "<thead><tr><th></th><th scope=col>mpg</th><th scope=col>disp</th><th scope=col>hp</th><th scope=col>drat</th></tr></thead>\n",
       "<tbody>\n",
       "\t<tr><th scope=row>mpg</th><td> 1.0000000</td><td>-0.8475514</td><td>-0.7761684</td><td> 0.6811719</td></tr>\n",
       "\t<tr><th scope=row>disp</th><td>-0.8475514</td><td> 1.0000000</td><td> 0.7909486</td><td>-0.7102139</td></tr>\n",
       "\t<tr><th scope=row>hp</th><td>-0.7761684</td><td> 0.7909486</td><td> 1.0000000</td><td>-0.4487591</td></tr>\n",
       "\t<tr><th scope=row>drat</th><td> 0.6811719</td><td>-0.7102139</td><td>-0.4487591</td><td> 1.0000000</td></tr>\n",
       "</tbody>\n",
       "</table>\n"
      ],
      "text/latex": [
       "\\begin{tabular}{r|llll}\n",
       "  & mpg & disp & hp & drat\\\\\n",
       "\\hline\n",
       "\tmpg &  1.0000000 & -0.8475514 & -0.7761684 &  0.6811719\\\\\n",
       "\tdisp & -0.8475514 &  1.0000000 &  0.7909486 & -0.7102139\\\\\n",
       "\thp & -0.7761684 &  0.7909486 &  1.0000000 & -0.4487591\\\\\n",
       "\tdrat &  0.6811719 & -0.7102139 & -0.4487591 &  1.0000000\\\\\n",
       "\\end{tabular}\n"
      ],
      "text/markdown": [
       "\n",
       "| <!--/--> | mpg | disp | hp | drat |\n",
       "|---|---|---|---|---|\n",
       "| mpg |  1.0000000 | -0.8475514 | -0.7761684 |  0.6811719 |\n",
       "| disp | -0.8475514 |  1.0000000 |  0.7909486 | -0.7102139 |\n",
       "| hp | -0.7761684 |  0.7909486 |  1.0000000 | -0.4487591 |\n",
       "| drat |  0.6811719 | -0.7102139 | -0.4487591 |  1.0000000 |\n",
       "\n"
      ],
      "text/plain": [
       "     mpg        disp       hp         drat      \n",
       "mpg   1.0000000 -0.8475514 -0.7761684  0.6811719\n",
       "disp -0.8475514  1.0000000  0.7909486 -0.7102139\n",
       "hp   -0.7761684  0.7909486  1.0000000 -0.4487591\n",
       "drat  0.6811719 -0.7102139 -0.4487591  1.0000000"
      ]
     },
     "metadata": {},
     "output_type": "display_data"
    }
   ],
   "source": [
    "cor(data)"
   ]
  },
  {
   "cell_type": "code",
   "execution_count": 12,
   "id": "13240fb9",
   "metadata": {
    "ExecuteTime": {
     "end_time": "2022-02-16T05:45:52.615621Z",
     "start_time": "2022-02-16T05:45:52.404Z"
    },
    "scrolled": false
   },
   "outputs": [
    {
     "data": {
      "image/png": "[encoded data removed]",
      "text/plain": [
       "plot without title"
      ]
     },
     "metadata": {},
     "output_type": "display_data"
    }
   ],
   "source": [
    "pairs(data)"
   ]
  },
  {
   "cell_type": "code",
   "execution_count": null,
   "id": "412e985d",
   "metadata": {},
   "outputs": [],
   "source": []
  }
 ],
 "metadata": {
  "kernelspec": {
   "display_name": "R",
   "language": "R",
   "name": "ir"
  },
  "language_info": {
   "codemirror_mode": "r",
   "file_extension": ".r",
   "mimetype": "text/x-r-source",
   "name": "R",
   "pygments_lexer": "r",
   "version": "3.6.1"
  },
  "toc": {
   "base_numbering": 1,
   "nav_menu": {},
   "number_sections": true,
   "sideBar": true,
   "skip_h1_title": false,
   "title_cell": "Table of Contents",
   "title_sidebar": "Contents",
   "toc_cell": false,
   "toc_position": {},
   "toc_section_display": true,
   "toc_window_display": false
  }
 },
 "nbformat": 4,
 "nbformat_minor": 5
}
