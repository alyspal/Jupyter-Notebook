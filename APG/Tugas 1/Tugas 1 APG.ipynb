{
 "cells": [
  {
   "cell_type": "markdown",
   "id": "c74d59a6",
   "metadata": {
    "heading_collapsed": true
   },
   "source": [
    "# Import Library and Read Data"
   ]
  },
  {
   "cell_type": "code",
   "execution_count": 1,
   "id": "13e04d86",
   "metadata": {
    "ExecuteTime": {
     "end_time": "2022-02-20T14:34:29.970690Z",
     "start_time": "2022-02-20T14:34:29.084Z"
    },
    "hidden": true
   },
   "outputs": [
    {
     "name": "stderr",
     "output_type": "stream",
     "text": [
      "Warning message:\n",
      "\"package 'readxl' was built under R version 3.6.3\"Warning message:\n",
      "\"package 'dplyr' was built under R version 3.6.3\"\n",
      "Attaching package: 'dplyr'\n",
      "\n",
      "The following objects are masked from 'package:stats':\n",
      "\n",
      "    filter, lag\n",
      "\n",
      "The following objects are masked from 'package:base':\n",
      "\n",
      "    intersect, setdiff, setequal, union\n",
      "\n",
      "\n",
      "Attaching package: 'ggplot2'\n",
      "\n",
      "The following objects are masked from 'package:psych':\n",
      "\n",
      "    %+%, alpha\n",
      "\n"
     ]
    }
   ],
   "source": [
    "library(readxl)\n",
    "library(psych)\n",
    "library(dplyr)\n",
    "library(ggplot2)\n",
    "library(scatterplot3d)\n",
    "#library(stars)\n",
    "library(aplpack)"
   ]
  },
  {
   "cell_type": "code",
   "execution_count": 2,
   "id": "1178001a",
   "metadata": {
    "ExecuteTime": {
     "end_time": "2022-02-20T14:34:30.108684Z",
     "start_time": "2022-02-20T14:34:29.088Z"
    },
    "hidden": true,
    "scrolled": true
   },
   "outputs": [
    {
     "data": {
      "text/html": [
       "<table>\n",
       "<thead><tr><th scope=col>id</th><th scope=col>TB</th><th scope=col>BB</th><th scope=col>JK</th><th scope=col>UangSaku</th><th scope=col>Jajan</th><th scope=col>Pulsa</th><th scope=col>LamaBelajar</th><th scope=col>LamaInternet</th></tr></thead>\n",
       "<tbody>\n",
       "\t<tr><td> 1       </td><td>170      </td><td>65       </td><td>Laki-laki</td><td> 50000   </td><td> 30000   </td><td>150000   </td><td>1.0      </td><td> 5.0     </td></tr>\n",
       "\t<tr><td> 2       </td><td>169      </td><td>63       </td><td>Laki-laki</td><td> 50000   </td><td> 30000   </td><td> 50000   </td><td>2.0      </td><td> 3.0     </td></tr>\n",
       "\t<tr><td> 3       </td><td>171      </td><td>53       </td><td>Laki-laki</td><td> 30000   </td><td>500000   </td><td> 50000   </td><td>2.0      </td><td>12.0     </td></tr>\n",
       "\t<tr><td> 4       </td><td>167      </td><td>75       </td><td>Laki-laki</td><td> 35000   </td><td> 35000   </td><td> 85000   </td><td>2.0      </td><td>10.0     </td></tr>\n",
       "\t<tr><td> 5       </td><td>173      </td><td>60       </td><td>Laki-laki</td><td> 40000   </td><td> 35000   </td><td>     0   </td><td>0.5      </td><td> 6.0     </td></tr>\n",
       "\t<tr><td> 6       </td><td>183      </td><td>73       </td><td>Laki-laki</td><td> 30000   </td><td> 22000   </td><td>100000   </td><td>1.0      </td><td> 2.0     </td></tr>\n",
       "\t<tr><td> 7       </td><td>170      </td><td>50       </td><td>Laki-laki</td><td> 20000   </td><td> 10000   </td><td> 60000   </td><td>2.0      </td><td>10.0     </td></tr>\n",
       "\t<tr><td> 8       </td><td>168      </td><td>55       </td><td>Laki-laki</td><td> 40000   </td><td> 45000   </td><td>150000   </td><td>2.0      </td><td> 4.0     </td></tr>\n",
       "\t<tr><td> 9       </td><td>150      </td><td>49       </td><td>Perempuan</td><td> 15000   </td><td> 50000   </td><td>100000   </td><td>1.0      </td><td>16.0     </td></tr>\n",
       "\t<tr><td>10       </td><td>177      </td><td>51       </td><td>Laki-laki</td><td> 50000   </td><td> 10000   </td><td>100000   </td><td>0.5      </td><td>15.0     </td></tr>\n",
       "\t<tr><td>11       </td><td>170      </td><td>72       </td><td>Laki-laki</td><td> 25000   </td><td> 25000   </td><td>200000   </td><td>2.0      </td><td> 5.0     </td></tr>\n",
       "\t<tr><td>12       </td><td>158      </td><td>57       </td><td>Laki-laki</td><td> 66000   </td><td>140000   </td><td> 50000   </td><td>1.0      </td><td> 5.0     </td></tr>\n",
       "\t<tr><td>13       </td><td>173      </td><td>80       </td><td>Laki-laki</td><td> 50000   </td><td>500000   </td><td> 30000   </td><td>2.0      </td><td> 5.0     </td></tr>\n",
       "\t<tr><td>14       </td><td>177      </td><td>56       </td><td>Laki-laki</td><td> 50000   </td><td> 50000   </td><td> 75000   </td><td>3.0      </td><td>14.0     </td></tr>\n",
       "\t<tr><td>15       </td><td>166      </td><td>51       </td><td>Laki-laki</td><td> 10000   </td><td> 50000   </td><td>100000   </td><td>2.0      </td><td>12.5     </td></tr>\n",
       "\t<tr><td>16       </td><td>159      </td><td>50       </td><td>Perempuan</td><td> 30000   </td><td> 30000   </td><td>200000   </td><td>1.0      </td><td>16.0     </td></tr>\n",
       "\t<tr><td>17       </td><td>150      </td><td>47       </td><td>Perempuan</td><td>     0   </td><td>     0   </td><td> 50000   </td><td>2.0      </td><td> 4.0     </td></tr>\n",
       "\t<tr><td>18       </td><td>159      </td><td>47       </td><td>Perempuan</td><td> 67000   </td><td> 31000   </td><td> 40000   </td><td>2.0      </td><td>16.0     </td></tr>\n",
       "\t<tr><td>19       </td><td>165      </td><td>45       </td><td>Perempuan</td><td> 60000   </td><td> 50000   </td><td> 25000   </td><td>1.0      </td><td> 7.0     </td></tr>\n",
       "\t<tr><td>20       </td><td>160      </td><td>50       </td><td>Perempuan</td><td> 40000   </td><td> 30000   </td><td> 50000   </td><td>5.0      </td><td>19.0     </td></tr>\n",
       "\t<tr><td>21       </td><td>168      </td><td>72       </td><td>Laki-laki</td><td> 50000   </td><td> 15000   </td><td> 75000   </td><td>1.0      </td><td> 6.0     </td></tr>\n",
       "\t<tr><td>22       </td><td>175      </td><td>65       </td><td>Laki-laki</td><td> 50000   </td><td> 45000   </td><td>100000   </td><td>2.0      </td><td> 9.0     </td></tr>\n",
       "\t<tr><td>23       </td><td>158      </td><td>55       </td><td>Perempuan</td><td> 30000   </td><td>200000   </td><td>100000   </td><td>5.0      </td><td>12.0     </td></tr>\n",
       "\t<tr><td>24       </td><td>163      </td><td>54       </td><td>Laki-laki</td><td> 50000   </td><td> 30000   </td><td> 65000   </td><td>2.0      </td><td>12.0     </td></tr>\n",
       "\t<tr><td>25       </td><td>163      </td><td>53       </td><td>Perempuan</td><td> 75000   </td><td> 50000   </td><td>100000   </td><td>3.0      </td><td> 6.0     </td></tr>\n",
       "\t<tr><td>26       </td><td>170      </td><td>63       </td><td>Perempuan</td><td>250000   </td><td>500000   </td><td>200000   </td><td>2.0      </td><td>24.0     </td></tr>\n",
       "\t<tr><td>27       </td><td>166      </td><td>90       </td><td>Perempuan</td><td> 50000   </td><td> 10000   </td><td>100000   </td><td>4.0      </td><td>11.7     </td></tr>\n",
       "\t<tr><td>28       </td><td>163      </td><td>59       </td><td>Perempuan</td><td> 40000   </td><td> 50000   </td><td> 30000   </td><td>3.0      </td><td>12.0     </td></tr>\n",
       "\t<tr><td>29       </td><td>156      </td><td>49       </td><td>Perempuan</td><td> 30000   </td><td> 25000   </td><td> 50000   </td><td>2.0      </td><td> 5.0     </td></tr>\n",
       "\t<tr><td>30       </td><td>158      </td><td>46       </td><td>Laki-laki</td><td>200000   </td><td> 45000   </td><td>150000   </td><td>6.0      </td><td>10.0     </td></tr>\n",
       "\t<tr><td>31       </td><td>165      </td><td>65       </td><td>Laki-laki</td><td> 50000   </td><td> 25000   </td><td>150000   </td><td>2.0      </td><td> 8.0     </td></tr>\n",
       "</tbody>\n",
       "</table>\n"
      ],
      "text/latex": [
       "\\begin{tabular}{r|lllllllll}\n",
       " id & TB & BB & JK & UangSaku & Jajan & Pulsa & LamaBelajar & LamaInternet\\\\\n",
       "\\hline\n",
       "\t  1        & 170       & 65        & Laki-laki &  50000    &  30000    & 150000    & 1.0       &  5.0     \\\\\n",
       "\t  2        & 169       & 63        & Laki-laki &  50000    &  30000    &  50000    & 2.0       &  3.0     \\\\\n",
       "\t  3        & 171       & 53        & Laki-laki &  30000    & 500000    &  50000    & 2.0       & 12.0     \\\\\n",
       "\t  4        & 167       & 75        & Laki-laki &  35000    &  35000    &  85000    & 2.0       & 10.0     \\\\\n",
       "\t  5        & 173       & 60        & Laki-laki &  40000    &  35000    &      0    & 0.5       &  6.0     \\\\\n",
       "\t  6        & 183       & 73        & Laki-laki &  30000    &  22000    & 100000    & 1.0       &  2.0     \\\\\n",
       "\t  7        & 170       & 50        & Laki-laki &  20000    &  10000    &  60000    & 2.0       & 10.0     \\\\\n",
       "\t  8        & 168       & 55        & Laki-laki &  40000    &  45000    & 150000    & 2.0       &  4.0     \\\\\n",
       "\t  9        & 150       & 49        & Perempuan &  15000    &  50000    & 100000    & 1.0       & 16.0     \\\\\n",
       "\t 10        & 177       & 51        & Laki-laki &  50000    &  10000    & 100000    & 0.5       & 15.0     \\\\\n",
       "\t 11        & 170       & 72        & Laki-laki &  25000    &  25000    & 200000    & 2.0       &  5.0     \\\\\n",
       "\t 12        & 158       & 57        & Laki-laki &  66000    & 140000    &  50000    & 1.0       &  5.0     \\\\\n",
       "\t 13        & 173       & 80        & Laki-laki &  50000    & 500000    &  30000    & 2.0       &  5.0     \\\\\n",
       "\t 14        & 177       & 56        & Laki-laki &  50000    &  50000    &  75000    & 3.0       & 14.0     \\\\\n",
       "\t 15        & 166       & 51        & Laki-laki &  10000    &  50000    & 100000    & 2.0       & 12.5     \\\\\n",
       "\t 16        & 159       & 50        & Perempuan &  30000    &  30000    & 200000    & 1.0       & 16.0     \\\\\n",
       "\t 17        & 150       & 47        & Perempuan &      0    &      0    &  50000    & 2.0       &  4.0     \\\\\n",
       "\t 18        & 159       & 47        & Perempuan &  67000    &  31000    &  40000    & 2.0       & 16.0     \\\\\n",
       "\t 19        & 165       & 45        & Perempuan &  60000    &  50000    &  25000    & 1.0       &  7.0     \\\\\n",
       "\t 20        & 160       & 50        & Perempuan &  40000    &  30000    &  50000    & 5.0       & 19.0     \\\\\n",
       "\t 21        & 168       & 72        & Laki-laki &  50000    &  15000    &  75000    & 1.0       &  6.0     \\\\\n",
       "\t 22        & 175       & 65        & Laki-laki &  50000    &  45000    & 100000    & 2.0       &  9.0     \\\\\n",
       "\t 23        & 158       & 55        & Perempuan &  30000    & 200000    & 100000    & 5.0       & 12.0     \\\\\n",
       "\t 24        & 163       & 54        & Laki-laki &  50000    &  30000    &  65000    & 2.0       & 12.0     \\\\\n",
       "\t 25        & 163       & 53        & Perempuan &  75000    &  50000    & 100000    & 3.0       &  6.0     \\\\\n",
       "\t 26        & 170       & 63        & Perempuan & 250000    & 500000    & 200000    & 2.0       & 24.0     \\\\\n",
       "\t 27        & 166       & 90        & Perempuan &  50000    &  10000    & 100000    & 4.0       & 11.7     \\\\\n",
       "\t 28        & 163       & 59        & Perempuan &  40000    &  50000    &  30000    & 3.0       & 12.0     \\\\\n",
       "\t 29        & 156       & 49        & Perempuan &  30000    &  25000    &  50000    & 2.0       &  5.0     \\\\\n",
       "\t 30        & 158       & 46        & Laki-laki & 200000    &  45000    & 150000    & 6.0       & 10.0     \\\\\n",
       "\t 31        & 165       & 65        & Laki-laki &  50000    &  25000    & 150000    & 2.0       &  8.0     \\\\\n",
       "\\end{tabular}\n"
      ],
      "text/markdown": [
       "\n",
       "| id | TB | BB | JK | UangSaku | Jajan | Pulsa | LamaBelajar | LamaInternet |\n",
       "|---|---|---|---|---|---|---|---|---|\n",
       "|  1        | 170       | 65        | Laki-laki |  50000    |  30000    | 150000    | 1.0       |  5.0      |\n",
       "|  2        | 169       | 63        | Laki-laki |  50000    |  30000    |  50000    | 2.0       |  3.0      |\n",
       "|  3        | 171       | 53        | Laki-laki |  30000    | 500000    |  50000    | 2.0       | 12.0      |\n",
       "|  4        | 167       | 75        | Laki-laki |  35000    |  35000    |  85000    | 2.0       | 10.0      |\n",
       "|  5        | 173       | 60        | Laki-laki |  40000    |  35000    |      0    | 0.5       |  6.0      |\n",
       "|  6        | 183       | 73        | Laki-laki |  30000    |  22000    | 100000    | 1.0       |  2.0      |\n",
       "|  7        | 170       | 50        | Laki-laki |  20000    |  10000    |  60000    | 2.0       | 10.0      |\n",
       "|  8        | 168       | 55        | Laki-laki |  40000    |  45000    | 150000    | 2.0       |  4.0      |\n",
       "|  9        | 150       | 49        | Perempuan |  15000    |  50000    | 100000    | 1.0       | 16.0      |\n",
       "| 10        | 177       | 51        | Laki-laki |  50000    |  10000    | 100000    | 0.5       | 15.0      |\n",
       "| 11        | 170       | 72        | Laki-laki |  25000    |  25000    | 200000    | 2.0       |  5.0      |\n",
       "| 12        | 158       | 57        | Laki-laki |  66000    | 140000    |  50000    | 1.0       |  5.0      |\n",
       "| 13        | 173       | 80        | Laki-laki |  50000    | 500000    |  30000    | 2.0       |  5.0      |\n",
       "| 14        | 177       | 56        | Laki-laki |  50000    |  50000    |  75000    | 3.0       | 14.0      |\n",
       "| 15        | 166       | 51        | Laki-laki |  10000    |  50000    | 100000    | 2.0       | 12.5      |\n",
       "| 16        | 159       | 50        | Perempuan |  30000    |  30000    | 200000    | 1.0       | 16.0      |\n",
       "| 17        | 150       | 47        | Perempuan |      0    |      0    |  50000    | 2.0       |  4.0      |\n",
       "| 18        | 159       | 47        | Perempuan |  67000    |  31000    |  40000    | 2.0       | 16.0      |\n",
       "| 19        | 165       | 45        | Perempuan |  60000    |  50000    |  25000    | 1.0       |  7.0      |\n",
       "| 20        | 160       | 50        | Perempuan |  40000    |  30000    |  50000    | 5.0       | 19.0      |\n",
       "| 21        | 168       | 72        | Laki-laki |  50000    |  15000    |  75000    | 1.0       |  6.0      |\n",
       "| 22        | 175       | 65        | Laki-laki |  50000    |  45000    | 100000    | 2.0       |  9.0      |\n",
       "| 23        | 158       | 55        | Perempuan |  30000    | 200000    | 100000    | 5.0       | 12.0      |\n",
       "| 24        | 163       | 54        | Laki-laki |  50000    |  30000    |  65000    | 2.0       | 12.0      |\n",
       "| 25        | 163       | 53        | Perempuan |  75000    |  50000    | 100000    | 3.0       |  6.0      |\n",
       "| 26        | 170       | 63        | Perempuan | 250000    | 500000    | 200000    | 2.0       | 24.0      |\n",
       "| 27        | 166       | 90        | Perempuan |  50000    |  10000    | 100000    | 4.0       | 11.7      |\n",
       "| 28        | 163       | 59        | Perempuan |  40000    |  50000    |  30000    | 3.0       | 12.0      |\n",
       "| 29        | 156       | 49        | Perempuan |  30000    |  25000    |  50000    | 2.0       |  5.0      |\n",
       "| 30        | 158       | 46        | Laki-laki | 200000    |  45000    | 150000    | 6.0       | 10.0      |\n",
       "| 31        | 165       | 65        | Laki-laki |  50000    |  25000    | 150000    | 2.0       |  8.0      |\n",
       "\n"
      ],
      "text/plain": [
       "   id TB  BB JK        UangSaku Jajan  Pulsa  LamaBelajar LamaInternet\n",
       "1   1 170 65 Laki-laki  50000    30000 150000 1.0          5.0        \n",
       "2   2 169 63 Laki-laki  50000    30000  50000 2.0          3.0        \n",
       "3   3 171 53 Laki-laki  30000   500000  50000 2.0         12.0        \n",
       "4   4 167 75 Laki-laki  35000    35000  85000 2.0         10.0        \n",
       "5   5 173 60 Laki-laki  40000    35000      0 0.5          6.0        \n",
       "6   6 183 73 Laki-laki  30000    22000 100000 1.0          2.0        \n",
       "7   7 170 50 Laki-laki  20000    10000  60000 2.0         10.0        \n",
       "8   8 168 55 Laki-laki  40000    45000 150000 2.0          4.0        \n",
       "9   9 150 49 Perempuan  15000    50000 100000 1.0         16.0        \n",
       "10 10 177 51 Laki-laki  50000    10000 100000 0.5         15.0        \n",
       "11 11 170 72 Laki-laki  25000    25000 200000 2.0          5.0        \n",
       "12 12 158 57 Laki-laki  66000   140000  50000 1.0          5.0        \n",
       "13 13 173 80 Laki-laki  50000   500000  30000 2.0          5.0        \n",
       "14 14 177 56 Laki-laki  50000    50000  75000 3.0         14.0        \n",
       "15 15 166 51 Laki-laki  10000    50000 100000 2.0         12.5        \n",
       "16 16 159 50 Perempuan  30000    30000 200000 1.0         16.0        \n",
       "17 17 150 47 Perempuan      0        0  50000 2.0          4.0        \n",
       "18 18 159 47 Perempuan  67000    31000  40000 2.0         16.0        \n",
       "19 19 165 45 Perempuan  60000    50000  25000 1.0          7.0        \n",
       "20 20 160 50 Perempuan  40000    30000  50000 5.0         19.0        \n",
       "21 21 168 72 Laki-laki  50000    15000  75000 1.0          6.0        \n",
       "22 22 175 65 Laki-laki  50000    45000 100000 2.0          9.0        \n",
       "23 23 158 55 Perempuan  30000   200000 100000 5.0         12.0        \n",
       "24 24 163 54 Laki-laki  50000    30000  65000 2.0         12.0        \n",
       "25 25 163 53 Perempuan  75000    50000 100000 3.0          6.0        \n",
       "26 26 170 63 Perempuan 250000   500000 200000 2.0         24.0        \n",
       "27 27 166 90 Perempuan  50000    10000 100000 4.0         11.7        \n",
       "28 28 163 59 Perempuan  40000    50000  30000 3.0         12.0        \n",
       "29 29 156 49 Perempuan  30000    25000  50000 2.0          5.0        \n",
       "30 30 158 46 Laki-laki 200000    45000 150000 6.0         10.0        \n",
       "31 31 165 65 Laki-laki  50000    25000 150000 2.0          8.0        "
      ]
     },
     "metadata": {},
     "output_type": "display_data"
    }
   ],
   "source": [
    "data <- read_excel(\"3si1.xlsx\")\n",
    "data"
   ]
  },
  {
   "cell_type": "code",
   "execution_count": 3,
   "id": "f916c1a7",
   "metadata": {
    "ExecuteTime": {
     "end_time": "2022-02-20T14:34:30.160715Z",
     "start_time": "2022-02-20T14:34:29.092Z"
    },
    "hidden": true,
    "scrolled": true
   },
   "outputs": [
    {
     "data": {
      "text/html": [
       "<table>\n",
       "<thead><tr><th scope=col>TB</th><th scope=col>BB</th><th scope=col>JK</th><th scope=col>UangSaku</th><th scope=col>Jajan</th><th scope=col>Pulsa</th><th scope=col>LamaBelajar</th><th scope=col>LamaInternet</th></tr></thead>\n",
       "<tbody>\n",
       "\t<tr><td>170      </td><td>65       </td><td>Laki-laki</td><td> 50000   </td><td> 30000   </td><td>150000   </td><td>1.0      </td><td> 5.0     </td></tr>\n",
       "\t<tr><td>169      </td><td>63       </td><td>Laki-laki</td><td> 50000   </td><td> 30000   </td><td> 50000   </td><td>2.0      </td><td> 3.0     </td></tr>\n",
       "\t<tr><td>171      </td><td>53       </td><td>Laki-laki</td><td> 30000   </td><td>500000   </td><td> 50000   </td><td>2.0      </td><td>12.0     </td></tr>\n",
       "\t<tr><td>167      </td><td>75       </td><td>Laki-laki</td><td> 35000   </td><td> 35000   </td><td> 85000   </td><td>2.0      </td><td>10.0     </td></tr>\n",
       "\t<tr><td>173      </td><td>60       </td><td>Laki-laki</td><td> 40000   </td><td> 35000   </td><td>     0   </td><td>0.5      </td><td> 6.0     </td></tr>\n",
       "\t<tr><td>183      </td><td>73       </td><td>Laki-laki</td><td> 30000   </td><td> 22000   </td><td>100000   </td><td>1.0      </td><td> 2.0     </td></tr>\n",
       "\t<tr><td>170      </td><td>50       </td><td>Laki-laki</td><td> 20000   </td><td> 10000   </td><td> 60000   </td><td>2.0      </td><td>10.0     </td></tr>\n",
       "\t<tr><td>168      </td><td>55       </td><td>Laki-laki</td><td> 40000   </td><td> 45000   </td><td>150000   </td><td>2.0      </td><td> 4.0     </td></tr>\n",
       "\t<tr><td>150      </td><td>49       </td><td>Perempuan</td><td> 15000   </td><td> 50000   </td><td>100000   </td><td>1.0      </td><td>16.0     </td></tr>\n",
       "\t<tr><td>177      </td><td>51       </td><td>Laki-laki</td><td> 50000   </td><td> 10000   </td><td>100000   </td><td>0.5      </td><td>15.0     </td></tr>\n",
       "\t<tr><td>170      </td><td>72       </td><td>Laki-laki</td><td> 25000   </td><td> 25000   </td><td>200000   </td><td>2.0      </td><td> 5.0     </td></tr>\n",
       "\t<tr><td>158      </td><td>57       </td><td>Laki-laki</td><td> 66000   </td><td>140000   </td><td> 50000   </td><td>1.0      </td><td> 5.0     </td></tr>\n",
       "\t<tr><td>173      </td><td>80       </td><td>Laki-laki</td><td> 50000   </td><td>500000   </td><td> 30000   </td><td>2.0      </td><td> 5.0     </td></tr>\n",
       "\t<tr><td>177      </td><td>56       </td><td>Laki-laki</td><td> 50000   </td><td> 50000   </td><td> 75000   </td><td>3.0      </td><td>14.0     </td></tr>\n",
       "\t<tr><td>166      </td><td>51       </td><td>Laki-laki</td><td> 10000   </td><td> 50000   </td><td>100000   </td><td>2.0      </td><td>12.5     </td></tr>\n",
       "\t<tr><td>159      </td><td>50       </td><td>Perempuan</td><td> 30000   </td><td> 30000   </td><td>200000   </td><td>1.0      </td><td>16.0     </td></tr>\n",
       "\t<tr><td>150      </td><td>47       </td><td>Perempuan</td><td>     0   </td><td>     0   </td><td> 50000   </td><td>2.0      </td><td> 4.0     </td></tr>\n",
       "\t<tr><td>159      </td><td>47       </td><td>Perempuan</td><td> 67000   </td><td> 31000   </td><td> 40000   </td><td>2.0      </td><td>16.0     </td></tr>\n",
       "\t<tr><td>165      </td><td>45       </td><td>Perempuan</td><td> 60000   </td><td> 50000   </td><td> 25000   </td><td>1.0      </td><td> 7.0     </td></tr>\n",
       "\t<tr><td>160      </td><td>50       </td><td>Perempuan</td><td> 40000   </td><td> 30000   </td><td> 50000   </td><td>5.0      </td><td>19.0     </td></tr>\n",
       "\t<tr><td>168      </td><td>72       </td><td>Laki-laki</td><td> 50000   </td><td> 15000   </td><td> 75000   </td><td>1.0      </td><td> 6.0     </td></tr>\n",
       "\t<tr><td>175      </td><td>65       </td><td>Laki-laki</td><td> 50000   </td><td> 45000   </td><td>100000   </td><td>2.0      </td><td> 9.0     </td></tr>\n",
       "\t<tr><td>158      </td><td>55       </td><td>Perempuan</td><td> 30000   </td><td>200000   </td><td>100000   </td><td>5.0      </td><td>12.0     </td></tr>\n",
       "\t<tr><td>163      </td><td>54       </td><td>Laki-laki</td><td> 50000   </td><td> 30000   </td><td> 65000   </td><td>2.0      </td><td>12.0     </td></tr>\n",
       "\t<tr><td>163      </td><td>53       </td><td>Perempuan</td><td> 75000   </td><td> 50000   </td><td>100000   </td><td>3.0      </td><td> 6.0     </td></tr>\n",
       "\t<tr><td>170      </td><td>63       </td><td>Perempuan</td><td>250000   </td><td>500000   </td><td>200000   </td><td>2.0      </td><td>24.0     </td></tr>\n",
       "\t<tr><td>166      </td><td>90       </td><td>Perempuan</td><td> 50000   </td><td> 10000   </td><td>100000   </td><td>4.0      </td><td>11.7     </td></tr>\n",
       "\t<tr><td>163      </td><td>59       </td><td>Perempuan</td><td> 40000   </td><td> 50000   </td><td> 30000   </td><td>3.0      </td><td>12.0     </td></tr>\n",
       "\t<tr><td>156      </td><td>49       </td><td>Perempuan</td><td> 30000   </td><td> 25000   </td><td> 50000   </td><td>2.0      </td><td> 5.0     </td></tr>\n",
       "\t<tr><td>158      </td><td>46       </td><td>Laki-laki</td><td>200000   </td><td> 45000   </td><td>150000   </td><td>6.0      </td><td>10.0     </td></tr>\n",
       "\t<tr><td>165      </td><td>65       </td><td>Laki-laki</td><td> 50000   </td><td> 25000   </td><td>150000   </td><td>2.0      </td><td> 8.0     </td></tr>\n",
       "</tbody>\n",
       "</table>\n"
      ],
      "text/latex": [
       "\\begin{tabular}{r|llllllll}\n",
       " TB & BB & JK & UangSaku & Jajan & Pulsa & LamaBelajar & LamaInternet\\\\\n",
       "\\hline\n",
       "\t 170       & 65        & Laki-laki &  50000    &  30000    & 150000    & 1.0       &  5.0     \\\\\n",
       "\t 169       & 63        & Laki-laki &  50000    &  30000    &  50000    & 2.0       &  3.0     \\\\\n",
       "\t 171       & 53        & Laki-laki &  30000    & 500000    &  50000    & 2.0       & 12.0     \\\\\n",
       "\t 167       & 75        & Laki-laki &  35000    &  35000    &  85000    & 2.0       & 10.0     \\\\\n",
       "\t 173       & 60        & Laki-laki &  40000    &  35000    &      0    & 0.5       &  6.0     \\\\\n",
       "\t 183       & 73        & Laki-laki &  30000    &  22000    & 100000    & 1.0       &  2.0     \\\\\n",
       "\t 170       & 50        & Laki-laki &  20000    &  10000    &  60000    & 2.0       & 10.0     \\\\\n",
       "\t 168       & 55        & Laki-laki &  40000    &  45000    & 150000    & 2.0       &  4.0     \\\\\n",
       "\t 150       & 49        & Perempuan &  15000    &  50000    & 100000    & 1.0       & 16.0     \\\\\n",
       "\t 177       & 51        & Laki-laki &  50000    &  10000    & 100000    & 0.5       & 15.0     \\\\\n",
       "\t 170       & 72        & Laki-laki &  25000    &  25000    & 200000    & 2.0       &  5.0     \\\\\n",
       "\t 158       & 57        & Laki-laki &  66000    & 140000    &  50000    & 1.0       &  5.0     \\\\\n",
       "\t 173       & 80        & Laki-laki &  50000    & 500000    &  30000    & 2.0       &  5.0     \\\\\n",
       "\t 177       & 56        & Laki-laki &  50000    &  50000    &  75000    & 3.0       & 14.0     \\\\\n",
       "\t 166       & 51        & Laki-laki &  10000    &  50000    & 100000    & 2.0       & 12.5     \\\\\n",
       "\t 159       & 50        & Perempuan &  30000    &  30000    & 200000    & 1.0       & 16.0     \\\\\n",
       "\t 150       & 47        & Perempuan &      0    &      0    &  50000    & 2.0       &  4.0     \\\\\n",
       "\t 159       & 47        & Perempuan &  67000    &  31000    &  40000    & 2.0       & 16.0     \\\\\n",
       "\t 165       & 45        & Perempuan &  60000    &  50000    &  25000    & 1.0       &  7.0     \\\\\n",
       "\t 160       & 50        & Perempuan &  40000    &  30000    &  50000    & 5.0       & 19.0     \\\\\n",
       "\t 168       & 72        & Laki-laki &  50000    &  15000    &  75000    & 1.0       &  6.0     \\\\\n",
       "\t 175       & 65        & Laki-laki &  50000    &  45000    & 100000    & 2.0       &  9.0     \\\\\n",
       "\t 158       & 55        & Perempuan &  30000    & 200000    & 100000    & 5.0       & 12.0     \\\\\n",
       "\t 163       & 54        & Laki-laki &  50000    &  30000    &  65000    & 2.0       & 12.0     \\\\\n",
       "\t 163       & 53        & Perempuan &  75000    &  50000    & 100000    & 3.0       &  6.0     \\\\\n",
       "\t 170       & 63        & Perempuan & 250000    & 500000    & 200000    & 2.0       & 24.0     \\\\\n",
       "\t 166       & 90        & Perempuan &  50000    &  10000    & 100000    & 4.0       & 11.7     \\\\\n",
       "\t 163       & 59        & Perempuan &  40000    &  50000    &  30000    & 3.0       & 12.0     \\\\\n",
       "\t 156       & 49        & Perempuan &  30000    &  25000    &  50000    & 2.0       &  5.0     \\\\\n",
       "\t 158       & 46        & Laki-laki & 200000    &  45000    & 150000    & 6.0       & 10.0     \\\\\n",
       "\t 165       & 65        & Laki-laki &  50000    &  25000    & 150000    & 2.0       &  8.0     \\\\\n",
       "\\end{tabular}\n"
      ],
      "text/markdown": [
       "\n",
       "| TB | BB | JK | UangSaku | Jajan | Pulsa | LamaBelajar | LamaInternet |\n",
       "|---|---|---|---|---|---|---|---|\n",
       "| 170       | 65        | Laki-laki |  50000    |  30000    | 150000    | 1.0       |  5.0      |\n",
       "| 169       | 63        | Laki-laki |  50000    |  30000    |  50000    | 2.0       |  3.0      |\n",
       "| 171       | 53        | Laki-laki |  30000    | 500000    |  50000    | 2.0       | 12.0      |\n",
       "| 167       | 75        | Laki-laki |  35000    |  35000    |  85000    | 2.0       | 10.0      |\n",
       "| 173       | 60        | Laki-laki |  40000    |  35000    |      0    | 0.5       |  6.0      |\n",
       "| 183       | 73        | Laki-laki |  30000    |  22000    | 100000    | 1.0       |  2.0      |\n",
       "| 170       | 50        | Laki-laki |  20000    |  10000    |  60000    | 2.0       | 10.0      |\n",
       "| 168       | 55        | Laki-laki |  40000    |  45000    | 150000    | 2.0       |  4.0      |\n",
       "| 150       | 49        | Perempuan |  15000    |  50000    | 100000    | 1.0       | 16.0      |\n",
       "| 177       | 51        | Laki-laki |  50000    |  10000    | 100000    | 0.5       | 15.0      |\n",
       "| 170       | 72        | Laki-laki |  25000    |  25000    | 200000    | 2.0       |  5.0      |\n",
       "| 158       | 57        | Laki-laki |  66000    | 140000    |  50000    | 1.0       |  5.0      |\n",
       "| 173       | 80        | Laki-laki |  50000    | 500000    |  30000    | 2.0       |  5.0      |\n",
       "| 177       | 56        | Laki-laki |  50000    |  50000    |  75000    | 3.0       | 14.0      |\n",
       "| 166       | 51        | Laki-laki |  10000    |  50000    | 100000    | 2.0       | 12.5      |\n",
       "| 159       | 50        | Perempuan |  30000    |  30000    | 200000    | 1.0       | 16.0      |\n",
       "| 150       | 47        | Perempuan |      0    |      0    |  50000    | 2.0       |  4.0      |\n",
       "| 159       | 47        | Perempuan |  67000    |  31000    |  40000    | 2.0       | 16.0      |\n",
       "| 165       | 45        | Perempuan |  60000    |  50000    |  25000    | 1.0       |  7.0      |\n",
       "| 160       | 50        | Perempuan |  40000    |  30000    |  50000    | 5.0       | 19.0      |\n",
       "| 168       | 72        | Laki-laki |  50000    |  15000    |  75000    | 1.0       |  6.0      |\n",
       "| 175       | 65        | Laki-laki |  50000    |  45000    | 100000    | 2.0       |  9.0      |\n",
       "| 158       | 55        | Perempuan |  30000    | 200000    | 100000    | 5.0       | 12.0      |\n",
       "| 163       | 54        | Laki-laki |  50000    |  30000    |  65000    | 2.0       | 12.0      |\n",
       "| 163       | 53        | Perempuan |  75000    |  50000    | 100000    | 3.0       |  6.0      |\n",
       "| 170       | 63        | Perempuan | 250000    | 500000    | 200000    | 2.0       | 24.0      |\n",
       "| 166       | 90        | Perempuan |  50000    |  10000    | 100000    | 4.0       | 11.7      |\n",
       "| 163       | 59        | Perempuan |  40000    |  50000    |  30000    | 3.0       | 12.0      |\n",
       "| 156       | 49        | Perempuan |  30000    |  25000    |  50000    | 2.0       |  5.0      |\n",
       "| 158       | 46        | Laki-laki | 200000    |  45000    | 150000    | 6.0       | 10.0      |\n",
       "| 165       | 65        | Laki-laki |  50000    |  25000    | 150000    | 2.0       |  8.0      |\n",
       "\n"
      ],
      "text/plain": [
       "   TB  BB JK        UangSaku Jajan  Pulsa  LamaBelajar LamaInternet\n",
       "1  170 65 Laki-laki  50000    30000 150000 1.0          5.0        \n",
       "2  169 63 Laki-laki  50000    30000  50000 2.0          3.0        \n",
       "3  171 53 Laki-laki  30000   500000  50000 2.0         12.0        \n",
       "4  167 75 Laki-laki  35000    35000  85000 2.0         10.0        \n",
       "5  173 60 Laki-laki  40000    35000      0 0.5          6.0        \n",
       "6  183 73 Laki-laki  30000    22000 100000 1.0          2.0        \n",
       "7  170 50 Laki-laki  20000    10000  60000 2.0         10.0        \n",
       "8  168 55 Laki-laki  40000    45000 150000 2.0          4.0        \n",
       "9  150 49 Perempuan  15000    50000 100000 1.0         16.0        \n",
       "10 177 51 Laki-laki  50000    10000 100000 0.5         15.0        \n",
       "11 170 72 Laki-laki  25000    25000 200000 2.0          5.0        \n",
       "12 158 57 Laki-laki  66000   140000  50000 1.0          5.0        \n",
       "13 173 80 Laki-laki  50000   500000  30000 2.0          5.0        \n",
       "14 177 56 Laki-laki  50000    50000  75000 3.0         14.0        \n",
       "15 166 51 Laki-laki  10000    50000 100000 2.0         12.5        \n",
       "16 159 50 Perempuan  30000    30000 200000 1.0         16.0        \n",
       "17 150 47 Perempuan      0        0  50000 2.0          4.0        \n",
       "18 159 47 Perempuan  67000    31000  40000 2.0         16.0        \n",
       "19 165 45 Perempuan  60000    50000  25000 1.0          7.0        \n",
       "20 160 50 Perempuan  40000    30000  50000 5.0         19.0        \n",
       "21 168 72 Laki-laki  50000    15000  75000 1.0          6.0        \n",
       "22 175 65 Laki-laki  50000    45000 100000 2.0          9.0        \n",
       "23 158 55 Perempuan  30000   200000 100000 5.0         12.0        \n",
       "24 163 54 Laki-laki  50000    30000  65000 2.0         12.0        \n",
       "25 163 53 Perempuan  75000    50000 100000 3.0          6.0        \n",
       "26 170 63 Perempuan 250000   500000 200000 2.0         24.0        \n",
       "27 166 90 Perempuan  50000    10000 100000 4.0         11.7        \n",
       "28 163 59 Perempuan  40000    50000  30000 3.0         12.0        \n",
       "29 156 49 Perempuan  30000    25000  50000 2.0          5.0        \n",
       "30 158 46 Laki-laki 200000    45000 150000 6.0         10.0        \n",
       "31 165 65 Laki-laki  50000    25000 150000 2.0          8.0        "
      ]
     },
     "metadata": {},
     "output_type": "display_data"
    }
   ],
   "source": [
    "data <- data[, c(2):c(9)]\n",
    "data"
   ]
  },
  {
   "cell_type": "markdown",
   "id": "995162c9",
   "metadata": {
    "heading_collapsed": true,
    "hidden": true
   },
   "source": [
    "## Convert Categorical Data to numeric"
   ]
  },
  {
   "cell_type": "code",
   "execution_count": 4,
   "id": "af053ca5",
   "metadata": {
    "ExecuteTime": {
     "end_time": "2022-02-20T14:34:30.206685Z",
     "start_time": "2022-02-20T14:34:29.097Z"
    },
    "hidden": true
   },
   "outputs": [
    {
     "data": {
      "text/html": [
       "<table>\n",
       "<thead><tr><th scope=col>TB</th><th scope=col>BB</th><th scope=col>JK</th><th scope=col>UangSaku</th><th scope=col>Jajan</th><th scope=col>Pulsa</th><th scope=col>LamaBelajar</th><th scope=col>LamaInternet</th></tr></thead>\n",
       "<tbody>\n",
       "\t<tr><td>170   </td><td>65    </td><td>1     </td><td> 50000</td><td> 30000</td><td>150000</td><td>1.0   </td><td> 5.0  </td></tr>\n",
       "\t<tr><td>169   </td><td>63    </td><td>1     </td><td> 50000</td><td> 30000</td><td> 50000</td><td>2.0   </td><td> 3.0  </td></tr>\n",
       "\t<tr><td>171   </td><td>53    </td><td>1     </td><td> 30000</td><td>500000</td><td> 50000</td><td>2.0   </td><td>12.0  </td></tr>\n",
       "\t<tr><td>167   </td><td>75    </td><td>1     </td><td> 35000</td><td> 35000</td><td> 85000</td><td>2.0   </td><td>10.0  </td></tr>\n",
       "\t<tr><td>173   </td><td>60    </td><td>1     </td><td> 40000</td><td> 35000</td><td>     0</td><td>0.5   </td><td> 6.0  </td></tr>\n",
       "\t<tr><td>183   </td><td>73    </td><td>1     </td><td> 30000</td><td> 22000</td><td>100000</td><td>1.0   </td><td> 2.0  </td></tr>\n",
       "\t<tr><td>170   </td><td>50    </td><td>1     </td><td> 20000</td><td> 10000</td><td> 60000</td><td>2.0   </td><td>10.0  </td></tr>\n",
       "\t<tr><td>168   </td><td>55    </td><td>1     </td><td> 40000</td><td> 45000</td><td>150000</td><td>2.0   </td><td> 4.0  </td></tr>\n",
       "\t<tr><td>150   </td><td>49    </td><td>2     </td><td> 15000</td><td> 50000</td><td>100000</td><td>1.0   </td><td>16.0  </td></tr>\n",
       "\t<tr><td>177   </td><td>51    </td><td>1     </td><td> 50000</td><td> 10000</td><td>100000</td><td>0.5   </td><td>15.0  </td></tr>\n",
       "\t<tr><td>170   </td><td>72    </td><td>1     </td><td> 25000</td><td> 25000</td><td>200000</td><td>2.0   </td><td> 5.0  </td></tr>\n",
       "\t<tr><td>158   </td><td>57    </td><td>1     </td><td> 66000</td><td>140000</td><td> 50000</td><td>1.0   </td><td> 5.0  </td></tr>\n",
       "\t<tr><td>173   </td><td>80    </td><td>1     </td><td> 50000</td><td>500000</td><td> 30000</td><td>2.0   </td><td> 5.0  </td></tr>\n",
       "\t<tr><td>177   </td><td>56    </td><td>1     </td><td> 50000</td><td> 50000</td><td> 75000</td><td>3.0   </td><td>14.0  </td></tr>\n",
       "\t<tr><td>166   </td><td>51    </td><td>1     </td><td> 10000</td><td> 50000</td><td>100000</td><td>2.0   </td><td>12.5  </td></tr>\n",
       "\t<tr><td>159   </td><td>50    </td><td>2     </td><td> 30000</td><td> 30000</td><td>200000</td><td>1.0   </td><td>16.0  </td></tr>\n",
       "\t<tr><td>150   </td><td>47    </td><td>2     </td><td>     0</td><td>     0</td><td> 50000</td><td>2.0   </td><td> 4.0  </td></tr>\n",
       "\t<tr><td>159   </td><td>47    </td><td>2     </td><td> 67000</td><td> 31000</td><td> 40000</td><td>2.0   </td><td>16.0  </td></tr>\n",
       "\t<tr><td>165   </td><td>45    </td><td>2     </td><td> 60000</td><td> 50000</td><td> 25000</td><td>1.0   </td><td> 7.0  </td></tr>\n",
       "\t<tr><td>160   </td><td>50    </td><td>2     </td><td> 40000</td><td> 30000</td><td> 50000</td><td>5.0   </td><td>19.0  </td></tr>\n",
       "\t<tr><td>168   </td><td>72    </td><td>1     </td><td> 50000</td><td> 15000</td><td> 75000</td><td>1.0   </td><td> 6.0  </td></tr>\n",
       "\t<tr><td>175   </td><td>65    </td><td>1     </td><td> 50000</td><td> 45000</td><td>100000</td><td>2.0   </td><td> 9.0  </td></tr>\n",
       "\t<tr><td>158   </td><td>55    </td><td>2     </td><td> 30000</td><td>200000</td><td>100000</td><td>5.0   </td><td>12.0  </td></tr>\n",
       "\t<tr><td>163   </td><td>54    </td><td>1     </td><td> 50000</td><td> 30000</td><td> 65000</td><td>2.0   </td><td>12.0  </td></tr>\n",
       "\t<tr><td>163   </td><td>53    </td><td>2     </td><td> 75000</td><td> 50000</td><td>100000</td><td>3.0   </td><td> 6.0  </td></tr>\n",
       "\t<tr><td>170   </td><td>63    </td><td>2     </td><td>250000</td><td>500000</td><td>200000</td><td>2.0   </td><td>24.0  </td></tr>\n",
       "\t<tr><td>166   </td><td>90    </td><td>2     </td><td> 50000</td><td> 10000</td><td>100000</td><td>4.0   </td><td>11.7  </td></tr>\n",
       "\t<tr><td>163   </td><td>59    </td><td>2     </td><td> 40000</td><td> 50000</td><td> 30000</td><td>3.0   </td><td>12.0  </td></tr>\n",
       "\t<tr><td>156   </td><td>49    </td><td>2     </td><td> 30000</td><td> 25000</td><td> 50000</td><td>2.0   </td><td> 5.0  </td></tr>\n",
       "\t<tr><td>158   </td><td>46    </td><td>1     </td><td>200000</td><td> 45000</td><td>150000</td><td>6.0   </td><td>10.0  </td></tr>\n",
       "\t<tr><td>165   </td><td>65    </td><td>1     </td><td> 50000</td><td> 25000</td><td>150000</td><td>2.0   </td><td> 8.0  </td></tr>\n",
       "</tbody>\n",
       "</table>\n"
      ],
      "text/latex": [
       "\\begin{tabular}{r|llllllll}\n",
       " TB & BB & JK & UangSaku & Jajan & Pulsa & LamaBelajar & LamaInternet\\\\\n",
       "\\hline\n",
       "\t 170    & 65     & 1      &  50000 &  30000 & 150000 & 1.0    &  5.0  \\\\\n",
       "\t 169    & 63     & 1      &  50000 &  30000 &  50000 & 2.0    &  3.0  \\\\\n",
       "\t 171    & 53     & 1      &  30000 & 500000 &  50000 & 2.0    & 12.0  \\\\\n",
       "\t 167    & 75     & 1      &  35000 &  35000 &  85000 & 2.0    & 10.0  \\\\\n",
       "\t 173    & 60     & 1      &  40000 &  35000 &      0 & 0.5    &  6.0  \\\\\n",
       "\t 183    & 73     & 1      &  30000 &  22000 & 100000 & 1.0    &  2.0  \\\\\n",
       "\t 170    & 50     & 1      &  20000 &  10000 &  60000 & 2.0    & 10.0  \\\\\n",
       "\t 168    & 55     & 1      &  40000 &  45000 & 150000 & 2.0    &  4.0  \\\\\n",
       "\t 150    & 49     & 2      &  15000 &  50000 & 100000 & 1.0    & 16.0  \\\\\n",
       "\t 177    & 51     & 1      &  50000 &  10000 & 100000 & 0.5    & 15.0  \\\\\n",
       "\t 170    & 72     & 1      &  25000 &  25000 & 200000 & 2.0    &  5.0  \\\\\n",
       "\t 158    & 57     & 1      &  66000 & 140000 &  50000 & 1.0    &  5.0  \\\\\n",
       "\t 173    & 80     & 1      &  50000 & 500000 &  30000 & 2.0    &  5.0  \\\\\n",
       "\t 177    & 56     & 1      &  50000 &  50000 &  75000 & 3.0    & 14.0  \\\\\n",
       "\t 166    & 51     & 1      &  10000 &  50000 & 100000 & 2.0    & 12.5  \\\\\n",
       "\t 159    & 50     & 2      &  30000 &  30000 & 200000 & 1.0    & 16.0  \\\\\n",
       "\t 150    & 47     & 2      &      0 &      0 &  50000 & 2.0    &  4.0  \\\\\n",
       "\t 159    & 47     & 2      &  67000 &  31000 &  40000 & 2.0    & 16.0  \\\\\n",
       "\t 165    & 45     & 2      &  60000 &  50000 &  25000 & 1.0    &  7.0  \\\\\n",
       "\t 160    & 50     & 2      &  40000 &  30000 &  50000 & 5.0    & 19.0  \\\\\n",
       "\t 168    & 72     & 1      &  50000 &  15000 &  75000 & 1.0    &  6.0  \\\\\n",
       "\t 175    & 65     & 1      &  50000 &  45000 & 100000 & 2.0    &  9.0  \\\\\n",
       "\t 158    & 55     & 2      &  30000 & 200000 & 100000 & 5.0    & 12.0  \\\\\n",
       "\t 163    & 54     & 1      &  50000 &  30000 &  65000 & 2.0    & 12.0  \\\\\n",
       "\t 163    & 53     & 2      &  75000 &  50000 & 100000 & 3.0    &  6.0  \\\\\n",
       "\t 170    & 63     & 2      & 250000 & 500000 & 200000 & 2.0    & 24.0  \\\\\n",
       "\t 166    & 90     & 2      &  50000 &  10000 & 100000 & 4.0    & 11.7  \\\\\n",
       "\t 163    & 59     & 2      &  40000 &  50000 &  30000 & 3.0    & 12.0  \\\\\n",
       "\t 156    & 49     & 2      &  30000 &  25000 &  50000 & 2.0    &  5.0  \\\\\n",
       "\t 158    & 46     & 1      & 200000 &  45000 & 150000 & 6.0    & 10.0  \\\\\n",
       "\t 165    & 65     & 1      &  50000 &  25000 & 150000 & 2.0    &  8.0  \\\\\n",
       "\\end{tabular}\n"
      ],
      "text/markdown": [
       "\n",
       "| TB | BB | JK | UangSaku | Jajan | Pulsa | LamaBelajar | LamaInternet |\n",
       "|---|---|---|---|---|---|---|---|\n",
       "| 170    | 65     | 1      |  50000 |  30000 | 150000 | 1.0    |  5.0   |\n",
       "| 169    | 63     | 1      |  50000 |  30000 |  50000 | 2.0    |  3.0   |\n",
       "| 171    | 53     | 1      |  30000 | 500000 |  50000 | 2.0    | 12.0   |\n",
       "| 167    | 75     | 1      |  35000 |  35000 |  85000 | 2.0    | 10.0   |\n",
       "| 173    | 60     | 1      |  40000 |  35000 |      0 | 0.5    |  6.0   |\n",
       "| 183    | 73     | 1      |  30000 |  22000 | 100000 | 1.0    |  2.0   |\n",
       "| 170    | 50     | 1      |  20000 |  10000 |  60000 | 2.0    | 10.0   |\n",
       "| 168    | 55     | 1      |  40000 |  45000 | 150000 | 2.0    |  4.0   |\n",
       "| 150    | 49     | 2      |  15000 |  50000 | 100000 | 1.0    | 16.0   |\n",
       "| 177    | 51     | 1      |  50000 |  10000 | 100000 | 0.5    | 15.0   |\n",
       "| 170    | 72     | 1      |  25000 |  25000 | 200000 | 2.0    |  5.0   |\n",
       "| 158    | 57     | 1      |  66000 | 140000 |  50000 | 1.0    |  5.0   |\n",
       "| 173    | 80     | 1      |  50000 | 500000 |  30000 | 2.0    |  5.0   |\n",
       "| 177    | 56     | 1      |  50000 |  50000 |  75000 | 3.0    | 14.0   |\n",
       "| 166    | 51     | 1      |  10000 |  50000 | 100000 | 2.0    | 12.5   |\n",
       "| 159    | 50     | 2      |  30000 |  30000 | 200000 | 1.0    | 16.0   |\n",
       "| 150    | 47     | 2      |      0 |      0 |  50000 | 2.0    |  4.0   |\n",
       "| 159    | 47     | 2      |  67000 |  31000 |  40000 | 2.0    | 16.0   |\n",
       "| 165    | 45     | 2      |  60000 |  50000 |  25000 | 1.0    |  7.0   |\n",
       "| 160    | 50     | 2      |  40000 |  30000 |  50000 | 5.0    | 19.0   |\n",
       "| 168    | 72     | 1      |  50000 |  15000 |  75000 | 1.0    |  6.0   |\n",
       "| 175    | 65     | 1      |  50000 |  45000 | 100000 | 2.0    |  9.0   |\n",
       "| 158    | 55     | 2      |  30000 | 200000 | 100000 | 5.0    | 12.0   |\n",
       "| 163    | 54     | 1      |  50000 |  30000 |  65000 | 2.0    | 12.0   |\n",
       "| 163    | 53     | 2      |  75000 |  50000 | 100000 | 3.0    |  6.0   |\n",
       "| 170    | 63     | 2      | 250000 | 500000 | 200000 | 2.0    | 24.0   |\n",
       "| 166    | 90     | 2      |  50000 |  10000 | 100000 | 4.0    | 11.7   |\n",
       "| 163    | 59     | 2      |  40000 |  50000 |  30000 | 3.0    | 12.0   |\n",
       "| 156    | 49     | 2      |  30000 |  25000 |  50000 | 2.0    |  5.0   |\n",
       "| 158    | 46     | 1      | 200000 |  45000 | 150000 | 6.0    | 10.0   |\n",
       "| 165    | 65     | 1      |  50000 |  25000 | 150000 | 2.0    |  8.0   |\n",
       "\n"
      ],
      "text/plain": [
       "   TB  BB JK UangSaku Jajan  Pulsa  LamaBelajar LamaInternet\n",
       "1  170 65 1   50000    30000 150000 1.0          5.0        \n",
       "2  169 63 1   50000    30000  50000 2.0          3.0        \n",
       "3  171 53 1   30000   500000  50000 2.0         12.0        \n",
       "4  167 75 1   35000    35000  85000 2.0         10.0        \n",
       "5  173 60 1   40000    35000      0 0.5          6.0        \n",
       "6  183 73 1   30000    22000 100000 1.0          2.0        \n",
       "7  170 50 1   20000    10000  60000 2.0         10.0        \n",
       "8  168 55 1   40000    45000 150000 2.0          4.0        \n",
       "9  150 49 2   15000    50000 100000 1.0         16.0        \n",
       "10 177 51 1   50000    10000 100000 0.5         15.0        \n",
       "11 170 72 1   25000    25000 200000 2.0          5.0        \n",
       "12 158 57 1   66000   140000  50000 1.0          5.0        \n",
       "13 173 80 1   50000   500000  30000 2.0          5.0        \n",
       "14 177 56 1   50000    50000  75000 3.0         14.0        \n",
       "15 166 51 1   10000    50000 100000 2.0         12.5        \n",
       "16 159 50 2   30000    30000 200000 1.0         16.0        \n",
       "17 150 47 2       0        0  50000 2.0          4.0        \n",
       "18 159 47 2   67000    31000  40000 2.0         16.0        \n",
       "19 165 45 2   60000    50000  25000 1.0          7.0        \n",
       "20 160 50 2   40000    30000  50000 5.0         19.0        \n",
       "21 168 72 1   50000    15000  75000 1.0          6.0        \n",
       "22 175 65 1   50000    45000 100000 2.0          9.0        \n",
       "23 158 55 2   30000   200000 100000 5.0         12.0        \n",
       "24 163 54 1   50000    30000  65000 2.0         12.0        \n",
       "25 163 53 2   75000    50000 100000 3.0          6.0        \n",
       "26 170 63 2  250000   500000 200000 2.0         24.0        \n",
       "27 166 90 2   50000    10000 100000 4.0         11.7        \n",
       "28 163 59 2   40000    50000  30000 3.0         12.0        \n",
       "29 156 49 2   30000    25000  50000 2.0          5.0        \n",
       "30 158 46 1  200000    45000 150000 6.0         10.0        \n",
       "31 165 65 1   50000    25000 150000 2.0          8.0        "
      ]
     },
     "metadata": {},
     "output_type": "display_data"
    }
   ],
   "source": [
    "data$JK <- as.numeric(factor(data$JK))\n",
    "datanum <- data\n",
    "datanum"
   ]
  },
  {
   "cell_type": "markdown",
   "id": "ea19f4ca",
   "metadata": {
    "heading_collapsed": true,
    "hidden": true
   },
   "source": [
    "## Define Variable"
   ]
  },
  {
   "cell_type": "code",
   "execution_count": 5,
   "id": "11f0e05d",
   "metadata": {
    "ExecuteTime": {
     "end_time": "2022-02-20T14:34:30.239685Z",
     "start_time": "2022-02-20T14:34:29.101Z"
    },
    "hidden": true
   },
   "outputs": [],
   "source": [
    "tinggi <- datanum$TB\n",
    "berat <- datanum$BB\n",
    "jenisKelamin <- datanum$JK\n",
    "uangsaku <- datanum$UangSaku\n",
    "jajan <- datanum$Jajan\n",
    "pulsa <- datanum$Pulsa\n",
    "lamaBelajar <- datanum$LamaBelajar\n",
    "lamaInternet <- datanum$LamaInternet"
   ]
  },
  {
   "cell_type": "markdown",
   "id": "7e4e42ed",
   "metadata": {},
   "source": [
    "# Central Tendency and Variability"
   ]
  },
  {
   "cell_type": "markdown",
   "id": "50994370",
   "metadata": {},
   "source": [
    "Mode Calculation"
   ]
  },
  {
   "cell_type": "code",
   "execution_count": 6,
   "id": "6cdb31a2",
   "metadata": {
    "ExecuteTime": {
     "end_time": "2022-02-20T14:34:30.274691Z",
     "start_time": "2022-02-20T14:34:29.105Z"
    }
   },
   "outputs": [],
   "source": [
    "getmode <- function(datanum) {\n",
    "   uniqv <- unique(datanum)\n",
    "   uniqv[which.max(tabulate(match(datanum, uniqv)))]\n",
    "}\n",
    "\n",
    "modTB = getmode(tinggi)\n",
    "modBB = getmode(berat)\n",
    "modUangSaku = getmode(uangsaku)\n",
    "modJajan = getmode(jajan)\n",
    "modPulsa = getmode(pulsa)\n",
    "modLamaBelajar = getmode(lamaBelajar)\n",
    "modLamaInternet = getmode(lamaInternet)"
   ]
  },
  {
   "cell_type": "markdown",
   "id": "0f8643e3",
   "metadata": {
    "heading_collapsed": true
   },
   "source": [
    "## Tinggi Badan"
   ]
  },
  {
   "cell_type": "code",
   "execution_count": 7,
   "id": "abf7fcb1",
   "metadata": {
    "ExecuteTime": {
     "end_time": "2022-02-20T14:34:30.333689Z",
     "start_time": "2022-02-20T14:34:29.108Z"
    },
    "hidden": true
   },
   "outputs": [
    {
     "data": {
      "text/html": [
       "'Minimal : 150.000000 cm'"
      ],
      "text/latex": [
       "'Minimal : 150.000000 cm'"
      ],
      "text/markdown": [
       "'Minimal : 150.000000 cm'"
      ],
      "text/plain": [
       "[1] \"Minimal : 150.000000 cm\""
      ]
     },
     "metadata": {},
     "output_type": "display_data"
    },
    {
     "data": {
      "text/html": [
       "'Maksimal : 183.000000 cm'"
      ],
      "text/latex": [
       "'Maksimal : 183.000000 cm'"
      ],
      "text/markdown": [
       "'Maksimal : 183.000000 cm'"
      ],
      "text/plain": [
       "[1] \"Maksimal : 183.000000 cm\""
      ]
     },
     "metadata": {},
     "output_type": "display_data"
    },
    {
     "data": {
      "text/html": [
       "'Range : 33.000000 cm'"
      ],
      "text/latex": [
       "'Range : 33.000000 cm'"
      ],
      "text/markdown": [
       "'Range : 33.000000 cm'"
      ],
      "text/plain": [
       "[1] \"Range : 33.000000 cm\""
      ]
     },
     "metadata": {},
     "output_type": "display_data"
    },
    {
     "data": {
      "text/html": [
       "'Mean : 165.806452 cm'"
      ],
      "text/latex": [
       "'Mean : 165.806452 cm'"
      ],
      "text/markdown": [
       "'Mean : 165.806452 cm'"
      ],
      "text/plain": [
       "[1] \"Mean : 165.806452 cm\""
      ]
     },
     "metadata": {},
     "output_type": "display_data"
    },
    {
     "data": {
      "text/html": [
       "'Median : 166.000000 cm'"
      ],
      "text/latex": [
       "'Median : 166.000000 cm'"
      ],
      "text/markdown": [
       "'Median : 166.000000 cm'"
      ],
      "text/plain": [
       "[1] \"Median : 166.000000 cm\""
      ]
     },
     "metadata": {},
     "output_type": "display_data"
    },
    {
     "data": {
      "text/html": [
       "'Modus : 170 cm'"
      ],
      "text/latex": [
       "'Modus : 170 cm'"
      ],
      "text/markdown": [
       "'Modus : 170 cm'"
      ],
      "text/plain": [
       "[1] \"Modus : 170 cm\""
      ]
     },
     "metadata": {},
     "output_type": "display_data"
    },
    {
     "data": {
      "text/html": [
       "'Kuartil :'"
      ],
      "text/latex": [
       "'Kuartil :'"
      ],
      "text/markdown": [
       "'Kuartil :'"
      ],
      "text/plain": [
       "[1] \"Kuartil :\""
      ]
     },
     "metadata": {},
     "output_type": "display_data"
    },
    {
     "name": "stdout",
     "output_type": "stream",
     "text": [
      "   0%   25%   50%   75%  100% \n",
      "150.0 159.5 166.0 170.0 183.0 \n"
     ]
    }
   ],
   "source": [
    "sprintf(\"Minimal : %f cm\", min(tinggi))\n",
    "sprintf(\"Maksimal : %f cm\", max(tinggi))\n",
    "sprintf(\"Range : %f cm\", max(tinggi)-min(tinggi))\n",
    "sprintf(\"Mean : %f cm\", mean(tinggi))\n",
    "sprintf(\"Median : %f cm\", median(tinggi))\n",
    "sprintf(\"Modus : %d cm\",modTB)\n",
    "sprintf(\"Kuartil :\")\n",
    "print(quantile(tinggi))"
   ]
  },
  {
   "cell_type": "code",
   "execution_count": 8,
   "id": "8db2c6d8",
   "metadata": {
    "ExecuteTime": {
     "end_time": "2022-02-20T14:34:30.397690Z",
     "start_time": "2022-02-20T14:34:29.110Z"
    },
    "hidden": true
   },
   "outputs": [
    {
     "data": {
      "text/html": [
       "'Standar Deviasi : 7.708953 cm'"
      ],
      "text/latex": [
       "'Standar Deviasi : 7.708953 cm'"
      ],
      "text/markdown": [
       "'Standar Deviasi : 7.708953 cm'"
      ],
      "text/plain": [
       "[1] \"Standar Deviasi : 7.708953 cm\""
      ]
     },
     "metadata": {},
     "output_type": "display_data"
    },
    {
     "data": {
      "text/html": [
       "'Simpangan Kuartil : 5.250000 cm'"
      ],
      "text/latex": [
       "'Simpangan Kuartil : 5.250000 cm'"
      ],
      "text/markdown": [
       "'Simpangan Kuartil : 5.250000 cm'"
      ],
      "text/plain": [
       "[1] \"Simpangan Kuartil : 5.250000 cm\""
      ]
     },
     "metadata": {},
     "output_type": "display_data"
    }
   ],
   "source": [
    "sprintf(\"Standar Deviasi : %f cm\", sd(tinggi))\n",
    "\n",
    "tinggiQ3 = quantile(tinggi, probs = seq(0.75, 0))\n",
    "tinggiQ1 = quantile(tinggi, probs = seq(0.25, 0))\n",
    "sktinggi = 0.5*(tinggiQ3-tinggiQ1)\n",
    "sprintf(\"Simpangan Kuartil : %f cm\", sktinggi)"
   ]
  },
  {
   "cell_type": "markdown",
   "id": "e358c578",
   "metadata": {
    "heading_collapsed": true
   },
   "source": [
    "## Berat Badan"
   ]
  },
  {
   "cell_type": "code",
   "execution_count": 9,
   "id": "cccc41f8",
   "metadata": {
    "ExecuteTime": {
     "end_time": "2022-02-20T14:34:30.485917Z",
     "start_time": "2022-02-20T14:34:29.112Z"
    },
    "hidden": true
   },
   "outputs": [
    {
     "data": {
      "text/html": [
       "'Minimal : 45 kg'"
      ],
      "text/latex": [
       "'Minimal : 45 kg'"
      ],
      "text/markdown": [
       "'Minimal : 45 kg'"
      ],
      "text/plain": [
       "[1] \"Minimal : 45 kg\""
      ]
     },
     "metadata": {},
     "output_type": "display_data"
    },
    {
     "data": {
      "text/html": [
       "'Maksimal : 90 kg'"
      ],
      "text/latex": [
       "'Maksimal : 90 kg'"
      ],
      "text/markdown": [
       "'Maksimal : 90 kg'"
      ],
      "text/plain": [
       "[1] \"Maksimal : 90 kg\""
      ]
     },
     "metadata": {},
     "output_type": "display_data"
    },
    {
     "data": {
      "text/html": [
       "'Range : 45 kg'"
      ],
      "text/latex": [
       "'Range : 45 kg'"
      ],
      "text/markdown": [
       "'Range : 45 kg'"
      ],
      "text/plain": [
       "[1] \"Range : 45 kg\""
      ]
     },
     "metadata": {},
     "output_type": "display_data"
    },
    {
     "data": {
      "text/html": [
       "'Mean : 58.709677 kg'"
      ],
      "text/latex": [
       "'Mean : 58.709677 kg'"
      ],
      "text/markdown": [
       "'Mean : 58.709677 kg'"
      ],
      "text/plain": [
       "[1] \"Mean : 58.709677 kg\""
      ]
     },
     "metadata": {},
     "output_type": "display_data"
    },
    {
     "data": {
      "text/html": [
       "'Median : 55 kg'"
      ],
      "text/latex": [
       "'Median : 55 kg'"
      ],
      "text/markdown": [
       "'Median : 55 kg'"
      ],
      "text/plain": [
       "[1] \"Median : 55 kg\""
      ]
     },
     "metadata": {},
     "output_type": "display_data"
    },
    {
     "data": {
      "text/html": [
       "'Modus : 65 kg'"
      ],
      "text/latex": [
       "'Modus : 65 kg'"
      ],
      "text/markdown": [
       "'Modus : 65 kg'"
      ],
      "text/plain": [
       "[1] \"Modus : 65 kg\""
      ]
     },
     "metadata": {},
     "output_type": "display_data"
    },
    {
     "data": {
      "text/html": [
       "'Kuartil :'"
      ],
      "text/latex": [
       "'Kuartil :'"
      ],
      "text/markdown": [
       "'Kuartil :'"
      ],
      "text/plain": [
       "[1] \"Kuartil :\""
      ]
     },
     "metadata": {},
     "output_type": "display_data"
    },
    {
     "name": "stdout",
     "output_type": "stream",
     "text": [
      "  0%  25%  50%  75% 100% \n",
      "  45   50   55   65   90 \n"
     ]
    }
   ],
   "source": [
    "sprintf(\"Minimal : %d kg\", min(berat))\n",
    "sprintf(\"Maksimal : %d kg\", max(berat))\n",
    "sprintf(\"Range : %d kg\", max(berat)-min(berat))\n",
    "sprintf(\"Mean : %f kg\", mean(berat))\n",
    "sprintf(\"Median : %d kg\", median(berat))\n",
    "sprintf(\"Modus : %d kg\",modBB)\n",
    "sprintf(\"Kuartil :\")\n",
    "print(quantile(berat))"
   ]
  },
  {
   "cell_type": "code",
   "execution_count": 10,
   "id": "b69fd186",
   "metadata": {
    "ExecuteTime": {
     "end_time": "2022-02-20T14:34:30.542922Z",
     "start_time": "2022-02-20T14:34:29.115Z"
    },
    "hidden": true
   },
   "outputs": [
    {
     "data": {
      "text/html": [
       "'Standar Deviasi : 11.100131 kg'"
      ],
      "text/latex": [
       "'Standar Deviasi : 11.100131 kg'"
      ],
      "text/markdown": [
       "'Standar Deviasi : 11.100131 kg'"
      ],
      "text/plain": [
       "[1] \"Standar Deviasi : 11.100131 kg\""
      ]
     },
     "metadata": {},
     "output_type": "display_data"
    },
    {
     "data": {
      "text/html": [
       "'Simpangan Kuartil : 7.500000 kg'"
      ],
      "text/latex": [
       "'Simpangan Kuartil : 7.500000 kg'"
      ],
      "text/markdown": [
       "'Simpangan Kuartil : 7.500000 kg'"
      ],
      "text/plain": [
       "[1] \"Simpangan Kuartil : 7.500000 kg\""
      ]
     },
     "metadata": {},
     "output_type": "display_data"
    }
   ],
   "source": [
    "sprintf(\"Standar Deviasi : %f kg\", sd(berat))\n",
    "\n",
    "beratQ3 = quantile(berat, probs = seq(0.75, 0))\n",
    "beratQ1 = quantile(berat, probs = seq(0.25, 0))\n",
    "skberat = 0.5*(beratQ3-beratQ1)\n",
    "sprintf(\"Simpangan Kuartil : %f kg\", skberat)"
   ]
  },
  {
   "cell_type": "markdown",
   "id": "a9f1e093",
   "metadata": {
    "heading_collapsed": true
   },
   "source": [
    "## Uang Saku"
   ]
  },
  {
   "cell_type": "code",
   "execution_count": 11,
   "id": "0b7ce130",
   "metadata": {
    "ExecuteTime": {
     "end_time": "2022-02-20T14:34:30.614916Z",
     "start_time": "2022-02-20T14:34:29.118Z"
    },
    "hidden": true
   },
   "outputs": [
    {
     "data": {
      "text/html": [
       "'Minimal : Rp0'"
      ],
      "text/latex": [
       "'Minimal : Rp0'"
      ],
      "text/markdown": [
       "'Minimal : Rp0'"
      ],
      "text/plain": [
       "[1] \"Minimal : Rp0\""
      ]
     },
     "metadata": {},
     "output_type": "display_data"
    },
    {
     "data": {
      "text/html": [
       "'Maksimal : Rp250000'"
      ],
      "text/latex": [
       "'Maksimal : Rp250000'"
      ],
      "text/markdown": [
       "'Maksimal : Rp250000'"
      ],
      "text/plain": [
       "[1] \"Maksimal : Rp250000\""
      ]
     },
     "metadata": {},
     "output_type": "display_data"
    },
    {
     "data": {
      "text/html": [
       "'Range : Rp250000'"
      ],
      "text/latex": [
       "'Range : Rp250000'"
      ],
      "text/markdown": [
       "'Range : Rp250000'"
      ],
      "text/plain": [
       "[1] \"Range : Rp250000\""
      ]
     },
     "metadata": {},
     "output_type": "display_data"
    },
    {
     "data": {
      "text/html": [
       "'Mean : Rp52677.419355'"
      ],
      "text/latex": [
       "'Mean : Rp52677.419355'"
      ],
      "text/markdown": [
       "'Mean : Rp52677.419355'"
      ],
      "text/plain": [
       "[1] \"Mean : Rp52677.419355\""
      ]
     },
     "metadata": {},
     "output_type": "display_data"
    },
    {
     "data": {
      "text/html": [
       "'Median : Rp50000.000000'"
      ],
      "text/latex": [
       "'Median : Rp50000.000000'"
      ],
      "text/markdown": [
       "'Median : Rp50000.000000'"
      ],
      "text/plain": [
       "[1] \"Median : Rp50000.000000\""
      ]
     },
     "metadata": {},
     "output_type": "display_data"
    },
    {
     "data": {
      "text/html": [
       "'Modus : Rp50000'"
      ],
      "text/latex": [
       "'Modus : Rp50000'"
      ],
      "text/markdown": [
       "'Modus : Rp50000'"
      ],
      "text/plain": [
       "[1] \"Modus : Rp50000\""
      ]
     },
     "metadata": {},
     "output_type": "display_data"
    },
    {
     "data": {
      "text/html": [
       "'Kuartil :'"
      ],
      "text/latex": [
       "'Kuartil :'"
      ],
      "text/markdown": [
       "'Kuartil :'"
      ],
      "text/plain": [
       "[1] \"Kuartil :\""
      ]
     },
     "metadata": {},
     "output_type": "display_data"
    },
    {
     "name": "stdout",
     "output_type": "stream",
     "text": [
      "    0%    25%    50%    75%   100% \n",
      "     0  30000  50000  50000 250000 \n"
     ]
    }
   ],
   "source": [
    "sprintf(\"Minimal : Rp%d\", min(uangsaku))\n",
    "sprintf(\"Maksimal : Rp%d\", max(uangsaku))\n",
    "sprintf(\"Range : Rp%d\", max(uangsaku)-min(uangsaku))\n",
    "sprintf(\"Mean : Rp%f\", mean(uangsaku))\n",
    "sprintf(\"Median : Rp%f\", median(uangsaku))\n",
    "sprintf(\"Modus : Rp%d\",modUangSaku)\n",
    "sprintf(\"Kuartil :\")\n",
    "print(quantile(uangsaku))"
   ]
  },
  {
   "cell_type": "code",
   "execution_count": 12,
   "id": "4e8d2c32",
   "metadata": {
    "ExecuteTime": {
     "end_time": "2022-02-20T14:34:30.658923Z",
     "start_time": "2022-02-20T14:34:29.120Z"
    },
    "hidden": true
   },
   "outputs": [
    {
     "data": {
      "text/html": [
       "'Standar Deviasi : 49336.522710 cm'"
      ],
      "text/latex": [
       "'Standar Deviasi : 49336.522710 cm'"
      ],
      "text/markdown": [
       "'Standar Deviasi : 49336.522710 cm'"
      ],
      "text/plain": [
       "[1] \"Standar Deviasi : 49336.522710 cm\""
      ]
     },
     "metadata": {},
     "output_type": "display_data"
    },
    {
     "data": {
      "text/html": [
       "'Simpangan Kuartil : 10000.000000 cm'"
      ],
      "text/latex": [
       "'Simpangan Kuartil : 10000.000000 cm'"
      ],
      "text/markdown": [
       "'Simpangan Kuartil : 10000.000000 cm'"
      ],
      "text/plain": [
       "[1] \"Simpangan Kuartil : 10000.000000 cm\""
      ]
     },
     "metadata": {},
     "output_type": "display_data"
    }
   ],
   "source": [
    "sprintf(\"Standar Deviasi : %f cm\", sd(uangsaku))\n",
    "\n",
    "uangsakuQ3 = quantile(uangsaku, probs = seq(0.75, 0))\n",
    "uangsakuQ1 = quantile(uangsaku, probs = seq(0.25, 0))\n",
    "skuangsaku = 0.5*(uangsakuQ3-uangsakuQ1)\n",
    "sprintf(\"Simpangan Kuartil : %f cm\", skuangsaku)"
   ]
  },
  {
   "cell_type": "markdown",
   "id": "8cdb1369",
   "metadata": {
    "heading_collapsed": true
   },
   "source": [
    "## Pengeluaran Jajan"
   ]
  },
  {
   "cell_type": "code",
   "execution_count": 13,
   "id": "d695a1a3",
   "metadata": {
    "ExecuteTime": {
     "end_time": "2022-02-20T14:34:30.714916Z",
     "start_time": "2022-02-20T14:34:29.123Z"
    },
    "hidden": true
   },
   "outputs": [
    {
     "data": {
      "text/html": [
       "'Minimal : Rp0'"
      ],
      "text/latex": [
       "'Minimal : Rp0'"
      ],
      "text/markdown": [
       "'Minimal : Rp0'"
      ],
      "text/plain": [
       "[1] \"Minimal : Rp0\""
      ]
     },
     "metadata": {},
     "output_type": "display_data"
    },
    {
     "data": {
      "text/html": [
       "'Maksimal : Rp500000'"
      ],
      "text/latex": [
       "'Maksimal : Rp500000'"
      ],
      "text/markdown": [
       "'Maksimal : Rp500000'"
      ],
      "text/plain": [
       "[1] \"Maksimal : Rp500000\""
      ]
     },
     "metadata": {},
     "output_type": "display_data"
    },
    {
     "data": {
      "text/html": [
       "'Range : Rp500000'"
      ],
      "text/latex": [
       "'Range : Rp500000'"
      ],
      "text/markdown": [
       "'Range : Rp500000'"
      ],
      "text/plain": [
       "[1] \"Range : Rp500000\""
      ]
     },
     "metadata": {},
     "output_type": "display_data"
    },
    {
     "data": {
      "text/html": [
       "'Mean : Rp86064.516129'"
      ],
      "text/latex": [
       "'Mean : Rp86064.516129'"
      ],
      "text/markdown": [
       "'Mean : Rp86064.516129'"
      ],
      "text/plain": [
       "[1] \"Mean : Rp86064.516129\""
      ]
     },
     "metadata": {},
     "output_type": "display_data"
    },
    {
     "data": {
      "text/html": [
       "'Median : Rp35000'"
      ],
      "text/latex": [
       "'Median : Rp35000'"
      ],
      "text/markdown": [
       "'Median : Rp35000'"
      ],
      "text/plain": [
       "[1] \"Median : Rp35000\""
      ]
     },
     "metadata": {},
     "output_type": "display_data"
    },
    {
     "data": {
      "text/html": [
       "'Modus : Rp50000'"
      ],
      "text/latex": [
       "'Modus : Rp50000'"
      ],
      "text/markdown": [
       "'Modus : Rp50000'"
      ],
      "text/plain": [
       "[1] \"Modus : Rp50000\""
      ]
     },
     "metadata": {},
     "output_type": "display_data"
    },
    {
     "data": {
      "text/html": [
       "'Kuartil :'"
      ],
      "text/latex": [
       "'Kuartil :'"
      ],
      "text/markdown": [
       "'Kuartil :'"
      ],
      "text/plain": [
       "[1] \"Kuartil :\""
      ]
     },
     "metadata": {},
     "output_type": "display_data"
    },
    {
     "name": "stdout",
     "output_type": "stream",
     "text": [
      "    0%    25%    50%    75%   100% \n",
      "     0  25000  35000  50000 500000 \n"
     ]
    }
   ],
   "source": [
    "sprintf(\"Minimal : Rp%d\", min(jajan))\n",
    "sprintf(\"Maksimal : Rp%d\", max(jajan))\n",
    "sprintf(\"Range : Rp%d\", max(jajan)-min(jajan))\n",
    "sprintf(\"Mean : Rp%f\", mean(jajan))\n",
    "sprintf(\"Median : Rp%d\", median(jajan))\n",
    "sprintf(\"Modus : Rp%d\",modJajan)\n",
    "sprintf(\"Kuartil :\")\n",
    "print(quantile(jajan))"
   ]
  },
  {
   "cell_type": "code",
   "execution_count": 14,
   "id": "650e99e8",
   "metadata": {
    "ExecuteTime": {
     "end_time": "2022-02-20T14:34:30.748917Z",
     "start_time": "2022-02-20T14:34:29.125Z"
    },
    "hidden": true
   },
   "outputs": [
    {
     "data": {
      "text/html": [
       "'Standar Deviasi : Rp142811.048939'"
      ],
      "text/latex": [
       "'Standar Deviasi : Rp142811.048939'"
      ],
      "text/markdown": [
       "'Standar Deviasi : Rp142811.048939'"
      ],
      "text/plain": [
       "[1] \"Standar Deviasi : Rp142811.048939\""
      ]
     },
     "metadata": {},
     "output_type": "display_data"
    },
    {
     "data": {
      "text/html": [
       "'Simpangan Kuartil : Rp12500'"
      ],
      "text/latex": [
       "'Simpangan Kuartil : Rp12500'"
      ],
      "text/markdown": [
       "'Simpangan Kuartil : Rp12500'"
      ],
      "text/plain": [
       "[1] \"Simpangan Kuartil : Rp12500\""
      ]
     },
     "metadata": {},
     "output_type": "display_data"
    }
   ],
   "source": [
    "sprintf(\"Standar Deviasi : Rp%f\", sd(jajan))\n",
    "\n",
    "jajanQ3 = quantile(jajan, probs = seq(0.75, 0))\n",
    "jajanQ1 = quantile(jajan, probs = seq(0.25, 0))\n",
    "skjajan = 0.5*(jajanQ3-jajanQ1)\n",
    "sprintf(\"Simpangan Kuartil : Rp%d\", skjajan)"
   ]
  },
  {
   "cell_type": "markdown",
   "id": "b10e6c93",
   "metadata": {
    "heading_collapsed": true
   },
   "source": [
    "## Penggunaan Pulsa"
   ]
  },
  {
   "cell_type": "code",
   "execution_count": 15,
   "id": "e2ac4dbf",
   "metadata": {
    "ExecuteTime": {
     "end_time": "2022-02-20T14:34:30.826924Z",
     "start_time": "2022-02-20T14:34:29.128Z"
    },
    "hidden": true
   },
   "outputs": [
    {
     "data": {
      "text/html": [
       "'Minimal : Rp0'"
      ],
      "text/latex": [
       "'Minimal : Rp0'"
      ],
      "text/markdown": [
       "'Minimal : Rp0'"
      ],
      "text/plain": [
       "[1] \"Minimal : Rp0\""
      ]
     },
     "metadata": {},
     "output_type": "display_data"
    },
    {
     "data": {
      "text/html": [
       "'Maksimal : Rp200000'"
      ],
      "text/latex": [
       "'Maksimal : Rp200000'"
      ],
      "text/markdown": [
       "'Maksimal : Rp200000'"
      ],
      "text/plain": [
       "[1] \"Maksimal : Rp200000\""
      ]
     },
     "metadata": {},
     "output_type": "display_data"
    },
    {
     "data": {
      "text/html": [
       "'Range : Rp200000'"
      ],
      "text/latex": [
       "'Range : Rp200000'"
      ],
      "text/markdown": [
       "'Range : Rp200000'"
      ],
      "text/plain": [
       "[1] \"Range : Rp200000\""
      ]
     },
     "metadata": {},
     "output_type": "display_data"
    },
    {
     "data": {
      "text/html": [
       "'Mean : Rp89838.709677'"
      ],
      "text/latex": [
       "'Mean : Rp89838.709677'"
      ],
      "text/markdown": [
       "'Mean : Rp89838.709677'"
      ],
      "text/plain": [
       "[1] \"Mean : Rp89838.709677\""
      ]
     },
     "metadata": {},
     "output_type": "display_data"
    },
    {
     "data": {
      "text/html": [
       "'Median : Rp85000'"
      ],
      "text/latex": [
       "'Median : Rp85000'"
      ],
      "text/markdown": [
       "'Median : Rp85000'"
      ],
      "text/plain": [
       "[1] \"Median : Rp85000\""
      ]
     },
     "metadata": {},
     "output_type": "display_data"
    },
    {
     "data": {
      "text/html": [
       "'Modus : Rp100000'"
      ],
      "text/latex": [
       "'Modus : Rp100000'"
      ],
      "text/markdown": [
       "'Modus : Rp100000'"
      ],
      "text/plain": [
       "[1] \"Modus : Rp100000\""
      ]
     },
     "metadata": {},
     "output_type": "display_data"
    },
    {
     "data": {
      "text/html": [
       "'Kuartil :'"
      ],
      "text/latex": [
       "'Kuartil :'"
      ],
      "text/markdown": [
       "'Kuartil :'"
      ],
      "text/plain": [
       "[1] \"Kuartil :\""
      ]
     },
     "metadata": {},
     "output_type": "display_data"
    },
    {
     "name": "stdout",
     "output_type": "stream",
     "text": [
      "    0%    25%    50%    75%   100% \n",
      "     0  50000  85000 100000 200000 \n"
     ]
    }
   ],
   "source": [
    "sprintf(\"Minimal : Rp%d\", min(pulsa))\n",
    "sprintf(\"Maksimal : Rp%d\", max(pulsa))\n",
    "sprintf(\"Range : Rp%d\", max(pulsa)-min(pulsa))\n",
    "sprintf(\"Mean : Rp%f\", mean(pulsa))\n",
    "sprintf(\"Median : Rp%d\", median(pulsa))\n",
    "sprintf(\"Modus : Rp%d\",modPulsa)\n",
    "sprintf(\"Kuartil :\")\n",
    "print(quantile(pulsa))"
   ]
  },
  {
   "cell_type": "code",
   "execution_count": 16,
   "id": "31589987",
   "metadata": {
    "ExecuteTime": {
     "end_time": "2022-02-20T14:34:30.871922Z",
     "start_time": "2022-02-20T14:34:29.130Z"
    },
    "hidden": true
   },
   "outputs": [
    {
     "data": {
      "text/html": [
       "'Standar Deviasi : Rp53267.937057'"
      ],
      "text/latex": [
       "'Standar Deviasi : Rp53267.937057'"
      ],
      "text/markdown": [
       "'Standar Deviasi : Rp53267.937057'"
      ],
      "text/plain": [
       "[1] \"Standar Deviasi : Rp53267.937057\""
      ]
     },
     "metadata": {},
     "output_type": "display_data"
    },
    {
     "data": {
      "text/html": [
       "'Simpangan Kuartil : Rp12500'"
      ],
      "text/latex": [
       "'Simpangan Kuartil : Rp12500'"
      ],
      "text/markdown": [
       "'Simpangan Kuartil : Rp12500'"
      ],
      "text/plain": [
       "[1] \"Simpangan Kuartil : Rp12500\""
      ]
     },
     "metadata": {},
     "output_type": "display_data"
    }
   ],
   "source": [
    "sprintf(\"Standar Deviasi : Rp%f\", sd(pulsa))\n",
    "\n",
    "pulsaQ3 = quantile(jajan, probs = seq(0.75, 0))\n",
    "pulsaQ1 = quantile(jajan, probs = seq(0.25, 0))\n",
    "skpulsa = 0.5*(pulsaQ3-pulsaQ1)\n",
    "sprintf(\"Simpangan Kuartil : Rp%d\", skpulsa)"
   ]
  },
  {
   "cell_type": "markdown",
   "id": "00c19c92",
   "metadata": {
    "heading_collapsed": true
   },
   "source": [
    "## Lama Belajar"
   ]
  },
  {
   "cell_type": "code",
   "execution_count": 17,
   "id": "b25a20fd",
   "metadata": {
    "ExecuteTime": {
     "end_time": "2022-02-20T14:34:30.986924Z",
     "start_time": "2022-02-20T14:34:29.133Z"
    },
    "hidden": true
   },
   "outputs": [
    {
     "data": {
      "text/html": [
       "'Minimal : 0.500000 jam'"
      ],
      "text/latex": [
       "'Minimal : 0.500000 jam'"
      ],
      "text/markdown": [
       "'Minimal : 0.500000 jam'"
      ],
      "text/plain": [
       "[1] \"Minimal : 0.500000 jam\""
      ]
     },
     "metadata": {},
     "output_type": "display_data"
    },
    {
     "data": {
      "text/html": [
       "'Maksimal : 6.000000 jam'"
      ],
      "text/latex": [
       "'Maksimal : 6.000000 jam'"
      ],
      "text/markdown": [
       "'Maksimal : 6.000000 jam'"
      ],
      "text/plain": [
       "[1] \"Maksimal : 6.000000 jam\""
      ]
     },
     "metadata": {},
     "output_type": "display_data"
    },
    {
     "data": {
      "text/html": [
       "'Range : 5.500000 jam'"
      ],
      "text/latex": [
       "'Range : 5.500000 jam'"
      ],
      "text/markdown": [
       "'Range : 5.500000 jam'"
      ],
      "text/plain": [
       "[1] \"Range : 5.500000 jam\""
      ]
     },
     "metadata": {},
     "output_type": "display_data"
    },
    {
     "data": {
      "text/html": [
       "'Mean : 2.161290 jam'"
      ],
      "text/latex": [
       "'Mean : 2.161290 jam'"
      ],
      "text/markdown": [
       "'Mean : 2.161290 jam'"
      ],
      "text/plain": [
       "[1] \"Mean : 2.161290 jam\""
      ]
     },
     "metadata": {},
     "output_type": "display_data"
    },
    {
     "data": {
      "text/html": [
       "'Median : 2.000000 jam'"
      ],
      "text/latex": [
       "'Median : 2.000000 jam'"
      ],
      "text/markdown": [
       "'Median : 2.000000 jam'"
      ],
      "text/plain": [
       "[1] \"Median : 2.000000 jam\""
      ]
     },
     "metadata": {},
     "output_type": "display_data"
    },
    {
     "data": {
      "text/html": [
       "'Modus : 2 jam'"
      ],
      "text/latex": [
       "'Modus : 2 jam'"
      ],
      "text/markdown": [
       "'Modus : 2 jam'"
      ],
      "text/plain": [
       "[1] \"Modus : 2 jam\""
      ]
     },
     "metadata": {},
     "output_type": "display_data"
    },
    {
     "data": {
      "text/html": [
       "'Kuartil :'"
      ],
      "text/latex": [
       "'Kuartil :'"
      ],
      "text/markdown": [
       "'Kuartil :'"
      ],
      "text/plain": [
       "[1] \"Kuartil :\""
      ]
     },
     "metadata": {},
     "output_type": "display_data"
    },
    {
     "name": "stdout",
     "output_type": "stream",
     "text": [
      "  0%  25%  50%  75% 100% \n",
      " 0.5  1.0  2.0  2.0  6.0 \n"
     ]
    }
   ],
   "source": [
    "sprintf(\"Minimal : %f jam\", min(lamaBelajar))\n",
    "sprintf(\"Maksimal : %f jam\", max(lamaBelajar))\n",
    "sprintf(\"Range : %f jam\", max(lamaBelajar)-min(lamaBelajar))\n",
    "sprintf(\"Mean : %f jam\", mean(lamaBelajar))\n",
    "sprintf(\"Median : %f jam\", median(lamaBelajar))\n",
    "sprintf(\"Modus : %d jam\",modLamaBelajar)\n",
    "sprintf(\"Kuartil :\")\n",
    "print(quantile(lamaBelajar))"
   ]
  },
  {
   "cell_type": "code",
   "execution_count": 18,
   "id": "34fc43dd",
   "metadata": {
    "ExecuteTime": {
     "end_time": "2022-02-20T14:34:31.033918Z",
     "start_time": "2022-02-20T14:34:29.135Z"
    },
    "hidden": true
   },
   "outputs": [
    {
     "data": {
      "text/html": [
       "'Standar Deviasi : 1.312676 jam'"
      ],
      "text/latex": [
       "'Standar Deviasi : 1.312676 jam'"
      ],
      "text/markdown": [
       "'Standar Deviasi : 1.312676 jam'"
      ],
      "text/plain": [
       "[1] \"Standar Deviasi : 1.312676 jam\""
      ]
     },
     "metadata": {},
     "output_type": "display_data"
    },
    {
     "data": {
      "text/html": [
       "'Simpangan Kuartil : 0.500000 jam'"
      ],
      "text/latex": [
       "'Simpangan Kuartil : 0.500000 jam'"
      ],
      "text/markdown": [
       "'Simpangan Kuartil : 0.500000 jam'"
      ],
      "text/plain": [
       "[1] \"Simpangan Kuartil : 0.500000 jam\""
      ]
     },
     "metadata": {},
     "output_type": "display_data"
    }
   ],
   "source": [
    "sprintf(\"Standar Deviasi : %f jam\", sd(lamaBelajar))\n",
    "\n",
    "lamaBelajarQ3 = quantile(lamaBelajar, probs = seq(0.75, 0))\n",
    "lamaBelajarQ1 = quantile(lamaBelajar, probs = seq(0.25, 0))\n",
    "sklamaBelajar = 0.5*(lamaBelajarQ3-lamaBelajarQ1)\n",
    "sprintf(\"Simpangan Kuartil : %f jam\", sklamaBelajar)"
   ]
  },
  {
   "cell_type": "markdown",
   "id": "68da2baf",
   "metadata": {
    "heading_collapsed": true
   },
   "source": [
    "## Lama Internet"
   ]
  },
  {
   "cell_type": "code",
   "execution_count": 19,
   "id": "ca96ed96",
   "metadata": {
    "ExecuteTime": {
     "end_time": "2022-02-20T14:34:31.109920Z",
     "start_time": "2022-02-20T14:34:29.139Z"
    },
    "hidden": true
   },
   "outputs": [
    {
     "data": {
      "text/html": [
       "'Minimal : 2.000000 jam'"
      ],
      "text/latex": [
       "'Minimal : 2.000000 jam'"
      ],
      "text/markdown": [
       "'Minimal : 2.000000 jam'"
      ],
      "text/plain": [
       "[1] \"Minimal : 2.000000 jam\""
      ]
     },
     "metadata": {},
     "output_type": "display_data"
    },
    {
     "data": {
      "text/html": [
       "'Maksimal : 24.000000 jam'"
      ],
      "text/latex": [
       "'Maksimal : 24.000000 jam'"
      ],
      "text/markdown": [
       "'Maksimal : 24.000000 jam'"
      ],
      "text/plain": [
       "[1] \"Maksimal : 24.000000 jam\""
      ]
     },
     "metadata": {},
     "output_type": "display_data"
    },
    {
     "data": {
      "text/html": [
       "'Range : 22.000000 jam'"
      ],
      "text/latex": [
       "'Range : 22.000000 jam'"
      ],
      "text/markdown": [
       "'Range : 22.000000 jam'"
      ],
      "text/plain": [
       "[1] \"Range : 22.000000 jam\""
      ]
     },
     "metadata": {},
     "output_type": "display_data"
    },
    {
     "data": {
      "text/html": [
       "'Mean : 9.748387 jam'"
      ],
      "text/latex": [
       "'Mean : 9.748387 jam'"
      ],
      "text/markdown": [
       "'Mean : 9.748387 jam'"
      ],
      "text/plain": [
       "[1] \"Mean : 9.748387 jam\""
      ]
     },
     "metadata": {},
     "output_type": "display_data"
    },
    {
     "data": {
      "text/html": [
       "'Median : 10.000000 jam'"
      ],
      "text/latex": [
       "'Median : 10.000000 jam'"
      ],
      "text/markdown": [
       "'Median : 10.000000 jam'"
      ],
      "text/plain": [
       "[1] \"Median : 10.000000 jam\""
      ]
     },
     "metadata": {},
     "output_type": "display_data"
    },
    {
     "data": {
      "text/html": [
       "'Modus : 5 jam'"
      ],
      "text/latex": [
       "'Modus : 5 jam'"
      ],
      "text/markdown": [
       "'Modus : 5 jam'"
      ],
      "text/plain": [
       "[1] \"Modus : 5 jam\""
      ]
     },
     "metadata": {},
     "output_type": "display_data"
    },
    {
     "data": {
      "text/html": [
       "'Kuartil :'"
      ],
      "text/latex": [
       "'Kuartil :'"
      ],
      "text/markdown": [
       "'Kuartil :'"
      ],
      "text/plain": [
       "[1] \"Kuartil :\""
      ]
     },
     "metadata": {},
     "output_type": "display_data"
    },
    {
     "name": "stdout",
     "output_type": "stream",
     "text": [
      "   0%   25%   50%   75%  100% \n",
      " 2.00  5.00 10.00 12.25 24.00 \n"
     ]
    }
   ],
   "source": [
    "sprintf(\"Minimal : %f jam\", min(lamaInternet))\n",
    "sprintf(\"Maksimal : %f jam\", max(lamaInternet))\n",
    "sprintf(\"Range : %f jam\", max(lamaInternet)-min(lamaInternet))\n",
    "sprintf(\"Mean : %f jam\", mean(lamaInternet))\n",
    "sprintf(\"Median : %f jam\", median(lamaInternet))\n",
    "sprintf(\"Modus : %d jam\",modLamaInternet)\n",
    "sprintf(\"Kuartil :\")\n",
    "print(quantile(lamaInternet))"
   ]
  },
  {
   "cell_type": "code",
   "execution_count": 20,
   "id": "0fde86b6",
   "metadata": {
    "ExecuteTime": {
     "end_time": "2022-02-20T14:34:31.149919Z",
     "start_time": "2022-02-20T14:34:29.141Z"
    },
    "hidden": true,
    "scrolled": true
   },
   "outputs": [
    {
     "data": {
      "text/html": [
       "'Standar Deviasi : 5.231881 jam'"
      ],
      "text/latex": [
       "'Standar Deviasi : 5.231881 jam'"
      ],
      "text/markdown": [
       "'Standar Deviasi : 5.231881 jam'"
      ],
      "text/plain": [
       "[1] \"Standar Deviasi : 5.231881 jam\""
      ]
     },
     "metadata": {},
     "output_type": "display_data"
    },
    {
     "data": {
      "text/html": [
       "'Simpangan Kuartil : 3.625000 jam'"
      ],
      "text/latex": [
       "'Simpangan Kuartil : 3.625000 jam'"
      ],
      "text/markdown": [
       "'Simpangan Kuartil : 3.625000 jam'"
      ],
      "text/plain": [
       "[1] \"Simpangan Kuartil : 3.625000 jam\""
      ]
     },
     "metadata": {},
     "output_type": "display_data"
    }
   ],
   "source": [
    "sprintf(\"Standar Deviasi : %f jam\", sd(datanum$LamaInternet))\n",
    "\n",
    "lamaInternetQ3 = quantile(datanum$LamaInternet, probs = seq(0.75, 0))\n",
    "lamaInternetQ1 = quantile(datanum$LamaInternet, probs = seq(0.25, 0))\n",
    "sklamaInternet = 0.5*(lamaInternetQ3-lamaInternetQ1)\n",
    "sprintf(\"Simpangan Kuartil : %f jam\", sklamaInternet)"
   ]
  },
  {
   "cell_type": "markdown",
   "id": "2d8f482d",
   "metadata": {
    "heading_collapsed": true
   },
   "source": [
    "## Summary"
   ]
  },
  {
   "cell_type": "code",
   "execution_count": 21,
   "id": "0d6f24ac",
   "metadata": {
    "ExecuteTime": {
     "end_time": "2022-02-20T14:34:31.181916Z",
     "start_time": "2022-02-20T14:34:29.144Z"
    },
    "hidden": true
   },
   "outputs": [
    {
     "data": {
      "text/plain": [
       "       TB              BB              JK           UangSaku     \n",
       " Min.   :150.0   Min.   :45.00   Min.   :1.000   Min.   :     0  \n",
       " 1st Qu.:159.5   1st Qu.:50.00   1st Qu.:1.000   1st Qu.: 30000  \n",
       " Median :166.0   Median :55.00   Median :1.000   Median : 50000  \n",
       " Mean   :165.8   Mean   :58.71   Mean   :1.387   Mean   : 52677  \n",
       " 3rd Qu.:170.0   3rd Qu.:65.00   3rd Qu.:2.000   3rd Qu.: 50000  \n",
       " Max.   :183.0   Max.   :90.00   Max.   :2.000   Max.   :250000  \n",
       "     Jajan            Pulsa         LamaBelajar     LamaInternet   \n",
       " Min.   :     0   Min.   :     0   Min.   :0.500   Min.   : 2.000  \n",
       " 1st Qu.: 25000   1st Qu.: 50000   1st Qu.:1.000   1st Qu.: 5.000  \n",
       " Median : 35000   Median : 85000   Median :2.000   Median :10.000  \n",
       " Mean   : 86065   Mean   : 89839   Mean   :2.161   Mean   : 9.748  \n",
       " 3rd Qu.: 50000   3rd Qu.:100000   3rd Qu.:2.000   3rd Qu.:12.250  \n",
       " Max.   :500000   Max.   :200000   Max.   :6.000   Max.   :24.000  "
      ]
     },
     "metadata": {},
     "output_type": "display_data"
    }
   ],
   "source": [
    "summary(datanum)"
   ]
  },
  {
   "cell_type": "code",
   "execution_count": 22,
   "id": "0f90b5ad",
   "metadata": {
    "ExecuteTime": {
     "end_time": "2022-02-20T14:34:31.224952Z",
     "start_time": "2022-02-20T14:34:29.147Z"
    },
    "hidden": true
   },
   "outputs": [
    {
     "data": {
      "text/html": [
       "<table>\n",
       "<thead><tr><th></th><th scope=col>vars</th><th scope=col>n</th><th scope=col>mean</th><th scope=col>sd</th><th scope=col>median</th><th scope=col>trimmed</th><th scope=col>mad</th><th scope=col>min</th><th scope=col>max</th><th scope=col>range</th><th scope=col>skew</th><th scope=col>kurtosis</th><th scope=col>se</th></tr></thead>\n",
       "<tbody>\n",
       "\t<tr><th scope=row>TB</th><td>1           </td><td>31          </td><td>  165.806452</td><td>7.708953e+00</td><td>  166       </td><td>  165.880   </td><td>    7.4130  </td><td>150.0       </td><td>   183      </td><td>3.3e+01     </td><td>-0.08890179 </td><td>-0.4036519  </td><td>1.384569e+00</td></tr>\n",
       "\t<tr><th scope=row>BB</th><td>2           </td><td>31          </td><td>   58.709677</td><td>1.110013e+01</td><td>   55       </td><td>   57.480   </td><td>    8.8956  </td><td> 45.0       </td><td>    90      </td><td>4.5e+01     </td><td> 0.94238258 </td><td> 0.1620933  </td><td>1.993642e+00</td></tr>\n",
       "\t<tr><th scope=row>JK</th><td>3           </td><td>31          </td><td>    1.387097</td><td>4.951376e-01</td><td>    1       </td><td>    1.360   </td><td>    0.0000  </td><td>  1.0       </td><td>     2      </td><td>1.0e+00     </td><td> 0.44133661 </td><td>-1.8622049  </td><td>8.892935e-02</td></tr>\n",
       "\t<tr><th scope=row>UangSaku</th><td>4           </td><td>31          </td><td>52677.419355</td><td>4.933652e+04</td><td>50000       </td><td>43320.000   </td><td>22239.0000  </td><td>  0.0       </td><td>250000      </td><td>2.5e+05     </td><td> 2.81822399 </td><td> 7.9092842  </td><td>8.861101e+03</td></tr>\n",
       "\t<tr><th scope=row>Jajan</th><td>5           </td><td>31          </td><td>86064.516129</td><td>1.428110e+05</td><td>35000       </td><td>45920.000   </td><td>22239.0000  </td><td>  0.0       </td><td>500000      </td><td>5.0e+05     </td><td> 2.31853339 </td><td> 3.8696844  </td><td>2.564962e+04</td></tr>\n",
       "\t<tr><th scope=row>Pulsa</th><td>6           </td><td>31          </td><td>89838.709677</td><td>5.326794e+04</td><td>85000       </td><td>85200.000   </td><td>51891.0000  </td><td>  0.0       </td><td>200000      </td><td>2.0e+05     </td><td> 0.62150071 </td><td>-0.4946455  </td><td>9.567204e+03</td></tr>\n",
       "\t<tr><th scope=row>LamaBelajar</th><td>7           </td><td>31          </td><td>    2.161290</td><td>1.312676e+00</td><td>    2       </td><td>    1.960   </td><td>    1.4826  </td><td>  0.5       </td><td>     6      </td><td>5.5e+00     </td><td> 1.28506122 </td><td> 1.2143435  </td><td>2.357636e-01</td></tr>\n",
       "\t<tr><th scope=row>LamaInternet</th><td>8           </td><td>31          </td><td>    9.748387</td><td>5.231881e+00</td><td>   10       </td><td>    9.368   </td><td>    5.9304  </td><td>  2.0       </td><td>    24      </td><td>2.2e+01     </td><td> 0.64036043 </td><td>-0.1805837  </td><td>9.396736e-01</td></tr>\n",
       "</tbody>\n",
       "</table>\n"
      ],
      "text/latex": [
       "\\begin{tabular}{r|lllllllllllll}\n",
       "  & vars & n & mean & sd & median & trimmed & mad & min & max & range & skew & kurtosis & se\\\\\n",
       "\\hline\n",
       "\tTB & 1            & 31           &   165.806452 & 7.708953e+00 &   166        &   165.880    &     7.4130   & 150.0        &    183       & 3.3e+01      & -0.08890179  & -0.4036519   & 1.384569e+00\\\\\n",
       "\tBB & 2            & 31           &    58.709677 & 1.110013e+01 &    55        &    57.480    &     8.8956   &  45.0        &     90       & 4.5e+01      &  0.94238258  &  0.1620933   & 1.993642e+00\\\\\n",
       "\tJK & 3            & 31           &     1.387097 & 4.951376e-01 &     1        &     1.360    &     0.0000   &   1.0        &      2       & 1.0e+00      &  0.44133661  & -1.8622049   & 8.892935e-02\\\\\n",
       "\tUangSaku & 4            & 31           & 52677.419355 & 4.933652e+04 & 50000        & 43320.000    & 22239.0000   &   0.0        & 250000       & 2.5e+05      &  2.81822399  &  7.9092842   & 8.861101e+03\\\\\n",
       "\tJajan & 5            & 31           & 86064.516129 & 1.428110e+05 & 35000        & 45920.000    & 22239.0000   &   0.0        & 500000       & 5.0e+05      &  2.31853339  &  3.8696844   & 2.564962e+04\\\\\n",
       "\tPulsa & 6            & 31           & 89838.709677 & 5.326794e+04 & 85000        & 85200.000    & 51891.0000   &   0.0        & 200000       & 2.0e+05      &  0.62150071  & -0.4946455   & 9.567204e+03\\\\\n",
       "\tLamaBelajar & 7            & 31           &     2.161290 & 1.312676e+00 &     2        &     1.960    &     1.4826   &   0.5        &      6       & 5.5e+00      &  1.28506122  &  1.2143435   & 2.357636e-01\\\\\n",
       "\tLamaInternet & 8            & 31           &     9.748387 & 5.231881e+00 &    10        &     9.368    &     5.9304   &   2.0        &     24       & 2.2e+01      &  0.64036043  & -0.1805837   & 9.396736e-01\\\\\n",
       "\\end{tabular}\n"
      ],
      "text/markdown": [
       "\n",
       "| <!--/--> | vars | n | mean | sd | median | trimmed | mad | min | max | range | skew | kurtosis | se |\n",
       "|---|---|---|---|---|---|---|---|---|---|---|---|---|---|\n",
       "| TB | 1            | 31           |   165.806452 | 7.708953e+00 |   166        |   165.880    |     7.4130   | 150.0        |    183       | 3.3e+01      | -0.08890179  | -0.4036519   | 1.384569e+00 |\n",
       "| BB | 2            | 31           |    58.709677 | 1.110013e+01 |    55        |    57.480    |     8.8956   |  45.0        |     90       | 4.5e+01      |  0.94238258  |  0.1620933   | 1.993642e+00 |\n",
       "| JK | 3            | 31           |     1.387097 | 4.951376e-01 |     1        |     1.360    |     0.0000   |   1.0        |      2       | 1.0e+00      |  0.44133661  | -1.8622049   | 8.892935e-02 |\n",
       "| UangSaku | 4            | 31           | 52677.419355 | 4.933652e+04 | 50000        | 43320.000    | 22239.0000   |   0.0        | 250000       | 2.5e+05      |  2.81822399  |  7.9092842   | 8.861101e+03 |\n",
       "| Jajan | 5            | 31           | 86064.516129 | 1.428110e+05 | 35000        | 45920.000    | 22239.0000   |   0.0        | 500000       | 5.0e+05      |  2.31853339  |  3.8696844   | 2.564962e+04 |\n",
       "| Pulsa | 6            | 31           | 89838.709677 | 5.326794e+04 | 85000        | 85200.000    | 51891.0000   |   0.0        | 200000       | 2.0e+05      |  0.62150071  | -0.4946455   | 9.567204e+03 |\n",
       "| LamaBelajar | 7            | 31           |     2.161290 | 1.312676e+00 |     2        |     1.960    |     1.4826   |   0.5        |      6       | 5.5e+00      |  1.28506122  |  1.2143435   | 2.357636e-01 |\n",
       "| LamaInternet | 8            | 31           |     9.748387 | 5.231881e+00 |    10        |     9.368    |     5.9304   |   2.0        |     24       | 2.2e+01      |  0.64036043  | -0.1805837   | 9.396736e-01 |\n",
       "\n"
      ],
      "text/plain": [
       "             vars n  mean         sd           median trimmed   mad       \n",
       "TB           1    31   165.806452 7.708953e+00   166    165.880     7.4130\n",
       "BB           2    31    58.709677 1.110013e+01    55     57.480     8.8956\n",
       "JK           3    31     1.387097 4.951376e-01     1      1.360     0.0000\n",
       "UangSaku     4    31 52677.419355 4.933652e+04 50000  43320.000 22239.0000\n",
       "Jajan        5    31 86064.516129 1.428110e+05 35000  45920.000 22239.0000\n",
       "Pulsa        6    31 89838.709677 5.326794e+04 85000  85200.000 51891.0000\n",
       "LamaBelajar  7    31     2.161290 1.312676e+00     2      1.960     1.4826\n",
       "LamaInternet 8    31     9.748387 5.231881e+00    10      9.368     5.9304\n",
       "             min   max    range   skew        kurtosis   se          \n",
       "TB           150.0    183 3.3e+01 -0.08890179 -0.4036519 1.384569e+00\n",
       "BB            45.0     90 4.5e+01  0.94238258  0.1620933 1.993642e+00\n",
       "JK             1.0      2 1.0e+00  0.44133661 -1.8622049 8.892935e-02\n",
       "UangSaku       0.0 250000 2.5e+05  2.81822399  7.9092842 8.861101e+03\n",
       "Jajan          0.0 500000 5.0e+05  2.31853339  3.8696844 2.564962e+04\n",
       "Pulsa          0.0 200000 2.0e+05  0.62150071 -0.4946455 9.567204e+03\n",
       "LamaBelajar    0.5      6 5.5e+00  1.28506122  1.2143435 2.357636e-01\n",
       "LamaInternet   2.0     24 2.2e+01  0.64036043 -0.1805837 9.396736e-01"
      ]
     },
     "metadata": {},
     "output_type": "display_data"
    }
   ],
   "source": [
    "describe(datanum)"
   ]
  },
  {
   "cell_type": "markdown",
   "id": "d64396c1",
   "metadata": {},
   "source": [
    "# Plot"
   ]
  },
  {
   "cell_type": "markdown",
   "id": "91c8a315",
   "metadata": {},
   "source": [
    "## Box Plot"
   ]
  },
  {
   "cell_type": "markdown",
   "id": "6acc0a52",
   "metadata": {
    "heading_collapsed": true
   },
   "source": [
    "### Univariate Box Plot"
   ]
  },
  {
   "cell_type": "code",
   "execution_count": 23,
   "id": "fb006c42",
   "metadata": {
    "ExecuteTime": {
     "end_time": "2022-02-20T14:34:31.548284Z",
     "start_time": "2022-02-20T14:34:29.150Z"
    },
    "hidden": true,
    "scrolled": false
   },
   "outputs": [
    {
     "name": "stderr",
     "output_type": "stream",
     "text": [
      "Warning message:\n",
      "\"Continuous x aesthetic -- did you forget aes(group=...)?\""
     ]
    },
    {
     "data": {
      "image/png": "[encoded data removed]",
      "text/plain": [
       "plot without title"
      ]
     },
     "metadata": {},
     "output_type": "display_data"
    }
   ],
   "source": [
    "ggplot(datanum, \n",
    "       aes(x = TB, \n",
    "           y = TB)) +\n",
    "  geom_boxplot() +\n",
    "  labs(title = \"Tinggi Badan\")"
   ]
  },
  {
   "cell_type": "code",
   "execution_count": 24,
   "id": "569035a2",
   "metadata": {
    "ExecuteTime": {
     "end_time": "2022-02-20T14:34:31.797283Z",
     "start_time": "2022-02-20T14:34:29.152Z"
    },
    "hidden": true
   },
   "outputs": [
    {
     "name": "stderr",
     "output_type": "stream",
     "text": [
      "Warning message:\n",
      "\"Continuous x aesthetic -- did you forget aes(group=...)?\""
     ]
    },
    {
     "data": {
      "image/png": "[encoded data removed]",
      "text/plain": [
       "plot without title"
      ]
     },
     "metadata": {},
     "output_type": "display_data"
    }
   ],
   "source": [
    "ggplot(datanum, \n",
    "       aes(x = BB, \n",
    "           y = BB)) +\n",
    "  geom_boxplot() +\n",
    "  labs(title = \"Berat Badan\")"
   ]
  },
  {
   "cell_type": "code",
   "execution_count": 25,
   "id": "e3b9f8a4",
   "metadata": {
    "ExecuteTime": {
     "end_time": "2022-02-20T14:34:33.268265Z",
     "start_time": "2022-02-20T14:34:29.165Z"
    },
    "hidden": true
   },
   "outputs": [
    {
     "name": "stderr",
     "output_type": "stream",
     "text": [
      "Warning message:\n",
      "\"Continuous x aesthetic -- did you forget aes(group=...)?\""
     ]
    },
    {
     "data": {
      "image/png": "[encoded data removed]",
      "text/plain": [
       "plot without title"
      ]
     },
     "metadata": {},
     "output_type": "display_data"
    }
   ],
   "source": [
    "ggplot(datanum, \n",
    "       aes(x = UangSaku, \n",
    "           y = UangSaku)) +\n",
    "  geom_boxplot() +\n",
    "  labs(title = \"Uang Saku\")"
   ]
  },
  {
   "cell_type": "code",
   "execution_count": 26,
   "id": "b579f95a",
   "metadata": {
    "ExecuteTime": {
     "end_time": "2022-02-20T14:34:33.020233Z",
     "start_time": "2022-02-20T14:34:29.162Z"
    },
    "hidden": true,
    "scrolled": true
   },
   "outputs": [
    {
     "name": "stderr",
     "output_type": "stream",
     "text": [
      "Warning message:\n",
      "\"Continuous x aesthetic -- did you forget aes(group=...)?\""
     ]
    },
    {
     "data": {
      "image/png": "[encoded data removed]",
      "text/plain": [
       "plot without title"
      ]
     },
     "metadata": {},
     "output_type": "display_data"
    }
   ],
   "source": [
    "ggplot(datanum, \n",
    "       aes(x = jajan, \n",
    "           y = jajan)) +\n",
    "  geom_boxplot() +\n",
    "  labs(title = \"Jajan\")"
   ]
  },
  {
   "cell_type": "code",
   "execution_count": 27,
   "id": "9d0b94df",
   "metadata": {
    "ExecuteTime": {
     "end_time": "2022-02-20T14:34:33.268265Z",
     "start_time": "2022-02-20T14:34:29.165Z"
    },
    "hidden": true
   },
   "outputs": [
    {
     "name": "stderr",
     "output_type": "stream",
     "text": [
      "Warning message:\n",
      "\"Continuous x aesthetic -- did you forget aes(group=...)?\""
     ]
    },
    {
     "data": {
      "image/png": "[encoded data removed]",
      "text/plain": [
       "plot without title"
      ]
     },
     "metadata": {},
     "output_type": "display_data"
    }
   ],
   "source": [
    "ggplot(datanum, \n",
    "       aes(x = Pulsa, \n",
    "           y = Pulsa)) +\n",
    "  geom_boxplot() +\n",
    "  labs(title = \"Pulsa\")"
   ]
  },
  {
   "cell_type": "code",
   "execution_count": 28,
   "id": "aae5168b",
   "metadata": {
    "ExecuteTime": {
     "end_time": "2022-02-20T14:34:33.020233Z",
     "start_time": "2022-02-20T14:34:29.162Z"
    },
    "hidden": true,
    "scrolled": true
   },
   "outputs": [
    {
     "name": "stderr",
     "output_type": "stream",
     "text": [
      "Warning message:\n",
      "\"Continuous x aesthetic -- did you forget aes(group=...)?\""
     ]
    },
    {
     "data": {
      "image/png": "[encoded data removed]",
      "text/plain": [
       "plot without title"
      ]
     },
     "metadata": {},
     "output_type": "display_data"
    }
   ],
   "source": [
    "ggplot(datanum, \n",
    "       aes(x = LamaBelajar, \n",
    "           y = LamaBelajar)) +\n",
    "  geom_boxplot() +\n",
    "  labs(title = \"Lama Belajar\")"
   ]
  },
  {
   "cell_type": "code",
   "execution_count": 29,
   "id": "f9b907f3",
   "metadata": {
    "ExecuteTime": {
     "end_time": "2022-02-20T14:34:33.268265Z",
     "start_time": "2022-02-20T14:34:29.165Z"
    },
    "hidden": true
   },
   "outputs": [
    {
     "name": "stderr",
     "output_type": "stream",
     "text": [
      "Warning message:\n",
      "\"Continuous x aesthetic -- did you forget aes(group=...)?\""
     ]
    },
    {
     "data": {
      "image/png": "[encoded data removed]",
      "text/plain": [
       "plot without title"
      ]
     },
     "metadata": {},
     "output_type": "display_data"
    }
   ],
   "source": [
    "ggplot(datanum, \n",
    "       aes(x = LamaInternet, \n",
    "           y = LamaInternet)) +\n",
    "  geom_boxplot() +\n",
    "  labs(title = \"Lama Internet\")"
   ]
  },
  {
   "cell_type": "markdown",
   "id": "32acfe57",
   "metadata": {},
   "source": [
    "### Bivariate Box Plot"
   ]
  },
  {
   "cell_type": "code",
   "execution_count": 30,
   "id": "a7419436",
   "metadata": {
    "ExecuteTime": {
     "end_time": "2022-02-20T14:34:33.346532Z",
     "start_time": "2022-02-20T14:34:29.167Z"
    },
    "scrolled": false
   },
   "outputs": [
    {
     "data": {
      "image/png": "[encoded data removed]",
      "text/plain": [
       "Plot with title \"Tinggi Badan berdasarkan Jenis Kelamin\""
      ]
     },
     "metadata": {},
     "output_type": "display_data"
    }
   ],
   "source": [
    "boxplot(TB~JK,data=datanum, main=\"Tinggi Badan berdasarkan Jenis Kelamin\",\n",
    "   xlab=\"Jenis Kelamin\", ylab=\"Tinggi Badan\")"
   ]
  },
  {
   "cell_type": "markdown",
   "id": "2b08c339",
   "metadata": {},
   "source": [
    "Pada Boxplot tersebut, dapat diketahui bahwa tinggi badan mahasiswa laki-laki memiliki pencilan atas dan median tinggi badan mahasiswa laki-laki lebih besar daripada median tinggi mahasiswa perempuan."
   ]
  },
  {
   "cell_type": "code",
   "execution_count": 31,
   "id": "954f2bc6",
   "metadata": {
    "ExecuteTime": {
     "end_time": "2022-02-20T14:34:33.420537Z",
     "start_time": "2022-02-20T14:34:29.170Z"
    }
   },
   "outputs": [
    {
     "data": {
      "image/png": "[encoded data removed]",
      "text/plain": [
       "Plot with title \"Berat Badan berdasarkan Jenis Kelamin\""
      ]
     },
     "metadata": {},
     "output_type": "display_data"
    }
   ],
   "source": [
    "boxplot(BB~JK,data=datanum, main=\"Berat Badan berdasarkan Jenis Kelamin\",\n",
    "   xlab=\"Jenis Kelamin\", ylab=\"Berat Badan\")"
   ]
  },
  {
   "cell_type": "markdown",
   "id": "b0ef679d",
   "metadata": {},
   "source": [
    "Pada Boxplot tersebut, dapat diketahui bahwa berat badan mahasiswa laki-laki dan berat badan mahasiswa perempuan sama-sama memiliki pencilan atas, Data berat badan mahasiswa laki-laki lebih menyebar daripada data berat badan mahasiswa perempuan, median berat badan mahasiswa laki-laki lebih besar daripada median berat badan mahasiswa perempuan, dan data berat badan mahasiswa perempuan terlihat menceng kanan."
   ]
  },
  {
   "cell_type": "code",
   "execution_count": 32,
   "id": "9c86ce6d",
   "metadata": {
    "ExecuteTime": {
     "end_time": "2022-02-20T14:34:33.489529Z",
     "start_time": "2022-02-20T14:34:29.172Z"
    },
    "scrolled": false
   },
   "outputs": [
    {
     "data": {
      "image/png": "[encoded data removed]",
      "text/plain": [
       "Plot with title \"Uang Saku berdasarkan Jenis Kelamin\""
      ]
     },
     "metadata": {},
     "output_type": "display_data"
    }
   ],
   "source": [
    "boxplot(UangSaku~JK,data=datanum, main=\"Uang Saku berdasarkan Jenis Kelamin\",\n",
    "   xlab=\"Jenis Kelamin\", ylab=\"Uang Saku\")"
   ]
  },
  {
   "cell_type": "markdown",
   "id": "5b5dab9c",
   "metadata": {},
   "source": [
    "Pada Boxplot tersebut, dapat diketahui bahwa uang saku mahasiswa laki-laki dan uang saku mahasiswa perempuan sama-sama memiliki pencilan atas, data uang saku mahasiswa perempuan lebih menyebar daripada data uang saku mahasiswa laki-laki, median uang saku mahasiswa laki-laki lebih besar daripada median uang saku mahasiswa perempuan, data uang saku mahasiswa perempuan terlihat menceng kanan, dan data uang saku mahasiswa laki-laki terlihat menceng kiri."
   ]
  },
  {
   "cell_type": "code",
   "execution_count": 33,
   "id": "dd09e319",
   "metadata": {
    "ExecuteTime": {
     "end_time": "2022-02-20T14:34:33.556530Z",
     "start_time": "2022-02-20T14:34:29.176Z"
    },
    "scrolled": false
   },
   "outputs": [
    {
     "data": {
      "image/png": "[encoded data removed]",
      "text/plain": [
       "Plot with title \"Uang Jajan berdasarkan Jenis Kelamin\""
      ]
     },
     "metadata": {},
     "output_type": "display_data"
    }
   ],
   "source": [
    "boxplot(Jajan~JK,data=datanum, main=\"Uang Jajan berdasarkan Jenis Kelamin\",\n",
    "   xlab=\"Jenis Kelamin\", ylab=\"Jajan\")"
   ]
  },
  {
   "cell_type": "markdown",
   "id": "e5aaa7d4",
   "metadata": {},
   "source": [
    "Pada Boxplot tersebut, dapat diketahui bahwa pengeluaran jajan mahasiswa laki-laki dan pengeluaran jajan mahasiswa perempuan sama-sama memiliki pencilan atas."
   ]
  },
  {
   "cell_type": "code",
   "execution_count": 34,
   "id": "a56c8b7c",
   "metadata": {
    "ExecuteTime": {
     "end_time": "2022-02-20T14:34:33.632544Z",
     "start_time": "2022-02-20T14:34:29.179Z"
    },
    "scrolled": false
   },
   "outputs": [
    {
     "data": {
      "image/png": "[encoded data removed]",
      "text/plain": [
       "Plot with title \"Pengeluaran Pulsa berdasarkan Jenis Kelamin\""
      ]
     },
     "metadata": {},
     "output_type": "display_data"
    }
   ],
   "source": [
    "boxplot(Pulsa~JK,data=datanum, main=\"Pengeluaran Pulsa berdasarkan Jenis Kelamin\",\n",
    "   xlab=\"Jenis Kelamin\", ylab=\"Pulsa\")"
   ]
  },
  {
   "cell_type": "markdown",
   "id": "c3ffaeca",
   "metadata": {},
   "source": [
    "Pada Boxplot tersebut, dapat diketahui bahwa pengeluaran pulsa mahasiswa perempuan memiliki pencilan atas, dan data pengeluaran pulsa mahasiswa laki-laki lebih menyebar daripada data pengeluaran pulsa mahasiswa perempuan."
   ]
  },
  {
   "cell_type": "code",
   "execution_count": 35,
   "id": "6ef1847b",
   "metadata": {
    "ExecuteTime": {
     "end_time": "2022-02-20T14:34:33.711916Z",
     "start_time": "2022-02-20T14:34:29.181Z"
    },
    "scrolled": false
   },
   "outputs": [
    {
     "data": {
      "image/png": "[encoded data removed]",
      "text/plain": [
       "Plot with title \"Lama Waktu Belajar berdasarkan Jenis Kelamin\""
      ]
     },
     "metadata": {},
     "output_type": "display_data"
    }
   ],
   "source": [
    "boxplot(lamaBelajar~JK,data=datanum, main=\"Lama Waktu Belajar berdasarkan Jenis Kelamin\",\n",
    "   xlab=\"Jenis Kelamin\", ylab=\"Lama Waktu Belajar\")"
   ]
  },
  {
   "cell_type": "markdown",
   "id": "1fe2a2bd",
   "metadata": {},
   "source": [
    "Pada Boxplot tersebut, dapat diketahui bahwa lama waktu belajar mahasiswa laki-laki memiliki pencilan atas, data lama waktu belajar mahasiswa perempuan lebih menyebar daripada data lama waktu belajar mahasiswa laki-laki, median lama waktu belajar mahasiswa laki-laki sama dengan median lama waktu belajar mahasiswa perempuan, data lama waktu belajar mahasiswa perempuan terlihat menceng kanan, dan data lama waktu belajar mahasiswa laki-laki terlihat menceng kiri."
   ]
  },
  {
   "cell_type": "code",
   "execution_count": 36,
   "id": "3c50cf50",
   "metadata": {
    "ExecuteTime": {
     "end_time": "2022-02-20T14:34:33.822666Z",
     "start_time": "2022-02-20T14:34:29.184Z"
    },
    "scrolled": false
   },
   "outputs": [
    {
     "data": {
      "image/png": "[encoded data removed]",
      "text/plain": [
       "Plot with title \"Lama Waktu Menggunakan Internet berdasarkan Jenis Kelamin\""
      ]
     },
     "metadata": {},
     "output_type": "display_data"
    }
   ],
   "source": [
    "boxplot(lamaInternet~JK,data=datanum, main=\"Lama Waktu Menggunakan Internet berdasarkan Jenis Kelamin\",\n",
    "   xlab=\"Jenis Kelamin\", ylab=\"Lama Internet\")"
   ]
  },
  {
   "cell_type": "markdown",
   "id": "53b99eff",
   "metadata": {},
   "source": [
    "Pada Boxplot tersebut, dapat diketahui bahwa median penggunaan internet mahasiswa perempuan lebih besar daripada median uang saku mahasiswa laki-laki, data penggunaan internet mahasiswa perempuan lebih menyebar daripada data penggunaan internet mahasiswa laki-laki."
   ]
  },
  {
   "cell_type": "markdown",
   "id": "12e1d6fe",
   "metadata": {},
   "source": [
    "## Scatter Plot"
   ]
  },
  {
   "cell_type": "markdown",
   "id": "ad0ed000",
   "metadata": {},
   "source": [
    "### Bivariate Scatter Plot"
   ]
  },
  {
   "cell_type": "code",
   "execution_count": 37,
   "id": "13240fb9",
   "metadata": {
    "ExecuteTime": {
     "end_time": "2022-02-20T14:34:34.170662Z",
     "start_time": "2022-02-20T14:34:29.188Z"
    },
    "scrolled": false
   },
   "outputs": [
    {
     "data": {
      "image/png": "[encoded data removed]",
      "text/plain": [
       "plot without title"
      ]
     },
     "metadata": {},
     "output_type": "display_data"
    }
   ],
   "source": [
    "pairs(datanum)"
   ]
  },
  {
   "cell_type": "markdown",
   "id": "a58fe983",
   "metadata": {},
   "source": [
    "Dari scatter plot yang ada, dapat diketahui bahwa hubungan yang ada antar dua variabel rendah atau tidak ada hubungan sama sekali"
   ]
  },
  {
   "cell_type": "markdown",
   "id": "f452c66d",
   "metadata": {},
   "source": [
    "### Trivariate Scatter Plot"
   ]
  },
  {
   "cell_type": "code",
   "execution_count": 38,
   "id": "f51621b1",
   "metadata": {
    "ExecuteTime": {
     "end_time": "2022-02-20T14:34:34.199690Z",
     "start_time": "2022-02-20T14:34:29.191Z"
    }
   },
   "outputs": [],
   "source": [
    "attach(datanum)"
   ]
  },
  {
   "cell_type": "code",
   "execution_count": 39,
   "id": "81c83e8f",
   "metadata": {
    "ExecuteTime": {
     "end_time": "2022-02-20T14:34:34.385661Z",
     "start_time": "2022-02-20T14:34:29.193Z"
    }
   },
   "outputs": [
    {
     "data": {
      "image/png": "[encoded data removed]",
      "text/plain": [
       "Plot with title \"3D Scatterplot\""
      ]
     },
     "metadata": {},
     "output_type": "display_data"
    }
   ],
   "source": [
    "scatterplot3d(BB, JK, TB, main=\"3D Scatterplot\")"
   ]
  },
  {
   "cell_type": "code",
   "execution_count": 40,
   "id": "19ab2315",
   "metadata": {
    "ExecuteTime": {
     "end_time": "2022-02-20T14:34:34.507663Z",
     "start_time": "2022-02-20T14:34:29.196Z"
    }
   },
   "outputs": [
    {
     "data": {
      "image/png": "[encoded data removed]",
      "text/plain": [
       "Plot with title \"3D Scatterplot\""
      ]
     },
     "metadata": {},
     "output_type": "display_data"
    }
   ],
   "source": [
    "scatterplot3d(UangSaku, Jajan, Pulsa, main=\"3D Scatterplot\")"
   ]
  },
  {
   "cell_type": "code",
   "execution_count": 41,
   "id": "4fdaf047",
   "metadata": {
    "ExecuteTime": {
     "end_time": "2022-02-20T14:34:34.588667Z",
     "start_time": "2022-02-20T14:34:29.198Z"
    }
   },
   "outputs": [
    {
     "data": {
      "image/png": "[encoded data removed]",
      "text/plain": [
       "Plot with title \"3D Scatterplot\""
      ]
     },
     "metadata": {},
     "output_type": "display_data"
    }
   ],
   "source": [
    "scatterplot3d(UangSaku, LamaBelajar, LamaInternet, main=\"3D Scatterplot\")"
   ]
  },
  {
   "cell_type": "markdown",
   "id": "b19647bd",
   "metadata": {},
   "source": [
    "## Stars"
   ]
  },
  {
   "cell_type": "markdown",
   "id": "314d2943",
   "metadata": {},
   "source": [
    "### Multivariate Stars"
   ]
  },
  {
   "cell_type": "code",
   "execution_count": 42,
   "id": "033ec801",
   "metadata": {
    "ExecuteTime": {
     "end_time": "2022-02-20T14:34:34.698692Z",
     "start_time": "2022-02-20T14:34:29.202Z"
    }
   },
   "outputs": [
    {
     "data": {
      "image/png": "[encoded data removed]",
      "text/plain": [
       "Plot with title \"Mahasiswa 3SI1\""
      ]
     },
     "metadata": {},
     "output_type": "display_data"
    }
   ],
   "source": [
    "stars(datanum, locations = c(0, 0), radius = FALSE, key.loc = c(0, 0), main = \"Mahasiswa 3SI1\", lty = 2)"
   ]
  },
  {
   "cell_type": "markdown",
   "id": "1ee9856b",
   "metadata": {
    "ExecuteTime": {
     "end_time": "2022-02-19T14:05:37.534462Z",
     "start_time": "2022-02-19T14:05:37.512Z"
    }
   },
   "source": [
    "## Chernoff Face"
   ]
  },
  {
   "cell_type": "code",
   "execution_count": 43,
   "id": "907979e3",
   "metadata": {
    "ExecuteTime": {
     "end_time": "2022-02-20T14:34:35.762209Z",
     "start_time": "2022-02-20T14:34:29.205Z"
    }
   },
   "outputs": [
    {
     "name": "stdout",
     "output_type": "stream",
     "text": [
      "effect of variables:\n",
      " modified item       Var           \n",
      " \"height of face   \" \"TB\"          \n",
      " \"width of face    \" \"BB\"          \n",
      " \"structure of face\" \"JK\"          \n",
      " \"height of mouth  \" \"UangSaku\"    \n",
      " \"width of mouth   \" \"Jajan\"       \n",
      " \"smiling          \" \"Pulsa\"       \n",
      " \"height of eyes   \" \"LamaBelajar\" \n",
      " \"width of eyes    \" \"LamaInternet\"\n",
      " \"height of hair   \" \"TB\"          \n",
      " \"width of hair   \"  \"BB\"          \n",
      " \"style of hair   \"  \"JK\"          \n",
      " \"height of nose  \"  \"UangSaku\"    \n",
      " \"width of nose   \"  \"Jajan\"       \n",
      " \"width of ear    \"  \"Pulsa\"       \n",
      " \"height of ear   \"  \"LamaBelajar\" \n"
     ]
    },
    {
     "data": {
      "image/png": "[encoded data removed]",
      "text/plain": [
       "Plot with title \"31\""
      ]
     },
     "metadata": {},
     "output_type": "display_data"
    }
   ],
   "source": [
    "faces(datanum)"
   ]
  },
  {
   "cell_type": "markdown",
   "id": "a6d4c05f",
   "metadata": {},
   "source": [
    "# Correlation and Covariance"
   ]
  },
  {
   "cell_type": "code",
   "execution_count": 44,
   "id": "9e69ab69",
   "metadata": {
    "ExecuteTime": {
     "end_time": "2022-02-20T14:34:35.809212Z",
     "start_time": "2022-02-20T14:34:29.209Z"
    },
    "scrolled": true
   },
   "outputs": [
    {
     "data": {
      "text/html": [
       "<table>\n",
       "<thead><tr><th></th><th scope=col>TB</th><th scope=col>BB</th><th scope=col>JK</th><th scope=col>UangSaku</th><th scope=col>Jajan</th><th scope=col>Pulsa</th><th scope=col>LamaBelajar</th><th scope=col>LamaInternet</th></tr></thead>\n",
       "<tbody>\n",
       "\t<tr><th scope=row>TB</th><td> 1.00000000 </td><td> 0.48352322 </td><td>-0.617217285</td><td> 0.04110999 </td><td> 0.166629387</td><td> 0.04943764 </td><td>-0.28339170 </td><td>-0.1524911  </td></tr>\n",
       "\t<tr><th scope=row>BB</th><td> 0.48352322 </td><td> 1.00000000 </td><td>-0.288181272</td><td>-0.01563694 </td><td> 0.154564761</td><td> 0.13831822 </td><td>-0.05501474 </td><td>-0.2609085  </td></tr>\n",
       "\t<tr><th scope=row>JK</th><td>-0.61721728 </td><td>-0.28818127 </td><td> 1.000000000</td><td> 0.07487328 </td><td>-0.003193365</td><td>-0.04178776 </td><td> 0.25973664 </td><td> 0.4081495  </td></tr>\n",
       "\t<tr><th scope=row>UangSaku</th><td> 0.04110999 </td><td>-0.01563694 </td><td> 0.074873283</td><td> 1.00000000 </td><td> 0.386914373</td><td> 0.36653710 </td><td> 0.29626693 </td><td> 0.3716427  </td></tr>\n",
       "\t<tr><th scope=row>Jajan</th><td> 0.16662939 </td><td> 0.15456476 </td><td>-0.003193365</td><td> 0.38691437 </td><td> 1.000000000</td><td> 0.01051770 </td><td> 0.03648287 </td><td> 0.2524325  </td></tr>\n",
       "\t<tr><th scope=row>Pulsa</th><td> 0.04943764 </td><td> 0.13831822 </td><td>-0.041787760</td><td> 0.36653710 </td><td> 0.010517697</td><td> 1.00000000 </td><td> 0.07427467 </td><td> 0.2123904  </td></tr>\n",
       "\t<tr><th scope=row>LamaBelajar</th><td>-0.28339170 </td><td>-0.05501474 </td><td> 0.259736635</td><td> 0.29626693 </td><td> 0.036482867</td><td> 0.07427467 </td><td> 1.00000000 </td><td> 0.2483004  </td></tr>\n",
       "\t<tr><th scope=row>LamaInternet</th><td>-0.15249114 </td><td>-0.26090855 </td><td> 0.408149501</td><td> 0.37164270 </td><td> 0.252432508</td><td> 0.21239038 </td><td> 0.24830041 </td><td> 1.0000000  </td></tr>\n",
       "</tbody>\n",
       "</table>\n"
      ],
      "text/latex": [
       "\\begin{tabular}{r|llllllll}\n",
       "  & TB & BB & JK & UangSaku & Jajan & Pulsa & LamaBelajar & LamaInternet\\\\\n",
       "\\hline\n",
       "\tTB &  1.00000000  &  0.48352322  & -0.617217285 &  0.04110999  &  0.166629387 &  0.04943764  & -0.28339170  & -0.1524911  \\\\\n",
       "\tBB &  0.48352322  &  1.00000000  & -0.288181272 & -0.01563694  &  0.154564761 &  0.13831822  & -0.05501474  & -0.2609085  \\\\\n",
       "\tJK & -0.61721728  & -0.28818127  &  1.000000000 &  0.07487328  & -0.003193365 & -0.04178776  &  0.25973664  &  0.4081495  \\\\\n",
       "\tUangSaku &  0.04110999  & -0.01563694  &  0.074873283 &  1.00000000  &  0.386914373 &  0.36653710  &  0.29626693  &  0.3716427  \\\\\n",
       "\tJajan &  0.16662939  &  0.15456476  & -0.003193365 &  0.38691437  &  1.000000000 &  0.01051770  &  0.03648287  &  0.2524325  \\\\\n",
       "\tPulsa &  0.04943764  &  0.13831822  & -0.041787760 &  0.36653710  &  0.010517697 &  1.00000000  &  0.07427467  &  0.2123904  \\\\\n",
       "\tLamaBelajar & -0.28339170  & -0.05501474  &  0.259736635 &  0.29626693  &  0.036482867 &  0.07427467  &  1.00000000  &  0.2483004  \\\\\n",
       "\tLamaInternet & -0.15249114  & -0.26090855  &  0.408149501 &  0.37164270  &  0.252432508 &  0.21239038  &  0.24830041  &  1.0000000  \\\\\n",
       "\\end{tabular}\n"
      ],
      "text/markdown": [
       "\n",
       "| <!--/--> | TB | BB | JK | UangSaku | Jajan | Pulsa | LamaBelajar | LamaInternet |\n",
       "|---|---|---|---|---|---|---|---|---|\n",
       "| TB |  1.00000000  |  0.48352322  | -0.617217285 |  0.04110999  |  0.166629387 |  0.04943764  | -0.28339170  | -0.1524911   |\n",
       "| BB |  0.48352322  |  1.00000000  | -0.288181272 | -0.01563694  |  0.154564761 |  0.13831822  | -0.05501474  | -0.2609085   |\n",
       "| JK | -0.61721728  | -0.28818127  |  1.000000000 |  0.07487328  | -0.003193365 | -0.04178776  |  0.25973664  |  0.4081495   |\n",
       "| UangSaku |  0.04110999  | -0.01563694  |  0.074873283 |  1.00000000  |  0.386914373 |  0.36653710  |  0.29626693  |  0.3716427   |\n",
       "| Jajan |  0.16662939  |  0.15456476  | -0.003193365 |  0.38691437  |  1.000000000 |  0.01051770  |  0.03648287  |  0.2524325   |\n",
       "| Pulsa |  0.04943764  |  0.13831822  | -0.041787760 |  0.36653710  |  0.010517697 |  1.00000000  |  0.07427467  |  0.2123904   |\n",
       "| LamaBelajar | -0.28339170  | -0.05501474  |  0.259736635 |  0.29626693  |  0.036482867 |  0.07427467  |  1.00000000  |  0.2483004   |\n",
       "| LamaInternet | -0.15249114  | -0.26090855  |  0.408149501 |  0.37164270  |  0.252432508 |  0.21239038  |  0.24830041  |  1.0000000   |\n",
       "\n"
      ],
      "text/plain": [
       "             TB          BB          JK           UangSaku    Jajan       \n",
       "TB            1.00000000  0.48352322 -0.617217285  0.04110999  0.166629387\n",
       "BB            0.48352322  1.00000000 -0.288181272 -0.01563694  0.154564761\n",
       "JK           -0.61721728 -0.28818127  1.000000000  0.07487328 -0.003193365\n",
       "UangSaku      0.04110999 -0.01563694  0.074873283  1.00000000  0.386914373\n",
       "Jajan         0.16662939  0.15456476 -0.003193365  0.38691437  1.000000000\n",
       "Pulsa         0.04943764  0.13831822 -0.041787760  0.36653710  0.010517697\n",
       "LamaBelajar  -0.28339170 -0.05501474  0.259736635  0.29626693  0.036482867\n",
       "LamaInternet -0.15249114 -0.26090855  0.408149501  0.37164270  0.252432508\n",
       "             Pulsa       LamaBelajar LamaInternet\n",
       "TB            0.04943764 -0.28339170 -0.1524911  \n",
       "BB            0.13831822 -0.05501474 -0.2609085  \n",
       "JK           -0.04178776  0.25973664  0.4081495  \n",
       "UangSaku      0.36653710  0.29626693  0.3716427  \n",
       "Jajan         0.01051770  0.03648287  0.2524325  \n",
       "Pulsa         1.00000000  0.07427467  0.2123904  \n",
       "LamaBelajar   0.07427467  1.00000000  0.2483004  \n",
       "LamaInternet  0.21239038  0.24830041  1.0000000  "
      ]
     },
     "metadata": {},
     "output_type": "display_data"
    }
   ],
   "source": [
    "cor(datanum)"
   ]
  },
  {
   "cell_type": "markdown",
   "id": "d77e9cc6",
   "metadata": {},
   "source": [
    "Berdasarkan hasil tersebut, dapat diketahui bahwa\n",
    "Tinggi badan dan berat badan memiliki korelasi positif sedang\n",
    "Tinggi badan dan jenis kelamin memiliki korelasi negatif kuat\n",
    "Tinggi badan dan uang saku memiliki korelasi positif sangat rendah\n",
    "Tinggi badan dan pengeluaran jajan memiliki korelasi positif sangat rendah\n",
    "Tinggi badan dan pengeluaran pulsa memiliki korelasi positif sangat rendah\n",
    "Tinggi badan dan lama waktu belajar memiliki korelasi negatif rendah\n",
    "Tinggi badan dan lama waktu menggunakan internet memiliki korelasi negatif sangat rendah\n",
    "Berat badan dan jenis kelamin memiliki korelasi negatif rendah\n",
    "Berat badan dan uang saku memiliki korelasi negatif sangat rendah\n",
    "Berat badan dan pengeluaran jajan memiliki korelasi positif sangat rendah\n",
    "Berat badan dan pengeluaran pulsa memiliki korelasi positif sangat rendah\n",
    "Berat badan dan lama waktu belajar memiliki korelasi negatif sangat rendah\n",
    "Berat badan dan lama waktu menggunakan internet memiliki korelasi negatif rendah\n",
    "Jenis kelamin dan uang saku memiliki korelasi positif sangat rendah\n",
    "Jenis kelamin dan pengeluaran jajan memiliki korelasi negatif sangat rendah\n",
    "Jenis kelamin dan pengeluaran pulsa memiliki korelasi negatif sangat rendah\n",
    "Jenis kelamin dan lama waktu belajar memiliki korelasi positif rendah\n",
    "Jenis kelamin dan lama waktu menggunakan internet memiliki korelasi positif sedang\n",
    "Uang saku dan pengeluaran jajan memiliki korelasi positif rendah\n",
    "Uang saku dan pengeluaran pulsa memiliki korelasi positif rendah\n",
    "Uang saku dan lama waktu belajar memiliki korelasi positif rendah\n",
    "Uang saku dan lama waktu menggunakan internet memiliki korelasi positif rendah\n",
    "Pengeluaran jajan dan pengeluaran pulsa memiliki korelasi positif sangat rendah\n",
    "Pengeluaran jajan dan lama waktu belajar memiliki korelasi positif sangat rendah\n",
    "Pengeluaran jajan dan lama waktu menggunakan internet memiliki korelasi positif rendah\n",
    "pengeluaran pulsa dan lama waktu belajar memiliki korelasi positif sangat rendah\n",
    "pengeluaran pulsa dan lama waktu menggunakan internet memiliki korelasi positif rendah\n",
    "lama waktu belajar dan lama waktu menggunakan internet memiliki korelasi positif rendah"
   ]
  },
  {
   "cell_type": "code",
   "execution_count": 45,
   "id": "eb611d9d",
   "metadata": {
    "ExecuteTime": {
     "end_time": "2022-02-20T14:34:35.864205Z",
     "start_time": "2022-02-20T14:34:29.287Z"
    },
    "scrolled": true
   },
   "outputs": [
    {
     "data": {
      "text/html": [
       "<table>\n",
       "<thead><tr><th></th><th scope=col>TB</th><th scope=col>BB</th><th scope=col>JK</th><th scope=col>UangSaku</th><th scope=col>Jajan</th><th scope=col>Pulsa</th><th scope=col>LamaBelajar</th><th scope=col>LamaInternet</th></tr></thead>\n",
       "<tbody>\n",
       "\t<tr><th scope=row>TB</th><td>    59.427957</td><td> 4.137527e+01</td><td>   -2.3559140</td><td> 1.563548e+04</td><td> 1.834462e+05</td><td> 2.030108e+04</td><td>   -2.8677419</td><td>    -6.150323</td></tr>\n",
       "\t<tr><th scope=row>BB</th><td>    41.375269</td><td> 1.232129e+02</td><td>   -1.5838710</td><td>-8.563441e+03</td><td> 2.450194e+05</td><td> 8.178495e+04</td><td>   -0.8016129</td><td>   -15.152151</td></tr>\n",
       "\t<tr><th scope=row>JK</th><td>    -2.355914</td><td>-1.583871e+00</td><td>    0.2451613</td><td> 1.829032e+03</td><td>-2.258065e+02</td><td>-1.102151e+03</td><td>    0.1688172</td><td>     1.057312</td></tr>\n",
       "\t<tr><th scope=row>UangSaku</th><td> 15635.483871</td><td>-8.563441e+03</td><td> 1829.0322581</td><td> 2.434092e+09</td><td> 2.726122e+09</td><td> 9.632796e+08</td><td>19187.0967742</td><td> 95929.462366</td></tr>\n",
       "\t<tr><th scope=row>Jajan</th><td>183446.236559</td><td> 2.450194e+05</td><td> -225.8064516</td><td> 2.726122e+09</td><td> 2.039500e+10</td><td> 8.001075e+07</td><td> 6839.2473118</td><td>188610.107527</td></tr>\n",
       "\t<tr><th scope=row>Pulsa</th><td> 20301.075269</td><td> 8.178495e+04</td><td>-1102.1505376</td><td> 9.632796e+08</td><td> 8.001075e+07</td><td> 2.837473e+09</td><td> 5193.5483871</td><td> 59191.397849</td></tr>\n",
       "\t<tr><th scope=row>LamaBelajar</th><td>    -2.867742</td><td>-8.016129e-01</td><td>    0.1688172</td><td> 1.918710e+04</td><td> 6.839247e+03</td><td> 5.193548e+03</td><td>    1.7231183</td><td>     1.705269</td></tr>\n",
       "\t<tr><th scope=row>LamaInternet</th><td>    -6.150323</td><td>-1.515215e+01</td><td>    1.0573118</td><td> 9.592946e+04</td><td> 1.886101e+05</td><td> 5.919140e+04</td><td>    1.7052688</td><td>    27.372581</td></tr>\n",
       "</tbody>\n",
       "</table>\n"
      ],
      "text/latex": [
       "\\begin{tabular}{r|llllllll}\n",
       "  & TB & BB & JK & UangSaku & Jajan & Pulsa & LamaBelajar & LamaInternet\\\\\n",
       "\\hline\n",
       "\tTB &     59.427957 &  4.137527e+01 &    -2.3559140 &  1.563548e+04 &  1.834462e+05 &  2.030108e+04 &    -2.8677419 &     -6.150323\\\\\n",
       "\tBB &     41.375269 &  1.232129e+02 &    -1.5838710 & -8.563441e+03 &  2.450194e+05 &  8.178495e+04 &    -0.8016129 &    -15.152151\\\\\n",
       "\tJK &     -2.355914 & -1.583871e+00 &     0.2451613 &  1.829032e+03 & -2.258065e+02 & -1.102151e+03 &     0.1688172 &      1.057312\\\\\n",
       "\tUangSaku &  15635.483871 & -8.563441e+03 &  1829.0322581 &  2.434092e+09 &  2.726122e+09 &  9.632796e+08 & 19187.0967742 &  95929.462366\\\\\n",
       "\tJajan & 183446.236559 &  2.450194e+05 &  -225.8064516 &  2.726122e+09 &  2.039500e+10 &  8.001075e+07 &  6839.2473118 & 188610.107527\\\\\n",
       "\tPulsa &  20301.075269 &  8.178495e+04 & -1102.1505376 &  9.632796e+08 &  8.001075e+07 &  2.837473e+09 &  5193.5483871 &  59191.397849\\\\\n",
       "\tLamaBelajar &     -2.867742 & -8.016129e-01 &     0.1688172 &  1.918710e+04 &  6.839247e+03 &  5.193548e+03 &     1.7231183 &      1.705269\\\\\n",
       "\tLamaInternet &     -6.150323 & -1.515215e+01 &     1.0573118 &  9.592946e+04 &  1.886101e+05 &  5.919140e+04 &     1.7052688 &     27.372581\\\\\n",
       "\\end{tabular}\n"
      ],
      "text/markdown": [
       "\n",
       "| <!--/--> | TB | BB | JK | UangSaku | Jajan | Pulsa | LamaBelajar | LamaInternet |\n",
       "|---|---|---|---|---|---|---|---|---|\n",
       "| TB |     59.427957 |  4.137527e+01 |    -2.3559140 |  1.563548e+04 |  1.834462e+05 |  2.030108e+04 |    -2.8677419 |     -6.150323 |\n",
       "| BB |     41.375269 |  1.232129e+02 |    -1.5838710 | -8.563441e+03 |  2.450194e+05 |  8.178495e+04 |    -0.8016129 |    -15.152151 |\n",
       "| JK |     -2.355914 | -1.583871e+00 |     0.2451613 |  1.829032e+03 | -2.258065e+02 | -1.102151e+03 |     0.1688172 |      1.057312 |\n",
       "| UangSaku |  15635.483871 | -8.563441e+03 |  1829.0322581 |  2.434092e+09 |  2.726122e+09 |  9.632796e+08 | 19187.0967742 |  95929.462366 |\n",
       "| Jajan | 183446.236559 |  2.450194e+05 |  -225.8064516 |  2.726122e+09 |  2.039500e+10 |  8.001075e+07 |  6839.2473118 | 188610.107527 |\n",
       "| Pulsa |  20301.075269 |  8.178495e+04 | -1102.1505376 |  9.632796e+08 |  8.001075e+07 |  2.837473e+09 |  5193.5483871 |  59191.397849 |\n",
       "| LamaBelajar |     -2.867742 | -8.016129e-01 |     0.1688172 |  1.918710e+04 |  6.839247e+03 |  5.193548e+03 |     1.7231183 |      1.705269 |\n",
       "| LamaInternet |     -6.150323 | -1.515215e+01 |     1.0573118 |  9.592946e+04 |  1.886101e+05 |  5.919140e+04 |     1.7052688 |     27.372581 |\n",
       "\n"
      ],
      "text/plain": [
       "             TB            BB            JK            UangSaku     \n",
       "TB               59.427957  4.137527e+01    -2.3559140  1.563548e+04\n",
       "BB               41.375269  1.232129e+02    -1.5838710 -8.563441e+03\n",
       "JK               -2.355914 -1.583871e+00     0.2451613  1.829032e+03\n",
       "UangSaku      15635.483871 -8.563441e+03  1829.0322581  2.434092e+09\n",
       "Jajan        183446.236559  2.450194e+05  -225.8064516  2.726122e+09\n",
       "Pulsa         20301.075269  8.178495e+04 -1102.1505376  9.632796e+08\n",
       "LamaBelajar      -2.867742 -8.016129e-01     0.1688172  1.918710e+04\n",
       "LamaInternet     -6.150323 -1.515215e+01     1.0573118  9.592946e+04\n",
       "             Jajan         Pulsa         LamaBelajar   LamaInternet \n",
       "TB            1.834462e+05  2.030108e+04    -2.8677419     -6.150323\n",
       "BB            2.450194e+05  8.178495e+04    -0.8016129    -15.152151\n",
       "JK           -2.258065e+02 -1.102151e+03     0.1688172      1.057312\n",
       "UangSaku      2.726122e+09  9.632796e+08 19187.0967742  95929.462366\n",
       "Jajan         2.039500e+10  8.001075e+07  6839.2473118 188610.107527\n",
       "Pulsa         8.001075e+07  2.837473e+09  5193.5483871  59191.397849\n",
       "LamaBelajar   6.839247e+03  5.193548e+03     1.7231183      1.705269\n",
       "LamaInternet  1.886101e+05  5.919140e+04     1.7052688     27.372581"
      ]
     },
     "metadata": {},
     "output_type": "display_data"
    }
   ],
   "source": [
    "cov(datanum)"
   ]
  },
  {
   "cell_type": "code",
   "execution_count": null,
   "id": "17dc403b",
   "metadata": {},
   "outputs": [],
   "source": []
  }
 ],
 "metadata": {
  "kernelspec": {
   "display_name": "R",
   "language": "R",
   "name": "ir"
  },
  "language_info": {
   "codemirror_mode": "r",
   "file_extension": ".r",
   "mimetype": "text/x-r-source",
   "name": "R",
   "pygments_lexer": "r",
   "version": "3.6.1"
  },
  "toc": {
   "base_numbering": 1,
   "nav_menu": {},
   "number_sections": true,
   "sideBar": true,
   "skip_h1_title": false,
   "title_cell": "Table of Contents",
   "title_sidebar": "Contents",
   "toc_cell": false,
   "toc_position": {},
   "toc_section_display": true,
   "toc_window_display": false
  }
 },
 "nbformat": 4,
 "nbformat_minor": 5
}
