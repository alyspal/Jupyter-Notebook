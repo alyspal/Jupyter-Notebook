{
 "cells": [
  {
   "cell_type": "code",
   "execution_count": 11,
   "id": "734b35e0",
   "metadata": {
    "ExecuteTime": {
     "end_time": "2022-06-06T16:20:55.587589Z",
     "start_time": "2022-06-06T16:20:55.561Z"
    },
    "scrolled": true
   },
   "outputs": [
    {
     "name": "stderr",
     "output_type": "stream",
     "text": [
      "Warning message:\n",
      "\"package 'ca' is in use and will not be installed\"\n"
     ]
    }
   ],
   "source": [
    "install.packages(\"ca\")"
   ]
  },
  {
   "cell_type": "code",
   "execution_count": 12,
   "id": "14904667",
   "metadata": {
    "ExecuteTime": {
     "end_time": "2022-06-06T16:20:56.034567Z",
     "start_time": "2022-06-06T16:20:55.998Z"
    },
    "scrolled": true
   },
   "outputs": [],
   "source": [
    "library(openxlsx)\n",
    "library(vegan)\n",
    "  library(ggplot2)\n",
    "  library(ggrepel)\n",
    "library(readxl)\n",
    "library(CCA)\n",
    "library(dplyr)\n",
    "library(GGally)\n",
    "library(ca)"
   ]
  },
  {
   "cell_type": "code",
   "execution_count": 13,
   "id": "1869c0c3",
   "metadata": {
    "ExecuteTime": {
     "end_time": "2022-06-06T16:20:56.520797Z",
     "start_time": "2022-06-06T16:20:56.471Z"
    }
   },
   "outputs": [],
   "source": [
    "data <- read_excel(\"FIFAfootball2.xlsx\")"
   ]
  },
  {
   "cell_type": "code",
   "execution_count": 14,
   "id": "57840339",
   "metadata": {
    "ExecuteTime": {
     "end_time": "2022-06-06T16:20:57.145139Z",
     "start_time": "2022-06-06T16:20:57.101Z"
    }
   },
   "outputs": [
    {
     "data": {
      "text/html": [
       "<table class=\"dataframe\">\n",
       "<caption>A tibble: 6 × 29</caption>\n",
       "<thead>\n",
       "\t<tr><th scope=col>ID</th><th scope=col>name</th><th scope=col>pac</th><th scope=col>sho</th><th scope=col>pas</th><th scope=col>dri</th><th scope=col>phy</th><th scope=col>crossing</th><th scope=col>finishing</th><th scope=col>heading_accuracy</th><th scope=col>⋯</th><th scope=col>strength</th><th scope=col>long_shots</th><th scope=col>aggression</th><th scope=col>interceptions</th><th scope=col>positioning</th><th scope=col>vision</th><th scope=col>penalties</th><th scope=col>composure</th><th scope=col>standing_tackle</th><th scope=col>sliding_tackle</th></tr>\n",
       "\t<tr><th scope=col>&lt;dbl&gt;</th><th scope=col>&lt;chr&gt;</th><th scope=col>&lt;dbl&gt;</th><th scope=col>&lt;dbl&gt;</th><th scope=col>&lt;dbl&gt;</th><th scope=col>&lt;dbl&gt;</th><th scope=col>&lt;dbl&gt;</th><th scope=col>&lt;dbl&gt;</th><th scope=col>&lt;dbl&gt;</th><th scope=col>&lt;dbl&gt;</th><th scope=col>⋯</th><th scope=col>&lt;dbl&gt;</th><th scope=col>&lt;dbl&gt;</th><th scope=col>&lt;dbl&gt;</th><th scope=col>&lt;dbl&gt;</th><th scope=col>&lt;dbl&gt;</th><th scope=col>&lt;dbl&gt;</th><th scope=col>&lt;dbl&gt;</th><th scope=col>&lt;dbl&gt;</th><th scope=col>&lt;dbl&gt;</th><th scope=col>&lt;dbl&gt;</th></tr>\n",
       "</thead>\n",
       "<tbody>\n",
       "\t<tr><td>158023</td><td>L. Messi      </td><td>89</td><td>90</td><td>86</td><td>96</td><td>61</td><td>77</td><td>95</td><td>71</td><td>⋯</td><td>59</td><td>88</td><td>48</td><td>22</td><td>93</td><td>90</td><td>78</td><td>96</td><td>28</td><td>26</td></tr>\n",
       "\t<tr><td>190871</td><td>Neymar        </td><td>92</td><td>84</td><td>79</td><td>95</td><td>60</td><td>75</td><td>89</td><td>62</td><td>⋯</td><td>53</td><td>77</td><td>56</td><td>36</td><td>90</td><td>80</td><td>81</td><td>92</td><td>24</td><td>33</td></tr>\n",
       "\t<tr><td>188545</td><td>R. Lewandowski</td><td>81</td><td>88</td><td>75</td><td>86</td><td>82</td><td>62</td><td>91</td><td>85</td><td>⋯</td><td>84</td><td>83</td><td>80</td><td>39</td><td>91</td><td>78</td><td>84</td><td>87</td><td>42</td><td>19</td></tr>\n",
       "\t<tr><td>183277</td><td>E. Hazard     </td><td>90</td><td>82</td><td>84</td><td>92</td><td>66</td><td>80</td><td>83</td><td>57</td><td>⋯</td><td>65</td><td>82</td><td>54</td><td>41</td><td>85</td><td>86</td><td>86</td><td>87</td><td>27</td><td>22</td></tr>\n",
       "\t<tr><td>167664</td><td>G. Higuaín    </td><td>79</td><td>87</td><td>70</td><td>83</td><td>74</td><td>68</td><td>91</td><td>86</td><td>⋯</td><td>85</td><td>82</td><td>50</td><td>20</td><td>92</td><td>70</td><td>70</td><td>86</td><td>22</td><td>18</td></tr>\n",
       "\t<tr><td>192985</td><td>K. De Bruyne  </td><td>75</td><td>84</td><td>88</td><td>85</td><td>75</td><td>90</td><td>83</td><td>53</td><td>⋯</td><td>73</td><td>86</td><td>68</td><td>56</td><td>84</td><td>90</td><td>77</td><td>84</td><td>51</td><td>40</td></tr>\n",
       "</tbody>\n",
       "</table>\n"
      ],
      "text/latex": [
       "A tibble: 6 × 29\n",
       "\\begin{tabular}{lllllllllllllllllllll}\n",
       " ID & name & pac & sho & pas & dri & phy & crossing & finishing & heading\\_accuracy & ⋯ & strength & long\\_shots & aggression & interceptions & positioning & vision & penalties & composure & standing\\_tackle & sliding\\_tackle\\\\\n",
       " <dbl> & <chr> & <dbl> & <dbl> & <dbl> & <dbl> & <dbl> & <dbl> & <dbl> & <dbl> & ⋯ & <dbl> & <dbl> & <dbl> & <dbl> & <dbl> & <dbl> & <dbl> & <dbl> & <dbl> & <dbl>\\\\\n",
       "\\hline\n",
       "\t 158023 & L. Messi       & 89 & 90 & 86 & 96 & 61 & 77 & 95 & 71 & ⋯ & 59 & 88 & 48 & 22 & 93 & 90 & 78 & 96 & 28 & 26\\\\\n",
       "\t 190871 & Neymar         & 92 & 84 & 79 & 95 & 60 & 75 & 89 & 62 & ⋯ & 53 & 77 & 56 & 36 & 90 & 80 & 81 & 92 & 24 & 33\\\\\n",
       "\t 188545 & R. Lewandowski & 81 & 88 & 75 & 86 & 82 & 62 & 91 & 85 & ⋯ & 84 & 83 & 80 & 39 & 91 & 78 & 84 & 87 & 42 & 19\\\\\n",
       "\t 183277 & E. Hazard      & 90 & 82 & 84 & 92 & 66 & 80 & 83 & 57 & ⋯ & 65 & 82 & 54 & 41 & 85 & 86 & 86 & 87 & 27 & 22\\\\\n",
       "\t 167664 & G. Higuaín     & 79 & 87 & 70 & 83 & 74 & 68 & 91 & 86 & ⋯ & 85 & 82 & 50 & 20 & 92 & 70 & 70 & 86 & 22 & 18\\\\\n",
       "\t 192985 & K. De Bruyne   & 75 & 84 & 88 & 85 & 75 & 90 & 83 & 53 & ⋯ & 73 & 86 & 68 & 56 & 84 & 90 & 77 & 84 & 51 & 40\\\\\n",
       "\\end{tabular}\n"
      ],
      "text/markdown": [
       "\n",
       "A tibble: 6 × 29\n",
       "\n",
       "| ID &lt;dbl&gt; | name &lt;chr&gt; | pac &lt;dbl&gt; | sho &lt;dbl&gt; | pas &lt;dbl&gt; | dri &lt;dbl&gt; | phy &lt;dbl&gt; | crossing &lt;dbl&gt; | finishing &lt;dbl&gt; | heading_accuracy &lt;dbl&gt; | ⋯ ⋯ | strength &lt;dbl&gt; | long_shots &lt;dbl&gt; | aggression &lt;dbl&gt; | interceptions &lt;dbl&gt; | positioning &lt;dbl&gt; | vision &lt;dbl&gt; | penalties &lt;dbl&gt; | composure &lt;dbl&gt; | standing_tackle &lt;dbl&gt; | sliding_tackle &lt;dbl&gt; |\n",
       "|---|---|---|---|---|---|---|---|---|---|---|---|---|---|---|---|---|---|---|---|---|\n",
       "| 158023 | L. Messi       | 89 | 90 | 86 | 96 | 61 | 77 | 95 | 71 | ⋯ | 59 | 88 | 48 | 22 | 93 | 90 | 78 | 96 | 28 | 26 |\n",
       "| 190871 | Neymar         | 92 | 84 | 79 | 95 | 60 | 75 | 89 | 62 | ⋯ | 53 | 77 | 56 | 36 | 90 | 80 | 81 | 92 | 24 | 33 |\n",
       "| 188545 | R. Lewandowski | 81 | 88 | 75 | 86 | 82 | 62 | 91 | 85 | ⋯ | 84 | 83 | 80 | 39 | 91 | 78 | 84 | 87 | 42 | 19 |\n",
       "| 183277 | E. Hazard      | 90 | 82 | 84 | 92 | 66 | 80 | 83 | 57 | ⋯ | 65 | 82 | 54 | 41 | 85 | 86 | 86 | 87 | 27 | 22 |\n",
       "| 167664 | G. Higuaín     | 79 | 87 | 70 | 83 | 74 | 68 | 91 | 86 | ⋯ | 85 | 82 | 50 | 20 | 92 | 70 | 70 | 86 | 22 | 18 |\n",
       "| 192985 | K. De Bruyne   | 75 | 84 | 88 | 85 | 75 | 90 | 83 | 53 | ⋯ | 73 | 86 | 68 | 56 | 84 | 90 | 77 | 84 | 51 | 40 |\n",
       "\n"
      ],
      "text/plain": [
       "  ID     name           pac sho pas dri phy crossing finishing heading_accuracy\n",
       "1 158023 L. Messi       89  90  86  96  61  77       95        71              \n",
       "2 190871 Neymar         92  84  79  95  60  75       89        62              \n",
       "3 188545 R. Lewandowski 81  88  75  86  82  62       91        85              \n",
       "4 183277 E. Hazard      90  82  84  92  66  80       83        57              \n",
       "5 167664 G. Higuaín     79  87  70  83  74  68       91        86              \n",
       "6 192985 K. De Bruyne   75  84  88  85  75  90       83        53              \n",
       "  <U+22EF>        strength long_shots aggression interceptions positioning vision\n",
       "1 <U+22EF> 59       88         48         22            93          90    \n",
       "2 <U+22EF> 53       77         56         36            90          80    \n",
       "3 <U+22EF> 84       83         80         39            91          78    \n",
       "4 <U+22EF> 65       82         54         41            85          86    \n",
       "5 <U+22EF> 85       82         50         20            92          70    \n",
       "6 <U+22EF> 73       86         68         56            84          90    \n",
       "  penalties composure standing_tackle sliding_tackle\n",
       "1 78        96        28              26            \n",
       "2 81        92        24              33            \n",
       "3 84        87        42              19            \n",
       "4 86        87        27              22            \n",
       "5 70        86        22              18            \n",
       "6 77        84        51              40            "
      ]
     },
     "metadata": {},
     "output_type": "display_data"
    }
   ],
   "source": [
    "head(data)"
   ]
  },
  {
   "cell_type": "code",
   "execution_count": 15,
   "id": "51eb08e6",
   "metadata": {
    "ExecuteTime": {
     "end_time": "2022-06-06T16:20:57.595798Z",
     "start_time": "2022-06-06T16:20:57.553Z"
    },
    "scrolled": false
   },
   "outputs": [
    {
     "data": {
      "text/html": [
       "<table class=\"dataframe\">\n",
       "<caption>A tibble: 6 × 29</caption>\n",
       "<thead>\n",
       "\t<tr><th scope=col>ID</th><th scope=col>name</th><th scope=col>pac</th><th scope=col>sho</th><th scope=col>pas</th><th scope=col>dri</th><th scope=col>phy</th><th scope=col>crossing</th><th scope=col>finishing</th><th scope=col>heading_accuracy</th><th scope=col>⋯</th><th scope=col>strength</th><th scope=col>long_shots</th><th scope=col>aggression</th><th scope=col>interceptions</th><th scope=col>positioning</th><th scope=col>vision</th><th scope=col>penalties</th><th scope=col>composure</th><th scope=col>standing_tackle</th><th scope=col>sliding_tackle</th></tr>\n",
       "\t<tr><th scope=col>&lt;dbl&gt;</th><th scope=col>&lt;chr&gt;</th><th scope=col>&lt;dbl&gt;</th><th scope=col>&lt;dbl&gt;</th><th scope=col>&lt;dbl&gt;</th><th scope=col>&lt;dbl&gt;</th><th scope=col>&lt;dbl&gt;</th><th scope=col>&lt;dbl&gt;</th><th scope=col>&lt;dbl&gt;</th><th scope=col>&lt;dbl&gt;</th><th scope=col>⋯</th><th scope=col>&lt;dbl&gt;</th><th scope=col>&lt;dbl&gt;</th><th scope=col>&lt;dbl&gt;</th><th scope=col>&lt;dbl&gt;</th><th scope=col>&lt;dbl&gt;</th><th scope=col>&lt;dbl&gt;</th><th scope=col>&lt;dbl&gt;</th><th scope=col>&lt;dbl&gt;</th><th scope=col>&lt;dbl&gt;</th><th scope=col>&lt;dbl&gt;</th></tr>\n",
       "</thead>\n",
       "<tbody>\n",
       "\t<tr><td>158023</td><td>L. Messi      </td><td>89</td><td>90</td><td>86</td><td>96</td><td>61</td><td>77</td><td>95</td><td>71</td><td>⋯</td><td>59</td><td>88</td><td>48</td><td>22</td><td>93</td><td>90</td><td>78</td><td>96</td><td>28</td><td>26</td></tr>\n",
       "\t<tr><td>190871</td><td>Neymar        </td><td>92</td><td>84</td><td>79</td><td>95</td><td>60</td><td>75</td><td>89</td><td>62</td><td>⋯</td><td>53</td><td>77</td><td>56</td><td>36</td><td>90</td><td>80</td><td>81</td><td>92</td><td>24</td><td>33</td></tr>\n",
       "\t<tr><td>188545</td><td>R. Lewandowski</td><td>81</td><td>88</td><td>75</td><td>86</td><td>82</td><td>62</td><td>91</td><td>85</td><td>⋯</td><td>84</td><td>83</td><td>80</td><td>39</td><td>91</td><td>78</td><td>84</td><td>87</td><td>42</td><td>19</td></tr>\n",
       "\t<tr><td>183277</td><td>E. Hazard     </td><td>90</td><td>82</td><td>84</td><td>92</td><td>66</td><td>80</td><td>83</td><td>57</td><td>⋯</td><td>65</td><td>82</td><td>54</td><td>41</td><td>85</td><td>86</td><td>86</td><td>87</td><td>27</td><td>22</td></tr>\n",
       "\t<tr><td>167664</td><td>G. Higuaín    </td><td>79</td><td>87</td><td>70</td><td>83</td><td>74</td><td>68</td><td>91</td><td>86</td><td>⋯</td><td>85</td><td>82</td><td>50</td><td>20</td><td>92</td><td>70</td><td>70</td><td>86</td><td>22</td><td>18</td></tr>\n",
       "\t<tr><td>192985</td><td>K. De Bruyne  </td><td>75</td><td>84</td><td>88</td><td>85</td><td>75</td><td>90</td><td>83</td><td>53</td><td>⋯</td><td>73</td><td>86</td><td>68</td><td>56</td><td>84</td><td>90</td><td>77</td><td>84</td><td>51</td><td>40</td></tr>\n",
       "</tbody>\n",
       "</table>\n"
      ],
      "text/latex": [
       "A tibble: 6 × 29\n",
       "\\begin{tabular}{lllllllllllllllllllll}\n",
       " ID & name & pac & sho & pas & dri & phy & crossing & finishing & heading\\_accuracy & ⋯ & strength & long\\_shots & aggression & interceptions & positioning & vision & penalties & composure & standing\\_tackle & sliding\\_tackle\\\\\n",
       " <dbl> & <chr> & <dbl> & <dbl> & <dbl> & <dbl> & <dbl> & <dbl> & <dbl> & <dbl> & ⋯ & <dbl> & <dbl> & <dbl> & <dbl> & <dbl> & <dbl> & <dbl> & <dbl> & <dbl> & <dbl>\\\\\n",
       "\\hline\n",
       "\t 158023 & L. Messi       & 89 & 90 & 86 & 96 & 61 & 77 & 95 & 71 & ⋯ & 59 & 88 & 48 & 22 & 93 & 90 & 78 & 96 & 28 & 26\\\\\n",
       "\t 190871 & Neymar         & 92 & 84 & 79 & 95 & 60 & 75 & 89 & 62 & ⋯ & 53 & 77 & 56 & 36 & 90 & 80 & 81 & 92 & 24 & 33\\\\\n",
       "\t 188545 & R. Lewandowski & 81 & 88 & 75 & 86 & 82 & 62 & 91 & 85 & ⋯ & 84 & 83 & 80 & 39 & 91 & 78 & 84 & 87 & 42 & 19\\\\\n",
       "\t 183277 & E. Hazard      & 90 & 82 & 84 & 92 & 66 & 80 & 83 & 57 & ⋯ & 65 & 82 & 54 & 41 & 85 & 86 & 86 & 87 & 27 & 22\\\\\n",
       "\t 167664 & G. Higuaín     & 79 & 87 & 70 & 83 & 74 & 68 & 91 & 86 & ⋯ & 85 & 82 & 50 & 20 & 92 & 70 & 70 & 86 & 22 & 18\\\\\n",
       "\t 192985 & K. De Bruyne   & 75 & 84 & 88 & 85 & 75 & 90 & 83 & 53 & ⋯ & 73 & 86 & 68 & 56 & 84 & 90 & 77 & 84 & 51 & 40\\\\\n",
       "\\end{tabular}\n"
      ],
      "text/markdown": [
       "\n",
       "A tibble: 6 × 29\n",
       "\n",
       "| ID &lt;dbl&gt; | name &lt;chr&gt; | pac &lt;dbl&gt; | sho &lt;dbl&gt; | pas &lt;dbl&gt; | dri &lt;dbl&gt; | phy &lt;dbl&gt; | crossing &lt;dbl&gt; | finishing &lt;dbl&gt; | heading_accuracy &lt;dbl&gt; | ⋯ ⋯ | strength &lt;dbl&gt; | long_shots &lt;dbl&gt; | aggression &lt;dbl&gt; | interceptions &lt;dbl&gt; | positioning &lt;dbl&gt; | vision &lt;dbl&gt; | penalties &lt;dbl&gt; | composure &lt;dbl&gt; | standing_tackle &lt;dbl&gt; | sliding_tackle &lt;dbl&gt; |\n",
       "|---|---|---|---|---|---|---|---|---|---|---|---|---|---|---|---|---|---|---|---|---|\n",
       "| 158023 | L. Messi       | 89 | 90 | 86 | 96 | 61 | 77 | 95 | 71 | ⋯ | 59 | 88 | 48 | 22 | 93 | 90 | 78 | 96 | 28 | 26 |\n",
       "| 190871 | Neymar         | 92 | 84 | 79 | 95 | 60 | 75 | 89 | 62 | ⋯ | 53 | 77 | 56 | 36 | 90 | 80 | 81 | 92 | 24 | 33 |\n",
       "| 188545 | R. Lewandowski | 81 | 88 | 75 | 86 | 82 | 62 | 91 | 85 | ⋯ | 84 | 83 | 80 | 39 | 91 | 78 | 84 | 87 | 42 | 19 |\n",
       "| 183277 | E. Hazard      | 90 | 82 | 84 | 92 | 66 | 80 | 83 | 57 | ⋯ | 65 | 82 | 54 | 41 | 85 | 86 | 86 | 87 | 27 | 22 |\n",
       "| 167664 | G. Higuaín     | 79 | 87 | 70 | 83 | 74 | 68 | 91 | 86 | ⋯ | 85 | 82 | 50 | 20 | 92 | 70 | 70 | 86 | 22 | 18 |\n",
       "| 192985 | K. De Bruyne   | 75 | 84 | 88 | 85 | 75 | 90 | 83 | 53 | ⋯ | 73 | 86 | 68 | 56 | 84 | 90 | 77 | 84 | 51 | 40 |\n",
       "\n"
      ],
      "text/plain": [
       "  ID     name           pac sho pas dri phy crossing finishing heading_accuracy\n",
       "1 158023 L. Messi       89  90  86  96  61  77       95        71              \n",
       "2 190871 Neymar         92  84  79  95  60  75       89        62              \n",
       "3 188545 R. Lewandowski 81  88  75  86  82  62       91        85              \n",
       "4 183277 E. Hazard      90  82  84  92  66  80       83        57              \n",
       "5 167664 G. Higuaín     79  87  70  83  74  68       91        86              \n",
       "6 192985 K. De Bruyne   75  84  88  85  75  90       83        53              \n",
       "  <U+22EF>        strength long_shots aggression interceptions positioning vision\n",
       "1 <U+22EF> 59       88         48         22            93          90    \n",
       "2 <U+22EF> 53       77         56         36            90          80    \n",
       "3 <U+22EF> 84       83         80         39            91          78    \n",
       "4 <U+22EF> 65       82         54         41            85          86    \n",
       "5 <U+22EF> 85       82         50         20            92          70    \n",
       "6 <U+22EF> 73       86         68         56            84          90    \n",
       "  penalties composure standing_tackle sliding_tackle\n",
       "1 78        96        28              26            \n",
       "2 81        92        24              33            \n",
       "3 84        87        42              19            \n",
       "4 86        87        27              22            \n",
       "5 70        86        22              18            \n",
       "6 77        84        51              40            "
      ]
     },
     "metadata": {},
     "output_type": "display_data"
    }
   ],
   "source": [
    "datanew <- data[,-c(1,2,5,8,11,12,15,21,22,23,26,27,28,29,4,7,9,20)]\n",
    "head(data)"
   ]
  },
  {
   "cell_type": "code",
   "execution_count": 16,
   "id": "b25a6cd7",
   "metadata": {
    "ExecuteTime": {
     "end_time": "2022-06-06T16:20:58.162453Z",
     "start_time": "2022-06-06T16:20:58.141Z"
    }
   },
   "outputs": [],
   "source": [
    "x <- datanew[,c(1, 6,7,8,9)]\n",
    "y <- datanew[,-c(1, 6,7,8,9)]"
   ]
  },
  {
   "cell_type": "code",
   "execution_count": 21,
   "id": "8c5d38eb",
   "metadata": {
    "ExecuteTime": {
     "end_time": "2022-06-06T16:23:40.780419Z",
     "start_time": "2022-06-06T16:23:40.756Z"
    }
   },
   "outputs": [
    {
     "data": {
      "text/plain": [
       "Call: rda(X = datanew, cov = vars)\n",
       "\n",
       "              Inertia Rank\n",
       "Total           539.6     \n",
       "Unconstrained   539.6   11\n",
       "Inertia is variance \n",
       "\n",
       "Eigenvalues for unconstrained axes:\n",
       "   PC1    PC2    PC3    PC4    PC5    PC6    PC7    PC8    PC9   PC10   PC11 \n",
       "273.65  82.99  44.78  36.72  34.71  25.14  14.61  10.25   9.59   6.45   0.71 \n"
      ]
     },
     "metadata": {},
     "output_type": "display_data"
    }
   ],
   "source": [
    "rda(datanew, cov=vars)"
   ]
  },
  {
   "cell_type": "code",
   "execution_count": null,
   "id": "fd38dfc1",
   "metadata": {
    "ExecuteTime": {
     "end_time": "2022-06-06T16:20:26.011096Z",
     "start_time": "2022-06-06T16:20:18.665Z"
    }
   },
   "outputs": [],
   "source": [
    "ggpairs(y)"
   ]
  },
  {
   "cell_type": "code",
   "execution_count": null,
   "id": "4d0f3fd7",
   "metadata": {
    "ExecuteTime": {
     "end_time": "2022-06-06T16:20:26.017110Z",
     "start_time": "2022-06-06T16:20:18.669Z"
    }
   },
   "outputs": [],
   "source": [
    "matcor(y, x)"
   ]
  },
  {
   "cell_type": "code",
   "execution_count": null,
   "id": "e78e3fa2",
   "metadata": {
    "ExecuteTime": {
     "end_time": "2022-06-06T16:20:26.033087Z",
     "start_time": "2022-06-06T16:20:18.670Z"
    }
   },
   "outputs": [],
   "source": [
    "# canonical correlations\n",
    "cc11.9 <- cc(y, x)\n",
    "cc11.9$cor"
   ]
  },
  {
   "cell_type": "code",
   "execution_count": null,
   "id": "d2db3aed",
   "metadata": {
    "ExecuteTime": {
     "end_time": "2022-06-06T16:20:26.037074Z",
     "start_time": "2022-06-06T16:20:18.672Z"
    }
   },
   "outputs": [],
   "source": [
    "# raw canonical coefficients\n",
    "cc11.9[3:4]"
   ]
  },
  {
   "cell_type": "code",
   "execution_count": null,
   "id": "54e30a73",
   "metadata": {
    "ExecuteTime": {
     "end_time": "2022-06-06T16:20:26.041076Z",
     "start_time": "2022-06-06T16:20:18.676Z"
    }
   },
   "outputs": [],
   "source": [
    "# compute canonical loadings\n",
    "cc11.9v2 <- comput(y, x, cc11.9)\n",
    "\n",
    "# display canonical loadings\n",
    "cc11.9v2[3:6]"
   ]
  },
  {
   "cell_type": "code",
   "execution_count": null,
   "id": "d69933b1",
   "metadata": {
    "ExecuteTime": {
     "end_time": "2022-06-06T16:20:26.047076Z",
     "start_time": "2022-06-06T16:20:18.680Z"
    }
   },
   "outputs": [],
   "source": [
    "# tests of canonical dimensions\n",
    "rho <- cc11.9$cor\n",
    "## Define number of observations, number of variables in first set, and number of variables in the second set.\n",
    "n <- nrow(x)\n",
    "p <- length(y)\n",
    "q <- length(x)"
   ]
  },
  {
   "cell_type": "code",
   "execution_count": null,
   "id": "627ad30e",
   "metadata": {},
   "outputs": [],
   "source": []
  },
  {
   "cell_type": "markdown",
   "id": "1ccf29d7",
   "metadata": {},
   "source": [
    "## Old"
   ]
  },
  {
   "cell_type": "code",
   "execution_count": null,
   "id": "710a1cd2",
   "metadata": {
    "ExecuteTime": {
     "end_time": "2022-06-06T16:20:26.051078Z",
     "start_time": "2022-06-06T16:20:18.682Z"
    }
   },
   "outputs": [],
   "source": [
    "x <- read.xlsx(\"x.xlsx\")\n",
    "y <- read.xlsx(\"y.xlsx\")"
   ]
  },
  {
   "cell_type": "code",
   "execution_count": null,
   "id": "feee51ba",
   "metadata": {
    "ExecuteTime": {
     "end_time": "2022-06-06T16:20:26.056076Z",
     "start_time": "2022-06-06T16:20:18.684Z"
    }
   },
   "outputs": [],
   "source": [
    "colnames(x) <- c('Provinsi','x1','x2','x3','x4','x5','x6')\n",
    "x <- arrange(x, Provinsi)\n",
    "x #ekonomi\n",
    "\n",
    "colnames(y) <- c('Provinsi','y1','y2','y3','y4','y5')\n",
    "y <- arrange(y, Provinsi)\n",
    "y #kesehatan"
   ]
  },
  {
   "cell_type": "code",
   "execution_count": null,
   "id": "0725ed28",
   "metadata": {
    "ExecuteTime": {
     "end_time": "2022-06-06T16:20:26.060074Z",
     "start_time": "2022-06-06T16:20:18.687Z"
    }
   },
   "outputs": [],
   "source": [
    "y <- y[,-c(1,5)]\n",
    "\n",
    "x <- x[,-c(1,5)]\n",
    "\n",
    "cat(\"Variabel X \\n\")\n",
    "colnames(x)\n",
    "cat(\"\\n\\nVariabel Y \\n\")\n",
    "colnames(y)\n",
    "\n",
    "#x1 dan y1 adalah variabel lain setelah provinsi\n",
    "colnames(x) <- c('x1','x2','x3','x4','x5')\n",
    "colnames(y) <- c('y1','y2','y3','y4')"
   ]
  },
  {
   "cell_type": "code",
   "execution_count": null,
   "id": "e913f772",
   "metadata": {
    "ExecuteTime": {
     "end_time": "2022-06-06T16:20:26.064079Z",
     "start_time": "2022-06-06T16:20:18.689Z"
    }
   },
   "outputs": [],
   "source": [
    "ggpairs(y)"
   ]
  },
  {
   "cell_type": "markdown",
   "id": "b04a753a",
   "metadata": {},
   "source": [
    "y1 dengan y2 kurang berkorelasi"
   ]
  },
  {
   "cell_type": "code",
   "execution_count": null,
   "id": "8aefd3cf",
   "metadata": {
    "ExecuteTime": {
     "end_time": "2022-06-06T16:20:26.068078Z",
     "start_time": "2022-06-06T16:20:18.691Z"
    }
   },
   "outputs": [],
   "source": [
    "# Membuat Matriks Korelasi tiap variabel\n",
    "matcor(y, x)"
   ]
  },
  {
   "cell_type": "code",
   "execution_count": null,
   "id": "255c1768",
   "metadata": {
    "ExecuteTime": {
     "end_time": "2022-06-06T16:20:26.072104Z",
     "start_time": "2022-06-06T16:20:18.694Z"
    }
   },
   "outputs": [],
   "source": [
    "# canonical correlations\n",
    "cc11.9 <- cc(y, x)\n",
    "cc11.9$cor"
   ]
  },
  {
   "cell_type": "markdown",
   "id": "4550c20b",
   "metadata": {},
   "source": [
    "Nilai kanonikal korelasi dalah 0.5116 dan 0.1880"
   ]
  },
  {
   "cell_type": "code",
   "execution_count": null,
   "id": "9bff3e21",
   "metadata": {
    "ExecuteTime": {
     "end_time": "2022-06-06T16:20:26.077075Z",
     "start_time": "2022-06-06T16:20:18.701Z"
    }
   },
   "outputs": [],
   "source": [
    "# raw canonical coefficients\n",
    "cc11.9[3:4]"
   ]
  },
  {
   "cell_type": "markdown",
   "id": "7763da51",
   "metadata": {},
   "source": [
    "Interpretasi koefisien kanonik mirip dengan interpretasi koefisien regresi. Misalnya, setiap kenaikan 1 unit variabel y1 maka akan membuat kanonikal variat x yang pertama turun sebesar 7.6314120 dengan asumsi variabel lainnya tetap atau konstan. Contoh lain misal, setiap kenaikan 1 unit variabel x1 maka akan membuat kanonikal variat y yang pertama naik sebesar 0.019746114 dengan asumsi variabel lainnya tetap atau konstan."
   ]
  },
  {
   "cell_type": "code",
   "execution_count": null,
   "id": "46ad37a7",
   "metadata": {
    "ExecuteTime": {
     "end_time": "2022-06-06T16:20:26.082114Z",
     "start_time": "2022-06-06T16:20:18.705Z"
    }
   },
   "outputs": [],
   "source": [
    "# compute canonical loadings\n",
    "cc11.9v2 <- comput(y, x, cc11.9)\n",
    "\n",
    "# display canonical loadings\n",
    "cc11.9v2[3:6]"
   ]
  },
  {
   "cell_type": "markdown",
   "id": "ba264ea1",
   "metadata": {},
   "source": [
    "Loading menunjukkan korelasi antara variabel dengan variat nya atau dengan variat set lainnya\n",
    "\n",
    "<br/>Ini jelasinnya gmna ? kayak factoring tapi kok judul sama variabelnya agak aneh ya <br/>"
   ]
  },
  {
   "cell_type": "code",
   "execution_count": null,
   "id": "7de718da",
   "metadata": {
    "ExecuteTime": {
     "end_time": "2022-06-06T16:20:26.086114Z",
     "start_time": "2022-06-06T16:20:18.707Z"
    }
   },
   "outputs": [],
   "source": [
    "# Test berapa variat yang signifikan dengan Uji-uji"
   ]
  },
  {
   "cell_type": "code",
   "execution_count": null,
   "id": "67e739ea",
   "metadata": {
    "ExecuteTime": {
     "end_time": "2022-06-06T16:20:26.091100Z",
     "start_time": "2022-06-06T16:20:18.710Z"
    }
   },
   "outputs": [],
   "source": [
    "# tests of canonical dimensions\n",
    "rho <- cc11.9$cor\n",
    "## Define number of observations, number of variables in first set, and number of variables in the second set.\n",
    "n <- nrow(x)\n",
    "p <- length(y)\n",
    "q <- length(x)"
   ]
  },
  {
   "cell_type": "code",
   "execution_count": null,
   "id": "153542bb",
   "metadata": {
    "ExecuteTime": {
     "end_time": "2022-06-06T16:20:26.097078Z",
     "start_time": "2022-06-06T16:20:18.713Z"
    }
   },
   "outputs": [],
   "source": [
    "## Calculate p-values using the F-approximations of different test statistics:\n",
    "p.asym(rho, n, p, q, tstat = \"Wilks\")"
   ]
  },
  {
   "cell_type": "code",
   "execution_count": null,
   "id": "c270dd4b",
   "metadata": {
    "ExecuteTime": {
     "end_time": "2022-06-06T16:20:26.100075Z",
     "start_time": "2022-06-06T16:20:18.716Z"
    }
   },
   "outputs": [],
   "source": [
    "p.asym(rho, n, p, q, tstat = \"Hotelling\")"
   ]
  },
  {
   "cell_type": "code",
   "execution_count": null,
   "id": "3a751608",
   "metadata": {
    "ExecuteTime": {
     "end_time": "2022-06-06T16:20:26.105072Z",
     "start_time": "2022-06-06T16:20:18.719Z"
    }
   },
   "outputs": [],
   "source": [
    "p.asym(rho, n, p, q, tstat = \"Pillai\")"
   ]
  },
  {
   "cell_type": "code",
   "execution_count": null,
   "id": "51236854",
   "metadata": {
    "ExecuteTime": {
     "end_time": "2022-06-06T16:20:26.108078Z",
     "start_time": "2022-06-06T16:20:18.721Z"
    }
   },
   "outputs": [],
   "source": [
    "p.asym(rho, n, p, q, tstat = \"Roy\")"
   ]
  },
  {
   "cell_type": "markdown",
   "id": "a42041fe",
   "metadata": {},
   "source": [
    "Kebanyakan Tets dengan alpha 10% hanya menyatakan 1 variat yang siginifikan dilihat dari p-value nya\n",
    "Ketika variabel dalam model memiliki standar deviasi yang sangat berbeda, koefisien yang di standarkan memungkinkan perbandingan yang lebih mudah di antara variabel. Maka, kita akan menghitung koefisien kanonik standar sebagai berikut."
   ]
  },
  {
   "cell_type": "code",
   "execution_count": null,
   "id": "56dfb571",
   "metadata": {
    "ExecuteTime": {
     "end_time": "2022-06-06T16:20:26.113080Z",
     "start_time": "2022-06-06T16:20:18.724Z"
    }
   },
   "outputs": [],
   "source": [
    "# standardized psych canonical coefficients diagonal matrix of psych sd's\n",
    "s1 <- diag(sqrt(diag(cov(y))))\n",
    "s1 %*% cc11.9$xcoef"
   ]
  },
  {
   "cell_type": "code",
   "execution_count": null,
   "id": "17e94c8a",
   "metadata": {
    "ExecuteTime": {
     "end_time": "2022-06-06T16:20:26.117075Z",
     "start_time": "2022-06-06T16:20:18.729Z"
    }
   },
   "outputs": [],
   "source": [
    "# standardized acad canonical coefficients diagonal matrix of acad sd's\n",
    "s2 <- diag(sqrt(diag(cov(x))))\n",
    "s2 %*% cc11.9$ycoef"
   ]
  },
  {
   "cell_type": "markdown",
   "id": "e9b23328",
   "metadata": {},
   "source": [
    "Interpretasi sama dengan korelasi sebelumnya"
   ]
  }
 ],
 "metadata": {
  "kernelspec": {
   "display_name": "R",
   "language": "R",
   "name": "ir"
  },
  "language_info": {
   "codemirror_mode": "r",
   "file_extension": ".r",
   "mimetype": "text/x-r-source",
   "name": "R",
   "pygments_lexer": "r",
   "version": "4.0.5"
  },
  "toc": {
   "base_numbering": 1,
   "nav_menu": {},
   "number_sections": true,
   "sideBar": true,
   "skip_h1_title": false,
   "title_cell": "Table of Contents",
   "title_sidebar": "Contents",
   "toc_cell": false,
   "toc_position": {},
   "toc_section_display": true,
   "toc_window_display": false
  }
 },
 "nbformat": 4,
 "nbformat_minor": 5
}
