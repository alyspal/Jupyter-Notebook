{
 "cells": [
  {
   "cell_type": "raw",
   "id": "103ea379",
   "metadata": {
    "ExecuteTime": {
     "start_time": "2022-06-01T04:30:25.301Z"
    }
   },
   "source": [
    "install.packages(\"ggplot2\")"
   ]
  },
  {
   "cell_type": "code",
   "execution_count": null,
   "id": "14904667",
   "metadata": {
    "ExecuteTime": {
     "start_time": "2022-06-01T04:30:25.303Z"
    },
    "scrolled": true
   },
   "outputs": [],
   "source": [
    "library(openxlsx)\n",
    "library(dplyr)\n",
    "library(CCA)\n",
    "library(GGally)"
   ]
  },
  {
   "cell_type": "code",
   "execution_count": null,
   "id": "54a1fee3",
   "metadata": {
    "ExecuteTime": {
     "start_time": "2022-06-01T04:30:25.305Z"
    }
   },
   "outputs": [],
   "source": [
    "x <- read.xlsx(\"x.xlsx\")\n",
    "y <- read.xlsx(\"y.xlsx\")"
   ]
  },
  {
   "cell_type": "code",
   "execution_count": null,
   "id": "7e7552ba",
   "metadata": {
    "ExecuteTime": {
     "start_time": "2022-06-01T04:30:25.308Z"
    }
   },
   "outputs": [],
   "source": [
    "colnames(x) <- c('Provinsi','x1','x2','x3','x4','x5','x6')\n",
    "x <- arrange(x, Provinsi)\n",
    "x #ekonomi\n",
    "\n",
    "colnames(y) <- c('Provinsi','y1','y2','y3','y4','y5')\n",
    "y <- arrange(y, Provinsi)\n",
    "y #kesehatan"
   ]
  },
  {
   "cell_type": "code",
   "execution_count": null,
   "id": "0725ed28",
   "metadata": {
    "ExecuteTime": {
     "start_time": "2022-06-01T04:30:25.310Z"
    }
   },
   "outputs": [],
   "source": [
    "y <- y[,-c(1,5)]\n",
    "\n",
    "x <- x[,-c(1,5)]\n",
    "\n",
    "cat(\"Variabel X \\n\")\n",
    "colnames(x)\n",
    "cat(\"\\n\\nVariabel Y \\n\")\n",
    "colnames(y)\n",
    "\n",
    "#x1 dan y1 adalah variabel lain setelah provinsi\n",
    "colnames(x) <- c('x1','x2','x3','x4','x5')\n",
    "colnames(y) <- c('y1','y2','y3','y4')"
   ]
  },
  {
   "cell_type": "code",
   "execution_count": null,
   "id": "e913f772",
   "metadata": {},
   "outputs": [],
   "source": []
  }
 ],
 "metadata": {
  "kernelspec": {
   "display_name": "R",
   "language": "R",
   "name": "ir"
  },
  "language_info": {
   "codemirror_mode": "r",
   "file_extension": ".r",
   "mimetype": "text/x-r-source",
   "name": "R",
   "pygments_lexer": "r",
   "version": "4.0.5"
  },
  "toc": {
   "base_numbering": 1,
   "nav_menu": {},
   "number_sections": true,
   "sideBar": true,
   "skip_h1_title": false,
   "title_cell": "Table of Contents",
   "title_sidebar": "Contents",
   "toc_cell": false,
   "toc_position": {},
   "toc_section_display": true,
   "toc_window_display": false
  }
 },
 "nbformat": 4,
 "nbformat_minor": 5
}
