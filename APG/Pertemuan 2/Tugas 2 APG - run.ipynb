{
 "cells": [
  {
   "cell_type": "markdown",
   "metadata": {
    "id": "6I99wkl_DZQJ"
   },
   "source": [
    "# Dataset"
   ]
  },
  {
   "cell_type": "code",
   "execution_count": 1,
   "metadata": {
    "ExecuteTime": {
     "end_time": "2022-02-28T12:53:46.951827Z",
     "start_time": "2022-02-28T12:53:46.890Z"
    },
    "id": "XDZGjiHwIUDf"
   },
   "outputs": [
    {
     "name": "stderr",
     "output_type": "stream",
     "text": [
      "Warning message:\n",
      "\"package 'readxl' was built under R version 3.6.3\""
     ]
    }
   ],
   "source": [
    "library(readxl)"
   ]
  },
  {
   "cell_type": "code",
   "execution_count": 2,
   "metadata": {
    "ExecuteTime": {
     "end_time": "2022-02-28T12:53:47.036792Z",
     "start_time": "2022-02-28T12:53:46.891Z"
    },
    "id": "MyUAANl33Idl"
   },
   "outputs": [],
   "source": [
    "#url<-\"https://raw.githubusercontent.com/rii92/tugas-APG/main/28%20februari%202022/tugas%20kedua%20APG.csv\"\n",
    "#data <- read.csv(url, sep=\",\")\n",
    "#data"
   ]
  },
  {
   "cell_type": "code",
   "execution_count": 3,
   "metadata": {
    "ExecuteTime": {
     "end_time": "2022-02-28T12:53:47.072791Z",
     "start_time": "2022-02-28T12:53:46.893Z"
    },
    "colab": {
     "base_uri": "https://localhost:8080/",
     "height": 255
    },
    "id": "gAtLM-SgI9oe",
    "outputId": "2476960f-b084-4b16-9cf8-524517ae22bc"
   },
   "outputs": [
    {
     "data": {
      "text/html": [
       "<table>\n",
       "<thead><tr><th scope=col>X1</th><th scope=col>X2</th><th scope=col>X3</th></tr></thead>\n",
       "<tbody>\n",
       "\t<tr><td>9 </td><td>12</td><td>3 </td></tr>\n",
       "\t<tr><td>2 </td><td> 8</td><td>4 </td></tr>\n",
       "\t<tr><td>6 </td><td> 6</td><td>0 </td></tr>\n",
       "\t<tr><td>5 </td><td> 4</td><td>2 </td></tr>\n",
       "\t<tr><td>8 </td><td>10</td><td>1 </td></tr>\n",
       "</tbody>\n",
       "</table>\n"
      ],
      "text/latex": [
       "\\begin{tabular}{r|lll}\n",
       " X1 & X2 & X3\\\\\n",
       "\\hline\n",
       "\t 9  & 12 & 3 \\\\\n",
       "\t 2  &  8 & 4 \\\\\n",
       "\t 6  &  6 & 0 \\\\\n",
       "\t 5  &  4 & 2 \\\\\n",
       "\t 8  & 10 & 1 \\\\\n",
       "\\end{tabular}\n"
      ],
      "text/markdown": [
       "\n",
       "| X1 | X2 | X3 |\n",
       "|---|---|---|\n",
       "| 9  | 12 | 3  |\n",
       "| 2  |  8 | 4  |\n",
       "| 6  |  6 | 0  |\n",
       "| 5  |  4 | 2  |\n",
       "| 8  | 10 | 1  |\n",
       "\n"
      ],
      "text/plain": [
       "  X1 X2 X3\n",
       "1 9  12 3 \n",
       "2 2   8 4 \n",
       "3 6   6 0 \n",
       "4 5   4 2 \n",
       "5 8  10 1 "
      ]
     },
     "metadata": {},
     "output_type": "display_data"
    }
   ],
   "source": [
    "data<-matrix(c(9,2,6,5,8,12,8,6,4,10,3,4,0,2,1),5,3)\n",
    "data<-data.frame(data)\n",
    "data"
   ]
  },
  {
   "cell_type": "markdown",
   "metadata": {
    "id": "BR9fKL0FIUDm"
   },
   "source": [
    "# Matriks S"
   ]
  },
  {
   "cell_type": "markdown",
   "metadata": {
    "id": "0oj-bVwrIUDn"
   },
   "source": [
    "## Menggunakan Function"
   ]
  },
  {
   "cell_type": "markdown",
   "metadata": {
    "heading_collapsed": true,
    "id": "UJnh8Mb_5tZk"
   },
   "source": [
    "### Matriks corelation and covariants"
   ]
  },
  {
   "cell_type": "code",
   "execution_count": 4,
   "metadata": {
    "ExecuteTime": {
     "end_time": "2022-02-28T12:53:47.107790Z",
     "start_time": "2022-02-28T12:53:46.895Z"
    },
    "colab": {
     "base_uri": "https://localhost:8080/",
     "height": 161
    },
    "hidden": true,
    "id": "KJT7oepy4knu",
    "outputId": "c6ac0a76-7540-4f9c-b71d-789bac2157de"
   },
   "outputs": [
    {
     "data": {
      "text/html": [
       "<table>\n",
       "<thead><tr><th></th><th scope=col>X1</th><th scope=col>X2</th><th scope=col>X3</th></tr></thead>\n",
       "<tbody>\n",
       "\t<tr><th scope=row>X1</th><td> 7.50</td><td> 5.0 </td><td>-1.75</td></tr>\n",
       "\t<tr><th scope=row>X2</th><td> 5.00</td><td>10.0 </td><td> 1.50</td></tr>\n",
       "\t<tr><th scope=row>X3</th><td>-1.75</td><td> 1.5 </td><td> 2.50</td></tr>\n",
       "</tbody>\n",
       "</table>\n"
      ],
      "text/latex": [
       "\\begin{tabular}{r|lll}\n",
       "  & X1 & X2 & X3\\\\\n",
       "\\hline\n",
       "\tX1 &  7.50 &  5.0  & -1.75\\\\\n",
       "\tX2 &  5.00 & 10.0  &  1.50\\\\\n",
       "\tX3 & -1.75 &  1.5  &  2.50\\\\\n",
       "\\end{tabular}\n"
      ],
      "text/markdown": [
       "\n",
       "| <!--/--> | X1 | X2 | X3 |\n",
       "|---|---|---|---|\n",
       "| X1 |  7.50 |  5.0  | -1.75 |\n",
       "| X2 |  5.00 | 10.0  |  1.50 |\n",
       "| X3 | -1.75 |  1.5  |  2.50 |\n",
       "\n"
      ],
      "text/plain": [
       "   X1    X2   X3   \n",
       "X1  7.50  5.0 -1.75\n",
       "X2  5.00 10.0  1.50\n",
       "X3 -1.75  1.5  2.50"
      ]
     },
     "metadata": {},
     "output_type": "display_data"
    }
   ],
   "source": [
    "sn = cov(data)\n",
    "sn"
   ]
  },
  {
   "cell_type": "markdown",
   "metadata": {
    "id": "U60O8q3f50vz"
   },
   "source": [
    "### Eigen value and eigen vector"
   ]
  },
  {
   "cell_type": "code",
   "execution_count": 5,
   "metadata": {
    "ExecuteTime": {
     "end_time": "2022-02-28T12:53:47.141794Z",
     "start_time": "2022-02-28T12:53:46.896Z"
    },
    "colab": {
     "base_uri": "https://localhost:8080/",
     "height": 173
    },
    "id": "8XbRtnv559sU",
    "outputId": "2f585e99-2fcc-4e74-b781-e12fc8dfb16c"
   },
   "outputs": [
    {
     "data": {
      "text/plain": [
       "eigen() decomposition\n",
       "$values\n",
       "[1] 13.9049009  5.4143634  0.6807358\n",
       "\n",
       "$vectors\n",
       "             [,1]       [,2]       [,3]\n",
       "[1,] -0.613679310  0.6232975  0.4846627\n",
       "[2,] -0.789496144 -0.4769002 -0.3863444\n",
       "[3,] -0.009671757 -0.6197309  0.7847548\n"
      ]
     },
     "metadata": {},
     "output_type": "display_data"
    }
   ],
   "source": [
    "eigen(sn)"
   ]
  },
  {
   "cell_type": "markdown",
   "metadata": {
    "id": "Hg_4-Z4RIUDs"
   },
   "source": [
    "## Syntax Manual"
   ]
  },
  {
   "cell_type": "markdown",
   "metadata": {
    "id": "R13tzfbqIUDt"
   },
   "source": [
    "### Covarians Matrix"
   ]
  },
  {
   "cell_type": "code",
   "execution_count": 6,
   "metadata": {
    "ExecuteTime": {
     "end_time": "2022-02-28T12:53:47.173796Z",
     "start_time": "2022-02-28T12:53:46.898Z"
    },
    "colab": {
     "base_uri": "https://localhost:8080/"
    },
    "id": "rT7Ar1KWIUDt",
    "outputId": "c4e95cc4-bbd4-41fd-d5f5-beb8354c033d"
   },
   "outputs": [],
   "source": [
    "xbar1 = mean(data$X1)\n",
    "xbar2 = mean(data$X2)\n",
    "xbar3 = mean(data$X3)"
   ]
  },
  {
   "cell_type": "code",
   "execution_count": 7,
   "metadata": {
    "ExecuteTime": {
     "end_time": "2022-02-28T12:53:47.235792Z",
     "start_time": "2022-02-28T12:53:46.900Z"
    },
    "colab": {
     "base_uri": "https://localhost:8080/",
     "height": 198
    },
    "id": "ULHHpMLvIUDu",
    "outputId": "4f14eecd-e9df-4857-db7b-631ea4560e26"
   },
   "outputs": [
    {
     "data": {
      "text/html": [
       "<table>\n",
       "<tbody>\n",
       "\t<tr><td> 7.50</td></tr>\n",
       "\t<tr><td> 5.00</td></tr>\n",
       "\t<tr><td>-1.75</td></tr>\n",
       "</tbody>\n",
       "</table>\n"
      ],
      "text/latex": [
       "\\begin{tabular}{l}\n",
       "\t  7.50\\\\\n",
       "\t  5.00\\\\\n",
       "\t -1.75\\\\\n",
       "\\end{tabular}\n"
      ],
      "text/markdown": [
       "\n",
       "|  7.50 |\n",
       "|  5.00 |\n",
       "| -1.75 |\n",
       "\n"
      ],
      "text/plain": [
       "     [,1] \n",
       "[1,]  7.50\n",
       "[2,]  5.00\n",
       "[3,] -1.75"
      ]
     },
     "metadata": {},
     "output_type": "display_data"
    }
   ],
   "source": [
    "x = 0\n",
    "y = 0\n",
    "z = 0\n",
    "for (i in 1:5) {\n",
    "    x = (data[i,1]-xbar1)^2 + x\n",
    "    y = (data[i,1]-xbar1)*(data[i,2]-xbar2) + y\n",
    "    z = (data[i,1]-xbar1)*(data[i,3]-xbar3) + z\n",
    "}\n",
    "s11 = x/4\n",
    "s12 = y/4\n",
    "s13 = z/4\n",
    "s1 <- matrix(c(s11, s12, s13))\n",
    "s1"
   ]
  },
  {
   "cell_type": "code",
   "execution_count": 8,
   "metadata": {
    "ExecuteTime": {
     "end_time": "2022-02-28T12:53:47.292794Z",
     "start_time": "2022-02-28T12:53:46.902Z"
    },
    "colab": {
     "base_uri": "https://localhost:8080/",
     "height": 198
    },
    "id": "x5N7-Q3qIUDv",
    "outputId": "5df235af-1a67-44e2-813b-fc8510b3a519"
   },
   "outputs": [
    {
     "data": {
      "text/html": [
       "<table>\n",
       "<tbody>\n",
       "\t<tr><td> 5.0</td></tr>\n",
       "\t<tr><td>10.0</td></tr>\n",
       "\t<tr><td> 1.5</td></tr>\n",
       "</tbody>\n",
       "</table>\n"
      ],
      "text/latex": [
       "\\begin{tabular}{l}\n",
       "\t  5.0\\\\\n",
       "\t 10.0\\\\\n",
       "\t  1.5\\\\\n",
       "\\end{tabular}\n"
      ],
      "text/markdown": [
       "\n",
       "|  5.0 |\n",
       "| 10.0 |\n",
       "|  1.5 |\n",
       "\n"
      ],
      "text/plain": [
       "     [,1]\n",
       "[1,]  5.0\n",
       "[2,] 10.0\n",
       "[3,]  1.5"
      ]
     },
     "metadata": {},
     "output_type": "display_data"
    }
   ],
   "source": [
    "x = 0\n",
    "y = 0\n",
    "z = 0\n",
    "for (i in 1:5) {\n",
    "    x = (data[i,2]-xbar2)*(data[i,1]-xbar1) + x\n",
    "    y = (data[i,2]-xbar2)^2 + y\n",
    "    z = (data[i,2]-xbar2)*(data[i,3]-xbar3) + z\n",
    "}\n",
    "s21 = x/4\n",
    "s22 = y/4\n",
    "s23 = z/4\n",
    "s2 <- matrix(c(s21, s22, s23))\n",
    "s2"
   ]
  },
  {
   "cell_type": "code",
   "execution_count": 9,
   "metadata": {
    "ExecuteTime": {
     "end_time": "2022-02-28T12:53:47.347790Z",
     "start_time": "2022-02-28T12:53:46.904Z"
    },
    "colab": {
     "base_uri": "https://localhost:8080/",
     "height": 198
    },
    "id": "OlCMtgcNIUDv",
    "outputId": "921cbe26-bcbf-416e-cd3d-fae96db2a2c5"
   },
   "outputs": [
    {
     "data": {
      "text/html": [
       "<table>\n",
       "<tbody>\n",
       "\t<tr><td>-1.75</td></tr>\n",
       "\t<tr><td> 1.50</td></tr>\n",
       "\t<tr><td> 2.50</td></tr>\n",
       "</tbody>\n",
       "</table>\n"
      ],
      "text/latex": [
       "\\begin{tabular}{l}\n",
       "\t -1.75\\\\\n",
       "\t  1.50\\\\\n",
       "\t  2.50\\\\\n",
       "\\end{tabular}\n"
      ],
      "text/markdown": [
       "\n",
       "| -1.75 |\n",
       "|  1.50 |\n",
       "|  2.50 |\n",
       "\n"
      ],
      "text/plain": [
       "     [,1] \n",
       "[1,] -1.75\n",
       "[2,]  1.50\n",
       "[3,]  2.50"
      ]
     },
     "metadata": {},
     "output_type": "display_data"
    }
   ],
   "source": [
    "x = 0\n",
    "y = 0\n",
    "z = 0\n",
    "for (i in 1:5) {\n",
    "    x = (data[i,3]-xbar3)*(data[i,1]-xbar1) + x\n",
    "    y = (data[i,3]-xbar3)*(data[i,2]-xbar2) + y\n",
    "    z = (data[i,3]-xbar3)^2 + z\n",
    "}\n",
    "s31 = x/4\n",
    "s32 = y/4\n",
    "s33 = z/4\n",
    "s3 <- matrix(c(s31, s32, s33))\n",
    "s3"
   ]
  },
  {
   "cell_type": "code",
   "execution_count": 10,
   "metadata": {
    "ExecuteTime": {
     "end_time": "2022-02-28T12:53:47.381790Z",
     "start_time": "2022-02-28T12:53:46.906Z"
    },
    "colab": {
     "base_uri": "https://localhost:8080/",
     "height": 146
    },
    "id": "8r3bdnwkIUDw",
    "outputId": "86e1babf-201f-4bd1-aaac-7093e6702984",
    "scrolled": true
   },
   "outputs": [
    {
     "data": {
      "text/html": [
       "<table>\n",
       "<tbody>\n",
       "\t<tr><td> 7.50</td><td> 5.0 </td><td>-1.75</td></tr>\n",
       "\t<tr><td> 5.00</td><td>10.0 </td><td> 1.50</td></tr>\n",
       "\t<tr><td>-1.75</td><td> 1.5 </td><td> 2.50</td></tr>\n",
       "</tbody>\n",
       "</table>\n"
      ],
      "text/latex": [
       "\\begin{tabular}{lll}\n",
       "\t  7.50 &  5.0  & -1.75\\\\\n",
       "\t  5.00 & 10.0  &  1.50\\\\\n",
       "\t -1.75 &  1.5  &  2.50\\\\\n",
       "\\end{tabular}\n"
      ],
      "text/markdown": [
       "\n",
       "|  7.50 |  5.0  | -1.75 |\n",
       "|  5.00 | 10.0  |  1.50 |\n",
       "| -1.75 |  1.5  |  2.50 |\n",
       "\n"
      ],
      "text/plain": [
       "     [,1]  [,2] [,3] \n",
       "[1,]  7.50  5.0 -1.75\n",
       "[2,]  5.00 10.0  1.50\n",
       "[3,] -1.75  1.5  2.50"
      ]
     },
     "metadata": {},
     "output_type": "display_data"
    }
   ],
   "source": [
    "sn <- matrix(c(s1, s2, s3), 3, 3)\n",
    "data.matrix(sn)"
   ]
  },
  {
   "cell_type": "markdown",
   "metadata": {
    "id": "ticBOjn2IUDw"
   },
   "source": [
    "### Correlation Matrix"
   ]
  },
  {
   "cell_type": "code",
   "execution_count": 11,
   "metadata": {
    "ExecuteTime": {
     "end_time": "2022-02-28T12:53:47.421799Z",
     "start_time": "2022-02-28T12:53:46.908Z"
    },
    "colab": {
     "base_uri": "https://localhost:8080/",
     "height": 146
    },
    "id": "gUuehr9sIUDx",
    "outputId": "70d886ac-9925-4185-94b5-bbbe5cd3246a"
   },
   "outputs": [
    {
     "data": {
      "text/html": [
       "<table>\n",
       "<tbody>\n",
       "\t<tr><td>0.3651484</td><td>0.0000000</td><td>0.0000000</td></tr>\n",
       "\t<tr><td>0.0000000</td><td>0.3162278</td><td>0.0000000</td></tr>\n",
       "\t<tr><td>0.0000000</td><td>0.0000000</td><td>0.6324555</td></tr>\n",
       "</tbody>\n",
       "</table>\n"
      ],
      "text/latex": [
       "\\begin{tabular}{lll}\n",
       "\t 0.3651484 & 0.0000000 & 0.0000000\\\\\n",
       "\t 0.0000000 & 0.3162278 & 0.0000000\\\\\n",
       "\t 0.0000000 & 0.0000000 & 0.6324555\\\\\n",
       "\\end{tabular}\n"
      ],
      "text/markdown": [
       "\n",
       "| 0.3651484 | 0.0000000 | 0.0000000 |\n",
       "| 0.0000000 | 0.3162278 | 0.0000000 |\n",
       "| 0.0000000 | 0.0000000 | 0.6324555 |\n",
       "\n"
      ],
      "text/plain": [
       "     [,1]      [,2]      [,3]     \n",
       "[1,] 0.3651484 0.0000000 0.0000000\n",
       "[2,] 0.0000000 0.3162278 0.0000000\n",
       "[3,] 0.0000000 0.0000000 0.6324555"
      ]
     },
     "metadata": {},
     "output_type": "display_data"
    }
   ],
   "source": [
    "#mencari D^(-0.5)\n",
    "matrixDiagonal<-matrix(c(s11^(-0.5),0,0,0,s22^(-0.5),0,0,0,s33^(-0.5)),3,3)\n",
    "matrixDiagonal"
   ]
  },
  {
   "cell_type": "code",
   "execution_count": 12,
   "metadata": {
    "ExecuteTime": {
     "end_time": "2022-02-28T12:53:47.461793Z",
     "start_time": "2022-02-28T12:53:46.910Z"
    },
    "colab": {
     "base_uri": "https://localhost:8080/",
     "height": 146
    },
    "id": "_TQxpWthIUDx",
    "outputId": "b38087af-fdea-46f9-fb3e-25a541f2c86a"
   },
   "outputs": [
    {
     "data": {
      "text/html": [
       "<table>\n",
       "<tbody>\n",
       "\t<tr><td> 1.0000000</td><td>0.5773503 </td><td>-0.4041452</td></tr>\n",
       "\t<tr><td> 0.5773503</td><td>1.0000000 </td><td> 0.3000000</td></tr>\n",
       "\t<tr><td>-0.4041452</td><td>0.3000000 </td><td> 1.0000000</td></tr>\n",
       "</tbody>\n",
       "</table>\n"
      ],
      "text/latex": [
       "\\begin{tabular}{lll}\n",
       "\t  1.0000000 & 0.5773503  & -0.4041452\\\\\n",
       "\t  0.5773503 & 1.0000000  &  0.3000000\\\\\n",
       "\t -0.4041452 & 0.3000000  &  1.0000000\\\\\n",
       "\\end{tabular}\n"
      ],
      "text/markdown": [
       "\n",
       "|  1.0000000 | 0.5773503  | -0.4041452 |\n",
       "|  0.5773503 | 1.0000000  |  0.3000000 |\n",
       "| -0.4041452 | 0.3000000  |  1.0000000 |\n",
       "\n"
      ],
      "text/plain": [
       "     [,1]       [,2]      [,3]      \n",
       "[1,]  1.0000000 0.5773503 -0.4041452\n",
       "[2,]  0.5773503 1.0000000  0.3000000\n",
       "[3,] -0.4041452 0.3000000  1.0000000"
      ]
     },
     "metadata": {},
     "output_type": "display_data"
    }
   ],
   "source": [
    "#matrix Correlation\n",
    "mc <- matrixDiagonal%*%sn%*%matrixDiagonal\n",
    "mc"
   ]
  },
  {
   "cell_type": "markdown",
   "metadata": {
    "id": "dBdqA2LbIUDy"
   },
   "source": [
    "# Matriks R"
   ]
  },
  {
   "cell_type": "markdown",
   "metadata": {
    "id": "doKDm37PIUDy"
   },
   "source": [
    "## Matriks corelation and covariants"
   ]
  },
  {
   "cell_type": "code",
   "execution_count": 13,
   "metadata": {
    "ExecuteTime": {
     "end_time": "2022-02-28T12:53:47.504790Z",
     "start_time": "2022-02-28T12:53:46.913Z"
    },
    "colab": {
     "base_uri": "https://localhost:8080/",
     "height": 161
    },
    "id": "EH7asHrs4xg7",
    "outputId": "1d817a60-b7dc-4f8f-e724-b7d860ef4a65"
   },
   "outputs": [
    {
     "data": {
      "text/html": [
       "<table>\n",
       "<thead><tr><th></th><th scope=col>X1</th><th scope=col>X2</th><th scope=col>X3</th></tr></thead>\n",
       "<tbody>\n",
       "\t<tr><th scope=row>X1</th><td> 1.0000000</td><td>0.5773503 </td><td>-0.4041452</td></tr>\n",
       "\t<tr><th scope=row>X2</th><td> 0.5773503</td><td>1.0000000 </td><td> 0.3000000</td></tr>\n",
       "\t<tr><th scope=row>X3</th><td>-0.4041452</td><td>0.3000000 </td><td> 1.0000000</td></tr>\n",
       "</tbody>\n",
       "</table>\n"
      ],
      "text/latex": [
       "\\begin{tabular}{r|lll}\n",
       "  & X1 & X2 & X3\\\\\n",
       "\\hline\n",
       "\tX1 &  1.0000000 & 0.5773503  & -0.4041452\\\\\n",
       "\tX2 &  0.5773503 & 1.0000000  &  0.3000000\\\\\n",
       "\tX3 & -0.4041452 & 0.3000000  &  1.0000000\\\\\n",
       "\\end{tabular}\n"
      ],
      "text/markdown": [
       "\n",
       "| <!--/--> | X1 | X2 | X3 |\n",
       "|---|---|---|---|\n",
       "| X1 |  1.0000000 | 0.5773503  | -0.4041452 |\n",
       "| X2 |  0.5773503 | 1.0000000  |  0.3000000 |\n",
       "| X3 | -0.4041452 | 0.3000000  |  1.0000000 |\n",
       "\n"
      ],
      "text/plain": [
       "   X1         X2        X3        \n",
       "X1  1.0000000 0.5773503 -0.4041452\n",
       "X2  0.5773503 1.0000000  0.3000000\n",
       "X3 -0.4041452 0.3000000  1.0000000"
      ]
     },
     "metadata": {},
     "output_type": "display_data"
    }
   ],
   "source": [
    "r = cor(data)\n",
    "r"
   ]
  },
  {
   "cell_type": "markdown",
   "metadata": {
    "id": "pEi7xw9ZIUDz"
   },
   "source": [
    "## Eigen value and eigen vector"
   ]
  },
  {
   "cell_type": "code",
   "execution_count": 14,
   "metadata": {
    "ExecuteTime": {
     "end_time": "2022-02-28T12:53:47.536790Z",
     "start_time": "2022-02-28T12:53:46.915Z"
    },
    "colab": {
     "base_uri": "https://localhost:8080/",
     "height": 173
    },
    "id": "zgB_S9f7IUDz",
    "outputId": "35f5e2cf-56f4-4049-be1a-43838437e4d5"
   },
   "outputs": [
    {
     "data": {
      "text/plain": [
       "eigen() decomposition\n",
       "$values\n",
       "[1] 1.591638 1.273514 0.134848\n",
       "\n",
       "$vectors\n",
       "           [,1]       [,2]       [,3]\n",
       "[1,]  0.7490653 -0.2047782  0.6300533\n",
       "[2,]  0.6347139  0.4943479 -0.5939347\n",
       "[3,] -0.1898407  0.8447994  0.5002744\n"
      ]
     },
     "metadata": {},
     "output_type": "display_data"
    }
   ],
   "source": [
    "eigen(r)"
   ]
  },
  {
   "cell_type": "code",
   "execution_count": null,
   "metadata": {
    "id": "8x7VfUOvIUD0"
   },
   "outputs": [],
   "source": []
  }
 ],
 "metadata": {
  "colab": {
   "collapsed_sections": [],
   "name": "Tugas 2 APG.ipynb",
   "provenance": []
  },
  "kernelspec": {
   "display_name": "R",
   "language": "R",
   "name": "ir"
  },
  "language_info": {
   "codemirror_mode": "r",
   "file_extension": ".r",
   "mimetype": "text/x-r-source",
   "name": "R",
   "pygments_lexer": "r",
   "version": "3.6.1"
  },
  "toc": {
   "base_numbering": 1,
   "nav_menu": {},
   "number_sections": true,
   "sideBar": true,
   "skip_h1_title": false,
   "title_cell": "Table of Contents",
   "title_sidebar": "Contents",
   "toc_cell": false,
   "toc_position": {},
   "toc_section_display": true,
   "toc_window_display": false
  }
 },
 "nbformat": 4,
 "nbformat_minor": 1
}
