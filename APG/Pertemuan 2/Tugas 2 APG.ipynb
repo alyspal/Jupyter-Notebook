{
 "cells": [
  {
   "cell_type": "markdown",
   "metadata": {
    "heading_collapsed": true,
    "id": "6I99wkl_DZQJ"
   },
   "source": [
    "# Dataset"
   ]
  },
  {
   "cell_type": "code",
   "execution_count": 1,
   "metadata": {
    "ExecuteTime": {
     "end_time": "2022-02-28T11:20:05.944009Z",
     "start_time": "2022-02-28T11:20:05.773Z"
    },
    "hidden": true
   },
   "outputs": [
    {
     "name": "stderr",
     "output_type": "stream",
     "text": [
      "Warning message:\n",
      "\"package 'readxl' was built under R version 3.6.3\""
     ]
    }
   ],
   "source": [
    "library(readxl)"
   ]
  },
  {
   "cell_type": "code",
   "execution_count": 2,
   "metadata": {
    "ExecuteTime": {
     "end_time": "2022-02-28T11:20:06.797813Z",
     "start_time": "2022-02-28T11:20:05.776Z"
    },
    "colab": {
     "base_uri": "https://localhost:8080/",
     "height": 255
    },
    "hidden": true,
    "id": "MyUAANl33Idl",
    "outputId": "3b310bab-e95e-49ab-e816-9a6bb1041dde"
   },
   "outputs": [
    {
     "data": {
      "text/html": [
       "<table>\n",
       "<thead><tr><th scope=col>x1</th><th scope=col>x2</th><th scope=col>x3</th></tr></thead>\n",
       "<tbody>\n",
       "\t<tr><td>9 </td><td>12</td><td>3 </td></tr>\n",
       "\t<tr><td>2 </td><td> 8</td><td>4 </td></tr>\n",
       "\t<tr><td>6 </td><td> 6</td><td>0 </td></tr>\n",
       "\t<tr><td>5 </td><td> 4</td><td>2 </td></tr>\n",
       "\t<tr><td>8 </td><td>10</td><td>1 </td></tr>\n",
       "</tbody>\n",
       "</table>\n"
      ],
      "text/latex": [
       "\\begin{tabular}{r|lll}\n",
       " x1 & x2 & x3\\\\\n",
       "\\hline\n",
       "\t 9  & 12 & 3 \\\\\n",
       "\t 2  &  8 & 4 \\\\\n",
       "\t 6  &  6 & 0 \\\\\n",
       "\t 5  &  4 & 2 \\\\\n",
       "\t 8  & 10 & 1 \\\\\n",
       "\\end{tabular}\n"
      ],
      "text/markdown": [
       "\n",
       "| x1 | x2 | x3 |\n",
       "|---|---|---|\n",
       "| 9  | 12 | 3  |\n",
       "| 2  |  8 | 4  |\n",
       "| 6  |  6 | 0  |\n",
       "| 5  |  4 | 2  |\n",
       "| 8  | 10 | 1  |\n",
       "\n"
      ],
      "text/plain": [
       "  x1 x2 x3\n",
       "1 9  12 3 \n",
       "2 2   8 4 \n",
       "3 6   6 0 \n",
       "4 5   4 2 \n",
       "5 8  10 1 "
      ]
     },
     "metadata": {},
     "output_type": "display_data"
    }
   ],
   "source": [
    "data <- read_excel(\"Tugas2_APG.xlsx\")\n",
    "data"
   ]
  },
  {
   "cell_type": "markdown",
   "metadata": {},
   "source": [
    "# Matriks S"
   ]
  },
  {
   "cell_type": "markdown",
   "metadata": {
    "heading_collapsed": true
   },
   "source": [
    "## Menggunakan Function"
   ]
  },
  {
   "cell_type": "markdown",
   "metadata": {
    "heading_collapsed": true,
    "hidden": true,
    "id": "UJnh8Mb_5tZk"
   },
   "source": [
    "### Matriks covariants"
   ]
  },
  {
   "cell_type": "code",
   "execution_count": 3,
   "metadata": {
    "ExecuteTime": {
     "end_time": "2022-02-28T11:20:06.840202Z",
     "start_time": "2022-02-28T11:20:05.780Z"
    },
    "colab": {
     "base_uri": "https://localhost:8080/",
     "height": 161
    },
    "hidden": true,
    "id": "KJT7oepy4knu",
    "outputId": "dd03c590-0039-4652-ec9a-bfc44ccdc667"
   },
   "outputs": [
    {
     "data": {
      "text/html": [
       "<table>\n",
       "<thead><tr><th></th><th scope=col>x1</th><th scope=col>x2</th><th scope=col>x3</th></tr></thead>\n",
       "<tbody>\n",
       "\t<tr><th scope=row>x1</th><td> 7.50</td><td> 5.0 </td><td>-1.75</td></tr>\n",
       "\t<tr><th scope=row>x2</th><td> 5.00</td><td>10.0 </td><td> 1.50</td></tr>\n",
       "\t<tr><th scope=row>x3</th><td>-1.75</td><td> 1.5 </td><td> 2.50</td></tr>\n",
       "</tbody>\n",
       "</table>\n"
      ],
      "text/latex": [
       "\\begin{tabular}{r|lll}\n",
       "  & x1 & x2 & x3\\\\\n",
       "\\hline\n",
       "\tx1 &  7.50 &  5.0  & -1.75\\\\\n",
       "\tx2 &  5.00 & 10.0  &  1.50\\\\\n",
       "\tx3 & -1.75 &  1.5  &  2.50\\\\\n",
       "\\end{tabular}\n"
      ],
      "text/markdown": [
       "\n",
       "| <!--/--> | x1 | x2 | x3 |\n",
       "|---|---|---|---|\n",
       "| x1 |  7.50 |  5.0  | -1.75 |\n",
       "| x2 |  5.00 | 10.0  |  1.50 |\n",
       "| x3 | -1.75 |  1.5  |  2.50 |\n",
       "\n"
      ],
      "text/plain": [
       "   x1    x2   x3   \n",
       "x1  7.50  5.0 -1.75\n",
       "x2  5.00 10.0  1.50\n",
       "x3 -1.75  1.5  2.50"
      ]
     },
     "metadata": {},
     "output_type": "display_data"
    }
   ],
   "source": [
    "sn = cov(data)\n",
    "sn"
   ]
  },
  {
   "cell_type": "markdown",
   "metadata": {
    "heading_collapsed": true,
    "hidden": true,
    "id": "U60O8q3f50vz"
   },
   "source": [
    "### Eigen value and eigen vector"
   ]
  },
  {
   "cell_type": "code",
   "execution_count": 4,
   "metadata": {
    "ExecuteTime": {
     "end_time": "2022-02-28T11:20:06.888176Z",
     "start_time": "2022-02-28T11:20:05.782Z"
    },
    "colab": {
     "base_uri": "https://localhost:8080/",
     "height": 173
    },
    "hidden": true,
    "id": "8XbRtnv559sU",
    "outputId": "86cc4825-9d36-473d-a798-9f80ae615ad8"
   },
   "outputs": [
    {
     "data": {
      "text/plain": [
       "eigen() decomposition\n",
       "$values\n",
       "[1] 13.9049009  5.4143634  0.6807358\n",
       "\n",
       "$vectors\n",
       "             [,1]       [,2]       [,3]\n",
       "[1,] -0.613679310  0.6232975  0.4846627\n",
       "[2,] -0.789496144 -0.4769002 -0.3863444\n",
       "[3,] -0.009671757 -0.6197309  0.7847548\n"
      ]
     },
     "metadata": {},
     "output_type": "display_data"
    }
   ],
   "source": [
    "eigen(sn)"
   ]
  },
  {
   "cell_type": "markdown",
   "metadata": {},
   "source": [
    "## Syntax Manual"
   ]
  },
  {
   "cell_type": "markdown",
   "metadata": {},
   "source": [
    "### Covarians Matrix"
   ]
  },
  {
   "cell_type": "code",
   "execution_count": 5,
   "metadata": {
    "ExecuteTime": {
     "end_time": "2022-02-28T11:20:06.914175Z",
     "start_time": "2022-02-28T11:20:05.824Z"
    }
   },
   "outputs": [],
   "source": [
    "xbar1 = mean(data$x1)\n",
    "xbar2 = mean(data$x2)\n",
    "xbar3 = mean(data$x3)"
   ]
  },
  {
   "cell_type": "code",
   "execution_count": 6,
   "metadata": {
    "ExecuteTime": {
     "end_time": "2022-02-28T11:20:06.972202Z",
     "start_time": "2022-02-28T11:20:05.827Z"
    }
   },
   "outputs": [
    {
     "data": {
      "text/html": [
       "<table>\n",
       "<tbody>\n",
       "\t<tr><td>7.5</td></tr>\n",
       "\t<tr><td>5</td></tr>\n",
       "\t<tr><td>-1.75</td></tr>\n",
       "</tbody>\n",
       "</table>\n"
      ],
      "text/latex": [
       "\\begin{tabular}{l}\n",
       "\t 7.5\\\\\n",
       "\t 5\\\\\n",
       "\t -1.75\\\\\n",
       "\\end{tabular}\n"
      ],
      "text/markdown": [
       "\n",
       "| 7.5 |\n",
       "| 5 |\n",
       "| -1.75 |\n",
       "\n"
      ],
      "text/plain": [
       "     [,1] \n",
       "[1,] 7.5  \n",
       "[2,] 5    \n",
       "[3,] -1.75"
      ]
     },
     "metadata": {},
     "output_type": "display_data"
    }
   ],
   "source": [
    "x = 0\n",
    "y = 0\n",
    "z = 0\n",
    "for (i in 1:5) {\n",
    "    x = (data[i,1]-xbar1)^2 + x\n",
    "    y = (data[i,1]-xbar1)*(data[i,2]-xbar2) + y\n",
    "    z = (data[i,1]-xbar1)*(data[i,3]-xbar3) + z\n",
    "}\n",
    "s11 = x/4\n",
    "s12 = y/4\n",
    "s13 = z/4\n",
    "s1 <- matrix(c(s11, s12, s13))\n",
    "s1"
   ]
  },
  {
   "cell_type": "code",
   "execution_count": 7,
   "metadata": {
    "ExecuteTime": {
     "end_time": "2022-02-28T11:20:07.030194Z",
     "start_time": "2022-02-28T11:20:05.829Z"
    }
   },
   "outputs": [
    {
     "data": {
      "text/html": [
       "<table>\n",
       "<tbody>\n",
       "\t<tr><td>5</td></tr>\n",
       "\t<tr><td>10</td></tr>\n",
       "\t<tr><td>1.5</td></tr>\n",
       "</tbody>\n",
       "</table>\n"
      ],
      "text/latex": [
       "\\begin{tabular}{l}\n",
       "\t 5\\\\\n",
       "\t 10\\\\\n",
       "\t 1.5\\\\\n",
       "\\end{tabular}\n"
      ],
      "text/markdown": [
       "\n",
       "| 5 |\n",
       "| 10 |\n",
       "| 1.5 |\n",
       "\n"
      ],
      "text/plain": [
       "     [,1]\n",
       "[1,] 5   \n",
       "[2,] 10  \n",
       "[3,] 1.5 "
      ]
     },
     "metadata": {},
     "output_type": "display_data"
    }
   ],
   "source": [
    "x = 0\n",
    "y = 0\n",
    "z = 0\n",
    "for (i in 1:5) {\n",
    "    x = (data[i,2]-xbar2)*(data[i,1]-xbar1) + x\n",
    "    y = (data[i,2]-xbar2)^2 + y\n",
    "    z = (data[i,2]-xbar2)*(data[i,3]-xbar3) + z\n",
    "}\n",
    "s21 = x/4\n",
    "s22 = y/4\n",
    "s23 = z/4\n",
    "s2 <- matrix(c(s21, s22, s23))\n",
    "s2"
   ]
  },
  {
   "cell_type": "code",
   "execution_count": 8,
   "metadata": {
    "ExecuteTime": {
     "end_time": "2022-02-28T11:20:07.088202Z",
     "start_time": "2022-02-28T11:20:05.833Z"
    }
   },
   "outputs": [
    {
     "data": {
      "text/html": [
       "<table>\n",
       "<tbody>\n",
       "\t<tr><td>-1.75</td></tr>\n",
       "\t<tr><td>1.5</td></tr>\n",
       "\t<tr><td>2.5</td></tr>\n",
       "</tbody>\n",
       "</table>\n"
      ],
      "text/latex": [
       "\\begin{tabular}{l}\n",
       "\t -1.75\\\\\n",
       "\t 1.5\\\\\n",
       "\t 2.5\\\\\n",
       "\\end{tabular}\n"
      ],
      "text/markdown": [
       "\n",
       "| -1.75 |\n",
       "| 1.5 |\n",
       "| 2.5 |\n",
       "\n"
      ],
      "text/plain": [
       "     [,1] \n",
       "[1,] -1.75\n",
       "[2,] 1.5  \n",
       "[3,] 2.5  "
      ]
     },
     "metadata": {},
     "output_type": "display_data"
    }
   ],
   "source": [
    "x = 0\n",
    "y = 0\n",
    "z = 0\n",
    "for (i in 1:5) {\n",
    "    x = (data[i,3]-xbar3)*(data[i,1]-xbar1) + x\n",
    "    y = (data[i,3]-xbar3)*(data[i,2]-xbar2) + y\n",
    "    z = (data[i,3]-xbar3)^2 + z\n",
    "}\n",
    "s31 = x/4\n",
    "s32 = y/4\n",
    "s33 = z/4\n",
    "s3 <- matrix(c(s31, s32, s33))\n",
    "s3"
   ]
  },
  {
   "cell_type": "code",
   "execution_count": 9,
   "metadata": {
    "ExecuteTime": {
     "end_time": "2022-02-28T11:20:07.119165Z",
     "start_time": "2022-02-28T11:20:05.835Z"
    },
    "scrolled": true
   },
   "outputs": [
    {
     "data": {
      "text/html": [
       "<table>\n",
       "<tbody>\n",
       "\t<tr><td>7.5  </td><td>5    </td><td>-1.75</td></tr>\n",
       "\t<tr><td>5  </td><td>10 </td><td>1.5</td></tr>\n",
       "\t<tr><td>-1.75</td><td>1.5  </td><td>2.5  </td></tr>\n",
       "</tbody>\n",
       "</table>\n"
      ],
      "text/latex": [
       "\\begin{tabular}{lll}\n",
       "\t 7.5   & 5     & -1.75\\\\\n",
       "\t 5   & 10  & 1.5\\\\\n",
       "\t -1.75 & 1.5   & 2.5  \\\\\n",
       "\\end{tabular}\n"
      ],
      "text/markdown": [
       "\n",
       "| 7.5   | 5     | -1.75 |\n",
       "| 5   | 10  | 1.5 |\n",
       "| -1.75 | 1.5   | 2.5   |\n",
       "\n"
      ],
      "text/plain": [
       "     [,1]  [,2] [,3] \n",
       "[1,] 7.5   5    -1.75\n",
       "[2,] 5     10   1.5  \n",
       "[3,] -1.75 1.5  2.5  "
      ]
     },
     "metadata": {},
     "output_type": "display_data"
    }
   ],
   "source": [
    "sn <- matrix(c(s1, s2, s3), 3, 3)\n",
    "data.matrix(sn)"
   ]
  },
  {
   "cell_type": "markdown",
   "metadata": {},
   "source": [
    "Berdasarkan syntax tersebut, dapat diketahui bahwa matriks yang dibuat menggunakan syntax manual sama dengan matriks yang menggunakan fungsi cov()."
   ]
  },
  {
   "cell_type": "markdown",
   "metadata": {},
   "source": [
    "### Correlation Matrix"
   ]
  },
  {
   "cell_type": "code",
   "execution_count": 10,
   "metadata": {
    "ExecuteTime": {
     "end_time": "2022-02-28T11:20:07.149189Z",
     "start_time": "2022-02-28T11:20:05.837Z"
    }
   },
   "outputs": [
    {
     "data": {
      "text/html": [
       "<table>\n",
       "<tbody>\n",
       "\t<tr><td>0.3651484</td><td>0        </td><td>0        </td></tr>\n",
       "\t<tr><td>0        </td><td>0.3162278</td><td>0        </td></tr>\n",
       "\t<tr><td>0        </td><td>0        </td><td>0.6324555</td></tr>\n",
       "</tbody>\n",
       "</table>\n"
      ],
      "text/latex": [
       "\\begin{tabular}{lll}\n",
       "\t 0.3651484 & 0         & 0        \\\\\n",
       "\t 0         & 0.3162278 & 0        \\\\\n",
       "\t 0         & 0         & 0.6324555\\\\\n",
       "\\end{tabular}\n"
      ],
      "text/markdown": [
       "\n",
       "| 0.3651484 | 0         | 0         |\n",
       "| 0         | 0.3162278 | 0         |\n",
       "| 0         | 0         | 0.6324555 |\n",
       "\n"
      ],
      "text/plain": [
       "     [,1]      [,2]      [,3]     \n",
       "[1,] 0.3651484 0         0        \n",
       "[2,] 0         0.3162278 0        \n",
       "[3,] 0         0         0.6324555"
      ]
     },
     "metadata": {},
     "output_type": "display_data"
    }
   ],
   "source": [
    "#mencari D^(-0.5)\n",
    "matrixDiagonal<-matrix(c(s11^(-0.5),0,0,0,s22^(-0.5),0,0,0,s33^(-0.5)),3,3)\n",
    "matrixDiagonal"
   ]
  },
  {
   "cell_type": "code",
   "execution_count": 11,
   "metadata": {
    "ExecuteTime": {
     "end_time": "2022-02-28T11:20:07.183179Z",
     "start_time": "2022-02-28T11:20:05.840Z"
    }
   },
   "outputs": [
    {
     "ename": "ERROR",
     "evalue": "Error in matrixDiagonal %*% as.matrix(sn): requires numeric/complex matrix/vector arguments\n",
     "output_type": "error",
     "traceback": [
      "Error in matrixDiagonal %*% as.matrix(sn): requires numeric/complex matrix/vector arguments\nTraceback:\n"
     ]
    }
   ],
   "source": [
    "#matrix Correlation\n",
    "mc <- matrixDiagonal%*%sn%*%matrixDiagonal\n",
    "mc"
   ]
  },
  {
   "cell_type": "markdown",
   "metadata": {},
   "source": [
    "Berdasarkan syntax tersebut, dapat diketahui bahwa matriks yang dibuat menggunakan syntax manual sama dengan matriks yang menggunakan fungsi cor()."
   ]
  },
  {
   "cell_type": "markdown",
   "metadata": {},
   "source": [
    "# Matriks R"
   ]
  },
  {
   "cell_type": "markdown",
   "metadata": {
    "id": "UJnh8Mb_5tZk"
   },
   "source": [
    "## Matriks covariants"
   ]
  },
  {
   "cell_type": "code",
   "execution_count": 12,
   "metadata": {
    "ExecuteTime": {
     "end_time": "2022-02-28T11:20:11.460220Z",
     "start_time": "2022-02-28T11:20:11.424Z"
    },
    "colab": {
     "base_uri": "https://localhost:8080/",
     "height": 161
    },
    "id": "EH7asHrs4xg7",
    "outputId": "0692be28-f62b-4833-b4f2-a6ee1c34a9af"
   },
   "outputs": [
    {
     "data": {
      "text/html": [
       "<table>\n",
       "<thead><tr><th></th><th scope=col>x1</th><th scope=col>x2</th><th scope=col>x3</th></tr></thead>\n",
       "<tbody>\n",
       "\t<tr><th scope=row>x1</th><td> 1.0000000</td><td>0.5773503 </td><td>-0.4041452</td></tr>\n",
       "\t<tr><th scope=row>x2</th><td> 0.5773503</td><td>1.0000000 </td><td> 0.3000000</td></tr>\n",
       "\t<tr><th scope=row>x3</th><td>-0.4041452</td><td>0.3000000 </td><td> 1.0000000</td></tr>\n",
       "</tbody>\n",
       "</table>\n"
      ],
      "text/latex": [
       "\\begin{tabular}{r|lll}\n",
       "  & x1 & x2 & x3\\\\\n",
       "\\hline\n",
       "\tx1 &  1.0000000 & 0.5773503  & -0.4041452\\\\\n",
       "\tx2 &  0.5773503 & 1.0000000  &  0.3000000\\\\\n",
       "\tx3 & -0.4041452 & 0.3000000  &  1.0000000\\\\\n",
       "\\end{tabular}\n"
      ],
      "text/markdown": [
       "\n",
       "| <!--/--> | x1 | x2 | x3 |\n",
       "|---|---|---|---|\n",
       "| x1 |  1.0000000 | 0.5773503  | -0.4041452 |\n",
       "| x2 |  0.5773503 | 1.0000000  |  0.3000000 |\n",
       "| x3 | -0.4041452 | 0.3000000  |  1.0000000 |\n",
       "\n"
      ],
      "text/plain": [
       "   x1         x2        x3        \n",
       "x1  1.0000000 0.5773503 -0.4041452\n",
       "x2  0.5773503 1.0000000  0.3000000\n",
       "x3 -0.4041452 0.3000000  1.0000000"
      ]
     },
     "metadata": {},
     "output_type": "display_data"
    }
   ],
   "source": [
    "r = cor(data)\n",
    "r"
   ]
  },
  {
   "cell_type": "markdown",
   "metadata": {
    "heading_collapsed": true,
    "id": "U60O8q3f50vz"
   },
   "source": [
    "## Eigen value and eigen vector"
   ]
  },
  {
   "cell_type": "code",
   "execution_count": 13,
   "metadata": {
    "ExecuteTime": {
     "end_time": "2022-02-28T11:20:12.199889Z",
     "start_time": "2022-02-28T11:20:12.175Z"
    },
    "hidden": true
   },
   "outputs": [
    {
     "data": {
      "text/plain": [
       "eigen() decomposition\n",
       "$values\n",
       "[1] 1.591638 1.273514 0.134848\n",
       "\n",
       "$vectors\n",
       "           [,1]       [,2]       [,3]\n",
       "[1,]  0.7490653 -0.2047782  0.6300533\n",
       "[2,]  0.6347139  0.4943479 -0.5939347\n",
       "[3,] -0.1898407  0.8447994  0.5002744\n"
      ]
     },
     "metadata": {},
     "output_type": "display_data"
    }
   ],
   "source": [
    "eigen(r)"
   ]
  },
  {
   "cell_type": "code",
   "execution_count": null,
   "metadata": {
    "hidden": true
   },
   "outputs": [],
   "source": []
  }
 ],
 "metadata": {
  "colab": {
   "name": "APG_Pertemuan_2",
   "provenance": []
  },
  "kernelspec": {
   "display_name": "R",
   "language": "R",
   "name": "ir"
  },
  "language_info": {
   "codemirror_mode": "r",
   "file_extension": ".r",
   "mimetype": "text/x-r-source",
   "name": "R",
   "pygments_lexer": "r",
   "version": "4.0.5"
  },
  "toc": {
   "base_numbering": 1,
   "nav_menu": {},
   "number_sections": true,
   "sideBar": true,
   "skip_h1_title": false,
   "title_cell": "Table of Contents",
   "title_sidebar": "Contents",
   "toc_cell": false,
   "toc_position": {},
   "toc_section_display": true,
   "toc_window_display": false
  }
 },
 "nbformat": 4,
 "nbformat_minor": 1
}
