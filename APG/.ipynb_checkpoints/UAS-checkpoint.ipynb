{
 "cells": [
  {
   "cell_type": "code",
   "execution_count": 1,
   "id": "9d5e9459",
   "metadata": {
    "ExecuteTime": {
     "end_time": "2022-06-18T03:48:54.504694Z",
     "start_time": "2022-06-18T03:48:54.057Z"
    }
   },
   "outputs": [
    {
     "name": "stderr",
     "output_type": "stream",
     "text": [
      "Loading required package: ggplot2\n",
      "\n",
      "Welcome! Want to learn more? See two factoextra-related books at https://goo.gl/ve3WBa\n",
      "\n",
      "\n",
      "Attaching package: 'dplyr'\n",
      "\n",
      "\n",
      "The following objects are masked from 'package:stats':\n",
      "\n",
      "    filter, lag\n",
      "\n",
      "\n",
      "The following objects are masked from 'package:base':\n",
      "\n",
      "    intersect, setdiff, setequal, union\n",
      "\n",
      "\n"
     ]
    }
   ],
   "source": [
    "library(\"factoextra\")\n",
    "library(\"dplyr\")"
   ]
  },
  {
   "cell_type": "markdown",
   "id": "68f4b0c8",
   "metadata": {},
   "source": [
    "# PCA"
   ]
  },
  {
   "cell_type": "code",
   "execution_count": 2,
   "id": "2e67cb69",
   "metadata": {
    "ExecuteTime": {
     "end_time": "2022-06-18T03:48:54.578686Z",
     "start_time": "2022-06-18T03:48:54.074Z"
    },
    "scrolled": true
   },
   "outputs": [
    {
     "data": {
      "text/html": [
       "<table class=\"dataframe\">\n",
       "<caption>A matrix: 20 × 3 of type dbl</caption>\n",
       "<thead>\n",
       "\t<tr><th scope=col>sweet_rate</th><th scope=col>sodium</th><th scope=col>potassium</th></tr>\n",
       "</thead>\n",
       "<tbody>\n",
       "\t<tr><td>3.7</td><td>48.5</td><td> 9.3</td></tr>\n",
       "\t<tr><td>5.7</td><td>65.1</td><td> 8.0</td></tr>\n",
       "\t<tr><td>3.8</td><td>47.2</td><td>10.9</td></tr>\n",
       "\t<tr><td>3.2</td><td>53.2</td><td>12.0</td></tr>\n",
       "\t<tr><td>3.1</td><td>55.5</td><td> 9.7</td></tr>\n",
       "\t<tr><td>4.6</td><td>36.1</td><td> 7.9</td></tr>\n",
       "\t<tr><td>2.4</td><td>24.8</td><td>14.0</td></tr>\n",
       "\t<tr><td>7.2</td><td>33.1</td><td> 7.6</td></tr>\n",
       "\t<tr><td>6.7</td><td>47.4</td><td> 8.5</td></tr>\n",
       "\t<tr><td>5.4</td><td>54.1</td><td>11.3</td></tr>\n",
       "\t<tr><td>3.9</td><td>36.9</td><td>12.7</td></tr>\n",
       "\t<tr><td>4.5</td><td>58.8</td><td>12.3</td></tr>\n",
       "\t<tr><td>3.5</td><td>27.8</td><td> 9.8</td></tr>\n",
       "\t<tr><td>4.5</td><td>40.2</td><td> 8.4</td></tr>\n",
       "\t<tr><td>1.5</td><td>13.5</td><td>10.1</td></tr>\n",
       "\t<tr><td>8.5</td><td>56.4</td><td> 7.1</td></tr>\n",
       "\t<tr><td>4.5</td><td>71.6</td><td> 8.2</td></tr>\n",
       "\t<tr><td>6.5</td><td>52.8</td><td>10.9</td></tr>\n",
       "\t<tr><td>4.1</td><td>44.1</td><td>11.2</td></tr>\n",
       "\t<tr><td>5.5</td><td>40.9</td><td> 9.4</td></tr>\n",
       "</tbody>\n",
       "</table>\n"
      ],
      "text/latex": [
       "A matrix: 20 × 3 of type dbl\n",
       "\\begin{tabular}{lll}\n",
       " sweet\\_rate & sodium & potassium\\\\\n",
       "\\hline\n",
       "\t 3.7 & 48.5 &  9.3\\\\\n",
       "\t 5.7 & 65.1 &  8.0\\\\\n",
       "\t 3.8 & 47.2 & 10.9\\\\\n",
       "\t 3.2 & 53.2 & 12.0\\\\\n",
       "\t 3.1 & 55.5 &  9.7\\\\\n",
       "\t 4.6 & 36.1 &  7.9\\\\\n",
       "\t 2.4 & 24.8 & 14.0\\\\\n",
       "\t 7.2 & 33.1 &  7.6\\\\\n",
       "\t 6.7 & 47.4 &  8.5\\\\\n",
       "\t 5.4 & 54.1 & 11.3\\\\\n",
       "\t 3.9 & 36.9 & 12.7\\\\\n",
       "\t 4.5 & 58.8 & 12.3\\\\\n",
       "\t 3.5 & 27.8 &  9.8\\\\\n",
       "\t 4.5 & 40.2 &  8.4\\\\\n",
       "\t 1.5 & 13.5 & 10.1\\\\\n",
       "\t 8.5 & 56.4 &  7.1\\\\\n",
       "\t 4.5 & 71.6 &  8.2\\\\\n",
       "\t 6.5 & 52.8 & 10.9\\\\\n",
       "\t 4.1 & 44.1 & 11.2\\\\\n",
       "\t 5.5 & 40.9 &  9.4\\\\\n",
       "\\end{tabular}\n"
      ],
      "text/markdown": [
       "\n",
       "A matrix: 20 × 3 of type dbl\n",
       "\n",
       "| sweet_rate | sodium | potassium |\n",
       "|---|---|---|\n",
       "| 3.7 | 48.5 |  9.3 |\n",
       "| 5.7 | 65.1 |  8.0 |\n",
       "| 3.8 | 47.2 | 10.9 |\n",
       "| 3.2 | 53.2 | 12.0 |\n",
       "| 3.1 | 55.5 |  9.7 |\n",
       "| 4.6 | 36.1 |  7.9 |\n",
       "| 2.4 | 24.8 | 14.0 |\n",
       "| 7.2 | 33.1 |  7.6 |\n",
       "| 6.7 | 47.4 |  8.5 |\n",
       "| 5.4 | 54.1 | 11.3 |\n",
       "| 3.9 | 36.9 | 12.7 |\n",
       "| 4.5 | 58.8 | 12.3 |\n",
       "| 3.5 | 27.8 |  9.8 |\n",
       "| 4.5 | 40.2 |  8.4 |\n",
       "| 1.5 | 13.5 | 10.1 |\n",
       "| 8.5 | 56.4 |  7.1 |\n",
       "| 4.5 | 71.6 |  8.2 |\n",
       "| 6.5 | 52.8 | 10.9 |\n",
       "| 4.1 | 44.1 | 11.2 |\n",
       "| 5.5 | 40.9 |  9.4 |\n",
       "\n"
      ],
      "text/plain": [
       "      sweet_rate sodium potassium\n",
       " [1,] 3.7        48.5    9.3     \n",
       " [2,] 5.7        65.1    8.0     \n",
       " [3,] 3.8        47.2   10.9     \n",
       " [4,] 3.2        53.2   12.0     \n",
       " [5,] 3.1        55.5    9.7     \n",
       " [6,] 4.6        36.1    7.9     \n",
       " [7,] 2.4        24.8   14.0     \n",
       " [8,] 7.2        33.1    7.6     \n",
       " [9,] 6.7        47.4    8.5     \n",
       "[10,] 5.4        54.1   11.3     \n",
       "[11,] 3.9        36.9   12.7     \n",
       "[12,] 4.5        58.8   12.3     \n",
       "[13,] 3.5        27.8    9.8     \n",
       "[14,] 4.5        40.2    8.4     \n",
       "[15,] 1.5        13.5   10.1     \n",
       "[16,] 8.5        56.4    7.1     \n",
       "[17,] 4.5        71.6    8.2     \n",
       "[18,] 6.5        52.8   10.9     \n",
       "[19,] 4.1        44.1   11.2     \n",
       "[20,] 5.5        40.9    9.4     "
      ]
     },
     "metadata": {},
     "output_type": "display_data"
    }
   ],
   "source": [
    "sweat_rate <- c(3.7, 5.7, 3.8, 3.2, 3.1, 4.6, 2.4, 7.2, 6.7, 5.4, 3.9, 4.5, 3.5, 4.5, 1.5, 8.5, 4.5, 6.5, 4.1, 5.5)\n",
    "sodium <- c(48.5, 65.1, 47.2, 53.2, 55.5, 36.1, 24.8, 33.1, 47.4, 54.1, 36.9, 58.8, 27.8, 40.2, 13.5, 56.4, 71.6, 52.8, 44.1, 40.9)\n",
    "potassium <- c(9.3, 8, 10.9, 12, 9.7, 7.9, 14, 7.6, 8.5, 11.3, 12.7, 12.3, 9.8, 8.4, 10.1, 7.1, 8.2, 10.9, 11.2, 9.4)\n",
    "\n",
    "data <- cbind(sweat_rate, sodium, potassium)\n",
    "data"
   ]
  },
  {
   "cell_type": "code",
   "execution_count": 26,
   "id": "c6f36655",
   "metadata": {
    "ExecuteTime": {
     "end_time": "2022-06-18T04:26:10.771086Z",
     "start_time": "2022-06-18T04:26:10.738Z"
    }
   },
   "outputs": [
    {
     "data": {
      "text/html": [
       "<table class=\"dataframe\">\n",
       "<caption>A matrix: 3 × 3 of type dbl</caption>\n",
       "<thead>\n",
       "\t<tr><th></th><th scope=col>sweet_rate</th><th scope=col>sodium</th><th scope=col>potassium</th></tr>\n",
       "</thead>\n",
       "<tbody>\n",
       "\t<tr><th scope=row>sweet_rate</th><td> 2.879368</td><td> 10.0100</td><td>-1.809053</td></tr>\n",
       "\t<tr><th scope=row>sodium</th><td>10.010000</td><td>199.7884</td><td>-5.640000</td></tr>\n",
       "\t<tr><th scope=row>potassium</th><td>-1.809053</td><td> -5.6400</td><td> 3.627658</td></tr>\n",
       "</tbody>\n",
       "</table>\n"
      ],
      "text/latex": [
       "A matrix: 3 × 3 of type dbl\n",
       "\\begin{tabular}{r|lll}\n",
       "  & sweet\\_rate & sodium & potassium\\\\\n",
       "\\hline\n",
       "\tsweet\\_rate &  2.879368 &  10.0100 & -1.809053\\\\\n",
       "\tsodium & 10.010000 & 199.7884 & -5.640000\\\\\n",
       "\tpotassium & -1.809053 &  -5.6400 &  3.627658\\\\\n",
       "\\end{tabular}\n"
      ],
      "text/markdown": [
       "\n",
       "A matrix: 3 × 3 of type dbl\n",
       "\n",
       "| <!--/--> | sweet_rate | sodium | potassium |\n",
       "|---|---|---|---|\n",
       "| sweet_rate |  2.879368 |  10.0100 | -1.809053 |\n",
       "| sodium | 10.010000 | 199.7884 | -5.640000 |\n",
       "| potassium | -1.809053 |  -5.6400 |  3.627658 |\n",
       "\n"
      ],
      "text/plain": [
       "           sweet_rate sodium   potassium\n",
       "sweet_rate  2.879368   10.0100 -1.809053\n",
       "sodium     10.010000  199.7884 -5.640000\n",
       "potassium  -1.809053   -5.6400  3.627658"
      ]
     },
     "metadata": {},
     "output_type": "display_data"
    }
   ],
   "source": [
    "S <- cov(data)\n",
    "S"
   ]
  },
  {
   "cell_type": "code",
   "execution_count": 3,
   "id": "399825ad",
   "metadata": {
    "ExecuteTime": {
     "end_time": "2022-06-18T03:48:54.611723Z",
     "start_time": "2022-06-18T03:48:54.076Z"
    }
   },
   "outputs": [
    {
     "data": {
      "text/html": [
       "<table class=\"dataframe\">\n",
       "<caption>A matrix: 3 × 3 of type dbl</caption>\n",
       "<thead>\n",
       "\t<tr><th></th><th scope=col>sweet_rate</th><th scope=col>sodium</th><th scope=col>potassium</th></tr>\n",
       "</thead>\n",
       "<tbody>\n",
       "\t<tr><th scope=row>sweet_rate</th><td> 1.0000000</td><td> 0.4173499</td><td>-0.5597440</td></tr>\n",
       "\t<tr><th scope=row>sodium</th><td> 0.4173499</td><td> 1.0000000</td><td>-0.2094984</td></tr>\n",
       "\t<tr><th scope=row>potassium</th><td>-0.5597440</td><td>-0.2094984</td><td> 1.0000000</td></tr>\n",
       "</tbody>\n",
       "</table>\n"
      ],
      "text/latex": [
       "A matrix: 3 × 3 of type dbl\n",
       "\\begin{tabular}{r|lll}\n",
       "  & sweet\\_rate & sodium & potassium\\\\\n",
       "\\hline\n",
       "\tsweet\\_rate &  1.0000000 &  0.4173499 & -0.5597440\\\\\n",
       "\tsodium &  0.4173499 &  1.0000000 & -0.2094984\\\\\n",
       "\tpotassium & -0.5597440 & -0.2094984 &  1.0000000\\\\\n",
       "\\end{tabular}\n"
      ],
      "text/markdown": [
       "\n",
       "A matrix: 3 × 3 of type dbl\n",
       "\n",
       "| <!--/--> | sweet_rate | sodium | potassium |\n",
       "|---|---|---|---|\n",
       "| sweet_rate |  1.0000000 |  0.4173499 | -0.5597440 |\n",
       "| sodium |  0.4173499 |  1.0000000 | -0.2094984 |\n",
       "| potassium | -0.5597440 | -0.2094984 |  1.0000000 |\n",
       "\n"
      ],
      "text/plain": [
       "           sweet_rate sodium     potassium \n",
       "sweet_rate  1.0000000  0.4173499 -0.5597440\n",
       "sodium      0.4173499  1.0000000 -0.2094984\n",
       "potassium  -0.5597440 -0.2094984  1.0000000"
      ]
     },
     "metadata": {},
     "output_type": "display_data"
    }
   ],
   "source": [
    "R <- cor(data)\n",
    "R"
   ]
  },
  {
   "cell_type": "code",
   "execution_count": 4,
   "id": "a1ccdcc3",
   "metadata": {
    "ExecuteTime": {
     "end_time": "2022-06-18T03:48:54.644685Z",
     "start_time": "2022-06-18T03:48:54.077Z"
    }
   },
   "outputs": [
    {
     "data": {
      "text/plain": [
       "eigen() decomposition\n",
       "$values\n",
       "[1] 1.8078076 0.8009595 0.3912329\n",
       "\n",
       "$vectors\n",
       "           [,1]       [,2]       [,3]\n",
       "[1,] -0.6532613 -0.1017681  0.7502619\n",
       "[2,] -0.4876988  0.8145266 -0.3141596\n",
       "[3,]  0.5791369  0.5711301  0.5817309\n"
      ]
     },
     "metadata": {},
     "output_type": "display_data"
    }
   ],
   "source": [
    "eigen(R)"
   ]
  },
  {
   "cell_type": "code",
   "execution_count": 6,
   "id": "d0dc045b",
   "metadata": {
    "ExecuteTime": {
     "end_time": "2022-06-18T03:49:08.172867Z",
     "start_time": "2022-06-18T03:49:07.531Z"
    }
   },
   "outputs": [
    {
     "data": {
      "image/png": "[encoded data removed]",
      "text/plain": [
       "plot without title"
      ]
     },
     "metadata": {
      "image/png": {
       "height": 420,
       "width": 420
      }
     },
     "output_type": "display_data"
    }
   ],
   "source": [
    "fviz_eig(prcomp(data))"
   ]
  },
  {
   "cell_type": "code",
   "execution_count": 14,
   "id": "0f52226a",
   "metadata": {
    "ExecuteTime": {
     "end_time": "2022-06-18T03:58:03.534707Z",
     "start_time": "2022-06-18T03:58:03.509Z"
    }
   },
   "outputs": [],
   "source": [
    "prcompcor<-function(cor){\n",
    "  cor<-cor\n",
    "  p<-ncol(cor)\n",
    "  eig<-eigen(cor)$values\n",
    "  eigvec<-eigen(cor)$vectors\n",
    "  std<-sqrt(eig)\n",
    "  #meanvec<-colMeans(data)\n",
    "  vartot<-p\n",
    "  prop_var<-eig/vartot\n",
    "  cum_prob<-cumsum(prop_var)\n",
    "  \n",
    "  prcomp_name<-rep(0,ncol(cor))\n",
    "    for ( i in 1:ncol(cor)){\n",
    "       prcomp_name[i]<-paste(\"comp\",i,sep=\".\")\n",
    "  }\n",
    "  loadings<-data.frame(colnames(cor),round(eigvec,5))\n",
    "  colnames(loadings)<-c(\"variabel\",prcomp_name)\n",
    "  importancevar<-data.frame(rbind(eig,prop_var,cum_prob))\n",
    "  rownames(importancevar)<-c(\"Variance\",\"Proportion of Variance\",\"Cumulative Proportion\")\n",
    "  colnames(importancevar)<-prcomp_name\n",
    "  scree<-plot(prop_var,type=\"o\",ylab=\"Proporsi Varians yang dapat dijelaskan\",main=\"Scree Plot No 1\")\n",
    "  result<-list(importancevar,loadings,scree)\n",
    "  names(result)<-c(\"Importance of components :\",\"Loadings: \",\"scree plot\")\n",
    "  return(result)\n",
    "}"
   ]
  },
  {
   "cell_type": "code",
   "execution_count": 16,
   "id": "1d66b639",
   "metadata": {
    "ExecuteTime": {
     "end_time": "2022-06-18T04:11:45.656239Z",
     "start_time": "2022-06-18T04:11:45.566Z"
    }
   },
   "outputs": [
    {
     "data": {
      "text/html": [
       "<dl>\n",
       "\t<dt>$`Importance of components:`</dt>\n",
       "\t\t<dd><table class=\"dataframe\">\n",
       "<caption>A data.frame: 3 × 3</caption>\n",
       "<thead>\n",
       "\t<tr><th></th><th scope=col>comp.1</th><th scope=col>comp.2</th><th scope=col>comp.3</th></tr>\n",
       "\t<tr><th></th><th scope=col>&lt;dbl&gt;</th><th scope=col>&lt;dbl&gt;</th><th scope=col>&lt;dbl&gt;</th></tr>\n",
       "</thead>\n",
       "<tbody>\n",
       "\t<tr><th scope=row>Variance</th><td>1.8078076</td><td>0.8009595</td><td>0.3912329</td></tr>\n",
       "\t<tr><th scope=row>Proportion of Variance</th><td>0.6026025</td><td>0.2669865</td><td>0.1304110</td></tr>\n",
       "\t<tr><th scope=row>Cumulative Proportion</th><td>0.6026025</td><td>0.8695890</td><td>1.0000000</td></tr>\n",
       "</tbody>\n",
       "</table>\n",
       "</dd>\n",
       "\t<dt>$`Loadings: `</dt>\n",
       "\t\t<dd><table class=\"dataframe\">\n",
       "<caption>A data.frame: 3 × 4</caption>\n",
       "<thead>\n",
       "\t<tr><th scope=col>variabel</th><th scope=col>comp.1</th><th scope=col>comp.2</th><th scope=col>comp.3</th></tr>\n",
       "\t<tr><th scope=col>&lt;chr&gt;</th><th scope=col>&lt;dbl&gt;</th><th scope=col>&lt;dbl&gt;</th><th scope=col>&lt;dbl&gt;</th></tr>\n",
       "</thead>\n",
       "<tbody>\n",
       "\t<tr><td>sweet_rate</td><td>-0.65326</td><td>-0.10177</td><td> 0.75026</td></tr>\n",
       "\t<tr><td>sodium    </td><td>-0.48770</td><td> 0.81453</td><td>-0.31416</td></tr>\n",
       "\t<tr><td>potassium </td><td> 0.57914</td><td> 0.57113</td><td> 0.58173</td></tr>\n",
       "</tbody>\n",
       "</table>\n",
       "</dd>\n",
       "\t<dt>$`scree plot`</dt>\n",
       "\t\t<dd>NULL</dd>\n",
       "</dl>\n"
      ],
      "text/latex": [
       "\\begin{description}\n",
       "\\item[\\$`Importance of components:`] A data.frame: 3 × 3\n",
       "\\begin{tabular}{r|lll}\n",
       "  & comp.1 & comp.2 & comp.3\\\\\n",
       "  & <dbl> & <dbl> & <dbl>\\\\\n",
       "\\hline\n",
       "\tVariance & 1.8078076 & 0.8009595 & 0.3912329\\\\\n",
       "\tProportion of Variance & 0.6026025 & 0.2669865 & 0.1304110\\\\\n",
       "\tCumulative Proportion & 0.6026025 & 0.8695890 & 1.0000000\\\\\n",
       "\\end{tabular}\n",
       "\n",
       "\\item[\\$`Loadings: `] A data.frame: 3 × 4\n",
       "\\begin{tabular}{llll}\n",
       " variabel & comp.1 & comp.2 & comp.3\\\\\n",
       " <chr> & <dbl> & <dbl> & <dbl>\\\\\n",
       "\\hline\n",
       "\t sweet\\_rate & -0.65326 & -0.10177 &  0.75026\\\\\n",
       "\t sodium     & -0.48770 &  0.81453 & -0.31416\\\\\n",
       "\t potassium  &  0.57914 &  0.57113 &  0.58173\\\\\n",
       "\\end{tabular}\n",
       "\n",
       "\\item[\\$`scree plot`] NULL\n",
       "\\end{description}\n"
      ],
      "text/markdown": [
       "$`Importance of components:`\n",
       ":   \n",
       "A data.frame: 3 × 3\n",
       "\n",
       "| <!--/--> | comp.1 &lt;dbl&gt; | comp.2 &lt;dbl&gt; | comp.3 &lt;dbl&gt; |\n",
       "|---|---|---|---|\n",
       "| Variance | 1.8078076 | 0.8009595 | 0.3912329 |\n",
       "| Proportion of Variance | 0.6026025 | 0.2669865 | 0.1304110 |\n",
       "| Cumulative Proportion | 0.6026025 | 0.8695890 | 1.0000000 |\n",
       "\n",
       "\n",
       "$`Loadings: `\n",
       ":   \n",
       "A data.frame: 3 × 4\n",
       "\n",
       "| variabel &lt;chr&gt; | comp.1 &lt;dbl&gt; | comp.2 &lt;dbl&gt; | comp.3 &lt;dbl&gt; |\n",
       "|---|---|---|---|\n",
       "| sweet_rate | -0.65326 | -0.10177 |  0.75026 |\n",
       "| sodium     | -0.48770 |  0.81453 | -0.31416 |\n",
       "| potassium  |  0.57914 |  0.57113 |  0.58173 |\n",
       "\n",
       "\n",
       "$`scree plot`\n",
       ":   NULL\n",
       "\n",
       "\n"
      ],
      "text/plain": [
       "$`Importance of components:`\n",
       "                          comp.1    comp.2    comp.3\n",
       "Variance               1.8078076 0.8009595 0.3912329\n",
       "Proportion of Variance 0.6026025 0.2669865 0.1304110\n",
       "Cumulative Proportion  0.6026025 0.8695890 1.0000000\n",
       "\n",
       "$`Loadings: `\n",
       "    variabel   comp.1   comp.2   comp.3\n",
       "1 sweet_rate -0.65326 -0.10177  0.75026\n",
       "2     sodium -0.48770  0.81453 -0.31416\n",
       "3  potassium  0.57914  0.57113  0.58173\n",
       "\n",
       "$`scree plot`\n",
       "NULL\n"
      ]
     },
     "metadata": {},
     "output_type": "display_data"
    },
    {
     "data": {
      "image/png": "[encoded data removed]",
      "text/plain": [
       "Plot with title \"Scree Plot No 1\""
      ]
     },
     "metadata": {
      "image/png": {
       "height": 420,
       "width": 420
      }
     },
     "output_type": "display_data"
    }
   ],
   "source": [
    "result <- prcompcor(R)\n",
    "result"
   ]
  },
  {
   "cell_type": "markdown",
   "id": "65365d27",
   "metadata": {},
   "source": [
    "Komponen utama yang sebaiknya digunakan sebanyak 2 komponen. Hal ini dikarenakan Cumulative Proportion of Variance Komponen 2 > 0.75, yaitu 0.8696. Artinya sekitar 87% varians data dapat dijelaskan oleh komponen utama. <br> <br>\n",
    "Berdasarkan tabel 'Loadings', diperoleh persamaan komponen utama (Kombinasi Linier)\n",
    "$$\n",
    "Y_1 = -0.65326X_1 - 0.48770X_2 + 0.57914X_3 \\\\\n",
    "Y_2 = -0.10177\tX_1 + 0.81453X_2 + 0.57113X_3\n",
    "$$\n",
    "Pada komponen pertama, variabel $X_1$ dan $X_3$ adalah variabel yang dominan dengan nilai $loading$ lebih dari $0.5$ <br>\n",
    "Pada komponen kedua, variabel $X_2$ dan $X_3$ adalah variabel yang dominan dengan nilai $loading$ lebih dari $0.5$ <br>\n",
    "Secara umum, komponen pertama didominasi oleh variabel yang berkaitan dengan ..., sedangkan komponen pertama didominasi oleh variabel yang berkaitan dengan ..."
   ]
  },
  {
   "cell_type": "code",
   "execution_count": 30,
   "id": "d6d9112e",
   "metadata": {
    "ExecuteTime": {
     "end_time": "2022-06-18T04:27:53.009985Z",
     "start_time": "2022-06-18T04:27:52.970Z"
    }
   },
   "outputs": [
    {
     "data": {
      "text/html": [
       "-0.878340740334398"
      ],
      "text/latex": [
       "-0.878340740334398"
      ],
      "text/markdown": [
       "-0.878340740334398"
      ],
      "text/plain": [
       "[1] -0.8783407"
      ]
     },
     "metadata": {},
     "output_type": "display_data"
    },
    {
     "data": {
      "text/html": [
       "0.728971554953522"
      ],
      "text/latex": [
       "0.728971554953522"
      ],
      "text/markdown": [
       "0.728971554953522"
      ],
      "text/plain": [
       "[1] 0.7289716"
      ]
     },
     "metadata": {},
     "output_type": "display_data"
    }
   ],
   "source": [
    "Rho1 = (eigen(R)$vectors[1,1]*sqrt(eigen(R)$values[1]))/sqrt(R[1,1])\n",
    "Rho1\n",
    "Rho2 = (eigen(R)$vectors[2,2]*sqrt(eigen(R)$values[2]))/sqrt(R[2,2])\n",
    "Rho2"
   ]
  },
  {
   "cell_type": "markdown",
   "id": "f0224c50",
   "metadata": {
    "ExecuteTime": {
     "end_time": "2022-06-18T03:49:24.967288Z",
     "start_time": "2022-06-18T03:49:24.945Z"
    }
   },
   "source": [
    "# FA"
   ]
  },
  {
   "cell_type": "code",
   "execution_count": null,
   "id": "6044ada6",
   "metadata": {},
   "outputs": [],
   "source": []
  }
 ],
 "metadata": {
  "kernelspec": {
   "display_name": "R",
   "language": "R",
   "name": "ir"
  },
  "language_info": {
   "codemirror_mode": "r",
   "file_extension": ".r",
   "mimetype": "text/x-r-source",
   "name": "R",
   "pygments_lexer": "r",
   "version": "4.0.5"
  },
  "toc": {
   "base_numbering": 1,
   "nav_menu": {},
   "number_sections": true,
   "sideBar": true,
   "skip_h1_title": false,
   "title_cell": "Table of Contents",
   "title_sidebar": "Contents",
   "toc_cell": false,
   "toc_position": {},
   "toc_section_display": true,
   "toc_window_display": false
  }
 },
 "nbformat": 4,
 "nbformat_minor": 5
}
