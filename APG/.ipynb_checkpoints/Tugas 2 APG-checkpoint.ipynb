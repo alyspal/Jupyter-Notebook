{
 "cells": [
  {
   "cell_type": "markdown",
   "metadata": {
    "id": "6I99wkl_DZQJ"
   },
   "source": [
    "**Dataset yang digunakan**"
   ]
  },
  {
   "cell_type": "code",
   "execution_count": null,
   "metadata": {},
   "outputs": [],
   "source": [
    "library(readxl)"
   ]
  },
  {
   "cell_type": "code",
   "execution_count": null,
   "metadata": {
    "colab": {
     "base_uri": "https://localhost:8080/",
     "height": 255
    },
    "id": "MyUAANl33Idl",
    "outputId": "3b310bab-e95e-49ab-e816-9a6bb1041dde"
   },
   "outputs": [
    {
     "data": {
      "text/html": [
       "<table class=\"dataframe\">\n",
       "<caption>A data.frame: 5 × 3</caption>\n",
       "<thead>\n",
       "\t<tr><th scope=col>x1</th><th scope=col>x2</th><th scope=col>x3</th></tr>\n",
       "\t<tr><th scope=col>&lt;int&gt;</th><th scope=col>&lt;int&gt;</th><th scope=col>&lt;int&gt;</th></tr>\n",
       "</thead>\n",
       "<tbody>\n",
       "\t<tr><td>9</td><td>12</td><td>3</td></tr>\n",
       "\t<tr><td>2</td><td> 8</td><td>4</td></tr>\n",
       "\t<tr><td>6</td><td> 6</td><td>0</td></tr>\n",
       "\t<tr><td>5</td><td> 4</td><td>2</td></tr>\n",
       "\t<tr><td>8</td><td>10</td><td>1</td></tr>\n",
       "</tbody>\n",
       "</table>\n"
      ],
      "text/latex": [
       "A data.frame: 5 × 3\n",
       "\\begin{tabular}{lll}\n",
       " x1 & x2 & x3\\\\\n",
       " <int> & <int> & <int>\\\\\n",
       "\\hline\n",
       "\t 9 & 12 & 3\\\\\n",
       "\t 2 &  8 & 4\\\\\n",
       "\t 6 &  6 & 0\\\\\n",
       "\t 5 &  4 & 2\\\\\n",
       "\t 8 & 10 & 1\\\\\n",
       "\\end{tabular}\n"
      ],
      "text/markdown": [
       "\n",
       "A data.frame: 5 × 3\n",
       "\n",
       "| x1 &lt;int&gt; | x2 &lt;int&gt; | x3 &lt;int&gt; |\n",
       "|---|---|---|\n",
       "| 9 | 12 | 3 |\n",
       "| 2 |  8 | 4 |\n",
       "| 6 |  6 | 0 |\n",
       "| 5 |  4 | 2 |\n",
       "| 8 | 10 | 1 |\n",
       "\n"
      ],
      "text/plain": [
       "  x1 x2 x3\n",
       "1 9  12 3 \n",
       "2 2   8 4 \n",
       "3 6   6 0 \n",
       "4 5   4 2 \n",
       "5 8  10 1 "
      ]
     },
     "metadata": {},
     "output_type": "display_data"
    }
   ],
   "source": [
    "data <- read_excel(\"3si1.xlsx\")\n",
    "data"
   ]
  },
  {
   "cell_type": "markdown",
   "metadata": {
    "id": "UJnh8Mb_5tZk"
   },
   "source": [
    "***Matriks corelation and covariants***"
   ]
  },
  {
   "cell_type": "code",
   "execution_count": null,
   "metadata": {
    "colab": {
     "base_uri": "https://localhost:8080/",
     "height": 161
    },
    "id": "KJT7oepy4knu",
    "outputId": "dd03c590-0039-4652-ec9a-bfc44ccdc667"
   },
   "outputs": [
    {
     "data": {
      "text/html": [
       "<table class=\"dataframe\">\n",
       "<caption>A matrix: 3 × 3 of type dbl</caption>\n",
       "<thead>\n",
       "\t<tr><th></th><th scope=col>x1</th><th scope=col>x2</th><th scope=col>x3</th></tr>\n",
       "</thead>\n",
       "<tbody>\n",
       "\t<tr><th scope=row>x1</th><td> 7.50</td><td> 5.0</td><td>-1.75</td></tr>\n",
       "\t<tr><th scope=row>x2</th><td> 5.00</td><td>10.0</td><td> 1.50</td></tr>\n",
       "\t<tr><th scope=row>x3</th><td>-1.75</td><td> 1.5</td><td> 2.50</td></tr>\n",
       "</tbody>\n",
       "</table>\n"
      ],
      "text/latex": [
       "A matrix: 3 × 3 of type dbl\n",
       "\\begin{tabular}{r|lll}\n",
       "  & x1 & x2 & x3\\\\\n",
       "\\hline\n",
       "\tx1 &  7.50 &  5.0 & -1.75\\\\\n",
       "\tx2 &  5.00 & 10.0 &  1.50\\\\\n",
       "\tx3 & -1.75 &  1.5 &  2.50\\\\\n",
       "\\end{tabular}\n"
      ],
      "text/markdown": [
       "\n",
       "A matrix: 3 × 3 of type dbl\n",
       "\n",
       "| <!--/--> | x1 | x2 | x3 |\n",
       "|---|---|---|---|\n",
       "| x1 |  7.50 |  5.0 | -1.75 |\n",
       "| x2 |  5.00 | 10.0 |  1.50 |\n",
       "| x3 | -1.75 |  1.5 |  2.50 |\n",
       "\n"
      ],
      "text/plain": [
       "   x1    x2   x3   \n",
       "x1  7.50  5.0 -1.75\n",
       "x2  5.00 10.0  1.50\n",
       "x3 -1.75  1.5  2.50"
      ]
     },
     "metadata": {},
     "output_type": "display_data"
    }
   ],
   "source": [
    "cov(data)"
   ]
  },
  {
   "cell_type": "code",
   "execution_count": null,
   "metadata": {
    "colab": {
     "base_uri": "https://localhost:8080/",
     "height": 161
    },
    "id": "EH7asHrs4xg7",
    "outputId": "0692be28-f62b-4833-b4f2-a6ee1c34a9af"
   },
   "outputs": [
    {
     "data": {
      "text/html": [
       "<table class=\"dataframe\">\n",
       "<caption>A matrix: 3 × 3 of type dbl</caption>\n",
       "<thead>\n",
       "\t<tr><th></th><th scope=col>x1</th><th scope=col>x2</th><th scope=col>x3</th></tr>\n",
       "</thead>\n",
       "<tbody>\n",
       "\t<tr><th scope=row>x1</th><td> 1.0000000</td><td>0.5773503</td><td>-0.4041452</td></tr>\n",
       "\t<tr><th scope=row>x2</th><td> 0.5773503</td><td>1.0000000</td><td> 0.3000000</td></tr>\n",
       "\t<tr><th scope=row>x3</th><td>-0.4041452</td><td>0.3000000</td><td> 1.0000000</td></tr>\n",
       "</tbody>\n",
       "</table>\n"
      ],
      "text/latex": [
       "A matrix: 3 × 3 of type dbl\n",
       "\\begin{tabular}{r|lll}\n",
       "  & x1 & x2 & x3\\\\\n",
       "\\hline\n",
       "\tx1 &  1.0000000 & 0.5773503 & -0.4041452\\\\\n",
       "\tx2 &  0.5773503 & 1.0000000 &  0.3000000\\\\\n",
       "\tx3 & -0.4041452 & 0.3000000 &  1.0000000\\\\\n",
       "\\end{tabular}\n"
      ],
      "text/markdown": [
       "\n",
       "A matrix: 3 × 3 of type dbl\n",
       "\n",
       "| <!--/--> | x1 | x2 | x3 |\n",
       "|---|---|---|---|\n",
       "| x1 |  1.0000000 | 0.5773503 | -0.4041452 |\n",
       "| x2 |  0.5773503 | 1.0000000 |  0.3000000 |\n",
       "| x3 | -0.4041452 | 0.3000000 |  1.0000000 |\n",
       "\n"
      ],
      "text/plain": [
       "   x1         x2        x3        \n",
       "x1  1.0000000 0.5773503 -0.4041452\n",
       "x2  0.5773503 1.0000000  0.3000000\n",
       "x3 -0.4041452 0.3000000  1.0000000"
      ]
     },
     "metadata": {},
     "output_type": "display_data"
    }
   ],
   "source": [
    "cor(data)"
   ]
  },
  {
   "cell_type": "markdown",
   "metadata": {
    "id": "U60O8q3f50vz"
   },
   "source": [
    "***Eigen value and eigen vector***"
   ]
  },
  {
   "cell_type": "code",
   "execution_count": null,
   "metadata": {
    "colab": {
     "base_uri": "https://localhost:8080/",
     "height": 173
    },
    "id": "8XbRtnv559sU",
    "outputId": "86cc4825-9d36-473d-a798-9f80ae615ad8"
   },
   "outputs": [
    {
     "data": {
      "text/plain": [
       "eigen() decomposition\n",
       "$values\n",
       "[1] 13.9049009  5.4143634  0.6807358\n",
       "\n",
       "$vectors\n",
       "             [,1]       [,2]       [,3]\n",
       "[1,] -0.613679310 -0.6232975  0.4846627\n",
       "[2,] -0.789496144  0.4769002 -0.3863444\n",
       "[3,] -0.009671757  0.6197309  0.7847548\n"
      ]
     },
     "metadata": {},
     "output_type": "display_data"
    }
   ],
   "source": [
    "#dm1<-data.matrix(df1)\n",
    "eigen(cov(data))\n"
   ]
  }
 ],
 "metadata": {
  "colab": {
   "name": "APG_Pertemuan_2",
   "provenance": []
  },
  "kernelspec": {
   "display_name": "R",
   "language": "R",
   "name": "ir"
  },
  "language_info": {
   "codemirror_mode": "r",
   "file_extension": ".r",
   "mimetype": "text/x-r-source",
   "name": "R",
   "pygments_lexer": "r",
   "version": "3.6.1"
  },
  "toc": {
   "base_numbering": 1,
   "nav_menu": {},
   "number_sections": true,
   "sideBar": true,
   "skip_h1_title": false,
   "title_cell": "Table of Contents",
   "title_sidebar": "Contents",
   "toc_cell": false,
   "toc_position": {},
   "toc_section_display": true,
   "toc_window_display": false
  }
 },
 "nbformat": 4,
 "nbformat_minor": 1
}
