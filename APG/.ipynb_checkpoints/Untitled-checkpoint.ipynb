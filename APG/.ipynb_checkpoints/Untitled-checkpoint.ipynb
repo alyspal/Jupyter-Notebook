{
 "cells": [
  {
   "cell_type": "code",
   "execution_count": 1,
   "id": "50f8ea6e",
   "metadata": {
    "ExecuteTime": {
     "end_time": "2022-04-10T03:54:03.055510Z",
     "start_time": "2022-04-10T03:53:59.398Z"
    },
    "scrolled": true
   },
   "outputs": [
    {
     "name": "stderr",
     "output_type": "stream",
     "text": [
      "\n",
      "Attaching package: 'ellipse'\n",
      "\n",
      "\n",
      "The following object is masked from 'package:graphics':\n",
      "\n",
      "    pairs\n",
      "\n",
      "\n",
      "*** Package RVAideMemoire v 0.9-81-2 ***\n",
      "\n",
      "Loading required package: carData\n",
      "\n",
      "\n",
      "Attaching package: 'car'\n",
      "\n",
      "\n",
      "The following object is masked from 'package:ellipse':\n",
      "\n",
      "    ellipse\n",
      "\n",
      "\n",
      "\n",
      "Attaching package: 'MVTests'\n",
      "\n",
      "\n",
      "The following object is masked from 'package:datasets':\n",
      "\n",
      "    iris\n",
      "\n",
      "\n"
     ]
    }
   ],
   "source": [
    "library(\"latex2exp\")\n",
    "library(\"ellipse\")\n",
    "library(\"RVAideMemoire\")\n",
    "library(\"MVN\")\n",
    "library(\"car\")\n",
    "library(\"MVTests\")\n",
    "library(\"SciViews\")"
   ]
  },
  {
   "cell_type": "code",
   "execution_count": 2,
   "id": "2b4448ad",
   "metadata": {
    "ExecuteTime": {
     "end_time": "2022-04-10T04:00:42.747989Z",
     "start_time": "2022-04-10T04:00:42.660Z"
    }
   },
   "outputs": [],
   "source": [
    "#Data\n",
    "A_EfisiensiTanpa<-c(12,13,12.5,10,14,13.5,12,15,11,13,11.5,13.5,10,11)\n",
    "A_EfisiensiDengan<-c(13,15,14,11,14.5,15,14.5,18,14.5,15,13.5,14,11,13)\n",
    "A_AkselerasiTanpa<-c(16,15,14,16,17,19,15,17,14,15,18,19,16,17)\n",
    "A_AkselerasiDengan<-c(17,15,16,16,16,20,14,18,15,15,17,20,16,17)\n",
    "\n",
    "B_EfisiensiTanpa<-c(13,12,14,12.5,10,12,13.5,14,13,10,12,10,13.5,11)\n",
    "B_EfisiensiDengan<-c(15,15.5,17,16,12,15,16.5,15.5,15,13,14,12.5,15,13.5)\n",
    "B_AkselerasiTanpa<-c(15,16,17,14,16,19,17,15,13,18,15,20,17,18)\n",
    "B_AkselerasiDengan<-c(13,13,14,11,13,15,15,12,12,15,11,15,15,16)"
   ]
  },
  {
   "cell_type": "code",
   "execution_count": 3,
   "id": "c0309d03",
   "metadata": {
    "ExecuteTime": {
     "end_time": "2022-04-10T04:02:50.680159Z",
     "start_time": "2022-04-10T04:02:50.618Z"
    },
    "scrolled": true
   },
   "outputs": [
    {
     "data": {
      "text/html": [
       "<table class=\"dataframe\">\n",
       "<caption>A data.frame: 14 × 8</caption>\n",
       "<thead>\n",
       "\t<tr><th scope=col>A_EfisiensiTanpa</th><th scope=col>A_EfisiensiDengan</th><th scope=col>A_AkselerasiTanpa</th><th scope=col>A_AkselerasiDengan</th><th scope=col>B_EfisiensiTanpa</th><th scope=col>B_EfisiensiDengan</th><th scope=col>B_AkselerasiTanpa</th><th scope=col>B_AkselerasiDengan</th></tr>\n",
       "\t<tr><th scope=col>&lt;dbl&gt;</th><th scope=col>&lt;dbl&gt;</th><th scope=col>&lt;dbl&gt;</th><th scope=col>&lt;dbl&gt;</th><th scope=col>&lt;dbl&gt;</th><th scope=col>&lt;dbl&gt;</th><th scope=col>&lt;dbl&gt;</th><th scope=col>&lt;dbl&gt;</th></tr>\n",
       "</thead>\n",
       "<tbody>\n",
       "\t<tr><td>12.0</td><td>13.0</td><td>16</td><td>17</td><td>13.0</td><td>15.0</td><td>15</td><td>13</td></tr>\n",
       "\t<tr><td>13.0</td><td>15.0</td><td>15</td><td>15</td><td>12.0</td><td>15.5</td><td>16</td><td>13</td></tr>\n",
       "\t<tr><td>12.5</td><td>14.0</td><td>14</td><td>16</td><td>14.0</td><td>17.0</td><td>17</td><td>14</td></tr>\n",
       "\t<tr><td>10.0</td><td>11.0</td><td>16</td><td>16</td><td>12.5</td><td>16.0</td><td>14</td><td>11</td></tr>\n",
       "\t<tr><td>14.0</td><td>14.5</td><td>17</td><td>16</td><td>10.0</td><td>12.0</td><td>16</td><td>13</td></tr>\n",
       "\t<tr><td>13.5</td><td>15.0</td><td>19</td><td>20</td><td>12.0</td><td>15.0</td><td>19</td><td>15</td></tr>\n",
       "\t<tr><td>12.0</td><td>14.5</td><td>15</td><td>14</td><td>13.5</td><td>16.5</td><td>17</td><td>15</td></tr>\n",
       "\t<tr><td>15.0</td><td>18.0</td><td>17</td><td>18</td><td>14.0</td><td>15.5</td><td>15</td><td>12</td></tr>\n",
       "\t<tr><td>11.0</td><td>14.5</td><td>14</td><td>15</td><td>13.0</td><td>15.0</td><td>13</td><td>12</td></tr>\n",
       "\t<tr><td>13.0</td><td>15.0</td><td>15</td><td>15</td><td>10.0</td><td>13.0</td><td>18</td><td>15</td></tr>\n",
       "\t<tr><td>11.5</td><td>13.5</td><td>18</td><td>17</td><td>12.0</td><td>14.0</td><td>15</td><td>11</td></tr>\n",
       "\t<tr><td>13.5</td><td>14.0</td><td>19</td><td>20</td><td>10.0</td><td>12.5</td><td>20</td><td>15</td></tr>\n",
       "\t<tr><td>10.0</td><td>11.0</td><td>16</td><td>16</td><td>13.5</td><td>15.0</td><td>17</td><td>15</td></tr>\n",
       "\t<tr><td>11.0</td><td>13.0</td><td>17</td><td>17</td><td>11.0</td><td>13.5</td><td>18</td><td>16</td></tr>\n",
       "</tbody>\n",
       "</table>\n"
      ],
      "text/latex": [
       "A data.frame: 14 × 8\n",
       "\\begin{tabular}{llllllll}\n",
       " A\\_EfisiensiTanpa & A\\_EfisiensiDengan & A\\_AkselerasiTanpa & A\\_AkselerasiDengan & B\\_EfisiensiTanpa & B\\_EfisiensiDengan & B\\_AkselerasiTanpa & B\\_AkselerasiDengan\\\\\n",
       " <dbl> & <dbl> & <dbl> & <dbl> & <dbl> & <dbl> & <dbl> & <dbl>\\\\\n",
       "\\hline\n",
       "\t 12.0 & 13.0 & 16 & 17 & 13.0 & 15.0 & 15 & 13\\\\\n",
       "\t 13.0 & 15.0 & 15 & 15 & 12.0 & 15.5 & 16 & 13\\\\\n",
       "\t 12.5 & 14.0 & 14 & 16 & 14.0 & 17.0 & 17 & 14\\\\\n",
       "\t 10.0 & 11.0 & 16 & 16 & 12.5 & 16.0 & 14 & 11\\\\\n",
       "\t 14.0 & 14.5 & 17 & 16 & 10.0 & 12.0 & 16 & 13\\\\\n",
       "\t 13.5 & 15.0 & 19 & 20 & 12.0 & 15.0 & 19 & 15\\\\\n",
       "\t 12.0 & 14.5 & 15 & 14 & 13.5 & 16.5 & 17 & 15\\\\\n",
       "\t 15.0 & 18.0 & 17 & 18 & 14.0 & 15.5 & 15 & 12\\\\\n",
       "\t 11.0 & 14.5 & 14 & 15 & 13.0 & 15.0 & 13 & 12\\\\\n",
       "\t 13.0 & 15.0 & 15 & 15 & 10.0 & 13.0 & 18 & 15\\\\\n",
       "\t 11.5 & 13.5 & 18 & 17 & 12.0 & 14.0 & 15 & 11\\\\\n",
       "\t 13.5 & 14.0 & 19 & 20 & 10.0 & 12.5 & 20 & 15\\\\\n",
       "\t 10.0 & 11.0 & 16 & 16 & 13.5 & 15.0 & 17 & 15\\\\\n",
       "\t 11.0 & 13.0 & 17 & 17 & 11.0 & 13.5 & 18 & 16\\\\\n",
       "\\end{tabular}\n"
      ],
      "text/markdown": [
       "\n",
       "A data.frame: 14 × 8\n",
       "\n",
       "| A_EfisiensiTanpa &lt;dbl&gt; | A_EfisiensiDengan &lt;dbl&gt; | A_AkselerasiTanpa &lt;dbl&gt; | A_AkselerasiDengan &lt;dbl&gt; | B_EfisiensiTanpa &lt;dbl&gt; | B_EfisiensiDengan &lt;dbl&gt; | B_AkselerasiTanpa &lt;dbl&gt; | B_AkselerasiDengan &lt;dbl&gt; |\n",
       "|---|---|---|---|---|---|---|---|\n",
       "| 12.0 | 13.0 | 16 | 17 | 13.0 | 15.0 | 15 | 13 |\n",
       "| 13.0 | 15.0 | 15 | 15 | 12.0 | 15.5 | 16 | 13 |\n",
       "| 12.5 | 14.0 | 14 | 16 | 14.0 | 17.0 | 17 | 14 |\n",
       "| 10.0 | 11.0 | 16 | 16 | 12.5 | 16.0 | 14 | 11 |\n",
       "| 14.0 | 14.5 | 17 | 16 | 10.0 | 12.0 | 16 | 13 |\n",
       "| 13.5 | 15.0 | 19 | 20 | 12.0 | 15.0 | 19 | 15 |\n",
       "| 12.0 | 14.5 | 15 | 14 | 13.5 | 16.5 | 17 | 15 |\n",
       "| 15.0 | 18.0 | 17 | 18 | 14.0 | 15.5 | 15 | 12 |\n",
       "| 11.0 | 14.5 | 14 | 15 | 13.0 | 15.0 | 13 | 12 |\n",
       "| 13.0 | 15.0 | 15 | 15 | 10.0 | 13.0 | 18 | 15 |\n",
       "| 11.5 | 13.5 | 18 | 17 | 12.0 | 14.0 | 15 | 11 |\n",
       "| 13.5 | 14.0 | 19 | 20 | 10.0 | 12.5 | 20 | 15 |\n",
       "| 10.0 | 11.0 | 16 | 16 | 13.5 | 15.0 | 17 | 15 |\n",
       "| 11.0 | 13.0 | 17 | 17 | 11.0 | 13.5 | 18 | 16 |\n",
       "\n"
      ],
      "text/plain": [
       "   A_EfisiensiTanpa A_EfisiensiDengan A_AkselerasiTanpa A_AkselerasiDengan\n",
       "1  12.0             13.0              16                17                \n",
       "2  13.0             15.0              15                15                \n",
       "3  12.5             14.0              14                16                \n",
       "4  10.0             11.0              16                16                \n",
       "5  14.0             14.5              17                16                \n",
       "6  13.5             15.0              19                20                \n",
       "7  12.0             14.5              15                14                \n",
       "8  15.0             18.0              17                18                \n",
       "9  11.0             14.5              14                15                \n",
       "10 13.0             15.0              15                15                \n",
       "11 11.5             13.5              18                17                \n",
       "12 13.5             14.0              19                20                \n",
       "13 10.0             11.0              16                16                \n",
       "14 11.0             13.0              17                17                \n",
       "   B_EfisiensiTanpa B_EfisiensiDengan B_AkselerasiTanpa B_AkselerasiDengan\n",
       "1  13.0             15.0              15                13                \n",
       "2  12.0             15.5              16                13                \n",
       "3  14.0             17.0              17                14                \n",
       "4  12.5             16.0              14                11                \n",
       "5  10.0             12.0              16                13                \n",
       "6  12.0             15.0              19                15                \n",
       "7  13.5             16.5              17                15                \n",
       "8  14.0             15.5              15                12                \n",
       "9  13.0             15.0              13                12                \n",
       "10 10.0             13.0              18                15                \n",
       "11 12.0             14.0              15                11                \n",
       "12 10.0             12.5              20                15                \n",
       "13 13.5             15.0              17                15                \n",
       "14 11.0             13.5              18                16                "
      ]
     },
     "metadata": {},
     "output_type": "display_data"
    }
   ],
   "source": [
    "data <- data.frame(A_EfisiensiTanpa, A_EfisiensiDengan, A_AkselerasiTanpa, A_AkselerasiDengan,\n",
    "                   B_EfisiensiTanpa, B_EfisiensiDengan, B_AkselerasiTanpa, B_AkselerasiDengan)\n",
    "data"
   ]
  },
  {
   "cell_type": "code",
   "execution_count": 14,
   "id": "532385b9",
   "metadata": {
    "ExecuteTime": {
     "end_time": "2022-04-10T04:12:09.467041Z",
     "start_time": "2022-04-10T04:12:09.415Z"
    },
    "scrolled": true
   },
   "outputs": [
    {
     "data": {
      "text/html": [
       "<table class=\"dataframe\">\n",
       "<caption>A data.frame: 14 × 4</caption>\n",
       "<thead>\n",
       "\t<tr><th scope=col>d_A_Efisiensi</th><th scope=col>d_A_Akselerasi</th><th scope=col>d_B_Efisiensi</th><th scope=col>d_B_Akselerasi</th></tr>\n",
       "\t<tr><th scope=col>&lt;dbl&gt;</th><th scope=col>&lt;dbl&gt;</th><th scope=col>&lt;dbl&gt;</th><th scope=col>&lt;dbl&gt;</th></tr>\n",
       "</thead>\n",
       "<tbody>\n",
       "\t<tr><td>1.0</td><td> 1</td><td>2.0</td><td>-2</td></tr>\n",
       "\t<tr><td>2.0</td><td> 0</td><td>3.5</td><td>-3</td></tr>\n",
       "\t<tr><td>1.5</td><td> 2</td><td>3.0</td><td>-3</td></tr>\n",
       "\t<tr><td>1.0</td><td> 0</td><td>3.5</td><td>-3</td></tr>\n",
       "\t<tr><td>0.5</td><td>-1</td><td>2.0</td><td>-3</td></tr>\n",
       "\t<tr><td>1.5</td><td> 1</td><td>3.0</td><td>-4</td></tr>\n",
       "\t<tr><td>2.5</td><td>-1</td><td>3.0</td><td>-2</td></tr>\n",
       "\t<tr><td>3.0</td><td> 1</td><td>1.5</td><td>-3</td></tr>\n",
       "\t<tr><td>3.5</td><td> 1</td><td>2.0</td><td>-1</td></tr>\n",
       "\t<tr><td>2.0</td><td> 0</td><td>3.0</td><td>-3</td></tr>\n",
       "\t<tr><td>2.0</td><td>-1</td><td>2.0</td><td>-4</td></tr>\n",
       "\t<tr><td>0.5</td><td> 1</td><td>2.5</td><td>-5</td></tr>\n",
       "\t<tr><td>1.0</td><td> 0</td><td>1.5</td><td>-2</td></tr>\n",
       "\t<tr><td>2.0</td><td> 0</td><td>2.5</td><td>-2</td></tr>\n",
       "</tbody>\n",
       "</table>\n"
      ],
      "text/latex": [
       "A data.frame: 14 × 4\n",
       "\\begin{tabular}{llll}\n",
       " d\\_A\\_Efisiensi & d\\_A\\_Akselerasi & d\\_B\\_Efisiensi & d\\_B\\_Akselerasi\\\\\n",
       " <dbl> & <dbl> & <dbl> & <dbl>\\\\\n",
       "\\hline\n",
       "\t 1.0 &  1 & 2.0 & -2\\\\\n",
       "\t 2.0 &  0 & 3.5 & -3\\\\\n",
       "\t 1.5 &  2 & 3.0 & -3\\\\\n",
       "\t 1.0 &  0 & 3.5 & -3\\\\\n",
       "\t 0.5 & -1 & 2.0 & -3\\\\\n",
       "\t 1.5 &  1 & 3.0 & -4\\\\\n",
       "\t 2.5 & -1 & 3.0 & -2\\\\\n",
       "\t 3.0 &  1 & 1.5 & -3\\\\\n",
       "\t 3.5 &  1 & 2.0 & -1\\\\\n",
       "\t 2.0 &  0 & 3.0 & -3\\\\\n",
       "\t 2.0 & -1 & 2.0 & -4\\\\\n",
       "\t 0.5 &  1 & 2.5 & -5\\\\\n",
       "\t 1.0 &  0 & 1.5 & -2\\\\\n",
       "\t 2.0 &  0 & 2.5 & -2\\\\\n",
       "\\end{tabular}\n"
      ],
      "text/markdown": [
       "\n",
       "A data.frame: 14 × 4\n",
       "\n",
       "| d_A_Efisiensi &lt;dbl&gt; | d_A_Akselerasi &lt;dbl&gt; | d_B_Efisiensi &lt;dbl&gt; | d_B_Akselerasi &lt;dbl&gt; |\n",
       "|---|---|---|---|\n",
       "| 1.0 |  1 | 2.0 | -2 |\n",
       "| 2.0 |  0 | 3.5 | -3 |\n",
       "| 1.5 |  2 | 3.0 | -3 |\n",
       "| 1.0 |  0 | 3.5 | -3 |\n",
       "| 0.5 | -1 | 2.0 | -3 |\n",
       "| 1.5 |  1 | 3.0 | -4 |\n",
       "| 2.5 | -1 | 3.0 | -2 |\n",
       "| 3.0 |  1 | 1.5 | -3 |\n",
       "| 3.5 |  1 | 2.0 | -1 |\n",
       "| 2.0 |  0 | 3.0 | -3 |\n",
       "| 2.0 | -1 | 2.0 | -4 |\n",
       "| 0.5 |  1 | 2.5 | -5 |\n",
       "| 1.0 |  0 | 1.5 | -2 |\n",
       "| 2.0 |  0 | 2.5 | -2 |\n",
       "\n"
      ],
      "text/plain": [
       "   d_A_Efisiensi d_A_Akselerasi d_B_Efisiensi d_B_Akselerasi\n",
       "1  1.0            1             2.0           -2            \n",
       "2  2.0            0             3.5           -3            \n",
       "3  1.5            2             3.0           -3            \n",
       "4  1.0            0             3.5           -3            \n",
       "5  0.5           -1             2.0           -3            \n",
       "6  1.5            1             3.0           -4            \n",
       "7  2.5           -1             3.0           -2            \n",
       "8  3.0            1             1.5           -3            \n",
       "9  3.5            1             2.0           -1            \n",
       "10 2.0            0             3.0           -3            \n",
       "11 2.0           -1             2.0           -4            \n",
       "12 0.5            1             2.5           -5            \n",
       "13 1.0            0             1.5           -2            \n",
       "14 2.0            0             2.5           -2            "
      ]
     },
     "metadata": {},
     "output_type": "display_data"
    }
   ],
   "source": [
    "#Diferensiasi\n",
    "d_A_Efisiensi <- A_EfisiensiDengan - A_EfisiensiTanpa\n",
    "d_A_Akselerasi <- A_AkselerasiDengan - A_AkselerasiTanpa\n",
    "\n",
    "d_B_Efisiensi <- B_EfisiensiDengan - B_EfisiensiTanpa\n",
    "d_B_Akselerasi <- B_AkselerasiDengan - B_AkselerasiTanpa\n",
    "\n",
    "diff_A <- data.frame(d_A_Efisiensi, d_A_Akselerasi)\n",
    "diff_B <- data.frame(d_B_Efisiensi, d_B_Akselerasi)\n",
    "diff_data <- data.frame(d_A_Efisiensi, d_A_Akselerasi, d_B_Efisiensi, d_B_Akselerasi)\n",
    "diff_data"
   ]
  },
  {
   "cell_type": "code",
   "execution_count": 46,
   "id": "a954632d",
   "metadata": {
    "ExecuteTime": {
     "end_time": "2022-04-10T04:49:52.252034Z",
     "start_time": "2022-04-10T04:49:52.208Z"
    }
   },
   "outputs": [],
   "source": [
    "d_A_Efisiensi <- A_EfisiensiDengan - A_EfisiensiTanpa\n",
    "d_A_Akselerasi <- A_AkselerasiDengan - A_AkselerasiTanpa\n",
    "\n",
    "d_B_Efisiensi <- B_EfisiensiDengan - B_EfisiensiTanpa\n",
    "d_B_Akselerasi <- B_AkselerasiDengan - B_AkselerasiTanpa\n",
    "\n",
    "dbar_A_Efisiensi <- d_A_Efisiensi/14\n",
    "dbar_B_Efisiensi <- d_B_Efisiensi/14\n",
    "dbar_A_Akselerasi <- d_A_Akselerasi/14\n",
    "dbar_B_Akselerasi <- d_B_Akselerasi/14"
   ]
  },
  {
   "cell_type": "raw",
   "id": "6cdad95b",
   "metadata": {
    "ExecuteTime": {
     "end_time": "2022-04-10T04:29:26.183521Z",
     "start_time": "2022-04-10T04:29:26.139Z"
    }
   },
   "source": [
    "#Diferensiasi diperlukan hanya jika Paired\n",
    "\n",
    "d_Efisiensi <- d_A_Efisiensi - d_B_Efisiensi\n",
    "d_Akselerasi <- d_A_Akselerasi - d_B_Akselerasi\n",
    "\n",
    "diff_data_AB <- data.frame(d_Efisiensi, d_Akselerasi)\n",
    "diff_data_AB "
   ]
  },
  {
   "cell_type": "code",
   "execution_count": 21,
   "id": "e301ae2a",
   "metadata": {
    "ExecuteTime": {
     "end_time": "2022-04-10T04:17:32.069364Z",
     "start_time": "2022-04-10T04:17:32.035Z"
    }
   },
   "outputs": [
    {
     "data": {
      "text/html": [
       "<style>\n",
       ".dl-inline {width: auto; margin:0; padding: 0}\n",
       ".dl-inline>dt, .dl-inline>dd {float: none; width: auto; display: inline-block}\n",
       ".dl-inline>dt::after {content: \":\\0020\"; padding-right: .5ex}\n",
       ".dl-inline>dt:not(:first-of-type) {padding-left: .5ex}\n",
       "</style><dl class=dl-inline><dt>d_A_Efisiensi</dt><dd>1.71428571428571</dd><dt>d_A_Akselerasi</dt><dd>0.285714285714286</dd></dl>\n"
      ],
      "text/latex": [
       "\\begin{description*}\n",
       "\\item[d\\textbackslash{}\\_A\\textbackslash{}\\_Efisiensi] 1.71428571428571\n",
       "\\item[d\\textbackslash{}\\_A\\textbackslash{}\\_Akselerasi] 0.285714285714286\n",
       "\\end{description*}\n"
      ],
      "text/markdown": [
       "d_A_Efisiensi\n",
       ":   1.71428571428571d_A_Akselerasi\n",
       ":   0.285714285714286\n",
       "\n"
      ],
      "text/plain": [
       " d_A_Efisiensi d_A_Akselerasi \n",
       "     1.7142857      0.2857143 "
      ]
     },
     "metadata": {},
     "output_type": "display_data"
    }
   ],
   "source": [
    "dbar_A <- colMeans(diff_A)\n",
    "dbar_A"
   ]
  },
  {
   "cell_type": "code",
   "execution_count": 22,
   "id": "4ee84f00",
   "metadata": {
    "ExecuteTime": {
     "end_time": "2022-04-10T04:17:47.707434Z",
     "start_time": "2022-04-10T04:17:47.671Z"
    }
   },
   "outputs": [
    {
     "data": {
      "text/html": [
       "<style>\n",
       ".dl-inline {width: auto; margin:0; padding: 0}\n",
       ".dl-inline>dt, .dl-inline>dd {float: none; width: auto; display: inline-block}\n",
       ".dl-inline>dt::after {content: \":\\0020\"; padding-right: .5ex}\n",
       ".dl-inline>dt:not(:first-of-type) {padding-left: .5ex}\n",
       "</style><dl class=dl-inline><dt>d_B_Efisiensi</dt><dd>2.5</dd><dt>d_B_Akselerasi</dt><dd>-2.85714285714286</dd></dl>\n"
      ],
      "text/latex": [
       "\\begin{description*}\n",
       "\\item[d\\textbackslash{}\\_B\\textbackslash{}\\_Efisiensi] 2.5\n",
       "\\item[d\\textbackslash{}\\_B\\textbackslash{}\\_Akselerasi] -2.85714285714286\n",
       "\\end{description*}\n"
      ],
      "text/markdown": [
       "d_B_Efisiensi\n",
       ":   2.5d_B_Akselerasi\n",
       ":   -2.85714285714286\n",
       "\n"
      ],
      "text/plain": [
       " d_B_Efisiensi d_B_Akselerasi \n",
       "      2.500000      -2.857143 "
      ]
     },
     "metadata": {},
     "output_type": "display_data"
    }
   ],
   "source": [
    "dbar_B <- colMeans(diff_B)\n",
    "dbar_B"
   ]
  },
  {
   "cell_type": "code",
   "execution_count": 15,
   "id": "b3fad32b",
   "metadata": {
    "ExecuteTime": {
     "end_time": "2022-04-10T04:12:32.365864Z",
     "start_time": "2022-04-10T04:12:32.331Z"
    }
   },
   "outputs": [
    {
     "data": {
      "text/html": [
       "<table class=\"dataframe\">\n",
       "<caption>A matrix: 2 × 2 of type dbl</caption>\n",
       "<thead>\n",
       "\t<tr><th></th><th scope=col>d_A_Efisiensi</th><th scope=col>d_A_Akselerasi</th></tr>\n",
       "</thead>\n",
       "<tbody>\n",
       "\t<tr><th scope=row>d_A_Efisiensi</th><td>0.79670330</td><td>0.04945055</td></tr>\n",
       "\t<tr><th scope=row>d_A_Akselerasi</th><td>0.04945055</td><td>0.83516484</td></tr>\n",
       "</tbody>\n",
       "</table>\n"
      ],
      "text/latex": [
       "A matrix: 2 × 2 of type dbl\n",
       "\\begin{tabular}{r|ll}\n",
       "  & d\\_A\\_Efisiensi & d\\_A\\_Akselerasi\\\\\n",
       "\\hline\n",
       "\td\\_A\\_Efisiensi & 0.79670330 & 0.04945055\\\\\n",
       "\td\\_A\\_Akselerasi & 0.04945055 & 0.83516484\\\\\n",
       "\\end{tabular}\n"
      ],
      "text/markdown": [
       "\n",
       "A matrix: 2 × 2 of type dbl\n",
       "\n",
       "| <!--/--> | d_A_Efisiensi | d_A_Akselerasi |\n",
       "|---|---|---|\n",
       "| d_A_Efisiensi | 0.79670330 | 0.04945055 |\n",
       "| d_A_Akselerasi | 0.04945055 | 0.83516484 |\n",
       "\n"
      ],
      "text/plain": [
       "               d_A_Efisiensi d_A_Akselerasi\n",
       "d_A_Efisiensi  0.79670330    0.04945055    \n",
       "d_A_Akselerasi 0.04945055    0.83516484    "
      ]
     },
     "metadata": {},
     "output_type": "display_data"
    }
   ],
   "source": [
    "S_A <- cov(diff_A)\n",
    "S_A"
   ]
  },
  {
   "cell_type": "code",
   "execution_count": 16,
   "id": "3ab36375",
   "metadata": {
    "ExecuteTime": {
     "end_time": "2022-04-10T04:12:33.043102Z",
     "start_time": "2022-04-10T04:12:33.010Z"
    }
   },
   "outputs": [
    {
     "data": {
      "text/html": [
       "<table class=\"dataframe\">\n",
       "<caption>A matrix: 2 × 2 of type dbl</caption>\n",
       "<thead>\n",
       "\t<tr><th></th><th scope=col>d_B_Efisiensi</th><th scope=col>d_B_Akselerasi</th></tr>\n",
       "</thead>\n",
       "<tbody>\n",
       "\t<tr><th scope=row>d_B_Efisiensi</th><td> 0.4615385</td><td>-0.1538462</td></tr>\n",
       "\t<tr><th scope=row>d_B_Akselerasi</th><td>-0.1538462</td><td> 1.0549451</td></tr>\n",
       "</tbody>\n",
       "</table>\n"
      ],
      "text/latex": [
       "A matrix: 2 × 2 of type dbl\n",
       "\\begin{tabular}{r|ll}\n",
       "  & d\\_B\\_Efisiensi & d\\_B\\_Akselerasi\\\\\n",
       "\\hline\n",
       "\td\\_B\\_Efisiensi &  0.4615385 & -0.1538462\\\\\n",
       "\td\\_B\\_Akselerasi & -0.1538462 &  1.0549451\\\\\n",
       "\\end{tabular}\n"
      ],
      "text/markdown": [
       "\n",
       "A matrix: 2 × 2 of type dbl\n",
       "\n",
       "| <!--/--> | d_B_Efisiensi | d_B_Akselerasi |\n",
       "|---|---|---|\n",
       "| d_B_Efisiensi |  0.4615385 | -0.1538462 |\n",
       "| d_B_Akselerasi | -0.1538462 |  1.0549451 |\n",
       "\n"
      ],
      "text/plain": [
       "               d_B_Efisiensi d_B_Akselerasi\n",
       "d_B_Efisiensi   0.4615385    -0.1538462    \n",
       "d_B_Akselerasi -0.1538462     1.0549451    "
      ]
     },
     "metadata": {},
     "output_type": "display_data"
    }
   ],
   "source": [
    "S_B <- cov(diff_B)\n",
    "S_B"
   ]
  },
  {
   "cell_type": "code",
   "execution_count": 24,
   "id": "9a421200",
   "metadata": {
    "ExecuteTime": {
     "end_time": "2022-04-10T04:18:59.233325Z",
     "start_time": "2022-04-10T04:18:59.192Z"
    }
   },
   "outputs": [
    {
     "data": {
      "text/html": [
       "<table class=\"dataframe\">\n",
       "<caption>A matrix: 2 × 2 of type dbl</caption>\n",
       "<thead>\n",
       "\t<tr><th></th><th scope=col>d_A_Efisiensi</th><th scope=col>d_A_Akselerasi</th></tr>\n",
       "</thead>\n",
       "<tbody>\n",
       "\t<tr><th scope=row>d_A_Efisiensi</th><td> 0.6291209</td><td>-0.0521978</td></tr>\n",
       "\t<tr><th scope=row>d_A_Akselerasi</th><td>-0.0521978</td><td> 0.9450549</td></tr>\n",
       "</tbody>\n",
       "</table>\n"
      ],
      "text/latex": [
       "A matrix: 2 × 2 of type dbl\n",
       "\\begin{tabular}{r|ll}\n",
       "  & d\\_A\\_Efisiensi & d\\_A\\_Akselerasi\\\\\n",
       "\\hline\n",
       "\td\\_A\\_Efisiensi &  0.6291209 & -0.0521978\\\\\n",
       "\td\\_A\\_Akselerasi & -0.0521978 &  0.9450549\\\\\n",
       "\\end{tabular}\n"
      ],
      "text/markdown": [
       "\n",
       "A matrix: 2 × 2 of type dbl\n",
       "\n",
       "| <!--/--> | d_A_Efisiensi | d_A_Akselerasi |\n",
       "|---|---|---|\n",
       "| d_A_Efisiensi |  0.6291209 | -0.0521978 |\n",
       "| d_A_Akselerasi | -0.0521978 |  0.9450549 |\n",
       "\n"
      ],
      "text/plain": [
       "               d_A_Efisiensi d_A_Akselerasi\n",
       "d_A_Efisiensi   0.6291209    -0.0521978    \n",
       "d_A_Akselerasi -0.0521978     0.9450549    "
      ]
     },
     "metadata": {},
     "output_type": "display_data"
    }
   ],
   "source": [
    "n1 <- 14\n",
    "n2 <- 14\n",
    "S_pooled <- ((n1 - 1)/(n1 + n2 -2) * S_A) + ((n2 - 1)/(n1 + n2 -2) * S_B)\n",
    "S_pooled"
   ]
  },
  {
   "cell_type": "code",
   "execution_count": 25,
   "id": "b5574100",
   "metadata": {
    "ExecuteTime": {
     "end_time": "2022-04-10T04:22:26.762458Z",
     "start_time": "2022-04-10T04:22:26.725Z"
    }
   },
   "outputs": [
    {
     "data": {
      "text/html": [
       "<table class=\"dataframe\">\n",
       "<caption>A matrix: 1 × 1 of type dbl</caption>\n",
       "<tbody>\n",
       "\t<tr><td>77.35112</td></tr>\n",
       "</tbody>\n",
       "</table>\n"
      ],
      "text/latex": [
       "A matrix: 1 × 1 of type dbl\n",
       "\\begin{tabular}{l}\n",
       "\t 77.35112\\\\\n",
       "\\end{tabular}\n"
      ],
      "text/markdown": [
       "\n",
       "A matrix: 1 × 1 of type dbl\n",
       "\n",
       "| 77.35112 |\n",
       "\n"
      ],
      "text/plain": [
       "     [,1]    \n",
       "[1,] 77.35112"
      ]
     },
     "metadata": {},
     "output_type": "display_data"
    }
   ],
   "source": [
    "mu <- c(0,0)\n",
    "T_square <- t((dbar_A - dbar_B) - mu) %*% solve(((1/n1) + (1/n2)) * S_pooled) %*% ((dbar_A - dbar_B) - mu)\n",
    "T_square"
   ]
  },
  {
   "cell_type": "code",
   "execution_count": 35,
   "id": "48d86b85",
   "metadata": {
    "ExecuteTime": {
     "end_time": "2022-04-10T04:25:55.795500Z",
     "start_time": "2022-04-10T04:25:55.763Z"
    }
   },
   "outputs": [
    {
     "data": {
      "text/html": [
       "<table class=\"dataframe\">\n",
       "<caption>A matrix: 1 × 1 of type dbl</caption>\n",
       "<tbody>\n",
       "\t<tr><td>7.041195</td></tr>\n",
       "</tbody>\n",
       "</table>\n"
      ],
      "text/latex": [
       "A matrix: 1 × 1 of type dbl\n",
       "\\begin{tabular}{l}\n",
       "\t 7.041195\\\\\n",
       "\\end{tabular}\n"
      ],
      "text/markdown": [
       "\n",
       "A matrix: 1 × 1 of type dbl\n",
       "\n",
       "| 7.041195 |\n",
       "\n"
      ],
      "text/plain": [
       "     [,1]    \n",
       "[1,] 7.041195"
      ]
     },
     "metadata": {},
     "output_type": "display_data"
    }
   ],
   "source": [
    "p <- 2\n",
    "alpha <- 0.05 \n",
    "Ftable <- qf(1 - alpha, df1 = p, df2 = n1 + n2 - p - 1) %*% (n1 + n2 - 2) %*% p / (n1 + n2 - p - 1)\n",
    "Ftable"
   ]
  },
  {
   "cell_type": "raw",
   "id": "83abb4a3",
   "metadata": {},
   "source": [
    "77.35112 > 7.041195, Tolak H0"
   ]
  },
  {
   "cell_type": "markdown",
   "id": "f5ce3520",
   "metadata": {},
   "source": [
    "## Confidence Interval Simultaneous"
   ]
  },
  {
   "cell_type": "code",
   "execution_count": null,
   "id": "4dbc41ba",
   "metadata": {},
   "outputs": [],
   "source": []
  }
 ],
 "metadata": {
  "kernelspec": {
   "display_name": "R",
   "language": "R",
   "name": "ir"
  },
  "language_info": {
   "codemirror_mode": "r",
   "file_extension": ".r",
   "mimetype": "text/x-r-source",
   "name": "R",
   "pygments_lexer": "r",
   "version": "4.0.5"
  },
  "toc": {
   "base_numbering": 1,
   "nav_menu": {},
   "number_sections": true,
   "sideBar": true,
   "skip_h1_title": false,
   "title_cell": "Table of Contents",
   "title_sidebar": "Contents",
   "toc_cell": false,
   "toc_position": {},
   "toc_section_display": true,
   "toc_window_display": false
  }
 },
 "nbformat": 4,
 "nbformat_minor": 5
}
