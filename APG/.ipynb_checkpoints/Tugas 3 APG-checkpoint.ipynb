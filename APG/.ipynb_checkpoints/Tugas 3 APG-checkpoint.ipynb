{
 "cells": [
  {
   "cell_type": "code",
   "execution_count": 10,
   "id": "1b63b40f",
   "metadata": {
    "ExecuteTime": {
     "end_time": "2022-03-04T03:59:36.247682Z",
     "start_time": "2022-03-04T03:59:36.097Z"
    }
   },
   "outputs": [
    {
     "name": "stderr",
     "output_type": "stream",
     "text": [
      "Warning message:\n",
      "\"package 'readxl' was built under R version 3.6.3\""
     ]
    }
   ],
   "source": [
    "library('MVN')\n",
    "library('mvoutlier')\n",
    "library('evd')\n",
    "library('readxl')"
   ]
  },
  {
   "cell_type": "code",
   "execution_count": 43,
   "id": "17e59bfc",
   "metadata": {
    "ExecuteTime": {
     "end_time": "2022-03-04T04:15:20.353728Z",
     "start_time": "2022-03-04T04:15:20.245Z"
    }
   },
   "outputs": [
    {
     "name": "stderr",
     "output_type": "stream",
     "text": [
      "Warning message:\n",
      "\"package 'RVAideMemoire' was built under R version 4.0.5\"*** Package RVAideMemoire v 0.9-81-2 ***\n"
     ]
    }
   ],
   "source": [
    "library('RVAideMemoire')"
   ]
  },
  {
   "cell_type": "code",
   "execution_count": 11,
   "id": "37539f1d",
   "metadata": {
    "ExecuteTime": {
     "end_time": "2022-03-04T03:59:50.541496Z",
     "start_time": "2022-03-04T03:59:49.837Z"
    },
    "scrolled": true
   },
   "outputs": [
    {
     "data": {
      "text/html": [
       "<table>\n",
       "<thead><tr><th scope=col>Fuel(x1)</th><th scope=col>Repair(x2)</th><th scope=col>Capital(x3)</th></tr></thead>\n",
       "<tbody>\n",
       "\t<tr><td>16.44</td><td>12.43</td><td>11.23</td></tr>\n",
       "\t<tr><td> 7.19</td><td> 2.70</td><td> 3.92</td></tr>\n",
       "\t<tr><td> 9.92</td><td> 1.35</td><td> 9.75</td></tr>\n",
       "\t<tr><td> 4.24</td><td> 5.78</td><td> 7.78</td></tr>\n",
       "\t<tr><td>11.20</td><td> 5.05</td><td>10.67</td></tr>\n",
       "\t<tr><td>14.25</td><td> 5.78</td><td> 9.88</td></tr>\n",
       "\t<tr><td>13.50</td><td>10.98</td><td>10.60</td></tr>\n",
       "\t<tr><td>13.32</td><td>14.27</td><td> 9.45</td></tr>\n",
       "\t<tr><td>29.11</td><td>15.09</td><td> 3.28</td></tr>\n",
       "\t<tr><td>12.68</td><td> 7.61</td><td>10.23</td></tr>\n",
       "\t<tr><td> 7.51</td><td> 5.80</td><td> 8.13</td></tr>\n",
       "\t<tr><td> 9.90</td><td> 3.63</td><td> 9.13</td></tr>\n",
       "\t<tr><td>10.25</td><td> 5.07</td><td>10.17</td></tr>\n",
       "\t<tr><td>11.11</td><td> 6.15</td><td> 7.61</td></tr>\n",
       "\t<tr><td>12.17</td><td>14.26</td><td>14.39</td></tr>\n",
       "\t<tr><td>10.24</td><td> 2.59</td><td> 6.09</td></tr>\n",
       "\t<tr><td>10.18</td><td> 6.05</td><td>12.14</td></tr>\n",
       "\t<tr><td> 8.88</td><td> 2.70</td><td>12.23</td></tr>\n",
       "\t<tr><td>12.34</td><td> 7.73</td><td>11.68</td></tr>\n",
       "\t<tr><td> 8.51</td><td>14.02</td><td>12.01</td></tr>\n",
       "\t<tr><td>26.16</td><td>17.44</td><td>16.89</td></tr>\n",
       "\t<tr><td>12.95</td><td> 8.24</td><td> 7.18</td></tr>\n",
       "\t<tr><td>16.93</td><td>13.37</td><td>17.59</td></tr>\n",
       "\t<tr><td>14.70</td><td>10.78</td><td>14.58</td></tr>\n",
       "\t<tr><td>10.32</td><td> 5.16</td><td>17.00</td></tr>\n",
       "</tbody>\n",
       "</table>\n"
      ],
      "text/latex": [
       "\\begin{tabular}{r|lll}\n",
       " Fuel(x1) & Repair(x2) & Capital(x3)\\\\\n",
       "\\hline\n",
       "\t 16.44 & 12.43 & 11.23\\\\\n",
       "\t  7.19 &  2.70 &  3.92\\\\\n",
       "\t  9.92 &  1.35 &  9.75\\\\\n",
       "\t  4.24 &  5.78 &  7.78\\\\\n",
       "\t 11.20 &  5.05 & 10.67\\\\\n",
       "\t 14.25 &  5.78 &  9.88\\\\\n",
       "\t 13.50 & 10.98 & 10.60\\\\\n",
       "\t 13.32 & 14.27 &  9.45\\\\\n",
       "\t 29.11 & 15.09 &  3.28\\\\\n",
       "\t 12.68 &  7.61 & 10.23\\\\\n",
       "\t  7.51 &  5.80 &  8.13\\\\\n",
       "\t  9.90 &  3.63 &  9.13\\\\\n",
       "\t 10.25 &  5.07 & 10.17\\\\\n",
       "\t 11.11 &  6.15 &  7.61\\\\\n",
       "\t 12.17 & 14.26 & 14.39\\\\\n",
       "\t 10.24 &  2.59 &  6.09\\\\\n",
       "\t 10.18 &  6.05 & 12.14\\\\\n",
       "\t  8.88 &  2.70 & 12.23\\\\\n",
       "\t 12.34 &  7.73 & 11.68\\\\\n",
       "\t  8.51 & 14.02 & 12.01\\\\\n",
       "\t 26.16 & 17.44 & 16.89\\\\\n",
       "\t 12.95 &  8.24 &  7.18\\\\\n",
       "\t 16.93 & 13.37 & 17.59\\\\\n",
       "\t 14.70 & 10.78 & 14.58\\\\\n",
       "\t 10.32 &  5.16 & 17.00\\\\\n",
       "\\end{tabular}\n"
      ],
      "text/markdown": [
       "\n",
       "| Fuel(x1) | Repair(x2) | Capital(x3) |\n",
       "|---|---|---|\n",
       "| 16.44 | 12.43 | 11.23 |\n",
       "|  7.19 |  2.70 |  3.92 |\n",
       "|  9.92 |  1.35 |  9.75 |\n",
       "|  4.24 |  5.78 |  7.78 |\n",
       "| 11.20 |  5.05 | 10.67 |\n",
       "| 14.25 |  5.78 |  9.88 |\n",
       "| 13.50 | 10.98 | 10.60 |\n",
       "| 13.32 | 14.27 |  9.45 |\n",
       "| 29.11 | 15.09 |  3.28 |\n",
       "| 12.68 |  7.61 | 10.23 |\n",
       "|  7.51 |  5.80 |  8.13 |\n",
       "|  9.90 |  3.63 |  9.13 |\n",
       "| 10.25 |  5.07 | 10.17 |\n",
       "| 11.11 |  6.15 |  7.61 |\n",
       "| 12.17 | 14.26 | 14.39 |\n",
       "| 10.24 |  2.59 |  6.09 |\n",
       "| 10.18 |  6.05 | 12.14 |\n",
       "|  8.88 |  2.70 | 12.23 |\n",
       "| 12.34 |  7.73 | 11.68 |\n",
       "|  8.51 | 14.02 | 12.01 |\n",
       "| 26.16 | 17.44 | 16.89 |\n",
       "| 12.95 |  8.24 |  7.18 |\n",
       "| 16.93 | 13.37 | 17.59 |\n",
       "| 14.70 | 10.78 | 14.58 |\n",
       "| 10.32 |  5.16 | 17.00 |\n",
       "\n"
      ],
      "text/plain": [
       "   Fuel(x1) Repair(x2) Capital(x3)\n",
       "1  16.44    12.43      11.23      \n",
       "2   7.19     2.70       3.92      \n",
       "3   9.92     1.35       9.75      \n",
       "4   4.24     5.78       7.78      \n",
       "5  11.20     5.05      10.67      \n",
       "6  14.25     5.78       9.88      \n",
       "7  13.50    10.98      10.60      \n",
       "8  13.32    14.27       9.45      \n",
       "9  29.11    15.09       3.28      \n",
       "10 12.68     7.61      10.23      \n",
       "11  7.51     5.80       8.13      \n",
       "12  9.90     3.63       9.13      \n",
       "13 10.25     5.07      10.17      \n",
       "14 11.11     6.15       7.61      \n",
       "15 12.17    14.26      14.39      \n",
       "16 10.24     2.59       6.09      \n",
       "17 10.18     6.05      12.14      \n",
       "18  8.88     2.70      12.23      \n",
       "19 12.34     7.73      11.68      \n",
       "20  8.51    14.02      12.01      \n",
       "21 26.16    17.44      16.89      \n",
       "22 12.95     8.24       7.18      \n",
       "23 16.93    13.37      17.59      \n",
       "24 14.70    10.78      14.58      \n",
       "25 10.32     5.16      17.00      "
      ]
     },
     "metadata": {},
     "output_type": "display_data"
    }
   ],
   "source": [
    "data <- read_excel(\"Tugas3_APG.xlsx\")\n",
    "data"
   ]
  },
  {
   "cell_type": "code",
   "execution_count": 13,
   "id": "47531e9a",
   "metadata": {
    "ExecuteTime": {
     "end_time": "2022-03-04T04:00:39.099722Z",
     "start_time": "2022-03-04T04:00:38.965Z"
    }
   },
   "outputs": [
    {
     "data": {
      "image/png": "[encoded data removed]",
      "text/plain": [
       "plot without title"
      ]
     },
     "metadata": {},
     "output_type": "display_data"
    }
   ],
   "source": [
    "## Deteksi Outlier dengan Beberapa Metode\n",
    "\n",
    "### Scatter Plot Bivariate\n",
    "\n",
    "pairs(data)"
   ]
  },
  {
   "cell_type": "code",
   "execution_count": 14,
   "id": "5cca15d0",
   "metadata": {
    "ExecuteTime": {
     "end_time": "2022-03-04T04:00:56.967230Z",
     "start_time": "2022-03-04T04:00:56.798Z"
    }
   },
   "outputs": [
    {
     "data": {
      "image/png": "[encoded data removed]",
      "text/plain": [
       "Plot with title \"Chi Plot\""
      ]
     },
     "metadata": {},
     "output_type": "display_data"
    },
    {
     "data": {
      "image/png": "[encoded data removed]",
      "text/plain": [
       "Plot with title \"Chi Bar Plot\""
      ]
     },
     "metadata": {},
     "output_type": "display_data"
    }
   ],
   "source": [
    "### Chi-square Plot\n",
    "\n",
    "chiplot(data)"
   ]
  },
  {
   "cell_type": "code",
   "execution_count": 16,
   "id": "f90064ef",
   "metadata": {
    "ExecuteTime": {
     "end_time": "2022-03-04T04:01:12.835761Z",
     "start_time": "2022-03-04T04:01:12.709Z"
    }
   },
   "outputs": [
    {
     "name": "stdout",
     "output_type": "stream",
     "text": [
      "Remove outliers with left-click, stop with right-click on plotting device\n"
     ]
    },
    {
     "data": {
      "text/plain": [
       "$outliers\n",
       "NULL\n"
      ]
     },
     "metadata": {},
     "output_type": "display_data"
    },
    {
     "data": {
      "image/png": "[encoded data removed]",
      "text/plain": [
       "Plot with title \"Chi^2-Plot\""
      ]
     },
     "metadata": {},
     "output_type": "display_data"
    }
   ],
   "source": [
    "chisq.plot(data)"
   ]
  },
  {
   "cell_type": "code",
   "execution_count": 33,
   "id": "2517a772",
   "metadata": {
    "ExecuteTime": {
     "end_time": "2022-03-04T04:11:57.468030Z",
     "start_time": "2022-03-04T04:11:57.377Z"
    }
   },
   "outputs": [
    {
     "data": {
      "image/png": "[encoded data removed]",
      "text/plain": [
       "Plot with title \"Normal Q-Q Plot\""
      ]
     },
     "metadata": {},
     "output_type": "display_data"
    }
   ],
   "source": [
    "### Q-Q Plot Univariate\n",
    "\n",
    "qqnorm(data$'Fuel(x1)')"
   ]
  },
  {
   "cell_type": "code",
   "execution_count": 34,
   "id": "f69cbd51",
   "metadata": {
    "ExecuteTime": {
     "end_time": "2022-03-04T04:12:41.253872Z",
     "start_time": "2022-03-04T04:12:41.155Z"
    }
   },
   "outputs": [
    {
     "data": {
      "image/png": "[encoded data removed]",
      "text/plain": [
       "Plot with title \"Normal Q-Q Plot\""
      ]
     },
     "metadata": {},
     "output_type": "display_data"
    }
   ],
   "source": [
    "qqnorm(data$'Repair(x2)')"
   ]
  },
  {
   "cell_type": "code",
   "execution_count": 35,
   "id": "40f59807",
   "metadata": {
    "ExecuteTime": {
     "end_time": "2022-03-04T04:12:58.608785Z",
     "start_time": "2022-03-04T04:12:58.490Z"
    }
   },
   "outputs": [
    {
     "data": {
      "image/png": "[encoded data removed]",
      "text/plain": [
       "Plot with title \"Normal Q-Q Plot\""
      ]
     },
     "metadata": {},
     "output_type": "display_data"
    }
   ],
   "source": [
    "qqnorm(data$'Capital(x3)')"
   ]
  },
  {
   "cell_type": "code",
   "execution_count": 36,
   "id": "2ef9e0ad",
   "metadata": {
    "ExecuteTime": {
     "end_time": "2022-03-04T04:13:06.776587Z",
     "start_time": "2022-03-04T04:13:06.738Z"
    }
   },
   "outputs": [],
   "source": [
    "## Uji Multivariate Normal dengan beberapa metode\n",
    "### Mardia’s MVN test:"
   ]
  },
  {
   "cell_type": "code",
   "execution_count": 38,
   "id": "339af88e",
   "metadata": {
    "ExecuteTime": {
     "end_time": "2022-03-04T04:13:17.421997Z",
     "start_time": "2022-03-04T04:13:17.178Z"
    }
   },
   "outputs": [
    {
     "data": {
      "text/html": [
       "<dl>\n",
       "\t<dt>$multivariateNormality</dt>\n",
       "\t\t<dd><table>\n",
       "<thead><tr><th scope=col>Test</th><th scope=col>Statistic</th><th scope=col>p value</th><th scope=col>Result</th></tr></thead>\n",
       "<tbody>\n",
       "\t<tr><td>Mardia Skewness     </td><td>31.0703714747092    </td><td>0.000571228046555686</td><td>NO                  </td></tr>\n",
       "\t<tr><td>Mardia Kurtosis     </td><td>2.60029957463255    </td><td>0.00931424099011013 </td><td>NO                  </td></tr>\n",
       "\t<tr><td>MVN                 </td><td>NA                  </td><td>NA                  </td><td>NO                  </td></tr>\n",
       "</tbody>\n",
       "</table>\n",
       "</dd>\n",
       "\t<dt>$univariateNormality</dt>\n",
       "\t\t<dd><table>\n",
       "<thead><tr><th scope=col>Test</th><th scope=col>Variable</th><th scope=col>Statistic</th><th scope=col>p value</th><th scope=col>Normality</th></tr></thead>\n",
       "<tbody>\n",
       "\t<tr><td>Anderson-Darling</td><td> Fuel(x1)       </td><td>   1.4744       </td><td>   0.0006       </td><td>   NO           </td></tr>\n",
       "\t<tr><td>Anderson-Darling</td><td>Repair(x2)      </td><td>   0.7740       </td><td>   0.0383       </td><td>   NO           </td></tr>\n",
       "\t<tr><td>Anderson-Darling</td><td>Capital(x3)     </td><td>   0.3049       </td><td>   0.5434       </td><td>   YES          </td></tr>\n",
       "</tbody>\n",
       "</table>\n",
       "</dd>\n",
       "\t<dt>$Descriptives</dt>\n",
       "\t\t<dd><table>\n",
       "<thead><tr><th></th><th scope=col>n</th><th scope=col>Mean</th><th scope=col>Std.Dev</th><th scope=col>Median</th><th scope=col>Min</th><th scope=col>Max</th><th scope=col>25th</th><th scope=col>75th</th><th scope=col>Skew</th><th scope=col>Kurtosis</th></tr></thead>\n",
       "<tbody>\n",
       "\t<tr><th scope=row>Fuel(x1)</th><td>25        </td><td>12.5600   </td><td>5.382000  </td><td>11.20     </td><td>4.24      </td><td>29.11     </td><td>9.92      </td><td>13.50     </td><td>1.5749453 </td><td> 2.5684509</td></tr>\n",
       "\t<tr><th scope=row>Repair(x2)</th><td>25        </td><td> 8.1612   </td><td>4.631722  </td><td> 6.15     </td><td>1.35      </td><td>17.44     </td><td>5.07      </td><td>12.43     </td><td>0.4003681 </td><td>-1.2126908</td></tr>\n",
       "\t<tr><th scope=row>Capital(x3)</th><td>25        </td><td>10.5444   </td><td>3.687688  </td><td>10.23     </td><td>3.28      </td><td>17.59     </td><td>8.13      </td><td>12.14     </td><td>0.1154018 </td><td>-0.4623851</td></tr>\n",
       "</tbody>\n",
       "</table>\n",
       "</dd>\n",
       "\t<dt>$multivariateOutliers</dt>\n",
       "\t\t<dd>NULL</dd>\n",
       "</dl>\n"
      ],
      "text/latex": [
       "\\begin{description}\n",
       "\\item[\\$multivariateNormality] \\begin{tabular}{r|llll}\n",
       " Test & Statistic & p value & Result\\\\\n",
       "\\hline\n",
       "\t Mardia Skewness      & 31.0703714747092     & 0.000571228046555686 & NO                  \\\\\n",
       "\t Mardia Kurtosis      & 2.60029957463255     & 0.00931424099011013  & NO                  \\\\\n",
       "\t MVN                  & NA                   & NA                   & NO                  \\\\\n",
       "\\end{tabular}\n",
       "\n",
       "\\item[\\$univariateNormality] \\begin{tabular}{r|lllll}\n",
       " Test & Variable & Statistic & p value & Normality\\\\\n",
       "\\hline\n",
       "\t Anderson-Darling &  Fuel(x1)        &    1.4744        &    0.0006        &    NO           \\\\\n",
       "\t Anderson-Darling & Repair(x2)       &    0.7740        &    0.0383        &    NO           \\\\\n",
       "\t Anderson-Darling & Capital(x3)      &    0.3049        &    0.5434        &    YES          \\\\\n",
       "\\end{tabular}\n",
       "\n",
       "\\item[\\$Descriptives] \\begin{tabular}{r|llllllllll}\n",
       "  & n & Mean & Std.Dev & Median & Min & Max & 25th & 75th & Skew & Kurtosis\\\\\n",
       "\\hline\n",
       "\tFuel(x1) & 25         & 12.5600    & 5.382000   & 11.20      & 4.24       & 29.11      & 9.92       & 13.50      & 1.5749453  &  2.5684509\\\\\n",
       "\tRepair(x2) & 25         &  8.1612    & 4.631722   &  6.15      & 1.35       & 17.44      & 5.07       & 12.43      & 0.4003681  & -1.2126908\\\\\n",
       "\tCapital(x3) & 25         & 10.5444    & 3.687688   & 10.23      & 3.28       & 17.59      & 8.13       & 12.14      & 0.1154018  & -0.4623851\\\\\n",
       "\\end{tabular}\n",
       "\n",
       "\\item[\\$multivariateOutliers] NULL\n",
       "\\end{description}\n"
      ],
      "text/markdown": [
       "$multivariateNormality\n",
       ":   \n",
       "| Test | Statistic | p value | Result |\n",
       "|---|---|---|---|\n",
       "| Mardia Skewness      | 31.0703714747092     | 0.000571228046555686 | NO                   |\n",
       "| Mardia Kurtosis      | 2.60029957463255     | 0.00931424099011013  | NO                   |\n",
       "| MVN                  | NA                   | NA                   | NO                   |\n",
       "\n",
       "\n",
       "$univariateNormality\n",
       ":   \n",
       "| Test | Variable | Statistic | p value | Normality |\n",
       "|---|---|---|---|---|\n",
       "| Anderson-Darling |  Fuel(x1)        |    1.4744        |    0.0006        |    NO            |\n",
       "| Anderson-Darling | Repair(x2)       |    0.7740        |    0.0383        |    NO            |\n",
       "| Anderson-Darling | Capital(x3)      |    0.3049        |    0.5434        |    YES           |\n",
       "\n",
       "\n",
       "$Descriptives\n",
       ":   \n",
       "| <!--/--> | n | Mean | Std.Dev | Median | Min | Max | 25th | 75th | Skew | Kurtosis |\n",
       "|---|---|---|---|---|---|---|---|---|---|---|\n",
       "| Fuel(x1) | 25         | 12.5600    | 5.382000   | 11.20      | 4.24       | 29.11      | 9.92       | 13.50      | 1.5749453  |  2.5684509 |\n",
       "| Repair(x2) | 25         |  8.1612    | 4.631722   |  6.15      | 1.35       | 17.44      | 5.07       | 12.43      | 0.4003681  | -1.2126908 |\n",
       "| Capital(x3) | 25         | 10.5444    | 3.687688   | 10.23      | 3.28       | 17.59      | 8.13       | 12.14      | 0.1154018  | -0.4623851 |\n",
       "\n",
       "\n",
       "$multivariateOutliers\n",
       ":   NULL\n",
       "\n",
       "\n"
      ],
      "text/plain": [
       "$multivariateNormality\n",
       "             Test        Statistic              p value Result\n",
       "1 Mardia Skewness 31.0703714747092 0.000571228046555686     NO\n",
       "2 Mardia Kurtosis 2.60029957463255  0.00931424099011013     NO\n",
       "3             MVN             <NA>                 <NA>     NO\n",
       "\n",
       "$univariateNormality\n",
       "              Test    Variable Statistic   p value Normality\n",
       "1 Anderson-Darling  Fuel(x1)      1.4744    0.0006    NO    \n",
       "2 Anderson-Darling Repair(x2)     0.7740    0.0383    NO    \n",
       "3 Anderson-Darling Capital(x3)    0.3049    0.5434    YES   \n",
       "\n",
       "$Descriptives\n",
       "             n    Mean  Std.Dev Median  Min   Max 25th  75th      Skew\n",
       "Fuel(x1)    25 12.5600 5.382000  11.20 4.24 29.11 9.92 13.50 1.5749453\n",
       "Repair(x2)  25  8.1612 4.631722   6.15 1.35 17.44 5.07 12.43 0.4003681\n",
       "Capital(x3) 25 10.5444 3.687688  10.23 3.28 17.59 8.13 12.14 0.1154018\n",
       "              Kurtosis\n",
       "Fuel(x1)     2.5684509\n",
       "Repair(x2)  -1.2126908\n",
       "Capital(x3) -0.4623851\n",
       "\n",
       "$multivariateOutliers\n",
       "NULL\n"
      ]
     },
     "metadata": {},
     "output_type": "display_data"
    }
   ],
   "source": [
    "mvn(data, mvnTest = 'mardia', showOutliers = TRUE)"
   ]
  },
  {
   "cell_type": "code",
   "execution_count": 40,
   "id": "19492a29",
   "metadata": {
    "ExecuteTime": {
     "end_time": "2022-03-04T04:13:39.891216Z",
     "start_time": "2022-03-04T04:13:39.700Z"
    }
   },
   "outputs": [
    {
     "data": {
      "text/html": [
       "<dl>\n",
       "\t<dt>$multivariateNormality</dt>\n",
       "\t\t<dd><table>\n",
       "<thead><tr><th scope=col>Test</th><th scope=col>HZ</th><th scope=col>p value</th><th scope=col>MVN</th></tr></thead>\n",
       "<tbody>\n",
       "\t<tr><td>Henze-Zirkler</td><td>0.9917324    </td><td>0.01155811   </td><td>NO           </td></tr>\n",
       "</tbody>\n",
       "</table>\n",
       "</dd>\n",
       "\t<dt>$univariateNormality</dt>\n",
       "\t\t<dd><table>\n",
       "<thead><tr><th scope=col>Test</th><th scope=col>Variable</th><th scope=col>Statistic</th><th scope=col>p value</th><th scope=col>Normality</th></tr></thead>\n",
       "<tbody>\n",
       "\t<tr><td>Anderson-Darling</td><td> Fuel(x1)       </td><td>   1.4744       </td><td>   0.0006       </td><td>   NO           </td></tr>\n",
       "\t<tr><td>Anderson-Darling</td><td>Repair(x2)      </td><td>   0.7740       </td><td>   0.0383       </td><td>   NO           </td></tr>\n",
       "\t<tr><td>Anderson-Darling</td><td>Capital(x3)     </td><td>   0.3049       </td><td>   0.5434       </td><td>   YES          </td></tr>\n",
       "</tbody>\n",
       "</table>\n",
       "</dd>\n",
       "\t<dt>$Descriptives</dt>\n",
       "\t\t<dd><table>\n",
       "<thead><tr><th></th><th scope=col>n</th><th scope=col>Mean</th><th scope=col>Std.Dev</th><th scope=col>Median</th><th scope=col>Min</th><th scope=col>Max</th><th scope=col>25th</th><th scope=col>75th</th><th scope=col>Skew</th><th scope=col>Kurtosis</th></tr></thead>\n",
       "<tbody>\n",
       "\t<tr><th scope=row>Fuel(x1)</th><td>25        </td><td>12.5600   </td><td>5.382000  </td><td>11.20     </td><td>4.24      </td><td>29.11     </td><td>9.92      </td><td>13.50     </td><td>1.5749453 </td><td> 2.5684509</td></tr>\n",
       "\t<tr><th scope=row>Repair(x2)</th><td>25        </td><td> 8.1612   </td><td>4.631722  </td><td> 6.15     </td><td>1.35      </td><td>17.44     </td><td>5.07      </td><td>12.43     </td><td>0.4003681 </td><td>-1.2126908</td></tr>\n",
       "\t<tr><th scope=row>Capital(x3)</th><td>25        </td><td>10.5444   </td><td>3.687688  </td><td>10.23     </td><td>3.28      </td><td>17.59     </td><td>8.13      </td><td>12.14     </td><td>0.1154018 </td><td>-0.4623851</td></tr>\n",
       "</tbody>\n",
       "</table>\n",
       "</dd>\n",
       "\t<dt>$multivariateOutliers</dt>\n",
       "\t\t<dd>NULL</dd>\n",
       "</dl>\n"
      ],
      "text/latex": [
       "\\begin{description}\n",
       "\\item[\\$multivariateNormality] \\begin{tabular}{r|llll}\n",
       " Test & HZ & p value & MVN\\\\\n",
       "\\hline\n",
       "\t Henze-Zirkler & 0.9917324     & 0.01155811    & NO           \\\\\n",
       "\\end{tabular}\n",
       "\n",
       "\\item[\\$univariateNormality] \\begin{tabular}{r|lllll}\n",
       " Test & Variable & Statistic & p value & Normality\\\\\n",
       "\\hline\n",
       "\t Anderson-Darling &  Fuel(x1)        &    1.4744        &    0.0006        &    NO           \\\\\n",
       "\t Anderson-Darling & Repair(x2)       &    0.7740        &    0.0383        &    NO           \\\\\n",
       "\t Anderson-Darling & Capital(x3)      &    0.3049        &    0.5434        &    YES          \\\\\n",
       "\\end{tabular}\n",
       "\n",
       "\\item[\\$Descriptives] \\begin{tabular}{r|llllllllll}\n",
       "  & n & Mean & Std.Dev & Median & Min & Max & 25th & 75th & Skew & Kurtosis\\\\\n",
       "\\hline\n",
       "\tFuel(x1) & 25         & 12.5600    & 5.382000   & 11.20      & 4.24       & 29.11      & 9.92       & 13.50      & 1.5749453  &  2.5684509\\\\\n",
       "\tRepair(x2) & 25         &  8.1612    & 4.631722   &  6.15      & 1.35       & 17.44      & 5.07       & 12.43      & 0.4003681  & -1.2126908\\\\\n",
       "\tCapital(x3) & 25         & 10.5444    & 3.687688   & 10.23      & 3.28       & 17.59      & 8.13       & 12.14      & 0.1154018  & -0.4623851\\\\\n",
       "\\end{tabular}\n",
       "\n",
       "\\item[\\$multivariateOutliers] NULL\n",
       "\\end{description}\n"
      ],
      "text/markdown": [
       "$multivariateNormality\n",
       ":   \n",
       "| Test | HZ | p value | MVN |\n",
       "|---|---|---|---|\n",
       "| Henze-Zirkler | 0.9917324     | 0.01155811    | NO            |\n",
       "\n",
       "\n",
       "$univariateNormality\n",
       ":   \n",
       "| Test | Variable | Statistic | p value | Normality |\n",
       "|---|---|---|---|---|\n",
       "| Anderson-Darling |  Fuel(x1)        |    1.4744        |    0.0006        |    NO            |\n",
       "| Anderson-Darling | Repair(x2)       |    0.7740        |    0.0383        |    NO            |\n",
       "| Anderson-Darling | Capital(x3)      |    0.3049        |    0.5434        |    YES           |\n",
       "\n",
       "\n",
       "$Descriptives\n",
       ":   \n",
       "| <!--/--> | n | Mean | Std.Dev | Median | Min | Max | 25th | 75th | Skew | Kurtosis |\n",
       "|---|---|---|---|---|---|---|---|---|---|---|\n",
       "| Fuel(x1) | 25         | 12.5600    | 5.382000   | 11.20      | 4.24       | 29.11      | 9.92       | 13.50      | 1.5749453  |  2.5684509 |\n",
       "| Repair(x2) | 25         |  8.1612    | 4.631722   |  6.15      | 1.35       | 17.44      | 5.07       | 12.43      | 0.4003681  | -1.2126908 |\n",
       "| Capital(x3) | 25         | 10.5444    | 3.687688   | 10.23      | 3.28       | 17.59      | 8.13       | 12.14      | 0.1154018  | -0.4623851 |\n",
       "\n",
       "\n",
       "$multivariateOutliers\n",
       ":   NULL\n",
       "\n",
       "\n"
      ],
      "text/plain": [
       "$multivariateNormality\n",
       "           Test        HZ    p value MVN\n",
       "1 Henze-Zirkler 0.9917324 0.01155811  NO\n",
       "\n",
       "$univariateNormality\n",
       "              Test    Variable Statistic   p value Normality\n",
       "1 Anderson-Darling  Fuel(x1)      1.4744    0.0006    NO    \n",
       "2 Anderson-Darling Repair(x2)     0.7740    0.0383    NO    \n",
       "3 Anderson-Darling Capital(x3)    0.3049    0.5434    YES   \n",
       "\n",
       "$Descriptives\n",
       "             n    Mean  Std.Dev Median  Min   Max 25th  75th      Skew\n",
       "Fuel(x1)    25 12.5600 5.382000  11.20 4.24 29.11 9.92 13.50 1.5749453\n",
       "Repair(x2)  25  8.1612 4.631722   6.15 1.35 17.44 5.07 12.43 0.4003681\n",
       "Capital(x3) 25 10.5444 3.687688  10.23 3.28 17.59 8.13 12.14 0.1154018\n",
       "              Kurtosis\n",
       "Fuel(x1)     2.5684509\n",
       "Repair(x2)  -1.2126908\n",
       "Capital(x3) -0.4623851\n",
       "\n",
       "$multivariateOutliers\n",
       "NULL\n"
      ]
     },
     "metadata": {},
     "output_type": "display_data"
    }
   ],
   "source": [
    "### Henze-Zirkler’s MVN test:\n",
    "\n",
    "mvn(data, showOutliers = TRUE)"
   ]
  },
  {
   "cell_type": "code",
   "execution_count": 41,
   "id": "4d09eb6a",
   "metadata": {
    "ExecuteTime": {
     "end_time": "2022-03-04T04:13:54.619107Z",
     "start_time": "2022-03-04T04:13:54.529Z"
    }
   },
   "outputs": [
    {
     "data": {
      "text/html": [
       "<dl>\n",
       "\t<dt>$multivariateNormality</dt>\n",
       "\t\t<dd><table>\n",
       "<thead><tr><th scope=col>Test</th><th scope=col>H</th><th scope=col>p value</th><th scope=col>MVN</th></tr></thead>\n",
       "<tbody>\n",
       "\t<tr><td>Royston    </td><td>16.25651   </td><td>0.001011804</td><td>NO         </td></tr>\n",
       "</tbody>\n",
       "</table>\n",
       "</dd>\n",
       "\t<dt>$univariateNormality</dt>\n",
       "\t\t<dd><table>\n",
       "<thead><tr><th scope=col>Test</th><th scope=col>Variable</th><th scope=col>Statistic</th><th scope=col>p value</th><th scope=col>Normality</th></tr></thead>\n",
       "<tbody>\n",
       "\t<tr><td>Anderson-Darling</td><td> Fuel(x1)       </td><td>   1.4744       </td><td>   0.0006       </td><td>   NO           </td></tr>\n",
       "\t<tr><td>Anderson-Darling</td><td>Repair(x2)      </td><td>   0.7740       </td><td>   0.0383       </td><td>   NO           </td></tr>\n",
       "\t<tr><td>Anderson-Darling</td><td>Capital(x3)     </td><td>   0.3049       </td><td>   0.5434       </td><td>   YES          </td></tr>\n",
       "</tbody>\n",
       "</table>\n",
       "</dd>\n",
       "\t<dt>$Descriptives</dt>\n",
       "\t\t<dd><table>\n",
       "<thead><tr><th></th><th scope=col>n</th><th scope=col>Mean</th><th scope=col>Std.Dev</th><th scope=col>Median</th><th scope=col>Min</th><th scope=col>Max</th><th scope=col>25th</th><th scope=col>75th</th><th scope=col>Skew</th><th scope=col>Kurtosis</th></tr></thead>\n",
       "<tbody>\n",
       "\t<tr><th scope=row>Fuel(x1)</th><td>25        </td><td>12.5600   </td><td>5.382000  </td><td>11.20     </td><td>4.24      </td><td>29.11     </td><td>9.92      </td><td>13.50     </td><td>1.5749453 </td><td> 2.5684509</td></tr>\n",
       "\t<tr><th scope=row>Repair(x2)</th><td>25        </td><td> 8.1612   </td><td>4.631722  </td><td> 6.15     </td><td>1.35      </td><td>17.44     </td><td>5.07      </td><td>12.43     </td><td>0.4003681 </td><td>-1.2126908</td></tr>\n",
       "\t<tr><th scope=row>Capital(x3)</th><td>25        </td><td>10.5444   </td><td>3.687688  </td><td>10.23     </td><td>3.28      </td><td>17.59     </td><td>8.13      </td><td>12.14     </td><td>0.1154018 </td><td>-0.4623851</td></tr>\n",
       "</tbody>\n",
       "</table>\n",
       "</dd>\n",
       "\t<dt>$multivariateOutliers</dt>\n",
       "\t\t<dd>NULL</dd>\n",
       "</dl>\n"
      ],
      "text/latex": [
       "\\begin{description}\n",
       "\\item[\\$multivariateNormality] \\begin{tabular}{r|llll}\n",
       " Test & H & p value & MVN\\\\\n",
       "\\hline\n",
       "\t Royston     & 16.25651    & 0.001011804 & NO         \\\\\n",
       "\\end{tabular}\n",
       "\n",
       "\\item[\\$univariateNormality] \\begin{tabular}{r|lllll}\n",
       " Test & Variable & Statistic & p value & Normality\\\\\n",
       "\\hline\n",
       "\t Anderson-Darling &  Fuel(x1)        &    1.4744        &    0.0006        &    NO           \\\\\n",
       "\t Anderson-Darling & Repair(x2)       &    0.7740        &    0.0383        &    NO           \\\\\n",
       "\t Anderson-Darling & Capital(x3)      &    0.3049        &    0.5434        &    YES          \\\\\n",
       "\\end{tabular}\n",
       "\n",
       "\\item[\\$Descriptives] \\begin{tabular}{r|llllllllll}\n",
       "  & n & Mean & Std.Dev & Median & Min & Max & 25th & 75th & Skew & Kurtosis\\\\\n",
       "\\hline\n",
       "\tFuel(x1) & 25         & 12.5600    & 5.382000   & 11.20      & 4.24       & 29.11      & 9.92       & 13.50      & 1.5749453  &  2.5684509\\\\\n",
       "\tRepair(x2) & 25         &  8.1612    & 4.631722   &  6.15      & 1.35       & 17.44      & 5.07       & 12.43      & 0.4003681  & -1.2126908\\\\\n",
       "\tCapital(x3) & 25         & 10.5444    & 3.687688   & 10.23      & 3.28       & 17.59      & 8.13       & 12.14      & 0.1154018  & -0.4623851\\\\\n",
       "\\end{tabular}\n",
       "\n",
       "\\item[\\$multivariateOutliers] NULL\n",
       "\\end{description}\n"
      ],
      "text/markdown": [
       "$multivariateNormality\n",
       ":   \n",
       "| Test | H | p value | MVN |\n",
       "|---|---|---|---|\n",
       "| Royston     | 16.25651    | 0.001011804 | NO          |\n",
       "\n",
       "\n",
       "$univariateNormality\n",
       ":   \n",
       "| Test | Variable | Statistic | p value | Normality |\n",
       "|---|---|---|---|---|\n",
       "| Anderson-Darling |  Fuel(x1)        |    1.4744        |    0.0006        |    NO            |\n",
       "| Anderson-Darling | Repair(x2)       |    0.7740        |    0.0383        |    NO            |\n",
       "| Anderson-Darling | Capital(x3)      |    0.3049        |    0.5434        |    YES           |\n",
       "\n",
       "\n",
       "$Descriptives\n",
       ":   \n",
       "| <!--/--> | n | Mean | Std.Dev | Median | Min | Max | 25th | 75th | Skew | Kurtosis |\n",
       "|---|---|---|---|---|---|---|---|---|---|---|\n",
       "| Fuel(x1) | 25         | 12.5600    | 5.382000   | 11.20      | 4.24       | 29.11      | 9.92       | 13.50      | 1.5749453  |  2.5684509 |\n",
       "| Repair(x2) | 25         |  8.1612    | 4.631722   |  6.15      | 1.35       | 17.44      | 5.07       | 12.43      | 0.4003681  | -1.2126908 |\n",
       "| Capital(x3) | 25         | 10.5444    | 3.687688   | 10.23      | 3.28       | 17.59      | 8.13       | 12.14      | 0.1154018  | -0.4623851 |\n",
       "\n",
       "\n",
       "$multivariateOutliers\n",
       ":   NULL\n",
       "\n",
       "\n"
      ],
      "text/plain": [
       "$multivariateNormality\n",
       "     Test        H     p value MVN\n",
       "1 Royston 16.25651 0.001011804  NO\n",
       "\n",
       "$univariateNormality\n",
       "              Test    Variable Statistic   p value Normality\n",
       "1 Anderson-Darling  Fuel(x1)      1.4744    0.0006    NO    \n",
       "2 Anderson-Darling Repair(x2)     0.7740    0.0383    NO    \n",
       "3 Anderson-Darling Capital(x3)    0.3049    0.5434    YES   \n",
       "\n",
       "$Descriptives\n",
       "             n    Mean  Std.Dev Median  Min   Max 25th  75th      Skew\n",
       "Fuel(x1)    25 12.5600 5.382000  11.20 4.24 29.11 9.92 13.50 1.5749453\n",
       "Repair(x2)  25  8.1612 4.631722   6.15 1.35 17.44 5.07 12.43 0.4003681\n",
       "Capital(x3) 25 10.5444 3.687688  10.23 3.28 17.59 8.13 12.14 0.1154018\n",
       "              Kurtosis\n",
       "Fuel(x1)     2.5684509\n",
       "Repair(x2)  -1.2126908\n",
       "Capital(x3) -0.4623851\n",
       "\n",
       "$multivariateOutliers\n",
       "NULL\n"
      ]
     },
     "metadata": {},
     "output_type": "display_data"
    }
   ],
   "source": [
    "### Royston’s MVN test:\n",
    "\n",
    "mvn(data, mvnTest = 'royston', showOutliers = TRUE)"
   ]
  },
  {
   "cell_type": "code",
   "execution_count": 42,
   "id": "5c4539fb",
   "metadata": {
    "ExecuteTime": {
     "end_time": "2022-03-04T04:14:12.037294Z",
     "start_time": "2022-03-04T04:14:11.579Z"
    }
   },
   "outputs": [
    {
     "name": "stderr",
     "output_type": "stream",
     "text": [
      "Warning message in energy(data, R = R):\n",
      "\"internal error -3 in R_decompress1\""
     ]
    },
    {
     "ename": "ERROR",
     "evalue": "Error in energy(data, R = R): lazy-load database 'C:/Users/user/anaconda3/Lib/R/library/boot/R/boot.rdb' is corrupt\n",
     "output_type": "error",
     "traceback": [
      "Error in energy(data, R = R): lazy-load database 'C:/Users/user/anaconda3/Lib/R/library/boot/R/boot.rdb' is corrupt\nTraceback:\n",
      "1. mvn(data, mvnTest = \"energy\")",
      "2. energy(data, R = R)"
     ]
    }
   ],
   "source": [
    "### E-Statistics Test:\n",
    "\n",
    "mvn(data, mvnTest = 'energy')"
   ]
  },
  {
   "cell_type": "code",
   "execution_count": null,
   "id": "3fd44a23",
   "metadata": {},
   "outputs": [],
   "source": []
  }
 ],
 "metadata": {
  "kernelspec": {
   "display_name": "R",
   "language": "R",
   "name": "ir"
  },
  "language_info": {
   "codemirror_mode": "r",
   "file_extension": ".r",
   "mimetype": "text/x-r-source",
   "name": "R",
   "pygments_lexer": "r",
   "version": "3.6.1"
  },
  "toc": {
   "base_numbering": 1,
   "nav_menu": {},
   "number_sections": true,
   "sideBar": true,
   "skip_h1_title": false,
   "title_cell": "Table of Contents",
   "title_sidebar": "Contents",
   "toc_cell": false,
   "toc_position": {},
   "toc_section_display": true,
   "toc_window_display": false
  }
 },
 "nbformat": 4,
 "nbformat_minor": 5
}
