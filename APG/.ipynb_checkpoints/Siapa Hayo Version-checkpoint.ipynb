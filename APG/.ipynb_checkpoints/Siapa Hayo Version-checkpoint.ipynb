{
 "cells": [
  {
   "cell_type": "code",
   "execution_count": 1,
   "id": "52d9144f",
   "metadata": {
    "ExecuteTime": {
     "end_time": "2022-03-19T17:08:14.455188Z",
     "start_time": "2022-03-19T17:08:14.381Z"
    }
   },
   "outputs": [],
   "source": [
    "#library(tinytex)"
   ]
  },
  {
   "cell_type": "code",
   "execution_count": 2,
   "id": "ca4aad0b",
   "metadata": {
    "ExecuteTime": {
     "end_time": "2022-03-19T17:08:15.796806Z",
     "start_time": "2022-03-19T17:08:14.386Z"
    }
   },
   "outputs": [
    {
     "name": "stderr",
     "output_type": "stream",
     "text": [
      "\n",
      "Attaching package: 'ellipse'\n",
      "\n",
      "\n",
      "The following object is masked from 'package:graphics':\n",
      "\n",
      "    pairs\n",
      "\n",
      "\n",
      "*** Package RVAideMemoire v 0.9-81-2 ***\n",
      "\n"
     ]
    }
   ],
   "source": [
    "library(\"latex2exp\")\n",
    "library(\"ellipse\")\n",
    "library(\"RVAideMemoire\")\n",
    "library(\"MVN\")"
   ]
  },
  {
   "cell_type": "markdown",
   "id": "90175d11",
   "metadata": {},
   "source": [
    "# Nomor 6.1"
   ]
  },
  {
   "cell_type": "raw",
   "id": "7b610664",
   "metadata": {},
   "source": [
    "Construct and sketch a join 95% confidence region for the mean difference vector using $\\delta$ using the effluent data and result in Example 6.1. Note the point $\\delta$ = 0 fall outside the 95% contour. Is the result consistent with the test of $H_{0} : \\delta = 0$ considered in Example 6.1? Explain"
   ]
  },
  {
   "cell_type": "code",
   "execution_count": 3,
   "id": "29e0d0bc",
   "metadata": {
    "ExecuteTime": {
     "end_time": "2022-03-19T17:08:15.905472Z",
     "start_time": "2022-03-19T17:08:14.421Z"
    },
    "scrolled": true
   },
   "outputs": [
    {
     "data": {
      "text/html": [
       "<table class=\"dataframe\">\n",
       "<caption>A data.frame: 11 × 4</caption>\n",
       "<thead>\n",
       "\t<tr><th scope=col>x1j1</th><th scope=col>x1j2</th><th scope=col>x2j1</th><th scope=col>x2j2</th></tr>\n",
       "\t<tr><th scope=col>&lt;dbl&gt;</th><th scope=col>&lt;dbl&gt;</th><th scope=col>&lt;dbl&gt;</th><th scope=col>&lt;dbl&gt;</th></tr>\n",
       "</thead>\n",
       "<tbody>\n",
       "\t<tr><td> 6</td><td> 27</td><td>25</td><td>15</td></tr>\n",
       "\t<tr><td> 6</td><td> 23</td><td>28</td><td>13</td></tr>\n",
       "\t<tr><td>18</td><td> 64</td><td>36</td><td>22</td></tr>\n",
       "\t<tr><td> 8</td><td> 44</td><td>35</td><td>29</td></tr>\n",
       "\t<tr><td>11</td><td> 30</td><td>15</td><td>31</td></tr>\n",
       "\t<tr><td>34</td><td> 75</td><td>44</td><td>64</td></tr>\n",
       "\t<tr><td>28</td><td> 26</td><td>42</td><td>30</td></tr>\n",
       "\t<tr><td>71</td><td>124</td><td>54</td><td>64</td></tr>\n",
       "\t<tr><td>43</td><td> 54</td><td>34</td><td>56</td></tr>\n",
       "\t<tr><td>33</td><td> 30</td><td>29</td><td>20</td></tr>\n",
       "\t<tr><td>20</td><td> 14</td><td>39</td><td>21</td></tr>\n",
       "</tbody>\n",
       "</table>\n"
      ],
      "text/latex": [
       "A data.frame: 11 × 4\n",
       "\\begin{tabular}{llll}\n",
       " x1j1 & x1j2 & x2j1 & x2j2\\\\\n",
       " <dbl> & <dbl> & <dbl> & <dbl>\\\\\n",
       "\\hline\n",
       "\t  6 &  27 & 25 & 15\\\\\n",
       "\t  6 &  23 & 28 & 13\\\\\n",
       "\t 18 &  64 & 36 & 22\\\\\n",
       "\t  8 &  44 & 35 & 29\\\\\n",
       "\t 11 &  30 & 15 & 31\\\\\n",
       "\t 34 &  75 & 44 & 64\\\\\n",
       "\t 28 &  26 & 42 & 30\\\\\n",
       "\t 71 & 124 & 54 & 64\\\\\n",
       "\t 43 &  54 & 34 & 56\\\\\n",
       "\t 33 &  30 & 29 & 20\\\\\n",
       "\t 20 &  14 & 39 & 21\\\\\n",
       "\\end{tabular}\n"
      ],
      "text/markdown": [
       "\n",
       "A data.frame: 11 × 4\n",
       "\n",
       "| x1j1 &lt;dbl&gt; | x1j2 &lt;dbl&gt; | x2j1 &lt;dbl&gt; | x2j2 &lt;dbl&gt; |\n",
       "|---|---|---|---|\n",
       "|  6 |  27 | 25 | 15 |\n",
       "|  6 |  23 | 28 | 13 |\n",
       "| 18 |  64 | 36 | 22 |\n",
       "|  8 |  44 | 35 | 29 |\n",
       "| 11 |  30 | 15 | 31 |\n",
       "| 34 |  75 | 44 | 64 |\n",
       "| 28 |  26 | 42 | 30 |\n",
       "| 71 | 124 | 54 | 64 |\n",
       "| 43 |  54 | 34 | 56 |\n",
       "| 33 |  30 | 29 | 20 |\n",
       "| 20 |  14 | 39 | 21 |\n",
       "\n"
      ],
      "text/plain": [
       "   x1j1 x1j2 x2j1 x2j2\n",
       "1   6    27  25   15  \n",
       "2   6    23  28   13  \n",
       "3  18    64  36   22  \n",
       "4   8    44  35   29  \n",
       "5  11    30  15   31  \n",
       "6  34    75  44   64  \n",
       "7  28    26  42   30  \n",
       "8  71   124  54   64  \n",
       "9  43    54  34   56  \n",
       "10 33    30  29   20  \n",
       "11 20    14  39   21  "
      ]
     },
     "metadata": {},
     "output_type": "display_data"
    }
   ],
   "source": [
    "#Data\n",
    "x1j1<-c(6,6,18,8,11,34,28,71,43,33,20)\n",
    "x1j2<-c(27,23,64,44,30,75,26,124,54,30,14)\n",
    "x2j1<-c(25,28,36,35,15,44,42,54,34,29,39)\n",
    "x2j2<-c(15,13,22,29,31,64,30,64,56,20,21)\n",
    "effluent <- data.frame(x1j1,x1j2,x2j1,x2j2)\n",
    "effluent"
   ]
  },
  {
   "cell_type": "code",
   "execution_count": 4,
   "id": "7981147f",
   "metadata": {
    "ExecuteTime": {
     "end_time": "2022-03-19T17:08:15.960668Z",
     "start_time": "2022-03-19T17:08:14.427Z"
    }
   },
   "outputs": [
    {
     "data": {
      "text/html": [
       "<table class=\"dataframe\">\n",
       "<caption>A matrix: 2 × 2 of type dbl</caption>\n",
       "<tbody>\n",
       "\t<tr><td>199.26</td><td> 88.38</td></tr>\n",
       "\t<tr><td> 88.38</td><td>418.61</td></tr>\n",
       "</tbody>\n",
       "</table>\n"
      ],
      "text/latex": [
       "A matrix: 2 × 2 of type dbl\n",
       "\\begin{tabular}{ll}\n",
       "\t 199.26 &  88.38\\\\\n",
       "\t  88.38 & 418.61\\\\\n",
       "\\end{tabular}\n"
      ],
      "text/markdown": [
       "\n",
       "A matrix: 2 × 2 of type dbl\n",
       "\n",
       "| 199.26 |  88.38 |\n",
       "|  88.38 | 418.61 |\n",
       "\n"
      ],
      "text/plain": [
       "     [,1]   [,2]  \n",
       "[1,] 199.26  88.38\n",
       "[2,]  88.38 418.61"
      ]
     },
     "metadata": {},
     "output_type": "display_data"
    }
   ],
   "source": [
    "# compute the paired difference (results from example 6.1 #\n",
    "mean_xd_6.1 <- c(-9.36, 13.27)\n",
    "Sd_6.1 <- matrix(c(199.26, 88.38, 88.38, 418.61), 2, 2)\n",
    "Sd_6.1"
   ]
  },
  {
   "cell_type": "code",
   "execution_count": 5,
   "id": "98861c2b",
   "metadata": {
    "ExecuteTime": {
     "end_time": "2022-03-19T17:08:16.081018Z",
     "start_time": "2022-03-19T17:08:14.433Z"
    }
   },
   "outputs": [
    {
     "data": {
      "image/png": "[encoded data removed]",
      "text/plain": [
       "plot without title"
      ]
     },
     "metadata": {
      "image/png": {
       "height": 420,
       "width": 420
      }
     },
     "output_type": "display_data"
    }
   ],
   "source": [
    "conf.ellipse1=ellipse(Sd_6.1/nrow(effluent), centre=mean_xd_6.1, level=0.95)\n",
    "plot(conf.ellipse1, type=\"l\")"
   ]
  },
  {
   "cell_type": "markdown",
   "id": "c9319e48",
   "metadata": {},
   "source": [
    "# Nomor 6.2"
   ]
  },
  {
   "cell_type": "raw",
   "id": "ef38d333",
   "metadata": {},
   "source": [
    "Using the information in Example 6.1., construct the 95% Bonferroni simultaneous intervals for the component of the mean difference vector $\\delta$ . Compare the lengths of these intervals with those of the simultaneous intervals constructed in the example."
   ]
  },
  {
   "cell_type": "code",
   "execution_count": 6,
   "id": "04b41f42",
   "metadata": {
    "ExecuteTime": {
     "end_time": "2022-03-19T17:08:16.138839Z",
     "start_time": "2022-03-19T17:08:14.468Z"
    }
   },
   "outputs": [
    {
     "data": {
      "text/html": [
       "2.6337669157116"
      ],
      "text/latex": [
       "2.6337669157116"
      ],
      "text/markdown": [
       "2.6337669157116"
      ],
      "text/plain": [
       "[1] 2.633767"
      ]
     },
     "metadata": {},
     "output_type": "display_data"
    }
   ],
   "source": [
    "## compute the t value ##\n",
    "\n",
    "T_6.2 <- qt(1-(0.05/(2*2)), nrow(effluent)-1)\n",
    "T_6.2"
   ]
  },
  {
   "cell_type": "code",
   "execution_count": 7,
   "id": "478bd296",
   "metadata": {
    "ExecuteTime": {
     "end_time": "2022-03-19T17:08:16.217716Z",
     "start_time": "2022-03-19T17:08:14.474Z"
    }
   },
   "outputs": [
    {
     "data": {
      "text/html": [
       "<table class=\"dataframe\">\n",
       "<caption>A matrix: 2 × 2 of type dbl</caption>\n",
       "<thead>\n",
       "\t<tr><th></th><th scope=col>lower_6.2</th><th scope=col>upper_6.2</th></tr>\n",
       "</thead>\n",
       "<tbody>\n",
       "\t<tr><th scope=row>BOB Difference</th><td>-20.569624</td><td> 1.849624</td></tr>\n",
       "\t<tr><th scope=row>SS Difference</th><td> -2.977472</td><td>29.517472</td></tr>\n",
       "</tbody>\n",
       "</table>\n"
      ],
      "text/latex": [
       "A matrix: 2 × 2 of type dbl\n",
       "\\begin{tabular}{r|ll}\n",
       "  & lower\\_6.2 & upper\\_6.2\\\\\n",
       "\\hline\n",
       "\tBOB Difference & -20.569624 &  1.849624\\\\\n",
       "\tSS Difference &  -2.977472 & 29.517472\\\\\n",
       "\\end{tabular}\n"
      ],
      "text/markdown": [
       "\n",
       "A matrix: 2 × 2 of type dbl\n",
       "\n",
       "| <!--/--> | lower_6.2 | upper_6.2 |\n",
       "|---|---|---|\n",
       "| BOB Difference | -20.569624 |  1.849624 |\n",
       "| SS Difference |  -2.977472 | 29.517472 |\n",
       "\n"
      ],
      "text/plain": [
       "               lower_6.2  upper_6.2\n",
       "BOB Difference -20.569624  1.849624\n",
       "SS Difference   -2.977472 29.517472"
      ]
     },
     "metadata": {},
     "output_type": "display_data"
    }
   ],
   "source": [
    "## construct the Bonferroni confidence interval for tail length and wing length ##\n",
    "\n",
    "upper_6.2 <- NULL\n",
    "lower_6.2 <- NULL\n",
    "\n",
    "Bon.ci_6.2 <- function(mean_xd_6.1, Sd_6.1){\n",
    "  for (i in 1:2){\n",
    "  upper_6.2[i] <- mean_xd_6.1[i]+T_6.2*sqrt(Sd_6.1[i,i]/nrow(effluent))\n",
    "  lower_6.2[i] <- mean_xd_6.1[i]-T_6.2*sqrt(Sd_6.1[i,i]/nrow(effluent))\n",
    "  } \n",
    "  tab_6.2 <- cbind(lower_6.2, upper_6.2)\n",
    "  rownames(tab_6.2) <- c('BOB Difference', \"SS Difference\") \n",
    "  tab_6.2\n",
    "}\n",
    "\n",
    "\n",
    "Bon.ci_6.2(mean_xd_6.1, Sd_6.1)"
   ]
  },
  {
   "cell_type": "markdown",
   "id": "938cc40a",
   "metadata": {},
   "source": [
    "# Nomor 6.3"
   ]
  },
  {
   "cell_type": "raw",
   "id": "4f8b7412",
   "metadata": {},
   "source": [
    "The data corresponding to sample 8 in Table 6.1. seem unusually large. Remove sample 8. Construct a joint 95% confidence region for the mean difference vector $\\delta$ and 95% Bonferroni simultaneous intervals for the component of the mean difference vector. Are the results consistent with a test of $H_{0} : \\delta = 0$? Discuss. Does the \"outlier\" make a difference in the analysis of these data?"
   ]
  },
  {
   "cell_type": "code",
   "execution_count": 8,
   "id": "27be41d7",
   "metadata": {
    "ExecuteTime": {
     "end_time": "2022-03-19T17:08:16.267051Z",
     "start_time": "2022-03-19T17:08:14.511Z"
    }
   },
   "outputs": [],
   "source": [
    "#Remove the 8-th observation\n",
    "effluent.new <- effluent[-8,]\n",
    "effluent.d <- as.matrix(cbind(effluent.new[,1]-effluent.new[,3], effluent.new[,2]-effluent.new[,4]))\n",
    "\n",
    "new_mean_x_d <- apply(effluent.d, 2, mean)\n",
    "new_S_d <- var(effluent.d)"
   ]
  },
  {
   "cell_type": "code",
   "execution_count": 9,
   "id": "2431c856",
   "metadata": {
    "ExecuteTime": {
     "end_time": "2022-03-19T17:08:16.365086Z",
     "start_time": "2022-03-19T17:08:14.515Z"
    }
   },
   "outputs": [
    {
     "name": "stdout",
     "output_type": "stream",
     "text": [
      "          [,1]\n",
      "[1,] 0.2285178\n"
     ]
    },
    {
     "data": {
      "text/html": [
       "<table class=\"dataframe\">\n",
       "<caption>A matrix: 1 × 1 of type chr</caption>\n",
       "<tbody>\n",
       "\t<tr><td>Fail to Reject</td></tr>\n",
       "</tbody>\n",
       "</table>\n"
      ],
      "text/latex": [
       "A matrix: 1 × 1 of type chr\n",
       "\\begin{tabular}{l}\n",
       "\t Fail to Reject\\\\\n",
       "\\end{tabular}\n"
      ],
      "text/markdown": [
       "\n",
       "A matrix: 1 × 1 of type chr\n",
       "\n",
       "| Fail to Reject |\n",
       "\n"
      ],
      "text/plain": [
       "     [,1]          \n",
       "[1,] Fail to Reject"
      ]
     },
     "metadata": {},
     "output_type": "display_data"
    }
   ],
   "source": [
    "## joint confidence region ##\n",
    "\n",
    "q_6.3 = ncol(new_S_d)\n",
    "   n_6.3 = nrow(effluent.d)\n",
    "   p_6.3 = ncol(effluent)\n",
    "   nullmean = c(0, 0) \n",
    "   d_6.3 = new_mean_x_d-nullmean\n",
    "   t2_6.3 <- n_6.3*t(d_6.3)%*%solve(new_S_d)%*%d_6.3\n",
    "   t2mod_6.3 <- (n_6.3-p_6.3)*t2_6.3/(p_6.3*(n_6.3-1))\n",
    "   pval_6.3 <- 1- pf(t2mod_6.3,p_6.3,n_6.3-p_6.3)\n",
    "   print(pval_6.3)\n",
    "\n",
    "ifelse(pval_6.3<0.05, \"Reject\", \"Fail to Reject\")"
   ]
  },
  {
   "cell_type": "code",
   "execution_count": 10,
   "id": "45464d49",
   "metadata": {
    "ExecuteTime": {
     "end_time": "2022-03-19T17:08:16.416544Z",
     "start_time": "2022-03-19T17:08:14.520Z"
    }
   },
   "outputs": [
    {
     "data": {
      "text/html": [
       "2.68501084681646"
      ],
      "text/latex": [
       "2.68501084681646"
      ],
      "text/markdown": [
       "2.68501084681646"
      ],
      "text/plain": [
       "[1] 2.685011"
      ]
     },
     "metadata": {},
     "output_type": "display_data"
    }
   ],
   "source": [
    "## 95% Bonferroni simultaneous intervals ##\n",
    "upper_6.3 <- NULL\n",
    "lower_6.3 <- NULL\n",
    "T_6.3 <- qt(1-(0.05/(2*2)), nrow(effluent.d)-1)\n",
    "T_6.3"
   ]
  },
  {
   "cell_type": "code",
   "execution_count": 11,
   "id": "a4b29064",
   "metadata": {
    "ExecuteTime": {
     "end_time": "2022-03-19T17:08:16.482650Z",
     "start_time": "2022-03-19T17:08:14.525Z"
    }
   },
   "outputs": [
    {
     "data": {
      "text/html": [
       "<table class=\"dataframe\">\n",
       "<caption>A matrix: 2 × 2 of type dbl</caption>\n",
       "<thead>\n",
       "\t<tr><th></th><th scope=col>lower_6.3</th><th scope=col>upper_6.3</th></tr>\n",
       "</thead>\n",
       "<tbody>\n",
       "\t<tr><th scope=row>BOB Difference</th><td>-21.917997</td><td>-2.082003</td></tr>\n",
       "\t<tr><th scope=row>SS Difference</th><td> -3.355587</td><td>20.555587</td></tr>\n",
       "</tbody>\n",
       "</table>\n"
      ],
      "text/latex": [
       "A matrix: 2 × 2 of type dbl\n",
       "\\begin{tabular}{r|ll}\n",
       "  & lower\\_6.3 & upper\\_6.3\\\\\n",
       "\\hline\n",
       "\tBOB Difference & -21.917997 & -2.082003\\\\\n",
       "\tSS Difference &  -3.355587 & 20.555587\\\\\n",
       "\\end{tabular}\n"
      ],
      "text/markdown": [
       "\n",
       "A matrix: 2 × 2 of type dbl\n",
       "\n",
       "| <!--/--> | lower_6.3 | upper_6.3 |\n",
       "|---|---|---|\n",
       "| BOB Difference | -21.917997 | -2.082003 |\n",
       "| SS Difference |  -3.355587 | 20.555587 |\n",
       "\n"
      ],
      "text/plain": [
       "               lower_6.3  upper_6.3\n",
       "BOB Difference -21.917997 -2.082003\n",
       "SS Difference   -3.355587 20.555587"
      ]
     },
     "metadata": {},
     "output_type": "display_data"
    }
   ],
   "source": [
    "Bon.ci_6.3 <- function(new_mean_x_d, new_S_d){\n",
    "  for (i in 1:2){\n",
    "  upper_6.3[i] <- new_mean_x_d[i]+T_6.3*sqrt(new_S_d[i,i]/nrow(effluent.d))\n",
    "  lower_6.3[i] <- new_mean_x_d[i]-T_6.3*sqrt(new_S_d[i,i]/nrow(effluent.d))\n",
    "  } \n",
    "  tab_6.3 <- cbind(lower_6.3,upper_6.3)\n",
    "  rownames(tab_6.3) <- c('BOB Difference', \"SS Difference\") \n",
    "  tab_6.3\n",
    "}\n",
    "\n",
    "\n",
    "Bon.ci_6.3(new_mean_x_d, new_S_d)"
   ]
  },
  {
   "cell_type": "code",
   "execution_count": 12,
   "id": "eab5516f",
   "metadata": {
    "ExecuteTime": {
     "end_time": "2022-03-19T17:08:16.518970Z",
     "start_time": "2022-03-19T17:08:14.529Z"
    }
   },
   "outputs": [],
   "source": [
    "T.test <- function(X, mu=0){ \n",
    "  X <- as.matrix(X) \n",
    "  n <- nrow(X) \n",
    "  p <- ncol(X) \n",
    "  df2 <- n - p \n",
    "  if(df2 < 1L) stop(\"Need nrow(X) > ncol(X).\") \n",
    "  if(length(mu) != p) \n",
    "    mu <- rep(mu[1], p) \n",
    "  xbar <- colMeans(X) \n",
    "  S <- cov(X) \n",
    "  T2 <- n * t(xbar - mu) %*% solve(S) %*% (xbar - mu) \n",
    "  Fstat <- T2 / (p * (n-1) / df2) \n",
    "  pval <- 1 - pf(Fstat, df1=p, df2=df2) \n",
    "  data.frame(T2=as.numeric(T2), Fstat=as.numeric(Fstat), df1=p, df2=df2,\n",
    "             p.value=as.numeric(pval), row.names=\"\")\n",
    "}"
   ]
  },
  {
   "cell_type": "code",
   "execution_count": 13,
   "id": "9921831f",
   "metadata": {
    "ExecuteTime": {
     "end_time": "2022-03-19T17:08:16.623469Z",
     "start_time": "2022-03-19T17:08:14.535Z"
    }
   },
   "outputs": [
    {
     "data": {
      "text/html": [
       "<table class=\"dataframe\">\n",
       "<caption>A data.frame: 1 × 5</caption>\n",
       "<thead>\n",
       "\t<tr><th></th><th scope=col>T2</th><th scope=col>Fstat</th><th scope=col>df1</th><th scope=col>df2</th><th scope=col>p.value</th></tr>\n",
       "\t<tr><th></th><th scope=col>&lt;dbl&gt;</th><th scope=col>&lt;dbl&gt;</th><th scope=col>&lt;int&gt;</th><th scope=col>&lt;int&gt;</th><th scope=col>&lt;dbl&gt;</th></tr>\n",
       "</thead>\n",
       "<tbody>\n",
       "\t<tr><th scope=row></th><td>29631.89</td><td>5185.581</td><td>4</td><td>7</td><td>3.172684e-12</td></tr>\n",
       "</tbody>\n",
       "</table>\n"
      ],
      "text/latex": [
       "A data.frame: 1 × 5\n",
       "\\begin{tabular}{r|lllll}\n",
       "  & T2 & Fstat & df1 & df2 & p.value\\\\\n",
       "  & <dbl> & <dbl> & <int> & <int> & <dbl>\\\\\n",
       "\\hline\n",
       "\t & 29631.89 & 5185.581 & 4 & 7 & 3.172684e-12\\\\\n",
       "\\end{tabular}\n"
      ],
      "text/markdown": [
       "\n",
       "A data.frame: 1 × 5\n",
       "\n",
       "| <!--/--> | T2 &lt;dbl&gt; | Fstat &lt;dbl&gt; | df1 &lt;int&gt; | df2 &lt;int&gt; | p.value &lt;dbl&gt; |\n",
       "|---|---|---|---|---|---|\n",
       "| <!----> | 29631.89 | 5185.581 | 4 | 7 | 3.172684e-12 |\n",
       "\n"
      ],
      "text/plain": [
       " T2       Fstat    df1 df2 p.value     \n",
       " 29631.89 5185.581 4   7   3.172684e-12"
      ]
     },
     "metadata": {},
     "output_type": "display_data"
    }
   ],
   "source": [
    "miyu0 <- c(500, 50, 30)\n",
    "T.test(effluent, miyu0)\n",
    "\n",
    "n <- nrow(effluent)\n",
    "p <- ncol(effluent)\n",
    "alpha <- 0.05\n",
    "\n",
    "C2 <- (((n - 1)*p)/(n - p)) * qf(p = 1 - alpha, df1 = p, df2 = n - p)\n",
    "S <- cov(effluent)\n",
    "v = diag(sqrt(diag(S)))\n",
    "R = solve(v)%*%S%*%solve(v) "
   ]
  },
  {
   "cell_type": "code",
   "execution_count": 14,
   "id": "0be2d62e",
   "metadata": {
    "ExecuteTime": {
     "end_time": "2022-03-19T17:08:16.801970Z",
     "start_time": "2022-03-19T17:08:14.539Z"
    },
    "scrolled": true
   },
   "outputs": [
    {
     "data": {
      "image/png": "[encoded data removed]",
      "text/plain": [
       "plot without title"
      ]
     },
     "metadata": {
      "image/png": {
       "height": 420,
       "width": 420
      }
     },
     "output_type": "display_data"
    }
   ],
   "source": [
    "plot(ellipse(R[1,2], centre = new_mean_x_d), type = \"l\", ylim = c(0, 55), xlim = c(-10, 500)) \n",
    "points(500,50, col=\"red\", pch = 16)\n",
    "text(new_mean_x_d[1]+0.5,new_mean_x_d[2],expression(bar(x)))"
   ]
  },
  {
   "cell_type": "markdown",
   "id": "cf1e686e",
   "metadata": {},
   "source": [
    "## Nomor 6.4"
   ]
  },
  {
   "cell_type": "raw",
   "id": "a247f48f",
   "metadata": {},
   "source": [
    "Refer to Example 6.1.\n",
    "\n",
    "1.  Redo the analysis in Example 6.1. after transforming the pairs of observations to $\\ln(BOD)$ dan $\\ln(SS)$."
   ]
  },
  {
   "cell_type": "code",
   "execution_count": 15,
   "id": "597d5188",
   "metadata": {
    "ExecuteTime": {
     "end_time": "2022-03-19T17:08:16.882952Z",
     "start_time": "2022-03-19T17:08:14.576Z"
    }
   },
   "outputs": [
    {
     "name": "stdout",
     "output_type": "stream",
     "text": [
      "           d1          d2\n",
      "1  -1.4271164  0.58778666\n",
      "2  -1.5404450  0.57054486\n",
      "3  -0.6931472  1.06784063\n",
      "4  -1.4759065  0.41689380\n",
      "5  -0.3101549 -0.03278982\n",
      "6  -0.2578291  0.15860503\n",
      "7  -0.4054651 -0.14310084\n",
      "8   0.2736958  0.66139848\n",
      "9   0.2348396 -0.03636764\n",
      "10  0.1292117  0.40546511\n",
      "11 -0.6678294 -0.40546511\n"
     ]
    }
   ],
   "source": [
    "#Transform the variabel\n",
    "    ln_BOD1<-log(x1j1)\n",
    "    ln_BOD2<-log(x2j1)\n",
    "    ln_SS1<-log(x1j2)\n",
    "    ln_SS2<-log(x2j2)\n",
    "    #Find the differences\n",
    "    d1<-ln_BOD1-ln_BOD2\n",
    "    d2<-ln_SS1-ln_SS2\n",
    "    d_trans<-data.frame(d1,d2)\n",
    "    print(d_trans)"
   ]
  },
  {
   "cell_type": "code",
   "execution_count": 16,
   "id": "1c5db22d",
   "metadata": {
    "ExecuteTime": {
     "end_time": "2022-03-19T17:08:16.942250Z",
     "start_time": "2022-03-19T17:08:14.580Z"
    }
   },
   "outputs": [
    {
     "name": "stdout",
     "output_type": "stream",
     "text": [
      "        d1         d2 \n",
      "-0.5581951  0.2955283 \n",
      "            d1          d2\n",
      "d1  0.45608099 -0.07356599\n",
      "d2 -0.07356599  0.18386750\n"
     ]
    }
   ],
   "source": [
    "    #Find the mean vector sample\n",
    "    meand_trans<-colMeans(d_trans)\n",
    "    print(meand_trans)\n",
    "    #Find the covarians-varians sample\n",
    "    sd_trans<-cov(d_trans)\n",
    "    print(sd_trans)"
   ]
  },
  {
   "cell_type": "raw",
   "id": "15f01e62",
   "metadata": {},
   "source": [
    "2.  Construct the 95% Bonferroni simultaneous for the components of the mean vector $\\delta$ of the transformed variables."
   ]
  },
  {
   "cell_type": "code",
   "execution_count": 17,
   "id": "c56dafb6",
   "metadata": {
    "ExecuteTime": {
     "end_time": "2022-03-19T17:08:17.077554Z",
     "start_time": "2022-03-19T17:08:14.616Z"
    }
   },
   "outputs": [
    {
     "data": {
      "image/png": "[encoded data removed]",
      "text/plain": [
       "plot without title"
      ]
     },
     "metadata": {
      "image/png": {
       "height": 420,
       "width": 420
      }
     },
     "output_type": "display_data"
    }
   ],
   "source": [
    "    conf.ellipse2=ellipse(sd_trans/nrow(effluent), centre=meand_trans, level=0.95)\n",
    "    plot(conf.ellipse2, type=\"l\")"
   ]
  },
  {
   "cell_type": "raw",
   "id": "677a2b17",
   "metadata": {},
   "source": [
    "3.  Discuss any possible violation of the assumption of a bivariate normal distribution for the difference vector of transformed observation."
   ]
  },
  {
   "cell_type": "code",
   "execution_count": 18,
   "id": "b35bdfb8",
   "metadata": {
    "ExecuteTime": {
     "end_time": "2022-03-19T17:08:17.953980Z",
     "start_time": "2022-03-19T17:08:14.647Z"
    }
   },
   "outputs": [
    {
     "data": {
      "text/plain": [
       "\n",
       "\tMultivariate Shapiro-Wilk normality test\n",
       "\n",
       "data:  (d1,d2)\n",
       "W = 0.98734, p-value = 0.9935\n"
      ]
     },
     "metadata": {},
     "output_type": "display_data"
    },
    {
     "name": "stdout",
     "output_type": "stream",
     "text": [
      "             Test         Statistic           p value Result\n",
      "1 Mardia Skewness  1.13687663334458 0.888378049549112    YES\n",
      "2 Mardia Kurtosis -1.20311931548243 0.228930151787021    YES\n",
      "3             MVN              <NA>              <NA>    YES\n",
      "           Test        HZ   p value MVN\n",
      "1 Henze-Zirkler 0.4805169 0.1701703 YES\n",
      "     Test        H   p value MVN\n",
      "1 Royston 1.873695 0.3908991 YES\n",
      "            Test        E df   p value MVN\n",
      "1 Doornik-Hansen 5.456762  4 0.2435564 YES\n",
      "         Test Statistic p value MVN\n",
      "1 E-statistic 0.7375487   0.209 YES\n"
     ]
    }
   ],
   "source": [
    "    #Test for multivariate normal distribution\n",
    "    ## Use m.shapiro test function\n",
    "\n",
    "    mshapiro.test(d_trans)\n",
    "    ## Use mvn test function\n",
    "    ListTest <- c(\"mardia\", \"hz\", \"royston\", \"dh\", \"energy\")\n",
    "    for(i in 1:length(ListTest)){\n",
    "      mvnTestObj <- mvn(d_trans, mvnTest = ListTest[i])[[1]]\n",
    "      print(mvnTestObj)\n",
    "    }"
   ]
  },
  {
   "cell_type": "markdown",
   "id": "4aed5b00",
   "metadata": {
    "ExecuteTime": {
     "end_time": "2022-03-19T15:09:17.379146Z",
     "start_time": "2022-03-19T15:09:17.360Z"
    }
   },
   "source": [
    "# Nomor 6.17"
   ]
  },
  {
   "cell_type": "raw",
   "id": "63e72799",
   "metadata": {},
   "source": [
    "The data in Table 6.8. were collected to test two psychological models of numerical cognition. Does the processing of numbers depend on the way the number are presented (word, Arabic digits)? Thirty-two subjects were required to make a series of quick numerical judgments about two numbers about two numbers presented as either two number words (\"two\", \"four\") or two single Arabic digits (\"2\",\"4\"). The subject were asked to respond \"same\" if the two numbers had the same numerical parity (both even or both odd) and \"different\" if the two numbers had different parity (one even, one odd). Half of the subjects were assigned a block of Arabic digit trial, followed by a block of number word trials, and half of the subjects received the blocks of trials in reverse order. Within each block, the order of \"same\" and \"different\" parity trials was randomized for each subjects. For each of the fur combinations of parity and format, the median reaction times for correct responses were recorded for each subject. Here:"
   ]
  },
  {
   "cell_type": "raw",
   "id": "f18330f7",
   "metadata": {
    "ExecuteTime": {
     "end_time": "2022-03-19T15:09:50.523024Z",
     "start_time": "2022-03-19T15:09:50.508Z"
    }
   },
   "source": [
    "X_{1} = median reaction time for word format-different parity combination\n",
    "\n",
    "X_{2} = median reaction time for word format-same parity combination\n",
    "\n",
    "X_{3}= median reaction time for Arabic format-different parity combination\n",
    "\n",
    "X_{4} = median reaction time for Arabic format-same parity combination"
   ]
  },
  {
   "cell_type": "code",
   "execution_count": 19,
   "id": "a8cc14d2",
   "metadata": {
    "ExecuteTime": {
     "end_time": "2022-03-19T17:08:18.039436Z",
     "start_time": "2022-03-19T17:08:14.701Z"
    },
    "scrolled": true
   },
   "outputs": [
    {
     "data": {
      "text/html": [
       "<table class=\"dataframe\">\n",
       "<caption>A data.frame: 32 × 4</caption>\n",
       "<thead>\n",
       "\t<tr><th scope=col>x1</th><th scope=col>x2</th><th scope=col>x3</th><th scope=col>x4</th></tr>\n",
       "\t<tr><th scope=col>&lt;dbl&gt;</th><th scope=col>&lt;dbl&gt;</th><th scope=col>&lt;dbl&gt;</th><th scope=col>&lt;dbl&gt;</th></tr>\n",
       "</thead>\n",
       "<tbody>\n",
       "\t<tr><td> 869.0</td><td> 860.5</td><td> 691.0</td><td>601.0</td></tr>\n",
       "\t<tr><td> 995.0</td><td> 875.0</td><td> 678.0</td><td>659.0</td></tr>\n",
       "\t<tr><td>1056.0</td><td> 930.5</td><td> 833.0</td><td>826.0</td></tr>\n",
       "\t<tr><td>1126.0</td><td> 954.0</td><td> 888.0</td><td>728.0</td></tr>\n",
       "\t<tr><td>1044.0</td><td> 909.0</td><td> 865.0</td><td>839.0</td></tr>\n",
       "\t<tr><td> 925.0</td><td> 856.5</td><td>1059.5</td><td>797.0</td></tr>\n",
       "\t<tr><td>1172.5</td><td> 896.5</td><td> 926.0</td><td>766.0</td></tr>\n",
       "\t<tr><td>1408.5</td><td>1311.0</td><td> 854.0</td><td>986.0</td></tr>\n",
       "\t<tr><td>1028.0</td><td> 887.0</td><td> 915.0</td><td>735.0</td></tr>\n",
       "\t<tr><td>1011.0</td><td> 863.0</td><td> 761.0</td><td>657.0</td></tr>\n",
       "\t<tr><td> 726.0</td><td> 674.0</td><td> 663.0</td><td>583.0</td></tr>\n",
       "\t<tr><td> 982.0</td><td> 894.0</td><td> 831.0</td><td>640.0</td></tr>\n",
       "\t<tr><td>1225.0</td><td>1179.0</td><td>1037.0</td><td>905.5</td></tr>\n",
       "\t<tr><td> 731.0</td><td> 662.0</td><td> 662.5</td><td>624.0</td></tr>\n",
       "\t<tr><td> 975.5</td><td> 872.5</td><td> 814.0</td><td>735.0</td></tr>\n",
       "\t<tr><td>1130.5</td><td> 811.0</td><td> 843.0</td><td>657.0</td></tr>\n",
       "\t<tr><td> 945.0</td><td> 909.0</td><td> 867.5</td><td>754.0</td></tr>\n",
       "\t<tr><td> 747.0</td><td> 752.5</td><td> 777.0</td><td>687.5</td></tr>\n",
       "\t<tr><td> 656.5</td><td> 659.5</td><td> 572.0</td><td>539.0</td></tr>\n",
       "\t<tr><td> 919.0</td><td> 833.0</td><td> 752.0</td><td>611.0</td></tr>\n",
       "\t<tr><td> 751.0</td><td> 744.0</td><td> 683.0</td><td>553.0</td></tr>\n",
       "\t<tr><td> 774.0</td><td> 735.0</td><td> 671.0</td><td>612.0</td></tr>\n",
       "\t<tr><td> 941.0</td><td> 931.0</td><td> 901.5</td><td>700.0</td></tr>\n",
       "\t<tr><td> 751.0</td><td> 785.0</td><td> 789.0</td><td>735.0</td></tr>\n",
       "\t<tr><td> 767.0</td><td> 737.5</td><td> 724.0</td><td>639.0</td></tr>\n",
       "\t<tr><td> 813.5</td><td> 750.5</td><td> 711.0</td><td>625.0</td></tr>\n",
       "\t<tr><td>1289.5</td><td>1140.0</td><td> 904.5</td><td>784.5</td></tr>\n",
       "\t<tr><td>1096.5</td><td>1009.0</td><td>1076.0</td><td>983.0</td></tr>\n",
       "\t<tr><td>1083.0</td><td> 958.0</td><td> 918.0</td><td>746.5</td></tr>\n",
       "\t<tr><td>1114.0</td><td>1046.0</td><td>1081.0</td><td>796.0</td></tr>\n",
       "\t<tr><td> 708.0</td><td> 669.0</td><td> 657.0</td><td>572.5</td></tr>\n",
       "\t<tr><td>1201.0</td><td> 925.0</td><td>1004.5</td><td>673.5</td></tr>\n",
       "</tbody>\n",
       "</table>\n"
      ],
      "text/latex": [
       "A data.frame: 32 × 4\n",
       "\\begin{tabular}{llll}\n",
       " x1 & x2 & x3 & x4\\\\\n",
       " <dbl> & <dbl> & <dbl> & <dbl>\\\\\n",
       "\\hline\n",
       "\t  869.0 &  860.5 &  691.0 & 601.0\\\\\n",
       "\t  995.0 &  875.0 &  678.0 & 659.0\\\\\n",
       "\t 1056.0 &  930.5 &  833.0 & 826.0\\\\\n",
       "\t 1126.0 &  954.0 &  888.0 & 728.0\\\\\n",
       "\t 1044.0 &  909.0 &  865.0 & 839.0\\\\\n",
       "\t  925.0 &  856.5 & 1059.5 & 797.0\\\\\n",
       "\t 1172.5 &  896.5 &  926.0 & 766.0\\\\\n",
       "\t 1408.5 & 1311.0 &  854.0 & 986.0\\\\\n",
       "\t 1028.0 &  887.0 &  915.0 & 735.0\\\\\n",
       "\t 1011.0 &  863.0 &  761.0 & 657.0\\\\\n",
       "\t  726.0 &  674.0 &  663.0 & 583.0\\\\\n",
       "\t  982.0 &  894.0 &  831.0 & 640.0\\\\\n",
       "\t 1225.0 & 1179.0 & 1037.0 & 905.5\\\\\n",
       "\t  731.0 &  662.0 &  662.5 & 624.0\\\\\n",
       "\t  975.5 &  872.5 &  814.0 & 735.0\\\\\n",
       "\t 1130.5 &  811.0 &  843.0 & 657.0\\\\\n",
       "\t  945.0 &  909.0 &  867.5 & 754.0\\\\\n",
       "\t  747.0 &  752.5 &  777.0 & 687.5\\\\\n",
       "\t  656.5 &  659.5 &  572.0 & 539.0\\\\\n",
       "\t  919.0 &  833.0 &  752.0 & 611.0\\\\\n",
       "\t  751.0 &  744.0 &  683.0 & 553.0\\\\\n",
       "\t  774.0 &  735.0 &  671.0 & 612.0\\\\\n",
       "\t  941.0 &  931.0 &  901.5 & 700.0\\\\\n",
       "\t  751.0 &  785.0 &  789.0 & 735.0\\\\\n",
       "\t  767.0 &  737.5 &  724.0 & 639.0\\\\\n",
       "\t  813.5 &  750.5 &  711.0 & 625.0\\\\\n",
       "\t 1289.5 & 1140.0 &  904.5 & 784.5\\\\\n",
       "\t 1096.5 & 1009.0 & 1076.0 & 983.0\\\\\n",
       "\t 1083.0 &  958.0 &  918.0 & 746.5\\\\\n",
       "\t 1114.0 & 1046.0 & 1081.0 & 796.0\\\\\n",
       "\t  708.0 &  669.0 &  657.0 & 572.5\\\\\n",
       "\t 1201.0 &  925.0 & 1004.5 & 673.5\\\\\n",
       "\\end{tabular}\n"
      ],
      "text/markdown": [
       "\n",
       "A data.frame: 32 × 4\n",
       "\n",
       "| x1 &lt;dbl&gt; | x2 &lt;dbl&gt; | x3 &lt;dbl&gt; | x4 &lt;dbl&gt; |\n",
       "|---|---|---|---|\n",
       "|  869.0 |  860.5 |  691.0 | 601.0 |\n",
       "|  995.0 |  875.0 |  678.0 | 659.0 |\n",
       "| 1056.0 |  930.5 |  833.0 | 826.0 |\n",
       "| 1126.0 |  954.0 |  888.0 | 728.0 |\n",
       "| 1044.0 |  909.0 |  865.0 | 839.0 |\n",
       "|  925.0 |  856.5 | 1059.5 | 797.0 |\n",
       "| 1172.5 |  896.5 |  926.0 | 766.0 |\n",
       "| 1408.5 | 1311.0 |  854.0 | 986.0 |\n",
       "| 1028.0 |  887.0 |  915.0 | 735.0 |\n",
       "| 1011.0 |  863.0 |  761.0 | 657.0 |\n",
       "|  726.0 |  674.0 |  663.0 | 583.0 |\n",
       "|  982.0 |  894.0 |  831.0 | 640.0 |\n",
       "| 1225.0 | 1179.0 | 1037.0 | 905.5 |\n",
       "|  731.0 |  662.0 |  662.5 | 624.0 |\n",
       "|  975.5 |  872.5 |  814.0 | 735.0 |\n",
       "| 1130.5 |  811.0 |  843.0 | 657.0 |\n",
       "|  945.0 |  909.0 |  867.5 | 754.0 |\n",
       "|  747.0 |  752.5 |  777.0 | 687.5 |\n",
       "|  656.5 |  659.5 |  572.0 | 539.0 |\n",
       "|  919.0 |  833.0 |  752.0 | 611.0 |\n",
       "|  751.0 |  744.0 |  683.0 | 553.0 |\n",
       "|  774.0 |  735.0 |  671.0 | 612.0 |\n",
       "|  941.0 |  931.0 |  901.5 | 700.0 |\n",
       "|  751.0 |  785.0 |  789.0 | 735.0 |\n",
       "|  767.0 |  737.5 |  724.0 | 639.0 |\n",
       "|  813.5 |  750.5 |  711.0 | 625.0 |\n",
       "| 1289.5 | 1140.0 |  904.5 | 784.5 |\n",
       "| 1096.5 | 1009.0 | 1076.0 | 983.0 |\n",
       "| 1083.0 |  958.0 |  918.0 | 746.5 |\n",
       "| 1114.0 | 1046.0 | 1081.0 | 796.0 |\n",
       "|  708.0 |  669.0 |  657.0 | 572.5 |\n",
       "| 1201.0 |  925.0 | 1004.5 | 673.5 |\n",
       "\n"
      ],
      "text/plain": [
       "   x1     x2     x3     x4   \n",
       "1   869.0  860.5  691.0 601.0\n",
       "2   995.0  875.0  678.0 659.0\n",
       "3  1056.0  930.5  833.0 826.0\n",
       "4  1126.0  954.0  888.0 728.0\n",
       "5  1044.0  909.0  865.0 839.0\n",
       "6   925.0  856.5 1059.5 797.0\n",
       "7  1172.5  896.5  926.0 766.0\n",
       "8  1408.5 1311.0  854.0 986.0\n",
       "9  1028.0  887.0  915.0 735.0\n",
       "10 1011.0  863.0  761.0 657.0\n",
       "11  726.0  674.0  663.0 583.0\n",
       "12  982.0  894.0  831.0 640.0\n",
       "13 1225.0 1179.0 1037.0 905.5\n",
       "14  731.0  662.0  662.5 624.0\n",
       "15  975.5  872.5  814.0 735.0\n",
       "16 1130.5  811.0  843.0 657.0\n",
       "17  945.0  909.0  867.5 754.0\n",
       "18  747.0  752.5  777.0 687.5\n",
       "19  656.5  659.5  572.0 539.0\n",
       "20  919.0  833.0  752.0 611.0\n",
       "21  751.0  744.0  683.0 553.0\n",
       "22  774.0  735.0  671.0 612.0\n",
       "23  941.0  931.0  901.5 700.0\n",
       "24  751.0  785.0  789.0 735.0\n",
       "25  767.0  737.5  724.0 639.0\n",
       "26  813.5  750.5  711.0 625.0\n",
       "27 1289.5 1140.0  904.5 784.5\n",
       "28 1096.5 1009.0 1076.0 983.0\n",
       "29 1083.0  958.0  918.0 746.5\n",
       "30 1114.0 1046.0 1081.0 796.0\n",
       "31  708.0  669.0  657.0 572.5\n",
       "32 1201.0  925.0 1004.5 673.5"
      ]
     },
     "metadata": {},
     "output_type": "display_data"
    }
   ],
   "source": [
    "#The Data\n",
    "x1<-c(869.0, 995.0, 1056.0, 1126.0, 1044.0, 925.0, 1172.5, 1408.5, 1028.0, 1011.0, 726.0, 982.0, 1225.0, 731.0, 975.5, 1130.5, 945.0, 747.0, 656.5, 919.0, 751.0, 774.0, 941.0, 751.0, 767.0, 813.5, 1289.5, 1096.5, 1083.0, 1114.0,708.0, 1201.0)\n",
    "x2<-c(860.5, 875.0, 930.5, 954.0, 909.0, 856.5, 896.5, 1311.0, 887.0, 863.0, 674.0, 894.0, 1179.0, 662.0, 872.5,811.0, 909.0, 752.5, 659.5, 833.0, 744.0, 735.0,931.0,785.0,737.5, 750.5, 1140.0, 1009.0, 958.0, 1046.0, 669.0,925.0)\n",
    "x3<-c(691.0,678.0,833.0,888.0,865.0,1059.5, 926.0,854.0, 915.0, 761.0,663.0, 831.0, 1037.0, 662.5, 814.0, 843.0, 867.5, 777.0, 572.0, 752.0, 683.0, 671.0, 901.5, 789.0, 724.0, 711.0, 904.5, 1076.0, 918.0, 1081.0, 657.0, 1004.5)\n",
    "x4<-c(601.0,659.0,826.0, 728.0, 839.0, 797.0, 766.0, 986.0, 735.0, 657.0, 583.0, 640.0, 905.5, 624.0, 735.0, 657.0, 754.0, 687.5, 539.0, 611.0, 553.0, 612.0, 700.0, 735.0, 639.0, 625.0, 784.5, 983.0, 746.5, 796.0, 572.5, 673.5)\n",
    "number<-data.frame(x1,x2,x3,x4)\n",
    "number"
   ]
  },
  {
   "cell_type": "raw",
   "id": "66ccc385",
   "metadata": {},
   "source": [
    "1.  Test for treatment effect using a repeated measure design. Set $\\alpha$ = .05."
   ]
  },
  {
   "cell_type": "code",
   "execution_count": 20,
   "id": "d498bb91",
   "metadata": {
    "ExecuteTime": {
     "end_time": "2022-03-19T17:08:18.088517Z",
     "start_time": "2022-03-19T17:08:14.732Z"
    }
   },
   "outputs": [
    {
     "data": {
      "text/html": [
       "<table class=\"dataframe\">\n",
       "<caption>A matrix: 3 × 4 of type dbl</caption>\n",
       "<tbody>\n",
       "\t<tr><td>-1</td><td> 1</td><td>-1</td><td> 1</td></tr>\n",
       "\t<tr><td>-1</td><td>-1</td><td> 1</td><td> 1</td></tr>\n",
       "\t<tr><td>-1</td><td> 1</td><td> 1</td><td>-1</td></tr>\n",
       "</tbody>\n",
       "</table>\n"
      ],
      "text/latex": [
       "A matrix: 3 × 4 of type dbl\n",
       "\\begin{tabular}{llll}\n",
       "\t -1 &  1 & -1 &  1\\\\\n",
       "\t -1 & -1 &  1 &  1\\\\\n",
       "\t -1 &  1 &  1 & -1\\\\\n",
       "\\end{tabular}\n"
      ],
      "text/markdown": [
       "\n",
       "A matrix: 3 × 4 of type dbl\n",
       "\n",
       "| -1 |  1 | -1 |  1 |\n",
       "| -1 | -1 |  1 |  1 |\n",
       "| -1 |  1 |  1 | -1 |\n",
       "\n"
      ],
      "text/plain": [
       "     [,1] [,2] [,3] [,4]\n",
       "[1,] -1    1   -1    1  \n",
       "[2,] -1   -1    1    1  \n",
       "[3,] -1    1    1   -1  "
      ]
     },
     "metadata": {},
     "output_type": "display_data"
    }
   ],
   "source": [
    "    Cstar <-matrix( c(-1, 1, -1, 1, -1, -1, 1, 1, -1, 1, 1, -1), 3, 4, byrow=T)\n",
    "    Cstar"
   ]
  },
  {
   "cell_type": "code",
   "execution_count": 21,
   "id": "3be4c8dd",
   "metadata": {
    "ExecuteTime": {
     "end_time": "2022-03-19T17:08:18.173317Z",
     "start_time": "2022-03-19T17:08:14.735Z"
    }
   },
   "outputs": [
    {
     "name": "stdout",
     "output_type": "stream",
     "text": [
      "            [,1]\n",
      "[1,] 3.93019e-12\n"
     ]
    },
    {
     "data": {
      "text/html": [
       "<table class=\"dataframe\">\n",
       "<caption>A matrix: 1 × 1 of type chr</caption>\n",
       "<tbody>\n",
       "\t<tr><td>Reject</td></tr>\n",
       "</tbody>\n",
       "</table>\n"
      ],
      "text/latex": [
       "A matrix: 1 × 1 of type chr\n",
       "\\begin{tabular}{l}\n",
       "\t Reject\\\\\n",
       "\\end{tabular}\n"
      ],
      "text/markdown": [
       "\n",
       "A matrix: 1 × 1 of type chr\n",
       "\n",
       "| Reject |\n",
       "\n"
      ],
      "text/plain": [
       "     [,1]  \n",
       "[1,] Reject"
      ]
     },
     "metadata": {},
     "output_type": "display_data"
    }
   ],
   "source": [
    "    #  Compute sample mean vector and sample covariance matrix \n",
    "    Xbar <- apply(number, 2, mean)\n",
    "    S <- cov(number)\n",
    "\n",
    "    Cxbar <- Cstar %*% Xbar\n",
    "    Cxvar <- Cstar %*% S %*%t(Cstar)\n",
    "\n",
    "    # Compute Hotelling statistic\n",
    "    p_6.17<-ncol(number)\n",
    "    q_6.17 <- ncol(Cstar)\n",
    "    n_6.17 <- nrow(number)\n",
    "    t2_6.17<-n_6.17*t(Cxbar)%*%solve(Cxvar)%*%Cxbar\n",
    "    t2mod_6.17<- (n_6.17-q_6.17+1)*t2_6.17/((q_6.17-1)*(n_6.17-1))\n",
    "    pval_6.17 <- 1- pf(t2mod_6.17,p_6.17,n_6.17-p_6.17)\n",
    "    print(pval_6.17)\n",
    "\n",
    "    ifelse(pval_6.17<0.05, \"Reject\", \"Fail to Reject\")"
   ]
  },
  {
   "cell_type": "raw",
   "id": "8d93e668",
   "metadata": {},
   "source": [
    "2.  Construct 95% (simultaneous) confidence intervals for the contrast representing the number format effect, the parity type effect, and the interaction effect. Interpret the resulting intervals."
   ]
  },
  {
   "cell_type": "code",
   "execution_count": 22,
   "id": "61982725",
   "metadata": {
    "ExecuteTime": {
     "end_time": "2022-03-19T17:08:18.218031Z",
     "start_time": "2022-03-19T17:08:14.763Z"
    }
   },
   "outputs": [
    {
     "data": {
      "text/html": [
       "3.06743057555009"
      ],
      "text/latex": [
       "3.06743057555009"
      ],
      "text/markdown": [
       "3.06743057555009"
      ],
      "text/plain": [
       "[1] 3.067431"
      ]
     },
     "metadata": {},
     "output_type": "display_data"
    }
   ],
   "source": [
    "#Compute F value\n",
    "F_num <- (((ncol(Cstar)-1)*(n_6.17-1))/(n_6.17-ncol(Cstar)+1))*qf(0.95, ncol(Cstar)-1, n_6.17-ncol(Cstar)+1)\n",
    "sqrt(F_num)"
   ]
  },
  {
   "cell_type": "code",
   "execution_count": 23,
   "id": "bb56559b",
   "metadata": {
    "ExecuteTime": {
     "end_time": "2022-03-19T17:08:18.299048Z",
     "start_time": "2022-03-19T17:08:14.767Z"
    }
   },
   "outputs": [
    {
     "data": {
      "text/html": [
       "<table class=\"dataframe\">\n",
       "<caption>A matrix: 3 × 2 of type dbl</caption>\n",
       "<thead>\n",
       "\t<tr><th></th><th scope=col>lower_num</th><th scope=col>upper_num</th></tr>\n",
       "</thead>\n",
       "<tbody>\n",
       "\t<tr><th scope=row>Parity Effect</th><td>-282.19953</td><td>-130.4567</td></tr>\n",
       "\t<tr><th scope=row>Format Effect</th><td>-415.73637</td><td>-198.1074</td></tr>\n",
       "\t<tr><th scope=row>Interaction Effect</th><td> -31.82305</td><td>  76.6668</td></tr>\n",
       "</tbody>\n",
       "</table>\n"
      ],
      "text/latex": [
       "A matrix: 3 × 2 of type dbl\n",
       "\\begin{tabular}{r|ll}\n",
       "  & lower\\_num & upper\\_num\\\\\n",
       "\\hline\n",
       "\tParity Effect & -282.19953 & -130.4567\\\\\n",
       "\tFormat Effect & -415.73637 & -198.1074\\\\\n",
       "\tInteraction Effect &  -31.82305 &   76.6668\\\\\n",
       "\\end{tabular}\n"
      ],
      "text/markdown": [
       "\n",
       "A matrix: 3 × 2 of type dbl\n",
       "\n",
       "| <!--/--> | lower_num | upper_num |\n",
       "|---|---|---|\n",
       "| Parity Effect | -282.19953 | -130.4567 |\n",
       "| Format Effect | -415.73637 | -198.1074 |\n",
       "| Interaction Effect |  -31.82305 |   76.6668 |\n",
       "\n"
      ],
      "text/plain": [
       "                   lower_num  upper_num\n",
       "Parity Effect      -282.19953 -130.4567\n",
       "Format Effect      -415.73637 -198.1074\n",
       "Interaction Effect  -31.82305   76.6668"
      ]
     },
     "metadata": {},
     "output_type": "display_data"
    }
   ],
   "source": [
    "#Construct 95% (simultaneous) confidence intervals\n",
    "upper_num <- NULL\n",
    "lower_num <- NULL\n",
    "\n",
    "Sch.ci <- function(Cxbar, Cxvar){\n",
    "    for (i in 1:ncol(Cxvar)){\n",
    "    upper_num[i] <- Cxbar[i]+sqrt(F_num)*sqrt(Cxvar[i,i]/n_6.17)\n",
    "    lower_num[i] <- Cxbar[i]-sqrt(F_num)*sqrt(Cxvar[i,i]/n_6.17)\n",
    "    } \n",
    "    tab_num <- cbind(lower_num, upper_num)\n",
    "    rownames(tab_num) <- c(\"Parity Effect\", \"Format Effect\", \"Interaction Effect\") \n",
    "    tab_num\n",
    "}\n",
    "\n",
    "Sch.ci(Cxbar, Cxvar)"
   ]
  },
  {
   "cell_type": "raw",
   "id": "14f844d9",
   "metadata": {},
   "source": [
    "3.  The absence of interaction supports the M model of numerical cognition, while the presence of interaction supports the C and C model of numerical cognition. Which model is supported in this experiment?\n",
    "\n",
    "    Based on part b, the M model of numerical cognition is a reasonable population model for the scores."
   ]
  },
  {
   "cell_type": "raw",
   "id": "9cdd6f39",
   "metadata": {},
   "source": [
    "4.  For each subject, construct three differences scores corresponding to the number format contrast, the parity type contrast, and the interaction contrast. Is a multivariate normal distribution a reasonable population model for these data? Explain."
   ]
  },
  {
   "cell_type": "code",
   "execution_count": 24,
   "id": "170bc8f6",
   "metadata": {
    "ExecuteTime": {
     "end_time": "2022-03-19T17:08:18.549099Z",
     "start_time": "2022-03-19T17:08:14.824Z"
    }
   },
   "outputs": [
    {
     "data": {
      "image/png": "[encoded data removed]"
     },
     "metadata": {
      "image/png": {
       "height": 420,
       "width": 420
      }
     },
     "output_type": "display_data"
    }
   ],
   "source": [
    "    par(mfrow=c(2, 2), pch=1)\n",
    "    for (i in 1:ncol(number)){\n",
    "       qqnorm(number[,i],  main=c(\"Normal QQ-Plot X\",i))\n",
    "         qqline(number[,i])\n",
    "    }\n",
    "    par(mfrow=c(1,1), pch=1)"
   ]
  },
  {
   "cell_type": "code",
   "execution_count": 25,
   "id": "8c47ceba",
   "metadata": {
    "ExecuteTime": {
     "end_time": "2022-03-19T17:08:18.764929Z",
     "start_time": "2022-03-19T17:08:14.827Z"
    }
   },
   "outputs": [
    {
     "data": {
      "image/png": "[encoded data removed]",
      "text/plain": [
       "Plot with title \"Chi Square Plot\""
      ]
     },
     "metadata": {
      "image/png": {
       "height": 420,
       "width": 420
      }
     },
     "output_type": "display_data"
    }
   ],
   "source": [
    "    #Construct Chi-Square Plot\n",
    "    d <- apply(number, 1, function(number) t(number - Xbar) %*% solve(S) %*% (number - Xbar))\n",
    "    plot(qc <- qchisq((1:nrow(number) - 1/2) / nrow(number), df = 4),\n",
    "     sd <- sort(d),\n",
    "     xlab = expression(paste(chi[4]^2, \" Quantile\")),\n",
    "     ylab = \"Ordered distances\", xlim = range(qc) * c(1, 1.1), main= \"Chi Square Plot\")\n",
    "    oups <- which(rank(abs(qc - sd), ties = \"random\") > nrow(number) - 3)\n",
    "    text(qc[oups],sd[oups]-1.5, labels=names(oups))\n",
    "    abline(a = 0, b = 1)"
   ]
  },
  {
   "cell_type": "code",
   "execution_count": null,
   "id": "bf5e7d78",
   "metadata": {},
   "outputs": [],
   "source": []
  }
 ],
 "metadata": {
  "kernelspec": {
   "display_name": "R",
   "language": "R",
   "name": "ir"
  },
  "language_info": {
   "codemirror_mode": "r",
   "file_extension": ".r",
   "mimetype": "text/x-r-source",
   "name": "R",
   "pygments_lexer": "r",
   "version": "4.0.5"
  },
  "toc": {
   "base_numbering": 1,
   "nav_menu": {},
   "number_sections": true,
   "sideBar": true,
   "skip_h1_title": false,
   "title_cell": "Table of Contents",
   "title_sidebar": "Contents",
   "toc_cell": false,
   "toc_position": {},
   "toc_section_display": true,
   "toc_window_display": false
  }
 },
 "nbformat": 4,
 "nbformat_minor": 5
}
