{
 "cells": [
  {
   "cell_type": "markdown",
   "id": "425a5fd0",
   "metadata": {},
   "source": [
    "# Nomor 1"
   ]
  },
  {
   "cell_type": "markdown",
   "id": "2d333c59",
   "metadata": {},
   "source": [
    "## Bartlett Sphericity Test\n",
    "Analisis faktor eksplorasi hanya berguna jika matriks korelasi populasi secara statistik berbeda dari matriks identitas. Jika ini sama, variabel-variabelnya sedikit saling terkait, yaitu faktor-faktor spesifik menjelaskan proporsi varians yang lebih besar dan faktor-faktor umum tidak penting. Oleh karena itu, itu harus didefinisikan ketika korelasi antara variabel asli cukup tinggi. Dengan demikian, analisis faktor berguna dalam mengestimasi faktor persekutuan. Dengan pemikiran ini, uji Bartlett Sphericity dapat digunakan. Hipotesisnya adalah:\n",
    "\n",
    "H0: matriks korelasi populasi sama dengan matriks identitas\n",
    "\n",
    "H1: matriks korelasi populasi berbeda dengan matriks identitas.\n",
    "\n",
    "## KMO Test\n",
    "KMO adalah ukuran kecukupan pengambilan sampel \"Kaiser-Meyer-Olkin\" dan memeriksa apakah mungkin untuk memfaktorkan variabel utama secara efisien. Matriks korelasi selalu menjadi titik awal. Variabel kurang lebih berkorelasi, tetapi yang lain bisa mempengaruhi korelasi antara dua variabel.Oleh karena itu, dengan KMO, korelasi parsial digunakan untuk mengukur hubungan antara dua variabel dengan menghilangkan pengaruh dari variabel yang tersisa."
   ]
  },
  {
   "cell_type": "markdown",
   "id": "807f629c",
   "metadata": {},
   "source": [
    "# Nomor 2"
   ]
  },
  {
   "cell_type": "markdown",
   "id": "1829a133",
   "metadata": {},
   "source": [
    "## 8.11"
   ]
  },
  {
   "cell_type": "markdown",
   "id": "e3f7a03a",
   "metadata": {},
   "source": [
    "component analysis of the data using both the covariance matrix S and the correlation matrix R. What have you learned? Does it make any difference which matrix is chosen for analysis? Can the data be summarized in three or fewer dimensions? Can you interpret the principal components?"
   ]
  },
  {
   "cell_type": "markdown",
   "id": "3cb8a212",
   "metadata": {},
   "source": [
    "### Construct the sample covariance matrix S for the census-tract data when X5 = median value home is recorded in thousands of dollars."
   ]
  },
  {
   "cell_type": "markdown",
   "id": "335df69f",
   "metadata": {},
   "source": [
    "(Note that this covariance matrix can be obtained from the covariance matrix given in Example 8.3 by multiplying the off-diagonal elements in the fifth column and row by 10 and the diagonal element s55 by 100. Why?) "
   ]
  },
  {
   "cell_type": "markdown",
   "id": "8212010a",
   "metadata": {},
   "source": [
    "### Obtain the eigenvalue-eigenvector pairs and the first two sample principal components for the covariance matrix in Part a."
   ]
  },
  {
   "cell_type": "markdown",
   "id": "2f85c702",
   "metadata": {},
   "source": [
    "### Compute the proportion of total variance explained by the first two principal components obtained in Part b."
   ]
  },
  {
   "cell_type": "markdown",
   "id": "93d6ec9e",
   "metadata": {},
   "source": [
    "Calculate the correlation coefficients, ryi,xk' and interpret these components if possible. Compare your results with the results in Example 8.3. What can you say about the effects of this change in scale on the principal components? "
   ]
  },
  {
   "cell_type": "markdown",
   "id": "e3ed4b5e",
   "metadata": {},
   "source": [
    "## 8.12 "
   ]
  },
  {
   "cell_type": "markdown",
   "id": "324315ad",
   "metadata": {},
   "source": [
    "Consider the air-pollution data listed in Table 1.5. Your job is to summarize these data in fewer than p = 7 dimensions if possible. Conduct a principal component analysis of the data using both the covariance matrix S and the correlation matrix **R**. What have you learned? Does it make any difference which matrix is chosen for analysis? Can the data be summarized in three or fewer \n",
    "dimensions? Can you interpret the principal components?"
   ]
  },
  {
   "cell_type": "code",
   "execution_count": 1,
   "id": "58f96679",
   "metadata": {
    "ExecuteTime": {
     "end_time": "2022-04-22T07:06:09.436379Z",
     "start_time": "2022-04-22T07:06:09.377Z"
    }
   },
   "outputs": [
    {
     "ename": "ERROR",
     "evalue": "Error in parse(text = x, srcfile = src): <text>:2:18: unexpected INCOMPLETE_STRING\n1: library(\"IRdisplay\")\n2: display_png(file=\"8_12.png)  \n                    ^\n",
     "output_type": "error",
     "traceback": [
      "Error in parse(text = x, srcfile = src): <text>:2:18: unexpected INCOMPLETE_STRING\n1: library(\"IRdisplay\")\n2: display_png(file=\"8_12.png)  \n                    ^\nTraceback:\n"
     ]
    }
   ],
   "source": [
    "library(\"IRdisplay\")\n",
    "display_png(file=\"8_12.png)  "
   ]
  },
  {
   "cell_type": "markdown",
   "id": "d8b71515",
   "metadata": {},
   "source": [
    "## 8.14"
   ]
  },
  {
   "cell_type": "markdown",
   "id": "3b8a7b59",
   "metadata": {},
   "source": [
    "Perform a principal component analysis using the sample covariance matrix of the sweat data given in Example 5.2. Construct a Q-Q plot for each of the important principal components. Are there any suspect observations? Explain."
   ]
  }
 ],
 "metadata": {
  "kernelspec": {
   "display_name": "R",
   "language": "R",
   "name": "ir"
  },
  "language_info": {
   "codemirror_mode": "r",
   "file_extension": ".r",
   "mimetype": "text/x-r-source",
   "name": "R",
   "pygments_lexer": "r",
   "version": "4.0.5"
  },
  "toc": {
   "base_numbering": 1,
   "nav_menu": {},
   "number_sections": true,
   "sideBar": true,
   "skip_h1_title": false,
   "title_cell": "Table of Contents",
   "title_sidebar": "Contents",
   "toc_cell": false,
   "toc_position": {},
   "toc_section_display": true,
   "toc_window_display": false
  }
 },
 "nbformat": 4,
 "nbformat_minor": 5
}
