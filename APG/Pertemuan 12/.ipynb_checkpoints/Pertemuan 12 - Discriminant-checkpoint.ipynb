{
 "cells": [
  {
   "cell_type": "markdown",
   "id": "9660ce46",
   "metadata": {},
   "source": [
    "Alya Safadella \\\n",
    "221910892 \\\n",
    "3SI1 \\\n",
    "124F1ML"
   ]
  },
  {
   "cell_type": "code",
   "execution_count": 1,
   "id": "d3593159",
   "metadata": {
    "ExecuteTime": {
     "end_time": "2022-06-20T07:13:49.382447Z",
     "start_time": "2022-06-20T07:13:48.987Z"
    }
   },
   "outputs": [],
   "source": [
    "library(MASS)\n",
    "library(ggplot2)"
   ]
  },
  {
   "cell_type": "code",
   "execution_count": 2,
   "id": "cbb28886",
   "metadata": {
    "ExecuteTime": {
     "end_time": "2022-06-20T07:13:49.440474Z",
     "start_time": "2022-06-20T07:13:48.990Z"
    }
   },
   "outputs": [
    {
     "name": "stdout",
     "output_type": "stream",
     "text": [
      "'data.frame':\t150 obs. of  5 variables:\n",
      " $ Sepal.Length: num  5.1 4.9 4.7 4.6 5 5.4 4.6 5 4.4 4.9 ...\n",
      " $ Sepal.Width : num  3.5 3 3.2 3.1 3.6 3.9 3.4 3.4 2.9 3.1 ...\n",
      " $ Petal.Length: num  1.4 1.4 1.3 1.5 1.4 1.7 1.4 1.5 1.4 1.5 ...\n",
      " $ Petal.Width : num  0.2 0.2 0.2 0.2 0.2 0.4 0.3 0.2 0.2 0.1 ...\n",
      " $ Species     : Factor w/ 3 levels \"setosa\",\"versicolor\",..: 1 1 1 1 1 1 1 1 1 1 ...\n"
     ]
    }
   ],
   "source": [
    "#attach iris dataset to make it easy to work with\n",
    "attach(iris)\n",
    "\n",
    "#view structure of dataset\n",
    "str(iris)"
   ]
  },
  {
   "cell_type": "code",
   "execution_count": 14,
   "id": "1bcdfe6c",
   "metadata": {
    "ExecuteTime": {
     "end_time": "2022-06-20T07:13:57.816526Z",
     "start_time": "2022-06-20T07:13:57.741Z"
    },
    "scrolled": true
   },
   "outputs": [
    {
     "data": {
      "text/html": [
       "<table class=\"dataframe\">\n",
       "<caption>A data.frame: 150 × 5</caption>\n",
       "<thead>\n",
       "\t<tr><th scope=col>Sepal.Length</th><th scope=col>Sepal.Width</th><th scope=col>Petal.Length</th><th scope=col>Petal.Width</th><th scope=col>Species</th></tr>\n",
       "\t<tr><th scope=col>&lt;dbl&gt;</th><th scope=col>&lt;dbl&gt;</th><th scope=col>&lt;dbl&gt;</th><th scope=col>&lt;dbl&gt;</th><th scope=col>&lt;fct&gt;</th></tr>\n",
       "</thead>\n",
       "<tbody>\n",
       "\t<tr><td>-0.89767388</td><td> 1.01560199</td><td>-1.335752</td><td>-1.3110521</td><td>setosa</td></tr>\n",
       "\t<tr><td>-1.13920048</td><td>-0.13153881</td><td>-1.335752</td><td>-1.3110521</td><td>setosa</td></tr>\n",
       "\t<tr><td>-1.38072709</td><td> 0.32731751</td><td>-1.392399</td><td>-1.3110521</td><td>setosa</td></tr>\n",
       "\t<tr><td>-1.50149039</td><td> 0.09788935</td><td>-1.279104</td><td>-1.3110521</td><td>setosa</td></tr>\n",
       "\t<tr><td>-1.01843718</td><td> 1.24503015</td><td>-1.335752</td><td>-1.3110521</td><td>setosa</td></tr>\n",
       "\t<tr><td>-0.53538397</td><td> 1.93331463</td><td>-1.165809</td><td>-1.0486668</td><td>setosa</td></tr>\n",
       "\t<tr><td>-1.50149039</td><td> 0.78617383</td><td>-1.335752</td><td>-1.1798595</td><td>setosa</td></tr>\n",
       "\t<tr><td>-1.01843718</td><td> 0.78617383</td><td>-1.279104</td><td>-1.3110521</td><td>setosa</td></tr>\n",
       "\t<tr><td>-1.74301699</td><td>-0.36096697</td><td>-1.335752</td><td>-1.3110521</td><td>setosa</td></tr>\n",
       "\t<tr><td>-1.13920048</td><td> 0.09788935</td><td>-1.279104</td><td>-1.4422448</td><td>setosa</td></tr>\n",
       "\t<tr><td>-0.53538397</td><td> 1.47445831</td><td>-1.279104</td><td>-1.3110521</td><td>setosa</td></tr>\n",
       "\t<tr><td>-1.25996379</td><td> 0.78617383</td><td>-1.222456</td><td>-1.3110521</td><td>setosa</td></tr>\n",
       "\t<tr><td>-1.25996379</td><td>-0.13153881</td><td>-1.335752</td><td>-1.4422448</td><td>setosa</td></tr>\n",
       "\t<tr><td>-1.86378030</td><td>-0.13153881</td><td>-1.505695</td><td>-1.4422448</td><td>setosa</td></tr>\n",
       "\t<tr><td>-0.05233076</td><td> 2.16274279</td><td>-1.449047</td><td>-1.3110521</td><td>setosa</td></tr>\n",
       "\t<tr><td>-0.17309407</td><td> 3.08045544</td><td>-1.279104</td><td>-1.0486668</td><td>setosa</td></tr>\n",
       "\t<tr><td>-0.53538397</td><td> 1.93331463</td><td>-1.392399</td><td>-1.0486668</td><td>setosa</td></tr>\n",
       "\t<tr><td>-0.89767388</td><td> 1.01560199</td><td>-1.335752</td><td>-1.1798595</td><td>setosa</td></tr>\n",
       "\t<tr><td>-0.17309407</td><td> 1.70388647</td><td>-1.165809</td><td>-1.1798595</td><td>setosa</td></tr>\n",
       "\t<tr><td>-0.89767388</td><td> 1.70388647</td><td>-1.279104</td><td>-1.1798595</td><td>setosa</td></tr>\n",
       "\t<tr><td>-0.53538397</td><td> 0.78617383</td><td>-1.165809</td><td>-1.3110521</td><td>setosa</td></tr>\n",
       "\t<tr><td>-0.89767388</td><td> 1.47445831</td><td>-1.279104</td><td>-1.0486668</td><td>setosa</td></tr>\n",
       "\t<tr><td>-1.50149039</td><td> 1.24503015</td><td>-1.562342</td><td>-1.3110521</td><td>setosa</td></tr>\n",
       "\t<tr><td>-0.89767388</td><td> 0.55674567</td><td>-1.165809</td><td>-0.9174741</td><td>setosa</td></tr>\n",
       "\t<tr><td>-1.25996379</td><td> 0.78617383</td><td>-1.052513</td><td>-1.3110521</td><td>setosa</td></tr>\n",
       "\t<tr><td>-1.01843718</td><td>-0.13153881</td><td>-1.222456</td><td>-1.3110521</td><td>setosa</td></tr>\n",
       "\t<tr><td>-1.01843718</td><td> 0.78617383</td><td>-1.222456</td><td>-1.0486668</td><td>setosa</td></tr>\n",
       "\t<tr><td>-0.77691058</td><td> 1.01560199</td><td>-1.279104</td><td>-1.3110521</td><td>setosa</td></tr>\n",
       "\t<tr><td>-0.77691058</td><td> 0.78617383</td><td>-1.335752</td><td>-1.3110521</td><td>setosa</td></tr>\n",
       "\t<tr><td>-1.38072709</td><td> 0.32731751</td><td>-1.222456</td><td>-1.3110521</td><td>setosa</td></tr>\n",
       "\t<tr><td>⋮</td><td>⋮</td><td>⋮</td><td>⋮</td><td>⋮</td></tr>\n",
       "\t<tr><td> 1.27606556</td><td> 0.32731751</td><td>1.1000974</td><td>1.4439941</td><td>virginica</td></tr>\n",
       "\t<tr><td>-0.29385737</td><td>-0.59039513</td><td>0.6469162</td><td>1.0504160</td><td>virginica</td></tr>\n",
       "\t<tr><td> 2.24217198</td><td>-0.59039513</td><td>1.6665739</td><td>1.0504160</td><td>virginica</td></tr>\n",
       "\t<tr><td> 0.55148575</td><td>-0.81982329</td><td>0.6469162</td><td>0.7880307</td><td>virginica</td></tr>\n",
       "\t<tr><td> 1.03453895</td><td> 0.55674567</td><td>1.1000974</td><td>1.1816087</td><td>virginica</td></tr>\n",
       "\t<tr><td> 1.63835547</td><td> 0.32731751</td><td>1.2700404</td><td>0.7880307</td><td>virginica</td></tr>\n",
       "\t<tr><td> 0.43072244</td><td>-0.59039513</td><td>0.5902685</td><td>0.7880307</td><td>virginica</td></tr>\n",
       "\t<tr><td> 0.30995914</td><td>-0.13153881</td><td>0.6469162</td><td>0.7880307</td><td>virginica</td></tr>\n",
       "\t<tr><td> 0.67224905</td><td>-0.59039513</td><td>1.0434497</td><td>1.1816087</td><td>virginica</td></tr>\n",
       "\t<tr><td> 1.63835547</td><td>-0.13153881</td><td>1.1567451</td><td>0.5256453</td><td>virginica</td></tr>\n",
       "\t<tr><td> 1.87988207</td><td>-0.59039513</td><td>1.3266880</td><td>0.9192234</td><td>virginica</td></tr>\n",
       "\t<tr><td> 2.48369858</td><td> 1.70388647</td><td>1.4966310</td><td>1.0504160</td><td>virginica</td></tr>\n",
       "\t<tr><td> 0.67224905</td><td>-0.59039513</td><td>1.0434497</td><td>1.3128014</td><td>virginica</td></tr>\n",
       "\t<tr><td> 0.55148575</td><td>-0.59039513</td><td>0.7602115</td><td>0.3944526</td><td>virginica</td></tr>\n",
       "\t<tr><td> 0.30995914</td><td>-1.04925145</td><td>1.0434497</td><td>0.2632600</td><td>virginica</td></tr>\n",
       "\t<tr><td> 2.24217198</td><td>-0.13153881</td><td>1.3266880</td><td>1.4439941</td><td>virginica</td></tr>\n",
       "\t<tr><td> 0.55148575</td><td> 0.78617383</td><td>1.0434497</td><td>1.5751867</td><td>virginica</td></tr>\n",
       "\t<tr><td> 0.67224905</td><td> 0.09788935</td><td>0.9868021</td><td>0.7880307</td><td>virginica</td></tr>\n",
       "\t<tr><td> 0.18919584</td><td>-0.13153881</td><td>0.5902685</td><td>0.7880307</td><td>virginica</td></tr>\n",
       "\t<tr><td> 1.27606556</td><td> 0.09788935</td><td>0.9301544</td><td>1.1816087</td><td>virginica</td></tr>\n",
       "\t<tr><td> 1.03453895</td><td> 0.09788935</td><td>1.0434497</td><td>1.5751867</td><td>virginica</td></tr>\n",
       "\t<tr><td> 1.27606556</td><td> 0.09788935</td><td>0.7602115</td><td>1.4439941</td><td>virginica</td></tr>\n",
       "\t<tr><td>-0.05233076</td><td>-0.81982329</td><td>0.7602115</td><td>0.9192234</td><td>virginica</td></tr>\n",
       "\t<tr><td> 1.15530226</td><td> 0.32731751</td><td>1.2133927</td><td>1.4439941</td><td>virginica</td></tr>\n",
       "\t<tr><td> 1.03453895</td><td> 0.55674567</td><td>1.1000974</td><td>1.7063794</td><td>virginica</td></tr>\n",
       "\t<tr><td> 1.03453895</td><td>-0.13153881</td><td>0.8168591</td><td>1.4439941</td><td>virginica</td></tr>\n",
       "\t<tr><td> 0.55148575</td><td>-1.27867961</td><td>0.7035638</td><td>0.9192234</td><td>virginica</td></tr>\n",
       "\t<tr><td> 0.79301235</td><td>-0.13153881</td><td>0.8168591</td><td>1.0504160</td><td>virginica</td></tr>\n",
       "\t<tr><td> 0.43072244</td><td> 0.78617383</td><td>0.9301544</td><td>1.4439941</td><td>virginica</td></tr>\n",
       "\t<tr><td> 0.06843254</td><td>-0.13153881</td><td>0.7602115</td><td>0.7880307</td><td>virginica</td></tr>\n",
       "</tbody>\n",
       "</table>\n"
      ],
      "text/latex": [
       "A data.frame: 150 × 5\n",
       "\\begin{tabular}{lllll}\n",
       " Sepal.Length & Sepal.Width & Petal.Length & Petal.Width & Species\\\\\n",
       " <dbl> & <dbl> & <dbl> & <dbl> & <fct>\\\\\n",
       "\\hline\n",
       "\t -0.89767388 &  1.01560199 & -1.335752 & -1.3110521 & setosa\\\\\n",
       "\t -1.13920048 & -0.13153881 & -1.335752 & -1.3110521 & setosa\\\\\n",
       "\t -1.38072709 &  0.32731751 & -1.392399 & -1.3110521 & setosa\\\\\n",
       "\t -1.50149039 &  0.09788935 & -1.279104 & -1.3110521 & setosa\\\\\n",
       "\t -1.01843718 &  1.24503015 & -1.335752 & -1.3110521 & setosa\\\\\n",
       "\t -0.53538397 &  1.93331463 & -1.165809 & -1.0486668 & setosa\\\\\n",
       "\t -1.50149039 &  0.78617383 & -1.335752 & -1.1798595 & setosa\\\\\n",
       "\t -1.01843718 &  0.78617383 & -1.279104 & -1.3110521 & setosa\\\\\n",
       "\t -1.74301699 & -0.36096697 & -1.335752 & -1.3110521 & setosa\\\\\n",
       "\t -1.13920048 &  0.09788935 & -1.279104 & -1.4422448 & setosa\\\\\n",
       "\t -0.53538397 &  1.47445831 & -1.279104 & -1.3110521 & setosa\\\\\n",
       "\t -1.25996379 &  0.78617383 & -1.222456 & -1.3110521 & setosa\\\\\n",
       "\t -1.25996379 & -0.13153881 & -1.335752 & -1.4422448 & setosa\\\\\n",
       "\t -1.86378030 & -0.13153881 & -1.505695 & -1.4422448 & setosa\\\\\n",
       "\t -0.05233076 &  2.16274279 & -1.449047 & -1.3110521 & setosa\\\\\n",
       "\t -0.17309407 &  3.08045544 & -1.279104 & -1.0486668 & setosa\\\\\n",
       "\t -0.53538397 &  1.93331463 & -1.392399 & -1.0486668 & setosa\\\\\n",
       "\t -0.89767388 &  1.01560199 & -1.335752 & -1.1798595 & setosa\\\\\n",
       "\t -0.17309407 &  1.70388647 & -1.165809 & -1.1798595 & setosa\\\\\n",
       "\t -0.89767388 &  1.70388647 & -1.279104 & -1.1798595 & setosa\\\\\n",
       "\t -0.53538397 &  0.78617383 & -1.165809 & -1.3110521 & setosa\\\\\n",
       "\t -0.89767388 &  1.47445831 & -1.279104 & -1.0486668 & setosa\\\\\n",
       "\t -1.50149039 &  1.24503015 & -1.562342 & -1.3110521 & setosa\\\\\n",
       "\t -0.89767388 &  0.55674567 & -1.165809 & -0.9174741 & setosa\\\\\n",
       "\t -1.25996379 &  0.78617383 & -1.052513 & -1.3110521 & setosa\\\\\n",
       "\t -1.01843718 & -0.13153881 & -1.222456 & -1.3110521 & setosa\\\\\n",
       "\t -1.01843718 &  0.78617383 & -1.222456 & -1.0486668 & setosa\\\\\n",
       "\t -0.77691058 &  1.01560199 & -1.279104 & -1.3110521 & setosa\\\\\n",
       "\t -0.77691058 &  0.78617383 & -1.335752 & -1.3110521 & setosa\\\\\n",
       "\t -1.38072709 &  0.32731751 & -1.222456 & -1.3110521 & setosa\\\\\n",
       "\t ⋮ & ⋮ & ⋮ & ⋮ & ⋮\\\\\n",
       "\t  1.27606556 &  0.32731751 & 1.1000974 & 1.4439941 & virginica\\\\\n",
       "\t -0.29385737 & -0.59039513 & 0.6469162 & 1.0504160 & virginica\\\\\n",
       "\t  2.24217198 & -0.59039513 & 1.6665739 & 1.0504160 & virginica\\\\\n",
       "\t  0.55148575 & -0.81982329 & 0.6469162 & 0.7880307 & virginica\\\\\n",
       "\t  1.03453895 &  0.55674567 & 1.1000974 & 1.1816087 & virginica\\\\\n",
       "\t  1.63835547 &  0.32731751 & 1.2700404 & 0.7880307 & virginica\\\\\n",
       "\t  0.43072244 & -0.59039513 & 0.5902685 & 0.7880307 & virginica\\\\\n",
       "\t  0.30995914 & -0.13153881 & 0.6469162 & 0.7880307 & virginica\\\\\n",
       "\t  0.67224905 & -0.59039513 & 1.0434497 & 1.1816087 & virginica\\\\\n",
       "\t  1.63835547 & -0.13153881 & 1.1567451 & 0.5256453 & virginica\\\\\n",
       "\t  1.87988207 & -0.59039513 & 1.3266880 & 0.9192234 & virginica\\\\\n",
       "\t  2.48369858 &  1.70388647 & 1.4966310 & 1.0504160 & virginica\\\\\n",
       "\t  0.67224905 & -0.59039513 & 1.0434497 & 1.3128014 & virginica\\\\\n",
       "\t  0.55148575 & -0.59039513 & 0.7602115 & 0.3944526 & virginica\\\\\n",
       "\t  0.30995914 & -1.04925145 & 1.0434497 & 0.2632600 & virginica\\\\\n",
       "\t  2.24217198 & -0.13153881 & 1.3266880 & 1.4439941 & virginica\\\\\n",
       "\t  0.55148575 &  0.78617383 & 1.0434497 & 1.5751867 & virginica\\\\\n",
       "\t  0.67224905 &  0.09788935 & 0.9868021 & 0.7880307 & virginica\\\\\n",
       "\t  0.18919584 & -0.13153881 & 0.5902685 & 0.7880307 & virginica\\\\\n",
       "\t  1.27606556 &  0.09788935 & 0.9301544 & 1.1816087 & virginica\\\\\n",
       "\t  1.03453895 &  0.09788935 & 1.0434497 & 1.5751867 & virginica\\\\\n",
       "\t  1.27606556 &  0.09788935 & 0.7602115 & 1.4439941 & virginica\\\\\n",
       "\t -0.05233076 & -0.81982329 & 0.7602115 & 0.9192234 & virginica\\\\\n",
       "\t  1.15530226 &  0.32731751 & 1.2133927 & 1.4439941 & virginica\\\\\n",
       "\t  1.03453895 &  0.55674567 & 1.1000974 & 1.7063794 & virginica\\\\\n",
       "\t  1.03453895 & -0.13153881 & 0.8168591 & 1.4439941 & virginica\\\\\n",
       "\t  0.55148575 & -1.27867961 & 0.7035638 & 0.9192234 & virginica\\\\\n",
       "\t  0.79301235 & -0.13153881 & 0.8168591 & 1.0504160 & virginica\\\\\n",
       "\t  0.43072244 &  0.78617383 & 0.9301544 & 1.4439941 & virginica\\\\\n",
       "\t  0.06843254 & -0.13153881 & 0.7602115 & 0.7880307 & virginica\\\\\n",
       "\\end{tabular}\n"
      ],
      "text/markdown": [
       "\n",
       "A data.frame: 150 × 5\n",
       "\n",
       "| Sepal.Length &lt;dbl&gt; | Sepal.Width &lt;dbl&gt; | Petal.Length &lt;dbl&gt; | Petal.Width &lt;dbl&gt; | Species &lt;fct&gt; |\n",
       "|---|---|---|---|---|\n",
       "| -0.89767388 |  1.01560199 | -1.335752 | -1.3110521 | setosa |\n",
       "| -1.13920048 | -0.13153881 | -1.335752 | -1.3110521 | setosa |\n",
       "| -1.38072709 |  0.32731751 | -1.392399 | -1.3110521 | setosa |\n",
       "| -1.50149039 |  0.09788935 | -1.279104 | -1.3110521 | setosa |\n",
       "| -1.01843718 |  1.24503015 | -1.335752 | -1.3110521 | setosa |\n",
       "| -0.53538397 |  1.93331463 | -1.165809 | -1.0486668 | setosa |\n",
       "| -1.50149039 |  0.78617383 | -1.335752 | -1.1798595 | setosa |\n",
       "| -1.01843718 |  0.78617383 | -1.279104 | -1.3110521 | setosa |\n",
       "| -1.74301699 | -0.36096697 | -1.335752 | -1.3110521 | setosa |\n",
       "| -1.13920048 |  0.09788935 | -1.279104 | -1.4422448 | setosa |\n",
       "| -0.53538397 |  1.47445831 | -1.279104 | -1.3110521 | setosa |\n",
       "| -1.25996379 |  0.78617383 | -1.222456 | -1.3110521 | setosa |\n",
       "| -1.25996379 | -0.13153881 | -1.335752 | -1.4422448 | setosa |\n",
       "| -1.86378030 | -0.13153881 | -1.505695 | -1.4422448 | setosa |\n",
       "| -0.05233076 |  2.16274279 | -1.449047 | -1.3110521 | setosa |\n",
       "| -0.17309407 |  3.08045544 | -1.279104 | -1.0486668 | setosa |\n",
       "| -0.53538397 |  1.93331463 | -1.392399 | -1.0486668 | setosa |\n",
       "| -0.89767388 |  1.01560199 | -1.335752 | -1.1798595 | setosa |\n",
       "| -0.17309407 |  1.70388647 | -1.165809 | -1.1798595 | setosa |\n",
       "| -0.89767388 |  1.70388647 | -1.279104 | -1.1798595 | setosa |\n",
       "| -0.53538397 |  0.78617383 | -1.165809 | -1.3110521 | setosa |\n",
       "| -0.89767388 |  1.47445831 | -1.279104 | -1.0486668 | setosa |\n",
       "| -1.50149039 |  1.24503015 | -1.562342 | -1.3110521 | setosa |\n",
       "| -0.89767388 |  0.55674567 | -1.165809 | -0.9174741 | setosa |\n",
       "| -1.25996379 |  0.78617383 | -1.052513 | -1.3110521 | setosa |\n",
       "| -1.01843718 | -0.13153881 | -1.222456 | -1.3110521 | setosa |\n",
       "| -1.01843718 |  0.78617383 | -1.222456 | -1.0486668 | setosa |\n",
       "| -0.77691058 |  1.01560199 | -1.279104 | -1.3110521 | setosa |\n",
       "| -0.77691058 |  0.78617383 | -1.335752 | -1.3110521 | setosa |\n",
       "| -1.38072709 |  0.32731751 | -1.222456 | -1.3110521 | setosa |\n",
       "| ⋮ | ⋮ | ⋮ | ⋮ | ⋮ |\n",
       "|  1.27606556 |  0.32731751 | 1.1000974 | 1.4439941 | virginica |\n",
       "| -0.29385737 | -0.59039513 | 0.6469162 | 1.0504160 | virginica |\n",
       "|  2.24217198 | -0.59039513 | 1.6665739 | 1.0504160 | virginica |\n",
       "|  0.55148575 | -0.81982329 | 0.6469162 | 0.7880307 | virginica |\n",
       "|  1.03453895 |  0.55674567 | 1.1000974 | 1.1816087 | virginica |\n",
       "|  1.63835547 |  0.32731751 | 1.2700404 | 0.7880307 | virginica |\n",
       "|  0.43072244 | -0.59039513 | 0.5902685 | 0.7880307 | virginica |\n",
       "|  0.30995914 | -0.13153881 | 0.6469162 | 0.7880307 | virginica |\n",
       "|  0.67224905 | -0.59039513 | 1.0434497 | 1.1816087 | virginica |\n",
       "|  1.63835547 | -0.13153881 | 1.1567451 | 0.5256453 | virginica |\n",
       "|  1.87988207 | -0.59039513 | 1.3266880 | 0.9192234 | virginica |\n",
       "|  2.48369858 |  1.70388647 | 1.4966310 | 1.0504160 | virginica |\n",
       "|  0.67224905 | -0.59039513 | 1.0434497 | 1.3128014 | virginica |\n",
       "|  0.55148575 | -0.59039513 | 0.7602115 | 0.3944526 | virginica |\n",
       "|  0.30995914 | -1.04925145 | 1.0434497 | 0.2632600 | virginica |\n",
       "|  2.24217198 | -0.13153881 | 1.3266880 | 1.4439941 | virginica |\n",
       "|  0.55148575 |  0.78617383 | 1.0434497 | 1.5751867 | virginica |\n",
       "|  0.67224905 |  0.09788935 | 0.9868021 | 0.7880307 | virginica |\n",
       "|  0.18919584 | -0.13153881 | 0.5902685 | 0.7880307 | virginica |\n",
       "|  1.27606556 |  0.09788935 | 0.9301544 | 1.1816087 | virginica |\n",
       "|  1.03453895 |  0.09788935 | 1.0434497 | 1.5751867 | virginica |\n",
       "|  1.27606556 |  0.09788935 | 0.7602115 | 1.4439941 | virginica |\n",
       "| -0.05233076 | -0.81982329 | 0.7602115 | 0.9192234 | virginica |\n",
       "|  1.15530226 |  0.32731751 | 1.2133927 | 1.4439941 | virginica |\n",
       "|  1.03453895 |  0.55674567 | 1.1000974 | 1.7063794 | virginica |\n",
       "|  1.03453895 | -0.13153881 | 0.8168591 | 1.4439941 | virginica |\n",
       "|  0.55148575 | -1.27867961 | 0.7035638 | 0.9192234 | virginica |\n",
       "|  0.79301235 | -0.13153881 | 0.8168591 | 1.0504160 | virginica |\n",
       "|  0.43072244 |  0.78617383 | 0.9301544 | 1.4439941 | virginica |\n",
       "|  0.06843254 | -0.13153881 | 0.7602115 | 0.7880307 | virginica |\n",
       "\n"
      ],
      "text/plain": [
       "    Sepal.Length Sepal.Width Petal.Length Petal.Width Species  \n",
       "1   -0.89767388   1.01560199 -1.335752    -1.3110521  setosa   \n",
       "2   -1.13920048  -0.13153881 -1.335752    -1.3110521  setosa   \n",
       "3   -1.38072709   0.32731751 -1.392399    -1.3110521  setosa   \n",
       "4   -1.50149039   0.09788935 -1.279104    -1.3110521  setosa   \n",
       "5   -1.01843718   1.24503015 -1.335752    -1.3110521  setosa   \n",
       "6   -0.53538397   1.93331463 -1.165809    -1.0486668  setosa   \n",
       "7   -1.50149039   0.78617383 -1.335752    -1.1798595  setosa   \n",
       "8   -1.01843718   0.78617383 -1.279104    -1.3110521  setosa   \n",
       "9   -1.74301699  -0.36096697 -1.335752    -1.3110521  setosa   \n",
       "10  -1.13920048   0.09788935 -1.279104    -1.4422448  setosa   \n",
       "11  -0.53538397   1.47445831 -1.279104    -1.3110521  setosa   \n",
       "12  -1.25996379   0.78617383 -1.222456    -1.3110521  setosa   \n",
       "13  -1.25996379  -0.13153881 -1.335752    -1.4422448  setosa   \n",
       "14  -1.86378030  -0.13153881 -1.505695    -1.4422448  setosa   \n",
       "15  -0.05233076   2.16274279 -1.449047    -1.3110521  setosa   \n",
       "16  -0.17309407   3.08045544 -1.279104    -1.0486668  setosa   \n",
       "17  -0.53538397   1.93331463 -1.392399    -1.0486668  setosa   \n",
       "18  -0.89767388   1.01560199 -1.335752    -1.1798595  setosa   \n",
       "19  -0.17309407   1.70388647 -1.165809    -1.1798595  setosa   \n",
       "20  -0.89767388   1.70388647 -1.279104    -1.1798595  setosa   \n",
       "21  -0.53538397   0.78617383 -1.165809    -1.3110521  setosa   \n",
       "22  -0.89767388   1.47445831 -1.279104    -1.0486668  setosa   \n",
       "23  -1.50149039   1.24503015 -1.562342    -1.3110521  setosa   \n",
       "24  -0.89767388   0.55674567 -1.165809    -0.9174741  setosa   \n",
       "25  -1.25996379   0.78617383 -1.052513    -1.3110521  setosa   \n",
       "26  -1.01843718  -0.13153881 -1.222456    -1.3110521  setosa   \n",
       "27  -1.01843718   0.78617383 -1.222456    -1.0486668  setosa   \n",
       "28  -0.77691058   1.01560199 -1.279104    -1.3110521  setosa   \n",
       "29  -0.77691058   0.78617383 -1.335752    -1.3110521  setosa   \n",
       "30  -1.38072709   0.32731751 -1.222456    -1.3110521  setosa   \n",
       "<U+22EE>   <U+22EE>     <U+22EE>    <U+22EE>     <U+22EE>    <U+22EE> \n",
       "121  1.27606556   0.32731751 1.1000974    1.4439941   virginica\n",
       "122 -0.29385737  -0.59039513 0.6469162    1.0504160   virginica\n",
       "123  2.24217198  -0.59039513 1.6665739    1.0504160   virginica\n",
       "124  0.55148575  -0.81982329 0.6469162    0.7880307   virginica\n",
       "125  1.03453895   0.55674567 1.1000974    1.1816087   virginica\n",
       "126  1.63835547   0.32731751 1.2700404    0.7880307   virginica\n",
       "127  0.43072244  -0.59039513 0.5902685    0.7880307   virginica\n",
       "128  0.30995914  -0.13153881 0.6469162    0.7880307   virginica\n",
       "129  0.67224905  -0.59039513 1.0434497    1.1816087   virginica\n",
       "130  1.63835547  -0.13153881 1.1567451    0.5256453   virginica\n",
       "131  1.87988207  -0.59039513 1.3266880    0.9192234   virginica\n",
       "132  2.48369858   1.70388647 1.4966310    1.0504160   virginica\n",
       "133  0.67224905  -0.59039513 1.0434497    1.3128014   virginica\n",
       "134  0.55148575  -0.59039513 0.7602115    0.3944526   virginica\n",
       "135  0.30995914  -1.04925145 1.0434497    0.2632600   virginica\n",
       "136  2.24217198  -0.13153881 1.3266880    1.4439941   virginica\n",
       "137  0.55148575   0.78617383 1.0434497    1.5751867   virginica\n",
       "138  0.67224905   0.09788935 0.9868021    0.7880307   virginica\n",
       "139  0.18919584  -0.13153881 0.5902685    0.7880307   virginica\n",
       "140  1.27606556   0.09788935 0.9301544    1.1816087   virginica\n",
       "141  1.03453895   0.09788935 1.0434497    1.5751867   virginica\n",
       "142  1.27606556   0.09788935 0.7602115    1.4439941   virginica\n",
       "143 -0.05233076  -0.81982329 0.7602115    0.9192234   virginica\n",
       "144  1.15530226   0.32731751 1.2133927    1.4439941   virginica\n",
       "145  1.03453895   0.55674567 1.1000974    1.7063794   virginica\n",
       "146  1.03453895  -0.13153881 0.8168591    1.4439941   virginica\n",
       "147  0.55148575  -1.27867961 0.7035638    0.9192234   virginica\n",
       "148  0.79301235  -0.13153881 0.8168591    1.0504160   virginica\n",
       "149  0.43072244   0.78617383 0.9301544    1.4439941   virginica\n",
       "150  0.06843254  -0.13153881 0.7602115    0.7880307   virginica"
      ]
     },
     "metadata": {},
     "output_type": "display_data"
    }
   ],
   "source": [
    "iris"
   ]
  },
  {
   "cell_type": "code",
   "execution_count": 3,
   "id": "25c2e024",
   "metadata": {
    "ExecuteTime": {
     "end_time": "2022-06-20T07:13:49.469468Z",
     "start_time": "2022-06-20T07:13:48.992Z"
    }
   },
   "outputs": [],
   "source": [
    "#scale each predictor variable (i.e. first 4 columns)\n",
    "iris[1:4] <- scale(iris[1:4])"
   ]
  },
  {
   "cell_type": "code",
   "execution_count": 4,
   "id": "0cb6052e",
   "metadata": {
    "ExecuteTime": {
     "end_time": "2022-06-20T07:13:49.497469Z",
     "start_time": "2022-06-20T07:13:48.994Z"
    }
   },
   "outputs": [
    {
     "data": {
      "text/html": [
       "<style>\n",
       ".dl-inline {width: auto; margin:0; padding: 0}\n",
       ".dl-inline>dt, .dl-inline>dd {float: none; width: auto; display: inline-block}\n",
       ".dl-inline>dt::after {content: \":\\0020\"; padding-right: .5ex}\n",
       ".dl-inline>dt:not(:first-of-type) {padding-left: .5ex}\n",
       "</style><dl class=dl-inline><dt>Sepal.Length</dt><dd>-4.48431846126682e-16</dd><dt>Sepal.Width</dt><dd>2.03409428334532e-16</dd><dt>Petal.Length</dt><dd>-2.89532576155012e-17</dd><dt>Petal.Width</dt><dd>-3.66304931988711e-17</dd></dl>\n"
      ],
      "text/latex": [
       "\\begin{description*}\n",
       "\\item[Sepal.Length] -4.48431846126682e-16\n",
       "\\item[Sepal.Width] 2.03409428334532e-16\n",
       "\\item[Petal.Length] -2.89532576155012e-17\n",
       "\\item[Petal.Width] -3.66304931988711e-17\n",
       "\\end{description*}\n"
      ],
      "text/markdown": [
       "Sepal.Length\n",
       ":   -4.48431846126682e-16Sepal.Width\n",
       ":   2.03409428334532e-16Petal.Length\n",
       ":   -2.89532576155012e-17Petal.Width\n",
       ":   -3.66304931988711e-17\n",
       "\n"
      ],
      "text/plain": [
       " Sepal.Length   Sepal.Width  Petal.Length   Petal.Width \n",
       "-4.484318e-16  2.034094e-16 -2.895326e-17 -3.663049e-17 "
      ]
     },
     "metadata": {},
     "output_type": "display_data"
    }
   ],
   "source": [
    "#find mean of each predictor variable\n",
    "apply(iris[1:4], 2, mean)\n"
   ]
  },
  {
   "cell_type": "code",
   "execution_count": 5,
   "id": "239543a0",
   "metadata": {
    "ExecuteTime": {
     "end_time": "2022-06-20T07:13:49.527524Z",
     "start_time": "2022-06-20T07:13:48.996Z"
    }
   },
   "outputs": [
    {
     "data": {
      "text/html": [
       "<style>\n",
       ".dl-inline {width: auto; margin:0; padding: 0}\n",
       ".dl-inline>dt, .dl-inline>dd {float: none; width: auto; display: inline-block}\n",
       ".dl-inline>dt::after {content: \":\\0020\"; padding-right: .5ex}\n",
       ".dl-inline>dt:not(:first-of-type) {padding-left: .5ex}\n",
       "</style><dl class=dl-inline><dt>Sepal.Length</dt><dd>1</dd><dt>Sepal.Width</dt><dd>1</dd><dt>Petal.Length</dt><dd>1</dd><dt>Petal.Width</dt><dd>1</dd></dl>\n"
      ],
      "text/latex": [
       "\\begin{description*}\n",
       "\\item[Sepal.Length] 1\n",
       "\\item[Sepal.Width] 1\n",
       "\\item[Petal.Length] 1\n",
       "\\item[Petal.Width] 1\n",
       "\\end{description*}\n"
      ],
      "text/markdown": [
       "Sepal.Length\n",
       ":   1Sepal.Width\n",
       ":   1Petal.Length\n",
       ":   1Petal.Width\n",
       ":   1\n",
       "\n"
      ],
      "text/plain": [
       "Sepal.Length  Sepal.Width Petal.Length  Petal.Width \n",
       "           1            1            1            1 "
      ]
     },
     "metadata": {},
     "output_type": "display_data"
    }
   ],
   "source": [
    "#find standard deviation of each predictor variable\n",
    "apply(iris[1:4], 2, sd) "
   ]
  },
  {
   "cell_type": "code",
   "execution_count": 6,
   "id": "c6ecff99",
   "metadata": {
    "ExecuteTime": {
     "end_time": "2022-06-20T07:13:49.559525Z",
     "start_time": "2022-06-20T07:13:48.999Z"
    }
   },
   "outputs": [],
   "source": [
    "#make this example reproducible\n",
    "set.seed(1)\n",
    "\n",
    "#Use 70% of dataset as training set and remaining 30% as testing set\n",
    "sample <- sample(c(TRUE, FALSE), nrow(iris), replace=TRUE, prob=c(0.7,0.3))\n",
    "train <- iris[sample, ]\n",
    "test <- iris[!sample, ] "
   ]
  },
  {
   "cell_type": "code",
   "execution_count": 7,
   "id": "5c491224",
   "metadata": {
    "ExecuteTime": {
     "end_time": "2022-06-20T07:13:49.673296Z",
     "start_time": "2022-06-20T07:13:49.000Z"
    }
   },
   "outputs": [
    {
     "data": {
      "text/plain": [
       "Call:\n",
       "lda(Species ~ ., data = train)\n",
       "\n",
       "Prior probabilities of groups:\n",
       "    setosa versicolor  virginica \n",
       " 0.3207547  0.3207547  0.3584906 \n",
       "\n",
       "Group means:\n",
       "           Sepal.Length Sepal.Width Petal.Length Petal.Width\n",
       "setosa       -1.0397484   0.8131654   -1.2891006  -1.2570316\n",
       "versicolor    0.1820921  -0.6038909    0.3403524   0.2208153\n",
       "virginica     0.9582674  -0.1919146    1.0389776   1.1229172\n",
       "\n",
       "Coefficients of linear discriminants:\n",
       "                    LD1        LD2\n",
       "Sepal.Length  0.7922820  0.5294210\n",
       "Sepal.Width   0.5710586  0.7130743\n",
       "Petal.Length -4.0762061 -2.7305131\n",
       "Petal.Width  -2.0602181  2.6326229\n",
       "\n",
       "Proportion of trace:\n",
       "   LD1    LD2 \n",
       "0.9921 0.0079 "
      ]
     },
     "metadata": {},
     "output_type": "display_data"
    }
   ],
   "source": [
    "#fit LDA model\n",
    "model <- lda(Species~., data=train)\n",
    "\n",
    "#view model output\n",
    "model"
   ]
  },
  {
   "cell_type": "code",
   "execution_count": 8,
   "id": "89e438fe",
   "metadata": {
    "ExecuteTime": {
     "end_time": "2022-06-20T07:13:49.708260Z",
     "start_time": "2022-06-20T07:13:49.002Z"
    }
   },
   "outputs": [
    {
     "data": {
      "text/html": [
       "<style>\n",
       ".list-inline {list-style: none; margin:0; padding: 0}\n",
       ".list-inline>li {display: inline-block}\n",
       ".list-inline>li:not(:last-child)::after {content: \"\\00b7\"; padding: 0 .5ex}\n",
       "</style>\n",
       "<ol class=list-inline><li>'class'</li><li>'posterior'</li><li>'x'</li></ol>\n"
      ],
      "text/latex": [
       "\\begin{enumerate*}\n",
       "\\item 'class'\n",
       "\\item 'posterior'\n",
       "\\item 'x'\n",
       "\\end{enumerate*}\n"
      ],
      "text/markdown": [
       "1. 'class'\n",
       "2. 'posterior'\n",
       "3. 'x'\n",
       "\n",
       "\n"
      ],
      "text/plain": [
       "[1] \"class\"     \"posterior\" \"x\"        "
      ]
     },
     "metadata": {},
     "output_type": "display_data"
    }
   ],
   "source": [
    "#use LDA model to make predictions on test data\n",
    "predicted <- predict(model, test)\n",
    "\n",
    "names(predicted)"
   ]
  },
  {
   "cell_type": "code",
   "execution_count": 9,
   "id": "96d5f95c",
   "metadata": {
    "ExecuteTime": {
     "end_time": "2022-06-20T07:13:49.740271Z",
     "start_time": "2022-06-20T07:13:49.004Z"
    }
   },
   "outputs": [
    {
     "data": {
      "text/html": [
       "<style>\n",
       ".list-inline {list-style: none; margin:0; padding: 0}\n",
       ".list-inline>li {display: inline-block}\n",
       ".list-inline>li:not(:last-child)::after {content: \"\\00b7\"; padding: 0 .5ex}\n",
       "</style>\n",
       "<ol class=list-inline><li>setosa</li><li>setosa</li><li>setosa</li><li>setosa</li><li>setosa</li><li>setosa</li></ol>\n",
       "\n",
       "<details>\n",
       "\t<summary style=display:list-item;cursor:pointer>\n",
       "\t\t<strong>Levels</strong>:\n",
       "\t</summary>\n",
       "\t<style>\n",
       "\t.list-inline {list-style: none; margin:0; padding: 0}\n",
       "\t.list-inline>li {display: inline-block}\n",
       "\t.list-inline>li:not(:last-child)::after {content: \"\\00b7\"; padding: 0 .5ex}\n",
       "\t</style>\n",
       "\t<ol class=list-inline><li>'setosa'</li><li>'versicolor'</li><li>'virginica'</li></ol>\n",
       "</details>"
      ],
      "text/latex": [
       "\\begin{enumerate*}\n",
       "\\item setosa\n",
       "\\item setosa\n",
       "\\item setosa\n",
       "\\item setosa\n",
       "\\item setosa\n",
       "\\item setosa\n",
       "\\end{enumerate*}\n",
       "\n",
       "\\emph{Levels}: \\begin{enumerate*}\n",
       "\\item 'setosa'\n",
       "\\item 'versicolor'\n",
       "\\item 'virginica'\n",
       "\\end{enumerate*}\n"
      ],
      "text/markdown": [
       "1. setosa\n",
       "2. setosa\n",
       "3. setosa\n",
       "4. setosa\n",
       "5. setosa\n",
       "6. setosa\n",
       "\n",
       "\n",
       "\n",
       "**Levels**: 1. 'setosa'\n",
       "2. 'versicolor'\n",
       "3. 'virginica'\n",
       "\n",
       "\n"
      ],
      "text/plain": [
       "[1] setosa setosa setosa setosa setosa setosa\n",
       "Levels: setosa versicolor virginica"
      ]
     },
     "metadata": {},
     "output_type": "display_data"
    }
   ],
   "source": [
    "#view predicted class for first six observations in test set\n",
    "head(predicted$class)"
   ]
  },
  {
   "cell_type": "code",
   "execution_count": 10,
   "id": "ffb9ccb9",
   "metadata": {
    "ExecuteTime": {
     "end_time": "2022-06-20T07:13:49.777256Z",
     "start_time": "2022-06-20T07:13:49.005Z"
    }
   },
   "outputs": [
    {
     "data": {
      "text/html": [
       "<table class=\"dataframe\">\n",
       "<caption>A matrix: 6 × 3 of type dbl</caption>\n",
       "<thead>\n",
       "\t<tr><th></th><th scope=col>setosa</th><th scope=col>versicolor</th><th scope=col>virginica</th></tr>\n",
       "</thead>\n",
       "<tbody>\n",
       "\t<tr><th scope=row>4</th><td>1</td><td>2.425563e-17</td><td>1.341984e-35</td></tr>\n",
       "\t<tr><th scope=row>6</th><td>1</td><td>1.400976e-21</td><td>4.482684e-40</td></tr>\n",
       "\t<tr><th scope=row>7</th><td>1</td><td>3.345770e-19</td><td>1.511748e-37</td></tr>\n",
       "\t<tr><th scope=row>15</th><td>1</td><td>6.389105e-31</td><td>7.361660e-53</td></tr>\n",
       "\t<tr><th scope=row>17</th><td>1</td><td>1.193282e-25</td><td>2.238696e-45</td></tr>\n",
       "\t<tr><th scope=row>18</th><td>1</td><td>6.445594e-22</td><td>4.894053e-41</td></tr>\n",
       "</tbody>\n",
       "</table>\n"
      ],
      "text/latex": [
       "A matrix: 6 × 3 of type dbl\n",
       "\\begin{tabular}{r|lll}\n",
       "  & setosa & versicolor & virginica\\\\\n",
       "\\hline\n",
       "\t4 & 1 & 2.425563e-17 & 1.341984e-35\\\\\n",
       "\t6 & 1 & 1.400976e-21 & 4.482684e-40\\\\\n",
       "\t7 & 1 & 3.345770e-19 & 1.511748e-37\\\\\n",
       "\t15 & 1 & 6.389105e-31 & 7.361660e-53\\\\\n",
       "\t17 & 1 & 1.193282e-25 & 2.238696e-45\\\\\n",
       "\t18 & 1 & 6.445594e-22 & 4.894053e-41\\\\\n",
       "\\end{tabular}\n"
      ],
      "text/markdown": [
       "\n",
       "A matrix: 6 × 3 of type dbl\n",
       "\n",
       "| <!--/--> | setosa | versicolor | virginica |\n",
       "|---|---|---|---|\n",
       "| 4 | 1 | 2.425563e-17 | 1.341984e-35 |\n",
       "| 6 | 1 | 1.400976e-21 | 4.482684e-40 |\n",
       "| 7 | 1 | 3.345770e-19 | 1.511748e-37 |\n",
       "| 15 | 1 | 6.389105e-31 | 7.361660e-53 |\n",
       "| 17 | 1 | 1.193282e-25 | 2.238696e-45 |\n",
       "| 18 | 1 | 6.445594e-22 | 4.894053e-41 |\n",
       "\n"
      ],
      "text/plain": [
       "   setosa versicolor   virginica   \n",
       "4  1      2.425563e-17 1.341984e-35\n",
       "6  1      1.400976e-21 4.482684e-40\n",
       "7  1      3.345770e-19 1.511748e-37\n",
       "15 1      6.389105e-31 7.361660e-53\n",
       "17 1      1.193282e-25 2.238696e-45\n",
       "18 1      6.445594e-22 4.894053e-41"
      ]
     },
     "metadata": {},
     "output_type": "display_data"
    }
   ],
   "source": [
    "#view posterior probabilities for first six observations in test set\n",
    "head(predicted$posterior)"
   ]
  },
  {
   "cell_type": "code",
   "execution_count": 11,
   "id": "e7a30d9e",
   "metadata": {
    "ExecuteTime": {
     "end_time": "2022-06-20T07:13:49.815268Z",
     "start_time": "2022-06-20T07:13:49.007Z"
    }
   },
   "outputs": [
    {
     "data": {
      "text/html": [
       "<table class=\"dataframe\">\n",
       "<caption>A matrix: 6 × 2 of type dbl</caption>\n",
       "<thead>\n",
       "\t<tr><th></th><th scope=col>LD1</th><th scope=col>LD2</th></tr>\n",
       "</thead>\n",
       "<tbody>\n",
       "\t<tr><th scope=row>4</th><td> 7.150360</td><td>-0.7177382</td></tr>\n",
       "\t<tr><th scope=row>6</th><td> 7.961538</td><td> 1.4839408</td></tr>\n",
       "\t<tr><th scope=row>7</th><td> 7.504033</td><td> 0.2731178</td></tr>\n",
       "\t<tr><th scope=row>15</th><td>10.170378</td><td> 1.9859027</td></tr>\n",
       "\t<tr><th scope=row>17</th><td> 8.885168</td><td> 2.1026494</td></tr>\n",
       "\t<tr><th scope=row>18</th><td> 8.113443</td><td> 0.7563902</td></tr>\n",
       "</tbody>\n",
       "</table>\n"
      ],
      "text/latex": [
       "A matrix: 6 × 2 of type dbl\n",
       "\\begin{tabular}{r|ll}\n",
       "  & LD1 & LD2\\\\\n",
       "\\hline\n",
       "\t4 &  7.150360 & -0.7177382\\\\\n",
       "\t6 &  7.961538 &  1.4839408\\\\\n",
       "\t7 &  7.504033 &  0.2731178\\\\\n",
       "\t15 & 10.170378 &  1.9859027\\\\\n",
       "\t17 &  8.885168 &  2.1026494\\\\\n",
       "\t18 &  8.113443 &  0.7563902\\\\\n",
       "\\end{tabular}\n"
      ],
      "text/markdown": [
       "\n",
       "A matrix: 6 × 2 of type dbl\n",
       "\n",
       "| <!--/--> | LD1 | LD2 |\n",
       "|---|---|---|\n",
       "| 4 |  7.150360 | -0.7177382 |\n",
       "| 6 |  7.961538 |  1.4839408 |\n",
       "| 7 |  7.504033 |  0.2731178 |\n",
       "| 15 | 10.170378 |  1.9859027 |\n",
       "| 17 |  8.885168 |  2.1026494 |\n",
       "| 18 |  8.113443 |  0.7563902 |\n",
       "\n"
      ],
      "text/plain": [
       "   LD1       LD2       \n",
       "4   7.150360 -0.7177382\n",
       "6   7.961538  1.4839408\n",
       "7   7.504033  0.2731178\n",
       "15 10.170378  1.9859027\n",
       "17  8.885168  2.1026494\n",
       "18  8.113443  0.7563902"
      ]
     },
     "metadata": {},
     "output_type": "display_data"
    }
   ],
   "source": [
    "#view linear discriminants for first six observations in test set\n",
    "head(predicted$x)"
   ]
  },
  {
   "cell_type": "code",
   "execution_count": 12,
   "id": "1e8f6956",
   "metadata": {
    "ExecuteTime": {
     "end_time": "2022-06-20T07:13:49.847261Z",
     "start_time": "2022-06-20T07:13:49.008Z"
    }
   },
   "outputs": [
    {
     "data": {
      "text/html": [
       "1"
      ],
      "text/latex": [
       "1"
      ],
      "text/markdown": [
       "1"
      ],
      "text/plain": [
       "[1] 1"
      ]
     },
     "metadata": {},
     "output_type": "display_data"
    }
   ],
   "source": [
    "#find accuracy of model\n",
    "mean(predicted$class==test$Species)"
   ]
  },
  {
   "cell_type": "code",
   "execution_count": 13,
   "id": "866c39e8",
   "metadata": {
    "ExecuteTime": {
     "end_time": "2022-06-20T07:13:50.196260Z",
     "start_time": "2022-06-20T07:13:49.010Z"
    }
   },
   "outputs": [
    {
     "data": {
      "image/png": "[encoded data removed]",
      "text/plain": [
       "plot without title"
      ]
     },
     "metadata": {
      "image/png": {
       "height": 420,
       "width": 420
      }
     },
     "output_type": "display_data"
    }
   ],
   "source": [
    "#define data to plot\n",
    "lda_plot <- cbind(train, predict(model)$x)\n",
    "\n",
    "#create plot\n",
    "ggplot(lda_plot, aes(LD1, LD2)) +\n",
    "  geom_point(aes(color = Species))"
   ]
  },
  {
   "cell_type": "code",
   "execution_count": null,
   "id": "8e2891a6",
   "metadata": {},
   "outputs": [],
   "source": []
  }
 ],
 "metadata": {
  "kernelspec": {
   "display_name": "R",
   "language": "R",
   "name": "ir"
  },
  "language_info": {
   "codemirror_mode": "r",
   "file_extension": ".r",
   "mimetype": "text/x-r-source",
   "name": "R",
   "pygments_lexer": "r",
   "version": "4.0.5"
  },
  "toc": {
   "base_numbering": 1,
   "nav_menu": {},
   "number_sections": true,
   "sideBar": true,
   "skip_h1_title": false,
   "title_cell": "Table of Contents",
   "title_sidebar": "Contents",
   "toc_cell": false,
   "toc_position": {},
   "toc_section_display": true,
   "toc_window_display": false
  }
 },
 "nbformat": 4,
 "nbformat_minor": 5
}
