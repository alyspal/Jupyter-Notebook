{
 "cells": [
  {
   "cell_type": "markdown",
   "id": "736e5d8a",
   "metadata": {
    "ExecuteTime": {
     "end_time": "2022-06-18T14:06:11.811280Z",
     "start_time": "2022-06-18T14:06:02.421Z"
    }
   },
   "source": [
    "install.packages(\"lifecycle\")"
   ]
  },
  {
   "cell_type": "code",
   "execution_count": 1,
   "id": "af9de725",
   "metadata": {
    "ExecuteTime": {
     "end_time": "2022-06-18T14:06:22.709484Z",
     "start_time": "2022-06-18T14:06:22.304Z"
    },
    "scrolled": true
   },
   "outputs": [
    {
     "name": "stderr",
     "output_type": "stream",
     "text": [
      "Loading required package: ggplot2\n",
      "\n",
      "Welcome! Want to learn more? See two factoextra-related books at https://goo.gl/ve3WBa\n",
      "\n",
      "\n",
      "Attaching package: 'dplyr'\n",
      "\n",
      "\n",
      "The following objects are masked from 'package:stats':\n",
      "\n",
      "    filter, lag\n",
      "\n",
      "\n",
      "The following objects are masked from 'package:base':\n",
      "\n",
      "    intersect, setdiff, setequal, union\n",
      "\n",
      "\n"
     ]
    }
   ],
   "source": [
    "library(\"factoextra\")\n",
    "library(\"dplyr\")\n",
    "library(\"ggplot2\")"
   ]
  },
  {
   "cell_type": "code",
   "execution_count": 4,
   "id": "6ef76079",
   "metadata": {
    "ExecuteTime": {
     "end_time": "2022-06-18T14:06:31.011132Z",
     "start_time": "2022-06-18T14:06:30.979Z"
    }
   },
   "outputs": [],
   "source": [
    "x1 <- c(1,0.88,0.96,0.94,0.9,0.9)\n",
    "x2 <- c(0.88,1,0.9,0.91,0.94,0.95)\n",
    "x3 <- c(0.96,0.9,1,0.96,0.93,0.92)\n",
    "x4 <- c(0.94,0.92,0.96,1,0.93,0.94)\n",
    "x5 <- c(0.9,0.94,0.93,0.93,1,0.95)\n",
    "x6 <- c(0.9,0.95,0.92,0.94,0.95,1)\n",
    "\n",
    "R <- data.frame(cbind(x1,x2,x3,x4,x5,x6))"
   ]
  },
  {
   "cell_type": "code",
   "execution_count": 5,
   "id": "3118ed63",
   "metadata": {
    "ExecuteTime": {
     "end_time": "2022-06-18T14:06:31.976511Z",
     "start_time": "2022-06-18T14:06:31.947Z"
    }
   },
   "outputs": [
    {
     "data": {
      "text/html": [
       "<table class=\"dataframe\">\n",
       "<caption>A data.frame: 6 × 6</caption>\n",
       "<thead>\n",
       "\t<tr><th scope=col>x1</th><th scope=col>x2</th><th scope=col>x3</th><th scope=col>x4</th><th scope=col>x5</th><th scope=col>x6</th></tr>\n",
       "\t<tr><th scope=col>&lt;dbl&gt;</th><th scope=col>&lt;dbl&gt;</th><th scope=col>&lt;dbl&gt;</th><th scope=col>&lt;dbl&gt;</th><th scope=col>&lt;dbl&gt;</th><th scope=col>&lt;dbl&gt;</th></tr>\n",
       "</thead>\n",
       "<tbody>\n",
       "\t<tr><td>1.00</td><td>0.88</td><td>0.96</td><td>0.94</td><td>0.90</td><td>0.90</td></tr>\n",
       "\t<tr><td>0.88</td><td>1.00</td><td>0.90</td><td>0.92</td><td>0.94</td><td>0.95</td></tr>\n",
       "\t<tr><td>0.96</td><td>0.90</td><td>1.00</td><td>0.96</td><td>0.93</td><td>0.92</td></tr>\n",
       "\t<tr><td>0.94</td><td>0.91</td><td>0.96</td><td>1.00</td><td>0.93</td><td>0.94</td></tr>\n",
       "\t<tr><td>0.90</td><td>0.94</td><td>0.93</td><td>0.93</td><td>1.00</td><td>0.95</td></tr>\n",
       "\t<tr><td>0.90</td><td>0.95</td><td>0.92</td><td>0.94</td><td>0.95</td><td>1.00</td></tr>\n",
       "</tbody>\n",
       "</table>\n"
      ],
      "text/latex": [
       "A data.frame: 6 × 6\n",
       "\\begin{tabular}{llllll}\n",
       " x1 & x2 & x3 & x4 & x5 & x6\\\\\n",
       " <dbl> & <dbl> & <dbl> & <dbl> & <dbl> & <dbl>\\\\\n",
       "\\hline\n",
       "\t 1.00 & 0.88 & 0.96 & 0.94 & 0.90 & 0.90\\\\\n",
       "\t 0.88 & 1.00 & 0.90 & 0.92 & 0.94 & 0.95\\\\\n",
       "\t 0.96 & 0.90 & 1.00 & 0.96 & 0.93 & 0.92\\\\\n",
       "\t 0.94 & 0.91 & 0.96 & 1.00 & 0.93 & 0.94\\\\\n",
       "\t 0.90 & 0.94 & 0.93 & 0.93 & 1.00 & 0.95\\\\\n",
       "\t 0.90 & 0.95 & 0.92 & 0.94 & 0.95 & 1.00\\\\\n",
       "\\end{tabular}\n"
      ],
      "text/markdown": [
       "\n",
       "A data.frame: 6 × 6\n",
       "\n",
       "| x1 &lt;dbl&gt; | x2 &lt;dbl&gt; | x3 &lt;dbl&gt; | x4 &lt;dbl&gt; | x5 &lt;dbl&gt; | x6 &lt;dbl&gt; |\n",
       "|---|---|---|---|---|---|\n",
       "| 1.00 | 0.88 | 0.96 | 0.94 | 0.90 | 0.90 |\n",
       "| 0.88 | 1.00 | 0.90 | 0.92 | 0.94 | 0.95 |\n",
       "| 0.96 | 0.90 | 1.00 | 0.96 | 0.93 | 0.92 |\n",
       "| 0.94 | 0.91 | 0.96 | 1.00 | 0.93 | 0.94 |\n",
       "| 0.90 | 0.94 | 0.93 | 0.93 | 1.00 | 0.95 |\n",
       "| 0.90 | 0.95 | 0.92 | 0.94 | 0.95 | 1.00 |\n",
       "\n"
      ],
      "text/plain": [
       "  x1   x2   x3   x4   x5   x6  \n",
       "1 1.00 0.88 0.96 0.94 0.90 0.90\n",
       "2 0.88 1.00 0.90 0.92 0.94 0.95\n",
       "3 0.96 0.90 1.00 0.96 0.93 0.92\n",
       "4 0.94 0.91 0.96 1.00 0.93 0.94\n",
       "5 0.90 0.94 0.93 0.93 1.00 0.95\n",
       "6 0.90 0.95 0.92 0.94 0.95 1.00"
      ]
     },
     "metadata": {},
     "output_type": "display_data"
    }
   ],
   "source": [
    "R"
   ]
  },
  {
   "cell_type": "code",
   "execution_count": 6,
   "id": "503b9fdc",
   "metadata": {
    "ExecuteTime": {
     "end_time": "2022-06-18T14:06:44.439656Z",
     "start_time": "2022-06-18T14:06:44.401Z"
    }
   },
   "outputs": [
    {
     "data": {
      "text/plain": [
       "eigen() decomposition\n",
       "$values\n",
       "[1] 5.63863139+0.00000000i 0.17338981+0.00000000i 0.05753825+0.00058623i\n",
       "[4] 0.05753825-0.00058623i 0.04330677+0.00000000i 0.02959553+0.00000000i\n",
       "\n",
       "$vectors\n",
       "              [,1]          [,2]                  [,3]                  [,4]\n",
       "[1,] -0.4039766+0i  0.5592013+0i  0.5271592-0.0446401i  0.5271592+0.0446401i\n",
       "[2,] -0.4047007+0i -0.5200330+0i  0.5471464+0.0000000i  0.5471464+0.0000000i\n",
       "[3,] -0.4105477+0i  0.3937014+0i -0.1029311-0.0142836i -0.1029311+0.0142836i\n",
       "[4,] -0.4112915+0i  0.2177269+0i -0.5326389+0.1071432i -0.5326389-0.1071432i\n",
       "[5,] -0.4090941+0i -0.2980348+0i -0.2940946-0.0988248i -0.2940946+0.0988248i\n",
       "[6,] -0.4098196+0i -0.3544420+0i -0.1267893+0.0492452i -0.1267893-0.0492452i\n",
       "                 [,5]           [,6]\n",
       "[1,]  0.4772015788+0i -0.33942034+0i\n",
       "[2,] -0.2997351740+0i  0.07610479+0i\n",
       "[3,] -0.3369026823+0i  0.75040844+0i\n",
       "[4,] -0.4446927491+0i -0.41333501+0i\n",
       "[5,]  0.0003851385+0i -0.30510549+0i\n",
       "[6,]  0.6092472995+0i  0.22793393+0i\n"
      ]
     },
     "metadata": {},
     "output_type": "display_data"
    }
   ],
   "source": [
    "eigen(R)"
   ]
  },
  {
   "cell_type": "code",
   "execution_count": 7,
   "id": "7dd3a054",
   "metadata": {
    "ExecuteTime": {
     "end_time": "2022-06-18T14:07:12.441431Z",
     "start_time": "2022-06-18T14:07:12.310Z"
    }
   },
   "outputs": [
    {
     "data": {
      "text/html": [
       "<dl>\n",
       "\t<dt>$`Importance of components :`</dt>\n",
       "\t\t<dd><table class=\"dataframe\">\n",
       "<caption>A data.frame: 3 × 6</caption>\n",
       "<thead>\n",
       "\t<tr><th></th><th scope=col>comp.1</th><th scope=col>comp.2</th><th scope=col>comp.3</th><th scope=col>comp.4</th><th scope=col>comp.5</th><th scope=col>comp.6</th></tr>\n",
       "\t<tr><th></th><th scope=col>&lt;cpl&gt;</th><th scope=col>&lt;cpl&gt;</th><th scope=col>&lt;cpl&gt;</th><th scope=col>&lt;cpl&gt;</th><th scope=col>&lt;cpl&gt;</th><th scope=col>&lt;cpl&gt;</th></tr>\n",
       "</thead>\n",
       "<tbody>\n",
       "\t<tr><th scope=row>Variance</th><td>5.6386314+0i</td><td>0.1733898+0i</td><td>5.753825e-02+5.8623e-04i</td><td>5.753825e-02-5.8623e-04i</td><td>0.043306773+0i</td><td>0.029595530+0i</td></tr>\n",
       "\t<tr><th scope=row>Proportion of Variance</th><td>0.9397719+0i</td><td>0.0288983+0i</td><td>9.589708e-03+9.7705e-05i</td><td>9.589708e-03-9.7705e-05i</td><td>0.007217796+0i</td><td>0.004932588+0i</td></tr>\n",
       "\t<tr><th scope=row>Cumulative Proportion</th><td>0.9397719+0i</td><td>0.9686702+0i</td><td>9.782599e-01+9.7705e-05i</td><td>9.878496e-01+0.0000e+00i</td><td>0.995067412+0i</td><td>1.000000000+0i</td></tr>\n",
       "</tbody>\n",
       "</table>\n",
       "</dd>\n",
       "\t<dt>$`Loadings (Coefficient): `</dt>\n",
       "\t\t<dd><table class=\"dataframe\">\n",
       "<caption>A data.frame: 6 × 7</caption>\n",
       "<thead>\n",
       "\t<tr><th scope=col>variabel</th><th scope=col>comp.1</th><th scope=col>comp.2</th><th scope=col>comp.3</th><th scope=col>comp.4</th><th scope=col>comp.5</th><th scope=col>comp.6</th></tr>\n",
       "\t<tr><th scope=col>&lt;chr&gt;</th><th scope=col>&lt;cpl&gt;</th><th scope=col>&lt;cpl&gt;</th><th scope=col>&lt;cpl&gt;</th><th scope=col>&lt;cpl&gt;</th><th scope=col>&lt;cpl&gt;</th><th scope=col>&lt;cpl&gt;</th></tr>\n",
       "</thead>\n",
       "<tbody>\n",
       "\t<tr><td>x1</td><td>-0.40398+0i</td><td> 0.55920+0i</td><td> 0.52716-0.04464i</td><td> 0.52716+0.04464i</td><td> 0.47720+0i</td><td>-0.33942+0i</td></tr>\n",
       "\t<tr><td>x2</td><td>-0.40470+0i</td><td>-0.52003+0i</td><td> 0.54715+0.00000i</td><td> 0.54715+0.00000i</td><td>-0.29974+0i</td><td> 0.07610+0i</td></tr>\n",
       "\t<tr><td>x3</td><td>-0.41055+0i</td><td> 0.39370+0i</td><td>-0.10293-0.01428i</td><td>-0.10293+0.01428i</td><td>-0.33690+0i</td><td> 0.75041+0i</td></tr>\n",
       "\t<tr><td>x4</td><td>-0.41129+0i</td><td> 0.21773+0i</td><td>-0.53264+0.10714i</td><td>-0.53264-0.10714i</td><td>-0.44469+0i</td><td>-0.41334+0i</td></tr>\n",
       "\t<tr><td>x5</td><td>-0.40909+0i</td><td>-0.29803+0i</td><td>-0.29409-0.09882i</td><td>-0.29409+0.09882i</td><td> 0.00039+0i</td><td>-0.30511+0i</td></tr>\n",
       "\t<tr><td>x6</td><td>-0.40982+0i</td><td>-0.35444+0i</td><td>-0.12679+0.04925i</td><td>-0.12679-0.04925i</td><td> 0.60925+0i</td><td> 0.22793+0i</td></tr>\n",
       "</tbody>\n",
       "</table>\n",
       "</dd>\n",
       "\t<dt>$`Scree plot`</dt>\n",
       "\t\t<dd>NULL</dd>\n",
       "</dl>\n"
      ],
      "text/latex": [
       "\\begin{description}\n",
       "\\item[\\$`Importance of components :`] A data.frame: 3 × 6\n",
       "\\begin{tabular}{r|llllll}\n",
       "  & comp.1 & comp.2 & comp.3 & comp.4 & comp.5 & comp.6\\\\\n",
       "  & <cpl> & <cpl> & <cpl> & <cpl> & <cpl> & <cpl>\\\\\n",
       "\\hline\n",
       "\tVariance & 5.6386314+0i & 0.1733898+0i & 5.753825e-02+5.8623e-04i & 5.753825e-02-5.8623e-04i & 0.043306773+0i & 0.029595530+0i\\\\\n",
       "\tProportion of Variance & 0.9397719+0i & 0.0288983+0i & 9.589708e-03+9.7705e-05i & 9.589708e-03-9.7705e-05i & 0.007217796+0i & 0.004932588+0i\\\\\n",
       "\tCumulative Proportion & 0.9397719+0i & 0.9686702+0i & 9.782599e-01+9.7705e-05i & 9.878496e-01+0.0000e+00i & 0.995067412+0i & 1.000000000+0i\\\\\n",
       "\\end{tabular}\n",
       "\n",
       "\\item[\\$`Loadings (Coefficient): `] A data.frame: 6 × 7\n",
       "\\begin{tabular}{lllllll}\n",
       " variabel & comp.1 & comp.2 & comp.3 & comp.4 & comp.5 & comp.6\\\\\n",
       " <chr> & <cpl> & <cpl> & <cpl> & <cpl> & <cpl> & <cpl>\\\\\n",
       "\\hline\n",
       "\t x1 & -0.40398+0i &  0.55920+0i &  0.52716-0.04464i &  0.52716+0.04464i &  0.47720+0i & -0.33942+0i\\\\\n",
       "\t x2 & -0.40470+0i & -0.52003+0i &  0.54715+0.00000i &  0.54715+0.00000i & -0.29974+0i &  0.07610+0i\\\\\n",
       "\t x3 & -0.41055+0i &  0.39370+0i & -0.10293-0.01428i & -0.10293+0.01428i & -0.33690+0i &  0.75041+0i\\\\\n",
       "\t x4 & -0.41129+0i &  0.21773+0i & -0.53264+0.10714i & -0.53264-0.10714i & -0.44469+0i & -0.41334+0i\\\\\n",
       "\t x5 & -0.40909+0i & -0.29803+0i & -0.29409-0.09882i & -0.29409+0.09882i &  0.00039+0i & -0.30511+0i\\\\\n",
       "\t x6 & -0.40982+0i & -0.35444+0i & -0.12679+0.04925i & -0.12679-0.04925i &  0.60925+0i &  0.22793+0i\\\\\n",
       "\\end{tabular}\n",
       "\n",
       "\\item[\\$`Scree plot`] NULL\n",
       "\\end{description}\n"
      ],
      "text/markdown": [
       "$`Importance of components :`\n",
       ":   \n",
       "A data.frame: 3 × 6\n",
       "\n",
       "| <!--/--> | comp.1 &lt;cpl&gt; | comp.2 &lt;cpl&gt; | comp.3 &lt;cpl&gt; | comp.4 &lt;cpl&gt; | comp.5 &lt;cpl&gt; | comp.6 &lt;cpl&gt; |\n",
       "|---|---|---|---|---|---|---|\n",
       "| Variance | 5.6386314+0i | 0.1733898+0i | 5.753825e-02+5.8623e-04i | 5.753825e-02-5.8623e-04i | 0.043306773+0i | 0.029595530+0i |\n",
       "| Proportion of Variance | 0.9397719+0i | 0.0288983+0i | 9.589708e-03+9.7705e-05i | 9.589708e-03-9.7705e-05i | 0.007217796+0i | 0.004932588+0i |\n",
       "| Cumulative Proportion | 0.9397719+0i | 0.9686702+0i | 9.782599e-01+9.7705e-05i | 9.878496e-01+0.0000e+00i | 0.995067412+0i | 1.000000000+0i |\n",
       "\n",
       "\n",
       "$`Loadings (Coefficient): `\n",
       ":   \n",
       "A data.frame: 6 × 7\n",
       "\n",
       "| variabel &lt;chr&gt; | comp.1 &lt;cpl&gt; | comp.2 &lt;cpl&gt; | comp.3 &lt;cpl&gt; | comp.4 &lt;cpl&gt; | comp.5 &lt;cpl&gt; | comp.6 &lt;cpl&gt; |\n",
       "|---|---|---|---|---|---|---|\n",
       "| x1 | -0.40398+0i |  0.55920+0i |  0.52716-0.04464i |  0.52716+0.04464i |  0.47720+0i | -0.33942+0i |\n",
       "| x2 | -0.40470+0i | -0.52003+0i |  0.54715+0.00000i |  0.54715+0.00000i | -0.29974+0i |  0.07610+0i |\n",
       "| x3 | -0.41055+0i |  0.39370+0i | -0.10293-0.01428i | -0.10293+0.01428i | -0.33690+0i |  0.75041+0i |\n",
       "| x4 | -0.41129+0i |  0.21773+0i | -0.53264+0.10714i | -0.53264-0.10714i | -0.44469+0i | -0.41334+0i |\n",
       "| x5 | -0.40909+0i | -0.29803+0i | -0.29409-0.09882i | -0.29409+0.09882i |  0.00039+0i | -0.30511+0i |\n",
       "| x6 | -0.40982+0i | -0.35444+0i | -0.12679+0.04925i | -0.12679-0.04925i |  0.60925+0i |  0.22793+0i |\n",
       "\n",
       "\n",
       "$`Scree plot`\n",
       ":   NULL\n",
       "\n",
       "\n"
      ],
      "text/plain": [
       "$`Importance of components :`\n",
       "                             comp.1       comp.2                   comp.3\n",
       "Variance               5.6386314+0i 0.1733898+0i 5.753825e-02+5.8623e-04i\n",
       "Proportion of Variance 0.9397719+0i 0.0288983+0i 9.589708e-03+9.7705e-05i\n",
       "Cumulative Proportion  0.9397719+0i 0.9686702+0i 9.782599e-01+9.7705e-05i\n",
       "                                         comp.4         comp.5         comp.6\n",
       "Variance               5.753825e-02-5.8623e-04i 0.043306773+0i 0.029595530+0i\n",
       "Proportion of Variance 9.589708e-03-9.7705e-05i 0.007217796+0i 0.004932588+0i\n",
       "Cumulative Proportion  9.878496e-01+0.0000e+00i 0.995067412+0i 1.000000000+0i\n",
       "\n",
       "$`Loadings (Coefficient): `\n",
       "  variabel      comp.1      comp.2            comp.3            comp.4\n",
       "1       x1 -0.40398+0i  0.55920+0i  0.52716-0.04464i  0.52716+0.04464i\n",
       "2       x2 -0.40470+0i -0.52003+0i  0.54715+0.00000i  0.54715+0.00000i\n",
       "3       x3 -0.41055+0i  0.39370+0i -0.10293-0.01428i -0.10293+0.01428i\n",
       "4       x4 -0.41129+0i  0.21773+0i -0.53264+0.10714i -0.53264-0.10714i\n",
       "5       x5 -0.40909+0i -0.29803+0i -0.29409-0.09882i -0.29409+0.09882i\n",
       "6       x6 -0.40982+0i -0.35444+0i -0.12679+0.04925i -0.12679-0.04925i\n",
       "       comp.5      comp.6\n",
       "1  0.47720+0i -0.33942+0i\n",
       "2 -0.29974+0i  0.07610+0i\n",
       "3 -0.33690+0i  0.75041+0i\n",
       "4 -0.44469+0i -0.41334+0i\n",
       "5  0.00039+0i -0.30511+0i\n",
       "6  0.60925+0i  0.22793+0i\n",
       "\n",
       "$`Scree plot`\n",
       "NULL\n"
      ]
     },
     "metadata": {},
     "output_type": "display_data"
    },
    {
     "data": {
      "image/png": "[encoded data removed]",
      "text/plain": [
       "Plot with title \"Scree Plot No 1\""
      ]
     },
     "metadata": {
      "image/png": {
       "height": 420,
       "width": 420
      }
     },
     "output_type": "display_data"
    }
   ],
   "source": [
    "prcompcor<-function(cor){\n",
    "  cor<-cor\n",
    "  p<-ncol(cor)\n",
    "  eig<-eigen(cor)$values\n",
    "  eigvec<-eigen(cor)$vectors\n",
    "  std<-sqrt(eig)\n",
    "  #meanvec<-colMeans(data)\n",
    "  vartot<-p\n",
    "  prop_var<-eig/vartot\n",
    "  cum_prob<-cumsum(prop_var)\n",
    "  \n",
    "  prcomp_name<-rep(0,ncol(cor))\n",
    "    for ( i in 1:ncol(cor)){\n",
    "       prcomp_name[i]<-paste(\"comp\",i,sep=\".\")\n",
    "  }\n",
    "  loadings<-data.frame(colnames(cor),round(eigvec,5))\n",
    "  colnames(loadings)<-c(\"variabel\",prcomp_name)\n",
    "  importancevar<-data.frame(rbind(eig,prop_var,cum_prob))\n",
    "  rownames(importancevar)<-c(\"Variance\",\"Proportion of Variance\",\"Cumulative Proportion\")\n",
    "  colnames(importancevar)<-prcomp_name\n",
    "  scree<-plot(prop_var,type=\"o\",ylab=\"Proporsi Varians yang dapat dijelaskan\",main=\"Scree Plot No 1\")\n",
    "  result<-list(importancevar,loadings,scree)\n",
    "  names(result)<-c(\"Importance of components :\",\"Loadings (Coefficient): \",\"Scree plot\")\n",
    "  return(result)\n",
    "}\n",
    "result <- prcompcor(R)\n",
    "result"
   ]
  },
  {
   "cell_type": "markdown",
   "id": "3277e84a",
   "metadata": {},
   "source": []
  }
 ],
 "metadata": {
  "kernelspec": {
   "display_name": "R",
   "language": "R",
   "name": "ir"
  },
  "language_info": {
   "codemirror_mode": "r",
   "file_extension": ".r",
   "mimetype": "text/x-r-source",
   "name": "R",
   "pygments_lexer": "r",
   "version": "4.0.5"
  },
  "toc": {
   "base_numbering": 1,
   "nav_menu": {},
   "number_sections": true,
   "sideBar": true,
   "skip_h1_title": false,
   "title_cell": "Table of Contents",
   "title_sidebar": "Contents",
   "toc_cell": false,
   "toc_position": {},
   "toc_section_display": true,
   "toc_window_display": false
  }
 },
 "nbformat": 4,
 "nbformat_minor": 5
}
