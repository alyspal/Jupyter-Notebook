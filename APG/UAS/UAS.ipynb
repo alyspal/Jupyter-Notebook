{
 "cells": [
  {
   "cell_type": "code",
   "execution_count": 1,
   "id": "9d5e9459",
   "metadata": {
    "ExecuteTime": {
     "end_time": "2022-06-20T06:24:03.627803Z",
     "start_time": "2022-06-20T06:24:02.928Z"
    },
    "scrolled": true
   },
   "outputs": [
    {
     "name": "stderr",
     "output_type": "stream",
     "text": [
      "Loading required package: ggplot2\n",
      "\n",
      "Welcome! Want to learn more? See two factoextra-related books at https://goo.gl/ve3WBa\n",
      "\n",
      "\n",
      "Attaching package: 'dplyr'\n",
      "\n",
      "\n",
      "The following objects are masked from 'package:stats':\n",
      "\n",
      "    filter, lag\n",
      "\n",
      "\n",
      "The following objects are masked from 'package:base':\n",
      "\n",
      "    intersect, setdiff, setequal, union\n",
      "\n",
      "\n"
     ]
    }
   ],
   "source": [
    "library(\"factoextra\")\n",
    "library(\"dplyr\")\n",
    "library(openxlsx)"
   ]
  },
  {
   "cell_type": "markdown",
   "id": "68f4b0c8",
   "metadata": {
    "heading_collapsed": true
   },
   "source": [
    "# PCA"
   ]
  },
  {
   "cell_type": "code",
   "execution_count": 2,
   "id": "2e67cb69",
   "metadata": {
    "ExecuteTime": {
     "end_time": "2022-06-18T03:48:54.578686Z",
     "start_time": "2022-06-18T03:48:54.074Z"
    },
    "hidden": true,
    "scrolled": true
   },
   "outputs": [
    {
     "data": {
      "text/html": [
       "<table class=\"dataframe\">\n",
       "<caption>A matrix: 20 × 3 of type dbl</caption>\n",
       "<thead>\n",
       "\t<tr><th scope=col>sweet_rate</th><th scope=col>sodium</th><th scope=col>potassium</th></tr>\n",
       "</thead>\n",
       "<tbody>\n",
       "\t<tr><td>3.7</td><td>48.5</td><td> 9.3</td></tr>\n",
       "\t<tr><td>5.7</td><td>65.1</td><td> 8.0</td></tr>\n",
       "\t<tr><td>3.8</td><td>47.2</td><td>10.9</td></tr>\n",
       "\t<tr><td>3.2</td><td>53.2</td><td>12.0</td></tr>\n",
       "\t<tr><td>3.1</td><td>55.5</td><td> 9.7</td></tr>\n",
       "\t<tr><td>4.6</td><td>36.1</td><td> 7.9</td></tr>\n",
       "\t<tr><td>2.4</td><td>24.8</td><td>14.0</td></tr>\n",
       "\t<tr><td>7.2</td><td>33.1</td><td> 7.6</td></tr>\n",
       "\t<tr><td>6.7</td><td>47.4</td><td> 8.5</td></tr>\n",
       "\t<tr><td>5.4</td><td>54.1</td><td>11.3</td></tr>\n",
       "\t<tr><td>3.9</td><td>36.9</td><td>12.7</td></tr>\n",
       "\t<tr><td>4.5</td><td>58.8</td><td>12.3</td></tr>\n",
       "\t<tr><td>3.5</td><td>27.8</td><td> 9.8</td></tr>\n",
       "\t<tr><td>4.5</td><td>40.2</td><td> 8.4</td></tr>\n",
       "\t<tr><td>1.5</td><td>13.5</td><td>10.1</td></tr>\n",
       "\t<tr><td>8.5</td><td>56.4</td><td> 7.1</td></tr>\n",
       "\t<tr><td>4.5</td><td>71.6</td><td> 8.2</td></tr>\n",
       "\t<tr><td>6.5</td><td>52.8</td><td>10.9</td></tr>\n",
       "\t<tr><td>4.1</td><td>44.1</td><td>11.2</td></tr>\n",
       "\t<tr><td>5.5</td><td>40.9</td><td> 9.4</td></tr>\n",
       "</tbody>\n",
       "</table>\n"
      ],
      "text/latex": [
       "A matrix: 20 × 3 of type dbl\n",
       "\\begin{tabular}{lll}\n",
       " sweet\\_rate & sodium & potassium\\\\\n",
       "\\hline\n",
       "\t 3.7 & 48.5 &  9.3\\\\\n",
       "\t 5.7 & 65.1 &  8.0\\\\\n",
       "\t 3.8 & 47.2 & 10.9\\\\\n",
       "\t 3.2 & 53.2 & 12.0\\\\\n",
       "\t 3.1 & 55.5 &  9.7\\\\\n",
       "\t 4.6 & 36.1 &  7.9\\\\\n",
       "\t 2.4 & 24.8 & 14.0\\\\\n",
       "\t 7.2 & 33.1 &  7.6\\\\\n",
       "\t 6.7 & 47.4 &  8.5\\\\\n",
       "\t 5.4 & 54.1 & 11.3\\\\\n",
       "\t 3.9 & 36.9 & 12.7\\\\\n",
       "\t 4.5 & 58.8 & 12.3\\\\\n",
       "\t 3.5 & 27.8 &  9.8\\\\\n",
       "\t 4.5 & 40.2 &  8.4\\\\\n",
       "\t 1.5 & 13.5 & 10.1\\\\\n",
       "\t 8.5 & 56.4 &  7.1\\\\\n",
       "\t 4.5 & 71.6 &  8.2\\\\\n",
       "\t 6.5 & 52.8 & 10.9\\\\\n",
       "\t 4.1 & 44.1 & 11.2\\\\\n",
       "\t 5.5 & 40.9 &  9.4\\\\\n",
       "\\end{tabular}\n"
      ],
      "text/markdown": [
       "\n",
       "A matrix: 20 × 3 of type dbl\n",
       "\n",
       "| sweet_rate | sodium | potassium |\n",
       "|---|---|---|\n",
       "| 3.7 | 48.5 |  9.3 |\n",
       "| 5.7 | 65.1 |  8.0 |\n",
       "| 3.8 | 47.2 | 10.9 |\n",
       "| 3.2 | 53.2 | 12.0 |\n",
       "| 3.1 | 55.5 |  9.7 |\n",
       "| 4.6 | 36.1 |  7.9 |\n",
       "| 2.4 | 24.8 | 14.0 |\n",
       "| 7.2 | 33.1 |  7.6 |\n",
       "| 6.7 | 47.4 |  8.5 |\n",
       "| 5.4 | 54.1 | 11.3 |\n",
       "| 3.9 | 36.9 | 12.7 |\n",
       "| 4.5 | 58.8 | 12.3 |\n",
       "| 3.5 | 27.8 |  9.8 |\n",
       "| 4.5 | 40.2 |  8.4 |\n",
       "| 1.5 | 13.5 | 10.1 |\n",
       "| 8.5 | 56.4 |  7.1 |\n",
       "| 4.5 | 71.6 |  8.2 |\n",
       "| 6.5 | 52.8 | 10.9 |\n",
       "| 4.1 | 44.1 | 11.2 |\n",
       "| 5.5 | 40.9 |  9.4 |\n",
       "\n"
      ],
      "text/plain": [
       "      sweet_rate sodium potassium\n",
       " [1,] 3.7        48.5    9.3     \n",
       " [2,] 5.7        65.1    8.0     \n",
       " [3,] 3.8        47.2   10.9     \n",
       " [4,] 3.2        53.2   12.0     \n",
       " [5,] 3.1        55.5    9.7     \n",
       " [6,] 4.6        36.1    7.9     \n",
       " [7,] 2.4        24.8   14.0     \n",
       " [8,] 7.2        33.1    7.6     \n",
       " [9,] 6.7        47.4    8.5     \n",
       "[10,] 5.4        54.1   11.3     \n",
       "[11,] 3.9        36.9   12.7     \n",
       "[12,] 4.5        58.8   12.3     \n",
       "[13,] 3.5        27.8    9.8     \n",
       "[14,] 4.5        40.2    8.4     \n",
       "[15,] 1.5        13.5   10.1     \n",
       "[16,] 8.5        56.4    7.1     \n",
       "[17,] 4.5        71.6    8.2     \n",
       "[18,] 6.5        52.8   10.9     \n",
       "[19,] 4.1        44.1   11.2     \n",
       "[20,] 5.5        40.9    9.4     "
      ]
     },
     "metadata": {},
     "output_type": "display_data"
    }
   ],
   "source": [
    "sweat_rate <- c(3.7, 5.7, 3.8, 3.2, 3.1, 4.6, 2.4, 7.2, 6.7, 5.4, 3.9, 4.5, 3.5, 4.5, 1.5, 8.5, 4.5, 6.5, 4.1, 5.5)\n",
    "sodium <- c(48.5, 65.1, 47.2, 53.2, 55.5, 36.1, 24.8, 33.1, 47.4, 54.1, 36.9, 58.8, 27.8, 40.2, 13.5, 56.4, 71.6, 52.8, 44.1, 40.9)\n",
    "potassium <- c(9.3, 8, 10.9, 12, 9.7, 7.9, 14, 7.6, 8.5, 11.3, 12.7, 12.3, 9.8, 8.4, 10.1, 7.1, 8.2, 10.9, 11.2, 9.4)\n",
    "\n",
    "data <- cbind(sweat_rate, sodium, potassium)\n",
    "data"
   ]
  },
  {
   "cell_type": "code",
   "execution_count": 26,
   "id": "c6f36655",
   "metadata": {
    "ExecuteTime": {
     "end_time": "2022-06-18T04:26:10.771086Z",
     "start_time": "2022-06-18T04:26:10.738Z"
    },
    "hidden": true
   },
   "outputs": [
    {
     "data": {
      "text/html": [
       "<table class=\"dataframe\">\n",
       "<caption>A matrix: 3 × 3 of type dbl</caption>\n",
       "<thead>\n",
       "\t<tr><th></th><th scope=col>sweet_rate</th><th scope=col>sodium</th><th scope=col>potassium</th></tr>\n",
       "</thead>\n",
       "<tbody>\n",
       "\t<tr><th scope=row>sweet_rate</th><td> 2.879368</td><td> 10.0100</td><td>-1.809053</td></tr>\n",
       "\t<tr><th scope=row>sodium</th><td>10.010000</td><td>199.7884</td><td>-5.640000</td></tr>\n",
       "\t<tr><th scope=row>potassium</th><td>-1.809053</td><td> -5.6400</td><td> 3.627658</td></tr>\n",
       "</tbody>\n",
       "</table>\n"
      ],
      "text/latex": [
       "A matrix: 3 × 3 of type dbl\n",
       "\\begin{tabular}{r|lll}\n",
       "  & sweet\\_rate & sodium & potassium\\\\\n",
       "\\hline\n",
       "\tsweet\\_rate &  2.879368 &  10.0100 & -1.809053\\\\\n",
       "\tsodium & 10.010000 & 199.7884 & -5.640000\\\\\n",
       "\tpotassium & -1.809053 &  -5.6400 &  3.627658\\\\\n",
       "\\end{tabular}\n"
      ],
      "text/markdown": [
       "\n",
       "A matrix: 3 × 3 of type dbl\n",
       "\n",
       "| <!--/--> | sweet_rate | sodium | potassium |\n",
       "|---|---|---|---|\n",
       "| sweet_rate |  2.879368 |  10.0100 | -1.809053 |\n",
       "| sodium | 10.010000 | 199.7884 | -5.640000 |\n",
       "| potassium | -1.809053 |  -5.6400 |  3.627658 |\n",
       "\n"
      ],
      "text/plain": [
       "           sweet_rate sodium   potassium\n",
       "sweet_rate  2.879368   10.0100 -1.809053\n",
       "sodium     10.010000  199.7884 -5.640000\n",
       "potassium  -1.809053   -5.6400  3.627658"
      ]
     },
     "metadata": {},
     "output_type": "display_data"
    }
   ],
   "source": [
    "S <- cov(data)\n",
    "S"
   ]
  },
  {
   "cell_type": "code",
   "execution_count": 3,
   "id": "399825ad",
   "metadata": {
    "ExecuteTime": {
     "end_time": "2022-06-18T03:48:54.611723Z",
     "start_time": "2022-06-18T03:48:54.076Z"
    },
    "hidden": true
   },
   "outputs": [
    {
     "data": {
      "text/html": [
       "<table class=\"dataframe\">\n",
       "<caption>A matrix: 3 × 3 of type dbl</caption>\n",
       "<thead>\n",
       "\t<tr><th></th><th scope=col>sweet_rate</th><th scope=col>sodium</th><th scope=col>potassium</th></tr>\n",
       "</thead>\n",
       "<tbody>\n",
       "\t<tr><th scope=row>sweet_rate</th><td> 1.0000000</td><td> 0.4173499</td><td>-0.5597440</td></tr>\n",
       "\t<tr><th scope=row>sodium</th><td> 0.4173499</td><td> 1.0000000</td><td>-0.2094984</td></tr>\n",
       "\t<tr><th scope=row>potassium</th><td>-0.5597440</td><td>-0.2094984</td><td> 1.0000000</td></tr>\n",
       "</tbody>\n",
       "</table>\n"
      ],
      "text/latex": [
       "A matrix: 3 × 3 of type dbl\n",
       "\\begin{tabular}{r|lll}\n",
       "  & sweet\\_rate & sodium & potassium\\\\\n",
       "\\hline\n",
       "\tsweet\\_rate &  1.0000000 &  0.4173499 & -0.5597440\\\\\n",
       "\tsodium &  0.4173499 &  1.0000000 & -0.2094984\\\\\n",
       "\tpotassium & -0.5597440 & -0.2094984 &  1.0000000\\\\\n",
       "\\end{tabular}\n"
      ],
      "text/markdown": [
       "\n",
       "A matrix: 3 × 3 of type dbl\n",
       "\n",
       "| <!--/--> | sweet_rate | sodium | potassium |\n",
       "|---|---|---|---|\n",
       "| sweet_rate |  1.0000000 |  0.4173499 | -0.5597440 |\n",
       "| sodium |  0.4173499 |  1.0000000 | -0.2094984 |\n",
       "| potassium | -0.5597440 | -0.2094984 |  1.0000000 |\n",
       "\n"
      ],
      "text/plain": [
       "           sweet_rate sodium     potassium \n",
       "sweet_rate  1.0000000  0.4173499 -0.5597440\n",
       "sodium      0.4173499  1.0000000 -0.2094984\n",
       "potassium  -0.5597440 -0.2094984  1.0000000"
      ]
     },
     "metadata": {},
     "output_type": "display_data"
    }
   ],
   "source": [
    "R <- cor(data)\n",
    "R"
   ]
  },
  {
   "cell_type": "code",
   "execution_count": 4,
   "id": "a1ccdcc3",
   "metadata": {
    "ExecuteTime": {
     "end_time": "2022-06-18T03:48:54.644685Z",
     "start_time": "2022-06-18T03:48:54.077Z"
    },
    "hidden": true
   },
   "outputs": [
    {
     "data": {
      "text/plain": [
       "eigen() decomposition\n",
       "$values\n",
       "[1] 1.8078076 0.8009595 0.3912329\n",
       "\n",
       "$vectors\n",
       "           [,1]       [,2]       [,3]\n",
       "[1,] -0.6532613 -0.1017681  0.7502619\n",
       "[2,] -0.4876988  0.8145266 -0.3141596\n",
       "[3,]  0.5791369  0.5711301  0.5817309\n"
      ]
     },
     "metadata": {},
     "output_type": "display_data"
    }
   ],
   "source": [
    "eigen(R)"
   ]
  },
  {
   "cell_type": "code",
   "execution_count": 6,
   "id": "d0dc045b",
   "metadata": {
    "ExecuteTime": {
     "end_time": "2022-06-18T03:49:08.172867Z",
     "start_time": "2022-06-18T03:49:07.531Z"
    },
    "hidden": true
   },
   "outputs": [
    {
     "data": {
      "image/png": "[encoded data removed]",
      "text/plain": [
       "plot without title"
      ]
     },
     "metadata": {
      "image/png": {
       "height": 420,
       "width": 420
      }
     },
     "output_type": "display_data"
    }
   ],
   "source": [
    "fviz_eig(prcomp(data))"
   ]
  },
  {
   "cell_type": "code",
   "execution_count": 14,
   "id": "0f52226a",
   "metadata": {
    "ExecuteTime": {
     "end_time": "2022-06-18T03:58:03.534707Z",
     "start_time": "2022-06-18T03:58:03.509Z"
    },
    "hidden": true
   },
   "outputs": [],
   "source": [
    "prcompcor<-function(cor){\n",
    "  cor<-cor\n",
    "  p<-ncol(cor)\n",
    "  eig<-eigen(cor)$values\n",
    "  eigvec<-eigen(cor)$vectors\n",
    "  std<-sqrt(eig)\n",
    "  #meanvec<-colMeans(data)\n",
    "  vartot<-p\n",
    "  prop_var<-eig/vartot\n",
    "  cum_prob<-cumsum(prop_var)\n",
    "  \n",
    "  prcomp_name<-rep(0,ncol(cor))\n",
    "    for ( i in 1:ncol(cor)){\n",
    "       prcomp_name[i]<-paste(\"comp\",i,sep=\".\")\n",
    "  }\n",
    "  loadings<-data.frame(colnames(cor),round(eigvec,5))\n",
    "  colnames(loadings)<-c(\"variabel\",prcomp_name)\n",
    "  importancevar<-data.frame(rbind(eig,prop_var,cum_prob))\n",
    "  rownames(importancevar)<-c(\"Variance\",\"Proportion of Variance\",\"Cumulative Proportion\")\n",
    "  colnames(importancevar)<-prcomp_name\n",
    "  scree<-plot(prop_var,type=\"o\",ylab=\"Proporsi Varians yang dapat dijelaskan\",main=\"Scree Plot No 1\")\n",
    "  result<-list(importancevar,loadings,scree)\n",
    "  names(result)<-c(\"Importance of components :\",\"Loadings (Coefficient): \",\"Scree plot\")\n",
    "  return(result)\n",
    "}"
   ]
  },
  {
   "cell_type": "code",
   "execution_count": 16,
   "id": "1d66b639",
   "metadata": {
    "ExecuteTime": {
     "end_time": "2022-06-18T04:11:45.656239Z",
     "start_time": "2022-06-18T04:11:45.566Z"
    },
    "hidden": true
   },
   "outputs": [
    {
     "data": {
      "text/html": [
       "<dl>\n",
       "\t<dt>$`Importance of components:`</dt>\n",
       "\t\t<dd><table class=\"dataframe\">\n",
       "<caption>A data.frame: 3 × 3</caption>\n",
       "<thead>\n",
       "\t<tr><th></th><th scope=col>comp.1</th><th scope=col>comp.2</th><th scope=col>comp.3</th></tr>\n",
       "\t<tr><th></th><th scope=col>&lt;dbl&gt;</th><th scope=col>&lt;dbl&gt;</th><th scope=col>&lt;dbl&gt;</th></tr>\n",
       "</thead>\n",
       "<tbody>\n",
       "\t<tr><th scope=row>Variance</th><td>1.8078076</td><td>0.8009595</td><td>0.3912329</td></tr>\n",
       "\t<tr><th scope=row>Proportion of Variance</th><td>0.6026025</td><td>0.2669865</td><td>0.1304110</td></tr>\n",
       "\t<tr><th scope=row>Cumulative Proportion</th><td>0.6026025</td><td>0.8695890</td><td>1.0000000</td></tr>\n",
       "</tbody>\n",
       "</table>\n",
       "</dd>\n",
       "\t<dt>$`Loadings: `</dt>\n",
       "\t\t<dd><table class=\"dataframe\">\n",
       "<caption>A data.frame: 3 × 4</caption>\n",
       "<thead>\n",
       "\t<tr><th scope=col>variabel</th><th scope=col>comp.1</th><th scope=col>comp.2</th><th scope=col>comp.3</th></tr>\n",
       "\t<tr><th scope=col>&lt;chr&gt;</th><th scope=col>&lt;dbl&gt;</th><th scope=col>&lt;dbl&gt;</th><th scope=col>&lt;dbl&gt;</th></tr>\n",
       "</thead>\n",
       "<tbody>\n",
       "\t<tr><td>sweet_rate</td><td>-0.65326</td><td>-0.10177</td><td> 0.75026</td></tr>\n",
       "\t<tr><td>sodium    </td><td>-0.48770</td><td> 0.81453</td><td>-0.31416</td></tr>\n",
       "\t<tr><td>potassium </td><td> 0.57914</td><td> 0.57113</td><td> 0.58173</td></tr>\n",
       "</tbody>\n",
       "</table>\n",
       "</dd>\n",
       "\t<dt>$`scree plot`</dt>\n",
       "\t\t<dd>NULL</dd>\n",
       "</dl>\n"
      ],
      "text/latex": [
       "\\begin{description}\n",
       "\\item[\\$`Importance of components:`] A data.frame: 3 × 3\n",
       "\\begin{tabular}{r|lll}\n",
       "  & comp.1 & comp.2 & comp.3\\\\\n",
       "  & <dbl> & <dbl> & <dbl>\\\\\n",
       "\\hline\n",
       "\tVariance & 1.8078076 & 0.8009595 & 0.3912329\\\\\n",
       "\tProportion of Variance & 0.6026025 & 0.2669865 & 0.1304110\\\\\n",
       "\tCumulative Proportion & 0.6026025 & 0.8695890 & 1.0000000\\\\\n",
       "\\end{tabular}\n",
       "\n",
       "\\item[\\$`Loadings: `] A data.frame: 3 × 4\n",
       "\\begin{tabular}{llll}\n",
       " variabel & comp.1 & comp.2 & comp.3\\\\\n",
       " <chr> & <dbl> & <dbl> & <dbl>\\\\\n",
       "\\hline\n",
       "\t sweet\\_rate & -0.65326 & -0.10177 &  0.75026\\\\\n",
       "\t sodium     & -0.48770 &  0.81453 & -0.31416\\\\\n",
       "\t potassium  &  0.57914 &  0.57113 &  0.58173\\\\\n",
       "\\end{tabular}\n",
       "\n",
       "\\item[\\$`scree plot`] NULL\n",
       "\\end{description}\n"
      ],
      "text/markdown": [
       "$`Importance of components:`\n",
       ":   \n",
       "A data.frame: 3 × 3\n",
       "\n",
       "| <!--/--> | comp.1 &lt;dbl&gt; | comp.2 &lt;dbl&gt; | comp.3 &lt;dbl&gt; |\n",
       "|---|---|---|---|\n",
       "| Variance | 1.8078076 | 0.8009595 | 0.3912329 |\n",
       "| Proportion of Variance | 0.6026025 | 0.2669865 | 0.1304110 |\n",
       "| Cumulative Proportion | 0.6026025 | 0.8695890 | 1.0000000 |\n",
       "\n",
       "\n",
       "$`Loadings: `\n",
       ":   \n",
       "A data.frame: 3 × 4\n",
       "\n",
       "| variabel &lt;chr&gt; | comp.1 &lt;dbl&gt; | comp.2 &lt;dbl&gt; | comp.3 &lt;dbl&gt; |\n",
       "|---|---|---|---|\n",
       "| sweet_rate | -0.65326 | -0.10177 |  0.75026 |\n",
       "| sodium     | -0.48770 |  0.81453 | -0.31416 |\n",
       "| potassium  |  0.57914 |  0.57113 |  0.58173 |\n",
       "\n",
       "\n",
       "$`scree plot`\n",
       ":   NULL\n",
       "\n",
       "\n"
      ],
      "text/plain": [
       "$`Importance of components:`\n",
       "                          comp.1    comp.2    comp.3\n",
       "Variance               1.8078076 0.8009595 0.3912329\n",
       "Proportion of Variance 0.6026025 0.2669865 0.1304110\n",
       "Cumulative Proportion  0.6026025 0.8695890 1.0000000\n",
       "\n",
       "$`Loadings: `\n",
       "    variabel   comp.1   comp.2   comp.3\n",
       "1 sweet_rate -0.65326 -0.10177  0.75026\n",
       "2     sodium -0.48770  0.81453 -0.31416\n",
       "3  potassium  0.57914  0.57113  0.58173\n",
       "\n",
       "$`scree plot`\n",
       "NULL\n"
      ]
     },
     "metadata": {},
     "output_type": "display_data"
    },
    {
     "data": {
      "image/png": "[encoded data removed]",
      "text/plain": [
       "Plot with title \"Scree Plot No 1\""
      ]
     },
     "metadata": {
      "image/png": {
       "height": 420,
       "width": 420
      }
     },
     "output_type": "display_data"
    }
   ],
   "source": [
    "result <- prcompcor(R)\n",
    "result"
   ]
  },
  {
   "cell_type": "markdown",
   "id": "65365d27",
   "metadata": {
    "hidden": true
   },
   "source": [
    "Komponen utama yang sebaiknya digunakan sebanyak 2 komponen. Hal ini dikarenakan Cumulative Proportion of Variance Komponen 2 > 0.75, yaitu 0.8696. Artinya, kedua komponen utama telah mampu menangkan 86.96 persen dari total keragaman data. <br> <br>\n",
    "Berdasarkan tabel 'Loadings', diperoleh persamaan komponen utama (Kombinasi Linier)\n",
    "$$\n",
    "Y_1 = -0.65326X_1 - 0.48770X_2 + 0.57914X_3 \\\\\n",
    "Y_2 = -0.10177\tX_1 + 0.81453X_2 + 0.57113X_3\n",
    "$$\n",
    "Pada komponen pertama, variabel $X_1$ dan $X_3$ adalah variabel yang dominan dengan nilai $loading$ lebih dari $0.5$ <br>\n",
    "Pada komponen kedua, variabel $X_2$ dan $X_3$ adalah variabel yang dominan dengan nilai $loading$ lebih dari $0.5$ <br>\n",
    "Secara umum, komponen pertama didominasi oleh variabel yang berkaitan dengan (var1), sedangkan komponen pertama didominasi oleh variabel yang berkaitan dengan (var2)  <br> <br>\n",
    "Berdasarkan Scree Plot diatas, banyaknya komponen utama yang dipilih adalah 2. Hal ini karena titik ekstrim dimana garis kurva mulai melandai ditunjukkan pada komponen ke 2."
   ]
  },
  {
   "cell_type": "markdown",
   "id": "f617bdb1",
   "metadata": {
    "hidden": true
   },
   "source": [
    "Kesimpulan <br> <br>\n",
    "\n",
    "Dengan metode analisis komponen utama, dapat diketahui bahwa data ... yang terdiri atas 3 variabel dapat direduksi menjadi 2 variabel dengan tetap dapat menggambarkan keragaman data awal. Kedua variabel tersebut adalah (var1), dan (var2). Dari kedua variabel tersebut yang berperan besar dalam menjelaskan data ... adalah (var1). Selain itu variabel baru yang terbentuk ini dapat digunakan untuk analisis lanjutan seperti regresi dan klasifikasi dan telah mengatasi masalah multikolinearitas karena memiliki sifat saling bebas satu sama lain."
   ]
  },
  {
   "cell_type": "markdown",
   "id": "f0224c50",
   "metadata": {
    "ExecuteTime": {
     "end_time": "2022-06-18T03:49:24.967288Z",
     "start_time": "2022-06-18T03:49:24.945Z"
    },
    "heading_collapsed": true
   },
   "source": [
    "# FA"
   ]
  },
  {
   "cell_type": "code",
   "execution_count": null,
   "id": "00817ac6",
   "metadata": {
    "hidden": true
   },
   "outputs": [],
   "source": [
    "library(\"psych\")"
   ]
  },
  {
   "cell_type": "code",
   "execution_count": 2,
   "id": "4f8fa8e9",
   "metadata": {
    "ExecuteTime": {
     "end_time": "2022-06-18T03:48:54.578686Z",
     "start_time": "2022-06-18T03:48:54.074Z"
    },
    "hidden": true,
    "scrolled": true
   },
   "outputs": [
    {
     "data": {
      "text/html": [
       "<table class=\"dataframe\">\n",
       "<caption>A matrix: 20 × 3 of type dbl</caption>\n",
       "<thead>\n",
       "\t<tr><th scope=col>sweet_rate</th><th scope=col>sodium</th><th scope=col>potassium</th></tr>\n",
       "</thead>\n",
       "<tbody>\n",
       "\t<tr><td>3.7</td><td>48.5</td><td> 9.3</td></tr>\n",
       "\t<tr><td>5.7</td><td>65.1</td><td> 8.0</td></tr>\n",
       "\t<tr><td>3.8</td><td>47.2</td><td>10.9</td></tr>\n",
       "\t<tr><td>3.2</td><td>53.2</td><td>12.0</td></tr>\n",
       "\t<tr><td>3.1</td><td>55.5</td><td> 9.7</td></tr>\n",
       "\t<tr><td>4.6</td><td>36.1</td><td> 7.9</td></tr>\n",
       "\t<tr><td>2.4</td><td>24.8</td><td>14.0</td></tr>\n",
       "\t<tr><td>7.2</td><td>33.1</td><td> 7.6</td></tr>\n",
       "\t<tr><td>6.7</td><td>47.4</td><td> 8.5</td></tr>\n",
       "\t<tr><td>5.4</td><td>54.1</td><td>11.3</td></tr>\n",
       "\t<tr><td>3.9</td><td>36.9</td><td>12.7</td></tr>\n",
       "\t<tr><td>4.5</td><td>58.8</td><td>12.3</td></tr>\n",
       "\t<tr><td>3.5</td><td>27.8</td><td> 9.8</td></tr>\n",
       "\t<tr><td>4.5</td><td>40.2</td><td> 8.4</td></tr>\n",
       "\t<tr><td>1.5</td><td>13.5</td><td>10.1</td></tr>\n",
       "\t<tr><td>8.5</td><td>56.4</td><td> 7.1</td></tr>\n",
       "\t<tr><td>4.5</td><td>71.6</td><td> 8.2</td></tr>\n",
       "\t<tr><td>6.5</td><td>52.8</td><td>10.9</td></tr>\n",
       "\t<tr><td>4.1</td><td>44.1</td><td>11.2</td></tr>\n",
       "\t<tr><td>5.5</td><td>40.9</td><td> 9.4</td></tr>\n",
       "</tbody>\n",
       "</table>\n"
      ],
      "text/latex": [
       "A matrix: 20 × 3 of type dbl\n",
       "\\begin{tabular}{lll}\n",
       " sweet\\_rate & sodium & potassium\\\\\n",
       "\\hline\n",
       "\t 3.7 & 48.5 &  9.3\\\\\n",
       "\t 5.7 & 65.1 &  8.0\\\\\n",
       "\t 3.8 & 47.2 & 10.9\\\\\n",
       "\t 3.2 & 53.2 & 12.0\\\\\n",
       "\t 3.1 & 55.5 &  9.7\\\\\n",
       "\t 4.6 & 36.1 &  7.9\\\\\n",
       "\t 2.4 & 24.8 & 14.0\\\\\n",
       "\t 7.2 & 33.1 &  7.6\\\\\n",
       "\t 6.7 & 47.4 &  8.5\\\\\n",
       "\t 5.4 & 54.1 & 11.3\\\\\n",
       "\t 3.9 & 36.9 & 12.7\\\\\n",
       "\t 4.5 & 58.8 & 12.3\\\\\n",
       "\t 3.5 & 27.8 &  9.8\\\\\n",
       "\t 4.5 & 40.2 &  8.4\\\\\n",
       "\t 1.5 & 13.5 & 10.1\\\\\n",
       "\t 8.5 & 56.4 &  7.1\\\\\n",
       "\t 4.5 & 71.6 &  8.2\\\\\n",
       "\t 6.5 & 52.8 & 10.9\\\\\n",
       "\t 4.1 & 44.1 & 11.2\\\\\n",
       "\t 5.5 & 40.9 &  9.4\\\\\n",
       "\\end{tabular}\n"
      ],
      "text/markdown": [
       "\n",
       "A matrix: 20 × 3 of type dbl\n",
       "\n",
       "| sweet_rate | sodium | potassium |\n",
       "|---|---|---|\n",
       "| 3.7 | 48.5 |  9.3 |\n",
       "| 5.7 | 65.1 |  8.0 |\n",
       "| 3.8 | 47.2 | 10.9 |\n",
       "| 3.2 | 53.2 | 12.0 |\n",
       "| 3.1 | 55.5 |  9.7 |\n",
       "| 4.6 | 36.1 |  7.9 |\n",
       "| 2.4 | 24.8 | 14.0 |\n",
       "| 7.2 | 33.1 |  7.6 |\n",
       "| 6.7 | 47.4 |  8.5 |\n",
       "| 5.4 | 54.1 | 11.3 |\n",
       "| 3.9 | 36.9 | 12.7 |\n",
       "| 4.5 | 58.8 | 12.3 |\n",
       "| 3.5 | 27.8 |  9.8 |\n",
       "| 4.5 | 40.2 |  8.4 |\n",
       "| 1.5 | 13.5 | 10.1 |\n",
       "| 8.5 | 56.4 |  7.1 |\n",
       "| 4.5 | 71.6 |  8.2 |\n",
       "| 6.5 | 52.8 | 10.9 |\n",
       "| 4.1 | 44.1 | 11.2 |\n",
       "| 5.5 | 40.9 |  9.4 |\n",
       "\n"
      ],
      "text/plain": [
       "      sweet_rate sodium potassium\n",
       " [1,] 3.7        48.5    9.3     \n",
       " [2,] 5.7        65.1    8.0     \n",
       " [3,] 3.8        47.2   10.9     \n",
       " [4,] 3.2        53.2   12.0     \n",
       " [5,] 3.1        55.5    9.7     \n",
       " [6,] 4.6        36.1    7.9     \n",
       " [7,] 2.4        24.8   14.0     \n",
       " [8,] 7.2        33.1    7.6     \n",
       " [9,] 6.7        47.4    8.5     \n",
       "[10,] 5.4        54.1   11.3     \n",
       "[11,] 3.9        36.9   12.7     \n",
       "[12,] 4.5        58.8   12.3     \n",
       "[13,] 3.5        27.8    9.8     \n",
       "[14,] 4.5        40.2    8.4     \n",
       "[15,] 1.5        13.5   10.1     \n",
       "[16,] 8.5        56.4    7.1     \n",
       "[17,] 4.5        71.6    8.2     \n",
       "[18,] 6.5        52.8   10.9     \n",
       "[19,] 4.1        44.1   11.2     \n",
       "[20,] 5.5        40.9    9.4     "
      ]
     },
     "metadata": {},
     "output_type": "display_data"
    }
   ],
   "source": [
    "sweat_rate <- c(3.7, 5.7, 3.8, 3.2, 3.1, 4.6, 2.4, 7.2, 6.7, 5.4, 3.9, 4.5, 3.5, 4.5, 1.5, 8.5, 4.5, 6.5, 4.1, 5.5)\n",
    "sodium <- c(48.5, 65.1, 47.2, 53.2, 55.5, 36.1, 24.8, 33.1, 47.4, 54.1, 36.9, 58.8, 27.8, 40.2, 13.5, 56.4, 71.6, 52.8, 44.1, 40.9)\n",
    "potassium <- c(9.3, 8, 10.9, 12, 9.7, 7.9, 14, 7.6, 8.5, 11.3, 12.7, 12.3, 9.8, 8.4, 10.1, 7.1, 8.2, 10.9, 11.2, 9.4)\n",
    "\n",
    "data <- cbind(sweat_rate, sodium, potassium)\n",
    "data"
   ]
  },
  {
   "cell_type": "code",
   "execution_count": 26,
   "id": "85fe673f",
   "metadata": {
    "ExecuteTime": {
     "end_time": "2022-06-18T04:26:10.771086Z",
     "start_time": "2022-06-18T04:26:10.738Z"
    },
    "hidden": true
   },
   "outputs": [
    {
     "data": {
      "text/html": [
       "<table class=\"dataframe\">\n",
       "<caption>A matrix: 3 × 3 of type dbl</caption>\n",
       "<thead>\n",
       "\t<tr><th></th><th scope=col>sweet_rate</th><th scope=col>sodium</th><th scope=col>potassium</th></tr>\n",
       "</thead>\n",
       "<tbody>\n",
       "\t<tr><th scope=row>sweet_rate</th><td> 2.879368</td><td> 10.0100</td><td>-1.809053</td></tr>\n",
       "\t<tr><th scope=row>sodium</th><td>10.010000</td><td>199.7884</td><td>-5.640000</td></tr>\n",
       "\t<tr><th scope=row>potassium</th><td>-1.809053</td><td> -5.6400</td><td> 3.627658</td></tr>\n",
       "</tbody>\n",
       "</table>\n"
      ],
      "text/latex": [
       "A matrix: 3 × 3 of type dbl\n",
       "\\begin{tabular}{r|lll}\n",
       "  & sweet\\_rate & sodium & potassium\\\\\n",
       "\\hline\n",
       "\tsweet\\_rate &  2.879368 &  10.0100 & -1.809053\\\\\n",
       "\tsodium & 10.010000 & 199.7884 & -5.640000\\\\\n",
       "\tpotassium & -1.809053 &  -5.6400 &  3.627658\\\\\n",
       "\\end{tabular}\n"
      ],
      "text/markdown": [
       "\n",
       "A matrix: 3 × 3 of type dbl\n",
       "\n",
       "| <!--/--> | sweet_rate | sodium | potassium |\n",
       "|---|---|---|---|\n",
       "| sweet_rate |  2.879368 |  10.0100 | -1.809053 |\n",
       "| sodium | 10.010000 | 199.7884 | -5.640000 |\n",
       "| potassium | -1.809053 |  -5.6400 |  3.627658 |\n",
       "\n"
      ],
      "text/plain": [
       "           sweet_rate sodium   potassium\n",
       "sweet_rate  2.879368   10.0100 -1.809053\n",
       "sodium     10.010000  199.7884 -5.640000\n",
       "potassium  -1.809053   -5.6400  3.627658"
      ]
     },
     "metadata": {},
     "output_type": "display_data"
    }
   ],
   "source": [
    "S <- cov(data)\n",
    "S"
   ]
  },
  {
   "cell_type": "code",
   "execution_count": 3,
   "id": "72225ec1",
   "metadata": {
    "ExecuteTime": {
     "end_time": "2022-06-18T03:48:54.611723Z",
     "start_time": "2022-06-18T03:48:54.076Z"
    },
    "hidden": true
   },
   "outputs": [
    {
     "data": {
      "text/html": [
       "<table class=\"dataframe\">\n",
       "<caption>A matrix: 3 × 3 of type dbl</caption>\n",
       "<thead>\n",
       "\t<tr><th></th><th scope=col>sweet_rate</th><th scope=col>sodium</th><th scope=col>potassium</th></tr>\n",
       "</thead>\n",
       "<tbody>\n",
       "\t<tr><th scope=row>sweet_rate</th><td> 1.0000000</td><td> 0.4173499</td><td>-0.5597440</td></tr>\n",
       "\t<tr><th scope=row>sodium</th><td> 0.4173499</td><td> 1.0000000</td><td>-0.2094984</td></tr>\n",
       "\t<tr><th scope=row>potassium</th><td>-0.5597440</td><td>-0.2094984</td><td> 1.0000000</td></tr>\n",
       "</tbody>\n",
       "</table>\n"
      ],
      "text/latex": [
       "A matrix: 3 × 3 of type dbl\n",
       "\\begin{tabular}{r|lll}\n",
       "  & sweet\\_rate & sodium & potassium\\\\\n",
       "\\hline\n",
       "\tsweet\\_rate &  1.0000000 &  0.4173499 & -0.5597440\\\\\n",
       "\tsodium &  0.4173499 &  1.0000000 & -0.2094984\\\\\n",
       "\tpotassium & -0.5597440 & -0.2094984 &  1.0000000\\\\\n",
       "\\end{tabular}\n"
      ],
      "text/markdown": [
       "\n",
       "A matrix: 3 × 3 of type dbl\n",
       "\n",
       "| <!--/--> | sweet_rate | sodium | potassium |\n",
       "|---|---|---|---|\n",
       "| sweet_rate |  1.0000000 |  0.4173499 | -0.5597440 |\n",
       "| sodium |  0.4173499 |  1.0000000 | -0.2094984 |\n",
       "| potassium | -0.5597440 | -0.2094984 |  1.0000000 |\n",
       "\n"
      ],
      "text/plain": [
       "           sweet_rate sodium     potassium \n",
       "sweet_rate  1.0000000  0.4173499 -0.5597440\n",
       "sodium      0.4173499  1.0000000 -0.2094984\n",
       "potassium  -0.5597440 -0.2094984  1.0000000"
      ]
     },
     "metadata": {},
     "output_type": "display_data"
    }
   ],
   "source": [
    "R <- cor(data)\n",
    "R"
   ]
  },
  {
   "cell_type": "code",
   "execution_count": 4,
   "id": "9d7a4d51",
   "metadata": {
    "ExecuteTime": {
     "end_time": "2022-06-18T03:48:54.644685Z",
     "start_time": "2022-06-18T03:48:54.077Z"
    },
    "hidden": true
   },
   "outputs": [
    {
     "data": {
      "text/plain": [
       "eigen() decomposition\n",
       "$values\n",
       "[1] 1.8078076 0.8009595 0.3912329\n",
       "\n",
       "$vectors\n",
       "           [,1]       [,2]       [,3]\n",
       "[1,] -0.6532613 -0.1017681  0.7502619\n",
       "[2,] -0.4876988  0.8145266 -0.3141596\n",
       "[3,]  0.5791369  0.5711301  0.5817309\n"
      ]
     },
     "metadata": {},
     "output_type": "display_data"
    }
   ],
   "source": [
    "eigen(R)"
   ]
  },
  {
   "cell_type": "code",
   "execution_count": 48,
   "id": "f5e75d56",
   "metadata": {
    "ExecuteTime": {
     "end_time": "2022-06-18T04:58:35.648003Z",
     "start_time": "2022-06-18T04:58:35.616Z"
    },
    "hidden": true
   },
   "outputs": [
    {
     "data": {
      "text/plain": [
       "Kaiser-Meyer-Olkin factor adequacy\n",
       "Call: KMO(r = R)\n",
       "Overall MSA =  0.56\n",
       "MSA for each item = \n",
       "sweet_rate     sodium  potassium \n",
       "      0.54       0.61       0.56 "
      ]
     },
     "metadata": {},
     "output_type": "display_data"
    }
   ],
   "source": [
    "# MSA KMO\n",
    "\n",
    "KMO(R)"
   ]
  },
  {
   "cell_type": "markdown",
   "id": "7b79f971",
   "metadata": {
    "hidden": true
   },
   "source": [
    "KMO > .9 were marvelous, in the .80s, mertitourious, in the .70s, middling, in the .60s, medicore, in the 50s, miserable, and less than .5, unacceptable\n",
    "KMO values between 0.8 and 1 indicate the sampling is adequate. KMO values less than 0.6 indicate the sampling is not adequate and that remedial action should be taken."
   ]
  },
  {
   "cell_type": "code",
   "execution_count": 53,
   "id": "f402b4c4",
   "metadata": {
    "ExecuteTime": {
     "end_time": "2022-06-18T07:39:19.944474Z",
     "start_time": "2022-06-18T07:39:19.911Z"
    },
    "hidden": true,
    "scrolled": true
   },
   "outputs": [
    {
     "data": {
      "text/plain": [
       "\n",
       "Call:\n",
       "factanal(x = data, factors = 1)\n",
       "\n",
       "Uniquenesses:\n",
       "sweet_rate     sodium  potassium \n",
       "     0.005      0.825      0.685 \n",
       "\n",
       "Loadings:\n",
       "           Factor1\n",
       "sweet_rate  0.997 \n",
       "sodium      0.418 \n",
       "potassium  -0.561 \n",
       "\n",
       "               Factor1\n",
       "SS loadings      1.485\n",
       "Proportion Var   0.495\n",
       "\n",
       "The degrees of freedom for the model is 0 and the fit was 0.0011 "
      ]
     },
     "metadata": {},
     "output_type": "display_data"
    }
   ],
   "source": [
    "factanal(x = data, factors = 1)"
   ]
  },
  {
   "cell_type": "markdown",
   "id": "b7033143",
   "metadata": {
    "hidden": true
   },
   "source": []
  },
  {
   "cell_type": "markdown",
   "id": "3522fed8",
   "metadata": {
    "heading_collapsed": true
   },
   "source": [
    "# Clustering"
   ]
  },
  {
   "cell_type": "code",
   "execution_count": 27,
   "id": "01986b51",
   "metadata": {
    "ExecuteTime": {
     "end_time": "2022-06-20T06:55:54.670309Z",
     "start_time": "2022-06-20T06:55:54.639Z"
    },
    "hidden": true,
    "scrolled": true
   },
   "outputs": [],
   "source": [
    "library(factoextra)\n",
    "library(dendextend)\n",
    "library(FactoClass)"
   ]
  },
  {
   "cell_type": "code",
   "execution_count": 41,
   "id": "3987295c",
   "metadata": {
    "ExecuteTime": {
     "end_time": "2022-06-20T07:00:40.287399Z",
     "start_time": "2022-06-20T07:00:40.231Z"
    },
    "hidden": true,
    "scrolled": false
   },
   "outputs": [
    {
     "data": {
      "text/html": [
       "<table class=\"dataframe\">\n",
       "<caption>A data.frame: 6 × 5</caption>\n",
       "<thead>\n",
       "\t<tr><th></th><th scope=col>Kab</th><th scope=col>SapiPotong</th><th scope=col>Kerbau</th><th scope=col>Kambing</th><th scope=col>Domba</th></tr>\n",
       "\t<tr><th></th><th scope=col>&lt;chr&gt;</th><th scope=col>&lt;dbl&gt;</th><th scope=col>&lt;dbl&gt;</th><th scope=col>&lt;dbl&gt;</th><th scope=col>&lt;dbl&gt;</th></tr>\n",
       "</thead>\n",
       "<tbody>\n",
       "\t<tr><th scope=row>1</th><td>Bogor      </td><td>1.7129131</td><td> 2.94990853</td><td> 1.7630941</td><td>-0.168919195</td></tr>\n",
       "\t<tr><th scope=row>2</th><td>Sukabumi   </td><td>0.1996910</td><td> 0.92523454</td><td> 0.7108161</td><td>-0.047104308</td></tr>\n",
       "\t<tr><th scope=row>3</th><td>Cianjur    </td><td>1.4844129</td><td> 0.96203906</td><td> 1.0974706</td><td> 0.122876246</td></tr>\n",
       "\t<tr><th scope=row>4</th><td>Bandung    </td><td>0.8705228</td><td>-0.02870453</td><td>-0.3673762</td><td>-0.135549618</td></tr>\n",
       "\t<tr><th scope=row>5</th><td>Garut      </td><td>1.0264791</td><td> 1.36539956</td><td> 0.8287300</td><td> 1.215511215</td></tr>\n",
       "\t<tr><th scope=row>6</th><td>Tasikmalaya</td><td>2.5664384</td><td> 1.60622450</td><td> 1.1721507</td><td> 0.008783035</td></tr>\n",
       "</tbody>\n",
       "</table>\n"
      ],
      "text/latex": [
       "A data.frame: 6 × 5\n",
       "\\begin{tabular}{r|lllll}\n",
       "  & Kab & SapiPotong & Kerbau & Kambing & Domba\\\\\n",
       "  & <chr> & <dbl> & <dbl> & <dbl> & <dbl>\\\\\n",
       "\\hline\n",
       "\t1 & Bogor       & 1.7129131 &  2.94990853 &  1.7630941 & -0.168919195\\\\\n",
       "\t2 & Sukabumi    & 0.1996910 &  0.92523454 &  0.7108161 & -0.047104308\\\\\n",
       "\t3 & Cianjur     & 1.4844129 &  0.96203906 &  1.0974706 &  0.122876246\\\\\n",
       "\t4 & Bandung     & 0.8705228 & -0.02870453 & -0.3673762 & -0.135549618\\\\\n",
       "\t5 & Garut       & 1.0264791 &  1.36539956 &  0.8287300 &  1.215511215\\\\\n",
       "\t6 & Tasikmalaya & 2.5664384 &  1.60622450 &  1.1721507 &  0.008783035\\\\\n",
       "\\end{tabular}\n"
      ],
      "text/markdown": [
       "\n",
       "A data.frame: 6 × 5\n",
       "\n",
       "| <!--/--> | Kab &lt;chr&gt; | SapiPotong &lt;dbl&gt; | Kerbau &lt;dbl&gt; | Kambing &lt;dbl&gt; | Domba &lt;dbl&gt; |\n",
       "|---|---|---|---|---|---|\n",
       "| 1 | Bogor       | 1.7129131 |  2.94990853 |  1.7630941 | -0.168919195 |\n",
       "| 2 | Sukabumi    | 0.1996910 |  0.92523454 |  0.7108161 | -0.047104308 |\n",
       "| 3 | Cianjur     | 1.4844129 |  0.96203906 |  1.0974706 |  0.122876246 |\n",
       "| 4 | Bandung     | 0.8705228 | -0.02870453 | -0.3673762 | -0.135549618 |\n",
       "| 5 | Garut       | 1.0264791 |  1.36539956 |  0.8287300 |  1.215511215 |\n",
       "| 6 | Tasikmalaya | 2.5664384 |  1.60622450 |  1.1721507 |  0.008783035 |\n",
       "\n"
      ],
      "text/plain": [
       "  Kab         SapiPotong Kerbau      Kambing    Domba       \n",
       "1 Bogor       1.7129131   2.94990853  1.7630941 -0.168919195\n",
       "2 Sukabumi    0.1996910   0.92523454  0.7108161 -0.047104308\n",
       "3 Cianjur     1.4844129   0.96203906  1.0974706  0.122876246\n",
       "4 Bandung     0.8705228  -0.02870453 -0.3673762 -0.135549618\n",
       "5 Garut       1.0264791   1.36539956  0.8287300  1.215511215\n",
       "6 Tasikmalaya 2.5664384   1.60622450  1.1721507  0.008783035"
      ]
     },
     "metadata": {},
     "output_type": "display_data"
    }
   ],
   "source": [
    "rawData <- read.xlsx(\"Data_TernakJabar16.xlsx\")\n",
    "for(i in c(2:5)){\n",
    "  rawData[, i] <- as.numeric(rawData[, i])\n",
    "    }\n",
    "head(rawData)"
   ]
  },
  {
   "cell_type": "code",
   "execution_count": 42,
   "id": "d3e1c512",
   "metadata": {
    "ExecuteTime": {
     "end_time": "2022-06-20T07:01:18.371439Z",
     "start_time": "2022-06-20T07:01:18.334Z"
    },
    "hidden": true
   },
   "outputs": [
    {
     "data": {
      "text/html": [
       "<table class=\"dataframe\">\n",
       "<caption>A matrix: 6 × 4 of type dbl</caption>\n",
       "<thead>\n",
       "\t<tr><th></th><th scope=col>SapiPotong</th><th scope=col>Kerbau</th><th scope=col>Kambing</th><th scope=col>Domba</th></tr>\n",
       "</thead>\n",
       "<tbody>\n",
       "\t<tr><th scope=row>1</th><td>1.7129</td><td> 2.9499</td><td> 1.7631</td><td>-0.1689</td></tr>\n",
       "\t<tr><th scope=row>2</th><td>0.1997</td><td> 0.9252</td><td> 0.7108</td><td>-0.0471</td></tr>\n",
       "\t<tr><th scope=row>3</th><td>1.4844</td><td> 0.9620</td><td> 1.0975</td><td> 0.1229</td></tr>\n",
       "\t<tr><th scope=row>4</th><td>0.8705</td><td>-0.0287</td><td>-0.3674</td><td>-0.1355</td></tr>\n",
       "\t<tr><th scope=row>5</th><td>1.0265</td><td> 1.3654</td><td> 0.8287</td><td> 1.2155</td></tr>\n",
       "\t<tr><th scope=row>6</th><td>2.5664</td><td> 1.6062</td><td> 1.1722</td><td> 0.0088</td></tr>\n",
       "</tbody>\n",
       "</table>\n"
      ],
      "text/latex": [
       "A matrix: 6 × 4 of type dbl\n",
       "\\begin{tabular}{r|llll}\n",
       "  & SapiPotong & Kerbau & Kambing & Domba\\\\\n",
       "\\hline\n",
       "\t1 & 1.7129 &  2.9499 &  1.7631 & -0.1689\\\\\n",
       "\t2 & 0.1997 &  0.9252 &  0.7108 & -0.0471\\\\\n",
       "\t3 & 1.4844 &  0.9620 &  1.0975 &  0.1229\\\\\n",
       "\t4 & 0.8705 & -0.0287 & -0.3674 & -0.1355\\\\\n",
       "\t5 & 1.0265 &  1.3654 &  0.8287 &  1.2155\\\\\n",
       "\t6 & 2.5664 &  1.6062 &  1.1722 &  0.0088\\\\\n",
       "\\end{tabular}\n"
      ],
      "text/markdown": [
       "\n",
       "A matrix: 6 × 4 of type dbl\n",
       "\n",
       "| <!--/--> | SapiPotong | Kerbau | Kambing | Domba |\n",
       "|---|---|---|---|---|\n",
       "| 1 | 1.7129 |  2.9499 |  1.7631 | -0.1689 |\n",
       "| 2 | 0.1997 |  0.9252 |  0.7108 | -0.0471 |\n",
       "| 3 | 1.4844 |  0.9620 |  1.0975 |  0.1229 |\n",
       "| 4 | 0.8705 | -0.0287 | -0.3674 | -0.1355 |\n",
       "| 5 | 1.0265 |  1.3654 |  0.8287 |  1.2155 |\n",
       "| 6 | 2.5664 |  1.6062 |  1.1722 |  0.0088 |\n",
       "\n"
      ],
      "text/plain": [
       "  SapiPotong Kerbau  Kambing Domba  \n",
       "1 1.7129      2.9499  1.7631 -0.1689\n",
       "2 0.1997      0.9252  0.7108 -0.0471\n",
       "3 1.4844      0.9620  1.0975  0.1229\n",
       "4 0.8705     -0.0287 -0.3674 -0.1355\n",
       "5 1.0265      1.3654  0.8287  1.2155\n",
       "6 2.5664      1.6062  1.1722  0.0088"
      ]
     },
     "metadata": {},
     "output_type": "display_data"
    }
   ],
   "source": [
    "data <- round(scale(rawData[, c(2:5)]),4)\n",
    "head(data)"
   ]
  },
  {
   "cell_type": "code",
   "execution_count": 46,
   "id": "748b809e",
   "metadata": {
    "ExecuteTime": {
     "end_time": "2022-06-20T07:01:52.705250Z",
     "start_time": "2022-06-20T07:01:52.673Z"
    },
    "hidden": true
   },
   "outputs": [
    {
     "data": {
      "text/html": [
       "<style>\n",
       ".dl-inline {width: auto; margin:0; padding: 0}\n",
       ".dl-inline>dt, .dl-inline>dd {float: none; width: auto; display: inline-block}\n",
       ".dl-inline>dt::after {content: \":\\0020\"; padding-right: .5ex}\n",
       ".dl-inline>dt:not(:first-of-type) {padding-left: .5ex}\n",
       "</style><dl class=dl-inline><dt>SapiPotong</dt><dd>2.48450951170456e-16</dd><dt>Kerbau</dt><dd>3.64934420131417e-17</dd><dt>Kambing</dt><dd>2.14848714950609e-16</dd><dt>Domba</dt><dd>-1.54133393291421e-16</dd></dl>\n"
      ],
      "text/latex": [
       "\\begin{description*}\n",
       "\\item[SapiPotong] 2.48450951170456e-16\n",
       "\\item[Kerbau] 3.64934420131417e-17\n",
       "\\item[Kambing] 2.14848714950609e-16\n",
       "\\item[Domba] -1.54133393291421e-16\n",
       "\\end{description*}\n"
      ],
      "text/markdown": [
       "SapiPotong\n",
       ":   2.48450951170456e-16Kerbau\n",
       ":   3.64934420131417e-17Kambing\n",
       ":   2.14848714950609e-16Domba\n",
       ":   -1.54133393291421e-16\n",
       "\n"
      ],
      "text/plain": [
       "   SapiPotong        Kerbau       Kambing         Domba \n",
       " 2.484510e-16  3.649344e-17  2.148487e-16 -1.541334e-16 "
      ]
     },
     "metadata": {},
     "output_type": "display_data"
    },
    {
     "data": {
      "text/html": [
       "<style>\n",
       ".dl-inline {width: auto; margin:0; padding: 0}\n",
       ".dl-inline>dt, .dl-inline>dd {float: none; width: auto; display: inline-block}\n",
       ".dl-inline>dt::after {content: \":\\0020\"; padding-right: .5ex}\n",
       ".dl-inline>dt:not(:first-of-type) {padding-left: .5ex}\n",
       "</style><dl class=dl-inline><dt>SapiPotong</dt><dd>0.999999999999999</dd><dt>Kerbau</dt><dd>1</dd><dt>Kambing</dt><dd>1</dd><dt>Domba</dt><dd>0.999999999999999</dd></dl>\n"
      ],
      "text/latex": [
       "\\begin{description*}\n",
       "\\item[SapiPotong] 0.999999999999999\n",
       "\\item[Kerbau] 1\n",
       "\\item[Kambing] 1\n",
       "\\item[Domba] 0.999999999999999\n",
       "\\end{description*}\n"
      ],
      "text/markdown": [
       "SapiPotong\n",
       ":   0.999999999999999Kerbau\n",
       ":   1Kambing\n",
       ":   1Domba\n",
       ":   0.999999999999999\n",
       "\n"
      ],
      "text/plain": [
       "SapiPotong     Kerbau    Kambing      Domba \n",
       "         1          1          1          1 "
      ]
     },
     "metadata": {},
     "output_type": "display_data"
    }
   ],
   "source": [
    "# Normalisasi data\n",
    "attr(data,\"scaled:center\")\n",
    "attr(data,\"scaled:scale\")"
   ]
  },
  {
   "cell_type": "code",
   "execution_count": 47,
   "id": "92e96d34",
   "metadata": {
    "ExecuteTime": {
     "end_time": "2022-06-20T07:02:07.129054Z",
     "start_time": "2022-06-20T07:02:07.097Z"
    },
    "hidden": true
   },
   "outputs": [
    {
     "ename": "ERROR",
     "evalue": "Error in do_one(nmeth): NA/NaN/Inf in foreign function call (arg 1)\n",
     "output_type": "error",
     "traceback": [
      "Error in do_one(nmeth): NA/NaN/Inf in foreign function call (arg 1)\nTraceback:\n",
      "1. kmeans(x = data, centers = i, nstart = 25)",
      "2. do_one(nmeth)"
     ]
    }
   ],
   "source": [
    "# Menentukan jumlah klaster\n",
    "jumlah_klaster <- c(1:10) #Vektor yang berisikan jumlah klaster yang ingin dilihat nilai dari total within-cluster sum of squares\n",
    "within_ss <- c() #Vektor kosong yang akan diisi nilai total withincluster sum of squares\n",
    "for (i in jumlah_klaster) {\n",
    "    within_ss <- c(within_ss,\n",
    "                   kmeans(x = data, centers = i, nstart = 25)$tot.withinss)}\n",
    "plot(x = jumlah_klaster, y = within_ss, type = \"b\", xlab = \"Number of Cluster\",\n",
    "ylab = \"Total Within Sum of Squares\", main = \"Elbow Plot\")\n",
    "abline(v = 7, col = 'red')"
   ]
  },
  {
   "cell_type": "markdown",
   "id": "01a9822e",
   "metadata": {
    "heading_collapsed": true
   },
   "source": [
    "# Canonical"
   ]
  },
  {
   "cell_type": "code",
   "execution_count": 64,
   "id": "c82758a7",
   "metadata": {
    "ExecuteTime": {
     "end_time": "2022-06-18T07:43:28.230834Z",
     "start_time": "2022-06-18T07:43:25.712Z"
    },
    "hidden": true,
    "scrolled": true
   },
   "outputs": [
    {
     "name": "stderr",
     "output_type": "stream",
     "text": [
      "Loading required package: fda\n",
      "\n",
      "Loading required package: splines\n",
      "\n",
      "Loading required package: fds\n",
      "\n",
      "Loading required package: rainbow\n",
      "\n",
      "Loading required package: MASS\n",
      "\n",
      "\n",
      "Attaching package: 'MASS'\n",
      "\n",
      "\n",
      "The following object is masked from 'package:dplyr':\n",
      "\n",
      "    select\n",
      "\n",
      "\n",
      "Loading required package: pcaPP\n",
      "\n",
      "Loading required package: RCurl\n",
      "\n",
      "Loading required package: deSolve\n",
      "\n",
      "\n",
      "Attaching package: 'fda'\n",
      "\n",
      "\n",
      "The following object is masked from 'package:graphics':\n",
      "\n",
      "    matplot\n",
      "\n",
      "\n",
      "Loading required package: fields\n",
      "\n",
      "Loading required package: spam\n",
      "\n",
      "Spam version 2.8-0 (2022-01-05) is loaded.\n",
      "Type 'help( Spam)' or 'demo( spam)' for a short introduction \n",
      "and overview of this package.\n",
      "Help for individual functions is also obtained by adding the\n",
      "suffix '.spam' to the function name, e.g. 'help( chol.spam)'.\n",
      "\n",
      "\n",
      "Attaching package: 'spam'\n",
      "\n",
      "\n",
      "The following objects are masked from 'package:base':\n",
      "\n",
      "    backsolve, forwardsolve\n",
      "\n",
      "\n",
      "Loading required package: viridis\n",
      "\n",
      "Loading required package: viridisLite\n",
      "\n",
      "\n",
      "Try help(fields) to get started.\n",
      "\n",
      "\n",
      "Attaching package: 'fields'\n",
      "\n",
      "\n",
      "The following object is masked from 'package:psych':\n",
      "\n",
      "    describe\n",
      "\n",
      "\n",
      "Registered S3 method overwritten by 'GGally':\n",
      "  method from   \n",
      "  +.gg   ggplot2\n",
      "\n"
     ]
    }
   ],
   "source": [
    "library(openxlsx)\n",
    "library(CCA)\n",
    "library(GGally)"
   ]
  },
  {
   "cell_type": "code",
   "execution_count": 59,
   "id": "65fb24ee",
   "metadata": {
    "ExecuteTime": {
     "end_time": "2022-06-18T07:42:37.262331Z",
     "start_time": "2022-06-18T07:42:37.172Z"
    },
    "hidden": true
   },
   "outputs": [
    {
     "data": {
      "text/html": [
       "<table class=\"dataframe\">\n",
       "<caption>A data.frame: 6 × 29</caption>\n",
       "<thead>\n",
       "\t<tr><th></th><th scope=col>ID</th><th scope=col>name</th><th scope=col>pac</th><th scope=col>sho</th><th scope=col>pas</th><th scope=col>dri</th><th scope=col>phy</th><th scope=col>crossing</th><th scope=col>finishing</th><th scope=col>heading_accuracy</th><th scope=col>⋯</th><th scope=col>strength</th><th scope=col>long_shots</th><th scope=col>aggression</th><th scope=col>interceptions</th><th scope=col>positioning</th><th scope=col>vision</th><th scope=col>penalties</th><th scope=col>composure</th><th scope=col>standing_tackle</th><th scope=col>sliding_tackle</th></tr>\n",
       "\t<tr><th></th><th scope=col>&lt;dbl&gt;</th><th scope=col>&lt;chr&gt;</th><th scope=col>&lt;dbl&gt;</th><th scope=col>&lt;dbl&gt;</th><th scope=col>&lt;dbl&gt;</th><th scope=col>&lt;dbl&gt;</th><th scope=col>&lt;dbl&gt;</th><th scope=col>&lt;dbl&gt;</th><th scope=col>&lt;dbl&gt;</th><th scope=col>&lt;dbl&gt;</th><th scope=col>⋯</th><th scope=col>&lt;dbl&gt;</th><th scope=col>&lt;dbl&gt;</th><th scope=col>&lt;dbl&gt;</th><th scope=col>&lt;dbl&gt;</th><th scope=col>&lt;dbl&gt;</th><th scope=col>&lt;dbl&gt;</th><th scope=col>&lt;dbl&gt;</th><th scope=col>&lt;dbl&gt;</th><th scope=col>&lt;dbl&gt;</th><th scope=col>&lt;dbl&gt;</th></tr>\n",
       "</thead>\n",
       "<tbody>\n",
       "\t<tr><th scope=row>1</th><td>158023</td><td>L. Messi      </td><td>89</td><td>90</td><td>86</td><td>96</td><td>61</td><td>77</td><td>95</td><td>71</td><td>⋯</td><td>59</td><td>88</td><td>48</td><td>22</td><td>93</td><td>90</td><td>78</td><td>96</td><td>28</td><td>26</td></tr>\n",
       "\t<tr><th scope=row>2</th><td>190871</td><td>Neymar        </td><td>92</td><td>84</td><td>79</td><td>95</td><td>60</td><td>75</td><td>89</td><td>62</td><td>⋯</td><td>53</td><td>77</td><td>56</td><td>36</td><td>90</td><td>80</td><td>81</td><td>92</td><td>24</td><td>33</td></tr>\n",
       "\t<tr><th scope=row>3</th><td>188545</td><td>R. Lewandowski</td><td>81</td><td>88</td><td>75</td><td>86</td><td>82</td><td>62</td><td>91</td><td>85</td><td>⋯</td><td>84</td><td>83</td><td>80</td><td>39</td><td>91</td><td>78</td><td>84</td><td>87</td><td>42</td><td>19</td></tr>\n",
       "\t<tr><th scope=row>4</th><td>183277</td><td>E. Hazard     </td><td>90</td><td>82</td><td>84</td><td>92</td><td>66</td><td>80</td><td>83</td><td>57</td><td>⋯</td><td>65</td><td>82</td><td>54</td><td>41</td><td>85</td><td>86</td><td>86</td><td>87</td><td>27</td><td>22</td></tr>\n",
       "\t<tr><th scope=row>5</th><td>167664</td><td>G. Higuaín    </td><td>79</td><td>87</td><td>70</td><td>83</td><td>74</td><td>68</td><td>91</td><td>86</td><td>⋯</td><td>85</td><td>82</td><td>50</td><td>20</td><td>92</td><td>70</td><td>70</td><td>86</td><td>22</td><td>18</td></tr>\n",
       "\t<tr><th scope=row>6</th><td>192985</td><td>K. De Bruyne  </td><td>75</td><td>84</td><td>88</td><td>85</td><td>75</td><td>90</td><td>83</td><td>53</td><td>⋯</td><td>73</td><td>86</td><td>68</td><td>56</td><td>84</td><td>90</td><td>77</td><td>84</td><td>51</td><td>40</td></tr>\n",
       "</tbody>\n",
       "</table>\n"
      ],
      "text/latex": [
       "A data.frame: 6 × 29\n",
       "\\begin{tabular}{r|lllllllllllllllllllll}\n",
       "  & ID & name & pac & sho & pas & dri & phy & crossing & finishing & heading\\_accuracy & ⋯ & strength & long\\_shots & aggression & interceptions & positioning & vision & penalties & composure & standing\\_tackle & sliding\\_tackle\\\\\n",
       "  & <dbl> & <chr> & <dbl> & <dbl> & <dbl> & <dbl> & <dbl> & <dbl> & <dbl> & <dbl> & ⋯ & <dbl> & <dbl> & <dbl> & <dbl> & <dbl> & <dbl> & <dbl> & <dbl> & <dbl> & <dbl>\\\\\n",
       "\\hline\n",
       "\t1 & 158023 & L. Messi       & 89 & 90 & 86 & 96 & 61 & 77 & 95 & 71 & ⋯ & 59 & 88 & 48 & 22 & 93 & 90 & 78 & 96 & 28 & 26\\\\\n",
       "\t2 & 190871 & Neymar         & 92 & 84 & 79 & 95 & 60 & 75 & 89 & 62 & ⋯ & 53 & 77 & 56 & 36 & 90 & 80 & 81 & 92 & 24 & 33\\\\\n",
       "\t3 & 188545 & R. Lewandowski & 81 & 88 & 75 & 86 & 82 & 62 & 91 & 85 & ⋯ & 84 & 83 & 80 & 39 & 91 & 78 & 84 & 87 & 42 & 19\\\\\n",
       "\t4 & 183277 & E. Hazard      & 90 & 82 & 84 & 92 & 66 & 80 & 83 & 57 & ⋯ & 65 & 82 & 54 & 41 & 85 & 86 & 86 & 87 & 27 & 22\\\\\n",
       "\t5 & 167664 & G. Higuaín     & 79 & 87 & 70 & 83 & 74 & 68 & 91 & 86 & ⋯ & 85 & 82 & 50 & 20 & 92 & 70 & 70 & 86 & 22 & 18\\\\\n",
       "\t6 & 192985 & K. De Bruyne   & 75 & 84 & 88 & 85 & 75 & 90 & 83 & 53 & ⋯ & 73 & 86 & 68 & 56 & 84 & 90 & 77 & 84 & 51 & 40\\\\\n",
       "\\end{tabular}\n"
      ],
      "text/markdown": [
       "\n",
       "A data.frame: 6 × 29\n",
       "\n",
       "| <!--/--> | ID &lt;dbl&gt; | name &lt;chr&gt; | pac &lt;dbl&gt; | sho &lt;dbl&gt; | pas &lt;dbl&gt; | dri &lt;dbl&gt; | phy &lt;dbl&gt; | crossing &lt;dbl&gt; | finishing &lt;dbl&gt; | heading_accuracy &lt;dbl&gt; | ⋯ ⋯ | strength &lt;dbl&gt; | long_shots &lt;dbl&gt; | aggression &lt;dbl&gt; | interceptions &lt;dbl&gt; | positioning &lt;dbl&gt; | vision &lt;dbl&gt; | penalties &lt;dbl&gt; | composure &lt;dbl&gt; | standing_tackle &lt;dbl&gt; | sliding_tackle &lt;dbl&gt; |\n",
       "|---|---|---|---|---|---|---|---|---|---|---|---|---|---|---|---|---|---|---|---|---|---|\n",
       "| 1 | 158023 | L. Messi       | 89 | 90 | 86 | 96 | 61 | 77 | 95 | 71 | ⋯ | 59 | 88 | 48 | 22 | 93 | 90 | 78 | 96 | 28 | 26 |\n",
       "| 2 | 190871 | Neymar         | 92 | 84 | 79 | 95 | 60 | 75 | 89 | 62 | ⋯ | 53 | 77 | 56 | 36 | 90 | 80 | 81 | 92 | 24 | 33 |\n",
       "| 3 | 188545 | R. Lewandowski | 81 | 88 | 75 | 86 | 82 | 62 | 91 | 85 | ⋯ | 84 | 83 | 80 | 39 | 91 | 78 | 84 | 87 | 42 | 19 |\n",
       "| 4 | 183277 | E. Hazard      | 90 | 82 | 84 | 92 | 66 | 80 | 83 | 57 | ⋯ | 65 | 82 | 54 | 41 | 85 | 86 | 86 | 87 | 27 | 22 |\n",
       "| 5 | 167664 | G. Higuaín     | 79 | 87 | 70 | 83 | 74 | 68 | 91 | 86 | ⋯ | 85 | 82 | 50 | 20 | 92 | 70 | 70 | 86 | 22 | 18 |\n",
       "| 6 | 192985 | K. De Bruyne   | 75 | 84 | 88 | 85 | 75 | 90 | 83 | 53 | ⋯ | 73 | 86 | 68 | 56 | 84 | 90 | 77 | 84 | 51 | 40 |\n",
       "\n"
      ],
      "text/plain": [
       "  ID     name           pac sho pas dri phy crossing finishing heading_accuracy\n",
       "1 158023 L. Messi       89  90  86  96  61  77       95        71              \n",
       "2 190871 Neymar         92  84  79  95  60  75       89        62              \n",
       "3 188545 R. Lewandowski 81  88  75  86  82  62       91        85              \n",
       "4 183277 E. Hazard      90  82  84  92  66  80       83        57              \n",
       "5 167664 G. Higuaín     79  87  70  83  74  68       91        86              \n",
       "6 192985 K. De Bruyne   75  84  88  85  75  90       83        53              \n",
       "  <U+22EF>        strength long_shots aggression interceptions positioning vision\n",
       "1 <U+22EF> 59       88         48         22            93          90    \n",
       "2 <U+22EF> 53       77         56         36            90          80    \n",
       "3 <U+22EF> 84       83         80         39            91          78    \n",
       "4 <U+22EF> 65       82         54         41            85          86    \n",
       "5 <U+22EF> 85       82         50         20            92          70    \n",
       "6 <U+22EF> 73       86         68         56            84          90    \n",
       "  penalties composure standing_tackle sliding_tackle\n",
       "1 78        96        28              26            \n",
       "2 81        92        24              33            \n",
       "3 84        87        42              19            \n",
       "4 86        87        27              22            \n",
       "5 70        86        22              18            \n",
       "6 77        84        51              40            "
      ]
     },
     "metadata": {},
     "output_type": "display_data"
    }
   ],
   "source": [
    "canonData <- read.xlsx(\"fifa.xlsx\")\n",
    "head(canonData)"
   ]
  },
  {
   "cell_type": "code",
   "execution_count": 60,
   "id": "77ba183d",
   "metadata": {
    "ExecuteTime": {
     "end_time": "2022-06-18T07:42:37.835201Z",
     "start_time": "2022-06-18T07:42:37.801Z"
    },
    "hidden": true
   },
   "outputs": [],
   "source": [
    "data <- canonData[,-c(1,2,5,8,11,12,15,21,22,23,26,27,28,29,4,7,9,20)]\n",
    "x <- data[,c(1, 6,7,8,9)]\n",
    "y <- data[,-c(1, 6,7,8,9)]"
   ]
  },
  {
   "cell_type": "code",
   "execution_count": 63,
   "id": "8d37e0ef",
   "metadata": {
    "ExecuteTime": {
     "end_time": "2022-06-18T07:42:56.659060Z",
     "start_time": "2022-06-18T07:42:56.618Z"
    },
    "hidden": true,
    "scrolled": true
   },
   "outputs": [
    {
     "data": {
      "text/html": [
       "<table class=\"dataframe\">\n",
       "<caption>A data.frame: 6 × 5</caption>\n",
       "<thead>\n",
       "\t<tr><th></th><th scope=col>pac</th><th scope=col>balance</th><th scope=col>shot_power</th><th scope=col>jumping</th><th scope=col>stamina</th></tr>\n",
       "\t<tr><th></th><th scope=col>&lt;dbl&gt;</th><th scope=col>&lt;dbl&gt;</th><th scope=col>&lt;dbl&gt;</th><th scope=col>&lt;dbl&gt;</th><th scope=col>&lt;dbl&gt;</th></tr>\n",
       "</thead>\n",
       "<tbody>\n",
       "\t<tr><th scope=row>1</th><td>89</td><td>95</td><td>85</td><td>68</td><td>73</td></tr>\n",
       "\t<tr><th scope=row>2</th><td>92</td><td>82</td><td>80</td><td>61</td><td>78</td></tr>\n",
       "\t<tr><th scope=row>3</th><td>81</td><td>80</td><td>88</td><td>84</td><td>79</td></tr>\n",
       "\t<tr><th scope=row>4</th><td>90</td><td>91</td><td>79</td><td>59</td><td>79</td></tr>\n",
       "\t<tr><th scope=row>5</th><td>79</td><td>69</td><td>88</td><td>79</td><td>72</td></tr>\n",
       "\t<tr><th scope=row>6</th><td>75</td><td>75</td><td>85</td><td>65</td><td>87</td></tr>\n",
       "</tbody>\n",
       "</table>\n"
      ],
      "text/latex": [
       "A data.frame: 6 × 5\n",
       "\\begin{tabular}{r|lllll}\n",
       "  & pac & balance & shot\\_power & jumping & stamina\\\\\n",
       "  & <dbl> & <dbl> & <dbl> & <dbl> & <dbl>\\\\\n",
       "\\hline\n",
       "\t1 & 89 & 95 & 85 & 68 & 73\\\\\n",
       "\t2 & 92 & 82 & 80 & 61 & 78\\\\\n",
       "\t3 & 81 & 80 & 88 & 84 & 79\\\\\n",
       "\t4 & 90 & 91 & 79 & 59 & 79\\\\\n",
       "\t5 & 79 & 69 & 88 & 79 & 72\\\\\n",
       "\t6 & 75 & 75 & 85 & 65 & 87\\\\\n",
       "\\end{tabular}\n"
      ],
      "text/markdown": [
       "\n",
       "A data.frame: 6 × 5\n",
       "\n",
       "| <!--/--> | pac &lt;dbl&gt; | balance &lt;dbl&gt; | shot_power &lt;dbl&gt; | jumping &lt;dbl&gt; | stamina &lt;dbl&gt; |\n",
       "|---|---|---|---|---|---|\n",
       "| 1 | 89 | 95 | 85 | 68 | 73 |\n",
       "| 2 | 92 | 82 | 80 | 61 | 78 |\n",
       "| 3 | 81 | 80 | 88 | 84 | 79 |\n",
       "| 4 | 90 | 91 | 79 | 59 | 79 |\n",
       "| 5 | 79 | 69 | 88 | 79 | 72 |\n",
       "| 6 | 75 | 75 | 85 | 65 | 87 |\n",
       "\n"
      ],
      "text/plain": [
       "  pac balance shot_power jumping stamina\n",
       "1 89  95      85         68      73     \n",
       "2 92  82      80         61      78     \n",
       "3 81  80      88         84      79     \n",
       "4 90  91      79         59      79     \n",
       "5 79  69      88         79      72     \n",
       "6 75  75      85         65      87     "
      ]
     },
     "metadata": {},
     "output_type": "display_data"
    },
    {
     "data": {
      "text/html": [
       "<table class=\"dataframe\">\n",
       "<caption>A data.frame: 6 × 6</caption>\n",
       "<thead>\n",
       "\t<tr><th></th><th scope=col>dri</th><th scope=col>heading_accuracy</th><th scope=col>ball_control</th><th scope=col>agility</th><th scope=col>positioning</th><th scope=col>vision</th></tr>\n",
       "\t<tr><th></th><th scope=col>&lt;dbl&gt;</th><th scope=col>&lt;dbl&gt;</th><th scope=col>&lt;dbl&gt;</th><th scope=col>&lt;dbl&gt;</th><th scope=col>&lt;dbl&gt;</th><th scope=col>&lt;dbl&gt;</th></tr>\n",
       "</thead>\n",
       "<tbody>\n",
       "\t<tr><th scope=row>1</th><td>96</td><td>71</td><td>95</td><td>90</td><td>93</td><td>90</td></tr>\n",
       "\t<tr><th scope=row>2</th><td>95</td><td>62</td><td>95</td><td>96</td><td>90</td><td>80</td></tr>\n",
       "\t<tr><th scope=row>3</th><td>86</td><td>85</td><td>89</td><td>78</td><td>91</td><td>78</td></tr>\n",
       "\t<tr><th scope=row>4</th><td>92</td><td>57</td><td>92</td><td>93</td><td>85</td><td>86</td></tr>\n",
       "\t<tr><th scope=row>5</th><td>83</td><td>86</td><td>85</td><td>75</td><td>92</td><td>70</td></tr>\n",
       "\t<tr><th scope=row>6</th><td>85</td><td>53</td><td>87</td><td>80</td><td>84</td><td>90</td></tr>\n",
       "</tbody>\n",
       "</table>\n"
      ],
      "text/latex": [
       "A data.frame: 6 × 6\n",
       "\\begin{tabular}{r|llllll}\n",
       "  & dri & heading\\_accuracy & ball\\_control & agility & positioning & vision\\\\\n",
       "  & <dbl> & <dbl> & <dbl> & <dbl> & <dbl> & <dbl>\\\\\n",
       "\\hline\n",
       "\t1 & 96 & 71 & 95 & 90 & 93 & 90\\\\\n",
       "\t2 & 95 & 62 & 95 & 96 & 90 & 80\\\\\n",
       "\t3 & 86 & 85 & 89 & 78 & 91 & 78\\\\\n",
       "\t4 & 92 & 57 & 92 & 93 & 85 & 86\\\\\n",
       "\t5 & 83 & 86 & 85 & 75 & 92 & 70\\\\\n",
       "\t6 & 85 & 53 & 87 & 80 & 84 & 90\\\\\n",
       "\\end{tabular}\n"
      ],
      "text/markdown": [
       "\n",
       "A data.frame: 6 × 6\n",
       "\n",
       "| <!--/--> | dri &lt;dbl&gt; | heading_accuracy &lt;dbl&gt; | ball_control &lt;dbl&gt; | agility &lt;dbl&gt; | positioning &lt;dbl&gt; | vision &lt;dbl&gt; |\n",
       "|---|---|---|---|---|---|---|\n",
       "| 1 | 96 | 71 | 95 | 90 | 93 | 90 |\n",
       "| 2 | 95 | 62 | 95 | 96 | 90 | 80 |\n",
       "| 3 | 86 | 85 | 89 | 78 | 91 | 78 |\n",
       "| 4 | 92 | 57 | 92 | 93 | 85 | 86 |\n",
       "| 5 | 83 | 86 | 85 | 75 | 92 | 70 |\n",
       "| 6 | 85 | 53 | 87 | 80 | 84 | 90 |\n",
       "\n"
      ],
      "text/plain": [
       "  dri heading_accuracy ball_control agility positioning vision\n",
       "1 96  71               95           90      93          90    \n",
       "2 95  62               95           96      90          80    \n",
       "3 86  85               89           78      91          78    \n",
       "4 92  57               92           93      85          86    \n",
       "5 83  86               85           75      92          70    \n",
       "6 85  53               87           80      84          90    "
      ]
     },
     "metadata": {},
     "output_type": "display_data"
    }
   ],
   "source": [
    "head(x)\n",
    "head(y)"
   ]
  },
  {
   "cell_type": "code",
   "execution_count": 67,
   "id": "94cd48eb",
   "metadata": {
    "ExecuteTime": {
     "end_time": "2022-06-18T07:45:56.541532Z",
     "start_time": "2022-06-18T07:45:56.509Z"
    },
    "hidden": true
   },
   "outputs": [
    {
     "data": {
      "text/html": [
       "<table class=\"dataframe\">\n",
       "<caption>A matrix: 5 × 5 of type dbl</caption>\n",
       "<thead>\n",
       "\t<tr><th></th><th scope=col>pac</th><th scope=col>balance</th><th scope=col>shot_power</th><th scope=col>jumping</th><th scope=col>stamina</th></tr>\n",
       "</thead>\n",
       "<tbody>\n",
       "\t<tr><th scope=row>pac</th><td>1.0000000000</td><td> 0.28582192</td><td> 0.0001404994</td><td> 0.09945161</td><td> 0.19596799</td></tr>\n",
       "\t<tr><th scope=row>balance</th><td>0.2858219239</td><td> 1.00000000</td><td>-0.2441426908</td><td>-0.23358891</td><td> 0.01113566</td></tr>\n",
       "\t<tr><th scope=row>shot_power</th><td>0.0001404994</td><td>-0.24414269</td><td> 1.0000000000</td><td> 0.25119815</td><td>-0.12686231</td></tr>\n",
       "\t<tr><th scope=row>jumping</th><td>0.0994516113</td><td>-0.23358891</td><td> 0.2511981535</td><td> 1.00000000</td><td> 0.11322031</td></tr>\n",
       "\t<tr><th scope=row>stamina</th><td>0.1959679883</td><td> 0.01113566</td><td>-0.1268623104</td><td> 0.11322031</td><td> 1.00000000</td></tr>\n",
       "</tbody>\n",
       "</table>\n"
      ],
      "text/latex": [
       "A matrix: 5 × 5 of type dbl\n",
       "\\begin{tabular}{r|lllll}\n",
       "  & pac & balance & shot\\_power & jumping & stamina\\\\\n",
       "\\hline\n",
       "\tpac & 1.0000000000 &  0.28582192 &  0.0001404994 &  0.09945161 &  0.19596799\\\\\n",
       "\tbalance & 0.2858219239 &  1.00000000 & -0.2441426908 & -0.23358891 &  0.01113566\\\\\n",
       "\tshot\\_power & 0.0001404994 & -0.24414269 &  1.0000000000 &  0.25119815 & -0.12686231\\\\\n",
       "\tjumping & 0.0994516113 & -0.23358891 &  0.2511981535 &  1.00000000 &  0.11322031\\\\\n",
       "\tstamina & 0.1959679883 &  0.01113566 & -0.1268623104 &  0.11322031 &  1.00000000\\\\\n",
       "\\end{tabular}\n"
      ],
      "text/markdown": [
       "\n",
       "A matrix: 5 × 5 of type dbl\n",
       "\n",
       "| <!--/--> | pac | balance | shot_power | jumping | stamina |\n",
       "|---|---|---|---|---|---|\n",
       "| pac | 1.0000000000 |  0.28582192 |  0.0001404994 |  0.09945161 |  0.19596799 |\n",
       "| balance | 0.2858219239 |  1.00000000 | -0.2441426908 | -0.23358891 |  0.01113566 |\n",
       "| shot_power | 0.0001404994 | -0.24414269 |  1.0000000000 |  0.25119815 | -0.12686231 |\n",
       "| jumping | 0.0994516113 | -0.23358891 |  0.2511981535 |  1.00000000 |  0.11322031 |\n",
       "| stamina | 0.1959679883 |  0.01113566 | -0.1268623104 |  0.11322031 |  1.00000000 |\n",
       "\n"
      ],
      "text/plain": [
       "           pac          balance     shot_power    jumping     stamina    \n",
       "pac        1.0000000000  0.28582192  0.0001404994  0.09945161  0.19596799\n",
       "balance    0.2858219239  1.00000000 -0.2441426908 -0.23358891  0.01113566\n",
       "shot_power 0.0001404994 -0.24414269  1.0000000000  0.25119815 -0.12686231\n",
       "jumping    0.0994516113 -0.23358891  0.2511981535  1.00000000  0.11322031\n",
       "stamina    0.1959679883  0.01113566 -0.1268623104  0.11322031  1.00000000"
      ]
     },
     "metadata": {},
     "output_type": "display_data"
    }
   ],
   "source": [
    "cor(x)"
   ]
  },
  {
   "cell_type": "code",
   "execution_count": 68,
   "id": "c05ead3f",
   "metadata": {
    "ExecuteTime": {
     "end_time": "2022-06-18T07:46:01.938080Z",
     "start_time": "2022-06-18T07:46:01.901Z"
    },
    "hidden": true
   },
   "outputs": [
    {
     "data": {
      "text/html": [
       "<table class=\"dataframe\">\n",
       "<caption>A matrix: 6 × 6 of type dbl</caption>\n",
       "<thead>\n",
       "\t<tr><th></th><th scope=col>dri</th><th scope=col>heading_accuracy</th><th scope=col>ball_control</th><th scope=col>agility</th><th scope=col>positioning</th><th scope=col>vision</th></tr>\n",
       "</thead>\n",
       "<tbody>\n",
       "\t<tr><th scope=row>dri</th><td> 1.00000000</td><td>-0.3188569</td><td> 0.8131646</td><td> 0.650582331</td><td> 0.056585685</td><td> 0.299777345</td></tr>\n",
       "\t<tr><th scope=row>heading_accuracy</th><td>-0.31885690</td><td> 1.0000000</td><td>-0.1771454</td><td>-0.479899046</td><td> 0.547726380</td><td>-0.343361311</td></tr>\n",
       "\t<tr><th scope=row>ball_control</th><td> 0.81316459</td><td>-0.1771454</td><td> 1.0000000</td><td> 0.271808177</td><td> 0.176898251</td><td> 0.466890750</td></tr>\n",
       "\t<tr><th scope=row>agility</th><td> 0.65058233</td><td>-0.4798990</td><td> 0.2718082</td><td> 1.000000000</td><td>-0.145528364</td><td> 0.006317004</td></tr>\n",
       "\t<tr><th scope=row>positioning</th><td> 0.05658569</td><td> 0.5477264</td><td> 0.1768983</td><td>-0.145528364</td><td> 1.000000000</td><td> 0.008354592</td></tr>\n",
       "\t<tr><th scope=row>vision</th><td> 0.29977734</td><td>-0.3433613</td><td> 0.4668908</td><td> 0.006317004</td><td> 0.008354592</td><td> 1.000000000</td></tr>\n",
       "</tbody>\n",
       "</table>\n"
      ],
      "text/latex": [
       "A matrix: 6 × 6 of type dbl\n",
       "\\begin{tabular}{r|llllll}\n",
       "  & dri & heading\\_accuracy & ball\\_control & agility & positioning & vision\\\\\n",
       "\\hline\n",
       "\tdri &  1.00000000 & -0.3188569 &  0.8131646 &  0.650582331 &  0.056585685 &  0.299777345\\\\\n",
       "\theading\\_accuracy & -0.31885690 &  1.0000000 & -0.1771454 & -0.479899046 &  0.547726380 & -0.343361311\\\\\n",
       "\tball\\_control &  0.81316459 & -0.1771454 &  1.0000000 &  0.271808177 &  0.176898251 &  0.466890750\\\\\n",
       "\tagility &  0.65058233 & -0.4798990 &  0.2718082 &  1.000000000 & -0.145528364 &  0.006317004\\\\\n",
       "\tpositioning &  0.05658569 &  0.5477264 &  0.1768983 & -0.145528364 &  1.000000000 &  0.008354592\\\\\n",
       "\tvision &  0.29977734 & -0.3433613 &  0.4668908 &  0.006317004 &  0.008354592 &  1.000000000\\\\\n",
       "\\end{tabular}\n"
      ],
      "text/markdown": [
       "\n",
       "A matrix: 6 × 6 of type dbl\n",
       "\n",
       "| <!--/--> | dri | heading_accuracy | ball_control | agility | positioning | vision |\n",
       "|---|---|---|---|---|---|---|\n",
       "| dri |  1.00000000 | -0.3188569 |  0.8131646 |  0.650582331 |  0.056585685 |  0.299777345 |\n",
       "| heading_accuracy | -0.31885690 |  1.0000000 | -0.1771454 | -0.479899046 |  0.547726380 | -0.343361311 |\n",
       "| ball_control |  0.81316459 | -0.1771454 |  1.0000000 |  0.271808177 |  0.176898251 |  0.466890750 |\n",
       "| agility |  0.65058233 | -0.4798990 |  0.2718082 |  1.000000000 | -0.145528364 |  0.006317004 |\n",
       "| positioning |  0.05658569 |  0.5477264 |  0.1768983 | -0.145528364 |  1.000000000 |  0.008354592 |\n",
       "| vision |  0.29977734 | -0.3433613 |  0.4668908 |  0.006317004 |  0.008354592 |  1.000000000 |\n",
       "\n"
      ],
      "text/plain": [
       "                 dri         heading_accuracy ball_control agility     \n",
       "dri               1.00000000 -0.3188569        0.8131646    0.650582331\n",
       "heading_accuracy -0.31885690  1.0000000       -0.1771454   -0.479899046\n",
       "ball_control      0.81316459 -0.1771454        1.0000000    0.271808177\n",
       "agility           0.65058233 -0.4798990        0.2718082    1.000000000\n",
       "positioning       0.05658569  0.5477264        0.1768983   -0.145528364\n",
       "vision            0.29977734 -0.3433613        0.4668908    0.006317004\n",
       "                 positioning  vision      \n",
       "dri               0.056585685  0.299777345\n",
       "heading_accuracy  0.547726380 -0.343361311\n",
       "ball_control      0.176898251  0.466890750\n",
       "agility          -0.145528364  0.006317004\n",
       "positioning       1.000000000  0.008354592\n",
       "vision            0.008354592  1.000000000"
      ]
     },
     "metadata": {},
     "output_type": "display_data"
    }
   ],
   "source": [
    "cor(y)"
   ]
  },
  {
   "cell_type": "code",
   "execution_count": null,
   "id": "2ce64d4d",
   "metadata": {
    "hidden": true
   },
   "outputs": [],
   "source": []
  },
  {
   "cell_type": "markdown",
   "id": "6178a222",
   "metadata": {},
   "source": [
    "# Discriminant"
   ]
  },
  {
   "cell_type": "code",
   "execution_count": 49,
   "id": "7796cbf3",
   "metadata": {
    "ExecuteTime": {
     "end_time": "2022-06-20T07:08:11.610619Z",
     "start_time": "2022-06-20T07:08:11.543Z"
    }
   },
   "outputs": [
    {
     "data": {
      "text/html": [
       "<table class=\"dataframe\">\n",
       "<caption>A data.frame: 21 × 8</caption>\n",
       "<thead>\n",
       "\t<tr><th></th><th scope=col>Tabel.1..Rata-Rata.Upah.dan.Produktivitas.Tenaga.Kerja</th><th scope=col>X2</th><th scope=col>X3</th><th scope=col>X4</th><th scope=col>Tabel.2..Rata-Rata.Upah.dan.Produktivitas.Tenaga.Kerja</th><th scope=col>X6</th><th scope=col>X7</th><th scope=col>X8</th></tr>\n",
       "\t<tr><th></th><th scope=col>&lt;chr&gt;</th><th scope=col>&lt;chr&gt;</th><th scope=col>&lt;chr&gt;</th><th scope=col>&lt;chr&gt;</th><th scope=col>&lt;chr&gt;</th><th scope=col>&lt;chr&gt;</th><th scope=col>&lt;chr&gt;</th><th scope=col>&lt;chr&gt;</th></tr>\n",
       "</thead>\n",
       "<tbody>\n",
       "\t<tr><th scope=row>1</th><td>   </td><td>menurut Lokasi IKRT yang Teragglomerasi</td><td>NA                      </td><td>NA                        </td><td>   </td><td>menurut Lokasi IKRT yang Tidak Teragglomerasi</td><td>NA                      </td><td>NA                        </td></tr>\n",
       "\t<tr><th scope=row>2</th><td>No.</td><td>Kabupaten/Kota                         </td><td>Rata-Rata Upah per bulan</td><td>Produktivitas Tenaga Kerja</td><td>No.</td><td>Kabupaten/Kota                               </td><td>Rata-Rata Upah per bulan</td><td>Produktivitas Tenaga Kerja</td></tr>\n",
       "\t<tr><th scope=row>3</th><td>NA </td><td>NA                                     </td><td>(ratusan ribu rupiah)   </td><td>(juta rupiah)             </td><td>NA </td><td>NA                                           </td><td>(ratusan ribu rupiah)   </td><td>(juta rupiah)             </td></tr>\n",
       "\t<tr><th scope=row>4</th><td>1  </td><td>Kota Magelang                          </td><td>11.8                    </td><td>18.2                      </td><td>1  </td><td>Batang                                       </td><td>10                      </td><td>18.7                      </td></tr>\n",
       "\t<tr><th scope=row>5</th><td>2  </td><td>Kota Surakarta                         </td><td>12.6                    </td><td>19.5                      </td><td>2  </td><td>Pemalang                                     </td><td>11.9                    </td><td>18.3                      </td></tr>\n",
       "\t<tr><th scope=row>6</th><td>3  </td><td>Kota Semarang                          </td><td>13.1                    </td><td>20.5                      </td><td>3  </td><td>Brebes                                       </td><td>10.9                    </td><td>18.3                      </td></tr>\n",
       "\t<tr><th scope=row>7</th><td>4  </td><td>Kota Pekalongan                        </td><td>12.5                    </td><td>19.100000000000001        </td><td>4  </td><td>Salatiga                                     </td><td>11.9                    </td><td>17.3                      </td></tr>\n",
       "\t<tr><th scope=row>8</th><td>5  </td><td>Kota Tegal                             </td><td>12.5                    </td><td>18.600000000000001        </td><td>5  </td><td>Cilacap                                      </td><td>9.5                     </td><td>18.8                      </td></tr>\n",
       "\t<tr><th scope=row>9</th><td>6  </td><td>Sukoharjo                              </td><td>11.5                    </td><td>19.600000000000001        </td><td>6  </td><td>Banyumas                                     </td><td>10.4                    </td><td>19.600000000000001        </td></tr>\n",
       "\t<tr><th scope=row>10</th><td>7  </td><td>Karanganyar                            </td><td>9.9                     </td><td>19.100000000000001        </td><td>7  </td><td>Purbalingga                                  </td><td>10.6                    </td><td>18.899999999999999        </td></tr>\n",
       "\t<tr><th scope=row>11</th><td>8  </td><td>Pati                                   </td><td>12.6                    </td><td>19.899999999999999        </td><td>8  </td><td>Banjarnegara                                 </td><td>9.4                     </td><td>17.899999999999999        </td></tr>\n",
       "\t<tr><th scope=row>12</th><td>9  </td><td>Kudus                                  </td><td>12                      </td><td>20.100000000000001        </td><td>9  </td><td>Kebumen                                      </td><td>10.6                    </td><td>19                        </td></tr>\n",
       "\t<tr><th scope=row>13</th><td>10 </td><td>Jepara                                 </td><td>12.7                    </td><td>20.8                      </td><td>10 </td><td>Blora                                        </td><td>11.4                    </td><td>17.399999999999999        </td></tr>\n",
       "\t<tr><th scope=row>14</th><td>11 </td><td>Temanggung                             </td><td>12.4                    </td><td>21.6                      </td><td>11 </td><td>Rembang                                      </td><td>11.2                    </td><td>18.7                      </td></tr>\n",
       "\t<tr><th scope=row>15</th><td>12 </td><td>Pekalongan                             </td><td>10.9                    </td><td>19.2                      </td><td>12 </td><td>Demak                                        </td><td>11.2                    </td><td>18.399999999999999        </td></tr>\n",
       "\t<tr><th scope=row>16</th><td>13 </td><td>Tegal                                  </td><td>12.3                    </td><td>21.4                      </td><td>13 </td><td>Semarang                                     </td><td>8.9                     </td><td>18                        </td></tr>\n",
       "\t<tr><th scope=row>17</th><td>14 </td><td>Wonosobo                               </td><td>11.4                    </td><td>19.7                      </td><td>14 </td><td>Kendal                                       </td><td>11.6                    </td><td>18.7                      </td></tr>\n",
       "\t<tr><th scope=row>18</th><td>15 </td><td>Magelang                               </td><td>10.5                    </td><td>19.8                      </td><td>15 </td><td>Purworejo                                    </td><td>10.7                    </td><td>13.7                      </td></tr>\n",
       "\t<tr><th scope=row>19</th><td>16 </td><td>Boyolali                               </td><td>12.3                    </td><td>19.899999999999999        </td><td>16 </td><td>Wonogiri                                     </td><td>10.4                    </td><td>18.5                      </td></tr>\n",
       "\t<tr><th scope=row>20</th><td>17 </td><td>Klaten                                 </td><td>11.6                    </td><td>20.5                      </td><td>17 </td><td>Sragen                                       </td><td>9.6999999999999993      </td><td>19                        </td></tr>\n",
       "\t<tr><th scope=row>21</th><td>NA </td><td>NA                                     </td><td>NA                      </td><td>NA                        </td><td>18 </td><td>Grobogan                                     </td><td>10.5                    </td><td>18.899999999999999        </td></tr>\n",
       "</tbody>\n",
       "</table>\n"
      ],
      "text/latex": [
       "A data.frame: 21 × 8\n",
       "\\begin{tabular}{r|llllllll}\n",
       "  & Tabel.1..Rata-Rata.Upah.dan.Produktivitas.Tenaga.Kerja & X2 & X3 & X4 & Tabel.2..Rata-Rata.Upah.dan.Produktivitas.Tenaga.Kerja & X6 & X7 & X8\\\\\n",
       "  & <chr> & <chr> & <chr> & <chr> & <chr> & <chr> & <chr> & <chr>\\\\\n",
       "\\hline\n",
       "\t1 &     & menurut Lokasi IKRT yang Teragglomerasi & NA                       & NA                         &     & menurut Lokasi IKRT yang Tidak Teragglomerasi & NA                       & NA                        \\\\\n",
       "\t2 & No. & Kabupaten/Kota                          & Rata-Rata Upah per bulan & Produktivitas Tenaga Kerja & No. & Kabupaten/Kota                                & Rata-Rata Upah per bulan & Produktivitas Tenaga Kerja\\\\\n",
       "\t3 & NA  & NA                                      & (ratusan ribu rupiah)    & (juta rupiah)              & NA  & NA                                            & (ratusan ribu rupiah)    & (juta rupiah)             \\\\\n",
       "\t4 & 1   & Kota Magelang                           & 11.8                     & 18.2                       & 1   & Batang                                        & 10                       & 18.7                      \\\\\n",
       "\t5 & 2   & Kota Surakarta                          & 12.6                     & 19.5                       & 2   & Pemalang                                      & 11.9                     & 18.3                      \\\\\n",
       "\t6 & 3   & Kota Semarang                           & 13.1                     & 20.5                       & 3   & Brebes                                        & 10.9                     & 18.3                      \\\\\n",
       "\t7 & 4   & Kota Pekalongan                         & 12.5                     & 19.100000000000001         & 4   & Salatiga                                      & 11.9                     & 17.3                      \\\\\n",
       "\t8 & 5   & Kota Tegal                              & 12.5                     & 18.600000000000001         & 5   & Cilacap                                       & 9.5                      & 18.8                      \\\\\n",
       "\t9 & 6   & Sukoharjo                               & 11.5                     & 19.600000000000001         & 6   & Banyumas                                      & 10.4                     & 19.600000000000001        \\\\\n",
       "\t10 & 7   & Karanganyar                             & 9.9                      & 19.100000000000001         & 7   & Purbalingga                                   & 10.6                     & 18.899999999999999        \\\\\n",
       "\t11 & 8   & Pati                                    & 12.6                     & 19.899999999999999         & 8   & Banjarnegara                                  & 9.4                      & 17.899999999999999        \\\\\n",
       "\t12 & 9   & Kudus                                   & 12                       & 20.100000000000001         & 9   & Kebumen                                       & 10.6                     & 19                        \\\\\n",
       "\t13 & 10  & Jepara                                  & 12.7                     & 20.8                       & 10  & Blora                                         & 11.4                     & 17.399999999999999        \\\\\n",
       "\t14 & 11  & Temanggung                              & 12.4                     & 21.6                       & 11  & Rembang                                       & 11.2                     & 18.7                      \\\\\n",
       "\t15 & 12  & Pekalongan                              & 10.9                     & 19.2                       & 12  & Demak                                         & 11.2                     & 18.399999999999999        \\\\\n",
       "\t16 & 13  & Tegal                                   & 12.3                     & 21.4                       & 13  & Semarang                                      & 8.9                      & 18                        \\\\\n",
       "\t17 & 14  & Wonosobo                                & 11.4                     & 19.7                       & 14  & Kendal                                        & 11.6                     & 18.7                      \\\\\n",
       "\t18 & 15  & Magelang                                & 10.5                     & 19.8                       & 15  & Purworejo                                     & 10.7                     & 13.7                      \\\\\n",
       "\t19 & 16  & Boyolali                                & 12.3                     & 19.899999999999999         & 16  & Wonogiri                                      & 10.4                     & 18.5                      \\\\\n",
       "\t20 & 17  & Klaten                                  & 11.6                     & 20.5                       & 17  & Sragen                                        & 9.6999999999999993       & 19                        \\\\\n",
       "\t21 & NA  & NA                                      & NA                       & NA                         & 18  & Grobogan                                      & 10.5                     & 18.899999999999999        \\\\\n",
       "\\end{tabular}\n"
      ],
      "text/markdown": [
       "\n",
       "A data.frame: 21 × 8\n",
       "\n",
       "| <!--/--> | Tabel.1..Rata-Rata.Upah.dan.Produktivitas.Tenaga.Kerja &lt;chr&gt; | X2 &lt;chr&gt; | X3 &lt;chr&gt; | X4 &lt;chr&gt; | Tabel.2..Rata-Rata.Upah.dan.Produktivitas.Tenaga.Kerja &lt;chr&gt; | X6 &lt;chr&gt; | X7 &lt;chr&gt; | X8 &lt;chr&gt; |\n",
       "|---|---|---|---|---|---|---|---|---|\n",
       "| 1 | <!----> | menurut Lokasi IKRT yang Teragglomerasi | NA                       | NA                         | <!----> | menurut Lokasi IKRT yang Tidak Teragglomerasi | NA                       | NA                         |\n",
       "| 2 | No. | Kabupaten/Kota                          | Rata-Rata Upah per bulan | Produktivitas Tenaga Kerja | No. | Kabupaten/Kota                                | Rata-Rata Upah per bulan | Produktivitas Tenaga Kerja |\n",
       "| 3 | NA  | NA                                      | (ratusan ribu rupiah)    | (juta rupiah)              | NA  | NA                                            | (ratusan ribu rupiah)    | (juta rupiah)              |\n",
       "| 4 | 1   | Kota Magelang                           | 11.8                     | 18.2                       | 1   | Batang                                        | 10                       | 18.7                       |\n",
       "| 5 | 2   | Kota Surakarta                          | 12.6                     | 19.5                       | 2   | Pemalang                                      | 11.9                     | 18.3                       |\n",
       "| 6 | 3   | Kota Semarang                           | 13.1                     | 20.5                       | 3   | Brebes                                        | 10.9                     | 18.3                       |\n",
       "| 7 | 4   | Kota Pekalongan                         | 12.5                     | 19.100000000000001         | 4   | Salatiga                                      | 11.9                     | 17.3                       |\n",
       "| 8 | 5   | Kota Tegal                              | 12.5                     | 18.600000000000001         | 5   | Cilacap                                       | 9.5                      | 18.8                       |\n",
       "| 9 | 6   | Sukoharjo                               | 11.5                     | 19.600000000000001         | 6   | Banyumas                                      | 10.4                     | 19.600000000000001         |\n",
       "| 10 | 7   | Karanganyar                             | 9.9                      | 19.100000000000001         | 7   | Purbalingga                                   | 10.6                     | 18.899999999999999         |\n",
       "| 11 | 8   | Pati                                    | 12.6                     | 19.899999999999999         | 8   | Banjarnegara                                  | 9.4                      | 17.899999999999999         |\n",
       "| 12 | 9   | Kudus                                   | 12                       | 20.100000000000001         | 9   | Kebumen                                       | 10.6                     | 19                         |\n",
       "| 13 | 10  | Jepara                                  | 12.7                     | 20.8                       | 10  | Blora                                         | 11.4                     | 17.399999999999999         |\n",
       "| 14 | 11  | Temanggung                              | 12.4                     | 21.6                       | 11  | Rembang                                       | 11.2                     | 18.7                       |\n",
       "| 15 | 12  | Pekalongan                              | 10.9                     | 19.2                       | 12  | Demak                                         | 11.2                     | 18.399999999999999         |\n",
       "| 16 | 13  | Tegal                                   | 12.3                     | 21.4                       | 13  | Semarang                                      | 8.9                      | 18                         |\n",
       "| 17 | 14  | Wonosobo                                | 11.4                     | 19.7                       | 14  | Kendal                                        | 11.6                     | 18.7                       |\n",
       "| 18 | 15  | Magelang                                | 10.5                     | 19.8                       | 15  | Purworejo                                     | 10.7                     | 13.7                       |\n",
       "| 19 | 16  | Boyolali                                | 12.3                     | 19.899999999999999         | 16  | Wonogiri                                      | 10.4                     | 18.5                       |\n",
       "| 20 | 17  | Klaten                                  | 11.6                     | 20.5                       | 17  | Sragen                                        | 9.6999999999999993       | 19                         |\n",
       "| 21 | NA  | NA                                      | NA                       | NA                         | 18  | Grobogan                                      | 10.5                     | 18.899999999999999         |\n",
       "\n"
      ],
      "text/plain": [
       "   Tabel.1..Rata-Rata.Upah.dan.Produktivitas.Tenaga.Kerja\n",
       "1                                                        \n",
       "2  No.                                                   \n",
       "3  NA                                                    \n",
       "4  1                                                     \n",
       "5  2                                                     \n",
       "6  3                                                     \n",
       "7  4                                                     \n",
       "8  5                                                     \n",
       "9  6                                                     \n",
       "10 7                                                     \n",
       "11 8                                                     \n",
       "12 9                                                     \n",
       "13 10                                                    \n",
       "14 11                                                    \n",
       "15 12                                                    \n",
       "16 13                                                    \n",
       "17 14                                                    \n",
       "18 15                                                    \n",
       "19 16                                                    \n",
       "20 17                                                    \n",
       "21 NA                                                    \n",
       "   X2                                      X3                      \n",
       "1  menurut Lokasi IKRT yang Teragglomerasi NA                      \n",
       "2  Kabupaten/Kota                          Rata-Rata Upah per bulan\n",
       "3  NA                                      (ratusan ribu rupiah)   \n",
       "4  Kota Magelang                           11.8                    \n",
       "5  Kota Surakarta                          12.6                    \n",
       "6  Kota Semarang                           13.1                    \n",
       "7  Kota Pekalongan                         12.5                    \n",
       "8  Kota Tegal                              12.5                    \n",
       "9  Sukoharjo                               11.5                    \n",
       "10 Karanganyar                             9.9                     \n",
       "11 Pati                                    12.6                    \n",
       "12 Kudus                                   12                      \n",
       "13 Jepara                                  12.7                    \n",
       "14 Temanggung                              12.4                    \n",
       "15 Pekalongan                              10.9                    \n",
       "16 Tegal                                   12.3                    \n",
       "17 Wonosobo                                11.4                    \n",
       "18 Magelang                                10.5                    \n",
       "19 Boyolali                                12.3                    \n",
       "20 Klaten                                  11.6                    \n",
       "21 NA                                      NA                      \n",
       "   X4                        \n",
       "1  NA                        \n",
       "2  Produktivitas Tenaga Kerja\n",
       "3  (juta rupiah)             \n",
       "4  18.2                      \n",
       "5  19.5                      \n",
       "6  20.5                      \n",
       "7  19.100000000000001        \n",
       "8  18.600000000000001        \n",
       "9  19.600000000000001        \n",
       "10 19.100000000000001        \n",
       "11 19.899999999999999        \n",
       "12 20.100000000000001        \n",
       "13 20.8                      \n",
       "14 21.6                      \n",
       "15 19.2                      \n",
       "16 21.4                      \n",
       "17 19.7                      \n",
       "18 19.8                      \n",
       "19 19.899999999999999        \n",
       "20 20.5                      \n",
       "21 NA                        \n",
       "   Tabel.2..Rata-Rata.Upah.dan.Produktivitas.Tenaga.Kerja\n",
       "1                                                        \n",
       "2  No.                                                   \n",
       "3  NA                                                    \n",
       "4  1                                                     \n",
       "5  2                                                     \n",
       "6  3                                                     \n",
       "7  4                                                     \n",
       "8  5                                                     \n",
       "9  6                                                     \n",
       "10 7                                                     \n",
       "11 8                                                     \n",
       "12 9                                                     \n",
       "13 10                                                    \n",
       "14 11                                                    \n",
       "15 12                                                    \n",
       "16 13                                                    \n",
       "17 14                                                    \n",
       "18 15                                                    \n",
       "19 16                                                    \n",
       "20 17                                                    \n",
       "21 18                                                    \n",
       "   X6                                            X7                      \n",
       "1  menurut Lokasi IKRT yang Tidak Teragglomerasi NA                      \n",
       "2  Kabupaten/Kota                                Rata-Rata Upah per bulan\n",
       "3  NA                                            (ratusan ribu rupiah)   \n",
       "4  Batang                                        10                      \n",
       "5  Pemalang                                      11.9                    \n",
       "6  Brebes                                        10.9                    \n",
       "7  Salatiga                                      11.9                    \n",
       "8  Cilacap                                       9.5                     \n",
       "9  Banyumas                                      10.4                    \n",
       "10 Purbalingga                                   10.6                    \n",
       "11 Banjarnegara                                  9.4                     \n",
       "12 Kebumen                                       10.6                    \n",
       "13 Blora                                         11.4                    \n",
       "14 Rembang                                       11.2                    \n",
       "15 Demak                                         11.2                    \n",
       "16 Semarang                                      8.9                     \n",
       "17 Kendal                                        11.6                    \n",
       "18 Purworejo                                     10.7                    \n",
       "19 Wonogiri                                      10.4                    \n",
       "20 Sragen                                        9.6999999999999993      \n",
       "21 Grobogan                                      10.5                    \n",
       "   X8                        \n",
       "1  NA                        \n",
       "2  Produktivitas Tenaga Kerja\n",
       "3  (juta rupiah)             \n",
       "4  18.7                      \n",
       "5  18.3                      \n",
       "6  18.3                      \n",
       "7  17.3                      \n",
       "8  18.8                      \n",
       "9  19.600000000000001        \n",
       "10 18.899999999999999        \n",
       "11 17.899999999999999        \n",
       "12 19                        \n",
       "13 17.399999999999999        \n",
       "14 18.7                      \n",
       "15 18.399999999999999        \n",
       "16 18                        \n",
       "17 18.7                      \n",
       "18 13.7                      \n",
       "19 18.5                      \n",
       "20 19                        \n",
       "21 18.899999999999999        "
      ]
     },
     "metadata": {},
     "output_type": "display_data"
    }
   ],
   "source": [
    "rawData <- read.xlsx(\"Data_IKRT.xlsx\")\n",
    "rawData"
   ]
  },
  {
   "cell_type": "code",
   "execution_count": 55,
   "id": "ca3b973c",
   "metadata": {
    "ExecuteTime": {
     "end_time": "2022-06-20T07:10:01.411969Z",
     "start_time": "2022-06-20T07:10:01.361Z"
    }
   },
   "outputs": [
    {
     "data": {
      "text/html": [
       "<table class=\"dataframe\">\n",
       "<caption>A data.frame: 18 × 4</caption>\n",
       "<thead>\n",
       "\t<tr><th></th><th scope=col>X3</th><th scope=col>X4</th><th scope=col>X7</th><th scope=col>X8</th></tr>\n",
       "\t<tr><th></th><th scope=col>&lt;chr&gt;</th><th scope=col>&lt;chr&gt;</th><th scope=col>&lt;chr&gt;</th><th scope=col>&lt;chr&gt;</th></tr>\n",
       "</thead>\n",
       "<tbody>\n",
       "\t<tr><th scope=row>4</th><td>11.8</td><td>18.2              </td><td>10                </td><td>18.7              </td></tr>\n",
       "\t<tr><th scope=row>5</th><td>12.6</td><td>19.5              </td><td>11.9              </td><td>18.3              </td></tr>\n",
       "\t<tr><th scope=row>6</th><td>13.1</td><td>20.5              </td><td>10.9              </td><td>18.3              </td></tr>\n",
       "\t<tr><th scope=row>7</th><td>12.5</td><td>19.100000000000001</td><td>11.9              </td><td>17.3              </td></tr>\n",
       "\t<tr><th scope=row>8</th><td>12.5</td><td>18.600000000000001</td><td>9.5               </td><td>18.8              </td></tr>\n",
       "\t<tr><th scope=row>9</th><td>11.5</td><td>19.600000000000001</td><td>10.4              </td><td>19.600000000000001</td></tr>\n",
       "\t<tr><th scope=row>10</th><td>9.9 </td><td>19.100000000000001</td><td>10.6              </td><td>18.899999999999999</td></tr>\n",
       "\t<tr><th scope=row>11</th><td>12.6</td><td>19.899999999999999</td><td>9.4               </td><td>17.899999999999999</td></tr>\n",
       "\t<tr><th scope=row>12</th><td>12  </td><td>20.100000000000001</td><td>10.6              </td><td>19                </td></tr>\n",
       "\t<tr><th scope=row>13</th><td>12.7</td><td>20.8              </td><td>11.4              </td><td>17.399999999999999</td></tr>\n",
       "\t<tr><th scope=row>14</th><td>12.4</td><td>21.6              </td><td>11.2              </td><td>18.7              </td></tr>\n",
       "\t<tr><th scope=row>15</th><td>10.9</td><td>19.2              </td><td>11.2              </td><td>18.399999999999999</td></tr>\n",
       "\t<tr><th scope=row>16</th><td>12.3</td><td>21.4              </td><td>8.9               </td><td>18                </td></tr>\n",
       "\t<tr><th scope=row>17</th><td>11.4</td><td>19.7              </td><td>11.6              </td><td>18.7              </td></tr>\n",
       "\t<tr><th scope=row>18</th><td>10.5</td><td>19.8              </td><td>10.7              </td><td>13.7              </td></tr>\n",
       "\t<tr><th scope=row>19</th><td>12.3</td><td>19.899999999999999</td><td>10.4              </td><td>18.5              </td></tr>\n",
       "\t<tr><th scope=row>20</th><td>11.6</td><td>20.5              </td><td>9.6999999999999993</td><td>19                </td></tr>\n",
       "\t<tr><th scope=row>21</th><td>NA  </td><td>NA                </td><td>10.5              </td><td>18.899999999999999</td></tr>\n",
       "</tbody>\n",
       "</table>\n"
      ],
      "text/latex": [
       "A data.frame: 18 × 4\n",
       "\\begin{tabular}{r|llll}\n",
       "  & X3 & X4 & X7 & X8\\\\\n",
       "  & <chr> & <chr> & <chr> & <chr>\\\\\n",
       "\\hline\n",
       "\t4 & 11.8 & 18.2               & 10                 & 18.7              \\\\\n",
       "\t5 & 12.6 & 19.5               & 11.9               & 18.3              \\\\\n",
       "\t6 & 13.1 & 20.5               & 10.9               & 18.3              \\\\\n",
       "\t7 & 12.5 & 19.100000000000001 & 11.9               & 17.3              \\\\\n",
       "\t8 & 12.5 & 18.600000000000001 & 9.5                & 18.8              \\\\\n",
       "\t9 & 11.5 & 19.600000000000001 & 10.4               & 19.600000000000001\\\\\n",
       "\t10 & 9.9  & 19.100000000000001 & 10.6               & 18.899999999999999\\\\\n",
       "\t11 & 12.6 & 19.899999999999999 & 9.4                & 17.899999999999999\\\\\n",
       "\t12 & 12   & 20.100000000000001 & 10.6               & 19                \\\\\n",
       "\t13 & 12.7 & 20.8               & 11.4               & 17.399999999999999\\\\\n",
       "\t14 & 12.4 & 21.6               & 11.2               & 18.7              \\\\\n",
       "\t15 & 10.9 & 19.2               & 11.2               & 18.399999999999999\\\\\n",
       "\t16 & 12.3 & 21.4               & 8.9                & 18                \\\\\n",
       "\t17 & 11.4 & 19.7               & 11.6               & 18.7              \\\\\n",
       "\t18 & 10.5 & 19.8               & 10.7               & 13.7              \\\\\n",
       "\t19 & 12.3 & 19.899999999999999 & 10.4               & 18.5              \\\\\n",
       "\t20 & 11.6 & 20.5               & 9.6999999999999993 & 19                \\\\\n",
       "\t21 & NA   & NA                 & 10.5               & 18.899999999999999\\\\\n",
       "\\end{tabular}\n"
      ],
      "text/markdown": [
       "\n",
       "A data.frame: 18 × 4\n",
       "\n",
       "| <!--/--> | X3 &lt;chr&gt; | X4 &lt;chr&gt; | X7 &lt;chr&gt; | X8 &lt;chr&gt; |\n",
       "|---|---|---|---|---|\n",
       "| 4 | 11.8 | 18.2               | 10                 | 18.7               |\n",
       "| 5 | 12.6 | 19.5               | 11.9               | 18.3               |\n",
       "| 6 | 13.1 | 20.5               | 10.9               | 18.3               |\n",
       "| 7 | 12.5 | 19.100000000000001 | 11.9               | 17.3               |\n",
       "| 8 | 12.5 | 18.600000000000001 | 9.5                | 18.8               |\n",
       "| 9 | 11.5 | 19.600000000000001 | 10.4               | 19.600000000000001 |\n",
       "| 10 | 9.9  | 19.100000000000001 | 10.6               | 18.899999999999999 |\n",
       "| 11 | 12.6 | 19.899999999999999 | 9.4                | 17.899999999999999 |\n",
       "| 12 | 12   | 20.100000000000001 | 10.6               | 19                 |\n",
       "| 13 | 12.7 | 20.8               | 11.4               | 17.399999999999999 |\n",
       "| 14 | 12.4 | 21.6               | 11.2               | 18.7               |\n",
       "| 15 | 10.9 | 19.2               | 11.2               | 18.399999999999999 |\n",
       "| 16 | 12.3 | 21.4               | 8.9                | 18                 |\n",
       "| 17 | 11.4 | 19.7               | 11.6               | 18.7               |\n",
       "| 18 | 10.5 | 19.8               | 10.7               | 13.7               |\n",
       "| 19 | 12.3 | 19.899999999999999 | 10.4               | 18.5               |\n",
       "| 20 | 11.6 | 20.5               | 9.6999999999999993 | 19                 |\n",
       "| 21 | NA   | NA                 | 10.5               | 18.899999999999999 |\n",
       "\n"
      ],
      "text/plain": [
       "   X3   X4                 X7                 X8                \n",
       "4  11.8 18.2               10                 18.7              \n",
       "5  12.6 19.5               11.9               18.3              \n",
       "6  13.1 20.5               10.9               18.3              \n",
       "7  12.5 19.100000000000001 11.9               17.3              \n",
       "8  12.5 18.600000000000001 9.5                18.8              \n",
       "9  11.5 19.600000000000001 10.4               19.600000000000001\n",
       "10 9.9  19.100000000000001 10.6               18.899999999999999\n",
       "11 12.6 19.899999999999999 9.4                17.899999999999999\n",
       "12 12   20.100000000000001 10.6               19                \n",
       "13 12.7 20.8               11.4               17.399999999999999\n",
       "14 12.4 21.6               11.2               18.7              \n",
       "15 10.9 19.2               11.2               18.399999999999999\n",
       "16 12.3 21.4               8.9                18                \n",
       "17 11.4 19.7               11.6               18.7              \n",
       "18 10.5 19.8               10.7               13.7              \n",
       "19 12.3 19.899999999999999 10.4               18.5              \n",
       "20 11.6 20.5               9.6999999999999993 19                \n",
       "21 NA   NA                 10.5               18.899999999999999"
      ]
     },
     "metadata": {},
     "output_type": "display_data"
    }
   ],
   "source": [
    "data <- rawData[(4:21),c(3:4,7:8)]\n",
    "data"
   ]
  },
  {
   "cell_type": "code",
   "execution_count": null,
   "id": "ce1e443e",
   "metadata": {},
   "outputs": [],
   "source": []
  }
 ],
 "metadata": {
  "kernelspec": {
   "display_name": "R",
   "language": "R",
   "name": "ir"
  },
  "language_info": {
   "codemirror_mode": "r",
   "file_extension": ".r",
   "mimetype": "text/x-r-source",
   "name": "R",
   "pygments_lexer": "r",
   "version": "4.0.5"
  },
  "toc": {
   "base_numbering": 1,
   "nav_menu": {},
   "number_sections": true,
   "sideBar": true,
   "skip_h1_title": false,
   "title_cell": "Table of Contents",
   "title_sidebar": "Contents",
   "toc_cell": false,
   "toc_position": {},
   "toc_section_display": true,
   "toc_window_display": false
  }
 },
 "nbformat": 4,
 "nbformat_minor": 5
}
