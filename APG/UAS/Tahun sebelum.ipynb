{
 "cells": [
  {
   "cell_type": "markdown",
   "id": "f83dafb8",
   "metadata": {
    "ExecuteTime": {
     "end_time": "2022-06-18T14:06:11.811280Z",
     "start_time": "2022-06-18T14:06:02.421Z"
    }
   },
   "source": [
    "install.packages(\"lifecycle\")"
   ]
  },
  {
   "cell_type": "code",
   "execution_count": 16,
   "id": "fa997334",
   "metadata": {
    "ExecuteTime": {
     "end_time": "2022-06-18T14:21:08.671240Z",
     "start_time": "2022-06-18T14:21:08.645Z"
    },
    "scrolled": true
   },
   "outputs": [],
   "source": [
    "library(\"factoextra\")\n",
    "library(\"dplyr\")\n",
    "library(\"ggplot2\")\n",
    "library(readxl)\n",
    "library(MASS)"
   ]
  },
  {
   "cell_type": "markdown",
   "id": "f2c33652",
   "metadata": {},
   "source": [
    "# 2018/2019"
   ]
  },
  {
   "cell_type": "markdown",
   "id": "2cbdf188",
   "metadata": {},
   "source": [
    "## 1"
   ]
  },
  {
   "cell_type": "code",
   "execution_count": 4,
   "id": "debe1d7d",
   "metadata": {
    "ExecuteTime": {
     "end_time": "2022-06-18T14:06:31.011132Z",
     "start_time": "2022-06-18T14:06:30.979Z"
    }
   },
   "outputs": [],
   "source": [
    "x1 <- c(1,0.88,0.96,0.94,0.9,0.9)\n",
    "x2 <- c(0.88,1,0.9,0.91,0.94,0.95)\n",
    "x3 <- c(0.96,0.9,1,0.96,0.93,0.92)\n",
    "x4 <- c(0.94,0.92,0.96,1,0.93,0.94)\n",
    "x5 <- c(0.9,0.94,0.93,0.93,1,0.95)\n",
    "x6 <- c(0.9,0.95,0.92,0.94,0.95,1)\n",
    "\n",
    "R <- data.frame(cbind(x1,x2,x3,x4,x5,x6))"
   ]
  },
  {
   "cell_type": "code",
   "execution_count": 5,
   "id": "36ddf56c",
   "metadata": {
    "ExecuteTime": {
     "end_time": "2022-06-18T14:06:31.976511Z",
     "start_time": "2022-06-18T14:06:31.947Z"
    }
   },
   "outputs": [
    {
     "data": {
      "text/html": [
       "<table class=\"dataframe\">\n",
       "<caption>A data.frame: 6 × 6</caption>\n",
       "<thead>\n",
       "\t<tr><th scope=col>x1</th><th scope=col>x2</th><th scope=col>x3</th><th scope=col>x4</th><th scope=col>x5</th><th scope=col>x6</th></tr>\n",
       "\t<tr><th scope=col>&lt;dbl&gt;</th><th scope=col>&lt;dbl&gt;</th><th scope=col>&lt;dbl&gt;</th><th scope=col>&lt;dbl&gt;</th><th scope=col>&lt;dbl&gt;</th><th scope=col>&lt;dbl&gt;</th></tr>\n",
       "</thead>\n",
       "<tbody>\n",
       "\t<tr><td>1.00</td><td>0.88</td><td>0.96</td><td>0.94</td><td>0.90</td><td>0.90</td></tr>\n",
       "\t<tr><td>0.88</td><td>1.00</td><td>0.90</td><td>0.92</td><td>0.94</td><td>0.95</td></tr>\n",
       "\t<tr><td>0.96</td><td>0.90</td><td>1.00</td><td>0.96</td><td>0.93</td><td>0.92</td></tr>\n",
       "\t<tr><td>0.94</td><td>0.91</td><td>0.96</td><td>1.00</td><td>0.93</td><td>0.94</td></tr>\n",
       "\t<tr><td>0.90</td><td>0.94</td><td>0.93</td><td>0.93</td><td>1.00</td><td>0.95</td></tr>\n",
       "\t<tr><td>0.90</td><td>0.95</td><td>0.92</td><td>0.94</td><td>0.95</td><td>1.00</td></tr>\n",
       "</tbody>\n",
       "</table>\n"
      ],
      "text/latex": [
       "A data.frame: 6 × 6\n",
       "\\begin{tabular}{llllll}\n",
       " x1 & x2 & x3 & x4 & x5 & x6\\\\\n",
       " <dbl> & <dbl> & <dbl> & <dbl> & <dbl> & <dbl>\\\\\n",
       "\\hline\n",
       "\t 1.00 & 0.88 & 0.96 & 0.94 & 0.90 & 0.90\\\\\n",
       "\t 0.88 & 1.00 & 0.90 & 0.92 & 0.94 & 0.95\\\\\n",
       "\t 0.96 & 0.90 & 1.00 & 0.96 & 0.93 & 0.92\\\\\n",
       "\t 0.94 & 0.91 & 0.96 & 1.00 & 0.93 & 0.94\\\\\n",
       "\t 0.90 & 0.94 & 0.93 & 0.93 & 1.00 & 0.95\\\\\n",
       "\t 0.90 & 0.95 & 0.92 & 0.94 & 0.95 & 1.00\\\\\n",
       "\\end{tabular}\n"
      ],
      "text/markdown": [
       "\n",
       "A data.frame: 6 × 6\n",
       "\n",
       "| x1 &lt;dbl&gt; | x2 &lt;dbl&gt; | x3 &lt;dbl&gt; | x4 &lt;dbl&gt; | x5 &lt;dbl&gt; | x6 &lt;dbl&gt; |\n",
       "|---|---|---|---|---|---|\n",
       "| 1.00 | 0.88 | 0.96 | 0.94 | 0.90 | 0.90 |\n",
       "| 0.88 | 1.00 | 0.90 | 0.92 | 0.94 | 0.95 |\n",
       "| 0.96 | 0.90 | 1.00 | 0.96 | 0.93 | 0.92 |\n",
       "| 0.94 | 0.91 | 0.96 | 1.00 | 0.93 | 0.94 |\n",
       "| 0.90 | 0.94 | 0.93 | 0.93 | 1.00 | 0.95 |\n",
       "| 0.90 | 0.95 | 0.92 | 0.94 | 0.95 | 1.00 |\n",
       "\n"
      ],
      "text/plain": [
       "  x1   x2   x3   x4   x5   x6  \n",
       "1 1.00 0.88 0.96 0.94 0.90 0.90\n",
       "2 0.88 1.00 0.90 0.92 0.94 0.95\n",
       "3 0.96 0.90 1.00 0.96 0.93 0.92\n",
       "4 0.94 0.91 0.96 1.00 0.93 0.94\n",
       "5 0.90 0.94 0.93 0.93 1.00 0.95\n",
       "6 0.90 0.95 0.92 0.94 0.95 1.00"
      ]
     },
     "metadata": {},
     "output_type": "display_data"
    }
   ],
   "source": [
    "R"
   ]
  },
  {
   "cell_type": "code",
   "execution_count": 6,
   "id": "5c264711",
   "metadata": {
    "ExecuteTime": {
     "end_time": "2022-06-18T14:06:44.439656Z",
     "start_time": "2022-06-18T14:06:44.401Z"
    }
   },
   "outputs": [
    {
     "data": {
      "text/plain": [
       "eigen() decomposition\n",
       "$values\n",
       "[1] 5.63863139+0.00000000i 0.17338981+0.00000000i 0.05753825+0.00058623i\n",
       "[4] 0.05753825-0.00058623i 0.04330677+0.00000000i 0.02959553+0.00000000i\n",
       "\n",
       "$vectors\n",
       "              [,1]          [,2]                  [,3]                  [,4]\n",
       "[1,] -0.4039766+0i  0.5592013+0i  0.5271592-0.0446401i  0.5271592+0.0446401i\n",
       "[2,] -0.4047007+0i -0.5200330+0i  0.5471464+0.0000000i  0.5471464+0.0000000i\n",
       "[3,] -0.4105477+0i  0.3937014+0i -0.1029311-0.0142836i -0.1029311+0.0142836i\n",
       "[4,] -0.4112915+0i  0.2177269+0i -0.5326389+0.1071432i -0.5326389-0.1071432i\n",
       "[5,] -0.4090941+0i -0.2980348+0i -0.2940946-0.0988248i -0.2940946+0.0988248i\n",
       "[6,] -0.4098196+0i -0.3544420+0i -0.1267893+0.0492452i -0.1267893-0.0492452i\n",
       "                 [,5]           [,6]\n",
       "[1,]  0.4772015788+0i -0.33942034+0i\n",
       "[2,] -0.2997351740+0i  0.07610479+0i\n",
       "[3,] -0.3369026823+0i  0.75040844+0i\n",
       "[4,] -0.4446927491+0i -0.41333501+0i\n",
       "[5,]  0.0003851385+0i -0.30510549+0i\n",
       "[6,]  0.6092472995+0i  0.22793393+0i\n"
      ]
     },
     "metadata": {},
     "output_type": "display_data"
    }
   ],
   "source": [
    "eigen(R)"
   ]
  },
  {
   "cell_type": "code",
   "execution_count": 7,
   "id": "f561af82",
   "metadata": {
    "ExecuteTime": {
     "end_time": "2022-06-18T14:07:12.441431Z",
     "start_time": "2022-06-18T14:07:12.310Z"
    }
   },
   "outputs": [
    {
     "data": {
      "text/html": [
       "<dl>\n",
       "\t<dt>$`Importance of components :`</dt>\n",
       "\t\t<dd><table class=\"dataframe\">\n",
       "<caption>A data.frame: 3 × 6</caption>\n",
       "<thead>\n",
       "\t<tr><th></th><th scope=col>comp.1</th><th scope=col>comp.2</th><th scope=col>comp.3</th><th scope=col>comp.4</th><th scope=col>comp.5</th><th scope=col>comp.6</th></tr>\n",
       "\t<tr><th></th><th scope=col>&lt;cpl&gt;</th><th scope=col>&lt;cpl&gt;</th><th scope=col>&lt;cpl&gt;</th><th scope=col>&lt;cpl&gt;</th><th scope=col>&lt;cpl&gt;</th><th scope=col>&lt;cpl&gt;</th></tr>\n",
       "</thead>\n",
       "<tbody>\n",
       "\t<tr><th scope=row>Variance</th><td>5.6386314+0i</td><td>0.1733898+0i</td><td>5.753825e-02+5.8623e-04i</td><td>5.753825e-02-5.8623e-04i</td><td>0.043306773+0i</td><td>0.029595530+0i</td></tr>\n",
       "\t<tr><th scope=row>Proportion of Variance</th><td>0.9397719+0i</td><td>0.0288983+0i</td><td>9.589708e-03+9.7705e-05i</td><td>9.589708e-03-9.7705e-05i</td><td>0.007217796+0i</td><td>0.004932588+0i</td></tr>\n",
       "\t<tr><th scope=row>Cumulative Proportion</th><td>0.9397719+0i</td><td>0.9686702+0i</td><td>9.782599e-01+9.7705e-05i</td><td>9.878496e-01+0.0000e+00i</td><td>0.995067412+0i</td><td>1.000000000+0i</td></tr>\n",
       "</tbody>\n",
       "</table>\n",
       "</dd>\n",
       "\t<dt>$`Loadings (Coefficient): `</dt>\n",
       "\t\t<dd><table class=\"dataframe\">\n",
       "<caption>A data.frame: 6 × 7</caption>\n",
       "<thead>\n",
       "\t<tr><th scope=col>variabel</th><th scope=col>comp.1</th><th scope=col>comp.2</th><th scope=col>comp.3</th><th scope=col>comp.4</th><th scope=col>comp.5</th><th scope=col>comp.6</th></tr>\n",
       "\t<tr><th scope=col>&lt;chr&gt;</th><th scope=col>&lt;cpl&gt;</th><th scope=col>&lt;cpl&gt;</th><th scope=col>&lt;cpl&gt;</th><th scope=col>&lt;cpl&gt;</th><th scope=col>&lt;cpl&gt;</th><th scope=col>&lt;cpl&gt;</th></tr>\n",
       "</thead>\n",
       "<tbody>\n",
       "\t<tr><td>x1</td><td>-0.40398+0i</td><td> 0.55920+0i</td><td> 0.52716-0.04464i</td><td> 0.52716+0.04464i</td><td> 0.47720+0i</td><td>-0.33942+0i</td></tr>\n",
       "\t<tr><td>x2</td><td>-0.40470+0i</td><td>-0.52003+0i</td><td> 0.54715+0.00000i</td><td> 0.54715+0.00000i</td><td>-0.29974+0i</td><td> 0.07610+0i</td></tr>\n",
       "\t<tr><td>x3</td><td>-0.41055+0i</td><td> 0.39370+0i</td><td>-0.10293-0.01428i</td><td>-0.10293+0.01428i</td><td>-0.33690+0i</td><td> 0.75041+0i</td></tr>\n",
       "\t<tr><td>x4</td><td>-0.41129+0i</td><td> 0.21773+0i</td><td>-0.53264+0.10714i</td><td>-0.53264-0.10714i</td><td>-0.44469+0i</td><td>-0.41334+0i</td></tr>\n",
       "\t<tr><td>x5</td><td>-0.40909+0i</td><td>-0.29803+0i</td><td>-0.29409-0.09882i</td><td>-0.29409+0.09882i</td><td> 0.00039+0i</td><td>-0.30511+0i</td></tr>\n",
       "\t<tr><td>x6</td><td>-0.40982+0i</td><td>-0.35444+0i</td><td>-0.12679+0.04925i</td><td>-0.12679-0.04925i</td><td> 0.60925+0i</td><td> 0.22793+0i</td></tr>\n",
       "</tbody>\n",
       "</table>\n",
       "</dd>\n",
       "\t<dt>$`Scree plot`</dt>\n",
       "\t\t<dd>NULL</dd>\n",
       "</dl>\n"
      ],
      "text/latex": [
       "\\begin{description}\n",
       "\\item[\\$`Importance of components :`] A data.frame: 3 × 6\n",
       "\\begin{tabular}{r|llllll}\n",
       "  & comp.1 & comp.2 & comp.3 & comp.4 & comp.5 & comp.6\\\\\n",
       "  & <cpl> & <cpl> & <cpl> & <cpl> & <cpl> & <cpl>\\\\\n",
       "\\hline\n",
       "\tVariance & 5.6386314+0i & 0.1733898+0i & 5.753825e-02+5.8623e-04i & 5.753825e-02-5.8623e-04i & 0.043306773+0i & 0.029595530+0i\\\\\n",
       "\tProportion of Variance & 0.9397719+0i & 0.0288983+0i & 9.589708e-03+9.7705e-05i & 9.589708e-03-9.7705e-05i & 0.007217796+0i & 0.004932588+0i\\\\\n",
       "\tCumulative Proportion & 0.9397719+0i & 0.9686702+0i & 9.782599e-01+9.7705e-05i & 9.878496e-01+0.0000e+00i & 0.995067412+0i & 1.000000000+0i\\\\\n",
       "\\end{tabular}\n",
       "\n",
       "\\item[\\$`Loadings (Coefficient): `] A data.frame: 6 × 7\n",
       "\\begin{tabular}{lllllll}\n",
       " variabel & comp.1 & comp.2 & comp.3 & comp.4 & comp.5 & comp.6\\\\\n",
       " <chr> & <cpl> & <cpl> & <cpl> & <cpl> & <cpl> & <cpl>\\\\\n",
       "\\hline\n",
       "\t x1 & -0.40398+0i &  0.55920+0i &  0.52716-0.04464i &  0.52716+0.04464i &  0.47720+0i & -0.33942+0i\\\\\n",
       "\t x2 & -0.40470+0i & -0.52003+0i &  0.54715+0.00000i &  0.54715+0.00000i & -0.29974+0i &  0.07610+0i\\\\\n",
       "\t x3 & -0.41055+0i &  0.39370+0i & -0.10293-0.01428i & -0.10293+0.01428i & -0.33690+0i &  0.75041+0i\\\\\n",
       "\t x4 & -0.41129+0i &  0.21773+0i & -0.53264+0.10714i & -0.53264-0.10714i & -0.44469+0i & -0.41334+0i\\\\\n",
       "\t x5 & -0.40909+0i & -0.29803+0i & -0.29409-0.09882i & -0.29409+0.09882i &  0.00039+0i & -0.30511+0i\\\\\n",
       "\t x6 & -0.40982+0i & -0.35444+0i & -0.12679+0.04925i & -0.12679-0.04925i &  0.60925+0i &  0.22793+0i\\\\\n",
       "\\end{tabular}\n",
       "\n",
       "\\item[\\$`Scree plot`] NULL\n",
       "\\end{description}\n"
      ],
      "text/markdown": [
       "$`Importance of components :`\n",
       ":   \n",
       "A data.frame: 3 × 6\n",
       "\n",
       "| <!--/--> | comp.1 &lt;cpl&gt; | comp.2 &lt;cpl&gt; | comp.3 &lt;cpl&gt; | comp.4 &lt;cpl&gt; | comp.5 &lt;cpl&gt; | comp.6 &lt;cpl&gt; |\n",
       "|---|---|---|---|---|---|---|\n",
       "| Variance | 5.6386314+0i | 0.1733898+0i | 5.753825e-02+5.8623e-04i | 5.753825e-02-5.8623e-04i | 0.043306773+0i | 0.029595530+0i |\n",
       "| Proportion of Variance | 0.9397719+0i | 0.0288983+0i | 9.589708e-03+9.7705e-05i | 9.589708e-03-9.7705e-05i | 0.007217796+0i | 0.004932588+0i |\n",
       "| Cumulative Proportion | 0.9397719+0i | 0.9686702+0i | 9.782599e-01+9.7705e-05i | 9.878496e-01+0.0000e+00i | 0.995067412+0i | 1.000000000+0i |\n",
       "\n",
       "\n",
       "$`Loadings (Coefficient): `\n",
       ":   \n",
       "A data.frame: 6 × 7\n",
       "\n",
       "| variabel &lt;chr&gt; | comp.1 &lt;cpl&gt; | comp.2 &lt;cpl&gt; | comp.3 &lt;cpl&gt; | comp.4 &lt;cpl&gt; | comp.5 &lt;cpl&gt; | comp.6 &lt;cpl&gt; |\n",
       "|---|---|---|---|---|---|---|\n",
       "| x1 | -0.40398+0i |  0.55920+0i |  0.52716-0.04464i |  0.52716+0.04464i |  0.47720+0i | -0.33942+0i |\n",
       "| x2 | -0.40470+0i | -0.52003+0i |  0.54715+0.00000i |  0.54715+0.00000i | -0.29974+0i |  0.07610+0i |\n",
       "| x3 | -0.41055+0i |  0.39370+0i | -0.10293-0.01428i | -0.10293+0.01428i | -0.33690+0i |  0.75041+0i |\n",
       "| x4 | -0.41129+0i |  0.21773+0i | -0.53264+0.10714i | -0.53264-0.10714i | -0.44469+0i | -0.41334+0i |\n",
       "| x5 | -0.40909+0i | -0.29803+0i | -0.29409-0.09882i | -0.29409+0.09882i |  0.00039+0i | -0.30511+0i |\n",
       "| x6 | -0.40982+0i | -0.35444+0i | -0.12679+0.04925i | -0.12679-0.04925i |  0.60925+0i |  0.22793+0i |\n",
       "\n",
       "\n",
       "$`Scree plot`\n",
       ":   NULL\n",
       "\n",
       "\n"
      ],
      "text/plain": [
       "$`Importance of components :`\n",
       "                             comp.1       comp.2                   comp.3\n",
       "Variance               5.6386314+0i 0.1733898+0i 5.753825e-02+5.8623e-04i\n",
       "Proportion of Variance 0.9397719+0i 0.0288983+0i 9.589708e-03+9.7705e-05i\n",
       "Cumulative Proportion  0.9397719+0i 0.9686702+0i 9.782599e-01+9.7705e-05i\n",
       "                                         comp.4         comp.5         comp.6\n",
       "Variance               5.753825e-02-5.8623e-04i 0.043306773+0i 0.029595530+0i\n",
       "Proportion of Variance 9.589708e-03-9.7705e-05i 0.007217796+0i 0.004932588+0i\n",
       "Cumulative Proportion  9.878496e-01+0.0000e+00i 0.995067412+0i 1.000000000+0i\n",
       "\n",
       "$`Loadings (Coefficient): `\n",
       "  variabel      comp.1      comp.2            comp.3            comp.4\n",
       "1       x1 -0.40398+0i  0.55920+0i  0.52716-0.04464i  0.52716+0.04464i\n",
       "2       x2 -0.40470+0i -0.52003+0i  0.54715+0.00000i  0.54715+0.00000i\n",
       "3       x3 -0.41055+0i  0.39370+0i -0.10293-0.01428i -0.10293+0.01428i\n",
       "4       x4 -0.41129+0i  0.21773+0i -0.53264+0.10714i -0.53264-0.10714i\n",
       "5       x5 -0.40909+0i -0.29803+0i -0.29409-0.09882i -0.29409+0.09882i\n",
       "6       x6 -0.40982+0i -0.35444+0i -0.12679+0.04925i -0.12679-0.04925i\n",
       "       comp.5      comp.6\n",
       "1  0.47720+0i -0.33942+0i\n",
       "2 -0.29974+0i  0.07610+0i\n",
       "3 -0.33690+0i  0.75041+0i\n",
       "4 -0.44469+0i -0.41334+0i\n",
       "5  0.00039+0i -0.30511+0i\n",
       "6  0.60925+0i  0.22793+0i\n",
       "\n",
       "$`Scree plot`\n",
       "NULL\n"
      ]
     },
     "metadata": {},
     "output_type": "display_data"
    },
    {
     "data": {
      "image/png": "[encoded data removed]",
      "text/plain": [
       "Plot with title \"Scree Plot No 1\""
      ]
     },
     "metadata": {
      "image/png": {
       "height": 420,
       "width": 420
      }
     },
     "output_type": "display_data"
    }
   ],
   "source": [
    "prcompcor<-function(cor){\n",
    "  cor<-cor\n",
    "  p<-ncol(cor)\n",
    "  eig<-eigen(cor)$values\n",
    "  eigvec<-eigen(cor)$vectors\n",
    "  std<-sqrt(eig)\n",
    "  #meanvec<-colMeans(data)\n",
    "  vartot<-p\n",
    "  prop_var<-eig/vartot\n",
    "  cum_prob<-cumsum(prop_var)\n",
    "  \n",
    "  prcomp_name<-rep(0,ncol(cor))\n",
    "    for ( i in 1:ncol(cor)){\n",
    "       prcomp_name[i]<-paste(\"comp\",i,sep=\".\")\n",
    "  }\n",
    "  loadings<-data.frame(colnames(cor),round(eigvec,5))\n",
    "  colnames(loadings)<-c(\"variabel\",prcomp_name)\n",
    "  importancevar<-data.frame(rbind(eig,prop_var,cum_prob))\n",
    "  rownames(importancevar)<-c(\"Variance\",\"Proportion of Variance\",\"Cumulative Proportion\")\n",
    "  colnames(importancevar)<-prcomp_name\n",
    "  scree<-plot(prop_var,type=\"o\",ylab=\"Proporsi Varians yang dapat dijelaskan\",main=\"Scree Plot No 1\")\n",
    "  result<-list(importancevar,loadings,scree)\n",
    "  names(result)<-c(\"Importance of components :\",\"Loadings (Coefficient): \",\"Scree plot\")\n",
    "  return(result)\n",
    "}\n",
    "result <- prcompcor(R)\n",
    "result"
   ]
  },
  {
   "cell_type": "markdown",
   "id": "fea1ef3f",
   "metadata": {},
   "source": [
    "scree plotnya yaallah :') <br>\n",
    "Proporsi varians komponen utama pertama adalah 0.94. Hal ini berarti 94% varians data dapat dijelaskan olek komponen utama pertama."
   ]
  },
  {
   "cell_type": "markdown",
   "id": "088814e6",
   "metadata": {
    "ExecuteTime": {
     "end_time": "2022-06-18T14:10:26.703284Z",
     "start_time": "2022-06-18T14:10:26.684Z"
    }
   },
   "source": [
    "## 2"
   ]
  },
  {
   "cell_type": "code",
   "execution_count": null,
   "id": "e9411450",
   "metadata": {},
   "outputs": [],
   "source": []
  },
  {
   "cell_type": "markdown",
   "id": "fe1a30a9",
   "metadata": {},
   "source": [
    "## 3"
   ]
  },
  {
   "cell_type": "code",
   "execution_count": 10,
   "id": "d6cfe431",
   "metadata": {
    "ExecuteTime": {
     "end_time": "2022-06-18T14:19:49.285243Z",
     "start_time": "2022-06-18T14:19:49.188Z"
    },
    "scrolled": true
   },
   "outputs": [
    {
     "data": {
      "text/html": [
       "<table class=\"dataframe\">\n",
       "<caption>A tibble: 30 × 4</caption>\n",
       "<thead>\n",
       "\t<tr><th scope=col>Kalkulus II</th><th scope=col>Statmat I</th><th scope=col>Metstat I</th><th scope=col>Kelas</th></tr>\n",
       "\t<tr><th scope=col>&lt;dbl&gt;</th><th scope=col>&lt;dbl&gt;</th><th scope=col>&lt;dbl&gt;</th><th scope=col>&lt;chr&gt;</th></tr>\n",
       "</thead>\n",
       "<tbody>\n",
       "\t<tr><td>82</td><td>83</td><td>82</td><td>A</td></tr>\n",
       "\t<tr><td>80</td><td>79</td><td>79</td><td>A</td></tr>\n",
       "\t<tr><td>80</td><td>80</td><td>78</td><td>A</td></tr>\n",
       "\t<tr><td>81</td><td>82</td><td>83</td><td>A</td></tr>\n",
       "\t<tr><td>80</td><td>78</td><td>81</td><td>A</td></tr>\n",
       "\t<tr><td>80</td><td>82</td><td>79</td><td>A</td></tr>\n",
       "\t<tr><td>79</td><td>78</td><td>80</td><td>A</td></tr>\n",
       "\t<tr><td>82</td><td>82</td><td>82</td><td>A</td></tr>\n",
       "\t<tr><td>82</td><td>80</td><td>81</td><td>A</td></tr>\n",
       "\t<tr><td>79</td><td>80</td><td>78</td><td>A</td></tr>\n",
       "\t<tr><td>79</td><td>80</td><td>78</td><td>A</td></tr>\n",
       "\t<tr><td>82</td><td>82</td><td>82</td><td>A</td></tr>\n",
       "\t<tr><td>82</td><td>84</td><td>81</td><td>A</td></tr>\n",
       "\t<tr><td>80</td><td>81</td><td>82</td><td>A</td></tr>\n",
       "\t<tr><td>81</td><td>82</td><td>81</td><td>A</td></tr>\n",
       "\t<tr><td>76</td><td>78</td><td>76</td><td>B</td></tr>\n",
       "\t<tr><td>77</td><td>76</td><td>76</td><td>B</td></tr>\n",
       "\t<tr><td>80</td><td>81</td><td>79</td><td>B</td></tr>\n",
       "\t<tr><td>74</td><td>73</td><td>76</td><td>B</td></tr>\n",
       "\t<tr><td>73</td><td>72</td><td>73</td><td>B</td></tr>\n",
       "\t<tr><td>78</td><td>78</td><td>76</td><td>B</td></tr>\n",
       "\t<tr><td>81</td><td>82</td><td>82</td><td>B</td></tr>\n",
       "\t<tr><td>78</td><td>80</td><td>76</td><td>B</td></tr>\n",
       "\t<tr><td>77</td><td>76</td><td>75</td><td>B</td></tr>\n",
       "\t<tr><td>77</td><td>76</td><td>75</td><td>B</td></tr>\n",
       "\t<tr><td>77</td><td>77</td><td>77</td><td>B</td></tr>\n",
       "\t<tr><td>78</td><td>78</td><td>80</td><td>B</td></tr>\n",
       "\t<tr><td>76</td><td>75</td><td>74</td><td>B</td></tr>\n",
       "\t<tr><td>76</td><td>76</td><td>77</td><td>B</td></tr>\n",
       "\t<tr><td>76</td><td>75</td><td>75</td><td>B</td></tr>\n",
       "</tbody>\n",
       "</table>\n"
      ],
      "text/latex": [
       "A tibble: 30 × 4\n",
       "\\begin{tabular}{llll}\n",
       " Kalkulus II & Statmat I & Metstat I & Kelas\\\\\n",
       " <dbl> & <dbl> & <dbl> & <chr>\\\\\n",
       "\\hline\n",
       "\t 82 & 83 & 82 & A\\\\\n",
       "\t 80 & 79 & 79 & A\\\\\n",
       "\t 80 & 80 & 78 & A\\\\\n",
       "\t 81 & 82 & 83 & A\\\\\n",
       "\t 80 & 78 & 81 & A\\\\\n",
       "\t 80 & 82 & 79 & A\\\\\n",
       "\t 79 & 78 & 80 & A\\\\\n",
       "\t 82 & 82 & 82 & A\\\\\n",
       "\t 82 & 80 & 81 & A\\\\\n",
       "\t 79 & 80 & 78 & A\\\\\n",
       "\t 79 & 80 & 78 & A\\\\\n",
       "\t 82 & 82 & 82 & A\\\\\n",
       "\t 82 & 84 & 81 & A\\\\\n",
       "\t 80 & 81 & 82 & A\\\\\n",
       "\t 81 & 82 & 81 & A\\\\\n",
       "\t 76 & 78 & 76 & B\\\\\n",
       "\t 77 & 76 & 76 & B\\\\\n",
       "\t 80 & 81 & 79 & B\\\\\n",
       "\t 74 & 73 & 76 & B\\\\\n",
       "\t 73 & 72 & 73 & B\\\\\n",
       "\t 78 & 78 & 76 & B\\\\\n",
       "\t 81 & 82 & 82 & B\\\\\n",
       "\t 78 & 80 & 76 & B\\\\\n",
       "\t 77 & 76 & 75 & B\\\\\n",
       "\t 77 & 76 & 75 & B\\\\\n",
       "\t 77 & 77 & 77 & B\\\\\n",
       "\t 78 & 78 & 80 & B\\\\\n",
       "\t 76 & 75 & 74 & B\\\\\n",
       "\t 76 & 76 & 77 & B\\\\\n",
       "\t 76 & 75 & 75 & B\\\\\n",
       "\\end{tabular}\n"
      ],
      "text/markdown": [
       "\n",
       "A tibble: 30 × 4\n",
       "\n",
       "| Kalkulus II &lt;dbl&gt; | Statmat I &lt;dbl&gt; | Metstat I &lt;dbl&gt; | Kelas &lt;chr&gt; |\n",
       "|---|---|---|---|\n",
       "| 82 | 83 | 82 | A |\n",
       "| 80 | 79 | 79 | A |\n",
       "| 80 | 80 | 78 | A |\n",
       "| 81 | 82 | 83 | A |\n",
       "| 80 | 78 | 81 | A |\n",
       "| 80 | 82 | 79 | A |\n",
       "| 79 | 78 | 80 | A |\n",
       "| 82 | 82 | 82 | A |\n",
       "| 82 | 80 | 81 | A |\n",
       "| 79 | 80 | 78 | A |\n",
       "| 79 | 80 | 78 | A |\n",
       "| 82 | 82 | 82 | A |\n",
       "| 82 | 84 | 81 | A |\n",
       "| 80 | 81 | 82 | A |\n",
       "| 81 | 82 | 81 | A |\n",
       "| 76 | 78 | 76 | B |\n",
       "| 77 | 76 | 76 | B |\n",
       "| 80 | 81 | 79 | B |\n",
       "| 74 | 73 | 76 | B |\n",
       "| 73 | 72 | 73 | B |\n",
       "| 78 | 78 | 76 | B |\n",
       "| 81 | 82 | 82 | B |\n",
       "| 78 | 80 | 76 | B |\n",
       "| 77 | 76 | 75 | B |\n",
       "| 77 | 76 | 75 | B |\n",
       "| 77 | 77 | 77 | B |\n",
       "| 78 | 78 | 80 | B |\n",
       "| 76 | 75 | 74 | B |\n",
       "| 76 | 76 | 77 | B |\n",
       "| 76 | 75 | 75 | B |\n",
       "\n"
      ],
      "text/plain": [
       "   Kalkulus II Statmat I Metstat I Kelas\n",
       "1  82          83        82        A    \n",
       "2  80          79        79        A    \n",
       "3  80          80        78        A    \n",
       "4  81          82        83        A    \n",
       "5  80          78        81        A    \n",
       "6  80          82        79        A    \n",
       "7  79          78        80        A    \n",
       "8  82          82        82        A    \n",
       "9  82          80        81        A    \n",
       "10 79          80        78        A    \n",
       "11 79          80        78        A    \n",
       "12 82          82        82        A    \n",
       "13 82          84        81        A    \n",
       "14 80          81        82        A    \n",
       "15 81          82        81        A    \n",
       "16 76          78        76        B    \n",
       "17 77          76        76        B    \n",
       "18 80          81        79        B    \n",
       "19 74          73        76        B    \n",
       "20 73          72        73        B    \n",
       "21 78          78        76        B    \n",
       "22 81          82        82        B    \n",
       "23 78          80        76        B    \n",
       "24 77          76        75        B    \n",
       "25 77          76        75        B    \n",
       "26 77          77        77        B    \n",
       "27 78          78        80        B    \n",
       "28 76          75        74        B    \n",
       "29 76          76        77        B    \n",
       "30 76          75        75        B    "
      ]
     },
     "metadata": {},
     "output_type": "display_data"
    }
   ],
   "source": [
    "data <- read_excel(\"R_NOMOR2_UAS.xlsx\", \n",
    "    sheet = \"Sheet2\")\n",
    "data"
   ]
  },
  {
   "cell_type": "code",
   "execution_count": 11,
   "id": "75598418",
   "metadata": {
    "ExecuteTime": {
     "end_time": "2022-06-18T14:20:09.009562Z",
     "start_time": "2022-06-18T14:20:08.973Z"
    }
   },
   "outputs": [
    {
     "data": {
      "text/plain": [
       "  Kalkulus II      Statmat I       Metstat I     Kelas \n",
       " Min.   :73.00   Min.   :72.00   Min.   :73.00   A:15  \n",
       " 1st Qu.:77.00   1st Qu.:76.25   1st Qu.:76.00   B:15  \n",
       " Median :79.00   Median :79.50   Median :78.50         \n",
       " Mean   :78.77   Mean   :78.87   Mean   :78.47         \n",
       " 3rd Qu.:80.75   3rd Qu.:81.75   3rd Qu.:81.00         \n",
       " Max.   :82.00   Max.   :84.00   Max.   :83.00         "
      ]
     },
     "metadata": {},
     "output_type": "display_data"
    }
   ],
   "source": [
    "data$Kelas <- as.factor(data$Kelas)\n",
    "summary(data)"
   ]
  },
  {
   "cell_type": "code",
   "execution_count": 13,
   "id": "96b84c5c",
   "metadata": {
    "ExecuteTime": {
     "end_time": "2022-06-18T14:20:21.738225Z",
     "start_time": "2022-06-18T14:20:21.704Z"
    }
   },
   "outputs": [
    {
     "data": {
      "text/html": [
       "<table class=\"dataframe\">\n",
       "<caption>A matrix: 3 × 3 of type dbl</caption>\n",
       "<thead>\n",
       "\t<tr><th></th><th scope=col>Kalkulus II</th><th scope=col>Statmat I</th><th scope=col>Metstat I</th></tr>\n",
       "</thead>\n",
       "<tbody>\n",
       "\t<tr><th scope=row>Kalkulus II</th><td>6.116092</td><td>7.002299</td><td>6.250575</td></tr>\n",
       "\t<tr><th scope=row>Statmat I</th><td>7.002299</td><td>9.291954</td><td>7.167816</td></tr>\n",
       "\t<tr><th scope=row>Metstat I</th><td>6.250575</td><td>7.167816</td><td>8.119540</td></tr>\n",
       "</tbody>\n",
       "</table>\n"
      ],
      "text/latex": [
       "A matrix: 3 × 3 of type dbl\n",
       "\\begin{tabular}{r|lll}\n",
       "  & Kalkulus II & Statmat I & Metstat I\\\\\n",
       "\\hline\n",
       "\tKalkulus II & 6.116092 & 7.002299 & 6.250575\\\\\n",
       "\tStatmat I & 7.002299 & 9.291954 & 7.167816\\\\\n",
       "\tMetstat I & 6.250575 & 7.167816 & 8.119540\\\\\n",
       "\\end{tabular}\n"
      ],
      "text/markdown": [
       "\n",
       "A matrix: 3 × 3 of type dbl\n",
       "\n",
       "| <!--/--> | Kalkulus II | Statmat I | Metstat I |\n",
       "|---|---|---|---|\n",
       "| Kalkulus II | 6.116092 | 7.002299 | 6.250575 |\n",
       "| Statmat I | 7.002299 | 9.291954 | 7.167816 |\n",
       "| Metstat I | 6.250575 | 7.167816 | 8.119540 |\n",
       "\n"
      ],
      "text/plain": [
       "            Kalkulus II Statmat I Metstat I\n",
       "Kalkulus II 6.116092    7.002299  6.250575 \n",
       "Statmat I   7.002299    9.291954  7.167816 \n",
       "Metstat I   6.250575    7.167816  8.119540 "
      ]
     },
     "metadata": {},
     "output_type": "display_data"
    }
   ],
   "source": [
    "S <- cov(data[,1:3])\n",
    "S"
   ]
  },
  {
   "cell_type": "code",
   "execution_count": 18,
   "id": "f077c7e6",
   "metadata": {
    "ExecuteTime": {
     "end_time": "2022-06-18T14:21:17.760873Z",
     "start_time": "2022-06-18T14:21:17.721Z"
    }
   },
   "outputs": [
    {
     "data": {
      "text/plain": [
       "Call:\n",
       "lda(data.training$Kelas ~ ., data = data.training)\n",
       "\n",
       "Prior probabilities of groups:\n",
       "  A   B \n",
       "0.5 0.5 \n",
       "\n",
       "Group means:\n",
       "  `Kalkulus II` `Statmat I` `Metstat I`\n",
       "A      80.60000    80.86667    80.46667\n",
       "B      76.93333    76.86667    76.46667\n",
       "\n",
       "Coefficients of linear discriminants:\n",
       "                     LD1\n",
       "`Kalkulus II` -0.6377238\n",
       "`Statmat I`    0.1588690\n",
       "`Metstat I`   -0.1491321"
      ]
     },
     "metadata": {},
     "output_type": "display_data"
    }
   ],
   "source": [
    "# Persamaan Diskriminan\n",
    "set.seed(1234)\n",
    "\n",
    "k <- length(levels(data$Kelas))\n",
    "n <- nrow(data)\n",
    "\n",
    "idx <- sample(1:n, 30)\n",
    "data.training <- data[idx,]\n",
    "model <- lda(data.training$Kelas~., data = data.training)\n",
    "model"
   ]
  },
  {
   "cell_type": "markdown",
   "id": "cae4fddd",
   "metadata": {},
   "source": [
    "Persamaan diskriminan : y = -0.63x1 + 0.16x2 - 0.14x3"
   ]
  },
  {
   "cell_type": "code",
   "execution_count": 19,
   "id": "e714859b",
   "metadata": {
    "ExecuteTime": {
     "end_time": "2022-06-18T14:22:14.211909Z",
     "start_time": "2022-06-18T14:22:14.146Z"
    }
   },
   "outputs": [
    {
     "data": {
      "text/html": [
       "<dl>\n",
       "\t<dt>$class</dt>\n",
       "\t\t<dd><style>\n",
       ".list-inline {list-style: none; margin:0; padding: 0}\n",
       ".list-inline>li {display: inline-block}\n",
       ".list-inline>li:not(:last-child)::after {content: \"\\00b7\"; padding: 0 .5ex}\n",
       "</style>\n",
       "<ol class=list-inline><li>B</li><li>B</li><li>B</li><li>A</li><li>A</li><li>A</li><li>A</li><li>A</li><li>B</li><li>A</li><li>B</li><li>A</li><li>A</li><li>A</li><li>B</li><li>B</li><li>B</li><li>B</li><li>A</li><li>A</li><li>B</li><li>B</li><li>B</li><li>B</li><li>A</li><li>B</li><li>A</li><li>B</li><li>A</li><li>A</li></ol>\n",
       "\n",
       "<details>\n",
       "\t<summary style=display:list-item;cursor:pointer>\n",
       "\t\t<strong>Levels</strong>:\n",
       "\t</summary>\n",
       "\t<style>\n",
       "\t.list-inline {list-style: none; margin:0; padding: 0}\n",
       "\t.list-inline>li {display: inline-block}\n",
       "\t.list-inline>li:not(:last-child)::after {content: \"\\00b7\"; padding: 0 .5ex}\n",
       "\t</style>\n",
       "\t<ol class=list-inline><li>'A'</li><li>'B'</li></ol>\n",
       "</details></dd>\n",
       "\t<dt>$posterior</dt>\n",
       "\t\t<dd><table class=\"dataframe\">\n",
       "<caption>A matrix: 30 × 2 of type dbl</caption>\n",
       "<thead>\n",
       "\t<tr><th></th><th scope=col>A</th><th scope=col>B</th></tr>\n",
       "</thead>\n",
       "<tbody>\n",
       "\t<tr><th scope=row>1</th><td>0.0151257150</td><td>0.984874285</td></tr>\n",
       "\t<tr><th scope=row>2</th><td>0.0100887466</td><td>0.989911253</td></tr>\n",
       "\t<tr><th scope=row>3</th><td>0.0822908384</td><td>0.917709162</td></tr>\n",
       "\t<tr><th scope=row>4</th><td>0.9658383595</td><td>0.034161640</td></tr>\n",
       "\t<tr><th scope=row>5</th><td>0.9522939170</td><td>0.047706083</td></tr>\n",
       "\t<tr><th scope=row>6</th><td>0.9919040120</td><td>0.008095988</td></tr>\n",
       "\t<tr><th scope=row>7</th><td>0.9525281558</td><td>0.047471844</td></tr>\n",
       "\t<tr><th scope=row>8</th><td>0.9944915359</td><td>0.005508464</td></tr>\n",
       "\t<tr><th scope=row>9</th><td>0.0211817190</td><td>0.978818281</td></tr>\n",
       "\t<tr><th scope=row>10</th><td>0.6998949871</td><td>0.300105013</td></tr>\n",
       "\t<tr><th scope=row>11</th><td>0.0289534169</td><td>0.971046583</td></tr>\n",
       "\t<tr><th scope=row>12</th><td>0.9755125746</td><td>0.024487425</td></tr>\n",
       "\t<tr><th scope=row>13</th><td>0.8746479459</td><td>0.125352054</td></tr>\n",
       "\t<tr><th scope=row>14</th><td>0.7657631230</td><td>0.234236877</td></tr>\n",
       "\t<tr><th scope=row>15</th><td>0.1606411301</td><td>0.839358870</td></tr>\n",
       "\t<tr><th scope=row>16</th><td>0.4422886755</td><td>0.557711324</td></tr>\n",
       "\t<tr><th scope=row>17</th><td>0.0004005688</td><td>0.999599431</td></tr>\n",
       "\t<tr><th scope=row>18</th><td>0.0033600683</td><td>0.996639932</td></tr>\n",
       "\t<tr><th scope=row>19</th><td>0.9919040120</td><td>0.008095988</td></tr>\n",
       "\t<tr><th scope=row>20</th><td>0.9766777570</td><td>0.023322243</td></tr>\n",
       "\t<tr><th scope=row>21</th><td>0.4422886755</td><td>0.557711324</td></tr>\n",
       "\t<tr><th scope=row>22</th><td>0.4300065021</td><td>0.569993498</td></tr>\n",
       "\t<tr><th scope=row>23</th><td>0.0611031596</td><td>0.938896840</td></tr>\n",
       "\t<tr><th scope=row>24</th><td>0.0611031596</td><td>0.938896840</td></tr>\n",
       "\t<tr><th scope=row>25</th><td>0.7746027472</td><td>0.225397253</td></tr>\n",
       "\t<tr><th scope=row>26</th><td>0.0839975181</td><td>0.916002482</td></tr>\n",
       "\t<tr><th scope=row>27</th><td>0.9038564028</td><td>0.096143597</td></tr>\n",
       "\t<tr><th scope=row>28</th><td>0.0843960159</td><td>0.915603984</td></tr>\n",
       "\t<tr><th scope=row>29</th><td>0.9883756244</td><td>0.011624376</td></tr>\n",
       "\t<tr><th scope=row>30</th><td>0.7706697755</td><td>0.229330225</td></tr>\n",
       "</tbody>\n",
       "</table>\n",
       "</dd>\n",
       "\t<dt>$x</dt>\n",
       "\t\t<dd><table class=\"dataframe\">\n",
       "<caption>A matrix: 30 × 1 of type dbl</caption>\n",
       "<thead>\n",
       "\t<tr><th></th><th scope=col>LD1</th></tr>\n",
       "</thead>\n",
       "<tbody>\n",
       "\t<tr><th scope=row>1</th><td> 1.8161988</td></tr>\n",
       "\t<tr><th scope=row>2</th><td> 1.9945417</td></tr>\n",
       "\t<tr><th scope=row>3</th><td> 1.0488168</td></tr>\n",
       "\t<tr><th scope=row>4</th><td>-1.4533934</td></tr>\n",
       "\t<tr><th scope=row>5</th><td>-1.3020138</td></tr>\n",
       "\t<tr><th scope=row>6</th><td>-2.0911172</td></tr>\n",
       "\t<tr><th scope=row>7</th><td>-1.3042614</td></tr>\n",
       "\t<tr><th scope=row>8</th><td>-2.2597232</td></tr>\n",
       "\t<tr><th scope=row>9</th><td> 1.6670667</td></tr>\n",
       "\t<tr><th scope=row>10</th><td>-0.3682734</td></tr>\n",
       "\t<tr><th scope=row>11</th><td> 1.5276716</td></tr>\n",
       "\t<tr><th scope=row>12</th><td>-1.6025255</td></tr>\n",
       "\t<tr><th scope=row>13</th><td>-0.8448806</td></tr>\n",
       "\t<tr><th scope=row>14</th><td>-0.5151579</td></tr>\n",
       "\t<tr><th scope=row>15</th><td> 0.7190942</td></tr>\n",
       "\t<tr><th scope=row>16</th><td> 0.1008443</td></tr>\n",
       "\t<tr><th scope=row>17</th><td> 3.4018950</td></tr>\n",
       "\t<tr><th scope=row>18</th><td> 2.4756441</td></tr>\n",
       "\t<tr><th scope=row>19</th><td>-2.0911172</td></tr>\n",
       "\t<tr><th scope=row>20</th><td>-1.6242470</td></tr>\n",
       "\t<tr><th scope=row>21</th><td> 0.1008443</td></tr>\n",
       "\t<tr><th scope=row>22</th><td> 0.1225659</td></tr>\n",
       "\t<tr><th scope=row>23</th><td> 1.1882119</td></tr>\n",
       "\t<tr><th scope=row>24</th><td> 1.1882119</td></tr>\n",
       "\t<tr><th scope=row>25</th><td>-0.5368794</td></tr>\n",
       "\t<tr><th scope=row>26</th><td> 1.0390799</td></tr>\n",
       "\t<tr><th scope=row>27</th><td>-0.9745387</td></tr>\n",
       "\t<tr><th scope=row>28</th><td> 1.0368323</td></tr>\n",
       "\t<tr><th scope=row>29</th><td>-1.9322482</td></tr>\n",
       "\t<tr><th scope=row>30</th><td>-0.5271425</td></tr>\n",
       "</tbody>\n",
       "</table>\n",
       "</dd>\n",
       "</dl>\n"
      ],
      "text/latex": [
       "\\begin{description}\n",
       "\\item[\\$class] \\begin{enumerate*}\n",
       "\\item B\n",
       "\\item B\n",
       "\\item B\n",
       "\\item A\n",
       "\\item A\n",
       "\\item A\n",
       "\\item A\n",
       "\\item A\n",
       "\\item B\n",
       "\\item A\n",
       "\\item B\n",
       "\\item A\n",
       "\\item A\n",
       "\\item A\n",
       "\\item B\n",
       "\\item B\n",
       "\\item B\n",
       "\\item B\n",
       "\\item A\n",
       "\\item A\n",
       "\\item B\n",
       "\\item B\n",
       "\\item B\n",
       "\\item B\n",
       "\\item A\n",
       "\\item B\n",
       "\\item A\n",
       "\\item B\n",
       "\\item A\n",
       "\\item A\n",
       "\\end{enumerate*}\n",
       "\n",
       "\\emph{Levels}: \\begin{enumerate*}\n",
       "\\item 'A'\n",
       "\\item 'B'\n",
       "\\end{enumerate*}\n",
       "\n",
       "\\item[\\$posterior] A matrix: 30 × 2 of type dbl\n",
       "\\begin{tabular}{r|ll}\n",
       "  & A & B\\\\\n",
       "\\hline\n",
       "\t1 & 0.0151257150 & 0.984874285\\\\\n",
       "\t2 & 0.0100887466 & 0.989911253\\\\\n",
       "\t3 & 0.0822908384 & 0.917709162\\\\\n",
       "\t4 & 0.9658383595 & 0.034161640\\\\\n",
       "\t5 & 0.9522939170 & 0.047706083\\\\\n",
       "\t6 & 0.9919040120 & 0.008095988\\\\\n",
       "\t7 & 0.9525281558 & 0.047471844\\\\\n",
       "\t8 & 0.9944915359 & 0.005508464\\\\\n",
       "\t9 & 0.0211817190 & 0.978818281\\\\\n",
       "\t10 & 0.6998949871 & 0.300105013\\\\\n",
       "\t11 & 0.0289534169 & 0.971046583\\\\\n",
       "\t12 & 0.9755125746 & 0.024487425\\\\\n",
       "\t13 & 0.8746479459 & 0.125352054\\\\\n",
       "\t14 & 0.7657631230 & 0.234236877\\\\\n",
       "\t15 & 0.1606411301 & 0.839358870\\\\\n",
       "\t16 & 0.4422886755 & 0.557711324\\\\\n",
       "\t17 & 0.0004005688 & 0.999599431\\\\\n",
       "\t18 & 0.0033600683 & 0.996639932\\\\\n",
       "\t19 & 0.9919040120 & 0.008095988\\\\\n",
       "\t20 & 0.9766777570 & 0.023322243\\\\\n",
       "\t21 & 0.4422886755 & 0.557711324\\\\\n",
       "\t22 & 0.4300065021 & 0.569993498\\\\\n",
       "\t23 & 0.0611031596 & 0.938896840\\\\\n",
       "\t24 & 0.0611031596 & 0.938896840\\\\\n",
       "\t25 & 0.7746027472 & 0.225397253\\\\\n",
       "\t26 & 0.0839975181 & 0.916002482\\\\\n",
       "\t27 & 0.9038564028 & 0.096143597\\\\\n",
       "\t28 & 0.0843960159 & 0.915603984\\\\\n",
       "\t29 & 0.9883756244 & 0.011624376\\\\\n",
       "\t30 & 0.7706697755 & 0.229330225\\\\\n",
       "\\end{tabular}\n",
       "\n",
       "\\item[\\$x] A matrix: 30 × 1 of type dbl\n",
       "\\begin{tabular}{r|l}\n",
       "  & LD1\\\\\n",
       "\\hline\n",
       "\t1 &  1.8161988\\\\\n",
       "\t2 &  1.9945417\\\\\n",
       "\t3 &  1.0488168\\\\\n",
       "\t4 & -1.4533934\\\\\n",
       "\t5 & -1.3020138\\\\\n",
       "\t6 & -2.0911172\\\\\n",
       "\t7 & -1.3042614\\\\\n",
       "\t8 & -2.2597232\\\\\n",
       "\t9 &  1.6670667\\\\\n",
       "\t10 & -0.3682734\\\\\n",
       "\t11 &  1.5276716\\\\\n",
       "\t12 & -1.6025255\\\\\n",
       "\t13 & -0.8448806\\\\\n",
       "\t14 & -0.5151579\\\\\n",
       "\t15 &  0.7190942\\\\\n",
       "\t16 &  0.1008443\\\\\n",
       "\t17 &  3.4018950\\\\\n",
       "\t18 &  2.4756441\\\\\n",
       "\t19 & -2.0911172\\\\\n",
       "\t20 & -1.6242470\\\\\n",
       "\t21 &  0.1008443\\\\\n",
       "\t22 &  0.1225659\\\\\n",
       "\t23 &  1.1882119\\\\\n",
       "\t24 &  1.1882119\\\\\n",
       "\t25 & -0.5368794\\\\\n",
       "\t26 &  1.0390799\\\\\n",
       "\t27 & -0.9745387\\\\\n",
       "\t28 &  1.0368323\\\\\n",
       "\t29 & -1.9322482\\\\\n",
       "\t30 & -0.5271425\\\\\n",
       "\\end{tabular}\n",
       "\n",
       "\\end{description}\n"
      ],
      "text/markdown": [
       "$class\n",
       ":   1. B\n",
       "2. B\n",
       "3. B\n",
       "4. A\n",
       "5. A\n",
       "6. A\n",
       "7. A\n",
       "8. A\n",
       "9. B\n",
       "10. A\n",
       "11. B\n",
       "12. A\n",
       "13. A\n",
       "14. A\n",
       "15. B\n",
       "16. B\n",
       "17. B\n",
       "18. B\n",
       "19. A\n",
       "20. A\n",
       "21. B\n",
       "22. B\n",
       "23. B\n",
       "24. B\n",
       "25. A\n",
       "26. B\n",
       "27. A\n",
       "28. B\n",
       "29. A\n",
       "30. A\n",
       "\n",
       "\n",
       "\n",
       "**Levels**: 1. 'A'\n",
       "2. 'B'\n",
       "\n",
       "\n",
       "\n",
       "$posterior\n",
       ":   \n",
       "A matrix: 30 × 2 of type dbl\n",
       "\n",
       "| <!--/--> | A | B |\n",
       "|---|---|---|\n",
       "| 1 | 0.0151257150 | 0.984874285 |\n",
       "| 2 | 0.0100887466 | 0.989911253 |\n",
       "| 3 | 0.0822908384 | 0.917709162 |\n",
       "| 4 | 0.9658383595 | 0.034161640 |\n",
       "| 5 | 0.9522939170 | 0.047706083 |\n",
       "| 6 | 0.9919040120 | 0.008095988 |\n",
       "| 7 | 0.9525281558 | 0.047471844 |\n",
       "| 8 | 0.9944915359 | 0.005508464 |\n",
       "| 9 | 0.0211817190 | 0.978818281 |\n",
       "| 10 | 0.6998949871 | 0.300105013 |\n",
       "| 11 | 0.0289534169 | 0.971046583 |\n",
       "| 12 | 0.9755125746 | 0.024487425 |\n",
       "| 13 | 0.8746479459 | 0.125352054 |\n",
       "| 14 | 0.7657631230 | 0.234236877 |\n",
       "| 15 | 0.1606411301 | 0.839358870 |\n",
       "| 16 | 0.4422886755 | 0.557711324 |\n",
       "| 17 | 0.0004005688 | 0.999599431 |\n",
       "| 18 | 0.0033600683 | 0.996639932 |\n",
       "| 19 | 0.9919040120 | 0.008095988 |\n",
       "| 20 | 0.9766777570 | 0.023322243 |\n",
       "| 21 | 0.4422886755 | 0.557711324 |\n",
       "| 22 | 0.4300065021 | 0.569993498 |\n",
       "| 23 | 0.0611031596 | 0.938896840 |\n",
       "| 24 | 0.0611031596 | 0.938896840 |\n",
       "| 25 | 0.7746027472 | 0.225397253 |\n",
       "| 26 | 0.0839975181 | 0.916002482 |\n",
       "| 27 | 0.9038564028 | 0.096143597 |\n",
       "| 28 | 0.0843960159 | 0.915603984 |\n",
       "| 29 | 0.9883756244 | 0.011624376 |\n",
       "| 30 | 0.7706697755 | 0.229330225 |\n",
       "\n",
       "\n",
       "$x\n",
       ":   \n",
       "A matrix: 30 × 1 of type dbl\n",
       "\n",
       "| <!--/--> | LD1 |\n",
       "|---|---|\n",
       "| 1 |  1.8161988 |\n",
       "| 2 |  1.9945417 |\n",
       "| 3 |  1.0488168 |\n",
       "| 4 | -1.4533934 |\n",
       "| 5 | -1.3020138 |\n",
       "| 6 | -2.0911172 |\n",
       "| 7 | -1.3042614 |\n",
       "| 8 | -2.2597232 |\n",
       "| 9 |  1.6670667 |\n",
       "| 10 | -0.3682734 |\n",
       "| 11 |  1.5276716 |\n",
       "| 12 | -1.6025255 |\n",
       "| 13 | -0.8448806 |\n",
       "| 14 | -0.5151579 |\n",
       "| 15 |  0.7190942 |\n",
       "| 16 |  0.1008443 |\n",
       "| 17 |  3.4018950 |\n",
       "| 18 |  2.4756441 |\n",
       "| 19 | -2.0911172 |\n",
       "| 20 | -1.6242470 |\n",
       "| 21 |  0.1008443 |\n",
       "| 22 |  0.1225659 |\n",
       "| 23 |  1.1882119 |\n",
       "| 24 |  1.1882119 |\n",
       "| 25 | -0.5368794 |\n",
       "| 26 |  1.0390799 |\n",
       "| 27 | -0.9745387 |\n",
       "| 28 |  1.0368323 |\n",
       "| 29 | -1.9322482 |\n",
       "| 30 | -0.5271425 |\n",
       "\n",
       "\n",
       "\n",
       "\n"
      ],
      "text/plain": [
       "$class\n",
       " [1] B B B A A A A A B A B A A A B B B B A A B B B B A B A B A A\n",
       "Levels: A B\n",
       "\n",
       "$posterior\n",
       "              A           B\n",
       "1  0.0151257150 0.984874285\n",
       "2  0.0100887466 0.989911253\n",
       "3  0.0822908384 0.917709162\n",
       "4  0.9658383595 0.034161640\n",
       "5  0.9522939170 0.047706083\n",
       "6  0.9919040120 0.008095988\n",
       "7  0.9525281558 0.047471844\n",
       "8  0.9944915359 0.005508464\n",
       "9  0.0211817190 0.978818281\n",
       "10 0.6998949871 0.300105013\n",
       "11 0.0289534169 0.971046583\n",
       "12 0.9755125746 0.024487425\n",
       "13 0.8746479459 0.125352054\n",
       "14 0.7657631230 0.234236877\n",
       "15 0.1606411301 0.839358870\n",
       "16 0.4422886755 0.557711324\n",
       "17 0.0004005688 0.999599431\n",
       "18 0.0033600683 0.996639932\n",
       "19 0.9919040120 0.008095988\n",
       "20 0.9766777570 0.023322243\n",
       "21 0.4422886755 0.557711324\n",
       "22 0.4300065021 0.569993498\n",
       "23 0.0611031596 0.938896840\n",
       "24 0.0611031596 0.938896840\n",
       "25 0.7746027472 0.225397253\n",
       "26 0.0839975181 0.916002482\n",
       "27 0.9038564028 0.096143597\n",
       "28 0.0843960159 0.915603984\n",
       "29 0.9883756244 0.011624376\n",
       "30 0.7706697755 0.229330225\n",
       "\n",
       "$x\n",
       "          LD1\n",
       "1   1.8161988\n",
       "2   1.9945417\n",
       "3   1.0488168\n",
       "4  -1.4533934\n",
       "5  -1.3020138\n",
       "6  -2.0911172\n",
       "7  -1.3042614\n",
       "8  -2.2597232\n",
       "9   1.6670667\n",
       "10 -0.3682734\n",
       "11  1.5276716\n",
       "12 -1.6025255\n",
       "13 -0.8448806\n",
       "14 -0.5151579\n",
       "15  0.7190942\n",
       "16  0.1008443\n",
       "17  3.4018950\n",
       "18  2.4756441\n",
       "19 -2.0911172\n",
       "20 -1.6242470\n",
       "21  0.1008443\n",
       "22  0.1225659\n",
       "23  1.1882119\n",
       "24  1.1882119\n",
       "25 -0.5368794\n",
       "26  1.0390799\n",
       "27 -0.9745387\n",
       "28  1.0368323\n",
       "29 -1.9322482\n",
       "30 -0.5271425\n"
      ]
     },
     "metadata": {},
     "output_type": "display_data"
    }
   ],
   "source": [
    "# Prediksi\n",
    "pred <- predict(model, data.training[,-4])\n",
    "pred"
   ]
  },
  {
   "cell_type": "code",
   "execution_count": 20,
   "id": "e88b46d5",
   "metadata": {
    "ExecuteTime": {
     "end_time": "2022-06-18T14:22:59.846426Z",
     "start_time": "2022-06-18T14:22:59.822Z"
    }
   },
   "outputs": [
    {
     "data": {
      "text/plain": [
       "   \n",
       "     A  B\n",
       "  A 13  2\n",
       "  B  2 13"
      ]
     },
     "metadata": {},
     "output_type": "display_data"
    }
   ],
   "source": [
    "# Cross Table\n",
    "\n",
    "ct <- table(data.training$Kelas,pred$class)\n",
    "ct"
   ]
  },
  {
   "cell_type": "code",
   "execution_count": 21,
   "id": "c65ff0ca",
   "metadata": {
    "ExecuteTime": {
     "end_time": "2022-06-18T14:23:23.587187Z",
     "start_time": "2022-06-18T14:23:23.557Z"
    }
   },
   "outputs": [
    {
     "data": {
      "text/html": [
       "13.3333333333333"
      ],
      "text/latex": [
       "13.3333333333333"
      ],
      "text/markdown": [
       "13.3333333333333"
      ],
      "text/plain": [
       "[1] 13.33333"
      ]
     },
     "metadata": {},
     "output_type": "display_data"
    }
   ],
   "source": [
    "# APER\n",
    "\n",
    "jumlah_misklasifikasi = 4 # Jumlah BB\n",
    "jumlah_seluruh =30\n",
    "aper <- jumlah_misklasifikasi/jumlah_seluruh*100\n",
    "aper"
   ]
  },
  {
   "cell_type": "markdown",
   "id": "0653e82e",
   "metadata": {},
   "source": [
    "Jika ada seorang mahasiswa semester 3 (di luar sampel) mendapatkan nilai Kalkulus II, Statmat I dan Metstat I masing-masing 79,80, dan 77, maka bagaimana prediksi Saudara? Apakah masuk di kelas A atau kelas B?"
   ]
  },
  {
   "cell_type": "code",
   "execution_count": 29,
   "id": "ececa084",
   "metadata": {
    "ExecuteTime": {
     "end_time": "2022-06-18T14:26:40.376204Z",
     "start_time": "2022-06-18T14:26:40.344Z"
    }
   },
   "outputs": [
    {
     "data": {
      "text/html": [
       "<dl>\n",
       "\t<dt>$class</dt>\n",
       "\t\t<dd>B\n",
       "<details>\n",
       "\t<summary style=display:list-item;cursor:pointer>\n",
       "\t\t<strong>Levels</strong>:\n",
       "\t</summary>\n",
       "\t<style>\n",
       "\t.list-inline {list-style: none; margin:0; padding: 0}\n",
       "\t.list-inline>li {display: inline-block}\n",
       "\t.list-inline>li:not(:last-child)::after {content: \"\\00b7\"; padding: 0 .5ex}\n",
       "\t</style>\n",
       "\t<ol class=list-inline><li>'A'</li><li>'B'</li></ol>\n",
       "</details></dd>\n",
       "\t<dt>$posterior</dt>\n",
       "\t\t<dd><table class=\"dataframe\">\n",
       "<caption>A matrix: 1 × 2 of type dbl</caption>\n",
       "<thead>\n",
       "\t<tr><th></th><th scope=col>A</th><th scope=col>B</th></tr>\n",
       "</thead>\n",
       "<tbody>\n",
       "\t<tr><th scope=row>1</th><td>0.3601325</td><td>0.6398675</td></tr>\n",
       "</tbody>\n",
       "</table>\n",
       "</dd>\n",
       "\t<dt>$x</dt>\n",
       "\t\t<dd><table class=\"dataframe\">\n",
       "<caption>A matrix: 1 × 1 of type dbl</caption>\n",
       "<thead>\n",
       "\t<tr><th></th><th scope=col>LD1</th></tr>\n",
       "</thead>\n",
       "<tbody>\n",
       "\t<tr><th scope=row>1</th><td>0.2499764</td></tr>\n",
       "</tbody>\n",
       "</table>\n",
       "</dd>\n",
       "</dl>\n"
      ],
      "text/latex": [
       "\\begin{description}\n",
       "\\item[\\$class] B\n",
       "\\emph{Levels}: \\begin{enumerate*}\n",
       "\\item 'A'\n",
       "\\item 'B'\n",
       "\\end{enumerate*}\n",
       "\n",
       "\\item[\\$posterior] A matrix: 1 × 2 of type dbl\n",
       "\\begin{tabular}{r|ll}\n",
       "  & A & B\\\\\n",
       "\\hline\n",
       "\t1 & 0.3601325 & 0.6398675\\\\\n",
       "\\end{tabular}\n",
       "\n",
       "\\item[\\$x] A matrix: 1 × 1 of type dbl\n",
       "\\begin{tabular}{r|l}\n",
       "  & LD1\\\\\n",
       "\\hline\n",
       "\t1 & 0.2499764\\\\\n",
       "\\end{tabular}\n",
       "\n",
       "\\end{description}\n"
      ],
      "text/markdown": [
       "$class\n",
       ":   B\n",
       "**Levels**: 1. 'A'\n",
       "2. 'B'\n",
       "\n",
       "\n",
       "\n",
       "$posterior\n",
       ":   \n",
       "A matrix: 1 × 2 of type dbl\n",
       "\n",
       "| <!--/--> | A | B |\n",
       "|---|---|---|\n",
       "| 1 | 0.3601325 | 0.6398675 |\n",
       "\n",
       "\n",
       "$x\n",
       ":   \n",
       "A matrix: 1 × 1 of type dbl\n",
       "\n",
       "| <!--/--> | LD1 |\n",
       "|---|---|\n",
       "| 1 | 0.2499764 |\n",
       "\n",
       "\n",
       "\n",
       "\n"
      ],
      "text/plain": [
       "$class\n",
       "[1] B\n",
       "Levels: A B\n",
       "\n",
       "$posterior\n",
       "          A         B\n",
       "1 0.3601325 0.6398675\n",
       "\n",
       "$x\n",
       "        LD1\n",
       "1 0.2499764\n"
      ]
     },
     "metadata": {},
     "output_type": "display_data"
    }
   ],
   "source": [
    "nilai <- matrix(c(79,80,77), nrow = 1)\n",
    "nilai <- data.frame(nilai)\n",
    "colnames(nilai) <- c(\"Kalkulus II\", \"Statmat I\", \"Metstat I\")\n",
    "predict(model, nilai)"
   ]
  },
  {
   "cell_type": "code",
   "execution_count": null,
   "id": "23cd0c05",
   "metadata": {},
   "outputs": [],
   "source": []
  }
 ],
 "metadata": {
  "kernelspec": {
   "display_name": "R",
   "language": "R",
   "name": "ir"
  },
  "language_info": {
   "codemirror_mode": "r",
   "file_extension": ".r",
   "mimetype": "text/x-r-source",
   "name": "R",
   "pygments_lexer": "r",
   "version": "4.0.5"
  },
  "toc": {
   "base_numbering": 1,
   "nav_menu": {},
   "number_sections": true,
   "sideBar": true,
   "skip_h1_title": false,
   "title_cell": "Table of Contents",
   "title_sidebar": "Contents",
   "toc_cell": false,
   "toc_position": {},
   "toc_section_display": true,
   "toc_window_display": false
  }
 },
 "nbformat": 4,
 "nbformat_minor": 5
}
