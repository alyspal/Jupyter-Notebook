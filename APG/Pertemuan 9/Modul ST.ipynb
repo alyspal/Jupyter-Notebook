{
 "cells": [
  {
   "cell_type": "code",
   "execution_count": 1,
   "id": "1050034f",
   "metadata": {
    "ExecuteTime": {
     "end_time": "2022-06-18T09:45:56.589895Z",
     "start_time": "2022-06-18T09:45:56.426Z"
    }
   },
   "outputs": [
    {
     "name": "stderr",
     "output_type": "stream",
     "text": [
      "Loading required package: grid\n",
      "\n"
     ]
    }
   ],
   "source": [
    "library(REdaS)\n",
    "library(MASS)\n",
    "library(psych)"
   ]
  },
  {
   "cell_type": "code",
   "execution_count": 2,
   "id": "85317ca5",
   "metadata": {
    "ExecuteTime": {
     "end_time": "2022-06-18T09:45:56.645838Z",
     "start_time": "2022-06-18T09:45:56.428Z"
    }
   },
   "outputs": [],
   "source": [
    "#Input Data\n",
    "data(Investment, package=\"sandwich\")\n",
    "data <- as.data.frame(Investment[,1:6])"
   ]
  },
  {
   "cell_type": "code",
   "execution_count": 3,
   "id": "7ea39649",
   "metadata": {
    "ExecuteTime": {
     "end_time": "2022-06-18T09:45:56.695879Z",
     "start_time": "2022-06-18T09:45:56.429Z"
    },
    "scrolled": false
   },
   "outputs": [
    {
     "data": {
      "text/html": [
       "<table class=\"dataframe\">\n",
       "<caption>A data.frame: 12 × 9</caption>\n",
       "<thead>\n",
       "\t<tr><th scope=col>countries</th><th scope=col>m0</th><th scope=col>m25</th><th scope=col>m50</th><th scope=col>m75</th><th scope=col>w0</th><th scope=col>w25</th><th scope=col>w50</th><th scope=col>w75</th></tr>\n",
       "\t<tr><th scope=col>&lt;chr&gt;</th><th scope=col>&lt;dbl&gt;</th><th scope=col>&lt;dbl&gt;</th><th scope=col>&lt;dbl&gt;</th><th scope=col>&lt;dbl&gt;</th><th scope=col>&lt;dbl&gt;</th><th scope=col>&lt;dbl&gt;</th><th scope=col>&lt;dbl&gt;</th><th scope=col>&lt;dbl&gt;</th></tr>\n",
       "</thead>\n",
       "<tbody>\n",
       "\t<tr><td>Algeria         </td><td>63</td><td>51</td><td>30</td><td>13</td><td>67</td><td>54</td><td>34</td><td>15</td></tr>\n",
       "\t<tr><td>Cameroon        </td><td>34</td><td>29</td><td>13</td><td> 5</td><td>38</td><td>32</td><td>17</td><td> 6</td></tr>\n",
       "\t<tr><td>Madagascar      </td><td>38</td><td>30</td><td>17</td><td> 7</td><td>38</td><td>34</td><td>20</td><td> 7</td></tr>\n",
       "\t<tr><td>Mauritius       </td><td>59</td><td>42</td><td>20</td><td> 6</td><td>64</td><td>46</td><td>25</td><td> 8</td></tr>\n",
       "\t<tr><td>Reunion         </td><td>56</td><td>38</td><td>18</td><td> 7</td><td>62</td><td>46</td><td>25</td><td>10</td></tr>\n",
       "\t<tr><td>Seychelles      </td><td>62</td><td>44</td><td>24</td><td> 7</td><td>69</td><td>50</td><td>28</td><td>14</td></tr>\n",
       "\t<tr><td>South Africa (C)</td><td>50</td><td>39</td><td>20</td><td> 7</td><td>55</td><td>43</td><td>23</td><td> 8</td></tr>\n",
       "\t<tr><td>South Africa (W)</td><td>65</td><td>44</td><td>22</td><td> 7</td><td>72</td><td>50</td><td>27</td><td> 9</td></tr>\n",
       "\t<tr><td>Tunisia         </td><td>56</td><td>46</td><td>24</td><td>11</td><td>63</td><td>54</td><td>33</td><td>19</td></tr>\n",
       "\t<tr><td>Canada          </td><td>69</td><td>47</td><td>24</td><td> 8</td><td>75</td><td>53</td><td>29</td><td>10</td></tr>\n",
       "\t<tr><td>Costa Rica      </td><td>65</td><td>48</td><td>26</td><td> 9</td><td>68</td><td>50</td><td>27</td><td>10</td></tr>\n",
       "\t<tr><td>Dominican Rep.  </td><td>64</td><td>50</td><td>28</td><td>11</td><td>66</td><td>51</td><td>29</td><td>11</td></tr>\n",
       "</tbody>\n",
       "</table>\n"
      ],
      "text/latex": [
       "A data.frame: 12 × 9\n",
       "\\begin{tabular}{lllllllll}\n",
       " countries & m0 & m25 & m50 & m75 & w0 & w25 & w50 & w75\\\\\n",
       " <chr> & <dbl> & <dbl> & <dbl> & <dbl> & <dbl> & <dbl> & <dbl> & <dbl>\\\\\n",
       "\\hline\n",
       "\t Algeria          & 63 & 51 & 30 & 13 & 67 & 54 & 34 & 15\\\\\n",
       "\t Cameroon         & 34 & 29 & 13 &  5 & 38 & 32 & 17 &  6\\\\\n",
       "\t Madagascar       & 38 & 30 & 17 &  7 & 38 & 34 & 20 &  7\\\\\n",
       "\t Mauritius        & 59 & 42 & 20 &  6 & 64 & 46 & 25 &  8\\\\\n",
       "\t Reunion          & 56 & 38 & 18 &  7 & 62 & 46 & 25 & 10\\\\\n",
       "\t Seychelles       & 62 & 44 & 24 &  7 & 69 & 50 & 28 & 14\\\\\n",
       "\t South Africa (C) & 50 & 39 & 20 &  7 & 55 & 43 & 23 &  8\\\\\n",
       "\t South Africa (W) & 65 & 44 & 22 &  7 & 72 & 50 & 27 &  9\\\\\n",
       "\t Tunisia          & 56 & 46 & 24 & 11 & 63 & 54 & 33 & 19\\\\\n",
       "\t Canada           & 69 & 47 & 24 &  8 & 75 & 53 & 29 & 10\\\\\n",
       "\t Costa Rica       & 65 & 48 & 26 &  9 & 68 & 50 & 27 & 10\\\\\n",
       "\t Dominican Rep.   & 64 & 50 & 28 & 11 & 66 & 51 & 29 & 11\\\\\n",
       "\\end{tabular}\n"
      ],
      "text/markdown": [
       "\n",
       "A data.frame: 12 × 9\n",
       "\n",
       "| countries &lt;chr&gt; | m0 &lt;dbl&gt; | m25 &lt;dbl&gt; | m50 &lt;dbl&gt; | m75 &lt;dbl&gt; | w0 &lt;dbl&gt; | w25 &lt;dbl&gt; | w50 &lt;dbl&gt; | w75 &lt;dbl&gt; |\n",
       "|---|---|---|---|---|---|---|---|---|\n",
       "| Algeria          | 63 | 51 | 30 | 13 | 67 | 54 | 34 | 15 |\n",
       "| Cameroon         | 34 | 29 | 13 |  5 | 38 | 32 | 17 |  6 |\n",
       "| Madagascar       | 38 | 30 | 17 |  7 | 38 | 34 | 20 |  7 |\n",
       "| Mauritius        | 59 | 42 | 20 |  6 | 64 | 46 | 25 |  8 |\n",
       "| Reunion          | 56 | 38 | 18 |  7 | 62 | 46 | 25 | 10 |\n",
       "| Seychelles       | 62 | 44 | 24 |  7 | 69 | 50 | 28 | 14 |\n",
       "| South Africa (C) | 50 | 39 | 20 |  7 | 55 | 43 | 23 |  8 |\n",
       "| South Africa (W) | 65 | 44 | 22 |  7 | 72 | 50 | 27 |  9 |\n",
       "| Tunisia          | 56 | 46 | 24 | 11 | 63 | 54 | 33 | 19 |\n",
       "| Canada           | 69 | 47 | 24 |  8 | 75 | 53 | 29 | 10 |\n",
       "| Costa Rica       | 65 | 48 | 26 |  9 | 68 | 50 | 27 | 10 |\n",
       "| Dominican Rep.   | 64 | 50 | 28 | 11 | 66 | 51 | 29 | 11 |\n",
       "\n"
      ],
      "text/plain": [
       "   countries        m0 m25 m50 m75 w0 w25 w50 w75\n",
       "1  Algeria          63 51  30  13  67 54  34  15 \n",
       "2  Cameroon         34 29  13   5  38 32  17   6 \n",
       "3  Madagascar       38 30  17   7  38 34  20   7 \n",
       "4  Mauritius        59 42  20   6  64 46  25   8 \n",
       "5  Reunion          56 38  18   7  62 46  25  10 \n",
       "6  Seychelles       62 44  24   7  69 50  28  14 \n",
       "7  South Africa (C) 50 39  20   7  55 43  23   8 \n",
       "8  South Africa (W) 65 44  22   7  72 50  27   9 \n",
       "9  Tunisia          56 46  24  11  63 54  33  19 \n",
       "10 Canada           69 47  24   8  75 53  29  10 \n",
       "11 Costa Rica       65 48  26   9  68 50  27  10 \n",
       "12 Dominican Rep.   64 50  28  11  66 51  29  11 "
      ]
     },
     "metadata": {},
     "output_type": "display_data"
    }
   ],
   "source": [
    "countries <- c('Algeria', 'Cameroon', 'Madagascar', 'Mauritius', 'Reunion', 'Seychelles', 'South Africa (C)',\n",
    "               'South Africa (W)', 'Tunisia', 'Canada', 'Costa Rica', 'Dominican Rep.')\n",
    "m0 <- c(63,34,38,59,56,62,50,65,56,69,65,64)\n",
    "m25 <- c(51,29,30,42,38,44,39,44,46,47,48,50)\n",
    "m50 <- c(30,13,17,20,18,24,20,22,24,24,26,28)\n",
    "m75 <- c(13,5,7,6,7,7,7,7,11,8,9,11)\n",
    "w0 <- c(67,38,38,64,62,69,55,72,63,75,68,66)\n",
    "w25 <- c(54,32,34,46,46,50,43,50,54,53,50,51)\n",
    "w50 <- c(34,17,20,25,25,28,23,27,33,29,27,29)\n",
    "w75 <- c(15,6,7,8,10,14,8,9,19,10,10,11)\n",
    "\n",
    "data <- data.frame(countries,m0,m25,m50,m75,w0,w25,w50,w75)\n",
    "data"
   ]
  },
  {
   "cell_type": "code",
   "execution_count": 4,
   "id": "6b5a8eaf",
   "metadata": {
    "ExecuteTime": {
     "end_time": "2022-06-18T09:45:56.731909Z",
     "start_time": "2022-06-18T09:45:56.431Z"
    }
   },
   "outputs": [
    {
     "data": {
      "text/html": [
       "<table class=\"dataframe\">\n",
       "<caption>A data.frame: 12 × 8</caption>\n",
       "<thead>\n",
       "\t<tr><th scope=col>m0</th><th scope=col>m25</th><th scope=col>m50</th><th scope=col>m75</th><th scope=col>w0</th><th scope=col>w25</th><th scope=col>w50</th><th scope=col>w75</th></tr>\n",
       "\t<tr><th scope=col>&lt;dbl&gt;</th><th scope=col>&lt;dbl&gt;</th><th scope=col>&lt;dbl&gt;</th><th scope=col>&lt;dbl&gt;</th><th scope=col>&lt;dbl&gt;</th><th scope=col>&lt;dbl&gt;</th><th scope=col>&lt;dbl&gt;</th><th scope=col>&lt;dbl&gt;</th></tr>\n",
       "</thead>\n",
       "<tbody>\n",
       "\t<tr><td>63</td><td>51</td><td>30</td><td>13</td><td>67</td><td>54</td><td>34</td><td>15</td></tr>\n",
       "\t<tr><td>34</td><td>29</td><td>13</td><td> 5</td><td>38</td><td>32</td><td>17</td><td> 6</td></tr>\n",
       "\t<tr><td>38</td><td>30</td><td>17</td><td> 7</td><td>38</td><td>34</td><td>20</td><td> 7</td></tr>\n",
       "\t<tr><td>59</td><td>42</td><td>20</td><td> 6</td><td>64</td><td>46</td><td>25</td><td> 8</td></tr>\n",
       "\t<tr><td>56</td><td>38</td><td>18</td><td> 7</td><td>62</td><td>46</td><td>25</td><td>10</td></tr>\n",
       "\t<tr><td>62</td><td>44</td><td>24</td><td> 7</td><td>69</td><td>50</td><td>28</td><td>14</td></tr>\n",
       "\t<tr><td>50</td><td>39</td><td>20</td><td> 7</td><td>55</td><td>43</td><td>23</td><td> 8</td></tr>\n",
       "\t<tr><td>65</td><td>44</td><td>22</td><td> 7</td><td>72</td><td>50</td><td>27</td><td> 9</td></tr>\n",
       "\t<tr><td>56</td><td>46</td><td>24</td><td>11</td><td>63</td><td>54</td><td>33</td><td>19</td></tr>\n",
       "\t<tr><td>69</td><td>47</td><td>24</td><td> 8</td><td>75</td><td>53</td><td>29</td><td>10</td></tr>\n",
       "\t<tr><td>65</td><td>48</td><td>26</td><td> 9</td><td>68</td><td>50</td><td>27</td><td>10</td></tr>\n",
       "\t<tr><td>64</td><td>50</td><td>28</td><td>11</td><td>66</td><td>51</td><td>29</td><td>11</td></tr>\n",
       "</tbody>\n",
       "</table>\n"
      ],
      "text/latex": [
       "A data.frame: 12 × 8\n",
       "\\begin{tabular}{llllllll}\n",
       " m0 & m25 & m50 & m75 & w0 & w25 & w50 & w75\\\\\n",
       " <dbl> & <dbl> & <dbl> & <dbl> & <dbl> & <dbl> & <dbl> & <dbl>\\\\\n",
       "\\hline\n",
       "\t 63 & 51 & 30 & 13 & 67 & 54 & 34 & 15\\\\\n",
       "\t 34 & 29 & 13 &  5 & 38 & 32 & 17 &  6\\\\\n",
       "\t 38 & 30 & 17 &  7 & 38 & 34 & 20 &  7\\\\\n",
       "\t 59 & 42 & 20 &  6 & 64 & 46 & 25 &  8\\\\\n",
       "\t 56 & 38 & 18 &  7 & 62 & 46 & 25 & 10\\\\\n",
       "\t 62 & 44 & 24 &  7 & 69 & 50 & 28 & 14\\\\\n",
       "\t 50 & 39 & 20 &  7 & 55 & 43 & 23 &  8\\\\\n",
       "\t 65 & 44 & 22 &  7 & 72 & 50 & 27 &  9\\\\\n",
       "\t 56 & 46 & 24 & 11 & 63 & 54 & 33 & 19\\\\\n",
       "\t 69 & 47 & 24 &  8 & 75 & 53 & 29 & 10\\\\\n",
       "\t 65 & 48 & 26 &  9 & 68 & 50 & 27 & 10\\\\\n",
       "\t 64 & 50 & 28 & 11 & 66 & 51 & 29 & 11\\\\\n",
       "\\end{tabular}\n"
      ],
      "text/markdown": [
       "\n",
       "A data.frame: 12 × 8\n",
       "\n",
       "| m0 &lt;dbl&gt; | m25 &lt;dbl&gt; | m50 &lt;dbl&gt; | m75 &lt;dbl&gt; | w0 &lt;dbl&gt; | w25 &lt;dbl&gt; | w50 &lt;dbl&gt; | w75 &lt;dbl&gt; |\n",
       "|---|---|---|---|---|---|---|---|\n",
       "| 63 | 51 | 30 | 13 | 67 | 54 | 34 | 15 |\n",
       "| 34 | 29 | 13 |  5 | 38 | 32 | 17 |  6 |\n",
       "| 38 | 30 | 17 |  7 | 38 | 34 | 20 |  7 |\n",
       "| 59 | 42 | 20 |  6 | 64 | 46 | 25 |  8 |\n",
       "| 56 | 38 | 18 |  7 | 62 | 46 | 25 | 10 |\n",
       "| 62 | 44 | 24 |  7 | 69 | 50 | 28 | 14 |\n",
       "| 50 | 39 | 20 |  7 | 55 | 43 | 23 |  8 |\n",
       "| 65 | 44 | 22 |  7 | 72 | 50 | 27 |  9 |\n",
       "| 56 | 46 | 24 | 11 | 63 | 54 | 33 | 19 |\n",
       "| 69 | 47 | 24 |  8 | 75 | 53 | 29 | 10 |\n",
       "| 65 | 48 | 26 |  9 | 68 | 50 | 27 | 10 |\n",
       "| 64 | 50 | 28 | 11 | 66 | 51 | 29 | 11 |\n",
       "\n"
      ],
      "text/plain": [
       "   m0 m25 m50 m75 w0 w25 w50 w75\n",
       "1  63 51  30  13  67 54  34  15 \n",
       "2  34 29  13   5  38 32  17   6 \n",
       "3  38 30  17   7  38 34  20   7 \n",
       "4  59 42  20   6  64 46  25   8 \n",
       "5  56 38  18   7  62 46  25  10 \n",
       "6  62 44  24   7  69 50  28  14 \n",
       "7  50 39  20   7  55 43  23   8 \n",
       "8  65 44  22   7  72 50  27   9 \n",
       "9  56 46  24  11  63 54  33  19 \n",
       "10 69 47  24   8  75 53  29  10 \n",
       "11 65 48  26   9  68 50  27  10 \n",
       "12 64 50  28  11  66 51  29  11 "
      ]
     },
     "metadata": {},
     "output_type": "display_data"
    }
   ],
   "source": [
    "data <- data[,-c(1)]\n",
    "data"
   ]
  },
  {
   "cell_type": "code",
   "execution_count": 5,
   "id": "90607a19",
   "metadata": {
    "ExecuteTime": {
     "end_time": "2022-06-18T09:45:56.772835Z",
     "start_time": "2022-06-18T09:45:56.433Z"
    }
   },
   "outputs": [
    {
     "data": {
      "text/html": [
       "<table class=\"dataframe\">\n",
       "<caption>A data.frame: 6 × 8</caption>\n",
       "<thead>\n",
       "\t<tr><th></th><th scope=col>m0</th><th scope=col>m25</th><th scope=col>m50</th><th scope=col>m75</th><th scope=col>w0</th><th scope=col>w25</th><th scope=col>w50</th><th scope=col>w75</th></tr>\n",
       "\t<tr><th></th><th scope=col>&lt;dbl&gt;</th><th scope=col>&lt;dbl&gt;</th><th scope=col>&lt;dbl&gt;</th><th scope=col>&lt;dbl&gt;</th><th scope=col>&lt;dbl&gt;</th><th scope=col>&lt;dbl&gt;</th><th scope=col>&lt;dbl&gt;</th><th scope=col>&lt;dbl&gt;</th></tr>\n",
       "</thead>\n",
       "<tbody>\n",
       "\t<tr><th scope=row>1</th><td> 0.56919839</td><td> 1.20749295</td><td> 1.6185042</td><td> 2.0413518</td><td> 0.46339226</td><td> 0.9680708</td><td> 1.5511273</td><td> 1.1845777</td></tr>\n",
       "\t<tr><th scope=row>2</th><td>-2.07188213</td><td>-1.85768146</td><td>-1.8939943</td><td>-1.3374374</td><td>-1.94348096</td><td>-2.0386431</td><td>-1.9261251</td><td>-1.2292788</td></tr>\n",
       "\t<tr><th scope=row>3</th><td>-1.70759516</td><td>-1.71835535</td><td>-1.0675240</td><td>-0.4927401</td><td>-1.94348096</td><td>-1.7653055</td><td>-1.3124923</td><td>-0.9610725</td></tr>\n",
       "\t<tr><th scope=row>4</th><td> 0.20491142</td><td>-0.04644204</td><td>-0.4476714</td><td>-0.9150887</td><td> 0.21440537</td><td>-0.1252797</td><td>-0.2897710</td><td>-0.6928662</td></tr>\n",
       "\t<tr><th scope=row>5</th><td>-0.06830381</td><td>-0.60374647</td><td>-0.8609065</td><td>-0.4927401</td><td> 0.04841412</td><td>-0.1252797</td><td>-0.2897710</td><td>-0.1564537</td></tr>\n",
       "\t<tr><th scope=row>6</th><td> 0.47812665</td><td> 0.23221018</td><td> 0.3787989</td><td>-0.4927401</td><td> 0.62938351</td><td> 0.4213955</td><td> 0.3238617</td><td> 0.9163714</td></tr>\n",
       "</tbody>\n",
       "</table>\n"
      ],
      "text/latex": [
       "A data.frame: 6 × 8\n",
       "\\begin{tabular}{r|llllllll}\n",
       "  & m0 & m25 & m50 & m75 & w0 & w25 & w50 & w75\\\\\n",
       "  & <dbl> & <dbl> & <dbl> & <dbl> & <dbl> & <dbl> & <dbl> & <dbl>\\\\\n",
       "\\hline\n",
       "\t1 &  0.56919839 &  1.20749295 &  1.6185042 &  2.0413518 &  0.46339226 &  0.9680708 &  1.5511273 &  1.1845777\\\\\n",
       "\t2 & -2.07188213 & -1.85768146 & -1.8939943 & -1.3374374 & -1.94348096 & -2.0386431 & -1.9261251 & -1.2292788\\\\\n",
       "\t3 & -1.70759516 & -1.71835535 & -1.0675240 & -0.4927401 & -1.94348096 & -1.7653055 & -1.3124923 & -0.9610725\\\\\n",
       "\t4 &  0.20491142 & -0.04644204 & -0.4476714 & -0.9150887 &  0.21440537 & -0.1252797 & -0.2897710 & -0.6928662\\\\\n",
       "\t5 & -0.06830381 & -0.60374647 & -0.8609065 & -0.4927401 &  0.04841412 & -0.1252797 & -0.2897710 & -0.1564537\\\\\n",
       "\t6 &  0.47812665 &  0.23221018 &  0.3787989 & -0.4927401 &  0.62938351 &  0.4213955 &  0.3238617 &  0.9163714\\\\\n",
       "\\end{tabular}\n"
      ],
      "text/markdown": [
       "\n",
       "A data.frame: 6 × 8\n",
       "\n",
       "| <!--/--> | m0 &lt;dbl&gt; | m25 &lt;dbl&gt; | m50 &lt;dbl&gt; | m75 &lt;dbl&gt; | w0 &lt;dbl&gt; | w25 &lt;dbl&gt; | w50 &lt;dbl&gt; | w75 &lt;dbl&gt; |\n",
       "|---|---|---|---|---|---|---|---|---|\n",
       "| 1 |  0.56919839 |  1.20749295 |  1.6185042 |  2.0413518 |  0.46339226 |  0.9680708 |  1.5511273 |  1.1845777 |\n",
       "| 2 | -2.07188213 | -1.85768146 | -1.8939943 | -1.3374374 | -1.94348096 | -2.0386431 | -1.9261251 | -1.2292788 |\n",
       "| 3 | -1.70759516 | -1.71835535 | -1.0675240 | -0.4927401 | -1.94348096 | -1.7653055 | -1.3124923 | -0.9610725 |\n",
       "| 4 |  0.20491142 | -0.04644204 | -0.4476714 | -0.9150887 |  0.21440537 | -0.1252797 | -0.2897710 | -0.6928662 |\n",
       "| 5 | -0.06830381 | -0.60374647 | -0.8609065 | -0.4927401 |  0.04841412 | -0.1252797 | -0.2897710 | -0.1564537 |\n",
       "| 6 |  0.47812665 |  0.23221018 |  0.3787989 | -0.4927401 |  0.62938351 |  0.4213955 |  0.3238617 |  0.9163714 |\n",
       "\n"
      ],
      "text/plain": [
       "  m0          m25         m50        m75        w0          w25       \n",
       "1  0.56919839  1.20749295  1.6185042  2.0413518  0.46339226  0.9680708\n",
       "2 -2.07188213 -1.85768146 -1.8939943 -1.3374374 -1.94348096 -2.0386431\n",
       "3 -1.70759516 -1.71835535 -1.0675240 -0.4927401 -1.94348096 -1.7653055\n",
       "4  0.20491142 -0.04644204 -0.4476714 -0.9150887  0.21440537 -0.1252797\n",
       "5 -0.06830381 -0.60374647 -0.8609065 -0.4927401  0.04841412 -0.1252797\n",
       "6  0.47812665  0.23221018  0.3787989 -0.4927401  0.62938351  0.4213955\n",
       "  w50        w75       \n",
       "1  1.5511273  1.1845777\n",
       "2 -1.9261251 -1.2292788\n",
       "3 -1.3124923 -0.9610725\n",
       "4 -0.2897710 -0.6928662\n",
       "5 -0.2897710 -0.1564537\n",
       "6  0.3238617  0.9163714"
      ]
     },
     "metadata": {},
     "output_type": "display_data"
    }
   ],
   "source": [
    "#standardisasi data\n",
    "data<-data.frame(scale(data))\n",
    "head(data)"
   ]
  },
  {
   "cell_type": "code",
   "execution_count": 6,
   "id": "b6268360",
   "metadata": {
    "ExecuteTime": {
     "end_time": "2022-06-18T09:45:57.029629Z",
     "start_time": "2022-06-18T09:45:56.434Z"
    },
    "scrolled": true
   },
   "outputs": [
    {
     "data": {
      "image/png": "[encoded data removed]",
      "text/plain": [
       "Plot with title \"X1\""
      ]
     },
     "metadata": {
      "image/png": {
       "height": 420,
       "width": 420
      }
     },
     "output_type": "display_data"
    },
    {
     "data": {
      "image/png": "[encoded data removed]",
      "text/plain": [
       "Plot with title \"X2\""
      ]
     },
     "metadata": {
      "image/png": {
       "height": 420,
       "width": 420
      }
     },
     "output_type": "display_data"
    },
    {
     "data": {
      "image/png": "[encoded data removed]",
      "text/plain": [
       "Plot with title \"X3\""
      ]
     },
     "metadata": {
      "image/png": {
       "height": 420,
       "width": 420
      }
     },
     "output_type": "display_data"
    },
    {
     "data": {
      "image/png": "[encoded data removed]",
      "text/plain": [
       "Plot with title \"X4\""
      ]
     },
     "metadata": {
      "image/png": {
       "height": 420,
       "width": 420
      }
     },
     "output_type": "display_data"
    }
   ],
   "source": [
    "#cek histogram dan kurva setiap variabel\n",
    "hist(data[,1], prob=TRUE, main=\"X1\", xlab=\"X1\")\n",
    "lines(density(data[,1]))\n",
    "hist(data[,2], prob=TRUE, main=\"X2\", xlab=\"X2\")\n",
    "lines(density(data[,2]))\n",
    "hist(data[,3], prob=TRUE, main=\"X3\", xlab=\"X3\")\n",
    "lines(density(data[,3]))\n",
    "hist(data[,4], prob=TRUE, main=\"X4\", xlab=\"X4\")\n",
    "lines(density(data[,4]))"
   ]
  },
  {
   "cell_type": "code",
   "execution_count": 7,
   "id": "6b0f1f5a",
   "metadata": {
    "ExecuteTime": {
     "end_time": "2022-06-18T09:45:57.254625Z",
     "start_time": "2022-06-18T09:45:56.436Z"
    },
    "scrolled": true
   },
   "outputs": [
    {
     "data": {
      "image/png": "[encoded data removed]",
      "text/plain": [
       "Plot with title \"X5\""
      ]
     },
     "metadata": {
      "image/png": {
       "height": 420,
       "width": 420
      }
     },
     "output_type": "display_data"
    },
    {
     "data": {
      "image/png": "[encoded data removed]",
      "text/plain": [
       "Plot with title \"X6\""
      ]
     },
     "metadata": {
      "image/png": {
       "height": 420,
       "width": 420
      }
     },
     "output_type": "display_data"
    },
    {
     "data": {
      "image/png": "[encoded data removed]",
      "text/plain": [
       "Plot with title \"X7\""
      ]
     },
     "metadata": {
      "image/png": {
       "height": 420,
       "width": 420
      }
     },
     "output_type": "display_data"
    },
    {
     "data": {
      "image/png": "[encoded data removed]",
      "text/plain": [
       "Plot with title \"X8\""
      ]
     },
     "metadata": {
      "image/png": {
       "height": 420,
       "width": 420
      }
     },
     "output_type": "display_data"
    }
   ],
   "source": [
    "hist(data[,5], prob=TRUE, main=\"X5\", xlab=\"X5\")\n",
    "lines(density(data[,5]))\n",
    "hist(data[,6], prob=TRUE, main=\"X6\", xlab=\"X6\")\n",
    "lines(density(data[,6]))\n",
    "hist(data[,7], prob=TRUE, main=\"X7\", xlab=\"X7\")\n",
    "lines(density(data[,7]))\n",
    "hist(data[,8], prob=TRUE, main=\"X8\", xlab=\"X8\")\n",
    "lines(density(data[,8]))"
   ]
  },
  {
   "cell_type": "code",
   "execution_count": 8,
   "id": "9142d7e6",
   "metadata": {
    "ExecuteTime": {
     "end_time": "2022-06-18T09:45:57.703625Z",
     "start_time": "2022-06-18T09:45:56.438Z"
    },
    "scrolled": true
   },
   "outputs": [
    {
     "data": {
      "text/html": [
       "<dl>\n",
       "\t<dt>$multivariateNormality</dt>\n",
       "\t\t<dd><table class=\"dataframe\">\n",
       "<caption>A data.frame: 3 × 4</caption>\n",
       "<thead>\n",
       "\t<tr><th scope=col>Test</th><th scope=col>Statistic</th><th scope=col>p value</th><th scope=col>Result</th></tr>\n",
       "\t<tr><th scope=col>&lt;chr&gt;</th><th scope=col>&lt;fct&gt;</th><th scope=col>&lt;fct&gt;</th><th scope=col>&lt;chr&gt;</th></tr>\n",
       "</thead>\n",
       "<tbody>\n",
       "\t<tr><td>Mardia Skewness</td><td>138.33873195999  </td><td>0.120829657230273</td><td>YES</td></tr>\n",
       "\t<tr><td>Mardia Kurtosis</td><td>-1.30260122836326</td><td>0.192710938202482</td><td>YES</td></tr>\n",
       "\t<tr><td>MVN            </td><td>NA               </td><td>NA               </td><td>YES</td></tr>\n",
       "</tbody>\n",
       "</table>\n",
       "</dd>\n",
       "\t<dt>$univariateNormality</dt>\n",
       "\t\t<dd><table class=\"dataframe\">\n",
       "<caption>A data.frame: 8 × 5</caption>\n",
       "<thead>\n",
       "\t<tr><th></th><th scope=col>Test</th><th scope=col>Variable</th><th scope=col>Statistic</th><th scope=col>p value</th><th scope=col>Normality</th></tr>\n",
       "\t<tr><th></th><th scope=col>&lt;I&lt;chr&gt;&gt;</th><th scope=col>&lt;I&lt;chr&gt;&gt;</th><th scope=col>&lt;I&lt;chr&gt;&gt;</th><th scope=col>&lt;I&lt;chr&gt;&gt;</th><th scope=col>&lt;I&lt;chr&gt;&gt;</th></tr>\n",
       "</thead>\n",
       "<tbody>\n",
       "\t<tr><th scope=row>1</th><td>Anderson-Darling</td><td>   m0    </td><td>   0.7453</td><td>   0.0376</td><td>   NO    </td></tr>\n",
       "\t<tr><th scope=row>2</th><td>Anderson-Darling</td><td>   m25   </td><td>   0.4320</td><td>   0.2530</td><td>   YES   </td></tr>\n",
       "\t<tr><th scope=row>3</th><td>Anderson-Darling</td><td>   m50   </td><td>   0.1646</td><td>   0.9207</td><td>   YES   </td></tr>\n",
       "\t<tr><th scope=row>4</th><td>Anderson-Darling</td><td>   m75   </td><td>   0.7242</td><td>   0.0428</td><td>   NO    </td></tr>\n",
       "\t<tr><th scope=row>5</th><td>Anderson-Darling</td><td>   w0    </td><td>   0.9226</td><td>   0.0127</td><td>   NO    </td></tr>\n",
       "\t<tr><th scope=row>6</th><td>Anderson-Darling</td><td>   w25   </td><td>   0.7913</td><td>   0.0283</td><td>   NO    </td></tr>\n",
       "\t<tr><th scope=row>7</th><td>Anderson-Darling</td><td>   w50   </td><td>   0.2244</td><td>   0.7706</td><td>   YES   </td></tr>\n",
       "\t<tr><th scope=row>8</th><td>Anderson-Darling</td><td>   w75   </td><td>   0.5168</td><td>   0.1503</td><td>   YES   </td></tr>\n",
       "</tbody>\n",
       "</table>\n",
       "</dd>\n",
       "\t<dt>$Descriptives</dt>\n",
       "\t\t<dd><table class=\"dataframe\">\n",
       "<caption>A data.frame: 8 × 10</caption>\n",
       "<thead>\n",
       "\t<tr><th></th><th scope=col>n</th><th scope=col>Mean</th><th scope=col>Std.Dev</th><th scope=col>Median</th><th scope=col>Min</th><th scope=col>Max</th><th scope=col>25th</th><th scope=col>75th</th><th scope=col>Skew</th><th scope=col>Kurtosis</th></tr>\n",
       "\t<tr><th></th><th scope=col>&lt;int&gt;</th><th scope=col>&lt;dbl&gt;</th><th scope=col>&lt;dbl&gt;</th><th scope=col>&lt;dbl&gt;</th><th scope=col>&lt;dbl&gt;</th><th scope=col>&lt;dbl&gt;</th><th scope=col>&lt;dbl&gt;</th><th scope=col>&lt;dbl&gt;</th><th scope=col>&lt;dbl&gt;</th><th scope=col>&lt;dbl&gt;</th></tr>\n",
       "</thead>\n",
       "<tbody>\n",
       "\t<tr><th scope=row>m0</th><td>12</td><td> 0.000000e+00</td><td>1</td><td> 0.3415190</td><td>-2.071882</td><td>1.1156288</td><td>-0.20491142</td><td>0.6830381</td><td>-0.9399209</td><td>-0.5326708</td></tr>\n",
       "\t<tr><th scope=row>m25</th><td>12</td><td>-3.405389e-16</td><td>1</td><td> 0.2322102</td><td>-1.857681</td><td>1.2074929</td><td>-0.49925189</td><td>0.6850200</td><td>-0.6583614</td><td>-0.9269783</td></tr>\n",
       "\t<tr><th scope=row>m50</th><td>12</td><td>-2.451652e-16</td><td>1</td><td> 0.1721813</td><td>-1.893994</td><td>1.6185042</td><td>-0.55098015</td><td>0.4821076</td><td>-0.1814772</td><td>-0.9813260</td></tr>\n",
       "\t<tr><th scope=row>m75</th><td>12</td><td> 2.289835e-16</td><td>1</td><td>-0.4927401</td><td>-1.337437</td><td>2.0413518</td><td>-0.49274009</td><td>0.5631315</td><td> 0.6850165</td><td>-0.8602563</td></tr>\n",
       "\t<tr><th scope=row>w0</th><td>12</td><td> 2.116363e-16</td><td>1</td><td> 0.2974010</td><td>-1.943481</td><td>1.1273573</td><td>-0.09682823</td><td>0.5671368</td><td>-1.0119037</td><td>-0.4050227</td></tr>\n",
       "\t<tr><th scope=row>w25</th><td>12</td><td> 3.099779e-16</td><td>1</td><td> 0.4213955</td><td>-2.038643</td><td>0.9680708</td><td>-0.22778135</td><td>0.6263987</td><td>-0.9453181</td><td>-0.5422707</td></tr>\n",
       "\t<tr><th scope=row>w50</th><td>12</td><td>-2.428613e-16</td><td>1</td><td> 0.1193175</td><td>-1.926125</td><td>1.5511273</td><td>-0.39204315</td><td>0.5284060</td><td>-0.2742159</td><td>-0.8143293</td></tr>\n",
       "\t<tr><th scope=row>w75</th><td>12</td><td>-1.491862e-16</td><td>1</td><td>-0.1564537</td><td>-1.229279</td><td>2.2574028</td><td>-0.69286621</td><td>0.3129073</td><td> 0.8698292</td><td>-0.3104910</td></tr>\n",
       "</tbody>\n",
       "</table>\n",
       "</dd>\n",
       "</dl>\n"
      ],
      "text/latex": [
       "\\begin{description}\n",
       "\\item[\\$multivariateNormality] A data.frame: 3 × 4\n",
       "\\begin{tabular}{llll}\n",
       " Test & Statistic & p value & Result\\\\\n",
       " <chr> & <fct> & <fct> & <chr>\\\\\n",
       "\\hline\n",
       "\t Mardia Skewness & 138.33873195999   & 0.120829657230273 & YES\\\\\n",
       "\t Mardia Kurtosis & -1.30260122836326 & 0.192710938202482 & YES\\\\\n",
       "\t MVN             & NA                & NA                & YES\\\\\n",
       "\\end{tabular}\n",
       "\n",
       "\\item[\\$univariateNormality] A data.frame: 8 × 5\n",
       "\\begin{tabular}{r|lllll}\n",
       "  & Test & Variable & Statistic & p value & Normality\\\\\n",
       "  & <I<chr>> & <I<chr>> & <I<chr>> & <I<chr>> & <I<chr>>\\\\\n",
       "\\hline\n",
       "\t1 & Anderson-Darling &    m0     &    0.7453 &    0.0376 &    NO    \\\\\n",
       "\t2 & Anderson-Darling &    m25    &    0.4320 &    0.2530 &    YES   \\\\\n",
       "\t3 & Anderson-Darling &    m50    &    0.1646 &    0.9207 &    YES   \\\\\n",
       "\t4 & Anderson-Darling &    m75    &    0.7242 &    0.0428 &    NO    \\\\\n",
       "\t5 & Anderson-Darling &    w0     &    0.9226 &    0.0127 &    NO    \\\\\n",
       "\t6 & Anderson-Darling &    w25    &    0.7913 &    0.0283 &    NO    \\\\\n",
       "\t7 & Anderson-Darling &    w50    &    0.2244 &    0.7706 &    YES   \\\\\n",
       "\t8 & Anderson-Darling &    w75    &    0.5168 &    0.1503 &    YES   \\\\\n",
       "\\end{tabular}\n",
       "\n",
       "\\item[\\$Descriptives] A data.frame: 8 × 10\n",
       "\\begin{tabular}{r|llllllllll}\n",
       "  & n & Mean & Std.Dev & Median & Min & Max & 25th & 75th & Skew & Kurtosis\\\\\n",
       "  & <int> & <dbl> & <dbl> & <dbl> & <dbl> & <dbl> & <dbl> & <dbl> & <dbl> & <dbl>\\\\\n",
       "\\hline\n",
       "\tm0 & 12 &  0.000000e+00 & 1 &  0.3415190 & -2.071882 & 1.1156288 & -0.20491142 & 0.6830381 & -0.9399209 & -0.5326708\\\\\n",
       "\tm25 & 12 & -3.405389e-16 & 1 &  0.2322102 & -1.857681 & 1.2074929 & -0.49925189 & 0.6850200 & -0.6583614 & -0.9269783\\\\\n",
       "\tm50 & 12 & -2.451652e-16 & 1 &  0.1721813 & -1.893994 & 1.6185042 & -0.55098015 & 0.4821076 & -0.1814772 & -0.9813260\\\\\n",
       "\tm75 & 12 &  2.289835e-16 & 1 & -0.4927401 & -1.337437 & 2.0413518 & -0.49274009 & 0.5631315 &  0.6850165 & -0.8602563\\\\\n",
       "\tw0 & 12 &  2.116363e-16 & 1 &  0.2974010 & -1.943481 & 1.1273573 & -0.09682823 & 0.5671368 & -1.0119037 & -0.4050227\\\\\n",
       "\tw25 & 12 &  3.099779e-16 & 1 &  0.4213955 & -2.038643 & 0.9680708 & -0.22778135 & 0.6263987 & -0.9453181 & -0.5422707\\\\\n",
       "\tw50 & 12 & -2.428613e-16 & 1 &  0.1193175 & -1.926125 & 1.5511273 & -0.39204315 & 0.5284060 & -0.2742159 & -0.8143293\\\\\n",
       "\tw75 & 12 & -1.491862e-16 & 1 & -0.1564537 & -1.229279 & 2.2574028 & -0.69286621 & 0.3129073 &  0.8698292 & -0.3104910\\\\\n",
       "\\end{tabular}\n",
       "\n",
       "\\end{description}\n"
      ],
      "text/markdown": [
       "$multivariateNormality\n",
       ":   \n",
       "A data.frame: 3 × 4\n",
       "\n",
       "| Test &lt;chr&gt; | Statistic &lt;fct&gt; | p value &lt;fct&gt; | Result &lt;chr&gt; |\n",
       "|---|---|---|---|\n",
       "| Mardia Skewness | 138.33873195999   | 0.120829657230273 | YES |\n",
       "| Mardia Kurtosis | -1.30260122836326 | 0.192710938202482 | YES |\n",
       "| MVN             | NA                | NA                | YES |\n",
       "\n",
       "\n",
       "$univariateNormality\n",
       ":   \n",
       "A data.frame: 8 × 5\n",
       "\n",
       "| <!--/--> | Test &lt;I&lt;chr&gt;&gt; | Variable &lt;I&lt;chr&gt;&gt; | Statistic &lt;I&lt;chr&gt;&gt; | p value &lt;I&lt;chr&gt;&gt; | Normality &lt;I&lt;chr&gt;&gt; |\n",
       "|---|---|---|---|---|---|\n",
       "| 1 | Anderson-Darling |    m0     |    0.7453 |    0.0376 |    NO     |\n",
       "| 2 | Anderson-Darling |    m25    |    0.4320 |    0.2530 |    YES    |\n",
       "| 3 | Anderson-Darling |    m50    |    0.1646 |    0.9207 |    YES    |\n",
       "| 4 | Anderson-Darling |    m75    |    0.7242 |    0.0428 |    NO     |\n",
       "| 5 | Anderson-Darling |    w0     |    0.9226 |    0.0127 |    NO     |\n",
       "| 6 | Anderson-Darling |    w25    |    0.7913 |    0.0283 |    NO     |\n",
       "| 7 | Anderson-Darling |    w50    |    0.2244 |    0.7706 |    YES    |\n",
       "| 8 | Anderson-Darling |    w75    |    0.5168 |    0.1503 |    YES    |\n",
       "\n",
       "\n",
       "$Descriptives\n",
       ":   \n",
       "A data.frame: 8 × 10\n",
       "\n",
       "| <!--/--> | n &lt;int&gt; | Mean &lt;dbl&gt; | Std.Dev &lt;dbl&gt; | Median &lt;dbl&gt; | Min &lt;dbl&gt; | Max &lt;dbl&gt; | 25th &lt;dbl&gt; | 75th &lt;dbl&gt; | Skew &lt;dbl&gt; | Kurtosis &lt;dbl&gt; |\n",
       "|---|---|---|---|---|---|---|---|---|---|---|\n",
       "| m0 | 12 |  0.000000e+00 | 1 |  0.3415190 | -2.071882 | 1.1156288 | -0.20491142 | 0.6830381 | -0.9399209 | -0.5326708 |\n",
       "| m25 | 12 | -3.405389e-16 | 1 |  0.2322102 | -1.857681 | 1.2074929 | -0.49925189 | 0.6850200 | -0.6583614 | -0.9269783 |\n",
       "| m50 | 12 | -2.451652e-16 | 1 |  0.1721813 | -1.893994 | 1.6185042 | -0.55098015 | 0.4821076 | -0.1814772 | -0.9813260 |\n",
       "| m75 | 12 |  2.289835e-16 | 1 | -0.4927401 | -1.337437 | 2.0413518 | -0.49274009 | 0.5631315 |  0.6850165 | -0.8602563 |\n",
       "| w0 | 12 |  2.116363e-16 | 1 |  0.2974010 | -1.943481 | 1.1273573 | -0.09682823 | 0.5671368 | -1.0119037 | -0.4050227 |\n",
       "| w25 | 12 |  3.099779e-16 | 1 |  0.4213955 | -2.038643 | 0.9680708 | -0.22778135 | 0.6263987 | -0.9453181 | -0.5422707 |\n",
       "| w50 | 12 | -2.428613e-16 | 1 |  0.1193175 | -1.926125 | 1.5511273 | -0.39204315 | 0.5284060 | -0.2742159 | -0.8143293 |\n",
       "| w75 | 12 | -1.491862e-16 | 1 | -0.1564537 | -1.229279 | 2.2574028 | -0.69286621 | 0.3129073 |  0.8698292 | -0.3104910 |\n",
       "\n",
       "\n",
       "\n",
       "\n"
      ],
      "text/plain": [
       "$multivariateNormality\n",
       "             Test         Statistic           p value Result\n",
       "1 Mardia Skewness   138.33873195999 0.120829657230273    YES\n",
       "2 Mardia Kurtosis -1.30260122836326 0.192710938202482    YES\n",
       "3             MVN              <NA>              <NA>    YES\n",
       "\n",
       "$univariateNormality\n",
       "              Test  Variable Statistic   p value Normality\n",
       "1 Anderson-Darling    m0        0.7453    0.0376    NO    \n",
       "2 Anderson-Darling    m25       0.4320    0.2530    YES   \n",
       "3 Anderson-Darling    m50       0.1646    0.9207    YES   \n",
       "4 Anderson-Darling    m75       0.7242    0.0428    NO    \n",
       "5 Anderson-Darling    w0        0.9226    0.0127    NO    \n",
       "6 Anderson-Darling    w25       0.7913    0.0283    NO    \n",
       "7 Anderson-Darling    w50       0.2244    0.7706    YES   \n",
       "8 Anderson-Darling    w75       0.5168    0.1503    YES   \n",
       "\n",
       "$Descriptives\n",
       "     n          Mean Std.Dev     Median       Min       Max        25th\n",
       "m0  12  0.000000e+00       1  0.3415190 -2.071882 1.1156288 -0.20491142\n",
       "m25 12 -3.405389e-16       1  0.2322102 -1.857681 1.2074929 -0.49925189\n",
       "m50 12 -2.451652e-16       1  0.1721813 -1.893994 1.6185042 -0.55098015\n",
       "m75 12  2.289835e-16       1 -0.4927401 -1.337437 2.0413518 -0.49274009\n",
       "w0  12  2.116363e-16       1  0.2974010 -1.943481 1.1273573 -0.09682823\n",
       "w25 12  3.099779e-16       1  0.4213955 -2.038643 0.9680708 -0.22778135\n",
       "w50 12 -2.428613e-16       1  0.1193175 -1.926125 1.5511273 -0.39204315\n",
       "w75 12 -1.491862e-16       1 -0.1564537 -1.229279 2.2574028 -0.69286621\n",
       "         75th       Skew   Kurtosis\n",
       "m0  0.6830381 -0.9399209 -0.5326708\n",
       "m25 0.6850200 -0.6583614 -0.9269783\n",
       "m50 0.4821076 -0.1814772 -0.9813260\n",
       "m75 0.5631315  0.6850165 -0.8602563\n",
       "w0  0.5671368 -1.0119037 -0.4050227\n",
       "w25 0.6263987 -0.9453181 -0.5422707\n",
       "w50 0.5284060 -0.2742159 -0.8143293\n",
       "w75 0.3129073  0.8698292 -0.3104910\n"
      ]
     },
     "metadata": {},
     "output_type": "display_data"
    }
   ],
   "source": [
    "#normality test\n",
    "library(MVN)\n",
    "result <- mvn(data =data,mvnTest = \"mardia\")\n",
    "result"
   ]
  },
  {
   "cell_type": "code",
   "execution_count": 9,
   "id": "b1aa41cc",
   "metadata": {
    "ExecuteTime": {
     "end_time": "2022-06-18T09:45:57.739623Z",
     "start_time": "2022-06-18T09:45:56.439Z"
    }
   },
   "outputs": [
    {
     "data": {
      "text/plain": [
       "\tBartlett's Test of Sphericity\n",
       "\n",
       "Call: bart_spher(x = data)\n",
       "\n",
       "     X2 = 171.485\n",
       "     df = 28\n",
       "p-value < 2.22e-16"
      ]
     },
     "metadata": {},
     "output_type": "display_data"
    },
    {
     "data": {
      "text/plain": [
       "Kaiser-Meyer-Olkin factor adequacy\n",
       "Call: KMO(r = data)\n",
       "Overall MSA =  0.77\n",
       "MSA for each item = \n",
       "  m0  m25  m50  m75   w0  w25  w50  w75 \n",
       "0.80 0.80 0.74 0.73 0.77 0.75 0.89 0.69 "
      ]
     },
     "metadata": {},
     "output_type": "display_data"
    }
   ],
   "source": [
    "#Bartlett test dan KMO\n",
    "bart_spher(data)\n",
    "KMO(data)"
   ]
  },
  {
   "cell_type": "code",
   "execution_count": 10,
   "id": "9fe4b1b4",
   "metadata": {
    "ExecuteTime": {
     "end_time": "2022-06-18T09:45:57.778633Z",
     "start_time": "2022-06-18T09:45:56.440Z"
    },
    "scrolled": true
   },
   "outputs": [
    {
     "data": {
      "text/plain": [
       "eigen() decomposition\n",
       "$values\n",
       "[1] 6.511080569 1.008772479 0.393991114 0.053555658 0.018598879 0.009567193\n",
       "[7] 0.002605459 0.001828649\n",
       "\n",
       "$vectors\n",
       "           [,1]        [,2]        [,3]        [,4]        [,5]        [,6]\n",
       "[1,] -0.3486081  0.44948287 -0.03419857 -0.04807949  0.31292936  0.38640895\n",
       "[2,] -0.3825963  0.10719566 -0.23253736  0.21101139 -0.76480569 -0.22625685\n",
       "[3,] -0.3691220 -0.08578984 -0.45362827  0.63066757  0.38242139 -0.10130373\n",
       "[4,] -0.3102859 -0.52711366 -0.44636700 -0.48842242 -0.01522675  0.39682721\n",
       "[5,] -0.3421420  0.46764416  0.19576228 -0.10462643  0.06977774  0.13484136\n",
       "[6,] -0.3846303  0.12119298  0.20406775 -0.23912589 -0.23911329  0.04046371\n",
       "[7,] -0.3815435 -0.16429791  0.17228340 -0.33475701  0.32789998 -0.73078988\n",
       "[8,] -0.2983069 -0.49080844  0.65580991  0.36969498 -0.03327181  0.27908480\n",
       "            [,7]       [,8]\n",
       "[1,]  0.62551802 -0.1855988\n",
       "[2,]  0.28410811  0.1633782\n",
       "[3,] -0.28537464 -0.1221541\n",
       "[4,] -0.04355184  0.1687407\n",
       "[5,] -0.45907288  0.6173971\n",
       "[6,] -0.42386521 -0.7071582\n",
       "[7,]  0.19761987  0.0711412\n",
       "[8,]  0.12333332  0.0956691\n"
      ]
     },
     "metadata": {},
     "output_type": "display_data"
    }
   ],
   "source": [
    "#Analisis Faktor\n",
    "R<-cov(data)\n",
    "eigen<-eigen(R)\n",
    "eigen"
   ]
  },
  {
   "cell_type": "code",
   "execution_count": 14,
   "id": "d9d54a70",
   "metadata": {
    "ExecuteTime": {
     "end_time": "2022-06-18T09:52:55.602504Z",
     "start_time": "2022-06-18T09:52:55.565Z"
    }
   },
   "outputs": [
    {
     "data": {
      "text/plain": [
       "\n",
       "Call:\n",
       "factanal(x = data, factors = 3, method = \"mle\")\n",
       "\n",
       "Uniquenesses:\n",
       "   m0   m25   m50   m75    w0   w25   w50   w75 \n",
       "0.005 0.020 0.030 0.028 0.005 0.005 0.010 0.065 \n",
       "\n",
       "Loadings:\n",
       "    Factor1 Factor2 Factor3\n",
       "m0  0.948   0.272   0.152  \n",
       "m25 0.758   0.563   0.298  \n",
       "m50 0.592   0.736   0.278  \n",
       "m75 0.180   0.840   0.483  \n",
       "w0  0.958   0.152   0.236  \n",
       "w25 0.794   0.362   0.484  \n",
       "w50 0.587   0.503   0.627  \n",
       "w75 0.234   0.347   0.872  \n",
       "\n",
       "               Factor1 Factor2 Factor3\n",
       "SS loadings      3.804   2.165   1.866\n",
       "Proportion Var   0.475   0.271   0.233\n",
       "Cumulative Var   0.475   0.746   0.979\n",
       "\n",
       "Test of the hypothesis that 3 factors are sufficient.\n",
       "The chi square statistic is 8.84 on 7 degrees of freedom.\n",
       "The p-value is 0.264 "
      ]
     },
     "metadata": {},
     "output_type": "display_data"
    }
   ],
   "source": [
    "factanal(x=data,factors=3,method=\"mle\") # Ubah factors sesuai soal"
   ]
  },
  {
   "cell_type": "markdown",
   "id": "8fee0800",
   "metadata": {
    "ExecuteTime": {
     "end_time": "2022-06-18T09:04:27.093770Z",
     "start_time": "2022-06-18T09:04:25.921Z"
    }
   },
   "source": [
    "Terlihat bahwa faktor pertama didominasi oleh harapan hidup saat lahir bagi laki-laki (0.948) dan perempuan (0.958); mungkin faktor ini bisa diberi label \"ketahanan hidup\n",
    "saat lahir\" <br>\n",
    "Yang kedua mencerminkan harapan hidup pada usia yang lebih tua pada laki-laki (0.736 dan 0.840), kita mungkin dapat menyebutnya \"ketahanan hidup laki-laki\". <br>\n",
    "Faktor ketiga dari rotasi varimax memiliki beban tertinggi untuk harapan hidup perempuan berusia 50 dan 75 dan dalam nada yang sama mungkin diberi label\n",
    "“ketahanan hidup untuk perempuan lanjut usia”."
   ]
  },
  {
   "cell_type": "code",
   "execution_count": null,
   "id": "cf1302e4",
   "metadata": {},
   "outputs": [],
   "source": []
  }
 ],
 "metadata": {
  "kernelspec": {
   "display_name": "R",
   "language": "R",
   "name": "ir"
  },
  "language_info": {
   "codemirror_mode": "r",
   "file_extension": ".r",
   "mimetype": "text/x-r-source",
   "name": "R",
   "pygments_lexer": "r",
   "version": "4.0.5"
  },
  "toc": {
   "base_numbering": 1,
   "nav_menu": {},
   "number_sections": true,
   "sideBar": true,
   "skip_h1_title": false,
   "title_cell": "Table of Contents",
   "title_sidebar": "Contents",
   "toc_cell": false,
   "toc_position": {},
   "toc_section_display": true,
   "toc_window_display": false
  }
 },
 "nbformat": 4,
 "nbformat_minor": 5
}
