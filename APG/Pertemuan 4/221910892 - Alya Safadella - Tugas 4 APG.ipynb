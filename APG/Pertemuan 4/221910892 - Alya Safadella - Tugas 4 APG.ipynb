{
 "cells": [
  {
   "cell_type": "markdown",
   "id": "f91c2b42",
   "metadata": {},
   "source": [
    "# Packages"
   ]
  },
  {
   "cell_type": "code",
   "execution_count": 1,
   "id": "60c732f2",
   "metadata": {
    "ExecuteTime": {
     "end_time": "2022-03-13T08:17:20.549452Z",
     "start_time": "2022-03-13T08:17:19.645Z"
    }
   },
   "outputs": [
    {
     "name": "stderr",
     "output_type": "stream",
     "text": [
      "Loading required package: carData\n",
      "\n",
      "\n",
      "Attaching package: 'MVTests'\n",
      "\n",
      "\n",
      "The following object is masked from 'package:datasets':\n",
      "\n",
      "    iris\n",
      "\n",
      "\n",
      "\n",
      "Attaching package: 'ellipse'\n",
      "\n",
      "\n",
      "The following object is masked from 'package:car':\n",
      "\n",
      "    ellipse\n",
      "\n",
      "\n",
      "The following object is masked from 'package:graphics':\n",
      "\n",
      "    pairs\n",
      "\n",
      "\n"
     ]
    }
   ],
   "source": [
    "library(readxl)\n",
    "library(car)\n",
    "library(MVTests)\n",
    "library(ellipse)\n",
    "library(MVN)"
   ]
  },
  {
   "cell_type": "markdown",
   "id": "8bf99712",
   "metadata": {},
   "source": [
    "# PPT"
   ]
  },
  {
   "cell_type": "markdown",
   "id": "258e2243",
   "metadata": {},
   "source": [
    "## Nomor 1"
   ]
  },
  {
   "cell_type": "markdown",
   "id": "d655d7f3",
   "metadata": {},
   "source": [
    "### Manual"
   ]
  },
  {
   "cell_type": "code",
   "execution_count": 2,
   "id": "25b2463e",
   "metadata": {
    "ExecuteTime": {
     "end_time": "2022-03-13T08:17:20.611680Z",
     "start_time": "2022-03-13T08:17:19.648Z"
    }
   },
   "outputs": [
    {
     "data": {
      "text/html": [
       "<table class=\"dataframe\">\n",
       "<caption>A matrix: 4 × 2 of type dbl</caption>\n",
       "<tbody>\n",
       "\t<tr><td> 3</td><td>10</td></tr>\n",
       "\t<tr><td> 6</td><td>12</td></tr>\n",
       "\t<tr><td> 5</td><td>14</td></tr>\n",
       "\t<tr><td>10</td><td> 9</td></tr>\n",
       "</tbody>\n",
       "</table>\n"
      ],
      "text/latex": [
       "A matrix: 4 × 2 of type dbl\n",
       "\\begin{tabular}{ll}\n",
       "\t  3 & 10\\\\\n",
       "\t  6 & 12\\\\\n",
       "\t  5 & 14\\\\\n",
       "\t 10 &  9\\\\\n",
       "\\end{tabular}\n"
      ],
      "text/markdown": [
       "\n",
       "A matrix: 4 × 2 of type dbl\n",
       "\n",
       "|  3 | 10 |\n",
       "|  6 | 12 |\n",
       "|  5 | 14 |\n",
       "| 10 |  9 |\n",
       "\n"
      ],
      "text/plain": [
       "     [,1] [,2]\n",
       "[1,]  3   10  \n",
       "[2,]  6   12  \n",
       "[3,]  5   14  \n",
       "[4,] 10    9  "
      ]
     },
     "metadata": {},
     "output_type": "display_data"
    }
   ],
   "source": [
    "Y1 <- matrix(c(3,6,5,10,10,12,14,9),4,2)\n",
    "Y1"
   ]
  },
  {
   "cell_type": "code",
   "execution_count": 3,
   "id": "e9879e37",
   "metadata": {
    "ExecuteTime": {
     "end_time": "2022-03-13T08:17:20.658711Z",
     "start_time": "2022-03-13T08:17:19.651Z"
    }
   },
   "outputs": [
    {
     "data": {
      "text/html": [
       "<table class=\"dataframe\">\n",
       "<caption>A matrix: 2 × 1 of type dbl</caption>\n",
       "<tbody>\n",
       "\t<tr><td> 6.00</td></tr>\n",
       "\t<tr><td>11.25</td></tr>\n",
       "</tbody>\n",
       "</table>\n"
      ],
      "text/latex": [
       "A matrix: 2 × 1 of type dbl\n",
       "\\begin{tabular}{l}\n",
       "\t  6.00\\\\\n",
       "\t 11.25\\\\\n",
       "\\end{tabular}\n"
      ],
      "text/markdown": [
       "\n",
       "A matrix: 2 × 1 of type dbl\n",
       "\n",
       "|  6.00 |\n",
       "| 11.25 |\n",
       "\n"
      ],
      "text/plain": [
       "     [,1] \n",
       "[1,]  6.00\n",
       "[2,] 11.25"
      ]
     },
     "metadata": {},
     "output_type": "display_data"
    }
   ],
   "source": [
    "Y1row = nrow(Y1)\n",
    "Y1col = ncol(Y1)\n",
    "Y1mu = c(6,11)\n",
    "\n",
    "Y1rep = rep(1,Y1row)\n",
    "Y1bar = 1/Y1row*t(Y1)%*%Y1rep\n",
    "Y1bar"
   ]
  },
  {
   "cell_type": "code",
   "execution_count": 4,
   "id": "14d5e17b",
   "metadata": {
    "ExecuteTime": {
     "end_time": "2022-03-13T08:17:20.695735Z",
     "start_time": "2022-03-13T08:17:19.655Z"
    }
   },
   "outputs": [
    {
     "data": {
      "text/html": [
       "<table class=\"dataframe\">\n",
       "<caption>A matrix: 2 × 2 of type dbl</caption>\n",
       "<tbody>\n",
       "\t<tr><td> 8.666667</td><td>-2.666667</td></tr>\n",
       "\t<tr><td>-2.666667</td><td> 4.916667</td></tr>\n",
       "</tbody>\n",
       "</table>\n"
      ],
      "text/latex": [
       "A matrix: 2 × 2 of type dbl\n",
       "\\begin{tabular}{ll}\n",
       "\t  8.666667 & -2.666667\\\\\n",
       "\t -2.666667 &  4.916667\\\\\n",
       "\\end{tabular}\n"
      ],
      "text/markdown": [
       "\n",
       "A matrix: 2 × 2 of type dbl\n",
       "\n",
       "|  8.666667 | -2.666667 |\n",
       "| -2.666667 |  4.916667 |\n",
       "\n"
      ],
      "text/plain": [
       "     [,1]      [,2]     \n",
       "[1,]  8.666667 -2.666667\n",
       "[2,] -2.666667  4.916667"
      ]
     },
     "metadata": {},
     "output_type": "display_data"
    }
   ],
   "source": [
    "# Matriks Kovarians\n",
    "SY1 <- cov(Y1)\n",
    "SY1"
   ]
  },
  {
   "cell_type": "code",
   "execution_count": 5,
   "id": "6df9c1d4",
   "metadata": {
    "ExecuteTime": {
     "end_time": "2022-03-13T08:17:20.729736Z",
     "start_time": "2022-03-13T08:17:19.658Z"
    }
   },
   "outputs": [
    {
     "data": {
      "text/html": [
       "<table class=\"dataframe\">\n",
       "<caption>A matrix: 1 × 1 of type dbl</caption>\n",
       "<tbody>\n",
       "\t<tr><td>0.06103286</td></tr>\n",
       "</tbody>\n",
       "</table>\n"
      ],
      "text/latex": [
       "A matrix: 1 × 1 of type dbl\n",
       "\\begin{tabular}{l}\n",
       "\t 0.06103286\\\\\n",
       "\\end{tabular}\n"
      ],
      "text/markdown": [
       "\n",
       "A matrix: 1 × 1 of type dbl\n",
       "\n",
       "| 0.06103286 |\n",
       "\n"
      ],
      "text/plain": [
       "     [,1]      \n",
       "[1,] 0.06103286"
      ]
     },
     "metadata": {},
     "output_type": "display_data"
    }
   ],
   "source": [
    "# T^2\n",
    "\n",
    "T2Y1 <- Y1row*t(Y1bar-Y1mu)%*%solve(SY1)%*%(Y1bar-Y1mu)\n",
    "T2Y1"
   ]
  },
  {
   "cell_type": "code",
   "execution_count": 6,
   "id": "aca28793",
   "metadata": {
    "ExecuteTime": {
     "end_time": "2022-03-13T08:17:20.764720Z",
     "start_time": "2022-03-13T08:17:19.660Z"
    }
   },
   "outputs": [
    {
     "data": {
      "text/html": [
       "57"
      ],
      "text/latex": [
       "57"
      ],
      "text/markdown": [
       "57"
      ],
      "text/plain": [
       "[1] 57"
      ]
     },
     "metadata": {},
     "output_type": "display_data"
    }
   ],
   "source": [
    "# alpha = 5%; v1,v2 = 2,2\n",
    "Y1Ftable = 19\n",
    "c2Y1 = (Y1row-1)*Y1col/(Y1row-Y1col)*Y1Ftable\n",
    "c2Y1"
   ]
  },
  {
   "cell_type": "raw",
   "id": "899d9106",
   "metadata": {},
   "source": [
    "0.0610 < 57, T^2 (Uji statistik) < c^2 (F Tabel).\n",
    "Dengan taraf signifikansi 5%, maka gagal tolak H0.\n",
    "Hal ini menunjukkan bahwa nilai rata-rata Y sesuai dengan nilai μ' = (6, 11)"
   ]
  },
  {
   "cell_type": "markdown",
   "id": "2e591922",
   "metadata": {
    "heading_collapsed": true
   },
   "source": [
    "### Menggunakan Package"
   ]
  },
  {
   "cell_type": "raw",
   "id": "e10940c0",
   "metadata": {
    "hidden": true
   },
   "source": [
    "Test Ho : mean' = (6, 11) using the data Y "
   ]
  },
  {
   "cell_type": "code",
   "execution_count": 7,
   "id": "ad22f768",
   "metadata": {
    "ExecuteTime": {
     "end_time": "2022-03-13T08:17:20.815677Z",
     "start_time": "2022-03-13T08:17:19.678Z"
    },
    "hidden": true,
    "scrolled": true
   },
   "outputs": [
    {
     "data": {
      "text/html": [
       "<table class=\"dataframe\">\n",
       "<caption>A data.frame: 4 × 2</caption>\n",
       "<thead>\n",
       "\t<tr><th scope=col>c1</th><th scope=col>c2</th></tr>\n",
       "\t<tr><th scope=col>&lt;dbl&gt;</th><th scope=col>&lt;dbl&gt;</th></tr>\n",
       "</thead>\n",
       "<tbody>\n",
       "\t<tr><td> 3</td><td>10</td></tr>\n",
       "\t<tr><td> 6</td><td>12</td></tr>\n",
       "\t<tr><td> 5</td><td>14</td></tr>\n",
       "\t<tr><td>10</td><td> 9</td></tr>\n",
       "</tbody>\n",
       "</table>\n"
      ],
      "text/latex": [
       "A data.frame: 4 × 2\n",
       "\\begin{tabular}{ll}\n",
       " c1 & c2\\\\\n",
       " <dbl> & <dbl>\\\\\n",
       "\\hline\n",
       "\t  3 & 10\\\\\n",
       "\t  6 & 12\\\\\n",
       "\t  5 & 14\\\\\n",
       "\t 10 &  9\\\\\n",
       "\\end{tabular}\n"
      ],
      "text/markdown": [
       "\n",
       "A data.frame: 4 × 2\n",
       "\n",
       "| c1 &lt;dbl&gt; | c2 &lt;dbl&gt; |\n",
       "|---|---|\n",
       "|  3 | 10 |\n",
       "|  6 | 12 |\n",
       "|  5 | 14 |\n",
       "| 10 |  9 |\n",
       "\n"
      ],
      "text/plain": [
       "  c1 c2\n",
       "1  3 10\n",
       "2  6 12\n",
       "3  5 14\n",
       "4 10  9"
      ]
     },
     "metadata": {},
     "output_type": "display_data"
    }
   ],
   "source": [
    "c1 <- c(3, 6, 5, 10)\n",
    "c2 <- c(10, 12, 14, 9)\n",
    "Y <- data.frame(c1, c2)\n",
    "Y"
   ]
  },
  {
   "cell_type": "markdown",
   "id": "23b8dd1f",
   "metadata": {
    "hidden": true
   },
   "source": [
    "Uji Ho : mean' = (6, 11) dengan taraf signifikansi alpha = 5%"
   ]
  },
  {
   "cell_type": "code",
   "execution_count": 8,
   "id": "4918c68c",
   "metadata": {
    "ExecuteTime": {
     "end_time": "2022-03-13T08:17:20.848676Z",
     "start_time": "2022-03-13T08:17:19.682Z"
    },
    "hidden": true
   },
   "outputs": [
    {
     "name": "stdout",
     "output_type": "stream",
     "text": [
      "       One Sample Hotelling T Square Test \n",
      "\n",
      "Hotelling T Sqaure Statistic = 0.06103286 \n",
      " F value = 0.02 , df1 = 2 , df2 = 2 , p-value: 0.98 \n",
      "\n",
      "   \t              Descriptive Statistics\n",
      "\n",
      "           c1        c2\n",
      "N     4.00000  4.000000\n",
      "Means 6.00000 11.250000\n",
      "Sd    2.94392  2.217356\n",
      "\n",
      "\n",
      "  \t            Detection important variable(s)\n",
      "\n",
      "       Lower    Upper Mu0 Important Variables?\n",
      "c1 -5.113055 17.11306   6                FALSE\n",
      "c2  2.879665 19.62033  11                FALSE\n"
     ]
    }
   ],
   "source": [
    "meanH0 <- c(6, 11)\n",
    "uji <- OneSampleHT2(data = Y, mu0 = meanH0, alpha = 0.05)\n",
    "summary(uji)"
   ]
  },
  {
   "cell_type": "raw",
   "id": "7492a197",
   "metadata": {
    "hidden": true
   },
   "source": [
    "0.98 > 0.05, p-value > α.\n",
    "Dengan taraf signifikansi 5%, maka gagal tolak H0.\n",
    "Hal ini menunjukkan bahwa nilai rata-rata Y sesuai dengan nilai μ' = (6, 11)"
   ]
  },
  {
   "cell_type": "markdown",
   "id": "22d7d4a7",
   "metadata": {},
   "source": [
    "## Nomor 2"
   ]
  },
  {
   "cell_type": "raw",
   "id": "cab350c2",
   "metadata": {},
   "source": [
    "Timm (1947, p.233; 1980, p.47) reported the results of an experiment where subjects responded to “probe wordds” at five position in a sentence. The variables are response times for the j-th probe word, yj, j = 1, 2, …, 5. The data are given in below (will be attached)."
   ]
  },
  {
   "cell_type": "markdown",
   "id": "90a95865",
   "metadata": {},
   "source": [
    "### 2a"
   ]
  },
  {
   "cell_type": "raw",
   "id": "97271e69",
   "metadata": {},
   "source": [
    "Test H0 : mean' = (30, 25, 40, 25, 30)"
   ]
  },
  {
   "cell_type": "code",
   "execution_count": 9,
   "id": "5f65a2ac",
   "metadata": {
    "ExecuteTime": {
     "end_time": "2022-03-13T08:17:20.889718Z",
     "start_time": "2022-03-13T08:17:19.714Z"
    }
   },
   "outputs": [
    {
     "data": {
      "text/html": [
       "<table class=\"dataframe\">\n",
       "<caption>A data.frame: 11 × 5</caption>\n",
       "<thead>\n",
       "\t<tr><th scope=col>y1</th><th scope=col>y2</th><th scope=col>y3</th><th scope=col>y4</th><th scope=col>y5</th></tr>\n",
       "\t<tr><th scope=col>&lt;dbl&gt;</th><th scope=col>&lt;dbl&gt;</th><th scope=col>&lt;dbl&gt;</th><th scope=col>&lt;dbl&gt;</th><th scope=col>&lt;dbl&gt;</th></tr>\n",
       "</thead>\n",
       "<tbody>\n",
       "\t<tr><td>51</td><td>36</td><td>50</td><td>35</td><td>42</td></tr>\n",
       "\t<tr><td>27</td><td>20</td><td>26</td><td>17</td><td>27</td></tr>\n",
       "\t<tr><td>37</td><td>22</td><td>41</td><td>37</td><td>30</td></tr>\n",
       "\t<tr><td>42</td><td>36</td><td>32</td><td>34</td><td>27</td></tr>\n",
       "\t<tr><td>27</td><td>18</td><td>33</td><td>14</td><td>29</td></tr>\n",
       "\t<tr><td>43</td><td>32</td><td>43</td><td>35</td><td>40</td></tr>\n",
       "\t<tr><td>41</td><td>22</td><td>36</td><td>25</td><td>38</td></tr>\n",
       "\t<tr><td>38</td><td>21</td><td>31</td><td>20</td><td>16</td></tr>\n",
       "\t<tr><td>36</td><td>23</td><td>27</td><td>25</td><td>28</td></tr>\n",
       "\t<tr><td>26</td><td>31</td><td>31</td><td>32</td><td>36</td></tr>\n",
       "\t<tr><td>29</td><td>20</td><td>25</td><td>26</td><td>25</td></tr>\n",
       "</tbody>\n",
       "</table>\n"
      ],
      "text/latex": [
       "A data.frame: 11 × 5\n",
       "\\begin{tabular}{lllll}\n",
       " y1 & y2 & y3 & y4 & y5\\\\\n",
       " <dbl> & <dbl> & <dbl> & <dbl> & <dbl>\\\\\n",
       "\\hline\n",
       "\t 51 & 36 & 50 & 35 & 42\\\\\n",
       "\t 27 & 20 & 26 & 17 & 27\\\\\n",
       "\t 37 & 22 & 41 & 37 & 30\\\\\n",
       "\t 42 & 36 & 32 & 34 & 27\\\\\n",
       "\t 27 & 18 & 33 & 14 & 29\\\\\n",
       "\t 43 & 32 & 43 & 35 & 40\\\\\n",
       "\t 41 & 22 & 36 & 25 & 38\\\\\n",
       "\t 38 & 21 & 31 & 20 & 16\\\\\n",
       "\t 36 & 23 & 27 & 25 & 28\\\\\n",
       "\t 26 & 31 & 31 & 32 & 36\\\\\n",
       "\t 29 & 20 & 25 & 26 & 25\\\\\n",
       "\\end{tabular}\n"
      ],
      "text/markdown": [
       "\n",
       "A data.frame: 11 × 5\n",
       "\n",
       "| y1 &lt;dbl&gt; | y2 &lt;dbl&gt; | y3 &lt;dbl&gt; | y4 &lt;dbl&gt; | y5 &lt;dbl&gt; |\n",
       "|---|---|---|---|---|\n",
       "| 51 | 36 | 50 | 35 | 42 |\n",
       "| 27 | 20 | 26 | 17 | 27 |\n",
       "| 37 | 22 | 41 | 37 | 30 |\n",
       "| 42 | 36 | 32 | 34 | 27 |\n",
       "| 27 | 18 | 33 | 14 | 29 |\n",
       "| 43 | 32 | 43 | 35 | 40 |\n",
       "| 41 | 22 | 36 | 25 | 38 |\n",
       "| 38 | 21 | 31 | 20 | 16 |\n",
       "| 36 | 23 | 27 | 25 | 28 |\n",
       "| 26 | 31 | 31 | 32 | 36 |\n",
       "| 29 | 20 | 25 | 26 | 25 |\n",
       "\n"
      ],
      "text/plain": [
       "   y1 y2 y3 y4 y5\n",
       "1  51 36 50 35 42\n",
       "2  27 20 26 17 27\n",
       "3  37 22 41 37 30\n",
       "4  42 36 32 34 27\n",
       "5  27 18 33 14 29\n",
       "6  43 32 43 35 40\n",
       "7  41 22 36 25 38\n",
       "8  38 21 31 20 16\n",
       "9  36 23 27 25 28\n",
       "10 26 31 31 32 36\n",
       "11 29 20 25 26 25"
      ]
     },
     "metadata": {},
     "output_type": "display_data"
    }
   ],
   "source": [
    "y1 <- c(51, 27, 37, 42, 27, 43, 41, 38, 36, 26, 29)\n",
    "y2 <- c(36, 20, 22, 36, 18, 32, 22, 21, 23, 31, 20)\n",
    "y3 <- c(50, 26, 41, 32, 33, 43, 36, 31, 27, 31, 25)\n",
    "y4 <- c(35, 17, 37, 34, 14, 35, 25, 20, 25, 32, 26)\n",
    "y5 <- c(42, 27, 30, 27, 29, 40, 38, 16, 28, 36, 25)\n",
    "Y2 <- data.frame(y1, y2, y3, y4, y5)\n",
    "Y2"
   ]
  },
  {
   "cell_type": "raw",
   "id": "ed1610be",
   "metadata": {},
   "source": [
    "Uji Ho : mean’ = (30, 25, 40, 25, 30) dengan taraf signifikansi alpha = 5%"
   ]
  },
  {
   "cell_type": "code",
   "execution_count": 10,
   "id": "ac47bfcc",
   "metadata": {
    "ExecuteTime": {
     "end_time": "2022-03-13T08:17:20.922678Z",
     "start_time": "2022-03-13T08:17:19.731Z"
    }
   },
   "outputs": [
    {
     "name": "stdout",
     "output_type": "stream",
     "text": [
      "       One Sample Hotelling T Square Test \n",
      "\n",
      "Hotelling T Sqaure Statistic = 85.3327 \n",
      " F value = 10.24 , df1 = 5 , df2 = 6 , p-value: 0.0067 \n",
      "\n",
      "   \t              Descriptive Statistics\n",
      "\n",
      "             y1        y2        y3        y4        y5\n",
      "N     11.000000 11.000000 11.000000 11.000000 11.000000\n",
      "Means 36.090909 25.545455 34.090909 27.272727 30.727273\n",
      "Sd     8.067894  6.787689  7.790437  7.925792  7.630084\n",
      "\n",
      "\n",
      "  \t            Detection important variable(s)\n",
      "\n",
      "      Lower    Upper Mu0 Important Variables?\n",
      "y1 21.38217 50.79965  30                FALSE\n",
      "y2 13.17068 37.92023  25                FALSE\n",
      "y3 19.88800 48.29381  40                FALSE\n",
      "y4 12.82305 41.72240  25                FALSE\n",
      "y5 16.81671 44.63784  30                FALSE\n"
     ]
    }
   ],
   "source": [
    "Y2mu <- c(30, 25, 40, 25, 30)\n",
    "Y2test <- OneSampleHT2(data = Y2, mu0 = Y2mu, alpha = 0.05)\n",
    "summary(Y2test)"
   ]
  },
  {
   "cell_type": "raw",
   "id": "00668877",
   "metadata": {},
   "source": [
    "0.00087 < 0.05, p-value < α.\n",
    "Dengan taraf signifikansi 5%, maka tolak H0.\n",
    "Hal ini menunjukkan bahwa nilai rata-rata Y tidak sesuai dengan nilai μ' = (30, 25, 40, 30)"
   ]
  },
  {
   "cell_type": "markdown",
   "id": "18e0c6b1",
   "metadata": {},
   "source": [
    "### 2b"
   ]
  },
  {
   "cell_type": "raw",
   "id": "3d529de8",
   "metadata": {},
   "source": [
    "If H0 is rejected, test each variable separately"
   ]
  },
  {
   "cell_type": "markdown",
   "id": "3343375a",
   "metadata": {},
   "source": [
    "#### Uji T pada y1 dengan mean = 30"
   ]
  },
  {
   "cell_type": "code",
   "execution_count": 11,
   "id": "df5cf3df",
   "metadata": {
    "ExecuteTime": {
     "end_time": "2022-03-13T08:17:20.951679Z",
     "start_time": "2022-03-13T08:17:19.757Z"
    }
   },
   "outputs": [
    {
     "name": "stdout",
     "output_type": "stream",
     "text": [
      "       One Sample Hotelling T Square Test \n",
      "\n",
      "Hotelling T Sqaure Statistic = 6.269553 \n",
      " F value = 6.27 , df1 = 1 , df2 = 10 , p-value: 0.0312 \n",
      "\n",
      "   \t              Descriptive Statistics\n",
      "\n",
      "           [,1]\n",
      "N     11.000000\n",
      "Means 36.090909\n",
      "Sd     8.067894\n",
      "\n",
      "\n",
      "  \t            Detection important variable(s)\n",
      "\n",
      "     Lower    Upper Mu0 Important Variables?\n",
      "1 30.67082 41.51099  30               *TRUE*\n"
     ]
    }
   ],
   "source": [
    "y1test <- OneSampleHT2(data = y1, mu0 = 30, alpha = 0.05)\n",
    "summary(y1test)"
   ]
  },
  {
   "cell_type": "raw",
   "id": "76295637",
   "metadata": {
    "ExecuteTime": {
     "end_time": "2022-03-13T07:38:21.025264Z",
     "start_time": "2022-03-13T07:38:20.425Z"
    }
   },
   "source": [
    "0.0312 < 0.05, p-value < α.\n",
    "Dengan taraf signifikansi 5%, maka tolak H0."
   ]
  },
  {
   "cell_type": "markdown",
   "id": "374a2b42",
   "metadata": {},
   "source": [
    "#### Uji T pada y2 dengan mean = 25"
   ]
  },
  {
   "cell_type": "code",
   "execution_count": 12,
   "id": "afc5e4bd",
   "metadata": {
    "ExecuteTime": {
     "end_time": "2022-03-13T08:17:20.980680Z",
     "start_time": "2022-03-13T08:17:19.774Z"
    }
   },
   "outputs": [
    {
     "name": "stdout",
     "output_type": "stream",
     "text": [
      "       One Sample Hotelling T Square Test \n",
      "\n",
      "Hotelling T Sqaure Statistic = 0.07103394 \n",
      " F value = 0.071 , df1 = 1 , df2 = 10 , p-value: 0.795 \n",
      "\n",
      "   \t              Descriptive Statistics\n",
      "\n",
      "           [,1]\n",
      "N     11.000000\n",
      "Means 25.545455\n",
      "Sd     6.787689\n",
      "\n",
      "\n",
      "  \t            Detection important variable(s)\n",
      "\n",
      "     Lower    Upper Mu0 Important Variables?\n",
      "1 20.98542 30.10549  25                FALSE\n"
     ]
    }
   ],
   "source": [
    "y2test <- OneSampleHT2(data = y2, mu0 = 25 , alpha = 0.05)\n",
    "summary(y2test)"
   ]
  },
  {
   "cell_type": "raw",
   "id": "8f919810",
   "metadata": {
    "ExecuteTime": {
     "end_time": "2022-03-13T07:38:51.006228Z",
     "start_time": "2022-03-13T07:38:50.982Z"
    }
   },
   "source": [
    "0.795 > 0.05, p-value > α.\n",
    "Dengan taraf signifikansi 5%, maka gagal tolak H0."
   ]
  },
  {
   "cell_type": "markdown",
   "id": "53b4d7cf",
   "metadata": {},
   "source": [
    "#### Uji T pada y3 dengan mean = 40"
   ]
  },
  {
   "cell_type": "code",
   "execution_count": 13,
   "id": "b202889e",
   "metadata": {
    "ExecuteTime": {
     "end_time": "2022-03-13T08:17:21.013676Z",
     "start_time": "2022-03-13T08:17:19.795Z"
    }
   },
   "outputs": [
    {
     "name": "stdout",
     "output_type": "stream",
     "text": [
      "       One Sample Hotelling T Square Test \n",
      "\n",
      "Hotelling T Sqaure Statistic = 6.32864 \n",
      " F value = 6.329 , df1 = 1 , df2 = 10 , p-value: 0.0306 \n",
      "\n",
      "   \t              Descriptive Statistics\n",
      "\n",
      "           [,1]\n",
      "N     11.000000\n",
      "Means 34.090909\n",
      "Sd     7.790437\n",
      "\n",
      "\n",
      "  \t            Detection important variable(s)\n",
      "\n",
      "     Lower   Upper Mu0 Important Variables?\n",
      "1 28.85722 39.3246  40               *TRUE*\n"
     ]
    }
   ],
   "source": [
    "y3test <- OneSampleHT2(data = y3, mu0 = 40 , alpha = 0.05)\n",
    "summary(y3test)"
   ]
  },
  {
   "cell_type": "raw",
   "id": "19a5ee35",
   "metadata": {
    "ExecuteTime": {
     "end_time": "2022-03-13T07:38:21.048666Z",
     "start_time": "2022-03-13T07:38:20.435Z"
    }
   },
   "source": [
    "0.0306 < 0.05, p-value < α.\n",
    "Dengan taraf signifikansi 5%, maka tolak H0."
   ]
  },
  {
   "cell_type": "markdown",
   "id": "d2296a14",
   "metadata": {},
   "source": [
    "#### Uji T pada y4 dengan mean = 25"
   ]
  },
  {
   "cell_type": "code",
   "execution_count": 14,
   "id": "28e8e48a",
   "metadata": {
    "ExecuteTime": {
     "end_time": "2022-03-13T08:17:21.044717Z",
     "start_time": "2022-03-13T08:17:19.813Z"
    }
   },
   "outputs": [
    {
     "name": "stdout",
     "output_type": "stream",
     "text": [
      "       One Sample Hotelling T Square Test \n",
      "\n",
      "Hotelling T Sqaure Statistic = 0.9044863 \n",
      " F value = 0.904 , df1 = 1 , df2 = 10 , p-value: 0.364 \n",
      "\n",
      "   \t              Descriptive Statistics\n",
      "\n",
      "           [,1]\n",
      "N     11.000000\n",
      "Means 27.272727\n",
      "Sd     7.925792\n",
      "\n",
      "\n",
      "  \t            Detection important variable(s)\n",
      "\n",
      "     Lower    Upper Mu0 Important Variables?\n",
      "1 21.94811 32.59735  25                FALSE\n"
     ]
    }
   ],
   "source": [
    "y4test <- OneSampleHT2(data = y4, mu0 = 25 , alpha = 0.05)\n",
    "summary(y4test)"
   ]
  },
  {
   "cell_type": "raw",
   "id": "f6308828",
   "metadata": {
    "ExecuteTime": {
     "end_time": "2022-03-13T07:38:21.056688Z",
     "start_time": "2022-03-13T07:38:20.442Z"
    }
   },
   "source": [
    "0.364 > 0.05, p-value > α.\n",
    "Dengan taraf signifikansi 5%, maka gagal tolak H0."
   ]
  },
  {
   "cell_type": "markdown",
   "id": "b2687c23",
   "metadata": {},
   "source": [
    "#### Uji T pada y5 dengan mean = 30"
   ]
  },
  {
   "cell_type": "code",
   "execution_count": 15,
   "id": "9402c28d",
   "metadata": {
    "ExecuteTime": {
     "end_time": "2022-03-13T08:17:21.078718Z",
     "start_time": "2022-03-13T08:17:19.831Z"
    }
   },
   "outputs": [
    {
     "name": "stdout",
     "output_type": "stream",
     "text": [
      "       One Sample Hotelling T Square Test \n",
      "\n",
      "Hotelling T Sqaure Statistic = 0.09993754 \n",
      " F value = 0.1 , df1 = 1 , df2 = 10 , p-value: 0.758 \n",
      "\n",
      "   \t              Descriptive Statistics\n",
      "\n",
      "           [,1]\n",
      "N     11.000000\n",
      "Means 30.727273\n",
      "Sd     7.630084\n",
      "\n",
      "\n",
      "  \t            Detection important variable(s)\n",
      "\n",
      "     Lower    Upper Mu0 Important Variables?\n",
      "1 25.60131 35.85323  30                FALSE\n"
     ]
    }
   ],
   "source": [
    "y5test <- OneSampleHT2(data = y5, mu0 = 30 , alpha = 0.05)\n",
    "summary(y5test)"
   ]
  },
  {
   "cell_type": "raw",
   "id": "09665287",
   "metadata": {
    "ExecuteTime": {
     "end_time": "2022-03-13T07:38:21.064981Z",
     "start_time": "2022-03-13T07:38:20.448Z"
    }
   },
   "source": [
    "0.758 > 0.05, p-value > α.\n",
    "Dengan taraf signifikansi 5%, maka gagal tolak H0."
   ]
  },
  {
   "cell_type": "markdown",
   "id": "bc3b9149",
   "metadata": {},
   "source": [
    "# Modul"
   ]
  },
  {
   "cell_type": "raw",
   "id": "c7d7256e",
   "metadata": {},
   "source": [
    "Gunakan data “the college test data” Table 5.2. (See Example 5.5. Jhonson & Wichern, 2002)"
   ]
  },
  {
   "cell_type": "code",
   "execution_count": 16,
   "id": "dc8fef47",
   "metadata": {
    "ExecuteTime": {
     "end_time": "2022-03-13T08:17:21.159679Z",
     "start_time": "2022-03-13T08:17:19.857Z"
    },
    "scrolled": true
   },
   "outputs": [
    {
     "data": {
      "text/html": [
       "<table class=\"dataframe\">\n",
       "<caption>A tibble: 87 × 3</caption>\n",
       "<thead>\n",
       "\t<tr><th scope=col>X1_SocSciHist</th><th scope=col>X2_Verbal</th><th scope=col>X3_Science</th></tr>\n",
       "\t<tr><th scope=col>&lt;dbl&gt;</th><th scope=col>&lt;dbl&gt;</th><th scope=col>&lt;dbl&gt;</th></tr>\n",
       "</thead>\n",
       "<tbody>\n",
       "\t<tr><td>468</td><td>41</td><td>26</td></tr>\n",
       "\t<tr><td>428</td><td>39</td><td>26</td></tr>\n",
       "\t<tr><td>514</td><td>53</td><td>21</td></tr>\n",
       "\t<tr><td>547</td><td>67</td><td>33</td></tr>\n",
       "\t<tr><td>614</td><td>61</td><td>27</td></tr>\n",
       "\t<tr><td>501</td><td>67</td><td>29</td></tr>\n",
       "\t<tr><td>421</td><td>46</td><td>22</td></tr>\n",
       "\t<tr><td>527</td><td>50</td><td>23</td></tr>\n",
       "\t<tr><td>527</td><td>55</td><td>19</td></tr>\n",
       "\t<tr><td>620</td><td>72</td><td>32</td></tr>\n",
       "\t<tr><td>587</td><td>63</td><td>31</td></tr>\n",
       "\t<tr><td>541</td><td>59</td><td>19</td></tr>\n",
       "\t<tr><td>561</td><td>53</td><td>26</td></tr>\n",
       "\t<tr><td>468</td><td>62</td><td>20</td></tr>\n",
       "\t<tr><td>614</td><td>65</td><td>28</td></tr>\n",
       "\t<tr><td>527</td><td>48</td><td>21</td></tr>\n",
       "\t<tr><td>507</td><td>32</td><td>27</td></tr>\n",
       "\t<tr><td>580</td><td>64</td><td>21</td></tr>\n",
       "\t<tr><td>507</td><td>59</td><td>21</td></tr>\n",
       "\t<tr><td>521</td><td>54</td><td>23</td></tr>\n",
       "\t<tr><td>574</td><td>52</td><td>25</td></tr>\n",
       "\t<tr><td>587</td><td>64</td><td>31</td></tr>\n",
       "\t<tr><td>488</td><td>51</td><td>27</td></tr>\n",
       "\t<tr><td>488</td><td>62</td><td>18</td></tr>\n",
       "\t<tr><td>587</td><td>56</td><td>26</td></tr>\n",
       "\t<tr><td>421</td><td>38</td><td>16</td></tr>\n",
       "\t<tr><td>481</td><td>52</td><td>26</td></tr>\n",
       "\t<tr><td>428</td><td>40</td><td>19</td></tr>\n",
       "\t<tr><td>640</td><td>65</td><td>25</td></tr>\n",
       "\t<tr><td>574</td><td>61</td><td>28</td></tr>\n",
       "\t<tr><td>⋮</td><td>⋮</td><td>⋮</td></tr>\n",
       "\t<tr><td>408</td><td>51</td><td>19</td></tr>\n",
       "\t<tr><td>441</td><td>35</td><td>22</td></tr>\n",
       "\t<tr><td>435</td><td>60</td><td>20</td></tr>\n",
       "\t<tr><td>501</td><td>54</td><td>21</td></tr>\n",
       "\t<tr><td>507</td><td>42</td><td>24</td></tr>\n",
       "\t<tr><td>620</td><td>71</td><td>36</td></tr>\n",
       "\t<tr><td>415</td><td>52</td><td>20</td></tr>\n",
       "\t<tr><td>554</td><td>69</td><td>30</td></tr>\n",
       "\t<tr><td>348</td><td>28</td><td>18</td></tr>\n",
       "\t<tr><td>468</td><td>49</td><td>25</td></tr>\n",
       "\t<tr><td>507</td><td>54</td><td>26</td></tr>\n",
       "\t<tr><td>527</td><td>47</td><td>31</td></tr>\n",
       "\t<tr><td>527</td><td>47</td><td>26</td></tr>\n",
       "\t<tr><td>435</td><td>50</td><td>28</td></tr>\n",
       "\t<tr><td>660</td><td>70</td><td>25</td></tr>\n",
       "\t<tr><td>733</td><td>73</td><td>33</td></tr>\n",
       "\t<tr><td>507</td><td>45</td><td>28</td></tr>\n",
       "\t<tr><td>527</td><td>62</td><td>29</td></tr>\n",
       "\t<tr><td>428</td><td>37</td><td>19</td></tr>\n",
       "\t<tr><td>481</td><td>48</td><td>23</td></tr>\n",
       "\t<tr><td>507</td><td>61</td><td>19</td></tr>\n",
       "\t<tr><td>527</td><td>66</td><td>23</td></tr>\n",
       "\t<tr><td>488</td><td>41</td><td>28</td></tr>\n",
       "\t<tr><td>607</td><td>69</td><td>28</td></tr>\n",
       "\t<tr><td>561</td><td>59</td><td>34</td></tr>\n",
       "\t<tr><td>614</td><td>70</td><td>23</td></tr>\n",
       "\t<tr><td>527</td><td>49</td><td>30</td></tr>\n",
       "\t<tr><td>474</td><td>41</td><td>16</td></tr>\n",
       "\t<tr><td>441</td><td>47</td><td>26</td></tr>\n",
       "\t<tr><td>607</td><td>67</td><td>32</td></tr>\n",
       "</tbody>\n",
       "</table>\n"
      ],
      "text/latex": [
       "A tibble: 87 × 3\n",
       "\\begin{tabular}{lll}\n",
       " X1\\_SocSciHist & X2\\_Verbal & X3\\_Science\\\\\n",
       " <dbl> & <dbl> & <dbl>\\\\\n",
       "\\hline\n",
       "\t 468 & 41 & 26\\\\\n",
       "\t 428 & 39 & 26\\\\\n",
       "\t 514 & 53 & 21\\\\\n",
       "\t 547 & 67 & 33\\\\\n",
       "\t 614 & 61 & 27\\\\\n",
       "\t 501 & 67 & 29\\\\\n",
       "\t 421 & 46 & 22\\\\\n",
       "\t 527 & 50 & 23\\\\\n",
       "\t 527 & 55 & 19\\\\\n",
       "\t 620 & 72 & 32\\\\\n",
       "\t 587 & 63 & 31\\\\\n",
       "\t 541 & 59 & 19\\\\\n",
       "\t 561 & 53 & 26\\\\\n",
       "\t 468 & 62 & 20\\\\\n",
       "\t 614 & 65 & 28\\\\\n",
       "\t 527 & 48 & 21\\\\\n",
       "\t 507 & 32 & 27\\\\\n",
       "\t 580 & 64 & 21\\\\\n",
       "\t 507 & 59 & 21\\\\\n",
       "\t 521 & 54 & 23\\\\\n",
       "\t 574 & 52 & 25\\\\\n",
       "\t 587 & 64 & 31\\\\\n",
       "\t 488 & 51 & 27\\\\\n",
       "\t 488 & 62 & 18\\\\\n",
       "\t 587 & 56 & 26\\\\\n",
       "\t 421 & 38 & 16\\\\\n",
       "\t 481 & 52 & 26\\\\\n",
       "\t 428 & 40 & 19\\\\\n",
       "\t 640 & 65 & 25\\\\\n",
       "\t 574 & 61 & 28\\\\\n",
       "\t ⋮ & ⋮ & ⋮\\\\\n",
       "\t 408 & 51 & 19\\\\\n",
       "\t 441 & 35 & 22\\\\\n",
       "\t 435 & 60 & 20\\\\\n",
       "\t 501 & 54 & 21\\\\\n",
       "\t 507 & 42 & 24\\\\\n",
       "\t 620 & 71 & 36\\\\\n",
       "\t 415 & 52 & 20\\\\\n",
       "\t 554 & 69 & 30\\\\\n",
       "\t 348 & 28 & 18\\\\\n",
       "\t 468 & 49 & 25\\\\\n",
       "\t 507 & 54 & 26\\\\\n",
       "\t 527 & 47 & 31\\\\\n",
       "\t 527 & 47 & 26\\\\\n",
       "\t 435 & 50 & 28\\\\\n",
       "\t 660 & 70 & 25\\\\\n",
       "\t 733 & 73 & 33\\\\\n",
       "\t 507 & 45 & 28\\\\\n",
       "\t 527 & 62 & 29\\\\\n",
       "\t 428 & 37 & 19\\\\\n",
       "\t 481 & 48 & 23\\\\\n",
       "\t 507 & 61 & 19\\\\\n",
       "\t 527 & 66 & 23\\\\\n",
       "\t 488 & 41 & 28\\\\\n",
       "\t 607 & 69 & 28\\\\\n",
       "\t 561 & 59 & 34\\\\\n",
       "\t 614 & 70 & 23\\\\\n",
       "\t 527 & 49 & 30\\\\\n",
       "\t 474 & 41 & 16\\\\\n",
       "\t 441 & 47 & 26\\\\\n",
       "\t 607 & 67 & 32\\\\\n",
       "\\end{tabular}\n"
      ],
      "text/markdown": [
       "\n",
       "A tibble: 87 × 3\n",
       "\n",
       "| X1_SocSciHist &lt;dbl&gt; | X2_Verbal &lt;dbl&gt; | X3_Science &lt;dbl&gt; |\n",
       "|---|---|---|\n",
       "| 468 | 41 | 26 |\n",
       "| 428 | 39 | 26 |\n",
       "| 514 | 53 | 21 |\n",
       "| 547 | 67 | 33 |\n",
       "| 614 | 61 | 27 |\n",
       "| 501 | 67 | 29 |\n",
       "| 421 | 46 | 22 |\n",
       "| 527 | 50 | 23 |\n",
       "| 527 | 55 | 19 |\n",
       "| 620 | 72 | 32 |\n",
       "| 587 | 63 | 31 |\n",
       "| 541 | 59 | 19 |\n",
       "| 561 | 53 | 26 |\n",
       "| 468 | 62 | 20 |\n",
       "| 614 | 65 | 28 |\n",
       "| 527 | 48 | 21 |\n",
       "| 507 | 32 | 27 |\n",
       "| 580 | 64 | 21 |\n",
       "| 507 | 59 | 21 |\n",
       "| 521 | 54 | 23 |\n",
       "| 574 | 52 | 25 |\n",
       "| 587 | 64 | 31 |\n",
       "| 488 | 51 | 27 |\n",
       "| 488 | 62 | 18 |\n",
       "| 587 | 56 | 26 |\n",
       "| 421 | 38 | 16 |\n",
       "| 481 | 52 | 26 |\n",
       "| 428 | 40 | 19 |\n",
       "| 640 | 65 | 25 |\n",
       "| 574 | 61 | 28 |\n",
       "| ⋮ | ⋮ | ⋮ |\n",
       "| 408 | 51 | 19 |\n",
       "| 441 | 35 | 22 |\n",
       "| 435 | 60 | 20 |\n",
       "| 501 | 54 | 21 |\n",
       "| 507 | 42 | 24 |\n",
       "| 620 | 71 | 36 |\n",
       "| 415 | 52 | 20 |\n",
       "| 554 | 69 | 30 |\n",
       "| 348 | 28 | 18 |\n",
       "| 468 | 49 | 25 |\n",
       "| 507 | 54 | 26 |\n",
       "| 527 | 47 | 31 |\n",
       "| 527 | 47 | 26 |\n",
       "| 435 | 50 | 28 |\n",
       "| 660 | 70 | 25 |\n",
       "| 733 | 73 | 33 |\n",
       "| 507 | 45 | 28 |\n",
       "| 527 | 62 | 29 |\n",
       "| 428 | 37 | 19 |\n",
       "| 481 | 48 | 23 |\n",
       "| 507 | 61 | 19 |\n",
       "| 527 | 66 | 23 |\n",
       "| 488 | 41 | 28 |\n",
       "| 607 | 69 | 28 |\n",
       "| 561 | 59 | 34 |\n",
       "| 614 | 70 | 23 |\n",
       "| 527 | 49 | 30 |\n",
       "| 474 | 41 | 16 |\n",
       "| 441 | 47 | 26 |\n",
       "| 607 | 67 | 32 |\n",
       "\n"
      ],
      "text/plain": [
       "   X1_SocSciHist X2_Verbal X3_Science\n",
       "1  468           41        26        \n",
       "2  428           39        26        \n",
       "3  514           53        21        \n",
       "4  547           67        33        \n",
       "5  614           61        27        \n",
       "6  501           67        29        \n",
       "7  421           46        22        \n",
       "8  527           50        23        \n",
       "9  527           55        19        \n",
       "10 620           72        32        \n",
       "11 587           63        31        \n",
       "12 541           59        19        \n",
       "13 561           53        26        \n",
       "14 468           62        20        \n",
       "15 614           65        28        \n",
       "16 527           48        21        \n",
       "17 507           32        27        \n",
       "18 580           64        21        \n",
       "19 507           59        21        \n",
       "20 521           54        23        \n",
       "21 574           52        25        \n",
       "22 587           64        31        \n",
       "23 488           51        27        \n",
       "24 488           62        18        \n",
       "25 587           56        26        \n",
       "26 421           38        16        \n",
       "27 481           52        26        \n",
       "28 428           40        19        \n",
       "29 640           65        25        \n",
       "30 574           61        28        \n",
       "<U+22EE>  <U+22EE>      <U+22EE>  <U+22EE>  \n",
       "58 408           51        19        \n",
       "59 441           35        22        \n",
       "60 435           60        20        \n",
       "61 501           54        21        \n",
       "62 507           42        24        \n",
       "63 620           71        36        \n",
       "64 415           52        20        \n",
       "65 554           69        30        \n",
       "66 348           28        18        \n",
       "67 468           49        25        \n",
       "68 507           54        26        \n",
       "69 527           47        31        \n",
       "70 527           47        26        \n",
       "71 435           50        28        \n",
       "72 660           70        25        \n",
       "73 733           73        33        \n",
       "74 507           45        28        \n",
       "75 527           62        29        \n",
       "76 428           37        19        \n",
       "77 481           48        23        \n",
       "78 507           61        19        \n",
       "79 527           66        23        \n",
       "80 488           41        28        \n",
       "81 607           69        28        \n",
       "82 561           59        34        \n",
       "83 614           70        23        \n",
       "84 527           49        30        \n",
       "85 474           41        16        \n",
       "86 441           47        26        \n",
       "87 607           67        32        "
      ]
     },
     "metadata": {},
     "output_type": "display_data"
    }
   ],
   "source": [
    "Y3 <- read_excel(\"Tugas4_APG.xlsx\")\n",
    "Y3"
   ]
  },
  {
   "cell_type": "markdown",
   "id": "187d8a47",
   "metadata": {
    "heading_collapsed": true
   },
   "source": [
    "## A"
   ]
  },
  {
   "cell_type": "raw",
   "id": "188eb883",
   "metadata": {
    "hidden": true
   },
   "source": [
    "Ujilah hipotesis awal 𝐻0: 𝝁′ = [500,50,30] versus 𝐻1: 𝝁′ ≠ [500,50,30] pada taraf signifinaksi 𝛼 = 0.05. Anggaplah [500, 50, 30]' menunjukkan rata-ata skor dari ribuan mahasiswa selama 10 tahun yang lalu."
   ]
  },
  {
   "cell_type": "code",
   "execution_count": 17,
   "id": "593cd6fb",
   "metadata": {
    "ExecuteTime": {
     "end_time": "2022-03-13T08:17:21.189692Z",
     "start_time": "2022-03-13T08:17:19.863Z"
    },
    "hidden": true
   },
   "outputs": [
    {
     "name": "stdout",
     "output_type": "stream",
     "text": [
      "       One Sample Hotelling T Square Test \n",
      "\n",
      "Hotelling T Sqaure Statistic = 223.3102 \n",
      " F value = 72.706 , df1 = 3 , df2 = 84 , p-value: <2e-16 \n",
      "\n",
      "   \t              Descriptive Statistics\n",
      "\n",
      "      X1_SocSciHist X2_Verbal X3_Science\n",
      "N          87.00000  87.00000  87.000000\n",
      "Means     526.58621  54.68966  25.126437\n",
      "Sd         76.21062  11.22737   4.807467\n",
      "\n",
      "\n",
      "  \t            Detection important variable(s)\n",
      "\n",
      "                  Lower     Upper Mu0 Important Variables?\n",
      "X1_SocSciHist 502.99940 550.17302 500               *TRUE*\n",
      "X2_Verbal      51.21484  58.16447  50               *TRUE*\n",
      "X3_Science     23.63855  26.61432  30               *TRUE*\n"
     ]
    }
   ],
   "source": [
    "Y3mu <- c(500, 50, 30)\n",
    "Y3test <- OneSampleHT2(data = Y3, mu0 = Y3mu, alpha = 0.05)\n",
    "summary(Y3test)"
   ]
  },
  {
   "cell_type": "raw",
   "id": "3cda8982",
   "metadata": {
    "hidden": true
   },
   "source": [
    "<2e-16 < 0.05, p-value < α.\n",
    "Dengan taraf signifikansi 5%, maka tolak H0.\n",
    "Hal ini menunjukkan bahwa nilai rata-rata skor dari ribuan mahasiswa selama 10 tahun yang lalu sesuai dengan nilai μ' = [500, 50, 30]"
   ]
  },
  {
   "cell_type": "markdown",
   "id": "2a834483",
   "metadata": {},
   "source": [
    "## B"
   ]
  },
  {
   "cell_type": "raw",
   "id": "838c5ef5",
   "metadata": {},
   "source": [
    "Buatlah 95% confidence ellipsoid untuk μ"
   ]
  },
  {
   "cell_type": "markdown",
   "id": "779d4803",
   "metadata": {},
   "source": [
    "### untuk μ-verbal dan μ-science"
   ]
  },
  {
   "cell_type": "code",
   "execution_count": 18,
   "id": "4680fcc4",
   "metadata": {
    "ExecuteTime": {
     "end_time": "2022-03-13T08:17:21.225677Z",
     "start_time": "2022-03-13T08:17:19.881Z"
    }
   },
   "outputs": [],
   "source": [
    "n <- nrow(Y3)\n",
    "p <- ncol(Y3)\n",
    "xbar <- colMeans(Y3)\n",
    "S <- cov(Y3)\n",
    "alpha<-0.05\n",
    "tconst <- sqrt((p/n)*((n-1)/(n-p)) * qf(1-alpha,p,n-p))\n",
    "id <- c(2,3)"
   ]
  },
  {
   "cell_type": "code",
   "execution_count": 19,
   "id": "139cd64b",
   "metadata": {
    "ExecuteTime": {
     "end_time": "2022-03-13T08:17:21.305686Z",
     "start_time": "2022-03-13T08:17:19.883Z"
    }
   },
   "outputs": [
    {
     "data": {
      "image/png": "[encoded data removed]",
      "text/plain": [
       "plot without title"
      ]
     },
     "metadata": {
      "image/png": {
       "height": 420,
       "width": 420
      }
     },
     "output_type": "display_data"
    }
   ],
   "source": [
    "plot(ellipse(Y3,\n",
    "             center=xbar[id],\n",
    "             shape=S[id,id],\n",
    "             radius=tconst,\n",
    "             draw=F),\n",
    "     type =\"n\",\n",
    "     xlab=\"verbal\",\n",
    "     ylab=\"science\")\n",
    "lines(ellipse(Y3,\n",
    "              center=xbar[id],\n",
    "              shape=S[id,id],\n",
    "              radius=tconst,\n",
    "              lwd=3),\n",
    "      xlab =\"verbal\",\n",
    "      ylab=\"science\")\n",
    "points(20,200,col=\"red\", pch=16)\n",
    "text(20.5,200,expression(mu[0]))\n",
    "text(xbar[2]+0.5,xbar[3],expression(bar(x))) "
   ]
  },
  {
   "attachments": {
    "000021.png": {
     "image/png": "[encoded data removed]"
    }
   },
   "cell_type": "markdown",
   "id": "a44e9b54",
   "metadata": {},
   "source": [
    "![000021.png](attachment:000021.png)"
   ]
  },
  {
   "cell_type": "code",
   "execution_count": 20,
   "id": "14844724",
   "metadata": {
    "ExecuteTime": {
     "end_time": "2022-03-13T08:17:21.410712Z",
     "start_time": "2022-03-13T08:17:19.887Z"
    }
   },
   "outputs": [
    {
     "data": {
      "image/png": "[encoded data removed]",
      "text/plain": [
       "plot without title"
      ]
     },
     "metadata": {
      "image/png": {
       "height": 420,
       "width": 420
      }
     },
     "output_type": "display_data"
    }
   ],
   "source": [
    "plot(ellipse(Y3,\n",
    "             center=xbar[id],\n",
    "             shape=S[id,id],\n",
    "             radius=tconst,\n",
    "             draw=F),\n",
    "     type =\"n\",\n",
    "     xlab=\"verbal\",\n",
    "     ylab=\"science\")\n",
    "lines(ellipse(Y3,\n",
    "              center=xbar[id],\n",
    "              shape=S[id,id],\n",
    "              radius=tconst,\n",
    "              lwd=3),\n",
    "      xlab =\"verbal\",\n",
    "      ylab=\"science\")\n",
    "points(50,500,col=\"red\", pch=16)\n",
    "text(50.5,500,expression(mu[0])) \n",
    "text(xbar[1]+0.5,xbar[2],expression(bar(x)))"
   ]
  },
  {
   "attachments": {
    "000015.png": {
     "image/png": "[encoded data removed]"
    }
   },
   "cell_type": "markdown",
   "id": "45eb4437",
   "metadata": {},
   "source": [
    "![000015.png](attachment:000015.png)"
   ]
  },
  {
   "cell_type": "code",
   "execution_count": 21,
   "id": "2478b076",
   "metadata": {
    "ExecuteTime": {
     "end_time": "2022-03-13T08:17:21.503681Z",
     "start_time": "2022-03-13T08:17:19.890Z"
    }
   },
   "outputs": [
    {
     "data": {
      "image/png": "[encoded data removed]",
      "text/plain": [
       "plot without title"
      ]
     },
     "metadata": {
      "image/png": {
       "height": 420,
       "width": 420
      }
     },
     "output_type": "display_data"
    }
   ],
   "source": [
    "plot(ellipse(Y3,\n",
    "             center=xbar[id],\n",
    "             shape=S[id,id],\n",
    "             radius=tconst,\n",
    "             draw=F),\n",
    "     type =\"n\",\n",
    "     xlab=\"verbal\",\n",
    "     ylab=\"science\")\n",
    "lines(ellipse(Y3,\n",
    "              center=xbar[id],\n",
    "              shape=S[id,id],\n",
    "              radius=tconst,\n",
    "              lwd=3),\n",
    "      xlab =\"verbal\",\n",
    "      ylab=\"science\")\n",
    "points(50,500,col=\"red\", pch=16)\n",
    "text(50.5,500,expression(mu[0])) \n",
    "text(xbar[1]+0.5,xbar[3],expression(bar(x)))"
   ]
  },
  {
   "attachments": {
    "00001a.png": {
     "image/png": "[encoded data removed]"
    }
   },
   "cell_type": "markdown",
   "id": "4fa399fe",
   "metadata": {},
   "source": [
    "![00001a.png](attachment:00001a.png)"
   ]
  },
  {
   "cell_type": "markdown",
   "id": "868564ce",
   "metadata": {},
   "source": [
    "## C"
   ]
  },
  {
   "cell_type": "raw",
   "id": "63877ef2",
   "metadata": {},
   "source": [
    "Buatlah simultan confidence intervalnya."
   ]
  },
  {
   "cell_type": "markdown",
   "id": "882f3abe",
   "metadata": {
    "heading_collapsed": true
   },
   "source": [
    "### CI Sampel Kecil : Uji Hotelling T "
   ]
  },
  {
   "cell_type": "code",
   "execution_count": 22,
   "id": "a48ab2fd",
   "metadata": {
    "ExecuteTime": {
     "end_time": "2022-03-13T08:17:21.533680Z",
     "start_time": "2022-03-13T08:17:19.902Z"
    },
    "hidden": true
   },
   "outputs": [
    {
     "name": "stdout",
     "output_type": "stream",
     "text": [
      "       One Sample Hotelling T Square Test \n",
      "\n",
      "Hotelling T Sqaure Statistic = 223.3102 \n",
      " F value = 72.706 , df1 = 3 , df2 = 84 , p-value: <2e-16 \n",
      "\n",
      "   \t              Descriptive Statistics\n",
      "\n",
      "      X1_SocSciHist X2_Verbal X3_Science\n",
      "N          87.00000  87.00000  87.000000\n",
      "Means     526.58621  54.68966  25.126437\n",
      "Sd         76.21062  11.22737   4.807467\n",
      "\n",
      "\n",
      "  \t            Detection important variable(s)\n",
      "\n",
      "                  Lower     Upper Mu0 Important Variables?\n",
      "X1_SocSciHist 502.99940 550.17302 500               *TRUE*\n",
      "X2_Verbal      51.21484  58.16447  50               *TRUE*\n",
      "X3_Science     23.63855  26.61432  30               *TRUE*\n"
     ]
    }
   ],
   "source": [
    "summary(Y3test)"
   ]
  },
  {
   "cell_type": "markdown",
   "id": "abcaf3c7",
   "metadata": {
    "heading_collapsed": true
   },
   "source": [
    "### CI Sampel Besar : Uji Chi-Square"
   ]
  },
  {
   "cell_type": "code",
   "execution_count": 23,
   "id": "05cf1fb9",
   "metadata": {
    "ExecuteTime": {
     "end_time": "2022-03-13T08:17:21.577677Z",
     "start_time": "2022-03-13T08:17:19.905Z"
    },
    "hidden": true
   },
   "outputs": [
    {
     "data": {
      "text/html": [
       "<table class=\"dataframe\">\n",
       "<caption>A matrix: 1 × 6 of type dbl</caption>\n",
       "<thead>\n",
       "\t<tr><th></th><th scope=col>X1_SocSciHist</th><th scope=col>X1_SocSciHist</th><th scope=col>X2_Verbal</th><th scope=col>X2_Verbal</th><th scope=col>X3_Science</th><th scope=col>X3_Science</th></tr>\n",
       "</thead>\n",
       "<tbody>\n",
       "\t<tr><th scope=row>chi</th><td>503.75</td><td>549.43</td><td>51.32</td><td>58.05</td><td>23.69</td><td>26.57</td></tr>\n",
       "</tbody>\n",
       "</table>\n"
      ],
      "text/latex": [
       "A matrix: 1 × 6 of type dbl\n",
       "\\begin{tabular}{r|llllll}\n",
       "  & X1\\_SocSciHist & X1\\_SocSciHist & X2\\_Verbal & X2\\_Verbal & X3\\_Science & X3\\_Science\\\\\n",
       "\\hline\n",
       "\tchi & 503.75 & 549.43 & 51.32 & 58.05 & 23.69 & 26.57\\\\\n",
       "\\end{tabular}\n"
      ],
      "text/markdown": [
       "\n",
       "A matrix: 1 × 6 of type dbl\n",
       "\n",
       "| <!--/--> | X1_SocSciHist | X1_SocSciHist | X2_Verbal | X2_Verbal | X3_Science | X3_Science |\n",
       "|---|---|---|---|---|---|---|\n",
       "| chi | 503.75 | 549.43 | 51.32 | 58.05 | 23.69 | 26.57 |\n",
       "\n"
      ],
      "text/plain": [
       "    X1_SocSciHist X1_SocSciHist X2_Verbal X2_Verbal X3_Science X3_Science\n",
       "chi 503.75        549.43        51.32     58.05     23.69      26.57     "
      ]
     },
     "metadata": {},
     "output_type": "display_data"
    }
   ],
   "source": [
    "chi <- NULL\n",
    "for(k in 1:3)\n",
    "{\n",
    "    avec <- rep(0, 2)\n",
    "    avec[k] <- 1\n",
    "    chi <- c(chi, xbar[k] - sqrt(S[k,k]/n) * sqrt(qchisq(0.95, df=p)), xbar[k] + sqrt(S[k,k]/n) * sqrt(qchisq(0.95, df=p)))\n",
    "}\n",
    "rtab <- rbind(chi)\n",
    "round(rtab, 2)"
   ]
  },
  {
   "cell_type": "markdown",
   "id": "9e15efe5",
   "metadata": {},
   "source": [
    "## D"
   ]
  },
  {
   "cell_type": "raw",
   "id": "48b63dd6",
   "metadata": {},
   "source": [
    "Buatlah Q-Q plots dari sebaran marginal masing-masing variable skor. Buatlah juga pasangan scatter plot dan Chisquare-plot. Apakah data mengandung outlier dan terlihat berdistribusi normal? Apakah hasil (a), (b) dan (c) konsisten?"
   ]
  },
  {
   "cell_type": "markdown",
   "id": "4a4d9bf3",
   "metadata": {
    "heading_collapsed": true
   },
   "source": [
    "### a. QQ-Plot"
   ]
  },
  {
   "cell_type": "code",
   "execution_count": 24,
   "id": "5dcc86bc",
   "metadata": {
    "ExecuteTime": {
     "end_time": "2022-03-13T08:17:21.749680Z",
     "start_time": "2022-03-13T08:17:19.913Z"
    },
    "hidden": true
   },
   "outputs": [
    {
     "data": {
      "text/html": [
       "<dl>\n",
       "\t<dt>$X1_SocSciHist</dt>\n",
       "\t\t<dd>NULL</dd>\n",
       "\t<dt>$X2_Verbal</dt>\n",
       "\t\t<dd>NULL</dd>\n",
       "\t<dt>$X3_Science</dt>\n",
       "\t\t<dd>NULL</dd>\n",
       "</dl>\n"
      ],
      "text/latex": [
       "\\begin{description}\n",
       "\\item[\\$X1\\_SocSciHist] NULL\n",
       "\\item[\\$X2\\_Verbal] NULL\n",
       "\\item[\\$X3\\_Science] NULL\n",
       "\\end{description}\n"
      ],
      "text/markdown": [
       "$X1_SocSciHist\n",
       ":   NULL\n",
       "$X2_Verbal\n",
       ":   NULL\n",
       "$X3_Science\n",
       ":   NULL\n",
       "\n",
       "\n"
      ],
      "text/plain": [
       "$X1_SocSciHist\n",
       "NULL\n",
       "\n",
       "$X2_Verbal\n",
       "NULL\n",
       "\n",
       "$X3_Science\n",
       "NULL\n"
      ]
     },
     "metadata": {},
     "output_type": "display_data"
    },
    {
     "data": {
      "image/png": "[encoded data removed]",
      "text/plain": [
       "Plot with title \"X2_Verbal\""
      ]
     },
     "metadata": {
      "image/png": {
       "height": 420,
       "width": 420
      }
     },
     "output_type": "display_data"
    },
    {
     "data": {
      "image/png": "[encoded data removed]",
      "text/plain": [
       "Plot with title \"X3_Science\""
      ]
     },
     "metadata": {
      "image/png": {
       "height": 420,
       "width": 420
      }
     },
     "output_type": "display_data"
    }
   ],
   "source": [
    "x <- Y3\n",
    "layout(matrix(1:2, nc = 2))\n",
    "sapply(colnames(Y3), function(x) {\n",
    "    qqnorm(Y3[[x]], main = x)\n",
    "    qqline(Y3[[x]]) })"
   ]
  },
  {
   "cell_type": "markdown",
   "id": "916e32f4",
   "metadata": {
    "heading_collapsed": true
   },
   "source": [
    "### Bivariate Scatter Plot"
   ]
  },
  {
   "cell_type": "code",
   "execution_count": 25,
   "id": "6fe1a44a",
   "metadata": {
    "ExecuteTime": {
     "end_time": "2022-03-13T08:17:21.884680Z",
     "start_time": "2022-03-13T08:17:19.915Z"
    },
    "hidden": true
   },
   "outputs": [
    {
     "data": {
      "image/png": "[encoded data removed]",
      "text/plain": [
       "plot without title"
      ]
     },
     "metadata": {
      "image/png": {
       "height": 420,
       "width": 420
      }
     },
     "output_type": "display_data"
    }
   ],
   "source": [
    "pairs(Y3, main=\"Bivariate Scatterplot\")"
   ]
  },
  {
   "cell_type": "markdown",
   "id": "cab3a47a",
   "metadata": {
    "heading_collapsed": true
   },
   "source": [
    "### Chi-square Plot"
   ]
  },
  {
   "cell_type": "code",
   "execution_count": 26,
   "id": "4c9c58a3",
   "metadata": {
    "ExecuteTime": {
     "end_time": "2022-03-13T08:17:21.986677Z",
     "start_time": "2022-03-13T08:17:19.919Z"
    },
    "hidden": true
   },
   "outputs": [
    {
     "data": {
      "image/png": "[encoded data removed]",
      "text/plain": [
       "plot without title"
      ]
     },
     "metadata": {
      "image/png": {
       "height": 420,
       "width": 420
      }
     },
     "output_type": "display_data"
    }
   ],
   "source": [
    "cm <- colMeans(x)\n",
    "S <- cov(x)\n",
    "d <- apply(x, 1, function(x) t(x - cm) %*% solve(S) %*% (x - cm))\n",
    "plot(qc <- qchisq((1:nrow(x) - 1/2) / nrow(x), df = 3),\n",
    " sd <- sort(d),\n",
    " xlab = expression(paste(chi[3]^2, \" Quantile\")),\n",
    " ylab = \"Ordered distances\", xlim = range(qc) * c(1, 1.1))\n",
    "oups <- which(rank(abs(qc - sd), ties = \"random\") > nrow(x) - 3)\n",
    "text(qc[oups], sd[oups] - 1.5, names(oups))\n",
    "abline(a = 0, b = 1)"
   ]
  },
  {
   "cell_type": "raw",
   "id": "e40998c3",
   "metadata": {
    "hidden": true
   },
   "source": [
    "Berdasarkan ketiga plot tersebut, dapat dilihat bahwa data pada variabel verbl dan science tidak berdistirbusi normal. Hal ini ditunjukkan dengan adanya penyimpangan titik pada plor yang kemungkinan berua outlier pada kedua variabel tersebut.\n",
    "Kemudian, dapat dilihat juga bahwa konsisten CI pada uji Hotelling T dan Chi-Square, simultan CI menunjukkan hasil rentang yang berbeda atau tidak konsisten"
   ]
  },
  {
   "cell_type": "markdown",
   "id": "1be767a8",
   "metadata": {},
   "source": [
    "## E"
   ]
  },
  {
   "cell_type": "raw",
   "id": "c8c0fcb2",
   "metadata": {},
   "source": [
    "Lakukan uji multivariate normal dan apa yang terjadi jika data outlier\n",
    "dibuang?"
   ]
  },
  {
   "cell_type": "markdown",
   "id": "4c2dd5fc",
   "metadata": {
    "heading_collapsed": true
   },
   "source": [
    "### Uji Multivariat Normal pada data The College Data asli\n"
   ]
  },
  {
   "cell_type": "code",
   "execution_count": 27,
   "id": "62eca1f7",
   "metadata": {
    "ExecuteTime": {
     "end_time": "2022-03-13T08:17:22.059706Z",
     "start_time": "2022-03-13T08:17:19.929Z"
    },
    "hidden": true
   },
   "outputs": [
    {
     "data": {
      "text/html": [
       "<dl>\n",
       "\t<dt>$multivariateNormality</dt>\n",
       "\t\t<dd><table class=\"dataframe\">\n",
       "<caption>A data.frame: 1 × 4</caption>\n",
       "<thead>\n",
       "\t<tr><th scope=col>Test</th><th scope=col>HZ</th><th scope=col>p value</th><th scope=col>MVN</th></tr>\n",
       "\t<tr><th scope=col>&lt;chr&gt;</th><th scope=col>&lt;dbl&gt;</th><th scope=col>&lt;dbl&gt;</th><th scope=col>&lt;chr&gt;</th></tr>\n",
       "</thead>\n",
       "<tbody>\n",
       "\t<tr><td>Henze-Zirkler</td><td>0.6165509</td><td>0.7235498</td><td>YES</td></tr>\n",
       "</tbody>\n",
       "</table>\n",
       "</dd>\n",
       "\t<dt>$univariateNormality</dt>\n",
       "\t\t<dd><table class=\"dataframe\">\n",
       "<caption>A data.frame: 3 × 5</caption>\n",
       "<thead>\n",
       "\t<tr><th></th><th scope=col>Test</th><th scope=col>Variable</th><th scope=col>Statistic</th><th scope=col>p value</th><th scope=col>Normality</th></tr>\n",
       "\t<tr><th></th><th scope=col>&lt;I&lt;chr&gt;&gt;</th><th scope=col>&lt;I&lt;chr&gt;&gt;</th><th scope=col>&lt;I&lt;chr&gt;&gt;</th><th scope=col>&lt;I&lt;chr&gt;&gt;</th><th scope=col>&lt;I&lt;chr&gt;&gt;</th></tr>\n",
       "</thead>\n",
       "<tbody>\n",
       "\t<tr><th scope=row>1</th><td>Anderson-Darling</td><td>X1_SocSciHist</td><td>   0.3890</td><td>   0.3775</td><td>   YES   </td></tr>\n",
       "\t<tr><th scope=row>2</th><td>Anderson-Darling</td><td>  X2_Verbal  </td><td>   0.6931</td><td>   0.0679</td><td>   YES   </td></tr>\n",
       "\t<tr><th scope=row>3</th><td>Anderson-Darling</td><td> X3_Science  </td><td>   0.3890</td><td>   0.3775</td><td>   YES   </td></tr>\n",
       "</tbody>\n",
       "</table>\n",
       "</dd>\n",
       "\t<dt>$Descriptives</dt>\n",
       "\t\t<dd><table class=\"dataframe\">\n",
       "<caption>A data.frame: 3 × 10</caption>\n",
       "<thead>\n",
       "\t<tr><th></th><th scope=col>n</th><th scope=col>Mean</th><th scope=col>Std.Dev</th><th scope=col>Median</th><th scope=col>Min</th><th scope=col>Max</th><th scope=col>25th</th><th scope=col>75th</th><th scope=col>Skew</th><th scope=col>Kurtosis</th></tr>\n",
       "\t<tr><th></th><th scope=col>&lt;int&gt;</th><th scope=col>&lt;dbl&gt;</th><th scope=col>&lt;dbl&gt;</th><th scope=col>&lt;dbl&gt;</th><th scope=col>&lt;dbl&gt;</th><th scope=col>&lt;dbl&gt;</th><th scope=col>&lt;dbl&gt;</th><th scope=col>&lt;dbl&gt;</th><th scope=col>&lt;dbl&gt;</th><th scope=col>&lt;dbl&gt;</th></tr>\n",
       "</thead>\n",
       "<tbody>\n",
       "\t<tr><th scope=row>X1_SocSciHist</th><td>87</td><td>526.58621</td><td>76.210625</td><td>521</td><td>348</td><td>733</td><td>477.5</td><td>583.5</td><td> 0.14152904</td><td>-0.3603633</td></tr>\n",
       "\t<tr><th scope=row>X2_Verbal</th><td>87</td><td> 54.68966</td><td>11.227365</td><td> 55</td><td> 25</td><td> 75</td><td> 48.0</td><td> 64.0</td><td>-0.50839767</td><td>-0.3117746</td></tr>\n",
       "\t<tr><th scope=row>X3_Science</th><td>87</td><td> 25.12644</td><td> 4.807467</td><td> 26</td><td> 14</td><td> 36</td><td> 21.0</td><td> 28.0</td><td>-0.03528656</td><td>-0.6637848</td></tr>\n",
       "</tbody>\n",
       "</table>\n",
       "</dd>\n",
       "\t<dt>$multivariateOutliers</dt>\n",
       "\t\t<dd>NULL</dd>\n",
       "</dl>\n"
      ],
      "text/latex": [
       "\\begin{description}\n",
       "\\item[\\$multivariateNormality] A data.frame: 1 × 4\n",
       "\\begin{tabular}{llll}\n",
       " Test & HZ & p value & MVN\\\\\n",
       " <chr> & <dbl> & <dbl> & <chr>\\\\\n",
       "\\hline\n",
       "\t Henze-Zirkler & 0.6165509 & 0.7235498 & YES\\\\\n",
       "\\end{tabular}\n",
       "\n",
       "\\item[\\$univariateNormality] A data.frame: 3 × 5\n",
       "\\begin{tabular}{r|lllll}\n",
       "  & Test & Variable & Statistic & p value & Normality\\\\\n",
       "  & <I<chr>> & <I<chr>> & <I<chr>> & <I<chr>> & <I<chr>>\\\\\n",
       "\\hline\n",
       "\t1 & Anderson-Darling & X1\\_SocSciHist &    0.3890 &    0.3775 &    YES   \\\\\n",
       "\t2 & Anderson-Darling &   X2\\_Verbal   &    0.6931 &    0.0679 &    YES   \\\\\n",
       "\t3 & Anderson-Darling &  X3\\_Science   &    0.3890 &    0.3775 &    YES   \\\\\n",
       "\\end{tabular}\n",
       "\n",
       "\\item[\\$Descriptives] A data.frame: 3 × 10\n",
       "\\begin{tabular}{r|llllllllll}\n",
       "  & n & Mean & Std.Dev & Median & Min & Max & 25th & 75th & Skew & Kurtosis\\\\\n",
       "  & <int> & <dbl> & <dbl> & <dbl> & <dbl> & <dbl> & <dbl> & <dbl> & <dbl> & <dbl>\\\\\n",
       "\\hline\n",
       "\tX1\\_SocSciHist & 87 & 526.58621 & 76.210625 & 521 & 348 & 733 & 477.5 & 583.5 &  0.14152904 & -0.3603633\\\\\n",
       "\tX2\\_Verbal & 87 &  54.68966 & 11.227365 &  55 &  25 &  75 &  48.0 &  64.0 & -0.50839767 & -0.3117746\\\\\n",
       "\tX3\\_Science & 87 &  25.12644 &  4.807467 &  26 &  14 &  36 &  21.0 &  28.0 & -0.03528656 & -0.6637848\\\\\n",
       "\\end{tabular}\n",
       "\n",
       "\\item[\\$multivariateOutliers] NULL\n",
       "\\end{description}\n"
      ],
      "text/markdown": [
       "$multivariateNormality\n",
       ":   \n",
       "A data.frame: 1 × 4\n",
       "\n",
       "| Test &lt;chr&gt; | HZ &lt;dbl&gt; | p value &lt;dbl&gt; | MVN &lt;chr&gt; |\n",
       "|---|---|---|---|\n",
       "| Henze-Zirkler | 0.6165509 | 0.7235498 | YES |\n",
       "\n",
       "\n",
       "$univariateNormality\n",
       ":   \n",
       "A data.frame: 3 × 5\n",
       "\n",
       "| <!--/--> | Test &lt;I&lt;chr&gt;&gt; | Variable &lt;I&lt;chr&gt;&gt; | Statistic &lt;I&lt;chr&gt;&gt; | p value &lt;I&lt;chr&gt;&gt; | Normality &lt;I&lt;chr&gt;&gt; |\n",
       "|---|---|---|---|---|---|\n",
       "| 1 | Anderson-Darling | X1_SocSciHist |    0.3890 |    0.3775 |    YES    |\n",
       "| 2 | Anderson-Darling |   X2_Verbal   |    0.6931 |    0.0679 |    YES    |\n",
       "| 3 | Anderson-Darling |  X3_Science   |    0.3890 |    0.3775 |    YES    |\n",
       "\n",
       "\n",
       "$Descriptives\n",
       ":   \n",
       "A data.frame: 3 × 10\n",
       "\n",
       "| <!--/--> | n &lt;int&gt; | Mean &lt;dbl&gt; | Std.Dev &lt;dbl&gt; | Median &lt;dbl&gt; | Min &lt;dbl&gt; | Max &lt;dbl&gt; | 25th &lt;dbl&gt; | 75th &lt;dbl&gt; | Skew &lt;dbl&gt; | Kurtosis &lt;dbl&gt; |\n",
       "|---|---|---|---|---|---|---|---|---|---|---|\n",
       "| X1_SocSciHist | 87 | 526.58621 | 76.210625 | 521 | 348 | 733 | 477.5 | 583.5 |  0.14152904 | -0.3603633 |\n",
       "| X2_Verbal | 87 |  54.68966 | 11.227365 |  55 |  25 |  75 |  48.0 |  64.0 | -0.50839767 | -0.3117746 |\n",
       "| X3_Science | 87 |  25.12644 |  4.807467 |  26 |  14 |  36 |  21.0 |  28.0 | -0.03528656 | -0.6637848 |\n",
       "\n",
       "\n",
       "$multivariateOutliers\n",
       ":   NULL\n",
       "\n",
       "\n"
      ],
      "text/plain": [
       "$multivariateNormality\n",
       "           Test        HZ   p value MVN\n",
       "1 Henze-Zirkler 0.6165509 0.7235498 YES\n",
       "\n",
       "$univariateNormality\n",
       "              Test      Variable Statistic   p value Normality\n",
       "1 Anderson-Darling X1_SocSciHist    0.3890    0.3775    YES   \n",
       "2 Anderson-Darling   X2_Verbal      0.6931    0.0679    YES   \n",
       "3 Anderson-Darling  X3_Science      0.3890    0.3775    YES   \n",
       "\n",
       "$Descriptives\n",
       "               n      Mean   Std.Dev Median Min Max  25th  75th        Skew\n",
       "X1_SocSciHist 87 526.58621 76.210625    521 348 733 477.5 583.5  0.14152904\n",
       "X2_Verbal     87  54.68966 11.227365     55  25  75  48.0  64.0 -0.50839767\n",
       "X3_Science    87  25.12644  4.807467     26  14  36  21.0  28.0 -0.03528656\n",
       "                Kurtosis\n",
       "X1_SocSciHist -0.3603633\n",
       "X2_Verbal     -0.3117746\n",
       "X3_Science    -0.6637848\n",
       "\n",
       "$multivariateOutliers\n",
       "NULL\n"
      ]
     },
     "metadata": {},
     "output_type": "display_data"
    }
   ],
   "source": [
    "# Henze Zirkler Test\n",
    "mvn(data = Y3[, c(1,2,3)], multivariatePlot = 'plot', showOutlier = TRUE)"
   ]
  },
  {
   "cell_type": "raw",
   "id": "65b09ca4",
   "metadata": {
    "hidden": true
   },
   "source": [
    "Data multivariat The College Test Data telah terdistribusi normal tanpa perlu dilakukan transformasi atau perlakuan khusus apapun"
   ]
  },
  {
   "cell_type": "markdown",
   "id": "e9d51141",
   "metadata": {},
   "source": [
    "### Uji Multivariat Normal pada data The College Data yang dibuang outliernya"
   ]
  },
  {
   "cell_type": "code",
   "execution_count": 28,
   "id": "4f7fb3d6",
   "metadata": {
    "ExecuteTime": {
     "end_time": "2022-03-13T08:17:22.137681Z",
     "start_time": "2022-03-13T08:17:19.935Z"
    }
   },
   "outputs": [
    {
     "data": {
      "image/png": "[encoded data removed]",
      "text/plain": [
       "plot without title"
      ]
     },
     "metadata": {
      "image/png": {
       "height": 420,
       "width": 420
      }
     },
     "output_type": "display_data"
    }
   ],
   "source": [
    "# Cek variabel yang memiliki outlier lewat boxplot\n",
    "boxplot(Y3, xlab = \"Variable\")"
   ]
  }
 ],
 "metadata": {
  "kernelspec": {
   "display_name": "R",
   "language": "R",
   "name": "ir"
  },
  "language_info": {
   "codemirror_mode": "r",
   "file_extension": ".r",
   "mimetype": "text/x-r-source",
   "name": "R",
   "pygments_lexer": "r",
   "version": "4.0.5"
  },
  "toc": {
   "base_numbering": 1,
   "nav_menu": {},
   "number_sections": true,
   "sideBar": true,
   "skip_h1_title": false,
   "title_cell": "Table of Contents",
   "title_sidebar": "Contents",
   "toc_cell": false,
   "toc_position": {},
   "toc_section_display": true,
   "toc_window_display": false
  }
 },
 "nbformat": 4,
 "nbformat_minor": 5
}
