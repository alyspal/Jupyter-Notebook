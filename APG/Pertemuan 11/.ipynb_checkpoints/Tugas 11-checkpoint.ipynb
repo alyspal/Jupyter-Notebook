{
 "cells": [
  {
   "cell_type": "markdown",
   "id": "d9891bb3",
   "metadata": {
    "ExecuteTime": {
     "end_time": "2022-05-22T10:09:35.494680Z",
     "start_time": "2022-05-22T10:09:35.467Z"
    }
   },
   "source": [
    "Alya Safadella Putri Akca \\\n",
    "221910892 \\\n",
    "3SI1 \\\n",
    "Tugas 11 APG"
   ]
  },
  {
   "cell_type": "code",
   "execution_count": 1,
   "id": "b00a4292",
   "metadata": {
    "ExecuteTime": {
     "end_time": "2022-05-22T10:23:52.820286Z",
     "start_time": "2022-05-22T10:23:51.832Z"
    }
   },
   "outputs": [
    {
     "name": "stderr",
     "output_type": "stream",
     "text": [
      "Loading required package: Matrix\n",
      "\n",
      "\n",
      "Attaching package: 'expm'\n",
      "\n",
      "\n",
      "The following object is masked from 'package:Matrix':\n",
      "\n",
      "    expm\n",
      "\n",
      "\n"
     ]
    }
   ],
   "source": [
    "library(expm)\n",
    "library(openxlsx)"
   ]
  },
  {
   "cell_type": "markdown",
   "id": "49ac906e",
   "metadata": {},
   "source": [
    "# 10.10"
   ]
  },
  {
   "cell_type": "markdown",
   "id": "d5f7ee01",
   "metadata": {},
   "source": [
    "In a study of poverty, crime, and deterrence, Parker and Smith [10] report certain summary crime statistics in various states for the years 1970 and 1973. A \n",
    "portion of their sample correlation matrix is "
   ]
  },
  {
   "cell_type": "markdown",
   "id": "35d5d77b",
   "metadata": {},
   "source": [
    "$X_{1}^{(1)}$ = 1973 nonprimary homicides \\\n",
    "$X_{2}^{(1)}$ = 1973 primary homicides (homicides involving family or acquaintances) \\\n",
    "$X_{1}^{(2)}$ = 1970 severity of punishment (median months served) \\\n",
    "$X_{2}^{(2)}$ = 1970 certainty of punishment (number of admissions to prison \n",
    "divided by number of homicides)"
   ]
  },
  {
   "cell_type": "code",
   "execution_count": 2,
   "id": "2e9ae56b",
   "metadata": {
    "ExecuteTime": {
     "end_time": "2022-05-22T10:23:52.870218Z",
     "start_time": "2022-05-22T10:23:51.836Z"
    }
   },
   "outputs": [],
   "source": [
    "R11_10 <- matrix(c(1, .615,\n",
    "                .615, 1),2,2)\n",
    "R12_10 <- matrix(c(-.111, -.266,\n",
    "                -.195, -.085),2,2)\n",
    "R21_10 <- matrix(c(-.111, -.195,\n",
    "                -.266, -.085),2,2)\n",
    "R22_10 <- matrix(c(1, -.269,\n",
    "                -.269, 1),2,2)"
   ]
  },
  {
   "cell_type": "markdown",
   "id": "07b7f8d0",
   "metadata": {},
   "source": [
    "## (a) Find the sample canonical correlations"
   ]
  },
  {
   "cell_type": "markdown",
   "id": "79ecdce5",
   "metadata": {
    "heading_collapsed": true
   },
   "source": [
    "### Canonical Correlation for Result 1"
   ]
  },
  {
   "cell_type": "code",
   "execution_count": 3,
   "id": "d18252d7",
   "metadata": {
    "ExecuteTime": {
     "end_time": "2022-05-22T10:23:52.932923Z",
     "start_time": "2022-05-22T10:23:51.840Z"
    },
    "hidden": true
   },
   "outputs": [
    {
     "data": {
      "text/html": [
       "<table class=\"dataframe\">\n",
       "<caption>A matrix: 2 × 2 of type dbl</caption>\n",
       "<tbody>\n",
       "\t<tr><td>0.04589913</td><td>0.02741096</td></tr>\n",
       "\t<tr><td>0.02741096</td><td>0.08438906</td></tr>\n",
       "</tbody>\n",
       "</table>\n"
      ],
      "text/latex": [
       "A matrix: 2 × 2 of type dbl\n",
       "\\begin{tabular}{ll}\n",
       "\t 0.04589913 & 0.02741096\\\\\n",
       "\t 0.02741096 & 0.08438906\\\\\n",
       "\\end{tabular}\n"
      ],
      "text/markdown": [
       "\n",
       "A matrix: 2 × 2 of type dbl\n",
       "\n",
       "| 0.04589913 | 0.02741096 |\n",
       "| 0.02741096 | 0.08438906 |\n",
       "\n"
      ],
      "text/plain": [
       "     [,1]       [,2]      \n",
       "[1,] 0.04589913 0.02741096\n",
       "[2,] 0.02741096 0.08438906"
      ]
     },
     "metadata": {},
     "output_type": "display_data"
    }
   ],
   "source": [
    "result1_10 <- sqrtm(solve(R11_10))%*%R12_10%*%solve(R22_10)%*%R21_10%*%sqrtm(solve(R11_10))\n",
    "result1_10"
   ]
  },
  {
   "cell_type": "code",
   "execution_count": 4,
   "id": "9e9654d8",
   "metadata": {
    "ExecuteTime": {
     "end_time": "2022-05-22T10:23:52.963918Z",
     "start_time": "2022-05-22T10:23:51.843Z"
    },
    "hidden": true
   },
   "outputs": [
    {
     "data": {
      "text/html": [
       "<style>\n",
       ".list-inline {list-style: none; margin:0; padding: 0}\n",
       ".list-inline>li {display: inline-block}\n",
       ".list-inline>li:not(:last-child)::after {content: \"\\00b7\"; padding: 0 .5ex}\n",
       "</style>\n",
       "<ol class=list-inline><li>0.0986363167986563</li><li>0.03165186545689</li></ol>\n"
      ],
      "text/latex": [
       "\\begin{enumerate*}\n",
       "\\item 0.0986363167986563\n",
       "\\item 0.03165186545689\n",
       "\\end{enumerate*}\n"
      ],
      "text/markdown": [
       "1. 0.0986363167986563\n",
       "2. 0.03165186545689\n",
       "\n",
       "\n"
      ],
      "text/plain": [
       "[1] 0.09863632 0.03165187"
      ]
     },
     "metadata": {},
     "output_type": "display_data"
    }
   ],
   "source": [
    "eigenvalue1_10 <- eigen(result1_10)$value\n",
    "eigenvalue1_10"
   ]
  },
  {
   "cell_type": "code",
   "execution_count": 5,
   "id": "7609f47c",
   "metadata": {
    "ExecuteTime": {
     "end_time": "2022-05-22T10:23:52.997494Z",
     "start_time": "2022-05-22T10:23:51.846Z"
    },
    "hidden": true
   },
   "outputs": [
    {
     "data": {
      "text/html": [
       "<table class=\"dataframe\">\n",
       "<caption>A matrix: 2 × 2 of type dbl</caption>\n",
       "<tbody>\n",
       "\t<tr><td>0.4611887</td><td>-0.8873021</td></tr>\n",
       "\t<tr><td>0.8873021</td><td> 0.4611887</td></tr>\n",
       "</tbody>\n",
       "</table>\n"
      ],
      "text/latex": [
       "A matrix: 2 × 2 of type dbl\n",
       "\\begin{tabular}{ll}\n",
       "\t 0.4611887 & -0.8873021\\\\\n",
       "\t 0.8873021 &  0.4611887\\\\\n",
       "\\end{tabular}\n"
      ],
      "text/markdown": [
       "\n",
       "A matrix: 2 × 2 of type dbl\n",
       "\n",
       "| 0.4611887 | -0.8873021 |\n",
       "| 0.8873021 |  0.4611887 |\n",
       "\n"
      ],
      "text/plain": [
       "     [,1]      [,2]      \n",
       "[1,] 0.4611887 -0.8873021\n",
       "[2,] 0.8873021  0.4611887"
      ]
     },
     "metadata": {},
     "output_type": "display_data"
    }
   ],
   "source": [
    "eigenvector1_10 <- eigen(result1_10)$vectors\n",
    "eigenvector1_10"
   ]
  },
  {
   "cell_type": "code",
   "execution_count": 6,
   "id": "57806244",
   "metadata": {
    "ExecuteTime": {
     "end_time": "2022-05-22T10:23:53.030464Z",
     "start_time": "2022-05-22T10:23:51.848Z"
    },
    "hidden": true
   },
   "outputs": [
    {
     "data": {
      "text/html": [
       "<table class=\"dataframe\">\n",
       "<caption>A matrix: 2 × 1 of type dbl</caption>\n",
       "<tbody>\n",
       "\t<tr><td>0.1871847</td></tr>\n",
       "\t<tr><td>0.8739285</td></tr>\n",
       "</tbody>\n",
       "</table>\n"
      ],
      "text/latex": [
       "A matrix: 2 × 1 of type dbl\n",
       "\\begin{tabular}{l}\n",
       "\t 0.1871847\\\\\n",
       "\t 0.8739285\\\\\n",
       "\\end{tabular}\n"
      ],
      "text/markdown": [
       "\n",
       "A matrix: 2 × 1 of type dbl\n",
       "\n",
       "| 0.1871847 |\n",
       "| 0.8739285 |\n",
       "\n"
      ],
      "text/plain": [
       "     [,1]     \n",
       "[1,] 0.1871847\n",
       "[2,] 0.8739285"
      ]
     },
     "metadata": {},
     "output_type": "display_data"
    }
   ],
   "source": [
    "a1_result1_10 <- sqrtm(solve(R11_10))%*%eigenvector1_10[,1]\n",
    "a1_result1_10"
   ]
  },
  {
   "cell_type": "code",
   "execution_count": 7,
   "id": "c53f9818",
   "metadata": {
    "ExecuteTime": {
     "end_time": "2022-05-22T10:23:53.059463Z",
     "start_time": "2022-05-22T10:23:51.851Z"
    },
    "hidden": true
   },
   "outputs": [
    {
     "data": {
      "text/html": [
       "<table class=\"dataframe\">\n",
       "<caption>A matrix: 2 × 1 of type dbl</caption>\n",
       "<tbody>\n",
       "\t<tr><td>-0.3051226</td></tr>\n",
       "\t<tr><td>-0.1928629</td></tr>\n",
       "</tbody>\n",
       "</table>\n"
      ],
      "text/latex": [
       "A matrix: 2 × 1 of type dbl\n",
       "\\begin{tabular}{l}\n",
       "\t -0.3051226\\\\\n",
       "\t -0.1928629\\\\\n",
       "\\end{tabular}\n"
      ],
      "text/markdown": [
       "\n",
       "A matrix: 2 × 1 of type dbl\n",
       "\n",
       "| -0.3051226 |\n",
       "| -0.1928629 |\n",
       "\n"
      ],
      "text/plain": [
       "     [,1]      \n",
       "[1,] -0.3051226\n",
       "[2,] -0.1928629"
      ]
     },
     "metadata": {},
     "output_type": "display_data"
    }
   ],
   "source": [
    "b1_result1_10 <- solve(R22_10)%*%R21_10%*%a1_result1_10\n",
    "b1_result1_10"
   ]
  },
  {
   "cell_type": "code",
   "execution_count": 8,
   "id": "fa2174e3",
   "metadata": {
    "ExecuteTime": {
     "end_time": "2022-05-22T10:23:53.094466Z",
     "start_time": "2022-05-22T10:23:51.854Z"
    },
    "hidden": true
   },
   "outputs": [
    {
     "data": {
      "text/html": [
       "<table class=\"dataframe\">\n",
       "<caption>A matrix: 2 × 1 of type dbl</caption>\n",
       "<tbody>\n",
       "\t<tr><td>-0.9715295</td></tr>\n",
       "\t<tr><td>-0.6140876</td></tr>\n",
       "</tbody>\n",
       "</table>\n"
      ],
      "text/latex": [
       "A matrix: 2 × 1 of type dbl\n",
       "\\begin{tabular}{l}\n",
       "\t -0.9715295\\\\\n",
       "\t -0.6140876\\\\\n",
       "\\end{tabular}\n"
      ],
      "text/markdown": [
       "\n",
       "A matrix: 2 × 1 of type dbl\n",
       "\n",
       "| -0.9715295 |\n",
       "| -0.6140876 |\n",
       "\n"
      ],
      "text/plain": [
       "     [,1]      \n",
       "[1,] -0.9715295\n",
       "[2,] -0.6140876"
      ]
     },
     "metadata": {},
     "output_type": "display_data"
    }
   ],
   "source": [
    "scale_result1_10 <- 1/(sqrtm(t(b1_result1_10)%*%R22_10%*%b1_result1_10))\n",
    "newb1_result1_10 <- (scale_result1_10[1,1])*b1_result1_10\n",
    "newb1_result1_10"
   ]
  },
  {
   "cell_type": "code",
   "execution_count": 9,
   "id": "c6cb6f5f",
   "metadata": {
    "ExecuteTime": {
     "end_time": "2022-05-22T10:23:53.122767Z",
     "start_time": "2022-05-22T10:23:51.857Z"
    },
    "hidden": true
   },
   "outputs": [
    {
     "data": {
      "text/html": [
       "0.314064192162456"
      ],
      "text/latex": [
       "0.314064192162456"
      ],
      "text/markdown": [
       "0.314064192162456"
      ],
      "text/plain": [
       "[1] 0.3140642"
      ]
     },
     "metadata": {},
     "output_type": "display_data"
    }
   ],
   "source": [
    "# canonical correlation 1\n",
    "r1_star_result1_10 <- eigenvalue1_10[1]\n",
    "sqrt(r1_star_result1_10)"
   ]
  },
  {
   "cell_type": "code",
   "execution_count": 10,
   "id": "21200e3e",
   "metadata": {
    "ExecuteTime": {
     "end_time": "2022-05-22T10:23:53.151076Z",
     "start_time": "2022-05-22T10:23:51.859Z"
    },
    "hidden": true,
    "scrolled": true
   },
   "outputs": [
    {
     "data": {
      "text/html": [
       "0.177909711530568"
      ],
      "text/latex": [
       "0.177909711530568"
      ],
      "text/markdown": [
       "0.177909711530568"
      ],
      "text/plain": [
       "[1] 0.1779097"
      ]
     },
     "metadata": {},
     "output_type": "display_data"
    }
   ],
   "source": [
    "# canonical correlation 2\n",
    "r2_star_result1_10 <- eigenvalue1_10[2]\n",
    "sqrt(r2_star_result1_10)"
   ]
  },
  {
   "cell_type": "markdown",
   "id": "4751abc2",
   "metadata": {
    "heading_collapsed": true
   },
   "source": [
    "### Canonical Correlation for Result 2"
   ]
  },
  {
   "cell_type": "code",
   "execution_count": 11,
   "id": "394fb771",
   "metadata": {
    "ExecuteTime": {
     "end_time": "2022-05-22T10:23:53.185046Z",
     "start_time": "2022-05-22T10:23:51.863Z"
    },
    "hidden": true
   },
   "outputs": [
    {
     "data": {
      "text/html": [
       "<table class=\"dataframe\">\n",
       "<caption>A matrix: 2 × 2 of type dbl</caption>\n",
       "<tbody>\n",
       "\t<tr><td>0.08342666</td><td>0.02806202</td></tr>\n",
       "\t<tr><td>0.02806202</td><td>0.04686152</td></tr>\n",
       "</tbody>\n",
       "</table>\n"
      ],
      "text/latex": [
       "A matrix: 2 × 2 of type dbl\n",
       "\\begin{tabular}{ll}\n",
       "\t 0.08342666 & 0.02806202\\\\\n",
       "\t 0.02806202 & 0.04686152\\\\\n",
       "\\end{tabular}\n"
      ],
      "text/markdown": [
       "\n",
       "A matrix: 2 × 2 of type dbl\n",
       "\n",
       "| 0.08342666 | 0.02806202 |\n",
       "| 0.02806202 | 0.04686152 |\n",
       "\n"
      ],
      "text/plain": [
       "     [,1]       [,2]      \n",
       "[1,] 0.08342666 0.02806202\n",
       "[2,] 0.02806202 0.04686152"
      ]
     },
     "metadata": {},
     "output_type": "display_data"
    }
   ],
   "source": [
    "result2_10 <- sqrtm(solve(R22_10))%*%R21_10%*%solve(R11_10)%*%R12_10%*%sqrtm(solve(R22_10))\n",
    "result2_10"
   ]
  },
  {
   "cell_type": "code",
   "execution_count": 12,
   "id": "74dae725",
   "metadata": {
    "ExecuteTime": {
     "end_time": "2022-05-22T10:23:53.224879Z",
     "start_time": "2022-05-22T10:23:51.865Z"
    },
    "hidden": true
   },
   "outputs": [
    {
     "data": {
      "text/html": [
       "<style>\n",
       ".list-inline {list-style: none; margin:0; padding: 0}\n",
       ".list-inline>li {display: inline-block}\n",
       ".list-inline>li:not(:last-child)::after {content: \"\\00b7\"; padding: 0 .5ex}\n",
       "</style>\n",
       "<ol class=list-inline><li>0.0986363167986563</li><li>0.03165186545689</li></ol>\n"
      ],
      "text/latex": [
       "\\begin{enumerate*}\n",
       "\\item 0.0986363167986563\n",
       "\\item 0.03165186545689\n",
       "\\end{enumerate*}\n"
      ],
      "text/markdown": [
       "1. 0.0986363167986563\n",
       "2. 0.03165186545689\n",
       "\n",
       "\n"
      ],
      "text/plain": [
       "[1] 0.09863632 0.03165187"
      ]
     },
     "metadata": {},
     "output_type": "display_data"
    }
   ],
   "source": [
    "eigenvalue2_10 <- eigen(result2_10)$value\n",
    "eigenvalue2_10"
   ]
  },
  {
   "cell_type": "code",
   "execution_count": 13,
   "id": "7074be3e",
   "metadata": {
    "ExecuteTime": {
     "end_time": "2022-05-22T10:23:53.252851Z",
     "start_time": "2022-05-22T10:23:51.868Z"
    },
    "hidden": true
   },
   "outputs": [
    {
     "data": {
      "text/html": [
       "<table class=\"dataframe\">\n",
       "<caption>A matrix: 2 × 2 of type dbl</caption>\n",
       "<tbody>\n",
       "\t<tr><td>-0.8791686</td><td> 0.4765107</td></tr>\n",
       "\t<tr><td>-0.4765107</td><td>-0.8791686</td></tr>\n",
       "</tbody>\n",
       "</table>\n"
      ],
      "text/latex": [
       "A matrix: 2 × 2 of type dbl\n",
       "\\begin{tabular}{ll}\n",
       "\t -0.8791686 &  0.4765107\\\\\n",
       "\t -0.4765107 & -0.8791686\\\\\n",
       "\\end{tabular}\n"
      ],
      "text/markdown": [
       "\n",
       "A matrix: 2 × 2 of type dbl\n",
       "\n",
       "| -0.8791686 |  0.4765107 |\n",
       "| -0.4765107 | -0.8791686 |\n",
       "\n"
      ],
      "text/plain": [
       "     [,1]       [,2]      \n",
       "[1,] -0.8791686  0.4765107\n",
       "[2,] -0.4765107 -0.8791686"
      ]
     },
     "metadata": {},
     "output_type": "display_data"
    }
   ],
   "source": [
    "eigenvector2_10 <- eigen(result2_10)$vectors\n",
    "eigenvector2_10"
   ]
  },
  {
   "cell_type": "code",
   "execution_count": 14,
   "id": "663aeaf6",
   "metadata": {
    "ExecuteTime": {
     "end_time": "2022-05-22T10:23:53.288877Z",
     "start_time": "2022-05-22T10:23:51.871Z"
    },
    "hidden": true
   },
   "outputs": [
    {
     "data": {
      "text/html": [
       "<table class=\"dataframe\">\n",
       "<caption>A matrix: 2 × 1 of type dbl</caption>\n",
       "<tbody>\n",
       "\t<tr><td>-0.9715295</td></tr>\n",
       "\t<tr><td>-0.6140876</td></tr>\n",
       "</tbody>\n",
       "</table>\n"
      ],
      "text/latex": [
       "A matrix: 2 × 1 of type dbl\n",
       "\\begin{tabular}{l}\n",
       "\t -0.9715295\\\\\n",
       "\t -0.6140876\\\\\n",
       "\\end{tabular}\n"
      ],
      "text/markdown": [
       "\n",
       "A matrix: 2 × 1 of type dbl\n",
       "\n",
       "| -0.9715295 |\n",
       "| -0.6140876 |\n",
       "\n"
      ],
      "text/plain": [
       "     [,1]      \n",
       "[1,] -0.9715295\n",
       "[2,] -0.6140876"
      ]
     },
     "metadata": {},
     "output_type": "display_data"
    }
   ],
   "source": [
    "a1_result2_10 <- sqrtm(solve(R22_10))%*%eigenvector2_10[,1]\n",
    "a1_result2_10"
   ]
  },
  {
   "cell_type": "code",
   "execution_count": 15,
   "id": "c2a50ebb",
   "metadata": {
    "ExecuteTime": {
     "end_time": "2022-05-22T10:23:53.314850Z",
     "start_time": "2022-05-22T10:23:51.874Z"
    },
    "hidden": true
   },
   "outputs": [
    {
     "data": {
      "text/html": [
       "<table class=\"dataframe\">\n",
       "<caption>A matrix: 2 × 1 of type dbl</caption>\n",
       "<tbody>\n",
       "\t<tr><td>0.05878802</td></tr>\n",
       "\t<tr><td>0.27446965</td></tr>\n",
       "</tbody>\n",
       "</table>\n"
      ],
      "text/latex": [
       "A matrix: 2 × 1 of type dbl\n",
       "\\begin{tabular}{l}\n",
       "\t 0.05878802\\\\\n",
       "\t 0.27446965\\\\\n",
       "\\end{tabular}\n"
      ],
      "text/markdown": [
       "\n",
       "A matrix: 2 × 1 of type dbl\n",
       "\n",
       "| 0.05878802 |\n",
       "| 0.27446965 |\n",
       "\n"
      ],
      "text/plain": [
       "     [,1]      \n",
       "[1,] 0.05878802\n",
       "[2,] 0.27446965"
      ]
     },
     "metadata": {},
     "output_type": "display_data"
    }
   ],
   "source": [
    "b1_result2_10 <- solve(R11_10)%*%R12_10%*%a1_result2_10\n",
    "b1_result2_10"
   ]
  },
  {
   "cell_type": "code",
   "execution_count": 16,
   "id": "ae4e7afe",
   "metadata": {
    "ExecuteTime": {
     "end_time": "2022-05-22T10:23:53.350090Z",
     "start_time": "2022-05-22T10:23:51.876Z"
    },
    "hidden": true
   },
   "outputs": [
    {
     "data": {
      "text/html": [
       "<table class=\"dataframe\">\n",
       "<caption>A matrix: 2 × 1 of type dbl</caption>\n",
       "<tbody>\n",
       "\t<tr><td>0.2220255</td></tr>\n",
       "\t<tr><td>1.0365932</td></tr>\n",
       "</tbody>\n",
       "</table>\n"
      ],
      "text/latex": [
       "A matrix: 2 × 1 of type dbl\n",
       "\\begin{tabular}{l}\n",
       "\t 0.2220255\\\\\n",
       "\t 1.0365932\\\\\n",
       "\\end{tabular}\n"
      ],
      "text/markdown": [
       "\n",
       "A matrix: 2 × 1 of type dbl\n",
       "\n",
       "| 0.2220255 |\n",
       "| 1.0365932 |\n",
       "\n"
      ],
      "text/plain": [
       "     [,1]     \n",
       "[1,] 0.2220255\n",
       "[2,] 1.0365932"
      ]
     },
     "metadata": {},
     "output_type": "display_data"
    }
   ],
   "source": [
    "scale_result2_10 <- 1/(sqrtm(t(b1_result2_10)%*%R22_10%*%b1_result2_10))\n",
    "newb1_result2_10 <- (scale_result2_10[1,1])*b1_result2_10\n",
    "newb1_result2_10"
   ]
  },
  {
   "cell_type": "code",
   "execution_count": 17,
   "id": "4728e709",
   "metadata": {
    "ExecuteTime": {
     "end_time": "2022-05-22T10:23:53.380089Z",
     "start_time": "2022-05-22T10:23:51.879Z"
    },
    "hidden": true
   },
   "outputs": [
    {
     "data": {
      "text/html": [
       "0.314064192162456"
      ],
      "text/latex": [
       "0.314064192162456"
      ],
      "text/markdown": [
       "0.314064192162456"
      ],
      "text/plain": [
       "[1] 0.3140642"
      ]
     },
     "metadata": {},
     "output_type": "display_data"
    }
   ],
   "source": [
    "# canonical correlation 1\n",
    "r1_star_result2_10 <- eigenvalue2_10[1]\n",
    "sqrt(r1_star_result2_10)"
   ]
  },
  {
   "cell_type": "code",
   "execution_count": 18,
   "id": "149b17ce",
   "metadata": {
    "ExecuteTime": {
     "end_time": "2022-05-22T10:23:53.407087Z",
     "start_time": "2022-05-22T10:23:51.882Z"
    },
    "hidden": true
   },
   "outputs": [
    {
     "data": {
      "text/html": [
       "0.177909711530568"
      ],
      "text/latex": [
       "0.177909711530568"
      ],
      "text/markdown": [
       "0.177909711530568"
      ],
      "text/plain": [
       "[1] 0.1779097"
      ]
     },
     "metadata": {},
     "output_type": "display_data"
    }
   ],
   "source": [
    "# canonical correlation 2\n",
    "r2_star_result2_10 <- eigenvalue2_10[2]\n",
    "sqrt(r2_star_result2_10)"
   ]
  },
  {
   "cell_type": "markdown",
   "id": "c7870367",
   "metadata": {
    "heading_collapsed": true
   },
   "source": [
    "## (b) Determine the first canonical pair U1, V1 and interpret these quantities. "
   ]
  },
  {
   "cell_type": "code",
   "execution_count": 19,
   "id": "91327242",
   "metadata": {
    "ExecuteTime": {
     "end_time": "2022-05-22T10:23:53.437114Z",
     "start_time": "2022-05-22T10:23:51.885Z"
    },
    "hidden": true
   },
   "outputs": [
    {
     "data": {
      "text/html": [
       "<table class=\"dataframe\">\n",
       "<caption>A matrix: 1 × 2 of type dbl</caption>\n",
       "<tbody>\n",
       "\t<tr><td>0.1871847</td><td>0.8739285</td></tr>\n",
       "</tbody>\n",
       "</table>\n"
      ],
      "text/latex": [
       "A matrix: 1 × 2 of type dbl\n",
       "\\begin{tabular}{ll}\n",
       "\t 0.1871847 & 0.8739285\\\\\n",
       "\\end{tabular}\n"
      ],
      "text/markdown": [
       "\n",
       "A matrix: 1 × 2 of type dbl\n",
       "\n",
       "| 0.1871847 | 0.8739285 |\n",
       "\n"
      ],
      "text/plain": [
       "     [,1]      [,2]     \n",
       "[1,] 0.1871847 0.8739285"
      ]
     },
     "metadata": {},
     "output_type": "display_data"
    }
   ],
   "source": [
    "t(eigenvector1_10[, 1]) %*% sqrtm(solve(R11_10))"
   ]
  },
  {
   "cell_type": "markdown",
   "id": "7a9a4a4a",
   "metadata": {},
   "source": [
    "# 10.11"
   ]
  },
  {
   "cell_type": "markdown",
   "id": "60e9cdcd",
   "metadata": {},
   "source": [
    "Example 8.5 presents the correlation matrix obtained from n = 100 successive weekly rates of return for five stocks. Perform a canonical correlation analysis with $X^{(1)}$ = [$X_{1}^{(1)}$, $X_{2}^{(1)}$, $X_{3}^{(1)}$]', the rates of return for the chemical companies, and $X^{(2)}$ = [$X_{1}^{(2)}$, $X_{2}^{(2)}$]'\n",
    ", the rates of return for the oil companies."
   ]
  },
  {
   "cell_type": "code",
   "execution_count": 20,
   "id": "60621c4e",
   "metadata": {
    "ExecuteTime": {
     "end_time": "2022-05-22T10:23:53.464087Z",
     "start_time": "2022-05-22T10:23:51.890Z"
    }
   },
   "outputs": [
    {
     "data": {
      "text/html": [
       "<table class=\"dataframe\">\n",
       "<caption>A matrix: 1 × 5 of type dbl</caption>\n",
       "<tbody>\n",
       "\t<tr><td>0.0054</td><td>0.0048</td><td>0.0057</td><td>0.0063</td><td>0.0037</td></tr>\n",
       "</tbody>\n",
       "</table>\n"
      ],
      "text/latex": [
       "A matrix: 1 × 5 of type dbl\n",
       "\\begin{tabular}{lllll}\n",
       "\t 0.0054 & 0.0048 & 0.0057 & 0.0063 & 0.0037\\\\\n",
       "\\end{tabular}\n"
      ],
      "text/markdown": [
       "\n",
       "A matrix: 1 × 5 of type dbl\n",
       "\n",
       "| 0.0054 | 0.0048 | 0.0057 | 0.0063 | 0.0037 |\n",
       "\n"
      ],
      "text/plain": [
       "     [,1]   [,2]   [,3]   [,4]   [,5]  \n",
       "[1,] 0.0054 0.0048 0.0057 0.0063 0.0037"
      ]
     },
     "metadata": {},
     "output_type": "display_data"
    }
   ],
   "source": [
    "xbar_11 <- matrix(c( .0054, .0048, .0057, .0063, .0037))\n",
    "t(xbar_11)"
   ]
  },
  {
   "cell_type": "code",
   "execution_count": 21,
   "id": "c0f5cffc",
   "metadata": {
    "ExecuteTime": {
     "end_time": "2022-05-22T10:23:53.501878Z",
     "start_time": "2022-05-22T10:23:51.893Z"
    }
   },
   "outputs": [],
   "source": [
    "R11_11 <- matrix(c(1, .577, .509,\n",
    "                .577, 1, .599,\n",
    "                .509, .599, 1),3,3)\n",
    "R12_11 <- matrix(c(.387, .389,\n",
    "                .436, .462,\n",
    "                .322, .426),3,2)\n",
    "R21_11 <- matrix(c(.387, .462, .389,\n",
    "                .322, .436, .426),2,3)\n",
    "R22_11 <- matrix(c(1, .523,\n",
    "                .523, 1),2,2)"
   ]
  },
  {
   "cell_type": "markdown",
   "id": "9230e6fc",
   "metadata": {},
   "source": [
    "## Canonical Correlation"
   ]
  },
  {
   "cell_type": "markdown",
   "id": "d2ae957e",
   "metadata": {
    "heading_collapsed": true
   },
   "source": [
    "### Canonical Correlation for Result 1"
   ]
  },
  {
   "cell_type": "code",
   "execution_count": 24,
   "id": "14cc2f06",
   "metadata": {
    "ExecuteTime": {
     "end_time": "2022-05-22T10:23:53.595871Z",
     "start_time": "2022-05-22T10:23:51.903Z"
    },
    "hidden": true
   },
   "outputs": [
    {
     "data": {
      "text/html": [
       "<table class=\"dataframe\">\n",
       "<caption>A matrix: 3 × 3 of type dbl</caption>\n",
       "<tbody>\n",
       "\t<tr><td>0.14666732</td><td>0.06653671</td><td>0.13570327</td></tr>\n",
       "\t<tr><td>0.06653671</td><td>0.05842272</td><td>0.08148331</td></tr>\n",
       "\t<tr><td>0.13570327</td><td>0.08148331</td><td>0.13961186</td></tr>\n",
       "</tbody>\n",
       "</table>\n"
      ],
      "text/latex": [
       "A matrix: 3 × 3 of type dbl\n",
       "\\begin{tabular}{lll}\n",
       "\t 0.14666732 & 0.06653671 & 0.13570327\\\\\n",
       "\t 0.06653671 & 0.05842272 & 0.08148331\\\\\n",
       "\t 0.13570327 & 0.08148331 & 0.13961186\\\\\n",
       "\\end{tabular}\n"
      ],
      "text/markdown": [
       "\n",
       "A matrix: 3 × 3 of type dbl\n",
       "\n",
       "| 0.14666732 | 0.06653671 | 0.13570327 |\n",
       "| 0.06653671 | 0.05842272 | 0.08148331 |\n",
       "| 0.13570327 | 0.08148331 | 0.13961186 |\n",
       "\n"
      ],
      "text/plain": [
       "     [,1]       [,2]       [,3]      \n",
       "[1,] 0.14666732 0.06653671 0.13570327\n",
       "[2,] 0.06653671 0.05842272 0.08148331\n",
       "[3,] 0.13570327 0.08148331 0.13961186"
      ]
     },
     "metadata": {},
     "output_type": "display_data"
    }
   ],
   "source": [
    "result1_11 <- sqrtm(solve(R11_11))%*%R12_11%*%solve(R22_11)%*%R21_11%*%sqrtm(solve(R11_11))\n",
    "result1_11"
   ]
  },
  {
   "cell_type": "code",
   "execution_count": 25,
   "id": "f9f9323d",
   "metadata": {
    "ExecuteTime": {
     "end_time": "2022-05-22T10:23:53.626874Z",
     "start_time": "2022-05-22T10:23:51.905Z"
    },
    "hidden": true
   },
   "outputs": [
    {
     "data": {
      "text/html": [
       "<style>\n",
       ".list-inline {list-style: none; margin:0; padding: 0}\n",
       ".list-inline>li {display: inline-block}\n",
       ".list-inline>li:not(:last-child)::after {content: \"\\00b7\"; padding: 0 .5ex}\n",
       "</style>\n",
       "<ol class=list-inline><li>0.320624966482218</li><li>0.0240769313711325</li><li>3.87347357307522e-17</li></ol>\n"
      ],
      "text/latex": [
       "\\begin{enumerate*}\n",
       "\\item 0.320624966482218\n",
       "\\item 0.0240769313711325\n",
       "\\item 3.87347357307522e-17\n",
       "\\end{enumerate*}\n"
      ],
      "text/markdown": [
       "1. 0.320624966482218\n",
       "2. 0.0240769313711325\n",
       "3. 3.87347357307522e-17\n",
       "\n",
       "\n"
      ],
      "text/plain": [
       "[1] 3.206250e-01 2.407693e-02 3.873474e-17"
      ]
     },
     "metadata": {},
     "output_type": "display_data"
    }
   ],
   "source": [
    "eigenvalue1_11 <- eigen(result1_11)$value\n",
    "eigenvalue1_11"
   ]
  },
  {
   "cell_type": "code",
   "execution_count": 26,
   "id": "e47ed567",
   "metadata": {
    "ExecuteTime": {
     "end_time": "2022-05-22T10:23:53.654871Z",
     "start_time": "2022-05-22T10:23:51.908Z"
    },
    "hidden": true
   },
   "outputs": [
    {
     "data": {
      "text/html": [
       "<table class=\"dataframe\">\n",
       "<caption>A matrix: 3 × 3 of type dbl</caption>\n",
       "<tbody>\n",
       "\t<tr><td>-0.6552449</td><td> 0.6116750</td><td>-0.4432920</td></tr>\n",
       "\t<tr><td>-0.3708048</td><td>-0.7716914</td><td>-0.5167166</td></tr>\n",
       "\t<tr><td>-0.6581473</td><td>-0.1742011</td><td> 0.7324590</td></tr>\n",
       "</tbody>\n",
       "</table>\n"
      ],
      "text/latex": [
       "A matrix: 3 × 3 of type dbl\n",
       "\\begin{tabular}{lll}\n",
       "\t -0.6552449 &  0.6116750 & -0.4432920\\\\\n",
       "\t -0.3708048 & -0.7716914 & -0.5167166\\\\\n",
       "\t -0.6581473 & -0.1742011 &  0.7324590\\\\\n",
       "\\end{tabular}\n"
      ],
      "text/markdown": [
       "\n",
       "A matrix: 3 × 3 of type dbl\n",
       "\n",
       "| -0.6552449 |  0.6116750 | -0.4432920 |\n",
       "| -0.3708048 | -0.7716914 | -0.5167166 |\n",
       "| -0.6581473 | -0.1742011 |  0.7324590 |\n",
       "\n"
      ],
      "text/plain": [
       "     [,1]       [,2]       [,3]      \n",
       "[1,] -0.6552449  0.6116750 -0.4432920\n",
       "[2,] -0.3708048 -0.7716914 -0.5167166\n",
       "[3,] -0.6581473 -0.1742011  0.7324590"
      ]
     },
     "metadata": {},
     "output_type": "display_data"
    }
   ],
   "source": [
    "eigenvector1_11 <- eigen(result1_11)$vectors\n",
    "eigenvector1_11"
   ]
  },
  {
   "cell_type": "code",
   "execution_count": 27,
   "id": "91bfb23b",
   "metadata": {
    "ExecuteTime": {
     "end_time": "2022-05-22T10:23:53.685926Z",
     "start_time": "2022-05-22T10:23:51.910Z"
    },
    "hidden": true
   },
   "outputs": [
    {
     "data": {
      "text/html": [
       "<table class=\"dataframe\">\n",
       "<caption>A matrix: 3 × 1 of type dbl</caption>\n",
       "<tbody>\n",
       "\t<tr><td>-0.54645947</td></tr>\n",
       "\t<tr><td>-0.06514049</td></tr>\n",
       "\t<tr><td>-0.55269225</td></tr>\n",
       "</tbody>\n",
       "</table>\n"
      ],
      "text/latex": [
       "A matrix: 3 × 1 of type dbl\n",
       "\\begin{tabular}{l}\n",
       "\t -0.54645947\\\\\n",
       "\t -0.06514049\\\\\n",
       "\t -0.55269225\\\\\n",
       "\\end{tabular}\n"
      ],
      "text/markdown": [
       "\n",
       "A matrix: 3 × 1 of type dbl\n",
       "\n",
       "| -0.54645947 |\n",
       "| -0.06514049 |\n",
       "| -0.55269225 |\n",
       "\n"
      ],
      "text/plain": [
       "     [,1]       \n",
       "[1,] -0.54645947\n",
       "[2,] -0.06514049\n",
       "[3,] -0.55269225"
      ]
     },
     "metadata": {},
     "output_type": "display_data"
    }
   ],
   "source": [
    "a1_result1_11 <- sqrtm(solve(R11_11))%*%eigenvector1_11[,1]\n",
    "a1_result1_11"
   ]
  },
  {
   "cell_type": "code",
   "execution_count": 28,
   "id": "55718dad",
   "metadata": {
    "ExecuteTime": {
     "end_time": "2022-05-22T10:23:53.717928Z",
     "start_time": "2022-05-22T10:23:51.914Z"
    },
    "hidden": true
   },
   "outputs": [
    {
     "data": {
      "text/html": [
       "<table class=\"dataframe\">\n",
       "<caption>A matrix: 2 × 1 of type dbl</caption>\n",
       "<tbody>\n",
       "\t<tr><td>-0.3772472</td></tr>\n",
       "\t<tr><td>-0.4222671</td></tr>\n",
       "</tbody>\n",
       "</table>\n"
      ],
      "text/latex": [
       "A matrix: 2 × 1 of type dbl\n",
       "\\begin{tabular}{l}\n",
       "\t -0.3772472\\\\\n",
       "\t -0.4222671\\\\\n",
       "\\end{tabular}\n"
      ],
      "text/markdown": [
       "\n",
       "A matrix: 2 × 1 of type dbl\n",
       "\n",
       "| -0.3772472 |\n",
       "| -0.4222671 |\n",
       "\n"
      ],
      "text/plain": [
       "     [,1]      \n",
       "[1,] -0.3772472\n",
       "[2,] -0.4222671"
      ]
     },
     "metadata": {},
     "output_type": "display_data"
    }
   ],
   "source": [
    "b1_result1_11 <- sqrtm(solve(R22_11))%*%R21_11%*%a1_result1_11\n",
    "b1_result1_11"
   ]
  },
  {
   "cell_type": "code",
   "execution_count": 29,
   "id": "7bce75e9",
   "metadata": {
    "ExecuteTime": {
     "end_time": "2022-05-22T10:23:53.768021Z",
     "start_time": "2022-05-22T10:23:51.916Z"
    },
    "hidden": true
   },
   "outputs": [
    {
     "data": {
      "text/html": [
       "<table class=\"dataframe\">\n",
       "<caption>A matrix: 2 × 1 of type dbl</caption>\n",
       "<tbody>\n",
       "\t<tr><td>-0.5404422</td></tr>\n",
       "\t<tr><td>-0.6049376</td></tr>\n",
       "</tbody>\n",
       "</table>\n"
      ],
      "text/latex": [
       "A matrix: 2 × 1 of type dbl\n",
       "\\begin{tabular}{l}\n",
       "\t -0.5404422\\\\\n",
       "\t -0.6049376\\\\\n",
       "\\end{tabular}\n"
      ],
      "text/markdown": [
       "\n",
       "A matrix: 2 × 1 of type dbl\n",
       "\n",
       "| -0.5404422 |\n",
       "| -0.6049376 |\n",
       "\n"
      ],
      "text/plain": [
       "     [,1]      \n",
       "[1,] -0.5404422\n",
       "[2,] -0.6049376"
      ]
     },
     "metadata": {},
     "output_type": "display_data"
    }
   ],
   "source": [
    "scale_result1_11 <- 1/(sqrtm(t(b1_result1_11)%*%R22_11%*%b1_result1_11))\n",
    "newb1_result1_11 <- (scale_result1_11[1,1])*b1_result1_11\n",
    "newb1_result1_11"
   ]
  },
  {
   "cell_type": "code",
   "execution_count": 30,
   "id": "1fde50cf",
   "metadata": {
    "ExecuteTime": {
     "end_time": "2022-05-22T10:23:53.795032Z",
     "start_time": "2022-05-22T10:23:51.921Z"
    },
    "hidden": true
   },
   "outputs": [
    {
     "data": {
      "text/html": [
       "0.566237553048381"
      ],
      "text/latex": [
       "0.566237553048381"
      ],
      "text/markdown": [
       "0.566237553048381"
      ],
      "text/plain": [
       "[1] 0.5662376"
      ]
     },
     "metadata": {},
     "output_type": "display_data"
    }
   ],
   "source": [
    "# canonical correlation 1\n",
    "r1_star_result1_11 <- eigenvalue1_11[1]\n",
    "sqrt(r1_star_result1_11)"
   ]
  },
  {
   "cell_type": "code",
   "execution_count": 31,
   "id": "b0d6a002",
   "metadata": {
    "ExecuteTime": {
     "end_time": "2022-05-22T10:23:53.821258Z",
     "start_time": "2022-05-22T10:23:51.924Z"
    },
    "hidden": true
   },
   "outputs": [
    {
     "data": {
      "text/html": [
       "0.155167430123504"
      ],
      "text/latex": [
       "0.155167430123504"
      ],
      "text/markdown": [
       "0.155167430123504"
      ],
      "text/plain": [
       "[1] 0.1551674"
      ]
     },
     "metadata": {},
     "output_type": "display_data"
    }
   ],
   "source": [
    "# canonical correlation 2\n",
    "r2_star_result1_11 <- eigenvalue1_11[2]\n",
    "sqrt(r2_star_result1_11)"
   ]
  },
  {
   "cell_type": "code",
   "execution_count": 32,
   "id": "d0995fca",
   "metadata": {
    "ExecuteTime": {
     "end_time": "2022-05-22T10:23:53.852158Z",
     "start_time": "2022-05-22T10:23:51.927Z"
    },
    "hidden": true,
    "scrolled": true
   },
   "outputs": [
    {
     "data": {
      "text/html": [
       "6.22372362261952e-09"
      ],
      "text/latex": [
       "6.22372362261952e-09"
      ],
      "text/markdown": [
       "6.22372362261952e-09"
      ],
      "text/plain": [
       "[1] 6.223724e-09"
      ]
     },
     "metadata": {},
     "output_type": "display_data"
    }
   ],
   "source": [
    "# canonical correlation 3\n",
    "r3_star_result1_11 <- eigenvalue1_11[3]\n",
    "sqrt(r3_star_result1_11)"
   ]
  },
  {
   "cell_type": "markdown",
   "id": "f19994cb",
   "metadata": {
    "heading_collapsed": true
   },
   "source": [
    "### Canonical Correlation for Result 2"
   ]
  },
  {
   "cell_type": "code",
   "execution_count": 33,
   "id": "30d87c12",
   "metadata": {
    "ExecuteTime": {
     "end_time": "2022-05-22T10:23:53.891957Z",
     "start_time": "2022-05-22T10:23:51.930Z"
    },
    "hidden": true
   },
   "outputs": [
    {
     "data": {
      "text/html": [
       "<table class=\"dataframe\">\n",
       "<caption>A matrix: 2 × 2 of type dbl</caption>\n",
       "<tbody>\n",
       "\t<tr><td>0.1557054</td><td>0.1473367</td></tr>\n",
       "\t<tr><td>0.1473367</td><td>0.1889965</td></tr>\n",
       "</tbody>\n",
       "</table>\n"
      ],
      "text/latex": [
       "A matrix: 2 × 2 of type dbl\n",
       "\\begin{tabular}{ll}\n",
       "\t 0.1557054 & 0.1473367\\\\\n",
       "\t 0.1473367 & 0.1889965\\\\\n",
       "\\end{tabular}\n"
      ],
      "text/markdown": [
       "\n",
       "A matrix: 2 × 2 of type dbl\n",
       "\n",
       "| 0.1557054 | 0.1473367 |\n",
       "| 0.1473367 | 0.1889965 |\n",
       "\n"
      ],
      "text/plain": [
       "     [,1]      [,2]     \n",
       "[1,] 0.1557054 0.1473367\n",
       "[2,] 0.1473367 0.1889965"
      ]
     },
     "metadata": {},
     "output_type": "display_data"
    }
   ],
   "source": [
    "result2_11 <- sqrtm(solve(R22_11))%*%R21_11%*%solve(R11_11)%*%R12_11%*%sqrtm(solve(R22_11))\n",
    "result2_11"
   ]
  },
  {
   "cell_type": "code",
   "execution_count": 34,
   "id": "329964a4",
   "metadata": {
    "ExecuteTime": {
     "end_time": "2022-05-22T10:23:53.918955Z",
     "start_time": "2022-05-22T10:23:51.933Z"
    },
    "hidden": true
   },
   "outputs": [
    {
     "data": {
      "text/html": [
       "<style>\n",
       ".list-inline {list-style: none; margin:0; padding: 0}\n",
       ".list-inline>li {display: inline-block}\n",
       ".list-inline>li:not(:last-child)::after {content: \"\\00b7\"; padding: 0 .5ex}\n",
       "</style>\n",
       "<ol class=list-inline><li>0.320624966482218</li><li>0.0240769313711325</li></ol>\n"
      ],
      "text/latex": [
       "\\begin{enumerate*}\n",
       "\\item 0.320624966482218\n",
       "\\item 0.0240769313711325\n",
       "\\end{enumerate*}\n"
      ],
      "text/markdown": [
       "1. 0.320624966482218\n",
       "2. 0.0240769313711325\n",
       "\n",
       "\n"
      ],
      "text/plain": [
       "[1] 0.32062497 0.02407693"
      ]
     },
     "metadata": {},
     "output_type": "display_data"
    }
   ],
   "source": [
    "eigenvalue2_11 <- eigen(result2_11)$value\n",
    "eigenvalue2_11"
   ]
  },
  {
   "cell_type": "code",
   "execution_count": 35,
   "id": "0aa66da8",
   "metadata": {
    "ExecuteTime": {
     "end_time": "2022-05-22T10:23:53.948156Z",
     "start_time": "2022-05-22T10:23:51.935Z"
    },
    "hidden": true,
    "scrolled": true
   },
   "outputs": [
    {
     "data": {
      "text/html": [
       "<table class=\"dataframe\">\n",
       "<caption>A matrix: 2 × 2 of type dbl</caption>\n",
       "<tbody>\n",
       "\t<tr><td>0.6662348</td><td>-0.7457420</td></tr>\n",
       "\t<tr><td>0.7457420</td><td> 0.6662348</td></tr>\n",
       "</tbody>\n",
       "</table>\n"
      ],
      "text/latex": [
       "A matrix: 2 × 2 of type dbl\n",
       "\\begin{tabular}{ll}\n",
       "\t 0.6662348 & -0.7457420\\\\\n",
       "\t 0.7457420 &  0.6662348\\\\\n",
       "\\end{tabular}\n"
      ],
      "text/markdown": [
       "\n",
       "A matrix: 2 × 2 of type dbl\n",
       "\n",
       "| 0.6662348 | -0.7457420 |\n",
       "| 0.7457420 |  0.6662348 |\n",
       "\n"
      ],
      "text/plain": [
       "     [,1]      [,2]      \n",
       "[1,] 0.6662348 -0.7457420\n",
       "[2,] 0.7457420  0.6662348"
      ]
     },
     "metadata": {},
     "output_type": "display_data"
    }
   ],
   "source": [
    "eigenvector2_11 <- eigen(result2_11)$vectors\n",
    "eigenvector2_11"
   ]
  },
  {
   "cell_type": "code",
   "execution_count": 36,
   "id": "f316167b",
   "metadata": {
    "ExecuteTime": {
     "end_time": "2022-05-22T10:23:53.980144Z",
     "start_time": "2022-05-22T10:23:51.938Z"
    },
    "hidden": true
   },
   "outputs": [
    {
     "data": {
      "text/html": [
       "<table class=\"dataframe\">\n",
       "<caption>A matrix: 2 × 1 of type dbl</caption>\n",
       "<tbody>\n",
       "\t<tr><td>0.5145084</td></tr>\n",
       "\t<tr><td>0.6296275</td></tr>\n",
       "</tbody>\n",
       "</table>\n"
      ],
      "text/latex": [
       "A matrix: 2 × 1 of type dbl\n",
       "\\begin{tabular}{l}\n",
       "\t 0.5145084\\\\\n",
       "\t 0.6296275\\\\\n",
       "\\end{tabular}\n"
      ],
      "text/markdown": [
       "\n",
       "A matrix: 2 × 1 of type dbl\n",
       "\n",
       "| 0.5145084 |\n",
       "| 0.6296275 |\n",
       "\n"
      ],
      "text/plain": [
       "     [,1]     \n",
       "[1,] 0.5145084\n",
       "[2,] 0.6296275"
      ]
     },
     "metadata": {},
     "output_type": "display_data"
    }
   ],
   "source": [
    "a1_result2_11 <- sqrtm(solve(R22_11))%*%eigenvector2_11[,1]\n",
    "a1_result2_11"
   ]
  },
  {
   "cell_type": "code",
   "execution_count": 37,
   "id": "6d1f76d4",
   "metadata": {
    "ExecuteTime": {
     "end_time": "2022-05-22T10:23:54.016179Z",
     "start_time": "2022-05-22T10:23:51.940Z"
    },
    "hidden": true
   },
   "outputs": [
    {
     "data": {
      "text/html": [
       "<table class=\"dataframe\">\n",
       "<caption>A matrix: 3 × 1 of type dbl</caption>\n",
       "<tbody>\n",
       "\t<tr><td>0.3710243</td></tr>\n",
       "\t<tr><td>0.2099636</td></tr>\n",
       "\t<tr><td>0.3726677</td></tr>\n",
       "</tbody>\n",
       "</table>\n"
      ],
      "text/latex": [
       "A matrix: 3 × 1 of type dbl\n",
       "\\begin{tabular}{l}\n",
       "\t 0.3710243\\\\\n",
       "\t 0.2099636\\\\\n",
       "\t 0.3726677\\\\\n",
       "\\end{tabular}\n"
      ],
      "text/markdown": [
       "\n",
       "A matrix: 3 × 1 of type dbl\n",
       "\n",
       "| 0.3710243 |\n",
       "| 0.2099636 |\n",
       "| 0.3726677 |\n",
       "\n"
      ],
      "text/plain": [
       "     [,1]     \n",
       "[1,] 0.3710243\n",
       "[2,] 0.2099636\n",
       "[3,] 0.3726677"
      ]
     },
     "metadata": {},
     "output_type": "display_data"
    }
   ],
   "source": [
    "b1_result2_11 <- sqrtm(solve(R11_11))%*%R12_11%*%a1_result2_11\n",
    "b1_result2_11"
   ]
  },
  {
   "cell_type": "code",
   "execution_count": 38,
   "id": "4f3b14f7",
   "metadata": {
    "ExecuteTime": {
     "end_time": "2022-05-22T10:23:54.057172Z",
     "start_time": "2022-05-22T10:23:51.943Z"
    },
    "hidden": true
   },
   "outputs": [
    {
     "data": {
      "text/html": [
       "<table class=\"dataframe\">\n",
       "<caption>A matrix: 3 × 1 of type dbl</caption>\n",
       "<tbody>\n",
       "\t<tr><td>0.4619719</td></tr>\n",
       "\t<tr><td>0.2614311</td></tr>\n",
       "\t<tr><td>0.4640182</td></tr>\n",
       "</tbody>\n",
       "</table>\n"
      ],
      "text/latex": [
       "A matrix: 3 × 1 of type dbl\n",
       "\\begin{tabular}{l}\n",
       "\t 0.4619719\\\\\n",
       "\t 0.2614311\\\\\n",
       "\t 0.4640182\\\\\n",
       "\\end{tabular}\n"
      ],
      "text/markdown": [
       "\n",
       "A matrix: 3 × 1 of type dbl\n",
       "\n",
       "| 0.4619719 |\n",
       "| 0.2614311 |\n",
       "| 0.4640182 |\n",
       "\n"
      ],
      "text/plain": [
       "     [,1]     \n",
       "[1,] 0.4619719\n",
       "[2,] 0.2614311\n",
       "[3,] 0.4640182"
      ]
     },
     "metadata": {},
     "output_type": "display_data"
    }
   ],
   "source": [
    "scale_result2_11 <- 1/(sqrtm(t(b1_result2_11)%*%R11_11%*%b1_result2_11))\n",
    "newb1_result2_11 <- (scale_result2_11[1,1])*b1_result2_11\n",
    "newb1_result2_11"
   ]
  },
  {
   "cell_type": "code",
   "execution_count": 39,
   "id": "e935bf71",
   "metadata": {
    "ExecuteTime": {
     "end_time": "2022-05-22T10:23:54.086143Z",
     "start_time": "2022-05-22T10:23:51.945Z"
    },
    "hidden": true
   },
   "outputs": [
    {
     "data": {
      "text/html": [
       "0.566237553048381"
      ],
      "text/latex": [
       "0.566237553048381"
      ],
      "text/markdown": [
       "0.566237553048381"
      ],
      "text/plain": [
       "[1] 0.5662376"
      ]
     },
     "metadata": {},
     "output_type": "display_data"
    }
   ],
   "source": [
    "# canonical correlation 1\n",
    "r1_star_result2_11 <- eigenvalue2_11[1]\n",
    "sqrt(r1_star_result2_11)"
   ]
  },
  {
   "cell_type": "code",
   "execution_count": 40,
   "id": "46d4f6c5",
   "metadata": {
    "ExecuteTime": {
     "end_time": "2022-05-22T10:23:54.118925Z",
     "start_time": "2022-05-22T10:23:51.948Z"
    },
    "hidden": true
   },
   "outputs": [
    {
     "data": {
      "text/html": [
       "0.155167430123504"
      ],
      "text/latex": [
       "0.155167430123504"
      ],
      "text/markdown": [
       "0.155167430123504"
      ],
      "text/plain": [
       "[1] 0.1551674"
      ]
     },
     "metadata": {},
     "output_type": "display_data"
    }
   ],
   "source": [
    "# canonical correlation 2\n",
    "r2_star_result2_11 <- eigenvalue2_11[2]\n",
    "sqrt(r2_star_result2_11)"
   ]
  },
  {
   "cell_type": "markdown",
   "id": "a7258bb3",
   "metadata": {
    "heading_collapsed": true
   },
   "source": [
    "## Canonical Correlations Sample"
   ]
  },
  {
   "cell_type": "code",
   "execution_count": 99,
   "id": "8ec39c1b",
   "metadata": {
    "ExecuteTime": {
     "end_time": "2022-05-22T10:27:02.340298Z",
     "start_time": "2022-05-22T10:27:02.315Z"
    },
    "hidden": true
   },
   "outputs": [
    {
     "data": {
      "text/html": [
       "<style>\n",
       ".list-inline {list-style: none; margin:0; padding: 0}\n",
       ".list-inline>li {display: inline-block}\n",
       ".list-inline>li:not(:last-child)::after {content: \"\\00b7\"; padding: 0 .5ex}\n",
       "</style>\n",
       "<ol class=list-inline><li>0.566237553048381</li><li>0.155167430123504</li><li>6.22372362261952e-09</li></ol>\n"
      ],
      "text/latex": [
       "\\begin{enumerate*}\n",
       "\\item 0.566237553048381\n",
       "\\item 0.155167430123504\n",
       "\\item 6.22372362261952e-09\n",
       "\\end{enumerate*}\n"
      ],
      "text/markdown": [
       "1. 0.566237553048381\n",
       "2. 0.155167430123504\n",
       "3. 6.22372362261952e-09\n",
       "\n",
       "\n"
      ],
      "text/plain": [
       "[1] 5.662376e-01 1.551674e-01 6.223724e-09"
      ]
     },
     "metadata": {},
     "output_type": "display_data"
    }
   ],
   "source": [
    "# result 1\n",
    "canon.corr_11 <- sqrt(eigenvalue1_11)\n",
    "canon.corr_11"
   ]
  },
  {
   "cell_type": "code",
   "execution_count": 100,
   "id": "40207c62",
   "metadata": {
    "ExecuteTime": {
     "end_time": "2022-05-22T10:27:03.119008Z",
     "start_time": "2022-05-22T10:27:03.095Z"
    },
    "hidden": true
   },
   "outputs": [
    {
     "data": {
      "text/html": [
       "<style>\n",
       ".list-inline {list-style: none; margin:0; padding: 0}\n",
       ".list-inline>li {display: inline-block}\n",
       ".list-inline>li:not(:last-child)::after {content: \"\\00b7\"; padding: 0 .5ex}\n",
       "</style>\n",
       "<ol class=list-inline><li>0.566237553048381</li><li>0.155167430123504</li></ol>\n"
      ],
      "text/latex": [
       "\\begin{enumerate*}\n",
       "\\item 0.566237553048381\n",
       "\\item 0.155167430123504\n",
       "\\end{enumerate*}\n"
      ],
      "text/markdown": [
       "1. 0.566237553048381\n",
       "2. 0.155167430123504\n",
       "\n",
       "\n"
      ],
      "text/plain": [
       "[1] 0.5662376 0.1551674"
      ]
     },
     "metadata": {},
     "output_type": "display_data"
    }
   ],
   "source": [
    "# result 2\n",
    "canon.corr_11 <- sqrt(eigenvalue2_11)\n",
    "canon.corr_11"
   ]
  },
  {
   "cell_type": "markdown",
   "id": "0eebc109",
   "metadata": {
    "heading_collapsed": true
   },
   "source": [
    "## Canonical Variables "
   ]
  },
  {
   "cell_type": "code",
   "execution_count": 42,
   "id": "0911fcb7",
   "metadata": {
    "ExecuteTime": {
     "end_time": "2022-05-22T10:23:54.238091Z",
     "start_time": "2022-05-22T10:23:51.954Z"
    },
    "hidden": true
   },
   "outputs": [
    {
     "data": {
      "text/html": [
       "<table class=\"dataframe\">\n",
       "<caption>A matrix: 3 × 3 of type dbl</caption>\n",
       "<tbody>\n",
       "\t<tr><td>-0.5464595</td><td>-0.06514049</td><td>-0.5526922</td></tr>\n",
       "\t<tr><td> 1.0075458</td><td>-1.11742730</td><td>-0.0883301</td></tr>\n",
       "\t<tr><td>-0.5339486</td><td>-0.77112789</td><td> 1.1619423</td></tr>\n",
       "</tbody>\n",
       "</table>\n"
      ],
      "text/latex": [
       "A matrix: 3 × 3 of type dbl\n",
       "\\begin{tabular}{lll}\n",
       "\t -0.5464595 & -0.06514049 & -0.5526922\\\\\n",
       "\t  1.0075458 & -1.11742730 & -0.0883301\\\\\n",
       "\t -0.5339486 & -0.77112789 &  1.1619423\\\\\n",
       "\\end{tabular}\n"
      ],
      "text/markdown": [
       "\n",
       "A matrix: 3 × 3 of type dbl\n",
       "\n",
       "| -0.5464595 | -0.06514049 | -0.5526922 |\n",
       "|  1.0075458 | -1.11742730 | -0.0883301 |\n",
       "| -0.5339486 | -0.77112789 |  1.1619423 |\n",
       "\n"
      ],
      "text/plain": [
       "     [,1]       [,2]        [,3]      \n",
       "[1,] -0.5464595 -0.06514049 -0.5526922\n",
       "[2,]  1.0075458 -1.11742730 -0.0883301\n",
       "[3,] -0.5339486 -0.77112789  1.1619423"
      ]
     },
     "metadata": {},
     "output_type": "display_data"
    }
   ],
   "source": [
    "coeff.1 <- matrix(rep(0, 9), ncol = 3)\n",
    "for(i in 1:nrow(eigenvector1_11)){\n",
    "  coeff.1[i, ] <- t(eigenvector1_11[, i]) %*% sqrtm(solve(R11_11))\n",
    "}\n",
    "coeff.1"
   ]
  },
  {
   "cell_type": "code",
   "execution_count": 43,
   "id": "7fcb6618",
   "metadata": {
    "ExecuteTime": {
     "end_time": "2022-05-22T10:23:54.277105Z",
     "start_time": "2022-05-22T10:23:51.956Z"
    },
    "hidden": true
   },
   "outputs": [
    {
     "data": {
      "text/html": [
       "<table class=\"dataframe\">\n",
       "<caption>A matrix: 2 × 2 of type dbl</caption>\n",
       "<tbody>\n",
       "\t<tr><td> 0.5145084</td><td>0.6296275</td></tr>\n",
       "\t<tr><td>-1.0544186</td><td>0.9899933</td></tr>\n",
       "</tbody>\n",
       "</table>\n"
      ],
      "text/latex": [
       "A matrix: 2 × 2 of type dbl\n",
       "\\begin{tabular}{ll}\n",
       "\t  0.5145084 & 0.6296275\\\\\n",
       "\t -1.0544186 & 0.9899933\\\\\n",
       "\\end{tabular}\n"
      ],
      "text/markdown": [
       "\n",
       "A matrix: 2 × 2 of type dbl\n",
       "\n",
       "|  0.5145084 | 0.6296275 |\n",
       "| -1.0544186 | 0.9899933 |\n",
       "\n"
      ],
      "text/plain": [
       "     [,1]       [,2]     \n",
       "[1,]  0.5145084 0.6296275\n",
       "[2,] -1.0544186 0.9899933"
      ]
     },
     "metadata": {},
     "output_type": "display_data"
    }
   ],
   "source": [
    "coeff.2 <- matrix(rep(0, 4), ncol = 2)\n",
    "for(i in 1:nrow(eigenvector2_11)){\n",
    "  coeff.2[i, ] <- t(eigenvector2_11[, i]) %*% sqrtm(solve(R22_11))\n",
    "}\n",
    "coeff.2"
   ]
  },
  {
   "cell_type": "markdown",
   "id": "e373a0eb",
   "metadata": {
    "heading_collapsed": true
   },
   "source": [
    "## Canonical Loadings dan Canonical Cross Loadings for $U_1$ dan $V_1$"
   ]
  },
  {
   "cell_type": "code",
   "execution_count": 44,
   "id": "c2080076",
   "metadata": {
    "ExecuteTime": {
     "end_time": "2022-05-22T10:23:54.302118Z",
     "start_time": "2022-05-22T10:23:51.959Z"
    },
    "hidden": true
   },
   "outputs": [],
   "source": [
    "var.x1 <- diag(R11_11)\n",
    "var.x2 <- diag(R22_11)"
   ]
  },
  {
   "cell_type": "code",
   "execution_count": 45,
   "id": "c2436c4f",
   "metadata": {
    "ExecuteTime": {
     "end_time": "2022-05-22T10:23:54.356708Z",
     "start_time": "2022-05-22T10:23:51.962Z"
    },
    "hidden": true
   },
   "outputs": [
    {
     "data": {
      "text/html": [
       "<table class=\"dataframe\">\n",
       "<caption>A matrix: 1 × 3 of type dbl</caption>\n",
       "<tbody>\n",
       "\t<tr><td>-0.8653659</td><td>-0.7115103</td><td>-0.8698593</td></tr>\n",
       "</tbody>\n",
       "</table>\n"
      ],
      "text/latex": [
       "A matrix: 1 × 3 of type dbl\n",
       "\\begin{tabular}{lll}\n",
       "\t -0.8653659 & -0.7115103 & -0.8698593\\\\\n",
       "\\end{tabular}\n"
      ],
      "text/markdown": [
       "\n",
       "A matrix: 1 × 3 of type dbl\n",
       "\n",
       "| -0.8653659 | -0.7115103 | -0.8698593 |\n",
       "\n"
      ],
      "text/plain": [
       "     [,1]       [,2]       [,3]      \n",
       "[1,] -0.8653659 -0.7115103 -0.8698593"
      ]
     },
     "metadata": {},
     "output_type": "display_data"
    },
    {
     "data": {
      "text/html": [
       "<table class=\"dataframe\">\n",
       "<caption>A matrix: 1 × 2 of type dbl</caption>\n",
       "<tbody>\n",
       "\t<tr><td>-0.4777933</td><td>-0.5088864</td></tr>\n",
       "</tbody>\n",
       "</table>\n"
      ],
      "text/latex": [
       "A matrix: 1 × 2 of type dbl\n",
       "\\begin{tabular}{ll}\n",
       "\t -0.4777933 & -0.5088864\\\\\n",
       "\\end{tabular}\n"
      ],
      "text/markdown": [
       "\n",
       "A matrix: 1 × 2 of type dbl\n",
       "\n",
       "| -0.4777933 | -0.5088864 |\n",
       "\n"
      ],
      "text/plain": [
       "     [,1]       [,2]      \n",
       "[1,] -0.4777933 -0.5088864"
      ]
     },
     "metadata": {},
     "output_type": "display_data"
    },
    {
     "data": {
      "text/html": [
       "<table class=\"dataframe\">\n",
       "<caption>A matrix: 1 × 3 of type dbl</caption>\n",
       "<tbody>\n",
       "\t<tr><td>0.4900027</td><td>0.4028838</td><td>0.492547</td></tr>\n",
       "</tbody>\n",
       "</table>\n"
      ],
      "text/latex": [
       "A matrix: 1 × 3 of type dbl\n",
       "\\begin{tabular}{lll}\n",
       "\t 0.4900027 & 0.4028838 & 0.492547\\\\\n",
       "\\end{tabular}\n"
      ],
      "text/markdown": [
       "\n",
       "A matrix: 1 × 3 of type dbl\n",
       "\n",
       "| 0.4900027 | 0.4028838 | 0.492547 |\n",
       "\n"
      ],
      "text/plain": [
       "     [,1]      [,2]      [,3]    \n",
       "[1,] 0.4900027 0.4028838 0.492547"
      ]
     },
     "metadata": {},
     "output_type": "display_data"
    },
    {
     "data": {
      "text/html": [
       "<table class=\"dataframe\">\n",
       "<caption>A matrix: 1 × 2 of type dbl</caption>\n",
       "<tbody>\n",
       "\t<tr><td>0.8438036</td><td>0.8987154</td></tr>\n",
       "</tbody>\n",
       "</table>\n"
      ],
      "text/latex": [
       "A matrix: 1 × 2 of type dbl\n",
       "\\begin{tabular}{ll}\n",
       "\t 0.8438036 & 0.8987154\\\\\n",
       "\\end{tabular}\n"
      ],
      "text/markdown": [
       "\n",
       "A matrix: 1 × 2 of type dbl\n",
       "\n",
       "| 0.8438036 | 0.8987154 |\n",
       "\n"
      ],
      "text/plain": [
       "     [,1]      [,2]     \n",
       "[1,] 0.8438036 0.8987154"
      ]
     },
     "metadata": {},
     "output_type": "display_data"
    }
   ],
   "source": [
    "R_U1_X1 <- coeff.1[1, ] %*% R11_11 %*% solve(sqrt(diag(var.x1)))\n",
    "R_U1_X1\n",
    "\n",
    "R_U1_X2 <- coeff.1[1, ] %*% R12_11 %*% solve(sqrt(diag(var.x2)))\n",
    "R_U1_X2\n",
    "\n",
    "R_V1_X1 <- coeff.2[1, ] %*% R21_11 %*% solve(sqrt(diag(var.x1)))\n",
    "R_V1_X1\n",
    "\n",
    "R_V1_X2 <- coeff.2[1, ] %*% R22_11 %*% solve(sqrt(diag(var.x2)))\n",
    "R_V1_X2"
   ]
  },
  {
   "cell_type": "markdown",
   "id": "5c046bf6",
   "metadata": {
    "heading_collapsed": true
   },
   "source": [
    "## Uji Signifikansi Korelasi Kanonik"
   ]
  },
  {
   "cell_type": "markdown",
   "id": "14a5d532",
   "metadata": {
    "hidden": true
   },
   "source": [
    "$$\n",
    "H_0 : \\sigma_{12} = 0 \\\\\n",
    "H_1 : \\sigma_{12} \\neq 0\n",
    "$$"
   ]
  },
  {
   "cell_type": "code",
   "execution_count": 46,
   "id": "117cfadf",
   "metadata": {
    "ExecuteTime": {
     "end_time": "2022-05-22T10:23:54.389390Z",
     "start_time": "2022-05-22T10:23:51.966Z"
    },
    "hidden": true
   },
   "outputs": [
    {
     "name": "stdout",
     "output_type": "stream",
     "text": [
      "39.45154 > 12.59159 , maka: Tolak Ho"
     ]
    }
   ],
   "source": [
    "n = 100\n",
    "p = 3\n",
    "q = 2\n",
    "\n",
    "stat.hit <- -(n-1-0.5*(p+q+1))*log((1-canon.corr_11[1]^2) * (1-canon.corr_11[2]^2))\n",
    "\n",
    "stat.uji <- qchisq(0.95, p*q)\n",
    "\n",
    "if(stat.hit > stat.uji){\n",
    "  cat(stat.hit, \">\", stat.uji, \", maka: \")\n",
    "  cat(\"Tolak Ho\")\n",
    "}else{\n",
    "  cat(stat.hit, \"<\", stat.uji, \", maka: \")\n",
    "  cat(\"Gagal Tolak Ho\")\n",
    "}"
   ]
  },
  {
   "cell_type": "markdown",
   "id": "819e1b5c",
   "metadata": {},
   "source": [
    "# 11.8"
   ]
  },
  {
   "cell_type": "markdown",
   "id": "f162b3ee",
   "metadata": {},
   "source": [
    "Use the diabetes data of Table 3.5. "
   ]
  },
  {
   "cell_type": "code",
   "execution_count": 47,
   "id": "87ed0643",
   "metadata": {
    "ExecuteTime": {
     "end_time": "2022-05-22T10:23:54.453389Z",
     "start_time": "2022-05-22T10:23:51.969Z"
    }
   },
   "outputs": [
    {
     "data": {
      "text/html": [
       "<table class=\"dataframe\">\n",
       "<caption>A data.frame: 6 × 5</caption>\n",
       "<thead>\n",
       "\t<tr><th></th><th scope=col>y1</th><th scope=col>y2</th><th scope=col>x1</th><th scope=col>x2</th><th scope=col>x3</th></tr>\n",
       "\t<tr><th></th><th scope=col>&lt;dbl&gt;</th><th scope=col>&lt;dbl&gt;</th><th scope=col>&lt;dbl&gt;</th><th scope=col>&lt;dbl&gt;</th><th scope=col>&lt;dbl&gt;</th></tr>\n",
       "</thead>\n",
       "<tbody>\n",
       "\t<tr><th scope=row>1</th><td>0.81</td><td> 80</td><td>356</td><td>124</td><td> 55</td></tr>\n",
       "\t<tr><th scope=row>2</th><td>0.95</td><td> 97</td><td>289</td><td>117</td><td> 76</td></tr>\n",
       "\t<tr><th scope=row>3</th><td>0.94</td><td>105</td><td>319</td><td>143</td><td>105</td></tr>\n",
       "\t<tr><th scope=row>4</th><td>1.04</td><td> 90</td><td>356</td><td>199</td><td>108</td></tr>\n",
       "\t<tr><th scope=row>5</th><td>1.00</td><td> 90</td><td>323</td><td>240</td><td>143</td></tr>\n",
       "\t<tr><th scope=row>6</th><td>0.76</td><td> 86</td><td>381</td><td>157</td><td>165</td></tr>\n",
       "</tbody>\n",
       "</table>\n"
      ],
      "text/latex": [
       "A data.frame: 6 × 5\n",
       "\\begin{tabular}{r|lllll}\n",
       "  & y1 & y2 & x1 & x2 & x3\\\\\n",
       "  & <dbl> & <dbl> & <dbl> & <dbl> & <dbl>\\\\\n",
       "\\hline\n",
       "\t1 & 0.81 &  80 & 356 & 124 &  55\\\\\n",
       "\t2 & 0.95 &  97 & 289 & 117 &  76\\\\\n",
       "\t3 & 0.94 & 105 & 319 & 143 & 105\\\\\n",
       "\t4 & 1.04 &  90 & 356 & 199 & 108\\\\\n",
       "\t5 & 1.00 &  90 & 323 & 240 & 143\\\\\n",
       "\t6 & 0.76 &  86 & 381 & 157 & 165\\\\\n",
       "\\end{tabular}\n"
      ],
      "text/markdown": [
       "\n",
       "A data.frame: 6 × 5\n",
       "\n",
       "| <!--/--> | y1 &lt;dbl&gt; | y2 &lt;dbl&gt; | x1 &lt;dbl&gt; | x2 &lt;dbl&gt; | x3 &lt;dbl&gt; |\n",
       "|---|---|---|---|---|---|\n",
       "| 1 | 0.81 |  80 | 356 | 124 |  55 |\n",
       "| 2 | 0.95 |  97 | 289 | 117 |  76 |\n",
       "| 3 | 0.94 | 105 | 319 | 143 | 105 |\n",
       "| 4 | 1.04 |  90 | 356 | 199 | 108 |\n",
       "| 5 | 1.00 |  90 | 323 | 240 | 143 |\n",
       "| 6 | 0.76 |  86 | 381 | 157 | 165 |\n",
       "\n"
      ],
      "text/plain": [
       "  y1   y2  x1  x2  x3 \n",
       "1 0.81  80 356 124  55\n",
       "2 0.95  97 289 117  76\n",
       "3 0.94 105 319 143 105\n",
       "4 1.04  90 356 199 108\n",
       "5 1.00  90 323 240 143\n",
       "6 0.76  86 381 157 165"
      ]
     },
     "metadata": {},
     "output_type": "display_data"
    }
   ],
   "source": [
    "diabetes <- read.xlsx(\"tabel_3.5.xlsx\")\n",
    "diabetes <- diabetes[,-1]\n",
    "head(diabetes)"
   ]
  },
  {
   "cell_type": "code",
   "execution_count": 48,
   "id": "2be86ba2",
   "metadata": {
    "ExecuteTime": {
     "end_time": "2022-05-22T10:23:54.488392Z",
     "start_time": "2022-05-22T10:23:51.972Z"
    },
    "scrolled": true
   },
   "outputs": [
    {
     "data": {
      "text/html": [
       "<table class=\"dataframe\">\n",
       "<caption>A matrix: 5 × 5 of type dbl</caption>\n",
       "<thead>\n",
       "\t<tr><th></th><th scope=col>y1</th><th scope=col>y2</th><th scope=col>x1</th><th scope=col>x2</th><th scope=col>x3</th></tr>\n",
       "</thead>\n",
       "<tbody>\n",
       "\t<tr><th scope=row>y1</th><td> 1.0000000</td><td> 0.16047812</td><td>0.175680799</td><td>-0.1438253</td><td> 0.332284598</td></tr>\n",
       "\t<tr><th scope=row>y2</th><td> 0.1604781</td><td> 1.00000000</td><td>0.072133311</td><td>-0.1132752</td><td>-0.170017219</td></tr>\n",
       "\t<tr><th scope=row>x1</th><td> 0.1756808</td><td> 0.07213331</td><td>1.000000000</td><td> 0.1638133</td><td> 0.008216539</td></tr>\n",
       "\t<tr><th scope=row>x2</th><td>-0.1438253</td><td>-0.11327520</td><td>0.163813321</td><td> 1.0000000</td><td> 0.368282904</td></tr>\n",
       "\t<tr><th scope=row>x3</th><td> 0.3322846</td><td>-0.17001722</td><td>0.008216539</td><td> 0.3682829</td><td> 1.000000000</td></tr>\n",
       "</tbody>\n",
       "</table>\n"
      ],
      "text/latex": [
       "A matrix: 5 × 5 of type dbl\n",
       "\\begin{tabular}{r|lllll}\n",
       "  & y1 & y2 & x1 & x2 & x3\\\\\n",
       "\\hline\n",
       "\ty1 &  1.0000000 &  0.16047812 & 0.175680799 & -0.1438253 &  0.332284598\\\\\n",
       "\ty2 &  0.1604781 &  1.00000000 & 0.072133311 & -0.1132752 & -0.170017219\\\\\n",
       "\tx1 &  0.1756808 &  0.07213331 & 1.000000000 &  0.1638133 &  0.008216539\\\\\n",
       "\tx2 & -0.1438253 & -0.11327520 & 0.163813321 &  1.0000000 &  0.368282904\\\\\n",
       "\tx3 &  0.3322846 & -0.17001722 & 0.008216539 &  0.3682829 &  1.000000000\\\\\n",
       "\\end{tabular}\n"
      ],
      "text/markdown": [
       "\n",
       "A matrix: 5 × 5 of type dbl\n",
       "\n",
       "| <!--/--> | y1 | y2 | x1 | x2 | x3 |\n",
       "|---|---|---|---|---|---|\n",
       "| y1 |  1.0000000 |  0.16047812 | 0.175680799 | -0.1438253 |  0.332284598 |\n",
       "| y2 |  0.1604781 |  1.00000000 | 0.072133311 | -0.1132752 | -0.170017219 |\n",
       "| x1 |  0.1756808 |  0.07213331 | 1.000000000 |  0.1638133 |  0.008216539 |\n",
       "| x2 | -0.1438253 | -0.11327520 | 0.163813321 |  1.0000000 |  0.368282904 |\n",
       "| x3 |  0.3322846 | -0.17001722 | 0.008216539 |  0.3682829 |  1.000000000 |\n",
       "\n"
      ],
      "text/plain": [
       "   y1         y2          x1          x2         x3          \n",
       "y1  1.0000000  0.16047812 0.175680799 -0.1438253  0.332284598\n",
       "y2  0.1604781  1.00000000 0.072133311 -0.1132752 -0.170017219\n",
       "x1  0.1756808  0.07213331 1.000000000  0.1638133  0.008216539\n",
       "x2 -0.1438253 -0.11327520 0.163813321  1.0000000  0.368282904\n",
       "x3  0.3322846 -0.17001722 0.008216539  0.3682829  1.000000000"
      ]
     },
     "metadata": {},
     "output_type": "display_data"
    }
   ],
   "source": [
    "cor_diabetes <- cor(diabetes)\n",
    "cor_diabetes"
   ]
  },
  {
   "cell_type": "code",
   "execution_count": 49,
   "id": "dbfed657",
   "metadata": {
    "ExecuteTime": {
     "end_time": "2022-05-22T10:23:54.519754Z",
     "start_time": "2022-05-22T10:23:51.974Z"
    }
   },
   "outputs": [
    {
     "data": {
      "text/html": [
       "<table class=\"dataframe\">\n",
       "<caption>A matrix: 2 × 2 of type dbl</caption>\n",
       "<thead>\n",
       "\t<tr><th></th><th scope=col>y1</th><th scope=col>y2</th></tr>\n",
       "</thead>\n",
       "<tbody>\n",
       "\t<tr><th scope=row>y1</th><td>1.0000000</td><td>0.1604781</td></tr>\n",
       "\t<tr><th scope=row>y2</th><td>0.1604781</td><td>1.0000000</td></tr>\n",
       "</tbody>\n",
       "</table>\n"
      ],
      "text/latex": [
       "A matrix: 2 × 2 of type dbl\n",
       "\\begin{tabular}{r|ll}\n",
       "  & y1 & y2\\\\\n",
       "\\hline\n",
       "\ty1 & 1.0000000 & 0.1604781\\\\\n",
       "\ty2 & 0.1604781 & 1.0000000\\\\\n",
       "\\end{tabular}\n"
      ],
      "text/markdown": [
       "\n",
       "A matrix: 2 × 2 of type dbl\n",
       "\n",
       "| <!--/--> | y1 | y2 |\n",
       "|---|---|---|\n",
       "| y1 | 1.0000000 | 0.1604781 |\n",
       "| y2 | 0.1604781 | 1.0000000 |\n",
       "\n"
      ],
      "text/plain": [
       "   y1        y2       \n",
       "y1 1.0000000 0.1604781\n",
       "y2 0.1604781 1.0000000"
      ]
     },
     "metadata": {},
     "output_type": "display_data"
    }
   ],
   "source": [
    "R11_8 <- cor_diabetes[c(1,2),c(1,2)]\n",
    "R11_8"
   ]
  },
  {
   "cell_type": "code",
   "execution_count": 50,
   "id": "c03567bc",
   "metadata": {
    "ExecuteTime": {
     "end_time": "2022-05-22T10:23:54.547712Z",
     "start_time": "2022-05-22T10:23:51.977Z"
    }
   },
   "outputs": [
    {
     "data": {
      "text/html": [
       "<table class=\"dataframe\">\n",
       "<caption>A matrix: 2 × 3 of type dbl</caption>\n",
       "<thead>\n",
       "\t<tr><th></th><th scope=col>x1</th><th scope=col>x2</th><th scope=col>x3</th></tr>\n",
       "</thead>\n",
       "<tbody>\n",
       "\t<tr><th scope=row>y1</th><td>0.17568080</td><td>-0.1438253</td><td> 0.3322846</td></tr>\n",
       "\t<tr><th scope=row>y2</th><td>0.07213331</td><td>-0.1132752</td><td>-0.1700172</td></tr>\n",
       "</tbody>\n",
       "</table>\n"
      ],
      "text/latex": [
       "A matrix: 2 × 3 of type dbl\n",
       "\\begin{tabular}{r|lll}\n",
       "  & x1 & x2 & x3\\\\\n",
       "\\hline\n",
       "\ty1 & 0.17568080 & -0.1438253 &  0.3322846\\\\\n",
       "\ty2 & 0.07213331 & -0.1132752 & -0.1700172\\\\\n",
       "\\end{tabular}\n"
      ],
      "text/markdown": [
       "\n",
       "A matrix: 2 × 3 of type dbl\n",
       "\n",
       "| <!--/--> | x1 | x2 | x3 |\n",
       "|---|---|---|---|\n",
       "| y1 | 0.17568080 | -0.1438253 |  0.3322846 |\n",
       "| y2 | 0.07213331 | -0.1132752 | -0.1700172 |\n",
       "\n"
      ],
      "text/plain": [
       "   x1         x2         x3        \n",
       "y1 0.17568080 -0.1438253  0.3322846\n",
       "y2 0.07213331 -0.1132752 -0.1700172"
      ]
     },
     "metadata": {},
     "output_type": "display_data"
    }
   ],
   "source": [
    "R12_8 <- cor_diabetes[c(1,2),c(3,4,5)]\n",
    "R12_8"
   ]
  },
  {
   "cell_type": "code",
   "execution_count": 51,
   "id": "9495fae8",
   "metadata": {
    "ExecuteTime": {
     "end_time": "2022-05-22T10:23:54.578751Z",
     "start_time": "2022-05-22T10:23:51.980Z"
    }
   },
   "outputs": [
    {
     "data": {
      "text/html": [
       "<table class=\"dataframe\">\n",
       "<caption>A matrix: 3 × 2 of type dbl</caption>\n",
       "<thead>\n",
       "\t<tr><th></th><th scope=col>y1</th><th scope=col>y2</th></tr>\n",
       "</thead>\n",
       "<tbody>\n",
       "\t<tr><th scope=row>x1</th><td> 0.1756808</td><td> 0.07213331</td></tr>\n",
       "\t<tr><th scope=row>x2</th><td>-0.1438253</td><td>-0.11327520</td></tr>\n",
       "\t<tr><th scope=row>x3</th><td> 0.3322846</td><td>-0.17001722</td></tr>\n",
       "</tbody>\n",
       "</table>\n"
      ],
      "text/latex": [
       "A matrix: 3 × 2 of type dbl\n",
       "\\begin{tabular}{r|ll}\n",
       "  & y1 & y2\\\\\n",
       "\\hline\n",
       "\tx1 &  0.1756808 &  0.07213331\\\\\n",
       "\tx2 & -0.1438253 & -0.11327520\\\\\n",
       "\tx3 &  0.3322846 & -0.17001722\\\\\n",
       "\\end{tabular}\n"
      ],
      "text/markdown": [
       "\n",
       "A matrix: 3 × 2 of type dbl\n",
       "\n",
       "| <!--/--> | y1 | y2 |\n",
       "|---|---|---|\n",
       "| x1 |  0.1756808 |  0.07213331 |\n",
       "| x2 | -0.1438253 | -0.11327520 |\n",
       "| x3 |  0.3322846 | -0.17001722 |\n",
       "\n"
      ],
      "text/plain": [
       "   y1         y2         \n",
       "x1  0.1756808  0.07213331\n",
       "x2 -0.1438253 -0.11327520\n",
       "x3  0.3322846 -0.17001722"
      ]
     },
     "metadata": {},
     "output_type": "display_data"
    }
   ],
   "source": [
    "R21_8 <- cor_diabetes[c(3,4,5),c(1,2)]\n",
    "R21_8"
   ]
  },
  {
   "cell_type": "code",
   "execution_count": 52,
   "id": "0100fbe0",
   "metadata": {
    "ExecuteTime": {
     "end_time": "2022-05-22T10:23:54.610754Z",
     "start_time": "2022-05-22T10:23:51.982Z"
    }
   },
   "outputs": [
    {
     "data": {
      "text/html": [
       "<table class=\"dataframe\">\n",
       "<caption>A matrix: 3 × 3 of type dbl</caption>\n",
       "<thead>\n",
       "\t<tr><th></th><th scope=col>x1</th><th scope=col>x2</th><th scope=col>x3</th></tr>\n",
       "</thead>\n",
       "<tbody>\n",
       "\t<tr><th scope=row>x1</th><td>1.000000000</td><td>0.1638133</td><td>0.008216539</td></tr>\n",
       "\t<tr><th scope=row>x2</th><td>0.163813321</td><td>1.0000000</td><td>0.368282904</td></tr>\n",
       "\t<tr><th scope=row>x3</th><td>0.008216539</td><td>0.3682829</td><td>1.000000000</td></tr>\n",
       "</tbody>\n",
       "</table>\n"
      ],
      "text/latex": [
       "A matrix: 3 × 3 of type dbl\n",
       "\\begin{tabular}{r|lll}\n",
       "  & x1 & x2 & x3\\\\\n",
       "\\hline\n",
       "\tx1 & 1.000000000 & 0.1638133 & 0.008216539\\\\\n",
       "\tx2 & 0.163813321 & 1.0000000 & 0.368282904\\\\\n",
       "\tx3 & 0.008216539 & 0.3682829 & 1.000000000\\\\\n",
       "\\end{tabular}\n"
      ],
      "text/markdown": [
       "\n",
       "A matrix: 3 × 3 of type dbl\n",
       "\n",
       "| <!--/--> | x1 | x2 | x3 |\n",
       "|---|---|---|---|\n",
       "| x1 | 1.000000000 | 0.1638133 | 0.008216539 |\n",
       "| x2 | 0.163813321 | 1.0000000 | 0.368282904 |\n",
       "| x3 | 0.008216539 | 0.3682829 | 1.000000000 |\n",
       "\n"
      ],
      "text/plain": [
       "   x1          x2        x3         \n",
       "x1 1.000000000 0.1638133 0.008216539\n",
       "x2 0.163813321 1.0000000 0.368282904\n",
       "x3 0.008216539 0.3682829 1.000000000"
      ]
     },
     "metadata": {},
     "output_type": "display_data"
    }
   ],
   "source": [
    "R22_8 <- cor_diabetes[c(3,4,5),c(3,4,5)]\n",
    "R22_8"
   ]
  },
  {
   "cell_type": "markdown",
   "id": "924d012e",
   "metadata": {},
   "source": [
    "## (a) Find the canonical correlations between $(y_{1}, y_{2})$ and $(x_{1}, x_{2}, x_{3})$. "
   ]
  },
  {
   "cell_type": "markdown",
   "id": "09930597",
   "metadata": {
    "heading_collapsed": true
   },
   "source": [
    "### Result 1"
   ]
  },
  {
   "cell_type": "code",
   "execution_count": 53,
   "id": "4f61166c",
   "metadata": {
    "ExecuteTime": {
     "end_time": "2022-05-22T10:23:54.644138Z",
     "start_time": "2022-05-22T10:23:51.986Z"
    },
    "hidden": true
   },
   "outputs": [
    {
     "data": {
      "text/html": [
       "<table class=\"dataframe\">\n",
       "<caption>A matrix: 2 × 2 of type dbl</caption>\n",
       "<tbody>\n",
       "\t<tr><td> 0.25209303</td><td>-0.04570245</td></tr>\n",
       "\t<tr><td>-0.04570245</td><td> 0.04496109</td></tr>\n",
       "</tbody>\n",
       "</table>\n"
      ],
      "text/latex": [
       "A matrix: 2 × 2 of type dbl\n",
       "\\begin{tabular}{ll}\n",
       "\t  0.25209303 & -0.04570245\\\\\n",
       "\t -0.04570245 &  0.04496109\\\\\n",
       "\\end{tabular}\n"
      ],
      "text/markdown": [
       "\n",
       "A matrix: 2 × 2 of type dbl\n",
       "\n",
       "|  0.25209303 | -0.04570245 |\n",
       "| -0.04570245 |  0.04496109 |\n",
       "\n"
      ],
      "text/plain": [
       "     [,1]        [,2]       \n",
       "[1,]  0.25209303 -0.04570245\n",
       "[2,] -0.04570245  0.04496109"
      ]
     },
     "metadata": {},
     "output_type": "display_data"
    }
   ],
   "source": [
    "result1 <- sqrtm(solve(R11_8))%*%R12_8%*%solve(R22_8)%*%R21_8%*%sqrtm(solve(R11_8))\n",
    "result1"
   ]
  },
  {
   "cell_type": "code",
   "execution_count": 54,
   "id": "4a32574b",
   "metadata": {
    "ExecuteTime": {
     "end_time": "2022-05-22T10:23:54.670136Z",
     "start_time": "2022-05-22T10:23:51.988Z"
    },
    "hidden": true
   },
   "outputs": [
    {
     "data": {
      "text/html": [
       "<style>\n",
       ".list-inline {list-style: none; margin:0; padding: 0}\n",
       ".list-inline>li {display: inline-block}\n",
       ".list-inline>li:not(:last-child)::after {content: \"\\00b7\"; padding: 0 .5ex}\n",
       "</style>\n",
       "<ol class=list-inline><li>0.261728758019025</li><li>0.0353253602184758</li></ol>\n"
      ],
      "text/latex": [
       "\\begin{enumerate*}\n",
       "\\item 0.261728758019025\n",
       "\\item 0.0353253602184758\n",
       "\\end{enumerate*}\n"
      ],
      "text/markdown": [
       "1. 0.261728758019025\n",
       "2. 0.0353253602184758\n",
       "\n",
       "\n"
      ],
      "text/plain": [
       "[1] 0.26172876 0.03532536"
      ]
     },
     "metadata": {},
     "output_type": "display_data"
    }
   ],
   "source": [
    "eigenvalue1_8 <- eigen(result1)$value\n",
    "eigenvalue1_8"
   ]
  },
  {
   "cell_type": "code",
   "execution_count": 55,
   "id": "527b74cd",
   "metadata": {
    "ExecuteTime": {
     "end_time": "2022-05-22T10:23:54.697139Z",
     "start_time": "2022-05-22T10:23:51.991Z"
    },
    "hidden": true
   },
   "outputs": [
    {
     "data": {
      "text/html": [
       "<table class=\"dataframe\">\n",
       "<caption>A matrix: 2 × 2 of type dbl</caption>\n",
       "<tbody>\n",
       "\t<tr><td>-0.9784886</td><td>-0.2063007</td></tr>\n",
       "\t<tr><td> 0.2063007</td><td>-0.9784886</td></tr>\n",
       "</tbody>\n",
       "</table>\n"
      ],
      "text/latex": [
       "A matrix: 2 × 2 of type dbl\n",
       "\\begin{tabular}{ll}\n",
       "\t -0.9784886 & -0.2063007\\\\\n",
       "\t  0.2063007 & -0.9784886\\\\\n",
       "\\end{tabular}\n"
      ],
      "text/markdown": [
       "\n",
       "A matrix: 2 × 2 of type dbl\n",
       "\n",
       "| -0.9784886 | -0.2063007 |\n",
       "|  0.2063007 | -0.9784886 |\n",
       "\n"
      ],
      "text/plain": [
       "     [,1]       [,2]      \n",
       "[1,] -0.9784886 -0.2063007\n",
       "[2,]  0.2063007 -0.9784886"
      ]
     },
     "metadata": {},
     "output_type": "display_data"
    }
   ],
   "source": [
    "eigenvector1_8 <- eigen(result1)$vectors\n",
    "eigenvector1_8"
   ]
  },
  {
   "cell_type": "code",
   "execution_count": 56,
   "id": "3c625346",
   "metadata": {
    "ExecuteTime": {
     "end_time": "2022-05-22T10:23:54.731357Z",
     "start_time": "2022-05-22T10:23:51.993Z"
    },
    "hidden": true
   },
   "outputs": [
    {
     "data": {
      "text/html": [
       "<table class=\"dataframe\">\n",
       "<caption>A matrix: 2 × 1 of type dbl</caption>\n",
       "<tbody>\n",
       "\t<tr><td>-1.0049450</td></tr>\n",
       "\t<tr><td> 0.2881343</td></tr>\n",
       "</tbody>\n",
       "</table>\n"
      ],
      "text/latex": [
       "A matrix: 2 × 1 of type dbl\n",
       "\\begin{tabular}{l}\n",
       "\t -1.0049450\\\\\n",
       "\t  0.2881343\\\\\n",
       "\\end{tabular}\n"
      ],
      "text/markdown": [
       "\n",
       "A matrix: 2 × 1 of type dbl\n",
       "\n",
       "| -1.0049450 |\n",
       "|  0.2881343 |\n",
       "\n"
      ],
      "text/plain": [
       "     [,1]      \n",
       "[1,] -1.0049450\n",
       "[2,]  0.2881343"
      ]
     },
     "metadata": {},
     "output_type": "display_data"
    }
   ],
   "source": [
    "a1_result1_8 <- sqrtm(solve(R11_8))%*%eigenvector1_8[,1]\n",
    "a1_result1_8"
   ]
  },
  {
   "cell_type": "code",
   "execution_count": 57,
   "id": "86eac81c",
   "metadata": {
    "ExecuteTime": {
     "end_time": "2022-05-22T10:23:54.763407Z",
     "start_time": "2022-05-22T10:23:51.996Z"
    },
    "hidden": true
   },
   "outputs": [
    {
     "data": {
      "text/html": [
       "<table class=\"dataframe\">\n",
       "<caption>A matrix: 3 × 1 of type dbl</caption>\n",
       "<tbody>\n",
       "\t<tr><th scope=row>x1</th><td>-0.2058369</td></tr>\n",
       "\t<tr><th scope=row>x2</th><td> 0.3308953</td></tr>\n",
       "\t<tr><th scope=row>x3</th><td>-0.5030873</td></tr>\n",
       "</tbody>\n",
       "</table>\n"
      ],
      "text/latex": [
       "A matrix: 3 × 1 of type dbl\n",
       "\\begin{tabular}{r|l}\n",
       "\tx1 & -0.2058369\\\\\n",
       "\tx2 &  0.3308953\\\\\n",
       "\tx3 & -0.5030873\\\\\n",
       "\\end{tabular}\n"
      ],
      "text/markdown": [
       "\n",
       "A matrix: 3 × 1 of type dbl\n",
       "\n",
       "| x1 | -0.2058369 |\n",
       "| x2 |  0.3308953 |\n",
       "| x3 | -0.5030873 |\n",
       "\n"
      ],
      "text/plain": [
       "   [,1]      \n",
       "x1 -0.2058369\n",
       "x2  0.3308953\n",
       "x3 -0.5030873"
      ]
     },
     "metadata": {},
     "output_type": "display_data"
    }
   ],
   "source": [
    "b1_result1_8 <- solve(R22_8)%*%R21_8%*%a1_result1_8\n",
    "b1_result1_8"
   ]
  },
  {
   "cell_type": "code",
   "execution_count": 58,
   "id": "ec0be47b",
   "metadata": {
    "ExecuteTime": {
     "end_time": "2022-05-22T10:23:54.803406Z",
     "start_time": "2022-05-22T10:23:51.998Z"
    },
    "hidden": true
   },
   "outputs": [
    {
     "data": {
      "text/html": [
       "<table class=\"dataframe\">\n",
       "<caption>A matrix: 3 × 1 of type dbl</caption>\n",
       "<tbody>\n",
       "\t<tr><th scope=row>x1</th><td>-0.4023439</td></tr>\n",
       "\t<tr><th scope=row>x2</th><td> 0.6467924</td></tr>\n",
       "\t<tr><th scope=row>x3</th><td>-0.9833716</td></tr>\n",
       "</tbody>\n",
       "</table>\n"
      ],
      "text/latex": [
       "A matrix: 3 × 1 of type dbl\n",
       "\\begin{tabular}{r|l}\n",
       "\tx1 & -0.4023439\\\\\n",
       "\tx2 &  0.6467924\\\\\n",
       "\tx3 & -0.9833716\\\\\n",
       "\\end{tabular}\n"
      ],
      "text/markdown": [
       "\n",
       "A matrix: 3 × 1 of type dbl\n",
       "\n",
       "| x1 | -0.4023439 |\n",
       "| x2 |  0.6467924 |\n",
       "| x3 | -0.9833716 |\n",
       "\n"
      ],
      "text/plain": [
       "   [,1]      \n",
       "x1 -0.4023439\n",
       "x2  0.6467924\n",
       "x3 -0.9833716"
      ]
     },
     "metadata": {},
     "output_type": "display_data"
    }
   ],
   "source": [
    "scale_result1_8 <- 1/(sqrtm(t(b1_result1_8)%*%R22_8%*%b1_result1_8))\n",
    "newb1_result1_8 <- (scale_result1_8[1,1])*b1_result1_8\n",
    "newb1_result1_8"
   ]
  },
  {
   "cell_type": "code",
   "execution_count": 59,
   "id": "f36f5234",
   "metadata": {
    "ExecuteTime": {
     "end_time": "2022-05-22T10:23:54.832417Z",
     "start_time": "2022-05-22T10:23:52.001Z"
    },
    "hidden": true
   },
   "outputs": [
    {
     "data": {
      "text/html": [
       "0.511594329541508"
      ],
      "text/latex": [
       "0.511594329541508"
      ],
      "text/markdown": [
       "0.511594329541508"
      ],
      "text/plain": [
       "[1] 0.5115943"
      ]
     },
     "metadata": {},
     "output_type": "display_data"
    }
   ],
   "source": [
    "# canonical correlation 1\n",
    "r1_star_result1_8 <- eigenvalue1_8[1]\n",
    "sqrt(r1_star_result1_8)"
   ]
  },
  {
   "cell_type": "code",
   "execution_count": 60,
   "id": "fca6da41",
   "metadata": {
    "ExecuteTime": {
     "end_time": "2022-05-22T10:23:54.865402Z",
     "start_time": "2022-05-22T10:23:52.003Z"
    },
    "hidden": true
   },
   "outputs": [
    {
     "data": {
      "text/html": [
       "0.187950419575152"
      ],
      "text/latex": [
       "0.187950419575152"
      ],
      "text/markdown": [
       "0.187950419575152"
      ],
      "text/plain": [
       "[1] 0.1879504"
      ]
     },
     "metadata": {},
     "output_type": "display_data"
    }
   ],
   "source": [
    "# canonical correlation 2\n",
    "r2_star_result1_8 <- eigenvalue1_8[2]\n",
    "sqrt(r2_star_result1_8)"
   ]
  },
  {
   "cell_type": "markdown",
   "id": "ad64f2c9",
   "metadata": {
    "heading_collapsed": true
   },
   "source": [
    "### Result 2"
   ]
  },
  {
   "cell_type": "code",
   "execution_count": 61,
   "id": "c23c8387",
   "metadata": {
    "ExecuteTime": {
     "end_time": "2022-05-22T10:23:54.903918Z",
     "start_time": "2022-05-22T10:23:52.006Z"
    },
    "hidden": true
   },
   "outputs": [
    {
     "data": {
      "text/html": [
       "<table class=\"dataframe\">\n",
       "<caption>A matrix: 3 × 3 of type dbl</caption>\n",
       "<tbody>\n",
       "\t<tr><td> 0.04139904</td><td>-0.04964386</td><td> 0.06534933</td></tr>\n",
       "\t<tr><td>-0.04964386</td><td> 0.05953903</td><td>-0.07924470</td></tr>\n",
       "\t<tr><td> 0.06534933</td><td>-0.07924470</td><td> 0.19611605</td></tr>\n",
       "</tbody>\n",
       "</table>\n"
      ],
      "text/latex": [
       "A matrix: 3 × 3 of type dbl\n",
       "\\begin{tabular}{lll}\n",
       "\t  0.04139904 & -0.04964386 &  0.06534933\\\\\n",
       "\t -0.04964386 &  0.05953903 & -0.07924470\\\\\n",
       "\t  0.06534933 & -0.07924470 &  0.19611605\\\\\n",
       "\\end{tabular}\n"
      ],
      "text/markdown": [
       "\n",
       "A matrix: 3 × 3 of type dbl\n",
       "\n",
       "|  0.04139904 | -0.04964386 |  0.06534933 |\n",
       "| -0.04964386 |  0.05953903 | -0.07924470 |\n",
       "|  0.06534933 | -0.07924470 |  0.19611605 |\n",
       "\n"
      ],
      "text/plain": [
       "     [,1]        [,2]        [,3]       \n",
       "[1,]  0.04139904 -0.04964386  0.06534933\n",
       "[2,] -0.04964386  0.05953903 -0.07924470\n",
       "[3,]  0.06534933 -0.07924470  0.19611605"
      ]
     },
     "metadata": {},
     "output_type": "display_data"
    }
   ],
   "source": [
    "result2 <- sqrtm(solve(R22_8))%*%R21_8%*%solve(R11_8)%*%R12_8%*%sqrtm(solve(R22_8))\n",
    "result2"
   ]
  },
  {
   "cell_type": "code",
   "execution_count": 62,
   "id": "167c4c5a",
   "metadata": {
    "ExecuteTime": {
     "end_time": "2022-05-22T10:23:54.931919Z",
     "start_time": "2022-05-22T10:23:52.009Z"
    },
    "hidden": true
   },
   "outputs": [
    {
     "data": {
      "text/html": [
       "<style>\n",
       ".list-inline {list-style: none; margin:0; padding: 0}\n",
       ".list-inline>li {display: inline-block}\n",
       ".list-inline>li:not(:last-child)::after {content: \"\\00b7\"; padding: 0 .5ex}\n",
       "</style>\n",
       "<ol class=list-inline><li>0.261728758019025</li><li>0.0353253602184758</li><li>1.43703219875525e-17</li></ol>\n"
      ],
      "text/latex": [
       "\\begin{enumerate*}\n",
       "\\item 0.261728758019025\n",
       "\\item 0.0353253602184758\n",
       "\\item 1.43703219875525e-17\n",
       "\\end{enumerate*}\n"
      ],
      "text/markdown": [
       "1. 0.261728758019025\n",
       "2. 0.0353253602184758\n",
       "3. 1.43703219875525e-17\n",
       "\n",
       "\n"
      ],
      "text/plain": [
       "[1] 2.617288e-01 3.532536e-02 1.437032e-17"
      ]
     },
     "metadata": {},
     "output_type": "display_data"
    }
   ],
   "source": [
    "eigenvalue2_8 <- eigen(result2)$value\n",
    "eigenvalue2_8"
   ]
  },
  {
   "cell_type": "code",
   "execution_count": 63,
   "id": "978ddf36",
   "metadata": {
    "ExecuteTime": {
     "end_time": "2022-05-22T10:23:54.960917Z",
     "start_time": "2022-05-22T10:23:52.012Z"
    },
    "hidden": true
   },
   "outputs": [
    {
     "data": {
      "text/html": [
       "<table class=\"dataframe\">\n",
       "<caption>A matrix: 3 × 3 of type dbl</caption>\n",
       "<tbody>\n",
       "\t<tr><td> 0.3433701</td><td> 0.5462432</td><td>0.764012699</td></tr>\n",
       "\t<tr><td>-0.4146030</td><td>-0.6417610</td><td>0.645172251</td></tr>\n",
       "\t<tr><td> 0.8427345</td><td>-0.5382948</td><td>0.006112527</td></tr>\n",
       "</tbody>\n",
       "</table>\n"
      ],
      "text/latex": [
       "A matrix: 3 × 3 of type dbl\n",
       "\\begin{tabular}{lll}\n",
       "\t  0.3433701 &  0.5462432 & 0.764012699\\\\\n",
       "\t -0.4146030 & -0.6417610 & 0.645172251\\\\\n",
       "\t  0.8427345 & -0.5382948 & 0.006112527\\\\\n",
       "\\end{tabular}\n"
      ],
      "text/markdown": [
       "\n",
       "A matrix: 3 × 3 of type dbl\n",
       "\n",
       "|  0.3433701 |  0.5462432 | 0.764012699 |\n",
       "| -0.4146030 | -0.6417610 | 0.645172251 |\n",
       "|  0.8427345 | -0.5382948 | 0.006112527 |\n",
       "\n"
      ],
      "text/plain": [
       "     [,1]       [,2]       [,3]       \n",
       "[1,]  0.3433701  0.5462432 0.764012699\n",
       "[2,] -0.4146030 -0.6417610 0.645172251\n",
       "[3,]  0.8427345 -0.5382948 0.006112527"
      ]
     },
     "metadata": {},
     "output_type": "display_data"
    }
   ],
   "source": [
    "eigenvector2_8 <- eigen(result2)$vectors\n",
    "eigenvector2_8"
   ]
  },
  {
   "cell_type": "code",
   "execution_count": 64,
   "id": "33effb9c",
   "metadata": {
    "ExecuteTime": {
     "end_time": "2022-05-22T10:23:55.000796Z",
     "start_time": "2022-05-22T10:23:52.014Z"
    },
    "hidden": true
   },
   "outputs": [
    {
     "data": {
      "text/html": [
       "<table class=\"dataframe\">\n",
       "<caption>A matrix: 3 × 1 of type dbl</caption>\n",
       "<tbody>\n",
       "\t<tr><td> 0.4023439</td></tr>\n",
       "\t<tr><td>-0.6467924</td></tr>\n",
       "\t<tr><td> 0.9833716</td></tr>\n",
       "</tbody>\n",
       "</table>\n"
      ],
      "text/latex": [
       "A matrix: 3 × 1 of type dbl\n",
       "\\begin{tabular}{l}\n",
       "\t  0.4023439\\\\\n",
       "\t -0.6467924\\\\\n",
       "\t  0.9833716\\\\\n",
       "\\end{tabular}\n"
      ],
      "text/markdown": [
       "\n",
       "A matrix: 3 × 1 of type dbl\n",
       "\n",
       "|  0.4023439 |\n",
       "| -0.6467924 |\n",
       "|  0.9833716 |\n",
       "\n"
      ],
      "text/plain": [
       "     [,1]      \n",
       "[1,]  0.4023439\n",
       "[2,] -0.6467924\n",
       "[3,]  0.9833716"
      ]
     },
     "metadata": {},
     "output_type": "display_data"
    }
   ],
   "source": [
    "a1_result2_8 <- sqrtm(solve(R22_8))%*%eigenvector2_8[,1]\n",
    "a1_result2_8"
   ]
  },
  {
   "cell_type": "code",
   "execution_count": 65,
   "id": "bf19f3e4",
   "metadata": {
    "ExecuteTime": {
     "end_time": "2022-05-22T10:23:55.037239Z",
     "start_time": "2022-05-22T10:23:52.017Z"
    },
    "hidden": true
   },
   "outputs": [
    {
     "data": {
      "text/html": [
       "<table class=\"dataframe\">\n",
       "<caption>A matrix: 2 × 1 of type dbl</caption>\n",
       "<tbody>\n",
       "\t<tr><th scope=row>y1</th><td> 0.5141242</td></tr>\n",
       "\t<tr><th scope=row>y2</th><td>-0.1474079</td></tr>\n",
       "</tbody>\n",
       "</table>\n"
      ],
      "text/latex": [
       "A matrix: 2 × 1 of type dbl\n",
       "\\begin{tabular}{r|l}\n",
       "\ty1 &  0.5141242\\\\\n",
       "\ty2 & -0.1474079\\\\\n",
       "\\end{tabular}\n"
      ],
      "text/markdown": [
       "\n",
       "A matrix: 2 × 1 of type dbl\n",
       "\n",
       "| y1 |  0.5141242 |\n",
       "| y2 | -0.1474079 |\n",
       "\n"
      ],
      "text/plain": [
       "   [,1]      \n",
       "y1  0.5141242\n",
       "y2 -0.1474079"
      ]
     },
     "metadata": {},
     "output_type": "display_data"
    }
   ],
   "source": [
    "b1_result2_8 <- solve(R11_8)%*%R12_8%*%a1_result2_8\n",
    "b1_result2_8"
   ]
  },
  {
   "cell_type": "code",
   "execution_count": 101,
   "id": "79b5a875",
   "metadata": {
    "ExecuteTime": {
     "end_time": "2022-05-22T10:29:22.706923Z",
     "start_time": "2022-05-22T10:29:22.673Z"
    },
    "hidden": true
   },
   "outputs": [
    {
     "data": {
      "text/html": [
       "<table class=\"dataframe\">\n",
       "<caption>A matrix: 2 × 1 of type dbl</caption>\n",
       "<tbody>\n",
       "\t<tr><th scope=row>y1</th><td> 1.0049450</td></tr>\n",
       "\t<tr><th scope=row>y2</th><td>-0.2881343</td></tr>\n",
       "</tbody>\n",
       "</table>\n"
      ],
      "text/latex": [
       "A matrix: 2 × 1 of type dbl\n",
       "\\begin{tabular}{r|l}\n",
       "\ty1 &  1.0049450\\\\\n",
       "\ty2 & -0.2881343\\\\\n",
       "\\end{tabular}\n"
      ],
      "text/markdown": [
       "\n",
       "A matrix: 2 × 1 of type dbl\n",
       "\n",
       "| y1 |  1.0049450 |\n",
       "| y2 | -0.2881343 |\n",
       "\n"
      ],
      "text/plain": [
       "   [,1]      \n",
       "y1  1.0049450\n",
       "y2 -0.2881343"
      ]
     },
     "metadata": {},
     "output_type": "display_data"
    }
   ],
   "source": [
    "scale_result2_8 <- 1/(sqrtm(t(b1_result2_8)%*%R11_8%*%b1_result2_8))\n",
    "newb1_result2_8 <- (scale_result2_8[1,1])*b1_result2_8\n",
    "newb1_result2_8"
   ]
  },
  {
   "cell_type": "code",
   "execution_count": 67,
   "id": "fbf9028c",
   "metadata": {
    "ExecuteTime": {
     "end_time": "2022-05-22T10:23:55.100215Z",
     "start_time": "2022-05-22T10:23:52.022Z"
    },
    "hidden": true
   },
   "outputs": [
    {
     "data": {
      "text/html": [
       "0.511594329541508"
      ],
      "text/latex": [
       "0.511594329541508"
      ],
      "text/markdown": [
       "0.511594329541508"
      ],
      "text/plain": [
       "[1] 0.5115943"
      ]
     },
     "metadata": {},
     "output_type": "display_data"
    }
   ],
   "source": [
    "# canonical correlation 1\n",
    "r1_star_result2_8 <- eigenvalue2_8[1]\n",
    "sqrt(r1_star_result2_8)"
   ]
  },
  {
   "cell_type": "code",
   "execution_count": 68,
   "id": "5bb9f7be",
   "metadata": {
    "ExecuteTime": {
     "end_time": "2022-05-22T10:23:55.135951Z",
     "start_time": "2022-05-22T10:23:52.024Z"
    },
    "hidden": true
   },
   "outputs": [
    {
     "data": {
      "text/html": [
       "0.187950419575152"
      ],
      "text/latex": [
       "0.187950419575152"
      ],
      "text/markdown": [
       "0.187950419575152"
      ],
      "text/plain": [
       "[1] 0.1879504"
      ]
     },
     "metadata": {},
     "output_type": "display_data"
    }
   ],
   "source": [
    "# canonical correlation 2\n",
    "r2_star_result2_8 <- eigenvalue2_8[2]\n",
    "sqrt(r2_star_result2_8)"
   ]
  },
  {
   "cell_type": "code",
   "execution_count": 102,
   "id": "ad4bace8",
   "metadata": {
    "ExecuteTime": {
     "end_time": "2022-05-22T10:29:46.260607Z",
     "start_time": "2022-05-22T10:29:46.237Z"
    },
    "hidden": true
   },
   "outputs": [
    {
     "data": {
      "text/html": [
       "3.79082075381473e-09"
      ],
      "text/latex": [
       "3.79082075381473e-09"
      ],
      "text/markdown": [
       "3.79082075381473e-09"
      ],
      "text/plain": [
       "[1] 3.790821e-09"
      ]
     },
     "metadata": {},
     "output_type": "display_data"
    }
   ],
   "source": [
    "# canonical correlation 3\n",
    "r2_star_result2_8 <- eigenvalue2_8[3]\n",
    "sqrt(r2_star_result2_8)"
   ]
  },
  {
   "cell_type": "markdown",
   "id": "ea475242",
   "metadata": {
    "heading_collapsed": true
   },
   "source": [
    "## (b) Find the standardized coefficients for the canonical variates. "
   ]
  },
  {
   "cell_type": "markdown",
   "id": "8c65e6d7",
   "metadata": {
    "hidden": true
   },
   "source": [
    "Karena pada bagian (a) menggunakan matriks korelasi dengan asumsi masukan data merupakan data yang terstandardisasi, maka nilai koefisien yang terstandardisasinya tetap sama, yaitu"
   ]
  },
  {
   "cell_type": "code",
   "execution_count": 103,
   "id": "5e2c608c",
   "metadata": {
    "ExecuteTime": {
     "end_time": "2022-05-22T10:29:59.603843Z",
     "start_time": "2022-05-22T10:29:59.569Z"
    },
    "hidden": true,
    "scrolled": true
   },
   "outputs": [
    {
     "data": {
      "text/html": [
       "<table class=\"dataframe\">\n",
       "<caption>A matrix: 2 × 1 of type dbl</caption>\n",
       "<tbody>\n",
       "\t<tr><td>-1.0049450</td></tr>\n",
       "\t<tr><td> 0.2881343</td></tr>\n",
       "</tbody>\n",
       "</table>\n"
      ],
      "text/latex": [
       "A matrix: 2 × 1 of type dbl\n",
       "\\begin{tabular}{l}\n",
       "\t -1.0049450\\\\\n",
       "\t  0.2881343\\\\\n",
       "\\end{tabular}\n"
      ],
      "text/markdown": [
       "\n",
       "A matrix: 2 × 1 of type dbl\n",
       "\n",
       "| -1.0049450 |\n",
       "|  0.2881343 |\n",
       "\n"
      ],
      "text/plain": [
       "     [,1]      \n",
       "[1,] -1.0049450\n",
       "[2,]  0.2881343"
      ]
     },
     "metadata": {},
     "output_type": "display_data"
    },
    {
     "data": {
      "text/html": [
       "<table class=\"dataframe\">\n",
       "<caption>A matrix: 3 × 1 of type dbl</caption>\n",
       "<tbody>\n",
       "\t<tr><td> 0.4023439</td></tr>\n",
       "\t<tr><td>-0.6467924</td></tr>\n",
       "\t<tr><td> 0.9833716</td></tr>\n",
       "</tbody>\n",
       "</table>\n"
      ],
      "text/latex": [
       "A matrix: 3 × 1 of type dbl\n",
       "\\begin{tabular}{l}\n",
       "\t  0.4023439\\\\\n",
       "\t -0.6467924\\\\\n",
       "\t  0.9833716\\\\\n",
       "\\end{tabular}\n"
      ],
      "text/markdown": [
       "\n",
       "A matrix: 3 × 1 of type dbl\n",
       "\n",
       "|  0.4023439 |\n",
       "| -0.6467924 |\n",
       "|  0.9833716 |\n",
       "\n"
      ],
      "text/plain": [
       "     [,1]      \n",
       "[1,]  0.4023439\n",
       "[2,] -0.6467924\n",
       "[3,]  0.9833716"
      ]
     },
     "metadata": {},
     "output_type": "display_data"
    }
   ],
   "source": [
    "a1_result1_8\n",
    "a1_result2_8"
   ]
  },
  {
   "cell_type": "code",
   "execution_count": 104,
   "id": "bb9c1103",
   "metadata": {
    "ExecuteTime": {
     "end_time": "2022-05-22T10:30:07.108911Z",
     "start_time": "2022-05-22T10:30:07.078Z"
    },
    "hidden": true
   },
   "outputs": [
    {
     "data": {
      "text/html": [
       "<table class=\"dataframe\">\n",
       "<caption>A matrix: 3 × 1 of type dbl</caption>\n",
       "<tbody>\n",
       "\t<tr><th scope=row>x1</th><td>-0.4023439</td></tr>\n",
       "\t<tr><th scope=row>x2</th><td> 0.6467924</td></tr>\n",
       "\t<tr><th scope=row>x3</th><td>-0.9833716</td></tr>\n",
       "</tbody>\n",
       "</table>\n"
      ],
      "text/latex": [
       "A matrix: 3 × 1 of type dbl\n",
       "\\begin{tabular}{r|l}\n",
       "\tx1 & -0.4023439\\\\\n",
       "\tx2 &  0.6467924\\\\\n",
       "\tx3 & -0.9833716\\\\\n",
       "\\end{tabular}\n"
      ],
      "text/markdown": [
       "\n",
       "A matrix: 3 × 1 of type dbl\n",
       "\n",
       "| x1 | -0.4023439 |\n",
       "| x2 |  0.6467924 |\n",
       "| x3 | -0.9833716 |\n",
       "\n"
      ],
      "text/plain": [
       "   [,1]      \n",
       "x1 -0.4023439\n",
       "x2  0.6467924\n",
       "x3 -0.9833716"
      ]
     },
     "metadata": {},
     "output_type": "display_data"
    },
    {
     "data": {
      "text/html": [
       "<table class=\"dataframe\">\n",
       "<caption>A matrix: 2 × 1 of type dbl</caption>\n",
       "<tbody>\n",
       "\t<tr><th scope=row>y1</th><td> 1.0049450</td></tr>\n",
       "\t<tr><th scope=row>y2</th><td>-0.2881343</td></tr>\n",
       "</tbody>\n",
       "</table>\n"
      ],
      "text/latex": [
       "A matrix: 2 × 1 of type dbl\n",
       "\\begin{tabular}{r|l}\n",
       "\ty1 &  1.0049450\\\\\n",
       "\ty2 & -0.2881343\\\\\n",
       "\\end{tabular}\n"
      ],
      "text/markdown": [
       "\n",
       "A matrix: 2 × 1 of type dbl\n",
       "\n",
       "| y1 |  1.0049450 |\n",
       "| y2 | -0.2881343 |\n",
       "\n"
      ],
      "text/plain": [
       "   [,1]      \n",
       "y1  1.0049450\n",
       "y2 -0.2881343"
      ]
     },
     "metadata": {},
     "output_type": "display_data"
    }
   ],
   "source": [
    "newb1_result1_8\n",
    "newb1_result2_8"
   ]
  },
  {
   "cell_type": "markdown",
   "id": "c8d3e5af",
   "metadata": {},
   "source": [
    "## (c) Test the significance of each canonical correlation. "
   ]
  },
  {
   "cell_type": "markdown",
   "id": "e3993efd",
   "metadata": {},
   "source": [
    "### Result 1"
   ]
  },
  {
   "cell_type": "code",
   "execution_count": 116,
   "id": "da8a5857",
   "metadata": {
    "ExecuteTime": {
     "end_time": "2022-05-22T10:34:27.875322Z",
     "start_time": "2022-05-22T10:34:27.847Z"
    }
   },
   "outputs": [
    {
     "data": {
      "text/html": [
       "<style>\n",
       ".list-inline {list-style: none; margin:0; padding: 0}\n",
       ".list-inline>li {display: inline-block}\n",
       ".list-inline>li:not(:last-child)::after {content: \"\\00b7\"; padding: 0 .5ex}\n",
       "</style>\n",
       "<ol class=list-inline><li>0.511594329541508</li><li>0.187950419575152</li></ol>\n"
      ],
      "text/latex": [
       "\\begin{enumerate*}\n",
       "\\item 0.511594329541508\n",
       "\\item 0.187950419575152\n",
       "\\end{enumerate*}\n"
      ],
      "text/markdown": [
       "1. 0.511594329541508\n",
       "2. 0.187950419575152\n",
       "\n",
       "\n"
      ],
      "text/plain": [
       "[1] 0.5115943 0.1879504"
      ]
     },
     "metadata": {},
     "output_type": "display_data"
    }
   ],
   "source": [
    "canon.corr1_8 <- sqrt(eigenvalue1_8)\n",
    "canon.corr1_8"
   ]
  },
  {
   "cell_type": "code",
   "execution_count": 117,
   "id": "ade32663",
   "metadata": {
    "ExecuteTime": {
     "end_time": "2022-05-22T10:34:28.427257Z",
     "start_time": "2022-05-22T10:34:28.397Z"
    }
   },
   "outputs": [
    {
     "name": "stdout",
     "output_type": "stream",
     "text": [
      "11.87929 < 12.59159 , maka: Gagal Tolak Ho"
     ]
    }
   ],
   "source": [
    "n = 39\n",
    "p = 2\n",
    "q = 3\n",
    "\n",
    "stat.hit <- -(n-1-0.5*(p+q+1))*log((1-canon.corr1_8[1]^2) * (1-canon.corr1_8[2]^2))\n",
    "\n",
    "stat.uji <- qchisq(0.95, p*q)\n",
    "\n",
    "if(stat.hit > stat.uji){\n",
    "  cat(stat.hit, \">\", stat.uji, \", maka: \")\n",
    "  cat(\"Tolak Ho\")\n",
    "}else{\n",
    "  cat(stat.hit, \"<\", stat.uji, \", maka: \")\n",
    "  cat(\"Gagal Tolak Ho\")\n",
    "}"
   ]
  },
  {
   "cell_type": "markdown",
   "id": "e53dfc44",
   "metadata": {},
   "source": [
    "### Result 2"
   ]
  },
  {
   "cell_type": "code",
   "execution_count": 118,
   "id": "5249ebfd",
   "metadata": {
    "ExecuteTime": {
     "end_time": "2022-05-22T10:34:29.892985Z",
     "start_time": "2022-05-22T10:34:29.866Z"
    }
   },
   "outputs": [
    {
     "data": {
      "text/html": [
       "<style>\n",
       ".list-inline {list-style: none; margin:0; padding: 0}\n",
       ".list-inline>li {display: inline-block}\n",
       ".list-inline>li:not(:last-child)::after {content: \"\\00b7\"; padding: 0 .5ex}\n",
       "</style>\n",
       "<ol class=list-inline><li>0.511594329541508</li><li>0.187950419575152</li><li>3.79082075381473e-09</li></ol>\n"
      ],
      "text/latex": [
       "\\begin{enumerate*}\n",
       "\\item 0.511594329541508\n",
       "\\item 0.187950419575152\n",
       "\\item 3.79082075381473e-09\n",
       "\\end{enumerate*}\n"
      ],
      "text/markdown": [
       "1. 0.511594329541508\n",
       "2. 0.187950419575152\n",
       "3. 3.79082075381473e-09\n",
       "\n",
       "\n"
      ],
      "text/plain": [
       "[1] 5.115943e-01 1.879504e-01 3.790821e-09"
      ]
     },
     "metadata": {},
     "output_type": "display_data"
    }
   ],
   "source": [
    "canon.corr2_8 <- sqrt(eigenvalue2_8)\n",
    "canon.corr2_8"
   ]
  },
  {
   "cell_type": "code",
   "execution_count": 119,
   "id": "89f1b991",
   "metadata": {
    "ExecuteTime": {
     "end_time": "2022-05-22T10:34:30.447968Z",
     "start_time": "2022-05-22T10:34:30.416Z"
    }
   },
   "outputs": [
    {
     "name": "stdout",
     "output_type": "stream",
     "text": [
      "11.87929 < 12.59159 , maka: Gagal Tolak Ho"
     ]
    }
   ],
   "source": [
    "n = 39\n",
    "p = 2\n",
    "q = 3\n",
    "\n",
    "stat.hit <- -(n-1-0.5*(p+q+1))*log((1-canon.corr2_8[1]^2) * (1-canon.corr2_8[2]^2))\n",
    "\n",
    "stat.uji <- qchisq(0.95, p*q)\n",
    "\n",
    "if(stat.hit > stat.uji){\n",
    "  cat(stat.hit, \">\", stat.uji, \", maka: \")\n",
    "  cat(\"Tolak Ho\")\n",
    "}else{\n",
    "  cat(stat.hit, \"<\", stat.uji, \", maka: \")\n",
    "  cat(\"Gagal Tolak Ho\")\n",
    "}"
   ]
  },
  {
   "cell_type": "markdown",
   "id": "c28bd7f5",
   "metadata": {},
   "source": [
    "# 11.9"
   ]
  },
  {
   "cell_type": "code",
   "execution_count": 73,
   "id": "6a9e8e67",
   "metadata": {
    "ExecuteTime": {
     "end_time": "2022-05-22T10:23:55.299599Z",
     "start_time": "2022-05-22T10:23:52.039Z"
    }
   },
   "outputs": [
    {
     "data": {
      "text/html": [
       "<table class=\"dataframe\">\n",
       "<caption>A data.frame: 6 × 4</caption>\n",
       "<thead>\n",
       "\t<tr><th></th><th scope=col>y1</th><th scope=col>y2</th><th scope=col>x1</th><th scope=col>x2</th></tr>\n",
       "\t<tr><th></th><th scope=col>&lt;dbl&gt;</th><th scope=col>&lt;dbl&gt;</th><th scope=col>&lt;dbl&gt;</th><th scope=col>&lt;dbl&gt;</th></tr>\n",
       "</thead>\n",
       "<tbody>\n",
       "\t<tr><th scope=row>1</th><td>191</td><td>155</td><td>179</td><td>145</td></tr>\n",
       "\t<tr><th scope=row>2</th><td>195</td><td>149</td><td>201</td><td>152</td></tr>\n",
       "\t<tr><th scope=row>3</th><td>181</td><td>148</td><td>185</td><td>149</td></tr>\n",
       "\t<tr><th scope=row>4</th><td>183</td><td>153</td><td>188</td><td>149</td></tr>\n",
       "\t<tr><th scope=row>5</th><td>176</td><td>144</td><td>171</td><td>142</td></tr>\n",
       "\t<tr><th scope=row>6</th><td>208</td><td>157</td><td>192</td><td>152</td></tr>\n",
       "</tbody>\n",
       "</table>\n"
      ],
      "text/latex": [
       "A data.frame: 6 × 4\n",
       "\\begin{tabular}{r|llll}\n",
       "  & y1 & y2 & x1 & x2\\\\\n",
       "  & <dbl> & <dbl> & <dbl> & <dbl>\\\\\n",
       "\\hline\n",
       "\t1 & 191 & 155 & 179 & 145\\\\\n",
       "\t2 & 195 & 149 & 201 & 152\\\\\n",
       "\t3 & 181 & 148 & 185 & 149\\\\\n",
       "\t4 & 183 & 153 & 188 & 149\\\\\n",
       "\t5 & 176 & 144 & 171 & 142\\\\\n",
       "\t6 & 208 & 157 & 192 & 152\\\\\n",
       "\\end{tabular}\n"
      ],
      "text/markdown": [
       "\n",
       "A data.frame: 6 × 4\n",
       "\n",
       "| <!--/--> | y1 &lt;dbl&gt; | y2 &lt;dbl&gt; | x1 &lt;dbl&gt; | x2 &lt;dbl&gt; |\n",
       "|---|---|---|---|---|\n",
       "| 1 | 191 | 155 | 179 | 145 |\n",
       "| 2 | 195 | 149 | 201 | 152 |\n",
       "| 3 | 181 | 148 | 185 | 149 |\n",
       "| 4 | 183 | 153 | 188 | 149 |\n",
       "| 5 | 176 | 144 | 171 | 142 |\n",
       "| 6 | 208 | 157 | 192 | 152 |\n",
       "\n"
      ],
      "text/plain": [
       "  y1  y2  x1  x2 \n",
       "1 191 155 179 145\n",
       "2 195 149 201 152\n",
       "3 181 148 185 149\n",
       "4 183 153 188 149\n",
       "5 176 144 171 142\n",
       "6 208 157 192 152"
      ]
     },
     "metadata": {},
     "output_type": "display_data"
    }
   ],
   "source": [
    "son <- read.xlsx(\"Son.xlsx\")\n",
    "head(son)"
   ]
  },
  {
   "cell_type": "code",
   "execution_count": 74,
   "id": "06ee394d",
   "metadata": {
    "ExecuteTime": {
     "end_time": "2022-05-22T10:23:55.330596Z",
     "start_time": "2022-05-22T10:23:52.041Z"
    }
   },
   "outputs": [
    {
     "data": {
      "text/html": [
       "<table class=\"dataframe\">\n",
       "<caption>A matrix: 4 × 4 of type dbl</caption>\n",
       "<thead>\n",
       "\t<tr><th></th><th scope=col>y1</th><th scope=col>y2</th><th scope=col>x1</th><th scope=col>x2</th></tr>\n",
       "</thead>\n",
       "<tbody>\n",
       "\t<tr><th scope=row>y1</th><td>1.0000000</td><td>0.7345555</td><td>0.7107518</td><td>0.7039807</td></tr>\n",
       "\t<tr><th scope=row>y2</th><td>0.7345555</td><td>1.0000000</td><td>0.6931573</td><td>0.7085504</td></tr>\n",
       "\t<tr><th scope=row>x1</th><td>0.7107518</td><td>0.6931573</td><td>1.0000000</td><td>0.8392519</td></tr>\n",
       "\t<tr><th scope=row>x2</th><td>0.7039807</td><td>0.7085504</td><td>0.8392519</td><td>1.0000000</td></tr>\n",
       "</tbody>\n",
       "</table>\n"
      ],
      "text/latex": [
       "A matrix: 4 × 4 of type dbl\n",
       "\\begin{tabular}{r|llll}\n",
       "  & y1 & y2 & x1 & x2\\\\\n",
       "\\hline\n",
       "\ty1 & 1.0000000 & 0.7345555 & 0.7107518 & 0.7039807\\\\\n",
       "\ty2 & 0.7345555 & 1.0000000 & 0.6931573 & 0.7085504\\\\\n",
       "\tx1 & 0.7107518 & 0.6931573 & 1.0000000 & 0.8392519\\\\\n",
       "\tx2 & 0.7039807 & 0.7085504 & 0.8392519 & 1.0000000\\\\\n",
       "\\end{tabular}\n"
      ],
      "text/markdown": [
       "\n",
       "A matrix: 4 × 4 of type dbl\n",
       "\n",
       "| <!--/--> | y1 | y2 | x1 | x2 |\n",
       "|---|---|---|---|---|\n",
       "| y1 | 1.0000000 | 0.7345555 | 0.7107518 | 0.7039807 |\n",
       "| y2 | 0.7345555 | 1.0000000 | 0.6931573 | 0.7085504 |\n",
       "| x1 | 0.7107518 | 0.6931573 | 1.0000000 | 0.8392519 |\n",
       "| x2 | 0.7039807 | 0.7085504 | 0.8392519 | 1.0000000 |\n",
       "\n"
      ],
      "text/plain": [
       "   y1        y2        x1        x2       \n",
       "y1 1.0000000 0.7345555 0.7107518 0.7039807\n",
       "y2 0.7345555 1.0000000 0.6931573 0.7085504\n",
       "x1 0.7107518 0.6931573 1.0000000 0.8392519\n",
       "x2 0.7039807 0.7085504 0.8392519 1.0000000"
      ]
     },
     "metadata": {},
     "output_type": "display_data"
    }
   ],
   "source": [
    "cor_son <- cor(son)\n",
    "cor_son"
   ]
  },
  {
   "cell_type": "code",
   "execution_count": 75,
   "id": "32892523",
   "metadata": {
    "ExecuteTime": {
     "end_time": "2022-05-22T10:23:55.356406Z",
     "start_time": "2022-05-22T10:23:52.044Z"
    }
   },
   "outputs": [
    {
     "data": {
      "text/html": [
       "<table class=\"dataframe\">\n",
       "<caption>A matrix: 2 × 2 of type dbl</caption>\n",
       "<thead>\n",
       "\t<tr><th></th><th scope=col>y1</th><th scope=col>y2</th></tr>\n",
       "</thead>\n",
       "<tbody>\n",
       "\t<tr><th scope=row>y1</th><td>1.0000000</td><td>0.7345555</td></tr>\n",
       "\t<tr><th scope=row>y2</th><td>0.7345555</td><td>1.0000000</td></tr>\n",
       "</tbody>\n",
       "</table>\n"
      ],
      "text/latex": [
       "A matrix: 2 × 2 of type dbl\n",
       "\\begin{tabular}{r|ll}\n",
       "  & y1 & y2\\\\\n",
       "\\hline\n",
       "\ty1 & 1.0000000 & 0.7345555\\\\\n",
       "\ty2 & 0.7345555 & 1.0000000\\\\\n",
       "\\end{tabular}\n"
      ],
      "text/markdown": [
       "\n",
       "A matrix: 2 × 2 of type dbl\n",
       "\n",
       "| <!--/--> | y1 | y2 |\n",
       "|---|---|---|\n",
       "| y1 | 1.0000000 | 0.7345555 |\n",
       "| y2 | 0.7345555 | 1.0000000 |\n",
       "\n"
      ],
      "text/plain": [
       "   y1        y2       \n",
       "y1 1.0000000 0.7345555\n",
       "y2 0.7345555 1.0000000"
      ]
     },
     "metadata": {},
     "output_type": "display_data"
    }
   ],
   "source": [
    "R11_9 <- cor_son[c(1,2),c(1,2)]\n",
    "R11_9"
   ]
  },
  {
   "cell_type": "code",
   "execution_count": 76,
   "id": "18940801",
   "metadata": {
    "ExecuteTime": {
     "end_time": "2022-05-22T10:23:55.393330Z",
     "start_time": "2022-05-22T10:23:52.047Z"
    }
   },
   "outputs": [
    {
     "data": {
      "text/html": [
       "<table class=\"dataframe\">\n",
       "<caption>A matrix: 2 × 2 of type dbl</caption>\n",
       "<thead>\n",
       "\t<tr><th></th><th scope=col>x1</th><th scope=col>x2</th></tr>\n",
       "</thead>\n",
       "<tbody>\n",
       "\t<tr><th scope=row>y1</th><td>0.7107518</td><td>0.7039807</td></tr>\n",
       "\t<tr><th scope=row>y2</th><td>0.6931573</td><td>0.7085504</td></tr>\n",
       "</tbody>\n",
       "</table>\n"
      ],
      "text/latex": [
       "A matrix: 2 × 2 of type dbl\n",
       "\\begin{tabular}{r|ll}\n",
       "  & x1 & x2\\\\\n",
       "\\hline\n",
       "\ty1 & 0.7107518 & 0.7039807\\\\\n",
       "\ty2 & 0.6931573 & 0.7085504\\\\\n",
       "\\end{tabular}\n"
      ],
      "text/markdown": [
       "\n",
       "A matrix: 2 × 2 of type dbl\n",
       "\n",
       "| <!--/--> | x1 | x2 |\n",
       "|---|---|---|\n",
       "| y1 | 0.7107518 | 0.7039807 |\n",
       "| y2 | 0.6931573 | 0.7085504 |\n",
       "\n"
      ],
      "text/plain": [
       "   x1        x2       \n",
       "y1 0.7107518 0.7039807\n",
       "y2 0.6931573 0.7085504"
      ]
     },
     "metadata": {},
     "output_type": "display_data"
    }
   ],
   "source": [
    "R12_9 <- cor_son[c(1,2),c(3,4)]\n",
    "R12_9"
   ]
  },
  {
   "cell_type": "code",
   "execution_count": 77,
   "id": "132f2bec",
   "metadata": {
    "ExecuteTime": {
     "end_time": "2022-05-22T10:23:55.426326Z",
     "start_time": "2022-05-22T10:23:52.049Z"
    }
   },
   "outputs": [
    {
     "data": {
      "text/html": [
       "<table class=\"dataframe\">\n",
       "<caption>A matrix: 2 × 2 of type dbl</caption>\n",
       "<thead>\n",
       "\t<tr><th></th><th scope=col>y1</th><th scope=col>y2</th></tr>\n",
       "</thead>\n",
       "<tbody>\n",
       "\t<tr><th scope=row>x1</th><td>0.7107518</td><td>0.6931573</td></tr>\n",
       "\t<tr><th scope=row>x2</th><td>0.7039807</td><td>0.7085504</td></tr>\n",
       "</tbody>\n",
       "</table>\n"
      ],
      "text/latex": [
       "A matrix: 2 × 2 of type dbl\n",
       "\\begin{tabular}{r|ll}\n",
       "  & y1 & y2\\\\\n",
       "\\hline\n",
       "\tx1 & 0.7107518 & 0.6931573\\\\\n",
       "\tx2 & 0.7039807 & 0.7085504\\\\\n",
       "\\end{tabular}\n"
      ],
      "text/markdown": [
       "\n",
       "A matrix: 2 × 2 of type dbl\n",
       "\n",
       "| <!--/--> | y1 | y2 |\n",
       "|---|---|---|\n",
       "| x1 | 0.7107518 | 0.6931573 |\n",
       "| x2 | 0.7039807 | 0.7085504 |\n",
       "\n"
      ],
      "text/plain": [
       "   y1        y2       \n",
       "x1 0.7107518 0.6931573\n",
       "x2 0.7039807 0.7085504"
      ]
     },
     "metadata": {},
     "output_type": "display_data"
    }
   ],
   "source": [
    "R21_9 <- cor_son[c(3,4),c(1,2)]\n",
    "R21_9"
   ]
  },
  {
   "cell_type": "code",
   "execution_count": 78,
   "id": "697ac3ee",
   "metadata": {
    "ExecuteTime": {
     "end_time": "2022-05-22T10:23:55.456568Z",
     "start_time": "2022-05-22T10:23:52.052Z"
    }
   },
   "outputs": [
    {
     "data": {
      "text/html": [
       "<table class=\"dataframe\">\n",
       "<caption>A matrix: 2 × 2 of type dbl</caption>\n",
       "<thead>\n",
       "\t<tr><th></th><th scope=col>x1</th><th scope=col>x2</th></tr>\n",
       "</thead>\n",
       "<tbody>\n",
       "\t<tr><th scope=row>x1</th><td>1.0000000</td><td>0.8392519</td></tr>\n",
       "\t<tr><th scope=row>x2</th><td>0.8392519</td><td>1.0000000</td></tr>\n",
       "</tbody>\n",
       "</table>\n"
      ],
      "text/latex": [
       "A matrix: 2 × 2 of type dbl\n",
       "\\begin{tabular}{r|ll}\n",
       "  & x1 & x2\\\\\n",
       "\\hline\n",
       "\tx1 & 1.0000000 & 0.8392519\\\\\n",
       "\tx2 & 0.8392519 & 1.0000000\\\\\n",
       "\\end{tabular}\n"
      ],
      "text/markdown": [
       "\n",
       "A matrix: 2 × 2 of type dbl\n",
       "\n",
       "| <!--/--> | x1 | x2 |\n",
       "|---|---|---|\n",
       "| x1 | 1.0000000 | 0.8392519 |\n",
       "| x2 | 0.8392519 | 1.0000000 |\n",
       "\n"
      ],
      "text/plain": [
       "   x1        x2       \n",
       "x1 1.0000000 0.8392519\n",
       "x2 0.8392519 1.0000000"
      ]
     },
     "metadata": {},
     "output_type": "display_data"
    }
   ],
   "source": [
    "R22_9 <- cor_son[c(3,4),c(3,4)]\n",
    "R22_9"
   ]
  },
  {
   "cell_type": "markdown",
   "id": "135f18c9",
   "metadata": {},
   "source": [
    "## (a) Find the canonical correlations between $(y_{1}, y_{2})$ and $(x_{1}, x_{2})$. "
   ]
  },
  {
   "cell_type": "markdown",
   "id": "14dc6b04",
   "metadata": {
    "heading_collapsed": true
   },
   "source": [
    "### Result 1"
   ]
  },
  {
   "cell_type": "code",
   "execution_count": 79,
   "id": "8b46b9f5",
   "metadata": {
    "ExecuteTime": {
     "end_time": "2022-05-22T10:23:55.486427Z",
     "start_time": "2022-05-22T10:23:52.055Z"
    },
    "hidden": true
   },
   "outputs": [
    {
     "data": {
      "text/html": [
       "<table class=\"dataframe\">\n",
       "<caption>A matrix: 2 × 2 of type dbl</caption>\n",
       "<tbody>\n",
       "\t<tr><td>0.3192267</td><td>0.3093512</td></tr>\n",
       "\t<tr><td>0.3093512</td><td>0.3054060</td></tr>\n",
       "</tbody>\n",
       "</table>\n"
      ],
      "text/latex": [
       "A matrix: 2 × 2 of type dbl\n",
       "\\begin{tabular}{ll}\n",
       "\t 0.3192267 & 0.3093512\\\\\n",
       "\t 0.3093512 & 0.3054060\\\\\n",
       "\\end{tabular}\n"
      ],
      "text/markdown": [
       "\n",
       "A matrix: 2 × 2 of type dbl\n",
       "\n",
       "| 0.3192267 | 0.3093512 |\n",
       "| 0.3093512 | 0.3054060 |\n",
       "\n"
      ],
      "text/plain": [
       "     [,1]      [,2]     \n",
       "[1,] 0.3192267 0.3093512\n",
       "[2,] 0.3093512 0.3054060"
      ]
     },
     "metadata": {},
     "output_type": "display_data"
    }
   ],
   "source": [
    "result1_9 <- sqrtm(solve(R11_9))%*%R12_9%*%solve(R22_9)%*%R21_9%*%sqrtm(solve(R11_9))\n",
    "result1_9"
   ]
  },
  {
   "cell_type": "code",
   "execution_count": 80,
   "id": "a502aca2",
   "metadata": {
    "ExecuteTime": {
     "end_time": "2022-05-22T10:23:55.526583Z",
     "start_time": "2022-05-22T10:23:52.058Z"
    },
    "hidden": true
   },
   "outputs": [
    {
     "data": {
      "text/html": [
       "<style>\n",
       ".list-inline {list-style: none; margin:0; padding: 0}\n",
       ".list-inline>li {display: inline-block}\n",
       ".list-inline>li:not(:last-child)::after {content: \"\\00b7\"; padding: 0 .5ex}\n",
       "</style>\n",
       "<ol class=list-inline><li>0.621744734059307</li><li>0.00288795583160881</li></ol>\n"
      ],
      "text/latex": [
       "\\begin{enumerate*}\n",
       "\\item 0.621744734059307\n",
       "\\item 0.00288795583160881\n",
       "\\end{enumerate*}\n"
      ],
      "text/markdown": [
       "1. 0.621744734059307\n",
       "2. 0.00288795583160881\n",
       "\n",
       "\n"
      ],
      "text/plain": [
       "[1] 0.621744734 0.002887956"
      ]
     },
     "metadata": {},
     "output_type": "display_data"
    }
   ],
   "source": [
    "eigenvalue1_9 <- eigen(result1_9)$value\n",
    "eigenvalue1_9"
   ]
  },
  {
   "cell_type": "code",
   "execution_count": 81,
   "id": "aebfb006",
   "metadata": {
    "ExecuteTime": {
     "end_time": "2022-05-22T10:23:55.558583Z",
     "start_time": "2022-05-22T10:23:52.061Z"
    },
    "hidden": true
   },
   "outputs": [
    {
     "data": {
      "text/html": [
       "<table class=\"dataframe\">\n",
       "<caption>A matrix: 2 × 2 of type dbl</caption>\n",
       "<tbody>\n",
       "\t<tr><td>-0.7149589</td><td> 0.6991664</td></tr>\n",
       "\t<tr><td>-0.6991664</td><td>-0.7149589</td></tr>\n",
       "</tbody>\n",
       "</table>\n"
      ],
      "text/latex": [
       "A matrix: 2 × 2 of type dbl\n",
       "\\begin{tabular}{ll}\n",
       "\t -0.7149589 &  0.6991664\\\\\n",
       "\t -0.6991664 & -0.7149589\\\\\n",
       "\\end{tabular}\n"
      ],
      "text/markdown": [
       "\n",
       "A matrix: 2 × 2 of type dbl\n",
       "\n",
       "| -0.7149589 |  0.6991664 |\n",
       "| -0.6991664 | -0.7149589 |\n",
       "\n"
      ],
      "text/plain": [
       "     [,1]       [,2]      \n",
       "[1,] -0.7149589  0.6991664\n",
       "[2,] -0.6991664 -0.7149589"
      ]
     },
     "metadata": {},
     "output_type": "display_data"
    }
   ],
   "source": [
    "eigenvector1_9 <- eigen(result1_9)$vectors\n",
    "eigenvector1_9"
   ]
  },
  {
   "cell_type": "code",
   "execution_count": 82,
   "id": "c43a3968",
   "metadata": {
    "ExecuteTime": {
     "end_time": "2022-05-22T10:23:55.587961Z",
     "start_time": "2022-05-22T10:23:52.065Z"
    },
    "hidden": true
   },
   "outputs": [
    {
     "data": {
      "text/html": [
       "<table class=\"dataframe\">\n",
       "<caption>A matrix: 2 × 1 of type dbl</caption>\n",
       "<tbody>\n",
       "\t<tr><td>-0.5521896</td></tr>\n",
       "\t<tr><td>-0.5215372</td></tr>\n",
       "</tbody>\n",
       "</table>\n"
      ],
      "text/latex": [
       "A matrix: 2 × 1 of type dbl\n",
       "\\begin{tabular}{l}\n",
       "\t -0.5521896\\\\\n",
       "\t -0.5215372\\\\\n",
       "\\end{tabular}\n"
      ],
      "text/markdown": [
       "\n",
       "A matrix: 2 × 1 of type dbl\n",
       "\n",
       "| -0.5521896 |\n",
       "| -0.5215372 |\n",
       "\n"
      ],
      "text/plain": [
       "     [,1]      \n",
       "[1,] -0.5521896\n",
       "[2,] -0.5215372"
      ]
     },
     "metadata": {},
     "output_type": "display_data"
    }
   ],
   "source": [
    "a1_result1_9 <- sqrtm(solve(R11_9))%*%eigenvector1_9[,1]\n",
    "a1_result1_9"
   ]
  },
  {
   "cell_type": "code",
   "execution_count": 83,
   "id": "c79903d6",
   "metadata": {
    "ExecuteTime": {
     "end_time": "2022-05-22T10:23:55.618199Z",
     "start_time": "2022-05-22T10:23:52.069Z"
    },
    "hidden": true
   },
   "outputs": [
    {
     "data": {
      "text/html": [
       "<table class=\"dataframe\">\n",
       "<caption>A matrix: 2 × 1 of type dbl</caption>\n",
       "<tbody>\n",
       "\t<tr><th scope=row>x1</th><td>-0.3977615</td></tr>\n",
       "\t<tr><th scope=row>x2</th><td>-0.4244441</td></tr>\n",
       "</tbody>\n",
       "</table>\n"
      ],
      "text/latex": [
       "A matrix: 2 × 1 of type dbl\n",
       "\\begin{tabular}{r|l}\n",
       "\tx1 & -0.3977615\\\\\n",
       "\tx2 & -0.4244441\\\\\n",
       "\\end{tabular}\n"
      ],
      "text/markdown": [
       "\n",
       "A matrix: 2 × 1 of type dbl\n",
       "\n",
       "| x1 | -0.3977615 |\n",
       "| x2 | -0.4244441 |\n",
       "\n"
      ],
      "text/plain": [
       "   [,1]      \n",
       "x1 -0.3977615\n",
       "x2 -0.4244441"
      ]
     },
     "metadata": {},
     "output_type": "display_data"
    }
   ],
   "source": [
    "b1_result1_9 <- solve(R22_9)%*%R21_9%*%a1_result1_9\n",
    "b1_result1_9"
   ]
  },
  {
   "cell_type": "code",
   "execution_count": 84,
   "id": "2fb4cc76",
   "metadata": {
    "ExecuteTime": {
     "end_time": "2022-05-22T10:23:55.649238Z",
     "start_time": "2022-05-22T10:23:52.072Z"
    },
    "hidden": true
   },
   "outputs": [
    {
     "data": {
      "text/html": [
       "<table class=\"dataframe\">\n",
       "<caption>A matrix: 2 × 1 of type dbl</caption>\n",
       "<tbody>\n",
       "\t<tr><th scope=row>x1</th><td>-0.5044484</td></tr>\n",
       "\t<tr><th scope=row>x2</th><td>-0.5382877</td></tr>\n",
       "</tbody>\n",
       "</table>\n"
      ],
      "text/latex": [
       "A matrix: 2 × 1 of type dbl\n",
       "\\begin{tabular}{r|l}\n",
       "\tx1 & -0.5044484\\\\\n",
       "\tx2 & -0.5382877\\\\\n",
       "\\end{tabular}\n"
      ],
      "text/markdown": [
       "\n",
       "A matrix: 2 × 1 of type dbl\n",
       "\n",
       "| x1 | -0.5044484 |\n",
       "| x2 | -0.5382877 |\n",
       "\n"
      ],
      "text/plain": [
       "   [,1]      \n",
       "x1 -0.5044484\n",
       "x2 -0.5382877"
      ]
     },
     "metadata": {},
     "output_type": "display_data"
    }
   ],
   "source": [
    "scale_result1_9 <- 1/(sqrtm(t(b1_result1_9)%*%R22_9%*%b1_result1_9))\n",
    "newb1_result1_9 <- (scale_result1_9[1,1])*b1_result1_9\n",
    "newb1_result1_9"
   ]
  },
  {
   "cell_type": "code",
   "execution_count": 85,
   "id": "148fdb4b",
   "metadata": {
    "ExecuteTime": {
     "end_time": "2022-05-22T10:23:55.678195Z",
     "start_time": "2022-05-22T10:23:52.076Z"
    },
    "hidden": true
   },
   "outputs": [
    {
     "data": {
      "text/html": [
       "0.788507916294635"
      ],
      "text/latex": [
       "0.788507916294635"
      ],
      "text/markdown": [
       "0.788507916294635"
      ],
      "text/plain": [
       "[1] 0.7885079"
      ]
     },
     "metadata": {},
     "output_type": "display_data"
    }
   ],
   "source": [
    "# canonical correlation 1\n",
    "r1_star_result1_9 <- eigenvalue1_9[1]\n",
    "sqrt(r1_star_result1_9)"
   ]
  },
  {
   "cell_type": "code",
   "execution_count": 86,
   "id": "b2a8c536",
   "metadata": {
    "ExecuteTime": {
     "end_time": "2022-05-22T10:23:55.706201Z",
     "start_time": "2022-05-22T10:23:52.080Z"
    },
    "hidden": true
   },
   "outputs": [
    {
     "data": {
      "text/html": [
       "0.0537397044242784"
      ],
      "text/latex": [
       "0.0537397044242784"
      ],
      "text/markdown": [
       "0.0537397044242784"
      ],
      "text/plain": [
       "[1] 0.0537397"
      ]
     },
     "metadata": {},
     "output_type": "display_data"
    }
   ],
   "source": [
    "# canonical correlation 2\n",
    "r2_star_result1_9 <- eigenvalue1_9[2]\n",
    "sqrt(r2_star_result1_9)"
   ]
  },
  {
   "cell_type": "markdown",
   "id": "473c45e4",
   "metadata": {
    "heading_collapsed": true
   },
   "source": [
    "### Result 2"
   ]
  },
  {
   "cell_type": "code",
   "execution_count": 87,
   "id": "f4ed4eb9",
   "metadata": {
    "ExecuteTime": {
     "end_time": "2022-05-22T10:23:55.739198Z",
     "start_time": "2022-05-22T10:23:52.083Z"
    },
    "hidden": true
   },
   "outputs": [
    {
     "data": {
      "text/html": [
       "<table class=\"dataframe\">\n",
       "<caption>A matrix: 2 × 2 of type dbl</caption>\n",
       "<tbody>\n",
       "\t<tr><td>0.3063796</td><td>0.3093714</td></tr>\n",
       "\t<tr><td>0.3093714</td><td>0.3182531</td></tr>\n",
       "</tbody>\n",
       "</table>\n"
      ],
      "text/latex": [
       "A matrix: 2 × 2 of type dbl\n",
       "\\begin{tabular}{ll}\n",
       "\t 0.3063796 & 0.3093714\\\\\n",
       "\t 0.3093714 & 0.3182531\\\\\n",
       "\\end{tabular}\n"
      ],
      "text/markdown": [
       "\n",
       "A matrix: 2 × 2 of type dbl\n",
       "\n",
       "| 0.3063796 | 0.3093714 |\n",
       "| 0.3093714 | 0.3182531 |\n",
       "\n"
      ],
      "text/plain": [
       "     [,1]      [,2]     \n",
       "[1,] 0.3063796 0.3093714\n",
       "[2,] 0.3093714 0.3182531"
      ]
     },
     "metadata": {},
     "output_type": "display_data"
    }
   ],
   "source": [
    "result2_9 <- sqrtm(solve(R22_9))%*%R21_9%*%solve(R11_9)%*%R12_9%*%sqrtm(solve(R22_9))\n",
    "result2_9"
   ]
  },
  {
   "cell_type": "code",
   "execution_count": 88,
   "id": "f687366f",
   "metadata": {
    "ExecuteTime": {
     "end_time": "2022-05-22T10:23:55.768201Z",
     "start_time": "2022-05-22T10:23:52.086Z"
    },
    "hidden": true
   },
   "outputs": [
    {
     "data": {
      "text/html": [
       "<style>\n",
       ".list-inline {list-style: none; margin:0; padding: 0}\n",
       ".list-inline>li {display: inline-block}\n",
       ".list-inline>li:not(:last-child)::after {content: \"\\00b7\"; padding: 0 .5ex}\n",
       "</style>\n",
       "<ol class=list-inline><li>0.621744734059307</li><li>0.00288795583160895</li></ol>\n"
      ],
      "text/latex": [
       "\\begin{enumerate*}\n",
       "\\item 0.621744734059307\n",
       "\\item 0.00288795583160895\n",
       "\\end{enumerate*}\n"
      ],
      "text/markdown": [
       "1. 0.621744734059307\n",
       "2. 0.00288795583160895\n",
       "\n",
       "\n"
      ],
      "text/plain": [
       "[1] 0.621744734 0.002887956"
      ]
     },
     "metadata": {},
     "output_type": "display_data"
    }
   ],
   "source": [
    "eigenvalue2_9 <- eigen(result2_9)$value\n",
    "eigenvalue2_9"
   ]
  },
  {
   "cell_type": "code",
   "execution_count": 89,
   "id": "c663b420",
   "metadata": {
    "ExecuteTime": {
     "end_time": "2022-05-22T10:23:55.802226Z",
     "start_time": "2022-05-22T10:23:52.088Z"
    },
    "hidden": true
   },
   "outputs": [
    {
     "data": {
      "text/html": [
       "<table class=\"dataframe\">\n",
       "<caption>A matrix: 2 × 2 of type dbl</caption>\n",
       "<tbody>\n",
       "\t<tr><td>0.7002906</td><td>-0.7138579</td></tr>\n",
       "\t<tr><td>0.7138579</td><td> 0.7002906</td></tr>\n",
       "</tbody>\n",
       "</table>\n"
      ],
      "text/latex": [
       "A matrix: 2 × 2 of type dbl\n",
       "\\begin{tabular}{ll}\n",
       "\t 0.7002906 & -0.7138579\\\\\n",
       "\t 0.7138579 &  0.7002906\\\\\n",
       "\\end{tabular}\n"
      ],
      "text/markdown": [
       "\n",
       "A matrix: 2 × 2 of type dbl\n",
       "\n",
       "| 0.7002906 | -0.7138579 |\n",
       "| 0.7138579 |  0.7002906 |\n",
       "\n"
      ],
      "text/plain": [
       "     [,1]      [,2]      \n",
       "[1,] 0.7002906 -0.7138579\n",
       "[2,] 0.7138579  0.7002906"
      ]
     },
     "metadata": {},
     "output_type": "display_data"
    }
   ],
   "source": [
    "eigenvector2_9 <- eigen(result2_9)$vectors\n",
    "eigenvector2_9"
   ]
  },
  {
   "cell_type": "code",
   "execution_count": 90,
   "id": "427105f0",
   "metadata": {
    "ExecuteTime": {
     "end_time": "2022-05-22T10:23:55.832226Z",
     "start_time": "2022-05-22T10:23:52.091Z"
    },
    "hidden": true
   },
   "outputs": [
    {
     "data": {
      "text/html": [
       "<table class=\"dataframe\">\n",
       "<caption>A matrix: 2 × 1 of type dbl</caption>\n",
       "<tbody>\n",
       "\t<tr><td>0.5044484</td></tr>\n",
       "\t<tr><td>0.5382877</td></tr>\n",
       "</tbody>\n",
       "</table>\n"
      ],
      "text/latex": [
       "A matrix: 2 × 1 of type dbl\n",
       "\\begin{tabular}{l}\n",
       "\t 0.5044484\\\\\n",
       "\t 0.5382877\\\\\n",
       "\\end{tabular}\n"
      ],
      "text/markdown": [
       "\n",
       "A matrix: 2 × 1 of type dbl\n",
       "\n",
       "| 0.5044484 |\n",
       "| 0.5382877 |\n",
       "\n"
      ],
      "text/plain": [
       "     [,1]     \n",
       "[1,] 0.5044484\n",
       "[2,] 0.5382877"
      ]
     },
     "metadata": {},
     "output_type": "display_data"
    }
   ],
   "source": [
    "a1_result2_9 <- sqrtm(solve(R22_9))%*%eigenvector2_9[,1]\n",
    "a1_result2_9"
   ]
  },
  {
   "cell_type": "code",
   "execution_count": 91,
   "id": "a7090bf1",
   "metadata": {
    "ExecuteTime": {
     "end_time": "2022-05-22T10:23:55.863162Z",
     "start_time": "2022-05-22T10:23:52.095Z"
    },
    "hidden": true
   },
   "outputs": [
    {
     "data": {
      "text/html": [
       "<table class=\"dataframe\">\n",
       "<caption>A matrix: 2 × 1 of type dbl</caption>\n",
       "<tbody>\n",
       "\t<tr><th scope=row>y1</th><td>0.4354059</td></tr>\n",
       "\t<tr><th scope=row>y2</th><td>0.4112362</td></tr>\n",
       "</tbody>\n",
       "</table>\n"
      ],
      "text/latex": [
       "A matrix: 2 × 1 of type dbl\n",
       "\\begin{tabular}{r|l}\n",
       "\ty1 & 0.4354059\\\\\n",
       "\ty2 & 0.4112362\\\\\n",
       "\\end{tabular}\n"
      ],
      "text/markdown": [
       "\n",
       "A matrix: 2 × 1 of type dbl\n",
       "\n",
       "| y1 | 0.4354059 |\n",
       "| y2 | 0.4112362 |\n",
       "\n"
      ],
      "text/plain": [
       "   [,1]     \n",
       "y1 0.4354059\n",
       "y2 0.4112362"
      ]
     },
     "metadata": {},
     "output_type": "display_data"
    }
   ],
   "source": [
    "b1_result2_9 <- solve(R11_9)%*%R12_9%*%a1_result2_9\n",
    "b1_result2_9"
   ]
  },
  {
   "cell_type": "code",
   "execution_count": 92,
   "id": "19a2d0cc",
   "metadata": {
    "ExecuteTime": {
     "end_time": "2022-05-22T10:23:55.894160Z",
     "start_time": "2022-05-22T10:23:52.098Z"
    },
    "hidden": true
   },
   "outputs": [
    {
     "data": {
      "text/html": [
       "<table class=\"dataframe\">\n",
       "<caption>A matrix: 2 × 1 of type dbl</caption>\n",
       "<tbody>\n",
       "\t<tr><th scope=row>x1</th><td>-0.5044484</td></tr>\n",
       "\t<tr><th scope=row>x2</th><td>-0.5382877</td></tr>\n",
       "</tbody>\n",
       "</table>\n"
      ],
      "text/latex": [
       "A matrix: 2 × 1 of type dbl\n",
       "\\begin{tabular}{r|l}\n",
       "\tx1 & -0.5044484\\\\\n",
       "\tx2 & -0.5382877\\\\\n",
       "\\end{tabular}\n"
      ],
      "text/markdown": [
       "\n",
       "A matrix: 2 × 1 of type dbl\n",
       "\n",
       "| x1 | -0.5044484 |\n",
       "| x2 | -0.5382877 |\n",
       "\n"
      ],
      "text/plain": [
       "   [,1]      \n",
       "x1 -0.5044484\n",
       "x2 -0.5382877"
      ]
     },
     "metadata": {},
     "output_type": "display_data"
    }
   ],
   "source": [
    "scale_result2_9 <- 1/(sqrtm(t(b1_result2_9)%*%R11_9%*%b1_result2_9))\n",
    "newb1_result2_9 <- (scale_result2_9[1,1])*b1_result2_9\n",
    "newb1_result2_9"
   ]
  },
  {
   "cell_type": "code",
   "execution_count": 93,
   "id": "9bc20e02",
   "metadata": {
    "ExecuteTime": {
     "end_time": "2022-05-22T10:23:55.925165Z",
     "start_time": "2022-05-22T10:23:52.100Z"
    },
    "hidden": true
   },
   "outputs": [
    {
     "data": {
      "text/html": [
       "0.788507916294635"
      ],
      "text/latex": [
       "0.788507916294635"
      ],
      "text/markdown": [
       "0.788507916294635"
      ],
      "text/plain": [
       "[1] 0.7885079"
      ]
     },
     "metadata": {},
     "output_type": "display_data"
    }
   ],
   "source": [
    "# canonical correlation 1\n",
    "r1_star_result2_9 <- eigenvalue2_9[1]\n",
    "sqrt(r1_star_result2_9)"
   ]
  },
  {
   "cell_type": "code",
   "execution_count": 94,
   "id": "bb556028",
   "metadata": {
    "ExecuteTime": {
     "end_time": "2022-05-22T10:23:55.954163Z",
     "start_time": "2022-05-22T10:23:52.103Z"
    },
    "hidden": true
   },
   "outputs": [
    {
     "data": {
      "text/html": [
       "0.0537397044242784"
      ],
      "text/latex": [
       "0.0537397044242784"
      ],
      "text/markdown": [
       "0.0537397044242784"
      ],
      "text/plain": [
       "[1] 0.0537397"
      ]
     },
     "metadata": {},
     "output_type": "display_data"
    }
   ],
   "source": [
    "# canonical correlation 2\n",
    "r2_star_result2_9 <- eigenvalue2_9[2]\n",
    "sqrt(r2_star_result2_9)"
   ]
  },
  {
   "cell_type": "markdown",
   "id": "152a8a80",
   "metadata": {
    "heading_collapsed": true
   },
   "source": [
    "## (b) Find the standardized coefficients for the canonical variates. \n",
    " "
   ]
  },
  {
   "cell_type": "markdown",
   "id": "5b175e3c",
   "metadata": {
    "hidden": true
   },
   "source": [
    "Karena pada bagian (a) menggunakan matriks korelasi dengan asumsi masukan data merupakan data yang terstandardisasi, maka nilai koefisien yang terstandardisasinya tetap sama, yaitu"
   ]
  },
  {
   "cell_type": "code",
   "execution_count": 95,
   "id": "97236abc",
   "metadata": {
    "ExecuteTime": {
     "end_time": "2022-05-22T10:23:55.987775Z",
     "start_time": "2022-05-22T10:23:52.106Z"
    },
    "hidden": true,
    "scrolled": true
   },
   "outputs": [
    {
     "data": {
      "text/html": [
       "<table class=\"dataframe\">\n",
       "<caption>A matrix: 2 × 1 of type dbl</caption>\n",
       "<tbody>\n",
       "\t<tr><td>-0.5521896</td></tr>\n",
       "\t<tr><td>-0.5215372</td></tr>\n",
       "</tbody>\n",
       "</table>\n"
      ],
      "text/latex": [
       "A matrix: 2 × 1 of type dbl\n",
       "\\begin{tabular}{l}\n",
       "\t -0.5521896\\\\\n",
       "\t -0.5215372\\\\\n",
       "\\end{tabular}\n"
      ],
      "text/markdown": [
       "\n",
       "A matrix: 2 × 1 of type dbl\n",
       "\n",
       "| -0.5521896 |\n",
       "| -0.5215372 |\n",
       "\n"
      ],
      "text/plain": [
       "     [,1]      \n",
       "[1,] -0.5521896\n",
       "[2,] -0.5215372"
      ]
     },
     "metadata": {},
     "output_type": "display_data"
    },
    {
     "data": {
      "text/html": [
       "<table class=\"dataframe\">\n",
       "<caption>A matrix: 2 × 1 of type dbl</caption>\n",
       "<tbody>\n",
       "\t<tr><td>0.5044484</td></tr>\n",
       "\t<tr><td>0.5382877</td></tr>\n",
       "</tbody>\n",
       "</table>\n"
      ],
      "text/latex": [
       "A matrix: 2 × 1 of type dbl\n",
       "\\begin{tabular}{l}\n",
       "\t 0.5044484\\\\\n",
       "\t 0.5382877\\\\\n",
       "\\end{tabular}\n"
      ],
      "text/markdown": [
       "\n",
       "A matrix: 2 × 1 of type dbl\n",
       "\n",
       "| 0.5044484 |\n",
       "| 0.5382877 |\n",
       "\n"
      ],
      "text/plain": [
       "     [,1]     \n",
       "[1,] 0.5044484\n",
       "[2,] 0.5382877"
      ]
     },
     "metadata": {},
     "output_type": "display_data"
    }
   ],
   "source": [
    "a1_result1_9\n",
    "a1_result2_9"
   ]
  },
  {
   "cell_type": "code",
   "execution_count": 96,
   "id": "33703f2c",
   "metadata": {
    "ExecuteTime": {
     "end_time": "2022-05-22T10:23:56.021768Z",
     "start_time": "2022-05-22T10:23:52.109Z"
    },
    "hidden": true
   },
   "outputs": [
    {
     "data": {
      "text/html": [
       "<table class=\"dataframe\">\n",
       "<caption>A matrix: 2 × 1 of type dbl</caption>\n",
       "<tbody>\n",
       "\t<tr><th scope=row>x1</th><td>-0.5044484</td></tr>\n",
       "\t<tr><th scope=row>x2</th><td>-0.5382877</td></tr>\n",
       "</tbody>\n",
       "</table>\n"
      ],
      "text/latex": [
       "A matrix: 2 × 1 of type dbl\n",
       "\\begin{tabular}{r|l}\n",
       "\tx1 & -0.5044484\\\\\n",
       "\tx2 & -0.5382877\\\\\n",
       "\\end{tabular}\n"
      ],
      "text/markdown": [
       "\n",
       "A matrix: 2 × 1 of type dbl\n",
       "\n",
       "| x1 | -0.5044484 |\n",
       "| x2 | -0.5382877 |\n",
       "\n"
      ],
      "text/plain": [
       "   [,1]      \n",
       "x1 -0.5044484\n",
       "x2 -0.5382877"
      ]
     },
     "metadata": {},
     "output_type": "display_data"
    },
    {
     "data": {
      "text/html": [
       "<table class=\"dataframe\">\n",
       "<caption>A matrix: 2 × 1 of type dbl</caption>\n",
       "<tbody>\n",
       "\t<tr><th scope=row>x1</th><td>-0.5044484</td></tr>\n",
       "\t<tr><th scope=row>x2</th><td>-0.5382877</td></tr>\n",
       "</tbody>\n",
       "</table>\n"
      ],
      "text/latex": [
       "A matrix: 2 × 1 of type dbl\n",
       "\\begin{tabular}{r|l}\n",
       "\tx1 & -0.5044484\\\\\n",
       "\tx2 & -0.5382877\\\\\n",
       "\\end{tabular}\n"
      ],
      "text/markdown": [
       "\n",
       "A matrix: 2 × 1 of type dbl\n",
       "\n",
       "| x1 | -0.5044484 |\n",
       "| x2 | -0.5382877 |\n",
       "\n"
      ],
      "text/plain": [
       "   [,1]      \n",
       "x1 -0.5044484\n",
       "x2 -0.5382877"
      ]
     },
     "metadata": {},
     "output_type": "display_data"
    }
   ],
   "source": [
    "newb1_result1_9\n",
    "newb1_result2_9"
   ]
  },
  {
   "cell_type": "markdown",
   "id": "d0e170c0",
   "metadata": {},
   "source": [
    "## (c) Test the significance of each canonical correlation."
   ]
  },
  {
   "cell_type": "markdown",
   "id": "af3d800f",
   "metadata": {
    "heading_collapsed": true
   },
   "source": [
    "### Result 1"
   ]
  },
  {
   "cell_type": "code",
   "execution_count": 110,
   "id": "81c00bd9",
   "metadata": {
    "ExecuteTime": {
     "end_time": "2022-05-22T10:32:49.721801Z",
     "start_time": "2022-05-22T10:32:49.695Z"
    },
    "hidden": true
   },
   "outputs": [
    {
     "data": {
      "text/html": [
       "<style>\n",
       ".list-inline {list-style: none; margin:0; padding: 0}\n",
       ".list-inline>li {display: inline-block}\n",
       ".list-inline>li:not(:last-child)::after {content: \"\\00b7\"; padding: 0 .5ex}\n",
       "</style>\n",
       "<ol class=list-inline><li>0.788507916294635</li><li>0.0537397044242784</li></ol>\n"
      ],
      "text/latex": [
       "\\begin{enumerate*}\n",
       "\\item 0.788507916294635\n",
       "\\item 0.0537397044242784\n",
       "\\end{enumerate*}\n"
      ],
      "text/markdown": [
       "1. 0.788507916294635\n",
       "2. 0.0537397044242784\n",
       "\n",
       "\n"
      ],
      "text/plain": [
       "[1] 0.7885079 0.0537397"
      ]
     },
     "metadata": {},
     "output_type": "display_data"
    }
   ],
   "source": [
    "canon.corr1_9 <- sqrt(eigenvalue1_9)\n",
    "canon.corr1_9"
   ]
  },
  {
   "cell_type": "code",
   "execution_count": 112,
   "id": "61e3e61d",
   "metadata": {
    "ExecuteTime": {
     "end_time": "2022-05-22T10:33:00.146301Z",
     "start_time": "2022-05-22T10:33:00.110Z"
    },
    "hidden": true
   },
   "outputs": [
    {
     "name": "stdout",
     "output_type": "stream",
     "text": [
      "20.96418 > 9.487729 , maka: Tolak Ho"
     ]
    }
   ],
   "source": [
    "n = 25\n",
    "p = 2\n",
    "q = 2\n",
    "\n",
    "stat.hit <- -(n-1-0.5*(p+q+1))*log((1-canon.corr1_9[1]^2) * (1-canon.corr1_9[2]^2))\n",
    "\n",
    "stat.uji <- qchisq(0.95, p*q)\n",
    "\n",
    "if(stat.hit > stat.uji){\n",
    "  cat(stat.hit, \">\", stat.uji, \", maka: \")\n",
    "  cat(\"Tolak Ho\")\n",
    "}else{\n",
    "  cat(stat.hit, \"<\", stat.uji, \", maka: \")\n",
    "  cat(\"Gagal Tolak Ho\")\n",
    "}"
   ]
  },
  {
   "cell_type": "markdown",
   "id": "5c033951",
   "metadata": {
    "heading_collapsed": true
   },
   "source": [
    "### Result 2"
   ]
  },
  {
   "cell_type": "code",
   "execution_count": 114,
   "id": "c89a6a27",
   "metadata": {
    "ExecuteTime": {
     "end_time": "2022-05-22T10:33:17.834295Z",
     "start_time": "2022-05-22T10:33:17.811Z"
    },
    "hidden": true
   },
   "outputs": [
    {
     "data": {
      "text/html": [
       "<style>\n",
       ".list-inline {list-style: none; margin:0; padding: 0}\n",
       ".list-inline>li {display: inline-block}\n",
       ".list-inline>li:not(:last-child)::after {content: \"\\00b7\"; padding: 0 .5ex}\n",
       "</style>\n",
       "<ol class=list-inline><li>0.788507916294635</li><li>0.0537397044242797</li></ol>\n"
      ],
      "text/latex": [
       "\\begin{enumerate*}\n",
       "\\item 0.788507916294635\n",
       "\\item 0.0537397044242797\n",
       "\\end{enumerate*}\n"
      ],
      "text/markdown": [
       "1. 0.788507916294635\n",
       "2. 0.0537397044242797\n",
       "\n",
       "\n"
      ],
      "text/plain": [
       "[1] 0.7885079 0.0537397"
      ]
     },
     "metadata": {},
     "output_type": "display_data"
    }
   ],
   "source": [
    "canon.corr2_9 <- sqrt(eigenvalue2_9)\n",
    "canon.corr2_9"
   ]
  },
  {
   "cell_type": "code",
   "execution_count": 115,
   "id": "891bb047",
   "metadata": {
    "ExecuteTime": {
     "end_time": "2022-05-22T10:33:18.302895Z",
     "start_time": "2022-05-22T10:33:18.269Z"
    },
    "hidden": true
   },
   "outputs": [
    {
     "name": "stdout",
     "output_type": "stream",
     "text": [
      "20.96418 > 9.487729 , maka: Tolak Ho"
     ]
    }
   ],
   "source": [
    "n = 25\n",
    "p = 2\n",
    "q = 2\n",
    "\n",
    "stat.hit <- -(n-1-0.5*(p+q+1))*log((1-canon.corr2_9[1]^2) * (1-canon.corr2_9[2]^2))\n",
    "\n",
    "stat.uji <- qchisq(0.95, p*q)\n",
    "\n",
    "if(stat.hit > stat.uji){\n",
    "  cat(stat.hit, \">\", stat.uji, \", maka: \")\n",
    "  cat(\"Tolak Ho\")\n",
    "}else{\n",
    "  cat(stat.hit, \"<\", stat.uji, \", maka: \")\n",
    "  cat(\"Gagal Tolak Ho\")\n",
    "}"
   ]
  }
 ],
 "metadata": {
  "kernelspec": {
   "display_name": "R",
   "language": "R",
   "name": "ir"
  },
  "language_info": {
   "codemirror_mode": "r",
   "file_extension": ".r",
   "mimetype": "text/x-r-source",
   "name": "R",
   "pygments_lexer": "r",
   "version": "4.0.5"
  },
  "toc": {
   "base_numbering": 1,
   "nav_menu": {},
   "number_sections": true,
   "sideBar": true,
   "skip_h1_title": false,
   "title_cell": "Table of Contents",
   "title_sidebar": "Contents",
   "toc_cell": false,
   "toc_position": {},
   "toc_section_display": true,
   "toc_window_display": false
  }
 },
 "nbformat": 4,
 "nbformat_minor": 5
}
