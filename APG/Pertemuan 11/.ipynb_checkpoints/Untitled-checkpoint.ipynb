{
 "cells": [
  {
   "cell_type": "code",
   "execution_count": 95,
   "id": "b00a4292",
   "metadata": {
    "ExecuteTime": {
     "end_time": "2022-05-19T05:30:18.942465Z",
     "start_time": "2022-05-19T05:30:18.403Z"
    }
   },
   "outputs": [],
   "source": [
    "library(expm)\n",
    "library(openxlsx)"
   ]
  },
  {
   "cell_type": "markdown",
   "id": "49ac906e",
   "metadata": {},
   "source": [
    "# 10.10"
   ]
  },
  {
   "cell_type": "markdown",
   "id": "d5f7ee01",
   "metadata": {},
   "source": [
    "In a study of poverty, crime, and deterrence, Parker and Smith [10] report certain summary crime statistics in various states for the years 1970 and 1973. A \n",
    "portion of their sample correlation matrix is "
   ]
  },
  {
   "cell_type": "markdown",
   "id": "35d5d77b",
   "metadata": {},
   "source": [
    "$X_{1}^{(1)}$ == 1973 nonprimary homicides \\\n",
    "$X_{2}^{(1)}$ == 1973 primary homicides (homicides involving family or acquaintances) \\\n",
    "$X_{1}^{(2)}$ == 1970 severity of punishment (median months served) \\\n",
    "$X_{2}^{(2)}$ == 1970 certainty of punishment (number of admissions to prison \n",
    "divided by number of homicides)"
   ]
  },
  {
   "cell_type": "raw",
   "id": "695dbf9e",
   "metadata": {
    "ExecuteTime": {
     "end_time": "2022-05-19T04:20:54.478589Z",
     "start_time": "2022-05-19T04:20:54.452Z"
    }
   },
   "source": [
    "R11 <- matrix(c(1, .615,\n",
    "                .615, 1),2,2)\n",
    "R12 <- matrix(c(-.111, -.195,\n",
    "                -.266, -.085),2,2)\n",
    "R21 <- matrix(c(-.111, -.266,\n",
    "                -.195, -.085),2,2)\n",
    "R22 <- matrix(c(1, -.269,\n",
    "                -.269, 1),2,2)"
   ]
  },
  {
   "cell_type": "code",
   "execution_count": 24,
   "id": "7a222d6e",
   "metadata": {
    "ExecuteTime": {
     "end_time": "2022-05-19T04:37:01.522512Z",
     "start_time": "2022-05-19T04:37:01.496Z"
    }
   },
   "outputs": [],
   "source": [
    "R11 <- matrix(c(1.0, .4,\n",
    "                .4, 1.0),2,2)\n",
    "R12 <- matrix(c(.5, .3,\n",
    "                .6, .4),2,2)\n",
    "R21 <- matrix(c(.5, .6,\n",
    "                .3, .4),2,2)\n",
    "R22 <- matrix(c(1.0, .2,\n",
    "                .2, 1.0),2,2)"
   ]
  },
  {
   "cell_type": "code",
   "execution_count": 27,
   "id": "c3dbae80",
   "metadata": {
    "ExecuteTime": {
     "end_time": "2022-05-19T04:37:13.204983Z",
     "start_time": "2022-05-19T04:37:13.164Z"
    }
   },
   "outputs": [
    {
     "data": {
      "text/html": [
       "<table class=\"dataframe\">\n",
       "<caption>A matrix: 2 × 2 of type dbl</caption>\n",
       "<tbody>\n",
       "\t<tr><td> 1.0680744</td><td>-0.2229201</td></tr>\n",
       "\t<tr><td>-0.2229201</td><td> 1.0680744</td></tr>\n",
       "</tbody>\n",
       "</table>\n"
      ],
      "text/latex": [
       "A matrix: 2 × 2 of type dbl\n",
       "\\begin{tabular}{ll}\n",
       "\t  1.0680744 & -0.2229201\\\\\n",
       "\t -0.2229201 &  1.0680744\\\\\n",
       "\\end{tabular}\n"
      ],
      "text/markdown": [
       "\n",
       "A matrix: 2 × 2 of type dbl\n",
       "\n",
       "|  1.0680744 | -0.2229201 |\n",
       "| -0.2229201 |  1.0680744 |\n",
       "\n"
      ],
      "text/plain": [
       "     [,1]       [,2]      \n",
       "[1,]  1.0680744 -0.2229201\n",
       "[2,] -0.2229201  1.0680744"
      ]
     },
     "metadata": {},
     "output_type": "display_data"
    }
   ],
   "source": [
    "R11s <- sqrtm(solve(R11))\n",
    "R11s"
   ]
  },
  {
   "cell_type": "code",
   "execution_count": 28,
   "id": "37e1f53c",
   "metadata": {
    "ExecuteTime": {
     "end_time": "2022-05-19T04:37:13.651232Z",
     "start_time": "2022-05-19T04:37:13.618Z"
    }
   },
   "outputs": [
    {
     "data": {
      "text/html": [
       "<table class=\"dataframe\">\n",
       "<caption>A matrix: 2 × 2 of type dbl</caption>\n",
       "<tbody>\n",
       "\t<tr><td> 1.0416667</td><td>-0.2083333</td></tr>\n",
       "\t<tr><td>-0.2083333</td><td> 1.0416667</td></tr>\n",
       "</tbody>\n",
       "</table>\n"
      ],
      "text/latex": [
       "A matrix: 2 × 2 of type dbl\n",
       "\\begin{tabular}{ll}\n",
       "\t  1.0416667 & -0.2083333\\\\\n",
       "\t -0.2083333 &  1.0416667\\\\\n",
       "\\end{tabular}\n"
      ],
      "text/markdown": [
       "\n",
       "A matrix: 2 × 2 of type dbl\n",
       "\n",
       "|  1.0416667 | -0.2083333 |\n",
       "| -0.2083333 |  1.0416667 |\n",
       "\n"
      ],
      "text/plain": [
       "     [,1]       [,2]      \n",
       "[1,]  1.0416667 -0.2083333\n",
       "[2,] -0.2083333  1.0416667"
      ]
     },
     "metadata": {},
     "output_type": "display_data"
    }
   ],
   "source": [
    "R22s <- solve(R22)\n",
    "R22s"
   ]
  },
  {
   "cell_type": "code",
   "execution_count": 29,
   "id": "27a04215",
   "metadata": {
    "ExecuteTime": {
     "end_time": "2022-05-19T04:37:14.245193Z",
     "start_time": "2022-05-19T04:37:14.213Z"
    }
   },
   "outputs": [
    {
     "data": {
      "text/html": [
       "<table class=\"dataframe\">\n",
       "<caption>A matrix: 2 × 2 of type dbl</caption>\n",
       "<tbody>\n",
       "\t<tr><td>0.4369769</td><td>0.2177579</td></tr>\n",
       "\t<tr><td>0.2177579</td><td>0.1096501</td></tr>\n",
       "</tbody>\n",
       "</table>\n"
      ],
      "text/latex": [
       "A matrix: 2 × 2 of type dbl\n",
       "\\begin{tabular}{ll}\n",
       "\t 0.4369769 & 0.2177579\\\\\n",
       "\t 0.2177579 & 0.1096501\\\\\n",
       "\\end{tabular}\n"
      ],
      "text/markdown": [
       "\n",
       "A matrix: 2 × 2 of type dbl\n",
       "\n",
       "| 0.4369769 | 0.2177579 |\n",
       "| 0.2177579 | 0.1096501 |\n",
       "\n"
      ],
      "text/plain": [
       "     [,1]      [,2]     \n",
       "[1,] 0.4369769 0.2177579\n",
       "[2,] 0.2177579 0.1096501"
      ]
     },
     "metadata": {},
     "output_type": "display_data"
    }
   ],
   "source": [
    "result <- R11s%*%R12%*%R22s%*%R21%*%R11s\n",
    "result"
   ]
  },
  {
   "cell_type": "code",
   "execution_count": 30,
   "id": "9c0e39c3",
   "metadata": {
    "ExecuteTime": {
     "end_time": "2022-05-19T04:37:22.145664Z",
     "start_time": "2022-05-19T04:37:22.121Z"
    }
   },
   "outputs": [],
   "source": [
    "eigen <- eigen(result)"
   ]
  },
  {
   "cell_type": "code",
   "execution_count": 31,
   "id": "9e9654d8",
   "metadata": {
    "ExecuteTime": {
     "end_time": "2022-05-19T04:37:22.639328Z",
     "start_time": "2022-05-19T04:37:22.604Z"
    }
   },
   "outputs": [
    {
     "data": {
      "text/html": [
       "<style>\n",
       ".list-inline {list-style: none; margin:0; padding: 0}\n",
       ".list-inline>li {display: inline-block}\n",
       ".list-inline>li:not(:last-child)::after {content: \"\\00b7\"; padding: 0 .5ex}\n",
       "</style>\n",
       "<ol class=list-inline><li>0.545718031669404</li><li>0.000908952457580187</li></ol>\n"
      ],
      "text/latex": [
       "\\begin{enumerate*}\n",
       "\\item 0.545718031669404\n",
       "\\item 0.000908952457580187\n",
       "\\end{enumerate*}\n"
      ],
      "text/markdown": [
       "1. 0.545718031669404\n",
       "2. 0.000908952457580187\n",
       "\n",
       "\n"
      ],
      "text/plain": [
       "[1] 0.5457180317 0.0009089525"
      ]
     },
     "metadata": {},
     "output_type": "display_data"
    }
   ],
   "source": [
    "eigenvalue <- eigen$value\n",
    "eigenvalue"
   ]
  },
  {
   "cell_type": "code",
   "execution_count": 32,
   "id": "7609f47c",
   "metadata": {
    "ExecuteTime": {
     "end_time": "2022-05-19T04:37:23.193876Z",
     "start_time": "2022-05-19T04:37:23.157Z"
    }
   },
   "outputs": [
    {
     "data": {
      "text/html": [
       "<table class=\"dataframe\">\n",
       "<caption>A matrix: 2 × 2 of type dbl</caption>\n",
       "<tbody>\n",
       "\t<tr><td>-0.8946536</td><td> 0.4467605</td></tr>\n",
       "\t<tr><td>-0.4467605</td><td>-0.8946536</td></tr>\n",
       "</tbody>\n",
       "</table>\n"
      ],
      "text/latex": [
       "A matrix: 2 × 2 of type dbl\n",
       "\\begin{tabular}{ll}\n",
       "\t -0.8946536 &  0.4467605\\\\\n",
       "\t -0.4467605 & -0.8946536\\\\\n",
       "\\end{tabular}\n"
      ],
      "text/markdown": [
       "\n",
       "A matrix: 2 × 2 of type dbl\n",
       "\n",
       "| -0.8946536 |  0.4467605 |\n",
       "| -0.4467605 | -0.8946536 |\n",
       "\n"
      ],
      "text/plain": [
       "     [,1]       [,2]      \n",
       "[1,] -0.8946536  0.4467605\n",
       "[2,] -0.4467605 -0.8946536"
      ]
     },
     "metadata": {},
     "output_type": "display_data"
    }
   ],
   "source": [
    "eigenvector <- eigen$vectors\n",
    "eigenvector"
   ]
  },
  {
   "cell_type": "code",
   "execution_count": 33,
   "id": "57806244",
   "metadata": {
    "ExecuteTime": {
     "end_time": "2022-05-19T04:37:24.691509Z",
     "start_time": "2022-05-19T04:37:24.660Z"
    }
   },
   "outputs": [
    {
     "data": {
      "text/html": [
       "<table class=\"dataframe\">\n",
       "<caption>A matrix: 2 × 1 of type dbl</caption>\n",
       "<tbody>\n",
       "\t<tr><td>-0.8559647</td></tr>\n",
       "\t<tr><td>-0.2777371</td></tr>\n",
       "</tbody>\n",
       "</table>\n"
      ],
      "text/latex": [
       "A matrix: 2 × 1 of type dbl\n",
       "\\begin{tabular}{l}\n",
       "\t -0.8559647\\\\\n",
       "\t -0.2777371\\\\\n",
       "\\end{tabular}\n"
      ],
      "text/markdown": [
       "\n",
       "A matrix: 2 × 1 of type dbl\n",
       "\n",
       "| -0.8559647 |\n",
       "| -0.2777371 |\n",
       "\n"
      ],
      "text/plain": [
       "     [,1]      \n",
       "[1,] -0.8559647\n",
       "[2,] -0.2777371"
      ]
     },
     "metadata": {},
     "output_type": "display_data"
    }
   ],
   "source": [
    "a1 <- R11solved%*%eigenvector[,1]\n",
    "a1"
   ]
  },
  {
   "cell_type": "code",
   "execution_count": 34,
   "id": "c53f9818",
   "metadata": {
    "ExecuteTime": {
     "end_time": "2022-05-19T04:38:14.167934Z",
     "start_time": "2022-05-19T04:38:14.136Z"
    }
   },
   "outputs": [
    {
     "data": {
      "text/html": [
       "<table class=\"dataframe\">\n",
       "<caption>A matrix: 2 × 1 of type dbl</caption>\n",
       "<tbody>\n",
       "\t<tr><td>-0.4024674</td></tr>\n",
       "\t<tr><td>-0.5441802</td></tr>\n",
       "</tbody>\n",
       "</table>\n"
      ],
      "text/latex": [
       "A matrix: 2 × 1 of type dbl\n",
       "\\begin{tabular}{l}\n",
       "\t -0.4024674\\\\\n",
       "\t -0.5441802\\\\\n",
       "\\end{tabular}\n"
      ],
      "text/markdown": [
       "\n",
       "A matrix: 2 × 1 of type dbl\n",
       "\n",
       "| -0.4024674 |\n",
       "| -0.5441802 |\n",
       "\n"
      ],
      "text/plain": [
       "     [,1]      \n",
       "[1,] -0.4024674\n",
       "[2,] -0.5441802"
      ]
     },
     "metadata": {},
     "output_type": "display_data"
    }
   ],
   "source": [
    "b1 <- R22s%*%R21%*%a1\n",
    "b1"
   ]
  },
  {
   "cell_type": "code",
   "execution_count": 42,
   "id": "fa2174e3",
   "metadata": {
    "ExecuteTime": {
     "end_time": "2022-05-19T04:43:57.968019Z",
     "start_time": "2022-05-19T04:43:57.935Z"
    }
   },
   "outputs": [
    {
     "data": {
      "text/html": [
       "<table class=\"dataframe\">\n",
       "<caption>A matrix: 2 × 1 of type dbl</caption>\n",
       "<tbody>\n",
       "\t<tr><td>-0.5448119</td></tr>\n",
       "\t<tr><td>-0.7366455</td></tr>\n",
       "</tbody>\n",
       "</table>\n"
      ],
      "text/latex": [
       "A matrix: 2 × 1 of type dbl\n",
       "\\begin{tabular}{l}\n",
       "\t -0.5448119\\\\\n",
       "\t -0.7366455\\\\\n",
       "\\end{tabular}\n"
      ],
      "text/markdown": [
       "\n",
       "A matrix: 2 × 1 of type dbl\n",
       "\n",
       "| -0.5448119 |\n",
       "| -0.7366455 |\n",
       "\n"
      ],
      "text/plain": [
       "     [,1]      \n",
       "[1,] -0.5448119\n",
       "[2,] -0.7366455"
      ]
     },
     "metadata": {},
     "output_type": "display_data"
    }
   ],
   "source": [
    "scale <- 1/(sqrtm(t(b1)%*%R22%*%b1))\n",
    "newb1 <- (scale[1,1])*b1\n",
    "newb1"
   ]
  },
  {
   "cell_type": "code",
   "execution_count": 48,
   "id": "c6cb6f5f",
   "metadata": {
    "ExecuteTime": {
     "end_time": "2022-05-19T04:47:58.039777Z",
     "start_time": "2022-05-19T04:47:58.001Z"
    }
   },
   "outputs": [
    {
     "data": {
      "text/html": [
       "0.738727305349819"
      ],
      "text/latex": [
       "0.738727305349819"
      ],
      "text/markdown": [
       "0.738727305349819"
      ],
      "text/plain": [
       "[1] 0.7387273"
      ]
     },
     "metadata": {},
     "output_type": "display_data"
    }
   ],
   "source": [
    "# canonical correlation 1\n",
    "r1_star <- eigenvalue[1]\n",
    "sqrt(r1_star)"
   ]
  },
  {
   "cell_type": "code",
   "execution_count": 49,
   "id": "21200e3e",
   "metadata": {
    "ExecuteTime": {
     "end_time": "2022-05-19T04:47:58.462306Z",
     "start_time": "2022-05-19T04:47:58.432Z"
    }
   },
   "outputs": [
    {
     "data": {
      "text/html": [
       "0.0301488384117894"
      ],
      "text/latex": [
       "0.0301488384117894"
      ],
      "text/markdown": [
       "0.0301488384117894"
      ],
      "text/plain": [
       "[1] 0.03014884"
      ]
     },
     "metadata": {},
     "output_type": "display_data"
    }
   ],
   "source": [
    "# canonical correlation 2\n",
    "r2_star <- eigenvalue[2]\n",
    "sqrt(r2_star)"
   ]
  },
  {
   "cell_type": "markdown",
   "id": "07b7f8d0",
   "metadata": {
    "heading_collapsed": true
   },
   "source": [
    "## (a) Find the sample canonical correlations"
   ]
  },
  {
   "cell_type": "code",
   "execution_count": null,
   "id": "98ec258b",
   "metadata": {
    "hidden": true
   },
   "outputs": [],
   "source": []
  },
  {
   "cell_type": "markdown",
   "id": "c7870367",
   "metadata": {},
   "source": [
    "## (b) Determine the first canonical pair U1, V1 and interpret these quantities. "
   ]
  },
  {
   "cell_type": "markdown",
   "id": "7a9a4a4a",
   "metadata": {},
   "source": [
    "# 10.11"
   ]
  },
  {
   "cell_type": "markdown",
   "id": "60e9cdcd",
   "metadata": {},
   "source": [
    "Example 8.5 presents the correlation matrix obtained from n = 100 successive weekly rates of return for five stocks. Perform a canonical correlation analysis with $X^{(1)}$ = [$X_{1}^{(1)}$, $X_{2}^{(1)}$, $X_{3}^{(1)}$]', the rates of return for the chemical companies, and $X^{(2)}$ = [$X_{1}^{(2)}$, $X_{2}^{(2)}$]'\n",
    ", the rates of return for the oil companies."
   ]
  },
  {
   "cell_type": "code",
   "execution_count": 81,
   "id": "60621c4e",
   "metadata": {
    "ExecuteTime": {
     "end_time": "2022-05-19T05:17:10.510576Z",
     "start_time": "2022-05-19T05:17:10.472Z"
    }
   },
   "outputs": [
    {
     "data": {
      "text/html": [
       "<table class=\"dataframe\">\n",
       "<caption>A matrix: 1 × 5 of type dbl</caption>\n",
       "<tbody>\n",
       "\t<tr><td>0.0054</td><td>0.0048</td><td>0.0057</td><td>0.0063</td><td>0.0037</td></tr>\n",
       "</tbody>\n",
       "</table>\n"
      ],
      "text/latex": [
       "A matrix: 1 × 5 of type dbl\n",
       "\\begin{tabular}{lllll}\n",
       "\t 0.0054 & 0.0048 & 0.0057 & 0.0063 & 0.0037\\\\\n",
       "\\end{tabular}\n"
      ],
      "text/markdown": [
       "\n",
       "A matrix: 1 × 5 of type dbl\n",
       "\n",
       "| 0.0054 | 0.0048 | 0.0057 | 0.0063 | 0.0037 |\n",
       "\n"
      ],
      "text/plain": [
       "     [,1]   [,2]   [,3]   [,4]   [,5]  \n",
       "[1,] 0.0054 0.0048 0.0057 0.0063 0.0037"
      ]
     },
     "metadata": {},
     "output_type": "display_data"
    }
   ],
   "source": [
    "xbar <- matrix(c( .0054, .0048, .0057, .0063, .0037))\n",
    "t(xbar)"
   ]
  },
  {
   "cell_type": "code",
   "execution_count": 82,
   "id": "c0f5cffc",
   "metadata": {
    "ExecuteTime": {
     "end_time": "2022-05-19T05:17:11.116342Z",
     "start_time": "2022-05-19T05:17:11.082Z"
    }
   },
   "outputs": [],
   "source": [
    "R11 <- matrix(c(1, .577, .509,\n",
    "                .577, 1, .599,\n",
    "                .509, .599, 1),3,3)\n",
    "R12 <- matrix(c(.387, .462,\n",
    "                .389, .322,\n",
    "                .436, .426),3,2)\n",
    "R21 <- matrix(c(.387, .389, .436,\n",
    "                .462, .322, .426),2,3)\n",
    "R22 <- matrix(c(1, .523,\n",
    "                .523, 1),2,2)"
   ]
  },
  {
   "cell_type": "code",
   "execution_count": 83,
   "id": "5fb1027b",
   "metadata": {
    "ExecuteTime": {
     "end_time": "2022-05-19T05:17:11.534151Z",
     "start_time": "2022-05-19T05:17:11.498Z"
    }
   },
   "outputs": [
    {
     "data": {
      "text/html": [
       "<table class=\"dataframe\">\n",
       "<caption>A matrix: 3 × 3 of type dbl</caption>\n",
       "<tbody>\n",
       "\t<tr><td> 1.2110505</td><td>-0.2989845</td><td>-0.2069603</td></tr>\n",
       "\t<tr><td>-0.2989845</td><td> 1.2849181</td><td>-0.3272904</td></tr>\n",
       "\t<tr><td>-0.2069603</td><td>-0.3272904</td><td> 1.2302152</td></tr>\n",
       "</tbody>\n",
       "</table>\n"
      ],
      "text/latex": [
       "A matrix: 3 × 3 of type dbl\n",
       "\\begin{tabular}{lll}\n",
       "\t  1.2110505 & -0.2989845 & -0.2069603\\\\\n",
       "\t -0.2989845 &  1.2849181 & -0.3272904\\\\\n",
       "\t -0.2069603 & -0.3272904 &  1.2302152\\\\\n",
       "\\end{tabular}\n"
      ],
      "text/markdown": [
       "\n",
       "A matrix: 3 × 3 of type dbl\n",
       "\n",
       "|  1.2110505 | -0.2989845 | -0.2069603 |\n",
       "| -0.2989845 |  1.2849181 | -0.3272904 |\n",
       "| -0.2069603 | -0.3272904 |  1.2302152 |\n",
       "\n"
      ],
      "text/plain": [
       "     [,1]       [,2]       [,3]      \n",
       "[1,]  1.2110505 -0.2989845 -0.2069603\n",
       "[2,] -0.2989845  1.2849181 -0.3272904\n",
       "[3,] -0.2069603 -0.3272904  1.2302152"
      ]
     },
     "metadata": {},
     "output_type": "display_data"
    }
   ],
   "source": [
    "R11s <- sqrtm(solve(R11))\n",
    "R11s"
   ]
  },
  {
   "cell_type": "code",
   "execution_count": 84,
   "id": "b5ef79c4",
   "metadata": {
    "ExecuteTime": {
     "end_time": "2022-05-19T05:17:11.896598Z",
     "start_time": "2022-05-19T05:17:11.862Z"
    }
   },
   "outputs": [
    {
     "data": {
      "text/html": [
       "<table class=\"dataframe\">\n",
       "<caption>A matrix: 2 × 2 of type dbl</caption>\n",
       "<tbody>\n",
       "\t<tr><td> 1.3765174</td><td>-0.7199186</td></tr>\n",
       "\t<tr><td>-0.7199186</td><td> 1.3765174</td></tr>\n",
       "</tbody>\n",
       "</table>\n"
      ],
      "text/latex": [
       "A matrix: 2 × 2 of type dbl\n",
       "\\begin{tabular}{ll}\n",
       "\t  1.3765174 & -0.7199186\\\\\n",
       "\t -0.7199186 &  1.3765174\\\\\n",
       "\\end{tabular}\n"
      ],
      "text/markdown": [
       "\n",
       "A matrix: 2 × 2 of type dbl\n",
       "\n",
       "|  1.3765174 | -0.7199186 |\n",
       "| -0.7199186 |  1.3765174 |\n",
       "\n"
      ],
      "text/plain": [
       "     [,1]       [,2]      \n",
       "[1,]  1.3765174 -0.7199186\n",
       "[2,] -0.7199186  1.3765174"
      ]
     },
     "metadata": {},
     "output_type": "display_data"
    }
   ],
   "source": [
    "R22s <- solve(R22)\n",
    "R22s"
   ]
  },
  {
   "cell_type": "code",
   "execution_count": 85,
   "id": "14cc2f06",
   "metadata": {
    "ExecuteTime": {
     "end_time": "2022-05-19T05:17:12.203174Z",
     "start_time": "2022-05-19T05:17:12.175Z"
    }
   },
   "outputs": [
    {
     "data": {
      "text/html": [
       "<table class=\"dataframe\">\n",
       "<caption>A matrix: 3 × 3 of type dbl</caption>\n",
       "<tbody>\n",
       "\t<tr><td>0.07367962</td><td>0.09378181</td><td>0.05463157</td></tr>\n",
       "\t<tr><td>0.11521089</td><td>0.15009509</td><td>0.09996503</td></tr>\n",
       "\t<tr><td>0.09338917</td><td>0.12482467</td><td>0.09433852</td></tr>\n",
       "</tbody>\n",
       "</table>\n"
      ],
      "text/latex": [
       "A matrix: 3 × 3 of type dbl\n",
       "\\begin{tabular}{lll}\n",
       "\t 0.07367962 & 0.09378181 & 0.05463157\\\\\n",
       "\t 0.11521089 & 0.15009509 & 0.09996503\\\\\n",
       "\t 0.09338917 & 0.12482467 & 0.09433852\\\\\n",
       "\\end{tabular}\n"
      ],
      "text/markdown": [
       "\n",
       "A matrix: 3 × 3 of type dbl\n",
       "\n",
       "| 0.07367962 | 0.09378181 | 0.05463157 |\n",
       "| 0.11521089 | 0.15009509 | 0.09996503 |\n",
       "| 0.09338917 | 0.12482467 | 0.09433852 |\n",
       "\n"
      ],
      "text/plain": [
       "     [,1]       [,2]       [,3]      \n",
       "[1,] 0.07367962 0.09378181 0.05463157\n",
       "[2,] 0.11521089 0.15009509 0.09996503\n",
       "[3,] 0.09338917 0.12482467 0.09433852"
      ]
     },
     "metadata": {},
     "output_type": "display_data"
    }
   ],
   "source": [
    "result <- R11s%*%R12%*%R22s%*%R21%*%R11s\n",
    "result"
   ]
  },
  {
   "cell_type": "code",
   "execution_count": 86,
   "id": "acdb907a",
   "metadata": {
    "ExecuteTime": {
     "end_time": "2022-05-19T05:17:12.499346Z",
     "start_time": "2022-05-19T05:17:12.476Z"
    }
   },
   "outputs": [],
   "source": [
    "eigen <- eigen(result)"
   ]
  },
  {
   "cell_type": "code",
   "execution_count": 87,
   "id": "f9f9323d",
   "metadata": {
    "ExecuteTime": {
     "end_time": "2022-05-19T05:17:12.975136Z",
     "start_time": "2022-05-19T05:17:12.943Z"
    }
   },
   "outputs": [
    {
     "data": {
      "text/html": [
       "<style>\n",
       ".list-inline {list-style: none; margin:0; padding: 0}\n",
       ".list-inline>li {display: inline-block}\n",
       ".list-inline>li:not(:last-child)::after {content: \"\\00b7\"; padding: 0 .5ex}\n",
       "</style>\n",
       "<ol class=list-inline><li>0.305734041617251</li><li>0.0123791836078739</li><li>1.9386029951704e-17</li></ol>\n"
      ],
      "text/latex": [
       "\\begin{enumerate*}\n",
       "\\item 0.305734041617251\n",
       "\\item 0.0123791836078739\n",
       "\\item 1.9386029951704e-17\n",
       "\\end{enumerate*}\n"
      ],
      "text/markdown": [
       "1. 0.305734041617251\n",
       "2. 0.0123791836078739\n",
       "3. 1.9386029951704e-17\n",
       "\n",
       "\n"
      ],
      "text/plain": [
       "[1] 3.057340e-01 1.237918e-02 1.938603e-17"
      ]
     },
     "metadata": {},
     "output_type": "display_data"
    }
   ],
   "source": [
    "eigenvalue <- eigen$value\n",
    "eigenvalue"
   ]
  },
  {
   "cell_type": "code",
   "execution_count": 88,
   "id": "e47ed567",
   "metadata": {
    "ExecuteTime": {
     "end_time": "2022-05-19T05:17:13.326421Z",
     "start_time": "2022-05-19T05:17:13.291Z"
    }
   },
   "outputs": [
    {
     "data": {
      "text/html": [
       "<table class=\"dataframe\">\n",
       "<caption>A matrix: 3 × 3 of type dbl</caption>\n",
       "<tbody>\n",
       "\t<tr><td>-0.4179066</td><td>-0.61582732</td><td>-0.7297048</td></tr>\n",
       "\t<tr><td>-0.6893887</td><td>-0.05530423</td><td> 0.6652791</td></tr>\n",
       "\t<tr><td>-0.5916902</td><td> 0.78593776</td><td>-0.1579070</td></tr>\n",
       "</tbody>\n",
       "</table>\n"
      ],
      "text/latex": [
       "A matrix: 3 × 3 of type dbl\n",
       "\\begin{tabular}{lll}\n",
       "\t -0.4179066 & -0.61582732 & -0.7297048\\\\\n",
       "\t -0.6893887 & -0.05530423 &  0.6652791\\\\\n",
       "\t -0.5916902 &  0.78593776 & -0.1579070\\\\\n",
       "\\end{tabular}\n"
      ],
      "text/markdown": [
       "\n",
       "A matrix: 3 × 3 of type dbl\n",
       "\n",
       "| -0.4179066 | -0.61582732 | -0.7297048 |\n",
       "| -0.6893887 | -0.05530423 |  0.6652791 |\n",
       "| -0.5916902 |  0.78593776 | -0.1579070 |\n",
       "\n"
      ],
      "text/plain": [
       "     [,1]       [,2]        [,3]      \n",
       "[1,] -0.4179066 -0.61582732 -0.7297048\n",
       "[2,] -0.6893887 -0.05530423  0.6652791\n",
       "[3,] -0.5916902  0.78593776 -0.1579070"
      ]
     },
     "metadata": {},
     "output_type": "display_data"
    }
   ],
   "source": [
    "eigenvector <- eigen$vectors\n",
    "eigenvector"
   ]
  },
  {
   "cell_type": "code",
   "execution_count": 90,
   "id": "91bfb23b",
   "metadata": {
    "ExecuteTime": {
     "end_time": "2022-05-19T05:17:31.140886Z",
     "start_time": "2022-05-19T05:17:31.101Z"
    }
   },
   "outputs": [
    {
     "data": {
      "text/html": [
       "<table class=\"dataframe\">\n",
       "<caption>A matrix: 3 × 1 of type dbl</caption>\n",
       "<tbody>\n",
       "\t<tr><td>-0.1775331</td></tr>\n",
       "\t<tr><td>-0.5672058</td></tr>\n",
       "\t<tr><td>-0.4157860</td></tr>\n",
       "</tbody>\n",
       "</table>\n"
      ],
      "text/latex": [
       "A matrix: 3 × 1 of type dbl\n",
       "\\begin{tabular}{l}\n",
       "\t -0.1775331\\\\\n",
       "\t -0.5672058\\\\\n",
       "\t -0.4157860\\\\\n",
       "\\end{tabular}\n"
      ],
      "text/markdown": [
       "\n",
       "A matrix: 3 × 1 of type dbl\n",
       "\n",
       "| -0.1775331 |\n",
       "| -0.5672058 |\n",
       "| -0.4157860 |\n",
       "\n"
      ],
      "text/plain": [
       "     [,1]      \n",
       "[1,] -0.1775331\n",
       "[2,] -0.5672058\n",
       "[3,] -0.4157860"
      ]
     },
     "metadata": {},
     "output_type": "display_data"
    }
   ],
   "source": [
    "a1 <- R11s%*%eigenvector[,1]\n",
    "a1"
   ]
  },
  {
   "cell_type": "code",
   "execution_count": 91,
   "id": "55718dad",
   "metadata": {
    "ExecuteTime": {
     "end_time": "2022-05-19T05:17:48.268853Z",
     "start_time": "2022-05-19T05:17:48.235Z"
    }
   },
   "outputs": [
    {
     "data": {
      "text/html": [
       "<table class=\"dataframe\">\n",
       "<caption>A matrix: 2 × 1 of type dbl</caption>\n",
       "<tbody>\n",
       "\t<tr><td>-0.2533943</td></tr>\n",
       "\t<tr><td>-0.3757091</td></tr>\n",
       "</tbody>\n",
       "</table>\n"
      ],
      "text/latex": [
       "A matrix: 2 × 1 of type dbl\n",
       "\\begin{tabular}{l}\n",
       "\t -0.2533943\\\\\n",
       "\t -0.3757091\\\\\n",
       "\\end{tabular}\n"
      ],
      "text/markdown": [
       "\n",
       "A matrix: 2 × 1 of type dbl\n",
       "\n",
       "| -0.2533943 |\n",
       "| -0.3757091 |\n",
       "\n"
      ],
      "text/plain": [
       "     [,1]      \n",
       "[1,] -0.2533943\n",
       "[2,] -0.3757091"
      ]
     },
     "metadata": {},
     "output_type": "display_data"
    }
   ],
   "source": [
    "b1 <- R22s%*%R21%*%a1\n",
    "b1"
   ]
  },
  {
   "cell_type": "code",
   "execution_count": 92,
   "id": "4f89e5f4",
   "metadata": {
    "ExecuteTime": {
     "end_time": "2022-05-19T05:17:52.647876Z",
     "start_time": "2022-05-19T05:17:52.606Z"
    }
   },
   "outputs": [
    {
     "data": {
      "text/html": [
       "<table class=\"dataframe\">\n",
       "<caption>A matrix: 2 × 1 of type dbl</caption>\n",
       "<tbody>\n",
       "\t<tr><td>-0.4588641</td></tr>\n",
       "\t<tr><td>-0.6803602</td></tr>\n",
       "</tbody>\n",
       "</table>\n"
      ],
      "text/latex": [
       "A matrix: 2 × 1 of type dbl\n",
       "\\begin{tabular}{l}\n",
       "\t -0.4588641\\\\\n",
       "\t -0.6803602\\\\\n",
       "\\end{tabular}\n"
      ],
      "text/markdown": [
       "\n",
       "A matrix: 2 × 1 of type dbl\n",
       "\n",
       "| -0.4588641 |\n",
       "| -0.6803602 |\n",
       "\n"
      ],
      "text/plain": [
       "     [,1]      \n",
       "[1,] -0.4588641\n",
       "[2,] -0.6803602"
      ]
     },
     "metadata": {},
     "output_type": "display_data"
    }
   ],
   "source": [
    "scale <- 1/(sqrtm(t(b1)%*%R22%*%b1))\n",
    "newb1 <- (scale[1,1])*b1\n",
    "newb1"
   ]
  },
  {
   "cell_type": "code",
   "execution_count": 93,
   "id": "1fde50cf",
   "metadata": {
    "ExecuteTime": {
     "end_time": "2022-05-19T05:17:57.046432Z",
     "start_time": "2022-05-19T05:17:57.012Z"
    }
   },
   "outputs": [
    {
     "data": {
      "text/html": [
       "0.552932221540082"
      ],
      "text/latex": [
       "0.552932221540082"
      ],
      "text/markdown": [
       "0.552932221540082"
      ],
      "text/plain": [
       "[1] 0.5529322"
      ]
     },
     "metadata": {},
     "output_type": "display_data"
    }
   ],
   "source": [
    "# canonical correlation 1\n",
    "r1_star <- eigenvalue[1]\n",
    "sqrt(r1_star)"
   ]
  },
  {
   "cell_type": "code",
   "execution_count": 94,
   "id": "b0d6a002",
   "metadata": {
    "ExecuteTime": {
     "end_time": "2022-05-19T05:18:03.952214Z",
     "start_time": "2022-05-19T05:18:03.917Z"
    }
   },
   "outputs": [
    {
     "data": {
      "text/html": [
       "0.111261779636468"
      ],
      "text/latex": [
       "0.111261779636468"
      ],
      "text/markdown": [
       "0.111261779636468"
      ],
      "text/plain": [
       "[1] 0.1112618"
      ]
     },
     "metadata": {},
     "output_type": "display_data"
    }
   ],
   "source": [
    "# canonical correlation 2\n",
    "r2_star <- eigenvalue[2]\n",
    "sqrt(r2_star)"
   ]
  },
  {
   "cell_type": "markdown",
   "id": "819e1b5c",
   "metadata": {},
   "source": [
    "# 11.8"
   ]
  },
  {
   "cell_type": "markdown",
   "id": "f162b3ee",
   "metadata": {},
   "source": [
    "Use the diabetes data of Table 3.5. "
   ]
  },
  {
   "cell_type": "code",
   "execution_count": 114,
   "id": "87ed0643",
   "metadata": {
    "ExecuteTime": {
     "end_time": "2022-05-19T05:39:43.534930Z",
     "start_time": "2022-05-19T05:39:43.439Z"
    }
   },
   "outputs": [
    {
     "data": {
      "text/html": [
       "<table class=\"dataframe\">\n",
       "<caption>A data.frame: 6 × 5</caption>\n",
       "<thead>\n",
       "\t<tr><th></th><th scope=col>y1</th><th scope=col>y2</th><th scope=col>x1</th><th scope=col>x2</th><th scope=col>x3</th></tr>\n",
       "\t<tr><th></th><th scope=col>&lt;dbl&gt;</th><th scope=col>&lt;dbl&gt;</th><th scope=col>&lt;dbl&gt;</th><th scope=col>&lt;dbl&gt;</th><th scope=col>&lt;dbl&gt;</th></tr>\n",
       "</thead>\n",
       "<tbody>\n",
       "\t<tr><th scope=row>1</th><td>0.81</td><td> 80</td><td>356</td><td>124</td><td> 55</td></tr>\n",
       "\t<tr><th scope=row>2</th><td>0.95</td><td> 97</td><td>289</td><td>117</td><td> 76</td></tr>\n",
       "\t<tr><th scope=row>3</th><td>0.94</td><td>105</td><td>319</td><td>143</td><td>105</td></tr>\n",
       "\t<tr><th scope=row>4</th><td>1.04</td><td> 90</td><td>356</td><td>199</td><td>108</td></tr>\n",
       "\t<tr><th scope=row>5</th><td>1.00</td><td> 90</td><td>323</td><td>240</td><td>143</td></tr>\n",
       "\t<tr><th scope=row>6</th><td>0.76</td><td> 86</td><td>381</td><td>157</td><td>165</td></tr>\n",
       "</tbody>\n",
       "</table>\n"
      ],
      "text/latex": [
       "A data.frame: 6 × 5\n",
       "\\begin{tabular}{r|lllll}\n",
       "  & y1 & y2 & x1 & x2 & x3\\\\\n",
       "  & <dbl> & <dbl> & <dbl> & <dbl> & <dbl>\\\\\n",
       "\\hline\n",
       "\t1 & 0.81 &  80 & 356 & 124 &  55\\\\\n",
       "\t2 & 0.95 &  97 & 289 & 117 &  76\\\\\n",
       "\t3 & 0.94 & 105 & 319 & 143 & 105\\\\\n",
       "\t4 & 1.04 &  90 & 356 & 199 & 108\\\\\n",
       "\t5 & 1.00 &  90 & 323 & 240 & 143\\\\\n",
       "\t6 & 0.76 &  86 & 381 & 157 & 165\\\\\n",
       "\\end{tabular}\n"
      ],
      "text/markdown": [
       "\n",
       "A data.frame: 6 × 5\n",
       "\n",
       "| <!--/--> | y1 &lt;dbl&gt; | y2 &lt;dbl&gt; | x1 &lt;dbl&gt; | x2 &lt;dbl&gt; | x3 &lt;dbl&gt; |\n",
       "|---|---|---|---|---|---|\n",
       "| 1 | 0.81 |  80 | 356 | 124 |  55 |\n",
       "| 2 | 0.95 |  97 | 289 | 117 |  76 |\n",
       "| 3 | 0.94 | 105 | 319 | 143 | 105 |\n",
       "| 4 | 1.04 |  90 | 356 | 199 | 108 |\n",
       "| 5 | 1.00 |  90 | 323 | 240 | 143 |\n",
       "| 6 | 0.76 |  86 | 381 | 157 | 165 |\n",
       "\n"
      ],
      "text/plain": [
       "  y1   y2  x1  x2  x3 \n",
       "1 0.81  80 356 124  55\n",
       "2 0.95  97 289 117  76\n",
       "3 0.94 105 319 143 105\n",
       "4 1.04  90 356 199 108\n",
       "5 1.00  90 323 240 143\n",
       "6 0.76  86 381 157 165"
      ]
     },
     "metadata": {},
     "output_type": "display_data"
    }
   ],
   "source": [
    "diabetes <- read.xlsx(\"tabel_3.5.xlsx\")\n",
    "diabetes <- diabetes[,-1]\n",
    "head(diabetes)"
   ]
  },
  {
   "cell_type": "code",
   "execution_count": 115,
   "id": "2be86ba2",
   "metadata": {
    "ExecuteTime": {
     "end_time": "2022-05-19T05:39:43.867108Z",
     "start_time": "2022-05-19T05:39:43.830Z"
    },
    "scrolled": true
   },
   "outputs": [
    {
     "data": {
      "text/html": [
       "<table class=\"dataframe\">\n",
       "<caption>A matrix: 5 × 5 of type dbl</caption>\n",
       "<thead>\n",
       "\t<tr><th></th><th scope=col>y1</th><th scope=col>y2</th><th scope=col>x1</th><th scope=col>x2</th><th scope=col>x3</th></tr>\n",
       "</thead>\n",
       "<tbody>\n",
       "\t<tr><th scope=row>y1</th><td> 1.0000000</td><td> 0.16047812</td><td>0.175680799</td><td>-0.1438253</td><td> 0.332284598</td></tr>\n",
       "\t<tr><th scope=row>y2</th><td> 0.1604781</td><td> 1.00000000</td><td>0.072133311</td><td>-0.1132752</td><td>-0.170017219</td></tr>\n",
       "\t<tr><th scope=row>x1</th><td> 0.1756808</td><td> 0.07213331</td><td>1.000000000</td><td> 0.1638133</td><td> 0.008216539</td></tr>\n",
       "\t<tr><th scope=row>x2</th><td>-0.1438253</td><td>-0.11327520</td><td>0.163813321</td><td> 1.0000000</td><td> 0.368282904</td></tr>\n",
       "\t<tr><th scope=row>x3</th><td> 0.3322846</td><td>-0.17001722</td><td>0.008216539</td><td> 0.3682829</td><td> 1.000000000</td></tr>\n",
       "</tbody>\n",
       "</table>\n"
      ],
      "text/latex": [
       "A matrix: 5 × 5 of type dbl\n",
       "\\begin{tabular}{r|lllll}\n",
       "  & y1 & y2 & x1 & x2 & x3\\\\\n",
       "\\hline\n",
       "\ty1 &  1.0000000 &  0.16047812 & 0.175680799 & -0.1438253 &  0.332284598\\\\\n",
       "\ty2 &  0.1604781 &  1.00000000 & 0.072133311 & -0.1132752 & -0.170017219\\\\\n",
       "\tx1 &  0.1756808 &  0.07213331 & 1.000000000 &  0.1638133 &  0.008216539\\\\\n",
       "\tx2 & -0.1438253 & -0.11327520 & 0.163813321 &  1.0000000 &  0.368282904\\\\\n",
       "\tx3 &  0.3322846 & -0.17001722 & 0.008216539 &  0.3682829 &  1.000000000\\\\\n",
       "\\end{tabular}\n"
      ],
      "text/markdown": [
       "\n",
       "A matrix: 5 × 5 of type dbl\n",
       "\n",
       "| <!--/--> | y1 | y2 | x1 | x2 | x3 |\n",
       "|---|---|---|---|---|---|\n",
       "| y1 |  1.0000000 |  0.16047812 | 0.175680799 | -0.1438253 |  0.332284598 |\n",
       "| y2 |  0.1604781 |  1.00000000 | 0.072133311 | -0.1132752 | -0.170017219 |\n",
       "| x1 |  0.1756808 |  0.07213331 | 1.000000000 |  0.1638133 |  0.008216539 |\n",
       "| x2 | -0.1438253 | -0.11327520 | 0.163813321 |  1.0000000 |  0.368282904 |\n",
       "| x3 |  0.3322846 | -0.17001722 | 0.008216539 |  0.3682829 |  1.000000000 |\n",
       "\n"
      ],
      "text/plain": [
       "   y1         y2          x1          x2         x3          \n",
       "y1  1.0000000  0.16047812 0.175680799 -0.1438253  0.332284598\n",
       "y2  0.1604781  1.00000000 0.072133311 -0.1132752 -0.170017219\n",
       "x1  0.1756808  0.07213331 1.000000000  0.1638133  0.008216539\n",
       "x2 -0.1438253 -0.11327520 0.163813321  1.0000000  0.368282904\n",
       "x3  0.3322846 -0.17001722 0.008216539  0.3682829  1.000000000"
      ]
     },
     "metadata": {},
     "output_type": "display_data"
    }
   ],
   "source": [
    "cor_diabetes <- cor(diabetes)\n",
    "cor_diabetes"
   ]
  },
  {
   "cell_type": "code",
   "execution_count": 116,
   "id": "dbfed657",
   "metadata": {
    "ExecuteTime": {
     "end_time": "2022-05-19T05:39:44.326623Z",
     "start_time": "2022-05-19T05:39:44.298Z"
    }
   },
   "outputs": [
    {
     "data": {
      "text/html": [
       "<table class=\"dataframe\">\n",
       "<caption>A matrix: 2 × 2 of type dbl</caption>\n",
       "<thead>\n",
       "\t<tr><th></th><th scope=col>y1</th><th scope=col>y2</th></tr>\n",
       "</thead>\n",
       "<tbody>\n",
       "\t<tr><th scope=row>y1</th><td>1.0000000</td><td>0.1604781</td></tr>\n",
       "\t<tr><th scope=row>y2</th><td>0.1604781</td><td>1.0000000</td></tr>\n",
       "</tbody>\n",
       "</table>\n"
      ],
      "text/latex": [
       "A matrix: 2 × 2 of type dbl\n",
       "\\begin{tabular}{r|ll}\n",
       "  & y1 & y2\\\\\n",
       "\\hline\n",
       "\ty1 & 1.0000000 & 0.1604781\\\\\n",
       "\ty2 & 0.1604781 & 1.0000000\\\\\n",
       "\\end{tabular}\n"
      ],
      "text/markdown": [
       "\n",
       "A matrix: 2 × 2 of type dbl\n",
       "\n",
       "| <!--/--> | y1 | y2 |\n",
       "|---|---|---|\n",
       "| y1 | 1.0000000 | 0.1604781 |\n",
       "| y2 | 0.1604781 | 1.0000000 |\n",
       "\n"
      ],
      "text/plain": [
       "   y1        y2       \n",
       "y1 1.0000000 0.1604781\n",
       "y2 0.1604781 1.0000000"
      ]
     },
     "metadata": {},
     "output_type": "display_data"
    }
   ],
   "source": [
    "R11 <- cor_diabetes[c(1,2),c(1,2)]\n",
    "R11"
   ]
  },
  {
   "cell_type": "code",
   "execution_count": 117,
   "id": "c03567bc",
   "metadata": {
    "ExecuteTime": {
     "end_time": "2022-05-19T05:39:44.780881Z",
     "start_time": "2022-05-19T05:39:44.746Z"
    }
   },
   "outputs": [
    {
     "data": {
      "text/html": [
       "<table class=\"dataframe\">\n",
       "<caption>A matrix: 2 × 3 of type dbl</caption>\n",
       "<thead>\n",
       "\t<tr><th></th><th scope=col>x1</th><th scope=col>x2</th><th scope=col>x3</th></tr>\n",
       "</thead>\n",
       "<tbody>\n",
       "\t<tr><th scope=row>y1</th><td>0.17568080</td><td>-0.1438253</td><td> 0.3322846</td></tr>\n",
       "\t<tr><th scope=row>y2</th><td>0.07213331</td><td>-0.1132752</td><td>-0.1700172</td></tr>\n",
       "</tbody>\n",
       "</table>\n"
      ],
      "text/latex": [
       "A matrix: 2 × 3 of type dbl\n",
       "\\begin{tabular}{r|lll}\n",
       "  & x1 & x2 & x3\\\\\n",
       "\\hline\n",
       "\ty1 & 0.17568080 & -0.1438253 &  0.3322846\\\\\n",
       "\ty2 & 0.07213331 & -0.1132752 & -0.1700172\\\\\n",
       "\\end{tabular}\n"
      ],
      "text/markdown": [
       "\n",
       "A matrix: 2 × 3 of type dbl\n",
       "\n",
       "| <!--/--> | x1 | x2 | x3 |\n",
       "|---|---|---|---|\n",
       "| y1 | 0.17568080 | -0.1438253 |  0.3322846 |\n",
       "| y2 | 0.07213331 | -0.1132752 | -0.1700172 |\n",
       "\n"
      ],
      "text/plain": [
       "   x1         x2         x3        \n",
       "y1 0.17568080 -0.1438253  0.3322846\n",
       "y2 0.07213331 -0.1132752 -0.1700172"
      ]
     },
     "metadata": {},
     "output_type": "display_data"
    }
   ],
   "source": [
    "R12 <- cor_diabetes[c(1,2),c(3,4,5)]\n",
    "R12"
   ]
  },
  {
   "cell_type": "code",
   "execution_count": 118,
   "id": "9495fae8",
   "metadata": {
    "ExecuteTime": {
     "end_time": "2022-05-19T05:39:45.264046Z",
     "start_time": "2022-05-19T05:39:45.229Z"
    }
   },
   "outputs": [
    {
     "data": {
      "text/html": [
       "<table class=\"dataframe\">\n",
       "<caption>A matrix: 3 × 2 of type dbl</caption>\n",
       "<thead>\n",
       "\t<tr><th></th><th scope=col>y1</th><th scope=col>y2</th></tr>\n",
       "</thead>\n",
       "<tbody>\n",
       "\t<tr><th scope=row>x1</th><td> 0.1756808</td><td> 0.07213331</td></tr>\n",
       "\t<tr><th scope=row>x2</th><td>-0.1438253</td><td>-0.11327520</td></tr>\n",
       "\t<tr><th scope=row>x3</th><td> 0.3322846</td><td>-0.17001722</td></tr>\n",
       "</tbody>\n",
       "</table>\n"
      ],
      "text/latex": [
       "A matrix: 3 × 2 of type dbl\n",
       "\\begin{tabular}{r|ll}\n",
       "  & y1 & y2\\\\\n",
       "\\hline\n",
       "\tx1 &  0.1756808 &  0.07213331\\\\\n",
       "\tx2 & -0.1438253 & -0.11327520\\\\\n",
       "\tx3 &  0.3322846 & -0.17001722\\\\\n",
       "\\end{tabular}\n"
      ],
      "text/markdown": [
       "\n",
       "A matrix: 3 × 2 of type dbl\n",
       "\n",
       "| <!--/--> | y1 | y2 |\n",
       "|---|---|---|\n",
       "| x1 |  0.1756808 |  0.07213331 |\n",
       "| x2 | -0.1438253 | -0.11327520 |\n",
       "| x3 |  0.3322846 | -0.17001722 |\n",
       "\n"
      ],
      "text/plain": [
       "   y1         y2         \n",
       "x1  0.1756808  0.07213331\n",
       "x2 -0.1438253 -0.11327520\n",
       "x3  0.3322846 -0.17001722"
      ]
     },
     "metadata": {},
     "output_type": "display_data"
    }
   ],
   "source": [
    "R21 <- cor_diabetes[c(3,4,5),c(1,2)]\n",
    "R21"
   ]
  },
  {
   "cell_type": "code",
   "execution_count": 119,
   "id": "0100fbe0",
   "metadata": {
    "ExecuteTime": {
     "end_time": "2022-05-19T05:39:45.811743Z",
     "start_time": "2022-05-19T05:39:45.778Z"
    }
   },
   "outputs": [
    {
     "data": {
      "text/html": [
       "<table class=\"dataframe\">\n",
       "<caption>A matrix: 3 × 3 of type dbl</caption>\n",
       "<thead>\n",
       "\t<tr><th></th><th scope=col>x1</th><th scope=col>x2</th><th scope=col>x3</th></tr>\n",
       "</thead>\n",
       "<tbody>\n",
       "\t<tr><th scope=row>x1</th><td>1.000000000</td><td>0.1638133</td><td>0.008216539</td></tr>\n",
       "\t<tr><th scope=row>x2</th><td>0.163813321</td><td>1.0000000</td><td>0.368282904</td></tr>\n",
       "\t<tr><th scope=row>x3</th><td>0.008216539</td><td>0.3682829</td><td>1.000000000</td></tr>\n",
       "</tbody>\n",
       "</table>\n"
      ],
      "text/latex": [
       "A matrix: 3 × 3 of type dbl\n",
       "\\begin{tabular}{r|lll}\n",
       "  & x1 & x2 & x3\\\\\n",
       "\\hline\n",
       "\tx1 & 1.000000000 & 0.1638133 & 0.008216539\\\\\n",
       "\tx2 & 0.163813321 & 1.0000000 & 0.368282904\\\\\n",
       "\tx3 & 0.008216539 & 0.3682829 & 1.000000000\\\\\n",
       "\\end{tabular}\n"
      ],
      "text/markdown": [
       "\n",
       "A matrix: 3 × 3 of type dbl\n",
       "\n",
       "| <!--/--> | x1 | x2 | x3 |\n",
       "|---|---|---|---|\n",
       "| x1 | 1.000000000 | 0.1638133 | 0.008216539 |\n",
       "| x2 | 0.163813321 | 1.0000000 | 0.368282904 |\n",
       "| x3 | 0.008216539 | 0.3682829 | 1.000000000 |\n",
       "\n"
      ],
      "text/plain": [
       "   x1          x2        x3         \n",
       "x1 1.000000000 0.1638133 0.008216539\n",
       "x2 0.163813321 1.0000000 0.368282904\n",
       "x3 0.008216539 0.3682829 1.000000000"
      ]
     },
     "metadata": {},
     "output_type": "display_data"
    }
   ],
   "source": [
    "R22 <- cor_diabetes[c(3,4,5),c(3,4,5)]\n",
    "R22"
   ]
  },
  {
   "cell_type": "markdown",
   "id": "924d012e",
   "metadata": {},
   "source": [
    "## (a) Find the canonical correlations between $(y_{1}, y_{2})$ and $(x_{1}, x_{2}, x_{3})$. "
   ]
  },
  {
   "cell_type": "code",
   "execution_count": 120,
   "id": "b137811d",
   "metadata": {
    "ExecuteTime": {
     "end_time": "2022-05-19T05:39:46.344425Z",
     "start_time": "2022-05-19T05:39:46.304Z"
    }
   },
   "outputs": [
    {
     "data": {
      "text/html": [
       "<table class=\"dataframe\">\n",
       "<caption>A matrix: 2 × 2 of type dbl</caption>\n",
       "<tbody>\n",
       "\t<tr><td> 1.00984275</td><td>-0.08155735</td></tr>\n",
       "\t<tr><td>-0.08155735</td><td> 1.00984275</td></tr>\n",
       "</tbody>\n",
       "</table>\n"
      ],
      "text/latex": [
       "A matrix: 2 × 2 of type dbl\n",
       "\\begin{tabular}{ll}\n",
       "\t  1.00984275 & -0.08155735\\\\\n",
       "\t -0.08155735 &  1.00984275\\\\\n",
       "\\end{tabular}\n"
      ],
      "text/markdown": [
       "\n",
       "A matrix: 2 × 2 of type dbl\n",
       "\n",
       "|  1.00984275 | -0.08155735 |\n",
       "| -0.08155735 |  1.00984275 |\n",
       "\n"
      ],
      "text/plain": [
       "     [,1]        [,2]       \n",
       "[1,]  1.00984275 -0.08155735\n",
       "[2,] -0.08155735  1.00984275"
      ]
     },
     "metadata": {},
     "output_type": "display_data"
    }
   ],
   "source": [
    "R11s <- sqrtm(solve(R11))\n",
    "R11s"
   ]
  },
  {
   "cell_type": "code",
   "execution_count": 121,
   "id": "1fd619d3",
   "metadata": {
    "ExecuteTime": {
     "end_time": "2022-05-19T05:39:46.899553Z",
     "start_time": "2022-05-19T05:39:46.863Z"
    }
   },
   "outputs": [
    {
     "data": {
      "text/html": [
       "<table class=\"dataframe\">\n",
       "<caption>A matrix: 3 × 3 of type dbl</caption>\n",
       "<thead>\n",
       "\t<tr><th></th><th scope=col>x1</th><th scope=col>x2</th><th scope=col>x3</th></tr>\n",
       "</thead>\n",
       "<tbody>\n",
       "\t<tr><th scope=row>x1</th><td> 1.0309031</td><td>-0.1917658</td><td> 0.0621536</td></tr>\n",
       "\t<tr><th scope=row>x2</th><td>-0.1917658</td><td> 1.1925868</td><td>-0.4376337</td></tr>\n",
       "\t<tr><th scope=row>x3</th><td> 0.0621536</td><td>-0.4376337</td><td> 1.1606623</td></tr>\n",
       "</tbody>\n",
       "</table>\n"
      ],
      "text/latex": [
       "A matrix: 3 × 3 of type dbl\n",
       "\\begin{tabular}{r|lll}\n",
       "  & x1 & x2 & x3\\\\\n",
       "\\hline\n",
       "\tx1 &  1.0309031 & -0.1917658 &  0.0621536\\\\\n",
       "\tx2 & -0.1917658 &  1.1925868 & -0.4376337\\\\\n",
       "\tx3 &  0.0621536 & -0.4376337 &  1.1606623\\\\\n",
       "\\end{tabular}\n"
      ],
      "text/markdown": [
       "\n",
       "A matrix: 3 × 3 of type dbl\n",
       "\n",
       "| <!--/--> | x1 | x2 | x3 |\n",
       "|---|---|---|---|\n",
       "| x1 |  1.0309031 | -0.1917658 |  0.0621536 |\n",
       "| x2 | -0.1917658 |  1.1925868 | -0.4376337 |\n",
       "| x3 |  0.0621536 | -0.4376337 |  1.1606623 |\n",
       "\n"
      ],
      "text/plain": [
       "   x1         x2         x3        \n",
       "x1  1.0309031 -0.1917658  0.0621536\n",
       "x2 -0.1917658  1.1925868 -0.4376337\n",
       "x3  0.0621536 -0.4376337  1.1606623"
      ]
     },
     "metadata": {},
     "output_type": "display_data"
    }
   ],
   "source": [
    "R22s <- solve(R22)\n",
    "R22s"
   ]
  },
  {
   "cell_type": "code",
   "execution_count": 122,
   "id": "4f61166c",
   "metadata": {
    "ExecuteTime": {
     "end_time": "2022-05-19T05:39:47.246416Z",
     "start_time": "2022-05-19T05:39:47.214Z"
    }
   },
   "outputs": [
    {
     "data": {
      "text/html": [
       "<table class=\"dataframe\">\n",
       "<caption>A matrix: 2 × 2 of type dbl</caption>\n",
       "<tbody>\n",
       "\t<tr><td> 0.25209303</td><td>-0.04570245</td></tr>\n",
       "\t<tr><td>-0.04570245</td><td> 0.04496109</td></tr>\n",
       "</tbody>\n",
       "</table>\n"
      ],
      "text/latex": [
       "A matrix: 2 × 2 of type dbl\n",
       "\\begin{tabular}{ll}\n",
       "\t  0.25209303 & -0.04570245\\\\\n",
       "\t -0.04570245 &  0.04496109\\\\\n",
       "\\end{tabular}\n"
      ],
      "text/markdown": [
       "\n",
       "A matrix: 2 × 2 of type dbl\n",
       "\n",
       "|  0.25209303 | -0.04570245 |\n",
       "| -0.04570245 |  0.04496109 |\n",
       "\n"
      ],
      "text/plain": [
       "     [,1]        [,2]       \n",
       "[1,]  0.25209303 -0.04570245\n",
       "[2,] -0.04570245  0.04496109"
      ]
     },
     "metadata": {},
     "output_type": "display_data"
    }
   ],
   "source": [
    "result <- R11s%*%R12%*%R22s%*%R21%*%R11s\n",
    "result"
   ]
  },
  {
   "cell_type": "code",
   "execution_count": 123,
   "id": "24633bde",
   "metadata": {
    "ExecuteTime": {
     "end_time": "2022-05-19T05:39:54.196461Z",
     "start_time": "2022-05-19T05:39:54.161Z"
    }
   },
   "outputs": [],
   "source": [
    "eigen <- eigen(result)"
   ]
  },
  {
   "cell_type": "code",
   "execution_count": 124,
   "id": "4a32574b",
   "metadata": {
    "ExecuteTime": {
     "end_time": "2022-05-19T05:40:02.627268Z",
     "start_time": "2022-05-19T05:40:02.591Z"
    }
   },
   "outputs": [
    {
     "data": {
      "text/html": [
       "<style>\n",
       ".list-inline {list-style: none; margin:0; padding: 0}\n",
       ".list-inline>li {display: inline-block}\n",
       ".list-inline>li:not(:last-child)::after {content: \"\\00b7\"; padding: 0 .5ex}\n",
       "</style>\n",
       "<ol class=list-inline><li>0.261728758019025</li><li>0.0353253602184758</li></ol>\n"
      ],
      "text/latex": [
       "\\begin{enumerate*}\n",
       "\\item 0.261728758019025\n",
       "\\item 0.0353253602184758\n",
       "\\end{enumerate*}\n"
      ],
      "text/markdown": [
       "1. 0.261728758019025\n",
       "2. 0.0353253602184758\n",
       "\n",
       "\n"
      ],
      "text/plain": [
       "[1] 0.26172876 0.03532536"
      ]
     },
     "metadata": {},
     "output_type": "display_data"
    }
   ],
   "source": [
    "eigenvalue <- eigen$value\n",
    "eigenvalue"
   ]
  },
  {
   "cell_type": "code",
   "execution_count": 125,
   "id": "527b74cd",
   "metadata": {
    "ExecuteTime": {
     "end_time": "2022-05-19T05:40:10.007016Z",
     "start_time": "2022-05-19T05:40:09.970Z"
    }
   },
   "outputs": [
    {
     "data": {
      "text/html": [
       "<table class=\"dataframe\">\n",
       "<caption>A matrix: 2 × 2 of type dbl</caption>\n",
       "<tbody>\n",
       "\t<tr><td>-0.9784886</td><td>-0.2063007</td></tr>\n",
       "\t<tr><td> 0.2063007</td><td>-0.9784886</td></tr>\n",
       "</tbody>\n",
       "</table>\n"
      ],
      "text/latex": [
       "A matrix: 2 × 2 of type dbl\n",
       "\\begin{tabular}{ll}\n",
       "\t -0.9784886 & -0.2063007\\\\\n",
       "\t  0.2063007 & -0.9784886\\\\\n",
       "\\end{tabular}\n"
      ],
      "text/markdown": [
       "\n",
       "A matrix: 2 × 2 of type dbl\n",
       "\n",
       "| -0.9784886 | -0.2063007 |\n",
       "|  0.2063007 | -0.9784886 |\n",
       "\n"
      ],
      "text/plain": [
       "     [,1]       [,2]      \n",
       "[1,] -0.9784886 -0.2063007\n",
       "[2,]  0.2063007 -0.9784886"
      ]
     },
     "metadata": {},
     "output_type": "display_data"
    }
   ],
   "source": [
    "eigenvector <- eigen$vectors\n",
    "eigenvector"
   ]
  },
  {
   "cell_type": "code",
   "execution_count": 126,
   "id": "3c625346",
   "metadata": {
    "ExecuteTime": {
     "end_time": "2022-05-19T05:40:17.282083Z",
     "start_time": "2022-05-19T05:40:17.245Z"
    }
   },
   "outputs": [
    {
     "data": {
      "text/html": [
       "<table class=\"dataframe\">\n",
       "<caption>A matrix: 2 × 1 of type dbl</caption>\n",
       "<tbody>\n",
       "\t<tr><td>-1.0049450</td></tr>\n",
       "\t<tr><td> 0.2881343</td></tr>\n",
       "</tbody>\n",
       "</table>\n"
      ],
      "text/latex": [
       "A matrix: 2 × 1 of type dbl\n",
       "\\begin{tabular}{l}\n",
       "\t -1.0049450\\\\\n",
       "\t  0.2881343\\\\\n",
       "\\end{tabular}\n"
      ],
      "text/markdown": [
       "\n",
       "A matrix: 2 × 1 of type dbl\n",
       "\n",
       "| -1.0049450 |\n",
       "|  0.2881343 |\n",
       "\n"
      ],
      "text/plain": [
       "     [,1]      \n",
       "[1,] -1.0049450\n",
       "[2,]  0.2881343"
      ]
     },
     "metadata": {},
     "output_type": "display_data"
    }
   ],
   "source": [
    "a1 <- R11s%*%eigenvector[,1]\n",
    "a1"
   ]
  },
  {
   "cell_type": "code",
   "execution_count": 127,
   "id": "86eac81c",
   "metadata": {
    "ExecuteTime": {
     "end_time": "2022-05-19T05:40:22.481555Z",
     "start_time": "2022-05-19T05:40:22.436Z"
    }
   },
   "outputs": [
    {
     "data": {
      "text/html": [
       "<table class=\"dataframe\">\n",
       "<caption>A matrix: 3 × 1 of type dbl</caption>\n",
       "<tbody>\n",
       "\t<tr><th scope=row>x1</th><td>-0.2058369</td></tr>\n",
       "\t<tr><th scope=row>x2</th><td> 0.3308953</td></tr>\n",
       "\t<tr><th scope=row>x3</th><td>-0.5030873</td></tr>\n",
       "</tbody>\n",
       "</table>\n"
      ],
      "text/latex": [
       "A matrix: 3 × 1 of type dbl\n",
       "\\begin{tabular}{r|l}\n",
       "\tx1 & -0.2058369\\\\\n",
       "\tx2 &  0.3308953\\\\\n",
       "\tx3 & -0.5030873\\\\\n",
       "\\end{tabular}\n"
      ],
      "text/markdown": [
       "\n",
       "A matrix: 3 × 1 of type dbl\n",
       "\n",
       "| x1 | -0.2058369 |\n",
       "| x2 |  0.3308953 |\n",
       "| x3 | -0.5030873 |\n",
       "\n"
      ],
      "text/plain": [
       "   [,1]      \n",
       "x1 -0.2058369\n",
       "x2  0.3308953\n",
       "x3 -0.5030873"
      ]
     },
     "metadata": {},
     "output_type": "display_data"
    }
   ],
   "source": [
    "b1 <- R22s%*%R21%*%a1\n",
    "b1"
   ]
  },
  {
   "cell_type": "code",
   "execution_count": 128,
   "id": "ec0be47b",
   "metadata": {
    "ExecuteTime": {
     "end_time": "2022-05-19T05:40:32.448652Z",
     "start_time": "2022-05-19T05:40:32.408Z"
    }
   },
   "outputs": [
    {
     "data": {
      "text/html": [
       "<table class=\"dataframe\">\n",
       "<caption>A matrix: 3 × 1 of type dbl</caption>\n",
       "<tbody>\n",
       "\t<tr><th scope=row>x1</th><td>-0.4023439</td></tr>\n",
       "\t<tr><th scope=row>x2</th><td> 0.6467924</td></tr>\n",
       "\t<tr><th scope=row>x3</th><td>-0.9833716</td></tr>\n",
       "</tbody>\n",
       "</table>\n"
      ],
      "text/latex": [
       "A matrix: 3 × 1 of type dbl\n",
       "\\begin{tabular}{r|l}\n",
       "\tx1 & -0.4023439\\\\\n",
       "\tx2 &  0.6467924\\\\\n",
       "\tx3 & -0.9833716\\\\\n",
       "\\end{tabular}\n"
      ],
      "text/markdown": [
       "\n",
       "A matrix: 3 × 1 of type dbl\n",
       "\n",
       "| x1 | -0.4023439 |\n",
       "| x2 |  0.6467924 |\n",
       "| x3 | -0.9833716 |\n",
       "\n"
      ],
      "text/plain": [
       "   [,1]      \n",
       "x1 -0.4023439\n",
       "x2  0.6467924\n",
       "x3 -0.9833716"
      ]
     },
     "metadata": {},
     "output_type": "display_data"
    }
   ],
   "source": [
    "scale <- 1/(sqrtm(t(b1)%*%R22%*%b1))\n",
    "newb1 <- (scale[1,1])*b1\n",
    "newb1"
   ]
  },
  {
   "cell_type": "code",
   "execution_count": 129,
   "id": "f36f5234",
   "metadata": {
    "ExecuteTime": {
     "end_time": "2022-05-19T05:41:10.253237Z",
     "start_time": "2022-05-19T05:41:10.223Z"
    }
   },
   "outputs": [
    {
     "data": {
      "text/html": [
       "0.511594329541508"
      ],
      "text/latex": [
       "0.511594329541508"
      ],
      "text/markdown": [
       "0.511594329541508"
      ],
      "text/plain": [
       "[1] 0.5115943"
      ]
     },
     "metadata": {},
     "output_type": "display_data"
    }
   ],
   "source": [
    "# canonical correlation 1\n",
    "r1_star <- eigenvalue[1]\n",
    "sqrt(r1_star)"
   ]
  },
  {
   "cell_type": "code",
   "execution_count": 130,
   "id": "fca6da41",
   "metadata": {
    "ExecuteTime": {
     "end_time": "2022-05-19T05:41:18.485882Z",
     "start_time": "2022-05-19T05:41:18.451Z"
    }
   },
   "outputs": [
    {
     "data": {
      "text/html": [
       "0.187950419575152"
      ],
      "text/latex": [
       "0.187950419575152"
      ],
      "text/markdown": [
       "0.187950419575152"
      ],
      "text/plain": [
       "[1] 0.1879504"
      ]
     },
     "metadata": {},
     "output_type": "display_data"
    }
   ],
   "source": [
    "# canonical correlation 2\n",
    "r2_star <- eigenvalue[2]\n",
    "sqrt(r2_star)"
   ]
  },
  {
   "cell_type": "markdown",
   "id": "ea475242",
   "metadata": {},
   "source": [
    "## (b) Find the standardized coefficients for the canonical variates. "
   ]
  },
  {
   "cell_type": "code",
   "execution_count": null,
   "id": "65761d8e",
   "metadata": {},
   "outputs": [],
   "source": []
  },
  {
   "cell_type": "markdown",
   "id": "c8d3e5af",
   "metadata": {},
   "source": [
    "## (c) Test the significance of each canonical correlation. "
   ]
  },
  {
   "cell_type": "code",
   "execution_count": null,
   "id": "89f1b991",
   "metadata": {},
   "outputs": [],
   "source": []
  }
 ],
 "metadata": {
  "kernelspec": {
   "display_name": "R",
   "language": "R",
   "name": "ir"
  },
  "language_info": {
   "codemirror_mode": "r",
   "file_extension": ".r",
   "mimetype": "text/x-r-source",
   "name": "R",
   "pygments_lexer": "r",
   "version": "4.0.5"
  },
  "toc": {
   "base_numbering": 1,
   "nav_menu": {},
   "number_sections": true,
   "sideBar": true,
   "skip_h1_title": false,
   "title_cell": "Table of Contents",
   "title_sidebar": "Contents",
   "toc_cell": false,
   "toc_position": {},
   "toc_section_display": true,
   "toc_window_display": false
  }
 },
 "nbformat": 4,
 "nbformat_minor": 5
}
