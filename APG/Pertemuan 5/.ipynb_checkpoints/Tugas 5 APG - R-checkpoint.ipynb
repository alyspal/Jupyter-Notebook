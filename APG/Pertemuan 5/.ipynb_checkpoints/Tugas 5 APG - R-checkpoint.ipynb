{
 "cells": [
  {
   "cell_type": "code",
   "execution_count": 1,
   "id": "3fe1f49e",
   "metadata": {
    "ExecuteTime": {
     "end_time": "2022-03-19T17:57:03.562877Z",
     "start_time": "2022-03-19T17:57:03.500Z"
    }
   },
   "outputs": [],
   "source": [
    "#library(tinytex)"
   ]
  },
  {
   "cell_type": "raw",
   "id": "deed6d75",
   "metadata": {
    "ExecuteTime": {
     "end_time": "2022-03-19T17:40:12.983839Z",
     "start_time": "2022-03-19T17:39:51.184Z"
    }
   },
   "source": [
    "install.packages(\"SciViews\")"
   ]
  },
  {
   "cell_type": "code",
   "execution_count": 2,
   "id": "e6811c3a",
   "metadata": {
    "ExecuteTime": {
     "end_time": "2022-03-19T17:57:05.298679Z",
     "start_time": "2022-03-19T17:57:03.553Z"
    },
    "scrolled": true
   },
   "outputs": [
    {
     "name": "stderr",
     "output_type": "stream",
     "text": [
      "\n",
      "Attaching package: 'ellipse'\n",
      "\n",
      "\n",
      "The following object is masked from 'package:graphics':\n",
      "\n",
      "    pairs\n",
      "\n",
      "\n",
      "*** Package RVAideMemoire v 0.9-81-2 ***\n",
      "\n",
      "Loading required package: carData\n",
      "\n",
      "\n",
      "Attaching package: 'car'\n",
      "\n",
      "\n",
      "The following object is masked from 'package:ellipse':\n",
      "\n",
      "    ellipse\n",
      "\n",
      "\n",
      "\n",
      "Attaching package: 'MVTests'\n",
      "\n",
      "\n",
      "The following object is masked from 'package:datasets':\n",
      "\n",
      "    iris\n",
      "\n",
      "\n"
     ]
    }
   ],
   "source": [
    "library(\"latex2exp\")\n",
    "library(\"ellipse\")\n",
    "library(\"RVAideMemoire\")\n",
    "library(\"MVN\")\n",
    "library(\"car\")\n",
    "library(\"MVTests\")\n",
    "library(\"SciViews\")"
   ]
  },
  {
   "cell_type": "markdown",
   "id": "c1bf1b7b",
   "metadata": {},
   "source": [
    "# Nomor 6.1"
   ]
  },
  {
   "cell_type": "raw",
   "id": "8818ce8a",
   "metadata": {},
   "source": [
    "1. Construct and sketch a joint 95% confidence region for the mean difference vector d using the effluent data and results in Example 6.1. Note that the point d == 0 fals outside the 95% contour. Is this result consistent with the test of H0: d == 0 considered in Example 6.1? Explain. "
   ]
  },
  {
   "cell_type": "markdown",
   "id": "9cfaf0dc",
   "metadata": {
    "ExecuteTime": {
     "end_time": "2022-03-19T17:08:48.724626Z",
     "start_time": "2022-03-19T17:08:46.963Z"
    },
    "heading_collapsed": true
   },
   "source": [
    "## Inputing the Effluent Data :"
   ]
  },
  {
   "cell_type": "code",
   "execution_count": 3,
   "id": "3ac40e1f",
   "metadata": {
    "ExecuteTime": {
     "end_time": "2022-03-19T17:57:05.397875Z",
     "start_time": "2022-03-19T17:57:03.591Z"
    },
    "hidden": true,
    "scrolled": true
   },
   "outputs": [
    {
     "data": {
      "text/html": [
       "<table class=\"dataframe\">\n",
       "<caption>A data.frame: 11 × 4</caption>\n",
       "<thead>\n",
       "\t<tr><th scope=col>BOD_CommercialLab</th><th scope=col>SS_CommercialLab</th><th scope=col>BOD_StateLabofHygiene</th><th scope=col>SS_StateLabofHygiene</th></tr>\n",
       "\t<tr><th scope=col>&lt;dbl&gt;</th><th scope=col>&lt;dbl&gt;</th><th scope=col>&lt;dbl&gt;</th><th scope=col>&lt;dbl&gt;</th></tr>\n",
       "</thead>\n",
       "<tbody>\n",
       "\t<tr><td> 6</td><td> 27</td><td>25</td><td>15</td></tr>\n",
       "\t<tr><td> 6</td><td> 23</td><td>28</td><td>13</td></tr>\n",
       "\t<tr><td>18</td><td> 64</td><td>36</td><td>22</td></tr>\n",
       "\t<tr><td> 8</td><td> 44</td><td>35</td><td>29</td></tr>\n",
       "\t<tr><td>11</td><td> 30</td><td>15</td><td>31</td></tr>\n",
       "\t<tr><td>34</td><td> 75</td><td>44</td><td>64</td></tr>\n",
       "\t<tr><td>28</td><td> 26</td><td>42</td><td>30</td></tr>\n",
       "\t<tr><td>71</td><td>124</td><td>54</td><td>64</td></tr>\n",
       "\t<tr><td>43</td><td> 54</td><td>34</td><td>56</td></tr>\n",
       "\t<tr><td>33</td><td> 30</td><td>29</td><td>20</td></tr>\n",
       "\t<tr><td>20</td><td> 14</td><td>39</td><td>21</td></tr>\n",
       "</tbody>\n",
       "</table>\n"
      ],
      "text/latex": [
       "A data.frame: 11 × 4\n",
       "\\begin{tabular}{llll}\n",
       " BOD\\_CommercialLab & SS\\_CommercialLab & BOD\\_StateLabofHygiene & SS\\_StateLabofHygiene\\\\\n",
       " <dbl> & <dbl> & <dbl> & <dbl>\\\\\n",
       "\\hline\n",
       "\t  6 &  27 & 25 & 15\\\\\n",
       "\t  6 &  23 & 28 & 13\\\\\n",
       "\t 18 &  64 & 36 & 22\\\\\n",
       "\t  8 &  44 & 35 & 29\\\\\n",
       "\t 11 &  30 & 15 & 31\\\\\n",
       "\t 34 &  75 & 44 & 64\\\\\n",
       "\t 28 &  26 & 42 & 30\\\\\n",
       "\t 71 & 124 & 54 & 64\\\\\n",
       "\t 43 &  54 & 34 & 56\\\\\n",
       "\t 33 &  30 & 29 & 20\\\\\n",
       "\t 20 &  14 & 39 & 21\\\\\n",
       "\\end{tabular}\n"
      ],
      "text/markdown": [
       "\n",
       "A data.frame: 11 × 4\n",
       "\n",
       "| BOD_CommercialLab &lt;dbl&gt; | SS_CommercialLab &lt;dbl&gt; | BOD_StateLabofHygiene &lt;dbl&gt; | SS_StateLabofHygiene &lt;dbl&gt; |\n",
       "|---|---|---|---|\n",
       "|  6 |  27 | 25 | 15 |\n",
       "|  6 |  23 | 28 | 13 |\n",
       "| 18 |  64 | 36 | 22 |\n",
       "|  8 |  44 | 35 | 29 |\n",
       "| 11 |  30 | 15 | 31 |\n",
       "| 34 |  75 | 44 | 64 |\n",
       "| 28 |  26 | 42 | 30 |\n",
       "| 71 | 124 | 54 | 64 |\n",
       "| 43 |  54 | 34 | 56 |\n",
       "| 33 |  30 | 29 | 20 |\n",
       "| 20 |  14 | 39 | 21 |\n",
       "\n"
      ],
      "text/plain": [
       "   BOD_CommercialLab SS_CommercialLab BOD_StateLabofHygiene\n",
       "1   6                 27              25                   \n",
       "2   6                 23              28                   \n",
       "3  18                 64              36                   \n",
       "4   8                 44              35                   \n",
       "5  11                 30              15                   \n",
       "6  34                 75              44                   \n",
       "7  28                 26              42                   \n",
       "8  71                124              54                   \n",
       "9  43                 54              34                   \n",
       "10 33                 30              29                   \n",
       "11 20                 14              39                   \n",
       "   SS_StateLabofHygiene\n",
       "1  15                  \n",
       "2  13                  \n",
       "3  22                  \n",
       "4  29                  \n",
       "5  31                  \n",
       "6  64                  \n",
       "7  30                  \n",
       "8  64                  \n",
       "9  56                  \n",
       "10 20                  \n",
       "11 21                  "
      ]
     },
     "metadata": {},
     "output_type": "display_data"
    }
   ],
   "source": [
    "#Data\n",
    "BOD_CommercialLab<-c(6,6,18,8,11,34,28,71,43,33,20)\n",
    "SS_CommercialLab<-c(27,23,64,44,30,75,26,124,54,30,14)\n",
    "BOD_StateLabofHygiene<-c(25,28,36,35,15,44,42,54,34,29,39)\n",
    "SS_StateLabofHygiene<-c(15,13,22,29,31,64,30,64,56,20,21)\n",
    "effluent <- data.frame(BOD_CommercialLab, SS_CommercialLab, BOD_StateLabofHygiene, SS_StateLabofHygiene)\n",
    "effluent"
   ]
  },
  {
   "cell_type": "markdown",
   "id": "060513d0",
   "metadata": {
    "heading_collapsed": true
   },
   "source": [
    "## Displaying the differences of paired observations :"
   ]
  },
  {
   "cell_type": "code",
   "execution_count": 4,
   "id": "ae10ee16",
   "metadata": {
    "ExecuteTime": {
     "end_time": "2022-03-19T17:57:05.496866Z",
     "start_time": "2022-03-19T17:57:03.596Z"
    },
    "hidden": true,
    "scrolled": true
   },
   "outputs": [
    {
     "data": {
      "text/html": [
       "<table class=\"dataframe\">\n",
       "<caption>A data.frame: 11 × 2</caption>\n",
       "<thead>\n",
       "\t<tr><th scope=col>d1</th><th scope=col>d2</th></tr>\n",
       "\t<tr><th scope=col>&lt;dbl&gt;</th><th scope=col>&lt;dbl&gt;</th></tr>\n",
       "</thead>\n",
       "<tbody>\n",
       "\t<tr><td>-19</td><td>12</td></tr>\n",
       "\t<tr><td>-22</td><td>10</td></tr>\n",
       "\t<tr><td>-18</td><td>42</td></tr>\n",
       "\t<tr><td>-27</td><td>15</td></tr>\n",
       "\t<tr><td> -4</td><td>-1</td></tr>\n",
       "\t<tr><td>-10</td><td>11</td></tr>\n",
       "\t<tr><td>-14</td><td>-4</td></tr>\n",
       "\t<tr><td> 17</td><td>60</td></tr>\n",
       "\t<tr><td>  9</td><td>-2</td></tr>\n",
       "\t<tr><td>  4</td><td>10</td></tr>\n",
       "\t<tr><td>-19</td><td>-7</td></tr>\n",
       "</tbody>\n",
       "</table>\n"
      ],
      "text/latex": [
       "A data.frame: 11 × 2\n",
       "\\begin{tabular}{ll}\n",
       " d1 & d2\\\\\n",
       " <dbl> & <dbl>\\\\\n",
       "\\hline\n",
       "\t -19 & 12\\\\\n",
       "\t -22 & 10\\\\\n",
       "\t -18 & 42\\\\\n",
       "\t -27 & 15\\\\\n",
       "\t  -4 & -1\\\\\n",
       "\t -10 & 11\\\\\n",
       "\t -14 & -4\\\\\n",
       "\t  17 & 60\\\\\n",
       "\t   9 & -2\\\\\n",
       "\t   4 & 10\\\\\n",
       "\t -19 & -7\\\\\n",
       "\\end{tabular}\n"
      ],
      "text/markdown": [
       "\n",
       "A data.frame: 11 × 2\n",
       "\n",
       "| d1 &lt;dbl&gt; | d2 &lt;dbl&gt; |\n",
       "|---|---|\n",
       "| -19 | 12 |\n",
       "| -22 | 10 |\n",
       "| -18 | 42 |\n",
       "| -27 | 15 |\n",
       "|  -4 | -1 |\n",
       "| -10 | 11 |\n",
       "| -14 | -4 |\n",
       "|  17 | 60 |\n",
       "|   9 | -2 |\n",
       "|   4 | 10 |\n",
       "| -19 | -7 |\n",
       "\n"
      ],
      "text/plain": [
       "   d1  d2\n",
       "1  -19 12\n",
       "2  -22 10\n",
       "3  -18 42\n",
       "4  -27 15\n",
       "5   -4 -1\n",
       "6  -10 11\n",
       "7  -14 -4\n",
       "8   17 60\n",
       "9    9 -2\n",
       "10   4 10\n",
       "11 -19 -7"
      ]
     },
     "metadata": {},
     "output_type": "display_data"
    }
   ],
   "source": [
    "d1 <- BOD_CommercialLab - BOD_StateLabofHygiene\n",
    "d2 <- SS_CommercialLab - SS_StateLabofHygiene\n",
    "diff_effluent <- data.frame(d1, d2)\n",
    "diff_effluent"
   ]
  },
  {
   "cell_type": "code",
   "execution_count": 5,
   "id": "60540982",
   "metadata": {
    "ExecuteTime": {
     "end_time": "2022-03-19T17:57:05.753844Z",
     "start_time": "2022-03-19T17:57:03.603Z"
    },
    "hidden": true
   },
   "outputs": [
    {
     "data": {
      "image/png": "[encoded data removed]",
      "text/plain": [
       "plot without title"
      ]
     },
     "metadata": {
      "image/png": {
       "height": 420,
       "width": 420
      }
     },
     "output_type": "display_data"
    }
   ],
   "source": [
    "d <- c(0,0)\n",
    "n <- nrow(diff_effluent) \n",
    "p <- ncol(diff_effluent)\n",
    "dbar <- colMeans(diff_effluent) \n",
    "S <- cov(diff_effluent) \n",
    "alpha <- 0.05 \n",
    "tconst <- sqrt((p/n)*((n-1)/(n-p)) * qf(1-alpha,p,n-p)) \n",
    "id <- c(1,2) \n",
    "\n",
    "plot(ellipse(center = dbar[id], shape = S[id,id], radius = tconst, draw = F), type = \"n\", xlab = \"The Differences of Commercial Lab Treatments\", ylab = \"The Differences of State Lab of Hygiene Treatments\") \n",
    "lines(ellipse(center = dbar[id], shape = S[id,id], radius= tconst, lwd = 3), xlab = \"The Differences of Commercial Lab Treatments\", ylab = \"The Differences of State Lab of Hygiene Treatments\") \n",
    "points(d[1], d[2], col = \"red\", pch = 16) \n",
    "text(d[1]+0.5, d[2], expression(d[0])) \n",
    "text(dbar[1]+0.5,dbar[2],expression(bar(d))) "
   ]
  },
  {
   "cell_type": "raw",
   "id": "4803757d",
   "metadata": {
    "hidden": true
   },
   "source": [
    "We can see clearly that d0 = [0,0] is not inside the confidence region, means the null hypothesis H0 : d' = 0 is rejected at 0.05 level of significance. So we can conclude that the result of the Effluent Data with the test H0 : d' = 0 is consistent."
   ]
  },
  {
   "cell_type": "markdown",
   "id": "6df8d914",
   "metadata": {},
   "source": [
    "# Nomor 6.2"
   ]
  },
  {
   "cell_type": "raw",
   "id": "9b3ecccd",
   "metadata": {},
   "source": [
    "2. Using the information in Example 6.1. construct the 95% Bonferroni simultaneous intervals for the components of the mean difference vector d. Compare the lengths of these intervals with those of the simultaneous intervals constructed in the example."
   ]
  },
  {
   "cell_type": "markdown",
   "id": "1ceca48b",
   "metadata": {
    "ExecuteTime": {
     "end_time": "2022-03-19T16:23:53.973102Z",
     "start_time": "2022-03-19T16:23:53.955Z"
    },
    "heading_collapsed": true
   },
   "source": [
    "## Constructing the simultaneous Interval in the example : Using T-square test"
   ]
  },
  {
   "cell_type": "code",
   "execution_count": 6,
   "id": "1384d27e",
   "metadata": {
    "ExecuteTime": {
     "end_time": "2022-03-19T17:57:05.864701Z",
     "start_time": "2022-03-19T17:57:03.640Z"
    },
    "hidden": true
   },
   "outputs": [
    {
     "name": "stdout",
     "output_type": "stream",
     "text": [
      "       One Sample Hotelling T Square Test \n",
      "\n",
      "Hotelling T Sqaure Statistic = 13.63931 \n",
      " F value = 6.138 , df1 = 2 , df2 = 9 , p-value: 0.0208 \n",
      "\n",
      "   \t              Descriptive Statistics\n",
      "\n",
      "             d1       d2\n",
      "N     11.000000 11.00000\n",
      "Means -9.363636 13.27273\n",
      "Sd    14.115755 20.46016\n",
      "\n",
      "\n",
      "  \t            Detection important variable(s)\n",
      "\n",
      "        Lower    Upper Mu0 Important Variables?\n",
      "d1 -22.453272  3.72600   0                FALSE\n",
      "d2  -5.700119 32.24557   0                FALSE\n"
     ]
    }
   ],
   "source": [
    "meand0 <- c(0,0)\n",
    "test_example <- OneSampleHT2(data = diff_effluent, mu0 = meand0, alpha = 0.05)\n",
    "summary(test_example)"
   ]
  },
  {
   "cell_type": "markdown",
   "id": "1a6a3161",
   "metadata": {},
   "source": [
    "## Constructing the Bonferroni simultaneous intervals"
   ]
  },
  {
   "cell_type": "code",
   "execution_count": 7,
   "id": "8ee331fd",
   "metadata": {
    "ExecuteTime": {
     "end_time": "2022-03-19T17:57:05.948985Z",
     "start_time": "2022-03-19T17:57:03.644Z"
    }
   },
   "outputs": [
    {
     "data": {
      "text/html": [
       "2.6337669157116"
      ],
      "text/latex": [
       "2.6337669157116"
      ],
      "text/markdown": [
       "2.6337669157116"
      ],
      "text/plain": [
       "[1] 2.633767"
      ]
     },
     "metadata": {},
     "output_type": "display_data"
    }
   ],
   "source": [
    "## compute the t value ##\n",
    "\n",
    "T_6.2 <- qt(1-(0.05/(2*2)), nrow(effluent)-1)\n",
    "T_6.2"
   ]
  },
  {
   "cell_type": "code",
   "execution_count": 8,
   "id": "b7015c5c",
   "metadata": {
    "ExecuteTime": {
     "end_time": "2022-03-19T17:57:06.055592Z",
     "start_time": "2022-03-19T17:57:03.648Z"
    }
   },
   "outputs": [
    {
     "data": {
      "text/html": [
       "<table class=\"dataframe\">\n",
       "<caption>A matrix: 2 × 2 of type dbl</caption>\n",
       "<thead>\n",
       "\t<tr><th></th><th scope=col>lower_6.2</th><th scope=col>upper_6.2</th></tr>\n",
       "</thead>\n",
       "<tbody>\n",
       "\t<tr><th scope=row>BOB Difference</th><td>-20.573107</td><td> 1.845835</td></tr>\n",
       "\t<tr><th scope=row>SS Difference</th><td> -2.974903</td><td>29.520358</td></tr>\n",
       "</tbody>\n",
       "</table>\n"
      ],
      "text/latex": [
       "A matrix: 2 × 2 of type dbl\n",
       "\\begin{tabular}{r|ll}\n",
       "  & lower\\_6.2 & upper\\_6.2\\\\\n",
       "\\hline\n",
       "\tBOB Difference & -20.573107 &  1.845835\\\\\n",
       "\tSS Difference &  -2.974903 & 29.520358\\\\\n",
       "\\end{tabular}\n"
      ],
      "text/markdown": [
       "\n",
       "A matrix: 2 × 2 of type dbl\n",
       "\n",
       "| <!--/--> | lower_6.2 | upper_6.2 |\n",
       "|---|---|---|\n",
       "| BOB Difference | -20.573107 |  1.845835 |\n",
       "| SS Difference |  -2.974903 | 29.520358 |\n",
       "\n"
      ],
      "text/plain": [
       "               lower_6.2  upper_6.2\n",
       "BOB Difference -20.573107  1.845835\n",
       "SS Difference   -2.974903 29.520358"
      ]
     },
     "metadata": {},
     "output_type": "display_data"
    }
   ],
   "source": [
    "## construct the Bonferroni confidence interval for tail length and wing length ##\n",
    "\n",
    "upper_6.2 <- NULL\n",
    "lower_6.2 <- NULL\n",
    "\n",
    "Bon.ci_6.2 <- function(mean_xd_6.1, Sd_6.1){\n",
    "  for (i in 1:2){\n",
    "  upper_6.2[i] <- dbar[i]+T_6.2*sqrt(S[i,i]/nrow(effluent))\n",
    "  lower_6.2[i] <- dbar[i]-T_6.2*sqrt(S[i,i]/nrow(effluent))\n",
    "  } \n",
    "  tab_6.2 <- cbind(lower_6.2, upper_6.2)\n",
    "  rownames(tab_6.2) <- c('BOB Difference', \"SS Difference\") \n",
    "  tab_6.2\n",
    "}\n",
    "\n",
    "\n",
    "Bon.ci_6.2(mean_xd_6.1, Sd_6.1)"
   ]
  },
  {
   "cell_type": "raw",
   "id": "9bbeb83e",
   "metadata": {},
   "source": [
    "We got a wider confidence intervals by using the simultaneous CI from the example 6.1 (T-square test) instead of using the Bonferroni confidence interval."
   ]
  },
  {
   "cell_type": "markdown",
   "id": "e6ce66d1",
   "metadata": {},
   "source": [
    "# Nomor 6.3"
   ]
  },
  {
   "cell_type": "raw",
   "id": "98bc5d6b",
   "metadata": {},
   "source": [
    "The data corresponding to sample 8 in Table 6.1 seem unusualy large. Remove sample 8. Construct a joint 95% confidence region for the mean difference vector B and the 95% Bonferroni simultaneous intervals for the components of the mean difference vector. Are the results consistent with a test of H0 : B = 0? Discuss. Does the \"outlier\" make a difference in the analysis of these data?"
   ]
  },
  {
   "cell_type": "markdown",
   "id": "acfe7fdd",
   "metadata": {
    "heading_collapsed": true
   },
   "source": [
    "## Remove the 8-th observation"
   ]
  },
  {
   "cell_type": "code",
   "execution_count": 9,
   "id": "8dce3d5c",
   "metadata": {
    "ExecuteTime": {
     "end_time": "2022-03-19T17:57:06.121942Z",
     "start_time": "2022-03-19T17:57:03.695Z"
    },
    "hidden": true
   },
   "outputs": [],
   "source": [
    "effluent.new <- effluent[-8,]\n",
    "effluent.d <- as.matrix(cbind(effluent.new[,1]-effluent.new[,3], effluent.new[,2]-effluent.new[,4]))\n",
    "\n",
    "new_mean_x_d <- apply(effluent.d, 2, mean)\n",
    "new_S_d <- var(effluent.d)"
   ]
  },
  {
   "cell_type": "code",
   "execution_count": 10,
   "id": "cd99c5e4",
   "metadata": {
    "ExecuteTime": {
     "end_time": "2022-03-19T17:57:06.168142Z",
     "start_time": "2022-03-19T17:57:03.699Z"
    },
    "hidden": true
   },
   "outputs": [],
   "source": [
    "diff_effluent.new <- diff_effluent[-8,]"
   ]
  },
  {
   "cell_type": "raw",
   "id": "dd8e3bf6",
   "metadata": {
    "hidden": true
   },
   "source": [
    "effluent.d <- as.matrix(cbind(diff_effluent.new[,1]-diff_effluent.new[,3], diff_effluent.new[,2]-diff_effluent.new[,4]))\n",
    "\n",
    "new_mean_x_d <- apply(effluent.d, 2, mean)\n",
    "new_S_d <- var(effluent.d)"
   ]
  },
  {
   "cell_type": "markdown",
   "id": "6bc9dcdd",
   "metadata": {
    "heading_collapsed": true
   },
   "source": [
    "## Constructing the 95% confidence region with the eliminated dataset"
   ]
  },
  {
   "cell_type": "code",
   "execution_count": 11,
   "id": "9df0e716",
   "metadata": {
    "ExecuteTime": {
     "end_time": "2022-03-19T17:57:06.390285Z",
     "start_time": "2022-03-19T17:57:03.709Z"
    },
    "hidden": true
   },
   "outputs": [
    {
     "data": {
      "image/png": "[encoded data removed]",
      "text/plain": [
       "plot without title"
      ]
     },
     "metadata": {
      "image/png": {
       "height": 420,
       "width": 420
      }
     },
     "output_type": "display_data"
    }
   ],
   "source": [
    "d3 <- c(0,0)\n",
    "n3 <- nrow(diff_effluent.new) \n",
    "p3 <- ncol(diff_effluent.new)\n",
    "dbar3 <- colMeans(diff_effluent.new) \n",
    "S3 <- cov(diff_effluent.new) \n",
    "alpha3 <- 0.05 \n",
    "tconst3 <- sqrt((p3/n3)*((n3-1)/(n3-p3)) * qf(1-alpha3,p3,n3-p3)) \n",
    "id3 <- c(1,2) \n",
    "\n",
    "plot(ellipse(center = dbar3[id3], shape = S3[id3,id3], radius = tconst3, draw = F), type = \"n\", xlab = \"Commercial Lab (Eliminated Data)\", ylab = \"State Lab of Hygiene (Eliminated Data)\", xlim = c(-25,5)) \n",
    "lines(ellipse(center = dbar3[id3], shape = S3[id3,id3], radius= tconst3, lwd = 3), xlab = \"Commercial Lab (Eliminated Data)\", ylab = \"State Lab of Hygiene (Eliminated Data)\") \n",
    "points(d3[1], d3[2], col = \"red\", pch = 16) \n",
    "text(d3[1]+0.5, d3[2], expression(d[0])) \n",
    "text(dbar3[1]+0.5,dbar3[2], expression(bar(d))) "
   ]
  },
  {
   "cell_type": "markdown",
   "id": "ab117a73",
   "metadata": {
    "ExecuteTime": {
     "end_time": "2022-03-19T16:40:11.911281Z",
     "start_time": "2022-03-19T16:40:11.886Z"
    },
    "heading_collapsed": true
   },
   "source": [
    "## Constructing T-square test the simultaneous Interval"
   ]
  },
  {
   "cell_type": "code",
   "execution_count": 12,
   "id": "967780fa",
   "metadata": {
    "ExecuteTime": {
     "end_time": "2022-03-19T17:57:06.441011Z",
     "start_time": "2022-03-19T17:57:03.713Z"
    },
    "hidden": true
   },
   "outputs": [
    {
     "name": "stdout",
     "output_type": "stream",
     "text": [
      "       One Sample Hotelling T Square Test \n",
      "\n",
      "Hotelling T Sqaure Statistic = 11.44652 \n",
      " F value = 5.087 , df1 = 2 , df2 = 8 , p-value: 0.0375 \n",
      "\n",
      "   \t              Descriptive Statistics\n",
      "\n",
      "             d1       d2\n",
      "N      10.00000 10.00000\n",
      "Means -12.00000  8.60000\n",
      "Sd     11.68094 14.08072\n",
      "\n",
      "\n",
      "  \t            Detection important variable(s)\n",
      "\n",
      "        Lower      Upper Mu0 Important Variables?\n",
      "d1 -23.700016 -0.2999837   0               *TRUE*\n",
      "d2  -5.503711 22.7037107   0                FALSE\n"
     ]
    }
   ],
   "source": [
    "meand0 <- c(0,0)\n",
    "effluent.new_test <- OneSampleHT2(data = diff_effluent.new, mu0 = meand0, alpha = 0.05)\n",
    "summary(effluent.new_test)"
   ]
  },
  {
   "cell_type": "code",
   "execution_count": 13,
   "id": "88a10a84",
   "metadata": {
    "ExecuteTime": {
     "end_time": "2022-03-19T17:57:06.507847Z",
     "start_time": "2022-03-19T17:57:03.717Z"
    },
    "hidden": true
   },
   "outputs": [
    {
     "name": "stdout",
     "output_type": "stream",
     "text": [
      "          [,1]\n",
      "[1,] 0.2285178\n"
     ]
    },
    {
     "data": {
      "text/html": [
       "<table class=\"dataframe\">\n",
       "<caption>A matrix: 1 × 1 of type chr</caption>\n",
       "<tbody>\n",
       "\t<tr><td>Fail to Reject</td></tr>\n",
       "</tbody>\n",
       "</table>\n"
      ],
      "text/latex": [
       "A matrix: 1 × 1 of type chr\n",
       "\\begin{tabular}{l}\n",
       "\t Fail to Reject\\\\\n",
       "\\end{tabular}\n"
      ],
      "text/markdown": [
       "\n",
       "A matrix: 1 × 1 of type chr\n",
       "\n",
       "| Fail to Reject |\n",
       "\n"
      ],
      "text/plain": [
       "     [,1]          \n",
       "[1,] Fail to Reject"
      ]
     },
     "metadata": {},
     "output_type": "display_data"
    }
   ],
   "source": [
    "## joint confidence region ##\n",
    "\n",
    "q_6.3 = ncol(new_S_d)\n",
    "   n_6.3 = nrow(effluent.d)\n",
    "   p_6.3 = ncol(effluent)\n",
    "   nullmean = c(0, 0) \n",
    "   d_6.3 = new_mean_x_d-nullmean\n",
    "   t2_6.3 <- n_6.3*t(d_6.3)%*%solve(new_S_d)%*%d_6.3\n",
    "   t2mod_6.3 <- (n_6.3-p_6.3)*t2_6.3/(p_6.3*(n_6.3-1))\n",
    "   pval_6.3 <- 1- pf(t2mod_6.3,p_6.3,n_6.3-p_6.3)\n",
    "   print(pval_6.3)\n",
    "\n",
    "ifelse(pval_6.3<0.05, \"Reject\", \"Fail to Reject\")"
   ]
  },
  {
   "cell_type": "markdown",
   "id": "99146056",
   "metadata": {},
   "source": [
    "## Constructing the Bonferroni simultaneous intervals"
   ]
  },
  {
   "cell_type": "code",
   "execution_count": 14,
   "id": "5faecc7b",
   "metadata": {
    "ExecuteTime": {
     "end_time": "2022-03-19T17:57:06.559427Z",
     "start_time": "2022-03-19T17:57:03.722Z"
    },
    "scrolled": true
   },
   "outputs": [
    {
     "data": {
      "text/html": [
       "2.68501084681646"
      ],
      "text/latex": [
       "2.68501084681646"
      ],
      "text/markdown": [
       "2.68501084681646"
      ],
      "text/plain": [
       "[1] 2.685011"
      ]
     },
     "metadata": {},
     "output_type": "display_data"
    }
   ],
   "source": [
    "upper_6.3 <- NULL\n",
    "lower_6.3 <- NULL\n",
    "T_6.3 <- qt(1-(0.05/(2*2)), nrow(effluent.d)-1)\n",
    "T_6.3"
   ]
  },
  {
   "cell_type": "code",
   "execution_count": 15,
   "id": "6e7aafb9",
   "metadata": {
    "ExecuteTime": {
     "end_time": "2022-03-19T17:57:06.635772Z",
     "start_time": "2022-03-19T17:57:03.727Z"
    }
   },
   "outputs": [
    {
     "data": {
      "text/html": [
       "<table class=\"dataframe\">\n",
       "<caption>A matrix: 2 × 2 of type dbl</caption>\n",
       "<thead>\n",
       "\t<tr><th></th><th scope=col>lower_6.3</th><th scope=col>upper_6.3</th></tr>\n",
       "</thead>\n",
       "<tbody>\n",
       "\t<tr><th scope=row>BOB Difference</th><td>-21.917997</td><td>-2.082003</td></tr>\n",
       "\t<tr><th scope=row>SS Difference</th><td> -3.355587</td><td>20.555587</td></tr>\n",
       "</tbody>\n",
       "</table>\n"
      ],
      "text/latex": [
       "A matrix: 2 × 2 of type dbl\n",
       "\\begin{tabular}{r|ll}\n",
       "  & lower\\_6.3 & upper\\_6.3\\\\\n",
       "\\hline\n",
       "\tBOB Difference & -21.917997 & -2.082003\\\\\n",
       "\tSS Difference &  -3.355587 & 20.555587\\\\\n",
       "\\end{tabular}\n"
      ],
      "text/markdown": [
       "\n",
       "A matrix: 2 × 2 of type dbl\n",
       "\n",
       "| <!--/--> | lower_6.3 | upper_6.3 |\n",
       "|---|---|---|\n",
       "| BOB Difference | -21.917997 | -2.082003 |\n",
       "| SS Difference |  -3.355587 | 20.555587 |\n",
       "\n"
      ],
      "text/plain": [
       "               lower_6.3  upper_6.3\n",
       "BOB Difference -21.917997 -2.082003\n",
       "SS Difference   -3.355587 20.555587"
      ]
     },
     "metadata": {},
     "output_type": "display_data"
    }
   ],
   "source": [
    "Bon.ci_6.3 <- function(new_mean_x_d, new_S_d){\n",
    "  for (i in 1:2){\n",
    "  upper_6.3[i] <- new_mean_x_d[i]+T_6.3*sqrt(new_S_d[i,i]/nrow(effluent.d))\n",
    "  lower_6.3[i] <- new_mean_x_d[i]-T_6.3*sqrt(new_S_d[i,i]/nrow(effluent.d))\n",
    "  } \n",
    "  tab_6.3 <- cbind(lower_6.3,upper_6.3)\n",
    "  rownames(tab_6.3) <- c('BOB Difference', \"SS Difference\") \n",
    "  tab_6.3\n",
    "}\n",
    "\n",
    "\n",
    "Bon.ci_6.3(new_mean_x_d, new_S_d)"
   ]
  },
  {
   "cell_type": "raw",
   "id": "69151207",
   "metadata": {},
   "source": [
    "By using the eliminated data (removing sample 8), we still have the same conslusion -- that d0 = [0,0] is not inside the confidence region, means the null hypothesis H0 : d' = 0 is rejected at 0.05 level of significance, both with T-square and Bonferrroni test. So we can conclude that the result of the eliminated Effluent Data with the test H0 : d' = 0 is consistent. But the removal of the sample 8 (apparently was an outlier) has evidencing more of the rejection point of the null hypothesis than the original data."
   ]
  },
  {
   "cell_type": "markdown",
   "id": "c97dd7c8",
   "metadata": {},
   "source": [
    "# Nomor 6.4"
   ]
  },
  {
   "cell_type": "raw",
   "id": "779fbfaf",
   "metadata": {},
   "source": [
    "Refer to Example 6.1.\n",
    "\n",
    "1.  Redo the analysis in Example 6.1. after transforming the pairs of observations to ln(BOD) and ln(SS)."
   ]
  },
  {
   "cell_type": "markdown",
   "id": "88ccc48b",
   "metadata": {},
   "source": [
    "## Transforming variables the Effluent Data with Ln Transformation"
   ]
  },
  {
   "cell_type": "code",
   "execution_count": 16,
   "id": "006d07c4",
   "metadata": {
    "ExecuteTime": {
     "end_time": "2022-03-19T17:57:06.715266Z",
     "start_time": "2022-03-19T17:57:03.784Z"
    }
   },
   "outputs": [
    {
     "data": {
      "text/html": [
       "<table class=\"dataframe\">\n",
       "<caption>A data.frame: 11 × 4</caption>\n",
       "<thead>\n",
       "\t<tr><th scope=col>Ln_BOD_CommercialLab</th><th scope=col>Ln_SS_CommercialLab</th><th scope=col>Ln_BOD_StateLabofHygiene</th><th scope=col>Ln_SS_StateLabofHygiene</th></tr>\n",
       "\t<tr><th scope=col>&lt;dbl&gt;</th><th scope=col>&lt;dbl&gt;</th><th scope=col>&lt;dbl&gt;</th><th scope=col>&lt;dbl&gt;</th></tr>\n",
       "</thead>\n",
       "<tbody>\n",
       "\t<tr><td>1.791759</td><td>3.295837</td><td>3.218876</td><td>2.708050</td></tr>\n",
       "\t<tr><td>1.791759</td><td>3.135494</td><td>3.332205</td><td>2.564949</td></tr>\n",
       "\t<tr><td>2.890372</td><td>4.158883</td><td>3.583519</td><td>3.091042</td></tr>\n",
       "\t<tr><td>2.079442</td><td>3.784190</td><td>3.555348</td><td>3.367296</td></tr>\n",
       "\t<tr><td>2.397895</td><td>3.401197</td><td>2.708050</td><td>3.433987</td></tr>\n",
       "\t<tr><td>3.526361</td><td>4.317488</td><td>3.784190</td><td>4.158883</td></tr>\n",
       "\t<tr><td>3.332205</td><td>3.258097</td><td>3.737670</td><td>3.401197</td></tr>\n",
       "\t<tr><td>4.262680</td><td>4.820282</td><td>3.988984</td><td>4.158883</td></tr>\n",
       "\t<tr><td>3.761200</td><td>3.988984</td><td>3.526361</td><td>4.025352</td></tr>\n",
       "\t<tr><td>3.496508</td><td>3.401197</td><td>3.367296</td><td>2.995732</td></tr>\n",
       "\t<tr><td>2.995732</td><td>2.639057</td><td>3.663562</td><td>3.044522</td></tr>\n",
       "</tbody>\n",
       "</table>\n"
      ],
      "text/latex": [
       "A data.frame: 11 × 4\n",
       "\\begin{tabular}{llll}\n",
       " Ln\\_BOD\\_CommercialLab & Ln\\_SS\\_CommercialLab & Ln\\_BOD\\_StateLabofHygiene & Ln\\_SS\\_StateLabofHygiene\\\\\n",
       " <dbl> & <dbl> & <dbl> & <dbl>\\\\\n",
       "\\hline\n",
       "\t 1.791759 & 3.295837 & 3.218876 & 2.708050\\\\\n",
       "\t 1.791759 & 3.135494 & 3.332205 & 2.564949\\\\\n",
       "\t 2.890372 & 4.158883 & 3.583519 & 3.091042\\\\\n",
       "\t 2.079442 & 3.784190 & 3.555348 & 3.367296\\\\\n",
       "\t 2.397895 & 3.401197 & 2.708050 & 3.433987\\\\\n",
       "\t 3.526361 & 4.317488 & 3.784190 & 4.158883\\\\\n",
       "\t 3.332205 & 3.258097 & 3.737670 & 3.401197\\\\\n",
       "\t 4.262680 & 4.820282 & 3.988984 & 4.158883\\\\\n",
       "\t 3.761200 & 3.988984 & 3.526361 & 4.025352\\\\\n",
       "\t 3.496508 & 3.401197 & 3.367296 & 2.995732\\\\\n",
       "\t 2.995732 & 2.639057 & 3.663562 & 3.044522\\\\\n",
       "\\end{tabular}\n"
      ],
      "text/markdown": [
       "\n",
       "A data.frame: 11 × 4\n",
       "\n",
       "| Ln_BOD_CommercialLab &lt;dbl&gt; | Ln_SS_CommercialLab &lt;dbl&gt; | Ln_BOD_StateLabofHygiene &lt;dbl&gt; | Ln_SS_StateLabofHygiene &lt;dbl&gt; |\n",
       "|---|---|---|---|\n",
       "| 1.791759 | 3.295837 | 3.218876 | 2.708050 |\n",
       "| 1.791759 | 3.135494 | 3.332205 | 2.564949 |\n",
       "| 2.890372 | 4.158883 | 3.583519 | 3.091042 |\n",
       "| 2.079442 | 3.784190 | 3.555348 | 3.367296 |\n",
       "| 2.397895 | 3.401197 | 2.708050 | 3.433987 |\n",
       "| 3.526361 | 4.317488 | 3.784190 | 4.158883 |\n",
       "| 3.332205 | 3.258097 | 3.737670 | 3.401197 |\n",
       "| 4.262680 | 4.820282 | 3.988984 | 4.158883 |\n",
       "| 3.761200 | 3.988984 | 3.526361 | 4.025352 |\n",
       "| 3.496508 | 3.401197 | 3.367296 | 2.995732 |\n",
       "| 2.995732 | 2.639057 | 3.663562 | 3.044522 |\n",
       "\n"
      ],
      "text/plain": [
       "   Ln_BOD_CommercialLab Ln_SS_CommercialLab Ln_BOD_StateLabofHygiene\n",
       "1  1.791759             3.295837            3.218876                \n",
       "2  1.791759             3.135494            3.332205                \n",
       "3  2.890372             4.158883            3.583519                \n",
       "4  2.079442             3.784190            3.555348                \n",
       "5  2.397895             3.401197            2.708050                \n",
       "6  3.526361             4.317488            3.784190                \n",
       "7  3.332205             3.258097            3.737670                \n",
       "8  4.262680             4.820282            3.988984                \n",
       "9  3.761200             3.988984            3.526361                \n",
       "10 3.496508             3.401197            3.367296                \n",
       "11 2.995732             2.639057            3.663562                \n",
       "   Ln_SS_StateLabofHygiene\n",
       "1  2.708050               \n",
       "2  2.564949               \n",
       "3  3.091042               \n",
       "4  3.367296               \n",
       "5  3.433987               \n",
       "6  4.158883               \n",
       "7  3.401197               \n",
       "8  4.158883               \n",
       "9  4.025352               \n",
       "10 2.995732               \n",
       "11 3.044522               "
      ]
     },
     "metadata": {},
     "output_type": "display_data"
    }
   ],
   "source": [
    "Ln_BOD_CommercialLab <- ln(BOD_CommercialLab)\n",
    "Ln_SS_CommercialLab <- ln(SS_CommercialLab)\n",
    "Ln_BOD_StateLabofHygiene <- ln(BOD_StateLabofHygiene)\n",
    "Ln_SS_StateLabofHygiene <- ln(SS_StateLabofHygiene)\n",
    "Ln_effluent <- data.frame(Ln_BOD_CommercialLab, Ln_SS_CommercialLab, Ln_BOD_StateLabofHygiene, Ln_SS_StateLabofHygiene)\n",
    "Ln_effluent"
   ]
  },
  {
   "cell_type": "code",
   "execution_count": 17,
   "id": "08ba90e7",
   "metadata": {
    "ExecuteTime": {
     "end_time": "2022-03-19T17:57:06.761522Z",
     "start_time": "2022-03-19T17:57:03.791Z"
    }
   },
   "outputs": [],
   "source": [
    "effluent.dLn <- as.matrix(cbind(Ln_effluent[,1]-Ln_effluent[,3], Ln_effluent[,2]-Ln_effluent[,4]))\n",
    "\n",
    "new_mean_x_dLn <- apply(effluent.dLn, 2, mean)\n",
    "new_S_dLn <- var(effluent.dLn)"
   ]
  },
  {
   "cell_type": "markdown",
   "id": "73c7652c",
   "metadata": {
    "heading_collapsed": true
   },
   "source": [
    "## Displaying the differences of paired observations :"
   ]
  },
  {
   "cell_type": "code",
   "execution_count": 18,
   "id": "60184def",
   "metadata": {
    "ExecuteTime": {
     "end_time": "2022-03-19T17:57:06.836270Z",
     "start_time": "2022-03-19T17:57:03.797Z"
    },
    "hidden": true
   },
   "outputs": [
    {
     "data": {
      "text/html": [
       "<table class=\"dataframe\">\n",
       "<caption>A data.frame: 11 × 2</caption>\n",
       "<thead>\n",
       "\t<tr><th scope=col>Ln_d1</th><th scope=col>Ln_d2</th></tr>\n",
       "\t<tr><th scope=col>&lt;dbl&gt;</th><th scope=col>&lt;dbl&gt;</th></tr>\n",
       "</thead>\n",
       "<tbody>\n",
       "\t<tr><td>-1.4271164</td><td> 0.58778666</td></tr>\n",
       "\t<tr><td>-1.5404450</td><td> 0.57054486</td></tr>\n",
       "\t<tr><td>-0.6931472</td><td> 1.06784063</td></tr>\n",
       "\t<tr><td>-1.4759065</td><td> 0.41689380</td></tr>\n",
       "\t<tr><td>-0.3101549</td><td>-0.03278982</td></tr>\n",
       "\t<tr><td>-0.2578291</td><td> 0.15860503</td></tr>\n",
       "\t<tr><td>-0.4054651</td><td>-0.14310084</td></tr>\n",
       "\t<tr><td> 0.2736958</td><td> 0.66139848</td></tr>\n",
       "\t<tr><td> 0.2348396</td><td>-0.03636764</td></tr>\n",
       "\t<tr><td> 0.1292117</td><td> 0.40546511</td></tr>\n",
       "\t<tr><td>-0.6678294</td><td>-0.40546511</td></tr>\n",
       "</tbody>\n",
       "</table>\n"
      ],
      "text/latex": [
       "A data.frame: 11 × 2\n",
       "\\begin{tabular}{ll}\n",
       " Ln\\_d1 & Ln\\_d2\\\\\n",
       " <dbl> & <dbl>\\\\\n",
       "\\hline\n",
       "\t -1.4271164 &  0.58778666\\\\\n",
       "\t -1.5404450 &  0.57054486\\\\\n",
       "\t -0.6931472 &  1.06784063\\\\\n",
       "\t -1.4759065 &  0.41689380\\\\\n",
       "\t -0.3101549 & -0.03278982\\\\\n",
       "\t -0.2578291 &  0.15860503\\\\\n",
       "\t -0.4054651 & -0.14310084\\\\\n",
       "\t  0.2736958 &  0.66139848\\\\\n",
       "\t  0.2348396 & -0.03636764\\\\\n",
       "\t  0.1292117 &  0.40546511\\\\\n",
       "\t -0.6678294 & -0.40546511\\\\\n",
       "\\end{tabular}\n"
      ],
      "text/markdown": [
       "\n",
       "A data.frame: 11 × 2\n",
       "\n",
       "| Ln_d1 &lt;dbl&gt; | Ln_d2 &lt;dbl&gt; |\n",
       "|---|---|\n",
       "| -1.4271164 |  0.58778666 |\n",
       "| -1.5404450 |  0.57054486 |\n",
       "| -0.6931472 |  1.06784063 |\n",
       "| -1.4759065 |  0.41689380 |\n",
       "| -0.3101549 | -0.03278982 |\n",
       "| -0.2578291 |  0.15860503 |\n",
       "| -0.4054651 | -0.14310084 |\n",
       "|  0.2736958 |  0.66139848 |\n",
       "|  0.2348396 | -0.03636764 |\n",
       "|  0.1292117 |  0.40546511 |\n",
       "| -0.6678294 | -0.40546511 |\n",
       "\n"
      ],
      "text/plain": [
       "   Ln_d1      Ln_d2      \n",
       "1  -1.4271164  0.58778666\n",
       "2  -1.5404450  0.57054486\n",
       "3  -0.6931472  1.06784063\n",
       "4  -1.4759065  0.41689380\n",
       "5  -0.3101549 -0.03278982\n",
       "6  -0.2578291  0.15860503\n",
       "7  -0.4054651 -0.14310084\n",
       "8   0.2736958  0.66139848\n",
       "9   0.2348396 -0.03636764\n",
       "10  0.1292117  0.40546511\n",
       "11 -0.6678294 -0.40546511"
      ]
     },
     "metadata": {},
     "output_type": "display_data"
    }
   ],
   "source": [
    "Ln_d1 <- Ln_BOD_CommercialLab - Ln_BOD_StateLabofHygiene\n",
    "Ln_d2 <- Ln_SS_CommercialLab - Ln_SS_StateLabofHygiene\n",
    "dLn_effluent <- data.frame(Ln_d1, Ln_d2)\n",
    "dLn_effluent"
   ]
  },
  {
   "cell_type": "markdown",
   "id": "e49dc71b",
   "metadata": {
    "heading_collapsed": true
   },
   "source": [
    "## Constructing the simultaneous Interval in the example : Using T-square test"
   ]
  },
  {
   "cell_type": "code",
   "execution_count": 19,
   "id": "cab857ed",
   "metadata": {
    "ExecuteTime": {
     "end_time": "2022-03-19T17:57:06.898156Z",
     "start_time": "2022-03-19T17:57:03.802Z"
    },
    "hidden": true
   },
   "outputs": [
    {
     "name": "stdout",
     "output_type": "stream",
     "text": [
      "       One Sample Hotelling T Square Test \n",
      "\n",
      "Hotelling T Sqaure Statistic = 10.21541 \n",
      " F value = 4.597 , df1 = 2 , df2 = 9 , p-value: 0.0421 \n",
      "\n",
      "   \t              Descriptive Statistics\n",
      "\n",
      "           Ln_d1      Ln_d2\n",
      "N     11.0000000 11.0000000\n",
      "Means -0.5581951  0.2955283\n",
      "Sd     0.6753377  0.4287977\n",
      "\n",
      "\n",
      "  \t            Detection important variable(s)\n",
      "\n",
      "           Lower     Upper Mu0 Important Variables?\n",
      "Ln_d1 -1.1844404 0.0680501   0                FALSE\n",
      "Ln_d2 -0.1020988 0.6931554   0                FALSE\n"
     ]
    }
   ],
   "source": [
    "meand0 <- c(0,0)\n",
    "test_ln <- OneSampleHT2(data = dLn_effluent, mu0 = meand0, alpha = 0.05)\n",
    "summary(test_ln)"
   ]
  },
  {
   "cell_type": "markdown",
   "id": "b6add24f",
   "metadata": {
    "ExecuteTime": {
     "end_time": "2022-03-19T17:33:01.856415Z",
     "start_time": "2022-03-19T17:33:01.816Z"
    },
    "heading_collapsed": true
   },
   "source": [
    "## Constructing the 95% confidence region with the eliminated dataset"
   ]
  },
  {
   "cell_type": "code",
   "execution_count": 20,
   "id": "beee3037",
   "metadata": {
    "ExecuteTime": {
     "end_time": "2022-03-19T17:57:07.100483Z",
     "start_time": "2022-03-19T17:57:03.807Z"
    },
    "hidden": true
   },
   "outputs": [
    {
     "data": {
      "image/png": "[encoded data removed]",
      "text/plain": [
       "plot without title"
      ]
     },
     "metadata": {
      "image/png": {
       "height": 420,
       "width": 420
      }
     },
     "output_type": "display_data"
    }
   ],
   "source": [
    "d4 <- c(0,0)\n",
    "n4 <- nrow(dLn_effluent) \n",
    "p4 <- ncol(dLn_effluent)\n",
    "dbar4 <- colMeans(dLn_effluent) \n",
    "S4 <- cov(dLn_effluent) \n",
    "alpha4 <- 0.05 \n",
    "tconst4 <- sqrt((p4/n4)*((n4-1)/(n4-p4)) * qf(1-alpha4,p4,n4-p4)) \n",
    "id4 <- c(1,2) \n",
    "\n",
    "plot(ellipse(center = dbar4[id4], shape = S4[id4,id4], radius = tconst4, draw = F), type = \"n\", xlab = \"Commercial Lab (Transformed Data)\", ylab = \"State Lab of Hygiene (Transformed Data)\") \n",
    "lines(ellipse(center = dbar4[id4], shape = S4[id4,id4], radius= tconst4, lwd = 3), xlab = \"Commercial Lab (Transformed Data)\", ylab = \"State Lab of Hygiene (Transformed Data)\") \n",
    "points(d4[1], d4[2], col = \"red\", pch = 16) \n",
    "text(d4[1]+0.025, d4[2], expression(d[0])) \n",
    "text(dbar4[1]+0.025,dbar4[2], expression(bar(d))) "
   ]
  },
  {
   "cell_type": "raw",
   "id": "5c22789c",
   "metadata": {
    "hidden": true
   },
   "source": [
    "Since we got a p-value with 0.0421 which is less than 0.05 level of significance, also from the ellipse plot we clearly can say that the d0 = [0,0] is not inside the confidence region, thus we have an evidence to reject the null hypothesis H0 : d = 0. And we still conclude that the transformed Effluent Data is consistent, and the mean of differences between measurements of treatments from the two laboratories is consistent."
   ]
  },
  {
   "cell_type": "raw",
   "id": "cb275b40",
   "metadata": {
    "ExecuteTime": {
     "end_time": "2022-03-19T17:30:44.549223Z",
     "start_time": "2022-03-19T17:30:44.470Z"
    },
    "hidden": true
   },
   "source": [
    "#Transform the variabel\n",
    "    ln_BOD1<-log(BOD_CommercialLab)\n",
    "    ln_BOD2<-log(SS_CommercialLab)\n",
    "    ln_SS1<-log(BOD_StateLabofHygiene)\n",
    "    ln_SS2<-log(SS_StateLabofHygiene)\n",
    "    #Find the differences\n",
    "    d1<-ln_BOD1-ln_BOD2\n",
    "    d2<-ln_SS1-ln_SS2\n",
    "    d_trans<-data.frame(d1,d2)\n",
    "    print(d_trans)"
   ]
  },
  {
   "cell_type": "raw",
   "id": "83f15906",
   "metadata": {
    "ExecuteTime": {
     "end_time": "2022-03-19T17:34:57.652107Z",
     "start_time": "2022-03-19T17:34:57.598Z"
    },
    "hidden": true
   },
   "source": [
    "    #Find the mean vector sample\n",
    "    meand_trans<-colMeans(d_trans)\n",
    "    print(meand_trans)\n",
    "    #Find the covarians-varians sample\n",
    "    sd_trans<-cov(d_trans)\n",
    "    print(sd_trans)"
   ]
  },
  {
   "cell_type": "markdown",
   "id": "e2305cf7",
   "metadata": {
    "heading_collapsed": true
   },
   "source": [
    "## Construct the 95% Bonferroni simultaneous intervals for the components of the mean vector d of transformed variables. "
   ]
  },
  {
   "cell_type": "code",
   "execution_count": 21,
   "id": "0d282809",
   "metadata": {
    "ExecuteTime": {
     "end_time": "2022-03-19T17:57:07.165777Z",
     "start_time": "2022-03-19T17:57:03.853Z"
    },
    "hidden": true,
    "scrolled": true
   },
   "outputs": [
    {
     "data": {
      "text/html": [
       "2.6337669157116"
      ],
      "text/latex": [
       "2.6337669157116"
      ],
      "text/markdown": [
       "2.6337669157116"
      ],
      "text/plain": [
       "[1] 2.633767"
      ]
     },
     "metadata": {},
     "output_type": "display_data"
    }
   ],
   "source": [
    "upper_6.4 <- NULL\n",
    "lower_6.4 <- NULL\n",
    "T_6.4 <- qt(1-(0.05/(2*2)), nrow(effluent.dLn)-1)\n",
    "T_6.4"
   ]
  },
  {
   "cell_type": "code",
   "execution_count": 22,
   "id": "501cd331",
   "metadata": {
    "ExecuteTime": {
     "end_time": "2022-03-19T17:57:07.247539Z",
     "start_time": "2022-03-19T17:57:03.860Z"
    },
    "hidden": true
   },
   "outputs": [
    {
     "data": {
      "text/html": [
       "<table class=\"dataframe\">\n",
       "<caption>A matrix: 2 × 2 of type dbl</caption>\n",
       "<thead>\n",
       "\t<tr><th></th><th scope=col>lower_6.4</th><th scope=col>upper_6.4</th></tr>\n",
       "</thead>\n",
       "<tbody>\n",
       "\t<tr><th scope=row>BOB Difference</th><td>-1.09448795</td><td>-0.02190232</td></tr>\n",
       "\t<tr><th scope=row>SS Difference</th><td>-0.04498455</td><td> 0.63604112</td></tr>\n",
       "</tbody>\n",
       "</table>\n"
      ],
      "text/latex": [
       "A matrix: 2 × 2 of type dbl\n",
       "\\begin{tabular}{r|ll}\n",
       "  & lower\\_6.4 & upper\\_6.4\\\\\n",
       "\\hline\n",
       "\tBOB Difference & -1.09448795 & -0.02190232\\\\\n",
       "\tSS Difference & -0.04498455 &  0.63604112\\\\\n",
       "\\end{tabular}\n"
      ],
      "text/markdown": [
       "\n",
       "A matrix: 2 × 2 of type dbl\n",
       "\n",
       "| <!--/--> | lower_6.4 | upper_6.4 |\n",
       "|---|---|---|\n",
       "| BOB Difference | -1.09448795 | -0.02190232 |\n",
       "| SS Difference | -0.04498455 |  0.63604112 |\n",
       "\n"
      ],
      "text/plain": [
       "               lower_6.4   upper_6.4  \n",
       "BOB Difference -1.09448795 -0.02190232\n",
       "SS Difference  -0.04498455  0.63604112"
      ]
     },
     "metadata": {},
     "output_type": "display_data"
    }
   ],
   "source": [
    "Bon.ci_6.4 <- function(new_mean_x_dLn, new_S_dLn){\n",
    "  for (i in 1:2){\n",
    "  upper_6.4[i] <- new_mean_x_dLn[i]+T_6.4*sqrt(new_S_dLn[i,i]/nrow(effluent.dLn))\n",
    "  lower_6.4[i] <- new_mean_x_dLn[i]-T_6.4*sqrt(new_S_dLn[i,i]/nrow(effluent.dLn))\n",
    "  } \n",
    "  tab_6.4 <- cbind(lower_6.4,upper_6.4)\n",
    "  rownames(tab_6.4) <- c('BOB Difference', \"SS Difference\") \n",
    "  tab_6.4\n",
    "}\n",
    "\n",
    "\n",
    "Bon.ci_6.4(new_mean_x_dLn, new_S_dLn)"
   ]
  },
  {
   "cell_type": "raw",
   "id": "79f1a341",
   "metadata": {
    "hidden": true
   },
   "source": [
    "We still got a wider confidence intervals by using the simultaneous CI by using T-square test instead of using the Bonferroni confidence interval."
   ]
  },
  {
   "cell_type": "markdown",
   "id": "7e5280e0",
   "metadata": {},
   "source": [
    "## Discuss any possible violation of the assumption of a bivariate normal distribution for the difference vector of transformed observation."
   ]
  },
  {
   "cell_type": "markdown",
   "id": "1e61909c",
   "metadata": {
    "heading_collapsed": true
   },
   "source": [
    "### Observing the QQ-Plot for each difference variables of the Effluent Data"
   ]
  },
  {
   "cell_type": "code",
   "execution_count": 23,
   "id": "64fcf861",
   "metadata": {
    "ExecuteTime": {
     "end_time": "2022-03-19T17:57:07.427968Z",
     "start_time": "2022-03-19T17:57:03.900Z"
    },
    "hidden": true
   },
   "outputs": [
    {
     "data": {
      "text/html": [
       "<dl>\n",
       "\t<dt>$Ln_d1</dt>\n",
       "\t\t<dd>NULL</dd>\n",
       "\t<dt>$Ln_d2</dt>\n",
       "\t\t<dd>NULL</dd>\n",
       "</dl>\n"
      ],
      "text/latex": [
       "\\begin{description}\n",
       "\\item[\\$Ln\\_d1] NULL\n",
       "\\item[\\$Ln\\_d2] NULL\n",
       "\\end{description}\n"
      ],
      "text/markdown": [
       "$Ln_d1\n",
       ":   NULL\n",
       "$Ln_d2\n",
       ":   NULL\n",
       "\n",
       "\n"
      ],
      "text/plain": [
       "$Ln_d1\n",
       "NULL\n",
       "\n",
       "$Ln_d2\n",
       "NULL\n"
      ]
     },
     "metadata": {},
     "output_type": "display_data"
    },
    {
     "data": {
      "image/png": "[encoded data removed]",
      "text/plain": [
       "Plot with title \"Ln_d2\""
      ]
     },
     "metadata": {
      "image/png": {
       "height": 420,
       "width": 420
      }
     },
     "output_type": "display_data"
    }
   ],
   "source": [
    "layout(matrix(1:2, nc = 2)) \n",
    "sapply(colnames(dLn_effluent), function(x) { \n",
    "  qqnorm(dLn_effluent[[x]], main = x)\n",
    "  qqline(dLn_effluent[[x]]) })"
   ]
  },
  {
   "cell_type": "markdown",
   "id": "303a9ad9",
   "metadata": {
    "heading_collapsed": true
   },
   "source": [
    "### Observing the Bivariate Scatter Plot of the Effluent Data"
   ]
  },
  {
   "cell_type": "code",
   "execution_count": 24,
   "id": "b55890a8",
   "metadata": {
    "ExecuteTime": {
     "end_time": "2022-03-19T17:57:07.588356Z",
     "start_time": "2022-03-19T17:57:04.010Z"
    },
    "hidden": true,
    "scrolled": false
   },
   "outputs": [
    {
     "data": {
      "image/png": "[encoded data removed]",
      "text/plain": [
       "plot without title"
      ]
     },
     "metadata": {
      "image/png": {
       "height": 420,
       "width": 420
      }
     },
     "output_type": "display_data"
    }
   ],
   "source": [
    "pairs(dLn_effluent, \n",
    "      panel = function (x, y, ...) { \n",
    "        points(x, y, ...) \n",
    "        abline(lm(y ~ x), col = \"grey\") }, \n",
    "      pch = \".\", cex = 7)"
   ]
  },
  {
   "cell_type": "markdown",
   "id": "729f386e",
   "metadata": {
    "heading_collapsed": true
   },
   "source": [
    "### Observing the Chi-Square Plot of the Effluent Data"
   ]
  },
  {
   "cell_type": "code",
   "execution_count": 25,
   "id": "54ce1653",
   "metadata": {
    "ExecuteTime": {
     "end_time": "2022-03-19T17:57:07.762402Z",
     "start_time": "2022-03-19T17:57:04.074Z"
    },
    "hidden": true
   },
   "outputs": [
    {
     "data": {
      "text/plain": [
       "$multivariateOutliers\n",
       "NULL\n"
      ]
     },
     "metadata": {},
     "output_type": "display_data"
    },
    {
     "data": {
      "image/png": "[encoded data removed]",
      "text/plain": [
       "Plot with title \"Chi-Square Q-Q Plot\""
      ]
     },
     "metadata": {
      "image/png": {
       "height": 420,
       "width": 420
      }
     },
     "output_type": "display_data"
    }
   ],
   "source": [
    "mvn(dLn_effluent, multivariatePlot = \"qq\", showOutliers = TRUE)[4]"
   ]
  },
  {
   "cell_type": "markdown",
   "id": "b3338b7f",
   "metadata": {},
   "source": [
    "### Testing the marginal normality of multivariate data by MVN test"
   ]
  },
  {
   "cell_type": "code",
   "execution_count": 26,
   "id": "f5205166",
   "metadata": {
    "ExecuteTime": {
     "end_time": "2022-03-19T17:57:07.838845Z",
     "start_time": "2022-03-19T17:57:04.141Z"
    }
   },
   "outputs": [
    {
     "data": {
      "text/html": [
       "<dl>\n",
       "\t<dt>$multivariateNormality</dt>\n",
       "\t\t<dd><table class=\"dataframe\">\n",
       "<caption>A data.frame: 1 × 4</caption>\n",
       "<thead>\n",
       "\t<tr><th scope=col>Test</th><th scope=col>HZ</th><th scope=col>p value</th><th scope=col>MVN</th></tr>\n",
       "\t<tr><th scope=col>&lt;chr&gt;</th><th scope=col>&lt;dbl&gt;</th><th scope=col>&lt;dbl&gt;</th><th scope=col>&lt;chr&gt;</th></tr>\n",
       "</thead>\n",
       "<tbody>\n",
       "\t<tr><td>Henze-Zirkler</td><td>0.4805169</td><td>0.1701703</td><td>YES</td></tr>\n",
       "</tbody>\n",
       "</table>\n",
       "</dd>\n",
       "\t<dt>$univariateNormality</dt>\n",
       "\t\t<dd><table class=\"dataframe\">\n",
       "<caption>A data.frame: 2 × 5</caption>\n",
       "<thead>\n",
       "\t<tr><th></th><th scope=col>Test</th><th scope=col>Variable</th><th scope=col>Statistic</th><th scope=col>p value</th><th scope=col>Normality</th></tr>\n",
       "\t<tr><th></th><th scope=col>&lt;I&lt;chr&gt;&gt;</th><th scope=col>&lt;I&lt;chr&gt;&gt;</th><th scope=col>&lt;I&lt;chr&gt;&gt;</th><th scope=col>&lt;I&lt;chr&gt;&gt;</th><th scope=col>&lt;I&lt;chr&gt;&gt;</th></tr>\n",
       "</thead>\n",
       "<tbody>\n",
       "\t<tr><th scope=row>1</th><td>Anderson-Darling</td><td>  Ln_d1  </td><td>   0.4334</td><td>   0.2457</td><td>   YES   </td></tr>\n",
       "\t<tr><th scope=row>2</th><td>Anderson-Darling</td><td>  Ln_d2  </td><td>   0.2185</td><td>   0.7846</td><td>   YES   </td></tr>\n",
       "</tbody>\n",
       "</table>\n",
       "</dd>\n",
       "\t<dt>$Descriptives</dt>\n",
       "\t\t<dd><table class=\"dataframe\">\n",
       "<caption>A data.frame: 2 × 10</caption>\n",
       "<thead>\n",
       "\t<tr><th></th><th scope=col>n</th><th scope=col>Mean</th><th scope=col>Std.Dev</th><th scope=col>Median</th><th scope=col>Min</th><th scope=col>Max</th><th scope=col>25th</th><th scope=col>75th</th><th scope=col>Skew</th><th scope=col>Kurtosis</th></tr>\n",
       "\t<tr><th></th><th scope=col>&lt;int&gt;</th><th scope=col>&lt;dbl&gt;</th><th scope=col>&lt;dbl&gt;</th><th scope=col>&lt;dbl&gt;</th><th scope=col>&lt;dbl&gt;</th><th scope=col>&lt;dbl&gt;</th><th scope=col>&lt;dbl&gt;</th><th scope=col>&lt;dbl&gt;</th><th scope=col>&lt;dbl&gt;</th><th scope=col>&lt;dbl&gt;</th></tr>\n",
       "</thead>\n",
       "<tbody>\n",
       "\t<tr><th scope=row>Ln_d1</th><td>11</td><td>-0.5581951</td><td>0.6753377</td><td>-0.4054651</td><td>-1.5404450</td><td>0.2736958</td><td>-1.06013177</td><td>-0.06430869</td><td>-0.27603255</td><td>-1.548630</td></tr>\n",
       "\t<tr><th scope=row>Ln_d2</th><td>11</td><td> 0.2955283</td><td>0.4287977</td><td> 0.4054651</td><td>-0.4054651</td><td>1.0678406</td><td>-0.03457873</td><td> 0.57916576</td><td> 0.06358445</td><td>-1.145485</td></tr>\n",
       "</tbody>\n",
       "</table>\n",
       "</dd>\n",
       "\t<dt>$multivariateOutliers</dt>\n",
       "\t\t<dd>NULL</dd>\n",
       "</dl>\n"
      ],
      "text/latex": [
       "\\begin{description}\n",
       "\\item[\\$multivariateNormality] A data.frame: 1 × 4\n",
       "\\begin{tabular}{llll}\n",
       " Test & HZ & p value & MVN\\\\\n",
       " <chr> & <dbl> & <dbl> & <chr>\\\\\n",
       "\\hline\n",
       "\t Henze-Zirkler & 0.4805169 & 0.1701703 & YES\\\\\n",
       "\\end{tabular}\n",
       "\n",
       "\\item[\\$univariateNormality] A data.frame: 2 × 5\n",
       "\\begin{tabular}{r|lllll}\n",
       "  & Test & Variable & Statistic & p value & Normality\\\\\n",
       "  & <I<chr>> & <I<chr>> & <I<chr>> & <I<chr>> & <I<chr>>\\\\\n",
       "\\hline\n",
       "\t1 & Anderson-Darling &   Ln\\_d1   &    0.4334 &    0.2457 &    YES   \\\\\n",
       "\t2 & Anderson-Darling &   Ln\\_d2   &    0.2185 &    0.7846 &    YES   \\\\\n",
       "\\end{tabular}\n",
       "\n",
       "\\item[\\$Descriptives] A data.frame: 2 × 10\n",
       "\\begin{tabular}{r|llllllllll}\n",
       "  & n & Mean & Std.Dev & Median & Min & Max & 25th & 75th & Skew & Kurtosis\\\\\n",
       "  & <int> & <dbl> & <dbl> & <dbl> & <dbl> & <dbl> & <dbl> & <dbl> & <dbl> & <dbl>\\\\\n",
       "\\hline\n",
       "\tLn\\_d1 & 11 & -0.5581951 & 0.6753377 & -0.4054651 & -1.5404450 & 0.2736958 & -1.06013177 & -0.06430869 & -0.27603255 & -1.548630\\\\\n",
       "\tLn\\_d2 & 11 &  0.2955283 & 0.4287977 &  0.4054651 & -0.4054651 & 1.0678406 & -0.03457873 &  0.57916576 &  0.06358445 & -1.145485\\\\\n",
       "\\end{tabular}\n",
       "\n",
       "\\item[\\$multivariateOutliers] NULL\n",
       "\\end{description}\n"
      ],
      "text/markdown": [
       "$multivariateNormality\n",
       ":   \n",
       "A data.frame: 1 × 4\n",
       "\n",
       "| Test &lt;chr&gt; | HZ &lt;dbl&gt; | p value &lt;dbl&gt; | MVN &lt;chr&gt; |\n",
       "|---|---|---|---|\n",
       "| Henze-Zirkler | 0.4805169 | 0.1701703 | YES |\n",
       "\n",
       "\n",
       "$univariateNormality\n",
       ":   \n",
       "A data.frame: 2 × 5\n",
       "\n",
       "| <!--/--> | Test &lt;I&lt;chr&gt;&gt; | Variable &lt;I&lt;chr&gt;&gt; | Statistic &lt;I&lt;chr&gt;&gt; | p value &lt;I&lt;chr&gt;&gt; | Normality &lt;I&lt;chr&gt;&gt; |\n",
       "|---|---|---|---|---|---|\n",
       "| 1 | Anderson-Darling |   Ln_d1   |    0.4334 |    0.2457 |    YES    |\n",
       "| 2 | Anderson-Darling |   Ln_d2   |    0.2185 |    0.7846 |    YES    |\n",
       "\n",
       "\n",
       "$Descriptives\n",
       ":   \n",
       "A data.frame: 2 × 10\n",
       "\n",
       "| <!--/--> | n &lt;int&gt; | Mean &lt;dbl&gt; | Std.Dev &lt;dbl&gt; | Median &lt;dbl&gt; | Min &lt;dbl&gt; | Max &lt;dbl&gt; | 25th &lt;dbl&gt; | 75th &lt;dbl&gt; | Skew &lt;dbl&gt; | Kurtosis &lt;dbl&gt; |\n",
       "|---|---|---|---|---|---|---|---|---|---|---|\n",
       "| Ln_d1 | 11 | -0.5581951 | 0.6753377 | -0.4054651 | -1.5404450 | 0.2736958 | -1.06013177 | -0.06430869 | -0.27603255 | -1.548630 |\n",
       "| Ln_d2 | 11 |  0.2955283 | 0.4287977 |  0.4054651 | -0.4054651 | 1.0678406 | -0.03457873 |  0.57916576 |  0.06358445 | -1.145485 |\n",
       "\n",
       "\n",
       "$multivariateOutliers\n",
       ":   NULL\n",
       "\n",
       "\n"
      ],
      "text/plain": [
       "$multivariateNormality\n",
       "           Test        HZ   p value MVN\n",
       "1 Henze-Zirkler 0.4805169 0.1701703 YES\n",
       "\n",
       "$univariateNormality\n",
       "              Test  Variable Statistic   p value Normality\n",
       "1 Anderson-Darling   Ln_d1      0.4334    0.2457    YES   \n",
       "2 Anderson-Darling   Ln_d2      0.2185    0.7846    YES   \n",
       "\n",
       "$Descriptives\n",
       "       n       Mean   Std.Dev     Median        Min       Max        25th\n",
       "Ln_d1 11 -0.5581951 0.6753377 -0.4054651 -1.5404450 0.2736958 -1.06013177\n",
       "Ln_d2 11  0.2955283 0.4287977  0.4054651 -0.4054651 1.0678406 -0.03457873\n",
       "             75th        Skew  Kurtosis\n",
       "Ln_d1 -0.06430869 -0.27603255 -1.548630\n",
       "Ln_d2  0.57916576  0.06358445 -1.145485\n",
       "\n",
       "$multivariateOutliers\n",
       "NULL\n"
      ]
     },
     "metadata": {},
     "output_type": "display_data"
    }
   ],
   "source": [
    "mvn(data = dLn_effluent[, c(1,2)], multivariatePlot = 'plot', showOutlier = TRUE)"
   ]
  },
  {
   "cell_type": "raw",
   "id": "066ac5bc",
   "metadata": {},
   "source": [
    "Strictly, we can see from all three scatter plots above that the bivariate outliers were detected by the visualization of the plot where didn't distributed straightly through the regression lines. So the assumption of a bivariate normality was being violated (rejected). But if we try to check the marginal normality of each difference variables, it gave an obedience result of a multivariate normality. Which means, though we had an outlier in the paired data above, we didn't have an enough evidence to reject the marginal normality. "
   ]
  },
  {
   "cell_type": "code",
   "execution_count": 29,
   "id": "a839e3c9",
   "metadata": {
    "ExecuteTime": {
     "end_time": "2022-03-19T17:58:03.851329Z",
     "start_time": "2022-03-19T17:58:03.006Z"
    },
    "scrolled": true
   },
   "outputs": [
    {
     "data": {
      "text/plain": [
       "\n",
       "\tMultivariate Shapiro-Wilk normality test\n",
       "\n",
       "data:  (Ln_d1,Ln_d2)\n",
       "W = 0.98734, p-value = 0.9935\n"
      ]
     },
     "metadata": {},
     "output_type": "display_data"
    },
    {
     "name": "stdout",
     "output_type": "stream",
     "text": [
      "             Test         Statistic           p value Result\n",
      "1 Mardia Skewness  1.13687663334458 0.888378049549112    YES\n",
      "2 Mardia Kurtosis -1.20311931548243 0.228930151787021    YES\n",
      "3             MVN              <NA>              <NA>    YES\n",
      "           Test        HZ   p value MVN\n",
      "1 Henze-Zirkler 0.4805169 0.1701703 YES\n",
      "     Test        H   p value MVN\n",
      "1 Royston 1.873695 0.3908991 YES\n",
      "            Test        E df   p value MVN\n",
      "1 Doornik-Hansen 5.456762  4 0.2435564 YES\n",
      "         Test Statistic p value MVN\n",
      "1 E-statistic 0.7375487   0.208 YES\n"
     ]
    }
   ],
   "source": [
    "#Test for multivariate normal distribution\n",
    "## Use m.shapiro test function\n",
    "\n",
    "mshapiro.test(dLn_effluent)"
   ]
  },
  {
   "cell_type": "code",
   "execution_count": null,
   "id": "71407b89",
   "metadata": {},
   "outputs": [],
   "source": [
    "## Use mvn test function\n",
    "ListTest <- c(\"mardia\", \"hz\", \"royston\", \"dh\", \"energy\")\n",
    "for(i in 1:length(ListTest)){\n",
    "    mvnTestObj <- mvn(dLn_effluent, mvnTest = ListTest[i])[[1]]\n",
    "    print(mvnTestObj)\n",
    "}"
   ]
  },
  {
   "cell_type": "markdown",
   "id": "76b8887c",
   "metadata": {
    "ExecuteTime": {
     "end_time": "2022-03-19T15:09:17.379146Z",
     "start_time": "2022-03-19T15:09:17.360Z"
    }
   },
   "source": [
    "# Nomor 6.17"
   ]
  },
  {
   "cell_type": "raw",
   "id": "85d5861a",
   "metadata": {},
   "source": [
    "The data in Table 6.8 were collected to test two psychological models of numerical cognition. Does the processing of numbers depend on the way the numbers are presented (words, Arabic digits)? Thirty-two subjects were required to make a series of quick numerical judgments about two numbers presented as either two number words (\"two,\" \"four\") or two single Arabic digits (\"2,\" \"4\"). The subjects were asked to respond \"same\" if the two numbers had the same numerical parity (both even or both odd) and \"different\" if the two numbers had a different parity (one even, one odd). Half of the subjects were assigned a block of Arabic digit trials, followed by a block of number word trials, and half of the subjects received the blocks of trials in the reverse order. Within each block, the order of \"same\" and \"different\" parity trials was randomized for each subject. For each of the four combinations of parity and format, the median reaction times for correct responses were recorded for each subject. Here "
   ]
  },
  {
   "cell_type": "raw",
   "id": "60322edb",
   "metadata": {
    "ExecuteTime": {
     "end_time": "2022-03-19T15:09:50.523024Z",
     "start_time": "2022-03-19T15:09:50.508Z"
    }
   },
   "source": [
    "X1 = median reaction time for word format-different parity combination\n",
    "X2 = median reaction time for word format-same parity combination \n",
    "X3 = median reaction time for Arabic format-different parity combination \n",
    "X4 = median reaction time for Arabic format-same parity combination "
   ]
  },
  {
   "cell_type": "code",
   "execution_count": null,
   "id": "c639bb5a",
   "metadata": {
    "ExecuteTime": {
     "end_time": "2022-03-19T17:57:07.899892Z",
     "start_time": "2022-03-19T17:57:04.261Z"
    },
    "scrolled": true
   },
   "outputs": [],
   "source": [
    "#The Data\n",
    "x1<-c(869.0, 995.0, 1056.0, 1126.0, 1044.0, 925.0, 1172.5, 1408.5, 1028.0, 1011.0, 726.0, 982.0, 1225.0, 731.0, 975.5, 1130.5, 945.0, 747.0, 656.5, 919.0, 751.0, 774.0, 941.0, 751.0, 767.0, 813.5, 1289.5, 1096.5, 1083.0, 1114.0,708.0, 1201.0)\n",
    "x2<-c(860.5, 875.0, 930.5, 954.0, 909.0, 856.5, 896.5, 1311.0, 887.0, 863.0, 674.0, 894.0, 1179.0, 662.0, 872.5,811.0, 909.0, 752.5, 659.5, 833.0, 744.0, 735.0,931.0,785.0,737.5, 750.5, 1140.0, 1009.0, 958.0, 1046.0, 669.0,925.0)\n",
    "x3<-c(691.0,678.0,833.0,888.0,865.0,1059.5, 926.0,854.0, 915.0, 761.0,663.0, 831.0, 1037.0, 662.5, 814.0, 843.0, 867.5, 777.0, 572.0, 752.0, 683.0, 671.0, 901.5, 789.0, 724.0, 711.0, 904.5, 1076.0, 918.0, 1081.0, 657.0, 1004.5)\n",
    "x4<-c(601.0,659.0,826.0, 728.0, 839.0, 797.0, 766.0, 986.0, 735.0, 657.0, 583.0, 640.0, 905.5, 624.0, 735.0, 657.0, 754.0, 687.5, 539.0, 611.0, 553.0, 612.0, 700.0, 735.0, 639.0, 625.0, 784.5, 983.0, 746.5, 796.0, 572.5, 673.5)\n",
    "number<-data.frame(x1,x2,x3,x4)\n",
    "number"
   ]
  },
  {
   "cell_type": "markdown",
   "id": "35f5617e",
   "metadata": {},
   "source": [
    "##  Test for treatment effect using a repeated measure design. Set alpha = .05."
   ]
  },
  {
   "cell_type": "code",
   "execution_count": null,
   "id": "d9a4238d",
   "metadata": {
    "ExecuteTime": {
     "end_time": "2022-03-19T17:57:07.908667Z",
     "start_time": "2022-03-19T17:57:04.265Z"
    }
   },
   "outputs": [],
   "source": [
    "Cstar <-matrix( c(-1, 1, -1, 1, -1, -1, 1, 1, -1, 1, 1, -1), 3, 4, byrow=T)\n",
    "Cstar"
   ]
  },
  {
   "cell_type": "code",
   "execution_count": null,
   "id": "3cadb19d",
   "metadata": {
    "ExecuteTime": {
     "end_time": "2022-03-19T17:57:07.916965Z",
     "start_time": "2022-03-19T17:57:04.268Z"
    }
   },
   "outputs": [],
   "source": [
    "    #  Compute sample mean vector and sample covariance matrix \n",
    "    Xbar <- apply(number, 2, mean)\n",
    "    S <- cov(number)\n",
    "\n",
    "    Cxbar <- Cstar %*% Xbar\n",
    "    Cxvar <- Cstar %*% S %*%t(Cstar)\n",
    "\n",
    "    # Compute Hotelling statistic\n",
    "    p_6.17<-ncol(number)\n",
    "    q_6.17 <- ncol(Cstar)\n",
    "    n_6.17 <- nrow(number)\n",
    "    t2_6.17<-n_6.17*t(Cxbar)%*%solve(Cxvar)%*%Cxbar\n",
    "    t2mod_6.17<- (n_6.17-q_6.17+1)*t2_6.17/((q_6.17-1)*(n_6.17-1))\n",
    "    pval_6.17 <- 1- pf(t2mod_6.17,p_6.17,n_6.17-p_6.17)\n",
    "    print(pval_6.17)\n",
    "\n",
    "    ifelse(pval_6.17<0.05, \"Reject\", \"Fail to Reject\")"
   ]
  },
  {
   "cell_type": "raw",
   "id": "c2069e14",
   "metadata": {},
   "source": [
    "2.  Construct 95% (simultaneous) confidence intervals for the contrast representing the number format effect, the parity type effect, and the interaction effect. Interpret the resulting intervals."
   ]
  },
  {
   "cell_type": "code",
   "execution_count": null,
   "id": "c40cd93b",
   "metadata": {
    "ExecuteTime": {
     "end_time": "2022-03-19T17:57:07.924026Z",
     "start_time": "2022-03-19T17:57:04.292Z"
    }
   },
   "outputs": [],
   "source": [
    "    #Compute F value\n",
    "    F_num <- (((ncol(Cstar)-1)*(n_6.17-1))/(n_6.17-ncol(Cstar)+1))*qf(0.95, ncol(Cstar)-1, n_6.17-ncol(Cstar)+1)\n",
    "\n",
    "    sqrt(F_num)"
   ]
  },
  {
   "cell_type": "code",
   "execution_count": null,
   "id": "42e2f96c",
   "metadata": {
    "ExecuteTime": {
     "end_time": "2022-03-19T17:57:07.929325Z",
     "start_time": "2022-03-19T17:57:04.296Z"
    }
   },
   "outputs": [],
   "source": [
    "    #Construct 95% (simultaneous) confidence intervals\n",
    "    upper_num <- NULL\n",
    "    lower_num <- NULL\n",
    "\n",
    "    Sch.ci <- function(Cxbar, Cxvar){\n",
    "      for (i in 1:ncol(Cxvar)){\n",
    "      upper_num[i] <- Cxbar[i]+sqrt(F_num)*sqrt(Cxvar[i,i]/n_6.17)\n",
    "      lower_num[i] <- Cxbar[i]-sqrt(F_num)*sqrt(Cxvar[i,i]/n_6.17)\n",
    "      } \n",
    "      tab_num <- cbind(lower_num, upper_num)\n",
    "      rownames(tab_num) <- c(\"Parity Effect\", \"Format Effect\", \"Interaction Effect\") \n",
    "      tab_num\n",
    "    }\n",
    "\n",
    "\n",
    "    Sch.ci(Cxbar, Cxvar)"
   ]
  },
  {
   "cell_type": "raw",
   "id": "c24ae98b",
   "metadata": {},
   "source": [
    "3.  The absence of interaction supports the M model of numerical cognition, while the presence of interaction supports the C and C model of numerical cognition. Which model is supported in this experiment?\n",
    "\n",
    "    Based on part b, the M model of numerical cognition is a reasonable population model for the scores."
   ]
  },
  {
   "cell_type": "raw",
   "id": "d70ccd50",
   "metadata": {},
   "source": [
    "4.  For each subject, construct three differences scores corresponding to the number format contrast, the parity type contrast, and the interaction contrast. Is a multivariate normal distribution a reasonable population model for these data? Explain."
   ]
  },
  {
   "cell_type": "code",
   "execution_count": null,
   "id": "daa44d59",
   "metadata": {
    "ExecuteTime": {
     "end_time": "2022-03-19T17:57:07.935574Z",
     "start_time": "2022-03-19T17:57:04.347Z"
    }
   },
   "outputs": [],
   "source": [
    "    par(mfrow=c(2, 2), pch=1)\n",
    "    for (i in 1:ncol(number)){\n",
    "       qqnorm(number[,i],  main=c(\"Normal QQ-Plot X\",i))\n",
    "         qqline(number[,i])\n",
    "    }\n",
    "    par(mfrow=c(1,1), pch=1)"
   ]
  },
  {
   "cell_type": "code",
   "execution_count": null,
   "id": "aea15767",
   "metadata": {
    "ExecuteTime": {
     "end_time": "2022-03-19T17:57:07.940821Z",
     "start_time": "2022-03-19T17:57:04.351Z"
    }
   },
   "outputs": [],
   "source": [
    "    #Construct Chi-Square Plot\n",
    "    d <- apply(number, 1, function(number) t(number - Xbar) %*% solve(S) %*% (number - Xbar))\n",
    "    plot(qc <- qchisq((1:nrow(number) - 1/2) / nrow(number), df = 4),\n",
    "     sd <- sort(d),\n",
    "     xlab = expression(paste(chi[4]^2, \" Quantile\")),\n",
    "     ylab = \"Ordered distances\", xlim = range(qc) * c(1, 1.1), main= \"Chi Square Plot\")\n",
    "    oups <- which(rank(abs(qc - sd), ties = \"random\") > nrow(number) - 3)\n",
    "    text(qc[oups],sd[oups]-1.5, labels=names(oups))\n",
    "    abline(a = 0, b = 1)"
   ]
  },
  {
   "cell_type": "code",
   "execution_count": null,
   "id": "74d2d8c5",
   "metadata": {},
   "outputs": [],
   "source": []
  }
 ],
 "metadata": {
  "kernelspec": {
   "display_name": "R",
   "language": "R",
   "name": "ir"
  },
  "language_info": {
   "codemirror_mode": "r",
   "file_extension": ".r",
   "mimetype": "text/x-r-source",
   "name": "R",
   "pygments_lexer": "r",
   "version": "4.0.5"
  },
  "toc": {
   "base_numbering": 1,
   "nav_menu": {},
   "number_sections": true,
   "sideBar": true,
   "skip_h1_title": false,
   "title_cell": "Table of Contents",
   "title_sidebar": "Contents",
   "toc_cell": false,
   "toc_position": {},
   "toc_section_display": true,
   "toc_window_display": false
  }
 },
 "nbformat": 4,
 "nbformat_minor": 5
}
