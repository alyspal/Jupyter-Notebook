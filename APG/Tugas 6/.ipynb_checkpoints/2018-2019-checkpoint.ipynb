{
 "cells": [
  {
   "cell_type": "code",
   "execution_count": 1,
   "id": "0e1ed76d",
   "metadata": {
    "ExecuteTime": {
     "end_time": "2022-03-27T11:13:14.230849Z",
     "start_time": "2022-03-27T11:13:12.148Z"
    },
    "scrolled": true
   },
   "outputs": [
    {
     "name": "stderr",
     "output_type": "stream",
     "text": [
      "Loading required package: ggplot2\n",
      "\n",
      "Loading required package: lattice\n",
      "\n"
     ]
    }
   ],
   "source": [
    "library('MVN')\n",
    "library('caret')\n",
    "library('readxl')\n",
    "library('datasets')"
   ]
  },
  {
   "cell_type": "markdown",
   "id": "c361e1a4",
   "metadata": {
    "heading_collapsed": true
   },
   "source": [
    "# 6.7"
   ]
  },
  {
   "cell_type": "raw",
   "id": "781b69a4",
   "metadata": {
    "ExecuteTime": {
     "end_time": "2022-03-26T11:54:11.172487Z",
     "start_time": "2022-03-26T11:54:09.745Z"
    },
    "hidden": true
   },
   "source": [
    "Using the summary statistics for the electricity-demand data given in Example 6.4, compute T^2 and test the hypothesis H0: mu1 - mu2 = 0, assuming that sigma1(sum1) = sigma2(sum2) Set a = .05. Also, determine the linear combination of mean components most responsible for the rejection of H0"
   ]
  },
  {
   "cell_type": "code",
   "execution_count": 2,
   "id": "df41842e",
   "metadata": {
    "ExecuteTime": {
     "end_time": "2022-03-27T11:13:14.318293Z",
     "start_time": "2022-03-27T11:13:12.177Z"
    },
    "hidden": true,
    "scrolled": true
   },
   "outputs": [
    {
     "name": "stdout",
     "output_type": "stream",
     "text": [
      "[1] \"n1 : 45\"\n",
      "[1] \"xbar1 :\"\n"
     ]
    },
    {
     "data": {
      "text/html": [
       "<table class=\"dataframe\">\n",
       "<caption>A matrix: 2 × 1 of type dbl</caption>\n",
       "<tbody>\n",
       "\t<tr><td>204.4</td></tr>\n",
       "\t<tr><td>556.6</td></tr>\n",
       "</tbody>\n",
       "</table>\n"
      ],
      "text/latex": [
       "A matrix: 2 × 1 of type dbl\n",
       "\\begin{tabular}{l}\n",
       "\t 204.4\\\\\n",
       "\t 556.6\\\\\n",
       "\\end{tabular}\n"
      ],
      "text/markdown": [
       "\n",
       "A matrix: 2 × 1 of type dbl\n",
       "\n",
       "| 204.4 |\n",
       "| 556.6 |\n",
       "\n"
      ],
      "text/plain": [
       "     [,1] \n",
       "[1,] 204.4\n",
       "[2,] 556.6"
      ]
     },
     "metadata": {},
     "output_type": "display_data"
    },
    {
     "name": "stdout",
     "output_type": "stream",
     "text": [
      "[1] \"S1 :\"\n"
     ]
    },
    {
     "data": {
      "text/html": [
       "<table class=\"dataframe\">\n",
       "<caption>A matrix: 2 × 2 of type dbl</caption>\n",
       "<tbody>\n",
       "\t<tr><td>13825.3</td><td>23823.4</td></tr>\n",
       "\t<tr><td>23823.4</td><td>73107.4</td></tr>\n",
       "</tbody>\n",
       "</table>\n"
      ],
      "text/latex": [
       "A matrix: 2 × 2 of type dbl\n",
       "\\begin{tabular}{ll}\n",
       "\t 13825.3 & 23823.4\\\\\n",
       "\t 23823.4 & 73107.4\\\\\n",
       "\\end{tabular}\n"
      ],
      "text/markdown": [
       "\n",
       "A matrix: 2 × 2 of type dbl\n",
       "\n",
       "| 13825.3 | 23823.4 |\n",
       "| 23823.4 | 73107.4 |\n",
       "\n"
      ],
      "text/plain": [
       "     [,1]    [,2]   \n",
       "[1,] 13825.3 23823.4\n",
       "[2,] 23823.4 73107.4"
      ]
     },
     "metadata": {},
     "output_type": "display_data"
    }
   ],
   "source": [
    "n1 <- 45\n",
    "print(paste(\"n1 :\", n1))\n",
    "\n",
    "xbar1 <- matrix(c(204.4, 556.6), nrow = 2, ncol = 1, byrow = TRUE)\n",
    "print(\"xbar1 :\")\n",
    "xbar1\n",
    "\n",
    "S1 <- matrix(c(13825.3, 23823.4, 23823.4, 73107.4), nrow = 2, ncol = 2, byrow = TRUE)\n",
    "print(\"S1 :\")\n",
    "S1"
   ]
  },
  {
   "cell_type": "code",
   "execution_count": 3,
   "id": "acdbd11a",
   "metadata": {
    "ExecuteTime": {
     "end_time": "2022-03-27T11:13:14.369276Z",
     "start_time": "2022-03-27T11:13:12.179Z"
    },
    "hidden": true,
    "scrolled": false
   },
   "outputs": [
    {
     "name": "stdout",
     "output_type": "stream",
     "text": [
      "[1] \"n2 : 55\"\n",
      "[1] \"xbar2 :\"\n"
     ]
    },
    {
     "data": {
      "text/html": [
       "<table class=\"dataframe\">\n",
       "<caption>A matrix: 2 × 1 of type dbl</caption>\n",
       "<tbody>\n",
       "\t<tr><td>130</td></tr>\n",
       "\t<tr><td>355</td></tr>\n",
       "</tbody>\n",
       "</table>\n"
      ],
      "text/latex": [
       "A matrix: 2 × 1 of type dbl\n",
       "\\begin{tabular}{l}\n",
       "\t 130\\\\\n",
       "\t 355\\\\\n",
       "\\end{tabular}\n"
      ],
      "text/markdown": [
       "\n",
       "A matrix: 2 × 1 of type dbl\n",
       "\n",
       "| 130 |\n",
       "| 355 |\n",
       "\n"
      ],
      "text/plain": [
       "     [,1]\n",
       "[1,] 130 \n",
       "[2,] 355 "
      ]
     },
     "metadata": {},
     "output_type": "display_data"
    },
    {
     "name": "stdout",
     "output_type": "stream",
     "text": [
      "[1] \"S2 :\"\n"
     ]
    },
    {
     "data": {
      "text/html": [
       "<table class=\"dataframe\">\n",
       "<caption>A matrix: 2 × 2 of type dbl</caption>\n",
       "<tbody>\n",
       "\t<tr><td> 8632.0</td><td>19616.7</td></tr>\n",
       "\t<tr><td>19616.7</td><td>55964.5</td></tr>\n",
       "</tbody>\n",
       "</table>\n"
      ],
      "text/latex": [
       "A matrix: 2 × 2 of type dbl\n",
       "\\begin{tabular}{ll}\n",
       "\t  8632.0 & 19616.7\\\\\n",
       "\t 19616.7 & 55964.5\\\\\n",
       "\\end{tabular}\n"
      ],
      "text/markdown": [
       "\n",
       "A matrix: 2 × 2 of type dbl\n",
       "\n",
       "|  8632.0 | 19616.7 |\n",
       "| 19616.7 | 55964.5 |\n",
       "\n"
      ],
      "text/plain": [
       "     [,1]    [,2]   \n",
       "[1,]  8632.0 19616.7\n",
       "[2,] 19616.7 55964.5"
      ]
     },
     "metadata": {},
     "output_type": "display_data"
    }
   ],
   "source": [
    "n2 <- 55\n",
    "print(paste(\"n2 :\", n2))\n",
    "\n",
    "xbar2 <- matrix(c(130, 355), nrow = 2, ncol = 1, byrow = TRUE)\n",
    "print(\"xbar2 :\")\n",
    "xbar2\n",
    "\n",
    "S2 <- matrix(c(8632, 19616.7, 19616.7, 55964.5), nrow = 2, ncol = 2, byrow = TRUE)\n",
    "print(\"S2 :\")\n",
    "S2"
   ]
  },
  {
   "cell_type": "markdown",
   "id": "4627602e",
   "metadata": {
    "hidden": true
   },
   "source": [
    "## (1)\tTest the hypothesis H0 : mu1 - mu2 = 0 at the 0.05 significance level"
   ]
  },
  {
   "cell_type": "code",
   "execution_count": 4,
   "id": "e8ebe202",
   "metadata": {
    "ExecuteTime": {
     "end_time": "2022-03-27T11:13:14.397279Z",
     "start_time": "2022-03-27T11:13:12.182Z"
    },
    "hidden": true
   },
   "outputs": [],
   "source": [
    "mu <- c(0,0)\n",
    "T.test <- function(xb1, xb2, S.1, S.2, n1, n2, mu){\n",
    "  p <- nrow(xb1)\n",
    "  df1 = p\n",
    "  df2 = n1 + n2 - p - 1\n",
    "  alpha <- 0.05\n",
    "  \n",
    "  S_pooled <- ((n1 - 1)/(n1 + n2 -2) * S.1) + ((n2 - 1)/(n1 + n2 -2) * S.2)\n",
    "  \n",
    "  T_square <- t((xb1 - xb2) - mu) %*% solve(((1/n1) + (1/n2)) * S_pooled) %*% ((xb1 - xb2) - mu)\n",
    "    \n",
    "  Fstat <- T_square / (p %*% (n1 + n2 - 2)/(n1 + n2 - p - 1))\n",
    "  \n",
    "  Ftable <- qf(1 - alpha, df1 = p, df2 = n1 + n2 - p - 1) %*% (n1 + n2 - 2) %*% p / (n1 + n2 - p - 1)\n",
    "  \n",
    "  p_value <- 1 - pf(Fstat, df1 = p, df2 = n1 + n2 - p - 1)\n",
    "  \n",
    "  data.frame(T_square = as.numeric(T_square), \n",
    "             Fstat = as.numeric(Fstat),\n",
    "             df1 = p, \n",
    "             df2 = n1 + n2 - p - 1, \n",
    "             Ftable = as.numeric(Ftable),\n",
    "             pvalue = as.numeric(p_value),\n",
    "             row.names=\"\")\n",
    "}"
   ]
  },
  {
   "cell_type": "code",
   "execution_count": 5,
   "id": "2491ab08",
   "metadata": {
    "ExecuteTime": {
     "end_time": "2022-03-27T11:13:14.465280Z",
     "start_time": "2022-03-27T11:13:12.185Z"
    },
    "hidden": true
   },
   "outputs": [
    {
     "data": {
      "text/html": [
       "<table class=\"dataframe\">\n",
       "<caption>A data.frame: 1 × 6</caption>\n",
       "<thead>\n",
       "\t<tr><th></th><th scope=col>T_square</th><th scope=col>Fstat</th><th scope=col>df1</th><th scope=col>df2</th><th scope=col>Ftable</th><th scope=col>pvalue</th></tr>\n",
       "\t<tr><th></th><th scope=col>&lt;dbl&gt;</th><th scope=col>&lt;dbl&gt;</th><th scope=col>&lt;int&gt;</th><th scope=col>&lt;dbl&gt;</th><th scope=col>&lt;dbl&gt;</th><th scope=col>&lt;dbl&gt;</th></tr>\n",
       "</thead>\n",
       "<tbody>\n",
       "\t<tr><th scope=row></th><td>16.06622</td><td>7.951139</td><td>2</td><td>97</td><td>6.244089</td><td>0.0006343777</td></tr>\n",
       "</tbody>\n",
       "</table>\n"
      ],
      "text/latex": [
       "A data.frame: 1 × 6\n",
       "\\begin{tabular}{r|llllll}\n",
       "  & T\\_square & Fstat & df1 & df2 & Ftable & pvalue\\\\\n",
       "  & <dbl> & <dbl> & <int> & <dbl> & <dbl> & <dbl>\\\\\n",
       "\\hline\n",
       "\t & 16.06622 & 7.951139 & 2 & 97 & 6.244089 & 0.0006343777\\\\\n",
       "\\end{tabular}\n"
      ],
      "text/markdown": [
       "\n",
       "A data.frame: 1 × 6\n",
       "\n",
       "| <!--/--> | T_square &lt;dbl&gt; | Fstat &lt;dbl&gt; | df1 &lt;int&gt; | df2 &lt;dbl&gt; | Ftable &lt;dbl&gt; | pvalue &lt;dbl&gt; |\n",
       "|---|---|---|---|---|---|---|\n",
       "| <!----> | 16.06622 | 7.951139 | 2 | 97 | 6.244089 | 0.0006343777 |\n",
       "\n"
      ],
      "text/plain": [
       " T_square Fstat    df1 df2 Ftable   pvalue      \n",
       " 16.06622 7.951139 2   97  6.244089 0.0006343777"
      ]
     },
     "metadata": {},
     "output_type": "display_data"
    }
   ],
   "source": [
    "T.test(xbar1, xbar2, S1, S2, n1, n2, mu) "
   ]
  },
  {
   "cell_type": "raw",
   "id": "a1b68b7c",
   "metadata": {
    "hidden": true
   },
   "source": [
    "16.06622 > 6.244089. T-square > Ftable, maka H0 : mu1 - mu2 = 0 ditolak pada taraf signifikansi 5%. Jadi, dapat disimpulkan bahwa terdapat perbedaan antara rata-rata pengukuran penggunaan listrik pada rumah Wisconsin dengan dan rata-rata pengukuran penggunaan listrik pada rumah Wisconsin tanpa AC."
   ]
  },
  {
   "cell_type": "markdown",
   "id": "35e421b5",
   "metadata": {
    "hidden": true
   },
   "source": [
    "## (2)\tDetermining the linear combination of mean components for the rejection of H0"
   ]
  },
  {
   "cell_type": "code",
   "execution_count": 6,
   "id": "26c4e2c1",
   "metadata": {
    "ExecuteTime": {
     "end_time": "2022-03-27T11:13:14.495280Z",
     "start_time": "2022-03-27T11:13:12.207Z"
    },
    "hidden": true
   },
   "outputs": [
    {
     "data": {
      "text/html": [
       "<table class=\"dataframe\">\n",
       "<caption>A matrix: 2 × 1 of type dbl</caption>\n",
       "<tbody>\n",
       "\t<tr><td>0.00170252</td></tr>\n",
       "\t<tr><td>0.00259163</td></tr>\n",
       "</tbody>\n",
       "</table>\n"
      ],
      "text/latex": [
       "A matrix: 2 × 1 of type dbl\n",
       "\\begin{tabular}{l}\n",
       "\t 0.00170252\\\\\n",
       "\t 0.00259163\\\\\n",
       "\\end{tabular}\n"
      ],
      "text/markdown": [
       "\n",
       "A matrix: 2 × 1 of type dbl\n",
       "\n",
       "| 0.00170252 |\n",
       "| 0.00259163 |\n",
       "\n"
      ],
      "text/plain": [
       "     [,1]      \n",
       "[1,] 0.00170252\n",
       "[2,] 0.00259163"
      ]
     },
     "metadata": {},
     "output_type": "display_data"
    }
   ],
   "source": [
    "S_pooled <- ((n1 - 1)/(n1 + n2 -2) * S1) + ((n2 - 1)/(n1 + n2 -2) * S2)\n",
    "\n",
    "linear_comb <- solve(S_pooled) %*% (xbar1 - xbar2) \n",
    "linear_comb"
   ]
  },
  {
   "cell_type": "raw",
   "id": "36ea43a3",
   "metadata": {
    "hidden": true
   },
   "source": [
    "Kombinasi linier komponen rata-rata untuk penolakan H0 memiliki koefisien vektor (0,00170252, 0,00259163). Hal ini menunjukkan bahwa perbedaan penggunaan listrik pemilik rumah Wisconsin dengan AC yang paling berpengaruh untuk menolak H0 : mu1 - mu2 = 0"
   ]
  },
  {
   "cell_type": "markdown",
   "id": "ce1954c5",
   "metadata": {
    "heading_collapsed": true
   },
   "source": [
    "# 6.8"
   ]
  },
  {
   "cell_type": "markdown",
   "id": "6c511eef",
   "metadata": {
    "heading_collapsed": true,
    "hidden": true
   },
   "source": [
    "## Treatment"
   ]
  },
  {
   "cell_type": "raw",
   "id": "4ba3a2d7",
   "metadata": {
    "ExecuteTime": {
     "end_time": "2022-03-26T11:56:43.110032Z",
     "start_time": "2022-03-26T11:56:43.089Z"
    },
    "hidden": true
   },
   "source": [
    "8.\tObservations on two responses are collected for three treatments. The observation vectors are shown :\n",
    "Treatment 1: t([6,7]), t([5,9]), t([8,6]), t([4,9]), t([7,9])\n",
    "Treatment 2: t([3,3]), t([1,6]), t([2,3])\n",
    "Treatment 3: t([2,3]), t([5,1]), t([3,1]), t([2,3])"
   ]
  },
  {
   "cell_type": "code",
   "execution_count": 7,
   "id": "9d086faf",
   "metadata": {
    "ExecuteTime": {
     "end_time": "2022-03-27T11:13:14.529279Z",
     "start_time": "2022-03-27T11:13:12.245Z"
    },
    "hidden": true,
    "scrolled": true
   },
   "outputs": [
    {
     "data": {
      "text/html": [
       "<table class=\"dataframe\">\n",
       "<caption>A matrix: 2 × 5 of type dbl</caption>\n",
       "<tbody>\n",
       "\t<tr><th scope=row>x1t1</th><td>6</td><td>5</td><td>8</td><td>4</td><td>7</td></tr>\n",
       "\t<tr><th scope=row>x2t1</th><td>7</td><td>9</td><td>6</td><td>9</td><td>9</td></tr>\n",
       "</tbody>\n",
       "</table>\n"
      ],
      "text/latex": [
       "A matrix: 2 × 5 of type dbl\n",
       "\\begin{tabular}{r|lllll}\n",
       "\tx1t1 & 6 & 5 & 8 & 4 & 7\\\\\n",
       "\tx2t1 & 7 & 9 & 6 & 9 & 9\\\\\n",
       "\\end{tabular}\n"
      ],
      "text/markdown": [
       "\n",
       "A matrix: 2 × 5 of type dbl\n",
       "\n",
       "| x1t1 | 6 | 5 | 8 | 4 | 7 |\n",
       "| x2t1 | 7 | 9 | 6 | 9 | 9 |\n",
       "\n"
      ],
      "text/plain": [
       "     [,1] [,2] [,3] [,4] [,5]\n",
       "x1t1 6    5    8    4    7   \n",
       "x2t1 7    9    6    9    9   "
      ]
     },
     "metadata": {},
     "output_type": "display_data"
    }
   ],
   "source": [
    "x1t1 <- c(6, 5, 8, 4, 7)\n",
    "x2t1 <- c(7, 9, 6, 9, 9)\n",
    "treatment1 <- rbind(x1t1,x2t1)\n",
    "treatment1"
   ]
  },
  {
   "cell_type": "code",
   "execution_count": 8,
   "id": "44a2219e",
   "metadata": {
    "ExecuteTime": {
     "end_time": "2022-03-27T11:13:14.561280Z",
     "start_time": "2022-03-27T11:13:12.249Z"
    },
    "hidden": true
   },
   "outputs": [
    {
     "data": {
      "text/html": [
       "<table class=\"dataframe\">\n",
       "<caption>A matrix: 2 × 3 of type dbl</caption>\n",
       "<tbody>\n",
       "\t<tr><th scope=row>x1t2</th><td>3</td><td>1</td><td>2</td></tr>\n",
       "\t<tr><th scope=row>x2t2</th><td>3</td><td>6</td><td>3</td></tr>\n",
       "</tbody>\n",
       "</table>\n"
      ],
      "text/latex": [
       "A matrix: 2 × 3 of type dbl\n",
       "\\begin{tabular}{r|lll}\n",
       "\tx1t2 & 3 & 1 & 2\\\\\n",
       "\tx2t2 & 3 & 6 & 3\\\\\n",
       "\\end{tabular}\n"
      ],
      "text/markdown": [
       "\n",
       "A matrix: 2 × 3 of type dbl\n",
       "\n",
       "| x1t2 | 3 | 1 | 2 |\n",
       "| x2t2 | 3 | 6 | 3 |\n",
       "\n"
      ],
      "text/plain": [
       "     [,1] [,2] [,3]\n",
       "x1t2 3    1    2   \n",
       "x2t2 3    6    3   "
      ]
     },
     "metadata": {},
     "output_type": "display_data"
    }
   ],
   "source": [
    "x1t2 <- c(3, 1, 2)\n",
    "x2t2 <- c(3, 6, 3)\n",
    "treatment2 <- rbind(x1t2,x2t2)\n",
    "treatment2"
   ]
  },
  {
   "cell_type": "code",
   "execution_count": 9,
   "id": "661afa79",
   "metadata": {
    "ExecuteTime": {
     "end_time": "2022-03-27T11:13:14.593307Z",
     "start_time": "2022-03-27T11:13:12.251Z"
    },
    "hidden": true
   },
   "outputs": [
    {
     "data": {
      "text/html": [
       "<table class=\"dataframe\">\n",
       "<caption>A matrix: 2 × 4 of type dbl</caption>\n",
       "<tbody>\n",
       "\t<tr><th scope=row>x1t3</th><td>2</td><td>5</td><td>3</td><td>2</td></tr>\n",
       "\t<tr><th scope=row>x2t3</th><td>3</td><td>1</td><td>1</td><td>3</td></tr>\n",
       "</tbody>\n",
       "</table>\n"
      ],
      "text/latex": [
       "A matrix: 2 × 4 of type dbl\n",
       "\\begin{tabular}{r|llll}\n",
       "\tx1t3 & 2 & 5 & 3 & 2\\\\\n",
       "\tx2t3 & 3 & 1 & 1 & 3\\\\\n",
       "\\end{tabular}\n"
      ],
      "text/markdown": [
       "\n",
       "A matrix: 2 × 4 of type dbl\n",
       "\n",
       "| x1t3 | 2 | 5 | 3 | 2 |\n",
       "| x2t3 | 3 | 1 | 1 | 3 |\n",
       "\n"
      ],
      "text/plain": [
       "     [,1] [,2] [,3] [,4]\n",
       "x1t3 2    5    3    2   \n",
       "x2t3 3    1    1    3   "
      ]
     },
     "metadata": {},
     "output_type": "display_data"
    }
   ],
   "source": [
    "x1t3 <- c(2, 5, 3, 2)\n",
    "x2t3 <- c(3, 1, 1, 3)\n",
    "treatment3 <- rbind(x1t3,x2t3)\n",
    "treatment3"
   ]
  },
  {
   "cell_type": "markdown",
   "id": "7a8fd933",
   "metadata": {
    "hidden": true
   },
   "source": [
    "## a). Break up the observations into mean, treatment, and residual  components, as in (6-35). Construct the corresponding arrays for each variable. (See Example 6.8.)"
   ]
  },
  {
   "cell_type": "markdown",
   "id": "51548ee6",
   "metadata": {
    "heading_collapsed": true,
    "hidden": true
   },
   "source": [
    "### X1"
   ]
  },
  {
   "cell_type": "code",
   "execution_count": 10,
   "id": "baa24441",
   "metadata": {
    "ExecuteTime": {
     "end_time": "2022-03-27T11:13:14.633280Z",
     "start_time": "2022-03-27T11:13:12.255Z"
    },
    "hidden": true
   },
   "outputs": [
    {
     "name": "stdout",
     "output_type": "stream",
     "text": [
      "[1] \"Observation vector : \"\n"
     ]
    },
    {
     "data": {
      "text/html": [
       "<style>\n",
       ".list-inline {list-style: none; margin:0; padding: 0}\n",
       ".list-inline>li {display: inline-block}\n",
       ".list-inline>li:not(:last-child)::after {content: \"\\00b7\"; padding: 0 .5ex}\n",
       "</style>\n",
       "<ol class=list-inline><li>6</li><li>5</li><li>8</li><li>4</li><li>7</li><li>3</li><li>1</li><li>2</li><li>2</li><li>5</li><li>3</li><li>2</li></ol>\n"
      ],
      "text/latex": [
       "\\begin{enumerate*}\n",
       "\\item 6\n",
       "\\item 5\n",
       "\\item 8\n",
       "\\item 4\n",
       "\\item 7\n",
       "\\item 3\n",
       "\\item 1\n",
       "\\item 2\n",
       "\\item 2\n",
       "\\item 5\n",
       "\\item 3\n",
       "\\item 2\n",
       "\\end{enumerate*}\n"
      ],
      "text/markdown": [
       "1. 6\n",
       "2. 5\n",
       "3. 8\n",
       "4. 4\n",
       "5. 7\n",
       "6. 3\n",
       "7. 1\n",
       "8. 2\n",
       "9. 2\n",
       "10. 5\n",
       "11. 3\n",
       "12. 2\n",
       "\n",
       "\n"
      ],
      "text/plain": [
       " [1] 6 5 8 4 7 3 1 2 2 5 3 2"
      ]
     },
     "metadata": {},
     "output_type": "display_data"
    },
    {
     "name": "stdout",
     "output_type": "stream",
     "text": [
      "[1] \"Sum-square Observation vector :  246\"\n"
     ]
    }
   ],
   "source": [
    "#Observations\n",
    "obs_x1 <- c(x1t1, x1t2, x1t3)\n",
    "print(paste(\"Observation vector : \"))\n",
    "obs_x1\n",
    "\n",
    "sumsquare_obsx1 <- sum(obs_x1^2)\n",
    "print(paste(\"Sum-square Observation vector : \",sumsquare_obsx1))"
   ]
  },
  {
   "cell_type": "code",
   "execution_count": 11,
   "id": "7c49a3f1",
   "metadata": {
    "ExecuteTime": {
     "end_time": "2022-03-27T11:13:14.672277Z",
     "start_time": "2022-03-27T11:13:12.258Z"
    },
    "hidden": true
   },
   "outputs": [
    {
     "name": "stdout",
     "output_type": "stream",
     "text": [
      "[1] \"Mean Vector : \"\n"
     ]
    },
    {
     "data": {
      "text/html": [
       "<style>\n",
       ".list-inline {list-style: none; margin:0; padding: 0}\n",
       ".list-inline>li {display: inline-block}\n",
       ".list-inline>li:not(:last-child)::after {content: \"\\00b7\"; padding: 0 .5ex}\n",
       "</style>\n",
       "<ol class=list-inline><li>4</li><li>4</li><li>4</li><li>4</li><li>4</li><li>4</li><li>4</li><li>4</li><li>4</li><li>4</li><li>4</li><li>4</li></ol>\n"
      ],
      "text/latex": [
       "\\begin{enumerate*}\n",
       "\\item 4\n",
       "\\item 4\n",
       "\\item 4\n",
       "\\item 4\n",
       "\\item 4\n",
       "\\item 4\n",
       "\\item 4\n",
       "\\item 4\n",
       "\\item 4\n",
       "\\item 4\n",
       "\\item 4\n",
       "\\item 4\n",
       "\\end{enumerate*}\n"
      ],
      "text/markdown": [
       "1. 4\n",
       "2. 4\n",
       "3. 4\n",
       "4. 4\n",
       "5. 4\n",
       "6. 4\n",
       "7. 4\n",
       "8. 4\n",
       "9. 4\n",
       "10. 4\n",
       "11. 4\n",
       "12. 4\n",
       "\n",
       "\n"
      ],
      "text/plain": [
       " [1] 4 4 4 4 4 4 4 4 4 4 4 4"
      ]
     },
     "metadata": {},
     "output_type": "display_data"
    },
    {
     "name": "stdout",
     "output_type": "stream",
     "text": [
      "[1] \"Sum-Square Mean Vector :  192\"\n"
     ]
    }
   ],
   "source": [
    "#Means\n",
    "meanx1 <- mean(obs_x1)\n",
    "print(paste(\"Mean Vector : \"))\n",
    "(mean_x1 <- c(rep(meanx1, length(x1t1)), \n",
    "              rep(meanx1, length(x1t2)), \n",
    "              rep(meanx1, length(x1t3))))\n",
    "\n",
    "sumsquare_meanx1 <- sum(mean_x1^2)\n",
    "print(paste(\"Sum-Square Mean Vector : \", sumsquare_meanx1))"
   ]
  },
  {
   "cell_type": "code",
   "execution_count": 12,
   "id": "d0a15047",
   "metadata": {
    "ExecuteTime": {
     "end_time": "2022-03-27T11:13:14.711276Z",
     "start_time": "2022-03-27T11:13:12.260Z"
    },
    "hidden": true
   },
   "outputs": [
    {
     "name": "stdout",
     "output_type": "stream",
     "text": [
      "[1] \"Treatment Effect Vector : \"\n"
     ]
    },
    {
     "data": {
      "text/html": [
       "<style>\n",
       ".list-inline {list-style: none; margin:0; padding: 0}\n",
       ".list-inline>li {display: inline-block}\n",
       ".list-inline>li:not(:last-child)::after {content: \"\\00b7\"; padding: 0 .5ex}\n",
       "</style>\n",
       "<ol class=list-inline><li>2</li><li>2</li><li>2</li><li>2</li><li>2</li><li>-2</li><li>-2</li><li>-2</li><li>-1</li><li>-1</li><li>-1</li><li>-1</li></ol>\n"
      ],
      "text/latex": [
       "\\begin{enumerate*}\n",
       "\\item 2\n",
       "\\item 2\n",
       "\\item 2\n",
       "\\item 2\n",
       "\\item 2\n",
       "\\item -2\n",
       "\\item -2\n",
       "\\item -2\n",
       "\\item -1\n",
       "\\item -1\n",
       "\\item -1\n",
       "\\item -1\n",
       "\\end{enumerate*}\n"
      ],
      "text/markdown": [
       "1. 2\n",
       "2. 2\n",
       "3. 2\n",
       "4. 2\n",
       "5. 2\n",
       "6. -2\n",
       "7. -2\n",
       "8. -2\n",
       "9. -1\n",
       "10. -1\n",
       "11. -1\n",
       "12. -1\n",
       "\n",
       "\n"
      ],
      "text/plain": [
       " [1]  2  2  2  2  2 -2 -2 -2 -1 -1 -1 -1"
      ]
     },
     "metadata": {},
     "output_type": "display_data"
    },
    {
     "name": "stdout",
     "output_type": "stream",
     "text": [
      "[1] \"Sum-square Treatment Effect Vector :  36\"\n"
     ]
    }
   ],
   "source": [
    "#Treatment Effects\n",
    "x1t1_bar <- mean(x1t1)\n",
    "x1t2_bar <- mean(x1t2)\n",
    "x1t3_bar <- mean(x1t3)\n",
    "treateffect_x1t1 <- x1t1_bar - meanx1\n",
    "treateffect_x1t2 <- x1t2_bar - meanx1\n",
    "treateffect_x1t3 <- x1t3_bar - meanx1\n",
    "print(paste(\"Treatment Effect Vector : \"))\n",
    "(treateffect_x1 <- c(rep(treateffect_x1t1, length(x1t1)), \n",
    "                     rep(treateffect_x1t2, length(x1t2)), \n",
    "                     rep(treateffect_x1t3, length(x1t3))))\n",
    "\n",
    "sumsquare_treateffectx1 <- sum(treateffect_x1^2)\n",
    "print(paste(\"Sum-square Treatment Effect Vector : \", sumsquare_treateffectx1))"
   ]
  },
  {
   "cell_type": "code",
   "execution_count": 13,
   "id": "00ab521e",
   "metadata": {
    "ExecuteTime": {
     "end_time": "2022-03-27T11:13:14.749278Z",
     "start_time": "2022-03-27T11:13:12.263Z"
    },
    "hidden": true
   },
   "outputs": [
    {
     "name": "stdout",
     "output_type": "stream",
     "text": [
      "[1] \"Treatment Effect Vector : \"\n"
     ]
    },
    {
     "data": {
      "text/html": [
       "<style>\n",
       ".list-inline {list-style: none; margin:0; padding: 0}\n",
       ".list-inline>li {display: inline-block}\n",
       ".list-inline>li:not(:last-child)::after {content: \"\\00b7\"; padding: 0 .5ex}\n",
       "</style>\n",
       "<ol class=list-inline><li>0</li><li>-1</li><li>2</li><li>-2</li><li>1</li><li>1</li><li>-1</li><li>0</li><li>-1</li><li>2</li><li>0</li><li>-1</li></ol>\n"
      ],
      "text/latex": [
       "\\begin{enumerate*}\n",
       "\\item 0\n",
       "\\item -1\n",
       "\\item 2\n",
       "\\item -2\n",
       "\\item 1\n",
       "\\item 1\n",
       "\\item -1\n",
       "\\item 0\n",
       "\\item -1\n",
       "\\item 2\n",
       "\\item 0\n",
       "\\item -1\n",
       "\\end{enumerate*}\n"
      ],
      "text/markdown": [
       "1. 0\n",
       "2. -1\n",
       "3. 2\n",
       "4. -2\n",
       "5. 1\n",
       "6. 1\n",
       "7. -1\n",
       "8. 0\n",
       "9. -1\n",
       "10. 2\n",
       "11. 0\n",
       "12. -1\n",
       "\n",
       "\n"
      ],
      "text/plain": [
       " [1]  0 -1  2 -2  1  1 -1  0 -1  2  0 -1"
      ]
     },
     "metadata": {},
     "output_type": "display_data"
    },
    {
     "name": "stdout",
     "output_type": "stream",
     "text": [
      "[1] \"Sum-square Treatment Effect Vector :  18\"\n"
     ]
    }
   ],
   "source": [
    "#Residuals\n",
    "x1bar <- c(rep(x1t1_bar, length(x1t1)), \n",
    "                rep(x1t2_bar, length(x1t2)), \n",
    "                rep(x1t3_bar, length(x1t3)))\n",
    "\n",
    "residual_x1 <- obs_x1 - x1bar\n",
    "print(paste(\"Treatment Effect Vector : \"))\n",
    "residual_x1\n",
    "\n",
    "sumsquare_residx1 <- sum(residual_x1^2)\n",
    "print(paste(\"Sum-square Treatment Effect Vector : \", sumsquare_residx1))"
   ]
  },
  {
   "cell_type": "markdown",
   "id": "9efe380f",
   "metadata": {
    "heading_collapsed": true,
    "hidden": true
   },
   "source": [
    "### X2"
   ]
  },
  {
   "cell_type": "code",
   "execution_count": 14,
   "id": "c4bf0b9f",
   "metadata": {
    "ExecuteTime": {
     "end_time": "2022-03-27T11:13:14.787278Z",
     "start_time": "2022-03-27T11:13:12.266Z"
    },
    "hidden": true
   },
   "outputs": [
    {
     "name": "stdout",
     "output_type": "stream",
     "text": [
      "[1] \"Observation vector : \"\n"
     ]
    },
    {
     "data": {
      "text/html": [
       "<style>\n",
       ".list-inline {list-style: none; margin:0; padding: 0}\n",
       ".list-inline>li {display: inline-block}\n",
       ".list-inline>li:not(:last-child)::after {content: \"\\00b7\"; padding: 0 .5ex}\n",
       "</style>\n",
       "<ol class=list-inline><li>7</li><li>9</li><li>6</li><li>9</li><li>9</li><li>3</li><li>6</li><li>3</li><li>3</li><li>1</li><li>1</li><li>3</li></ol>\n"
      ],
      "text/latex": [
       "\\begin{enumerate*}\n",
       "\\item 7\n",
       "\\item 9\n",
       "\\item 6\n",
       "\\item 9\n",
       "\\item 9\n",
       "\\item 3\n",
       "\\item 6\n",
       "\\item 3\n",
       "\\item 3\n",
       "\\item 1\n",
       "\\item 1\n",
       "\\item 3\n",
       "\\end{enumerate*}\n"
      ],
      "text/markdown": [
       "1. 7\n",
       "2. 9\n",
       "3. 6\n",
       "4. 9\n",
       "5. 9\n",
       "6. 3\n",
       "7. 6\n",
       "8. 3\n",
       "9. 3\n",
       "10. 1\n",
       "11. 1\n",
       "12. 3\n",
       "\n",
       "\n"
      ],
      "text/plain": [
       " [1] 7 9 6 9 9 3 6 3 3 1 1 3"
      ]
     },
     "metadata": {},
     "output_type": "display_data"
    },
    {
     "name": "stdout",
     "output_type": "stream",
     "text": [
      "[1] \"Sum-square Observation vector :  402\"\n"
     ]
    }
   ],
   "source": [
    "#Observations\n",
    "obs_x2 <- c(x2t1, x2t2, x2t3)\n",
    "print(paste(\"Observation vector : \"))\n",
    "obs_x2\n",
    "\n",
    "sumsquare_obsx2 <- sum(obs_x2^2)\n",
    "print(paste(\"Sum-square Observation vector : \", sumsquare_obsx2))"
   ]
  },
  {
   "cell_type": "code",
   "execution_count": 15,
   "id": "847f38e6",
   "metadata": {
    "ExecuteTime": {
     "end_time": "2022-03-27T11:13:14.824280Z",
     "start_time": "2022-03-27T11:13:12.269Z"
    },
    "hidden": true
   },
   "outputs": [
    {
     "name": "stdout",
     "output_type": "stream",
     "text": [
      "[1] \"Mean Vector : \"\n"
     ]
    },
    {
     "data": {
      "text/html": [
       "<style>\n",
       ".list-inline {list-style: none; margin:0; padding: 0}\n",
       ".list-inline>li {display: inline-block}\n",
       ".list-inline>li:not(:last-child)::after {content: \"\\00b7\"; padding: 0 .5ex}\n",
       "</style>\n",
       "<ol class=list-inline><li>5</li><li>5</li><li>5</li><li>5</li><li>5</li><li>5</li><li>5</li><li>5</li><li>5</li><li>5</li><li>5</li><li>5</li></ol>\n"
      ],
      "text/latex": [
       "\\begin{enumerate*}\n",
       "\\item 5\n",
       "\\item 5\n",
       "\\item 5\n",
       "\\item 5\n",
       "\\item 5\n",
       "\\item 5\n",
       "\\item 5\n",
       "\\item 5\n",
       "\\item 5\n",
       "\\item 5\n",
       "\\item 5\n",
       "\\item 5\n",
       "\\end{enumerate*}\n"
      ],
      "text/markdown": [
       "1. 5\n",
       "2. 5\n",
       "3. 5\n",
       "4. 5\n",
       "5. 5\n",
       "6. 5\n",
       "7. 5\n",
       "8. 5\n",
       "9. 5\n",
       "10. 5\n",
       "11. 5\n",
       "12. 5\n",
       "\n",
       "\n"
      ],
      "text/plain": [
       " [1] 5 5 5 5 5 5 5 5 5 5 5 5"
      ]
     },
     "metadata": {},
     "output_type": "display_data"
    },
    {
     "name": "stdout",
     "output_type": "stream",
     "text": [
      "[1] \"Sum-Square Mean Vector :  300\"\n"
     ]
    }
   ],
   "source": [
    "#Means\n",
    "meanx2 <- mean(obs_x2)\n",
    "print(paste(\"Mean Vector : \"))\n",
    "(mean_x2 <- c(rep(meanx2, length(x2t1)), \n",
    "              rep(meanx2, length(x2t2)), \n",
    "              rep(meanx2, length(x2t3))))\n",
    "\n",
    "sumsquare_meanx2 <- sum(mean_x2^2)\n",
    "print(paste(\"Sum-Square Mean Vector : \", sumsquare_meanx2))"
   ]
  },
  {
   "cell_type": "code",
   "execution_count": 16,
   "id": "c57d827f",
   "metadata": {
    "ExecuteTime": {
     "end_time": "2022-03-27T11:13:14.870280Z",
     "start_time": "2022-03-27T11:13:12.272Z"
    },
    "hidden": true
   },
   "outputs": [
    {
     "name": "stdout",
     "output_type": "stream",
     "text": [
      "[1] \"Treatment Effect Vector : \"\n"
     ]
    },
    {
     "data": {
      "text/html": [
       "<style>\n",
       ".list-inline {list-style: none; margin:0; padding: 0}\n",
       ".list-inline>li {display: inline-block}\n",
       ".list-inline>li:not(:last-child)::after {content: \"\\00b7\"; padding: 0 .5ex}\n",
       "</style>\n",
       "<ol class=list-inline><li>3</li><li>3</li><li>3</li><li>3</li><li>3</li><li>-1</li><li>-1</li><li>-1</li><li>-3</li><li>-3</li><li>-3</li><li>-3</li></ol>\n"
      ],
      "text/latex": [
       "\\begin{enumerate*}\n",
       "\\item 3\n",
       "\\item 3\n",
       "\\item 3\n",
       "\\item 3\n",
       "\\item 3\n",
       "\\item -1\n",
       "\\item -1\n",
       "\\item -1\n",
       "\\item -3\n",
       "\\item -3\n",
       "\\item -3\n",
       "\\item -3\n",
       "\\end{enumerate*}\n"
      ],
      "text/markdown": [
       "1. 3\n",
       "2. 3\n",
       "3. 3\n",
       "4. 3\n",
       "5. 3\n",
       "6. -1\n",
       "7. -1\n",
       "8. -1\n",
       "9. -3\n",
       "10. -3\n",
       "11. -3\n",
       "12. -3\n",
       "\n",
       "\n"
      ],
      "text/plain": [
       " [1]  3  3  3  3  3 -1 -1 -1 -3 -3 -3 -3"
      ]
     },
     "metadata": {},
     "output_type": "display_data"
    },
    {
     "name": "stdout",
     "output_type": "stream",
     "text": [
      "[1] \"Sum-square Treatment Effect Vector :  84\"\n"
     ]
    }
   ],
   "source": [
    "#Treatment Effects\n",
    "x2t1_bar <- mean(x2t1)\n",
    "x2t2_bar <- mean(x2t2)\n",
    "x2t3_bar <- mean(x2t3)\n",
    "treateffect_x2t1 <- x2t1_bar - meanx2\n",
    "treateffect_x2t2 <- x2t2_bar - meanx2\n",
    "treateffect_x2t3 <- x2t3_bar - meanx2\n",
    "\n",
    "treateffect_x2 <- c(rep(treateffect_x2t1, length(x2t1)), \n",
    "                     rep(treateffect_x2t2, length(x2t2)), \n",
    "                     rep(treateffect_x2t3, length(x2t3)))\n",
    "print(paste(\"Treatment Effect Vector : \"))\n",
    "treateffect_x2\n",
    "\n",
    "sumsquare_treateffectx2 <- sum(treateffect_x2^2)\n",
    "print(paste(\"Sum-square Treatment Effect Vector : \", sumsquare_treateffectx2))"
   ]
  },
  {
   "cell_type": "code",
   "execution_count": 17,
   "id": "29828722",
   "metadata": {
    "ExecuteTime": {
     "end_time": "2022-03-27T11:13:14.911315Z",
     "start_time": "2022-03-27T11:13:12.274Z"
    },
    "hidden": true
   },
   "outputs": [
    {
     "name": "stdout",
     "output_type": "stream",
     "text": [
      "[1] \"Residual Effect Vector : \"\n"
     ]
    },
    {
     "data": {
      "text/html": [
       "<style>\n",
       ".list-inline {list-style: none; margin:0; padding: 0}\n",
       ".list-inline>li {display: inline-block}\n",
       ".list-inline>li:not(:last-child)::after {content: \"\\00b7\"; padding: 0 .5ex}\n",
       "</style>\n",
       "<ol class=list-inline><li>-1</li><li>1</li><li>-2</li><li>1</li><li>1</li><li>-1</li><li>2</li><li>-1</li><li>1</li><li>-1</li><li>-1</li><li>1</li></ol>\n"
      ],
      "text/latex": [
       "\\begin{enumerate*}\n",
       "\\item -1\n",
       "\\item 1\n",
       "\\item -2\n",
       "\\item 1\n",
       "\\item 1\n",
       "\\item -1\n",
       "\\item 2\n",
       "\\item -1\n",
       "\\item 1\n",
       "\\item -1\n",
       "\\item -1\n",
       "\\item 1\n",
       "\\end{enumerate*}\n"
      ],
      "text/markdown": [
       "1. -1\n",
       "2. 1\n",
       "3. -2\n",
       "4. 1\n",
       "5. 1\n",
       "6. -1\n",
       "7. 2\n",
       "8. -1\n",
       "9. 1\n",
       "10. -1\n",
       "11. -1\n",
       "12. 1\n",
       "\n",
       "\n"
      ],
      "text/plain": [
       " [1] -1  1 -2  1  1 -1  2 -1  1 -1 -1  1"
      ]
     },
     "metadata": {},
     "output_type": "display_data"
    },
    {
     "name": "stdout",
     "output_type": "stream",
     "text": [
      "[1] \"Sum-square Residual Effect Vector :  18\"\n"
     ]
    }
   ],
   "source": [
    "#Residuals\n",
    "x2bar <- c(rep(x2t1_bar, length(x2t1)), \n",
    "                rep(x2t2_bar, length(x2t2)), \n",
    "                rep(x2t3_bar, length(x2t3)))\n",
    "\n",
    "residual_x2 <- obs_x2 - x2bar\n",
    "print(paste(\"Residual Effect Vector : \"))\n",
    "residual_x2\n",
    "\n",
    "sumsquare_residx2 <- sum(residual_x2^2)\n",
    "print(paste(\"Sum-square Residual Effect Vector : \", sumsquare_residx2))"
   ]
  },
  {
   "cell_type": "markdown",
   "id": "82be6918",
   "metadata": {
    "heading_collapsed": true,
    "hidden": true
   },
   "source": [
    "### Cross products contributions"
   ]
  },
  {
   "cell_type": "code",
   "execution_count": 18,
   "id": "b09e8a3e",
   "metadata": {
    "ExecuteTime": {
     "end_time": "2022-03-27T11:13:14.938317Z",
     "start_time": "2022-03-27T11:13:12.277Z"
    },
    "hidden": true
   },
   "outputs": [
    {
     "name": "stdout",
     "output_type": "stream",
     "text": [
      "[1] \"Cross Products of Observations Sum-squares : 275\"\n"
     ]
    }
   ],
   "source": [
    "crossprodsumsquare_obs <- crossprod(obs_x1, obs_x2)\n",
    "print(paste(\"Cross Products of Observations Sum-squares :\", crossprodsumsquare_obs))"
   ]
  },
  {
   "cell_type": "code",
   "execution_count": 19,
   "id": "21db2026",
   "metadata": {
    "ExecuteTime": {
     "end_time": "2022-03-27T11:13:14.966279Z",
     "start_time": "2022-03-27T11:13:12.280Z"
    },
    "hidden": true
   },
   "outputs": [
    {
     "name": "stdout",
     "output_type": "stream",
     "text": [
      "[1] \"Cross Products of Means Sum-squares : 240\"\n"
     ]
    }
   ],
   "source": [
    "crossprodsumsquare_mean <- crossprod(mean_x1, mean_x2)\n",
    "print(paste(\"Cross Products of Means Sum-squares :\", crossprodsumsquare_mean))"
   ]
  },
  {
   "cell_type": "code",
   "execution_count": 20,
   "id": "e4a351f8",
   "metadata": {
    "ExecuteTime": {
     "end_time": "2022-03-27T11:13:14.996279Z",
     "start_time": "2022-03-27T11:13:12.282Z"
    },
    "hidden": true
   },
   "outputs": [
    {
     "name": "stdout",
     "output_type": "stream",
     "text": [
      "[1] \"Total Corrected : 35\"\n"
     ]
    }
   ],
   "source": [
    "crossprodsumsquare_corr <- crossprodsumsquare_obs - crossprodsumsquare_mean\n",
    "print(paste(\"Total Corrected :\", crossprodsumsquare_corr))"
   ]
  },
  {
   "cell_type": "code",
   "execution_count": 21,
   "id": "ad1da8d2",
   "metadata": {
    "ExecuteTime": {
     "end_time": "2022-03-27T11:13:15.023256Z",
     "start_time": "2022-03-27T11:13:12.285Z"
    },
    "hidden": true
   },
   "outputs": [
    {
     "name": "stdout",
     "output_type": "stream",
     "text": [
      "[1] \"Cross Product of Treatment Sum-Squares : 48\"\n"
     ]
    }
   ],
   "source": [
    "crossprodsumsquare_treateffect <- crossprod(treateffect_x1, treateffect_x2)\n",
    "print(paste(\"Cross Product of Treatment Sum-Squares :\", crossprodsumsquare_treateffect))"
   ]
  },
  {
   "cell_type": "code",
   "execution_count": 22,
   "id": "38b9a908",
   "metadata": {
    "ExecuteTime": {
     "end_time": "2022-03-27T11:13:15.048257Z",
     "start_time": "2022-03-27T11:13:12.288Z"
    },
    "hidden": true
   },
   "outputs": [
    {
     "name": "stdout",
     "output_type": "stream",
     "text": [
      "[1] \"Cross Product Residual Sum-Squares : -13\"\n"
     ]
    }
   ],
   "source": [
    "crossprodsumsquare_residual <- crossprod(residual_x1, residual_x2)\n",
    "print(paste(\"Cross Product Residual Sum-Squares :\", crossprodsumsquare_residual))"
   ]
  },
  {
   "cell_type": "markdown",
   "id": "bb6d36e3",
   "metadata": {
    "hidden": true
   },
   "source": [
    "## b). Using the information in Part a, construct the one-way MANOVA table."
   ]
  },
  {
   "cell_type": "code",
   "execution_count": 23,
   "id": "e5e1f7d5",
   "metadata": {
    "ExecuteTime": {
     "end_time": "2022-03-27T11:13:15.086257Z",
     "start_time": "2022-03-27T11:13:12.291Z"
    },
    "hidden": true
   },
   "outputs": [
    {
     "name": "stdout",
     "output_type": "stream",
     "text": [
      "[1] \"Sum-Squares Matrix of Treatment :\"\n"
     ]
    },
    {
     "data": {
      "text/html": [
       "<table class=\"dataframe\">\n",
       "<caption>A matrix: 2 × 2 of type dbl</caption>\n",
       "<tbody>\n",
       "\t<tr><td>36</td><td>48</td></tr>\n",
       "\t<tr><td>48</td><td>84</td></tr>\n",
       "</tbody>\n",
       "</table>\n"
      ],
      "text/latex": [
       "A matrix: 2 × 2 of type dbl\n",
       "\\begin{tabular}{ll}\n",
       "\t 36 & 48\\\\\n",
       "\t 48 & 84\\\\\n",
       "\\end{tabular}\n"
      ],
      "text/markdown": [
       "\n",
       "A matrix: 2 × 2 of type dbl\n",
       "\n",
       "| 36 | 48 |\n",
       "| 48 | 84 |\n",
       "\n"
      ],
      "text/plain": [
       "     [,1] [,2]\n",
       "[1,] 36   48  \n",
       "[2,] 48   84  "
      ]
     },
     "metadata": {},
     "output_type": "display_data"
    },
    {
     "name": "stdout",
     "output_type": "stream",
     "text": [
      "[1] \"Degree of Freedom of Treatment : 9\"\n"
     ]
    }
   ],
   "source": [
    "SSM_treatment <- matrix(c(sumsquare_treateffectx1, crossprodsumsquare_treateffect,\n",
    "                          crossprodsumsquare_treateffect, sumsquare_treateffectx2),\n",
    "                        byrow = T, ncol = 2)\n",
    "print(\"Sum-Squares Matrix of Treatment :\")\n",
    "SSM_treatment\n",
    "\n",
    "df_treatment <- length(obs_x1) - 3\n",
    "print(paste(\"Degree of Freedom of Treatment :\", df_treatment))"
   ]
  },
  {
   "cell_type": "code",
   "execution_count": 24,
   "id": "cad5055f",
   "metadata": {
    "ExecuteTime": {
     "end_time": "2022-03-27T11:13:15.128256Z",
     "start_time": "2022-03-27T11:13:12.294Z"
    },
    "hidden": true
   },
   "outputs": [
    {
     "name": "stdout",
     "output_type": "stream",
     "text": [
      "[1] \"Sum-Squares Matrix of Residual :\"\n"
     ]
    },
    {
     "data": {
      "text/html": [
       "<table class=\"dataframe\">\n",
       "<caption>A matrix: 2 × 2 of type dbl</caption>\n",
       "<tbody>\n",
       "\t<tr><td> 18</td><td>-13</td></tr>\n",
       "\t<tr><td>-13</td><td> 18</td></tr>\n",
       "</tbody>\n",
       "</table>\n"
      ],
      "text/latex": [
       "A matrix: 2 × 2 of type dbl\n",
       "\\begin{tabular}{ll}\n",
       "\t  18 & -13\\\\\n",
       "\t -13 &  18\\\\\n",
       "\\end{tabular}\n"
      ],
      "text/markdown": [
       "\n",
       "A matrix: 2 × 2 of type dbl\n",
       "\n",
       "|  18 | -13 |\n",
       "| -13 |  18 |\n",
       "\n"
      ],
      "text/plain": [
       "     [,1] [,2]\n",
       "[1,]  18  -13 \n",
       "[2,] -13   18 "
      ]
     },
     "metadata": {},
     "output_type": "display_data"
    },
    {
     "name": "stdout",
     "output_type": "stream",
     "text": [
      "[1] \"Degree of Freedom of Residual : 2\"\n"
     ]
    }
   ],
   "source": [
    "SSM_residual <- matrix(c(sumsquare_residx1, crossprodsumsquare_residual,\n",
    "                         crossprodsumsquare_residual, sumsquare_residx2),\n",
    "                       byrow = TRUE, ncol = 2)\n",
    "print(\"Sum-Squares Matrix of Residual :\")\n",
    "SSM_residual\n",
    "\n",
    "df_residual <- 3 - 1\n",
    "print(paste(\"Degree of Freedom of Residual :\", df_residual))"
   ]
  },
  {
   "cell_type": "code",
   "execution_count": 25,
   "id": "1021dc33",
   "metadata": {
    "ExecuteTime": {
     "end_time": "2022-03-27T11:13:15.163259Z",
     "start_time": "2022-03-27T11:13:12.296Z"
    },
    "hidden": true
   },
   "outputs": [
    {
     "name": "stdout",
     "output_type": "stream",
     "text": [
      "[1] \"Sum-Squares Matrix of Total Corrected :\"\n"
     ]
    },
    {
     "data": {
      "text/html": [
       "<table class=\"dataframe\">\n",
       "<caption>A matrix: 2 × 2 of type dbl</caption>\n",
       "<tbody>\n",
       "\t<tr><td>54</td><td> 35</td></tr>\n",
       "\t<tr><td>35</td><td>102</td></tr>\n",
       "</tbody>\n",
       "</table>\n"
      ],
      "text/latex": [
       "A matrix: 2 × 2 of type dbl\n",
       "\\begin{tabular}{ll}\n",
       "\t 54 &  35\\\\\n",
       "\t 35 & 102\\\\\n",
       "\\end{tabular}\n"
      ],
      "text/markdown": [
       "\n",
       "A matrix: 2 × 2 of type dbl\n",
       "\n",
       "| 54 |  35 |\n",
       "| 35 | 102 |\n",
       "\n"
      ],
      "text/plain": [
       "     [,1] [,2]\n",
       "[1,] 54    35 \n",
       "[2,] 35   102 "
      ]
     },
     "metadata": {},
     "output_type": "display_data"
    },
    {
     "name": "stdout",
     "output_type": "stream",
     "text": [
      "[1] \"Degree of Freedom of Total Correction : 11\"\n"
     ]
    }
   ],
   "source": [
    "SSM_TotalCorrected <- SSM_treatment + SSM_residual\n",
    "print(\"Sum-Squares Matrix of Total Corrected :\")\n",
    "SSM_TotalCorrected\n",
    "\n",
    "df_totalcorrected <- df_treatment + df_residual\n",
    "print(paste(\"Degree of Freedom of Total Correction :\", df_totalcorrected))"
   ]
  },
  {
   "cell_type": "markdown",
   "id": "13256fd7",
   "metadata": {
    "hidden": true
   },
   "source": [
    "## c) Evaluate Wilks’ lambda, A*, and use Table 6.3 to test for treatment effects. Set a = .01. Repeat the test using the chi-square approximation with Bartlett's correction. [See (6-39).] Compare the conclusions."
   ]
  },
  {
   "cell_type": "markdown",
   "id": "28a173ad",
   "metadata": {
    "heading_collapsed": true,
    "hidden": true
   },
   "source": [
    "### (1) Calculating Wilks’ lambda A* with the F-table value"
   ]
  },
  {
   "cell_type": "code",
   "execution_count": 26,
   "id": "859893f7",
   "metadata": {
    "ExecuteTime": {
     "end_time": "2022-03-27T11:13:15.189254Z",
     "start_time": "2022-03-27T11:13:12.299Z"
    },
    "hidden": true
   },
   "outputs": [
    {
     "data": {
      "text/html": [
       "0.0361895867382676"
      ],
      "text/latex": [
       "0.0361895867382676"
      ],
      "text/markdown": [
       "0.0361895867382676"
      ],
      "text/plain": [
       "[1] 0.03618959"
      ]
     },
     "metadata": {},
     "output_type": "display_data"
    }
   ],
   "source": [
    "a_star <- det(SSM_residual) / det(SSM_TotalCorrected)\n",
    "a_star"
   ]
  },
  {
   "cell_type": "code",
   "execution_count": 27,
   "id": "b5ffc6e6",
   "metadata": {
    "ExecuteTime": {
     "end_time": "2022-03-27T11:13:15.234256Z",
     "start_time": "2022-03-27T11:13:12.302Z"
    },
    "hidden": true
   },
   "outputs": [
    {
     "name": "stdout",
     "output_type": "stream",
     "text": [
      "[1] \"Wilks' Lambda A* : 17.0265577076291\"\n",
      "[1] \"Ftable Value :  4.77257799972321\"\n"
     ]
    }
   ],
   "source": [
    "g <- 3\n",
    "p <- 2\n",
    "n <- length(obs_x1)\n",
    "alpha01 <- 0.01\n",
    "\n",
    "Wilk_dist <- ((1 - sqrt(a_star))/sqrt(a_star)) * ((n - g - 1)/(g - 1))\n",
    "print(paste(\"Wilks' Lambda A* :\", Wilk_dist))\n",
    "\n",
    "Ftable <- qf(1 - alpha01, df1 = 2 * (g - 1), df2 = 2 * (n - g - 1))\n",
    "print(paste(\"Ftable Value : \", Ftable))"
   ]
  },
  {
   "cell_type": "raw",
   "id": "45076c22",
   "metadata": {
    "hidden": true
   },
   "source": [
    "17.0265577076291 > 4.77257799972321, Wilks’ Lambda A* > 4.77257799972321. Berdasarkan hasil tersebut, dapat disimpulkan bahwa terdapat perbedaan antar-treatment pada taraf signifikansi 1%."
   ]
  },
  {
   "cell_type": "markdown",
   "id": "62f1e628",
   "metadata": {
    "heading_collapsed": true,
    "hidden": true
   },
   "source": [
    "### (2) Calculating Chi-square approximation test using Bartlett’ correction"
   ]
  },
  {
   "cell_type": "code",
   "execution_count": 28,
   "id": "07ccefc9",
   "metadata": {
    "ExecuteTime": {
     "end_time": "2022-03-27T11:13:15.273293Z",
     "start_time": "2022-03-27T11:13:12.327Z"
    },
    "hidden": true
   },
   "outputs": [
    {
     "name": "stdout",
     "output_type": "stream",
     "text": [
      "[1] \"Bartlett's Correction : 28.211362815917\"\n",
      "[1] \"Chi-square Table Value: 13.2767041359876\"\n"
     ]
    }
   ],
   "source": [
    "BartlettCorr <- - (n - 1 - ((p + g) / 2)) * log(a_star)\n",
    "print(paste(\"Bartlett's Correction :\", BartlettCorr))\n",
    "\n",
    "Chitable <- qchisq(1 - alpha01, p * (g - 1))\n",
    "print(paste(\"Chi-square Table Value:\", Chitable))"
   ]
  },
  {
   "cell_type": "raw",
   "id": "d60d7b5e",
   "metadata": {
    "hidden": true
   },
   "source": [
    "28.211362815917 > 13.2767041359876, Bartlett's Correction > Chi-square Table Value. Berdasarkan hasil tersebut, dapat disimpulkan bahwa terdapat perbedaan antar-treatment pada taraf signifikansi 1%"
   ]
  },
  {
   "cell_type": "markdown",
   "id": "df23ef6d",
   "metadata": {},
   "source": [
    "# 6.19"
   ]
  },
  {
   "cell_type": "raw",
   "id": "df7da0cd",
   "metadata": {},
   "source": [
    "In the first phase of a study of the cost of transporting milk from farms to dairy plants, a survey was taken of firms engaged in milk transportation. Cost data on X1 = fuel, X2 = repair, and X3 = capital, al measured on a per-mile basis, are presented in Table 6.10 on page 340 for n1 = 36 gasoline and n2 = 23 diesel trucks."
   ]
  },
  {
   "cell_type": "markdown",
   "id": "dd7693ef",
   "metadata": {},
   "source": [
    "### Dataset"
   ]
  },
  {
   "cell_type": "code",
   "execution_count": 29,
   "id": "27efc979",
   "metadata": {
    "ExecuteTime": {
     "end_time": "2022-03-27T11:13:15.332257Z",
     "start_time": "2022-03-27T11:13:12.366Z"
    },
    "scrolled": true
   },
   "outputs": [
    {
     "data": {
      "text/html": [
       "<table class=\"dataframe\">\n",
       "<caption>A tibble: 23 × 3</caption>\n",
       "<thead>\n",
       "\t<tr><th scope=col>fuel_diesel</th><th scope=col>repair_diesel</th><th scope=col>capital_diesel</th></tr>\n",
       "\t<tr><th scope=col>&lt;dbl&gt;</th><th scope=col>&lt;dbl&gt;</th><th scope=col>&lt;dbl&gt;</th></tr>\n",
       "</thead>\n",
       "<tbody>\n",
       "\t<tr><td> 8.50</td><td>12.26</td><td> 9.11</td></tr>\n",
       "\t<tr><td> 7.42</td><td> 5.13</td><td>17.15</td></tr>\n",
       "\t<tr><td>10.28</td><td> 3.32</td><td>11.23</td></tr>\n",
       "\t<tr><td>10.16</td><td>14.72</td><td> 5.99</td></tr>\n",
       "\t<tr><td>12.79</td><td> 4.17</td><td>29.28</td></tr>\n",
       "\t<tr><td> 9.60</td><td>12.72</td><td>11.00</td></tr>\n",
       "\t<tr><td> 6.47</td><td> 8.89</td><td>19.00</td></tr>\n",
       "\t<tr><td>11.35</td><td> 9.95</td><td>14.53</td></tr>\n",
       "\t<tr><td> 9.15</td><td> 2.94</td><td>13.68</td></tr>\n",
       "\t<tr><td> 9.70</td><td> 5.06</td><td>20.84</td></tr>\n",
       "\t<tr><td> 9.77</td><td>17.86</td><td>35.18</td></tr>\n",
       "\t<tr><td>11.61</td><td>11.75</td><td>17.00</td></tr>\n",
       "\t<tr><td> 9.09</td><td>13.25</td><td>20.66</td></tr>\n",
       "\t<tr><td> 8.53</td><td>10.14</td><td>17.45</td></tr>\n",
       "\t<tr><td> 8.29</td><td> 6.22</td><td>16.38</td></tr>\n",
       "\t<tr><td>15.90</td><td>12.90</td><td>19.09</td></tr>\n",
       "\t<tr><td>11.94</td><td> 5.69</td><td>14.77</td></tr>\n",
       "\t<tr><td> 9.54</td><td>16.77</td><td>22.66</td></tr>\n",
       "\t<tr><td>10.43</td><td>17.65</td><td>10.66</td></tr>\n",
       "\t<tr><td>10.87</td><td>21.52</td><td>28.47</td></tr>\n",
       "\t<tr><td> 7.13</td><td>13.22</td><td>19.44</td></tr>\n",
       "\t<tr><td>11.88</td><td>12.18</td><td>21.20</td></tr>\n",
       "\t<tr><td>12.03</td><td> 9.22</td><td>23.09</td></tr>\n",
       "</tbody>\n",
       "</table>\n"
      ],
      "text/latex": [
       "A tibble: 23 × 3\n",
       "\\begin{tabular}{lll}\n",
       " fuel\\_diesel & repair\\_diesel & capital\\_diesel\\\\\n",
       " <dbl> & <dbl> & <dbl>\\\\\n",
       "\\hline\n",
       "\t  8.50 & 12.26 &  9.11\\\\\n",
       "\t  7.42 &  5.13 & 17.15\\\\\n",
       "\t 10.28 &  3.32 & 11.23\\\\\n",
       "\t 10.16 & 14.72 &  5.99\\\\\n",
       "\t 12.79 &  4.17 & 29.28\\\\\n",
       "\t  9.60 & 12.72 & 11.00\\\\\n",
       "\t  6.47 &  8.89 & 19.00\\\\\n",
       "\t 11.35 &  9.95 & 14.53\\\\\n",
       "\t  9.15 &  2.94 & 13.68\\\\\n",
       "\t  9.70 &  5.06 & 20.84\\\\\n",
       "\t  9.77 & 17.86 & 35.18\\\\\n",
       "\t 11.61 & 11.75 & 17.00\\\\\n",
       "\t  9.09 & 13.25 & 20.66\\\\\n",
       "\t  8.53 & 10.14 & 17.45\\\\\n",
       "\t  8.29 &  6.22 & 16.38\\\\\n",
       "\t 15.90 & 12.90 & 19.09\\\\\n",
       "\t 11.94 &  5.69 & 14.77\\\\\n",
       "\t  9.54 & 16.77 & 22.66\\\\\n",
       "\t 10.43 & 17.65 & 10.66\\\\\n",
       "\t 10.87 & 21.52 & 28.47\\\\\n",
       "\t  7.13 & 13.22 & 19.44\\\\\n",
       "\t 11.88 & 12.18 & 21.20\\\\\n",
       "\t 12.03 &  9.22 & 23.09\\\\\n",
       "\\end{tabular}\n"
      ],
      "text/markdown": [
       "\n",
       "A tibble: 23 × 3\n",
       "\n",
       "| fuel_diesel &lt;dbl&gt; | repair_diesel &lt;dbl&gt; | capital_diesel &lt;dbl&gt; |\n",
       "|---|---|---|\n",
       "|  8.50 | 12.26 |  9.11 |\n",
       "|  7.42 |  5.13 | 17.15 |\n",
       "| 10.28 |  3.32 | 11.23 |\n",
       "| 10.16 | 14.72 |  5.99 |\n",
       "| 12.79 |  4.17 | 29.28 |\n",
       "|  9.60 | 12.72 | 11.00 |\n",
       "|  6.47 |  8.89 | 19.00 |\n",
       "| 11.35 |  9.95 | 14.53 |\n",
       "|  9.15 |  2.94 | 13.68 |\n",
       "|  9.70 |  5.06 | 20.84 |\n",
       "|  9.77 | 17.86 | 35.18 |\n",
       "| 11.61 | 11.75 | 17.00 |\n",
       "|  9.09 | 13.25 | 20.66 |\n",
       "|  8.53 | 10.14 | 17.45 |\n",
       "|  8.29 |  6.22 | 16.38 |\n",
       "| 15.90 | 12.90 | 19.09 |\n",
       "| 11.94 |  5.69 | 14.77 |\n",
       "|  9.54 | 16.77 | 22.66 |\n",
       "| 10.43 | 17.65 | 10.66 |\n",
       "| 10.87 | 21.52 | 28.47 |\n",
       "|  7.13 | 13.22 | 19.44 |\n",
       "| 11.88 | 12.18 | 21.20 |\n",
       "| 12.03 |  9.22 | 23.09 |\n",
       "\n"
      ],
      "text/plain": [
       "   fuel_diesel repair_diesel capital_diesel\n",
       "1   8.50       12.26          9.11         \n",
       "2   7.42        5.13         17.15         \n",
       "3  10.28        3.32         11.23         \n",
       "4  10.16       14.72          5.99         \n",
       "5  12.79        4.17         29.28         \n",
       "6   9.60       12.72         11.00         \n",
       "7   6.47        8.89         19.00         \n",
       "8  11.35        9.95         14.53         \n",
       "9   9.15        2.94         13.68         \n",
       "10  9.70        5.06         20.84         \n",
       "11  9.77       17.86         35.18         \n",
       "12 11.61       11.75         17.00         \n",
       "13  9.09       13.25         20.66         \n",
       "14  8.53       10.14         17.45         \n",
       "15  8.29        6.22         16.38         \n",
       "16 15.90       12.90         19.09         \n",
       "17 11.94        5.69         14.77         \n",
       "18  9.54       16.77         22.66         \n",
       "19 10.43       17.65         10.66         \n",
       "20 10.87       21.52         28.47         \n",
       "21  7.13       13.22         19.44         \n",
       "22 11.88       12.18         21.20         \n",
       "23 12.03        9.22         23.09         "
      ]
     },
     "metadata": {},
     "output_type": "display_data"
    }
   ],
   "source": [
    "Diesel<-read_excel(\"Diesel_Pop.xlsx\")\n",
    "Diesel"
   ]
  },
  {
   "cell_type": "code",
   "execution_count": 30,
   "id": "5aa71f20",
   "metadata": {
    "ExecuteTime": {
     "end_time": "2022-03-27T11:13:15.418282Z",
     "start_time": "2022-03-27T11:13:12.369Z"
    },
    "scrolled": true
   },
   "outputs": [
    {
     "data": {
      "text/html": [
       "<table class=\"dataframe\">\n",
       "<caption>A tibble: 36 × 3</caption>\n",
       "<thead>\n",
       "\t<tr><th scope=col>fuel_gas</th><th scope=col>repair_gas</th><th scope=col>capital_gas</th></tr>\n",
       "\t<tr><th scope=col>&lt;dbl&gt;</th><th scope=col>&lt;dbl&gt;</th><th scope=col>&lt;dbl&gt;</th></tr>\n",
       "</thead>\n",
       "<tbody>\n",
       "\t<tr><td>16.44</td><td>12.43</td><td>11.23</td></tr>\n",
       "\t<tr><td> 7.19</td><td> 2.70</td><td> 3.92</td></tr>\n",
       "\t<tr><td> 9.92</td><td> 1.35</td><td> 9.75</td></tr>\n",
       "\t<tr><td> 4.24</td><td> 5.78</td><td> 7.78</td></tr>\n",
       "\t<tr><td>11.20</td><td> 5.05</td><td>10.67</td></tr>\n",
       "\t<tr><td>14.25</td><td> 5.78</td><td> 9.88</td></tr>\n",
       "\t<tr><td>13.50</td><td>10.98</td><td>10.60</td></tr>\n",
       "\t<tr><td>13.32</td><td>14.27</td><td> 9.45</td></tr>\n",
       "\t<tr><td>29.11</td><td>15.09</td><td> 3.28</td></tr>\n",
       "\t<tr><td>12.68</td><td> 7.61</td><td>10.23</td></tr>\n",
       "\t<tr><td> 7.51</td><td> 5.80</td><td> 8.13</td></tr>\n",
       "\t<tr><td> 9.90</td><td> 3.63</td><td> 9.13</td></tr>\n",
       "\t<tr><td>10.25</td><td> 5.07</td><td>10.17</td></tr>\n",
       "\t<tr><td>11.11</td><td> 6.15</td><td> 7.61</td></tr>\n",
       "\t<tr><td>12.17</td><td>14.26</td><td>14.39</td></tr>\n",
       "\t<tr><td>10.24</td><td> 2.59</td><td> 6.09</td></tr>\n",
       "\t<tr><td>10.18</td><td> 6.05</td><td>12.14</td></tr>\n",
       "\t<tr><td> 8.88</td><td> 2.70</td><td>12.23</td></tr>\n",
       "\t<tr><td>12.34</td><td> 7.73</td><td>11.68</td></tr>\n",
       "\t<tr><td> 8.51</td><td>14.02</td><td>12.01</td></tr>\n",
       "\t<tr><td>26.16</td><td>17.44</td><td>16.89</td></tr>\n",
       "\t<tr><td>12.95</td><td> 8.24</td><td> 7.18</td></tr>\n",
       "\t<tr><td>16.93</td><td>13.37</td><td>17.59</td></tr>\n",
       "\t<tr><td>14.70</td><td>10.78</td><td>14.58</td></tr>\n",
       "\t<tr><td>10.32</td><td> 5.16</td><td>17.00</td></tr>\n",
       "\t<tr><td> 8.98</td><td> 4.49</td><td> 4.26</td></tr>\n",
       "\t<tr><td> 9.70</td><td>11.59</td><td> 6.83</td></tr>\n",
       "\t<tr><td>12.72</td><td> 8.63</td><td> 5.59</td></tr>\n",
       "\t<tr><td> 9.49</td><td> 2.16</td><td> 6.23</td></tr>\n",
       "\t<tr><td> 8.22</td><td> 7.95</td><td> 6.72</td></tr>\n",
       "\t<tr><td>13.70</td><td>11.22</td><td> 4.91</td></tr>\n",
       "\t<tr><td> 8.21</td><td> 9.85</td><td> 8.17</td></tr>\n",
       "\t<tr><td>15.86</td><td>11.42</td><td>13.06</td></tr>\n",
       "\t<tr><td> 9.18</td><td> 9.18</td><td> 9.49</td></tr>\n",
       "\t<tr><td>12.49</td><td> 4.67</td><td>11.94</td></tr>\n",
       "\t<tr><td>17.32</td><td> 6.86</td><td> 4.44</td></tr>\n",
       "</tbody>\n",
       "</table>\n"
      ],
      "text/latex": [
       "A tibble: 36 × 3\n",
       "\\begin{tabular}{lll}\n",
       " fuel\\_gas & repair\\_gas & capital\\_gas\\\\\n",
       " <dbl> & <dbl> & <dbl>\\\\\n",
       "\\hline\n",
       "\t 16.44 & 12.43 & 11.23\\\\\n",
       "\t  7.19 &  2.70 &  3.92\\\\\n",
       "\t  9.92 &  1.35 &  9.75\\\\\n",
       "\t  4.24 &  5.78 &  7.78\\\\\n",
       "\t 11.20 &  5.05 & 10.67\\\\\n",
       "\t 14.25 &  5.78 &  9.88\\\\\n",
       "\t 13.50 & 10.98 & 10.60\\\\\n",
       "\t 13.32 & 14.27 &  9.45\\\\\n",
       "\t 29.11 & 15.09 &  3.28\\\\\n",
       "\t 12.68 &  7.61 & 10.23\\\\\n",
       "\t  7.51 &  5.80 &  8.13\\\\\n",
       "\t  9.90 &  3.63 &  9.13\\\\\n",
       "\t 10.25 &  5.07 & 10.17\\\\\n",
       "\t 11.11 &  6.15 &  7.61\\\\\n",
       "\t 12.17 & 14.26 & 14.39\\\\\n",
       "\t 10.24 &  2.59 &  6.09\\\\\n",
       "\t 10.18 &  6.05 & 12.14\\\\\n",
       "\t  8.88 &  2.70 & 12.23\\\\\n",
       "\t 12.34 &  7.73 & 11.68\\\\\n",
       "\t  8.51 & 14.02 & 12.01\\\\\n",
       "\t 26.16 & 17.44 & 16.89\\\\\n",
       "\t 12.95 &  8.24 &  7.18\\\\\n",
       "\t 16.93 & 13.37 & 17.59\\\\\n",
       "\t 14.70 & 10.78 & 14.58\\\\\n",
       "\t 10.32 &  5.16 & 17.00\\\\\n",
       "\t  8.98 &  4.49 &  4.26\\\\\n",
       "\t  9.70 & 11.59 &  6.83\\\\\n",
       "\t 12.72 &  8.63 &  5.59\\\\\n",
       "\t  9.49 &  2.16 &  6.23\\\\\n",
       "\t  8.22 &  7.95 &  6.72\\\\\n",
       "\t 13.70 & 11.22 &  4.91\\\\\n",
       "\t  8.21 &  9.85 &  8.17\\\\\n",
       "\t 15.86 & 11.42 & 13.06\\\\\n",
       "\t  9.18 &  9.18 &  9.49\\\\\n",
       "\t 12.49 &  4.67 & 11.94\\\\\n",
       "\t 17.32 &  6.86 &  4.44\\\\\n",
       "\\end{tabular}\n"
      ],
      "text/markdown": [
       "\n",
       "A tibble: 36 × 3\n",
       "\n",
       "| fuel_gas &lt;dbl&gt; | repair_gas &lt;dbl&gt; | capital_gas &lt;dbl&gt; |\n",
       "|---|---|---|\n",
       "| 16.44 | 12.43 | 11.23 |\n",
       "|  7.19 |  2.70 |  3.92 |\n",
       "|  9.92 |  1.35 |  9.75 |\n",
       "|  4.24 |  5.78 |  7.78 |\n",
       "| 11.20 |  5.05 | 10.67 |\n",
       "| 14.25 |  5.78 |  9.88 |\n",
       "| 13.50 | 10.98 | 10.60 |\n",
       "| 13.32 | 14.27 |  9.45 |\n",
       "| 29.11 | 15.09 |  3.28 |\n",
       "| 12.68 |  7.61 | 10.23 |\n",
       "|  7.51 |  5.80 |  8.13 |\n",
       "|  9.90 |  3.63 |  9.13 |\n",
       "| 10.25 |  5.07 | 10.17 |\n",
       "| 11.11 |  6.15 |  7.61 |\n",
       "| 12.17 | 14.26 | 14.39 |\n",
       "| 10.24 |  2.59 |  6.09 |\n",
       "| 10.18 |  6.05 | 12.14 |\n",
       "|  8.88 |  2.70 | 12.23 |\n",
       "| 12.34 |  7.73 | 11.68 |\n",
       "|  8.51 | 14.02 | 12.01 |\n",
       "| 26.16 | 17.44 | 16.89 |\n",
       "| 12.95 |  8.24 |  7.18 |\n",
       "| 16.93 | 13.37 | 17.59 |\n",
       "| 14.70 | 10.78 | 14.58 |\n",
       "| 10.32 |  5.16 | 17.00 |\n",
       "|  8.98 |  4.49 |  4.26 |\n",
       "|  9.70 | 11.59 |  6.83 |\n",
       "| 12.72 |  8.63 |  5.59 |\n",
       "|  9.49 |  2.16 |  6.23 |\n",
       "|  8.22 |  7.95 |  6.72 |\n",
       "| 13.70 | 11.22 |  4.91 |\n",
       "|  8.21 |  9.85 |  8.17 |\n",
       "| 15.86 | 11.42 | 13.06 |\n",
       "|  9.18 |  9.18 |  9.49 |\n",
       "| 12.49 |  4.67 | 11.94 |\n",
       "| 17.32 |  6.86 |  4.44 |\n",
       "\n"
      ],
      "text/plain": [
       "   fuel_gas repair_gas capital_gas\n",
       "1  16.44    12.43      11.23      \n",
       "2   7.19     2.70       3.92      \n",
       "3   9.92     1.35       9.75      \n",
       "4   4.24     5.78       7.78      \n",
       "5  11.20     5.05      10.67      \n",
       "6  14.25     5.78       9.88      \n",
       "7  13.50    10.98      10.60      \n",
       "8  13.32    14.27       9.45      \n",
       "9  29.11    15.09       3.28      \n",
       "10 12.68     7.61      10.23      \n",
       "11  7.51     5.80       8.13      \n",
       "12  9.90     3.63       9.13      \n",
       "13 10.25     5.07      10.17      \n",
       "14 11.11     6.15       7.61      \n",
       "15 12.17    14.26      14.39      \n",
       "16 10.24     2.59       6.09      \n",
       "17 10.18     6.05      12.14      \n",
       "18  8.88     2.70      12.23      \n",
       "19 12.34     7.73      11.68      \n",
       "20  8.51    14.02      12.01      \n",
       "21 26.16    17.44      16.89      \n",
       "22 12.95     8.24       7.18      \n",
       "23 16.93    13.37      17.59      \n",
       "24 14.70    10.78      14.58      \n",
       "25 10.32     5.16      17.00      \n",
       "26  8.98     4.49       4.26      \n",
       "27  9.70    11.59       6.83      \n",
       "28 12.72     8.63       5.59      \n",
       "29  9.49     2.16       6.23      \n",
       "30  8.22     7.95       6.72      \n",
       "31 13.70    11.22       4.91      \n",
       "32  8.21     9.85       8.17      \n",
       "33 15.86    11.42      13.06      \n",
       "34  9.18     9.18       9.49      \n",
       "35 12.49     4.67      11.94      \n",
       "36 17.32     6.86       4.44      "
      ]
     },
     "metadata": {},
     "output_type": "display_data"
    }
   ],
   "source": [
    "Gas<-read_excel(\"Gasoline_Pop.xlsx\")\n",
    "Gas"
   ]
  },
  {
   "cell_type": "markdown",
   "id": "e0253870",
   "metadata": {},
   "source": [
    "## (a) Test for differences in the mean cost vectors. Set a = .01. "
   ]
  },
  {
   "cell_type": "code",
   "execution_count": 31,
   "id": "8a6ee727",
   "metadata": {
    "ExecuteTime": {
     "end_time": "2022-03-27T11:13:15.463309Z",
     "start_time": "2022-03-27T11:13:12.372Z"
    }
   },
   "outputs": [
    {
     "data": {
      "text/html": [
       "23"
      ],
      "text/latex": [
       "23"
      ],
      "text/markdown": [
       "23"
      ],
      "text/plain": [
       "[1] 23"
      ]
     },
     "metadata": {},
     "output_type": "display_data"
    },
    {
     "data": {
      "text/html": [
       "<table class=\"dataframe\">\n",
       "<caption>A matrix: 3 × 1 of type dbl</caption>\n",
       "<tbody>\n",
       "\t<tr><td>10.10565</td></tr>\n",
       "\t<tr><td>10.76217</td></tr>\n",
       "\t<tr><td>18.16783</td></tr>\n",
       "</tbody>\n",
       "</table>\n"
      ],
      "text/latex": [
       "A matrix: 3 × 1 of type dbl\n",
       "\\begin{tabular}{l}\n",
       "\t 10.10565\\\\\n",
       "\t 10.76217\\\\\n",
       "\t 18.16783\\\\\n",
       "\\end{tabular}\n"
      ],
      "text/markdown": [
       "\n",
       "A matrix: 3 × 1 of type dbl\n",
       "\n",
       "| 10.10565 |\n",
       "| 10.76217 |\n",
       "| 18.16783 |\n",
       "\n"
      ],
      "text/plain": [
       "     [,1]    \n",
       "[1,] 10.10565\n",
       "[2,] 10.76217\n",
       "[3,] 18.16783"
      ]
     },
     "metadata": {},
     "output_type": "display_data"
    },
    {
     "data": {
      "text/html": [
       "<table class=\"dataframe\">\n",
       "<caption>A matrix: 3 × 3 of type dbl</caption>\n",
       "<thead>\n",
       "\t<tr><th></th><th scope=col>fuel_diesel</th><th scope=col>repair_diesel</th><th scope=col>capital_diesel</th></tr>\n",
       "</thead>\n",
       "<tbody>\n",
       "\t<tr><th scope=row>fuel_diesel</th><td>4.3623166</td><td> 0.7598872</td><td> 2.362099</td></tr>\n",
       "\t<tr><th scope=row>repair_diesel</th><td>0.7598872</td><td>25.8512360</td><td> 7.685732</td></tr>\n",
       "\t<tr><th scope=row>capital_diesel</th><td>2.3620992</td><td> 7.6857322</td><td>46.654400</td></tr>\n",
       "</tbody>\n",
       "</table>\n"
      ],
      "text/latex": [
       "A matrix: 3 × 3 of type dbl\n",
       "\\begin{tabular}{r|lll}\n",
       "  & fuel\\_diesel & repair\\_diesel & capital\\_diesel\\\\\n",
       "\\hline\n",
       "\tfuel\\_diesel & 4.3623166 &  0.7598872 &  2.362099\\\\\n",
       "\trepair\\_diesel & 0.7598872 & 25.8512360 &  7.685732\\\\\n",
       "\tcapital\\_diesel & 2.3620992 &  7.6857322 & 46.654400\\\\\n",
       "\\end{tabular}\n"
      ],
      "text/markdown": [
       "\n",
       "A matrix: 3 × 3 of type dbl\n",
       "\n",
       "| <!--/--> | fuel_diesel | repair_diesel | capital_diesel |\n",
       "|---|---|---|---|\n",
       "| fuel_diesel | 4.3623166 |  0.7598872 |  2.362099 |\n",
       "| repair_diesel | 0.7598872 | 25.8512360 |  7.685732 |\n",
       "| capital_diesel | 2.3620992 |  7.6857322 | 46.654400 |\n",
       "\n"
      ],
      "text/plain": [
       "               fuel_diesel repair_diesel capital_diesel\n",
       "fuel_diesel    4.3623166    0.7598872     2.362099     \n",
       "repair_diesel  0.7598872   25.8512360     7.685732     \n",
       "capital_diesel 2.3620992    7.6857322    46.654400     "
      ]
     },
     "metadata": {},
     "output_type": "display_data"
    }
   ],
   "source": [
    "n1_19 <- nrow(Diesel)\n",
    "n1_19\n",
    "\n",
    "xbar1_19 <- matrix(colMeans(Diesel), ncol = 1)\n",
    "xbar1_19\n",
    "\n",
    "S1_19 <- cov(Diesel)\n",
    "S1_19"
   ]
  },
  {
   "cell_type": "code",
   "execution_count": 32,
   "id": "6c3f9bb3",
   "metadata": {
    "ExecuteTime": {
     "end_time": "2022-03-27T11:13:15.508470Z",
     "start_time": "2022-03-27T11:13:12.375Z"
    },
    "scrolled": true
   },
   "outputs": [
    {
     "data": {
      "text/html": [
       "36"
      ],
      "text/latex": [
       "36"
      ],
      "text/markdown": [
       "36"
      ],
      "text/plain": [
       "[1] 36"
      ]
     },
     "metadata": {},
     "output_type": "display_data"
    },
    {
     "data": {
      "text/html": [
       "<table class=\"dataframe\">\n",
       "<caption>A matrix: 3 × 1 of type dbl</caption>\n",
       "<tbody>\n",
       "\t<tr><td>12.218611</td></tr>\n",
       "\t<tr><td> 8.112500</td></tr>\n",
       "\t<tr><td> 9.590278</td></tr>\n",
       "</tbody>\n",
       "</table>\n"
      ],
      "text/latex": [
       "A matrix: 3 × 1 of type dbl\n",
       "\\begin{tabular}{l}\n",
       "\t 12.218611\\\\\n",
       "\t  8.112500\\\\\n",
       "\t  9.590278\\\\\n",
       "\\end{tabular}\n"
      ],
      "text/markdown": [
       "\n",
       "A matrix: 3 × 1 of type dbl\n",
       "\n",
       "| 12.218611 |\n",
       "|  8.112500 |\n",
       "|  9.590278 |\n",
       "\n"
      ],
      "text/plain": [
       "     [,1]     \n",
       "[1,] 12.218611\n",
       "[2,]  8.112500\n",
       "[3,]  9.590278"
      ]
     },
     "metadata": {},
     "output_type": "display_data"
    },
    {
     "data": {
      "text/html": [
       "<table class=\"dataframe\">\n",
       "<caption>A matrix: 3 × 3 of type dbl</caption>\n",
       "<thead>\n",
       "\t<tr><th></th><th scope=col>fuel_gas</th><th scope=col>repair_gas</th><th scope=col>capital_gas</th></tr>\n",
       "</thead>\n",
       "<tbody>\n",
       "\t<tr><th scope=row>fuel_gas</th><td>23.013361</td><td>12.366395</td><td> 2.906609</td></tr>\n",
       "\t<tr><th scope=row>repair_gas</th><td>12.366395</td><td>17.544111</td><td> 4.773082</td></tr>\n",
       "\t<tr><th scope=row>capital_gas</th><td> 2.906609</td><td> 4.773082</td><td>13.963334</td></tr>\n",
       "</tbody>\n",
       "</table>\n"
      ],
      "text/latex": [
       "A matrix: 3 × 3 of type dbl\n",
       "\\begin{tabular}{r|lll}\n",
       "  & fuel\\_gas & repair\\_gas & capital\\_gas\\\\\n",
       "\\hline\n",
       "\tfuel\\_gas & 23.013361 & 12.366395 &  2.906609\\\\\n",
       "\trepair\\_gas & 12.366395 & 17.544111 &  4.773082\\\\\n",
       "\tcapital\\_gas &  2.906609 &  4.773082 & 13.963334\\\\\n",
       "\\end{tabular}\n"
      ],
      "text/markdown": [
       "\n",
       "A matrix: 3 × 3 of type dbl\n",
       "\n",
       "| <!--/--> | fuel_gas | repair_gas | capital_gas |\n",
       "|---|---|---|---|\n",
       "| fuel_gas | 23.013361 | 12.366395 |  2.906609 |\n",
       "| repair_gas | 12.366395 | 17.544111 |  4.773082 |\n",
       "| capital_gas |  2.906609 |  4.773082 | 13.963334 |\n",
       "\n"
      ],
      "text/plain": [
       "            fuel_gas  repair_gas capital_gas\n",
       "fuel_gas    23.013361 12.366395   2.906609  \n",
       "repair_gas  12.366395 17.544111   4.773082  \n",
       "capital_gas  2.906609  4.773082  13.963334  "
      ]
     },
     "metadata": {},
     "output_type": "display_data"
    }
   ],
   "source": [
    "n2_19 <- nrow(Gas)\n",
    "n2_19\n",
    "\n",
    "xbar2_19 <- matrix(colMeans(Gas), ncol = 1)\n",
    "xbar2_19\n",
    "\n",
    "S2_19 <- cov(Gas)\n",
    "S2_19"
   ]
  },
  {
   "cell_type": "code",
   "execution_count": 33,
   "id": "e46ad86e",
   "metadata": {
    "ExecuteTime": {
     "end_time": "2022-03-27T11:13:15.535474Z",
     "start_time": "2022-03-27T11:13:12.378Z"
    }
   },
   "outputs": [],
   "source": [
    "mu_19 <- c(0, 0, 0)\n",
    "T.test <- function(xb1, xb2, S.1, S.2, n1, n2, mu){\n",
    "  p <- nrow(xb1)\n",
    "  df1 = p\n",
    "  df2 = n1 + n2 - p - 1\n",
    "  alpha <- 0.01\n",
    "  \n",
    "  S_pooled <- ((n1 - 1)/(n1 + n2 -2) * S.1) + ((n2 - 1)/(n1 + n2 -2) * S.2)\n",
    "  \n",
    "  T_square <- t((xb1 - xb2) - mu) %*% solve(((1/n1) + (1/n2)) * S_pooled) %*% ((xb1 - xb2) - mu)\n",
    "    \n",
    "  Fstat <- T_square / (p %*% (n1 + n2 - 2)/(n1 + n2 - p - 1))\n",
    "  \n",
    "  Ftable <- qf(1 - alpha, df1 = p, df2 = n1 + n2 - p - 1) %*% (n1 + n2 - 2) %*% p / (n1 + n2 - p - 1)\n",
    "  \n",
    "  p_value <- 1 - pf(Fstat, df1 = p, df2 = n1 + n2 - p - 1)\n",
    "  \n",
    "  data.frame(T_square = as.numeric(T_square), \n",
    "             Fstat = as.numeric(Fstat),\n",
    "             df1 = p, \n",
    "             df2 = n1 + n2 - p - 1, \n",
    "             Ftable = as.numeric(Ftable),\n",
    "             pvalue = as.numeric(p_value),\n",
    "             row.names=\"\")\n",
    "}"
   ]
  },
  {
   "cell_type": "code",
   "execution_count": 34,
   "id": "e787049d",
   "metadata": {
    "ExecuteTime": {
     "end_time": "2022-03-27T11:13:15.606496Z",
     "start_time": "2022-03-27T11:13:12.381Z"
    }
   },
   "outputs": [
    {
     "data": {
      "text/html": [
       "<table class=\"dataframe\">\n",
       "<caption>A data.frame: 1 × 6</caption>\n",
       "<thead>\n",
       "\t<tr><th></th><th scope=col>T_square</th><th scope=col>Fstat</th><th scope=col>df1</th><th scope=col>df2</th><th scope=col>Ftable</th><th scope=col>pvalue</th></tr>\n",
       "\t<tr><th></th><th scope=col>&lt;dbl&gt;</th><th scope=col>&lt;dbl&gt;</th><th scope=col>&lt;int&gt;</th><th scope=col>&lt;dbl&gt;</th><th scope=col>&lt;dbl&gt;</th><th scope=col>&lt;dbl&gt;</th></tr>\n",
       "</thead>\n",
       "<tbody>\n",
       "\t<tr><th scope=row></th><td>50.91279</td><td>16.37546</td><td>3</td><td>55</td><td>12.93096</td><td>1.000461e-07</td></tr>\n",
       "</tbody>\n",
       "</table>\n"
      ],
      "text/latex": [
       "A data.frame: 1 × 6\n",
       "\\begin{tabular}{r|llllll}\n",
       "  & T\\_square & Fstat & df1 & df2 & Ftable & pvalue\\\\\n",
       "  & <dbl> & <dbl> & <int> & <dbl> & <dbl> & <dbl>\\\\\n",
       "\\hline\n",
       "\t & 50.91279 & 16.37546 & 3 & 55 & 12.93096 & 1.000461e-07\\\\\n",
       "\\end{tabular}\n"
      ],
      "text/markdown": [
       "\n",
       "A data.frame: 1 × 6\n",
       "\n",
       "| <!--/--> | T_square &lt;dbl&gt; | Fstat &lt;dbl&gt; | df1 &lt;int&gt; | df2 &lt;dbl&gt; | Ftable &lt;dbl&gt; | pvalue &lt;dbl&gt; |\n",
       "|---|---|---|---|---|---|---|\n",
       "| <!----> | 50.91279 | 16.37546 | 3 | 55 | 12.93096 | 1.000461e-07 |\n",
       "\n"
      ],
      "text/plain": [
       " T_square Fstat    df1 df2 Ftable   pvalue      \n",
       " 50.91279 16.37546 3   55  12.93096 1.000461e-07"
      ]
     },
     "metadata": {},
     "output_type": "display_data"
    }
   ],
   "source": [
    "T.test(xbar1_19, xbar2_19, S1_19, S2_19, n1_19, n2_19, mu_19)"
   ]
  },
  {
   "cell_type": "raw",
   "id": "0c1f756d",
   "metadata": {},
   "source": [
    "50.91279 > 12.93096, T-square > Ftable, maka H0 : mu1-mu2 = 0 ditolak pada taraf signifikan 1%. Oleh karena itu, dapat disimpulkan bahwa terdapat perbedaan pada rata-rata biaya truk bensin dan rata-rata biaya truk diesel."
   ]
  },
  {
   "cell_type": "markdown",
   "id": "ccf4a0d5",
   "metadata": {},
   "source": [
    "## (b) If the hypothesis of equal cost vectors is rejected in Part a, find the linear  combination of mean components most responsible for the rejection. "
   ]
  },
  {
   "cell_type": "code",
   "execution_count": 35,
   "id": "097bb175",
   "metadata": {
    "ExecuteTime": {
     "end_time": "2022-03-27T11:13:15.640506Z",
     "start_time": "2022-03-27T11:13:12.405Z"
    }
   },
   "outputs": [
    {
     "data": {
      "text/html": [
       "<table class=\"dataframe\">\n",
       "<caption>A matrix: 3 × 3 of type dbl</caption>\n",
       "<thead>\n",
       "\t<tr><th></th><th scope=col>fuel_diesel</th><th scope=col>repair_diesel</th><th scope=col>capital_diesel</th></tr>\n",
       "</thead>\n",
       "<tbody>\n",
       "\t<tr><th scope=row>fuel_diesel</th><td>15.814712</td><td> 7.886690</td><td> 2.696447</td></tr>\n",
       "\t<tr><th scope=row>repair_diesel</th><td> 7.886690</td><td>20.750370</td><td> 5.897263</td></tr>\n",
       "\t<tr><th scope=row>capital_diesel</th><td> 2.696447</td><td> 5.897263</td><td>26.580938</td></tr>\n",
       "</tbody>\n",
       "</table>\n"
      ],
      "text/latex": [
       "A matrix: 3 × 3 of type dbl\n",
       "\\begin{tabular}{r|lll}\n",
       "  & fuel\\_diesel & repair\\_diesel & capital\\_diesel\\\\\n",
       "\\hline\n",
       "\tfuel\\_diesel & 15.814712 &  7.886690 &  2.696447\\\\\n",
       "\trepair\\_diesel &  7.886690 & 20.750370 &  5.897263\\\\\n",
       "\tcapital\\_diesel &  2.696447 &  5.897263 & 26.580938\\\\\n",
       "\\end{tabular}\n"
      ],
      "text/markdown": [
       "\n",
       "A matrix: 3 × 3 of type dbl\n",
       "\n",
       "| <!--/--> | fuel_diesel | repair_diesel | capital_diesel |\n",
       "|---|---|---|---|\n",
       "| fuel_diesel | 15.814712 |  7.886690 |  2.696447 |\n",
       "| repair_diesel |  7.886690 | 20.750370 |  5.897263 |\n",
       "| capital_diesel |  2.696447 |  5.897263 | 26.580938 |\n",
       "\n"
      ],
      "text/plain": [
       "               fuel_diesel repair_diesel capital_diesel\n",
       "fuel_diesel    15.814712    7.886690      2.696447     \n",
       "repair_diesel   7.886690   20.750370      5.897263     \n",
       "capital_diesel  2.696447    5.897263     26.580938     "
      ]
     },
     "metadata": {},
     "output_type": "display_data"
    }
   ],
   "source": [
    "Spooled_19 <- ((n1_19 - 1)/(n1_19 + n2_19 -2) * S1_19) + ((n2_19 - 1)/(n1_19 + n2_19 -2) * S2_19)\n",
    "Spooled_19"
   ]
  },
  {
   "cell_type": "code",
   "execution_count": 36,
   "id": "24a3d133",
   "metadata": {
    "ExecuteTime": {
     "end_time": "2022-03-27T11:13:15.674498Z",
     "start_time": "2022-03-27T11:13:12.408Z"
    }
   },
   "outputs": [
    {
     "data": {
      "text/html": [
       "<table class=\"dataframe\">\n",
       "<caption>A matrix: 3 × 1 of type dbl</caption>\n",
       "<tbody>\n",
       "\t<tr><th scope=row>fuel_diesel</th><td>-0.2547452</td></tr>\n",
       "\t<tr><th scope=row>repair_diesel</th><td> 0.1339036</td></tr>\n",
       "\t<tr><th scope=row>capital_diesel</th><td> 0.3188296</td></tr>\n",
       "</tbody>\n",
       "</table>\n"
      ],
      "text/latex": [
       "A matrix: 3 × 1 of type dbl\n",
       "\\begin{tabular}{r|l}\n",
       "\tfuel\\_diesel & -0.2547452\\\\\n",
       "\trepair\\_diesel &  0.1339036\\\\\n",
       "\tcapital\\_diesel &  0.3188296\\\\\n",
       "\\end{tabular}\n"
      ],
      "text/markdown": [
       "\n",
       "A matrix: 3 × 1 of type dbl\n",
       "\n",
       "| fuel_diesel | -0.2547452 |\n",
       "| repair_diesel |  0.1339036 |\n",
       "| capital_diesel |  0.3188296 |\n",
       "\n"
      ],
      "text/plain": [
       "               [,1]      \n",
       "fuel_diesel    -0.2547452\n",
       "repair_diesel   0.1339036\n",
       "capital_diesel  0.3188296"
      ]
     },
     "metadata": {},
     "output_type": "display_data"
    }
   ],
   "source": [
    "linearcomb_19 <- solve(Spooled_19)%*%(xbar1_19-xbar2_19)\n",
    "linearcomb_19"
   ]
  },
  {
   "cell_type": "raw",
   "id": "1b812ac8",
   "metadata": {},
   "source": [
    "Kombinasi linier komponen rata-rata untuk penolakan H0 memiliki koefisien vektor (-0.2547452, 0.1339036, 0.3188296). Hal ini menunjukkan bahwa perbedaan rata-rata biaya bahan bakar gas yang paling berpengaruh untuk menolak H0 : mu1 - mu2 = 0"
   ]
  },
  {
   "cell_type": "markdown",
   "id": "f4e2e90f",
   "metadata": {},
   "source": [
    "## (c) Construct 99% simultaneous confidence intervals for the pairs of mean components. Which costs, if any, appear to be quite different?"
   ]
  },
  {
   "cell_type": "raw",
   "id": "5274f86e",
   "metadata": {},
   "source": [
    "p <- length(xbar1_19)\n",
    "S.ci <- function(xbar1_19, xbar2_19, S_pooled19, avec = rep(1, length(mu_19)), n1_19, n2_19, level){\n",
    "  \n",
    "  p <- length(xbar1_19)\n",
    "  \n",
    "  if(nrow(xbar1_19) != p) stop(\"Need length(xbar1_19) == nrow(S_pooled19).\")\n",
    "  if(ncol(S_pooled19) != p) stop(\"Need length(xbar1_19) == ncol(S_pooled19).\")\n",
    "  if(length(avec) != p) stop(\"Need length(xbar1_19) == length(avec).\")\n",
    "  if(level <=0 | level >= 1) stop(\"Need 0 < level < 1.\")\n",
    "  \n",
    "  cval <- (n1_19 + n2_19 - 2) * p * qf(level, df1 = p, df2 = n1_19 + n2_19 - p - 1)/(n1_19 + n2_19 - p - 1)\n",
    "  zhat <- crossprod(avec, (xbar1_19 - xbar2_19))\n",
    "  zvar <- crossprod(avec, ((1 / n1_19) + (1 / n2_19))* S_pooled19 %*% avec)\n",
    "  const <- sqrt(cval * zvar)\n",
    "  c(lower = zhat - const, upper = zhat + const)\n",
    "}\n",
    "\n",
    "TCI <- NULL\n",
    "alpha <- 1 - 0.01\n",
    "\n",
    "for(k in 1:p){\n",
    "  \n",
    "  avec <- rep(0, p)\n",
    "  avec[k] <- 1\n",
    "\n",
    "  TCI <- c(TCI, S.ci(xbar1_19, xbar2_19, S_pooled19, avec, n1_19, n2_19, level = alpha))\n",
    "  \n",
    "}\n",
    "\n",
    "ci <- rbind(TCI)"
   ]
  },
  {
   "cell_type": "code",
   "execution_count": 37,
   "id": "35007688",
   "metadata": {
    "ExecuteTime": {
     "end_time": "2022-03-27T11:13:15.730510Z",
     "start_time": "2022-03-27T11:13:12.449Z"
    }
   },
   "outputs": [
    {
     "data": {
      "text/html": [
       "<table class=\"dataframe\">\n",
       "<caption>A matrix: 1 × 6 of type dbl</caption>\n",
       "<tbody>\n",
       "\t<tr><th scope=row>temp_19</th><td>-5.930264</td><td>1.704346</td><td>-1.72292</td><td>7.022268</td><td>3.628618</td><td>13.52648</td></tr>\n",
       "</tbody>\n",
       "</table>\n"
      ],
      "text/latex": [
       "A matrix: 1 × 6 of type dbl\n",
       "\\begin{tabular}{r|llllll}\n",
       "\ttemp\\_19 & -5.930264 & 1.704346 & -1.72292 & 7.022268 & 3.628618 & 13.52648\\\\\n",
       "\\end{tabular}\n"
      ],
      "text/markdown": [
       "\n",
       "A matrix: 1 × 6 of type dbl\n",
       "\n",
       "| temp_19 | -5.930264 | 1.704346 | -1.72292 | 7.022268 | 3.628618 | 13.52648 |\n",
       "\n"
      ],
      "text/plain": [
       "        [,1]      [,2]     [,3]     [,4]     [,5]     [,6]    \n",
       "temp_19 -5.930264 1.704346 -1.72292 7.022268 3.628618 13.52648"
      ]
     },
     "metadata": {},
     "output_type": "display_data"
    }
   ],
   "source": [
    "temp_19 <- NULL\n",
    "alpha <- 0.01\n",
    "p <- 3\n",
    "n1 <- n1_19\n",
    "n2 <- n2_19\n",
    "Ftable <-  qf((1 - alpha), df1 = p, df2 = n1 + n2 - p - 1) %*% (n1 + n2 - 2) %*% p / (n1 + n2 - p - 1)\n",
    "\n",
    "for (k in 1:3) {\n",
    "    temp_19 <- c(temp_19,(xbar1_19[k]-xbar2_19[k])-sqrt(Ftable)*sqrt(((1/n1_19)+(1/n2_19))*Spooled_19[k,k]),\n",
    "          (xbar1_19[k]-xbar2_19[k])+sqrt(Ftable)*sqrt(((1/n1_19)+(1/n2_19))*Spooled_19[k,k]))\n",
    "}\n",
    "\n",
    "rbind(temp_19)"
   ]
  },
  {
   "cell_type": "markdown",
   "id": "e58e3264",
   "metadata": {},
   "source": [
    "Berdasarkan selang keperccayaan di atas, dapat disimpulkan bahwa variabel capital_gas adalah satu-satunya variabel yang memiliki perbedaan yang signifikan antara truk diesel dan bensin. (Selang kepercayaan tidak mengandung nilai 0)"
   ]
  },
  {
   "cell_type": "markdown",
   "id": "c331e4e4",
   "metadata": {},
   "source": [
    "## (d) Comment on the validity of the assumptions used in your analysis. Note in particular that observations 9 and 21 for gasoline trucks have been identified as multivariate outliers. (See Exercise 5.22 and [2] .) Repeat Part a with these observations deleted. Comment on the results."
   ]
  },
  {
   "cell_type": "markdown",
   "id": "4e4c9c69",
   "metadata": {},
   "source": [
    "### Deleting observations 9 and 21 as the multivariate outliers"
   ]
  },
  {
   "cell_type": "code",
   "execution_count": 38,
   "id": "0457db3e",
   "metadata": {
    "ExecuteTime": {
     "end_time": "2022-03-27T11:13:15.778471Z",
     "start_time": "2022-03-27T11:13:12.467Z"
    },
    "scrolled": true
   },
   "outputs": [
    {
     "data": {
      "text/html": [
       "<table class=\"dataframe\">\n",
       "<caption>A tibble: 34 × 3</caption>\n",
       "<thead>\n",
       "\t<tr><th scope=col>fuel_gas</th><th scope=col>repair_gas</th><th scope=col>capital_gas</th></tr>\n",
       "\t<tr><th scope=col>&lt;dbl&gt;</th><th scope=col>&lt;dbl&gt;</th><th scope=col>&lt;dbl&gt;</th></tr>\n",
       "</thead>\n",
       "<tbody>\n",
       "\t<tr><td>16.44</td><td>12.43</td><td>11.23</td></tr>\n",
       "\t<tr><td> 7.19</td><td> 2.70</td><td> 3.92</td></tr>\n",
       "\t<tr><td> 9.92</td><td> 1.35</td><td> 9.75</td></tr>\n",
       "\t<tr><td> 4.24</td><td> 5.78</td><td> 7.78</td></tr>\n",
       "\t<tr><td>11.20</td><td> 5.05</td><td>10.67</td></tr>\n",
       "\t<tr><td>14.25</td><td> 5.78</td><td> 9.88</td></tr>\n",
       "\t<tr><td>13.50</td><td>10.98</td><td>10.60</td></tr>\n",
       "\t<tr><td>13.32</td><td>14.27</td><td> 9.45</td></tr>\n",
       "\t<tr><td>12.68</td><td> 7.61</td><td>10.23</td></tr>\n",
       "\t<tr><td> 7.51</td><td> 5.80</td><td> 8.13</td></tr>\n",
       "\t<tr><td> 9.90</td><td> 3.63</td><td> 9.13</td></tr>\n",
       "\t<tr><td>10.25</td><td> 5.07</td><td>10.17</td></tr>\n",
       "\t<tr><td>11.11</td><td> 6.15</td><td> 7.61</td></tr>\n",
       "\t<tr><td>12.17</td><td>14.26</td><td>14.39</td></tr>\n",
       "\t<tr><td>10.24</td><td> 2.59</td><td> 6.09</td></tr>\n",
       "\t<tr><td>10.18</td><td> 6.05</td><td>12.14</td></tr>\n",
       "\t<tr><td> 8.88</td><td> 2.70</td><td>12.23</td></tr>\n",
       "\t<tr><td>12.34</td><td> 7.73</td><td>11.68</td></tr>\n",
       "\t<tr><td> 8.51</td><td>14.02</td><td>12.01</td></tr>\n",
       "\t<tr><td>12.95</td><td> 8.24</td><td> 7.18</td></tr>\n",
       "\t<tr><td>16.93</td><td>13.37</td><td>17.59</td></tr>\n",
       "\t<tr><td>14.70</td><td>10.78</td><td>14.58</td></tr>\n",
       "\t<tr><td>10.32</td><td> 5.16</td><td>17.00</td></tr>\n",
       "\t<tr><td> 8.98</td><td> 4.49</td><td> 4.26</td></tr>\n",
       "\t<tr><td> 9.70</td><td>11.59</td><td> 6.83</td></tr>\n",
       "\t<tr><td>12.72</td><td> 8.63</td><td> 5.59</td></tr>\n",
       "\t<tr><td> 9.49</td><td> 2.16</td><td> 6.23</td></tr>\n",
       "\t<tr><td> 8.22</td><td> 7.95</td><td> 6.72</td></tr>\n",
       "\t<tr><td>13.70</td><td>11.22</td><td> 4.91</td></tr>\n",
       "\t<tr><td> 8.21</td><td> 9.85</td><td> 8.17</td></tr>\n",
       "\t<tr><td>15.86</td><td>11.42</td><td>13.06</td></tr>\n",
       "\t<tr><td> 9.18</td><td> 9.18</td><td> 9.49</td></tr>\n",
       "\t<tr><td>12.49</td><td> 4.67</td><td>11.94</td></tr>\n",
       "\t<tr><td>17.32</td><td> 6.86</td><td> 4.44</td></tr>\n",
       "</tbody>\n",
       "</table>\n"
      ],
      "text/latex": [
       "A tibble: 34 × 3\n",
       "\\begin{tabular}{lll}\n",
       " fuel\\_gas & repair\\_gas & capital\\_gas\\\\\n",
       " <dbl> & <dbl> & <dbl>\\\\\n",
       "\\hline\n",
       "\t 16.44 & 12.43 & 11.23\\\\\n",
       "\t  7.19 &  2.70 &  3.92\\\\\n",
       "\t  9.92 &  1.35 &  9.75\\\\\n",
       "\t  4.24 &  5.78 &  7.78\\\\\n",
       "\t 11.20 &  5.05 & 10.67\\\\\n",
       "\t 14.25 &  5.78 &  9.88\\\\\n",
       "\t 13.50 & 10.98 & 10.60\\\\\n",
       "\t 13.32 & 14.27 &  9.45\\\\\n",
       "\t 12.68 &  7.61 & 10.23\\\\\n",
       "\t  7.51 &  5.80 &  8.13\\\\\n",
       "\t  9.90 &  3.63 &  9.13\\\\\n",
       "\t 10.25 &  5.07 & 10.17\\\\\n",
       "\t 11.11 &  6.15 &  7.61\\\\\n",
       "\t 12.17 & 14.26 & 14.39\\\\\n",
       "\t 10.24 &  2.59 &  6.09\\\\\n",
       "\t 10.18 &  6.05 & 12.14\\\\\n",
       "\t  8.88 &  2.70 & 12.23\\\\\n",
       "\t 12.34 &  7.73 & 11.68\\\\\n",
       "\t  8.51 & 14.02 & 12.01\\\\\n",
       "\t 12.95 &  8.24 &  7.18\\\\\n",
       "\t 16.93 & 13.37 & 17.59\\\\\n",
       "\t 14.70 & 10.78 & 14.58\\\\\n",
       "\t 10.32 &  5.16 & 17.00\\\\\n",
       "\t  8.98 &  4.49 &  4.26\\\\\n",
       "\t  9.70 & 11.59 &  6.83\\\\\n",
       "\t 12.72 &  8.63 &  5.59\\\\\n",
       "\t  9.49 &  2.16 &  6.23\\\\\n",
       "\t  8.22 &  7.95 &  6.72\\\\\n",
       "\t 13.70 & 11.22 &  4.91\\\\\n",
       "\t  8.21 &  9.85 &  8.17\\\\\n",
       "\t 15.86 & 11.42 & 13.06\\\\\n",
       "\t  9.18 &  9.18 &  9.49\\\\\n",
       "\t 12.49 &  4.67 & 11.94\\\\\n",
       "\t 17.32 &  6.86 &  4.44\\\\\n",
       "\\end{tabular}\n"
      ],
      "text/markdown": [
       "\n",
       "A tibble: 34 × 3\n",
       "\n",
       "| fuel_gas &lt;dbl&gt; | repair_gas &lt;dbl&gt; | capital_gas &lt;dbl&gt; |\n",
       "|---|---|---|\n",
       "| 16.44 | 12.43 | 11.23 |\n",
       "|  7.19 |  2.70 |  3.92 |\n",
       "|  9.92 |  1.35 |  9.75 |\n",
       "|  4.24 |  5.78 |  7.78 |\n",
       "| 11.20 |  5.05 | 10.67 |\n",
       "| 14.25 |  5.78 |  9.88 |\n",
       "| 13.50 | 10.98 | 10.60 |\n",
       "| 13.32 | 14.27 |  9.45 |\n",
       "| 12.68 |  7.61 | 10.23 |\n",
       "|  7.51 |  5.80 |  8.13 |\n",
       "|  9.90 |  3.63 |  9.13 |\n",
       "| 10.25 |  5.07 | 10.17 |\n",
       "| 11.11 |  6.15 |  7.61 |\n",
       "| 12.17 | 14.26 | 14.39 |\n",
       "| 10.24 |  2.59 |  6.09 |\n",
       "| 10.18 |  6.05 | 12.14 |\n",
       "|  8.88 |  2.70 | 12.23 |\n",
       "| 12.34 |  7.73 | 11.68 |\n",
       "|  8.51 | 14.02 | 12.01 |\n",
       "| 12.95 |  8.24 |  7.18 |\n",
       "| 16.93 | 13.37 | 17.59 |\n",
       "| 14.70 | 10.78 | 14.58 |\n",
       "| 10.32 |  5.16 | 17.00 |\n",
       "|  8.98 |  4.49 |  4.26 |\n",
       "|  9.70 | 11.59 |  6.83 |\n",
       "| 12.72 |  8.63 |  5.59 |\n",
       "|  9.49 |  2.16 |  6.23 |\n",
       "|  8.22 |  7.95 |  6.72 |\n",
       "| 13.70 | 11.22 |  4.91 |\n",
       "|  8.21 |  9.85 |  8.17 |\n",
       "| 15.86 | 11.42 | 13.06 |\n",
       "|  9.18 |  9.18 |  9.49 |\n",
       "| 12.49 |  4.67 | 11.94 |\n",
       "| 17.32 |  6.86 |  4.44 |\n",
       "\n"
      ],
      "text/plain": [
       "   fuel_gas repair_gas capital_gas\n",
       "1  16.44    12.43      11.23      \n",
       "2   7.19     2.70       3.92      \n",
       "3   9.92     1.35       9.75      \n",
       "4   4.24     5.78       7.78      \n",
       "5  11.20     5.05      10.67      \n",
       "6  14.25     5.78       9.88      \n",
       "7  13.50    10.98      10.60      \n",
       "8  13.32    14.27       9.45      \n",
       "9  12.68     7.61      10.23      \n",
       "10  7.51     5.80       8.13      \n",
       "11  9.90     3.63       9.13      \n",
       "12 10.25     5.07      10.17      \n",
       "13 11.11     6.15       7.61      \n",
       "14 12.17    14.26      14.39      \n",
       "15 10.24     2.59       6.09      \n",
       "16 10.18     6.05      12.14      \n",
       "17  8.88     2.70      12.23      \n",
       "18 12.34     7.73      11.68      \n",
       "19  8.51    14.02      12.01      \n",
       "20 12.95     8.24       7.18      \n",
       "21 16.93    13.37      17.59      \n",
       "22 14.70    10.78      14.58      \n",
       "23 10.32     5.16      17.00      \n",
       "24  8.98     4.49       4.26      \n",
       "25  9.70    11.59       6.83      \n",
       "26 12.72     8.63       5.59      \n",
       "27  9.49     2.16       6.23      \n",
       "28  8.22     7.95       6.72      \n",
       "29 13.70    11.22       4.91      \n",
       "30  8.21     9.85       8.17      \n",
       "31 15.86    11.42      13.06      \n",
       "32  9.18     9.18       9.49      \n",
       "33 12.49     4.67      11.94      \n",
       "34 17.32     6.86       4.44      "
      ]
     },
     "metadata": {},
     "output_type": "display_data"
    }
   ],
   "source": [
    "newGas <- Gas[-c(9,21), ]\n",
    "newGas"
   ]
  },
  {
   "cell_type": "markdown",
   "id": "574cf83a",
   "metadata": {},
   "source": [
    "### Redo part a."
   ]
  },
  {
   "cell_type": "code",
   "execution_count": 39,
   "id": "615ca776",
   "metadata": {
    "ExecuteTime": {
     "end_time": "2022-03-27T11:13:15.828471Z",
     "start_time": "2022-03-27T11:13:12.471Z"
    },
    "scrolled": true
   },
   "outputs": [
    {
     "data": {
      "text/html": [
       "34"
      ],
      "text/latex": [
       "34"
      ],
      "text/markdown": [
       "34"
      ],
      "text/plain": [
       "[1] 34"
      ]
     },
     "metadata": {},
     "output_type": "display_data"
    },
    {
     "data": {
      "text/html": [
       "<table class=\"dataframe\">\n",
       "<caption>A matrix: 3 × 1 of type dbl</caption>\n",
       "<tbody>\n",
       "\t<tr><td>11.311765</td></tr>\n",
       "\t<tr><td> 7.632941</td></tr>\n",
       "\t<tr><td> 9.561176</td></tr>\n",
       "</tbody>\n",
       "</table>\n"
      ],
      "text/latex": [
       "A matrix: 3 × 1 of type dbl\n",
       "\\begin{tabular}{l}\n",
       "\t 11.311765\\\\\n",
       "\t  7.632941\\\\\n",
       "\t  9.561176\\\\\n",
       "\\end{tabular}\n"
      ],
      "text/markdown": [
       "\n",
       "A matrix: 3 × 1 of type dbl\n",
       "\n",
       "| 11.311765 |\n",
       "|  7.632941 |\n",
       "|  9.561176 |\n",
       "\n"
      ],
      "text/plain": [
       "     [,1]     \n",
       "[1,] 11.311765\n",
       "[2,]  7.632941\n",
       "[3,]  9.561176"
      ]
     },
     "metadata": {},
     "output_type": "display_data"
    },
    {
     "data": {
      "text/html": [
       "<table class=\"dataframe\">\n",
       "<caption>A matrix: 3 × 3 of type dbl</caption>\n",
       "<thead>\n",
       "\t<tr><th></th><th scope=col>fuel_gas</th><th scope=col>repair_gas</th><th scope=col>capital_gas</th></tr>\n",
       "</thead>\n",
       "<tbody>\n",
       "\t<tr><th scope=row>fuel_gas</th><td>9.025021</td><td> 5.155749</td><td> 3.201671</td></tr>\n",
       "\t<tr><th scope=row>repair_gas</th><td>5.155749</td><td>14.258694</td><td> 4.318945</td></tr>\n",
       "\t<tr><th scope=row>capital_gas</th><td>3.201671</td><td> 4.318945</td><td>11.987344</td></tr>\n",
       "</tbody>\n",
       "</table>\n"
      ],
      "text/latex": [
       "A matrix: 3 × 3 of type dbl\n",
       "\\begin{tabular}{r|lll}\n",
       "  & fuel\\_gas & repair\\_gas & capital\\_gas\\\\\n",
       "\\hline\n",
       "\tfuel\\_gas & 9.025021 &  5.155749 &  3.201671\\\\\n",
       "\trepair\\_gas & 5.155749 & 14.258694 &  4.318945\\\\\n",
       "\tcapital\\_gas & 3.201671 &  4.318945 & 11.987344\\\\\n",
       "\\end{tabular}\n"
      ],
      "text/markdown": [
       "\n",
       "A matrix: 3 × 3 of type dbl\n",
       "\n",
       "| <!--/--> | fuel_gas | repair_gas | capital_gas |\n",
       "|---|---|---|---|\n",
       "| fuel_gas | 9.025021 |  5.155749 |  3.201671 |\n",
       "| repair_gas | 5.155749 | 14.258694 |  4.318945 |\n",
       "| capital_gas | 3.201671 |  4.318945 | 11.987344 |\n",
       "\n"
      ],
      "text/plain": [
       "            fuel_gas repair_gas capital_gas\n",
       "fuel_gas    9.025021  5.155749   3.201671  \n",
       "repair_gas  5.155749 14.258694   4.318945  \n",
       "capital_gas 3.201671  4.318945  11.987344  "
      ]
     },
     "metadata": {},
     "output_type": "display_data"
    }
   ],
   "source": [
    "newn2_19 <- nrow(newGas)\n",
    "newn2_19\n",
    "\n",
    "newxbar2_19 <- matrix(colMeans(newGas), ncol = 1)\n",
    "newxbar2_19\n",
    "\n",
    "newS2_19 <- cov(newGas)\n",
    "newS2_19"
   ]
  },
  {
   "cell_type": "code",
   "execution_count": 40,
   "id": "35503d0d",
   "metadata": {
    "ExecuteTime": {
     "end_time": "2022-03-27T11:13:15.861468Z",
     "start_time": "2022-03-27T11:13:12.473Z"
    }
   },
   "outputs": [
    {
     "data": {
      "text/html": [
       "<table class=\"dataframe\">\n",
       "<caption>A data.frame: 1 × 6</caption>\n",
       "<thead>\n",
       "\t<tr><th></th><th scope=col>T_square</th><th scope=col>Fstat</th><th scope=col>df1</th><th scope=col>df2</th><th scope=col>Ftable</th><th scope=col>pvalue</th></tr>\n",
       "\t<tr><th></th><th scope=col>&lt;dbl&gt;</th><th scope=col>&lt;dbl&gt;</th><th scope=col>&lt;int&gt;</th><th scope=col>&lt;dbl&gt;</th><th scope=col>&lt;dbl&gt;</th><th scope=col>&lt;dbl&gt;</th></tr>\n",
       "</thead>\n",
       "<tbody>\n",
       "\t<tr><th scope=row></th><td>52.3836</td><td>16.82625</td><td>3</td><td>53</td><td>12.99521</td><td>8.357985e-08</td></tr>\n",
       "</tbody>\n",
       "</table>\n"
      ],
      "text/latex": [
       "A data.frame: 1 × 6\n",
       "\\begin{tabular}{r|llllll}\n",
       "  & T\\_square & Fstat & df1 & df2 & Ftable & pvalue\\\\\n",
       "  & <dbl> & <dbl> & <int> & <dbl> & <dbl> & <dbl>\\\\\n",
       "\\hline\n",
       "\t & 52.3836 & 16.82625 & 3 & 53 & 12.99521 & 8.357985e-08\\\\\n",
       "\\end{tabular}\n"
      ],
      "text/markdown": [
       "\n",
       "A data.frame: 1 × 6\n",
       "\n",
       "| <!--/--> | T_square &lt;dbl&gt; | Fstat &lt;dbl&gt; | df1 &lt;int&gt; | df2 &lt;dbl&gt; | Ftable &lt;dbl&gt; | pvalue &lt;dbl&gt; |\n",
       "|---|---|---|---|---|---|---|\n",
       "| <!----> | 52.3836 | 16.82625 | 3 | 53 | 12.99521 | 8.357985e-08 |\n",
       "\n"
      ],
      "text/plain": [
       " T_square Fstat    df1 df2 Ftable   pvalue      \n",
       " 52.3836  16.82625 3   53  12.99521 8.357985e-08"
      ]
     },
     "metadata": {},
     "output_type": "display_data"
    }
   ],
   "source": [
    "T.test(xbar1_19, newxbar2_19, S1_19, newS2_19, n1_19, newn2_19, mu_19)"
   ]
  },
  {
   "cell_type": "raw",
   "id": "1ac78d45",
   "metadata": {},
   "source": [
    "H0 masih ditolak pada tingkat signifikansi 1%. Hal ini konsisten dengan hasil dari bagian a, walau menggunakan data yang telah dihilangkan outlier multivariatnya."
   ]
  },
  {
   "cell_type": "markdown",
   "id": "5b5eb2b9",
   "metadata": {},
   "source": [
    "# 6.21"
   ]
  },
  {
   "cell_type": "raw",
   "id": "a020ff0c",
   "metadata": {},
   "source": [
    "Using Moody's bond ratings, samples of 20 Aa (middle-high quality) corporate \n",
    "bonds and 20 Baa (top-medium quality) corporate bonds were selected. For \n",
    "each of the corresponding companies, the ratios\n",
    "\n",
    "X1 = current ratio (a measure of short-term liquidity) \n",
    "X2 = long-term interest rate (a measure of interest coverage) \n",
    "X3 = debt-to-equity ratio (a measure of financial risk or leverage) \n",
    "X4 = rate of return on equity (a measure of profitability)\n",
    "\n",
    "were recorded. The summary statistics are as folows: "
   ]
  },
  {
   "cell_type": "markdown",
   "id": "cb62fbe3",
   "metadata": {},
   "source": [
    "### bond companies"
   ]
  },
  {
   "cell_type": "code",
   "execution_count": 41,
   "id": "99a7e179",
   "metadata": {
    "ExecuteTime": {
     "end_time": "2022-03-27T11:13:15.912466Z",
     "start_time": "2022-03-27T11:13:12.507Z"
    }
   },
   "outputs": [
    {
     "name": "stdout",
     "output_type": "stream",
     "text": [
      "[1] \"n1 : 20\"\n",
      "[1] \"xbar1' :\"\n"
     ]
    },
    {
     "data": {
      "text/html": [
       "<table class=\"dataframe\">\n",
       "<caption>A matrix: 1 × 4 of type dbl</caption>\n",
       "<tbody>\n",
       "\t<tr><td>2.287</td><td>12.6</td><td>0.347</td><td>14.83</td></tr>\n",
       "</tbody>\n",
       "</table>\n"
      ],
      "text/latex": [
       "A matrix: 1 × 4 of type dbl\n",
       "\\begin{tabular}{llll}\n",
       "\t 2.287 & 12.6 & 0.347 & 14.83\\\\\n",
       "\\end{tabular}\n"
      ],
      "text/markdown": [
       "\n",
       "A matrix: 1 × 4 of type dbl\n",
       "\n",
       "| 2.287 | 12.6 | 0.347 | 14.83 |\n",
       "\n"
      ],
      "text/plain": [
       "     [,1]  [,2] [,3]  [,4] \n",
       "[1,] 2.287 12.6 0.347 14.83"
      ]
     },
     "metadata": {},
     "output_type": "display_data"
    },
    {
     "name": "stdout",
     "output_type": "stream",
     "text": [
      "[1] \"S1 :\"\n"
     ]
    },
    {
     "data": {
      "text/html": [
       "<table class=\"dataframe\">\n",
       "<caption>A matrix: 4 × 4 of type dbl</caption>\n",
       "<tbody>\n",
       "\t<tr><td> 0.459</td><td> 0.254</td><td>-0.026</td><td>-0.244</td></tr>\n",
       "\t<tr><td> 0.254</td><td>27.465</td><td>-0.589</td><td>-0.267</td></tr>\n",
       "\t<tr><td>-0.026</td><td>-0.589</td><td> 0.030</td><td> 0.102</td></tr>\n",
       "\t<tr><td>-0.244</td><td>-0.267</td><td> 0.102</td><td> 6.854</td></tr>\n",
       "</tbody>\n",
       "</table>\n"
      ],
      "text/latex": [
       "A matrix: 4 × 4 of type dbl\n",
       "\\begin{tabular}{llll}\n",
       "\t  0.459 &  0.254 & -0.026 & -0.244\\\\\n",
       "\t  0.254 & 27.465 & -0.589 & -0.267\\\\\n",
       "\t -0.026 & -0.589 &  0.030 &  0.102\\\\\n",
       "\t -0.244 & -0.267 &  0.102 &  6.854\\\\\n",
       "\\end{tabular}\n"
      ],
      "text/markdown": [
       "\n",
       "A matrix: 4 × 4 of type dbl\n",
       "\n",
       "|  0.459 |  0.254 | -0.026 | -0.244 |\n",
       "|  0.254 | 27.465 | -0.589 | -0.267 |\n",
       "| -0.026 | -0.589 |  0.030 |  0.102 |\n",
       "| -0.244 | -0.267 |  0.102 |  6.854 |\n",
       "\n"
      ],
      "text/plain": [
       "     [,1]   [,2]   [,3]   [,4]  \n",
       "[1,]  0.459  0.254 -0.026 -0.244\n",
       "[2,]  0.254 27.465 -0.589 -0.267\n",
       "[3,] -0.026 -0.589  0.030  0.102\n",
       "[4,] -0.244 -0.267  0.102  6.854"
      ]
     },
     "metadata": {},
     "output_type": "display_data"
    }
   ],
   "source": [
    "n1_21 = 20\n",
    "print(paste(\"n1 :\", n1_21))\n",
    "\n",
    "xbar1_21 <- matrix(c(2.287, 12.600, 0.347, 14.830), nrow = 1)\n",
    "print(paste(\"xbar1' :\"))\n",
    "xbar1_21\n",
    "\n",
    "S1_21 <- matrix(c(0.459, 0.254, -0.026, -0.244, 0.254, 27.465, -0.589, -0.267, -0.026, -0.589, 0.030, 0.102, -0.244, -0.267, 0.102, 6.854), nrow = 4, byrow = TRUE)\n",
    "print(paste(\"S1 :\"))\n",
    "S1_21"
   ]
  },
  {
   "cell_type": "markdown",
   "id": "b2c9cf84",
   "metadata": {},
   "source": [
    "### Baa bond companies"
   ]
  },
  {
   "cell_type": "code",
   "execution_count": 42,
   "id": "3220191a",
   "metadata": {
    "ExecuteTime": {
     "end_time": "2022-03-27T11:13:15.967469Z",
     "start_time": "2022-03-27T11:13:12.511Z"
    }
   },
   "outputs": [
    {
     "name": "stdout",
     "output_type": "stream",
     "text": [
      "[1] \"n2 : 20\"\n",
      "[1] \"xbar2' :\"\n"
     ]
    },
    {
     "data": {
      "text/html": [
       "<table class=\"dataframe\">\n",
       "<caption>A matrix: 1 × 4 of type dbl</caption>\n",
       "<tbody>\n",
       "\t<tr><td>2.404</td><td>7.155</td><td>0.524</td><td>12.84</td></tr>\n",
       "</tbody>\n",
       "</table>\n"
      ],
      "text/latex": [
       "A matrix: 1 × 4 of type dbl\n",
       "\\begin{tabular}{llll}\n",
       "\t 2.404 & 7.155 & 0.524 & 12.84\\\\\n",
       "\\end{tabular}\n"
      ],
      "text/markdown": [
       "\n",
       "A matrix: 1 × 4 of type dbl\n",
       "\n",
       "| 2.404 | 7.155 | 0.524 | 12.84 |\n",
       "\n"
      ],
      "text/plain": [
       "     [,1]  [,2]  [,3]  [,4] \n",
       "[1,] 2.404 7.155 0.524 12.84"
      ]
     },
     "metadata": {},
     "output_type": "display_data"
    },
    {
     "name": "stdout",
     "output_type": "stream",
     "text": [
      "[1] \"S2 :\"\n"
     ]
    },
    {
     "data": {
      "text/html": [
       "<table class=\"dataframe\">\n",
       "<caption>A matrix: 4 × 4 of type dbl</caption>\n",
       "<tbody>\n",
       "\t<tr><td> 0.944</td><td>-0.089</td><td> 0.002</td><td>-0.719</td></tr>\n",
       "\t<tr><td>-0.089</td><td>16.432</td><td>-0.400</td><td>19.044</td></tr>\n",
       "\t<tr><td> 0.002</td><td>-0.400</td><td> 0.024</td><td>-0.094</td></tr>\n",
       "\t<tr><td>-0.719</td><td>19.044</td><td>-0.094</td><td>61.854</td></tr>\n",
       "</tbody>\n",
       "</table>\n"
      ],
      "text/latex": [
       "A matrix: 4 × 4 of type dbl\n",
       "\\begin{tabular}{llll}\n",
       "\t  0.944 & -0.089 &  0.002 & -0.719\\\\\n",
       "\t -0.089 & 16.432 & -0.400 & 19.044\\\\\n",
       "\t  0.002 & -0.400 &  0.024 & -0.094\\\\\n",
       "\t -0.719 & 19.044 & -0.094 & 61.854\\\\\n",
       "\\end{tabular}\n"
      ],
      "text/markdown": [
       "\n",
       "A matrix: 4 × 4 of type dbl\n",
       "\n",
       "|  0.944 | -0.089 |  0.002 | -0.719 |\n",
       "| -0.089 | 16.432 | -0.400 | 19.044 |\n",
       "|  0.002 | -0.400 |  0.024 | -0.094 |\n",
       "| -0.719 | 19.044 | -0.094 | 61.854 |\n",
       "\n"
      ],
      "text/plain": [
       "     [,1]   [,2]   [,3]   [,4]  \n",
       "[1,]  0.944 -0.089  0.002 -0.719\n",
       "[2,] -0.089 16.432 -0.400 19.044\n",
       "[3,]  0.002 -0.400  0.024 -0.094\n",
       "[4,] -0.719 19.044 -0.094 61.854"
      ]
     },
     "metadata": {},
     "output_type": "display_data"
    }
   ],
   "source": [
    "n2_21 = 20\n",
    "print(paste(\"n2 :\", n2_21))\n",
    "\n",
    "xbar2_21 <- matrix(c(2.404, 7.155, 0.524, 12.840), nrow = 1)\n",
    "print(paste(\"xbar2' :\"))\n",
    "xbar2_21\n",
    "\n",
    "S2_21 <- matrix(c(0.944, -0.089, 0.002, -0.719, -0.089, 16.432, -0.400, 19.044, 0.002, -0.400, 0.024, -0.094, -0.719, 19.044, -0.094, 61.854), nrow = 4, byrow = TRUE)\n",
    "print(paste(\"S2 :\"))\n",
    "S2_21"
   ]
  },
  {
   "cell_type": "markdown",
   "id": "88660d36",
   "metadata": {},
   "source": [
    "### Spooled"
   ]
  },
  {
   "cell_type": "code",
   "execution_count": 43,
   "id": "56399a59",
   "metadata": {
    "ExecuteTime": {
     "end_time": "2022-03-27T11:13:16.003535Z",
     "start_time": "2022-03-27T11:13:12.514Z"
    }
   },
   "outputs": [
    {
     "data": {
      "text/html": [
       "<table class=\"dataframe\">\n",
       "<caption>A matrix: 4 × 4 of type dbl</caption>\n",
       "<tbody>\n",
       "\t<tr><td> 0.701</td><td> 0.083</td><td>-0.012</td><td>-0.481</td></tr>\n",
       "\t<tr><td> 0.083</td><td>21.949</td><td>-0.494</td><td> 9.388</td></tr>\n",
       "\t<tr><td>-0.012</td><td>-0.494</td><td> 0.027</td><td> 0.004</td></tr>\n",
       "\t<tr><td>-0.481</td><td> 9.388</td><td> 0.004</td><td>34.354</td></tr>\n",
       "</tbody>\n",
       "</table>\n"
      ],
      "text/latex": [
       "A matrix: 4 × 4 of type dbl\n",
       "\\begin{tabular}{llll}\n",
       "\t  0.701 &  0.083 & -0.012 & -0.481\\\\\n",
       "\t  0.083 & 21.949 & -0.494 &  9.388\\\\\n",
       "\t -0.012 & -0.494 &  0.027 &  0.004\\\\\n",
       "\t -0.481 &  9.388 &  0.004 & 34.354\\\\\n",
       "\\end{tabular}\n"
      ],
      "text/markdown": [
       "\n",
       "A matrix: 4 × 4 of type dbl\n",
       "\n",
       "|  0.701 |  0.083 | -0.012 | -0.481 |\n",
       "|  0.083 | 21.949 | -0.494 |  9.388 |\n",
       "| -0.012 | -0.494 |  0.027 |  0.004 |\n",
       "| -0.481 |  9.388 |  0.004 | 34.354 |\n",
       "\n"
      ],
      "text/plain": [
       "     [,1]   [,2]   [,3]   [,4]  \n",
       "[1,]  0.701  0.083 -0.012 -0.481\n",
       "[2,]  0.083 21.949 -0.494  9.388\n",
       "[3,] -0.012 -0.494  0.027  0.004\n",
       "[4,] -0.481  9.388  0.004 34.354"
      ]
     },
     "metadata": {},
     "output_type": "display_data"
    }
   ],
   "source": [
    "Spooled_21 <- matrix(c(0.701, 0.083, -0.012, -0.481, 0.083, 21.949, -0.494, 9.388, -0.012, -0.494, 0.027, 0.004, -0.481, 9.388, 0.004, 34.354), nrow = 4, byrow = TRUE)\n",
    "Spooled_21"
   ]
  },
  {
   "cell_type": "markdown",
   "id": "651dce2c",
   "metadata": {},
   "source": [
    "## (a) Does pooling appear reasonable here? Comment on the pooling procedure in this case. "
   ]
  },
  {
   "cell_type": "raw",
   "id": "77343a5b",
   "metadata": {},
   "source": [
    "Matriks koefisien berbeda dari S1 dan S2. Secara teori, ketika data memiliki matriks koefisien yang tidak sama, jika data memiliki ukuran sampel yang sama (n1 = n2 = n), matriks koefisien dapat dikumpulkan selama data dianggap sebagai ukuran sampel yang besar. Jadi dapat dikatakan bahwa penyatuan tampak wajar tetapi perlu digunakan prosedur pendekatan sampel besar untuk menggabungkan matriks kovarians di atas."
   ]
  },
  {
   "cell_type": "markdown",
   "id": "40ec9aa4",
   "metadata": {},
   "source": [
    "## (b) Are the financial characteristics of firms with Aa bonds different from those with Baa bonds? Using the pooled covariance matrix, test for the equality of mean vectors. Set a == .05. "
   ]
  },
  {
   "cell_type": "code",
   "execution_count": 44,
   "id": "bb392b1c",
   "metadata": {
    "ExecuteTime": {
     "end_time": "2022-03-27T11:13:16.027498Z",
     "start_time": "2022-03-27T11:13:12.533Z"
    }
   },
   "outputs": [],
   "source": [
    "mu_21 <- c(0, 0, 0, 0)\n",
    "T.test <- function(xb1, xb2, S_pooled, n1, n2, mu){\n",
    "  p <- nrow(xb1)\n",
    "  df1 = p\n",
    "  df2 = n1 + n2 - p - 1\n",
    "  alpha <- 0.05\n",
    "  \n",
    "  T_square <- t((xb1 - xb2) - mu) %*% solve(((1/n1) + (1/n2)) * S_pooled) %*% ((xb1 - xb2) - mu)\n",
    "    \n",
    "  Fstat <- T_square / (p %*% (n1 + n2 - 2)/(n1 + n2 - p - 1))\n",
    "  \n",
    "  Ftable <- qf(1 - alpha, df1 = p, df2 = n1 + n2 - p - 1) %*% (n1 + n2 - 2) %*% p / (n1 + n2 - p - 1)\n",
    "  \n",
    "  p_value <- 1 - pf(Fstat, df1 = p, df2 = n1 + n2 - p - 1)\n",
    "  \n",
    "  data.frame(T_square = as.numeric(T_square), \n",
    "             Fstat = as.numeric(Fstat),\n",
    "             df1 = p, \n",
    "             df2 = n1 + n2 - p - 1, \n",
    "             Ftable = as.numeric(Ftable),\n",
    "             pvalue = as.numeric(p_value),\n",
    "             row.names=\"\")\n",
    "}"
   ]
  },
  {
   "cell_type": "code",
   "execution_count": 45,
   "id": "14cbcb6f",
   "metadata": {
    "ExecuteTime": {
     "end_time": "2022-03-27T11:13:16.106496Z",
     "start_time": "2022-03-27T11:13:12.536Z"
    }
   },
   "outputs": [
    {
     "data": {
      "text/html": [
       "<table class=\"dataframe\">\n",
       "<caption>A data.frame: 1 × 6</caption>\n",
       "<thead>\n",
       "\t<tr><th></th><th scope=col>T_square</th><th scope=col>Fstat</th><th scope=col>df1</th><th scope=col>df2</th><th scope=col>Ftable</th><th scope=col>pvalue</th></tr>\n",
       "\t<tr><th></th><th scope=col>&lt;dbl&gt;</th><th scope=col>&lt;dbl&gt;</th><th scope=col>&lt;int&gt;</th><th scope=col>&lt;dbl&gt;</th><th scope=col>&lt;dbl&gt;</th><th scope=col>&lt;dbl&gt;</th></tr>\n",
       "</thead>\n",
       "<tbody>\n",
       "\t<tr><th scope=row></th><td>15.83653</td><td>3.646571</td><td>4</td><td>35</td><td>11.47151</td><td>0.01383831</td></tr>\n",
       "</tbody>\n",
       "</table>\n"
      ],
      "text/latex": [
       "A data.frame: 1 × 6\n",
       "\\begin{tabular}{r|llllll}\n",
       "  & T\\_square & Fstat & df1 & df2 & Ftable & pvalue\\\\\n",
       "  & <dbl> & <dbl> & <int> & <dbl> & <dbl> & <dbl>\\\\\n",
       "\\hline\n",
       "\t & 15.83653 & 3.646571 & 4 & 35 & 11.47151 & 0.01383831\\\\\n",
       "\\end{tabular}\n"
      ],
      "text/markdown": [
       "\n",
       "A data.frame: 1 × 6\n",
       "\n",
       "| <!--/--> | T_square &lt;dbl&gt; | Fstat &lt;dbl&gt; | df1 &lt;int&gt; | df2 &lt;dbl&gt; | Ftable &lt;dbl&gt; | pvalue &lt;dbl&gt; |\n",
       "|---|---|---|---|---|---|---|\n",
       "| <!----> | 15.83653 | 3.646571 | 4 | 35 | 11.47151 | 0.01383831 |\n",
       "\n"
      ],
      "text/plain": [
       " T_square Fstat    df1 df2 Ftable   pvalue    \n",
       " 15.83653 3.646571 4   35  11.47151 0.01383831"
      ]
     },
     "metadata": {},
     "output_type": "display_data"
    }
   ],
   "source": [
    "T.test(t(xbar1_21), t(xbar2_21), Spooled_21, n1_21, n2_21, mu_21) "
   ]
  },
  {
   "cell_type": "raw",
   "id": "e1dd8f6c",
   "metadata": {},
   "source": [
    "15.83653 > 11.47151, T-square > F-table, maka H0 : mu1 - mu2 = 0 ditolak pada taraf signifikansi 5%. Jadi, dapat disimpulkan bahwa terdapat perbedaan antara karakteristik keuangan Aa bonds dan Baa bonds"
   ]
  },
  {
   "cell_type": "markdown",
   "id": "f26e4831",
   "metadata": {},
   "source": [
    "## (c) Calculate the linear combinations of mean components most responsible for rejecting H0 : ILl - IL2 == 0 in Part b. "
   ]
  },
  {
   "cell_type": "code",
   "execution_count": 46,
   "id": "eed2b527",
   "metadata": {
    "ExecuteTime": {
     "end_time": "2022-03-27T11:13:16.138506Z",
     "start_time": "2022-03-27T11:13:12.555Z"
    }
   },
   "outputs": [
    {
     "data": {
      "text/html": [
       "<table class=\"dataframe\">\n",
       "<caption>A matrix: 4 × 1 of type dbl</caption>\n",
       "<tbody>\n",
       "\t<tr><td>-0.24210856</td></tr>\n",
       "\t<tr><td> 0.16013330</td></tr>\n",
       "\t<tr><td>-3.73497395</td></tr>\n",
       "\t<tr><td> 0.01121134</td></tr>\n",
       "</tbody>\n",
       "</table>\n"
      ],
      "text/latex": [
       "A matrix: 4 × 1 of type dbl\n",
       "\\begin{tabular}{l}\n",
       "\t -0.24210856\\\\\n",
       "\t  0.16013330\\\\\n",
       "\t -3.73497395\\\\\n",
       "\t  0.01121134\\\\\n",
       "\\end{tabular}\n"
      ],
      "text/markdown": [
       "\n",
       "A matrix: 4 × 1 of type dbl\n",
       "\n",
       "| -0.24210856 |\n",
       "|  0.16013330 |\n",
       "| -3.73497395 |\n",
       "|  0.01121134 |\n",
       "\n"
      ],
      "text/plain": [
       "     [,1]       \n",
       "[1,] -0.24210856\n",
       "[2,]  0.16013330\n",
       "[3,] -3.73497395\n",
       "[4,]  0.01121134"
      ]
     },
     "metadata": {},
     "output_type": "display_data"
    }
   ],
   "source": [
    "linearcomb_21 <- solve(Spooled_21) %*% (t(xbar1_21) - t(xbar2_21)) \n",
    "linearcomb_21"
   ]
  },
  {
   "cell_type": "markdown",
   "id": "6b6a0d97",
   "metadata": {},
   "source": [
    "## (d) Bond rating companies are interested in a company's ability to satisfy its outstanding debt obligations as they mature. Does it appear as if one or more of the foregoing financial ratios might be useful in helping to classify a bond as \"high\" or \"medium\" quality? Explain. "
   ]
  },
  {
   "cell_type": "raw",
   "id": "ca154a3a",
   "metadata": {},
   "source": [
    "Rasio keuangan mungkin berguna sesuai dengan kombinasi linier yang ditunjukkan oleh variabel yang memiliki koefisien terbesar, yaitu X2 sebagai long term interest rate. Berdasarkan hal tersebut, dapat disimpulkan bahwa long term interest rate mungkin berguna untuk mengklasifikasikan bond sebagai kualitas \"tinggi\" atau \"sedang\"."
   ]
  },
  {
   "cell_type": "markdown",
   "id": "8bf0dbb5",
   "metadata": {},
   "source": [
    "# 6.23\n"
   ]
  },
  {
   "cell_type": "raw",
   "id": "10bdde41",
   "metadata": {},
   "source": [
    "Construct a one-way MANOVA using the width measurements from the iris data in Table 11.5. Construct 95% simultaneous confidence intervals for differences in mean components for the two responses for each pair of populations. Comment on the validity of the assumption that I1 == I2 == I3."
   ]
  },
  {
   "cell_type": "markdown",
   "id": "f973e164",
   "metadata": {},
   "source": [
    "## Inputing Dataset"
   ]
  },
  {
   "cell_type": "code",
   "execution_count": 47,
   "id": "df8c978c",
   "metadata": {
    "ExecuteTime": {
     "end_time": "2022-03-27T11:13:16.213498Z",
     "start_time": "2022-03-27T11:13:12.590Z"
    },
    "scrolled": true
   },
   "outputs": [
    {
     "data": {
      "text/html": [
       "<table class=\"dataframe\">\n",
       "<caption>A data.frame: 150 × 5</caption>\n",
       "<thead>\n",
       "\t<tr><th scope=col>Sepal.Length</th><th scope=col>Sepal.Width</th><th scope=col>Petal.Length</th><th scope=col>Petal.Width</th><th scope=col>Species</th></tr>\n",
       "\t<tr><th scope=col>&lt;dbl&gt;</th><th scope=col>&lt;dbl&gt;</th><th scope=col>&lt;dbl&gt;</th><th scope=col>&lt;dbl&gt;</th><th scope=col>&lt;fct&gt;</th></tr>\n",
       "</thead>\n",
       "<tbody>\n",
       "\t<tr><td>5.1</td><td>3.5</td><td>1.4</td><td>0.2</td><td>setosa</td></tr>\n",
       "\t<tr><td>4.9</td><td>3.0</td><td>1.4</td><td>0.2</td><td>setosa</td></tr>\n",
       "\t<tr><td>4.7</td><td>3.2</td><td>1.3</td><td>0.2</td><td>setosa</td></tr>\n",
       "\t<tr><td>4.6</td><td>3.1</td><td>1.5</td><td>0.2</td><td>setosa</td></tr>\n",
       "\t<tr><td>5.0</td><td>3.6</td><td>1.4</td><td>0.2</td><td>setosa</td></tr>\n",
       "\t<tr><td>5.4</td><td>3.9</td><td>1.7</td><td>0.4</td><td>setosa</td></tr>\n",
       "\t<tr><td>4.6</td><td>3.4</td><td>1.4</td><td>0.3</td><td>setosa</td></tr>\n",
       "\t<tr><td>5.0</td><td>3.4</td><td>1.5</td><td>0.2</td><td>setosa</td></tr>\n",
       "\t<tr><td>4.4</td><td>2.9</td><td>1.4</td><td>0.2</td><td>setosa</td></tr>\n",
       "\t<tr><td>4.9</td><td>3.1</td><td>1.5</td><td>0.1</td><td>setosa</td></tr>\n",
       "\t<tr><td>5.4</td><td>3.7</td><td>1.5</td><td>0.2</td><td>setosa</td></tr>\n",
       "\t<tr><td>4.8</td><td>3.4</td><td>1.6</td><td>0.2</td><td>setosa</td></tr>\n",
       "\t<tr><td>4.8</td><td>3.0</td><td>1.4</td><td>0.1</td><td>setosa</td></tr>\n",
       "\t<tr><td>4.3</td><td>3.0</td><td>1.1</td><td>0.1</td><td>setosa</td></tr>\n",
       "\t<tr><td>5.8</td><td>4.0</td><td>1.2</td><td>0.2</td><td>setosa</td></tr>\n",
       "\t<tr><td>5.7</td><td>4.4</td><td>1.5</td><td>0.4</td><td>setosa</td></tr>\n",
       "\t<tr><td>5.4</td><td>3.9</td><td>1.3</td><td>0.4</td><td>setosa</td></tr>\n",
       "\t<tr><td>5.1</td><td>3.5</td><td>1.4</td><td>0.3</td><td>setosa</td></tr>\n",
       "\t<tr><td>5.7</td><td>3.8</td><td>1.7</td><td>0.3</td><td>setosa</td></tr>\n",
       "\t<tr><td>5.1</td><td>3.8</td><td>1.5</td><td>0.3</td><td>setosa</td></tr>\n",
       "\t<tr><td>5.4</td><td>3.4</td><td>1.7</td><td>0.2</td><td>setosa</td></tr>\n",
       "\t<tr><td>5.1</td><td>3.7</td><td>1.5</td><td>0.4</td><td>setosa</td></tr>\n",
       "\t<tr><td>4.6</td><td>3.6</td><td>1.0</td><td>0.2</td><td>setosa</td></tr>\n",
       "\t<tr><td>5.1</td><td>3.3</td><td>1.7</td><td>0.5</td><td>setosa</td></tr>\n",
       "\t<tr><td>4.8</td><td>3.4</td><td>1.9</td><td>0.2</td><td>setosa</td></tr>\n",
       "\t<tr><td>5.0</td><td>3.0</td><td>1.6</td><td>0.2</td><td>setosa</td></tr>\n",
       "\t<tr><td>5.0</td><td>3.4</td><td>1.6</td><td>0.4</td><td>setosa</td></tr>\n",
       "\t<tr><td>5.2</td><td>3.5</td><td>1.5</td><td>0.2</td><td>setosa</td></tr>\n",
       "\t<tr><td>5.2</td><td>3.4</td><td>1.4</td><td>0.2</td><td>setosa</td></tr>\n",
       "\t<tr><td>4.7</td><td>3.2</td><td>1.6</td><td>0.2</td><td>setosa</td></tr>\n",
       "\t<tr><td>⋮</td><td>⋮</td><td>⋮</td><td>⋮</td><td>⋮</td></tr>\n",
       "\t<tr><td>6.9</td><td>3.2</td><td>5.7</td><td>2.3</td><td>virginica</td></tr>\n",
       "\t<tr><td>5.6</td><td>2.8</td><td>4.9</td><td>2.0</td><td>virginica</td></tr>\n",
       "\t<tr><td>7.7</td><td>2.8</td><td>6.7</td><td>2.0</td><td>virginica</td></tr>\n",
       "\t<tr><td>6.3</td><td>2.7</td><td>4.9</td><td>1.8</td><td>virginica</td></tr>\n",
       "\t<tr><td>6.7</td><td>3.3</td><td>5.7</td><td>2.1</td><td>virginica</td></tr>\n",
       "\t<tr><td>7.2</td><td>3.2</td><td>6.0</td><td>1.8</td><td>virginica</td></tr>\n",
       "\t<tr><td>6.2</td><td>2.8</td><td>4.8</td><td>1.8</td><td>virginica</td></tr>\n",
       "\t<tr><td>6.1</td><td>3.0</td><td>4.9</td><td>1.8</td><td>virginica</td></tr>\n",
       "\t<tr><td>6.4</td><td>2.8</td><td>5.6</td><td>2.1</td><td>virginica</td></tr>\n",
       "\t<tr><td>7.2</td><td>3.0</td><td>5.8</td><td>1.6</td><td>virginica</td></tr>\n",
       "\t<tr><td>7.4</td><td>2.8</td><td>6.1</td><td>1.9</td><td>virginica</td></tr>\n",
       "\t<tr><td>7.9</td><td>3.8</td><td>6.4</td><td>2.0</td><td>virginica</td></tr>\n",
       "\t<tr><td>6.4</td><td>2.8</td><td>5.6</td><td>2.2</td><td>virginica</td></tr>\n",
       "\t<tr><td>6.3</td><td>2.8</td><td>5.1</td><td>1.5</td><td>virginica</td></tr>\n",
       "\t<tr><td>6.1</td><td>2.6</td><td>5.6</td><td>1.4</td><td>virginica</td></tr>\n",
       "\t<tr><td>7.7</td><td>3.0</td><td>6.1</td><td>2.3</td><td>virginica</td></tr>\n",
       "\t<tr><td>6.3</td><td>3.4</td><td>5.6</td><td>2.4</td><td>virginica</td></tr>\n",
       "\t<tr><td>6.4</td><td>3.1</td><td>5.5</td><td>1.8</td><td>virginica</td></tr>\n",
       "\t<tr><td>6.0</td><td>3.0</td><td>4.8</td><td>1.8</td><td>virginica</td></tr>\n",
       "\t<tr><td>6.9</td><td>3.1</td><td>5.4</td><td>2.1</td><td>virginica</td></tr>\n",
       "\t<tr><td>6.7</td><td>3.1</td><td>5.6</td><td>2.4</td><td>virginica</td></tr>\n",
       "\t<tr><td>6.9</td><td>3.1</td><td>5.1</td><td>2.3</td><td>virginica</td></tr>\n",
       "\t<tr><td>5.8</td><td>2.7</td><td>5.1</td><td>1.9</td><td>virginica</td></tr>\n",
       "\t<tr><td>6.8</td><td>3.2</td><td>5.9</td><td>2.3</td><td>virginica</td></tr>\n",
       "\t<tr><td>6.7</td><td>3.3</td><td>5.7</td><td>2.5</td><td>virginica</td></tr>\n",
       "\t<tr><td>6.7</td><td>3.0</td><td>5.2</td><td>2.3</td><td>virginica</td></tr>\n",
       "\t<tr><td>6.3</td><td>2.5</td><td>5.0</td><td>1.9</td><td>virginica</td></tr>\n",
       "\t<tr><td>6.5</td><td>3.0</td><td>5.2</td><td>2.0</td><td>virginica</td></tr>\n",
       "\t<tr><td>6.2</td><td>3.4</td><td>5.4</td><td>2.3</td><td>virginica</td></tr>\n",
       "\t<tr><td>5.9</td><td>3.0</td><td>5.1</td><td>1.8</td><td>virginica</td></tr>\n",
       "</tbody>\n",
       "</table>\n"
      ],
      "text/latex": [
       "A data.frame: 150 × 5\n",
       "\\begin{tabular}{lllll}\n",
       " Sepal.Length & Sepal.Width & Petal.Length & Petal.Width & Species\\\\\n",
       " <dbl> & <dbl> & <dbl> & <dbl> & <fct>\\\\\n",
       "\\hline\n",
       "\t 5.1 & 3.5 & 1.4 & 0.2 & setosa\\\\\n",
       "\t 4.9 & 3.0 & 1.4 & 0.2 & setosa\\\\\n",
       "\t 4.7 & 3.2 & 1.3 & 0.2 & setosa\\\\\n",
       "\t 4.6 & 3.1 & 1.5 & 0.2 & setosa\\\\\n",
       "\t 5.0 & 3.6 & 1.4 & 0.2 & setosa\\\\\n",
       "\t 5.4 & 3.9 & 1.7 & 0.4 & setosa\\\\\n",
       "\t 4.6 & 3.4 & 1.4 & 0.3 & setosa\\\\\n",
       "\t 5.0 & 3.4 & 1.5 & 0.2 & setosa\\\\\n",
       "\t 4.4 & 2.9 & 1.4 & 0.2 & setosa\\\\\n",
       "\t 4.9 & 3.1 & 1.5 & 0.1 & setosa\\\\\n",
       "\t 5.4 & 3.7 & 1.5 & 0.2 & setosa\\\\\n",
       "\t 4.8 & 3.4 & 1.6 & 0.2 & setosa\\\\\n",
       "\t 4.8 & 3.0 & 1.4 & 0.1 & setosa\\\\\n",
       "\t 4.3 & 3.0 & 1.1 & 0.1 & setosa\\\\\n",
       "\t 5.8 & 4.0 & 1.2 & 0.2 & setosa\\\\\n",
       "\t 5.7 & 4.4 & 1.5 & 0.4 & setosa\\\\\n",
       "\t 5.4 & 3.9 & 1.3 & 0.4 & setosa\\\\\n",
       "\t 5.1 & 3.5 & 1.4 & 0.3 & setosa\\\\\n",
       "\t 5.7 & 3.8 & 1.7 & 0.3 & setosa\\\\\n",
       "\t 5.1 & 3.8 & 1.5 & 0.3 & setosa\\\\\n",
       "\t 5.4 & 3.4 & 1.7 & 0.2 & setosa\\\\\n",
       "\t 5.1 & 3.7 & 1.5 & 0.4 & setosa\\\\\n",
       "\t 4.6 & 3.6 & 1.0 & 0.2 & setosa\\\\\n",
       "\t 5.1 & 3.3 & 1.7 & 0.5 & setosa\\\\\n",
       "\t 4.8 & 3.4 & 1.9 & 0.2 & setosa\\\\\n",
       "\t 5.0 & 3.0 & 1.6 & 0.2 & setosa\\\\\n",
       "\t 5.0 & 3.4 & 1.6 & 0.4 & setosa\\\\\n",
       "\t 5.2 & 3.5 & 1.5 & 0.2 & setosa\\\\\n",
       "\t 5.2 & 3.4 & 1.4 & 0.2 & setosa\\\\\n",
       "\t 4.7 & 3.2 & 1.6 & 0.2 & setosa\\\\\n",
       "\t ⋮ & ⋮ & ⋮ & ⋮ & ⋮\\\\\n",
       "\t 6.9 & 3.2 & 5.7 & 2.3 & virginica\\\\\n",
       "\t 5.6 & 2.8 & 4.9 & 2.0 & virginica\\\\\n",
       "\t 7.7 & 2.8 & 6.7 & 2.0 & virginica\\\\\n",
       "\t 6.3 & 2.7 & 4.9 & 1.8 & virginica\\\\\n",
       "\t 6.7 & 3.3 & 5.7 & 2.1 & virginica\\\\\n",
       "\t 7.2 & 3.2 & 6.0 & 1.8 & virginica\\\\\n",
       "\t 6.2 & 2.8 & 4.8 & 1.8 & virginica\\\\\n",
       "\t 6.1 & 3.0 & 4.9 & 1.8 & virginica\\\\\n",
       "\t 6.4 & 2.8 & 5.6 & 2.1 & virginica\\\\\n",
       "\t 7.2 & 3.0 & 5.8 & 1.6 & virginica\\\\\n",
       "\t 7.4 & 2.8 & 6.1 & 1.9 & virginica\\\\\n",
       "\t 7.9 & 3.8 & 6.4 & 2.0 & virginica\\\\\n",
       "\t 6.4 & 2.8 & 5.6 & 2.2 & virginica\\\\\n",
       "\t 6.3 & 2.8 & 5.1 & 1.5 & virginica\\\\\n",
       "\t 6.1 & 2.6 & 5.6 & 1.4 & virginica\\\\\n",
       "\t 7.7 & 3.0 & 6.1 & 2.3 & virginica\\\\\n",
       "\t 6.3 & 3.4 & 5.6 & 2.4 & virginica\\\\\n",
       "\t 6.4 & 3.1 & 5.5 & 1.8 & virginica\\\\\n",
       "\t 6.0 & 3.0 & 4.8 & 1.8 & virginica\\\\\n",
       "\t 6.9 & 3.1 & 5.4 & 2.1 & virginica\\\\\n",
       "\t 6.7 & 3.1 & 5.6 & 2.4 & virginica\\\\\n",
       "\t 6.9 & 3.1 & 5.1 & 2.3 & virginica\\\\\n",
       "\t 5.8 & 2.7 & 5.1 & 1.9 & virginica\\\\\n",
       "\t 6.8 & 3.2 & 5.9 & 2.3 & virginica\\\\\n",
       "\t 6.7 & 3.3 & 5.7 & 2.5 & virginica\\\\\n",
       "\t 6.7 & 3.0 & 5.2 & 2.3 & virginica\\\\\n",
       "\t 6.3 & 2.5 & 5.0 & 1.9 & virginica\\\\\n",
       "\t 6.5 & 3.0 & 5.2 & 2.0 & virginica\\\\\n",
       "\t 6.2 & 3.4 & 5.4 & 2.3 & virginica\\\\\n",
       "\t 5.9 & 3.0 & 5.1 & 1.8 & virginica\\\\\n",
       "\\end{tabular}\n"
      ],
      "text/markdown": [
       "\n",
       "A data.frame: 150 × 5\n",
       "\n",
       "| Sepal.Length &lt;dbl&gt; | Sepal.Width &lt;dbl&gt; | Petal.Length &lt;dbl&gt; | Petal.Width &lt;dbl&gt; | Species &lt;fct&gt; |\n",
       "|---|---|---|---|---|\n",
       "| 5.1 | 3.5 | 1.4 | 0.2 | setosa |\n",
       "| 4.9 | 3.0 | 1.4 | 0.2 | setosa |\n",
       "| 4.7 | 3.2 | 1.3 | 0.2 | setosa |\n",
       "| 4.6 | 3.1 | 1.5 | 0.2 | setosa |\n",
       "| 5.0 | 3.6 | 1.4 | 0.2 | setosa |\n",
       "| 5.4 | 3.9 | 1.7 | 0.4 | setosa |\n",
       "| 4.6 | 3.4 | 1.4 | 0.3 | setosa |\n",
       "| 5.0 | 3.4 | 1.5 | 0.2 | setosa |\n",
       "| 4.4 | 2.9 | 1.4 | 0.2 | setosa |\n",
       "| 4.9 | 3.1 | 1.5 | 0.1 | setosa |\n",
       "| 5.4 | 3.7 | 1.5 | 0.2 | setosa |\n",
       "| 4.8 | 3.4 | 1.6 | 0.2 | setosa |\n",
       "| 4.8 | 3.0 | 1.4 | 0.1 | setosa |\n",
       "| 4.3 | 3.0 | 1.1 | 0.1 | setosa |\n",
       "| 5.8 | 4.0 | 1.2 | 0.2 | setosa |\n",
       "| 5.7 | 4.4 | 1.5 | 0.4 | setosa |\n",
       "| 5.4 | 3.9 | 1.3 | 0.4 | setosa |\n",
       "| 5.1 | 3.5 | 1.4 | 0.3 | setosa |\n",
       "| 5.7 | 3.8 | 1.7 | 0.3 | setosa |\n",
       "| 5.1 | 3.8 | 1.5 | 0.3 | setosa |\n",
       "| 5.4 | 3.4 | 1.7 | 0.2 | setosa |\n",
       "| 5.1 | 3.7 | 1.5 | 0.4 | setosa |\n",
       "| 4.6 | 3.6 | 1.0 | 0.2 | setosa |\n",
       "| 5.1 | 3.3 | 1.7 | 0.5 | setosa |\n",
       "| 4.8 | 3.4 | 1.9 | 0.2 | setosa |\n",
       "| 5.0 | 3.0 | 1.6 | 0.2 | setosa |\n",
       "| 5.0 | 3.4 | 1.6 | 0.4 | setosa |\n",
       "| 5.2 | 3.5 | 1.5 | 0.2 | setosa |\n",
       "| 5.2 | 3.4 | 1.4 | 0.2 | setosa |\n",
       "| 4.7 | 3.2 | 1.6 | 0.2 | setosa |\n",
       "| ⋮ | ⋮ | ⋮ | ⋮ | ⋮ |\n",
       "| 6.9 | 3.2 | 5.7 | 2.3 | virginica |\n",
       "| 5.6 | 2.8 | 4.9 | 2.0 | virginica |\n",
       "| 7.7 | 2.8 | 6.7 | 2.0 | virginica |\n",
       "| 6.3 | 2.7 | 4.9 | 1.8 | virginica |\n",
       "| 6.7 | 3.3 | 5.7 | 2.1 | virginica |\n",
       "| 7.2 | 3.2 | 6.0 | 1.8 | virginica |\n",
       "| 6.2 | 2.8 | 4.8 | 1.8 | virginica |\n",
       "| 6.1 | 3.0 | 4.9 | 1.8 | virginica |\n",
       "| 6.4 | 2.8 | 5.6 | 2.1 | virginica |\n",
       "| 7.2 | 3.0 | 5.8 | 1.6 | virginica |\n",
       "| 7.4 | 2.8 | 6.1 | 1.9 | virginica |\n",
       "| 7.9 | 3.8 | 6.4 | 2.0 | virginica |\n",
       "| 6.4 | 2.8 | 5.6 | 2.2 | virginica |\n",
       "| 6.3 | 2.8 | 5.1 | 1.5 | virginica |\n",
       "| 6.1 | 2.6 | 5.6 | 1.4 | virginica |\n",
       "| 7.7 | 3.0 | 6.1 | 2.3 | virginica |\n",
       "| 6.3 | 3.4 | 5.6 | 2.4 | virginica |\n",
       "| 6.4 | 3.1 | 5.5 | 1.8 | virginica |\n",
       "| 6.0 | 3.0 | 4.8 | 1.8 | virginica |\n",
       "| 6.9 | 3.1 | 5.4 | 2.1 | virginica |\n",
       "| 6.7 | 3.1 | 5.6 | 2.4 | virginica |\n",
       "| 6.9 | 3.1 | 5.1 | 2.3 | virginica |\n",
       "| 5.8 | 2.7 | 5.1 | 1.9 | virginica |\n",
       "| 6.8 | 3.2 | 5.9 | 2.3 | virginica |\n",
       "| 6.7 | 3.3 | 5.7 | 2.5 | virginica |\n",
       "| 6.7 | 3.0 | 5.2 | 2.3 | virginica |\n",
       "| 6.3 | 2.5 | 5.0 | 1.9 | virginica |\n",
       "| 6.5 | 3.0 | 5.2 | 2.0 | virginica |\n",
       "| 6.2 | 3.4 | 5.4 | 2.3 | virginica |\n",
       "| 5.9 | 3.0 | 5.1 | 1.8 | virginica |\n",
       "\n"
      ],
      "text/plain": [
       "    Sepal.Length Sepal.Width Petal.Length Petal.Width Species  \n",
       "1   5.1          3.5         1.4          0.2         setosa   \n",
       "2   4.9          3.0         1.4          0.2         setosa   \n",
       "3   4.7          3.2         1.3          0.2         setosa   \n",
       "4   4.6          3.1         1.5          0.2         setosa   \n",
       "5   5.0          3.6         1.4          0.2         setosa   \n",
       "6   5.4          3.9         1.7          0.4         setosa   \n",
       "7   4.6          3.4         1.4          0.3         setosa   \n",
       "8   5.0          3.4         1.5          0.2         setosa   \n",
       "9   4.4          2.9         1.4          0.2         setosa   \n",
       "10  4.9          3.1         1.5          0.1         setosa   \n",
       "11  5.4          3.7         1.5          0.2         setosa   \n",
       "12  4.8          3.4         1.6          0.2         setosa   \n",
       "13  4.8          3.0         1.4          0.1         setosa   \n",
       "14  4.3          3.0         1.1          0.1         setosa   \n",
       "15  5.8          4.0         1.2          0.2         setosa   \n",
       "16  5.7          4.4         1.5          0.4         setosa   \n",
       "17  5.4          3.9         1.3          0.4         setosa   \n",
       "18  5.1          3.5         1.4          0.3         setosa   \n",
       "19  5.7          3.8         1.7          0.3         setosa   \n",
       "20  5.1          3.8         1.5          0.3         setosa   \n",
       "21  5.4          3.4         1.7          0.2         setosa   \n",
       "22  5.1          3.7         1.5          0.4         setosa   \n",
       "23  4.6          3.6         1.0          0.2         setosa   \n",
       "24  5.1          3.3         1.7          0.5         setosa   \n",
       "25  4.8          3.4         1.9          0.2         setosa   \n",
       "26  5.0          3.0         1.6          0.2         setosa   \n",
       "27  5.0          3.4         1.6          0.4         setosa   \n",
       "28  5.2          3.5         1.5          0.2         setosa   \n",
       "29  5.2          3.4         1.4          0.2         setosa   \n",
       "30  4.7          3.2         1.6          0.2         setosa   \n",
       "<U+22EE>   <U+22EE>     <U+22EE>    <U+22EE>     <U+22EE>    <U+22EE> \n",
       "121 6.9          3.2         5.7          2.3         virginica\n",
       "122 5.6          2.8         4.9          2.0         virginica\n",
       "123 7.7          2.8         6.7          2.0         virginica\n",
       "124 6.3          2.7         4.9          1.8         virginica\n",
       "125 6.7          3.3         5.7          2.1         virginica\n",
       "126 7.2          3.2         6.0          1.8         virginica\n",
       "127 6.2          2.8         4.8          1.8         virginica\n",
       "128 6.1          3.0         4.9          1.8         virginica\n",
       "129 6.4          2.8         5.6          2.1         virginica\n",
       "130 7.2          3.0         5.8          1.6         virginica\n",
       "131 7.4          2.8         6.1          1.9         virginica\n",
       "132 7.9          3.8         6.4          2.0         virginica\n",
       "133 6.4          2.8         5.6          2.2         virginica\n",
       "134 6.3          2.8         5.1          1.5         virginica\n",
       "135 6.1          2.6         5.6          1.4         virginica\n",
       "136 7.7          3.0         6.1          2.3         virginica\n",
       "137 6.3          3.4         5.6          2.4         virginica\n",
       "138 6.4          3.1         5.5          1.8         virginica\n",
       "139 6.0          3.0         4.8          1.8         virginica\n",
       "140 6.9          3.1         5.4          2.1         virginica\n",
       "141 6.7          3.1         5.6          2.4         virginica\n",
       "142 6.9          3.1         5.1          2.3         virginica\n",
       "143 5.8          2.7         5.1          1.9         virginica\n",
       "144 6.8          3.2         5.9          2.3         virginica\n",
       "145 6.7          3.3         5.7          2.5         virginica\n",
       "146 6.7          3.0         5.2          2.3         virginica\n",
       "147 6.3          2.5         5.0          1.9         virginica\n",
       "148 6.5          3.0         5.2          2.0         virginica\n",
       "149 6.2          3.4         5.4          2.3         virginica\n",
       "150 5.9          3.0         5.1          1.8         virginica"
      ]
     },
     "metadata": {},
     "output_type": "display_data"
    }
   ],
   "source": [
    "iris"
   ]
  },
  {
   "cell_type": "markdown",
   "id": "9479388b",
   "metadata": {},
   "source": [
    "## (2)\tTesting for the MANOVA One-Way Test with Ho : Τ1 = Τ2 = Τ3 = 0 (no treatment effect)"
   ]
  },
  {
   "cell_type": "code",
   "execution_count": 48,
   "id": "5baffd42",
   "metadata": {
    "ExecuteTime": {
     "end_time": "2022-03-27T11:13:16.252499Z",
     "start_time": "2022-03-27T11:13:12.593Z"
    }
   },
   "outputs": [
    {
     "data": {
      "text/plain": [
       "Call:\n",
       "   manova(model)\n",
       "\n",
       "Terms:\n",
       "                 species Residuals\n",
       "Sepal.Width     11.34493  16.96200\n",
       "Petal.Width     80.41333   6.15660\n",
       "Deg. of Freedom        2       147\n",
       "\n",
       "Residual standard errors: 0.3396877 0.20465\n",
       "Estimated effects may be unbalanced"
      ]
     },
     "metadata": {},
     "output_type": "display_data"
    }
   ],
   "source": [
    "X <- as.matrix(iris[,c(\"Sepal.Width\",\"Petal.Width\")])\n",
    "species <- as.factor(iris$Species)\n",
    "model <- lm(X ~ species)\n",
    "widthManova <- manova(model)\n",
    "widthManova"
   ]
  },
  {
   "cell_type": "code",
   "execution_count": 49,
   "id": "2c467a98",
   "metadata": {
    "ExecuteTime": {
     "end_time": "2022-03-27T11:13:16.282505Z",
     "start_time": "2022-03-27T11:13:12.596Z"
    }
   },
   "outputs": [
    {
     "data": {
      "text/plain": [
       "           Df    Wilks approx F num Df den Df    Pr(>F)    \n",
       "species     2 0.038316   299.94      4    292 < 2.2e-16 ***\n",
       "Residuals 147                                              \n",
       "---\n",
       "Signif. codes:  0 '***' 0.001 '**' 0.01 '*' 0.05 '.' 0.1 ' ' 1"
      ]
     },
     "metadata": {},
     "output_type": "display_data"
    }
   ],
   "source": [
    "sumWidth <- summary(widthManova, test=\"Wilks\")\n",
    "sumWidth"
   ]
  },
  {
   "cell_type": "raw",
   "id": "442845bc",
   "metadata": {},
   "source": [
    "2.2e-16 < 0.05, p-value < taraf signifikansi, maka H0 : Τ1 = Τ2 = Τ3 = 0 ditolak pada taraf signifikansi 5%. Jadi, dapat disimpulkan bahwa terdapat perbedaan antara lebar sepal dan lebar kelopak pada masing-masing spesies."
   ]
  },
  {
   "cell_type": "code",
   "execution_count": 50,
   "id": "5f12140e",
   "metadata": {
    "ExecuteTime": {
     "end_time": "2022-03-27T11:13:16.316505Z",
     "start_time": "2022-03-27T11:13:12.614Z"
    }
   },
   "outputs": [
    {
     "data": {
      "text/html": [
       "<dl>\n",
       "\t<dt>$species</dt>\n",
       "\t\t<dd><table class=\"dataframe\">\n",
       "<caption>A matrix: 2 × 2 of type dbl</caption>\n",
       "<thead>\n",
       "\t<tr><th></th><th scope=col>Sepal.Width</th><th scope=col>Petal.Width</th></tr>\n",
       "</thead>\n",
       "<tbody>\n",
       "\t<tr><th scope=row>Sepal.Width</th><td> 11.34493</td><td>-22.93267</td></tr>\n",
       "\t<tr><th scope=row>Petal.Width</th><td>-22.93267</td><td> 80.41333</td></tr>\n",
       "</tbody>\n",
       "</table>\n",
       "</dd>\n",
       "\t<dt>$Residuals</dt>\n",
       "\t\t<dd><table class=\"dataframe\">\n",
       "<caption>A matrix: 2 × 2 of type dbl</caption>\n",
       "<thead>\n",
       "\t<tr><th></th><th scope=col>Sepal.Width</th><th scope=col>Petal.Width</th></tr>\n",
       "</thead>\n",
       "<tbody>\n",
       "\t<tr><th scope=row>Sepal.Width</th><td>16.9620</td><td>4.8084</td></tr>\n",
       "\t<tr><th scope=row>Petal.Width</th><td> 4.8084</td><td>6.1566</td></tr>\n",
       "</tbody>\n",
       "</table>\n",
       "</dd>\n",
       "</dl>\n"
      ],
      "text/latex": [
       "\\begin{description}\n",
       "\\item[\\$species] A matrix: 2 × 2 of type dbl\n",
       "\\begin{tabular}{r|ll}\n",
       "  & Sepal.Width & Petal.Width\\\\\n",
       "\\hline\n",
       "\tSepal.Width &  11.34493 & -22.93267\\\\\n",
       "\tPetal.Width & -22.93267 &  80.41333\\\\\n",
       "\\end{tabular}\n",
       "\n",
       "\\item[\\$Residuals] A matrix: 2 × 2 of type dbl\n",
       "\\begin{tabular}{r|ll}\n",
       "  & Sepal.Width & Petal.Width\\\\\n",
       "\\hline\n",
       "\tSepal.Width & 16.9620 & 4.8084\\\\\n",
       "\tPetal.Width &  4.8084 & 6.1566\\\\\n",
       "\\end{tabular}\n",
       "\n",
       "\\end{description}\n"
      ],
      "text/markdown": [
       "$species\n",
       ":   \n",
       "A matrix: 2 × 2 of type dbl\n",
       "\n",
       "| <!--/--> | Sepal.Width | Petal.Width |\n",
       "|---|---|---|\n",
       "| Sepal.Width |  11.34493 | -22.93267 |\n",
       "| Petal.Width | -22.93267 |  80.41333 |\n",
       "\n",
       "\n",
       "$Residuals\n",
       ":   \n",
       "A matrix: 2 × 2 of type dbl\n",
       "\n",
       "| <!--/--> | Sepal.Width | Petal.Width |\n",
       "|---|---|---|\n",
       "| Sepal.Width | 16.9620 | 4.8084 |\n",
       "| Petal.Width |  4.8084 | 6.1566 |\n",
       "\n",
       "\n",
       "\n",
       "\n"
      ],
      "text/plain": [
       "$species\n",
       "            Sepal.Width Petal.Width\n",
       "Sepal.Width    11.34493   -22.93267\n",
       "Petal.Width   -22.93267    80.41333\n",
       "\n",
       "$Residuals\n",
       "            Sepal.Width Petal.Width\n",
       "Sepal.Width     16.9620      4.8084\n",
       "Petal.Width      4.8084      6.1566\n"
      ]
     },
     "metadata": {},
     "output_type": "display_data"
    }
   ],
   "source": [
    "sumWidth$SS"
   ]
  }
 ],
 "metadata": {
  "kernelspec": {
   "display_name": "R",
   "language": "R",
   "name": "ir"
  },
  "language_info": {
   "codemirror_mode": "r",
   "file_extension": ".r",
   "mimetype": "text/x-r-source",
   "name": "R",
   "pygments_lexer": "r",
   "version": "4.0.5"
  },
  "toc": {
   "base_numbering": 1,
   "nav_menu": {},
   "number_sections": true,
   "sideBar": true,
   "skip_h1_title": false,
   "title_cell": "Table of Contents",
   "title_sidebar": "Contents",
   "toc_cell": false,
   "toc_position": {},
   "toc_section_display": true,
   "toc_window_display": false
  }
 },
 "nbformat": 4,
 "nbformat_minor": 5
}
