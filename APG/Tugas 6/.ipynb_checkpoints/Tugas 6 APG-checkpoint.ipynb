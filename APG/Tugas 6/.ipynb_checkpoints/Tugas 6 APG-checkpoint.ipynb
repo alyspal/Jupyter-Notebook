{
 "cells": [
  {
   "cell_type": "code",
   "execution_count": 1,
   "id": "0e1ed76d",
   "metadata": {
    "ExecuteTime": {
     "end_time": "2022-03-26T15:02:57.942517Z",
     "start_time": "2022-03-26T15:02:55.335Z"
    },
    "scrolled": true
   },
   "outputs": [
    {
     "name": "stderr",
     "output_type": "stream",
     "text": [
      "Loading required package: sgeostat\n",
      "\n",
      "Loading required package: ggplot2\n",
      "\n",
      "Loading required package: lattice\n",
      "\n",
      "*** Package RVAideMemoire v 0.9-81-2 ***\n",
      "\n",
      "\n",
      "Attaching package: 'ellipse'\n",
      "\n",
      "\n",
      "The following object is masked from 'package:graphics':\n",
      "\n",
      "    pairs\n",
      "\n",
      "\n",
      "\n",
      "Attaching package: 'qqplotr'\n",
      "\n",
      "\n",
      "The following objects are masked from 'package:ggplot2':\n",
      "\n",
      "    stat_qq_line, StatQqLine\n",
      "\n",
      "\n",
      "\n",
      "Attaching package: 'evd'\n",
      "\n",
      "\n",
      "The following object is masked from 'package:lattice':\n",
      "\n",
      "    qq\n",
      "\n",
      "\n",
      "\n",
      "Attaching package: 'SciViews'\n",
      "\n",
      "\n",
      "The following object is masked from 'package:outliers':\n",
      "\n",
      "    scores\n",
      "\n",
      "\n",
      "\n",
      "Attaching package: 'MVTests'\n",
      "\n",
      "\n",
      "The following object is masked from 'package:datasets':\n",
      "\n",
      "    iris\n",
      "\n",
      "\n"
     ]
    }
   ],
   "source": [
    "library('MVN')\n",
    "library('mvoutlier')\n",
    "# library('rcompanion')\n",
    "library('caret')\n",
    "library('RVAideMemoire')\n",
    "library('ellipse')\n",
    "library('qqplotr')\n",
    "library('evd')\n",
    "library('outliers')\n",
    "library('ggplot2')\n",
    "library('SciViews')\n",
    "library('MVTests')\n",
    "library('readxl')"
   ]
  },
  {
   "cell_type": "markdown",
   "id": "c361e1a4",
   "metadata": {
    "heading_collapsed": true
   },
   "source": [
    "# 6.7"
   ]
  },
  {
   "cell_type": "raw",
   "id": "781b69a4",
   "metadata": {
    "ExecuteTime": {
     "end_time": "2022-03-26T11:54:11.172487Z",
     "start_time": "2022-03-26T11:54:09.745Z"
    },
    "hidden": true
   },
   "source": [
    "Using the summary statistics for the electricity-demand data given in Example 6.4, compute T^2 and test the hypothesis H0: miu1 - miu2 = 0, assuming that sigma1(sum1) = sigma2(sum2) Set a = .05. Also, determine the linear combination of mean components most responsible for the rejection of H0"
   ]
  },
  {
   "cell_type": "raw",
   "id": "aba83745",
   "metadata": {
    "hidden": true
   },
   "source": [
    "Example 6.4 : Samples of sizes n1 = 45 and n2 = 55 were taken of Wisconsin homeowners with and without air conditioning, respectively. (Data courtesy of Statistical Laboratory, University of Wisconsin.) Two measurements of electrical usage (in kilowatt hours) were considered. The first is a measure of total on-peak consumption (X1 ) during July, and the second is a measure of total off-peak \n",
    "consumption (X2) during July. The resulting summary statistics are"
   ]
  },
  {
   "cell_type": "code",
   "execution_count": 2,
   "id": "640a1290",
   "metadata": {
    "ExecuteTime": {
     "end_time": "2022-03-26T14:56:39.517740Z",
     "start_time": "2022-03-26T14:56:36.221Z"
    },
    "hidden": true
   },
   "outputs": [],
   "source": [
    "# Inisiasi summary electricity-demand\n",
    "alpha <- 0.05\n",
    "p <- 2\n",
    "n_1 <- 45\n",
    "n_2 <- 55\n",
    "x_mean_1 <- matrix(c(204.4,556.6), ncol = 1, nrow = 2)\n",
    "x_mean_2 <- matrix(c(130.0, 355.0), ncol = 1, nrow = 2)\n",
    "S_1 <- matrix(c(13825.3, 23823.4, 23823.4, 73107.4), 2,2)\n",
    "S_2 <- matrix(c(8632.0, 19616.7, 19616.7, 55964.5), 2,2)"
   ]
  },
  {
   "cell_type": "code",
   "execution_count": 3,
   "id": "7f6192cb",
   "metadata": {
    "ExecuteTime": {
     "end_time": "2022-03-26T14:56:39.540759Z",
     "start_time": "2022-03-26T14:56:36.224Z"
    },
    "hidden": true
   },
   "outputs": [],
   "source": [
    "# Function S_pooled\n",
    "S_pooled <- function(n1, n2, S1, S2){\n",
    "  S_pooled1 <- ((n1-1)/(n1+n2-2))*S1 + ((n2-1)/(n1+n2-2))*S2\n",
    "  S_pooled1\n",
    "}"
   ]
  },
  {
   "cell_type": "code",
   "execution_count": 4,
   "id": "343a4bc7",
   "metadata": {
    "ExecuteTime": {
     "end_time": "2022-03-26T14:56:39.595740Z",
     "start_time": "2022-03-26T14:56:36.227Z"
    },
    "hidden": true
   },
   "outputs": [
    {
     "data": {
      "text/html": [
       "<table class=\"dataframe\">\n",
       "<caption>A matrix: 2 × 2 of type dbl</caption>\n",
       "<tbody>\n",
       "\t<tr><td>10963.69</td><td>21505.42</td></tr>\n",
       "\t<tr><td>21505.42</td><td>63661.31</td></tr>\n",
       "</tbody>\n",
       "</table>\n"
      ],
      "text/latex": [
       "A matrix: 2 × 2 of type dbl\n",
       "\\begin{tabular}{ll}\n",
       "\t 10963.69 & 21505.42\\\\\n",
       "\t 21505.42 & 63661.31\\\\\n",
       "\\end{tabular}\n"
      ],
      "text/markdown": [
       "\n",
       "A matrix: 2 × 2 of type dbl\n",
       "\n",
       "| 10963.69 | 21505.42 |\n",
       "| 21505.42 | 63661.31 |\n",
       "\n"
      ],
      "text/plain": [
       "     [,1]     [,2]    \n",
       "[1,] 10963.69 21505.42\n",
       "[2,] 21505.42 63661.31"
      ]
     },
     "metadata": {},
     "output_type": "display_data"
    }
   ],
   "source": [
    "# S_pooled electricity-demand\n",
    "S_pooled_ed <- S_pooled(n_1, n_2, S_1, S_2)\n",
    "S_pooled_ed <- as.matrix(S_pooled_ed)\n",
    "S_pooled_ed"
   ]
  },
  {
   "cell_type": "code",
   "execution_count": 5,
   "id": "09a36faa",
   "metadata": {
    "ExecuteTime": {
     "end_time": "2022-03-26T14:56:39.629777Z",
     "start_time": "2022-03-26T14:56:36.230Z"
    },
    "hidden": true
   },
   "outputs": [
    {
     "data": {
      "text/html": [
       "<table class=\"dataframe\">\n",
       "<caption>A matrix: 1 × 1 of type dbl</caption>\n",
       "<tbody>\n",
       "\t<tr><td>16.06622</td></tr>\n",
       "</tbody>\n",
       "</table>\n"
      ],
      "text/latex": [
       "A matrix: 1 × 1 of type dbl\n",
       "\\begin{tabular}{l}\n",
       "\t 16.06622\\\\\n",
       "\\end{tabular}\n"
      ],
      "text/markdown": [
       "\n",
       "A matrix: 1 × 1 of type dbl\n",
       "\n",
       "| 16.06622 |\n",
       "\n"
      ],
      "text/plain": [
       "     [,1]    \n",
       "[1,] 16.06622"
      ]
     },
     "metadata": {},
     "output_type": "display_data"
    }
   ],
   "source": [
    "#hitung T_kuadrat\n",
    "T_kuadrat <- t(x_mean_1 - x_mean_2)%*%(solve((1/n_1+1/n_2)*S_pooled_ed))%*%(x_mean_1 - x_mean_2)\n",
    "T_kuadrat"
   ]
  },
  {
   "cell_type": "code",
   "execution_count": 6,
   "id": "0221a4c9",
   "metadata": {
    "ExecuteTime": {
     "end_time": "2022-03-26T14:56:39.670741Z",
     "start_time": "2022-03-26T14:56:36.235Z"
    },
    "hidden": true
   },
   "outputs": [
    {
     "data": {
      "text/html": [
       "6.24408853948819"
      ],
      "text/latex": [
       "6.24408853948819"
      ],
      "text/markdown": [
       "6.24408853948819"
      ],
      "text/plain": [
       "[1] 6.244089"
      ]
     },
     "metadata": {},
     "output_type": "display_data"
    }
   ],
   "source": [
    "#hitung C_kuadrat\n",
    "C_kuadrat <- ((n_1+n_2-2)*p/(n_1 + n_2 - p - 1))*qf(1-alpha, df1 = p, df2 = n_1+n_2-p-1)\n",
    "C_kuadrat"
   ]
  },
  {
   "cell_type": "code",
   "execution_count": 7,
   "id": "951147c4",
   "metadata": {
    "ExecuteTime": {
     "end_time": "2022-03-26T14:56:39.705738Z",
     "start_time": "2022-03-26T14:56:36.238Z"
    },
    "hidden": true
   },
   "outputs": [
    {
     "data": {
      "text/html": [
       "<table class=\"dataframe\">\n",
       "<caption>A matrix: 2 × 1 of type dbl</caption>\n",
       "<tbody>\n",
       "\t<tr><td>0.00170252</td></tr>\n",
       "\t<tr><td>0.00259163</td></tr>\n",
       "</tbody>\n",
       "</table>\n"
      ],
      "text/latex": [
       "A matrix: 2 × 1 of type dbl\n",
       "\\begin{tabular}{l}\n",
       "\t 0.00170252\\\\\n",
       "\t 0.00259163\\\\\n",
       "\\end{tabular}\n"
      ],
      "text/markdown": [
       "\n",
       "A matrix: 2 × 1 of type dbl\n",
       "\n",
       "| 0.00170252 |\n",
       "| 0.00259163 |\n",
       "\n"
      ],
      "text/plain": [
       "     [,1]      \n",
       "[1,] 0.00170252\n",
       "[2,] 0.00259163"
      ]
     },
     "metadata": {},
     "output_type": "display_data"
    }
   ],
   "source": [
    "#perbandingan x mean yang paling berpengaruh \n",
    "perbandingan <- solve(S_pooled_ed)%*%(x_mean_1 - x_mean_2)\n",
    "perbandingan"
   ]
  },
  {
   "cell_type": "raw",
   "id": "b9cd6111",
   "metadata": {
    "hidden": true
   },
   "source": [
    "Interpretasi:\n",
    "Berdasarkan hasil pada ringkasan example 6.4 maka kesimpulan adalah tolak H0 dimana H0: miu1-miu2 = 0. Artinya terdapat perbedaan pada kedua x mean. Kemudian pada hasil perbandingan x_mean yang paling berpengaruh untuk menolak H0 yaitu x mean 1 atau ukuran total konsumsi listrik pada puncaknya."
   ]
  },
  {
   "cell_type": "markdown",
   "id": "ce1954c5",
   "metadata": {
    "heading_collapsed": true
   },
   "source": [
    "# 6.8"
   ]
  },
  {
   "cell_type": "raw",
   "id": "4ba3a2d7",
   "metadata": {
    "ExecuteTime": {
     "end_time": "2022-03-26T11:56:43.110032Z",
     "start_time": "2022-03-26T11:56:43.089Z"
    },
    "hidden": true
   },
   "source": [
    "Treatment 1: t([6,7]), t([5,9]), t([8,6]), t([4,9]), t([7,9])\n",
    "Treatment 2: t([3,3]), t([1,6]), t([2,3])\n",
    "Treatment 3: t([2,3]), t([5,1]), t([3,1]), t([2,3])"
   ]
  },
  {
   "cell_type": "code",
   "execution_count": 8,
   "id": "9d086faf",
   "metadata": {
    "ExecuteTime": {
     "end_time": "2022-03-26T14:56:39.747737Z",
     "start_time": "2022-03-26T14:56:36.271Z"
    },
    "hidden": true,
    "scrolled": true
   },
   "outputs": [
    {
     "data": {
      "text/html": [
       "<table class=\"dataframe\">\n",
       "<caption>A matrix: 2 × 5 of type dbl</caption>\n",
       "<tbody>\n",
       "\t<tr><th scope=row>x1t1</th><td>6</td><td>5</td><td>8</td><td>4</td><td>7</td></tr>\n",
       "\t<tr><th scope=row>x2t1</th><td>7</td><td>9</td><td>6</td><td>9</td><td>9</td></tr>\n",
       "</tbody>\n",
       "</table>\n"
      ],
      "text/latex": [
       "A matrix: 2 × 5 of type dbl\n",
       "\\begin{tabular}{r|lllll}\n",
       "\tx1t1 & 6 & 5 & 8 & 4 & 7\\\\\n",
       "\tx2t1 & 7 & 9 & 6 & 9 & 9\\\\\n",
       "\\end{tabular}\n"
      ],
      "text/markdown": [
       "\n",
       "A matrix: 2 × 5 of type dbl\n",
       "\n",
       "| x1t1 | 6 | 5 | 8 | 4 | 7 |\n",
       "| x2t1 | 7 | 9 | 6 | 9 | 9 |\n",
       "\n"
      ],
      "text/plain": [
       "     [,1] [,2] [,3] [,4] [,5]\n",
       "x1t1 6    5    8    4    7   \n",
       "x2t1 7    9    6    9    9   "
      ]
     },
     "metadata": {},
     "output_type": "display_data"
    }
   ],
   "source": [
    "x1t1 <- c(6, 5, 8, 4, 7)\n",
    "x2t1 <- c(7, 9, 6, 9, 9)\n",
    "treatment1 <- rbind(x1t1,x2t1)\n",
    "treatment1"
   ]
  },
  {
   "cell_type": "code",
   "execution_count": 9,
   "id": "44a2219e",
   "metadata": {
    "ExecuteTime": {
     "end_time": "2022-03-26T14:56:39.800751Z",
     "start_time": "2022-03-26T14:56:36.275Z"
    },
    "hidden": true
   },
   "outputs": [
    {
     "data": {
      "text/html": [
       "<table class=\"dataframe\">\n",
       "<caption>A matrix: 2 × 3 of type dbl</caption>\n",
       "<tbody>\n",
       "\t<tr><th scope=row>x1t2</th><td>3</td><td>1</td><td>2</td></tr>\n",
       "\t<tr><th scope=row>x2t2</th><td>3</td><td>6</td><td>3</td></tr>\n",
       "</tbody>\n",
       "</table>\n"
      ],
      "text/latex": [
       "A matrix: 2 × 3 of type dbl\n",
       "\\begin{tabular}{r|lll}\n",
       "\tx1t2 & 3 & 1 & 2\\\\\n",
       "\tx2t2 & 3 & 6 & 3\\\\\n",
       "\\end{tabular}\n"
      ],
      "text/markdown": [
       "\n",
       "A matrix: 2 × 3 of type dbl\n",
       "\n",
       "| x1t2 | 3 | 1 | 2 |\n",
       "| x2t2 | 3 | 6 | 3 |\n",
       "\n"
      ],
      "text/plain": [
       "     [,1] [,2] [,3]\n",
       "x1t2 3    1    2   \n",
       "x2t2 3    6    3   "
      ]
     },
     "metadata": {},
     "output_type": "display_data"
    }
   ],
   "source": [
    "x1t2 <- c(3, 1, 2)\n",
    "x2t2 <- c(3, 6, 3)\n",
    "treatment2 <- rbind(x1t2,x2t2)\n",
    "treatment2"
   ]
  },
  {
   "cell_type": "code",
   "execution_count": 10,
   "id": "661afa79",
   "metadata": {
    "ExecuteTime": {
     "end_time": "2022-03-26T14:56:39.839737Z",
     "start_time": "2022-03-26T14:56:36.279Z"
    },
    "hidden": true
   },
   "outputs": [
    {
     "data": {
      "text/html": [
       "<table class=\"dataframe\">\n",
       "<caption>A matrix: 2 × 4 of type dbl</caption>\n",
       "<tbody>\n",
       "\t<tr><th scope=row>x1t3</th><td>2</td><td>5</td><td>3</td><td>2</td></tr>\n",
       "\t<tr><th scope=row>x2t3</th><td>3</td><td>1</td><td>1</td><td>3</td></tr>\n",
       "</tbody>\n",
       "</table>\n"
      ],
      "text/latex": [
       "A matrix: 2 × 4 of type dbl\n",
       "\\begin{tabular}{r|llll}\n",
       "\tx1t3 & 2 & 5 & 3 & 2\\\\\n",
       "\tx2t3 & 3 & 1 & 1 & 3\\\\\n",
       "\\end{tabular}\n"
      ],
      "text/markdown": [
       "\n",
       "A matrix: 2 × 4 of type dbl\n",
       "\n",
       "| x1t3 | 2 | 5 | 3 | 2 |\n",
       "| x2t3 | 3 | 1 | 1 | 3 |\n",
       "\n"
      ],
      "text/plain": [
       "     [,1] [,2] [,3] [,4]\n",
       "x1t3 2    5    3    2   \n",
       "x2t3 3    1    1    3   "
      ]
     },
     "metadata": {},
     "output_type": "display_data"
    }
   ],
   "source": [
    "x1t3 <- c(2, 5, 3, 2)\n",
    "x2t3 <- c(3, 1, 1, 3)\n",
    "treatment3 <- rbind(x1t3,x2t3)\n",
    "treatment3"
   ]
  },
  {
   "cell_type": "markdown",
   "id": "7a8fd933",
   "metadata": {
    "heading_collapsed": true,
    "hidden": true
   },
   "source": [
    "## a). Break up the observations into mean, treatment, and residual  components, as in (6-35). Construct the corresponding arrays for each variable. (See Example 6.8.)"
   ]
  },
  {
   "cell_type": "code",
   "execution_count": 11,
   "id": "85d38ff4",
   "metadata": {
    "ExecuteTime": {
     "end_time": "2022-03-26T14:56:39.883776Z",
     "start_time": "2022-03-26T14:56:36.284Z"
    },
    "hidden": true
   },
   "outputs": [
    {
     "name": "stdout",
     "output_type": "stream",
     "text": [
      "[1] \"Observation vector : \"\n"
     ]
    },
    {
     "data": {
      "text/html": [
       "<style>\n",
       ".list-inline {list-style: none; margin:0; padding: 0}\n",
       ".list-inline>li {display: inline-block}\n",
       ".list-inline>li:not(:last-child)::after {content: \"\\00b7\"; padding: 0 .5ex}\n",
       "</style>\n",
       "<ol class=list-inline><li>6</li><li>5</li><li>8</li><li>4</li><li>7</li><li>3</li><li>1</li><li>2</li><li>2</li><li>5</li><li>3</li><li>2</li></ol>\n"
      ],
      "text/latex": [
       "\\begin{enumerate*}\n",
       "\\item 6\n",
       "\\item 5\n",
       "\\item 8\n",
       "\\item 4\n",
       "\\item 7\n",
       "\\item 3\n",
       "\\item 1\n",
       "\\item 2\n",
       "\\item 2\n",
       "\\item 5\n",
       "\\item 3\n",
       "\\item 2\n",
       "\\end{enumerate*}\n"
      ],
      "text/markdown": [
       "1. 6\n",
       "2. 5\n",
       "3. 8\n",
       "4. 4\n",
       "5. 7\n",
       "6. 3\n",
       "7. 1\n",
       "8. 2\n",
       "9. 2\n",
       "10. 5\n",
       "11. 3\n",
       "12. 2\n",
       "\n",
       "\n"
      ],
      "text/plain": [
       " [1] 6 5 8 4 7 3 1 2 2 5 3 2"
      ]
     },
     "metadata": {},
     "output_type": "display_data"
    },
    {
     "name": "stdout",
     "output_type": "stream",
     "text": [
      "[1] \"Sum-square Observation vector : \"\n"
     ]
    },
    {
     "data": {
      "text/html": [
       "246"
      ],
      "text/latex": [
       "246"
      ],
      "text/markdown": [
       "246"
      ],
      "text/plain": [
       "[1] 246"
      ]
     },
     "metadata": {},
     "output_type": "display_data"
    },
    {
     "name": "stdout",
     "output_type": "stream",
     "text": [
      "[1] \"\"\n"
     ]
    }
   ],
   "source": [
    "#Observations\n",
    "obs_x1 <- c(x1t1, x1t2, x1t3)\n",
    "print(paste(\"Observation vector : \"))\n",
    "obs_x1\n",
    "sumsquare_obsx1 <- sum(obs_x1^2)\n",
    "print(paste(\"Sum-square Observation vector : \"))\n",
    "sumsquare_obsx1\n",
    "print(\"\")"
   ]
  },
  {
   "cell_type": "code",
   "execution_count": 12,
   "id": "9f1eb399",
   "metadata": {
    "ExecuteTime": {
     "end_time": "2022-03-26T14:56:39.929779Z",
     "start_time": "2022-03-26T14:56:36.290Z"
    },
    "hidden": true
   },
   "outputs": [
    {
     "name": "stdout",
     "output_type": "stream",
     "text": [
      "[1] \"Mean Vector : \"\n"
     ]
    },
    {
     "data": {
      "text/html": [
       "<style>\n",
       ".list-inline {list-style: none; margin:0; padding: 0}\n",
       ".list-inline>li {display: inline-block}\n",
       ".list-inline>li:not(:last-child)::after {content: \"\\00b7\"; padding: 0 .5ex}\n",
       "</style>\n",
       "<ol class=list-inline><li>4</li><li>4</li><li>4</li><li>4</li><li>4</li><li>4</li><li>4</li><li>4</li><li>4</li><li>4</li><li>4</li><li>4</li></ol>\n"
      ],
      "text/latex": [
       "\\begin{enumerate*}\n",
       "\\item 4\n",
       "\\item 4\n",
       "\\item 4\n",
       "\\item 4\n",
       "\\item 4\n",
       "\\item 4\n",
       "\\item 4\n",
       "\\item 4\n",
       "\\item 4\n",
       "\\item 4\n",
       "\\item 4\n",
       "\\item 4\n",
       "\\end{enumerate*}\n"
      ],
      "text/markdown": [
       "1. 4\n",
       "2. 4\n",
       "3. 4\n",
       "4. 4\n",
       "5. 4\n",
       "6. 4\n",
       "7. 4\n",
       "8. 4\n",
       "9. 4\n",
       "10. 4\n",
       "11. 4\n",
       "12. 4\n",
       "\n",
       "\n"
      ],
      "text/plain": [
       " [1] 4 4 4 4 4 4 4 4 4 4 4 4"
      ]
     },
     "metadata": {},
     "output_type": "display_data"
    },
    {
     "name": "stdout",
     "output_type": "stream",
     "text": [
      "[1] \"Sum-Square Mean Vector : \"\n"
     ]
    },
    {
     "data": {
      "text/html": [
       "192"
      ],
      "text/latex": [
       "192"
      ],
      "text/markdown": [
       "192"
      ],
      "text/plain": [
       "[1] 192"
      ]
     },
     "metadata": {},
     "output_type": "display_data"
    },
    {
     "name": "stdout",
     "output_type": "stream",
     "text": [
      "[1] \"\"\n"
     ]
    }
   ],
   "source": [
    "#Means\n",
    "meanx1 <- mean(obs_x1)\n",
    "print(paste(\"Mean Vector : \"))\n",
    "(mean_x1 <- c(rep(meanx1, length(x1t1)), \n",
    "              rep(meanx1, length(x1t2)), \n",
    "              rep(meanx1, length(x1t3))))\n",
    "print(paste(\"Sum-Square Mean Vector : \"))\n",
    "(sumsquare_meanx1 <- sum(mean_x1^2)) \n",
    "print(\"\")"
   ]
  },
  {
   "cell_type": "code",
   "execution_count": 13,
   "id": "0037247c",
   "metadata": {
    "ExecuteTime": {
     "end_time": "2022-03-26T14:56:39.984781Z",
     "start_time": "2022-03-26T14:56:36.295Z"
    },
    "hidden": true
   },
   "outputs": [
    {
     "name": "stdout",
     "output_type": "stream",
     "text": [
      "[1] \"Treatment Effect Vector : \"\n"
     ]
    },
    {
     "data": {
      "text/html": [
       "<style>\n",
       ".list-inline {list-style: none; margin:0; padding: 0}\n",
       ".list-inline>li {display: inline-block}\n",
       ".list-inline>li:not(:last-child)::after {content: \"\\00b7\"; padding: 0 .5ex}\n",
       "</style>\n",
       "<ol class=list-inline><li>2</li><li>2</li><li>2</li><li>2</li><li>2</li><li>-2</li><li>-2</li><li>-2</li><li>-1</li><li>-1</li><li>-1</li><li>-1</li></ol>\n"
      ],
      "text/latex": [
       "\\begin{enumerate*}\n",
       "\\item 2\n",
       "\\item 2\n",
       "\\item 2\n",
       "\\item 2\n",
       "\\item 2\n",
       "\\item -2\n",
       "\\item -2\n",
       "\\item -2\n",
       "\\item -1\n",
       "\\item -1\n",
       "\\item -1\n",
       "\\item -1\n",
       "\\end{enumerate*}\n"
      ],
      "text/markdown": [
       "1. 2\n",
       "2. 2\n",
       "3. 2\n",
       "4. 2\n",
       "5. 2\n",
       "6. -2\n",
       "7. -2\n",
       "8. -2\n",
       "9. -1\n",
       "10. -1\n",
       "11. -1\n",
       "12. -1\n",
       "\n",
       "\n"
      ],
      "text/plain": [
       " [1]  2  2  2  2  2 -2 -2 -2 -1 -1 -1 -1"
      ]
     },
     "metadata": {},
     "output_type": "display_data"
    },
    {
     "name": "stdout",
     "output_type": "stream",
     "text": [
      "[1] \"Sum-square Treatment Effect Vector : \"\n"
     ]
    },
    {
     "data": {
      "text/html": [
       "36"
      ],
      "text/latex": [
       "36"
      ],
      "text/markdown": [
       "36"
      ],
      "text/plain": [
       "[1] 36"
      ]
     },
     "metadata": {},
     "output_type": "display_data"
    },
    {
     "name": "stdout",
     "output_type": "stream",
     "text": [
      "[1] \"\"\n"
     ]
    }
   ],
   "source": [
    "#Treatment Effect\n",
    "x1t1_bar <- mean(x1t1)\n",
    "x1t2_bar <- mean(x1t2)\n",
    "x1t3_bar <- mean(x1t3)\n",
    "treateffect_x1t1 <- x1t1_bar - meanx1\n",
    "treateffect_x1t2 <- x1t2_bar - meanx1\n",
    "treateffect_x1t3 <- x1t3_bar - meanx1\n",
    "print(paste(\"Treatment Effect Vector : \"))\n",
    "(treateffect_x1 <- c(rep(treateffect_x1t1, length(x1t1)), \n",
    "                     rep(treateffect_x1t2, length(x1t2)), \n",
    "                     rep(treateffect_x1t3, length(x1t3))))\n",
    "print(paste(\"Sum-square Treatment Effect Vector : \"))\n",
    "(sumsquare_treateffetcx1 <- sum(treateffect_x1^2)) \n",
    "print(\"\")"
   ]
  },
  {
   "cell_type": "markdown",
   "id": "51548ee6",
   "metadata": {
    "hidden": true
   },
   "source": [
    "### X1"
   ]
  },
  {
   "cell_type": "code",
   "execution_count": 14,
   "id": "baa24441",
   "metadata": {
    "ExecuteTime": {
     "end_time": "2022-03-26T14:56:40.042778Z",
     "start_time": "2022-03-26T14:56:36.301Z"
    },
    "hidden": true
   },
   "outputs": [
    {
     "name": "stdout",
     "output_type": "stream",
     "text": [
      "[1] \"Observation vector : \"\n"
     ]
    },
    {
     "data": {
      "text/html": [
       "<style>\n",
       ".list-inline {list-style: none; margin:0; padding: 0}\n",
       ".list-inline>li {display: inline-block}\n",
       ".list-inline>li:not(:last-child)::after {content: \"\\00b7\"; padding: 0 .5ex}\n",
       "</style>\n",
       "<ol class=list-inline><li>6</li><li>5</li><li>8</li><li>4</li><li>7</li><li>3</li><li>1</li><li>2</li><li>2</li><li>5</li><li>3</li><li>2</li></ol>\n"
      ],
      "text/latex": [
       "\\begin{enumerate*}\n",
       "\\item 6\n",
       "\\item 5\n",
       "\\item 8\n",
       "\\item 4\n",
       "\\item 7\n",
       "\\item 3\n",
       "\\item 1\n",
       "\\item 2\n",
       "\\item 2\n",
       "\\item 5\n",
       "\\item 3\n",
       "\\item 2\n",
       "\\end{enumerate*}\n"
      ],
      "text/markdown": [
       "1. 6\n",
       "2. 5\n",
       "3. 8\n",
       "4. 4\n",
       "5. 7\n",
       "6. 3\n",
       "7. 1\n",
       "8. 2\n",
       "9. 2\n",
       "10. 5\n",
       "11. 3\n",
       "12. 2\n",
       "\n",
       "\n"
      ],
      "text/plain": [
       " [1] 6 5 8 4 7 3 1 2 2 5 3 2"
      ]
     },
     "metadata": {},
     "output_type": "display_data"
    },
    {
     "name": "stdout",
     "output_type": "stream",
     "text": [
      "[1] \"Sum-square Observation vector : \"\n"
     ]
    },
    {
     "data": {
      "text/html": [
       "246"
      ],
      "text/latex": [
       "246"
      ],
      "text/markdown": [
       "246"
      ],
      "text/plain": [
       "[1] 246"
      ]
     },
     "metadata": {},
     "output_type": "display_data"
    },
    {
     "name": "stdout",
     "output_type": "stream",
     "text": [
      "[1] \"\"\n"
     ]
    }
   ],
   "source": [
    "#Observations\n",
    "obs_x1 <- c(x1t1, x1t2, x1t3)\n",
    "print(paste(\"Observation vector : \"))\n",
    "obs_x1\n",
    "sumsquare_obsx1 <- sum(obs_x1^2)\n",
    "print(paste(\"Sum-square Observation vector : \"))\n",
    "sumsquare_obsx1\n",
    "print(\"\")"
   ]
  },
  {
   "cell_type": "code",
   "execution_count": 15,
   "id": "7c49a3f1",
   "metadata": {
    "ExecuteTime": {
     "end_time": "2022-03-26T14:56:40.099744Z",
     "start_time": "2022-03-26T14:56:36.304Z"
    },
    "hidden": true
   },
   "outputs": [
    {
     "name": "stdout",
     "output_type": "stream",
     "text": [
      "[1] \"Mean Vector : \"\n"
     ]
    },
    {
     "data": {
      "text/html": [
       "<style>\n",
       ".list-inline {list-style: none; margin:0; padding: 0}\n",
       ".list-inline>li {display: inline-block}\n",
       ".list-inline>li:not(:last-child)::after {content: \"\\00b7\"; padding: 0 .5ex}\n",
       "</style>\n",
       "<ol class=list-inline><li>4</li><li>4</li><li>4</li><li>4</li><li>4</li><li>4</li><li>4</li><li>4</li><li>4</li><li>4</li><li>4</li><li>4</li></ol>\n"
      ],
      "text/latex": [
       "\\begin{enumerate*}\n",
       "\\item 4\n",
       "\\item 4\n",
       "\\item 4\n",
       "\\item 4\n",
       "\\item 4\n",
       "\\item 4\n",
       "\\item 4\n",
       "\\item 4\n",
       "\\item 4\n",
       "\\item 4\n",
       "\\item 4\n",
       "\\item 4\n",
       "\\end{enumerate*}\n"
      ],
      "text/markdown": [
       "1. 4\n",
       "2. 4\n",
       "3. 4\n",
       "4. 4\n",
       "5. 4\n",
       "6. 4\n",
       "7. 4\n",
       "8. 4\n",
       "9. 4\n",
       "10. 4\n",
       "11. 4\n",
       "12. 4\n",
       "\n",
       "\n"
      ],
      "text/plain": [
       " [1] 4 4 4 4 4 4 4 4 4 4 4 4"
      ]
     },
     "metadata": {},
     "output_type": "display_data"
    },
    {
     "name": "stdout",
     "output_type": "stream",
     "text": [
      "[1] \"Sum-Square Mean Vector : \"\n"
     ]
    },
    {
     "data": {
      "text/html": [
       "192"
      ],
      "text/latex": [
       "192"
      ],
      "text/markdown": [
       "192"
      ],
      "text/plain": [
       "[1] 192"
      ]
     },
     "metadata": {},
     "output_type": "display_data"
    },
    {
     "name": "stdout",
     "output_type": "stream",
     "text": [
      "[1] \"\"\n"
     ]
    }
   ],
   "source": [
    "#Means\n",
    "meanx1 <- mean(obs_x1)\n",
    "print(paste(\"Mean Vector : \"))\n",
    "(mean_x1 <- c(rep(meanx1, length(x1t1)), \n",
    "              rep(meanx1, length(x1t2)), \n",
    "              rep(meanx1, length(x1t3))))\n",
    "print(paste(\"Sum-Square Mean Vector : \"))\n",
    "(sumsquare_meanx1 <- sum(mean_x1^2)) \n",
    "print(\"\")"
   ]
  },
  {
   "cell_type": "code",
   "execution_count": 28,
   "id": "d0a15047",
   "metadata": {
    "ExecuteTime": {
     "end_time": "2022-03-26T14:57:25.957298Z",
     "start_time": "2022-03-26T14:57:25.898Z"
    },
    "hidden": true
   },
   "outputs": [
    {
     "name": "stdout",
     "output_type": "stream",
     "text": [
      "[1] \"Treatment Effect Vector : \"\n"
     ]
    },
    {
     "data": {
      "text/html": [
       "<style>\n",
       ".list-inline {list-style: none; margin:0; padding: 0}\n",
       ".list-inline>li {display: inline-block}\n",
       ".list-inline>li:not(:last-child)::after {content: \"\\00b7\"; padding: 0 .5ex}\n",
       "</style>\n",
       "<ol class=list-inline><li>2</li><li>2</li><li>2</li><li>2</li><li>2</li><li>-2</li><li>-2</li><li>-2</li><li>-1</li><li>-1</li><li>-1</li><li>-1</li></ol>\n"
      ],
      "text/latex": [
       "\\begin{enumerate*}\n",
       "\\item 2\n",
       "\\item 2\n",
       "\\item 2\n",
       "\\item 2\n",
       "\\item 2\n",
       "\\item -2\n",
       "\\item -2\n",
       "\\item -2\n",
       "\\item -1\n",
       "\\item -1\n",
       "\\item -1\n",
       "\\item -1\n",
       "\\end{enumerate*}\n"
      ],
      "text/markdown": [
       "1. 2\n",
       "2. 2\n",
       "3. 2\n",
       "4. 2\n",
       "5. 2\n",
       "6. -2\n",
       "7. -2\n",
       "8. -2\n",
       "9. -1\n",
       "10. -1\n",
       "11. -1\n",
       "12. -1\n",
       "\n",
       "\n"
      ],
      "text/plain": [
       " [1]  2  2  2  2  2 -2 -2 -2 -1 -1 -1 -1"
      ]
     },
     "metadata": {},
     "output_type": "display_data"
    },
    {
     "name": "stdout",
     "output_type": "stream",
     "text": [
      "[1] \"Sum-square Treatment Effect Vector : \"\n"
     ]
    },
    {
     "data": {
      "text/html": [
       "36"
      ],
      "text/latex": [
       "36"
      ],
      "text/markdown": [
       "36"
      ],
      "text/plain": [
       "[1] 36"
      ]
     },
     "metadata": {},
     "output_type": "display_data"
    },
    {
     "name": "stdout",
     "output_type": "stream",
     "text": [
      "[1] \"\"\n"
     ]
    }
   ],
   "source": [
    "#Treatment Effects\n",
    "x1t1_bar <- mean(x1t1)\n",
    "x1t2_bar <- mean(x1t2)\n",
    "x1t3_bar <- mean(x1t3)\n",
    "treateffect_x1t1 <- x1t1_bar - meanx1\n",
    "treateffect_x1t2 <- x1t2_bar - meanx1\n",
    "treateffect_x1t3 <- x1t3_bar - meanx1\n",
    "print(paste(\"Treatment Effect Vector : \"))\n",
    "(treateffect_x1 <- c(rep(treateffect_x1t1, length(x1t1)), \n",
    "                     rep(treateffect_x1t2, length(x1t2)), \n",
    "                     rep(treateffect_x1t3, length(x1t3))))\n",
    "print(paste(\"Sum-square Treatment Effect Vector : \"))\n",
    "(sumsquare_treateffectx1 <- sum(treateffect_x1^2)) \n",
    "print(\"\")"
   ]
  },
  {
   "cell_type": "code",
   "execution_count": 17,
   "id": "00ab521e",
   "metadata": {
    "ExecuteTime": {
     "end_time": "2022-03-26T14:56:40.216743Z",
     "start_time": "2022-03-26T14:56:36.312Z"
    },
    "hidden": true
   },
   "outputs": [
    {
     "data": {
      "text/html": [
       "<style>\n",
       ".list-inline {list-style: none; margin:0; padding: 0}\n",
       ".list-inline>li {display: inline-block}\n",
       ".list-inline>li:not(:last-child)::after {content: \"\\00b7\"; padding: 0 .5ex}\n",
       "</style>\n",
       "<ol class=list-inline><li>6</li><li>6</li><li>6</li><li>6</li><li>6</li><li>2</li><li>2</li><li>2</li><li>3</li><li>3</li><li>3</li><li>3</li></ol>\n"
      ],
      "text/latex": [
       "\\begin{enumerate*}\n",
       "\\item 6\n",
       "\\item 6\n",
       "\\item 6\n",
       "\\item 6\n",
       "\\item 6\n",
       "\\item 2\n",
       "\\item 2\n",
       "\\item 2\n",
       "\\item 3\n",
       "\\item 3\n",
       "\\item 3\n",
       "\\item 3\n",
       "\\end{enumerate*}\n"
      ],
      "text/markdown": [
       "1. 6\n",
       "2. 6\n",
       "3. 6\n",
       "4. 6\n",
       "5. 6\n",
       "6. 2\n",
       "7. 2\n",
       "8. 2\n",
       "9. 3\n",
       "10. 3\n",
       "11. 3\n",
       "12. 3\n",
       "\n",
       "\n"
      ],
      "text/plain": [
       " [1] 6 6 6 6 6 2 2 2 3 3 3 3"
      ]
     },
     "metadata": {},
     "output_type": "display_data"
    },
    {
     "name": "stdout",
     "output_type": "stream",
     "text": [
      "[1] \"Treatment Effect Vector : \"\n"
     ]
    },
    {
     "data": {
      "text/html": [
       "<style>\n",
       ".list-inline {list-style: none; margin:0; padding: 0}\n",
       ".list-inline>li {display: inline-block}\n",
       ".list-inline>li:not(:last-child)::after {content: \"\\00b7\"; padding: 0 .5ex}\n",
       "</style>\n",
       "<ol class=list-inline><li>0</li><li>-1</li><li>2</li><li>-2</li><li>1</li><li>1</li><li>-1</li><li>0</li><li>-1</li><li>2</li><li>0</li><li>-1</li></ol>\n"
      ],
      "text/latex": [
       "\\begin{enumerate*}\n",
       "\\item 0\n",
       "\\item -1\n",
       "\\item 2\n",
       "\\item -2\n",
       "\\item 1\n",
       "\\item 1\n",
       "\\item -1\n",
       "\\item 0\n",
       "\\item -1\n",
       "\\item 2\n",
       "\\item 0\n",
       "\\item -1\n",
       "\\end{enumerate*}\n"
      ],
      "text/markdown": [
       "1. 0\n",
       "2. -1\n",
       "3. 2\n",
       "4. -2\n",
       "5. 1\n",
       "6. 1\n",
       "7. -1\n",
       "8. 0\n",
       "9. -1\n",
       "10. 2\n",
       "11. 0\n",
       "12. -1\n",
       "\n",
       "\n"
      ],
      "text/plain": [
       " [1]  0 -1  2 -2  1  1 -1  0 -1  2  0 -1"
      ]
     },
     "metadata": {},
     "output_type": "display_data"
    },
    {
     "name": "stdout",
     "output_type": "stream",
     "text": [
      "[1] \"Sum-square Treatment Effect Vector : \"\n"
     ]
    },
    {
     "data": {
      "text/html": [
       "18"
      ],
      "text/latex": [
       "18"
      ],
      "text/markdown": [
       "18"
      ],
      "text/plain": [
       "[1] 18"
      ]
     },
     "metadata": {},
     "output_type": "display_data"
    }
   ],
   "source": [
    "#Residuals\n",
    "(x1bar <- c(rep(x1t1_bar, length(x1t1)), \n",
    "                rep(x1t2_bar, length(x1t2)), \n",
    "                rep(x1t3_bar, length(x1t3))))\n",
    "print(paste(\"Treatment Effect Vector : \"))\n",
    "(residual_x1 <- obs_x1 - x1bar)\n",
    "print(paste(\"Sum-square Treatment Effect Vector : \"))\n",
    "(sumsquare_resid <- sum(residual_x1^2)) "
   ]
  },
  {
   "cell_type": "markdown",
   "id": "9efe380f",
   "metadata": {
    "hidden": true
   },
   "source": [
    "### X2"
   ]
  },
  {
   "cell_type": "code",
   "execution_count": 18,
   "id": "c4bf0b9f",
   "metadata": {
    "ExecuteTime": {
     "end_time": "2022-03-26T14:56:40.267745Z",
     "start_time": "2022-03-26T14:56:36.316Z"
    },
    "hidden": true
   },
   "outputs": [
    {
     "name": "stdout",
     "output_type": "stream",
     "text": [
      "[1] \"Observation vector : \"\n"
     ]
    },
    {
     "data": {
      "text/html": [
       "<style>\n",
       ".list-inline {list-style: none; margin:0; padding: 0}\n",
       ".list-inline>li {display: inline-block}\n",
       ".list-inline>li:not(:last-child)::after {content: \"\\00b7\"; padding: 0 .5ex}\n",
       "</style>\n",
       "<ol class=list-inline><li>7</li><li>9</li><li>6</li><li>9</li><li>9</li><li>3</li><li>6</li><li>3</li><li>3</li><li>1</li><li>1</li><li>3</li></ol>\n"
      ],
      "text/latex": [
       "\\begin{enumerate*}\n",
       "\\item 7\n",
       "\\item 9\n",
       "\\item 6\n",
       "\\item 9\n",
       "\\item 9\n",
       "\\item 3\n",
       "\\item 6\n",
       "\\item 3\n",
       "\\item 3\n",
       "\\item 1\n",
       "\\item 1\n",
       "\\item 3\n",
       "\\end{enumerate*}\n"
      ],
      "text/markdown": [
       "1. 7\n",
       "2. 9\n",
       "3. 6\n",
       "4. 9\n",
       "5. 9\n",
       "6. 3\n",
       "7. 6\n",
       "8. 3\n",
       "9. 3\n",
       "10. 1\n",
       "11. 1\n",
       "12. 3\n",
       "\n",
       "\n"
      ],
      "text/plain": [
       " [1] 7 9 6 9 9 3 6 3 3 1 1 3"
      ]
     },
     "metadata": {},
     "output_type": "display_data"
    },
    {
     "name": "stdout",
     "output_type": "stream",
     "text": [
      "[1] \"Sum-square Observation vector : \"\n"
     ]
    },
    {
     "data": {
      "text/html": [
       "402"
      ],
      "text/latex": [
       "402"
      ],
      "text/markdown": [
       "402"
      ],
      "text/plain": [
       "[1] 402"
      ]
     },
     "metadata": {},
     "output_type": "display_data"
    },
    {
     "name": "stdout",
     "output_type": "stream",
     "text": [
      "[1] \"\"\n"
     ]
    }
   ],
   "source": [
    "#Observations\n",
    "obs_x2 <- c(x2t1, x2t2, x2t3)\n",
    "print(paste(\"Observation vector : \"))\n",
    "obs_x2\n",
    "sumsquare_obsx2 <- sum(obs_x2^2)\n",
    "print(paste(\"Sum-square Observation vector : \"))\n",
    "sumsquare_obsx2\n",
    "print(\"\")"
   ]
  },
  {
   "cell_type": "code",
   "execution_count": 19,
   "id": "847f38e6",
   "metadata": {
    "ExecuteTime": {
     "end_time": "2022-03-26T14:56:40.315774Z",
     "start_time": "2022-03-26T14:56:36.320Z"
    },
    "hidden": true
   },
   "outputs": [
    {
     "name": "stdout",
     "output_type": "stream",
     "text": [
      "[1] \"Mean Vector : \"\n"
     ]
    },
    {
     "data": {
      "text/html": [
       "<style>\n",
       ".list-inline {list-style: none; margin:0; padding: 0}\n",
       ".list-inline>li {display: inline-block}\n",
       ".list-inline>li:not(:last-child)::after {content: \"\\00b7\"; padding: 0 .5ex}\n",
       "</style>\n",
       "<ol class=list-inline><li>5</li><li>5</li><li>5</li><li>5</li><li>5</li><li>5</li><li>5</li><li>5</li><li>5</li><li>5</li><li>5</li><li>5</li></ol>\n"
      ],
      "text/latex": [
       "\\begin{enumerate*}\n",
       "\\item 5\n",
       "\\item 5\n",
       "\\item 5\n",
       "\\item 5\n",
       "\\item 5\n",
       "\\item 5\n",
       "\\item 5\n",
       "\\item 5\n",
       "\\item 5\n",
       "\\item 5\n",
       "\\item 5\n",
       "\\item 5\n",
       "\\end{enumerate*}\n"
      ],
      "text/markdown": [
       "1. 5\n",
       "2. 5\n",
       "3. 5\n",
       "4. 5\n",
       "5. 5\n",
       "6. 5\n",
       "7. 5\n",
       "8. 5\n",
       "9. 5\n",
       "10. 5\n",
       "11. 5\n",
       "12. 5\n",
       "\n",
       "\n"
      ],
      "text/plain": [
       " [1] 5 5 5 5 5 5 5 5 5 5 5 5"
      ]
     },
     "metadata": {},
     "output_type": "display_data"
    },
    {
     "name": "stdout",
     "output_type": "stream",
     "text": [
      "[1] \"Sum-Square Mean Vector : \"\n"
     ]
    },
    {
     "data": {
      "text/html": [
       "300"
      ],
      "text/latex": [
       "300"
      ],
      "text/markdown": [
       "300"
      ],
      "text/plain": [
       "[1] 300"
      ]
     },
     "metadata": {},
     "output_type": "display_data"
    },
    {
     "name": "stdout",
     "output_type": "stream",
     "text": [
      "[1] \"\"\n"
     ]
    }
   ],
   "source": [
    "#Means\n",
    "meanx2 <- mean(obs_x2)\n",
    "print(paste(\"Mean Vector : \"))\n",
    "(mean_x2 <- c(rep(meanx2, length(x2t1)), \n",
    "              rep(meanx2, length(x2t2)), \n",
    "              rep(meanx2, length(x2t3))))\n",
    "print(paste(\"Sum-Square Mean Vector : \"))\n",
    "(sumsquare_meanx2 <- sum(mean_x2^2)) \n",
    "print(\"\")"
   ]
  },
  {
   "cell_type": "code",
   "execution_count": 20,
   "id": "c57d827f",
   "metadata": {
    "ExecuteTime": {
     "end_time": "2022-03-26T14:56:40.367739Z",
     "start_time": "2022-03-26T14:56:36.323Z"
    },
    "hidden": true
   },
   "outputs": [
    {
     "name": "stdout",
     "output_type": "stream",
     "text": [
      "[1] \"Treatment Effect Vector : \"\n"
     ]
    },
    {
     "data": {
      "text/html": [
       "<style>\n",
       ".list-inline {list-style: none; margin:0; padding: 0}\n",
       ".list-inline>li {display: inline-block}\n",
       ".list-inline>li:not(:last-child)::after {content: \"\\00b7\"; padding: 0 .5ex}\n",
       "</style>\n",
       "<ol class=list-inline><li>3</li><li>3</li><li>3</li><li>3</li><li>3</li><li>-1</li><li>-1</li><li>-1</li><li>-3</li><li>-3</li><li>-3</li><li>-3</li></ol>\n"
      ],
      "text/latex": [
       "\\begin{enumerate*}\n",
       "\\item 3\n",
       "\\item 3\n",
       "\\item 3\n",
       "\\item 3\n",
       "\\item 3\n",
       "\\item -1\n",
       "\\item -1\n",
       "\\item -1\n",
       "\\item -3\n",
       "\\item -3\n",
       "\\item -3\n",
       "\\item -3\n",
       "\\end{enumerate*}\n"
      ],
      "text/markdown": [
       "1. 3\n",
       "2. 3\n",
       "3. 3\n",
       "4. 3\n",
       "5. 3\n",
       "6. -1\n",
       "7. -1\n",
       "8. -1\n",
       "9. -3\n",
       "10. -3\n",
       "11. -3\n",
       "12. -3\n",
       "\n",
       "\n"
      ],
      "text/plain": [
       " [1]  3  3  3  3  3 -1 -1 -1 -3 -3 -3 -3"
      ]
     },
     "metadata": {},
     "output_type": "display_data"
    },
    {
     "name": "stdout",
     "output_type": "stream",
     "text": [
      "[1] \"Sum-square Treatment Effect Vector : \"\n"
     ]
    },
    {
     "data": {
      "text/html": [
       "84"
      ],
      "text/latex": [
       "84"
      ],
      "text/markdown": [
       "84"
      ],
      "text/plain": [
       "[1] 84"
      ]
     },
     "metadata": {},
     "output_type": "display_data"
    },
    {
     "name": "stdout",
     "output_type": "stream",
     "text": [
      "[1] \"\"\n"
     ]
    }
   ],
   "source": [
    "#Treatment Effects\n",
    "x2t1_bar <- mean(x2t1)\n",
    "x2t2_bar <- mean(x2t2)\n",
    "x2t3_bar <- mean(x2t3)\n",
    "treateffect_x2t1 <- x2t1_bar - meanx2\n",
    "treateffect_x2t2 <- x2t2_bar - meanx2\n",
    "treateffect_x2t3 <- x2t3_bar - meanx2\n",
    "print(paste(\"Treatment Effect Vector : \"))\n",
    "(treateffect_x2 <- c(rep(treateffect_x2t1, length(x2t1)), \n",
    "                     rep(treateffect_x2t2, length(x2t2)), \n",
    "                     rep(treateffect_x2t3, length(x2t3))))\n",
    "print(paste(\"Sum-square Treatment Effect Vector : \"))\n",
    "(sumsquare_treateffectx2 <- sum(treateffect_x2^2)) \n",
    "print(\"\")"
   ]
  },
  {
   "cell_type": "code",
   "execution_count": 21,
   "id": "29828722",
   "metadata": {
    "ExecuteTime": {
     "end_time": "2022-03-26T14:56:40.411781Z",
     "start_time": "2022-03-26T14:56:36.326Z"
    },
    "hidden": true
   },
   "outputs": [
    {
     "data": {
      "text/html": [
       "<style>\n",
       ".list-inline {list-style: none; margin:0; padding: 0}\n",
       ".list-inline>li {display: inline-block}\n",
       ".list-inline>li:not(:last-child)::after {content: \"\\00b7\"; padding: 0 .5ex}\n",
       "</style>\n",
       "<ol class=list-inline><li>8</li><li>8</li><li>8</li><li>8</li><li>8</li><li>4</li><li>4</li><li>4</li><li>2</li><li>2</li><li>2</li><li>2</li></ol>\n"
      ],
      "text/latex": [
       "\\begin{enumerate*}\n",
       "\\item 8\n",
       "\\item 8\n",
       "\\item 8\n",
       "\\item 8\n",
       "\\item 8\n",
       "\\item 4\n",
       "\\item 4\n",
       "\\item 4\n",
       "\\item 2\n",
       "\\item 2\n",
       "\\item 2\n",
       "\\item 2\n",
       "\\end{enumerate*}\n"
      ],
      "text/markdown": [
       "1. 8\n",
       "2. 8\n",
       "3. 8\n",
       "4. 8\n",
       "5. 8\n",
       "6. 4\n",
       "7. 4\n",
       "8. 4\n",
       "9. 2\n",
       "10. 2\n",
       "11. 2\n",
       "12. 2\n",
       "\n",
       "\n"
      ],
      "text/plain": [
       " [1] 8 8 8 8 8 4 4 4 2 2 2 2"
      ]
     },
     "metadata": {},
     "output_type": "display_data"
    },
    {
     "name": "stdout",
     "output_type": "stream",
     "text": [
      "[1] \"Residual Effect Vector : \"\n"
     ]
    },
    {
     "data": {
      "text/html": [
       "<style>\n",
       ".list-inline {list-style: none; margin:0; padding: 0}\n",
       ".list-inline>li {display: inline-block}\n",
       ".list-inline>li:not(:last-child)::after {content: \"\\00b7\"; padding: 0 .5ex}\n",
       "</style>\n",
       "<ol class=list-inline><li>-1</li><li>1</li><li>-2</li><li>1</li><li>1</li><li>-1</li><li>2</li><li>-1</li><li>1</li><li>-1</li><li>-1</li><li>1</li></ol>\n"
      ],
      "text/latex": [
       "\\begin{enumerate*}\n",
       "\\item -1\n",
       "\\item 1\n",
       "\\item -2\n",
       "\\item 1\n",
       "\\item 1\n",
       "\\item -1\n",
       "\\item 2\n",
       "\\item -1\n",
       "\\item 1\n",
       "\\item -1\n",
       "\\item -1\n",
       "\\item 1\n",
       "\\end{enumerate*}\n"
      ],
      "text/markdown": [
       "1. -1\n",
       "2. 1\n",
       "3. -2\n",
       "4. 1\n",
       "5. 1\n",
       "6. -1\n",
       "7. 2\n",
       "8. -1\n",
       "9. 1\n",
       "10. -1\n",
       "11. -1\n",
       "12. 1\n",
       "\n",
       "\n"
      ],
      "text/plain": [
       " [1] -1  1 -2  1  1 -1  2 -1  1 -1 -1  1"
      ]
     },
     "metadata": {},
     "output_type": "display_data"
    },
    {
     "name": "stdout",
     "output_type": "stream",
     "text": [
      "[1] \"Sum-square Residual Effect Vector : \"\n"
     ]
    },
    {
     "data": {
      "text/html": [
       "18"
      ],
      "text/latex": [
       "18"
      ],
      "text/markdown": [
       "18"
      ],
      "text/plain": [
       "[1] 18"
      ]
     },
     "metadata": {},
     "output_type": "display_data"
    }
   ],
   "source": [
    "#Residuals\n",
    "(x2bar <- c(rep(x2t1_bar, length(x2t1)), \n",
    "                rep(x2t2_bar, length(x2t2)), \n",
    "                rep(x2t3_bar, length(x2t3))))\n",
    "print(paste(\"Residual Effect Vector : \"))\n",
    "(residual_x2 <- obs_x2 - x2bar)\n",
    "print(paste(\"Sum-square Residual Effect Vector : \"))\n",
    "(sumsquare_resid <- sum(residual_x2^2)) "
   ]
  },
  {
   "cell_type": "code",
   "execution_count": 22,
   "id": "b09e8a3e",
   "metadata": {
    "ExecuteTime": {
     "end_time": "2022-03-26T14:56:40.447737Z",
     "start_time": "2022-03-26T14:56:36.331Z"
    },
    "hidden": true
   },
   "outputs": [
    {
     "name": "stdout",
     "output_type": "stream",
     "text": [
      "[1] \"Cross Products of Observations Sum-squares\"\n"
     ]
    },
    {
     "data": {
      "text/html": [
       "<table class=\"dataframe\">\n",
       "<caption>A matrix: 1 × 1 of type dbl</caption>\n",
       "<tbody>\n",
       "\t<tr><td>275</td></tr>\n",
       "</tbody>\n",
       "</table>\n"
      ],
      "text/latex": [
       "A matrix: 1 × 1 of type dbl\n",
       "\\begin{tabular}{l}\n",
       "\t 275\\\\\n",
       "\\end{tabular}\n"
      ],
      "text/markdown": [
       "\n",
       "A matrix: 1 × 1 of type dbl\n",
       "\n",
       "| 275 |\n",
       "\n"
      ],
      "text/plain": [
       "     [,1]\n",
       "[1,] 275 "
      ]
     },
     "metadata": {},
     "output_type": "display_data"
    }
   ],
   "source": [
    "print(\"Cross Products of Observations Sum-squares\")\n",
    "(crossprodsumsquare_obs <- crossprod(obs_x1, obs_x2))"
   ]
  },
  {
   "cell_type": "code",
   "execution_count": 23,
   "id": "21db2026",
   "metadata": {
    "ExecuteTime": {
     "end_time": "2022-03-26T14:56:40.485781Z",
     "start_time": "2022-03-26T14:56:36.335Z"
    },
    "hidden": true
   },
   "outputs": [
    {
     "name": "stdout",
     "output_type": "stream",
     "text": [
      "[1] \"Cross Products of Means Sum-squares\"\n"
     ]
    },
    {
     "data": {
      "text/html": [
       "<table class=\"dataframe\">\n",
       "<caption>A matrix: 1 × 1 of type dbl</caption>\n",
       "<tbody>\n",
       "\t<tr><td>240</td></tr>\n",
       "</tbody>\n",
       "</table>\n"
      ],
      "text/latex": [
       "A matrix: 1 × 1 of type dbl\n",
       "\\begin{tabular}{l}\n",
       "\t 240\\\\\n",
       "\\end{tabular}\n"
      ],
      "text/markdown": [
       "\n",
       "A matrix: 1 × 1 of type dbl\n",
       "\n",
       "| 240 |\n",
       "\n"
      ],
      "text/plain": [
       "     [,1]\n",
       "[1,] 240 "
      ]
     },
     "metadata": {},
     "output_type": "display_data"
    }
   ],
   "source": [
    "print(\"Cross Products of Means Sum-squares\")\n",
    "(crossprodsumsquare_mean <- crossprod(mean_x1, mean_x2))"
   ]
  },
  {
   "cell_type": "code",
   "execution_count": 24,
   "id": "e4a351f8",
   "metadata": {
    "ExecuteTime": {
     "end_time": "2022-03-26T14:56:40.521776Z",
     "start_time": "2022-03-26T14:56:36.338Z"
    },
    "hidden": true
   },
   "outputs": [
    {
     "name": "stdout",
     "output_type": "stream",
     "text": [
      "[1] \"Total Corrected\"\n"
     ]
    },
    {
     "data": {
      "text/html": [
       "<table class=\"dataframe\">\n",
       "<caption>A matrix: 1 × 1 of type dbl</caption>\n",
       "<tbody>\n",
       "\t<tr><td>35</td></tr>\n",
       "</tbody>\n",
       "</table>\n"
      ],
      "text/latex": [
       "A matrix: 1 × 1 of type dbl\n",
       "\\begin{tabular}{l}\n",
       "\t 35\\\\\n",
       "\\end{tabular}\n"
      ],
      "text/markdown": [
       "\n",
       "A matrix: 1 × 1 of type dbl\n",
       "\n",
       "| 35 |\n",
       "\n"
      ],
      "text/plain": [
       "     [,1]\n",
       "[1,] 35  "
      ]
     },
     "metadata": {},
     "output_type": "display_data"
    }
   ],
   "source": [
    "print(\"Total Corrected\")\n",
    "(crossprodsumsquare_corr <- crossprodsumsquare_obs - crossprodsumsquare_mean)"
   ]
  },
  {
   "cell_type": "code",
   "execution_count": 25,
   "id": "ad1da8d2",
   "metadata": {
    "ExecuteTime": {
     "end_time": "2022-03-26T14:56:40.562771Z",
     "start_time": "2022-03-26T14:56:36.342Z"
    },
    "hidden": true
   },
   "outputs": [
    {
     "name": "stdout",
     "output_type": "stream",
     "text": [
      "[1] \"Cross Product of Treatment Sum-Squares\"\n"
     ]
    },
    {
     "data": {
      "text/html": [
       "<table class=\"dataframe\">\n",
       "<caption>A matrix: 1 × 1 of type dbl</caption>\n",
       "<tbody>\n",
       "\t<tr><td>48</td></tr>\n",
       "</tbody>\n",
       "</table>\n"
      ],
      "text/latex": [
       "A matrix: 1 × 1 of type dbl\n",
       "\\begin{tabular}{l}\n",
       "\t 48\\\\\n",
       "\\end{tabular}\n"
      ],
      "text/markdown": [
       "\n",
       "A matrix: 1 × 1 of type dbl\n",
       "\n",
       "| 48 |\n",
       "\n"
      ],
      "text/plain": [
       "     [,1]\n",
       "[1,] 48  "
      ]
     },
     "metadata": {},
     "output_type": "display_data"
    }
   ],
   "source": [
    "print(\"Cross Product of Treatment Sum-Squares\")\n",
    "(crossprodsumsquare_treateffect <- crossprod(treateffect_x1, treateffect_x2))"
   ]
  },
  {
   "cell_type": "code",
   "execution_count": 26,
   "id": "38b9a908",
   "metadata": {
    "ExecuteTime": {
     "end_time": "2022-03-26T14:56:40.603775Z",
     "start_time": "2022-03-26T14:56:36.345Z"
    },
    "hidden": true
   },
   "outputs": [
    {
     "name": "stdout",
     "output_type": "stream",
     "text": [
      "[1] \"Cross Product Residual Sum-Squares\"\n"
     ]
    },
    {
     "data": {
      "text/html": [
       "<table class=\"dataframe\">\n",
       "<caption>A matrix: 1 × 1 of type dbl</caption>\n",
       "<tbody>\n",
       "\t<tr><td>-13</td></tr>\n",
       "</tbody>\n",
       "</table>\n"
      ],
      "text/latex": [
       "A matrix: 1 × 1 of type dbl\n",
       "\\begin{tabular}{l}\n",
       "\t -13\\\\\n",
       "\\end{tabular}\n"
      ],
      "text/markdown": [
       "\n",
       "A matrix: 1 × 1 of type dbl\n",
       "\n",
       "| -13 |\n",
       "\n"
      ],
      "text/plain": [
       "     [,1]\n",
       "[1,] -13 "
      ]
     },
     "metadata": {},
     "output_type": "display_data"
    }
   ],
   "source": [
    "print(\"Cross Product Residual Sum-Squares\")\n",
    "(crossprodsumsquare_residual <- crossprod(residual_x1, residual_x2))"
   ]
  },
  {
   "cell_type": "markdown",
   "id": "bb6d36e3",
   "metadata": {
    "heading_collapsed": true,
    "hidden": true
   },
   "source": [
    "## b). Using the information in Part a, construct the one-way MANOVA table."
   ]
  },
  {
   "cell_type": "code",
   "execution_count": 30,
   "id": "e5e1f7d5",
   "metadata": {
    "ExecuteTime": {
     "end_time": "2022-03-26T14:57:50.612813Z",
     "start_time": "2022-03-26T14:57:50.577Z"
    },
    "hidden": true
   },
   "outputs": [
    {
     "data": {
      "text/html": [
       "<table class=\"dataframe\">\n",
       "<caption>A matrix: 2 × 2 of type dbl</caption>\n",
       "<tbody>\n",
       "\t<tr><td>36</td><td>48</td></tr>\n",
       "\t<tr><td>48</td><td>84</td></tr>\n",
       "</tbody>\n",
       "</table>\n"
      ],
      "text/latex": [
       "A matrix: 2 × 2 of type dbl\n",
       "\\begin{tabular}{ll}\n",
       "\t 36 & 48\\\\\n",
       "\t 48 & 84\\\\\n",
       "\\end{tabular}\n"
      ],
      "text/markdown": [
       "\n",
       "A matrix: 2 × 2 of type dbl\n",
       "\n",
       "| 36 | 48 |\n",
       "| 48 | 84 |\n",
       "\n"
      ],
      "text/plain": [
       "     [,1] [,2]\n",
       "[1,] 36   48  \n",
       "[2,] 48   84  "
      ]
     },
     "metadata": {},
     "output_type": "display_data"
    },
    {
     "data": {
      "text/html": [
       "9"
      ],
      "text/latex": [
       "9"
      ],
      "text/markdown": [
       "9"
      ],
      "text/plain": [
       "[1] 9"
      ]
     },
     "metadata": {},
     "output_type": "display_data"
    }
   ],
   "source": [
    "SSM_treatment <- matrix(c(sumsquare_treateffectx1, crossprodsumsquare_treateffect, crossprodsumsquare_treateffect, sumsquare_treateffectx2), byrow = T, ncol = 2)\n",
    "SSM_treatment\n",
    "df_treatment <- length(obs_x1) - 3\n",
    "df_treatment"
   ]
  },
  {
   "cell_type": "code",
   "execution_count": null,
   "id": "cad5055f",
   "metadata": {
    "ExecuteTime": {
     "end_time": "2022-03-26T14:56:40.649770Z",
     "start_time": "2022-03-26T14:56:36.353Z"
    },
    "hidden": true
   },
   "outputs": [],
   "source": [
    "SS_Tr <- 5*((x1t1_bar-x1bar)^2)*(x1t1_bar-x1bar)\n"
   ]
  },
  {
   "cell_type": "markdown",
   "id": "13256fd7",
   "metadata": {
    "heading_collapsed": true,
    "hidden": true
   },
   "source": [
    "## c). Set a = .01. Repeat the test using the chi-square approximation with Bartlett's correction. [See (6-39).] Compare the conclusions.\n"
   ]
  },
  {
   "cell_type": "code",
   "execution_count": null,
   "id": "98aea276",
   "metadata": {
    "hidden": true
   },
   "outputs": [],
   "source": []
  },
  {
   "cell_type": "markdown",
   "id": "df23ef6d",
   "metadata": {},
   "source": [
    "# 6.19"
   ]
  },
  {
   "cell_type": "raw",
   "id": "df7da0cd",
   "metadata": {},
   "source": [
    "In the first phase of a study of the cost of transporting milk from farms to dairy plants, a survey was taken of firms engaged in milk transportation. Cost data on X1 = fuel, X2 = repair, and X3 = capital, al measured on a per-mile basis, are presented in Table 6.10 on page 340 for n1 = 36 gasoline and n2 = 23 diesel trucks."
   ]
  },
  {
   "cell_type": "code",
   "execution_count": null,
   "id": "fd8775bc",
   "metadata": {},
   "outputs": [],
   "source": []
  },
  {
   "cell_type": "markdown",
   "id": "e0253870",
   "metadata": {},
   "source": [
    "## (a) Test for differences in the mean cost vectors. Set a = .01. "
   ]
  },
  {
   "cell_type": "markdown",
   "id": "ccf4a0d5",
   "metadata": {},
   "source": [
    "## (b) If the hypothesis of equal cost vectors is rejected in Part a, find the linear  combination of mean components most responsible for the rejection. "
   ]
  },
  {
   "cell_type": "markdown",
   "id": "f4e2e90f",
   "metadata": {},
   "source": [
    "## (c) Construct 99% simultaneous confidence intervals for the pairs of mean components. Which costs, if any, appear to be quite different?"
   ]
  },
  {
   "cell_type": "markdown",
   "id": "c331e4e4",
   "metadata": {},
   "source": [
    "## (d) Comment on the validity of the assumptions used in your analysis. Note in particular that observations 9 and 21 for gasoline trucks have been identi\u0002fied as multivariate outliers. (See Exercise 5.22 and [2] .) Repeat Part a with these observations deleted. Comment on the results."
   ]
  },
  {
   "cell_type": "markdown",
   "id": "5b5eb2b9",
   "metadata": {
    "heading_collapsed": true
   },
   "source": [
    "# 6.21"
   ]
  },
  {
   "cell_type": "raw",
   "id": "a020ff0c",
   "metadata": {
    "hidden": true
   },
   "source": [
    "Using Moody's bond ratings, samples of 20 Aa (middle-high quality) corporate \n",
    "bonds and 20 Baa (top-medium quality) corporate bonds were selected. For \n",
    "each of the corresponding companies, the ratios\n",
    "\n",
    "X1 = current ratio (a measure of short-term liquidity) \n",
    "X2 = long-term interest rate (a measure of interest coverage) \n",
    "X3 = debt-to-equity ratio (a measure of financial risk or leverage) \n",
    "X4 = rate of return on equity (a measure of profitability)\n",
    "\n",
    "were recorded. The summary statistics are as folows: "
   ]
  },
  {
   "cell_type": "markdown",
   "id": "651dce2c",
   "metadata": {
    "hidden": true
   },
   "source": [
    "## (a) Does pooling appear reasonable here? Comment on the pooling procedure in this case. "
   ]
  },
  {
   "cell_type": "markdown",
   "id": "40ec9aa4",
   "metadata": {
    "hidden": true
   },
   "source": [
    "## (b) Are the financial characteristics of firms with Aa bonds different from those with Baa bonds? Using the pooled covariance matrix, test for the equality of mean vectors. Set a == .05. "
   ]
  },
  {
   "cell_type": "markdown",
   "id": "f26e4831",
   "metadata": {
    "hidden": true
   },
   "source": [
    "## (c) Calculate the linear combinations of mean components most responsible for rejecting H0 : ILl - IL2 == 0 in Part b. "
   ]
  },
  {
   "cell_type": "markdown",
   "id": "6b6a0d97",
   "metadata": {
    "hidden": true
   },
   "source": [
    "## (d) Bond rating companies are interested in a company's ability to satisfy its outstanding debt obligations as they mature. Does it appear as if one or more of the foregoing financial ratios might be useful in helping to classify a bond as \"high\" or \"medium\" quality? Explain. "
   ]
  },
  {
   "cell_type": "markdown",
   "id": "8bf0dbb5",
   "metadata": {},
   "source": [
    "# 6.23\n"
   ]
  },
  {
   "cell_type": "raw",
   "id": "10bdde41",
   "metadata": {},
   "source": [
    "Construct a one-way MANOVA using the width measurements from the iris data in Table 11.5. Construct 95% simultaneous confidence intervals for differences in mean components for the two responses for each pair of populations. Comment on the validity of the assumption that I1 == I2 == I3."
   ]
  }
 ],
 "metadata": {
  "kernelspec": {
   "display_name": "R",
   "language": "R",
   "name": "ir"
  },
  "language_info": {
   "codemirror_mode": "r",
   "file_extension": ".r",
   "mimetype": "text/x-r-source",
   "name": "R",
   "pygments_lexer": "r",
   "version": "4.0.5"
  },
  "toc": {
   "base_numbering": 1,
   "nav_menu": {},
   "number_sections": true,
   "sideBar": true,
   "skip_h1_title": false,
   "title_cell": "Table of Contents",
   "title_sidebar": "Contents",
   "toc_cell": false,
   "toc_position": {},
   "toc_section_display": true,
   "toc_window_display": false
  }
 },
 "nbformat": 4,
 "nbformat_minor": 5
}
