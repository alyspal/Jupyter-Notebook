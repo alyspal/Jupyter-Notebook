{
 "cells": [
  {
   "cell_type": "markdown",
   "metadata": {
    "id": "go_MZCwD1z78"
   },
   "source": [
    "# AdaBoost and GradientBoost Classifier\n"
   ]
  },
  {
   "cell_type": "markdown",
   "metadata": {
    "id": "6Vcacb7y14nd"
   },
   "source": [
    "# Input packages and datasets"
   ]
  },
  {
   "cell_type": "code",
   "execution_count": 1,
   "metadata": {
    "id": "YRsOznqNXSFE"
   },
   "outputs": [],
   "source": [
    "import pandas as pd\n",
    "import numpy as np\n",
    "from sklearn.model_selection import train_test_split\n",
    "from sklearn.ensemble import AdaBoostClassifier,GradientBoostingClassifier\n",
    "from sklearn.metrics import accuracy_score"
   ]
  },
  {
   "cell_type": "code",
   "execution_count": 2,
   "metadata": {
    "id": "AZGdYfeaXURD"
   },
   "outputs": [],
   "source": [
    "datatrain = pd.read_csv('Train.csv')\n",
    "datatest = pd.read_csv('Test.csv')"
   ]
  },
  {
   "cell_type": "markdown",
   "metadata": {
    "id": "2tH-u1eP4ad1"
   },
   "source": [
    "# Preprocessing\n"
   ]
  },
  {
   "cell_type": "markdown",
   "metadata": {
    "id": "GXAi08mK2sGb"
   },
   "source": [
    "Checking datasets"
   ]
  },
  {
   "cell_type": "code",
   "execution_count": 3,
   "metadata": {
    "colab": {
     "base_uri": "https://localhost:8080/",
     "height": 423
    },
    "id": "47OmGmdUXz20",
    "outputId": "e430f212-29de-44e6-ae53-cdb215198a2a"
   },
   "outputs": [
    {
     "data": {
      "text/html": [
       "<div>\n",
       "<style scoped>\n",
       "    .dataframe tbody tr th:only-of-type {\n",
       "        vertical-align: middle;\n",
       "    }\n",
       "\n",
       "    .dataframe tbody tr th {\n",
       "        vertical-align: top;\n",
       "    }\n",
       "\n",
       "    .dataframe thead th {\n",
       "        text-align: right;\n",
       "    }\n",
       "</style>\n",
       "<table border=\"1\" class=\"dataframe\">\n",
       "  <thead>\n",
       "    <tr style=\"text-align: right;\">\n",
       "      <th></th>\n",
       "      <th>ID</th>\n",
       "      <th>Provinsi</th>\n",
       "      <th>KodeKabKot</th>\n",
       "      <th>Y</th>\n",
       "      <th>X1</th>\n",
       "      <th>X2</th>\n",
       "      <th>X3</th>\n",
       "      <th>X4</th>\n",
       "      <th>X5</th>\n",
       "      <th>X6</th>\n",
       "      <th>Z1</th>\n",
       "      <th>Z2</th>\n",
       "      <th>Z3</th>\n",
       "      <th>Z4</th>\n",
       "    </tr>\n",
       "  </thead>\n",
       "  <tbody>\n",
       "    <tr>\n",
       "      <th>0</th>\n",
       "      <td>1</td>\n",
       "      <td>11</td>\n",
       "      <td>1101</td>\n",
       "      <td>0</td>\n",
       "      <td>1</td>\n",
       "      <td>27</td>\n",
       "      <td>0</td>\n",
       "      <td>0</td>\n",
       "      <td>1</td>\n",
       "      <td>1</td>\n",
       "      <td>1.077</td>\n",
       "      <td>15.075</td>\n",
       "      <td>26.919</td>\n",
       "      <td>390.869</td>\n",
       "    </tr>\n",
       "    <tr>\n",
       "      <th>1</th>\n",
       "      <td>2</td>\n",
       "      <td>11</td>\n",
       "      <td>1101</td>\n",
       "      <td>0</td>\n",
       "      <td>1</td>\n",
       "      <td>38</td>\n",
       "      <td>0</td>\n",
       "      <td>0</td>\n",
       "      <td>1</td>\n",
       "      <td>0</td>\n",
       "      <td>1.077</td>\n",
       "      <td>15.075</td>\n",
       "      <td>26.919</td>\n",
       "      <td>390.869</td>\n",
       "    </tr>\n",
       "    <tr>\n",
       "      <th>2</th>\n",
       "      <td>4</td>\n",
       "      <td>11</td>\n",
       "      <td>1101</td>\n",
       "      <td>0</td>\n",
       "      <td>0</td>\n",
       "      <td>36</td>\n",
       "      <td>0</td>\n",
       "      <td>0</td>\n",
       "      <td>0</td>\n",
       "      <td>1</td>\n",
       "      <td>1.077</td>\n",
       "      <td>15.075</td>\n",
       "      <td>26.919</td>\n",
       "      <td>390.869</td>\n",
       "    </tr>\n",
       "    <tr>\n",
       "      <th>3</th>\n",
       "      <td>7</td>\n",
       "      <td>11</td>\n",
       "      <td>1101</td>\n",
       "      <td>0</td>\n",
       "      <td>0</td>\n",
       "      <td>27</td>\n",
       "      <td>0</td>\n",
       "      <td>0</td>\n",
       "      <td>1</td>\n",
       "      <td>1</td>\n",
       "      <td>1.077</td>\n",
       "      <td>15.075</td>\n",
       "      <td>26.919</td>\n",
       "      <td>390.869</td>\n",
       "    </tr>\n",
       "    <tr>\n",
       "      <th>4</th>\n",
       "      <td>8</td>\n",
       "      <td>11</td>\n",
       "      <td>1101</td>\n",
       "      <td>0</td>\n",
       "      <td>1</td>\n",
       "      <td>36</td>\n",
       "      <td>1</td>\n",
       "      <td>0</td>\n",
       "      <td>0</td>\n",
       "      <td>0</td>\n",
       "      <td>1.077</td>\n",
       "      <td>15.075</td>\n",
       "      <td>26.919</td>\n",
       "      <td>390.869</td>\n",
       "    </tr>\n",
       "    <tr>\n",
       "      <th>...</th>\n",
       "      <td>...</td>\n",
       "      <td>...</td>\n",
       "      <td>...</td>\n",
       "      <td>...</td>\n",
       "      <td>...</td>\n",
       "      <td>...</td>\n",
       "      <td>...</td>\n",
       "      <td>...</td>\n",
       "      <td>...</td>\n",
       "      <td>...</td>\n",
       "      <td>...</td>\n",
       "      <td>...</td>\n",
       "      <td>...</td>\n",
       "      <td>...</td>\n",
       "    </tr>\n",
       "    <tr>\n",
       "      <th>13621</th>\n",
       "      <td>19524</td>\n",
       "      <td>94</td>\n",
       "      <td>9471</td>\n",
       "      <td>1</td>\n",
       "      <td>0</td>\n",
       "      <td>28</td>\n",
       "      <td>1</td>\n",
       "      <td>0</td>\n",
       "      <td>1</td>\n",
       "      <td>1</td>\n",
       "      <td>1.757</td>\n",
       "      <td>3.262</td>\n",
       "      <td>48.936</td>\n",
       "      <td>209.045</td>\n",
       "    </tr>\n",
       "    <tr>\n",
       "      <th>13622</th>\n",
       "      <td>19526</td>\n",
       "      <td>94</td>\n",
       "      <td>9471</td>\n",
       "      <td>0</td>\n",
       "      <td>1</td>\n",
       "      <td>22</td>\n",
       "      <td>1</td>\n",
       "      <td>1</td>\n",
       "      <td>1</td>\n",
       "      <td>1</td>\n",
       "      <td>1.757</td>\n",
       "      <td>3.262</td>\n",
       "      <td>48.936</td>\n",
       "      <td>209.045</td>\n",
       "    </tr>\n",
       "    <tr>\n",
       "      <th>13623</th>\n",
       "      <td>19527</td>\n",
       "      <td>94</td>\n",
       "      <td>9471</td>\n",
       "      <td>0</td>\n",
       "      <td>0</td>\n",
       "      <td>35</td>\n",
       "      <td>1</td>\n",
       "      <td>0</td>\n",
       "      <td>1</td>\n",
       "      <td>1</td>\n",
       "      <td>1.757</td>\n",
       "      <td>3.262</td>\n",
       "      <td>48.936</td>\n",
       "      <td>209.045</td>\n",
       "    </tr>\n",
       "    <tr>\n",
       "      <th>13624</th>\n",
       "      <td>19529</td>\n",
       "      <td>94</td>\n",
       "      <td>9471</td>\n",
       "      <td>0</td>\n",
       "      <td>0</td>\n",
       "      <td>27</td>\n",
       "      <td>1</td>\n",
       "      <td>0</td>\n",
       "      <td>1</td>\n",
       "      <td>1</td>\n",
       "      <td>1.757</td>\n",
       "      <td>3.262</td>\n",
       "      <td>48.936</td>\n",
       "      <td>209.045</td>\n",
       "    </tr>\n",
       "    <tr>\n",
       "      <th>13625</th>\n",
       "      <td>19530</td>\n",
       "      <td>94</td>\n",
       "      <td>9471</td>\n",
       "      <td>1</td>\n",
       "      <td>0</td>\n",
       "      <td>39</td>\n",
       "      <td>1</td>\n",
       "      <td>1</td>\n",
       "      <td>1</td>\n",
       "      <td>1</td>\n",
       "      <td>1.757</td>\n",
       "      <td>3.262</td>\n",
       "      <td>48.936</td>\n",
       "      <td>209.045</td>\n",
       "    </tr>\n",
       "  </tbody>\n",
       "</table>\n",
       "<p>13626 rows × 14 columns</p>\n",
       "</div>"
      ],
      "text/plain": [
       "          ID  Provinsi  KodeKabKot  Y  X1  X2  X3  X4  X5  X6     Z1      Z2  \\\n",
       "0          1        11        1101  0   1  27   0   0   1   1  1.077  15.075   \n",
       "1          2        11        1101  0   1  38   0   0   1   0  1.077  15.075   \n",
       "2          4        11        1101  0   0  36   0   0   0   1  1.077  15.075   \n",
       "3          7        11        1101  0   0  27   0   0   1   1  1.077  15.075   \n",
       "4          8        11        1101  0   1  36   1   0   0   0  1.077  15.075   \n",
       "...      ...       ...         ... ..  ..  ..  ..  ..  ..  ..    ...     ...   \n",
       "13621  19524        94        9471  1   0  28   1   0   1   1  1.757   3.262   \n",
       "13622  19526        94        9471  0   1  22   1   1   1   1  1.757   3.262   \n",
       "13623  19527        94        9471  0   0  35   1   0   1   1  1.757   3.262   \n",
       "13624  19529        94        9471  0   0  27   1   0   1   1  1.757   3.262   \n",
       "13625  19530        94        9471  1   0  39   1   1   1   1  1.757   3.262   \n",
       "\n",
       "           Z3       Z4  \n",
       "0      26.919  390.869  \n",
       "1      26.919  390.869  \n",
       "2      26.919  390.869  \n",
       "3      26.919  390.869  \n",
       "4      26.919  390.869  \n",
       "...       ...      ...  \n",
       "13621  48.936  209.045  \n",
       "13622  48.936  209.045  \n",
       "13623  48.936  209.045  \n",
       "13624  48.936  209.045  \n",
       "13625  48.936  209.045  \n",
       "\n",
       "[13626 rows x 14 columns]"
      ]
     },
     "execution_count": 3,
     "metadata": {},
     "output_type": "execute_result"
    }
   ],
   "source": [
    "datatrain"
   ]
  },
  {
   "cell_type": "code",
   "execution_count": 4,
   "metadata": {},
   "outputs": [
    {
     "data": {
      "text/html": [
       "<div>\n",
       "<style scoped>\n",
       "    .dataframe tbody tr th:only-of-type {\n",
       "        vertical-align: middle;\n",
       "    }\n",
       "\n",
       "    .dataframe tbody tr th {\n",
       "        vertical-align: top;\n",
       "    }\n",
       "\n",
       "    .dataframe thead th {\n",
       "        text-align: right;\n",
       "    }\n",
       "</style>\n",
       "<table border=\"1\" class=\"dataframe\">\n",
       "  <thead>\n",
       "    <tr style=\"text-align: right;\">\n",
       "      <th></th>\n",
       "      <th>ID</th>\n",
       "      <th>Provinsi</th>\n",
       "      <th>KodeKabKot</th>\n",
       "      <th>X1</th>\n",
       "      <th>X2</th>\n",
       "      <th>X3</th>\n",
       "      <th>X4</th>\n",
       "      <th>X5</th>\n",
       "      <th>X6</th>\n",
       "      <th>Z1</th>\n",
       "      <th>Z2</th>\n",
       "      <th>Z3</th>\n",
       "      <th>Z4</th>\n",
       "    </tr>\n",
       "  </thead>\n",
       "  <tbody>\n",
       "    <tr>\n",
       "      <th>0</th>\n",
       "      <td>3</td>\n",
       "      <td>11</td>\n",
       "      <td>1101</td>\n",
       "      <td>1</td>\n",
       "      <td>39</td>\n",
       "      <td>0</td>\n",
       "      <td>0</td>\n",
       "      <td>1</td>\n",
       "      <td>1</td>\n",
       "      <td>1.077</td>\n",
       "      <td>15.075</td>\n",
       "      <td>26.919</td>\n",
       "      <td>390.869</td>\n",
       "    </tr>\n",
       "    <tr>\n",
       "      <th>1</th>\n",
       "      <td>5</td>\n",
       "      <td>11</td>\n",
       "      <td>1101</td>\n",
       "      <td>0</td>\n",
       "      <td>32</td>\n",
       "      <td>1</td>\n",
       "      <td>0</td>\n",
       "      <td>1</td>\n",
       "      <td>1</td>\n",
       "      <td>1.077</td>\n",
       "      <td>15.075</td>\n",
       "      <td>26.919</td>\n",
       "      <td>390.869</td>\n",
       "    </tr>\n",
       "    <tr>\n",
       "      <th>2</th>\n",
       "      <td>6</td>\n",
       "      <td>11</td>\n",
       "      <td>1101</td>\n",
       "      <td>1</td>\n",
       "      <td>32</td>\n",
       "      <td>1</td>\n",
       "      <td>0</td>\n",
       "      <td>1</td>\n",
       "      <td>1</td>\n",
       "      <td>1.077</td>\n",
       "      <td>15.075</td>\n",
       "      <td>26.919</td>\n",
       "      <td>390.869</td>\n",
       "    </tr>\n",
       "    <tr>\n",
       "      <th>3</th>\n",
       "      <td>10</td>\n",
       "      <td>11</td>\n",
       "      <td>1101</td>\n",
       "      <td>1</td>\n",
       "      <td>28</td>\n",
       "      <td>1</td>\n",
       "      <td>0</td>\n",
       "      <td>1</td>\n",
       "      <td>0</td>\n",
       "      <td>1.077</td>\n",
       "      <td>15.075</td>\n",
       "      <td>26.919</td>\n",
       "      <td>390.869</td>\n",
       "    </tr>\n",
       "    <tr>\n",
       "      <th>4</th>\n",
       "      <td>17</td>\n",
       "      <td>11</td>\n",
       "      <td>1101</td>\n",
       "      <td>0</td>\n",
       "      <td>31</td>\n",
       "      <td>1</td>\n",
       "      <td>0</td>\n",
       "      <td>1</td>\n",
       "      <td>1</td>\n",
       "      <td>1.077</td>\n",
       "      <td>15.075</td>\n",
       "      <td>26.919</td>\n",
       "      <td>390.869</td>\n",
       "    </tr>\n",
       "    <tr>\n",
       "      <th>...</th>\n",
       "      <td>...</td>\n",
       "      <td>...</td>\n",
       "      <td>...</td>\n",
       "      <td>...</td>\n",
       "      <td>...</td>\n",
       "      <td>...</td>\n",
       "      <td>...</td>\n",
       "      <td>...</td>\n",
       "      <td>...</td>\n",
       "      <td>...</td>\n",
       "      <td>...</td>\n",
       "      <td>...</td>\n",
       "      <td>...</td>\n",
       "    </tr>\n",
       "    <tr>\n",
       "      <th>5901</th>\n",
       "      <td>19515</td>\n",
       "      <td>94</td>\n",
       "      <td>9471</td>\n",
       "      <td>1</td>\n",
       "      <td>39</td>\n",
       "      <td>0</td>\n",
       "      <td>1</td>\n",
       "      <td>1</td>\n",
       "      <td>1</td>\n",
       "      <td>1.757</td>\n",
       "      <td>3.262</td>\n",
       "      <td>48.936</td>\n",
       "      <td>209.045</td>\n",
       "    </tr>\n",
       "    <tr>\n",
       "      <th>5902</th>\n",
       "      <td>19525</td>\n",
       "      <td>94</td>\n",
       "      <td>9471</td>\n",
       "      <td>0</td>\n",
       "      <td>30</td>\n",
       "      <td>1</td>\n",
       "      <td>1</td>\n",
       "      <td>1</td>\n",
       "      <td>1</td>\n",
       "      <td>1.757</td>\n",
       "      <td>3.262</td>\n",
       "      <td>48.936</td>\n",
       "      <td>209.045</td>\n",
       "    </tr>\n",
       "    <tr>\n",
       "      <th>5903</th>\n",
       "      <td>19528</td>\n",
       "      <td>94</td>\n",
       "      <td>9471</td>\n",
       "      <td>0</td>\n",
       "      <td>22</td>\n",
       "      <td>1</td>\n",
       "      <td>1</td>\n",
       "      <td>1</td>\n",
       "      <td>1</td>\n",
       "      <td>1.757</td>\n",
       "      <td>3.262</td>\n",
       "      <td>48.936</td>\n",
       "      <td>209.045</td>\n",
       "    </tr>\n",
       "    <tr>\n",
       "      <th>5904</th>\n",
       "      <td>19531</td>\n",
       "      <td>94</td>\n",
       "      <td>9471</td>\n",
       "      <td>0</td>\n",
       "      <td>40</td>\n",
       "      <td>1</td>\n",
       "      <td>1</td>\n",
       "      <td>1</td>\n",
       "      <td>1</td>\n",
       "      <td>1.757</td>\n",
       "      <td>3.262</td>\n",
       "      <td>48.936</td>\n",
       "      <td>209.045</td>\n",
       "    </tr>\n",
       "    <tr>\n",
       "      <th>5905</th>\n",
       "      <td>19532</td>\n",
       "      <td>94</td>\n",
       "      <td>9471</td>\n",
       "      <td>0</td>\n",
       "      <td>38</td>\n",
       "      <td>1</td>\n",
       "      <td>0</td>\n",
       "      <td>1</td>\n",
       "      <td>1</td>\n",
       "      <td>1.757</td>\n",
       "      <td>3.262</td>\n",
       "      <td>48.936</td>\n",
       "      <td>209.045</td>\n",
       "    </tr>\n",
       "  </tbody>\n",
       "</table>\n",
       "<p>5906 rows × 13 columns</p>\n",
       "</div>"
      ],
      "text/plain": [
       "         ID  Provinsi  KodeKabKot  X1  X2  X3  X4  X5  X6     Z1      Z2  \\\n",
       "0         3        11        1101   1  39   0   0   1   1  1.077  15.075   \n",
       "1         5        11        1101   0  32   1   0   1   1  1.077  15.075   \n",
       "2         6        11        1101   1  32   1   0   1   1  1.077  15.075   \n",
       "3        10        11        1101   1  28   1   0   1   0  1.077  15.075   \n",
       "4        17        11        1101   0  31   1   0   1   1  1.077  15.075   \n",
       "...     ...       ...         ...  ..  ..  ..  ..  ..  ..    ...     ...   \n",
       "5901  19515        94        9471   1  39   0   1   1   1  1.757   3.262   \n",
       "5902  19525        94        9471   0  30   1   1   1   1  1.757   3.262   \n",
       "5903  19528        94        9471   0  22   1   1   1   1  1.757   3.262   \n",
       "5904  19531        94        9471   0  40   1   1   1   1  1.757   3.262   \n",
       "5905  19532        94        9471   0  38   1   0   1   1  1.757   3.262   \n",
       "\n",
       "          Z3       Z4  \n",
       "0     26.919  390.869  \n",
       "1     26.919  390.869  \n",
       "2     26.919  390.869  \n",
       "3     26.919  390.869  \n",
       "4     26.919  390.869  \n",
       "...      ...      ...  \n",
       "5901  48.936  209.045  \n",
       "5902  48.936  209.045  \n",
       "5903  48.936  209.045  \n",
       "5904  48.936  209.045  \n",
       "5905  48.936  209.045  \n",
       "\n",
       "[5906 rows x 13 columns]"
      ]
     },
     "execution_count": 4,
     "metadata": {},
     "output_type": "execute_result"
    }
   ],
   "source": [
    "datatest"
   ]
  },
  {
   "cell_type": "code",
   "execution_count": 5,
   "metadata": {
    "colab": {
     "base_uri": "https://localhost:8080/",
     "height": 174
    },
    "id": "blSExi9Km0Y5",
    "outputId": "f28fcbd5-b7d7-4cde-9dcd-f462bff85dc5"
   },
   "outputs": [
    {
     "data": {
      "text/html": [
       "<div>\n",
       "<style scoped>\n",
       "    .dataframe tbody tr th:only-of-type {\n",
       "        vertical-align: middle;\n",
       "    }\n",
       "\n",
       "    .dataframe tbody tr th {\n",
       "        vertical-align: top;\n",
       "    }\n",
       "\n",
       "    .dataframe thead th {\n",
       "        text-align: right;\n",
       "    }\n",
       "</style>\n",
       "<table border=\"1\" class=\"dataframe\">\n",
       "  <thead>\n",
       "    <tr style=\"text-align: right;\">\n",
       "      <th></th>\n",
       "      <th>ID</th>\n",
       "      <th>Provinsi</th>\n",
       "      <th>KodeKabKot</th>\n",
       "      <th>Y</th>\n",
       "      <th>X1</th>\n",
       "      <th>X2</th>\n",
       "      <th>X3</th>\n",
       "      <th>X4</th>\n",
       "      <th>X5</th>\n",
       "      <th>X6</th>\n",
       "      <th>Z1</th>\n",
       "      <th>Z2</th>\n",
       "      <th>Z3</th>\n",
       "      <th>Z4</th>\n",
       "    </tr>\n",
       "  </thead>\n",
       "  <tbody>\n",
       "    <tr>\n",
       "      <th>count</th>\n",
       "      <td>13626.000000</td>\n",
       "      <td>13626.000000</td>\n",
       "      <td>13626.000000</td>\n",
       "      <td>13626.000000</td>\n",
       "      <td>13626.000000</td>\n",
       "      <td>13626.000000</td>\n",
       "      <td>13626.000000</td>\n",
       "      <td>13626.000000</td>\n",
       "      <td>13626.000000</td>\n",
       "      <td>13626.000000</td>\n",
       "      <td>13626.000000</td>\n",
       "      <td>13626.000000</td>\n",
       "      <td>13626.000000</td>\n",
       "      <td>13621.000000</td>\n",
       "    </tr>\n",
       "    <tr>\n",
       "      <th>mean</th>\n",
       "      <td>9763.218406</td>\n",
       "      <td>44.562601</td>\n",
       "      <td>4477.179363</td>\n",
       "      <td>0.409511</td>\n",
       "      <td>0.610744</td>\n",
       "      <td>30.380229</td>\n",
       "      <td>0.487817</td>\n",
       "      <td>0.401805</td>\n",
       "      <td>0.813518</td>\n",
       "      <td>0.875899</td>\n",
       "      <td>1.227538</td>\n",
       "      <td>6.876482</td>\n",
       "      <td>35.597681</td>\n",
       "      <td>197.945368</td>\n",
       "    </tr>\n",
       "    <tr>\n",
       "      <th>std</th>\n",
       "      <td>5654.343886</td>\n",
       "      <td>26.377273</td>\n",
       "      <td>2633.993903</td>\n",
       "      <td>0.491762</td>\n",
       "      <td>0.487599</td>\n",
       "      <td>6.357110</td>\n",
       "      <td>0.499870</td>\n",
       "      <td>0.490281</td>\n",
       "      <td>0.389509</td>\n",
       "      <td>0.329709</td>\n",
       "      <td>1.059310</td>\n",
       "      <td>5.638141</td>\n",
       "      <td>33.103822</td>\n",
       "      <td>137.404420</td>\n",
       "    </tr>\n",
       "    <tr>\n",
       "      <th>min</th>\n",
       "      <td>1.000000</td>\n",
       "      <td>11.000000</td>\n",
       "      <td>1101.000000</td>\n",
       "      <td>0.000000</td>\n",
       "      <td>0.000000</td>\n",
       "      <td>14.000000</td>\n",
       "      <td>0.000000</td>\n",
       "      <td>0.000000</td>\n",
       "      <td>0.000000</td>\n",
       "      <td>0.000000</td>\n",
       "      <td>0.000000</td>\n",
       "      <td>0.369000</td>\n",
       "      <td>0.861000</td>\n",
       "      <td>20.183000</td>\n",
       "    </tr>\n",
       "    <tr>\n",
       "      <th>25%</th>\n",
       "      <td>4866.500000</td>\n",
       "      <td>18.000000</td>\n",
       "      <td>1804.000000</td>\n",
       "      <td>0.000000</td>\n",
       "      <td>0.000000</td>\n",
       "      <td>26.000000</td>\n",
       "      <td>0.000000</td>\n",
       "      <td>0.000000</td>\n",
       "      <td>1.000000</td>\n",
       "      <td>1.000000</td>\n",
       "      <td>0.564000</td>\n",
       "      <td>3.183000</td>\n",
       "      <td>16.744000</td>\n",
       "      <td>102.438000</td>\n",
       "    </tr>\n",
       "    <tr>\n",
       "      <th>50%</th>\n",
       "      <td>9773.500000</td>\n",
       "      <td>35.000000</td>\n",
       "      <td>3523.000000</td>\n",
       "      <td>0.000000</td>\n",
       "      <td>1.000000</td>\n",
       "      <td>30.000000</td>\n",
       "      <td>0.000000</td>\n",
       "      <td>0.000000</td>\n",
       "      <td>1.000000</td>\n",
       "      <td>1.000000</td>\n",
       "      <td>0.908000</td>\n",
       "      <td>4.965000</td>\n",
       "      <td>25.896000</td>\n",
       "      <td>163.192000</td>\n",
       "    </tr>\n",
       "    <tr>\n",
       "      <th>75%</th>\n",
       "      <td>14651.750000</td>\n",
       "      <td>71.000000</td>\n",
       "      <td>7171.000000</td>\n",
       "      <td>1.000000</td>\n",
       "      <td>1.000000</td>\n",
       "      <td>35.000000</td>\n",
       "      <td>1.000000</td>\n",
       "      <td>1.000000</td>\n",
       "      <td>1.000000</td>\n",
       "      <td>1.000000</td>\n",
       "      <td>1.473000</td>\n",
       "      <td>8.334000</td>\n",
       "      <td>39.854000</td>\n",
       "      <td>257.738000</td>\n",
       "    </tr>\n",
       "    <tr>\n",
       "      <th>max</th>\n",
       "      <td>19530.000000</td>\n",
       "      <td>94.000000</td>\n",
       "      <td>9471.000000</td>\n",
       "      <td>1.000000</td>\n",
       "      <td>1.000000</td>\n",
       "      <td>54.000000</td>\n",
       "      <td>1.000000</td>\n",
       "      <td>1.000000</td>\n",
       "      <td>1.000000</td>\n",
       "      <td>1.000000</td>\n",
       "      <td>6.960000</td>\n",
       "      <td>35.237000</td>\n",
       "      <td>291.322000</td>\n",
       "      <td>1400.875000</td>\n",
       "    </tr>\n",
       "  </tbody>\n",
       "</table>\n",
       "</div>"
      ],
      "text/plain": [
       "                 ID      Provinsi    KodeKabKot             Y            X1  \\\n",
       "count  13626.000000  13626.000000  13626.000000  13626.000000  13626.000000   \n",
       "mean    9763.218406     44.562601   4477.179363      0.409511      0.610744   \n",
       "std     5654.343886     26.377273   2633.993903      0.491762      0.487599   \n",
       "min        1.000000     11.000000   1101.000000      0.000000      0.000000   \n",
       "25%     4866.500000     18.000000   1804.000000      0.000000      0.000000   \n",
       "50%     9773.500000     35.000000   3523.000000      0.000000      1.000000   \n",
       "75%    14651.750000     71.000000   7171.000000      1.000000      1.000000   \n",
       "max    19530.000000     94.000000   9471.000000      1.000000      1.000000   \n",
       "\n",
       "                 X2            X3            X4            X5            X6  \\\n",
       "count  13626.000000  13626.000000  13626.000000  13626.000000  13626.000000   \n",
       "mean      30.380229      0.487817      0.401805      0.813518      0.875899   \n",
       "std        6.357110      0.499870      0.490281      0.389509      0.329709   \n",
       "min       14.000000      0.000000      0.000000      0.000000      0.000000   \n",
       "25%       26.000000      0.000000      0.000000      1.000000      1.000000   \n",
       "50%       30.000000      0.000000      0.000000      1.000000      1.000000   \n",
       "75%       35.000000      1.000000      1.000000      1.000000      1.000000   \n",
       "max       54.000000      1.000000      1.000000      1.000000      1.000000   \n",
       "\n",
       "                 Z1            Z2            Z3            Z4  \n",
       "count  13626.000000  13626.000000  13626.000000  13621.000000  \n",
       "mean       1.227538      6.876482     35.597681    197.945368  \n",
       "std        1.059310      5.638141     33.103822    137.404420  \n",
       "min        0.000000      0.369000      0.861000     20.183000  \n",
       "25%        0.564000      3.183000     16.744000    102.438000  \n",
       "50%        0.908000      4.965000     25.896000    163.192000  \n",
       "75%        1.473000      8.334000     39.854000    257.738000  \n",
       "max        6.960000     35.237000    291.322000   1400.875000  "
      ]
     },
     "execution_count": 5,
     "metadata": {},
     "output_type": "execute_result"
    }
   ],
   "source": [
    "datatrain.describe()"
   ]
  },
  {
   "cell_type": "markdown",
   "metadata": {
    "id": "_tCzu2oV24en"
   },
   "source": [
    "Checking null"
   ]
  },
  {
   "cell_type": "code",
   "execution_count": 6,
   "metadata": {
    "colab": {
     "base_uri": "https://localhost:8080/"
    },
    "id": "e8Vfv5SkN78V",
    "outputId": "40de37ff-5768-43fb-a0d2-41929d2291eb"
   },
   "outputs": [
    {
     "name": "stdout",
     "output_type": "stream",
     "text": [
      "False    13626\n",
      "Name: ID, dtype: int64\n",
      "\n",
      "False    13626\n",
      "Name: Provinsi, dtype: int64\n",
      "\n",
      "False    13626\n",
      "Name: KodeKabKot, dtype: int64\n",
      "\n",
      "False    13626\n",
      "Name: Y, dtype: int64\n",
      "\n",
      "False    13626\n",
      "Name: X1, dtype: int64\n",
      "\n",
      "False    13626\n",
      "Name: X2, dtype: int64\n",
      "\n",
      "False    13626\n",
      "Name: X3, dtype: int64\n",
      "\n",
      "False    13626\n",
      "Name: X4, dtype: int64\n",
      "\n",
      "False    13626\n",
      "Name: X5, dtype: int64\n",
      "\n",
      "False    13626\n",
      "Name: X6, dtype: int64\n",
      "\n",
      "False    13626\n",
      "Name: Z1, dtype: int64\n",
      "\n",
      "False    13626\n",
      "Name: Z2, dtype: int64\n",
      "\n",
      "False    13626\n",
      "Name: Z3, dtype: int64\n",
      "\n",
      "False    13626\n",
      "Name: Z4, dtype: int64\n",
      "\n"
     ]
    }
   ],
   "source": [
    "# data['workclass'].value_counts()\n",
    "for x in datatrain.columns :\n",
    "  print((datatrain[x] == '?').value_counts())\n",
    "  print()"
   ]
  },
  {
   "cell_type": "markdown",
   "metadata": {},
   "source": [
    "**Drop baris dan kolom pada tabel yang mengandung null**"
   ]
  },
  {
   "cell_type": "markdown",
   "metadata": {},
   "source": [
    "**Lihat tabel dan struktur nya**"
   ]
  },
  {
   "cell_type": "code",
   "execution_count": 7,
   "metadata": {
    "colab": {
     "base_uri": "https://localhost:8080/",
     "height": 542
    },
    "id": "rUee6SdVMHbc",
    "outputId": "02452211-486b-4304-bfcb-f2bb3f9ff869"
   },
   "outputs": [
    {
     "name": "stdout",
     "output_type": "stream",
     "text": [
      "          ID  Provinsi  KodeKabKot  Y  X1  X2  X3  X4  X5  X6     Z1      Z2  \\\n",
      "0          1        11        1101  0   1  27   0   0   1   1  1.077  15.075   \n",
      "1          2        11        1101  0   1  38   0   0   1   0  1.077  15.075   \n",
      "2          4        11        1101  0   0  36   0   0   0   1  1.077  15.075   \n",
      "3          7        11        1101  0   0  27   0   0   1   1  1.077  15.075   \n",
      "4          8        11        1101  0   1  36   1   0   0   0  1.077  15.075   \n",
      "...      ...       ...         ... ..  ..  ..  ..  ..  ..  ..    ...     ...   \n",
      "13621  19524        94        9471  1   0  28   1   0   1   1  1.757   3.262   \n",
      "13622  19526        94        9471  0   1  22   1   1   1   1  1.757   3.262   \n",
      "13623  19527        94        9471  0   0  35   1   0   1   1  1.757   3.262   \n",
      "13624  19529        94        9471  0   0  27   1   0   1   1  1.757   3.262   \n",
      "13625  19530        94        9471  1   0  39   1   1   1   1  1.757   3.262   \n",
      "\n",
      "           Z3       Z4  \n",
      "0      26.919  390.869  \n",
      "1      26.919  390.869  \n",
      "2      26.919  390.869  \n",
      "3      26.919  390.869  \n",
      "4      26.919  390.869  \n",
      "...       ...      ...  \n",
      "13621  48.936  209.045  \n",
      "13622  48.936  209.045  \n",
      "13623  48.936  209.045  \n",
      "13624  48.936  209.045  \n",
      "13625  48.936  209.045  \n",
      "\n",
      "[13626 rows x 14 columns]\n"
     ]
    },
    {
     "data": {
      "text/html": [
       "<div>\n",
       "<style scoped>\n",
       "    .dataframe tbody tr th:only-of-type {\n",
       "        vertical-align: middle;\n",
       "    }\n",
       "\n",
       "    .dataframe tbody tr th {\n",
       "        vertical-align: top;\n",
       "    }\n",
       "\n",
       "    .dataframe thead th {\n",
       "        text-align: right;\n",
       "    }\n",
       "</style>\n",
       "<table border=\"1\" class=\"dataframe\">\n",
       "  <thead>\n",
       "    <tr style=\"text-align: right;\">\n",
       "      <th></th>\n",
       "      <th>ID</th>\n",
       "      <th>Provinsi</th>\n",
       "      <th>KodeKabKot</th>\n",
       "      <th>Y</th>\n",
       "      <th>X1</th>\n",
       "      <th>X2</th>\n",
       "      <th>X3</th>\n",
       "      <th>X4</th>\n",
       "      <th>X5</th>\n",
       "      <th>X6</th>\n",
       "      <th>Z1</th>\n",
       "      <th>Z2</th>\n",
       "      <th>Z3</th>\n",
       "      <th>Z4</th>\n",
       "    </tr>\n",
       "  </thead>\n",
       "  <tbody>\n",
       "    <tr>\n",
       "      <th>count</th>\n",
       "      <td>13626.000000</td>\n",
       "      <td>13626.000000</td>\n",
       "      <td>13626.000000</td>\n",
       "      <td>13626.000000</td>\n",
       "      <td>13626.000000</td>\n",
       "      <td>13626.000000</td>\n",
       "      <td>13626.000000</td>\n",
       "      <td>13626.000000</td>\n",
       "      <td>13626.000000</td>\n",
       "      <td>13626.000000</td>\n",
       "      <td>13626.000000</td>\n",
       "      <td>13626.000000</td>\n",
       "      <td>13626.000000</td>\n",
       "      <td>13621.000000</td>\n",
       "    </tr>\n",
       "    <tr>\n",
       "      <th>mean</th>\n",
       "      <td>9763.218406</td>\n",
       "      <td>44.562601</td>\n",
       "      <td>4477.179363</td>\n",
       "      <td>0.409511</td>\n",
       "      <td>0.610744</td>\n",
       "      <td>30.380229</td>\n",
       "      <td>0.487817</td>\n",
       "      <td>0.401805</td>\n",
       "      <td>0.813518</td>\n",
       "      <td>0.875899</td>\n",
       "      <td>1.227538</td>\n",
       "      <td>6.876482</td>\n",
       "      <td>35.597681</td>\n",
       "      <td>197.945368</td>\n",
       "    </tr>\n",
       "    <tr>\n",
       "      <th>std</th>\n",
       "      <td>5654.343886</td>\n",
       "      <td>26.377273</td>\n",
       "      <td>2633.993903</td>\n",
       "      <td>0.491762</td>\n",
       "      <td>0.487599</td>\n",
       "      <td>6.357110</td>\n",
       "      <td>0.499870</td>\n",
       "      <td>0.490281</td>\n",
       "      <td>0.389509</td>\n",
       "      <td>0.329709</td>\n",
       "      <td>1.059310</td>\n",
       "      <td>5.638141</td>\n",
       "      <td>33.103822</td>\n",
       "      <td>137.404420</td>\n",
       "    </tr>\n",
       "    <tr>\n",
       "      <th>min</th>\n",
       "      <td>1.000000</td>\n",
       "      <td>11.000000</td>\n",
       "      <td>1101.000000</td>\n",
       "      <td>0.000000</td>\n",
       "      <td>0.000000</td>\n",
       "      <td>14.000000</td>\n",
       "      <td>0.000000</td>\n",
       "      <td>0.000000</td>\n",
       "      <td>0.000000</td>\n",
       "      <td>0.000000</td>\n",
       "      <td>0.000000</td>\n",
       "      <td>0.369000</td>\n",
       "      <td>0.861000</td>\n",
       "      <td>20.183000</td>\n",
       "    </tr>\n",
       "    <tr>\n",
       "      <th>25%</th>\n",
       "      <td>4866.500000</td>\n",
       "      <td>18.000000</td>\n",
       "      <td>1804.000000</td>\n",
       "      <td>0.000000</td>\n",
       "      <td>0.000000</td>\n",
       "      <td>26.000000</td>\n",
       "      <td>0.000000</td>\n",
       "      <td>0.000000</td>\n",
       "      <td>1.000000</td>\n",
       "      <td>1.000000</td>\n",
       "      <td>0.564000</td>\n",
       "      <td>3.183000</td>\n",
       "      <td>16.744000</td>\n",
       "      <td>102.438000</td>\n",
       "    </tr>\n",
       "    <tr>\n",
       "      <th>50%</th>\n",
       "      <td>9773.500000</td>\n",
       "      <td>35.000000</td>\n",
       "      <td>3523.000000</td>\n",
       "      <td>0.000000</td>\n",
       "      <td>1.000000</td>\n",
       "      <td>30.000000</td>\n",
       "      <td>0.000000</td>\n",
       "      <td>0.000000</td>\n",
       "      <td>1.000000</td>\n",
       "      <td>1.000000</td>\n",
       "      <td>0.908000</td>\n",
       "      <td>4.965000</td>\n",
       "      <td>25.896000</td>\n",
       "      <td>163.192000</td>\n",
       "    </tr>\n",
       "    <tr>\n",
       "      <th>75%</th>\n",
       "      <td>14651.750000</td>\n",
       "      <td>71.000000</td>\n",
       "      <td>7171.000000</td>\n",
       "      <td>1.000000</td>\n",
       "      <td>1.000000</td>\n",
       "      <td>35.000000</td>\n",
       "      <td>1.000000</td>\n",
       "      <td>1.000000</td>\n",
       "      <td>1.000000</td>\n",
       "      <td>1.000000</td>\n",
       "      <td>1.473000</td>\n",
       "      <td>8.334000</td>\n",
       "      <td>39.854000</td>\n",
       "      <td>257.738000</td>\n",
       "    </tr>\n",
       "    <tr>\n",
       "      <th>max</th>\n",
       "      <td>19530.000000</td>\n",
       "      <td>94.000000</td>\n",
       "      <td>9471.000000</td>\n",
       "      <td>1.000000</td>\n",
       "      <td>1.000000</td>\n",
       "      <td>54.000000</td>\n",
       "      <td>1.000000</td>\n",
       "      <td>1.000000</td>\n",
       "      <td>1.000000</td>\n",
       "      <td>1.000000</td>\n",
       "      <td>6.960000</td>\n",
       "      <td>35.237000</td>\n",
       "      <td>291.322000</td>\n",
       "      <td>1400.875000</td>\n",
       "    </tr>\n",
       "  </tbody>\n",
       "</table>\n",
       "</div>"
      ],
      "text/plain": [
       "                 ID      Provinsi    KodeKabKot             Y            X1  \\\n",
       "count  13626.000000  13626.000000  13626.000000  13626.000000  13626.000000   \n",
       "mean    9763.218406     44.562601   4477.179363      0.409511      0.610744   \n",
       "std     5654.343886     26.377273   2633.993903      0.491762      0.487599   \n",
       "min        1.000000     11.000000   1101.000000      0.000000      0.000000   \n",
       "25%     4866.500000     18.000000   1804.000000      0.000000      0.000000   \n",
       "50%     9773.500000     35.000000   3523.000000      0.000000      1.000000   \n",
       "75%    14651.750000     71.000000   7171.000000      1.000000      1.000000   \n",
       "max    19530.000000     94.000000   9471.000000      1.000000      1.000000   \n",
       "\n",
       "                 X2            X3            X4            X5            X6  \\\n",
       "count  13626.000000  13626.000000  13626.000000  13626.000000  13626.000000   \n",
       "mean      30.380229      0.487817      0.401805      0.813518      0.875899   \n",
       "std        6.357110      0.499870      0.490281      0.389509      0.329709   \n",
       "min       14.000000      0.000000      0.000000      0.000000      0.000000   \n",
       "25%       26.000000      0.000000      0.000000      1.000000      1.000000   \n",
       "50%       30.000000      0.000000      0.000000      1.000000      1.000000   \n",
       "75%       35.000000      1.000000      1.000000      1.000000      1.000000   \n",
       "max       54.000000      1.000000      1.000000      1.000000      1.000000   \n",
       "\n",
       "                 Z1            Z2            Z3            Z4  \n",
       "count  13626.000000  13626.000000  13626.000000  13621.000000  \n",
       "mean       1.227538      6.876482     35.597681    197.945368  \n",
       "std        1.059310      5.638141     33.103822    137.404420  \n",
       "min        0.000000      0.369000      0.861000     20.183000  \n",
       "25%        0.564000      3.183000     16.744000    102.438000  \n",
       "50%        0.908000      4.965000     25.896000    163.192000  \n",
       "75%        1.473000      8.334000     39.854000    257.738000  \n",
       "max        6.960000     35.237000    291.322000   1400.875000  "
      ]
     },
     "execution_count": 7,
     "metadata": {},
     "output_type": "execute_result"
    }
   ],
   "source": [
    "# get some rows informations\n",
    "print(datatrain)\n",
    "\n",
    "# describe the data\n",
    "datatrain.describe()"
   ]
  },
  {
   "cell_type": "markdown",
   "metadata": {},
   "source": [
    "**Cek type data**"
   ]
  },
  {
   "cell_type": "code",
   "execution_count": 8,
   "metadata": {
    "colab": {
     "base_uri": "https://localhost:8080/"
    },
    "id": "LRuI6ukCMLcb",
    "outputId": "f9d95ae7-4d41-4e32-ef3e-b95f0d488fb8"
   },
   "outputs": [
    {
     "name": "stdout",
     "output_type": "stream",
     "text": [
      "<class 'pandas.core.frame.DataFrame'>\n",
      "RangeIndex: 13626 entries, 0 to 13625\n",
      "Data columns (total 14 columns):\n",
      " #   Column      Non-Null Count  Dtype  \n",
      "---  ------      --------------  -----  \n",
      " 0   ID          13626 non-null  int64  \n",
      " 1   Provinsi    13626 non-null  int64  \n",
      " 2   KodeKabKot  13626 non-null  int64  \n",
      " 3   Y           13626 non-null  int64  \n",
      " 4   X1          13626 non-null  int64  \n",
      " 5   X2          13626 non-null  int64  \n",
      " 6   X3          13626 non-null  int64  \n",
      " 7   X4          13626 non-null  int64  \n",
      " 8   X5          13626 non-null  int64  \n",
      " 9   X6          13626 non-null  int64  \n",
      " 10  Z1          13626 non-null  float64\n",
      " 11  Z2          13626 non-null  float64\n",
      " 12  Z3          13626 non-null  float64\n",
      " 13  Z4          13621 non-null  float64\n",
      "dtypes: float64(4), int64(10)\n",
      "memory usage: 1.5 MB\n"
     ]
    }
   ],
   "source": [
    "datatrain.info()"
   ]
  },
  {
   "cell_type": "markdown",
   "metadata": {},
   "source": [
    "**Lihat tabel 10 baris pertama**"
   ]
  },
  {
   "cell_type": "code",
   "execution_count": 9,
   "metadata": {
    "colab": {
     "base_uri": "https://localhost:8080/",
     "height": 696
    },
    "id": "rAmQwRGPMPIg",
    "outputId": "f360d45a-5c05-45d3-9a04-56d720ca4338"
   },
   "outputs": [
    {
     "data": {
      "text/html": [
       "<div>\n",
       "<style scoped>\n",
       "    .dataframe tbody tr th:only-of-type {\n",
       "        vertical-align: middle;\n",
       "    }\n",
       "\n",
       "    .dataframe tbody tr th {\n",
       "        vertical-align: top;\n",
       "    }\n",
       "\n",
       "    .dataframe thead th {\n",
       "        text-align: right;\n",
       "    }\n",
       "</style>\n",
       "<table border=\"1\" class=\"dataframe\">\n",
       "  <thead>\n",
       "    <tr style=\"text-align: right;\">\n",
       "      <th></th>\n",
       "      <th>ID</th>\n",
       "      <th>Provinsi</th>\n",
       "      <th>KodeKabKot</th>\n",
       "      <th>Y</th>\n",
       "      <th>X1</th>\n",
       "      <th>X2</th>\n",
       "      <th>X3</th>\n",
       "      <th>X4</th>\n",
       "      <th>X5</th>\n",
       "      <th>X6</th>\n",
       "      <th>Z1</th>\n",
       "      <th>Z2</th>\n",
       "      <th>Z3</th>\n",
       "      <th>Z4</th>\n",
       "    </tr>\n",
       "  </thead>\n",
       "  <tbody>\n",
       "    <tr>\n",
       "      <th>0</th>\n",
       "      <td>1</td>\n",
       "      <td>11</td>\n",
       "      <td>1101</td>\n",
       "      <td>0</td>\n",
       "      <td>1</td>\n",
       "      <td>27</td>\n",
       "      <td>0</td>\n",
       "      <td>0</td>\n",
       "      <td>1</td>\n",
       "      <td>1</td>\n",
       "      <td>1.077</td>\n",
       "      <td>15.075</td>\n",
       "      <td>26.919</td>\n",
       "      <td>390.869</td>\n",
       "    </tr>\n",
       "    <tr>\n",
       "      <th>1</th>\n",
       "      <td>2</td>\n",
       "      <td>11</td>\n",
       "      <td>1101</td>\n",
       "      <td>0</td>\n",
       "      <td>1</td>\n",
       "      <td>38</td>\n",
       "      <td>0</td>\n",
       "      <td>0</td>\n",
       "      <td>1</td>\n",
       "      <td>0</td>\n",
       "      <td>1.077</td>\n",
       "      <td>15.075</td>\n",
       "      <td>26.919</td>\n",
       "      <td>390.869</td>\n",
       "    </tr>\n",
       "    <tr>\n",
       "      <th>2</th>\n",
       "      <td>4</td>\n",
       "      <td>11</td>\n",
       "      <td>1101</td>\n",
       "      <td>0</td>\n",
       "      <td>0</td>\n",
       "      <td>36</td>\n",
       "      <td>0</td>\n",
       "      <td>0</td>\n",
       "      <td>0</td>\n",
       "      <td>1</td>\n",
       "      <td>1.077</td>\n",
       "      <td>15.075</td>\n",
       "      <td>26.919</td>\n",
       "      <td>390.869</td>\n",
       "    </tr>\n",
       "    <tr>\n",
       "      <th>3</th>\n",
       "      <td>7</td>\n",
       "      <td>11</td>\n",
       "      <td>1101</td>\n",
       "      <td>0</td>\n",
       "      <td>0</td>\n",
       "      <td>27</td>\n",
       "      <td>0</td>\n",
       "      <td>0</td>\n",
       "      <td>1</td>\n",
       "      <td>1</td>\n",
       "      <td>1.077</td>\n",
       "      <td>15.075</td>\n",
       "      <td>26.919</td>\n",
       "      <td>390.869</td>\n",
       "    </tr>\n",
       "    <tr>\n",
       "      <th>4</th>\n",
       "      <td>8</td>\n",
       "      <td>11</td>\n",
       "      <td>1101</td>\n",
       "      <td>0</td>\n",
       "      <td>1</td>\n",
       "      <td>36</td>\n",
       "      <td>1</td>\n",
       "      <td>0</td>\n",
       "      <td>0</td>\n",
       "      <td>0</td>\n",
       "      <td>1.077</td>\n",
       "      <td>15.075</td>\n",
       "      <td>26.919</td>\n",
       "      <td>390.869</td>\n",
       "    </tr>\n",
       "    <tr>\n",
       "      <th>5</th>\n",
       "      <td>9</td>\n",
       "      <td>11</td>\n",
       "      <td>1101</td>\n",
       "      <td>1</td>\n",
       "      <td>1</td>\n",
       "      <td>20</td>\n",
       "      <td>0</td>\n",
       "      <td>1</td>\n",
       "      <td>1</td>\n",
       "      <td>0</td>\n",
       "      <td>1.077</td>\n",
       "      <td>15.075</td>\n",
       "      <td>26.919</td>\n",
       "      <td>390.869</td>\n",
       "    </tr>\n",
       "    <tr>\n",
       "      <th>6</th>\n",
       "      <td>11</td>\n",
       "      <td>11</td>\n",
       "      <td>1101</td>\n",
       "      <td>0</td>\n",
       "      <td>1</td>\n",
       "      <td>27</td>\n",
       "      <td>0</td>\n",
       "      <td>1</td>\n",
       "      <td>1</td>\n",
       "      <td>1</td>\n",
       "      <td>1.077</td>\n",
       "      <td>15.075</td>\n",
       "      <td>26.919</td>\n",
       "      <td>390.869</td>\n",
       "    </tr>\n",
       "    <tr>\n",
       "      <th>7</th>\n",
       "      <td>12</td>\n",
       "      <td>11</td>\n",
       "      <td>1101</td>\n",
       "      <td>0</td>\n",
       "      <td>0</td>\n",
       "      <td>36</td>\n",
       "      <td>1</td>\n",
       "      <td>0</td>\n",
       "      <td>1</td>\n",
       "      <td>1</td>\n",
       "      <td>1.077</td>\n",
       "      <td>15.075</td>\n",
       "      <td>26.919</td>\n",
       "      <td>390.869</td>\n",
       "    </tr>\n",
       "    <tr>\n",
       "      <th>8</th>\n",
       "      <td>13</td>\n",
       "      <td>11</td>\n",
       "      <td>1101</td>\n",
       "      <td>0</td>\n",
       "      <td>0</td>\n",
       "      <td>33</td>\n",
       "      <td>1</td>\n",
       "      <td>0</td>\n",
       "      <td>1</td>\n",
       "      <td>1</td>\n",
       "      <td>1.077</td>\n",
       "      <td>15.075</td>\n",
       "      <td>26.919</td>\n",
       "      <td>390.869</td>\n",
       "    </tr>\n",
       "    <tr>\n",
       "      <th>9</th>\n",
       "      <td>14</td>\n",
       "      <td>11</td>\n",
       "      <td>1101</td>\n",
       "      <td>0</td>\n",
       "      <td>1</td>\n",
       "      <td>23</td>\n",
       "      <td>1</td>\n",
       "      <td>0</td>\n",
       "      <td>1</td>\n",
       "      <td>1</td>\n",
       "      <td>1.077</td>\n",
       "      <td>15.075</td>\n",
       "      <td>26.919</td>\n",
       "      <td>390.869</td>\n",
       "    </tr>\n",
       "  </tbody>\n",
       "</table>\n",
       "</div>"
      ],
      "text/plain": [
       "   ID  Provinsi  KodeKabKot  Y  X1  X2  X3  X4  X5  X6     Z1      Z2      Z3  \\\n",
       "0   1        11        1101  0   1  27   0   0   1   1  1.077  15.075  26.919   \n",
       "1   2        11        1101  0   1  38   0   0   1   0  1.077  15.075  26.919   \n",
       "2   4        11        1101  0   0  36   0   0   0   1  1.077  15.075  26.919   \n",
       "3   7        11        1101  0   0  27   0   0   1   1  1.077  15.075  26.919   \n",
       "4   8        11        1101  0   1  36   1   0   0   0  1.077  15.075  26.919   \n",
       "5   9        11        1101  1   1  20   0   1   1   0  1.077  15.075  26.919   \n",
       "6  11        11        1101  0   1  27   0   1   1   1  1.077  15.075  26.919   \n",
       "7  12        11        1101  0   0  36   1   0   1   1  1.077  15.075  26.919   \n",
       "8  13        11        1101  0   0  33   1   0   1   1  1.077  15.075  26.919   \n",
       "9  14        11        1101  0   1  23   1   0   1   1  1.077  15.075  26.919   \n",
       "\n",
       "        Z4  \n",
       "0  390.869  \n",
       "1  390.869  \n",
       "2  390.869  \n",
       "3  390.869  \n",
       "4  390.869  \n",
       "5  390.869  \n",
       "6  390.869  \n",
       "7  390.869  \n",
       "8  390.869  \n",
       "9  390.869  "
      ]
     },
     "execution_count": 9,
     "metadata": {},
     "output_type": "execute_result"
    }
   ],
   "source": [
    "datatrain.head(10)"
   ]
  },
  {
   "cell_type": "code",
   "execution_count": 10,
   "metadata": {},
   "outputs": [],
   "source": [
    "datatrain = datatrain.fillna(datatrain.median())\n",
    "datatest = datatest.fillna(datatest.median())"
   ]
  },
  {
   "cell_type": "code",
   "execution_count": 11,
   "metadata": {
    "colab": {
     "base_uri": "https://localhost:8080/"
    },
    "id": "en-0AFNQY0zD",
    "outputId": "64e6769b-f912-4ca6-fe7a-c3ff75446780"
   },
   "outputs": [
    {
     "name": "stdout",
     "output_type": "stream",
     "text": [
      "<class 'pandas.core.frame.DataFrame'>\n",
      "RangeIndex: 13626 entries, 0 to 13625\n",
      "Data columns (total 14 columns):\n",
      " #   Column      Non-Null Count  Dtype  \n",
      "---  ------      --------------  -----  \n",
      " 0   ID          13626 non-null  int64  \n",
      " 1   Provinsi    13626 non-null  int64  \n",
      " 2   KodeKabKot  13626 non-null  int64  \n",
      " 3   Y           13626 non-null  int64  \n",
      " 4   X1          13626 non-null  int64  \n",
      " 5   X2          13626 non-null  int64  \n",
      " 6   X3          13626 non-null  int64  \n",
      " 7   X4          13626 non-null  int64  \n",
      " 8   X5          13626 non-null  int64  \n",
      " 9   X6          13626 non-null  int64  \n",
      " 10  Z1          13626 non-null  float64\n",
      " 11  Z2          13626 non-null  float64\n",
      " 12  Z3          13626 non-null  float64\n",
      " 13  Z4          13626 non-null  float64\n",
      "dtypes: float64(4), int64(10)\n",
      "memory usage: 1.5 MB\n"
     ]
    }
   ],
   "source": [
    "datatrain.info()"
   ]
  },
  {
   "cell_type": "markdown",
   "metadata": {
    "id": "aQ1i0DDV4KNJ"
   },
   "source": [
    "Changing categorical data"
   ]
  },
  {
   "cell_type": "markdown",
   "metadata": {
    "id": "W7Sq_WFj4jca"
   },
   "source": [
    "# Define X and Y"
   ]
  },
  {
   "cell_type": "code",
   "execution_count": 12,
   "metadata": {
    "id": "LpRlmLlKsnpn"
   },
   "outputs": [],
   "source": [
    "#dfx = datatrain.drop(columns='TARGET LABEL (SYMPTOM TIME)')\n",
    "datatestbuatmodel = datatrain.drop(columns='Y')"
   ]
  },
  {
   "cell_type": "code",
   "execution_count": null,
   "metadata": {},
   "outputs": [],
   "source": []
  },
  {
   "cell_type": "code",
   "execution_count": 13,
   "metadata": {
    "id": "ZBPAeWvhs9_K"
   },
   "outputs": [],
   "source": [
    "#dfy = df['TARGET LABEL (SYMPTOM TIME)']\n",
    "datatestybuatmodel = datatrain['Y']"
   ]
  },
  {
   "cell_type": "markdown",
   "metadata": {
    "id": "5WraBTut4o86"
   },
   "source": [
    "# Split Train and Test Data"
   ]
  },
  {
   "cell_type": "code",
   "execution_count": 14,
   "metadata": {
    "id": "Ibl9rzbItGhl"
   },
   "outputs": [],
   "source": [
    "from sklearn.model_selection import train_test_split"
   ]
  },
  {
   "cell_type": "code",
   "execution_count": 15,
   "metadata": {
    "id": "uNfv_kHOtGx5"
   },
   "outputs": [],
   "source": [
    "X_train, X_test, y_train, y_test = train_test_split(datatestbuatmodel, datatestybuatmodel, test_size=0.30, random_state=0)"
   ]
  },
  {
   "cell_type": "markdown",
   "metadata": {
    "id": "hXuatUBv4y96"
   },
   "source": [
    "# Modeling "
   ]
  },
  {
   "cell_type": "markdown",
   "metadata": {
    "id": "JLLlFGov5Xl6"
   },
   "source": [
    "AdaBoost Classifier default parameters\n"
   ]
  },
  {
   "cell_type": "code",
   "execution_count": 17,
   "metadata": {
    "colab": {
     "base_uri": "https://localhost:8080/"
    },
    "id": "him1R9KutMON",
    "outputId": "8fe110dd-8438-4f77-c168-2ff309bfa546"
   },
   "outputs": [
    {
     "data": {
      "text/plain": [
       "0.6421232876712328"
      ]
     },
     "execution_count": 17,
     "metadata": {},
     "output_type": "execute_result"
    }
   ],
   "source": [
    "abc = AdaBoostClassifier()\n",
    "abc.fit(X_train, y_train)\n",
    "y_pred = abc.predict(X_test)\n",
    "accuracy_score(y_test, y_pred)"
   ]
  },
  {
   "cell_type": "code",
   "execution_count": 18,
   "metadata": {},
   "outputs": [
    {
     "name": "stdout",
     "output_type": "stream",
     "text": [
      "              precision    recall  f1-score   support\n",
      "\n",
      "           0       0.69      0.70      0.70      2401\n",
      "           1       0.57      0.56      0.57      1687\n",
      "\n",
      "    accuracy                           0.64      4088\n",
      "   macro avg       0.63      0.63      0.63      4088\n",
      "weighted avg       0.64      0.64      0.64      4088\n",
      "\n"
     ]
    }
   ],
   "source": [
    "from sklearn.metrics import classification_report,accuracy_score\n",
    "from sklearn.metrics import confusion_matrix,ConfusionMatrixDisplay\n",
    "print(classification_report(y_test, y_pred))"
   ]
  },
  {
   "cell_type": "markdown",
   "metadata": {
    "id": "UGBzUMOi5fnh"
   },
   "source": [
    "Parameters tuning with gridsearchcv"
   ]
  },
  {
   "cell_type": "code",
   "execution_count": 19,
   "metadata": {
    "colab": {
     "base_uri": "https://localhost:8080/"
    },
    "id": "mB68qfxTtoMV",
    "outputId": "205d1cce-755a-4056-f040-59ab776a8c70"
   },
   "outputs": [
    {
     "name": "stdout",
     "output_type": "stream",
     "text": [
      "Best parameter:  {'learning_rate': 1, 'n_estimators': 100}\n"
     ]
    }
   ],
   "source": [
    "import warnings\n",
    "warnings.filterwarnings('ignore')\n",
    "from sklearn.model_selection import GridSearchCV\n",
    "\n",
    "model = AdaBoostClassifier(random_state=100)\n",
    "params = {\n",
    "    'n_estimators':(50,100),\n",
    "    'learning_rate':[0.5, 1]\n",
    "}\n",
    "gs = GridSearchCV(model, params)\n",
    "gs.fit(X_train, y_train)\n",
    "y_pred = gs.predict(X_test)\n",
    "print('Best parameter: ', gs.best_params_)"
   ]
  },
  {
   "cell_type": "markdown",
   "metadata": {
    "id": "Rj6plQ4n5iLU"
   },
   "source": [
    "AdaBoost Classifier with best parameter"
   ]
  },
  {
   "cell_type": "code",
   "execution_count": 20,
   "metadata": {
    "colab": {
     "base_uri": "https://localhost:8080/"
    },
    "id": "2L3PuwA9t6R8",
    "outputId": "86739334-bfe8-49b8-ca8b-efcccf6ab35f"
   },
   "outputs": [
    {
     "data": {
      "text/plain": [
       "0.6433463796477495"
      ]
     },
     "execution_count": 20,
     "metadata": {},
     "output_type": "execute_result"
    }
   ],
   "source": [
    "abc = AdaBoostClassifier(learning_rate=1, n_estimators=100)\n",
    "abc.fit(X_train, y_train)\n",
    "y_pred = abc.predict(X_test)\n",
    "accuracy_score(y_test, y_pred)"
   ]
  },
  {
   "cell_type": "code",
   "execution_count": 21,
   "metadata": {},
   "outputs": [
    {
     "name": "stdout",
     "output_type": "stream",
     "text": [
      "              precision    recall  f1-score   support\n",
      "\n",
      "           0       0.69      0.71      0.70      2401\n",
      "           1       0.57      0.55      0.56      1687\n",
      "\n",
      "    accuracy                           0.64      4088\n",
      "   macro avg       0.63      0.63      0.63      4088\n",
      "weighted avg       0.64      0.64      0.64      4088\n",
      "\n"
     ]
    }
   ],
   "source": [
    "print(classification_report(y_test, y_pred))"
   ]
  },
  {
   "cell_type": "markdown",
   "metadata": {
    "id": "Gs6BHj6t6DcI"
   },
   "source": [
    "GradientBoost with default parameters"
   ]
  },
  {
   "cell_type": "code",
   "execution_count": 22,
   "metadata": {
    "colab": {
     "base_uri": "https://localhost:8080/"
    },
    "id": "UqgEH59gtdnK",
    "outputId": "20e7207c-7aa6-4709-882d-f832b595e639"
   },
   "outputs": [
    {
     "data": {
      "text/plain": [
       "0.648972602739726"
      ]
     },
     "execution_count": 22,
     "metadata": {},
     "output_type": "execute_result"
    }
   ],
   "source": [
    "gbc = GradientBoostingClassifier()\n",
    "gbc.fit(X_train, y_train)\n",
    "y_pred = gbc.predict(X_test)\n",
    "accuracy_score(y_test, y_pred)"
   ]
  },
  {
   "cell_type": "code",
   "execution_count": 23,
   "metadata": {},
   "outputs": [
    {
     "name": "stdout",
     "output_type": "stream",
     "text": [
      "              precision    recall  f1-score   support\n",
      "\n",
      "           0       0.70      0.71      0.70      2401\n",
      "           1       0.58      0.57      0.57      1687\n",
      "\n",
      "    accuracy                           0.65      4088\n",
      "   macro avg       0.64      0.64      0.64      4088\n",
      "weighted avg       0.65      0.65      0.65      4088\n",
      "\n"
     ]
    }
   ],
   "source": [
    "print(classification_report(y_test, y_pred))"
   ]
  },
  {
   "cell_type": "markdown",
   "metadata": {
    "id": "NjlUEhne6Gwt"
   },
   "source": [
    "Parameters tuning"
   ]
  },
  {
   "cell_type": "code",
   "execution_count": null,
   "metadata": {
    "colab": {
     "base_uri": "https://localhost:8080/"
    },
    "id": "M_eTc-Z1tvuh",
    "outputId": "fcc424c2-90ab-4696-adb2-41617900eb23"
   },
   "outputs": [],
   "source": [
    "model = GradientBoostingClassifier(random_state=100)\n",
    "params = {\n",
    "        'n_estimators':range(1,50),\n",
    "        'learning_rate':[0.001, 0.01, 0.1, 0.2, 0.5, 1]\n",
    "}\n",
    "gs = GridSearchCV(model, params)\n",
    "gs.fit(X_train, y_train)\n",
    "print('Best parameter: ', gs.best_params_)"
   ]
  },
  {
   "cell_type": "markdown",
   "metadata": {
    "id": "G3ZoWCHV6JEC"
   },
   "source": [
    "GradientBoost with best parameters\n"
   ]
  },
  {
   "cell_type": "code",
   "execution_count": null,
   "metadata": {
    "colab": {
     "base_uri": "https://localhost:8080/"
    },
    "id": "54qmmUFKt8JC",
    "outputId": "c02c5aa9-81e6-4a23-cbd5-dd76259618f4"
   },
   "outputs": [],
   "source": [
    "gbc = GradientBoostingClassifier(learning_rate=0.001, n_estimators=1)\n",
    "gbc.fit(X_train, y_train)\n",
    "y_pred = gbc.predict(X_test)\n",
    "accuracy_score(y_test, y_pred)"
   ]
  },
  {
   "cell_type": "code",
   "execution_count": null,
   "metadata": {},
   "outputs": [],
   "source": [
    "print(classification_report(y_test, y_pred))"
   ]
  },
  {
   "cell_type": "code",
   "execution_count": null,
   "metadata": {},
   "outputs": [],
   "source": [
    "hasil = gbc.predict(datatest)"
   ]
  },
  {
   "cell_type": "markdown",
   "metadata": {
    "id": "gJ6dKHscAv04"
   },
   "source": [
    "# Summary"
   ]
  },
  {
   "cell_type": "markdown",
   "metadata": {
    "id": "f-H1hAB2Axop"
   },
   "source": [
    "Dengan hasil diatas maka dapat diambil kesimpulan bahwa 81.5% data dapat dijelaskan oleh model Adaboost Classifier dan 80% data dapat dijelaskan oleh model GradientBoost Classifier. Sisanya merupakan error atau pengaruh lainnya."
   ]
  }
 ],
 "metadata": {
  "colab": {
   "collapsed_sections": [],
   "name": "AdaBoost_GradientBoost.ipynb",
   "provenance": []
  },
  "kernelspec": {
   "display_name": "Python 3 (ipykernel)",
   "language": "python",
   "name": "python3"
  },
  "language_info": {
   "codemirror_mode": {
    "name": "ipython",
    "version": 3
   },
   "file_extension": ".py",
   "mimetype": "text/x-python",
   "name": "python",
   "nbconvert_exporter": "python",
   "pygments_lexer": "ipython3",
   "version": "3.8.8"
  }
 },
 "nbformat": 4,
 "nbformat_minor": 1
}
